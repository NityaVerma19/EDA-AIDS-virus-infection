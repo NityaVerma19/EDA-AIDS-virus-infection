{
 "cells": [
  {
   "cell_type": "code",
   "execution_count": 1,
   "id": "b765aba0",
   "metadata": {
    "_cell_guid": "b1076dfc-b9ad-4769-8c92-a6c4dae69d19",
    "_uuid": "8f2839f25d086af736a60e9eeb907d3b93b6e0e5",
    "execution": {
     "iopub.execute_input": "2024-05-27T15:48:34.905231Z",
     "iopub.status.busy": "2024-05-27T15:48:34.904736Z",
     "iopub.status.idle": "2024-05-27T15:48:36.015592Z",
     "shell.execute_reply": "2024-05-27T15:48:36.014205Z"
    },
    "papermill": {
     "duration": 1.119662,
     "end_time": "2024-05-27T15:48:36.019017",
     "exception": false,
     "start_time": "2024-05-27T15:48:34.899355",
     "status": "completed"
    },
    "tags": []
   },
   "outputs": [
    {
     "name": "stdout",
     "output_type": "stream",
     "text": [
      "/kaggle/input/aids-virus-infection-prediction/AIDS_Classification_15000.csv\n",
      "/kaggle/input/aids-virus-infection-prediction/AIDS_Classification_50000.csv\n",
      "/kaggle/input/aids-virus-infection-prediction/AIDS_Classification.csv\n",
      "/kaggle/input/aids-virus-infection-prediction/AIDS_Classification_5000.csv\n"
     ]
    }
   ],
   "source": [
    "# This Python 3 environment comes with many helpful analytics libraries installed\n",
    "# It is defined by the kaggle/python Docker image: https://github.com/kaggle/docker-python\n",
    "# For example, here's several helpful packages to load\n",
    "\n",
    "import numpy as np # linear algebra\n",
    "import pandas as pd # data processing, CSV file I/O (e.g. pd.read_csv)\n",
    "\n",
    "# Input data files are available in the read-only \"../input/\" directory\n",
    "# For example, running this (by clicking run or pressing Shift+Enter) will list all files under the input directory\n",
    "\n",
    "import os\n",
    "for dirname, _, filenames in os.walk('/kaggle/input'):\n",
    "    for filename in filenames:\n",
    "        print(os.path.join(dirname, filename))\n",
    "\n",
    "# You can write up to 20GB to the current directory (/kaggle/working/) that gets preserved as output when you create a version using \"Save & Run All\" \n",
    "# You can also write temporary files to /kaggle/temp/, but they won't be saved outside of the current session"
   ]
  },
  {
   "cell_type": "code",
   "execution_count": 2,
   "id": "bd1096ee",
   "metadata": {
    "execution": {
     "iopub.execute_input": "2024-05-27T15:48:36.028903Z",
     "iopub.status.busy": "2024-05-27T15:48:36.027955Z",
     "iopub.status.idle": "2024-05-27T15:48:36.115234Z",
     "shell.execute_reply": "2024-05-27T15:48:36.114330Z"
    },
    "papermill": {
     "duration": 0.095153,
     "end_time": "2024-05-27T15:48:36.117888",
     "exception": false,
     "start_time": "2024-05-27T15:48:36.022735",
     "status": "completed"
    },
    "tags": []
   },
   "outputs": [],
   "source": [
    "df = pd.read_csv(\"/kaggle/input/aids-virus-infection-prediction/AIDS_Classification_15000.csv\")"
   ]
  },
  {
   "cell_type": "code",
   "execution_count": 3,
   "id": "5cf9207e",
   "metadata": {
    "execution": {
     "iopub.execute_input": "2024-05-27T15:48:36.126898Z",
     "iopub.status.busy": "2024-05-27T15:48:36.126149Z",
     "iopub.status.idle": "2024-05-27T15:48:36.170406Z",
     "shell.execute_reply": "2024-05-27T15:48:36.168967Z"
    },
    "papermill": {
     "duration": 0.052626,
     "end_time": "2024-05-27T15:48:36.173887",
     "exception": false,
     "start_time": "2024-05-27T15:48:36.121261",
     "status": "completed"
    },
    "tags": []
   },
   "outputs": [
    {
     "data": {
      "text/html": [
       "<div>\n",
       "<style scoped>\n",
       "    .dataframe tbody tr th:only-of-type {\n",
       "        vertical-align: middle;\n",
       "    }\n",
       "\n",
       "    .dataframe tbody tr th {\n",
       "        vertical-align: top;\n",
       "    }\n",
       "\n",
       "    .dataframe thead th {\n",
       "        text-align: right;\n",
       "    }\n",
       "</style>\n",
       "<table border=\"1\" class=\"dataframe\">\n",
       "  <thead>\n",
       "    <tr style=\"text-align: right;\">\n",
       "      <th></th>\n",
       "      <th>time</th>\n",
       "      <th>trt</th>\n",
       "      <th>age</th>\n",
       "      <th>wtkg</th>\n",
       "      <th>hemo</th>\n",
       "      <th>homo</th>\n",
       "      <th>drugs</th>\n",
       "      <th>karnof</th>\n",
       "      <th>oprior</th>\n",
       "      <th>z30</th>\n",
       "      <th>...</th>\n",
       "      <th>str2</th>\n",
       "      <th>strat</th>\n",
       "      <th>symptom</th>\n",
       "      <th>treat</th>\n",
       "      <th>offtrt</th>\n",
       "      <th>cd40</th>\n",
       "      <th>cd420</th>\n",
       "      <th>cd80</th>\n",
       "      <th>cd820</th>\n",
       "      <th>infected</th>\n",
       "    </tr>\n",
       "  </thead>\n",
       "  <tbody>\n",
       "    <tr>\n",
       "      <th>0</th>\n",
       "      <td>1108</td>\n",
       "      <td>1</td>\n",
       "      <td>37</td>\n",
       "      <td>88.11364</td>\n",
       "      <td>0</td>\n",
       "      <td>1</td>\n",
       "      <td>1</td>\n",
       "      <td>100</td>\n",
       "      <td>0</td>\n",
       "      <td>1</td>\n",
       "      <td>...</td>\n",
       "      <td>1</td>\n",
       "      <td>1</td>\n",
       "      <td>0</td>\n",
       "      <td>0</td>\n",
       "      <td>0</td>\n",
       "      <td>389</td>\n",
       "      <td>320</td>\n",
       "      <td>734</td>\n",
       "      <td>737</td>\n",
       "      <td>1</td>\n",
       "    </tr>\n",
       "    <tr>\n",
       "      <th>1</th>\n",
       "      <td>1079</td>\n",
       "      <td>0</td>\n",
       "      <td>43</td>\n",
       "      <td>66.77075</td>\n",
       "      <td>0</td>\n",
       "      <td>0</td>\n",
       "      <td>0</td>\n",
       "      <td>100</td>\n",
       "      <td>0</td>\n",
       "      <td>1</td>\n",
       "      <td>...</td>\n",
       "      <td>0</td>\n",
       "      <td>2</td>\n",
       "      <td>0</td>\n",
       "      <td>1</td>\n",
       "      <td>1</td>\n",
       "      <td>318</td>\n",
       "      <td>432</td>\n",
       "      <td>912</td>\n",
       "      <td>1213</td>\n",
       "      <td>0</td>\n",
       "    </tr>\n",
       "    <tr>\n",
       "      <th>2</th>\n",
       "      <td>492</td>\n",
       "      <td>1</td>\n",
       "      <td>34</td>\n",
       "      <td>82.91725</td>\n",
       "      <td>0</td>\n",
       "      <td>0</td>\n",
       "      <td>0</td>\n",
       "      <td>90</td>\n",
       "      <td>0</td>\n",
       "      <td>1</td>\n",
       "      <td>...</td>\n",
       "      <td>1</td>\n",
       "      <td>2</td>\n",
       "      <td>0</td>\n",
       "      <td>1</td>\n",
       "      <td>1</td>\n",
       "      <td>326</td>\n",
       "      <td>524</td>\n",
       "      <td>660</td>\n",
       "      <td>835</td>\n",
       "      <td>0</td>\n",
       "    </tr>\n",
       "    <tr>\n",
       "      <th>3</th>\n",
       "      <td>1191</td>\n",
       "      <td>1</td>\n",
       "      <td>41</td>\n",
       "      <td>98.91817</td>\n",
       "      <td>0</td>\n",
       "      <td>0</td>\n",
       "      <td>0</td>\n",
       "      <td>81</td>\n",
       "      <td>0</td>\n",
       "      <td>1</td>\n",
       "      <td>...</td>\n",
       "      <td>1</td>\n",
       "      <td>3</td>\n",
       "      <td>0</td>\n",
       "      <td>1</td>\n",
       "      <td>0</td>\n",
       "      <td>318</td>\n",
       "      <td>232</td>\n",
       "      <td>1131</td>\n",
       "      <td>982</td>\n",
       "      <td>1</td>\n",
       "    </tr>\n",
       "    <tr>\n",
       "      <th>4</th>\n",
       "      <td>1141</td>\n",
       "      <td>3</td>\n",
       "      <td>47</td>\n",
       "      <td>53.61717</td>\n",
       "      <td>0</td>\n",
       "      <td>1</td>\n",
       "      <td>0</td>\n",
       "      <td>100</td>\n",
       "      <td>0</td>\n",
       "      <td>0</td>\n",
       "      <td>...</td>\n",
       "      <td>0</td>\n",
       "      <td>1</td>\n",
       "      <td>0</td>\n",
       "      <td>1</td>\n",
       "      <td>0</td>\n",
       "      <td>280</td>\n",
       "      <td>337</td>\n",
       "      <td>515</td>\n",
       "      <td>679</td>\n",
       "      <td>0</td>\n",
       "    </tr>\n",
       "  </tbody>\n",
       "</table>\n",
       "<p>5 rows × 23 columns</p>\n",
       "</div>"
      ],
      "text/plain": [
       "   time  trt  age      wtkg  hemo  homo  drugs  karnof  oprior  z30  ...  \\\n",
       "0  1108    1   37  88.11364     0     1      1     100       0    1  ...   \n",
       "1  1079    0   43  66.77075     0     0      0     100       0    1  ...   \n",
       "2   492    1   34  82.91725     0     0      0      90       0    1  ...   \n",
       "3  1191    1   41  98.91817     0     0      0      81       0    1  ...   \n",
       "4  1141    3   47  53.61717     0     1      0     100       0    0  ...   \n",
       "\n",
       "   str2  strat  symptom  treat  offtrt  cd40  cd420  cd80  cd820  infected  \n",
       "0     1      1        0      0       0   389    320   734    737         1  \n",
       "1     0      2        0      1       1   318    432   912   1213         0  \n",
       "2     1      2        0      1       1   326    524   660    835         0  \n",
       "3     1      3        0      1       0   318    232  1131    982         1  \n",
       "4     0      1        0      1       0   280    337   515    679         0  \n",
       "\n",
       "[5 rows x 23 columns]"
      ]
     },
     "execution_count": 3,
     "metadata": {},
     "output_type": "execute_result"
    }
   ],
   "source": [
    "df.head()"
   ]
  },
  {
   "cell_type": "code",
   "execution_count": 4,
   "id": "1f482316",
   "metadata": {
    "execution": {
     "iopub.execute_input": "2024-05-27T15:48:36.184778Z",
     "iopub.status.busy": "2024-05-27T15:48:36.183622Z",
     "iopub.status.idle": "2024-05-27T15:48:36.199499Z",
     "shell.execute_reply": "2024-05-27T15:48:36.198587Z"
    },
    "papermill": {
     "duration": 0.024174,
     "end_time": "2024-05-27T15:48:36.202247",
     "exception": false,
     "start_time": "2024-05-27T15:48:36.178073",
     "status": "completed"
    },
    "tags": []
   },
   "outputs": [
    {
     "data": {
      "text/plain": [
       "time        0\n",
       "trt         0\n",
       "age         0\n",
       "wtkg        0\n",
       "hemo        0\n",
       "homo        0\n",
       "drugs       0\n",
       "karnof      0\n",
       "oprior      0\n",
       "z30         0\n",
       "preanti     0\n",
       "race        0\n",
       "gender      0\n",
       "str2        0\n",
       "strat       0\n",
       "symptom     0\n",
       "treat       0\n",
       "offtrt      0\n",
       "cd40        0\n",
       "cd420       0\n",
       "cd80        0\n",
       "cd820       0\n",
       "infected    0\n",
       "dtype: int64"
      ]
     },
     "execution_count": 4,
     "metadata": {},
     "output_type": "execute_result"
    }
   ],
   "source": [
    "df.isnull().sum()"
   ]
  },
  {
   "cell_type": "markdown",
   "id": "9b9adf88",
   "metadata": {
    "papermill": {
     "duration": 0.00506,
     "end_time": "2024-05-27T15:48:36.212783",
     "exception": false,
     "start_time": "2024-05-27T15:48:36.207723",
     "status": "completed"
    },
    "tags": []
   },
   "source": [
    "## <div>Univariate Analysis<\\div>"
   ]
  },
  {
   "cell_type": "code",
   "execution_count": 5,
   "id": "ce0f51da",
   "metadata": {
    "execution": {
     "iopub.execute_input": "2024-05-27T15:48:36.225278Z",
     "iopub.status.busy": "2024-05-27T15:48:36.223477Z",
     "iopub.status.idle": "2024-05-27T15:48:36.240347Z",
     "shell.execute_reply": "2024-05-27T15:48:36.239138Z"
    },
    "papermill": {
     "duration": 0.025267,
     "end_time": "2024-05-27T15:48:36.243110",
     "exception": false,
     "start_time": "2024-05-27T15:48:36.217843",
     "status": "completed"
    },
    "tags": []
   },
   "outputs": [
    {
     "data": {
      "text/plain": [
       "trt\n",
       "0    5550\n",
       "3    4149\n",
       "2    3182\n",
       "1    2119\n",
       "Name: count, dtype: int64"
      ]
     },
     "execution_count": 5,
     "metadata": {},
     "output_type": "execute_result"
    }
   ],
   "source": [
    "df['trt'].value_counts()"
   ]
  }
 ],
 "metadata": {
  "kaggle": {
   "accelerator": "none",
   "dataSources": [
    {
     "datasetId": 4890913,
     "sourceId": 8249624,
     "sourceType": "datasetVersion"
    }
   ],
   "dockerImageVersionId": 30698,
   "isGpuEnabled": false,
   "isInternetEnabled": true,
   "language": "python",
   "sourceType": "notebook"
  },
  "kernelspec": {
   "display_name": "Python 3",
   "language": "python",
   "name": "python3"
  },
  "language_info": {
   "codemirror_mode": {
    "name": "ipython",
    "version": 3
   },
   "file_extension": ".py",
   "mimetype": "text/x-python",
   "name": "python",
   "nbconvert_exporter": "python",
   "pygments_lexer": "ipython3",
   "version": "3.10.13"
  },
  "papermill": {
   "default_parameters": {},
   "duration": 5.061892,
   "end_time": "2024-05-27T15:48:36.771070",
   "environment_variables": {},
   "exception": null,
   "input_path": "__notebook__.ipynb",
   "output_path": "__notebook__.ipynb",
   "parameters": {},
   "start_time": "2024-05-27T15:48:31.709178",
   "version": "2.5.0"
  }
 },
 "nbformat": 4,
 "nbformat_minor": 5
}
