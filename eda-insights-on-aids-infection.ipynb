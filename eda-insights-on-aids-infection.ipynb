{
 "cells": [
  {
   "cell_type": "markdown",
   "id": "a1d691e9",
   "metadata": {
    "papermill": {
     "duration": 0.0177,
     "end_time": "2024-05-29T06:42:31.113130",
     "exception": false,
     "start_time": "2024-05-29T06:42:31.095430",
     "status": "completed"
    },
    "tags": []
   },
   "source": [
    "## <div style=\"text-align: center;  font-family: Tahoma; padding: 14px; line-height: 1;font-size : 30px\"> <b> AIDS VIRUS INFECTION : EDA</b></div>"
   ]
  },
  {
   "cell_type": "markdown",
   "id": "a553de61",
   "metadata": {
    "papermill": {
     "duration": 0.018099,
     "end_time": "2024-05-29T06:42:31.148118",
     "exception": false,
     "start_time": "2024-05-29T06:42:31.130019",
     "status": "completed"
    },
    "tags": []
   },
   "source": [
    "![aids.jpg](https://media.post.rvohealth.io/wp-content/uploads/sites/3/2020/10/HIV_AIDS_GettyImages1178747427_Thumb-732x549.jpg)"
   ]
  },
  {
   "cell_type": "markdown",
   "id": "2e9c187f",
   "metadata": {
    "papermill": {
     "duration": 0.016682,
     "end_time": "2024-05-29T06:42:31.182629",
     "exception": false,
     "start_time": "2024-05-29T06:42:31.165947",
     "status": "completed"
    },
    "tags": []
   },
   "source": [
    "<p style=\"font-size: 18px;\"><b>Purpose</b></p>\n",
    "\n",
    "The primary aim of performing Exploratory Data Analysis (EDA) on an AIDS virus infection dataset is to gain insights into the patterns, trends, and characteristics of the spread of the virus. EDA allows researchers, public health officials, and policymakers to understand the dynamics of AIDS virus transmission, identify high-risk populations or regions, and assess the effectiveness of prevention and treatment efforts. By exploring the data through techniques such as visualization, summary statistics, and hypothesis testing, EDA helps in uncovering important relationships between variables such as demographics, risk behaviors, and disease outcomes. Furthermore, EDA plays a critical role in detecting anomalies or outliers in the data, which may indicate areas of concern or areas requiring further investigation. Ultimately, the insights gained from EDA inform evidence-based decision-making, resource allocation, and intervention strategies aimed at mitigating the impact of AIDS virus infection on individuals and communities."
   ]
  },
  {
   "cell_type": "markdown",
   "id": "8b42844e",
   "metadata": {
    "papermill": {
     "duration": 0.01697,
     "end_time": "2024-05-29T06:42:31.216733",
     "exception": false,
     "start_time": "2024-05-29T06:42:31.199763",
     "status": "completed"
    },
    "tags": []
   },
   "source": [
    "## Importing libraries"
   ]
  },
  {
   "cell_type": "code",
   "execution_count": 1,
   "id": "a0e466db",
   "metadata": {
    "_cell_guid": "b1076dfc-b9ad-4769-8c92-a6c4dae69d19",
    "_uuid": "8f2839f25d086af736a60e9eeb907d3b93b6e0e5",
    "execution": {
     "iopub.execute_input": "2024-05-29T06:42:31.251618Z",
     "iopub.status.busy": "2024-05-29T06:42:31.251247Z",
     "iopub.status.idle": "2024-05-29T06:42:32.260267Z",
     "shell.execute_reply": "2024-05-29T06:42:32.258992Z"
    },
    "papermill": {
     "duration": 1.030004,
     "end_time": "2024-05-29T06:42:32.262869",
     "exception": false,
     "start_time": "2024-05-29T06:42:31.232865",
     "status": "completed"
    },
    "tags": []
   },
   "outputs": [
    {
     "name": "stdout",
     "output_type": "stream",
     "text": [
      "/kaggle/input/aids-virus-infection-prediction/AIDS_Classification_15000.csv\n",
      "/kaggle/input/aids-virus-infection-prediction/AIDS_Classification_50000.csv\n",
      "/kaggle/input/aids-virus-infection-prediction/AIDS_Classification.csv\n",
      "/kaggle/input/aids-virus-infection-prediction/AIDS_Classification_5000.csv\n"
     ]
    }
   ],
   "source": [
    "# This Python 3 environment comes with many helpful analytics libraries installed\n",
    "# It is defined by the kaggle/python Docker image: https://github.com/kaggle/docker-python\n",
    "# For example, here's several helpful packages to load\n",
    "\n",
    "import numpy as np # linear algebra\n",
    "import pandas as pd # data processing, CSV file I/O (e.g. pd.read_csv)\n",
    "import plotly.graph_objects as go\n",
    "import colorlover as cl\n",
    "# Input data files are available in the read-only \"../input/\" directory\n",
    "# For example, running this (by clicking run or pressing Shift+Enter) will list all files under the input directory\n",
    "\n",
    "import os\n",
    "for dirname, _, filenames in os.walk('/kaggle/input'):\n",
    "    for filename in filenames:\n",
    "        print(os.path.join(dirname, filename))\n",
    "\n",
    "# You can write up to 20GB to the current directory (/kaggle/working/) that gets preserved as output when you create a version using \"Save & Run All\" \n",
    "# You can also write temporary files to /kaggle/temp/, but they won't be saved outside of the current session"
   ]
  },
  {
   "cell_type": "code",
   "execution_count": 2,
   "id": "f567c07a",
   "metadata": {
    "execution": {
     "iopub.execute_input": "2024-05-29T06:42:32.297747Z",
     "iopub.status.busy": "2024-05-29T06:42:32.297265Z",
     "iopub.status.idle": "2024-05-29T06:42:49.321372Z",
     "shell.execute_reply": "2024-05-29T06:42:49.320169Z"
    },
    "papermill": {
     "duration": 17.044509,
     "end_time": "2024-05-29T06:42:49.324022",
     "exception": false,
     "start_time": "2024-05-29T06:42:32.279513",
     "status": "completed"
    },
    "tags": []
   },
   "outputs": [
    {
     "name": "stdout",
     "output_type": "stream",
     "text": [
      "Collecting kaleido\r\n",
      "  Downloading kaleido-0.2.1-py2.py3-none-manylinux1_x86_64.whl.metadata (15 kB)\r\n",
      "Downloading kaleido-0.2.1-py2.py3-none-manylinux1_x86_64.whl (79.9 MB)\r\n",
      "\u001b[2K   \u001b[90m━━━━━━━━━━━━━━━━━━━━━━━━━━━━━━━━━━━━━━━━\u001b[0m \u001b[32m79.9/79.9 MB\u001b[0m \u001b[31m18.6 MB/s\u001b[0m eta \u001b[36m0:00:00\u001b[0m\r\n",
      "\u001b[?25hInstalling collected packages: kaleido\r\n",
      "Successfully installed kaleido-0.2.1\r\n"
     ]
    }
   ],
   "source": [
    "! pip install -U kaleido"
   ]
  },
  {
   "cell_type": "code",
   "execution_count": 3,
   "id": "1968fb92",
   "metadata": {
    "execution": {
     "iopub.execute_input": "2024-05-29T06:42:49.363885Z",
     "iopub.status.busy": "2024-05-29T06:42:49.363431Z",
     "iopub.status.idle": "2024-05-29T06:42:49.431946Z",
     "shell.execute_reply": "2024-05-29T06:42:49.430814Z"
    },
    "papermill": {
     "duration": 0.091556,
     "end_time": "2024-05-29T06:42:49.434575",
     "exception": false,
     "start_time": "2024-05-29T06:42:49.343019",
     "status": "completed"
    },
    "tags": []
   },
   "outputs": [],
   "source": [
    "df = pd.read_csv(\"/kaggle/input/aids-virus-infection-prediction/AIDS_Classification_15000.csv\")"
   ]
  },
  {
   "cell_type": "code",
   "execution_count": 4,
   "id": "87ff601b",
   "metadata": {
    "execution": {
     "iopub.execute_input": "2024-05-29T06:42:49.473646Z",
     "iopub.status.busy": "2024-05-29T06:42:49.472855Z",
     "iopub.status.idle": "2024-05-29T06:42:49.511957Z",
     "shell.execute_reply": "2024-05-29T06:42:49.510714Z"
    },
    "papermill": {
     "duration": 0.061671,
     "end_time": "2024-05-29T06:42:49.514663",
     "exception": false,
     "start_time": "2024-05-29T06:42:49.452992",
     "status": "completed"
    },
    "tags": []
   },
   "outputs": [
    {
     "data": {
      "text/html": [
       "<div>\n",
       "<style scoped>\n",
       "    .dataframe tbody tr th:only-of-type {\n",
       "        vertical-align: middle;\n",
       "    }\n",
       "\n",
       "    .dataframe tbody tr th {\n",
       "        vertical-align: top;\n",
       "    }\n",
       "\n",
       "    .dataframe thead th {\n",
       "        text-align: right;\n",
       "    }\n",
       "</style>\n",
       "<table border=\"1\" class=\"dataframe\">\n",
       "  <thead>\n",
       "    <tr style=\"text-align: right;\">\n",
       "      <th></th>\n",
       "      <th>time</th>\n",
       "      <th>trt</th>\n",
       "      <th>age</th>\n",
       "      <th>wtkg</th>\n",
       "      <th>hemo</th>\n",
       "      <th>homo</th>\n",
       "      <th>drugs</th>\n",
       "      <th>karnof</th>\n",
       "      <th>oprior</th>\n",
       "      <th>z30</th>\n",
       "      <th>...</th>\n",
       "      <th>str2</th>\n",
       "      <th>strat</th>\n",
       "      <th>symptom</th>\n",
       "      <th>treat</th>\n",
       "      <th>offtrt</th>\n",
       "      <th>cd40</th>\n",
       "      <th>cd420</th>\n",
       "      <th>cd80</th>\n",
       "      <th>cd820</th>\n",
       "      <th>infected</th>\n",
       "    </tr>\n",
       "  </thead>\n",
       "  <tbody>\n",
       "    <tr>\n",
       "      <th>0</th>\n",
       "      <td>1108</td>\n",
       "      <td>1</td>\n",
       "      <td>37</td>\n",
       "      <td>88.11364</td>\n",
       "      <td>0</td>\n",
       "      <td>1</td>\n",
       "      <td>1</td>\n",
       "      <td>100</td>\n",
       "      <td>0</td>\n",
       "      <td>1</td>\n",
       "      <td>...</td>\n",
       "      <td>1</td>\n",
       "      <td>1</td>\n",
       "      <td>0</td>\n",
       "      <td>0</td>\n",
       "      <td>0</td>\n",
       "      <td>389</td>\n",
       "      <td>320</td>\n",
       "      <td>734</td>\n",
       "      <td>737</td>\n",
       "      <td>1</td>\n",
       "    </tr>\n",
       "    <tr>\n",
       "      <th>1</th>\n",
       "      <td>1079</td>\n",
       "      <td>0</td>\n",
       "      <td>43</td>\n",
       "      <td>66.77075</td>\n",
       "      <td>0</td>\n",
       "      <td>0</td>\n",
       "      <td>0</td>\n",
       "      <td>100</td>\n",
       "      <td>0</td>\n",
       "      <td>1</td>\n",
       "      <td>...</td>\n",
       "      <td>0</td>\n",
       "      <td>2</td>\n",
       "      <td>0</td>\n",
       "      <td>1</td>\n",
       "      <td>1</td>\n",
       "      <td>318</td>\n",
       "      <td>432</td>\n",
       "      <td>912</td>\n",
       "      <td>1213</td>\n",
       "      <td>0</td>\n",
       "    </tr>\n",
       "    <tr>\n",
       "      <th>2</th>\n",
       "      <td>492</td>\n",
       "      <td>1</td>\n",
       "      <td>34</td>\n",
       "      <td>82.91725</td>\n",
       "      <td>0</td>\n",
       "      <td>0</td>\n",
       "      <td>0</td>\n",
       "      <td>90</td>\n",
       "      <td>0</td>\n",
       "      <td>1</td>\n",
       "      <td>...</td>\n",
       "      <td>1</td>\n",
       "      <td>2</td>\n",
       "      <td>0</td>\n",
       "      <td>1</td>\n",
       "      <td>1</td>\n",
       "      <td>326</td>\n",
       "      <td>524</td>\n",
       "      <td>660</td>\n",
       "      <td>835</td>\n",
       "      <td>0</td>\n",
       "    </tr>\n",
       "    <tr>\n",
       "      <th>3</th>\n",
       "      <td>1191</td>\n",
       "      <td>1</td>\n",
       "      <td>41</td>\n",
       "      <td>98.91817</td>\n",
       "      <td>0</td>\n",
       "      <td>0</td>\n",
       "      <td>0</td>\n",
       "      <td>81</td>\n",
       "      <td>0</td>\n",
       "      <td>1</td>\n",
       "      <td>...</td>\n",
       "      <td>1</td>\n",
       "      <td>3</td>\n",
       "      <td>0</td>\n",
       "      <td>1</td>\n",
       "      <td>0</td>\n",
       "      <td>318</td>\n",
       "      <td>232</td>\n",
       "      <td>1131</td>\n",
       "      <td>982</td>\n",
       "      <td>1</td>\n",
       "    </tr>\n",
       "    <tr>\n",
       "      <th>4</th>\n",
       "      <td>1141</td>\n",
       "      <td>3</td>\n",
       "      <td>47</td>\n",
       "      <td>53.61717</td>\n",
       "      <td>0</td>\n",
       "      <td>1</td>\n",
       "      <td>0</td>\n",
       "      <td>100</td>\n",
       "      <td>0</td>\n",
       "      <td>0</td>\n",
       "      <td>...</td>\n",
       "      <td>0</td>\n",
       "      <td>1</td>\n",
       "      <td>0</td>\n",
       "      <td>1</td>\n",
       "      <td>0</td>\n",
       "      <td>280</td>\n",
       "      <td>337</td>\n",
       "      <td>515</td>\n",
       "      <td>679</td>\n",
       "      <td>0</td>\n",
       "    </tr>\n",
       "  </tbody>\n",
       "</table>\n",
       "<p>5 rows × 23 columns</p>\n",
       "</div>"
      ],
      "text/plain": [
       "   time  trt  age      wtkg  hemo  homo  drugs  karnof  oprior  z30  ...  \\\n",
       "0  1108    1   37  88.11364     0     1      1     100       0    1  ...   \n",
       "1  1079    0   43  66.77075     0     0      0     100       0    1  ...   \n",
       "2   492    1   34  82.91725     0     0      0      90       0    1  ...   \n",
       "3  1191    1   41  98.91817     0     0      0      81       0    1  ...   \n",
       "4  1141    3   47  53.61717     0     1      0     100       0    0  ...   \n",
       "\n",
       "   str2  strat  symptom  treat  offtrt  cd40  cd420  cd80  cd820  infected  \n",
       "0     1      1        0      0       0   389    320   734    737         1  \n",
       "1     0      2        0      1       1   318    432   912   1213         0  \n",
       "2     1      2        0      1       1   326    524   660    835         0  \n",
       "3     1      3        0      1       0   318    232  1131    982         1  \n",
       "4     0      1        0      1       0   280    337   515    679         0  \n",
       "\n",
       "[5 rows x 23 columns]"
      ]
     },
     "execution_count": 4,
     "metadata": {},
     "output_type": "execute_result"
    }
   ],
   "source": [
    "df.head()"
   ]
  },
  {
   "cell_type": "code",
   "execution_count": 5,
   "id": "2104fdd5",
   "metadata": {
    "execution": {
     "iopub.execute_input": "2024-05-29T06:42:49.553783Z",
     "iopub.status.busy": "2024-05-29T06:42:49.553410Z",
     "iopub.status.idle": "2024-05-29T06:42:49.563048Z",
     "shell.execute_reply": "2024-05-29T06:42:49.561869Z"
    },
    "papermill": {
     "duration": 0.031844,
     "end_time": "2024-05-29T06:42:49.565553",
     "exception": false,
     "start_time": "2024-05-29T06:42:49.533709",
     "status": "completed"
    },
    "tags": []
   },
   "outputs": [
    {
     "data": {
      "text/plain": [
       "time        0\n",
       "trt         0\n",
       "age         0\n",
       "wtkg        0\n",
       "hemo        0\n",
       "homo        0\n",
       "drugs       0\n",
       "karnof      0\n",
       "oprior      0\n",
       "z30         0\n",
       "preanti     0\n",
       "race        0\n",
       "gender      0\n",
       "str2        0\n",
       "strat       0\n",
       "symptom     0\n",
       "treat       0\n",
       "offtrt      0\n",
       "cd40        0\n",
       "cd420       0\n",
       "cd80        0\n",
       "cd820       0\n",
       "infected    0\n",
       "dtype: int64"
      ]
     },
     "execution_count": 5,
     "metadata": {},
     "output_type": "execute_result"
    }
   ],
   "source": [
    "df.isnull().sum()"
   ]
  },
  {
   "cell_type": "markdown",
   "id": "3d8dc26c",
   "metadata": {
    "papermill": {
     "duration": 0.019198,
     "end_time": "2024-05-29T06:42:49.603965",
     "exception": false,
     "start_time": "2024-05-29T06:42:49.584767",
     "status": "completed"
    },
    "tags": []
   },
   "source": [
    "## <div style=\"text-align: center\"> <b>UNIVARIATE ANALYSIS</b></div>"
   ]
  },
  {
   "cell_type": "markdown",
   "id": "408c5e98",
   "metadata": {
    "papermill": {
     "duration": 0.018681,
     "end_time": "2024-05-29T06:42:49.642181",
     "exception": false,
     "start_time": "2024-05-29T06:42:49.623500",
     "status": "completed"
    },
    "tags": []
   },
   "source": [
    "## trt: Treatment Indicator\n",
    "\n",
    "***About***\n",
    "<div>\n",
    "    <p>\n",
    "        The treatment indicator provides information about the type of antiretroviral treatment regimen patients in the dataset are receiving:\n",
    "    </p>\n",
    "    <ul>\n",
    "        <li>0 = ZDV only\n",
    "            <ul>\n",
    "                <li>Patients with this indicator are being treated only with Zidovudine (ZDV), also known as AZT.</li>\n",
    "            </ul>\n",
    "        </li>\n",
    "        <li>1 = ZDV + ddI\n",
    "            <ul>\n",
    "                <li>Patients with this indicator are being treated with a combination of Zidovudine (ZDV) and Didanosine (ddI). The combination therapy is often used to enhance the efficacy of treatment by using drugs with different mechanisms of action.</li>\n",
    "            </ul>\n",
    "        </li>\n",
    "        <li>2 = ZDV + Zal\n",
    "            <ul>\n",
    "                <li>Patients with this indicator are being treated with a combination of Zidovudine (ZDV) and Zalcitabine (Zal). The combination of ZDV and Zal is another strategy to improve treatment effectiveness and delay the progression of the disease.</li>\n",
    "            </ul>\n",
    "        </li>\n",
    "        <li>3 = ddI only\n",
    "            <ul>\n",
    "                <li>Patients with this indicator are being treated only with Didanosine (ddI). This might be an alternative regimen for patients who cannot tolerate ZDV or for whom ZDV is not effective.</li>\n",
    "            </ul>\n",
    "        </li>\n",
    "    </ul>\n",
    "</div>\n",
    "\n",
    "\n",
    "***Conclusions***"
   ]
  },
  {
   "cell_type": "code",
   "execution_count": 6,
   "id": "a01682e2",
   "metadata": {
    "execution": {
     "iopub.execute_input": "2024-05-29T06:42:49.682261Z",
     "iopub.status.busy": "2024-05-29T06:42:49.681872Z",
     "iopub.status.idle": "2024-05-29T06:42:49.695534Z",
     "shell.execute_reply": "2024-05-29T06:42:49.694232Z"
    },
    "papermill": {
     "duration": 0.036735,
     "end_time": "2024-05-29T06:42:49.697709",
     "exception": false,
     "start_time": "2024-05-29T06:42:49.660974",
     "status": "completed"
    },
    "tags": []
   },
   "outputs": [
    {
     "data": {
      "text/plain": [
       "trt\n",
       "0    5550\n",
       "3    4149\n",
       "2    3182\n",
       "1    2119\n",
       "Name: count, dtype: int64"
      ]
     },
     "execution_count": 6,
     "metadata": {},
     "output_type": "execute_result"
    }
   ],
   "source": [
    "df['trt'].value_counts()"
   ]
  },
  {
   "cell_type": "code",
   "execution_count": 7,
   "id": "ac29c054",
   "metadata": {
    "execution": {
     "iopub.execute_input": "2024-05-29T06:42:49.738066Z",
     "iopub.status.busy": "2024-05-29T06:42:49.737365Z",
     "iopub.status.idle": "2024-05-29T06:42:51.633986Z",
     "shell.execute_reply": "2024-05-29T06:42:51.633021Z"
    },
    "papermill": {
     "duration": 1.919633,
     "end_time": "2024-05-29T06:42:51.636214",
     "exception": false,
     "start_time": "2024-05-29T06:42:49.716581",
     "status": "completed"
    },
    "tags": []
   },
   "outputs": [
    {
     "data": {
      "image/svg+xml": [
       "<svg class=\"main-svg\" xmlns=\"http://www.w3.org/2000/svg\" xmlns:xlink=\"http://www.w3.org/1999/xlink\" width=\"1000\" height=\"500\" style=\"\" viewBox=\"0 0 1000 500\"><rect x=\"0\" y=\"0\" width=\"1000\" height=\"500\" style=\"fill: rgb(255, 255, 255); fill-opacity: 1;\"/><defs id=\"defs-7efae9\"><g class=\"clips\"/><g class=\"gradients\"/><g class=\"patterns\"/></defs><g class=\"bglayer\"/><g class=\"layer-below\"><g class=\"imagelayer\"/><g class=\"shapelayer\"/></g><g class=\"cartesianlayer\"/><g class=\"polarlayer\"/><g class=\"smithlayer\"/><g class=\"ternarylayer\"/><g class=\"geolayer\"/><g class=\"funnelarealayer\"/><g class=\"pielayer\"><g class=\"trace\" stroke-linejoin=\"round\" style=\"opacity: 1;\"><g class=\"slice\"><path class=\"surface\" d=\"M471.4436784291845,315.6564858387229a74,74 0 0 0 -53.94367842918447,-124.65648583872294l0,-111a185,185 0 0 1 134.85919607296117,311.64121459680734Z\" style=\"pointer-events: none; fill: rgb(142, 1, 82); fill-opacity: 1; stroke-width: 2; stroke: rgb(0, 0, 0); stroke-opacity: 1;\"/><g class=\"slicetext\"><text data-notex=\"1\" class=\"slicetext\" transform=\"translate(536.3492240260755,209.4677856627959)\" text-anchor=\"middle\" x=\"0\" y=\"0\" style=\"font-family: 'Open Sans', verdana, arial, sans-serif; font-size: 14px; fill: rgb(0, 0, 0); fill-opacity: 1; white-space: pre;\"><tspan class=\"line\" dy=\"0em\" x=\"0\" y=\"0\">0</tspan><tspan class=\"line\" dy=\"1.3em\" x=\"0\" y=\"0\">37%</tspan></text></g></g><g class=\"slice\"><path class=\"surface\" d=\"M417.5,191a74,74 0 0 0 -72.9688696807397,86.31032320921048l-109.45330452110956,18.465484813815706a185,185 0 0 1 182.42217420184926,-215.77580802302617Z\" style=\"pointer-events: none; fill: rgb(197, 27, 125); fill-opacity: 1; stroke-width: 2; stroke: rgb(0, 0, 0); stroke-opacity: 1;\"/><g class=\"slicetext\"><text data-notex=\"1\" class=\"slicetext\" transform=\"translate(318.6059228333483,177.29095277909516)\" text-anchor=\"middle\" x=\"0\" y=\"0\" style=\"font-family: 'Open Sans', verdana, arial, sans-serif; font-size: 14px; fill: rgb(0, 0, 0); fill-opacity: 1; white-space: pre;\"><tspan class=\"line\" dy=\"0em\" x=\"0\" y=\"0\">3</tspan><tspan class=\"line\" dy=\"1.3em\" x=\"0\" y=\"0\">27.7%</tspan></text></g></g><g class=\"slice\"><path class=\"surface\" d=\"M344.5311303192603,277.3103232092105a74,74 0 0 0 67.73474284011012,61.50433601384766l-7.851190260944385,110.7219888345872a185,185 0 0 1 -169.3368571002753,-153.76084003461915Z\" style=\"pointer-events: none; fill: rgb(222, 119, 174); fill-opacity: 1; stroke-width: 2; stroke: rgb(0, 0, 0); stroke-opacity: 1;\"/><g class=\"slicetext\"><text data-notex=\"1\" class=\"slicetext\" transform=\"translate(330.4452301836427,356.77188039333225)\" text-anchor=\"middle\" x=\"0\" y=\"0\" style=\"font-family: 'Open Sans', verdana, arial, sans-serif; font-size: 14px; fill: rgb(0, 0, 0); fill-opacity: 1; white-space: pre;\"><tspan class=\"line\" dy=\"0em\" x=\"0\" y=\"0\">2</tspan><tspan class=\"line\" dy=\"1.3em\" x=\"0\" y=\"0\">21.2%</tspan></text></g></g><g class=\"slice\"><path class=\"surface\" d=\"M412.2658731593704,338.81465922305813a74,74 0 0 0 59.177805269814044,-23.158173384335175l80.91551764377668,75.98472875808443a185,185 0 0 1 -147.9445131745351,57.895433460837936Z\" style=\"pointer-events: none; fill: rgb(241, 182, 218); fill-opacity: 1; stroke-width: 2; stroke: rgb(0, 0, 0); stroke-opacity: 1;\"/><g class=\"slicetext\"><text data-notex=\"1\" class=\"slicetext\" transform=\"translate(464.69261546980795,381.4932427161404)\" text-anchor=\"middle\" x=\"0\" y=\"0\" style=\"font-family: 'Open Sans', verdana, arial, sans-serif; font-size: 14px; fill: rgb(0, 0, 0); fill-opacity: 1; white-space: pre;\"><tspan class=\"line\" dy=\"0em\" x=\"0\" y=\"0\">1</tspan><tspan class=\"line\" dy=\"1.3em\" x=\"0\" y=\"0\">14.1%</tspan></text></g></g></g></g><g class=\"iciclelayer\"/><g class=\"treemaplayer\"/><g class=\"sunburstlayer\"/><g class=\"glimages\"/><defs id=\"topdefs-7efae9\"><g class=\"clips\"/><clipPath id=\"legend7efae9\"><rect width=\"349\" height=\"33\" x=\"0.5\" y=\"0.5\"/></clipPath></defs><g class=\"layer-above\"><g class=\"imagelayer\"/><g class=\"shapelayer\"/></g><g class=\"infolayer\"><g class=\"legend\" pointer-events=\"all\" transform=\"translate(638,265)\"><rect class=\"bg\" shape-rendering=\"crispEdges\" style=\"stroke: rgb(0, 0, 0); stroke-opacity: 1; fill: rgb(255, 255, 255); fill-opacity: 1; stroke-width: 0.5px;\" width=\"349.5\" height=\"33.5\" x=\"0.25\" y=\"0.25\"/><g class=\"scrollbox\" transform=\"\" clip-path=\"url(#legend7efae9)\"><text class=\"legendtitletext\" text-anchor=\"start\" x=\"2.5\" y=\"22.6\" style=\"font-family: Arial; font-size: 17px; fill: rgb(0, 0, 0); fill-opacity: 1; white-space: pre;\">Treatment Types</text><g class=\"groups\"><g class=\"traces\" transform=\"translate(137.421875,16.1)\" style=\"opacity: 1;\"><text class=\"legendtext\" text-anchor=\"start\" x=\"40\" y=\"5.46\" style=\"font-family: Arial; font-size: 14px; fill: rgb(0, 0, 0); fill-opacity: 1; white-space: pre;\">0</text><g class=\"layers\" style=\"opacity: 1;\"><g class=\"legendfill\"/><g class=\"legendlines\"/><g class=\"legendsymbols\"><g class=\"legendpoints\"><path class=\"legendpie\" d=\"M6,6H-6V-6H6Z\" transform=\"translate(20,0)\" style=\"fill: rgb(142, 1, 82); fill-opacity: 1; stroke-width: 2; stroke: rgb(0, 0, 0); stroke-opacity: 1;\"/></g></g></g><rect class=\"legendtoggle\" x=\"0\" y=\"-10.6\" width=\"50.5\" height=\"21.2\" style=\"fill: rgb(0, 0, 0); fill-opacity: 0;\"/></g><g class=\"traces\" transform=\"translate(190.421875,16.1)\" style=\"opacity: 1;\"><text class=\"legendtext\" text-anchor=\"start\" x=\"40\" y=\"5.46\" style=\"font-family: Arial; font-size: 14px; fill: rgb(0, 0, 0); fill-opacity: 1; white-space: pre;\">3</text><g class=\"layers\" style=\"opacity: 1;\"><g class=\"legendfill\"/><g class=\"legendlines\"/><g class=\"legendsymbols\"><g class=\"legendpoints\"><path class=\"legendpie\" d=\"M6,6H-6V-6H6Z\" transform=\"translate(20,0)\" style=\"fill: rgb(197, 27, 125); fill-opacity: 1; stroke-width: 2; stroke: rgb(0, 0, 0); stroke-opacity: 1;\"/></g></g></g><rect class=\"legendtoggle\" x=\"0\" y=\"-10.6\" width=\"50.5\" height=\"21.2\" style=\"fill: rgb(0, 0, 0); fill-opacity: 0;\"/></g><g class=\"traces\" transform=\"translate(243.421875,16.1)\" style=\"opacity: 1;\"><text class=\"legendtext\" text-anchor=\"start\" x=\"40\" y=\"5.46\" style=\"font-family: Arial; font-size: 14px; fill: rgb(0, 0, 0); fill-opacity: 1; white-space: pre;\">2</text><g class=\"layers\" style=\"opacity: 1;\"><g class=\"legendfill\"/><g class=\"legendlines\"/><g class=\"legendsymbols\"><g class=\"legendpoints\"><path class=\"legendpie\" d=\"M6,6H-6V-6H6Z\" transform=\"translate(20,0)\" style=\"fill: rgb(222, 119, 174); fill-opacity: 1; stroke-width: 2; stroke: rgb(0, 0, 0); stroke-opacity: 1;\"/></g></g></g><rect class=\"legendtoggle\" x=\"0\" y=\"-10.6\" width=\"50.5\" height=\"21.2\" style=\"fill: rgb(0, 0, 0); fill-opacity: 0;\"/></g><g class=\"traces\" transform=\"translate(296.421875,16.1)\" style=\"opacity: 1;\"><text class=\"legendtext\" text-anchor=\"start\" x=\"40\" y=\"5.46\" style=\"font-family: Arial; font-size: 14px; fill: rgb(0, 0, 0); fill-opacity: 1; white-space: pre;\">1</text><g class=\"layers\" style=\"opacity: 1;\"><g class=\"legendfill\"/><g class=\"legendlines\"/><g class=\"legendsymbols\"><g class=\"legendpoints\"><path class=\"legendpie\" d=\"M6,6H-6V-6H6Z\" transform=\"translate(20,0)\" style=\"fill: rgb(241, 182, 218); fill-opacity: 1; stroke-width: 2; stroke: rgb(0, 0, 0); stroke-opacity: 1;\"/></g></g></g><rect class=\"legendtoggle\" x=\"0\" y=\"-10.6\" width=\"50.5\" height=\"21.2\" style=\"fill: rgb(0, 0, 0); fill-opacity: 0;\"/></g></g></g><rect class=\"scrollbar\" rx=\"20\" ry=\"3\" width=\"0\" height=\"0\" style=\"fill: rgb(128, 139, 164); fill-opacity: 1;\" x=\"0\" y=\"0\"/></g><g class=\"g-gtitle\"><text class=\"gtitle\" x=\"500\" y=\"25\" text-anchor=\"middle\" dy=\"0.7em\" style=\"font-family: 'Times New Roman'; font-size: 26px; fill: rgb(0, 0, 0); opacity: 1; font-weight: normal; white-space: pre;\">Distribution of Different Treatments</text></g><g class=\"annotation\" data-index=\"0\" style=\"opacity: 1;\"><g class=\"annotation-text-g\" transform=\"rotate(0,417.5,265)\"><g class=\"cursor-pointer\" transform=\"translate(370,252)\"><rect class=\"bg\" x=\"0.5\" y=\"0.5\" width=\"94\" height=\"25\" style=\"stroke-width: 1px; stroke: rgb(0, 0, 0); stroke-opacity: 0; fill: rgb(0, 0, 0); fill-opacity: 0;\"/><text class=\"annotation-text\" text-anchor=\"middle\" x=\"47.203125\" y=\"20\" style=\"font-family: 'Open Sans', verdana, arial, sans-serif; font-size: 20px; fill: rgb(0, 0, 0); fill-opacity: 1; white-space: pre;\">Treatment</text></g></g></g><g class=\"annotation\" data-index=\"1\" style=\"opacity: 1;\"><g class=\"annotation-text-g\" transform=\"rotate(0,417.5,477.00000000000006)\"><g class=\"cursor-pointer\" transform=\"translate(234,467)\"><rect class=\"bg\" x=\"0.5\" y=\"0.5\" width=\"366\" height=\"19\" style=\"stroke-width: 1px; stroke: rgb(0, 0, 0); stroke-opacity: 0; fill: rgb(0, 0, 0); fill-opacity: 0;\"/><text class=\"annotation-text\" text-anchor=\"middle\" x=\"183.5625\" y=\"15\" style=\"font-family: 'Open Sans', verdana, arial, sans-serif; font-size: 14px; fill: rgb(0, 0, 0); fill-opacity: 1; white-space: pre;\">The majority of patients are receiving ZDV only or ddI only.</text></g></g></g></g></svg>"
      ]
     },
     "metadata": {},
     "output_type": "display_data"
    }
   ],
   "source": [
    "trt = df['trt'].value_counts().reset_index()\n",
    "trt.columns = ['trt', 'count']\n",
    "\n",
    "# Choose a diverging palette\n",
    "palette = cl.scales['11']['div']['PiYG']\n",
    "\n",
    "# Create the pie chart\n",
    "fig = go.Figure(data=[go.Pie(\n",
    "    labels=trt['trt'],\n",
    "    values=trt['count'],\n",
    "    hole=.4,\n",
    "    marker=dict(colors=palette, line=dict(color='#000000', width=2)),\n",
    "    hoverinfo=\"label+percent+value\",\n",
    "    textinfo=\"label+percent\",\n",
    "    textfont=dict(size=14, color='#000000')  # Adjust text color\n",
    ")])\n",
    "\n",
    "# Update layout\n",
    "fig.update_layout(\n",
    "    title_text=\"Treatment Distribution\",\n",
    "    title_font_size=24,\n",
    "    title_font_family=\"Times New Roman\",\n",
    "    title_font_color=\"#000000\", \n",
    "    paper_bgcolor='#ffffff',  \n",
    "    plot_bgcolor='#ffffff',  \n",
    "    annotations=[dict(text='Treatment', x=0.5, y=0.5, font_size=20, showarrow=False, font=dict(color=\"#000000\"))],\n",
    "    showlegend=True,\n",
    "    legend_title_text='Treatment Types',\n",
    "    legend=dict(\n",
    "        x=0.8,\n",
    "        y=0.5,\n",
    "        traceorder='normal',\n",
    "        font=dict(\n",
    "            family=\"Arial\",\n",
    "            size=14,\n",
    "            color=\"#000000\"  \n",
    "        ),\n",
    "        bgcolor=\"#ffffff\",  \n",
    "        bordercolor=\"#000000\",  \n",
    "        borderwidth=0.5,\n",
    "        orientation=\"h\"  \n",
    "    )\n",
    ")\n",
    "\n",
    "# Increase the width of the page\n",
    "fig.update_layout(width=1000)\n",
    "\n",
    "# Adding a more vibrant title and better spacing\n",
    "fig.update_layout(\n",
    "    title={\n",
    "        'text': \"Distribution of Different Treatments\",\n",
    "        'y':0.95,\n",
    "        'x':0.5,\n",
    "        'xanchor': 'center',\n",
    "        'yanchor': 'top'},\n",
    "    title_font_size=26,\n",
    "    margin=dict(l=50, r=50, t=80, b=50)\n",
    ")\n",
    "\n",
    "# Add observation/interpretation\n",
    "fig.add_annotation(\n",
    "    text=\"The majority of patients are receiving ZDV only or ddI only.\",\n",
    "    x=0.5,\n",
    "    y=-0.1,\n",
    "    showarrow=False,\n",
    "    font=dict(color=\"#000000\", size=14)  # Adjust text color\n",
    ")\n",
    "\n",
    "# Show the pie chart\n",
    "fig.show('svg')"
   ]
  },
  {
   "cell_type": "markdown",
   "id": "0af0eede",
   "metadata": {
    "papermill": {
     "duration": 0.019018,
     "end_time": "2024-05-29T06:42:51.674595",
     "exception": false,
     "start_time": "2024-05-29T06:42:51.655577",
     "status": "completed"
    },
    "tags": []
   },
   "source": [
    "----------------------------------------------------------------------------------------------------------------------------------------------------------\n"
   ]
  },
  {
   "cell_type": "markdown",
   "id": "9bcc8eee",
   "metadata": {
    "papermill": {
     "duration": 0.019032,
     "end_time": "2024-05-29T06:42:51.712799",
     "exception": false,
     "start_time": "2024-05-29T06:42:51.693767",
     "status": "completed"
    },
    "tags": []
   },
   "source": [
    "## Age\n",
    "\n",
    "\n",
    "***Conclusions***\n",
    "\n",
    "- *It can be seen that age is normally distributed*\n",
    "\n",
    "- *There are no missing values*\n",
    "\n",
    "- *Max values goes up to 68 but some outliers are present in the data*\n",
    "\n",
    "- *mean and median are about the same hence we can conclude that the outliers are not affecting the data*"
   ]
  },
  {
   "cell_type": "code",
   "execution_count": 8,
   "id": "cbab9087",
   "metadata": {
    "execution": {
     "iopub.execute_input": "2024-05-29T06:42:51.753824Z",
     "iopub.status.busy": "2024-05-29T06:42:51.752540Z",
     "iopub.status.idle": "2024-05-29T06:42:51.766893Z",
     "shell.execute_reply": "2024-05-29T06:42:51.765745Z"
    },
    "papermill": {
     "duration": 0.037456,
     "end_time": "2024-05-29T06:42:51.769260",
     "exception": false,
     "start_time": "2024-05-29T06:42:51.731804",
     "status": "completed"
    },
    "tags": []
   },
   "outputs": [
    {
     "data": {
      "text/plain": [
       "count    15000.000000\n",
       "mean        34.273800\n",
       "std          7.074134\n",
       "min         12.000000\n",
       "25%         29.000000\n",
       "50%         34.000000\n",
       "75%         39.000000\n",
       "max         68.000000\n",
       "Name: age, dtype: float64"
      ]
     },
     "execution_count": 8,
     "metadata": {},
     "output_type": "execute_result"
    }
   ],
   "source": [
    "df['age'].describe()"
   ]
  },
  {
   "cell_type": "markdown",
   "id": "3e4a9d1e",
   "metadata": {
    "papermill": {
     "duration": 0.019478,
     "end_time": "2024-05-29T06:42:51.809150",
     "exception": false,
     "start_time": "2024-05-29T06:42:51.789672",
     "status": "completed"
    },
    "tags": []
   },
   "source": [
    "*Median and mean are around the same hence it seems like the distribution is normal.*"
   ]
  },
  {
   "cell_type": "code",
   "execution_count": 9,
   "id": "3fabc3f0",
   "metadata": {
    "execution": {
     "iopub.execute_input": "2024-05-29T06:42:51.906185Z",
     "iopub.status.busy": "2024-05-29T06:42:51.905223Z",
     "iopub.status.idle": "2024-05-29T06:42:52.175860Z",
     "shell.execute_reply": "2024-05-29T06:42:52.174880Z"
    },
    "papermill": {
     "duration": 0.349687,
     "end_time": "2024-05-29T06:42:52.178138",
     "exception": false,
     "start_time": "2024-05-29T06:42:51.828451",
     "status": "completed"
    },
    "tags": []
   },
   "outputs": [
    {
     "data": {
      "image/svg+xml": [
       "<svg class=\"main-svg\" xmlns=\"http://www.w3.org/2000/svg\" xmlns:xlink=\"http://www.w3.org/1999/xlink\" width=\"1000\" height=\"500\" style=\"\" viewBox=\"0 0 1000 500\"><rect x=\"0\" y=\"0\" width=\"1000\" height=\"500\" style=\"fill: rgb(255, 255, 255); fill-opacity: 1;\"/><defs id=\"defs-75444d\"><g class=\"clips\"><clipPath id=\"clip75444dxyplot\" class=\"plotclip\"><rect width=\"885\" height=\"367\"/></clipPath><clipPath class=\"axesclip\" id=\"clip75444dx\"><rect x=\"65\" y=\"0\" width=\"885\" height=\"500\"/></clipPath><clipPath class=\"axesclip\" id=\"clip75444dy\"><rect x=\"0\" y=\"80\" width=\"1000\" height=\"367\"/></clipPath><clipPath class=\"axesclip\" id=\"clip75444dxy\"><rect x=\"65\" y=\"80\" width=\"885\" height=\"367\"/></clipPath></g><g class=\"gradients\"/><g class=\"patterns\"/></defs><g class=\"bglayer\"/><g class=\"layer-below\"><g class=\"imagelayer\"/><g class=\"shapelayer\"/></g><g class=\"cartesianlayer\"><g class=\"subplot xy\"><g class=\"layer-subplot\"><g class=\"shapelayer\"/><g class=\"imagelayer\"/></g><g class=\"minor-gridlayer\"><g class=\"x\"/><g class=\"y\"/></g><g class=\"gridlayer\"><g class=\"x\"/><g class=\"y\"><path class=\"ygrid crisp\" transform=\"translate(0,401.61)\" d=\"M65,0h885\" style=\"stroke: rgb(255, 255, 255); stroke-opacity: 1; stroke-width: 1px;\"/><path class=\"ygrid crisp\" transform=\"translate(0,356.23)\" d=\"M65,0h885\" style=\"stroke: rgb(255, 255, 255); stroke-opacity: 1; stroke-width: 1px;\"/><path class=\"ygrid crisp\" transform=\"translate(0,310.84000000000003)\" d=\"M65,0h885\" style=\"stroke: rgb(255, 255, 255); stroke-opacity: 1; stroke-width: 1px;\"/><path class=\"ygrid crisp\" transform=\"translate(0,265.46000000000004)\" d=\"M65,0h885\" style=\"stroke: rgb(255, 255, 255); stroke-opacity: 1; stroke-width: 1px;\"/><path class=\"ygrid crisp\" transform=\"translate(0,220.07)\" d=\"M65,0h885\" style=\"stroke: rgb(255, 255, 255); stroke-opacity: 1; stroke-width: 1px;\"/><path class=\"ygrid crisp\" transform=\"translate(0,174.69)\" d=\"M65,0h885\" style=\"stroke: rgb(255, 255, 255); stroke-opacity: 1; stroke-width: 1px;\"/><path class=\"ygrid crisp\" transform=\"translate(0,129.3)\" d=\"M65,0h885\" style=\"stroke: rgb(255, 255, 255); stroke-opacity: 1; stroke-width: 1px;\"/><path class=\"ygrid crisp\" transform=\"translate(0,83.92)\" d=\"M65,0h885\" style=\"stroke: rgb(255, 255, 255); stroke-opacity: 1; stroke-width: 1px;\"/></g></g><g class=\"zerolinelayer\"><path class=\"yzl zl crisp\" transform=\"translate(0,447)\" d=\"M65,0h885\" style=\"stroke: rgb(255, 255, 255); stroke-opacity: 1; stroke-width: 2px;\"/></g><path class=\"xlines-below\"/><path class=\"ylines-below\"/><g class=\"overlines-below\"/><g class=\"xaxislayer-below\"/><g class=\"yaxislayer-below\"/><g class=\"overaxes-below\"/><g class=\"plot\" transform=\"translate(65,80)\" clip-path=\"url(#clip75444dxyplot)\"><g class=\"barlayer mlayer\"><g class=\"trace bars\" shape-rendering=\"crispEdges\" style=\"opacity: 1;\"><g class=\"points\"><g class=\"point\"><path d=\"M0,367V356.47H147.5V367Z\" style=\"vector-effect: none; opacity: 1; stroke-width: 0px; fill: rgb(118, 42, 131); fill-opacity: 1;\"/></g><g class=\"point\"><path d=\"M147.5,367V194.76H295V367Z\" style=\"vector-effect: none; opacity: 1; stroke-width: 0px; fill: rgb(118, 42, 131); fill-opacity: 1;\"/></g><g class=\"point\"><path d=\"M295,367V18.35H442.5V367Z\" style=\"vector-effect: none; opacity: 1; stroke-width: 0px; fill: rgb(118, 42, 131); fill-opacity: 1;\"/></g><g class=\"point\"><path d=\"M442.5,367V232.98H590V367Z\" style=\"vector-effect: none; opacity: 1; stroke-width: 0px; fill: rgb(118, 42, 131); fill-opacity: 1;\"/></g><g class=\"point\"><path d=\"M590,367V352.57H737.5V367Z\" style=\"vector-effect: none; opacity: 1; stroke-width: 0px; fill: rgb(118, 42, 131); fill-opacity: 1;\"/></g><g class=\"point\"><path d=\"M737.5,367V366.09H885V367Z\" style=\"vector-effect: none; opacity: 1; stroke-width: 0px; fill: rgb(118, 42, 131); fill-opacity: 1;\"/></g></g></g></g></g><g class=\"overplot\"/><path class=\"xlines-above crisp\" d=\"M0,0\" style=\"fill: none;\"/><path class=\"ylines-above crisp\" d=\"M0,0\" style=\"fill: none;\"/><g class=\"overlines-above\"/><g class=\"xaxislayer-above\"><g class=\"xtick\"><text text-anchor=\"middle\" x=\"0\" y=\"460\" transform=\"translate(72.38,0)\" style=\"font-family: 'Open Sans', verdana, arial, sans-serif; font-size: 12px; fill: rgb(42, 63, 95); fill-opacity: 1; white-space: pre; opacity: 1;\">10</text></g><g class=\"xtick\"><text text-anchor=\"middle\" x=\"0\" y=\"460\" style=\"font-family: 'Open Sans', verdana, arial, sans-serif; font-size: 12px; fill: rgb(42, 63, 95); fill-opacity: 1; white-space: pre; opacity: 1;\" transform=\"translate(219.88,0)\">20</text></g><g class=\"xtick\"><text text-anchor=\"middle\" x=\"0\" y=\"460\" style=\"font-family: 'Open Sans', verdana, arial, sans-serif; font-size: 12px; fill: rgb(42, 63, 95); fill-opacity: 1; white-space: pre; opacity: 1;\" transform=\"translate(367.38,0)\">30</text></g><g class=\"xtick\"><text text-anchor=\"middle\" x=\"0\" y=\"460\" style=\"font-family: 'Open Sans', verdana, arial, sans-serif; font-size: 12px; fill: rgb(42, 63, 95); fill-opacity: 1; white-space: pre; opacity: 1;\" transform=\"translate(514.88,0)\">40</text></g><g class=\"xtick\"><text text-anchor=\"middle\" x=\"0\" y=\"460\" style=\"font-family: 'Open Sans', verdana, arial, sans-serif; font-size: 12px; fill: rgb(42, 63, 95); fill-opacity: 1; white-space: pre; opacity: 1;\" transform=\"translate(662.38,0)\">50</text></g><g class=\"xtick\"><text text-anchor=\"middle\" x=\"0\" y=\"460\" style=\"font-family: 'Open Sans', verdana, arial, sans-serif; font-size: 12px; fill: rgb(42, 63, 95); fill-opacity: 1; white-space: pre; opacity: 1;\" transform=\"translate(809.88,0)\">60</text></g></g><g class=\"yaxislayer-above\"><g class=\"ytick\"><text text-anchor=\"end\" x=\"64\" y=\"4.199999999999999\" transform=\"translate(0,447)\" style=\"font-family: 'Open Sans', verdana, arial, sans-serif; font-size: 12px; fill: rgb(42, 63, 95); fill-opacity: 1; white-space: pre; opacity: 1;\">0</text></g><g class=\"ytick\"><text text-anchor=\"end\" x=\"64\" y=\"4.199999999999999\" style=\"font-family: 'Open Sans', verdana, arial, sans-serif; font-size: 12px; fill: rgb(42, 63, 95); fill-opacity: 1; white-space: pre; opacity: 1;\" transform=\"translate(0,401.61)\">1000</text></g><g class=\"ytick\"><text text-anchor=\"end\" x=\"64\" y=\"4.199999999999999\" style=\"font-family: 'Open Sans', verdana, arial, sans-serif; font-size: 12px; fill: rgb(42, 63, 95); fill-opacity: 1; white-space: pre; opacity: 1;\" transform=\"translate(0,356.23)\">2000</text></g><g class=\"ytick\"><text text-anchor=\"end\" x=\"64\" y=\"4.199999999999999\" style=\"font-family: 'Open Sans', verdana, arial, sans-serif; font-size: 12px; fill: rgb(42, 63, 95); fill-opacity: 1; white-space: pre; opacity: 1;\" transform=\"translate(0,310.84000000000003)\">3000</text></g><g class=\"ytick\"><text text-anchor=\"end\" x=\"64\" y=\"4.199999999999999\" style=\"font-family: 'Open Sans', verdana, arial, sans-serif; font-size: 12px; fill: rgb(42, 63, 95); fill-opacity: 1; white-space: pre; opacity: 1;\" transform=\"translate(0,265.46000000000004)\">4000</text></g><g class=\"ytick\"><text text-anchor=\"end\" x=\"64\" y=\"4.199999999999999\" style=\"font-family: 'Open Sans', verdana, arial, sans-serif; font-size: 12px; fill: rgb(42, 63, 95); fill-opacity: 1; white-space: pre; opacity: 1;\" transform=\"translate(0,220.07)\">5000</text></g><g class=\"ytick\"><text text-anchor=\"end\" x=\"64\" y=\"4.199999999999999\" style=\"font-family: 'Open Sans', verdana, arial, sans-serif; font-size: 12px; fill: rgb(42, 63, 95); fill-opacity: 1; white-space: pre; opacity: 1;\" transform=\"translate(0,174.69)\">6000</text></g><g class=\"ytick\"><text text-anchor=\"end\" x=\"64\" y=\"4.199999999999999\" style=\"font-family: 'Open Sans', verdana, arial, sans-serif; font-size: 12px; fill: rgb(42, 63, 95); fill-opacity: 1; white-space: pre; opacity: 1;\" transform=\"translate(0,129.3)\">7000</text></g><g class=\"ytick\"><text text-anchor=\"end\" x=\"64\" y=\"4.199999999999999\" style=\"font-family: 'Open Sans', verdana, arial, sans-serif; font-size: 12px; fill: rgb(42, 63, 95); fill-opacity: 1; white-space: pre; opacity: 1;\" transform=\"translate(0,83.92)\">8000</text></g></g><g class=\"overaxes-above\"/></g></g><g class=\"polarlayer\"/><g class=\"smithlayer\"/><g class=\"ternarylayer\"/><g class=\"geolayer\"/><g class=\"funnelarealayer\"/><g class=\"pielayer\"/><g class=\"iciclelayer\"/><g class=\"treemaplayer\"/><g class=\"sunburstlayer\"/><g class=\"glimages\"/><defs id=\"topdefs-75444d\"><g class=\"clips\"/></defs><g class=\"layer-above\"><g class=\"imagelayer\"/><g class=\"shapelayer\"/></g><g class=\"infolayer\"><g class=\"g-gtitle\"><text class=\"gtitle\" x=\"150\" y=\"25\" text-anchor=\"middle\" dy=\"0.7em\" style=\"font-family: 'Times New Roman'; font-size: 26px; fill: rgb(0, 0, 0); opacity: 1; font-weight: normal; white-space: pre;\">Age Distribution</text></g><g class=\"g-xtitle\"><text class=\"xtitle\" x=\"507.5\" y=\"487.3\" text-anchor=\"middle\" style=\"font-family: 'Open Sans', verdana, arial, sans-serif; font-size: 14px; fill: rgb(42, 63, 95); opacity: 1; font-weight: normal; white-space: pre;\">Age</text></g><g class=\"g-ytitle\" transform=\"translate(0.0029296875,0)\"><text class=\"ytitle\" transform=\"rotate(-90,12.996875000000003,263.5)\" x=\"12.996875000000003\" y=\"263.5\" text-anchor=\"middle\" style=\"font-family: 'Open Sans', verdana, arial, sans-serif; font-size: 14px; fill: rgb(42, 63, 95); opacity: 1; font-weight: normal; white-space: pre;\">Frequency</text></g></g></svg>"
      ]
     },
     "metadata": {},
     "output_type": "display_data"
    }
   ],
   "source": [
    "palette = cl.to_rgb(cl.scales['10']['div']['PRGn'])\n",
    "\n",
    "# Create the histogram\n",
    "fig = go.Figure(data=[go.Histogram(\n",
    "    x=df['age'],\n",
    "    marker=dict(color=palette[1]),  \n",
    "    nbinsx=10\n",
    ")])\n",
    "\n",
    "fig.update_layout(\n",
    "    title_text=\"Age Distribution\",\n",
    "    title_font_size=24,\n",
    "    title_font_family=\"Times New Roman\",\n",
    "    title_font_color=\"#000000\",  \n",
    "    paper_bgcolor='#ffffff',  \n",
    "    plot_bgcolor='#ffffff',  \n",
    "    xaxis=dict(title=\"Age\"),\n",
    "    yaxis=dict(title=\"Frequency\"),\n",
    ")\n",
    "\n",
    "fig.update_layout(\n",
    "    title={\n",
    "        'text': \"Age Distribution\",\n",
    "        'y':0.95,\n",
    "        'x':0.15,\n",
    "        'xanchor': 'center',\n",
    "        'yanchor': 'top'},\n",
    "    title_font_size=26,\n",
    "    margin=dict(l=50, r=50, t=80, b=50)\n",
    ")\n",
    "\n",
    "fig.update_layout(width=1000)\n",
    "\n",
    "# Show the pie chart\n",
    "fig.show('svg')"
   ]
  },
  {
   "cell_type": "code",
   "execution_count": 10,
   "id": "ce0ae5a1",
   "metadata": {
    "execution": {
     "iopub.execute_input": "2024-05-29T06:42:52.219362Z",
     "iopub.status.busy": "2024-05-29T06:42:52.218956Z",
     "iopub.status.idle": "2024-05-29T06:42:52.415840Z",
     "shell.execute_reply": "2024-05-29T06:42:52.414658Z"
    },
    "papermill": {
     "duration": 0.220117,
     "end_time": "2024-05-29T06:42:52.418080",
     "exception": false,
     "start_time": "2024-05-29T06:42:52.197963",
     "status": "completed"
    },
    "tags": []
   },
   "outputs": [
    {
     "data": {
      "image/svg+xml": [
       "<svg class=\"main-svg\" xmlns=\"http://www.w3.org/2000/svg\" xmlns:xlink=\"http://www.w3.org/1999/xlink\" width=\"1000\" height=\"500\" style=\"\" viewBox=\"0 0 1000 500\"><rect x=\"0\" y=\"0\" width=\"1000\" height=\"500\" style=\"fill: rgb(255, 255, 255); fill-opacity: 1;\"/><defs id=\"defs-359371\"><g class=\"clips\"><clipPath id=\"clip359371xyplot\" class=\"plotclip\"><rect width=\"900\" height=\"367\"/></clipPath><clipPath class=\"axesclip\" id=\"clip359371x\"><rect x=\"50\" y=\"0\" width=\"900\" height=\"500\"/></clipPath><clipPath class=\"axesclip\" id=\"clip359371y\"><rect x=\"0\" y=\"80\" width=\"1000\" height=\"367\"/></clipPath><clipPath class=\"axesclip\" id=\"clip359371xy\"><rect x=\"50\" y=\"80\" width=\"900\" height=\"367\"/></clipPath></g><g class=\"gradients\"/><g class=\"patterns\"/></defs><g class=\"bglayer\"/><g class=\"layer-below\"><g class=\"imagelayer\"/><g class=\"shapelayer\"/></g><g class=\"cartesianlayer\"><g class=\"subplot xy\"><g class=\"layer-subplot\"><g class=\"shapelayer\"/><g class=\"imagelayer\"/></g><g class=\"minor-gridlayer\"><g class=\"x\"/><g class=\"y\"/></g><g class=\"gridlayer\"><g class=\"x\"><path class=\"xgrid crisp\" transform=\"translate(66.07,0)\" d=\"M0,80v367\" style=\"stroke: rgb(255, 255, 255); stroke-opacity: 1; stroke-width: 1px;\"/><path class=\"xgrid crisp\" transform=\"translate(210.71,0)\" d=\"M0,80v367\" style=\"stroke: rgb(255, 255, 255); stroke-opacity: 1; stroke-width: 1px;\"/><path class=\"xgrid crisp\" transform=\"translate(355.36,0)\" d=\"M0,80v367\" style=\"stroke: rgb(255, 255, 255); stroke-opacity: 1; stroke-width: 1px;\"/><path class=\"xgrid crisp\" transform=\"translate(500,0)\" d=\"M0,80v367\" style=\"stroke: rgb(255, 255, 255); stroke-opacity: 1; stroke-width: 1px;\"/><path class=\"xgrid crisp\" transform=\"translate(644.64,0)\" d=\"M0,80v367\" style=\"stroke: rgb(255, 255, 255); stroke-opacity: 1; stroke-width: 1px;\"/><path class=\"xgrid crisp\" transform=\"translate(789.29,0)\" d=\"M0,80v367\" style=\"stroke: rgb(255, 255, 255); stroke-opacity: 1; stroke-width: 1px;\"/><path class=\"xgrid crisp\" transform=\"translate(933.93,0)\" d=\"M0,80v367\" style=\"stroke: rgb(255, 255, 255); stroke-opacity: 1; stroke-width: 1px;\"/></g><g class=\"y\"/></g><g class=\"zerolinelayer\"/><path class=\"xlines-below\"/><path class=\"ylines-below\"/><g class=\"overlines-below\"/><g class=\"xaxislayer-below\"/><g class=\"yaxislayer-below\"/><g class=\"overaxes-below\"/><g class=\"plot\" transform=\"translate(50,80)\" clip-path=\"url(#clip359371xyplot)\"><g class=\"boxlayer mlayer\"><g class=\"trace boxes\" style=\"opacity: 1;\"><path class=\"box\" d=\"M363.21,273.41V93.59M290.89,273.41V93.59H435.54V273.41ZM290.89,183.5H73.93M435.54,183.5H652.5M73.93,228.46V138.54M652.5,228.46V138.54\" style=\"vector-effect: none; stroke-width: 2px; stroke: rgb(118, 42, 131); stroke-opacity: 1; fill: rgb(118, 42, 131); fill-opacity: 0.5;\"/><g class=\"points\"><path class=\"point\" transform=\"translate(45,183.5)\" d=\"M3,0A3,3 0 1,1 0,-3A3,3 0 0,1 3,0Z\" style=\"opacity: 1; stroke-width: 0px; fill: rgb(118, 42, 131); fill-opacity: 1;\"/><path class=\"point\" transform=\"translate(45,183.5)\" d=\"M3,0A3,3 0 1,1 0,-3A3,3 0 0,1 3,0Z\" style=\"opacity: 1; stroke-width: 0px; fill: rgb(118, 42, 131); fill-opacity: 1;\"/><path class=\"point\" transform=\"translate(45,183.5)\" d=\"M3,0A3,3 0 1,1 0,-3A3,3 0 0,1 3,0Z\" style=\"opacity: 1; stroke-width: 0px; fill: rgb(118, 42, 131); fill-opacity: 1;\"/><path class=\"point\" transform=\"translate(45,183.5)\" d=\"M3,0A3,3 0 1,1 0,-3A3,3 0 0,1 3,0Z\" style=\"opacity: 1; stroke-width: 0px; fill: rgb(118, 42, 131); fill-opacity: 1;\"/><path class=\"point\" transform=\"translate(45,183.5)\" d=\"M3,0A3,3 0 1,1 0,-3A3,3 0 0,1 3,0Z\" style=\"opacity: 1; stroke-width: 0px; fill: rgb(118, 42, 131); fill-opacity: 1;\"/><path class=\"point\" transform=\"translate(45,183.5)\" d=\"M3,0A3,3 0 1,1 0,-3A3,3 0 0,1 3,0Z\" style=\"opacity: 1; stroke-width: 0px; fill: rgb(118, 42, 131); fill-opacity: 1;\"/><path class=\"point\" transform=\"translate(59.46,183.5)\" d=\"M3,0A3,3 0 1,1 0,-3A3,3 0 0,1 3,0Z\" style=\"opacity: 1; stroke-width: 0px; fill: rgb(118, 42, 131); fill-opacity: 1;\"/><path class=\"point\" transform=\"translate(59.46,183.5)\" d=\"M3,0A3,3 0 1,1 0,-3A3,3 0 0,1 3,0Z\" style=\"opacity: 1; stroke-width: 0px; fill: rgb(118, 42, 131); fill-opacity: 1;\"/><path class=\"point\" transform=\"translate(59.46,183.5)\" d=\"M3,0A3,3 0 1,1 0,-3A3,3 0 0,1 3,0Z\" style=\"opacity: 1; stroke-width: 0px; fill: rgb(118, 42, 131); fill-opacity: 1;\"/><path class=\"point\" transform=\"translate(59.46,183.5)\" d=\"M3,0A3,3 0 1,1 0,-3A3,3 0 0,1 3,0Z\" style=\"opacity: 1; stroke-width: 0px; fill: rgb(118, 42, 131); fill-opacity: 1;\"/><path class=\"point\" transform=\"translate(666.96,183.5)\" d=\"M3,0A3,3 0 1,1 0,-3A3,3 0 0,1 3,0Z\" style=\"opacity: 1; stroke-width: 0px; fill: rgb(118, 42, 131); fill-opacity: 1;\"/><path class=\"point\" transform=\"translate(666.96,183.5)\" d=\"M3,0A3,3 0 1,1 0,-3A3,3 0 0,1 3,0Z\" style=\"opacity: 1; stroke-width: 0px; fill: rgb(118, 42, 131); fill-opacity: 1;\"/><path class=\"point\" transform=\"translate(666.96,183.5)\" d=\"M3,0A3,3 0 1,1 0,-3A3,3 0 0,1 3,0Z\" style=\"opacity: 1; stroke-width: 0px; fill: rgb(118, 42, 131); fill-opacity: 1;\"/><path class=\"point\" transform=\"translate(666.96,183.5)\" d=\"M3,0A3,3 0 1,1 0,-3A3,3 0 0,1 3,0Z\" style=\"opacity: 1; stroke-width: 0px; fill: rgb(118, 42, 131); fill-opacity: 1;\"/><path class=\"point\" transform=\"translate(666.96,183.5)\" d=\"M3,0A3,3 0 1,1 0,-3A3,3 0 0,1 3,0Z\" style=\"opacity: 1; stroke-width: 0px; fill: rgb(118, 42, 131); fill-opacity: 1;\"/><path class=\"point\" transform=\"translate(666.96,183.5)\" d=\"M3,0A3,3 0 1,1 0,-3A3,3 0 0,1 3,0Z\" style=\"opacity: 1; stroke-width: 0px; fill: rgb(118, 42, 131); fill-opacity: 1;\"/><path class=\"point\" transform=\"translate(666.96,183.5)\" d=\"M3,0A3,3 0 1,1 0,-3A3,3 0 0,1 3,0Z\" style=\"opacity: 1; stroke-width: 0px; fill: rgb(118, 42, 131); fill-opacity: 1;\"/><path class=\"point\" transform=\"translate(666.96,183.5)\" d=\"M3,0A3,3 0 1,1 0,-3A3,3 0 0,1 3,0Z\" style=\"opacity: 1; stroke-width: 0px; fill: rgb(118, 42, 131); fill-opacity: 1;\"/><path class=\"point\" transform=\"translate(666.96,183.5)\" d=\"M3,0A3,3 0 1,1 0,-3A3,3 0 0,1 3,0Z\" style=\"opacity: 1; stroke-width: 0px; fill: rgb(118, 42, 131); fill-opacity: 1;\"/><path class=\"point\" transform=\"translate(666.96,183.5)\" d=\"M3,0A3,3 0 1,1 0,-3A3,3 0 0,1 3,0Z\" style=\"opacity: 1; stroke-width: 0px; fill: rgb(118, 42, 131); fill-opacity: 1;\"/><path class=\"point\" transform=\"translate(666.96,183.5)\" d=\"M3,0A3,3 0 1,1 0,-3A3,3 0 0,1 3,0Z\" style=\"opacity: 1; stroke-width: 0px; fill: rgb(118, 42, 131); fill-opacity: 1;\"/><path class=\"point\" transform=\"translate(666.96,183.5)\" d=\"M3,0A3,3 0 1,1 0,-3A3,3 0 0,1 3,0Z\" style=\"opacity: 1; stroke-width: 0px; fill: rgb(118, 42, 131); fill-opacity: 1;\"/><path class=\"point\" transform=\"translate(666.96,183.5)\" d=\"M3,0A3,3 0 1,1 0,-3A3,3 0 0,1 3,0Z\" style=\"opacity: 1; stroke-width: 0px; fill: rgb(118, 42, 131); fill-opacity: 1;\"/><path class=\"point\" transform=\"translate(666.96,183.5)\" d=\"M3,0A3,3 0 1,1 0,-3A3,3 0 0,1 3,0Z\" style=\"opacity: 1; stroke-width: 0px; fill: rgb(118, 42, 131); fill-opacity: 1;\"/><path class=\"point\" transform=\"translate(666.96,183.5)\" d=\"M3,0A3,3 0 1,1 0,-3A3,3 0 0,1 3,0Z\" style=\"opacity: 1; stroke-width: 0px; fill: rgb(118, 42, 131); fill-opacity: 1;\"/><path class=\"point\" transform=\"translate(666.96,183.5)\" d=\"M3,0A3,3 0 1,1 0,-3A3,3 0 0,1 3,0Z\" style=\"opacity: 1; stroke-width: 0px; fill: rgb(118, 42, 131); fill-opacity: 1;\"/><path class=\"point\" transform=\"translate(666.96,183.5)\" d=\"M3,0A3,3 0 1,1 0,-3A3,3 0 0,1 3,0Z\" style=\"opacity: 1; stroke-width: 0px; fill: rgb(118, 42, 131); fill-opacity: 1;\"/><path class=\"point\" transform=\"translate(666.96,183.5)\" d=\"M3,0A3,3 0 1,1 0,-3A3,3 0 0,1 3,0Z\" style=\"opacity: 1; stroke-width: 0px; fill: rgb(118, 42, 131); fill-opacity: 1;\"/><path class=\"point\" transform=\"translate(666.96,183.5)\" d=\"M3,0A3,3 0 1,1 0,-3A3,3 0 0,1 3,0Z\" style=\"opacity: 1; stroke-width: 0px; fill: rgb(118, 42, 131); fill-opacity: 1;\"/><path class=\"point\" transform=\"translate(681.43,183.5)\" d=\"M3,0A3,3 0 1,1 0,-3A3,3 0 0,1 3,0Z\" style=\"opacity: 1; stroke-width: 0px; fill: rgb(118, 42, 131); fill-opacity: 1;\"/><path class=\"point\" transform=\"translate(681.43,183.5)\" d=\"M3,0A3,3 0 1,1 0,-3A3,3 0 0,1 3,0Z\" style=\"opacity: 1; stroke-width: 0px; fill: rgb(118, 42, 131); fill-opacity: 1;\"/><path class=\"point\" transform=\"translate(681.43,183.5)\" d=\"M3,0A3,3 0 1,1 0,-3A3,3 0 0,1 3,0Z\" style=\"opacity: 1; stroke-width: 0px; fill: rgb(118, 42, 131); fill-opacity: 1;\"/><path class=\"point\" transform=\"translate(681.43,183.5)\" d=\"M3,0A3,3 0 1,1 0,-3A3,3 0 0,1 3,0Z\" style=\"opacity: 1; stroke-width: 0px; fill: rgb(118, 42, 131); fill-opacity: 1;\"/><path class=\"point\" transform=\"translate(681.43,183.5)\" d=\"M3,0A3,3 0 1,1 0,-3A3,3 0 0,1 3,0Z\" style=\"opacity: 1; stroke-width: 0px; fill: rgb(118, 42, 131); fill-opacity: 1;\"/><path class=\"point\" transform=\"translate(681.43,183.5)\" d=\"M3,0A3,3 0 1,1 0,-3A3,3 0 0,1 3,0Z\" style=\"opacity: 1; stroke-width: 0px; fill: rgb(118, 42, 131); fill-opacity: 1;\"/><path class=\"point\" transform=\"translate(681.43,183.5)\" d=\"M3,0A3,3 0 1,1 0,-3A3,3 0 0,1 3,0Z\" style=\"opacity: 1; stroke-width: 0px; fill: rgb(118, 42, 131); fill-opacity: 1;\"/><path class=\"point\" transform=\"translate(681.43,183.5)\" d=\"M3,0A3,3 0 1,1 0,-3A3,3 0 0,1 3,0Z\" style=\"opacity: 1; stroke-width: 0px; fill: rgb(118, 42, 131); fill-opacity: 1;\"/><path class=\"point\" transform=\"translate(681.43,183.5)\" d=\"M3,0A3,3 0 1,1 0,-3A3,3 0 0,1 3,0Z\" style=\"opacity: 1; stroke-width: 0px; fill: rgb(118, 42, 131); fill-opacity: 1;\"/><path class=\"point\" transform=\"translate(681.43,183.5)\" d=\"M3,0A3,3 0 1,1 0,-3A3,3 0 0,1 3,0Z\" style=\"opacity: 1; stroke-width: 0px; fill: rgb(118, 42, 131); fill-opacity: 1;\"/><path class=\"point\" transform=\"translate(681.43,183.5)\" d=\"M3,0A3,3 0 1,1 0,-3A3,3 0 0,1 3,0Z\" style=\"opacity: 1; stroke-width: 0px; fill: rgb(118, 42, 131); fill-opacity: 1;\"/><path class=\"point\" transform=\"translate(681.43,183.5)\" d=\"M3,0A3,3 0 1,1 0,-3A3,3 0 0,1 3,0Z\" style=\"opacity: 1; stroke-width: 0px; fill: rgb(118, 42, 131); fill-opacity: 1;\"/><path class=\"point\" transform=\"translate(681.43,183.5)\" d=\"M3,0A3,3 0 1,1 0,-3A3,3 0 0,1 3,0Z\" style=\"opacity: 1; stroke-width: 0px; fill: rgb(118, 42, 131); fill-opacity: 1;\"/><path class=\"point\" transform=\"translate(681.43,183.5)\" d=\"M3,0A3,3 0 1,1 0,-3A3,3 0 0,1 3,0Z\" style=\"opacity: 1; stroke-width: 0px; fill: rgb(118, 42, 131); fill-opacity: 1;\"/><path class=\"point\" transform=\"translate(681.43,183.5)\" d=\"M3,0A3,3 0 1,1 0,-3A3,3 0 0,1 3,0Z\" style=\"opacity: 1; stroke-width: 0px; fill: rgb(118, 42, 131); fill-opacity: 1;\"/><path class=\"point\" transform=\"translate(681.43,183.5)\" d=\"M3,0A3,3 0 1,1 0,-3A3,3 0 0,1 3,0Z\" style=\"opacity: 1; stroke-width: 0px; fill: rgb(118, 42, 131); fill-opacity: 1;\"/><path class=\"point\" transform=\"translate(681.43,183.5)\" d=\"M3,0A3,3 0 1,1 0,-3A3,3 0 0,1 3,0Z\" style=\"opacity: 1; stroke-width: 0px; fill: rgb(118, 42, 131); fill-opacity: 1;\"/><path class=\"point\" transform=\"translate(681.43,183.5)\" d=\"M3,0A3,3 0 1,1 0,-3A3,3 0 0,1 3,0Z\" style=\"opacity: 1; stroke-width: 0px; fill: rgb(118, 42, 131); fill-opacity: 1;\"/><path class=\"point\" transform=\"translate(681.43,183.5)\" d=\"M3,0A3,3 0 1,1 0,-3A3,3 0 0,1 3,0Z\" style=\"opacity: 1; stroke-width: 0px; fill: rgb(118, 42, 131); fill-opacity: 1;\"/><path class=\"point\" transform=\"translate(681.43,183.5)\" d=\"M3,0A3,3 0 1,1 0,-3A3,3 0 0,1 3,0Z\" style=\"opacity: 1; stroke-width: 0px; fill: rgb(118, 42, 131); fill-opacity: 1;\"/><path class=\"point\" transform=\"translate(681.43,183.5)\" d=\"M3,0A3,3 0 1,1 0,-3A3,3 0 0,1 3,0Z\" style=\"opacity: 1; stroke-width: 0px; fill: rgb(118, 42, 131); fill-opacity: 1;\"/><path class=\"point\" transform=\"translate(681.43,183.5)\" d=\"M3,0A3,3 0 1,1 0,-3A3,3 0 0,1 3,0Z\" style=\"opacity: 1; stroke-width: 0px; fill: rgb(118, 42, 131); fill-opacity: 1;\"/><path class=\"point\" transform=\"translate(695.89,183.5)\" d=\"M3,0A3,3 0 1,1 0,-3A3,3 0 0,1 3,0Z\" style=\"opacity: 1; stroke-width: 0px; fill: rgb(118, 42, 131); fill-opacity: 1;\"/><path class=\"point\" transform=\"translate(695.89,183.5)\" d=\"M3,0A3,3 0 1,1 0,-3A3,3 0 0,1 3,0Z\" style=\"opacity: 1; stroke-width: 0px; fill: rgb(118, 42, 131); fill-opacity: 1;\"/><path class=\"point\" transform=\"translate(695.89,183.5)\" d=\"M3,0A3,3 0 1,1 0,-3A3,3 0 0,1 3,0Z\" style=\"opacity: 1; stroke-width: 0px; fill: rgb(118, 42, 131); fill-opacity: 1;\"/><path class=\"point\" transform=\"translate(695.89,183.5)\" d=\"M3,0A3,3 0 1,1 0,-3A3,3 0 0,1 3,0Z\" style=\"opacity: 1; stroke-width: 0px; fill: rgb(118, 42, 131); fill-opacity: 1;\"/><path class=\"point\" transform=\"translate(695.89,183.5)\" d=\"M3,0A3,3 0 1,1 0,-3A3,3 0 0,1 3,0Z\" style=\"opacity: 1; stroke-width: 0px; fill: rgb(118, 42, 131); fill-opacity: 1;\"/><path class=\"point\" transform=\"translate(695.89,183.5)\" d=\"M3,0A3,3 0 1,1 0,-3A3,3 0 0,1 3,0Z\" style=\"opacity: 1; stroke-width: 0px; fill: rgb(118, 42, 131); fill-opacity: 1;\"/><path class=\"point\" transform=\"translate(695.89,183.5)\" d=\"M3,0A3,3 0 1,1 0,-3A3,3 0 0,1 3,0Z\" style=\"opacity: 1; stroke-width: 0px; fill: rgb(118, 42, 131); fill-opacity: 1;\"/><path class=\"point\" transform=\"translate(695.89,183.5)\" d=\"M3,0A3,3 0 1,1 0,-3A3,3 0 0,1 3,0Z\" style=\"opacity: 1; stroke-width: 0px; fill: rgb(118, 42, 131); fill-opacity: 1;\"/><path class=\"point\" transform=\"translate(695.89,183.5)\" d=\"M3,0A3,3 0 1,1 0,-3A3,3 0 0,1 3,0Z\" style=\"opacity: 1; stroke-width: 0px; fill: rgb(118, 42, 131); fill-opacity: 1;\"/><path class=\"point\" transform=\"translate(695.89,183.5)\" d=\"M3,0A3,3 0 1,1 0,-3A3,3 0 0,1 3,0Z\" style=\"opacity: 1; stroke-width: 0px; fill: rgb(118, 42, 131); fill-opacity: 1;\"/><path class=\"point\" transform=\"translate(695.89,183.5)\" d=\"M3,0A3,3 0 1,1 0,-3A3,3 0 0,1 3,0Z\" style=\"opacity: 1; stroke-width: 0px; fill: rgb(118, 42, 131); fill-opacity: 1;\"/><path class=\"point\" transform=\"translate(695.89,183.5)\" d=\"M3,0A3,3 0 1,1 0,-3A3,3 0 0,1 3,0Z\" style=\"opacity: 1; stroke-width: 0px; fill: rgb(118, 42, 131); fill-opacity: 1;\"/><path class=\"point\" transform=\"translate(695.89,183.5)\" d=\"M3,0A3,3 0 1,1 0,-3A3,3 0 0,1 3,0Z\" style=\"opacity: 1; stroke-width: 0px; fill: rgb(118, 42, 131); fill-opacity: 1;\"/><path class=\"point\" transform=\"translate(695.89,183.5)\" d=\"M3,0A3,3 0 1,1 0,-3A3,3 0 0,1 3,0Z\" style=\"opacity: 1; stroke-width: 0px; fill: rgb(118, 42, 131); fill-opacity: 1;\"/><path class=\"point\" transform=\"translate(710.36,183.5)\" d=\"M3,0A3,3 0 1,1 0,-3A3,3 0 0,1 3,0Z\" style=\"opacity: 1; stroke-width: 0px; fill: rgb(118, 42, 131); fill-opacity: 1;\"/><path class=\"point\" transform=\"translate(710.36,183.5)\" d=\"M3,0A3,3 0 1,1 0,-3A3,3 0 0,1 3,0Z\" style=\"opacity: 1; stroke-width: 0px; fill: rgb(118, 42, 131); fill-opacity: 1;\"/><path class=\"point\" transform=\"translate(710.36,183.5)\" d=\"M3,0A3,3 0 1,1 0,-3A3,3 0 0,1 3,0Z\" style=\"opacity: 1; stroke-width: 0px; fill: rgb(118, 42, 131); fill-opacity: 1;\"/><path class=\"point\" transform=\"translate(710.36,183.5)\" d=\"M3,0A3,3 0 1,1 0,-3A3,3 0 0,1 3,0Z\" style=\"opacity: 1; stroke-width: 0px; fill: rgb(118, 42, 131); fill-opacity: 1;\"/><path class=\"point\" transform=\"translate(710.36,183.5)\" d=\"M3,0A3,3 0 1,1 0,-3A3,3 0 0,1 3,0Z\" style=\"opacity: 1; stroke-width: 0px; fill: rgb(118, 42, 131); fill-opacity: 1;\"/><path class=\"point\" transform=\"translate(710.36,183.5)\" d=\"M3,0A3,3 0 1,1 0,-3A3,3 0 0,1 3,0Z\" style=\"opacity: 1; stroke-width: 0px; fill: rgb(118, 42, 131); fill-opacity: 1;\"/><path class=\"point\" transform=\"translate(710.36,183.5)\" d=\"M3,0A3,3 0 1,1 0,-3A3,3 0 0,1 3,0Z\" style=\"opacity: 1; stroke-width: 0px; fill: rgb(118, 42, 131); fill-opacity: 1;\"/><path class=\"point\" transform=\"translate(710.36,183.5)\" d=\"M3,0A3,3 0 1,1 0,-3A3,3 0 0,1 3,0Z\" style=\"opacity: 1; stroke-width: 0px; fill: rgb(118, 42, 131); fill-opacity: 1;\"/><path class=\"point\" transform=\"translate(710.36,183.5)\" d=\"M3,0A3,3 0 1,1 0,-3A3,3 0 0,1 3,0Z\" style=\"opacity: 1; stroke-width: 0px; fill: rgb(118, 42, 131); fill-opacity: 1;\"/><path class=\"point\" transform=\"translate(710.36,183.5)\" d=\"M3,0A3,3 0 1,1 0,-3A3,3 0 0,1 3,0Z\" style=\"opacity: 1; stroke-width: 0px; fill: rgb(118, 42, 131); fill-opacity: 1;\"/><path class=\"point\" transform=\"translate(710.36,183.5)\" d=\"M3,0A3,3 0 1,1 0,-3A3,3 0 0,1 3,0Z\" style=\"opacity: 1; stroke-width: 0px; fill: rgb(118, 42, 131); fill-opacity: 1;\"/><path class=\"point\" transform=\"translate(710.36,183.5)\" d=\"M3,0A3,3 0 1,1 0,-3A3,3 0 0,1 3,0Z\" style=\"opacity: 1; stroke-width: 0px; fill: rgb(118, 42, 131); fill-opacity: 1;\"/><path class=\"point\" transform=\"translate(710.36,183.5)\" d=\"M3,0A3,3 0 1,1 0,-3A3,3 0 0,1 3,0Z\" style=\"opacity: 1; stroke-width: 0px; fill: rgb(118, 42, 131); fill-opacity: 1;\"/><path class=\"point\" transform=\"translate(710.36,183.5)\" d=\"M3,0A3,3 0 1,1 0,-3A3,3 0 0,1 3,0Z\" style=\"opacity: 1; stroke-width: 0px; fill: rgb(118, 42, 131); fill-opacity: 1;\"/><path class=\"point\" transform=\"translate(710.36,183.5)\" d=\"M3,0A3,3 0 1,1 0,-3A3,3 0 0,1 3,0Z\" style=\"opacity: 1; stroke-width: 0px; fill: rgb(118, 42, 131); fill-opacity: 1;\"/><path class=\"point\" transform=\"translate(710.36,183.5)\" d=\"M3,0A3,3 0 1,1 0,-3A3,3 0 0,1 3,0Z\" style=\"opacity: 1; stroke-width: 0px; fill: rgb(118, 42, 131); fill-opacity: 1;\"/><path class=\"point\" transform=\"translate(710.36,183.5)\" d=\"M3,0A3,3 0 1,1 0,-3A3,3 0 0,1 3,0Z\" style=\"opacity: 1; stroke-width: 0px; fill: rgb(118, 42, 131); fill-opacity: 1;\"/><path class=\"point\" transform=\"translate(724.82,183.5)\" d=\"M3,0A3,3 0 1,1 0,-3A3,3 0 0,1 3,0Z\" style=\"opacity: 1; stroke-width: 0px; fill: rgb(118, 42, 131); fill-opacity: 1;\"/><path class=\"point\" transform=\"translate(724.82,183.5)\" d=\"M3,0A3,3 0 1,1 0,-3A3,3 0 0,1 3,0Z\" style=\"opacity: 1; stroke-width: 0px; fill: rgb(118, 42, 131); fill-opacity: 1;\"/><path class=\"point\" transform=\"translate(724.82,183.5)\" d=\"M3,0A3,3 0 1,1 0,-3A3,3 0 0,1 3,0Z\" style=\"opacity: 1; stroke-width: 0px; fill: rgb(118, 42, 131); fill-opacity: 1;\"/><path class=\"point\" transform=\"translate(724.82,183.5)\" d=\"M3,0A3,3 0 1,1 0,-3A3,3 0 0,1 3,0Z\" style=\"opacity: 1; stroke-width: 0px; fill: rgb(118, 42, 131); fill-opacity: 1;\"/><path class=\"point\" transform=\"translate(724.82,183.5)\" d=\"M3,0A3,3 0 1,1 0,-3A3,3 0 0,1 3,0Z\" style=\"opacity: 1; stroke-width: 0px; fill: rgb(118, 42, 131); fill-opacity: 1;\"/><path class=\"point\" transform=\"translate(724.82,183.5)\" d=\"M3,0A3,3 0 1,1 0,-3A3,3 0 0,1 3,0Z\" style=\"opacity: 1; stroke-width: 0px; fill: rgb(118, 42, 131); fill-opacity: 1;\"/><path class=\"point\" transform=\"translate(724.82,183.5)\" d=\"M3,0A3,3 0 1,1 0,-3A3,3 0 0,1 3,0Z\" style=\"opacity: 1; stroke-width: 0px; fill: rgb(118, 42, 131); fill-opacity: 1;\"/><path class=\"point\" transform=\"translate(724.82,183.5)\" d=\"M3,0A3,3 0 1,1 0,-3A3,3 0 0,1 3,0Z\" style=\"opacity: 1; stroke-width: 0px; fill: rgb(118, 42, 131); fill-opacity: 1;\"/><path class=\"point\" transform=\"translate(724.82,183.5)\" d=\"M3,0A3,3 0 1,1 0,-3A3,3 0 0,1 3,0Z\" style=\"opacity: 1; stroke-width: 0px; fill: rgb(118, 42, 131); fill-opacity: 1;\"/><path class=\"point\" transform=\"translate(724.82,183.5)\" d=\"M3,0A3,3 0 1,1 0,-3A3,3 0 0,1 3,0Z\" style=\"opacity: 1; stroke-width: 0px; fill: rgb(118, 42, 131); fill-opacity: 1;\"/><path class=\"point\" transform=\"translate(724.82,183.5)\" d=\"M3,0A3,3 0 1,1 0,-3A3,3 0 0,1 3,0Z\" style=\"opacity: 1; stroke-width: 0px; fill: rgb(118, 42, 131); fill-opacity: 1;\"/><path class=\"point\" transform=\"translate(739.29,183.5)\" d=\"M3,0A3,3 0 1,1 0,-3A3,3 0 0,1 3,0Z\" style=\"opacity: 1; stroke-width: 0px; fill: rgb(118, 42, 131); fill-opacity: 1;\"/><path class=\"point\" transform=\"translate(739.29,183.5)\" d=\"M3,0A3,3 0 1,1 0,-3A3,3 0 0,1 3,0Z\" style=\"opacity: 1; stroke-width: 0px; fill: rgb(118, 42, 131); fill-opacity: 1;\"/><path class=\"point\" transform=\"translate(739.29,183.5)\" d=\"M3,0A3,3 0 1,1 0,-3A3,3 0 0,1 3,0Z\" style=\"opacity: 1; stroke-width: 0px; fill: rgb(118, 42, 131); fill-opacity: 1;\"/><path class=\"point\" transform=\"translate(739.29,183.5)\" d=\"M3,0A3,3 0 1,1 0,-3A3,3 0 0,1 3,0Z\" style=\"opacity: 1; stroke-width: 0px; fill: rgb(118, 42, 131); fill-opacity: 1;\"/><path class=\"point\" transform=\"translate(739.29,183.5)\" d=\"M3,0A3,3 0 1,1 0,-3A3,3 0 0,1 3,0Z\" style=\"opacity: 1; stroke-width: 0px; fill: rgb(118, 42, 131); fill-opacity: 1;\"/><path class=\"point\" transform=\"translate(739.29,183.5)\" d=\"M3,0A3,3 0 1,1 0,-3A3,3 0 0,1 3,0Z\" style=\"opacity: 1; stroke-width: 0px; fill: rgb(118, 42, 131); fill-opacity: 1;\"/><path class=\"point\" transform=\"translate(753.75,183.5)\" d=\"M3,0A3,3 0 1,1 0,-3A3,3 0 0,1 3,0Z\" style=\"opacity: 1; stroke-width: 0px; fill: rgb(118, 42, 131); fill-opacity: 1;\"/><path class=\"point\" transform=\"translate(753.75,183.5)\" d=\"M3,0A3,3 0 1,1 0,-3A3,3 0 0,1 3,0Z\" style=\"opacity: 1; stroke-width: 0px; fill: rgb(118, 42, 131); fill-opacity: 1;\"/><path class=\"point\" transform=\"translate(753.75,183.5)\" d=\"M3,0A3,3 0 1,1 0,-3A3,3 0 0,1 3,0Z\" style=\"opacity: 1; stroke-width: 0px; fill: rgb(118, 42, 131); fill-opacity: 1;\"/><path class=\"point\" transform=\"translate(768.21,183.5)\" d=\"M3,0A3,3 0 1,1 0,-3A3,3 0 0,1 3,0Z\" style=\"opacity: 1; stroke-width: 0px; fill: rgb(118, 42, 131); fill-opacity: 1;\"/><path class=\"point\" transform=\"translate(768.21,183.5)\" d=\"M3,0A3,3 0 1,1 0,-3A3,3 0 0,1 3,0Z\" style=\"opacity: 1; stroke-width: 0px; fill: rgb(118, 42, 131); fill-opacity: 1;\"/><path class=\"point\" transform=\"translate(768.21,183.5)\" d=\"M3,0A3,3 0 1,1 0,-3A3,3 0 0,1 3,0Z\" style=\"opacity: 1; stroke-width: 0px; fill: rgb(118, 42, 131); fill-opacity: 1;\"/><path class=\"point\" transform=\"translate(768.21,183.5)\" d=\"M3,0A3,3 0 1,1 0,-3A3,3 0 0,1 3,0Z\" style=\"opacity: 1; stroke-width: 0px; fill: rgb(118, 42, 131); fill-opacity: 1;\"/><path class=\"point\" transform=\"translate(768.21,183.5)\" d=\"M3,0A3,3 0 1,1 0,-3A3,3 0 0,1 3,0Z\" style=\"opacity: 1; stroke-width: 0px; fill: rgb(118, 42, 131); fill-opacity: 1;\"/><path class=\"point\" transform=\"translate(768.21,183.5)\" d=\"M3,0A3,3 0 1,1 0,-3A3,3 0 0,1 3,0Z\" style=\"opacity: 1; stroke-width: 0px; fill: rgb(118, 42, 131); fill-opacity: 1;\"/><path class=\"point\" transform=\"translate(782.68,183.5)\" d=\"M3,0A3,3 0 1,1 0,-3A3,3 0 0,1 3,0Z\" style=\"opacity: 1; stroke-width: 0px; fill: rgb(118, 42, 131); fill-opacity: 1;\"/><path class=\"point\" transform=\"translate(811.61,183.5)\" d=\"M3,0A3,3 0 1,1 0,-3A3,3 0 0,1 3,0Z\" style=\"opacity: 1; stroke-width: 0px; fill: rgb(118, 42, 131); fill-opacity: 1;\"/><path class=\"point\" transform=\"translate(811.61,183.5)\" d=\"M3,0A3,3 0 1,1 0,-3A3,3 0 0,1 3,0Z\" style=\"opacity: 1; stroke-width: 0px; fill: rgb(118, 42, 131); fill-opacity: 1;\"/><path class=\"point\" transform=\"translate(811.61,183.5)\" d=\"M3,0A3,3 0 1,1 0,-3A3,3 0 0,1 3,0Z\" style=\"opacity: 1; stroke-width: 0px; fill: rgb(118, 42, 131); fill-opacity: 1;\"/><path class=\"point\" transform=\"translate(855,183.5)\" d=\"M3,0A3,3 0 1,1 0,-3A3,3 0 0,1 3,0Z\" style=\"opacity: 1; stroke-width: 0px; fill: rgb(118, 42, 131); fill-opacity: 1;\"/></g></g></g></g><g class=\"overplot\"/><path class=\"xlines-above crisp\" d=\"M0,0\" style=\"fill: none;\"/><path class=\"ylines-above crisp\" d=\"M0,0\" style=\"fill: none;\"/><g class=\"overlines-above\"/><g class=\"xaxislayer-above\"><g class=\"xtick\"><text text-anchor=\"middle\" x=\"0\" y=\"460\" transform=\"translate(66.07,0)\" style=\"font-family: 'Open Sans', verdana, arial, sans-serif; font-size: 12px; fill: rgb(42, 63, 95); fill-opacity: 1; white-space: pre; opacity: 1;\">10</text></g><g class=\"xtick\"><text text-anchor=\"middle\" x=\"0\" y=\"460\" style=\"font-family: 'Open Sans', verdana, arial, sans-serif; font-size: 12px; fill: rgb(42, 63, 95); fill-opacity: 1; white-space: pre; opacity: 1;\" transform=\"translate(210.71,0)\">20</text></g><g class=\"xtick\"><text text-anchor=\"middle\" x=\"0\" y=\"460\" style=\"font-family: 'Open Sans', verdana, arial, sans-serif; font-size: 12px; fill: rgb(42, 63, 95); fill-opacity: 1; white-space: pre; opacity: 1;\" transform=\"translate(355.36,0)\">30</text></g><g class=\"xtick\"><text text-anchor=\"middle\" x=\"0\" y=\"460\" style=\"font-family: 'Open Sans', verdana, arial, sans-serif; font-size: 12px; fill: rgb(42, 63, 95); fill-opacity: 1; white-space: pre; opacity: 1;\" transform=\"translate(500,0)\">40</text></g><g class=\"xtick\"><text text-anchor=\"middle\" x=\"0\" y=\"460\" style=\"font-family: 'Open Sans', verdana, arial, sans-serif; font-size: 12px; fill: rgb(42, 63, 95); fill-opacity: 1; white-space: pre; opacity: 1;\" transform=\"translate(644.64,0)\">50</text></g><g class=\"xtick\"><text text-anchor=\"middle\" x=\"0\" y=\"460\" style=\"font-family: 'Open Sans', verdana, arial, sans-serif; font-size: 12px; fill: rgb(42, 63, 95); fill-opacity: 1; white-space: pre; opacity: 1;\" transform=\"translate(789.29,0)\">60</text></g><g class=\"xtick\"><text text-anchor=\"middle\" x=\"0\" y=\"460\" style=\"font-family: 'Open Sans', verdana, arial, sans-serif; font-size: 12px; fill: rgb(42, 63, 95); fill-opacity: 1; white-space: pre; opacity: 1;\" transform=\"translate(933.93,0)\">70</text></g></g><g class=\"yaxislayer-above\"><g class=\"ytick\"><text text-anchor=\"end\" x=\"49\" y=\"4.199999999999999\" transform=\"translate(0,263.5)\" style=\"font-family: 'Open Sans', verdana, arial, sans-serif; font-size: 12px; fill: rgb(42, 63, 95); fill-opacity: 1; white-space: pre; opacity: 1;\">trace 0</text></g></g><g class=\"overaxes-above\"/></g></g><g class=\"polarlayer\"/><g class=\"smithlayer\"/><g class=\"ternarylayer\"/><g class=\"geolayer\"/><g class=\"funnelarealayer\"/><g class=\"pielayer\"/><g class=\"iciclelayer\"/><g class=\"treemaplayer\"/><g class=\"sunburstlayer\"/><g class=\"glimages\"/><defs id=\"topdefs-359371\"><g class=\"clips\"/></defs><g class=\"layer-above\"><g class=\"imagelayer\"/><g class=\"shapelayer\"/></g><g class=\"infolayer\"><g class=\"g-gtitle\"><text class=\"gtitle\" x=\"100\" y=\"25\" text-anchor=\"middle\" dy=\"0.7em\" style=\"font-family: 'Times New Roman'; font-size: 26px; fill: rgb(0, 0, 0); opacity: 1; font-weight: normal; white-space: pre;\">Boxplot of Age</text></g><g class=\"g-xtitle\"><text class=\"xtitle\" x=\"500\" y=\"487.3\" text-anchor=\"middle\" style=\"font-family: 'Open Sans', verdana, arial, sans-serif; font-size: 14px; fill: rgb(42, 63, 95); opacity: 1; font-weight: normal; white-space: pre;\">Age</text></g><g class=\"g-ytitle\"/></g></svg>"
      ]
     },
     "metadata": {},
     "output_type": "display_data"
    }
   ],
   "source": [
    "fig = go.Figure(data=[go.Box(\n",
    "    x=df['age'],\n",
    "    marker=dict(color=palette[1])\n",
    ")])\n",
    "\n",
    "fig.update_layout(\n",
    "    title_text=\"Boxplot of Age\",\n",
    "    title_font_size=24,\n",
    "    title_font_family=\"Times New Roman\",\n",
    "    title_font_color=\"#000000\",  \n",
    "    paper_bgcolor='#ffffff',  \n",
    "    plot_bgcolor='#ffffff',  \n",
    "    xaxis=dict(title=\"Age\"),\n",
    ")\n",
    "\n",
    "fig.update_layout(\n",
    "    title={\n",
    "        'y':0.95,\n",
    "        'x':0.10,\n",
    "        'xanchor': 'center',\n",
    "        'yanchor': 'top'},\n",
    "    title_font_size=26,\n",
    "    margin=dict(l=50, r=50, t=80, b=50)\n",
    ")\n",
    "\n",
    "\n",
    "\n",
    "fig.update_layout(width=1000)\n",
    "\n",
    "fig.show('svg')"
   ]
  },
  {
   "cell_type": "markdown",
   "id": "d32373a9",
   "metadata": {
    "papermill": {
     "duration": 0.020295,
     "end_time": "2024-05-29T06:42:52.459389",
     "exception": false,
     "start_time": "2024-05-29T06:42:52.439094",
     "status": "completed"
    },
    "tags": []
   },
   "source": [
    "*Some outliers are present after 54*"
   ]
  },
  {
   "cell_type": "markdown",
   "id": "27a972d9",
   "metadata": {
    "papermill": {
     "duration": 0.020172,
     "end_time": "2024-05-29T06:42:52.499477",
     "exception": false,
     "start_time": "2024-05-29T06:42:52.479305",
     "status": "completed"
    },
    "tags": []
   },
   "source": [
    "----------------------------------------------------------------------------------------------------------------------------------------------------------"
   ]
  },
  {
   "cell_type": "markdown",
   "id": "931738de",
   "metadata": {
    "papermill": {
     "duration": 0.019772,
     "end_time": "2024-05-29T06:42:52.539480",
     "exception": false,
     "start_time": "2024-05-29T06:42:52.519708",
     "status": "completed"
    },
    "tags": []
   },
   "source": [
    "## wtkg : Weight (in Kgs)\n",
    "\n",
    "***Conclusions***\n",
    "- *Most of the outliers are present beyond the weight of 100kg*\n",
    "\n",
    "- *The distribution is slightly positively skewewd*\n",
    "\n",
    "- \"No missing values\"\n",
    "\n",
    "***Hypothesis***\n",
    "\n",
    "- *As most of the outliers in the Age column are present beyond the age of 60, hence maybe most of the people belonging to that age group are over 100 kg*"
   ]
  },
  {
   "cell_type": "code",
   "execution_count": 11,
   "id": "6246719c",
   "metadata": {
    "execution": {
     "iopub.execute_input": "2024-05-29T06:42:52.581812Z",
     "iopub.status.busy": "2024-05-29T06:42:52.581398Z",
     "iopub.status.idle": "2024-05-29T06:42:52.591572Z",
     "shell.execute_reply": "2024-05-29T06:42:52.590793Z"
    },
    "papermill": {
     "duration": 0.033501,
     "end_time": "2024-05-29T06:42:52.593597",
     "exception": false,
     "start_time": "2024-05-29T06:42:52.560096",
     "status": "completed"
    },
    "tags": []
   },
   "outputs": [
    {
     "data": {
      "text/plain": [
       "count    15000.000000\n",
       "mean        76.019604\n",
       "std         12.170759\n",
       "min         42.256390\n",
       "25%         68.323125\n",
       "50%         74.114225\n",
       "75%         81.309035\n",
       "max        141.612390\n",
       "Name: wtkg, dtype: float64"
      ]
     },
     "execution_count": 11,
     "metadata": {},
     "output_type": "execute_result"
    }
   ],
   "source": [
    "df['wtkg'].describe()"
   ]
  },
  {
   "cell_type": "code",
   "execution_count": 12,
   "id": "39524b55",
   "metadata": {
    "execution": {
     "iopub.execute_input": "2024-05-29T06:42:52.636246Z",
     "iopub.status.busy": "2024-05-29T06:42:52.635833Z",
     "iopub.status.idle": "2024-05-29T06:42:52.795511Z",
     "shell.execute_reply": "2024-05-29T06:42:52.794746Z"
    },
    "papermill": {
     "duration": 0.183609,
     "end_time": "2024-05-29T06:42:52.797928",
     "exception": false,
     "start_time": "2024-05-29T06:42:52.614319",
     "status": "completed"
    },
    "tags": []
   },
   "outputs": [
    {
     "data": {
      "image/svg+xml": [
       "<svg class=\"main-svg\" xmlns=\"http://www.w3.org/2000/svg\" xmlns:xlink=\"http://www.w3.org/1999/xlink\" width=\"1000\" height=\"500\" style=\"\" viewBox=\"0 0 1000 500\"><rect x=\"0\" y=\"0\" width=\"1000\" height=\"500\" style=\"fill: rgb(255, 255, 255); fill-opacity: 1;\"/><defs id=\"defs-1733ba\"><g class=\"clips\"><clipPath id=\"clip1733baxyplot\" class=\"plotclip\"><rect width=\"885\" height=\"367\"/></clipPath><clipPath class=\"axesclip\" id=\"clip1733bax\"><rect x=\"65\" y=\"0\" width=\"885\" height=\"500\"/></clipPath><clipPath class=\"axesclip\" id=\"clip1733bay\"><rect x=\"0\" y=\"80\" width=\"1000\" height=\"367\"/></clipPath><clipPath class=\"axesclip\" id=\"clip1733baxy\"><rect x=\"65\" y=\"80\" width=\"885\" height=\"367\"/></clipPath></g><g class=\"gradients\"/><g class=\"patterns\"/></defs><g class=\"bglayer\"/><g class=\"layer-below\"><g class=\"imagelayer\"/><g class=\"shapelayer\"/></g><g class=\"cartesianlayer\"><g class=\"subplot xy\"><g class=\"layer-subplot\"><g class=\"shapelayer\"/><g class=\"imagelayer\"/></g><g class=\"minor-gridlayer\"><g class=\"x\"/><g class=\"y\"/></g><g class=\"gridlayer\"><g class=\"x\"/><g class=\"y\"><path class=\"ygrid crisp\" transform=\"translate(0,388.57)\" d=\"M65,0h885\" style=\"stroke: rgb(255, 255, 255); stroke-opacity: 1; stroke-width: 1px;\"/><path class=\"ygrid crisp\" transform=\"translate(0,330.14)\" d=\"M65,0h885\" style=\"stroke: rgb(255, 255, 255); stroke-opacity: 1; stroke-width: 1px;\"/><path class=\"ygrid crisp\" transform=\"translate(0,271.71000000000004)\" d=\"M65,0h885\" style=\"stroke: rgb(255, 255, 255); stroke-opacity: 1; stroke-width: 1px;\"/><path class=\"ygrid crisp\" transform=\"translate(0,213.28)\" d=\"M65,0h885\" style=\"stroke: rgb(255, 255, 255); stroke-opacity: 1; stroke-width: 1px;\"/><path class=\"ygrid crisp\" transform=\"translate(0,154.85)\" d=\"M65,0h885\" style=\"stroke: rgb(255, 255, 255); stroke-opacity: 1; stroke-width: 1px;\"/><path class=\"ygrid crisp\" transform=\"translate(0,96.42)\" d=\"M65,0h885\" style=\"stroke: rgb(255, 255, 255); stroke-opacity: 1; stroke-width: 1px;\"/></g></g><g class=\"zerolinelayer\"><path class=\"yzl zl crisp\" transform=\"translate(0,447)\" d=\"M65,0h885\" style=\"stroke: rgb(255, 255, 255); stroke-opacity: 1; stroke-width: 2px;\"/></g><path class=\"xlines-below\"/><path class=\"ylines-below\"/><g class=\"overlines-below\"/><g class=\"xaxislayer-below\"/><g class=\"yaxislayer-below\"/><g class=\"overaxes-below\"/><g class=\"plot\" transform=\"translate(65,80)\" clip-path=\"url(#clip1733baxyplot)\"><g class=\"barlayer mlayer\"><g class=\"trace bars\" shape-rendering=\"crispEdges\" style=\"opacity: 1;\"><g class=\"points\"><g class=\"point\"><path d=\"M0,367V365.31H80.45V367Z\" style=\"vector-effect: none; opacity: 1; stroke-width: 0px; fill: rgb(214, 96, 77); fill-opacity: 1;\"/></g><g class=\"point\"><path d=\"M80.45,367V324H160.91V367Z\" style=\"vector-effect: none; opacity: 1; stroke-width: 0px; fill: rgb(214, 96, 77); fill-opacity: 1;\"/></g><g class=\"point\"><path d=\"M160.91,367V134.74H241.36V367Z\" style=\"vector-effect: none; opacity: 1; stroke-width: 0px; fill: rgb(214, 96, 77); fill-opacity: 1;\"/></g><g class=\"point\"><path d=\"M241.36,367V18.35H321.82V367Z\" style=\"vector-effect: none; opacity: 1; stroke-width: 0px; fill: rgb(214, 96, 77); fill-opacity: 1;\"/></g><g class=\"point\"><path d=\"M321.82,367V213.51H402.27V367Z\" style=\"vector-effect: none; opacity: 1; stroke-width: 0px; fill: rgb(214, 96, 77); fill-opacity: 1;\"/></g><g class=\"point\"><path d=\"M402.27,367V312.25H482.73V367Z\" style=\"vector-effect: none; opacity: 1; stroke-width: 0px; fill: rgb(214, 96, 77); fill-opacity: 1;\"/></g><g class=\"point\"><path d=\"M482.73,367V343.34H563.18V367Z\" style=\"vector-effect: none; opacity: 1; stroke-width: 0px; fill: rgb(214, 96, 77); fill-opacity: 1;\"/></g><g class=\"point\"><path d=\"M563.18,367V354.15H643.64V367Z\" style=\"vector-effect: none; opacity: 1; stroke-width: 0px; fill: rgb(214, 96, 77); fill-opacity: 1;\"/></g><g class=\"point\"><path d=\"M643.64,367V361.98H724.09V367Z\" style=\"vector-effect: none; opacity: 1; stroke-width: 0px; fill: rgb(214, 96, 77); fill-opacity: 1;\"/></g><g class=\"point\"><path d=\"M724.09,367V366.07H804.55V367Z\" style=\"vector-effect: none; opacity: 1; stroke-width: 0px; fill: rgb(214, 96, 77); fill-opacity: 1;\"/></g><g class=\"point\"><path d=\"M804.55,367V366.88H885V367Z\" style=\"vector-effect: none; opacity: 1; stroke-width: 0px; fill: rgb(214, 96, 77); fill-opacity: 1;\"/></g></g></g></g></g><g class=\"overplot\"/><path class=\"xlines-above crisp\" d=\"M0,0\" style=\"fill: none;\"/><path class=\"ylines-above crisp\" d=\"M0,0\" style=\"fill: none;\"/><g class=\"overlines-above\"/><g class=\"xaxislayer-above\"><g class=\"xtick\"><text text-anchor=\"middle\" x=\"0\" y=\"460\" transform=\"translate(65,0)\" style=\"font-family: 'Open Sans', verdana, arial, sans-serif; font-size: 12px; fill: rgb(42, 63, 95); fill-opacity: 1; white-space: pre; opacity: 1;\">40</text></g><g class=\"xtick\"><text text-anchor=\"middle\" x=\"0\" y=\"460\" style=\"font-family: 'Open Sans', verdana, arial, sans-serif; font-size: 12px; fill: rgb(42, 63, 95); fill-opacity: 1; white-space: pre; opacity: 1;\" transform=\"translate(225.91,0)\">60</text></g><g class=\"xtick\"><text text-anchor=\"middle\" x=\"0\" y=\"460\" style=\"font-family: 'Open Sans', verdana, arial, sans-serif; font-size: 12px; fill: rgb(42, 63, 95); fill-opacity: 1; white-space: pre; opacity: 1;\" transform=\"translate(386.82,0)\">80</text></g><g class=\"xtick\"><text text-anchor=\"middle\" x=\"0\" y=\"460\" style=\"font-family: 'Open Sans', verdana, arial, sans-serif; font-size: 12px; fill: rgb(42, 63, 95); fill-opacity: 1; white-space: pre; opacity: 1;\" transform=\"translate(547.73,0)\">100</text></g><g class=\"xtick\"><text text-anchor=\"middle\" x=\"0\" y=\"460\" style=\"font-family: 'Open Sans', verdana, arial, sans-serif; font-size: 12px; fill: rgb(42, 63, 95); fill-opacity: 1; white-space: pre; opacity: 1;\" transform=\"translate(708.64,0)\">120</text></g><g class=\"xtick\"><text text-anchor=\"middle\" x=\"0\" y=\"460\" style=\"font-family: 'Open Sans', verdana, arial, sans-serif; font-size: 12px; fill: rgb(42, 63, 95); fill-opacity: 1; white-space: pre; opacity: 1;\" transform=\"translate(869.55,0)\">140</text></g></g><g class=\"yaxislayer-above\"><g class=\"ytick\"><text text-anchor=\"end\" x=\"64\" y=\"4.199999999999999\" transform=\"translate(0,447)\" style=\"font-family: 'Open Sans', verdana, arial, sans-serif; font-size: 12px; fill: rgb(42, 63, 95); fill-opacity: 1; white-space: pre; opacity: 1;\">0</text></g><g class=\"ytick\"><text text-anchor=\"end\" x=\"64\" y=\"4.199999999999999\" style=\"font-family: 'Open Sans', verdana, arial, sans-serif; font-size: 12px; fill: rgb(42, 63, 95); fill-opacity: 1; white-space: pre; opacity: 1;\" transform=\"translate(0,388.57)\">1000</text></g><g class=\"ytick\"><text text-anchor=\"end\" x=\"64\" y=\"4.199999999999999\" style=\"font-family: 'Open Sans', verdana, arial, sans-serif; font-size: 12px; fill: rgb(42, 63, 95); fill-opacity: 1; white-space: pre; opacity: 1;\" transform=\"translate(0,330.14)\">2000</text></g><g class=\"ytick\"><text text-anchor=\"end\" x=\"64\" y=\"4.199999999999999\" style=\"font-family: 'Open Sans', verdana, arial, sans-serif; font-size: 12px; fill: rgb(42, 63, 95); fill-opacity: 1; white-space: pre; opacity: 1;\" transform=\"translate(0,271.71000000000004)\">3000</text></g><g class=\"ytick\"><text text-anchor=\"end\" x=\"64\" y=\"4.199999999999999\" style=\"font-family: 'Open Sans', verdana, arial, sans-serif; font-size: 12px; fill: rgb(42, 63, 95); fill-opacity: 1; white-space: pre; opacity: 1;\" transform=\"translate(0,213.28)\">4000</text></g><g class=\"ytick\"><text text-anchor=\"end\" x=\"64\" y=\"4.199999999999999\" style=\"font-family: 'Open Sans', verdana, arial, sans-serif; font-size: 12px; fill: rgb(42, 63, 95); fill-opacity: 1; white-space: pre; opacity: 1;\" transform=\"translate(0,154.85)\">5000</text></g><g class=\"ytick\"><text text-anchor=\"end\" x=\"64\" y=\"4.199999999999999\" style=\"font-family: 'Open Sans', verdana, arial, sans-serif; font-size: 12px; fill: rgb(42, 63, 95); fill-opacity: 1; white-space: pre; opacity: 1;\" transform=\"translate(0,96.42)\">6000</text></g></g><g class=\"overaxes-above\"/></g></g><g class=\"polarlayer\"/><g class=\"smithlayer\"/><g class=\"ternarylayer\"/><g class=\"geolayer\"/><g class=\"funnelarealayer\"/><g class=\"pielayer\"/><g class=\"iciclelayer\"/><g class=\"treemaplayer\"/><g class=\"sunburstlayer\"/><g class=\"glimages\"/><defs id=\"topdefs-1733ba\"><g class=\"clips\"/></defs><g class=\"layer-above\"><g class=\"imagelayer\"/><g class=\"shapelayer\"/></g><g class=\"infolayer\"><g class=\"g-gtitle\"><text class=\"gtitle\" x=\"150\" y=\"25\" text-anchor=\"middle\" dy=\"0.7em\" style=\"font-family: 'Times New Roman'; font-size: 26px; fill: rgb(0, 0, 0); opacity: 1; font-weight: normal; white-space: pre;\">Weight Distribution</text></g><g class=\"g-xtitle\"><text class=\"xtitle\" x=\"507.5\" y=\"487.3\" text-anchor=\"middle\" style=\"font-family: 'Open Sans', verdana, arial, sans-serif; font-size: 14px; fill: rgb(42, 63, 95); opacity: 1; font-weight: normal; white-space: pre;\">Age</text></g><g class=\"g-ytitle\" transform=\"translate(0.0029296875,0)\"><text class=\"ytitle\" transform=\"rotate(-90,12.996875000000003,263.5)\" x=\"12.996875000000003\" y=\"263.5\" text-anchor=\"middle\" style=\"font-family: 'Open Sans', verdana, arial, sans-serif; font-size: 14px; fill: rgb(42, 63, 95); opacity: 1; font-weight: normal; white-space: pre;\">Frequency</text></g></g></svg>"
      ]
     },
     "metadata": {},
     "output_type": "display_data"
    }
   ],
   "source": [
    "palette = cl.to_rgb(cl.scales['10']['div']['RdGy'])\n",
    "\n",
    "# Create the histogram\n",
    "fig = go.Figure(data=[go.Histogram(\n",
    "    x=df['wtkg'],\n",
    "    marker=dict(color=palette[2]),  # Choose the first color from the palette\n",
    "    nbinsx=10\n",
    ")])\n",
    "\n",
    "# Update layout for better appearance\n",
    "fig.update_layout(\n",
    "    title_text=\"Weight Distribution\",\n",
    "    title_font_size=24,\n",
    "    title_font_family=\"Times New Roman\",\n",
    "    title_font_color=\"#000000\",  # Adjust title font color for better visibility\n",
    "    paper_bgcolor='#ffffff',  # Set the background color to a warm white shade (#faf0e6)\n",
    "    plot_bgcolor='#ffffff',  # Make sure the plot area also has a consistent background\n",
    "    xaxis=dict(title=\"Age\"),\n",
    "    yaxis=dict(title=\"Frequency\"),\n",
    ")\n",
    "\n",
    "# Adding a more vibrant title and better spacing\n",
    "fig.update_layout(\n",
    "    title={\n",
    "        'text': \"Weight Distribution\",\n",
    "        'y':0.95,\n",
    "        'x':0.15,\n",
    "        'xanchor': 'center',\n",
    "        'yanchor': 'top'},\n",
    "    title_font_size=26,\n",
    "    margin=dict(l=50, r=50, t=80, b=50)\n",
    ")\n",
    "\n",
    "fig.update_layout(width=1000)\n",
    "\n",
    "# Show the pie chart\n",
    "fig.show('svg')"
   ]
  },
  {
   "cell_type": "markdown",
   "id": "ae98cc82",
   "metadata": {
    "papermill": {
     "duration": 0.020685,
     "end_time": "2024-05-29T06:42:52.839290",
     "exception": false,
     "start_time": "2024-05-29T06:42:52.818605",
     "status": "completed"
    },
    "tags": []
   },
   "source": [
    "*Almost normally distributed. Slightly positively skewed*"
   ]
  },
  {
   "cell_type": "code",
   "execution_count": 13,
   "id": "bef52ce1",
   "metadata": {
    "execution": {
     "iopub.execute_input": "2024-05-29T06:42:52.881455Z",
     "iopub.status.busy": "2024-05-29T06:42:52.881075Z",
     "iopub.status.idle": "2024-05-29T06:42:52.888330Z",
     "shell.execute_reply": "2024-05-29T06:42:52.887318Z"
    },
    "papermill": {
     "duration": 0.030727,
     "end_time": "2024-05-29T06:42:52.890311",
     "exception": false,
     "start_time": "2024-05-29T06:42:52.859584",
     "status": "completed"
    },
    "tags": []
   },
   "outputs": [
    {
     "data": {
      "text/plain": [
       "1.1910895370485162"
      ]
     },
     "execution_count": 13,
     "metadata": {},
     "output_type": "execute_result"
    }
   ],
   "source": [
    "df['wtkg'].skew()"
   ]
  },
  {
   "cell_type": "markdown",
   "id": "1108c64c",
   "metadata": {
    "papermill": {
     "duration": 0.020437,
     "end_time": "2024-05-29T06:42:52.931538",
     "exception": false,
     "start_time": "2024-05-29T06:42:52.911101",
     "status": "completed"
    },
    "tags": []
   },
   "source": [
    "*Close to 1*"
   ]
  },
  {
   "cell_type": "code",
   "execution_count": 14,
   "id": "f053ecd4",
   "metadata": {
    "execution": {
     "iopub.execute_input": "2024-05-29T06:42:52.977162Z",
     "iopub.status.busy": "2024-05-29T06:42:52.976335Z",
     "iopub.status.idle": "2024-05-29T06:42:53.242577Z",
     "shell.execute_reply": "2024-05-29T06:42:53.241424Z"
    },
    "papermill": {
     "duration": 0.291734,
     "end_time": "2024-05-29T06:42:53.246402",
     "exception": false,
     "start_time": "2024-05-29T06:42:52.954668",
     "status": "completed"
    },
    "tags": []
   },
   "outputs": [
    {
     "data": {
      "image/svg+xml": [
       "<svg class=\"main-svg\" xmlns=\"http://www.w3.org/2000/svg\" xmlns:xlink=\"http://www.w3.org/1999/xlink\" width=\"1000\" height=\"500\" style=\"\" viewBox=\"0 0 1000 500\"><rect x=\"0\" y=\"0\" width=\"1000\" height=\"500\" style=\"fill: rgb(255, 255, 255); fill-opacity: 1;\"/><defs id=\"defs-75397b\"><g class=\"clips\"><clipPath id=\"clip75397bxyplot\" class=\"plotclip\"><rect width=\"900\" height=\"367\"/></clipPath><clipPath class=\"axesclip\" id=\"clip75397bx\"><rect x=\"50\" y=\"0\" width=\"900\" height=\"500\"/></clipPath><clipPath class=\"axesclip\" id=\"clip75397by\"><rect x=\"0\" y=\"80\" width=\"1000\" height=\"367\"/></clipPath><clipPath class=\"axesclip\" id=\"clip75397bxy\"><rect x=\"50\" y=\"80\" width=\"900\" height=\"367\"/></clipPath></g><g class=\"gradients\"/><g class=\"patterns\"/></defs><g class=\"bglayer\"/><g class=\"layer-below\"><g class=\"imagelayer\"/><g class=\"shapelayer\"/></g><g class=\"cartesianlayer\"><g class=\"subplot xy\"><g class=\"layer-subplot\"><g class=\"shapelayer\"/><g class=\"imagelayer\"/></g><g class=\"minor-gridlayer\"><g class=\"x\"/><g class=\"y\"/></g><g class=\"gridlayer\"><g class=\"x\"><path class=\"xgrid crisp\" transform=\"translate(76.6,0)\" d=\"M0,80v367\" style=\"stroke: rgb(255, 255, 255); stroke-opacity: 1; stroke-width: 1px;\"/><path class=\"xgrid crisp\" transform=\"translate(239.65,0)\" d=\"M0,80v367\" style=\"stroke: rgb(255, 255, 255); stroke-opacity: 1; stroke-width: 1px;\"/><path class=\"xgrid crisp\" transform=\"translate(402.7,0)\" d=\"M0,80v367\" style=\"stroke: rgb(255, 255, 255); stroke-opacity: 1; stroke-width: 1px;\"/><path class=\"xgrid crisp\" transform=\"translate(565.75,0)\" d=\"M0,80v367\" style=\"stroke: rgb(255, 255, 255); stroke-opacity: 1; stroke-width: 1px;\"/><path class=\"xgrid crisp\" transform=\"translate(728.8,0)\" d=\"M0,80v367\" style=\"stroke: rgb(255, 255, 255); stroke-opacity: 1; stroke-width: 1px;\"/><path class=\"xgrid crisp\" transform=\"translate(891.85,0)\" d=\"M0,80v367\" style=\"stroke: rgb(255, 255, 255); stroke-opacity: 1; stroke-width: 1px;\"/></g><g class=\"y\"/></g><g class=\"zerolinelayer\"/><path class=\"xlines-below\"/><path class=\"ylines-below\"/><g class=\"overlines-below\"/><g class=\"xaxislayer-below\"/><g class=\"yaxislayer-below\"/><g class=\"overaxes-below\"/><g class=\"plot\" transform=\"translate(50,80)\" clip-path=\"url(#clip75397bxyplot)\"><g class=\"boxlayer mlayer\"><g class=\"trace boxes\" style=\"opacity: 1;\"><path class=\"box\" d=\"M304.72,273.41V93.59M257.5,273.41V93.59H363.38V273.41ZM257.5,183.5H98.71M363.38,183.5H522.18M98.71,228.46V138.54M522.18,228.46V138.54\" style=\"vector-effect: none; stroke-width: 2px; stroke: rgb(178, 24, 43); stroke-opacity: 1; fill: rgb(178, 24, 43); fill-opacity: 0.5;\"/><g class=\"points\"><path class=\"point\" transform=\"translate(45,183.5)\" d=\"M3,0A3,3 0 1,1 0,-3A3,3 0 0,1 3,0Z\" style=\"opacity: 1; stroke-width: 0px; fill: rgb(178, 24, 43); fill-opacity: 1;\"/><path class=\"point\" transform=\"translate(47.13,183.5)\" d=\"M3,0A3,3 0 1,1 0,-3A3,3 0 0,1 3,0Z\" style=\"opacity: 1; stroke-width: 0px; fill: rgb(178, 24, 43); fill-opacity: 1;\"/><path class=\"point\" transform=\"translate(58.94,183.5)\" d=\"M3,0A3,3 0 1,1 0,-3A3,3 0 0,1 3,0Z\" style=\"opacity: 1; stroke-width: 0px; fill: rgb(178, 24, 43); fill-opacity: 1;\"/><path class=\"point\" transform=\"translate(62.28,183.5)\" d=\"M3,0A3,3 0 1,1 0,-3A3,3 0 0,1 3,0Z\" style=\"opacity: 1; stroke-width: 0px; fill: rgb(178, 24, 43); fill-opacity: 1;\"/><path class=\"point\" transform=\"translate(63.74,183.5)\" d=\"M3,0A3,3 0 1,1 0,-3A3,3 0 0,1 3,0Z\" style=\"opacity: 1; stroke-width: 0px; fill: rgb(178, 24, 43); fill-opacity: 1;\"/><path class=\"point\" transform=\"translate(68.37,183.5)\" d=\"M3,0A3,3 0 1,1 0,-3A3,3 0 0,1 3,0Z\" style=\"opacity: 1; stroke-width: 0px; fill: rgb(178, 24, 43); fill-opacity: 1;\"/><path class=\"point\" transform=\"translate(76.27,183.5)\" d=\"M3,0A3,3 0 1,1 0,-3A3,3 0 0,1 3,0Z\" style=\"opacity: 1; stroke-width: 0px; fill: rgb(178, 24, 43); fill-opacity: 1;\"/><path class=\"point\" transform=\"translate(79.24,183.5)\" d=\"M3,0A3,3 0 1,1 0,-3A3,3 0 0,1 3,0Z\" style=\"opacity: 1; stroke-width: 0px; fill: rgb(178, 24, 43); fill-opacity: 1;\"/><path class=\"point\" transform=\"translate(82.56,183.5)\" d=\"M3,0A3,3 0 1,1 0,-3A3,3 0 0,1 3,0Z\" style=\"opacity: 1; stroke-width: 0px; fill: rgb(178, 24, 43); fill-opacity: 1;\"/><path class=\"point\" transform=\"translate(86.66,183.5)\" d=\"M3,0A3,3 0 1,1 0,-3A3,3 0 0,1 3,0Z\" style=\"opacity: 1; stroke-width: 0px; fill: rgb(178, 24, 43); fill-opacity: 1;\"/><path class=\"point\" transform=\"translate(87.32,183.5)\" d=\"M3,0A3,3 0 1,1 0,-3A3,3 0 0,1 3,0Z\" style=\"opacity: 1; stroke-width: 0px; fill: rgb(178, 24, 43); fill-opacity: 1;\"/><path class=\"point\" transform=\"translate(90,183.5)\" d=\"M3,0A3,3 0 1,1 0,-3A3,3 0 0,1 3,0Z\" style=\"opacity: 1; stroke-width: 0px; fill: rgb(178, 24, 43); fill-opacity: 1;\"/><path class=\"point\" transform=\"translate(91,183.5)\" d=\"M3,0A3,3 0 1,1 0,-3A3,3 0 0,1 3,0Z\" style=\"opacity: 1; stroke-width: 0px; fill: rgb(178, 24, 43); fill-opacity: 1;\"/><path class=\"point\" transform=\"translate(93.41,183.5)\" d=\"M3,0A3,3 0 1,1 0,-3A3,3 0 0,1 3,0Z\" style=\"opacity: 1; stroke-width: 0px; fill: rgb(178, 24, 43); fill-opacity: 1;\"/><path class=\"point\" transform=\"translate(97.33,183.5)\" d=\"M3,0A3,3 0 1,1 0,-3A3,3 0 0,1 3,0Z\" style=\"opacity: 1; stroke-width: 0px; fill: rgb(178, 24, 43); fill-opacity: 1;\"/><path class=\"point\" transform=\"translate(98.12,183.5)\" d=\"M3,0A3,3 0 1,1 0,-3A3,3 0 0,1 3,0Z\" style=\"opacity: 1; stroke-width: 0px; fill: rgb(178, 24, 43); fill-opacity: 1;\"/><path class=\"point\" transform=\"translate(98.31,183.5)\" d=\"M3,0A3,3 0 1,1 0,-3A3,3 0 0,1 3,0Z\" style=\"opacity: 1; stroke-width: 0px; fill: rgb(178, 24, 43); fill-opacity: 1;\"/><path class=\"point\" transform=\"translate(98.5,183.5)\" d=\"M3,0A3,3 0 1,1 0,-3A3,3 0 0,1 3,0Z\" style=\"opacity: 1; stroke-width: 0px; fill: rgb(178, 24, 43); fill-opacity: 1;\"/><path class=\"point\" transform=\"translate(522.3,183.5)\" d=\"M3,0A3,3 0 1,1 0,-3A3,3 0 0,1 3,0Z\" style=\"opacity: 1; stroke-width: 0px; fill: rgb(178, 24, 43); fill-opacity: 1;\"/><path class=\"point\" transform=\"translate(522.34,183.5)\" d=\"M3,0A3,3 0 1,1 0,-3A3,3 0 0,1 3,0Z\" style=\"opacity: 1; stroke-width: 0px; fill: rgb(178, 24, 43); fill-opacity: 1;\"/><path class=\"point\" transform=\"translate(522.57,183.5)\" d=\"M3,0A3,3 0 1,1 0,-3A3,3 0 0,1 3,0Z\" style=\"opacity: 1; stroke-width: 0px; fill: rgb(178, 24, 43); fill-opacity: 1;\"/><path class=\"point\" transform=\"translate(522.82,183.5)\" d=\"M3,0A3,3 0 1,1 0,-3A3,3 0 0,1 3,0Z\" style=\"opacity: 1; stroke-width: 0px; fill: rgb(178, 24, 43); fill-opacity: 1;\"/><path class=\"point\" transform=\"translate(522.87,183.5)\" d=\"M3,0A3,3 0 1,1 0,-3A3,3 0 0,1 3,0Z\" style=\"opacity: 1; stroke-width: 0px; fill: rgb(178, 24, 43); fill-opacity: 1;\"/><path class=\"point\" transform=\"translate(522.9,183.5)\" d=\"M3,0A3,3 0 1,1 0,-3A3,3 0 0,1 3,0Z\" style=\"opacity: 1; stroke-width: 0px; fill: rgb(178, 24, 43); fill-opacity: 1;\"/><path class=\"point\" transform=\"translate(522.99,183.5)\" d=\"M3,0A3,3 0 1,1 0,-3A3,3 0 0,1 3,0Z\" style=\"opacity: 1; stroke-width: 0px; fill: rgb(178, 24, 43); fill-opacity: 1;\"/><path class=\"point\" transform=\"translate(523.33,183.5)\" d=\"M3,0A3,3 0 1,1 0,-3A3,3 0 0,1 3,0Z\" style=\"opacity: 1; stroke-width: 0px; fill: rgb(178, 24, 43); fill-opacity: 1;\"/><path class=\"point\" transform=\"translate(523.65,183.5)\" d=\"M3,0A3,3 0 1,1 0,-3A3,3 0 0,1 3,0Z\" style=\"opacity: 1; stroke-width: 0px; fill: rgb(178, 24, 43); fill-opacity: 1;\"/><path class=\"point\" transform=\"translate(524.35,183.5)\" d=\"M3,0A3,3 0 1,1 0,-3A3,3 0 0,1 3,0Z\" style=\"opacity: 1; stroke-width: 0px; fill: rgb(178, 24, 43); fill-opacity: 1;\"/><path class=\"point\" transform=\"translate(524.65,183.5)\" d=\"M3,0A3,3 0 1,1 0,-3A3,3 0 0,1 3,0Z\" style=\"opacity: 1; stroke-width: 0px; fill: rgb(178, 24, 43); fill-opacity: 1;\"/><path class=\"point\" transform=\"translate(524.78,183.5)\" d=\"M3,0A3,3 0 1,1 0,-3A3,3 0 0,1 3,0Z\" style=\"opacity: 1; stroke-width: 0px; fill: rgb(178, 24, 43); fill-opacity: 1;\"/><path class=\"point\" transform=\"translate(525.28,183.5)\" d=\"M3,0A3,3 0 1,1 0,-3A3,3 0 0,1 3,0Z\" style=\"opacity: 1; stroke-width: 0px; fill: rgb(178, 24, 43); fill-opacity: 1;\"/><path class=\"point\" transform=\"translate(525.31,183.5)\" d=\"M3,0A3,3 0 1,1 0,-3A3,3 0 0,1 3,0Z\" style=\"opacity: 1; stroke-width: 0px; fill: rgb(178, 24, 43); fill-opacity: 1;\"/><path class=\"point\" transform=\"translate(525.6,183.5)\" d=\"M3,0A3,3 0 1,1 0,-3A3,3 0 0,1 3,0Z\" style=\"opacity: 1; stroke-width: 0px; fill: rgb(178, 24, 43); fill-opacity: 1;\"/><path class=\"point\" transform=\"translate(525.68,183.5)\" d=\"M3,0A3,3 0 1,1 0,-3A3,3 0 0,1 3,0Z\" style=\"opacity: 1; stroke-width: 0px; fill: rgb(178, 24, 43); fill-opacity: 1;\"/><path class=\"point\" transform=\"translate(526.41,183.5)\" d=\"M3,0A3,3 0 1,1 0,-3A3,3 0 0,1 3,0Z\" style=\"opacity: 1; stroke-width: 0px; fill: rgb(178, 24, 43); fill-opacity: 1;\"/><path class=\"point\" transform=\"translate(526.49,183.5)\" d=\"M3,0A3,3 0 1,1 0,-3A3,3 0 0,1 3,0Z\" style=\"opacity: 1; stroke-width: 0px; fill: rgb(178, 24, 43); fill-opacity: 1;\"/><path class=\"point\" transform=\"translate(526.83,183.5)\" d=\"M3,0A3,3 0 1,1 0,-3A3,3 0 0,1 3,0Z\" style=\"opacity: 1; stroke-width: 0px; fill: rgb(178, 24, 43); fill-opacity: 1;\"/><path class=\"point\" transform=\"translate(526.89,183.5)\" d=\"M3,0A3,3 0 1,1 0,-3A3,3 0 0,1 3,0Z\" style=\"opacity: 1; stroke-width: 0px; fill: rgb(178, 24, 43); fill-opacity: 1;\"/><path class=\"point\" transform=\"translate(526.92,183.5)\" d=\"M3,0A3,3 0 1,1 0,-3A3,3 0 0,1 3,0Z\" style=\"opacity: 1; stroke-width: 0px; fill: rgb(178, 24, 43); fill-opacity: 1;\"/><path class=\"point\" transform=\"translate(527.04,183.5)\" d=\"M3,0A3,3 0 1,1 0,-3A3,3 0 0,1 3,0Z\" style=\"opacity: 1; stroke-width: 0px; fill: rgb(178, 24, 43); fill-opacity: 1;\"/><path class=\"point\" transform=\"translate(527.05,183.5)\" d=\"M3,0A3,3 0 1,1 0,-3A3,3 0 0,1 3,0Z\" style=\"opacity: 1; stroke-width: 0px; fill: rgb(178, 24, 43); fill-opacity: 1;\"/><path class=\"point\" transform=\"translate(527.22,183.5)\" d=\"M3,0A3,3 0 1,1 0,-3A3,3 0 0,1 3,0Z\" style=\"opacity: 1; stroke-width: 0px; fill: rgb(178, 24, 43); fill-opacity: 1;\"/><path class=\"point\" transform=\"translate(527.41,183.5)\" d=\"M3,0A3,3 0 1,1 0,-3A3,3 0 0,1 3,0Z\" style=\"opacity: 1; stroke-width: 0px; fill: rgb(178, 24, 43); fill-opacity: 1;\"/><path class=\"point\" transform=\"translate(527.43,183.5)\" d=\"M3,0A3,3 0 1,1 0,-3A3,3 0 0,1 3,0Z\" style=\"opacity: 1; stroke-width: 0px; fill: rgb(178, 24, 43); fill-opacity: 1;\"/><path class=\"point\" transform=\"translate(527.53,183.5)\" d=\"M3,0A3,3 0 1,1 0,-3A3,3 0 0,1 3,0Z\" style=\"opacity: 1; stroke-width: 0px; fill: rgb(178, 24, 43); fill-opacity: 1;\"/><path class=\"point\" transform=\"translate(527.55,183.5)\" d=\"M3,0A3,3 0 1,1 0,-3A3,3 0 0,1 3,0Z\" style=\"opacity: 1; stroke-width: 0px; fill: rgb(178, 24, 43); fill-opacity: 1;\"/><path class=\"point\" transform=\"translate(527.57,183.5)\" d=\"M3,0A3,3 0 1,1 0,-3A3,3 0 0,1 3,0Z\" style=\"opacity: 1; stroke-width: 0px; fill: rgb(178, 24, 43); fill-opacity: 1;\"/><path class=\"point\" transform=\"translate(527.88,183.5)\" d=\"M3,0A3,3 0 1,1 0,-3A3,3 0 0,1 3,0Z\" style=\"opacity: 1; stroke-width: 0px; fill: rgb(178, 24, 43); fill-opacity: 1;\"/><path class=\"point\" transform=\"translate(527.93,183.5)\" d=\"M3,0A3,3 0 1,1 0,-3A3,3 0 0,1 3,0Z\" style=\"opacity: 1; stroke-width: 0px; fill: rgb(178, 24, 43); fill-opacity: 1;\"/><path class=\"point\" transform=\"translate(528.06,183.5)\" d=\"M3,0A3,3 0 1,1 0,-3A3,3 0 0,1 3,0Z\" style=\"opacity: 1; stroke-width: 0px; fill: rgb(178, 24, 43); fill-opacity: 1;\"/><path class=\"point\" transform=\"translate(528.15,183.5)\" d=\"M3,0A3,3 0 1,1 0,-3A3,3 0 0,1 3,0Z\" style=\"opacity: 1; stroke-width: 0px; fill: rgb(178, 24, 43); fill-opacity: 1;\"/><path class=\"point\" transform=\"translate(528.52,183.5)\" d=\"M3,0A3,3 0 1,1 0,-3A3,3 0 0,1 3,0Z\" style=\"opacity: 1; stroke-width: 0px; fill: rgb(178, 24, 43); fill-opacity: 1;\"/><path class=\"point\" transform=\"translate(528.63,183.5)\" d=\"M3,0A3,3 0 1,1 0,-3A3,3 0 0,1 3,0Z\" style=\"opacity: 1; stroke-width: 0px; fill: rgb(178, 24, 43); fill-opacity: 1;\"/><path class=\"point\" transform=\"translate(529.08,183.5)\" d=\"M3,0A3,3 0 1,1 0,-3A3,3 0 0,1 3,0Z\" style=\"opacity: 1; stroke-width: 0px; fill: rgb(178, 24, 43); fill-opacity: 1;\"/><path class=\"point\" transform=\"translate(529.24,183.5)\" d=\"M3,0A3,3 0 1,1 0,-3A3,3 0 0,1 3,0Z\" style=\"opacity: 1; stroke-width: 0px; fill: rgb(178, 24, 43); fill-opacity: 1;\"/><path class=\"point\" transform=\"translate(529.58,183.5)\" d=\"M3,0A3,3 0 1,1 0,-3A3,3 0 0,1 3,0Z\" style=\"opacity: 1; stroke-width: 0px; fill: rgb(178, 24, 43); fill-opacity: 1;\"/><path class=\"point\" transform=\"translate(529.7,183.5)\" d=\"M3,0A3,3 0 1,1 0,-3A3,3 0 0,1 3,0Z\" style=\"opacity: 1; stroke-width: 0px; fill: rgb(178, 24, 43); fill-opacity: 1;\"/><path class=\"point\" transform=\"translate(530.12,183.5)\" d=\"M3,0A3,3 0 1,1 0,-3A3,3 0 0,1 3,0Z\" style=\"opacity: 1; stroke-width: 0px; fill: rgb(178, 24, 43); fill-opacity: 1;\"/><path class=\"point\" transform=\"translate(530.14,183.5)\" d=\"M3,0A3,3 0 1,1 0,-3A3,3 0 0,1 3,0Z\" style=\"opacity: 1; stroke-width: 0px; fill: rgb(178, 24, 43); fill-opacity: 1;\"/><path class=\"point\" transform=\"translate(530.46,183.5)\" d=\"M3,0A3,3 0 1,1 0,-3A3,3 0 0,1 3,0Z\" style=\"opacity: 1; stroke-width: 0px; fill: rgb(178, 24, 43); fill-opacity: 1;\"/><path class=\"point\" transform=\"translate(530.54,183.5)\" d=\"M3,0A3,3 0 1,1 0,-3A3,3 0 0,1 3,0Z\" style=\"opacity: 1; stroke-width: 0px; fill: rgb(178, 24, 43); fill-opacity: 1;\"/><path class=\"point\" transform=\"translate(530.63,183.5)\" d=\"M3,0A3,3 0 1,1 0,-3A3,3 0 0,1 3,0Z\" style=\"opacity: 1; stroke-width: 0px; fill: rgb(178, 24, 43); fill-opacity: 1;\"/><path class=\"point\" transform=\"translate(530.81,183.5)\" d=\"M3,0A3,3 0 1,1 0,-3A3,3 0 0,1 3,0Z\" style=\"opacity: 1; stroke-width: 0px; fill: rgb(178, 24, 43); fill-opacity: 1;\"/><path class=\"point\" transform=\"translate(530.84,183.5)\" d=\"M3,0A3,3 0 1,1 0,-3A3,3 0 0,1 3,0Z\" style=\"opacity: 1; stroke-width: 0px; fill: rgb(178, 24, 43); fill-opacity: 1;\"/><path class=\"point\" transform=\"translate(530.95,183.5)\" d=\"M3,0A3,3 0 1,1 0,-3A3,3 0 0,1 3,0Z\" style=\"opacity: 1; stroke-width: 0px; fill: rgb(178, 24, 43); fill-opacity: 1;\"/><path class=\"point\" transform=\"translate(531,183.5)\" d=\"M3,0A3,3 0 1,1 0,-3A3,3 0 0,1 3,0Z\" style=\"opacity: 1; stroke-width: 0px; fill: rgb(178, 24, 43); fill-opacity: 1;\"/><path class=\"point\" transform=\"translate(531.63,183.5)\" d=\"M3,0A3,3 0 1,1 0,-3A3,3 0 0,1 3,0Z\" style=\"opacity: 1; stroke-width: 0px; fill: rgb(178, 24, 43); fill-opacity: 1;\"/><path class=\"point\" transform=\"translate(531.73,183.5)\" d=\"M3,0A3,3 0 1,1 0,-3A3,3 0 0,1 3,0Z\" style=\"opacity: 1; stroke-width: 0px; fill: rgb(178, 24, 43); fill-opacity: 1;\"/><path class=\"point\" transform=\"translate(531.73,183.5)\" d=\"M3,0A3,3 0 1,1 0,-3A3,3 0 0,1 3,0Z\" style=\"opacity: 1; stroke-width: 0px; fill: rgb(178, 24, 43); fill-opacity: 1;\"/><path class=\"point\" transform=\"translate(531.96,183.5)\" d=\"M3,0A3,3 0 1,1 0,-3A3,3 0 0,1 3,0Z\" style=\"opacity: 1; stroke-width: 0px; fill: rgb(178, 24, 43); fill-opacity: 1;\"/><path class=\"point\" transform=\"translate(531.98,183.5)\" d=\"M3,0A3,3 0 1,1 0,-3A3,3 0 0,1 3,0Z\" style=\"opacity: 1; stroke-width: 0px; fill: rgb(178, 24, 43); fill-opacity: 1;\"/><path class=\"point\" transform=\"translate(532.3,183.5)\" d=\"M3,0A3,3 0 1,1 0,-3A3,3 0 0,1 3,0Z\" style=\"opacity: 1; stroke-width: 0px; fill: rgb(178, 24, 43); fill-opacity: 1;\"/><path class=\"point\" transform=\"translate(532.34,183.5)\" d=\"M3,0A3,3 0 1,1 0,-3A3,3 0 0,1 3,0Z\" style=\"opacity: 1; stroke-width: 0px; fill: rgb(178, 24, 43); fill-opacity: 1;\"/><path class=\"point\" transform=\"translate(532.79,183.5)\" d=\"M3,0A3,3 0 1,1 0,-3A3,3 0 0,1 3,0Z\" style=\"opacity: 1; stroke-width: 0px; fill: rgb(178, 24, 43); fill-opacity: 1;\"/><path class=\"point\" transform=\"translate(532.83,183.5)\" d=\"M3,0A3,3 0 1,1 0,-3A3,3 0 0,1 3,0Z\" style=\"opacity: 1; stroke-width: 0px; fill: rgb(178, 24, 43); fill-opacity: 1;\"/><path class=\"point\" transform=\"translate(532.85,183.5)\" d=\"M3,0A3,3 0 1,1 0,-3A3,3 0 0,1 3,0Z\" style=\"opacity: 1; stroke-width: 0px; fill: rgb(178, 24, 43); fill-opacity: 1;\"/><path class=\"point\" transform=\"translate(533.08,183.5)\" d=\"M3,0A3,3 0 1,1 0,-3A3,3 0 0,1 3,0Z\" style=\"opacity: 1; stroke-width: 0px; fill: rgb(178, 24, 43); fill-opacity: 1;\"/><path class=\"point\" transform=\"translate(533.23,183.5)\" d=\"M3,0A3,3 0 1,1 0,-3A3,3 0 0,1 3,0Z\" style=\"opacity: 1; stroke-width: 0px; fill: rgb(178, 24, 43); fill-opacity: 1;\"/><path class=\"point\" transform=\"translate(533.41,183.5)\" d=\"M3,0A3,3 0 1,1 0,-3A3,3 0 0,1 3,0Z\" style=\"opacity: 1; stroke-width: 0px; fill: rgb(178, 24, 43); fill-opacity: 1;\"/><path class=\"point\" transform=\"translate(533.42,183.5)\" d=\"M3,0A3,3 0 1,1 0,-3A3,3 0 0,1 3,0Z\" style=\"opacity: 1; stroke-width: 0px; fill: rgb(178, 24, 43); fill-opacity: 1;\"/><path class=\"point\" transform=\"translate(533.67,183.5)\" d=\"M3,0A3,3 0 1,1 0,-3A3,3 0 0,1 3,0Z\" style=\"opacity: 1; stroke-width: 0px; fill: rgb(178, 24, 43); fill-opacity: 1;\"/><path class=\"point\" transform=\"translate(533.7,183.5)\" d=\"M3,0A3,3 0 1,1 0,-3A3,3 0 0,1 3,0Z\" style=\"opacity: 1; stroke-width: 0px; fill: rgb(178, 24, 43); fill-opacity: 1;\"/><path class=\"point\" transform=\"translate(533.75,183.5)\" d=\"M3,0A3,3 0 1,1 0,-3A3,3 0 0,1 3,0Z\" style=\"opacity: 1; stroke-width: 0px; fill: rgb(178, 24, 43); fill-opacity: 1;\"/><path class=\"point\" transform=\"translate(533.95,183.5)\" d=\"M3,0A3,3 0 1,1 0,-3A3,3 0 0,1 3,0Z\" style=\"opacity: 1; stroke-width: 0px; fill: rgb(178, 24, 43); fill-opacity: 1;\"/><path class=\"point\" transform=\"translate(534.24,183.5)\" d=\"M3,0A3,3 0 1,1 0,-3A3,3 0 0,1 3,0Z\" style=\"opacity: 1; stroke-width: 0px; fill: rgb(178, 24, 43); fill-opacity: 1;\"/><path class=\"point\" transform=\"translate(535.03,183.5)\" d=\"M3,0A3,3 0 1,1 0,-3A3,3 0 0,1 3,0Z\" style=\"opacity: 1; stroke-width: 0px; fill: rgb(178, 24, 43); fill-opacity: 1;\"/><path class=\"point\" transform=\"translate(535.41,183.5)\" d=\"M3,0A3,3 0 1,1 0,-3A3,3 0 0,1 3,0Z\" style=\"opacity: 1; stroke-width: 0px; fill: rgb(178, 24, 43); fill-opacity: 1;\"/><path class=\"point\" transform=\"translate(535.56,183.5)\" d=\"M3,0A3,3 0 1,1 0,-3A3,3 0 0,1 3,0Z\" style=\"opacity: 1; stroke-width: 0px; fill: rgb(178, 24, 43); fill-opacity: 1;\"/><path class=\"point\" transform=\"translate(535.84,183.5)\" d=\"M3,0A3,3 0 1,1 0,-3A3,3 0 0,1 3,0Z\" style=\"opacity: 1; stroke-width: 0px; fill: rgb(178, 24, 43); fill-opacity: 1;\"/><path class=\"point\" transform=\"translate(535.85,183.5)\" d=\"M3,0A3,3 0 1,1 0,-3A3,3 0 0,1 3,0Z\" style=\"opacity: 1; stroke-width: 0px; fill: rgb(178, 24, 43); fill-opacity: 1;\"/><path class=\"point\" transform=\"translate(535.87,183.5)\" d=\"M3,0A3,3 0 1,1 0,-3A3,3 0 0,1 3,0Z\" style=\"opacity: 1; stroke-width: 0px; fill: rgb(178, 24, 43); fill-opacity: 1;\"/><path class=\"point\" transform=\"translate(536.06,183.5)\" d=\"M3,0A3,3 0 1,1 0,-3A3,3 0 0,1 3,0Z\" style=\"opacity: 1; stroke-width: 0px; fill: rgb(178, 24, 43); fill-opacity: 1;\"/><path class=\"point\" transform=\"translate(536.38,183.5)\" d=\"M3,0A3,3 0 1,1 0,-3A3,3 0 0,1 3,0Z\" style=\"opacity: 1; stroke-width: 0px; fill: rgb(178, 24, 43); fill-opacity: 1;\"/><path class=\"point\" transform=\"translate(536.71,183.5)\" d=\"M3,0A3,3 0 1,1 0,-3A3,3 0 0,1 3,0Z\" style=\"opacity: 1; stroke-width: 0px; fill: rgb(178, 24, 43); fill-opacity: 1;\"/><path class=\"point\" transform=\"translate(536.8,183.5)\" d=\"M3,0A3,3 0 1,1 0,-3A3,3 0 0,1 3,0Z\" style=\"opacity: 1; stroke-width: 0px; fill: rgb(178, 24, 43); fill-opacity: 1;\"/><path class=\"point\" transform=\"translate(536.87,183.5)\" d=\"M3,0A3,3 0 1,1 0,-3A3,3 0 0,1 3,0Z\" style=\"opacity: 1; stroke-width: 0px; fill: rgb(178, 24, 43); fill-opacity: 1;\"/><path class=\"point\" transform=\"translate(537.2,183.5)\" d=\"M3,0A3,3 0 1,1 0,-3A3,3 0 0,1 3,0Z\" style=\"opacity: 1; stroke-width: 0px; fill: rgb(178, 24, 43); fill-opacity: 1;\"/><path class=\"point\" transform=\"translate(537.22,183.5)\" d=\"M3,0A3,3 0 1,1 0,-3A3,3 0 0,1 3,0Z\" style=\"opacity: 1; stroke-width: 0px; fill: rgb(178, 24, 43); fill-opacity: 1;\"/><path class=\"point\" transform=\"translate(537.46,183.5)\" d=\"M3,0A3,3 0 1,1 0,-3A3,3 0 0,1 3,0Z\" style=\"opacity: 1; stroke-width: 0px; fill: rgb(178, 24, 43); fill-opacity: 1;\"/><path class=\"point\" transform=\"translate(537.73,183.5)\" d=\"M3,0A3,3 0 1,1 0,-3A3,3 0 0,1 3,0Z\" style=\"opacity: 1; stroke-width: 0px; fill: rgb(178, 24, 43); fill-opacity: 1;\"/><path class=\"point\" transform=\"translate(537.92,183.5)\" d=\"M3,0A3,3 0 1,1 0,-3A3,3 0 0,1 3,0Z\" style=\"opacity: 1; stroke-width: 0px; fill: rgb(178, 24, 43); fill-opacity: 1;\"/><path class=\"point\" transform=\"translate(538.17,183.5)\" d=\"M3,0A3,3 0 1,1 0,-3A3,3 0 0,1 3,0Z\" style=\"opacity: 1; stroke-width: 0px; fill: rgb(178, 24, 43); fill-opacity: 1;\"/><path class=\"point\" transform=\"translate(538.64,183.5)\" d=\"M3,0A3,3 0 1,1 0,-3A3,3 0 0,1 3,0Z\" style=\"opacity: 1; stroke-width: 0px; fill: rgb(178, 24, 43); fill-opacity: 1;\"/><path class=\"point\" transform=\"translate(539.22,183.5)\" d=\"M3,0A3,3 0 1,1 0,-3A3,3 0 0,1 3,0Z\" style=\"opacity: 1; stroke-width: 0px; fill: rgb(178, 24, 43); fill-opacity: 1;\"/><path class=\"point\" transform=\"translate(539.25,183.5)\" d=\"M3,0A3,3 0 1,1 0,-3A3,3 0 0,1 3,0Z\" style=\"opacity: 1; stroke-width: 0px; fill: rgb(178, 24, 43); fill-opacity: 1;\"/><path class=\"point\" transform=\"translate(539.35,183.5)\" d=\"M3,0A3,3 0 1,1 0,-3A3,3 0 0,1 3,0Z\" style=\"opacity: 1; stroke-width: 0px; fill: rgb(178, 24, 43); fill-opacity: 1;\"/><path class=\"point\" transform=\"translate(539.62,183.5)\" d=\"M3,0A3,3 0 1,1 0,-3A3,3 0 0,1 3,0Z\" style=\"opacity: 1; stroke-width: 0px; fill: rgb(178, 24, 43); fill-opacity: 1;\"/><path class=\"point\" transform=\"translate(539.78,183.5)\" d=\"M3,0A3,3 0 1,1 0,-3A3,3 0 0,1 3,0Z\" style=\"opacity: 1; stroke-width: 0px; fill: rgb(178, 24, 43); fill-opacity: 1;\"/><path class=\"point\" transform=\"translate(539.79,183.5)\" d=\"M3,0A3,3 0 1,1 0,-3A3,3 0 0,1 3,0Z\" style=\"opacity: 1; stroke-width: 0px; fill: rgb(178, 24, 43); fill-opacity: 1;\"/><path class=\"point\" transform=\"translate(540.02,183.5)\" d=\"M3,0A3,3 0 1,1 0,-3A3,3 0 0,1 3,0Z\" style=\"opacity: 1; stroke-width: 0px; fill: rgb(178, 24, 43); fill-opacity: 1;\"/><path class=\"point\" transform=\"translate(540.05,183.5)\" d=\"M3,0A3,3 0 1,1 0,-3A3,3 0 0,1 3,0Z\" style=\"opacity: 1; stroke-width: 0px; fill: rgb(178, 24, 43); fill-opacity: 1;\"/><path class=\"point\" transform=\"translate(540.06,183.5)\" d=\"M3,0A3,3 0 1,1 0,-3A3,3 0 0,1 3,0Z\" style=\"opacity: 1; stroke-width: 0px; fill: rgb(178, 24, 43); fill-opacity: 1;\"/><path class=\"point\" transform=\"translate(540.9,183.5)\" d=\"M3,0A3,3 0 1,1 0,-3A3,3 0 0,1 3,0Z\" style=\"opacity: 1; stroke-width: 0px; fill: rgb(178, 24, 43); fill-opacity: 1;\"/><path class=\"point\" transform=\"translate(541.6,183.5)\" d=\"M3,0A3,3 0 1,1 0,-3A3,3 0 0,1 3,0Z\" style=\"opacity: 1; stroke-width: 0px; fill: rgb(178, 24, 43); fill-opacity: 1;\"/><path class=\"point\" transform=\"translate(542.09,183.5)\" d=\"M3,0A3,3 0 1,1 0,-3A3,3 0 0,1 3,0Z\" style=\"opacity: 1; stroke-width: 0px; fill: rgb(178, 24, 43); fill-opacity: 1;\"/><path class=\"point\" transform=\"translate(542.21,183.5)\" d=\"M3,0A3,3 0 1,1 0,-3A3,3 0 0,1 3,0Z\" style=\"opacity: 1; stroke-width: 0px; fill: rgb(178, 24, 43); fill-opacity: 1;\"/><path class=\"point\" transform=\"translate(542.22,183.5)\" d=\"M3,0A3,3 0 1,1 0,-3A3,3 0 0,1 3,0Z\" style=\"opacity: 1; stroke-width: 0px; fill: rgb(178, 24, 43); fill-opacity: 1;\"/><path class=\"point\" transform=\"translate(542.34,183.5)\" d=\"M3,0A3,3 0 1,1 0,-3A3,3 0 0,1 3,0Z\" style=\"opacity: 1; stroke-width: 0px; fill: rgb(178, 24, 43); fill-opacity: 1;\"/><path class=\"point\" transform=\"translate(542.42,183.5)\" d=\"M3,0A3,3 0 1,1 0,-3A3,3 0 0,1 3,0Z\" style=\"opacity: 1; stroke-width: 0px; fill: rgb(178, 24, 43); fill-opacity: 1;\"/><path class=\"point\" transform=\"translate(542.51,183.5)\" d=\"M3,0A3,3 0 1,1 0,-3A3,3 0 0,1 3,0Z\" style=\"opacity: 1; stroke-width: 0px; fill: rgb(178, 24, 43); fill-opacity: 1;\"/><path class=\"point\" transform=\"translate(542.58,183.5)\" d=\"M3,0A3,3 0 1,1 0,-3A3,3 0 0,1 3,0Z\" style=\"opacity: 1; stroke-width: 0px; fill: rgb(178, 24, 43); fill-opacity: 1;\"/><path class=\"point\" transform=\"translate(542.8,183.5)\" d=\"M3,0A3,3 0 1,1 0,-3A3,3 0 0,1 3,0Z\" style=\"opacity: 1; stroke-width: 0px; fill: rgb(178, 24, 43); fill-opacity: 1;\"/><path class=\"point\" transform=\"translate(543.26,183.5)\" d=\"M3,0A3,3 0 1,1 0,-3A3,3 0 0,1 3,0Z\" style=\"opacity: 1; stroke-width: 0px; fill: rgb(178, 24, 43); fill-opacity: 1;\"/><path class=\"point\" transform=\"translate(543.3,183.5)\" d=\"M3,0A3,3 0 1,1 0,-3A3,3 0 0,1 3,0Z\" style=\"opacity: 1; stroke-width: 0px; fill: rgb(178, 24, 43); fill-opacity: 1;\"/><path class=\"point\" transform=\"translate(543.48,183.5)\" d=\"M3,0A3,3 0 1,1 0,-3A3,3 0 0,1 3,0Z\" style=\"opacity: 1; stroke-width: 0px; fill: rgb(178, 24, 43); fill-opacity: 1;\"/><path class=\"point\" transform=\"translate(543.89,183.5)\" d=\"M3,0A3,3 0 1,1 0,-3A3,3 0 0,1 3,0Z\" style=\"opacity: 1; stroke-width: 0px; fill: rgb(178, 24, 43); fill-opacity: 1;\"/><path class=\"point\" transform=\"translate(543.9,183.5)\" d=\"M3,0A3,3 0 1,1 0,-3A3,3 0 0,1 3,0Z\" style=\"opacity: 1; stroke-width: 0px; fill: rgb(178, 24, 43); fill-opacity: 1;\"/><path class=\"point\" transform=\"translate(544.14,183.5)\" d=\"M3,0A3,3 0 1,1 0,-3A3,3 0 0,1 3,0Z\" style=\"opacity: 1; stroke-width: 0px; fill: rgb(178, 24, 43); fill-opacity: 1;\"/><path class=\"point\" transform=\"translate(544.16,183.5)\" d=\"M3,0A3,3 0 1,1 0,-3A3,3 0 0,1 3,0Z\" style=\"opacity: 1; stroke-width: 0px; fill: rgb(178, 24, 43); fill-opacity: 1;\"/><path class=\"point\" transform=\"translate(544.2,183.5)\" d=\"M3,0A3,3 0 1,1 0,-3A3,3 0 0,1 3,0Z\" style=\"opacity: 1; stroke-width: 0px; fill: rgb(178, 24, 43); fill-opacity: 1;\"/><path class=\"point\" transform=\"translate(544.21,183.5)\" d=\"M3,0A3,3 0 1,1 0,-3A3,3 0 0,1 3,0Z\" style=\"opacity: 1; stroke-width: 0px; fill: rgb(178, 24, 43); fill-opacity: 1;\"/><path class=\"point\" transform=\"translate(544.23,183.5)\" d=\"M3,0A3,3 0 1,1 0,-3A3,3 0 0,1 3,0Z\" style=\"opacity: 1; stroke-width: 0px; fill: rgb(178, 24, 43); fill-opacity: 1;\"/><path class=\"point\" transform=\"translate(544.33,183.5)\" d=\"M3,0A3,3 0 1,1 0,-3A3,3 0 0,1 3,0Z\" style=\"opacity: 1; stroke-width: 0px; fill: rgb(178, 24, 43); fill-opacity: 1;\"/><path class=\"point\" transform=\"translate(544.38,183.5)\" d=\"M3,0A3,3 0 1,1 0,-3A3,3 0 0,1 3,0Z\" style=\"opacity: 1; stroke-width: 0px; fill: rgb(178, 24, 43); fill-opacity: 1;\"/><path class=\"point\" transform=\"translate(544.43,183.5)\" d=\"M3,0A3,3 0 1,1 0,-3A3,3 0 0,1 3,0Z\" style=\"opacity: 1; stroke-width: 0px; fill: rgb(178, 24, 43); fill-opacity: 1;\"/><path class=\"point\" transform=\"translate(544.49,183.5)\" d=\"M3,0A3,3 0 1,1 0,-3A3,3 0 0,1 3,0Z\" style=\"opacity: 1; stroke-width: 0px; fill: rgb(178, 24, 43); fill-opacity: 1;\"/><path class=\"point\" transform=\"translate(544.6,183.5)\" d=\"M3,0A3,3 0 1,1 0,-3A3,3 0 0,1 3,0Z\" style=\"opacity: 1; stroke-width: 0px; fill: rgb(178, 24, 43); fill-opacity: 1;\"/><path class=\"point\" transform=\"translate(544.76,183.5)\" d=\"M3,0A3,3 0 1,1 0,-3A3,3 0 0,1 3,0Z\" style=\"opacity: 1; stroke-width: 0px; fill: rgb(178, 24, 43); fill-opacity: 1;\"/><path class=\"point\" transform=\"translate(545.02,183.5)\" d=\"M3,0A3,3 0 1,1 0,-3A3,3 0 0,1 3,0Z\" style=\"opacity: 1; stroke-width: 0px; fill: rgb(178, 24, 43); fill-opacity: 1;\"/><path class=\"point\" transform=\"translate(545.03,183.5)\" d=\"M3,0A3,3 0 1,1 0,-3A3,3 0 0,1 3,0Z\" style=\"opacity: 1; stroke-width: 0px; fill: rgb(178, 24, 43); fill-opacity: 1;\"/><path class=\"point\" transform=\"translate(545.23,183.5)\" d=\"M3,0A3,3 0 1,1 0,-3A3,3 0 0,1 3,0Z\" style=\"opacity: 1; stroke-width: 0px; fill: rgb(178, 24, 43); fill-opacity: 1;\"/><path class=\"point\" transform=\"translate(545.6,183.5)\" d=\"M3,0A3,3 0 1,1 0,-3A3,3 0 0,1 3,0Z\" style=\"opacity: 1; stroke-width: 0px; fill: rgb(178, 24, 43); fill-opacity: 1;\"/><path class=\"point\" transform=\"translate(545.71,183.5)\" d=\"M3,0A3,3 0 1,1 0,-3A3,3 0 0,1 3,0Z\" style=\"opacity: 1; stroke-width: 0px; fill: rgb(178, 24, 43); fill-opacity: 1;\"/><path class=\"point\" transform=\"translate(545.93,183.5)\" d=\"M3,0A3,3 0 1,1 0,-3A3,3 0 0,1 3,0Z\" style=\"opacity: 1; stroke-width: 0px; fill: rgb(178, 24, 43); fill-opacity: 1;\"/><path class=\"point\" transform=\"translate(546.07,183.5)\" d=\"M3,0A3,3 0 1,1 0,-3A3,3 0 0,1 3,0Z\" style=\"opacity: 1; stroke-width: 0px; fill: rgb(178, 24, 43); fill-opacity: 1;\"/><path class=\"point\" transform=\"translate(546.3,183.5)\" d=\"M3,0A3,3 0 1,1 0,-3A3,3 0 0,1 3,0Z\" style=\"opacity: 1; stroke-width: 0px; fill: rgb(178, 24, 43); fill-opacity: 1;\"/><path class=\"point\" transform=\"translate(546.34,183.5)\" d=\"M3,0A3,3 0 1,1 0,-3A3,3 0 0,1 3,0Z\" style=\"opacity: 1; stroke-width: 0px; fill: rgb(178, 24, 43); fill-opacity: 1;\"/><path class=\"point\" transform=\"translate(546.85,183.5)\" d=\"M3,0A3,3 0 1,1 0,-3A3,3 0 0,1 3,0Z\" style=\"opacity: 1; stroke-width: 0px; fill: rgb(178, 24, 43); fill-opacity: 1;\"/><path class=\"point\" transform=\"translate(546.88,183.5)\" d=\"M3,0A3,3 0 1,1 0,-3A3,3 0 0,1 3,0Z\" style=\"opacity: 1; stroke-width: 0px; fill: rgb(178, 24, 43); fill-opacity: 1;\"/><path class=\"point\" transform=\"translate(546.99,183.5)\" d=\"M3,0A3,3 0 1,1 0,-3A3,3 0 0,1 3,0Z\" style=\"opacity: 1; stroke-width: 0px; fill: rgb(178, 24, 43); fill-opacity: 1;\"/><path class=\"point\" transform=\"translate(547.05,183.5)\" d=\"M3,0A3,3 0 1,1 0,-3A3,3 0 0,1 3,0Z\" style=\"opacity: 1; stroke-width: 0px; fill: rgb(178, 24, 43); fill-opacity: 1;\"/><path class=\"point\" transform=\"translate(547.53,183.5)\" d=\"M3,0A3,3 0 1,1 0,-3A3,3 0 0,1 3,0Z\" style=\"opacity: 1; stroke-width: 0px; fill: rgb(178, 24, 43); fill-opacity: 1;\"/><path class=\"point\" transform=\"translate(547.54,183.5)\" d=\"M3,0A3,3 0 1,1 0,-3A3,3 0 0,1 3,0Z\" style=\"opacity: 1; stroke-width: 0px; fill: rgb(178, 24, 43); fill-opacity: 1;\"/><path class=\"point\" transform=\"translate(547.72,183.5)\" d=\"M3,0A3,3 0 1,1 0,-3A3,3 0 0,1 3,0Z\" style=\"opacity: 1; stroke-width: 0px; fill: rgb(178, 24, 43); fill-opacity: 1;\"/><path class=\"point\" transform=\"translate(547.77,183.5)\" d=\"M3,0A3,3 0 1,1 0,-3A3,3 0 0,1 3,0Z\" style=\"opacity: 1; stroke-width: 0px; fill: rgb(178, 24, 43); fill-opacity: 1;\"/><path class=\"point\" transform=\"translate(547.78,183.5)\" d=\"M3,0A3,3 0 1,1 0,-3A3,3 0 0,1 3,0Z\" style=\"opacity: 1; stroke-width: 0px; fill: rgb(178, 24, 43); fill-opacity: 1;\"/><path class=\"point\" transform=\"translate(547.89,183.5)\" d=\"M3,0A3,3 0 1,1 0,-3A3,3 0 0,1 3,0Z\" style=\"opacity: 1; stroke-width: 0px; fill: rgb(178, 24, 43); fill-opacity: 1;\"/><path class=\"point\" transform=\"translate(548.31,183.5)\" d=\"M3,0A3,3 0 1,1 0,-3A3,3 0 0,1 3,0Z\" style=\"opacity: 1; stroke-width: 0px; fill: rgb(178, 24, 43); fill-opacity: 1;\"/><path class=\"point\" transform=\"translate(548.74,183.5)\" d=\"M3,0A3,3 0 1,1 0,-3A3,3 0 0,1 3,0Z\" style=\"opacity: 1; stroke-width: 0px; fill: rgb(178, 24, 43); fill-opacity: 1;\"/><path class=\"point\" transform=\"translate(549.4,183.5)\" d=\"M3,0A3,3 0 1,1 0,-3A3,3 0 0,1 3,0Z\" style=\"opacity: 1; stroke-width: 0px; fill: rgb(178, 24, 43); fill-opacity: 1;\"/><path class=\"point\" transform=\"translate(549.65,183.5)\" d=\"M3,0A3,3 0 1,1 0,-3A3,3 0 0,1 3,0Z\" style=\"opacity: 1; stroke-width: 0px; fill: rgb(178, 24, 43); fill-opacity: 1;\"/><path class=\"point\" transform=\"translate(549.71,183.5)\" d=\"M3,0A3,3 0 1,1 0,-3A3,3 0 0,1 3,0Z\" style=\"opacity: 1; stroke-width: 0px; fill: rgb(178, 24, 43); fill-opacity: 1;\"/><path class=\"point\" transform=\"translate(550.21,183.5)\" d=\"M3,0A3,3 0 1,1 0,-3A3,3 0 0,1 3,0Z\" style=\"opacity: 1; stroke-width: 0px; fill: rgb(178, 24, 43); fill-opacity: 1;\"/><path class=\"point\" transform=\"translate(550.29,183.5)\" d=\"M3,0A3,3 0 1,1 0,-3A3,3 0 0,1 3,0Z\" style=\"opacity: 1; stroke-width: 0px; fill: rgb(178, 24, 43); fill-opacity: 1;\"/><path class=\"point\" transform=\"translate(550.37,183.5)\" d=\"M3,0A3,3 0 1,1 0,-3A3,3 0 0,1 3,0Z\" style=\"opacity: 1; stroke-width: 0px; fill: rgb(178, 24, 43); fill-opacity: 1;\"/><path class=\"point\" transform=\"translate(550.45,183.5)\" d=\"M3,0A3,3 0 1,1 0,-3A3,3 0 0,1 3,0Z\" style=\"opacity: 1; stroke-width: 0px; fill: rgb(178, 24, 43); fill-opacity: 1;\"/><path class=\"point\" transform=\"translate(550.52,183.5)\" d=\"M3,0A3,3 0 1,1 0,-3A3,3 0 0,1 3,0Z\" style=\"opacity: 1; stroke-width: 0px; fill: rgb(178, 24, 43); fill-opacity: 1;\"/><path class=\"point\" transform=\"translate(550.79,183.5)\" d=\"M3,0A3,3 0 1,1 0,-3A3,3 0 0,1 3,0Z\" style=\"opacity: 1; stroke-width: 0px; fill: rgb(178, 24, 43); fill-opacity: 1;\"/><path class=\"point\" transform=\"translate(550.8,183.5)\" d=\"M3,0A3,3 0 1,1 0,-3A3,3 0 0,1 3,0Z\" style=\"opacity: 1; stroke-width: 0px; fill: rgb(178, 24, 43); fill-opacity: 1;\"/><path class=\"point\" transform=\"translate(551.11,183.5)\" d=\"M3,0A3,3 0 1,1 0,-3A3,3 0 0,1 3,0Z\" style=\"opacity: 1; stroke-width: 0px; fill: rgb(178, 24, 43); fill-opacity: 1;\"/><path class=\"point\" transform=\"translate(551.34,183.5)\" d=\"M3,0A3,3 0 1,1 0,-3A3,3 0 0,1 3,0Z\" style=\"opacity: 1; stroke-width: 0px; fill: rgb(178, 24, 43); fill-opacity: 1;\"/><path class=\"point\" transform=\"translate(551.39,183.5)\" d=\"M3,0A3,3 0 1,1 0,-3A3,3 0 0,1 3,0Z\" style=\"opacity: 1; stroke-width: 0px; fill: rgb(178, 24, 43); fill-opacity: 1;\"/><path class=\"point\" transform=\"translate(551.62,183.5)\" d=\"M3,0A3,3 0 1,1 0,-3A3,3 0 0,1 3,0Z\" style=\"opacity: 1; stroke-width: 0px; fill: rgb(178, 24, 43); fill-opacity: 1;\"/><path class=\"point\" transform=\"translate(551.73,183.5)\" d=\"M3,0A3,3 0 1,1 0,-3A3,3 0 0,1 3,0Z\" style=\"opacity: 1; stroke-width: 0px; fill: rgb(178, 24, 43); fill-opacity: 1;\"/><path class=\"point\" transform=\"translate(551.87,183.5)\" d=\"M3,0A3,3 0 1,1 0,-3A3,3 0 0,1 3,0Z\" style=\"opacity: 1; stroke-width: 0px; fill: rgb(178, 24, 43); fill-opacity: 1;\"/><path class=\"point\" transform=\"translate(552.04,183.5)\" d=\"M3,0A3,3 0 1,1 0,-3A3,3 0 0,1 3,0Z\" style=\"opacity: 1; stroke-width: 0px; fill: rgb(178, 24, 43); fill-opacity: 1;\"/><path class=\"point\" transform=\"translate(552.16,183.5)\" d=\"M3,0A3,3 0 1,1 0,-3A3,3 0 0,1 3,0Z\" style=\"opacity: 1; stroke-width: 0px; fill: rgb(178, 24, 43); fill-opacity: 1;\"/><path class=\"point\" transform=\"translate(552.32,183.5)\" d=\"M3,0A3,3 0 1,1 0,-3A3,3 0 0,1 3,0Z\" style=\"opacity: 1; stroke-width: 0px; fill: rgb(178, 24, 43); fill-opacity: 1;\"/><path class=\"point\" transform=\"translate(552.43,183.5)\" d=\"M3,0A3,3 0 1,1 0,-3A3,3 0 0,1 3,0Z\" style=\"opacity: 1; stroke-width: 0px; fill: rgb(178, 24, 43); fill-opacity: 1;\"/><path class=\"point\" transform=\"translate(552.47,183.5)\" d=\"M3,0A3,3 0 1,1 0,-3A3,3 0 0,1 3,0Z\" style=\"opacity: 1; stroke-width: 0px; fill: rgb(178, 24, 43); fill-opacity: 1;\"/><path class=\"point\" transform=\"translate(552.53,183.5)\" d=\"M3,0A3,3 0 1,1 0,-3A3,3 0 0,1 3,0Z\" style=\"opacity: 1; stroke-width: 0px; fill: rgb(178, 24, 43); fill-opacity: 1;\"/><path class=\"point\" transform=\"translate(552.66,183.5)\" d=\"M3,0A3,3 0 1,1 0,-3A3,3 0 0,1 3,0Z\" style=\"opacity: 1; stroke-width: 0px; fill: rgb(178, 24, 43); fill-opacity: 1;\"/><path class=\"point\" transform=\"translate(552.78,183.5)\" d=\"M3,0A3,3 0 1,1 0,-3A3,3 0 0,1 3,0Z\" style=\"opacity: 1; stroke-width: 0px; fill: rgb(178, 24, 43); fill-opacity: 1;\"/><path class=\"point\" transform=\"translate(552.93,183.5)\" d=\"M3,0A3,3 0 1,1 0,-3A3,3 0 0,1 3,0Z\" style=\"opacity: 1; stroke-width: 0px; fill: rgb(178, 24, 43); fill-opacity: 1;\"/><path class=\"point\" transform=\"translate(553,183.5)\" d=\"M3,0A3,3 0 1,1 0,-3A3,3 0 0,1 3,0Z\" style=\"opacity: 1; stroke-width: 0px; fill: rgb(178, 24, 43); fill-opacity: 1;\"/><path class=\"point\" transform=\"translate(553.18,183.5)\" d=\"M3,0A3,3 0 1,1 0,-3A3,3 0 0,1 3,0Z\" style=\"opacity: 1; stroke-width: 0px; fill: rgb(178, 24, 43); fill-opacity: 1;\"/><path class=\"point\" transform=\"translate(554.33,183.5)\" d=\"M3,0A3,3 0 1,1 0,-3A3,3 0 0,1 3,0Z\" style=\"opacity: 1; stroke-width: 0px; fill: rgb(178, 24, 43); fill-opacity: 1;\"/><path class=\"point\" transform=\"translate(554.54,183.5)\" d=\"M3,0A3,3 0 1,1 0,-3A3,3 0 0,1 3,0Z\" style=\"opacity: 1; stroke-width: 0px; fill: rgb(178, 24, 43); fill-opacity: 1;\"/><path class=\"point\" transform=\"translate(554.55,183.5)\" d=\"M3,0A3,3 0 1,1 0,-3A3,3 0 0,1 3,0Z\" style=\"opacity: 1; stroke-width: 0px; fill: rgb(178, 24, 43); fill-opacity: 1;\"/><path class=\"point\" transform=\"translate(554.69,183.5)\" d=\"M3,0A3,3 0 1,1 0,-3A3,3 0 0,1 3,0Z\" style=\"opacity: 1; stroke-width: 0px; fill: rgb(178, 24, 43); fill-opacity: 1;\"/><path class=\"point\" transform=\"translate(554.85,183.5)\" d=\"M3,0A3,3 0 1,1 0,-3A3,3 0 0,1 3,0Z\" style=\"opacity: 1; stroke-width: 0px; fill: rgb(178, 24, 43); fill-opacity: 1;\"/><path class=\"point\" transform=\"translate(555.21,183.5)\" d=\"M3,0A3,3 0 1,1 0,-3A3,3 0 0,1 3,0Z\" style=\"opacity: 1; stroke-width: 0px; fill: rgb(178, 24, 43); fill-opacity: 1;\"/><path class=\"point\" transform=\"translate(555.36,183.5)\" d=\"M3,0A3,3 0 1,1 0,-3A3,3 0 0,1 3,0Z\" style=\"opacity: 1; stroke-width: 0px; fill: rgb(178, 24, 43); fill-opacity: 1;\"/><path class=\"point\" transform=\"translate(555.48,183.5)\" d=\"M3,0A3,3 0 1,1 0,-3A3,3 0 0,1 3,0Z\" style=\"opacity: 1; stroke-width: 0px; fill: rgb(178, 24, 43); fill-opacity: 1;\"/><path class=\"point\" transform=\"translate(555.8,183.5)\" d=\"M3,0A3,3 0 1,1 0,-3A3,3 0 0,1 3,0Z\" style=\"opacity: 1; stroke-width: 0px; fill: rgb(178, 24, 43); fill-opacity: 1;\"/><path class=\"point\" transform=\"translate(556.05,183.5)\" d=\"M3,0A3,3 0 1,1 0,-3A3,3 0 0,1 3,0Z\" style=\"opacity: 1; stroke-width: 0px; fill: rgb(178, 24, 43); fill-opacity: 1;\"/><path class=\"point\" transform=\"translate(556.14,183.5)\" d=\"M3,0A3,3 0 1,1 0,-3A3,3 0 0,1 3,0Z\" style=\"opacity: 1; stroke-width: 0px; fill: rgb(178, 24, 43); fill-opacity: 1;\"/><path class=\"point\" transform=\"translate(556.29,183.5)\" d=\"M3,0A3,3 0 1,1 0,-3A3,3 0 0,1 3,0Z\" style=\"opacity: 1; stroke-width: 0px; fill: rgb(178, 24, 43); fill-opacity: 1;\"/><path class=\"point\" transform=\"translate(556.87,183.5)\" d=\"M3,0A3,3 0 1,1 0,-3A3,3 0 0,1 3,0Z\" style=\"opacity: 1; stroke-width: 0px; fill: rgb(178, 24, 43); fill-opacity: 1;\"/><path class=\"point\" transform=\"translate(557.18,183.5)\" d=\"M3,0A3,3 0 1,1 0,-3A3,3 0 0,1 3,0Z\" style=\"opacity: 1; stroke-width: 0px; fill: rgb(178, 24, 43); fill-opacity: 1;\"/><path class=\"point\" transform=\"translate(557.8,183.5)\" d=\"M3,0A3,3 0 1,1 0,-3A3,3 0 0,1 3,0Z\" style=\"opacity: 1; stroke-width: 0px; fill: rgb(178, 24, 43); fill-opacity: 1;\"/><path class=\"point\" transform=\"translate(557.81,183.5)\" d=\"M3,0A3,3 0 1,1 0,-3A3,3 0 0,1 3,0Z\" style=\"opacity: 1; stroke-width: 0px; fill: rgb(178, 24, 43); fill-opacity: 1;\"/><path class=\"point\" transform=\"translate(557.9,183.5)\" d=\"M3,0A3,3 0 1,1 0,-3A3,3 0 0,1 3,0Z\" style=\"opacity: 1; stroke-width: 0px; fill: rgb(178, 24, 43); fill-opacity: 1;\"/><path class=\"point\" transform=\"translate(557.9,183.5)\" d=\"M3,0A3,3 0 1,1 0,-3A3,3 0 0,1 3,0Z\" style=\"opacity: 1; stroke-width: 0px; fill: rgb(178, 24, 43); fill-opacity: 1;\"/><path class=\"point\" transform=\"translate(558.15,183.5)\" d=\"M3,0A3,3 0 1,1 0,-3A3,3 0 0,1 3,0Z\" style=\"opacity: 1; stroke-width: 0px; fill: rgb(178, 24, 43); fill-opacity: 1;\"/><path class=\"point\" transform=\"translate(558.3,183.5)\" d=\"M3,0A3,3 0 1,1 0,-3A3,3 0 0,1 3,0Z\" style=\"opacity: 1; stroke-width: 0px; fill: rgb(178, 24, 43); fill-opacity: 1;\"/><path class=\"point\" transform=\"translate(558.39,183.5)\" d=\"M3,0A3,3 0 1,1 0,-3A3,3 0 0,1 3,0Z\" style=\"opacity: 1; stroke-width: 0px; fill: rgb(178, 24, 43); fill-opacity: 1;\"/><path class=\"point\" transform=\"translate(558.58,183.5)\" d=\"M3,0A3,3 0 1,1 0,-3A3,3 0 0,1 3,0Z\" style=\"opacity: 1; stroke-width: 0px; fill: rgb(178, 24, 43); fill-opacity: 1;\"/><path class=\"point\" transform=\"translate(558.84,183.5)\" d=\"M3,0A3,3 0 1,1 0,-3A3,3 0 0,1 3,0Z\" style=\"opacity: 1; stroke-width: 0px; fill: rgb(178, 24, 43); fill-opacity: 1;\"/><path class=\"point\" transform=\"translate(559.4,183.5)\" d=\"M3,0A3,3 0 1,1 0,-3A3,3 0 0,1 3,0Z\" style=\"opacity: 1; stroke-width: 0px; fill: rgb(178, 24, 43); fill-opacity: 1;\"/><path class=\"point\" transform=\"translate(559.96,183.5)\" d=\"M3,0A3,3 0 1,1 0,-3A3,3 0 0,1 3,0Z\" style=\"opacity: 1; stroke-width: 0px; fill: rgb(178, 24, 43); fill-opacity: 1;\"/><path class=\"point\" transform=\"translate(560.25,183.5)\" d=\"M3,0A3,3 0 1,1 0,-3A3,3 0 0,1 3,0Z\" style=\"opacity: 1; stroke-width: 0px; fill: rgb(178, 24, 43); fill-opacity: 1;\"/><path class=\"point\" transform=\"translate(560.42,183.5)\" d=\"M3,0A3,3 0 1,1 0,-3A3,3 0 0,1 3,0Z\" style=\"opacity: 1; stroke-width: 0px; fill: rgb(178, 24, 43); fill-opacity: 1;\"/><path class=\"point\" transform=\"translate(560.74,183.5)\" d=\"M3,0A3,3 0 1,1 0,-3A3,3 0 0,1 3,0Z\" style=\"opacity: 1; stroke-width: 0px; fill: rgb(178, 24, 43); fill-opacity: 1;\"/><path class=\"point\" transform=\"translate(560.86,183.5)\" d=\"M3,0A3,3 0 1,1 0,-3A3,3 0 0,1 3,0Z\" style=\"opacity: 1; stroke-width: 0px; fill: rgb(178, 24, 43); fill-opacity: 1;\"/><path class=\"point\" transform=\"translate(561.44,183.5)\" d=\"M3,0A3,3 0 1,1 0,-3A3,3 0 0,1 3,0Z\" style=\"opacity: 1; stroke-width: 0px; fill: rgb(178, 24, 43); fill-opacity: 1;\"/><path class=\"point\" transform=\"translate(561.77,183.5)\" d=\"M3,0A3,3 0 1,1 0,-3A3,3 0 0,1 3,0Z\" style=\"opacity: 1; stroke-width: 0px; fill: rgb(178, 24, 43); fill-opacity: 1;\"/><path class=\"point\" transform=\"translate(561.96,183.5)\" d=\"M3,0A3,3 0 1,1 0,-3A3,3 0 0,1 3,0Z\" style=\"opacity: 1; stroke-width: 0px; fill: rgb(178, 24, 43); fill-opacity: 1;\"/><path class=\"point\" transform=\"translate(561.97,183.5)\" d=\"M3,0A3,3 0 1,1 0,-3A3,3 0 0,1 3,0Z\" style=\"opacity: 1; stroke-width: 0px; fill: rgb(178, 24, 43); fill-opacity: 1;\"/><path class=\"point\" transform=\"translate(562.46,183.5)\" d=\"M3,0A3,3 0 1,1 0,-3A3,3 0 0,1 3,0Z\" style=\"opacity: 1; stroke-width: 0px; fill: rgb(178, 24, 43); fill-opacity: 1;\"/><path class=\"point\" transform=\"translate(562.68,183.5)\" d=\"M3,0A3,3 0 1,1 0,-3A3,3 0 0,1 3,0Z\" style=\"opacity: 1; stroke-width: 0px; fill: rgb(178, 24, 43); fill-opacity: 1;\"/><path class=\"point\" transform=\"translate(562.98,183.5)\" d=\"M3,0A3,3 0 1,1 0,-3A3,3 0 0,1 3,0Z\" style=\"opacity: 1; stroke-width: 0px; fill: rgb(178, 24, 43); fill-opacity: 1;\"/><path class=\"point\" transform=\"translate(563.14,183.5)\" d=\"M3,0A3,3 0 1,1 0,-3A3,3 0 0,1 3,0Z\" style=\"opacity: 1; stroke-width: 0px; fill: rgb(178, 24, 43); fill-opacity: 1;\"/><path class=\"point\" transform=\"translate(563.54,183.5)\" d=\"M3,0A3,3 0 1,1 0,-3A3,3 0 0,1 3,0Z\" style=\"opacity: 1; stroke-width: 0px; fill: rgb(178, 24, 43); fill-opacity: 1;\"/><path class=\"point\" transform=\"translate(564.02,183.5)\" d=\"M3,0A3,3 0 1,1 0,-3A3,3 0 0,1 3,0Z\" style=\"opacity: 1; stroke-width: 0px; fill: rgb(178, 24, 43); fill-opacity: 1;\"/><path class=\"point\" transform=\"translate(564.28,183.5)\" d=\"M3,0A3,3 0 1,1 0,-3A3,3 0 0,1 3,0Z\" style=\"opacity: 1; stroke-width: 0px; fill: rgb(178, 24, 43); fill-opacity: 1;\"/><path class=\"point\" transform=\"translate(564.39,183.5)\" d=\"M3,0A3,3 0 1,1 0,-3A3,3 0 0,1 3,0Z\" style=\"opacity: 1; stroke-width: 0px; fill: rgb(178, 24, 43); fill-opacity: 1;\"/><path class=\"point\" transform=\"translate(564.4,183.5)\" d=\"M3,0A3,3 0 1,1 0,-3A3,3 0 0,1 3,0Z\" style=\"opacity: 1; stroke-width: 0px; fill: rgb(178, 24, 43); fill-opacity: 1;\"/><path class=\"point\" transform=\"translate(564.42,183.5)\" d=\"M3,0A3,3 0 1,1 0,-3A3,3 0 0,1 3,0Z\" style=\"opacity: 1; stroke-width: 0px; fill: rgb(178, 24, 43); fill-opacity: 1;\"/><path class=\"point\" transform=\"translate(564.56,183.5)\" d=\"M3,0A3,3 0 1,1 0,-3A3,3 0 0,1 3,0Z\" style=\"opacity: 1; stroke-width: 0px; fill: rgb(178, 24, 43); fill-opacity: 1;\"/><path class=\"point\" transform=\"translate(564.75,183.5)\" d=\"M3,0A3,3 0 1,1 0,-3A3,3 0 0,1 3,0Z\" style=\"opacity: 1; stroke-width: 0px; fill: rgb(178, 24, 43); fill-opacity: 1;\"/><path class=\"point\" transform=\"translate(565.79,183.5)\" d=\"M3,0A3,3 0 1,1 0,-3A3,3 0 0,1 3,0Z\" style=\"opacity: 1; stroke-width: 0px; fill: rgb(178, 24, 43); fill-opacity: 1;\"/><path class=\"point\" transform=\"translate(566.29,183.5)\" d=\"M3,0A3,3 0 1,1 0,-3A3,3 0 0,1 3,0Z\" style=\"opacity: 1; stroke-width: 0px; fill: rgb(178, 24, 43); fill-opacity: 1;\"/><path class=\"point\" transform=\"translate(566.36,183.5)\" d=\"M3,0A3,3 0 1,1 0,-3A3,3 0 0,1 3,0Z\" style=\"opacity: 1; stroke-width: 0px; fill: rgb(178, 24, 43); fill-opacity: 1;\"/><path class=\"point\" transform=\"translate(566.4,183.5)\" d=\"M3,0A3,3 0 1,1 0,-3A3,3 0 0,1 3,0Z\" style=\"opacity: 1; stroke-width: 0px; fill: rgb(178, 24, 43); fill-opacity: 1;\"/><path class=\"point\" transform=\"translate(566.75,183.5)\" d=\"M3,0A3,3 0 1,1 0,-3A3,3 0 0,1 3,0Z\" style=\"opacity: 1; stroke-width: 0px; fill: rgb(178, 24, 43); fill-opacity: 1;\"/><path class=\"point\" transform=\"translate(567.64,183.5)\" d=\"M3,0A3,3 0 1,1 0,-3A3,3 0 0,1 3,0Z\" style=\"opacity: 1; stroke-width: 0px; fill: rgb(178, 24, 43); fill-opacity: 1;\"/><path class=\"point\" transform=\"translate(567.72,183.5)\" d=\"M3,0A3,3 0 1,1 0,-3A3,3 0 0,1 3,0Z\" style=\"opacity: 1; stroke-width: 0px; fill: rgb(178, 24, 43); fill-opacity: 1;\"/><path class=\"point\" transform=\"translate(567.75,183.5)\" d=\"M3,0A3,3 0 1,1 0,-3A3,3 0 0,1 3,0Z\" style=\"opacity: 1; stroke-width: 0px; fill: rgb(178, 24, 43); fill-opacity: 1;\"/><path class=\"point\" transform=\"translate(567.86,183.5)\" d=\"M3,0A3,3 0 1,1 0,-3A3,3 0 0,1 3,0Z\" style=\"opacity: 1; stroke-width: 0px; fill: rgb(178, 24, 43); fill-opacity: 1;\"/><path class=\"point\" transform=\"translate(567.96,183.5)\" d=\"M3,0A3,3 0 1,1 0,-3A3,3 0 0,1 3,0Z\" style=\"opacity: 1; stroke-width: 0px; fill: rgb(178, 24, 43); fill-opacity: 1;\"/><path class=\"point\" transform=\"translate(568.46,183.5)\" d=\"M3,0A3,3 0 1,1 0,-3A3,3 0 0,1 3,0Z\" style=\"opacity: 1; stroke-width: 0px; fill: rgb(178, 24, 43); fill-opacity: 1;\"/><path class=\"point\" transform=\"translate(568.71,183.5)\" d=\"M3,0A3,3 0 1,1 0,-3A3,3 0 0,1 3,0Z\" style=\"opacity: 1; stroke-width: 0px; fill: rgb(178, 24, 43); fill-opacity: 1;\"/><path class=\"point\" transform=\"translate(568.83,183.5)\" d=\"M3,0A3,3 0 1,1 0,-3A3,3 0 0,1 3,0Z\" style=\"opacity: 1; stroke-width: 0px; fill: rgb(178, 24, 43); fill-opacity: 1;\"/><path class=\"point\" transform=\"translate(569.23,183.5)\" d=\"M3,0A3,3 0 1,1 0,-3A3,3 0 0,1 3,0Z\" style=\"opacity: 1; stroke-width: 0px; fill: rgb(178, 24, 43); fill-opacity: 1;\"/><path class=\"point\" transform=\"translate(569.4,183.5)\" d=\"M3,0A3,3 0 1,1 0,-3A3,3 0 0,1 3,0Z\" style=\"opacity: 1; stroke-width: 0px; fill: rgb(178, 24, 43); fill-opacity: 1;\"/><path class=\"point\" transform=\"translate(569.43,183.5)\" d=\"M3,0A3,3 0 1,1 0,-3A3,3 0 0,1 3,0Z\" style=\"opacity: 1; stroke-width: 0px; fill: rgb(178, 24, 43); fill-opacity: 1;\"/><path class=\"point\" transform=\"translate(569.54,183.5)\" d=\"M3,0A3,3 0 1,1 0,-3A3,3 0 0,1 3,0Z\" style=\"opacity: 1; stroke-width: 0px; fill: rgb(178, 24, 43); fill-opacity: 1;\"/><path class=\"point\" transform=\"translate(570.17,183.5)\" d=\"M3,0A3,3 0 1,1 0,-3A3,3 0 0,1 3,0Z\" style=\"opacity: 1; stroke-width: 0px; fill: rgb(178, 24, 43); fill-opacity: 1;\"/><path class=\"point\" transform=\"translate(570.41,183.5)\" d=\"M3,0A3,3 0 1,1 0,-3A3,3 0 0,1 3,0Z\" style=\"opacity: 1; stroke-width: 0px; fill: rgb(178, 24, 43); fill-opacity: 1;\"/><path class=\"point\" transform=\"translate(570.42,183.5)\" d=\"M3,0A3,3 0 1,1 0,-3A3,3 0 0,1 3,0Z\" style=\"opacity: 1; stroke-width: 0px; fill: rgb(178, 24, 43); fill-opacity: 1;\"/><path class=\"point\" transform=\"translate(570.5,183.5)\" d=\"M3,0A3,3 0 1,1 0,-3A3,3 0 0,1 3,0Z\" style=\"opacity: 1; stroke-width: 0px; fill: rgb(178, 24, 43); fill-opacity: 1;\"/><path class=\"point\" transform=\"translate(571.05,183.5)\" d=\"M3,0A3,3 0 1,1 0,-3A3,3 0 0,1 3,0Z\" style=\"opacity: 1; stroke-width: 0px; fill: rgb(178, 24, 43); fill-opacity: 1;\"/><path class=\"point\" transform=\"translate(571.64,183.5)\" d=\"M3,0A3,3 0 1,1 0,-3A3,3 0 0,1 3,0Z\" style=\"opacity: 1; stroke-width: 0px; fill: rgb(178, 24, 43); fill-opacity: 1;\"/><path class=\"point\" transform=\"translate(572.19,183.5)\" d=\"M3,0A3,3 0 1,1 0,-3A3,3 0 0,1 3,0Z\" style=\"opacity: 1; stroke-width: 0px; fill: rgb(178, 24, 43); fill-opacity: 1;\"/><path class=\"point\" transform=\"translate(572.6,183.5)\" d=\"M3,0A3,3 0 1,1 0,-3A3,3 0 0,1 3,0Z\" style=\"opacity: 1; stroke-width: 0px; fill: rgb(178, 24, 43); fill-opacity: 1;\"/><path class=\"point\" transform=\"translate(573.13,183.5)\" d=\"M3,0A3,3 0 1,1 0,-3A3,3 0 0,1 3,0Z\" style=\"opacity: 1; stroke-width: 0px; fill: rgb(178, 24, 43); fill-opacity: 1;\"/><path class=\"point\" transform=\"translate(573.5,183.5)\" d=\"M3,0A3,3 0 1,1 0,-3A3,3 0 0,1 3,0Z\" style=\"opacity: 1; stroke-width: 0px; fill: rgb(178, 24, 43); fill-opacity: 1;\"/><path class=\"point\" transform=\"translate(573.79,183.5)\" d=\"M3,0A3,3 0 1,1 0,-3A3,3 0 0,1 3,0Z\" style=\"opacity: 1; stroke-width: 0px; fill: rgb(178, 24, 43); fill-opacity: 1;\"/><path class=\"point\" transform=\"translate(573.84,183.5)\" d=\"M3,0A3,3 0 1,1 0,-3A3,3 0 0,1 3,0Z\" style=\"opacity: 1; stroke-width: 0px; fill: rgb(178, 24, 43); fill-opacity: 1;\"/><path class=\"point\" transform=\"translate(573.95,183.5)\" d=\"M3,0A3,3 0 1,1 0,-3A3,3 0 0,1 3,0Z\" style=\"opacity: 1; stroke-width: 0px; fill: rgb(178, 24, 43); fill-opacity: 1;\"/><path class=\"point\" transform=\"translate(574.21,183.5)\" d=\"M3,0A3,3 0 1,1 0,-3A3,3 0 0,1 3,0Z\" style=\"opacity: 1; stroke-width: 0px; fill: rgb(178, 24, 43); fill-opacity: 1;\"/><path class=\"point\" transform=\"translate(574.45,183.5)\" d=\"M3,0A3,3 0 1,1 0,-3A3,3 0 0,1 3,0Z\" style=\"opacity: 1; stroke-width: 0px; fill: rgb(178, 24, 43); fill-opacity: 1;\"/><path class=\"point\" transform=\"translate(574.52,183.5)\" d=\"M3,0A3,3 0 1,1 0,-3A3,3 0 0,1 3,0Z\" style=\"opacity: 1; stroke-width: 0px; fill: rgb(178, 24, 43); fill-opacity: 1;\"/><path class=\"point\" transform=\"translate(574.64,183.5)\" d=\"M3,0A3,3 0 1,1 0,-3A3,3 0 0,1 3,0Z\" style=\"opacity: 1; stroke-width: 0px; fill: rgb(178, 24, 43); fill-opacity: 1;\"/><path class=\"point\" transform=\"translate(574.69,183.5)\" d=\"M3,0A3,3 0 1,1 0,-3A3,3 0 0,1 3,0Z\" style=\"opacity: 1; stroke-width: 0px; fill: rgb(178, 24, 43); fill-opacity: 1;\"/><path class=\"point\" transform=\"translate(575.06,183.5)\" d=\"M3,0A3,3 0 1,1 0,-3A3,3 0 0,1 3,0Z\" style=\"opacity: 1; stroke-width: 0px; fill: rgb(178, 24, 43); fill-opacity: 1;\"/><path class=\"point\" transform=\"translate(575.17,183.5)\" d=\"M3,0A3,3 0 1,1 0,-3A3,3 0 0,1 3,0Z\" style=\"opacity: 1; stroke-width: 0px; fill: rgb(178, 24, 43); fill-opacity: 1;\"/><path class=\"point\" transform=\"translate(575.3,183.5)\" d=\"M3,0A3,3 0 1,1 0,-3A3,3 0 0,1 3,0Z\" style=\"opacity: 1; stroke-width: 0px; fill: rgb(178, 24, 43); fill-opacity: 1;\"/><path class=\"point\" transform=\"translate(575.35,183.5)\" d=\"M3,0A3,3 0 1,1 0,-3A3,3 0 0,1 3,0Z\" style=\"opacity: 1; stroke-width: 0px; fill: rgb(178, 24, 43); fill-opacity: 1;\"/><path class=\"point\" transform=\"translate(575.45,183.5)\" d=\"M3,0A3,3 0 1,1 0,-3A3,3 0 0,1 3,0Z\" style=\"opacity: 1; stroke-width: 0px; fill: rgb(178, 24, 43); fill-opacity: 1;\"/><path class=\"point\" transform=\"translate(575.46,183.5)\" d=\"M3,0A3,3 0 1,1 0,-3A3,3 0 0,1 3,0Z\" style=\"opacity: 1; stroke-width: 0px; fill: rgb(178, 24, 43); fill-opacity: 1;\"/><path class=\"point\" transform=\"translate(575.79,183.5)\" d=\"M3,0A3,3 0 1,1 0,-3A3,3 0 0,1 3,0Z\" style=\"opacity: 1; stroke-width: 0px; fill: rgb(178, 24, 43); fill-opacity: 1;\"/><path class=\"point\" transform=\"translate(575.8,183.5)\" d=\"M3,0A3,3 0 1,1 0,-3A3,3 0 0,1 3,0Z\" style=\"opacity: 1; stroke-width: 0px; fill: rgb(178, 24, 43); fill-opacity: 1;\"/><path class=\"point\" transform=\"translate(576.74,183.5)\" d=\"M3,0A3,3 0 1,1 0,-3A3,3 0 0,1 3,0Z\" style=\"opacity: 1; stroke-width: 0px; fill: rgb(178, 24, 43); fill-opacity: 1;\"/><path class=\"point\" transform=\"translate(576.9,183.5)\" d=\"M3,0A3,3 0 1,1 0,-3A3,3 0 0,1 3,0Z\" style=\"opacity: 1; stroke-width: 0px; fill: rgb(178, 24, 43); fill-opacity: 1;\"/><path class=\"point\" transform=\"translate(577.08,183.5)\" d=\"M3,0A3,3 0 1,1 0,-3A3,3 0 0,1 3,0Z\" style=\"opacity: 1; stroke-width: 0px; fill: rgb(178, 24, 43); fill-opacity: 1;\"/><path class=\"point\" transform=\"translate(577.4,183.5)\" d=\"M3,0A3,3 0 1,1 0,-3A3,3 0 0,1 3,0Z\" style=\"opacity: 1; stroke-width: 0px; fill: rgb(178, 24, 43); fill-opacity: 1;\"/><path class=\"point\" transform=\"translate(577.59,183.5)\" d=\"M3,0A3,3 0 1,1 0,-3A3,3 0 0,1 3,0Z\" style=\"opacity: 1; stroke-width: 0px; fill: rgb(178, 24, 43); fill-opacity: 1;\"/><path class=\"point\" transform=\"translate(577.85,183.5)\" d=\"M3,0A3,3 0 1,1 0,-3A3,3 0 0,1 3,0Z\" style=\"opacity: 1; stroke-width: 0px; fill: rgb(178, 24, 43); fill-opacity: 1;\"/><path class=\"point\" transform=\"translate(578.01,183.5)\" d=\"M3,0A3,3 0 1,1 0,-3A3,3 0 0,1 3,0Z\" style=\"opacity: 1; stroke-width: 0px; fill: rgb(178, 24, 43); fill-opacity: 1;\"/><path class=\"point\" transform=\"translate(578.06,183.5)\" d=\"M3,0A3,3 0 1,1 0,-3A3,3 0 0,1 3,0Z\" style=\"opacity: 1; stroke-width: 0px; fill: rgb(178, 24, 43); fill-opacity: 1;\"/><path class=\"point\" transform=\"translate(578.3,183.5)\" d=\"M3,0A3,3 0 1,1 0,-3A3,3 0 0,1 3,0Z\" style=\"opacity: 1; stroke-width: 0px; fill: rgb(178, 24, 43); fill-opacity: 1;\"/><path class=\"point\" transform=\"translate(578.41,183.5)\" d=\"M3,0A3,3 0 1,1 0,-3A3,3 0 0,1 3,0Z\" style=\"opacity: 1; stroke-width: 0px; fill: rgb(178, 24, 43); fill-opacity: 1;\"/><path class=\"point\" transform=\"translate(578.51,183.5)\" d=\"M3,0A3,3 0 1,1 0,-3A3,3 0 0,1 3,0Z\" style=\"opacity: 1; stroke-width: 0px; fill: rgb(178, 24, 43); fill-opacity: 1;\"/><path class=\"point\" transform=\"translate(578.62,183.5)\" d=\"M3,0A3,3 0 1,1 0,-3A3,3 0 0,1 3,0Z\" style=\"opacity: 1; stroke-width: 0px; fill: rgb(178, 24, 43); fill-opacity: 1;\"/><path class=\"point\" transform=\"translate(578.65,183.5)\" d=\"M3,0A3,3 0 1,1 0,-3A3,3 0 0,1 3,0Z\" style=\"opacity: 1; stroke-width: 0px; fill: rgb(178, 24, 43); fill-opacity: 1;\"/><path class=\"point\" transform=\"translate(578.7,183.5)\" d=\"M3,0A3,3 0 1,1 0,-3A3,3 0 0,1 3,0Z\" style=\"opacity: 1; stroke-width: 0px; fill: rgb(178, 24, 43); fill-opacity: 1;\"/><path class=\"point\" transform=\"translate(578.88,183.5)\" d=\"M3,0A3,3 0 1,1 0,-3A3,3 0 0,1 3,0Z\" style=\"opacity: 1; stroke-width: 0px; fill: rgb(178, 24, 43); fill-opacity: 1;\"/><path class=\"point\" transform=\"translate(579.13,183.5)\" d=\"M3,0A3,3 0 1,1 0,-3A3,3 0 0,1 3,0Z\" style=\"opacity: 1; stroke-width: 0px; fill: rgb(178, 24, 43); fill-opacity: 1;\"/><path class=\"point\" transform=\"translate(579.5,183.5)\" d=\"M3,0A3,3 0 1,1 0,-3A3,3 0 0,1 3,0Z\" style=\"opacity: 1; stroke-width: 0px; fill: rgb(178, 24, 43); fill-opacity: 1;\"/><path class=\"point\" transform=\"translate(579.68,183.5)\" d=\"M3,0A3,3 0 1,1 0,-3A3,3 0 0,1 3,0Z\" style=\"opacity: 1; stroke-width: 0px; fill: rgb(178, 24, 43); fill-opacity: 1;\"/><path class=\"point\" transform=\"translate(580.28,183.5)\" d=\"M3,0A3,3 0 1,1 0,-3A3,3 0 0,1 3,0Z\" style=\"opacity: 1; stroke-width: 0px; fill: rgb(178, 24, 43); fill-opacity: 1;\"/><path class=\"point\" transform=\"translate(580.34,183.5)\" d=\"M3,0A3,3 0 1,1 0,-3A3,3 0 0,1 3,0Z\" style=\"opacity: 1; stroke-width: 0px; fill: rgb(178, 24, 43); fill-opacity: 1;\"/><path class=\"point\" transform=\"translate(580.57,183.5)\" d=\"M3,0A3,3 0 1,1 0,-3A3,3 0 0,1 3,0Z\" style=\"opacity: 1; stroke-width: 0px; fill: rgb(178, 24, 43); fill-opacity: 1;\"/><path class=\"point\" transform=\"translate(580.8,183.5)\" d=\"M3,0A3,3 0 1,1 0,-3A3,3 0 0,1 3,0Z\" style=\"opacity: 1; stroke-width: 0px; fill: rgb(178, 24, 43); fill-opacity: 1;\"/><path class=\"point\" transform=\"translate(580.83,183.5)\" d=\"M3,0A3,3 0 1,1 0,-3A3,3 0 0,1 3,0Z\" style=\"opacity: 1; stroke-width: 0px; fill: rgb(178, 24, 43); fill-opacity: 1;\"/><path class=\"point\" transform=\"translate(580.99,183.5)\" d=\"M3,0A3,3 0 1,1 0,-3A3,3 0 0,1 3,0Z\" style=\"opacity: 1; stroke-width: 0px; fill: rgb(178, 24, 43); fill-opacity: 1;\"/><path class=\"point\" transform=\"translate(581.17,183.5)\" d=\"M3,0A3,3 0 1,1 0,-3A3,3 0 0,1 3,0Z\" style=\"opacity: 1; stroke-width: 0px; fill: rgb(178, 24, 43); fill-opacity: 1;\"/><path class=\"point\" transform=\"translate(581.33,183.5)\" d=\"M3,0A3,3 0 1,1 0,-3A3,3 0 0,1 3,0Z\" style=\"opacity: 1; stroke-width: 0px; fill: rgb(178, 24, 43); fill-opacity: 1;\"/><path class=\"point\" transform=\"translate(581.98,183.5)\" d=\"M3,0A3,3 0 1,1 0,-3A3,3 0 0,1 3,0Z\" style=\"opacity: 1; stroke-width: 0px; fill: rgb(178, 24, 43); fill-opacity: 1;\"/><path class=\"point\" transform=\"translate(582.1,183.5)\" d=\"M3,0A3,3 0 1,1 0,-3A3,3 0 0,1 3,0Z\" style=\"opacity: 1; stroke-width: 0px; fill: rgb(178, 24, 43); fill-opacity: 1;\"/><path class=\"point\" transform=\"translate(582.46,183.5)\" d=\"M3,0A3,3 0 1,1 0,-3A3,3 0 0,1 3,0Z\" style=\"opacity: 1; stroke-width: 0px; fill: rgb(178, 24, 43); fill-opacity: 1;\"/><path class=\"point\" transform=\"translate(582.84,183.5)\" d=\"M3,0A3,3 0 1,1 0,-3A3,3 0 0,1 3,0Z\" style=\"opacity: 1; stroke-width: 0px; fill: rgb(178, 24, 43); fill-opacity: 1;\"/><path class=\"point\" transform=\"translate(583.14,183.5)\" d=\"M3,0A3,3 0 1,1 0,-3A3,3 0 0,1 3,0Z\" style=\"opacity: 1; stroke-width: 0px; fill: rgb(178, 24, 43); fill-opacity: 1;\"/><path class=\"point\" transform=\"translate(583.27,183.5)\" d=\"M3,0A3,3 0 1,1 0,-3A3,3 0 0,1 3,0Z\" style=\"opacity: 1; stroke-width: 0px; fill: rgb(178, 24, 43); fill-opacity: 1;\"/><path class=\"point\" transform=\"translate(583.63,183.5)\" d=\"M3,0A3,3 0 1,1 0,-3A3,3 0 0,1 3,0Z\" style=\"opacity: 1; stroke-width: 0px; fill: rgb(178, 24, 43); fill-opacity: 1;\"/><path class=\"point\" transform=\"translate(583.71,183.5)\" d=\"M3,0A3,3 0 1,1 0,-3A3,3 0 0,1 3,0Z\" style=\"opacity: 1; stroke-width: 0px; fill: rgb(178, 24, 43); fill-opacity: 1;\"/><path class=\"point\" transform=\"translate(583.89,183.5)\" d=\"M3,0A3,3 0 1,1 0,-3A3,3 0 0,1 3,0Z\" style=\"opacity: 1; stroke-width: 0px; fill: rgb(178, 24, 43); fill-opacity: 1;\"/><path class=\"point\" transform=\"translate(584.15,183.5)\" d=\"M3,0A3,3 0 1,1 0,-3A3,3 0 0,1 3,0Z\" style=\"opacity: 1; stroke-width: 0px; fill: rgb(178, 24, 43); fill-opacity: 1;\"/><path class=\"point\" transform=\"translate(584.3,183.5)\" d=\"M3,0A3,3 0 1,1 0,-3A3,3 0 0,1 3,0Z\" style=\"opacity: 1; stroke-width: 0px; fill: rgb(178, 24, 43); fill-opacity: 1;\"/><path class=\"point\" transform=\"translate(584.42,183.5)\" d=\"M3,0A3,3 0 1,1 0,-3A3,3 0 0,1 3,0Z\" style=\"opacity: 1; stroke-width: 0px; fill: rgb(178, 24, 43); fill-opacity: 1;\"/><path class=\"point\" transform=\"translate(584.46,183.5)\" d=\"M3,0A3,3 0 1,1 0,-3A3,3 0 0,1 3,0Z\" style=\"opacity: 1; stroke-width: 0px; fill: rgb(178, 24, 43); fill-opacity: 1;\"/><path class=\"point\" transform=\"translate(584.59,183.5)\" d=\"M3,0A3,3 0 1,1 0,-3A3,3 0 0,1 3,0Z\" style=\"opacity: 1; stroke-width: 0px; fill: rgb(178, 24, 43); fill-opacity: 1;\"/><path class=\"point\" transform=\"translate(585.26,183.5)\" d=\"M3,0A3,3 0 1,1 0,-3A3,3 0 0,1 3,0Z\" style=\"opacity: 1; stroke-width: 0px; fill: rgb(178, 24, 43); fill-opacity: 1;\"/><path class=\"point\" transform=\"translate(585.39,183.5)\" d=\"M3,0A3,3 0 1,1 0,-3A3,3 0 0,1 3,0Z\" style=\"opacity: 1; stroke-width: 0px; fill: rgb(178, 24, 43); fill-opacity: 1;\"/><path class=\"point\" transform=\"translate(585.66,183.5)\" d=\"M3,0A3,3 0 1,1 0,-3A3,3 0 0,1 3,0Z\" style=\"opacity: 1; stroke-width: 0px; fill: rgb(178, 24, 43); fill-opacity: 1;\"/><path class=\"point\" transform=\"translate(585.92,183.5)\" d=\"M3,0A3,3 0 1,1 0,-3A3,3 0 0,1 3,0Z\" style=\"opacity: 1; stroke-width: 0px; fill: rgb(178, 24, 43); fill-opacity: 1;\"/><path class=\"point\" transform=\"translate(586.85,183.5)\" d=\"M3,0A3,3 0 1,1 0,-3A3,3 0 0,1 3,0Z\" style=\"opacity: 1; stroke-width: 0px; fill: rgb(178, 24, 43); fill-opacity: 1;\"/><path class=\"point\" transform=\"translate(587.03,183.5)\" d=\"M3,0A3,3 0 1,1 0,-3A3,3 0 0,1 3,0Z\" style=\"opacity: 1; stroke-width: 0px; fill: rgb(178, 24, 43); fill-opacity: 1;\"/><path class=\"point\" transform=\"translate(587.3,183.5)\" d=\"M3,0A3,3 0 1,1 0,-3A3,3 0 0,1 3,0Z\" style=\"opacity: 1; stroke-width: 0px; fill: rgb(178, 24, 43); fill-opacity: 1;\"/><path class=\"point\" transform=\"translate(587.42,183.5)\" d=\"M3,0A3,3 0 1,1 0,-3A3,3 0 0,1 3,0Z\" style=\"opacity: 1; stroke-width: 0px; fill: rgb(178, 24, 43); fill-opacity: 1;\"/><path class=\"point\" transform=\"translate(587.55,183.5)\" d=\"M3,0A3,3 0 1,1 0,-3A3,3 0 0,1 3,0Z\" style=\"opacity: 1; stroke-width: 0px; fill: rgb(178, 24, 43); fill-opacity: 1;\"/><path class=\"point\" transform=\"translate(587.57,183.5)\" d=\"M3,0A3,3 0 1,1 0,-3A3,3 0 0,1 3,0Z\" style=\"opacity: 1; stroke-width: 0px; fill: rgb(178, 24, 43); fill-opacity: 1;\"/><path class=\"point\" transform=\"translate(588.05,183.5)\" d=\"M3,0A3,3 0 1,1 0,-3A3,3 0 0,1 3,0Z\" style=\"opacity: 1; stroke-width: 0px; fill: rgb(178, 24, 43); fill-opacity: 1;\"/><path class=\"point\" transform=\"translate(588.21,183.5)\" d=\"M3,0A3,3 0 1,1 0,-3A3,3 0 0,1 3,0Z\" style=\"opacity: 1; stroke-width: 0px; fill: rgb(178, 24, 43); fill-opacity: 1;\"/><path class=\"point\" transform=\"translate(588.57,183.5)\" d=\"M3,0A3,3 0 1,1 0,-3A3,3 0 0,1 3,0Z\" style=\"opacity: 1; stroke-width: 0px; fill: rgb(178, 24, 43); fill-opacity: 1;\"/><path class=\"point\" transform=\"translate(588.72,183.5)\" d=\"M3,0A3,3 0 1,1 0,-3A3,3 0 0,1 3,0Z\" style=\"opacity: 1; stroke-width: 0px; fill: rgb(178, 24, 43); fill-opacity: 1;\"/><path class=\"point\" transform=\"translate(589.07,183.5)\" d=\"M3,0A3,3 0 1,1 0,-3A3,3 0 0,1 3,0Z\" style=\"opacity: 1; stroke-width: 0px; fill: rgb(178, 24, 43); fill-opacity: 1;\"/><path class=\"point\" transform=\"translate(589.07,183.5)\" d=\"M3,0A3,3 0 1,1 0,-3A3,3 0 0,1 3,0Z\" style=\"opacity: 1; stroke-width: 0px; fill: rgb(178, 24, 43); fill-opacity: 1;\"/><path class=\"point\" transform=\"translate(589.32,183.5)\" d=\"M3,0A3,3 0 1,1 0,-3A3,3 0 0,1 3,0Z\" style=\"opacity: 1; stroke-width: 0px; fill: rgb(178, 24, 43); fill-opacity: 1;\"/><path class=\"point\" transform=\"translate(589.51,183.5)\" d=\"M3,0A3,3 0 1,1 0,-3A3,3 0 0,1 3,0Z\" style=\"opacity: 1; stroke-width: 0px; fill: rgb(178, 24, 43); fill-opacity: 1;\"/><path class=\"point\" transform=\"translate(589.6,183.5)\" d=\"M3,0A3,3 0 1,1 0,-3A3,3 0 0,1 3,0Z\" style=\"opacity: 1; stroke-width: 0px; fill: rgb(178, 24, 43); fill-opacity: 1;\"/><path class=\"point\" transform=\"translate(589.84,183.5)\" d=\"M3,0A3,3 0 1,1 0,-3A3,3 0 0,1 3,0Z\" style=\"opacity: 1; stroke-width: 0px; fill: rgb(178, 24, 43); fill-opacity: 1;\"/><path class=\"point\" transform=\"translate(590.34,183.5)\" d=\"M3,0A3,3 0 1,1 0,-3A3,3 0 0,1 3,0Z\" style=\"opacity: 1; stroke-width: 0px; fill: rgb(178, 24, 43); fill-opacity: 1;\"/><path class=\"point\" transform=\"translate(590.37,183.5)\" d=\"M3,0A3,3 0 1,1 0,-3A3,3 0 0,1 3,0Z\" style=\"opacity: 1; stroke-width: 0px; fill: rgb(178, 24, 43); fill-opacity: 1;\"/><path class=\"point\" transform=\"translate(590.44,183.5)\" d=\"M3,0A3,3 0 1,1 0,-3A3,3 0 0,1 3,0Z\" style=\"opacity: 1; stroke-width: 0px; fill: rgb(178, 24, 43); fill-opacity: 1;\"/><path class=\"point\" transform=\"translate(590.53,183.5)\" d=\"M3,0A3,3 0 1,1 0,-3A3,3 0 0,1 3,0Z\" style=\"opacity: 1; stroke-width: 0px; fill: rgb(178, 24, 43); fill-opacity: 1;\"/><path class=\"point\" transform=\"translate(590.99,183.5)\" d=\"M3,0A3,3 0 1,1 0,-3A3,3 0 0,1 3,0Z\" style=\"opacity: 1; stroke-width: 0px; fill: rgb(178, 24, 43); fill-opacity: 1;\"/><path class=\"point\" transform=\"translate(591.44,183.5)\" d=\"M3,0A3,3 0 1,1 0,-3A3,3 0 0,1 3,0Z\" style=\"opacity: 1; stroke-width: 0px; fill: rgb(178, 24, 43); fill-opacity: 1;\"/><path class=\"point\" transform=\"translate(591.69,183.5)\" d=\"M3,0A3,3 0 1,1 0,-3A3,3 0 0,1 3,0Z\" style=\"opacity: 1; stroke-width: 0px; fill: rgb(178, 24, 43); fill-opacity: 1;\"/><path class=\"point\" transform=\"translate(591.9,183.5)\" d=\"M3,0A3,3 0 1,1 0,-3A3,3 0 0,1 3,0Z\" style=\"opacity: 1; stroke-width: 0px; fill: rgb(178, 24, 43); fill-opacity: 1;\"/><path class=\"point\" transform=\"translate(591.91,183.5)\" d=\"M3,0A3,3 0 1,1 0,-3A3,3 0 0,1 3,0Z\" style=\"opacity: 1; stroke-width: 0px; fill: rgb(178, 24, 43); fill-opacity: 1;\"/><path class=\"point\" transform=\"translate(592.14,183.5)\" d=\"M3,0A3,3 0 1,1 0,-3A3,3 0 0,1 3,0Z\" style=\"opacity: 1; stroke-width: 0px; fill: rgb(178, 24, 43); fill-opacity: 1;\"/><path class=\"point\" transform=\"translate(592.29,183.5)\" d=\"M3,0A3,3 0 1,1 0,-3A3,3 0 0,1 3,0Z\" style=\"opacity: 1; stroke-width: 0px; fill: rgb(178, 24, 43); fill-opacity: 1;\"/><path class=\"point\" transform=\"translate(592.31,183.5)\" d=\"M3,0A3,3 0 1,1 0,-3A3,3 0 0,1 3,0Z\" style=\"opacity: 1; stroke-width: 0px; fill: rgb(178, 24, 43); fill-opacity: 1;\"/><path class=\"point\" transform=\"translate(592.91,183.5)\" d=\"M3,0A3,3 0 1,1 0,-3A3,3 0 0,1 3,0Z\" style=\"opacity: 1; stroke-width: 0px; fill: rgb(178, 24, 43); fill-opacity: 1;\"/><path class=\"point\" transform=\"translate(593.16,183.5)\" d=\"M3,0A3,3 0 1,1 0,-3A3,3 0 0,1 3,0Z\" style=\"opacity: 1; stroke-width: 0px; fill: rgb(178, 24, 43); fill-opacity: 1;\"/><path class=\"point\" transform=\"translate(593.21,183.5)\" d=\"M3,0A3,3 0 1,1 0,-3A3,3 0 0,1 3,0Z\" style=\"opacity: 1; stroke-width: 0px; fill: rgb(178, 24, 43); fill-opacity: 1;\"/><path class=\"point\" transform=\"translate(594.23,183.5)\" d=\"M3,0A3,3 0 1,1 0,-3A3,3 0 0,1 3,0Z\" style=\"opacity: 1; stroke-width: 0px; fill: rgb(178, 24, 43); fill-opacity: 1;\"/><path class=\"point\" transform=\"translate(594.59,183.5)\" d=\"M3,0A3,3 0 1,1 0,-3A3,3 0 0,1 3,0Z\" style=\"opacity: 1; stroke-width: 0px; fill: rgb(178, 24, 43); fill-opacity: 1;\"/><path class=\"point\" transform=\"translate(594.72,183.5)\" d=\"M3,0A3,3 0 1,1 0,-3A3,3 0 0,1 3,0Z\" style=\"opacity: 1; stroke-width: 0px; fill: rgb(178, 24, 43); fill-opacity: 1;\"/><path class=\"point\" transform=\"translate(595.3,183.5)\" d=\"M3,0A3,3 0 1,1 0,-3A3,3 0 0,1 3,0Z\" style=\"opacity: 1; stroke-width: 0px; fill: rgb(178, 24, 43); fill-opacity: 1;\"/><path class=\"point\" transform=\"translate(595.32,183.5)\" d=\"M3,0A3,3 0 1,1 0,-3A3,3 0 0,1 3,0Z\" style=\"opacity: 1; stroke-width: 0px; fill: rgb(178, 24, 43); fill-opacity: 1;\"/><path class=\"point\" transform=\"translate(595.53,183.5)\" d=\"M3,0A3,3 0 1,1 0,-3A3,3 0 0,1 3,0Z\" style=\"opacity: 1; stroke-width: 0px; fill: rgb(178, 24, 43); fill-opacity: 1;\"/><path class=\"point\" transform=\"translate(595.54,183.5)\" d=\"M3,0A3,3 0 1,1 0,-3A3,3 0 0,1 3,0Z\" style=\"opacity: 1; stroke-width: 0px; fill: rgb(178, 24, 43); fill-opacity: 1;\"/><path class=\"point\" transform=\"translate(595.59,183.5)\" d=\"M3,0A3,3 0 1,1 0,-3A3,3 0 0,1 3,0Z\" style=\"opacity: 1; stroke-width: 0px; fill: rgb(178, 24, 43); fill-opacity: 1;\"/><path class=\"point\" transform=\"translate(595.72,183.5)\" d=\"M3,0A3,3 0 1,1 0,-3A3,3 0 0,1 3,0Z\" style=\"opacity: 1; stroke-width: 0px; fill: rgb(178, 24, 43); fill-opacity: 1;\"/><path class=\"point\" transform=\"translate(595.77,183.5)\" d=\"M3,0A3,3 0 1,1 0,-3A3,3 0 0,1 3,0Z\" style=\"opacity: 1; stroke-width: 0px; fill: rgb(178, 24, 43); fill-opacity: 1;\"/><path class=\"point\" transform=\"translate(595.79,183.5)\" d=\"M3,0A3,3 0 1,1 0,-3A3,3 0 0,1 3,0Z\" style=\"opacity: 1; stroke-width: 0px; fill: rgb(178, 24, 43); fill-opacity: 1;\"/><path class=\"point\" transform=\"translate(595.85,183.5)\" d=\"M3,0A3,3 0 1,1 0,-3A3,3 0 0,1 3,0Z\" style=\"opacity: 1; stroke-width: 0px; fill: rgb(178, 24, 43); fill-opacity: 1;\"/><path class=\"point\" transform=\"translate(595.98,183.5)\" d=\"M3,0A3,3 0 1,1 0,-3A3,3 0 0,1 3,0Z\" style=\"opacity: 1; stroke-width: 0px; fill: rgb(178, 24, 43); fill-opacity: 1;\"/><path class=\"point\" transform=\"translate(596.33,183.5)\" d=\"M3,0A3,3 0 1,1 0,-3A3,3 0 0,1 3,0Z\" style=\"opacity: 1; stroke-width: 0px; fill: rgb(178, 24, 43); fill-opacity: 1;\"/><path class=\"point\" transform=\"translate(597.2,183.5)\" d=\"M3,0A3,3 0 1,1 0,-3A3,3 0 0,1 3,0Z\" style=\"opacity: 1; stroke-width: 0px; fill: rgb(178, 24, 43); fill-opacity: 1;\"/><path class=\"point\" transform=\"translate(597.84,183.5)\" d=\"M3,0A3,3 0 1,1 0,-3A3,3 0 0,1 3,0Z\" style=\"opacity: 1; stroke-width: 0px; fill: rgb(178, 24, 43); fill-opacity: 1;\"/><path class=\"point\" transform=\"translate(598.14,183.5)\" d=\"M3,0A3,3 0 1,1 0,-3A3,3 0 0,1 3,0Z\" style=\"opacity: 1; stroke-width: 0px; fill: rgb(178, 24, 43); fill-opacity: 1;\"/><path class=\"point\" transform=\"translate(598.17,183.5)\" d=\"M3,0A3,3 0 1,1 0,-3A3,3 0 0,1 3,0Z\" style=\"opacity: 1; stroke-width: 0px; fill: rgb(178, 24, 43); fill-opacity: 1;\"/><path class=\"point\" transform=\"translate(598.49,183.5)\" d=\"M3,0A3,3 0 1,1 0,-3A3,3 0 0,1 3,0Z\" style=\"opacity: 1; stroke-width: 0px; fill: rgb(178, 24, 43); fill-opacity: 1;\"/><path class=\"point\" transform=\"translate(598.67,183.5)\" d=\"M3,0A3,3 0 1,1 0,-3A3,3 0 0,1 3,0Z\" style=\"opacity: 1; stroke-width: 0px; fill: rgb(178, 24, 43); fill-opacity: 1;\"/><path class=\"point\" transform=\"translate(598.75,183.5)\" d=\"M3,0A3,3 0 1,1 0,-3A3,3 0 0,1 3,0Z\" style=\"opacity: 1; stroke-width: 0px; fill: rgb(178, 24, 43); fill-opacity: 1;\"/><path class=\"point\" transform=\"translate(598.88,183.5)\" d=\"M3,0A3,3 0 1,1 0,-3A3,3 0 0,1 3,0Z\" style=\"opacity: 1; stroke-width: 0px; fill: rgb(178, 24, 43); fill-opacity: 1;\"/><path class=\"point\" transform=\"translate(599.68,183.5)\" d=\"M3,0A3,3 0 1,1 0,-3A3,3 0 0,1 3,0Z\" style=\"opacity: 1; stroke-width: 0px; fill: rgb(178, 24, 43); fill-opacity: 1;\"/><path class=\"point\" transform=\"translate(599.97,183.5)\" d=\"M3,0A3,3 0 1,1 0,-3A3,3 0 0,1 3,0Z\" style=\"opacity: 1; stroke-width: 0px; fill: rgb(178, 24, 43); fill-opacity: 1;\"/><path class=\"point\" transform=\"translate(600.63,183.5)\" d=\"M3,0A3,3 0 1,1 0,-3A3,3 0 0,1 3,0Z\" style=\"opacity: 1; stroke-width: 0px; fill: rgb(178, 24, 43); fill-opacity: 1;\"/><path class=\"point\" transform=\"translate(600.84,183.5)\" d=\"M3,0A3,3 0 1,1 0,-3A3,3 0 0,1 3,0Z\" style=\"opacity: 1; stroke-width: 0px; fill: rgb(178, 24, 43); fill-opacity: 1;\"/><path class=\"point\" transform=\"translate(600.94,183.5)\" d=\"M3,0A3,3 0 1,1 0,-3A3,3 0 0,1 3,0Z\" style=\"opacity: 1; stroke-width: 0px; fill: rgb(178, 24, 43); fill-opacity: 1;\"/><path class=\"point\" transform=\"translate(601.25,183.5)\" d=\"M3,0A3,3 0 1,1 0,-3A3,3 0 0,1 3,0Z\" style=\"opacity: 1; stroke-width: 0px; fill: rgb(178, 24, 43); fill-opacity: 1;\"/><path class=\"point\" transform=\"translate(601.73,183.5)\" d=\"M3,0A3,3 0 1,1 0,-3A3,3 0 0,1 3,0Z\" style=\"opacity: 1; stroke-width: 0px; fill: rgb(178, 24, 43); fill-opacity: 1;\"/><path class=\"point\" transform=\"translate(601.78,183.5)\" d=\"M3,0A3,3 0 1,1 0,-3A3,3 0 0,1 3,0Z\" style=\"opacity: 1; stroke-width: 0px; fill: rgb(178, 24, 43); fill-opacity: 1;\"/><path class=\"point\" transform=\"translate(601.97,183.5)\" d=\"M3,0A3,3 0 1,1 0,-3A3,3 0 0,1 3,0Z\" style=\"opacity: 1; stroke-width: 0px; fill: rgb(178, 24, 43); fill-opacity: 1;\"/><path class=\"point\" transform=\"translate(602.28,183.5)\" d=\"M3,0A3,3 0 1,1 0,-3A3,3 0 0,1 3,0Z\" style=\"opacity: 1; stroke-width: 0px; fill: rgb(178, 24, 43); fill-opacity: 1;\"/><path class=\"point\" transform=\"translate(602.59,183.5)\" d=\"M3,0A3,3 0 1,1 0,-3A3,3 0 0,1 3,0Z\" style=\"opacity: 1; stroke-width: 0px; fill: rgb(178, 24, 43); fill-opacity: 1;\"/><path class=\"point\" transform=\"translate(603.48,183.5)\" d=\"M3,0A3,3 0 1,1 0,-3A3,3 0 0,1 3,0Z\" style=\"opacity: 1; stroke-width: 0px; fill: rgb(178, 24, 43); fill-opacity: 1;\"/><path class=\"point\" transform=\"translate(603.69,183.5)\" d=\"M3,0A3,3 0 1,1 0,-3A3,3 0 0,1 3,0Z\" style=\"opacity: 1; stroke-width: 0px; fill: rgb(178, 24, 43); fill-opacity: 1;\"/><path class=\"point\" transform=\"translate(604.22,183.5)\" d=\"M3,0A3,3 0 1,1 0,-3A3,3 0 0,1 3,0Z\" style=\"opacity: 1; stroke-width: 0px; fill: rgb(178, 24, 43); fill-opacity: 1;\"/><path class=\"point\" transform=\"translate(604.32,183.5)\" d=\"M3,0A3,3 0 1,1 0,-3A3,3 0 0,1 3,0Z\" style=\"opacity: 1; stroke-width: 0px; fill: rgb(178, 24, 43); fill-opacity: 1;\"/><path class=\"point\" transform=\"translate(604.73,183.5)\" d=\"M3,0A3,3 0 1,1 0,-3A3,3 0 0,1 3,0Z\" style=\"opacity: 1; stroke-width: 0px; fill: rgb(178, 24, 43); fill-opacity: 1;\"/><path class=\"point\" transform=\"translate(604.9,183.5)\" d=\"M3,0A3,3 0 1,1 0,-3A3,3 0 0,1 3,0Z\" style=\"opacity: 1; stroke-width: 0px; fill: rgb(178, 24, 43); fill-opacity: 1;\"/><path class=\"point\" transform=\"translate(605.03,183.5)\" d=\"M3,0A3,3 0 1,1 0,-3A3,3 0 0,1 3,0Z\" style=\"opacity: 1; stroke-width: 0px; fill: rgb(178, 24, 43); fill-opacity: 1;\"/><path class=\"point\" transform=\"translate(605.24,183.5)\" d=\"M3,0A3,3 0 1,1 0,-3A3,3 0 0,1 3,0Z\" style=\"opacity: 1; stroke-width: 0px; fill: rgb(178, 24, 43); fill-opacity: 1;\"/><path class=\"point\" transform=\"translate(605.26,183.5)\" d=\"M3,0A3,3 0 1,1 0,-3A3,3 0 0,1 3,0Z\" style=\"opacity: 1; stroke-width: 0px; fill: rgb(178, 24, 43); fill-opacity: 1;\"/><path class=\"point\" transform=\"translate(605.51,183.5)\" d=\"M3,0A3,3 0 1,1 0,-3A3,3 0 0,1 3,0Z\" style=\"opacity: 1; stroke-width: 0px; fill: rgb(178, 24, 43); fill-opacity: 1;\"/><path class=\"point\" transform=\"translate(605.98,183.5)\" d=\"M3,0A3,3 0 1,1 0,-3A3,3 0 0,1 3,0Z\" style=\"opacity: 1; stroke-width: 0px; fill: rgb(178, 24, 43); fill-opacity: 1;\"/><path class=\"point\" transform=\"translate(606.02,183.5)\" d=\"M3,0A3,3 0 1,1 0,-3A3,3 0 0,1 3,0Z\" style=\"opacity: 1; stroke-width: 0px; fill: rgb(178, 24, 43); fill-opacity: 1;\"/><path class=\"point\" transform=\"translate(606.63,183.5)\" d=\"M3,0A3,3 0 1,1 0,-3A3,3 0 0,1 3,0Z\" style=\"opacity: 1; stroke-width: 0px; fill: rgb(178, 24, 43); fill-opacity: 1;\"/><path class=\"point\" transform=\"translate(607.08,183.5)\" d=\"M3,0A3,3 0 1,1 0,-3A3,3 0 0,1 3,0Z\" style=\"opacity: 1; stroke-width: 0px; fill: rgb(178, 24, 43); fill-opacity: 1;\"/><path class=\"point\" transform=\"translate(607.18,183.5)\" d=\"M3,0A3,3 0 1,1 0,-3A3,3 0 0,1 3,0Z\" style=\"opacity: 1; stroke-width: 0px; fill: rgb(178, 24, 43); fill-opacity: 1;\"/><path class=\"point\" transform=\"translate(607.3,183.5)\" d=\"M3,0A3,3 0 1,1 0,-3A3,3 0 0,1 3,0Z\" style=\"opacity: 1; stroke-width: 0px; fill: rgb(178, 24, 43); fill-opacity: 1;\"/><path class=\"point\" transform=\"translate(607.45,183.5)\" d=\"M3,0A3,3 0 1,1 0,-3A3,3 0 0,1 3,0Z\" style=\"opacity: 1; stroke-width: 0px; fill: rgb(178, 24, 43); fill-opacity: 1;\"/><path class=\"point\" transform=\"translate(607.99,183.5)\" d=\"M3,0A3,3 0 1,1 0,-3A3,3 0 0,1 3,0Z\" style=\"opacity: 1; stroke-width: 0px; fill: rgb(178, 24, 43); fill-opacity: 1;\"/><path class=\"point\" transform=\"translate(608.36,183.5)\" d=\"M3,0A3,3 0 1,1 0,-3A3,3 0 0,1 3,0Z\" style=\"opacity: 1; stroke-width: 0px; fill: rgb(178, 24, 43); fill-opacity: 1;\"/><path class=\"point\" transform=\"translate(608.47,183.5)\" d=\"M3,0A3,3 0 1,1 0,-3A3,3 0 0,1 3,0Z\" style=\"opacity: 1; stroke-width: 0px; fill: rgb(178, 24, 43); fill-opacity: 1;\"/><path class=\"point\" transform=\"translate(608.54,183.5)\" d=\"M3,0A3,3 0 1,1 0,-3A3,3 0 0,1 3,0Z\" style=\"opacity: 1; stroke-width: 0px; fill: rgb(178, 24, 43); fill-opacity: 1;\"/><path class=\"point\" transform=\"translate(608.68,183.5)\" d=\"M3,0A3,3 0 1,1 0,-3A3,3 0 0,1 3,0Z\" style=\"opacity: 1; stroke-width: 0px; fill: rgb(178, 24, 43); fill-opacity: 1;\"/><path class=\"point\" transform=\"translate(608.78,183.5)\" d=\"M3,0A3,3 0 1,1 0,-3A3,3 0 0,1 3,0Z\" style=\"opacity: 1; stroke-width: 0px; fill: rgb(178, 24, 43); fill-opacity: 1;\"/><path class=\"point\" transform=\"translate(608.83,183.5)\" d=\"M3,0A3,3 0 1,1 0,-3A3,3 0 0,1 3,0Z\" style=\"opacity: 1; stroke-width: 0px; fill: rgb(178, 24, 43); fill-opacity: 1;\"/><path class=\"point\" transform=\"translate(608.96,183.5)\" d=\"M3,0A3,3 0 1,1 0,-3A3,3 0 0,1 3,0Z\" style=\"opacity: 1; stroke-width: 0px; fill: rgb(178, 24, 43); fill-opacity: 1;\"/><path class=\"point\" transform=\"translate(609.19,183.5)\" d=\"M3,0A3,3 0 1,1 0,-3A3,3 0 0,1 3,0Z\" style=\"opacity: 1; stroke-width: 0px; fill: rgb(178, 24, 43); fill-opacity: 1;\"/><path class=\"point\" transform=\"translate(609.26,183.5)\" d=\"M3,0A3,3 0 1,1 0,-3A3,3 0 0,1 3,0Z\" style=\"opacity: 1; stroke-width: 0px; fill: rgb(178, 24, 43); fill-opacity: 1;\"/><path class=\"point\" transform=\"translate(609.38,183.5)\" d=\"M3,0A3,3 0 1,1 0,-3A3,3 0 0,1 3,0Z\" style=\"opacity: 1; stroke-width: 0px; fill: rgb(178, 24, 43); fill-opacity: 1;\"/><path class=\"point\" transform=\"translate(609.51,183.5)\" d=\"M3,0A3,3 0 1,1 0,-3A3,3 0 0,1 3,0Z\" style=\"opacity: 1; stroke-width: 0px; fill: rgb(178, 24, 43); fill-opacity: 1;\"/><path class=\"point\" transform=\"translate(610.79,183.5)\" d=\"M3,0A3,3 0 1,1 0,-3A3,3 0 0,1 3,0Z\" style=\"opacity: 1; stroke-width: 0px; fill: rgb(178, 24, 43); fill-opacity: 1;\"/><path class=\"point\" transform=\"translate(611.72,183.5)\" d=\"M3,0A3,3 0 1,1 0,-3A3,3 0 0,1 3,0Z\" style=\"opacity: 1; stroke-width: 0px; fill: rgb(178, 24, 43); fill-opacity: 1;\"/><path class=\"point\" transform=\"translate(612.23,183.5)\" d=\"M3,0A3,3 0 1,1 0,-3A3,3 0 0,1 3,0Z\" style=\"opacity: 1; stroke-width: 0px; fill: rgb(178, 24, 43); fill-opacity: 1;\"/><path class=\"point\" transform=\"translate(612.8,183.5)\" d=\"M3,0A3,3 0 1,1 0,-3A3,3 0 0,1 3,0Z\" style=\"opacity: 1; stroke-width: 0px; fill: rgb(178, 24, 43); fill-opacity: 1;\"/><path class=\"point\" transform=\"translate(613.68,183.5)\" d=\"M3,0A3,3 0 1,1 0,-3A3,3 0 0,1 3,0Z\" style=\"opacity: 1; stroke-width: 0px; fill: rgb(178, 24, 43); fill-opacity: 1;\"/><path class=\"point\" transform=\"translate(614.29,183.5)\" d=\"M3,0A3,3 0 1,1 0,-3A3,3 0 0,1 3,0Z\" style=\"opacity: 1; stroke-width: 0px; fill: rgb(178, 24, 43); fill-opacity: 1;\"/><path class=\"point\" transform=\"translate(615.08,183.5)\" d=\"M3,0A3,3 0 1,1 0,-3A3,3 0 0,1 3,0Z\" style=\"opacity: 1; stroke-width: 0px; fill: rgb(178, 24, 43); fill-opacity: 1;\"/><path class=\"point\" transform=\"translate(615.23,183.5)\" d=\"M3,0A3,3 0 1,1 0,-3A3,3 0 0,1 3,0Z\" style=\"opacity: 1; stroke-width: 0px; fill: rgb(178, 24, 43); fill-opacity: 1;\"/><path class=\"point\" transform=\"translate(615.29,183.5)\" d=\"M3,0A3,3 0 1,1 0,-3A3,3 0 0,1 3,0Z\" style=\"opacity: 1; stroke-width: 0px; fill: rgb(178, 24, 43); fill-opacity: 1;\"/><path class=\"point\" transform=\"translate(615.31,183.5)\" d=\"M3,0A3,3 0 1,1 0,-3A3,3 0 0,1 3,0Z\" style=\"opacity: 1; stroke-width: 0px; fill: rgb(178, 24, 43); fill-opacity: 1;\"/><path class=\"point\" transform=\"translate(615.35,183.5)\" d=\"M3,0A3,3 0 1,1 0,-3A3,3 0 0,1 3,0Z\" style=\"opacity: 1; stroke-width: 0px; fill: rgb(178, 24, 43); fill-opacity: 1;\"/><path class=\"point\" transform=\"translate(615.47,183.5)\" d=\"M3,0A3,3 0 1,1 0,-3A3,3 0 0,1 3,0Z\" style=\"opacity: 1; stroke-width: 0px; fill: rgb(178, 24, 43); fill-opacity: 1;\"/><path class=\"point\" transform=\"translate(615.6,183.5)\" d=\"M3,0A3,3 0 1,1 0,-3A3,3 0 0,1 3,0Z\" style=\"opacity: 1; stroke-width: 0px; fill: rgb(178, 24, 43); fill-opacity: 1;\"/><path class=\"point\" transform=\"translate(616.38,183.5)\" d=\"M3,0A3,3 0 1,1 0,-3A3,3 0 0,1 3,0Z\" style=\"opacity: 1; stroke-width: 0px; fill: rgb(178, 24, 43); fill-opacity: 1;\"/><path class=\"point\" transform=\"translate(616.7,183.5)\" d=\"M3,0A3,3 0 1,1 0,-3A3,3 0 0,1 3,0Z\" style=\"opacity: 1; stroke-width: 0px; fill: rgb(178, 24, 43); fill-opacity: 1;\"/><path class=\"point\" transform=\"translate(617.08,183.5)\" d=\"M3,0A3,3 0 1,1 0,-3A3,3 0 0,1 3,0Z\" style=\"opacity: 1; stroke-width: 0px; fill: rgb(178, 24, 43); fill-opacity: 1;\"/><path class=\"point\" transform=\"translate(617.13,183.5)\" d=\"M3,0A3,3 0 1,1 0,-3A3,3 0 0,1 3,0Z\" style=\"opacity: 1; stroke-width: 0px; fill: rgb(178, 24, 43); fill-opacity: 1;\"/><path class=\"point\" transform=\"translate(617.28,183.5)\" d=\"M3,0A3,3 0 1,1 0,-3A3,3 0 0,1 3,0Z\" style=\"opacity: 1; stroke-width: 0px; fill: rgb(178, 24, 43); fill-opacity: 1;\"/><path class=\"point\" transform=\"translate(617.87,183.5)\" d=\"M3,0A3,3 0 1,1 0,-3A3,3 0 0,1 3,0Z\" style=\"opacity: 1; stroke-width: 0px; fill: rgb(178, 24, 43); fill-opacity: 1;\"/><path class=\"point\" transform=\"translate(618.21,183.5)\" d=\"M3,0A3,3 0 1,1 0,-3A3,3 0 0,1 3,0Z\" style=\"opacity: 1; stroke-width: 0px; fill: rgb(178, 24, 43); fill-opacity: 1;\"/><path class=\"point\" transform=\"translate(618.75,183.5)\" d=\"M3,0A3,3 0 1,1 0,-3A3,3 0 0,1 3,0Z\" style=\"opacity: 1; stroke-width: 0px; fill: rgb(178, 24, 43); fill-opacity: 1;\"/><path class=\"point\" transform=\"translate(619.06,183.5)\" d=\"M3,0A3,3 0 1,1 0,-3A3,3 0 0,1 3,0Z\" style=\"opacity: 1; stroke-width: 0px; fill: rgb(178, 24, 43); fill-opacity: 1;\"/><path class=\"point\" transform=\"translate(620.44,183.5)\" d=\"M3,0A3,3 0 1,1 0,-3A3,3 0 0,1 3,0Z\" style=\"opacity: 1; stroke-width: 0px; fill: rgb(178, 24, 43); fill-opacity: 1;\"/><path class=\"point\" transform=\"translate(620.47,183.5)\" d=\"M3,0A3,3 0 1,1 0,-3A3,3 0 0,1 3,0Z\" style=\"opacity: 1; stroke-width: 0px; fill: rgb(178, 24, 43); fill-opacity: 1;\"/><path class=\"point\" transform=\"translate(620.52,183.5)\" d=\"M3,0A3,3 0 1,1 0,-3A3,3 0 0,1 3,0Z\" style=\"opacity: 1; stroke-width: 0px; fill: rgb(178, 24, 43); fill-opacity: 1;\"/><path class=\"point\" transform=\"translate(620.69,183.5)\" d=\"M3,0A3,3 0 1,1 0,-3A3,3 0 0,1 3,0Z\" style=\"opacity: 1; stroke-width: 0px; fill: rgb(178, 24, 43); fill-opacity: 1;\"/><path class=\"point\" transform=\"translate(620.79,183.5)\" d=\"M3,0A3,3 0 1,1 0,-3A3,3 0 0,1 3,0Z\" style=\"opacity: 1; stroke-width: 0px; fill: rgb(178, 24, 43); fill-opacity: 1;\"/><path class=\"point\" transform=\"translate(621.19,183.5)\" d=\"M3,0A3,3 0 1,1 0,-3A3,3 0 0,1 3,0Z\" style=\"opacity: 1; stroke-width: 0px; fill: rgb(178, 24, 43); fill-opacity: 1;\"/><path class=\"point\" transform=\"translate(621.9,183.5)\" d=\"M3,0A3,3 0 1,1 0,-3A3,3 0 0,1 3,0Z\" style=\"opacity: 1; stroke-width: 0px; fill: rgb(178, 24, 43); fill-opacity: 1;\"/><path class=\"point\" transform=\"translate(622.36,183.5)\" d=\"M3,0A3,3 0 1,1 0,-3A3,3 0 0,1 3,0Z\" style=\"opacity: 1; stroke-width: 0px; fill: rgb(178, 24, 43); fill-opacity: 1;\"/><path class=\"point\" transform=\"translate(622.62,183.5)\" d=\"M3,0A3,3 0 1,1 0,-3A3,3 0 0,1 3,0Z\" style=\"opacity: 1; stroke-width: 0px; fill: rgb(178, 24, 43); fill-opacity: 1;\"/><path class=\"point\" transform=\"translate(622.66,183.5)\" d=\"M3,0A3,3 0 1,1 0,-3A3,3 0 0,1 3,0Z\" style=\"opacity: 1; stroke-width: 0px; fill: rgb(178, 24, 43); fill-opacity: 1;\"/><path class=\"point\" transform=\"translate(623.42,183.5)\" d=\"M3,0A3,3 0 1,1 0,-3A3,3 0 0,1 3,0Z\" style=\"opacity: 1; stroke-width: 0px; fill: rgb(178, 24, 43); fill-opacity: 1;\"/><path class=\"point\" transform=\"translate(623.63,183.5)\" d=\"M3,0A3,3 0 1,1 0,-3A3,3 0 0,1 3,0Z\" style=\"opacity: 1; stroke-width: 0px; fill: rgb(178, 24, 43); fill-opacity: 1;\"/><path class=\"point\" transform=\"translate(624.52,183.5)\" d=\"M3,0A3,3 0 1,1 0,-3A3,3 0 0,1 3,0Z\" style=\"opacity: 1; stroke-width: 0px; fill: rgb(178, 24, 43); fill-opacity: 1;\"/><path class=\"point\" transform=\"translate(624.54,183.5)\" d=\"M3,0A3,3 0 1,1 0,-3A3,3 0 0,1 3,0Z\" style=\"opacity: 1; stroke-width: 0px; fill: rgb(178, 24, 43); fill-opacity: 1;\"/><path class=\"point\" transform=\"translate(624.56,183.5)\" d=\"M3,0A3,3 0 1,1 0,-3A3,3 0 0,1 3,0Z\" style=\"opacity: 1; stroke-width: 0px; fill: rgb(178, 24, 43); fill-opacity: 1;\"/><path class=\"point\" transform=\"translate(624.88,183.5)\" d=\"M3,0A3,3 0 1,1 0,-3A3,3 0 0,1 3,0Z\" style=\"opacity: 1; stroke-width: 0px; fill: rgb(178, 24, 43); fill-opacity: 1;\"/><path class=\"point\" transform=\"translate(624.88,183.5)\" d=\"M3,0A3,3 0 1,1 0,-3A3,3 0 0,1 3,0Z\" style=\"opacity: 1; stroke-width: 0px; fill: rgb(178, 24, 43); fill-opacity: 1;\"/><path class=\"point\" transform=\"translate(626.23,183.5)\" d=\"M3,0A3,3 0 1,1 0,-3A3,3 0 0,1 3,0Z\" style=\"opacity: 1; stroke-width: 0px; fill: rgb(178, 24, 43); fill-opacity: 1;\"/><path class=\"point\" transform=\"translate(626.28,183.5)\" d=\"M3,0A3,3 0 1,1 0,-3A3,3 0 0,1 3,0Z\" style=\"opacity: 1; stroke-width: 0px; fill: rgb(178, 24, 43); fill-opacity: 1;\"/><path class=\"point\" transform=\"translate(626.71,183.5)\" d=\"M3,0A3,3 0 1,1 0,-3A3,3 0 0,1 3,0Z\" style=\"opacity: 1; stroke-width: 0px; fill: rgb(178, 24, 43); fill-opacity: 1;\"/><path class=\"point\" transform=\"translate(626.84,183.5)\" d=\"M3,0A3,3 0 1,1 0,-3A3,3 0 0,1 3,0Z\" style=\"opacity: 1; stroke-width: 0px; fill: rgb(178, 24, 43); fill-opacity: 1;\"/><path class=\"point\" transform=\"translate(627.65,183.5)\" d=\"M3,0A3,3 0 1,1 0,-3A3,3 0 0,1 3,0Z\" style=\"opacity: 1; stroke-width: 0px; fill: rgb(178, 24, 43); fill-opacity: 1;\"/><path class=\"point\" transform=\"translate(627.76,183.5)\" d=\"M3,0A3,3 0 1,1 0,-3A3,3 0 0,1 3,0Z\" style=\"opacity: 1; stroke-width: 0px; fill: rgb(178, 24, 43); fill-opacity: 1;\"/><path class=\"point\" transform=\"translate(627.96,183.5)\" d=\"M3,0A3,3 0 1,1 0,-3A3,3 0 0,1 3,0Z\" style=\"opacity: 1; stroke-width: 0px; fill: rgb(178, 24, 43); fill-opacity: 1;\"/><path class=\"point\" transform=\"translate(628.24,183.5)\" d=\"M3,0A3,3 0 1,1 0,-3A3,3 0 0,1 3,0Z\" style=\"opacity: 1; stroke-width: 0px; fill: rgb(178, 24, 43); fill-opacity: 1;\"/><path class=\"point\" transform=\"translate(628.71,183.5)\" d=\"M3,0A3,3 0 1,1 0,-3A3,3 0 0,1 3,0Z\" style=\"opacity: 1; stroke-width: 0px; fill: rgb(178, 24, 43); fill-opacity: 1;\"/><path class=\"point\" transform=\"translate(628.83,183.5)\" d=\"M3,0A3,3 0 1,1 0,-3A3,3 0 0,1 3,0Z\" style=\"opacity: 1; stroke-width: 0px; fill: rgb(178, 24, 43); fill-opacity: 1;\"/><path class=\"point\" transform=\"translate(629.57,183.5)\" d=\"M3,0A3,3 0 1,1 0,-3A3,3 0 0,1 3,0Z\" style=\"opacity: 1; stroke-width: 0px; fill: rgb(178, 24, 43); fill-opacity: 1;\"/><path class=\"point\" transform=\"translate(630.03,183.5)\" d=\"M3,0A3,3 0 1,1 0,-3A3,3 0 0,1 3,0Z\" style=\"opacity: 1; stroke-width: 0px; fill: rgb(178, 24, 43); fill-opacity: 1;\"/><path class=\"point\" transform=\"translate(630.09,183.5)\" d=\"M3,0A3,3 0 1,1 0,-3A3,3 0 0,1 3,0Z\" style=\"opacity: 1; stroke-width: 0px; fill: rgb(178, 24, 43); fill-opacity: 1;\"/><path class=\"point\" transform=\"translate(630.09,183.5)\" d=\"M3,0A3,3 0 1,1 0,-3A3,3 0 0,1 3,0Z\" style=\"opacity: 1; stroke-width: 0px; fill: rgb(178, 24, 43); fill-opacity: 1;\"/><path class=\"point\" transform=\"translate(630.18,183.5)\" d=\"M3,0A3,3 0 1,1 0,-3A3,3 0 0,1 3,0Z\" style=\"opacity: 1; stroke-width: 0px; fill: rgb(178, 24, 43); fill-opacity: 1;\"/><path class=\"point\" transform=\"translate(630.66,183.5)\" d=\"M3,0A3,3 0 1,1 0,-3A3,3 0 0,1 3,0Z\" style=\"opacity: 1; stroke-width: 0px; fill: rgb(178, 24, 43); fill-opacity: 1;\"/><path class=\"point\" transform=\"translate(630.74,183.5)\" d=\"M3,0A3,3 0 1,1 0,-3A3,3 0 0,1 3,0Z\" style=\"opacity: 1; stroke-width: 0px; fill: rgb(178, 24, 43); fill-opacity: 1;\"/><path class=\"point\" transform=\"translate(631.4,183.5)\" d=\"M3,0A3,3 0 1,1 0,-3A3,3 0 0,1 3,0Z\" style=\"opacity: 1; stroke-width: 0px; fill: rgb(178, 24, 43); fill-opacity: 1;\"/><path class=\"point\" transform=\"translate(631.51,183.5)\" d=\"M3,0A3,3 0 1,1 0,-3A3,3 0 0,1 3,0Z\" style=\"opacity: 1; stroke-width: 0px; fill: rgb(178, 24, 43); fill-opacity: 1;\"/><path class=\"point\" transform=\"translate(632.06,183.5)\" d=\"M3,0A3,3 0 1,1 0,-3A3,3 0 0,1 3,0Z\" style=\"opacity: 1; stroke-width: 0px; fill: rgb(178, 24, 43); fill-opacity: 1;\"/><path class=\"point\" transform=\"translate(632.57,183.5)\" d=\"M3,0A3,3 0 1,1 0,-3A3,3 0 0,1 3,0Z\" style=\"opacity: 1; stroke-width: 0px; fill: rgb(178, 24, 43); fill-opacity: 1;\"/><path class=\"point\" transform=\"translate(632.59,183.5)\" d=\"M3,0A3,3 0 1,1 0,-3A3,3 0 0,1 3,0Z\" style=\"opacity: 1; stroke-width: 0px; fill: rgb(178, 24, 43); fill-opacity: 1;\"/><path class=\"point\" transform=\"translate(632.75,183.5)\" d=\"M3,0A3,3 0 1,1 0,-3A3,3 0 0,1 3,0Z\" style=\"opacity: 1; stroke-width: 0px; fill: rgb(178, 24, 43); fill-opacity: 1;\"/><path class=\"point\" transform=\"translate(633.57,183.5)\" d=\"M3,0A3,3 0 1,1 0,-3A3,3 0 0,1 3,0Z\" style=\"opacity: 1; stroke-width: 0px; fill: rgb(178, 24, 43); fill-opacity: 1;\"/><path class=\"point\" transform=\"translate(633.71,183.5)\" d=\"M3,0A3,3 0 1,1 0,-3A3,3 0 0,1 3,0Z\" style=\"opacity: 1; stroke-width: 0px; fill: rgb(178, 24, 43); fill-opacity: 1;\"/><path class=\"point\" transform=\"translate(634.3,183.5)\" d=\"M3,0A3,3 0 1,1 0,-3A3,3 0 0,1 3,0Z\" style=\"opacity: 1; stroke-width: 0px; fill: rgb(178, 24, 43); fill-opacity: 1;\"/><path class=\"point\" transform=\"translate(634.31,183.5)\" d=\"M3,0A3,3 0 1,1 0,-3A3,3 0 0,1 3,0Z\" style=\"opacity: 1; stroke-width: 0px; fill: rgb(178, 24, 43); fill-opacity: 1;\"/><path class=\"point\" transform=\"translate(635.09,183.5)\" d=\"M3,0A3,3 0 1,1 0,-3A3,3 0 0,1 3,0Z\" style=\"opacity: 1; stroke-width: 0px; fill: rgb(178, 24, 43); fill-opacity: 1;\"/><path class=\"point\" transform=\"translate(635.43,183.5)\" d=\"M3,0A3,3 0 1,1 0,-3A3,3 0 0,1 3,0Z\" style=\"opacity: 1; stroke-width: 0px; fill: rgb(178, 24, 43); fill-opacity: 1;\"/><path class=\"point\" transform=\"translate(635.45,183.5)\" d=\"M3,0A3,3 0 1,1 0,-3A3,3 0 0,1 3,0Z\" style=\"opacity: 1; stroke-width: 0px; fill: rgb(178, 24, 43); fill-opacity: 1;\"/><path class=\"point\" transform=\"translate(635.66,183.5)\" d=\"M3,0A3,3 0 1,1 0,-3A3,3 0 0,1 3,0Z\" style=\"opacity: 1; stroke-width: 0px; fill: rgb(178, 24, 43); fill-opacity: 1;\"/><path class=\"point\" transform=\"translate(635.83,183.5)\" d=\"M3,0A3,3 0 1,1 0,-3A3,3 0 0,1 3,0Z\" style=\"opacity: 1; stroke-width: 0px; fill: rgb(178, 24, 43); fill-opacity: 1;\"/><path class=\"point\" transform=\"translate(636.11,183.5)\" d=\"M3,0A3,3 0 1,1 0,-3A3,3 0 0,1 3,0Z\" style=\"opacity: 1; stroke-width: 0px; fill: rgb(178, 24, 43); fill-opacity: 1;\"/><path class=\"point\" transform=\"translate(637.35,183.5)\" d=\"M3,0A3,3 0 1,1 0,-3A3,3 0 0,1 3,0Z\" style=\"opacity: 1; stroke-width: 0px; fill: rgb(178, 24, 43); fill-opacity: 1;\"/><path class=\"point\" transform=\"translate(637.39,183.5)\" d=\"M3,0A3,3 0 1,1 0,-3A3,3 0 0,1 3,0Z\" style=\"opacity: 1; stroke-width: 0px; fill: rgb(178, 24, 43); fill-opacity: 1;\"/><path class=\"point\" transform=\"translate(638.31,183.5)\" d=\"M3,0A3,3 0 1,1 0,-3A3,3 0 0,1 3,0Z\" style=\"opacity: 1; stroke-width: 0px; fill: rgb(178, 24, 43); fill-opacity: 1;\"/><path class=\"point\" transform=\"translate(638.33,183.5)\" d=\"M3,0A3,3 0 1,1 0,-3A3,3 0 0,1 3,0Z\" style=\"opacity: 1; stroke-width: 0px; fill: rgb(178, 24, 43); fill-opacity: 1;\"/><path class=\"point\" transform=\"translate(639.22,183.5)\" d=\"M3,0A3,3 0 1,1 0,-3A3,3 0 0,1 3,0Z\" style=\"opacity: 1; stroke-width: 0px; fill: rgb(178, 24, 43); fill-opacity: 1;\"/><path class=\"point\" transform=\"translate(639.52,183.5)\" d=\"M3,0A3,3 0 1,1 0,-3A3,3 0 0,1 3,0Z\" style=\"opacity: 1; stroke-width: 0px; fill: rgb(178, 24, 43); fill-opacity: 1;\"/><path class=\"point\" transform=\"translate(640.24,183.5)\" d=\"M3,0A3,3 0 1,1 0,-3A3,3 0 0,1 3,0Z\" style=\"opacity: 1; stroke-width: 0px; fill: rgb(178, 24, 43); fill-opacity: 1;\"/><path class=\"point\" transform=\"translate(640.43,183.5)\" d=\"M3,0A3,3 0 1,1 0,-3A3,3 0 0,1 3,0Z\" style=\"opacity: 1; stroke-width: 0px; fill: rgb(178, 24, 43); fill-opacity: 1;\"/><path class=\"point\" transform=\"translate(640.84,183.5)\" d=\"M3,0A3,3 0 1,1 0,-3A3,3 0 0,1 3,0Z\" style=\"opacity: 1; stroke-width: 0px; fill: rgb(178, 24, 43); fill-opacity: 1;\"/><path class=\"point\" transform=\"translate(641.51,183.5)\" d=\"M3,0A3,3 0 1,1 0,-3A3,3 0 0,1 3,0Z\" style=\"opacity: 1; stroke-width: 0px; fill: rgb(178, 24, 43); fill-opacity: 1;\"/><path class=\"point\" transform=\"translate(641.65,183.5)\" d=\"M3,0A3,3 0 1,1 0,-3A3,3 0 0,1 3,0Z\" style=\"opacity: 1; stroke-width: 0px; fill: rgb(178, 24, 43); fill-opacity: 1;\"/><path class=\"point\" transform=\"translate(642.86,183.5)\" d=\"M3,0A3,3 0 1,1 0,-3A3,3 0 0,1 3,0Z\" style=\"opacity: 1; stroke-width: 0px; fill: rgb(178, 24, 43); fill-opacity: 1;\"/><path class=\"point\" transform=\"translate(642.99,183.5)\" d=\"M3,0A3,3 0 1,1 0,-3A3,3 0 0,1 3,0Z\" style=\"opacity: 1; stroke-width: 0px; fill: rgb(178, 24, 43); fill-opacity: 1;\"/><path class=\"point\" transform=\"translate(643.38,183.5)\" d=\"M3,0A3,3 0 1,1 0,-3A3,3 0 0,1 3,0Z\" style=\"opacity: 1; stroke-width: 0px; fill: rgb(178, 24, 43); fill-opacity: 1;\"/><path class=\"point\" transform=\"translate(643.64,183.5)\" d=\"M3,0A3,3 0 1,1 0,-3A3,3 0 0,1 3,0Z\" style=\"opacity: 1; stroke-width: 0px; fill: rgb(178, 24, 43); fill-opacity: 1;\"/><path class=\"point\" transform=\"translate(643.82,183.5)\" d=\"M3,0A3,3 0 1,1 0,-3A3,3 0 0,1 3,0Z\" style=\"opacity: 1; stroke-width: 0px; fill: rgb(178, 24, 43); fill-opacity: 1;\"/><path class=\"point\" transform=\"translate(643.9,183.5)\" d=\"M3,0A3,3 0 1,1 0,-3A3,3 0 0,1 3,0Z\" style=\"opacity: 1; stroke-width: 0px; fill: rgb(178, 24, 43); fill-opacity: 1;\"/><path class=\"point\" transform=\"translate(645.16,183.5)\" d=\"M3,0A3,3 0 1,1 0,-3A3,3 0 0,1 3,0Z\" style=\"opacity: 1; stroke-width: 0px; fill: rgb(178, 24, 43); fill-opacity: 1;\"/><path class=\"point\" transform=\"translate(646.4,183.5)\" d=\"M3,0A3,3 0 1,1 0,-3A3,3 0 0,1 3,0Z\" style=\"opacity: 1; stroke-width: 0px; fill: rgb(178, 24, 43); fill-opacity: 1;\"/><path class=\"point\" transform=\"translate(646.52,183.5)\" d=\"M3,0A3,3 0 1,1 0,-3A3,3 0 0,1 3,0Z\" style=\"opacity: 1; stroke-width: 0px; fill: rgb(178, 24, 43); fill-opacity: 1;\"/><path class=\"point\" transform=\"translate(646.74,183.5)\" d=\"M3,0A3,3 0 1,1 0,-3A3,3 0 0,1 3,0Z\" style=\"opacity: 1; stroke-width: 0px; fill: rgb(178, 24, 43); fill-opacity: 1;\"/><path class=\"point\" transform=\"translate(647.21,183.5)\" d=\"M3,0A3,3 0 1,1 0,-3A3,3 0 0,1 3,0Z\" style=\"opacity: 1; stroke-width: 0px; fill: rgb(178, 24, 43); fill-opacity: 1;\"/><path class=\"point\" transform=\"translate(647.67,183.5)\" d=\"M3,0A3,3 0 1,1 0,-3A3,3 0 0,1 3,0Z\" style=\"opacity: 1; stroke-width: 0px; fill: rgb(178, 24, 43); fill-opacity: 1;\"/><path class=\"point\" transform=\"translate(648.06,183.5)\" d=\"M3,0A3,3 0 1,1 0,-3A3,3 0 0,1 3,0Z\" style=\"opacity: 1; stroke-width: 0px; fill: rgb(178, 24, 43); fill-opacity: 1;\"/><path class=\"point\" transform=\"translate(648.19,183.5)\" d=\"M3,0A3,3 0 1,1 0,-3A3,3 0 0,1 3,0Z\" style=\"opacity: 1; stroke-width: 0px; fill: rgb(178, 24, 43); fill-opacity: 1;\"/><path class=\"point\" transform=\"translate(648.45,183.5)\" d=\"M3,0A3,3 0 1,1 0,-3A3,3 0 0,1 3,0Z\" style=\"opacity: 1; stroke-width: 0px; fill: rgb(178, 24, 43); fill-opacity: 1;\"/><path class=\"point\" transform=\"translate(648.79,183.5)\" d=\"M3,0A3,3 0 1,1 0,-3A3,3 0 0,1 3,0Z\" style=\"opacity: 1; stroke-width: 0px; fill: rgb(178, 24, 43); fill-opacity: 1;\"/><path class=\"point\" transform=\"translate(648.97,183.5)\" d=\"M3,0A3,3 0 1,1 0,-3A3,3 0 0,1 3,0Z\" style=\"opacity: 1; stroke-width: 0px; fill: rgb(178, 24, 43); fill-opacity: 1;\"/><path class=\"point\" transform=\"translate(649.12,183.5)\" d=\"M3,0A3,3 0 1,1 0,-3A3,3 0 0,1 3,0Z\" style=\"opacity: 1; stroke-width: 0px; fill: rgb(178, 24, 43); fill-opacity: 1;\"/><path class=\"point\" transform=\"translate(649.27,183.5)\" d=\"M3,0A3,3 0 1,1 0,-3A3,3 0 0,1 3,0Z\" style=\"opacity: 1; stroke-width: 0px; fill: rgb(178, 24, 43); fill-opacity: 1;\"/><path class=\"point\" transform=\"translate(649.96,183.5)\" d=\"M3,0A3,3 0 1,1 0,-3A3,3 0 0,1 3,0Z\" style=\"opacity: 1; stroke-width: 0px; fill: rgb(178, 24, 43); fill-opacity: 1;\"/><path class=\"point\" transform=\"translate(651.93,183.5)\" d=\"M3,0A3,3 0 1,1 0,-3A3,3 0 0,1 3,0Z\" style=\"opacity: 1; stroke-width: 0px; fill: rgb(178, 24, 43); fill-opacity: 1;\"/><path class=\"point\" transform=\"translate(652.48,183.5)\" d=\"M3,0A3,3 0 1,1 0,-3A3,3 0 0,1 3,0Z\" style=\"opacity: 1; stroke-width: 0px; fill: rgb(178, 24, 43); fill-opacity: 1;\"/><path class=\"point\" transform=\"translate(652.95,183.5)\" d=\"M3,0A3,3 0 1,1 0,-3A3,3 0 0,1 3,0Z\" style=\"opacity: 1; stroke-width: 0px; fill: rgb(178, 24, 43); fill-opacity: 1;\"/><path class=\"point\" transform=\"translate(653,183.5)\" d=\"M3,0A3,3 0 1,1 0,-3A3,3 0 0,1 3,0Z\" style=\"opacity: 1; stroke-width: 0px; fill: rgb(178, 24, 43); fill-opacity: 1;\"/><path class=\"point\" transform=\"translate(653.69,183.5)\" d=\"M3,0A3,3 0 1,1 0,-3A3,3 0 0,1 3,0Z\" style=\"opacity: 1; stroke-width: 0px; fill: rgb(178, 24, 43); fill-opacity: 1;\"/><path class=\"point\" transform=\"translate(654.49,183.5)\" d=\"M3,0A3,3 0 1,1 0,-3A3,3 0 0,1 3,0Z\" style=\"opacity: 1; stroke-width: 0px; fill: rgb(178, 24, 43); fill-opacity: 1;\"/><path class=\"point\" transform=\"translate(654.51,183.5)\" d=\"M3,0A3,3 0 1,1 0,-3A3,3 0 0,1 3,0Z\" style=\"opacity: 1; stroke-width: 0px; fill: rgb(178, 24, 43); fill-opacity: 1;\"/><path class=\"point\" transform=\"translate(654.54,183.5)\" d=\"M3,0A3,3 0 1,1 0,-3A3,3 0 0,1 3,0Z\" style=\"opacity: 1; stroke-width: 0px; fill: rgb(178, 24, 43); fill-opacity: 1;\"/><path class=\"point\" transform=\"translate(654.57,183.5)\" d=\"M3,0A3,3 0 1,1 0,-3A3,3 0 0,1 3,0Z\" style=\"opacity: 1; stroke-width: 0px; fill: rgb(178, 24, 43); fill-opacity: 1;\"/><path class=\"point\" transform=\"translate(654.85,183.5)\" d=\"M3,0A3,3 0 1,1 0,-3A3,3 0 0,1 3,0Z\" style=\"opacity: 1; stroke-width: 0px; fill: rgb(178, 24, 43); fill-opacity: 1;\"/><path class=\"point\" transform=\"translate(654.95,183.5)\" d=\"M3,0A3,3 0 1,1 0,-3A3,3 0 0,1 3,0Z\" style=\"opacity: 1; stroke-width: 0px; fill: rgb(178, 24, 43); fill-opacity: 1;\"/><path class=\"point\" transform=\"translate(655.17,183.5)\" d=\"M3,0A3,3 0 1,1 0,-3A3,3 0 0,1 3,0Z\" style=\"opacity: 1; stroke-width: 0px; fill: rgb(178, 24, 43); fill-opacity: 1;\"/><path class=\"point\" transform=\"translate(655.33,183.5)\" d=\"M3,0A3,3 0 1,1 0,-3A3,3 0 0,1 3,0Z\" style=\"opacity: 1; stroke-width: 0px; fill: rgb(178, 24, 43); fill-opacity: 1;\"/><path class=\"point\" transform=\"translate(656.44,183.5)\" d=\"M3,0A3,3 0 1,1 0,-3A3,3 0 0,1 3,0Z\" style=\"opacity: 1; stroke-width: 0px; fill: rgb(178, 24, 43); fill-opacity: 1;\"/><path class=\"point\" transform=\"translate(656.92,183.5)\" d=\"M3,0A3,3 0 1,1 0,-3A3,3 0 0,1 3,0Z\" style=\"opacity: 1; stroke-width: 0px; fill: rgb(178, 24, 43); fill-opacity: 1;\"/><path class=\"point\" transform=\"translate(657.01,183.5)\" d=\"M3,0A3,3 0 1,1 0,-3A3,3 0 0,1 3,0Z\" style=\"opacity: 1; stroke-width: 0px; fill: rgb(178, 24, 43); fill-opacity: 1;\"/><path class=\"point\" transform=\"translate(657.05,183.5)\" d=\"M3,0A3,3 0 1,1 0,-3A3,3 0 0,1 3,0Z\" style=\"opacity: 1; stroke-width: 0px; fill: rgb(178, 24, 43); fill-opacity: 1;\"/><path class=\"point\" transform=\"translate(657.39,183.5)\" d=\"M3,0A3,3 0 1,1 0,-3A3,3 0 0,1 3,0Z\" style=\"opacity: 1; stroke-width: 0px; fill: rgb(178, 24, 43); fill-opacity: 1;\"/><path class=\"point\" transform=\"translate(657.42,183.5)\" d=\"M3,0A3,3 0 1,1 0,-3A3,3 0 0,1 3,0Z\" style=\"opacity: 1; stroke-width: 0px; fill: rgb(178, 24, 43); fill-opacity: 1;\"/><path class=\"point\" transform=\"translate(657.83,183.5)\" d=\"M3,0A3,3 0 1,1 0,-3A3,3 0 0,1 3,0Z\" style=\"opacity: 1; stroke-width: 0px; fill: rgb(178, 24, 43); fill-opacity: 1;\"/><path class=\"point\" transform=\"translate(658.08,183.5)\" d=\"M3,0A3,3 0 1,1 0,-3A3,3 0 0,1 3,0Z\" style=\"opacity: 1; stroke-width: 0px; fill: rgb(178, 24, 43); fill-opacity: 1;\"/><path class=\"point\" transform=\"translate(658.64,183.5)\" d=\"M3,0A3,3 0 1,1 0,-3A3,3 0 0,1 3,0Z\" style=\"opacity: 1; stroke-width: 0px; fill: rgb(178, 24, 43); fill-opacity: 1;\"/><path class=\"point\" transform=\"translate(658.9,183.5)\" d=\"M3,0A3,3 0 1,1 0,-3A3,3 0 0,1 3,0Z\" style=\"opacity: 1; stroke-width: 0px; fill: rgb(178, 24, 43); fill-opacity: 1;\"/><path class=\"point\" transform=\"translate(659.02,183.5)\" d=\"M3,0A3,3 0 1,1 0,-3A3,3 0 0,1 3,0Z\" style=\"opacity: 1; stroke-width: 0px; fill: rgb(178, 24, 43); fill-opacity: 1;\"/><path class=\"point\" transform=\"translate(659.2,183.5)\" d=\"M3,0A3,3 0 1,1 0,-3A3,3 0 0,1 3,0Z\" style=\"opacity: 1; stroke-width: 0px; fill: rgb(178, 24, 43); fill-opacity: 1;\"/><path class=\"point\" transform=\"translate(659.26,183.5)\" d=\"M3,0A3,3 0 1,1 0,-3A3,3 0 0,1 3,0Z\" style=\"opacity: 1; stroke-width: 0px; fill: rgb(178, 24, 43); fill-opacity: 1;\"/><path class=\"point\" transform=\"translate(659.29,183.5)\" d=\"M3,0A3,3 0 1,1 0,-3A3,3 0 0,1 3,0Z\" style=\"opacity: 1; stroke-width: 0px; fill: rgb(178, 24, 43); fill-opacity: 1;\"/><path class=\"point\" transform=\"translate(659.62,183.5)\" d=\"M3,0A3,3 0 1,1 0,-3A3,3 0 0,1 3,0Z\" style=\"opacity: 1; stroke-width: 0px; fill: rgb(178, 24, 43); fill-opacity: 1;\"/><path class=\"point\" transform=\"translate(659.89,183.5)\" d=\"M3,0A3,3 0 1,1 0,-3A3,3 0 0,1 3,0Z\" style=\"opacity: 1; stroke-width: 0px; fill: rgb(178, 24, 43); fill-opacity: 1;\"/><path class=\"point\" transform=\"translate(660.82,183.5)\" d=\"M3,0A3,3 0 1,1 0,-3A3,3 0 0,1 3,0Z\" style=\"opacity: 1; stroke-width: 0px; fill: rgb(178, 24, 43); fill-opacity: 1;\"/><path class=\"point\" transform=\"translate(660.89,183.5)\" d=\"M3,0A3,3 0 1,1 0,-3A3,3 0 0,1 3,0Z\" style=\"opacity: 1; stroke-width: 0px; fill: rgb(178, 24, 43); fill-opacity: 1;\"/><path class=\"point\" transform=\"translate(661.49,183.5)\" d=\"M3,0A3,3 0 1,1 0,-3A3,3 0 0,1 3,0Z\" style=\"opacity: 1; stroke-width: 0px; fill: rgb(178, 24, 43); fill-opacity: 1;\"/><path class=\"point\" transform=\"translate(661.74,183.5)\" d=\"M3,0A3,3 0 1,1 0,-3A3,3 0 0,1 3,0Z\" style=\"opacity: 1; stroke-width: 0px; fill: rgb(178, 24, 43); fill-opacity: 1;\"/><path class=\"point\" transform=\"translate(662.17,183.5)\" d=\"M3,0A3,3 0 1,1 0,-3A3,3 0 0,1 3,0Z\" style=\"opacity: 1; stroke-width: 0px; fill: rgb(178, 24, 43); fill-opacity: 1;\"/><path class=\"point\" transform=\"translate(662.46,183.5)\" d=\"M3,0A3,3 0 1,1 0,-3A3,3 0 0,1 3,0Z\" style=\"opacity: 1; stroke-width: 0px; fill: rgb(178, 24, 43); fill-opacity: 1;\"/><path class=\"point\" transform=\"translate(662.84,183.5)\" d=\"M3,0A3,3 0 1,1 0,-3A3,3 0 0,1 3,0Z\" style=\"opacity: 1; stroke-width: 0px; fill: rgb(178, 24, 43); fill-opacity: 1;\"/><path class=\"point\" transform=\"translate(663.04,183.5)\" d=\"M3,0A3,3 0 1,1 0,-3A3,3 0 0,1 3,0Z\" style=\"opacity: 1; stroke-width: 0px; fill: rgb(178, 24, 43); fill-opacity: 1;\"/><path class=\"point\" transform=\"translate(664.77,183.5)\" d=\"M3,0A3,3 0 1,1 0,-3A3,3 0 0,1 3,0Z\" style=\"opacity: 1; stroke-width: 0px; fill: rgb(178, 24, 43); fill-opacity: 1;\"/><path class=\"point\" transform=\"translate(664.77,183.5)\" d=\"M3,0A3,3 0 1,1 0,-3A3,3 0 0,1 3,0Z\" style=\"opacity: 1; stroke-width: 0px; fill: rgb(178, 24, 43); fill-opacity: 1;\"/><path class=\"point\" transform=\"translate(664.97,183.5)\" d=\"M3,0A3,3 0 1,1 0,-3A3,3 0 0,1 3,0Z\" style=\"opacity: 1; stroke-width: 0px; fill: rgb(178, 24, 43); fill-opacity: 1;\"/><path class=\"point\" transform=\"translate(665.46,183.5)\" d=\"M3,0A3,3 0 1,1 0,-3A3,3 0 0,1 3,0Z\" style=\"opacity: 1; stroke-width: 0px; fill: rgb(178, 24, 43); fill-opacity: 1;\"/><path class=\"point\" transform=\"translate(666.1,183.5)\" d=\"M3,0A3,3 0 1,1 0,-3A3,3 0 0,1 3,0Z\" style=\"opacity: 1; stroke-width: 0px; fill: rgb(178, 24, 43); fill-opacity: 1;\"/><path class=\"point\" transform=\"translate(666.5,183.5)\" d=\"M3,0A3,3 0 1,1 0,-3A3,3 0 0,1 3,0Z\" style=\"opacity: 1; stroke-width: 0px; fill: rgb(178, 24, 43); fill-opacity: 1;\"/><path class=\"point\" transform=\"translate(666.51,183.5)\" d=\"M3,0A3,3 0 1,1 0,-3A3,3 0 0,1 3,0Z\" style=\"opacity: 1; stroke-width: 0px; fill: rgb(178, 24, 43); fill-opacity: 1;\"/><path class=\"point\" transform=\"translate(667.23,183.5)\" d=\"M3,0A3,3 0 1,1 0,-3A3,3 0 0,1 3,0Z\" style=\"opacity: 1; stroke-width: 0px; fill: rgb(178, 24, 43); fill-opacity: 1;\"/><path class=\"point\" transform=\"translate(667.67,183.5)\" d=\"M3,0A3,3 0 1,1 0,-3A3,3 0 0,1 3,0Z\" style=\"opacity: 1; stroke-width: 0px; fill: rgb(178, 24, 43); fill-opacity: 1;\"/><path class=\"point\" transform=\"translate(668.06,183.5)\" d=\"M3,0A3,3 0 1,1 0,-3A3,3 0 0,1 3,0Z\" style=\"opacity: 1; stroke-width: 0px; fill: rgb(178, 24, 43); fill-opacity: 1;\"/><path class=\"point\" transform=\"translate(668.63,183.5)\" d=\"M3,0A3,3 0 1,1 0,-3A3,3 0 0,1 3,0Z\" style=\"opacity: 1; stroke-width: 0px; fill: rgb(178, 24, 43); fill-opacity: 1;\"/><path class=\"point\" transform=\"translate(668.68,183.5)\" d=\"M3,0A3,3 0 1,1 0,-3A3,3 0 0,1 3,0Z\" style=\"opacity: 1; stroke-width: 0px; fill: rgb(178, 24, 43); fill-opacity: 1;\"/><path class=\"point\" transform=\"translate(669.1,183.5)\" d=\"M3,0A3,3 0 1,1 0,-3A3,3 0 0,1 3,0Z\" style=\"opacity: 1; stroke-width: 0px; fill: rgb(178, 24, 43); fill-opacity: 1;\"/><path class=\"point\" transform=\"translate(669.61,183.5)\" d=\"M3,0A3,3 0 1,1 0,-3A3,3 0 0,1 3,0Z\" style=\"opacity: 1; stroke-width: 0px; fill: rgb(178, 24, 43); fill-opacity: 1;\"/><path class=\"point\" transform=\"translate(670.21,183.5)\" d=\"M3,0A3,3 0 1,1 0,-3A3,3 0 0,1 3,0Z\" style=\"opacity: 1; stroke-width: 0px; fill: rgb(178, 24, 43); fill-opacity: 1;\"/><path class=\"point\" transform=\"translate(670.36,183.5)\" d=\"M3,0A3,3 0 1,1 0,-3A3,3 0 0,1 3,0Z\" style=\"opacity: 1; stroke-width: 0px; fill: rgb(178, 24, 43); fill-opacity: 1;\"/><path class=\"point\" transform=\"translate(670.83,183.5)\" d=\"M3,0A3,3 0 1,1 0,-3A3,3 0 0,1 3,0Z\" style=\"opacity: 1; stroke-width: 0px; fill: rgb(178, 24, 43); fill-opacity: 1;\"/><path class=\"point\" transform=\"translate(671.2,183.5)\" d=\"M3,0A3,3 0 1,1 0,-3A3,3 0 0,1 3,0Z\" style=\"opacity: 1; stroke-width: 0px; fill: rgb(178, 24, 43); fill-opacity: 1;\"/><path class=\"point\" transform=\"translate(671.4,183.5)\" d=\"M3,0A3,3 0 1,1 0,-3A3,3 0 0,1 3,0Z\" style=\"opacity: 1; stroke-width: 0px; fill: rgb(178, 24, 43); fill-opacity: 1;\"/><path class=\"point\" transform=\"translate(671.49,183.5)\" d=\"M3,0A3,3 0 1,1 0,-3A3,3 0 0,1 3,0Z\" style=\"opacity: 1; stroke-width: 0px; fill: rgb(178, 24, 43); fill-opacity: 1;\"/><path class=\"point\" transform=\"translate(672.12,183.5)\" d=\"M3,0A3,3 0 1,1 0,-3A3,3 0 0,1 3,0Z\" style=\"opacity: 1; stroke-width: 0px; fill: rgb(178, 24, 43); fill-opacity: 1;\"/><path class=\"point\" transform=\"translate(672.87,183.5)\" d=\"M3,0A3,3 0 1,1 0,-3A3,3 0 0,1 3,0Z\" style=\"opacity: 1; stroke-width: 0px; fill: rgb(178, 24, 43); fill-opacity: 1;\"/><path class=\"point\" transform=\"translate(672.94,183.5)\" d=\"M3,0A3,3 0 1,1 0,-3A3,3 0 0,1 3,0Z\" style=\"opacity: 1; stroke-width: 0px; fill: rgb(178, 24, 43); fill-opacity: 1;\"/><path class=\"point\" transform=\"translate(673.93,183.5)\" d=\"M3,0A3,3 0 1,1 0,-3A3,3 0 0,1 3,0Z\" style=\"opacity: 1; stroke-width: 0px; fill: rgb(178, 24, 43); fill-opacity: 1;\"/><path class=\"point\" transform=\"translate(674.26,183.5)\" d=\"M3,0A3,3 0 1,1 0,-3A3,3 0 0,1 3,0Z\" style=\"opacity: 1; stroke-width: 0px; fill: rgb(178, 24, 43); fill-opacity: 1;\"/><path class=\"point\" transform=\"translate(675.47,183.5)\" d=\"M3,0A3,3 0 1,1 0,-3A3,3 0 0,1 3,0Z\" style=\"opacity: 1; stroke-width: 0px; fill: rgb(178, 24, 43); fill-opacity: 1;\"/><path class=\"point\" transform=\"translate(675.77,183.5)\" d=\"M3,0A3,3 0 1,1 0,-3A3,3 0 0,1 3,0Z\" style=\"opacity: 1; stroke-width: 0px; fill: rgb(178, 24, 43); fill-opacity: 1;\"/><path class=\"point\" transform=\"translate(675.84,183.5)\" d=\"M3,0A3,3 0 1,1 0,-3A3,3 0 0,1 3,0Z\" style=\"opacity: 1; stroke-width: 0px; fill: rgb(178, 24, 43); fill-opacity: 1;\"/><path class=\"point\" transform=\"translate(676.15,183.5)\" d=\"M3,0A3,3 0 1,1 0,-3A3,3 0 0,1 3,0Z\" style=\"opacity: 1; stroke-width: 0px; fill: rgb(178, 24, 43); fill-opacity: 1;\"/><path class=\"point\" transform=\"translate(677.18,183.5)\" d=\"M3,0A3,3 0 1,1 0,-3A3,3 0 0,1 3,0Z\" style=\"opacity: 1; stroke-width: 0px; fill: rgb(178, 24, 43); fill-opacity: 1;\"/><path class=\"point\" transform=\"translate(677.33,183.5)\" d=\"M3,0A3,3 0 1,1 0,-3A3,3 0 0,1 3,0Z\" style=\"opacity: 1; stroke-width: 0px; fill: rgb(178, 24, 43); fill-opacity: 1;\"/><path class=\"point\" transform=\"translate(678.07,183.5)\" d=\"M3,0A3,3 0 1,1 0,-3A3,3 0 0,1 3,0Z\" style=\"opacity: 1; stroke-width: 0px; fill: rgb(178, 24, 43); fill-opacity: 1;\"/><path class=\"point\" transform=\"translate(678.39,183.5)\" d=\"M3,0A3,3 0 1,1 0,-3A3,3 0 0,1 3,0Z\" style=\"opacity: 1; stroke-width: 0px; fill: rgb(178, 24, 43); fill-opacity: 1;\"/><path class=\"point\" transform=\"translate(679.14,183.5)\" d=\"M3,0A3,3 0 1,1 0,-3A3,3 0 0,1 3,0Z\" style=\"opacity: 1; stroke-width: 0px; fill: rgb(178, 24, 43); fill-opacity: 1;\"/><path class=\"point\" transform=\"translate(680.2,183.5)\" d=\"M3,0A3,3 0 1,1 0,-3A3,3 0 0,1 3,0Z\" style=\"opacity: 1; stroke-width: 0px; fill: rgb(178, 24, 43); fill-opacity: 1;\"/><path class=\"point\" transform=\"translate(680.43,183.5)\" d=\"M3,0A3,3 0 1,1 0,-3A3,3 0 0,1 3,0Z\" style=\"opacity: 1; stroke-width: 0px; fill: rgb(178, 24, 43); fill-opacity: 1;\"/><path class=\"point\" transform=\"translate(681.36,183.5)\" d=\"M3,0A3,3 0 1,1 0,-3A3,3 0 0,1 3,0Z\" style=\"opacity: 1; stroke-width: 0px; fill: rgb(178, 24, 43); fill-opacity: 1;\"/><path class=\"point\" transform=\"translate(681.95,183.5)\" d=\"M3,0A3,3 0 1,1 0,-3A3,3 0 0,1 3,0Z\" style=\"opacity: 1; stroke-width: 0px; fill: rgb(178, 24, 43); fill-opacity: 1;\"/><path class=\"point\" transform=\"translate(682.26,183.5)\" d=\"M3,0A3,3 0 1,1 0,-3A3,3 0 0,1 3,0Z\" style=\"opacity: 1; stroke-width: 0px; fill: rgb(178, 24, 43); fill-opacity: 1;\"/><path class=\"point\" transform=\"translate(682.59,183.5)\" d=\"M3,0A3,3 0 1,1 0,-3A3,3 0 0,1 3,0Z\" style=\"opacity: 1; stroke-width: 0px; fill: rgb(178, 24, 43); fill-opacity: 1;\"/><path class=\"point\" transform=\"translate(684.26,183.5)\" d=\"M3,0A3,3 0 1,1 0,-3A3,3 0 0,1 3,0Z\" style=\"opacity: 1; stroke-width: 0px; fill: rgb(178, 24, 43); fill-opacity: 1;\"/><path class=\"point\" transform=\"translate(685.93,183.5)\" d=\"M3,0A3,3 0 1,1 0,-3A3,3 0 0,1 3,0Z\" style=\"opacity: 1; stroke-width: 0px; fill: rgb(178, 24, 43); fill-opacity: 1;\"/><path class=\"point\" transform=\"translate(686.12,183.5)\" d=\"M3,0A3,3 0 1,1 0,-3A3,3 0 0,1 3,0Z\" style=\"opacity: 1; stroke-width: 0px; fill: rgb(178, 24, 43); fill-opacity: 1;\"/><path class=\"point\" transform=\"translate(686.46,183.5)\" d=\"M3,0A3,3 0 1,1 0,-3A3,3 0 0,1 3,0Z\" style=\"opacity: 1; stroke-width: 0px; fill: rgb(178, 24, 43); fill-opacity: 1;\"/><path class=\"point\" transform=\"translate(687.19,183.5)\" d=\"M3,0A3,3 0 1,1 0,-3A3,3 0 0,1 3,0Z\" style=\"opacity: 1; stroke-width: 0px; fill: rgb(178, 24, 43); fill-opacity: 1;\"/><path class=\"point\" transform=\"translate(687.37,183.5)\" d=\"M3,0A3,3 0 1,1 0,-3A3,3 0 0,1 3,0Z\" style=\"opacity: 1; stroke-width: 0px; fill: rgb(178, 24, 43); fill-opacity: 1;\"/><path class=\"point\" transform=\"translate(687.47,183.5)\" d=\"M3,0A3,3 0 1,1 0,-3A3,3 0 0,1 3,0Z\" style=\"opacity: 1; stroke-width: 0px; fill: rgb(178, 24, 43); fill-opacity: 1;\"/><path class=\"point\" transform=\"translate(687.56,183.5)\" d=\"M3,0A3,3 0 1,1 0,-3A3,3 0 0,1 3,0Z\" style=\"opacity: 1; stroke-width: 0px; fill: rgb(178, 24, 43); fill-opacity: 1;\"/><path class=\"point\" transform=\"translate(687.87,183.5)\" d=\"M3,0A3,3 0 1,1 0,-3A3,3 0 0,1 3,0Z\" style=\"opacity: 1; stroke-width: 0px; fill: rgb(178, 24, 43); fill-opacity: 1;\"/><path class=\"point\" transform=\"translate(688.01,183.5)\" d=\"M3,0A3,3 0 1,1 0,-3A3,3 0 0,1 3,0Z\" style=\"opacity: 1; stroke-width: 0px; fill: rgb(178, 24, 43); fill-opacity: 1;\"/><path class=\"point\" transform=\"translate(688.69,183.5)\" d=\"M3,0A3,3 0 1,1 0,-3A3,3 0 0,1 3,0Z\" style=\"opacity: 1; stroke-width: 0px; fill: rgb(178, 24, 43); fill-opacity: 1;\"/><path class=\"point\" transform=\"translate(689.78,183.5)\" d=\"M3,0A3,3 0 1,1 0,-3A3,3 0 0,1 3,0Z\" style=\"opacity: 1; stroke-width: 0px; fill: rgb(178, 24, 43); fill-opacity: 1;\"/><path class=\"point\" transform=\"translate(689.98,183.5)\" d=\"M3,0A3,3 0 1,1 0,-3A3,3 0 0,1 3,0Z\" style=\"opacity: 1; stroke-width: 0px; fill: rgb(178, 24, 43); fill-opacity: 1;\"/><path class=\"point\" transform=\"translate(690.06,183.5)\" d=\"M3,0A3,3 0 1,1 0,-3A3,3 0 0,1 3,0Z\" style=\"opacity: 1; stroke-width: 0px; fill: rgb(178, 24, 43); fill-opacity: 1;\"/><path class=\"point\" transform=\"translate(690.13,183.5)\" d=\"M3,0A3,3 0 1,1 0,-3A3,3 0 0,1 3,0Z\" style=\"opacity: 1; stroke-width: 0px; fill: rgb(178, 24, 43); fill-opacity: 1;\"/><path class=\"point\" transform=\"translate(690.41,183.5)\" d=\"M3,0A3,3 0 1,1 0,-3A3,3 0 0,1 3,0Z\" style=\"opacity: 1; stroke-width: 0px; fill: rgb(178, 24, 43); fill-opacity: 1;\"/><path class=\"point\" transform=\"translate(691,183.5)\" d=\"M3,0A3,3 0 1,1 0,-3A3,3 0 0,1 3,0Z\" style=\"opacity: 1; stroke-width: 0px; fill: rgb(178, 24, 43); fill-opacity: 1;\"/><path class=\"point\" transform=\"translate(691.21,183.5)\" d=\"M3,0A3,3 0 1,1 0,-3A3,3 0 0,1 3,0Z\" style=\"opacity: 1; stroke-width: 0px; fill: rgb(178, 24, 43); fill-opacity: 1;\"/><path class=\"point\" transform=\"translate(691.21,183.5)\" d=\"M3,0A3,3 0 1,1 0,-3A3,3 0 0,1 3,0Z\" style=\"opacity: 1; stroke-width: 0px; fill: rgb(178, 24, 43); fill-opacity: 1;\"/><path class=\"point\" transform=\"translate(692.56,183.5)\" d=\"M3,0A3,3 0 1,1 0,-3A3,3 0 0,1 3,0Z\" style=\"opacity: 1; stroke-width: 0px; fill: rgb(178, 24, 43); fill-opacity: 1;\"/><path class=\"point\" transform=\"translate(692.61,183.5)\" d=\"M3,0A3,3 0 1,1 0,-3A3,3 0 0,1 3,0Z\" style=\"opacity: 1; stroke-width: 0px; fill: rgb(178, 24, 43); fill-opacity: 1;\"/><path class=\"point\" transform=\"translate(692.78,183.5)\" d=\"M3,0A3,3 0 1,1 0,-3A3,3 0 0,1 3,0Z\" style=\"opacity: 1; stroke-width: 0px; fill: rgb(178, 24, 43); fill-opacity: 1;\"/><path class=\"point\" transform=\"translate(693.41,183.5)\" d=\"M3,0A3,3 0 1,1 0,-3A3,3 0 0,1 3,0Z\" style=\"opacity: 1; stroke-width: 0px; fill: rgb(178, 24, 43); fill-opacity: 1;\"/><path class=\"point\" transform=\"translate(694.45,183.5)\" d=\"M3,0A3,3 0 1,1 0,-3A3,3 0 0,1 3,0Z\" style=\"opacity: 1; stroke-width: 0px; fill: rgb(178, 24, 43); fill-opacity: 1;\"/><path class=\"point\" transform=\"translate(695.86,183.5)\" d=\"M3,0A3,3 0 1,1 0,-3A3,3 0 0,1 3,0Z\" style=\"opacity: 1; stroke-width: 0px; fill: rgb(178, 24, 43); fill-opacity: 1;\"/><path class=\"point\" transform=\"translate(695.94,183.5)\" d=\"M3,0A3,3 0 1,1 0,-3A3,3 0 0,1 3,0Z\" style=\"opacity: 1; stroke-width: 0px; fill: rgb(178, 24, 43); fill-opacity: 1;\"/><path class=\"point\" transform=\"translate(696.47,183.5)\" d=\"M3,0A3,3 0 1,1 0,-3A3,3 0 0,1 3,0Z\" style=\"opacity: 1; stroke-width: 0px; fill: rgb(178, 24, 43); fill-opacity: 1;\"/><path class=\"point\" transform=\"translate(697.21,183.5)\" d=\"M3,0A3,3 0 1,1 0,-3A3,3 0 0,1 3,0Z\" style=\"opacity: 1; stroke-width: 0px; fill: rgb(178, 24, 43); fill-opacity: 1;\"/><path class=\"point\" transform=\"translate(698.37,183.5)\" d=\"M3,0A3,3 0 1,1 0,-3A3,3 0 0,1 3,0Z\" style=\"opacity: 1; stroke-width: 0px; fill: rgb(178, 24, 43); fill-opacity: 1;\"/><path class=\"point\" transform=\"translate(698.38,183.5)\" d=\"M3,0A3,3 0 1,1 0,-3A3,3 0 0,1 3,0Z\" style=\"opacity: 1; stroke-width: 0px; fill: rgb(178, 24, 43); fill-opacity: 1;\"/><path class=\"point\" transform=\"translate(699.12,183.5)\" d=\"M3,0A3,3 0 1,1 0,-3A3,3 0 0,1 3,0Z\" style=\"opacity: 1; stroke-width: 0px; fill: rgb(178, 24, 43); fill-opacity: 1;\"/><path class=\"point\" transform=\"translate(699.71,183.5)\" d=\"M3,0A3,3 0 1,1 0,-3A3,3 0 0,1 3,0Z\" style=\"opacity: 1; stroke-width: 0px; fill: rgb(178, 24, 43); fill-opacity: 1;\"/><path class=\"point\" transform=\"translate(700.27,183.5)\" d=\"M3,0A3,3 0 1,1 0,-3A3,3 0 0,1 3,0Z\" style=\"opacity: 1; stroke-width: 0px; fill: rgb(178, 24, 43); fill-opacity: 1;\"/><path class=\"point\" transform=\"translate(701.63,183.5)\" d=\"M3,0A3,3 0 1,1 0,-3A3,3 0 0,1 3,0Z\" style=\"opacity: 1; stroke-width: 0px; fill: rgb(178, 24, 43); fill-opacity: 1;\"/><path class=\"point\" transform=\"translate(705.3,183.5)\" d=\"M3,0A3,3 0 1,1 0,-3A3,3 0 0,1 3,0Z\" style=\"opacity: 1; stroke-width: 0px; fill: rgb(178, 24, 43); fill-opacity: 1;\"/><path class=\"point\" transform=\"translate(706.42,183.5)\" d=\"M3,0A3,3 0 1,1 0,-3A3,3 0 0,1 3,0Z\" style=\"opacity: 1; stroke-width: 0px; fill: rgb(178, 24, 43); fill-opacity: 1;\"/><path class=\"point\" transform=\"translate(707.19,183.5)\" d=\"M3,0A3,3 0 1,1 0,-3A3,3 0 0,1 3,0Z\" style=\"opacity: 1; stroke-width: 0px; fill: rgb(178, 24, 43); fill-opacity: 1;\"/><path class=\"point\" transform=\"translate(707.61,183.5)\" d=\"M3,0A3,3 0 1,1 0,-3A3,3 0 0,1 3,0Z\" style=\"opacity: 1; stroke-width: 0px; fill: rgb(178, 24, 43); fill-opacity: 1;\"/><path class=\"point\" transform=\"translate(709.62,183.5)\" d=\"M3,0A3,3 0 1,1 0,-3A3,3 0 0,1 3,0Z\" style=\"opacity: 1; stroke-width: 0px; fill: rgb(178, 24, 43); fill-opacity: 1;\"/><path class=\"point\" transform=\"translate(709.71,183.5)\" d=\"M3,0A3,3 0 1,1 0,-3A3,3 0 0,1 3,0Z\" style=\"opacity: 1; stroke-width: 0px; fill: rgb(178, 24, 43); fill-opacity: 1;\"/><path class=\"point\" transform=\"translate(709.86,183.5)\" d=\"M3,0A3,3 0 1,1 0,-3A3,3 0 0,1 3,0Z\" style=\"opacity: 1; stroke-width: 0px; fill: rgb(178, 24, 43); fill-opacity: 1;\"/><path class=\"point\" transform=\"translate(709.99,183.5)\" d=\"M3,0A3,3 0 1,1 0,-3A3,3 0 0,1 3,0Z\" style=\"opacity: 1; stroke-width: 0px; fill: rgb(178, 24, 43); fill-opacity: 1;\"/><path class=\"point\" transform=\"translate(710.19,183.5)\" d=\"M3,0A3,3 0 1,1 0,-3A3,3 0 0,1 3,0Z\" style=\"opacity: 1; stroke-width: 0px; fill: rgb(178, 24, 43); fill-opacity: 1;\"/><path class=\"point\" transform=\"translate(711.22,183.5)\" d=\"M3,0A3,3 0 1,1 0,-3A3,3 0 0,1 3,0Z\" style=\"opacity: 1; stroke-width: 0px; fill: rgb(178, 24, 43); fill-opacity: 1;\"/><path class=\"point\" transform=\"translate(711.74,183.5)\" d=\"M3,0A3,3 0 1,1 0,-3A3,3 0 0,1 3,0Z\" style=\"opacity: 1; stroke-width: 0px; fill: rgb(178, 24, 43); fill-opacity: 1;\"/><path class=\"point\" transform=\"translate(712.81,183.5)\" d=\"M3,0A3,3 0 1,1 0,-3A3,3 0 0,1 3,0Z\" style=\"opacity: 1; stroke-width: 0px; fill: rgb(178, 24, 43); fill-opacity: 1;\"/><path class=\"point\" transform=\"translate(714.06,183.5)\" d=\"M3,0A3,3 0 1,1 0,-3A3,3 0 0,1 3,0Z\" style=\"opacity: 1; stroke-width: 0px; fill: rgb(178, 24, 43); fill-opacity: 1;\"/><path class=\"point\" transform=\"translate(714.61,183.5)\" d=\"M3,0A3,3 0 1,1 0,-3A3,3 0 0,1 3,0Z\" style=\"opacity: 1; stroke-width: 0px; fill: rgb(178, 24, 43); fill-opacity: 1;\"/><path class=\"point\" transform=\"translate(715.07,183.5)\" d=\"M3,0A3,3 0 1,1 0,-3A3,3 0 0,1 3,0Z\" style=\"opacity: 1; stroke-width: 0px; fill: rgb(178, 24, 43); fill-opacity: 1;\"/><path class=\"point\" transform=\"translate(715.1,183.5)\" d=\"M3,0A3,3 0 1,1 0,-3A3,3 0 0,1 3,0Z\" style=\"opacity: 1; stroke-width: 0px; fill: rgb(178, 24, 43); fill-opacity: 1;\"/><path class=\"point\" transform=\"translate(716.76,183.5)\" d=\"M3,0A3,3 0 1,1 0,-3A3,3 0 0,1 3,0Z\" style=\"opacity: 1; stroke-width: 0px; fill: rgb(178, 24, 43); fill-opacity: 1;\"/><path class=\"point\" transform=\"translate(717.89,183.5)\" d=\"M3,0A3,3 0 1,1 0,-3A3,3 0 0,1 3,0Z\" style=\"opacity: 1; stroke-width: 0px; fill: rgb(178, 24, 43); fill-opacity: 1;\"/><path class=\"point\" transform=\"translate(719.02,183.5)\" d=\"M3,0A3,3 0 1,1 0,-3A3,3 0 0,1 3,0Z\" style=\"opacity: 1; stroke-width: 0px; fill: rgb(178, 24, 43); fill-opacity: 1;\"/><path class=\"point\" transform=\"translate(719.07,183.5)\" d=\"M3,0A3,3 0 1,1 0,-3A3,3 0 0,1 3,0Z\" style=\"opacity: 1; stroke-width: 0px; fill: rgb(178, 24, 43); fill-opacity: 1;\"/><path class=\"point\" transform=\"translate(722.49,183.5)\" d=\"M3,0A3,3 0 1,1 0,-3A3,3 0 0,1 3,0Z\" style=\"opacity: 1; stroke-width: 0px; fill: rgb(178, 24, 43); fill-opacity: 1;\"/><path class=\"point\" transform=\"translate(723.3,183.5)\" d=\"M3,0A3,3 0 1,1 0,-3A3,3 0 0,1 3,0Z\" style=\"opacity: 1; stroke-width: 0px; fill: rgb(178, 24, 43); fill-opacity: 1;\"/><path class=\"point\" transform=\"translate(725.52,183.5)\" d=\"M3,0A3,3 0 1,1 0,-3A3,3 0 0,1 3,0Z\" style=\"opacity: 1; stroke-width: 0px; fill: rgb(178, 24, 43); fill-opacity: 1;\"/><path class=\"point\" transform=\"translate(725.91,183.5)\" d=\"M3,0A3,3 0 1,1 0,-3A3,3 0 0,1 3,0Z\" style=\"opacity: 1; stroke-width: 0px; fill: rgb(178, 24, 43); fill-opacity: 1;\"/><path class=\"point\" transform=\"translate(726.14,183.5)\" d=\"M3,0A3,3 0 1,1 0,-3A3,3 0 0,1 3,0Z\" style=\"opacity: 1; stroke-width: 0px; fill: rgb(178, 24, 43); fill-opacity: 1;\"/><path class=\"point\" transform=\"translate(727.69,183.5)\" d=\"M3,0A3,3 0 1,1 0,-3A3,3 0 0,1 3,0Z\" style=\"opacity: 1; stroke-width: 0px; fill: rgb(178, 24, 43); fill-opacity: 1;\"/><path class=\"point\" transform=\"translate(727.96,183.5)\" d=\"M3,0A3,3 0 1,1 0,-3A3,3 0 0,1 3,0Z\" style=\"opacity: 1; stroke-width: 0px; fill: rgb(178, 24, 43); fill-opacity: 1;\"/><path class=\"point\" transform=\"translate(728.5,183.5)\" d=\"M3,0A3,3 0 1,1 0,-3A3,3 0 0,1 3,0Z\" style=\"opacity: 1; stroke-width: 0px; fill: rgb(178, 24, 43); fill-opacity: 1;\"/><path class=\"point\" transform=\"translate(732.52,183.5)\" d=\"M3,0A3,3 0 1,1 0,-3A3,3 0 0,1 3,0Z\" style=\"opacity: 1; stroke-width: 0px; fill: rgb(178, 24, 43); fill-opacity: 1;\"/><path class=\"point\" transform=\"translate(734.25,183.5)\" d=\"M3,0A3,3 0 1,1 0,-3A3,3 0 0,1 3,0Z\" style=\"opacity: 1; stroke-width: 0px; fill: rgb(178, 24, 43); fill-opacity: 1;\"/><path class=\"point\" transform=\"translate(734.36,183.5)\" d=\"M3,0A3,3 0 1,1 0,-3A3,3 0 0,1 3,0Z\" style=\"opacity: 1; stroke-width: 0px; fill: rgb(178, 24, 43); fill-opacity: 1;\"/><path class=\"point\" transform=\"translate(736.69,183.5)\" d=\"M3,0A3,3 0 1,1 0,-3A3,3 0 0,1 3,0Z\" style=\"opacity: 1; stroke-width: 0px; fill: rgb(178, 24, 43); fill-opacity: 1;\"/><path class=\"point\" transform=\"translate(737.56,183.5)\" d=\"M3,0A3,3 0 1,1 0,-3A3,3 0 0,1 3,0Z\" style=\"opacity: 1; stroke-width: 0px; fill: rgb(178, 24, 43); fill-opacity: 1;\"/><path class=\"point\" transform=\"translate(737.77,183.5)\" d=\"M3,0A3,3 0 1,1 0,-3A3,3 0 0,1 3,0Z\" style=\"opacity: 1; stroke-width: 0px; fill: rgb(178, 24, 43); fill-opacity: 1;\"/><path class=\"point\" transform=\"translate(738.27,183.5)\" d=\"M3,0A3,3 0 1,1 0,-3A3,3 0 0,1 3,0Z\" style=\"opacity: 1; stroke-width: 0px; fill: rgb(178, 24, 43); fill-opacity: 1;\"/><path class=\"point\" transform=\"translate(739.74,183.5)\" d=\"M3,0A3,3 0 1,1 0,-3A3,3 0 0,1 3,0Z\" style=\"opacity: 1; stroke-width: 0px; fill: rgb(178, 24, 43); fill-opacity: 1;\"/><path class=\"point\" transform=\"translate(741.38,183.5)\" d=\"M3,0A3,3 0 1,1 0,-3A3,3 0 0,1 3,0Z\" style=\"opacity: 1; stroke-width: 0px; fill: rgb(178, 24, 43); fill-opacity: 1;\"/><path class=\"point\" transform=\"translate(741.7,183.5)\" d=\"M3,0A3,3 0 1,1 0,-3A3,3 0 0,1 3,0Z\" style=\"opacity: 1; stroke-width: 0px; fill: rgb(178, 24, 43); fill-opacity: 1;\"/><path class=\"point\" transform=\"translate(743.85,183.5)\" d=\"M3,0A3,3 0 1,1 0,-3A3,3 0 0,1 3,0Z\" style=\"opacity: 1; stroke-width: 0px; fill: rgb(178, 24, 43); fill-opacity: 1;\"/><path class=\"point\" transform=\"translate(750.8,183.5)\" d=\"M3,0A3,3 0 1,1 0,-3A3,3 0 0,1 3,0Z\" style=\"opacity: 1; stroke-width: 0px; fill: rgb(178, 24, 43); fill-opacity: 1;\"/><path class=\"point\" transform=\"translate(751.05,183.5)\" d=\"M3,0A3,3 0 1,1 0,-3A3,3 0 0,1 3,0Z\" style=\"opacity: 1; stroke-width: 0px; fill: rgb(178, 24, 43); fill-opacity: 1;\"/><path class=\"point\" transform=\"translate(751.99,183.5)\" d=\"M3,0A3,3 0 1,1 0,-3A3,3 0 0,1 3,0Z\" style=\"opacity: 1; stroke-width: 0px; fill: rgb(178, 24, 43); fill-opacity: 1;\"/><path class=\"point\" transform=\"translate(753.66,183.5)\" d=\"M3,0A3,3 0 1,1 0,-3A3,3 0 0,1 3,0Z\" style=\"opacity: 1; stroke-width: 0px; fill: rgb(178, 24, 43); fill-opacity: 1;\"/><path class=\"point\" transform=\"translate(753.75,183.5)\" d=\"M3,0A3,3 0 1,1 0,-3A3,3 0 0,1 3,0Z\" style=\"opacity: 1; stroke-width: 0px; fill: rgb(178, 24, 43); fill-opacity: 1;\"/><path class=\"point\" transform=\"translate(759.43,183.5)\" d=\"M3,0A3,3 0 1,1 0,-3A3,3 0 0,1 3,0Z\" style=\"opacity: 1; stroke-width: 0px; fill: rgb(178, 24, 43); fill-opacity: 1;\"/><path class=\"point\" transform=\"translate(762.79,183.5)\" d=\"M3,0A3,3 0 1,1 0,-3A3,3 0 0,1 3,0Z\" style=\"opacity: 1; stroke-width: 0px; fill: rgb(178, 24, 43); fill-opacity: 1;\"/><path class=\"point\" transform=\"translate(763.98,183.5)\" d=\"M3,0A3,3 0 1,1 0,-3A3,3 0 0,1 3,0Z\" style=\"opacity: 1; stroke-width: 0px; fill: rgb(178, 24, 43); fill-opacity: 1;\"/><path class=\"point\" transform=\"translate(764.33,183.5)\" d=\"M3,0A3,3 0 1,1 0,-3A3,3 0 0,1 3,0Z\" style=\"opacity: 1; stroke-width: 0px; fill: rgb(178, 24, 43); fill-opacity: 1;\"/><path class=\"point\" transform=\"translate(768.82,183.5)\" d=\"M3,0A3,3 0 1,1 0,-3A3,3 0 0,1 3,0Z\" style=\"opacity: 1; stroke-width: 0px; fill: rgb(178, 24, 43); fill-opacity: 1;\"/><path class=\"point\" transform=\"translate(773.22,183.5)\" d=\"M3,0A3,3 0 1,1 0,-3A3,3 0 0,1 3,0Z\" style=\"opacity: 1; stroke-width: 0px; fill: rgb(178, 24, 43); fill-opacity: 1;\"/><path class=\"point\" transform=\"translate(774.43,183.5)\" d=\"M3,0A3,3 0 1,1 0,-3A3,3 0 0,1 3,0Z\" style=\"opacity: 1; stroke-width: 0px; fill: rgb(178, 24, 43); fill-opacity: 1;\"/><path class=\"point\" transform=\"translate(788.88,183.5)\" d=\"M3,0A3,3 0 1,1 0,-3A3,3 0 0,1 3,0Z\" style=\"opacity: 1; stroke-width: 0px; fill: rgb(178, 24, 43); fill-opacity: 1;\"/><path class=\"point\" transform=\"translate(791.94,183.5)\" d=\"M3,0A3,3 0 1,1 0,-3A3,3 0 0,1 3,0Z\" style=\"opacity: 1; stroke-width: 0px; fill: rgb(178, 24, 43); fill-opacity: 1;\"/><path class=\"point\" transform=\"translate(791.97,183.5)\" d=\"M3,0A3,3 0 1,1 0,-3A3,3 0 0,1 3,0Z\" style=\"opacity: 1; stroke-width: 0px; fill: rgb(178, 24, 43); fill-opacity: 1;\"/><path class=\"point\" transform=\"translate(798.72,183.5)\" d=\"M3,0A3,3 0 1,1 0,-3A3,3 0 0,1 3,0Z\" style=\"opacity: 1; stroke-width: 0px; fill: rgb(178, 24, 43); fill-opacity: 1;\"/><path class=\"point\" transform=\"translate(800.42,183.5)\" d=\"M3,0A3,3 0 1,1 0,-3A3,3 0 0,1 3,0Z\" style=\"opacity: 1; stroke-width: 0px; fill: rgb(178, 24, 43); fill-opacity: 1;\"/><path class=\"point\" transform=\"translate(805.46,183.5)\" d=\"M3,0A3,3 0 1,1 0,-3A3,3 0 0,1 3,0Z\" style=\"opacity: 1; stroke-width: 0px; fill: rgb(178, 24, 43); fill-opacity: 1;\"/><path class=\"point\" transform=\"translate(814.57,183.5)\" d=\"M3,0A3,3 0 1,1 0,-3A3,3 0 0,1 3,0Z\" style=\"opacity: 1; stroke-width: 0px; fill: rgb(178, 24, 43); fill-opacity: 1;\"/><path class=\"point\" transform=\"translate(819.08,183.5)\" d=\"M3,0A3,3 0 1,1 0,-3A3,3 0 0,1 3,0Z\" style=\"opacity: 1; stroke-width: 0px; fill: rgb(178, 24, 43); fill-opacity: 1;\"/><path class=\"point\" transform=\"translate(819.83,183.5)\" d=\"M3,0A3,3 0 1,1 0,-3A3,3 0 0,1 3,0Z\" style=\"opacity: 1; stroke-width: 0px; fill: rgb(178, 24, 43); fill-opacity: 1;\"/><path class=\"point\" transform=\"translate(838.08,183.5)\" d=\"M3,0A3,3 0 1,1 0,-3A3,3 0 0,1 3,0Z\" style=\"opacity: 1; stroke-width: 0px; fill: rgb(178, 24, 43); fill-opacity: 1;\"/><path class=\"point\" transform=\"translate(849.88,183.5)\" d=\"M3,0A3,3 0 1,1 0,-3A3,3 0 0,1 3,0Z\" style=\"opacity: 1; stroke-width: 0px; fill: rgb(178, 24, 43); fill-opacity: 1;\"/><path class=\"point\" transform=\"translate(855,183.5)\" d=\"M3,0A3,3 0 1,1 0,-3A3,3 0 0,1 3,0Z\" style=\"opacity: 1; stroke-width: 0px; fill: rgb(178, 24, 43); fill-opacity: 1;\"/></g></g></g></g><g class=\"overplot\"/><path class=\"xlines-above crisp\" d=\"M0,0\" style=\"fill: none;\"/><path class=\"ylines-above crisp\" d=\"M0,0\" style=\"fill: none;\"/><g class=\"overlines-above\"/><g class=\"xaxislayer-above\"><g class=\"xtick\"><text text-anchor=\"middle\" x=\"0\" y=\"460\" transform=\"translate(76.6,0)\" style=\"font-family: 'Open Sans', verdana, arial, sans-serif; font-size: 12px; fill: rgb(42, 63, 95); fill-opacity: 1; white-space: pre; opacity: 1;\">40</text></g><g class=\"xtick\"><text text-anchor=\"middle\" x=\"0\" y=\"460\" style=\"font-family: 'Open Sans', verdana, arial, sans-serif; font-size: 12px; fill: rgb(42, 63, 95); fill-opacity: 1; white-space: pre; opacity: 1;\" transform=\"translate(239.65,0)\">60</text></g><g class=\"xtick\"><text text-anchor=\"middle\" x=\"0\" y=\"460\" style=\"font-family: 'Open Sans', verdana, arial, sans-serif; font-size: 12px; fill: rgb(42, 63, 95); fill-opacity: 1; white-space: pre; opacity: 1;\" transform=\"translate(402.7,0)\">80</text></g><g class=\"xtick\"><text text-anchor=\"middle\" x=\"0\" y=\"460\" style=\"font-family: 'Open Sans', verdana, arial, sans-serif; font-size: 12px; fill: rgb(42, 63, 95); fill-opacity: 1; white-space: pre; opacity: 1;\" transform=\"translate(565.75,0)\">100</text></g><g class=\"xtick\"><text text-anchor=\"middle\" x=\"0\" y=\"460\" style=\"font-family: 'Open Sans', verdana, arial, sans-serif; font-size: 12px; fill: rgb(42, 63, 95); fill-opacity: 1; white-space: pre; opacity: 1;\" transform=\"translate(728.8,0)\">120</text></g><g class=\"xtick\"><text text-anchor=\"middle\" x=\"0\" y=\"460\" style=\"font-family: 'Open Sans', verdana, arial, sans-serif; font-size: 12px; fill: rgb(42, 63, 95); fill-opacity: 1; white-space: pre; opacity: 1;\" transform=\"translate(891.85,0)\">140</text></g></g><g class=\"yaxislayer-above\"><g class=\"ytick\"><text text-anchor=\"end\" x=\"49\" y=\"4.199999999999999\" transform=\"translate(0,263.5)\" style=\"font-family: 'Open Sans', verdana, arial, sans-serif; font-size: 12px; fill: rgb(42, 63, 95); fill-opacity: 1; white-space: pre; opacity: 1;\">trace 0</text></g></g><g class=\"overaxes-above\"/></g></g><g class=\"polarlayer\"/><g class=\"smithlayer\"/><g class=\"ternarylayer\"/><g class=\"geolayer\"/><g class=\"funnelarealayer\"/><g class=\"pielayer\"/><g class=\"iciclelayer\"/><g class=\"treemaplayer\"/><g class=\"sunburstlayer\"/><g class=\"glimages\"/><defs id=\"topdefs-75397b\"><g class=\"clips\"/></defs><g class=\"layer-above\"><g class=\"imagelayer\"/><g class=\"shapelayer\"/></g><g class=\"infolayer\"><g class=\"g-gtitle\"><text class=\"gtitle\" x=\"150\" y=\"25\" text-anchor=\"middle\" dy=\"0.7em\" style=\"font-family: 'Times New Roman'; font-size: 26px; fill: rgb(0, 0, 0); opacity: 1; font-weight: normal; white-space: pre;\">Boxplot of Weight</text></g><g class=\"g-xtitle\"><text class=\"xtitle\" x=\"500\" y=\"487.3\" text-anchor=\"middle\" style=\"font-family: 'Open Sans', verdana, arial, sans-serif; font-size: 14px; fill: rgb(42, 63, 95); opacity: 1; font-weight: normal; white-space: pre;\">Age</text></g><g class=\"g-ytitle\"/></g></svg>"
      ]
     },
     "metadata": {},
     "output_type": "display_data"
    }
   ],
   "source": [
    "fig = go.Figure(data=[go.Box(\n",
    "    x=df['wtkg'],\n",
    "    marker=dict(color=palette[1])\n",
    ")])\n",
    "\n",
    "fig.update_layout(\n",
    "    title_text=\"Boxplot of Weight\",\n",
    "    title_font_size=24,\n",
    "    title_font_family=\"Times New Roman\",\n",
    "    title_font_color=\"#000000\",  \n",
    "    paper_bgcolor='#ffffff',  \n",
    "    plot_bgcolor='#ffffff',  \n",
    "    xaxis=dict(title=\"Age\"),\n",
    ")\n",
    "\n",
    "fig.update_layout(\n",
    "    title={\n",
    "        'y':0.95,\n",
    "        'x':0.15,\n",
    "        'xanchor': 'center',\n",
    "        'yanchor': 'top'},\n",
    "    title_font_size=26,\n",
    "    margin=dict(l=50, r=50, t=80, b=50)\n",
    ")\n",
    "\n",
    "\n",
    "\n",
    "fig.update_layout(width=1000)\n",
    "\n",
    "fig.show('svg')"
   ]
  },
  {
   "cell_type": "markdown",
   "id": "f2d2155b",
   "metadata": {
    "papermill": {
     "duration": 0.02159,
     "end_time": "2024-05-29T06:42:53.290027",
     "exception": false,
     "start_time": "2024-05-29T06:42:53.268437",
     "status": "completed"
    },
    "tags": []
   },
   "source": [
    "*A great deal of outliers are present beyond 100*"
   ]
  },
  {
   "cell_type": "markdown",
   "id": "982e8702",
   "metadata": {
    "papermill": {
     "duration": 0.021385,
     "end_time": "2024-05-29T06:42:53.333050",
     "exception": false,
     "start_time": "2024-05-29T06:42:53.311665",
     "status": "completed"
    },
    "tags": []
   },
   "source": [
    "----------------------------------------------------------------------------------------------------------------------------------------------------------"
   ]
  },
  {
   "cell_type": "markdown",
   "id": "831bdce6",
   "metadata": {
    "papermill": {
     "duration": 0.022677,
     "end_time": "2024-05-29T06:42:53.377607",
     "exception": false,
     "start_time": "2024-05-29T06:42:53.354930",
     "status": "completed"
    },
    "tags": []
   },
   "source": [
    "## hemo : Hemophilia \n",
    "***About***\n",
    "\n",
    "<div>\n",
    "<p>\n",
    "It refers to a genetic disorder characterized by the inability of the blood to clot normally. Individuals with hemophilia lack certain proteins, known as clotting factors, that are essential for blood clotting. As a result, they are at an increased risk of excessive bleeding, both internally and externally, even from minor injuries.\n",
    "\n",
    " </p>  \n",
    "</div>\n",
    "\n",
    "\n",
    "***Conclusions***\n",
    "- *Majority of the patients do not have hemophilia*"
   ]
  },
  {
   "cell_type": "code",
   "execution_count": 15,
   "id": "6f9565ee",
   "metadata": {
    "execution": {
     "iopub.execute_input": "2024-05-29T06:42:53.423547Z",
     "iopub.status.busy": "2024-05-29T06:42:53.423153Z",
     "iopub.status.idle": "2024-05-29T06:42:53.431727Z",
     "shell.execute_reply": "2024-05-29T06:42:53.430654Z"
    },
    "papermill": {
     "duration": 0.034053,
     "end_time": "2024-05-29T06:42:53.433830",
     "exception": false,
     "start_time": "2024-05-29T06:42:53.399777",
     "status": "completed"
    },
    "tags": []
   },
   "outputs": [
    {
     "data": {
      "text/plain": [
       "hemo\n",
       "0    14520\n",
       "1      480\n",
       "Name: count, dtype: int64"
      ]
     },
     "execution_count": 15,
     "metadata": {},
     "output_type": "execute_result"
    }
   ],
   "source": [
    "df['hemo'].value_counts()"
   ]
  },
  {
   "cell_type": "code",
   "execution_count": 16,
   "id": "c76c4b87",
   "metadata": {
    "_kg_hide-input": false,
    "execution": {
     "iopub.execute_input": "2024-05-29T06:42:53.480357Z",
     "iopub.status.busy": "2024-05-29T06:42:53.479700Z",
     "iopub.status.idle": "2024-05-29T06:42:53.603004Z",
     "shell.execute_reply": "2024-05-29T06:42:53.601818Z"
    },
    "papermill": {
     "duration": 0.149541,
     "end_time": "2024-05-29T06:42:53.605469",
     "exception": false,
     "start_time": "2024-05-29T06:42:53.455928",
     "status": "completed"
    },
    "tags": []
   },
   "outputs": [
    {
     "data": {
      "image/svg+xml": [
       "<svg class=\"main-svg\" xmlns=\"http://www.w3.org/2000/svg\" xmlns:xlink=\"http://www.w3.org/1999/xlink\" width=\"1000\" height=\"500\" style=\"\" viewBox=\"0 0 1000 500\"><rect x=\"0\" y=\"0\" width=\"1000\" height=\"500\" style=\"fill: rgb(255, 255, 255); fill-opacity: 1;\"/><defs id=\"defs-211ac6\"><g class=\"clips\"/><g class=\"gradients\"/><g class=\"patterns\"/></defs><g class=\"bglayer\"/><g class=\"layer-below\"><g class=\"imagelayer\"/><g class=\"shapelayer\"/></g><g class=\"cartesianlayer\"/><g class=\"polarlayer\"/><g class=\"smithlayer\"/><g class=\"ternarylayer\"/><g class=\"geolayer\"/><g class=\"funnelarealayer\"/><g class=\"pielayer\"><g class=\"trace\" stroke-linejoin=\"round\" style=\"opacity: 1;\"><g class=\"slice\"><path class=\"surface\" d=\"M500,265l0,-185a185,185 0 1 1 -36.94634639516533,3.7268153089143254Z\" style=\"pointer-events: none; fill: rgb(197, 27, 125); fill-opacity: 1; stroke-width: 1; stroke: rgb(0, 0, 0); stroke-opacity: 1;\"/><g class=\"slicetext\"><text data-notex=\"1\" class=\"slicetext\" transform=\"translate(509.2834586237374,352.93140657077026)\" text-anchor=\"middle\" x=\"0\" y=\"0\" style=\"font-family: 'Open Sans', verdana, arial, sans-serif; font-size: 14px; fill: rgb(255, 255, 255); fill-opacity: 1; white-space: pre;\"><tspan class=\"line\" dy=\"0em\" x=\"0\" y=\"0\">0</tspan><tspan class=\"line\" dy=\"1.3em\" x=\"0\" y=\"0\">96.8%</tspan></text></g></g><g class=\"slice\"><path class=\"surface\" d=\"M500,265l-36.94634639516529,-181.27318469108567a185,185 0 0 1 36.94634639516529,-3.7268153089143254Z\" style=\"pointer-events: none; fill: rgb(222, 119, 174); fill-opacity: 1; stroke-width: 1; stroke: rgb(0, 0, 0); stroke-opacity: 1;\"/><g class=\"slicetext\"><text data-notex=\"1\" class=\"slicetext\" transform=\"translate(456.91355150252525,59.903191898814484)\" text-anchor=\"middle\" x=\"0\" y=\"0\" style=\"font-family: 'Open Sans', verdana, arial, sans-serif; font-size: 14px; fill: rgb(255, 255, 255); fill-opacity: 1; white-space: pre;\"><tspan class=\"line\" dy=\"0em\" x=\"0\" y=\"0\">1</tspan><tspan class=\"line\" dy=\"1.3em\" x=\"0\" y=\"0\">3.2%</tspan></text></g></g></g></g><g class=\"iciclelayer\"/><g class=\"treemaplayer\"/><g class=\"sunburstlayer\"/><g class=\"glimages\"/><defs id=\"topdefs-211ac6\"><g class=\"clips\"/><clipPath id=\"legend211ac6\"><rect width=\"144.4\" height=\"75.4\" x=\"0.3\" y=\"0.3\"/></clipPath></defs><g class=\"layer-above\"><g class=\"imagelayer\"/><g class=\"shapelayer\"/></g><g class=\"infolayer\"><g class=\"legend\" pointer-events=\"all\" transform=\"translate(704,227)\"><rect class=\"bg\" shape-rendering=\"crispEdges\" style=\"stroke: rgb(0, 0, 0); stroke-opacity: 1; fill: rgb(255, 255, 255); fill-opacity: 1; stroke-width: 0.3px;\" width=\"144.7\" height=\"75.7\" x=\"0.15\" y=\"0.15\"/><g class=\"scrollbox\" transform=\"\" clip-path=\"url(#legend211ac6)\"><text class=\"legendtitletext\" text-anchor=\"start\" x=\"2.3\" y=\"22.400000000000002\" style=\"font-family: 'Times New Roman'; font-size: 17px; fill: rgb(0, 0, 0); fill-opacity: 1; white-space: pre;\">Hemophilia (no/yes)</text><g class=\"groups\"><g class=\"traces\" transform=\"translate(0.3,38)\" style=\"opacity: 1;\"><text class=\"legendtext\" text-anchor=\"start\" x=\"40\" y=\"5.46\" style=\"font-family: 'Times New Roman'; font-size: 14px; fill: rgb(0, 0, 0); fill-opacity: 1; white-space: pre;\">0</text><g class=\"layers\" style=\"opacity: 1;\"><g class=\"legendfill\"/><g class=\"legendlines\"/><g class=\"legendsymbols\"><g class=\"legendpoints\"><path class=\"legendpie\" d=\"M6,6H-6V-6H6Z\" transform=\"translate(20,0)\" style=\"fill: rgb(197, 27, 125); fill-opacity: 1; stroke-width: 1; stroke: rgb(0, 0, 0); stroke-opacity: 1;\"/></g></g></g><rect class=\"legendtoggle\" x=\"0\" y=\"-10.6\" width=\"47\" height=\"21.2\" style=\"fill: rgb(0, 0, 0); fill-opacity: 0;\"/></g><g class=\"traces\" transform=\"translate(0.3,59.2)\" style=\"opacity: 1;\"><text class=\"legendtext\" text-anchor=\"start\" x=\"40\" y=\"5.46\" style=\"font-family: 'Times New Roman'; font-size: 14px; fill: rgb(0, 0, 0); fill-opacity: 1; white-space: pre;\">1</text><g class=\"layers\" style=\"opacity: 1;\"><g class=\"legendfill\"/><g class=\"legendlines\"/><g class=\"legendsymbols\"><g class=\"legendpoints\"><path class=\"legendpie\" d=\"M6,6H-6V-6H6Z\" transform=\"translate(20,0)\" style=\"fill: rgb(222, 119, 174); fill-opacity: 1; stroke-width: 1; stroke: rgb(0, 0, 0); stroke-opacity: 1;\"/></g></g></g><rect class=\"legendtoggle\" x=\"0\" y=\"-10.6\" width=\"47\" height=\"21.2\" style=\"fill: rgb(0, 0, 0); fill-opacity: 0;\"/></g></g></g><rect class=\"scrollbar\" rx=\"20\" ry=\"3\" width=\"0\" height=\"0\" style=\"fill: rgb(128, 139, 164); fill-opacity: 1;\" x=\"0\" y=\"0\"/></g><g class=\"g-gtitle\"><text class=\"gtitle\" x=\"210\" y=\"25\" text-anchor=\"middle\" dy=\"0.7em\" style=\"font-family: 'Times New Roman'; font-size: 26px; fill: rgb(0, 0, 0); opacity: 1; font-weight: normal; white-space: pre;\">Distribution of Hemophilia</text></g><g class=\"annotation\" data-index=\"0\" style=\"opacity: 1;\"><g class=\"annotation-text-g\" transform=\"rotate(0,500,477.00000000000006)\"><g class=\"cursor-pointer\" transform=\"translate(363,467)\"><rect class=\"bg\" x=\"0.5\" y=\"0.5\" width=\"273\" height=\"19\" style=\"stroke-width: 1px; stroke: rgb(0, 0, 0); stroke-opacity: 0; fill: rgb(0, 0, 0); fill-opacity: 0;\"/><text class=\"annotation-text\" text-anchor=\"middle\" x=\"137.03125\" y=\"15\" style=\"font-family: 'Open Sans', verdana, arial, sans-serif; font-size: 14px; fill: rgb(0, 0, 0); fill-opacity: 1; white-space: pre;\">Majority of patients do not have hemophilia.</text></g></g></g></g></svg>"
      ]
     },
     "metadata": {},
     "output_type": "display_data"
    }
   ],
   "source": [
    "palette = cl.scales['9']['div']['PiYG']\n",
    "\n",
    "\n",
    "hemo = df['hemo'].value_counts().reset_index()\n",
    "hemo.columns = ['hemo', 'count']\n",
    "\n",
    "fig = go.Figure(data=[go.Pie(\n",
    "    labels=hemo['hemo'],\n",
    "    values=hemo['count'],\n",
    "    marker=dict(colors=palette, line=dict(color='#000000', width=1)),\n",
    "    textinfo=\"label+percent\",\n",
    "    textfont=dict(size=14, color='#FFFFFF')\n",
    ")])\n",
    "\n",
    "\n",
    "fig.update_layout(\n",
    "    title_text=\"Hemophilia Distribution\",\n",
    "    title_font_size=24,\n",
    "    title_font_family=\"Times New Roman\",\n",
    "    title_font_color=\"#000000\",  \n",
    "    paper_bgcolor='#ffffff',  \n",
    "    plot_bgcolor='#ffffff', \n",
    "    showlegend=True,\n",
    "    legend_title_text='Hemophilia (no/yes)',\n",
    "    legend=dict(\n",
    "        x=0.8,\n",
    "        y=0.5,\n",
    "        traceorder='normal',\n",
    "        font=dict(\n",
    "            family=\"Times New Roman\",\n",
    "            size=14,\n",
    "            color=\"#000000\"\n",
    "        ),\n",
    "        bgcolor=\"#ffffff\",  \n",
    "        bordercolor=\"#000000\", \n",
    "        borderwidth=0.3,\n",
    "        orientation=\"v\" \n",
    "    )\n",
    ")\n",
    "\n",
    "fig.update_layout(width=1000)\n",
    "\n",
    "fig.update_layout(\n",
    "    title={\n",
    "        'text': \"Distribution of Hemophilia\",\n",
    "        'y':0.95,\n",
    "        'x':0.21,\n",
    "        'xanchor': 'center',\n",
    "        'yanchor': 'top'},\n",
    "    title_font_size=26,\n",
    "    margin=dict(l=50, r=50, t=80, b=50)\n",
    ")\n",
    "\n",
    "fig.add_annotation(\n",
    "    text=\"Majority of patients do not have hemophilia.\",\n",
    "    x=0.5,\n",
    "    y=-0.10,\n",
    "    showarrow=False,\n",
    "    font=dict(color=\"#000000\", size=14) \n",
    ")\n",
    "\n",
    "# Show the pie chart\n",
    "fig.show('svg')\n"
   ]
  },
  {
   "cell_type": "markdown",
   "id": "0818fb74",
   "metadata": {
    "papermill": {
     "duration": 0.02237,
     "end_time": "2024-05-29T06:42:53.651229",
     "exception": false,
     "start_time": "2024-05-29T06:42:53.628859",
     "status": "completed"
    },
    "tags": []
   },
   "source": [
    "----------------------------------------------------------------------------------------------------------------------------------------------------------"
   ]
  },
  {
   "cell_type": "markdown",
   "id": "e21dc632",
   "metadata": {
    "papermill": {
     "duration": 0.021827,
     "end_time": "2024-05-29T06:42:53.695134",
     "exception": false,
     "start_time": "2024-05-29T06:42:53.673307",
     "status": "completed"
    },
    "tags": []
   },
   "source": [
    "## homo : Homosexual Activity \n",
    "***About***\n",
    "\n",
    "<div>\n",
    "<p>\n",
    "Homosexual activity refers to sexual activity between individuals of the same sex, often between men. Historically, homosexual activity has been associated with a higher risk of HIV transmission due to various factor.\n",
    " </p>  \n",
    "</div>\n",
    "\n",
    "\n",
    "***Conclusions***\n",
    "- *Majority of the patients have indulged in homosexual activity*"
   ]
  },
  {
   "cell_type": "code",
   "execution_count": 17,
   "id": "339bb654",
   "metadata": {
    "execution": {
     "iopub.execute_input": "2024-05-29T06:42:53.740648Z",
     "iopub.status.busy": "2024-05-29T06:42:53.740274Z",
     "iopub.status.idle": "2024-05-29T06:42:53.749292Z",
     "shell.execute_reply": "2024-05-29T06:42:53.747228Z"
    },
    "papermill": {
     "duration": 0.035101,
     "end_time": "2024-05-29T06:42:53.752117",
     "exception": false,
     "start_time": "2024-05-29T06:42:53.717016",
     "status": "completed"
    },
    "tags": []
   },
   "outputs": [
    {
     "data": {
      "text/plain": [
       "homo\n",
       "1    9791\n",
       "0    5209\n",
       "Name: count, dtype: int64"
      ]
     },
     "execution_count": 17,
     "metadata": {},
     "output_type": "execute_result"
    }
   ],
   "source": [
    "df['homo'].value_counts()"
   ]
  },
  {
   "cell_type": "code",
   "execution_count": 18,
   "id": "be3c73e4",
   "metadata": {
    "execution": {
     "iopub.execute_input": "2024-05-29T06:42:53.798739Z",
     "iopub.status.busy": "2024-05-29T06:42:53.798329Z",
     "iopub.status.idle": "2024-05-29T06:42:53.858466Z",
     "shell.execute_reply": "2024-05-29T06:42:53.857409Z"
    },
    "papermill": {
     "duration": 0.085925,
     "end_time": "2024-05-29T06:42:53.860830",
     "exception": false,
     "start_time": "2024-05-29T06:42:53.774905",
     "status": "completed"
    },
    "tags": []
   },
   "outputs": [
    {
     "data": {
      "image/svg+xml": [
       "<svg class=\"main-svg\" xmlns=\"http://www.w3.org/2000/svg\" xmlns:xlink=\"http://www.w3.org/1999/xlink\" width=\"1000\" height=\"500\" style=\"\" viewBox=\"0 0 1000 500\"><rect x=\"0\" y=\"0\" width=\"1000\" height=\"500\" style=\"fill: rgb(255, 255, 255); fill-opacity: 1;\"/><defs id=\"defs-d04073\"><g class=\"clips\"/><g class=\"gradients\"/><g class=\"patterns\"/></defs><g class=\"bglayer\"/><g class=\"layer-below\"><g class=\"imagelayer\"/><g class=\"shapelayer\"/></g><g class=\"cartesianlayer\"/><g class=\"polarlayer\"/><g class=\"smithlayer\"/><g class=\"ternarylayer\"/><g class=\"geolayer\"/><g class=\"funnelarealayer\"/><g class=\"pielayer\"><g class=\"trace\" stroke-linejoin=\"round\" style=\"opacity: 1;\"><g class=\"slice\"><path class=\"surface\" d=\"M500,265l0,-185a185,185 0 1 1 -151.51349032494048,291.1539554117234Z\" style=\"pointer-events: none; fill: rgb(215, 48, 39); fill-opacity: 1; stroke-width: 1; stroke: rgb(0, 0, 0); stroke-opacity: 1;\"/><g class=\"slicetext\"><text data-notex=\"1\" class=\"slicetext\" transform=\"translate(582.0544649540542,303.5987276758746)\" text-anchor=\"middle\" x=\"0\" y=\"0\" style=\"font-family: 'Open Sans', verdana, arial, sans-serif; font-size: 14px; fill: rgb(255, 255, 255); fill-opacity: 1; white-space: pre;\"><tspan class=\"line\" dy=\"0em\" x=\"0\" y=\"0\">1</tspan><tspan class=\"line\" dy=\"1.3em\" x=\"0\" y=\"0\">65.3%</tspan></text></g></g><g class=\"slice\"><path class=\"surface\" d=\"M500,265l-151.51349032494056,106.15395541172333a185,185 0 0 1 151.51349032494056,-291.15395541172336Z\" style=\"pointer-events: none; fill: rgb(244, 109, 67); fill-opacity: 1; stroke-width: 1; stroke: rgb(0, 0, 0); stroke-opacity: 1;\"/><g class=\"slicetext\"><text data-notex=\"1\" class=\"slicetext\" transform=\"translate(413.03530379188135,215.64291404709883)\" text-anchor=\"middle\" x=\"0\" y=\"0\" style=\"font-family: 'Open Sans', verdana, arial, sans-serif; font-size: 14px; fill: rgb(255, 255, 255); fill-opacity: 1; white-space: pre;\"><tspan class=\"line\" dy=\"0em\" x=\"0\" y=\"0\">0</tspan><tspan class=\"line\" dy=\"1.3em\" x=\"0\" y=\"0\">34.7%</tspan></text></g></g></g></g><g class=\"iciclelayer\"/><g class=\"treemaplayer\"/><g class=\"sunburstlayer\"/><g class=\"glimages\"/><defs id=\"topdefs-d04073\"><g class=\"clips\"/><clipPath id=\"legendd04073\"><rect width=\"210.6\" height=\"74.6\" x=\"0.7\" y=\"0.7\"/></clipPath></defs><g class=\"layer-above\"><g class=\"imagelayer\"/><g class=\"shapelayer\"/></g><g class=\"infolayer\"><g class=\"legend\" pointer-events=\"all\" transform=\"translate(770,227)\"><rect class=\"bg\" shape-rendering=\"crispEdges\" style=\"stroke: rgb(0, 0, 0); stroke-opacity: 1; fill: rgb(255, 255, 255); fill-opacity: 1; stroke-width: 0.7px;\" width=\"211.3\" height=\"75.3\" x=\"0.35\" y=\"0.35\"/><g class=\"scrollbox\" transform=\"\" clip-path=\"url(#legendd04073)\"><text class=\"legendtitletext\" text-anchor=\"start\" x=\"2.7\" y=\"22.8\" style=\"font-family: 'Times New Roman'; font-size: 17px; fill: rgb(0, 0, 0); fill-opacity: 1; white-space: pre;\">Homosexual Activity (no/yes)</text><g class=\"groups\"><g class=\"traces\" transform=\"translate(0.7,38.4)\" style=\"opacity: 1;\"><text class=\"legendtext\" text-anchor=\"start\" x=\"40\" y=\"5.46\" style=\"font-family: 'Times New Roman'; font-size: 14px; fill: rgb(0, 0, 0); fill-opacity: 1; white-space: pre;\">1</text><g class=\"layers\" style=\"opacity: 1;\"><g class=\"legendfill\"/><g class=\"legendlines\"/><g class=\"legendsymbols\"><g class=\"legendpoints\"><path class=\"legendpie\" d=\"M6,6H-6V-6H6Z\" transform=\"translate(20,0)\" style=\"fill: rgb(215, 48, 39); fill-opacity: 1; stroke-width: 1; stroke: rgb(0, 0, 0); stroke-opacity: 1;\"/></g></g></g><rect class=\"legendtoggle\" x=\"0\" y=\"-10.6\" width=\"47\" height=\"21.2\" style=\"fill: rgb(0, 0, 0); fill-opacity: 0;\"/></g><g class=\"traces\" transform=\"translate(0.7,59.6)\" style=\"opacity: 1;\"><text class=\"legendtext\" text-anchor=\"start\" x=\"40\" y=\"5.46\" style=\"font-family: 'Times New Roman'; font-size: 14px; fill: rgb(0, 0, 0); fill-opacity: 1; white-space: pre;\">0</text><g class=\"layers\" style=\"opacity: 1;\"><g class=\"legendfill\"/><g class=\"legendlines\"/><g class=\"legendsymbols\"><g class=\"legendpoints\"><path class=\"legendpie\" d=\"M6,6H-6V-6H6Z\" transform=\"translate(20,0)\" style=\"fill: rgb(244, 109, 67); fill-opacity: 1; stroke-width: 1; stroke: rgb(0, 0, 0); stroke-opacity: 1;\"/></g></g></g><rect class=\"legendtoggle\" x=\"0\" y=\"-10.6\" width=\"47\" height=\"21.2\" style=\"fill: rgb(0, 0, 0); fill-opacity: 0;\"/></g></g></g><rect class=\"scrollbar\" rx=\"20\" ry=\"3\" width=\"0\" height=\"0\" x=\"0\" y=\"0\" style=\"fill: rgb(128, 139, 164); fill-opacity: 1;\"/></g><g class=\"g-gtitle\"><text class=\"gtitle\" x=\"210\" y=\"25\" text-anchor=\"middle\" dy=\"0.7em\" style=\"font-family: 'Times New Roman'; font-size: 26px; fill: rgb(0, 0, 0); opacity: 1; font-weight: normal; white-space: pre;\">Distribution of Homosexual Activity</text></g><g class=\"annotation\" data-index=\"0\" style=\"opacity: 1;\"><g class=\"annotation-text-g\" transform=\"rotate(0,500,477.00000000000006)\"><g class=\"cursor-pointer\" transform=\"translate(322,467)\"><rect class=\"bg\" x=\"0.5\" y=\"0.5\" width=\"355\" height=\"19\" style=\"stroke-width: 1px; stroke: rgb(0, 0, 0); stroke-opacity: 0; fill: rgb(0, 0, 0); fill-opacity: 0;\"/><text class=\"annotation-text\" text-anchor=\"middle\" x=\"178.140625\" y=\"15\" style=\"font-family: 'Open Sans', verdana, arial, sans-serif; font-size: 14px; fill: rgb(0, 0, 0); fill-opacity: 1; white-space: pre;\">Majority of patients have indulged in homosexual activity.</text></g></g></g></g></svg>"
      ]
     },
     "metadata": {},
     "output_type": "display_data"
    }
   ],
   "source": [
    "palette = cl.scales['9']['div']['RdYlBu']\n",
    "\n",
    "\n",
    "homo = df['homo'].value_counts().reset_index()\n",
    "homo.columns = ['homo', 'count']\n",
    "\n",
    "fig = go.Figure(data=[go.Pie(\n",
    "    labels=homo['homo'],\n",
    "    values=homo['count'],\n",
    "    marker=dict(colors=palette, line=dict(color='#000000', width=1)),\n",
    "    textinfo=\"label+percent\",\n",
    "    textfont=dict(size=14, color='#FFFFFF')\n",
    ")])\n",
    "\n",
    "\n",
    "fig.update_layout(\n",
    "    title_text=\"Distribution of Homosexual Activity\",\n",
    "    title_font_size=24,\n",
    "    title_font_family=\"Times New Roman\",\n",
    "    title_font_color=\"#000000\",  \n",
    "    paper_bgcolor='#ffffff',  \n",
    "    plot_bgcolor='#ffffff', \n",
    "    showlegend=True,\n",
    "    legend_title_text='Homosexual Activity (no/yes)',\n",
    "    legend=dict(\n",
    "        x=0.8,\n",
    "        y=0.5,\n",
    "        traceorder='normal',\n",
    "        font=dict(\n",
    "            family=\"Times New Roman\",\n",
    "            size=14,\n",
    "            color=\"#000000\"\n",
    "        ),\n",
    "        bgcolor=\"#ffffff\",  \n",
    "        bordercolor=\"#000000\", \n",
    "        borderwidth=0.7,\n",
    "        orientation=\"v\" \n",
    "    )\n",
    ")\n",
    "\n",
    "fig.update_layout(width=1000)\n",
    "\n",
    "fig.update_layout(\n",
    "    title={\n",
    "        'text': \"Distribution of Homosexual Activity\",\n",
    "        'y':0.95,\n",
    "        'x':0.21,\n",
    "        'xanchor': 'center',\n",
    "        'yanchor': 'top'},\n",
    "    title_font_size=26,\n",
    "    margin=dict(l=50, r=50, t=80, b=50)\n",
    ")\n",
    "\n",
    "fig.add_annotation(\n",
    "    text=\"Majority of patients have indulged in homosexual activity.\",\n",
    "    x=0.5,\n",
    "    y=-0.10,\n",
    "    showarrow=False,\n",
    "    font=dict(color=\"#000000\", size=14) \n",
    ")\n",
    "\n",
    "# Show the pie chart\n",
    "fig.show('svg')\n"
   ]
  },
  {
   "cell_type": "markdown",
   "id": "e8e663c2",
   "metadata": {
    "papermill": {
     "duration": 0.022143,
     "end_time": "2024-05-29T06:42:53.905532",
     "exception": false,
     "start_time": "2024-05-29T06:42:53.883389",
     "status": "completed"
    },
    "tags": []
   },
   "source": [
    "----------------------------------------------------------------------------------------------------------------------------------------------------------\n"
   ]
  },
  {
   "cell_type": "markdown",
   "id": "42293a7a",
   "metadata": {
    "papermill": {
     "duration": 0.024681,
     "end_time": "2024-05-29T06:42:53.952235",
     "exception": false,
     "start_time": "2024-05-29T06:42:53.927554",
     "status": "completed"
    },
    "tags": []
   },
   "source": [
    "## drugs :  history of intravenous (IV) drug use  \n",
    "\n",
    "***Conclusions***\n",
    "- *Majority of the patients do not have a history of drug use*"
   ]
  },
  {
   "cell_type": "code",
   "execution_count": 19,
   "id": "3cd18ceb",
   "metadata": {
    "execution": {
     "iopub.execute_input": "2024-05-29T06:42:53.998446Z",
     "iopub.status.busy": "2024-05-29T06:42:53.998043Z",
     "iopub.status.idle": "2024-05-29T06:42:54.006726Z",
     "shell.execute_reply": "2024-05-29T06:42:54.005541Z"
    },
    "papermill": {
     "duration": 0.034333,
     "end_time": "2024-05-29T06:42:54.008803",
     "exception": false,
     "start_time": "2024-05-29T06:42:53.974470",
     "status": "completed"
    },
    "tags": []
   },
   "outputs": [
    {
     "data": {
      "text/plain": [
       "drugs\n",
       "0    13082\n",
       "1     1918\n",
       "Name: count, dtype: int64"
      ]
     },
     "execution_count": 19,
     "metadata": {},
     "output_type": "execute_result"
    }
   ],
   "source": [
    "df['drugs'].value_counts()"
   ]
  },
  {
   "cell_type": "code",
   "execution_count": 20,
   "id": "a7a8810d",
   "metadata": {
    "execution": {
     "iopub.execute_input": "2024-05-29T06:42:54.056231Z",
     "iopub.status.busy": "2024-05-29T06:42:54.055879Z",
     "iopub.status.idle": "2024-05-29T06:42:54.120184Z",
     "shell.execute_reply": "2024-05-29T06:42:54.119047Z"
    },
    "papermill": {
     "duration": 0.091673,
     "end_time": "2024-05-29T06:42:54.122820",
     "exception": false,
     "start_time": "2024-05-29T06:42:54.031147",
     "status": "completed"
    },
    "tags": []
   },
   "outputs": [
    {
     "data": {
      "image/svg+xml": [
       "<svg class=\"main-svg\" xmlns=\"http://www.w3.org/2000/svg\" xmlns:xlink=\"http://www.w3.org/1999/xlink\" width=\"1000\" height=\"500\" style=\"\" viewBox=\"0 0 1000 500\"><rect x=\"0\" y=\"0\" width=\"1000\" height=\"500\" style=\"fill: rgb(255, 255, 255); fill-opacity: 1;\"/><defs id=\"defs-70477f\"><g class=\"clips\"/><g class=\"gradients\"/><g class=\"patterns\"/></defs><g class=\"bglayer\"/><g class=\"layer-below\"><g class=\"imagelayer\"/><g class=\"shapelayer\"/></g><g class=\"cartesianlayer\"/><g class=\"polarlayer\"/><g class=\"smithlayer\"/><g class=\"ternarylayer\"/><g class=\"geolayer\"/><g class=\"funnelarealayer\"/><g class=\"pielayer\"><g class=\"trace\" stroke-linejoin=\"round\" style=\"opacity: 1;\"><g class=\"slice\"><path class=\"surface\" d=\"M500,265l0,-185a185,185 0 1 1 -133.14961683193496,56.562546204353225Z\" style=\"pointer-events: none; fill: rgb(165, 0, 38); fill-opacity: 1; stroke-width: 1; stroke: rgb(0, 0, 0); stroke-opacity: 1;\"/><g class=\"slicetext\"><text data-notex=\"1\" class=\"slicetext\" transform=\"translate(536.166405419611,346.0350401983948)\" text-anchor=\"middle\" x=\"0\" y=\"0\" style=\"font-family: 'Open Sans', verdana, arial, sans-serif; font-size: 14px; fill: rgb(255, 255, 255); fill-opacity: 1; white-space: pre;\"><tspan class=\"line\" dy=\"0em\" x=\"0\" y=\"0\">0</tspan><tspan class=\"line\" dy=\"1.3em\" x=\"0\" y=\"0\">87.2%</tspan></text></g></g><g class=\"slice\"><path class=\"surface\" d=\"M500,265l-133.14961683193494,-128.4374537956468a185,185 0 0 1 133.14961683193494,-56.5625462043532Z\" style=\"pointer-events: none; fill: rgb(215, 48, 39); fill-opacity: 1; stroke-width: 1; stroke: rgb(0, 0, 0); stroke-opacity: 1;\"/><g class=\"slicetext\"><text data-notex=\"1\" class=\"slicetext\" transform=\"translate(447.9989747066623,138.48675243086512)\" text-anchor=\"middle\" x=\"0\" y=\"0\" style=\"font-family: 'Open Sans', verdana, arial, sans-serif; font-size: 14px; fill: rgb(255, 255, 255); fill-opacity: 1; white-space: pre;\"><tspan class=\"line\" dy=\"0em\" x=\"0\" y=\"0\">1</tspan><tspan class=\"line\" dy=\"1.3em\" x=\"0\" y=\"0\">12.8%</tspan></text></g></g></g></g><g class=\"iciclelayer\"/><g class=\"treemaplayer\"/><g class=\"sunburstlayer\"/><g class=\"glimages\"/><defs id=\"topdefs-70477f\"><g class=\"clips\"/><clipPath id=\"legend70477f\"><rect width=\"140.6\" height=\"74.6\" x=\"0.7\" y=\"0.7\"/></clipPath></defs><g class=\"layer-above\"><g class=\"imagelayer\"/><g class=\"shapelayer\"/></g><g class=\"infolayer\"><g class=\"legend\" pointer-events=\"all\" transform=\"translate(770,227)\"><rect class=\"bg\" shape-rendering=\"crispEdges\" style=\"stroke: rgb(0, 0, 0); stroke-opacity: 1; fill: rgb(255, 255, 255); fill-opacity: 1; stroke-width: 0.7px;\" width=\"141.3\" height=\"75.3\" x=\"0.35\" y=\"0.35\"/><g class=\"scrollbox\" transform=\"\" clip-path=\"url(#legend70477f)\"><text class=\"legendtitletext\" text-anchor=\"start\" x=\"2.7\" y=\"22.8\" style=\"font-family: 'Times New Roman'; font-size: 17px; fill: rgb(0, 0, 0); fill-opacity: 1; white-space: pre;\">IV drug use(no/yes)</text><g class=\"groups\"><g class=\"traces\" transform=\"translate(0.7,38.4)\" style=\"opacity: 1;\"><text class=\"legendtext\" text-anchor=\"start\" x=\"40\" y=\"5.46\" style=\"font-family: 'Times New Roman'; font-size: 14px; fill: rgb(0, 0, 0); fill-opacity: 1; white-space: pre;\">0</text><g class=\"layers\" style=\"opacity: 1;\"><g class=\"legendfill\"/><g class=\"legendlines\"/><g class=\"legendsymbols\"><g class=\"legendpoints\"><path class=\"legendpie\" d=\"M6,6H-6V-6H6Z\" transform=\"translate(20,0)\" style=\"fill: rgb(165, 0, 38); fill-opacity: 1; stroke-width: 1; stroke: rgb(0, 0, 0); stroke-opacity: 1;\"/></g></g></g><rect class=\"legendtoggle\" x=\"0\" y=\"-10.6\" width=\"47\" height=\"21.2\" style=\"fill: rgb(0, 0, 0); fill-opacity: 0;\"/></g><g class=\"traces\" transform=\"translate(0.7,59.6)\" style=\"opacity: 1;\"><text class=\"legendtext\" text-anchor=\"start\" x=\"40\" y=\"5.46\" style=\"font-family: 'Times New Roman'; font-size: 14px; fill: rgb(0, 0, 0); fill-opacity: 1; white-space: pre;\">1</text><g class=\"layers\" style=\"opacity: 1;\"><g class=\"legendfill\"/><g class=\"legendlines\"/><g class=\"legendsymbols\"><g class=\"legendpoints\"><path class=\"legendpie\" d=\"M6,6H-6V-6H6Z\" transform=\"translate(20,0)\" style=\"fill: rgb(215, 48, 39); fill-opacity: 1; stroke-width: 1; stroke: rgb(0, 0, 0); stroke-opacity: 1;\"/></g></g></g><rect class=\"legendtoggle\" x=\"0\" y=\"-10.6\" width=\"47\" height=\"21.2\" style=\"fill: rgb(0, 0, 0); fill-opacity: 0;\"/></g></g></g><rect class=\"scrollbar\" rx=\"20\" ry=\"3\" width=\"0\" height=\"0\" x=\"0\" y=\"0\" style=\"fill: rgb(128, 139, 164); fill-opacity: 1;\"/></g><g class=\"g-gtitle\"><text class=\"gtitle\" x=\"210\" y=\"25\" text-anchor=\"middle\" dy=\"0.7em\" style=\"font-family: 'Times New Roman'; font-size: 26px; fill: rgb(0, 0, 0); opacity: 1; font-weight: normal; white-space: pre;\">Distribution of Drug use</text></g><g class=\"annotation\" data-index=\"0\" style=\"opacity: 1;\"><g class=\"annotation-text-g\" transform=\"rotate(0,500,477.00000000000006)\"><g class=\"cursor-pointer\" transform=\"translate(334,467)\"><rect class=\"bg\" x=\"0.5\" y=\"0.5\" width=\"332\" height=\"19\" style=\"stroke-width: 1px; stroke: rgb(0, 0, 0); stroke-opacity: 0; fill: rgb(0, 0, 0); fill-opacity: 0;\"/><text class=\"annotation-text\" text-anchor=\"middle\" x=\"166.59375\" y=\"15\" style=\"font-family: 'Open Sans', verdana, arial, sans-serif; font-size: 14px; fill: rgb(0, 0, 0); fill-opacity: 1; white-space: pre;\">Majority of patients do not have a history of drug use.</text></g></g></g></g></svg>"
      ]
     },
     "metadata": {},
     "output_type": "display_data"
    }
   ],
   "source": [
    "palette = cl.scales['11']['div']['RdYlGn']\n",
    "\n",
    "\n",
    "drug = df['drugs'].value_counts().reset_index()\n",
    "drug.columns = ['drugs', 'count']\n",
    "\n",
    "fig = go.Figure(data=[go.Pie(\n",
    "    labels=drug['drugs'],\n",
    "    values=drug['count'],\n",
    "    marker=dict(colors=palette, line=dict(color='#000000', width=1)),\n",
    "    textinfo=\"label+percent\",\n",
    "    textfont=dict(size=14, color='#FFFFFF')\n",
    ")])\n",
    "\n",
    "\n",
    "fig.update_layout(\n",
    "    title_text=\"Distribution of Drug Use\",\n",
    "    title_font_size=24,\n",
    "    title_font_family=\"Times New Roman\",\n",
    "    title_font_color=\"#000000\",  \n",
    "    paper_bgcolor='#ffffff',  \n",
    "    plot_bgcolor='#ffffff', \n",
    "    showlegend=True,\n",
    "    legend_title_text='IV drug use(no/yes)',\n",
    "    legend=dict(\n",
    "        x=0.8,\n",
    "        y=0.5,\n",
    "        traceorder='normal',\n",
    "        font=dict(\n",
    "            family=\"Times New Roman\",\n",
    "            size=14,\n",
    "            color=\"#000000\"\n",
    "        ),\n",
    "        bgcolor=\"#ffffff\",  \n",
    "        bordercolor=\"#000000\", \n",
    "        borderwidth=0.7,\n",
    "        orientation=\"v\" \n",
    "    )\n",
    ")\n",
    "\n",
    "fig.update_layout(width=1000)\n",
    "\n",
    "fig.update_layout(\n",
    "    title={\n",
    "        'text': \"Distribution of Drug use\",\n",
    "        'y':0.95,\n",
    "        'x':0.21,\n",
    "        'xanchor': 'center',\n",
    "        'yanchor': 'top'},\n",
    "    title_font_size=26,\n",
    "    margin=dict(l=50, r=50, t=80, b=50)\n",
    ")\n",
    "\n",
    "fig.add_annotation(\n",
    "    text=\"Majority of patients do not have a history of drug use.\",\n",
    "    x=0.5,\n",
    "    y=-0.10,\n",
    "    showarrow=False,\n",
    "    font=dict(color=\"#000000\", size=14) \n",
    ")\n",
    "\n",
    "# Show the pie chart\n",
    "fig.show('svg')\n"
   ]
  },
  {
   "cell_type": "markdown",
   "id": "44f1490b",
   "metadata": {
    "papermill": {
     "duration": 0.023154,
     "end_time": "2024-05-29T06:42:54.169304",
     "exception": false,
     "start_time": "2024-05-29T06:42:54.146150",
     "status": "completed"
    },
    "tags": []
   },
   "source": [
    "----------------------------------------------------------------------------------------------------------------------------------------------------------"
   ]
  },
  {
   "cell_type": "markdown",
   "id": "2777d324",
   "metadata": {
    "papermill": {
     "duration": 0.023122,
     "end_time": "2024-05-29T06:42:54.215325",
     "exception": false,
     "start_time": "2024-05-29T06:42:54.192203",
     "status": "completed"
    },
    "tags": []
   },
   "source": [
    "## karnof: Karnofsky score (on a scale of 0-100)\n",
    "\n",
    "***About***\n",
    "<div>\n",
    "    <p>\n",
    "The Karnofsky Performance Status (KPS) is a widely used measure of functional status and overall well-being in patients with various medical conditions, including AIDS  \n",
    "    In the context of AIDS, the Karnofsky score is particularly relevant for evaluating the impact of the disease on a patient's functional status and determining appropriate treatment and supportive care interventions. The score is typically assessed through a brief clinical evaluation and is based on the patient's ability to perform activities such as self-care, ambulation, and work.\n",
    "\n",
    "The Karnofsky score ranges from 0 to 100, with higher scores indicating better functional status and overall well-being. </p>\n",
    "        <ul>\n",
    "            <li>\n",
    "                100: Normal, no evidence of disease, able to carry on normal activities without any restrictions.\n",
    "            </li>\n",
    "            <li>\n",
    "                90: Able to carry on normal activities with minimal signs or symptoms of disease.\n",
    "            </li>\n",
    "            <li>\n",
    "                80: Normal activities with some signs or symptoms of disease, but generally able to care for oneself.\n",
    "            </li>\n",
    "            <li>\n",
    "                70: Cares for self but unable to carry on normal activities or to do active work.\n",
    "            </li>\n",
    "            <li>\n",
    "                60: Requires occasional assistance, but is able to care for most personal needs.\n",
    "            </li>\n",
    "            <li>\n",
    "                50: Requires considerable assistance and frequent medical care.\n",
    "            </li>\n",
    "            <li>\n",
    "                40: Disabled, requires special care and assistance.\n",
    "            </li>\n",
    "            <li>\n",
    "                30: Severely disabled, hospitalization is indicated, although death is not imminent.\n",
    "            </li>\n",
    "            <li>\n",
    "                20: Very sick, hospitalization necessary, active supportive treatment necessary.\n",
    "            </li>\n",
    "            <li>\n",
    "                10: Moribund, fatal processes progressing rapidly.\n",
    "            </li>\n",
    "            <li>\n",
    "                0: Dead.\n",
    "            </li>\n",
    "        </ul>\n",
    "</div>\n",
    "\n",
    "\n",
    "***Conclusions***\n",
    "\n",
    "- *The distribution is negatively skewed as most of the patients have karnfosky score of 100 which is a good sign*"
   ]
  },
  {
   "cell_type": "code",
   "execution_count": 21,
   "id": "98bb634f",
   "metadata": {
    "execution": {
     "iopub.execute_input": "2024-05-29T06:42:54.263209Z",
     "iopub.status.busy": "2024-05-29T06:42:54.262578Z",
     "iopub.status.idle": "2024-05-29T06:42:54.271214Z",
     "shell.execute_reply": "2024-05-29T06:42:54.270157Z"
    },
    "papermill": {
     "duration": 0.035402,
     "end_time": "2024-05-29T06:42:54.273522",
     "exception": false,
     "start_time": "2024-05-29T06:42:54.238120",
     "status": "completed"
    },
    "tags": []
   },
   "outputs": [
    {
     "data": {
      "text/plain": [
       "karnof\n",
       "100    10512\n",
       "90      4106\n",
       "80       117\n",
       "81       103\n",
       "82        60\n",
       "79        60\n",
       "83        18\n",
       "91        15\n",
       "78         8\n",
       "77         1\n",
       "Name: count, dtype: int64"
      ]
     },
     "execution_count": 21,
     "metadata": {},
     "output_type": "execute_result"
    }
   ],
   "source": [
    "df['karnof'].value_counts().sort_values(ascending = False)"
   ]
  },
  {
   "cell_type": "markdown",
   "id": "c1a81a21",
   "metadata": {
    "papermill": {
     "duration": 0.022774,
     "end_time": "2024-05-29T06:42:54.319503",
     "exception": false,
     "start_time": "2024-05-29T06:42:54.296729",
     "status": "completed"
    },
    "tags": []
   },
   "source": [
    "*Most of the people have the karnofsky score of 100*"
   ]
  },
  {
   "cell_type": "code",
   "execution_count": 22,
   "id": "ad575455",
   "metadata": {
    "execution": {
     "iopub.execute_input": "2024-05-29T06:42:54.370692Z",
     "iopub.status.busy": "2024-05-29T06:42:54.369437Z",
     "iopub.status.idle": "2024-05-29T06:42:54.496095Z",
     "shell.execute_reply": "2024-05-29T06:42:54.494961Z"
    },
    "papermill": {
     "duration": 0.15618,
     "end_time": "2024-05-29T06:42:54.498463",
     "exception": false,
     "start_time": "2024-05-29T06:42:54.342283",
     "status": "completed"
    },
    "tags": []
   },
   "outputs": [
    {
     "data": {
      "image/svg+xml": [
       "<svg class=\"main-svg\" xmlns=\"http://www.w3.org/2000/svg\" xmlns:xlink=\"http://www.w3.org/1999/xlink\" width=\"1000\" height=\"500\" style=\"\" viewBox=\"0 0 1000 500\"><rect x=\"0\" y=\"0\" width=\"1000\" height=\"500\" style=\"fill: rgb(255, 255, 255); fill-opacity: 1;\"/><defs id=\"defs-2630eb\"><g class=\"clips\"><clipPath id=\"clip2630ebxyplot\" class=\"plotclip\"><rect width=\"893\" height=\"367\"/></clipPath><clipPath class=\"axesclip\" id=\"clip2630ebx\"><rect x=\"57\" y=\"0\" width=\"893\" height=\"500\"/></clipPath><clipPath class=\"axesclip\" id=\"clip2630eby\"><rect x=\"0\" y=\"80\" width=\"1000\" height=\"367\"/></clipPath><clipPath class=\"axesclip\" id=\"clip2630ebxy\"><rect x=\"57\" y=\"80\" width=\"893\" height=\"367\"/></clipPath></g><g class=\"gradients\"/><g class=\"patterns\"/></defs><g class=\"bglayer\"/><g class=\"layer-below\"><g class=\"imagelayer\"/><g class=\"shapelayer\"/></g><g class=\"cartesianlayer\"><g class=\"subplot xy\"><g class=\"layer-subplot\"><g class=\"shapelayer\"/><g class=\"imagelayer\"/></g><g class=\"minor-gridlayer\"><g class=\"x\"/><g class=\"y\"/></g><g class=\"gridlayer\"><g class=\"x\"/><g class=\"y\"><path class=\"ygrid crisp\" transform=\"translate(0,380.67)\" d=\"M57,0h893\" style=\"stroke: rgb(255, 255, 255); stroke-opacity: 1; stroke-width: 1px;\"/><path class=\"ygrid crisp\" transform=\"translate(0,314.33000000000004)\" d=\"M57,0h893\" style=\"stroke: rgb(255, 255, 255); stroke-opacity: 1; stroke-width: 1px;\"/><path class=\"ygrid crisp\" transform=\"translate(0,248)\" d=\"M57,0h893\" style=\"stroke: rgb(255, 255, 255); stroke-opacity: 1; stroke-width: 1px;\"/><path class=\"ygrid crisp\" transform=\"translate(0,181.67000000000002)\" d=\"M57,0h893\" style=\"stroke: rgb(255, 255, 255); stroke-opacity: 1; stroke-width: 1px;\"/><path class=\"ygrid crisp\" transform=\"translate(0,115.33)\" d=\"M57,0h893\" style=\"stroke: rgb(255, 255, 255); stroke-opacity: 1; stroke-width: 1px;\"/></g></g><g class=\"zerolinelayer\"><path class=\"yzl zl crisp\" transform=\"translate(0,447)\" d=\"M57,0h893\" style=\"stroke: rgb(255, 255, 255); stroke-opacity: 1; stroke-width: 2px;\"/></g><path class=\"xlines-below\"/><path class=\"ylines-below\"/><g class=\"overlines-below\"/><g class=\"xaxislayer-below\"/><g class=\"yaxislayer-below\"/><g class=\"overaxes-below\"/><g class=\"plot\" transform=\"translate(57,80)\" clip-path=\"url(#clip2630ebxyplot)\"><g class=\"barlayer mlayer\"><g class=\"trace bars\" shape-rendering=\"crispEdges\" style=\"opacity: 1;\"><g class=\"points\"><g class=\"point\"><path d=\"M0,367V364.71H148.83V367Z\" style=\"vector-effect: none; opacity: 1; stroke-width: 0px; fill: rgb(215, 48, 39); fill-opacity: 1;\"/></g><g class=\"point\"><path d=\"M148.83,367V357.12H297.67V367Z\" style=\"vector-effect: none; opacity: 1; stroke-width: 0px; fill: rgb(215, 48, 39); fill-opacity: 1;\"/></g><g class=\"point\"><path d=\"M0,0Z\" style=\"vector-effect: none; opacity: 1; stroke-width: 0px; fill: rgb(215, 48, 39); fill-opacity: 1;\"/></g><g class=\"point\"><path d=\"M446.5,367V230.32H595.33V367Z\" style=\"vector-effect: none; opacity: 1; stroke-width: 0px; fill: rgb(215, 48, 39); fill-opacity: 1;\"/></g><g class=\"point\"><path d=\"M0,0Z\" style=\"vector-effect: none; opacity: 1; stroke-width: 0px; fill: rgb(215, 48, 39); fill-opacity: 1;\"/></g><g class=\"point\"><path d=\"M744.17,367V18.35H893V367Z\" style=\"vector-effect: none; opacity: 1; stroke-width: 0px; fill: rgb(215, 48, 39); fill-opacity: 1;\"/></g></g></g></g></g><g class=\"overplot\"/><path class=\"xlines-above crisp\" d=\"M0,0\" style=\"fill: none;\"/><path class=\"ylines-above crisp\" d=\"M0,0\" style=\"fill: none;\"/><g class=\"overlines-above\"/><g class=\"xaxislayer-above\"><g class=\"xtick\"><text text-anchor=\"middle\" x=\"0\" y=\"460\" transform=\"translate(71.88,0)\" style=\"font-family: 'Open Sans', verdana, arial, sans-serif; font-size: 12px; fill: rgb(42, 63, 95); fill-opacity: 1; white-space: pre; opacity: 1;\">75</text></g><g class=\"xtick\"><text text-anchor=\"middle\" x=\"0\" y=\"460\" style=\"font-family: 'Open Sans', verdana, arial, sans-serif; font-size: 12px; fill: rgb(42, 63, 95); fill-opacity: 1; white-space: pre; opacity: 1;\" transform=\"translate(220.72,0)\">80</text></g><g class=\"xtick\"><text text-anchor=\"middle\" x=\"0\" y=\"460\" style=\"font-family: 'Open Sans', verdana, arial, sans-serif; font-size: 12px; fill: rgb(42, 63, 95); fill-opacity: 1; white-space: pre; opacity: 1;\" transform=\"translate(369.55,0)\">85</text></g><g class=\"xtick\"><text text-anchor=\"middle\" x=\"0\" y=\"460\" style=\"font-family: 'Open Sans', verdana, arial, sans-serif; font-size: 12px; fill: rgb(42, 63, 95); fill-opacity: 1; white-space: pre; opacity: 1;\" transform=\"translate(518.38,0)\">90</text></g><g class=\"xtick\"><text text-anchor=\"middle\" x=\"0\" y=\"460\" style=\"font-family: 'Open Sans', verdana, arial, sans-serif; font-size: 12px; fill: rgb(42, 63, 95); fill-opacity: 1; white-space: pre; opacity: 1;\" transform=\"translate(667.22,0)\">95</text></g><g class=\"xtick\"><text text-anchor=\"middle\" x=\"0\" y=\"460\" style=\"font-family: 'Open Sans', verdana, arial, sans-serif; font-size: 12px; fill: rgb(42, 63, 95); fill-opacity: 1; white-space: pre; opacity: 1;\" transform=\"translate(816.05,0)\">100</text></g></g><g class=\"yaxislayer-above\"><g class=\"ytick\"><text text-anchor=\"end\" x=\"56\" y=\"4.199999999999999\" transform=\"translate(0,447)\" style=\"font-family: 'Open Sans', verdana, arial, sans-serif; font-size: 12px; fill: rgb(42, 63, 95); fill-opacity: 1; white-space: pre; opacity: 1;\">0</text></g><g class=\"ytick\"><text text-anchor=\"end\" x=\"56\" y=\"4.199999999999999\" style=\"font-family: 'Open Sans', verdana, arial, sans-serif; font-size: 12px; fill: rgb(42, 63, 95); fill-opacity: 1; white-space: pre; opacity: 1;\" transform=\"translate(0,380.67)\">2k</text></g><g class=\"ytick\"><text text-anchor=\"end\" x=\"56\" y=\"4.199999999999999\" style=\"font-family: 'Open Sans', verdana, arial, sans-serif; font-size: 12px; fill: rgb(42, 63, 95); fill-opacity: 1; white-space: pre; opacity: 1;\" transform=\"translate(0,314.33000000000004)\">4k</text></g><g class=\"ytick\"><text text-anchor=\"end\" x=\"56\" y=\"4.199999999999999\" style=\"font-family: 'Open Sans', verdana, arial, sans-serif; font-size: 12px; fill: rgb(42, 63, 95); fill-opacity: 1; white-space: pre; opacity: 1;\" transform=\"translate(0,248)\">6k</text></g><g class=\"ytick\"><text text-anchor=\"end\" x=\"56\" y=\"4.199999999999999\" style=\"font-family: 'Open Sans', verdana, arial, sans-serif; font-size: 12px; fill: rgb(42, 63, 95); fill-opacity: 1; white-space: pre; opacity: 1;\" transform=\"translate(0,181.67000000000002)\">8k</text></g><g class=\"ytick\"><text text-anchor=\"end\" x=\"56\" y=\"4.199999999999999\" style=\"font-family: 'Open Sans', verdana, arial, sans-serif; font-size: 12px; fill: rgb(42, 63, 95); fill-opacity: 1; white-space: pre; opacity: 1;\" transform=\"translate(0,115.33)\">10k</text></g></g><g class=\"overaxes-above\"/></g></g><g class=\"polarlayer\"/><g class=\"smithlayer\"/><g class=\"ternarylayer\"/><g class=\"geolayer\"/><g class=\"funnelarealayer\"/><g class=\"pielayer\"/><g class=\"iciclelayer\"/><g class=\"treemaplayer\"/><g class=\"sunburstlayer\"/><g class=\"glimages\"/><defs id=\"topdefs-2630eb\"><g class=\"clips\"/></defs><g class=\"layer-above\"><g class=\"imagelayer\"/><g class=\"shapelayer\"/></g><g class=\"infolayer\"><g class=\"g-gtitle\"><text class=\"gtitle\" x=\"210\" y=\"25\" text-anchor=\"middle\" dy=\"0.7em\" style=\"font-family: 'Times New Roman'; font-size: 26px; fill: rgb(0, 0, 0); opacity: 1; font-weight: normal; white-space: pre;\">Karnofsky Score Distribution</text></g><g class=\"g-xtitle\"><text class=\"xtitle\" x=\"503.5\" y=\"487.3\" text-anchor=\"middle\" style=\"font-family: 'Open Sans', verdana, arial, sans-serif; font-size: 14px; fill: rgb(42, 63, 95); opacity: 1; font-weight: normal; white-space: pre;\">Karnofsky Score</text></g><g class=\"g-ytitle\" transform=\"translate(0.6591796875,0)\"><text class=\"ytitle\" transform=\"rotate(-90,12.340625000000003,263.5)\" x=\"12.340625000000003\" y=\"263.5\" text-anchor=\"middle\" style=\"font-family: 'Open Sans', verdana, arial, sans-serif; font-size: 14px; fill: rgb(42, 63, 95); opacity: 1; font-weight: normal; white-space: pre;\">Frequency</text></g></g></svg>"
      ]
     },
     "metadata": {},
     "output_type": "display_data"
    }
   ],
   "source": [
    "fig = go.Figure(data=[go.Histogram(\n",
    "    x=df['karnof'],\n",
    "    marker=dict(color=palette[1]),  # Use the second color from the palette\n",
    "    nbinsx=10\n",
    ")])\n",
    "\n",
    "# Update layout\n",
    "fig.update_layout(\n",
    "    title_text=\"Karnofsky Score Distribution\",\n",
    "    title_font_size=24,\n",
    "    title_font_family=\"Times New Roman\",\n",
    "    title_font_color=\"#000000\",\n",
    "    paper_bgcolor='#ffffff',\n",
    "    plot_bgcolor='#ffffff',\n",
    "    xaxis=dict(title=\"Karnofsky Score\"),\n",
    "    yaxis=dict(title=\"Frequency\"),\n",
    ")\n",
    "\n",
    "# Set title properties\n",
    "fig.update_layout(\n",
    "    title={\n",
    "        'text': \"Karnofsky Score Distribution\",\n",
    "        'y':0.95,\n",
    "        'x':0.21,\n",
    "        'xanchor': 'center',\n",
    "        'yanchor': 'top'},\n",
    "    title_font_size=26,\n",
    "    margin=dict(l=50, r=50, t=80, b=50)\n",
    ")\n",
    "\n",
    "# Set the width of the figure\n",
    "fig.update_layout(width=1000)\n",
    "\n",
    "# Show the histogram\n",
    "fig.show('svg')"
   ]
  },
  {
   "cell_type": "code",
   "execution_count": 23,
   "id": "0ab9949b",
   "metadata": {
    "execution": {
     "iopub.execute_input": "2024-05-29T06:42:54.547856Z",
     "iopub.status.busy": "2024-05-29T06:42:54.546826Z",
     "iopub.status.idle": "2024-05-29T06:42:54.693176Z",
     "shell.execute_reply": "2024-05-29T06:42:54.692295Z"
    },
    "papermill": {
     "duration": 0.173338,
     "end_time": "2024-05-29T06:42:54.695483",
     "exception": false,
     "start_time": "2024-05-29T06:42:54.522145",
     "status": "completed"
    },
    "tags": []
   },
   "outputs": [
    {
     "data": {
      "image/png": "[encoded data removed]"
     },
     "metadata": {},
     "output_type": "display_data"
    }
   ],
   "source": [
    "fig = go.Figure(data=[go.Box(\n",
    "    x=df['karnof'],\n",
    "    marker=dict(color=palette[1])\n",
    ")])\n",
    "\n",
    "fig.update_layout(\n",
    "    title_text=\"Boxplot of Karnofsky Score\",\n",
    "    title_font_size=24,\n",
    "    title_font_family=\"Times New Roman\",\n",
    "    title_font_color=\"#000000\",  \n",
    "    paper_bgcolor='#ffffff',  \n",
    "    plot_bgcolor='#ffffff',  \n",
    "    xaxis=dict(title=\"Karnofsky score\"),\n",
    ")\n",
    "\n",
    "fig.update_layout(\n",
    "    title={\n",
    "        'y':0.95,\n",
    "        'x':0.15,\n",
    "        'xanchor': 'center',\n",
    "        'yanchor': 'top'},\n",
    "    title_font_size=26,\n",
    "    margin=dict(l=50, r=50, t=80, b=50)\n",
    ")\n",
    "\n",
    "\n",
    "\n",
    "fig.update_layout(width=1000)\n",
    "\n",
    "fig.show('png')"
   ]
  },
  {
   "cell_type": "code",
   "execution_count": 24,
   "id": "82686c4d",
   "metadata": {
    "execution": {
     "iopub.execute_input": "2024-05-29T06:42:54.745204Z",
     "iopub.status.busy": "2024-05-29T06:42:54.744775Z",
     "iopub.status.idle": "2024-05-29T06:42:54.752083Z",
     "shell.execute_reply": "2024-05-29T06:42:54.751102Z"
    },
    "papermill": {
     "duration": 0.034252,
     "end_time": "2024-05-29T06:42:54.754109",
     "exception": false,
     "start_time": "2024-05-29T06:42:54.719857",
     "status": "completed"
    },
    "tags": []
   },
   "outputs": [
    {
     "data": {
      "text/plain": [
       "-1.243294303843015"
      ]
     },
     "execution_count": 24,
     "metadata": {},
     "output_type": "execute_result"
    }
   ],
   "source": [
    "df['karnof'].skew()"
   ]
  },
  {
   "cell_type": "markdown",
   "id": "cc0d7e59",
   "metadata": {
    "papermill": {
     "duration": 0.023289,
     "end_time": "2024-05-29T06:42:54.800855",
     "exception": false,
     "start_time": "2024-05-29T06:42:54.777566",
     "status": "completed"
    },
    "tags": []
   },
   "source": [
    "*negatively skewed data*"
   ]
  },
  {
   "cell_type": "markdown",
   "id": "9c10c3ce",
   "metadata": {
    "papermill": {
     "duration": 0.024346,
     "end_time": "2024-05-29T06:42:54.848888",
     "exception": false,
     "start_time": "2024-05-29T06:42:54.824542",
     "status": "completed"
    },
    "tags": []
   },
   "source": [
    "----------------------------------------------------------------------------------------------------------------------------------------------------------"
   ]
  },
  {
   "cell_type": "markdown",
   "id": "f8b3d7d8",
   "metadata": {
    "papermill": {
     "duration": 0.024058,
     "end_time": "2024-05-29T06:42:54.896250",
     "exception": false,
     "start_time": "2024-05-29T06:42:54.872192",
     "status": "completed"
    },
    "tags": []
   },
   "source": [
    "## oprior: Non-ZDV antiretroviral therapy pre-175 \n",
    "\n",
    "***About***\n",
    "\n",
    "<div>\n",
    "    <p>\n",
    "        Antiretroviral therapy (ART) is a critical component of managing HIV infection, and non-ZDV therapies refer to antiretroviral medications other than Zidovudine. Monitoring the administration of such therapies in the context of AIDS infection datasets helps researchers understand the impact of different treatment regimens on disease progression, patient outcomes, and overall healthcare management strategies.\n",
    "        </p>\n",
    "    <br>\n",
    "    <p>\n",
    "        \"oprior\"  represents whether non-ZDV (Zidovudine) antiretroviral therapy was administered prior to 175 weeks (approximately 3.3 years) of observation. The values \"0\" typically indicate \"no\" or absence of the treatment, while \"1\" signifies \"yes\" or presence of the treatment.\n",
    "       </p>\n",
    "   \n",
    "   </div>\n",
    "   \n",
    "***Conclusion***\n",
    "\n",
    "- *Majority of the patients were not administered the antiretroviral therapy*"
   ]
  },
  {
   "cell_type": "code",
   "execution_count": 25,
   "id": "f1dece4b",
   "metadata": {
    "execution": {
     "iopub.execute_input": "2024-05-29T06:42:54.950601Z",
     "iopub.status.busy": "2024-05-29T06:42:54.950199Z",
     "iopub.status.idle": "2024-05-29T06:42:54.958650Z",
     "shell.execute_reply": "2024-05-29T06:42:54.957431Z"
    },
    "papermill": {
     "duration": 0.036952,
     "end_time": "2024-05-29T06:42:54.960679",
     "exception": false,
     "start_time": "2024-05-29T06:42:54.923727",
     "status": "completed"
    },
    "tags": []
   },
   "outputs": [
    {
     "data": {
      "text/plain": [
       "oprior\n",
       "0    14384\n",
       "1      616\n",
       "Name: count, dtype: int64"
      ]
     },
     "execution_count": 25,
     "metadata": {},
     "output_type": "execute_result"
    }
   ],
   "source": [
    "df['oprior'].value_counts()"
   ]
  },
  {
   "cell_type": "markdown",
   "id": "8e0de610",
   "metadata": {
    "papermill": {
     "duration": 0.023083,
     "end_time": "2024-05-29T06:42:55.007230",
     "exception": false,
     "start_time": "2024-05-29T06:42:54.984147",
     "status": "completed"
    },
    "tags": []
   },
   "source": [
    "*antiretroviral therapy was `not` administered in majority of the patients*"
   ]
  },
  {
   "cell_type": "markdown",
   "id": "119075e2",
   "metadata": {
    "papermill": {
     "duration": 0.023259,
     "end_time": "2024-05-29T06:42:55.053982",
     "exception": false,
     "start_time": "2024-05-29T06:42:55.030723",
     "status": "completed"
    },
    "tags": []
   },
   "source": [
    "----------------------------------------------------------------------------------------------------------------------------------------------------------"
   ]
  },
  {
   "cell_type": "markdown",
   "id": "8490a6f0",
   "metadata": {
    "papermill": {
     "duration": 0.023711,
     "end_time": "2024-05-29T06:42:55.102172",
     "exception": false,
     "start_time": "2024-05-29T06:42:55.078461",
     "status": "completed"
    },
    "tags": []
   },
   "source": [
    "## z30: ZDV in the 30 days prior to 175\n",
    "\n",
    "***About***\n",
    "\n",
    "<div>\n",
    "    <p>\n",
    "       The variable \"z30\" refers to whether Zidovudine (ZDV), an antiretroviral medication, was administered in the 30 days prior to the 175-week mark of observation. \n",
    "        </p>\n",
    "    <br>\n",
    "    <p>\n",
    "        Zidovudine, also known as AZT, was one of the first drugs used to treat HIV and remains an important component of antiretroviral therapy. By examining the \"z30\" variable, researchers can assess the short-term use of ZDV leading up to the 175-week mark and its potential impact on patient outcomes. \n",
    "       </p>\n",
    "   \n",
    "   </div>\n",
    "   \n",
    "***Conclusion***\n",
    "\n",
    "- *No evident high correlation*\n",
    "- *Most of the patients were administered the drug*"
   ]
  },
  {
   "cell_type": "code",
   "execution_count": 26,
   "id": "8e23b8f7",
   "metadata": {
    "execution": {
     "iopub.execute_input": "2024-05-29T06:42:55.152295Z",
     "iopub.status.busy": "2024-05-29T06:42:55.151684Z",
     "iopub.status.idle": "2024-05-29T06:42:55.159945Z",
     "shell.execute_reply": "2024-05-29T06:42:55.158801Z"
    },
    "papermill": {
     "duration": 0.035637,
     "end_time": "2024-05-29T06:42:55.162049",
     "exception": false,
     "start_time": "2024-05-29T06:42:55.126412",
     "status": "completed"
    },
    "tags": []
   },
   "outputs": [
    {
     "data": {
      "text/plain": [
       "z30\n",
       "1    9688\n",
       "0    5312\n",
       "Name: count, dtype: int64"
      ]
     },
     "execution_count": 26,
     "metadata": {},
     "output_type": "execute_result"
    }
   ],
   "source": [
    "df['z30'].value_counts()"
   ]
  },
  {
   "cell_type": "code",
   "execution_count": 27,
   "id": "7bce5533",
   "metadata": {
    "execution": {
     "iopub.execute_input": "2024-05-29T06:42:55.212102Z",
     "iopub.status.busy": "2024-05-29T06:42:55.211493Z",
     "iopub.status.idle": "2024-05-29T06:42:55.247002Z",
     "shell.execute_reply": "2024-05-29T06:42:55.245869Z"
    },
    "papermill": {
     "duration": 0.063656,
     "end_time": "2024-05-29T06:42:55.249401",
     "exception": false,
     "start_time": "2024-05-29T06:42:55.185745",
     "status": "completed"
    },
    "tags": []
   },
   "outputs": [
    {
     "data": {
      "text/plain": [
       "time         -8.618930\n",
       "trt           2.173557\n",
       "age          13.073698\n",
       "wtkg         -8.469138\n",
       "hemo          6.097358\n",
       "homo          0.272864\n",
       "drugs        -3.663879\n",
       "karnof      -12.277447\n",
       "oprior        5.348880\n",
       "z30         100.000000\n",
       "preanti      42.378861\n",
       "race         -9.860449\n",
       "gender       -1.681352\n",
       "str2         60.919072\n",
       "strat        57.333837\n",
       "symptom       1.727802\n",
       "treat         3.788999\n",
       "offtrt       -0.473082\n",
       "cd40        -20.962515\n",
       "cd420       -28.923362\n",
       "cd80         -2.207320\n",
       "cd820         0.621898\n",
       "infected     23.716859\n",
       "Name: z30, dtype: float64"
      ]
     },
     "execution_count": 27,
     "metadata": {},
     "output_type": "execute_result"
    }
   ],
   "source": [
    "df.corr()['z30']*100\n"
   ]
  },
  {
   "cell_type": "markdown",
   "id": "85f37f5d",
   "metadata": {
    "papermill": {
     "duration": 0.024778,
     "end_time": "2024-05-29T06:42:55.298852",
     "exception": false,
     "start_time": "2024-05-29T06:42:55.274074",
     "status": "completed"
    },
    "tags": []
   },
   "source": [
    "*z30 doesn't seem to have a high correlation with most of the variables. `str2 :antiretroviral history ` and z30 are slightly correlated* "
   ]
  },
  {
   "cell_type": "code",
   "execution_count": 28,
   "id": "d7bc1329",
   "metadata": {
    "execution": {
     "iopub.execute_input": "2024-05-29T06:42:55.349164Z",
     "iopub.status.busy": "2024-05-29T06:42:55.348520Z",
     "iopub.status.idle": "2024-05-29T06:42:55.410107Z",
     "shell.execute_reply": "2024-05-29T06:42:55.408829Z"
    },
    "papermill": {
     "duration": 0.089506,
     "end_time": "2024-05-29T06:42:55.412543",
     "exception": false,
     "start_time": "2024-05-29T06:42:55.323037",
     "status": "completed"
    },
    "tags": []
   },
   "outputs": [
    {
     "data": {
      "image/svg+xml": [
       "<svg class=\"main-svg\" xmlns=\"http://www.w3.org/2000/svg\" xmlns:xlink=\"http://www.w3.org/1999/xlink\" width=\"1000\" height=\"500\" style=\"\" viewBox=\"0 0 1000 500\"><rect x=\"0\" y=\"0\" width=\"1000\" height=\"500\" style=\"fill: rgb(255, 255, 255); fill-opacity: 1;\"/><defs id=\"defs-a87a44\"><g class=\"clips\"/><g class=\"gradients\"/><g class=\"patterns\"/></defs><g class=\"bglayer\"/><g class=\"layer-below\"><g class=\"imagelayer\"/><g class=\"shapelayer\"/></g><g class=\"cartesianlayer\"/><g class=\"polarlayer\"/><g class=\"smithlayer\"/><g class=\"ternarylayer\"/><g class=\"geolayer\"/><g class=\"funnelarealayer\"/><g class=\"pielayer\"><g class=\"trace\" stroke-linejoin=\"round\" style=\"opacity: 1;\"><g class=\"slice\"><path class=\"surface\" d=\"M500,265l0,-185a185,185 0 1 1 -146.79395199334738,297.5901223828042Z\" style=\"pointer-events: none; fill: rgb(165, 0, 38); fill-opacity: 1; stroke-width: 1; stroke: rgb(0, 0, 0); stroke-opacity: 1;\"/><g class=\"slicetext\"><text data-notex=\"1\" class=\"slicetext\" transform=\"translate(582.9564438732903,301.8188287481009)\" text-anchor=\"middle\" x=\"0\" y=\"0\" style=\"font-family: 'Open Sans', verdana, arial, sans-serif; font-size: 14px; fill: rgb(255, 255, 255); fill-opacity: 1; white-space: pre;\"><tspan class=\"line\" dy=\"0em\" x=\"0\" y=\"0\">1</tspan><tspan class=\"line\" dy=\"1.3em\" x=\"0\" y=\"0\">64.6%</tspan></text></g></g><g class=\"slice\"><path class=\"surface\" d=\"M500,265l-146.7939519933474,112.59012238280415a185,185 0 0 1 146.7939519933474,-297.59012238280417Z\" style=\"pointer-events: none; fill: rgb(215, 48, 39); fill-opacity: 1; stroke-width: 1; stroke: rgb(0, 0, 0); stroke-opacity: 1;\"/><g class=\"slicetext\"><text data-notex=\"1\" class=\"slicetext\" transform=\"translate(412.5313281304058,217.75227419142576)\" text-anchor=\"middle\" x=\"0\" y=\"0\" style=\"font-family: 'Open Sans', verdana, arial, sans-serif; font-size: 14px; fill: rgb(255, 255, 255); fill-opacity: 1; white-space: pre;\"><tspan class=\"line\" dy=\"0em\" x=\"0\" y=\"0\">0</tspan><tspan class=\"line\" dy=\"1.3em\" x=\"0\" y=\"0\">35.4%</tspan></text></g></g></g></g><g class=\"iciclelayer\"/><g class=\"treemaplayer\"/><g class=\"sunburstlayer\"/><g class=\"glimages\"/><defs id=\"topdefs-a87a44\"><g class=\"clips\"/><clipPath id=\"legenda87a44\"><rect width=\"156.6\" height=\"74.6\" x=\"0.7\" y=\"0.7\"/></clipPath></defs><g class=\"layer-above\"><g class=\"imagelayer\"/><g class=\"shapelayer\"/></g><g class=\"infolayer\"><g class=\"legend\" pointer-events=\"all\" transform=\"translate(770,227)\"><rect class=\"bg\" shape-rendering=\"crispEdges\" style=\"stroke: rgb(0, 0, 0); stroke-opacity: 1; fill: rgb(255, 255, 255); fill-opacity: 1; stroke-width: 0.7px;\" width=\"157.3\" height=\"75.3\" x=\"0.35\" y=\"0.35\"/><g class=\"scrollbox\" transform=\"\" clip-path=\"url(#legenda87a44)\"><text class=\"legendtitletext\" text-anchor=\"start\" x=\"2.7\" y=\"22.8\" style=\"font-family: 'Times New Roman'; font-size: 17px; fill: rgb(0, 0, 0); fill-opacity: 1; white-space: pre;\">Administered (no/yes)</text><g class=\"groups\"><g class=\"traces\" transform=\"translate(0.7,38.4)\" style=\"opacity: 1;\"><text class=\"legendtext\" text-anchor=\"start\" x=\"40\" y=\"5.46\" style=\"font-family: 'Times New Roman'; font-size: 14px; fill: rgb(0, 0, 0); fill-opacity: 1; white-space: pre;\">1</text><g class=\"layers\" style=\"opacity: 1;\"><g class=\"legendfill\"/><g class=\"legendlines\"/><g class=\"legendsymbols\"><g class=\"legendpoints\"><path class=\"legendpie\" d=\"M6,6H-6V-6H6Z\" transform=\"translate(20,0)\" style=\"fill: rgb(165, 0, 38); fill-opacity: 1; stroke-width: 1; stroke: rgb(0, 0, 0); stroke-opacity: 1;\"/></g></g></g><rect class=\"legendtoggle\" x=\"0\" y=\"-10.6\" width=\"47\" height=\"21.2\" style=\"fill: rgb(0, 0, 0); fill-opacity: 0;\"/></g><g class=\"traces\" transform=\"translate(0.7,59.6)\" style=\"opacity: 1;\"><text class=\"legendtext\" text-anchor=\"start\" x=\"40\" y=\"5.46\" style=\"font-family: 'Times New Roman'; font-size: 14px; fill: rgb(0, 0, 0); fill-opacity: 1; white-space: pre;\">0</text><g class=\"layers\" style=\"opacity: 1;\"><g class=\"legendfill\"/><g class=\"legendlines\"/><g class=\"legendsymbols\"><g class=\"legendpoints\"><path class=\"legendpie\" d=\"M6,6H-6V-6H6Z\" transform=\"translate(20,0)\" style=\"fill: rgb(215, 48, 39); fill-opacity: 1; stroke-width: 1; stroke: rgb(0, 0, 0); stroke-opacity: 1;\"/></g></g></g><rect class=\"legendtoggle\" x=\"0\" y=\"-10.6\" width=\"47\" height=\"21.2\" style=\"fill: rgb(0, 0, 0); fill-opacity: 0;\"/></g></g></g><rect class=\"scrollbar\" rx=\"20\" ry=\"3\" width=\"0\" height=\"0\" x=\"0\" y=\"0\" style=\"fill: rgb(128, 139, 164); fill-opacity: 1;\"/></g><g class=\"g-gtitle\"><text class=\"gtitle\" x=\"210\" y=\"25\" text-anchor=\"middle\" dy=\"0.7em\" style=\"font-family: 'Times New Roman'; font-size: 26px; fill: rgb(0, 0, 0); opacity: 1; font-weight: normal; white-space: pre;\">Distribution of administration of ZDV</text></g><g class=\"annotation\" data-index=\"0\" style=\"opacity: 1;\"><g class=\"annotation-text-g\" transform=\"rotate(0,500,477.00000000000006)\"><g class=\"cursor-pointer\" transform=\"translate(317,467)\"><rect class=\"bg\" x=\"0.5\" y=\"0.5\" width=\"366\" height=\"19\" style=\"stroke-width: 1px; stroke: rgb(0, 0, 0); stroke-opacity: 0; fill: rgb(0, 0, 0); fill-opacity: 0;\"/><text class=\"annotation-text\" text-anchor=\"middle\" x=\"183.3125\" y=\"15\" style=\"font-family: 'Open Sans', verdana, arial, sans-serif; font-size: 14px; fill: rgb(0, 0, 0); fill-opacity: 1; white-space: pre;\">Majority of patients were administered ZDV in the 30 days.</text></g></g></g></g></svg>"
      ]
     },
     "metadata": {},
     "output_type": "display_data"
    }
   ],
   "source": [
    "\n",
    "palette = cl.scales['11']['div']['RdYlGn']\n",
    "\n",
    "\n",
    "z30 = df['z30'].value_counts().reset_index()\n",
    "z30.columns = ['z30', 'count']\n",
    "\n",
    "fig = go.Figure(data=[go.Pie(\n",
    "    labels=z30['z30'],\n",
    "    values=z30['count'],\n",
    "    marker=dict(colors=palette, line=dict(color='#000000', width=1)),\n",
    "    textinfo=\"label+percent\",\n",
    "    textfont=dict(size=14, color='#FFFFFF')\n",
    ")])\n",
    "\n",
    "\n",
    "fig.update_layout(\n",
    "    title_text=\"Distribution of administration of ZDV\",\n",
    "    title_font_size=24,\n",
    "    title_font_family=\"Times New Roman\",\n",
    "    title_font_color=\"#000000\",  \n",
    "    paper_bgcolor='#ffffff',  \n",
    "    plot_bgcolor='#ffffff', \n",
    "    showlegend=True,\n",
    "    legend_title_text='Administered (no/yes)',\n",
    "    legend=dict(\n",
    "        x=0.8,\n",
    "        y=0.5,\n",
    "        traceorder='normal',\n",
    "        font=dict(\n",
    "            family=\"Times New Roman\",\n",
    "            size=14,\n",
    "            color=\"#000000\"\n",
    "        ),\n",
    "        bgcolor=\"#ffffff\",  \n",
    "        bordercolor=\"#000000\", \n",
    "        borderwidth=0.7,\n",
    "        orientation=\"v\" \n",
    "    )\n",
    ")\n",
    "\n",
    "fig.update_layout(width=1000)\n",
    "\n",
    "fig.update_layout(\n",
    "    title={\n",
    "        'text': \"Distribution of administration of ZDV\",\n",
    "        'y':0.95,\n",
    "        'x':0.21,\n",
    "        'xanchor': 'center',\n",
    "        'yanchor': 'top'},\n",
    "    title_font_size=26,\n",
    "    margin=dict(l=50, r=50, t=80, b=50)\n",
    ")\n",
    "\n",
    "fig.add_annotation(\n",
    "    text=\"Majority of patients were administered ZDV in the 30 days.\",\n",
    "    x=0.5,\n",
    "    y=-0.10,\n",
    "    showarrow=False,\n",
    "    font=dict(color=\"#000000\", size=14) \n",
    ")\n",
    "\n",
    "# Show the pie chart\n",
    "fig.show('svg')\n"
   ]
  },
  {
   "cell_type": "markdown",
   "id": "7cdd05d4",
   "metadata": {
    "papermill": {
     "duration": 0.024566,
     "end_time": "2024-05-29T06:42:55.462084",
     "exception": false,
     "start_time": "2024-05-29T06:42:55.437518",
     "status": "completed"
    },
    "tags": []
   },
   "source": [
    "----------------------------------------------------------------------------------------------------------------------------------------------------------"
   ]
  },
  {
   "cell_type": "markdown",
   "id": "b740e968",
   "metadata": {
    "papermill": {
     "duration": 0.024081,
     "end_time": "2024-05-29T06:42:55.511023",
     "exception": false,
     "start_time": "2024-05-29T06:42:55.486942",
     "status": "completed"
    },
    "tags": []
   },
   "source": [
    "## preanti: days pre-175 anti-retroviral therapy\n",
    "\n",
    "***About***\n",
    "\n",
    "<div>\n",
    "    <p>\n",
    "preanti means the number of days or the duration (in days, weeks, or another time unit) that a patient has been on anti-retroviral therapy before reaching the 175-week mark since the start of observation or treatment.       \n",
    "    \n",
    "   </p>\n",
    " </div>\n",
    "   \n",
    "***Conclusion***\n",
    "\n",
    "- *Mean is high as compared to the meadian, there are outliers present.*\n",
    "\n",
    "- *Standard deviation is high. A standard deviation of 400 days indicates that the durations of ART among patients vary widely around the mean. This means that some patients may have had very short durations of therapy, while others had very long durations, relative to the average.*\n"
   ]
  },
  {
   "cell_type": "code",
   "execution_count": 29,
   "id": "efb04db4",
   "metadata": {
    "execution": {
     "iopub.execute_input": "2024-05-29T06:42:55.561123Z",
     "iopub.status.busy": "2024-05-29T06:42:55.560763Z",
     "iopub.status.idle": "2024-05-29T06:42:55.572072Z",
     "shell.execute_reply": "2024-05-29T06:42:55.571083Z"
    },
    "papermill": {
     "duration": 0.039232,
     "end_time": "2024-05-29T06:42:55.574520",
     "exception": false,
     "start_time": "2024-05-29T06:42:55.535288",
     "status": "completed"
    },
    "tags": []
   },
   "outputs": [
    {
     "data": {
      "text/plain": [
       "count    15000.000000\n",
       "mean       315.619067\n",
       "std        400.272034\n",
       "min          0.000000\n",
       "25%          0.000000\n",
       "50%        124.000000\n",
       "75%        495.000000\n",
       "max       2851.000000\n",
       "Name: preanti, dtype: float64"
      ]
     },
     "execution_count": 29,
     "metadata": {},
     "output_type": "execute_result"
    }
   ],
   "source": [
    "df['preanti'].describe()"
   ]
  },
  {
   "cell_type": "markdown",
   "id": "50adbb35",
   "metadata": {
    "papermill": {
     "duration": 0.025106,
     "end_time": "2024-05-29T06:42:55.624954",
     "exception": false,
     "start_time": "2024-05-29T06:42:55.599848",
     "status": "completed"
    },
    "tags": []
   },
   "source": [
    "*There is a huge distinction between the mean and median. There is possibly some amount of skewness in the data*"
   ]
  },
  {
   "cell_type": "code",
   "execution_count": 30,
   "id": "55c1f029",
   "metadata": {
    "execution": {
     "iopub.execute_input": "2024-05-29T06:42:55.675752Z",
     "iopub.status.busy": "2024-05-29T06:42:55.675320Z",
     "iopub.status.idle": "2024-05-29T06:42:55.796614Z",
     "shell.execute_reply": "2024-05-29T06:42:55.795734Z"
    },
    "papermill": {
     "duration": 0.149616,
     "end_time": "2024-05-29T06:42:55.798745",
     "exception": false,
     "start_time": "2024-05-29T06:42:55.649129",
     "status": "completed"
    },
    "tags": []
   },
   "outputs": [
    {
     "data": {
      "image/svg+xml": [
       "<svg class=\"main-svg\" xmlns=\"http://www.w3.org/2000/svg\" xmlns:xlink=\"http://www.w3.org/1999/xlink\" width=\"1000\" height=\"500\" style=\"\" viewBox=\"0 0 1000 500\"><rect x=\"0\" y=\"0\" width=\"1000\" height=\"500\" style=\"fill: rgb(255, 255, 255); fill-opacity: 1;\"/><defs id=\"defs-ed8d29\"><g class=\"clips\"><clipPath id=\"cliped8d29xyplot\" class=\"plotclip\"><rect width=\"893\" height=\"367\"/></clipPath><clipPath class=\"axesclip\" id=\"cliped8d29x\"><rect x=\"57\" y=\"0\" width=\"893\" height=\"500\"/></clipPath><clipPath class=\"axesclip\" id=\"cliped8d29y\"><rect x=\"0\" y=\"80\" width=\"1000\" height=\"367\"/></clipPath><clipPath class=\"axesclip\" id=\"cliped8d29xy\"><rect x=\"57\" y=\"80\" width=\"893\" height=\"367\"/></clipPath></g><g class=\"gradients\"/><g class=\"patterns\"/></defs><g class=\"bglayer\"/><g class=\"layer-below\"><g class=\"imagelayer\"/><g class=\"shapelayer\"/></g><g class=\"cartesianlayer\"><g class=\"subplot xy\"><g class=\"layer-subplot\"><g class=\"shapelayer\"/><g class=\"imagelayer\"/></g><g class=\"minor-gridlayer\"><g class=\"x\"/><g class=\"y\"/></g><g class=\"gridlayer\"><g class=\"x\"/><g class=\"y\"><path class=\"ygrid crisp\" transform=\"translate(0,385.23)\" d=\"M57,0h893\" style=\"stroke: rgb(255, 255, 255); stroke-opacity: 1; stroke-width: 1px;\"/><path class=\"ygrid crisp\" transform=\"translate(0,323.45)\" d=\"M57,0h893\" style=\"stroke: rgb(255, 255, 255); stroke-opacity: 1; stroke-width: 1px;\"/><path class=\"ygrid crisp\" transform=\"translate(0,261.68)\" d=\"M57,0h893\" style=\"stroke: rgb(255, 255, 255); stroke-opacity: 1; stroke-width: 1px;\"/><path class=\"ygrid crisp\" transform=\"translate(0,199.91)\" d=\"M57,0h893\" style=\"stroke: rgb(255, 255, 255); stroke-opacity: 1; stroke-width: 1px;\"/><path class=\"ygrid crisp\" transform=\"translate(0,138.13)\" d=\"M57,0h893\" style=\"stroke: rgb(255, 255, 255); stroke-opacity: 1; stroke-width: 1px;\"/></g></g><g class=\"zerolinelayer\"><path class=\"yzl zl crisp\" transform=\"translate(0,447)\" d=\"M57,0h893\" style=\"stroke: rgb(255, 255, 255); stroke-opacity: 1; stroke-width: 2px;\"/></g><path class=\"xlines-below\"/><path class=\"ylines-below\"/><g class=\"overlines-below\"/><g class=\"xaxislayer-below\"/><g class=\"yaxislayer-below\"/><g class=\"overaxes-below\"/><g class=\"plot\" transform=\"translate(57,80)\" clip-path=\"url(#cliped8d29xyplot)\"><g class=\"barlayer mlayer\"><g class=\"trace bars\" shape-rendering=\"crispEdges\" style=\"opacity: 1;\"><g class=\"points\"><g class=\"point\"><path d=\"M0,367V18.35H148.83V367Z\" style=\"vector-effect: none; opacity: 1; stroke-width: 0px; fill: rgb(8, 69, 148); fill-opacity: 1;\"/></g><g class=\"point\"><path d=\"M148.83,367V283.88H297.67V367Z\" style=\"vector-effect: none; opacity: 1; stroke-width: 0px; fill: rgb(8, 69, 148); fill-opacity: 1;\"/></g><g class=\"point\"><path d=\"M297.67,367V339.76H446.5V367Z\" style=\"vector-effect: none; opacity: 1; stroke-width: 0px; fill: rgb(8, 69, 148); fill-opacity: 1;\"/></g><g class=\"point\"><path d=\"M446.5,367V363.02H595.33V367Z\" style=\"vector-effect: none; opacity: 1; stroke-width: 0px; fill: rgb(8, 69, 148); fill-opacity: 1;\"/></g><g class=\"point\"><path d=\"M595.33,367V366.78H744.17V367Z\" style=\"vector-effect: none; opacity: 1; stroke-width: 0px; fill: rgb(8, 69, 148); fill-opacity: 1;\"/></g><g class=\"point\"><path d=\"M744.17,367V366.91H893V367Z\" style=\"vector-effect: none; opacity: 1; stroke-width: 0px; fill: rgb(8, 69, 148); fill-opacity: 1;\"/></g></g></g></g></g><g class=\"overplot\"/><path class=\"xlines-above crisp\" d=\"M0,0\" style=\"fill: none;\"/><path class=\"ylines-above crisp\" d=\"M0,0\" style=\"fill: none;\"/><g class=\"overlines-above\"/><g class=\"xaxislayer-above\"><g class=\"xtick\"><text text-anchor=\"middle\" x=\"0\" y=\"460\" transform=\"translate(57.15,0)\" style=\"font-family: 'Open Sans', verdana, arial, sans-serif; font-size: 12px; fill: rgb(42, 63, 95); fill-opacity: 1; white-space: pre; opacity: 1;\">0</text></g><g class=\"xtick\"><text text-anchor=\"middle\" x=\"0\" y=\"460\" style=\"font-family: 'Open Sans', verdana, arial, sans-serif; font-size: 12px; fill: rgb(42, 63, 95); fill-opacity: 1; white-space: pre; opacity: 1;\" transform=\"translate(205.98,0)\">500</text></g><g class=\"xtick\"><text text-anchor=\"middle\" x=\"0\" y=\"460\" style=\"font-family: 'Open Sans', verdana, arial, sans-serif; font-size: 12px; fill: rgb(42, 63, 95); fill-opacity: 1; white-space: pre; opacity: 1;\" transform=\"translate(354.82,0)\">1000</text></g><g class=\"xtick\"><text text-anchor=\"middle\" x=\"0\" y=\"460\" style=\"font-family: 'Open Sans', verdana, arial, sans-serif; font-size: 12px; fill: rgb(42, 63, 95); fill-opacity: 1; white-space: pre; opacity: 1;\" transform=\"translate(503.65,0)\">1500</text></g><g class=\"xtick\"><text text-anchor=\"middle\" x=\"0\" y=\"460\" style=\"font-family: 'Open Sans', verdana, arial, sans-serif; font-size: 12px; fill: rgb(42, 63, 95); fill-opacity: 1; white-space: pre; opacity: 1;\" transform=\"translate(652.48,0)\">2000</text></g><g class=\"xtick\"><text text-anchor=\"middle\" x=\"0\" y=\"460\" style=\"font-family: 'Open Sans', verdana, arial, sans-serif; font-size: 12px; fill: rgb(42, 63, 95); fill-opacity: 1; white-space: pre; opacity: 1;\" transform=\"translate(801.32,0)\">2500</text></g></g><g class=\"yaxislayer-above\"><g class=\"ytick\"><text text-anchor=\"end\" x=\"56\" y=\"4.199999999999999\" transform=\"translate(0,447)\" style=\"font-family: 'Open Sans', verdana, arial, sans-serif; font-size: 12px; fill: rgb(42, 63, 95); fill-opacity: 1; white-space: pre; opacity: 1;\">0</text></g><g class=\"ytick\"><text text-anchor=\"end\" x=\"56\" y=\"4.199999999999999\" style=\"font-family: 'Open Sans', verdana, arial, sans-serif; font-size: 12px; fill: rgb(42, 63, 95); fill-opacity: 1; white-space: pre; opacity: 1;\" transform=\"translate(0,385.23)\">2k</text></g><g class=\"ytick\"><text text-anchor=\"end\" x=\"56\" y=\"4.199999999999999\" style=\"font-family: 'Open Sans', verdana, arial, sans-serif; font-size: 12px; fill: rgb(42, 63, 95); fill-opacity: 1; white-space: pre; opacity: 1;\" transform=\"translate(0,323.45)\">4k</text></g><g class=\"ytick\"><text text-anchor=\"end\" x=\"56\" y=\"4.199999999999999\" style=\"font-family: 'Open Sans', verdana, arial, sans-serif; font-size: 12px; fill: rgb(42, 63, 95); fill-opacity: 1; white-space: pre; opacity: 1;\" transform=\"translate(0,261.68)\">6k</text></g><g class=\"ytick\"><text text-anchor=\"end\" x=\"56\" y=\"4.199999999999999\" style=\"font-family: 'Open Sans', verdana, arial, sans-serif; font-size: 12px; fill: rgb(42, 63, 95); fill-opacity: 1; white-space: pre; opacity: 1;\" transform=\"translate(0,199.91)\">8k</text></g><g class=\"ytick\"><text text-anchor=\"end\" x=\"56\" y=\"4.199999999999999\" style=\"font-family: 'Open Sans', verdana, arial, sans-serif; font-size: 12px; fill: rgb(42, 63, 95); fill-opacity: 1; white-space: pre; opacity: 1;\" transform=\"translate(0,138.13)\">10k</text></g></g><g class=\"overaxes-above\"/></g></g><g class=\"polarlayer\"/><g class=\"smithlayer\"/><g class=\"ternarylayer\"/><g class=\"geolayer\"/><g class=\"funnelarealayer\"/><g class=\"pielayer\"/><g class=\"iciclelayer\"/><g class=\"treemaplayer\"/><g class=\"sunburstlayer\"/><g class=\"glimages\"/><defs id=\"topdefs-ed8d29\"><g class=\"clips\"/></defs><g class=\"layer-above\"><g class=\"imagelayer\"/><g class=\"shapelayer\"/></g><g class=\"infolayer\"><g class=\"g-gtitle\"><text class=\"gtitle\" x=\"310\" y=\"25\" text-anchor=\"middle\" dy=\"0.7em\" style=\"font-family: 'Times New Roman'; font-size: 26px; fill: rgb(0, 0, 0); opacity: 1; font-weight: normal; white-space: pre;\">Distribution of days patient has been on ART</text></g><g class=\"g-xtitle\"><text class=\"xtitle\" x=\"503.5\" y=\"487.3\" text-anchor=\"middle\" style=\"font-family: 'Open Sans', verdana, arial, sans-serif; font-size: 14px; fill: rgb(42, 63, 95); opacity: 1; font-weight: normal; white-space: pre;\">Days</text></g><g class=\"g-ytitle\" transform=\"translate(0.6591796875,0)\"><text class=\"ytitle\" transform=\"rotate(-90,12.340625000000003,263.5)\" x=\"12.340625000000003\" y=\"263.5\" text-anchor=\"middle\" style=\"font-family: 'Open Sans', verdana, arial, sans-serif; font-size: 14px; fill: rgb(42, 63, 95); opacity: 1; font-weight: normal; white-space: pre;\">Frequency</text></g></g></svg>"
      ]
     },
     "metadata": {},
     "output_type": "display_data"
    }
   ],
   "source": [
    "palette = cl.scales['8']['seq']['Blues']\n",
    "\n",
    "fig = go.Figure(data=[go.Histogram(\n",
    "    x=df['preanti'],\n",
    "    marker=dict(color=palette[7]),  # Use the second color from the palette\n",
    "    nbinsx=10\n",
    ")])\n",
    "\n",
    "# Update layout\n",
    "fig.update_layout(\n",
    "    title_text=\"Distribution of days patient has been on ART\",\n",
    "    title_font_size=24,\n",
    "    title_font_family=\"Times New Roman\",\n",
    "    title_font_color=\"#000000\",\n",
    "    paper_bgcolor='#ffffff',\n",
    "    plot_bgcolor='#ffffff',\n",
    "    xaxis=dict(title=\"Days\"),\n",
    "    yaxis=dict(title=\"Frequency\"),\n",
    ")\n",
    "\n",
    "# Set title properties\n",
    "fig.update_layout(\n",
    "    title={\n",
    "        'text': \"Distribution of days patient has been on ART\",\n",
    "        'y':0.95,\n",
    "        'x':0.31,\n",
    "        'xanchor': 'center',\n",
    "        'yanchor': 'top'},\n",
    "    title_font_size=26,\n",
    "    margin=dict(l=50, r=50, t=80, b=50)\n",
    ")\n",
    "\n",
    "# Set the width of the figure\n",
    "fig.update_layout(width=1000)\n",
    "\n",
    "# Show the histogram\n",
    "fig.show('svg')"
   ]
  },
  {
   "cell_type": "markdown",
   "id": "e54c1f7e",
   "metadata": {
    "papermill": {
     "duration": 0.024118,
     "end_time": "2024-05-29T06:42:55.848043",
     "exception": false,
     "start_time": "2024-05-29T06:42:55.823925",
     "status": "completed"
    },
    "tags": []
   },
   "source": [
    "*highly positively skewed distribution*"
   ]
  },
  {
   "cell_type": "code",
   "execution_count": 31,
   "id": "f7ac0f30",
   "metadata": {
    "execution": {
     "iopub.execute_input": "2024-05-29T06:42:55.899415Z",
     "iopub.status.busy": "2024-05-29T06:42:55.898648Z",
     "iopub.status.idle": "2024-05-29T06:42:56.107606Z",
     "shell.execute_reply": "2024-05-29T06:42:56.106534Z"
    },
    "papermill": {
     "duration": 0.237634,
     "end_time": "2024-05-29T06:42:56.109894",
     "exception": false,
     "start_time": "2024-05-29T06:42:55.872260",
     "status": "completed"
    },
    "tags": []
   },
   "outputs": [
    {
     "data": {
      "image/png": "[encoded data removed]"
     },
     "metadata": {},
     "output_type": "display_data"
    }
   ],
   "source": [
    "\n",
    "palette = cl.scales['11']['div']['PuOr']\n",
    "fig = go.Figure(data=[go.Box(\n",
    "    x=df['preanti'],\n",
    "    marker=dict(color=palette[1])\n",
    ")])\n",
    "\n",
    "fig.update_layout(\n",
    "    title_text=\"Boxplot of preanti\",\n",
    "    title_font_size=24,\n",
    "    title_font_family=\"Times New Roman\",\n",
    "    title_font_color=\"#000000\",  \n",
    "    paper_bgcolor='#ffffff',  \n",
    "    plot_bgcolor='#ffffff',  \n",
    "    xaxis=dict(title=\"Karnofsky score\"),\n",
    ")\n",
    "\n",
    "fig.update_layout(\n",
    "    title={\n",
    "        'y':0.95,\n",
    "        'x':0.15,\n",
    "        'xanchor': 'center',\n",
    "        'yanchor': 'top'},\n",
    "    title_font_size=26,\n",
    "    margin=dict(l=50, r=50, t=80, b=50)\n",
    ")\n",
    "\n",
    "\n",
    "\n",
    "fig.update_layout(width=1000)\n",
    "\n",
    "fig.show('png')"
   ]
  },
  {
   "cell_type": "markdown",
   "id": "3a6679f9",
   "metadata": {
    "papermill": {
     "duration": 0.024393,
     "end_time": "2024-05-29T06:42:56.159192",
     "exception": false,
     "start_time": "2024-05-29T06:42:56.134799",
     "status": "completed"
    },
    "tags": []
   },
   "source": [
    "*Most outliers are present after 1235 days. This means some patients were administered ART for more than 1235 days before the 175 week mark*"
   ]
  },
  {
   "cell_type": "markdown",
   "id": "34dd6cbc",
   "metadata": {
    "papermill": {
     "duration": 0.024366,
     "end_time": "2024-05-29T06:42:56.208882",
     "exception": false,
     "start_time": "2024-05-29T06:42:56.184516",
     "status": "completed"
    },
    "tags": []
   },
   "source": [
    "----------------------------------------------------------------------------------------------------------------------------------------------------------"
   ]
  },
  {
   "cell_type": "markdown",
   "id": "df209de9",
   "metadata": {
    "papermill": {
     "duration": 0.025684,
     "end_time": "2024-05-29T06:42:56.260189",
     "exception": false,
     "start_time": "2024-05-29T06:42:56.234505",
     "status": "completed"
    },
    "tags": []
   },
   "source": [
    "## Race\n",
    "\n",
    "***Conclusions***\n",
    "- *Majority of the patients are white*\n",
    "\n",
    "- *There is no strong correlation of race with any other variable*"
   ]
  },
  {
   "cell_type": "code",
   "execution_count": 32,
   "id": "86c7fed5",
   "metadata": {
    "execution": {
     "iopub.execute_input": "2024-05-29T06:42:56.313046Z",
     "iopub.status.busy": "2024-05-29T06:42:56.312327Z",
     "iopub.status.idle": "2024-05-29T06:42:56.319734Z",
     "shell.execute_reply": "2024-05-29T06:42:56.318787Z"
    },
    "papermill": {
     "duration": 0.036251,
     "end_time": "2024-05-29T06:42:56.321953",
     "exception": false,
     "start_time": "2024-05-29T06:42:56.285702",
     "status": "completed"
    },
    "tags": []
   },
   "outputs": [
    {
     "data": {
      "text/plain": [
       "race\n",
       "0    10486\n",
       "1     4514\n",
       "Name: count, dtype: int64"
      ]
     },
     "execution_count": 32,
     "metadata": {},
     "output_type": "execute_result"
    }
   ],
   "source": [
    "df['race'].value_counts()"
   ]
  },
  {
   "cell_type": "code",
   "execution_count": 33,
   "id": "dc8cbcbb",
   "metadata": {
    "execution": {
     "iopub.execute_input": "2024-05-29T06:42:56.374809Z",
     "iopub.status.busy": "2024-05-29T06:42:56.374095Z",
     "iopub.status.idle": "2024-05-29T06:42:56.433310Z",
     "shell.execute_reply": "2024-05-29T06:42:56.432557Z"
    },
    "papermill": {
     "duration": 0.087934,
     "end_time": "2024-05-29T06:42:56.435294",
     "exception": false,
     "start_time": "2024-05-29T06:42:56.347360",
     "status": "completed"
    },
    "tags": []
   },
   "outputs": [
    {
     "data": {
      "image/svg+xml": [
       "<svg class=\"main-svg\" xmlns=\"http://www.w3.org/2000/svg\" xmlns:xlink=\"http://www.w3.org/1999/xlink\" width=\"1000\" height=\"500\" style=\"\" viewBox=\"0 0 1000 500\"><rect x=\"0\" y=\"0\" width=\"1000\" height=\"500\" style=\"fill: rgb(255, 255, 255); fill-opacity: 1;\"/><defs id=\"defs-6647a2\"><g class=\"clips\"/><g class=\"gradients\"/><g class=\"patterns\"/></defs><g class=\"bglayer\"/><g class=\"layer-below\"><g class=\"imagelayer\"/><g class=\"shapelayer\"/></g><g class=\"cartesianlayer\"/><g class=\"polarlayer\"/><g class=\"smithlayer\"/><g class=\"ternarylayer\"/><g class=\"geolayer\"/><g class=\"funnelarealayer\"/><g class=\"pielayer\"><g class=\"trace\" stroke-linejoin=\"round\" style=\"opacity: 1;\"><g class=\"slice\"><path class=\"surface\" d=\"M500,265l0,-185a185,185 0 1 1 -175.60718054893636,243.19895308038855Z\" style=\"pointer-events: none; fill: rgb(84, 48, 5); fill-opacity: 1; stroke-width: 1; stroke: rgb(0, 0, 0); stroke-opacity: 1;\"/><g class=\"slicetext\"><text data-notex=\"1\" class=\"slicetext\" transform=\"translate(574.9931716223816,315.0489149680336)\" text-anchor=\"middle\" x=\"0\" y=\"0\" style=\"font-family: 'Open Sans', verdana, arial, sans-serif; font-size: 14px; fill: rgb(255, 255, 255); fill-opacity: 1; white-space: pre;\"><tspan class=\"line\" dy=\"0em\" x=\"0\" y=\"0\">0</tspan><tspan class=\"line\" dy=\"1.3em\" x=\"0\" y=\"0\">69.9%</tspan></text></g></g><g class=\"slice\"><path class=\"surface\" d=\"M500,265l-175.60718054893638,58.1989530803885a185,185 0 0 1 175.60718054893638,-243.1989530803885Z\" style=\"pointer-events: none; fill: rgb(140, 81, 10); fill-opacity: 1; stroke-width: 1; stroke: rgb(0, 0, 0); stroke-opacity: 1;\"/><g class=\"slicetext\"><text data-notex=\"1\" class=\"slicetext\" transform=\"translate(417.1683441434893,201.08800920282897)\" text-anchor=\"middle\" x=\"0\" y=\"0\" style=\"font-family: 'Open Sans', verdana, arial, sans-serif; font-size: 14px; fill: rgb(255, 255, 255); fill-opacity: 1; white-space: pre;\"><tspan class=\"line\" dy=\"0em\" x=\"0\" y=\"0\">1</tspan><tspan class=\"line\" dy=\"1.3em\" x=\"0\" y=\"0\">30.1%</tspan></text></g></g></g></g><g class=\"iciclelayer\"/><g class=\"treemaplayer\"/><g class=\"sunburstlayer\"/><g class=\"glimages\"/><defs id=\"topdefs-6647a2\"><g class=\"clips\"/><clipPath id=\"legend6647a2\"><rect width=\"165.6\" height=\"74.6\" x=\"0.7\" y=\"0.7\"/></clipPath></defs><g class=\"layer-above\"><g class=\"imagelayer\"/><g class=\"shapelayer\"/></g><g class=\"infolayer\"><g class=\"legend\" pointer-events=\"all\" transform=\"translate(770,227)\"><rect class=\"bg\" shape-rendering=\"crispEdges\" style=\"stroke: rgb(0, 0, 0); stroke-opacity: 1; fill: rgb(255, 255, 255); fill-opacity: 1; stroke-width: 0.7px;\" width=\"166.3\" height=\"75.3\" x=\"0.35\" y=\"0.35\"/><g class=\"scrollbox\" transform=\"\" clip-path=\"url(#legend6647a2)\"><text class=\"legendtitletext\" text-anchor=\"start\" x=\"2.7\" y=\"22.8\" style=\"font-family: 'Times New Roman'; font-size: 17px; fill: rgb(0, 0, 0); fill-opacity: 1; white-space: pre;\">Race (white/non-white)</text><g class=\"groups\"><g class=\"traces\" transform=\"translate(0.7,38.4)\" style=\"opacity: 1;\"><text class=\"legendtext\" text-anchor=\"start\" x=\"40\" y=\"5.46\" style=\"font-family: 'Times New Roman'; font-size: 14px; fill: rgb(0, 0, 0); fill-opacity: 1; white-space: pre;\">0</text><g class=\"layers\" style=\"opacity: 1;\"><g class=\"legendfill\"/><g class=\"legendlines\"/><g class=\"legendsymbols\"><g class=\"legendpoints\"><path class=\"legendpie\" d=\"M6,6H-6V-6H6Z\" transform=\"translate(20,0)\" style=\"fill: rgb(84, 48, 5); fill-opacity: 1; stroke-width: 1; stroke: rgb(0, 0, 0); stroke-opacity: 1;\"/></g></g></g><rect class=\"legendtoggle\" x=\"0\" y=\"-10.6\" width=\"47\" height=\"21.2\" style=\"fill: rgb(0, 0, 0); fill-opacity: 0;\"/></g><g class=\"traces\" transform=\"translate(0.7,59.6)\" style=\"opacity: 1;\"><text class=\"legendtext\" text-anchor=\"start\" x=\"40\" y=\"5.46\" style=\"font-family: 'Times New Roman'; font-size: 14px; fill: rgb(0, 0, 0); fill-opacity: 1; white-space: pre;\">1</text><g class=\"layers\" style=\"opacity: 1;\"><g class=\"legendfill\"/><g class=\"legendlines\"/><g class=\"legendsymbols\"><g class=\"legendpoints\"><path class=\"legendpie\" d=\"M6,6H-6V-6H6Z\" transform=\"translate(20,0)\" style=\"fill: rgb(140, 81, 10); fill-opacity: 1; stroke-width: 1; stroke: rgb(0, 0, 0); stroke-opacity: 1;\"/></g></g></g><rect class=\"legendtoggle\" x=\"0\" y=\"-10.6\" width=\"47\" height=\"21.2\" style=\"fill: rgb(0, 0, 0); fill-opacity: 0;\"/></g></g></g><rect class=\"scrollbar\" rx=\"20\" ry=\"3\" width=\"0\" height=\"0\" x=\"0\" y=\"0\" style=\"fill: rgb(128, 139, 164); fill-opacity: 1;\"/></g><g class=\"g-gtitle\"><text class=\"gtitle\" x=\"210\" y=\"25\" text-anchor=\"middle\" dy=\"0.7em\" style=\"font-family: 'Times New Roman'; font-size: 26px; fill: rgb(0, 0, 0); opacity: 1; font-weight: normal; white-space: pre;\">Distribution of race</text></g><g class=\"annotation\" data-index=\"0\" style=\"opacity: 1;\"><g class=\"annotation-text-g\" transform=\"rotate(0,500,477.00000000000006)\"><g class=\"cursor-pointer\" transform=\"translate(404,467)\"><rect class=\"bg\" x=\"0.5\" y=\"0.5\" width=\"192\" height=\"19\" style=\"stroke-width: 1px; stroke: rgb(0, 0, 0); stroke-opacity: 0; fill: rgb(0, 0, 0); fill-opacity: 0;\"/><text class=\"annotation-text\" text-anchor=\"middle\" x=\"96.15625\" y=\"15\" style=\"font-family: 'Open Sans', verdana, arial, sans-serif; font-size: 14px; fill: rgb(0, 0, 0); fill-opacity: 1; white-space: pre;\">Majority of patients were white</text></g></g></g></g></svg>"
      ]
     },
     "metadata": {},
     "output_type": "display_data"
    }
   ],
   "source": [
    "\n",
    "palette = cl.scales['10']['div']['BrBG']\n",
    "\n",
    "\n",
    "race = df['race'].value_counts().reset_index()\n",
    "race.columns = ['race', 'count']\n",
    "\n",
    "fig = go.Figure(data=[go.Pie(\n",
    "    labels=race['race'],\n",
    "    values=race['count'],\n",
    "    marker=dict(colors=palette, line=dict(color='#000000', width=1)),\n",
    "    textinfo=\"label+percent\",\n",
    "    textfont=dict(size=14, color='#FFFFFF')\n",
    ")])\n",
    "\n",
    "\n",
    "fig.update_layout(\n",
    "    title_text=\"Distribution of race\",\n",
    "    title_font_size=24,\n",
    "    title_font_family=\"Times New Roman\",\n",
    "    title_font_color=\"#000000\",  \n",
    "    paper_bgcolor='#ffffff',  \n",
    "    plot_bgcolor='#ffffff', \n",
    "    showlegend=True,\n",
    "    legend_title_text='Race (white/non-white)',\n",
    "    legend=dict(\n",
    "        x=0.8,\n",
    "        y=0.5,\n",
    "        traceorder='normal',\n",
    "        font=dict(\n",
    "            family=\"Times New Roman\",\n",
    "            size=14,\n",
    "            color=\"#000000\"\n",
    "        ),\n",
    "        bgcolor=\"#ffffff\",  \n",
    "        bordercolor=\"#000000\", \n",
    "        borderwidth=0.7,\n",
    "        orientation=\"v\" \n",
    "    )\n",
    ")\n",
    "\n",
    "fig.update_layout(width=1000)\n",
    "\n",
    "fig.update_layout(\n",
    "    title={\n",
    "        'text': \"Distribution of race\",\n",
    "        'y':0.95,\n",
    "        'x':0.21,\n",
    "        'xanchor': 'center',\n",
    "        'yanchor': 'top'},\n",
    "    title_font_size=26,\n",
    "    margin=dict(l=50, r=50, t=80, b=50)\n",
    ")\n",
    "\n",
    "fig.add_annotation(\n",
    "    text=\"Majority of patients were white\",\n",
    "    x=0.5,\n",
    "    y=-0.10,\n",
    "    showarrow=False,\n",
    "    font=dict(color=\"#000000\", size=14) \n",
    ")\n",
    "\n",
    "# Show the pie chart\n",
    "fig.show('svg')\n"
   ]
  },
  {
   "cell_type": "code",
   "execution_count": 34,
   "id": "569ec9aa",
   "metadata": {
    "execution": {
     "iopub.execute_input": "2024-05-29T06:42:56.488746Z",
     "iopub.status.busy": "2024-05-29T06:42:56.488359Z",
     "iopub.status.idle": "2024-05-29T06:42:56.521264Z",
     "shell.execute_reply": "2024-05-29T06:42:56.520424Z"
    },
    "papermill": {
     "duration": 0.062349,
     "end_time": "2024-05-29T06:42:56.523259",
     "exception": false,
     "start_time": "2024-05-29T06:42:56.460910",
     "status": "completed"
    },
    "tags": []
   },
   "outputs": [
    {
     "data": {
      "text/plain": [
       "time         -3.077521\n",
       "trt          -5.806935\n",
       "age          -6.831852\n",
       "wtkg         -5.133001\n",
       "hemo          0.458512\n",
       "homo        -20.193154\n",
       "drugs         4.692483\n",
       "karnof        4.353950\n",
       "oprior       -2.810755\n",
       "z30          -9.860449\n",
       "preanti     -10.257438\n",
       "race        100.000000\n",
       "gender      -14.030872\n",
       "str2        -12.520895\n",
       "strat       -14.411401\n",
       "symptom      -0.458382\n",
       "treat        -9.108906\n",
       "offtrt        6.999763\n",
       "cd40          3.988502\n",
       "cd420         4.405390\n",
       "cd80         -2.703265\n",
       "cd820        -1.132044\n",
       "infected     -3.606357\n",
       "Name: race, dtype: float64"
      ]
     },
     "execution_count": 34,
     "metadata": {},
     "output_type": "execute_result"
    }
   ],
   "source": [
    "df.corr()['race']*100"
   ]
  },
  {
   "cell_type": "markdown",
   "id": "7e1859e1",
   "metadata": {
    "papermill": {
     "duration": 0.025483,
     "end_time": "2024-05-29T06:42:56.574414",
     "exception": false,
     "start_time": "2024-05-29T06:42:56.548931",
     "status": "completed"
    },
    "tags": []
   },
   "source": [
    "----------------------------------------------------------------------------------------------------------------------------------------------------------"
   ]
  },
  {
   "cell_type": "markdown",
   "id": "c4bc8a6c",
   "metadata": {
    "papermill": {
     "duration": 0.025069,
     "end_time": "2024-05-29T06:42:56.624731",
     "exception": false,
     "start_time": "2024-05-29T06:42:56.599662",
     "status": "completed"
    },
    "tags": []
   },
   "source": [
    "## Gender\n",
    "\n",
    "***Conclusions***\n",
    "\n",
    "- *Majority of the patients are male*\n",
    "\n",
    "- *There is no strong correlation of gender with any other variable*"
   ]
  },
  {
   "cell_type": "code",
   "execution_count": 35,
   "id": "7f2df274",
   "metadata": {
    "execution": {
     "iopub.execute_input": "2024-05-29T06:42:56.677720Z",
     "iopub.status.busy": "2024-05-29T06:42:56.677017Z",
     "iopub.status.idle": "2024-05-29T06:42:56.684540Z",
     "shell.execute_reply": "2024-05-29T06:42:56.683720Z"
    },
    "papermill": {
     "duration": 0.03635,
     "end_time": "2024-05-29T06:42:56.686469",
     "exception": false,
     "start_time": "2024-05-29T06:42:56.650119",
     "status": "completed"
    },
    "tags": []
   },
   "outputs": [
    {
     "data": {
      "text/plain": [
       "gender\n",
       "1    12807\n",
       "0     2193\n",
       "Name: count, dtype: int64"
      ]
     },
     "execution_count": 35,
     "metadata": {},
     "output_type": "execute_result"
    }
   ],
   "source": [
    "df['gender'].value_counts()"
   ]
  },
  {
   "cell_type": "code",
   "execution_count": 36,
   "id": "000c8c6f",
   "metadata": {
    "execution": {
     "iopub.execute_input": "2024-05-29T06:42:56.739575Z",
     "iopub.status.busy": "2024-05-29T06:42:56.738831Z",
     "iopub.status.idle": "2024-05-29T06:42:56.770933Z",
     "shell.execute_reply": "2024-05-29T06:42:56.769842Z"
    },
    "papermill": {
     "duration": 0.061311,
     "end_time": "2024-05-29T06:42:56.773111",
     "exception": false,
     "start_time": "2024-05-29T06:42:56.711800",
     "status": "completed"
    },
    "tags": []
   },
   "outputs": [
    {
     "data": {
      "text/plain": [
       "time          4.146380\n",
       "trt           5.685414\n",
       "age           5.749563\n",
       "wtkg          7.097579\n",
       "hemo         -2.875861\n",
       "homo         20.507894\n",
       "drugs        -3.367042\n",
       "karnof        0.841962\n",
       "oprior        0.766320\n",
       "z30          -1.681352\n",
       "preanti       0.164133\n",
       "race        -14.030872\n",
       "gender      100.000000\n",
       "str2         -0.673710\n",
       "strat         0.768461\n",
       "symptom       0.722118\n",
       "treat         5.650087\n",
       "offtrt       -8.396814\n",
       "cd40          2.395995\n",
       "cd420         1.205226\n",
       "cd80          1.975016\n",
       "cd820         1.111495\n",
       "infected     -2.121825\n",
       "Name: gender, dtype: float64"
      ]
     },
     "execution_count": 36,
     "metadata": {},
     "output_type": "execute_result"
    }
   ],
   "source": [
    "df.corr()['gender']*100"
   ]
  },
  {
   "cell_type": "code",
   "execution_count": 37,
   "id": "af078edf",
   "metadata": {
    "execution": {
     "iopub.execute_input": "2024-05-29T06:42:56.826411Z",
     "iopub.status.busy": "2024-05-29T06:42:56.826008Z",
     "iopub.status.idle": "2024-05-29T06:42:56.900794Z",
     "shell.execute_reply": "2024-05-29T06:42:56.899518Z"
    },
    "papermill": {
     "duration": 0.104503,
     "end_time": "2024-05-29T06:42:56.903126",
     "exception": false,
     "start_time": "2024-05-29T06:42:56.798623",
     "status": "completed"
    },
    "tags": []
   },
   "outputs": [
    {
     "data": {
      "image/svg+xml": [
       "<svg class=\"main-svg\" xmlns=\"http://www.w3.org/2000/svg\" xmlns:xlink=\"http://www.w3.org/1999/xlink\" width=\"1000\" height=\"500\" style=\"\" viewBox=\"0 0 1000 500\"><rect x=\"0\" y=\"0\" width=\"1000\" height=\"500\" style=\"fill: rgb(255, 255, 255); fill-opacity: 1;\"/><defs id=\"defs-a490b6\"><g class=\"clips\"/><g class=\"gradients\"/><g class=\"patterns\"/></defs><g class=\"bglayer\"/><g class=\"layer-below\"><g class=\"imagelayer\"/><g class=\"shapelayer\"/></g><g class=\"cartesianlayer\"/><g class=\"polarlayer\"/><g class=\"smithlayer\"/><g class=\"ternarylayer\"/><g class=\"geolayer\"/><g class=\"funnelarealayer\"/><g class=\"pielayer\"><g class=\"trace\" stroke-linejoin=\"round\" style=\"opacity: 1;\"><g class=\"slice\"><path class=\"surface\" d=\"M500,265l0,-185a185,185 0 1 1 -147.02943806680318,72.71756886422484Z\" style=\"pointer-events: none; fill: rgb(64, 0, 75); fill-opacity: 1; stroke-width: 1; stroke: rgb(0, 0, 0); stroke-opacity: 1;\"/><g class=\"slicetext\"><text data-notex=\"1\" class=\"slicetext\" transform=\"translate(541.0072405799903,343.81198416165716)\" text-anchor=\"middle\" x=\"0\" y=\"0\" style=\"font-family: 'Open Sans', verdana, arial, sans-serif; font-size: 14px; fill: rgb(255, 255, 255); fill-opacity: 1; white-space: pre;\"><tspan class=\"line\" dy=\"0em\" x=\"0\" y=\"0\">1</tspan><tspan class=\"line\" dy=\"1.3em\" x=\"0\" y=\"0\">85.4%</tspan></text></g></g><g class=\"slice\"><path class=\"surface\" d=\"M500,265l-147.02943806680312,-112.2824311357752a185,185 0 0 1 147.02943806680312,-72.7175688642248Z\" style=\"pointer-events: none; fill: rgb(118, 42, 131); fill-opacity: 1; stroke-width: 1; stroke: rgb(0, 0, 0); stroke-opacity: 1;\"/><g class=\"slicetext\"><text data-notex=\"1\" class=\"slicetext\" transform=\"translate(443.17656874382874,146.00574654353997)\" text-anchor=\"middle\" x=\"0\" y=\"0\" style=\"font-family: 'Open Sans', verdana, arial, sans-serif; font-size: 14px; fill: rgb(255, 255, 255); fill-opacity: 1; white-space: pre;\"><tspan class=\"line\" dy=\"0em\" x=\"0\" y=\"0\">0</tspan><tspan class=\"line\" dy=\"1.3em\" x=\"0\" y=\"0\">14.6%</tspan></text></g></g></g></g><g class=\"iciclelayer\"/><g class=\"treemaplayer\"/><g class=\"sunburstlayer\"/><g class=\"glimages\"/><defs id=\"topdefs-a490b6\"><g class=\"clips\"/><clipPath id=\"legenda490b6\"><rect width=\"150.6\" height=\"74.6\" x=\"0.7\" y=\"0.7\"/></clipPath></defs><g class=\"layer-above\"><g class=\"imagelayer\"/><g class=\"shapelayer\"/></g><g class=\"infolayer\"><g class=\"legend\" pointer-events=\"all\" transform=\"translate(770,227)\"><rect class=\"bg\" shape-rendering=\"crispEdges\" style=\"stroke: rgb(0, 0, 0); stroke-opacity: 1; fill: rgb(255, 255, 255); fill-opacity: 1; stroke-width: 0.7px;\" width=\"151.3\" height=\"75.3\" x=\"0.35\" y=\"0.35\"/><g class=\"scrollbox\" transform=\"\" clip-path=\"url(#legenda490b6)\"><text class=\"legendtitletext\" text-anchor=\"start\" x=\"2.7\" y=\"22.8\" style=\"font-family: 'Times New Roman'; font-size: 17px; fill: rgb(0, 0, 0); fill-opacity: 1; white-space: pre;\">gender (female/male)</text><g class=\"groups\"><g class=\"traces\" transform=\"translate(0.7,38.4)\" style=\"opacity: 1;\"><text class=\"legendtext\" text-anchor=\"start\" x=\"40\" y=\"5.46\" style=\"font-family: 'Times New Roman'; font-size: 14px; fill: rgb(0, 0, 0); fill-opacity: 1; white-space: pre;\">1</text><g class=\"layers\" style=\"opacity: 1;\"><g class=\"legendfill\"/><g class=\"legendlines\"/><g class=\"legendsymbols\"><g class=\"legendpoints\"><path class=\"legendpie\" d=\"M6,6H-6V-6H6Z\" transform=\"translate(20,0)\" style=\"fill: rgb(64, 0, 75); fill-opacity: 1; stroke-width: 1; stroke: rgb(0, 0, 0); stroke-opacity: 1;\"/></g></g></g><rect class=\"legendtoggle\" x=\"0\" y=\"-10.6\" width=\"47\" height=\"21.2\" style=\"fill: rgb(0, 0, 0); fill-opacity: 0;\"/></g><g class=\"traces\" transform=\"translate(0.7,59.6)\" style=\"opacity: 1;\"><text class=\"legendtext\" text-anchor=\"start\" x=\"40\" y=\"5.46\" style=\"font-family: 'Times New Roman'; font-size: 14px; fill: rgb(0, 0, 0); fill-opacity: 1; white-space: pre;\">0</text><g class=\"layers\" style=\"opacity: 1;\"><g class=\"legendfill\"/><g class=\"legendlines\"/><g class=\"legendsymbols\"><g class=\"legendpoints\"><path class=\"legendpie\" d=\"M6,6H-6V-6H6Z\" transform=\"translate(20,0)\" style=\"fill: rgb(118, 42, 131); fill-opacity: 1; stroke-width: 1; stroke: rgb(0, 0, 0); stroke-opacity: 1;\"/></g></g></g><rect class=\"legendtoggle\" x=\"0\" y=\"-10.6\" width=\"47\" height=\"21.2\" style=\"fill: rgb(0, 0, 0); fill-opacity: 0;\"/></g></g></g><rect class=\"scrollbar\" rx=\"20\" ry=\"3\" width=\"0\" height=\"0\" x=\"0\" y=\"0\" style=\"fill: rgb(128, 139, 164); fill-opacity: 1;\"/></g><g class=\"g-gtitle\"><text class=\"gtitle\" x=\"210\" y=\"25\" text-anchor=\"middle\" dy=\"0.7em\" style=\"font-family: 'Times New Roman'; font-size: 26px; fill: rgb(0, 0, 0); opacity: 1; font-weight: normal; white-space: pre;\">Distribution of gender</text></g><g class=\"annotation\" data-index=\"0\" style=\"opacity: 1;\"><g class=\"annotation-text-g\" transform=\"rotate(0,500,477.00000000000006)\"><g class=\"cursor-pointer\" transform=\"translate(405,467)\"><rect class=\"bg\" x=\"0.5\" y=\"0.5\" width=\"189\" height=\"19\" style=\"stroke-width: 1px; stroke: rgb(0, 0, 0); stroke-opacity: 0; fill: rgb(0, 0, 0); fill-opacity: 0;\"/><text class=\"annotation-text\" text-anchor=\"middle\" x=\"94.984375\" y=\"15\" style=\"font-family: 'Open Sans', verdana, arial, sans-serif; font-size: 14px; fill: rgb(0, 0, 0); fill-opacity: 1; white-space: pre;\">Majority of patients were male</text></g></g></g></g></svg>"
      ]
     },
     "metadata": {},
     "output_type": "display_data"
    }
   ],
   "source": [
    "\n",
    "palette = cl.scales['11']['div']['PRGn']\n",
    "\n",
    "\n",
    "gen = df['gender'].value_counts().reset_index()\n",
    "gen.columns = ['gender', 'count']\n",
    "\n",
    "fig = go.Figure(data=[go.Pie(\n",
    "    labels=gen['gender'],\n",
    "    values=gen['count'],\n",
    "    marker=dict(colors=palette, line=dict(color='#000000', width=1)),\n",
    "    textinfo=\"label+percent\",\n",
    "    textfont=dict(size=14, color='#FFFFFF')\n",
    ")])\n",
    "\n",
    "\n",
    "fig.update_layout(\n",
    "    title_text=\"Distribution of gender\",\n",
    "    title_font_size=24,\n",
    "    title_font_family=\"Times New Roman\",\n",
    "    title_font_color=\"#000000\",  \n",
    "    paper_bgcolor='#ffffff',  \n",
    "    plot_bgcolor='#ffffff', \n",
    "    showlegend=True,\n",
    "    legend_title_text='gender (female/male)',\n",
    "    legend=dict(\n",
    "        x=0.8,\n",
    "        y=0.5,\n",
    "        traceorder='normal',\n",
    "        font=dict(\n",
    "            family=\"Times New Roman\",\n",
    "            size=14,\n",
    "            color=\"#000000\"\n",
    "        ),\n",
    "        bgcolor=\"#ffffff\",  \n",
    "        bordercolor=\"#000000\", \n",
    "        borderwidth=0.7,\n",
    "        orientation=\"v\" \n",
    "    )\n",
    ")\n",
    "\n",
    "fig.update_layout(width=1000)\n",
    "\n",
    "fig.update_layout(\n",
    "    title={\n",
    "        'text': \"Distribution of gender\",\n",
    "        'y':0.95,\n",
    "        'x':0.21,\n",
    "        'xanchor': 'center',\n",
    "        'yanchor': 'top'},\n",
    "    title_font_size=26,\n",
    "    margin=dict(l=50, r=50, t=80, b=50)\n",
    ")\n",
    "\n",
    "fig.add_annotation(\n",
    "    text=\"Majority of patients were male\",\n",
    "    x=0.5,\n",
    "    y=-0.10,\n",
    "    showarrow=False,\n",
    "    font=dict(color=\"#000000\", size=14) \n",
    ")\n",
    "\n",
    "# Show the pie chart\n",
    "fig.show('svg')\n"
   ]
  },
  {
   "cell_type": "markdown",
   "id": "6ea36097",
   "metadata": {
    "papermill": {
     "duration": 0.025771,
     "end_time": "2024-05-29T06:42:56.954890",
     "exception": false,
     "start_time": "2024-05-29T06:42:56.929119",
     "status": "completed"
    },
    "tags": []
   },
   "source": [
    "----------------------------------------------------------------------------------------------------------------------------------------------------------\n"
   ]
  },
  {
   "cell_type": "markdown",
   "id": "1bf24ea0",
   "metadata": {
    "papermill": {
     "duration": 0.032475,
     "end_time": "2024-05-29T06:42:57.013741",
     "exception": false,
     "start_time": "2024-05-29T06:42:56.981266",
     "status": "completed"
    },
    "tags": []
   },
   "source": [
    "## str2: antiretroviral history (0=naive, 1=experienced)\n",
    "\n",
    "***About***\n",
    "<div>\n",
    "    <p>\n",
    "        The variable str2 represents the antiretroviral history of individuals, specifically whether they are \"naive\" or \"experienced\" with antiretroviral therapy (ART).\n",
    "    </p>\n",
    "    <ul>\n",
    "        <li>Naive (0):\n",
    "            <ul>\n",
    "                <li>Individuals categorized as \"naive\" have not previously received antiretroviral therapy. They are newly diagnosed or have not yet started treatment for HIV/AIDS. This group typically includes individuals who have recently tested positive for HIV or have delayed initiating treatment for various reasons.</li>\n",
    "            </ul>\n",
    "        </li>\n",
    "        <li>Experienced (1):\n",
    "            <ul>\n",
    "                <li>Individuals categorized as \"experienced\" have a history of receiving antiretroviral therapy. They have previously been treated for HIV/AIDS with antiretroviral medications. This group may include individuals who have undergone treatment for a certain duration, stopped treatment, and then resumed therapy, as well as those who have been consistently on ART for an extended period.</li>\n",
    "            </ul>\n",
    "        </li>\n",
    "     \n",
    "   </ul>\n",
    "</div>\n",
    "\n",
    "\n",
    "***Conclusions***\n",
    "\n",
    "- *Majority of patients were experienced and were previously treated with ART medication*"
   ]
  },
  {
   "cell_type": "code",
   "execution_count": 38,
   "id": "558c0f9b",
   "metadata": {
    "execution": {
     "iopub.execute_input": "2024-05-29T06:42:57.094378Z",
     "iopub.status.busy": "2024-05-29T06:42:57.093985Z",
     "iopub.status.idle": "2024-05-29T06:42:57.103938Z",
     "shell.execute_reply": "2024-05-29T06:42:57.102894Z"
    },
    "papermill": {
     "duration": 0.054058,
     "end_time": "2024-05-29T06:42:57.106522",
     "exception": false,
     "start_time": "2024-05-29T06:42:57.052464",
     "status": "completed"
    },
    "tags": []
   },
   "outputs": [
    {
     "data": {
      "text/plain": [
       "str2\n",
       "1    8655\n",
       "0    6345\n",
       "Name: count, dtype: int64"
      ]
     },
     "execution_count": 38,
     "metadata": {},
     "output_type": "execute_result"
    }
   ],
   "source": [
    "df['str2'].value_counts()"
   ]
  },
  {
   "cell_type": "code",
   "execution_count": 39,
   "id": "131773a6",
   "metadata": {
    "execution": {
     "iopub.execute_input": "2024-05-29T06:42:57.173409Z",
     "iopub.status.busy": "2024-05-29T06:42:57.171986Z",
     "iopub.status.idle": "2024-05-29T06:42:57.217750Z",
     "shell.execute_reply": "2024-05-29T06:42:57.216706Z"
    },
    "papermill": {
     "duration": 0.07667,
     "end_time": "2024-05-29T06:42:57.220393",
     "exception": false,
     "start_time": "2024-05-29T06:42:57.143723",
     "status": "completed"
    },
    "tags": []
   },
   "outputs": [
    {
     "data": {
      "text/plain": [
       "time         -7.573001\n",
       "trt           1.465054\n",
       "age          12.960868\n",
       "wtkg         -9.006936\n",
       "hemo          6.290188\n",
       "homo          3.021203\n",
       "drugs        -3.139231\n",
       "karnof      -13.153909\n",
       "oprior        6.294665\n",
       "z30          60.919072\n",
       "preanti      45.505698\n",
       "race        -12.520895\n",
       "gender       -0.673710\n",
       "str2        100.000000\n",
       "strat        61.222869\n",
       "symptom       3.570729\n",
       "treat         3.934434\n",
       "offtrt       -0.732320\n",
       "cd40        -23.915651\n",
       "cd420       -31.087622\n",
       "cd80         -2.578902\n",
       "cd820         0.989379\n",
       "infected     23.336492\n",
       "Name: str2, dtype: float64"
      ]
     },
     "execution_count": 39,
     "metadata": {},
     "output_type": "execute_result"
    }
   ],
   "source": [
    "df.corr()['str2']*100"
   ]
  },
  {
   "cell_type": "markdown",
   "id": "66e48cec",
   "metadata": {
    "papermill": {
     "duration": 0.02612,
     "end_time": "2024-05-29T06:42:57.272990",
     "exception": false,
     "start_time": "2024-05-29T06:42:57.246870",
     "status": "completed"
    },
    "tags": []
   },
   "source": [
    "*Moderately correlated with z30 and strat* "
   ]
  },
  {
   "cell_type": "code",
   "execution_count": 40,
   "id": "6fd6f069",
   "metadata": {
    "execution": {
     "iopub.execute_input": "2024-05-29T06:42:57.326908Z",
     "iopub.status.busy": "2024-05-29T06:42:57.326527Z",
     "iopub.status.idle": "2024-05-29T06:42:57.397437Z",
     "shell.execute_reply": "2024-05-29T06:42:57.396098Z"
    },
    "papermill": {
     "duration": 0.101304,
     "end_time": "2024-05-29T06:42:57.400367",
     "exception": false,
     "start_time": "2024-05-29T06:42:57.299063",
     "status": "completed"
    },
    "tags": []
   },
   "outputs": [
    {
     "data": {
      "image/svg+xml": [
       "<svg class=\"main-svg\" xmlns=\"http://www.w3.org/2000/svg\" xmlns:xlink=\"http://www.w3.org/1999/xlink\" width=\"1000\" height=\"500\" style=\"\" viewBox=\"0 0 1000 500\"><rect x=\"0\" y=\"0\" width=\"1000\" height=\"500\" style=\"fill: rgb(255, 255, 255); fill-opacity: 1;\"/><defs id=\"defs-9f7af3\"><g class=\"clips\"/><g class=\"gradients\"/><g class=\"patterns\"/></defs><g class=\"bglayer\"/><g class=\"layer-below\"><g class=\"imagelayer\"/><g class=\"shapelayer\"/></g><g class=\"cartesianlayer\"/><g class=\"polarlayer\"/><g class=\"smithlayer\"/><g class=\"ternarylayer\"/><g class=\"geolayer\"/><g class=\"funnelarealayer\"/><g class=\"pielayer\"><g class=\"trace\" stroke-linejoin=\"round\" style=\"opacity: 1;\"><g class=\"slice\"><path class=\"surface\" d=\"M500,265l0,-185a185,185 0 1 1 -86.05294944432971,348.76779259650425Z\" style=\"pointer-events: none; fill: rgb(213, 62, 79); fill-opacity: 1; stroke-width: 1; stroke: rgb(0, 0, 0); stroke-opacity: 1;\"/><g class=\"slicetext\"><text data-notex=\"1\" class=\"slicetext\" transform=\"translate(589.8067659132327,283.05683988387773)\" text-anchor=\"middle\" x=\"0\" y=\"0\" style=\"font-family: 'Open Sans', verdana, arial, sans-serif; font-size: 14px; fill: rgb(255, 255, 255); fill-opacity: 1; white-space: pre;\"><tspan class=\"line\" dy=\"0em\" x=\"0\" y=\"0\">1</tspan><tspan class=\"line\" dy=\"1.3em\" x=\"0\" y=\"0\">57.7%</tspan></text></g></g><g class=\"slice\"><path class=\"surface\" d=\"M500,265l-86.05294944432983,163.7677925965042a185,185 0 0 1 86.05294944432983,-348.7677925965042Z\" style=\"pointer-events: none; fill: rgb(244, 109, 67); fill-opacity: 1; stroke-width: 1; stroke: rgb(0, 0, 0); stroke-opacity: 1;\"/><g class=\"slicetext\"><text data-notex=\"1\" class=\"slicetext\" transform=\"translate(408.86651073687824,238.41268706455855)\" text-anchor=\"middle\" x=\"0\" y=\"0\" style=\"font-family: 'Open Sans', verdana, arial, sans-serif; font-size: 14px; fill: rgb(255, 255, 255); fill-opacity: 1; white-space: pre;\"><tspan class=\"line\" dy=\"0em\" x=\"0\" y=\"0\">0</tspan><tspan class=\"line\" dy=\"1.3em\" x=\"0\" y=\"0\">42.3%</tspan></text></g></g></g></g><g class=\"iciclelayer\"/><g class=\"treemaplayer\"/><g class=\"sunburstlayer\"/><g class=\"glimages\"/><defs id=\"topdefs-9f7af3\"><g class=\"clips\"/><clipPath id=\"legend9f7af3\"><rect width=\"169.6\" height=\"74.6\" x=\"0.7\" y=\"0.7\"/></clipPath></defs><g class=\"layer-above\"><g class=\"imagelayer\"/><g class=\"shapelayer\"/></g><g class=\"infolayer\"><g class=\"legend\" pointer-events=\"all\" transform=\"translate(770,227)\"><rect class=\"bg\" shape-rendering=\"crispEdges\" style=\"stroke: rgb(0, 0, 0); stroke-opacity: 1; fill: rgb(255, 255, 255); fill-opacity: 1; stroke-width: 0.7px;\" width=\"170.3\" height=\"75.3\" x=\"0.35\" y=\"0.35\"/><g class=\"scrollbox\" transform=\"\" clip-path=\"url(#legend9f7af3)\"><text class=\"legendtitletext\" text-anchor=\"start\" x=\"2.7\" y=\"22.8\" style=\"font-family: 'Times New Roman'; font-size: 17px; fill: rgb(0, 0, 0); fill-opacity: 1; white-space: pre;\">str2 (naive/experienced)</text><g class=\"groups\"><g class=\"traces\" transform=\"translate(0.7,38.4)\" style=\"opacity: 1;\"><text class=\"legendtext\" text-anchor=\"start\" x=\"40\" y=\"5.46\" style=\"font-family: 'Times New Roman'; font-size: 14px; fill: rgb(0, 0, 0); fill-opacity: 1; white-space: pre;\">1</text><g class=\"layers\" style=\"opacity: 1;\"><g class=\"legendfill\"/><g class=\"legendlines\"/><g class=\"legendsymbols\"><g class=\"legendpoints\"><path class=\"legendpie\" d=\"M6,6H-6V-6H6Z\" transform=\"translate(20,0)\" style=\"fill: rgb(213, 62, 79); fill-opacity: 1; stroke-width: 1; stroke: rgb(0, 0, 0); stroke-opacity: 1;\"/></g></g></g><rect class=\"legendtoggle\" x=\"0\" y=\"-10.6\" width=\"47\" height=\"21.2\" style=\"fill: rgb(0, 0, 0); fill-opacity: 0;\"/></g><g class=\"traces\" transform=\"translate(0.7,59.6)\" style=\"opacity: 1;\"><text class=\"legendtext\" text-anchor=\"start\" x=\"40\" y=\"5.46\" style=\"font-family: 'Times New Roman'; font-size: 14px; fill: rgb(0, 0, 0); fill-opacity: 1; white-space: pre;\">0</text><g class=\"layers\" style=\"opacity: 1;\"><g class=\"legendfill\"/><g class=\"legendlines\"/><g class=\"legendsymbols\"><g class=\"legendpoints\"><path class=\"legendpie\" d=\"M6,6H-6V-6H6Z\" transform=\"translate(20,0)\" style=\"fill: rgb(244, 109, 67); fill-opacity: 1; stroke-width: 1; stroke: rgb(0, 0, 0); stroke-opacity: 1;\"/></g></g></g><rect class=\"legendtoggle\" x=\"0\" y=\"-10.6\" width=\"47\" height=\"21.2\" style=\"fill: rgb(0, 0, 0); fill-opacity: 0;\"/></g></g></g><rect class=\"scrollbar\" rx=\"20\" ry=\"3\" width=\"0\" height=\"0\" x=\"0\" y=\"0\" style=\"fill: rgb(128, 139, 164); fill-opacity: 1;\"/></g><g class=\"g-gtitle\"><text class=\"gtitle\" x=\"210\" y=\"25\" text-anchor=\"middle\" dy=\"0.7em\" style=\"font-family: 'Times New Roman'; font-size: 26px; fill: rgb(0, 0, 0); opacity: 1; font-weight: normal; white-space: pre;\">Distribution of ART history</text></g><g class=\"annotation\" data-index=\"0\" style=\"opacity: 1;\"><g class=\"annotation-text-g\" transform=\"rotate(0,500,477.00000000000006)\"><g class=\"cursor-pointer\" transform=\"translate(382,467)\"><rect class=\"bg\" x=\"0.5\" y=\"0.5\" width=\"235\" height=\"19\" style=\"stroke-width: 1px; stroke: rgb(0, 0, 0); stroke-opacity: 0; fill: rgb(0, 0, 0); fill-opacity: 0;\"/><text class=\"annotation-text\" text-anchor=\"middle\" x=\"117.953125\" y=\"15\" style=\"font-family: 'Open Sans', verdana, arial, sans-serif; font-size: 14px; fill: rgb(0, 0, 0); fill-opacity: 1; white-space: pre;\">Majority of patients were experienced</text></g></g></g></g></svg>"
      ]
     },
     "metadata": {},
     "output_type": "display_data"
    }
   ],
   "source": [
    "\n",
    "palette = cl.scales['9']['div']['Spectral']\n",
    "\n",
    "\n",
    "str2 = df['str2'].value_counts().reset_index()\n",
    "str2.columns = ['str2', 'count']\n",
    "\n",
    "fig = go.Figure(data=[go.Pie(\n",
    "    labels=str2['str2'],\n",
    "    values=str2['count'],\n",
    "    marker=dict(colors=palette, line=dict(color='#000000', width=1)),\n",
    "    textinfo=\"label+percent\",\n",
    "    textfont=dict(size=14, color='#FFFFFF')\n",
    ")])\n",
    "\n",
    "\n",
    "fig.update_layout(\n",
    "    title_text=\"Distribution of ART history\",\n",
    "    title_font_size=24,\n",
    "    title_font_family=\"Times New Roman\",\n",
    "    title_font_color=\"#000000\",  \n",
    "    paper_bgcolor='#ffffff',  \n",
    "    plot_bgcolor='#ffffff', \n",
    "    showlegend=True,\n",
    "    legend_title_text='str2 (naive/experienced)',\n",
    "    legend=dict(\n",
    "        x=0.8,\n",
    "        y=0.5,\n",
    "        traceorder='normal',\n",
    "        font=dict(\n",
    "            family=\"Times New Roman\",\n",
    "            size=14,\n",
    "            color=\"#000000\"\n",
    "        ),\n",
    "        bgcolor=\"#ffffff\",  \n",
    "        bordercolor=\"#000000\", \n",
    "        borderwidth=0.7,\n",
    "        orientation=\"v\" \n",
    "    )\n",
    ")\n",
    "\n",
    "fig.update_layout(width=1000)\n",
    "\n",
    "fig.update_layout(\n",
    "    title={\n",
    "        'text': \"Distribution of ART history\",\n",
    "        'y':0.95,\n",
    "        'x':0.21,\n",
    "        'xanchor': 'center',\n",
    "        'yanchor': 'top'},\n",
    "    title_font_size=26,\n",
    "    margin=dict(l=50, r=50, t=80, b=50)\n",
    ")\n",
    "\n",
    "fig.add_annotation(\n",
    "    text=\"Majority of patients were experienced\",\n",
    "    x=0.5,\n",
    "    y=-0.10,\n",
    "    showarrow=False,\n",
    "    font=dict(color=\"#000000\", size=14) \n",
    ")\n",
    "\n",
    "# Show the pie chart\n",
    "fig.show('svg')\n"
   ]
  },
  {
   "cell_type": "markdown",
   "id": "7bc3c40a",
   "metadata": {
    "papermill": {
     "duration": 0.026064,
     "end_time": "2024-05-29T06:42:57.457213",
     "exception": false,
     "start_time": "2024-05-29T06:42:57.431149",
     "status": "completed"
    },
    "tags": []
   },
   "source": [
    "----------------------------------------------------------------------------------------------------------------------------------------------------------\n"
   ]
  },
  {
   "cell_type": "markdown",
   "id": "044545c9",
   "metadata": {
    "papermill": {
     "duration": 0.026836,
     "end_time": "2024-05-29T06:42:57.510984",
     "exception": false,
     "start_time": "2024-05-29T06:42:57.484148",
     "status": "completed"
    },
    "tags": []
   },
   "source": [
    "## symptom: symptomatic indicator (0=asymp, 1=symp)\n",
    "\n",
    "<div>\n",
    "     <ul>\n",
    "        <li>Asymptomatic (0):\n",
    "            <ul>\n",
    "                <li>Individuals categorized as \"asymp\" (asymptomatic) have no noticeable symptoms associated with HIV/AIDS at the time of assessment. They may be carriers of the virus but have not yet developed symptoms or clinical manifestations of the disease. Asymptomatic individuals may still be infectious and capable of transmitting the virus to others.</li>\n",
    "            </ul>\n",
    "        </li>\n",
    "        <li>Symptomatic (1):\n",
    "            <ul>\n",
    "                <li>Individuals categorized as \"symp\" (symptomatic) exhibit symptoms or clinical manifestations of HIV/AIDS at the time of assessment. These symptoms may include but are not limited to fever, fatigue, weight loss, night sweats, swollen lymph nodes, opportunistic infections, and other AIDS-defining illnesses. Symptomatic individuals typically require medical evaluation, treatment, and management of HIV/AIDS-related complications.</li>\n",
    "            </ul>\n",
    "        </li>\n",
    "     \n",
    "   </ul>\n",
    "    </div>\n",
    "    \n",
    "***Conclusion***\n",
    "\n",
    "- *Most of the patients had no signs of any symptom*\n",
    "    "
   ]
  },
  {
   "cell_type": "code",
   "execution_count": 41,
   "id": "258fb929",
   "metadata": {
    "execution": {
     "iopub.execute_input": "2024-05-29T06:42:57.567736Z",
     "iopub.status.busy": "2024-05-29T06:42:57.566258Z",
     "iopub.status.idle": "2024-05-29T06:42:57.574967Z",
     "shell.execute_reply": "2024-05-29T06:42:57.574174Z"
    },
    "papermill": {
     "duration": 0.039109,
     "end_time": "2024-05-29T06:42:57.577038",
     "exception": false,
     "start_time": "2024-05-29T06:42:57.537929",
     "status": "completed"
    },
    "tags": []
   },
   "outputs": [
    {
     "data": {
      "text/plain": [
       "symptom\n",
       "0    13681\n",
       "1     1319\n",
       "Name: count, dtype: int64"
      ]
     },
     "execution_count": 41,
     "metadata": {},
     "output_type": "execute_result"
    }
   ],
   "source": [
    "df['symptom'].value_counts()"
   ]
  },
  {
   "cell_type": "code",
   "execution_count": 42,
   "id": "2935c5f0",
   "metadata": {
    "execution": {
     "iopub.execute_input": "2024-05-29T06:42:57.633490Z",
     "iopub.status.busy": "2024-05-29T06:42:57.632774Z",
     "iopub.status.idle": "2024-05-29T06:42:57.695958Z",
     "shell.execute_reply": "2024-05-29T06:42:57.694651Z"
    },
    "papermill": {
     "duration": 0.094403,
     "end_time": "2024-05-29T06:42:57.698505",
     "exception": false,
     "start_time": "2024-05-29T06:42:57.604102",
     "status": "completed"
    },
    "tags": []
   },
   "outputs": [
    {
     "data": {
      "image/svg+xml": [
       "<svg class=\"main-svg\" xmlns=\"http://www.w3.org/2000/svg\" xmlns:xlink=\"http://www.w3.org/1999/xlink\" width=\"1000\" height=\"500\" style=\"\" viewBox=\"0 0 1000 500\"><rect x=\"0\" y=\"0\" width=\"1000\" height=\"500\" style=\"fill: rgb(255, 255, 255); fill-opacity: 1;\"/><defs id=\"defs-4cc679\"><g class=\"clips\"/><g class=\"gradients\"/><g class=\"patterns\"/></defs><g class=\"bglayer\"/><g class=\"layer-below\"><g class=\"imagelayer\"/><g class=\"shapelayer\"/></g><g class=\"cartesianlayer\"/><g class=\"polarlayer\"/><g class=\"smithlayer\"/><g class=\"ternarylayer\"/><g class=\"geolayer\"/><g class=\"funnelarealayer\"/><g class=\"pielayer\"><g class=\"trace\" stroke-linejoin=\"round\" style=\"opacity: 1;\"><g class=\"slice\"><path class=\"surface\" d=\"M500,265l0,-185a185,185 0 1 1 -97.09135223020682,27.525337523429158Z\" style=\"pointer-events: none; fill: rgb(247, 252, 240); fill-opacity: 1; stroke-width: 1; stroke: rgb(0, 0, 0); stroke-opacity: 1;\"/><g class=\"slicetext\"><text data-notex=\"1\" class=\"slicetext\" transform=\"translate(525.2294159708325,349.8912831100304)\" text-anchor=\"middle\" x=\"0\" y=\"0\" style=\"font-family: 'Open Sans', verdana, arial, sans-serif; font-size: 14px; fill: rgb(0, 0, 0); fill-opacity: 1; white-space: pre;\"><tspan class=\"line\" dy=\"0em\" x=\"0\" y=\"0\">0</tspan><tspan class=\"line\" dy=\"1.3em\" x=\"0\" y=\"0\">91.2%</tspan></text></g></g><g class=\"slice\"><path class=\"surface\" d=\"M500,265l-97.09135223020672,-157.47466247657093a185,185 0 0 1 97.09135223020672,-27.525337523429073Z\" style=\"pointer-events: none; fill: rgb(224, 243, 219); fill-opacity: 1; stroke-width: 1; stroke: rgb(0, 0, 0); stroke-opacity: 1;\"/><g class=\"slicetext\"><text data-notex=\"1\" class=\"slicetext\" transform=\"translate(460.35449665561606,121.05508312597931)\" text-anchor=\"middle\" x=\"0\" y=\"0\" style=\"font-family: 'Open Sans', verdana, arial, sans-serif; font-size: 14px; fill: rgb(0, 0, 0); fill-opacity: 1; white-space: pre;\"><tspan class=\"line\" dy=\"0em\" x=\"0\" y=\"0\">1</tspan><tspan class=\"line\" dy=\"1.3em\" x=\"0\" y=\"0\">8.79%</tspan></text></g></g></g></g><g class=\"iciclelayer\"/><g class=\"treemaplayer\"/><g class=\"sunburstlayer\"/><g class=\"glimages\"/><defs id=\"topdefs-4cc679\"><g class=\"clips\"/><clipPath id=\"legend4cc679\"><rect width=\"67.6\" height=\"74.6\" x=\"0.7\" y=\"0.7\"/></clipPath></defs><g class=\"layer-above\"><g class=\"imagelayer\"/><g class=\"shapelayer\"/></g><g class=\"infolayer\"><g class=\"legend\" pointer-events=\"all\" transform=\"translate(770,227)\"><rect class=\"bg\" shape-rendering=\"crispEdges\" style=\"stroke: rgb(0, 0, 0); stroke-opacity: 1; fill: rgb(255, 255, 255); fill-opacity: 1; stroke-width: 0.7px;\" width=\"68.3\" height=\"75.3\" x=\"0.35\" y=\"0.35\"/><g class=\"scrollbox\" transform=\"\" clip-path=\"url(#legend4cc679)\"><text class=\"legendtitletext\" text-anchor=\"start\" x=\"2.7\" y=\"22.8\" style=\"font-family: 'Times New Roman'; font-size: 17px; fill: rgb(0, 0, 0); fill-opacity: 1; white-space: pre;\">symptom</text><g class=\"groups\"><g class=\"traces\" transform=\"translate(0.7,38.4)\" style=\"opacity: 1;\"><text class=\"legendtext\" text-anchor=\"start\" x=\"40\" y=\"5.46\" style=\"font-family: 'Times New Roman'; font-size: 14px; fill: rgb(0, 0, 0); fill-opacity: 1; white-space: pre;\">0</text><g class=\"layers\" style=\"opacity: 1;\"><g class=\"legendfill\"/><g class=\"legendlines\"/><g class=\"legendsymbols\"><g class=\"legendpoints\"><path class=\"legendpie\" d=\"M6,6H-6V-6H6Z\" transform=\"translate(20,0)\" style=\"fill: rgb(247, 252, 240); fill-opacity: 1; stroke-width: 1; stroke: rgb(0, 0, 0); stroke-opacity: 1;\"/></g></g></g><rect class=\"legendtoggle\" x=\"0\" y=\"-10.6\" width=\"47\" height=\"21.2\" style=\"fill: rgb(0, 0, 0); fill-opacity: 0;\"/></g><g class=\"traces\" transform=\"translate(0.7,59.6)\" style=\"opacity: 1;\"><text class=\"legendtext\" text-anchor=\"start\" x=\"40\" y=\"5.46\" style=\"font-family: 'Times New Roman'; font-size: 14px; fill: rgb(0, 0, 0); fill-opacity: 1; white-space: pre;\">1</text><g class=\"layers\" style=\"opacity: 1;\"><g class=\"legendfill\"/><g class=\"legendlines\"/><g class=\"legendsymbols\"><g class=\"legendpoints\"><path class=\"legendpie\" d=\"M6,6H-6V-6H6Z\" transform=\"translate(20,0)\" style=\"fill: rgb(224, 243, 219); fill-opacity: 1; stroke-width: 1; stroke: rgb(0, 0, 0); stroke-opacity: 1;\"/></g></g></g><rect class=\"legendtoggle\" x=\"0\" y=\"-10.6\" width=\"47\" height=\"21.2\" style=\"fill: rgb(0, 0, 0); fill-opacity: 0;\"/></g></g></g><rect class=\"scrollbar\" rx=\"20\" ry=\"3\" width=\"0\" height=\"0\" x=\"0\" y=\"0\" style=\"fill: rgb(128, 139, 164); fill-opacity: 1;\"/></g><g class=\"g-gtitle\"><text class=\"gtitle\" x=\"210\" y=\"25\" text-anchor=\"middle\" dy=\"0.7em\" style=\"font-family: 'Times New Roman'; font-size: 26px; fill: rgb(0, 0, 0); opacity: 1; font-weight: normal; white-space: pre;\">Distribution of symptom</text></g><g class=\"annotation\" data-index=\"0\" style=\"opacity: 1;\"><g class=\"annotation-text-g\" transform=\"rotate(0,500,477.00000000000006)\"><g class=\"cursor-pointer\" transform=\"translate(377,467)\"><rect class=\"bg\" x=\"0.5\" y=\"0.5\" width=\"245\" height=\"19\" style=\"stroke-width: 1px; stroke: rgb(0, 0, 0); stroke-opacity: 0; fill: rgb(0, 0, 0); fill-opacity: 0;\"/><text class=\"annotation-text\" text-anchor=\"middle\" x=\"123\" y=\"15\" style=\"font-family: 'Open Sans', verdana, arial, sans-serif; font-size: 14px; fill: rgb(0, 0, 0); fill-opacity: 1; white-space: pre;\">Majority of patients were asymptomatic</text></g></g></g></g></svg>"
      ]
     },
     "metadata": {},
     "output_type": "display_data"
    }
   ],
   "source": [
    "\n",
    "palette = cl.scales['8']['seq']['GnBu']\n",
    "\n",
    "\n",
    "sym = df['symptom'].value_counts().reset_index()\n",
    "sym.columns = ['symptom', 'count']\n",
    "\n",
    "fig = go.Figure(data=[go.Pie(\n",
    "    labels=sym['symptom'],\n",
    "    values=sym['count'],\n",
    "    marker=dict(colors=palette, line=dict(color='#000000', width=1)),\n",
    "    textinfo=\"label+percent\",\n",
    "    textfont=dict(size=14, color='#000000')\n",
    ")])\n",
    "\n",
    "\n",
    "fig.update_layout(\n",
    "    title_text=\"Distribution of Symptom\",\n",
    "    title_font_size=24,\n",
    "    title_font_family=\"Times New Roman\",\n",
    "    title_font_color=\"#000000\",  \n",
    "    paper_bgcolor='#ffffff',  \n",
    "    plot_bgcolor='#ffffff', \n",
    "    showlegend=True,\n",
    "    legend_title_text='symptom',\n",
    "    legend=dict(\n",
    "        x=0.8,\n",
    "        y=0.5,\n",
    "        traceorder='normal',\n",
    "        font=dict(\n",
    "            family=\"Times New Roman\",\n",
    "            size=14,\n",
    "            color=\"#000000\"\n",
    "        ),\n",
    "        bgcolor=\"#ffffff\",  \n",
    "        bordercolor=\"#000000\", \n",
    "        borderwidth=0.7,\n",
    "        orientation=\"v\" \n",
    "    )\n",
    ")\n",
    "\n",
    "fig.update_layout(width=1000)\n",
    "\n",
    "fig.update_layout(\n",
    "    title={\n",
    "        'text': \"Distribution of symptom\",\n",
    "        'y':0.95,\n",
    "        'x':0.21,\n",
    "        'xanchor': 'center',\n",
    "        'yanchor': 'top'},\n",
    "    title_font_size=26,\n",
    "    margin=dict(l=50, r=50, t=80, b=50)\n",
    ")\n",
    "\n",
    "fig.add_annotation(\n",
    "    text=\"Majority of patients were asymptomatic\",\n",
    "    x=0.5,\n",
    "    y=-0.10,\n",
    "    showarrow=False,\n",
    "    font=dict(color=\"#000000\", size=14) \n",
    ")\n",
    "\n",
    "# Show the pie chart\n",
    "fig.show('svg')\n"
   ]
  },
  {
   "cell_type": "code",
   "execution_count": 43,
   "id": "2f11af70",
   "metadata": {
    "execution": {
     "iopub.execute_input": "2024-05-29T06:42:57.756233Z",
     "iopub.status.busy": "2024-05-29T06:42:57.755535Z",
     "iopub.status.idle": "2024-05-29T06:42:57.786790Z",
     "shell.execute_reply": "2024-05-29T06:42:57.786009Z"
    },
    "papermill": {
     "duration": 0.061512,
     "end_time": "2024-05-29T06:42:57.788944",
     "exception": false,
     "start_time": "2024-05-29T06:42:57.727432",
     "status": "completed"
    },
    "tags": []
   },
   "outputs": [
    {
     "data": {
      "text/plain": [
       "time         -2.156535\n",
       "trt          -2.005299\n",
       "age           0.059428\n",
       "wtkg         -0.288660\n",
       "hemo         -0.964097\n",
       "homo          1.782219\n",
       "drugs         0.447201\n",
       "karnof        0.382483\n",
       "oprior        2.945846\n",
       "z30           1.727802\n",
       "preanti       2.199479\n",
       "race         -0.458382\n",
       "gender        0.722118\n",
       "str2          3.570729\n",
       "strat         1.967243\n",
       "symptom     100.000000\n",
       "treat        -3.062186\n",
       "offtrt       -0.299683\n",
       "cd40         -2.154229\n",
       "cd420        -3.933053\n",
       "cd80          1.023918\n",
       "cd820         1.350573\n",
       "infected      3.301034\n",
       "Name: symptom, dtype: float64"
      ]
     },
     "execution_count": 43,
     "metadata": {},
     "output_type": "execute_result"
    }
   ],
   "source": [
    "df.corr()['symptom']*100"
   ]
  }
 ],
 "metadata": {
  "kaggle": {
   "accelerator": "none",
   "dataSources": [
    {
     "datasetId": 4890913,
     "sourceId": 8249624,
     "sourceType": "datasetVersion"
    }
   ],
   "dockerImageVersionId": 30698,
   "isGpuEnabled": false,
   "isInternetEnabled": true,
   "language": "python",
   "sourceType": "notebook"
  },
  "kernelspec": {
   "display_name": "Python 3",
   "language": "python",
   "name": "python3"
  },
  "language_info": {
   "codemirror_mode": {
    "name": "ipython",
    "version": 3
   },
   "file_extension": ".py",
   "mimetype": "text/x-python",
   "name": "python",
   "nbconvert_exporter": "python",
   "pygments_lexer": "ipython3",
   "version": "3.10.13"
  },
  "papermill": {
   "default_parameters": {},
   "duration": 32.189656,
   "end_time": "2024-05-29T06:43:00.437168",
   "environment_variables": {},
   "exception": null,
   "input_path": "__notebook__.ipynb",
   "output_path": "__notebook__.ipynb",
   "parameters": {},
   "start_time": "2024-05-29T06:42:28.247512",
   "version": "2.5.0"
  }
 },
 "nbformat": 4,
 "nbformat_minor": 5
}
