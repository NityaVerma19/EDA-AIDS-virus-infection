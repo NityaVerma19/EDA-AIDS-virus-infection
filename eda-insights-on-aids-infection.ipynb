{
 "cells": [
  {
   "cell_type": "markdown",
   "id": "25ac98c4",
   "metadata": {
    "papermill": {
     "duration": 0.027692,
     "end_time": "2024-06-02T04:53:03.776701",
     "exception": false,
     "start_time": "2024-06-02T04:53:03.749009",
     "status": "completed"
    },
    "tags": []
   },
   "source": [
    "## <div style=\"text-align: center;  font-family: Tahoma; padding: 14px; line-height: 1;font-size : 30px\"> <b> AIDS VIRUS INFECTION : EDA</b></div>"
   ]
  },
  {
   "cell_type": "markdown",
   "id": "e846dd1d",
   "metadata": {
    "papermill": {
     "duration": 0.025548,
     "end_time": "2024-06-02T04:53:03.828443",
     "exception": false,
     "start_time": "2024-06-02T04:53:03.802895",
     "status": "completed"
    },
    "tags": []
   },
   "source": [
    "![aids.jpg](https://media.post.rvohealth.io/wp-content/uploads/sites/3/2020/10/HIV_AIDS_GettyImages1178747427_Thumb-732x549.jpg)"
   ]
  },
  {
   "cell_type": "markdown",
   "id": "56605d7c",
   "metadata": {
    "papermill": {
     "duration": 0.025561,
     "end_time": "2024-06-02T04:53:03.879514",
     "exception": false,
     "start_time": "2024-06-02T04:53:03.853953",
     "status": "completed"
    },
    "tags": []
   },
   "source": [
    "<p style=\"font-size: 18px;\"><b>Purpose</b></p>\n",
    "\n",
    "The primary aim of performing Exploratory Data Analysis (EDA) on an AIDS virus infection dataset is to gain insights into the patterns, trends, and characteristics of the spread of the virus. EDA allows researchers, public health officials, and policymakers to understand the dynamics of AIDS virus transmission, identify high-risk populations or regions, and assess the effectiveness of prevention and treatment efforts. By exploring the data through techniques such as visualization, summary statistics, and hypothesis testing, EDA helps in uncovering important relationships between variables such as demographics, risk behaviors, and disease outcomes. Furthermore, EDA plays a critical role in detecting anomalies or outliers in the data, which may indicate areas of concern or areas requiring further investigation. Ultimately, the insights gained from EDA inform evidence-based decision-making, resource allocation, and intervention strategies aimed at mitigating the impact of AIDS virus infection on individuals and communities."
   ]
  },
  {
   "cell_type": "markdown",
   "id": "7d2d6a5f",
   "metadata": {
    "papermill": {
     "duration": 0.02535,
     "end_time": "2024-06-02T04:53:03.930549",
     "exception": false,
     "start_time": "2024-06-02T04:53:03.905199",
     "status": "completed"
    },
    "tags": []
   },
   "source": [
    "### *Content* \n",
    "\n",
    "<div class=\"list-group\" id=\"list-tab\" role=\"tablist\">\n",
    "   \n",
    " [<b>1. Univariate Analysis](#1)  \n",
    " [<b>2. Statistical tests](#2)<br>\n",
    " [<b>3. Bivariate Analysis](#3)"
   ]
  },
  {
   "cell_type": "markdown",
   "id": "4351bbbf",
   "metadata": {
    "papermill": {
     "duration": 0.026183,
     "end_time": "2024-06-02T04:53:03.982251",
     "exception": false,
     "start_time": "2024-06-02T04:53:03.956068",
     "status": "completed"
    },
    "tags": []
   },
   "source": [
    "## Importing libraries"
   ]
  },
  {
   "cell_type": "code",
   "execution_count": 1,
   "id": "0c3cb6a5",
   "metadata": {
    "_cell_guid": "b1076dfc-b9ad-4769-8c92-a6c4dae69d19",
    "_uuid": "8f2839f25d086af736a60e9eeb907d3b93b6e0e5",
    "execution": {
     "iopub.execute_input": "2024-06-02T04:53:04.035069Z",
     "iopub.status.busy": "2024-06-02T04:53:04.034683Z",
     "iopub.status.idle": "2024-06-02T04:53:08.142167Z",
     "shell.execute_reply": "2024-06-02T04:53:08.140954Z"
    },
    "papermill": {
     "duration": 4.136828,
     "end_time": "2024-06-02T04:53:08.144654",
     "exception": false,
     "start_time": "2024-06-02T04:53:04.007826",
     "status": "completed"
    },
    "tags": []
   },
   "outputs": [
    {
     "name": "stdout",
     "output_type": "stream",
     "text": [
      "/kaggle/input/aids-virus-infection-prediction/AIDS_Classification_15000.csv\n",
      "/kaggle/input/aids-virus-infection-prediction/AIDS_Classification_50000.csv\n",
      "/kaggle/input/aids-virus-infection-prediction/AIDS_Classification.csv\n",
      "/kaggle/input/aids-virus-infection-prediction/AIDS_Classification_5000.csv\n"
     ]
    }
   ],
   "source": [
    "# This Python 3 environment comes with many helpful analytics libraries installed\n",
    "# It is defined by the kaggle/python Docker image: https://github.com/kaggle/docker-python\n",
    "# For example, here's several helpful packages to load\n",
    "\n",
    "import numpy as np # linear algebra\n",
    "import pandas as pd # data processing, CSV file I/O (e.g. pd.read_csv)\n",
    "import plotly.graph_objects as go\n",
    "import colorlover as cl\n",
    "import seaborn as sns\n",
    "from scipy.stats import chi2_contingency\n",
    "from scipy.stats import fisher_exact\n",
    "from statsmodels.stats.outliers_influence import variance_inflation_factor\n",
    "import statsmodels.api as sm\n",
    "\n",
    "\n",
    "# Input data files are available in the read-only \"../input/\" directory\n",
    "# For example, running this (by clicking run or pressing Shift+Enter) will list all files under the input directory\n",
    "\n",
    "import os\n",
    "for dirname, _, filenames in os.walk('/kaggle/input'):\n",
    "    for filename in filenames:\n",
    "        print(os.path.join(dirname, filename))\n",
    "\n",
    "# You can write up to 20GB to the current directory (/kaggle/working/) that gets preserved as output when you create a version using \"Save & Run All\" \n",
    "# You can also write temporary files to /kaggle/temp/, but they won't be saved outside of the current session"
   ]
  },
  {
   "cell_type": "code",
   "execution_count": 2,
   "id": "476d047e",
   "metadata": {
    "execution": {
     "iopub.execute_input": "2024-06-02T04:53:08.265373Z",
     "iopub.status.busy": "2024-06-02T04:53:08.264018Z",
     "iopub.status.idle": "2024-06-02T04:53:25.463175Z",
     "shell.execute_reply": "2024-06-02T04:53:25.461876Z"
    },
    "papermill": {
     "duration": 17.295598,
     "end_time": "2024-06-02T04:53:25.466155",
     "exception": false,
     "start_time": "2024-06-02T04:53:08.170557",
     "status": "completed"
    },
    "tags": []
   },
   "outputs": [
    {
     "name": "stdout",
     "output_type": "stream",
     "text": [
      "Collecting kaleido\r\n",
      "  Downloading kaleido-0.2.1-py2.py3-none-manylinux1_x86_64.whl.metadata (15 kB)\r\n",
      "Downloading kaleido-0.2.1-py2.py3-none-manylinux1_x86_64.whl (79.9 MB)\r\n",
      "\u001b[2K   \u001b[90m━━━━━━━━━━━━━━━━━━━━━━━━━━━━━━━━━━━━━━━━\u001b[0m \u001b[32m79.9/79.9 MB\u001b[0m \u001b[31m18.6 MB/s\u001b[0m eta \u001b[36m0:00:00\u001b[0m\r\n",
      "\u001b[?25hInstalling collected packages: kaleido\r\n",
      "Successfully installed kaleido-0.2.1\r\n"
     ]
    }
   ],
   "source": [
    "! pip install -U kaleido"
   ]
  },
  {
   "cell_type": "code",
   "execution_count": 3,
   "id": "0c1671b4",
   "metadata": {
    "execution": {
     "iopub.execute_input": "2024-06-02T04:53:25.528436Z",
     "iopub.status.busy": "2024-06-02T04:53:25.528032Z",
     "iopub.status.idle": "2024-06-02T04:53:25.627931Z",
     "shell.execute_reply": "2024-06-02T04:53:25.626646Z"
    },
    "papermill": {
     "duration": 0.134169,
     "end_time": "2024-06-02T04:53:25.630842",
     "exception": false,
     "start_time": "2024-06-02T04:53:25.496673",
     "status": "completed"
    },
    "tags": []
   },
   "outputs": [],
   "source": [
    "df = pd.read_csv(\"/kaggle/input/aids-virus-infection-prediction/AIDS_Classification_15000.csv\")"
   ]
  },
  {
   "cell_type": "code",
   "execution_count": 4,
   "id": "7668b3d6",
   "metadata": {
    "execution": {
     "iopub.execute_input": "2024-06-02T04:53:25.691033Z",
     "iopub.status.busy": "2024-06-02T04:53:25.690671Z",
     "iopub.status.idle": "2024-06-02T04:53:25.729809Z",
     "shell.execute_reply": "2024-06-02T04:53:25.728667Z"
    },
    "papermill": {
     "duration": 0.071823,
     "end_time": "2024-06-02T04:53:25.732152",
     "exception": false,
     "start_time": "2024-06-02T04:53:25.660329",
     "status": "completed"
    },
    "tags": []
   },
   "outputs": [
    {
     "data": {
      "text/html": [
       "<div>\n",
       "<style scoped>\n",
       "    .dataframe tbody tr th:only-of-type {\n",
       "        vertical-align: middle;\n",
       "    }\n",
       "\n",
       "    .dataframe tbody tr th {\n",
       "        vertical-align: top;\n",
       "    }\n",
       "\n",
       "    .dataframe thead th {\n",
       "        text-align: right;\n",
       "    }\n",
       "</style>\n",
       "<table border=\"1\" class=\"dataframe\">\n",
       "  <thead>\n",
       "    <tr style=\"text-align: right;\">\n",
       "      <th></th>\n",
       "      <th>time</th>\n",
       "      <th>trt</th>\n",
       "      <th>age</th>\n",
       "      <th>wtkg</th>\n",
       "      <th>hemo</th>\n",
       "      <th>homo</th>\n",
       "      <th>drugs</th>\n",
       "      <th>karnof</th>\n",
       "      <th>oprior</th>\n",
       "      <th>z30</th>\n",
       "      <th>...</th>\n",
       "      <th>str2</th>\n",
       "      <th>strat</th>\n",
       "      <th>symptom</th>\n",
       "      <th>treat</th>\n",
       "      <th>offtrt</th>\n",
       "      <th>cd40</th>\n",
       "      <th>cd420</th>\n",
       "      <th>cd80</th>\n",
       "      <th>cd820</th>\n",
       "      <th>infected</th>\n",
       "    </tr>\n",
       "  </thead>\n",
       "  <tbody>\n",
       "    <tr>\n",
       "      <th>0</th>\n",
       "      <td>1108</td>\n",
       "      <td>1</td>\n",
       "      <td>37</td>\n",
       "      <td>88.11364</td>\n",
       "      <td>0</td>\n",
       "      <td>1</td>\n",
       "      <td>1</td>\n",
       "      <td>100</td>\n",
       "      <td>0</td>\n",
       "      <td>1</td>\n",
       "      <td>...</td>\n",
       "      <td>1</td>\n",
       "      <td>1</td>\n",
       "      <td>0</td>\n",
       "      <td>0</td>\n",
       "      <td>0</td>\n",
       "      <td>389</td>\n",
       "      <td>320</td>\n",
       "      <td>734</td>\n",
       "      <td>737</td>\n",
       "      <td>1</td>\n",
       "    </tr>\n",
       "    <tr>\n",
       "      <th>1</th>\n",
       "      <td>1079</td>\n",
       "      <td>0</td>\n",
       "      <td>43</td>\n",
       "      <td>66.77075</td>\n",
       "      <td>0</td>\n",
       "      <td>0</td>\n",
       "      <td>0</td>\n",
       "      <td>100</td>\n",
       "      <td>0</td>\n",
       "      <td>1</td>\n",
       "      <td>...</td>\n",
       "      <td>0</td>\n",
       "      <td>2</td>\n",
       "      <td>0</td>\n",
       "      <td>1</td>\n",
       "      <td>1</td>\n",
       "      <td>318</td>\n",
       "      <td>432</td>\n",
       "      <td>912</td>\n",
       "      <td>1213</td>\n",
       "      <td>0</td>\n",
       "    </tr>\n",
       "    <tr>\n",
       "      <th>2</th>\n",
       "      <td>492</td>\n",
       "      <td>1</td>\n",
       "      <td>34</td>\n",
       "      <td>82.91725</td>\n",
       "      <td>0</td>\n",
       "      <td>0</td>\n",
       "      <td>0</td>\n",
       "      <td>90</td>\n",
       "      <td>0</td>\n",
       "      <td>1</td>\n",
       "      <td>...</td>\n",
       "      <td>1</td>\n",
       "      <td>2</td>\n",
       "      <td>0</td>\n",
       "      <td>1</td>\n",
       "      <td>1</td>\n",
       "      <td>326</td>\n",
       "      <td>524</td>\n",
       "      <td>660</td>\n",
       "      <td>835</td>\n",
       "      <td>0</td>\n",
       "    </tr>\n",
       "    <tr>\n",
       "      <th>3</th>\n",
       "      <td>1191</td>\n",
       "      <td>1</td>\n",
       "      <td>41</td>\n",
       "      <td>98.91817</td>\n",
       "      <td>0</td>\n",
       "      <td>0</td>\n",
       "      <td>0</td>\n",
       "      <td>81</td>\n",
       "      <td>0</td>\n",
       "      <td>1</td>\n",
       "      <td>...</td>\n",
       "      <td>1</td>\n",
       "      <td>3</td>\n",
       "      <td>0</td>\n",
       "      <td>1</td>\n",
       "      <td>0</td>\n",
       "      <td>318</td>\n",
       "      <td>232</td>\n",
       "      <td>1131</td>\n",
       "      <td>982</td>\n",
       "      <td>1</td>\n",
       "    </tr>\n",
       "    <tr>\n",
       "      <th>4</th>\n",
       "      <td>1141</td>\n",
       "      <td>3</td>\n",
       "      <td>47</td>\n",
       "      <td>53.61717</td>\n",
       "      <td>0</td>\n",
       "      <td>1</td>\n",
       "      <td>0</td>\n",
       "      <td>100</td>\n",
       "      <td>0</td>\n",
       "      <td>0</td>\n",
       "      <td>...</td>\n",
       "      <td>0</td>\n",
       "      <td>1</td>\n",
       "      <td>0</td>\n",
       "      <td>1</td>\n",
       "      <td>0</td>\n",
       "      <td>280</td>\n",
       "      <td>337</td>\n",
       "      <td>515</td>\n",
       "      <td>679</td>\n",
       "      <td>0</td>\n",
       "    </tr>\n",
       "  </tbody>\n",
       "</table>\n",
       "<p>5 rows × 23 columns</p>\n",
       "</div>"
      ],
      "text/plain": [
       "   time  trt  age      wtkg  hemo  homo  drugs  karnof  oprior  z30  ...  \\\n",
       "0  1108    1   37  88.11364     0     1      1     100       0    1  ...   \n",
       "1  1079    0   43  66.77075     0     0      0     100       0    1  ...   \n",
       "2   492    1   34  82.91725     0     0      0      90       0    1  ...   \n",
       "3  1191    1   41  98.91817     0     0      0      81       0    1  ...   \n",
       "4  1141    3   47  53.61717     0     1      0     100       0    0  ...   \n",
       "\n",
       "   str2  strat  symptom  treat  offtrt  cd40  cd420  cd80  cd820  infected  \n",
       "0     1      1        0      0       0   389    320   734    737         1  \n",
       "1     0      2        0      1       1   318    432   912   1213         0  \n",
       "2     1      2        0      1       1   326    524   660    835         0  \n",
       "3     1      3        0      1       0   318    232  1131    982         1  \n",
       "4     0      1        0      1       0   280    337   515    679         0  \n",
       "\n",
       "[5 rows x 23 columns]"
      ]
     },
     "execution_count": 4,
     "metadata": {},
     "output_type": "execute_result"
    }
   ],
   "source": [
    "df.head()"
   ]
  },
  {
   "cell_type": "code",
   "execution_count": 5,
   "id": "a5ca7707",
   "metadata": {
    "execution": {
     "iopub.execute_input": "2024-06-02T04:53:25.791177Z",
     "iopub.status.busy": "2024-06-02T04:53:25.790391Z",
     "iopub.status.idle": "2024-06-02T04:53:25.799547Z",
     "shell.execute_reply": "2024-06-02T04:53:25.798609Z"
    },
    "papermill": {
     "duration": 0.041374,
     "end_time": "2024-06-02T04:53:25.801694",
     "exception": false,
     "start_time": "2024-06-02T04:53:25.760320",
     "status": "completed"
    },
    "tags": []
   },
   "outputs": [
    {
     "data": {
      "text/plain": [
       "time        0\n",
       "trt         0\n",
       "age         0\n",
       "wtkg        0\n",
       "hemo        0\n",
       "homo        0\n",
       "drugs       0\n",
       "karnof      0\n",
       "oprior      0\n",
       "z30         0\n",
       "preanti     0\n",
       "race        0\n",
       "gender      0\n",
       "str2        0\n",
       "strat       0\n",
       "symptom     0\n",
       "treat       0\n",
       "offtrt      0\n",
       "cd40        0\n",
       "cd420       0\n",
       "cd80        0\n",
       "cd820       0\n",
       "infected    0\n",
       "dtype: int64"
      ]
     },
     "execution_count": 5,
     "metadata": {},
     "output_type": "execute_result"
    }
   ],
   "source": [
    "df.isnull().sum()"
   ]
  },
  {
   "cell_type": "markdown",
   "id": "2efd0e73",
   "metadata": {
    "papermill": {
     "duration": 0.029673,
     "end_time": "2024-06-02T04:53:25.861395",
     "exception": false,
     "start_time": "2024-06-02T04:53:25.831722",
     "status": "completed"
    },
    "tags": []
   },
   "source": [
    "<a id = '1'></a>\n",
    "##  <div style=\"text-align: center; border:#e6e6fa; border-width:1.5px; border-style:solid; padding: 14px;line-height: 0.5;\"> <b>UNIVARIATE ANALYSIS</b></div>\n",
    "\n"
   ]
  },
  {
   "cell_type": "markdown",
   "id": "f40b26b5",
   "metadata": {
    "papermill": {
     "duration": 0.028709,
     "end_time": "2024-06-02T04:53:25.919101",
     "exception": false,
     "start_time": "2024-06-02T04:53:25.890392",
     "status": "completed"
    },
    "tags": []
   },
   "source": [
    "## trt: Treatment Indicator\n",
    "\n",
    "***About***\n",
    "<div>\n",
    "    <p>\n",
    "        The treatment indicator provides information about the type of antiretroviral treatment regimen patients in the dataset are receiving:\n",
    "    </p>\n",
    "    <ul>\n",
    "        <li>0 = ZDV only\n",
    "            <ul>\n",
    "                <li>Patients with this indicator are being treated only with Zidovudine (ZDV), also known as AZT.</li>\n",
    "            </ul>\n",
    "        </li>\n",
    "        <li>1 = ZDV + ddI\n",
    "            <ul>\n",
    "                <li>Patients with this indicator are being treated with a combination of Zidovudine (ZDV) and Didanosine (ddI). The combination therapy is often used to enhance the efficacy of treatment by using drugs with different mechanisms of action.</li>\n",
    "            </ul>\n",
    "        </li>\n",
    "        <li>2 = ZDV + Zal\n",
    "            <ul>\n",
    "                <li>Patients with this indicator are being treated with a combination of Zidovudine (ZDV) and Zalcitabine (Zal). The combination of ZDV and Zal is another strategy to improve treatment effectiveness and delay the progression of the disease.</li>\n",
    "            </ul>\n",
    "        </li>\n",
    "        <li>3 = ddI only\n",
    "            <ul>\n",
    "                <li>Patients with this indicator are being treated only with Didanosine (ddI). This might be an alternative regimen for patients who cannot tolerate ZDV or for whom ZDV is not effective.</li>\n",
    "            </ul>\n",
    "        </li>\n",
    "    </ul>\n",
    "</div>\n",
    "\n",
    "\n",
    "***Conclusions***"
   ]
  },
  {
   "cell_type": "code",
   "execution_count": 6,
   "id": "07dd9fe0",
   "metadata": {
    "execution": {
     "iopub.execute_input": "2024-06-02T04:53:25.979017Z",
     "iopub.status.busy": "2024-06-02T04:53:25.978619Z",
     "iopub.status.idle": "2024-06-02T04:53:25.992812Z",
     "shell.execute_reply": "2024-06-02T04:53:25.991618Z"
    },
    "papermill": {
     "duration": 0.04696,
     "end_time": "2024-06-02T04:53:25.995240",
     "exception": false,
     "start_time": "2024-06-02T04:53:25.948280",
     "status": "completed"
    },
    "tags": []
   },
   "outputs": [
    {
     "data": {
      "text/plain": [
       "trt\n",
       "0    5550\n",
       "3    4149\n",
       "2    3182\n",
       "1    2119\n",
       "Name: count, dtype: int64"
      ]
     },
     "execution_count": 6,
     "metadata": {},
     "output_type": "execute_result"
    }
   ],
   "source": [
    "df['trt'].value_counts()"
   ]
  },
  {
   "cell_type": "code",
   "execution_count": 7,
   "id": "c161c759",
   "metadata": {
    "execution": {
     "iopub.execute_input": "2024-06-02T04:53:26.056466Z",
     "iopub.status.busy": "2024-06-02T04:53:26.055765Z",
     "iopub.status.idle": "2024-06-02T04:53:28.033618Z",
     "shell.execute_reply": "2024-06-02T04:53:28.032644Z"
    },
    "papermill": {
     "duration": 2.010633,
     "end_time": "2024-06-02T04:53:28.035977",
     "exception": false,
     "start_time": "2024-06-02T04:53:26.025344",
     "status": "completed"
    },
    "tags": []
   },
   "outputs": [
    {
     "data": {
      "image/svg+xml": [
       "<svg class=\"main-svg\" xmlns=\"http://www.w3.org/2000/svg\" xmlns:xlink=\"http://www.w3.org/1999/xlink\" width=\"1000\" height=\"500\" style=\"\" viewBox=\"0 0 1000 500\"><rect x=\"0\" y=\"0\" width=\"1000\" height=\"500\" style=\"fill: rgb(255, 255, 255); fill-opacity: 1;\"/><defs id=\"defs-d71ec3\"><g class=\"clips\"/><g class=\"gradients\"/><g class=\"patterns\"/></defs><g class=\"bglayer\"/><g class=\"layer-below\"><g class=\"imagelayer\"/><g class=\"shapelayer\"/></g><g class=\"cartesianlayer\"/><g class=\"polarlayer\"/><g class=\"smithlayer\"/><g class=\"ternarylayer\"/><g class=\"geolayer\"/><g class=\"funnelarealayer\"/><g class=\"pielayer\"><g class=\"trace\" stroke-linejoin=\"round\" style=\"opacity: 1;\"><g class=\"slice\"><path class=\"surface\" d=\"M471.4436784291845,315.6564858387229a74,74 0 0 0 -53.94367842918447,-124.65648583872294l0,-111a185,185 0 0 1 134.85919607296117,311.64121459680734Z\" style=\"pointer-events: none; fill: rgb(142, 1, 82); fill-opacity: 1; stroke-width: 2; stroke: rgb(0, 0, 0); stroke-opacity: 1;\"/><g class=\"slicetext\"><text data-notex=\"1\" class=\"slicetext\" transform=\"translate(536.3492240260755,209.4677856627959)\" text-anchor=\"middle\" x=\"0\" y=\"0\" style=\"font-family: 'Open Sans', verdana, arial, sans-serif; font-size: 14px; fill: rgb(0, 0, 0); fill-opacity: 1; white-space: pre;\"><tspan class=\"line\" dy=\"0em\" x=\"0\" y=\"0\">0</tspan><tspan class=\"line\" dy=\"1.3em\" x=\"0\" y=\"0\">37%</tspan></text></g></g><g class=\"slice\"><path class=\"surface\" d=\"M417.5,191a74,74 0 0 0 -72.9688696807397,86.31032320921048l-109.45330452110956,18.465484813815706a185,185 0 0 1 182.42217420184926,-215.77580802302617Z\" style=\"pointer-events: none; fill: rgb(197, 27, 125); fill-opacity: 1; stroke-width: 2; stroke: rgb(0, 0, 0); stroke-opacity: 1;\"/><g class=\"slicetext\"><text data-notex=\"1\" class=\"slicetext\" transform=\"translate(318.6059228333483,177.29095277909516)\" text-anchor=\"middle\" x=\"0\" y=\"0\" style=\"font-family: 'Open Sans', verdana, arial, sans-serif; font-size: 14px; fill: rgb(0, 0, 0); fill-opacity: 1; white-space: pre;\"><tspan class=\"line\" dy=\"0em\" x=\"0\" y=\"0\">3</tspan><tspan class=\"line\" dy=\"1.3em\" x=\"0\" y=\"0\">27.7%</tspan></text></g></g><g class=\"slice\"><path class=\"surface\" d=\"M344.5311303192603,277.3103232092105a74,74 0 0 0 67.73474284011012,61.50433601384766l-7.851190260944385,110.7219888345872a185,185 0 0 1 -169.3368571002753,-153.76084003461915Z\" style=\"pointer-events: none; fill: rgb(222, 119, 174); fill-opacity: 1; stroke-width: 2; stroke: rgb(0, 0, 0); stroke-opacity: 1;\"/><g class=\"slicetext\"><text data-notex=\"1\" class=\"slicetext\" transform=\"translate(330.4452301836427,356.77188039333225)\" text-anchor=\"middle\" x=\"0\" y=\"0\" style=\"font-family: 'Open Sans', verdana, arial, sans-serif; font-size: 14px; fill: rgb(0, 0, 0); fill-opacity: 1; white-space: pre;\"><tspan class=\"line\" dy=\"0em\" x=\"0\" y=\"0\">2</tspan><tspan class=\"line\" dy=\"1.3em\" x=\"0\" y=\"0\">21.2%</tspan></text></g></g><g class=\"slice\"><path class=\"surface\" d=\"M412.2658731593704,338.81465922305813a74,74 0 0 0 59.177805269814044,-23.158173384335175l80.91551764377668,75.98472875808443a185,185 0 0 1 -147.9445131745351,57.895433460837936Z\" style=\"pointer-events: none; fill: rgb(241, 182, 218); fill-opacity: 1; stroke-width: 2; stroke: rgb(0, 0, 0); stroke-opacity: 1;\"/><g class=\"slicetext\"><text data-notex=\"1\" class=\"slicetext\" transform=\"translate(464.69261546980795,381.4932427161404)\" text-anchor=\"middle\" x=\"0\" y=\"0\" style=\"font-family: 'Open Sans', verdana, arial, sans-serif; font-size: 14px; fill: rgb(0, 0, 0); fill-opacity: 1; white-space: pre;\"><tspan class=\"line\" dy=\"0em\" x=\"0\" y=\"0\">1</tspan><tspan class=\"line\" dy=\"1.3em\" x=\"0\" y=\"0\">14.1%</tspan></text></g></g></g></g><g class=\"iciclelayer\"/><g class=\"treemaplayer\"/><g class=\"sunburstlayer\"/><g class=\"glimages\"/><defs id=\"topdefs-d71ec3\"><g class=\"clips\"/><clipPath id=\"legendd71ec3\"><rect width=\"349\" height=\"33\" x=\"0.5\" y=\"0.5\"/></clipPath></defs><g class=\"layer-above\"><g class=\"imagelayer\"/><g class=\"shapelayer\"/></g><g class=\"infolayer\"><g class=\"legend\" pointer-events=\"all\" transform=\"translate(638,265)\"><rect class=\"bg\" shape-rendering=\"crispEdges\" style=\"stroke: rgb(0, 0, 0); stroke-opacity: 1; fill: rgb(255, 255, 255); fill-opacity: 1; stroke-width: 0.5px;\" width=\"349.5\" height=\"33.5\" x=\"0.25\" y=\"0.25\"/><g class=\"scrollbox\" transform=\"\" clip-path=\"url(#legendd71ec3)\"><text class=\"legendtitletext\" text-anchor=\"start\" x=\"2.5\" y=\"22.6\" style=\"font-family: Arial; font-size: 17px; fill: rgb(0, 0, 0); fill-opacity: 1; white-space: pre;\">Treatment Types</text><g class=\"groups\"><g class=\"traces\" transform=\"translate(137.421875,16.1)\" style=\"opacity: 1;\"><text class=\"legendtext\" text-anchor=\"start\" x=\"40\" y=\"5.46\" style=\"font-family: Arial; font-size: 14px; fill: rgb(0, 0, 0); fill-opacity: 1; white-space: pre;\">0</text><g class=\"layers\" style=\"opacity: 1;\"><g class=\"legendfill\"/><g class=\"legendlines\"/><g class=\"legendsymbols\"><g class=\"legendpoints\"><path class=\"legendpie\" d=\"M6,6H-6V-6H6Z\" transform=\"translate(20,0)\" style=\"fill: rgb(142, 1, 82); fill-opacity: 1; stroke-width: 2; stroke: rgb(0, 0, 0); stroke-opacity: 1;\"/></g></g></g><rect class=\"legendtoggle\" x=\"0\" y=\"-10.6\" width=\"50.5\" height=\"21.2\" style=\"fill: rgb(0, 0, 0); fill-opacity: 0;\"/></g><g class=\"traces\" transform=\"translate(190.421875,16.1)\" style=\"opacity: 1;\"><text class=\"legendtext\" text-anchor=\"start\" x=\"40\" y=\"5.46\" style=\"font-family: Arial; font-size: 14px; fill: rgb(0, 0, 0); fill-opacity: 1; white-space: pre;\">3</text><g class=\"layers\" style=\"opacity: 1;\"><g class=\"legendfill\"/><g class=\"legendlines\"/><g class=\"legendsymbols\"><g class=\"legendpoints\"><path class=\"legendpie\" d=\"M6,6H-6V-6H6Z\" transform=\"translate(20,0)\" style=\"fill: rgb(197, 27, 125); fill-opacity: 1; stroke-width: 2; stroke: rgb(0, 0, 0); stroke-opacity: 1;\"/></g></g></g><rect class=\"legendtoggle\" x=\"0\" y=\"-10.6\" width=\"50.5\" height=\"21.2\" style=\"fill: rgb(0, 0, 0); fill-opacity: 0;\"/></g><g class=\"traces\" transform=\"translate(243.421875,16.1)\" style=\"opacity: 1;\"><text class=\"legendtext\" text-anchor=\"start\" x=\"40\" y=\"5.46\" style=\"font-family: Arial; font-size: 14px; fill: rgb(0, 0, 0); fill-opacity: 1; white-space: pre;\">2</text><g class=\"layers\" style=\"opacity: 1;\"><g class=\"legendfill\"/><g class=\"legendlines\"/><g class=\"legendsymbols\"><g class=\"legendpoints\"><path class=\"legendpie\" d=\"M6,6H-6V-6H6Z\" transform=\"translate(20,0)\" style=\"fill: rgb(222, 119, 174); fill-opacity: 1; stroke-width: 2; stroke: rgb(0, 0, 0); stroke-opacity: 1;\"/></g></g></g><rect class=\"legendtoggle\" x=\"0\" y=\"-10.6\" width=\"50.5\" height=\"21.2\" style=\"fill: rgb(0, 0, 0); fill-opacity: 0;\"/></g><g class=\"traces\" transform=\"translate(296.421875,16.1)\" style=\"opacity: 1;\"><text class=\"legendtext\" text-anchor=\"start\" x=\"40\" y=\"5.46\" style=\"font-family: Arial; font-size: 14px; fill: rgb(0, 0, 0); fill-opacity: 1; white-space: pre;\">1</text><g class=\"layers\" style=\"opacity: 1;\"><g class=\"legendfill\"/><g class=\"legendlines\"/><g class=\"legendsymbols\"><g class=\"legendpoints\"><path class=\"legendpie\" d=\"M6,6H-6V-6H6Z\" transform=\"translate(20,0)\" style=\"fill: rgb(241, 182, 218); fill-opacity: 1; stroke-width: 2; stroke: rgb(0, 0, 0); stroke-opacity: 1;\"/></g></g></g><rect class=\"legendtoggle\" x=\"0\" y=\"-10.6\" width=\"50.5\" height=\"21.2\" style=\"fill: rgb(0, 0, 0); fill-opacity: 0;\"/></g></g></g><rect class=\"scrollbar\" rx=\"20\" ry=\"3\" width=\"0\" height=\"0\" style=\"fill: rgb(128, 139, 164); fill-opacity: 1;\" x=\"0\" y=\"0\"/></g><g class=\"g-gtitle\"><text class=\"gtitle\" x=\"500\" y=\"25\" text-anchor=\"middle\" dy=\"0.7em\" style=\"font-family: 'Times New Roman'; font-size: 26px; fill: rgb(0, 0, 0); opacity: 1; font-weight: normal; white-space: pre;\">Distribution of Different Treatments</text></g><g class=\"annotation\" data-index=\"0\" style=\"opacity: 1;\"><g class=\"annotation-text-g\" transform=\"rotate(0,417.5,265)\"><g class=\"cursor-pointer\" transform=\"translate(370,252)\"><rect class=\"bg\" x=\"0.5\" y=\"0.5\" width=\"94\" height=\"25\" style=\"stroke-width: 1px; stroke: rgb(0, 0, 0); stroke-opacity: 0; fill: rgb(0, 0, 0); fill-opacity: 0;\"/><text class=\"annotation-text\" text-anchor=\"middle\" x=\"47.203125\" y=\"20\" style=\"font-family: 'Open Sans', verdana, arial, sans-serif; font-size: 20px; fill: rgb(0, 0, 0); fill-opacity: 1; white-space: pre;\">Treatment</text></g></g></g><g class=\"annotation\" data-index=\"1\" style=\"opacity: 1;\"><g class=\"annotation-text-g\" transform=\"rotate(0,417.5,477.00000000000006)\"><g class=\"cursor-pointer\" transform=\"translate(234,467)\"><rect class=\"bg\" x=\"0.5\" y=\"0.5\" width=\"366\" height=\"19\" style=\"stroke-width: 1px; stroke: rgb(0, 0, 0); stroke-opacity: 0; fill: rgb(0, 0, 0); fill-opacity: 0;\"/><text class=\"annotation-text\" text-anchor=\"middle\" x=\"183.5625\" y=\"15\" style=\"font-family: 'Open Sans', verdana, arial, sans-serif; font-size: 14px; fill: rgb(0, 0, 0); fill-opacity: 1; white-space: pre;\">The majority of patients are receiving ZDV only or ddI only.</text></g></g></g></g></svg>"
      ]
     },
     "metadata": {},
     "output_type": "display_data"
    }
   ],
   "source": [
    "trt = df['trt'].value_counts().reset_index()\n",
    "trt.columns = ['trt', 'count']\n",
    "\n",
    "# Choose a diverging palette\n",
    "palette = cl.scales['11']['div']['PiYG']\n",
    "\n",
    "# Create the pie chart\n",
    "fig = go.Figure(data=[go.Pie(\n",
    "    labels=trt['trt'],\n",
    "    values=trt['count'],\n",
    "    hole=.4,\n",
    "    marker=dict(colors=palette, line=dict(color='#000000', width=2)),\n",
    "    hoverinfo=\"label+percent+value\",\n",
    "    textinfo=\"label+percent\",\n",
    "    textfont=dict(size=14, color='#000000')  # Adjust text color\n",
    ")])\n",
    "\n",
    "# Update layout\n",
    "fig.update_layout(\n",
    "    title_text=\"Treatment Distribution\",\n",
    "    title_font_size=24,\n",
    "    title_font_family=\"Times New Roman\",\n",
    "    title_font_color=\"#000000\", \n",
    "    paper_bgcolor='#ffffff',  \n",
    "    plot_bgcolor='#ffffff',  \n",
    "    annotations=[dict(text='Treatment', x=0.5, y=0.5, font_size=20, showarrow=False, font=dict(color=\"#000000\"))],\n",
    "    showlegend=True,\n",
    "    legend_title_text='Treatment Types',\n",
    "    legend=dict(\n",
    "        x=0.8,\n",
    "        y=0.5,\n",
    "        traceorder='normal',\n",
    "        font=dict(\n",
    "            family=\"Arial\",\n",
    "            size=14,\n",
    "            color=\"#000000\"  \n",
    "        ),\n",
    "        bgcolor=\"#ffffff\",  \n",
    "        bordercolor=\"#000000\",  \n",
    "        borderwidth=0.5,\n",
    "        orientation=\"h\"  \n",
    "    )\n",
    ")\n",
    "\n",
    "# Increase the width of the page\n",
    "fig.update_layout(width=1000)\n",
    "\n",
    "# Adding a more vibrant title and better spacing\n",
    "fig.update_layout(\n",
    "    title={\n",
    "        'text': \"Distribution of Different Treatments\",\n",
    "        'y':0.95,\n",
    "        'x':0.5,\n",
    "        'xanchor': 'center',\n",
    "        'yanchor': 'top'},\n",
    "    title_font_size=26,\n",
    "    margin=dict(l=50, r=50, t=80, b=50)\n",
    ")\n",
    "\n",
    "# Add observation/interpretation\n",
    "fig.add_annotation(\n",
    "    text=\"The majority of patients are receiving ZDV only or ddI only.\",\n",
    "    x=0.5,\n",
    "    y=-0.1,\n",
    "    showarrow=False,\n",
    "    font=dict(color=\"#000000\", size=14)  # Adjust text color\n",
    ")\n",
    "\n",
    "# Show the pie chart\n",
    "fig.show('svg')"
   ]
  },
  {
   "cell_type": "markdown",
   "id": "685bff48",
   "metadata": {
    "papermill": {
     "duration": 0.030152,
     "end_time": "2024-06-02T04:53:28.095802",
     "exception": false,
     "start_time": "2024-06-02T04:53:28.065650",
     "status": "completed"
    },
    "tags": []
   },
   "source": [
    "----------------------------------------------------------------------------------------------------------------------------------------------------------\n"
   ]
  },
  {
   "cell_type": "markdown",
   "id": "80525c7e",
   "metadata": {
    "papermill": {
     "duration": 0.029437,
     "end_time": "2024-06-02T04:53:28.154619",
     "exception": false,
     "start_time": "2024-06-02T04:53:28.125182",
     "status": "completed"
    },
    "tags": []
   },
   "source": [
    "## Age\n",
    "\n",
    "\n",
    "***Conclusions***\n",
    "\n",
    "- *It can be seen that age is normally distributed*\n",
    "\n",
    "- *There are no missing values*\n",
    "\n",
    "- *Max values goes up to 68 but some outliers are present in the data*\n",
    "\n",
    "- *mean and median are about the same hence we can conclude that the outliers are not affecting the data*"
   ]
  },
  {
   "cell_type": "code",
   "execution_count": 8,
   "id": "71b2c83f",
   "metadata": {
    "execution": {
     "iopub.execute_input": "2024-06-02T04:53:28.217242Z",
     "iopub.status.busy": "2024-06-02T04:53:28.215764Z",
     "iopub.status.idle": "2024-06-02T04:53:28.232820Z",
     "shell.execute_reply": "2024-06-02T04:53:28.231548Z"
    },
    "papermill": {
     "duration": 0.052794,
     "end_time": "2024-06-02T04:53:28.236018",
     "exception": false,
     "start_time": "2024-06-02T04:53:28.183224",
     "status": "completed"
    },
    "tags": []
   },
   "outputs": [
    {
     "data": {
      "text/plain": [
       "count    15000.000000\n",
       "mean        34.273800\n",
       "std          7.074134\n",
       "min         12.000000\n",
       "25%         29.000000\n",
       "50%         34.000000\n",
       "75%         39.000000\n",
       "max         68.000000\n",
       "Name: age, dtype: float64"
      ]
     },
     "execution_count": 8,
     "metadata": {},
     "output_type": "execute_result"
    }
   ],
   "source": [
    "df['age'].describe()"
   ]
  },
  {
   "cell_type": "markdown",
   "id": "19993d4e",
   "metadata": {
    "papermill": {
     "duration": 0.029944,
     "end_time": "2024-06-02T04:53:28.303345",
     "exception": false,
     "start_time": "2024-06-02T04:53:28.273401",
     "status": "completed"
    },
    "tags": []
   },
   "source": [
    "*Median and mean are around the same hence it seems like the distribution is normal.*"
   ]
  },
  {
   "cell_type": "code",
   "execution_count": 9,
   "id": "785ffb93",
   "metadata": {
    "execution": {
     "iopub.execute_input": "2024-06-02T04:53:28.366824Z",
     "iopub.status.busy": "2024-06-02T04:53:28.365832Z",
     "iopub.status.idle": "2024-06-02T04:53:28.655785Z",
     "shell.execute_reply": "2024-06-02T04:53:28.654987Z"
    },
    "papermill": {
     "duration": 0.324037,
     "end_time": "2024-06-02T04:53:28.658251",
     "exception": false,
     "start_time": "2024-06-02T04:53:28.334214",
     "status": "completed"
    },
    "tags": []
   },
   "outputs": [
    {
     "data": {
      "image/svg+xml": [
       "<svg class=\"main-svg\" xmlns=\"http://www.w3.org/2000/svg\" xmlns:xlink=\"http://www.w3.org/1999/xlink\" width=\"1000\" height=\"500\" style=\"\" viewBox=\"0 0 1000 500\"><rect x=\"0\" y=\"0\" width=\"1000\" height=\"500\" style=\"fill: rgb(255, 255, 255); fill-opacity: 1;\"/><defs id=\"defs-cda324\"><g class=\"clips\"><clipPath id=\"clipcda324xyplot\" class=\"plotclip\"><rect width=\"885\" height=\"367\"/></clipPath><clipPath class=\"axesclip\" id=\"clipcda324x\"><rect x=\"65\" y=\"0\" width=\"885\" height=\"500\"/></clipPath><clipPath class=\"axesclip\" id=\"clipcda324y\"><rect x=\"0\" y=\"80\" width=\"1000\" height=\"367\"/></clipPath><clipPath class=\"axesclip\" id=\"clipcda324xy\"><rect x=\"65\" y=\"80\" width=\"885\" height=\"367\"/></clipPath></g><g class=\"gradients\"/><g class=\"patterns\"/></defs><g class=\"bglayer\"/><g class=\"layer-below\"><g class=\"imagelayer\"/><g class=\"shapelayer\"/></g><g class=\"cartesianlayer\"><g class=\"subplot xy\"><g class=\"layer-subplot\"><g class=\"shapelayer\"/><g class=\"imagelayer\"/></g><g class=\"minor-gridlayer\"><g class=\"x\"/><g class=\"y\"/></g><g class=\"gridlayer\"><g class=\"x\"/><g class=\"y\"><path class=\"ygrid crisp\" transform=\"translate(0,401.61)\" d=\"M65,0h885\" style=\"stroke: rgb(255, 255, 255); stroke-opacity: 1; stroke-width: 1px;\"/><path class=\"ygrid crisp\" transform=\"translate(0,356.23)\" d=\"M65,0h885\" style=\"stroke: rgb(255, 255, 255); stroke-opacity: 1; stroke-width: 1px;\"/><path class=\"ygrid crisp\" transform=\"translate(0,310.84000000000003)\" d=\"M65,0h885\" style=\"stroke: rgb(255, 255, 255); stroke-opacity: 1; stroke-width: 1px;\"/><path class=\"ygrid crisp\" transform=\"translate(0,265.46000000000004)\" d=\"M65,0h885\" style=\"stroke: rgb(255, 255, 255); stroke-opacity: 1; stroke-width: 1px;\"/><path class=\"ygrid crisp\" transform=\"translate(0,220.07)\" d=\"M65,0h885\" style=\"stroke: rgb(255, 255, 255); stroke-opacity: 1; stroke-width: 1px;\"/><path class=\"ygrid crisp\" transform=\"translate(0,174.69)\" d=\"M65,0h885\" style=\"stroke: rgb(255, 255, 255); stroke-opacity: 1; stroke-width: 1px;\"/><path class=\"ygrid crisp\" transform=\"translate(0,129.3)\" d=\"M65,0h885\" style=\"stroke: rgb(255, 255, 255); stroke-opacity: 1; stroke-width: 1px;\"/><path class=\"ygrid crisp\" transform=\"translate(0,83.92)\" d=\"M65,0h885\" style=\"stroke: rgb(255, 255, 255); stroke-opacity: 1; stroke-width: 1px;\"/></g></g><g class=\"zerolinelayer\"><path class=\"yzl zl crisp\" transform=\"translate(0,447)\" d=\"M65,0h885\" style=\"stroke: rgb(255, 255, 255); stroke-opacity: 1; stroke-width: 2px;\"/></g><path class=\"xlines-below\"/><path class=\"ylines-below\"/><g class=\"overlines-below\"/><g class=\"xaxislayer-below\"/><g class=\"yaxislayer-below\"/><g class=\"overaxes-below\"/><g class=\"plot\" transform=\"translate(65,80)\" clip-path=\"url(#clipcda324xyplot)\"><g class=\"barlayer mlayer\"><g class=\"trace bars\" shape-rendering=\"crispEdges\" style=\"opacity: 1;\"><g class=\"points\"><g class=\"point\"><path d=\"M0,367V356.47H147.5V367Z\" style=\"vector-effect: none; opacity: 1; stroke-width: 0px; fill: rgb(118, 42, 131); fill-opacity: 1;\"/></g><g class=\"point\"><path d=\"M147.5,367V194.76H295V367Z\" style=\"vector-effect: none; opacity: 1; stroke-width: 0px; fill: rgb(118, 42, 131); fill-opacity: 1;\"/></g><g class=\"point\"><path d=\"M295,367V18.35H442.5V367Z\" style=\"vector-effect: none; opacity: 1; stroke-width: 0px; fill: rgb(118, 42, 131); fill-opacity: 1;\"/></g><g class=\"point\"><path d=\"M442.5,367V232.98H590V367Z\" style=\"vector-effect: none; opacity: 1; stroke-width: 0px; fill: rgb(118, 42, 131); fill-opacity: 1;\"/></g><g class=\"point\"><path d=\"M590,367V352.57H737.5V367Z\" style=\"vector-effect: none; opacity: 1; stroke-width: 0px; fill: rgb(118, 42, 131); fill-opacity: 1;\"/></g><g class=\"point\"><path d=\"M737.5,367V366.09H885V367Z\" style=\"vector-effect: none; opacity: 1; stroke-width: 0px; fill: rgb(118, 42, 131); fill-opacity: 1;\"/></g></g></g></g></g><g class=\"overplot\"/><path class=\"xlines-above crisp\" d=\"M0,0\" style=\"fill: none;\"/><path class=\"ylines-above crisp\" d=\"M0,0\" style=\"fill: none;\"/><g class=\"overlines-above\"/><g class=\"xaxislayer-above\"><g class=\"xtick\"><text text-anchor=\"middle\" x=\"0\" y=\"460\" transform=\"translate(72.38,0)\" style=\"font-family: 'Open Sans', verdana, arial, sans-serif; font-size: 12px; fill: rgb(42, 63, 95); fill-opacity: 1; white-space: pre; opacity: 1;\">10</text></g><g class=\"xtick\"><text text-anchor=\"middle\" x=\"0\" y=\"460\" style=\"font-family: 'Open Sans', verdana, arial, sans-serif; font-size: 12px; fill: rgb(42, 63, 95); fill-opacity: 1; white-space: pre; opacity: 1;\" transform=\"translate(219.88,0)\">20</text></g><g class=\"xtick\"><text text-anchor=\"middle\" x=\"0\" y=\"460\" style=\"font-family: 'Open Sans', verdana, arial, sans-serif; font-size: 12px; fill: rgb(42, 63, 95); fill-opacity: 1; white-space: pre; opacity: 1;\" transform=\"translate(367.38,0)\">30</text></g><g class=\"xtick\"><text text-anchor=\"middle\" x=\"0\" y=\"460\" style=\"font-family: 'Open Sans', verdana, arial, sans-serif; font-size: 12px; fill: rgb(42, 63, 95); fill-opacity: 1; white-space: pre; opacity: 1;\" transform=\"translate(514.88,0)\">40</text></g><g class=\"xtick\"><text text-anchor=\"middle\" x=\"0\" y=\"460\" style=\"font-family: 'Open Sans', verdana, arial, sans-serif; font-size: 12px; fill: rgb(42, 63, 95); fill-opacity: 1; white-space: pre; opacity: 1;\" transform=\"translate(662.38,0)\">50</text></g><g class=\"xtick\"><text text-anchor=\"middle\" x=\"0\" y=\"460\" style=\"font-family: 'Open Sans', verdana, arial, sans-serif; font-size: 12px; fill: rgb(42, 63, 95); fill-opacity: 1; white-space: pre; opacity: 1;\" transform=\"translate(809.88,0)\">60</text></g></g><g class=\"yaxislayer-above\"><g class=\"ytick\"><text text-anchor=\"end\" x=\"64\" y=\"4.199999999999999\" transform=\"translate(0,447)\" style=\"font-family: 'Open Sans', verdana, arial, sans-serif; font-size: 12px; fill: rgb(42, 63, 95); fill-opacity: 1; white-space: pre; opacity: 1;\">0</text></g><g class=\"ytick\"><text text-anchor=\"end\" x=\"64\" y=\"4.199999999999999\" style=\"font-family: 'Open Sans', verdana, arial, sans-serif; font-size: 12px; fill: rgb(42, 63, 95); fill-opacity: 1; white-space: pre; opacity: 1;\" transform=\"translate(0,401.61)\">1000</text></g><g class=\"ytick\"><text text-anchor=\"end\" x=\"64\" y=\"4.199999999999999\" style=\"font-family: 'Open Sans', verdana, arial, sans-serif; font-size: 12px; fill: rgb(42, 63, 95); fill-opacity: 1; white-space: pre; opacity: 1;\" transform=\"translate(0,356.23)\">2000</text></g><g class=\"ytick\"><text text-anchor=\"end\" x=\"64\" y=\"4.199999999999999\" style=\"font-family: 'Open Sans', verdana, arial, sans-serif; font-size: 12px; fill: rgb(42, 63, 95); fill-opacity: 1; white-space: pre; opacity: 1;\" transform=\"translate(0,310.84000000000003)\">3000</text></g><g class=\"ytick\"><text text-anchor=\"end\" x=\"64\" y=\"4.199999999999999\" style=\"font-family: 'Open Sans', verdana, arial, sans-serif; font-size: 12px; fill: rgb(42, 63, 95); fill-opacity: 1; white-space: pre; opacity: 1;\" transform=\"translate(0,265.46000000000004)\">4000</text></g><g class=\"ytick\"><text text-anchor=\"end\" x=\"64\" y=\"4.199999999999999\" style=\"font-family: 'Open Sans', verdana, arial, sans-serif; font-size: 12px; fill: rgb(42, 63, 95); fill-opacity: 1; white-space: pre; opacity: 1;\" transform=\"translate(0,220.07)\">5000</text></g><g class=\"ytick\"><text text-anchor=\"end\" x=\"64\" y=\"4.199999999999999\" style=\"font-family: 'Open Sans', verdana, arial, sans-serif; font-size: 12px; fill: rgb(42, 63, 95); fill-opacity: 1; white-space: pre; opacity: 1;\" transform=\"translate(0,174.69)\">6000</text></g><g class=\"ytick\"><text text-anchor=\"end\" x=\"64\" y=\"4.199999999999999\" style=\"font-family: 'Open Sans', verdana, arial, sans-serif; font-size: 12px; fill: rgb(42, 63, 95); fill-opacity: 1; white-space: pre; opacity: 1;\" transform=\"translate(0,129.3)\">7000</text></g><g class=\"ytick\"><text text-anchor=\"end\" x=\"64\" y=\"4.199999999999999\" style=\"font-family: 'Open Sans', verdana, arial, sans-serif; font-size: 12px; fill: rgb(42, 63, 95); fill-opacity: 1; white-space: pre; opacity: 1;\" transform=\"translate(0,83.92)\">8000</text></g></g><g class=\"overaxes-above\"/></g></g><g class=\"polarlayer\"/><g class=\"smithlayer\"/><g class=\"ternarylayer\"/><g class=\"geolayer\"/><g class=\"funnelarealayer\"/><g class=\"pielayer\"/><g class=\"iciclelayer\"/><g class=\"treemaplayer\"/><g class=\"sunburstlayer\"/><g class=\"glimages\"/><defs id=\"topdefs-cda324\"><g class=\"clips\"/></defs><g class=\"layer-above\"><g class=\"imagelayer\"/><g class=\"shapelayer\"/></g><g class=\"infolayer\"><g class=\"g-gtitle\"><text class=\"gtitle\" x=\"150\" y=\"25\" text-anchor=\"middle\" dy=\"0.7em\" style=\"font-family: 'Times New Roman'; font-size: 26px; fill: rgb(0, 0, 0); opacity: 1; font-weight: normal; white-space: pre;\">Age Distribution</text></g><g class=\"g-xtitle\"><text class=\"xtitle\" x=\"507.5\" y=\"487.3\" text-anchor=\"middle\" style=\"font-family: 'Open Sans', verdana, arial, sans-serif; font-size: 14px; fill: rgb(42, 63, 95); opacity: 1; font-weight: normal; white-space: pre;\">Age</text></g><g class=\"g-ytitle\" transform=\"translate(0.0029296875,0)\"><text class=\"ytitle\" transform=\"rotate(-90,12.996875000000003,263.5)\" x=\"12.996875000000003\" y=\"263.5\" text-anchor=\"middle\" style=\"font-family: 'Open Sans', verdana, arial, sans-serif; font-size: 14px; fill: rgb(42, 63, 95); opacity: 1; font-weight: normal; white-space: pre;\">Frequency</text></g></g></svg>"
      ]
     },
     "metadata": {},
     "output_type": "display_data"
    }
   ],
   "source": [
    "palette = cl.to_rgb(cl.scales['10']['div']['PRGn'])\n",
    "\n",
    "# Create the histogram\n",
    "fig = go.Figure(data=[go.Histogram(\n",
    "    x=df['age'],\n",
    "    marker=dict(color=palette[1]),  \n",
    "    nbinsx=10\n",
    ")])\n",
    "\n",
    "fig.update_layout(\n",
    "    title_text=\"Age Distribution\",\n",
    "    title_font_size=24,\n",
    "    title_font_family=\"Times New Roman\",\n",
    "    title_font_color=\"#000000\",  \n",
    "    paper_bgcolor='#ffffff',  \n",
    "    plot_bgcolor='#ffffff',  \n",
    "    xaxis=dict(title=\"Age\"),\n",
    "    yaxis=dict(title=\"Frequency\"),\n",
    ")\n",
    "\n",
    "fig.update_layout(\n",
    "    title={\n",
    "        'text': \"Age Distribution\",\n",
    "        'y':0.95,\n",
    "        'x':0.15,\n",
    "        'xanchor': 'center',\n",
    "        'yanchor': 'top'},\n",
    "    title_font_size=26,\n",
    "    margin=dict(l=50, r=50, t=80, b=50)\n",
    ")\n",
    "\n",
    "fig.update_layout(width=1000)\n",
    "\n",
    "# Show the pie chart\n",
    "fig.show('svg')"
   ]
  },
  {
   "cell_type": "code",
   "execution_count": 10,
   "id": "4c9fc894",
   "metadata": {
    "execution": {
     "iopub.execute_input": "2024-06-02T04:53:28.723218Z",
     "iopub.status.busy": "2024-06-02T04:53:28.722074Z",
     "iopub.status.idle": "2024-06-02T04:53:28.931812Z",
     "shell.execute_reply": "2024-06-02T04:53:28.930893Z"
    },
    "papermill": {
     "duration": 0.243262,
     "end_time": "2024-06-02T04:53:28.934406",
     "exception": false,
     "start_time": "2024-06-02T04:53:28.691144",
     "status": "completed"
    },
    "tags": []
   },
   "outputs": [
    {
     "data": {
      "image/svg+xml": [
       "<svg class=\"main-svg\" xmlns=\"http://www.w3.org/2000/svg\" xmlns:xlink=\"http://www.w3.org/1999/xlink\" width=\"1000\" height=\"500\" style=\"\" viewBox=\"0 0 1000 500\"><rect x=\"0\" y=\"0\" width=\"1000\" height=\"500\" style=\"fill: rgb(255, 255, 255); fill-opacity: 1;\"/><defs id=\"defs-1154b9\"><g class=\"clips\"><clipPath id=\"clip1154b9xyplot\" class=\"plotclip\"><rect width=\"900\" height=\"367\"/></clipPath><clipPath class=\"axesclip\" id=\"clip1154b9x\"><rect x=\"50\" y=\"0\" width=\"900\" height=\"500\"/></clipPath><clipPath class=\"axesclip\" id=\"clip1154b9y\"><rect x=\"0\" y=\"80\" width=\"1000\" height=\"367\"/></clipPath><clipPath class=\"axesclip\" id=\"clip1154b9xy\"><rect x=\"50\" y=\"80\" width=\"900\" height=\"367\"/></clipPath></g><g class=\"gradients\"/><g class=\"patterns\"/></defs><g class=\"bglayer\"/><g class=\"layer-below\"><g class=\"imagelayer\"/><g class=\"shapelayer\"/></g><g class=\"cartesianlayer\"><g class=\"subplot xy\"><g class=\"layer-subplot\"><g class=\"shapelayer\"/><g class=\"imagelayer\"/></g><g class=\"minor-gridlayer\"><g class=\"x\"/><g class=\"y\"/></g><g class=\"gridlayer\"><g class=\"x\"><path class=\"xgrid crisp\" transform=\"translate(66.07,0)\" d=\"M0,80v367\" style=\"stroke: rgb(255, 255, 255); stroke-opacity: 1; stroke-width: 1px;\"/><path class=\"xgrid crisp\" transform=\"translate(210.71,0)\" d=\"M0,80v367\" style=\"stroke: rgb(255, 255, 255); stroke-opacity: 1; stroke-width: 1px;\"/><path class=\"xgrid crisp\" transform=\"translate(355.36,0)\" d=\"M0,80v367\" style=\"stroke: rgb(255, 255, 255); stroke-opacity: 1; stroke-width: 1px;\"/><path class=\"xgrid crisp\" transform=\"translate(500,0)\" d=\"M0,80v367\" style=\"stroke: rgb(255, 255, 255); stroke-opacity: 1; stroke-width: 1px;\"/><path class=\"xgrid crisp\" transform=\"translate(644.64,0)\" d=\"M0,80v367\" style=\"stroke: rgb(255, 255, 255); stroke-opacity: 1; stroke-width: 1px;\"/><path class=\"xgrid crisp\" transform=\"translate(789.29,0)\" d=\"M0,80v367\" style=\"stroke: rgb(255, 255, 255); stroke-opacity: 1; stroke-width: 1px;\"/><path class=\"xgrid crisp\" transform=\"translate(933.93,0)\" d=\"M0,80v367\" style=\"stroke: rgb(255, 255, 255); stroke-opacity: 1; stroke-width: 1px;\"/></g><g class=\"y\"/></g><g class=\"zerolinelayer\"/><path class=\"xlines-below\"/><path class=\"ylines-below\"/><g class=\"overlines-below\"/><g class=\"xaxislayer-below\"/><g class=\"yaxislayer-below\"/><g class=\"overaxes-below\"/><g class=\"plot\" transform=\"translate(50,80)\" clip-path=\"url(#clip1154b9xyplot)\"><g class=\"boxlayer mlayer\"><g class=\"trace boxes\" style=\"opacity: 1;\"><path class=\"box\" d=\"M363.21,273.41V93.59M290.89,273.41V93.59H435.54V273.41ZM290.89,183.5H73.93M435.54,183.5H652.5M73.93,228.46V138.54M652.5,228.46V138.54\" style=\"vector-effect: none; stroke-width: 2px; stroke: rgb(118, 42, 131); stroke-opacity: 1; fill: rgb(118, 42, 131); fill-opacity: 0.5;\"/><g class=\"points\"><path class=\"point\" transform=\"translate(45,183.5)\" d=\"M3,0A3,3 0 1,1 0,-3A3,3 0 0,1 3,0Z\" style=\"opacity: 1; stroke-width: 0px; fill: rgb(118, 42, 131); fill-opacity: 1;\"/><path class=\"point\" transform=\"translate(45,183.5)\" d=\"M3,0A3,3 0 1,1 0,-3A3,3 0 0,1 3,0Z\" style=\"opacity: 1; stroke-width: 0px; fill: rgb(118, 42, 131); fill-opacity: 1;\"/><path class=\"point\" transform=\"translate(45,183.5)\" d=\"M3,0A3,3 0 1,1 0,-3A3,3 0 0,1 3,0Z\" style=\"opacity: 1; stroke-width: 0px; fill: rgb(118, 42, 131); fill-opacity: 1;\"/><path class=\"point\" transform=\"translate(45,183.5)\" d=\"M3,0A3,3 0 1,1 0,-3A3,3 0 0,1 3,0Z\" style=\"opacity: 1; stroke-width: 0px; fill: rgb(118, 42, 131); fill-opacity: 1;\"/><path class=\"point\" transform=\"translate(45,183.5)\" d=\"M3,0A3,3 0 1,1 0,-3A3,3 0 0,1 3,0Z\" style=\"opacity: 1; stroke-width: 0px; fill: rgb(118, 42, 131); fill-opacity: 1;\"/><path class=\"point\" transform=\"translate(45,183.5)\" d=\"M3,0A3,3 0 1,1 0,-3A3,3 0 0,1 3,0Z\" style=\"opacity: 1; stroke-width: 0px; fill: rgb(118, 42, 131); fill-opacity: 1;\"/><path class=\"point\" transform=\"translate(59.46,183.5)\" d=\"M3,0A3,3 0 1,1 0,-3A3,3 0 0,1 3,0Z\" style=\"opacity: 1; stroke-width: 0px; fill: rgb(118, 42, 131); fill-opacity: 1;\"/><path class=\"point\" transform=\"translate(59.46,183.5)\" d=\"M3,0A3,3 0 1,1 0,-3A3,3 0 0,1 3,0Z\" style=\"opacity: 1; stroke-width: 0px; fill: rgb(118, 42, 131); fill-opacity: 1;\"/><path class=\"point\" transform=\"translate(59.46,183.5)\" d=\"M3,0A3,3 0 1,1 0,-3A3,3 0 0,1 3,0Z\" style=\"opacity: 1; stroke-width: 0px; fill: rgb(118, 42, 131); fill-opacity: 1;\"/><path class=\"point\" transform=\"translate(59.46,183.5)\" d=\"M3,0A3,3 0 1,1 0,-3A3,3 0 0,1 3,0Z\" style=\"opacity: 1; stroke-width: 0px; fill: rgb(118, 42, 131); fill-opacity: 1;\"/><path class=\"point\" transform=\"translate(666.96,183.5)\" d=\"M3,0A3,3 0 1,1 0,-3A3,3 0 0,1 3,0Z\" style=\"opacity: 1; stroke-width: 0px; fill: rgb(118, 42, 131); fill-opacity: 1;\"/><path class=\"point\" transform=\"translate(666.96,183.5)\" d=\"M3,0A3,3 0 1,1 0,-3A3,3 0 0,1 3,0Z\" style=\"opacity: 1; stroke-width: 0px; fill: rgb(118, 42, 131); fill-opacity: 1;\"/><path class=\"point\" transform=\"translate(666.96,183.5)\" d=\"M3,0A3,3 0 1,1 0,-3A3,3 0 0,1 3,0Z\" style=\"opacity: 1; stroke-width: 0px; fill: rgb(118, 42, 131); fill-opacity: 1;\"/><path class=\"point\" transform=\"translate(666.96,183.5)\" d=\"M3,0A3,3 0 1,1 0,-3A3,3 0 0,1 3,0Z\" style=\"opacity: 1; stroke-width: 0px; fill: rgb(118, 42, 131); fill-opacity: 1;\"/><path class=\"point\" transform=\"translate(666.96,183.5)\" d=\"M3,0A3,3 0 1,1 0,-3A3,3 0 0,1 3,0Z\" style=\"opacity: 1; stroke-width: 0px; fill: rgb(118, 42, 131); fill-opacity: 1;\"/><path class=\"point\" transform=\"translate(666.96,183.5)\" d=\"M3,0A3,3 0 1,1 0,-3A3,3 0 0,1 3,0Z\" style=\"opacity: 1; stroke-width: 0px; fill: rgb(118, 42, 131); fill-opacity: 1;\"/><path class=\"point\" transform=\"translate(666.96,183.5)\" d=\"M3,0A3,3 0 1,1 0,-3A3,3 0 0,1 3,0Z\" style=\"opacity: 1; stroke-width: 0px; fill: rgb(118, 42, 131); fill-opacity: 1;\"/><path class=\"point\" transform=\"translate(666.96,183.5)\" d=\"M3,0A3,3 0 1,1 0,-3A3,3 0 0,1 3,0Z\" style=\"opacity: 1; stroke-width: 0px; fill: rgb(118, 42, 131); fill-opacity: 1;\"/><path class=\"point\" transform=\"translate(666.96,183.5)\" d=\"M3,0A3,3 0 1,1 0,-3A3,3 0 0,1 3,0Z\" style=\"opacity: 1; stroke-width: 0px; fill: rgb(118, 42, 131); fill-opacity: 1;\"/><path class=\"point\" transform=\"translate(666.96,183.5)\" d=\"M3,0A3,3 0 1,1 0,-3A3,3 0 0,1 3,0Z\" style=\"opacity: 1; stroke-width: 0px; fill: rgb(118, 42, 131); fill-opacity: 1;\"/><path class=\"point\" transform=\"translate(666.96,183.5)\" d=\"M3,0A3,3 0 1,1 0,-3A3,3 0 0,1 3,0Z\" style=\"opacity: 1; stroke-width: 0px; fill: rgb(118, 42, 131); fill-opacity: 1;\"/><path class=\"point\" transform=\"translate(666.96,183.5)\" d=\"M3,0A3,3 0 1,1 0,-3A3,3 0 0,1 3,0Z\" style=\"opacity: 1; stroke-width: 0px; fill: rgb(118, 42, 131); fill-opacity: 1;\"/><path class=\"point\" transform=\"translate(666.96,183.5)\" d=\"M3,0A3,3 0 1,1 0,-3A3,3 0 0,1 3,0Z\" style=\"opacity: 1; stroke-width: 0px; fill: rgb(118, 42, 131); fill-opacity: 1;\"/><path class=\"point\" transform=\"translate(666.96,183.5)\" d=\"M3,0A3,3 0 1,1 0,-3A3,3 0 0,1 3,0Z\" style=\"opacity: 1; stroke-width: 0px; fill: rgb(118, 42, 131); fill-opacity: 1;\"/><path class=\"point\" transform=\"translate(666.96,183.5)\" d=\"M3,0A3,3 0 1,1 0,-3A3,3 0 0,1 3,0Z\" style=\"opacity: 1; stroke-width: 0px; fill: rgb(118, 42, 131); fill-opacity: 1;\"/><path class=\"point\" transform=\"translate(666.96,183.5)\" d=\"M3,0A3,3 0 1,1 0,-3A3,3 0 0,1 3,0Z\" style=\"opacity: 1; stroke-width: 0px; fill: rgb(118, 42, 131); fill-opacity: 1;\"/><path class=\"point\" transform=\"translate(666.96,183.5)\" d=\"M3,0A3,3 0 1,1 0,-3A3,3 0 0,1 3,0Z\" style=\"opacity: 1; stroke-width: 0px; fill: rgb(118, 42, 131); fill-opacity: 1;\"/><path class=\"point\" transform=\"translate(666.96,183.5)\" d=\"M3,0A3,3 0 1,1 0,-3A3,3 0 0,1 3,0Z\" style=\"opacity: 1; stroke-width: 0px; fill: rgb(118, 42, 131); fill-opacity: 1;\"/><path class=\"point\" transform=\"translate(666.96,183.5)\" d=\"M3,0A3,3 0 1,1 0,-3A3,3 0 0,1 3,0Z\" style=\"opacity: 1; stroke-width: 0px; fill: rgb(118, 42, 131); fill-opacity: 1;\"/><path class=\"point\" transform=\"translate(681.43,183.5)\" d=\"M3,0A3,3 0 1,1 0,-3A3,3 0 0,1 3,0Z\" style=\"opacity: 1; stroke-width: 0px; fill: rgb(118, 42, 131); fill-opacity: 1;\"/><path class=\"point\" transform=\"translate(681.43,183.5)\" d=\"M3,0A3,3 0 1,1 0,-3A3,3 0 0,1 3,0Z\" style=\"opacity: 1; stroke-width: 0px; fill: rgb(118, 42, 131); fill-opacity: 1;\"/><path class=\"point\" transform=\"translate(681.43,183.5)\" d=\"M3,0A3,3 0 1,1 0,-3A3,3 0 0,1 3,0Z\" style=\"opacity: 1; stroke-width: 0px; fill: rgb(118, 42, 131); fill-opacity: 1;\"/><path class=\"point\" transform=\"translate(681.43,183.5)\" d=\"M3,0A3,3 0 1,1 0,-3A3,3 0 0,1 3,0Z\" style=\"opacity: 1; stroke-width: 0px; fill: rgb(118, 42, 131); fill-opacity: 1;\"/><path class=\"point\" transform=\"translate(681.43,183.5)\" d=\"M3,0A3,3 0 1,1 0,-3A3,3 0 0,1 3,0Z\" style=\"opacity: 1; stroke-width: 0px; fill: rgb(118, 42, 131); fill-opacity: 1;\"/><path class=\"point\" transform=\"translate(681.43,183.5)\" d=\"M3,0A3,3 0 1,1 0,-3A3,3 0 0,1 3,0Z\" style=\"opacity: 1; stroke-width: 0px; fill: rgb(118, 42, 131); fill-opacity: 1;\"/><path class=\"point\" transform=\"translate(681.43,183.5)\" d=\"M3,0A3,3 0 1,1 0,-3A3,3 0 0,1 3,0Z\" style=\"opacity: 1; stroke-width: 0px; fill: rgb(118, 42, 131); fill-opacity: 1;\"/><path class=\"point\" transform=\"translate(681.43,183.5)\" d=\"M3,0A3,3 0 1,1 0,-3A3,3 0 0,1 3,0Z\" style=\"opacity: 1; stroke-width: 0px; fill: rgb(118, 42, 131); fill-opacity: 1;\"/><path class=\"point\" transform=\"translate(681.43,183.5)\" d=\"M3,0A3,3 0 1,1 0,-3A3,3 0 0,1 3,0Z\" style=\"opacity: 1; stroke-width: 0px; fill: rgb(118, 42, 131); fill-opacity: 1;\"/><path class=\"point\" transform=\"translate(681.43,183.5)\" d=\"M3,0A3,3 0 1,1 0,-3A3,3 0 0,1 3,0Z\" style=\"opacity: 1; stroke-width: 0px; fill: rgb(118, 42, 131); fill-opacity: 1;\"/><path class=\"point\" transform=\"translate(681.43,183.5)\" d=\"M3,0A3,3 0 1,1 0,-3A3,3 0 0,1 3,0Z\" style=\"opacity: 1; stroke-width: 0px; fill: rgb(118, 42, 131); fill-opacity: 1;\"/><path class=\"point\" transform=\"translate(681.43,183.5)\" d=\"M3,0A3,3 0 1,1 0,-3A3,3 0 0,1 3,0Z\" style=\"opacity: 1; stroke-width: 0px; fill: rgb(118, 42, 131); fill-opacity: 1;\"/><path class=\"point\" transform=\"translate(681.43,183.5)\" d=\"M3,0A3,3 0 1,1 0,-3A3,3 0 0,1 3,0Z\" style=\"opacity: 1; stroke-width: 0px; fill: rgb(118, 42, 131); fill-opacity: 1;\"/><path class=\"point\" transform=\"translate(681.43,183.5)\" d=\"M3,0A3,3 0 1,1 0,-3A3,3 0 0,1 3,0Z\" style=\"opacity: 1; stroke-width: 0px; fill: rgb(118, 42, 131); fill-opacity: 1;\"/><path class=\"point\" transform=\"translate(681.43,183.5)\" d=\"M3,0A3,3 0 1,1 0,-3A3,3 0 0,1 3,0Z\" style=\"opacity: 1; stroke-width: 0px; fill: rgb(118, 42, 131); fill-opacity: 1;\"/><path class=\"point\" transform=\"translate(681.43,183.5)\" d=\"M3,0A3,3 0 1,1 0,-3A3,3 0 0,1 3,0Z\" style=\"opacity: 1; stroke-width: 0px; fill: rgb(118, 42, 131); fill-opacity: 1;\"/><path class=\"point\" transform=\"translate(681.43,183.5)\" d=\"M3,0A3,3 0 1,1 0,-3A3,3 0 0,1 3,0Z\" style=\"opacity: 1; stroke-width: 0px; fill: rgb(118, 42, 131); fill-opacity: 1;\"/><path class=\"point\" transform=\"translate(681.43,183.5)\" d=\"M3,0A3,3 0 1,1 0,-3A3,3 0 0,1 3,0Z\" style=\"opacity: 1; stroke-width: 0px; fill: rgb(118, 42, 131); fill-opacity: 1;\"/><path class=\"point\" transform=\"translate(681.43,183.5)\" d=\"M3,0A3,3 0 1,1 0,-3A3,3 0 0,1 3,0Z\" style=\"opacity: 1; stroke-width: 0px; fill: rgb(118, 42, 131); fill-opacity: 1;\"/><path class=\"point\" transform=\"translate(681.43,183.5)\" d=\"M3,0A3,3 0 1,1 0,-3A3,3 0 0,1 3,0Z\" style=\"opacity: 1; stroke-width: 0px; fill: rgb(118, 42, 131); fill-opacity: 1;\"/><path class=\"point\" transform=\"translate(681.43,183.5)\" d=\"M3,0A3,3 0 1,1 0,-3A3,3 0 0,1 3,0Z\" style=\"opacity: 1; stroke-width: 0px; fill: rgb(118, 42, 131); fill-opacity: 1;\"/><path class=\"point\" transform=\"translate(681.43,183.5)\" d=\"M3,0A3,3 0 1,1 0,-3A3,3 0 0,1 3,0Z\" style=\"opacity: 1; stroke-width: 0px; fill: rgb(118, 42, 131); fill-opacity: 1;\"/><path class=\"point\" transform=\"translate(695.89,183.5)\" d=\"M3,0A3,3 0 1,1 0,-3A3,3 0 0,1 3,0Z\" style=\"opacity: 1; stroke-width: 0px; fill: rgb(118, 42, 131); fill-opacity: 1;\"/><path class=\"point\" transform=\"translate(695.89,183.5)\" d=\"M3,0A3,3 0 1,1 0,-3A3,3 0 0,1 3,0Z\" style=\"opacity: 1; stroke-width: 0px; fill: rgb(118, 42, 131); fill-opacity: 1;\"/><path class=\"point\" transform=\"translate(695.89,183.5)\" d=\"M3,0A3,3 0 1,1 0,-3A3,3 0 0,1 3,0Z\" style=\"opacity: 1; stroke-width: 0px; fill: rgb(118, 42, 131); fill-opacity: 1;\"/><path class=\"point\" transform=\"translate(695.89,183.5)\" d=\"M3,0A3,3 0 1,1 0,-3A3,3 0 0,1 3,0Z\" style=\"opacity: 1; stroke-width: 0px; fill: rgb(118, 42, 131); fill-opacity: 1;\"/><path class=\"point\" transform=\"translate(695.89,183.5)\" d=\"M3,0A3,3 0 1,1 0,-3A3,3 0 0,1 3,0Z\" style=\"opacity: 1; stroke-width: 0px; fill: rgb(118, 42, 131); fill-opacity: 1;\"/><path class=\"point\" transform=\"translate(695.89,183.5)\" d=\"M3,0A3,3 0 1,1 0,-3A3,3 0 0,1 3,0Z\" style=\"opacity: 1; stroke-width: 0px; fill: rgb(118, 42, 131); fill-opacity: 1;\"/><path class=\"point\" transform=\"translate(695.89,183.5)\" d=\"M3,0A3,3 0 1,1 0,-3A3,3 0 0,1 3,0Z\" style=\"opacity: 1; stroke-width: 0px; fill: rgb(118, 42, 131); fill-opacity: 1;\"/><path class=\"point\" transform=\"translate(695.89,183.5)\" d=\"M3,0A3,3 0 1,1 0,-3A3,3 0 0,1 3,0Z\" style=\"opacity: 1; stroke-width: 0px; fill: rgb(118, 42, 131); fill-opacity: 1;\"/><path class=\"point\" transform=\"translate(695.89,183.5)\" d=\"M3,0A3,3 0 1,1 0,-3A3,3 0 0,1 3,0Z\" style=\"opacity: 1; stroke-width: 0px; fill: rgb(118, 42, 131); fill-opacity: 1;\"/><path class=\"point\" transform=\"translate(695.89,183.5)\" d=\"M3,0A3,3 0 1,1 0,-3A3,3 0 0,1 3,0Z\" style=\"opacity: 1; stroke-width: 0px; fill: rgb(118, 42, 131); fill-opacity: 1;\"/><path class=\"point\" transform=\"translate(695.89,183.5)\" d=\"M3,0A3,3 0 1,1 0,-3A3,3 0 0,1 3,0Z\" style=\"opacity: 1; stroke-width: 0px; fill: rgb(118, 42, 131); fill-opacity: 1;\"/><path class=\"point\" transform=\"translate(695.89,183.5)\" d=\"M3,0A3,3 0 1,1 0,-3A3,3 0 0,1 3,0Z\" style=\"opacity: 1; stroke-width: 0px; fill: rgb(118, 42, 131); fill-opacity: 1;\"/><path class=\"point\" transform=\"translate(695.89,183.5)\" d=\"M3,0A3,3 0 1,1 0,-3A3,3 0 0,1 3,0Z\" style=\"opacity: 1; stroke-width: 0px; fill: rgb(118, 42, 131); fill-opacity: 1;\"/><path class=\"point\" transform=\"translate(695.89,183.5)\" d=\"M3,0A3,3 0 1,1 0,-3A3,3 0 0,1 3,0Z\" style=\"opacity: 1; stroke-width: 0px; fill: rgb(118, 42, 131); fill-opacity: 1;\"/><path class=\"point\" transform=\"translate(710.36,183.5)\" d=\"M3,0A3,3 0 1,1 0,-3A3,3 0 0,1 3,0Z\" style=\"opacity: 1; stroke-width: 0px; fill: rgb(118, 42, 131); fill-opacity: 1;\"/><path class=\"point\" transform=\"translate(710.36,183.5)\" d=\"M3,0A3,3 0 1,1 0,-3A3,3 0 0,1 3,0Z\" style=\"opacity: 1; stroke-width: 0px; fill: rgb(118, 42, 131); fill-opacity: 1;\"/><path class=\"point\" transform=\"translate(710.36,183.5)\" d=\"M3,0A3,3 0 1,1 0,-3A3,3 0 0,1 3,0Z\" style=\"opacity: 1; stroke-width: 0px; fill: rgb(118, 42, 131); fill-opacity: 1;\"/><path class=\"point\" transform=\"translate(710.36,183.5)\" d=\"M3,0A3,3 0 1,1 0,-3A3,3 0 0,1 3,0Z\" style=\"opacity: 1; stroke-width: 0px; fill: rgb(118, 42, 131); fill-opacity: 1;\"/><path class=\"point\" transform=\"translate(710.36,183.5)\" d=\"M3,0A3,3 0 1,1 0,-3A3,3 0 0,1 3,0Z\" style=\"opacity: 1; stroke-width: 0px; fill: rgb(118, 42, 131); fill-opacity: 1;\"/><path class=\"point\" transform=\"translate(710.36,183.5)\" d=\"M3,0A3,3 0 1,1 0,-3A3,3 0 0,1 3,0Z\" style=\"opacity: 1; stroke-width: 0px; fill: rgb(118, 42, 131); fill-opacity: 1;\"/><path class=\"point\" transform=\"translate(710.36,183.5)\" d=\"M3,0A3,3 0 1,1 0,-3A3,3 0 0,1 3,0Z\" style=\"opacity: 1; stroke-width: 0px; fill: rgb(118, 42, 131); fill-opacity: 1;\"/><path class=\"point\" transform=\"translate(710.36,183.5)\" d=\"M3,0A3,3 0 1,1 0,-3A3,3 0 0,1 3,0Z\" style=\"opacity: 1; stroke-width: 0px; fill: rgb(118, 42, 131); fill-opacity: 1;\"/><path class=\"point\" transform=\"translate(710.36,183.5)\" d=\"M3,0A3,3 0 1,1 0,-3A3,3 0 0,1 3,0Z\" style=\"opacity: 1; stroke-width: 0px; fill: rgb(118, 42, 131); fill-opacity: 1;\"/><path class=\"point\" transform=\"translate(710.36,183.5)\" d=\"M3,0A3,3 0 1,1 0,-3A3,3 0 0,1 3,0Z\" style=\"opacity: 1; stroke-width: 0px; fill: rgb(118, 42, 131); fill-opacity: 1;\"/><path class=\"point\" transform=\"translate(710.36,183.5)\" d=\"M3,0A3,3 0 1,1 0,-3A3,3 0 0,1 3,0Z\" style=\"opacity: 1; stroke-width: 0px; fill: rgb(118, 42, 131); fill-opacity: 1;\"/><path class=\"point\" transform=\"translate(710.36,183.5)\" d=\"M3,0A3,3 0 1,1 0,-3A3,3 0 0,1 3,0Z\" style=\"opacity: 1; stroke-width: 0px; fill: rgb(118, 42, 131); fill-opacity: 1;\"/><path class=\"point\" transform=\"translate(710.36,183.5)\" d=\"M3,0A3,3 0 1,1 0,-3A3,3 0 0,1 3,0Z\" style=\"opacity: 1; stroke-width: 0px; fill: rgb(118, 42, 131); fill-opacity: 1;\"/><path class=\"point\" transform=\"translate(710.36,183.5)\" d=\"M3,0A3,3 0 1,1 0,-3A3,3 0 0,1 3,0Z\" style=\"opacity: 1; stroke-width: 0px; fill: rgb(118, 42, 131); fill-opacity: 1;\"/><path class=\"point\" transform=\"translate(710.36,183.5)\" d=\"M3,0A3,3 0 1,1 0,-3A3,3 0 0,1 3,0Z\" style=\"opacity: 1; stroke-width: 0px; fill: rgb(118, 42, 131); fill-opacity: 1;\"/><path class=\"point\" transform=\"translate(710.36,183.5)\" d=\"M3,0A3,3 0 1,1 0,-3A3,3 0 0,1 3,0Z\" style=\"opacity: 1; stroke-width: 0px; fill: rgb(118, 42, 131); fill-opacity: 1;\"/><path class=\"point\" transform=\"translate(710.36,183.5)\" d=\"M3,0A3,3 0 1,1 0,-3A3,3 0 0,1 3,0Z\" style=\"opacity: 1; stroke-width: 0px; fill: rgb(118, 42, 131); fill-opacity: 1;\"/><path class=\"point\" transform=\"translate(724.82,183.5)\" d=\"M3,0A3,3 0 1,1 0,-3A3,3 0 0,1 3,0Z\" style=\"opacity: 1; stroke-width: 0px; fill: rgb(118, 42, 131); fill-opacity: 1;\"/><path class=\"point\" transform=\"translate(724.82,183.5)\" d=\"M3,0A3,3 0 1,1 0,-3A3,3 0 0,1 3,0Z\" style=\"opacity: 1; stroke-width: 0px; fill: rgb(118, 42, 131); fill-opacity: 1;\"/><path class=\"point\" transform=\"translate(724.82,183.5)\" d=\"M3,0A3,3 0 1,1 0,-3A3,3 0 0,1 3,0Z\" style=\"opacity: 1; stroke-width: 0px; fill: rgb(118, 42, 131); fill-opacity: 1;\"/><path class=\"point\" transform=\"translate(724.82,183.5)\" d=\"M3,0A3,3 0 1,1 0,-3A3,3 0 0,1 3,0Z\" style=\"opacity: 1; stroke-width: 0px; fill: rgb(118, 42, 131); fill-opacity: 1;\"/><path class=\"point\" transform=\"translate(724.82,183.5)\" d=\"M3,0A3,3 0 1,1 0,-3A3,3 0 0,1 3,0Z\" style=\"opacity: 1; stroke-width: 0px; fill: rgb(118, 42, 131); fill-opacity: 1;\"/><path class=\"point\" transform=\"translate(724.82,183.5)\" d=\"M3,0A3,3 0 1,1 0,-3A3,3 0 0,1 3,0Z\" style=\"opacity: 1; stroke-width: 0px; fill: rgb(118, 42, 131); fill-opacity: 1;\"/><path class=\"point\" transform=\"translate(724.82,183.5)\" d=\"M3,0A3,3 0 1,1 0,-3A3,3 0 0,1 3,0Z\" style=\"opacity: 1; stroke-width: 0px; fill: rgb(118, 42, 131); fill-opacity: 1;\"/><path class=\"point\" transform=\"translate(724.82,183.5)\" d=\"M3,0A3,3 0 1,1 0,-3A3,3 0 0,1 3,0Z\" style=\"opacity: 1; stroke-width: 0px; fill: rgb(118, 42, 131); fill-opacity: 1;\"/><path class=\"point\" transform=\"translate(724.82,183.5)\" d=\"M3,0A3,3 0 1,1 0,-3A3,3 0 0,1 3,0Z\" style=\"opacity: 1; stroke-width: 0px; fill: rgb(118, 42, 131); fill-opacity: 1;\"/><path class=\"point\" transform=\"translate(724.82,183.5)\" d=\"M3,0A3,3 0 1,1 0,-3A3,3 0 0,1 3,0Z\" style=\"opacity: 1; stroke-width: 0px; fill: rgb(118, 42, 131); fill-opacity: 1;\"/><path class=\"point\" transform=\"translate(724.82,183.5)\" d=\"M3,0A3,3 0 1,1 0,-3A3,3 0 0,1 3,0Z\" style=\"opacity: 1; stroke-width: 0px; fill: rgb(118, 42, 131); fill-opacity: 1;\"/><path class=\"point\" transform=\"translate(739.29,183.5)\" d=\"M3,0A3,3 0 1,1 0,-3A3,3 0 0,1 3,0Z\" style=\"opacity: 1; stroke-width: 0px; fill: rgb(118, 42, 131); fill-opacity: 1;\"/><path class=\"point\" transform=\"translate(739.29,183.5)\" d=\"M3,0A3,3 0 1,1 0,-3A3,3 0 0,1 3,0Z\" style=\"opacity: 1; stroke-width: 0px; fill: rgb(118, 42, 131); fill-opacity: 1;\"/><path class=\"point\" transform=\"translate(739.29,183.5)\" d=\"M3,0A3,3 0 1,1 0,-3A3,3 0 0,1 3,0Z\" style=\"opacity: 1; stroke-width: 0px; fill: rgb(118, 42, 131); fill-opacity: 1;\"/><path class=\"point\" transform=\"translate(739.29,183.5)\" d=\"M3,0A3,3 0 1,1 0,-3A3,3 0 0,1 3,0Z\" style=\"opacity: 1; stroke-width: 0px; fill: rgb(118, 42, 131); fill-opacity: 1;\"/><path class=\"point\" transform=\"translate(739.29,183.5)\" d=\"M3,0A3,3 0 1,1 0,-3A3,3 0 0,1 3,0Z\" style=\"opacity: 1; stroke-width: 0px; fill: rgb(118, 42, 131); fill-opacity: 1;\"/><path class=\"point\" transform=\"translate(739.29,183.5)\" d=\"M3,0A3,3 0 1,1 0,-3A3,3 0 0,1 3,0Z\" style=\"opacity: 1; stroke-width: 0px; fill: rgb(118, 42, 131); fill-opacity: 1;\"/><path class=\"point\" transform=\"translate(753.75,183.5)\" d=\"M3,0A3,3 0 1,1 0,-3A3,3 0 0,1 3,0Z\" style=\"opacity: 1; stroke-width: 0px; fill: rgb(118, 42, 131); fill-opacity: 1;\"/><path class=\"point\" transform=\"translate(753.75,183.5)\" d=\"M3,0A3,3 0 1,1 0,-3A3,3 0 0,1 3,0Z\" style=\"opacity: 1; stroke-width: 0px; fill: rgb(118, 42, 131); fill-opacity: 1;\"/><path class=\"point\" transform=\"translate(753.75,183.5)\" d=\"M3,0A3,3 0 1,1 0,-3A3,3 0 0,1 3,0Z\" style=\"opacity: 1; stroke-width: 0px; fill: rgb(118, 42, 131); fill-opacity: 1;\"/><path class=\"point\" transform=\"translate(768.21,183.5)\" d=\"M3,0A3,3 0 1,1 0,-3A3,3 0 0,1 3,0Z\" style=\"opacity: 1; stroke-width: 0px; fill: rgb(118, 42, 131); fill-opacity: 1;\"/><path class=\"point\" transform=\"translate(768.21,183.5)\" d=\"M3,0A3,3 0 1,1 0,-3A3,3 0 0,1 3,0Z\" style=\"opacity: 1; stroke-width: 0px; fill: rgb(118, 42, 131); fill-opacity: 1;\"/><path class=\"point\" transform=\"translate(768.21,183.5)\" d=\"M3,0A3,3 0 1,1 0,-3A3,3 0 0,1 3,0Z\" style=\"opacity: 1; stroke-width: 0px; fill: rgb(118, 42, 131); fill-opacity: 1;\"/><path class=\"point\" transform=\"translate(768.21,183.5)\" d=\"M3,0A3,3 0 1,1 0,-3A3,3 0 0,1 3,0Z\" style=\"opacity: 1; stroke-width: 0px; fill: rgb(118, 42, 131); fill-opacity: 1;\"/><path class=\"point\" transform=\"translate(768.21,183.5)\" d=\"M3,0A3,3 0 1,1 0,-3A3,3 0 0,1 3,0Z\" style=\"opacity: 1; stroke-width: 0px; fill: rgb(118, 42, 131); fill-opacity: 1;\"/><path class=\"point\" transform=\"translate(768.21,183.5)\" d=\"M3,0A3,3 0 1,1 0,-3A3,3 0 0,1 3,0Z\" style=\"opacity: 1; stroke-width: 0px; fill: rgb(118, 42, 131); fill-opacity: 1;\"/><path class=\"point\" transform=\"translate(782.68,183.5)\" d=\"M3,0A3,3 0 1,1 0,-3A3,3 0 0,1 3,0Z\" style=\"opacity: 1; stroke-width: 0px; fill: rgb(118, 42, 131); fill-opacity: 1;\"/><path class=\"point\" transform=\"translate(811.61,183.5)\" d=\"M3,0A3,3 0 1,1 0,-3A3,3 0 0,1 3,0Z\" style=\"opacity: 1; stroke-width: 0px; fill: rgb(118, 42, 131); fill-opacity: 1;\"/><path class=\"point\" transform=\"translate(811.61,183.5)\" d=\"M3,0A3,3 0 1,1 0,-3A3,3 0 0,1 3,0Z\" style=\"opacity: 1; stroke-width: 0px; fill: rgb(118, 42, 131); fill-opacity: 1;\"/><path class=\"point\" transform=\"translate(811.61,183.5)\" d=\"M3,0A3,3 0 1,1 0,-3A3,3 0 0,1 3,0Z\" style=\"opacity: 1; stroke-width: 0px; fill: rgb(118, 42, 131); fill-opacity: 1;\"/><path class=\"point\" transform=\"translate(855,183.5)\" d=\"M3,0A3,3 0 1,1 0,-3A3,3 0 0,1 3,0Z\" style=\"opacity: 1; stroke-width: 0px; fill: rgb(118, 42, 131); fill-opacity: 1;\"/></g></g></g></g><g class=\"overplot\"/><path class=\"xlines-above crisp\" d=\"M0,0\" style=\"fill: none;\"/><path class=\"ylines-above crisp\" d=\"M0,0\" style=\"fill: none;\"/><g class=\"overlines-above\"/><g class=\"xaxislayer-above\"><g class=\"xtick\"><text text-anchor=\"middle\" x=\"0\" y=\"460\" transform=\"translate(66.07,0)\" style=\"font-family: 'Open Sans', verdana, arial, sans-serif; font-size: 12px; fill: rgb(42, 63, 95); fill-opacity: 1; white-space: pre; opacity: 1;\">10</text></g><g class=\"xtick\"><text text-anchor=\"middle\" x=\"0\" y=\"460\" style=\"font-family: 'Open Sans', verdana, arial, sans-serif; font-size: 12px; fill: rgb(42, 63, 95); fill-opacity: 1; white-space: pre; opacity: 1;\" transform=\"translate(210.71,0)\">20</text></g><g class=\"xtick\"><text text-anchor=\"middle\" x=\"0\" y=\"460\" style=\"font-family: 'Open Sans', verdana, arial, sans-serif; font-size: 12px; fill: rgb(42, 63, 95); fill-opacity: 1; white-space: pre; opacity: 1;\" transform=\"translate(355.36,0)\">30</text></g><g class=\"xtick\"><text text-anchor=\"middle\" x=\"0\" y=\"460\" style=\"font-family: 'Open Sans', verdana, arial, sans-serif; font-size: 12px; fill: rgb(42, 63, 95); fill-opacity: 1; white-space: pre; opacity: 1;\" transform=\"translate(500,0)\">40</text></g><g class=\"xtick\"><text text-anchor=\"middle\" x=\"0\" y=\"460\" style=\"font-family: 'Open Sans', verdana, arial, sans-serif; font-size: 12px; fill: rgb(42, 63, 95); fill-opacity: 1; white-space: pre; opacity: 1;\" transform=\"translate(644.64,0)\">50</text></g><g class=\"xtick\"><text text-anchor=\"middle\" x=\"0\" y=\"460\" style=\"font-family: 'Open Sans', verdana, arial, sans-serif; font-size: 12px; fill: rgb(42, 63, 95); fill-opacity: 1; white-space: pre; opacity: 1;\" transform=\"translate(789.29,0)\">60</text></g><g class=\"xtick\"><text text-anchor=\"middle\" x=\"0\" y=\"460\" style=\"font-family: 'Open Sans', verdana, arial, sans-serif; font-size: 12px; fill: rgb(42, 63, 95); fill-opacity: 1; white-space: pre; opacity: 1;\" transform=\"translate(933.93,0)\">70</text></g></g><g class=\"yaxislayer-above\"><g class=\"ytick\"><text text-anchor=\"end\" x=\"49\" y=\"4.199999999999999\" transform=\"translate(0,263.5)\" style=\"font-family: 'Open Sans', verdana, arial, sans-serif; font-size: 12px; fill: rgb(42, 63, 95); fill-opacity: 1; white-space: pre; opacity: 1;\">trace 0</text></g></g><g class=\"overaxes-above\"/></g></g><g class=\"polarlayer\"/><g class=\"smithlayer\"/><g class=\"ternarylayer\"/><g class=\"geolayer\"/><g class=\"funnelarealayer\"/><g class=\"pielayer\"/><g class=\"iciclelayer\"/><g class=\"treemaplayer\"/><g class=\"sunburstlayer\"/><g class=\"glimages\"/><defs id=\"topdefs-1154b9\"><g class=\"clips\"/></defs><g class=\"layer-above\"><g class=\"imagelayer\"/><g class=\"shapelayer\"/></g><g class=\"infolayer\"><g class=\"g-gtitle\"><text class=\"gtitle\" x=\"100\" y=\"25\" text-anchor=\"middle\" dy=\"0.7em\" style=\"font-family: 'Times New Roman'; font-size: 26px; fill: rgb(0, 0, 0); opacity: 1; font-weight: normal; white-space: pre;\">Boxplot of Age</text></g><g class=\"g-xtitle\"><text class=\"xtitle\" x=\"500\" y=\"487.3\" text-anchor=\"middle\" style=\"font-family: 'Open Sans', verdana, arial, sans-serif; font-size: 14px; fill: rgb(42, 63, 95); opacity: 1; font-weight: normal; white-space: pre;\">Age</text></g><g class=\"g-ytitle\"/></g></svg>"
      ]
     },
     "metadata": {},
     "output_type": "display_data"
    }
   ],
   "source": [
    "fig = go.Figure(data=[go.Box(\n",
    "    x=df['age'],\n",
    "    marker=dict(color=palette[1])\n",
    ")])\n",
    "\n",
    "fig.update_layout(\n",
    "    title_text=\"Boxplot of Age\",\n",
    "    title_font_size=24,\n",
    "    title_font_family=\"Times New Roman\",\n",
    "    title_font_color=\"#000000\",  \n",
    "    paper_bgcolor='#ffffff',  \n",
    "    plot_bgcolor='#ffffff',  \n",
    "    xaxis=dict(title=\"Age\"),\n",
    ")\n",
    "\n",
    "fig.update_layout(\n",
    "    title={\n",
    "        'y':0.95,\n",
    "        'x':0.10,\n",
    "        'xanchor': 'center',\n",
    "        'yanchor': 'top'},\n",
    "    title_font_size=26,\n",
    "    margin=dict(l=50, r=50, t=80, b=50)\n",
    ")\n",
    "\n",
    "\n",
    "\n",
    "fig.update_layout(width=1000)\n",
    "\n",
    "fig.show('svg')"
   ]
  },
  {
   "cell_type": "markdown",
   "id": "e663c714",
   "metadata": {
    "papermill": {
     "duration": 0.03008,
     "end_time": "2024-06-02T04:53:28.995986",
     "exception": false,
     "start_time": "2024-06-02T04:53:28.965906",
     "status": "completed"
    },
    "tags": []
   },
   "source": [
    "*Some outliers are present after 54*"
   ]
  },
  {
   "cell_type": "markdown",
   "id": "6380939f",
   "metadata": {
    "papermill": {
     "duration": 0.045125,
     "end_time": "2024-06-02T04:53:29.071128",
     "exception": false,
     "start_time": "2024-06-02T04:53:29.026003",
     "status": "completed"
    },
    "tags": []
   },
   "source": [
    "----------------------------------------------------------------------------------------------------------------------------------------------------------"
   ]
  },
  {
   "cell_type": "markdown",
   "id": "9a9caae2",
   "metadata": {
    "papermill": {
     "duration": 0.029523,
     "end_time": "2024-06-02T04:53:29.130271",
     "exception": false,
     "start_time": "2024-06-02T04:53:29.100748",
     "status": "completed"
    },
    "tags": []
   },
   "source": [
    "## wtkg : Weight (in Kgs)\n",
    "\n",
    "***Conclusions***\n",
    "- *Most of the outliers are present beyond the weight of 100kg*\n",
    "\n",
    "- *The distribution is slightly positively skewewd*\n",
    "\n",
    "- \"No missing values\"\n",
    "\n",
    "***Hypothesis***\n",
    "\n",
    "- *As most of the outliers in the Age column are present beyond the age of 60, hence maybe most of the people belonging to that age group are over 100 kg*"
   ]
  },
  {
   "cell_type": "code",
   "execution_count": 11,
   "id": "83cb0500",
   "metadata": {
    "execution": {
     "iopub.execute_input": "2024-06-02T04:53:29.192894Z",
     "iopub.status.busy": "2024-06-02T04:53:29.192377Z",
     "iopub.status.idle": "2024-06-02T04:53:29.205877Z",
     "shell.execute_reply": "2024-06-02T04:53:29.204725Z"
    },
    "papermill": {
     "duration": 0.047354,
     "end_time": "2024-06-02T04:53:29.208079",
     "exception": false,
     "start_time": "2024-06-02T04:53:29.160725",
     "status": "completed"
    },
    "tags": []
   },
   "outputs": [
    {
     "data": {
      "text/plain": [
       "count    15000.000000\n",
       "mean        76.019604\n",
       "std         12.170759\n",
       "min         42.256390\n",
       "25%         68.323125\n",
       "50%         74.114225\n",
       "75%         81.309035\n",
       "max        141.612390\n",
       "Name: wtkg, dtype: float64"
      ]
     },
     "execution_count": 11,
     "metadata": {},
     "output_type": "execute_result"
    }
   ],
   "source": [
    "df['wtkg'].describe()"
   ]
  },
  {
   "cell_type": "code",
   "execution_count": 12,
   "id": "a4bd755f",
   "metadata": {
    "execution": {
     "iopub.execute_input": "2024-06-02T04:53:29.271020Z",
     "iopub.status.busy": "2024-06-02T04:53:29.270365Z",
     "iopub.status.idle": "2024-06-02T04:53:29.447871Z",
     "shell.execute_reply": "2024-06-02T04:53:29.446757Z"
    },
    "papermill": {
     "duration": 0.212672,
     "end_time": "2024-06-02T04:53:29.451077",
     "exception": false,
     "start_time": "2024-06-02T04:53:29.238405",
     "status": "completed"
    },
    "tags": []
   },
   "outputs": [
    {
     "data": {
      "image/svg+xml": [
       "<svg class=\"main-svg\" xmlns=\"http://www.w3.org/2000/svg\" xmlns:xlink=\"http://www.w3.org/1999/xlink\" width=\"1000\" height=\"500\" style=\"\" viewBox=\"0 0 1000 500\"><rect x=\"0\" y=\"0\" width=\"1000\" height=\"500\" style=\"fill: rgb(255, 255, 255); fill-opacity: 1;\"/><defs id=\"defs-32e4ed\"><g class=\"clips\"><clipPath id=\"clip32e4edxyplot\" class=\"plotclip\"><rect width=\"885\" height=\"367\"/></clipPath><clipPath class=\"axesclip\" id=\"clip32e4edx\"><rect x=\"65\" y=\"0\" width=\"885\" height=\"500\"/></clipPath><clipPath class=\"axesclip\" id=\"clip32e4edy\"><rect x=\"0\" y=\"80\" width=\"1000\" height=\"367\"/></clipPath><clipPath class=\"axesclip\" id=\"clip32e4edxy\"><rect x=\"65\" y=\"80\" width=\"885\" height=\"367\"/></clipPath></g><g class=\"gradients\"/><g class=\"patterns\"/></defs><g class=\"bglayer\"/><g class=\"layer-below\"><g class=\"imagelayer\"/><g class=\"shapelayer\"/></g><g class=\"cartesianlayer\"><g class=\"subplot xy\"><g class=\"layer-subplot\"><g class=\"shapelayer\"/><g class=\"imagelayer\"/></g><g class=\"minor-gridlayer\"><g class=\"x\"/><g class=\"y\"/></g><g class=\"gridlayer\"><g class=\"x\"/><g class=\"y\"><path class=\"ygrid crisp\" transform=\"translate(0,388.57)\" d=\"M65,0h885\" style=\"stroke: rgb(255, 255, 255); stroke-opacity: 1; stroke-width: 1px;\"/><path class=\"ygrid crisp\" transform=\"translate(0,330.14)\" d=\"M65,0h885\" style=\"stroke: rgb(255, 255, 255); stroke-opacity: 1; stroke-width: 1px;\"/><path class=\"ygrid crisp\" transform=\"translate(0,271.71000000000004)\" d=\"M65,0h885\" style=\"stroke: rgb(255, 255, 255); stroke-opacity: 1; stroke-width: 1px;\"/><path class=\"ygrid crisp\" transform=\"translate(0,213.28)\" d=\"M65,0h885\" style=\"stroke: rgb(255, 255, 255); stroke-opacity: 1; stroke-width: 1px;\"/><path class=\"ygrid crisp\" transform=\"translate(0,154.85)\" d=\"M65,0h885\" style=\"stroke: rgb(255, 255, 255); stroke-opacity: 1; stroke-width: 1px;\"/><path class=\"ygrid crisp\" transform=\"translate(0,96.42)\" d=\"M65,0h885\" style=\"stroke: rgb(255, 255, 255); stroke-opacity: 1; stroke-width: 1px;\"/></g></g><g class=\"zerolinelayer\"><path class=\"yzl zl crisp\" transform=\"translate(0,447)\" d=\"M65,0h885\" style=\"stroke: rgb(255, 255, 255); stroke-opacity: 1; stroke-width: 2px;\"/></g><path class=\"xlines-below\"/><path class=\"ylines-below\"/><g class=\"overlines-below\"/><g class=\"xaxislayer-below\"/><g class=\"yaxislayer-below\"/><g class=\"overaxes-below\"/><g class=\"plot\" transform=\"translate(65,80)\" clip-path=\"url(#clip32e4edxyplot)\"><g class=\"barlayer mlayer\"><g class=\"trace bars\" shape-rendering=\"crispEdges\" style=\"opacity: 1;\"><g class=\"points\"><g class=\"point\"><path d=\"M0,367V365.31H80.45V367Z\" style=\"vector-effect: none; opacity: 1; stroke-width: 0px; fill: rgb(214, 96, 77); fill-opacity: 1;\"/></g><g class=\"point\"><path d=\"M80.45,367V324H160.91V367Z\" style=\"vector-effect: none; opacity: 1; stroke-width: 0px; fill: rgb(214, 96, 77); fill-opacity: 1;\"/></g><g class=\"point\"><path d=\"M160.91,367V134.74H241.36V367Z\" style=\"vector-effect: none; opacity: 1; stroke-width: 0px; fill: rgb(214, 96, 77); fill-opacity: 1;\"/></g><g class=\"point\"><path d=\"M241.36,367V18.35H321.82V367Z\" style=\"vector-effect: none; opacity: 1; stroke-width: 0px; fill: rgb(214, 96, 77); fill-opacity: 1;\"/></g><g class=\"point\"><path d=\"M321.82,367V213.51H402.27V367Z\" style=\"vector-effect: none; opacity: 1; stroke-width: 0px; fill: rgb(214, 96, 77); fill-opacity: 1;\"/></g><g class=\"point\"><path d=\"M402.27,367V312.25H482.73V367Z\" style=\"vector-effect: none; opacity: 1; stroke-width: 0px; fill: rgb(214, 96, 77); fill-opacity: 1;\"/></g><g class=\"point\"><path d=\"M482.73,367V343.34H563.18V367Z\" style=\"vector-effect: none; opacity: 1; stroke-width: 0px; fill: rgb(214, 96, 77); fill-opacity: 1;\"/></g><g class=\"point\"><path d=\"M563.18,367V354.15H643.64V367Z\" style=\"vector-effect: none; opacity: 1; stroke-width: 0px; fill: rgb(214, 96, 77); fill-opacity: 1;\"/></g><g class=\"point\"><path d=\"M643.64,367V361.98H724.09V367Z\" style=\"vector-effect: none; opacity: 1; stroke-width: 0px; fill: rgb(214, 96, 77); fill-opacity: 1;\"/></g><g class=\"point\"><path d=\"M724.09,367V366.07H804.55V367Z\" style=\"vector-effect: none; opacity: 1; stroke-width: 0px; fill: rgb(214, 96, 77); fill-opacity: 1;\"/></g><g class=\"point\"><path d=\"M804.55,367V366.88H885V367Z\" style=\"vector-effect: none; opacity: 1; stroke-width: 0px; fill: rgb(214, 96, 77); fill-opacity: 1;\"/></g></g></g></g></g><g class=\"overplot\"/><path class=\"xlines-above crisp\" d=\"M0,0\" style=\"fill: none;\"/><path class=\"ylines-above crisp\" d=\"M0,0\" style=\"fill: none;\"/><g class=\"overlines-above\"/><g class=\"xaxislayer-above\"><g class=\"xtick\"><text text-anchor=\"middle\" x=\"0\" y=\"460\" transform=\"translate(65,0)\" style=\"font-family: 'Open Sans', verdana, arial, sans-serif; font-size: 12px; fill: rgb(42, 63, 95); fill-opacity: 1; white-space: pre; opacity: 1;\">40</text></g><g class=\"xtick\"><text text-anchor=\"middle\" x=\"0\" y=\"460\" style=\"font-family: 'Open Sans', verdana, arial, sans-serif; font-size: 12px; fill: rgb(42, 63, 95); fill-opacity: 1; white-space: pre; opacity: 1;\" transform=\"translate(225.91,0)\">60</text></g><g class=\"xtick\"><text text-anchor=\"middle\" x=\"0\" y=\"460\" style=\"font-family: 'Open Sans', verdana, arial, sans-serif; font-size: 12px; fill: rgb(42, 63, 95); fill-opacity: 1; white-space: pre; opacity: 1;\" transform=\"translate(386.82,0)\">80</text></g><g class=\"xtick\"><text text-anchor=\"middle\" x=\"0\" y=\"460\" style=\"font-family: 'Open Sans', verdana, arial, sans-serif; font-size: 12px; fill: rgb(42, 63, 95); fill-opacity: 1; white-space: pre; opacity: 1;\" transform=\"translate(547.73,0)\">100</text></g><g class=\"xtick\"><text text-anchor=\"middle\" x=\"0\" y=\"460\" style=\"font-family: 'Open Sans', verdana, arial, sans-serif; font-size: 12px; fill: rgb(42, 63, 95); fill-opacity: 1; white-space: pre; opacity: 1;\" transform=\"translate(708.64,0)\">120</text></g><g class=\"xtick\"><text text-anchor=\"middle\" x=\"0\" y=\"460\" style=\"font-family: 'Open Sans', verdana, arial, sans-serif; font-size: 12px; fill: rgb(42, 63, 95); fill-opacity: 1; white-space: pre; opacity: 1;\" transform=\"translate(869.55,0)\">140</text></g></g><g class=\"yaxislayer-above\"><g class=\"ytick\"><text text-anchor=\"end\" x=\"64\" y=\"4.199999999999999\" transform=\"translate(0,447)\" style=\"font-family: 'Open Sans', verdana, arial, sans-serif; font-size: 12px; fill: rgb(42, 63, 95); fill-opacity: 1; white-space: pre; opacity: 1;\">0</text></g><g class=\"ytick\"><text text-anchor=\"end\" x=\"64\" y=\"4.199999999999999\" style=\"font-family: 'Open Sans', verdana, arial, sans-serif; font-size: 12px; fill: rgb(42, 63, 95); fill-opacity: 1; white-space: pre; opacity: 1;\" transform=\"translate(0,388.57)\">1000</text></g><g class=\"ytick\"><text text-anchor=\"end\" x=\"64\" y=\"4.199999999999999\" style=\"font-family: 'Open Sans', verdana, arial, sans-serif; font-size: 12px; fill: rgb(42, 63, 95); fill-opacity: 1; white-space: pre; opacity: 1;\" transform=\"translate(0,330.14)\">2000</text></g><g class=\"ytick\"><text text-anchor=\"end\" x=\"64\" y=\"4.199999999999999\" style=\"font-family: 'Open Sans', verdana, arial, sans-serif; font-size: 12px; fill: rgb(42, 63, 95); fill-opacity: 1; white-space: pre; opacity: 1;\" transform=\"translate(0,271.71000000000004)\">3000</text></g><g class=\"ytick\"><text text-anchor=\"end\" x=\"64\" y=\"4.199999999999999\" style=\"font-family: 'Open Sans', verdana, arial, sans-serif; font-size: 12px; fill: rgb(42, 63, 95); fill-opacity: 1; white-space: pre; opacity: 1;\" transform=\"translate(0,213.28)\">4000</text></g><g class=\"ytick\"><text text-anchor=\"end\" x=\"64\" y=\"4.199999999999999\" style=\"font-family: 'Open Sans', verdana, arial, sans-serif; font-size: 12px; fill: rgb(42, 63, 95); fill-opacity: 1; white-space: pre; opacity: 1;\" transform=\"translate(0,154.85)\">5000</text></g><g class=\"ytick\"><text text-anchor=\"end\" x=\"64\" y=\"4.199999999999999\" style=\"font-family: 'Open Sans', verdana, arial, sans-serif; font-size: 12px; fill: rgb(42, 63, 95); fill-opacity: 1; white-space: pre; opacity: 1;\" transform=\"translate(0,96.42)\">6000</text></g></g><g class=\"overaxes-above\"/></g></g><g class=\"polarlayer\"/><g class=\"smithlayer\"/><g class=\"ternarylayer\"/><g class=\"geolayer\"/><g class=\"funnelarealayer\"/><g class=\"pielayer\"/><g class=\"iciclelayer\"/><g class=\"treemaplayer\"/><g class=\"sunburstlayer\"/><g class=\"glimages\"/><defs id=\"topdefs-32e4ed\"><g class=\"clips\"/></defs><g class=\"layer-above\"><g class=\"imagelayer\"/><g class=\"shapelayer\"/></g><g class=\"infolayer\"><g class=\"g-gtitle\"><text class=\"gtitle\" x=\"150\" y=\"25\" text-anchor=\"middle\" dy=\"0.7em\" style=\"font-family: 'Times New Roman'; font-size: 26px; fill: rgb(0, 0, 0); opacity: 1; font-weight: normal; white-space: pre;\">Weight Distribution</text></g><g class=\"g-xtitle\"><text class=\"xtitle\" x=\"507.5\" y=\"487.3\" text-anchor=\"middle\" style=\"font-family: 'Open Sans', verdana, arial, sans-serif; font-size: 14px; fill: rgb(42, 63, 95); opacity: 1; font-weight: normal; white-space: pre;\">Age</text></g><g class=\"g-ytitle\" transform=\"translate(0.0029296875,0)\"><text class=\"ytitle\" transform=\"rotate(-90,12.996875000000003,263.5)\" x=\"12.996875000000003\" y=\"263.5\" text-anchor=\"middle\" style=\"font-family: 'Open Sans', verdana, arial, sans-serif; font-size: 14px; fill: rgb(42, 63, 95); opacity: 1; font-weight: normal; white-space: pre;\">Frequency</text></g></g></svg>"
      ]
     },
     "metadata": {},
     "output_type": "display_data"
    }
   ],
   "source": [
    "palette = cl.to_rgb(cl.scales['10']['div']['RdGy'])\n",
    "\n",
    "# Create the histogram\n",
    "fig = go.Figure(data=[go.Histogram(\n",
    "    x=df['wtkg'],\n",
    "    marker=dict(color=palette[2]),  # Choose the first color from the palette\n",
    "    nbinsx=10\n",
    ")])\n",
    "\n",
    "# Update layout for better appearance\n",
    "fig.update_layout(\n",
    "    title_text=\"Weight Distribution\",\n",
    "    title_font_size=24,\n",
    "    title_font_family=\"Times New Roman\",\n",
    "    title_font_color=\"#000000\",  # Adjust title font color for better visibility\n",
    "    paper_bgcolor='#ffffff',  # Set the background color to a warm white shade (#faf0e6)\n",
    "    plot_bgcolor='#ffffff',  # Make sure the plot area also has a consistent background\n",
    "    xaxis=dict(title=\"Age\"),\n",
    "    yaxis=dict(title=\"Frequency\"),\n",
    ")\n",
    "\n",
    "# Adding a more vibrant title and better spacing\n",
    "fig.update_layout(\n",
    "    title={\n",
    "        'text': \"Weight Distribution\",\n",
    "        'y':0.95,\n",
    "        'x':0.15,\n",
    "        'xanchor': 'center',\n",
    "        'yanchor': 'top'},\n",
    "    title_font_size=26,\n",
    "    margin=dict(l=50, r=50, t=80, b=50)\n",
    ")\n",
    "\n",
    "fig.update_layout(width=1000)\n",
    "\n",
    "# Show the pie chart\n",
    "fig.show('svg')"
   ]
  },
  {
   "cell_type": "markdown",
   "id": "7145e301",
   "metadata": {
    "papermill": {
     "duration": 0.03371,
     "end_time": "2024-06-02T04:53:29.516264",
     "exception": false,
     "start_time": "2024-06-02T04:53:29.482554",
     "status": "completed"
    },
    "tags": []
   },
   "source": [
    "*Almost normally distributed. Slightly positively skewed*"
   ]
  },
  {
   "cell_type": "code",
   "execution_count": 13,
   "id": "c8553820",
   "metadata": {
    "execution": {
     "iopub.execute_input": "2024-06-02T04:53:29.578988Z",
     "iopub.status.busy": "2024-06-02T04:53:29.578592Z",
     "iopub.status.idle": "2024-06-02T04:53:29.585808Z",
     "shell.execute_reply": "2024-06-02T04:53:29.584658Z"
    },
    "papermill": {
     "duration": 0.041621,
     "end_time": "2024-06-02T04:53:29.588066",
     "exception": false,
     "start_time": "2024-06-02T04:53:29.546445",
     "status": "completed"
    },
    "tags": []
   },
   "outputs": [
    {
     "data": {
      "text/plain": [
       "1.1910895370485162"
      ]
     },
     "execution_count": 13,
     "metadata": {},
     "output_type": "execute_result"
    }
   ],
   "source": [
    "df['wtkg'].skew()"
   ]
  },
  {
   "cell_type": "markdown",
   "id": "2116b9fd",
   "metadata": {
    "papermill": {
     "duration": 0.0303,
     "end_time": "2024-06-02T04:53:29.650425",
     "exception": false,
     "start_time": "2024-06-02T04:53:29.620125",
     "status": "completed"
    },
    "tags": []
   },
   "source": [
    "*Close to 1*"
   ]
  },
  {
   "cell_type": "code",
   "execution_count": 14,
   "id": "b4aae886",
   "metadata": {
    "execution": {
     "iopub.execute_input": "2024-06-02T04:53:29.722473Z",
     "iopub.status.busy": "2024-06-02T04:53:29.721855Z",
     "iopub.status.idle": "2024-06-02T04:53:30.025754Z",
     "shell.execute_reply": "2024-06-02T04:53:30.024639Z"
    },
    "papermill": {
     "duration": 0.348414,
     "end_time": "2024-06-02T04:53:30.029243",
     "exception": false,
     "start_time": "2024-06-02T04:53:29.680829",
     "status": "completed"
    },
    "tags": []
   },
   "outputs": [
    {
     "data": {
      "image/svg+xml": [
       "<svg class=\"main-svg\" xmlns=\"http://www.w3.org/2000/svg\" xmlns:xlink=\"http://www.w3.org/1999/xlink\" width=\"1000\" height=\"500\" style=\"\" viewBox=\"0 0 1000 500\"><rect x=\"0\" y=\"0\" width=\"1000\" height=\"500\" style=\"fill: rgb(255, 255, 255); fill-opacity: 1;\"/><defs id=\"defs-b49356\"><g class=\"clips\"><clipPath id=\"clipb49356xyplot\" class=\"plotclip\"><rect width=\"900\" height=\"367\"/></clipPath><clipPath class=\"axesclip\" id=\"clipb49356x\"><rect x=\"50\" y=\"0\" width=\"900\" height=\"500\"/></clipPath><clipPath class=\"axesclip\" id=\"clipb49356y\"><rect x=\"0\" y=\"80\" width=\"1000\" height=\"367\"/></clipPath><clipPath class=\"axesclip\" id=\"clipb49356xy\"><rect x=\"50\" y=\"80\" width=\"900\" height=\"367\"/></clipPath></g><g class=\"gradients\"/><g class=\"patterns\"/></defs><g class=\"bglayer\"/><g class=\"layer-below\"><g class=\"imagelayer\"/><g class=\"shapelayer\"/></g><g class=\"cartesianlayer\"><g class=\"subplot xy\"><g class=\"layer-subplot\"><g class=\"shapelayer\"/><g class=\"imagelayer\"/></g><g class=\"minor-gridlayer\"><g class=\"x\"/><g class=\"y\"/></g><g class=\"gridlayer\"><g class=\"x\"><path class=\"xgrid crisp\" transform=\"translate(76.6,0)\" d=\"M0,80v367\" style=\"stroke: rgb(255, 255, 255); stroke-opacity: 1; stroke-width: 1px;\"/><path class=\"xgrid crisp\" transform=\"translate(239.65,0)\" d=\"M0,80v367\" style=\"stroke: rgb(255, 255, 255); stroke-opacity: 1; stroke-width: 1px;\"/><path class=\"xgrid crisp\" transform=\"translate(402.7,0)\" d=\"M0,80v367\" style=\"stroke: rgb(255, 255, 255); stroke-opacity: 1; stroke-width: 1px;\"/><path class=\"xgrid crisp\" transform=\"translate(565.75,0)\" d=\"M0,80v367\" style=\"stroke: rgb(255, 255, 255); stroke-opacity: 1; stroke-width: 1px;\"/><path class=\"xgrid crisp\" transform=\"translate(728.8,0)\" d=\"M0,80v367\" style=\"stroke: rgb(255, 255, 255); stroke-opacity: 1; stroke-width: 1px;\"/><path class=\"xgrid crisp\" transform=\"translate(891.85,0)\" d=\"M0,80v367\" style=\"stroke: rgb(255, 255, 255); stroke-opacity: 1; stroke-width: 1px;\"/></g><g class=\"y\"/></g><g class=\"zerolinelayer\"/><path class=\"xlines-below\"/><path class=\"ylines-below\"/><g class=\"overlines-below\"/><g class=\"xaxislayer-below\"/><g class=\"yaxislayer-below\"/><g class=\"overaxes-below\"/><g class=\"plot\" transform=\"translate(50,80)\" clip-path=\"url(#clipb49356xyplot)\"><g class=\"boxlayer mlayer\"><g class=\"trace boxes\" style=\"opacity: 1;\"><path class=\"box\" d=\"M304.72,273.41V93.59M257.5,273.41V93.59H363.38V273.41ZM257.5,183.5H98.71M363.38,183.5H522.18M98.71,228.46V138.54M522.18,228.46V138.54\" style=\"vector-effect: none; stroke-width: 2px; stroke: rgb(178, 24, 43); stroke-opacity: 1; fill: rgb(178, 24, 43); fill-opacity: 0.5;\"/><g class=\"points\"><path class=\"point\" transform=\"translate(45,183.5)\" d=\"M3,0A3,3 0 1,1 0,-3A3,3 0 0,1 3,0Z\" style=\"opacity: 1; stroke-width: 0px; fill: rgb(178, 24, 43); fill-opacity: 1;\"/><path class=\"point\" transform=\"translate(47.13,183.5)\" d=\"M3,0A3,3 0 1,1 0,-3A3,3 0 0,1 3,0Z\" style=\"opacity: 1; stroke-width: 0px; fill: rgb(178, 24, 43); fill-opacity: 1;\"/><path class=\"point\" transform=\"translate(58.94,183.5)\" d=\"M3,0A3,3 0 1,1 0,-3A3,3 0 0,1 3,0Z\" style=\"opacity: 1; stroke-width: 0px; fill: rgb(178, 24, 43); fill-opacity: 1;\"/><path class=\"point\" transform=\"translate(62.28,183.5)\" d=\"M3,0A3,3 0 1,1 0,-3A3,3 0 0,1 3,0Z\" style=\"opacity: 1; stroke-width: 0px; fill: rgb(178, 24, 43); fill-opacity: 1;\"/><path class=\"point\" transform=\"translate(63.74,183.5)\" d=\"M3,0A3,3 0 1,1 0,-3A3,3 0 0,1 3,0Z\" style=\"opacity: 1; stroke-width: 0px; fill: rgb(178, 24, 43); fill-opacity: 1;\"/><path class=\"point\" transform=\"translate(68.37,183.5)\" d=\"M3,0A3,3 0 1,1 0,-3A3,3 0 0,1 3,0Z\" style=\"opacity: 1; stroke-width: 0px; fill: rgb(178, 24, 43); fill-opacity: 1;\"/><path class=\"point\" transform=\"translate(76.27,183.5)\" d=\"M3,0A3,3 0 1,1 0,-3A3,3 0 0,1 3,0Z\" style=\"opacity: 1; stroke-width: 0px; fill: rgb(178, 24, 43); fill-opacity: 1;\"/><path class=\"point\" transform=\"translate(79.24,183.5)\" d=\"M3,0A3,3 0 1,1 0,-3A3,3 0 0,1 3,0Z\" style=\"opacity: 1; stroke-width: 0px; fill: rgb(178, 24, 43); fill-opacity: 1;\"/><path class=\"point\" transform=\"translate(82.56,183.5)\" d=\"M3,0A3,3 0 1,1 0,-3A3,3 0 0,1 3,0Z\" style=\"opacity: 1; stroke-width: 0px; fill: rgb(178, 24, 43); fill-opacity: 1;\"/><path class=\"point\" transform=\"translate(86.66,183.5)\" d=\"M3,0A3,3 0 1,1 0,-3A3,3 0 0,1 3,0Z\" style=\"opacity: 1; stroke-width: 0px; fill: rgb(178, 24, 43); fill-opacity: 1;\"/><path class=\"point\" transform=\"translate(87.32,183.5)\" d=\"M3,0A3,3 0 1,1 0,-3A3,3 0 0,1 3,0Z\" style=\"opacity: 1; stroke-width: 0px; fill: rgb(178, 24, 43); fill-opacity: 1;\"/><path class=\"point\" transform=\"translate(90,183.5)\" d=\"M3,0A3,3 0 1,1 0,-3A3,3 0 0,1 3,0Z\" style=\"opacity: 1; stroke-width: 0px; fill: rgb(178, 24, 43); fill-opacity: 1;\"/><path class=\"point\" transform=\"translate(91,183.5)\" d=\"M3,0A3,3 0 1,1 0,-3A3,3 0 0,1 3,0Z\" style=\"opacity: 1; stroke-width: 0px; fill: rgb(178, 24, 43); fill-opacity: 1;\"/><path class=\"point\" transform=\"translate(93.41,183.5)\" d=\"M3,0A3,3 0 1,1 0,-3A3,3 0 0,1 3,0Z\" style=\"opacity: 1; stroke-width: 0px; fill: rgb(178, 24, 43); fill-opacity: 1;\"/><path class=\"point\" transform=\"translate(97.33,183.5)\" d=\"M3,0A3,3 0 1,1 0,-3A3,3 0 0,1 3,0Z\" style=\"opacity: 1; stroke-width: 0px; fill: rgb(178, 24, 43); fill-opacity: 1;\"/><path class=\"point\" transform=\"translate(98.12,183.5)\" d=\"M3,0A3,3 0 1,1 0,-3A3,3 0 0,1 3,0Z\" style=\"opacity: 1; stroke-width: 0px; fill: rgb(178, 24, 43); fill-opacity: 1;\"/><path class=\"point\" transform=\"translate(98.31,183.5)\" d=\"M3,0A3,3 0 1,1 0,-3A3,3 0 0,1 3,0Z\" style=\"opacity: 1; stroke-width: 0px; fill: rgb(178, 24, 43); fill-opacity: 1;\"/><path class=\"point\" transform=\"translate(98.5,183.5)\" d=\"M3,0A3,3 0 1,1 0,-3A3,3 0 0,1 3,0Z\" style=\"opacity: 1; stroke-width: 0px; fill: rgb(178, 24, 43); fill-opacity: 1;\"/><path class=\"point\" transform=\"translate(522.3,183.5)\" d=\"M3,0A3,3 0 1,1 0,-3A3,3 0 0,1 3,0Z\" style=\"opacity: 1; stroke-width: 0px; fill: rgb(178, 24, 43); fill-opacity: 1;\"/><path class=\"point\" transform=\"translate(522.34,183.5)\" d=\"M3,0A3,3 0 1,1 0,-3A3,3 0 0,1 3,0Z\" style=\"opacity: 1; stroke-width: 0px; fill: rgb(178, 24, 43); fill-opacity: 1;\"/><path class=\"point\" transform=\"translate(522.57,183.5)\" d=\"M3,0A3,3 0 1,1 0,-3A3,3 0 0,1 3,0Z\" style=\"opacity: 1; stroke-width: 0px; fill: rgb(178, 24, 43); fill-opacity: 1;\"/><path class=\"point\" transform=\"translate(522.82,183.5)\" d=\"M3,0A3,3 0 1,1 0,-3A3,3 0 0,1 3,0Z\" style=\"opacity: 1; stroke-width: 0px; fill: rgb(178, 24, 43); fill-opacity: 1;\"/><path class=\"point\" transform=\"translate(522.87,183.5)\" d=\"M3,0A3,3 0 1,1 0,-3A3,3 0 0,1 3,0Z\" style=\"opacity: 1; stroke-width: 0px; fill: rgb(178, 24, 43); fill-opacity: 1;\"/><path class=\"point\" transform=\"translate(522.9,183.5)\" d=\"M3,0A3,3 0 1,1 0,-3A3,3 0 0,1 3,0Z\" style=\"opacity: 1; stroke-width: 0px; fill: rgb(178, 24, 43); fill-opacity: 1;\"/><path class=\"point\" transform=\"translate(522.99,183.5)\" d=\"M3,0A3,3 0 1,1 0,-3A3,3 0 0,1 3,0Z\" style=\"opacity: 1; stroke-width: 0px; fill: rgb(178, 24, 43); fill-opacity: 1;\"/><path class=\"point\" transform=\"translate(523.33,183.5)\" d=\"M3,0A3,3 0 1,1 0,-3A3,3 0 0,1 3,0Z\" style=\"opacity: 1; stroke-width: 0px; fill: rgb(178, 24, 43); fill-opacity: 1;\"/><path class=\"point\" transform=\"translate(523.65,183.5)\" d=\"M3,0A3,3 0 1,1 0,-3A3,3 0 0,1 3,0Z\" style=\"opacity: 1; stroke-width: 0px; fill: rgb(178, 24, 43); fill-opacity: 1;\"/><path class=\"point\" transform=\"translate(524.35,183.5)\" d=\"M3,0A3,3 0 1,1 0,-3A3,3 0 0,1 3,0Z\" style=\"opacity: 1; stroke-width: 0px; fill: rgb(178, 24, 43); fill-opacity: 1;\"/><path class=\"point\" transform=\"translate(524.65,183.5)\" d=\"M3,0A3,3 0 1,1 0,-3A3,3 0 0,1 3,0Z\" style=\"opacity: 1; stroke-width: 0px; fill: rgb(178, 24, 43); fill-opacity: 1;\"/><path class=\"point\" transform=\"translate(524.78,183.5)\" d=\"M3,0A3,3 0 1,1 0,-3A3,3 0 0,1 3,0Z\" style=\"opacity: 1; stroke-width: 0px; fill: rgb(178, 24, 43); fill-opacity: 1;\"/><path class=\"point\" transform=\"translate(525.28,183.5)\" d=\"M3,0A3,3 0 1,1 0,-3A3,3 0 0,1 3,0Z\" style=\"opacity: 1; stroke-width: 0px; fill: rgb(178, 24, 43); fill-opacity: 1;\"/><path class=\"point\" transform=\"translate(525.31,183.5)\" d=\"M3,0A3,3 0 1,1 0,-3A3,3 0 0,1 3,0Z\" style=\"opacity: 1; stroke-width: 0px; fill: rgb(178, 24, 43); fill-opacity: 1;\"/><path class=\"point\" transform=\"translate(525.6,183.5)\" d=\"M3,0A3,3 0 1,1 0,-3A3,3 0 0,1 3,0Z\" style=\"opacity: 1; stroke-width: 0px; fill: rgb(178, 24, 43); fill-opacity: 1;\"/><path class=\"point\" transform=\"translate(525.68,183.5)\" d=\"M3,0A3,3 0 1,1 0,-3A3,3 0 0,1 3,0Z\" style=\"opacity: 1; stroke-width: 0px; fill: rgb(178, 24, 43); fill-opacity: 1;\"/><path class=\"point\" transform=\"translate(526.41,183.5)\" d=\"M3,0A3,3 0 1,1 0,-3A3,3 0 0,1 3,0Z\" style=\"opacity: 1; stroke-width: 0px; fill: rgb(178, 24, 43); fill-opacity: 1;\"/><path class=\"point\" transform=\"translate(526.49,183.5)\" d=\"M3,0A3,3 0 1,1 0,-3A3,3 0 0,1 3,0Z\" style=\"opacity: 1; stroke-width: 0px; fill: rgb(178, 24, 43); fill-opacity: 1;\"/><path class=\"point\" transform=\"translate(526.83,183.5)\" d=\"M3,0A3,3 0 1,1 0,-3A3,3 0 0,1 3,0Z\" style=\"opacity: 1; stroke-width: 0px; fill: rgb(178, 24, 43); fill-opacity: 1;\"/><path class=\"point\" transform=\"translate(526.89,183.5)\" d=\"M3,0A3,3 0 1,1 0,-3A3,3 0 0,1 3,0Z\" style=\"opacity: 1; stroke-width: 0px; fill: rgb(178, 24, 43); fill-opacity: 1;\"/><path class=\"point\" transform=\"translate(526.92,183.5)\" d=\"M3,0A3,3 0 1,1 0,-3A3,3 0 0,1 3,0Z\" style=\"opacity: 1; stroke-width: 0px; fill: rgb(178, 24, 43); fill-opacity: 1;\"/><path class=\"point\" transform=\"translate(527.04,183.5)\" d=\"M3,0A3,3 0 1,1 0,-3A3,3 0 0,1 3,0Z\" style=\"opacity: 1; stroke-width: 0px; fill: rgb(178, 24, 43); fill-opacity: 1;\"/><path class=\"point\" transform=\"translate(527.05,183.5)\" d=\"M3,0A3,3 0 1,1 0,-3A3,3 0 0,1 3,0Z\" style=\"opacity: 1; stroke-width: 0px; fill: rgb(178, 24, 43); fill-opacity: 1;\"/><path class=\"point\" transform=\"translate(527.22,183.5)\" d=\"M3,0A3,3 0 1,1 0,-3A3,3 0 0,1 3,0Z\" style=\"opacity: 1; stroke-width: 0px; fill: rgb(178, 24, 43); fill-opacity: 1;\"/><path class=\"point\" transform=\"translate(527.41,183.5)\" d=\"M3,0A3,3 0 1,1 0,-3A3,3 0 0,1 3,0Z\" style=\"opacity: 1; stroke-width: 0px; fill: rgb(178, 24, 43); fill-opacity: 1;\"/><path class=\"point\" transform=\"translate(527.43,183.5)\" d=\"M3,0A3,3 0 1,1 0,-3A3,3 0 0,1 3,0Z\" style=\"opacity: 1; stroke-width: 0px; fill: rgb(178, 24, 43); fill-opacity: 1;\"/><path class=\"point\" transform=\"translate(527.53,183.5)\" d=\"M3,0A3,3 0 1,1 0,-3A3,3 0 0,1 3,0Z\" style=\"opacity: 1; stroke-width: 0px; fill: rgb(178, 24, 43); fill-opacity: 1;\"/><path class=\"point\" transform=\"translate(527.55,183.5)\" d=\"M3,0A3,3 0 1,1 0,-3A3,3 0 0,1 3,0Z\" style=\"opacity: 1; stroke-width: 0px; fill: rgb(178, 24, 43); fill-opacity: 1;\"/><path class=\"point\" transform=\"translate(527.57,183.5)\" d=\"M3,0A3,3 0 1,1 0,-3A3,3 0 0,1 3,0Z\" style=\"opacity: 1; stroke-width: 0px; fill: rgb(178, 24, 43); fill-opacity: 1;\"/><path class=\"point\" transform=\"translate(527.88,183.5)\" d=\"M3,0A3,3 0 1,1 0,-3A3,3 0 0,1 3,0Z\" style=\"opacity: 1; stroke-width: 0px; fill: rgb(178, 24, 43); fill-opacity: 1;\"/><path class=\"point\" transform=\"translate(527.93,183.5)\" d=\"M3,0A3,3 0 1,1 0,-3A3,3 0 0,1 3,0Z\" style=\"opacity: 1; stroke-width: 0px; fill: rgb(178, 24, 43); fill-opacity: 1;\"/><path class=\"point\" transform=\"translate(528.06,183.5)\" d=\"M3,0A3,3 0 1,1 0,-3A3,3 0 0,1 3,0Z\" style=\"opacity: 1; stroke-width: 0px; fill: rgb(178, 24, 43); fill-opacity: 1;\"/><path class=\"point\" transform=\"translate(528.15,183.5)\" d=\"M3,0A3,3 0 1,1 0,-3A3,3 0 0,1 3,0Z\" style=\"opacity: 1; stroke-width: 0px; fill: rgb(178, 24, 43); fill-opacity: 1;\"/><path class=\"point\" transform=\"translate(528.52,183.5)\" d=\"M3,0A3,3 0 1,1 0,-3A3,3 0 0,1 3,0Z\" style=\"opacity: 1; stroke-width: 0px; fill: rgb(178, 24, 43); fill-opacity: 1;\"/><path class=\"point\" transform=\"translate(528.63,183.5)\" d=\"M3,0A3,3 0 1,1 0,-3A3,3 0 0,1 3,0Z\" style=\"opacity: 1; stroke-width: 0px; fill: rgb(178, 24, 43); fill-opacity: 1;\"/><path class=\"point\" transform=\"translate(529.08,183.5)\" d=\"M3,0A3,3 0 1,1 0,-3A3,3 0 0,1 3,0Z\" style=\"opacity: 1; stroke-width: 0px; fill: rgb(178, 24, 43); fill-opacity: 1;\"/><path class=\"point\" transform=\"translate(529.24,183.5)\" d=\"M3,0A3,3 0 1,1 0,-3A3,3 0 0,1 3,0Z\" style=\"opacity: 1; stroke-width: 0px; fill: rgb(178, 24, 43); fill-opacity: 1;\"/><path class=\"point\" transform=\"translate(529.58,183.5)\" d=\"M3,0A3,3 0 1,1 0,-3A3,3 0 0,1 3,0Z\" style=\"opacity: 1; stroke-width: 0px; fill: rgb(178, 24, 43); fill-opacity: 1;\"/><path class=\"point\" transform=\"translate(529.7,183.5)\" d=\"M3,0A3,3 0 1,1 0,-3A3,3 0 0,1 3,0Z\" style=\"opacity: 1; stroke-width: 0px; fill: rgb(178, 24, 43); fill-opacity: 1;\"/><path class=\"point\" transform=\"translate(530.12,183.5)\" d=\"M3,0A3,3 0 1,1 0,-3A3,3 0 0,1 3,0Z\" style=\"opacity: 1; stroke-width: 0px; fill: rgb(178, 24, 43); fill-opacity: 1;\"/><path class=\"point\" transform=\"translate(530.14,183.5)\" d=\"M3,0A3,3 0 1,1 0,-3A3,3 0 0,1 3,0Z\" style=\"opacity: 1; stroke-width: 0px; fill: rgb(178, 24, 43); fill-opacity: 1;\"/><path class=\"point\" transform=\"translate(530.46,183.5)\" d=\"M3,0A3,3 0 1,1 0,-3A3,3 0 0,1 3,0Z\" style=\"opacity: 1; stroke-width: 0px; fill: rgb(178, 24, 43); fill-opacity: 1;\"/><path class=\"point\" transform=\"translate(530.54,183.5)\" d=\"M3,0A3,3 0 1,1 0,-3A3,3 0 0,1 3,0Z\" style=\"opacity: 1; stroke-width: 0px; fill: rgb(178, 24, 43); fill-opacity: 1;\"/><path class=\"point\" transform=\"translate(530.63,183.5)\" d=\"M3,0A3,3 0 1,1 0,-3A3,3 0 0,1 3,0Z\" style=\"opacity: 1; stroke-width: 0px; fill: rgb(178, 24, 43); fill-opacity: 1;\"/><path class=\"point\" transform=\"translate(530.81,183.5)\" d=\"M3,0A3,3 0 1,1 0,-3A3,3 0 0,1 3,0Z\" style=\"opacity: 1; stroke-width: 0px; fill: rgb(178, 24, 43); fill-opacity: 1;\"/><path class=\"point\" transform=\"translate(530.84,183.5)\" d=\"M3,0A3,3 0 1,1 0,-3A3,3 0 0,1 3,0Z\" style=\"opacity: 1; stroke-width: 0px; fill: rgb(178, 24, 43); fill-opacity: 1;\"/><path class=\"point\" transform=\"translate(530.95,183.5)\" d=\"M3,0A3,3 0 1,1 0,-3A3,3 0 0,1 3,0Z\" style=\"opacity: 1; stroke-width: 0px; fill: rgb(178, 24, 43); fill-opacity: 1;\"/><path class=\"point\" transform=\"translate(531,183.5)\" d=\"M3,0A3,3 0 1,1 0,-3A3,3 0 0,1 3,0Z\" style=\"opacity: 1; stroke-width: 0px; fill: rgb(178, 24, 43); fill-opacity: 1;\"/><path class=\"point\" transform=\"translate(531.63,183.5)\" d=\"M3,0A3,3 0 1,1 0,-3A3,3 0 0,1 3,0Z\" style=\"opacity: 1; stroke-width: 0px; fill: rgb(178, 24, 43); fill-opacity: 1;\"/><path class=\"point\" transform=\"translate(531.73,183.5)\" d=\"M3,0A3,3 0 1,1 0,-3A3,3 0 0,1 3,0Z\" style=\"opacity: 1; stroke-width: 0px; fill: rgb(178, 24, 43); fill-opacity: 1;\"/><path class=\"point\" transform=\"translate(531.73,183.5)\" d=\"M3,0A3,3 0 1,1 0,-3A3,3 0 0,1 3,0Z\" style=\"opacity: 1; stroke-width: 0px; fill: rgb(178, 24, 43); fill-opacity: 1;\"/><path class=\"point\" transform=\"translate(531.96,183.5)\" d=\"M3,0A3,3 0 1,1 0,-3A3,3 0 0,1 3,0Z\" style=\"opacity: 1; stroke-width: 0px; fill: rgb(178, 24, 43); fill-opacity: 1;\"/><path class=\"point\" transform=\"translate(531.98,183.5)\" d=\"M3,0A3,3 0 1,1 0,-3A3,3 0 0,1 3,0Z\" style=\"opacity: 1; stroke-width: 0px; fill: rgb(178, 24, 43); fill-opacity: 1;\"/><path class=\"point\" transform=\"translate(532.3,183.5)\" d=\"M3,0A3,3 0 1,1 0,-3A3,3 0 0,1 3,0Z\" style=\"opacity: 1; stroke-width: 0px; fill: rgb(178, 24, 43); fill-opacity: 1;\"/><path class=\"point\" transform=\"translate(532.34,183.5)\" d=\"M3,0A3,3 0 1,1 0,-3A3,3 0 0,1 3,0Z\" style=\"opacity: 1; stroke-width: 0px; fill: rgb(178, 24, 43); fill-opacity: 1;\"/><path class=\"point\" transform=\"translate(532.79,183.5)\" d=\"M3,0A3,3 0 1,1 0,-3A3,3 0 0,1 3,0Z\" style=\"opacity: 1; stroke-width: 0px; fill: rgb(178, 24, 43); fill-opacity: 1;\"/><path class=\"point\" transform=\"translate(532.83,183.5)\" d=\"M3,0A3,3 0 1,1 0,-3A3,3 0 0,1 3,0Z\" style=\"opacity: 1; stroke-width: 0px; fill: rgb(178, 24, 43); fill-opacity: 1;\"/><path class=\"point\" transform=\"translate(532.85,183.5)\" d=\"M3,0A3,3 0 1,1 0,-3A3,3 0 0,1 3,0Z\" style=\"opacity: 1; stroke-width: 0px; fill: rgb(178, 24, 43); fill-opacity: 1;\"/><path class=\"point\" transform=\"translate(533.08,183.5)\" d=\"M3,0A3,3 0 1,1 0,-3A3,3 0 0,1 3,0Z\" style=\"opacity: 1; stroke-width: 0px; fill: rgb(178, 24, 43); fill-opacity: 1;\"/><path class=\"point\" transform=\"translate(533.23,183.5)\" d=\"M3,0A3,3 0 1,1 0,-3A3,3 0 0,1 3,0Z\" style=\"opacity: 1; stroke-width: 0px; fill: rgb(178, 24, 43); fill-opacity: 1;\"/><path class=\"point\" transform=\"translate(533.41,183.5)\" d=\"M3,0A3,3 0 1,1 0,-3A3,3 0 0,1 3,0Z\" style=\"opacity: 1; stroke-width: 0px; fill: rgb(178, 24, 43); fill-opacity: 1;\"/><path class=\"point\" transform=\"translate(533.42,183.5)\" d=\"M3,0A3,3 0 1,1 0,-3A3,3 0 0,1 3,0Z\" style=\"opacity: 1; stroke-width: 0px; fill: rgb(178, 24, 43); fill-opacity: 1;\"/><path class=\"point\" transform=\"translate(533.67,183.5)\" d=\"M3,0A3,3 0 1,1 0,-3A3,3 0 0,1 3,0Z\" style=\"opacity: 1; stroke-width: 0px; fill: rgb(178, 24, 43); fill-opacity: 1;\"/><path class=\"point\" transform=\"translate(533.7,183.5)\" d=\"M3,0A3,3 0 1,1 0,-3A3,3 0 0,1 3,0Z\" style=\"opacity: 1; stroke-width: 0px; fill: rgb(178, 24, 43); fill-opacity: 1;\"/><path class=\"point\" transform=\"translate(533.75,183.5)\" d=\"M3,0A3,3 0 1,1 0,-3A3,3 0 0,1 3,0Z\" style=\"opacity: 1; stroke-width: 0px; fill: rgb(178, 24, 43); fill-opacity: 1;\"/><path class=\"point\" transform=\"translate(533.95,183.5)\" d=\"M3,0A3,3 0 1,1 0,-3A3,3 0 0,1 3,0Z\" style=\"opacity: 1; stroke-width: 0px; fill: rgb(178, 24, 43); fill-opacity: 1;\"/><path class=\"point\" transform=\"translate(534.24,183.5)\" d=\"M3,0A3,3 0 1,1 0,-3A3,3 0 0,1 3,0Z\" style=\"opacity: 1; stroke-width: 0px; fill: rgb(178, 24, 43); fill-opacity: 1;\"/><path class=\"point\" transform=\"translate(535.03,183.5)\" d=\"M3,0A3,3 0 1,1 0,-3A3,3 0 0,1 3,0Z\" style=\"opacity: 1; stroke-width: 0px; fill: rgb(178, 24, 43); fill-opacity: 1;\"/><path class=\"point\" transform=\"translate(535.41,183.5)\" d=\"M3,0A3,3 0 1,1 0,-3A3,3 0 0,1 3,0Z\" style=\"opacity: 1; stroke-width: 0px; fill: rgb(178, 24, 43); fill-opacity: 1;\"/><path class=\"point\" transform=\"translate(535.56,183.5)\" d=\"M3,0A3,3 0 1,1 0,-3A3,3 0 0,1 3,0Z\" style=\"opacity: 1; stroke-width: 0px; fill: rgb(178, 24, 43); fill-opacity: 1;\"/><path class=\"point\" transform=\"translate(535.84,183.5)\" d=\"M3,0A3,3 0 1,1 0,-3A3,3 0 0,1 3,0Z\" style=\"opacity: 1; stroke-width: 0px; fill: rgb(178, 24, 43); fill-opacity: 1;\"/><path class=\"point\" transform=\"translate(535.85,183.5)\" d=\"M3,0A3,3 0 1,1 0,-3A3,3 0 0,1 3,0Z\" style=\"opacity: 1; stroke-width: 0px; fill: rgb(178, 24, 43); fill-opacity: 1;\"/><path class=\"point\" transform=\"translate(535.87,183.5)\" d=\"M3,0A3,3 0 1,1 0,-3A3,3 0 0,1 3,0Z\" style=\"opacity: 1; stroke-width: 0px; fill: rgb(178, 24, 43); fill-opacity: 1;\"/><path class=\"point\" transform=\"translate(536.06,183.5)\" d=\"M3,0A3,3 0 1,1 0,-3A3,3 0 0,1 3,0Z\" style=\"opacity: 1; stroke-width: 0px; fill: rgb(178, 24, 43); fill-opacity: 1;\"/><path class=\"point\" transform=\"translate(536.38,183.5)\" d=\"M3,0A3,3 0 1,1 0,-3A3,3 0 0,1 3,0Z\" style=\"opacity: 1; stroke-width: 0px; fill: rgb(178, 24, 43); fill-opacity: 1;\"/><path class=\"point\" transform=\"translate(536.71,183.5)\" d=\"M3,0A3,3 0 1,1 0,-3A3,3 0 0,1 3,0Z\" style=\"opacity: 1; stroke-width: 0px; fill: rgb(178, 24, 43); fill-opacity: 1;\"/><path class=\"point\" transform=\"translate(536.8,183.5)\" d=\"M3,0A3,3 0 1,1 0,-3A3,3 0 0,1 3,0Z\" style=\"opacity: 1; stroke-width: 0px; fill: rgb(178, 24, 43); fill-opacity: 1;\"/><path class=\"point\" transform=\"translate(536.87,183.5)\" d=\"M3,0A3,3 0 1,1 0,-3A3,3 0 0,1 3,0Z\" style=\"opacity: 1; stroke-width: 0px; fill: rgb(178, 24, 43); fill-opacity: 1;\"/><path class=\"point\" transform=\"translate(537.2,183.5)\" d=\"M3,0A3,3 0 1,1 0,-3A3,3 0 0,1 3,0Z\" style=\"opacity: 1; stroke-width: 0px; fill: rgb(178, 24, 43); fill-opacity: 1;\"/><path class=\"point\" transform=\"translate(537.22,183.5)\" d=\"M3,0A3,3 0 1,1 0,-3A3,3 0 0,1 3,0Z\" style=\"opacity: 1; stroke-width: 0px; fill: rgb(178, 24, 43); fill-opacity: 1;\"/><path class=\"point\" transform=\"translate(537.46,183.5)\" d=\"M3,0A3,3 0 1,1 0,-3A3,3 0 0,1 3,0Z\" style=\"opacity: 1; stroke-width: 0px; fill: rgb(178, 24, 43); fill-opacity: 1;\"/><path class=\"point\" transform=\"translate(537.73,183.5)\" d=\"M3,0A3,3 0 1,1 0,-3A3,3 0 0,1 3,0Z\" style=\"opacity: 1; stroke-width: 0px; fill: rgb(178, 24, 43); fill-opacity: 1;\"/><path class=\"point\" transform=\"translate(537.92,183.5)\" d=\"M3,0A3,3 0 1,1 0,-3A3,3 0 0,1 3,0Z\" style=\"opacity: 1; stroke-width: 0px; fill: rgb(178, 24, 43); fill-opacity: 1;\"/><path class=\"point\" transform=\"translate(538.17,183.5)\" d=\"M3,0A3,3 0 1,1 0,-3A3,3 0 0,1 3,0Z\" style=\"opacity: 1; stroke-width: 0px; fill: rgb(178, 24, 43); fill-opacity: 1;\"/><path class=\"point\" transform=\"translate(538.64,183.5)\" d=\"M3,0A3,3 0 1,1 0,-3A3,3 0 0,1 3,0Z\" style=\"opacity: 1; stroke-width: 0px; fill: rgb(178, 24, 43); fill-opacity: 1;\"/><path class=\"point\" transform=\"translate(539.22,183.5)\" d=\"M3,0A3,3 0 1,1 0,-3A3,3 0 0,1 3,0Z\" style=\"opacity: 1; stroke-width: 0px; fill: rgb(178, 24, 43); fill-opacity: 1;\"/><path class=\"point\" transform=\"translate(539.25,183.5)\" d=\"M3,0A3,3 0 1,1 0,-3A3,3 0 0,1 3,0Z\" style=\"opacity: 1; stroke-width: 0px; fill: rgb(178, 24, 43); fill-opacity: 1;\"/><path class=\"point\" transform=\"translate(539.35,183.5)\" d=\"M3,0A3,3 0 1,1 0,-3A3,3 0 0,1 3,0Z\" style=\"opacity: 1; stroke-width: 0px; fill: rgb(178, 24, 43); fill-opacity: 1;\"/><path class=\"point\" transform=\"translate(539.62,183.5)\" d=\"M3,0A3,3 0 1,1 0,-3A3,3 0 0,1 3,0Z\" style=\"opacity: 1; stroke-width: 0px; fill: rgb(178, 24, 43); fill-opacity: 1;\"/><path class=\"point\" transform=\"translate(539.78,183.5)\" d=\"M3,0A3,3 0 1,1 0,-3A3,3 0 0,1 3,0Z\" style=\"opacity: 1; stroke-width: 0px; fill: rgb(178, 24, 43); fill-opacity: 1;\"/><path class=\"point\" transform=\"translate(539.79,183.5)\" d=\"M3,0A3,3 0 1,1 0,-3A3,3 0 0,1 3,0Z\" style=\"opacity: 1; stroke-width: 0px; fill: rgb(178, 24, 43); fill-opacity: 1;\"/><path class=\"point\" transform=\"translate(540.02,183.5)\" d=\"M3,0A3,3 0 1,1 0,-3A3,3 0 0,1 3,0Z\" style=\"opacity: 1; stroke-width: 0px; fill: rgb(178, 24, 43); fill-opacity: 1;\"/><path class=\"point\" transform=\"translate(540.05,183.5)\" d=\"M3,0A3,3 0 1,1 0,-3A3,3 0 0,1 3,0Z\" style=\"opacity: 1; stroke-width: 0px; fill: rgb(178, 24, 43); fill-opacity: 1;\"/><path class=\"point\" transform=\"translate(540.06,183.5)\" d=\"M3,0A3,3 0 1,1 0,-3A3,3 0 0,1 3,0Z\" style=\"opacity: 1; stroke-width: 0px; fill: rgb(178, 24, 43); fill-opacity: 1;\"/><path class=\"point\" transform=\"translate(540.9,183.5)\" d=\"M3,0A3,3 0 1,1 0,-3A3,3 0 0,1 3,0Z\" style=\"opacity: 1; stroke-width: 0px; fill: rgb(178, 24, 43); fill-opacity: 1;\"/><path class=\"point\" transform=\"translate(541.6,183.5)\" d=\"M3,0A3,3 0 1,1 0,-3A3,3 0 0,1 3,0Z\" style=\"opacity: 1; stroke-width: 0px; fill: rgb(178, 24, 43); fill-opacity: 1;\"/><path class=\"point\" transform=\"translate(542.09,183.5)\" d=\"M3,0A3,3 0 1,1 0,-3A3,3 0 0,1 3,0Z\" style=\"opacity: 1; stroke-width: 0px; fill: rgb(178, 24, 43); fill-opacity: 1;\"/><path class=\"point\" transform=\"translate(542.21,183.5)\" d=\"M3,0A3,3 0 1,1 0,-3A3,3 0 0,1 3,0Z\" style=\"opacity: 1; stroke-width: 0px; fill: rgb(178, 24, 43); fill-opacity: 1;\"/><path class=\"point\" transform=\"translate(542.22,183.5)\" d=\"M3,0A3,3 0 1,1 0,-3A3,3 0 0,1 3,0Z\" style=\"opacity: 1; stroke-width: 0px; fill: rgb(178, 24, 43); fill-opacity: 1;\"/><path class=\"point\" transform=\"translate(542.34,183.5)\" d=\"M3,0A3,3 0 1,1 0,-3A3,3 0 0,1 3,0Z\" style=\"opacity: 1; stroke-width: 0px; fill: rgb(178, 24, 43); fill-opacity: 1;\"/><path class=\"point\" transform=\"translate(542.42,183.5)\" d=\"M3,0A3,3 0 1,1 0,-3A3,3 0 0,1 3,0Z\" style=\"opacity: 1; stroke-width: 0px; fill: rgb(178, 24, 43); fill-opacity: 1;\"/><path class=\"point\" transform=\"translate(542.51,183.5)\" d=\"M3,0A3,3 0 1,1 0,-3A3,3 0 0,1 3,0Z\" style=\"opacity: 1; stroke-width: 0px; fill: rgb(178, 24, 43); fill-opacity: 1;\"/><path class=\"point\" transform=\"translate(542.58,183.5)\" d=\"M3,0A3,3 0 1,1 0,-3A3,3 0 0,1 3,0Z\" style=\"opacity: 1; stroke-width: 0px; fill: rgb(178, 24, 43); fill-opacity: 1;\"/><path class=\"point\" transform=\"translate(542.8,183.5)\" d=\"M3,0A3,3 0 1,1 0,-3A3,3 0 0,1 3,0Z\" style=\"opacity: 1; stroke-width: 0px; fill: rgb(178, 24, 43); fill-opacity: 1;\"/><path class=\"point\" transform=\"translate(543.26,183.5)\" d=\"M3,0A3,3 0 1,1 0,-3A3,3 0 0,1 3,0Z\" style=\"opacity: 1; stroke-width: 0px; fill: rgb(178, 24, 43); fill-opacity: 1;\"/><path class=\"point\" transform=\"translate(543.3,183.5)\" d=\"M3,0A3,3 0 1,1 0,-3A3,3 0 0,1 3,0Z\" style=\"opacity: 1; stroke-width: 0px; fill: rgb(178, 24, 43); fill-opacity: 1;\"/><path class=\"point\" transform=\"translate(543.48,183.5)\" d=\"M3,0A3,3 0 1,1 0,-3A3,3 0 0,1 3,0Z\" style=\"opacity: 1; stroke-width: 0px; fill: rgb(178, 24, 43); fill-opacity: 1;\"/><path class=\"point\" transform=\"translate(543.89,183.5)\" d=\"M3,0A3,3 0 1,1 0,-3A3,3 0 0,1 3,0Z\" style=\"opacity: 1; stroke-width: 0px; fill: rgb(178, 24, 43); fill-opacity: 1;\"/><path class=\"point\" transform=\"translate(543.9,183.5)\" d=\"M3,0A3,3 0 1,1 0,-3A3,3 0 0,1 3,0Z\" style=\"opacity: 1; stroke-width: 0px; fill: rgb(178, 24, 43); fill-opacity: 1;\"/><path class=\"point\" transform=\"translate(544.14,183.5)\" d=\"M3,0A3,3 0 1,1 0,-3A3,3 0 0,1 3,0Z\" style=\"opacity: 1; stroke-width: 0px; fill: rgb(178, 24, 43); fill-opacity: 1;\"/><path class=\"point\" transform=\"translate(544.16,183.5)\" d=\"M3,0A3,3 0 1,1 0,-3A3,3 0 0,1 3,0Z\" style=\"opacity: 1; stroke-width: 0px; fill: rgb(178, 24, 43); fill-opacity: 1;\"/><path class=\"point\" transform=\"translate(544.2,183.5)\" d=\"M3,0A3,3 0 1,1 0,-3A3,3 0 0,1 3,0Z\" style=\"opacity: 1; stroke-width: 0px; fill: rgb(178, 24, 43); fill-opacity: 1;\"/><path class=\"point\" transform=\"translate(544.21,183.5)\" d=\"M3,0A3,3 0 1,1 0,-3A3,3 0 0,1 3,0Z\" style=\"opacity: 1; stroke-width: 0px; fill: rgb(178, 24, 43); fill-opacity: 1;\"/><path class=\"point\" transform=\"translate(544.23,183.5)\" d=\"M3,0A3,3 0 1,1 0,-3A3,3 0 0,1 3,0Z\" style=\"opacity: 1; stroke-width: 0px; fill: rgb(178, 24, 43); fill-opacity: 1;\"/><path class=\"point\" transform=\"translate(544.33,183.5)\" d=\"M3,0A3,3 0 1,1 0,-3A3,3 0 0,1 3,0Z\" style=\"opacity: 1; stroke-width: 0px; fill: rgb(178, 24, 43); fill-opacity: 1;\"/><path class=\"point\" transform=\"translate(544.38,183.5)\" d=\"M3,0A3,3 0 1,1 0,-3A3,3 0 0,1 3,0Z\" style=\"opacity: 1; stroke-width: 0px; fill: rgb(178, 24, 43); fill-opacity: 1;\"/><path class=\"point\" transform=\"translate(544.43,183.5)\" d=\"M3,0A3,3 0 1,1 0,-3A3,3 0 0,1 3,0Z\" style=\"opacity: 1; stroke-width: 0px; fill: rgb(178, 24, 43); fill-opacity: 1;\"/><path class=\"point\" transform=\"translate(544.49,183.5)\" d=\"M3,0A3,3 0 1,1 0,-3A3,3 0 0,1 3,0Z\" style=\"opacity: 1; stroke-width: 0px; fill: rgb(178, 24, 43); fill-opacity: 1;\"/><path class=\"point\" transform=\"translate(544.6,183.5)\" d=\"M3,0A3,3 0 1,1 0,-3A3,3 0 0,1 3,0Z\" style=\"opacity: 1; stroke-width: 0px; fill: rgb(178, 24, 43); fill-opacity: 1;\"/><path class=\"point\" transform=\"translate(544.76,183.5)\" d=\"M3,0A3,3 0 1,1 0,-3A3,3 0 0,1 3,0Z\" style=\"opacity: 1; stroke-width: 0px; fill: rgb(178, 24, 43); fill-opacity: 1;\"/><path class=\"point\" transform=\"translate(545.02,183.5)\" d=\"M3,0A3,3 0 1,1 0,-3A3,3 0 0,1 3,0Z\" style=\"opacity: 1; stroke-width: 0px; fill: rgb(178, 24, 43); fill-opacity: 1;\"/><path class=\"point\" transform=\"translate(545.03,183.5)\" d=\"M3,0A3,3 0 1,1 0,-3A3,3 0 0,1 3,0Z\" style=\"opacity: 1; stroke-width: 0px; fill: rgb(178, 24, 43); fill-opacity: 1;\"/><path class=\"point\" transform=\"translate(545.23,183.5)\" d=\"M3,0A3,3 0 1,1 0,-3A3,3 0 0,1 3,0Z\" style=\"opacity: 1; stroke-width: 0px; fill: rgb(178, 24, 43); fill-opacity: 1;\"/><path class=\"point\" transform=\"translate(545.6,183.5)\" d=\"M3,0A3,3 0 1,1 0,-3A3,3 0 0,1 3,0Z\" style=\"opacity: 1; stroke-width: 0px; fill: rgb(178, 24, 43); fill-opacity: 1;\"/><path class=\"point\" transform=\"translate(545.71,183.5)\" d=\"M3,0A3,3 0 1,1 0,-3A3,3 0 0,1 3,0Z\" style=\"opacity: 1; stroke-width: 0px; fill: rgb(178, 24, 43); fill-opacity: 1;\"/><path class=\"point\" transform=\"translate(545.93,183.5)\" d=\"M3,0A3,3 0 1,1 0,-3A3,3 0 0,1 3,0Z\" style=\"opacity: 1; stroke-width: 0px; fill: rgb(178, 24, 43); fill-opacity: 1;\"/><path class=\"point\" transform=\"translate(546.07,183.5)\" d=\"M3,0A3,3 0 1,1 0,-3A3,3 0 0,1 3,0Z\" style=\"opacity: 1; stroke-width: 0px; fill: rgb(178, 24, 43); fill-opacity: 1;\"/><path class=\"point\" transform=\"translate(546.3,183.5)\" d=\"M3,0A3,3 0 1,1 0,-3A3,3 0 0,1 3,0Z\" style=\"opacity: 1; stroke-width: 0px; fill: rgb(178, 24, 43); fill-opacity: 1;\"/><path class=\"point\" transform=\"translate(546.34,183.5)\" d=\"M3,0A3,3 0 1,1 0,-3A3,3 0 0,1 3,0Z\" style=\"opacity: 1; stroke-width: 0px; fill: rgb(178, 24, 43); fill-opacity: 1;\"/><path class=\"point\" transform=\"translate(546.85,183.5)\" d=\"M3,0A3,3 0 1,1 0,-3A3,3 0 0,1 3,0Z\" style=\"opacity: 1; stroke-width: 0px; fill: rgb(178, 24, 43); fill-opacity: 1;\"/><path class=\"point\" transform=\"translate(546.88,183.5)\" d=\"M3,0A3,3 0 1,1 0,-3A3,3 0 0,1 3,0Z\" style=\"opacity: 1; stroke-width: 0px; fill: rgb(178, 24, 43); fill-opacity: 1;\"/><path class=\"point\" transform=\"translate(546.99,183.5)\" d=\"M3,0A3,3 0 1,1 0,-3A3,3 0 0,1 3,0Z\" style=\"opacity: 1; stroke-width: 0px; fill: rgb(178, 24, 43); fill-opacity: 1;\"/><path class=\"point\" transform=\"translate(547.05,183.5)\" d=\"M3,0A3,3 0 1,1 0,-3A3,3 0 0,1 3,0Z\" style=\"opacity: 1; stroke-width: 0px; fill: rgb(178, 24, 43); fill-opacity: 1;\"/><path class=\"point\" transform=\"translate(547.53,183.5)\" d=\"M3,0A3,3 0 1,1 0,-3A3,3 0 0,1 3,0Z\" style=\"opacity: 1; stroke-width: 0px; fill: rgb(178, 24, 43); fill-opacity: 1;\"/><path class=\"point\" transform=\"translate(547.54,183.5)\" d=\"M3,0A3,3 0 1,1 0,-3A3,3 0 0,1 3,0Z\" style=\"opacity: 1; stroke-width: 0px; fill: rgb(178, 24, 43); fill-opacity: 1;\"/><path class=\"point\" transform=\"translate(547.72,183.5)\" d=\"M3,0A3,3 0 1,1 0,-3A3,3 0 0,1 3,0Z\" style=\"opacity: 1; stroke-width: 0px; fill: rgb(178, 24, 43); fill-opacity: 1;\"/><path class=\"point\" transform=\"translate(547.77,183.5)\" d=\"M3,0A3,3 0 1,1 0,-3A3,3 0 0,1 3,0Z\" style=\"opacity: 1; stroke-width: 0px; fill: rgb(178, 24, 43); fill-opacity: 1;\"/><path class=\"point\" transform=\"translate(547.78,183.5)\" d=\"M3,0A3,3 0 1,1 0,-3A3,3 0 0,1 3,0Z\" style=\"opacity: 1; stroke-width: 0px; fill: rgb(178, 24, 43); fill-opacity: 1;\"/><path class=\"point\" transform=\"translate(547.89,183.5)\" d=\"M3,0A3,3 0 1,1 0,-3A3,3 0 0,1 3,0Z\" style=\"opacity: 1; stroke-width: 0px; fill: rgb(178, 24, 43); fill-opacity: 1;\"/><path class=\"point\" transform=\"translate(548.31,183.5)\" d=\"M3,0A3,3 0 1,1 0,-3A3,3 0 0,1 3,0Z\" style=\"opacity: 1; stroke-width: 0px; fill: rgb(178, 24, 43); fill-opacity: 1;\"/><path class=\"point\" transform=\"translate(548.74,183.5)\" d=\"M3,0A3,3 0 1,1 0,-3A3,3 0 0,1 3,0Z\" style=\"opacity: 1; stroke-width: 0px; fill: rgb(178, 24, 43); fill-opacity: 1;\"/><path class=\"point\" transform=\"translate(549.4,183.5)\" d=\"M3,0A3,3 0 1,1 0,-3A3,3 0 0,1 3,0Z\" style=\"opacity: 1; stroke-width: 0px; fill: rgb(178, 24, 43); fill-opacity: 1;\"/><path class=\"point\" transform=\"translate(549.65,183.5)\" d=\"M3,0A3,3 0 1,1 0,-3A3,3 0 0,1 3,0Z\" style=\"opacity: 1; stroke-width: 0px; fill: rgb(178, 24, 43); fill-opacity: 1;\"/><path class=\"point\" transform=\"translate(549.71,183.5)\" d=\"M3,0A3,3 0 1,1 0,-3A3,3 0 0,1 3,0Z\" style=\"opacity: 1; stroke-width: 0px; fill: rgb(178, 24, 43); fill-opacity: 1;\"/><path class=\"point\" transform=\"translate(550.21,183.5)\" d=\"M3,0A3,3 0 1,1 0,-3A3,3 0 0,1 3,0Z\" style=\"opacity: 1; stroke-width: 0px; fill: rgb(178, 24, 43); fill-opacity: 1;\"/><path class=\"point\" transform=\"translate(550.29,183.5)\" d=\"M3,0A3,3 0 1,1 0,-3A3,3 0 0,1 3,0Z\" style=\"opacity: 1; stroke-width: 0px; fill: rgb(178, 24, 43); fill-opacity: 1;\"/><path class=\"point\" transform=\"translate(550.37,183.5)\" d=\"M3,0A3,3 0 1,1 0,-3A3,3 0 0,1 3,0Z\" style=\"opacity: 1; stroke-width: 0px; fill: rgb(178, 24, 43); fill-opacity: 1;\"/><path class=\"point\" transform=\"translate(550.45,183.5)\" d=\"M3,0A3,3 0 1,1 0,-3A3,3 0 0,1 3,0Z\" style=\"opacity: 1; stroke-width: 0px; fill: rgb(178, 24, 43); fill-opacity: 1;\"/><path class=\"point\" transform=\"translate(550.52,183.5)\" d=\"M3,0A3,3 0 1,1 0,-3A3,3 0 0,1 3,0Z\" style=\"opacity: 1; stroke-width: 0px; fill: rgb(178, 24, 43); fill-opacity: 1;\"/><path class=\"point\" transform=\"translate(550.79,183.5)\" d=\"M3,0A3,3 0 1,1 0,-3A3,3 0 0,1 3,0Z\" style=\"opacity: 1; stroke-width: 0px; fill: rgb(178, 24, 43); fill-opacity: 1;\"/><path class=\"point\" transform=\"translate(550.8,183.5)\" d=\"M3,0A3,3 0 1,1 0,-3A3,3 0 0,1 3,0Z\" style=\"opacity: 1; stroke-width: 0px; fill: rgb(178, 24, 43); fill-opacity: 1;\"/><path class=\"point\" transform=\"translate(551.11,183.5)\" d=\"M3,0A3,3 0 1,1 0,-3A3,3 0 0,1 3,0Z\" style=\"opacity: 1; stroke-width: 0px; fill: rgb(178, 24, 43); fill-opacity: 1;\"/><path class=\"point\" transform=\"translate(551.34,183.5)\" d=\"M3,0A3,3 0 1,1 0,-3A3,3 0 0,1 3,0Z\" style=\"opacity: 1; stroke-width: 0px; fill: rgb(178, 24, 43); fill-opacity: 1;\"/><path class=\"point\" transform=\"translate(551.39,183.5)\" d=\"M3,0A3,3 0 1,1 0,-3A3,3 0 0,1 3,0Z\" style=\"opacity: 1; stroke-width: 0px; fill: rgb(178, 24, 43); fill-opacity: 1;\"/><path class=\"point\" transform=\"translate(551.62,183.5)\" d=\"M3,0A3,3 0 1,1 0,-3A3,3 0 0,1 3,0Z\" style=\"opacity: 1; stroke-width: 0px; fill: rgb(178, 24, 43); fill-opacity: 1;\"/><path class=\"point\" transform=\"translate(551.73,183.5)\" d=\"M3,0A3,3 0 1,1 0,-3A3,3 0 0,1 3,0Z\" style=\"opacity: 1; stroke-width: 0px; fill: rgb(178, 24, 43); fill-opacity: 1;\"/><path class=\"point\" transform=\"translate(551.87,183.5)\" d=\"M3,0A3,3 0 1,1 0,-3A3,3 0 0,1 3,0Z\" style=\"opacity: 1; stroke-width: 0px; fill: rgb(178, 24, 43); fill-opacity: 1;\"/><path class=\"point\" transform=\"translate(552.04,183.5)\" d=\"M3,0A3,3 0 1,1 0,-3A3,3 0 0,1 3,0Z\" style=\"opacity: 1; stroke-width: 0px; fill: rgb(178, 24, 43); fill-opacity: 1;\"/><path class=\"point\" transform=\"translate(552.16,183.5)\" d=\"M3,0A3,3 0 1,1 0,-3A3,3 0 0,1 3,0Z\" style=\"opacity: 1; stroke-width: 0px; fill: rgb(178, 24, 43); fill-opacity: 1;\"/><path class=\"point\" transform=\"translate(552.32,183.5)\" d=\"M3,0A3,3 0 1,1 0,-3A3,3 0 0,1 3,0Z\" style=\"opacity: 1; stroke-width: 0px; fill: rgb(178, 24, 43); fill-opacity: 1;\"/><path class=\"point\" transform=\"translate(552.43,183.5)\" d=\"M3,0A3,3 0 1,1 0,-3A3,3 0 0,1 3,0Z\" style=\"opacity: 1; stroke-width: 0px; fill: rgb(178, 24, 43); fill-opacity: 1;\"/><path class=\"point\" transform=\"translate(552.47,183.5)\" d=\"M3,0A3,3 0 1,1 0,-3A3,3 0 0,1 3,0Z\" style=\"opacity: 1; stroke-width: 0px; fill: rgb(178, 24, 43); fill-opacity: 1;\"/><path class=\"point\" transform=\"translate(552.53,183.5)\" d=\"M3,0A3,3 0 1,1 0,-3A3,3 0 0,1 3,0Z\" style=\"opacity: 1; stroke-width: 0px; fill: rgb(178, 24, 43); fill-opacity: 1;\"/><path class=\"point\" transform=\"translate(552.66,183.5)\" d=\"M3,0A3,3 0 1,1 0,-3A3,3 0 0,1 3,0Z\" style=\"opacity: 1; stroke-width: 0px; fill: rgb(178, 24, 43); fill-opacity: 1;\"/><path class=\"point\" transform=\"translate(552.78,183.5)\" d=\"M3,0A3,3 0 1,1 0,-3A3,3 0 0,1 3,0Z\" style=\"opacity: 1; stroke-width: 0px; fill: rgb(178, 24, 43); fill-opacity: 1;\"/><path class=\"point\" transform=\"translate(552.93,183.5)\" d=\"M3,0A3,3 0 1,1 0,-3A3,3 0 0,1 3,0Z\" style=\"opacity: 1; stroke-width: 0px; fill: rgb(178, 24, 43); fill-opacity: 1;\"/><path class=\"point\" transform=\"translate(553,183.5)\" d=\"M3,0A3,3 0 1,1 0,-3A3,3 0 0,1 3,0Z\" style=\"opacity: 1; stroke-width: 0px; fill: rgb(178, 24, 43); fill-opacity: 1;\"/><path class=\"point\" transform=\"translate(553.18,183.5)\" d=\"M3,0A3,3 0 1,1 0,-3A3,3 0 0,1 3,0Z\" style=\"opacity: 1; stroke-width: 0px; fill: rgb(178, 24, 43); fill-opacity: 1;\"/><path class=\"point\" transform=\"translate(554.33,183.5)\" d=\"M3,0A3,3 0 1,1 0,-3A3,3 0 0,1 3,0Z\" style=\"opacity: 1; stroke-width: 0px; fill: rgb(178, 24, 43); fill-opacity: 1;\"/><path class=\"point\" transform=\"translate(554.54,183.5)\" d=\"M3,0A3,3 0 1,1 0,-3A3,3 0 0,1 3,0Z\" style=\"opacity: 1; stroke-width: 0px; fill: rgb(178, 24, 43); fill-opacity: 1;\"/><path class=\"point\" transform=\"translate(554.55,183.5)\" d=\"M3,0A3,3 0 1,1 0,-3A3,3 0 0,1 3,0Z\" style=\"opacity: 1; stroke-width: 0px; fill: rgb(178, 24, 43); fill-opacity: 1;\"/><path class=\"point\" transform=\"translate(554.69,183.5)\" d=\"M3,0A3,3 0 1,1 0,-3A3,3 0 0,1 3,0Z\" style=\"opacity: 1; stroke-width: 0px; fill: rgb(178, 24, 43); fill-opacity: 1;\"/><path class=\"point\" transform=\"translate(554.85,183.5)\" d=\"M3,0A3,3 0 1,1 0,-3A3,3 0 0,1 3,0Z\" style=\"opacity: 1; stroke-width: 0px; fill: rgb(178, 24, 43); fill-opacity: 1;\"/><path class=\"point\" transform=\"translate(555.21,183.5)\" d=\"M3,0A3,3 0 1,1 0,-3A3,3 0 0,1 3,0Z\" style=\"opacity: 1; stroke-width: 0px; fill: rgb(178, 24, 43); fill-opacity: 1;\"/><path class=\"point\" transform=\"translate(555.36,183.5)\" d=\"M3,0A3,3 0 1,1 0,-3A3,3 0 0,1 3,0Z\" style=\"opacity: 1; stroke-width: 0px; fill: rgb(178, 24, 43); fill-opacity: 1;\"/><path class=\"point\" transform=\"translate(555.48,183.5)\" d=\"M3,0A3,3 0 1,1 0,-3A3,3 0 0,1 3,0Z\" style=\"opacity: 1; stroke-width: 0px; fill: rgb(178, 24, 43); fill-opacity: 1;\"/><path class=\"point\" transform=\"translate(555.8,183.5)\" d=\"M3,0A3,3 0 1,1 0,-3A3,3 0 0,1 3,0Z\" style=\"opacity: 1; stroke-width: 0px; fill: rgb(178, 24, 43); fill-opacity: 1;\"/><path class=\"point\" transform=\"translate(556.05,183.5)\" d=\"M3,0A3,3 0 1,1 0,-3A3,3 0 0,1 3,0Z\" style=\"opacity: 1; stroke-width: 0px; fill: rgb(178, 24, 43); fill-opacity: 1;\"/><path class=\"point\" transform=\"translate(556.14,183.5)\" d=\"M3,0A3,3 0 1,1 0,-3A3,3 0 0,1 3,0Z\" style=\"opacity: 1; stroke-width: 0px; fill: rgb(178, 24, 43); fill-opacity: 1;\"/><path class=\"point\" transform=\"translate(556.29,183.5)\" d=\"M3,0A3,3 0 1,1 0,-3A3,3 0 0,1 3,0Z\" style=\"opacity: 1; stroke-width: 0px; fill: rgb(178, 24, 43); fill-opacity: 1;\"/><path class=\"point\" transform=\"translate(556.87,183.5)\" d=\"M3,0A3,3 0 1,1 0,-3A3,3 0 0,1 3,0Z\" style=\"opacity: 1; stroke-width: 0px; fill: rgb(178, 24, 43); fill-opacity: 1;\"/><path class=\"point\" transform=\"translate(557.18,183.5)\" d=\"M3,0A3,3 0 1,1 0,-3A3,3 0 0,1 3,0Z\" style=\"opacity: 1; stroke-width: 0px; fill: rgb(178, 24, 43); fill-opacity: 1;\"/><path class=\"point\" transform=\"translate(557.8,183.5)\" d=\"M3,0A3,3 0 1,1 0,-3A3,3 0 0,1 3,0Z\" style=\"opacity: 1; stroke-width: 0px; fill: rgb(178, 24, 43); fill-opacity: 1;\"/><path class=\"point\" transform=\"translate(557.81,183.5)\" d=\"M3,0A3,3 0 1,1 0,-3A3,3 0 0,1 3,0Z\" style=\"opacity: 1; stroke-width: 0px; fill: rgb(178, 24, 43); fill-opacity: 1;\"/><path class=\"point\" transform=\"translate(557.9,183.5)\" d=\"M3,0A3,3 0 1,1 0,-3A3,3 0 0,1 3,0Z\" style=\"opacity: 1; stroke-width: 0px; fill: rgb(178, 24, 43); fill-opacity: 1;\"/><path class=\"point\" transform=\"translate(557.9,183.5)\" d=\"M3,0A3,3 0 1,1 0,-3A3,3 0 0,1 3,0Z\" style=\"opacity: 1; stroke-width: 0px; fill: rgb(178, 24, 43); fill-opacity: 1;\"/><path class=\"point\" transform=\"translate(558.15,183.5)\" d=\"M3,0A3,3 0 1,1 0,-3A3,3 0 0,1 3,0Z\" style=\"opacity: 1; stroke-width: 0px; fill: rgb(178, 24, 43); fill-opacity: 1;\"/><path class=\"point\" transform=\"translate(558.3,183.5)\" d=\"M3,0A3,3 0 1,1 0,-3A3,3 0 0,1 3,0Z\" style=\"opacity: 1; stroke-width: 0px; fill: rgb(178, 24, 43); fill-opacity: 1;\"/><path class=\"point\" transform=\"translate(558.39,183.5)\" d=\"M3,0A3,3 0 1,1 0,-3A3,3 0 0,1 3,0Z\" style=\"opacity: 1; stroke-width: 0px; fill: rgb(178, 24, 43); fill-opacity: 1;\"/><path class=\"point\" transform=\"translate(558.58,183.5)\" d=\"M3,0A3,3 0 1,1 0,-3A3,3 0 0,1 3,0Z\" style=\"opacity: 1; stroke-width: 0px; fill: rgb(178, 24, 43); fill-opacity: 1;\"/><path class=\"point\" transform=\"translate(558.84,183.5)\" d=\"M3,0A3,3 0 1,1 0,-3A3,3 0 0,1 3,0Z\" style=\"opacity: 1; stroke-width: 0px; fill: rgb(178, 24, 43); fill-opacity: 1;\"/><path class=\"point\" transform=\"translate(559.4,183.5)\" d=\"M3,0A3,3 0 1,1 0,-3A3,3 0 0,1 3,0Z\" style=\"opacity: 1; stroke-width: 0px; fill: rgb(178, 24, 43); fill-opacity: 1;\"/><path class=\"point\" transform=\"translate(559.96,183.5)\" d=\"M3,0A3,3 0 1,1 0,-3A3,3 0 0,1 3,0Z\" style=\"opacity: 1; stroke-width: 0px; fill: rgb(178, 24, 43); fill-opacity: 1;\"/><path class=\"point\" transform=\"translate(560.25,183.5)\" d=\"M3,0A3,3 0 1,1 0,-3A3,3 0 0,1 3,0Z\" style=\"opacity: 1; stroke-width: 0px; fill: rgb(178, 24, 43); fill-opacity: 1;\"/><path class=\"point\" transform=\"translate(560.42,183.5)\" d=\"M3,0A3,3 0 1,1 0,-3A3,3 0 0,1 3,0Z\" style=\"opacity: 1; stroke-width: 0px; fill: rgb(178, 24, 43); fill-opacity: 1;\"/><path class=\"point\" transform=\"translate(560.74,183.5)\" d=\"M3,0A3,3 0 1,1 0,-3A3,3 0 0,1 3,0Z\" style=\"opacity: 1; stroke-width: 0px; fill: rgb(178, 24, 43); fill-opacity: 1;\"/><path class=\"point\" transform=\"translate(560.86,183.5)\" d=\"M3,0A3,3 0 1,1 0,-3A3,3 0 0,1 3,0Z\" style=\"opacity: 1; stroke-width: 0px; fill: rgb(178, 24, 43); fill-opacity: 1;\"/><path class=\"point\" transform=\"translate(561.44,183.5)\" d=\"M3,0A3,3 0 1,1 0,-3A3,3 0 0,1 3,0Z\" style=\"opacity: 1; stroke-width: 0px; fill: rgb(178, 24, 43); fill-opacity: 1;\"/><path class=\"point\" transform=\"translate(561.77,183.5)\" d=\"M3,0A3,3 0 1,1 0,-3A3,3 0 0,1 3,0Z\" style=\"opacity: 1; stroke-width: 0px; fill: rgb(178, 24, 43); fill-opacity: 1;\"/><path class=\"point\" transform=\"translate(561.96,183.5)\" d=\"M3,0A3,3 0 1,1 0,-3A3,3 0 0,1 3,0Z\" style=\"opacity: 1; stroke-width: 0px; fill: rgb(178, 24, 43); fill-opacity: 1;\"/><path class=\"point\" transform=\"translate(561.97,183.5)\" d=\"M3,0A3,3 0 1,1 0,-3A3,3 0 0,1 3,0Z\" style=\"opacity: 1; stroke-width: 0px; fill: rgb(178, 24, 43); fill-opacity: 1;\"/><path class=\"point\" transform=\"translate(562.46,183.5)\" d=\"M3,0A3,3 0 1,1 0,-3A3,3 0 0,1 3,0Z\" style=\"opacity: 1; stroke-width: 0px; fill: rgb(178, 24, 43); fill-opacity: 1;\"/><path class=\"point\" transform=\"translate(562.68,183.5)\" d=\"M3,0A3,3 0 1,1 0,-3A3,3 0 0,1 3,0Z\" style=\"opacity: 1; stroke-width: 0px; fill: rgb(178, 24, 43); fill-opacity: 1;\"/><path class=\"point\" transform=\"translate(562.98,183.5)\" d=\"M3,0A3,3 0 1,1 0,-3A3,3 0 0,1 3,0Z\" style=\"opacity: 1; stroke-width: 0px; fill: rgb(178, 24, 43); fill-opacity: 1;\"/><path class=\"point\" transform=\"translate(563.14,183.5)\" d=\"M3,0A3,3 0 1,1 0,-3A3,3 0 0,1 3,0Z\" style=\"opacity: 1; stroke-width: 0px; fill: rgb(178, 24, 43); fill-opacity: 1;\"/><path class=\"point\" transform=\"translate(563.54,183.5)\" d=\"M3,0A3,3 0 1,1 0,-3A3,3 0 0,1 3,0Z\" style=\"opacity: 1; stroke-width: 0px; fill: rgb(178, 24, 43); fill-opacity: 1;\"/><path class=\"point\" transform=\"translate(564.02,183.5)\" d=\"M3,0A3,3 0 1,1 0,-3A3,3 0 0,1 3,0Z\" style=\"opacity: 1; stroke-width: 0px; fill: rgb(178, 24, 43); fill-opacity: 1;\"/><path class=\"point\" transform=\"translate(564.28,183.5)\" d=\"M3,0A3,3 0 1,1 0,-3A3,3 0 0,1 3,0Z\" style=\"opacity: 1; stroke-width: 0px; fill: rgb(178, 24, 43); fill-opacity: 1;\"/><path class=\"point\" transform=\"translate(564.39,183.5)\" d=\"M3,0A3,3 0 1,1 0,-3A3,3 0 0,1 3,0Z\" style=\"opacity: 1; stroke-width: 0px; fill: rgb(178, 24, 43); fill-opacity: 1;\"/><path class=\"point\" transform=\"translate(564.4,183.5)\" d=\"M3,0A3,3 0 1,1 0,-3A3,3 0 0,1 3,0Z\" style=\"opacity: 1; stroke-width: 0px; fill: rgb(178, 24, 43); fill-opacity: 1;\"/><path class=\"point\" transform=\"translate(564.42,183.5)\" d=\"M3,0A3,3 0 1,1 0,-3A3,3 0 0,1 3,0Z\" style=\"opacity: 1; stroke-width: 0px; fill: rgb(178, 24, 43); fill-opacity: 1;\"/><path class=\"point\" transform=\"translate(564.56,183.5)\" d=\"M3,0A3,3 0 1,1 0,-3A3,3 0 0,1 3,0Z\" style=\"opacity: 1; stroke-width: 0px; fill: rgb(178, 24, 43); fill-opacity: 1;\"/><path class=\"point\" transform=\"translate(564.75,183.5)\" d=\"M3,0A3,3 0 1,1 0,-3A3,3 0 0,1 3,0Z\" style=\"opacity: 1; stroke-width: 0px; fill: rgb(178, 24, 43); fill-opacity: 1;\"/><path class=\"point\" transform=\"translate(565.79,183.5)\" d=\"M3,0A3,3 0 1,1 0,-3A3,3 0 0,1 3,0Z\" style=\"opacity: 1; stroke-width: 0px; fill: rgb(178, 24, 43); fill-opacity: 1;\"/><path class=\"point\" transform=\"translate(566.29,183.5)\" d=\"M3,0A3,3 0 1,1 0,-3A3,3 0 0,1 3,0Z\" style=\"opacity: 1; stroke-width: 0px; fill: rgb(178, 24, 43); fill-opacity: 1;\"/><path class=\"point\" transform=\"translate(566.36,183.5)\" d=\"M3,0A3,3 0 1,1 0,-3A3,3 0 0,1 3,0Z\" style=\"opacity: 1; stroke-width: 0px; fill: rgb(178, 24, 43); fill-opacity: 1;\"/><path class=\"point\" transform=\"translate(566.4,183.5)\" d=\"M3,0A3,3 0 1,1 0,-3A3,3 0 0,1 3,0Z\" style=\"opacity: 1; stroke-width: 0px; fill: rgb(178, 24, 43); fill-opacity: 1;\"/><path class=\"point\" transform=\"translate(566.75,183.5)\" d=\"M3,0A3,3 0 1,1 0,-3A3,3 0 0,1 3,0Z\" style=\"opacity: 1; stroke-width: 0px; fill: rgb(178, 24, 43); fill-opacity: 1;\"/><path class=\"point\" transform=\"translate(567.64,183.5)\" d=\"M3,0A3,3 0 1,1 0,-3A3,3 0 0,1 3,0Z\" style=\"opacity: 1; stroke-width: 0px; fill: rgb(178, 24, 43); fill-opacity: 1;\"/><path class=\"point\" transform=\"translate(567.72,183.5)\" d=\"M3,0A3,3 0 1,1 0,-3A3,3 0 0,1 3,0Z\" style=\"opacity: 1; stroke-width: 0px; fill: rgb(178, 24, 43); fill-opacity: 1;\"/><path class=\"point\" transform=\"translate(567.75,183.5)\" d=\"M3,0A3,3 0 1,1 0,-3A3,3 0 0,1 3,0Z\" style=\"opacity: 1; stroke-width: 0px; fill: rgb(178, 24, 43); fill-opacity: 1;\"/><path class=\"point\" transform=\"translate(567.86,183.5)\" d=\"M3,0A3,3 0 1,1 0,-3A3,3 0 0,1 3,0Z\" style=\"opacity: 1; stroke-width: 0px; fill: rgb(178, 24, 43); fill-opacity: 1;\"/><path class=\"point\" transform=\"translate(567.96,183.5)\" d=\"M3,0A3,3 0 1,1 0,-3A3,3 0 0,1 3,0Z\" style=\"opacity: 1; stroke-width: 0px; fill: rgb(178, 24, 43); fill-opacity: 1;\"/><path class=\"point\" transform=\"translate(568.46,183.5)\" d=\"M3,0A3,3 0 1,1 0,-3A3,3 0 0,1 3,0Z\" style=\"opacity: 1; stroke-width: 0px; fill: rgb(178, 24, 43); fill-opacity: 1;\"/><path class=\"point\" transform=\"translate(568.71,183.5)\" d=\"M3,0A3,3 0 1,1 0,-3A3,3 0 0,1 3,0Z\" style=\"opacity: 1; stroke-width: 0px; fill: rgb(178, 24, 43); fill-opacity: 1;\"/><path class=\"point\" transform=\"translate(568.83,183.5)\" d=\"M3,0A3,3 0 1,1 0,-3A3,3 0 0,1 3,0Z\" style=\"opacity: 1; stroke-width: 0px; fill: rgb(178, 24, 43); fill-opacity: 1;\"/><path class=\"point\" transform=\"translate(569.23,183.5)\" d=\"M3,0A3,3 0 1,1 0,-3A3,3 0 0,1 3,0Z\" style=\"opacity: 1; stroke-width: 0px; fill: rgb(178, 24, 43); fill-opacity: 1;\"/><path class=\"point\" transform=\"translate(569.4,183.5)\" d=\"M3,0A3,3 0 1,1 0,-3A3,3 0 0,1 3,0Z\" style=\"opacity: 1; stroke-width: 0px; fill: rgb(178, 24, 43); fill-opacity: 1;\"/><path class=\"point\" transform=\"translate(569.43,183.5)\" d=\"M3,0A3,3 0 1,1 0,-3A3,3 0 0,1 3,0Z\" style=\"opacity: 1; stroke-width: 0px; fill: rgb(178, 24, 43); fill-opacity: 1;\"/><path class=\"point\" transform=\"translate(569.54,183.5)\" d=\"M3,0A3,3 0 1,1 0,-3A3,3 0 0,1 3,0Z\" style=\"opacity: 1; stroke-width: 0px; fill: rgb(178, 24, 43); fill-opacity: 1;\"/><path class=\"point\" transform=\"translate(570.17,183.5)\" d=\"M3,0A3,3 0 1,1 0,-3A3,3 0 0,1 3,0Z\" style=\"opacity: 1; stroke-width: 0px; fill: rgb(178, 24, 43); fill-opacity: 1;\"/><path class=\"point\" transform=\"translate(570.41,183.5)\" d=\"M3,0A3,3 0 1,1 0,-3A3,3 0 0,1 3,0Z\" style=\"opacity: 1; stroke-width: 0px; fill: rgb(178, 24, 43); fill-opacity: 1;\"/><path class=\"point\" transform=\"translate(570.42,183.5)\" d=\"M3,0A3,3 0 1,1 0,-3A3,3 0 0,1 3,0Z\" style=\"opacity: 1; stroke-width: 0px; fill: rgb(178, 24, 43); fill-opacity: 1;\"/><path class=\"point\" transform=\"translate(570.5,183.5)\" d=\"M3,0A3,3 0 1,1 0,-3A3,3 0 0,1 3,0Z\" style=\"opacity: 1; stroke-width: 0px; fill: rgb(178, 24, 43); fill-opacity: 1;\"/><path class=\"point\" transform=\"translate(571.05,183.5)\" d=\"M3,0A3,3 0 1,1 0,-3A3,3 0 0,1 3,0Z\" style=\"opacity: 1; stroke-width: 0px; fill: rgb(178, 24, 43); fill-opacity: 1;\"/><path class=\"point\" transform=\"translate(571.64,183.5)\" d=\"M3,0A3,3 0 1,1 0,-3A3,3 0 0,1 3,0Z\" style=\"opacity: 1; stroke-width: 0px; fill: rgb(178, 24, 43); fill-opacity: 1;\"/><path class=\"point\" transform=\"translate(572.19,183.5)\" d=\"M3,0A3,3 0 1,1 0,-3A3,3 0 0,1 3,0Z\" style=\"opacity: 1; stroke-width: 0px; fill: rgb(178, 24, 43); fill-opacity: 1;\"/><path class=\"point\" transform=\"translate(572.6,183.5)\" d=\"M3,0A3,3 0 1,1 0,-3A3,3 0 0,1 3,0Z\" style=\"opacity: 1; stroke-width: 0px; fill: rgb(178, 24, 43); fill-opacity: 1;\"/><path class=\"point\" transform=\"translate(573.13,183.5)\" d=\"M3,0A3,3 0 1,1 0,-3A3,3 0 0,1 3,0Z\" style=\"opacity: 1; stroke-width: 0px; fill: rgb(178, 24, 43); fill-opacity: 1;\"/><path class=\"point\" transform=\"translate(573.5,183.5)\" d=\"M3,0A3,3 0 1,1 0,-3A3,3 0 0,1 3,0Z\" style=\"opacity: 1; stroke-width: 0px; fill: rgb(178, 24, 43); fill-opacity: 1;\"/><path class=\"point\" transform=\"translate(573.79,183.5)\" d=\"M3,0A3,3 0 1,1 0,-3A3,3 0 0,1 3,0Z\" style=\"opacity: 1; stroke-width: 0px; fill: rgb(178, 24, 43); fill-opacity: 1;\"/><path class=\"point\" transform=\"translate(573.84,183.5)\" d=\"M3,0A3,3 0 1,1 0,-3A3,3 0 0,1 3,0Z\" style=\"opacity: 1; stroke-width: 0px; fill: rgb(178, 24, 43); fill-opacity: 1;\"/><path class=\"point\" transform=\"translate(573.95,183.5)\" d=\"M3,0A3,3 0 1,1 0,-3A3,3 0 0,1 3,0Z\" style=\"opacity: 1; stroke-width: 0px; fill: rgb(178, 24, 43); fill-opacity: 1;\"/><path class=\"point\" transform=\"translate(574.21,183.5)\" d=\"M3,0A3,3 0 1,1 0,-3A3,3 0 0,1 3,0Z\" style=\"opacity: 1; stroke-width: 0px; fill: rgb(178, 24, 43); fill-opacity: 1;\"/><path class=\"point\" transform=\"translate(574.45,183.5)\" d=\"M3,0A3,3 0 1,1 0,-3A3,3 0 0,1 3,0Z\" style=\"opacity: 1; stroke-width: 0px; fill: rgb(178, 24, 43); fill-opacity: 1;\"/><path class=\"point\" transform=\"translate(574.52,183.5)\" d=\"M3,0A3,3 0 1,1 0,-3A3,3 0 0,1 3,0Z\" style=\"opacity: 1; stroke-width: 0px; fill: rgb(178, 24, 43); fill-opacity: 1;\"/><path class=\"point\" transform=\"translate(574.64,183.5)\" d=\"M3,0A3,3 0 1,1 0,-3A3,3 0 0,1 3,0Z\" style=\"opacity: 1; stroke-width: 0px; fill: rgb(178, 24, 43); fill-opacity: 1;\"/><path class=\"point\" transform=\"translate(574.69,183.5)\" d=\"M3,0A3,3 0 1,1 0,-3A3,3 0 0,1 3,0Z\" style=\"opacity: 1; stroke-width: 0px; fill: rgb(178, 24, 43); fill-opacity: 1;\"/><path class=\"point\" transform=\"translate(575.06,183.5)\" d=\"M3,0A3,3 0 1,1 0,-3A3,3 0 0,1 3,0Z\" style=\"opacity: 1; stroke-width: 0px; fill: rgb(178, 24, 43); fill-opacity: 1;\"/><path class=\"point\" transform=\"translate(575.17,183.5)\" d=\"M3,0A3,3 0 1,1 0,-3A3,3 0 0,1 3,0Z\" style=\"opacity: 1; stroke-width: 0px; fill: rgb(178, 24, 43); fill-opacity: 1;\"/><path class=\"point\" transform=\"translate(575.3,183.5)\" d=\"M3,0A3,3 0 1,1 0,-3A3,3 0 0,1 3,0Z\" style=\"opacity: 1; stroke-width: 0px; fill: rgb(178, 24, 43); fill-opacity: 1;\"/><path class=\"point\" transform=\"translate(575.35,183.5)\" d=\"M3,0A3,3 0 1,1 0,-3A3,3 0 0,1 3,0Z\" style=\"opacity: 1; stroke-width: 0px; fill: rgb(178, 24, 43); fill-opacity: 1;\"/><path class=\"point\" transform=\"translate(575.45,183.5)\" d=\"M3,0A3,3 0 1,1 0,-3A3,3 0 0,1 3,0Z\" style=\"opacity: 1; stroke-width: 0px; fill: rgb(178, 24, 43); fill-opacity: 1;\"/><path class=\"point\" transform=\"translate(575.46,183.5)\" d=\"M3,0A3,3 0 1,1 0,-3A3,3 0 0,1 3,0Z\" style=\"opacity: 1; stroke-width: 0px; fill: rgb(178, 24, 43); fill-opacity: 1;\"/><path class=\"point\" transform=\"translate(575.79,183.5)\" d=\"M3,0A3,3 0 1,1 0,-3A3,3 0 0,1 3,0Z\" style=\"opacity: 1; stroke-width: 0px; fill: rgb(178, 24, 43); fill-opacity: 1;\"/><path class=\"point\" transform=\"translate(575.8,183.5)\" d=\"M3,0A3,3 0 1,1 0,-3A3,3 0 0,1 3,0Z\" style=\"opacity: 1; stroke-width: 0px; fill: rgb(178, 24, 43); fill-opacity: 1;\"/><path class=\"point\" transform=\"translate(576.74,183.5)\" d=\"M3,0A3,3 0 1,1 0,-3A3,3 0 0,1 3,0Z\" style=\"opacity: 1; stroke-width: 0px; fill: rgb(178, 24, 43); fill-opacity: 1;\"/><path class=\"point\" transform=\"translate(576.9,183.5)\" d=\"M3,0A3,3 0 1,1 0,-3A3,3 0 0,1 3,0Z\" style=\"opacity: 1; stroke-width: 0px; fill: rgb(178, 24, 43); fill-opacity: 1;\"/><path class=\"point\" transform=\"translate(577.08,183.5)\" d=\"M3,0A3,3 0 1,1 0,-3A3,3 0 0,1 3,0Z\" style=\"opacity: 1; stroke-width: 0px; fill: rgb(178, 24, 43); fill-opacity: 1;\"/><path class=\"point\" transform=\"translate(577.4,183.5)\" d=\"M3,0A3,3 0 1,1 0,-3A3,3 0 0,1 3,0Z\" style=\"opacity: 1; stroke-width: 0px; fill: rgb(178, 24, 43); fill-opacity: 1;\"/><path class=\"point\" transform=\"translate(577.59,183.5)\" d=\"M3,0A3,3 0 1,1 0,-3A3,3 0 0,1 3,0Z\" style=\"opacity: 1; stroke-width: 0px; fill: rgb(178, 24, 43); fill-opacity: 1;\"/><path class=\"point\" transform=\"translate(577.85,183.5)\" d=\"M3,0A3,3 0 1,1 0,-3A3,3 0 0,1 3,0Z\" style=\"opacity: 1; stroke-width: 0px; fill: rgb(178, 24, 43); fill-opacity: 1;\"/><path class=\"point\" transform=\"translate(578.01,183.5)\" d=\"M3,0A3,3 0 1,1 0,-3A3,3 0 0,1 3,0Z\" style=\"opacity: 1; stroke-width: 0px; fill: rgb(178, 24, 43); fill-opacity: 1;\"/><path class=\"point\" transform=\"translate(578.06,183.5)\" d=\"M3,0A3,3 0 1,1 0,-3A3,3 0 0,1 3,0Z\" style=\"opacity: 1; stroke-width: 0px; fill: rgb(178, 24, 43); fill-opacity: 1;\"/><path class=\"point\" transform=\"translate(578.3,183.5)\" d=\"M3,0A3,3 0 1,1 0,-3A3,3 0 0,1 3,0Z\" style=\"opacity: 1; stroke-width: 0px; fill: rgb(178, 24, 43); fill-opacity: 1;\"/><path class=\"point\" transform=\"translate(578.41,183.5)\" d=\"M3,0A3,3 0 1,1 0,-3A3,3 0 0,1 3,0Z\" style=\"opacity: 1; stroke-width: 0px; fill: rgb(178, 24, 43); fill-opacity: 1;\"/><path class=\"point\" transform=\"translate(578.51,183.5)\" d=\"M3,0A3,3 0 1,1 0,-3A3,3 0 0,1 3,0Z\" style=\"opacity: 1; stroke-width: 0px; fill: rgb(178, 24, 43); fill-opacity: 1;\"/><path class=\"point\" transform=\"translate(578.62,183.5)\" d=\"M3,0A3,3 0 1,1 0,-3A3,3 0 0,1 3,0Z\" style=\"opacity: 1; stroke-width: 0px; fill: rgb(178, 24, 43); fill-opacity: 1;\"/><path class=\"point\" transform=\"translate(578.65,183.5)\" d=\"M3,0A3,3 0 1,1 0,-3A3,3 0 0,1 3,0Z\" style=\"opacity: 1; stroke-width: 0px; fill: rgb(178, 24, 43); fill-opacity: 1;\"/><path class=\"point\" transform=\"translate(578.7,183.5)\" d=\"M3,0A3,3 0 1,1 0,-3A3,3 0 0,1 3,0Z\" style=\"opacity: 1; stroke-width: 0px; fill: rgb(178, 24, 43); fill-opacity: 1;\"/><path class=\"point\" transform=\"translate(578.88,183.5)\" d=\"M3,0A3,3 0 1,1 0,-3A3,3 0 0,1 3,0Z\" style=\"opacity: 1; stroke-width: 0px; fill: rgb(178, 24, 43); fill-opacity: 1;\"/><path class=\"point\" transform=\"translate(579.13,183.5)\" d=\"M3,0A3,3 0 1,1 0,-3A3,3 0 0,1 3,0Z\" style=\"opacity: 1; stroke-width: 0px; fill: rgb(178, 24, 43); fill-opacity: 1;\"/><path class=\"point\" transform=\"translate(579.5,183.5)\" d=\"M3,0A3,3 0 1,1 0,-3A3,3 0 0,1 3,0Z\" style=\"opacity: 1; stroke-width: 0px; fill: rgb(178, 24, 43); fill-opacity: 1;\"/><path class=\"point\" transform=\"translate(579.68,183.5)\" d=\"M3,0A3,3 0 1,1 0,-3A3,3 0 0,1 3,0Z\" style=\"opacity: 1; stroke-width: 0px; fill: rgb(178, 24, 43); fill-opacity: 1;\"/><path class=\"point\" transform=\"translate(580.28,183.5)\" d=\"M3,0A3,3 0 1,1 0,-3A3,3 0 0,1 3,0Z\" style=\"opacity: 1; stroke-width: 0px; fill: rgb(178, 24, 43); fill-opacity: 1;\"/><path class=\"point\" transform=\"translate(580.34,183.5)\" d=\"M3,0A3,3 0 1,1 0,-3A3,3 0 0,1 3,0Z\" style=\"opacity: 1; stroke-width: 0px; fill: rgb(178, 24, 43); fill-opacity: 1;\"/><path class=\"point\" transform=\"translate(580.57,183.5)\" d=\"M3,0A3,3 0 1,1 0,-3A3,3 0 0,1 3,0Z\" style=\"opacity: 1; stroke-width: 0px; fill: rgb(178, 24, 43); fill-opacity: 1;\"/><path class=\"point\" transform=\"translate(580.8,183.5)\" d=\"M3,0A3,3 0 1,1 0,-3A3,3 0 0,1 3,0Z\" style=\"opacity: 1; stroke-width: 0px; fill: rgb(178, 24, 43); fill-opacity: 1;\"/><path class=\"point\" transform=\"translate(580.83,183.5)\" d=\"M3,0A3,3 0 1,1 0,-3A3,3 0 0,1 3,0Z\" style=\"opacity: 1; stroke-width: 0px; fill: rgb(178, 24, 43); fill-opacity: 1;\"/><path class=\"point\" transform=\"translate(580.99,183.5)\" d=\"M3,0A3,3 0 1,1 0,-3A3,3 0 0,1 3,0Z\" style=\"opacity: 1; stroke-width: 0px; fill: rgb(178, 24, 43); fill-opacity: 1;\"/><path class=\"point\" transform=\"translate(581.17,183.5)\" d=\"M3,0A3,3 0 1,1 0,-3A3,3 0 0,1 3,0Z\" style=\"opacity: 1; stroke-width: 0px; fill: rgb(178, 24, 43); fill-opacity: 1;\"/><path class=\"point\" transform=\"translate(581.33,183.5)\" d=\"M3,0A3,3 0 1,1 0,-3A3,3 0 0,1 3,0Z\" style=\"opacity: 1; stroke-width: 0px; fill: rgb(178, 24, 43); fill-opacity: 1;\"/><path class=\"point\" transform=\"translate(581.98,183.5)\" d=\"M3,0A3,3 0 1,1 0,-3A3,3 0 0,1 3,0Z\" style=\"opacity: 1; stroke-width: 0px; fill: rgb(178, 24, 43); fill-opacity: 1;\"/><path class=\"point\" transform=\"translate(582.1,183.5)\" d=\"M3,0A3,3 0 1,1 0,-3A3,3 0 0,1 3,0Z\" style=\"opacity: 1; stroke-width: 0px; fill: rgb(178, 24, 43); fill-opacity: 1;\"/><path class=\"point\" transform=\"translate(582.46,183.5)\" d=\"M3,0A3,3 0 1,1 0,-3A3,3 0 0,1 3,0Z\" style=\"opacity: 1; stroke-width: 0px; fill: rgb(178, 24, 43); fill-opacity: 1;\"/><path class=\"point\" transform=\"translate(582.84,183.5)\" d=\"M3,0A3,3 0 1,1 0,-3A3,3 0 0,1 3,0Z\" style=\"opacity: 1; stroke-width: 0px; fill: rgb(178, 24, 43); fill-opacity: 1;\"/><path class=\"point\" transform=\"translate(583.14,183.5)\" d=\"M3,0A3,3 0 1,1 0,-3A3,3 0 0,1 3,0Z\" style=\"opacity: 1; stroke-width: 0px; fill: rgb(178, 24, 43); fill-opacity: 1;\"/><path class=\"point\" transform=\"translate(583.27,183.5)\" d=\"M3,0A3,3 0 1,1 0,-3A3,3 0 0,1 3,0Z\" style=\"opacity: 1; stroke-width: 0px; fill: rgb(178, 24, 43); fill-opacity: 1;\"/><path class=\"point\" transform=\"translate(583.63,183.5)\" d=\"M3,0A3,3 0 1,1 0,-3A3,3 0 0,1 3,0Z\" style=\"opacity: 1; stroke-width: 0px; fill: rgb(178, 24, 43); fill-opacity: 1;\"/><path class=\"point\" transform=\"translate(583.71,183.5)\" d=\"M3,0A3,3 0 1,1 0,-3A3,3 0 0,1 3,0Z\" style=\"opacity: 1; stroke-width: 0px; fill: rgb(178, 24, 43); fill-opacity: 1;\"/><path class=\"point\" transform=\"translate(583.89,183.5)\" d=\"M3,0A3,3 0 1,1 0,-3A3,3 0 0,1 3,0Z\" style=\"opacity: 1; stroke-width: 0px; fill: rgb(178, 24, 43); fill-opacity: 1;\"/><path class=\"point\" transform=\"translate(584.15,183.5)\" d=\"M3,0A3,3 0 1,1 0,-3A3,3 0 0,1 3,0Z\" style=\"opacity: 1; stroke-width: 0px; fill: rgb(178, 24, 43); fill-opacity: 1;\"/><path class=\"point\" transform=\"translate(584.3,183.5)\" d=\"M3,0A3,3 0 1,1 0,-3A3,3 0 0,1 3,0Z\" style=\"opacity: 1; stroke-width: 0px; fill: rgb(178, 24, 43); fill-opacity: 1;\"/><path class=\"point\" transform=\"translate(584.42,183.5)\" d=\"M3,0A3,3 0 1,1 0,-3A3,3 0 0,1 3,0Z\" style=\"opacity: 1; stroke-width: 0px; fill: rgb(178, 24, 43); fill-opacity: 1;\"/><path class=\"point\" transform=\"translate(584.46,183.5)\" d=\"M3,0A3,3 0 1,1 0,-3A3,3 0 0,1 3,0Z\" style=\"opacity: 1; stroke-width: 0px; fill: rgb(178, 24, 43); fill-opacity: 1;\"/><path class=\"point\" transform=\"translate(584.59,183.5)\" d=\"M3,0A3,3 0 1,1 0,-3A3,3 0 0,1 3,0Z\" style=\"opacity: 1; stroke-width: 0px; fill: rgb(178, 24, 43); fill-opacity: 1;\"/><path class=\"point\" transform=\"translate(585.26,183.5)\" d=\"M3,0A3,3 0 1,1 0,-3A3,3 0 0,1 3,0Z\" style=\"opacity: 1; stroke-width: 0px; fill: rgb(178, 24, 43); fill-opacity: 1;\"/><path class=\"point\" transform=\"translate(585.39,183.5)\" d=\"M3,0A3,3 0 1,1 0,-3A3,3 0 0,1 3,0Z\" style=\"opacity: 1; stroke-width: 0px; fill: rgb(178, 24, 43); fill-opacity: 1;\"/><path class=\"point\" transform=\"translate(585.66,183.5)\" d=\"M3,0A3,3 0 1,1 0,-3A3,3 0 0,1 3,0Z\" style=\"opacity: 1; stroke-width: 0px; fill: rgb(178, 24, 43); fill-opacity: 1;\"/><path class=\"point\" transform=\"translate(585.92,183.5)\" d=\"M3,0A3,3 0 1,1 0,-3A3,3 0 0,1 3,0Z\" style=\"opacity: 1; stroke-width: 0px; fill: rgb(178, 24, 43); fill-opacity: 1;\"/><path class=\"point\" transform=\"translate(586.85,183.5)\" d=\"M3,0A3,3 0 1,1 0,-3A3,3 0 0,1 3,0Z\" style=\"opacity: 1; stroke-width: 0px; fill: rgb(178, 24, 43); fill-opacity: 1;\"/><path class=\"point\" transform=\"translate(587.03,183.5)\" d=\"M3,0A3,3 0 1,1 0,-3A3,3 0 0,1 3,0Z\" style=\"opacity: 1; stroke-width: 0px; fill: rgb(178, 24, 43); fill-opacity: 1;\"/><path class=\"point\" transform=\"translate(587.3,183.5)\" d=\"M3,0A3,3 0 1,1 0,-3A3,3 0 0,1 3,0Z\" style=\"opacity: 1; stroke-width: 0px; fill: rgb(178, 24, 43); fill-opacity: 1;\"/><path class=\"point\" transform=\"translate(587.42,183.5)\" d=\"M3,0A3,3 0 1,1 0,-3A3,3 0 0,1 3,0Z\" style=\"opacity: 1; stroke-width: 0px; fill: rgb(178, 24, 43); fill-opacity: 1;\"/><path class=\"point\" transform=\"translate(587.55,183.5)\" d=\"M3,0A3,3 0 1,1 0,-3A3,3 0 0,1 3,0Z\" style=\"opacity: 1; stroke-width: 0px; fill: rgb(178, 24, 43); fill-opacity: 1;\"/><path class=\"point\" transform=\"translate(587.57,183.5)\" d=\"M3,0A3,3 0 1,1 0,-3A3,3 0 0,1 3,0Z\" style=\"opacity: 1; stroke-width: 0px; fill: rgb(178, 24, 43); fill-opacity: 1;\"/><path class=\"point\" transform=\"translate(588.05,183.5)\" d=\"M3,0A3,3 0 1,1 0,-3A3,3 0 0,1 3,0Z\" style=\"opacity: 1; stroke-width: 0px; fill: rgb(178, 24, 43); fill-opacity: 1;\"/><path class=\"point\" transform=\"translate(588.21,183.5)\" d=\"M3,0A3,3 0 1,1 0,-3A3,3 0 0,1 3,0Z\" style=\"opacity: 1; stroke-width: 0px; fill: rgb(178, 24, 43); fill-opacity: 1;\"/><path class=\"point\" transform=\"translate(588.57,183.5)\" d=\"M3,0A3,3 0 1,1 0,-3A3,3 0 0,1 3,0Z\" style=\"opacity: 1; stroke-width: 0px; fill: rgb(178, 24, 43); fill-opacity: 1;\"/><path class=\"point\" transform=\"translate(588.72,183.5)\" d=\"M3,0A3,3 0 1,1 0,-3A3,3 0 0,1 3,0Z\" style=\"opacity: 1; stroke-width: 0px; fill: rgb(178, 24, 43); fill-opacity: 1;\"/><path class=\"point\" transform=\"translate(589.07,183.5)\" d=\"M3,0A3,3 0 1,1 0,-3A3,3 0 0,1 3,0Z\" style=\"opacity: 1; stroke-width: 0px; fill: rgb(178, 24, 43); fill-opacity: 1;\"/><path class=\"point\" transform=\"translate(589.07,183.5)\" d=\"M3,0A3,3 0 1,1 0,-3A3,3 0 0,1 3,0Z\" style=\"opacity: 1; stroke-width: 0px; fill: rgb(178, 24, 43); fill-opacity: 1;\"/><path class=\"point\" transform=\"translate(589.32,183.5)\" d=\"M3,0A3,3 0 1,1 0,-3A3,3 0 0,1 3,0Z\" style=\"opacity: 1; stroke-width: 0px; fill: rgb(178, 24, 43); fill-opacity: 1;\"/><path class=\"point\" transform=\"translate(589.51,183.5)\" d=\"M3,0A3,3 0 1,1 0,-3A3,3 0 0,1 3,0Z\" style=\"opacity: 1; stroke-width: 0px; fill: rgb(178, 24, 43); fill-opacity: 1;\"/><path class=\"point\" transform=\"translate(589.6,183.5)\" d=\"M3,0A3,3 0 1,1 0,-3A3,3 0 0,1 3,0Z\" style=\"opacity: 1; stroke-width: 0px; fill: rgb(178, 24, 43); fill-opacity: 1;\"/><path class=\"point\" transform=\"translate(589.84,183.5)\" d=\"M3,0A3,3 0 1,1 0,-3A3,3 0 0,1 3,0Z\" style=\"opacity: 1; stroke-width: 0px; fill: rgb(178, 24, 43); fill-opacity: 1;\"/><path class=\"point\" transform=\"translate(590.34,183.5)\" d=\"M3,0A3,3 0 1,1 0,-3A3,3 0 0,1 3,0Z\" style=\"opacity: 1; stroke-width: 0px; fill: rgb(178, 24, 43); fill-opacity: 1;\"/><path class=\"point\" transform=\"translate(590.37,183.5)\" d=\"M3,0A3,3 0 1,1 0,-3A3,3 0 0,1 3,0Z\" style=\"opacity: 1; stroke-width: 0px; fill: rgb(178, 24, 43); fill-opacity: 1;\"/><path class=\"point\" transform=\"translate(590.44,183.5)\" d=\"M3,0A3,3 0 1,1 0,-3A3,3 0 0,1 3,0Z\" style=\"opacity: 1; stroke-width: 0px; fill: rgb(178, 24, 43); fill-opacity: 1;\"/><path class=\"point\" transform=\"translate(590.53,183.5)\" d=\"M3,0A3,3 0 1,1 0,-3A3,3 0 0,1 3,0Z\" style=\"opacity: 1; stroke-width: 0px; fill: rgb(178, 24, 43); fill-opacity: 1;\"/><path class=\"point\" transform=\"translate(590.99,183.5)\" d=\"M3,0A3,3 0 1,1 0,-3A3,3 0 0,1 3,0Z\" style=\"opacity: 1; stroke-width: 0px; fill: rgb(178, 24, 43); fill-opacity: 1;\"/><path class=\"point\" transform=\"translate(591.44,183.5)\" d=\"M3,0A3,3 0 1,1 0,-3A3,3 0 0,1 3,0Z\" style=\"opacity: 1; stroke-width: 0px; fill: rgb(178, 24, 43); fill-opacity: 1;\"/><path class=\"point\" transform=\"translate(591.69,183.5)\" d=\"M3,0A3,3 0 1,1 0,-3A3,3 0 0,1 3,0Z\" style=\"opacity: 1; stroke-width: 0px; fill: rgb(178, 24, 43); fill-opacity: 1;\"/><path class=\"point\" transform=\"translate(591.9,183.5)\" d=\"M3,0A3,3 0 1,1 0,-3A3,3 0 0,1 3,0Z\" style=\"opacity: 1; stroke-width: 0px; fill: rgb(178, 24, 43); fill-opacity: 1;\"/><path class=\"point\" transform=\"translate(591.91,183.5)\" d=\"M3,0A3,3 0 1,1 0,-3A3,3 0 0,1 3,0Z\" style=\"opacity: 1; stroke-width: 0px; fill: rgb(178, 24, 43); fill-opacity: 1;\"/><path class=\"point\" transform=\"translate(592.14,183.5)\" d=\"M3,0A3,3 0 1,1 0,-3A3,3 0 0,1 3,0Z\" style=\"opacity: 1; stroke-width: 0px; fill: rgb(178, 24, 43); fill-opacity: 1;\"/><path class=\"point\" transform=\"translate(592.29,183.5)\" d=\"M3,0A3,3 0 1,1 0,-3A3,3 0 0,1 3,0Z\" style=\"opacity: 1; stroke-width: 0px; fill: rgb(178, 24, 43); fill-opacity: 1;\"/><path class=\"point\" transform=\"translate(592.31,183.5)\" d=\"M3,0A3,3 0 1,1 0,-3A3,3 0 0,1 3,0Z\" style=\"opacity: 1; stroke-width: 0px; fill: rgb(178, 24, 43); fill-opacity: 1;\"/><path class=\"point\" transform=\"translate(592.91,183.5)\" d=\"M3,0A3,3 0 1,1 0,-3A3,3 0 0,1 3,0Z\" style=\"opacity: 1; stroke-width: 0px; fill: rgb(178, 24, 43); fill-opacity: 1;\"/><path class=\"point\" transform=\"translate(593.16,183.5)\" d=\"M3,0A3,3 0 1,1 0,-3A3,3 0 0,1 3,0Z\" style=\"opacity: 1; stroke-width: 0px; fill: rgb(178, 24, 43); fill-opacity: 1;\"/><path class=\"point\" transform=\"translate(593.21,183.5)\" d=\"M3,0A3,3 0 1,1 0,-3A3,3 0 0,1 3,0Z\" style=\"opacity: 1; stroke-width: 0px; fill: rgb(178, 24, 43); fill-opacity: 1;\"/><path class=\"point\" transform=\"translate(594.23,183.5)\" d=\"M3,0A3,3 0 1,1 0,-3A3,3 0 0,1 3,0Z\" style=\"opacity: 1; stroke-width: 0px; fill: rgb(178, 24, 43); fill-opacity: 1;\"/><path class=\"point\" transform=\"translate(594.59,183.5)\" d=\"M3,0A3,3 0 1,1 0,-3A3,3 0 0,1 3,0Z\" style=\"opacity: 1; stroke-width: 0px; fill: rgb(178, 24, 43); fill-opacity: 1;\"/><path class=\"point\" transform=\"translate(594.72,183.5)\" d=\"M3,0A3,3 0 1,1 0,-3A3,3 0 0,1 3,0Z\" style=\"opacity: 1; stroke-width: 0px; fill: rgb(178, 24, 43); fill-opacity: 1;\"/><path class=\"point\" transform=\"translate(595.3,183.5)\" d=\"M3,0A3,3 0 1,1 0,-3A3,3 0 0,1 3,0Z\" style=\"opacity: 1; stroke-width: 0px; fill: rgb(178, 24, 43); fill-opacity: 1;\"/><path class=\"point\" transform=\"translate(595.32,183.5)\" d=\"M3,0A3,3 0 1,1 0,-3A3,3 0 0,1 3,0Z\" style=\"opacity: 1; stroke-width: 0px; fill: rgb(178, 24, 43); fill-opacity: 1;\"/><path class=\"point\" transform=\"translate(595.53,183.5)\" d=\"M3,0A3,3 0 1,1 0,-3A3,3 0 0,1 3,0Z\" style=\"opacity: 1; stroke-width: 0px; fill: rgb(178, 24, 43); fill-opacity: 1;\"/><path class=\"point\" transform=\"translate(595.54,183.5)\" d=\"M3,0A3,3 0 1,1 0,-3A3,3 0 0,1 3,0Z\" style=\"opacity: 1; stroke-width: 0px; fill: rgb(178, 24, 43); fill-opacity: 1;\"/><path class=\"point\" transform=\"translate(595.59,183.5)\" d=\"M3,0A3,3 0 1,1 0,-3A3,3 0 0,1 3,0Z\" style=\"opacity: 1; stroke-width: 0px; fill: rgb(178, 24, 43); fill-opacity: 1;\"/><path class=\"point\" transform=\"translate(595.72,183.5)\" d=\"M3,0A3,3 0 1,1 0,-3A3,3 0 0,1 3,0Z\" style=\"opacity: 1; stroke-width: 0px; fill: rgb(178, 24, 43); fill-opacity: 1;\"/><path class=\"point\" transform=\"translate(595.77,183.5)\" d=\"M3,0A3,3 0 1,1 0,-3A3,3 0 0,1 3,0Z\" style=\"opacity: 1; stroke-width: 0px; fill: rgb(178, 24, 43); fill-opacity: 1;\"/><path class=\"point\" transform=\"translate(595.79,183.5)\" d=\"M3,0A3,3 0 1,1 0,-3A3,3 0 0,1 3,0Z\" style=\"opacity: 1; stroke-width: 0px; fill: rgb(178, 24, 43); fill-opacity: 1;\"/><path class=\"point\" transform=\"translate(595.85,183.5)\" d=\"M3,0A3,3 0 1,1 0,-3A3,3 0 0,1 3,0Z\" style=\"opacity: 1; stroke-width: 0px; fill: rgb(178, 24, 43); fill-opacity: 1;\"/><path class=\"point\" transform=\"translate(595.98,183.5)\" d=\"M3,0A3,3 0 1,1 0,-3A3,3 0 0,1 3,0Z\" style=\"opacity: 1; stroke-width: 0px; fill: rgb(178, 24, 43); fill-opacity: 1;\"/><path class=\"point\" transform=\"translate(596.33,183.5)\" d=\"M3,0A3,3 0 1,1 0,-3A3,3 0 0,1 3,0Z\" style=\"opacity: 1; stroke-width: 0px; fill: rgb(178, 24, 43); fill-opacity: 1;\"/><path class=\"point\" transform=\"translate(597.2,183.5)\" d=\"M3,0A3,3 0 1,1 0,-3A3,3 0 0,1 3,0Z\" style=\"opacity: 1; stroke-width: 0px; fill: rgb(178, 24, 43); fill-opacity: 1;\"/><path class=\"point\" transform=\"translate(597.84,183.5)\" d=\"M3,0A3,3 0 1,1 0,-3A3,3 0 0,1 3,0Z\" style=\"opacity: 1; stroke-width: 0px; fill: rgb(178, 24, 43); fill-opacity: 1;\"/><path class=\"point\" transform=\"translate(598.14,183.5)\" d=\"M3,0A3,3 0 1,1 0,-3A3,3 0 0,1 3,0Z\" style=\"opacity: 1; stroke-width: 0px; fill: rgb(178, 24, 43); fill-opacity: 1;\"/><path class=\"point\" transform=\"translate(598.17,183.5)\" d=\"M3,0A3,3 0 1,1 0,-3A3,3 0 0,1 3,0Z\" style=\"opacity: 1; stroke-width: 0px; fill: rgb(178, 24, 43); fill-opacity: 1;\"/><path class=\"point\" transform=\"translate(598.49,183.5)\" d=\"M3,0A3,3 0 1,1 0,-3A3,3 0 0,1 3,0Z\" style=\"opacity: 1; stroke-width: 0px; fill: rgb(178, 24, 43); fill-opacity: 1;\"/><path class=\"point\" transform=\"translate(598.67,183.5)\" d=\"M3,0A3,3 0 1,1 0,-3A3,3 0 0,1 3,0Z\" style=\"opacity: 1; stroke-width: 0px; fill: rgb(178, 24, 43); fill-opacity: 1;\"/><path class=\"point\" transform=\"translate(598.75,183.5)\" d=\"M3,0A3,3 0 1,1 0,-3A3,3 0 0,1 3,0Z\" style=\"opacity: 1; stroke-width: 0px; fill: rgb(178, 24, 43); fill-opacity: 1;\"/><path class=\"point\" transform=\"translate(598.88,183.5)\" d=\"M3,0A3,3 0 1,1 0,-3A3,3 0 0,1 3,0Z\" style=\"opacity: 1; stroke-width: 0px; fill: rgb(178, 24, 43); fill-opacity: 1;\"/><path class=\"point\" transform=\"translate(599.68,183.5)\" d=\"M3,0A3,3 0 1,1 0,-3A3,3 0 0,1 3,0Z\" style=\"opacity: 1; stroke-width: 0px; fill: rgb(178, 24, 43); fill-opacity: 1;\"/><path class=\"point\" transform=\"translate(599.97,183.5)\" d=\"M3,0A3,3 0 1,1 0,-3A3,3 0 0,1 3,0Z\" style=\"opacity: 1; stroke-width: 0px; fill: rgb(178, 24, 43); fill-opacity: 1;\"/><path class=\"point\" transform=\"translate(600.63,183.5)\" d=\"M3,0A3,3 0 1,1 0,-3A3,3 0 0,1 3,0Z\" style=\"opacity: 1; stroke-width: 0px; fill: rgb(178, 24, 43); fill-opacity: 1;\"/><path class=\"point\" transform=\"translate(600.84,183.5)\" d=\"M3,0A3,3 0 1,1 0,-3A3,3 0 0,1 3,0Z\" style=\"opacity: 1; stroke-width: 0px; fill: rgb(178, 24, 43); fill-opacity: 1;\"/><path class=\"point\" transform=\"translate(600.94,183.5)\" d=\"M3,0A3,3 0 1,1 0,-3A3,3 0 0,1 3,0Z\" style=\"opacity: 1; stroke-width: 0px; fill: rgb(178, 24, 43); fill-opacity: 1;\"/><path class=\"point\" transform=\"translate(601.25,183.5)\" d=\"M3,0A3,3 0 1,1 0,-3A3,3 0 0,1 3,0Z\" style=\"opacity: 1; stroke-width: 0px; fill: rgb(178, 24, 43); fill-opacity: 1;\"/><path class=\"point\" transform=\"translate(601.73,183.5)\" d=\"M3,0A3,3 0 1,1 0,-3A3,3 0 0,1 3,0Z\" style=\"opacity: 1; stroke-width: 0px; fill: rgb(178, 24, 43); fill-opacity: 1;\"/><path class=\"point\" transform=\"translate(601.78,183.5)\" d=\"M3,0A3,3 0 1,1 0,-3A3,3 0 0,1 3,0Z\" style=\"opacity: 1; stroke-width: 0px; fill: rgb(178, 24, 43); fill-opacity: 1;\"/><path class=\"point\" transform=\"translate(601.97,183.5)\" d=\"M3,0A3,3 0 1,1 0,-3A3,3 0 0,1 3,0Z\" style=\"opacity: 1; stroke-width: 0px; fill: rgb(178, 24, 43); fill-opacity: 1;\"/><path class=\"point\" transform=\"translate(602.28,183.5)\" d=\"M3,0A3,3 0 1,1 0,-3A3,3 0 0,1 3,0Z\" style=\"opacity: 1; stroke-width: 0px; fill: rgb(178, 24, 43); fill-opacity: 1;\"/><path class=\"point\" transform=\"translate(602.59,183.5)\" d=\"M3,0A3,3 0 1,1 0,-3A3,3 0 0,1 3,0Z\" style=\"opacity: 1; stroke-width: 0px; fill: rgb(178, 24, 43); fill-opacity: 1;\"/><path class=\"point\" transform=\"translate(603.48,183.5)\" d=\"M3,0A3,3 0 1,1 0,-3A3,3 0 0,1 3,0Z\" style=\"opacity: 1; stroke-width: 0px; fill: rgb(178, 24, 43); fill-opacity: 1;\"/><path class=\"point\" transform=\"translate(603.69,183.5)\" d=\"M3,0A3,3 0 1,1 0,-3A3,3 0 0,1 3,0Z\" style=\"opacity: 1; stroke-width: 0px; fill: rgb(178, 24, 43); fill-opacity: 1;\"/><path class=\"point\" transform=\"translate(604.22,183.5)\" d=\"M3,0A3,3 0 1,1 0,-3A3,3 0 0,1 3,0Z\" style=\"opacity: 1; stroke-width: 0px; fill: rgb(178, 24, 43); fill-opacity: 1;\"/><path class=\"point\" transform=\"translate(604.32,183.5)\" d=\"M3,0A3,3 0 1,1 0,-3A3,3 0 0,1 3,0Z\" style=\"opacity: 1; stroke-width: 0px; fill: rgb(178, 24, 43); fill-opacity: 1;\"/><path class=\"point\" transform=\"translate(604.73,183.5)\" d=\"M3,0A3,3 0 1,1 0,-3A3,3 0 0,1 3,0Z\" style=\"opacity: 1; stroke-width: 0px; fill: rgb(178, 24, 43); fill-opacity: 1;\"/><path class=\"point\" transform=\"translate(604.9,183.5)\" d=\"M3,0A3,3 0 1,1 0,-3A3,3 0 0,1 3,0Z\" style=\"opacity: 1; stroke-width: 0px; fill: rgb(178, 24, 43); fill-opacity: 1;\"/><path class=\"point\" transform=\"translate(605.03,183.5)\" d=\"M3,0A3,3 0 1,1 0,-3A3,3 0 0,1 3,0Z\" style=\"opacity: 1; stroke-width: 0px; fill: rgb(178, 24, 43); fill-opacity: 1;\"/><path class=\"point\" transform=\"translate(605.24,183.5)\" d=\"M3,0A3,3 0 1,1 0,-3A3,3 0 0,1 3,0Z\" style=\"opacity: 1; stroke-width: 0px; fill: rgb(178, 24, 43); fill-opacity: 1;\"/><path class=\"point\" transform=\"translate(605.26,183.5)\" d=\"M3,0A3,3 0 1,1 0,-3A3,3 0 0,1 3,0Z\" style=\"opacity: 1; stroke-width: 0px; fill: rgb(178, 24, 43); fill-opacity: 1;\"/><path class=\"point\" transform=\"translate(605.51,183.5)\" d=\"M3,0A3,3 0 1,1 0,-3A3,3 0 0,1 3,0Z\" style=\"opacity: 1; stroke-width: 0px; fill: rgb(178, 24, 43); fill-opacity: 1;\"/><path class=\"point\" transform=\"translate(605.98,183.5)\" d=\"M3,0A3,3 0 1,1 0,-3A3,3 0 0,1 3,0Z\" style=\"opacity: 1; stroke-width: 0px; fill: rgb(178, 24, 43); fill-opacity: 1;\"/><path class=\"point\" transform=\"translate(606.02,183.5)\" d=\"M3,0A3,3 0 1,1 0,-3A3,3 0 0,1 3,0Z\" style=\"opacity: 1; stroke-width: 0px; fill: rgb(178, 24, 43); fill-opacity: 1;\"/><path class=\"point\" transform=\"translate(606.63,183.5)\" d=\"M3,0A3,3 0 1,1 0,-3A3,3 0 0,1 3,0Z\" style=\"opacity: 1; stroke-width: 0px; fill: rgb(178, 24, 43); fill-opacity: 1;\"/><path class=\"point\" transform=\"translate(607.08,183.5)\" d=\"M3,0A3,3 0 1,1 0,-3A3,3 0 0,1 3,0Z\" style=\"opacity: 1; stroke-width: 0px; fill: rgb(178, 24, 43); fill-opacity: 1;\"/><path class=\"point\" transform=\"translate(607.18,183.5)\" d=\"M3,0A3,3 0 1,1 0,-3A3,3 0 0,1 3,0Z\" style=\"opacity: 1; stroke-width: 0px; fill: rgb(178, 24, 43); fill-opacity: 1;\"/><path class=\"point\" transform=\"translate(607.3,183.5)\" d=\"M3,0A3,3 0 1,1 0,-3A3,3 0 0,1 3,0Z\" style=\"opacity: 1; stroke-width: 0px; fill: rgb(178, 24, 43); fill-opacity: 1;\"/><path class=\"point\" transform=\"translate(607.45,183.5)\" d=\"M3,0A3,3 0 1,1 0,-3A3,3 0 0,1 3,0Z\" style=\"opacity: 1; stroke-width: 0px; fill: rgb(178, 24, 43); fill-opacity: 1;\"/><path class=\"point\" transform=\"translate(607.99,183.5)\" d=\"M3,0A3,3 0 1,1 0,-3A3,3 0 0,1 3,0Z\" style=\"opacity: 1; stroke-width: 0px; fill: rgb(178, 24, 43); fill-opacity: 1;\"/><path class=\"point\" transform=\"translate(608.36,183.5)\" d=\"M3,0A3,3 0 1,1 0,-3A3,3 0 0,1 3,0Z\" style=\"opacity: 1; stroke-width: 0px; fill: rgb(178, 24, 43); fill-opacity: 1;\"/><path class=\"point\" transform=\"translate(608.47,183.5)\" d=\"M3,0A3,3 0 1,1 0,-3A3,3 0 0,1 3,0Z\" style=\"opacity: 1; stroke-width: 0px; fill: rgb(178, 24, 43); fill-opacity: 1;\"/><path class=\"point\" transform=\"translate(608.54,183.5)\" d=\"M3,0A3,3 0 1,1 0,-3A3,3 0 0,1 3,0Z\" style=\"opacity: 1; stroke-width: 0px; fill: rgb(178, 24, 43); fill-opacity: 1;\"/><path class=\"point\" transform=\"translate(608.68,183.5)\" d=\"M3,0A3,3 0 1,1 0,-3A3,3 0 0,1 3,0Z\" style=\"opacity: 1; stroke-width: 0px; fill: rgb(178, 24, 43); fill-opacity: 1;\"/><path class=\"point\" transform=\"translate(608.78,183.5)\" d=\"M3,0A3,3 0 1,1 0,-3A3,3 0 0,1 3,0Z\" style=\"opacity: 1; stroke-width: 0px; fill: rgb(178, 24, 43); fill-opacity: 1;\"/><path class=\"point\" transform=\"translate(608.83,183.5)\" d=\"M3,0A3,3 0 1,1 0,-3A3,3 0 0,1 3,0Z\" style=\"opacity: 1; stroke-width: 0px; fill: rgb(178, 24, 43); fill-opacity: 1;\"/><path class=\"point\" transform=\"translate(608.96,183.5)\" d=\"M3,0A3,3 0 1,1 0,-3A3,3 0 0,1 3,0Z\" style=\"opacity: 1; stroke-width: 0px; fill: rgb(178, 24, 43); fill-opacity: 1;\"/><path class=\"point\" transform=\"translate(609.19,183.5)\" d=\"M3,0A3,3 0 1,1 0,-3A3,3 0 0,1 3,0Z\" style=\"opacity: 1; stroke-width: 0px; fill: rgb(178, 24, 43); fill-opacity: 1;\"/><path class=\"point\" transform=\"translate(609.26,183.5)\" d=\"M3,0A3,3 0 1,1 0,-3A3,3 0 0,1 3,0Z\" style=\"opacity: 1; stroke-width: 0px; fill: rgb(178, 24, 43); fill-opacity: 1;\"/><path class=\"point\" transform=\"translate(609.38,183.5)\" d=\"M3,0A3,3 0 1,1 0,-3A3,3 0 0,1 3,0Z\" style=\"opacity: 1; stroke-width: 0px; fill: rgb(178, 24, 43); fill-opacity: 1;\"/><path class=\"point\" transform=\"translate(609.51,183.5)\" d=\"M3,0A3,3 0 1,1 0,-3A3,3 0 0,1 3,0Z\" style=\"opacity: 1; stroke-width: 0px; fill: rgb(178, 24, 43); fill-opacity: 1;\"/><path class=\"point\" transform=\"translate(610.79,183.5)\" d=\"M3,0A3,3 0 1,1 0,-3A3,3 0 0,1 3,0Z\" style=\"opacity: 1; stroke-width: 0px; fill: rgb(178, 24, 43); fill-opacity: 1;\"/><path class=\"point\" transform=\"translate(611.72,183.5)\" d=\"M3,0A3,3 0 1,1 0,-3A3,3 0 0,1 3,0Z\" style=\"opacity: 1; stroke-width: 0px; fill: rgb(178, 24, 43); fill-opacity: 1;\"/><path class=\"point\" transform=\"translate(612.23,183.5)\" d=\"M3,0A3,3 0 1,1 0,-3A3,3 0 0,1 3,0Z\" style=\"opacity: 1; stroke-width: 0px; fill: rgb(178, 24, 43); fill-opacity: 1;\"/><path class=\"point\" transform=\"translate(612.8,183.5)\" d=\"M3,0A3,3 0 1,1 0,-3A3,3 0 0,1 3,0Z\" style=\"opacity: 1; stroke-width: 0px; fill: rgb(178, 24, 43); fill-opacity: 1;\"/><path class=\"point\" transform=\"translate(613.68,183.5)\" d=\"M3,0A3,3 0 1,1 0,-3A3,3 0 0,1 3,0Z\" style=\"opacity: 1; stroke-width: 0px; fill: rgb(178, 24, 43); fill-opacity: 1;\"/><path class=\"point\" transform=\"translate(614.29,183.5)\" d=\"M3,0A3,3 0 1,1 0,-3A3,3 0 0,1 3,0Z\" style=\"opacity: 1; stroke-width: 0px; fill: rgb(178, 24, 43); fill-opacity: 1;\"/><path class=\"point\" transform=\"translate(615.08,183.5)\" d=\"M3,0A3,3 0 1,1 0,-3A3,3 0 0,1 3,0Z\" style=\"opacity: 1; stroke-width: 0px; fill: rgb(178, 24, 43); fill-opacity: 1;\"/><path class=\"point\" transform=\"translate(615.23,183.5)\" d=\"M3,0A3,3 0 1,1 0,-3A3,3 0 0,1 3,0Z\" style=\"opacity: 1; stroke-width: 0px; fill: rgb(178, 24, 43); fill-opacity: 1;\"/><path class=\"point\" transform=\"translate(615.29,183.5)\" d=\"M3,0A3,3 0 1,1 0,-3A3,3 0 0,1 3,0Z\" style=\"opacity: 1; stroke-width: 0px; fill: rgb(178, 24, 43); fill-opacity: 1;\"/><path class=\"point\" transform=\"translate(615.31,183.5)\" d=\"M3,0A3,3 0 1,1 0,-3A3,3 0 0,1 3,0Z\" style=\"opacity: 1; stroke-width: 0px; fill: rgb(178, 24, 43); fill-opacity: 1;\"/><path class=\"point\" transform=\"translate(615.35,183.5)\" d=\"M3,0A3,3 0 1,1 0,-3A3,3 0 0,1 3,0Z\" style=\"opacity: 1; stroke-width: 0px; fill: rgb(178, 24, 43); fill-opacity: 1;\"/><path class=\"point\" transform=\"translate(615.47,183.5)\" d=\"M3,0A3,3 0 1,1 0,-3A3,3 0 0,1 3,0Z\" style=\"opacity: 1; stroke-width: 0px; fill: rgb(178, 24, 43); fill-opacity: 1;\"/><path class=\"point\" transform=\"translate(615.6,183.5)\" d=\"M3,0A3,3 0 1,1 0,-3A3,3 0 0,1 3,0Z\" style=\"opacity: 1; stroke-width: 0px; fill: rgb(178, 24, 43); fill-opacity: 1;\"/><path class=\"point\" transform=\"translate(616.38,183.5)\" d=\"M3,0A3,3 0 1,1 0,-3A3,3 0 0,1 3,0Z\" style=\"opacity: 1; stroke-width: 0px; fill: rgb(178, 24, 43); fill-opacity: 1;\"/><path class=\"point\" transform=\"translate(616.7,183.5)\" d=\"M3,0A3,3 0 1,1 0,-3A3,3 0 0,1 3,0Z\" style=\"opacity: 1; stroke-width: 0px; fill: rgb(178, 24, 43); fill-opacity: 1;\"/><path class=\"point\" transform=\"translate(617.08,183.5)\" d=\"M3,0A3,3 0 1,1 0,-3A3,3 0 0,1 3,0Z\" style=\"opacity: 1; stroke-width: 0px; fill: rgb(178, 24, 43); fill-opacity: 1;\"/><path class=\"point\" transform=\"translate(617.13,183.5)\" d=\"M3,0A3,3 0 1,1 0,-3A3,3 0 0,1 3,0Z\" style=\"opacity: 1; stroke-width: 0px; fill: rgb(178, 24, 43); fill-opacity: 1;\"/><path class=\"point\" transform=\"translate(617.28,183.5)\" d=\"M3,0A3,3 0 1,1 0,-3A3,3 0 0,1 3,0Z\" style=\"opacity: 1; stroke-width: 0px; fill: rgb(178, 24, 43); fill-opacity: 1;\"/><path class=\"point\" transform=\"translate(617.87,183.5)\" d=\"M3,0A3,3 0 1,1 0,-3A3,3 0 0,1 3,0Z\" style=\"opacity: 1; stroke-width: 0px; fill: rgb(178, 24, 43); fill-opacity: 1;\"/><path class=\"point\" transform=\"translate(618.21,183.5)\" d=\"M3,0A3,3 0 1,1 0,-3A3,3 0 0,1 3,0Z\" style=\"opacity: 1; stroke-width: 0px; fill: rgb(178, 24, 43); fill-opacity: 1;\"/><path class=\"point\" transform=\"translate(618.75,183.5)\" d=\"M3,0A3,3 0 1,1 0,-3A3,3 0 0,1 3,0Z\" style=\"opacity: 1; stroke-width: 0px; fill: rgb(178, 24, 43); fill-opacity: 1;\"/><path class=\"point\" transform=\"translate(619.06,183.5)\" d=\"M3,0A3,3 0 1,1 0,-3A3,3 0 0,1 3,0Z\" style=\"opacity: 1; stroke-width: 0px; fill: rgb(178, 24, 43); fill-opacity: 1;\"/><path class=\"point\" transform=\"translate(620.44,183.5)\" d=\"M3,0A3,3 0 1,1 0,-3A3,3 0 0,1 3,0Z\" style=\"opacity: 1; stroke-width: 0px; fill: rgb(178, 24, 43); fill-opacity: 1;\"/><path class=\"point\" transform=\"translate(620.47,183.5)\" d=\"M3,0A3,3 0 1,1 0,-3A3,3 0 0,1 3,0Z\" style=\"opacity: 1; stroke-width: 0px; fill: rgb(178, 24, 43); fill-opacity: 1;\"/><path class=\"point\" transform=\"translate(620.52,183.5)\" d=\"M3,0A3,3 0 1,1 0,-3A3,3 0 0,1 3,0Z\" style=\"opacity: 1; stroke-width: 0px; fill: rgb(178, 24, 43); fill-opacity: 1;\"/><path class=\"point\" transform=\"translate(620.69,183.5)\" d=\"M3,0A3,3 0 1,1 0,-3A3,3 0 0,1 3,0Z\" style=\"opacity: 1; stroke-width: 0px; fill: rgb(178, 24, 43); fill-opacity: 1;\"/><path class=\"point\" transform=\"translate(620.79,183.5)\" d=\"M3,0A3,3 0 1,1 0,-3A3,3 0 0,1 3,0Z\" style=\"opacity: 1; stroke-width: 0px; fill: rgb(178, 24, 43); fill-opacity: 1;\"/><path class=\"point\" transform=\"translate(621.19,183.5)\" d=\"M3,0A3,3 0 1,1 0,-3A3,3 0 0,1 3,0Z\" style=\"opacity: 1; stroke-width: 0px; fill: rgb(178, 24, 43); fill-opacity: 1;\"/><path class=\"point\" transform=\"translate(621.9,183.5)\" d=\"M3,0A3,3 0 1,1 0,-3A3,3 0 0,1 3,0Z\" style=\"opacity: 1; stroke-width: 0px; fill: rgb(178, 24, 43); fill-opacity: 1;\"/><path class=\"point\" transform=\"translate(622.36,183.5)\" d=\"M3,0A3,3 0 1,1 0,-3A3,3 0 0,1 3,0Z\" style=\"opacity: 1; stroke-width: 0px; fill: rgb(178, 24, 43); fill-opacity: 1;\"/><path class=\"point\" transform=\"translate(622.62,183.5)\" d=\"M3,0A3,3 0 1,1 0,-3A3,3 0 0,1 3,0Z\" style=\"opacity: 1; stroke-width: 0px; fill: rgb(178, 24, 43); fill-opacity: 1;\"/><path class=\"point\" transform=\"translate(622.66,183.5)\" d=\"M3,0A3,3 0 1,1 0,-3A3,3 0 0,1 3,0Z\" style=\"opacity: 1; stroke-width: 0px; fill: rgb(178, 24, 43); fill-opacity: 1;\"/><path class=\"point\" transform=\"translate(623.42,183.5)\" d=\"M3,0A3,3 0 1,1 0,-3A3,3 0 0,1 3,0Z\" style=\"opacity: 1; stroke-width: 0px; fill: rgb(178, 24, 43); fill-opacity: 1;\"/><path class=\"point\" transform=\"translate(623.63,183.5)\" d=\"M3,0A3,3 0 1,1 0,-3A3,3 0 0,1 3,0Z\" style=\"opacity: 1; stroke-width: 0px; fill: rgb(178, 24, 43); fill-opacity: 1;\"/><path class=\"point\" transform=\"translate(624.52,183.5)\" d=\"M3,0A3,3 0 1,1 0,-3A3,3 0 0,1 3,0Z\" style=\"opacity: 1; stroke-width: 0px; fill: rgb(178, 24, 43); fill-opacity: 1;\"/><path class=\"point\" transform=\"translate(624.54,183.5)\" d=\"M3,0A3,3 0 1,1 0,-3A3,3 0 0,1 3,0Z\" style=\"opacity: 1; stroke-width: 0px; fill: rgb(178, 24, 43); fill-opacity: 1;\"/><path class=\"point\" transform=\"translate(624.56,183.5)\" d=\"M3,0A3,3 0 1,1 0,-3A3,3 0 0,1 3,0Z\" style=\"opacity: 1; stroke-width: 0px; fill: rgb(178, 24, 43); fill-opacity: 1;\"/><path class=\"point\" transform=\"translate(624.88,183.5)\" d=\"M3,0A3,3 0 1,1 0,-3A3,3 0 0,1 3,0Z\" style=\"opacity: 1; stroke-width: 0px; fill: rgb(178, 24, 43); fill-opacity: 1;\"/><path class=\"point\" transform=\"translate(624.88,183.5)\" d=\"M3,0A3,3 0 1,1 0,-3A3,3 0 0,1 3,0Z\" style=\"opacity: 1; stroke-width: 0px; fill: rgb(178, 24, 43); fill-opacity: 1;\"/><path class=\"point\" transform=\"translate(626.23,183.5)\" d=\"M3,0A3,3 0 1,1 0,-3A3,3 0 0,1 3,0Z\" style=\"opacity: 1; stroke-width: 0px; fill: rgb(178, 24, 43); fill-opacity: 1;\"/><path class=\"point\" transform=\"translate(626.28,183.5)\" d=\"M3,0A3,3 0 1,1 0,-3A3,3 0 0,1 3,0Z\" style=\"opacity: 1; stroke-width: 0px; fill: rgb(178, 24, 43); fill-opacity: 1;\"/><path class=\"point\" transform=\"translate(626.71,183.5)\" d=\"M3,0A3,3 0 1,1 0,-3A3,3 0 0,1 3,0Z\" style=\"opacity: 1; stroke-width: 0px; fill: rgb(178, 24, 43); fill-opacity: 1;\"/><path class=\"point\" transform=\"translate(626.84,183.5)\" d=\"M3,0A3,3 0 1,1 0,-3A3,3 0 0,1 3,0Z\" style=\"opacity: 1; stroke-width: 0px; fill: rgb(178, 24, 43); fill-opacity: 1;\"/><path class=\"point\" transform=\"translate(627.65,183.5)\" d=\"M3,0A3,3 0 1,1 0,-3A3,3 0 0,1 3,0Z\" style=\"opacity: 1; stroke-width: 0px; fill: rgb(178, 24, 43); fill-opacity: 1;\"/><path class=\"point\" transform=\"translate(627.76,183.5)\" d=\"M3,0A3,3 0 1,1 0,-3A3,3 0 0,1 3,0Z\" style=\"opacity: 1; stroke-width: 0px; fill: rgb(178, 24, 43); fill-opacity: 1;\"/><path class=\"point\" transform=\"translate(627.96,183.5)\" d=\"M3,0A3,3 0 1,1 0,-3A3,3 0 0,1 3,0Z\" style=\"opacity: 1; stroke-width: 0px; fill: rgb(178, 24, 43); fill-opacity: 1;\"/><path class=\"point\" transform=\"translate(628.24,183.5)\" d=\"M3,0A3,3 0 1,1 0,-3A3,3 0 0,1 3,0Z\" style=\"opacity: 1; stroke-width: 0px; fill: rgb(178, 24, 43); fill-opacity: 1;\"/><path class=\"point\" transform=\"translate(628.71,183.5)\" d=\"M3,0A3,3 0 1,1 0,-3A3,3 0 0,1 3,0Z\" style=\"opacity: 1; stroke-width: 0px; fill: rgb(178, 24, 43); fill-opacity: 1;\"/><path class=\"point\" transform=\"translate(628.83,183.5)\" d=\"M3,0A3,3 0 1,1 0,-3A3,3 0 0,1 3,0Z\" style=\"opacity: 1; stroke-width: 0px; fill: rgb(178, 24, 43); fill-opacity: 1;\"/><path class=\"point\" transform=\"translate(629.57,183.5)\" d=\"M3,0A3,3 0 1,1 0,-3A3,3 0 0,1 3,0Z\" style=\"opacity: 1; stroke-width: 0px; fill: rgb(178, 24, 43); fill-opacity: 1;\"/><path class=\"point\" transform=\"translate(630.03,183.5)\" d=\"M3,0A3,3 0 1,1 0,-3A3,3 0 0,1 3,0Z\" style=\"opacity: 1; stroke-width: 0px; fill: rgb(178, 24, 43); fill-opacity: 1;\"/><path class=\"point\" transform=\"translate(630.09,183.5)\" d=\"M3,0A3,3 0 1,1 0,-3A3,3 0 0,1 3,0Z\" style=\"opacity: 1; stroke-width: 0px; fill: rgb(178, 24, 43); fill-opacity: 1;\"/><path class=\"point\" transform=\"translate(630.09,183.5)\" d=\"M3,0A3,3 0 1,1 0,-3A3,3 0 0,1 3,0Z\" style=\"opacity: 1; stroke-width: 0px; fill: rgb(178, 24, 43); fill-opacity: 1;\"/><path class=\"point\" transform=\"translate(630.18,183.5)\" d=\"M3,0A3,3 0 1,1 0,-3A3,3 0 0,1 3,0Z\" style=\"opacity: 1; stroke-width: 0px; fill: rgb(178, 24, 43); fill-opacity: 1;\"/><path class=\"point\" transform=\"translate(630.66,183.5)\" d=\"M3,0A3,3 0 1,1 0,-3A3,3 0 0,1 3,0Z\" style=\"opacity: 1; stroke-width: 0px; fill: rgb(178, 24, 43); fill-opacity: 1;\"/><path class=\"point\" transform=\"translate(630.74,183.5)\" d=\"M3,0A3,3 0 1,1 0,-3A3,3 0 0,1 3,0Z\" style=\"opacity: 1; stroke-width: 0px; fill: rgb(178, 24, 43); fill-opacity: 1;\"/><path class=\"point\" transform=\"translate(631.4,183.5)\" d=\"M3,0A3,3 0 1,1 0,-3A3,3 0 0,1 3,0Z\" style=\"opacity: 1; stroke-width: 0px; fill: rgb(178, 24, 43); fill-opacity: 1;\"/><path class=\"point\" transform=\"translate(631.51,183.5)\" d=\"M3,0A3,3 0 1,1 0,-3A3,3 0 0,1 3,0Z\" style=\"opacity: 1; stroke-width: 0px; fill: rgb(178, 24, 43); fill-opacity: 1;\"/><path class=\"point\" transform=\"translate(632.06,183.5)\" d=\"M3,0A3,3 0 1,1 0,-3A3,3 0 0,1 3,0Z\" style=\"opacity: 1; stroke-width: 0px; fill: rgb(178, 24, 43); fill-opacity: 1;\"/><path class=\"point\" transform=\"translate(632.57,183.5)\" d=\"M3,0A3,3 0 1,1 0,-3A3,3 0 0,1 3,0Z\" style=\"opacity: 1; stroke-width: 0px; fill: rgb(178, 24, 43); fill-opacity: 1;\"/><path class=\"point\" transform=\"translate(632.59,183.5)\" d=\"M3,0A3,3 0 1,1 0,-3A3,3 0 0,1 3,0Z\" style=\"opacity: 1; stroke-width: 0px; fill: rgb(178, 24, 43); fill-opacity: 1;\"/><path class=\"point\" transform=\"translate(632.75,183.5)\" d=\"M3,0A3,3 0 1,1 0,-3A3,3 0 0,1 3,0Z\" style=\"opacity: 1; stroke-width: 0px; fill: rgb(178, 24, 43); fill-opacity: 1;\"/><path class=\"point\" transform=\"translate(633.57,183.5)\" d=\"M3,0A3,3 0 1,1 0,-3A3,3 0 0,1 3,0Z\" style=\"opacity: 1; stroke-width: 0px; fill: rgb(178, 24, 43); fill-opacity: 1;\"/><path class=\"point\" transform=\"translate(633.71,183.5)\" d=\"M3,0A3,3 0 1,1 0,-3A3,3 0 0,1 3,0Z\" style=\"opacity: 1; stroke-width: 0px; fill: rgb(178, 24, 43); fill-opacity: 1;\"/><path class=\"point\" transform=\"translate(634.3,183.5)\" d=\"M3,0A3,3 0 1,1 0,-3A3,3 0 0,1 3,0Z\" style=\"opacity: 1; stroke-width: 0px; fill: rgb(178, 24, 43); fill-opacity: 1;\"/><path class=\"point\" transform=\"translate(634.31,183.5)\" d=\"M3,0A3,3 0 1,1 0,-3A3,3 0 0,1 3,0Z\" style=\"opacity: 1; stroke-width: 0px; fill: rgb(178, 24, 43); fill-opacity: 1;\"/><path class=\"point\" transform=\"translate(635.09,183.5)\" d=\"M3,0A3,3 0 1,1 0,-3A3,3 0 0,1 3,0Z\" style=\"opacity: 1; stroke-width: 0px; fill: rgb(178, 24, 43); fill-opacity: 1;\"/><path class=\"point\" transform=\"translate(635.43,183.5)\" d=\"M3,0A3,3 0 1,1 0,-3A3,3 0 0,1 3,0Z\" style=\"opacity: 1; stroke-width: 0px; fill: rgb(178, 24, 43); fill-opacity: 1;\"/><path class=\"point\" transform=\"translate(635.45,183.5)\" d=\"M3,0A3,3 0 1,1 0,-3A3,3 0 0,1 3,0Z\" style=\"opacity: 1; stroke-width: 0px; fill: rgb(178, 24, 43); fill-opacity: 1;\"/><path class=\"point\" transform=\"translate(635.66,183.5)\" d=\"M3,0A3,3 0 1,1 0,-3A3,3 0 0,1 3,0Z\" style=\"opacity: 1; stroke-width: 0px; fill: rgb(178, 24, 43); fill-opacity: 1;\"/><path class=\"point\" transform=\"translate(635.83,183.5)\" d=\"M3,0A3,3 0 1,1 0,-3A3,3 0 0,1 3,0Z\" style=\"opacity: 1; stroke-width: 0px; fill: rgb(178, 24, 43); fill-opacity: 1;\"/><path class=\"point\" transform=\"translate(636.11,183.5)\" d=\"M3,0A3,3 0 1,1 0,-3A3,3 0 0,1 3,0Z\" style=\"opacity: 1; stroke-width: 0px; fill: rgb(178, 24, 43); fill-opacity: 1;\"/><path class=\"point\" transform=\"translate(637.35,183.5)\" d=\"M3,0A3,3 0 1,1 0,-3A3,3 0 0,1 3,0Z\" style=\"opacity: 1; stroke-width: 0px; fill: rgb(178, 24, 43); fill-opacity: 1;\"/><path class=\"point\" transform=\"translate(637.39,183.5)\" d=\"M3,0A3,3 0 1,1 0,-3A3,3 0 0,1 3,0Z\" style=\"opacity: 1; stroke-width: 0px; fill: rgb(178, 24, 43); fill-opacity: 1;\"/><path class=\"point\" transform=\"translate(638.31,183.5)\" d=\"M3,0A3,3 0 1,1 0,-3A3,3 0 0,1 3,0Z\" style=\"opacity: 1; stroke-width: 0px; fill: rgb(178, 24, 43); fill-opacity: 1;\"/><path class=\"point\" transform=\"translate(638.33,183.5)\" d=\"M3,0A3,3 0 1,1 0,-3A3,3 0 0,1 3,0Z\" style=\"opacity: 1; stroke-width: 0px; fill: rgb(178, 24, 43); fill-opacity: 1;\"/><path class=\"point\" transform=\"translate(639.22,183.5)\" d=\"M3,0A3,3 0 1,1 0,-3A3,3 0 0,1 3,0Z\" style=\"opacity: 1; stroke-width: 0px; fill: rgb(178, 24, 43); fill-opacity: 1;\"/><path class=\"point\" transform=\"translate(639.52,183.5)\" d=\"M3,0A3,3 0 1,1 0,-3A3,3 0 0,1 3,0Z\" style=\"opacity: 1; stroke-width: 0px; fill: rgb(178, 24, 43); fill-opacity: 1;\"/><path class=\"point\" transform=\"translate(640.24,183.5)\" d=\"M3,0A3,3 0 1,1 0,-3A3,3 0 0,1 3,0Z\" style=\"opacity: 1; stroke-width: 0px; fill: rgb(178, 24, 43); fill-opacity: 1;\"/><path class=\"point\" transform=\"translate(640.43,183.5)\" d=\"M3,0A3,3 0 1,1 0,-3A3,3 0 0,1 3,0Z\" style=\"opacity: 1; stroke-width: 0px; fill: rgb(178, 24, 43); fill-opacity: 1;\"/><path class=\"point\" transform=\"translate(640.84,183.5)\" d=\"M3,0A3,3 0 1,1 0,-3A3,3 0 0,1 3,0Z\" style=\"opacity: 1; stroke-width: 0px; fill: rgb(178, 24, 43); fill-opacity: 1;\"/><path class=\"point\" transform=\"translate(641.51,183.5)\" d=\"M3,0A3,3 0 1,1 0,-3A3,3 0 0,1 3,0Z\" style=\"opacity: 1; stroke-width: 0px; fill: rgb(178, 24, 43); fill-opacity: 1;\"/><path class=\"point\" transform=\"translate(641.65,183.5)\" d=\"M3,0A3,3 0 1,1 0,-3A3,3 0 0,1 3,0Z\" style=\"opacity: 1; stroke-width: 0px; fill: rgb(178, 24, 43); fill-opacity: 1;\"/><path class=\"point\" transform=\"translate(642.86,183.5)\" d=\"M3,0A3,3 0 1,1 0,-3A3,3 0 0,1 3,0Z\" style=\"opacity: 1; stroke-width: 0px; fill: rgb(178, 24, 43); fill-opacity: 1;\"/><path class=\"point\" transform=\"translate(642.99,183.5)\" d=\"M3,0A3,3 0 1,1 0,-3A3,3 0 0,1 3,0Z\" style=\"opacity: 1; stroke-width: 0px; fill: rgb(178, 24, 43); fill-opacity: 1;\"/><path class=\"point\" transform=\"translate(643.38,183.5)\" d=\"M3,0A3,3 0 1,1 0,-3A3,3 0 0,1 3,0Z\" style=\"opacity: 1; stroke-width: 0px; fill: rgb(178, 24, 43); fill-opacity: 1;\"/><path class=\"point\" transform=\"translate(643.64,183.5)\" d=\"M3,0A3,3 0 1,1 0,-3A3,3 0 0,1 3,0Z\" style=\"opacity: 1; stroke-width: 0px; fill: rgb(178, 24, 43); fill-opacity: 1;\"/><path class=\"point\" transform=\"translate(643.82,183.5)\" d=\"M3,0A3,3 0 1,1 0,-3A3,3 0 0,1 3,0Z\" style=\"opacity: 1; stroke-width: 0px; fill: rgb(178, 24, 43); fill-opacity: 1;\"/><path class=\"point\" transform=\"translate(643.9,183.5)\" d=\"M3,0A3,3 0 1,1 0,-3A3,3 0 0,1 3,0Z\" style=\"opacity: 1; stroke-width: 0px; fill: rgb(178, 24, 43); fill-opacity: 1;\"/><path class=\"point\" transform=\"translate(645.16,183.5)\" d=\"M3,0A3,3 0 1,1 0,-3A3,3 0 0,1 3,0Z\" style=\"opacity: 1; stroke-width: 0px; fill: rgb(178, 24, 43); fill-opacity: 1;\"/><path class=\"point\" transform=\"translate(646.4,183.5)\" d=\"M3,0A3,3 0 1,1 0,-3A3,3 0 0,1 3,0Z\" style=\"opacity: 1; stroke-width: 0px; fill: rgb(178, 24, 43); fill-opacity: 1;\"/><path class=\"point\" transform=\"translate(646.52,183.5)\" d=\"M3,0A3,3 0 1,1 0,-3A3,3 0 0,1 3,0Z\" style=\"opacity: 1; stroke-width: 0px; fill: rgb(178, 24, 43); fill-opacity: 1;\"/><path class=\"point\" transform=\"translate(646.74,183.5)\" d=\"M3,0A3,3 0 1,1 0,-3A3,3 0 0,1 3,0Z\" style=\"opacity: 1; stroke-width: 0px; fill: rgb(178, 24, 43); fill-opacity: 1;\"/><path class=\"point\" transform=\"translate(647.21,183.5)\" d=\"M3,0A3,3 0 1,1 0,-3A3,3 0 0,1 3,0Z\" style=\"opacity: 1; stroke-width: 0px; fill: rgb(178, 24, 43); fill-opacity: 1;\"/><path class=\"point\" transform=\"translate(647.67,183.5)\" d=\"M3,0A3,3 0 1,1 0,-3A3,3 0 0,1 3,0Z\" style=\"opacity: 1; stroke-width: 0px; fill: rgb(178, 24, 43); fill-opacity: 1;\"/><path class=\"point\" transform=\"translate(648.06,183.5)\" d=\"M3,0A3,3 0 1,1 0,-3A3,3 0 0,1 3,0Z\" style=\"opacity: 1; stroke-width: 0px; fill: rgb(178, 24, 43); fill-opacity: 1;\"/><path class=\"point\" transform=\"translate(648.19,183.5)\" d=\"M3,0A3,3 0 1,1 0,-3A3,3 0 0,1 3,0Z\" style=\"opacity: 1; stroke-width: 0px; fill: rgb(178, 24, 43); fill-opacity: 1;\"/><path class=\"point\" transform=\"translate(648.45,183.5)\" d=\"M3,0A3,3 0 1,1 0,-3A3,3 0 0,1 3,0Z\" style=\"opacity: 1; stroke-width: 0px; fill: rgb(178, 24, 43); fill-opacity: 1;\"/><path class=\"point\" transform=\"translate(648.79,183.5)\" d=\"M3,0A3,3 0 1,1 0,-3A3,3 0 0,1 3,0Z\" style=\"opacity: 1; stroke-width: 0px; fill: rgb(178, 24, 43); fill-opacity: 1;\"/><path class=\"point\" transform=\"translate(648.97,183.5)\" d=\"M3,0A3,3 0 1,1 0,-3A3,3 0 0,1 3,0Z\" style=\"opacity: 1; stroke-width: 0px; fill: rgb(178, 24, 43); fill-opacity: 1;\"/><path class=\"point\" transform=\"translate(649.12,183.5)\" d=\"M3,0A3,3 0 1,1 0,-3A3,3 0 0,1 3,0Z\" style=\"opacity: 1; stroke-width: 0px; fill: rgb(178, 24, 43); fill-opacity: 1;\"/><path class=\"point\" transform=\"translate(649.27,183.5)\" d=\"M3,0A3,3 0 1,1 0,-3A3,3 0 0,1 3,0Z\" style=\"opacity: 1; stroke-width: 0px; fill: rgb(178, 24, 43); fill-opacity: 1;\"/><path class=\"point\" transform=\"translate(649.96,183.5)\" d=\"M3,0A3,3 0 1,1 0,-3A3,3 0 0,1 3,0Z\" style=\"opacity: 1; stroke-width: 0px; fill: rgb(178, 24, 43); fill-opacity: 1;\"/><path class=\"point\" transform=\"translate(651.93,183.5)\" d=\"M3,0A3,3 0 1,1 0,-3A3,3 0 0,1 3,0Z\" style=\"opacity: 1; stroke-width: 0px; fill: rgb(178, 24, 43); fill-opacity: 1;\"/><path class=\"point\" transform=\"translate(652.48,183.5)\" d=\"M3,0A3,3 0 1,1 0,-3A3,3 0 0,1 3,0Z\" style=\"opacity: 1; stroke-width: 0px; fill: rgb(178, 24, 43); fill-opacity: 1;\"/><path class=\"point\" transform=\"translate(652.95,183.5)\" d=\"M3,0A3,3 0 1,1 0,-3A3,3 0 0,1 3,0Z\" style=\"opacity: 1; stroke-width: 0px; fill: rgb(178, 24, 43); fill-opacity: 1;\"/><path class=\"point\" transform=\"translate(653,183.5)\" d=\"M3,0A3,3 0 1,1 0,-3A3,3 0 0,1 3,0Z\" style=\"opacity: 1; stroke-width: 0px; fill: rgb(178, 24, 43); fill-opacity: 1;\"/><path class=\"point\" transform=\"translate(653.69,183.5)\" d=\"M3,0A3,3 0 1,1 0,-3A3,3 0 0,1 3,0Z\" style=\"opacity: 1; stroke-width: 0px; fill: rgb(178, 24, 43); fill-opacity: 1;\"/><path class=\"point\" transform=\"translate(654.49,183.5)\" d=\"M3,0A3,3 0 1,1 0,-3A3,3 0 0,1 3,0Z\" style=\"opacity: 1; stroke-width: 0px; fill: rgb(178, 24, 43); fill-opacity: 1;\"/><path class=\"point\" transform=\"translate(654.51,183.5)\" d=\"M3,0A3,3 0 1,1 0,-3A3,3 0 0,1 3,0Z\" style=\"opacity: 1; stroke-width: 0px; fill: rgb(178, 24, 43); fill-opacity: 1;\"/><path class=\"point\" transform=\"translate(654.54,183.5)\" d=\"M3,0A3,3 0 1,1 0,-3A3,3 0 0,1 3,0Z\" style=\"opacity: 1; stroke-width: 0px; fill: rgb(178, 24, 43); fill-opacity: 1;\"/><path class=\"point\" transform=\"translate(654.57,183.5)\" d=\"M3,0A3,3 0 1,1 0,-3A3,3 0 0,1 3,0Z\" style=\"opacity: 1; stroke-width: 0px; fill: rgb(178, 24, 43); fill-opacity: 1;\"/><path class=\"point\" transform=\"translate(654.85,183.5)\" d=\"M3,0A3,3 0 1,1 0,-3A3,3 0 0,1 3,0Z\" style=\"opacity: 1; stroke-width: 0px; fill: rgb(178, 24, 43); fill-opacity: 1;\"/><path class=\"point\" transform=\"translate(654.95,183.5)\" d=\"M3,0A3,3 0 1,1 0,-3A3,3 0 0,1 3,0Z\" style=\"opacity: 1; stroke-width: 0px; fill: rgb(178, 24, 43); fill-opacity: 1;\"/><path class=\"point\" transform=\"translate(655.17,183.5)\" d=\"M3,0A3,3 0 1,1 0,-3A3,3 0 0,1 3,0Z\" style=\"opacity: 1; stroke-width: 0px; fill: rgb(178, 24, 43); fill-opacity: 1;\"/><path class=\"point\" transform=\"translate(655.33,183.5)\" d=\"M3,0A3,3 0 1,1 0,-3A3,3 0 0,1 3,0Z\" style=\"opacity: 1; stroke-width: 0px; fill: rgb(178, 24, 43); fill-opacity: 1;\"/><path class=\"point\" transform=\"translate(656.44,183.5)\" d=\"M3,0A3,3 0 1,1 0,-3A3,3 0 0,1 3,0Z\" style=\"opacity: 1; stroke-width: 0px; fill: rgb(178, 24, 43); fill-opacity: 1;\"/><path class=\"point\" transform=\"translate(656.92,183.5)\" d=\"M3,0A3,3 0 1,1 0,-3A3,3 0 0,1 3,0Z\" style=\"opacity: 1; stroke-width: 0px; fill: rgb(178, 24, 43); fill-opacity: 1;\"/><path class=\"point\" transform=\"translate(657.01,183.5)\" d=\"M3,0A3,3 0 1,1 0,-3A3,3 0 0,1 3,0Z\" style=\"opacity: 1; stroke-width: 0px; fill: rgb(178, 24, 43); fill-opacity: 1;\"/><path class=\"point\" transform=\"translate(657.05,183.5)\" d=\"M3,0A3,3 0 1,1 0,-3A3,3 0 0,1 3,0Z\" style=\"opacity: 1; stroke-width: 0px; fill: rgb(178, 24, 43); fill-opacity: 1;\"/><path class=\"point\" transform=\"translate(657.39,183.5)\" d=\"M3,0A3,3 0 1,1 0,-3A3,3 0 0,1 3,0Z\" style=\"opacity: 1; stroke-width: 0px; fill: rgb(178, 24, 43); fill-opacity: 1;\"/><path class=\"point\" transform=\"translate(657.42,183.5)\" d=\"M3,0A3,3 0 1,1 0,-3A3,3 0 0,1 3,0Z\" style=\"opacity: 1; stroke-width: 0px; fill: rgb(178, 24, 43); fill-opacity: 1;\"/><path class=\"point\" transform=\"translate(657.83,183.5)\" d=\"M3,0A3,3 0 1,1 0,-3A3,3 0 0,1 3,0Z\" style=\"opacity: 1; stroke-width: 0px; fill: rgb(178, 24, 43); fill-opacity: 1;\"/><path class=\"point\" transform=\"translate(658.08,183.5)\" d=\"M3,0A3,3 0 1,1 0,-3A3,3 0 0,1 3,0Z\" style=\"opacity: 1; stroke-width: 0px; fill: rgb(178, 24, 43); fill-opacity: 1;\"/><path class=\"point\" transform=\"translate(658.64,183.5)\" d=\"M3,0A3,3 0 1,1 0,-3A3,3 0 0,1 3,0Z\" style=\"opacity: 1; stroke-width: 0px; fill: rgb(178, 24, 43); fill-opacity: 1;\"/><path class=\"point\" transform=\"translate(658.9,183.5)\" d=\"M3,0A3,3 0 1,1 0,-3A3,3 0 0,1 3,0Z\" style=\"opacity: 1; stroke-width: 0px; fill: rgb(178, 24, 43); fill-opacity: 1;\"/><path class=\"point\" transform=\"translate(659.02,183.5)\" d=\"M3,0A3,3 0 1,1 0,-3A3,3 0 0,1 3,0Z\" style=\"opacity: 1; stroke-width: 0px; fill: rgb(178, 24, 43); fill-opacity: 1;\"/><path class=\"point\" transform=\"translate(659.2,183.5)\" d=\"M3,0A3,3 0 1,1 0,-3A3,3 0 0,1 3,0Z\" style=\"opacity: 1; stroke-width: 0px; fill: rgb(178, 24, 43); fill-opacity: 1;\"/><path class=\"point\" transform=\"translate(659.26,183.5)\" d=\"M3,0A3,3 0 1,1 0,-3A3,3 0 0,1 3,0Z\" style=\"opacity: 1; stroke-width: 0px; fill: rgb(178, 24, 43); fill-opacity: 1;\"/><path class=\"point\" transform=\"translate(659.29,183.5)\" d=\"M3,0A3,3 0 1,1 0,-3A3,3 0 0,1 3,0Z\" style=\"opacity: 1; stroke-width: 0px; fill: rgb(178, 24, 43); fill-opacity: 1;\"/><path class=\"point\" transform=\"translate(659.62,183.5)\" d=\"M3,0A3,3 0 1,1 0,-3A3,3 0 0,1 3,0Z\" style=\"opacity: 1; stroke-width: 0px; fill: rgb(178, 24, 43); fill-opacity: 1;\"/><path class=\"point\" transform=\"translate(659.89,183.5)\" d=\"M3,0A3,3 0 1,1 0,-3A3,3 0 0,1 3,0Z\" style=\"opacity: 1; stroke-width: 0px; fill: rgb(178, 24, 43); fill-opacity: 1;\"/><path class=\"point\" transform=\"translate(660.82,183.5)\" d=\"M3,0A3,3 0 1,1 0,-3A3,3 0 0,1 3,0Z\" style=\"opacity: 1; stroke-width: 0px; fill: rgb(178, 24, 43); fill-opacity: 1;\"/><path class=\"point\" transform=\"translate(660.89,183.5)\" d=\"M3,0A3,3 0 1,1 0,-3A3,3 0 0,1 3,0Z\" style=\"opacity: 1; stroke-width: 0px; fill: rgb(178, 24, 43); fill-opacity: 1;\"/><path class=\"point\" transform=\"translate(661.49,183.5)\" d=\"M3,0A3,3 0 1,1 0,-3A3,3 0 0,1 3,0Z\" style=\"opacity: 1; stroke-width: 0px; fill: rgb(178, 24, 43); fill-opacity: 1;\"/><path class=\"point\" transform=\"translate(661.74,183.5)\" d=\"M3,0A3,3 0 1,1 0,-3A3,3 0 0,1 3,0Z\" style=\"opacity: 1; stroke-width: 0px; fill: rgb(178, 24, 43); fill-opacity: 1;\"/><path class=\"point\" transform=\"translate(662.17,183.5)\" d=\"M3,0A3,3 0 1,1 0,-3A3,3 0 0,1 3,0Z\" style=\"opacity: 1; stroke-width: 0px; fill: rgb(178, 24, 43); fill-opacity: 1;\"/><path class=\"point\" transform=\"translate(662.46,183.5)\" d=\"M3,0A3,3 0 1,1 0,-3A3,3 0 0,1 3,0Z\" style=\"opacity: 1; stroke-width: 0px; fill: rgb(178, 24, 43); fill-opacity: 1;\"/><path class=\"point\" transform=\"translate(662.84,183.5)\" d=\"M3,0A3,3 0 1,1 0,-3A3,3 0 0,1 3,0Z\" style=\"opacity: 1; stroke-width: 0px; fill: rgb(178, 24, 43); fill-opacity: 1;\"/><path class=\"point\" transform=\"translate(663.04,183.5)\" d=\"M3,0A3,3 0 1,1 0,-3A3,3 0 0,1 3,0Z\" style=\"opacity: 1; stroke-width: 0px; fill: rgb(178, 24, 43); fill-opacity: 1;\"/><path class=\"point\" transform=\"translate(664.77,183.5)\" d=\"M3,0A3,3 0 1,1 0,-3A3,3 0 0,1 3,0Z\" style=\"opacity: 1; stroke-width: 0px; fill: rgb(178, 24, 43); fill-opacity: 1;\"/><path class=\"point\" transform=\"translate(664.77,183.5)\" d=\"M3,0A3,3 0 1,1 0,-3A3,3 0 0,1 3,0Z\" style=\"opacity: 1; stroke-width: 0px; fill: rgb(178, 24, 43); fill-opacity: 1;\"/><path class=\"point\" transform=\"translate(664.97,183.5)\" d=\"M3,0A3,3 0 1,1 0,-3A3,3 0 0,1 3,0Z\" style=\"opacity: 1; stroke-width: 0px; fill: rgb(178, 24, 43); fill-opacity: 1;\"/><path class=\"point\" transform=\"translate(665.46,183.5)\" d=\"M3,0A3,3 0 1,1 0,-3A3,3 0 0,1 3,0Z\" style=\"opacity: 1; stroke-width: 0px; fill: rgb(178, 24, 43); fill-opacity: 1;\"/><path class=\"point\" transform=\"translate(666.1,183.5)\" d=\"M3,0A3,3 0 1,1 0,-3A3,3 0 0,1 3,0Z\" style=\"opacity: 1; stroke-width: 0px; fill: rgb(178, 24, 43); fill-opacity: 1;\"/><path class=\"point\" transform=\"translate(666.5,183.5)\" d=\"M3,0A3,3 0 1,1 0,-3A3,3 0 0,1 3,0Z\" style=\"opacity: 1; stroke-width: 0px; fill: rgb(178, 24, 43); fill-opacity: 1;\"/><path class=\"point\" transform=\"translate(666.51,183.5)\" d=\"M3,0A3,3 0 1,1 0,-3A3,3 0 0,1 3,0Z\" style=\"opacity: 1; stroke-width: 0px; fill: rgb(178, 24, 43); fill-opacity: 1;\"/><path class=\"point\" transform=\"translate(667.23,183.5)\" d=\"M3,0A3,3 0 1,1 0,-3A3,3 0 0,1 3,0Z\" style=\"opacity: 1; stroke-width: 0px; fill: rgb(178, 24, 43); fill-opacity: 1;\"/><path class=\"point\" transform=\"translate(667.67,183.5)\" d=\"M3,0A3,3 0 1,1 0,-3A3,3 0 0,1 3,0Z\" style=\"opacity: 1; stroke-width: 0px; fill: rgb(178, 24, 43); fill-opacity: 1;\"/><path class=\"point\" transform=\"translate(668.06,183.5)\" d=\"M3,0A3,3 0 1,1 0,-3A3,3 0 0,1 3,0Z\" style=\"opacity: 1; stroke-width: 0px; fill: rgb(178, 24, 43); fill-opacity: 1;\"/><path class=\"point\" transform=\"translate(668.63,183.5)\" d=\"M3,0A3,3 0 1,1 0,-3A3,3 0 0,1 3,0Z\" style=\"opacity: 1; stroke-width: 0px; fill: rgb(178, 24, 43); fill-opacity: 1;\"/><path class=\"point\" transform=\"translate(668.68,183.5)\" d=\"M3,0A3,3 0 1,1 0,-3A3,3 0 0,1 3,0Z\" style=\"opacity: 1; stroke-width: 0px; fill: rgb(178, 24, 43); fill-opacity: 1;\"/><path class=\"point\" transform=\"translate(669.1,183.5)\" d=\"M3,0A3,3 0 1,1 0,-3A3,3 0 0,1 3,0Z\" style=\"opacity: 1; stroke-width: 0px; fill: rgb(178, 24, 43); fill-opacity: 1;\"/><path class=\"point\" transform=\"translate(669.61,183.5)\" d=\"M3,0A3,3 0 1,1 0,-3A3,3 0 0,1 3,0Z\" style=\"opacity: 1; stroke-width: 0px; fill: rgb(178, 24, 43); fill-opacity: 1;\"/><path class=\"point\" transform=\"translate(670.21,183.5)\" d=\"M3,0A3,3 0 1,1 0,-3A3,3 0 0,1 3,0Z\" style=\"opacity: 1; stroke-width: 0px; fill: rgb(178, 24, 43); fill-opacity: 1;\"/><path class=\"point\" transform=\"translate(670.36,183.5)\" d=\"M3,0A3,3 0 1,1 0,-3A3,3 0 0,1 3,0Z\" style=\"opacity: 1; stroke-width: 0px; fill: rgb(178, 24, 43); fill-opacity: 1;\"/><path class=\"point\" transform=\"translate(670.83,183.5)\" d=\"M3,0A3,3 0 1,1 0,-3A3,3 0 0,1 3,0Z\" style=\"opacity: 1; stroke-width: 0px; fill: rgb(178, 24, 43); fill-opacity: 1;\"/><path class=\"point\" transform=\"translate(671.2,183.5)\" d=\"M3,0A3,3 0 1,1 0,-3A3,3 0 0,1 3,0Z\" style=\"opacity: 1; stroke-width: 0px; fill: rgb(178, 24, 43); fill-opacity: 1;\"/><path class=\"point\" transform=\"translate(671.4,183.5)\" d=\"M3,0A3,3 0 1,1 0,-3A3,3 0 0,1 3,0Z\" style=\"opacity: 1; stroke-width: 0px; fill: rgb(178, 24, 43); fill-opacity: 1;\"/><path class=\"point\" transform=\"translate(671.49,183.5)\" d=\"M3,0A3,3 0 1,1 0,-3A3,3 0 0,1 3,0Z\" style=\"opacity: 1; stroke-width: 0px; fill: rgb(178, 24, 43); fill-opacity: 1;\"/><path class=\"point\" transform=\"translate(672.12,183.5)\" d=\"M3,0A3,3 0 1,1 0,-3A3,3 0 0,1 3,0Z\" style=\"opacity: 1; stroke-width: 0px; fill: rgb(178, 24, 43); fill-opacity: 1;\"/><path class=\"point\" transform=\"translate(672.87,183.5)\" d=\"M3,0A3,3 0 1,1 0,-3A3,3 0 0,1 3,0Z\" style=\"opacity: 1; stroke-width: 0px; fill: rgb(178, 24, 43); fill-opacity: 1;\"/><path class=\"point\" transform=\"translate(672.94,183.5)\" d=\"M3,0A3,3 0 1,1 0,-3A3,3 0 0,1 3,0Z\" style=\"opacity: 1; stroke-width: 0px; fill: rgb(178, 24, 43); fill-opacity: 1;\"/><path class=\"point\" transform=\"translate(673.93,183.5)\" d=\"M3,0A3,3 0 1,1 0,-3A3,3 0 0,1 3,0Z\" style=\"opacity: 1; stroke-width: 0px; fill: rgb(178, 24, 43); fill-opacity: 1;\"/><path class=\"point\" transform=\"translate(674.26,183.5)\" d=\"M3,0A3,3 0 1,1 0,-3A3,3 0 0,1 3,0Z\" style=\"opacity: 1; stroke-width: 0px; fill: rgb(178, 24, 43); fill-opacity: 1;\"/><path class=\"point\" transform=\"translate(675.47,183.5)\" d=\"M3,0A3,3 0 1,1 0,-3A3,3 0 0,1 3,0Z\" style=\"opacity: 1; stroke-width: 0px; fill: rgb(178, 24, 43); fill-opacity: 1;\"/><path class=\"point\" transform=\"translate(675.77,183.5)\" d=\"M3,0A3,3 0 1,1 0,-3A3,3 0 0,1 3,0Z\" style=\"opacity: 1; stroke-width: 0px; fill: rgb(178, 24, 43); fill-opacity: 1;\"/><path class=\"point\" transform=\"translate(675.84,183.5)\" d=\"M3,0A3,3 0 1,1 0,-3A3,3 0 0,1 3,0Z\" style=\"opacity: 1; stroke-width: 0px; fill: rgb(178, 24, 43); fill-opacity: 1;\"/><path class=\"point\" transform=\"translate(676.15,183.5)\" d=\"M3,0A3,3 0 1,1 0,-3A3,3 0 0,1 3,0Z\" style=\"opacity: 1; stroke-width: 0px; fill: rgb(178, 24, 43); fill-opacity: 1;\"/><path class=\"point\" transform=\"translate(677.18,183.5)\" d=\"M3,0A3,3 0 1,1 0,-3A3,3 0 0,1 3,0Z\" style=\"opacity: 1; stroke-width: 0px; fill: rgb(178, 24, 43); fill-opacity: 1;\"/><path class=\"point\" transform=\"translate(677.33,183.5)\" d=\"M3,0A3,3 0 1,1 0,-3A3,3 0 0,1 3,0Z\" style=\"opacity: 1; stroke-width: 0px; fill: rgb(178, 24, 43); fill-opacity: 1;\"/><path class=\"point\" transform=\"translate(678.07,183.5)\" d=\"M3,0A3,3 0 1,1 0,-3A3,3 0 0,1 3,0Z\" style=\"opacity: 1; stroke-width: 0px; fill: rgb(178, 24, 43); fill-opacity: 1;\"/><path class=\"point\" transform=\"translate(678.39,183.5)\" d=\"M3,0A3,3 0 1,1 0,-3A3,3 0 0,1 3,0Z\" style=\"opacity: 1; stroke-width: 0px; fill: rgb(178, 24, 43); fill-opacity: 1;\"/><path class=\"point\" transform=\"translate(679.14,183.5)\" d=\"M3,0A3,3 0 1,1 0,-3A3,3 0 0,1 3,0Z\" style=\"opacity: 1; stroke-width: 0px; fill: rgb(178, 24, 43); fill-opacity: 1;\"/><path class=\"point\" transform=\"translate(680.2,183.5)\" d=\"M3,0A3,3 0 1,1 0,-3A3,3 0 0,1 3,0Z\" style=\"opacity: 1; stroke-width: 0px; fill: rgb(178, 24, 43); fill-opacity: 1;\"/><path class=\"point\" transform=\"translate(680.43,183.5)\" d=\"M3,0A3,3 0 1,1 0,-3A3,3 0 0,1 3,0Z\" style=\"opacity: 1; stroke-width: 0px; fill: rgb(178, 24, 43); fill-opacity: 1;\"/><path class=\"point\" transform=\"translate(681.36,183.5)\" d=\"M3,0A3,3 0 1,1 0,-3A3,3 0 0,1 3,0Z\" style=\"opacity: 1; stroke-width: 0px; fill: rgb(178, 24, 43); fill-opacity: 1;\"/><path class=\"point\" transform=\"translate(681.95,183.5)\" d=\"M3,0A3,3 0 1,1 0,-3A3,3 0 0,1 3,0Z\" style=\"opacity: 1; stroke-width: 0px; fill: rgb(178, 24, 43); fill-opacity: 1;\"/><path class=\"point\" transform=\"translate(682.26,183.5)\" d=\"M3,0A3,3 0 1,1 0,-3A3,3 0 0,1 3,0Z\" style=\"opacity: 1; stroke-width: 0px; fill: rgb(178, 24, 43); fill-opacity: 1;\"/><path class=\"point\" transform=\"translate(682.59,183.5)\" d=\"M3,0A3,3 0 1,1 0,-3A3,3 0 0,1 3,0Z\" style=\"opacity: 1; stroke-width: 0px; fill: rgb(178, 24, 43); fill-opacity: 1;\"/><path class=\"point\" transform=\"translate(684.26,183.5)\" d=\"M3,0A3,3 0 1,1 0,-3A3,3 0 0,1 3,0Z\" style=\"opacity: 1; stroke-width: 0px; fill: rgb(178, 24, 43); fill-opacity: 1;\"/><path class=\"point\" transform=\"translate(685.93,183.5)\" d=\"M3,0A3,3 0 1,1 0,-3A3,3 0 0,1 3,0Z\" style=\"opacity: 1; stroke-width: 0px; fill: rgb(178, 24, 43); fill-opacity: 1;\"/><path class=\"point\" transform=\"translate(686.12,183.5)\" d=\"M3,0A3,3 0 1,1 0,-3A3,3 0 0,1 3,0Z\" style=\"opacity: 1; stroke-width: 0px; fill: rgb(178, 24, 43); fill-opacity: 1;\"/><path class=\"point\" transform=\"translate(686.46,183.5)\" d=\"M3,0A3,3 0 1,1 0,-3A3,3 0 0,1 3,0Z\" style=\"opacity: 1; stroke-width: 0px; fill: rgb(178, 24, 43); fill-opacity: 1;\"/><path class=\"point\" transform=\"translate(687.19,183.5)\" d=\"M3,0A3,3 0 1,1 0,-3A3,3 0 0,1 3,0Z\" style=\"opacity: 1; stroke-width: 0px; fill: rgb(178, 24, 43); fill-opacity: 1;\"/><path class=\"point\" transform=\"translate(687.37,183.5)\" d=\"M3,0A3,3 0 1,1 0,-3A3,3 0 0,1 3,0Z\" style=\"opacity: 1; stroke-width: 0px; fill: rgb(178, 24, 43); fill-opacity: 1;\"/><path class=\"point\" transform=\"translate(687.47,183.5)\" d=\"M3,0A3,3 0 1,1 0,-3A3,3 0 0,1 3,0Z\" style=\"opacity: 1; stroke-width: 0px; fill: rgb(178, 24, 43); fill-opacity: 1;\"/><path class=\"point\" transform=\"translate(687.56,183.5)\" d=\"M3,0A3,3 0 1,1 0,-3A3,3 0 0,1 3,0Z\" style=\"opacity: 1; stroke-width: 0px; fill: rgb(178, 24, 43); fill-opacity: 1;\"/><path class=\"point\" transform=\"translate(687.87,183.5)\" d=\"M3,0A3,3 0 1,1 0,-3A3,3 0 0,1 3,0Z\" style=\"opacity: 1; stroke-width: 0px; fill: rgb(178, 24, 43); fill-opacity: 1;\"/><path class=\"point\" transform=\"translate(688.01,183.5)\" d=\"M3,0A3,3 0 1,1 0,-3A3,3 0 0,1 3,0Z\" style=\"opacity: 1; stroke-width: 0px; fill: rgb(178, 24, 43); fill-opacity: 1;\"/><path class=\"point\" transform=\"translate(688.69,183.5)\" d=\"M3,0A3,3 0 1,1 0,-3A3,3 0 0,1 3,0Z\" style=\"opacity: 1; stroke-width: 0px; fill: rgb(178, 24, 43); fill-opacity: 1;\"/><path class=\"point\" transform=\"translate(689.78,183.5)\" d=\"M3,0A3,3 0 1,1 0,-3A3,3 0 0,1 3,0Z\" style=\"opacity: 1; stroke-width: 0px; fill: rgb(178, 24, 43); fill-opacity: 1;\"/><path class=\"point\" transform=\"translate(689.98,183.5)\" d=\"M3,0A3,3 0 1,1 0,-3A3,3 0 0,1 3,0Z\" style=\"opacity: 1; stroke-width: 0px; fill: rgb(178, 24, 43); fill-opacity: 1;\"/><path class=\"point\" transform=\"translate(690.06,183.5)\" d=\"M3,0A3,3 0 1,1 0,-3A3,3 0 0,1 3,0Z\" style=\"opacity: 1; stroke-width: 0px; fill: rgb(178, 24, 43); fill-opacity: 1;\"/><path class=\"point\" transform=\"translate(690.13,183.5)\" d=\"M3,0A3,3 0 1,1 0,-3A3,3 0 0,1 3,0Z\" style=\"opacity: 1; stroke-width: 0px; fill: rgb(178, 24, 43); fill-opacity: 1;\"/><path class=\"point\" transform=\"translate(690.41,183.5)\" d=\"M3,0A3,3 0 1,1 0,-3A3,3 0 0,1 3,0Z\" style=\"opacity: 1; stroke-width: 0px; fill: rgb(178, 24, 43); fill-opacity: 1;\"/><path class=\"point\" transform=\"translate(691,183.5)\" d=\"M3,0A3,3 0 1,1 0,-3A3,3 0 0,1 3,0Z\" style=\"opacity: 1; stroke-width: 0px; fill: rgb(178, 24, 43); fill-opacity: 1;\"/><path class=\"point\" transform=\"translate(691.21,183.5)\" d=\"M3,0A3,3 0 1,1 0,-3A3,3 0 0,1 3,0Z\" style=\"opacity: 1; stroke-width: 0px; fill: rgb(178, 24, 43); fill-opacity: 1;\"/><path class=\"point\" transform=\"translate(691.21,183.5)\" d=\"M3,0A3,3 0 1,1 0,-3A3,3 0 0,1 3,0Z\" style=\"opacity: 1; stroke-width: 0px; fill: rgb(178, 24, 43); fill-opacity: 1;\"/><path class=\"point\" transform=\"translate(692.56,183.5)\" d=\"M3,0A3,3 0 1,1 0,-3A3,3 0 0,1 3,0Z\" style=\"opacity: 1; stroke-width: 0px; fill: rgb(178, 24, 43); fill-opacity: 1;\"/><path class=\"point\" transform=\"translate(692.61,183.5)\" d=\"M3,0A3,3 0 1,1 0,-3A3,3 0 0,1 3,0Z\" style=\"opacity: 1; stroke-width: 0px; fill: rgb(178, 24, 43); fill-opacity: 1;\"/><path class=\"point\" transform=\"translate(692.78,183.5)\" d=\"M3,0A3,3 0 1,1 0,-3A3,3 0 0,1 3,0Z\" style=\"opacity: 1; stroke-width: 0px; fill: rgb(178, 24, 43); fill-opacity: 1;\"/><path class=\"point\" transform=\"translate(693.41,183.5)\" d=\"M3,0A3,3 0 1,1 0,-3A3,3 0 0,1 3,0Z\" style=\"opacity: 1; stroke-width: 0px; fill: rgb(178, 24, 43); fill-opacity: 1;\"/><path class=\"point\" transform=\"translate(694.45,183.5)\" d=\"M3,0A3,3 0 1,1 0,-3A3,3 0 0,1 3,0Z\" style=\"opacity: 1; stroke-width: 0px; fill: rgb(178, 24, 43); fill-opacity: 1;\"/><path class=\"point\" transform=\"translate(695.86,183.5)\" d=\"M3,0A3,3 0 1,1 0,-3A3,3 0 0,1 3,0Z\" style=\"opacity: 1; stroke-width: 0px; fill: rgb(178, 24, 43); fill-opacity: 1;\"/><path class=\"point\" transform=\"translate(695.94,183.5)\" d=\"M3,0A3,3 0 1,1 0,-3A3,3 0 0,1 3,0Z\" style=\"opacity: 1; stroke-width: 0px; fill: rgb(178, 24, 43); fill-opacity: 1;\"/><path class=\"point\" transform=\"translate(696.47,183.5)\" d=\"M3,0A3,3 0 1,1 0,-3A3,3 0 0,1 3,0Z\" style=\"opacity: 1; stroke-width: 0px; fill: rgb(178, 24, 43); fill-opacity: 1;\"/><path class=\"point\" transform=\"translate(697.21,183.5)\" d=\"M3,0A3,3 0 1,1 0,-3A3,3 0 0,1 3,0Z\" style=\"opacity: 1; stroke-width: 0px; fill: rgb(178, 24, 43); fill-opacity: 1;\"/><path class=\"point\" transform=\"translate(698.37,183.5)\" d=\"M3,0A3,3 0 1,1 0,-3A3,3 0 0,1 3,0Z\" style=\"opacity: 1; stroke-width: 0px; fill: rgb(178, 24, 43); fill-opacity: 1;\"/><path class=\"point\" transform=\"translate(698.38,183.5)\" d=\"M3,0A3,3 0 1,1 0,-3A3,3 0 0,1 3,0Z\" style=\"opacity: 1; stroke-width: 0px; fill: rgb(178, 24, 43); fill-opacity: 1;\"/><path class=\"point\" transform=\"translate(699.12,183.5)\" d=\"M3,0A3,3 0 1,1 0,-3A3,3 0 0,1 3,0Z\" style=\"opacity: 1; stroke-width: 0px; fill: rgb(178, 24, 43); fill-opacity: 1;\"/><path class=\"point\" transform=\"translate(699.71,183.5)\" d=\"M3,0A3,3 0 1,1 0,-3A3,3 0 0,1 3,0Z\" style=\"opacity: 1; stroke-width: 0px; fill: rgb(178, 24, 43); fill-opacity: 1;\"/><path class=\"point\" transform=\"translate(700.27,183.5)\" d=\"M3,0A3,3 0 1,1 0,-3A3,3 0 0,1 3,0Z\" style=\"opacity: 1; stroke-width: 0px; fill: rgb(178, 24, 43); fill-opacity: 1;\"/><path class=\"point\" transform=\"translate(701.63,183.5)\" d=\"M3,0A3,3 0 1,1 0,-3A3,3 0 0,1 3,0Z\" style=\"opacity: 1; stroke-width: 0px; fill: rgb(178, 24, 43); fill-opacity: 1;\"/><path class=\"point\" transform=\"translate(705.3,183.5)\" d=\"M3,0A3,3 0 1,1 0,-3A3,3 0 0,1 3,0Z\" style=\"opacity: 1; stroke-width: 0px; fill: rgb(178, 24, 43); fill-opacity: 1;\"/><path class=\"point\" transform=\"translate(706.42,183.5)\" d=\"M3,0A3,3 0 1,1 0,-3A3,3 0 0,1 3,0Z\" style=\"opacity: 1; stroke-width: 0px; fill: rgb(178, 24, 43); fill-opacity: 1;\"/><path class=\"point\" transform=\"translate(707.19,183.5)\" d=\"M3,0A3,3 0 1,1 0,-3A3,3 0 0,1 3,0Z\" style=\"opacity: 1; stroke-width: 0px; fill: rgb(178, 24, 43); fill-opacity: 1;\"/><path class=\"point\" transform=\"translate(707.61,183.5)\" d=\"M3,0A3,3 0 1,1 0,-3A3,3 0 0,1 3,0Z\" style=\"opacity: 1; stroke-width: 0px; fill: rgb(178, 24, 43); fill-opacity: 1;\"/><path class=\"point\" transform=\"translate(709.62,183.5)\" d=\"M3,0A3,3 0 1,1 0,-3A3,3 0 0,1 3,0Z\" style=\"opacity: 1; stroke-width: 0px; fill: rgb(178, 24, 43); fill-opacity: 1;\"/><path class=\"point\" transform=\"translate(709.71,183.5)\" d=\"M3,0A3,3 0 1,1 0,-3A3,3 0 0,1 3,0Z\" style=\"opacity: 1; stroke-width: 0px; fill: rgb(178, 24, 43); fill-opacity: 1;\"/><path class=\"point\" transform=\"translate(709.86,183.5)\" d=\"M3,0A3,3 0 1,1 0,-3A3,3 0 0,1 3,0Z\" style=\"opacity: 1; stroke-width: 0px; fill: rgb(178, 24, 43); fill-opacity: 1;\"/><path class=\"point\" transform=\"translate(709.99,183.5)\" d=\"M3,0A3,3 0 1,1 0,-3A3,3 0 0,1 3,0Z\" style=\"opacity: 1; stroke-width: 0px; fill: rgb(178, 24, 43); fill-opacity: 1;\"/><path class=\"point\" transform=\"translate(710.19,183.5)\" d=\"M3,0A3,3 0 1,1 0,-3A3,3 0 0,1 3,0Z\" style=\"opacity: 1; stroke-width: 0px; fill: rgb(178, 24, 43); fill-opacity: 1;\"/><path class=\"point\" transform=\"translate(711.22,183.5)\" d=\"M3,0A3,3 0 1,1 0,-3A3,3 0 0,1 3,0Z\" style=\"opacity: 1; stroke-width: 0px; fill: rgb(178, 24, 43); fill-opacity: 1;\"/><path class=\"point\" transform=\"translate(711.74,183.5)\" d=\"M3,0A3,3 0 1,1 0,-3A3,3 0 0,1 3,0Z\" style=\"opacity: 1; stroke-width: 0px; fill: rgb(178, 24, 43); fill-opacity: 1;\"/><path class=\"point\" transform=\"translate(712.81,183.5)\" d=\"M3,0A3,3 0 1,1 0,-3A3,3 0 0,1 3,0Z\" style=\"opacity: 1; stroke-width: 0px; fill: rgb(178, 24, 43); fill-opacity: 1;\"/><path class=\"point\" transform=\"translate(714.06,183.5)\" d=\"M3,0A3,3 0 1,1 0,-3A3,3 0 0,1 3,0Z\" style=\"opacity: 1; stroke-width: 0px; fill: rgb(178, 24, 43); fill-opacity: 1;\"/><path class=\"point\" transform=\"translate(714.61,183.5)\" d=\"M3,0A3,3 0 1,1 0,-3A3,3 0 0,1 3,0Z\" style=\"opacity: 1; stroke-width: 0px; fill: rgb(178, 24, 43); fill-opacity: 1;\"/><path class=\"point\" transform=\"translate(715.07,183.5)\" d=\"M3,0A3,3 0 1,1 0,-3A3,3 0 0,1 3,0Z\" style=\"opacity: 1; stroke-width: 0px; fill: rgb(178, 24, 43); fill-opacity: 1;\"/><path class=\"point\" transform=\"translate(715.1,183.5)\" d=\"M3,0A3,3 0 1,1 0,-3A3,3 0 0,1 3,0Z\" style=\"opacity: 1; stroke-width: 0px; fill: rgb(178, 24, 43); fill-opacity: 1;\"/><path class=\"point\" transform=\"translate(716.76,183.5)\" d=\"M3,0A3,3 0 1,1 0,-3A3,3 0 0,1 3,0Z\" style=\"opacity: 1; stroke-width: 0px; fill: rgb(178, 24, 43); fill-opacity: 1;\"/><path class=\"point\" transform=\"translate(717.89,183.5)\" d=\"M3,0A3,3 0 1,1 0,-3A3,3 0 0,1 3,0Z\" style=\"opacity: 1; stroke-width: 0px; fill: rgb(178, 24, 43); fill-opacity: 1;\"/><path class=\"point\" transform=\"translate(719.02,183.5)\" d=\"M3,0A3,3 0 1,1 0,-3A3,3 0 0,1 3,0Z\" style=\"opacity: 1; stroke-width: 0px; fill: rgb(178, 24, 43); fill-opacity: 1;\"/><path class=\"point\" transform=\"translate(719.07,183.5)\" d=\"M3,0A3,3 0 1,1 0,-3A3,3 0 0,1 3,0Z\" style=\"opacity: 1; stroke-width: 0px; fill: rgb(178, 24, 43); fill-opacity: 1;\"/><path class=\"point\" transform=\"translate(722.49,183.5)\" d=\"M3,0A3,3 0 1,1 0,-3A3,3 0 0,1 3,0Z\" style=\"opacity: 1; stroke-width: 0px; fill: rgb(178, 24, 43); fill-opacity: 1;\"/><path class=\"point\" transform=\"translate(723.3,183.5)\" d=\"M3,0A3,3 0 1,1 0,-3A3,3 0 0,1 3,0Z\" style=\"opacity: 1; stroke-width: 0px; fill: rgb(178, 24, 43); fill-opacity: 1;\"/><path class=\"point\" transform=\"translate(725.52,183.5)\" d=\"M3,0A3,3 0 1,1 0,-3A3,3 0 0,1 3,0Z\" style=\"opacity: 1; stroke-width: 0px; fill: rgb(178, 24, 43); fill-opacity: 1;\"/><path class=\"point\" transform=\"translate(725.91,183.5)\" d=\"M3,0A3,3 0 1,1 0,-3A3,3 0 0,1 3,0Z\" style=\"opacity: 1; stroke-width: 0px; fill: rgb(178, 24, 43); fill-opacity: 1;\"/><path class=\"point\" transform=\"translate(726.14,183.5)\" d=\"M3,0A3,3 0 1,1 0,-3A3,3 0 0,1 3,0Z\" style=\"opacity: 1; stroke-width: 0px; fill: rgb(178, 24, 43); fill-opacity: 1;\"/><path class=\"point\" transform=\"translate(727.69,183.5)\" d=\"M3,0A3,3 0 1,1 0,-3A3,3 0 0,1 3,0Z\" style=\"opacity: 1; stroke-width: 0px; fill: rgb(178, 24, 43); fill-opacity: 1;\"/><path class=\"point\" transform=\"translate(727.96,183.5)\" d=\"M3,0A3,3 0 1,1 0,-3A3,3 0 0,1 3,0Z\" style=\"opacity: 1; stroke-width: 0px; fill: rgb(178, 24, 43); fill-opacity: 1;\"/><path class=\"point\" transform=\"translate(728.5,183.5)\" d=\"M3,0A3,3 0 1,1 0,-3A3,3 0 0,1 3,0Z\" style=\"opacity: 1; stroke-width: 0px; fill: rgb(178, 24, 43); fill-opacity: 1;\"/><path class=\"point\" transform=\"translate(732.52,183.5)\" d=\"M3,0A3,3 0 1,1 0,-3A3,3 0 0,1 3,0Z\" style=\"opacity: 1; stroke-width: 0px; fill: rgb(178, 24, 43); fill-opacity: 1;\"/><path class=\"point\" transform=\"translate(734.25,183.5)\" d=\"M3,0A3,3 0 1,1 0,-3A3,3 0 0,1 3,0Z\" style=\"opacity: 1; stroke-width: 0px; fill: rgb(178, 24, 43); fill-opacity: 1;\"/><path class=\"point\" transform=\"translate(734.36,183.5)\" d=\"M3,0A3,3 0 1,1 0,-3A3,3 0 0,1 3,0Z\" style=\"opacity: 1; stroke-width: 0px; fill: rgb(178, 24, 43); fill-opacity: 1;\"/><path class=\"point\" transform=\"translate(736.69,183.5)\" d=\"M3,0A3,3 0 1,1 0,-3A3,3 0 0,1 3,0Z\" style=\"opacity: 1; stroke-width: 0px; fill: rgb(178, 24, 43); fill-opacity: 1;\"/><path class=\"point\" transform=\"translate(737.56,183.5)\" d=\"M3,0A3,3 0 1,1 0,-3A3,3 0 0,1 3,0Z\" style=\"opacity: 1; stroke-width: 0px; fill: rgb(178, 24, 43); fill-opacity: 1;\"/><path class=\"point\" transform=\"translate(737.77,183.5)\" d=\"M3,0A3,3 0 1,1 0,-3A3,3 0 0,1 3,0Z\" style=\"opacity: 1; stroke-width: 0px; fill: rgb(178, 24, 43); fill-opacity: 1;\"/><path class=\"point\" transform=\"translate(738.27,183.5)\" d=\"M3,0A3,3 0 1,1 0,-3A3,3 0 0,1 3,0Z\" style=\"opacity: 1; stroke-width: 0px; fill: rgb(178, 24, 43); fill-opacity: 1;\"/><path class=\"point\" transform=\"translate(739.74,183.5)\" d=\"M3,0A3,3 0 1,1 0,-3A3,3 0 0,1 3,0Z\" style=\"opacity: 1; stroke-width: 0px; fill: rgb(178, 24, 43); fill-opacity: 1;\"/><path class=\"point\" transform=\"translate(741.38,183.5)\" d=\"M3,0A3,3 0 1,1 0,-3A3,3 0 0,1 3,0Z\" style=\"opacity: 1; stroke-width: 0px; fill: rgb(178, 24, 43); fill-opacity: 1;\"/><path class=\"point\" transform=\"translate(741.7,183.5)\" d=\"M3,0A3,3 0 1,1 0,-3A3,3 0 0,1 3,0Z\" style=\"opacity: 1; stroke-width: 0px; fill: rgb(178, 24, 43); fill-opacity: 1;\"/><path class=\"point\" transform=\"translate(743.85,183.5)\" d=\"M3,0A3,3 0 1,1 0,-3A3,3 0 0,1 3,0Z\" style=\"opacity: 1; stroke-width: 0px; fill: rgb(178, 24, 43); fill-opacity: 1;\"/><path class=\"point\" transform=\"translate(750.8,183.5)\" d=\"M3,0A3,3 0 1,1 0,-3A3,3 0 0,1 3,0Z\" style=\"opacity: 1; stroke-width: 0px; fill: rgb(178, 24, 43); fill-opacity: 1;\"/><path class=\"point\" transform=\"translate(751.05,183.5)\" d=\"M3,0A3,3 0 1,1 0,-3A3,3 0 0,1 3,0Z\" style=\"opacity: 1; stroke-width: 0px; fill: rgb(178, 24, 43); fill-opacity: 1;\"/><path class=\"point\" transform=\"translate(751.99,183.5)\" d=\"M3,0A3,3 0 1,1 0,-3A3,3 0 0,1 3,0Z\" style=\"opacity: 1; stroke-width: 0px; fill: rgb(178, 24, 43); fill-opacity: 1;\"/><path class=\"point\" transform=\"translate(753.66,183.5)\" d=\"M3,0A3,3 0 1,1 0,-3A3,3 0 0,1 3,0Z\" style=\"opacity: 1; stroke-width: 0px; fill: rgb(178, 24, 43); fill-opacity: 1;\"/><path class=\"point\" transform=\"translate(753.75,183.5)\" d=\"M3,0A3,3 0 1,1 0,-3A3,3 0 0,1 3,0Z\" style=\"opacity: 1; stroke-width: 0px; fill: rgb(178, 24, 43); fill-opacity: 1;\"/><path class=\"point\" transform=\"translate(759.43,183.5)\" d=\"M3,0A3,3 0 1,1 0,-3A3,3 0 0,1 3,0Z\" style=\"opacity: 1; stroke-width: 0px; fill: rgb(178, 24, 43); fill-opacity: 1;\"/><path class=\"point\" transform=\"translate(762.79,183.5)\" d=\"M3,0A3,3 0 1,1 0,-3A3,3 0 0,1 3,0Z\" style=\"opacity: 1; stroke-width: 0px; fill: rgb(178, 24, 43); fill-opacity: 1;\"/><path class=\"point\" transform=\"translate(763.98,183.5)\" d=\"M3,0A3,3 0 1,1 0,-3A3,3 0 0,1 3,0Z\" style=\"opacity: 1; stroke-width: 0px; fill: rgb(178, 24, 43); fill-opacity: 1;\"/><path class=\"point\" transform=\"translate(764.33,183.5)\" d=\"M3,0A3,3 0 1,1 0,-3A3,3 0 0,1 3,0Z\" style=\"opacity: 1; stroke-width: 0px; fill: rgb(178, 24, 43); fill-opacity: 1;\"/><path class=\"point\" transform=\"translate(768.82,183.5)\" d=\"M3,0A3,3 0 1,1 0,-3A3,3 0 0,1 3,0Z\" style=\"opacity: 1; stroke-width: 0px; fill: rgb(178, 24, 43); fill-opacity: 1;\"/><path class=\"point\" transform=\"translate(773.22,183.5)\" d=\"M3,0A3,3 0 1,1 0,-3A3,3 0 0,1 3,0Z\" style=\"opacity: 1; stroke-width: 0px; fill: rgb(178, 24, 43); fill-opacity: 1;\"/><path class=\"point\" transform=\"translate(774.43,183.5)\" d=\"M3,0A3,3 0 1,1 0,-3A3,3 0 0,1 3,0Z\" style=\"opacity: 1; stroke-width: 0px; fill: rgb(178, 24, 43); fill-opacity: 1;\"/><path class=\"point\" transform=\"translate(788.88,183.5)\" d=\"M3,0A3,3 0 1,1 0,-3A3,3 0 0,1 3,0Z\" style=\"opacity: 1; stroke-width: 0px; fill: rgb(178, 24, 43); fill-opacity: 1;\"/><path class=\"point\" transform=\"translate(791.94,183.5)\" d=\"M3,0A3,3 0 1,1 0,-3A3,3 0 0,1 3,0Z\" style=\"opacity: 1; stroke-width: 0px; fill: rgb(178, 24, 43); fill-opacity: 1;\"/><path class=\"point\" transform=\"translate(791.97,183.5)\" d=\"M3,0A3,3 0 1,1 0,-3A3,3 0 0,1 3,0Z\" style=\"opacity: 1; stroke-width: 0px; fill: rgb(178, 24, 43); fill-opacity: 1;\"/><path class=\"point\" transform=\"translate(798.72,183.5)\" d=\"M3,0A3,3 0 1,1 0,-3A3,3 0 0,1 3,0Z\" style=\"opacity: 1; stroke-width: 0px; fill: rgb(178, 24, 43); fill-opacity: 1;\"/><path class=\"point\" transform=\"translate(800.42,183.5)\" d=\"M3,0A3,3 0 1,1 0,-3A3,3 0 0,1 3,0Z\" style=\"opacity: 1; stroke-width: 0px; fill: rgb(178, 24, 43); fill-opacity: 1;\"/><path class=\"point\" transform=\"translate(805.46,183.5)\" d=\"M3,0A3,3 0 1,1 0,-3A3,3 0 0,1 3,0Z\" style=\"opacity: 1; stroke-width: 0px; fill: rgb(178, 24, 43); fill-opacity: 1;\"/><path class=\"point\" transform=\"translate(814.57,183.5)\" d=\"M3,0A3,3 0 1,1 0,-3A3,3 0 0,1 3,0Z\" style=\"opacity: 1; stroke-width: 0px; fill: rgb(178, 24, 43); fill-opacity: 1;\"/><path class=\"point\" transform=\"translate(819.08,183.5)\" d=\"M3,0A3,3 0 1,1 0,-3A3,3 0 0,1 3,0Z\" style=\"opacity: 1; stroke-width: 0px; fill: rgb(178, 24, 43); fill-opacity: 1;\"/><path class=\"point\" transform=\"translate(819.83,183.5)\" d=\"M3,0A3,3 0 1,1 0,-3A3,3 0 0,1 3,0Z\" style=\"opacity: 1; stroke-width: 0px; fill: rgb(178, 24, 43); fill-opacity: 1;\"/><path class=\"point\" transform=\"translate(838.08,183.5)\" d=\"M3,0A3,3 0 1,1 0,-3A3,3 0 0,1 3,0Z\" style=\"opacity: 1; stroke-width: 0px; fill: rgb(178, 24, 43); fill-opacity: 1;\"/><path class=\"point\" transform=\"translate(849.88,183.5)\" d=\"M3,0A3,3 0 1,1 0,-3A3,3 0 0,1 3,0Z\" style=\"opacity: 1; stroke-width: 0px; fill: rgb(178, 24, 43); fill-opacity: 1;\"/><path class=\"point\" transform=\"translate(855,183.5)\" d=\"M3,0A3,3 0 1,1 0,-3A3,3 0 0,1 3,0Z\" style=\"opacity: 1; stroke-width: 0px; fill: rgb(178, 24, 43); fill-opacity: 1;\"/></g></g></g></g><g class=\"overplot\"/><path class=\"xlines-above crisp\" d=\"M0,0\" style=\"fill: none;\"/><path class=\"ylines-above crisp\" d=\"M0,0\" style=\"fill: none;\"/><g class=\"overlines-above\"/><g class=\"xaxislayer-above\"><g class=\"xtick\"><text text-anchor=\"middle\" x=\"0\" y=\"460\" transform=\"translate(76.6,0)\" style=\"font-family: 'Open Sans', verdana, arial, sans-serif; font-size: 12px; fill: rgb(42, 63, 95); fill-opacity: 1; white-space: pre; opacity: 1;\">40</text></g><g class=\"xtick\"><text text-anchor=\"middle\" x=\"0\" y=\"460\" style=\"font-family: 'Open Sans', verdana, arial, sans-serif; font-size: 12px; fill: rgb(42, 63, 95); fill-opacity: 1; white-space: pre; opacity: 1;\" transform=\"translate(239.65,0)\">60</text></g><g class=\"xtick\"><text text-anchor=\"middle\" x=\"0\" y=\"460\" style=\"font-family: 'Open Sans', verdana, arial, sans-serif; font-size: 12px; fill: rgb(42, 63, 95); fill-opacity: 1; white-space: pre; opacity: 1;\" transform=\"translate(402.7,0)\">80</text></g><g class=\"xtick\"><text text-anchor=\"middle\" x=\"0\" y=\"460\" style=\"font-family: 'Open Sans', verdana, arial, sans-serif; font-size: 12px; fill: rgb(42, 63, 95); fill-opacity: 1; white-space: pre; opacity: 1;\" transform=\"translate(565.75,0)\">100</text></g><g class=\"xtick\"><text text-anchor=\"middle\" x=\"0\" y=\"460\" style=\"font-family: 'Open Sans', verdana, arial, sans-serif; font-size: 12px; fill: rgb(42, 63, 95); fill-opacity: 1; white-space: pre; opacity: 1;\" transform=\"translate(728.8,0)\">120</text></g><g class=\"xtick\"><text text-anchor=\"middle\" x=\"0\" y=\"460\" style=\"font-family: 'Open Sans', verdana, arial, sans-serif; font-size: 12px; fill: rgb(42, 63, 95); fill-opacity: 1; white-space: pre; opacity: 1;\" transform=\"translate(891.85,0)\">140</text></g></g><g class=\"yaxislayer-above\"><g class=\"ytick\"><text text-anchor=\"end\" x=\"49\" y=\"4.199999999999999\" transform=\"translate(0,263.5)\" style=\"font-family: 'Open Sans', verdana, arial, sans-serif; font-size: 12px; fill: rgb(42, 63, 95); fill-opacity: 1; white-space: pre; opacity: 1;\">trace 0</text></g></g><g class=\"overaxes-above\"/></g></g><g class=\"polarlayer\"/><g class=\"smithlayer\"/><g class=\"ternarylayer\"/><g class=\"geolayer\"/><g class=\"funnelarealayer\"/><g class=\"pielayer\"/><g class=\"iciclelayer\"/><g class=\"treemaplayer\"/><g class=\"sunburstlayer\"/><g class=\"glimages\"/><defs id=\"topdefs-b49356\"><g class=\"clips\"/></defs><g class=\"layer-above\"><g class=\"imagelayer\"/><g class=\"shapelayer\"/></g><g class=\"infolayer\"><g class=\"g-gtitle\"><text class=\"gtitle\" x=\"150\" y=\"25\" text-anchor=\"middle\" dy=\"0.7em\" style=\"font-family: 'Times New Roman'; font-size: 26px; fill: rgb(0, 0, 0); opacity: 1; font-weight: normal; white-space: pre;\">Boxplot of Weight</text></g><g class=\"g-xtitle\"><text class=\"xtitle\" x=\"500\" y=\"487.3\" text-anchor=\"middle\" style=\"font-family: 'Open Sans', verdana, arial, sans-serif; font-size: 14px; fill: rgb(42, 63, 95); opacity: 1; font-weight: normal; white-space: pre;\">Age</text></g><g class=\"g-ytitle\"/></g></svg>"
      ]
     },
     "metadata": {},
     "output_type": "display_data"
    }
   ],
   "source": [
    "fig = go.Figure(data=[go.Box(\n",
    "    x=df['wtkg'],\n",
    "    marker=dict(color=palette[1])\n",
    ")])\n",
    "\n",
    "fig.update_layout(\n",
    "    title_text=\"Boxplot of Weight\",\n",
    "    title_font_size=24,\n",
    "    title_font_family=\"Times New Roman\",\n",
    "    title_font_color=\"#000000\",  \n",
    "    paper_bgcolor='#ffffff',  \n",
    "    plot_bgcolor='#ffffff',  \n",
    "    xaxis=dict(title=\"Age\"),\n",
    ")\n",
    "\n",
    "fig.update_layout(\n",
    "    title={\n",
    "        'y':0.95,\n",
    "        'x':0.15,\n",
    "        'xanchor': 'center',\n",
    "        'yanchor': 'top'},\n",
    "    title_font_size=26,\n",
    "    margin=dict(l=50, r=50, t=80, b=50)\n",
    ")\n",
    "\n",
    "\n",
    "\n",
    "fig.update_layout(width=1000)\n",
    "\n",
    "fig.show('svg')"
   ]
  },
  {
   "cell_type": "markdown",
   "id": "4433385d",
   "metadata": {
    "papermill": {
     "duration": 0.031552,
     "end_time": "2024-06-02T04:53:30.093800",
     "exception": false,
     "start_time": "2024-06-02T04:53:30.062248",
     "status": "completed"
    },
    "tags": []
   },
   "source": [
    "*A great deal of outliers are present beyond 100*"
   ]
  },
  {
   "cell_type": "markdown",
   "id": "1230c759",
   "metadata": {
    "papermill": {
     "duration": 0.034167,
     "end_time": "2024-06-02T04:53:30.159535",
     "exception": false,
     "start_time": "2024-06-02T04:53:30.125368",
     "status": "completed"
    },
    "tags": []
   },
   "source": [
    "----------------------------------------------------------------------------------------------------------------------------------------------------------"
   ]
  },
  {
   "cell_type": "markdown",
   "id": "9c709144",
   "metadata": {
    "papermill": {
     "duration": 0.03141,
     "end_time": "2024-06-02T04:53:30.224786",
     "exception": false,
     "start_time": "2024-06-02T04:53:30.193376",
     "status": "completed"
    },
    "tags": []
   },
   "source": [
    "## hemo : Hemophilia \n",
    "***About***\n",
    "\n",
    "<div>\n",
    "<p>\n",
    "It refers to a genetic disorder characterized by the inability of the blood to clot normally. Individuals with hemophilia lack certain proteins, known as clotting factors, that are essential for blood clotting. As a result, they are at an increased risk of excessive bleeding, both internally and externally, even from minor injuries.\n",
    "\n",
    " </p>  \n",
    "</div>\n",
    "\n",
    "\n",
    "***Conclusions***\n",
    "- *Majority of the patients do not have hemophilia*"
   ]
  },
  {
   "cell_type": "code",
   "execution_count": 15,
   "id": "07c01498",
   "metadata": {
    "execution": {
     "iopub.execute_input": "2024-06-02T04:53:30.289528Z",
     "iopub.status.busy": "2024-06-02T04:53:30.289121Z",
     "iopub.status.idle": "2024-06-02T04:53:30.296528Z",
     "shell.execute_reply": "2024-06-02T04:53:30.295749Z"
    },
    "papermill": {
     "duration": 0.042063,
     "end_time": "2024-06-02T04:53:30.298553",
     "exception": false,
     "start_time": "2024-06-02T04:53:30.256490",
     "status": "completed"
    },
    "tags": []
   },
   "outputs": [
    {
     "data": {
      "text/plain": [
       "hemo\n",
       "0    14520\n",
       "1      480\n",
       "Name: count, dtype: int64"
      ]
     },
     "execution_count": 15,
     "metadata": {},
     "output_type": "execute_result"
    }
   ],
   "source": [
    "df['hemo'].value_counts()"
   ]
  },
  {
   "cell_type": "code",
   "execution_count": 16,
   "id": "de7be5d0",
   "metadata": {
    "_kg_hide-input": false,
    "execution": {
     "iopub.execute_input": "2024-06-02T04:53:30.378855Z",
     "iopub.status.busy": "2024-06-02T04:53:30.377551Z",
     "iopub.status.idle": "2024-06-02T04:53:30.515221Z",
     "shell.execute_reply": "2024-06-02T04:53:30.514349Z"
    },
    "papermill": {
     "duration": 0.180654,
     "end_time": "2024-06-02T04:53:30.518279",
     "exception": false,
     "start_time": "2024-06-02T04:53:30.337625",
     "status": "completed"
    },
    "tags": []
   },
   "outputs": [
    {
     "data": {
      "image/svg+xml": [
       "<svg class=\"main-svg\" xmlns=\"http://www.w3.org/2000/svg\" xmlns:xlink=\"http://www.w3.org/1999/xlink\" width=\"1000\" height=\"500\" style=\"\" viewBox=\"0 0 1000 500\"><rect x=\"0\" y=\"0\" width=\"1000\" height=\"500\" style=\"fill: rgb(255, 255, 255); fill-opacity: 1;\"/><defs id=\"defs-67e755\"><g class=\"clips\"/><g class=\"gradients\"/><g class=\"patterns\"/></defs><g class=\"bglayer\"/><g class=\"layer-below\"><g class=\"imagelayer\"/><g class=\"shapelayer\"/></g><g class=\"cartesianlayer\"/><g class=\"polarlayer\"/><g class=\"smithlayer\"/><g class=\"ternarylayer\"/><g class=\"geolayer\"/><g class=\"funnelarealayer\"/><g class=\"pielayer\"><g class=\"trace\" stroke-linejoin=\"round\" style=\"opacity: 1;\"><g class=\"slice\"><path class=\"surface\" d=\"M500,265l0,-185a185,185 0 1 1 -36.94634639516533,3.7268153089143254Z\" style=\"pointer-events: none; fill: rgb(197, 27, 125); fill-opacity: 1; stroke-width: 1; stroke: rgb(0, 0, 0); stroke-opacity: 1;\"/><g class=\"slicetext\"><text data-notex=\"1\" class=\"slicetext\" transform=\"translate(509.2834586237374,352.93140657077026)\" text-anchor=\"middle\" x=\"0\" y=\"0\" style=\"font-family: 'Open Sans', verdana, arial, sans-serif; font-size: 14px; fill: rgb(255, 255, 255); fill-opacity: 1; white-space: pre;\"><tspan class=\"line\" dy=\"0em\" x=\"0\" y=\"0\">0</tspan><tspan class=\"line\" dy=\"1.3em\" x=\"0\" y=\"0\">96.8%</tspan></text></g></g><g class=\"slice\"><path class=\"surface\" d=\"M500,265l-36.94634639516529,-181.27318469108567a185,185 0 0 1 36.94634639516529,-3.7268153089143254Z\" style=\"pointer-events: none; fill: rgb(222, 119, 174); fill-opacity: 1; stroke-width: 1; stroke: rgb(0, 0, 0); stroke-opacity: 1;\"/><g class=\"slicetext\"><text data-notex=\"1\" class=\"slicetext\" transform=\"translate(456.91355150252525,59.903191898814484)\" text-anchor=\"middle\" x=\"0\" y=\"0\" style=\"font-family: 'Open Sans', verdana, arial, sans-serif; font-size: 14px; fill: rgb(255, 255, 255); fill-opacity: 1; white-space: pre;\"><tspan class=\"line\" dy=\"0em\" x=\"0\" y=\"0\">1</tspan><tspan class=\"line\" dy=\"1.3em\" x=\"0\" y=\"0\">3.2%</tspan></text></g></g></g></g><g class=\"iciclelayer\"/><g class=\"treemaplayer\"/><g class=\"sunburstlayer\"/><g class=\"glimages\"/><defs id=\"topdefs-67e755\"><g class=\"clips\"/><clipPath id=\"legend67e755\"><rect width=\"144.4\" height=\"75.4\" x=\"0.3\" y=\"0.3\"/></clipPath></defs><g class=\"layer-above\"><g class=\"imagelayer\"/><g class=\"shapelayer\"/></g><g class=\"infolayer\"><g class=\"legend\" pointer-events=\"all\" transform=\"translate(704,227)\"><rect class=\"bg\" shape-rendering=\"crispEdges\" style=\"stroke: rgb(0, 0, 0); stroke-opacity: 1; fill: rgb(255, 255, 255); fill-opacity: 1; stroke-width: 0.3px;\" width=\"144.7\" height=\"75.7\" x=\"0.15\" y=\"0.15\"/><g class=\"scrollbox\" transform=\"\" clip-path=\"url(#legend67e755)\"><text class=\"legendtitletext\" text-anchor=\"start\" x=\"2.3\" y=\"22.400000000000002\" style=\"font-family: 'Times New Roman'; font-size: 17px; fill: rgb(0, 0, 0); fill-opacity: 1; white-space: pre;\">Hemophilia (no/yes)</text><g class=\"groups\"><g class=\"traces\" transform=\"translate(0.3,38)\" style=\"opacity: 1;\"><text class=\"legendtext\" text-anchor=\"start\" x=\"40\" y=\"5.46\" style=\"font-family: 'Times New Roman'; font-size: 14px; fill: rgb(0, 0, 0); fill-opacity: 1; white-space: pre;\">0</text><g class=\"layers\" style=\"opacity: 1;\"><g class=\"legendfill\"/><g class=\"legendlines\"/><g class=\"legendsymbols\"><g class=\"legendpoints\"><path class=\"legendpie\" d=\"M6,6H-6V-6H6Z\" transform=\"translate(20,0)\" style=\"fill: rgb(197, 27, 125); fill-opacity: 1; stroke-width: 1; stroke: rgb(0, 0, 0); stroke-opacity: 1;\"/></g></g></g><rect class=\"legendtoggle\" x=\"0\" y=\"-10.6\" width=\"47\" height=\"21.2\" style=\"fill: rgb(0, 0, 0); fill-opacity: 0;\"/></g><g class=\"traces\" transform=\"translate(0.3,59.2)\" style=\"opacity: 1;\"><text class=\"legendtext\" text-anchor=\"start\" x=\"40\" y=\"5.46\" style=\"font-family: 'Times New Roman'; font-size: 14px; fill: rgb(0, 0, 0); fill-opacity: 1; white-space: pre;\">1</text><g class=\"layers\" style=\"opacity: 1;\"><g class=\"legendfill\"/><g class=\"legendlines\"/><g class=\"legendsymbols\"><g class=\"legendpoints\"><path class=\"legendpie\" d=\"M6,6H-6V-6H6Z\" transform=\"translate(20,0)\" style=\"fill: rgb(222, 119, 174); fill-opacity: 1; stroke-width: 1; stroke: rgb(0, 0, 0); stroke-opacity: 1;\"/></g></g></g><rect class=\"legendtoggle\" x=\"0\" y=\"-10.6\" width=\"47\" height=\"21.2\" style=\"fill: rgb(0, 0, 0); fill-opacity: 0;\"/></g></g></g><rect class=\"scrollbar\" rx=\"20\" ry=\"3\" width=\"0\" height=\"0\" style=\"fill: rgb(128, 139, 164); fill-opacity: 1;\" x=\"0\" y=\"0\"/></g><g class=\"g-gtitle\"><text class=\"gtitle\" x=\"210\" y=\"25\" text-anchor=\"middle\" dy=\"0.7em\" style=\"font-family: 'Times New Roman'; font-size: 26px; fill: rgb(0, 0, 0); opacity: 1; font-weight: normal; white-space: pre;\">Distribution of Hemophilia</text></g><g class=\"annotation\" data-index=\"0\" style=\"opacity: 1;\"><g class=\"annotation-text-g\" transform=\"rotate(0,500,477.00000000000006)\"><g class=\"cursor-pointer\" transform=\"translate(363,467)\"><rect class=\"bg\" x=\"0.5\" y=\"0.5\" width=\"273\" height=\"19\" style=\"stroke-width: 1px; stroke: rgb(0, 0, 0); stroke-opacity: 0; fill: rgb(0, 0, 0); fill-opacity: 0;\"/><text class=\"annotation-text\" text-anchor=\"middle\" x=\"137.03125\" y=\"15\" style=\"font-family: 'Open Sans', verdana, arial, sans-serif; font-size: 14px; fill: rgb(0, 0, 0); fill-opacity: 1; white-space: pre;\">Majority of patients do not have hemophilia.</text></g></g></g></g></svg>"
      ]
     },
     "metadata": {},
     "output_type": "display_data"
    }
   ],
   "source": [
    "palette = cl.scales['9']['div']['PiYG']\n",
    "\n",
    "\n",
    "hemo = df['hemo'].value_counts().reset_index()\n",
    "hemo.columns = ['hemo', 'count']\n",
    "\n",
    "fig = go.Figure(data=[go.Pie(\n",
    "    labels=hemo['hemo'],\n",
    "    values=hemo['count'],\n",
    "    marker=dict(colors=palette, line=dict(color='#000000', width=1)),\n",
    "    textinfo=\"label+percent\",\n",
    "    textfont=dict(size=14, color='#FFFFFF')\n",
    ")])\n",
    "\n",
    "\n",
    "fig.update_layout(\n",
    "    title_text=\"Hemophilia Distribution\",\n",
    "    title_font_size=24,\n",
    "    title_font_family=\"Times New Roman\",\n",
    "    title_font_color=\"#000000\",  \n",
    "    paper_bgcolor='#ffffff',  \n",
    "    plot_bgcolor='#ffffff', \n",
    "    showlegend=True,\n",
    "    legend_title_text='Hemophilia (no/yes)',\n",
    "    legend=dict(\n",
    "        x=0.8,\n",
    "        y=0.5,\n",
    "        traceorder='normal',\n",
    "        font=dict(\n",
    "            family=\"Times New Roman\",\n",
    "            size=14,\n",
    "            color=\"#000000\"\n",
    "        ),\n",
    "        bgcolor=\"#ffffff\",  \n",
    "        bordercolor=\"#000000\", \n",
    "        borderwidth=0.3,\n",
    "        orientation=\"v\" \n",
    "    )\n",
    ")\n",
    "\n",
    "fig.update_layout(width=1000)\n",
    "\n",
    "fig.update_layout(\n",
    "    title={\n",
    "        'text': \"Distribution of Hemophilia\",\n",
    "        'y':0.95,\n",
    "        'x':0.21,\n",
    "        'xanchor': 'center',\n",
    "        'yanchor': 'top'},\n",
    "    title_font_size=26,\n",
    "    margin=dict(l=50, r=50, t=80, b=50)\n",
    ")\n",
    "\n",
    "fig.add_annotation(\n",
    "    text=\"Majority of patients do not have hemophilia.\",\n",
    "    x=0.5,\n",
    "    y=-0.10,\n",
    "    showarrow=False,\n",
    "    font=dict(color=\"#000000\", size=14) \n",
    ")\n",
    "\n",
    "# Show the pie chart\n",
    "fig.show('svg')\n"
   ]
  },
  {
   "cell_type": "markdown",
   "id": "f8c1c3b1",
   "metadata": {
    "papermill": {
     "duration": 0.035015,
     "end_time": "2024-06-02T04:53:30.590691",
     "exception": false,
     "start_time": "2024-06-02T04:53:30.555676",
     "status": "completed"
    },
    "tags": []
   },
   "source": [
    "----------------------------------------------------------------------------------------------------------------------------------------------------------"
   ]
  },
  {
   "cell_type": "markdown",
   "id": "8ca80c87",
   "metadata": {
    "papermill": {
     "duration": 0.032151,
     "end_time": "2024-06-02T04:53:30.655598",
     "exception": false,
     "start_time": "2024-06-02T04:53:30.623447",
     "status": "completed"
    },
    "tags": []
   },
   "source": [
    "## homo : Homosexual Activity \n",
    "***About***\n",
    "\n",
    "<div>\n",
    "<p>\n",
    "Homosexual activity refers to sexual activity between individuals of the same sex, often between men. Historically, homosexual activity has been associated with a higher risk of HIV transmission due to various factor.\n",
    " </p>  \n",
    "</div>\n",
    "\n",
    "\n",
    "***Conclusions***\n",
    "- *Majority of the patients have indulged in homosexual activity*"
   ]
  },
  {
   "cell_type": "code",
   "execution_count": 17,
   "id": "41b79139",
   "metadata": {
    "execution": {
     "iopub.execute_input": "2024-06-02T04:53:30.722589Z",
     "iopub.status.busy": "2024-06-02T04:53:30.722209Z",
     "iopub.status.idle": "2024-06-02T04:53:30.731338Z",
     "shell.execute_reply": "2024-06-02T04:53:30.730412Z"
    },
    "papermill": {
     "duration": 0.045214,
     "end_time": "2024-06-02T04:53:30.733542",
     "exception": false,
     "start_time": "2024-06-02T04:53:30.688328",
     "status": "completed"
    },
    "tags": []
   },
   "outputs": [
    {
     "data": {
      "text/plain": [
       "homo\n",
       "1    9791\n",
       "0    5209\n",
       "Name: count, dtype: int64"
      ]
     },
     "execution_count": 17,
     "metadata": {},
     "output_type": "execute_result"
    }
   ],
   "source": [
    "df['homo'].value_counts()"
   ]
  },
  {
   "cell_type": "code",
   "execution_count": 18,
   "id": "48e40212",
   "metadata": {
    "execution": {
     "iopub.execute_input": "2024-06-02T04:53:30.801422Z",
     "iopub.status.busy": "2024-06-02T04:53:30.800947Z",
     "iopub.status.idle": "2024-06-02T04:53:30.863903Z",
     "shell.execute_reply": "2024-06-02T04:53:30.862866Z"
    },
    "papermill": {
     "duration": 0.098842,
     "end_time": "2024-06-02T04:53:30.866273",
     "exception": false,
     "start_time": "2024-06-02T04:53:30.767431",
     "status": "completed"
    },
    "tags": []
   },
   "outputs": [
    {
     "data": {
      "image/svg+xml": [
       "<svg class=\"main-svg\" xmlns=\"http://www.w3.org/2000/svg\" xmlns:xlink=\"http://www.w3.org/1999/xlink\" width=\"1000\" height=\"500\" style=\"\" viewBox=\"0 0 1000 500\"><rect x=\"0\" y=\"0\" width=\"1000\" height=\"500\" style=\"fill: rgb(255, 255, 255); fill-opacity: 1;\"/><defs id=\"defs-0de397\"><g class=\"clips\"/><g class=\"gradients\"/><g class=\"patterns\"/></defs><g class=\"bglayer\"/><g class=\"layer-below\"><g class=\"imagelayer\"/><g class=\"shapelayer\"/></g><g class=\"cartesianlayer\"/><g class=\"polarlayer\"/><g class=\"smithlayer\"/><g class=\"ternarylayer\"/><g class=\"geolayer\"/><g class=\"funnelarealayer\"/><g class=\"pielayer\"><g class=\"trace\" stroke-linejoin=\"round\" style=\"opacity: 1;\"><g class=\"slice\"><path class=\"surface\" d=\"M500,265l0,-185a185,185 0 1 1 -151.51349032494048,291.1539554117234Z\" style=\"pointer-events: none; fill: rgb(215, 48, 39); fill-opacity: 1; stroke-width: 1; stroke: rgb(0, 0, 0); stroke-opacity: 1;\"/><g class=\"slicetext\"><text data-notex=\"1\" class=\"slicetext\" transform=\"translate(582.0544649540542,303.5987276758746)\" text-anchor=\"middle\" x=\"0\" y=\"0\" style=\"font-family: 'Open Sans', verdana, arial, sans-serif; font-size: 14px; fill: rgb(255, 255, 255); fill-opacity: 1; white-space: pre;\"><tspan class=\"line\" dy=\"0em\" x=\"0\" y=\"0\">1</tspan><tspan class=\"line\" dy=\"1.3em\" x=\"0\" y=\"0\">65.3%</tspan></text></g></g><g class=\"slice\"><path class=\"surface\" d=\"M500,265l-151.51349032494056,106.15395541172333a185,185 0 0 1 151.51349032494056,-291.15395541172336Z\" style=\"pointer-events: none; fill: rgb(244, 109, 67); fill-opacity: 1; stroke-width: 1; stroke: rgb(0, 0, 0); stroke-opacity: 1;\"/><g class=\"slicetext\"><text data-notex=\"1\" class=\"slicetext\" transform=\"translate(413.03530379188135,215.64291404709883)\" text-anchor=\"middle\" x=\"0\" y=\"0\" style=\"font-family: 'Open Sans', verdana, arial, sans-serif; font-size: 14px; fill: rgb(255, 255, 255); fill-opacity: 1; white-space: pre;\"><tspan class=\"line\" dy=\"0em\" x=\"0\" y=\"0\">0</tspan><tspan class=\"line\" dy=\"1.3em\" x=\"0\" y=\"0\">34.7%</tspan></text></g></g></g></g><g class=\"iciclelayer\"/><g class=\"treemaplayer\"/><g class=\"sunburstlayer\"/><g class=\"glimages\"/><defs id=\"topdefs-0de397\"><g class=\"clips\"/><clipPath id=\"legend0de397\"><rect width=\"210.6\" height=\"74.6\" x=\"0.7\" y=\"0.7\"/></clipPath></defs><g class=\"layer-above\"><g class=\"imagelayer\"/><g class=\"shapelayer\"/></g><g class=\"infolayer\"><g class=\"legend\" pointer-events=\"all\" transform=\"translate(770,227)\"><rect class=\"bg\" shape-rendering=\"crispEdges\" style=\"stroke: rgb(0, 0, 0); stroke-opacity: 1; fill: rgb(255, 255, 255); fill-opacity: 1; stroke-width: 0.7px;\" width=\"211.3\" height=\"75.3\" x=\"0.35\" y=\"0.35\"/><g class=\"scrollbox\" transform=\"\" clip-path=\"url(#legend0de397)\"><text class=\"legendtitletext\" text-anchor=\"start\" x=\"2.7\" y=\"22.8\" style=\"font-family: 'Times New Roman'; font-size: 17px; fill: rgb(0, 0, 0); fill-opacity: 1; white-space: pre;\">Homosexual Activity (no/yes)</text><g class=\"groups\"><g class=\"traces\" transform=\"translate(0.7,38.4)\" style=\"opacity: 1;\"><text class=\"legendtext\" text-anchor=\"start\" x=\"40\" y=\"5.46\" style=\"font-family: 'Times New Roman'; font-size: 14px; fill: rgb(0, 0, 0); fill-opacity: 1; white-space: pre;\">1</text><g class=\"layers\" style=\"opacity: 1;\"><g class=\"legendfill\"/><g class=\"legendlines\"/><g class=\"legendsymbols\"><g class=\"legendpoints\"><path class=\"legendpie\" d=\"M6,6H-6V-6H6Z\" transform=\"translate(20,0)\" style=\"fill: rgb(215, 48, 39); fill-opacity: 1; stroke-width: 1; stroke: rgb(0, 0, 0); stroke-opacity: 1;\"/></g></g></g><rect class=\"legendtoggle\" x=\"0\" y=\"-10.6\" width=\"47\" height=\"21.2\" style=\"fill: rgb(0, 0, 0); fill-opacity: 0;\"/></g><g class=\"traces\" transform=\"translate(0.7,59.6)\" style=\"opacity: 1;\"><text class=\"legendtext\" text-anchor=\"start\" x=\"40\" y=\"5.46\" style=\"font-family: 'Times New Roman'; font-size: 14px; fill: rgb(0, 0, 0); fill-opacity: 1; white-space: pre;\">0</text><g class=\"layers\" style=\"opacity: 1;\"><g class=\"legendfill\"/><g class=\"legendlines\"/><g class=\"legendsymbols\"><g class=\"legendpoints\"><path class=\"legendpie\" d=\"M6,6H-6V-6H6Z\" transform=\"translate(20,0)\" style=\"fill: rgb(244, 109, 67); fill-opacity: 1; stroke-width: 1; stroke: rgb(0, 0, 0); stroke-opacity: 1;\"/></g></g></g><rect class=\"legendtoggle\" x=\"0\" y=\"-10.6\" width=\"47\" height=\"21.2\" style=\"fill: rgb(0, 0, 0); fill-opacity: 0;\"/></g></g></g><rect class=\"scrollbar\" rx=\"20\" ry=\"3\" width=\"0\" height=\"0\" x=\"0\" y=\"0\" style=\"fill: rgb(128, 139, 164); fill-opacity: 1;\"/></g><g class=\"g-gtitle\"><text class=\"gtitle\" x=\"210\" y=\"25\" text-anchor=\"middle\" dy=\"0.7em\" style=\"font-family: 'Times New Roman'; font-size: 26px; fill: rgb(0, 0, 0); opacity: 1; font-weight: normal; white-space: pre;\">Distribution of Homosexual Activity</text></g><g class=\"annotation\" data-index=\"0\" style=\"opacity: 1;\"><g class=\"annotation-text-g\" transform=\"rotate(0,500,477.00000000000006)\"><g class=\"cursor-pointer\" transform=\"translate(322,467)\"><rect class=\"bg\" x=\"0.5\" y=\"0.5\" width=\"355\" height=\"19\" style=\"stroke-width: 1px; stroke: rgb(0, 0, 0); stroke-opacity: 0; fill: rgb(0, 0, 0); fill-opacity: 0;\"/><text class=\"annotation-text\" text-anchor=\"middle\" x=\"178.140625\" y=\"15\" style=\"font-family: 'Open Sans', verdana, arial, sans-serif; font-size: 14px; fill: rgb(0, 0, 0); fill-opacity: 1; white-space: pre;\">Majority of patients have indulged in homosexual activity.</text></g></g></g></g></svg>"
      ]
     },
     "metadata": {},
     "output_type": "display_data"
    }
   ],
   "source": [
    "palette = cl.scales['9']['div']['RdYlBu']\n",
    "\n",
    "\n",
    "homo = df['homo'].value_counts().reset_index()\n",
    "homo.columns = ['homo', 'count']\n",
    "\n",
    "fig = go.Figure(data=[go.Pie(\n",
    "    labels=homo['homo'],\n",
    "    values=homo['count'],\n",
    "    marker=dict(colors=palette, line=dict(color='#000000', width=1)),\n",
    "    textinfo=\"label+percent\",\n",
    "    textfont=dict(size=14, color='#FFFFFF')\n",
    ")])\n",
    "\n",
    "\n",
    "fig.update_layout(\n",
    "    title_text=\"Distribution of Homosexual Activity\",\n",
    "    title_font_size=24,\n",
    "    title_font_family=\"Times New Roman\",\n",
    "    title_font_color=\"#000000\",  \n",
    "    paper_bgcolor='#ffffff',  \n",
    "    plot_bgcolor='#ffffff', \n",
    "    showlegend=True,\n",
    "    legend_title_text='Homosexual Activity (no/yes)',\n",
    "    legend=dict(\n",
    "        x=0.8,\n",
    "        y=0.5,\n",
    "        traceorder='normal',\n",
    "        font=dict(\n",
    "            family=\"Times New Roman\",\n",
    "            size=14,\n",
    "            color=\"#000000\"\n",
    "        ),\n",
    "        bgcolor=\"#ffffff\",  \n",
    "        bordercolor=\"#000000\", \n",
    "        borderwidth=0.7,\n",
    "        orientation=\"v\" \n",
    "    )\n",
    ")\n",
    "\n",
    "fig.update_layout(width=1000)\n",
    "\n",
    "fig.update_layout(\n",
    "    title={\n",
    "        'text': \"Distribution of Homosexual Activity\",\n",
    "        'y':0.95,\n",
    "        'x':0.21,\n",
    "        'xanchor': 'center',\n",
    "        'yanchor': 'top'},\n",
    "    title_font_size=26,\n",
    "    margin=dict(l=50, r=50, t=80, b=50)\n",
    ")\n",
    "\n",
    "fig.add_annotation(\n",
    "    text=\"Majority of patients have indulged in homosexual activity.\",\n",
    "    x=0.5,\n",
    "    y=-0.10,\n",
    "    showarrow=False,\n",
    "    font=dict(color=\"#000000\", size=14) \n",
    ")\n",
    "\n",
    "# Show the pie chart\n",
    "fig.show('svg')\n"
   ]
  },
  {
   "cell_type": "markdown",
   "id": "5970ca49",
   "metadata": {
    "papermill": {
     "duration": 0.039634,
     "end_time": "2024-06-02T04:53:30.940331",
     "exception": false,
     "start_time": "2024-06-02T04:53:30.900697",
     "status": "completed"
    },
    "tags": []
   },
   "source": [
    "----------------------------------------------------------------------------------------------------------------------------------------------------------\n"
   ]
  },
  {
   "cell_type": "markdown",
   "id": "c164b364",
   "metadata": {
    "papermill": {
     "duration": 0.034658,
     "end_time": "2024-06-02T04:53:31.013306",
     "exception": false,
     "start_time": "2024-06-02T04:53:30.978648",
     "status": "completed"
    },
    "tags": []
   },
   "source": [
    "## drugs :  history of intravenous (IV) drug use  \n",
    "\n",
    "***Conclusions***\n",
    "- *Majority of the patients do not have a history of drug use*"
   ]
  },
  {
   "cell_type": "code",
   "execution_count": 19,
   "id": "063665db",
   "metadata": {
    "execution": {
     "iopub.execute_input": "2024-06-02T04:53:31.080782Z",
     "iopub.status.busy": "2024-06-02T04:53:31.079841Z",
     "iopub.status.idle": "2024-06-02T04:53:31.089191Z",
     "shell.execute_reply": "2024-06-02T04:53:31.088196Z"
    },
    "papermill": {
     "duration": 0.045784,
     "end_time": "2024-06-02T04:53:31.091300",
     "exception": false,
     "start_time": "2024-06-02T04:53:31.045516",
     "status": "completed"
    },
    "tags": []
   },
   "outputs": [
    {
     "data": {
      "text/plain": [
       "drugs\n",
       "0    13082\n",
       "1     1918\n",
       "Name: count, dtype: int64"
      ]
     },
     "execution_count": 19,
     "metadata": {},
     "output_type": "execute_result"
    }
   ],
   "source": [
    "df['drugs'].value_counts()"
   ]
  },
  {
   "cell_type": "code",
   "execution_count": 20,
   "id": "32e91f24",
   "metadata": {
    "execution": {
     "iopub.execute_input": "2024-06-02T04:53:31.158919Z",
     "iopub.status.busy": "2024-06-02T04:53:31.158005Z",
     "iopub.status.idle": "2024-06-02T04:53:31.226910Z",
     "shell.execute_reply": "2024-06-02T04:53:31.225983Z"
    },
    "papermill": {
     "duration": 0.105821,
     "end_time": "2024-06-02T04:53:31.229558",
     "exception": false,
     "start_time": "2024-06-02T04:53:31.123737",
     "status": "completed"
    },
    "tags": []
   },
   "outputs": [
    {
     "data": {
      "image/svg+xml": [
       "<svg class=\"main-svg\" xmlns=\"http://www.w3.org/2000/svg\" xmlns:xlink=\"http://www.w3.org/1999/xlink\" width=\"1000\" height=\"500\" style=\"\" viewBox=\"0 0 1000 500\"><rect x=\"0\" y=\"0\" width=\"1000\" height=\"500\" style=\"fill: rgb(255, 255, 255); fill-opacity: 1;\"/><defs id=\"defs-78ec54\"><g class=\"clips\"/><g class=\"gradients\"/><g class=\"patterns\"/></defs><g class=\"bglayer\"/><g class=\"layer-below\"><g class=\"imagelayer\"/><g class=\"shapelayer\"/></g><g class=\"cartesianlayer\"/><g class=\"polarlayer\"/><g class=\"smithlayer\"/><g class=\"ternarylayer\"/><g class=\"geolayer\"/><g class=\"funnelarealayer\"/><g class=\"pielayer\"><g class=\"trace\" stroke-linejoin=\"round\" style=\"opacity: 1;\"><g class=\"slice\"><path class=\"surface\" d=\"M500,265l0,-185a185,185 0 1 1 -133.14961683193496,56.562546204353225Z\" style=\"pointer-events: none; fill: rgb(165, 0, 38); fill-opacity: 1; stroke-width: 1; stroke: rgb(0, 0, 0); stroke-opacity: 1;\"/><g class=\"slicetext\"><text data-notex=\"1\" class=\"slicetext\" transform=\"translate(536.166405419611,346.0350401983948)\" text-anchor=\"middle\" x=\"0\" y=\"0\" style=\"font-family: 'Open Sans', verdana, arial, sans-serif; font-size: 14px; fill: rgb(255, 255, 255); fill-opacity: 1; white-space: pre;\"><tspan class=\"line\" dy=\"0em\" x=\"0\" y=\"0\">0</tspan><tspan class=\"line\" dy=\"1.3em\" x=\"0\" y=\"0\">87.2%</tspan></text></g></g><g class=\"slice\"><path class=\"surface\" d=\"M500,265l-133.14961683193494,-128.4374537956468a185,185 0 0 1 133.14961683193494,-56.5625462043532Z\" style=\"pointer-events: none; fill: rgb(215, 48, 39); fill-opacity: 1; stroke-width: 1; stroke: rgb(0, 0, 0); stroke-opacity: 1;\"/><g class=\"slicetext\"><text data-notex=\"1\" class=\"slicetext\" transform=\"translate(447.9989747066623,138.48675243086512)\" text-anchor=\"middle\" x=\"0\" y=\"0\" style=\"font-family: 'Open Sans', verdana, arial, sans-serif; font-size: 14px; fill: rgb(255, 255, 255); fill-opacity: 1; white-space: pre;\"><tspan class=\"line\" dy=\"0em\" x=\"0\" y=\"0\">1</tspan><tspan class=\"line\" dy=\"1.3em\" x=\"0\" y=\"0\">12.8%</tspan></text></g></g></g></g><g class=\"iciclelayer\"/><g class=\"treemaplayer\"/><g class=\"sunburstlayer\"/><g class=\"glimages\"/><defs id=\"topdefs-78ec54\"><g class=\"clips\"/><clipPath id=\"legend78ec54\"><rect width=\"140.6\" height=\"74.6\" x=\"0.7\" y=\"0.7\"/></clipPath></defs><g class=\"layer-above\"><g class=\"imagelayer\"/><g class=\"shapelayer\"/></g><g class=\"infolayer\"><g class=\"legend\" pointer-events=\"all\" transform=\"translate(770,227)\"><rect class=\"bg\" shape-rendering=\"crispEdges\" style=\"stroke: rgb(0, 0, 0); stroke-opacity: 1; fill: rgb(255, 255, 255); fill-opacity: 1; stroke-width: 0.7px;\" width=\"141.3\" height=\"75.3\" x=\"0.35\" y=\"0.35\"/><g class=\"scrollbox\" transform=\"\" clip-path=\"url(#legend78ec54)\"><text class=\"legendtitletext\" text-anchor=\"start\" x=\"2.7\" y=\"22.8\" style=\"font-family: 'Times New Roman'; font-size: 17px; fill: rgb(0, 0, 0); fill-opacity: 1; white-space: pre;\">IV drug use(no/yes)</text><g class=\"groups\"><g class=\"traces\" transform=\"translate(0.7,38.4)\" style=\"opacity: 1;\"><text class=\"legendtext\" text-anchor=\"start\" x=\"40\" y=\"5.46\" style=\"font-family: 'Times New Roman'; font-size: 14px; fill: rgb(0, 0, 0); fill-opacity: 1; white-space: pre;\">0</text><g class=\"layers\" style=\"opacity: 1;\"><g class=\"legendfill\"/><g class=\"legendlines\"/><g class=\"legendsymbols\"><g class=\"legendpoints\"><path class=\"legendpie\" d=\"M6,6H-6V-6H6Z\" transform=\"translate(20,0)\" style=\"fill: rgb(165, 0, 38); fill-opacity: 1; stroke-width: 1; stroke: rgb(0, 0, 0); stroke-opacity: 1;\"/></g></g></g><rect class=\"legendtoggle\" x=\"0\" y=\"-10.6\" width=\"47\" height=\"21.2\" style=\"fill: rgb(0, 0, 0); fill-opacity: 0;\"/></g><g class=\"traces\" transform=\"translate(0.7,59.6)\" style=\"opacity: 1;\"><text class=\"legendtext\" text-anchor=\"start\" x=\"40\" y=\"5.46\" style=\"font-family: 'Times New Roman'; font-size: 14px; fill: rgb(0, 0, 0); fill-opacity: 1; white-space: pre;\">1</text><g class=\"layers\" style=\"opacity: 1;\"><g class=\"legendfill\"/><g class=\"legendlines\"/><g class=\"legendsymbols\"><g class=\"legendpoints\"><path class=\"legendpie\" d=\"M6,6H-6V-6H6Z\" transform=\"translate(20,0)\" style=\"fill: rgb(215, 48, 39); fill-opacity: 1; stroke-width: 1; stroke: rgb(0, 0, 0); stroke-opacity: 1;\"/></g></g></g><rect class=\"legendtoggle\" x=\"0\" y=\"-10.6\" width=\"47\" height=\"21.2\" style=\"fill: rgb(0, 0, 0); fill-opacity: 0;\"/></g></g></g><rect class=\"scrollbar\" rx=\"20\" ry=\"3\" width=\"0\" height=\"0\" x=\"0\" y=\"0\" style=\"fill: rgb(128, 139, 164); fill-opacity: 1;\"/></g><g class=\"g-gtitle\"><text class=\"gtitle\" x=\"210\" y=\"25\" text-anchor=\"middle\" dy=\"0.7em\" style=\"font-family: 'Times New Roman'; font-size: 26px; fill: rgb(0, 0, 0); opacity: 1; font-weight: normal; white-space: pre;\">Distribution of Drug use</text></g><g class=\"annotation\" data-index=\"0\" style=\"opacity: 1;\"><g class=\"annotation-text-g\" transform=\"rotate(0,500,477.00000000000006)\"><g class=\"cursor-pointer\" transform=\"translate(334,467)\"><rect class=\"bg\" x=\"0.5\" y=\"0.5\" width=\"332\" height=\"19\" style=\"stroke-width: 1px; stroke: rgb(0, 0, 0); stroke-opacity: 0; fill: rgb(0, 0, 0); fill-opacity: 0;\"/><text class=\"annotation-text\" text-anchor=\"middle\" x=\"166.59375\" y=\"15\" style=\"font-family: 'Open Sans', verdana, arial, sans-serif; font-size: 14px; fill: rgb(0, 0, 0); fill-opacity: 1; white-space: pre;\">Majority of patients do not have a history of drug use.</text></g></g></g></g></svg>"
      ]
     },
     "metadata": {},
     "output_type": "display_data"
    }
   ],
   "source": [
    "palette = cl.scales['11']['div']['RdYlGn']\n",
    "\n",
    "\n",
    "drug = df['drugs'].value_counts().reset_index()\n",
    "drug.columns = ['drugs', 'count']\n",
    "\n",
    "fig = go.Figure(data=[go.Pie(\n",
    "    labels=drug['drugs'],\n",
    "    values=drug['count'],\n",
    "    marker=dict(colors=palette, line=dict(color='#000000', width=1)),\n",
    "    textinfo=\"label+percent\",\n",
    "    textfont=dict(size=14, color='#FFFFFF')\n",
    ")])\n",
    "\n",
    "\n",
    "fig.update_layout(\n",
    "    title_text=\"Distribution of Drug Use\",\n",
    "    title_font_size=24,\n",
    "    title_font_family=\"Times New Roman\",\n",
    "    title_font_color=\"#000000\",  \n",
    "    paper_bgcolor='#ffffff',  \n",
    "    plot_bgcolor='#ffffff', \n",
    "    showlegend=True,\n",
    "    legend_title_text='IV drug use(no/yes)',\n",
    "    legend=dict(\n",
    "        x=0.8,\n",
    "        y=0.5,\n",
    "        traceorder='normal',\n",
    "        font=dict(\n",
    "            family=\"Times New Roman\",\n",
    "            size=14,\n",
    "            color=\"#000000\"\n",
    "        ),\n",
    "        bgcolor=\"#ffffff\",  \n",
    "        bordercolor=\"#000000\", \n",
    "        borderwidth=0.7,\n",
    "        orientation=\"v\" \n",
    "    )\n",
    ")\n",
    "\n",
    "fig.update_layout(width=1000)\n",
    "\n",
    "fig.update_layout(\n",
    "    title={\n",
    "        'text': \"Distribution of Drug use\",\n",
    "        'y':0.95,\n",
    "        'x':0.21,\n",
    "        'xanchor': 'center',\n",
    "        'yanchor': 'top'},\n",
    "    title_font_size=26,\n",
    "    margin=dict(l=50, r=50, t=80, b=50)\n",
    ")\n",
    "\n",
    "fig.add_annotation(\n",
    "    text=\"Majority of patients do not have a history of drug use.\",\n",
    "    x=0.5,\n",
    "    y=-0.10,\n",
    "    showarrow=False,\n",
    "    font=dict(color=\"#000000\", size=14) \n",
    ")\n",
    "\n",
    "# Show the pie chart\n",
    "fig.show('svg')\n"
   ]
  },
  {
   "cell_type": "markdown",
   "id": "50a58a99",
   "metadata": {
    "papermill": {
     "duration": 0.032218,
     "end_time": "2024-06-02T04:53:31.298754",
     "exception": false,
     "start_time": "2024-06-02T04:53:31.266536",
     "status": "completed"
    },
    "tags": []
   },
   "source": [
    "----------------------------------------------------------------------------------------------------------------------------------------------------------"
   ]
  },
  {
   "cell_type": "markdown",
   "id": "877df8f8",
   "metadata": {
    "papermill": {
     "duration": 0.033602,
     "end_time": "2024-06-02T04:53:31.368699",
     "exception": false,
     "start_time": "2024-06-02T04:53:31.335097",
     "status": "completed"
    },
    "tags": []
   },
   "source": [
    "## karnof: Karnofsky score (on a scale of 0-100)\n",
    "\n",
    "***About***\n",
    "<div>\n",
    "    <p>\n",
    "The Karnofsky Performance Status (KPS) is a widely used measure of functional status and overall well-being in patients with various medical conditions, including AIDS  \n",
    "    In the context of AIDS, the Karnofsky score is particularly relevant for evaluating the impact of the disease on a patient's functional status and determining appropriate treatment and supportive care interventions. The score is typically assessed through a brief clinical evaluation and is based on the patient's ability to perform activities such as self-care, ambulation, and work.\n",
    "\n",
    "The Karnofsky score ranges from 0 to 100, with higher scores indicating better functional status and overall well-being. </p>\n",
    "        <ul>\n",
    "            <li>\n",
    "                100: Normal, no evidence of disease, able to carry on normal activities without any restrictions.\n",
    "            </li>\n",
    "            <li>\n",
    "                90: Able to carry on normal activities with minimal signs or symptoms of disease.\n",
    "            </li>\n",
    "            <li>\n",
    "                80: Normal activities with some signs or symptoms of disease, but generally able to care for oneself.\n",
    "            </li>\n",
    "            <li>\n",
    "                70: Cares for self but unable to carry on normal activities or to do active work.\n",
    "            </li>\n",
    "            <li>\n",
    "                60: Requires occasional assistance, but is able to care for most personal needs.\n",
    "            </li>\n",
    "            <li>\n",
    "                50: Requires considerable assistance and frequent medical care.\n",
    "            </li>\n",
    "            <li>\n",
    "                40: Disabled, requires special care and assistance.\n",
    "            </li>\n",
    "            <li>\n",
    "                30: Severely disabled, hospitalization is indicated, although death is not imminent.\n",
    "            </li>\n",
    "            <li>\n",
    "                20: Very sick, hospitalization necessary, active supportive treatment necessary.\n",
    "            </li>\n",
    "            <li>\n",
    "                10: Moribund, fatal processes progressing rapidly.\n",
    "            </li>\n",
    "            <li>\n",
    "                0: Dead.\n",
    "            </li>\n",
    "        </ul>\n",
    "</div>\n",
    "\n",
    "\n",
    "***Conclusions***\n",
    "\n",
    "- *The distribution is negatively skewed as most of the patients have karnfosky score of 100 which is a good sign*"
   ]
  },
  {
   "cell_type": "code",
   "execution_count": 21,
   "id": "bc2f686d",
   "metadata": {
    "execution": {
     "iopub.execute_input": "2024-06-02T04:53:31.437524Z",
     "iopub.status.busy": "2024-06-02T04:53:31.436771Z",
     "iopub.status.idle": "2024-06-02T04:53:31.445063Z",
     "shell.execute_reply": "2024-06-02T04:53:31.443930Z"
    },
    "papermill": {
     "duration": 0.044301,
     "end_time": "2024-06-02T04:53:31.447163",
     "exception": false,
     "start_time": "2024-06-02T04:53:31.402862",
     "status": "completed"
    },
    "tags": []
   },
   "outputs": [
    {
     "data": {
      "text/plain": [
       "karnof\n",
       "100    10512\n",
       "90      4106\n",
       "80       117\n",
       "81       103\n",
       "82        60\n",
       "79        60\n",
       "83        18\n",
       "91        15\n",
       "78         8\n",
       "77         1\n",
       "Name: count, dtype: int64"
      ]
     },
     "execution_count": 21,
     "metadata": {},
     "output_type": "execute_result"
    }
   ],
   "source": [
    "df['karnof'].value_counts().sort_values(ascending = False)"
   ]
  },
  {
   "cell_type": "markdown",
   "id": "aa4de4fe",
   "metadata": {
    "papermill": {
     "duration": 0.037347,
     "end_time": "2024-06-02T04:53:31.517191",
     "exception": false,
     "start_time": "2024-06-02T04:53:31.479844",
     "status": "completed"
    },
    "tags": []
   },
   "source": [
    "*Most of the people have the karnofsky score of 100*"
   ]
  },
  {
   "cell_type": "code",
   "execution_count": 22,
   "id": "0a236867",
   "metadata": {
    "execution": {
     "iopub.execute_input": "2024-06-02T04:53:31.588871Z",
     "iopub.status.busy": "2024-06-02T04:53:31.588360Z",
     "iopub.status.idle": "2024-06-02T04:53:31.716815Z",
     "shell.execute_reply": "2024-06-02T04:53:31.715564Z"
    },
    "papermill": {
     "duration": 0.166605,
     "end_time": "2024-06-02T04:53:31.719689",
     "exception": false,
     "start_time": "2024-06-02T04:53:31.553084",
     "status": "completed"
    },
    "tags": []
   },
   "outputs": [
    {
     "data": {
      "image/svg+xml": [
       "<svg class=\"main-svg\" xmlns=\"http://www.w3.org/2000/svg\" xmlns:xlink=\"http://www.w3.org/1999/xlink\" width=\"1000\" height=\"500\" style=\"\" viewBox=\"0 0 1000 500\"><rect x=\"0\" y=\"0\" width=\"1000\" height=\"500\" style=\"fill: rgb(255, 255, 255); fill-opacity: 1;\"/><defs id=\"defs-facf14\"><g class=\"clips\"><clipPath id=\"clipfacf14xyplot\" class=\"plotclip\"><rect width=\"893\" height=\"367\"/></clipPath><clipPath class=\"axesclip\" id=\"clipfacf14x\"><rect x=\"57\" y=\"0\" width=\"893\" height=\"500\"/></clipPath><clipPath class=\"axesclip\" id=\"clipfacf14y\"><rect x=\"0\" y=\"80\" width=\"1000\" height=\"367\"/></clipPath><clipPath class=\"axesclip\" id=\"clipfacf14xy\"><rect x=\"57\" y=\"80\" width=\"893\" height=\"367\"/></clipPath></g><g class=\"gradients\"/><g class=\"patterns\"/></defs><g class=\"bglayer\"/><g class=\"layer-below\"><g class=\"imagelayer\"/><g class=\"shapelayer\"/></g><g class=\"cartesianlayer\"><g class=\"subplot xy\"><g class=\"layer-subplot\"><g class=\"shapelayer\"/><g class=\"imagelayer\"/></g><g class=\"minor-gridlayer\"><g class=\"x\"/><g class=\"y\"/></g><g class=\"gridlayer\"><g class=\"x\"/><g class=\"y\"><path class=\"ygrid crisp\" transform=\"translate(0,380.67)\" d=\"M57,0h893\" style=\"stroke: rgb(255, 255, 255); stroke-opacity: 1; stroke-width: 1px;\"/><path class=\"ygrid crisp\" transform=\"translate(0,314.33000000000004)\" d=\"M57,0h893\" style=\"stroke: rgb(255, 255, 255); stroke-opacity: 1; stroke-width: 1px;\"/><path class=\"ygrid crisp\" transform=\"translate(0,248)\" d=\"M57,0h893\" style=\"stroke: rgb(255, 255, 255); stroke-opacity: 1; stroke-width: 1px;\"/><path class=\"ygrid crisp\" transform=\"translate(0,181.67000000000002)\" d=\"M57,0h893\" style=\"stroke: rgb(255, 255, 255); stroke-opacity: 1; stroke-width: 1px;\"/><path class=\"ygrid crisp\" transform=\"translate(0,115.33)\" d=\"M57,0h893\" style=\"stroke: rgb(255, 255, 255); stroke-opacity: 1; stroke-width: 1px;\"/></g></g><g class=\"zerolinelayer\"><path class=\"yzl zl crisp\" transform=\"translate(0,447)\" d=\"M57,0h893\" style=\"stroke: rgb(255, 255, 255); stroke-opacity: 1; stroke-width: 2px;\"/></g><path class=\"xlines-below\"/><path class=\"ylines-below\"/><g class=\"overlines-below\"/><g class=\"xaxislayer-below\"/><g class=\"yaxislayer-below\"/><g class=\"overaxes-below\"/><g class=\"plot\" transform=\"translate(57,80)\" clip-path=\"url(#clipfacf14xyplot)\"><g class=\"barlayer mlayer\"><g class=\"trace bars\" shape-rendering=\"crispEdges\" style=\"opacity: 1;\"><g class=\"points\"><g class=\"point\"><path d=\"M0,367V364.71H148.83V367Z\" style=\"vector-effect: none; opacity: 1; stroke-width: 0px; fill: rgb(215, 48, 39); fill-opacity: 1;\"/></g><g class=\"point\"><path d=\"M148.83,367V357.12H297.67V367Z\" style=\"vector-effect: none; opacity: 1; stroke-width: 0px; fill: rgb(215, 48, 39); fill-opacity: 1;\"/></g><g class=\"point\"><path d=\"M0,0Z\" style=\"vector-effect: none; opacity: 1; stroke-width: 0px; fill: rgb(215, 48, 39); fill-opacity: 1;\"/></g><g class=\"point\"><path d=\"M446.5,367V230.32H595.33V367Z\" style=\"vector-effect: none; opacity: 1; stroke-width: 0px; fill: rgb(215, 48, 39); fill-opacity: 1;\"/></g><g class=\"point\"><path d=\"M0,0Z\" style=\"vector-effect: none; opacity: 1; stroke-width: 0px; fill: rgb(215, 48, 39); fill-opacity: 1;\"/></g><g class=\"point\"><path d=\"M744.17,367V18.35H893V367Z\" style=\"vector-effect: none; opacity: 1; stroke-width: 0px; fill: rgb(215, 48, 39); fill-opacity: 1;\"/></g></g></g></g></g><g class=\"overplot\"/><path class=\"xlines-above crisp\" d=\"M0,0\" style=\"fill: none;\"/><path class=\"ylines-above crisp\" d=\"M0,0\" style=\"fill: none;\"/><g class=\"overlines-above\"/><g class=\"xaxislayer-above\"><g class=\"xtick\"><text text-anchor=\"middle\" x=\"0\" y=\"460\" transform=\"translate(71.88,0)\" style=\"font-family: 'Open Sans', verdana, arial, sans-serif; font-size: 12px; fill: rgb(42, 63, 95); fill-opacity: 1; white-space: pre; opacity: 1;\">75</text></g><g class=\"xtick\"><text text-anchor=\"middle\" x=\"0\" y=\"460\" style=\"font-family: 'Open Sans', verdana, arial, sans-serif; font-size: 12px; fill: rgb(42, 63, 95); fill-opacity: 1; white-space: pre; opacity: 1;\" transform=\"translate(220.72,0)\">80</text></g><g class=\"xtick\"><text text-anchor=\"middle\" x=\"0\" y=\"460\" style=\"font-family: 'Open Sans', verdana, arial, sans-serif; font-size: 12px; fill: rgb(42, 63, 95); fill-opacity: 1; white-space: pre; opacity: 1;\" transform=\"translate(369.55,0)\">85</text></g><g class=\"xtick\"><text text-anchor=\"middle\" x=\"0\" y=\"460\" style=\"font-family: 'Open Sans', verdana, arial, sans-serif; font-size: 12px; fill: rgb(42, 63, 95); fill-opacity: 1; white-space: pre; opacity: 1;\" transform=\"translate(518.38,0)\">90</text></g><g class=\"xtick\"><text text-anchor=\"middle\" x=\"0\" y=\"460\" style=\"font-family: 'Open Sans', verdana, arial, sans-serif; font-size: 12px; fill: rgb(42, 63, 95); fill-opacity: 1; white-space: pre; opacity: 1;\" transform=\"translate(667.22,0)\">95</text></g><g class=\"xtick\"><text text-anchor=\"middle\" x=\"0\" y=\"460\" style=\"font-family: 'Open Sans', verdana, arial, sans-serif; font-size: 12px; fill: rgb(42, 63, 95); fill-opacity: 1; white-space: pre; opacity: 1;\" transform=\"translate(816.05,0)\">100</text></g></g><g class=\"yaxislayer-above\"><g class=\"ytick\"><text text-anchor=\"end\" x=\"56\" y=\"4.199999999999999\" transform=\"translate(0,447)\" style=\"font-family: 'Open Sans', verdana, arial, sans-serif; font-size: 12px; fill: rgb(42, 63, 95); fill-opacity: 1; white-space: pre; opacity: 1;\">0</text></g><g class=\"ytick\"><text text-anchor=\"end\" x=\"56\" y=\"4.199999999999999\" style=\"font-family: 'Open Sans', verdana, arial, sans-serif; font-size: 12px; fill: rgb(42, 63, 95); fill-opacity: 1; white-space: pre; opacity: 1;\" transform=\"translate(0,380.67)\">2k</text></g><g class=\"ytick\"><text text-anchor=\"end\" x=\"56\" y=\"4.199999999999999\" style=\"font-family: 'Open Sans', verdana, arial, sans-serif; font-size: 12px; fill: rgb(42, 63, 95); fill-opacity: 1; white-space: pre; opacity: 1;\" transform=\"translate(0,314.33000000000004)\">4k</text></g><g class=\"ytick\"><text text-anchor=\"end\" x=\"56\" y=\"4.199999999999999\" style=\"font-family: 'Open Sans', verdana, arial, sans-serif; font-size: 12px; fill: rgb(42, 63, 95); fill-opacity: 1; white-space: pre; opacity: 1;\" transform=\"translate(0,248)\">6k</text></g><g class=\"ytick\"><text text-anchor=\"end\" x=\"56\" y=\"4.199999999999999\" style=\"font-family: 'Open Sans', verdana, arial, sans-serif; font-size: 12px; fill: rgb(42, 63, 95); fill-opacity: 1; white-space: pre; opacity: 1;\" transform=\"translate(0,181.67000000000002)\">8k</text></g><g class=\"ytick\"><text text-anchor=\"end\" x=\"56\" y=\"4.199999999999999\" style=\"font-family: 'Open Sans', verdana, arial, sans-serif; font-size: 12px; fill: rgb(42, 63, 95); fill-opacity: 1; white-space: pre; opacity: 1;\" transform=\"translate(0,115.33)\">10k</text></g></g><g class=\"overaxes-above\"/></g></g><g class=\"polarlayer\"/><g class=\"smithlayer\"/><g class=\"ternarylayer\"/><g class=\"geolayer\"/><g class=\"funnelarealayer\"/><g class=\"pielayer\"/><g class=\"iciclelayer\"/><g class=\"treemaplayer\"/><g class=\"sunburstlayer\"/><g class=\"glimages\"/><defs id=\"topdefs-facf14\"><g class=\"clips\"/></defs><g class=\"layer-above\"><g class=\"imagelayer\"/><g class=\"shapelayer\"/></g><g class=\"infolayer\"><g class=\"g-gtitle\"><text class=\"gtitle\" x=\"210\" y=\"25\" text-anchor=\"middle\" dy=\"0.7em\" style=\"font-family: 'Times New Roman'; font-size: 26px; fill: rgb(0, 0, 0); opacity: 1; font-weight: normal; white-space: pre;\">Karnofsky Score Distribution</text></g><g class=\"g-xtitle\"><text class=\"xtitle\" x=\"503.5\" y=\"487.3\" text-anchor=\"middle\" style=\"font-family: 'Open Sans', verdana, arial, sans-serif; font-size: 14px; fill: rgb(42, 63, 95); opacity: 1; font-weight: normal; white-space: pre;\">Karnofsky Score</text></g><g class=\"g-ytitle\" transform=\"translate(0.6591796875,0)\"><text class=\"ytitle\" transform=\"rotate(-90,12.340625000000003,263.5)\" x=\"12.340625000000003\" y=\"263.5\" text-anchor=\"middle\" style=\"font-family: 'Open Sans', verdana, arial, sans-serif; font-size: 14px; fill: rgb(42, 63, 95); opacity: 1; font-weight: normal; white-space: pre;\">Frequency</text></g></g></svg>"
      ]
     },
     "metadata": {},
     "output_type": "display_data"
    }
   ],
   "source": [
    "fig = go.Figure(data=[go.Histogram(\n",
    "    x=df['karnof'],\n",
    "    marker=dict(color=palette[1]),  # Use the second color from the palette\n",
    "    nbinsx=10\n",
    ")])\n",
    "\n",
    "# Update layout\n",
    "fig.update_layout(\n",
    "    title_text=\"Karnofsky Score Distribution\",\n",
    "    title_font_size=24,\n",
    "    title_font_family=\"Times New Roman\",\n",
    "    title_font_color=\"#000000\",\n",
    "    paper_bgcolor='#ffffff',\n",
    "    plot_bgcolor='#ffffff',\n",
    "    xaxis=dict(title=\"Karnofsky Score\"),\n",
    "    yaxis=dict(title=\"Frequency\"),\n",
    ")\n",
    "\n",
    "# Set title properties\n",
    "fig.update_layout(\n",
    "    title={\n",
    "        'text': \"Karnofsky Score Distribution\",\n",
    "        'y':0.95,\n",
    "        'x':0.21,\n",
    "        'xanchor': 'center',\n",
    "        'yanchor': 'top'},\n",
    "    title_font_size=26,\n",
    "    margin=dict(l=50, r=50, t=80, b=50)\n",
    ")\n",
    "\n",
    "# Set the width of the figure\n",
    "fig.update_layout(width=1000)\n",
    "\n",
    "# Show the histogram\n",
    "fig.show('svg')"
   ]
  },
  {
   "cell_type": "code",
   "execution_count": 23,
   "id": "892a4bab",
   "metadata": {
    "execution": {
     "iopub.execute_input": "2024-06-02T04:53:31.793269Z",
     "iopub.status.busy": "2024-06-02T04:53:31.792911Z",
     "iopub.status.idle": "2024-06-02T04:53:31.957309Z",
     "shell.execute_reply": "2024-06-02T04:53:31.956016Z"
    },
    "papermill": {
     "duration": 0.201229,
     "end_time": "2024-06-02T04:53:31.959670",
     "exception": false,
     "start_time": "2024-06-02T04:53:31.758441",
     "status": "completed"
    },
    "tags": []
   },
   "outputs": [
    {
     "data": {
      "image/png": "[encoded data removed]"
     },
     "metadata": {},
     "output_type": "display_data"
    }
   ],
   "source": [
    "fig = go.Figure(data=[go.Box(\n",
    "    x=df['karnof'],\n",
    "    marker=dict(color=palette[1])\n",
    ")])\n",
    "\n",
    "fig.update_layout(\n",
    "    title_text=\"Boxplot of Karnofsky Score\",\n",
    "    title_font_size=24,\n",
    "    title_font_family=\"Times New Roman\",\n",
    "    title_font_color=\"#000000\",  \n",
    "    paper_bgcolor='#ffffff',  \n",
    "    plot_bgcolor='#ffffff',  \n",
    "    xaxis=dict(title=\"Karnofsky score\"),\n",
    ")\n",
    "\n",
    "fig.update_layout(\n",
    "    title={\n",
    "        'y':0.95,\n",
    "        'x':0.15,\n",
    "        'xanchor': 'center',\n",
    "        'yanchor': 'top'},\n",
    "    title_font_size=26,\n",
    "    margin=dict(l=50, r=50, t=80, b=50)\n",
    ")\n",
    "\n",
    "\n",
    "\n",
    "fig.update_layout(width=1000)\n",
    "\n",
    "fig.show('png')"
   ]
  },
  {
   "cell_type": "code",
   "execution_count": 24,
   "id": "3988521d",
   "metadata": {
    "execution": {
     "iopub.execute_input": "2024-06-02T04:53:32.029178Z",
     "iopub.status.busy": "2024-06-02T04:53:32.028199Z",
     "iopub.status.idle": "2024-06-02T04:53:32.034941Z",
     "shell.execute_reply": "2024-06-02T04:53:32.033841Z"
    },
    "papermill": {
     "duration": 0.043869,
     "end_time": "2024-06-02T04:53:32.037107",
     "exception": false,
     "start_time": "2024-06-02T04:53:31.993238",
     "status": "completed"
    },
    "tags": []
   },
   "outputs": [
    {
     "data": {
      "text/plain": [
       "-1.243294303843015"
      ]
     },
     "execution_count": 24,
     "metadata": {},
     "output_type": "execute_result"
    }
   ],
   "source": [
    "df['karnof'].skew()"
   ]
  },
  {
   "cell_type": "markdown",
   "id": "2c9bbf6d",
   "metadata": {
    "papermill": {
     "duration": 0.033044,
     "end_time": "2024-06-02T04:53:32.103776",
     "exception": false,
     "start_time": "2024-06-02T04:53:32.070732",
     "status": "completed"
    },
    "tags": []
   },
   "source": [
    "*negatively skewed data*"
   ]
  },
  {
   "cell_type": "markdown",
   "id": "a6a1aa0d",
   "metadata": {
    "papermill": {
     "duration": 0.034367,
     "end_time": "2024-06-02T04:53:32.171347",
     "exception": false,
     "start_time": "2024-06-02T04:53:32.136980",
     "status": "completed"
    },
    "tags": []
   },
   "source": [
    "----------------------------------------------------------------------------------------------------------------------------------------------------------"
   ]
  },
  {
   "cell_type": "markdown",
   "id": "c5c91615",
   "metadata": {
    "papermill": {
     "duration": 0.033042,
     "end_time": "2024-06-02T04:53:32.238807",
     "exception": false,
     "start_time": "2024-06-02T04:53:32.205765",
     "status": "completed"
    },
    "tags": []
   },
   "source": [
    "## oprior: Non-ZDV antiretroviral therapy pre-175 \n",
    "\n",
    "***About***\n",
    "\n",
    "<div>\n",
    "    <p>\n",
    "        Antiretroviral therapy (ART) is a critical component of managing HIV infection, and non-ZDV therapies refer to antiretroviral medications other than Zidovudine. Monitoring the administration of such therapies in the context of AIDS infection datasets helps researchers understand the impact of different treatment regimens on disease progression, patient outcomes, and overall healthcare management strategies.\n",
    "        </p>\n",
    "    <br>\n",
    "    <p>\n",
    "        \"oprior\"  represents whether non-ZDV (Zidovudine) antiretroviral therapy was administered prior to 175 weeks (approximately 3.3 years) of observation. The values \"0\" typically indicate \"no\" or absence of the treatment, while \"1\" signifies \"yes\" or presence of the treatment.\n",
    "       </p>\n",
    "   \n",
    "   </div>\n",
    "   \n",
    "***Conclusion***\n",
    "\n",
    "- *Majority of the patients were not administered the antiretroviral therapy*"
   ]
  },
  {
   "cell_type": "code",
   "execution_count": 25,
   "id": "f39eab3d",
   "metadata": {
    "execution": {
     "iopub.execute_input": "2024-06-02T04:53:32.307863Z",
     "iopub.status.busy": "2024-06-02T04:53:32.307195Z",
     "iopub.status.idle": "2024-06-02T04:53:32.314854Z",
     "shell.execute_reply": "2024-06-02T04:53:32.313902Z"
    },
    "papermill": {
     "duration": 0.044648,
     "end_time": "2024-06-02T04:53:32.316839",
     "exception": false,
     "start_time": "2024-06-02T04:53:32.272191",
     "status": "completed"
    },
    "tags": []
   },
   "outputs": [
    {
     "data": {
      "text/plain": [
       "oprior\n",
       "0    14384\n",
       "1      616\n",
       "Name: count, dtype: int64"
      ]
     },
     "execution_count": 25,
     "metadata": {},
     "output_type": "execute_result"
    }
   ],
   "source": [
    "df['oprior'].value_counts()"
   ]
  },
  {
   "cell_type": "markdown",
   "id": "bc355086",
   "metadata": {
    "papermill": {
     "duration": 0.033141,
     "end_time": "2024-06-02T04:53:32.385101",
     "exception": false,
     "start_time": "2024-06-02T04:53:32.351960",
     "status": "completed"
    },
    "tags": []
   },
   "source": [
    "*antiretroviral therapy was `not` administered in majority of the patients*"
   ]
  },
  {
   "cell_type": "markdown",
   "id": "5ea828f1",
   "metadata": {
    "papermill": {
     "duration": 0.033328,
     "end_time": "2024-06-02T04:53:32.451934",
     "exception": false,
     "start_time": "2024-06-02T04:53:32.418606",
     "status": "completed"
    },
    "tags": []
   },
   "source": [
    "----------------------------------------------------------------------------------------------------------------------------------------------------------"
   ]
  },
  {
   "cell_type": "markdown",
   "id": "d112a610",
   "metadata": {
    "papermill": {
     "duration": 0.032833,
     "end_time": "2024-06-02T04:53:32.517981",
     "exception": false,
     "start_time": "2024-06-02T04:53:32.485148",
     "status": "completed"
    },
    "tags": []
   },
   "source": [
    "## z30: ZDV in the 30 days prior to 175\n",
    "\n",
    "***About***\n",
    "\n",
    "<div>\n",
    "    <p>\n",
    "       The variable \"z30\" refers to whether Zidovudine (ZDV), an antiretroviral medication, was administered in the 30 days prior to the 175-week mark of observation. \n",
    "        </p>\n",
    "    <br>\n",
    "    <p>\n",
    "        Zidovudine, also known as AZT, was one of the first drugs used to treat HIV and remains an important component of antiretroviral therapy. By examining the \"z30\" variable, researchers can assess the short-term use of ZDV leading up to the 175-week mark and its potential impact on patient outcomes. \n",
    "       </p>\n",
    "   \n",
    "   </div>\n",
    "   \n",
    "***Conclusion***\n",
    "\n",
    "- *No evident high correlation*\n",
    "- *Most of the patients were administered the drug*"
   ]
  },
  {
   "cell_type": "code",
   "execution_count": 26,
   "id": "6e223770",
   "metadata": {
    "execution": {
     "iopub.execute_input": "2024-06-02T04:53:32.587622Z",
     "iopub.status.busy": "2024-06-02T04:53:32.586858Z",
     "iopub.status.idle": "2024-06-02T04:53:32.594398Z",
     "shell.execute_reply": "2024-06-02T04:53:32.593536Z"
    },
    "papermill": {
     "duration": 0.044843,
     "end_time": "2024-06-02T04:53:32.596776",
     "exception": false,
     "start_time": "2024-06-02T04:53:32.551933",
     "status": "completed"
    },
    "tags": []
   },
   "outputs": [
    {
     "data": {
      "text/plain": [
       "z30\n",
       "1    9688\n",
       "0    5312\n",
       "Name: count, dtype: int64"
      ]
     },
     "execution_count": 26,
     "metadata": {},
     "output_type": "execute_result"
    }
   ],
   "source": [
    "df['z30'].value_counts()"
   ]
  },
  {
   "cell_type": "code",
   "execution_count": 27,
   "id": "8e35c342",
   "metadata": {
    "execution": {
     "iopub.execute_input": "2024-06-02T04:53:32.665770Z",
     "iopub.status.busy": "2024-06-02T04:53:32.665330Z",
     "iopub.status.idle": "2024-06-02T04:53:32.701600Z",
     "shell.execute_reply": "2024-06-02T04:53:32.700478Z"
    },
    "papermill": {
     "duration": 0.073571,
     "end_time": "2024-06-02T04:53:32.704183",
     "exception": false,
     "start_time": "2024-06-02T04:53:32.630612",
     "status": "completed"
    },
    "tags": []
   },
   "outputs": [
    {
     "data": {
      "text/plain": [
       "time         -8.618930\n",
       "trt           2.173557\n",
       "age          13.073698\n",
       "wtkg         -8.469138\n",
       "hemo          6.097358\n",
       "homo          0.272864\n",
       "drugs        -3.663879\n",
       "karnof      -12.277447\n",
       "oprior        5.348880\n",
       "z30         100.000000\n",
       "preanti      42.378861\n",
       "race         -9.860449\n",
       "gender       -1.681352\n",
       "str2         60.919072\n",
       "strat        57.333837\n",
       "symptom       1.727802\n",
       "treat         3.788999\n",
       "offtrt       -0.473082\n",
       "cd40        -20.962515\n",
       "cd420       -28.923362\n",
       "cd80         -2.207320\n",
       "cd820         0.621898\n",
       "infected     23.716859\n",
       "Name: z30, dtype: float64"
      ]
     },
     "execution_count": 27,
     "metadata": {},
     "output_type": "execute_result"
    }
   ],
   "source": [
    "df.corr()['z30']*100\n"
   ]
  },
  {
   "cell_type": "markdown",
   "id": "b9a4ba29",
   "metadata": {
    "papermill": {
     "duration": 0.033313,
     "end_time": "2024-06-02T04:53:32.770865",
     "exception": false,
     "start_time": "2024-06-02T04:53:32.737552",
     "status": "completed"
    },
    "tags": []
   },
   "source": [
    "*z30 doesn't seem to have a high correlation with most of the variables. `str2 :antiretroviral history ` and z30 are slightly correlated* "
   ]
  },
  {
   "cell_type": "code",
   "execution_count": 28,
   "id": "2846ab2c",
   "metadata": {
    "execution": {
     "iopub.execute_input": "2024-06-02T04:53:32.840483Z",
     "iopub.status.busy": "2024-06-02T04:53:32.840107Z",
     "iopub.status.idle": "2024-06-02T04:53:32.902522Z",
     "shell.execute_reply": "2024-06-02T04:53:32.901749Z"
    },
    "papermill": {
     "duration": 0.099915,
     "end_time": "2024-06-02T04:53:32.904972",
     "exception": false,
     "start_time": "2024-06-02T04:53:32.805057",
     "status": "completed"
    },
    "tags": []
   },
   "outputs": [
    {
     "data": {
      "image/svg+xml": [
       "<svg class=\"main-svg\" xmlns=\"http://www.w3.org/2000/svg\" xmlns:xlink=\"http://www.w3.org/1999/xlink\" width=\"1000\" height=\"500\" style=\"\" viewBox=\"0 0 1000 500\"><rect x=\"0\" y=\"0\" width=\"1000\" height=\"500\" style=\"fill: rgb(255, 255, 255); fill-opacity: 1;\"/><defs id=\"defs-758e74\"><g class=\"clips\"/><g class=\"gradients\"/><g class=\"patterns\"/></defs><g class=\"bglayer\"/><g class=\"layer-below\"><g class=\"imagelayer\"/><g class=\"shapelayer\"/></g><g class=\"cartesianlayer\"/><g class=\"polarlayer\"/><g class=\"smithlayer\"/><g class=\"ternarylayer\"/><g class=\"geolayer\"/><g class=\"funnelarealayer\"/><g class=\"pielayer\"><g class=\"trace\" stroke-linejoin=\"round\" style=\"opacity: 1;\"><g class=\"slice\"><path class=\"surface\" d=\"M500,265l0,-185a185,185 0 1 1 -146.79395199334738,297.5901223828042Z\" style=\"pointer-events: none; fill: rgb(165, 0, 38); fill-opacity: 1; stroke-width: 1; stroke: rgb(0, 0, 0); stroke-opacity: 1;\"/><g class=\"slicetext\"><text data-notex=\"1\" class=\"slicetext\" transform=\"translate(582.9564438732903,301.8188287481009)\" text-anchor=\"middle\" x=\"0\" y=\"0\" style=\"font-family: 'Open Sans', verdana, arial, sans-serif; font-size: 14px; fill: rgb(255, 255, 255); fill-opacity: 1; white-space: pre;\"><tspan class=\"line\" dy=\"0em\" x=\"0\" y=\"0\">1</tspan><tspan class=\"line\" dy=\"1.3em\" x=\"0\" y=\"0\">64.6%</tspan></text></g></g><g class=\"slice\"><path class=\"surface\" d=\"M500,265l-146.7939519933474,112.59012238280415a185,185 0 0 1 146.7939519933474,-297.59012238280417Z\" style=\"pointer-events: none; fill: rgb(215, 48, 39); fill-opacity: 1; stroke-width: 1; stroke: rgb(0, 0, 0); stroke-opacity: 1;\"/><g class=\"slicetext\"><text data-notex=\"1\" class=\"slicetext\" transform=\"translate(412.5313281304058,217.75227419142576)\" text-anchor=\"middle\" x=\"0\" y=\"0\" style=\"font-family: 'Open Sans', verdana, arial, sans-serif; font-size: 14px; fill: rgb(255, 255, 255); fill-opacity: 1; white-space: pre;\"><tspan class=\"line\" dy=\"0em\" x=\"0\" y=\"0\">0</tspan><tspan class=\"line\" dy=\"1.3em\" x=\"0\" y=\"0\">35.4%</tspan></text></g></g></g></g><g class=\"iciclelayer\"/><g class=\"treemaplayer\"/><g class=\"sunburstlayer\"/><g class=\"glimages\"/><defs id=\"topdefs-758e74\"><g class=\"clips\"/><clipPath id=\"legend758e74\"><rect width=\"156.6\" height=\"74.6\" x=\"0.7\" y=\"0.7\"/></clipPath></defs><g class=\"layer-above\"><g class=\"imagelayer\"/><g class=\"shapelayer\"/></g><g class=\"infolayer\"><g class=\"legend\" pointer-events=\"all\" transform=\"translate(770,227)\"><rect class=\"bg\" shape-rendering=\"crispEdges\" style=\"stroke: rgb(0, 0, 0); stroke-opacity: 1; fill: rgb(255, 255, 255); fill-opacity: 1; stroke-width: 0.7px;\" width=\"157.3\" height=\"75.3\" x=\"0.35\" y=\"0.35\"/><g class=\"scrollbox\" transform=\"\" clip-path=\"url(#legend758e74)\"><text class=\"legendtitletext\" text-anchor=\"start\" x=\"2.7\" y=\"22.8\" style=\"font-family: 'Times New Roman'; font-size: 17px; fill: rgb(0, 0, 0); fill-opacity: 1; white-space: pre;\">Administered (no/yes)</text><g class=\"groups\"><g class=\"traces\" transform=\"translate(0.7,38.4)\" style=\"opacity: 1;\"><text class=\"legendtext\" text-anchor=\"start\" x=\"40\" y=\"5.46\" style=\"font-family: 'Times New Roman'; font-size: 14px; fill: rgb(0, 0, 0); fill-opacity: 1; white-space: pre;\">1</text><g class=\"layers\" style=\"opacity: 1;\"><g class=\"legendfill\"/><g class=\"legendlines\"/><g class=\"legendsymbols\"><g class=\"legendpoints\"><path class=\"legendpie\" d=\"M6,6H-6V-6H6Z\" transform=\"translate(20,0)\" style=\"fill: rgb(165, 0, 38); fill-opacity: 1; stroke-width: 1; stroke: rgb(0, 0, 0); stroke-opacity: 1;\"/></g></g></g><rect class=\"legendtoggle\" x=\"0\" y=\"-10.6\" width=\"47\" height=\"21.2\" style=\"fill: rgb(0, 0, 0); fill-opacity: 0;\"/></g><g class=\"traces\" transform=\"translate(0.7,59.6)\" style=\"opacity: 1;\"><text class=\"legendtext\" text-anchor=\"start\" x=\"40\" y=\"5.46\" style=\"font-family: 'Times New Roman'; font-size: 14px; fill: rgb(0, 0, 0); fill-opacity: 1; white-space: pre;\">0</text><g class=\"layers\" style=\"opacity: 1;\"><g class=\"legendfill\"/><g class=\"legendlines\"/><g class=\"legendsymbols\"><g class=\"legendpoints\"><path class=\"legendpie\" d=\"M6,6H-6V-6H6Z\" transform=\"translate(20,0)\" style=\"fill: rgb(215, 48, 39); fill-opacity: 1; stroke-width: 1; stroke: rgb(0, 0, 0); stroke-opacity: 1;\"/></g></g></g><rect class=\"legendtoggle\" x=\"0\" y=\"-10.6\" width=\"47\" height=\"21.2\" style=\"fill: rgb(0, 0, 0); fill-opacity: 0;\"/></g></g></g><rect class=\"scrollbar\" rx=\"20\" ry=\"3\" width=\"0\" height=\"0\" x=\"0\" y=\"0\" style=\"fill: rgb(128, 139, 164); fill-opacity: 1;\"/></g><g class=\"g-gtitle\"><text class=\"gtitle\" x=\"210\" y=\"25\" text-anchor=\"middle\" dy=\"0.7em\" style=\"font-family: 'Times New Roman'; font-size: 26px; fill: rgb(0, 0, 0); opacity: 1; font-weight: normal; white-space: pre;\">Distribution of administration of ZDV</text></g><g class=\"annotation\" data-index=\"0\" style=\"opacity: 1;\"><g class=\"annotation-text-g\" transform=\"rotate(0,500,477.00000000000006)\"><g class=\"cursor-pointer\" transform=\"translate(317,467)\"><rect class=\"bg\" x=\"0.5\" y=\"0.5\" width=\"366\" height=\"19\" style=\"stroke-width: 1px; stroke: rgb(0, 0, 0); stroke-opacity: 0; fill: rgb(0, 0, 0); fill-opacity: 0;\"/><text class=\"annotation-text\" text-anchor=\"middle\" x=\"183.3125\" y=\"15\" style=\"font-family: 'Open Sans', verdana, arial, sans-serif; font-size: 14px; fill: rgb(0, 0, 0); fill-opacity: 1; white-space: pre;\">Majority of patients were administered ZDV in the 30 days.</text></g></g></g></g></svg>"
      ]
     },
     "metadata": {},
     "output_type": "display_data"
    }
   ],
   "source": [
    "\n",
    "palette = cl.scales['11']['div']['RdYlGn']\n",
    "\n",
    "\n",
    "z30 = df['z30'].value_counts().reset_index()\n",
    "z30.columns = ['z30', 'count']\n",
    "\n",
    "fig = go.Figure(data=[go.Pie(\n",
    "    labels=z30['z30'],\n",
    "    values=z30['count'],\n",
    "    marker=dict(colors=palette, line=dict(color='#000000', width=1)),\n",
    "    textinfo=\"label+percent\",\n",
    "    textfont=dict(size=14, color='#FFFFFF')\n",
    ")])\n",
    "\n",
    "\n",
    "fig.update_layout(\n",
    "    title_text=\"Distribution of administration of ZDV\",\n",
    "    title_font_size=24,\n",
    "    title_font_family=\"Times New Roman\",\n",
    "    title_font_color=\"#000000\",  \n",
    "    paper_bgcolor='#ffffff',  \n",
    "    plot_bgcolor='#ffffff', \n",
    "    showlegend=True,\n",
    "    legend_title_text='Administered (no/yes)',\n",
    "    legend=dict(\n",
    "        x=0.8,\n",
    "        y=0.5,\n",
    "        traceorder='normal',\n",
    "        font=dict(\n",
    "            family=\"Times New Roman\",\n",
    "            size=14,\n",
    "            color=\"#000000\"\n",
    "        ),\n",
    "        bgcolor=\"#ffffff\",  \n",
    "        bordercolor=\"#000000\", \n",
    "        borderwidth=0.7,\n",
    "        orientation=\"v\" \n",
    "    )\n",
    ")\n",
    "\n",
    "fig.update_layout(width=1000)\n",
    "\n",
    "fig.update_layout(\n",
    "    title={\n",
    "        'text': \"Distribution of administration of ZDV\",\n",
    "        'y':0.95,\n",
    "        'x':0.21,\n",
    "        'xanchor': 'center',\n",
    "        'yanchor': 'top'},\n",
    "    title_font_size=26,\n",
    "    margin=dict(l=50, r=50, t=80, b=50)\n",
    ")\n",
    "\n",
    "fig.add_annotation(\n",
    "    text=\"Majority of patients were administered ZDV in the 30 days.\",\n",
    "    x=0.5,\n",
    "    y=-0.10,\n",
    "    showarrow=False,\n",
    "    font=dict(color=\"#000000\", size=14) \n",
    ")\n",
    "\n",
    "# Show the pie chart\n",
    "fig.show('svg')\n"
   ]
  },
  {
   "cell_type": "markdown",
   "id": "4e8c823c",
   "metadata": {
    "papermill": {
     "duration": 0.034626,
     "end_time": "2024-06-02T04:53:32.974262",
     "exception": false,
     "start_time": "2024-06-02T04:53:32.939636",
     "status": "completed"
    },
    "tags": []
   },
   "source": [
    "----------------------------------------------------------------------------------------------------------------------------------------------------------"
   ]
  },
  {
   "cell_type": "markdown",
   "id": "d60e7d01",
   "metadata": {
    "papermill": {
     "duration": 0.035494,
     "end_time": "2024-06-02T04:53:33.044036",
     "exception": false,
     "start_time": "2024-06-02T04:53:33.008542",
     "status": "completed"
    },
    "tags": []
   },
   "source": [
    "## preanti: days pre-175 anti-retroviral therapy\n",
    "\n",
    "***About***\n",
    "\n",
    "<div>\n",
    "    <p>\n",
    "preanti means the number of days or the duration (in days, weeks, or another time unit) that a patient has been on anti-retroviral therapy before reaching the 175-week mark since the start of observation or treatment.       \n",
    "    \n",
    "   </p>\n",
    " </div>\n",
    "   \n",
    "***Conclusion***\n",
    "\n",
    "- *Mean is high as compared to the meadian, there are outliers present.*\n",
    "\n",
    "- *Standard deviation is high. A standard deviation of 400 days indicates that the durations of ART among patients vary widely around the mean. This means that some patients may have had very short durations of therapy, while others had very long durations, relative to the average.*\n"
   ]
  },
  {
   "cell_type": "code",
   "execution_count": 29,
   "id": "ae05b0a1",
   "metadata": {
    "execution": {
     "iopub.execute_input": "2024-06-02T04:53:33.114533Z",
     "iopub.status.busy": "2024-06-02T04:53:33.114124Z",
     "iopub.status.idle": "2024-06-02T04:53:33.124631Z",
     "shell.execute_reply": "2024-06-02T04:53:33.123312Z"
    },
    "papermill": {
     "duration": 0.048725,
     "end_time": "2024-06-02T04:53:33.126943",
     "exception": false,
     "start_time": "2024-06-02T04:53:33.078218",
     "status": "completed"
    },
    "tags": []
   },
   "outputs": [
    {
     "data": {
      "text/plain": [
       "count    15000.000000\n",
       "mean       315.619067\n",
       "std        400.272034\n",
       "min          0.000000\n",
       "25%          0.000000\n",
       "50%        124.000000\n",
       "75%        495.000000\n",
       "max       2851.000000\n",
       "Name: preanti, dtype: float64"
      ]
     },
     "execution_count": 29,
     "metadata": {},
     "output_type": "execute_result"
    }
   ],
   "source": [
    "df['preanti'].describe()"
   ]
  },
  {
   "cell_type": "markdown",
   "id": "efcf58a9",
   "metadata": {
    "papermill": {
     "duration": 0.034047,
     "end_time": "2024-06-02T04:53:33.196688",
     "exception": false,
     "start_time": "2024-06-02T04:53:33.162641",
     "status": "completed"
    },
    "tags": []
   },
   "source": [
    "*There is a huge distinction between the mean and median. There is possibly some amount of skewness in the data*"
   ]
  },
  {
   "cell_type": "code",
   "execution_count": 30,
   "id": "82c73aa8",
   "metadata": {
    "execution": {
     "iopub.execute_input": "2024-06-02T04:53:33.267900Z",
     "iopub.status.busy": "2024-06-02T04:53:33.266732Z",
     "iopub.status.idle": "2024-06-02T04:53:33.384998Z",
     "shell.execute_reply": "2024-06-02T04:53:33.383851Z"
    },
    "papermill": {
     "duration": 0.156635,
     "end_time": "2024-06-02T04:53:33.387406",
     "exception": false,
     "start_time": "2024-06-02T04:53:33.230771",
     "status": "completed"
    },
    "tags": []
   },
   "outputs": [
    {
     "data": {
      "image/svg+xml": [
       "<svg class=\"main-svg\" xmlns=\"http://www.w3.org/2000/svg\" xmlns:xlink=\"http://www.w3.org/1999/xlink\" width=\"1000\" height=\"500\" style=\"\" viewBox=\"0 0 1000 500\"><rect x=\"0\" y=\"0\" width=\"1000\" height=\"500\" style=\"fill: rgb(255, 255, 255); fill-opacity: 1;\"/><defs id=\"defs-6d9ea2\"><g class=\"clips\"><clipPath id=\"clip6d9ea2xyplot\" class=\"plotclip\"><rect width=\"893\" height=\"367\"/></clipPath><clipPath class=\"axesclip\" id=\"clip6d9ea2x\"><rect x=\"57\" y=\"0\" width=\"893\" height=\"500\"/></clipPath><clipPath class=\"axesclip\" id=\"clip6d9ea2y\"><rect x=\"0\" y=\"80\" width=\"1000\" height=\"367\"/></clipPath><clipPath class=\"axesclip\" id=\"clip6d9ea2xy\"><rect x=\"57\" y=\"80\" width=\"893\" height=\"367\"/></clipPath></g><g class=\"gradients\"/><g class=\"patterns\"/></defs><g class=\"bglayer\"/><g class=\"layer-below\"><g class=\"imagelayer\"/><g class=\"shapelayer\"/></g><g class=\"cartesianlayer\"><g class=\"subplot xy\"><g class=\"layer-subplot\"><g class=\"shapelayer\"/><g class=\"imagelayer\"/></g><g class=\"minor-gridlayer\"><g class=\"x\"/><g class=\"y\"/></g><g class=\"gridlayer\"><g class=\"x\"/><g class=\"y\"><path class=\"ygrid crisp\" transform=\"translate(0,385.23)\" d=\"M57,0h893\" style=\"stroke: rgb(255, 255, 255); stroke-opacity: 1; stroke-width: 1px;\"/><path class=\"ygrid crisp\" transform=\"translate(0,323.45)\" d=\"M57,0h893\" style=\"stroke: rgb(255, 255, 255); stroke-opacity: 1; stroke-width: 1px;\"/><path class=\"ygrid crisp\" transform=\"translate(0,261.68)\" d=\"M57,0h893\" style=\"stroke: rgb(255, 255, 255); stroke-opacity: 1; stroke-width: 1px;\"/><path class=\"ygrid crisp\" transform=\"translate(0,199.91)\" d=\"M57,0h893\" style=\"stroke: rgb(255, 255, 255); stroke-opacity: 1; stroke-width: 1px;\"/><path class=\"ygrid crisp\" transform=\"translate(0,138.13)\" d=\"M57,0h893\" style=\"stroke: rgb(255, 255, 255); stroke-opacity: 1; stroke-width: 1px;\"/></g></g><g class=\"zerolinelayer\"><path class=\"yzl zl crisp\" transform=\"translate(0,447)\" d=\"M57,0h893\" style=\"stroke: rgb(255, 255, 255); stroke-opacity: 1; stroke-width: 2px;\"/></g><path class=\"xlines-below\"/><path class=\"ylines-below\"/><g class=\"overlines-below\"/><g class=\"xaxislayer-below\"/><g class=\"yaxislayer-below\"/><g class=\"overaxes-below\"/><g class=\"plot\" transform=\"translate(57,80)\" clip-path=\"url(#clip6d9ea2xyplot)\"><g class=\"barlayer mlayer\"><g class=\"trace bars\" shape-rendering=\"crispEdges\" style=\"opacity: 1;\"><g class=\"points\"><g class=\"point\"><path d=\"M0,367V18.35H148.83V367Z\" style=\"vector-effect: none; opacity: 1; stroke-width: 0px; fill: rgb(8, 69, 148); fill-opacity: 1;\"/></g><g class=\"point\"><path d=\"M148.83,367V283.88H297.67V367Z\" style=\"vector-effect: none; opacity: 1; stroke-width: 0px; fill: rgb(8, 69, 148); fill-opacity: 1;\"/></g><g class=\"point\"><path d=\"M297.67,367V339.76H446.5V367Z\" style=\"vector-effect: none; opacity: 1; stroke-width: 0px; fill: rgb(8, 69, 148); fill-opacity: 1;\"/></g><g class=\"point\"><path d=\"M446.5,367V363.02H595.33V367Z\" style=\"vector-effect: none; opacity: 1; stroke-width: 0px; fill: rgb(8, 69, 148); fill-opacity: 1;\"/></g><g class=\"point\"><path d=\"M595.33,367V366.78H744.17V367Z\" style=\"vector-effect: none; opacity: 1; stroke-width: 0px; fill: rgb(8, 69, 148); fill-opacity: 1;\"/></g><g class=\"point\"><path d=\"M744.17,367V366.91H893V367Z\" style=\"vector-effect: none; opacity: 1; stroke-width: 0px; fill: rgb(8, 69, 148); fill-opacity: 1;\"/></g></g></g></g></g><g class=\"overplot\"/><path class=\"xlines-above crisp\" d=\"M0,0\" style=\"fill: none;\"/><path class=\"ylines-above crisp\" d=\"M0,0\" style=\"fill: none;\"/><g class=\"overlines-above\"/><g class=\"xaxislayer-above\"><g class=\"xtick\"><text text-anchor=\"middle\" x=\"0\" y=\"460\" transform=\"translate(57.15,0)\" style=\"font-family: 'Open Sans', verdana, arial, sans-serif; font-size: 12px; fill: rgb(42, 63, 95); fill-opacity: 1; white-space: pre; opacity: 1;\">0</text></g><g class=\"xtick\"><text text-anchor=\"middle\" x=\"0\" y=\"460\" style=\"font-family: 'Open Sans', verdana, arial, sans-serif; font-size: 12px; fill: rgb(42, 63, 95); fill-opacity: 1; white-space: pre; opacity: 1;\" transform=\"translate(205.98,0)\">500</text></g><g class=\"xtick\"><text text-anchor=\"middle\" x=\"0\" y=\"460\" style=\"font-family: 'Open Sans', verdana, arial, sans-serif; font-size: 12px; fill: rgb(42, 63, 95); fill-opacity: 1; white-space: pre; opacity: 1;\" transform=\"translate(354.82,0)\">1000</text></g><g class=\"xtick\"><text text-anchor=\"middle\" x=\"0\" y=\"460\" style=\"font-family: 'Open Sans', verdana, arial, sans-serif; font-size: 12px; fill: rgb(42, 63, 95); fill-opacity: 1; white-space: pre; opacity: 1;\" transform=\"translate(503.65,0)\">1500</text></g><g class=\"xtick\"><text text-anchor=\"middle\" x=\"0\" y=\"460\" style=\"font-family: 'Open Sans', verdana, arial, sans-serif; font-size: 12px; fill: rgb(42, 63, 95); fill-opacity: 1; white-space: pre; opacity: 1;\" transform=\"translate(652.48,0)\">2000</text></g><g class=\"xtick\"><text text-anchor=\"middle\" x=\"0\" y=\"460\" style=\"font-family: 'Open Sans', verdana, arial, sans-serif; font-size: 12px; fill: rgb(42, 63, 95); fill-opacity: 1; white-space: pre; opacity: 1;\" transform=\"translate(801.32,0)\">2500</text></g></g><g class=\"yaxislayer-above\"><g class=\"ytick\"><text text-anchor=\"end\" x=\"56\" y=\"4.199999999999999\" transform=\"translate(0,447)\" style=\"font-family: 'Open Sans', verdana, arial, sans-serif; font-size: 12px; fill: rgb(42, 63, 95); fill-opacity: 1; white-space: pre; opacity: 1;\">0</text></g><g class=\"ytick\"><text text-anchor=\"end\" x=\"56\" y=\"4.199999999999999\" style=\"font-family: 'Open Sans', verdana, arial, sans-serif; font-size: 12px; fill: rgb(42, 63, 95); fill-opacity: 1; white-space: pre; opacity: 1;\" transform=\"translate(0,385.23)\">2k</text></g><g class=\"ytick\"><text text-anchor=\"end\" x=\"56\" y=\"4.199999999999999\" style=\"font-family: 'Open Sans', verdana, arial, sans-serif; font-size: 12px; fill: rgb(42, 63, 95); fill-opacity: 1; white-space: pre; opacity: 1;\" transform=\"translate(0,323.45)\">4k</text></g><g class=\"ytick\"><text text-anchor=\"end\" x=\"56\" y=\"4.199999999999999\" style=\"font-family: 'Open Sans', verdana, arial, sans-serif; font-size: 12px; fill: rgb(42, 63, 95); fill-opacity: 1; white-space: pre; opacity: 1;\" transform=\"translate(0,261.68)\">6k</text></g><g class=\"ytick\"><text text-anchor=\"end\" x=\"56\" y=\"4.199999999999999\" style=\"font-family: 'Open Sans', verdana, arial, sans-serif; font-size: 12px; fill: rgb(42, 63, 95); fill-opacity: 1; white-space: pre; opacity: 1;\" transform=\"translate(0,199.91)\">8k</text></g><g class=\"ytick\"><text text-anchor=\"end\" x=\"56\" y=\"4.199999999999999\" style=\"font-family: 'Open Sans', verdana, arial, sans-serif; font-size: 12px; fill: rgb(42, 63, 95); fill-opacity: 1; white-space: pre; opacity: 1;\" transform=\"translate(0,138.13)\">10k</text></g></g><g class=\"overaxes-above\"/></g></g><g class=\"polarlayer\"/><g class=\"smithlayer\"/><g class=\"ternarylayer\"/><g class=\"geolayer\"/><g class=\"funnelarealayer\"/><g class=\"pielayer\"/><g class=\"iciclelayer\"/><g class=\"treemaplayer\"/><g class=\"sunburstlayer\"/><g class=\"glimages\"/><defs id=\"topdefs-6d9ea2\"><g class=\"clips\"/></defs><g class=\"layer-above\"><g class=\"imagelayer\"/><g class=\"shapelayer\"/></g><g class=\"infolayer\"><g class=\"g-gtitle\"><text class=\"gtitle\" x=\"310\" y=\"25\" text-anchor=\"middle\" dy=\"0.7em\" style=\"font-family: 'Times New Roman'; font-size: 26px; fill: rgb(0, 0, 0); opacity: 1; font-weight: normal; white-space: pre;\">Distribution of days patient has been on ART</text></g><g class=\"g-xtitle\"><text class=\"xtitle\" x=\"503.5\" y=\"487.3\" text-anchor=\"middle\" style=\"font-family: 'Open Sans', verdana, arial, sans-serif; font-size: 14px; fill: rgb(42, 63, 95); opacity: 1; font-weight: normal; white-space: pre;\">Days</text></g><g class=\"g-ytitle\" transform=\"translate(0.6591796875,0)\"><text class=\"ytitle\" transform=\"rotate(-90,12.340625000000003,263.5)\" x=\"12.340625000000003\" y=\"263.5\" text-anchor=\"middle\" style=\"font-family: 'Open Sans', verdana, arial, sans-serif; font-size: 14px; fill: rgb(42, 63, 95); opacity: 1; font-weight: normal; white-space: pre;\">Frequency</text></g></g></svg>"
      ]
     },
     "metadata": {},
     "output_type": "display_data"
    }
   ],
   "source": [
    "palette = cl.scales['8']['seq']['Blues']\n",
    "\n",
    "fig = go.Figure(data=[go.Histogram(\n",
    "    x=df['preanti'],\n",
    "    marker=dict(color=palette[7]),  # Use the second color from the palette\n",
    "    nbinsx=10\n",
    ")])\n",
    "\n",
    "# Update layout\n",
    "fig.update_layout(\n",
    "    title_text=\"Distribution of days patient has been on ART\",\n",
    "    title_font_size=24,\n",
    "    title_font_family=\"Times New Roman\",\n",
    "    title_font_color=\"#000000\",\n",
    "    paper_bgcolor='#ffffff',\n",
    "    plot_bgcolor='#ffffff',\n",
    "    xaxis=dict(title=\"Days\"),\n",
    "    yaxis=dict(title=\"Frequency\"),\n",
    ")\n",
    "\n",
    "# Set title properties\n",
    "fig.update_layout(\n",
    "    title={\n",
    "        'text': \"Distribution of days patient has been on ART\",\n",
    "        'y':0.95,\n",
    "        'x':0.31,\n",
    "        'xanchor': 'center',\n",
    "        'yanchor': 'top'},\n",
    "    title_font_size=26,\n",
    "    margin=dict(l=50, r=50, t=80, b=50)\n",
    ")\n",
    "\n",
    "# Set the width of the figure\n",
    "fig.update_layout(width=1000)\n",
    "\n",
    "# Show the histogram\n",
    "fig.show('svg')"
   ]
  },
  {
   "cell_type": "markdown",
   "id": "b3fd9dd5",
   "metadata": {
    "papermill": {
     "duration": 0.034641,
     "end_time": "2024-06-02T04:53:33.457851",
     "exception": false,
     "start_time": "2024-06-02T04:53:33.423210",
     "status": "completed"
    },
    "tags": []
   },
   "source": [
    "*highly positively skewed distribution*"
   ]
  },
  {
   "cell_type": "code",
   "execution_count": 31,
   "id": "4c5d9615",
   "metadata": {
    "execution": {
     "iopub.execute_input": "2024-06-02T04:53:33.528709Z",
     "iopub.status.busy": "2024-06-02T04:53:33.528089Z",
     "iopub.status.idle": "2024-06-02T04:53:33.727090Z",
     "shell.execute_reply": "2024-06-02T04:53:33.725970Z"
    },
    "papermill": {
     "duration": 0.237102,
     "end_time": "2024-06-02T04:53:33.729280",
     "exception": false,
     "start_time": "2024-06-02T04:53:33.492178",
     "status": "completed"
    },
    "tags": []
   },
   "outputs": [
    {
     "data": {
      "image/png": "[encoded data removed]"
     },
     "metadata": {},
     "output_type": "display_data"
    }
   ],
   "source": [
    "\n",
    "palette = cl.scales['11']['div']['PuOr']\n",
    "fig = go.Figure(data=[go.Box(\n",
    "    x=df['preanti'],\n",
    "    marker=dict(color=palette[1])\n",
    ")])\n",
    "\n",
    "fig.update_layout(\n",
    "    title_text=\"Boxplot of preanti\",\n",
    "    title_font_size=24,\n",
    "    title_font_family=\"Times New Roman\",\n",
    "    title_font_color=\"#000000\",  \n",
    "    paper_bgcolor='#ffffff',  \n",
    "    plot_bgcolor='#ffffff',  \n",
    "    xaxis=dict(title=\"Karnofsky score\"),\n",
    ")\n",
    "\n",
    "fig.update_layout(\n",
    "    title={\n",
    "        'y':0.95,\n",
    "        'x':0.15,\n",
    "        'xanchor': 'center',\n",
    "        'yanchor': 'top'},\n",
    "    title_font_size=26,\n",
    "    margin=dict(l=50, r=50, t=80, b=50)\n",
    ")\n",
    "\n",
    "\n",
    "\n",
    "fig.update_layout(width=1000)\n",
    "\n",
    "fig.show('png')"
   ]
  },
  {
   "cell_type": "markdown",
   "id": "121ec590",
   "metadata": {
    "papermill": {
     "duration": 0.034413,
     "end_time": "2024-06-02T04:53:33.798168",
     "exception": false,
     "start_time": "2024-06-02T04:53:33.763755",
     "status": "completed"
    },
    "tags": []
   },
   "source": [
    "*Most outliers are present after 1235 days. This means some patients were administered ART for more than 1235 days before the 175 week mark*"
   ]
  },
  {
   "cell_type": "markdown",
   "id": "e9167c2a",
   "metadata": {
    "papermill": {
     "duration": 0.034089,
     "end_time": "2024-06-02T04:53:33.866905",
     "exception": false,
     "start_time": "2024-06-02T04:53:33.832816",
     "status": "completed"
    },
    "tags": []
   },
   "source": [
    "----------------------------------------------------------------------------------------------------------------------------------------------------------"
   ]
  },
  {
   "cell_type": "markdown",
   "id": "bb1dfe13",
   "metadata": {
    "papermill": {
     "duration": 0.034929,
     "end_time": "2024-06-02T04:53:33.936469",
     "exception": false,
     "start_time": "2024-06-02T04:53:33.901540",
     "status": "completed"
    },
    "tags": []
   },
   "source": [
    "## Race\n",
    "\n",
    "***Conclusions***\n",
    "- *Majority of the patients are white*\n",
    "\n",
    "- *There is no strong correlation of race with any other variable*"
   ]
  },
  {
   "cell_type": "code",
   "execution_count": 32,
   "id": "1d626f2c",
   "metadata": {
    "execution": {
     "iopub.execute_input": "2024-06-02T04:53:34.007737Z",
     "iopub.status.busy": "2024-06-02T04:53:34.007314Z",
     "iopub.status.idle": "2024-06-02T04:53:34.015318Z",
     "shell.execute_reply": "2024-06-02T04:53:34.014194Z"
    },
    "papermill": {
     "duration": 0.04648,
     "end_time": "2024-06-02T04:53:34.017487",
     "exception": false,
     "start_time": "2024-06-02T04:53:33.971007",
     "status": "completed"
    },
    "tags": []
   },
   "outputs": [
    {
     "data": {
      "text/plain": [
       "race\n",
       "0    10486\n",
       "1     4514\n",
       "Name: count, dtype: int64"
      ]
     },
     "execution_count": 32,
     "metadata": {},
     "output_type": "execute_result"
    }
   ],
   "source": [
    "df['race'].value_counts()"
   ]
  },
  {
   "cell_type": "code",
   "execution_count": 33,
   "id": "ba782d44",
   "metadata": {
    "execution": {
     "iopub.execute_input": "2024-06-02T04:53:34.092158Z",
     "iopub.status.busy": "2024-06-02T04:53:34.091487Z",
     "iopub.status.idle": "2024-06-02T04:53:34.163444Z",
     "shell.execute_reply": "2024-06-02T04:53:34.158229Z"
    },
    "papermill": {
     "duration": 0.112656,
     "end_time": "2024-06-02T04:53:34.167061",
     "exception": false,
     "start_time": "2024-06-02T04:53:34.054405",
     "status": "completed"
    },
    "tags": []
   },
   "outputs": [
    {
     "data": {
      "image/svg+xml": [
       "<svg class=\"main-svg\" xmlns=\"http://www.w3.org/2000/svg\" xmlns:xlink=\"http://www.w3.org/1999/xlink\" width=\"1000\" height=\"500\" style=\"\" viewBox=\"0 0 1000 500\"><rect x=\"0\" y=\"0\" width=\"1000\" height=\"500\" style=\"fill: rgb(255, 255, 255); fill-opacity: 1;\"/><defs id=\"defs-ffb728\"><g class=\"clips\"/><g class=\"gradients\"/><g class=\"patterns\"/></defs><g class=\"bglayer\"/><g class=\"layer-below\"><g class=\"imagelayer\"/><g class=\"shapelayer\"/></g><g class=\"cartesianlayer\"/><g class=\"polarlayer\"/><g class=\"smithlayer\"/><g class=\"ternarylayer\"/><g class=\"geolayer\"/><g class=\"funnelarealayer\"/><g class=\"pielayer\"><g class=\"trace\" stroke-linejoin=\"round\" style=\"opacity: 1;\"><g class=\"slice\"><path class=\"surface\" d=\"M500,265l0,-185a185,185 0 1 1 -175.60718054893636,243.19895308038855Z\" style=\"pointer-events: none; fill: rgb(84, 48, 5); fill-opacity: 1; stroke-width: 1; stroke: rgb(0, 0, 0); stroke-opacity: 1;\"/><g class=\"slicetext\"><text data-notex=\"1\" class=\"slicetext\" transform=\"translate(574.9931716223816,315.0489149680336)\" text-anchor=\"middle\" x=\"0\" y=\"0\" style=\"font-family: 'Open Sans', verdana, arial, sans-serif; font-size: 14px; fill: rgb(255, 255, 255); fill-opacity: 1; white-space: pre;\"><tspan class=\"line\" dy=\"0em\" x=\"0\" y=\"0\">0</tspan><tspan class=\"line\" dy=\"1.3em\" x=\"0\" y=\"0\">69.9%</tspan></text></g></g><g class=\"slice\"><path class=\"surface\" d=\"M500,265l-175.60718054893638,58.1989530803885a185,185 0 0 1 175.60718054893638,-243.1989530803885Z\" style=\"pointer-events: none; fill: rgb(140, 81, 10); fill-opacity: 1; stroke-width: 1; stroke: rgb(0, 0, 0); stroke-opacity: 1;\"/><g class=\"slicetext\"><text data-notex=\"1\" class=\"slicetext\" transform=\"translate(417.1683441434893,201.08800920282897)\" text-anchor=\"middle\" x=\"0\" y=\"0\" style=\"font-family: 'Open Sans', verdana, arial, sans-serif; font-size: 14px; fill: rgb(255, 255, 255); fill-opacity: 1; white-space: pre;\"><tspan class=\"line\" dy=\"0em\" x=\"0\" y=\"0\">1</tspan><tspan class=\"line\" dy=\"1.3em\" x=\"0\" y=\"0\">30.1%</tspan></text></g></g></g></g><g class=\"iciclelayer\"/><g class=\"treemaplayer\"/><g class=\"sunburstlayer\"/><g class=\"glimages\"/><defs id=\"topdefs-ffb728\"><g class=\"clips\"/><clipPath id=\"legendffb728\"><rect width=\"165.6\" height=\"74.6\" x=\"0.7\" y=\"0.7\"/></clipPath></defs><g class=\"layer-above\"><g class=\"imagelayer\"/><g class=\"shapelayer\"/></g><g class=\"infolayer\"><g class=\"legend\" pointer-events=\"all\" transform=\"translate(770,227)\"><rect class=\"bg\" shape-rendering=\"crispEdges\" style=\"stroke: rgb(0, 0, 0); stroke-opacity: 1; fill: rgb(255, 255, 255); fill-opacity: 1; stroke-width: 0.7px;\" width=\"166.3\" height=\"75.3\" x=\"0.35\" y=\"0.35\"/><g class=\"scrollbox\" transform=\"\" clip-path=\"url(#legendffb728)\"><text class=\"legendtitletext\" text-anchor=\"start\" x=\"2.7\" y=\"22.8\" style=\"font-family: 'Times New Roman'; font-size: 17px; fill: rgb(0, 0, 0); fill-opacity: 1; white-space: pre;\">Race (white/non-white)</text><g class=\"groups\"><g class=\"traces\" transform=\"translate(0.7,38.4)\" style=\"opacity: 1;\"><text class=\"legendtext\" text-anchor=\"start\" x=\"40\" y=\"5.46\" style=\"font-family: 'Times New Roman'; font-size: 14px; fill: rgb(0, 0, 0); fill-opacity: 1; white-space: pre;\">0</text><g class=\"layers\" style=\"opacity: 1;\"><g class=\"legendfill\"/><g class=\"legendlines\"/><g class=\"legendsymbols\"><g class=\"legendpoints\"><path class=\"legendpie\" d=\"M6,6H-6V-6H6Z\" transform=\"translate(20,0)\" style=\"fill: rgb(84, 48, 5); fill-opacity: 1; stroke-width: 1; stroke: rgb(0, 0, 0); stroke-opacity: 1;\"/></g></g></g><rect class=\"legendtoggle\" x=\"0\" y=\"-10.6\" width=\"47\" height=\"21.2\" style=\"fill: rgb(0, 0, 0); fill-opacity: 0;\"/></g><g class=\"traces\" transform=\"translate(0.7,59.6)\" style=\"opacity: 1;\"><text class=\"legendtext\" text-anchor=\"start\" x=\"40\" y=\"5.46\" style=\"font-family: 'Times New Roman'; font-size: 14px; fill: rgb(0, 0, 0); fill-opacity: 1; white-space: pre;\">1</text><g class=\"layers\" style=\"opacity: 1;\"><g class=\"legendfill\"/><g class=\"legendlines\"/><g class=\"legendsymbols\"><g class=\"legendpoints\"><path class=\"legendpie\" d=\"M6,6H-6V-6H6Z\" transform=\"translate(20,0)\" style=\"fill: rgb(140, 81, 10); fill-opacity: 1; stroke-width: 1; stroke: rgb(0, 0, 0); stroke-opacity: 1;\"/></g></g></g><rect class=\"legendtoggle\" x=\"0\" y=\"-10.6\" width=\"47\" height=\"21.2\" style=\"fill: rgb(0, 0, 0); fill-opacity: 0;\"/></g></g></g><rect class=\"scrollbar\" rx=\"20\" ry=\"3\" width=\"0\" height=\"0\" x=\"0\" y=\"0\" style=\"fill: rgb(128, 139, 164); fill-opacity: 1;\"/></g><g class=\"g-gtitle\"><text class=\"gtitle\" x=\"210\" y=\"25\" text-anchor=\"middle\" dy=\"0.7em\" style=\"font-family: 'Times New Roman'; font-size: 26px; fill: rgb(0, 0, 0); opacity: 1; font-weight: normal; white-space: pre;\">Distribution of race</text></g><g class=\"annotation\" data-index=\"0\" style=\"opacity: 1;\"><g class=\"annotation-text-g\" transform=\"rotate(0,500,477.00000000000006)\"><g class=\"cursor-pointer\" transform=\"translate(404,467)\"><rect class=\"bg\" x=\"0.5\" y=\"0.5\" width=\"192\" height=\"19\" style=\"stroke-width: 1px; stroke: rgb(0, 0, 0); stroke-opacity: 0; fill: rgb(0, 0, 0); fill-opacity: 0;\"/><text class=\"annotation-text\" text-anchor=\"middle\" x=\"96.15625\" y=\"15\" style=\"font-family: 'Open Sans', verdana, arial, sans-serif; font-size: 14px; fill: rgb(0, 0, 0); fill-opacity: 1; white-space: pre;\">Majority of patients were white</text></g></g></g></g></svg>"
      ]
     },
     "metadata": {},
     "output_type": "display_data"
    }
   ],
   "source": [
    "\n",
    "palette = cl.scales['10']['div']['BrBG']\n",
    "\n",
    "\n",
    "race = df['race'].value_counts().reset_index()\n",
    "race.columns = ['race', 'count']\n",
    "\n",
    "fig = go.Figure(data=[go.Pie(\n",
    "    labels=race['race'],\n",
    "    values=race['count'],\n",
    "    marker=dict(colors=palette, line=dict(color='#000000', width=1)),\n",
    "    textinfo=\"label+percent\",\n",
    "    textfont=dict(size=14, color='#FFFFFF')\n",
    ")])\n",
    "\n",
    "\n",
    "fig.update_layout(\n",
    "    title_text=\"Distribution of race\",\n",
    "    title_font_size=24,\n",
    "    title_font_family=\"Times New Roman\",\n",
    "    title_font_color=\"#000000\",  \n",
    "    paper_bgcolor='#ffffff',  \n",
    "    plot_bgcolor='#ffffff', \n",
    "    showlegend=True,\n",
    "    legend_title_text='Race (white/non-white)',\n",
    "    legend=dict(\n",
    "        x=0.8,\n",
    "        y=0.5,\n",
    "        traceorder='normal',\n",
    "        font=dict(\n",
    "            family=\"Times New Roman\",\n",
    "            size=14,\n",
    "            color=\"#000000\"\n",
    "        ),\n",
    "        bgcolor=\"#ffffff\",  \n",
    "        bordercolor=\"#000000\", \n",
    "        borderwidth=0.7,\n",
    "        orientation=\"v\" \n",
    "    )\n",
    ")\n",
    "\n",
    "fig.update_layout(width=1000)\n",
    "\n",
    "fig.update_layout(\n",
    "    title={\n",
    "        'text': \"Distribution of race\",\n",
    "        'y':0.95,\n",
    "        'x':0.21,\n",
    "        'xanchor': 'center',\n",
    "        'yanchor': 'top'},\n",
    "    title_font_size=26,\n",
    "    margin=dict(l=50, r=50, t=80, b=50)\n",
    ")\n",
    "\n",
    "fig.add_annotation(\n",
    "    text=\"Majority of patients were white\",\n",
    "    x=0.5,\n",
    "    y=-0.10,\n",
    "    showarrow=False,\n",
    "    font=dict(color=\"#000000\", size=14) \n",
    ")\n",
    "\n",
    "# Show the pie chart\n",
    "fig.show('svg')\n"
   ]
  },
  {
   "cell_type": "code",
   "execution_count": 34,
   "id": "89c49a95",
   "metadata": {
    "execution": {
     "iopub.execute_input": "2024-06-02T04:53:34.244935Z",
     "iopub.status.busy": "2024-06-02T04:53:34.244133Z",
     "iopub.status.idle": "2024-06-02T04:53:34.278660Z",
     "shell.execute_reply": "2024-06-02T04:53:34.277255Z"
    },
    "papermill": {
     "duration": 0.075768,
     "end_time": "2024-06-02T04:53:34.281602",
     "exception": false,
     "start_time": "2024-06-02T04:53:34.205834",
     "status": "completed"
    },
    "tags": []
   },
   "outputs": [
    {
     "data": {
      "text/plain": [
       "time         -3.077521\n",
       "trt          -5.806935\n",
       "age          -6.831852\n",
       "wtkg         -5.133001\n",
       "hemo          0.458512\n",
       "homo        -20.193154\n",
       "drugs         4.692483\n",
       "karnof        4.353950\n",
       "oprior       -2.810755\n",
       "z30          -9.860449\n",
       "preanti     -10.257438\n",
       "race        100.000000\n",
       "gender      -14.030872\n",
       "str2        -12.520895\n",
       "strat       -14.411401\n",
       "symptom      -0.458382\n",
       "treat        -9.108906\n",
       "offtrt        6.999763\n",
       "cd40          3.988502\n",
       "cd420         4.405390\n",
       "cd80         -2.703265\n",
       "cd820        -1.132044\n",
       "infected     -3.606357\n",
       "Name: race, dtype: float64"
      ]
     },
     "execution_count": 34,
     "metadata": {},
     "output_type": "execute_result"
    }
   ],
   "source": [
    "df.corr()['race']*100"
   ]
  },
  {
   "cell_type": "markdown",
   "id": "5b53d06f",
   "metadata": {
    "papermill": {
     "duration": 0.035603,
     "end_time": "2024-06-02T04:53:34.353387",
     "exception": false,
     "start_time": "2024-06-02T04:53:34.317784",
     "status": "completed"
    },
    "tags": []
   },
   "source": [
    "----------------------------------------------------------------------------------------------------------------------------------------------------------"
   ]
  },
  {
   "cell_type": "markdown",
   "id": "faac5307",
   "metadata": {
    "papermill": {
     "duration": 0.035218,
     "end_time": "2024-06-02T04:53:34.423877",
     "exception": false,
     "start_time": "2024-06-02T04:53:34.388659",
     "status": "completed"
    },
    "tags": []
   },
   "source": [
    "## Gender\n",
    "\n",
    "***Conclusions***\n",
    "\n",
    "- *Majority of the patients are male*\n",
    "\n",
    "- *There is no strong correlation of gender with any other variable*"
   ]
  },
  {
   "cell_type": "code",
   "execution_count": 35,
   "id": "203320c6",
   "metadata": {
    "execution": {
     "iopub.execute_input": "2024-06-02T04:53:34.496846Z",
     "iopub.status.busy": "2024-06-02T04:53:34.496082Z",
     "iopub.status.idle": "2024-06-02T04:53:34.504464Z",
     "shell.execute_reply": "2024-06-02T04:53:34.503377Z"
    },
    "papermill": {
     "duration": 0.04782,
     "end_time": "2024-06-02T04:53:34.506764",
     "exception": false,
     "start_time": "2024-06-02T04:53:34.458944",
     "status": "completed"
    },
    "tags": []
   },
   "outputs": [
    {
     "data": {
      "text/plain": [
       "gender\n",
       "1    12807\n",
       "0     2193\n",
       "Name: count, dtype: int64"
      ]
     },
     "execution_count": 35,
     "metadata": {},
     "output_type": "execute_result"
    }
   ],
   "source": [
    "df['gender'].value_counts()"
   ]
  },
  {
   "cell_type": "code",
   "execution_count": 36,
   "id": "47385a85",
   "metadata": {
    "execution": {
     "iopub.execute_input": "2024-06-02T04:53:34.580249Z",
     "iopub.status.busy": "2024-06-02T04:53:34.579432Z",
     "iopub.status.idle": "2024-06-02T04:53:34.611923Z",
     "shell.execute_reply": "2024-06-02T04:53:34.610831Z"
    },
    "papermill": {
     "duration": 0.071744,
     "end_time": "2024-06-02T04:53:34.614181",
     "exception": false,
     "start_time": "2024-06-02T04:53:34.542437",
     "status": "completed"
    },
    "tags": []
   },
   "outputs": [
    {
     "data": {
      "text/plain": [
       "time          4.146380\n",
       "trt           5.685414\n",
       "age           5.749563\n",
       "wtkg          7.097579\n",
       "hemo         -2.875861\n",
       "homo         20.507894\n",
       "drugs        -3.367042\n",
       "karnof        0.841962\n",
       "oprior        0.766320\n",
       "z30          -1.681352\n",
       "preanti       0.164133\n",
       "race        -14.030872\n",
       "gender      100.000000\n",
       "str2         -0.673710\n",
       "strat         0.768461\n",
       "symptom       0.722118\n",
       "treat         5.650087\n",
       "offtrt       -8.396814\n",
       "cd40          2.395995\n",
       "cd420         1.205226\n",
       "cd80          1.975016\n",
       "cd820         1.111495\n",
       "infected     -2.121825\n",
       "Name: gender, dtype: float64"
      ]
     },
     "execution_count": 36,
     "metadata": {},
     "output_type": "execute_result"
    }
   ],
   "source": [
    "df.corr()['gender']*100"
   ]
  },
  {
   "cell_type": "code",
   "execution_count": 37,
   "id": "3b8bc52f",
   "metadata": {
    "execution": {
     "iopub.execute_input": "2024-06-02T04:53:34.688707Z",
     "iopub.status.busy": "2024-06-02T04:53:34.687496Z",
     "iopub.status.idle": "2024-06-02T04:53:34.749499Z",
     "shell.execute_reply": "2024-06-02T04:53:34.748666Z"
    },
    "papermill": {
     "duration": 0.101735,
     "end_time": "2024-06-02T04:53:34.751740",
     "exception": false,
     "start_time": "2024-06-02T04:53:34.650005",
     "status": "completed"
    },
    "tags": []
   },
   "outputs": [
    {
     "data": {
      "image/svg+xml": [
       "<svg class=\"main-svg\" xmlns=\"http://www.w3.org/2000/svg\" xmlns:xlink=\"http://www.w3.org/1999/xlink\" width=\"1000\" height=\"500\" style=\"\" viewBox=\"0 0 1000 500\"><rect x=\"0\" y=\"0\" width=\"1000\" height=\"500\" style=\"fill: rgb(255, 255, 255); fill-opacity: 1;\"/><defs id=\"defs-db1e4c\"><g class=\"clips\"/><g class=\"gradients\"/><g class=\"patterns\"/></defs><g class=\"bglayer\"/><g class=\"layer-below\"><g class=\"imagelayer\"/><g class=\"shapelayer\"/></g><g class=\"cartesianlayer\"/><g class=\"polarlayer\"/><g class=\"smithlayer\"/><g class=\"ternarylayer\"/><g class=\"geolayer\"/><g class=\"funnelarealayer\"/><g class=\"pielayer\"><g class=\"trace\" stroke-linejoin=\"round\" style=\"opacity: 1;\"><g class=\"slice\"><path class=\"surface\" d=\"M500,265l0,-185a185,185 0 1 1 -147.02943806680318,72.71756886422484Z\" style=\"pointer-events: none; fill: rgb(64, 0, 75); fill-opacity: 1; stroke-width: 1; stroke: rgb(0, 0, 0); stroke-opacity: 1;\"/><g class=\"slicetext\"><text data-notex=\"1\" class=\"slicetext\" transform=\"translate(541.0072405799903,343.81198416165716)\" text-anchor=\"middle\" x=\"0\" y=\"0\" style=\"font-family: 'Open Sans', verdana, arial, sans-serif; font-size: 14px; fill: rgb(255, 255, 255); fill-opacity: 1; white-space: pre;\"><tspan class=\"line\" dy=\"0em\" x=\"0\" y=\"0\">1</tspan><tspan class=\"line\" dy=\"1.3em\" x=\"0\" y=\"0\">85.4%</tspan></text></g></g><g class=\"slice\"><path class=\"surface\" d=\"M500,265l-147.02943806680312,-112.2824311357752a185,185 0 0 1 147.02943806680312,-72.7175688642248Z\" style=\"pointer-events: none; fill: rgb(118, 42, 131); fill-opacity: 1; stroke-width: 1; stroke: rgb(0, 0, 0); stroke-opacity: 1;\"/><g class=\"slicetext\"><text data-notex=\"1\" class=\"slicetext\" transform=\"translate(443.17656874382874,146.00574654353997)\" text-anchor=\"middle\" x=\"0\" y=\"0\" style=\"font-family: 'Open Sans', verdana, arial, sans-serif; font-size: 14px; fill: rgb(255, 255, 255); fill-opacity: 1; white-space: pre;\"><tspan class=\"line\" dy=\"0em\" x=\"0\" y=\"0\">0</tspan><tspan class=\"line\" dy=\"1.3em\" x=\"0\" y=\"0\">14.6%</tspan></text></g></g></g></g><g class=\"iciclelayer\"/><g class=\"treemaplayer\"/><g class=\"sunburstlayer\"/><g class=\"glimages\"/><defs id=\"topdefs-db1e4c\"><g class=\"clips\"/><clipPath id=\"legenddb1e4c\"><rect width=\"150.6\" height=\"74.6\" x=\"0.7\" y=\"0.7\"/></clipPath></defs><g class=\"layer-above\"><g class=\"imagelayer\"/><g class=\"shapelayer\"/></g><g class=\"infolayer\"><g class=\"legend\" pointer-events=\"all\" transform=\"translate(770,227)\"><rect class=\"bg\" shape-rendering=\"crispEdges\" style=\"stroke: rgb(0, 0, 0); stroke-opacity: 1; fill: rgb(255, 255, 255); fill-opacity: 1; stroke-width: 0.7px;\" width=\"151.3\" height=\"75.3\" x=\"0.35\" y=\"0.35\"/><g class=\"scrollbox\" transform=\"\" clip-path=\"url(#legenddb1e4c)\"><text class=\"legendtitletext\" text-anchor=\"start\" x=\"2.7\" y=\"22.8\" style=\"font-family: 'Times New Roman'; font-size: 17px; fill: rgb(0, 0, 0); fill-opacity: 1; white-space: pre;\">gender (female/male)</text><g class=\"groups\"><g class=\"traces\" transform=\"translate(0.7,38.4)\" style=\"opacity: 1;\"><text class=\"legendtext\" text-anchor=\"start\" x=\"40\" y=\"5.46\" style=\"font-family: 'Times New Roman'; font-size: 14px; fill: rgb(0, 0, 0); fill-opacity: 1; white-space: pre;\">1</text><g class=\"layers\" style=\"opacity: 1;\"><g class=\"legendfill\"/><g class=\"legendlines\"/><g class=\"legendsymbols\"><g class=\"legendpoints\"><path class=\"legendpie\" d=\"M6,6H-6V-6H6Z\" transform=\"translate(20,0)\" style=\"fill: rgb(64, 0, 75); fill-opacity: 1; stroke-width: 1; stroke: rgb(0, 0, 0); stroke-opacity: 1;\"/></g></g></g><rect class=\"legendtoggle\" x=\"0\" y=\"-10.6\" width=\"47\" height=\"21.2\" style=\"fill: rgb(0, 0, 0); fill-opacity: 0;\"/></g><g class=\"traces\" transform=\"translate(0.7,59.6)\" style=\"opacity: 1;\"><text class=\"legendtext\" text-anchor=\"start\" x=\"40\" y=\"5.46\" style=\"font-family: 'Times New Roman'; font-size: 14px; fill: rgb(0, 0, 0); fill-opacity: 1; white-space: pre;\">0</text><g class=\"layers\" style=\"opacity: 1;\"><g class=\"legendfill\"/><g class=\"legendlines\"/><g class=\"legendsymbols\"><g class=\"legendpoints\"><path class=\"legendpie\" d=\"M6,6H-6V-6H6Z\" transform=\"translate(20,0)\" style=\"fill: rgb(118, 42, 131); fill-opacity: 1; stroke-width: 1; stroke: rgb(0, 0, 0); stroke-opacity: 1;\"/></g></g></g><rect class=\"legendtoggle\" x=\"0\" y=\"-10.6\" width=\"47\" height=\"21.2\" style=\"fill: rgb(0, 0, 0); fill-opacity: 0;\"/></g></g></g><rect class=\"scrollbar\" rx=\"20\" ry=\"3\" width=\"0\" height=\"0\" x=\"0\" y=\"0\" style=\"fill: rgb(128, 139, 164); fill-opacity: 1;\"/></g><g class=\"g-gtitle\"><text class=\"gtitle\" x=\"210\" y=\"25\" text-anchor=\"middle\" dy=\"0.7em\" style=\"font-family: 'Times New Roman'; font-size: 26px; fill: rgb(0, 0, 0); opacity: 1; font-weight: normal; white-space: pre;\">Distribution of gender</text></g><g class=\"annotation\" data-index=\"0\" style=\"opacity: 1;\"><g class=\"annotation-text-g\" transform=\"rotate(0,500,477.00000000000006)\"><g class=\"cursor-pointer\" transform=\"translate(405,467)\"><rect class=\"bg\" x=\"0.5\" y=\"0.5\" width=\"189\" height=\"19\" style=\"stroke-width: 1px; stroke: rgb(0, 0, 0); stroke-opacity: 0; fill: rgb(0, 0, 0); fill-opacity: 0;\"/><text class=\"annotation-text\" text-anchor=\"middle\" x=\"94.984375\" y=\"15\" style=\"font-family: 'Open Sans', verdana, arial, sans-serif; font-size: 14px; fill: rgb(0, 0, 0); fill-opacity: 1; white-space: pre;\">Majority of patients were male</text></g></g></g></g></svg>"
      ]
     },
     "metadata": {},
     "output_type": "display_data"
    }
   ],
   "source": [
    "\n",
    "palette = cl.scales['11']['div']['PRGn']\n",
    "\n",
    "\n",
    "gen = df['gender'].value_counts().reset_index()\n",
    "gen.columns = ['gender', 'count']\n",
    "\n",
    "fig = go.Figure(data=[go.Pie(\n",
    "    labels=gen['gender'],\n",
    "    values=gen['count'],\n",
    "    marker=dict(colors=palette, line=dict(color='#000000', width=1)),\n",
    "    textinfo=\"label+percent\",\n",
    "    textfont=dict(size=14, color='#FFFFFF')\n",
    ")])\n",
    "\n",
    "\n",
    "fig.update_layout(\n",
    "    title_text=\"Distribution of gender\",\n",
    "    title_font_size=24,\n",
    "    title_font_family=\"Times New Roman\",\n",
    "    title_font_color=\"#000000\",  \n",
    "    paper_bgcolor='#ffffff',  \n",
    "    plot_bgcolor='#ffffff', \n",
    "    showlegend=True,\n",
    "    legend_title_text='gender (female/male)',\n",
    "    legend=dict(\n",
    "        x=0.8,\n",
    "        y=0.5,\n",
    "        traceorder='normal',\n",
    "        font=dict(\n",
    "            family=\"Times New Roman\",\n",
    "            size=14,\n",
    "            color=\"#000000\"\n",
    "        ),\n",
    "        bgcolor=\"#ffffff\",  \n",
    "        bordercolor=\"#000000\", \n",
    "        borderwidth=0.7,\n",
    "        orientation=\"v\" \n",
    "    )\n",
    ")\n",
    "\n",
    "fig.update_layout(width=1000)\n",
    "\n",
    "fig.update_layout(\n",
    "    title={\n",
    "        'text': \"Distribution of gender\",\n",
    "        'y':0.95,\n",
    "        'x':0.21,\n",
    "        'xanchor': 'center',\n",
    "        'yanchor': 'top'},\n",
    "    title_font_size=26,\n",
    "    margin=dict(l=50, r=50, t=80, b=50)\n",
    ")\n",
    "\n",
    "fig.add_annotation(\n",
    "    text=\"Majority of patients were male\",\n",
    "    x=0.5,\n",
    "    y=-0.10,\n",
    "    showarrow=False,\n",
    "    font=dict(color=\"#000000\", size=14) \n",
    ")\n",
    "\n",
    "# Show the pie chart\n",
    "fig.show('svg')\n"
   ]
  },
  {
   "cell_type": "markdown",
   "id": "6466e70b",
   "metadata": {
    "papermill": {
     "duration": 0.036165,
     "end_time": "2024-06-02T04:53:34.824113",
     "exception": false,
     "start_time": "2024-06-02T04:53:34.787948",
     "status": "completed"
    },
    "tags": []
   },
   "source": [
    "----------------------------------------------------------------------------------------------------------------------------------------------------------\n"
   ]
  },
  {
   "cell_type": "markdown",
   "id": "f1e6f501",
   "metadata": {
    "papermill": {
     "duration": 0.037031,
     "end_time": "2024-06-02T04:53:34.898021",
     "exception": false,
     "start_time": "2024-06-02T04:53:34.860990",
     "status": "completed"
    },
    "tags": []
   },
   "source": [
    "## str2: antiretroviral history (0=naive, 1=experienced)\n",
    "\n",
    "***About***\n",
    "<div>\n",
    "    <p>\n",
    "        The variable str2 represents the antiretroviral history of individuals, specifically whether they are \"naive\" or \"experienced\" with antiretroviral therapy (ART).\n",
    "    </p>\n",
    "    <ul>\n",
    "        <li>Naive (0):\n",
    "            <ul>\n",
    "                <li>Individuals categorized as \"naive\" have not previously received antiretroviral therapy. They are newly diagnosed or have not yet started treatment for HIV/AIDS. This group typically includes individuals who have recently tested positive for HIV or have delayed initiating treatment for various reasons.</li>\n",
    "            </ul>\n",
    "        </li>\n",
    "        <li>Experienced (1):\n",
    "            <ul>\n",
    "                <li>Individuals categorized as \"experienced\" have a history of receiving antiretroviral therapy. They have previously been treated for HIV/AIDS with antiretroviral medications. This group may include individuals who have undergone treatment for a certain duration, stopped treatment, and then resumed therapy, as well as those who have been consistently on ART for an extended period.</li>\n",
    "            </ul>\n",
    "        </li>\n",
    "     \n",
    "   </ul>\n",
    "</div>\n",
    "\n",
    "\n",
    "***Conclusions***\n",
    "\n",
    "- *Majority of patients were experienced and were previously treated with ART medication*"
   ]
  },
  {
   "cell_type": "code",
   "execution_count": 38,
   "id": "d2d55a9d",
   "metadata": {
    "execution": {
     "iopub.execute_input": "2024-06-02T04:53:34.974151Z",
     "iopub.status.busy": "2024-06-02T04:53:34.973383Z",
     "iopub.status.idle": "2024-06-02T04:53:34.980603Z",
     "shell.execute_reply": "2024-06-02T04:53:34.979798Z"
    },
    "papermill": {
     "duration": 0.047761,
     "end_time": "2024-06-02T04:53:34.982699",
     "exception": false,
     "start_time": "2024-06-02T04:53:34.934938",
     "status": "completed"
    },
    "tags": []
   },
   "outputs": [
    {
     "data": {
      "text/plain": [
       "str2\n",
       "1    8655\n",
       "0    6345\n",
       "Name: count, dtype: int64"
      ]
     },
     "execution_count": 38,
     "metadata": {},
     "output_type": "execute_result"
    }
   ],
   "source": [
    "df['str2'].value_counts()"
   ]
  },
  {
   "cell_type": "code",
   "execution_count": 39,
   "id": "ae65aa9e",
   "metadata": {
    "execution": {
     "iopub.execute_input": "2024-06-02T04:53:35.058251Z",
     "iopub.status.busy": "2024-06-02T04:53:35.057291Z",
     "iopub.status.idle": "2024-06-02T04:53:35.090898Z",
     "shell.execute_reply": "2024-06-02T04:53:35.089734Z"
    },
    "papermill": {
     "duration": 0.074656,
     "end_time": "2024-06-02T04:53:35.093379",
     "exception": false,
     "start_time": "2024-06-02T04:53:35.018723",
     "status": "completed"
    },
    "tags": []
   },
   "outputs": [
    {
     "data": {
      "text/plain": [
       "time         -7.573001\n",
       "trt           1.465054\n",
       "age          12.960868\n",
       "wtkg         -9.006936\n",
       "hemo          6.290188\n",
       "homo          3.021203\n",
       "drugs        -3.139231\n",
       "karnof      -13.153909\n",
       "oprior        6.294665\n",
       "z30          60.919072\n",
       "preanti      45.505698\n",
       "race        -12.520895\n",
       "gender       -0.673710\n",
       "str2        100.000000\n",
       "strat        61.222869\n",
       "symptom       3.570729\n",
       "treat         3.934434\n",
       "offtrt       -0.732320\n",
       "cd40        -23.915651\n",
       "cd420       -31.087622\n",
       "cd80         -2.578902\n",
       "cd820         0.989379\n",
       "infected     23.336492\n",
       "Name: str2, dtype: float64"
      ]
     },
     "execution_count": 39,
     "metadata": {},
     "output_type": "execute_result"
    }
   ],
   "source": [
    "df.corr()['str2']*100"
   ]
  },
  {
   "cell_type": "markdown",
   "id": "baec9139",
   "metadata": {
    "papermill": {
     "duration": 0.037473,
     "end_time": "2024-06-02T04:53:35.168793",
     "exception": false,
     "start_time": "2024-06-02T04:53:35.131320",
     "status": "completed"
    },
    "tags": []
   },
   "source": [
    "*Moderately correlated with z30 and strat* "
   ]
  },
  {
   "cell_type": "code",
   "execution_count": 40,
   "id": "02d97fd0",
   "metadata": {
    "execution": {
     "iopub.execute_input": "2024-06-02T04:53:35.244518Z",
     "iopub.status.busy": "2024-06-02T04:53:35.243396Z",
     "iopub.status.idle": "2024-06-02T04:53:35.303553Z",
     "shell.execute_reply": "2024-06-02T04:53:35.302797Z"
    },
    "papermill": {
     "duration": 0.099646,
     "end_time": "2024-06-02T04:53:35.305532",
     "exception": false,
     "start_time": "2024-06-02T04:53:35.205886",
     "status": "completed"
    },
    "tags": []
   },
   "outputs": [
    {
     "data": {
      "image/svg+xml": [
       "<svg class=\"main-svg\" xmlns=\"http://www.w3.org/2000/svg\" xmlns:xlink=\"http://www.w3.org/1999/xlink\" width=\"1000\" height=\"500\" style=\"\" viewBox=\"0 0 1000 500\"><rect x=\"0\" y=\"0\" width=\"1000\" height=\"500\" style=\"fill: rgb(255, 255, 255); fill-opacity: 1;\"/><defs id=\"defs-1b91d5\"><g class=\"clips\"/><g class=\"gradients\"/><g class=\"patterns\"/></defs><g class=\"bglayer\"/><g class=\"layer-below\"><g class=\"imagelayer\"/><g class=\"shapelayer\"/></g><g class=\"cartesianlayer\"/><g class=\"polarlayer\"/><g class=\"smithlayer\"/><g class=\"ternarylayer\"/><g class=\"geolayer\"/><g class=\"funnelarealayer\"/><g class=\"pielayer\"><g class=\"trace\" stroke-linejoin=\"round\" style=\"opacity: 1;\"><g class=\"slice\"><path class=\"surface\" d=\"M500,265l0,-185a185,185 0 1 1 -86.05294944432971,348.76779259650425Z\" style=\"pointer-events: none; fill: rgb(213, 62, 79); fill-opacity: 1; stroke-width: 1; stroke: rgb(0, 0, 0); stroke-opacity: 1;\"/><g class=\"slicetext\"><text data-notex=\"1\" class=\"slicetext\" transform=\"translate(589.8067659132327,283.05683988387773)\" text-anchor=\"middle\" x=\"0\" y=\"0\" style=\"font-family: 'Open Sans', verdana, arial, sans-serif; font-size: 14px; fill: rgb(255, 255, 255); fill-opacity: 1; white-space: pre;\"><tspan class=\"line\" dy=\"0em\" x=\"0\" y=\"0\">1</tspan><tspan class=\"line\" dy=\"1.3em\" x=\"0\" y=\"0\">57.7%</tspan></text></g></g><g class=\"slice\"><path class=\"surface\" d=\"M500,265l-86.05294944432983,163.7677925965042a185,185 0 0 1 86.05294944432983,-348.7677925965042Z\" style=\"pointer-events: none; fill: rgb(244, 109, 67); fill-opacity: 1; stroke-width: 1; stroke: rgb(0, 0, 0); stroke-opacity: 1;\"/><g class=\"slicetext\"><text data-notex=\"1\" class=\"slicetext\" transform=\"translate(408.86651073687824,238.41268706455855)\" text-anchor=\"middle\" x=\"0\" y=\"0\" style=\"font-family: 'Open Sans', verdana, arial, sans-serif; font-size: 14px; fill: rgb(255, 255, 255); fill-opacity: 1; white-space: pre;\"><tspan class=\"line\" dy=\"0em\" x=\"0\" y=\"0\">0</tspan><tspan class=\"line\" dy=\"1.3em\" x=\"0\" y=\"0\">42.3%</tspan></text></g></g></g></g><g class=\"iciclelayer\"/><g class=\"treemaplayer\"/><g class=\"sunburstlayer\"/><g class=\"glimages\"/><defs id=\"topdefs-1b91d5\"><g class=\"clips\"/><clipPath id=\"legend1b91d5\"><rect width=\"169.6\" height=\"74.6\" x=\"0.7\" y=\"0.7\"/></clipPath></defs><g class=\"layer-above\"><g class=\"imagelayer\"/><g class=\"shapelayer\"/></g><g class=\"infolayer\"><g class=\"legend\" pointer-events=\"all\" transform=\"translate(770,227)\"><rect class=\"bg\" shape-rendering=\"crispEdges\" style=\"stroke: rgb(0, 0, 0); stroke-opacity: 1; fill: rgb(255, 255, 255); fill-opacity: 1; stroke-width: 0.7px;\" width=\"170.3\" height=\"75.3\" x=\"0.35\" y=\"0.35\"/><g class=\"scrollbox\" transform=\"\" clip-path=\"url(#legend1b91d5)\"><text class=\"legendtitletext\" text-anchor=\"start\" x=\"2.7\" y=\"22.8\" style=\"font-family: 'Times New Roman'; font-size: 17px; fill: rgb(0, 0, 0); fill-opacity: 1; white-space: pre;\">str2 (naive/experienced)</text><g class=\"groups\"><g class=\"traces\" transform=\"translate(0.7,38.4)\" style=\"opacity: 1;\"><text class=\"legendtext\" text-anchor=\"start\" x=\"40\" y=\"5.46\" style=\"font-family: 'Times New Roman'; font-size: 14px; fill: rgb(0, 0, 0); fill-opacity: 1; white-space: pre;\">1</text><g class=\"layers\" style=\"opacity: 1;\"><g class=\"legendfill\"/><g class=\"legendlines\"/><g class=\"legendsymbols\"><g class=\"legendpoints\"><path class=\"legendpie\" d=\"M6,6H-6V-6H6Z\" transform=\"translate(20,0)\" style=\"fill: rgb(213, 62, 79); fill-opacity: 1; stroke-width: 1; stroke: rgb(0, 0, 0); stroke-opacity: 1;\"/></g></g></g><rect class=\"legendtoggle\" x=\"0\" y=\"-10.6\" width=\"47\" height=\"21.2\" style=\"fill: rgb(0, 0, 0); fill-opacity: 0;\"/></g><g class=\"traces\" transform=\"translate(0.7,59.6)\" style=\"opacity: 1;\"><text class=\"legendtext\" text-anchor=\"start\" x=\"40\" y=\"5.46\" style=\"font-family: 'Times New Roman'; font-size: 14px; fill: rgb(0, 0, 0); fill-opacity: 1; white-space: pre;\">0</text><g class=\"layers\" style=\"opacity: 1;\"><g class=\"legendfill\"/><g class=\"legendlines\"/><g class=\"legendsymbols\"><g class=\"legendpoints\"><path class=\"legendpie\" d=\"M6,6H-6V-6H6Z\" transform=\"translate(20,0)\" style=\"fill: rgb(244, 109, 67); fill-opacity: 1; stroke-width: 1; stroke: rgb(0, 0, 0); stroke-opacity: 1;\"/></g></g></g><rect class=\"legendtoggle\" x=\"0\" y=\"-10.6\" width=\"47\" height=\"21.2\" style=\"fill: rgb(0, 0, 0); fill-opacity: 0;\"/></g></g></g><rect class=\"scrollbar\" rx=\"20\" ry=\"3\" width=\"0\" height=\"0\" x=\"0\" y=\"0\" style=\"fill: rgb(128, 139, 164); fill-opacity: 1;\"/></g><g class=\"g-gtitle\"><text class=\"gtitle\" x=\"210\" y=\"25\" text-anchor=\"middle\" dy=\"0.7em\" style=\"font-family: 'Times New Roman'; font-size: 26px; fill: rgb(0, 0, 0); opacity: 1; font-weight: normal; white-space: pre;\">Distribution of ART history</text></g><g class=\"annotation\" data-index=\"0\" style=\"opacity: 1;\"><g class=\"annotation-text-g\" transform=\"rotate(0,500,477.00000000000006)\"><g class=\"cursor-pointer\" transform=\"translate(382,467)\"><rect class=\"bg\" x=\"0.5\" y=\"0.5\" width=\"235\" height=\"19\" style=\"stroke-width: 1px; stroke: rgb(0, 0, 0); stroke-opacity: 0; fill: rgb(0, 0, 0); fill-opacity: 0;\"/><text class=\"annotation-text\" text-anchor=\"middle\" x=\"117.953125\" y=\"15\" style=\"font-family: 'Open Sans', verdana, arial, sans-serif; font-size: 14px; fill: rgb(0, 0, 0); fill-opacity: 1; white-space: pre;\">Majority of patients were experienced</text></g></g></g></g></svg>"
      ]
     },
     "metadata": {},
     "output_type": "display_data"
    }
   ],
   "source": [
    "\n",
    "palette = cl.scales['9']['div']['Spectral']\n",
    "\n",
    "\n",
    "str2 = df['str2'].value_counts().reset_index()\n",
    "str2.columns = ['str2', 'count']\n",
    "\n",
    "fig = go.Figure(data=[go.Pie(\n",
    "    labels=str2['str2'],\n",
    "    values=str2['count'],\n",
    "    marker=dict(colors=palette, line=dict(color='#000000', width=1)),\n",
    "    textinfo=\"label+percent\",\n",
    "    textfont=dict(size=14, color='#FFFFFF')\n",
    ")])\n",
    "\n",
    "\n",
    "fig.update_layout(\n",
    "    title_text=\"Distribution of ART history\",\n",
    "    title_font_size=24,\n",
    "    title_font_family=\"Times New Roman\",\n",
    "    title_font_color=\"#000000\",  \n",
    "    paper_bgcolor='#ffffff',  \n",
    "    plot_bgcolor='#ffffff', \n",
    "    showlegend=True,\n",
    "    legend_title_text='str2 (naive/experienced)',\n",
    "    legend=dict(\n",
    "        x=0.8,\n",
    "        y=0.5,\n",
    "        traceorder='normal',\n",
    "        font=dict(\n",
    "            family=\"Times New Roman\",\n",
    "            size=14,\n",
    "            color=\"#000000\"\n",
    "        ),\n",
    "        bgcolor=\"#ffffff\",  \n",
    "        bordercolor=\"#000000\", \n",
    "        borderwidth=0.7,\n",
    "        orientation=\"v\" \n",
    "    )\n",
    ")\n",
    "\n",
    "fig.update_layout(width=1000)\n",
    "\n",
    "fig.update_layout(\n",
    "    title={\n",
    "        'text': \"Distribution of ART history\",\n",
    "        'y':0.95,\n",
    "        'x':0.21,\n",
    "        'xanchor': 'center',\n",
    "        'yanchor': 'top'},\n",
    "    title_font_size=26,\n",
    "    margin=dict(l=50, r=50, t=80, b=50)\n",
    ")\n",
    "\n",
    "fig.add_annotation(\n",
    "    text=\"Majority of patients were experienced\",\n",
    "    x=0.5,\n",
    "    y=-0.10,\n",
    "    showarrow=False,\n",
    "    font=dict(color=\"#000000\", size=14) \n",
    ")\n",
    "\n",
    "# Show the pie chart\n",
    "fig.show('svg')\n"
   ]
  },
  {
   "cell_type": "markdown",
   "id": "37376b80",
   "metadata": {
    "papermill": {
     "duration": 0.036369,
     "end_time": "2024-06-02T04:53:35.378846",
     "exception": false,
     "start_time": "2024-06-02T04:53:35.342477",
     "status": "completed"
    },
    "tags": []
   },
   "source": [
    "----------------------------------------------------------------------------------------------------------------------------------------------------------\n"
   ]
  },
  {
   "cell_type": "markdown",
   "id": "95d0ba3f",
   "metadata": {
    "papermill": {
     "duration": 0.036021,
     "end_time": "2024-06-02T04:53:35.451635",
     "exception": false,
     "start_time": "2024-06-02T04:53:35.415614",
     "status": "completed"
    },
    "tags": []
   },
   "source": [
    "## symptom: symptomatic indicator (0=asymp, 1=symp)\n",
    "\n",
    "<div>\n",
    "     <ul>\n",
    "        <li>Asymptomatic (0):\n",
    "            <ul>\n",
    "                <li>Individuals categorized as \"asymp\" (asymptomatic) have no noticeable symptoms associated with HIV/AIDS at the time of assessment. They may be carriers of the virus but have not yet developed symptoms or clinical manifestations of the disease. Asymptomatic individuals may still be infectious and capable of transmitting the virus to others.</li>\n",
    "            </ul>\n",
    "        </li>\n",
    "        <li>Symptomatic (1):\n",
    "            <ul>\n",
    "                <li>Individuals categorized as \"symp\" (symptomatic) exhibit symptoms or clinical manifestations of HIV/AIDS at the time of assessment. These symptoms may include but are not limited to fever, fatigue, weight loss, night sweats, swollen lymph nodes, opportunistic infections, and other AIDS-defining illnesses. Symptomatic individuals typically require medical evaluation, treatment, and management of HIV/AIDS-related complications.</li>\n",
    "            </ul>\n",
    "        </li>\n",
    "     \n",
    "   </ul>\n",
    "    </div>\n",
    "    \n",
    "***Conclusion***\n",
    "\n",
    "- *Most of the patients had no signs of any symptom*\n",
    "    "
   ]
  },
  {
   "cell_type": "code",
   "execution_count": 41,
   "id": "ae1c9035",
   "metadata": {
    "execution": {
     "iopub.execute_input": "2024-06-02T04:53:35.526648Z",
     "iopub.status.busy": "2024-06-02T04:53:35.526229Z",
     "iopub.status.idle": "2024-06-02T04:53:35.533590Z",
     "shell.execute_reply": "2024-06-02T04:53:35.532823Z"
    },
    "papermill": {
     "duration": 0.047441,
     "end_time": "2024-06-02T04:53:35.535530",
     "exception": false,
     "start_time": "2024-06-02T04:53:35.488089",
     "status": "completed"
    },
    "tags": []
   },
   "outputs": [
    {
     "data": {
      "text/plain": [
       "symptom\n",
       "0    13681\n",
       "1     1319\n",
       "Name: count, dtype: int64"
      ]
     },
     "execution_count": 41,
     "metadata": {},
     "output_type": "execute_result"
    }
   ],
   "source": [
    "df['symptom'].value_counts()"
   ]
  },
  {
   "cell_type": "code",
   "execution_count": 42,
   "id": "447dfa6f",
   "metadata": {
    "execution": {
     "iopub.execute_input": "2024-06-02T04:53:35.615533Z",
     "iopub.status.busy": "2024-06-02T04:53:35.614472Z",
     "iopub.status.idle": "2024-06-02T04:53:35.675349Z",
     "shell.execute_reply": "2024-06-02T04:53:35.674063Z"
    },
    "papermill": {
     "duration": 0.105114,
     "end_time": "2024-06-02T04:53:35.677659",
     "exception": false,
     "start_time": "2024-06-02T04:53:35.572545",
     "status": "completed"
    },
    "tags": []
   },
   "outputs": [
    {
     "data": {
      "image/svg+xml": [
       "<svg class=\"main-svg\" xmlns=\"http://www.w3.org/2000/svg\" xmlns:xlink=\"http://www.w3.org/1999/xlink\" width=\"1000\" height=\"500\" style=\"\" viewBox=\"0 0 1000 500\"><rect x=\"0\" y=\"0\" width=\"1000\" height=\"500\" style=\"fill: rgb(255, 255, 255); fill-opacity: 1;\"/><defs id=\"defs-d00f82\"><g class=\"clips\"/><g class=\"gradients\"/><g class=\"patterns\"/></defs><g class=\"bglayer\"/><g class=\"layer-below\"><g class=\"imagelayer\"/><g class=\"shapelayer\"/></g><g class=\"cartesianlayer\"/><g class=\"polarlayer\"/><g class=\"smithlayer\"/><g class=\"ternarylayer\"/><g class=\"geolayer\"/><g class=\"funnelarealayer\"/><g class=\"pielayer\"><g class=\"trace\" stroke-linejoin=\"round\" style=\"opacity: 1;\"><g class=\"slice\"><path class=\"surface\" d=\"M500,265l0,-185a185,185 0 1 1 -97.09135223020682,27.525337523429158Z\" style=\"pointer-events: none; fill: rgb(247, 252, 240); fill-opacity: 1; stroke-width: 1; stroke: rgb(0, 0, 0); stroke-opacity: 1;\"/><g class=\"slicetext\"><text data-notex=\"1\" class=\"slicetext\" transform=\"translate(525.2294159708325,349.8912831100304)\" text-anchor=\"middle\" x=\"0\" y=\"0\" style=\"font-family: 'Open Sans', verdana, arial, sans-serif; font-size: 14px; fill: rgb(0, 0, 0); fill-opacity: 1; white-space: pre;\"><tspan class=\"line\" dy=\"0em\" x=\"0\" y=\"0\">0</tspan><tspan class=\"line\" dy=\"1.3em\" x=\"0\" y=\"0\">91.2%</tspan></text></g></g><g class=\"slice\"><path class=\"surface\" d=\"M500,265l-97.09135223020672,-157.47466247657093a185,185 0 0 1 97.09135223020672,-27.525337523429073Z\" style=\"pointer-events: none; fill: rgb(224, 243, 219); fill-opacity: 1; stroke-width: 1; stroke: rgb(0, 0, 0); stroke-opacity: 1;\"/><g class=\"slicetext\"><text data-notex=\"1\" class=\"slicetext\" transform=\"translate(460.35449665561606,121.05508312597931)\" text-anchor=\"middle\" x=\"0\" y=\"0\" style=\"font-family: 'Open Sans', verdana, arial, sans-serif; font-size: 14px; fill: rgb(0, 0, 0); fill-opacity: 1; white-space: pre;\"><tspan class=\"line\" dy=\"0em\" x=\"0\" y=\"0\">1</tspan><tspan class=\"line\" dy=\"1.3em\" x=\"0\" y=\"0\">8.79%</tspan></text></g></g></g></g><g class=\"iciclelayer\"/><g class=\"treemaplayer\"/><g class=\"sunburstlayer\"/><g class=\"glimages\"/><defs id=\"topdefs-d00f82\"><g class=\"clips\"/><clipPath id=\"legendd00f82\"><rect width=\"67.6\" height=\"74.6\" x=\"0.7\" y=\"0.7\"/></clipPath></defs><g class=\"layer-above\"><g class=\"imagelayer\"/><g class=\"shapelayer\"/></g><g class=\"infolayer\"><g class=\"legend\" pointer-events=\"all\" transform=\"translate(770,227)\"><rect class=\"bg\" shape-rendering=\"crispEdges\" style=\"stroke: rgb(0, 0, 0); stroke-opacity: 1; fill: rgb(255, 255, 255); fill-opacity: 1; stroke-width: 0.7px;\" width=\"68.3\" height=\"75.3\" x=\"0.35\" y=\"0.35\"/><g class=\"scrollbox\" transform=\"\" clip-path=\"url(#legendd00f82)\"><text class=\"legendtitletext\" text-anchor=\"start\" x=\"2.7\" y=\"22.8\" style=\"font-family: 'Times New Roman'; font-size: 17px; fill: rgb(0, 0, 0); fill-opacity: 1; white-space: pre;\">symptom</text><g class=\"groups\"><g class=\"traces\" transform=\"translate(0.7,38.4)\" style=\"opacity: 1;\"><text class=\"legendtext\" text-anchor=\"start\" x=\"40\" y=\"5.46\" style=\"font-family: 'Times New Roman'; font-size: 14px; fill: rgb(0, 0, 0); fill-opacity: 1; white-space: pre;\">0</text><g class=\"layers\" style=\"opacity: 1;\"><g class=\"legendfill\"/><g class=\"legendlines\"/><g class=\"legendsymbols\"><g class=\"legendpoints\"><path class=\"legendpie\" d=\"M6,6H-6V-6H6Z\" transform=\"translate(20,0)\" style=\"fill: rgb(247, 252, 240); fill-opacity: 1; stroke-width: 1; stroke: rgb(0, 0, 0); stroke-opacity: 1;\"/></g></g></g><rect class=\"legendtoggle\" x=\"0\" y=\"-10.6\" width=\"47\" height=\"21.2\" style=\"fill: rgb(0, 0, 0); fill-opacity: 0;\"/></g><g class=\"traces\" transform=\"translate(0.7,59.6)\" style=\"opacity: 1;\"><text class=\"legendtext\" text-anchor=\"start\" x=\"40\" y=\"5.46\" style=\"font-family: 'Times New Roman'; font-size: 14px; fill: rgb(0, 0, 0); fill-opacity: 1; white-space: pre;\">1</text><g class=\"layers\" style=\"opacity: 1;\"><g class=\"legendfill\"/><g class=\"legendlines\"/><g class=\"legendsymbols\"><g class=\"legendpoints\"><path class=\"legendpie\" d=\"M6,6H-6V-6H6Z\" transform=\"translate(20,0)\" style=\"fill: rgb(224, 243, 219); fill-opacity: 1; stroke-width: 1; stroke: rgb(0, 0, 0); stroke-opacity: 1;\"/></g></g></g><rect class=\"legendtoggle\" x=\"0\" y=\"-10.6\" width=\"47\" height=\"21.2\" style=\"fill: rgb(0, 0, 0); fill-opacity: 0;\"/></g></g></g><rect class=\"scrollbar\" rx=\"20\" ry=\"3\" width=\"0\" height=\"0\" x=\"0\" y=\"0\" style=\"fill: rgb(128, 139, 164); fill-opacity: 1;\"/></g><g class=\"g-gtitle\"><text class=\"gtitle\" x=\"210\" y=\"25\" text-anchor=\"middle\" dy=\"0.7em\" style=\"font-family: 'Times New Roman'; font-size: 26px; fill: rgb(0, 0, 0); opacity: 1; font-weight: normal; white-space: pre;\">Distribution of symptom</text></g><g class=\"annotation\" data-index=\"0\" style=\"opacity: 1;\"><g class=\"annotation-text-g\" transform=\"rotate(0,500,477.00000000000006)\"><g class=\"cursor-pointer\" transform=\"translate(377,467)\"><rect class=\"bg\" x=\"0.5\" y=\"0.5\" width=\"245\" height=\"19\" style=\"stroke-width: 1px; stroke: rgb(0, 0, 0); stroke-opacity: 0; fill: rgb(0, 0, 0); fill-opacity: 0;\"/><text class=\"annotation-text\" text-anchor=\"middle\" x=\"123\" y=\"15\" style=\"font-family: 'Open Sans', verdana, arial, sans-serif; font-size: 14px; fill: rgb(0, 0, 0); fill-opacity: 1; white-space: pre;\">Majority of patients were asymptomatic</text></g></g></g></g></svg>"
      ]
     },
     "metadata": {},
     "output_type": "display_data"
    }
   ],
   "source": [
    "\n",
    "palette = cl.scales['8']['seq']['GnBu']\n",
    "\n",
    "\n",
    "sym = df['symptom'].value_counts().reset_index()\n",
    "sym.columns = ['symptom', 'count']\n",
    "\n",
    "fig = go.Figure(data=[go.Pie(\n",
    "    labels=sym['symptom'],\n",
    "    values=sym['count'],\n",
    "    marker=dict(colors=palette, line=dict(color='#000000', width=1)),\n",
    "    textinfo=\"label+percent\",\n",
    "    textfont=dict(size=14, color='#000000')\n",
    ")])\n",
    "\n",
    "\n",
    "fig.update_layout(\n",
    "    title_text=\"Distribution of Symptom\",\n",
    "    title_font_size=24,\n",
    "    title_font_family=\"Times New Roman\",\n",
    "    title_font_color=\"#000000\",  \n",
    "    paper_bgcolor='#ffffff',  \n",
    "    plot_bgcolor='#ffffff', \n",
    "    showlegend=True,\n",
    "    legend_title_text='symptom',\n",
    "    legend=dict(\n",
    "        x=0.8,\n",
    "        y=0.5,\n",
    "        traceorder='normal',\n",
    "        font=dict(\n",
    "            family=\"Times New Roman\",\n",
    "            size=14,\n",
    "            color=\"#000000\"\n",
    "        ),\n",
    "        bgcolor=\"#ffffff\",  \n",
    "        bordercolor=\"#000000\", \n",
    "        borderwidth=0.7,\n",
    "        orientation=\"v\" \n",
    "    )\n",
    ")\n",
    "\n",
    "fig.update_layout(width=1000)\n",
    "\n",
    "fig.update_layout(\n",
    "    title={\n",
    "        'text': \"Distribution of symptom\",\n",
    "        'y':0.95,\n",
    "        'x':0.21,\n",
    "        'xanchor': 'center',\n",
    "        'yanchor': 'top'},\n",
    "    title_font_size=26,\n",
    "    margin=dict(l=50, r=50, t=80, b=50)\n",
    ")\n",
    "\n",
    "fig.add_annotation(\n",
    "    text=\"Majority of patients were asymptomatic\",\n",
    "    x=0.5,\n",
    "    y=-0.10,\n",
    "    showarrow=False,\n",
    "    font=dict(color=\"#000000\", size=14) \n",
    ")\n",
    "\n",
    "# Show the pie chart\n",
    "fig.show('svg')\n"
   ]
  },
  {
   "cell_type": "code",
   "execution_count": 43,
   "id": "6971ab90",
   "metadata": {
    "execution": {
     "iopub.execute_input": "2024-06-02T04:53:35.753613Z",
     "iopub.status.busy": "2024-06-02T04:53:35.753024Z",
     "iopub.status.idle": "2024-06-02T04:53:35.784148Z",
     "shell.execute_reply": "2024-06-02T04:53:35.782998Z"
    },
    "papermill": {
     "duration": 0.071423,
     "end_time": "2024-06-02T04:53:35.786506",
     "exception": false,
     "start_time": "2024-06-02T04:53:35.715083",
     "status": "completed"
    },
    "tags": []
   },
   "outputs": [
    {
     "data": {
      "text/plain": [
       "time         -2.156535\n",
       "trt          -2.005299\n",
       "age           0.059428\n",
       "wtkg         -0.288660\n",
       "hemo         -0.964097\n",
       "homo          1.782219\n",
       "drugs         0.447201\n",
       "karnof        0.382483\n",
       "oprior        2.945846\n",
       "z30           1.727802\n",
       "preanti       2.199479\n",
       "race         -0.458382\n",
       "gender        0.722118\n",
       "str2          3.570729\n",
       "strat         1.967243\n",
       "symptom     100.000000\n",
       "treat        -3.062186\n",
       "offtrt       -0.299683\n",
       "cd40         -2.154229\n",
       "cd420        -3.933053\n",
       "cd80          1.023918\n",
       "cd820         1.350573\n",
       "infected      3.301034\n",
       "Name: symptom, dtype: float64"
      ]
     },
     "execution_count": 43,
     "metadata": {},
     "output_type": "execute_result"
    }
   ],
   "source": [
    "df.corr()['symptom']*100"
   ]
  },
  {
   "cell_type": "markdown",
   "id": "b4865ac8",
   "metadata": {
    "papermill": {
     "duration": 0.036258,
     "end_time": "2024-06-02T04:53:35.861012",
     "exception": false,
     "start_time": "2024-06-02T04:53:35.824754",
     "status": "completed"
    },
    "tags": []
   },
   "source": [
    "----------------------------------------------------------------------------------------------------------------------------------------------------------\n"
   ]
  },
  {
   "cell_type": "markdown",
   "id": "4d711d3a",
   "metadata": {
    "papermill": {
     "duration": 0.036722,
     "end_time": "2024-06-02T04:53:35.934737",
     "exception": false,
     "start_time": "2024-06-02T04:53:35.898015",
     "status": "completed"
    },
    "tags": []
   },
   "source": [
    "## treat: treatment indicator (0=ZDV only, 1=others)\n",
    "\n",
    "***Conclusion***\n",
    "\n",
    "- *Patients opted for treatments other than just ZDV*"
   ]
  },
  {
   "cell_type": "code",
   "execution_count": 44,
   "id": "cbdb1709",
   "metadata": {
    "execution": {
     "iopub.execute_input": "2024-06-02T04:53:36.010860Z",
     "iopub.status.busy": "2024-06-02T04:53:36.010141Z",
     "iopub.status.idle": "2024-06-02T04:53:36.042033Z",
     "shell.execute_reply": "2024-06-02T04:53:36.040911Z"
    },
    "papermill": {
     "duration": 0.072206,
     "end_time": "2024-06-02T04:53:36.044219",
     "exception": false,
     "start_time": "2024-06-02T04:53:35.972013",
     "status": "completed"
    },
    "tags": []
   },
   "outputs": [
    {
     "data": {
      "text/plain": [
       "time          6.817768\n",
       "trt          23.178605\n",
       "age           4.570299\n",
       "wtkg         -0.093578\n",
       "hemo          0.217342\n",
       "homo          8.037881\n",
       "drugs        -2.601572\n",
       "karnof       -6.687859\n",
       "oprior       -1.419959\n",
       "z30           3.788999\n",
       "preanti       3.101474\n",
       "race         -9.108906\n",
       "gender        5.650087\n",
       "str2          3.934434\n",
       "strat         3.078169\n",
       "symptom      -3.062186\n",
       "treat       100.000000\n",
       "offtrt       -5.011457\n",
       "cd40         -1.921836\n",
       "cd420         2.107671\n",
       "cd80          0.811203\n",
       "cd820         3.362233\n",
       "infected     -3.644487\n",
       "Name: treat, dtype: float64"
      ]
     },
     "execution_count": 44,
     "metadata": {},
     "output_type": "execute_result"
    }
   ],
   "source": [
    "df.corr()['treat']*100"
   ]
  },
  {
   "cell_type": "code",
   "execution_count": 45,
   "id": "7145ea95",
   "metadata": {
    "execution": {
     "iopub.execute_input": "2024-06-02T04:53:36.122384Z",
     "iopub.status.busy": "2024-06-02T04:53:36.122009Z",
     "iopub.status.idle": "2024-06-02T04:53:36.130066Z",
     "shell.execute_reply": "2024-06-02T04:53:36.128924Z"
    },
    "papermill": {
     "duration": 0.049119,
     "end_time": "2024-06-02T04:53:36.132220",
     "exception": false,
     "start_time": "2024-06-02T04:53:36.083101",
     "status": "completed"
    },
    "tags": []
   },
   "outputs": [
    {
     "data": {
      "text/plain": [
       "treat\n",
       "1    11046\n",
       "0     3954\n",
       "Name: count, dtype: int64"
      ]
     },
     "execution_count": 45,
     "metadata": {},
     "output_type": "execute_result"
    }
   ],
   "source": [
    "df['treat'].value_counts()"
   ]
  },
  {
   "cell_type": "code",
   "execution_count": 46,
   "id": "5380cd34",
   "metadata": {
    "execution": {
     "iopub.execute_input": "2024-06-02T04:53:36.209355Z",
     "iopub.status.busy": "2024-06-02T04:53:36.208974Z",
     "iopub.status.idle": "2024-06-02T04:53:36.268397Z",
     "shell.execute_reply": "2024-06-02T04:53:36.267630Z"
    },
    "papermill": {
     "duration": 0.101378,
     "end_time": "2024-06-02T04:53:36.270280",
     "exception": false,
     "start_time": "2024-06-02T04:53:36.168902",
     "status": "completed"
    },
    "tags": []
   },
   "outputs": [
    {
     "data": {
      "image/svg+xml": [
       "<svg class=\"main-svg\" xmlns=\"http://www.w3.org/2000/svg\" xmlns:xlink=\"http://www.w3.org/1999/xlink\" width=\"1000\" height=\"500\" style=\"\" viewBox=\"0 0 1000 500\"><rect x=\"0\" y=\"0\" width=\"1000\" height=\"500\" style=\"fill: rgb(255, 255, 255); fill-opacity: 1;\"/><defs id=\"defs-eae359\"><g class=\"clips\"/><g class=\"gradients\"/><g class=\"patterns\"/></defs><g class=\"bglayer\"/><g class=\"layer-below\"><g class=\"imagelayer\"/><g class=\"shapelayer\"/></g><g class=\"cartesianlayer\"/><g class=\"polarlayer\"/><g class=\"smithlayer\"/><g class=\"ternarylayer\"/><g class=\"geolayer\"/><g class=\"funnelarealayer\"/><g class=\"pielayer\"><g class=\"trace\" stroke-linejoin=\"round\" style=\"opacity: 1;\"><g class=\"slice\"><path class=\"surface\" d=\"M500,265l0,-185a185,185 0 1 1 -184.32498254297445,200.78926250754475Z\" style=\"pointer-events: none; fill: rgb(178, 223, 138); fill-opacity: 1; stroke-width: 1; stroke: rgb(0, 0, 0); stroke-opacity: 1;\"/><g class=\"slicetext\"><text data-notex=\"1\" class=\"slicetext\" transform=\"translate(568.1414095501918,323.45240063994044)\" text-anchor=\"middle\" x=\"0\" y=\"0\" style=\"font-family: 'Open Sans', verdana, arial, sans-serif; font-size: 14px; fill: rgb(0, 0, 0); fill-opacity: 1; white-space: pre;\"><tspan class=\"line\" dy=\"0em\" x=\"0\" y=\"0\">1</tspan><tspan class=\"line\" dy=\"1.3em\" x=\"0\" y=\"0\">73.6%</tspan></text></g></g><g class=\"slice\"><path class=\"surface\" d=\"M500,265l-184.32498254297448,15.789262507544668a185,185 0 0 1 184.32498254297448,-200.78926250754466Z\" style=\"pointer-events: none; fill: rgb(51, 160, 44); fill-opacity: 1; stroke-width: 1; stroke: rgb(0, 0, 0); stroke-opacity: 1;\"/><g class=\"slicetext\"><text data-notex=\"1\" class=\"slicetext\" transform=\"translate(421.52608220953925,188.8592091759158)\" text-anchor=\"middle\" x=\"0\" y=\"0\" style=\"font-family: 'Open Sans', verdana, arial, sans-serif; font-size: 14px; fill: rgb(0, 0, 0); fill-opacity: 1; white-space: pre;\"><tspan class=\"line\" dy=\"0em\" x=\"0\" y=\"0\">0</tspan><tspan class=\"line\" dy=\"1.3em\" x=\"0\" y=\"0\">26.4%</tspan></text></g></g></g></g><g class=\"iciclelayer\"/><g class=\"treemaplayer\"/><g class=\"sunburstlayer\"/><g class=\"glimages\"/><defs id=\"topdefs-eae359\"><g class=\"clips\"/><clipPath id=\"legendeae359\"><rect width=\"130.6\" height=\"74.6\" x=\"0.7\" y=\"0.7\"/></clipPath></defs><g class=\"layer-above\"><g class=\"imagelayer\"/><g class=\"shapelayer\"/></g><g class=\"infolayer\"><g class=\"legend\" pointer-events=\"all\" transform=\"translate(770,227)\"><rect class=\"bg\" shape-rendering=\"crispEdges\" style=\"stroke: rgb(0, 0, 0); stroke-opacity: 1; fill: rgb(255, 255, 255); fill-opacity: 1; stroke-width: 0.7px;\" width=\"131.3\" height=\"75.3\" x=\"0.35\" y=\"0.35\"/><g class=\"scrollbox\" transform=\"\" clip-path=\"url(#legendeae359)\"><text class=\"legendtitletext\" text-anchor=\"start\" x=\"2.7\" y=\"22.8\" style=\"font-family: 'Times New Roman'; font-size: 17px; fill: rgb(0, 0, 0); fill-opacity: 1; white-space: pre;\">Type of Treatment</text><g class=\"groups\"><g class=\"traces\" transform=\"translate(0.7,38.4)\" style=\"opacity: 1;\"><text class=\"legendtext\" text-anchor=\"start\" x=\"40\" y=\"5.46\" style=\"font-family: 'Times New Roman'; font-size: 14px; fill: rgb(0, 0, 0); fill-opacity: 1; white-space: pre;\">1</text><g class=\"layers\" style=\"opacity: 1;\"><g class=\"legendfill\"/><g class=\"legendlines\"/><g class=\"legendsymbols\"><g class=\"legendpoints\"><path class=\"legendpie\" d=\"M6,6H-6V-6H6Z\" transform=\"translate(20,0)\" style=\"fill: rgb(178, 223, 138); fill-opacity: 1; stroke-width: 1; stroke: rgb(0, 0, 0); stroke-opacity: 1;\"/></g></g></g><rect class=\"legendtoggle\" x=\"0\" y=\"-10.6\" width=\"47\" height=\"21.2\" style=\"fill: rgb(0, 0, 0); fill-opacity: 0;\"/></g><g class=\"traces\" transform=\"translate(0.7,59.6)\" style=\"opacity: 1;\"><text class=\"legendtext\" text-anchor=\"start\" x=\"40\" y=\"5.46\" style=\"font-family: 'Times New Roman'; font-size: 14px; fill: rgb(0, 0, 0); fill-opacity: 1; white-space: pre;\">0</text><g class=\"layers\" style=\"opacity: 1;\"><g class=\"legendfill\"/><g class=\"legendlines\"/><g class=\"legendsymbols\"><g class=\"legendpoints\"><path class=\"legendpie\" d=\"M6,6H-6V-6H6Z\" transform=\"translate(20,0)\" style=\"fill: rgb(51, 160, 44); fill-opacity: 1; stroke-width: 1; stroke: rgb(0, 0, 0); stroke-opacity: 1;\"/></g></g></g><rect class=\"legendtoggle\" x=\"0\" y=\"-10.6\" width=\"47\" height=\"21.2\" style=\"fill: rgb(0, 0, 0); fill-opacity: 0;\"/></g></g></g><rect class=\"scrollbar\" rx=\"20\" ry=\"3\" width=\"0\" height=\"0\" x=\"0\" y=\"0\" style=\"fill: rgb(128, 139, 164); fill-opacity: 1;\"/></g><g class=\"g-gtitle\"><text class=\"gtitle\" x=\"210\" y=\"25\" text-anchor=\"middle\" dy=\"0.7em\" style=\"font-family: 'Times New Roman'; font-size: 26px; fill: rgb(0, 0, 0); opacity: 1; font-weight: normal; white-space: pre;\">Distribution of type of Treatment</text></g><g class=\"annotation\" data-index=\"0\" style=\"opacity: 1;\"><g class=\"annotation-text-g\" transform=\"rotate(0,500,477.00000000000006)\"><g class=\"cursor-pointer\" transform=\"translate(307,467)\"><rect class=\"bg\" x=\"0.5\" y=\"0.5\" width=\"385\" height=\"19\" style=\"stroke-width: 1px; stroke: rgb(0, 0, 0); stroke-opacity: 0; fill: rgb(0, 0, 0); fill-opacity: 0;\"/><text class=\"annotation-text\" text-anchor=\"middle\" x=\"193.046875\" y=\"15\" style=\"font-family: 'Open Sans', verdana, arial, sans-serif; font-size: 14px; fill: rgb(0, 0, 0); fill-opacity: 1; white-space: pre;\">Majority of patients undertook treatments other than just ZDV </text></g></g></g></g></svg>"
      ]
     },
     "metadata": {},
     "output_type": "display_data"
    }
   ],
   "source": [
    "\n",
    "palette = cl.scales['7']['qual']['Paired'][2:4]\n",
    "\n",
    "\n",
    "treat = df['treat'].value_counts().reset_index()\n",
    "treat.columns = ['treat', 'count']\n",
    "\n",
    "fig = go.Figure(data=[go.Pie(\n",
    "    labels=treat['treat'],\n",
    "    values=treat['count'],\n",
    "    marker=dict(colors=palette, line=dict(color='#000000', width=1)),\n",
    "    textinfo=\"label+percent\",\n",
    "    textfont=dict(size=14, color='#000000')\n",
    ")])\n",
    "\n",
    "\n",
    "fig.update_layout(\n",
    "    title_text=\"Distribution of type of Treatments\",\n",
    "    title_font_size=24,\n",
    "    title_font_family=\"Times New Roman\",\n",
    "    title_font_color=\"#000000\",  \n",
    "    paper_bgcolor='#ffffff',  \n",
    "    plot_bgcolor='#ffffff', \n",
    "    showlegend=True,\n",
    "    legend_title_text='Type of Treatment',\n",
    "    legend=dict(\n",
    "        x=0.8,\n",
    "        y=0.5,\n",
    "        traceorder='normal',\n",
    "        font=dict(\n",
    "            family=\"Times New Roman\",\n",
    "            size=14,\n",
    "            color=\"#000000\"\n",
    "        ),\n",
    "        bgcolor=\"#ffffff\",  \n",
    "        bordercolor=\"#000000\", \n",
    "        borderwidth=0.7,\n",
    "        orientation=\"v\" \n",
    "    )\n",
    ")\n",
    "\n",
    "fig.update_layout(width=1000)\n",
    "\n",
    "fig.update_layout(\n",
    "    title={\n",
    "        'text': \"Distribution of type of Treatment\",\n",
    "        'y':0.95,\n",
    "        'x':0.21,\n",
    "        'xanchor': 'center',\n",
    "        'yanchor': 'top'},\n",
    "    title_font_size=26,\n",
    "    margin=dict(l=50, r=50, t=80, b=50)\n",
    ")\n",
    "\n",
    "fig.add_annotation(\n",
    "    text=\"Majority of patients undertook treatments other than just ZDV \",\n",
    "    x=0.5,\n",
    "    y=-0.10,\n",
    "    showarrow=False,\n",
    "    font=dict(color=\"#000000\", size=14) \n",
    ")\n",
    "\n",
    "# Show the pie chart\n",
    "fig.show('svg')\n"
   ]
  },
  {
   "cell_type": "markdown",
   "id": "1fbd7725",
   "metadata": {
    "papermill": {
     "duration": 0.036837,
     "end_time": "2024-06-02T04:53:36.344670",
     "exception": false,
     "start_time": "2024-06-02T04:53:36.307833",
     "status": "completed"
    },
    "tags": []
   },
   "source": [
    "----------------------------------------------------------------------------------------------------------------------------------------------------------\n"
   ]
  },
  {
   "cell_type": "markdown",
   "id": "70955e9b",
   "metadata": {
    "papermill": {
     "duration": 0.036506,
     "end_time": "2024-06-02T04:53:36.419892",
     "exception": false,
     "start_time": "2024-06-02T04:53:36.383386",
     "status": "completed"
    },
    "tags": []
   },
   "source": [
    "## offtrt: indicator of off-trt before 96+/-5 weeks (0=no,1=yes)\n",
    "\n",
    "\n",
    "The variable \"offtrt\"  represents an indicator of being off treatment before a specified time frame, typically 96 weeks (approximately 2 years) with a margin of 5 weeks. \n",
    "    \n",
    "- Indicator of Off-Treatment (0=no):\n",
    "   - Individuals categorized as \"0\" for \"offtrt\" are not considered to have been off treatment before the specified time frame (96+/-5 weeks). This means they either remained on treatment continuously during this period or did not have any interruption in their treatment regimen that exceeded the defined threshold.\n",
    "         \n",
    "- Indicator of Off-Treatment (1=yes):   \n",
    "  - Individuals categorized as \"1\" for \"offtrt\" are considered to have been off treatment before the specified time frame (96+/-5 weeks). This indicates that at some point during the period leading up to 96 weeks, they experienced an interruption or cessation in their treatment regimen, whether intentional or unintentional, that lasted beyond the defined threshold.\n",
    "\n",
    "\n",
    "***Conclusion***\n",
    "- *Majority of patients have successfully maintained their antiretroviral therapy without significant interruptions over the specified period.*"
   ]
  },
  {
   "cell_type": "code",
   "execution_count": 47,
   "id": "5100c27a",
   "metadata": {
    "execution": {
     "iopub.execute_input": "2024-06-02T04:53:36.496166Z",
     "iopub.status.busy": "2024-06-02T04:53:36.495219Z",
     "iopub.status.idle": "2024-06-02T04:53:36.502484Z",
     "shell.execute_reply": "2024-06-02T04:53:36.501738Z"
    },
    "papermill": {
     "duration": 0.047521,
     "end_time": "2024-06-02T04:53:36.504333",
     "exception": false,
     "start_time": "2024-06-02T04:53:36.456812",
     "status": "completed"
    },
    "tags": []
   },
   "outputs": [
    {
     "data": {
      "text/plain": [
       "offtrt\n",
       "0    9768\n",
       "1    5232\n",
       "Name: count, dtype: int64"
      ]
     },
     "execution_count": 47,
     "metadata": {},
     "output_type": "execute_result"
    }
   ],
   "source": [
    "df['offtrt'].value_counts()"
   ]
  },
  {
   "cell_type": "markdown",
   "id": "faa2fbc2",
   "metadata": {
    "papermill": {
     "duration": 0.036705,
     "end_time": "2024-06-02T04:53:36.577988",
     "exception": false,
     "start_time": "2024-06-02T04:53:36.541283",
     "status": "completed"
    },
    "tags": []
   },
   "source": [
    "----------------------------------------------------------------------------------------------------------------------------------------------------------\n"
   ]
  },
  {
   "cell_type": "markdown",
   "id": "e944c7a4",
   "metadata": {
    "papermill": {
     "duration": 0.036824,
     "end_time": "2024-06-02T04:53:36.651742",
     "exception": false,
     "start_time": "2024-06-02T04:53:36.614918",
     "status": "completed"
    },
    "tags": []
   },
   "source": [
    "# cd40: CD4 at baseline\n",
    "\n",
    "CD4 cells, also known as CD4+ T cells, are a type of white blood cell that plays a crucial role in the immune system. They help coordinate the immune response by signaling other cells in the immune system to perform their functions.\n",
    "\n",
    "People living with HIV who have a CD4 count over 500 are usually in pretty good health. People living with HIV who have a CD4 cell count below 200 are at high risk of developing serious illnesses. HIV treatment is recommended for all people living with HIV. It is especially important for people with low CD4 counts.\n",
    "\n",
    "***Conclusion***\n",
    "- *Most of the patients have a count closer to 300 which is a bit concerning*"
   ]
  },
  {
   "cell_type": "code",
   "execution_count": 48,
   "id": "de9b7097",
   "metadata": {
    "execution": {
     "iopub.execute_input": "2024-06-02T04:53:36.728406Z",
     "iopub.status.busy": "2024-06-02T04:53:36.727672Z",
     "iopub.status.idle": "2024-06-02T04:53:36.738282Z",
     "shell.execute_reply": "2024-06-02T04:53:36.737107Z"
    },
    "papermill": {
     "duration": 0.051496,
     "end_time": "2024-06-02T04:53:36.740361",
     "exception": false,
     "start_time": "2024-06-02T04:53:36.688865",
     "status": "completed"
    },
    "tags": []
   },
   "outputs": [
    {
     "data": {
      "text/plain": [
       "count    15000.000000\n",
       "mean       318.754800\n",
       "std        102.653183\n",
       "min          0.000000\n",
       "25%        235.000000\n",
       "50%        298.000000\n",
       "75%        396.000000\n",
       "max        996.000000\n",
       "Name: cd40, dtype: float64"
      ]
     },
     "execution_count": 48,
     "metadata": {},
     "output_type": "execute_result"
    }
   ],
   "source": [
    "df['cd40'].describe()"
   ]
  },
  {
   "cell_type": "markdown",
   "id": "9c53a085",
   "metadata": {
    "papermill": {
     "duration": 0.036785,
     "end_time": "2024-06-02T04:53:36.814186",
     "exception": false,
     "start_time": "2024-06-02T04:53:36.777401",
     "status": "completed"
    },
    "tags": []
   },
   "source": [
    "*Median is 298. A CD4 count of 298 cells/mm³ indicates that the median immune system health of individuals in the study is moderately compromised.*"
   ]
  },
  {
   "cell_type": "code",
   "execution_count": 49,
   "id": "ff72ab0c",
   "metadata": {
    "execution": {
     "iopub.execute_input": "2024-06-02T04:53:36.891027Z",
     "iopub.status.busy": "2024-06-02T04:53:36.890629Z",
     "iopub.status.idle": "2024-06-02T04:53:37.008408Z",
     "shell.execute_reply": "2024-06-02T04:53:37.007594Z"
    },
    "papermill": {
     "duration": 0.159881,
     "end_time": "2024-06-02T04:53:37.010950",
     "exception": false,
     "start_time": "2024-06-02T04:53:36.851069",
     "status": "completed"
    },
    "tags": []
   },
   "outputs": [
    {
     "data": {
      "image/svg+xml": [
       "<svg class=\"main-svg\" xmlns=\"http://www.w3.org/2000/svg\" xmlns:xlink=\"http://www.w3.org/1999/xlink\" width=\"1000\" height=\"500\" style=\"\" viewBox=\"0 0 1000 500\"><rect x=\"0\" y=\"0\" width=\"1000\" height=\"500\" style=\"fill: rgb(255, 255, 255); fill-opacity: 1;\"/><defs id=\"defs-6dd668\"><g class=\"clips\"><clipPath id=\"clip6dd668xyplot\" class=\"plotclip\"><rect width=\"885\" height=\"367\"/></clipPath><clipPath class=\"axesclip\" id=\"clip6dd668x\"><rect x=\"65\" y=\"0\" width=\"885\" height=\"500\"/></clipPath><clipPath class=\"axesclip\" id=\"clip6dd668y\"><rect x=\"0\" y=\"80\" width=\"1000\" height=\"367\"/></clipPath><clipPath class=\"axesclip\" id=\"clip6dd668xy\"><rect x=\"65\" y=\"80\" width=\"885\" height=\"367\"/></clipPath></g><g class=\"gradients\"/><g class=\"patterns\"/></defs><g class=\"bglayer\"/><g class=\"layer-below\"><g class=\"imagelayer\"/><g class=\"shapelayer\"/></g><g class=\"cartesianlayer\"><g class=\"subplot xy\"><g class=\"layer-subplot\"><g class=\"shapelayer\"/><g class=\"imagelayer\"/></g><g class=\"minor-gridlayer\"><g class=\"x\"/><g class=\"y\"/></g><g class=\"gridlayer\"><g class=\"x\"/><g class=\"y\"><path class=\"ygrid crisp\" transform=\"translate(0,391.39)\" d=\"M65,0h885\" style=\"stroke: rgb(255, 255, 255); stroke-opacity: 1; stroke-width: 1px;\"/><path class=\"ygrid crisp\" transform=\"translate(0,335.78999999999996)\" d=\"M65,0h885\" style=\"stroke: rgb(255, 255, 255); stroke-opacity: 1; stroke-width: 1px;\"/><path class=\"ygrid crisp\" transform=\"translate(0,280.18)\" d=\"M65,0h885\" style=\"stroke: rgb(255, 255, 255); stroke-opacity: 1; stroke-width: 1px;\"/><path class=\"ygrid crisp\" transform=\"translate(0,224.58)\" d=\"M65,0h885\" style=\"stroke: rgb(255, 255, 255); stroke-opacity: 1; stroke-width: 1px;\"/><path class=\"ygrid crisp\" transform=\"translate(0,168.97)\" d=\"M65,0h885\" style=\"stroke: rgb(255, 255, 255); stroke-opacity: 1; stroke-width: 1px;\"/><path class=\"ygrid crisp\" transform=\"translate(0,113.36)\" d=\"M65,0h885\" style=\"stroke: rgb(255, 255, 255); stroke-opacity: 1; stroke-width: 1px;\"/></g></g><g class=\"zerolinelayer\"><path class=\"yzl zl crisp\" transform=\"translate(0,447)\" d=\"M65,0h885\" style=\"stroke: rgb(255, 255, 255); stroke-opacity: 1; stroke-width: 2px;\"/></g><path class=\"xlines-below\"/><path class=\"ylines-below\"/><g class=\"overlines-below\"/><g class=\"xaxislayer-below\"/><g class=\"yaxislayer-below\"/><g class=\"overaxes-below\"/><g class=\"plot\" transform=\"translate(65,80)\" clip-path=\"url(#clip6dd668xyplot)\"><g class=\"barlayer mlayer\"><g class=\"trace bars\" style=\"opacity: 1;\"><g class=\"points\"><g class=\"point\"><path d=\"M0,367V366.39H88.5V367Z\" style=\"vector-effect: none; opacity: 1; stroke-width: 0.6px; fill: rgb(128, 125, 186); fill-opacity: 1; stroke: rgb(0, 0, 0); stroke-opacity: 1;\"/></g><g class=\"point\"><path d=\"M88.5,367V294.1H177V367Z\" style=\"vector-effect: none; opacity: 1; stroke-width: 0.6px; fill: rgb(128, 125, 186); fill-opacity: 1; stroke: rgb(0, 0, 0); stroke-opacity: 1;\"/></g><g class=\"point\"><path d=\"M177,367V18.35H265.5V367Z\" style=\"vector-effect: none; opacity: 1; stroke-width: 0.6px; fill: rgb(128, 125, 186); fill-opacity: 1; stroke: rgb(0, 0, 0); stroke-opacity: 1;\"/></g><g class=\"point\"><path d=\"M265.5,367V155.86H354V367Z\" style=\"vector-effect: none; opacity: 1; stroke-width: 0.6px; fill: rgb(128, 125, 186); fill-opacity: 1; stroke: rgb(0, 0, 0); stroke-opacity: 1;\"/></g><g class=\"point\"><path d=\"M354,367V205.74H442.5V367Z\" style=\"vector-effect: none; opacity: 1; stroke-width: 0.6px; fill: rgb(128, 125, 186); fill-opacity: 1; stroke: rgb(0, 0, 0); stroke-opacity: 1;\"/></g><g class=\"point\"><path d=\"M442.5,367V333.97H531V367Z\" style=\"vector-effect: none; opacity: 1; stroke-width: 0.6px; fill: rgb(128, 125, 186); fill-opacity: 1; stroke: rgb(0, 0, 0); stroke-opacity: 1;\"/></g><g class=\"point\"><path d=\"M531,367V361.55H619.5V367Z\" style=\"vector-effect: none; opacity: 1; stroke-width: 0.6px; fill: rgb(128, 125, 186); fill-opacity: 1; stroke: rgb(0, 0, 0); stroke-opacity: 1;\"/></g><g class=\"point\"><path d=\"M619.5,367V366.17H708V367Z\" style=\"vector-effect: none; opacity: 1; stroke-width: 0.6px; fill: rgb(128, 125, 186); fill-opacity: 1; stroke: rgb(0, 0, 0); stroke-opacity: 1;\"/></g><g class=\"point\"><path d=\"M708,367V366.83H796.5V367Z\" style=\"vector-effect: none; opacity: 1; stroke-width: 0.6px; fill: rgb(128, 125, 186); fill-opacity: 1; stroke: rgb(0, 0, 0); stroke-opacity: 1;\"/></g><g class=\"point\"><path d=\"M796.5,367V366.94H885V367Z\" style=\"vector-effect: none; opacity: 1; stroke-width: 0.6px; fill: rgb(128, 125, 186); fill-opacity: 1; stroke: rgb(0, 0, 0); stroke-opacity: 1;\"/></g></g></g></g></g><g class=\"overplot\"/><path class=\"xlines-above crisp\" d=\"M0,0\" style=\"fill: none;\"/><path class=\"ylines-above crisp\" d=\"M0,0\" style=\"fill: none;\"/><g class=\"overlines-above\"/><g class=\"xaxislayer-above\"><g class=\"xtick\"><text text-anchor=\"middle\" x=\"0\" y=\"460\" transform=\"translate(65.44,0)\" style=\"font-family: 'Open Sans', verdana, arial, sans-serif; font-size: 12px; fill: rgb(42, 63, 95); fill-opacity: 1; white-space: pre; opacity: 1;\">0</text></g><g class=\"xtick\"><text text-anchor=\"middle\" x=\"0\" y=\"460\" style=\"font-family: 'Open Sans', verdana, arial, sans-serif; font-size: 12px; fill: rgb(42, 63, 95); fill-opacity: 1; white-space: pre; opacity: 1;\" transform=\"translate(242.44,0)\">200</text></g><g class=\"xtick\"><text text-anchor=\"middle\" x=\"0\" y=\"460\" style=\"font-family: 'Open Sans', verdana, arial, sans-serif; font-size: 12px; fill: rgb(42, 63, 95); fill-opacity: 1; white-space: pre; opacity: 1;\" transform=\"translate(419.44,0)\">400</text></g><g class=\"xtick\"><text text-anchor=\"middle\" x=\"0\" y=\"460\" style=\"font-family: 'Open Sans', verdana, arial, sans-serif; font-size: 12px; fill: rgb(42, 63, 95); fill-opacity: 1; white-space: pre; opacity: 1;\" transform=\"translate(596.44,0)\">600</text></g><g class=\"xtick\"><text text-anchor=\"middle\" x=\"0\" y=\"460\" style=\"font-family: 'Open Sans', verdana, arial, sans-serif; font-size: 12px; fill: rgb(42, 63, 95); fill-opacity: 1; white-space: pre; opacity: 1;\" transform=\"translate(773.44,0)\">800</text></g></g><g class=\"yaxislayer-above\"><g class=\"ytick\"><text text-anchor=\"end\" x=\"64\" y=\"4.199999999999999\" transform=\"translate(0,447)\" style=\"font-family: 'Open Sans', verdana, arial, sans-serif; font-size: 12px; fill: rgb(42, 63, 95); fill-opacity: 1; white-space: pre; opacity: 1;\">0</text></g><g class=\"ytick\"><text text-anchor=\"end\" x=\"64\" y=\"4.199999999999999\" style=\"font-family: 'Open Sans', verdana, arial, sans-serif; font-size: 12px; fill: rgb(42, 63, 95); fill-opacity: 1; white-space: pre; opacity: 1;\" transform=\"translate(0,391.39)\">1000</text></g><g class=\"ytick\"><text text-anchor=\"end\" x=\"64\" y=\"4.199999999999999\" style=\"font-family: 'Open Sans', verdana, arial, sans-serif; font-size: 12px; fill: rgb(42, 63, 95); fill-opacity: 1; white-space: pre; opacity: 1;\" transform=\"translate(0,335.78999999999996)\">2000</text></g><g class=\"ytick\"><text text-anchor=\"end\" x=\"64\" y=\"4.199999999999999\" style=\"font-family: 'Open Sans', verdana, arial, sans-serif; font-size: 12px; fill: rgb(42, 63, 95); fill-opacity: 1; white-space: pre; opacity: 1;\" transform=\"translate(0,280.18)\">3000</text></g><g class=\"ytick\"><text text-anchor=\"end\" x=\"64\" y=\"4.199999999999999\" style=\"font-family: 'Open Sans', verdana, arial, sans-serif; font-size: 12px; fill: rgb(42, 63, 95); fill-opacity: 1; white-space: pre; opacity: 1;\" transform=\"translate(0,224.58)\">4000</text></g><g class=\"ytick\"><text text-anchor=\"end\" x=\"64\" y=\"4.199999999999999\" style=\"font-family: 'Open Sans', verdana, arial, sans-serif; font-size: 12px; fill: rgb(42, 63, 95); fill-opacity: 1; white-space: pre; opacity: 1;\" transform=\"translate(0,168.97)\">5000</text></g><g class=\"ytick\"><text text-anchor=\"end\" x=\"64\" y=\"4.199999999999999\" style=\"font-family: 'Open Sans', verdana, arial, sans-serif; font-size: 12px; fill: rgb(42, 63, 95); fill-opacity: 1; white-space: pre; opacity: 1;\" transform=\"translate(0,113.36)\">6000</text></g></g><g class=\"overaxes-above\"/></g></g><g class=\"polarlayer\"/><g class=\"smithlayer\"/><g class=\"ternarylayer\"/><g class=\"geolayer\"/><g class=\"funnelarealayer\"/><g class=\"pielayer\"/><g class=\"iciclelayer\"/><g class=\"treemaplayer\"/><g class=\"sunburstlayer\"/><g class=\"glimages\"/><defs id=\"topdefs-6dd668\"><g class=\"clips\"/></defs><g class=\"layer-above\"><g class=\"imagelayer\"/><g class=\"shapelayer\"/></g><g class=\"infolayer\"><g class=\"g-gtitle\"><text class=\"gtitle\" x=\"310\" y=\"25\" text-anchor=\"middle\" dy=\"0.7em\" style=\"font-family: 'Times New Roman'; font-size: 26px; fill: rgb(0, 0, 0); opacity: 1; font-weight: normal; white-space: pre;\">Distribution of count of CD4 at baseline</text></g><g class=\"g-xtitle\"><text class=\"xtitle\" x=\"507.5\" y=\"487.3\" text-anchor=\"middle\" style=\"font-family: 'Open Sans', verdana, arial, sans-serif; font-size: 14px; fill: rgb(42, 63, 95); opacity: 1; font-weight: normal; white-space: pre;\">Count of CD4</text></g><g class=\"g-ytitle\" transform=\"translate(0.0029296875,0)\"><text class=\"ytitle\" transform=\"rotate(-90,12.996875000000003,263.5)\" x=\"12.996875000000003\" y=\"263.5\" text-anchor=\"middle\" style=\"font-family: 'Open Sans', verdana, arial, sans-serif; font-size: 14px; fill: rgb(42, 63, 95); opacity: 1; font-weight: normal; white-space: pre;\">Count of patients</text></g></g></svg>"
      ]
     },
     "metadata": {},
     "output_type": "display_data"
    }
   ],
   "source": [
    "palette = cl.scales['9']['seq']['Purples']\n",
    "\n",
    "fig = go.Figure(data=[go.Histogram(\n",
    "    x=df['cd40'],\n",
    "    marker=dict(color=palette[5], line=dict(color='#000000', width=0.6)),  # Use the second color from the palette\n",
    "    nbinsx=10\n",
    ")])\n",
    "\n",
    "# Update layout\n",
    "fig.update_layout(\n",
    "    title_text=\"Distribution of count of CD4\",\n",
    "    title_font_size=24,\n",
    "    title_font_family=\"Times New Roman\",\n",
    "    title_font_color=\"#000000\",\n",
    "    paper_bgcolor='#ffffff',\n",
    "    plot_bgcolor='#ffffff',\n",
    "    xaxis=dict(title=\"Count of CD4\"),\n",
    "    yaxis=dict(title=\"Count of patients\"),\n",
    ")\n",
    "\n",
    "# Set title properties\n",
    "fig.update_layout(\n",
    "    title={\n",
    "        'text': \"Distribution of count of CD4 at baseline\",\n",
    "        'y':0.95,\n",
    "        'x':0.31,\n",
    "        'xanchor': 'center',\n",
    "        'yanchor': 'top'},\n",
    "    title_font_size=26,\n",
    "    margin=dict(l=50, r=50, t=80, b=50)\n",
    ")\n",
    "\n",
    "# Set the width of the figure\n",
    "fig.update_layout(width=1000)\n",
    "\n",
    "# Show the histogram\n",
    "fig.show('svg')"
   ]
  },
  {
   "cell_type": "markdown",
   "id": "1caf15f1",
   "metadata": {
    "papermill": {
     "duration": 0.038147,
     "end_time": "2024-06-02T04:53:37.089814",
     "exception": false,
     "start_time": "2024-06-02T04:53:37.051667",
     "status": "completed"
    },
    "tags": []
   },
   "source": [
    "*Slightly positively correlated. 1500 people still have a low count(close to 200) of CD4*"
   ]
  },
  {
   "cell_type": "markdown",
   "id": "c354ab92",
   "metadata": {
    "papermill": {
     "duration": 0.036956,
     "end_time": "2024-06-02T04:53:37.164114",
     "exception": false,
     "start_time": "2024-06-02T04:53:37.127158",
     "status": "completed"
    },
    "tags": []
   },
   "source": [
    "----------------------------------------------------------------------------------------------------------------------------------------------------------\n"
   ]
  },
  {
   "cell_type": "markdown",
   "id": "d42433a2",
   "metadata": {
    "papermill": {
     "duration": 0.036991,
     "end_time": "2024-06-02T04:53:37.238469",
     "exception": false,
     "start_time": "2024-06-02T04:53:37.201478",
     "status": "completed"
    },
    "tags": []
   },
   "source": [
    "## cd420: CD4 at 20+/-5 weeks\n",
    "\n",
    "The CD4 count at 20 weeks (with a margin of +/- 5 weeks) is used to monitor how the immune system is responding to antiretroviral therapy (ART) or to track the progression of the disease\n",
    "\n",
    "An increase in CD4 count suggests that the treatment is working, leading to immune recovery. Conversely, a stable or decreasing CD4 count may signal the need to reassess the treatment regimen.\n",
    "\n",
    "- *There is a shift to the right. This shows that the treatment is working*"
   ]
  },
  {
   "cell_type": "code",
   "execution_count": 50,
   "id": "7b04fa61",
   "metadata": {
    "execution": {
     "iopub.execute_input": "2024-06-02T04:53:37.314628Z",
     "iopub.status.busy": "2024-06-02T04:53:37.314245Z",
     "iopub.status.idle": "2024-06-02T04:53:37.326284Z",
     "shell.execute_reply": "2024-06-02T04:53:37.325046Z"
    },
    "papermill": {
     "duration": 0.053226,
     "end_time": "2024-06-02T04:53:37.328957",
     "exception": false,
     "start_time": "2024-06-02T04:53:37.275731",
     "status": "completed"
    },
    "tags": []
   },
   "outputs": [
    {
     "data": {
      "text/plain": [
       "count    15000.000000\n",
       "mean       436.178600\n",
       "std        142.800481\n",
       "min        111.000000\n",
       "25%        327.000000\n",
       "50%        413.000000\n",
       "75%        527.000000\n",
       "max       1119.000000\n",
       "Name: cd420, dtype: float64"
      ]
     },
     "execution_count": 50,
     "metadata": {},
     "output_type": "execute_result"
    }
   ],
   "source": [
    "df['cd420'].describe()"
   ]
  },
  {
   "cell_type": "markdown",
   "id": "4e253687",
   "metadata": {
    "papermill": {
     "duration": 0.037525,
     "end_time": "2024-06-02T04:53:37.406950",
     "exception": false,
     "start_time": "2024-06-02T04:53:37.369425",
     "status": "completed"
    },
    "tags": []
   },
   "source": [
    "*The CD4 count has risen to 413 for half of the population which is a clear indicator of the fact that the therapy is working for at least half of the population*"
   ]
  },
  {
   "cell_type": "code",
   "execution_count": 51,
   "id": "046ea6d3",
   "metadata": {
    "execution": {
     "iopub.execute_input": "2024-06-02T04:53:37.484414Z",
     "iopub.status.busy": "2024-06-02T04:53:37.484046Z",
     "iopub.status.idle": "2024-06-02T04:53:37.722973Z",
     "shell.execute_reply": "2024-06-02T04:53:37.721711Z"
    },
    "papermill": {
     "duration": 0.280715,
     "end_time": "2024-06-02T04:53:37.725663",
     "exception": false,
     "start_time": "2024-06-02T04:53:37.444948",
     "status": "completed"
    },
    "tags": []
   },
   "outputs": [
    {
     "data": {
      "image/svg+xml": [
       "<svg class=\"main-svg\" xmlns=\"http://www.w3.org/2000/svg\" xmlns:xlink=\"http://www.w3.org/1999/xlink\" width=\"1000\" height=\"500\" style=\"\" viewBox=\"0 0 1000 500\"><rect x=\"0\" y=\"0\" width=\"1000\" height=\"500\" style=\"fill: rgb(255, 255, 255); fill-opacity: 1;\"/><defs id=\"defs-a772d2\"><g class=\"clips\"><clipPath id=\"clipa772d2xyplot\" class=\"plotclip\"><rect width=\"885\" height=\"367\"/></clipPath><clipPath class=\"axesclip\" id=\"clipa772d2x\"><rect x=\"65\" y=\"0\" width=\"885\" height=\"500\"/></clipPath><clipPath class=\"axesclip\" id=\"clipa772d2y\"><rect x=\"0\" y=\"80\" width=\"1000\" height=\"367\"/></clipPath><clipPath class=\"axesclip\" id=\"clipa772d2xy\"><rect x=\"65\" y=\"80\" width=\"885\" height=\"367\"/></clipPath></g><g class=\"gradients\"/><g class=\"patterns\"/></defs><g class=\"bglayer\"/><g class=\"layer-below\"><g class=\"imagelayer\"/><g class=\"shapelayer\"/></g><g class=\"cartesianlayer\"><g class=\"subplot xy\"><g class=\"layer-subplot\"><g class=\"shapelayer\"/><g class=\"imagelayer\"/></g><g class=\"minor-gridlayer\"><g class=\"x\"/><g class=\"y\"/></g><g class=\"gridlayer\"><g class=\"x\"/><g class=\"y\"><path class=\"ygrid crisp\" transform=\"translate(0,395.78)\" d=\"M65,0h885\" style=\"stroke: rgb(255, 255, 255); stroke-opacity: 1; stroke-width: 1px;\"/><path class=\"ygrid crisp\" transform=\"translate(0,344.56)\" d=\"M65,0h885\" style=\"stroke: rgb(255, 255, 255); stroke-opacity: 1; stroke-width: 1px;\"/><path class=\"ygrid crisp\" transform=\"translate(0,293.34000000000003)\" d=\"M65,0h885\" style=\"stroke: rgb(255, 255, 255); stroke-opacity: 1; stroke-width: 1px;\"/><path class=\"ygrid crisp\" transform=\"translate(0,242.12)\" d=\"M65,0h885\" style=\"stroke: rgb(255, 255, 255); stroke-opacity: 1; stroke-width: 1px;\"/><path class=\"ygrid crisp\" transform=\"translate(0,190.9)\" d=\"M65,0h885\" style=\"stroke: rgb(255, 255, 255); stroke-opacity: 1; stroke-width: 1px;\"/><path class=\"ygrid crisp\" transform=\"translate(0,139.68)\" d=\"M65,0h885\" style=\"stroke: rgb(255, 255, 255); stroke-opacity: 1; stroke-width: 1px;\"/><path class=\"ygrid crisp\" transform=\"translate(0,88.46000000000001)\" d=\"M65,0h885\" style=\"stroke: rgb(255, 255, 255); stroke-opacity: 1; stroke-width: 1px;\"/></g></g><g class=\"zerolinelayer\"><path class=\"yzl zl crisp\" transform=\"translate(0,447)\" d=\"M65,0h885\" style=\"stroke: rgb(255, 255, 255); stroke-opacity: 1; stroke-width: 2px;\"/></g><path class=\"xlines-below\"/><path class=\"ylines-below\"/><g class=\"overlines-below\"/><g class=\"xaxislayer-below\"/><g class=\"yaxislayer-below\"/><g class=\"overaxes-below\"/><g class=\"plot\" transform=\"translate(65,80)\" clip-path=\"url(#clipa772d2xyplot)\"><g class=\"barlayer mlayer\"><g class=\"trace bars\" shape-rendering=\"crispEdges\" style=\"opacity: 1;\"><g class=\"points\"><g class=\"point\"><path d=\"M0,367V356.96H147.5V367Z\" style=\"vector-effect: none; opacity: 1; stroke-width: 0px; fill: rgb(54, 144, 192); fill-opacity: 1;\"/></g><g class=\"point\"><path d=\"M147.5,367V18.35H295V367Z\" style=\"vector-effect: none; opacity: 1; stroke-width: 0px; fill: rgb(54, 144, 192); fill-opacity: 1;\"/></g><g class=\"point\"><path d=\"M295,367V65.37H442.5V367Z\" style=\"vector-effect: none; opacity: 1; stroke-width: 0px; fill: rgb(54, 144, 192); fill-opacity: 1;\"/></g><g class=\"point\"><path d=\"M442.5,367V269.02H590V367Z\" style=\"vector-effect: none; opacity: 1; stroke-width: 0px; fill: rgb(54, 144, 192); fill-opacity: 1;\"/></g><g class=\"point\"><path d=\"M590,367V357.63H737.5V367Z\" style=\"vector-effect: none; opacity: 1; stroke-width: 0px; fill: rgb(54, 144, 192); fill-opacity: 1;\"/></g><g class=\"point\"><path d=\"M737.5,367V366.39H885V367Z\" style=\"vector-effect: none; opacity: 1; stroke-width: 0px; fill: rgb(54, 144, 192); fill-opacity: 1;\"/></g></g></g></g></g><g class=\"overplot\"/><path class=\"xlines-above crisp\" d=\"M0,0\" style=\"fill: none;\"/><path class=\"ylines-above crisp\" d=\"M0,0\" style=\"fill: none;\"/><g class=\"overlines-above\"/><g class=\"xaxislayer-above\"><g class=\"xtick\"><text text-anchor=\"middle\" x=\"0\" y=\"460\" transform=\"translate(65.37,0)\" style=\"font-family: 'Open Sans', verdana, arial, sans-serif; font-size: 12px; fill: rgb(42, 63, 95); fill-opacity: 1; white-space: pre; opacity: 1;\">0</text></g><g class=\"xtick\"><text text-anchor=\"middle\" x=\"0\" y=\"460\" style=\"font-family: 'Open Sans', verdana, arial, sans-serif; font-size: 12px; fill: rgb(42, 63, 95); fill-opacity: 1; white-space: pre; opacity: 1;\" transform=\"translate(212.87,0)\">200</text></g><g class=\"xtick\"><text text-anchor=\"middle\" x=\"0\" y=\"460\" style=\"font-family: 'Open Sans', verdana, arial, sans-serif; font-size: 12px; fill: rgb(42, 63, 95); fill-opacity: 1; white-space: pre; opacity: 1;\" transform=\"translate(360.37,0)\">400</text></g><g class=\"xtick\"><text text-anchor=\"middle\" x=\"0\" y=\"460\" style=\"font-family: 'Open Sans', verdana, arial, sans-serif; font-size: 12px; fill: rgb(42, 63, 95); fill-opacity: 1; white-space: pre; opacity: 1;\" transform=\"translate(507.87,0)\">600</text></g><g class=\"xtick\"><text text-anchor=\"middle\" x=\"0\" y=\"460\" style=\"font-family: 'Open Sans', verdana, arial, sans-serif; font-size: 12px; fill: rgb(42, 63, 95); fill-opacity: 1; white-space: pre; opacity: 1;\" transform=\"translate(655.37,0)\">800</text></g><g class=\"xtick\"><text text-anchor=\"middle\" x=\"0\" y=\"460\" style=\"font-family: 'Open Sans', verdana, arial, sans-serif; font-size: 12px; fill: rgb(42, 63, 95); fill-opacity: 1; white-space: pre; opacity: 1;\" transform=\"translate(802.87,0)\">1000</text></g></g><g class=\"yaxislayer-above\"><g class=\"ytick\"><text text-anchor=\"end\" x=\"64\" y=\"4.199999999999999\" transform=\"translate(0,447)\" style=\"font-family: 'Open Sans', verdana, arial, sans-serif; font-size: 12px; fill: rgb(42, 63, 95); fill-opacity: 1; white-space: pre; opacity: 1;\">0</text></g><g class=\"ytick\"><text text-anchor=\"end\" x=\"64\" y=\"4.199999999999999\" style=\"font-family: 'Open Sans', verdana, arial, sans-serif; font-size: 12px; fill: rgb(42, 63, 95); fill-opacity: 1; white-space: pre; opacity: 1;\" transform=\"translate(0,395.78)\">1000</text></g><g class=\"ytick\"><text text-anchor=\"end\" x=\"64\" y=\"4.199999999999999\" style=\"font-family: 'Open Sans', verdana, arial, sans-serif; font-size: 12px; fill: rgb(42, 63, 95); fill-opacity: 1; white-space: pre; opacity: 1;\" transform=\"translate(0,344.56)\">2000</text></g><g class=\"ytick\"><text text-anchor=\"end\" x=\"64\" y=\"4.199999999999999\" style=\"font-family: 'Open Sans', verdana, arial, sans-serif; font-size: 12px; fill: rgb(42, 63, 95); fill-opacity: 1; white-space: pre; opacity: 1;\" transform=\"translate(0,293.34000000000003)\">3000</text></g><g class=\"ytick\"><text text-anchor=\"end\" x=\"64\" y=\"4.199999999999999\" style=\"font-family: 'Open Sans', verdana, arial, sans-serif; font-size: 12px; fill: rgb(42, 63, 95); fill-opacity: 1; white-space: pre; opacity: 1;\" transform=\"translate(0,242.12)\">4000</text></g><g class=\"ytick\"><text text-anchor=\"end\" x=\"64\" y=\"4.199999999999999\" style=\"font-family: 'Open Sans', verdana, arial, sans-serif; font-size: 12px; fill: rgb(42, 63, 95); fill-opacity: 1; white-space: pre; opacity: 1;\" transform=\"translate(0,190.9)\">5000</text></g><g class=\"ytick\"><text text-anchor=\"end\" x=\"64\" y=\"4.199999999999999\" style=\"font-family: 'Open Sans', verdana, arial, sans-serif; font-size: 12px; fill: rgb(42, 63, 95); fill-opacity: 1; white-space: pre; opacity: 1;\" transform=\"translate(0,139.68)\">6000</text></g><g class=\"ytick\"><text text-anchor=\"end\" x=\"64\" y=\"4.199999999999999\" style=\"font-family: 'Open Sans', verdana, arial, sans-serif; font-size: 12px; fill: rgb(42, 63, 95); fill-opacity: 1; white-space: pre; opacity: 1;\" transform=\"translate(0,88.46000000000001)\">7000</text></g></g><g class=\"overaxes-above\"/></g></g><g class=\"polarlayer\"/><g class=\"smithlayer\"/><g class=\"ternarylayer\"/><g class=\"geolayer\"/><g class=\"funnelarealayer\"/><g class=\"pielayer\"/><g class=\"iciclelayer\"/><g class=\"treemaplayer\"/><g class=\"sunburstlayer\"/><g class=\"glimages\"/><defs id=\"topdefs-a772d2\"><g class=\"clips\"/></defs><g class=\"layer-above\"><g class=\"imagelayer\"/><g class=\"shapelayer\"/></g><g class=\"infolayer\"><g class=\"g-gtitle\"><text class=\"gtitle\" x=\"310\" y=\"25\" text-anchor=\"middle\" dy=\"0.7em\" style=\"font-family: 'Times New Roman'; font-size: 26px; fill: rgb(0, 0, 0); opacity: 1; font-weight: normal; white-space: pre;\">Distribution of count of CD4 at 20 weeks</text></g><g class=\"g-xtitle\"><text class=\"xtitle\" x=\"507.5\" y=\"487.3\" text-anchor=\"middle\" style=\"font-family: 'Open Sans', verdana, arial, sans-serif; font-size: 14px; fill: rgb(42, 63, 95); opacity: 1; font-weight: normal; white-space: pre;\">Count of CD4 after treatment</text></g><g class=\"g-ytitle\" transform=\"translate(0.0029296875,0)\"><text class=\"ytitle\" transform=\"rotate(-90,12.996875000000003,263.5)\" x=\"12.996875000000003\" y=\"263.5\" text-anchor=\"middle\" style=\"font-family: 'Open Sans', verdana, arial, sans-serif; font-size: 14px; fill: rgb(42, 63, 95); opacity: 1; font-weight: normal; white-space: pre;\">Count of Patients</text></g></g></svg>"
      ]
     },
     "metadata": {},
     "output_type": "display_data"
    }
   ],
   "source": [
    "palette = cl.scales['9']['seq']['PuBu']\n",
    "\n",
    "fig = go.Figure(data=[go.Histogram(\n",
    "    x=df['cd420'],\n",
    "    marker=dict(color=palette[5]),  # Use the second color from the palette\n",
    "    nbinsx=10\n",
    ")])\n",
    "\n",
    "# Update layout\n",
    "fig.update_layout(\n",
    "    title_text=\"Distribution of count of CD4\",\n",
    "    title_font_size=24,\n",
    "    title_font_family=\"Times New Roman\",\n",
    "    title_font_color=\"#000000\",\n",
    "    paper_bgcolor='#ffffff',\n",
    "    plot_bgcolor='#ffffff',\n",
    "    xaxis=dict(title=\"Count of CD4 after treatment\"),\n",
    "    yaxis=dict(title=\"Count of Patients\"),\n",
    ")\n",
    "\n",
    "# Set title properties\n",
    "fig.update_layout(\n",
    "    title={\n",
    "        'text': \"Distribution of count of CD4 at 20 weeks\",\n",
    "        'y':0.95,\n",
    "        'x':0.31,\n",
    "        'xanchor': 'center',\n",
    "        'yanchor': 'top'},\n",
    "    title_font_size=26,\n",
    "    margin=dict(l=50, r=50, t=80, b=50)\n",
    ")\n",
    "\n",
    "# Set the width of the figure\n",
    "fig.update_layout(width=1000)\n",
    "\n",
    "# Show the histogram\n",
    "fig.show('svg')"
   ]
  },
  {
   "cell_type": "markdown",
   "id": "9383bbd8",
   "metadata": {
    "papermill": {
     "duration": 0.037998,
     "end_time": "2024-06-02T04:53:37.802436",
     "exception": false,
     "start_time": "2024-06-02T04:53:37.764438",
     "status": "completed"
    },
    "tags": []
   },
   "source": [
    "*There is a slight shift towards the right. Now very few people have a low count of CD4*"
   ]
  },
  {
   "cell_type": "markdown",
   "id": "360e1a27",
   "metadata": {
    "papermill": {
     "duration": 0.03792,
     "end_time": "2024-06-02T04:53:37.878398",
     "exception": false,
     "start_time": "2024-06-02T04:53:37.840478",
     "status": "completed"
    },
    "tags": []
   },
   "source": [
    "----------------------------------------------------------------------------------------------------------------------------------------------------------\n"
   ]
  },
  {
   "cell_type": "markdown",
   "id": "65bc980f",
   "metadata": {
    "papermill": {
     "duration": 0.038013,
     "end_time": "2024-06-02T04:53:37.954524",
     "exception": false,
     "start_time": "2024-06-02T04:53:37.916511",
     "status": "completed"
    },
    "tags": []
   },
   "source": [
    "## cd80: CD8 at baseline\n",
    "\n",
    "CD8 cells, also known as CD8+ T cells or cytotoxic T cells, are a type of white blood cell that plays a critical role in the immune system by directly killing infected cells, including those infected with viruses like HIV.\n",
    "\n",
    "The CD8 count at baseline provides a snapshot of the patient's immune response at the time of initial measurement. In HIV-infected individuals, CD8+ T cells are crucial for controlling the infection by killing HIV-infected cells.\n",
    "\n",
    "Typically, HIV infection leads to an increase in CD8+ T cells as the immune system attempts to fight the virus.\n",
    "\n",
    "`The CD4/CD8 ratio is an important metric in HIV/AIDS. Normally, the ratio is greater than 1, meaning there are more CD4 cells than CD8 cells.  In HIV infection, this ratio often decreases due to the decline in CD4 cells and the increase in CD8 cells.`\n",
    "\n",
    "\n",
    "***Conclusion***\n",
    "\n",
    "- *Half of the population has a high count of CD8 cells which means that their immune system is quite active*"
   ]
  },
  {
   "cell_type": "code",
   "execution_count": 52,
   "id": "34849d4a",
   "metadata": {
    "execution": {
     "iopub.execute_input": "2024-06-02T04:53:38.032455Z",
     "iopub.status.busy": "2024-06-02T04:53:38.032011Z",
     "iopub.status.idle": "2024-06-02T04:53:38.044252Z",
     "shell.execute_reply": "2024-06-02T04:53:38.043402Z"
    },
    "papermill": {
     "duration": 0.053804,
     "end_time": "2024-06-02T04:53:38.046461",
     "exception": false,
     "start_time": "2024-06-02T04:53:37.992657",
     "status": "completed"
    },
    "tags": []
   },
   "outputs": [
    {
     "data": {
      "text/plain": [
       "count    15000.000000\n",
       "mean      1049.644400\n",
       "std        489.881489\n",
       "min        273.000000\n",
       "25%        716.000000\n",
       "50%        887.000000\n",
       "75%       1252.250000\n",
       "max       4867.000000\n",
       "Name: cd80, dtype: float64"
      ]
     },
     "execution_count": 52,
     "metadata": {},
     "output_type": "execute_result"
    }
   ],
   "source": [
    "df['cd80'].describe()"
   ]
  },
  {
   "cell_type": "markdown",
   "id": "b5051bf0",
   "metadata": {
    "papermill": {
     "duration": 0.037803,
     "end_time": "2024-06-02T04:53:38.122717",
     "exception": false,
     "start_time": "2024-06-02T04:53:38.084914",
     "status": "completed"
    },
    "tags": []
   },
   "source": [
    "*A median CD8 count of 887 suggests that many individuals in the study or clinical population have CD8 levels within or above the normal range, indicating an active immune response.*"
   ]
  },
  {
   "cell_type": "code",
   "execution_count": 53,
   "id": "1dd71d90",
   "metadata": {
    "execution": {
     "iopub.execute_input": "2024-06-02T04:53:38.200955Z",
     "iopub.status.busy": "2024-06-02T04:53:38.200200Z",
     "iopub.status.idle": "2024-06-02T04:53:38.322148Z",
     "shell.execute_reply": "2024-06-02T04:53:38.321186Z"
    },
    "papermill": {
     "duration": 0.163949,
     "end_time": "2024-06-02T04:53:38.324542",
     "exception": false,
     "start_time": "2024-06-02T04:53:38.160593",
     "status": "completed"
    },
    "tags": []
   },
   "outputs": [
    {
     "data": {
      "image/svg+xml": [
       "<svg class=\"main-svg\" xmlns=\"http://www.w3.org/2000/svg\" xmlns:xlink=\"http://www.w3.org/1999/xlink\" width=\"1000\" height=\"500\" style=\"\" viewBox=\"0 0 1000 500\"><rect x=\"0\" y=\"0\" width=\"1000\" height=\"500\" style=\"fill: rgb(255, 255, 255); fill-opacity: 1;\"/><defs id=\"defs-41b25e\"><g class=\"clips\"><clipPath id=\"clip41b25exyplot\" class=\"plotclip\"><rect width=\"885\" height=\"367\"/></clipPath><clipPath class=\"axesclip\" id=\"clip41b25ex\"><rect x=\"65\" y=\"0\" width=\"885\" height=\"500\"/></clipPath><clipPath class=\"axesclip\" id=\"clip41b25ey\"><rect x=\"0\" y=\"80\" width=\"1000\" height=\"367\"/></clipPath><clipPath class=\"axesclip\" id=\"clip41b25exy\"><rect x=\"65\" y=\"80\" width=\"885\" height=\"367\"/></clipPath></g><g class=\"gradients\"/><g class=\"patterns\"/></defs><g class=\"bglayer\"/><g class=\"layer-below\"><g class=\"imagelayer\"/><g class=\"shapelayer\"/></g><g class=\"cartesianlayer\"><g class=\"subplot xy\"><g class=\"layer-subplot\"><g class=\"shapelayer\"/><g class=\"imagelayer\"/></g><g class=\"minor-gridlayer\"><g class=\"x\"/><g class=\"y\"/></g><g class=\"gridlayer\"><g class=\"x\"/><g class=\"y\"><path class=\"ygrid crisp\" transform=\"translate(0,406.76)\" d=\"M65,0h885\" style=\"stroke: rgb(255, 255, 255); stroke-opacity: 1; stroke-width: 1px;\"/><path class=\"ygrid crisp\" transform=\"translate(0,366.52)\" d=\"M65,0h885\" style=\"stroke: rgb(255, 255, 255); stroke-opacity: 1; stroke-width: 1px;\"/><path class=\"ygrid crisp\" transform=\"translate(0,326.28)\" d=\"M65,0h885\" style=\"stroke: rgb(255, 255, 255); stroke-opacity: 1; stroke-width: 1px;\"/><path class=\"ygrid crisp\" transform=\"translate(0,286.03999999999996)\" d=\"M65,0h885\" style=\"stroke: rgb(255, 255, 255); stroke-opacity: 1; stroke-width: 1px;\"/><path class=\"ygrid crisp\" transform=\"translate(0,245.79)\" d=\"M65,0h885\" style=\"stroke: rgb(255, 255, 255); stroke-opacity: 1; stroke-width: 1px;\"/><path class=\"ygrid crisp\" transform=\"translate(0,205.55)\" d=\"M65,0h885\" style=\"stroke: rgb(255, 255, 255); stroke-opacity: 1; stroke-width: 1px;\"/><path class=\"ygrid crisp\" transform=\"translate(0,165.31)\" d=\"M65,0h885\" style=\"stroke: rgb(255, 255, 255); stroke-opacity: 1; stroke-width: 1px;\"/><path class=\"ygrid crisp\" transform=\"translate(0,125.07)\" d=\"M65,0h885\" style=\"stroke: rgb(255, 255, 255); stroke-opacity: 1; stroke-width: 1px;\"/><path class=\"ygrid crisp\" transform=\"translate(0,84.83)\" d=\"M65,0h885\" style=\"stroke: rgb(255, 255, 255); stroke-opacity: 1; stroke-width: 1px;\"/></g></g><g class=\"zerolinelayer\"><path class=\"yzl zl crisp\" transform=\"translate(0,447)\" d=\"M65,0h885\" style=\"stroke: rgb(255, 255, 255); stroke-opacity: 1; stroke-width: 2px;\"/></g><path class=\"xlines-below\"/><path class=\"ylines-below\"/><g class=\"overlines-below\"/><g class=\"xaxislayer-below\"/><g class=\"yaxislayer-below\"/><g class=\"overaxes-below\"/><g class=\"plot\" transform=\"translate(65,80)\" clip-path=\"url(#clip41b25exyplot)\"><g class=\"barlayer mlayer\"><g class=\"trace bars\" shape-rendering=\"crispEdges\" style=\"opacity: 1;\"><g class=\"points\"><g class=\"point\"><path d=\"M0,367V351.75H88.5V367Z\" style=\"vector-effect: none; opacity: 1; stroke-width: 0px; fill: rgb(2, 56, 88); fill-opacity: 1;\"/></g><g class=\"point\"><path d=\"M88.5,367V18.35H177V367Z\" style=\"vector-effect: none; opacity: 1; stroke-width: 0px; fill: rgb(2, 56, 88); fill-opacity: 1;\"/></g><g class=\"point\"><path d=\"M177,367V223.22H265.5V367Z\" style=\"vector-effect: none; opacity: 1; stroke-width: 0px; fill: rgb(2, 56, 88); fill-opacity: 1;\"/></g><g class=\"point\"><path d=\"M265.5,367V306.16H354V367Z\" style=\"vector-effect: none; opacity: 1; stroke-width: 0px; fill: rgb(2, 56, 88); fill-opacity: 1;\"/></g><g class=\"point\"><path d=\"M354,367V343.98H442.5V367Z\" style=\"vector-effect: none; opacity: 1; stroke-width: 0px; fill: rgb(2, 56, 88); fill-opacity: 1;\"/></g><g class=\"point\"><path d=\"M442.5,367V356.86H531V367Z\" style=\"vector-effect: none; opacity: 1; stroke-width: 0px; fill: rgb(2, 56, 88); fill-opacity: 1;\"/></g><g class=\"point\"><path d=\"M531,367V365.67H619.5V367Z\" style=\"vector-effect: none; opacity: 1; stroke-width: 0px; fill: rgb(2, 56, 88); fill-opacity: 1;\"/></g><g class=\"point\"><path d=\"M619.5,367V366.6H708V367Z\" style=\"vector-effect: none; opacity: 1; stroke-width: 0px; fill: rgb(2, 56, 88); fill-opacity: 1;\"/></g><g class=\"point\"><path d=\"M708,367V366.88H796.5V367Z\" style=\"vector-effect: none; opacity: 1; stroke-width: 0px; fill: rgb(2, 56, 88); fill-opacity: 1;\"/></g><g class=\"point\"><path d=\"M796.5,367V366.92H885V367Z\" style=\"vector-effect: none; opacity: 1; stroke-width: 0px; fill: rgb(2, 56, 88); fill-opacity: 1;\"/></g></g></g></g></g><g class=\"overplot\"/><path class=\"xlines-above crisp\" d=\"M0,0\" style=\"fill: none;\"/><path class=\"ylines-above crisp\" d=\"M0,0\" style=\"fill: none;\"/><g class=\"overlines-above\"/><g class=\"xaxislayer-above\"><g class=\"xtick\"><text text-anchor=\"middle\" x=\"0\" y=\"460\" transform=\"translate(65.09,0)\" style=\"font-family: 'Open Sans', verdana, arial, sans-serif; font-size: 12px; fill: rgb(42, 63, 95); fill-opacity: 1; white-space: pre; opacity: 1;\">0</text></g><g class=\"xtick\"><text text-anchor=\"middle\" x=\"0\" y=\"460\" style=\"font-family: 'Open Sans', verdana, arial, sans-serif; font-size: 12px; fill: rgb(42, 63, 95); fill-opacity: 1; white-space: pre; opacity: 1;\" transform=\"translate(242.09,0)\">1000</text></g><g class=\"xtick\"><text text-anchor=\"middle\" x=\"0\" y=\"460\" style=\"font-family: 'Open Sans', verdana, arial, sans-serif; font-size: 12px; fill: rgb(42, 63, 95); fill-opacity: 1; white-space: pre; opacity: 1;\" transform=\"translate(419.09,0)\">2000</text></g><g class=\"xtick\"><text text-anchor=\"middle\" x=\"0\" y=\"460\" style=\"font-family: 'Open Sans', verdana, arial, sans-serif; font-size: 12px; fill: rgb(42, 63, 95); fill-opacity: 1; white-space: pre; opacity: 1;\" transform=\"translate(596.09,0)\">3000</text></g><g class=\"xtick\"><text text-anchor=\"middle\" x=\"0\" y=\"460\" style=\"font-family: 'Open Sans', verdana, arial, sans-serif; font-size: 12px; fill: rgb(42, 63, 95); fill-opacity: 1; white-space: pre; opacity: 1;\" transform=\"translate(773.09,0)\">4000</text></g><g class=\"xtick\"><text text-anchor=\"middle\" x=\"0\" y=\"460\" style=\"font-family: 'Open Sans', verdana, arial, sans-serif; font-size: 12px; fill: rgb(42, 63, 95); fill-opacity: 1; white-space: pre; opacity: 1;\" transform=\"translate(950.09,0)\">5000</text></g></g><g class=\"yaxislayer-above\"><g class=\"ytick\"><text text-anchor=\"end\" x=\"64\" y=\"4.199999999999999\" transform=\"translate(0,447)\" style=\"font-family: 'Open Sans', verdana, arial, sans-serif; font-size: 12px; fill: rgb(42, 63, 95); fill-opacity: 1; white-space: pre; opacity: 1;\">0</text></g><g class=\"ytick\"><text text-anchor=\"end\" x=\"64\" y=\"4.199999999999999\" style=\"font-family: 'Open Sans', verdana, arial, sans-serif; font-size: 12px; fill: rgb(42, 63, 95); fill-opacity: 1; white-space: pre; opacity: 1;\" transform=\"translate(0,406.76)\">1000</text></g><g class=\"ytick\"><text text-anchor=\"end\" x=\"64\" y=\"4.199999999999999\" style=\"font-family: 'Open Sans', verdana, arial, sans-serif; font-size: 12px; fill: rgb(42, 63, 95); fill-opacity: 1; white-space: pre; opacity: 1;\" transform=\"translate(0,366.52)\">2000</text></g><g class=\"ytick\"><text text-anchor=\"end\" x=\"64\" y=\"4.199999999999999\" style=\"font-family: 'Open Sans', verdana, arial, sans-serif; font-size: 12px; fill: rgb(42, 63, 95); fill-opacity: 1; white-space: pre; opacity: 1;\" transform=\"translate(0,326.28)\">3000</text></g><g class=\"ytick\"><text text-anchor=\"end\" x=\"64\" y=\"4.199999999999999\" style=\"font-family: 'Open Sans', verdana, arial, sans-serif; font-size: 12px; fill: rgb(42, 63, 95); fill-opacity: 1; white-space: pre; opacity: 1;\" transform=\"translate(0,286.03999999999996)\">4000</text></g><g class=\"ytick\"><text text-anchor=\"end\" x=\"64\" y=\"4.199999999999999\" style=\"font-family: 'Open Sans', verdana, arial, sans-serif; font-size: 12px; fill: rgb(42, 63, 95); fill-opacity: 1; white-space: pre; opacity: 1;\" transform=\"translate(0,245.79)\">5000</text></g><g class=\"ytick\"><text text-anchor=\"end\" x=\"64\" y=\"4.199999999999999\" style=\"font-family: 'Open Sans', verdana, arial, sans-serif; font-size: 12px; fill: rgb(42, 63, 95); fill-opacity: 1; white-space: pre; opacity: 1;\" transform=\"translate(0,205.55)\">6000</text></g><g class=\"ytick\"><text text-anchor=\"end\" x=\"64\" y=\"4.199999999999999\" style=\"font-family: 'Open Sans', verdana, arial, sans-serif; font-size: 12px; fill: rgb(42, 63, 95); fill-opacity: 1; white-space: pre; opacity: 1;\" transform=\"translate(0,165.31)\">7000</text></g><g class=\"ytick\"><text text-anchor=\"end\" x=\"64\" y=\"4.199999999999999\" style=\"font-family: 'Open Sans', verdana, arial, sans-serif; font-size: 12px; fill: rgb(42, 63, 95); fill-opacity: 1; white-space: pre; opacity: 1;\" transform=\"translate(0,125.07)\">8000</text></g><g class=\"ytick\"><text text-anchor=\"end\" x=\"64\" y=\"4.199999999999999\" style=\"font-family: 'Open Sans', verdana, arial, sans-serif; font-size: 12px; fill: rgb(42, 63, 95); fill-opacity: 1; white-space: pre; opacity: 1;\" transform=\"translate(0,84.83)\">9000</text></g></g><g class=\"overaxes-above\"/></g></g><g class=\"polarlayer\"/><g class=\"smithlayer\"/><g class=\"ternarylayer\"/><g class=\"geolayer\"/><g class=\"funnelarealayer\"/><g class=\"pielayer\"/><g class=\"iciclelayer\"/><g class=\"treemaplayer\"/><g class=\"sunburstlayer\"/><g class=\"glimages\"/><defs id=\"topdefs-41b25e\"><g class=\"clips\"/></defs><g class=\"layer-above\"><g class=\"imagelayer\"/><g class=\"shapelayer\"/></g><g class=\"infolayer\"><g class=\"g-gtitle\"><text class=\"gtitle\" x=\"310\" y=\"25\" text-anchor=\"middle\" dy=\"0.7em\" style=\"font-family: 'Times New Roman'; font-size: 26px; fill: rgb(0, 0, 0); opacity: 1; font-weight: normal; white-space: pre;\">Distribution of count of CD8 at baseline</text></g><g class=\"g-xtitle\"><text class=\"xtitle\" x=\"507.5\" y=\"487.3\" text-anchor=\"middle\" style=\"font-family: 'Open Sans', verdana, arial, sans-serif; font-size: 14px; fill: rgb(42, 63, 95); opacity: 1; font-weight: normal; white-space: pre;\">Count of CD8 at baseline</text></g><g class=\"g-ytitle\" transform=\"translate(0.0029296875,0)\"><text class=\"ytitle\" transform=\"rotate(-90,12.996875000000003,263.5)\" x=\"12.996875000000003\" y=\"263.5\" text-anchor=\"middle\" style=\"font-family: 'Open Sans', verdana, arial, sans-serif; font-size: 14px; fill: rgb(42, 63, 95); opacity: 1; font-weight: normal; white-space: pre;\">Count of patients</text></g></g></svg>"
      ]
     },
     "metadata": {},
     "output_type": "display_data"
    }
   ],
   "source": [
    "palette = cl.scales['9']['seq']['PuBu']\n",
    "\n",
    "fig = go.Figure(data=[go.Histogram(\n",
    "    x=df['cd80'],\n",
    "    marker=dict(color=palette[8]),  # Use the second color from the palette\n",
    "    nbinsx=10\n",
    ")])\n",
    "\n",
    "# Update layout\n",
    "fig.update_layout(\n",
    "    title_text=\"Distribution of count of CD4\",\n",
    "    title_font_size=24,\n",
    "    title_font_family=\"Times New Roman\",\n",
    "    title_font_color=\"#000000\",\n",
    "    paper_bgcolor='#ffffff',\n",
    "    plot_bgcolor='#ffffff',\n",
    "    xaxis=dict(title=\"Count of CD8 at baseline\"),\n",
    "    yaxis=dict(title=\"Count of patients\"),\n",
    ")\n",
    "\n",
    "# Set title properties\n",
    "fig.update_layout(\n",
    "    title={\n",
    "        'text': \"Distribution of count of CD8 at baseline\",\n",
    "        'y':0.95,\n",
    "        'x':0.31,\n",
    "        'xanchor': 'center',\n",
    "        'yanchor': 'top'},\n",
    "    title_font_size=26,\n",
    "    margin=dict(l=50, r=50, t=80, b=50)\n",
    ")\n",
    "\n",
    "# Set the width of the figure\n",
    "fig.update_layout(width=1000)\n",
    "\n",
    "# Show the histogram\n",
    "fig.show('svg')"
   ]
  },
  {
   "cell_type": "markdown",
   "id": "200e56f7",
   "metadata": {
    "papermill": {
     "duration": 0.044185,
     "end_time": "2024-06-02T04:53:38.406849",
     "exception": false,
     "start_time": "2024-06-02T04:53:38.362664",
     "status": "completed"
    },
    "tags": []
   },
   "source": [
    "*High positive skewness*"
   ]
  },
  {
   "cell_type": "markdown",
   "id": "9fc9b2cb",
   "metadata": {
    "papermill": {
     "duration": 0.042748,
     "end_time": "2024-06-02T04:53:38.499555",
     "exception": false,
     "start_time": "2024-06-02T04:53:38.456807",
     "status": "completed"
    },
    "tags": []
   },
   "source": [
    "----------------------------------------------------------------------------------------------------------------------------------------------------------\n"
   ]
  },
  {
   "cell_type": "markdown",
   "id": "48bb71f4",
   "metadata": {
    "papermill": {
     "duration": 0.039892,
     "end_time": "2024-06-02T04:53:38.579403",
     "exception": false,
     "start_time": "2024-06-02T04:53:38.539511",
     "status": "completed"
    },
    "tags": []
   },
   "source": [
    "## cd820: CD8 at 20+/-5 weeks\n",
    "\n",
    "the variable \"cd820\" represents the CD8 count measured at approximately 20 weeks (with a margin of +/- 5 weeks) after a baseline or initial measurement.\n",
    "\n",
    "The CD8 count at 20 weeks (with a margin of +/- 5 weeks) is used to monitor how the immune system is responding to antiretroviral therapy (ART) or to track the progression of the disease.\n",
    "\n",
    "Changes in the CD8 count from baseline to around 20 weeks can indicate the effectiveness of ART. An increase or stable CD8 count might suggest that the immune system is responding well to treatment, whereas a decrease could indicate potential issues with the effectiveness of the treatment.\n",
    "\n",
    "***Conclusion***\n",
    "\n",
    "- *A decrease in CD8 count can indicate effective antiretroviral therapy (ART).*"
   ]
  },
  {
   "cell_type": "code",
   "execution_count": 54,
   "id": "cf686fb7",
   "metadata": {
    "execution": {
     "iopub.execute_input": "2024-06-02T04:53:38.660873Z",
     "iopub.status.busy": "2024-06-02T04:53:38.659561Z",
     "iopub.status.idle": "2024-06-02T04:53:38.671013Z",
     "shell.execute_reply": "2024-06-02T04:53:38.670124Z"
    },
    "papermill": {
     "duration": 0.052986,
     "end_time": "2024-06-02T04:53:38.673153",
     "exception": false,
     "start_time": "2024-06-02T04:53:38.620167",
     "status": "completed"
    },
    "tags": []
   },
   "outputs": [
    {
     "data": {
      "text/plain": [
       "count    15000.000000\n",
       "mean       908.306867\n",
       "std        337.759073\n",
       "min        143.000000\n",
       "25%        652.000000\n",
       "50%        858.000000\n",
       "75%       1087.250000\n",
       "max       3253.000000\n",
       "Name: cd820, dtype: float64"
      ]
     },
     "execution_count": 54,
     "metadata": {},
     "output_type": "execute_result"
    }
   ],
   "source": [
    "df['cd820'].describe()"
   ]
  },
  {
   "cell_type": "markdown",
   "id": "0f5b5d81",
   "metadata": {
    "papermill": {
     "duration": 0.038662,
     "end_time": "2024-06-02T04:53:38.751504",
     "exception": false,
     "start_time": "2024-06-02T04:53:38.712842",
     "status": "completed"
    },
    "tags": []
   },
   "source": [
    "*There is a decrease in the median and mean count as compared to the baseline count which is a good sign*"
   ]
  },
  {
   "cell_type": "code",
   "execution_count": 55,
   "id": "881be3f4",
   "metadata": {
    "execution": {
     "iopub.execute_input": "2024-06-02T04:53:38.830939Z",
     "iopub.status.busy": "2024-06-02T04:53:38.830187Z",
     "iopub.status.idle": "2024-06-02T04:53:38.942758Z",
     "shell.execute_reply": "2024-06-02T04:53:38.941630Z"
    },
    "papermill": {
     "duration": 0.154857,
     "end_time": "2024-06-02T04:53:38.945040",
     "exception": false,
     "start_time": "2024-06-02T04:53:38.790183",
     "status": "completed"
    },
    "tags": []
   },
   "outputs": [
    {
     "data": {
      "image/svg+xml": [
       "<svg class=\"main-svg\" xmlns=\"http://www.w3.org/2000/svg\" xmlns:xlink=\"http://www.w3.org/1999/xlink\" width=\"1000\" height=\"500\" style=\"\" viewBox=\"0 0 1000 500\"><rect x=\"0\" y=\"0\" width=\"1000\" height=\"500\" style=\"fill: rgb(255, 255, 255); fill-opacity: 1;\"/><defs id=\"defs-8eceb2\"><g class=\"clips\"><clipPath id=\"clip8eceb2xyplot\" class=\"plotclip\"><rect width=\"885\" height=\"367\"/></clipPath><clipPath class=\"axesclip\" id=\"clip8eceb2x\"><rect x=\"65\" y=\"0\" width=\"885\" height=\"500\"/></clipPath><clipPath class=\"axesclip\" id=\"clip8eceb2y\"><rect x=\"0\" y=\"80\" width=\"1000\" height=\"367\"/></clipPath><clipPath class=\"axesclip\" id=\"clip8eceb2xy\"><rect x=\"65\" y=\"80\" width=\"885\" height=\"367\"/></clipPath></g><g class=\"gradients\"/><g class=\"patterns\"/></defs><g class=\"bglayer\"/><g class=\"layer-below\"><g class=\"imagelayer\"/><g class=\"shapelayer\"/></g><g class=\"cartesianlayer\"><g class=\"subplot xy\"><g class=\"layer-subplot\"><g class=\"shapelayer\"/><g class=\"imagelayer\"/></g><g class=\"minor-gridlayer\"><g class=\"x\"/><g class=\"y\"/></g><g class=\"gridlayer\"><g class=\"x\"/><g class=\"y\"><path class=\"ygrid crisp\" transform=\"translate(0,407.73)\" d=\"M65,0h885\" style=\"stroke: rgb(255, 255, 255); stroke-opacity: 1; stroke-width: 1px;\"/><path class=\"ygrid crisp\" transform=\"translate(0,368.47)\" d=\"M65,0h885\" style=\"stroke: rgb(255, 255, 255); stroke-opacity: 1; stroke-width: 1px;\"/><path class=\"ygrid crisp\" transform=\"translate(0,329.2)\" d=\"M65,0h885\" style=\"stroke: rgb(255, 255, 255); stroke-opacity: 1; stroke-width: 1px;\"/><path class=\"ygrid crisp\" transform=\"translate(0,289.93)\" d=\"M65,0h885\" style=\"stroke: rgb(255, 255, 255); stroke-opacity: 1; stroke-width: 1px;\"/><path class=\"ygrid crisp\" transform=\"translate(0,250.67)\" d=\"M65,0h885\" style=\"stroke: rgb(255, 255, 255); stroke-opacity: 1; stroke-width: 1px;\"/><path class=\"ygrid crisp\" transform=\"translate(0,211.4)\" d=\"M65,0h885\" style=\"stroke: rgb(255, 255, 255); stroke-opacity: 1; stroke-width: 1px;\"/><path class=\"ygrid crisp\" transform=\"translate(0,172.13)\" d=\"M65,0h885\" style=\"stroke: rgb(255, 255, 255); stroke-opacity: 1; stroke-width: 1px;\"/><path class=\"ygrid crisp\" transform=\"translate(0,132.87)\" d=\"M65,0h885\" style=\"stroke: rgb(255, 255, 255); stroke-opacity: 1; stroke-width: 1px;\"/><path class=\"ygrid crisp\" transform=\"translate(0,93.6)\" d=\"M65,0h885\" style=\"stroke: rgb(255, 255, 255); stroke-opacity: 1; stroke-width: 1px;\"/></g></g><g class=\"zerolinelayer\"><path class=\"yzl zl crisp\" transform=\"translate(0,447)\" d=\"M65,0h885\" style=\"stroke: rgb(255, 255, 255); stroke-opacity: 1; stroke-width: 2px;\"/></g><path class=\"xlines-below\"/><path class=\"ylines-below\"/><g class=\"overlines-below\"/><g class=\"xaxislayer-below\"/><g class=\"yaxislayer-below\"/><g class=\"overaxes-below\"/><g class=\"plot\" transform=\"translate(65,80)\" clip-path=\"url(#clip8eceb2xyplot)\"><g class=\"barlayer mlayer\"><g class=\"trace bars\" shape-rendering=\"crispEdges\" style=\"opacity: 1;\"><g class=\"points\"><g class=\"point\"><path d=\"M0,367V329.97H126.43V367Z\" style=\"vector-effect: none; opacity: 1; stroke-width: 0px; fill: rgb(2, 56, 88); fill-opacity: 1;\"/></g><g class=\"point\"><path d=\"M126.43,367V18.35H252.86V367Z\" style=\"vector-effect: none; opacity: 1; stroke-width: 0px; fill: rgb(2, 56, 88); fill-opacity: 1;\"/></g><g class=\"point\"><path d=\"M252.86,367V198.86H379.29V367Z\" style=\"vector-effect: none; opacity: 1; stroke-width: 0px; fill: rgb(2, 56, 88); fill-opacity: 1;\"/></g><g class=\"point\"><path d=\"M379.29,367V336.65H505.71V367Z\" style=\"vector-effect: none; opacity: 1; stroke-width: 0px; fill: rgb(2, 56, 88); fill-opacity: 1;\"/></g><g class=\"point\"><path d=\"M505.71,367V363.07H632.14V367Z\" style=\"vector-effect: none; opacity: 1; stroke-width: 0px; fill: rgb(2, 56, 88); fill-opacity: 1;\"/></g><g class=\"point\"><path d=\"M632.14,367V366.18H758.57V367Z\" style=\"vector-effect: none; opacity: 1; stroke-width: 0px; fill: rgb(2, 56, 88); fill-opacity: 1;\"/></g><g class=\"point\"><path d=\"M758.57,367V366.92H885V367Z\" style=\"vector-effect: none; opacity: 1; stroke-width: 0px; fill: rgb(2, 56, 88); fill-opacity: 1;\"/></g></g></g></g></g><g class=\"overplot\"/><path class=\"xlines-above crisp\" d=\"M0,0\" style=\"fill: none;\"/><path class=\"ylines-above crisp\" d=\"M0,0\" style=\"fill: none;\"/><g class=\"overlines-above\"/><g class=\"xaxislayer-above\"><g class=\"xtick\"><text text-anchor=\"middle\" x=\"0\" y=\"460\" transform=\"translate(65.13,0)\" style=\"font-family: 'Open Sans', verdana, arial, sans-serif; font-size: 12px; fill: rgb(42, 63, 95); fill-opacity: 1; white-space: pre; opacity: 1;\">0</text></g><g class=\"xtick\"><text text-anchor=\"middle\" x=\"0\" y=\"460\" style=\"font-family: 'Open Sans', verdana, arial, sans-serif; font-size: 12px; fill: rgb(42, 63, 95); fill-opacity: 1; white-space: pre; opacity: 1;\" transform=\"translate(191.56,0)\">500</text></g><g class=\"xtick\"><text text-anchor=\"middle\" x=\"0\" y=\"460\" style=\"font-family: 'Open Sans', verdana, arial, sans-serif; font-size: 12px; fill: rgb(42, 63, 95); fill-opacity: 1; white-space: pre; opacity: 1;\" transform=\"translate(317.98,0)\">1000</text></g><g class=\"xtick\"><text text-anchor=\"middle\" x=\"0\" y=\"460\" style=\"font-family: 'Open Sans', verdana, arial, sans-serif; font-size: 12px; fill: rgb(42, 63, 95); fill-opacity: 1; white-space: pre; opacity: 1;\" transform=\"translate(444.41,0)\">1500</text></g><g class=\"xtick\"><text text-anchor=\"middle\" x=\"0\" y=\"460\" style=\"font-family: 'Open Sans', verdana, arial, sans-serif; font-size: 12px; fill: rgb(42, 63, 95); fill-opacity: 1; white-space: pre; opacity: 1;\" transform=\"translate(570.8399999999999,0)\">2000</text></g><g class=\"xtick\"><text text-anchor=\"middle\" x=\"0\" y=\"460\" style=\"font-family: 'Open Sans', verdana, arial, sans-serif; font-size: 12px; fill: rgb(42, 63, 95); fill-opacity: 1; white-space: pre; opacity: 1;\" transform=\"translate(697.27,0)\">2500</text></g><g class=\"xtick\"><text text-anchor=\"middle\" x=\"0\" y=\"460\" style=\"font-family: 'Open Sans', verdana, arial, sans-serif; font-size: 12px; fill: rgb(42, 63, 95); fill-opacity: 1; white-space: pre; opacity: 1;\" transform=\"translate(823.7,0)\">3000</text></g></g><g class=\"yaxislayer-above\"><g class=\"ytick\"><text text-anchor=\"end\" x=\"64\" y=\"4.199999999999999\" transform=\"translate(0,447)\" style=\"font-family: 'Open Sans', verdana, arial, sans-serif; font-size: 12px; fill: rgb(42, 63, 95); fill-opacity: 1; white-space: pre; opacity: 1;\">0</text></g><g class=\"ytick\"><text text-anchor=\"end\" x=\"64\" y=\"4.199999999999999\" style=\"font-family: 'Open Sans', verdana, arial, sans-serif; font-size: 12px; fill: rgb(42, 63, 95); fill-opacity: 1; white-space: pre; opacity: 1;\" transform=\"translate(0,407.73)\">1000</text></g><g class=\"ytick\"><text text-anchor=\"end\" x=\"64\" y=\"4.199999999999999\" style=\"font-family: 'Open Sans', verdana, arial, sans-serif; font-size: 12px; fill: rgb(42, 63, 95); fill-opacity: 1; white-space: pre; opacity: 1;\" transform=\"translate(0,368.47)\">2000</text></g><g class=\"ytick\"><text text-anchor=\"end\" x=\"64\" y=\"4.199999999999999\" style=\"font-family: 'Open Sans', verdana, arial, sans-serif; font-size: 12px; fill: rgb(42, 63, 95); fill-opacity: 1; white-space: pre; opacity: 1;\" transform=\"translate(0,329.2)\">3000</text></g><g class=\"ytick\"><text text-anchor=\"end\" x=\"64\" y=\"4.199999999999999\" style=\"font-family: 'Open Sans', verdana, arial, sans-serif; font-size: 12px; fill: rgb(42, 63, 95); fill-opacity: 1; white-space: pre; opacity: 1;\" transform=\"translate(0,289.93)\">4000</text></g><g class=\"ytick\"><text text-anchor=\"end\" x=\"64\" y=\"4.199999999999999\" style=\"font-family: 'Open Sans', verdana, arial, sans-serif; font-size: 12px; fill: rgb(42, 63, 95); fill-opacity: 1; white-space: pre; opacity: 1;\" transform=\"translate(0,250.67)\">5000</text></g><g class=\"ytick\"><text text-anchor=\"end\" x=\"64\" y=\"4.199999999999999\" style=\"font-family: 'Open Sans', verdana, arial, sans-serif; font-size: 12px; fill: rgb(42, 63, 95); fill-opacity: 1; white-space: pre; opacity: 1;\" transform=\"translate(0,211.4)\">6000</text></g><g class=\"ytick\"><text text-anchor=\"end\" x=\"64\" y=\"4.199999999999999\" style=\"font-family: 'Open Sans', verdana, arial, sans-serif; font-size: 12px; fill: rgb(42, 63, 95); fill-opacity: 1; white-space: pre; opacity: 1;\" transform=\"translate(0,172.13)\">7000</text></g><g class=\"ytick\"><text text-anchor=\"end\" x=\"64\" y=\"4.199999999999999\" style=\"font-family: 'Open Sans', verdana, arial, sans-serif; font-size: 12px; fill: rgb(42, 63, 95); fill-opacity: 1; white-space: pre; opacity: 1;\" transform=\"translate(0,132.87)\">8000</text></g><g class=\"ytick\"><text text-anchor=\"end\" x=\"64\" y=\"4.199999999999999\" style=\"font-family: 'Open Sans', verdana, arial, sans-serif; font-size: 12px; fill: rgb(42, 63, 95); fill-opacity: 1; white-space: pre; opacity: 1;\" transform=\"translate(0,93.6)\">9000</text></g></g><g class=\"overaxes-above\"/></g></g><g class=\"polarlayer\"/><g class=\"smithlayer\"/><g class=\"ternarylayer\"/><g class=\"geolayer\"/><g class=\"funnelarealayer\"/><g class=\"pielayer\"/><g class=\"iciclelayer\"/><g class=\"treemaplayer\"/><g class=\"sunburstlayer\"/><g class=\"glimages\"/><defs id=\"topdefs-8eceb2\"><g class=\"clips\"/></defs><g class=\"layer-above\"><g class=\"imagelayer\"/><g class=\"shapelayer\"/></g><g class=\"infolayer\"><g class=\"g-gtitle\"><text class=\"gtitle\" x=\"310\" y=\"25\" text-anchor=\"middle\" dy=\"0.7em\" style=\"font-family: 'Times New Roman'; font-size: 26px; fill: rgb(0, 0, 0); opacity: 1; font-weight: normal; white-space: pre;\">Distribution of count of CD8 at 20 weeks</text></g><g class=\"g-xtitle\"><text class=\"xtitle\" x=\"507.5\" y=\"487.3\" text-anchor=\"middle\" style=\"font-family: 'Open Sans', verdana, arial, sans-serif; font-size: 14px; fill: rgb(42, 63, 95); opacity: 1; font-weight: normal; white-space: pre;\">Count of CD8 at 20 weeks</text></g><g class=\"g-ytitle\" transform=\"translate(0.0029296875,0)\"><text class=\"ytitle\" transform=\"rotate(-90,12.996875000000003,263.5)\" x=\"12.996875000000003\" y=\"263.5\" text-anchor=\"middle\" style=\"font-family: 'Open Sans', verdana, arial, sans-serif; font-size: 14px; fill: rgb(42, 63, 95); opacity: 1; font-weight: normal; white-space: pre;\">Count of patients</text></g></g></svg>"
      ]
     },
     "metadata": {},
     "output_type": "display_data"
    }
   ],
   "source": [
    "palette = cl.scales['9']['seq']['PuBu']\n",
    "\n",
    "fig = go.Figure(data=[go.Histogram(\n",
    "    x=df['cd820'],\n",
    "    marker=dict(color=palette[8]),  # Use the second color from the palette\n",
    "    nbinsx=10\n",
    ")])\n",
    "\n",
    "# Update layout\n",
    "fig.update_layout(\n",
    "    title_text=\"Distribution of count of CD4\",\n",
    "    title_font_size=24,\n",
    "    title_font_family=\"Times New Roman\",\n",
    "    title_font_color=\"#000000\",\n",
    "    paper_bgcolor='#ffffff',\n",
    "    plot_bgcolor='#ffffff',\n",
    "    xaxis=dict(title=\"Count of CD8 at 20 weeks\"),\n",
    "    yaxis=dict(title=\"Count of patients\"),\n",
    ")\n",
    "\n",
    "# Set title properties\n",
    "fig.update_layout(\n",
    "    title={\n",
    "        'text': \"Distribution of count of CD8 at 20 weeks\",\n",
    "        'y':0.95,\n",
    "        'x':0.31,\n",
    "        'xanchor': 'center',\n",
    "        'yanchor': 'top'},\n",
    "    title_font_size=26,\n",
    "    margin=dict(l=50, r=50, t=80, b=50)\n",
    ")\n",
    "\n",
    "# Set the width of the figure\n",
    "fig.update_layout(width=1000)\n",
    "\n",
    "# Show the histogram\n",
    "fig.show('svg')"
   ]
  },
  {
   "cell_type": "markdown",
   "id": "4b0601a5",
   "metadata": {
    "papermill": {
     "duration": 0.038397,
     "end_time": "2024-06-02T04:53:39.023952",
     "exception": false,
     "start_time": "2024-06-02T04:53:38.985555",
     "status": "completed"
    },
    "tags": []
   },
   "source": [
    "*There is an increase in the width of the bar at 9000 patients which means that most of the patients experienced an increase in their count of CD8 cells*"
   ]
  },
  {
   "cell_type": "markdown",
   "id": "9cd8a340",
   "metadata": {
    "papermill": {
     "duration": 0.039347,
     "end_time": "2024-06-02T04:53:39.102297",
     "exception": false,
     "start_time": "2024-06-02T04:53:39.062950",
     "status": "completed"
    },
    "tags": []
   },
   "source": [
    " ----------------------------------------------------------------------------------------------------------------------------------------------------------"
   ]
  },
  {
   "cell_type": "markdown",
   "id": "cb0b4d25",
   "metadata": {
    "papermill": {
     "duration": 0.038987,
     "end_time": "2024-06-02T04:53:39.180657",
     "exception": false,
     "start_time": "2024-06-02T04:53:39.141670",
     "status": "completed"
    },
    "tags": []
   },
   "source": [
    "<a id = '2'></a>\n",
    "##  <div style=\"text-align: center; border:#e6e6fa; border-width:1.5px; border-style:solid; padding: 14px;line-height: 0.5;\"> <b>STATISTICAL TESTS</b></div>\n"
   ]
  },
  {
   "cell_type": "markdown",
   "id": "2ca7dc10",
   "metadata": {
    "papermill": {
     "duration": 0.038899,
     "end_time": "2024-06-02T04:53:39.259219",
     "exception": false,
     "start_time": "2024-06-02T04:53:39.220320",
     "status": "completed"
    },
    "tags": []
   },
   "source": [
    "### *We need to determine the most important variable (highest impact on the target variable) in order to go ahead with the bivariate analysis*\n",
    "\n"
   ]
  },
  {
   "cell_type": "code",
   "execution_count": 56,
   "id": "d9f244fe",
   "metadata": {
    "execution": {
     "iopub.execute_input": "2024-06-02T04:53:39.339185Z",
     "iopub.status.busy": "2024-06-02T04:53:39.338402Z",
     "iopub.status.idle": "2024-06-02T04:53:39.344962Z",
     "shell.execute_reply": "2024-06-02T04:53:39.344001Z"
    },
    "papermill": {
     "duration": 0.048813,
     "end_time": "2024-06-02T04:53:39.346902",
     "exception": false,
     "start_time": "2024-06-02T04:53:39.298089",
     "status": "completed"
    },
    "tags": []
   },
   "outputs": [
    {
     "data": {
      "text/plain": [
       "Index(['time', 'trt', 'age', 'wtkg', 'hemo', 'homo', 'drugs', 'karnof',\n",
       "       'oprior', 'z30', 'preanti', 'race', 'gender', 'str2', 'strat',\n",
       "       'symptom', 'treat', 'offtrt', 'cd40', 'cd420', 'cd80', 'cd820',\n",
       "       'infected'],\n",
       "      dtype='object')"
      ]
     },
     "execution_count": 56,
     "metadata": {},
     "output_type": "execute_result"
    }
   ],
   "source": [
    "df.columns"
   ]
  },
  {
   "cell_type": "markdown",
   "id": "498599e8",
   "metadata": {
    "papermill": {
     "duration": 0.038987,
     "end_time": "2024-06-02T04:53:39.426216",
     "exception": false,
     "start_time": "2024-06-02T04:53:39.387229",
     "status": "completed"
    },
    "tags": []
   },
   "source": [
    "## **Chi Square-** *are the categorical variables and target variable (infected) associated?*\n",
    "\n",
    "\n",
    "H0 : The categorical variable is not associated \n",
    "\n",
    "H1 : The cateogircal variable is associated with the target variable\n"
   ]
  },
  {
   "cell_type": "markdown",
   "id": "bdcde261",
   "metadata": {
    "papermill": {
     "duration": 0.038323,
     "end_time": "2024-06-02T04:53:39.503624",
     "exception": false,
     "start_time": "2024-06-02T04:53:39.465301",
     "status": "completed"
    },
    "tags": []
   },
   "source": [
    "#### Categorical Variables with more than two categories:\n",
    "\n",
    "- trt\n",
    "- strat\n"
   ]
  },
  {
   "cell_type": "code",
   "execution_count": 57,
   "id": "ba2d0b06",
   "metadata": {
    "execution": {
     "iopub.execute_input": "2024-06-02T04:53:39.583395Z",
     "iopub.status.busy": "2024-06-02T04:53:39.582603Z",
     "iopub.status.idle": "2024-06-02T04:53:39.613499Z",
     "shell.execute_reply": "2024-06-02T04:53:39.612246Z"
    },
    "papermill": {
     "duration": 0.073712,
     "end_time": "2024-06-02T04:53:39.615823",
     "exception": false,
     "start_time": "2024-06-02T04:53:39.542111",
     "status": "completed"
    },
    "tags": []
   },
   "outputs": [
    {
     "name": "stdout",
     "output_type": "stream",
     "text": [
      "trt --- 1.9501007076821088e-11\n",
      "strat --- 1.157728555915725e-203\n"
     ]
    }
   ],
   "source": [
    "for i in ['trt','strat']:\n",
    "    chi2, pval,_,_ = chi2_contingency(pd.crosstab(df[i], df['infected']))\n",
    "    print(i, '---', pval)"
   ]
  },
  {
   "cell_type": "markdown",
   "id": "33fcf725",
   "metadata": {
    "papermill": {
     "duration": 0.038493,
     "end_time": "2024-06-02T04:53:39.692833",
     "exception": false,
     "start_time": "2024-06-02T04:53:39.654340",
     "status": "completed"
    },
    "tags": []
   },
   "source": [
    "### Conclusion\n",
    "\n",
    "*As the p-value is less than 0.05, we will `reject` the null hypothesis hence trt and strat are associated with the target variable*"
   ]
  },
  {
   "cell_type": "markdown",
   "id": "54122cc9",
   "metadata": {
    "papermill": {
     "duration": 0.03842,
     "end_time": "2024-06-02T04:53:39.769949",
     "exception": false,
     "start_time": "2024-06-02T04:53:39.731529",
     "status": "completed"
    },
    "tags": []
   },
   "source": [
    " ----------------------------------------------------------------------------------------------------------------------------------------------------------"
   ]
  },
  {
   "cell_type": "markdown",
   "id": "8d4d7762",
   "metadata": {
    "papermill": {
     "duration": 0.042342,
     "end_time": "2024-06-02T04:53:39.852022",
     "exception": false,
     "start_time": "2024-06-02T04:53:39.809680",
     "status": "completed"
    },
    "tags": []
   },
   "source": [
    "## **Fisher's Exact Test-**\n",
    "\n",
    "H0 : The categorical variable is not associated \n",
    "\n",
    "H1 : The cateogircal variable is associated with the target variable\n"
   ]
  },
  {
   "cell_type": "markdown",
   "id": "2c2cb892",
   "metadata": {
    "papermill": {
     "duration": 0.040884,
     "end_time": "2024-06-02T04:53:39.932917",
     "exception": false,
     "start_time": "2024-06-02T04:53:39.892033",
     "status": "completed"
    },
    "tags": []
   },
   "source": [
    "#### Categorical Variables with only two categories:\n",
    "\n",
    "\n",
    "- hemo\n",
    "- homo\n",
    "- drugs\n",
    "- oprio\n",
    "- z30 \n",
    "- race\n",
    "- gender\n",
    "- str2\n",
    "- symptom\n",
    "- treat\n",
    "- offtrt"
   ]
  },
  {
   "cell_type": "code",
   "execution_count": 58,
   "id": "2ba2edbd",
   "metadata": {
    "execution": {
     "iopub.execute_input": "2024-06-02T04:53:40.020781Z",
     "iopub.status.busy": "2024-06-02T04:53:40.019692Z",
     "iopub.status.idle": "2024-06-02T04:53:40.040348Z",
     "shell.execute_reply": "2024-06-02T04:53:40.039533Z"
    },
    "papermill": {
     "duration": 0.067573,
     "end_time": "2024-06-02T04:53:40.042464",
     "exception": false,
     "start_time": "2024-06-02T04:53:39.974891",
     "status": "completed"
    },
    "tags": []
   },
   "outputs": [
    {
     "data": {
      "text/html": [
       "<div>\n",
       "<style scoped>\n",
       "    .dataframe tbody tr th:only-of-type {\n",
       "        vertical-align: middle;\n",
       "    }\n",
       "\n",
       "    .dataframe tbody tr th {\n",
       "        vertical-align: top;\n",
       "    }\n",
       "\n",
       "    .dataframe thead th {\n",
       "        text-align: right;\n",
       "    }\n",
       "</style>\n",
       "<table border=\"1\" class=\"dataframe\">\n",
       "  <thead>\n",
       "    <tr style=\"text-align: right;\">\n",
       "      <th></th>\n",
       "      <th>time</th>\n",
       "      <th>trt</th>\n",
       "      <th>age</th>\n",
       "      <th>wtkg</th>\n",
       "      <th>hemo</th>\n",
       "      <th>homo</th>\n",
       "      <th>drugs</th>\n",
       "      <th>karnof</th>\n",
       "      <th>oprior</th>\n",
       "      <th>z30</th>\n",
       "      <th>...</th>\n",
       "      <th>str2</th>\n",
       "      <th>strat</th>\n",
       "      <th>symptom</th>\n",
       "      <th>treat</th>\n",
       "      <th>offtrt</th>\n",
       "      <th>cd40</th>\n",
       "      <th>cd420</th>\n",
       "      <th>cd80</th>\n",
       "      <th>cd820</th>\n",
       "      <th>infected</th>\n",
       "    </tr>\n",
       "  </thead>\n",
       "  <tbody>\n",
       "    <tr>\n",
       "      <th>0</th>\n",
       "      <td>1108</td>\n",
       "      <td>1</td>\n",
       "      <td>37</td>\n",
       "      <td>88.11364</td>\n",
       "      <td>0</td>\n",
       "      <td>1</td>\n",
       "      <td>1</td>\n",
       "      <td>100</td>\n",
       "      <td>0</td>\n",
       "      <td>1</td>\n",
       "      <td>...</td>\n",
       "      <td>1</td>\n",
       "      <td>1</td>\n",
       "      <td>0</td>\n",
       "      <td>0</td>\n",
       "      <td>0</td>\n",
       "      <td>389</td>\n",
       "      <td>320</td>\n",
       "      <td>734</td>\n",
       "      <td>737</td>\n",
       "      <td>1</td>\n",
       "    </tr>\n",
       "    <tr>\n",
       "      <th>1</th>\n",
       "      <td>1079</td>\n",
       "      <td>0</td>\n",
       "      <td>43</td>\n",
       "      <td>66.77075</td>\n",
       "      <td>0</td>\n",
       "      <td>0</td>\n",
       "      <td>0</td>\n",
       "      <td>100</td>\n",
       "      <td>0</td>\n",
       "      <td>1</td>\n",
       "      <td>...</td>\n",
       "      <td>0</td>\n",
       "      <td>2</td>\n",
       "      <td>0</td>\n",
       "      <td>1</td>\n",
       "      <td>1</td>\n",
       "      <td>318</td>\n",
       "      <td>432</td>\n",
       "      <td>912</td>\n",
       "      <td>1213</td>\n",
       "      <td>0</td>\n",
       "    </tr>\n",
       "    <tr>\n",
       "      <th>2</th>\n",
       "      <td>492</td>\n",
       "      <td>1</td>\n",
       "      <td>34</td>\n",
       "      <td>82.91725</td>\n",
       "      <td>0</td>\n",
       "      <td>0</td>\n",
       "      <td>0</td>\n",
       "      <td>90</td>\n",
       "      <td>0</td>\n",
       "      <td>1</td>\n",
       "      <td>...</td>\n",
       "      <td>1</td>\n",
       "      <td>2</td>\n",
       "      <td>0</td>\n",
       "      <td>1</td>\n",
       "      <td>1</td>\n",
       "      <td>326</td>\n",
       "      <td>524</td>\n",
       "      <td>660</td>\n",
       "      <td>835</td>\n",
       "      <td>0</td>\n",
       "    </tr>\n",
       "    <tr>\n",
       "      <th>3</th>\n",
       "      <td>1191</td>\n",
       "      <td>1</td>\n",
       "      <td>41</td>\n",
       "      <td>98.91817</td>\n",
       "      <td>0</td>\n",
       "      <td>0</td>\n",
       "      <td>0</td>\n",
       "      <td>81</td>\n",
       "      <td>0</td>\n",
       "      <td>1</td>\n",
       "      <td>...</td>\n",
       "      <td>1</td>\n",
       "      <td>3</td>\n",
       "      <td>0</td>\n",
       "      <td>1</td>\n",
       "      <td>0</td>\n",
       "      <td>318</td>\n",
       "      <td>232</td>\n",
       "      <td>1131</td>\n",
       "      <td>982</td>\n",
       "      <td>1</td>\n",
       "    </tr>\n",
       "    <tr>\n",
       "      <th>4</th>\n",
       "      <td>1141</td>\n",
       "      <td>3</td>\n",
       "      <td>47</td>\n",
       "      <td>53.61717</td>\n",
       "      <td>0</td>\n",
       "      <td>1</td>\n",
       "      <td>0</td>\n",
       "      <td>100</td>\n",
       "      <td>0</td>\n",
       "      <td>0</td>\n",
       "      <td>...</td>\n",
       "      <td>0</td>\n",
       "      <td>1</td>\n",
       "      <td>0</td>\n",
       "      <td>1</td>\n",
       "      <td>0</td>\n",
       "      <td>280</td>\n",
       "      <td>337</td>\n",
       "      <td>515</td>\n",
       "      <td>679</td>\n",
       "      <td>0</td>\n",
       "    </tr>\n",
       "  </tbody>\n",
       "</table>\n",
       "<p>5 rows × 23 columns</p>\n",
       "</div>"
      ],
      "text/plain": [
       "   time  trt  age      wtkg  hemo  homo  drugs  karnof  oprior  z30  ...  \\\n",
       "0  1108    1   37  88.11364     0     1      1     100       0    1  ...   \n",
       "1  1079    0   43  66.77075     0     0      0     100       0    1  ...   \n",
       "2   492    1   34  82.91725     0     0      0      90       0    1  ...   \n",
       "3  1191    1   41  98.91817     0     0      0      81       0    1  ...   \n",
       "4  1141    3   47  53.61717     0     1      0     100       0    0  ...   \n",
       "\n",
       "   str2  strat  symptom  treat  offtrt  cd40  cd420  cd80  cd820  infected  \n",
       "0     1      1        0      0       0   389    320   734    737         1  \n",
       "1     0      2        0      1       1   318    432   912   1213         0  \n",
       "2     1      2        0      1       1   326    524   660    835         0  \n",
       "3     1      3        0      1       0   318    232  1131    982         1  \n",
       "4     0      1        0      1       0   280    337   515    679         0  \n",
       "\n",
       "[5 rows x 23 columns]"
      ]
     },
     "execution_count": 58,
     "metadata": {},
     "output_type": "execute_result"
    }
   ],
   "source": [
    "df.head()"
   ]
  },
  {
   "cell_type": "code",
   "execution_count": 59,
   "id": "a9c7affb",
   "metadata": {
    "execution": {
     "iopub.execute_input": "2024-06-02T04:53:40.127867Z",
     "iopub.status.busy": "2024-06-02T04:53:40.126735Z",
     "iopub.status.idle": "2024-06-02T04:53:40.255308Z",
     "shell.execute_reply": "2024-06-02T04:53:40.253664Z"
    },
    "papermill": {
     "duration": 0.176377,
     "end_time": "2024-06-02T04:53:40.259086",
     "exception": false,
     "start_time": "2024-06-02T04:53:40.082709",
     "status": "completed"
    },
    "tags": []
   },
   "outputs": [
    {
     "name": "stdout",
     "output_type": "stream",
     "text": [
      "hemo\n",
      "Odds Ratio: 1.4470651843341331\n",
      "p-value: 0.0001317099806578733\n",
      " \n",
      "homo\n",
      "Odds Ratio: 1.0169606038482826\n",
      "p-value: 0.6560094548498128\n",
      " \n",
      "drugs\n",
      "Odds Ratio: 0.8387011799461902\n",
      "p-value: 0.001133159434846974\n",
      " \n",
      "oprior\n",
      "Odds Ratio: 1.4422702478101008\n",
      "p-value: 2.223815087164476e-05\n",
      " \n",
      "z30\n",
      "Odds Ratio: 3.335555866350079\n",
      "p-value: 6.264721818022926e-198\n",
      " \n",
      "race\n",
      "Odds Ratio: 0.8414442645143917\n",
      "p-value: 9.339888785330816e-06\n",
      " \n",
      "gender\n",
      "Odds Ratio: 0.8799680209250363\n",
      "p-value: 0.0099752769456843\n",
      " \n",
      "str2\n",
      "Odds Ratio: 2.992818586366539\n",
      "p-value: 1.206281254862089e-186\n",
      " \n",
      "symptom\n",
      "Odds Ratio: 1.2758447917249203\n",
      "p-value: 6.420600603471285e-05\n",
      " \n",
      "treat\n",
      "Odds Ratio: 0.8382570643445821\n",
      "p-value: 9.252858834482293e-06\n",
      " \n",
      "offtrt\n",
      "Odds Ratio: 0.882369391820803\n",
      "p-value: 0.0008437716544743223\n",
      " \n"
     ]
    }
   ],
   "source": [
    "for i in ['hemo', 'homo', 'drugs','oprior', 'z30', 'race','gender','str2','symptom','treat','offtrt']:\n",
    "\n",
    "    hemo_con = pd.crosstab(df[i], df['infected'])\n",
    "    odds_ratio, p_value = fisher_exact(hemo_con)\n",
    "\n",
    "    print(i)\n",
    "    print(\"Odds Ratio:\", odds_ratio)\n",
    "    print(\"p-value:\", p_value)\n",
    "    print(\" \") \n"
   ]
  },
  {
   "cell_type": "markdown",
   "id": "21b0f103",
   "metadata": {
    "papermill": {
     "duration": 0.098469,
     "end_time": "2024-06-02T04:53:40.398154",
     "exception": false,
     "start_time": "2024-06-02T04:53:40.299685",
     "status": "completed"
    },
    "tags": []
   },
   "source": [
    "### Conclusion:\n",
    "\n",
    "1) p-value:\n",
    " - *`hemo`,`drugs`,`gender`, and `offtrt` have a p-value less than 0.05 hence we reject the null hypothesis and state that there is `an association of these variables with the target variable`*\n",
    " \n",
    "2) odds ratio: \n",
    " - *`hemo`, `homo`, `oprior`, `z30`, `str2`,and `symptom`* have an odds ratio greater than 1, hence we can conclude that odds of being \"infected\" are higher in one group (e.g., individuals with certain levels of a variable) compared to another group (e.g., individuals with different levels of that variable)."
   ]
  },
  {
   "cell_type": "markdown",
   "id": "586fca7c",
   "metadata": {
    "papermill": {
     "duration": 0.039226,
     "end_time": "2024-06-02T04:53:40.476532",
     "exception": false,
     "start_time": "2024-06-02T04:53:40.437306",
     "status": "completed"
    },
    "tags": []
   },
   "source": [
    " ----------------------------------------------------------------------------------------------------------------------------------------------------------"
   ]
  },
  {
   "cell_type": "markdown",
   "id": "04762036",
   "metadata": {
    "papermill": {
     "duration": 0.03872,
     "end_time": "2024-06-02T04:53:40.554445",
     "exception": false,
     "start_time": "2024-06-02T04:53:40.515725",
     "status": "completed"
    },
    "tags": []
   },
   "source": [
    "## **VIF-**\n",
    "\n",
    "Variance Inflation Factor (VIF) is a measure used to detect the presence and severity of multicollinearity in regression analysis. The Variance Inflation Factor (VIF) is a measure used to detect multicollinearity in regression analysis. Multicollinearity occurs when two or more predictor variables in a model are highly correlated, which can make it difficult to determine the individual effect of each predictor on the dependent variable."
   ]
  },
  {
   "cell_type": "markdown",
   "id": "365031a3",
   "metadata": {
    "papermill": {
     "duration": 0.039512,
     "end_time": "2024-06-02T04:53:40.633364",
     "exception": false,
     "start_time": "2024-06-02T04:53:40.593852",
     "status": "completed"
    },
    "tags": []
   },
   "source": [
    "#### Numerical Variables\n",
    "\n",
    "\n",
    "- time\n",
    "- trt\n",
    "- age\n",
    "- wtkg\n",
    "- preanti \n",
    "- cd40\n",
    "- cd420\n",
    "- cd80\n",
    "- cd820"
   ]
  },
  {
   "cell_type": "code",
   "execution_count": 60,
   "id": "61e7b4fd",
   "metadata": {
    "execution": {
     "iopub.execute_input": "2024-06-02T04:53:40.714075Z",
     "iopub.status.busy": "2024-06-02T04:53:40.713689Z",
     "iopub.status.idle": "2024-06-02T04:53:40.871904Z",
     "shell.execute_reply": "2024-06-02T04:53:40.870559Z"
    },
    "papermill": {
     "duration": 0.202159,
     "end_time": "2024-06-02T04:53:40.875083",
     "exception": false,
     "start_time": "2024-06-02T04:53:40.672924",
     "status": "completed"
    },
    "tags": []
   },
   "outputs": [
    {
     "name": "stdout",
     "output_type": "stream",
     "text": [
      "  Variable        VIF\n",
      "0    const  98.554239\n",
      "1     time   1.012961\n",
      "2      trt   1.004925\n",
      "3      age   1.019197\n",
      "4     wtkg   1.007254\n",
      "5  preanti   1.091317\n",
      "6     cd40   1.047175\n",
      "7    cd420   1.086554\n",
      "8     cd80   1.002678\n",
      "9    cd820   1.002625\n"
     ]
    }
   ],
   "source": [
    "vif_data = df[['time', 'trt', 'age', 'wtkg', 'preanti', 'cd40', 'cd420', 'cd80', 'cd820']]\n",
    "\n",
    "# Adding a constant column for the intercept\n",
    "X = sm.add_constant(vif_data)\n",
    "\n",
    "# Calculate VIF for each feature\n",
    "vif = pd.DataFrame()\n",
    "vif[\"Variable\"] = X.columns\n",
    "vif[\"VIF\"] = [variance_inflation_factor(X.values, i) for i in range(X.shape[1])]\n",
    "\n",
    "# Display VIF values\n",
    "print(vif)"
   ]
  },
  {
   "cell_type": "markdown",
   "id": "403dd0db",
   "metadata": {
    "papermill": {
     "duration": 0.055408,
     "end_time": "2024-06-02T04:53:41.001622",
     "exception": false,
     "start_time": "2024-06-02T04:53:40.946214",
     "status": "completed"
    },
    "tags": []
   },
   "source": [
    "***Conclusion:***\n",
    "\n",
    "*The numerical variables are independent of each other*"
   ]
  },
  {
   "cell_type": "markdown",
   "id": "dc57940b",
   "metadata": {
    "papermill": {
     "duration": 0.038881,
     "end_time": "2024-06-02T04:53:41.080163",
     "exception": false,
     "start_time": "2024-06-02T04:53:41.041282",
     "status": "completed"
    },
    "tags": []
   },
   "source": [
    "## **Logistic Regression-**\n"
   ]
  },
  {
   "cell_type": "code",
   "execution_count": 61,
   "id": "c7d76b9c",
   "metadata": {
    "execution": {
     "iopub.execute_input": "2024-06-02T04:53:41.161548Z",
     "iopub.status.busy": "2024-06-02T04:53:41.161161Z",
     "iopub.status.idle": "2024-06-02T04:53:41.329785Z",
     "shell.execute_reply": "2024-06-02T04:53:41.328637Z"
    },
    "papermill": {
     "duration": 0.212551,
     "end_time": "2024-06-02T04:53:41.332866",
     "exception": false,
     "start_time": "2024-06-02T04:53:41.120315",
     "status": "completed"
    },
    "tags": []
   },
   "outputs": [
    {
     "name": "stdout",
     "output_type": "stream",
     "text": [
      "Optimization terminated successfully.\n",
      "         Current function value: 0.580922\n",
      "         Iterations 5\n",
      "                           Logit Regression Results                           \n",
      "==============================================================================\n",
      "Dep. Variable:               infected   No. Observations:                15000\n",
      "Model:                          Logit   Df Residuals:                    14991\n",
      "Method:                           MLE   Df Model:                            8\n",
      "Date:                Sun, 02 Jun 2024   Pseudo R-squ.:                 0.06012\n",
      "Time:                        04:53:41   Log-Likelihood:                -8713.8\n",
      "converged:                       True   LL-Null:                       -9271.3\n",
      "Covariance Type:            nonrobust   LLR p-value:                2.370e-235\n",
      "==============================================================================\n",
      "                 coef    std err          z      P>|z|      [0.025      0.975]\n",
      "------------------------------------------------------------------------------\n",
      "const          1.3635      0.183      7.461      0.000       1.005       1.722\n",
      "time          -0.0006   5.86e-05    -10.469      0.000      -0.001      -0.000\n",
      "age            0.0038      0.003      1.464      0.143      -0.001       0.009\n",
      "wtkg          -0.0037      0.002     -2.402      0.016      -0.007      -0.001\n",
      "preanti        0.0007   4.55e-05     15.559      0.000       0.001       0.001\n",
      "cd40          -0.0021      0.000    -11.168      0.000      -0.003      -0.002\n",
      "cd420         -0.0023      0.000    -15.781      0.000      -0.003      -0.002\n",
      "cd80       -1.731e-05   3.78e-05     -0.458      0.647   -9.14e-05    5.68e-05\n",
      "cd820         -0.0001    5.5e-05     -1.933      0.053      -0.000     1.5e-06\n",
      "==============================================================================\n"
     ]
    }
   ],
   "source": [
    "X = sm.add_constant(df[['time', 'age', 'wtkg', 'preanti', 'cd40', 'cd420', 'cd80', 'cd820']])\n",
    "y = df['infected']\n",
    "\n",
    "# Fit logistic regression model\n",
    "model = sm.Logit(y, X).fit()\n",
    "\n",
    "# Print the summary\n",
    "print(model.summary())"
   ]
  },
  {
   "cell_type": "markdown",
   "id": "a11b83eb",
   "metadata": {
    "papermill": {
     "duration": 0.05357,
     "end_time": "2024-06-02T04:53:41.456953",
     "exception": false,
     "start_time": "2024-06-02T04:53:41.403383",
     "status": "completed"
    },
    "tags": []
   },
   "source": [
    "***Conclusion***\n",
    "\n",
    "- *Several predictors (time, wtkg, preanti, cd40 and cd420) are statistically significant, indicating they have a meaningful association with the probability of being infected.*\n",
    "\n",
    "- *Other predictors (age, cd80, and cd820) are not statistically significant at the conventional 0.05 level, suggesting their individual contributions to the model may not be substantial.* \n",
    "\n",
    "- *The model itself is highly significant, suggesting that, collectively, the predictors explain a significant portion of the variability in the target variable.*"
   ]
  },
  {
   "cell_type": "markdown",
   "id": "e4544a2a",
   "metadata": {
    "papermill": {
     "duration": 0.039454,
     "end_time": "2024-06-02T04:53:41.536408",
     "exception": false,
     "start_time": "2024-06-02T04:53:41.496954",
     "status": "completed"
    },
    "tags": []
   },
   "source": [
    "#### *We will consider `trt`, `strat`, `hemo`, `drugs`, `gender`, `offtrt`, `time`, `wtkg`, `preanti`, `cd40` , and `cd420` for further analysis*"
   ]
  },
  {
   "cell_type": "markdown",
   "id": "70145e58",
   "metadata": {
    "papermill": {
     "duration": 0.041528,
     "end_time": "2024-06-02T04:53:41.618618",
     "exception": false,
     "start_time": "2024-06-02T04:53:41.577090",
     "status": "completed"
    },
    "tags": []
   },
   "source": [
    " ----------------------------------------------------------------------------------------------------------------------------------------------------------"
   ]
  },
  {
   "cell_type": "markdown",
   "id": "098327d0",
   "metadata": {
    "papermill": {
     "duration": 0.039742,
     "end_time": "2024-06-02T04:53:41.698626",
     "exception": false,
     "start_time": "2024-06-02T04:53:41.658884",
     "status": "completed"
    },
    "tags": []
   },
   "source": [
    "<a id = '3'></a>\n",
    "##  <div style=\"text-align: center; border:#e6e6fa; border-width:1.5px; border-style:solid; padding: 14px;line-height: 0.5;\"> <b>BIVARIATE ANALYSIS</b></div>\n"
   ]
  },
  {
   "cell_type": "markdown",
   "id": "c099b111",
   "metadata": {
    "papermill": {
     "duration": 0.039585,
     "end_time": "2024-06-02T04:53:41.777890",
     "exception": false,
     "start_time": "2024-06-02T04:53:41.738305",
     "status": "completed"
    },
    "tags": []
   },
   "source": [
    "# trt (Treatment indicator)"
   ]
  },
  {
   "cell_type": "code",
   "execution_count": 62,
   "id": "2225def9",
   "metadata": {
    "execution": {
     "iopub.execute_input": "2024-06-02T04:53:41.858875Z",
     "iopub.status.busy": "2024-06-02T04:53:41.858459Z",
     "iopub.status.idle": "2024-06-02T04:53:41.864860Z",
     "shell.execute_reply": "2024-06-02T04:53:41.864055Z"
    },
    "papermill": {
     "duration": 0.048968,
     "end_time": "2024-06-02T04:53:41.866754",
     "exception": false,
     "start_time": "2024-06-02T04:53:41.817786",
     "status": "completed"
    },
    "tags": []
   },
   "outputs": [
    {
     "data": {
      "text/plain": [
       "Index(['time', 'trt', 'age', 'wtkg', 'hemo', 'homo', 'drugs', 'karnof',\n",
       "       'oprior', 'z30', 'preanti', 'race', 'gender', 'str2', 'strat',\n",
       "       'symptom', 'treat', 'offtrt', 'cd40', 'cd420', 'cd80', 'cd820',\n",
       "       'infected'],\n",
       "      dtype='object')"
      ]
     },
     "execution_count": 62,
     "metadata": {},
     "output_type": "execute_result"
    }
   ],
   "source": [
    "df.columns"
   ]
  },
  {
   "cell_type": "code",
   "execution_count": null,
   "id": "57a70b9f",
   "metadata": {
    "papermill": {
     "duration": 0.039276,
     "end_time": "2024-06-02T04:53:41.945287",
     "exception": false,
     "start_time": "2024-06-02T04:53:41.906011",
     "status": "completed"
    },
    "tags": []
   },
   "outputs": [],
   "source": []
  },
  {
   "cell_type": "markdown",
   "id": "114d5068",
   "metadata": {
    "papermill": {
     "duration": 0.040202,
     "end_time": "2024-06-02T04:53:42.024664",
     "exception": false,
     "start_time": "2024-06-02T04:53:41.984462",
     "status": "completed"
    },
    "tags": []
   },
   "source": [
    "### trt vs time\n",
    "\n",
    "***Conclusion***\n",
    "\n",
    "- *Treatment 1 and 2 seems pretty effective in this regard because among all the 4 treatments, 1 and 2 have the lowest range of time to failure. The range (155- - 1231) in itself is pretty huge, but compared to the other treatments it is the lowest*"
   ]
  },
  {
   "cell_type": "code",
   "execution_count": 63,
   "id": "e59af72d",
   "metadata": {
    "execution": {
     "iopub.execute_input": "2024-06-02T04:53:42.106517Z",
     "iopub.status.busy": "2024-06-02T04:53:42.105788Z",
     "iopub.status.idle": "2024-06-02T04:53:44.142438Z",
     "shell.execute_reply": "2024-06-02T04:53:44.141496Z"
    },
    "papermill": {
     "duration": 2.079955,
     "end_time": "2024-06-02T04:53:44.144512",
     "exception": false,
     "start_time": "2024-06-02T04:53:42.064557",
     "status": "completed"
    },
    "tags": []
   },
   "outputs": [
    {
     "data": {
      "image/png": "[encoded data removed]"
     },
     "metadata": {},
     "output_type": "display_data"
    }
   ],
   "source": [
    "scatter_trace = go.Scatter(\n",
    "    x=df['trt'],\n",
    "    y=df['time'],\n",
    "    mode='markers',\n",
    "    marker=dict(\n",
    "        color=df['trt'],\n",
    "        colorscale='Viridis',  # Optional: Choose a colorscale\n",
    "        showscale=True\n",
    "    )\n",
    ")\n",
    "''\n",
    "# Set up the layout\n",
    "layout = go.Layout(\n",
    "    width=1000,\n",
    "    height=600,\n",
    "    xaxis=dict(title='Treatment indicator'),\n",
    "    yaxis=dict(title='Time to failure '),\n",
    "    title='Scatter Plot of treatment indicator vs. Time to failure'\n",
    ")\n",
    "\n",
    "fig.update_layout(\n",
    "    title=\"Scatter Plot of Treatment Indicator vs. Time to Failure\",\n",
    "    title_font_family=\"Times New Roman\",\n",
    "    title_font_color=\"#000000\",\n",
    "    paper_bgcolor='#ffffff',\n",
    "    plot_bgcolor='#ffffff',\n",
    "    xaxis=dict(title='Treatment Indicator'),\n",
    "    yaxis=dict(title='Time to Failure')\n",
    ")\n",
    "\n",
    "\n",
    "fig.update_layout(width=1000)\n",
    "\n",
    "# Create the figure\n",
    "fig = go.Figure(data=[scatter_trace], layout=layout)\n",
    "\n",
    "# Display the figure\n",
    "fig.show('png')"
   ]
  },
  {
   "cell_type": "markdown",
   "id": "09d8610e",
   "metadata": {
    "papermill": {
     "duration": 0.040497,
     "end_time": "2024-06-02T04:53:44.225906",
     "exception": false,
     "start_time": "2024-06-02T04:53:44.185409",
     "status": "completed"
    },
    "tags": []
   },
   "source": [
    "*When the patient was administered treatment 0 (ZDV only), then the time to failure varies between 205 to 1231. Sometimes, it is scattered between 68 to 165*\n",
    "*This indicates that the time until the treatment stops being effective (i.e., treatment failure) for these patients lies between 205 and 1231 units of time*"
   ]
  }
 ],
 "metadata": {
  "kaggle": {
   "accelerator": "none",
   "dataSources": [
    {
     "datasetId": 4890913,
     "sourceId": 8249624,
     "sourceType": "datasetVersion"
    }
   ],
   "dockerImageVersionId": 30698,
   "isGpuEnabled": false,
   "isInternetEnabled": true,
   "language": "python",
   "sourceType": "notebook"
  },
  "kernelspec": {
   "display_name": "Python 3",
   "language": "python",
   "name": "python3"
  },
  "language_info": {
   "codemirror_mode": {
    "name": "ipython",
    "version": 3
   },
   "file_extension": ".py",
   "mimetype": "text/x-python",
   "name": "python",
   "nbconvert_exporter": "python",
   "pygments_lexer": "ipython3",
   "version": "3.10.13"
  },
  "papermill": {
   "default_parameters": {},
   "duration": 46.066313,
   "end_time": "2024-06-02T04:53:46.886489",
   "environment_variables": {},
   "exception": null,
   "input_path": "__notebook__.ipynb",
   "output_path": "__notebook__.ipynb",
   "parameters": {},
   "start_time": "2024-06-02T04:53:00.820176",
   "version": "2.5.0"
  }
 },
 "nbformat": 4,
 "nbformat_minor": 5
}
