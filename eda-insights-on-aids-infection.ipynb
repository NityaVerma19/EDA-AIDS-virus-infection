{
 "cells": [
  {
   "cell_type": "code",
   "execution_count": 1,
   "id": "ae78082c",
   "metadata": {
    "_cell_guid": "b1076dfc-b9ad-4769-8c92-a6c4dae69d19",
    "_uuid": "8f2839f25d086af736a60e9eeb907d3b93b6e0e5",
    "execution": {
     "iopub.execute_input": "2024-05-28T04:44:09.772932Z",
     "iopub.status.busy": "2024-05-28T04:44:09.772507Z",
     "iopub.status.idle": "2024-05-28T04:44:10.852134Z",
     "shell.execute_reply": "2024-05-28T04:44:10.850842Z"
    },
    "papermill": {
     "duration": 1.089332,
     "end_time": "2024-05-28T04:44:10.854983",
     "exception": false,
     "start_time": "2024-05-28T04:44:09.765651",
     "status": "completed"
    },
    "tags": []
   },
   "outputs": [
    {
     "name": "stdout",
     "output_type": "stream",
     "text": [
      "/kaggle/input/aids-virus-infection-prediction/AIDS_Classification_15000.csv\n",
      "/kaggle/input/aids-virus-infection-prediction/AIDS_Classification_50000.csv\n",
      "/kaggle/input/aids-virus-infection-prediction/AIDS_Classification.csv\n",
      "/kaggle/input/aids-virus-infection-prediction/AIDS_Classification_5000.csv\n"
     ]
    }
   ],
   "source": [
    "# This Python 3 environment comes with many helpful analytics libraries installed\n",
    "# It is defined by the kaggle/python Docker image: https://github.com/kaggle/docker-python\n",
    "# For example, here's several helpful packages to load\n",
    "\n",
    "import numpy as np # linear algebra\n",
    "import pandas as pd # data processing, CSV file I/O (e.g. pd.read_csv)\n",
    "import plotly.graph_objects as go\n",
    "import colorlover as cl\n",
    "# Input data files are available in the read-only \"../input/\" directory\n",
    "# For example, running this (by clicking run or pressing Shift+Enter) will list all files under the input directory\n",
    "\n",
    "import os\n",
    "for dirname, _, filenames in os.walk('/kaggle/input'):\n",
    "    for filename in filenames:\n",
    "        print(os.path.join(dirname, filename))\n",
    "\n",
    "# You can write up to 20GB to the current directory (/kaggle/working/) that gets preserved as output when you create a version using \"Save & Run All\" \n",
    "# You can also write temporary files to /kaggle/temp/, but they won't be saved outside of the current session"
   ]
  },
  {
   "cell_type": "code",
   "execution_count": 2,
   "id": "d64a4b67",
   "metadata": {
    "execution": {
     "iopub.execute_input": "2024-05-28T04:44:10.867160Z",
     "iopub.status.busy": "2024-05-28T04:44:10.865924Z",
     "iopub.status.idle": "2024-05-28T04:44:31.112397Z",
     "shell.execute_reply": "2024-05-28T04:44:31.110845Z"
    },
    "papermill": {
     "duration": 20.255357,
     "end_time": "2024-05-28T04:44:31.115301",
     "exception": false,
     "start_time": "2024-05-28T04:44:10.859944",
     "status": "completed"
    },
    "tags": []
   },
   "outputs": [
    {
     "name": "stdout",
     "output_type": "stream",
     "text": [
      "Collecting kaleido\r\n",
      "  Downloading kaleido-0.2.1-py2.py3-none-manylinux1_x86_64.whl.metadata (15 kB)\r\n",
      "Downloading kaleido-0.2.1-py2.py3-none-manylinux1_x86_64.whl (79.9 MB)\r\n",
      "\u001b[2K   \u001b[90m━━━━━━━━━━━━━━━━━━━━━━━━━━━━━━━━━━━━━━━━\u001b[0m \u001b[32m79.9/79.9 MB\u001b[0m \u001b[31m17.6 MB/s\u001b[0m eta \u001b[36m0:00:00\u001b[0m\r\n",
      "\u001b[?25hInstalling collected packages: kaleido\r\n",
      "Successfully installed kaleido-0.2.1\r\n"
     ]
    }
   ],
   "source": [
    "! pip install -U kaleido"
   ]
  },
  {
   "cell_type": "code",
   "execution_count": 3,
   "id": "bec461c0",
   "metadata": {
    "execution": {
     "iopub.execute_input": "2024-05-28T04:44:31.132442Z",
     "iopub.status.busy": "2024-05-28T04:44:31.131977Z",
     "iopub.status.idle": "2024-05-28T04:44:31.213641Z",
     "shell.execute_reply": "2024-05-28T04:44:31.212254Z"
    },
    "papermill": {
     "duration": 0.093964,
     "end_time": "2024-05-28T04:44:31.216791",
     "exception": false,
     "start_time": "2024-05-28T04:44:31.122827",
     "status": "completed"
    },
    "tags": []
   },
   "outputs": [],
   "source": [
    "df = pd.read_csv(\"/kaggle/input/aids-virus-infection-prediction/AIDS_Classification_15000.csv\")"
   ]
  },
  {
   "cell_type": "code",
   "execution_count": 4,
   "id": "8fc715c8",
   "metadata": {
    "execution": {
     "iopub.execute_input": "2024-05-28T04:44:31.234226Z",
     "iopub.status.busy": "2024-05-28T04:44:31.233305Z",
     "iopub.status.idle": "2024-05-28T04:44:31.276632Z",
     "shell.execute_reply": "2024-05-28T04:44:31.275299Z"
    },
    "papermill": {
     "duration": 0.054965,
     "end_time": "2024-05-28T04:44:31.279302",
     "exception": false,
     "start_time": "2024-05-28T04:44:31.224337",
     "status": "completed"
    },
    "tags": []
   },
   "outputs": [
    {
     "data": {
      "text/html": [
       "<div>\n",
       "<style scoped>\n",
       "    .dataframe tbody tr th:only-of-type {\n",
       "        vertical-align: middle;\n",
       "    }\n",
       "\n",
       "    .dataframe tbody tr th {\n",
       "        vertical-align: top;\n",
       "    }\n",
       "\n",
       "    .dataframe thead th {\n",
       "        text-align: right;\n",
       "    }\n",
       "</style>\n",
       "<table border=\"1\" class=\"dataframe\">\n",
       "  <thead>\n",
       "    <tr style=\"text-align: right;\">\n",
       "      <th></th>\n",
       "      <th>time</th>\n",
       "      <th>trt</th>\n",
       "      <th>age</th>\n",
       "      <th>wtkg</th>\n",
       "      <th>hemo</th>\n",
       "      <th>homo</th>\n",
       "      <th>drugs</th>\n",
       "      <th>karnof</th>\n",
       "      <th>oprior</th>\n",
       "      <th>z30</th>\n",
       "      <th>...</th>\n",
       "      <th>str2</th>\n",
       "      <th>strat</th>\n",
       "      <th>symptom</th>\n",
       "      <th>treat</th>\n",
       "      <th>offtrt</th>\n",
       "      <th>cd40</th>\n",
       "      <th>cd420</th>\n",
       "      <th>cd80</th>\n",
       "      <th>cd820</th>\n",
       "      <th>infected</th>\n",
       "    </tr>\n",
       "  </thead>\n",
       "  <tbody>\n",
       "    <tr>\n",
       "      <th>0</th>\n",
       "      <td>1108</td>\n",
       "      <td>1</td>\n",
       "      <td>37</td>\n",
       "      <td>88.11364</td>\n",
       "      <td>0</td>\n",
       "      <td>1</td>\n",
       "      <td>1</td>\n",
       "      <td>100</td>\n",
       "      <td>0</td>\n",
       "      <td>1</td>\n",
       "      <td>...</td>\n",
       "      <td>1</td>\n",
       "      <td>1</td>\n",
       "      <td>0</td>\n",
       "      <td>0</td>\n",
       "      <td>0</td>\n",
       "      <td>389</td>\n",
       "      <td>320</td>\n",
       "      <td>734</td>\n",
       "      <td>737</td>\n",
       "      <td>1</td>\n",
       "    </tr>\n",
       "    <tr>\n",
       "      <th>1</th>\n",
       "      <td>1079</td>\n",
       "      <td>0</td>\n",
       "      <td>43</td>\n",
       "      <td>66.77075</td>\n",
       "      <td>0</td>\n",
       "      <td>0</td>\n",
       "      <td>0</td>\n",
       "      <td>100</td>\n",
       "      <td>0</td>\n",
       "      <td>1</td>\n",
       "      <td>...</td>\n",
       "      <td>0</td>\n",
       "      <td>2</td>\n",
       "      <td>0</td>\n",
       "      <td>1</td>\n",
       "      <td>1</td>\n",
       "      <td>318</td>\n",
       "      <td>432</td>\n",
       "      <td>912</td>\n",
       "      <td>1213</td>\n",
       "      <td>0</td>\n",
       "    </tr>\n",
       "    <tr>\n",
       "      <th>2</th>\n",
       "      <td>492</td>\n",
       "      <td>1</td>\n",
       "      <td>34</td>\n",
       "      <td>82.91725</td>\n",
       "      <td>0</td>\n",
       "      <td>0</td>\n",
       "      <td>0</td>\n",
       "      <td>90</td>\n",
       "      <td>0</td>\n",
       "      <td>1</td>\n",
       "      <td>...</td>\n",
       "      <td>1</td>\n",
       "      <td>2</td>\n",
       "      <td>0</td>\n",
       "      <td>1</td>\n",
       "      <td>1</td>\n",
       "      <td>326</td>\n",
       "      <td>524</td>\n",
       "      <td>660</td>\n",
       "      <td>835</td>\n",
       "      <td>0</td>\n",
       "    </tr>\n",
       "    <tr>\n",
       "      <th>3</th>\n",
       "      <td>1191</td>\n",
       "      <td>1</td>\n",
       "      <td>41</td>\n",
       "      <td>98.91817</td>\n",
       "      <td>0</td>\n",
       "      <td>0</td>\n",
       "      <td>0</td>\n",
       "      <td>81</td>\n",
       "      <td>0</td>\n",
       "      <td>1</td>\n",
       "      <td>...</td>\n",
       "      <td>1</td>\n",
       "      <td>3</td>\n",
       "      <td>0</td>\n",
       "      <td>1</td>\n",
       "      <td>0</td>\n",
       "      <td>318</td>\n",
       "      <td>232</td>\n",
       "      <td>1131</td>\n",
       "      <td>982</td>\n",
       "      <td>1</td>\n",
       "    </tr>\n",
       "    <tr>\n",
       "      <th>4</th>\n",
       "      <td>1141</td>\n",
       "      <td>3</td>\n",
       "      <td>47</td>\n",
       "      <td>53.61717</td>\n",
       "      <td>0</td>\n",
       "      <td>1</td>\n",
       "      <td>0</td>\n",
       "      <td>100</td>\n",
       "      <td>0</td>\n",
       "      <td>0</td>\n",
       "      <td>...</td>\n",
       "      <td>0</td>\n",
       "      <td>1</td>\n",
       "      <td>0</td>\n",
       "      <td>1</td>\n",
       "      <td>0</td>\n",
       "      <td>280</td>\n",
       "      <td>337</td>\n",
       "      <td>515</td>\n",
       "      <td>679</td>\n",
       "      <td>0</td>\n",
       "    </tr>\n",
       "  </tbody>\n",
       "</table>\n",
       "<p>5 rows × 23 columns</p>\n",
       "</div>"
      ],
      "text/plain": [
       "   time  trt  age      wtkg  hemo  homo  drugs  karnof  oprior  z30  ...  \\\n",
       "0  1108    1   37  88.11364     0     1      1     100       0    1  ...   \n",
       "1  1079    0   43  66.77075     0     0      0     100       0    1  ...   \n",
       "2   492    1   34  82.91725     0     0      0      90       0    1  ...   \n",
       "3  1191    1   41  98.91817     0     0      0      81       0    1  ...   \n",
       "4  1141    3   47  53.61717     0     1      0     100       0    0  ...   \n",
       "\n",
       "   str2  strat  symptom  treat  offtrt  cd40  cd420  cd80  cd820  infected  \n",
       "0     1      1        0      0       0   389    320   734    737         1  \n",
       "1     0      2        0      1       1   318    432   912   1213         0  \n",
       "2     1      2        0      1       1   326    524   660    835         0  \n",
       "3     1      3        0      1       0   318    232  1131    982         1  \n",
       "4     0      1        0      1       0   280    337   515    679         0  \n",
       "\n",
       "[5 rows x 23 columns]"
      ]
     },
     "execution_count": 4,
     "metadata": {},
     "output_type": "execute_result"
    }
   ],
   "source": [
    "df.head()"
   ]
  },
  {
   "cell_type": "code",
   "execution_count": 5,
   "id": "8caaf43d",
   "metadata": {
    "execution": {
     "iopub.execute_input": "2024-05-28T04:44:31.297421Z",
     "iopub.status.busy": "2024-05-28T04:44:31.296937Z",
     "iopub.status.idle": "2024-05-28T04:44:31.308591Z",
     "shell.execute_reply": "2024-05-28T04:44:31.307331Z"
    },
    "papermill": {
     "duration": 0.024303,
     "end_time": "2024-05-28T04:44:31.311715",
     "exception": false,
     "start_time": "2024-05-28T04:44:31.287412",
     "status": "completed"
    },
    "tags": []
   },
   "outputs": [
    {
     "data": {
      "text/plain": [
       "time        0\n",
       "trt         0\n",
       "age         0\n",
       "wtkg        0\n",
       "hemo        0\n",
       "homo        0\n",
       "drugs       0\n",
       "karnof      0\n",
       "oprior      0\n",
       "z30         0\n",
       "preanti     0\n",
       "race        0\n",
       "gender      0\n",
       "str2        0\n",
       "strat       0\n",
       "symptom     0\n",
       "treat       0\n",
       "offtrt      0\n",
       "cd40        0\n",
       "cd420       0\n",
       "cd80        0\n",
       "cd820       0\n",
       "infected    0\n",
       "dtype: int64"
      ]
     },
     "execution_count": 5,
     "metadata": {},
     "output_type": "execute_result"
    }
   ],
   "source": [
    "df.isnull().sum()"
   ]
  },
  {
   "cell_type": "markdown",
   "id": "6a3c03d7",
   "metadata": {
    "papermill": {
     "duration": 0.007583,
     "end_time": "2024-05-28T04:44:31.327313",
     "exception": false,
     "start_time": "2024-05-28T04:44:31.319730",
     "status": "completed"
    },
    "tags": []
   },
   "source": [
    "## <div style=\"text-align: center\"> <b>UNIVARIATE ANALYSIS</b></div>"
   ]
  },
  {
   "cell_type": "markdown",
   "id": "2251b76d",
   "metadata": {
    "papermill": {
     "duration": 0.007745,
     "end_time": "2024-05-28T04:44:31.342922",
     "exception": false,
     "start_time": "2024-05-28T04:44:31.335177",
     "status": "completed"
    },
    "tags": []
   },
   "source": [
    "## trt: Treatment Indicator\n",
    "\n",
    "***About***\n",
    "<div>\n",
    "    <p>\n",
    "        The treatment indicator provides information about the type of antiretroviral treatment regimen patients in the dataset are receiving:\n",
    "    </p>\n",
    "    <ul>\n",
    "        <li>0 = ZDV only\n",
    "            <ul>\n",
    "                <li>Patients with this indicator are being treated only with Zidovudine (ZDV), also known as AZT.</li>\n",
    "            </ul>\n",
    "        </li>\n",
    "        <li>1 = ZDV + ddI\n",
    "            <ul>\n",
    "                <li>Patients with this indicator are being treated with a combination of Zidovudine (ZDV) and Didanosine (ddI). The combination therapy is often used to enhance the efficacy of treatment by using drugs with different mechanisms of action.</li>\n",
    "            </ul>\n",
    "        </li>\n",
    "        <li>2 = ZDV + Zal\n",
    "            <ul>\n",
    "                <li>Patients with this indicator are being treated with a combination of Zidovudine (ZDV) and Zalcitabine (Zal). The combination of ZDV and Zal is another strategy to improve treatment effectiveness and delay the progression of the disease.</li>\n",
    "            </ul>\n",
    "        </li>\n",
    "        <li>3 = ddI only\n",
    "            <ul>\n",
    "                <li>Patients with this indicator are being treated only with Didanosine (ddI). This might be an alternative regimen for patients who cannot tolerate ZDV or for whom ZDV is not effective.</li>\n",
    "            </ul>\n",
    "        </li>\n",
    "    </ul>\n",
    "</div>\n",
    "\n",
    "\n",
    "***Conclusions***"
   ]
  },
  {
   "cell_type": "code",
   "execution_count": 6,
   "id": "81d47b26",
   "metadata": {
    "execution": {
     "iopub.execute_input": "2024-05-28T04:44:31.361067Z",
     "iopub.status.busy": "2024-05-28T04:44:31.360614Z",
     "iopub.status.idle": "2024-05-28T04:44:31.375891Z",
     "shell.execute_reply": "2024-05-28T04:44:31.374683Z"
    },
    "papermill": {
     "duration": 0.02715,
     "end_time": "2024-05-28T04:44:31.378532",
     "exception": false,
     "start_time": "2024-05-28T04:44:31.351382",
     "status": "completed"
    },
    "tags": []
   },
   "outputs": [
    {
     "data": {
      "text/plain": [
       "trt\n",
       "0    5550\n",
       "3    4149\n",
       "2    3182\n",
       "1    2119\n",
       "Name: count, dtype: int64"
      ]
     },
     "execution_count": 6,
     "metadata": {},
     "output_type": "execute_result"
    }
   ],
   "source": [
    "df['trt'].value_counts()"
   ]
  },
  {
   "cell_type": "code",
   "execution_count": 7,
   "id": "db25d9ef",
   "metadata": {
    "execution": {
     "iopub.execute_input": "2024-05-28T04:44:31.396946Z",
     "iopub.status.busy": "2024-05-28T04:44:31.396548Z",
     "iopub.status.idle": "2024-05-28T04:44:33.556495Z",
     "shell.execute_reply": "2024-05-28T04:44:33.555110Z"
    },
    "papermill": {
     "duration": 2.172741,
     "end_time": "2024-05-28T04:44:33.559513",
     "exception": false,
     "start_time": "2024-05-28T04:44:31.386772",
     "status": "completed"
    },
    "tags": []
   },
   "outputs": [
    {
     "data": {
      "image/png": "[encoded data removed]"
     },
     "metadata": {},
     "output_type": "display_data"
    }
   ],
   "source": [
    "trt = df['trt'].value_counts().reset_index()\n",
    "trt.columns = ['trt', 'count']\n",
    "palette = cl.scales['11']['div']['PiYG']\n",
    "\n",
    "\n",
    "trt = df['trt'].value_counts().reset_index()\n",
    "trt.columns = ['trt', 'count']\n",
    "\n",
    "palette = cl.scales['11']['div']['PiYG']\n",
    "\n",
    "fig = go.Figure(data=[go.Pie(\n",
    "    labels=trt['trt'],\n",
    "    values=trt['count'],\n",
    "    hole=.4,\n",
    "    marker=dict(colors=palette, line=dict(color='#000000', width=2)),\n",
    "    hoverinfo=\"label+percent+value\",\n",
    "    textinfo=\"label+percent\",\n",
    "    textfont=dict(size=14, color='#FFFFFF')\n",
    ")])\n",
    "\n",
    "# Update layout for better appearance and set the background to black\n",
    "fig.update_layout(\n",
    "    title_text=\"Treatment Distribution\",\n",
    "    title_font_size=24,\n",
    "    title_font_family=\"Times New Roman\",\n",
    "    title_font_color=\"#f2ecda\",\n",
    "    paper_bgcolor='#2e2f32',\n",
    "    plot_bgcolor='#2e2f32',\n",
    "    annotations=[dict(text='Treatment', x=0.5, y=0.5, font_size=20, showarrow=False, font=dict(color=\"#f2ecda\"))],\n",
    "    showlegend=True,\n",
    "    legend_title_text='Treatment Types',\n",
    "    legend=dict(\n",
    "        x=0.8,\n",
    "        y=0.5,\n",
    "        traceorder='normal',\n",
    "        font=dict(\n",
    "            family=\"Arial\",\n",
    "            size=14,\n",
    "            color=\"#f2ecda\"\n",
    "        ),\n",
    "        bgcolor=\"#2e2f32\",\n",
    "        bordercolor=\"#FFFFFF\",\n",
    "        borderwidth=1,\n",
    "        orientation=\"h\"  # Change the legend orientation to horizontal\n",
    "    )\n",
    ")\n",
    "\n",
    "# Increase the width of the page\n",
    "fig.update_layout(width=1000)\n",
    "\n",
    "# Adding a more vibrant title and better spacing\n",
    "fig.update_layout(\n",
    "    title={\n",
    "        'text': \"Distribution of Different Treatments\",\n",
    "        'y':0.95,\n",
    "        'x':0.4,\n",
    "        'xanchor': 'center',\n",
    "        'yanchor': 'top'},\n",
    "    title_font_size=26,\n",
    "    margin=dict(l=50, r=50, t=80, b=50)\n",
    ")\n",
    "\n",
    "fig.add_annotation(\n",
    "    text=\"The majority of patients are receiving ZDV only or ZDV + ddI combination therapy.\",\n",
    "    x=0.5,\n",
    "    y=-0.10,\n",
    "    showarrow=False,\n",
    "    font=dict(color=\"#f2ecda\", size=14)\n",
    ")\n",
    "\n",
    "# Show the pie chart\n",
    "fig.show('png')"
   ]
  },
  {
   "cell_type": "markdown",
   "id": "6a7bc462",
   "metadata": {
    "papermill": {
     "duration": 0.00891,
     "end_time": "2024-05-28T04:44:33.577990",
     "exception": false,
     "start_time": "2024-05-28T04:44:33.569080",
     "status": "completed"
    },
    "tags": []
   },
   "source": []
  },
  {
   "cell_type": "code",
   "execution_count": 8,
   "id": "7f810dff",
   "metadata": {
    "execution": {
     "iopub.execute_input": "2024-05-28T04:44:33.598802Z",
     "iopub.status.busy": "2024-05-28T04:44:33.597999Z",
     "iopub.status.idle": "2024-05-28T04:44:33.609595Z",
     "shell.execute_reply": "2024-05-28T04:44:33.608182Z"
    },
    "papermill": {
     "duration": 0.024962,
     "end_time": "2024-05-28T04:44:33.612251",
     "exception": false,
     "start_time": "2024-05-28T04:44:33.587289",
     "status": "completed"
    },
    "tags": []
   },
   "outputs": [
    {
     "data": {
      "text/html": [
       "<div>\n",
       "<style scoped>\n",
       "    .dataframe tbody tr th:only-of-type {\n",
       "        vertical-align: middle;\n",
       "    }\n",
       "\n",
       "    .dataframe tbody tr th {\n",
       "        vertical-align: top;\n",
       "    }\n",
       "\n",
       "    .dataframe thead th {\n",
       "        text-align: right;\n",
       "    }\n",
       "</style>\n",
       "<table border=\"1\" class=\"dataframe\">\n",
       "  <thead>\n",
       "    <tr style=\"text-align: right;\">\n",
       "      <th></th>\n",
       "      <th>trt</th>\n",
       "      <th>count</th>\n",
       "    </tr>\n",
       "  </thead>\n",
       "  <tbody>\n",
       "    <tr>\n",
       "      <th>0</th>\n",
       "      <td>0</td>\n",
       "      <td>5550</td>\n",
       "    </tr>\n",
       "    <tr>\n",
       "      <th>1</th>\n",
       "      <td>3</td>\n",
       "      <td>4149</td>\n",
       "    </tr>\n",
       "    <tr>\n",
       "      <th>2</th>\n",
       "      <td>2</td>\n",
       "      <td>3182</td>\n",
       "    </tr>\n",
       "    <tr>\n",
       "      <th>3</th>\n",
       "      <td>1</td>\n",
       "      <td>2119</td>\n",
       "    </tr>\n",
       "  </tbody>\n",
       "</table>\n",
       "</div>"
      ],
      "text/plain": [
       "   trt  count\n",
       "0    0   5550\n",
       "1    3   4149\n",
       "2    2   3182\n",
       "3    1   2119"
      ]
     },
     "execution_count": 8,
     "metadata": {},
     "output_type": "execute_result"
    }
   ],
   "source": [
    "trt.head()"
   ]
  }
 ],
 "metadata": {
  "kaggle": {
   "accelerator": "none",
   "dataSources": [
    {
     "datasetId": 4890913,
     "sourceId": 8249624,
     "sourceType": "datasetVersion"
    }
   ],
   "dockerImageVersionId": 30698,
   "isGpuEnabled": false,
   "isInternetEnabled": true,
   "language": "python",
   "sourceType": "notebook"
  },
  "kernelspec": {
   "display_name": "Python 3",
   "language": "python",
   "name": "python3"
  },
  "language_info": {
   "codemirror_mode": {
    "name": "ipython",
    "version": 3
   },
   "file_extension": ".py",
   "mimetype": "text/x-python",
   "name": "python",
   "nbconvert_exporter": "python",
   "pygments_lexer": "ipython3",
   "version": "3.10.13"
  },
  "papermill": {
   "default_parameters": {},
   "duration": 29.713127,
   "end_time": "2024-05-28T04:44:36.244815",
   "environment_variables": {},
   "exception": null,
   "input_path": "__notebook__.ipynb",
   "output_path": "__notebook__.ipynb",
   "parameters": {},
   "start_time": "2024-05-28T04:44:06.531688",
   "version": "2.5.0"
  }
 },
 "nbformat": 4,
 "nbformat_minor": 5
}
