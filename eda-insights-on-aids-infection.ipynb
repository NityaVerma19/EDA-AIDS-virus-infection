{
 "cells": [
  {
   "cell_type": "markdown",
   "id": "a62a5176",
   "metadata": {
    "papermill": {
     "duration": 0.032914,
     "end_time": "2024-05-30T17:02:23.814419",
     "exception": false,
     "start_time": "2024-05-30T17:02:23.781505",
     "status": "completed"
    },
    "tags": []
   },
   "source": [
    "## <div style=\"text-align: center;  font-family: Tahoma; padding: 14px; line-height: 1;font-size : 30px\"> <b> AIDS VIRUS INFECTION : EDA</b></div>"
   ]
  },
  {
   "cell_type": "markdown",
   "id": "035e9a74",
   "metadata": {
    "papermill": {
     "duration": 0.033838,
     "end_time": "2024-05-30T17:02:23.882655",
     "exception": false,
     "start_time": "2024-05-30T17:02:23.848817",
     "status": "completed"
    },
    "tags": []
   },
   "source": [
    "![aids.jpg](https://media.post.rvohealth.io/wp-content/uploads/sites/3/2020/10/HIV_AIDS_GettyImages1178747427_Thumb-732x549.jpg)"
   ]
  },
  {
   "cell_type": "markdown",
   "id": "e87cb05c",
   "metadata": {
    "papermill": {
     "duration": 0.033219,
     "end_time": "2024-05-30T17:02:23.948698",
     "exception": false,
     "start_time": "2024-05-30T17:02:23.915479",
     "status": "completed"
    },
    "tags": []
   },
   "source": [
    "<p style=\"font-size: 18px;\"><b>Purpose</b></p>\n",
    "\n",
    "The primary aim of performing Exploratory Data Analysis (EDA) on an AIDS virus infection dataset is to gain insights into the patterns, trends, and characteristics of the spread of the virus. EDA allows researchers, public health officials, and policymakers to understand the dynamics of AIDS virus transmission, identify high-risk populations or regions, and assess the effectiveness of prevention and treatment efforts. By exploring the data through techniques such as visualization, summary statistics, and hypothesis testing, EDA helps in uncovering important relationships between variables such as demographics, risk behaviors, and disease outcomes. Furthermore, EDA plays a critical role in detecting anomalies or outliers in the data, which may indicate areas of concern or areas requiring further investigation. Ultimately, the insights gained from EDA inform evidence-based decision-making, resource allocation, and intervention strategies aimed at mitigating the impact of AIDS virus infection on individuals and communities."
   ]
  },
  {
   "cell_type": "markdown",
   "id": "486b0bd2",
   "metadata": {
    "papermill": {
     "duration": 0.032702,
     "end_time": "2024-05-30T17:02:24.017400",
     "exception": false,
     "start_time": "2024-05-30T17:02:23.984698",
     "status": "completed"
    },
    "tags": []
   },
   "source": [
    "## Importing libraries"
   ]
  },
  {
   "cell_type": "code",
   "execution_count": 1,
   "id": "168a1834",
   "metadata": {
    "_cell_guid": "b1076dfc-b9ad-4769-8c92-a6c4dae69d19",
    "_uuid": "8f2839f25d086af736a60e9eeb907d3b93b6e0e5",
    "execution": {
     "iopub.execute_input": "2024-05-30T17:02:24.086768Z",
     "iopub.status.busy": "2024-05-30T17:02:24.086360Z",
     "iopub.status.idle": "2024-05-30T17:02:25.251475Z",
     "shell.execute_reply": "2024-05-30T17:02:25.248995Z"
    },
    "papermill": {
     "duration": 1.204331,
     "end_time": "2024-05-30T17:02:25.254917",
     "exception": false,
     "start_time": "2024-05-30T17:02:24.050586",
     "status": "completed"
    },
    "tags": []
   },
   "outputs": [
    {
     "name": "stdout",
     "output_type": "stream",
     "text": [
      "/kaggle/input/aids-virus-infection-prediction/AIDS_Classification_15000.csv\n",
      "/kaggle/input/aids-virus-infection-prediction/AIDS_Classification_50000.csv\n",
      "/kaggle/input/aids-virus-infection-prediction/AIDS_Classification.csv\n",
      "/kaggle/input/aids-virus-infection-prediction/AIDS_Classification_5000.csv\n"
     ]
    }
   ],
   "source": [
    "# This Python 3 environment comes with many helpful analytics libraries installed\n",
    "# It is defined by the kaggle/python Docker image: https://github.com/kaggle/docker-python\n",
    "# For example, here's several helpful packages to load\n",
    "\n",
    "import numpy as np # linear algebra\n",
    "import pandas as pd # data processing, CSV file I/O (e.g. pd.read_csv)\n",
    "import plotly.graph_objects as go\n",
    "import colorlover as cl\n",
    "# Input data files are available in the read-only \"../input/\" directory\n",
    "# For example, running this (by clicking run or pressing Shift+Enter) will list all files under the input directory\n",
    "\n",
    "import os\n",
    "for dirname, _, filenames in os.walk('/kaggle/input'):\n",
    "    for filename in filenames:\n",
    "        print(os.path.join(dirname, filename))\n",
    "\n",
    "# You can write up to 20GB to the current directory (/kaggle/working/) that gets preserved as output when you create a version using \"Save & Run All\" \n",
    "# You can also write temporary files to /kaggle/temp/, but they won't be saved outside of the current session"
   ]
  },
  {
   "cell_type": "code",
   "execution_count": 2,
   "id": "85b5e855",
   "metadata": {
    "execution": {
     "iopub.execute_input": "2024-05-30T17:02:25.325394Z",
     "iopub.status.busy": "2024-05-30T17:02:25.324443Z",
     "iopub.status.idle": "2024-05-30T17:02:47.059791Z",
     "shell.execute_reply": "2024-05-30T17:02:47.058178Z"
    },
    "papermill": {
     "duration": 21.775171,
     "end_time": "2024-05-30T17:02:47.064261",
     "exception": false,
     "start_time": "2024-05-30T17:02:25.289090",
     "status": "completed"
    },
    "tags": []
   },
   "outputs": [
    {
     "name": "stdout",
     "output_type": "stream",
     "text": [
      "Collecting kaleido\r\n",
      "  Downloading kaleido-0.2.1-py2.py3-none-manylinux1_x86_64.whl.metadata (15 kB)\r\n",
      "Downloading kaleido-0.2.1-py2.py3-none-manylinux1_x86_64.whl (79.9 MB)\r\n",
      "\u001b[2K   \u001b[90m━━━━━━━━━━━━━━━━━━━━━━━━━━━━━━━━━━━━━━━━\u001b[0m \u001b[32m79.9/79.9 MB\u001b[0m \u001b[31m17.8 MB/s\u001b[0m eta \u001b[36m0:00:00\u001b[0m\r\n",
      "\u001b[?25hInstalling collected packages: kaleido\r\n",
      "Successfully installed kaleido-0.2.1\r\n"
     ]
    }
   ],
   "source": [
    "! pip install -U kaleido"
   ]
  },
  {
   "cell_type": "code",
   "execution_count": 3,
   "id": "1e9c2ecd",
   "metadata": {
    "execution": {
     "iopub.execute_input": "2024-05-30T17:02:47.154213Z",
     "iopub.status.busy": "2024-05-30T17:02:47.153485Z",
     "iopub.status.idle": "2024-05-30T17:02:47.248192Z",
     "shell.execute_reply": "2024-05-30T17:02:47.246880Z"
    },
    "papermill": {
     "duration": 0.146012,
     "end_time": "2024-05-30T17:02:47.251238",
     "exception": false,
     "start_time": "2024-05-30T17:02:47.105226",
     "status": "completed"
    },
    "tags": []
   },
   "outputs": [],
   "source": [
    "df = pd.read_csv(\"/kaggle/input/aids-virus-infection-prediction/AIDS_Classification_15000.csv\")"
   ]
  },
  {
   "cell_type": "code",
   "execution_count": 4,
   "id": "393f9628",
   "metadata": {
    "execution": {
     "iopub.execute_input": "2024-05-30T17:02:47.326569Z",
     "iopub.status.busy": "2024-05-30T17:02:47.325736Z",
     "iopub.status.idle": "2024-05-30T17:02:47.372630Z",
     "shell.execute_reply": "2024-05-30T17:02:47.371140Z"
    },
    "papermill": {
     "duration": 0.08748,
     "end_time": "2024-05-30T17:02:47.375725",
     "exception": false,
     "start_time": "2024-05-30T17:02:47.288245",
     "status": "completed"
    },
    "tags": []
   },
   "outputs": [
    {
     "data": {
      "text/html": [
       "<div>\n",
       "<style scoped>\n",
       "    .dataframe tbody tr th:only-of-type {\n",
       "        vertical-align: middle;\n",
       "    }\n",
       "\n",
       "    .dataframe tbody tr th {\n",
       "        vertical-align: top;\n",
       "    }\n",
       "\n",
       "    .dataframe thead th {\n",
       "        text-align: right;\n",
       "    }\n",
       "</style>\n",
       "<table border=\"1\" class=\"dataframe\">\n",
       "  <thead>\n",
       "    <tr style=\"text-align: right;\">\n",
       "      <th></th>\n",
       "      <th>time</th>\n",
       "      <th>trt</th>\n",
       "      <th>age</th>\n",
       "      <th>wtkg</th>\n",
       "      <th>hemo</th>\n",
       "      <th>homo</th>\n",
       "      <th>drugs</th>\n",
       "      <th>karnof</th>\n",
       "      <th>oprior</th>\n",
       "      <th>z30</th>\n",
       "      <th>...</th>\n",
       "      <th>str2</th>\n",
       "      <th>strat</th>\n",
       "      <th>symptom</th>\n",
       "      <th>treat</th>\n",
       "      <th>offtrt</th>\n",
       "      <th>cd40</th>\n",
       "      <th>cd420</th>\n",
       "      <th>cd80</th>\n",
       "      <th>cd820</th>\n",
       "      <th>infected</th>\n",
       "    </tr>\n",
       "  </thead>\n",
       "  <tbody>\n",
       "    <tr>\n",
       "      <th>0</th>\n",
       "      <td>1108</td>\n",
       "      <td>1</td>\n",
       "      <td>37</td>\n",
       "      <td>88.11364</td>\n",
       "      <td>0</td>\n",
       "      <td>1</td>\n",
       "      <td>1</td>\n",
       "      <td>100</td>\n",
       "      <td>0</td>\n",
       "      <td>1</td>\n",
       "      <td>...</td>\n",
       "      <td>1</td>\n",
       "      <td>1</td>\n",
       "      <td>0</td>\n",
       "      <td>0</td>\n",
       "      <td>0</td>\n",
       "      <td>389</td>\n",
       "      <td>320</td>\n",
       "      <td>734</td>\n",
       "      <td>737</td>\n",
       "      <td>1</td>\n",
       "    </tr>\n",
       "    <tr>\n",
       "      <th>1</th>\n",
       "      <td>1079</td>\n",
       "      <td>0</td>\n",
       "      <td>43</td>\n",
       "      <td>66.77075</td>\n",
       "      <td>0</td>\n",
       "      <td>0</td>\n",
       "      <td>0</td>\n",
       "      <td>100</td>\n",
       "      <td>0</td>\n",
       "      <td>1</td>\n",
       "      <td>...</td>\n",
       "      <td>0</td>\n",
       "      <td>2</td>\n",
       "      <td>0</td>\n",
       "      <td>1</td>\n",
       "      <td>1</td>\n",
       "      <td>318</td>\n",
       "      <td>432</td>\n",
       "      <td>912</td>\n",
       "      <td>1213</td>\n",
       "      <td>0</td>\n",
       "    </tr>\n",
       "    <tr>\n",
       "      <th>2</th>\n",
       "      <td>492</td>\n",
       "      <td>1</td>\n",
       "      <td>34</td>\n",
       "      <td>82.91725</td>\n",
       "      <td>0</td>\n",
       "      <td>0</td>\n",
       "      <td>0</td>\n",
       "      <td>90</td>\n",
       "      <td>0</td>\n",
       "      <td>1</td>\n",
       "      <td>...</td>\n",
       "      <td>1</td>\n",
       "      <td>2</td>\n",
       "      <td>0</td>\n",
       "      <td>1</td>\n",
       "      <td>1</td>\n",
       "      <td>326</td>\n",
       "      <td>524</td>\n",
       "      <td>660</td>\n",
       "      <td>835</td>\n",
       "      <td>0</td>\n",
       "    </tr>\n",
       "    <tr>\n",
       "      <th>3</th>\n",
       "      <td>1191</td>\n",
       "      <td>1</td>\n",
       "      <td>41</td>\n",
       "      <td>98.91817</td>\n",
       "      <td>0</td>\n",
       "      <td>0</td>\n",
       "      <td>0</td>\n",
       "      <td>81</td>\n",
       "      <td>0</td>\n",
       "      <td>1</td>\n",
       "      <td>...</td>\n",
       "      <td>1</td>\n",
       "      <td>3</td>\n",
       "      <td>0</td>\n",
       "      <td>1</td>\n",
       "      <td>0</td>\n",
       "      <td>318</td>\n",
       "      <td>232</td>\n",
       "      <td>1131</td>\n",
       "      <td>982</td>\n",
       "      <td>1</td>\n",
       "    </tr>\n",
       "    <tr>\n",
       "      <th>4</th>\n",
       "      <td>1141</td>\n",
       "      <td>3</td>\n",
       "      <td>47</td>\n",
       "      <td>53.61717</td>\n",
       "      <td>0</td>\n",
       "      <td>1</td>\n",
       "      <td>0</td>\n",
       "      <td>100</td>\n",
       "      <td>0</td>\n",
       "      <td>0</td>\n",
       "      <td>...</td>\n",
       "      <td>0</td>\n",
       "      <td>1</td>\n",
       "      <td>0</td>\n",
       "      <td>1</td>\n",
       "      <td>0</td>\n",
       "      <td>280</td>\n",
       "      <td>337</td>\n",
       "      <td>515</td>\n",
       "      <td>679</td>\n",
       "      <td>0</td>\n",
       "    </tr>\n",
       "  </tbody>\n",
       "</table>\n",
       "<p>5 rows × 23 columns</p>\n",
       "</div>"
      ],
      "text/plain": [
       "   time  trt  age      wtkg  hemo  homo  drugs  karnof  oprior  z30  ...  \\\n",
       "0  1108    1   37  88.11364     0     1      1     100       0    1  ...   \n",
       "1  1079    0   43  66.77075     0     0      0     100       0    1  ...   \n",
       "2   492    1   34  82.91725     0     0      0      90       0    1  ...   \n",
       "3  1191    1   41  98.91817     0     0      0      81       0    1  ...   \n",
       "4  1141    3   47  53.61717     0     1      0     100       0    0  ...   \n",
       "\n",
       "   str2  strat  symptom  treat  offtrt  cd40  cd420  cd80  cd820  infected  \n",
       "0     1      1        0      0       0   389    320   734    737         1  \n",
       "1     0      2        0      1       1   318    432   912   1213         0  \n",
       "2     1      2        0      1       1   326    524   660    835         0  \n",
       "3     1      3        0      1       0   318    232  1131    982         1  \n",
       "4     0      1        0      1       0   280    337   515    679         0  \n",
       "\n",
       "[5 rows x 23 columns]"
      ]
     },
     "execution_count": 4,
     "metadata": {},
     "output_type": "execute_result"
    }
   ],
   "source": [
    "df.head()"
   ]
  },
  {
   "cell_type": "code",
   "execution_count": 5,
   "id": "9f8836e0",
   "metadata": {
    "execution": {
     "iopub.execute_input": "2024-05-30T17:02:47.449025Z",
     "iopub.status.busy": "2024-05-30T17:02:47.448574Z",
     "iopub.status.idle": "2024-05-30T17:02:47.460894Z",
     "shell.execute_reply": "2024-05-30T17:02:47.459370Z"
    },
    "papermill": {
     "duration": 0.052352,
     "end_time": "2024-05-30T17:02:47.463717",
     "exception": false,
     "start_time": "2024-05-30T17:02:47.411365",
     "status": "completed"
    },
    "tags": []
   },
   "outputs": [
    {
     "data": {
      "text/plain": [
       "time        0\n",
       "trt         0\n",
       "age         0\n",
       "wtkg        0\n",
       "hemo        0\n",
       "homo        0\n",
       "drugs       0\n",
       "karnof      0\n",
       "oprior      0\n",
       "z30         0\n",
       "preanti     0\n",
       "race        0\n",
       "gender      0\n",
       "str2        0\n",
       "strat       0\n",
       "symptom     0\n",
       "treat       0\n",
       "offtrt      0\n",
       "cd40        0\n",
       "cd420       0\n",
       "cd80        0\n",
       "cd820       0\n",
       "infected    0\n",
       "dtype: int64"
      ]
     },
     "execution_count": 5,
     "metadata": {},
     "output_type": "execute_result"
    }
   ],
   "source": [
    "df.isnull().sum()"
   ]
  },
  {
   "cell_type": "markdown",
   "id": "ce3dede0",
   "metadata": {
    "papermill": {
     "duration": 0.034967,
     "end_time": "2024-05-30T17:02:47.535627",
     "exception": false,
     "start_time": "2024-05-30T17:02:47.500660",
     "status": "completed"
    },
    "tags": []
   },
   "source": [
    "## <div style=\"text-align: center\"> <b>UNIVARIATE ANALYSIS</b></div>"
   ]
  },
  {
   "cell_type": "markdown",
   "id": "d4542222",
   "metadata": {
    "papermill": {
     "duration": 0.038347,
     "end_time": "2024-05-30T17:02:47.678740",
     "exception": false,
     "start_time": "2024-05-30T17:02:47.640393",
     "status": "completed"
    },
    "tags": []
   },
   "source": [
    "## trt: Treatment Indicator\n",
    "\n",
    "***About***\n",
    "<div>\n",
    "    <p>\n",
    "        The treatment indicator provides information about the type of antiretroviral treatment regimen patients in the dataset are receiving:\n",
    "    </p>\n",
    "    <ul>\n",
    "        <li>0 = ZDV only\n",
    "            <ul>\n",
    "                <li>Patients with this indicator are being treated only with Zidovudine (ZDV), also known as AZT.</li>\n",
    "            </ul>\n",
    "        </li>\n",
    "        <li>1 = ZDV + ddI\n",
    "            <ul>\n",
    "                <li>Patients with this indicator are being treated with a combination of Zidovudine (ZDV) and Didanosine (ddI). The combination therapy is often used to enhance the efficacy of treatment by using drugs with different mechanisms of action.</li>\n",
    "            </ul>\n",
    "        </li>\n",
    "        <li>2 = ZDV + Zal\n",
    "            <ul>\n",
    "                <li>Patients with this indicator are being treated with a combination of Zidovudine (ZDV) and Zalcitabine (Zal). The combination of ZDV and Zal is another strategy to improve treatment effectiveness and delay the progression of the disease.</li>\n",
    "            </ul>\n",
    "        </li>\n",
    "        <li>3 = ddI only\n",
    "            <ul>\n",
    "                <li>Patients with this indicator are being treated only with Didanosine (ddI). This might be an alternative regimen for patients who cannot tolerate ZDV or for whom ZDV is not effective.</li>\n",
    "            </ul>\n",
    "        </li>\n",
    "    </ul>\n",
    "</div>\n",
    "\n",
    "\n",
    "***Conclusions***"
   ]
  },
  {
   "cell_type": "code",
   "execution_count": 6,
   "id": "e1da3e63",
   "metadata": {
    "execution": {
     "iopub.execute_input": "2024-05-30T17:02:47.754584Z",
     "iopub.status.busy": "2024-05-30T17:02:47.753779Z",
     "iopub.status.idle": "2024-05-30T17:02:47.770145Z",
     "shell.execute_reply": "2024-05-30T17:02:47.768907Z"
    },
    "papermill": {
     "duration": 0.056963,
     "end_time": "2024-05-30T17:02:47.772747",
     "exception": false,
     "start_time": "2024-05-30T17:02:47.715784",
     "status": "completed"
    },
    "tags": []
   },
   "outputs": [
    {
     "data": {
      "text/plain": [
       "trt\n",
       "0    5550\n",
       "3    4149\n",
       "2    3182\n",
       "1    2119\n",
       "Name: count, dtype: int64"
      ]
     },
     "execution_count": 6,
     "metadata": {},
     "output_type": "execute_result"
    }
   ],
   "source": [
    "df['trt'].value_counts()"
   ]
  },
  {
   "cell_type": "code",
   "execution_count": 7,
   "id": "08406e34",
   "metadata": {
    "execution": {
     "iopub.execute_input": "2024-05-30T17:02:47.849392Z",
     "iopub.status.busy": "2024-05-30T17:02:47.848628Z",
     "iopub.status.idle": "2024-05-30T17:02:50.271481Z",
     "shell.execute_reply": "2024-05-30T17:02:50.269951Z"
    },
    "papermill": {
     "duration": 2.464754,
     "end_time": "2024-05-30T17:02:50.274325",
     "exception": false,
     "start_time": "2024-05-30T17:02:47.809571",
     "status": "completed"
    },
    "tags": []
   },
   "outputs": [
    {
     "data": {
      "image/svg+xml": [
       "<svg class=\"main-svg\" xmlns=\"http://www.w3.org/2000/svg\" xmlns:xlink=\"http://www.w3.org/1999/xlink\" width=\"1000\" height=\"500\" style=\"\" viewBox=\"0 0 1000 500\"><rect x=\"0\" y=\"0\" width=\"1000\" height=\"500\" style=\"fill: rgb(255, 255, 255); fill-opacity: 1;\"/><defs id=\"defs-15e5ec\"><g class=\"clips\"/><g class=\"gradients\"/><g class=\"patterns\"/></defs><g class=\"bglayer\"/><g class=\"layer-below\"><g class=\"imagelayer\"/><g class=\"shapelayer\"/></g><g class=\"cartesianlayer\"/><g class=\"polarlayer\"/><g class=\"smithlayer\"/><g class=\"ternarylayer\"/><g class=\"geolayer\"/><g class=\"funnelarealayer\"/><g class=\"pielayer\"><g class=\"trace\" stroke-linejoin=\"round\" style=\"opacity: 1;\"><g class=\"slice\"><path class=\"surface\" d=\"M471.4436784291845,315.6564858387229a74,74 0 0 0 -53.94367842918447,-124.65648583872294l0,-111a185,185 0 0 1 134.85919607296117,311.64121459680734Z\" style=\"pointer-events: none; fill: rgb(142, 1, 82); fill-opacity: 1; stroke-width: 2; stroke: rgb(0, 0, 0); stroke-opacity: 1;\"/><g class=\"slicetext\"><text data-notex=\"1\" class=\"slicetext\" transform=\"translate(536.3492240260755,209.4677856627959)\" text-anchor=\"middle\" x=\"0\" y=\"0\" style=\"font-family: 'Open Sans', verdana, arial, sans-serif; font-size: 14px; fill: rgb(0, 0, 0); fill-opacity: 1; white-space: pre;\"><tspan class=\"line\" dy=\"0em\" x=\"0\" y=\"0\">0</tspan><tspan class=\"line\" dy=\"1.3em\" x=\"0\" y=\"0\">37%</tspan></text></g></g><g class=\"slice\"><path class=\"surface\" d=\"M417.5,191a74,74 0 0 0 -72.9688696807397,86.31032320921048l-109.45330452110956,18.465484813815706a185,185 0 0 1 182.42217420184926,-215.77580802302617Z\" style=\"pointer-events: none; fill: rgb(197, 27, 125); fill-opacity: 1; stroke-width: 2; stroke: rgb(0, 0, 0); stroke-opacity: 1;\"/><g class=\"slicetext\"><text data-notex=\"1\" class=\"slicetext\" transform=\"translate(318.6059228333483,177.29095277909516)\" text-anchor=\"middle\" x=\"0\" y=\"0\" style=\"font-family: 'Open Sans', verdana, arial, sans-serif; font-size: 14px; fill: rgb(0, 0, 0); fill-opacity: 1; white-space: pre;\"><tspan class=\"line\" dy=\"0em\" x=\"0\" y=\"0\">3</tspan><tspan class=\"line\" dy=\"1.3em\" x=\"0\" y=\"0\">27.7%</tspan></text></g></g><g class=\"slice\"><path class=\"surface\" d=\"M344.5311303192603,277.3103232092105a74,74 0 0 0 67.73474284011012,61.50433601384766l-7.851190260944385,110.7219888345872a185,185 0 0 1 -169.3368571002753,-153.76084003461915Z\" style=\"pointer-events: none; fill: rgb(222, 119, 174); fill-opacity: 1; stroke-width: 2; stroke: rgb(0, 0, 0); stroke-opacity: 1;\"/><g class=\"slicetext\"><text data-notex=\"1\" class=\"slicetext\" transform=\"translate(330.4452301836427,356.77188039333225)\" text-anchor=\"middle\" x=\"0\" y=\"0\" style=\"font-family: 'Open Sans', verdana, arial, sans-serif; font-size: 14px; fill: rgb(0, 0, 0); fill-opacity: 1; white-space: pre;\"><tspan class=\"line\" dy=\"0em\" x=\"0\" y=\"0\">2</tspan><tspan class=\"line\" dy=\"1.3em\" x=\"0\" y=\"0\">21.2%</tspan></text></g></g><g class=\"slice\"><path class=\"surface\" d=\"M412.2658731593704,338.81465922305813a74,74 0 0 0 59.177805269814044,-23.158173384335175l80.91551764377668,75.98472875808443a185,185 0 0 1 -147.9445131745351,57.895433460837936Z\" style=\"pointer-events: none; fill: rgb(241, 182, 218); fill-opacity: 1; stroke-width: 2; stroke: rgb(0, 0, 0); stroke-opacity: 1;\"/><g class=\"slicetext\"><text data-notex=\"1\" class=\"slicetext\" transform=\"translate(464.69261546980795,381.4932427161404)\" text-anchor=\"middle\" x=\"0\" y=\"0\" style=\"font-family: 'Open Sans', verdana, arial, sans-serif; font-size: 14px; fill: rgb(0, 0, 0); fill-opacity: 1; white-space: pre;\"><tspan class=\"line\" dy=\"0em\" x=\"0\" y=\"0\">1</tspan><tspan class=\"line\" dy=\"1.3em\" x=\"0\" y=\"0\">14.1%</tspan></text></g></g></g></g><g class=\"iciclelayer\"/><g class=\"treemaplayer\"/><g class=\"sunburstlayer\"/><g class=\"glimages\"/><defs id=\"topdefs-15e5ec\"><g class=\"clips\"/><clipPath id=\"legend15e5ec\"><rect width=\"349\" height=\"33\" x=\"0.5\" y=\"0.5\"/></clipPath></defs><g class=\"layer-above\"><g class=\"imagelayer\"/><g class=\"shapelayer\"/></g><g class=\"infolayer\"><g class=\"legend\" pointer-events=\"all\" transform=\"translate(638,265)\"><rect class=\"bg\" shape-rendering=\"crispEdges\" style=\"stroke: rgb(0, 0, 0); stroke-opacity: 1; fill: rgb(255, 255, 255); fill-opacity: 1; stroke-width: 0.5px;\" width=\"349.5\" height=\"33.5\" x=\"0.25\" y=\"0.25\"/><g class=\"scrollbox\" transform=\"\" clip-path=\"url(#legend15e5ec)\"><text class=\"legendtitletext\" text-anchor=\"start\" x=\"2.5\" y=\"22.6\" style=\"font-family: Arial; font-size: 17px; fill: rgb(0, 0, 0); fill-opacity: 1; white-space: pre;\">Treatment Types</text><g class=\"groups\"><g class=\"traces\" transform=\"translate(137.421875,16.1)\" style=\"opacity: 1;\"><text class=\"legendtext\" text-anchor=\"start\" x=\"40\" y=\"5.46\" style=\"font-family: Arial; font-size: 14px; fill: rgb(0, 0, 0); fill-opacity: 1; white-space: pre;\">0</text><g class=\"layers\" style=\"opacity: 1;\"><g class=\"legendfill\"/><g class=\"legendlines\"/><g class=\"legendsymbols\"><g class=\"legendpoints\"><path class=\"legendpie\" d=\"M6,6H-6V-6H6Z\" transform=\"translate(20,0)\" style=\"fill: rgb(142, 1, 82); fill-opacity: 1; stroke-width: 2; stroke: rgb(0, 0, 0); stroke-opacity: 1;\"/></g></g></g><rect class=\"legendtoggle\" x=\"0\" y=\"-10.6\" width=\"50.5\" height=\"21.2\" style=\"fill: rgb(0, 0, 0); fill-opacity: 0;\"/></g><g class=\"traces\" transform=\"translate(190.421875,16.1)\" style=\"opacity: 1;\"><text class=\"legendtext\" text-anchor=\"start\" x=\"40\" y=\"5.46\" style=\"font-family: Arial; font-size: 14px; fill: rgb(0, 0, 0); fill-opacity: 1; white-space: pre;\">3</text><g class=\"layers\" style=\"opacity: 1;\"><g class=\"legendfill\"/><g class=\"legendlines\"/><g class=\"legendsymbols\"><g class=\"legendpoints\"><path class=\"legendpie\" d=\"M6,6H-6V-6H6Z\" transform=\"translate(20,0)\" style=\"fill: rgb(197, 27, 125); fill-opacity: 1; stroke-width: 2; stroke: rgb(0, 0, 0); stroke-opacity: 1;\"/></g></g></g><rect class=\"legendtoggle\" x=\"0\" y=\"-10.6\" width=\"50.5\" height=\"21.2\" style=\"fill: rgb(0, 0, 0); fill-opacity: 0;\"/></g><g class=\"traces\" transform=\"translate(243.421875,16.1)\" style=\"opacity: 1;\"><text class=\"legendtext\" text-anchor=\"start\" x=\"40\" y=\"5.46\" style=\"font-family: Arial; font-size: 14px; fill: rgb(0, 0, 0); fill-opacity: 1; white-space: pre;\">2</text><g class=\"layers\" style=\"opacity: 1;\"><g class=\"legendfill\"/><g class=\"legendlines\"/><g class=\"legendsymbols\"><g class=\"legendpoints\"><path class=\"legendpie\" d=\"M6,6H-6V-6H6Z\" transform=\"translate(20,0)\" style=\"fill: rgb(222, 119, 174); fill-opacity: 1; stroke-width: 2; stroke: rgb(0, 0, 0); stroke-opacity: 1;\"/></g></g></g><rect class=\"legendtoggle\" x=\"0\" y=\"-10.6\" width=\"50.5\" height=\"21.2\" style=\"fill: rgb(0, 0, 0); fill-opacity: 0;\"/></g><g class=\"traces\" transform=\"translate(296.421875,16.1)\" style=\"opacity: 1;\"><text class=\"legendtext\" text-anchor=\"start\" x=\"40\" y=\"5.46\" style=\"font-family: Arial; font-size: 14px; fill: rgb(0, 0, 0); fill-opacity: 1; white-space: pre;\">1</text><g class=\"layers\" style=\"opacity: 1;\"><g class=\"legendfill\"/><g class=\"legendlines\"/><g class=\"legendsymbols\"><g class=\"legendpoints\"><path class=\"legendpie\" d=\"M6,6H-6V-6H6Z\" transform=\"translate(20,0)\" style=\"fill: rgb(241, 182, 218); fill-opacity: 1; stroke-width: 2; stroke: rgb(0, 0, 0); stroke-opacity: 1;\"/></g></g></g><rect class=\"legendtoggle\" x=\"0\" y=\"-10.6\" width=\"50.5\" height=\"21.2\" style=\"fill: rgb(0, 0, 0); fill-opacity: 0;\"/></g></g></g><rect class=\"scrollbar\" rx=\"20\" ry=\"3\" width=\"0\" height=\"0\" style=\"fill: rgb(128, 139, 164); fill-opacity: 1;\" x=\"0\" y=\"0\"/></g><g class=\"g-gtitle\"><text class=\"gtitle\" x=\"500\" y=\"25\" text-anchor=\"middle\" dy=\"0.7em\" style=\"font-family: 'Times New Roman'; font-size: 26px; fill: rgb(0, 0, 0); opacity: 1; font-weight: normal; white-space: pre;\">Distribution of Different Treatments</text></g><g class=\"annotation\" data-index=\"0\" style=\"opacity: 1;\"><g class=\"annotation-text-g\" transform=\"rotate(0,417.5,265)\"><g class=\"cursor-pointer\" transform=\"translate(370,252)\"><rect class=\"bg\" x=\"0.5\" y=\"0.5\" width=\"94\" height=\"25\" style=\"stroke-width: 1px; stroke: rgb(0, 0, 0); stroke-opacity: 0; fill: rgb(0, 0, 0); fill-opacity: 0;\"/><text class=\"annotation-text\" text-anchor=\"middle\" x=\"47.203125\" y=\"20\" style=\"font-family: 'Open Sans', verdana, arial, sans-serif; font-size: 20px; fill: rgb(0, 0, 0); fill-opacity: 1; white-space: pre;\">Treatment</text></g></g></g><g class=\"annotation\" data-index=\"1\" style=\"opacity: 1;\"><g class=\"annotation-text-g\" transform=\"rotate(0,417.5,477.00000000000006)\"><g class=\"cursor-pointer\" transform=\"translate(234,467)\"><rect class=\"bg\" x=\"0.5\" y=\"0.5\" width=\"366\" height=\"19\" style=\"stroke-width: 1px; stroke: rgb(0, 0, 0); stroke-opacity: 0; fill: rgb(0, 0, 0); fill-opacity: 0;\"/><text class=\"annotation-text\" text-anchor=\"middle\" x=\"183.5625\" y=\"15\" style=\"font-family: 'Open Sans', verdana, arial, sans-serif; font-size: 14px; fill: rgb(0, 0, 0); fill-opacity: 1; white-space: pre;\">The majority of patients are receiving ZDV only or ddI only.</text></g></g></g></g></svg>"
      ]
     },
     "metadata": {},
     "output_type": "display_data"
    }
   ],
   "source": [
    "trt = df['trt'].value_counts().reset_index()\n",
    "trt.columns = ['trt', 'count']\n",
    "\n",
    "# Choose a diverging palette\n",
    "palette = cl.scales['11']['div']['PiYG']\n",
    "\n",
    "# Create the pie chart\n",
    "fig = go.Figure(data=[go.Pie(\n",
    "    labels=trt['trt'],\n",
    "    values=trt['count'],\n",
    "    hole=.4,\n",
    "    marker=dict(colors=palette, line=dict(color='#000000', width=2)),\n",
    "    hoverinfo=\"label+percent+value\",\n",
    "    textinfo=\"label+percent\",\n",
    "    textfont=dict(size=14, color='#000000')  # Adjust text color\n",
    ")])\n",
    "\n",
    "# Update layout\n",
    "fig.update_layout(\n",
    "    title_text=\"Treatment Distribution\",\n",
    "    title_font_size=24,\n",
    "    title_font_family=\"Times New Roman\",\n",
    "    title_font_color=\"#000000\", \n",
    "    paper_bgcolor='#ffffff',  \n",
    "    plot_bgcolor='#ffffff',  \n",
    "    annotations=[dict(text='Treatment', x=0.5, y=0.5, font_size=20, showarrow=False, font=dict(color=\"#000000\"))],\n",
    "    showlegend=True,\n",
    "    legend_title_text='Treatment Types',\n",
    "    legend=dict(\n",
    "        x=0.8,\n",
    "        y=0.5,\n",
    "        traceorder='normal',\n",
    "        font=dict(\n",
    "            family=\"Arial\",\n",
    "            size=14,\n",
    "            color=\"#000000\"  \n",
    "        ),\n",
    "        bgcolor=\"#ffffff\",  \n",
    "        bordercolor=\"#000000\",  \n",
    "        borderwidth=0.5,\n",
    "        orientation=\"h\"  \n",
    "    )\n",
    ")\n",
    "\n",
    "# Increase the width of the page\n",
    "fig.update_layout(width=1000)\n",
    "\n",
    "# Adding a more vibrant title and better spacing\n",
    "fig.update_layout(\n",
    "    title={\n",
    "        'text': \"Distribution of Different Treatments\",\n",
    "        'y':0.95,\n",
    "        'x':0.5,\n",
    "        'xanchor': 'center',\n",
    "        'yanchor': 'top'},\n",
    "    title_font_size=26,\n",
    "    margin=dict(l=50, r=50, t=80, b=50)\n",
    ")\n",
    "\n",
    "# Add observation/interpretation\n",
    "fig.add_annotation(\n",
    "    text=\"The majority of patients are receiving ZDV only or ddI only.\",\n",
    "    x=0.5,\n",
    "    y=-0.1,\n",
    "    showarrow=False,\n",
    "    font=dict(color=\"#000000\", size=14)  # Adjust text color\n",
    ")\n",
    "\n",
    "# Show the pie chart\n",
    "fig.show('svg')"
   ]
  },
  {
   "cell_type": "markdown",
   "id": "8886aabf",
   "metadata": {
    "papermill": {
     "duration": 0.036013,
     "end_time": "2024-05-30T17:02:50.348383",
     "exception": false,
     "start_time": "2024-05-30T17:02:50.312370",
     "status": "completed"
    },
    "tags": []
   },
   "source": [
    "----------------------------------------------------------------------------------------------------------------------------------------------------------\n"
   ]
  },
  {
   "cell_type": "markdown",
   "id": "524bb303",
   "metadata": {
    "papermill": {
     "duration": 0.036553,
     "end_time": "2024-05-30T17:02:50.425104",
     "exception": false,
     "start_time": "2024-05-30T17:02:50.388551",
     "status": "completed"
    },
    "tags": []
   },
   "source": [
    "## Age\n",
    "\n",
    "\n",
    "***Conclusions***\n",
    "\n",
    "- *It can be seen that age is normally distributed*\n",
    "\n",
    "- *There are no missing values*\n",
    "\n",
    "- *Max values goes up to 68 but some outliers are present in the data*\n",
    "\n",
    "- *mean and median are about the same hence we can conclude that the outliers are not affecting the data*"
   ]
  },
  {
   "cell_type": "code",
   "execution_count": 8,
   "id": "84a07455",
   "metadata": {
    "execution": {
     "iopub.execute_input": "2024-05-30T17:02:50.499675Z",
     "iopub.status.busy": "2024-05-30T17:02:50.498594Z",
     "iopub.status.idle": "2024-05-30T17:02:50.514539Z",
     "shell.execute_reply": "2024-05-30T17:02:50.513284Z"
    },
    "papermill": {
     "duration": 0.056261,
     "end_time": "2024-05-30T17:02:50.517311",
     "exception": false,
     "start_time": "2024-05-30T17:02:50.461050",
     "status": "completed"
    },
    "tags": []
   },
   "outputs": [
    {
     "data": {
      "text/plain": [
       "count    15000.000000\n",
       "mean        34.273800\n",
       "std          7.074134\n",
       "min         12.000000\n",
       "25%         29.000000\n",
       "50%         34.000000\n",
       "75%         39.000000\n",
       "max         68.000000\n",
       "Name: age, dtype: float64"
      ]
     },
     "execution_count": 8,
     "metadata": {},
     "output_type": "execute_result"
    }
   ],
   "source": [
    "df['age'].describe()"
   ]
  },
  {
   "cell_type": "markdown",
   "id": "51a325e9",
   "metadata": {
    "papermill": {
     "duration": 0.038079,
     "end_time": "2024-05-30T17:02:50.591694",
     "exception": false,
     "start_time": "2024-05-30T17:02:50.553615",
     "status": "completed"
    },
    "tags": []
   },
   "source": [
    "*Median and mean are around the same hence it seems like the distribution is normal.*"
   ]
  },
  {
   "cell_type": "code",
   "execution_count": 9,
   "id": "4cfe855f",
   "metadata": {
    "execution": {
     "iopub.execute_input": "2024-05-30T17:02:50.673169Z",
     "iopub.status.busy": "2024-05-30T17:02:50.672682Z",
     "iopub.status.idle": "2024-05-30T17:02:51.026055Z",
     "shell.execute_reply": "2024-05-30T17:02:51.025107Z"
    },
    "papermill": {
     "duration": 0.399767,
     "end_time": "2024-05-30T17:02:51.028503",
     "exception": false,
     "start_time": "2024-05-30T17:02:50.628736",
     "status": "completed"
    },
    "tags": []
   },
   "outputs": [
    {
     "data": {
      "image/svg+xml": [
       "<svg class=\"main-svg\" xmlns=\"http://www.w3.org/2000/svg\" xmlns:xlink=\"http://www.w3.org/1999/xlink\" width=\"1000\" height=\"500\" style=\"\" viewBox=\"0 0 1000 500\"><rect x=\"0\" y=\"0\" width=\"1000\" height=\"500\" style=\"fill: rgb(255, 255, 255); fill-opacity: 1;\"/><defs id=\"defs-361495\"><g class=\"clips\"><clipPath id=\"clip361495xyplot\" class=\"plotclip\"><rect width=\"885\" height=\"367\"/></clipPath><clipPath class=\"axesclip\" id=\"clip361495x\"><rect x=\"65\" y=\"0\" width=\"885\" height=\"500\"/></clipPath><clipPath class=\"axesclip\" id=\"clip361495y\"><rect x=\"0\" y=\"80\" width=\"1000\" height=\"367\"/></clipPath><clipPath class=\"axesclip\" id=\"clip361495xy\"><rect x=\"65\" y=\"80\" width=\"885\" height=\"367\"/></clipPath></g><g class=\"gradients\"/><g class=\"patterns\"/></defs><g class=\"bglayer\"/><g class=\"layer-below\"><g class=\"imagelayer\"/><g class=\"shapelayer\"/></g><g class=\"cartesianlayer\"><g class=\"subplot xy\"><g class=\"layer-subplot\"><g class=\"shapelayer\"/><g class=\"imagelayer\"/></g><g class=\"minor-gridlayer\"><g class=\"x\"/><g class=\"y\"/></g><g class=\"gridlayer\"><g class=\"x\"/><g class=\"y\"><path class=\"ygrid crisp\" transform=\"translate(0,401.61)\" d=\"M65,0h885\" style=\"stroke: rgb(255, 255, 255); stroke-opacity: 1; stroke-width: 1px;\"/><path class=\"ygrid crisp\" transform=\"translate(0,356.23)\" d=\"M65,0h885\" style=\"stroke: rgb(255, 255, 255); stroke-opacity: 1; stroke-width: 1px;\"/><path class=\"ygrid crisp\" transform=\"translate(0,310.84000000000003)\" d=\"M65,0h885\" style=\"stroke: rgb(255, 255, 255); stroke-opacity: 1; stroke-width: 1px;\"/><path class=\"ygrid crisp\" transform=\"translate(0,265.46000000000004)\" d=\"M65,0h885\" style=\"stroke: rgb(255, 255, 255); stroke-opacity: 1; stroke-width: 1px;\"/><path class=\"ygrid crisp\" transform=\"translate(0,220.07)\" d=\"M65,0h885\" style=\"stroke: rgb(255, 255, 255); stroke-opacity: 1; stroke-width: 1px;\"/><path class=\"ygrid crisp\" transform=\"translate(0,174.69)\" d=\"M65,0h885\" style=\"stroke: rgb(255, 255, 255); stroke-opacity: 1; stroke-width: 1px;\"/><path class=\"ygrid crisp\" transform=\"translate(0,129.3)\" d=\"M65,0h885\" style=\"stroke: rgb(255, 255, 255); stroke-opacity: 1; stroke-width: 1px;\"/><path class=\"ygrid crisp\" transform=\"translate(0,83.92)\" d=\"M65,0h885\" style=\"stroke: rgb(255, 255, 255); stroke-opacity: 1; stroke-width: 1px;\"/></g></g><g class=\"zerolinelayer\"><path class=\"yzl zl crisp\" transform=\"translate(0,447)\" d=\"M65,0h885\" style=\"stroke: rgb(255, 255, 255); stroke-opacity: 1; stroke-width: 2px;\"/></g><path class=\"xlines-below\"/><path class=\"ylines-below\"/><g class=\"overlines-below\"/><g class=\"xaxislayer-below\"/><g class=\"yaxislayer-below\"/><g class=\"overaxes-below\"/><g class=\"plot\" transform=\"translate(65,80)\" clip-path=\"url(#clip361495xyplot)\"><g class=\"barlayer mlayer\"><g class=\"trace bars\" shape-rendering=\"crispEdges\" style=\"opacity: 1;\"><g class=\"points\"><g class=\"point\"><path d=\"M0,367V356.47H147.5V367Z\" style=\"vector-effect: none; opacity: 1; stroke-width: 0px; fill: rgb(118, 42, 131); fill-opacity: 1;\"/></g><g class=\"point\"><path d=\"M147.5,367V194.76H295V367Z\" style=\"vector-effect: none; opacity: 1; stroke-width: 0px; fill: rgb(118, 42, 131); fill-opacity: 1;\"/></g><g class=\"point\"><path d=\"M295,367V18.35H442.5V367Z\" style=\"vector-effect: none; opacity: 1; stroke-width: 0px; fill: rgb(118, 42, 131); fill-opacity: 1;\"/></g><g class=\"point\"><path d=\"M442.5,367V232.98H590V367Z\" style=\"vector-effect: none; opacity: 1; stroke-width: 0px; fill: rgb(118, 42, 131); fill-opacity: 1;\"/></g><g class=\"point\"><path d=\"M590,367V352.57H737.5V367Z\" style=\"vector-effect: none; opacity: 1; stroke-width: 0px; fill: rgb(118, 42, 131); fill-opacity: 1;\"/></g><g class=\"point\"><path d=\"M737.5,367V366.09H885V367Z\" style=\"vector-effect: none; opacity: 1; stroke-width: 0px; fill: rgb(118, 42, 131); fill-opacity: 1;\"/></g></g></g></g></g><g class=\"overplot\"/><path class=\"xlines-above crisp\" d=\"M0,0\" style=\"fill: none;\"/><path class=\"ylines-above crisp\" d=\"M0,0\" style=\"fill: none;\"/><g class=\"overlines-above\"/><g class=\"xaxislayer-above\"><g class=\"xtick\"><text text-anchor=\"middle\" x=\"0\" y=\"460\" transform=\"translate(72.38,0)\" style=\"font-family: 'Open Sans', verdana, arial, sans-serif; font-size: 12px; fill: rgb(42, 63, 95); fill-opacity: 1; white-space: pre; opacity: 1;\">10</text></g><g class=\"xtick\"><text text-anchor=\"middle\" x=\"0\" y=\"460\" style=\"font-family: 'Open Sans', verdana, arial, sans-serif; font-size: 12px; fill: rgb(42, 63, 95); fill-opacity: 1; white-space: pre; opacity: 1;\" transform=\"translate(219.88,0)\">20</text></g><g class=\"xtick\"><text text-anchor=\"middle\" x=\"0\" y=\"460\" style=\"font-family: 'Open Sans', verdana, arial, sans-serif; font-size: 12px; fill: rgb(42, 63, 95); fill-opacity: 1; white-space: pre; opacity: 1;\" transform=\"translate(367.38,0)\">30</text></g><g class=\"xtick\"><text text-anchor=\"middle\" x=\"0\" y=\"460\" style=\"font-family: 'Open Sans', verdana, arial, sans-serif; font-size: 12px; fill: rgb(42, 63, 95); fill-opacity: 1; white-space: pre; opacity: 1;\" transform=\"translate(514.88,0)\">40</text></g><g class=\"xtick\"><text text-anchor=\"middle\" x=\"0\" y=\"460\" style=\"font-family: 'Open Sans', verdana, arial, sans-serif; font-size: 12px; fill: rgb(42, 63, 95); fill-opacity: 1; white-space: pre; opacity: 1;\" transform=\"translate(662.38,0)\">50</text></g><g class=\"xtick\"><text text-anchor=\"middle\" x=\"0\" y=\"460\" style=\"font-family: 'Open Sans', verdana, arial, sans-serif; font-size: 12px; fill: rgb(42, 63, 95); fill-opacity: 1; white-space: pre; opacity: 1;\" transform=\"translate(809.88,0)\">60</text></g></g><g class=\"yaxislayer-above\"><g class=\"ytick\"><text text-anchor=\"end\" x=\"64\" y=\"4.199999999999999\" transform=\"translate(0,447)\" style=\"font-family: 'Open Sans', verdana, arial, sans-serif; font-size: 12px; fill: rgb(42, 63, 95); fill-opacity: 1; white-space: pre; opacity: 1;\">0</text></g><g class=\"ytick\"><text text-anchor=\"end\" x=\"64\" y=\"4.199999999999999\" style=\"font-family: 'Open Sans', verdana, arial, sans-serif; font-size: 12px; fill: rgb(42, 63, 95); fill-opacity: 1; white-space: pre; opacity: 1;\" transform=\"translate(0,401.61)\">1000</text></g><g class=\"ytick\"><text text-anchor=\"end\" x=\"64\" y=\"4.199999999999999\" style=\"font-family: 'Open Sans', verdana, arial, sans-serif; font-size: 12px; fill: rgb(42, 63, 95); fill-opacity: 1; white-space: pre; opacity: 1;\" transform=\"translate(0,356.23)\">2000</text></g><g class=\"ytick\"><text text-anchor=\"end\" x=\"64\" y=\"4.199999999999999\" style=\"font-family: 'Open Sans', verdana, arial, sans-serif; font-size: 12px; fill: rgb(42, 63, 95); fill-opacity: 1; white-space: pre; opacity: 1;\" transform=\"translate(0,310.84000000000003)\">3000</text></g><g class=\"ytick\"><text text-anchor=\"end\" x=\"64\" y=\"4.199999999999999\" style=\"font-family: 'Open Sans', verdana, arial, sans-serif; font-size: 12px; fill: rgb(42, 63, 95); fill-opacity: 1; white-space: pre; opacity: 1;\" transform=\"translate(0,265.46000000000004)\">4000</text></g><g class=\"ytick\"><text text-anchor=\"end\" x=\"64\" y=\"4.199999999999999\" style=\"font-family: 'Open Sans', verdana, arial, sans-serif; font-size: 12px; fill: rgb(42, 63, 95); fill-opacity: 1; white-space: pre; opacity: 1;\" transform=\"translate(0,220.07)\">5000</text></g><g class=\"ytick\"><text text-anchor=\"end\" x=\"64\" y=\"4.199999999999999\" style=\"font-family: 'Open Sans', verdana, arial, sans-serif; font-size: 12px; fill: rgb(42, 63, 95); fill-opacity: 1; white-space: pre; opacity: 1;\" transform=\"translate(0,174.69)\">6000</text></g><g class=\"ytick\"><text text-anchor=\"end\" x=\"64\" y=\"4.199999999999999\" style=\"font-family: 'Open Sans', verdana, arial, sans-serif; font-size: 12px; fill: rgb(42, 63, 95); fill-opacity: 1; white-space: pre; opacity: 1;\" transform=\"translate(0,129.3)\">7000</text></g><g class=\"ytick\"><text text-anchor=\"end\" x=\"64\" y=\"4.199999999999999\" style=\"font-family: 'Open Sans', verdana, arial, sans-serif; font-size: 12px; fill: rgb(42, 63, 95); fill-opacity: 1; white-space: pre; opacity: 1;\" transform=\"translate(0,83.92)\">8000</text></g></g><g class=\"overaxes-above\"/></g></g><g class=\"polarlayer\"/><g class=\"smithlayer\"/><g class=\"ternarylayer\"/><g class=\"geolayer\"/><g class=\"funnelarealayer\"/><g class=\"pielayer\"/><g class=\"iciclelayer\"/><g class=\"treemaplayer\"/><g class=\"sunburstlayer\"/><g class=\"glimages\"/><defs id=\"topdefs-361495\"><g class=\"clips\"/></defs><g class=\"layer-above\"><g class=\"imagelayer\"/><g class=\"shapelayer\"/></g><g class=\"infolayer\"><g class=\"g-gtitle\"><text class=\"gtitle\" x=\"150\" y=\"25\" text-anchor=\"middle\" dy=\"0.7em\" style=\"font-family: 'Times New Roman'; font-size: 26px; fill: rgb(0, 0, 0); opacity: 1; font-weight: normal; white-space: pre;\">Age Distribution</text></g><g class=\"g-xtitle\"><text class=\"xtitle\" x=\"507.5\" y=\"487.3\" text-anchor=\"middle\" style=\"font-family: 'Open Sans', verdana, arial, sans-serif; font-size: 14px; fill: rgb(42, 63, 95); opacity: 1; font-weight: normal; white-space: pre;\">Age</text></g><g class=\"g-ytitle\" transform=\"translate(0.0029296875,0)\"><text class=\"ytitle\" transform=\"rotate(-90,12.996875000000003,263.5)\" x=\"12.996875000000003\" y=\"263.5\" text-anchor=\"middle\" style=\"font-family: 'Open Sans', verdana, arial, sans-serif; font-size: 14px; fill: rgb(42, 63, 95); opacity: 1; font-weight: normal; white-space: pre;\">Frequency</text></g></g></svg>"
      ]
     },
     "metadata": {},
     "output_type": "display_data"
    }
   ],
   "source": [
    "palette = cl.to_rgb(cl.scales['10']['div']['PRGn'])\n",
    "\n",
    "# Create the histogram\n",
    "fig = go.Figure(data=[go.Histogram(\n",
    "    x=df['age'],\n",
    "    marker=dict(color=palette[1]),  \n",
    "    nbinsx=10\n",
    ")])\n",
    "\n",
    "fig.update_layout(\n",
    "    title_text=\"Age Distribution\",\n",
    "    title_font_size=24,\n",
    "    title_font_family=\"Times New Roman\",\n",
    "    title_font_color=\"#000000\",  \n",
    "    paper_bgcolor='#ffffff',  \n",
    "    plot_bgcolor='#ffffff',  \n",
    "    xaxis=dict(title=\"Age\"),\n",
    "    yaxis=dict(title=\"Frequency\"),\n",
    ")\n",
    "\n",
    "fig.update_layout(\n",
    "    title={\n",
    "        'text': \"Age Distribution\",\n",
    "        'y':0.95,\n",
    "        'x':0.15,\n",
    "        'xanchor': 'center',\n",
    "        'yanchor': 'top'},\n",
    "    title_font_size=26,\n",
    "    margin=dict(l=50, r=50, t=80, b=50)\n",
    ")\n",
    "\n",
    "fig.update_layout(width=1000)\n",
    "\n",
    "# Show the pie chart\n",
    "fig.show('svg')"
   ]
  },
  {
   "cell_type": "code",
   "execution_count": 10,
   "id": "ab6ee96e",
   "metadata": {
    "execution": {
     "iopub.execute_input": "2024-05-30T17:02:51.106470Z",
     "iopub.status.busy": "2024-05-30T17:02:51.105234Z",
     "iopub.status.idle": "2024-05-30T17:02:51.368586Z",
     "shell.execute_reply": "2024-05-30T17:02:51.367634Z"
    },
    "papermill": {
     "duration": 0.304726,
     "end_time": "2024-05-30T17:02:51.371647",
     "exception": false,
     "start_time": "2024-05-30T17:02:51.066921",
     "status": "completed"
    },
    "tags": []
   },
   "outputs": [
    {
     "data": {
      "image/svg+xml": [
       "<svg class=\"main-svg\" xmlns=\"http://www.w3.org/2000/svg\" xmlns:xlink=\"http://www.w3.org/1999/xlink\" width=\"1000\" height=\"500\" style=\"\" viewBox=\"0 0 1000 500\"><rect x=\"0\" y=\"0\" width=\"1000\" height=\"500\" style=\"fill: rgb(255, 255, 255); fill-opacity: 1;\"/><defs id=\"defs-7bd9c3\"><g class=\"clips\"><clipPath id=\"clip7bd9c3xyplot\" class=\"plotclip\"><rect width=\"900\" height=\"367\"/></clipPath><clipPath class=\"axesclip\" id=\"clip7bd9c3x\"><rect x=\"50\" y=\"0\" width=\"900\" height=\"500\"/></clipPath><clipPath class=\"axesclip\" id=\"clip7bd9c3y\"><rect x=\"0\" y=\"80\" width=\"1000\" height=\"367\"/></clipPath><clipPath class=\"axesclip\" id=\"clip7bd9c3xy\"><rect x=\"50\" y=\"80\" width=\"900\" height=\"367\"/></clipPath></g><g class=\"gradients\"/><g class=\"patterns\"/></defs><g class=\"bglayer\"/><g class=\"layer-below\"><g class=\"imagelayer\"/><g class=\"shapelayer\"/></g><g class=\"cartesianlayer\"><g class=\"subplot xy\"><g class=\"layer-subplot\"><g class=\"shapelayer\"/><g class=\"imagelayer\"/></g><g class=\"minor-gridlayer\"><g class=\"x\"/><g class=\"y\"/></g><g class=\"gridlayer\"><g class=\"x\"><path class=\"xgrid crisp\" transform=\"translate(66.07,0)\" d=\"M0,80v367\" style=\"stroke: rgb(255, 255, 255); stroke-opacity: 1; stroke-width: 1px;\"/><path class=\"xgrid crisp\" transform=\"translate(210.71,0)\" d=\"M0,80v367\" style=\"stroke: rgb(255, 255, 255); stroke-opacity: 1; stroke-width: 1px;\"/><path class=\"xgrid crisp\" transform=\"translate(355.36,0)\" d=\"M0,80v367\" style=\"stroke: rgb(255, 255, 255); stroke-opacity: 1; stroke-width: 1px;\"/><path class=\"xgrid crisp\" transform=\"translate(500,0)\" d=\"M0,80v367\" style=\"stroke: rgb(255, 255, 255); stroke-opacity: 1; stroke-width: 1px;\"/><path class=\"xgrid crisp\" transform=\"translate(644.64,0)\" d=\"M0,80v367\" style=\"stroke: rgb(255, 255, 255); stroke-opacity: 1; stroke-width: 1px;\"/><path class=\"xgrid crisp\" transform=\"translate(789.29,0)\" d=\"M0,80v367\" style=\"stroke: rgb(255, 255, 255); stroke-opacity: 1; stroke-width: 1px;\"/><path class=\"xgrid crisp\" transform=\"translate(933.93,0)\" d=\"M0,80v367\" style=\"stroke: rgb(255, 255, 255); stroke-opacity: 1; stroke-width: 1px;\"/></g><g class=\"y\"/></g><g class=\"zerolinelayer\"/><path class=\"xlines-below\"/><path class=\"ylines-below\"/><g class=\"overlines-below\"/><g class=\"xaxislayer-below\"/><g class=\"yaxislayer-below\"/><g class=\"overaxes-below\"/><g class=\"plot\" transform=\"translate(50,80)\" clip-path=\"url(#clip7bd9c3xyplot)\"><g class=\"boxlayer mlayer\"><g class=\"trace boxes\" style=\"opacity: 1;\"><path class=\"box\" d=\"M363.21,273.41V93.59M290.89,273.41V93.59H435.54V273.41ZM290.89,183.5H73.93M435.54,183.5H652.5M73.93,228.46V138.54M652.5,228.46V138.54\" style=\"vector-effect: none; stroke-width: 2px; stroke: rgb(118, 42, 131); stroke-opacity: 1; fill: rgb(118, 42, 131); fill-opacity: 0.5;\"/><g class=\"points\"><path class=\"point\" transform=\"translate(45,183.5)\" d=\"M3,0A3,3 0 1,1 0,-3A3,3 0 0,1 3,0Z\" style=\"opacity: 1; stroke-width: 0px; fill: rgb(118, 42, 131); fill-opacity: 1;\"/><path class=\"point\" transform=\"translate(45,183.5)\" d=\"M3,0A3,3 0 1,1 0,-3A3,3 0 0,1 3,0Z\" style=\"opacity: 1; stroke-width: 0px; fill: rgb(118, 42, 131); fill-opacity: 1;\"/><path class=\"point\" transform=\"translate(45,183.5)\" d=\"M3,0A3,3 0 1,1 0,-3A3,3 0 0,1 3,0Z\" style=\"opacity: 1; stroke-width: 0px; fill: rgb(118, 42, 131); fill-opacity: 1;\"/><path class=\"point\" transform=\"translate(45,183.5)\" d=\"M3,0A3,3 0 1,1 0,-3A3,3 0 0,1 3,0Z\" style=\"opacity: 1; stroke-width: 0px; fill: rgb(118, 42, 131); fill-opacity: 1;\"/><path class=\"point\" transform=\"translate(45,183.5)\" d=\"M3,0A3,3 0 1,1 0,-3A3,3 0 0,1 3,0Z\" style=\"opacity: 1; stroke-width: 0px; fill: rgb(118, 42, 131); fill-opacity: 1;\"/><path class=\"point\" transform=\"translate(45,183.5)\" d=\"M3,0A3,3 0 1,1 0,-3A3,3 0 0,1 3,0Z\" style=\"opacity: 1; stroke-width: 0px; fill: rgb(118, 42, 131); fill-opacity: 1;\"/><path class=\"point\" transform=\"translate(59.46,183.5)\" d=\"M3,0A3,3 0 1,1 0,-3A3,3 0 0,1 3,0Z\" style=\"opacity: 1; stroke-width: 0px; fill: rgb(118, 42, 131); fill-opacity: 1;\"/><path class=\"point\" transform=\"translate(59.46,183.5)\" d=\"M3,0A3,3 0 1,1 0,-3A3,3 0 0,1 3,0Z\" style=\"opacity: 1; stroke-width: 0px; fill: rgb(118, 42, 131); fill-opacity: 1;\"/><path class=\"point\" transform=\"translate(59.46,183.5)\" d=\"M3,0A3,3 0 1,1 0,-3A3,3 0 0,1 3,0Z\" style=\"opacity: 1; stroke-width: 0px; fill: rgb(118, 42, 131); fill-opacity: 1;\"/><path class=\"point\" transform=\"translate(59.46,183.5)\" d=\"M3,0A3,3 0 1,1 0,-3A3,3 0 0,1 3,0Z\" style=\"opacity: 1; stroke-width: 0px; fill: rgb(118, 42, 131); fill-opacity: 1;\"/><path class=\"point\" transform=\"translate(666.96,183.5)\" d=\"M3,0A3,3 0 1,1 0,-3A3,3 0 0,1 3,0Z\" style=\"opacity: 1; stroke-width: 0px; fill: rgb(118, 42, 131); fill-opacity: 1;\"/><path class=\"point\" transform=\"translate(666.96,183.5)\" d=\"M3,0A3,3 0 1,1 0,-3A3,3 0 0,1 3,0Z\" style=\"opacity: 1; stroke-width: 0px; fill: rgb(118, 42, 131); fill-opacity: 1;\"/><path class=\"point\" transform=\"translate(666.96,183.5)\" d=\"M3,0A3,3 0 1,1 0,-3A3,3 0 0,1 3,0Z\" style=\"opacity: 1; stroke-width: 0px; fill: rgb(118, 42, 131); fill-opacity: 1;\"/><path class=\"point\" transform=\"translate(666.96,183.5)\" d=\"M3,0A3,3 0 1,1 0,-3A3,3 0 0,1 3,0Z\" style=\"opacity: 1; stroke-width: 0px; fill: rgb(118, 42, 131); fill-opacity: 1;\"/><path class=\"point\" transform=\"translate(666.96,183.5)\" d=\"M3,0A3,3 0 1,1 0,-3A3,3 0 0,1 3,0Z\" style=\"opacity: 1; stroke-width: 0px; fill: rgb(118, 42, 131); fill-opacity: 1;\"/><path class=\"point\" transform=\"translate(666.96,183.5)\" d=\"M3,0A3,3 0 1,1 0,-3A3,3 0 0,1 3,0Z\" style=\"opacity: 1; stroke-width: 0px; fill: rgb(118, 42, 131); fill-opacity: 1;\"/><path class=\"point\" transform=\"translate(666.96,183.5)\" d=\"M3,0A3,3 0 1,1 0,-3A3,3 0 0,1 3,0Z\" style=\"opacity: 1; stroke-width: 0px; fill: rgb(118, 42, 131); fill-opacity: 1;\"/><path class=\"point\" transform=\"translate(666.96,183.5)\" d=\"M3,0A3,3 0 1,1 0,-3A3,3 0 0,1 3,0Z\" style=\"opacity: 1; stroke-width: 0px; fill: rgb(118, 42, 131); fill-opacity: 1;\"/><path class=\"point\" transform=\"translate(666.96,183.5)\" d=\"M3,0A3,3 0 1,1 0,-3A3,3 0 0,1 3,0Z\" style=\"opacity: 1; stroke-width: 0px; fill: rgb(118, 42, 131); fill-opacity: 1;\"/><path class=\"point\" transform=\"translate(666.96,183.5)\" d=\"M3,0A3,3 0 1,1 0,-3A3,3 0 0,1 3,0Z\" style=\"opacity: 1; stroke-width: 0px; fill: rgb(118, 42, 131); fill-opacity: 1;\"/><path class=\"point\" transform=\"translate(666.96,183.5)\" d=\"M3,0A3,3 0 1,1 0,-3A3,3 0 0,1 3,0Z\" style=\"opacity: 1; stroke-width: 0px; fill: rgb(118, 42, 131); fill-opacity: 1;\"/><path class=\"point\" transform=\"translate(666.96,183.5)\" d=\"M3,0A3,3 0 1,1 0,-3A3,3 0 0,1 3,0Z\" style=\"opacity: 1; stroke-width: 0px; fill: rgb(118, 42, 131); fill-opacity: 1;\"/><path class=\"point\" transform=\"translate(666.96,183.5)\" d=\"M3,0A3,3 0 1,1 0,-3A3,3 0 0,1 3,0Z\" style=\"opacity: 1; stroke-width: 0px; fill: rgb(118, 42, 131); fill-opacity: 1;\"/><path class=\"point\" transform=\"translate(666.96,183.5)\" d=\"M3,0A3,3 0 1,1 0,-3A3,3 0 0,1 3,0Z\" style=\"opacity: 1; stroke-width: 0px; fill: rgb(118, 42, 131); fill-opacity: 1;\"/><path class=\"point\" transform=\"translate(666.96,183.5)\" d=\"M3,0A3,3 0 1,1 0,-3A3,3 0 0,1 3,0Z\" style=\"opacity: 1; stroke-width: 0px; fill: rgb(118, 42, 131); fill-opacity: 1;\"/><path class=\"point\" transform=\"translate(666.96,183.5)\" d=\"M3,0A3,3 0 1,1 0,-3A3,3 0 0,1 3,0Z\" style=\"opacity: 1; stroke-width: 0px; fill: rgb(118, 42, 131); fill-opacity: 1;\"/><path class=\"point\" transform=\"translate(666.96,183.5)\" d=\"M3,0A3,3 0 1,1 0,-3A3,3 0 0,1 3,0Z\" style=\"opacity: 1; stroke-width: 0px; fill: rgb(118, 42, 131); fill-opacity: 1;\"/><path class=\"point\" transform=\"translate(666.96,183.5)\" d=\"M3,0A3,3 0 1,1 0,-3A3,3 0 0,1 3,0Z\" style=\"opacity: 1; stroke-width: 0px; fill: rgb(118, 42, 131); fill-opacity: 1;\"/><path class=\"point\" transform=\"translate(666.96,183.5)\" d=\"M3,0A3,3 0 1,1 0,-3A3,3 0 0,1 3,0Z\" style=\"opacity: 1; stroke-width: 0px; fill: rgb(118, 42, 131); fill-opacity: 1;\"/><path class=\"point\" transform=\"translate(681.43,183.5)\" d=\"M3,0A3,3 0 1,1 0,-3A3,3 0 0,1 3,0Z\" style=\"opacity: 1; stroke-width: 0px; fill: rgb(118, 42, 131); fill-opacity: 1;\"/><path class=\"point\" transform=\"translate(681.43,183.5)\" d=\"M3,0A3,3 0 1,1 0,-3A3,3 0 0,1 3,0Z\" style=\"opacity: 1; stroke-width: 0px; fill: rgb(118, 42, 131); fill-opacity: 1;\"/><path class=\"point\" transform=\"translate(681.43,183.5)\" d=\"M3,0A3,3 0 1,1 0,-3A3,3 0 0,1 3,0Z\" style=\"opacity: 1; stroke-width: 0px; fill: rgb(118, 42, 131); fill-opacity: 1;\"/><path class=\"point\" transform=\"translate(681.43,183.5)\" d=\"M3,0A3,3 0 1,1 0,-3A3,3 0 0,1 3,0Z\" style=\"opacity: 1; stroke-width: 0px; fill: rgb(118, 42, 131); fill-opacity: 1;\"/><path class=\"point\" transform=\"translate(681.43,183.5)\" d=\"M3,0A3,3 0 1,1 0,-3A3,3 0 0,1 3,0Z\" style=\"opacity: 1; stroke-width: 0px; fill: rgb(118, 42, 131); fill-opacity: 1;\"/><path class=\"point\" transform=\"translate(681.43,183.5)\" d=\"M3,0A3,3 0 1,1 0,-3A3,3 0 0,1 3,0Z\" style=\"opacity: 1; stroke-width: 0px; fill: rgb(118, 42, 131); fill-opacity: 1;\"/><path class=\"point\" transform=\"translate(681.43,183.5)\" d=\"M3,0A3,3 0 1,1 0,-3A3,3 0 0,1 3,0Z\" style=\"opacity: 1; stroke-width: 0px; fill: rgb(118, 42, 131); fill-opacity: 1;\"/><path class=\"point\" transform=\"translate(681.43,183.5)\" d=\"M3,0A3,3 0 1,1 0,-3A3,3 0 0,1 3,0Z\" style=\"opacity: 1; stroke-width: 0px; fill: rgb(118, 42, 131); fill-opacity: 1;\"/><path class=\"point\" transform=\"translate(681.43,183.5)\" d=\"M3,0A3,3 0 1,1 0,-3A3,3 0 0,1 3,0Z\" style=\"opacity: 1; stroke-width: 0px; fill: rgb(118, 42, 131); fill-opacity: 1;\"/><path class=\"point\" transform=\"translate(681.43,183.5)\" d=\"M3,0A3,3 0 1,1 0,-3A3,3 0 0,1 3,0Z\" style=\"opacity: 1; stroke-width: 0px; fill: rgb(118, 42, 131); fill-opacity: 1;\"/><path class=\"point\" transform=\"translate(681.43,183.5)\" d=\"M3,0A3,3 0 1,1 0,-3A3,3 0 0,1 3,0Z\" style=\"opacity: 1; stroke-width: 0px; fill: rgb(118, 42, 131); fill-opacity: 1;\"/><path class=\"point\" transform=\"translate(681.43,183.5)\" d=\"M3,0A3,3 0 1,1 0,-3A3,3 0 0,1 3,0Z\" style=\"opacity: 1; stroke-width: 0px; fill: rgb(118, 42, 131); fill-opacity: 1;\"/><path class=\"point\" transform=\"translate(681.43,183.5)\" d=\"M3,0A3,3 0 1,1 0,-3A3,3 0 0,1 3,0Z\" style=\"opacity: 1; stroke-width: 0px; fill: rgb(118, 42, 131); fill-opacity: 1;\"/><path class=\"point\" transform=\"translate(681.43,183.5)\" d=\"M3,0A3,3 0 1,1 0,-3A3,3 0 0,1 3,0Z\" style=\"opacity: 1; stroke-width: 0px; fill: rgb(118, 42, 131); fill-opacity: 1;\"/><path class=\"point\" transform=\"translate(681.43,183.5)\" d=\"M3,0A3,3 0 1,1 0,-3A3,3 0 0,1 3,0Z\" style=\"opacity: 1; stroke-width: 0px; fill: rgb(118, 42, 131); fill-opacity: 1;\"/><path class=\"point\" transform=\"translate(681.43,183.5)\" d=\"M3,0A3,3 0 1,1 0,-3A3,3 0 0,1 3,0Z\" style=\"opacity: 1; stroke-width: 0px; fill: rgb(118, 42, 131); fill-opacity: 1;\"/><path class=\"point\" transform=\"translate(681.43,183.5)\" d=\"M3,0A3,3 0 1,1 0,-3A3,3 0 0,1 3,0Z\" style=\"opacity: 1; stroke-width: 0px; fill: rgb(118, 42, 131); fill-opacity: 1;\"/><path class=\"point\" transform=\"translate(681.43,183.5)\" d=\"M3,0A3,3 0 1,1 0,-3A3,3 0 0,1 3,0Z\" style=\"opacity: 1; stroke-width: 0px; fill: rgb(118, 42, 131); fill-opacity: 1;\"/><path class=\"point\" transform=\"translate(681.43,183.5)\" d=\"M3,0A3,3 0 1,1 0,-3A3,3 0 0,1 3,0Z\" style=\"opacity: 1; stroke-width: 0px; fill: rgb(118, 42, 131); fill-opacity: 1;\"/><path class=\"point\" transform=\"translate(681.43,183.5)\" d=\"M3,0A3,3 0 1,1 0,-3A3,3 0 0,1 3,0Z\" style=\"opacity: 1; stroke-width: 0px; fill: rgb(118, 42, 131); fill-opacity: 1;\"/><path class=\"point\" transform=\"translate(681.43,183.5)\" d=\"M3,0A3,3 0 1,1 0,-3A3,3 0 0,1 3,0Z\" style=\"opacity: 1; stroke-width: 0px; fill: rgb(118, 42, 131); fill-opacity: 1;\"/><path class=\"point\" transform=\"translate(681.43,183.5)\" d=\"M3,0A3,3 0 1,1 0,-3A3,3 0 0,1 3,0Z\" style=\"opacity: 1; stroke-width: 0px; fill: rgb(118, 42, 131); fill-opacity: 1;\"/><path class=\"point\" transform=\"translate(695.89,183.5)\" d=\"M3,0A3,3 0 1,1 0,-3A3,3 0 0,1 3,0Z\" style=\"opacity: 1; stroke-width: 0px; fill: rgb(118, 42, 131); fill-opacity: 1;\"/><path class=\"point\" transform=\"translate(695.89,183.5)\" d=\"M3,0A3,3 0 1,1 0,-3A3,3 0 0,1 3,0Z\" style=\"opacity: 1; stroke-width: 0px; fill: rgb(118, 42, 131); fill-opacity: 1;\"/><path class=\"point\" transform=\"translate(695.89,183.5)\" d=\"M3,0A3,3 0 1,1 0,-3A3,3 0 0,1 3,0Z\" style=\"opacity: 1; stroke-width: 0px; fill: rgb(118, 42, 131); fill-opacity: 1;\"/><path class=\"point\" transform=\"translate(695.89,183.5)\" d=\"M3,0A3,3 0 1,1 0,-3A3,3 0 0,1 3,0Z\" style=\"opacity: 1; stroke-width: 0px; fill: rgb(118, 42, 131); fill-opacity: 1;\"/><path class=\"point\" transform=\"translate(695.89,183.5)\" d=\"M3,0A3,3 0 1,1 0,-3A3,3 0 0,1 3,0Z\" style=\"opacity: 1; stroke-width: 0px; fill: rgb(118, 42, 131); fill-opacity: 1;\"/><path class=\"point\" transform=\"translate(695.89,183.5)\" d=\"M3,0A3,3 0 1,1 0,-3A3,3 0 0,1 3,0Z\" style=\"opacity: 1; stroke-width: 0px; fill: rgb(118, 42, 131); fill-opacity: 1;\"/><path class=\"point\" transform=\"translate(695.89,183.5)\" d=\"M3,0A3,3 0 1,1 0,-3A3,3 0 0,1 3,0Z\" style=\"opacity: 1; stroke-width: 0px; fill: rgb(118, 42, 131); fill-opacity: 1;\"/><path class=\"point\" transform=\"translate(695.89,183.5)\" d=\"M3,0A3,3 0 1,1 0,-3A3,3 0 0,1 3,0Z\" style=\"opacity: 1; stroke-width: 0px; fill: rgb(118, 42, 131); fill-opacity: 1;\"/><path class=\"point\" transform=\"translate(695.89,183.5)\" d=\"M3,0A3,3 0 1,1 0,-3A3,3 0 0,1 3,0Z\" style=\"opacity: 1; stroke-width: 0px; fill: rgb(118, 42, 131); fill-opacity: 1;\"/><path class=\"point\" transform=\"translate(695.89,183.5)\" d=\"M3,0A3,3 0 1,1 0,-3A3,3 0 0,1 3,0Z\" style=\"opacity: 1; stroke-width: 0px; fill: rgb(118, 42, 131); fill-opacity: 1;\"/><path class=\"point\" transform=\"translate(695.89,183.5)\" d=\"M3,0A3,3 0 1,1 0,-3A3,3 0 0,1 3,0Z\" style=\"opacity: 1; stroke-width: 0px; fill: rgb(118, 42, 131); fill-opacity: 1;\"/><path class=\"point\" transform=\"translate(695.89,183.5)\" d=\"M3,0A3,3 0 1,1 0,-3A3,3 0 0,1 3,0Z\" style=\"opacity: 1; stroke-width: 0px; fill: rgb(118, 42, 131); fill-opacity: 1;\"/><path class=\"point\" transform=\"translate(695.89,183.5)\" d=\"M3,0A3,3 0 1,1 0,-3A3,3 0 0,1 3,0Z\" style=\"opacity: 1; stroke-width: 0px; fill: rgb(118, 42, 131); fill-opacity: 1;\"/><path class=\"point\" transform=\"translate(695.89,183.5)\" d=\"M3,0A3,3 0 1,1 0,-3A3,3 0 0,1 3,0Z\" style=\"opacity: 1; stroke-width: 0px; fill: rgb(118, 42, 131); fill-opacity: 1;\"/><path class=\"point\" transform=\"translate(710.36,183.5)\" d=\"M3,0A3,3 0 1,1 0,-3A3,3 0 0,1 3,0Z\" style=\"opacity: 1; stroke-width: 0px; fill: rgb(118, 42, 131); fill-opacity: 1;\"/><path class=\"point\" transform=\"translate(710.36,183.5)\" d=\"M3,0A3,3 0 1,1 0,-3A3,3 0 0,1 3,0Z\" style=\"opacity: 1; stroke-width: 0px; fill: rgb(118, 42, 131); fill-opacity: 1;\"/><path class=\"point\" transform=\"translate(710.36,183.5)\" d=\"M3,0A3,3 0 1,1 0,-3A3,3 0 0,1 3,0Z\" style=\"opacity: 1; stroke-width: 0px; fill: rgb(118, 42, 131); fill-opacity: 1;\"/><path class=\"point\" transform=\"translate(710.36,183.5)\" d=\"M3,0A3,3 0 1,1 0,-3A3,3 0 0,1 3,0Z\" style=\"opacity: 1; stroke-width: 0px; fill: rgb(118, 42, 131); fill-opacity: 1;\"/><path class=\"point\" transform=\"translate(710.36,183.5)\" d=\"M3,0A3,3 0 1,1 0,-3A3,3 0 0,1 3,0Z\" style=\"opacity: 1; stroke-width: 0px; fill: rgb(118, 42, 131); fill-opacity: 1;\"/><path class=\"point\" transform=\"translate(710.36,183.5)\" d=\"M3,0A3,3 0 1,1 0,-3A3,3 0 0,1 3,0Z\" style=\"opacity: 1; stroke-width: 0px; fill: rgb(118, 42, 131); fill-opacity: 1;\"/><path class=\"point\" transform=\"translate(710.36,183.5)\" d=\"M3,0A3,3 0 1,1 0,-3A3,3 0 0,1 3,0Z\" style=\"opacity: 1; stroke-width: 0px; fill: rgb(118, 42, 131); fill-opacity: 1;\"/><path class=\"point\" transform=\"translate(710.36,183.5)\" d=\"M3,0A3,3 0 1,1 0,-3A3,3 0 0,1 3,0Z\" style=\"opacity: 1; stroke-width: 0px; fill: rgb(118, 42, 131); fill-opacity: 1;\"/><path class=\"point\" transform=\"translate(710.36,183.5)\" d=\"M3,0A3,3 0 1,1 0,-3A3,3 0 0,1 3,0Z\" style=\"opacity: 1; stroke-width: 0px; fill: rgb(118, 42, 131); fill-opacity: 1;\"/><path class=\"point\" transform=\"translate(710.36,183.5)\" d=\"M3,0A3,3 0 1,1 0,-3A3,3 0 0,1 3,0Z\" style=\"opacity: 1; stroke-width: 0px; fill: rgb(118, 42, 131); fill-opacity: 1;\"/><path class=\"point\" transform=\"translate(710.36,183.5)\" d=\"M3,0A3,3 0 1,1 0,-3A3,3 0 0,1 3,0Z\" style=\"opacity: 1; stroke-width: 0px; fill: rgb(118, 42, 131); fill-opacity: 1;\"/><path class=\"point\" transform=\"translate(710.36,183.5)\" d=\"M3,0A3,3 0 1,1 0,-3A3,3 0 0,1 3,0Z\" style=\"opacity: 1; stroke-width: 0px; fill: rgb(118, 42, 131); fill-opacity: 1;\"/><path class=\"point\" transform=\"translate(710.36,183.5)\" d=\"M3,0A3,3 0 1,1 0,-3A3,3 0 0,1 3,0Z\" style=\"opacity: 1; stroke-width: 0px; fill: rgb(118, 42, 131); fill-opacity: 1;\"/><path class=\"point\" transform=\"translate(710.36,183.5)\" d=\"M3,0A3,3 0 1,1 0,-3A3,3 0 0,1 3,0Z\" style=\"opacity: 1; stroke-width: 0px; fill: rgb(118, 42, 131); fill-opacity: 1;\"/><path class=\"point\" transform=\"translate(710.36,183.5)\" d=\"M3,0A3,3 0 1,1 0,-3A3,3 0 0,1 3,0Z\" style=\"opacity: 1; stroke-width: 0px; fill: rgb(118, 42, 131); fill-opacity: 1;\"/><path class=\"point\" transform=\"translate(710.36,183.5)\" d=\"M3,0A3,3 0 1,1 0,-3A3,3 0 0,1 3,0Z\" style=\"opacity: 1; stroke-width: 0px; fill: rgb(118, 42, 131); fill-opacity: 1;\"/><path class=\"point\" transform=\"translate(710.36,183.5)\" d=\"M3,0A3,3 0 1,1 0,-3A3,3 0 0,1 3,0Z\" style=\"opacity: 1; stroke-width: 0px; fill: rgb(118, 42, 131); fill-opacity: 1;\"/><path class=\"point\" transform=\"translate(724.82,183.5)\" d=\"M3,0A3,3 0 1,1 0,-3A3,3 0 0,1 3,0Z\" style=\"opacity: 1; stroke-width: 0px; fill: rgb(118, 42, 131); fill-opacity: 1;\"/><path class=\"point\" transform=\"translate(724.82,183.5)\" d=\"M3,0A3,3 0 1,1 0,-3A3,3 0 0,1 3,0Z\" style=\"opacity: 1; stroke-width: 0px; fill: rgb(118, 42, 131); fill-opacity: 1;\"/><path class=\"point\" transform=\"translate(724.82,183.5)\" d=\"M3,0A3,3 0 1,1 0,-3A3,3 0 0,1 3,0Z\" style=\"opacity: 1; stroke-width: 0px; fill: rgb(118, 42, 131); fill-opacity: 1;\"/><path class=\"point\" transform=\"translate(724.82,183.5)\" d=\"M3,0A3,3 0 1,1 0,-3A3,3 0 0,1 3,0Z\" style=\"opacity: 1; stroke-width: 0px; fill: rgb(118, 42, 131); fill-opacity: 1;\"/><path class=\"point\" transform=\"translate(724.82,183.5)\" d=\"M3,0A3,3 0 1,1 0,-3A3,3 0 0,1 3,0Z\" style=\"opacity: 1; stroke-width: 0px; fill: rgb(118, 42, 131); fill-opacity: 1;\"/><path class=\"point\" transform=\"translate(724.82,183.5)\" d=\"M3,0A3,3 0 1,1 0,-3A3,3 0 0,1 3,0Z\" style=\"opacity: 1; stroke-width: 0px; fill: rgb(118, 42, 131); fill-opacity: 1;\"/><path class=\"point\" transform=\"translate(724.82,183.5)\" d=\"M3,0A3,3 0 1,1 0,-3A3,3 0 0,1 3,0Z\" style=\"opacity: 1; stroke-width: 0px; fill: rgb(118, 42, 131); fill-opacity: 1;\"/><path class=\"point\" transform=\"translate(724.82,183.5)\" d=\"M3,0A3,3 0 1,1 0,-3A3,3 0 0,1 3,0Z\" style=\"opacity: 1; stroke-width: 0px; fill: rgb(118, 42, 131); fill-opacity: 1;\"/><path class=\"point\" transform=\"translate(724.82,183.5)\" d=\"M3,0A3,3 0 1,1 0,-3A3,3 0 0,1 3,0Z\" style=\"opacity: 1; stroke-width: 0px; fill: rgb(118, 42, 131); fill-opacity: 1;\"/><path class=\"point\" transform=\"translate(724.82,183.5)\" d=\"M3,0A3,3 0 1,1 0,-3A3,3 0 0,1 3,0Z\" style=\"opacity: 1; stroke-width: 0px; fill: rgb(118, 42, 131); fill-opacity: 1;\"/><path class=\"point\" transform=\"translate(724.82,183.5)\" d=\"M3,0A3,3 0 1,1 0,-3A3,3 0 0,1 3,0Z\" style=\"opacity: 1; stroke-width: 0px; fill: rgb(118, 42, 131); fill-opacity: 1;\"/><path class=\"point\" transform=\"translate(739.29,183.5)\" d=\"M3,0A3,3 0 1,1 0,-3A3,3 0 0,1 3,0Z\" style=\"opacity: 1; stroke-width: 0px; fill: rgb(118, 42, 131); fill-opacity: 1;\"/><path class=\"point\" transform=\"translate(739.29,183.5)\" d=\"M3,0A3,3 0 1,1 0,-3A3,3 0 0,1 3,0Z\" style=\"opacity: 1; stroke-width: 0px; fill: rgb(118, 42, 131); fill-opacity: 1;\"/><path class=\"point\" transform=\"translate(739.29,183.5)\" d=\"M3,0A3,3 0 1,1 0,-3A3,3 0 0,1 3,0Z\" style=\"opacity: 1; stroke-width: 0px; fill: rgb(118, 42, 131); fill-opacity: 1;\"/><path class=\"point\" transform=\"translate(739.29,183.5)\" d=\"M3,0A3,3 0 1,1 0,-3A3,3 0 0,1 3,0Z\" style=\"opacity: 1; stroke-width: 0px; fill: rgb(118, 42, 131); fill-opacity: 1;\"/><path class=\"point\" transform=\"translate(739.29,183.5)\" d=\"M3,0A3,3 0 1,1 0,-3A3,3 0 0,1 3,0Z\" style=\"opacity: 1; stroke-width: 0px; fill: rgb(118, 42, 131); fill-opacity: 1;\"/><path class=\"point\" transform=\"translate(739.29,183.5)\" d=\"M3,0A3,3 0 1,1 0,-3A3,3 0 0,1 3,0Z\" style=\"opacity: 1; stroke-width: 0px; fill: rgb(118, 42, 131); fill-opacity: 1;\"/><path class=\"point\" transform=\"translate(753.75,183.5)\" d=\"M3,0A3,3 0 1,1 0,-3A3,3 0 0,1 3,0Z\" style=\"opacity: 1; stroke-width: 0px; fill: rgb(118, 42, 131); fill-opacity: 1;\"/><path class=\"point\" transform=\"translate(753.75,183.5)\" d=\"M3,0A3,3 0 1,1 0,-3A3,3 0 0,1 3,0Z\" style=\"opacity: 1; stroke-width: 0px; fill: rgb(118, 42, 131); fill-opacity: 1;\"/><path class=\"point\" transform=\"translate(753.75,183.5)\" d=\"M3,0A3,3 0 1,1 0,-3A3,3 0 0,1 3,0Z\" style=\"opacity: 1; stroke-width: 0px; fill: rgb(118, 42, 131); fill-opacity: 1;\"/><path class=\"point\" transform=\"translate(768.21,183.5)\" d=\"M3,0A3,3 0 1,1 0,-3A3,3 0 0,1 3,0Z\" style=\"opacity: 1; stroke-width: 0px; fill: rgb(118, 42, 131); fill-opacity: 1;\"/><path class=\"point\" transform=\"translate(768.21,183.5)\" d=\"M3,0A3,3 0 1,1 0,-3A3,3 0 0,1 3,0Z\" style=\"opacity: 1; stroke-width: 0px; fill: rgb(118, 42, 131); fill-opacity: 1;\"/><path class=\"point\" transform=\"translate(768.21,183.5)\" d=\"M3,0A3,3 0 1,1 0,-3A3,3 0 0,1 3,0Z\" style=\"opacity: 1; stroke-width: 0px; fill: rgb(118, 42, 131); fill-opacity: 1;\"/><path class=\"point\" transform=\"translate(768.21,183.5)\" d=\"M3,0A3,3 0 1,1 0,-3A3,3 0 0,1 3,0Z\" style=\"opacity: 1; stroke-width: 0px; fill: rgb(118, 42, 131); fill-opacity: 1;\"/><path class=\"point\" transform=\"translate(768.21,183.5)\" d=\"M3,0A3,3 0 1,1 0,-3A3,3 0 0,1 3,0Z\" style=\"opacity: 1; stroke-width: 0px; fill: rgb(118, 42, 131); fill-opacity: 1;\"/><path class=\"point\" transform=\"translate(768.21,183.5)\" d=\"M3,0A3,3 0 1,1 0,-3A3,3 0 0,1 3,0Z\" style=\"opacity: 1; stroke-width: 0px; fill: rgb(118, 42, 131); fill-opacity: 1;\"/><path class=\"point\" transform=\"translate(782.68,183.5)\" d=\"M3,0A3,3 0 1,1 0,-3A3,3 0 0,1 3,0Z\" style=\"opacity: 1; stroke-width: 0px; fill: rgb(118, 42, 131); fill-opacity: 1;\"/><path class=\"point\" transform=\"translate(811.61,183.5)\" d=\"M3,0A3,3 0 1,1 0,-3A3,3 0 0,1 3,0Z\" style=\"opacity: 1; stroke-width: 0px; fill: rgb(118, 42, 131); fill-opacity: 1;\"/><path class=\"point\" transform=\"translate(811.61,183.5)\" d=\"M3,0A3,3 0 1,1 0,-3A3,3 0 0,1 3,0Z\" style=\"opacity: 1; stroke-width: 0px; fill: rgb(118, 42, 131); fill-opacity: 1;\"/><path class=\"point\" transform=\"translate(811.61,183.5)\" d=\"M3,0A3,3 0 1,1 0,-3A3,3 0 0,1 3,0Z\" style=\"opacity: 1; stroke-width: 0px; fill: rgb(118, 42, 131); fill-opacity: 1;\"/><path class=\"point\" transform=\"translate(855,183.5)\" d=\"M3,0A3,3 0 1,1 0,-3A3,3 0 0,1 3,0Z\" style=\"opacity: 1; stroke-width: 0px; fill: rgb(118, 42, 131); fill-opacity: 1;\"/></g></g></g></g><g class=\"overplot\"/><path class=\"xlines-above crisp\" d=\"M0,0\" style=\"fill: none;\"/><path class=\"ylines-above crisp\" d=\"M0,0\" style=\"fill: none;\"/><g class=\"overlines-above\"/><g class=\"xaxislayer-above\"><g class=\"xtick\"><text text-anchor=\"middle\" x=\"0\" y=\"460\" transform=\"translate(66.07,0)\" style=\"font-family: 'Open Sans', verdana, arial, sans-serif; font-size: 12px; fill: rgb(42, 63, 95); fill-opacity: 1; white-space: pre; opacity: 1;\">10</text></g><g class=\"xtick\"><text text-anchor=\"middle\" x=\"0\" y=\"460\" style=\"font-family: 'Open Sans', verdana, arial, sans-serif; font-size: 12px; fill: rgb(42, 63, 95); fill-opacity: 1; white-space: pre; opacity: 1;\" transform=\"translate(210.71,0)\">20</text></g><g class=\"xtick\"><text text-anchor=\"middle\" x=\"0\" y=\"460\" style=\"font-family: 'Open Sans', verdana, arial, sans-serif; font-size: 12px; fill: rgb(42, 63, 95); fill-opacity: 1; white-space: pre; opacity: 1;\" transform=\"translate(355.36,0)\">30</text></g><g class=\"xtick\"><text text-anchor=\"middle\" x=\"0\" y=\"460\" style=\"font-family: 'Open Sans', verdana, arial, sans-serif; font-size: 12px; fill: rgb(42, 63, 95); fill-opacity: 1; white-space: pre; opacity: 1;\" transform=\"translate(500,0)\">40</text></g><g class=\"xtick\"><text text-anchor=\"middle\" x=\"0\" y=\"460\" style=\"font-family: 'Open Sans', verdana, arial, sans-serif; font-size: 12px; fill: rgb(42, 63, 95); fill-opacity: 1; white-space: pre; opacity: 1;\" transform=\"translate(644.64,0)\">50</text></g><g class=\"xtick\"><text text-anchor=\"middle\" x=\"0\" y=\"460\" style=\"font-family: 'Open Sans', verdana, arial, sans-serif; font-size: 12px; fill: rgb(42, 63, 95); fill-opacity: 1; white-space: pre; opacity: 1;\" transform=\"translate(789.29,0)\">60</text></g><g class=\"xtick\"><text text-anchor=\"middle\" x=\"0\" y=\"460\" style=\"font-family: 'Open Sans', verdana, arial, sans-serif; font-size: 12px; fill: rgb(42, 63, 95); fill-opacity: 1; white-space: pre; opacity: 1;\" transform=\"translate(933.93,0)\">70</text></g></g><g class=\"yaxislayer-above\"><g class=\"ytick\"><text text-anchor=\"end\" x=\"49\" y=\"4.199999999999999\" transform=\"translate(0,263.5)\" style=\"font-family: 'Open Sans', verdana, arial, sans-serif; font-size: 12px; fill: rgb(42, 63, 95); fill-opacity: 1; white-space: pre; opacity: 1;\">trace 0</text></g></g><g class=\"overaxes-above\"/></g></g><g class=\"polarlayer\"/><g class=\"smithlayer\"/><g class=\"ternarylayer\"/><g class=\"geolayer\"/><g class=\"funnelarealayer\"/><g class=\"pielayer\"/><g class=\"iciclelayer\"/><g class=\"treemaplayer\"/><g class=\"sunburstlayer\"/><g class=\"glimages\"/><defs id=\"topdefs-7bd9c3\"><g class=\"clips\"/></defs><g class=\"layer-above\"><g class=\"imagelayer\"/><g class=\"shapelayer\"/></g><g class=\"infolayer\"><g class=\"g-gtitle\"><text class=\"gtitle\" x=\"100\" y=\"25\" text-anchor=\"middle\" dy=\"0.7em\" style=\"font-family: 'Times New Roman'; font-size: 26px; fill: rgb(0, 0, 0); opacity: 1; font-weight: normal; white-space: pre;\">Boxplot of Age</text></g><g class=\"g-xtitle\"><text class=\"xtitle\" x=\"500\" y=\"487.3\" text-anchor=\"middle\" style=\"font-family: 'Open Sans', verdana, arial, sans-serif; font-size: 14px; fill: rgb(42, 63, 95); opacity: 1; font-weight: normal; white-space: pre;\">Age</text></g><g class=\"g-ytitle\"/></g></svg>"
      ]
     },
     "metadata": {},
     "output_type": "display_data"
    }
   ],
   "source": [
    "fig = go.Figure(data=[go.Box(\n",
    "    x=df['age'],\n",
    "    marker=dict(color=palette[1])\n",
    ")])\n",
    "\n",
    "fig.update_layout(\n",
    "    title_text=\"Boxplot of Age\",\n",
    "    title_font_size=24,\n",
    "    title_font_family=\"Times New Roman\",\n",
    "    title_font_color=\"#000000\",  \n",
    "    paper_bgcolor='#ffffff',  \n",
    "    plot_bgcolor='#ffffff',  \n",
    "    xaxis=dict(title=\"Age\"),\n",
    ")\n",
    "\n",
    "fig.update_layout(\n",
    "    title={\n",
    "        'y':0.95,\n",
    "        'x':0.10,\n",
    "        'xanchor': 'center',\n",
    "        'yanchor': 'top'},\n",
    "    title_font_size=26,\n",
    "    margin=dict(l=50, r=50, t=80, b=50)\n",
    ")\n",
    "\n",
    "\n",
    "\n",
    "fig.update_layout(width=1000)\n",
    "\n",
    "fig.show('svg')"
   ]
  },
  {
   "cell_type": "markdown",
   "id": "b64fcb7c",
   "metadata": {
    "papermill": {
     "duration": 0.037137,
     "end_time": "2024-05-30T17:02:51.447333",
     "exception": false,
     "start_time": "2024-05-30T17:02:51.410196",
     "status": "completed"
    },
    "tags": []
   },
   "source": [
    "*Some outliers are present after 54*"
   ]
  },
  {
   "cell_type": "markdown",
   "id": "8e4e524f",
   "metadata": {
    "papermill": {
     "duration": 0.037146,
     "end_time": "2024-05-30T17:02:51.522922",
     "exception": false,
     "start_time": "2024-05-30T17:02:51.485776",
     "status": "completed"
    },
    "tags": []
   },
   "source": [
    "----------------------------------------------------------------------------------------------------------------------------------------------------------"
   ]
  },
  {
   "cell_type": "markdown",
   "id": "7a7df777",
   "metadata": {
    "papermill": {
     "duration": 0.039117,
     "end_time": "2024-05-30T17:02:51.600071",
     "exception": false,
     "start_time": "2024-05-30T17:02:51.560954",
     "status": "completed"
    },
    "tags": []
   },
   "source": [
    "## wtkg : Weight (in Kgs)\n",
    "\n",
    "***Conclusions***\n",
    "- *Most of the outliers are present beyond the weight of 100kg*\n",
    "\n",
    "- *The distribution is slightly positively skewewd*\n",
    "\n",
    "- \"No missing values\"\n",
    "\n",
    "***Hypothesis***\n",
    "\n",
    "- *As most of the outliers in the Age column are present beyond the age of 60, hence maybe most of the people belonging to that age group are over 100 kg*"
   ]
  },
  {
   "cell_type": "code",
   "execution_count": 11,
   "id": "fe3fbc73",
   "metadata": {
    "execution": {
     "iopub.execute_input": "2024-05-30T17:02:51.677564Z",
     "iopub.status.busy": "2024-05-30T17:02:51.677142Z",
     "iopub.status.idle": "2024-05-30T17:02:51.690326Z",
     "shell.execute_reply": "2024-05-30T17:02:51.688389Z"
    },
    "papermill": {
     "duration": 0.056011,
     "end_time": "2024-05-30T17:02:51.693458",
     "exception": false,
     "start_time": "2024-05-30T17:02:51.637447",
     "status": "completed"
    },
    "tags": []
   },
   "outputs": [
    {
     "data": {
      "text/plain": [
       "count    15000.000000\n",
       "mean        76.019604\n",
       "std         12.170759\n",
       "min         42.256390\n",
       "25%         68.323125\n",
       "50%         74.114225\n",
       "75%         81.309035\n",
       "max        141.612390\n",
       "Name: wtkg, dtype: float64"
      ]
     },
     "execution_count": 11,
     "metadata": {},
     "output_type": "execute_result"
    }
   ],
   "source": [
    "df['wtkg'].describe()"
   ]
  },
  {
   "cell_type": "code",
   "execution_count": 12,
   "id": "64b18e08",
   "metadata": {
    "execution": {
     "iopub.execute_input": "2024-05-30T17:02:51.772375Z",
     "iopub.status.busy": "2024-05-30T17:02:51.771965Z",
     "iopub.status.idle": "2024-05-30T17:02:51.982774Z",
     "shell.execute_reply": "2024-05-30T17:02:51.981813Z"
    },
    "papermill": {
     "duration": 0.254514,
     "end_time": "2024-05-30T17:02:51.985244",
     "exception": false,
     "start_time": "2024-05-30T17:02:51.730730",
     "status": "completed"
    },
    "tags": []
   },
   "outputs": [
    {
     "data": {
      "image/svg+xml": [
       "<svg class=\"main-svg\" xmlns=\"http://www.w3.org/2000/svg\" xmlns:xlink=\"http://www.w3.org/1999/xlink\" width=\"1000\" height=\"500\" style=\"\" viewBox=\"0 0 1000 500\"><rect x=\"0\" y=\"0\" width=\"1000\" height=\"500\" style=\"fill: rgb(255, 255, 255); fill-opacity: 1;\"/><defs id=\"defs-25f9f8\"><g class=\"clips\"><clipPath id=\"clip25f9f8xyplot\" class=\"plotclip\"><rect width=\"885\" height=\"367\"/></clipPath><clipPath class=\"axesclip\" id=\"clip25f9f8x\"><rect x=\"65\" y=\"0\" width=\"885\" height=\"500\"/></clipPath><clipPath class=\"axesclip\" id=\"clip25f9f8y\"><rect x=\"0\" y=\"80\" width=\"1000\" height=\"367\"/></clipPath><clipPath class=\"axesclip\" id=\"clip25f9f8xy\"><rect x=\"65\" y=\"80\" width=\"885\" height=\"367\"/></clipPath></g><g class=\"gradients\"/><g class=\"patterns\"/></defs><g class=\"bglayer\"/><g class=\"layer-below\"><g class=\"imagelayer\"/><g class=\"shapelayer\"/></g><g class=\"cartesianlayer\"><g class=\"subplot xy\"><g class=\"layer-subplot\"><g class=\"shapelayer\"/><g class=\"imagelayer\"/></g><g class=\"minor-gridlayer\"><g class=\"x\"/><g class=\"y\"/></g><g class=\"gridlayer\"><g class=\"x\"/><g class=\"y\"><path class=\"ygrid crisp\" transform=\"translate(0,388.57)\" d=\"M65,0h885\" style=\"stroke: rgb(255, 255, 255); stroke-opacity: 1; stroke-width: 1px;\"/><path class=\"ygrid crisp\" transform=\"translate(0,330.14)\" d=\"M65,0h885\" style=\"stroke: rgb(255, 255, 255); stroke-opacity: 1; stroke-width: 1px;\"/><path class=\"ygrid crisp\" transform=\"translate(0,271.71000000000004)\" d=\"M65,0h885\" style=\"stroke: rgb(255, 255, 255); stroke-opacity: 1; stroke-width: 1px;\"/><path class=\"ygrid crisp\" transform=\"translate(0,213.28)\" d=\"M65,0h885\" style=\"stroke: rgb(255, 255, 255); stroke-opacity: 1; stroke-width: 1px;\"/><path class=\"ygrid crisp\" transform=\"translate(0,154.85)\" d=\"M65,0h885\" style=\"stroke: rgb(255, 255, 255); stroke-opacity: 1; stroke-width: 1px;\"/><path class=\"ygrid crisp\" transform=\"translate(0,96.42)\" d=\"M65,0h885\" style=\"stroke: rgb(255, 255, 255); stroke-opacity: 1; stroke-width: 1px;\"/></g></g><g class=\"zerolinelayer\"><path class=\"yzl zl crisp\" transform=\"translate(0,447)\" d=\"M65,0h885\" style=\"stroke: rgb(255, 255, 255); stroke-opacity: 1; stroke-width: 2px;\"/></g><path class=\"xlines-below\"/><path class=\"ylines-below\"/><g class=\"overlines-below\"/><g class=\"xaxislayer-below\"/><g class=\"yaxislayer-below\"/><g class=\"overaxes-below\"/><g class=\"plot\" transform=\"translate(65,80)\" clip-path=\"url(#clip25f9f8xyplot)\"><g class=\"barlayer mlayer\"><g class=\"trace bars\" shape-rendering=\"crispEdges\" style=\"opacity: 1;\"><g class=\"points\"><g class=\"point\"><path d=\"M0,367V365.31H80.45V367Z\" style=\"vector-effect: none; opacity: 1; stroke-width: 0px; fill: rgb(214, 96, 77); fill-opacity: 1;\"/></g><g class=\"point\"><path d=\"M80.45,367V324H160.91V367Z\" style=\"vector-effect: none; opacity: 1; stroke-width: 0px; fill: rgb(214, 96, 77); fill-opacity: 1;\"/></g><g class=\"point\"><path d=\"M160.91,367V134.74H241.36V367Z\" style=\"vector-effect: none; opacity: 1; stroke-width: 0px; fill: rgb(214, 96, 77); fill-opacity: 1;\"/></g><g class=\"point\"><path d=\"M241.36,367V18.35H321.82V367Z\" style=\"vector-effect: none; opacity: 1; stroke-width: 0px; fill: rgb(214, 96, 77); fill-opacity: 1;\"/></g><g class=\"point\"><path d=\"M321.82,367V213.51H402.27V367Z\" style=\"vector-effect: none; opacity: 1; stroke-width: 0px; fill: rgb(214, 96, 77); fill-opacity: 1;\"/></g><g class=\"point\"><path d=\"M402.27,367V312.25H482.73V367Z\" style=\"vector-effect: none; opacity: 1; stroke-width: 0px; fill: rgb(214, 96, 77); fill-opacity: 1;\"/></g><g class=\"point\"><path d=\"M482.73,367V343.34H563.18V367Z\" style=\"vector-effect: none; opacity: 1; stroke-width: 0px; fill: rgb(214, 96, 77); fill-opacity: 1;\"/></g><g class=\"point\"><path d=\"M563.18,367V354.15H643.64V367Z\" style=\"vector-effect: none; opacity: 1; stroke-width: 0px; fill: rgb(214, 96, 77); fill-opacity: 1;\"/></g><g class=\"point\"><path d=\"M643.64,367V361.98H724.09V367Z\" style=\"vector-effect: none; opacity: 1; stroke-width: 0px; fill: rgb(214, 96, 77); fill-opacity: 1;\"/></g><g class=\"point\"><path d=\"M724.09,367V366.07H804.55V367Z\" style=\"vector-effect: none; opacity: 1; stroke-width: 0px; fill: rgb(214, 96, 77); fill-opacity: 1;\"/></g><g class=\"point\"><path d=\"M804.55,367V366.88H885V367Z\" style=\"vector-effect: none; opacity: 1; stroke-width: 0px; fill: rgb(214, 96, 77); fill-opacity: 1;\"/></g></g></g></g></g><g class=\"overplot\"/><path class=\"xlines-above crisp\" d=\"M0,0\" style=\"fill: none;\"/><path class=\"ylines-above crisp\" d=\"M0,0\" style=\"fill: none;\"/><g class=\"overlines-above\"/><g class=\"xaxislayer-above\"><g class=\"xtick\"><text text-anchor=\"middle\" x=\"0\" y=\"460\" transform=\"translate(65,0)\" style=\"font-family: 'Open Sans', verdana, arial, sans-serif; font-size: 12px; fill: rgb(42, 63, 95); fill-opacity: 1; white-space: pre; opacity: 1;\">40</text></g><g class=\"xtick\"><text text-anchor=\"middle\" x=\"0\" y=\"460\" style=\"font-family: 'Open Sans', verdana, arial, sans-serif; font-size: 12px; fill: rgb(42, 63, 95); fill-opacity: 1; white-space: pre; opacity: 1;\" transform=\"translate(225.91,0)\">60</text></g><g class=\"xtick\"><text text-anchor=\"middle\" x=\"0\" y=\"460\" style=\"font-family: 'Open Sans', verdana, arial, sans-serif; font-size: 12px; fill: rgb(42, 63, 95); fill-opacity: 1; white-space: pre; opacity: 1;\" transform=\"translate(386.82,0)\">80</text></g><g class=\"xtick\"><text text-anchor=\"middle\" x=\"0\" y=\"460\" style=\"font-family: 'Open Sans', verdana, arial, sans-serif; font-size: 12px; fill: rgb(42, 63, 95); fill-opacity: 1; white-space: pre; opacity: 1;\" transform=\"translate(547.73,0)\">100</text></g><g class=\"xtick\"><text text-anchor=\"middle\" x=\"0\" y=\"460\" style=\"font-family: 'Open Sans', verdana, arial, sans-serif; font-size: 12px; fill: rgb(42, 63, 95); fill-opacity: 1; white-space: pre; opacity: 1;\" transform=\"translate(708.64,0)\">120</text></g><g class=\"xtick\"><text text-anchor=\"middle\" x=\"0\" y=\"460\" style=\"font-family: 'Open Sans', verdana, arial, sans-serif; font-size: 12px; fill: rgb(42, 63, 95); fill-opacity: 1; white-space: pre; opacity: 1;\" transform=\"translate(869.55,0)\">140</text></g></g><g class=\"yaxislayer-above\"><g class=\"ytick\"><text text-anchor=\"end\" x=\"64\" y=\"4.199999999999999\" transform=\"translate(0,447)\" style=\"font-family: 'Open Sans', verdana, arial, sans-serif; font-size: 12px; fill: rgb(42, 63, 95); fill-opacity: 1; white-space: pre; opacity: 1;\">0</text></g><g class=\"ytick\"><text text-anchor=\"end\" x=\"64\" y=\"4.199999999999999\" style=\"font-family: 'Open Sans', verdana, arial, sans-serif; font-size: 12px; fill: rgb(42, 63, 95); fill-opacity: 1; white-space: pre; opacity: 1;\" transform=\"translate(0,388.57)\">1000</text></g><g class=\"ytick\"><text text-anchor=\"end\" x=\"64\" y=\"4.199999999999999\" style=\"font-family: 'Open Sans', verdana, arial, sans-serif; font-size: 12px; fill: rgb(42, 63, 95); fill-opacity: 1; white-space: pre; opacity: 1;\" transform=\"translate(0,330.14)\">2000</text></g><g class=\"ytick\"><text text-anchor=\"end\" x=\"64\" y=\"4.199999999999999\" style=\"font-family: 'Open Sans', verdana, arial, sans-serif; font-size: 12px; fill: rgb(42, 63, 95); fill-opacity: 1; white-space: pre; opacity: 1;\" transform=\"translate(0,271.71000000000004)\">3000</text></g><g class=\"ytick\"><text text-anchor=\"end\" x=\"64\" y=\"4.199999999999999\" style=\"font-family: 'Open Sans', verdana, arial, sans-serif; font-size: 12px; fill: rgb(42, 63, 95); fill-opacity: 1; white-space: pre; opacity: 1;\" transform=\"translate(0,213.28)\">4000</text></g><g class=\"ytick\"><text text-anchor=\"end\" x=\"64\" y=\"4.199999999999999\" style=\"font-family: 'Open Sans', verdana, arial, sans-serif; font-size: 12px; fill: rgb(42, 63, 95); fill-opacity: 1; white-space: pre; opacity: 1;\" transform=\"translate(0,154.85)\">5000</text></g><g class=\"ytick\"><text text-anchor=\"end\" x=\"64\" y=\"4.199999999999999\" style=\"font-family: 'Open Sans', verdana, arial, sans-serif; font-size: 12px; fill: rgb(42, 63, 95); fill-opacity: 1; white-space: pre; opacity: 1;\" transform=\"translate(0,96.42)\">6000</text></g></g><g class=\"overaxes-above\"/></g></g><g class=\"polarlayer\"/><g class=\"smithlayer\"/><g class=\"ternarylayer\"/><g class=\"geolayer\"/><g class=\"funnelarealayer\"/><g class=\"pielayer\"/><g class=\"iciclelayer\"/><g class=\"treemaplayer\"/><g class=\"sunburstlayer\"/><g class=\"glimages\"/><defs id=\"topdefs-25f9f8\"><g class=\"clips\"/></defs><g class=\"layer-above\"><g class=\"imagelayer\"/><g class=\"shapelayer\"/></g><g class=\"infolayer\"><g class=\"g-gtitle\"><text class=\"gtitle\" x=\"150\" y=\"25\" text-anchor=\"middle\" dy=\"0.7em\" style=\"font-family: 'Times New Roman'; font-size: 26px; fill: rgb(0, 0, 0); opacity: 1; font-weight: normal; white-space: pre;\">Weight Distribution</text></g><g class=\"g-xtitle\"><text class=\"xtitle\" x=\"507.5\" y=\"487.3\" text-anchor=\"middle\" style=\"font-family: 'Open Sans', verdana, arial, sans-serif; font-size: 14px; fill: rgb(42, 63, 95); opacity: 1; font-weight: normal; white-space: pre;\">Age</text></g><g class=\"g-ytitle\" transform=\"translate(0.0029296875,0)\"><text class=\"ytitle\" transform=\"rotate(-90,12.996875000000003,263.5)\" x=\"12.996875000000003\" y=\"263.5\" text-anchor=\"middle\" style=\"font-family: 'Open Sans', verdana, arial, sans-serif; font-size: 14px; fill: rgb(42, 63, 95); opacity: 1; font-weight: normal; white-space: pre;\">Frequency</text></g></g></svg>"
      ]
     },
     "metadata": {},
     "output_type": "display_data"
    }
   ],
   "source": [
    "palette = cl.to_rgb(cl.scales['10']['div']['RdGy'])\n",
    "\n",
    "# Create the histogram\n",
    "fig = go.Figure(data=[go.Histogram(\n",
    "    x=df['wtkg'],\n",
    "    marker=dict(color=palette[2]),  # Choose the first color from the palette\n",
    "    nbinsx=10\n",
    ")])\n",
    "\n",
    "# Update layout for better appearance\n",
    "fig.update_layout(\n",
    "    title_text=\"Weight Distribution\",\n",
    "    title_font_size=24,\n",
    "    title_font_family=\"Times New Roman\",\n",
    "    title_font_color=\"#000000\",  # Adjust title font color for better visibility\n",
    "    paper_bgcolor='#ffffff',  # Set the background color to a warm white shade (#faf0e6)\n",
    "    plot_bgcolor='#ffffff',  # Make sure the plot area also has a consistent background\n",
    "    xaxis=dict(title=\"Age\"),\n",
    "    yaxis=dict(title=\"Frequency\"),\n",
    ")\n",
    "\n",
    "# Adding a more vibrant title and better spacing\n",
    "fig.update_layout(\n",
    "    title={\n",
    "        'text': \"Weight Distribution\",\n",
    "        'y':0.95,\n",
    "        'x':0.15,\n",
    "        'xanchor': 'center',\n",
    "        'yanchor': 'top'},\n",
    "    title_font_size=26,\n",
    "    margin=dict(l=50, r=50, t=80, b=50)\n",
    ")\n",
    "\n",
    "fig.update_layout(width=1000)\n",
    "\n",
    "# Show the pie chart\n",
    "fig.show('svg')"
   ]
  },
  {
   "cell_type": "markdown",
   "id": "a50beb7f",
   "metadata": {
    "papermill": {
     "duration": 0.037809,
     "end_time": "2024-05-30T17:02:52.063036",
     "exception": false,
     "start_time": "2024-05-30T17:02:52.025227",
     "status": "completed"
    },
    "tags": []
   },
   "source": [
    "*Almost normally distributed. Slightly positively skewed*"
   ]
  },
  {
   "cell_type": "code",
   "execution_count": 13,
   "id": "db4fa70e",
   "metadata": {
    "execution": {
     "iopub.execute_input": "2024-05-30T17:02:52.141267Z",
     "iopub.status.busy": "2024-05-30T17:02:52.140776Z",
     "iopub.status.idle": "2024-05-30T17:02:52.149790Z",
     "shell.execute_reply": "2024-05-30T17:02:52.148427Z"
    },
    "papermill": {
     "duration": 0.051014,
     "end_time": "2024-05-30T17:02:52.152558",
     "exception": false,
     "start_time": "2024-05-30T17:02:52.101544",
     "status": "completed"
    },
    "tags": []
   },
   "outputs": [
    {
     "data": {
      "text/plain": [
       "1.1910895370485162"
      ]
     },
     "execution_count": 13,
     "metadata": {},
     "output_type": "execute_result"
    }
   ],
   "source": [
    "df['wtkg'].skew()"
   ]
  },
  {
   "cell_type": "markdown",
   "id": "5b16174c",
   "metadata": {
    "papermill": {
     "duration": 0.036976,
     "end_time": "2024-05-30T17:02:52.228208",
     "exception": false,
     "start_time": "2024-05-30T17:02:52.191232",
     "status": "completed"
    },
    "tags": []
   },
   "source": [
    "*Close to 1*"
   ]
  },
  {
   "cell_type": "code",
   "execution_count": 14,
   "id": "1a39e9ec",
   "metadata": {
    "execution": {
     "iopub.execute_input": "2024-05-30T17:02:52.307146Z",
     "iopub.status.busy": "2024-05-30T17:02:52.306173Z",
     "iopub.status.idle": "2024-05-30T17:02:52.651154Z",
     "shell.execute_reply": "2024-05-30T17:02:52.649894Z"
    },
    "papermill": {
     "duration": 0.390519,
     "end_time": "2024-05-30T17:02:52.656073",
     "exception": false,
     "start_time": "2024-05-30T17:02:52.265554",
     "status": "completed"
    },
    "tags": []
   },
   "outputs": [
    {
     "data": {
      "image/svg+xml": [
       "<svg class=\"main-svg\" xmlns=\"http://www.w3.org/2000/svg\" xmlns:xlink=\"http://www.w3.org/1999/xlink\" width=\"1000\" height=\"500\" style=\"\" viewBox=\"0 0 1000 500\"><rect x=\"0\" y=\"0\" width=\"1000\" height=\"500\" style=\"fill: rgb(255, 255, 255); fill-opacity: 1;\"/><defs id=\"defs-128844\"><g class=\"clips\"><clipPath id=\"clip128844xyplot\" class=\"plotclip\"><rect width=\"900\" height=\"367\"/></clipPath><clipPath class=\"axesclip\" id=\"clip128844x\"><rect x=\"50\" y=\"0\" width=\"900\" height=\"500\"/></clipPath><clipPath class=\"axesclip\" id=\"clip128844y\"><rect x=\"0\" y=\"80\" width=\"1000\" height=\"367\"/></clipPath><clipPath class=\"axesclip\" id=\"clip128844xy\"><rect x=\"50\" y=\"80\" width=\"900\" height=\"367\"/></clipPath></g><g class=\"gradients\"/><g class=\"patterns\"/></defs><g class=\"bglayer\"/><g class=\"layer-below\"><g class=\"imagelayer\"/><g class=\"shapelayer\"/></g><g class=\"cartesianlayer\"><g class=\"subplot xy\"><g class=\"layer-subplot\"><g class=\"shapelayer\"/><g class=\"imagelayer\"/></g><g class=\"minor-gridlayer\"><g class=\"x\"/><g class=\"y\"/></g><g class=\"gridlayer\"><g class=\"x\"><path class=\"xgrid crisp\" transform=\"translate(76.6,0)\" d=\"M0,80v367\" style=\"stroke: rgb(255, 255, 255); stroke-opacity: 1; stroke-width: 1px;\"/><path class=\"xgrid crisp\" transform=\"translate(239.65,0)\" d=\"M0,80v367\" style=\"stroke: rgb(255, 255, 255); stroke-opacity: 1; stroke-width: 1px;\"/><path class=\"xgrid crisp\" transform=\"translate(402.7,0)\" d=\"M0,80v367\" style=\"stroke: rgb(255, 255, 255); stroke-opacity: 1; stroke-width: 1px;\"/><path class=\"xgrid crisp\" transform=\"translate(565.75,0)\" d=\"M0,80v367\" style=\"stroke: rgb(255, 255, 255); stroke-opacity: 1; stroke-width: 1px;\"/><path class=\"xgrid crisp\" transform=\"translate(728.8,0)\" d=\"M0,80v367\" style=\"stroke: rgb(255, 255, 255); stroke-opacity: 1; stroke-width: 1px;\"/><path class=\"xgrid crisp\" transform=\"translate(891.85,0)\" d=\"M0,80v367\" style=\"stroke: rgb(255, 255, 255); stroke-opacity: 1; stroke-width: 1px;\"/></g><g class=\"y\"/></g><g class=\"zerolinelayer\"/><path class=\"xlines-below\"/><path class=\"ylines-below\"/><g class=\"overlines-below\"/><g class=\"xaxislayer-below\"/><g class=\"yaxislayer-below\"/><g class=\"overaxes-below\"/><g class=\"plot\" transform=\"translate(50,80)\" clip-path=\"url(#clip128844xyplot)\"><g class=\"boxlayer mlayer\"><g class=\"trace boxes\" style=\"opacity: 1;\"><path class=\"box\" d=\"M304.72,273.41V93.59M257.5,273.41V93.59H363.38V273.41ZM257.5,183.5H98.71M363.38,183.5H522.18M98.71,228.46V138.54M522.18,228.46V138.54\" style=\"vector-effect: none; stroke-width: 2px; stroke: rgb(178, 24, 43); stroke-opacity: 1; fill: rgb(178, 24, 43); fill-opacity: 0.5;\"/><g class=\"points\"><path class=\"point\" transform=\"translate(45,183.5)\" d=\"M3,0A3,3 0 1,1 0,-3A3,3 0 0,1 3,0Z\" style=\"opacity: 1; stroke-width: 0px; fill: rgb(178, 24, 43); fill-opacity: 1;\"/><path class=\"point\" transform=\"translate(47.13,183.5)\" d=\"M3,0A3,3 0 1,1 0,-3A3,3 0 0,1 3,0Z\" style=\"opacity: 1; stroke-width: 0px; fill: rgb(178, 24, 43); fill-opacity: 1;\"/><path class=\"point\" transform=\"translate(58.94,183.5)\" d=\"M3,0A3,3 0 1,1 0,-3A3,3 0 0,1 3,0Z\" style=\"opacity: 1; stroke-width: 0px; fill: rgb(178, 24, 43); fill-opacity: 1;\"/><path class=\"point\" transform=\"translate(62.28,183.5)\" d=\"M3,0A3,3 0 1,1 0,-3A3,3 0 0,1 3,0Z\" style=\"opacity: 1; stroke-width: 0px; fill: rgb(178, 24, 43); fill-opacity: 1;\"/><path class=\"point\" transform=\"translate(63.74,183.5)\" d=\"M3,0A3,3 0 1,1 0,-3A3,3 0 0,1 3,0Z\" style=\"opacity: 1; stroke-width: 0px; fill: rgb(178, 24, 43); fill-opacity: 1;\"/><path class=\"point\" transform=\"translate(68.37,183.5)\" d=\"M3,0A3,3 0 1,1 0,-3A3,3 0 0,1 3,0Z\" style=\"opacity: 1; stroke-width: 0px; fill: rgb(178, 24, 43); fill-opacity: 1;\"/><path class=\"point\" transform=\"translate(76.27,183.5)\" d=\"M3,0A3,3 0 1,1 0,-3A3,3 0 0,1 3,0Z\" style=\"opacity: 1; stroke-width: 0px; fill: rgb(178, 24, 43); fill-opacity: 1;\"/><path class=\"point\" transform=\"translate(79.24,183.5)\" d=\"M3,0A3,3 0 1,1 0,-3A3,3 0 0,1 3,0Z\" style=\"opacity: 1; stroke-width: 0px; fill: rgb(178, 24, 43); fill-opacity: 1;\"/><path class=\"point\" transform=\"translate(82.56,183.5)\" d=\"M3,0A3,3 0 1,1 0,-3A3,3 0 0,1 3,0Z\" style=\"opacity: 1; stroke-width: 0px; fill: rgb(178, 24, 43); fill-opacity: 1;\"/><path class=\"point\" transform=\"translate(86.66,183.5)\" d=\"M3,0A3,3 0 1,1 0,-3A3,3 0 0,1 3,0Z\" style=\"opacity: 1; stroke-width: 0px; fill: rgb(178, 24, 43); fill-opacity: 1;\"/><path class=\"point\" transform=\"translate(87.32,183.5)\" d=\"M3,0A3,3 0 1,1 0,-3A3,3 0 0,1 3,0Z\" style=\"opacity: 1; stroke-width: 0px; fill: rgb(178, 24, 43); fill-opacity: 1;\"/><path class=\"point\" transform=\"translate(90,183.5)\" d=\"M3,0A3,3 0 1,1 0,-3A3,3 0 0,1 3,0Z\" style=\"opacity: 1; stroke-width: 0px; fill: rgb(178, 24, 43); fill-opacity: 1;\"/><path class=\"point\" transform=\"translate(91,183.5)\" d=\"M3,0A3,3 0 1,1 0,-3A3,3 0 0,1 3,0Z\" style=\"opacity: 1; stroke-width: 0px; fill: rgb(178, 24, 43); fill-opacity: 1;\"/><path class=\"point\" transform=\"translate(93.41,183.5)\" d=\"M3,0A3,3 0 1,1 0,-3A3,3 0 0,1 3,0Z\" style=\"opacity: 1; stroke-width: 0px; fill: rgb(178, 24, 43); fill-opacity: 1;\"/><path class=\"point\" transform=\"translate(97.33,183.5)\" d=\"M3,0A3,3 0 1,1 0,-3A3,3 0 0,1 3,0Z\" style=\"opacity: 1; stroke-width: 0px; fill: rgb(178, 24, 43); fill-opacity: 1;\"/><path class=\"point\" transform=\"translate(98.12,183.5)\" d=\"M3,0A3,3 0 1,1 0,-3A3,3 0 0,1 3,0Z\" style=\"opacity: 1; stroke-width: 0px; fill: rgb(178, 24, 43); fill-opacity: 1;\"/><path class=\"point\" transform=\"translate(98.31,183.5)\" d=\"M3,0A3,3 0 1,1 0,-3A3,3 0 0,1 3,0Z\" style=\"opacity: 1; stroke-width: 0px; fill: rgb(178, 24, 43); fill-opacity: 1;\"/><path class=\"point\" transform=\"translate(98.5,183.5)\" d=\"M3,0A3,3 0 1,1 0,-3A3,3 0 0,1 3,0Z\" style=\"opacity: 1; stroke-width: 0px; fill: rgb(178, 24, 43); fill-opacity: 1;\"/><path class=\"point\" transform=\"translate(522.3,183.5)\" d=\"M3,0A3,3 0 1,1 0,-3A3,3 0 0,1 3,0Z\" style=\"opacity: 1; stroke-width: 0px; fill: rgb(178, 24, 43); fill-opacity: 1;\"/><path class=\"point\" transform=\"translate(522.34,183.5)\" d=\"M3,0A3,3 0 1,1 0,-3A3,3 0 0,1 3,0Z\" style=\"opacity: 1; stroke-width: 0px; fill: rgb(178, 24, 43); fill-opacity: 1;\"/><path class=\"point\" transform=\"translate(522.57,183.5)\" d=\"M3,0A3,3 0 1,1 0,-3A3,3 0 0,1 3,0Z\" style=\"opacity: 1; stroke-width: 0px; fill: rgb(178, 24, 43); fill-opacity: 1;\"/><path class=\"point\" transform=\"translate(522.82,183.5)\" d=\"M3,0A3,3 0 1,1 0,-3A3,3 0 0,1 3,0Z\" style=\"opacity: 1; stroke-width: 0px; fill: rgb(178, 24, 43); fill-opacity: 1;\"/><path class=\"point\" transform=\"translate(522.87,183.5)\" d=\"M3,0A3,3 0 1,1 0,-3A3,3 0 0,1 3,0Z\" style=\"opacity: 1; stroke-width: 0px; fill: rgb(178, 24, 43); fill-opacity: 1;\"/><path class=\"point\" transform=\"translate(522.9,183.5)\" d=\"M3,0A3,3 0 1,1 0,-3A3,3 0 0,1 3,0Z\" style=\"opacity: 1; stroke-width: 0px; fill: rgb(178, 24, 43); fill-opacity: 1;\"/><path class=\"point\" transform=\"translate(522.99,183.5)\" d=\"M3,0A3,3 0 1,1 0,-3A3,3 0 0,1 3,0Z\" style=\"opacity: 1; stroke-width: 0px; fill: rgb(178, 24, 43); fill-opacity: 1;\"/><path class=\"point\" transform=\"translate(523.33,183.5)\" d=\"M3,0A3,3 0 1,1 0,-3A3,3 0 0,1 3,0Z\" style=\"opacity: 1; stroke-width: 0px; fill: rgb(178, 24, 43); fill-opacity: 1;\"/><path class=\"point\" transform=\"translate(523.65,183.5)\" d=\"M3,0A3,3 0 1,1 0,-3A3,3 0 0,1 3,0Z\" style=\"opacity: 1; stroke-width: 0px; fill: rgb(178, 24, 43); fill-opacity: 1;\"/><path class=\"point\" transform=\"translate(524.35,183.5)\" d=\"M3,0A3,3 0 1,1 0,-3A3,3 0 0,1 3,0Z\" style=\"opacity: 1; stroke-width: 0px; fill: rgb(178, 24, 43); fill-opacity: 1;\"/><path class=\"point\" transform=\"translate(524.65,183.5)\" d=\"M3,0A3,3 0 1,1 0,-3A3,3 0 0,1 3,0Z\" style=\"opacity: 1; stroke-width: 0px; fill: rgb(178, 24, 43); fill-opacity: 1;\"/><path class=\"point\" transform=\"translate(524.78,183.5)\" d=\"M3,0A3,3 0 1,1 0,-3A3,3 0 0,1 3,0Z\" style=\"opacity: 1; stroke-width: 0px; fill: rgb(178, 24, 43); fill-opacity: 1;\"/><path class=\"point\" transform=\"translate(525.28,183.5)\" d=\"M3,0A3,3 0 1,1 0,-3A3,3 0 0,1 3,0Z\" style=\"opacity: 1; stroke-width: 0px; fill: rgb(178, 24, 43); fill-opacity: 1;\"/><path class=\"point\" transform=\"translate(525.31,183.5)\" d=\"M3,0A3,3 0 1,1 0,-3A3,3 0 0,1 3,0Z\" style=\"opacity: 1; stroke-width: 0px; fill: rgb(178, 24, 43); fill-opacity: 1;\"/><path class=\"point\" transform=\"translate(525.6,183.5)\" d=\"M3,0A3,3 0 1,1 0,-3A3,3 0 0,1 3,0Z\" style=\"opacity: 1; stroke-width: 0px; fill: rgb(178, 24, 43); fill-opacity: 1;\"/><path class=\"point\" transform=\"translate(525.68,183.5)\" d=\"M3,0A3,3 0 1,1 0,-3A3,3 0 0,1 3,0Z\" style=\"opacity: 1; stroke-width: 0px; fill: rgb(178, 24, 43); fill-opacity: 1;\"/><path class=\"point\" transform=\"translate(526.41,183.5)\" d=\"M3,0A3,3 0 1,1 0,-3A3,3 0 0,1 3,0Z\" style=\"opacity: 1; stroke-width: 0px; fill: rgb(178, 24, 43); fill-opacity: 1;\"/><path class=\"point\" transform=\"translate(526.49,183.5)\" d=\"M3,0A3,3 0 1,1 0,-3A3,3 0 0,1 3,0Z\" style=\"opacity: 1; stroke-width: 0px; fill: rgb(178, 24, 43); fill-opacity: 1;\"/><path class=\"point\" transform=\"translate(526.83,183.5)\" d=\"M3,0A3,3 0 1,1 0,-3A3,3 0 0,1 3,0Z\" style=\"opacity: 1; stroke-width: 0px; fill: rgb(178, 24, 43); fill-opacity: 1;\"/><path class=\"point\" transform=\"translate(526.89,183.5)\" d=\"M3,0A3,3 0 1,1 0,-3A3,3 0 0,1 3,0Z\" style=\"opacity: 1; stroke-width: 0px; fill: rgb(178, 24, 43); fill-opacity: 1;\"/><path class=\"point\" transform=\"translate(526.92,183.5)\" d=\"M3,0A3,3 0 1,1 0,-3A3,3 0 0,1 3,0Z\" style=\"opacity: 1; stroke-width: 0px; fill: rgb(178, 24, 43); fill-opacity: 1;\"/><path class=\"point\" transform=\"translate(527.04,183.5)\" d=\"M3,0A3,3 0 1,1 0,-3A3,3 0 0,1 3,0Z\" style=\"opacity: 1; stroke-width: 0px; fill: rgb(178, 24, 43); fill-opacity: 1;\"/><path class=\"point\" transform=\"translate(527.05,183.5)\" d=\"M3,0A3,3 0 1,1 0,-3A3,3 0 0,1 3,0Z\" style=\"opacity: 1; stroke-width: 0px; fill: rgb(178, 24, 43); fill-opacity: 1;\"/><path class=\"point\" transform=\"translate(527.22,183.5)\" d=\"M3,0A3,3 0 1,1 0,-3A3,3 0 0,1 3,0Z\" style=\"opacity: 1; stroke-width: 0px; fill: rgb(178, 24, 43); fill-opacity: 1;\"/><path class=\"point\" transform=\"translate(527.41,183.5)\" d=\"M3,0A3,3 0 1,1 0,-3A3,3 0 0,1 3,0Z\" style=\"opacity: 1; stroke-width: 0px; fill: rgb(178, 24, 43); fill-opacity: 1;\"/><path class=\"point\" transform=\"translate(527.43,183.5)\" d=\"M3,0A3,3 0 1,1 0,-3A3,3 0 0,1 3,0Z\" style=\"opacity: 1; stroke-width: 0px; fill: rgb(178, 24, 43); fill-opacity: 1;\"/><path class=\"point\" transform=\"translate(527.53,183.5)\" d=\"M3,0A3,3 0 1,1 0,-3A3,3 0 0,1 3,0Z\" style=\"opacity: 1; stroke-width: 0px; fill: rgb(178, 24, 43); fill-opacity: 1;\"/><path class=\"point\" transform=\"translate(527.55,183.5)\" d=\"M3,0A3,3 0 1,1 0,-3A3,3 0 0,1 3,0Z\" style=\"opacity: 1; stroke-width: 0px; fill: rgb(178, 24, 43); fill-opacity: 1;\"/><path class=\"point\" transform=\"translate(527.57,183.5)\" d=\"M3,0A3,3 0 1,1 0,-3A3,3 0 0,1 3,0Z\" style=\"opacity: 1; stroke-width: 0px; fill: rgb(178, 24, 43); fill-opacity: 1;\"/><path class=\"point\" transform=\"translate(527.88,183.5)\" d=\"M3,0A3,3 0 1,1 0,-3A3,3 0 0,1 3,0Z\" style=\"opacity: 1; stroke-width: 0px; fill: rgb(178, 24, 43); fill-opacity: 1;\"/><path class=\"point\" transform=\"translate(527.93,183.5)\" d=\"M3,0A3,3 0 1,1 0,-3A3,3 0 0,1 3,0Z\" style=\"opacity: 1; stroke-width: 0px; fill: rgb(178, 24, 43); fill-opacity: 1;\"/><path class=\"point\" transform=\"translate(528.06,183.5)\" d=\"M3,0A3,3 0 1,1 0,-3A3,3 0 0,1 3,0Z\" style=\"opacity: 1; stroke-width: 0px; fill: rgb(178, 24, 43); fill-opacity: 1;\"/><path class=\"point\" transform=\"translate(528.15,183.5)\" d=\"M3,0A3,3 0 1,1 0,-3A3,3 0 0,1 3,0Z\" style=\"opacity: 1; stroke-width: 0px; fill: rgb(178, 24, 43); fill-opacity: 1;\"/><path class=\"point\" transform=\"translate(528.52,183.5)\" d=\"M3,0A3,3 0 1,1 0,-3A3,3 0 0,1 3,0Z\" style=\"opacity: 1; stroke-width: 0px; fill: rgb(178, 24, 43); fill-opacity: 1;\"/><path class=\"point\" transform=\"translate(528.63,183.5)\" d=\"M3,0A3,3 0 1,1 0,-3A3,3 0 0,1 3,0Z\" style=\"opacity: 1; stroke-width: 0px; fill: rgb(178, 24, 43); fill-opacity: 1;\"/><path class=\"point\" transform=\"translate(529.08,183.5)\" d=\"M3,0A3,3 0 1,1 0,-3A3,3 0 0,1 3,0Z\" style=\"opacity: 1; stroke-width: 0px; fill: rgb(178, 24, 43); fill-opacity: 1;\"/><path class=\"point\" transform=\"translate(529.24,183.5)\" d=\"M3,0A3,3 0 1,1 0,-3A3,3 0 0,1 3,0Z\" style=\"opacity: 1; stroke-width: 0px; fill: rgb(178, 24, 43); fill-opacity: 1;\"/><path class=\"point\" transform=\"translate(529.58,183.5)\" d=\"M3,0A3,3 0 1,1 0,-3A3,3 0 0,1 3,0Z\" style=\"opacity: 1; stroke-width: 0px; fill: rgb(178, 24, 43); fill-opacity: 1;\"/><path class=\"point\" transform=\"translate(529.7,183.5)\" d=\"M3,0A3,3 0 1,1 0,-3A3,3 0 0,1 3,0Z\" style=\"opacity: 1; stroke-width: 0px; fill: rgb(178, 24, 43); fill-opacity: 1;\"/><path class=\"point\" transform=\"translate(530.12,183.5)\" d=\"M3,0A3,3 0 1,1 0,-3A3,3 0 0,1 3,0Z\" style=\"opacity: 1; stroke-width: 0px; fill: rgb(178, 24, 43); fill-opacity: 1;\"/><path class=\"point\" transform=\"translate(530.14,183.5)\" d=\"M3,0A3,3 0 1,1 0,-3A3,3 0 0,1 3,0Z\" style=\"opacity: 1; stroke-width: 0px; fill: rgb(178, 24, 43); fill-opacity: 1;\"/><path class=\"point\" transform=\"translate(530.46,183.5)\" d=\"M3,0A3,3 0 1,1 0,-3A3,3 0 0,1 3,0Z\" style=\"opacity: 1; stroke-width: 0px; fill: rgb(178, 24, 43); fill-opacity: 1;\"/><path class=\"point\" transform=\"translate(530.54,183.5)\" d=\"M3,0A3,3 0 1,1 0,-3A3,3 0 0,1 3,0Z\" style=\"opacity: 1; stroke-width: 0px; fill: rgb(178, 24, 43); fill-opacity: 1;\"/><path class=\"point\" transform=\"translate(530.63,183.5)\" d=\"M3,0A3,3 0 1,1 0,-3A3,3 0 0,1 3,0Z\" style=\"opacity: 1; stroke-width: 0px; fill: rgb(178, 24, 43); fill-opacity: 1;\"/><path class=\"point\" transform=\"translate(530.81,183.5)\" d=\"M3,0A3,3 0 1,1 0,-3A3,3 0 0,1 3,0Z\" style=\"opacity: 1; stroke-width: 0px; fill: rgb(178, 24, 43); fill-opacity: 1;\"/><path class=\"point\" transform=\"translate(530.84,183.5)\" d=\"M3,0A3,3 0 1,1 0,-3A3,3 0 0,1 3,0Z\" style=\"opacity: 1; stroke-width: 0px; fill: rgb(178, 24, 43); fill-opacity: 1;\"/><path class=\"point\" transform=\"translate(530.95,183.5)\" d=\"M3,0A3,3 0 1,1 0,-3A3,3 0 0,1 3,0Z\" style=\"opacity: 1; stroke-width: 0px; fill: rgb(178, 24, 43); fill-opacity: 1;\"/><path class=\"point\" transform=\"translate(531,183.5)\" d=\"M3,0A3,3 0 1,1 0,-3A3,3 0 0,1 3,0Z\" style=\"opacity: 1; stroke-width: 0px; fill: rgb(178, 24, 43); fill-opacity: 1;\"/><path class=\"point\" transform=\"translate(531.63,183.5)\" d=\"M3,0A3,3 0 1,1 0,-3A3,3 0 0,1 3,0Z\" style=\"opacity: 1; stroke-width: 0px; fill: rgb(178, 24, 43); fill-opacity: 1;\"/><path class=\"point\" transform=\"translate(531.73,183.5)\" d=\"M3,0A3,3 0 1,1 0,-3A3,3 0 0,1 3,0Z\" style=\"opacity: 1; stroke-width: 0px; fill: rgb(178, 24, 43); fill-opacity: 1;\"/><path class=\"point\" transform=\"translate(531.73,183.5)\" d=\"M3,0A3,3 0 1,1 0,-3A3,3 0 0,1 3,0Z\" style=\"opacity: 1; stroke-width: 0px; fill: rgb(178, 24, 43); fill-opacity: 1;\"/><path class=\"point\" transform=\"translate(531.96,183.5)\" d=\"M3,0A3,3 0 1,1 0,-3A3,3 0 0,1 3,0Z\" style=\"opacity: 1; stroke-width: 0px; fill: rgb(178, 24, 43); fill-opacity: 1;\"/><path class=\"point\" transform=\"translate(531.98,183.5)\" d=\"M3,0A3,3 0 1,1 0,-3A3,3 0 0,1 3,0Z\" style=\"opacity: 1; stroke-width: 0px; fill: rgb(178, 24, 43); fill-opacity: 1;\"/><path class=\"point\" transform=\"translate(532.3,183.5)\" d=\"M3,0A3,3 0 1,1 0,-3A3,3 0 0,1 3,0Z\" style=\"opacity: 1; stroke-width: 0px; fill: rgb(178, 24, 43); fill-opacity: 1;\"/><path class=\"point\" transform=\"translate(532.34,183.5)\" d=\"M3,0A3,3 0 1,1 0,-3A3,3 0 0,1 3,0Z\" style=\"opacity: 1; stroke-width: 0px; fill: rgb(178, 24, 43); fill-opacity: 1;\"/><path class=\"point\" transform=\"translate(532.79,183.5)\" d=\"M3,0A3,3 0 1,1 0,-3A3,3 0 0,1 3,0Z\" style=\"opacity: 1; stroke-width: 0px; fill: rgb(178, 24, 43); fill-opacity: 1;\"/><path class=\"point\" transform=\"translate(532.83,183.5)\" d=\"M3,0A3,3 0 1,1 0,-3A3,3 0 0,1 3,0Z\" style=\"opacity: 1; stroke-width: 0px; fill: rgb(178, 24, 43); fill-opacity: 1;\"/><path class=\"point\" transform=\"translate(532.85,183.5)\" d=\"M3,0A3,3 0 1,1 0,-3A3,3 0 0,1 3,0Z\" style=\"opacity: 1; stroke-width: 0px; fill: rgb(178, 24, 43); fill-opacity: 1;\"/><path class=\"point\" transform=\"translate(533.08,183.5)\" d=\"M3,0A3,3 0 1,1 0,-3A3,3 0 0,1 3,0Z\" style=\"opacity: 1; stroke-width: 0px; fill: rgb(178, 24, 43); fill-opacity: 1;\"/><path class=\"point\" transform=\"translate(533.23,183.5)\" d=\"M3,0A3,3 0 1,1 0,-3A3,3 0 0,1 3,0Z\" style=\"opacity: 1; stroke-width: 0px; fill: rgb(178, 24, 43); fill-opacity: 1;\"/><path class=\"point\" transform=\"translate(533.41,183.5)\" d=\"M3,0A3,3 0 1,1 0,-3A3,3 0 0,1 3,0Z\" style=\"opacity: 1; stroke-width: 0px; fill: rgb(178, 24, 43); fill-opacity: 1;\"/><path class=\"point\" transform=\"translate(533.42,183.5)\" d=\"M3,0A3,3 0 1,1 0,-3A3,3 0 0,1 3,0Z\" style=\"opacity: 1; stroke-width: 0px; fill: rgb(178, 24, 43); fill-opacity: 1;\"/><path class=\"point\" transform=\"translate(533.67,183.5)\" d=\"M3,0A3,3 0 1,1 0,-3A3,3 0 0,1 3,0Z\" style=\"opacity: 1; stroke-width: 0px; fill: rgb(178, 24, 43); fill-opacity: 1;\"/><path class=\"point\" transform=\"translate(533.7,183.5)\" d=\"M3,0A3,3 0 1,1 0,-3A3,3 0 0,1 3,0Z\" style=\"opacity: 1; stroke-width: 0px; fill: rgb(178, 24, 43); fill-opacity: 1;\"/><path class=\"point\" transform=\"translate(533.75,183.5)\" d=\"M3,0A3,3 0 1,1 0,-3A3,3 0 0,1 3,0Z\" style=\"opacity: 1; stroke-width: 0px; fill: rgb(178, 24, 43); fill-opacity: 1;\"/><path class=\"point\" transform=\"translate(533.95,183.5)\" d=\"M3,0A3,3 0 1,1 0,-3A3,3 0 0,1 3,0Z\" style=\"opacity: 1; stroke-width: 0px; fill: rgb(178, 24, 43); fill-opacity: 1;\"/><path class=\"point\" transform=\"translate(534.24,183.5)\" d=\"M3,0A3,3 0 1,1 0,-3A3,3 0 0,1 3,0Z\" style=\"opacity: 1; stroke-width: 0px; fill: rgb(178, 24, 43); fill-opacity: 1;\"/><path class=\"point\" transform=\"translate(535.03,183.5)\" d=\"M3,0A3,3 0 1,1 0,-3A3,3 0 0,1 3,0Z\" style=\"opacity: 1; stroke-width: 0px; fill: rgb(178, 24, 43); fill-opacity: 1;\"/><path class=\"point\" transform=\"translate(535.41,183.5)\" d=\"M3,0A3,3 0 1,1 0,-3A3,3 0 0,1 3,0Z\" style=\"opacity: 1; stroke-width: 0px; fill: rgb(178, 24, 43); fill-opacity: 1;\"/><path class=\"point\" transform=\"translate(535.56,183.5)\" d=\"M3,0A3,3 0 1,1 0,-3A3,3 0 0,1 3,0Z\" style=\"opacity: 1; stroke-width: 0px; fill: rgb(178, 24, 43); fill-opacity: 1;\"/><path class=\"point\" transform=\"translate(535.84,183.5)\" d=\"M3,0A3,3 0 1,1 0,-3A3,3 0 0,1 3,0Z\" style=\"opacity: 1; stroke-width: 0px; fill: rgb(178, 24, 43); fill-opacity: 1;\"/><path class=\"point\" transform=\"translate(535.85,183.5)\" d=\"M3,0A3,3 0 1,1 0,-3A3,3 0 0,1 3,0Z\" style=\"opacity: 1; stroke-width: 0px; fill: rgb(178, 24, 43); fill-opacity: 1;\"/><path class=\"point\" transform=\"translate(535.87,183.5)\" d=\"M3,0A3,3 0 1,1 0,-3A3,3 0 0,1 3,0Z\" style=\"opacity: 1; stroke-width: 0px; fill: rgb(178, 24, 43); fill-opacity: 1;\"/><path class=\"point\" transform=\"translate(536.06,183.5)\" d=\"M3,0A3,3 0 1,1 0,-3A3,3 0 0,1 3,0Z\" style=\"opacity: 1; stroke-width: 0px; fill: rgb(178, 24, 43); fill-opacity: 1;\"/><path class=\"point\" transform=\"translate(536.38,183.5)\" d=\"M3,0A3,3 0 1,1 0,-3A3,3 0 0,1 3,0Z\" style=\"opacity: 1; stroke-width: 0px; fill: rgb(178, 24, 43); fill-opacity: 1;\"/><path class=\"point\" transform=\"translate(536.71,183.5)\" d=\"M3,0A3,3 0 1,1 0,-3A3,3 0 0,1 3,0Z\" style=\"opacity: 1; stroke-width: 0px; fill: rgb(178, 24, 43); fill-opacity: 1;\"/><path class=\"point\" transform=\"translate(536.8,183.5)\" d=\"M3,0A3,3 0 1,1 0,-3A3,3 0 0,1 3,0Z\" style=\"opacity: 1; stroke-width: 0px; fill: rgb(178, 24, 43); fill-opacity: 1;\"/><path class=\"point\" transform=\"translate(536.87,183.5)\" d=\"M3,0A3,3 0 1,1 0,-3A3,3 0 0,1 3,0Z\" style=\"opacity: 1; stroke-width: 0px; fill: rgb(178, 24, 43); fill-opacity: 1;\"/><path class=\"point\" transform=\"translate(537.2,183.5)\" d=\"M3,0A3,3 0 1,1 0,-3A3,3 0 0,1 3,0Z\" style=\"opacity: 1; stroke-width: 0px; fill: rgb(178, 24, 43); fill-opacity: 1;\"/><path class=\"point\" transform=\"translate(537.22,183.5)\" d=\"M3,0A3,3 0 1,1 0,-3A3,3 0 0,1 3,0Z\" style=\"opacity: 1; stroke-width: 0px; fill: rgb(178, 24, 43); fill-opacity: 1;\"/><path class=\"point\" transform=\"translate(537.46,183.5)\" d=\"M3,0A3,3 0 1,1 0,-3A3,3 0 0,1 3,0Z\" style=\"opacity: 1; stroke-width: 0px; fill: rgb(178, 24, 43); fill-opacity: 1;\"/><path class=\"point\" transform=\"translate(537.73,183.5)\" d=\"M3,0A3,3 0 1,1 0,-3A3,3 0 0,1 3,0Z\" style=\"opacity: 1; stroke-width: 0px; fill: rgb(178, 24, 43); fill-opacity: 1;\"/><path class=\"point\" transform=\"translate(537.92,183.5)\" d=\"M3,0A3,3 0 1,1 0,-3A3,3 0 0,1 3,0Z\" style=\"opacity: 1; stroke-width: 0px; fill: rgb(178, 24, 43); fill-opacity: 1;\"/><path class=\"point\" transform=\"translate(538.17,183.5)\" d=\"M3,0A3,3 0 1,1 0,-3A3,3 0 0,1 3,0Z\" style=\"opacity: 1; stroke-width: 0px; fill: rgb(178, 24, 43); fill-opacity: 1;\"/><path class=\"point\" transform=\"translate(538.64,183.5)\" d=\"M3,0A3,3 0 1,1 0,-3A3,3 0 0,1 3,0Z\" style=\"opacity: 1; stroke-width: 0px; fill: rgb(178, 24, 43); fill-opacity: 1;\"/><path class=\"point\" transform=\"translate(539.22,183.5)\" d=\"M3,0A3,3 0 1,1 0,-3A3,3 0 0,1 3,0Z\" style=\"opacity: 1; stroke-width: 0px; fill: rgb(178, 24, 43); fill-opacity: 1;\"/><path class=\"point\" transform=\"translate(539.25,183.5)\" d=\"M3,0A3,3 0 1,1 0,-3A3,3 0 0,1 3,0Z\" style=\"opacity: 1; stroke-width: 0px; fill: rgb(178, 24, 43); fill-opacity: 1;\"/><path class=\"point\" transform=\"translate(539.35,183.5)\" d=\"M3,0A3,3 0 1,1 0,-3A3,3 0 0,1 3,0Z\" style=\"opacity: 1; stroke-width: 0px; fill: rgb(178, 24, 43); fill-opacity: 1;\"/><path class=\"point\" transform=\"translate(539.62,183.5)\" d=\"M3,0A3,3 0 1,1 0,-3A3,3 0 0,1 3,0Z\" style=\"opacity: 1; stroke-width: 0px; fill: rgb(178, 24, 43); fill-opacity: 1;\"/><path class=\"point\" transform=\"translate(539.78,183.5)\" d=\"M3,0A3,3 0 1,1 0,-3A3,3 0 0,1 3,0Z\" style=\"opacity: 1; stroke-width: 0px; fill: rgb(178, 24, 43); fill-opacity: 1;\"/><path class=\"point\" transform=\"translate(539.79,183.5)\" d=\"M3,0A3,3 0 1,1 0,-3A3,3 0 0,1 3,0Z\" style=\"opacity: 1; stroke-width: 0px; fill: rgb(178, 24, 43); fill-opacity: 1;\"/><path class=\"point\" transform=\"translate(540.02,183.5)\" d=\"M3,0A3,3 0 1,1 0,-3A3,3 0 0,1 3,0Z\" style=\"opacity: 1; stroke-width: 0px; fill: rgb(178, 24, 43); fill-opacity: 1;\"/><path class=\"point\" transform=\"translate(540.05,183.5)\" d=\"M3,0A3,3 0 1,1 0,-3A3,3 0 0,1 3,0Z\" style=\"opacity: 1; stroke-width: 0px; fill: rgb(178, 24, 43); fill-opacity: 1;\"/><path class=\"point\" transform=\"translate(540.06,183.5)\" d=\"M3,0A3,3 0 1,1 0,-3A3,3 0 0,1 3,0Z\" style=\"opacity: 1; stroke-width: 0px; fill: rgb(178, 24, 43); fill-opacity: 1;\"/><path class=\"point\" transform=\"translate(540.9,183.5)\" d=\"M3,0A3,3 0 1,1 0,-3A3,3 0 0,1 3,0Z\" style=\"opacity: 1; stroke-width: 0px; fill: rgb(178, 24, 43); fill-opacity: 1;\"/><path class=\"point\" transform=\"translate(541.6,183.5)\" d=\"M3,0A3,3 0 1,1 0,-3A3,3 0 0,1 3,0Z\" style=\"opacity: 1; stroke-width: 0px; fill: rgb(178, 24, 43); fill-opacity: 1;\"/><path class=\"point\" transform=\"translate(542.09,183.5)\" d=\"M3,0A3,3 0 1,1 0,-3A3,3 0 0,1 3,0Z\" style=\"opacity: 1; stroke-width: 0px; fill: rgb(178, 24, 43); fill-opacity: 1;\"/><path class=\"point\" transform=\"translate(542.21,183.5)\" d=\"M3,0A3,3 0 1,1 0,-3A3,3 0 0,1 3,0Z\" style=\"opacity: 1; stroke-width: 0px; fill: rgb(178, 24, 43); fill-opacity: 1;\"/><path class=\"point\" transform=\"translate(542.22,183.5)\" d=\"M3,0A3,3 0 1,1 0,-3A3,3 0 0,1 3,0Z\" style=\"opacity: 1; stroke-width: 0px; fill: rgb(178, 24, 43); fill-opacity: 1;\"/><path class=\"point\" transform=\"translate(542.34,183.5)\" d=\"M3,0A3,3 0 1,1 0,-3A3,3 0 0,1 3,0Z\" style=\"opacity: 1; stroke-width: 0px; fill: rgb(178, 24, 43); fill-opacity: 1;\"/><path class=\"point\" transform=\"translate(542.42,183.5)\" d=\"M3,0A3,3 0 1,1 0,-3A3,3 0 0,1 3,0Z\" style=\"opacity: 1; stroke-width: 0px; fill: rgb(178, 24, 43); fill-opacity: 1;\"/><path class=\"point\" transform=\"translate(542.51,183.5)\" d=\"M3,0A3,3 0 1,1 0,-3A3,3 0 0,1 3,0Z\" style=\"opacity: 1; stroke-width: 0px; fill: rgb(178, 24, 43); fill-opacity: 1;\"/><path class=\"point\" transform=\"translate(542.58,183.5)\" d=\"M3,0A3,3 0 1,1 0,-3A3,3 0 0,1 3,0Z\" style=\"opacity: 1; stroke-width: 0px; fill: rgb(178, 24, 43); fill-opacity: 1;\"/><path class=\"point\" transform=\"translate(542.8,183.5)\" d=\"M3,0A3,3 0 1,1 0,-3A3,3 0 0,1 3,0Z\" style=\"opacity: 1; stroke-width: 0px; fill: rgb(178, 24, 43); fill-opacity: 1;\"/><path class=\"point\" transform=\"translate(543.26,183.5)\" d=\"M3,0A3,3 0 1,1 0,-3A3,3 0 0,1 3,0Z\" style=\"opacity: 1; stroke-width: 0px; fill: rgb(178, 24, 43); fill-opacity: 1;\"/><path class=\"point\" transform=\"translate(543.3,183.5)\" d=\"M3,0A3,3 0 1,1 0,-3A3,3 0 0,1 3,0Z\" style=\"opacity: 1; stroke-width: 0px; fill: rgb(178, 24, 43); fill-opacity: 1;\"/><path class=\"point\" transform=\"translate(543.48,183.5)\" d=\"M3,0A3,3 0 1,1 0,-3A3,3 0 0,1 3,0Z\" style=\"opacity: 1; stroke-width: 0px; fill: rgb(178, 24, 43); fill-opacity: 1;\"/><path class=\"point\" transform=\"translate(543.89,183.5)\" d=\"M3,0A3,3 0 1,1 0,-3A3,3 0 0,1 3,0Z\" style=\"opacity: 1; stroke-width: 0px; fill: rgb(178, 24, 43); fill-opacity: 1;\"/><path class=\"point\" transform=\"translate(543.9,183.5)\" d=\"M3,0A3,3 0 1,1 0,-3A3,3 0 0,1 3,0Z\" style=\"opacity: 1; stroke-width: 0px; fill: rgb(178, 24, 43); fill-opacity: 1;\"/><path class=\"point\" transform=\"translate(544.14,183.5)\" d=\"M3,0A3,3 0 1,1 0,-3A3,3 0 0,1 3,0Z\" style=\"opacity: 1; stroke-width: 0px; fill: rgb(178, 24, 43); fill-opacity: 1;\"/><path class=\"point\" transform=\"translate(544.16,183.5)\" d=\"M3,0A3,3 0 1,1 0,-3A3,3 0 0,1 3,0Z\" style=\"opacity: 1; stroke-width: 0px; fill: rgb(178, 24, 43); fill-opacity: 1;\"/><path class=\"point\" transform=\"translate(544.2,183.5)\" d=\"M3,0A3,3 0 1,1 0,-3A3,3 0 0,1 3,0Z\" style=\"opacity: 1; stroke-width: 0px; fill: rgb(178, 24, 43); fill-opacity: 1;\"/><path class=\"point\" transform=\"translate(544.21,183.5)\" d=\"M3,0A3,3 0 1,1 0,-3A3,3 0 0,1 3,0Z\" style=\"opacity: 1; stroke-width: 0px; fill: rgb(178, 24, 43); fill-opacity: 1;\"/><path class=\"point\" transform=\"translate(544.23,183.5)\" d=\"M3,0A3,3 0 1,1 0,-3A3,3 0 0,1 3,0Z\" style=\"opacity: 1; stroke-width: 0px; fill: rgb(178, 24, 43); fill-opacity: 1;\"/><path class=\"point\" transform=\"translate(544.33,183.5)\" d=\"M3,0A3,3 0 1,1 0,-3A3,3 0 0,1 3,0Z\" style=\"opacity: 1; stroke-width: 0px; fill: rgb(178, 24, 43); fill-opacity: 1;\"/><path class=\"point\" transform=\"translate(544.38,183.5)\" d=\"M3,0A3,3 0 1,1 0,-3A3,3 0 0,1 3,0Z\" style=\"opacity: 1; stroke-width: 0px; fill: rgb(178, 24, 43); fill-opacity: 1;\"/><path class=\"point\" transform=\"translate(544.43,183.5)\" d=\"M3,0A3,3 0 1,1 0,-3A3,3 0 0,1 3,0Z\" style=\"opacity: 1; stroke-width: 0px; fill: rgb(178, 24, 43); fill-opacity: 1;\"/><path class=\"point\" transform=\"translate(544.49,183.5)\" d=\"M3,0A3,3 0 1,1 0,-3A3,3 0 0,1 3,0Z\" style=\"opacity: 1; stroke-width: 0px; fill: rgb(178, 24, 43); fill-opacity: 1;\"/><path class=\"point\" transform=\"translate(544.6,183.5)\" d=\"M3,0A3,3 0 1,1 0,-3A3,3 0 0,1 3,0Z\" style=\"opacity: 1; stroke-width: 0px; fill: rgb(178, 24, 43); fill-opacity: 1;\"/><path class=\"point\" transform=\"translate(544.76,183.5)\" d=\"M3,0A3,3 0 1,1 0,-3A3,3 0 0,1 3,0Z\" style=\"opacity: 1; stroke-width: 0px; fill: rgb(178, 24, 43); fill-opacity: 1;\"/><path class=\"point\" transform=\"translate(545.02,183.5)\" d=\"M3,0A3,3 0 1,1 0,-3A3,3 0 0,1 3,0Z\" style=\"opacity: 1; stroke-width: 0px; fill: rgb(178, 24, 43); fill-opacity: 1;\"/><path class=\"point\" transform=\"translate(545.03,183.5)\" d=\"M3,0A3,3 0 1,1 0,-3A3,3 0 0,1 3,0Z\" style=\"opacity: 1; stroke-width: 0px; fill: rgb(178, 24, 43); fill-opacity: 1;\"/><path class=\"point\" transform=\"translate(545.23,183.5)\" d=\"M3,0A3,3 0 1,1 0,-3A3,3 0 0,1 3,0Z\" style=\"opacity: 1; stroke-width: 0px; fill: rgb(178, 24, 43); fill-opacity: 1;\"/><path class=\"point\" transform=\"translate(545.6,183.5)\" d=\"M3,0A3,3 0 1,1 0,-3A3,3 0 0,1 3,0Z\" style=\"opacity: 1; stroke-width: 0px; fill: rgb(178, 24, 43); fill-opacity: 1;\"/><path class=\"point\" transform=\"translate(545.71,183.5)\" d=\"M3,0A3,3 0 1,1 0,-3A3,3 0 0,1 3,0Z\" style=\"opacity: 1; stroke-width: 0px; fill: rgb(178, 24, 43); fill-opacity: 1;\"/><path class=\"point\" transform=\"translate(545.93,183.5)\" d=\"M3,0A3,3 0 1,1 0,-3A3,3 0 0,1 3,0Z\" style=\"opacity: 1; stroke-width: 0px; fill: rgb(178, 24, 43); fill-opacity: 1;\"/><path class=\"point\" transform=\"translate(546.07,183.5)\" d=\"M3,0A3,3 0 1,1 0,-3A3,3 0 0,1 3,0Z\" style=\"opacity: 1; stroke-width: 0px; fill: rgb(178, 24, 43); fill-opacity: 1;\"/><path class=\"point\" transform=\"translate(546.3,183.5)\" d=\"M3,0A3,3 0 1,1 0,-3A3,3 0 0,1 3,0Z\" style=\"opacity: 1; stroke-width: 0px; fill: rgb(178, 24, 43); fill-opacity: 1;\"/><path class=\"point\" transform=\"translate(546.34,183.5)\" d=\"M3,0A3,3 0 1,1 0,-3A3,3 0 0,1 3,0Z\" style=\"opacity: 1; stroke-width: 0px; fill: rgb(178, 24, 43); fill-opacity: 1;\"/><path class=\"point\" transform=\"translate(546.85,183.5)\" d=\"M3,0A3,3 0 1,1 0,-3A3,3 0 0,1 3,0Z\" style=\"opacity: 1; stroke-width: 0px; fill: rgb(178, 24, 43); fill-opacity: 1;\"/><path class=\"point\" transform=\"translate(546.88,183.5)\" d=\"M3,0A3,3 0 1,1 0,-3A3,3 0 0,1 3,0Z\" style=\"opacity: 1; stroke-width: 0px; fill: rgb(178, 24, 43); fill-opacity: 1;\"/><path class=\"point\" transform=\"translate(546.99,183.5)\" d=\"M3,0A3,3 0 1,1 0,-3A3,3 0 0,1 3,0Z\" style=\"opacity: 1; stroke-width: 0px; fill: rgb(178, 24, 43); fill-opacity: 1;\"/><path class=\"point\" transform=\"translate(547.05,183.5)\" d=\"M3,0A3,3 0 1,1 0,-3A3,3 0 0,1 3,0Z\" style=\"opacity: 1; stroke-width: 0px; fill: rgb(178, 24, 43); fill-opacity: 1;\"/><path class=\"point\" transform=\"translate(547.53,183.5)\" d=\"M3,0A3,3 0 1,1 0,-3A3,3 0 0,1 3,0Z\" style=\"opacity: 1; stroke-width: 0px; fill: rgb(178, 24, 43); fill-opacity: 1;\"/><path class=\"point\" transform=\"translate(547.54,183.5)\" d=\"M3,0A3,3 0 1,1 0,-3A3,3 0 0,1 3,0Z\" style=\"opacity: 1; stroke-width: 0px; fill: rgb(178, 24, 43); fill-opacity: 1;\"/><path class=\"point\" transform=\"translate(547.72,183.5)\" d=\"M3,0A3,3 0 1,1 0,-3A3,3 0 0,1 3,0Z\" style=\"opacity: 1; stroke-width: 0px; fill: rgb(178, 24, 43); fill-opacity: 1;\"/><path class=\"point\" transform=\"translate(547.77,183.5)\" d=\"M3,0A3,3 0 1,1 0,-3A3,3 0 0,1 3,0Z\" style=\"opacity: 1; stroke-width: 0px; fill: rgb(178, 24, 43); fill-opacity: 1;\"/><path class=\"point\" transform=\"translate(547.78,183.5)\" d=\"M3,0A3,3 0 1,1 0,-3A3,3 0 0,1 3,0Z\" style=\"opacity: 1; stroke-width: 0px; fill: rgb(178, 24, 43); fill-opacity: 1;\"/><path class=\"point\" transform=\"translate(547.89,183.5)\" d=\"M3,0A3,3 0 1,1 0,-3A3,3 0 0,1 3,0Z\" style=\"opacity: 1; stroke-width: 0px; fill: rgb(178, 24, 43); fill-opacity: 1;\"/><path class=\"point\" transform=\"translate(548.31,183.5)\" d=\"M3,0A3,3 0 1,1 0,-3A3,3 0 0,1 3,0Z\" style=\"opacity: 1; stroke-width: 0px; fill: rgb(178, 24, 43); fill-opacity: 1;\"/><path class=\"point\" transform=\"translate(548.74,183.5)\" d=\"M3,0A3,3 0 1,1 0,-3A3,3 0 0,1 3,0Z\" style=\"opacity: 1; stroke-width: 0px; fill: rgb(178, 24, 43); fill-opacity: 1;\"/><path class=\"point\" transform=\"translate(549.4,183.5)\" d=\"M3,0A3,3 0 1,1 0,-3A3,3 0 0,1 3,0Z\" style=\"opacity: 1; stroke-width: 0px; fill: rgb(178, 24, 43); fill-opacity: 1;\"/><path class=\"point\" transform=\"translate(549.65,183.5)\" d=\"M3,0A3,3 0 1,1 0,-3A3,3 0 0,1 3,0Z\" style=\"opacity: 1; stroke-width: 0px; fill: rgb(178, 24, 43); fill-opacity: 1;\"/><path class=\"point\" transform=\"translate(549.71,183.5)\" d=\"M3,0A3,3 0 1,1 0,-3A3,3 0 0,1 3,0Z\" style=\"opacity: 1; stroke-width: 0px; fill: rgb(178, 24, 43); fill-opacity: 1;\"/><path class=\"point\" transform=\"translate(550.21,183.5)\" d=\"M3,0A3,3 0 1,1 0,-3A3,3 0 0,1 3,0Z\" style=\"opacity: 1; stroke-width: 0px; fill: rgb(178, 24, 43); fill-opacity: 1;\"/><path class=\"point\" transform=\"translate(550.29,183.5)\" d=\"M3,0A3,3 0 1,1 0,-3A3,3 0 0,1 3,0Z\" style=\"opacity: 1; stroke-width: 0px; fill: rgb(178, 24, 43); fill-opacity: 1;\"/><path class=\"point\" transform=\"translate(550.37,183.5)\" d=\"M3,0A3,3 0 1,1 0,-3A3,3 0 0,1 3,0Z\" style=\"opacity: 1; stroke-width: 0px; fill: rgb(178, 24, 43); fill-opacity: 1;\"/><path class=\"point\" transform=\"translate(550.45,183.5)\" d=\"M3,0A3,3 0 1,1 0,-3A3,3 0 0,1 3,0Z\" style=\"opacity: 1; stroke-width: 0px; fill: rgb(178, 24, 43); fill-opacity: 1;\"/><path class=\"point\" transform=\"translate(550.52,183.5)\" d=\"M3,0A3,3 0 1,1 0,-3A3,3 0 0,1 3,0Z\" style=\"opacity: 1; stroke-width: 0px; fill: rgb(178, 24, 43); fill-opacity: 1;\"/><path class=\"point\" transform=\"translate(550.79,183.5)\" d=\"M3,0A3,3 0 1,1 0,-3A3,3 0 0,1 3,0Z\" style=\"opacity: 1; stroke-width: 0px; fill: rgb(178, 24, 43); fill-opacity: 1;\"/><path class=\"point\" transform=\"translate(550.8,183.5)\" d=\"M3,0A3,3 0 1,1 0,-3A3,3 0 0,1 3,0Z\" style=\"opacity: 1; stroke-width: 0px; fill: rgb(178, 24, 43); fill-opacity: 1;\"/><path class=\"point\" transform=\"translate(551.11,183.5)\" d=\"M3,0A3,3 0 1,1 0,-3A3,3 0 0,1 3,0Z\" style=\"opacity: 1; stroke-width: 0px; fill: rgb(178, 24, 43); fill-opacity: 1;\"/><path class=\"point\" transform=\"translate(551.34,183.5)\" d=\"M3,0A3,3 0 1,1 0,-3A3,3 0 0,1 3,0Z\" style=\"opacity: 1; stroke-width: 0px; fill: rgb(178, 24, 43); fill-opacity: 1;\"/><path class=\"point\" transform=\"translate(551.39,183.5)\" d=\"M3,0A3,3 0 1,1 0,-3A3,3 0 0,1 3,0Z\" style=\"opacity: 1; stroke-width: 0px; fill: rgb(178, 24, 43); fill-opacity: 1;\"/><path class=\"point\" transform=\"translate(551.62,183.5)\" d=\"M3,0A3,3 0 1,1 0,-3A3,3 0 0,1 3,0Z\" style=\"opacity: 1; stroke-width: 0px; fill: rgb(178, 24, 43); fill-opacity: 1;\"/><path class=\"point\" transform=\"translate(551.73,183.5)\" d=\"M3,0A3,3 0 1,1 0,-3A3,3 0 0,1 3,0Z\" style=\"opacity: 1; stroke-width: 0px; fill: rgb(178, 24, 43); fill-opacity: 1;\"/><path class=\"point\" transform=\"translate(551.87,183.5)\" d=\"M3,0A3,3 0 1,1 0,-3A3,3 0 0,1 3,0Z\" style=\"opacity: 1; stroke-width: 0px; fill: rgb(178, 24, 43); fill-opacity: 1;\"/><path class=\"point\" transform=\"translate(552.04,183.5)\" d=\"M3,0A3,3 0 1,1 0,-3A3,3 0 0,1 3,0Z\" style=\"opacity: 1; stroke-width: 0px; fill: rgb(178, 24, 43); fill-opacity: 1;\"/><path class=\"point\" transform=\"translate(552.16,183.5)\" d=\"M3,0A3,3 0 1,1 0,-3A3,3 0 0,1 3,0Z\" style=\"opacity: 1; stroke-width: 0px; fill: rgb(178, 24, 43); fill-opacity: 1;\"/><path class=\"point\" transform=\"translate(552.32,183.5)\" d=\"M3,0A3,3 0 1,1 0,-3A3,3 0 0,1 3,0Z\" style=\"opacity: 1; stroke-width: 0px; fill: rgb(178, 24, 43); fill-opacity: 1;\"/><path class=\"point\" transform=\"translate(552.43,183.5)\" d=\"M3,0A3,3 0 1,1 0,-3A3,3 0 0,1 3,0Z\" style=\"opacity: 1; stroke-width: 0px; fill: rgb(178, 24, 43); fill-opacity: 1;\"/><path class=\"point\" transform=\"translate(552.47,183.5)\" d=\"M3,0A3,3 0 1,1 0,-3A3,3 0 0,1 3,0Z\" style=\"opacity: 1; stroke-width: 0px; fill: rgb(178, 24, 43); fill-opacity: 1;\"/><path class=\"point\" transform=\"translate(552.53,183.5)\" d=\"M3,0A3,3 0 1,1 0,-3A3,3 0 0,1 3,0Z\" style=\"opacity: 1; stroke-width: 0px; fill: rgb(178, 24, 43); fill-opacity: 1;\"/><path class=\"point\" transform=\"translate(552.66,183.5)\" d=\"M3,0A3,3 0 1,1 0,-3A3,3 0 0,1 3,0Z\" style=\"opacity: 1; stroke-width: 0px; fill: rgb(178, 24, 43); fill-opacity: 1;\"/><path class=\"point\" transform=\"translate(552.78,183.5)\" d=\"M3,0A3,3 0 1,1 0,-3A3,3 0 0,1 3,0Z\" style=\"opacity: 1; stroke-width: 0px; fill: rgb(178, 24, 43); fill-opacity: 1;\"/><path class=\"point\" transform=\"translate(552.93,183.5)\" d=\"M3,0A3,3 0 1,1 0,-3A3,3 0 0,1 3,0Z\" style=\"opacity: 1; stroke-width: 0px; fill: rgb(178, 24, 43); fill-opacity: 1;\"/><path class=\"point\" transform=\"translate(553,183.5)\" d=\"M3,0A3,3 0 1,1 0,-3A3,3 0 0,1 3,0Z\" style=\"opacity: 1; stroke-width: 0px; fill: rgb(178, 24, 43); fill-opacity: 1;\"/><path class=\"point\" transform=\"translate(553.18,183.5)\" d=\"M3,0A3,3 0 1,1 0,-3A3,3 0 0,1 3,0Z\" style=\"opacity: 1; stroke-width: 0px; fill: rgb(178, 24, 43); fill-opacity: 1;\"/><path class=\"point\" transform=\"translate(554.33,183.5)\" d=\"M3,0A3,3 0 1,1 0,-3A3,3 0 0,1 3,0Z\" style=\"opacity: 1; stroke-width: 0px; fill: rgb(178, 24, 43); fill-opacity: 1;\"/><path class=\"point\" transform=\"translate(554.54,183.5)\" d=\"M3,0A3,3 0 1,1 0,-3A3,3 0 0,1 3,0Z\" style=\"opacity: 1; stroke-width: 0px; fill: rgb(178, 24, 43); fill-opacity: 1;\"/><path class=\"point\" transform=\"translate(554.55,183.5)\" d=\"M3,0A3,3 0 1,1 0,-3A3,3 0 0,1 3,0Z\" style=\"opacity: 1; stroke-width: 0px; fill: rgb(178, 24, 43); fill-opacity: 1;\"/><path class=\"point\" transform=\"translate(554.69,183.5)\" d=\"M3,0A3,3 0 1,1 0,-3A3,3 0 0,1 3,0Z\" style=\"opacity: 1; stroke-width: 0px; fill: rgb(178, 24, 43); fill-opacity: 1;\"/><path class=\"point\" transform=\"translate(554.85,183.5)\" d=\"M3,0A3,3 0 1,1 0,-3A3,3 0 0,1 3,0Z\" style=\"opacity: 1; stroke-width: 0px; fill: rgb(178, 24, 43); fill-opacity: 1;\"/><path class=\"point\" transform=\"translate(555.21,183.5)\" d=\"M3,0A3,3 0 1,1 0,-3A3,3 0 0,1 3,0Z\" style=\"opacity: 1; stroke-width: 0px; fill: rgb(178, 24, 43); fill-opacity: 1;\"/><path class=\"point\" transform=\"translate(555.36,183.5)\" d=\"M3,0A3,3 0 1,1 0,-3A3,3 0 0,1 3,0Z\" style=\"opacity: 1; stroke-width: 0px; fill: rgb(178, 24, 43); fill-opacity: 1;\"/><path class=\"point\" transform=\"translate(555.48,183.5)\" d=\"M3,0A3,3 0 1,1 0,-3A3,3 0 0,1 3,0Z\" style=\"opacity: 1; stroke-width: 0px; fill: rgb(178, 24, 43); fill-opacity: 1;\"/><path class=\"point\" transform=\"translate(555.8,183.5)\" d=\"M3,0A3,3 0 1,1 0,-3A3,3 0 0,1 3,0Z\" style=\"opacity: 1; stroke-width: 0px; fill: rgb(178, 24, 43); fill-opacity: 1;\"/><path class=\"point\" transform=\"translate(556.05,183.5)\" d=\"M3,0A3,3 0 1,1 0,-3A3,3 0 0,1 3,0Z\" style=\"opacity: 1; stroke-width: 0px; fill: rgb(178, 24, 43); fill-opacity: 1;\"/><path class=\"point\" transform=\"translate(556.14,183.5)\" d=\"M3,0A3,3 0 1,1 0,-3A3,3 0 0,1 3,0Z\" style=\"opacity: 1; stroke-width: 0px; fill: rgb(178, 24, 43); fill-opacity: 1;\"/><path class=\"point\" transform=\"translate(556.29,183.5)\" d=\"M3,0A3,3 0 1,1 0,-3A3,3 0 0,1 3,0Z\" style=\"opacity: 1; stroke-width: 0px; fill: rgb(178, 24, 43); fill-opacity: 1;\"/><path class=\"point\" transform=\"translate(556.87,183.5)\" d=\"M3,0A3,3 0 1,1 0,-3A3,3 0 0,1 3,0Z\" style=\"opacity: 1; stroke-width: 0px; fill: rgb(178, 24, 43); fill-opacity: 1;\"/><path class=\"point\" transform=\"translate(557.18,183.5)\" d=\"M3,0A3,3 0 1,1 0,-3A3,3 0 0,1 3,0Z\" style=\"opacity: 1; stroke-width: 0px; fill: rgb(178, 24, 43); fill-opacity: 1;\"/><path class=\"point\" transform=\"translate(557.8,183.5)\" d=\"M3,0A3,3 0 1,1 0,-3A3,3 0 0,1 3,0Z\" style=\"opacity: 1; stroke-width: 0px; fill: rgb(178, 24, 43); fill-opacity: 1;\"/><path class=\"point\" transform=\"translate(557.81,183.5)\" d=\"M3,0A3,3 0 1,1 0,-3A3,3 0 0,1 3,0Z\" style=\"opacity: 1; stroke-width: 0px; fill: rgb(178, 24, 43); fill-opacity: 1;\"/><path class=\"point\" transform=\"translate(557.9,183.5)\" d=\"M3,0A3,3 0 1,1 0,-3A3,3 0 0,1 3,0Z\" style=\"opacity: 1; stroke-width: 0px; fill: rgb(178, 24, 43); fill-opacity: 1;\"/><path class=\"point\" transform=\"translate(557.9,183.5)\" d=\"M3,0A3,3 0 1,1 0,-3A3,3 0 0,1 3,0Z\" style=\"opacity: 1; stroke-width: 0px; fill: rgb(178, 24, 43); fill-opacity: 1;\"/><path class=\"point\" transform=\"translate(558.15,183.5)\" d=\"M3,0A3,3 0 1,1 0,-3A3,3 0 0,1 3,0Z\" style=\"opacity: 1; stroke-width: 0px; fill: rgb(178, 24, 43); fill-opacity: 1;\"/><path class=\"point\" transform=\"translate(558.3,183.5)\" d=\"M3,0A3,3 0 1,1 0,-3A3,3 0 0,1 3,0Z\" style=\"opacity: 1; stroke-width: 0px; fill: rgb(178, 24, 43); fill-opacity: 1;\"/><path class=\"point\" transform=\"translate(558.39,183.5)\" d=\"M3,0A3,3 0 1,1 0,-3A3,3 0 0,1 3,0Z\" style=\"opacity: 1; stroke-width: 0px; fill: rgb(178, 24, 43); fill-opacity: 1;\"/><path class=\"point\" transform=\"translate(558.58,183.5)\" d=\"M3,0A3,3 0 1,1 0,-3A3,3 0 0,1 3,0Z\" style=\"opacity: 1; stroke-width: 0px; fill: rgb(178, 24, 43); fill-opacity: 1;\"/><path class=\"point\" transform=\"translate(558.84,183.5)\" d=\"M3,0A3,3 0 1,1 0,-3A3,3 0 0,1 3,0Z\" style=\"opacity: 1; stroke-width: 0px; fill: rgb(178, 24, 43); fill-opacity: 1;\"/><path class=\"point\" transform=\"translate(559.4,183.5)\" d=\"M3,0A3,3 0 1,1 0,-3A3,3 0 0,1 3,0Z\" style=\"opacity: 1; stroke-width: 0px; fill: rgb(178, 24, 43); fill-opacity: 1;\"/><path class=\"point\" transform=\"translate(559.96,183.5)\" d=\"M3,0A3,3 0 1,1 0,-3A3,3 0 0,1 3,0Z\" style=\"opacity: 1; stroke-width: 0px; fill: rgb(178, 24, 43); fill-opacity: 1;\"/><path class=\"point\" transform=\"translate(560.25,183.5)\" d=\"M3,0A3,3 0 1,1 0,-3A3,3 0 0,1 3,0Z\" style=\"opacity: 1; stroke-width: 0px; fill: rgb(178, 24, 43); fill-opacity: 1;\"/><path class=\"point\" transform=\"translate(560.42,183.5)\" d=\"M3,0A3,3 0 1,1 0,-3A3,3 0 0,1 3,0Z\" style=\"opacity: 1; stroke-width: 0px; fill: rgb(178, 24, 43); fill-opacity: 1;\"/><path class=\"point\" transform=\"translate(560.74,183.5)\" d=\"M3,0A3,3 0 1,1 0,-3A3,3 0 0,1 3,0Z\" style=\"opacity: 1; stroke-width: 0px; fill: rgb(178, 24, 43); fill-opacity: 1;\"/><path class=\"point\" transform=\"translate(560.86,183.5)\" d=\"M3,0A3,3 0 1,1 0,-3A3,3 0 0,1 3,0Z\" style=\"opacity: 1; stroke-width: 0px; fill: rgb(178, 24, 43); fill-opacity: 1;\"/><path class=\"point\" transform=\"translate(561.44,183.5)\" d=\"M3,0A3,3 0 1,1 0,-3A3,3 0 0,1 3,0Z\" style=\"opacity: 1; stroke-width: 0px; fill: rgb(178, 24, 43); fill-opacity: 1;\"/><path class=\"point\" transform=\"translate(561.77,183.5)\" d=\"M3,0A3,3 0 1,1 0,-3A3,3 0 0,1 3,0Z\" style=\"opacity: 1; stroke-width: 0px; fill: rgb(178, 24, 43); fill-opacity: 1;\"/><path class=\"point\" transform=\"translate(561.96,183.5)\" d=\"M3,0A3,3 0 1,1 0,-3A3,3 0 0,1 3,0Z\" style=\"opacity: 1; stroke-width: 0px; fill: rgb(178, 24, 43); fill-opacity: 1;\"/><path class=\"point\" transform=\"translate(561.97,183.5)\" d=\"M3,0A3,3 0 1,1 0,-3A3,3 0 0,1 3,0Z\" style=\"opacity: 1; stroke-width: 0px; fill: rgb(178, 24, 43); fill-opacity: 1;\"/><path class=\"point\" transform=\"translate(562.46,183.5)\" d=\"M3,0A3,3 0 1,1 0,-3A3,3 0 0,1 3,0Z\" style=\"opacity: 1; stroke-width: 0px; fill: rgb(178, 24, 43); fill-opacity: 1;\"/><path class=\"point\" transform=\"translate(562.68,183.5)\" d=\"M3,0A3,3 0 1,1 0,-3A3,3 0 0,1 3,0Z\" style=\"opacity: 1; stroke-width: 0px; fill: rgb(178, 24, 43); fill-opacity: 1;\"/><path class=\"point\" transform=\"translate(562.98,183.5)\" d=\"M3,0A3,3 0 1,1 0,-3A3,3 0 0,1 3,0Z\" style=\"opacity: 1; stroke-width: 0px; fill: rgb(178, 24, 43); fill-opacity: 1;\"/><path class=\"point\" transform=\"translate(563.14,183.5)\" d=\"M3,0A3,3 0 1,1 0,-3A3,3 0 0,1 3,0Z\" style=\"opacity: 1; stroke-width: 0px; fill: rgb(178, 24, 43); fill-opacity: 1;\"/><path class=\"point\" transform=\"translate(563.54,183.5)\" d=\"M3,0A3,3 0 1,1 0,-3A3,3 0 0,1 3,0Z\" style=\"opacity: 1; stroke-width: 0px; fill: rgb(178, 24, 43); fill-opacity: 1;\"/><path class=\"point\" transform=\"translate(564.02,183.5)\" d=\"M3,0A3,3 0 1,1 0,-3A3,3 0 0,1 3,0Z\" style=\"opacity: 1; stroke-width: 0px; fill: rgb(178, 24, 43); fill-opacity: 1;\"/><path class=\"point\" transform=\"translate(564.28,183.5)\" d=\"M3,0A3,3 0 1,1 0,-3A3,3 0 0,1 3,0Z\" style=\"opacity: 1; stroke-width: 0px; fill: rgb(178, 24, 43); fill-opacity: 1;\"/><path class=\"point\" transform=\"translate(564.39,183.5)\" d=\"M3,0A3,3 0 1,1 0,-3A3,3 0 0,1 3,0Z\" style=\"opacity: 1; stroke-width: 0px; fill: rgb(178, 24, 43); fill-opacity: 1;\"/><path class=\"point\" transform=\"translate(564.4,183.5)\" d=\"M3,0A3,3 0 1,1 0,-3A3,3 0 0,1 3,0Z\" style=\"opacity: 1; stroke-width: 0px; fill: rgb(178, 24, 43); fill-opacity: 1;\"/><path class=\"point\" transform=\"translate(564.42,183.5)\" d=\"M3,0A3,3 0 1,1 0,-3A3,3 0 0,1 3,0Z\" style=\"opacity: 1; stroke-width: 0px; fill: rgb(178, 24, 43); fill-opacity: 1;\"/><path class=\"point\" transform=\"translate(564.56,183.5)\" d=\"M3,0A3,3 0 1,1 0,-3A3,3 0 0,1 3,0Z\" style=\"opacity: 1; stroke-width: 0px; fill: rgb(178, 24, 43); fill-opacity: 1;\"/><path class=\"point\" transform=\"translate(564.75,183.5)\" d=\"M3,0A3,3 0 1,1 0,-3A3,3 0 0,1 3,0Z\" style=\"opacity: 1; stroke-width: 0px; fill: rgb(178, 24, 43); fill-opacity: 1;\"/><path class=\"point\" transform=\"translate(565.79,183.5)\" d=\"M3,0A3,3 0 1,1 0,-3A3,3 0 0,1 3,0Z\" style=\"opacity: 1; stroke-width: 0px; fill: rgb(178, 24, 43); fill-opacity: 1;\"/><path class=\"point\" transform=\"translate(566.29,183.5)\" d=\"M3,0A3,3 0 1,1 0,-3A3,3 0 0,1 3,0Z\" style=\"opacity: 1; stroke-width: 0px; fill: rgb(178, 24, 43); fill-opacity: 1;\"/><path class=\"point\" transform=\"translate(566.36,183.5)\" d=\"M3,0A3,3 0 1,1 0,-3A3,3 0 0,1 3,0Z\" style=\"opacity: 1; stroke-width: 0px; fill: rgb(178, 24, 43); fill-opacity: 1;\"/><path class=\"point\" transform=\"translate(566.4,183.5)\" d=\"M3,0A3,3 0 1,1 0,-3A3,3 0 0,1 3,0Z\" style=\"opacity: 1; stroke-width: 0px; fill: rgb(178, 24, 43); fill-opacity: 1;\"/><path class=\"point\" transform=\"translate(566.75,183.5)\" d=\"M3,0A3,3 0 1,1 0,-3A3,3 0 0,1 3,0Z\" style=\"opacity: 1; stroke-width: 0px; fill: rgb(178, 24, 43); fill-opacity: 1;\"/><path class=\"point\" transform=\"translate(567.64,183.5)\" d=\"M3,0A3,3 0 1,1 0,-3A3,3 0 0,1 3,0Z\" style=\"opacity: 1; stroke-width: 0px; fill: rgb(178, 24, 43); fill-opacity: 1;\"/><path class=\"point\" transform=\"translate(567.72,183.5)\" d=\"M3,0A3,3 0 1,1 0,-3A3,3 0 0,1 3,0Z\" style=\"opacity: 1; stroke-width: 0px; fill: rgb(178, 24, 43); fill-opacity: 1;\"/><path class=\"point\" transform=\"translate(567.75,183.5)\" d=\"M3,0A3,3 0 1,1 0,-3A3,3 0 0,1 3,0Z\" style=\"opacity: 1; stroke-width: 0px; fill: rgb(178, 24, 43); fill-opacity: 1;\"/><path class=\"point\" transform=\"translate(567.86,183.5)\" d=\"M3,0A3,3 0 1,1 0,-3A3,3 0 0,1 3,0Z\" style=\"opacity: 1; stroke-width: 0px; fill: rgb(178, 24, 43); fill-opacity: 1;\"/><path class=\"point\" transform=\"translate(567.96,183.5)\" d=\"M3,0A3,3 0 1,1 0,-3A3,3 0 0,1 3,0Z\" style=\"opacity: 1; stroke-width: 0px; fill: rgb(178, 24, 43); fill-opacity: 1;\"/><path class=\"point\" transform=\"translate(568.46,183.5)\" d=\"M3,0A3,3 0 1,1 0,-3A3,3 0 0,1 3,0Z\" style=\"opacity: 1; stroke-width: 0px; fill: rgb(178, 24, 43); fill-opacity: 1;\"/><path class=\"point\" transform=\"translate(568.71,183.5)\" d=\"M3,0A3,3 0 1,1 0,-3A3,3 0 0,1 3,0Z\" style=\"opacity: 1; stroke-width: 0px; fill: rgb(178, 24, 43); fill-opacity: 1;\"/><path class=\"point\" transform=\"translate(568.83,183.5)\" d=\"M3,0A3,3 0 1,1 0,-3A3,3 0 0,1 3,0Z\" style=\"opacity: 1; stroke-width: 0px; fill: rgb(178, 24, 43); fill-opacity: 1;\"/><path class=\"point\" transform=\"translate(569.23,183.5)\" d=\"M3,0A3,3 0 1,1 0,-3A3,3 0 0,1 3,0Z\" style=\"opacity: 1; stroke-width: 0px; fill: rgb(178, 24, 43); fill-opacity: 1;\"/><path class=\"point\" transform=\"translate(569.4,183.5)\" d=\"M3,0A3,3 0 1,1 0,-3A3,3 0 0,1 3,0Z\" style=\"opacity: 1; stroke-width: 0px; fill: rgb(178, 24, 43); fill-opacity: 1;\"/><path class=\"point\" transform=\"translate(569.43,183.5)\" d=\"M3,0A3,3 0 1,1 0,-3A3,3 0 0,1 3,0Z\" style=\"opacity: 1; stroke-width: 0px; fill: rgb(178, 24, 43); fill-opacity: 1;\"/><path class=\"point\" transform=\"translate(569.54,183.5)\" d=\"M3,0A3,3 0 1,1 0,-3A3,3 0 0,1 3,0Z\" style=\"opacity: 1; stroke-width: 0px; fill: rgb(178, 24, 43); fill-opacity: 1;\"/><path class=\"point\" transform=\"translate(570.17,183.5)\" d=\"M3,0A3,3 0 1,1 0,-3A3,3 0 0,1 3,0Z\" style=\"opacity: 1; stroke-width: 0px; fill: rgb(178, 24, 43); fill-opacity: 1;\"/><path class=\"point\" transform=\"translate(570.41,183.5)\" d=\"M3,0A3,3 0 1,1 0,-3A3,3 0 0,1 3,0Z\" style=\"opacity: 1; stroke-width: 0px; fill: rgb(178, 24, 43); fill-opacity: 1;\"/><path class=\"point\" transform=\"translate(570.42,183.5)\" d=\"M3,0A3,3 0 1,1 0,-3A3,3 0 0,1 3,0Z\" style=\"opacity: 1; stroke-width: 0px; fill: rgb(178, 24, 43); fill-opacity: 1;\"/><path class=\"point\" transform=\"translate(570.5,183.5)\" d=\"M3,0A3,3 0 1,1 0,-3A3,3 0 0,1 3,0Z\" style=\"opacity: 1; stroke-width: 0px; fill: rgb(178, 24, 43); fill-opacity: 1;\"/><path class=\"point\" transform=\"translate(571.05,183.5)\" d=\"M3,0A3,3 0 1,1 0,-3A3,3 0 0,1 3,0Z\" style=\"opacity: 1; stroke-width: 0px; fill: rgb(178, 24, 43); fill-opacity: 1;\"/><path class=\"point\" transform=\"translate(571.64,183.5)\" d=\"M3,0A3,3 0 1,1 0,-3A3,3 0 0,1 3,0Z\" style=\"opacity: 1; stroke-width: 0px; fill: rgb(178, 24, 43); fill-opacity: 1;\"/><path class=\"point\" transform=\"translate(572.19,183.5)\" d=\"M3,0A3,3 0 1,1 0,-3A3,3 0 0,1 3,0Z\" style=\"opacity: 1; stroke-width: 0px; fill: rgb(178, 24, 43); fill-opacity: 1;\"/><path class=\"point\" transform=\"translate(572.6,183.5)\" d=\"M3,0A3,3 0 1,1 0,-3A3,3 0 0,1 3,0Z\" style=\"opacity: 1; stroke-width: 0px; fill: rgb(178, 24, 43); fill-opacity: 1;\"/><path class=\"point\" transform=\"translate(573.13,183.5)\" d=\"M3,0A3,3 0 1,1 0,-3A3,3 0 0,1 3,0Z\" style=\"opacity: 1; stroke-width: 0px; fill: rgb(178, 24, 43); fill-opacity: 1;\"/><path class=\"point\" transform=\"translate(573.5,183.5)\" d=\"M3,0A3,3 0 1,1 0,-3A3,3 0 0,1 3,0Z\" style=\"opacity: 1; stroke-width: 0px; fill: rgb(178, 24, 43); fill-opacity: 1;\"/><path class=\"point\" transform=\"translate(573.79,183.5)\" d=\"M3,0A3,3 0 1,1 0,-3A3,3 0 0,1 3,0Z\" style=\"opacity: 1; stroke-width: 0px; fill: rgb(178, 24, 43); fill-opacity: 1;\"/><path class=\"point\" transform=\"translate(573.84,183.5)\" d=\"M3,0A3,3 0 1,1 0,-3A3,3 0 0,1 3,0Z\" style=\"opacity: 1; stroke-width: 0px; fill: rgb(178, 24, 43); fill-opacity: 1;\"/><path class=\"point\" transform=\"translate(573.95,183.5)\" d=\"M3,0A3,3 0 1,1 0,-3A3,3 0 0,1 3,0Z\" style=\"opacity: 1; stroke-width: 0px; fill: rgb(178, 24, 43); fill-opacity: 1;\"/><path class=\"point\" transform=\"translate(574.21,183.5)\" d=\"M3,0A3,3 0 1,1 0,-3A3,3 0 0,1 3,0Z\" style=\"opacity: 1; stroke-width: 0px; fill: rgb(178, 24, 43); fill-opacity: 1;\"/><path class=\"point\" transform=\"translate(574.45,183.5)\" d=\"M3,0A3,3 0 1,1 0,-3A3,3 0 0,1 3,0Z\" style=\"opacity: 1; stroke-width: 0px; fill: rgb(178, 24, 43); fill-opacity: 1;\"/><path class=\"point\" transform=\"translate(574.52,183.5)\" d=\"M3,0A3,3 0 1,1 0,-3A3,3 0 0,1 3,0Z\" style=\"opacity: 1; stroke-width: 0px; fill: rgb(178, 24, 43); fill-opacity: 1;\"/><path class=\"point\" transform=\"translate(574.64,183.5)\" d=\"M3,0A3,3 0 1,1 0,-3A3,3 0 0,1 3,0Z\" style=\"opacity: 1; stroke-width: 0px; fill: rgb(178, 24, 43); fill-opacity: 1;\"/><path class=\"point\" transform=\"translate(574.69,183.5)\" d=\"M3,0A3,3 0 1,1 0,-3A3,3 0 0,1 3,0Z\" style=\"opacity: 1; stroke-width: 0px; fill: rgb(178, 24, 43); fill-opacity: 1;\"/><path class=\"point\" transform=\"translate(575.06,183.5)\" d=\"M3,0A3,3 0 1,1 0,-3A3,3 0 0,1 3,0Z\" style=\"opacity: 1; stroke-width: 0px; fill: rgb(178, 24, 43); fill-opacity: 1;\"/><path class=\"point\" transform=\"translate(575.17,183.5)\" d=\"M3,0A3,3 0 1,1 0,-3A3,3 0 0,1 3,0Z\" style=\"opacity: 1; stroke-width: 0px; fill: rgb(178, 24, 43); fill-opacity: 1;\"/><path class=\"point\" transform=\"translate(575.3,183.5)\" d=\"M3,0A3,3 0 1,1 0,-3A3,3 0 0,1 3,0Z\" style=\"opacity: 1; stroke-width: 0px; fill: rgb(178, 24, 43); fill-opacity: 1;\"/><path class=\"point\" transform=\"translate(575.35,183.5)\" d=\"M3,0A3,3 0 1,1 0,-3A3,3 0 0,1 3,0Z\" style=\"opacity: 1; stroke-width: 0px; fill: rgb(178, 24, 43); fill-opacity: 1;\"/><path class=\"point\" transform=\"translate(575.45,183.5)\" d=\"M3,0A3,3 0 1,1 0,-3A3,3 0 0,1 3,0Z\" style=\"opacity: 1; stroke-width: 0px; fill: rgb(178, 24, 43); fill-opacity: 1;\"/><path class=\"point\" transform=\"translate(575.46,183.5)\" d=\"M3,0A3,3 0 1,1 0,-3A3,3 0 0,1 3,0Z\" style=\"opacity: 1; stroke-width: 0px; fill: rgb(178, 24, 43); fill-opacity: 1;\"/><path class=\"point\" transform=\"translate(575.79,183.5)\" d=\"M3,0A3,3 0 1,1 0,-3A3,3 0 0,1 3,0Z\" style=\"opacity: 1; stroke-width: 0px; fill: rgb(178, 24, 43); fill-opacity: 1;\"/><path class=\"point\" transform=\"translate(575.8,183.5)\" d=\"M3,0A3,3 0 1,1 0,-3A3,3 0 0,1 3,0Z\" style=\"opacity: 1; stroke-width: 0px; fill: rgb(178, 24, 43); fill-opacity: 1;\"/><path class=\"point\" transform=\"translate(576.74,183.5)\" d=\"M3,0A3,3 0 1,1 0,-3A3,3 0 0,1 3,0Z\" style=\"opacity: 1; stroke-width: 0px; fill: rgb(178, 24, 43); fill-opacity: 1;\"/><path class=\"point\" transform=\"translate(576.9,183.5)\" d=\"M3,0A3,3 0 1,1 0,-3A3,3 0 0,1 3,0Z\" style=\"opacity: 1; stroke-width: 0px; fill: rgb(178, 24, 43); fill-opacity: 1;\"/><path class=\"point\" transform=\"translate(577.08,183.5)\" d=\"M3,0A3,3 0 1,1 0,-3A3,3 0 0,1 3,0Z\" style=\"opacity: 1; stroke-width: 0px; fill: rgb(178, 24, 43); fill-opacity: 1;\"/><path class=\"point\" transform=\"translate(577.4,183.5)\" d=\"M3,0A3,3 0 1,1 0,-3A3,3 0 0,1 3,0Z\" style=\"opacity: 1; stroke-width: 0px; fill: rgb(178, 24, 43); fill-opacity: 1;\"/><path class=\"point\" transform=\"translate(577.59,183.5)\" d=\"M3,0A3,3 0 1,1 0,-3A3,3 0 0,1 3,0Z\" style=\"opacity: 1; stroke-width: 0px; fill: rgb(178, 24, 43); fill-opacity: 1;\"/><path class=\"point\" transform=\"translate(577.85,183.5)\" d=\"M3,0A3,3 0 1,1 0,-3A3,3 0 0,1 3,0Z\" style=\"opacity: 1; stroke-width: 0px; fill: rgb(178, 24, 43); fill-opacity: 1;\"/><path class=\"point\" transform=\"translate(578.01,183.5)\" d=\"M3,0A3,3 0 1,1 0,-3A3,3 0 0,1 3,0Z\" style=\"opacity: 1; stroke-width: 0px; fill: rgb(178, 24, 43); fill-opacity: 1;\"/><path class=\"point\" transform=\"translate(578.06,183.5)\" d=\"M3,0A3,3 0 1,1 0,-3A3,3 0 0,1 3,0Z\" style=\"opacity: 1; stroke-width: 0px; fill: rgb(178, 24, 43); fill-opacity: 1;\"/><path class=\"point\" transform=\"translate(578.3,183.5)\" d=\"M3,0A3,3 0 1,1 0,-3A3,3 0 0,1 3,0Z\" style=\"opacity: 1; stroke-width: 0px; fill: rgb(178, 24, 43); fill-opacity: 1;\"/><path class=\"point\" transform=\"translate(578.41,183.5)\" d=\"M3,0A3,3 0 1,1 0,-3A3,3 0 0,1 3,0Z\" style=\"opacity: 1; stroke-width: 0px; fill: rgb(178, 24, 43); fill-opacity: 1;\"/><path class=\"point\" transform=\"translate(578.51,183.5)\" d=\"M3,0A3,3 0 1,1 0,-3A3,3 0 0,1 3,0Z\" style=\"opacity: 1; stroke-width: 0px; fill: rgb(178, 24, 43); fill-opacity: 1;\"/><path class=\"point\" transform=\"translate(578.62,183.5)\" d=\"M3,0A3,3 0 1,1 0,-3A3,3 0 0,1 3,0Z\" style=\"opacity: 1; stroke-width: 0px; fill: rgb(178, 24, 43); fill-opacity: 1;\"/><path class=\"point\" transform=\"translate(578.65,183.5)\" d=\"M3,0A3,3 0 1,1 0,-3A3,3 0 0,1 3,0Z\" style=\"opacity: 1; stroke-width: 0px; fill: rgb(178, 24, 43); fill-opacity: 1;\"/><path class=\"point\" transform=\"translate(578.7,183.5)\" d=\"M3,0A3,3 0 1,1 0,-3A3,3 0 0,1 3,0Z\" style=\"opacity: 1; stroke-width: 0px; fill: rgb(178, 24, 43); fill-opacity: 1;\"/><path class=\"point\" transform=\"translate(578.88,183.5)\" d=\"M3,0A3,3 0 1,1 0,-3A3,3 0 0,1 3,0Z\" style=\"opacity: 1; stroke-width: 0px; fill: rgb(178, 24, 43); fill-opacity: 1;\"/><path class=\"point\" transform=\"translate(579.13,183.5)\" d=\"M3,0A3,3 0 1,1 0,-3A3,3 0 0,1 3,0Z\" style=\"opacity: 1; stroke-width: 0px; fill: rgb(178, 24, 43); fill-opacity: 1;\"/><path class=\"point\" transform=\"translate(579.5,183.5)\" d=\"M3,0A3,3 0 1,1 0,-3A3,3 0 0,1 3,0Z\" style=\"opacity: 1; stroke-width: 0px; fill: rgb(178, 24, 43); fill-opacity: 1;\"/><path class=\"point\" transform=\"translate(579.68,183.5)\" d=\"M3,0A3,3 0 1,1 0,-3A3,3 0 0,1 3,0Z\" style=\"opacity: 1; stroke-width: 0px; fill: rgb(178, 24, 43); fill-opacity: 1;\"/><path class=\"point\" transform=\"translate(580.28,183.5)\" d=\"M3,0A3,3 0 1,1 0,-3A3,3 0 0,1 3,0Z\" style=\"opacity: 1; stroke-width: 0px; fill: rgb(178, 24, 43); fill-opacity: 1;\"/><path class=\"point\" transform=\"translate(580.34,183.5)\" d=\"M3,0A3,3 0 1,1 0,-3A3,3 0 0,1 3,0Z\" style=\"opacity: 1; stroke-width: 0px; fill: rgb(178, 24, 43); fill-opacity: 1;\"/><path class=\"point\" transform=\"translate(580.57,183.5)\" d=\"M3,0A3,3 0 1,1 0,-3A3,3 0 0,1 3,0Z\" style=\"opacity: 1; stroke-width: 0px; fill: rgb(178, 24, 43); fill-opacity: 1;\"/><path class=\"point\" transform=\"translate(580.8,183.5)\" d=\"M3,0A3,3 0 1,1 0,-3A3,3 0 0,1 3,0Z\" style=\"opacity: 1; stroke-width: 0px; fill: rgb(178, 24, 43); fill-opacity: 1;\"/><path class=\"point\" transform=\"translate(580.83,183.5)\" d=\"M3,0A3,3 0 1,1 0,-3A3,3 0 0,1 3,0Z\" style=\"opacity: 1; stroke-width: 0px; fill: rgb(178, 24, 43); fill-opacity: 1;\"/><path class=\"point\" transform=\"translate(580.99,183.5)\" d=\"M3,0A3,3 0 1,1 0,-3A3,3 0 0,1 3,0Z\" style=\"opacity: 1; stroke-width: 0px; fill: rgb(178, 24, 43); fill-opacity: 1;\"/><path class=\"point\" transform=\"translate(581.17,183.5)\" d=\"M3,0A3,3 0 1,1 0,-3A3,3 0 0,1 3,0Z\" style=\"opacity: 1; stroke-width: 0px; fill: rgb(178, 24, 43); fill-opacity: 1;\"/><path class=\"point\" transform=\"translate(581.33,183.5)\" d=\"M3,0A3,3 0 1,1 0,-3A3,3 0 0,1 3,0Z\" style=\"opacity: 1; stroke-width: 0px; fill: rgb(178, 24, 43); fill-opacity: 1;\"/><path class=\"point\" transform=\"translate(581.98,183.5)\" d=\"M3,0A3,3 0 1,1 0,-3A3,3 0 0,1 3,0Z\" style=\"opacity: 1; stroke-width: 0px; fill: rgb(178, 24, 43); fill-opacity: 1;\"/><path class=\"point\" transform=\"translate(582.1,183.5)\" d=\"M3,0A3,3 0 1,1 0,-3A3,3 0 0,1 3,0Z\" style=\"opacity: 1; stroke-width: 0px; fill: rgb(178, 24, 43); fill-opacity: 1;\"/><path class=\"point\" transform=\"translate(582.46,183.5)\" d=\"M3,0A3,3 0 1,1 0,-3A3,3 0 0,1 3,0Z\" style=\"opacity: 1; stroke-width: 0px; fill: rgb(178, 24, 43); fill-opacity: 1;\"/><path class=\"point\" transform=\"translate(582.84,183.5)\" d=\"M3,0A3,3 0 1,1 0,-3A3,3 0 0,1 3,0Z\" style=\"opacity: 1; stroke-width: 0px; fill: rgb(178, 24, 43); fill-opacity: 1;\"/><path class=\"point\" transform=\"translate(583.14,183.5)\" d=\"M3,0A3,3 0 1,1 0,-3A3,3 0 0,1 3,0Z\" style=\"opacity: 1; stroke-width: 0px; fill: rgb(178, 24, 43); fill-opacity: 1;\"/><path class=\"point\" transform=\"translate(583.27,183.5)\" d=\"M3,0A3,3 0 1,1 0,-3A3,3 0 0,1 3,0Z\" style=\"opacity: 1; stroke-width: 0px; fill: rgb(178, 24, 43); fill-opacity: 1;\"/><path class=\"point\" transform=\"translate(583.63,183.5)\" d=\"M3,0A3,3 0 1,1 0,-3A3,3 0 0,1 3,0Z\" style=\"opacity: 1; stroke-width: 0px; fill: rgb(178, 24, 43); fill-opacity: 1;\"/><path class=\"point\" transform=\"translate(583.71,183.5)\" d=\"M3,0A3,3 0 1,1 0,-3A3,3 0 0,1 3,0Z\" style=\"opacity: 1; stroke-width: 0px; fill: rgb(178, 24, 43); fill-opacity: 1;\"/><path class=\"point\" transform=\"translate(583.89,183.5)\" d=\"M3,0A3,3 0 1,1 0,-3A3,3 0 0,1 3,0Z\" style=\"opacity: 1; stroke-width: 0px; fill: rgb(178, 24, 43); fill-opacity: 1;\"/><path class=\"point\" transform=\"translate(584.15,183.5)\" d=\"M3,0A3,3 0 1,1 0,-3A3,3 0 0,1 3,0Z\" style=\"opacity: 1; stroke-width: 0px; fill: rgb(178, 24, 43); fill-opacity: 1;\"/><path class=\"point\" transform=\"translate(584.3,183.5)\" d=\"M3,0A3,3 0 1,1 0,-3A3,3 0 0,1 3,0Z\" style=\"opacity: 1; stroke-width: 0px; fill: rgb(178, 24, 43); fill-opacity: 1;\"/><path class=\"point\" transform=\"translate(584.42,183.5)\" d=\"M3,0A3,3 0 1,1 0,-3A3,3 0 0,1 3,0Z\" style=\"opacity: 1; stroke-width: 0px; fill: rgb(178, 24, 43); fill-opacity: 1;\"/><path class=\"point\" transform=\"translate(584.46,183.5)\" d=\"M3,0A3,3 0 1,1 0,-3A3,3 0 0,1 3,0Z\" style=\"opacity: 1; stroke-width: 0px; fill: rgb(178, 24, 43); fill-opacity: 1;\"/><path class=\"point\" transform=\"translate(584.59,183.5)\" d=\"M3,0A3,3 0 1,1 0,-3A3,3 0 0,1 3,0Z\" style=\"opacity: 1; stroke-width: 0px; fill: rgb(178, 24, 43); fill-opacity: 1;\"/><path class=\"point\" transform=\"translate(585.26,183.5)\" d=\"M3,0A3,3 0 1,1 0,-3A3,3 0 0,1 3,0Z\" style=\"opacity: 1; stroke-width: 0px; fill: rgb(178, 24, 43); fill-opacity: 1;\"/><path class=\"point\" transform=\"translate(585.39,183.5)\" d=\"M3,0A3,3 0 1,1 0,-3A3,3 0 0,1 3,0Z\" style=\"opacity: 1; stroke-width: 0px; fill: rgb(178, 24, 43); fill-opacity: 1;\"/><path class=\"point\" transform=\"translate(585.66,183.5)\" d=\"M3,0A3,3 0 1,1 0,-3A3,3 0 0,1 3,0Z\" style=\"opacity: 1; stroke-width: 0px; fill: rgb(178, 24, 43); fill-opacity: 1;\"/><path class=\"point\" transform=\"translate(585.92,183.5)\" d=\"M3,0A3,3 0 1,1 0,-3A3,3 0 0,1 3,0Z\" style=\"opacity: 1; stroke-width: 0px; fill: rgb(178, 24, 43); fill-opacity: 1;\"/><path class=\"point\" transform=\"translate(586.85,183.5)\" d=\"M3,0A3,3 0 1,1 0,-3A3,3 0 0,1 3,0Z\" style=\"opacity: 1; stroke-width: 0px; fill: rgb(178, 24, 43); fill-opacity: 1;\"/><path class=\"point\" transform=\"translate(587.03,183.5)\" d=\"M3,0A3,3 0 1,1 0,-3A3,3 0 0,1 3,0Z\" style=\"opacity: 1; stroke-width: 0px; fill: rgb(178, 24, 43); fill-opacity: 1;\"/><path class=\"point\" transform=\"translate(587.3,183.5)\" d=\"M3,0A3,3 0 1,1 0,-3A3,3 0 0,1 3,0Z\" style=\"opacity: 1; stroke-width: 0px; fill: rgb(178, 24, 43); fill-opacity: 1;\"/><path class=\"point\" transform=\"translate(587.42,183.5)\" d=\"M3,0A3,3 0 1,1 0,-3A3,3 0 0,1 3,0Z\" style=\"opacity: 1; stroke-width: 0px; fill: rgb(178, 24, 43); fill-opacity: 1;\"/><path class=\"point\" transform=\"translate(587.55,183.5)\" d=\"M3,0A3,3 0 1,1 0,-3A3,3 0 0,1 3,0Z\" style=\"opacity: 1; stroke-width: 0px; fill: rgb(178, 24, 43); fill-opacity: 1;\"/><path class=\"point\" transform=\"translate(587.57,183.5)\" d=\"M3,0A3,3 0 1,1 0,-3A3,3 0 0,1 3,0Z\" style=\"opacity: 1; stroke-width: 0px; fill: rgb(178, 24, 43); fill-opacity: 1;\"/><path class=\"point\" transform=\"translate(588.05,183.5)\" d=\"M3,0A3,3 0 1,1 0,-3A3,3 0 0,1 3,0Z\" style=\"opacity: 1; stroke-width: 0px; fill: rgb(178, 24, 43); fill-opacity: 1;\"/><path class=\"point\" transform=\"translate(588.21,183.5)\" d=\"M3,0A3,3 0 1,1 0,-3A3,3 0 0,1 3,0Z\" style=\"opacity: 1; stroke-width: 0px; fill: rgb(178, 24, 43); fill-opacity: 1;\"/><path class=\"point\" transform=\"translate(588.57,183.5)\" d=\"M3,0A3,3 0 1,1 0,-3A3,3 0 0,1 3,0Z\" style=\"opacity: 1; stroke-width: 0px; fill: rgb(178, 24, 43); fill-opacity: 1;\"/><path class=\"point\" transform=\"translate(588.72,183.5)\" d=\"M3,0A3,3 0 1,1 0,-3A3,3 0 0,1 3,0Z\" style=\"opacity: 1; stroke-width: 0px; fill: rgb(178, 24, 43); fill-opacity: 1;\"/><path class=\"point\" transform=\"translate(589.07,183.5)\" d=\"M3,0A3,3 0 1,1 0,-3A3,3 0 0,1 3,0Z\" style=\"opacity: 1; stroke-width: 0px; fill: rgb(178, 24, 43); fill-opacity: 1;\"/><path class=\"point\" transform=\"translate(589.07,183.5)\" d=\"M3,0A3,3 0 1,1 0,-3A3,3 0 0,1 3,0Z\" style=\"opacity: 1; stroke-width: 0px; fill: rgb(178, 24, 43); fill-opacity: 1;\"/><path class=\"point\" transform=\"translate(589.32,183.5)\" d=\"M3,0A3,3 0 1,1 0,-3A3,3 0 0,1 3,0Z\" style=\"opacity: 1; stroke-width: 0px; fill: rgb(178, 24, 43); fill-opacity: 1;\"/><path class=\"point\" transform=\"translate(589.51,183.5)\" d=\"M3,0A3,3 0 1,1 0,-3A3,3 0 0,1 3,0Z\" style=\"opacity: 1; stroke-width: 0px; fill: rgb(178, 24, 43); fill-opacity: 1;\"/><path class=\"point\" transform=\"translate(589.6,183.5)\" d=\"M3,0A3,3 0 1,1 0,-3A3,3 0 0,1 3,0Z\" style=\"opacity: 1; stroke-width: 0px; fill: rgb(178, 24, 43); fill-opacity: 1;\"/><path class=\"point\" transform=\"translate(589.84,183.5)\" d=\"M3,0A3,3 0 1,1 0,-3A3,3 0 0,1 3,0Z\" style=\"opacity: 1; stroke-width: 0px; fill: rgb(178, 24, 43); fill-opacity: 1;\"/><path class=\"point\" transform=\"translate(590.34,183.5)\" d=\"M3,0A3,3 0 1,1 0,-3A3,3 0 0,1 3,0Z\" style=\"opacity: 1; stroke-width: 0px; fill: rgb(178, 24, 43); fill-opacity: 1;\"/><path class=\"point\" transform=\"translate(590.37,183.5)\" d=\"M3,0A3,3 0 1,1 0,-3A3,3 0 0,1 3,0Z\" style=\"opacity: 1; stroke-width: 0px; fill: rgb(178, 24, 43); fill-opacity: 1;\"/><path class=\"point\" transform=\"translate(590.44,183.5)\" d=\"M3,0A3,3 0 1,1 0,-3A3,3 0 0,1 3,0Z\" style=\"opacity: 1; stroke-width: 0px; fill: rgb(178, 24, 43); fill-opacity: 1;\"/><path class=\"point\" transform=\"translate(590.53,183.5)\" d=\"M3,0A3,3 0 1,1 0,-3A3,3 0 0,1 3,0Z\" style=\"opacity: 1; stroke-width: 0px; fill: rgb(178, 24, 43); fill-opacity: 1;\"/><path class=\"point\" transform=\"translate(590.99,183.5)\" d=\"M3,0A3,3 0 1,1 0,-3A3,3 0 0,1 3,0Z\" style=\"opacity: 1; stroke-width: 0px; fill: rgb(178, 24, 43); fill-opacity: 1;\"/><path class=\"point\" transform=\"translate(591.44,183.5)\" d=\"M3,0A3,3 0 1,1 0,-3A3,3 0 0,1 3,0Z\" style=\"opacity: 1; stroke-width: 0px; fill: rgb(178, 24, 43); fill-opacity: 1;\"/><path class=\"point\" transform=\"translate(591.69,183.5)\" d=\"M3,0A3,3 0 1,1 0,-3A3,3 0 0,1 3,0Z\" style=\"opacity: 1; stroke-width: 0px; fill: rgb(178, 24, 43); fill-opacity: 1;\"/><path class=\"point\" transform=\"translate(591.9,183.5)\" d=\"M3,0A3,3 0 1,1 0,-3A3,3 0 0,1 3,0Z\" style=\"opacity: 1; stroke-width: 0px; fill: rgb(178, 24, 43); fill-opacity: 1;\"/><path class=\"point\" transform=\"translate(591.91,183.5)\" d=\"M3,0A3,3 0 1,1 0,-3A3,3 0 0,1 3,0Z\" style=\"opacity: 1; stroke-width: 0px; fill: rgb(178, 24, 43); fill-opacity: 1;\"/><path class=\"point\" transform=\"translate(592.14,183.5)\" d=\"M3,0A3,3 0 1,1 0,-3A3,3 0 0,1 3,0Z\" style=\"opacity: 1; stroke-width: 0px; fill: rgb(178, 24, 43); fill-opacity: 1;\"/><path class=\"point\" transform=\"translate(592.29,183.5)\" d=\"M3,0A3,3 0 1,1 0,-3A3,3 0 0,1 3,0Z\" style=\"opacity: 1; stroke-width: 0px; fill: rgb(178, 24, 43); fill-opacity: 1;\"/><path class=\"point\" transform=\"translate(592.31,183.5)\" d=\"M3,0A3,3 0 1,1 0,-3A3,3 0 0,1 3,0Z\" style=\"opacity: 1; stroke-width: 0px; fill: rgb(178, 24, 43); fill-opacity: 1;\"/><path class=\"point\" transform=\"translate(592.91,183.5)\" d=\"M3,0A3,3 0 1,1 0,-3A3,3 0 0,1 3,0Z\" style=\"opacity: 1; stroke-width: 0px; fill: rgb(178, 24, 43); fill-opacity: 1;\"/><path class=\"point\" transform=\"translate(593.16,183.5)\" d=\"M3,0A3,3 0 1,1 0,-3A3,3 0 0,1 3,0Z\" style=\"opacity: 1; stroke-width: 0px; fill: rgb(178, 24, 43); fill-opacity: 1;\"/><path class=\"point\" transform=\"translate(593.21,183.5)\" d=\"M3,0A3,3 0 1,1 0,-3A3,3 0 0,1 3,0Z\" style=\"opacity: 1; stroke-width: 0px; fill: rgb(178, 24, 43); fill-opacity: 1;\"/><path class=\"point\" transform=\"translate(594.23,183.5)\" d=\"M3,0A3,3 0 1,1 0,-3A3,3 0 0,1 3,0Z\" style=\"opacity: 1; stroke-width: 0px; fill: rgb(178, 24, 43); fill-opacity: 1;\"/><path class=\"point\" transform=\"translate(594.59,183.5)\" d=\"M3,0A3,3 0 1,1 0,-3A3,3 0 0,1 3,0Z\" style=\"opacity: 1; stroke-width: 0px; fill: rgb(178, 24, 43); fill-opacity: 1;\"/><path class=\"point\" transform=\"translate(594.72,183.5)\" d=\"M3,0A3,3 0 1,1 0,-3A3,3 0 0,1 3,0Z\" style=\"opacity: 1; stroke-width: 0px; fill: rgb(178, 24, 43); fill-opacity: 1;\"/><path class=\"point\" transform=\"translate(595.3,183.5)\" d=\"M3,0A3,3 0 1,1 0,-3A3,3 0 0,1 3,0Z\" style=\"opacity: 1; stroke-width: 0px; fill: rgb(178, 24, 43); fill-opacity: 1;\"/><path class=\"point\" transform=\"translate(595.32,183.5)\" d=\"M3,0A3,3 0 1,1 0,-3A3,3 0 0,1 3,0Z\" style=\"opacity: 1; stroke-width: 0px; fill: rgb(178, 24, 43); fill-opacity: 1;\"/><path class=\"point\" transform=\"translate(595.53,183.5)\" d=\"M3,0A3,3 0 1,1 0,-3A3,3 0 0,1 3,0Z\" style=\"opacity: 1; stroke-width: 0px; fill: rgb(178, 24, 43); fill-opacity: 1;\"/><path class=\"point\" transform=\"translate(595.54,183.5)\" d=\"M3,0A3,3 0 1,1 0,-3A3,3 0 0,1 3,0Z\" style=\"opacity: 1; stroke-width: 0px; fill: rgb(178, 24, 43); fill-opacity: 1;\"/><path class=\"point\" transform=\"translate(595.59,183.5)\" d=\"M3,0A3,3 0 1,1 0,-3A3,3 0 0,1 3,0Z\" style=\"opacity: 1; stroke-width: 0px; fill: rgb(178, 24, 43); fill-opacity: 1;\"/><path class=\"point\" transform=\"translate(595.72,183.5)\" d=\"M3,0A3,3 0 1,1 0,-3A3,3 0 0,1 3,0Z\" style=\"opacity: 1; stroke-width: 0px; fill: rgb(178, 24, 43); fill-opacity: 1;\"/><path class=\"point\" transform=\"translate(595.77,183.5)\" d=\"M3,0A3,3 0 1,1 0,-3A3,3 0 0,1 3,0Z\" style=\"opacity: 1; stroke-width: 0px; fill: rgb(178, 24, 43); fill-opacity: 1;\"/><path class=\"point\" transform=\"translate(595.79,183.5)\" d=\"M3,0A3,3 0 1,1 0,-3A3,3 0 0,1 3,0Z\" style=\"opacity: 1; stroke-width: 0px; fill: rgb(178, 24, 43); fill-opacity: 1;\"/><path class=\"point\" transform=\"translate(595.85,183.5)\" d=\"M3,0A3,3 0 1,1 0,-3A3,3 0 0,1 3,0Z\" style=\"opacity: 1; stroke-width: 0px; fill: rgb(178, 24, 43); fill-opacity: 1;\"/><path class=\"point\" transform=\"translate(595.98,183.5)\" d=\"M3,0A3,3 0 1,1 0,-3A3,3 0 0,1 3,0Z\" style=\"opacity: 1; stroke-width: 0px; fill: rgb(178, 24, 43); fill-opacity: 1;\"/><path class=\"point\" transform=\"translate(596.33,183.5)\" d=\"M3,0A3,3 0 1,1 0,-3A3,3 0 0,1 3,0Z\" style=\"opacity: 1; stroke-width: 0px; fill: rgb(178, 24, 43); fill-opacity: 1;\"/><path class=\"point\" transform=\"translate(597.2,183.5)\" d=\"M3,0A3,3 0 1,1 0,-3A3,3 0 0,1 3,0Z\" style=\"opacity: 1; stroke-width: 0px; fill: rgb(178, 24, 43); fill-opacity: 1;\"/><path class=\"point\" transform=\"translate(597.84,183.5)\" d=\"M3,0A3,3 0 1,1 0,-3A3,3 0 0,1 3,0Z\" style=\"opacity: 1; stroke-width: 0px; fill: rgb(178, 24, 43); fill-opacity: 1;\"/><path class=\"point\" transform=\"translate(598.14,183.5)\" d=\"M3,0A3,3 0 1,1 0,-3A3,3 0 0,1 3,0Z\" style=\"opacity: 1; stroke-width: 0px; fill: rgb(178, 24, 43); fill-opacity: 1;\"/><path class=\"point\" transform=\"translate(598.17,183.5)\" d=\"M3,0A3,3 0 1,1 0,-3A3,3 0 0,1 3,0Z\" style=\"opacity: 1; stroke-width: 0px; fill: rgb(178, 24, 43); fill-opacity: 1;\"/><path class=\"point\" transform=\"translate(598.49,183.5)\" d=\"M3,0A3,3 0 1,1 0,-3A3,3 0 0,1 3,0Z\" style=\"opacity: 1; stroke-width: 0px; fill: rgb(178, 24, 43); fill-opacity: 1;\"/><path class=\"point\" transform=\"translate(598.67,183.5)\" d=\"M3,0A3,3 0 1,1 0,-3A3,3 0 0,1 3,0Z\" style=\"opacity: 1; stroke-width: 0px; fill: rgb(178, 24, 43); fill-opacity: 1;\"/><path class=\"point\" transform=\"translate(598.75,183.5)\" d=\"M3,0A3,3 0 1,1 0,-3A3,3 0 0,1 3,0Z\" style=\"opacity: 1; stroke-width: 0px; fill: rgb(178, 24, 43); fill-opacity: 1;\"/><path class=\"point\" transform=\"translate(598.88,183.5)\" d=\"M3,0A3,3 0 1,1 0,-3A3,3 0 0,1 3,0Z\" style=\"opacity: 1; stroke-width: 0px; fill: rgb(178, 24, 43); fill-opacity: 1;\"/><path class=\"point\" transform=\"translate(599.68,183.5)\" d=\"M3,0A3,3 0 1,1 0,-3A3,3 0 0,1 3,0Z\" style=\"opacity: 1; stroke-width: 0px; fill: rgb(178, 24, 43); fill-opacity: 1;\"/><path class=\"point\" transform=\"translate(599.97,183.5)\" d=\"M3,0A3,3 0 1,1 0,-3A3,3 0 0,1 3,0Z\" style=\"opacity: 1; stroke-width: 0px; fill: rgb(178, 24, 43); fill-opacity: 1;\"/><path class=\"point\" transform=\"translate(600.63,183.5)\" d=\"M3,0A3,3 0 1,1 0,-3A3,3 0 0,1 3,0Z\" style=\"opacity: 1; stroke-width: 0px; fill: rgb(178, 24, 43); fill-opacity: 1;\"/><path class=\"point\" transform=\"translate(600.84,183.5)\" d=\"M3,0A3,3 0 1,1 0,-3A3,3 0 0,1 3,0Z\" style=\"opacity: 1; stroke-width: 0px; fill: rgb(178, 24, 43); fill-opacity: 1;\"/><path class=\"point\" transform=\"translate(600.94,183.5)\" d=\"M3,0A3,3 0 1,1 0,-3A3,3 0 0,1 3,0Z\" style=\"opacity: 1; stroke-width: 0px; fill: rgb(178, 24, 43); fill-opacity: 1;\"/><path class=\"point\" transform=\"translate(601.25,183.5)\" d=\"M3,0A3,3 0 1,1 0,-3A3,3 0 0,1 3,0Z\" style=\"opacity: 1; stroke-width: 0px; fill: rgb(178, 24, 43); fill-opacity: 1;\"/><path class=\"point\" transform=\"translate(601.73,183.5)\" d=\"M3,0A3,3 0 1,1 0,-3A3,3 0 0,1 3,0Z\" style=\"opacity: 1; stroke-width: 0px; fill: rgb(178, 24, 43); fill-opacity: 1;\"/><path class=\"point\" transform=\"translate(601.78,183.5)\" d=\"M3,0A3,3 0 1,1 0,-3A3,3 0 0,1 3,0Z\" style=\"opacity: 1; stroke-width: 0px; fill: rgb(178, 24, 43); fill-opacity: 1;\"/><path class=\"point\" transform=\"translate(601.97,183.5)\" d=\"M3,0A3,3 0 1,1 0,-3A3,3 0 0,1 3,0Z\" style=\"opacity: 1; stroke-width: 0px; fill: rgb(178, 24, 43); fill-opacity: 1;\"/><path class=\"point\" transform=\"translate(602.28,183.5)\" d=\"M3,0A3,3 0 1,1 0,-3A3,3 0 0,1 3,0Z\" style=\"opacity: 1; stroke-width: 0px; fill: rgb(178, 24, 43); fill-opacity: 1;\"/><path class=\"point\" transform=\"translate(602.59,183.5)\" d=\"M3,0A3,3 0 1,1 0,-3A3,3 0 0,1 3,0Z\" style=\"opacity: 1; stroke-width: 0px; fill: rgb(178, 24, 43); fill-opacity: 1;\"/><path class=\"point\" transform=\"translate(603.48,183.5)\" d=\"M3,0A3,3 0 1,1 0,-3A3,3 0 0,1 3,0Z\" style=\"opacity: 1; stroke-width: 0px; fill: rgb(178, 24, 43); fill-opacity: 1;\"/><path class=\"point\" transform=\"translate(603.69,183.5)\" d=\"M3,0A3,3 0 1,1 0,-3A3,3 0 0,1 3,0Z\" style=\"opacity: 1; stroke-width: 0px; fill: rgb(178, 24, 43); fill-opacity: 1;\"/><path class=\"point\" transform=\"translate(604.22,183.5)\" d=\"M3,0A3,3 0 1,1 0,-3A3,3 0 0,1 3,0Z\" style=\"opacity: 1; stroke-width: 0px; fill: rgb(178, 24, 43); fill-opacity: 1;\"/><path class=\"point\" transform=\"translate(604.32,183.5)\" d=\"M3,0A3,3 0 1,1 0,-3A3,3 0 0,1 3,0Z\" style=\"opacity: 1; stroke-width: 0px; fill: rgb(178, 24, 43); fill-opacity: 1;\"/><path class=\"point\" transform=\"translate(604.73,183.5)\" d=\"M3,0A3,3 0 1,1 0,-3A3,3 0 0,1 3,0Z\" style=\"opacity: 1; stroke-width: 0px; fill: rgb(178, 24, 43); fill-opacity: 1;\"/><path class=\"point\" transform=\"translate(604.9,183.5)\" d=\"M3,0A3,3 0 1,1 0,-3A3,3 0 0,1 3,0Z\" style=\"opacity: 1; stroke-width: 0px; fill: rgb(178, 24, 43); fill-opacity: 1;\"/><path class=\"point\" transform=\"translate(605.03,183.5)\" d=\"M3,0A3,3 0 1,1 0,-3A3,3 0 0,1 3,0Z\" style=\"opacity: 1; stroke-width: 0px; fill: rgb(178, 24, 43); fill-opacity: 1;\"/><path class=\"point\" transform=\"translate(605.24,183.5)\" d=\"M3,0A3,3 0 1,1 0,-3A3,3 0 0,1 3,0Z\" style=\"opacity: 1; stroke-width: 0px; fill: rgb(178, 24, 43); fill-opacity: 1;\"/><path class=\"point\" transform=\"translate(605.26,183.5)\" d=\"M3,0A3,3 0 1,1 0,-3A3,3 0 0,1 3,0Z\" style=\"opacity: 1; stroke-width: 0px; fill: rgb(178, 24, 43); fill-opacity: 1;\"/><path class=\"point\" transform=\"translate(605.51,183.5)\" d=\"M3,0A3,3 0 1,1 0,-3A3,3 0 0,1 3,0Z\" style=\"opacity: 1; stroke-width: 0px; fill: rgb(178, 24, 43); fill-opacity: 1;\"/><path class=\"point\" transform=\"translate(605.98,183.5)\" d=\"M3,0A3,3 0 1,1 0,-3A3,3 0 0,1 3,0Z\" style=\"opacity: 1; stroke-width: 0px; fill: rgb(178, 24, 43); fill-opacity: 1;\"/><path class=\"point\" transform=\"translate(606.02,183.5)\" d=\"M3,0A3,3 0 1,1 0,-3A3,3 0 0,1 3,0Z\" style=\"opacity: 1; stroke-width: 0px; fill: rgb(178, 24, 43); fill-opacity: 1;\"/><path class=\"point\" transform=\"translate(606.63,183.5)\" d=\"M3,0A3,3 0 1,1 0,-3A3,3 0 0,1 3,0Z\" style=\"opacity: 1; stroke-width: 0px; fill: rgb(178, 24, 43); fill-opacity: 1;\"/><path class=\"point\" transform=\"translate(607.08,183.5)\" d=\"M3,0A3,3 0 1,1 0,-3A3,3 0 0,1 3,0Z\" style=\"opacity: 1; stroke-width: 0px; fill: rgb(178, 24, 43); fill-opacity: 1;\"/><path class=\"point\" transform=\"translate(607.18,183.5)\" d=\"M3,0A3,3 0 1,1 0,-3A3,3 0 0,1 3,0Z\" style=\"opacity: 1; stroke-width: 0px; fill: rgb(178, 24, 43); fill-opacity: 1;\"/><path class=\"point\" transform=\"translate(607.3,183.5)\" d=\"M3,0A3,3 0 1,1 0,-3A3,3 0 0,1 3,0Z\" style=\"opacity: 1; stroke-width: 0px; fill: rgb(178, 24, 43); fill-opacity: 1;\"/><path class=\"point\" transform=\"translate(607.45,183.5)\" d=\"M3,0A3,3 0 1,1 0,-3A3,3 0 0,1 3,0Z\" style=\"opacity: 1; stroke-width: 0px; fill: rgb(178, 24, 43); fill-opacity: 1;\"/><path class=\"point\" transform=\"translate(607.99,183.5)\" d=\"M3,0A3,3 0 1,1 0,-3A3,3 0 0,1 3,0Z\" style=\"opacity: 1; stroke-width: 0px; fill: rgb(178, 24, 43); fill-opacity: 1;\"/><path class=\"point\" transform=\"translate(608.36,183.5)\" d=\"M3,0A3,3 0 1,1 0,-3A3,3 0 0,1 3,0Z\" style=\"opacity: 1; stroke-width: 0px; fill: rgb(178, 24, 43); fill-opacity: 1;\"/><path class=\"point\" transform=\"translate(608.47,183.5)\" d=\"M3,0A3,3 0 1,1 0,-3A3,3 0 0,1 3,0Z\" style=\"opacity: 1; stroke-width: 0px; fill: rgb(178, 24, 43); fill-opacity: 1;\"/><path class=\"point\" transform=\"translate(608.54,183.5)\" d=\"M3,0A3,3 0 1,1 0,-3A3,3 0 0,1 3,0Z\" style=\"opacity: 1; stroke-width: 0px; fill: rgb(178, 24, 43); fill-opacity: 1;\"/><path class=\"point\" transform=\"translate(608.68,183.5)\" d=\"M3,0A3,3 0 1,1 0,-3A3,3 0 0,1 3,0Z\" style=\"opacity: 1; stroke-width: 0px; fill: rgb(178, 24, 43); fill-opacity: 1;\"/><path class=\"point\" transform=\"translate(608.78,183.5)\" d=\"M3,0A3,3 0 1,1 0,-3A3,3 0 0,1 3,0Z\" style=\"opacity: 1; stroke-width: 0px; fill: rgb(178, 24, 43); fill-opacity: 1;\"/><path class=\"point\" transform=\"translate(608.83,183.5)\" d=\"M3,0A3,3 0 1,1 0,-3A3,3 0 0,1 3,0Z\" style=\"opacity: 1; stroke-width: 0px; fill: rgb(178, 24, 43); fill-opacity: 1;\"/><path class=\"point\" transform=\"translate(608.96,183.5)\" d=\"M3,0A3,3 0 1,1 0,-3A3,3 0 0,1 3,0Z\" style=\"opacity: 1; stroke-width: 0px; fill: rgb(178, 24, 43); fill-opacity: 1;\"/><path class=\"point\" transform=\"translate(609.19,183.5)\" d=\"M3,0A3,3 0 1,1 0,-3A3,3 0 0,1 3,0Z\" style=\"opacity: 1; stroke-width: 0px; fill: rgb(178, 24, 43); fill-opacity: 1;\"/><path class=\"point\" transform=\"translate(609.26,183.5)\" d=\"M3,0A3,3 0 1,1 0,-3A3,3 0 0,1 3,0Z\" style=\"opacity: 1; stroke-width: 0px; fill: rgb(178, 24, 43); fill-opacity: 1;\"/><path class=\"point\" transform=\"translate(609.38,183.5)\" d=\"M3,0A3,3 0 1,1 0,-3A3,3 0 0,1 3,0Z\" style=\"opacity: 1; stroke-width: 0px; fill: rgb(178, 24, 43); fill-opacity: 1;\"/><path class=\"point\" transform=\"translate(609.51,183.5)\" d=\"M3,0A3,3 0 1,1 0,-3A3,3 0 0,1 3,0Z\" style=\"opacity: 1; stroke-width: 0px; fill: rgb(178, 24, 43); fill-opacity: 1;\"/><path class=\"point\" transform=\"translate(610.79,183.5)\" d=\"M3,0A3,3 0 1,1 0,-3A3,3 0 0,1 3,0Z\" style=\"opacity: 1; stroke-width: 0px; fill: rgb(178, 24, 43); fill-opacity: 1;\"/><path class=\"point\" transform=\"translate(611.72,183.5)\" d=\"M3,0A3,3 0 1,1 0,-3A3,3 0 0,1 3,0Z\" style=\"opacity: 1; stroke-width: 0px; fill: rgb(178, 24, 43); fill-opacity: 1;\"/><path class=\"point\" transform=\"translate(612.23,183.5)\" d=\"M3,0A3,3 0 1,1 0,-3A3,3 0 0,1 3,0Z\" style=\"opacity: 1; stroke-width: 0px; fill: rgb(178, 24, 43); fill-opacity: 1;\"/><path class=\"point\" transform=\"translate(612.8,183.5)\" d=\"M3,0A3,3 0 1,1 0,-3A3,3 0 0,1 3,0Z\" style=\"opacity: 1; stroke-width: 0px; fill: rgb(178, 24, 43); fill-opacity: 1;\"/><path class=\"point\" transform=\"translate(613.68,183.5)\" d=\"M3,0A3,3 0 1,1 0,-3A3,3 0 0,1 3,0Z\" style=\"opacity: 1; stroke-width: 0px; fill: rgb(178, 24, 43); fill-opacity: 1;\"/><path class=\"point\" transform=\"translate(614.29,183.5)\" d=\"M3,0A3,3 0 1,1 0,-3A3,3 0 0,1 3,0Z\" style=\"opacity: 1; stroke-width: 0px; fill: rgb(178, 24, 43); fill-opacity: 1;\"/><path class=\"point\" transform=\"translate(615.08,183.5)\" d=\"M3,0A3,3 0 1,1 0,-3A3,3 0 0,1 3,0Z\" style=\"opacity: 1; stroke-width: 0px; fill: rgb(178, 24, 43); fill-opacity: 1;\"/><path class=\"point\" transform=\"translate(615.23,183.5)\" d=\"M3,0A3,3 0 1,1 0,-3A3,3 0 0,1 3,0Z\" style=\"opacity: 1; stroke-width: 0px; fill: rgb(178, 24, 43); fill-opacity: 1;\"/><path class=\"point\" transform=\"translate(615.29,183.5)\" d=\"M3,0A3,3 0 1,1 0,-3A3,3 0 0,1 3,0Z\" style=\"opacity: 1; stroke-width: 0px; fill: rgb(178, 24, 43); fill-opacity: 1;\"/><path class=\"point\" transform=\"translate(615.31,183.5)\" d=\"M3,0A3,3 0 1,1 0,-3A3,3 0 0,1 3,0Z\" style=\"opacity: 1; stroke-width: 0px; fill: rgb(178, 24, 43); fill-opacity: 1;\"/><path class=\"point\" transform=\"translate(615.35,183.5)\" d=\"M3,0A3,3 0 1,1 0,-3A3,3 0 0,1 3,0Z\" style=\"opacity: 1; stroke-width: 0px; fill: rgb(178, 24, 43); fill-opacity: 1;\"/><path class=\"point\" transform=\"translate(615.47,183.5)\" d=\"M3,0A3,3 0 1,1 0,-3A3,3 0 0,1 3,0Z\" style=\"opacity: 1; stroke-width: 0px; fill: rgb(178, 24, 43); fill-opacity: 1;\"/><path class=\"point\" transform=\"translate(615.6,183.5)\" d=\"M3,0A3,3 0 1,1 0,-3A3,3 0 0,1 3,0Z\" style=\"opacity: 1; stroke-width: 0px; fill: rgb(178, 24, 43); fill-opacity: 1;\"/><path class=\"point\" transform=\"translate(616.38,183.5)\" d=\"M3,0A3,3 0 1,1 0,-3A3,3 0 0,1 3,0Z\" style=\"opacity: 1; stroke-width: 0px; fill: rgb(178, 24, 43); fill-opacity: 1;\"/><path class=\"point\" transform=\"translate(616.7,183.5)\" d=\"M3,0A3,3 0 1,1 0,-3A3,3 0 0,1 3,0Z\" style=\"opacity: 1; stroke-width: 0px; fill: rgb(178, 24, 43); fill-opacity: 1;\"/><path class=\"point\" transform=\"translate(617.08,183.5)\" d=\"M3,0A3,3 0 1,1 0,-3A3,3 0 0,1 3,0Z\" style=\"opacity: 1; stroke-width: 0px; fill: rgb(178, 24, 43); fill-opacity: 1;\"/><path class=\"point\" transform=\"translate(617.13,183.5)\" d=\"M3,0A3,3 0 1,1 0,-3A3,3 0 0,1 3,0Z\" style=\"opacity: 1; stroke-width: 0px; fill: rgb(178, 24, 43); fill-opacity: 1;\"/><path class=\"point\" transform=\"translate(617.28,183.5)\" d=\"M3,0A3,3 0 1,1 0,-3A3,3 0 0,1 3,0Z\" style=\"opacity: 1; stroke-width: 0px; fill: rgb(178, 24, 43); fill-opacity: 1;\"/><path class=\"point\" transform=\"translate(617.87,183.5)\" d=\"M3,0A3,3 0 1,1 0,-3A3,3 0 0,1 3,0Z\" style=\"opacity: 1; stroke-width: 0px; fill: rgb(178, 24, 43); fill-opacity: 1;\"/><path class=\"point\" transform=\"translate(618.21,183.5)\" d=\"M3,0A3,3 0 1,1 0,-3A3,3 0 0,1 3,0Z\" style=\"opacity: 1; stroke-width: 0px; fill: rgb(178, 24, 43); fill-opacity: 1;\"/><path class=\"point\" transform=\"translate(618.75,183.5)\" d=\"M3,0A3,3 0 1,1 0,-3A3,3 0 0,1 3,0Z\" style=\"opacity: 1; stroke-width: 0px; fill: rgb(178, 24, 43); fill-opacity: 1;\"/><path class=\"point\" transform=\"translate(619.06,183.5)\" d=\"M3,0A3,3 0 1,1 0,-3A3,3 0 0,1 3,0Z\" style=\"opacity: 1; stroke-width: 0px; fill: rgb(178, 24, 43); fill-opacity: 1;\"/><path class=\"point\" transform=\"translate(620.44,183.5)\" d=\"M3,0A3,3 0 1,1 0,-3A3,3 0 0,1 3,0Z\" style=\"opacity: 1; stroke-width: 0px; fill: rgb(178, 24, 43); fill-opacity: 1;\"/><path class=\"point\" transform=\"translate(620.47,183.5)\" d=\"M3,0A3,3 0 1,1 0,-3A3,3 0 0,1 3,0Z\" style=\"opacity: 1; stroke-width: 0px; fill: rgb(178, 24, 43); fill-opacity: 1;\"/><path class=\"point\" transform=\"translate(620.52,183.5)\" d=\"M3,0A3,3 0 1,1 0,-3A3,3 0 0,1 3,0Z\" style=\"opacity: 1; stroke-width: 0px; fill: rgb(178, 24, 43); fill-opacity: 1;\"/><path class=\"point\" transform=\"translate(620.69,183.5)\" d=\"M3,0A3,3 0 1,1 0,-3A3,3 0 0,1 3,0Z\" style=\"opacity: 1; stroke-width: 0px; fill: rgb(178, 24, 43); fill-opacity: 1;\"/><path class=\"point\" transform=\"translate(620.79,183.5)\" d=\"M3,0A3,3 0 1,1 0,-3A3,3 0 0,1 3,0Z\" style=\"opacity: 1; stroke-width: 0px; fill: rgb(178, 24, 43); fill-opacity: 1;\"/><path class=\"point\" transform=\"translate(621.19,183.5)\" d=\"M3,0A3,3 0 1,1 0,-3A3,3 0 0,1 3,0Z\" style=\"opacity: 1; stroke-width: 0px; fill: rgb(178, 24, 43); fill-opacity: 1;\"/><path class=\"point\" transform=\"translate(621.9,183.5)\" d=\"M3,0A3,3 0 1,1 0,-3A3,3 0 0,1 3,0Z\" style=\"opacity: 1; stroke-width: 0px; fill: rgb(178, 24, 43); fill-opacity: 1;\"/><path class=\"point\" transform=\"translate(622.36,183.5)\" d=\"M3,0A3,3 0 1,1 0,-3A3,3 0 0,1 3,0Z\" style=\"opacity: 1; stroke-width: 0px; fill: rgb(178, 24, 43); fill-opacity: 1;\"/><path class=\"point\" transform=\"translate(622.62,183.5)\" d=\"M3,0A3,3 0 1,1 0,-3A3,3 0 0,1 3,0Z\" style=\"opacity: 1; stroke-width: 0px; fill: rgb(178, 24, 43); fill-opacity: 1;\"/><path class=\"point\" transform=\"translate(622.66,183.5)\" d=\"M3,0A3,3 0 1,1 0,-3A3,3 0 0,1 3,0Z\" style=\"opacity: 1; stroke-width: 0px; fill: rgb(178, 24, 43); fill-opacity: 1;\"/><path class=\"point\" transform=\"translate(623.42,183.5)\" d=\"M3,0A3,3 0 1,1 0,-3A3,3 0 0,1 3,0Z\" style=\"opacity: 1; stroke-width: 0px; fill: rgb(178, 24, 43); fill-opacity: 1;\"/><path class=\"point\" transform=\"translate(623.63,183.5)\" d=\"M3,0A3,3 0 1,1 0,-3A3,3 0 0,1 3,0Z\" style=\"opacity: 1; stroke-width: 0px; fill: rgb(178, 24, 43); fill-opacity: 1;\"/><path class=\"point\" transform=\"translate(624.52,183.5)\" d=\"M3,0A3,3 0 1,1 0,-3A3,3 0 0,1 3,0Z\" style=\"opacity: 1; stroke-width: 0px; fill: rgb(178, 24, 43); fill-opacity: 1;\"/><path class=\"point\" transform=\"translate(624.54,183.5)\" d=\"M3,0A3,3 0 1,1 0,-3A3,3 0 0,1 3,0Z\" style=\"opacity: 1; stroke-width: 0px; fill: rgb(178, 24, 43); fill-opacity: 1;\"/><path class=\"point\" transform=\"translate(624.56,183.5)\" d=\"M3,0A3,3 0 1,1 0,-3A3,3 0 0,1 3,0Z\" style=\"opacity: 1; stroke-width: 0px; fill: rgb(178, 24, 43); fill-opacity: 1;\"/><path class=\"point\" transform=\"translate(624.88,183.5)\" d=\"M3,0A3,3 0 1,1 0,-3A3,3 0 0,1 3,0Z\" style=\"opacity: 1; stroke-width: 0px; fill: rgb(178, 24, 43); fill-opacity: 1;\"/><path class=\"point\" transform=\"translate(624.88,183.5)\" d=\"M3,0A3,3 0 1,1 0,-3A3,3 0 0,1 3,0Z\" style=\"opacity: 1; stroke-width: 0px; fill: rgb(178, 24, 43); fill-opacity: 1;\"/><path class=\"point\" transform=\"translate(626.23,183.5)\" d=\"M3,0A3,3 0 1,1 0,-3A3,3 0 0,1 3,0Z\" style=\"opacity: 1; stroke-width: 0px; fill: rgb(178, 24, 43); fill-opacity: 1;\"/><path class=\"point\" transform=\"translate(626.28,183.5)\" d=\"M3,0A3,3 0 1,1 0,-3A3,3 0 0,1 3,0Z\" style=\"opacity: 1; stroke-width: 0px; fill: rgb(178, 24, 43); fill-opacity: 1;\"/><path class=\"point\" transform=\"translate(626.71,183.5)\" d=\"M3,0A3,3 0 1,1 0,-3A3,3 0 0,1 3,0Z\" style=\"opacity: 1; stroke-width: 0px; fill: rgb(178, 24, 43); fill-opacity: 1;\"/><path class=\"point\" transform=\"translate(626.84,183.5)\" d=\"M3,0A3,3 0 1,1 0,-3A3,3 0 0,1 3,0Z\" style=\"opacity: 1; stroke-width: 0px; fill: rgb(178, 24, 43); fill-opacity: 1;\"/><path class=\"point\" transform=\"translate(627.65,183.5)\" d=\"M3,0A3,3 0 1,1 0,-3A3,3 0 0,1 3,0Z\" style=\"opacity: 1; stroke-width: 0px; fill: rgb(178, 24, 43); fill-opacity: 1;\"/><path class=\"point\" transform=\"translate(627.76,183.5)\" d=\"M3,0A3,3 0 1,1 0,-3A3,3 0 0,1 3,0Z\" style=\"opacity: 1; stroke-width: 0px; fill: rgb(178, 24, 43); fill-opacity: 1;\"/><path class=\"point\" transform=\"translate(627.96,183.5)\" d=\"M3,0A3,3 0 1,1 0,-3A3,3 0 0,1 3,0Z\" style=\"opacity: 1; stroke-width: 0px; fill: rgb(178, 24, 43); fill-opacity: 1;\"/><path class=\"point\" transform=\"translate(628.24,183.5)\" d=\"M3,0A3,3 0 1,1 0,-3A3,3 0 0,1 3,0Z\" style=\"opacity: 1; stroke-width: 0px; fill: rgb(178, 24, 43); fill-opacity: 1;\"/><path class=\"point\" transform=\"translate(628.71,183.5)\" d=\"M3,0A3,3 0 1,1 0,-3A3,3 0 0,1 3,0Z\" style=\"opacity: 1; stroke-width: 0px; fill: rgb(178, 24, 43); fill-opacity: 1;\"/><path class=\"point\" transform=\"translate(628.83,183.5)\" d=\"M3,0A3,3 0 1,1 0,-3A3,3 0 0,1 3,0Z\" style=\"opacity: 1; stroke-width: 0px; fill: rgb(178, 24, 43); fill-opacity: 1;\"/><path class=\"point\" transform=\"translate(629.57,183.5)\" d=\"M3,0A3,3 0 1,1 0,-3A3,3 0 0,1 3,0Z\" style=\"opacity: 1; stroke-width: 0px; fill: rgb(178, 24, 43); fill-opacity: 1;\"/><path class=\"point\" transform=\"translate(630.03,183.5)\" d=\"M3,0A3,3 0 1,1 0,-3A3,3 0 0,1 3,0Z\" style=\"opacity: 1; stroke-width: 0px; fill: rgb(178, 24, 43); fill-opacity: 1;\"/><path class=\"point\" transform=\"translate(630.09,183.5)\" d=\"M3,0A3,3 0 1,1 0,-3A3,3 0 0,1 3,0Z\" style=\"opacity: 1; stroke-width: 0px; fill: rgb(178, 24, 43); fill-opacity: 1;\"/><path class=\"point\" transform=\"translate(630.09,183.5)\" d=\"M3,0A3,3 0 1,1 0,-3A3,3 0 0,1 3,0Z\" style=\"opacity: 1; stroke-width: 0px; fill: rgb(178, 24, 43); fill-opacity: 1;\"/><path class=\"point\" transform=\"translate(630.18,183.5)\" d=\"M3,0A3,3 0 1,1 0,-3A3,3 0 0,1 3,0Z\" style=\"opacity: 1; stroke-width: 0px; fill: rgb(178, 24, 43); fill-opacity: 1;\"/><path class=\"point\" transform=\"translate(630.66,183.5)\" d=\"M3,0A3,3 0 1,1 0,-3A3,3 0 0,1 3,0Z\" style=\"opacity: 1; stroke-width: 0px; fill: rgb(178, 24, 43); fill-opacity: 1;\"/><path class=\"point\" transform=\"translate(630.74,183.5)\" d=\"M3,0A3,3 0 1,1 0,-3A3,3 0 0,1 3,0Z\" style=\"opacity: 1; stroke-width: 0px; fill: rgb(178, 24, 43); fill-opacity: 1;\"/><path class=\"point\" transform=\"translate(631.4,183.5)\" d=\"M3,0A3,3 0 1,1 0,-3A3,3 0 0,1 3,0Z\" style=\"opacity: 1; stroke-width: 0px; fill: rgb(178, 24, 43); fill-opacity: 1;\"/><path class=\"point\" transform=\"translate(631.51,183.5)\" d=\"M3,0A3,3 0 1,1 0,-3A3,3 0 0,1 3,0Z\" style=\"opacity: 1; stroke-width: 0px; fill: rgb(178, 24, 43); fill-opacity: 1;\"/><path class=\"point\" transform=\"translate(632.06,183.5)\" d=\"M3,0A3,3 0 1,1 0,-3A3,3 0 0,1 3,0Z\" style=\"opacity: 1; stroke-width: 0px; fill: rgb(178, 24, 43); fill-opacity: 1;\"/><path class=\"point\" transform=\"translate(632.57,183.5)\" d=\"M3,0A3,3 0 1,1 0,-3A3,3 0 0,1 3,0Z\" style=\"opacity: 1; stroke-width: 0px; fill: rgb(178, 24, 43); fill-opacity: 1;\"/><path class=\"point\" transform=\"translate(632.59,183.5)\" d=\"M3,0A3,3 0 1,1 0,-3A3,3 0 0,1 3,0Z\" style=\"opacity: 1; stroke-width: 0px; fill: rgb(178, 24, 43); fill-opacity: 1;\"/><path class=\"point\" transform=\"translate(632.75,183.5)\" d=\"M3,0A3,3 0 1,1 0,-3A3,3 0 0,1 3,0Z\" style=\"opacity: 1; stroke-width: 0px; fill: rgb(178, 24, 43); fill-opacity: 1;\"/><path class=\"point\" transform=\"translate(633.57,183.5)\" d=\"M3,0A3,3 0 1,1 0,-3A3,3 0 0,1 3,0Z\" style=\"opacity: 1; stroke-width: 0px; fill: rgb(178, 24, 43); fill-opacity: 1;\"/><path class=\"point\" transform=\"translate(633.71,183.5)\" d=\"M3,0A3,3 0 1,1 0,-3A3,3 0 0,1 3,0Z\" style=\"opacity: 1; stroke-width: 0px; fill: rgb(178, 24, 43); fill-opacity: 1;\"/><path class=\"point\" transform=\"translate(634.3,183.5)\" d=\"M3,0A3,3 0 1,1 0,-3A3,3 0 0,1 3,0Z\" style=\"opacity: 1; stroke-width: 0px; fill: rgb(178, 24, 43); fill-opacity: 1;\"/><path class=\"point\" transform=\"translate(634.31,183.5)\" d=\"M3,0A3,3 0 1,1 0,-3A3,3 0 0,1 3,0Z\" style=\"opacity: 1; stroke-width: 0px; fill: rgb(178, 24, 43); fill-opacity: 1;\"/><path class=\"point\" transform=\"translate(635.09,183.5)\" d=\"M3,0A3,3 0 1,1 0,-3A3,3 0 0,1 3,0Z\" style=\"opacity: 1; stroke-width: 0px; fill: rgb(178, 24, 43); fill-opacity: 1;\"/><path class=\"point\" transform=\"translate(635.43,183.5)\" d=\"M3,0A3,3 0 1,1 0,-3A3,3 0 0,1 3,0Z\" style=\"opacity: 1; stroke-width: 0px; fill: rgb(178, 24, 43); fill-opacity: 1;\"/><path class=\"point\" transform=\"translate(635.45,183.5)\" d=\"M3,0A3,3 0 1,1 0,-3A3,3 0 0,1 3,0Z\" style=\"opacity: 1; stroke-width: 0px; fill: rgb(178, 24, 43); fill-opacity: 1;\"/><path class=\"point\" transform=\"translate(635.66,183.5)\" d=\"M3,0A3,3 0 1,1 0,-3A3,3 0 0,1 3,0Z\" style=\"opacity: 1; stroke-width: 0px; fill: rgb(178, 24, 43); fill-opacity: 1;\"/><path class=\"point\" transform=\"translate(635.83,183.5)\" d=\"M3,0A3,3 0 1,1 0,-3A3,3 0 0,1 3,0Z\" style=\"opacity: 1; stroke-width: 0px; fill: rgb(178, 24, 43); fill-opacity: 1;\"/><path class=\"point\" transform=\"translate(636.11,183.5)\" d=\"M3,0A3,3 0 1,1 0,-3A3,3 0 0,1 3,0Z\" style=\"opacity: 1; stroke-width: 0px; fill: rgb(178, 24, 43); fill-opacity: 1;\"/><path class=\"point\" transform=\"translate(637.35,183.5)\" d=\"M3,0A3,3 0 1,1 0,-3A3,3 0 0,1 3,0Z\" style=\"opacity: 1; stroke-width: 0px; fill: rgb(178, 24, 43); fill-opacity: 1;\"/><path class=\"point\" transform=\"translate(637.39,183.5)\" d=\"M3,0A3,3 0 1,1 0,-3A3,3 0 0,1 3,0Z\" style=\"opacity: 1; stroke-width: 0px; fill: rgb(178, 24, 43); fill-opacity: 1;\"/><path class=\"point\" transform=\"translate(638.31,183.5)\" d=\"M3,0A3,3 0 1,1 0,-3A3,3 0 0,1 3,0Z\" style=\"opacity: 1; stroke-width: 0px; fill: rgb(178, 24, 43); fill-opacity: 1;\"/><path class=\"point\" transform=\"translate(638.33,183.5)\" d=\"M3,0A3,3 0 1,1 0,-3A3,3 0 0,1 3,0Z\" style=\"opacity: 1; stroke-width: 0px; fill: rgb(178, 24, 43); fill-opacity: 1;\"/><path class=\"point\" transform=\"translate(639.22,183.5)\" d=\"M3,0A3,3 0 1,1 0,-3A3,3 0 0,1 3,0Z\" style=\"opacity: 1; stroke-width: 0px; fill: rgb(178, 24, 43); fill-opacity: 1;\"/><path class=\"point\" transform=\"translate(639.52,183.5)\" d=\"M3,0A3,3 0 1,1 0,-3A3,3 0 0,1 3,0Z\" style=\"opacity: 1; stroke-width: 0px; fill: rgb(178, 24, 43); fill-opacity: 1;\"/><path class=\"point\" transform=\"translate(640.24,183.5)\" d=\"M3,0A3,3 0 1,1 0,-3A3,3 0 0,1 3,0Z\" style=\"opacity: 1; stroke-width: 0px; fill: rgb(178, 24, 43); fill-opacity: 1;\"/><path class=\"point\" transform=\"translate(640.43,183.5)\" d=\"M3,0A3,3 0 1,1 0,-3A3,3 0 0,1 3,0Z\" style=\"opacity: 1; stroke-width: 0px; fill: rgb(178, 24, 43); fill-opacity: 1;\"/><path class=\"point\" transform=\"translate(640.84,183.5)\" d=\"M3,0A3,3 0 1,1 0,-3A3,3 0 0,1 3,0Z\" style=\"opacity: 1; stroke-width: 0px; fill: rgb(178, 24, 43); fill-opacity: 1;\"/><path class=\"point\" transform=\"translate(641.51,183.5)\" d=\"M3,0A3,3 0 1,1 0,-3A3,3 0 0,1 3,0Z\" style=\"opacity: 1; stroke-width: 0px; fill: rgb(178, 24, 43); fill-opacity: 1;\"/><path class=\"point\" transform=\"translate(641.65,183.5)\" d=\"M3,0A3,3 0 1,1 0,-3A3,3 0 0,1 3,0Z\" style=\"opacity: 1; stroke-width: 0px; fill: rgb(178, 24, 43); fill-opacity: 1;\"/><path class=\"point\" transform=\"translate(642.86,183.5)\" d=\"M3,0A3,3 0 1,1 0,-3A3,3 0 0,1 3,0Z\" style=\"opacity: 1; stroke-width: 0px; fill: rgb(178, 24, 43); fill-opacity: 1;\"/><path class=\"point\" transform=\"translate(642.99,183.5)\" d=\"M3,0A3,3 0 1,1 0,-3A3,3 0 0,1 3,0Z\" style=\"opacity: 1; stroke-width: 0px; fill: rgb(178, 24, 43); fill-opacity: 1;\"/><path class=\"point\" transform=\"translate(643.38,183.5)\" d=\"M3,0A3,3 0 1,1 0,-3A3,3 0 0,1 3,0Z\" style=\"opacity: 1; stroke-width: 0px; fill: rgb(178, 24, 43); fill-opacity: 1;\"/><path class=\"point\" transform=\"translate(643.64,183.5)\" d=\"M3,0A3,3 0 1,1 0,-3A3,3 0 0,1 3,0Z\" style=\"opacity: 1; stroke-width: 0px; fill: rgb(178, 24, 43); fill-opacity: 1;\"/><path class=\"point\" transform=\"translate(643.82,183.5)\" d=\"M3,0A3,3 0 1,1 0,-3A3,3 0 0,1 3,0Z\" style=\"opacity: 1; stroke-width: 0px; fill: rgb(178, 24, 43); fill-opacity: 1;\"/><path class=\"point\" transform=\"translate(643.9,183.5)\" d=\"M3,0A3,3 0 1,1 0,-3A3,3 0 0,1 3,0Z\" style=\"opacity: 1; stroke-width: 0px; fill: rgb(178, 24, 43); fill-opacity: 1;\"/><path class=\"point\" transform=\"translate(645.16,183.5)\" d=\"M3,0A3,3 0 1,1 0,-3A3,3 0 0,1 3,0Z\" style=\"opacity: 1; stroke-width: 0px; fill: rgb(178, 24, 43); fill-opacity: 1;\"/><path class=\"point\" transform=\"translate(646.4,183.5)\" d=\"M3,0A3,3 0 1,1 0,-3A3,3 0 0,1 3,0Z\" style=\"opacity: 1; stroke-width: 0px; fill: rgb(178, 24, 43); fill-opacity: 1;\"/><path class=\"point\" transform=\"translate(646.52,183.5)\" d=\"M3,0A3,3 0 1,1 0,-3A3,3 0 0,1 3,0Z\" style=\"opacity: 1; stroke-width: 0px; fill: rgb(178, 24, 43); fill-opacity: 1;\"/><path class=\"point\" transform=\"translate(646.74,183.5)\" d=\"M3,0A3,3 0 1,1 0,-3A3,3 0 0,1 3,0Z\" style=\"opacity: 1; stroke-width: 0px; fill: rgb(178, 24, 43); fill-opacity: 1;\"/><path class=\"point\" transform=\"translate(647.21,183.5)\" d=\"M3,0A3,3 0 1,1 0,-3A3,3 0 0,1 3,0Z\" style=\"opacity: 1; stroke-width: 0px; fill: rgb(178, 24, 43); fill-opacity: 1;\"/><path class=\"point\" transform=\"translate(647.67,183.5)\" d=\"M3,0A3,3 0 1,1 0,-3A3,3 0 0,1 3,0Z\" style=\"opacity: 1; stroke-width: 0px; fill: rgb(178, 24, 43); fill-opacity: 1;\"/><path class=\"point\" transform=\"translate(648.06,183.5)\" d=\"M3,0A3,3 0 1,1 0,-3A3,3 0 0,1 3,0Z\" style=\"opacity: 1; stroke-width: 0px; fill: rgb(178, 24, 43); fill-opacity: 1;\"/><path class=\"point\" transform=\"translate(648.19,183.5)\" d=\"M3,0A3,3 0 1,1 0,-3A3,3 0 0,1 3,0Z\" style=\"opacity: 1; stroke-width: 0px; fill: rgb(178, 24, 43); fill-opacity: 1;\"/><path class=\"point\" transform=\"translate(648.45,183.5)\" d=\"M3,0A3,3 0 1,1 0,-3A3,3 0 0,1 3,0Z\" style=\"opacity: 1; stroke-width: 0px; fill: rgb(178, 24, 43); fill-opacity: 1;\"/><path class=\"point\" transform=\"translate(648.79,183.5)\" d=\"M3,0A3,3 0 1,1 0,-3A3,3 0 0,1 3,0Z\" style=\"opacity: 1; stroke-width: 0px; fill: rgb(178, 24, 43); fill-opacity: 1;\"/><path class=\"point\" transform=\"translate(648.97,183.5)\" d=\"M3,0A3,3 0 1,1 0,-3A3,3 0 0,1 3,0Z\" style=\"opacity: 1; stroke-width: 0px; fill: rgb(178, 24, 43); fill-opacity: 1;\"/><path class=\"point\" transform=\"translate(649.12,183.5)\" d=\"M3,0A3,3 0 1,1 0,-3A3,3 0 0,1 3,0Z\" style=\"opacity: 1; stroke-width: 0px; fill: rgb(178, 24, 43); fill-opacity: 1;\"/><path class=\"point\" transform=\"translate(649.27,183.5)\" d=\"M3,0A3,3 0 1,1 0,-3A3,3 0 0,1 3,0Z\" style=\"opacity: 1; stroke-width: 0px; fill: rgb(178, 24, 43); fill-opacity: 1;\"/><path class=\"point\" transform=\"translate(649.96,183.5)\" d=\"M3,0A3,3 0 1,1 0,-3A3,3 0 0,1 3,0Z\" style=\"opacity: 1; stroke-width: 0px; fill: rgb(178, 24, 43); fill-opacity: 1;\"/><path class=\"point\" transform=\"translate(651.93,183.5)\" d=\"M3,0A3,3 0 1,1 0,-3A3,3 0 0,1 3,0Z\" style=\"opacity: 1; stroke-width: 0px; fill: rgb(178, 24, 43); fill-opacity: 1;\"/><path class=\"point\" transform=\"translate(652.48,183.5)\" d=\"M3,0A3,3 0 1,1 0,-3A3,3 0 0,1 3,0Z\" style=\"opacity: 1; stroke-width: 0px; fill: rgb(178, 24, 43); fill-opacity: 1;\"/><path class=\"point\" transform=\"translate(652.95,183.5)\" d=\"M3,0A3,3 0 1,1 0,-3A3,3 0 0,1 3,0Z\" style=\"opacity: 1; stroke-width: 0px; fill: rgb(178, 24, 43); fill-opacity: 1;\"/><path class=\"point\" transform=\"translate(653,183.5)\" d=\"M3,0A3,3 0 1,1 0,-3A3,3 0 0,1 3,0Z\" style=\"opacity: 1; stroke-width: 0px; fill: rgb(178, 24, 43); fill-opacity: 1;\"/><path class=\"point\" transform=\"translate(653.69,183.5)\" d=\"M3,0A3,3 0 1,1 0,-3A3,3 0 0,1 3,0Z\" style=\"opacity: 1; stroke-width: 0px; fill: rgb(178, 24, 43); fill-opacity: 1;\"/><path class=\"point\" transform=\"translate(654.49,183.5)\" d=\"M3,0A3,3 0 1,1 0,-3A3,3 0 0,1 3,0Z\" style=\"opacity: 1; stroke-width: 0px; fill: rgb(178, 24, 43); fill-opacity: 1;\"/><path class=\"point\" transform=\"translate(654.51,183.5)\" d=\"M3,0A3,3 0 1,1 0,-3A3,3 0 0,1 3,0Z\" style=\"opacity: 1; stroke-width: 0px; fill: rgb(178, 24, 43); fill-opacity: 1;\"/><path class=\"point\" transform=\"translate(654.54,183.5)\" d=\"M3,0A3,3 0 1,1 0,-3A3,3 0 0,1 3,0Z\" style=\"opacity: 1; stroke-width: 0px; fill: rgb(178, 24, 43); fill-opacity: 1;\"/><path class=\"point\" transform=\"translate(654.57,183.5)\" d=\"M3,0A3,3 0 1,1 0,-3A3,3 0 0,1 3,0Z\" style=\"opacity: 1; stroke-width: 0px; fill: rgb(178, 24, 43); fill-opacity: 1;\"/><path class=\"point\" transform=\"translate(654.85,183.5)\" d=\"M3,0A3,3 0 1,1 0,-3A3,3 0 0,1 3,0Z\" style=\"opacity: 1; stroke-width: 0px; fill: rgb(178, 24, 43); fill-opacity: 1;\"/><path class=\"point\" transform=\"translate(654.95,183.5)\" d=\"M3,0A3,3 0 1,1 0,-3A3,3 0 0,1 3,0Z\" style=\"opacity: 1; stroke-width: 0px; fill: rgb(178, 24, 43); fill-opacity: 1;\"/><path class=\"point\" transform=\"translate(655.17,183.5)\" d=\"M3,0A3,3 0 1,1 0,-3A3,3 0 0,1 3,0Z\" style=\"opacity: 1; stroke-width: 0px; fill: rgb(178, 24, 43); fill-opacity: 1;\"/><path class=\"point\" transform=\"translate(655.33,183.5)\" d=\"M3,0A3,3 0 1,1 0,-3A3,3 0 0,1 3,0Z\" style=\"opacity: 1; stroke-width: 0px; fill: rgb(178, 24, 43); fill-opacity: 1;\"/><path class=\"point\" transform=\"translate(656.44,183.5)\" d=\"M3,0A3,3 0 1,1 0,-3A3,3 0 0,1 3,0Z\" style=\"opacity: 1; stroke-width: 0px; fill: rgb(178, 24, 43); fill-opacity: 1;\"/><path class=\"point\" transform=\"translate(656.92,183.5)\" d=\"M3,0A3,3 0 1,1 0,-3A3,3 0 0,1 3,0Z\" style=\"opacity: 1; stroke-width: 0px; fill: rgb(178, 24, 43); fill-opacity: 1;\"/><path class=\"point\" transform=\"translate(657.01,183.5)\" d=\"M3,0A3,3 0 1,1 0,-3A3,3 0 0,1 3,0Z\" style=\"opacity: 1; stroke-width: 0px; fill: rgb(178, 24, 43); fill-opacity: 1;\"/><path class=\"point\" transform=\"translate(657.05,183.5)\" d=\"M3,0A3,3 0 1,1 0,-3A3,3 0 0,1 3,0Z\" style=\"opacity: 1; stroke-width: 0px; fill: rgb(178, 24, 43); fill-opacity: 1;\"/><path class=\"point\" transform=\"translate(657.39,183.5)\" d=\"M3,0A3,3 0 1,1 0,-3A3,3 0 0,1 3,0Z\" style=\"opacity: 1; stroke-width: 0px; fill: rgb(178, 24, 43); fill-opacity: 1;\"/><path class=\"point\" transform=\"translate(657.42,183.5)\" d=\"M3,0A3,3 0 1,1 0,-3A3,3 0 0,1 3,0Z\" style=\"opacity: 1; stroke-width: 0px; fill: rgb(178, 24, 43); fill-opacity: 1;\"/><path class=\"point\" transform=\"translate(657.83,183.5)\" d=\"M3,0A3,3 0 1,1 0,-3A3,3 0 0,1 3,0Z\" style=\"opacity: 1; stroke-width: 0px; fill: rgb(178, 24, 43); fill-opacity: 1;\"/><path class=\"point\" transform=\"translate(658.08,183.5)\" d=\"M3,0A3,3 0 1,1 0,-3A3,3 0 0,1 3,0Z\" style=\"opacity: 1; stroke-width: 0px; fill: rgb(178, 24, 43); fill-opacity: 1;\"/><path class=\"point\" transform=\"translate(658.64,183.5)\" d=\"M3,0A3,3 0 1,1 0,-3A3,3 0 0,1 3,0Z\" style=\"opacity: 1; stroke-width: 0px; fill: rgb(178, 24, 43); fill-opacity: 1;\"/><path class=\"point\" transform=\"translate(658.9,183.5)\" d=\"M3,0A3,3 0 1,1 0,-3A3,3 0 0,1 3,0Z\" style=\"opacity: 1; stroke-width: 0px; fill: rgb(178, 24, 43); fill-opacity: 1;\"/><path class=\"point\" transform=\"translate(659.02,183.5)\" d=\"M3,0A3,3 0 1,1 0,-3A3,3 0 0,1 3,0Z\" style=\"opacity: 1; stroke-width: 0px; fill: rgb(178, 24, 43); fill-opacity: 1;\"/><path class=\"point\" transform=\"translate(659.2,183.5)\" d=\"M3,0A3,3 0 1,1 0,-3A3,3 0 0,1 3,0Z\" style=\"opacity: 1; stroke-width: 0px; fill: rgb(178, 24, 43); fill-opacity: 1;\"/><path class=\"point\" transform=\"translate(659.26,183.5)\" d=\"M3,0A3,3 0 1,1 0,-3A3,3 0 0,1 3,0Z\" style=\"opacity: 1; stroke-width: 0px; fill: rgb(178, 24, 43); fill-opacity: 1;\"/><path class=\"point\" transform=\"translate(659.29,183.5)\" d=\"M3,0A3,3 0 1,1 0,-3A3,3 0 0,1 3,0Z\" style=\"opacity: 1; stroke-width: 0px; fill: rgb(178, 24, 43); fill-opacity: 1;\"/><path class=\"point\" transform=\"translate(659.62,183.5)\" d=\"M3,0A3,3 0 1,1 0,-3A3,3 0 0,1 3,0Z\" style=\"opacity: 1; stroke-width: 0px; fill: rgb(178, 24, 43); fill-opacity: 1;\"/><path class=\"point\" transform=\"translate(659.89,183.5)\" d=\"M3,0A3,3 0 1,1 0,-3A3,3 0 0,1 3,0Z\" style=\"opacity: 1; stroke-width: 0px; fill: rgb(178, 24, 43); fill-opacity: 1;\"/><path class=\"point\" transform=\"translate(660.82,183.5)\" d=\"M3,0A3,3 0 1,1 0,-3A3,3 0 0,1 3,0Z\" style=\"opacity: 1; stroke-width: 0px; fill: rgb(178, 24, 43); fill-opacity: 1;\"/><path class=\"point\" transform=\"translate(660.89,183.5)\" d=\"M3,0A3,3 0 1,1 0,-3A3,3 0 0,1 3,0Z\" style=\"opacity: 1; stroke-width: 0px; fill: rgb(178, 24, 43); fill-opacity: 1;\"/><path class=\"point\" transform=\"translate(661.49,183.5)\" d=\"M3,0A3,3 0 1,1 0,-3A3,3 0 0,1 3,0Z\" style=\"opacity: 1; stroke-width: 0px; fill: rgb(178, 24, 43); fill-opacity: 1;\"/><path class=\"point\" transform=\"translate(661.74,183.5)\" d=\"M3,0A3,3 0 1,1 0,-3A3,3 0 0,1 3,0Z\" style=\"opacity: 1; stroke-width: 0px; fill: rgb(178, 24, 43); fill-opacity: 1;\"/><path class=\"point\" transform=\"translate(662.17,183.5)\" d=\"M3,0A3,3 0 1,1 0,-3A3,3 0 0,1 3,0Z\" style=\"opacity: 1; stroke-width: 0px; fill: rgb(178, 24, 43); fill-opacity: 1;\"/><path class=\"point\" transform=\"translate(662.46,183.5)\" d=\"M3,0A3,3 0 1,1 0,-3A3,3 0 0,1 3,0Z\" style=\"opacity: 1; stroke-width: 0px; fill: rgb(178, 24, 43); fill-opacity: 1;\"/><path class=\"point\" transform=\"translate(662.84,183.5)\" d=\"M3,0A3,3 0 1,1 0,-3A3,3 0 0,1 3,0Z\" style=\"opacity: 1; stroke-width: 0px; fill: rgb(178, 24, 43); fill-opacity: 1;\"/><path class=\"point\" transform=\"translate(663.04,183.5)\" d=\"M3,0A3,3 0 1,1 0,-3A3,3 0 0,1 3,0Z\" style=\"opacity: 1; stroke-width: 0px; fill: rgb(178, 24, 43); fill-opacity: 1;\"/><path class=\"point\" transform=\"translate(664.77,183.5)\" d=\"M3,0A3,3 0 1,1 0,-3A3,3 0 0,1 3,0Z\" style=\"opacity: 1; stroke-width: 0px; fill: rgb(178, 24, 43); fill-opacity: 1;\"/><path class=\"point\" transform=\"translate(664.77,183.5)\" d=\"M3,0A3,3 0 1,1 0,-3A3,3 0 0,1 3,0Z\" style=\"opacity: 1; stroke-width: 0px; fill: rgb(178, 24, 43); fill-opacity: 1;\"/><path class=\"point\" transform=\"translate(664.97,183.5)\" d=\"M3,0A3,3 0 1,1 0,-3A3,3 0 0,1 3,0Z\" style=\"opacity: 1; stroke-width: 0px; fill: rgb(178, 24, 43); fill-opacity: 1;\"/><path class=\"point\" transform=\"translate(665.46,183.5)\" d=\"M3,0A3,3 0 1,1 0,-3A3,3 0 0,1 3,0Z\" style=\"opacity: 1; stroke-width: 0px; fill: rgb(178, 24, 43); fill-opacity: 1;\"/><path class=\"point\" transform=\"translate(666.1,183.5)\" d=\"M3,0A3,3 0 1,1 0,-3A3,3 0 0,1 3,0Z\" style=\"opacity: 1; stroke-width: 0px; fill: rgb(178, 24, 43); fill-opacity: 1;\"/><path class=\"point\" transform=\"translate(666.5,183.5)\" d=\"M3,0A3,3 0 1,1 0,-3A3,3 0 0,1 3,0Z\" style=\"opacity: 1; stroke-width: 0px; fill: rgb(178, 24, 43); fill-opacity: 1;\"/><path class=\"point\" transform=\"translate(666.51,183.5)\" d=\"M3,0A3,3 0 1,1 0,-3A3,3 0 0,1 3,0Z\" style=\"opacity: 1; stroke-width: 0px; fill: rgb(178, 24, 43); fill-opacity: 1;\"/><path class=\"point\" transform=\"translate(667.23,183.5)\" d=\"M3,0A3,3 0 1,1 0,-3A3,3 0 0,1 3,0Z\" style=\"opacity: 1; stroke-width: 0px; fill: rgb(178, 24, 43); fill-opacity: 1;\"/><path class=\"point\" transform=\"translate(667.67,183.5)\" d=\"M3,0A3,3 0 1,1 0,-3A3,3 0 0,1 3,0Z\" style=\"opacity: 1; stroke-width: 0px; fill: rgb(178, 24, 43); fill-opacity: 1;\"/><path class=\"point\" transform=\"translate(668.06,183.5)\" d=\"M3,0A3,3 0 1,1 0,-3A3,3 0 0,1 3,0Z\" style=\"opacity: 1; stroke-width: 0px; fill: rgb(178, 24, 43); fill-opacity: 1;\"/><path class=\"point\" transform=\"translate(668.63,183.5)\" d=\"M3,0A3,3 0 1,1 0,-3A3,3 0 0,1 3,0Z\" style=\"opacity: 1; stroke-width: 0px; fill: rgb(178, 24, 43); fill-opacity: 1;\"/><path class=\"point\" transform=\"translate(668.68,183.5)\" d=\"M3,0A3,3 0 1,1 0,-3A3,3 0 0,1 3,0Z\" style=\"opacity: 1; stroke-width: 0px; fill: rgb(178, 24, 43); fill-opacity: 1;\"/><path class=\"point\" transform=\"translate(669.1,183.5)\" d=\"M3,0A3,3 0 1,1 0,-3A3,3 0 0,1 3,0Z\" style=\"opacity: 1; stroke-width: 0px; fill: rgb(178, 24, 43); fill-opacity: 1;\"/><path class=\"point\" transform=\"translate(669.61,183.5)\" d=\"M3,0A3,3 0 1,1 0,-3A3,3 0 0,1 3,0Z\" style=\"opacity: 1; stroke-width: 0px; fill: rgb(178, 24, 43); fill-opacity: 1;\"/><path class=\"point\" transform=\"translate(670.21,183.5)\" d=\"M3,0A3,3 0 1,1 0,-3A3,3 0 0,1 3,0Z\" style=\"opacity: 1; stroke-width: 0px; fill: rgb(178, 24, 43); fill-opacity: 1;\"/><path class=\"point\" transform=\"translate(670.36,183.5)\" d=\"M3,0A3,3 0 1,1 0,-3A3,3 0 0,1 3,0Z\" style=\"opacity: 1; stroke-width: 0px; fill: rgb(178, 24, 43); fill-opacity: 1;\"/><path class=\"point\" transform=\"translate(670.83,183.5)\" d=\"M3,0A3,3 0 1,1 0,-3A3,3 0 0,1 3,0Z\" style=\"opacity: 1; stroke-width: 0px; fill: rgb(178, 24, 43); fill-opacity: 1;\"/><path class=\"point\" transform=\"translate(671.2,183.5)\" d=\"M3,0A3,3 0 1,1 0,-3A3,3 0 0,1 3,0Z\" style=\"opacity: 1; stroke-width: 0px; fill: rgb(178, 24, 43); fill-opacity: 1;\"/><path class=\"point\" transform=\"translate(671.4,183.5)\" d=\"M3,0A3,3 0 1,1 0,-3A3,3 0 0,1 3,0Z\" style=\"opacity: 1; stroke-width: 0px; fill: rgb(178, 24, 43); fill-opacity: 1;\"/><path class=\"point\" transform=\"translate(671.49,183.5)\" d=\"M3,0A3,3 0 1,1 0,-3A3,3 0 0,1 3,0Z\" style=\"opacity: 1; stroke-width: 0px; fill: rgb(178, 24, 43); fill-opacity: 1;\"/><path class=\"point\" transform=\"translate(672.12,183.5)\" d=\"M3,0A3,3 0 1,1 0,-3A3,3 0 0,1 3,0Z\" style=\"opacity: 1; stroke-width: 0px; fill: rgb(178, 24, 43); fill-opacity: 1;\"/><path class=\"point\" transform=\"translate(672.87,183.5)\" d=\"M3,0A3,3 0 1,1 0,-3A3,3 0 0,1 3,0Z\" style=\"opacity: 1; stroke-width: 0px; fill: rgb(178, 24, 43); fill-opacity: 1;\"/><path class=\"point\" transform=\"translate(672.94,183.5)\" d=\"M3,0A3,3 0 1,1 0,-3A3,3 0 0,1 3,0Z\" style=\"opacity: 1; stroke-width: 0px; fill: rgb(178, 24, 43); fill-opacity: 1;\"/><path class=\"point\" transform=\"translate(673.93,183.5)\" d=\"M3,0A3,3 0 1,1 0,-3A3,3 0 0,1 3,0Z\" style=\"opacity: 1; stroke-width: 0px; fill: rgb(178, 24, 43); fill-opacity: 1;\"/><path class=\"point\" transform=\"translate(674.26,183.5)\" d=\"M3,0A3,3 0 1,1 0,-3A3,3 0 0,1 3,0Z\" style=\"opacity: 1; stroke-width: 0px; fill: rgb(178, 24, 43); fill-opacity: 1;\"/><path class=\"point\" transform=\"translate(675.47,183.5)\" d=\"M3,0A3,3 0 1,1 0,-3A3,3 0 0,1 3,0Z\" style=\"opacity: 1; stroke-width: 0px; fill: rgb(178, 24, 43); fill-opacity: 1;\"/><path class=\"point\" transform=\"translate(675.77,183.5)\" d=\"M3,0A3,3 0 1,1 0,-3A3,3 0 0,1 3,0Z\" style=\"opacity: 1; stroke-width: 0px; fill: rgb(178, 24, 43); fill-opacity: 1;\"/><path class=\"point\" transform=\"translate(675.84,183.5)\" d=\"M3,0A3,3 0 1,1 0,-3A3,3 0 0,1 3,0Z\" style=\"opacity: 1; stroke-width: 0px; fill: rgb(178, 24, 43); fill-opacity: 1;\"/><path class=\"point\" transform=\"translate(676.15,183.5)\" d=\"M3,0A3,3 0 1,1 0,-3A3,3 0 0,1 3,0Z\" style=\"opacity: 1; stroke-width: 0px; fill: rgb(178, 24, 43); fill-opacity: 1;\"/><path class=\"point\" transform=\"translate(677.18,183.5)\" d=\"M3,0A3,3 0 1,1 0,-3A3,3 0 0,1 3,0Z\" style=\"opacity: 1; stroke-width: 0px; fill: rgb(178, 24, 43); fill-opacity: 1;\"/><path class=\"point\" transform=\"translate(677.33,183.5)\" d=\"M3,0A3,3 0 1,1 0,-3A3,3 0 0,1 3,0Z\" style=\"opacity: 1; stroke-width: 0px; fill: rgb(178, 24, 43); fill-opacity: 1;\"/><path class=\"point\" transform=\"translate(678.07,183.5)\" d=\"M3,0A3,3 0 1,1 0,-3A3,3 0 0,1 3,0Z\" style=\"opacity: 1; stroke-width: 0px; fill: rgb(178, 24, 43); fill-opacity: 1;\"/><path class=\"point\" transform=\"translate(678.39,183.5)\" d=\"M3,0A3,3 0 1,1 0,-3A3,3 0 0,1 3,0Z\" style=\"opacity: 1; stroke-width: 0px; fill: rgb(178, 24, 43); fill-opacity: 1;\"/><path class=\"point\" transform=\"translate(679.14,183.5)\" d=\"M3,0A3,3 0 1,1 0,-3A3,3 0 0,1 3,0Z\" style=\"opacity: 1; stroke-width: 0px; fill: rgb(178, 24, 43); fill-opacity: 1;\"/><path class=\"point\" transform=\"translate(680.2,183.5)\" d=\"M3,0A3,3 0 1,1 0,-3A3,3 0 0,1 3,0Z\" style=\"opacity: 1; stroke-width: 0px; fill: rgb(178, 24, 43); fill-opacity: 1;\"/><path class=\"point\" transform=\"translate(680.43,183.5)\" d=\"M3,0A3,3 0 1,1 0,-3A3,3 0 0,1 3,0Z\" style=\"opacity: 1; stroke-width: 0px; fill: rgb(178, 24, 43); fill-opacity: 1;\"/><path class=\"point\" transform=\"translate(681.36,183.5)\" d=\"M3,0A3,3 0 1,1 0,-3A3,3 0 0,1 3,0Z\" style=\"opacity: 1; stroke-width: 0px; fill: rgb(178, 24, 43); fill-opacity: 1;\"/><path class=\"point\" transform=\"translate(681.95,183.5)\" d=\"M3,0A3,3 0 1,1 0,-3A3,3 0 0,1 3,0Z\" style=\"opacity: 1; stroke-width: 0px; fill: rgb(178, 24, 43); fill-opacity: 1;\"/><path class=\"point\" transform=\"translate(682.26,183.5)\" d=\"M3,0A3,3 0 1,1 0,-3A3,3 0 0,1 3,0Z\" style=\"opacity: 1; stroke-width: 0px; fill: rgb(178, 24, 43); fill-opacity: 1;\"/><path class=\"point\" transform=\"translate(682.59,183.5)\" d=\"M3,0A3,3 0 1,1 0,-3A3,3 0 0,1 3,0Z\" style=\"opacity: 1; stroke-width: 0px; fill: rgb(178, 24, 43); fill-opacity: 1;\"/><path class=\"point\" transform=\"translate(684.26,183.5)\" d=\"M3,0A3,3 0 1,1 0,-3A3,3 0 0,1 3,0Z\" style=\"opacity: 1; stroke-width: 0px; fill: rgb(178, 24, 43); fill-opacity: 1;\"/><path class=\"point\" transform=\"translate(685.93,183.5)\" d=\"M3,0A3,3 0 1,1 0,-3A3,3 0 0,1 3,0Z\" style=\"opacity: 1; stroke-width: 0px; fill: rgb(178, 24, 43); fill-opacity: 1;\"/><path class=\"point\" transform=\"translate(686.12,183.5)\" d=\"M3,0A3,3 0 1,1 0,-3A3,3 0 0,1 3,0Z\" style=\"opacity: 1; stroke-width: 0px; fill: rgb(178, 24, 43); fill-opacity: 1;\"/><path class=\"point\" transform=\"translate(686.46,183.5)\" d=\"M3,0A3,3 0 1,1 0,-3A3,3 0 0,1 3,0Z\" style=\"opacity: 1; stroke-width: 0px; fill: rgb(178, 24, 43); fill-opacity: 1;\"/><path class=\"point\" transform=\"translate(687.19,183.5)\" d=\"M3,0A3,3 0 1,1 0,-3A3,3 0 0,1 3,0Z\" style=\"opacity: 1; stroke-width: 0px; fill: rgb(178, 24, 43); fill-opacity: 1;\"/><path class=\"point\" transform=\"translate(687.37,183.5)\" d=\"M3,0A3,3 0 1,1 0,-3A3,3 0 0,1 3,0Z\" style=\"opacity: 1; stroke-width: 0px; fill: rgb(178, 24, 43); fill-opacity: 1;\"/><path class=\"point\" transform=\"translate(687.47,183.5)\" d=\"M3,0A3,3 0 1,1 0,-3A3,3 0 0,1 3,0Z\" style=\"opacity: 1; stroke-width: 0px; fill: rgb(178, 24, 43); fill-opacity: 1;\"/><path class=\"point\" transform=\"translate(687.56,183.5)\" d=\"M3,0A3,3 0 1,1 0,-3A3,3 0 0,1 3,0Z\" style=\"opacity: 1; stroke-width: 0px; fill: rgb(178, 24, 43); fill-opacity: 1;\"/><path class=\"point\" transform=\"translate(687.87,183.5)\" d=\"M3,0A3,3 0 1,1 0,-3A3,3 0 0,1 3,0Z\" style=\"opacity: 1; stroke-width: 0px; fill: rgb(178, 24, 43); fill-opacity: 1;\"/><path class=\"point\" transform=\"translate(688.01,183.5)\" d=\"M3,0A3,3 0 1,1 0,-3A3,3 0 0,1 3,0Z\" style=\"opacity: 1; stroke-width: 0px; fill: rgb(178, 24, 43); fill-opacity: 1;\"/><path class=\"point\" transform=\"translate(688.69,183.5)\" d=\"M3,0A3,3 0 1,1 0,-3A3,3 0 0,1 3,0Z\" style=\"opacity: 1; stroke-width: 0px; fill: rgb(178, 24, 43); fill-opacity: 1;\"/><path class=\"point\" transform=\"translate(689.78,183.5)\" d=\"M3,0A3,3 0 1,1 0,-3A3,3 0 0,1 3,0Z\" style=\"opacity: 1; stroke-width: 0px; fill: rgb(178, 24, 43); fill-opacity: 1;\"/><path class=\"point\" transform=\"translate(689.98,183.5)\" d=\"M3,0A3,3 0 1,1 0,-3A3,3 0 0,1 3,0Z\" style=\"opacity: 1; stroke-width: 0px; fill: rgb(178, 24, 43); fill-opacity: 1;\"/><path class=\"point\" transform=\"translate(690.06,183.5)\" d=\"M3,0A3,3 0 1,1 0,-3A3,3 0 0,1 3,0Z\" style=\"opacity: 1; stroke-width: 0px; fill: rgb(178, 24, 43); fill-opacity: 1;\"/><path class=\"point\" transform=\"translate(690.13,183.5)\" d=\"M3,0A3,3 0 1,1 0,-3A3,3 0 0,1 3,0Z\" style=\"opacity: 1; stroke-width: 0px; fill: rgb(178, 24, 43); fill-opacity: 1;\"/><path class=\"point\" transform=\"translate(690.41,183.5)\" d=\"M3,0A3,3 0 1,1 0,-3A3,3 0 0,1 3,0Z\" style=\"opacity: 1; stroke-width: 0px; fill: rgb(178, 24, 43); fill-opacity: 1;\"/><path class=\"point\" transform=\"translate(691,183.5)\" d=\"M3,0A3,3 0 1,1 0,-3A3,3 0 0,1 3,0Z\" style=\"opacity: 1; stroke-width: 0px; fill: rgb(178, 24, 43); fill-opacity: 1;\"/><path class=\"point\" transform=\"translate(691.21,183.5)\" d=\"M3,0A3,3 0 1,1 0,-3A3,3 0 0,1 3,0Z\" style=\"opacity: 1; stroke-width: 0px; fill: rgb(178, 24, 43); fill-opacity: 1;\"/><path class=\"point\" transform=\"translate(691.21,183.5)\" d=\"M3,0A3,3 0 1,1 0,-3A3,3 0 0,1 3,0Z\" style=\"opacity: 1; stroke-width: 0px; fill: rgb(178, 24, 43); fill-opacity: 1;\"/><path class=\"point\" transform=\"translate(692.56,183.5)\" d=\"M3,0A3,3 0 1,1 0,-3A3,3 0 0,1 3,0Z\" style=\"opacity: 1; stroke-width: 0px; fill: rgb(178, 24, 43); fill-opacity: 1;\"/><path class=\"point\" transform=\"translate(692.61,183.5)\" d=\"M3,0A3,3 0 1,1 0,-3A3,3 0 0,1 3,0Z\" style=\"opacity: 1; stroke-width: 0px; fill: rgb(178, 24, 43); fill-opacity: 1;\"/><path class=\"point\" transform=\"translate(692.78,183.5)\" d=\"M3,0A3,3 0 1,1 0,-3A3,3 0 0,1 3,0Z\" style=\"opacity: 1; stroke-width: 0px; fill: rgb(178, 24, 43); fill-opacity: 1;\"/><path class=\"point\" transform=\"translate(693.41,183.5)\" d=\"M3,0A3,3 0 1,1 0,-3A3,3 0 0,1 3,0Z\" style=\"opacity: 1; stroke-width: 0px; fill: rgb(178, 24, 43); fill-opacity: 1;\"/><path class=\"point\" transform=\"translate(694.45,183.5)\" d=\"M3,0A3,3 0 1,1 0,-3A3,3 0 0,1 3,0Z\" style=\"opacity: 1; stroke-width: 0px; fill: rgb(178, 24, 43); fill-opacity: 1;\"/><path class=\"point\" transform=\"translate(695.86,183.5)\" d=\"M3,0A3,3 0 1,1 0,-3A3,3 0 0,1 3,0Z\" style=\"opacity: 1; stroke-width: 0px; fill: rgb(178, 24, 43); fill-opacity: 1;\"/><path class=\"point\" transform=\"translate(695.94,183.5)\" d=\"M3,0A3,3 0 1,1 0,-3A3,3 0 0,1 3,0Z\" style=\"opacity: 1; stroke-width: 0px; fill: rgb(178, 24, 43); fill-opacity: 1;\"/><path class=\"point\" transform=\"translate(696.47,183.5)\" d=\"M3,0A3,3 0 1,1 0,-3A3,3 0 0,1 3,0Z\" style=\"opacity: 1; stroke-width: 0px; fill: rgb(178, 24, 43); fill-opacity: 1;\"/><path class=\"point\" transform=\"translate(697.21,183.5)\" d=\"M3,0A3,3 0 1,1 0,-3A3,3 0 0,1 3,0Z\" style=\"opacity: 1; stroke-width: 0px; fill: rgb(178, 24, 43); fill-opacity: 1;\"/><path class=\"point\" transform=\"translate(698.37,183.5)\" d=\"M3,0A3,3 0 1,1 0,-3A3,3 0 0,1 3,0Z\" style=\"opacity: 1; stroke-width: 0px; fill: rgb(178, 24, 43); fill-opacity: 1;\"/><path class=\"point\" transform=\"translate(698.38,183.5)\" d=\"M3,0A3,3 0 1,1 0,-3A3,3 0 0,1 3,0Z\" style=\"opacity: 1; stroke-width: 0px; fill: rgb(178, 24, 43); fill-opacity: 1;\"/><path class=\"point\" transform=\"translate(699.12,183.5)\" d=\"M3,0A3,3 0 1,1 0,-3A3,3 0 0,1 3,0Z\" style=\"opacity: 1; stroke-width: 0px; fill: rgb(178, 24, 43); fill-opacity: 1;\"/><path class=\"point\" transform=\"translate(699.71,183.5)\" d=\"M3,0A3,3 0 1,1 0,-3A3,3 0 0,1 3,0Z\" style=\"opacity: 1; stroke-width: 0px; fill: rgb(178, 24, 43); fill-opacity: 1;\"/><path class=\"point\" transform=\"translate(700.27,183.5)\" d=\"M3,0A3,3 0 1,1 0,-3A3,3 0 0,1 3,0Z\" style=\"opacity: 1; stroke-width: 0px; fill: rgb(178, 24, 43); fill-opacity: 1;\"/><path class=\"point\" transform=\"translate(701.63,183.5)\" d=\"M3,0A3,3 0 1,1 0,-3A3,3 0 0,1 3,0Z\" style=\"opacity: 1; stroke-width: 0px; fill: rgb(178, 24, 43); fill-opacity: 1;\"/><path class=\"point\" transform=\"translate(705.3,183.5)\" d=\"M3,0A3,3 0 1,1 0,-3A3,3 0 0,1 3,0Z\" style=\"opacity: 1; stroke-width: 0px; fill: rgb(178, 24, 43); fill-opacity: 1;\"/><path class=\"point\" transform=\"translate(706.42,183.5)\" d=\"M3,0A3,3 0 1,1 0,-3A3,3 0 0,1 3,0Z\" style=\"opacity: 1; stroke-width: 0px; fill: rgb(178, 24, 43); fill-opacity: 1;\"/><path class=\"point\" transform=\"translate(707.19,183.5)\" d=\"M3,0A3,3 0 1,1 0,-3A3,3 0 0,1 3,0Z\" style=\"opacity: 1; stroke-width: 0px; fill: rgb(178, 24, 43); fill-opacity: 1;\"/><path class=\"point\" transform=\"translate(707.61,183.5)\" d=\"M3,0A3,3 0 1,1 0,-3A3,3 0 0,1 3,0Z\" style=\"opacity: 1; stroke-width: 0px; fill: rgb(178, 24, 43); fill-opacity: 1;\"/><path class=\"point\" transform=\"translate(709.62,183.5)\" d=\"M3,0A3,3 0 1,1 0,-3A3,3 0 0,1 3,0Z\" style=\"opacity: 1; stroke-width: 0px; fill: rgb(178, 24, 43); fill-opacity: 1;\"/><path class=\"point\" transform=\"translate(709.71,183.5)\" d=\"M3,0A3,3 0 1,1 0,-3A3,3 0 0,1 3,0Z\" style=\"opacity: 1; stroke-width: 0px; fill: rgb(178, 24, 43); fill-opacity: 1;\"/><path class=\"point\" transform=\"translate(709.86,183.5)\" d=\"M3,0A3,3 0 1,1 0,-3A3,3 0 0,1 3,0Z\" style=\"opacity: 1; stroke-width: 0px; fill: rgb(178, 24, 43); fill-opacity: 1;\"/><path class=\"point\" transform=\"translate(709.99,183.5)\" d=\"M3,0A3,3 0 1,1 0,-3A3,3 0 0,1 3,0Z\" style=\"opacity: 1; stroke-width: 0px; fill: rgb(178, 24, 43); fill-opacity: 1;\"/><path class=\"point\" transform=\"translate(710.19,183.5)\" d=\"M3,0A3,3 0 1,1 0,-3A3,3 0 0,1 3,0Z\" style=\"opacity: 1; stroke-width: 0px; fill: rgb(178, 24, 43); fill-opacity: 1;\"/><path class=\"point\" transform=\"translate(711.22,183.5)\" d=\"M3,0A3,3 0 1,1 0,-3A3,3 0 0,1 3,0Z\" style=\"opacity: 1; stroke-width: 0px; fill: rgb(178, 24, 43); fill-opacity: 1;\"/><path class=\"point\" transform=\"translate(711.74,183.5)\" d=\"M3,0A3,3 0 1,1 0,-3A3,3 0 0,1 3,0Z\" style=\"opacity: 1; stroke-width: 0px; fill: rgb(178, 24, 43); fill-opacity: 1;\"/><path class=\"point\" transform=\"translate(712.81,183.5)\" d=\"M3,0A3,3 0 1,1 0,-3A3,3 0 0,1 3,0Z\" style=\"opacity: 1; stroke-width: 0px; fill: rgb(178, 24, 43); fill-opacity: 1;\"/><path class=\"point\" transform=\"translate(714.06,183.5)\" d=\"M3,0A3,3 0 1,1 0,-3A3,3 0 0,1 3,0Z\" style=\"opacity: 1; stroke-width: 0px; fill: rgb(178, 24, 43); fill-opacity: 1;\"/><path class=\"point\" transform=\"translate(714.61,183.5)\" d=\"M3,0A3,3 0 1,1 0,-3A3,3 0 0,1 3,0Z\" style=\"opacity: 1; stroke-width: 0px; fill: rgb(178, 24, 43); fill-opacity: 1;\"/><path class=\"point\" transform=\"translate(715.07,183.5)\" d=\"M3,0A3,3 0 1,1 0,-3A3,3 0 0,1 3,0Z\" style=\"opacity: 1; stroke-width: 0px; fill: rgb(178, 24, 43); fill-opacity: 1;\"/><path class=\"point\" transform=\"translate(715.1,183.5)\" d=\"M3,0A3,3 0 1,1 0,-3A3,3 0 0,1 3,0Z\" style=\"opacity: 1; stroke-width: 0px; fill: rgb(178, 24, 43); fill-opacity: 1;\"/><path class=\"point\" transform=\"translate(716.76,183.5)\" d=\"M3,0A3,3 0 1,1 0,-3A3,3 0 0,1 3,0Z\" style=\"opacity: 1; stroke-width: 0px; fill: rgb(178, 24, 43); fill-opacity: 1;\"/><path class=\"point\" transform=\"translate(717.89,183.5)\" d=\"M3,0A3,3 0 1,1 0,-3A3,3 0 0,1 3,0Z\" style=\"opacity: 1; stroke-width: 0px; fill: rgb(178, 24, 43); fill-opacity: 1;\"/><path class=\"point\" transform=\"translate(719.02,183.5)\" d=\"M3,0A3,3 0 1,1 0,-3A3,3 0 0,1 3,0Z\" style=\"opacity: 1; stroke-width: 0px; fill: rgb(178, 24, 43); fill-opacity: 1;\"/><path class=\"point\" transform=\"translate(719.07,183.5)\" d=\"M3,0A3,3 0 1,1 0,-3A3,3 0 0,1 3,0Z\" style=\"opacity: 1; stroke-width: 0px; fill: rgb(178, 24, 43); fill-opacity: 1;\"/><path class=\"point\" transform=\"translate(722.49,183.5)\" d=\"M3,0A3,3 0 1,1 0,-3A3,3 0 0,1 3,0Z\" style=\"opacity: 1; stroke-width: 0px; fill: rgb(178, 24, 43); fill-opacity: 1;\"/><path class=\"point\" transform=\"translate(723.3,183.5)\" d=\"M3,0A3,3 0 1,1 0,-3A3,3 0 0,1 3,0Z\" style=\"opacity: 1; stroke-width: 0px; fill: rgb(178, 24, 43); fill-opacity: 1;\"/><path class=\"point\" transform=\"translate(725.52,183.5)\" d=\"M3,0A3,3 0 1,1 0,-3A3,3 0 0,1 3,0Z\" style=\"opacity: 1; stroke-width: 0px; fill: rgb(178, 24, 43); fill-opacity: 1;\"/><path class=\"point\" transform=\"translate(725.91,183.5)\" d=\"M3,0A3,3 0 1,1 0,-3A3,3 0 0,1 3,0Z\" style=\"opacity: 1; stroke-width: 0px; fill: rgb(178, 24, 43); fill-opacity: 1;\"/><path class=\"point\" transform=\"translate(726.14,183.5)\" d=\"M3,0A3,3 0 1,1 0,-3A3,3 0 0,1 3,0Z\" style=\"opacity: 1; stroke-width: 0px; fill: rgb(178, 24, 43); fill-opacity: 1;\"/><path class=\"point\" transform=\"translate(727.69,183.5)\" d=\"M3,0A3,3 0 1,1 0,-3A3,3 0 0,1 3,0Z\" style=\"opacity: 1; stroke-width: 0px; fill: rgb(178, 24, 43); fill-opacity: 1;\"/><path class=\"point\" transform=\"translate(727.96,183.5)\" d=\"M3,0A3,3 0 1,1 0,-3A3,3 0 0,1 3,0Z\" style=\"opacity: 1; stroke-width: 0px; fill: rgb(178, 24, 43); fill-opacity: 1;\"/><path class=\"point\" transform=\"translate(728.5,183.5)\" d=\"M3,0A3,3 0 1,1 0,-3A3,3 0 0,1 3,0Z\" style=\"opacity: 1; stroke-width: 0px; fill: rgb(178, 24, 43); fill-opacity: 1;\"/><path class=\"point\" transform=\"translate(732.52,183.5)\" d=\"M3,0A3,3 0 1,1 0,-3A3,3 0 0,1 3,0Z\" style=\"opacity: 1; stroke-width: 0px; fill: rgb(178, 24, 43); fill-opacity: 1;\"/><path class=\"point\" transform=\"translate(734.25,183.5)\" d=\"M3,0A3,3 0 1,1 0,-3A3,3 0 0,1 3,0Z\" style=\"opacity: 1; stroke-width: 0px; fill: rgb(178, 24, 43); fill-opacity: 1;\"/><path class=\"point\" transform=\"translate(734.36,183.5)\" d=\"M3,0A3,3 0 1,1 0,-3A3,3 0 0,1 3,0Z\" style=\"opacity: 1; stroke-width: 0px; fill: rgb(178, 24, 43); fill-opacity: 1;\"/><path class=\"point\" transform=\"translate(736.69,183.5)\" d=\"M3,0A3,3 0 1,1 0,-3A3,3 0 0,1 3,0Z\" style=\"opacity: 1; stroke-width: 0px; fill: rgb(178, 24, 43); fill-opacity: 1;\"/><path class=\"point\" transform=\"translate(737.56,183.5)\" d=\"M3,0A3,3 0 1,1 0,-3A3,3 0 0,1 3,0Z\" style=\"opacity: 1; stroke-width: 0px; fill: rgb(178, 24, 43); fill-opacity: 1;\"/><path class=\"point\" transform=\"translate(737.77,183.5)\" d=\"M3,0A3,3 0 1,1 0,-3A3,3 0 0,1 3,0Z\" style=\"opacity: 1; stroke-width: 0px; fill: rgb(178, 24, 43); fill-opacity: 1;\"/><path class=\"point\" transform=\"translate(738.27,183.5)\" d=\"M3,0A3,3 0 1,1 0,-3A3,3 0 0,1 3,0Z\" style=\"opacity: 1; stroke-width: 0px; fill: rgb(178, 24, 43); fill-opacity: 1;\"/><path class=\"point\" transform=\"translate(739.74,183.5)\" d=\"M3,0A3,3 0 1,1 0,-3A3,3 0 0,1 3,0Z\" style=\"opacity: 1; stroke-width: 0px; fill: rgb(178, 24, 43); fill-opacity: 1;\"/><path class=\"point\" transform=\"translate(741.38,183.5)\" d=\"M3,0A3,3 0 1,1 0,-3A3,3 0 0,1 3,0Z\" style=\"opacity: 1; stroke-width: 0px; fill: rgb(178, 24, 43); fill-opacity: 1;\"/><path class=\"point\" transform=\"translate(741.7,183.5)\" d=\"M3,0A3,3 0 1,1 0,-3A3,3 0 0,1 3,0Z\" style=\"opacity: 1; stroke-width: 0px; fill: rgb(178, 24, 43); fill-opacity: 1;\"/><path class=\"point\" transform=\"translate(743.85,183.5)\" d=\"M3,0A3,3 0 1,1 0,-3A3,3 0 0,1 3,0Z\" style=\"opacity: 1; stroke-width: 0px; fill: rgb(178, 24, 43); fill-opacity: 1;\"/><path class=\"point\" transform=\"translate(750.8,183.5)\" d=\"M3,0A3,3 0 1,1 0,-3A3,3 0 0,1 3,0Z\" style=\"opacity: 1; stroke-width: 0px; fill: rgb(178, 24, 43); fill-opacity: 1;\"/><path class=\"point\" transform=\"translate(751.05,183.5)\" d=\"M3,0A3,3 0 1,1 0,-3A3,3 0 0,1 3,0Z\" style=\"opacity: 1; stroke-width: 0px; fill: rgb(178, 24, 43); fill-opacity: 1;\"/><path class=\"point\" transform=\"translate(751.99,183.5)\" d=\"M3,0A3,3 0 1,1 0,-3A3,3 0 0,1 3,0Z\" style=\"opacity: 1; stroke-width: 0px; fill: rgb(178, 24, 43); fill-opacity: 1;\"/><path class=\"point\" transform=\"translate(753.66,183.5)\" d=\"M3,0A3,3 0 1,1 0,-3A3,3 0 0,1 3,0Z\" style=\"opacity: 1; stroke-width: 0px; fill: rgb(178, 24, 43); fill-opacity: 1;\"/><path class=\"point\" transform=\"translate(753.75,183.5)\" d=\"M3,0A3,3 0 1,1 0,-3A3,3 0 0,1 3,0Z\" style=\"opacity: 1; stroke-width: 0px; fill: rgb(178, 24, 43); fill-opacity: 1;\"/><path class=\"point\" transform=\"translate(759.43,183.5)\" d=\"M3,0A3,3 0 1,1 0,-3A3,3 0 0,1 3,0Z\" style=\"opacity: 1; stroke-width: 0px; fill: rgb(178, 24, 43); fill-opacity: 1;\"/><path class=\"point\" transform=\"translate(762.79,183.5)\" d=\"M3,0A3,3 0 1,1 0,-3A3,3 0 0,1 3,0Z\" style=\"opacity: 1; stroke-width: 0px; fill: rgb(178, 24, 43); fill-opacity: 1;\"/><path class=\"point\" transform=\"translate(763.98,183.5)\" d=\"M3,0A3,3 0 1,1 0,-3A3,3 0 0,1 3,0Z\" style=\"opacity: 1; stroke-width: 0px; fill: rgb(178, 24, 43); fill-opacity: 1;\"/><path class=\"point\" transform=\"translate(764.33,183.5)\" d=\"M3,0A3,3 0 1,1 0,-3A3,3 0 0,1 3,0Z\" style=\"opacity: 1; stroke-width: 0px; fill: rgb(178, 24, 43); fill-opacity: 1;\"/><path class=\"point\" transform=\"translate(768.82,183.5)\" d=\"M3,0A3,3 0 1,1 0,-3A3,3 0 0,1 3,0Z\" style=\"opacity: 1; stroke-width: 0px; fill: rgb(178, 24, 43); fill-opacity: 1;\"/><path class=\"point\" transform=\"translate(773.22,183.5)\" d=\"M3,0A3,3 0 1,1 0,-3A3,3 0 0,1 3,0Z\" style=\"opacity: 1; stroke-width: 0px; fill: rgb(178, 24, 43); fill-opacity: 1;\"/><path class=\"point\" transform=\"translate(774.43,183.5)\" d=\"M3,0A3,3 0 1,1 0,-3A3,3 0 0,1 3,0Z\" style=\"opacity: 1; stroke-width: 0px; fill: rgb(178, 24, 43); fill-opacity: 1;\"/><path class=\"point\" transform=\"translate(788.88,183.5)\" d=\"M3,0A3,3 0 1,1 0,-3A3,3 0 0,1 3,0Z\" style=\"opacity: 1; stroke-width: 0px; fill: rgb(178, 24, 43); fill-opacity: 1;\"/><path class=\"point\" transform=\"translate(791.94,183.5)\" d=\"M3,0A3,3 0 1,1 0,-3A3,3 0 0,1 3,0Z\" style=\"opacity: 1; stroke-width: 0px; fill: rgb(178, 24, 43); fill-opacity: 1;\"/><path class=\"point\" transform=\"translate(791.97,183.5)\" d=\"M3,0A3,3 0 1,1 0,-3A3,3 0 0,1 3,0Z\" style=\"opacity: 1; stroke-width: 0px; fill: rgb(178, 24, 43); fill-opacity: 1;\"/><path class=\"point\" transform=\"translate(798.72,183.5)\" d=\"M3,0A3,3 0 1,1 0,-3A3,3 0 0,1 3,0Z\" style=\"opacity: 1; stroke-width: 0px; fill: rgb(178, 24, 43); fill-opacity: 1;\"/><path class=\"point\" transform=\"translate(800.42,183.5)\" d=\"M3,0A3,3 0 1,1 0,-3A3,3 0 0,1 3,0Z\" style=\"opacity: 1; stroke-width: 0px; fill: rgb(178, 24, 43); fill-opacity: 1;\"/><path class=\"point\" transform=\"translate(805.46,183.5)\" d=\"M3,0A3,3 0 1,1 0,-3A3,3 0 0,1 3,0Z\" style=\"opacity: 1; stroke-width: 0px; fill: rgb(178, 24, 43); fill-opacity: 1;\"/><path class=\"point\" transform=\"translate(814.57,183.5)\" d=\"M3,0A3,3 0 1,1 0,-3A3,3 0 0,1 3,0Z\" style=\"opacity: 1; stroke-width: 0px; fill: rgb(178, 24, 43); fill-opacity: 1;\"/><path class=\"point\" transform=\"translate(819.08,183.5)\" d=\"M3,0A3,3 0 1,1 0,-3A3,3 0 0,1 3,0Z\" style=\"opacity: 1; stroke-width: 0px; fill: rgb(178, 24, 43); fill-opacity: 1;\"/><path class=\"point\" transform=\"translate(819.83,183.5)\" d=\"M3,0A3,3 0 1,1 0,-3A3,3 0 0,1 3,0Z\" style=\"opacity: 1; stroke-width: 0px; fill: rgb(178, 24, 43); fill-opacity: 1;\"/><path class=\"point\" transform=\"translate(838.08,183.5)\" d=\"M3,0A3,3 0 1,1 0,-3A3,3 0 0,1 3,0Z\" style=\"opacity: 1; stroke-width: 0px; fill: rgb(178, 24, 43); fill-opacity: 1;\"/><path class=\"point\" transform=\"translate(849.88,183.5)\" d=\"M3,0A3,3 0 1,1 0,-3A3,3 0 0,1 3,0Z\" style=\"opacity: 1; stroke-width: 0px; fill: rgb(178, 24, 43); fill-opacity: 1;\"/><path class=\"point\" transform=\"translate(855,183.5)\" d=\"M3,0A3,3 0 1,1 0,-3A3,3 0 0,1 3,0Z\" style=\"opacity: 1; stroke-width: 0px; fill: rgb(178, 24, 43); fill-opacity: 1;\"/></g></g></g></g><g class=\"overplot\"/><path class=\"xlines-above crisp\" d=\"M0,0\" style=\"fill: none;\"/><path class=\"ylines-above crisp\" d=\"M0,0\" style=\"fill: none;\"/><g class=\"overlines-above\"/><g class=\"xaxislayer-above\"><g class=\"xtick\"><text text-anchor=\"middle\" x=\"0\" y=\"460\" transform=\"translate(76.6,0)\" style=\"font-family: 'Open Sans', verdana, arial, sans-serif; font-size: 12px; fill: rgb(42, 63, 95); fill-opacity: 1; white-space: pre; opacity: 1;\">40</text></g><g class=\"xtick\"><text text-anchor=\"middle\" x=\"0\" y=\"460\" style=\"font-family: 'Open Sans', verdana, arial, sans-serif; font-size: 12px; fill: rgb(42, 63, 95); fill-opacity: 1; white-space: pre; opacity: 1;\" transform=\"translate(239.65,0)\">60</text></g><g class=\"xtick\"><text text-anchor=\"middle\" x=\"0\" y=\"460\" style=\"font-family: 'Open Sans', verdana, arial, sans-serif; font-size: 12px; fill: rgb(42, 63, 95); fill-opacity: 1; white-space: pre; opacity: 1;\" transform=\"translate(402.7,0)\">80</text></g><g class=\"xtick\"><text text-anchor=\"middle\" x=\"0\" y=\"460\" style=\"font-family: 'Open Sans', verdana, arial, sans-serif; font-size: 12px; fill: rgb(42, 63, 95); fill-opacity: 1; white-space: pre; opacity: 1;\" transform=\"translate(565.75,0)\">100</text></g><g class=\"xtick\"><text text-anchor=\"middle\" x=\"0\" y=\"460\" style=\"font-family: 'Open Sans', verdana, arial, sans-serif; font-size: 12px; fill: rgb(42, 63, 95); fill-opacity: 1; white-space: pre; opacity: 1;\" transform=\"translate(728.8,0)\">120</text></g><g class=\"xtick\"><text text-anchor=\"middle\" x=\"0\" y=\"460\" style=\"font-family: 'Open Sans', verdana, arial, sans-serif; font-size: 12px; fill: rgb(42, 63, 95); fill-opacity: 1; white-space: pre; opacity: 1;\" transform=\"translate(891.85,0)\">140</text></g></g><g class=\"yaxislayer-above\"><g class=\"ytick\"><text text-anchor=\"end\" x=\"49\" y=\"4.199999999999999\" transform=\"translate(0,263.5)\" style=\"font-family: 'Open Sans', verdana, arial, sans-serif; font-size: 12px; fill: rgb(42, 63, 95); fill-opacity: 1; white-space: pre; opacity: 1;\">trace 0</text></g></g><g class=\"overaxes-above\"/></g></g><g class=\"polarlayer\"/><g class=\"smithlayer\"/><g class=\"ternarylayer\"/><g class=\"geolayer\"/><g class=\"funnelarealayer\"/><g class=\"pielayer\"/><g class=\"iciclelayer\"/><g class=\"treemaplayer\"/><g class=\"sunburstlayer\"/><g class=\"glimages\"/><defs id=\"topdefs-128844\"><g class=\"clips\"/></defs><g class=\"layer-above\"><g class=\"imagelayer\"/><g class=\"shapelayer\"/></g><g class=\"infolayer\"><g class=\"g-gtitle\"><text class=\"gtitle\" x=\"150\" y=\"25\" text-anchor=\"middle\" dy=\"0.7em\" style=\"font-family: 'Times New Roman'; font-size: 26px; fill: rgb(0, 0, 0); opacity: 1; font-weight: normal; white-space: pre;\">Boxplot of Weight</text></g><g class=\"g-xtitle\"><text class=\"xtitle\" x=\"500\" y=\"487.3\" text-anchor=\"middle\" style=\"font-family: 'Open Sans', verdana, arial, sans-serif; font-size: 14px; fill: rgb(42, 63, 95); opacity: 1; font-weight: normal; white-space: pre;\">Age</text></g><g class=\"g-ytitle\"/></g></svg>"
      ]
     },
     "metadata": {},
     "output_type": "display_data"
    }
   ],
   "source": [
    "fig = go.Figure(data=[go.Box(\n",
    "    x=df['wtkg'],\n",
    "    marker=dict(color=palette[1])\n",
    ")])\n",
    "\n",
    "fig.update_layout(\n",
    "    title_text=\"Boxplot of Weight\",\n",
    "    title_font_size=24,\n",
    "    title_font_family=\"Times New Roman\",\n",
    "    title_font_color=\"#000000\",  \n",
    "    paper_bgcolor='#ffffff',  \n",
    "    plot_bgcolor='#ffffff',  \n",
    "    xaxis=dict(title=\"Age\"),\n",
    ")\n",
    "\n",
    "fig.update_layout(\n",
    "    title={\n",
    "        'y':0.95,\n",
    "        'x':0.15,\n",
    "        'xanchor': 'center',\n",
    "        'yanchor': 'top'},\n",
    "    title_font_size=26,\n",
    "    margin=dict(l=50, r=50, t=80, b=50)\n",
    ")\n",
    "\n",
    "\n",
    "\n",
    "fig.update_layout(width=1000)\n",
    "\n",
    "fig.show('svg')"
   ]
  },
  {
   "cell_type": "markdown",
   "id": "78e92fc9",
   "metadata": {
    "papermill": {
     "duration": 0.038862,
     "end_time": "2024-05-30T17:02:52.736321",
     "exception": false,
     "start_time": "2024-05-30T17:02:52.697459",
     "status": "completed"
    },
    "tags": []
   },
   "source": [
    "*A great deal of outliers are present beyond 100*"
   ]
  },
  {
   "cell_type": "markdown",
   "id": "8cea319b",
   "metadata": {
    "papermill": {
     "duration": 0.04006,
     "end_time": "2024-05-30T17:02:52.816367",
     "exception": false,
     "start_time": "2024-05-30T17:02:52.776307",
     "status": "completed"
    },
    "tags": []
   },
   "source": [
    "----------------------------------------------------------------------------------------------------------------------------------------------------------"
   ]
  },
  {
   "cell_type": "markdown",
   "id": "a8eb7554",
   "metadata": {
    "papermill": {
     "duration": 0.040263,
     "end_time": "2024-05-30T17:02:52.895642",
     "exception": false,
     "start_time": "2024-05-30T17:02:52.855379",
     "status": "completed"
    },
    "tags": []
   },
   "source": [
    "## hemo : Hemophilia \n",
    "***About***\n",
    "\n",
    "<div>\n",
    "<p>\n",
    "It refers to a genetic disorder characterized by the inability of the blood to clot normally. Individuals with hemophilia lack certain proteins, known as clotting factors, that are essential for blood clotting. As a result, they are at an increased risk of excessive bleeding, both internally and externally, even from minor injuries.\n",
    "\n",
    " </p>  \n",
    "</div>\n",
    "\n",
    "\n",
    "***Conclusions***\n",
    "- *Majority of the patients do not have hemophilia*"
   ]
  },
  {
   "cell_type": "code",
   "execution_count": 15,
   "id": "f7daa530",
   "metadata": {
    "execution": {
     "iopub.execute_input": "2024-05-30T17:02:52.978516Z",
     "iopub.status.busy": "2024-05-30T17:02:52.977802Z",
     "iopub.status.idle": "2024-05-30T17:02:52.988224Z",
     "shell.execute_reply": "2024-05-30T17:02:52.986965Z"
    },
    "papermill": {
     "duration": 0.054962,
     "end_time": "2024-05-30T17:02:52.990765",
     "exception": false,
     "start_time": "2024-05-30T17:02:52.935803",
     "status": "completed"
    },
    "tags": []
   },
   "outputs": [
    {
     "data": {
      "text/plain": [
       "hemo\n",
       "0    14520\n",
       "1      480\n",
       "Name: count, dtype: int64"
      ]
     },
     "execution_count": 15,
     "metadata": {},
     "output_type": "execute_result"
    }
   ],
   "source": [
    "df['hemo'].value_counts()"
   ]
  },
  {
   "cell_type": "code",
   "execution_count": 16,
   "id": "281e6866",
   "metadata": {
    "_kg_hide-input": false,
    "execution": {
     "iopub.execute_input": "2024-05-30T17:02:53.076076Z",
     "iopub.status.busy": "2024-05-30T17:02:53.075640Z",
     "iopub.status.idle": "2024-05-30T17:02:53.231161Z",
     "shell.execute_reply": "2024-05-30T17:02:53.229939Z"
    },
    "papermill": {
     "duration": 0.203242,
     "end_time": "2024-05-30T17:02:53.233899",
     "exception": false,
     "start_time": "2024-05-30T17:02:53.030657",
     "status": "completed"
    },
    "tags": []
   },
   "outputs": [
    {
     "data": {
      "image/svg+xml": [
       "<svg class=\"main-svg\" xmlns=\"http://www.w3.org/2000/svg\" xmlns:xlink=\"http://www.w3.org/1999/xlink\" width=\"1000\" height=\"500\" style=\"\" viewBox=\"0 0 1000 500\"><rect x=\"0\" y=\"0\" width=\"1000\" height=\"500\" style=\"fill: rgb(255, 255, 255); fill-opacity: 1;\"/><defs id=\"defs-94cfc1\"><g class=\"clips\"/><g class=\"gradients\"/><g class=\"patterns\"/></defs><g class=\"bglayer\"/><g class=\"layer-below\"><g class=\"imagelayer\"/><g class=\"shapelayer\"/></g><g class=\"cartesianlayer\"/><g class=\"polarlayer\"/><g class=\"smithlayer\"/><g class=\"ternarylayer\"/><g class=\"geolayer\"/><g class=\"funnelarealayer\"/><g class=\"pielayer\"><g class=\"trace\" stroke-linejoin=\"round\" style=\"opacity: 1;\"><g class=\"slice\"><path class=\"surface\" d=\"M500,265l0,-185a185,185 0 1 1 -36.94634639516533,3.7268153089143254Z\" style=\"pointer-events: none; fill: rgb(197, 27, 125); fill-opacity: 1; stroke-width: 1; stroke: rgb(0, 0, 0); stroke-opacity: 1;\"/><g class=\"slicetext\"><text data-notex=\"1\" class=\"slicetext\" transform=\"translate(509.2834586237374,352.93140657077026)\" text-anchor=\"middle\" x=\"0\" y=\"0\" style=\"font-family: 'Open Sans', verdana, arial, sans-serif; font-size: 14px; fill: rgb(255, 255, 255); fill-opacity: 1; white-space: pre;\"><tspan class=\"line\" dy=\"0em\" x=\"0\" y=\"0\">0</tspan><tspan class=\"line\" dy=\"1.3em\" x=\"0\" y=\"0\">96.8%</tspan></text></g></g><g class=\"slice\"><path class=\"surface\" d=\"M500,265l-36.94634639516529,-181.27318469108567a185,185 0 0 1 36.94634639516529,-3.7268153089143254Z\" style=\"pointer-events: none; fill: rgb(222, 119, 174); fill-opacity: 1; stroke-width: 1; stroke: rgb(0, 0, 0); stroke-opacity: 1;\"/><g class=\"slicetext\"><text data-notex=\"1\" class=\"slicetext\" transform=\"translate(456.91355150252525,59.903191898814484)\" text-anchor=\"middle\" x=\"0\" y=\"0\" style=\"font-family: 'Open Sans', verdana, arial, sans-serif; font-size: 14px; fill: rgb(255, 255, 255); fill-opacity: 1; white-space: pre;\"><tspan class=\"line\" dy=\"0em\" x=\"0\" y=\"0\">1</tspan><tspan class=\"line\" dy=\"1.3em\" x=\"0\" y=\"0\">3.2%</tspan></text></g></g></g></g><g class=\"iciclelayer\"/><g class=\"treemaplayer\"/><g class=\"sunburstlayer\"/><g class=\"glimages\"/><defs id=\"topdefs-94cfc1\"><g class=\"clips\"/><clipPath id=\"legend94cfc1\"><rect width=\"144.4\" height=\"75.4\" x=\"0.3\" y=\"0.3\"/></clipPath></defs><g class=\"layer-above\"><g class=\"imagelayer\"/><g class=\"shapelayer\"/></g><g class=\"infolayer\"><g class=\"legend\" pointer-events=\"all\" transform=\"translate(704,227)\"><rect class=\"bg\" shape-rendering=\"crispEdges\" style=\"stroke: rgb(0, 0, 0); stroke-opacity: 1; fill: rgb(255, 255, 255); fill-opacity: 1; stroke-width: 0.3px;\" width=\"144.7\" height=\"75.7\" x=\"0.15\" y=\"0.15\"/><g class=\"scrollbox\" transform=\"\" clip-path=\"url(#legend94cfc1)\"><text class=\"legendtitletext\" text-anchor=\"start\" x=\"2.3\" y=\"22.400000000000002\" style=\"font-family: 'Times New Roman'; font-size: 17px; fill: rgb(0, 0, 0); fill-opacity: 1; white-space: pre;\">Hemophilia (no/yes)</text><g class=\"groups\"><g class=\"traces\" transform=\"translate(0.3,38)\" style=\"opacity: 1;\"><text class=\"legendtext\" text-anchor=\"start\" x=\"40\" y=\"5.46\" style=\"font-family: 'Times New Roman'; font-size: 14px; fill: rgb(0, 0, 0); fill-opacity: 1; white-space: pre;\">0</text><g class=\"layers\" style=\"opacity: 1;\"><g class=\"legendfill\"/><g class=\"legendlines\"/><g class=\"legendsymbols\"><g class=\"legendpoints\"><path class=\"legendpie\" d=\"M6,6H-6V-6H6Z\" transform=\"translate(20,0)\" style=\"fill: rgb(197, 27, 125); fill-opacity: 1; stroke-width: 1; stroke: rgb(0, 0, 0); stroke-opacity: 1;\"/></g></g></g><rect class=\"legendtoggle\" x=\"0\" y=\"-10.6\" width=\"47\" height=\"21.2\" style=\"fill: rgb(0, 0, 0); fill-opacity: 0;\"/></g><g class=\"traces\" transform=\"translate(0.3,59.2)\" style=\"opacity: 1;\"><text class=\"legendtext\" text-anchor=\"start\" x=\"40\" y=\"5.46\" style=\"font-family: 'Times New Roman'; font-size: 14px; fill: rgb(0, 0, 0); fill-opacity: 1; white-space: pre;\">1</text><g class=\"layers\" style=\"opacity: 1;\"><g class=\"legendfill\"/><g class=\"legendlines\"/><g class=\"legendsymbols\"><g class=\"legendpoints\"><path class=\"legendpie\" d=\"M6,6H-6V-6H6Z\" transform=\"translate(20,0)\" style=\"fill: rgb(222, 119, 174); fill-opacity: 1; stroke-width: 1; stroke: rgb(0, 0, 0); stroke-opacity: 1;\"/></g></g></g><rect class=\"legendtoggle\" x=\"0\" y=\"-10.6\" width=\"47\" height=\"21.2\" style=\"fill: rgb(0, 0, 0); fill-opacity: 0;\"/></g></g></g><rect class=\"scrollbar\" rx=\"20\" ry=\"3\" width=\"0\" height=\"0\" style=\"fill: rgb(128, 139, 164); fill-opacity: 1;\" x=\"0\" y=\"0\"/></g><g class=\"g-gtitle\"><text class=\"gtitle\" x=\"210\" y=\"25\" text-anchor=\"middle\" dy=\"0.7em\" style=\"font-family: 'Times New Roman'; font-size: 26px; fill: rgb(0, 0, 0); opacity: 1; font-weight: normal; white-space: pre;\">Distribution of Hemophilia</text></g><g class=\"annotation\" data-index=\"0\" style=\"opacity: 1;\"><g class=\"annotation-text-g\" transform=\"rotate(0,500,477.00000000000006)\"><g class=\"cursor-pointer\" transform=\"translate(363,467)\"><rect class=\"bg\" x=\"0.5\" y=\"0.5\" width=\"273\" height=\"19\" style=\"stroke-width: 1px; stroke: rgb(0, 0, 0); stroke-opacity: 0; fill: rgb(0, 0, 0); fill-opacity: 0;\"/><text class=\"annotation-text\" text-anchor=\"middle\" x=\"137.03125\" y=\"15\" style=\"font-family: 'Open Sans', verdana, arial, sans-serif; font-size: 14px; fill: rgb(0, 0, 0); fill-opacity: 1; white-space: pre;\">Majority of patients do not have hemophilia.</text></g></g></g></g></svg>"
      ]
     },
     "metadata": {},
     "output_type": "display_data"
    }
   ],
   "source": [
    "palette = cl.scales['9']['div']['PiYG']\n",
    "\n",
    "\n",
    "hemo = df['hemo'].value_counts().reset_index()\n",
    "hemo.columns = ['hemo', 'count']\n",
    "\n",
    "fig = go.Figure(data=[go.Pie(\n",
    "    labels=hemo['hemo'],\n",
    "    values=hemo['count'],\n",
    "    marker=dict(colors=palette, line=dict(color='#000000', width=1)),\n",
    "    textinfo=\"label+percent\",\n",
    "    textfont=dict(size=14, color='#FFFFFF')\n",
    ")])\n",
    "\n",
    "\n",
    "fig.update_layout(\n",
    "    title_text=\"Hemophilia Distribution\",\n",
    "    title_font_size=24,\n",
    "    title_font_family=\"Times New Roman\",\n",
    "    title_font_color=\"#000000\",  \n",
    "    paper_bgcolor='#ffffff',  \n",
    "    plot_bgcolor='#ffffff', \n",
    "    showlegend=True,\n",
    "    legend_title_text='Hemophilia (no/yes)',\n",
    "    legend=dict(\n",
    "        x=0.8,\n",
    "        y=0.5,\n",
    "        traceorder='normal',\n",
    "        font=dict(\n",
    "            family=\"Times New Roman\",\n",
    "            size=14,\n",
    "            color=\"#000000\"\n",
    "        ),\n",
    "        bgcolor=\"#ffffff\",  \n",
    "        bordercolor=\"#000000\", \n",
    "        borderwidth=0.3,\n",
    "        orientation=\"v\" \n",
    "    )\n",
    ")\n",
    "\n",
    "fig.update_layout(width=1000)\n",
    "\n",
    "fig.update_layout(\n",
    "    title={\n",
    "        'text': \"Distribution of Hemophilia\",\n",
    "        'y':0.95,\n",
    "        'x':0.21,\n",
    "        'xanchor': 'center',\n",
    "        'yanchor': 'top'},\n",
    "    title_font_size=26,\n",
    "    margin=dict(l=50, r=50, t=80, b=50)\n",
    ")\n",
    "\n",
    "fig.add_annotation(\n",
    "    text=\"Majority of patients do not have hemophilia.\",\n",
    "    x=0.5,\n",
    "    y=-0.10,\n",
    "    showarrow=False,\n",
    "    font=dict(color=\"#000000\", size=14) \n",
    ")\n",
    "\n",
    "# Show the pie chart\n",
    "fig.show('svg')\n"
   ]
  },
  {
   "cell_type": "markdown",
   "id": "24c50eaf",
   "metadata": {
    "papermill": {
     "duration": 0.04163,
     "end_time": "2024-05-30T17:02:53.320676",
     "exception": false,
     "start_time": "2024-05-30T17:02:53.279046",
     "status": "completed"
    },
    "tags": []
   },
   "source": [
    "----------------------------------------------------------------------------------------------------------------------------------------------------------"
   ]
  },
  {
   "cell_type": "markdown",
   "id": "60d1d296",
   "metadata": {
    "papermill": {
     "duration": 0.045854,
     "end_time": "2024-05-30T17:02:53.410584",
     "exception": false,
     "start_time": "2024-05-30T17:02:53.364730",
     "status": "completed"
    },
    "tags": []
   },
   "source": [
    "## homo : Homosexual Activity \n",
    "***About***\n",
    "\n",
    "<div>\n",
    "<p>\n",
    "Homosexual activity refers to sexual activity between individuals of the same sex, often between men. Historically, homosexual activity has been associated with a higher risk of HIV transmission due to various factor.\n",
    " </p>  \n",
    "</div>\n",
    "\n",
    "\n",
    "***Conclusions***\n",
    "- *Majority of the patients have indulged in homosexual activity*"
   ]
  },
  {
   "cell_type": "code",
   "execution_count": 17,
   "id": "49727aa0",
   "metadata": {
    "execution": {
     "iopub.execute_input": "2024-05-30T17:02:53.493291Z",
     "iopub.status.busy": "2024-05-30T17:02:53.492892Z",
     "iopub.status.idle": "2024-05-30T17:02:53.502192Z",
     "shell.execute_reply": "2024-05-30T17:02:53.500918Z"
    },
    "papermill": {
     "duration": 0.05407,
     "end_time": "2024-05-30T17:02:53.504674",
     "exception": false,
     "start_time": "2024-05-30T17:02:53.450604",
     "status": "completed"
    },
    "tags": []
   },
   "outputs": [
    {
     "data": {
      "text/plain": [
       "homo\n",
       "1    9791\n",
       "0    5209\n",
       "Name: count, dtype: int64"
      ]
     },
     "execution_count": 17,
     "metadata": {},
     "output_type": "execute_result"
    }
   ],
   "source": [
    "df['homo'].value_counts()"
   ]
  },
  {
   "cell_type": "code",
   "execution_count": 18,
   "id": "87f86c9b",
   "metadata": {
    "execution": {
     "iopub.execute_input": "2024-05-30T17:02:53.588712Z",
     "iopub.status.busy": "2024-05-30T17:02:53.588330Z",
     "iopub.status.idle": "2024-05-30T17:02:53.667077Z",
     "shell.execute_reply": "2024-05-30T17:02:53.665612Z"
    },
    "papermill": {
     "duration": 0.127175,
     "end_time": "2024-05-30T17:02:53.671666",
     "exception": false,
     "start_time": "2024-05-30T17:02:53.544491",
     "status": "completed"
    },
    "tags": []
   },
   "outputs": [
    {
     "data": {
      "image/svg+xml": [
       "<svg class=\"main-svg\" xmlns=\"http://www.w3.org/2000/svg\" xmlns:xlink=\"http://www.w3.org/1999/xlink\" width=\"1000\" height=\"500\" style=\"\" viewBox=\"0 0 1000 500\"><rect x=\"0\" y=\"0\" width=\"1000\" height=\"500\" style=\"fill: rgb(255, 255, 255); fill-opacity: 1;\"/><defs id=\"defs-e3f45b\"><g class=\"clips\"/><g class=\"gradients\"/><g class=\"patterns\"/></defs><g class=\"bglayer\"/><g class=\"layer-below\"><g class=\"imagelayer\"/><g class=\"shapelayer\"/></g><g class=\"cartesianlayer\"/><g class=\"polarlayer\"/><g class=\"smithlayer\"/><g class=\"ternarylayer\"/><g class=\"geolayer\"/><g class=\"funnelarealayer\"/><g class=\"pielayer\"><g class=\"trace\" stroke-linejoin=\"round\" style=\"opacity: 1;\"><g class=\"slice\"><path class=\"surface\" d=\"M500,265l0,-185a185,185 0 1 1 -151.51349032494048,291.1539554117234Z\" style=\"pointer-events: none; fill: rgb(215, 48, 39); fill-opacity: 1; stroke-width: 1; stroke: rgb(0, 0, 0); stroke-opacity: 1;\"/><g class=\"slicetext\"><text data-notex=\"1\" class=\"slicetext\" transform=\"translate(582.0544649540542,303.5987276758746)\" text-anchor=\"middle\" x=\"0\" y=\"0\" style=\"font-family: 'Open Sans', verdana, arial, sans-serif; font-size: 14px; fill: rgb(255, 255, 255); fill-opacity: 1; white-space: pre;\"><tspan class=\"line\" dy=\"0em\" x=\"0\" y=\"0\">1</tspan><tspan class=\"line\" dy=\"1.3em\" x=\"0\" y=\"0\">65.3%</tspan></text></g></g><g class=\"slice\"><path class=\"surface\" d=\"M500,265l-151.51349032494056,106.15395541172333a185,185 0 0 1 151.51349032494056,-291.15395541172336Z\" style=\"pointer-events: none; fill: rgb(244, 109, 67); fill-opacity: 1; stroke-width: 1; stroke: rgb(0, 0, 0); stroke-opacity: 1;\"/><g class=\"slicetext\"><text data-notex=\"1\" class=\"slicetext\" transform=\"translate(413.03530379188135,215.64291404709883)\" text-anchor=\"middle\" x=\"0\" y=\"0\" style=\"font-family: 'Open Sans', verdana, arial, sans-serif; font-size: 14px; fill: rgb(255, 255, 255); fill-opacity: 1; white-space: pre;\"><tspan class=\"line\" dy=\"0em\" x=\"0\" y=\"0\">0</tspan><tspan class=\"line\" dy=\"1.3em\" x=\"0\" y=\"0\">34.7%</tspan></text></g></g></g></g><g class=\"iciclelayer\"/><g class=\"treemaplayer\"/><g class=\"sunburstlayer\"/><g class=\"glimages\"/><defs id=\"topdefs-e3f45b\"><g class=\"clips\"/><clipPath id=\"legende3f45b\"><rect width=\"210.6\" height=\"74.6\" x=\"0.7\" y=\"0.7\"/></clipPath></defs><g class=\"layer-above\"><g class=\"imagelayer\"/><g class=\"shapelayer\"/></g><g class=\"infolayer\"><g class=\"legend\" pointer-events=\"all\" transform=\"translate(770,227)\"><rect class=\"bg\" shape-rendering=\"crispEdges\" style=\"stroke: rgb(0, 0, 0); stroke-opacity: 1; fill: rgb(255, 255, 255); fill-opacity: 1; stroke-width: 0.7px;\" width=\"211.3\" height=\"75.3\" x=\"0.35\" y=\"0.35\"/><g class=\"scrollbox\" transform=\"\" clip-path=\"url(#legende3f45b)\"><text class=\"legendtitletext\" text-anchor=\"start\" x=\"2.7\" y=\"22.8\" style=\"font-family: 'Times New Roman'; font-size: 17px; fill: rgb(0, 0, 0); fill-opacity: 1; white-space: pre;\">Homosexual Activity (no/yes)</text><g class=\"groups\"><g class=\"traces\" transform=\"translate(0.7,38.4)\" style=\"opacity: 1;\"><text class=\"legendtext\" text-anchor=\"start\" x=\"40\" y=\"5.46\" style=\"font-family: 'Times New Roman'; font-size: 14px; fill: rgb(0, 0, 0); fill-opacity: 1; white-space: pre;\">1</text><g class=\"layers\" style=\"opacity: 1;\"><g class=\"legendfill\"/><g class=\"legendlines\"/><g class=\"legendsymbols\"><g class=\"legendpoints\"><path class=\"legendpie\" d=\"M6,6H-6V-6H6Z\" transform=\"translate(20,0)\" style=\"fill: rgb(215, 48, 39); fill-opacity: 1; stroke-width: 1; stroke: rgb(0, 0, 0); stroke-opacity: 1;\"/></g></g></g><rect class=\"legendtoggle\" x=\"0\" y=\"-10.6\" width=\"47\" height=\"21.2\" style=\"fill: rgb(0, 0, 0); fill-opacity: 0;\"/></g><g class=\"traces\" transform=\"translate(0.7,59.6)\" style=\"opacity: 1;\"><text class=\"legendtext\" text-anchor=\"start\" x=\"40\" y=\"5.46\" style=\"font-family: 'Times New Roman'; font-size: 14px; fill: rgb(0, 0, 0); fill-opacity: 1; white-space: pre;\">0</text><g class=\"layers\" style=\"opacity: 1;\"><g class=\"legendfill\"/><g class=\"legendlines\"/><g class=\"legendsymbols\"><g class=\"legendpoints\"><path class=\"legendpie\" d=\"M6,6H-6V-6H6Z\" transform=\"translate(20,0)\" style=\"fill: rgb(244, 109, 67); fill-opacity: 1; stroke-width: 1; stroke: rgb(0, 0, 0); stroke-opacity: 1;\"/></g></g></g><rect class=\"legendtoggle\" x=\"0\" y=\"-10.6\" width=\"47\" height=\"21.2\" style=\"fill: rgb(0, 0, 0); fill-opacity: 0;\"/></g></g></g><rect class=\"scrollbar\" rx=\"20\" ry=\"3\" width=\"0\" height=\"0\" x=\"0\" y=\"0\" style=\"fill: rgb(128, 139, 164); fill-opacity: 1;\"/></g><g class=\"g-gtitle\"><text class=\"gtitle\" x=\"210\" y=\"25\" text-anchor=\"middle\" dy=\"0.7em\" style=\"font-family: 'Times New Roman'; font-size: 26px; fill: rgb(0, 0, 0); opacity: 1; font-weight: normal; white-space: pre;\">Distribution of Homosexual Activity</text></g><g class=\"annotation\" data-index=\"0\" style=\"opacity: 1;\"><g class=\"annotation-text-g\" transform=\"rotate(0,500,477.00000000000006)\"><g class=\"cursor-pointer\" transform=\"translate(322,467)\"><rect class=\"bg\" x=\"0.5\" y=\"0.5\" width=\"355\" height=\"19\" style=\"stroke-width: 1px; stroke: rgb(0, 0, 0); stroke-opacity: 0; fill: rgb(0, 0, 0); fill-opacity: 0;\"/><text class=\"annotation-text\" text-anchor=\"middle\" x=\"178.140625\" y=\"15\" style=\"font-family: 'Open Sans', verdana, arial, sans-serif; font-size: 14px; fill: rgb(0, 0, 0); fill-opacity: 1; white-space: pre;\">Majority of patients have indulged in homosexual activity.</text></g></g></g></g></svg>"
      ]
     },
     "metadata": {},
     "output_type": "display_data"
    }
   ],
   "source": [
    "palette = cl.scales['9']['div']['RdYlBu']\n",
    "\n",
    "\n",
    "homo = df['homo'].value_counts().reset_index()\n",
    "homo.columns = ['homo', 'count']\n",
    "\n",
    "fig = go.Figure(data=[go.Pie(\n",
    "    labels=homo['homo'],\n",
    "    values=homo['count'],\n",
    "    marker=dict(colors=palette, line=dict(color='#000000', width=1)),\n",
    "    textinfo=\"label+percent\",\n",
    "    textfont=dict(size=14, color='#FFFFFF')\n",
    ")])\n",
    "\n",
    "\n",
    "fig.update_layout(\n",
    "    title_text=\"Distribution of Homosexual Activity\",\n",
    "    title_font_size=24,\n",
    "    title_font_family=\"Times New Roman\",\n",
    "    title_font_color=\"#000000\",  \n",
    "    paper_bgcolor='#ffffff',  \n",
    "    plot_bgcolor='#ffffff', \n",
    "    showlegend=True,\n",
    "    legend_title_text='Homosexual Activity (no/yes)',\n",
    "    legend=dict(\n",
    "        x=0.8,\n",
    "        y=0.5,\n",
    "        traceorder='normal',\n",
    "        font=dict(\n",
    "            family=\"Times New Roman\",\n",
    "            size=14,\n",
    "            color=\"#000000\"\n",
    "        ),\n",
    "        bgcolor=\"#ffffff\",  \n",
    "        bordercolor=\"#000000\", \n",
    "        borderwidth=0.7,\n",
    "        orientation=\"v\" \n",
    "    )\n",
    ")\n",
    "\n",
    "fig.update_layout(width=1000)\n",
    "\n",
    "fig.update_layout(\n",
    "    title={\n",
    "        'text': \"Distribution of Homosexual Activity\",\n",
    "        'y':0.95,\n",
    "        'x':0.21,\n",
    "        'xanchor': 'center',\n",
    "        'yanchor': 'top'},\n",
    "    title_font_size=26,\n",
    "    margin=dict(l=50, r=50, t=80, b=50)\n",
    ")\n",
    "\n",
    "fig.add_annotation(\n",
    "    text=\"Majority of patients have indulged in homosexual activity.\",\n",
    "    x=0.5,\n",
    "    y=-0.10,\n",
    "    showarrow=False,\n",
    "    font=dict(color=\"#000000\", size=14) \n",
    ")\n",
    "\n",
    "# Show the pie chart\n",
    "fig.show('svg')\n"
   ]
  },
  {
   "cell_type": "markdown",
   "id": "c8f3c195",
   "metadata": {
    "papermill": {
     "duration": 0.039748,
     "end_time": "2024-05-30T17:02:53.752192",
     "exception": false,
     "start_time": "2024-05-30T17:02:53.712444",
     "status": "completed"
    },
    "tags": []
   },
   "source": [
    "----------------------------------------------------------------------------------------------------------------------------------------------------------\n"
   ]
  },
  {
   "cell_type": "markdown",
   "id": "f49feb5d",
   "metadata": {
    "papermill": {
     "duration": 0.039709,
     "end_time": "2024-05-30T17:02:53.832040",
     "exception": false,
     "start_time": "2024-05-30T17:02:53.792331",
     "status": "completed"
    },
    "tags": []
   },
   "source": [
    "## drugs :  history of intravenous (IV) drug use  \n",
    "\n",
    "***Conclusions***\n",
    "- *Majority of the patients do not have a history of drug use*"
   ]
  },
  {
   "cell_type": "code",
   "execution_count": 19,
   "id": "7b4f81b4",
   "metadata": {
    "execution": {
     "iopub.execute_input": "2024-05-30T17:02:53.917221Z",
     "iopub.status.busy": "2024-05-30T17:02:53.916795Z",
     "iopub.status.idle": "2024-05-30T17:02:53.924957Z",
     "shell.execute_reply": "2024-05-30T17:02:53.924159Z"
    },
    "papermill": {
     "duration": 0.0548,
     "end_time": "2024-05-30T17:02:53.927222",
     "exception": false,
     "start_time": "2024-05-30T17:02:53.872422",
     "status": "completed"
    },
    "tags": []
   },
   "outputs": [
    {
     "data": {
      "text/plain": [
       "drugs\n",
       "0    13082\n",
       "1     1918\n",
       "Name: count, dtype: int64"
      ]
     },
     "execution_count": 19,
     "metadata": {},
     "output_type": "execute_result"
    }
   ],
   "source": [
    "df['drugs'].value_counts()"
   ]
  },
  {
   "cell_type": "code",
   "execution_count": 20,
   "id": "3de1f174",
   "metadata": {
    "execution": {
     "iopub.execute_input": "2024-05-30T17:02:54.012270Z",
     "iopub.status.busy": "2024-05-30T17:02:54.011834Z",
     "iopub.status.idle": "2024-05-30T17:02:54.095339Z",
     "shell.execute_reply": "2024-05-30T17:02:54.094243Z"
    },
    "papermill": {
     "duration": 0.129343,
     "end_time": "2024-05-30T17:02:54.097917",
     "exception": false,
     "start_time": "2024-05-30T17:02:53.968574",
     "status": "completed"
    },
    "tags": []
   },
   "outputs": [
    {
     "data": {
      "image/svg+xml": [
       "<svg class=\"main-svg\" xmlns=\"http://www.w3.org/2000/svg\" xmlns:xlink=\"http://www.w3.org/1999/xlink\" width=\"1000\" height=\"500\" style=\"\" viewBox=\"0 0 1000 500\"><rect x=\"0\" y=\"0\" width=\"1000\" height=\"500\" style=\"fill: rgb(255, 255, 255); fill-opacity: 1;\"/><defs id=\"defs-c0bfbf\"><g class=\"clips\"/><g class=\"gradients\"/><g class=\"patterns\"/></defs><g class=\"bglayer\"/><g class=\"layer-below\"><g class=\"imagelayer\"/><g class=\"shapelayer\"/></g><g class=\"cartesianlayer\"/><g class=\"polarlayer\"/><g class=\"smithlayer\"/><g class=\"ternarylayer\"/><g class=\"geolayer\"/><g class=\"funnelarealayer\"/><g class=\"pielayer\"><g class=\"trace\" stroke-linejoin=\"round\" style=\"opacity: 1;\"><g class=\"slice\"><path class=\"surface\" d=\"M500,265l0,-185a185,185 0 1 1 -133.14961683193496,56.562546204353225Z\" style=\"pointer-events: none; fill: rgb(165, 0, 38); fill-opacity: 1; stroke-width: 1; stroke: rgb(0, 0, 0); stroke-opacity: 1;\"/><g class=\"slicetext\"><text data-notex=\"1\" class=\"slicetext\" transform=\"translate(536.166405419611,346.0350401983948)\" text-anchor=\"middle\" x=\"0\" y=\"0\" style=\"font-family: 'Open Sans', verdana, arial, sans-serif; font-size: 14px; fill: rgb(255, 255, 255); fill-opacity: 1; white-space: pre;\"><tspan class=\"line\" dy=\"0em\" x=\"0\" y=\"0\">0</tspan><tspan class=\"line\" dy=\"1.3em\" x=\"0\" y=\"0\">87.2%</tspan></text></g></g><g class=\"slice\"><path class=\"surface\" d=\"M500,265l-133.14961683193494,-128.4374537956468a185,185 0 0 1 133.14961683193494,-56.5625462043532Z\" style=\"pointer-events: none; fill: rgb(215, 48, 39); fill-opacity: 1; stroke-width: 1; stroke: rgb(0, 0, 0); stroke-opacity: 1;\"/><g class=\"slicetext\"><text data-notex=\"1\" class=\"slicetext\" transform=\"translate(447.9989747066623,138.48675243086512)\" text-anchor=\"middle\" x=\"0\" y=\"0\" style=\"font-family: 'Open Sans', verdana, arial, sans-serif; font-size: 14px; fill: rgb(255, 255, 255); fill-opacity: 1; white-space: pre;\"><tspan class=\"line\" dy=\"0em\" x=\"0\" y=\"0\">1</tspan><tspan class=\"line\" dy=\"1.3em\" x=\"0\" y=\"0\">12.8%</tspan></text></g></g></g></g><g class=\"iciclelayer\"/><g class=\"treemaplayer\"/><g class=\"sunburstlayer\"/><g class=\"glimages\"/><defs id=\"topdefs-c0bfbf\"><g class=\"clips\"/><clipPath id=\"legendc0bfbf\"><rect width=\"140.6\" height=\"74.6\" x=\"0.7\" y=\"0.7\"/></clipPath></defs><g class=\"layer-above\"><g class=\"imagelayer\"/><g class=\"shapelayer\"/></g><g class=\"infolayer\"><g class=\"legend\" pointer-events=\"all\" transform=\"translate(770,227)\"><rect class=\"bg\" shape-rendering=\"crispEdges\" style=\"stroke: rgb(0, 0, 0); stroke-opacity: 1; fill: rgb(255, 255, 255); fill-opacity: 1; stroke-width: 0.7px;\" width=\"141.3\" height=\"75.3\" x=\"0.35\" y=\"0.35\"/><g class=\"scrollbox\" transform=\"\" clip-path=\"url(#legendc0bfbf)\"><text class=\"legendtitletext\" text-anchor=\"start\" x=\"2.7\" y=\"22.8\" style=\"font-family: 'Times New Roman'; font-size: 17px; fill: rgb(0, 0, 0); fill-opacity: 1; white-space: pre;\">IV drug use(no/yes)</text><g class=\"groups\"><g class=\"traces\" transform=\"translate(0.7,38.4)\" style=\"opacity: 1;\"><text class=\"legendtext\" text-anchor=\"start\" x=\"40\" y=\"5.46\" style=\"font-family: 'Times New Roman'; font-size: 14px; fill: rgb(0, 0, 0); fill-opacity: 1; white-space: pre;\">0</text><g class=\"layers\" style=\"opacity: 1;\"><g class=\"legendfill\"/><g class=\"legendlines\"/><g class=\"legendsymbols\"><g class=\"legendpoints\"><path class=\"legendpie\" d=\"M6,6H-6V-6H6Z\" transform=\"translate(20,0)\" style=\"fill: rgb(165, 0, 38); fill-opacity: 1; stroke-width: 1; stroke: rgb(0, 0, 0); stroke-opacity: 1;\"/></g></g></g><rect class=\"legendtoggle\" x=\"0\" y=\"-10.6\" width=\"47\" height=\"21.2\" style=\"fill: rgb(0, 0, 0); fill-opacity: 0;\"/></g><g class=\"traces\" transform=\"translate(0.7,59.6)\" style=\"opacity: 1;\"><text class=\"legendtext\" text-anchor=\"start\" x=\"40\" y=\"5.46\" style=\"font-family: 'Times New Roman'; font-size: 14px; fill: rgb(0, 0, 0); fill-opacity: 1; white-space: pre;\">1</text><g class=\"layers\" style=\"opacity: 1;\"><g class=\"legendfill\"/><g class=\"legendlines\"/><g class=\"legendsymbols\"><g class=\"legendpoints\"><path class=\"legendpie\" d=\"M6,6H-6V-6H6Z\" transform=\"translate(20,0)\" style=\"fill: rgb(215, 48, 39); fill-opacity: 1; stroke-width: 1; stroke: rgb(0, 0, 0); stroke-opacity: 1;\"/></g></g></g><rect class=\"legendtoggle\" x=\"0\" y=\"-10.6\" width=\"47\" height=\"21.2\" style=\"fill: rgb(0, 0, 0); fill-opacity: 0;\"/></g></g></g><rect class=\"scrollbar\" rx=\"20\" ry=\"3\" width=\"0\" height=\"0\" x=\"0\" y=\"0\" style=\"fill: rgb(128, 139, 164); fill-opacity: 1;\"/></g><g class=\"g-gtitle\"><text class=\"gtitle\" x=\"210\" y=\"25\" text-anchor=\"middle\" dy=\"0.7em\" style=\"font-family: 'Times New Roman'; font-size: 26px; fill: rgb(0, 0, 0); opacity: 1; font-weight: normal; white-space: pre;\">Distribution of Drug use</text></g><g class=\"annotation\" data-index=\"0\" style=\"opacity: 1;\"><g class=\"annotation-text-g\" transform=\"rotate(0,500,477.00000000000006)\"><g class=\"cursor-pointer\" transform=\"translate(334,467)\"><rect class=\"bg\" x=\"0.5\" y=\"0.5\" width=\"332\" height=\"19\" style=\"stroke-width: 1px; stroke: rgb(0, 0, 0); stroke-opacity: 0; fill: rgb(0, 0, 0); fill-opacity: 0;\"/><text class=\"annotation-text\" text-anchor=\"middle\" x=\"166.59375\" y=\"15\" style=\"font-family: 'Open Sans', verdana, arial, sans-serif; font-size: 14px; fill: rgb(0, 0, 0); fill-opacity: 1; white-space: pre;\">Majority of patients do not have a history of drug use.</text></g></g></g></g></svg>"
      ]
     },
     "metadata": {},
     "output_type": "display_data"
    }
   ],
   "source": [
    "palette = cl.scales['11']['div']['RdYlGn']\n",
    "\n",
    "\n",
    "drug = df['drugs'].value_counts().reset_index()\n",
    "drug.columns = ['drugs', 'count']\n",
    "\n",
    "fig = go.Figure(data=[go.Pie(\n",
    "    labels=drug['drugs'],\n",
    "    values=drug['count'],\n",
    "    marker=dict(colors=palette, line=dict(color='#000000', width=1)),\n",
    "    textinfo=\"label+percent\",\n",
    "    textfont=dict(size=14, color='#FFFFFF')\n",
    ")])\n",
    "\n",
    "\n",
    "fig.update_layout(\n",
    "    title_text=\"Distribution of Drug Use\",\n",
    "    title_font_size=24,\n",
    "    title_font_family=\"Times New Roman\",\n",
    "    title_font_color=\"#000000\",  \n",
    "    paper_bgcolor='#ffffff',  \n",
    "    plot_bgcolor='#ffffff', \n",
    "    showlegend=True,\n",
    "    legend_title_text='IV drug use(no/yes)',\n",
    "    legend=dict(\n",
    "        x=0.8,\n",
    "        y=0.5,\n",
    "        traceorder='normal',\n",
    "        font=dict(\n",
    "            family=\"Times New Roman\",\n",
    "            size=14,\n",
    "            color=\"#000000\"\n",
    "        ),\n",
    "        bgcolor=\"#ffffff\",  \n",
    "        bordercolor=\"#000000\", \n",
    "        borderwidth=0.7,\n",
    "        orientation=\"v\" \n",
    "    )\n",
    ")\n",
    "\n",
    "fig.update_layout(width=1000)\n",
    "\n",
    "fig.update_layout(\n",
    "    title={\n",
    "        'text': \"Distribution of Drug use\",\n",
    "        'y':0.95,\n",
    "        'x':0.21,\n",
    "        'xanchor': 'center',\n",
    "        'yanchor': 'top'},\n",
    "    title_font_size=26,\n",
    "    margin=dict(l=50, r=50, t=80, b=50)\n",
    ")\n",
    "\n",
    "fig.add_annotation(\n",
    "    text=\"Majority of patients do not have a history of drug use.\",\n",
    "    x=0.5,\n",
    "    y=-0.10,\n",
    "    showarrow=False,\n",
    "    font=dict(color=\"#000000\", size=14) \n",
    ")\n",
    "\n",
    "# Show the pie chart\n",
    "fig.show('svg')\n"
   ]
  },
  {
   "cell_type": "markdown",
   "id": "5d965330",
   "metadata": {
    "papermill": {
     "duration": 0.04188,
     "end_time": "2024-05-30T17:02:54.180910",
     "exception": false,
     "start_time": "2024-05-30T17:02:54.139030",
     "status": "completed"
    },
    "tags": []
   },
   "source": [
    "----------------------------------------------------------------------------------------------------------------------------------------------------------"
   ]
  },
  {
   "cell_type": "markdown",
   "id": "562dca49",
   "metadata": {
    "papermill": {
     "duration": 0.044469,
     "end_time": "2024-05-30T17:02:54.267493",
     "exception": false,
     "start_time": "2024-05-30T17:02:54.223024",
     "status": "completed"
    },
    "tags": []
   },
   "source": [
    "## karnof: Karnofsky score (on a scale of 0-100)\n",
    "\n",
    "***About***\n",
    "<div>\n",
    "    <p>\n",
    "The Karnofsky Performance Status (KPS) is a widely used measure of functional status and overall well-being in patients with various medical conditions, including AIDS  \n",
    "    In the context of AIDS, the Karnofsky score is particularly relevant for evaluating the impact of the disease on a patient's functional status and determining appropriate treatment and supportive care interventions. The score is typically assessed through a brief clinical evaluation and is based on the patient's ability to perform activities such as self-care, ambulation, and work.\n",
    "\n",
    "The Karnofsky score ranges from 0 to 100, with higher scores indicating better functional status and overall well-being. </p>\n",
    "        <ul>\n",
    "            <li>\n",
    "                100: Normal, no evidence of disease, able to carry on normal activities without any restrictions.\n",
    "            </li>\n",
    "            <li>\n",
    "                90: Able to carry on normal activities with minimal signs or symptoms of disease.\n",
    "            </li>\n",
    "            <li>\n",
    "                80: Normal activities with some signs or symptoms of disease, but generally able to care for oneself.\n",
    "            </li>\n",
    "            <li>\n",
    "                70: Cares for self but unable to carry on normal activities or to do active work.\n",
    "            </li>\n",
    "            <li>\n",
    "                60: Requires occasional assistance, but is able to care for most personal needs.\n",
    "            </li>\n",
    "            <li>\n",
    "                50: Requires considerable assistance and frequent medical care.\n",
    "            </li>\n",
    "            <li>\n",
    "                40: Disabled, requires special care and assistance.\n",
    "            </li>\n",
    "            <li>\n",
    "                30: Severely disabled, hospitalization is indicated, although death is not imminent.\n",
    "            </li>\n",
    "            <li>\n",
    "                20: Very sick, hospitalization necessary, active supportive treatment necessary.\n",
    "            </li>\n",
    "            <li>\n",
    "                10: Moribund, fatal processes progressing rapidly.\n",
    "            </li>\n",
    "            <li>\n",
    "                0: Dead.\n",
    "            </li>\n",
    "        </ul>\n",
    "</div>\n",
    "\n",
    "\n",
    "***Conclusions***\n",
    "\n",
    "- *The distribution is negatively skewed as most of the patients have karnfosky score of 100 which is a good sign*"
   ]
  },
  {
   "cell_type": "code",
   "execution_count": 21,
   "id": "92717a26",
   "metadata": {
    "execution": {
     "iopub.execute_input": "2024-05-30T17:02:54.353773Z",
     "iopub.status.busy": "2024-05-30T17:02:54.353289Z",
     "iopub.status.idle": "2024-05-30T17:02:54.365277Z",
     "shell.execute_reply": "2024-05-30T17:02:54.364248Z"
    },
    "papermill": {
     "duration": 0.058216,
     "end_time": "2024-05-30T17:02:54.367922",
     "exception": false,
     "start_time": "2024-05-30T17:02:54.309706",
     "status": "completed"
    },
    "tags": []
   },
   "outputs": [
    {
     "data": {
      "text/plain": [
       "karnof\n",
       "100    10512\n",
       "90      4106\n",
       "80       117\n",
       "81       103\n",
       "82        60\n",
       "79        60\n",
       "83        18\n",
       "91        15\n",
       "78         8\n",
       "77         1\n",
       "Name: count, dtype: int64"
      ]
     },
     "execution_count": 21,
     "metadata": {},
     "output_type": "execute_result"
    }
   ],
   "source": [
    "df['karnof'].value_counts().sort_values(ascending = False)"
   ]
  },
  {
   "cell_type": "markdown",
   "id": "059df013",
   "metadata": {
    "papermill": {
     "duration": 0.04077,
     "end_time": "2024-05-30T17:02:54.449690",
     "exception": false,
     "start_time": "2024-05-30T17:02:54.408920",
     "status": "completed"
    },
    "tags": []
   },
   "source": [
    "*Most of the people have the karnofsky score of 100*"
   ]
  },
  {
   "cell_type": "code",
   "execution_count": 22,
   "id": "3baac58d",
   "metadata": {
    "execution": {
     "iopub.execute_input": "2024-05-30T17:02:54.532974Z",
     "iopub.status.busy": "2024-05-30T17:02:54.532515Z",
     "iopub.status.idle": "2024-05-30T17:02:54.694672Z",
     "shell.execute_reply": "2024-05-30T17:02:54.693310Z"
    },
    "papermill": {
     "duration": 0.206945,
     "end_time": "2024-05-30T17:02:54.697504",
     "exception": false,
     "start_time": "2024-05-30T17:02:54.490559",
     "status": "completed"
    },
    "tags": []
   },
   "outputs": [
    {
     "data": {
      "image/svg+xml": [
       "<svg class=\"main-svg\" xmlns=\"http://www.w3.org/2000/svg\" xmlns:xlink=\"http://www.w3.org/1999/xlink\" width=\"1000\" height=\"500\" style=\"\" viewBox=\"0 0 1000 500\"><rect x=\"0\" y=\"0\" width=\"1000\" height=\"500\" style=\"fill: rgb(255, 255, 255); fill-opacity: 1;\"/><defs id=\"defs-2a0e3b\"><g class=\"clips\"><clipPath id=\"clip2a0e3bxyplot\" class=\"plotclip\"><rect width=\"893\" height=\"367\"/></clipPath><clipPath class=\"axesclip\" id=\"clip2a0e3bx\"><rect x=\"57\" y=\"0\" width=\"893\" height=\"500\"/></clipPath><clipPath class=\"axesclip\" id=\"clip2a0e3by\"><rect x=\"0\" y=\"80\" width=\"1000\" height=\"367\"/></clipPath><clipPath class=\"axesclip\" id=\"clip2a0e3bxy\"><rect x=\"57\" y=\"80\" width=\"893\" height=\"367\"/></clipPath></g><g class=\"gradients\"/><g class=\"patterns\"/></defs><g class=\"bglayer\"/><g class=\"layer-below\"><g class=\"imagelayer\"/><g class=\"shapelayer\"/></g><g class=\"cartesianlayer\"><g class=\"subplot xy\"><g class=\"layer-subplot\"><g class=\"shapelayer\"/><g class=\"imagelayer\"/></g><g class=\"minor-gridlayer\"><g class=\"x\"/><g class=\"y\"/></g><g class=\"gridlayer\"><g class=\"x\"/><g class=\"y\"><path class=\"ygrid crisp\" transform=\"translate(0,380.67)\" d=\"M57,0h893\" style=\"stroke: rgb(255, 255, 255); stroke-opacity: 1; stroke-width: 1px;\"/><path class=\"ygrid crisp\" transform=\"translate(0,314.33000000000004)\" d=\"M57,0h893\" style=\"stroke: rgb(255, 255, 255); stroke-opacity: 1; stroke-width: 1px;\"/><path class=\"ygrid crisp\" transform=\"translate(0,248)\" d=\"M57,0h893\" style=\"stroke: rgb(255, 255, 255); stroke-opacity: 1; stroke-width: 1px;\"/><path class=\"ygrid crisp\" transform=\"translate(0,181.67000000000002)\" d=\"M57,0h893\" style=\"stroke: rgb(255, 255, 255); stroke-opacity: 1; stroke-width: 1px;\"/><path class=\"ygrid crisp\" transform=\"translate(0,115.33)\" d=\"M57,0h893\" style=\"stroke: rgb(255, 255, 255); stroke-opacity: 1; stroke-width: 1px;\"/></g></g><g class=\"zerolinelayer\"><path class=\"yzl zl crisp\" transform=\"translate(0,447)\" d=\"M57,0h893\" style=\"stroke: rgb(255, 255, 255); stroke-opacity: 1; stroke-width: 2px;\"/></g><path class=\"xlines-below\"/><path class=\"ylines-below\"/><g class=\"overlines-below\"/><g class=\"xaxislayer-below\"/><g class=\"yaxislayer-below\"/><g class=\"overaxes-below\"/><g class=\"plot\" transform=\"translate(57,80)\" clip-path=\"url(#clip2a0e3bxyplot)\"><g class=\"barlayer mlayer\"><g class=\"trace bars\" shape-rendering=\"crispEdges\" style=\"opacity: 1;\"><g class=\"points\"><g class=\"point\"><path d=\"M0,367V364.71H148.83V367Z\" style=\"vector-effect: none; opacity: 1; stroke-width: 0px; fill: rgb(215, 48, 39); fill-opacity: 1;\"/></g><g class=\"point\"><path d=\"M148.83,367V357.12H297.67V367Z\" style=\"vector-effect: none; opacity: 1; stroke-width: 0px; fill: rgb(215, 48, 39); fill-opacity: 1;\"/></g><g class=\"point\"><path d=\"M0,0Z\" style=\"vector-effect: none; opacity: 1; stroke-width: 0px; fill: rgb(215, 48, 39); fill-opacity: 1;\"/></g><g class=\"point\"><path d=\"M446.5,367V230.32H595.33V367Z\" style=\"vector-effect: none; opacity: 1; stroke-width: 0px; fill: rgb(215, 48, 39); fill-opacity: 1;\"/></g><g class=\"point\"><path d=\"M0,0Z\" style=\"vector-effect: none; opacity: 1; stroke-width: 0px; fill: rgb(215, 48, 39); fill-opacity: 1;\"/></g><g class=\"point\"><path d=\"M744.17,367V18.35H893V367Z\" style=\"vector-effect: none; opacity: 1; stroke-width: 0px; fill: rgb(215, 48, 39); fill-opacity: 1;\"/></g></g></g></g></g><g class=\"overplot\"/><path class=\"xlines-above crisp\" d=\"M0,0\" style=\"fill: none;\"/><path class=\"ylines-above crisp\" d=\"M0,0\" style=\"fill: none;\"/><g class=\"overlines-above\"/><g class=\"xaxislayer-above\"><g class=\"xtick\"><text text-anchor=\"middle\" x=\"0\" y=\"460\" transform=\"translate(71.88,0)\" style=\"font-family: 'Open Sans', verdana, arial, sans-serif; font-size: 12px; fill: rgb(42, 63, 95); fill-opacity: 1; white-space: pre; opacity: 1;\">75</text></g><g class=\"xtick\"><text text-anchor=\"middle\" x=\"0\" y=\"460\" style=\"font-family: 'Open Sans', verdana, arial, sans-serif; font-size: 12px; fill: rgb(42, 63, 95); fill-opacity: 1; white-space: pre; opacity: 1;\" transform=\"translate(220.72,0)\">80</text></g><g class=\"xtick\"><text text-anchor=\"middle\" x=\"0\" y=\"460\" style=\"font-family: 'Open Sans', verdana, arial, sans-serif; font-size: 12px; fill: rgb(42, 63, 95); fill-opacity: 1; white-space: pre; opacity: 1;\" transform=\"translate(369.55,0)\">85</text></g><g class=\"xtick\"><text text-anchor=\"middle\" x=\"0\" y=\"460\" style=\"font-family: 'Open Sans', verdana, arial, sans-serif; font-size: 12px; fill: rgb(42, 63, 95); fill-opacity: 1; white-space: pre; opacity: 1;\" transform=\"translate(518.38,0)\">90</text></g><g class=\"xtick\"><text text-anchor=\"middle\" x=\"0\" y=\"460\" style=\"font-family: 'Open Sans', verdana, arial, sans-serif; font-size: 12px; fill: rgb(42, 63, 95); fill-opacity: 1; white-space: pre; opacity: 1;\" transform=\"translate(667.22,0)\">95</text></g><g class=\"xtick\"><text text-anchor=\"middle\" x=\"0\" y=\"460\" style=\"font-family: 'Open Sans', verdana, arial, sans-serif; font-size: 12px; fill: rgb(42, 63, 95); fill-opacity: 1; white-space: pre; opacity: 1;\" transform=\"translate(816.05,0)\">100</text></g></g><g class=\"yaxislayer-above\"><g class=\"ytick\"><text text-anchor=\"end\" x=\"56\" y=\"4.199999999999999\" transform=\"translate(0,447)\" style=\"font-family: 'Open Sans', verdana, arial, sans-serif; font-size: 12px; fill: rgb(42, 63, 95); fill-opacity: 1; white-space: pre; opacity: 1;\">0</text></g><g class=\"ytick\"><text text-anchor=\"end\" x=\"56\" y=\"4.199999999999999\" style=\"font-family: 'Open Sans', verdana, arial, sans-serif; font-size: 12px; fill: rgb(42, 63, 95); fill-opacity: 1; white-space: pre; opacity: 1;\" transform=\"translate(0,380.67)\">2k</text></g><g class=\"ytick\"><text text-anchor=\"end\" x=\"56\" y=\"4.199999999999999\" style=\"font-family: 'Open Sans', verdana, arial, sans-serif; font-size: 12px; fill: rgb(42, 63, 95); fill-opacity: 1; white-space: pre; opacity: 1;\" transform=\"translate(0,314.33000000000004)\">4k</text></g><g class=\"ytick\"><text text-anchor=\"end\" x=\"56\" y=\"4.199999999999999\" style=\"font-family: 'Open Sans', verdana, arial, sans-serif; font-size: 12px; fill: rgb(42, 63, 95); fill-opacity: 1; white-space: pre; opacity: 1;\" transform=\"translate(0,248)\">6k</text></g><g class=\"ytick\"><text text-anchor=\"end\" x=\"56\" y=\"4.199999999999999\" style=\"font-family: 'Open Sans', verdana, arial, sans-serif; font-size: 12px; fill: rgb(42, 63, 95); fill-opacity: 1; white-space: pre; opacity: 1;\" transform=\"translate(0,181.67000000000002)\">8k</text></g><g class=\"ytick\"><text text-anchor=\"end\" x=\"56\" y=\"4.199999999999999\" style=\"font-family: 'Open Sans', verdana, arial, sans-serif; font-size: 12px; fill: rgb(42, 63, 95); fill-opacity: 1; white-space: pre; opacity: 1;\" transform=\"translate(0,115.33)\">10k</text></g></g><g class=\"overaxes-above\"/></g></g><g class=\"polarlayer\"/><g class=\"smithlayer\"/><g class=\"ternarylayer\"/><g class=\"geolayer\"/><g class=\"funnelarealayer\"/><g class=\"pielayer\"/><g class=\"iciclelayer\"/><g class=\"treemaplayer\"/><g class=\"sunburstlayer\"/><g class=\"glimages\"/><defs id=\"topdefs-2a0e3b\"><g class=\"clips\"/></defs><g class=\"layer-above\"><g class=\"imagelayer\"/><g class=\"shapelayer\"/></g><g class=\"infolayer\"><g class=\"g-gtitle\"><text class=\"gtitle\" x=\"210\" y=\"25\" text-anchor=\"middle\" dy=\"0.7em\" style=\"font-family: 'Times New Roman'; font-size: 26px; fill: rgb(0, 0, 0); opacity: 1; font-weight: normal; white-space: pre;\">Karnofsky Score Distribution</text></g><g class=\"g-xtitle\"><text class=\"xtitle\" x=\"503.5\" y=\"487.3\" text-anchor=\"middle\" style=\"font-family: 'Open Sans', verdana, arial, sans-serif; font-size: 14px; fill: rgb(42, 63, 95); opacity: 1; font-weight: normal; white-space: pre;\">Karnofsky Score</text></g><g class=\"g-ytitle\" transform=\"translate(0.6591796875,0)\"><text class=\"ytitle\" transform=\"rotate(-90,12.340625000000003,263.5)\" x=\"12.340625000000003\" y=\"263.5\" text-anchor=\"middle\" style=\"font-family: 'Open Sans', verdana, arial, sans-serif; font-size: 14px; fill: rgb(42, 63, 95); opacity: 1; font-weight: normal; white-space: pre;\">Frequency</text></g></g></svg>"
      ]
     },
     "metadata": {},
     "output_type": "display_data"
    }
   ],
   "source": [
    "fig = go.Figure(data=[go.Histogram(\n",
    "    x=df['karnof'],\n",
    "    marker=dict(color=palette[1]),  # Use the second color from the palette\n",
    "    nbinsx=10\n",
    ")])\n",
    "\n",
    "# Update layout\n",
    "fig.update_layout(\n",
    "    title_text=\"Karnofsky Score Distribution\",\n",
    "    title_font_size=24,\n",
    "    title_font_family=\"Times New Roman\",\n",
    "    title_font_color=\"#000000\",\n",
    "    paper_bgcolor='#ffffff',\n",
    "    plot_bgcolor='#ffffff',\n",
    "    xaxis=dict(title=\"Karnofsky Score\"),\n",
    "    yaxis=dict(title=\"Frequency\"),\n",
    ")\n",
    "\n",
    "# Set title properties\n",
    "fig.update_layout(\n",
    "    title={\n",
    "        'text': \"Karnofsky Score Distribution\",\n",
    "        'y':0.95,\n",
    "        'x':0.21,\n",
    "        'xanchor': 'center',\n",
    "        'yanchor': 'top'},\n",
    "    title_font_size=26,\n",
    "    margin=dict(l=50, r=50, t=80, b=50)\n",
    ")\n",
    "\n",
    "# Set the width of the figure\n",
    "fig.update_layout(width=1000)\n",
    "\n",
    "# Show the histogram\n",
    "fig.show('svg')"
   ]
  },
  {
   "cell_type": "code",
   "execution_count": 23,
   "id": "fb981e03",
   "metadata": {
    "execution": {
     "iopub.execute_input": "2024-05-30T17:02:54.788265Z",
     "iopub.status.busy": "2024-05-30T17:02:54.786850Z",
     "iopub.status.idle": "2024-05-30T17:02:54.971611Z",
     "shell.execute_reply": "2024-05-30T17:02:54.970337Z"
    },
    "papermill": {
     "duration": 0.233697,
     "end_time": "2024-05-30T17:02:54.974150",
     "exception": false,
     "start_time": "2024-05-30T17:02:54.740453",
     "status": "completed"
    },
    "tags": []
   },
   "outputs": [
    {
     "data": {
      "image/png": "[encoded data removed]"
     },
     "metadata": {},
     "output_type": "display_data"
    }
   ],
   "source": [
    "fig = go.Figure(data=[go.Box(\n",
    "    x=df['karnof'],\n",
    "    marker=dict(color=palette[1])\n",
    ")])\n",
    "\n",
    "fig.update_layout(\n",
    "    title_text=\"Boxplot of Karnofsky Score\",\n",
    "    title_font_size=24,\n",
    "    title_font_family=\"Times New Roman\",\n",
    "    title_font_color=\"#000000\",  \n",
    "    paper_bgcolor='#ffffff',  \n",
    "    plot_bgcolor='#ffffff',  \n",
    "    xaxis=dict(title=\"Karnofsky score\"),\n",
    ")\n",
    "\n",
    "fig.update_layout(\n",
    "    title={\n",
    "        'y':0.95,\n",
    "        'x':0.15,\n",
    "        'xanchor': 'center',\n",
    "        'yanchor': 'top'},\n",
    "    title_font_size=26,\n",
    "    margin=dict(l=50, r=50, t=80, b=50)\n",
    ")\n",
    "\n",
    "\n",
    "\n",
    "fig.update_layout(width=1000)\n",
    "\n",
    "fig.show('png')"
   ]
  },
  {
   "cell_type": "code",
   "execution_count": 24,
   "id": "4993cfff",
   "metadata": {
    "execution": {
     "iopub.execute_input": "2024-05-30T17:02:55.062296Z",
     "iopub.status.busy": "2024-05-30T17:02:55.061902Z",
     "iopub.status.idle": "2024-05-30T17:02:55.070770Z",
     "shell.execute_reply": "2024-05-30T17:02:55.069572Z"
    },
    "papermill": {
     "duration": 0.057007,
     "end_time": "2024-05-30T17:02:55.073950",
     "exception": false,
     "start_time": "2024-05-30T17:02:55.016943",
     "status": "completed"
    },
    "tags": []
   },
   "outputs": [
    {
     "data": {
      "text/plain": [
       "-1.243294303843015"
      ]
     },
     "execution_count": 24,
     "metadata": {},
     "output_type": "execute_result"
    }
   ],
   "source": [
    "df['karnof'].skew()"
   ]
  },
  {
   "cell_type": "markdown",
   "id": "98847926",
   "metadata": {
    "papermill": {
     "duration": 0.042005,
     "end_time": "2024-05-30T17:02:55.157669",
     "exception": false,
     "start_time": "2024-05-30T17:02:55.115664",
     "status": "completed"
    },
    "tags": []
   },
   "source": [
    "*negatively skewed data*"
   ]
  },
  {
   "cell_type": "markdown",
   "id": "75668af6",
   "metadata": {
    "papermill": {
     "duration": 0.041522,
     "end_time": "2024-05-30T17:02:55.240971",
     "exception": false,
     "start_time": "2024-05-30T17:02:55.199449",
     "status": "completed"
    },
    "tags": []
   },
   "source": [
    "----------------------------------------------------------------------------------------------------------------------------------------------------------"
   ]
  },
  {
   "cell_type": "markdown",
   "id": "98293503",
   "metadata": {
    "papermill": {
     "duration": 0.041274,
     "end_time": "2024-05-30T17:02:55.327507",
     "exception": false,
     "start_time": "2024-05-30T17:02:55.286233",
     "status": "completed"
    },
    "tags": []
   },
   "source": [
    "## oprior: Non-ZDV antiretroviral therapy pre-175 \n",
    "\n",
    "***About***\n",
    "\n",
    "<div>\n",
    "    <p>\n",
    "        Antiretroviral therapy (ART) is a critical component of managing HIV infection, and non-ZDV therapies refer to antiretroviral medications other than Zidovudine. Monitoring the administration of such therapies in the context of AIDS infection datasets helps researchers understand the impact of different treatment regimens on disease progression, patient outcomes, and overall healthcare management strategies.\n",
    "        </p>\n",
    "    <br>\n",
    "    <p>\n",
    "        \"oprior\"  represents whether non-ZDV (Zidovudine) antiretroviral therapy was administered prior to 175 weeks (approximately 3.3 years) of observation. The values \"0\" typically indicate \"no\" or absence of the treatment, while \"1\" signifies \"yes\" or presence of the treatment.\n",
    "       </p>\n",
    "   \n",
    "   </div>\n",
    "   \n",
    "***Conclusion***\n",
    "\n",
    "- *Majority of the patients were not administered the antiretroviral therapy*"
   ]
  },
  {
   "cell_type": "code",
   "execution_count": 25,
   "id": "f4f54bb7",
   "metadata": {
    "execution": {
     "iopub.execute_input": "2024-05-30T17:02:55.413984Z",
     "iopub.status.busy": "2024-05-30T17:02:55.413209Z",
     "iopub.status.idle": "2024-05-30T17:02:55.421423Z",
     "shell.execute_reply": "2024-05-30T17:02:55.420277Z"
    },
    "papermill": {
     "duration": 0.053448,
     "end_time": "2024-05-30T17:02:55.423687",
     "exception": false,
     "start_time": "2024-05-30T17:02:55.370239",
     "status": "completed"
    },
    "tags": []
   },
   "outputs": [
    {
     "data": {
      "text/plain": [
       "oprior\n",
       "0    14384\n",
       "1      616\n",
       "Name: count, dtype: int64"
      ]
     },
     "execution_count": 25,
     "metadata": {},
     "output_type": "execute_result"
    }
   ],
   "source": [
    "df['oprior'].value_counts()"
   ]
  },
  {
   "cell_type": "markdown",
   "id": "4fc8fce7",
   "metadata": {
    "papermill": {
     "duration": 0.041774,
     "end_time": "2024-05-30T17:02:55.507775",
     "exception": false,
     "start_time": "2024-05-30T17:02:55.466001",
     "status": "completed"
    },
    "tags": []
   },
   "source": [
    "*antiretroviral therapy was `not` administered in majority of the patients*"
   ]
  },
  {
   "cell_type": "markdown",
   "id": "df3ddbe6",
   "metadata": {
    "papermill": {
     "duration": 0.041267,
     "end_time": "2024-05-30T17:02:55.590107",
     "exception": false,
     "start_time": "2024-05-30T17:02:55.548840",
     "status": "completed"
    },
    "tags": []
   },
   "source": [
    "----------------------------------------------------------------------------------------------------------------------------------------------------------"
   ]
  },
  {
   "cell_type": "markdown",
   "id": "b8b782ee",
   "metadata": {
    "papermill": {
     "duration": 0.042613,
     "end_time": "2024-05-30T17:02:55.675020",
     "exception": false,
     "start_time": "2024-05-30T17:02:55.632407",
     "status": "completed"
    },
    "tags": []
   },
   "source": [
    "## z30: ZDV in the 30 days prior to 175\n",
    "\n",
    "***About***\n",
    "\n",
    "<div>\n",
    "    <p>\n",
    "       The variable \"z30\" refers to whether Zidovudine (ZDV), an antiretroviral medication, was administered in the 30 days prior to the 175-week mark of observation. \n",
    "        </p>\n",
    "    <br>\n",
    "    <p>\n",
    "        Zidovudine, also known as AZT, was one of the first drugs used to treat HIV and remains an important component of antiretroviral therapy. By examining the \"z30\" variable, researchers can assess the short-term use of ZDV leading up to the 175-week mark and its potential impact on patient outcomes. \n",
    "       </p>\n",
    "   \n",
    "   </div>\n",
    "   \n",
    "***Conclusion***\n",
    "\n",
    "- *No evident high correlation*\n",
    "- *Most of the patients were administered the drug*"
   ]
  },
  {
   "cell_type": "code",
   "execution_count": 26,
   "id": "2a77e7a9",
   "metadata": {
    "execution": {
     "iopub.execute_input": "2024-05-30T17:02:55.762985Z",
     "iopub.status.busy": "2024-05-30T17:02:55.761537Z",
     "iopub.status.idle": "2024-05-30T17:02:55.771872Z",
     "shell.execute_reply": "2024-05-30T17:02:55.770545Z"
    },
    "papermill": {
     "duration": 0.057551,
     "end_time": "2024-05-30T17:02:55.774705",
     "exception": false,
     "start_time": "2024-05-30T17:02:55.717154",
     "status": "completed"
    },
    "tags": []
   },
   "outputs": [
    {
     "data": {
      "text/plain": [
       "z30\n",
       "1    9688\n",
       "0    5312\n",
       "Name: count, dtype: int64"
      ]
     },
     "execution_count": 26,
     "metadata": {},
     "output_type": "execute_result"
    }
   ],
   "source": [
    "df['z30'].value_counts()"
   ]
  },
  {
   "cell_type": "code",
   "execution_count": 27,
   "id": "43de7262",
   "metadata": {
    "execution": {
     "iopub.execute_input": "2024-05-30T17:02:55.860296Z",
     "iopub.status.busy": "2024-05-30T17:02:55.859909Z",
     "iopub.status.idle": "2024-05-30T17:02:55.898357Z",
     "shell.execute_reply": "2024-05-30T17:02:55.897180Z"
    },
    "papermill": {
     "duration": 0.084458,
     "end_time": "2024-05-30T17:02:55.901279",
     "exception": false,
     "start_time": "2024-05-30T17:02:55.816821",
     "status": "completed"
    },
    "tags": []
   },
   "outputs": [
    {
     "data": {
      "text/plain": [
       "time         -8.618930\n",
       "trt           2.173557\n",
       "age          13.073698\n",
       "wtkg         -8.469138\n",
       "hemo          6.097358\n",
       "homo          0.272864\n",
       "drugs        -3.663879\n",
       "karnof      -12.277447\n",
       "oprior        5.348880\n",
       "z30         100.000000\n",
       "preanti      42.378861\n",
       "race         -9.860449\n",
       "gender       -1.681352\n",
       "str2         60.919072\n",
       "strat        57.333837\n",
       "symptom       1.727802\n",
       "treat         3.788999\n",
       "offtrt       -0.473082\n",
       "cd40        -20.962515\n",
       "cd420       -28.923362\n",
       "cd80         -2.207320\n",
       "cd820         0.621898\n",
       "infected     23.716859\n",
       "Name: z30, dtype: float64"
      ]
     },
     "execution_count": 27,
     "metadata": {},
     "output_type": "execute_result"
    }
   ],
   "source": [
    "df.corr()['z30']*100\n"
   ]
  },
  {
   "cell_type": "markdown",
   "id": "286043f9",
   "metadata": {
    "papermill": {
     "duration": 0.041973,
     "end_time": "2024-05-30T17:02:55.985539",
     "exception": false,
     "start_time": "2024-05-30T17:02:55.943566",
     "status": "completed"
    },
    "tags": []
   },
   "source": [
    "*z30 doesn't seem to have a high correlation with most of the variables. `str2 :antiretroviral history ` and z30 are slightly correlated* "
   ]
  },
  {
   "cell_type": "code",
   "execution_count": 28,
   "id": "9fac1fab",
   "metadata": {
    "execution": {
     "iopub.execute_input": "2024-05-30T17:02:56.072777Z",
     "iopub.status.busy": "2024-05-30T17:02:56.072374Z",
     "iopub.status.idle": "2024-05-30T17:02:56.148893Z",
     "shell.execute_reply": "2024-05-30T17:02:56.147619Z"
    },
    "papermill": {
     "duration": 0.124456,
     "end_time": "2024-05-30T17:02:56.151503",
     "exception": false,
     "start_time": "2024-05-30T17:02:56.027047",
     "status": "completed"
    },
    "tags": []
   },
   "outputs": [
    {
     "data": {
      "image/svg+xml": [
       "<svg class=\"main-svg\" xmlns=\"http://www.w3.org/2000/svg\" xmlns:xlink=\"http://www.w3.org/1999/xlink\" width=\"1000\" height=\"500\" style=\"\" viewBox=\"0 0 1000 500\"><rect x=\"0\" y=\"0\" width=\"1000\" height=\"500\" style=\"fill: rgb(255, 255, 255); fill-opacity: 1;\"/><defs id=\"defs-09c405\"><g class=\"clips\"/><g class=\"gradients\"/><g class=\"patterns\"/></defs><g class=\"bglayer\"/><g class=\"layer-below\"><g class=\"imagelayer\"/><g class=\"shapelayer\"/></g><g class=\"cartesianlayer\"/><g class=\"polarlayer\"/><g class=\"smithlayer\"/><g class=\"ternarylayer\"/><g class=\"geolayer\"/><g class=\"funnelarealayer\"/><g class=\"pielayer\"><g class=\"trace\" stroke-linejoin=\"round\" style=\"opacity: 1;\"><g class=\"slice\"><path class=\"surface\" d=\"M500,265l0,-185a185,185 0 1 1 -146.79395199334738,297.5901223828042Z\" style=\"pointer-events: none; fill: rgb(165, 0, 38); fill-opacity: 1; stroke-width: 1; stroke: rgb(0, 0, 0); stroke-opacity: 1;\"/><g class=\"slicetext\"><text data-notex=\"1\" class=\"slicetext\" transform=\"translate(582.9564438732903,301.8188287481009)\" text-anchor=\"middle\" x=\"0\" y=\"0\" style=\"font-family: 'Open Sans', verdana, arial, sans-serif; font-size: 14px; fill: rgb(255, 255, 255); fill-opacity: 1; white-space: pre;\"><tspan class=\"line\" dy=\"0em\" x=\"0\" y=\"0\">1</tspan><tspan class=\"line\" dy=\"1.3em\" x=\"0\" y=\"0\">64.6%</tspan></text></g></g><g class=\"slice\"><path class=\"surface\" d=\"M500,265l-146.7939519933474,112.59012238280415a185,185 0 0 1 146.7939519933474,-297.59012238280417Z\" style=\"pointer-events: none; fill: rgb(215, 48, 39); fill-opacity: 1; stroke-width: 1; stroke: rgb(0, 0, 0); stroke-opacity: 1;\"/><g class=\"slicetext\"><text data-notex=\"1\" class=\"slicetext\" transform=\"translate(412.5313281304058,217.75227419142576)\" text-anchor=\"middle\" x=\"0\" y=\"0\" style=\"font-family: 'Open Sans', verdana, arial, sans-serif; font-size: 14px; fill: rgb(255, 255, 255); fill-opacity: 1; white-space: pre;\"><tspan class=\"line\" dy=\"0em\" x=\"0\" y=\"0\">0</tspan><tspan class=\"line\" dy=\"1.3em\" x=\"0\" y=\"0\">35.4%</tspan></text></g></g></g></g><g class=\"iciclelayer\"/><g class=\"treemaplayer\"/><g class=\"sunburstlayer\"/><g class=\"glimages\"/><defs id=\"topdefs-09c405\"><g class=\"clips\"/><clipPath id=\"legend09c405\"><rect width=\"156.6\" height=\"74.6\" x=\"0.7\" y=\"0.7\"/></clipPath></defs><g class=\"layer-above\"><g class=\"imagelayer\"/><g class=\"shapelayer\"/></g><g class=\"infolayer\"><g class=\"legend\" pointer-events=\"all\" transform=\"translate(770,227)\"><rect class=\"bg\" shape-rendering=\"crispEdges\" style=\"stroke: rgb(0, 0, 0); stroke-opacity: 1; fill: rgb(255, 255, 255); fill-opacity: 1; stroke-width: 0.7px;\" width=\"157.3\" height=\"75.3\" x=\"0.35\" y=\"0.35\"/><g class=\"scrollbox\" transform=\"\" clip-path=\"url(#legend09c405)\"><text class=\"legendtitletext\" text-anchor=\"start\" x=\"2.7\" y=\"22.8\" style=\"font-family: 'Times New Roman'; font-size: 17px; fill: rgb(0, 0, 0); fill-opacity: 1; white-space: pre;\">Administered (no/yes)</text><g class=\"groups\"><g class=\"traces\" transform=\"translate(0.7,38.4)\" style=\"opacity: 1;\"><text class=\"legendtext\" text-anchor=\"start\" x=\"40\" y=\"5.46\" style=\"font-family: 'Times New Roman'; font-size: 14px; fill: rgb(0, 0, 0); fill-opacity: 1; white-space: pre;\">1</text><g class=\"layers\" style=\"opacity: 1;\"><g class=\"legendfill\"/><g class=\"legendlines\"/><g class=\"legendsymbols\"><g class=\"legendpoints\"><path class=\"legendpie\" d=\"M6,6H-6V-6H6Z\" transform=\"translate(20,0)\" style=\"fill: rgb(165, 0, 38); fill-opacity: 1; stroke-width: 1; stroke: rgb(0, 0, 0); stroke-opacity: 1;\"/></g></g></g><rect class=\"legendtoggle\" x=\"0\" y=\"-10.6\" width=\"47\" height=\"21.2\" style=\"fill: rgb(0, 0, 0); fill-opacity: 0;\"/></g><g class=\"traces\" transform=\"translate(0.7,59.6)\" style=\"opacity: 1;\"><text class=\"legendtext\" text-anchor=\"start\" x=\"40\" y=\"5.46\" style=\"font-family: 'Times New Roman'; font-size: 14px; fill: rgb(0, 0, 0); fill-opacity: 1; white-space: pre;\">0</text><g class=\"layers\" style=\"opacity: 1;\"><g class=\"legendfill\"/><g class=\"legendlines\"/><g class=\"legendsymbols\"><g class=\"legendpoints\"><path class=\"legendpie\" d=\"M6,6H-6V-6H6Z\" transform=\"translate(20,0)\" style=\"fill: rgb(215, 48, 39); fill-opacity: 1; stroke-width: 1; stroke: rgb(0, 0, 0); stroke-opacity: 1;\"/></g></g></g><rect class=\"legendtoggle\" x=\"0\" y=\"-10.6\" width=\"47\" height=\"21.2\" style=\"fill: rgb(0, 0, 0); fill-opacity: 0;\"/></g></g></g><rect class=\"scrollbar\" rx=\"20\" ry=\"3\" width=\"0\" height=\"0\" x=\"0\" y=\"0\" style=\"fill: rgb(128, 139, 164); fill-opacity: 1;\"/></g><g class=\"g-gtitle\"><text class=\"gtitle\" x=\"210\" y=\"25\" text-anchor=\"middle\" dy=\"0.7em\" style=\"font-family: 'Times New Roman'; font-size: 26px; fill: rgb(0, 0, 0); opacity: 1; font-weight: normal; white-space: pre;\">Distribution of administration of ZDV</text></g><g class=\"annotation\" data-index=\"0\" style=\"opacity: 1;\"><g class=\"annotation-text-g\" transform=\"rotate(0,500,477.00000000000006)\"><g class=\"cursor-pointer\" transform=\"translate(317,467)\"><rect class=\"bg\" x=\"0.5\" y=\"0.5\" width=\"366\" height=\"19\" style=\"stroke-width: 1px; stroke: rgb(0, 0, 0); stroke-opacity: 0; fill: rgb(0, 0, 0); fill-opacity: 0;\"/><text class=\"annotation-text\" text-anchor=\"middle\" x=\"183.3125\" y=\"15\" style=\"font-family: 'Open Sans', verdana, arial, sans-serif; font-size: 14px; fill: rgb(0, 0, 0); fill-opacity: 1; white-space: pre;\">Majority of patients were administered ZDV in the 30 days.</text></g></g></g></g></svg>"
      ]
     },
     "metadata": {},
     "output_type": "display_data"
    }
   ],
   "source": [
    "\n",
    "palette = cl.scales['11']['div']['RdYlGn']\n",
    "\n",
    "\n",
    "z30 = df['z30'].value_counts().reset_index()\n",
    "z30.columns = ['z30', 'count']\n",
    "\n",
    "fig = go.Figure(data=[go.Pie(\n",
    "    labels=z30['z30'],\n",
    "    values=z30['count'],\n",
    "    marker=dict(colors=palette, line=dict(color='#000000', width=1)),\n",
    "    textinfo=\"label+percent\",\n",
    "    textfont=dict(size=14, color='#FFFFFF')\n",
    ")])\n",
    "\n",
    "\n",
    "fig.update_layout(\n",
    "    title_text=\"Distribution of administration of ZDV\",\n",
    "    title_font_size=24,\n",
    "    title_font_family=\"Times New Roman\",\n",
    "    title_font_color=\"#000000\",  \n",
    "    paper_bgcolor='#ffffff',  \n",
    "    plot_bgcolor='#ffffff', \n",
    "    showlegend=True,\n",
    "    legend_title_text='Administered (no/yes)',\n",
    "    legend=dict(\n",
    "        x=0.8,\n",
    "        y=0.5,\n",
    "        traceorder='normal',\n",
    "        font=dict(\n",
    "            family=\"Times New Roman\",\n",
    "            size=14,\n",
    "            color=\"#000000\"\n",
    "        ),\n",
    "        bgcolor=\"#ffffff\",  \n",
    "        bordercolor=\"#000000\", \n",
    "        borderwidth=0.7,\n",
    "        orientation=\"v\" \n",
    "    )\n",
    ")\n",
    "\n",
    "fig.update_layout(width=1000)\n",
    "\n",
    "fig.update_layout(\n",
    "    title={\n",
    "        'text': \"Distribution of administration of ZDV\",\n",
    "        'y':0.95,\n",
    "        'x':0.21,\n",
    "        'xanchor': 'center',\n",
    "        'yanchor': 'top'},\n",
    "    title_font_size=26,\n",
    "    margin=dict(l=50, r=50, t=80, b=50)\n",
    ")\n",
    "\n",
    "fig.add_annotation(\n",
    "    text=\"Majority of patients were administered ZDV in the 30 days.\",\n",
    "    x=0.5,\n",
    "    y=-0.10,\n",
    "    showarrow=False,\n",
    "    font=dict(color=\"#000000\", size=14) \n",
    ")\n",
    "\n",
    "# Show the pie chart\n",
    "fig.show('svg')\n"
   ]
  },
  {
   "cell_type": "markdown",
   "id": "18b4f0d8",
   "metadata": {
    "papermill": {
     "duration": 0.04192,
     "end_time": "2024-05-30T17:02:56.237888",
     "exception": false,
     "start_time": "2024-05-30T17:02:56.195968",
     "status": "completed"
    },
    "tags": []
   },
   "source": [
    "----------------------------------------------------------------------------------------------------------------------------------------------------------"
   ]
  },
  {
   "cell_type": "markdown",
   "id": "8cd4756d",
   "metadata": {
    "papermill": {
     "duration": 0.043368,
     "end_time": "2024-05-30T17:02:56.324597",
     "exception": false,
     "start_time": "2024-05-30T17:02:56.281229",
     "status": "completed"
    },
    "tags": []
   },
   "source": [
    "## preanti: days pre-175 anti-retroviral therapy\n",
    "\n",
    "***About***\n",
    "\n",
    "<div>\n",
    "    <p>\n",
    "preanti means the number of days or the duration (in days, weeks, or another time unit) that a patient has been on anti-retroviral therapy before reaching the 175-week mark since the start of observation or treatment.       \n",
    "    \n",
    "   </p>\n",
    " </div>\n",
    "   \n",
    "***Conclusion***\n",
    "\n",
    "- *Mean is high as compared to the meadian, there are outliers present.*\n",
    "\n",
    "- *Standard deviation is high. A standard deviation of 400 days indicates that the durations of ART among patients vary widely around the mean. This means that some patients may have had very short durations of therapy, while others had very long durations, relative to the average.*\n"
   ]
  },
  {
   "cell_type": "code",
   "execution_count": 29,
   "id": "24c18aed",
   "metadata": {
    "execution": {
     "iopub.execute_input": "2024-05-30T17:02:56.412491Z",
     "iopub.status.busy": "2024-05-30T17:02:56.411818Z",
     "iopub.status.idle": "2024-05-30T17:02:56.423181Z",
     "shell.execute_reply": "2024-05-30T17:02:56.422021Z"
    },
    "papermill": {
     "duration": 0.059454,
     "end_time": "2024-05-30T17:02:56.426224",
     "exception": false,
     "start_time": "2024-05-30T17:02:56.366770",
     "status": "completed"
    },
    "tags": []
   },
   "outputs": [
    {
     "data": {
      "text/plain": [
       "count    15000.000000\n",
       "mean       315.619067\n",
       "std        400.272034\n",
       "min          0.000000\n",
       "25%          0.000000\n",
       "50%        124.000000\n",
       "75%        495.000000\n",
       "max       2851.000000\n",
       "Name: preanti, dtype: float64"
      ]
     },
     "execution_count": 29,
     "metadata": {},
     "output_type": "execute_result"
    }
   ],
   "source": [
    "df['preanti'].describe()"
   ]
  },
  {
   "cell_type": "markdown",
   "id": "b5e7d401",
   "metadata": {
    "papermill": {
     "duration": 0.041518,
     "end_time": "2024-05-30T17:02:56.512288",
     "exception": false,
     "start_time": "2024-05-30T17:02:56.470770",
     "status": "completed"
    },
    "tags": []
   },
   "source": [
    "*There is a huge distinction between the mean and median. There is possibly some amount of skewness in the data*"
   ]
  },
  {
   "cell_type": "code",
   "execution_count": 30,
   "id": "f555ad1d",
   "metadata": {
    "execution": {
     "iopub.execute_input": "2024-05-30T17:02:56.599067Z",
     "iopub.status.busy": "2024-05-30T17:02:56.598659Z",
     "iopub.status.idle": "2024-05-30T17:02:56.766187Z",
     "shell.execute_reply": "2024-05-30T17:02:56.765082Z"
    },
    "papermill": {
     "duration": 0.215002,
     "end_time": "2024-05-30T17:02:56.769906",
     "exception": false,
     "start_time": "2024-05-30T17:02:56.554904",
     "status": "completed"
    },
    "tags": []
   },
   "outputs": [
    {
     "data": {
      "image/svg+xml": [
       "<svg class=\"main-svg\" xmlns=\"http://www.w3.org/2000/svg\" xmlns:xlink=\"http://www.w3.org/1999/xlink\" width=\"1000\" height=\"500\" style=\"\" viewBox=\"0 0 1000 500\"><rect x=\"0\" y=\"0\" width=\"1000\" height=\"500\" style=\"fill: rgb(255, 255, 255); fill-opacity: 1;\"/><defs id=\"defs-b8e3d1\"><g class=\"clips\"><clipPath id=\"clipb8e3d1xyplot\" class=\"plotclip\"><rect width=\"893\" height=\"367\"/></clipPath><clipPath class=\"axesclip\" id=\"clipb8e3d1x\"><rect x=\"57\" y=\"0\" width=\"893\" height=\"500\"/></clipPath><clipPath class=\"axesclip\" id=\"clipb8e3d1y\"><rect x=\"0\" y=\"80\" width=\"1000\" height=\"367\"/></clipPath><clipPath class=\"axesclip\" id=\"clipb8e3d1xy\"><rect x=\"57\" y=\"80\" width=\"893\" height=\"367\"/></clipPath></g><g class=\"gradients\"/><g class=\"patterns\"/></defs><g class=\"bglayer\"/><g class=\"layer-below\"><g class=\"imagelayer\"/><g class=\"shapelayer\"/></g><g class=\"cartesianlayer\"><g class=\"subplot xy\"><g class=\"layer-subplot\"><g class=\"shapelayer\"/><g class=\"imagelayer\"/></g><g class=\"minor-gridlayer\"><g class=\"x\"/><g class=\"y\"/></g><g class=\"gridlayer\"><g class=\"x\"/><g class=\"y\"><path class=\"ygrid crisp\" transform=\"translate(0,385.23)\" d=\"M57,0h893\" style=\"stroke: rgb(255, 255, 255); stroke-opacity: 1; stroke-width: 1px;\"/><path class=\"ygrid crisp\" transform=\"translate(0,323.45)\" d=\"M57,0h893\" style=\"stroke: rgb(255, 255, 255); stroke-opacity: 1; stroke-width: 1px;\"/><path class=\"ygrid crisp\" transform=\"translate(0,261.68)\" d=\"M57,0h893\" style=\"stroke: rgb(255, 255, 255); stroke-opacity: 1; stroke-width: 1px;\"/><path class=\"ygrid crisp\" transform=\"translate(0,199.91)\" d=\"M57,0h893\" style=\"stroke: rgb(255, 255, 255); stroke-opacity: 1; stroke-width: 1px;\"/><path class=\"ygrid crisp\" transform=\"translate(0,138.13)\" d=\"M57,0h893\" style=\"stroke: rgb(255, 255, 255); stroke-opacity: 1; stroke-width: 1px;\"/></g></g><g class=\"zerolinelayer\"><path class=\"yzl zl crisp\" transform=\"translate(0,447)\" d=\"M57,0h893\" style=\"stroke: rgb(255, 255, 255); stroke-opacity: 1; stroke-width: 2px;\"/></g><path class=\"xlines-below\"/><path class=\"ylines-below\"/><g class=\"overlines-below\"/><g class=\"xaxislayer-below\"/><g class=\"yaxislayer-below\"/><g class=\"overaxes-below\"/><g class=\"plot\" transform=\"translate(57,80)\" clip-path=\"url(#clipb8e3d1xyplot)\"><g class=\"barlayer mlayer\"><g class=\"trace bars\" shape-rendering=\"crispEdges\" style=\"opacity: 1;\"><g class=\"points\"><g class=\"point\"><path d=\"M0,367V18.35H148.83V367Z\" style=\"vector-effect: none; opacity: 1; stroke-width: 0px; fill: rgb(8, 69, 148); fill-opacity: 1;\"/></g><g class=\"point\"><path d=\"M148.83,367V283.88H297.67V367Z\" style=\"vector-effect: none; opacity: 1; stroke-width: 0px; fill: rgb(8, 69, 148); fill-opacity: 1;\"/></g><g class=\"point\"><path d=\"M297.67,367V339.76H446.5V367Z\" style=\"vector-effect: none; opacity: 1; stroke-width: 0px; fill: rgb(8, 69, 148); fill-opacity: 1;\"/></g><g class=\"point\"><path d=\"M446.5,367V363.02H595.33V367Z\" style=\"vector-effect: none; opacity: 1; stroke-width: 0px; fill: rgb(8, 69, 148); fill-opacity: 1;\"/></g><g class=\"point\"><path d=\"M595.33,367V366.78H744.17V367Z\" style=\"vector-effect: none; opacity: 1; stroke-width: 0px; fill: rgb(8, 69, 148); fill-opacity: 1;\"/></g><g class=\"point\"><path d=\"M744.17,367V366.91H893V367Z\" style=\"vector-effect: none; opacity: 1; stroke-width: 0px; fill: rgb(8, 69, 148); fill-opacity: 1;\"/></g></g></g></g></g><g class=\"overplot\"/><path class=\"xlines-above crisp\" d=\"M0,0\" style=\"fill: none;\"/><path class=\"ylines-above crisp\" d=\"M0,0\" style=\"fill: none;\"/><g class=\"overlines-above\"/><g class=\"xaxislayer-above\"><g class=\"xtick\"><text text-anchor=\"middle\" x=\"0\" y=\"460\" transform=\"translate(57.15,0)\" style=\"font-family: 'Open Sans', verdana, arial, sans-serif; font-size: 12px; fill: rgb(42, 63, 95); fill-opacity: 1; white-space: pre; opacity: 1;\">0</text></g><g class=\"xtick\"><text text-anchor=\"middle\" x=\"0\" y=\"460\" style=\"font-family: 'Open Sans', verdana, arial, sans-serif; font-size: 12px; fill: rgb(42, 63, 95); fill-opacity: 1; white-space: pre; opacity: 1;\" transform=\"translate(205.98,0)\">500</text></g><g class=\"xtick\"><text text-anchor=\"middle\" x=\"0\" y=\"460\" style=\"font-family: 'Open Sans', verdana, arial, sans-serif; font-size: 12px; fill: rgb(42, 63, 95); fill-opacity: 1; white-space: pre; opacity: 1;\" transform=\"translate(354.82,0)\">1000</text></g><g class=\"xtick\"><text text-anchor=\"middle\" x=\"0\" y=\"460\" style=\"font-family: 'Open Sans', verdana, arial, sans-serif; font-size: 12px; fill: rgb(42, 63, 95); fill-opacity: 1; white-space: pre; opacity: 1;\" transform=\"translate(503.65,0)\">1500</text></g><g class=\"xtick\"><text text-anchor=\"middle\" x=\"0\" y=\"460\" style=\"font-family: 'Open Sans', verdana, arial, sans-serif; font-size: 12px; fill: rgb(42, 63, 95); fill-opacity: 1; white-space: pre; opacity: 1;\" transform=\"translate(652.48,0)\">2000</text></g><g class=\"xtick\"><text text-anchor=\"middle\" x=\"0\" y=\"460\" style=\"font-family: 'Open Sans', verdana, arial, sans-serif; font-size: 12px; fill: rgb(42, 63, 95); fill-opacity: 1; white-space: pre; opacity: 1;\" transform=\"translate(801.32,0)\">2500</text></g></g><g class=\"yaxislayer-above\"><g class=\"ytick\"><text text-anchor=\"end\" x=\"56\" y=\"4.199999999999999\" transform=\"translate(0,447)\" style=\"font-family: 'Open Sans', verdana, arial, sans-serif; font-size: 12px; fill: rgb(42, 63, 95); fill-opacity: 1; white-space: pre; opacity: 1;\">0</text></g><g class=\"ytick\"><text text-anchor=\"end\" x=\"56\" y=\"4.199999999999999\" style=\"font-family: 'Open Sans', verdana, arial, sans-serif; font-size: 12px; fill: rgb(42, 63, 95); fill-opacity: 1; white-space: pre; opacity: 1;\" transform=\"translate(0,385.23)\">2k</text></g><g class=\"ytick\"><text text-anchor=\"end\" x=\"56\" y=\"4.199999999999999\" style=\"font-family: 'Open Sans', verdana, arial, sans-serif; font-size: 12px; fill: rgb(42, 63, 95); fill-opacity: 1; white-space: pre; opacity: 1;\" transform=\"translate(0,323.45)\">4k</text></g><g class=\"ytick\"><text text-anchor=\"end\" x=\"56\" y=\"4.199999999999999\" style=\"font-family: 'Open Sans', verdana, arial, sans-serif; font-size: 12px; fill: rgb(42, 63, 95); fill-opacity: 1; white-space: pre; opacity: 1;\" transform=\"translate(0,261.68)\">6k</text></g><g class=\"ytick\"><text text-anchor=\"end\" x=\"56\" y=\"4.199999999999999\" style=\"font-family: 'Open Sans', verdana, arial, sans-serif; font-size: 12px; fill: rgb(42, 63, 95); fill-opacity: 1; white-space: pre; opacity: 1;\" transform=\"translate(0,199.91)\">8k</text></g><g class=\"ytick\"><text text-anchor=\"end\" x=\"56\" y=\"4.199999999999999\" style=\"font-family: 'Open Sans', verdana, arial, sans-serif; font-size: 12px; fill: rgb(42, 63, 95); fill-opacity: 1; white-space: pre; opacity: 1;\" transform=\"translate(0,138.13)\">10k</text></g></g><g class=\"overaxes-above\"/></g></g><g class=\"polarlayer\"/><g class=\"smithlayer\"/><g class=\"ternarylayer\"/><g class=\"geolayer\"/><g class=\"funnelarealayer\"/><g class=\"pielayer\"/><g class=\"iciclelayer\"/><g class=\"treemaplayer\"/><g class=\"sunburstlayer\"/><g class=\"glimages\"/><defs id=\"topdefs-b8e3d1\"><g class=\"clips\"/></defs><g class=\"layer-above\"><g class=\"imagelayer\"/><g class=\"shapelayer\"/></g><g class=\"infolayer\"><g class=\"g-gtitle\"><text class=\"gtitle\" x=\"310\" y=\"25\" text-anchor=\"middle\" dy=\"0.7em\" style=\"font-family: 'Times New Roman'; font-size: 26px; fill: rgb(0, 0, 0); opacity: 1; font-weight: normal; white-space: pre;\">Distribution of days patient has been on ART</text></g><g class=\"g-xtitle\"><text class=\"xtitle\" x=\"503.5\" y=\"487.3\" text-anchor=\"middle\" style=\"font-family: 'Open Sans', verdana, arial, sans-serif; font-size: 14px; fill: rgb(42, 63, 95); opacity: 1; font-weight: normal; white-space: pre;\">Days</text></g><g class=\"g-ytitle\" transform=\"translate(0.6591796875,0)\"><text class=\"ytitle\" transform=\"rotate(-90,12.340625000000003,263.5)\" x=\"12.340625000000003\" y=\"263.5\" text-anchor=\"middle\" style=\"font-family: 'Open Sans', verdana, arial, sans-serif; font-size: 14px; fill: rgb(42, 63, 95); opacity: 1; font-weight: normal; white-space: pre;\">Frequency</text></g></g></svg>"
      ]
     },
     "metadata": {},
     "output_type": "display_data"
    }
   ],
   "source": [
    "palette = cl.scales['8']['seq']['Blues']\n",
    "\n",
    "fig = go.Figure(data=[go.Histogram(\n",
    "    x=df['preanti'],\n",
    "    marker=dict(color=palette[7]),  # Use the second color from the palette\n",
    "    nbinsx=10\n",
    ")])\n",
    "\n",
    "# Update layout\n",
    "fig.update_layout(\n",
    "    title_text=\"Distribution of days patient has been on ART\",\n",
    "    title_font_size=24,\n",
    "    title_font_family=\"Times New Roman\",\n",
    "    title_font_color=\"#000000\",\n",
    "    paper_bgcolor='#ffffff',\n",
    "    plot_bgcolor='#ffffff',\n",
    "    xaxis=dict(title=\"Days\"),\n",
    "    yaxis=dict(title=\"Frequency\"),\n",
    ")\n",
    "\n",
    "# Set title properties\n",
    "fig.update_layout(\n",
    "    title={\n",
    "        'text': \"Distribution of days patient has been on ART\",\n",
    "        'y':0.95,\n",
    "        'x':0.31,\n",
    "        'xanchor': 'center',\n",
    "        'yanchor': 'top'},\n",
    "    title_font_size=26,\n",
    "    margin=dict(l=50, r=50, t=80, b=50)\n",
    ")\n",
    "\n",
    "# Set the width of the figure\n",
    "fig.update_layout(width=1000)\n",
    "\n",
    "# Show the histogram\n",
    "fig.show('svg')"
   ]
  },
  {
   "cell_type": "markdown",
   "id": "4f8c6886",
   "metadata": {
    "papermill": {
     "duration": 0.044822,
     "end_time": "2024-05-30T17:02:56.862154",
     "exception": false,
     "start_time": "2024-05-30T17:02:56.817332",
     "status": "completed"
    },
    "tags": []
   },
   "source": [
    "*highly positively skewed distribution*"
   ]
  },
  {
   "cell_type": "code",
   "execution_count": 31,
   "id": "7e9ab86f",
   "metadata": {
    "execution": {
     "iopub.execute_input": "2024-05-30T17:02:56.973772Z",
     "iopub.status.busy": "2024-05-30T17:02:56.973360Z",
     "iopub.status.idle": "2024-05-30T17:02:57.274546Z",
     "shell.execute_reply": "2024-05-30T17:02:57.271926Z"
    },
    "papermill": {
     "duration": 0.36135,
     "end_time": "2024-05-30T17:02:57.278300",
     "exception": false,
     "start_time": "2024-05-30T17:02:56.916950",
     "status": "completed"
    },
    "tags": []
   },
   "outputs": [
    {
     "data": {
      "image/png": "[encoded data removed]"
     },
     "metadata": {},
     "output_type": "display_data"
    }
   ],
   "source": [
    "\n",
    "palette = cl.scales['11']['div']['PuOr']\n",
    "fig = go.Figure(data=[go.Box(\n",
    "    x=df['preanti'],\n",
    "    marker=dict(color=palette[1])\n",
    ")])\n",
    "\n",
    "fig.update_layout(\n",
    "    title_text=\"Boxplot of preanti\",\n",
    "    title_font_size=24,\n",
    "    title_font_family=\"Times New Roman\",\n",
    "    title_font_color=\"#000000\",  \n",
    "    paper_bgcolor='#ffffff',  \n",
    "    plot_bgcolor='#ffffff',  \n",
    "    xaxis=dict(title=\"Karnofsky score\"),\n",
    ")\n",
    "\n",
    "fig.update_layout(\n",
    "    title={\n",
    "        'y':0.95,\n",
    "        'x':0.15,\n",
    "        'xanchor': 'center',\n",
    "        'yanchor': 'top'},\n",
    "    title_font_size=26,\n",
    "    margin=dict(l=50, r=50, t=80, b=50)\n",
    ")\n",
    "\n",
    "\n",
    "\n",
    "fig.update_layout(width=1000)\n",
    "\n",
    "fig.show('png')"
   ]
  },
  {
   "cell_type": "markdown",
   "id": "232d827c",
   "metadata": {
    "papermill": {
     "duration": 0.053962,
     "end_time": "2024-05-30T17:02:57.379482",
     "exception": false,
     "start_time": "2024-05-30T17:02:57.325520",
     "status": "completed"
    },
    "tags": []
   },
   "source": [
    "*Most outliers are present after 1235 days. This means some patients were administered ART for more than 1235 days before the 175 week mark*"
   ]
  },
  {
   "cell_type": "markdown",
   "id": "7e72c794",
   "metadata": {
    "papermill": {
     "duration": 0.043968,
     "end_time": "2024-05-30T17:02:57.468523",
     "exception": false,
     "start_time": "2024-05-30T17:02:57.424555",
     "status": "completed"
    },
    "tags": []
   },
   "source": [
    "----------------------------------------------------------------------------------------------------------------------------------------------------------"
   ]
  },
  {
   "cell_type": "markdown",
   "id": "96634700",
   "metadata": {
    "papermill": {
     "duration": 0.043745,
     "end_time": "2024-05-30T17:02:57.556724",
     "exception": false,
     "start_time": "2024-05-30T17:02:57.512979",
     "status": "completed"
    },
    "tags": []
   },
   "source": [
    "## Race\n",
    "\n",
    "***Conclusions***\n",
    "- *Majority of the patients are white*\n",
    "\n",
    "- *There is no strong correlation of race with any other variable*"
   ]
  },
  {
   "cell_type": "code",
   "execution_count": 32,
   "id": "2742bc2b",
   "metadata": {
    "execution": {
     "iopub.execute_input": "2024-05-30T17:02:57.648261Z",
     "iopub.status.busy": "2024-05-30T17:02:57.647428Z",
     "iopub.status.idle": "2024-05-30T17:02:57.658442Z",
     "shell.execute_reply": "2024-05-30T17:02:57.657078Z"
    },
    "papermill": {
     "duration": 0.06007,
     "end_time": "2024-05-30T17:02:57.661565",
     "exception": false,
     "start_time": "2024-05-30T17:02:57.601495",
     "status": "completed"
    },
    "tags": []
   },
   "outputs": [
    {
     "data": {
      "text/plain": [
       "race\n",
       "0    10486\n",
       "1     4514\n",
       "Name: count, dtype: int64"
      ]
     },
     "execution_count": 32,
     "metadata": {},
     "output_type": "execute_result"
    }
   ],
   "source": [
    "df['race'].value_counts()"
   ]
  },
  {
   "cell_type": "code",
   "execution_count": 33,
   "id": "bed8ecab",
   "metadata": {
    "execution": {
     "iopub.execute_input": "2024-05-30T17:02:57.757809Z",
     "iopub.status.busy": "2024-05-30T17:02:57.756813Z",
     "iopub.status.idle": "2024-05-30T17:02:57.834826Z",
     "shell.execute_reply": "2024-05-30T17:02:57.833493Z"
    },
    "papermill": {
     "duration": 0.129601,
     "end_time": "2024-05-30T17:02:57.837841",
     "exception": false,
     "start_time": "2024-05-30T17:02:57.708240",
     "status": "completed"
    },
    "tags": []
   },
   "outputs": [
    {
     "data": {
      "image/svg+xml": [
       "<svg class=\"main-svg\" xmlns=\"http://www.w3.org/2000/svg\" xmlns:xlink=\"http://www.w3.org/1999/xlink\" width=\"1000\" height=\"500\" style=\"\" viewBox=\"0 0 1000 500\"><rect x=\"0\" y=\"0\" width=\"1000\" height=\"500\" style=\"fill: rgb(255, 255, 255); fill-opacity: 1;\"/><defs id=\"defs-425a35\"><g class=\"clips\"/><g class=\"gradients\"/><g class=\"patterns\"/></defs><g class=\"bglayer\"/><g class=\"layer-below\"><g class=\"imagelayer\"/><g class=\"shapelayer\"/></g><g class=\"cartesianlayer\"/><g class=\"polarlayer\"/><g class=\"smithlayer\"/><g class=\"ternarylayer\"/><g class=\"geolayer\"/><g class=\"funnelarealayer\"/><g class=\"pielayer\"><g class=\"trace\" stroke-linejoin=\"round\" style=\"opacity: 1;\"><g class=\"slice\"><path class=\"surface\" d=\"M500,265l0,-185a185,185 0 1 1 -175.60718054893636,243.19895308038855Z\" style=\"pointer-events: none; fill: rgb(84, 48, 5); fill-opacity: 1; stroke-width: 1; stroke: rgb(0, 0, 0); stroke-opacity: 1;\"/><g class=\"slicetext\"><text data-notex=\"1\" class=\"slicetext\" transform=\"translate(574.9931716223816,315.0489149680336)\" text-anchor=\"middle\" x=\"0\" y=\"0\" style=\"font-family: 'Open Sans', verdana, arial, sans-serif; font-size: 14px; fill: rgb(255, 255, 255); fill-opacity: 1; white-space: pre;\"><tspan class=\"line\" dy=\"0em\" x=\"0\" y=\"0\">0</tspan><tspan class=\"line\" dy=\"1.3em\" x=\"0\" y=\"0\">69.9%</tspan></text></g></g><g class=\"slice\"><path class=\"surface\" d=\"M500,265l-175.60718054893638,58.1989530803885a185,185 0 0 1 175.60718054893638,-243.1989530803885Z\" style=\"pointer-events: none; fill: rgb(140, 81, 10); fill-opacity: 1; stroke-width: 1; stroke: rgb(0, 0, 0); stroke-opacity: 1;\"/><g class=\"slicetext\"><text data-notex=\"1\" class=\"slicetext\" transform=\"translate(417.1683441434893,201.08800920282897)\" text-anchor=\"middle\" x=\"0\" y=\"0\" style=\"font-family: 'Open Sans', verdana, arial, sans-serif; font-size: 14px; fill: rgb(255, 255, 255); fill-opacity: 1; white-space: pre;\"><tspan class=\"line\" dy=\"0em\" x=\"0\" y=\"0\">1</tspan><tspan class=\"line\" dy=\"1.3em\" x=\"0\" y=\"0\">30.1%</tspan></text></g></g></g></g><g class=\"iciclelayer\"/><g class=\"treemaplayer\"/><g class=\"sunburstlayer\"/><g class=\"glimages\"/><defs id=\"topdefs-425a35\"><g class=\"clips\"/><clipPath id=\"legend425a35\"><rect width=\"165.6\" height=\"74.6\" x=\"0.7\" y=\"0.7\"/></clipPath></defs><g class=\"layer-above\"><g class=\"imagelayer\"/><g class=\"shapelayer\"/></g><g class=\"infolayer\"><g class=\"legend\" pointer-events=\"all\" transform=\"translate(770,227)\"><rect class=\"bg\" shape-rendering=\"crispEdges\" style=\"stroke: rgb(0, 0, 0); stroke-opacity: 1; fill: rgb(255, 255, 255); fill-opacity: 1; stroke-width: 0.7px;\" width=\"166.3\" height=\"75.3\" x=\"0.35\" y=\"0.35\"/><g class=\"scrollbox\" transform=\"\" clip-path=\"url(#legend425a35)\"><text class=\"legendtitletext\" text-anchor=\"start\" x=\"2.7\" y=\"22.8\" style=\"font-family: 'Times New Roman'; font-size: 17px; fill: rgb(0, 0, 0); fill-opacity: 1; white-space: pre;\">Race (white/non-white)</text><g class=\"groups\"><g class=\"traces\" transform=\"translate(0.7,38.4)\" style=\"opacity: 1;\"><text class=\"legendtext\" text-anchor=\"start\" x=\"40\" y=\"5.46\" style=\"font-family: 'Times New Roman'; font-size: 14px; fill: rgb(0, 0, 0); fill-opacity: 1; white-space: pre;\">0</text><g class=\"layers\" style=\"opacity: 1;\"><g class=\"legendfill\"/><g class=\"legendlines\"/><g class=\"legendsymbols\"><g class=\"legendpoints\"><path class=\"legendpie\" d=\"M6,6H-6V-6H6Z\" transform=\"translate(20,0)\" style=\"fill: rgb(84, 48, 5); fill-opacity: 1; stroke-width: 1; stroke: rgb(0, 0, 0); stroke-opacity: 1;\"/></g></g></g><rect class=\"legendtoggle\" x=\"0\" y=\"-10.6\" width=\"47\" height=\"21.2\" style=\"fill: rgb(0, 0, 0); fill-opacity: 0;\"/></g><g class=\"traces\" transform=\"translate(0.7,59.6)\" style=\"opacity: 1;\"><text class=\"legendtext\" text-anchor=\"start\" x=\"40\" y=\"5.46\" style=\"font-family: 'Times New Roman'; font-size: 14px; fill: rgb(0, 0, 0); fill-opacity: 1; white-space: pre;\">1</text><g class=\"layers\" style=\"opacity: 1;\"><g class=\"legendfill\"/><g class=\"legendlines\"/><g class=\"legendsymbols\"><g class=\"legendpoints\"><path class=\"legendpie\" d=\"M6,6H-6V-6H6Z\" transform=\"translate(20,0)\" style=\"fill: rgb(140, 81, 10); fill-opacity: 1; stroke-width: 1; stroke: rgb(0, 0, 0); stroke-opacity: 1;\"/></g></g></g><rect class=\"legendtoggle\" x=\"0\" y=\"-10.6\" width=\"47\" height=\"21.2\" style=\"fill: rgb(0, 0, 0); fill-opacity: 0;\"/></g></g></g><rect class=\"scrollbar\" rx=\"20\" ry=\"3\" width=\"0\" height=\"0\" x=\"0\" y=\"0\" style=\"fill: rgb(128, 139, 164); fill-opacity: 1;\"/></g><g class=\"g-gtitle\"><text class=\"gtitle\" x=\"210\" y=\"25\" text-anchor=\"middle\" dy=\"0.7em\" style=\"font-family: 'Times New Roman'; font-size: 26px; fill: rgb(0, 0, 0); opacity: 1; font-weight: normal; white-space: pre;\">Distribution of race</text></g><g class=\"annotation\" data-index=\"0\" style=\"opacity: 1;\"><g class=\"annotation-text-g\" transform=\"rotate(0,500,477.00000000000006)\"><g class=\"cursor-pointer\" transform=\"translate(404,467)\"><rect class=\"bg\" x=\"0.5\" y=\"0.5\" width=\"192\" height=\"19\" style=\"stroke-width: 1px; stroke: rgb(0, 0, 0); stroke-opacity: 0; fill: rgb(0, 0, 0); fill-opacity: 0;\"/><text class=\"annotation-text\" text-anchor=\"middle\" x=\"96.15625\" y=\"15\" style=\"font-family: 'Open Sans', verdana, arial, sans-serif; font-size: 14px; fill: rgb(0, 0, 0); fill-opacity: 1; white-space: pre;\">Majority of patients were white</text></g></g></g></g></svg>"
      ]
     },
     "metadata": {},
     "output_type": "display_data"
    }
   ],
   "source": [
    "\n",
    "palette = cl.scales['10']['div']['BrBG']\n",
    "\n",
    "\n",
    "race = df['race'].value_counts().reset_index()\n",
    "race.columns = ['race', 'count']\n",
    "\n",
    "fig = go.Figure(data=[go.Pie(\n",
    "    labels=race['race'],\n",
    "    values=race['count'],\n",
    "    marker=dict(colors=palette, line=dict(color='#000000', width=1)),\n",
    "    textinfo=\"label+percent\",\n",
    "    textfont=dict(size=14, color='#FFFFFF')\n",
    ")])\n",
    "\n",
    "\n",
    "fig.update_layout(\n",
    "    title_text=\"Distribution of race\",\n",
    "    title_font_size=24,\n",
    "    title_font_family=\"Times New Roman\",\n",
    "    title_font_color=\"#000000\",  \n",
    "    paper_bgcolor='#ffffff',  \n",
    "    plot_bgcolor='#ffffff', \n",
    "    showlegend=True,\n",
    "    legend_title_text='Race (white/non-white)',\n",
    "    legend=dict(\n",
    "        x=0.8,\n",
    "        y=0.5,\n",
    "        traceorder='normal',\n",
    "        font=dict(\n",
    "            family=\"Times New Roman\",\n",
    "            size=14,\n",
    "            color=\"#000000\"\n",
    "        ),\n",
    "        bgcolor=\"#ffffff\",  \n",
    "        bordercolor=\"#000000\", \n",
    "        borderwidth=0.7,\n",
    "        orientation=\"v\" \n",
    "    )\n",
    ")\n",
    "\n",
    "fig.update_layout(width=1000)\n",
    "\n",
    "fig.update_layout(\n",
    "    title={\n",
    "        'text': \"Distribution of race\",\n",
    "        'y':0.95,\n",
    "        'x':0.21,\n",
    "        'xanchor': 'center',\n",
    "        'yanchor': 'top'},\n",
    "    title_font_size=26,\n",
    "    margin=dict(l=50, r=50, t=80, b=50)\n",
    ")\n",
    "\n",
    "fig.add_annotation(\n",
    "    text=\"Majority of patients were white\",\n",
    "    x=0.5,\n",
    "    y=-0.10,\n",
    "    showarrow=False,\n",
    "    font=dict(color=\"#000000\", size=14) \n",
    ")\n",
    "\n",
    "# Show the pie chart\n",
    "fig.show('svg')\n"
   ]
  },
  {
   "cell_type": "code",
   "execution_count": 34,
   "id": "71ac33a2",
   "metadata": {
    "execution": {
     "iopub.execute_input": "2024-05-30T17:02:57.929953Z",
     "iopub.status.busy": "2024-05-30T17:02:57.929548Z",
     "iopub.status.idle": "2024-05-30T17:02:57.965236Z",
     "shell.execute_reply": "2024-05-30T17:02:57.963984Z"
    },
    "papermill": {
     "duration": 0.083674,
     "end_time": "2024-05-30T17:02:57.968079",
     "exception": false,
     "start_time": "2024-05-30T17:02:57.884405",
     "status": "completed"
    },
    "tags": []
   },
   "outputs": [
    {
     "data": {
      "text/plain": [
       "time         -3.077521\n",
       "trt          -5.806935\n",
       "age          -6.831852\n",
       "wtkg         -5.133001\n",
       "hemo          0.458512\n",
       "homo        -20.193154\n",
       "drugs         4.692483\n",
       "karnof        4.353950\n",
       "oprior       -2.810755\n",
       "z30          -9.860449\n",
       "preanti     -10.257438\n",
       "race        100.000000\n",
       "gender      -14.030872\n",
       "str2        -12.520895\n",
       "strat       -14.411401\n",
       "symptom      -0.458382\n",
       "treat        -9.108906\n",
       "offtrt        6.999763\n",
       "cd40          3.988502\n",
       "cd420         4.405390\n",
       "cd80         -2.703265\n",
       "cd820        -1.132044\n",
       "infected     -3.606357\n",
       "Name: race, dtype: float64"
      ]
     },
     "execution_count": 34,
     "metadata": {},
     "output_type": "execute_result"
    }
   ],
   "source": [
    "df.corr()['race']*100"
   ]
  },
  {
   "cell_type": "markdown",
   "id": "feac2ee5",
   "metadata": {
    "papermill": {
     "duration": 0.048832,
     "end_time": "2024-05-30T17:02:58.061992",
     "exception": false,
     "start_time": "2024-05-30T17:02:58.013160",
     "status": "completed"
    },
    "tags": []
   },
   "source": [
    "----------------------------------------------------------------------------------------------------------------------------------------------------------"
   ]
  },
  {
   "cell_type": "markdown",
   "id": "e51642de",
   "metadata": {
    "papermill": {
     "duration": 0.043681,
     "end_time": "2024-05-30T17:02:58.150970",
     "exception": false,
     "start_time": "2024-05-30T17:02:58.107289",
     "status": "completed"
    },
    "tags": []
   },
   "source": [
    "## Gender\n",
    "\n",
    "***Conclusions***\n",
    "\n",
    "- *Majority of the patients are male*\n",
    "\n",
    "- *There is no strong correlation of gender with any other variable*"
   ]
  },
  {
   "cell_type": "code",
   "execution_count": 35,
   "id": "5940f738",
   "metadata": {
    "execution": {
     "iopub.execute_input": "2024-05-30T17:02:58.247641Z",
     "iopub.status.busy": "2024-05-30T17:02:58.247211Z",
     "iopub.status.idle": "2024-05-30T17:02:58.257455Z",
     "shell.execute_reply": "2024-05-30T17:02:58.256194Z"
    },
    "papermill": {
     "duration": 0.058979,
     "end_time": "2024-05-30T17:02:58.259993",
     "exception": false,
     "start_time": "2024-05-30T17:02:58.201014",
     "status": "completed"
    },
    "tags": []
   },
   "outputs": [
    {
     "data": {
      "text/plain": [
       "gender\n",
       "1    12807\n",
       "0     2193\n",
       "Name: count, dtype: int64"
      ]
     },
     "execution_count": 35,
     "metadata": {},
     "output_type": "execute_result"
    }
   ],
   "source": [
    "df['gender'].value_counts()"
   ]
  },
  {
   "cell_type": "code",
   "execution_count": 36,
   "id": "51b52f49",
   "metadata": {
    "execution": {
     "iopub.execute_input": "2024-05-30T17:02:58.353439Z",
     "iopub.status.busy": "2024-05-30T17:02:58.352950Z",
     "iopub.status.idle": "2024-05-30T17:02:58.388893Z",
     "shell.execute_reply": "2024-05-30T17:02:58.387616Z"
    },
    "papermill": {
     "duration": 0.085148,
     "end_time": "2024-05-30T17:02:58.392351",
     "exception": false,
     "start_time": "2024-05-30T17:02:58.307203",
     "status": "completed"
    },
    "tags": []
   },
   "outputs": [
    {
     "data": {
      "text/plain": [
       "time          4.146380\n",
       "trt           5.685414\n",
       "age           5.749563\n",
       "wtkg          7.097579\n",
       "hemo         -2.875861\n",
       "homo         20.507894\n",
       "drugs        -3.367042\n",
       "karnof        0.841962\n",
       "oprior        0.766320\n",
       "z30          -1.681352\n",
       "preanti       0.164133\n",
       "race        -14.030872\n",
       "gender      100.000000\n",
       "str2         -0.673710\n",
       "strat         0.768461\n",
       "symptom       0.722118\n",
       "treat         5.650087\n",
       "offtrt       -8.396814\n",
       "cd40          2.395995\n",
       "cd420         1.205226\n",
       "cd80          1.975016\n",
       "cd820         1.111495\n",
       "infected     -2.121825\n",
       "Name: gender, dtype: float64"
      ]
     },
     "execution_count": 36,
     "metadata": {},
     "output_type": "execute_result"
    }
   ],
   "source": [
    "df.corr()['gender']*100"
   ]
  },
  {
   "cell_type": "code",
   "execution_count": 37,
   "id": "2731617a",
   "metadata": {
    "execution": {
     "iopub.execute_input": "2024-05-30T17:02:58.491188Z",
     "iopub.status.busy": "2024-05-30T17:02:58.490626Z",
     "iopub.status.idle": "2024-05-30T17:02:58.568683Z",
     "shell.execute_reply": "2024-05-30T17:02:58.566946Z"
    },
    "papermill": {
     "duration": 0.134323,
     "end_time": "2024-05-30T17:02:58.572707",
     "exception": false,
     "start_time": "2024-05-30T17:02:58.438384",
     "status": "completed"
    },
    "tags": []
   },
   "outputs": [
    {
     "data": {
      "image/svg+xml": [
       "<svg class=\"main-svg\" xmlns=\"http://www.w3.org/2000/svg\" xmlns:xlink=\"http://www.w3.org/1999/xlink\" width=\"1000\" height=\"500\" style=\"\" viewBox=\"0 0 1000 500\"><rect x=\"0\" y=\"0\" width=\"1000\" height=\"500\" style=\"fill: rgb(255, 255, 255); fill-opacity: 1;\"/><defs id=\"defs-6b2e8e\"><g class=\"clips\"/><g class=\"gradients\"/><g class=\"patterns\"/></defs><g class=\"bglayer\"/><g class=\"layer-below\"><g class=\"imagelayer\"/><g class=\"shapelayer\"/></g><g class=\"cartesianlayer\"/><g class=\"polarlayer\"/><g class=\"smithlayer\"/><g class=\"ternarylayer\"/><g class=\"geolayer\"/><g class=\"funnelarealayer\"/><g class=\"pielayer\"><g class=\"trace\" stroke-linejoin=\"round\" style=\"opacity: 1;\"><g class=\"slice\"><path class=\"surface\" d=\"M500,265l0,-185a185,185 0 1 1 -147.02943806680318,72.71756886422484Z\" style=\"pointer-events: none; fill: rgb(64, 0, 75); fill-opacity: 1; stroke-width: 1; stroke: rgb(0, 0, 0); stroke-opacity: 1;\"/><g class=\"slicetext\"><text data-notex=\"1\" class=\"slicetext\" transform=\"translate(541.0072405799903,343.81198416165716)\" text-anchor=\"middle\" x=\"0\" y=\"0\" style=\"font-family: 'Open Sans', verdana, arial, sans-serif; font-size: 14px; fill: rgb(255, 255, 255); fill-opacity: 1; white-space: pre;\"><tspan class=\"line\" dy=\"0em\" x=\"0\" y=\"0\">1</tspan><tspan class=\"line\" dy=\"1.3em\" x=\"0\" y=\"0\">85.4%</tspan></text></g></g><g class=\"slice\"><path class=\"surface\" d=\"M500,265l-147.02943806680312,-112.2824311357752a185,185 0 0 1 147.02943806680312,-72.7175688642248Z\" style=\"pointer-events: none; fill: rgb(118, 42, 131); fill-opacity: 1; stroke-width: 1; stroke: rgb(0, 0, 0); stroke-opacity: 1;\"/><g class=\"slicetext\"><text data-notex=\"1\" class=\"slicetext\" transform=\"translate(443.17656874382874,146.00574654353997)\" text-anchor=\"middle\" x=\"0\" y=\"0\" style=\"font-family: 'Open Sans', verdana, arial, sans-serif; font-size: 14px; fill: rgb(255, 255, 255); fill-opacity: 1; white-space: pre;\"><tspan class=\"line\" dy=\"0em\" x=\"0\" y=\"0\">0</tspan><tspan class=\"line\" dy=\"1.3em\" x=\"0\" y=\"0\">14.6%</tspan></text></g></g></g></g><g class=\"iciclelayer\"/><g class=\"treemaplayer\"/><g class=\"sunburstlayer\"/><g class=\"glimages\"/><defs id=\"topdefs-6b2e8e\"><g class=\"clips\"/><clipPath id=\"legend6b2e8e\"><rect width=\"150.6\" height=\"74.6\" x=\"0.7\" y=\"0.7\"/></clipPath></defs><g class=\"layer-above\"><g class=\"imagelayer\"/><g class=\"shapelayer\"/></g><g class=\"infolayer\"><g class=\"legend\" pointer-events=\"all\" transform=\"translate(770,227)\"><rect class=\"bg\" shape-rendering=\"crispEdges\" style=\"stroke: rgb(0, 0, 0); stroke-opacity: 1; fill: rgb(255, 255, 255); fill-opacity: 1; stroke-width: 0.7px;\" width=\"151.3\" height=\"75.3\" x=\"0.35\" y=\"0.35\"/><g class=\"scrollbox\" transform=\"\" clip-path=\"url(#legend6b2e8e)\"><text class=\"legendtitletext\" text-anchor=\"start\" x=\"2.7\" y=\"22.8\" style=\"font-family: 'Times New Roman'; font-size: 17px; fill: rgb(0, 0, 0); fill-opacity: 1; white-space: pre;\">gender (female/male)</text><g class=\"groups\"><g class=\"traces\" transform=\"translate(0.7,38.4)\" style=\"opacity: 1;\"><text class=\"legendtext\" text-anchor=\"start\" x=\"40\" y=\"5.46\" style=\"font-family: 'Times New Roman'; font-size: 14px; fill: rgb(0, 0, 0); fill-opacity: 1; white-space: pre;\">1</text><g class=\"layers\" style=\"opacity: 1;\"><g class=\"legendfill\"/><g class=\"legendlines\"/><g class=\"legendsymbols\"><g class=\"legendpoints\"><path class=\"legendpie\" d=\"M6,6H-6V-6H6Z\" transform=\"translate(20,0)\" style=\"fill: rgb(64, 0, 75); fill-opacity: 1; stroke-width: 1; stroke: rgb(0, 0, 0); stroke-opacity: 1;\"/></g></g></g><rect class=\"legendtoggle\" x=\"0\" y=\"-10.6\" width=\"47\" height=\"21.2\" style=\"fill: rgb(0, 0, 0); fill-opacity: 0;\"/></g><g class=\"traces\" transform=\"translate(0.7,59.6)\" style=\"opacity: 1;\"><text class=\"legendtext\" text-anchor=\"start\" x=\"40\" y=\"5.46\" style=\"font-family: 'Times New Roman'; font-size: 14px; fill: rgb(0, 0, 0); fill-opacity: 1; white-space: pre;\">0</text><g class=\"layers\" style=\"opacity: 1;\"><g class=\"legendfill\"/><g class=\"legendlines\"/><g class=\"legendsymbols\"><g class=\"legendpoints\"><path class=\"legendpie\" d=\"M6,6H-6V-6H6Z\" transform=\"translate(20,0)\" style=\"fill: rgb(118, 42, 131); fill-opacity: 1; stroke-width: 1; stroke: rgb(0, 0, 0); stroke-opacity: 1;\"/></g></g></g><rect class=\"legendtoggle\" x=\"0\" y=\"-10.6\" width=\"47\" height=\"21.2\" style=\"fill: rgb(0, 0, 0); fill-opacity: 0;\"/></g></g></g><rect class=\"scrollbar\" rx=\"20\" ry=\"3\" width=\"0\" height=\"0\" x=\"0\" y=\"0\" style=\"fill: rgb(128, 139, 164); fill-opacity: 1;\"/></g><g class=\"g-gtitle\"><text class=\"gtitle\" x=\"210\" y=\"25\" text-anchor=\"middle\" dy=\"0.7em\" style=\"font-family: 'Times New Roman'; font-size: 26px; fill: rgb(0, 0, 0); opacity: 1; font-weight: normal; white-space: pre;\">Distribution of gender</text></g><g class=\"annotation\" data-index=\"0\" style=\"opacity: 1;\"><g class=\"annotation-text-g\" transform=\"rotate(0,500,477.00000000000006)\"><g class=\"cursor-pointer\" transform=\"translate(405,467)\"><rect class=\"bg\" x=\"0.5\" y=\"0.5\" width=\"189\" height=\"19\" style=\"stroke-width: 1px; stroke: rgb(0, 0, 0); stroke-opacity: 0; fill: rgb(0, 0, 0); fill-opacity: 0;\"/><text class=\"annotation-text\" text-anchor=\"middle\" x=\"94.984375\" y=\"15\" style=\"font-family: 'Open Sans', verdana, arial, sans-serif; font-size: 14px; fill: rgb(0, 0, 0); fill-opacity: 1; white-space: pre;\">Majority of patients were male</text></g></g></g></g></svg>"
      ]
     },
     "metadata": {},
     "output_type": "display_data"
    }
   ],
   "source": [
    "\n",
    "palette = cl.scales['11']['div']['PRGn']\n",
    "\n",
    "\n",
    "gen = df['gender'].value_counts().reset_index()\n",
    "gen.columns = ['gender', 'count']\n",
    "\n",
    "fig = go.Figure(data=[go.Pie(\n",
    "    labels=gen['gender'],\n",
    "    values=gen['count'],\n",
    "    marker=dict(colors=palette, line=dict(color='#000000', width=1)),\n",
    "    textinfo=\"label+percent\",\n",
    "    textfont=dict(size=14, color='#FFFFFF')\n",
    ")])\n",
    "\n",
    "\n",
    "fig.update_layout(\n",
    "    title_text=\"Distribution of gender\",\n",
    "    title_font_size=24,\n",
    "    title_font_family=\"Times New Roman\",\n",
    "    title_font_color=\"#000000\",  \n",
    "    paper_bgcolor='#ffffff',  \n",
    "    plot_bgcolor='#ffffff', \n",
    "    showlegend=True,\n",
    "    legend_title_text='gender (female/male)',\n",
    "    legend=dict(\n",
    "        x=0.8,\n",
    "        y=0.5,\n",
    "        traceorder='normal',\n",
    "        font=dict(\n",
    "            family=\"Times New Roman\",\n",
    "            size=14,\n",
    "            color=\"#000000\"\n",
    "        ),\n",
    "        bgcolor=\"#ffffff\",  \n",
    "        bordercolor=\"#000000\", \n",
    "        borderwidth=0.7,\n",
    "        orientation=\"v\" \n",
    "    )\n",
    ")\n",
    "\n",
    "fig.update_layout(width=1000)\n",
    "\n",
    "fig.update_layout(\n",
    "    title={\n",
    "        'text': \"Distribution of gender\",\n",
    "        'y':0.95,\n",
    "        'x':0.21,\n",
    "        'xanchor': 'center',\n",
    "        'yanchor': 'top'},\n",
    "    title_font_size=26,\n",
    "    margin=dict(l=50, r=50, t=80, b=50)\n",
    ")\n",
    "\n",
    "fig.add_annotation(\n",
    "    text=\"Majority of patients were male\",\n",
    "    x=0.5,\n",
    "    y=-0.10,\n",
    "    showarrow=False,\n",
    "    font=dict(color=\"#000000\", size=14) \n",
    ")\n",
    "\n",
    "# Show the pie chart\n",
    "fig.show('svg')\n"
   ]
  },
  {
   "cell_type": "markdown",
   "id": "1f67b282",
   "metadata": {
    "papermill": {
     "duration": 0.047102,
     "end_time": "2024-05-30T17:02:58.666336",
     "exception": false,
     "start_time": "2024-05-30T17:02:58.619234",
     "status": "completed"
    },
    "tags": []
   },
   "source": [
    "----------------------------------------------------------------------------------------------------------------------------------------------------------\n"
   ]
  },
  {
   "cell_type": "markdown",
   "id": "d9f73460",
   "metadata": {
    "papermill": {
     "duration": 0.045714,
     "end_time": "2024-05-30T17:02:58.759404",
     "exception": false,
     "start_time": "2024-05-30T17:02:58.713690",
     "status": "completed"
    },
    "tags": []
   },
   "source": [
    "## str2: antiretroviral history (0=naive, 1=experienced)\n",
    "\n",
    "***About***\n",
    "<div>\n",
    "    <p>\n",
    "        The variable str2 represents the antiretroviral history of individuals, specifically whether they are \"naive\" or \"experienced\" with antiretroviral therapy (ART).\n",
    "    </p>\n",
    "    <ul>\n",
    "        <li>Naive (0):\n",
    "            <ul>\n",
    "                <li>Individuals categorized as \"naive\" have not previously received antiretroviral therapy. They are newly diagnosed or have not yet started treatment for HIV/AIDS. This group typically includes individuals who have recently tested positive for HIV or have delayed initiating treatment for various reasons.</li>\n",
    "            </ul>\n",
    "        </li>\n",
    "        <li>Experienced (1):\n",
    "            <ul>\n",
    "                <li>Individuals categorized as \"experienced\" have a history of receiving antiretroviral therapy. They have previously been treated for HIV/AIDS with antiretroviral medications. This group may include individuals who have undergone treatment for a certain duration, stopped treatment, and then resumed therapy, as well as those who have been consistently on ART for an extended period.</li>\n",
    "            </ul>\n",
    "        </li>\n",
    "     \n",
    "   </ul>\n",
    "</div>\n",
    "\n",
    "\n",
    "***Conclusions***\n",
    "\n",
    "- *Majority of patients were experienced and were previously treated with ART medication*"
   ]
  },
  {
   "cell_type": "code",
   "execution_count": 38,
   "id": "0e85ac68",
   "metadata": {
    "execution": {
     "iopub.execute_input": "2024-05-30T17:02:58.856063Z",
     "iopub.status.busy": "2024-05-30T17:02:58.855614Z",
     "iopub.status.idle": "2024-05-30T17:02:58.865620Z",
     "shell.execute_reply": "2024-05-30T17:02:58.864387Z"
    },
    "papermill": {
     "duration": 0.063073,
     "end_time": "2024-05-30T17:02:58.869453",
     "exception": false,
     "start_time": "2024-05-30T17:02:58.806380",
     "status": "completed"
    },
    "tags": []
   },
   "outputs": [
    {
     "data": {
      "text/plain": [
       "str2\n",
       "1    8655\n",
       "0    6345\n",
       "Name: count, dtype: int64"
      ]
     },
     "execution_count": 38,
     "metadata": {},
     "output_type": "execute_result"
    }
   ],
   "source": [
    "df['str2'].value_counts()"
   ]
  },
  {
   "cell_type": "code",
   "execution_count": 39,
   "id": "735561c7",
   "metadata": {
    "execution": {
     "iopub.execute_input": "2024-05-30T17:02:58.965959Z",
     "iopub.status.busy": "2024-05-30T17:02:58.965307Z",
     "iopub.status.idle": "2024-05-30T17:02:58.999379Z",
     "shell.execute_reply": "2024-05-30T17:02:58.998067Z"
    },
    "papermill": {
     "duration": 0.08498,
     "end_time": "2024-05-30T17:02:59.001893",
     "exception": false,
     "start_time": "2024-05-30T17:02:58.916913",
     "status": "completed"
    },
    "tags": []
   },
   "outputs": [
    {
     "data": {
      "text/plain": [
       "time         -7.573001\n",
       "trt           1.465054\n",
       "age          12.960868\n",
       "wtkg         -9.006936\n",
       "hemo          6.290188\n",
       "homo          3.021203\n",
       "drugs        -3.139231\n",
       "karnof      -13.153909\n",
       "oprior        6.294665\n",
       "z30          60.919072\n",
       "preanti      45.505698\n",
       "race        -12.520895\n",
       "gender       -0.673710\n",
       "str2        100.000000\n",
       "strat        61.222869\n",
       "symptom       3.570729\n",
       "treat         3.934434\n",
       "offtrt       -0.732320\n",
       "cd40        -23.915651\n",
       "cd420       -31.087622\n",
       "cd80         -2.578902\n",
       "cd820         0.989379\n",
       "infected     23.336492\n",
       "Name: str2, dtype: float64"
      ]
     },
     "execution_count": 39,
     "metadata": {},
     "output_type": "execute_result"
    }
   ],
   "source": [
    "df.corr()['str2']*100"
   ]
  },
  {
   "cell_type": "markdown",
   "id": "aaa87149",
   "metadata": {
    "papermill": {
     "duration": 0.053962,
     "end_time": "2024-05-30T17:02:59.102438",
     "exception": false,
     "start_time": "2024-05-30T17:02:59.048476",
     "status": "completed"
    },
    "tags": []
   },
   "source": [
    "*Moderately correlated with z30 and strat* "
   ]
  },
  {
   "cell_type": "code",
   "execution_count": 40,
   "id": "f9ffe10e",
   "metadata": {
    "execution": {
     "iopub.execute_input": "2024-05-30T17:02:59.197032Z",
     "iopub.status.busy": "2024-05-30T17:02:59.196628Z",
     "iopub.status.idle": "2024-05-30T17:02:59.271686Z",
     "shell.execute_reply": "2024-05-30T17:02:59.270217Z"
    },
    "papermill": {
     "duration": 0.126637,
     "end_time": "2024-05-30T17:02:59.274589",
     "exception": false,
     "start_time": "2024-05-30T17:02:59.147952",
     "status": "completed"
    },
    "tags": []
   },
   "outputs": [
    {
     "data": {
      "image/svg+xml": [
       "<svg class=\"main-svg\" xmlns=\"http://www.w3.org/2000/svg\" xmlns:xlink=\"http://www.w3.org/1999/xlink\" width=\"1000\" height=\"500\" style=\"\" viewBox=\"0 0 1000 500\"><rect x=\"0\" y=\"0\" width=\"1000\" height=\"500\" style=\"fill: rgb(255, 255, 255); fill-opacity: 1;\"/><defs id=\"defs-8c2662\"><g class=\"clips\"/><g class=\"gradients\"/><g class=\"patterns\"/></defs><g class=\"bglayer\"/><g class=\"layer-below\"><g class=\"imagelayer\"/><g class=\"shapelayer\"/></g><g class=\"cartesianlayer\"/><g class=\"polarlayer\"/><g class=\"smithlayer\"/><g class=\"ternarylayer\"/><g class=\"geolayer\"/><g class=\"funnelarealayer\"/><g class=\"pielayer\"><g class=\"trace\" stroke-linejoin=\"round\" style=\"opacity: 1;\"><g class=\"slice\"><path class=\"surface\" d=\"M500,265l0,-185a185,185 0 1 1 -86.05294944432971,348.76779259650425Z\" style=\"pointer-events: none; fill: rgb(213, 62, 79); fill-opacity: 1; stroke-width: 1; stroke: rgb(0, 0, 0); stroke-opacity: 1;\"/><g class=\"slicetext\"><text data-notex=\"1\" class=\"slicetext\" transform=\"translate(589.8067659132327,283.05683988387773)\" text-anchor=\"middle\" x=\"0\" y=\"0\" style=\"font-family: 'Open Sans', verdana, arial, sans-serif; font-size: 14px; fill: rgb(255, 255, 255); fill-opacity: 1; white-space: pre;\"><tspan class=\"line\" dy=\"0em\" x=\"0\" y=\"0\">1</tspan><tspan class=\"line\" dy=\"1.3em\" x=\"0\" y=\"0\">57.7%</tspan></text></g></g><g class=\"slice\"><path class=\"surface\" d=\"M500,265l-86.05294944432983,163.7677925965042a185,185 0 0 1 86.05294944432983,-348.7677925965042Z\" style=\"pointer-events: none; fill: rgb(244, 109, 67); fill-opacity: 1; stroke-width: 1; stroke: rgb(0, 0, 0); stroke-opacity: 1;\"/><g class=\"slicetext\"><text data-notex=\"1\" class=\"slicetext\" transform=\"translate(408.86651073687824,238.41268706455855)\" text-anchor=\"middle\" x=\"0\" y=\"0\" style=\"font-family: 'Open Sans', verdana, arial, sans-serif; font-size: 14px; fill: rgb(255, 255, 255); fill-opacity: 1; white-space: pre;\"><tspan class=\"line\" dy=\"0em\" x=\"0\" y=\"0\">0</tspan><tspan class=\"line\" dy=\"1.3em\" x=\"0\" y=\"0\">42.3%</tspan></text></g></g></g></g><g class=\"iciclelayer\"/><g class=\"treemaplayer\"/><g class=\"sunburstlayer\"/><g class=\"glimages\"/><defs id=\"topdefs-8c2662\"><g class=\"clips\"/><clipPath id=\"legend8c2662\"><rect width=\"169.6\" height=\"74.6\" x=\"0.7\" y=\"0.7\"/></clipPath></defs><g class=\"layer-above\"><g class=\"imagelayer\"/><g class=\"shapelayer\"/></g><g class=\"infolayer\"><g class=\"legend\" pointer-events=\"all\" transform=\"translate(770,227)\"><rect class=\"bg\" shape-rendering=\"crispEdges\" style=\"stroke: rgb(0, 0, 0); stroke-opacity: 1; fill: rgb(255, 255, 255); fill-opacity: 1; stroke-width: 0.7px;\" width=\"170.3\" height=\"75.3\" x=\"0.35\" y=\"0.35\"/><g class=\"scrollbox\" transform=\"\" clip-path=\"url(#legend8c2662)\"><text class=\"legendtitletext\" text-anchor=\"start\" x=\"2.7\" y=\"22.8\" style=\"font-family: 'Times New Roman'; font-size: 17px; fill: rgb(0, 0, 0); fill-opacity: 1; white-space: pre;\">str2 (naive/experienced)</text><g class=\"groups\"><g class=\"traces\" transform=\"translate(0.7,38.4)\" style=\"opacity: 1;\"><text class=\"legendtext\" text-anchor=\"start\" x=\"40\" y=\"5.46\" style=\"font-family: 'Times New Roman'; font-size: 14px; fill: rgb(0, 0, 0); fill-opacity: 1; white-space: pre;\">1</text><g class=\"layers\" style=\"opacity: 1;\"><g class=\"legendfill\"/><g class=\"legendlines\"/><g class=\"legendsymbols\"><g class=\"legendpoints\"><path class=\"legendpie\" d=\"M6,6H-6V-6H6Z\" transform=\"translate(20,0)\" style=\"fill: rgb(213, 62, 79); fill-opacity: 1; stroke-width: 1; stroke: rgb(0, 0, 0); stroke-opacity: 1;\"/></g></g></g><rect class=\"legendtoggle\" x=\"0\" y=\"-10.6\" width=\"47\" height=\"21.2\" style=\"fill: rgb(0, 0, 0); fill-opacity: 0;\"/></g><g class=\"traces\" transform=\"translate(0.7,59.6)\" style=\"opacity: 1;\"><text class=\"legendtext\" text-anchor=\"start\" x=\"40\" y=\"5.46\" style=\"font-family: 'Times New Roman'; font-size: 14px; fill: rgb(0, 0, 0); fill-opacity: 1; white-space: pre;\">0</text><g class=\"layers\" style=\"opacity: 1;\"><g class=\"legendfill\"/><g class=\"legendlines\"/><g class=\"legendsymbols\"><g class=\"legendpoints\"><path class=\"legendpie\" d=\"M6,6H-6V-6H6Z\" transform=\"translate(20,0)\" style=\"fill: rgb(244, 109, 67); fill-opacity: 1; stroke-width: 1; stroke: rgb(0, 0, 0); stroke-opacity: 1;\"/></g></g></g><rect class=\"legendtoggle\" x=\"0\" y=\"-10.6\" width=\"47\" height=\"21.2\" style=\"fill: rgb(0, 0, 0); fill-opacity: 0;\"/></g></g></g><rect class=\"scrollbar\" rx=\"20\" ry=\"3\" width=\"0\" height=\"0\" x=\"0\" y=\"0\" style=\"fill: rgb(128, 139, 164); fill-opacity: 1;\"/></g><g class=\"g-gtitle\"><text class=\"gtitle\" x=\"210\" y=\"25\" text-anchor=\"middle\" dy=\"0.7em\" style=\"font-family: 'Times New Roman'; font-size: 26px; fill: rgb(0, 0, 0); opacity: 1; font-weight: normal; white-space: pre;\">Distribution of ART history</text></g><g class=\"annotation\" data-index=\"0\" style=\"opacity: 1;\"><g class=\"annotation-text-g\" transform=\"rotate(0,500,477.00000000000006)\"><g class=\"cursor-pointer\" transform=\"translate(382,467)\"><rect class=\"bg\" x=\"0.5\" y=\"0.5\" width=\"235\" height=\"19\" style=\"stroke-width: 1px; stroke: rgb(0, 0, 0); stroke-opacity: 0; fill: rgb(0, 0, 0); fill-opacity: 0;\"/><text class=\"annotation-text\" text-anchor=\"middle\" x=\"117.953125\" y=\"15\" style=\"font-family: 'Open Sans', verdana, arial, sans-serif; font-size: 14px; fill: rgb(0, 0, 0); fill-opacity: 1; white-space: pre;\">Majority of patients were experienced</text></g></g></g></g></svg>"
      ]
     },
     "metadata": {},
     "output_type": "display_data"
    }
   ],
   "source": [
    "\n",
    "palette = cl.scales['9']['div']['Spectral']\n",
    "\n",
    "\n",
    "str2 = df['str2'].value_counts().reset_index()\n",
    "str2.columns = ['str2', 'count']\n",
    "\n",
    "fig = go.Figure(data=[go.Pie(\n",
    "    labels=str2['str2'],\n",
    "    values=str2['count'],\n",
    "    marker=dict(colors=palette, line=dict(color='#000000', width=1)),\n",
    "    textinfo=\"label+percent\",\n",
    "    textfont=dict(size=14, color='#FFFFFF')\n",
    ")])\n",
    "\n",
    "\n",
    "fig.update_layout(\n",
    "    title_text=\"Distribution of ART history\",\n",
    "    title_font_size=24,\n",
    "    title_font_family=\"Times New Roman\",\n",
    "    title_font_color=\"#000000\",  \n",
    "    paper_bgcolor='#ffffff',  \n",
    "    plot_bgcolor='#ffffff', \n",
    "    showlegend=True,\n",
    "    legend_title_text='str2 (naive/experienced)',\n",
    "    legend=dict(\n",
    "        x=0.8,\n",
    "        y=0.5,\n",
    "        traceorder='normal',\n",
    "        font=dict(\n",
    "            family=\"Times New Roman\",\n",
    "            size=14,\n",
    "            color=\"#000000\"\n",
    "        ),\n",
    "        bgcolor=\"#ffffff\",  \n",
    "        bordercolor=\"#000000\", \n",
    "        borderwidth=0.7,\n",
    "        orientation=\"v\" \n",
    "    )\n",
    ")\n",
    "\n",
    "fig.update_layout(width=1000)\n",
    "\n",
    "fig.update_layout(\n",
    "    title={\n",
    "        'text': \"Distribution of ART history\",\n",
    "        'y':0.95,\n",
    "        'x':0.21,\n",
    "        'xanchor': 'center',\n",
    "        'yanchor': 'top'},\n",
    "    title_font_size=26,\n",
    "    margin=dict(l=50, r=50, t=80, b=50)\n",
    ")\n",
    "\n",
    "fig.add_annotation(\n",
    "    text=\"Majority of patients were experienced\",\n",
    "    x=0.5,\n",
    "    y=-0.10,\n",
    "    showarrow=False,\n",
    "    font=dict(color=\"#000000\", size=14) \n",
    ")\n",
    "\n",
    "# Show the pie chart\n",
    "fig.show('svg')\n"
   ]
  },
  {
   "cell_type": "markdown",
   "id": "4525a21b",
   "metadata": {
    "papermill": {
     "duration": 0.048253,
     "end_time": "2024-05-30T17:02:59.380353",
     "exception": false,
     "start_time": "2024-05-30T17:02:59.332100",
     "status": "completed"
    },
    "tags": []
   },
   "source": [
    "----------------------------------------------------------------------------------------------------------------------------------------------------------\n"
   ]
  },
  {
   "cell_type": "markdown",
   "id": "c8bd750e",
   "metadata": {
    "papermill": {
     "duration": 0.046677,
     "end_time": "2024-05-30T17:02:59.475238",
     "exception": false,
     "start_time": "2024-05-30T17:02:59.428561",
     "status": "completed"
    },
    "tags": []
   },
   "source": [
    "## symptom: symptomatic indicator (0=asymp, 1=symp)\n",
    "\n",
    "<div>\n",
    "     <ul>\n",
    "        <li>Asymptomatic (0):\n",
    "            <ul>\n",
    "                <li>Individuals categorized as \"asymp\" (asymptomatic) have no noticeable symptoms associated with HIV/AIDS at the time of assessment. They may be carriers of the virus but have not yet developed symptoms or clinical manifestations of the disease. Asymptomatic individuals may still be infectious and capable of transmitting the virus to others.</li>\n",
    "            </ul>\n",
    "        </li>\n",
    "        <li>Symptomatic (1):\n",
    "            <ul>\n",
    "                <li>Individuals categorized as \"symp\" (symptomatic) exhibit symptoms or clinical manifestations of HIV/AIDS at the time of assessment. These symptoms may include but are not limited to fever, fatigue, weight loss, night sweats, swollen lymph nodes, opportunistic infections, and other AIDS-defining illnesses. Symptomatic individuals typically require medical evaluation, treatment, and management of HIV/AIDS-related complications.</li>\n",
    "            </ul>\n",
    "        </li>\n",
    "     \n",
    "   </ul>\n",
    "    </div>\n",
    "    \n",
    "***Conclusion***\n",
    "\n",
    "- *Most of the patients had no signs of any symptom*\n",
    "    "
   ]
  },
  {
   "cell_type": "code",
   "execution_count": 41,
   "id": "27407980",
   "metadata": {
    "execution": {
     "iopub.execute_input": "2024-05-30T17:02:59.572279Z",
     "iopub.status.busy": "2024-05-30T17:02:59.571819Z",
     "iopub.status.idle": "2024-05-30T17:02:59.581528Z",
     "shell.execute_reply": "2024-05-30T17:02:59.580323Z"
    },
    "papermill": {
     "duration": 0.061358,
     "end_time": "2024-05-30T17:02:59.584293",
     "exception": false,
     "start_time": "2024-05-30T17:02:59.522935",
     "status": "completed"
    },
    "tags": []
   },
   "outputs": [
    {
     "data": {
      "text/plain": [
       "symptom\n",
       "0    13681\n",
       "1     1319\n",
       "Name: count, dtype: int64"
      ]
     },
     "execution_count": 41,
     "metadata": {},
     "output_type": "execute_result"
    }
   ],
   "source": [
    "df['symptom'].value_counts()"
   ]
  },
  {
   "cell_type": "code",
   "execution_count": 42,
   "id": "97ed308e",
   "metadata": {
    "execution": {
     "iopub.execute_input": "2024-05-30T17:02:59.681323Z",
     "iopub.status.busy": "2024-05-30T17:02:59.680057Z",
     "iopub.status.idle": "2024-05-30T17:02:59.763684Z",
     "shell.execute_reply": "2024-05-30T17:02:59.761689Z"
    },
    "papermill": {
     "duration": 0.136596,
     "end_time": "2024-05-30T17:02:59.767184",
     "exception": false,
     "start_time": "2024-05-30T17:02:59.630588",
     "status": "completed"
    },
    "tags": []
   },
   "outputs": [
    {
     "data": {
      "image/svg+xml": [
       "<svg class=\"main-svg\" xmlns=\"http://www.w3.org/2000/svg\" xmlns:xlink=\"http://www.w3.org/1999/xlink\" width=\"1000\" height=\"500\" style=\"\" viewBox=\"0 0 1000 500\"><rect x=\"0\" y=\"0\" width=\"1000\" height=\"500\" style=\"fill: rgb(255, 255, 255); fill-opacity: 1;\"/><defs id=\"defs-1e16be\"><g class=\"clips\"/><g class=\"gradients\"/><g class=\"patterns\"/></defs><g class=\"bglayer\"/><g class=\"layer-below\"><g class=\"imagelayer\"/><g class=\"shapelayer\"/></g><g class=\"cartesianlayer\"/><g class=\"polarlayer\"/><g class=\"smithlayer\"/><g class=\"ternarylayer\"/><g class=\"geolayer\"/><g class=\"funnelarealayer\"/><g class=\"pielayer\"><g class=\"trace\" stroke-linejoin=\"round\" style=\"opacity: 1;\"><g class=\"slice\"><path class=\"surface\" d=\"M500,265l0,-185a185,185 0 1 1 -97.09135223020682,27.525337523429158Z\" style=\"pointer-events: none; fill: rgb(247, 252, 240); fill-opacity: 1; stroke-width: 1; stroke: rgb(0, 0, 0); stroke-opacity: 1;\"/><g class=\"slicetext\"><text data-notex=\"1\" class=\"slicetext\" transform=\"translate(525.2294159708325,349.8912831100304)\" text-anchor=\"middle\" x=\"0\" y=\"0\" style=\"font-family: 'Open Sans', verdana, arial, sans-serif; font-size: 14px; fill: rgb(0, 0, 0); fill-opacity: 1; white-space: pre;\"><tspan class=\"line\" dy=\"0em\" x=\"0\" y=\"0\">0</tspan><tspan class=\"line\" dy=\"1.3em\" x=\"0\" y=\"0\">91.2%</tspan></text></g></g><g class=\"slice\"><path class=\"surface\" d=\"M500,265l-97.09135223020672,-157.47466247657093a185,185 0 0 1 97.09135223020672,-27.525337523429073Z\" style=\"pointer-events: none; fill: rgb(224, 243, 219); fill-opacity: 1; stroke-width: 1; stroke: rgb(0, 0, 0); stroke-opacity: 1;\"/><g class=\"slicetext\"><text data-notex=\"1\" class=\"slicetext\" transform=\"translate(460.35449665561606,121.05508312597931)\" text-anchor=\"middle\" x=\"0\" y=\"0\" style=\"font-family: 'Open Sans', verdana, arial, sans-serif; font-size: 14px; fill: rgb(0, 0, 0); fill-opacity: 1; white-space: pre;\"><tspan class=\"line\" dy=\"0em\" x=\"0\" y=\"0\">1</tspan><tspan class=\"line\" dy=\"1.3em\" x=\"0\" y=\"0\">8.79%</tspan></text></g></g></g></g><g class=\"iciclelayer\"/><g class=\"treemaplayer\"/><g class=\"sunburstlayer\"/><g class=\"glimages\"/><defs id=\"topdefs-1e16be\"><g class=\"clips\"/><clipPath id=\"legend1e16be\"><rect width=\"67.6\" height=\"74.6\" x=\"0.7\" y=\"0.7\"/></clipPath></defs><g class=\"layer-above\"><g class=\"imagelayer\"/><g class=\"shapelayer\"/></g><g class=\"infolayer\"><g class=\"legend\" pointer-events=\"all\" transform=\"translate(770,227)\"><rect class=\"bg\" shape-rendering=\"crispEdges\" style=\"stroke: rgb(0, 0, 0); stroke-opacity: 1; fill: rgb(255, 255, 255); fill-opacity: 1; stroke-width: 0.7px;\" width=\"68.3\" height=\"75.3\" x=\"0.35\" y=\"0.35\"/><g class=\"scrollbox\" transform=\"\" clip-path=\"url(#legend1e16be)\"><text class=\"legendtitletext\" text-anchor=\"start\" x=\"2.7\" y=\"22.8\" style=\"font-family: 'Times New Roman'; font-size: 17px; fill: rgb(0, 0, 0); fill-opacity: 1; white-space: pre;\">symptom</text><g class=\"groups\"><g class=\"traces\" transform=\"translate(0.7,38.4)\" style=\"opacity: 1;\"><text class=\"legendtext\" text-anchor=\"start\" x=\"40\" y=\"5.46\" style=\"font-family: 'Times New Roman'; font-size: 14px; fill: rgb(0, 0, 0); fill-opacity: 1; white-space: pre;\">0</text><g class=\"layers\" style=\"opacity: 1;\"><g class=\"legendfill\"/><g class=\"legendlines\"/><g class=\"legendsymbols\"><g class=\"legendpoints\"><path class=\"legendpie\" d=\"M6,6H-6V-6H6Z\" transform=\"translate(20,0)\" style=\"fill: rgb(247, 252, 240); fill-opacity: 1; stroke-width: 1; stroke: rgb(0, 0, 0); stroke-opacity: 1;\"/></g></g></g><rect class=\"legendtoggle\" x=\"0\" y=\"-10.6\" width=\"47\" height=\"21.2\" style=\"fill: rgb(0, 0, 0); fill-opacity: 0;\"/></g><g class=\"traces\" transform=\"translate(0.7,59.6)\" style=\"opacity: 1;\"><text class=\"legendtext\" text-anchor=\"start\" x=\"40\" y=\"5.46\" style=\"font-family: 'Times New Roman'; font-size: 14px; fill: rgb(0, 0, 0); fill-opacity: 1; white-space: pre;\">1</text><g class=\"layers\" style=\"opacity: 1;\"><g class=\"legendfill\"/><g class=\"legendlines\"/><g class=\"legendsymbols\"><g class=\"legendpoints\"><path class=\"legendpie\" d=\"M6,6H-6V-6H6Z\" transform=\"translate(20,0)\" style=\"fill: rgb(224, 243, 219); fill-opacity: 1; stroke-width: 1; stroke: rgb(0, 0, 0); stroke-opacity: 1;\"/></g></g></g><rect class=\"legendtoggle\" x=\"0\" y=\"-10.6\" width=\"47\" height=\"21.2\" style=\"fill: rgb(0, 0, 0); fill-opacity: 0;\"/></g></g></g><rect class=\"scrollbar\" rx=\"20\" ry=\"3\" width=\"0\" height=\"0\" x=\"0\" y=\"0\" style=\"fill: rgb(128, 139, 164); fill-opacity: 1;\"/></g><g class=\"g-gtitle\"><text class=\"gtitle\" x=\"210\" y=\"25\" text-anchor=\"middle\" dy=\"0.7em\" style=\"font-family: 'Times New Roman'; font-size: 26px; fill: rgb(0, 0, 0); opacity: 1; font-weight: normal; white-space: pre;\">Distribution of symptom</text></g><g class=\"annotation\" data-index=\"0\" style=\"opacity: 1;\"><g class=\"annotation-text-g\" transform=\"rotate(0,500,477.00000000000006)\"><g class=\"cursor-pointer\" transform=\"translate(377,467)\"><rect class=\"bg\" x=\"0.5\" y=\"0.5\" width=\"245\" height=\"19\" style=\"stroke-width: 1px; stroke: rgb(0, 0, 0); stroke-opacity: 0; fill: rgb(0, 0, 0); fill-opacity: 0;\"/><text class=\"annotation-text\" text-anchor=\"middle\" x=\"123\" y=\"15\" style=\"font-family: 'Open Sans', verdana, arial, sans-serif; font-size: 14px; fill: rgb(0, 0, 0); fill-opacity: 1; white-space: pre;\">Majority of patients were asymptomatic</text></g></g></g></g></svg>"
      ]
     },
     "metadata": {},
     "output_type": "display_data"
    }
   ],
   "source": [
    "\n",
    "palette = cl.scales['8']['seq']['GnBu']\n",
    "\n",
    "\n",
    "sym = df['symptom'].value_counts().reset_index()\n",
    "sym.columns = ['symptom', 'count']\n",
    "\n",
    "fig = go.Figure(data=[go.Pie(\n",
    "    labels=sym['symptom'],\n",
    "    values=sym['count'],\n",
    "    marker=dict(colors=palette, line=dict(color='#000000', width=1)),\n",
    "    textinfo=\"label+percent\",\n",
    "    textfont=dict(size=14, color='#000000')\n",
    ")])\n",
    "\n",
    "\n",
    "fig.update_layout(\n",
    "    title_text=\"Distribution of Symptom\",\n",
    "    title_font_size=24,\n",
    "    title_font_family=\"Times New Roman\",\n",
    "    title_font_color=\"#000000\",  \n",
    "    paper_bgcolor='#ffffff',  \n",
    "    plot_bgcolor='#ffffff', \n",
    "    showlegend=True,\n",
    "    legend_title_text='symptom',\n",
    "    legend=dict(\n",
    "        x=0.8,\n",
    "        y=0.5,\n",
    "        traceorder='normal',\n",
    "        font=dict(\n",
    "            family=\"Times New Roman\",\n",
    "            size=14,\n",
    "            color=\"#000000\"\n",
    "        ),\n",
    "        bgcolor=\"#ffffff\",  \n",
    "        bordercolor=\"#000000\", \n",
    "        borderwidth=0.7,\n",
    "        orientation=\"v\" \n",
    "    )\n",
    ")\n",
    "\n",
    "fig.update_layout(width=1000)\n",
    "\n",
    "fig.update_layout(\n",
    "    title={\n",
    "        'text': \"Distribution of symptom\",\n",
    "        'y':0.95,\n",
    "        'x':0.21,\n",
    "        'xanchor': 'center',\n",
    "        'yanchor': 'top'},\n",
    "    title_font_size=26,\n",
    "    margin=dict(l=50, r=50, t=80, b=50)\n",
    ")\n",
    "\n",
    "fig.add_annotation(\n",
    "    text=\"Majority of patients were asymptomatic\",\n",
    "    x=0.5,\n",
    "    y=-0.10,\n",
    "    showarrow=False,\n",
    "    font=dict(color=\"#000000\", size=14) \n",
    ")\n",
    "\n",
    "# Show the pie chart\n",
    "fig.show('svg')\n"
   ]
  },
  {
   "cell_type": "code",
   "execution_count": 43,
   "id": "2ed79d28",
   "metadata": {
    "execution": {
     "iopub.execute_input": "2024-05-30T17:02:59.871143Z",
     "iopub.status.busy": "2024-05-30T17:02:59.870718Z",
     "iopub.status.idle": "2024-05-30T17:02:59.904288Z",
     "shell.execute_reply": "2024-05-30T17:02:59.903233Z"
    },
    "papermill": {
     "duration": 0.089221,
     "end_time": "2024-05-30T17:02:59.906738",
     "exception": false,
     "start_time": "2024-05-30T17:02:59.817517",
     "status": "completed"
    },
    "tags": []
   },
   "outputs": [
    {
     "data": {
      "text/plain": [
       "time         -2.156535\n",
       "trt          -2.005299\n",
       "age           0.059428\n",
       "wtkg         -0.288660\n",
       "hemo         -0.964097\n",
       "homo          1.782219\n",
       "drugs         0.447201\n",
       "karnof        0.382483\n",
       "oprior        2.945846\n",
       "z30           1.727802\n",
       "preanti       2.199479\n",
       "race         -0.458382\n",
       "gender        0.722118\n",
       "str2          3.570729\n",
       "strat         1.967243\n",
       "symptom     100.000000\n",
       "treat        -3.062186\n",
       "offtrt       -0.299683\n",
       "cd40         -2.154229\n",
       "cd420        -3.933053\n",
       "cd80          1.023918\n",
       "cd820         1.350573\n",
       "infected      3.301034\n",
       "Name: symptom, dtype: float64"
      ]
     },
     "execution_count": 43,
     "metadata": {},
     "output_type": "execute_result"
    }
   ],
   "source": [
    "df.corr()['symptom']*100"
   ]
  },
  {
   "cell_type": "markdown",
   "id": "e460dd63",
   "metadata": {
    "papermill": {
     "duration": 0.045102,
     "end_time": "2024-05-30T17:02:59.996989",
     "exception": false,
     "start_time": "2024-05-30T17:02:59.951887",
     "status": "completed"
    },
    "tags": []
   },
   "source": [
    "----------------------------------------------------------------------------------------------------------------------------------------------------------\n"
   ]
  },
  {
   "cell_type": "markdown",
   "id": "63314440",
   "metadata": {
    "papermill": {
     "duration": 0.058474,
     "end_time": "2024-05-30T17:03:00.100708",
     "exception": false,
     "start_time": "2024-05-30T17:03:00.042234",
     "status": "completed"
    },
    "tags": []
   },
   "source": [
    "## treat: treatment indicator (0=ZDV only, 1=others)\n",
    "\n",
    "***Conclusion***\n",
    "\n",
    "- *Patients opted for treatments other than just ZDV*"
   ]
  },
  {
   "cell_type": "code",
   "execution_count": 44,
   "id": "23b2b7af",
   "metadata": {
    "execution": {
     "iopub.execute_input": "2024-05-30T17:03:00.197444Z",
     "iopub.status.busy": "2024-05-30T17:03:00.196163Z",
     "iopub.status.idle": "2024-05-30T17:03:00.235705Z",
     "shell.execute_reply": "2024-05-30T17:03:00.234841Z"
    },
    "papermill": {
     "duration": 0.090877,
     "end_time": "2024-05-30T17:03:00.238584",
     "exception": false,
     "start_time": "2024-05-30T17:03:00.147707",
     "status": "completed"
    },
    "tags": []
   },
   "outputs": [
    {
     "data": {
      "text/plain": [
       "time          6.817768\n",
       "trt          23.178605\n",
       "age           4.570299\n",
       "wtkg         -0.093578\n",
       "hemo          0.217342\n",
       "homo          8.037881\n",
       "drugs        -2.601572\n",
       "karnof       -6.687859\n",
       "oprior       -1.419959\n",
       "z30           3.788999\n",
       "preanti       3.101474\n",
       "race         -9.108906\n",
       "gender        5.650087\n",
       "str2          3.934434\n",
       "strat         3.078169\n",
       "symptom      -3.062186\n",
       "treat       100.000000\n",
       "offtrt       -5.011457\n",
       "cd40         -1.921836\n",
       "cd420         2.107671\n",
       "cd80          0.811203\n",
       "cd820         3.362233\n",
       "infected     -3.644487\n",
       "Name: treat, dtype: float64"
      ]
     },
     "execution_count": 44,
     "metadata": {},
     "output_type": "execute_result"
    }
   ],
   "source": [
    "df.corr()['treat']*100"
   ]
  },
  {
   "cell_type": "code",
   "execution_count": 45,
   "id": "b940fff9",
   "metadata": {
    "execution": {
     "iopub.execute_input": "2024-05-30T17:03:00.349432Z",
     "iopub.status.busy": "2024-05-30T17:03:00.348263Z",
     "iopub.status.idle": "2024-05-30T17:03:00.359603Z",
     "shell.execute_reply": "2024-05-30T17:03:00.358434Z"
    },
    "papermill": {
     "duration": 0.06332,
     "end_time": "2024-05-30T17:03:00.362314",
     "exception": false,
     "start_time": "2024-05-30T17:03:00.298994",
     "status": "completed"
    },
    "tags": []
   },
   "outputs": [
    {
     "data": {
      "text/plain": [
       "treat\n",
       "1    11046\n",
       "0     3954\n",
       "Name: count, dtype: int64"
      ]
     },
     "execution_count": 45,
     "metadata": {},
     "output_type": "execute_result"
    }
   ],
   "source": [
    "df['treat'].value_counts()"
   ]
  },
  {
   "cell_type": "code",
   "execution_count": 46,
   "id": "341afd11",
   "metadata": {
    "execution": {
     "iopub.execute_input": "2024-05-30T17:03:00.460168Z",
     "iopub.status.busy": "2024-05-30T17:03:00.458762Z",
     "iopub.status.idle": "2024-05-30T17:03:00.541323Z",
     "shell.execute_reply": "2024-05-30T17:03:00.540182Z"
    },
    "papermill": {
     "duration": 0.133336,
     "end_time": "2024-05-30T17:03:00.543972",
     "exception": false,
     "start_time": "2024-05-30T17:03:00.410636",
     "status": "completed"
    },
    "tags": []
   },
   "outputs": [
    {
     "data": {
      "image/svg+xml": [
       "<svg class=\"main-svg\" xmlns=\"http://www.w3.org/2000/svg\" xmlns:xlink=\"http://www.w3.org/1999/xlink\" width=\"1000\" height=\"500\" style=\"\" viewBox=\"0 0 1000 500\"><rect x=\"0\" y=\"0\" width=\"1000\" height=\"500\" style=\"fill: rgb(255, 255, 255); fill-opacity: 1;\"/><defs id=\"defs-54c572\"><g class=\"clips\"/><g class=\"gradients\"/><g class=\"patterns\"/></defs><g class=\"bglayer\"/><g class=\"layer-below\"><g class=\"imagelayer\"/><g class=\"shapelayer\"/></g><g class=\"cartesianlayer\"/><g class=\"polarlayer\"/><g class=\"smithlayer\"/><g class=\"ternarylayer\"/><g class=\"geolayer\"/><g class=\"funnelarealayer\"/><g class=\"pielayer\"><g class=\"trace\" stroke-linejoin=\"round\" style=\"opacity: 1;\"><g class=\"slice\"><path class=\"surface\" d=\"M500,265l0,-185a185,185 0 1 1 -184.32498254297445,200.78926250754475Z\" style=\"pointer-events: none; fill: rgb(178, 223, 138); fill-opacity: 1; stroke-width: 1; stroke: rgb(0, 0, 0); stroke-opacity: 1;\"/><g class=\"slicetext\"><text data-notex=\"1\" class=\"slicetext\" transform=\"translate(568.1414095501918,323.45240063994044)\" text-anchor=\"middle\" x=\"0\" y=\"0\" style=\"font-family: 'Open Sans', verdana, arial, sans-serif; font-size: 14px; fill: rgb(0, 0, 0); fill-opacity: 1; white-space: pre;\"><tspan class=\"line\" dy=\"0em\" x=\"0\" y=\"0\">1</tspan><tspan class=\"line\" dy=\"1.3em\" x=\"0\" y=\"0\">73.6%</tspan></text></g></g><g class=\"slice\"><path class=\"surface\" d=\"M500,265l-184.32498254297448,15.789262507544668a185,185 0 0 1 184.32498254297448,-200.78926250754466Z\" style=\"pointer-events: none; fill: rgb(51, 160, 44); fill-opacity: 1; stroke-width: 1; stroke: rgb(0, 0, 0); stroke-opacity: 1;\"/><g class=\"slicetext\"><text data-notex=\"1\" class=\"slicetext\" transform=\"translate(421.52608220953925,188.8592091759158)\" text-anchor=\"middle\" x=\"0\" y=\"0\" style=\"font-family: 'Open Sans', verdana, arial, sans-serif; font-size: 14px; fill: rgb(0, 0, 0); fill-opacity: 1; white-space: pre;\"><tspan class=\"line\" dy=\"0em\" x=\"0\" y=\"0\">0</tspan><tspan class=\"line\" dy=\"1.3em\" x=\"0\" y=\"0\">26.4%</tspan></text></g></g></g></g><g class=\"iciclelayer\"/><g class=\"treemaplayer\"/><g class=\"sunburstlayer\"/><g class=\"glimages\"/><defs id=\"topdefs-54c572\"><g class=\"clips\"/><clipPath id=\"legend54c572\"><rect width=\"130.6\" height=\"74.6\" x=\"0.7\" y=\"0.7\"/></clipPath></defs><g class=\"layer-above\"><g class=\"imagelayer\"/><g class=\"shapelayer\"/></g><g class=\"infolayer\"><g class=\"legend\" pointer-events=\"all\" transform=\"translate(770,227)\"><rect class=\"bg\" shape-rendering=\"crispEdges\" style=\"stroke: rgb(0, 0, 0); stroke-opacity: 1; fill: rgb(255, 255, 255); fill-opacity: 1; stroke-width: 0.7px;\" width=\"131.3\" height=\"75.3\" x=\"0.35\" y=\"0.35\"/><g class=\"scrollbox\" transform=\"\" clip-path=\"url(#legend54c572)\"><text class=\"legendtitletext\" text-anchor=\"start\" x=\"2.7\" y=\"22.8\" style=\"font-family: 'Times New Roman'; font-size: 17px; fill: rgb(0, 0, 0); fill-opacity: 1; white-space: pre;\">Type of Treatment</text><g class=\"groups\"><g class=\"traces\" transform=\"translate(0.7,38.4)\" style=\"opacity: 1;\"><text class=\"legendtext\" text-anchor=\"start\" x=\"40\" y=\"5.46\" style=\"font-family: 'Times New Roman'; font-size: 14px; fill: rgb(0, 0, 0); fill-opacity: 1; white-space: pre;\">1</text><g class=\"layers\" style=\"opacity: 1;\"><g class=\"legendfill\"/><g class=\"legendlines\"/><g class=\"legendsymbols\"><g class=\"legendpoints\"><path class=\"legendpie\" d=\"M6,6H-6V-6H6Z\" transform=\"translate(20,0)\" style=\"fill: rgb(178, 223, 138); fill-opacity: 1; stroke-width: 1; stroke: rgb(0, 0, 0); stroke-opacity: 1;\"/></g></g></g><rect class=\"legendtoggle\" x=\"0\" y=\"-10.6\" width=\"47\" height=\"21.2\" style=\"fill: rgb(0, 0, 0); fill-opacity: 0;\"/></g><g class=\"traces\" transform=\"translate(0.7,59.6)\" style=\"opacity: 1;\"><text class=\"legendtext\" text-anchor=\"start\" x=\"40\" y=\"5.46\" style=\"font-family: 'Times New Roman'; font-size: 14px; fill: rgb(0, 0, 0); fill-opacity: 1; white-space: pre;\">0</text><g class=\"layers\" style=\"opacity: 1;\"><g class=\"legendfill\"/><g class=\"legendlines\"/><g class=\"legendsymbols\"><g class=\"legendpoints\"><path class=\"legendpie\" d=\"M6,6H-6V-6H6Z\" transform=\"translate(20,0)\" style=\"fill: rgb(51, 160, 44); fill-opacity: 1; stroke-width: 1; stroke: rgb(0, 0, 0); stroke-opacity: 1;\"/></g></g></g><rect class=\"legendtoggle\" x=\"0\" y=\"-10.6\" width=\"47\" height=\"21.2\" style=\"fill: rgb(0, 0, 0); fill-opacity: 0;\"/></g></g></g><rect class=\"scrollbar\" rx=\"20\" ry=\"3\" width=\"0\" height=\"0\" x=\"0\" y=\"0\" style=\"fill: rgb(128, 139, 164); fill-opacity: 1;\"/></g><g class=\"g-gtitle\"><text class=\"gtitle\" x=\"210\" y=\"25\" text-anchor=\"middle\" dy=\"0.7em\" style=\"font-family: 'Times New Roman'; font-size: 26px; fill: rgb(0, 0, 0); opacity: 1; font-weight: normal; white-space: pre;\">Distribution of type of Treatment</text></g><g class=\"annotation\" data-index=\"0\" style=\"opacity: 1;\"><g class=\"annotation-text-g\" transform=\"rotate(0,500,477.00000000000006)\"><g class=\"cursor-pointer\" transform=\"translate(307,467)\"><rect class=\"bg\" x=\"0.5\" y=\"0.5\" width=\"385\" height=\"19\" style=\"stroke-width: 1px; stroke: rgb(0, 0, 0); stroke-opacity: 0; fill: rgb(0, 0, 0); fill-opacity: 0;\"/><text class=\"annotation-text\" text-anchor=\"middle\" x=\"193.046875\" y=\"15\" style=\"font-family: 'Open Sans', verdana, arial, sans-serif; font-size: 14px; fill: rgb(0, 0, 0); fill-opacity: 1; white-space: pre;\">Majority of patients undertook treatments other than just ZDV </text></g></g></g></g></svg>"
      ]
     },
     "metadata": {},
     "output_type": "display_data"
    }
   ],
   "source": [
    "\n",
    "palette = cl.scales['7']['qual']['Paired'][2:4]\n",
    "\n",
    "\n",
    "treat = df['treat'].value_counts().reset_index()\n",
    "treat.columns = ['treat', 'count']\n",
    "\n",
    "fig = go.Figure(data=[go.Pie(\n",
    "    labels=treat['treat'],\n",
    "    values=treat['count'],\n",
    "    marker=dict(colors=palette, line=dict(color='#000000', width=1)),\n",
    "    textinfo=\"label+percent\",\n",
    "    textfont=dict(size=14, color='#000000')\n",
    ")])\n",
    "\n",
    "\n",
    "fig.update_layout(\n",
    "    title_text=\"Distribution of type of Treatments\",\n",
    "    title_font_size=24,\n",
    "    title_font_family=\"Times New Roman\",\n",
    "    title_font_color=\"#000000\",  \n",
    "    paper_bgcolor='#ffffff',  \n",
    "    plot_bgcolor='#ffffff', \n",
    "    showlegend=True,\n",
    "    legend_title_text='Type of Treatment',\n",
    "    legend=dict(\n",
    "        x=0.8,\n",
    "        y=0.5,\n",
    "        traceorder='normal',\n",
    "        font=dict(\n",
    "            family=\"Times New Roman\",\n",
    "            size=14,\n",
    "            color=\"#000000\"\n",
    "        ),\n",
    "        bgcolor=\"#ffffff\",  \n",
    "        bordercolor=\"#000000\", \n",
    "        borderwidth=0.7,\n",
    "        orientation=\"v\" \n",
    "    )\n",
    ")\n",
    "\n",
    "fig.update_layout(width=1000)\n",
    "\n",
    "fig.update_layout(\n",
    "    title={\n",
    "        'text': \"Distribution of type of Treatment\",\n",
    "        'y':0.95,\n",
    "        'x':0.21,\n",
    "        'xanchor': 'center',\n",
    "        'yanchor': 'top'},\n",
    "    title_font_size=26,\n",
    "    margin=dict(l=50, r=50, t=80, b=50)\n",
    ")\n",
    "\n",
    "fig.add_annotation(\n",
    "    text=\"Majority of patients undertook treatments other than just ZDV \",\n",
    "    x=0.5,\n",
    "    y=-0.10,\n",
    "    showarrow=False,\n",
    "    font=dict(color=\"#000000\", size=14) \n",
    ")\n",
    "\n",
    "# Show the pie chart\n",
    "fig.show('svg')\n"
   ]
  },
  {
   "cell_type": "markdown",
   "id": "e46fab12",
   "metadata": {
    "papermill": {
     "duration": 0.045511,
     "end_time": "2024-05-30T17:03:00.636353",
     "exception": false,
     "start_time": "2024-05-30T17:03:00.590842",
     "status": "completed"
    },
    "tags": []
   },
   "source": [
    "----------------------------------------------------------------------------------------------------------------------------------------------------------\n"
   ]
  },
  {
   "cell_type": "markdown",
   "id": "75fd44ae",
   "metadata": {
    "papermill": {
     "duration": 0.047051,
     "end_time": "2024-05-30T17:03:00.729821",
     "exception": false,
     "start_time": "2024-05-30T17:03:00.682770",
     "status": "completed"
    },
    "tags": []
   },
   "source": [
    "## offtrt: indicator of off-trt before 96+/-5 weeks (0=no,1=yes)\n",
    "\n",
    "\n",
    "The variable \"offtrt\"  represents an indicator of being off treatment before a specified time frame, typically 96 weeks (approximately 2 years) with a margin of 5 weeks. \n",
    "    \n",
    "- Indicator of Off-Treatment (0=no):\n",
    "   - Individuals categorized as \"0\" for \"offtrt\" are not considered to have been off treatment before the specified time frame (96+/-5 weeks). This means they either remained on treatment continuously during this period or did not have any interruption in their treatment regimen that exceeded the defined threshold.\n",
    "         \n",
    "- Indicator of Off-Treatment (1=yes):   \n",
    "  - Individuals categorized as \"1\" for \"offtrt\" are considered to have been off treatment before the specified time frame (96+/-5 weeks). This indicates that at some point during the period leading up to 96 weeks, they experienced an interruption or cessation in their treatment regimen, whether intentional or unintentional, that lasted beyond the defined threshold.\n",
    "\n",
    "\n",
    "***Conclusion***\n",
    "- *Majority of patients have successfully maintained their antiretroviral therapy without significant interruptions over the specified period.*"
   ]
  },
  {
   "cell_type": "code",
   "execution_count": 47,
   "id": "cc3d3001",
   "metadata": {
    "execution": {
     "iopub.execute_input": "2024-05-30T17:03:00.833090Z",
     "iopub.status.busy": "2024-05-30T17:03:00.831751Z",
     "iopub.status.idle": "2024-05-30T17:03:00.842280Z",
     "shell.execute_reply": "2024-05-30T17:03:00.840945Z"
    },
    "papermill": {
     "duration": 0.064276,
     "end_time": "2024-05-30T17:03:00.845555",
     "exception": false,
     "start_time": "2024-05-30T17:03:00.781279",
     "status": "completed"
    },
    "tags": []
   },
   "outputs": [
    {
     "data": {
      "text/plain": [
       "offtrt\n",
       "0    9768\n",
       "1    5232\n",
       "Name: count, dtype: int64"
      ]
     },
     "execution_count": 47,
     "metadata": {},
     "output_type": "execute_result"
    }
   ],
   "source": [
    "df['offtrt'].value_counts()"
   ]
  },
  {
   "cell_type": "markdown",
   "id": "beb205fe",
   "metadata": {
    "papermill": {
     "duration": 0.046496,
     "end_time": "2024-05-30T17:03:00.943269",
     "exception": false,
     "start_time": "2024-05-30T17:03:00.896773",
     "status": "completed"
    },
    "tags": []
   },
   "source": [
    "----------------------------------------------------------------------------------------------------------------------------------------------------------\n"
   ]
  },
  {
   "cell_type": "markdown",
   "id": "b63a17fd",
   "metadata": {
    "papermill": {
     "duration": 0.046858,
     "end_time": "2024-05-30T17:03:01.040727",
     "exception": false,
     "start_time": "2024-05-30T17:03:00.993869",
     "status": "completed"
    },
    "tags": []
   },
   "source": [
    "# cd40: CD4 at baseline\n",
    "\n",
    "CD4 cells, also known as CD4+ T cells, are a type of white blood cell that plays a crucial role in the immune system. They help coordinate the immune response by signaling other cells in the immune system to perform their functions.\n",
    "\n",
    "People living with HIV who have a CD4 count over 500 are usually in pretty good health. People living with HIV who have a CD4 cell count below 200 are at high risk of developing serious illnesses. HIV treatment is recommended for all people living with HIV. It is especially important for people with low CD4 counts.\n",
    "\n",
    "***Conclusion***\n",
    "- *Most of the patients have a count closer to 300 which is a bit concerning*"
   ]
  },
  {
   "cell_type": "code",
   "execution_count": 48,
   "id": "83a5d23b",
   "metadata": {
    "execution": {
     "iopub.execute_input": "2024-05-30T17:03:01.140202Z",
     "iopub.status.busy": "2024-05-30T17:03:01.139392Z",
     "iopub.status.idle": "2024-05-30T17:03:01.152462Z",
     "shell.execute_reply": "2024-05-30T17:03:01.150970Z"
    },
    "papermill": {
     "duration": 0.064558,
     "end_time": "2024-05-30T17:03:01.155710",
     "exception": false,
     "start_time": "2024-05-30T17:03:01.091152",
     "status": "completed"
    },
    "tags": []
   },
   "outputs": [
    {
     "data": {
      "text/plain": [
       "count    15000.000000\n",
       "mean       318.754800\n",
       "std        102.653183\n",
       "min          0.000000\n",
       "25%        235.000000\n",
       "50%        298.000000\n",
       "75%        396.000000\n",
       "max        996.000000\n",
       "Name: cd40, dtype: float64"
      ]
     },
     "execution_count": 48,
     "metadata": {},
     "output_type": "execute_result"
    }
   ],
   "source": [
    "df['cd40'].describe()"
   ]
  },
  {
   "cell_type": "markdown",
   "id": "0a19ecee",
   "metadata": {
    "papermill": {
     "duration": 0.04778,
     "end_time": "2024-05-30T17:03:01.257144",
     "exception": false,
     "start_time": "2024-05-30T17:03:01.209364",
     "status": "completed"
    },
    "tags": []
   },
   "source": [
    "*Median is 298. A CD4 count of 298 cells/mm³ indicates that the median immune system health of individuals in the study is moderately compromised.*"
   ]
  },
  {
   "cell_type": "code",
   "execution_count": 49,
   "id": "d61737ac",
   "metadata": {
    "execution": {
     "iopub.execute_input": "2024-05-30T17:03:01.358655Z",
     "iopub.status.busy": "2024-05-30T17:03:01.358239Z",
     "iopub.status.idle": "2024-05-30T17:03:01.507528Z",
     "shell.execute_reply": "2024-05-30T17:03:01.506318Z"
    },
    "papermill": {
     "duration": 0.201389,
     "end_time": "2024-05-30T17:03:01.510902",
     "exception": false,
     "start_time": "2024-05-30T17:03:01.309513",
     "status": "completed"
    },
    "tags": []
   },
   "outputs": [
    {
     "data": {
      "image/svg+xml": [
       "<svg class=\"main-svg\" xmlns=\"http://www.w3.org/2000/svg\" xmlns:xlink=\"http://www.w3.org/1999/xlink\" width=\"1000\" height=\"500\" style=\"\" viewBox=\"0 0 1000 500\"><rect x=\"0\" y=\"0\" width=\"1000\" height=\"500\" style=\"fill: rgb(255, 255, 255); fill-opacity: 1;\"/><defs id=\"defs-f9e6b6\"><g class=\"clips\"><clipPath id=\"clipf9e6b6xyplot\" class=\"plotclip\"><rect width=\"885\" height=\"367\"/></clipPath><clipPath class=\"axesclip\" id=\"clipf9e6b6x\"><rect x=\"65\" y=\"0\" width=\"885\" height=\"500\"/></clipPath><clipPath class=\"axesclip\" id=\"clipf9e6b6y\"><rect x=\"0\" y=\"80\" width=\"1000\" height=\"367\"/></clipPath><clipPath class=\"axesclip\" id=\"clipf9e6b6xy\"><rect x=\"65\" y=\"80\" width=\"885\" height=\"367\"/></clipPath></g><g class=\"gradients\"/><g class=\"patterns\"/></defs><g class=\"bglayer\"/><g class=\"layer-below\"><g class=\"imagelayer\"/><g class=\"shapelayer\"/></g><g class=\"cartesianlayer\"><g class=\"subplot xy\"><g class=\"layer-subplot\"><g class=\"shapelayer\"/><g class=\"imagelayer\"/></g><g class=\"minor-gridlayer\"><g class=\"x\"/><g class=\"y\"/></g><g class=\"gridlayer\"><g class=\"x\"/><g class=\"y\"><path class=\"ygrid crisp\" transform=\"translate(0,391.39)\" d=\"M65,0h885\" style=\"stroke: rgb(255, 255, 255); stroke-opacity: 1; stroke-width: 1px;\"/><path class=\"ygrid crisp\" transform=\"translate(0,335.78999999999996)\" d=\"M65,0h885\" style=\"stroke: rgb(255, 255, 255); stroke-opacity: 1; stroke-width: 1px;\"/><path class=\"ygrid crisp\" transform=\"translate(0,280.18)\" d=\"M65,0h885\" style=\"stroke: rgb(255, 255, 255); stroke-opacity: 1; stroke-width: 1px;\"/><path class=\"ygrid crisp\" transform=\"translate(0,224.58)\" d=\"M65,0h885\" style=\"stroke: rgb(255, 255, 255); stroke-opacity: 1; stroke-width: 1px;\"/><path class=\"ygrid crisp\" transform=\"translate(0,168.97)\" d=\"M65,0h885\" style=\"stroke: rgb(255, 255, 255); stroke-opacity: 1; stroke-width: 1px;\"/><path class=\"ygrid crisp\" transform=\"translate(0,113.36)\" d=\"M65,0h885\" style=\"stroke: rgb(255, 255, 255); stroke-opacity: 1; stroke-width: 1px;\"/></g></g><g class=\"zerolinelayer\"><path class=\"yzl zl crisp\" transform=\"translate(0,447)\" d=\"M65,0h885\" style=\"stroke: rgb(255, 255, 255); stroke-opacity: 1; stroke-width: 2px;\"/></g><path class=\"xlines-below\"/><path class=\"ylines-below\"/><g class=\"overlines-below\"/><g class=\"xaxislayer-below\"/><g class=\"yaxislayer-below\"/><g class=\"overaxes-below\"/><g class=\"plot\" transform=\"translate(65,80)\" clip-path=\"url(#clipf9e6b6xyplot)\"><g class=\"barlayer mlayer\"><g class=\"trace bars\" style=\"opacity: 1;\"><g class=\"points\"><g class=\"point\"><path d=\"M0,367V366.39H88.5V367Z\" style=\"vector-effect: none; opacity: 1; stroke-width: 0.6px; fill: rgb(128, 125, 186); fill-opacity: 1; stroke: rgb(0, 0, 0); stroke-opacity: 1;\"/></g><g class=\"point\"><path d=\"M88.5,367V294.1H177V367Z\" style=\"vector-effect: none; opacity: 1; stroke-width: 0.6px; fill: rgb(128, 125, 186); fill-opacity: 1; stroke: rgb(0, 0, 0); stroke-opacity: 1;\"/></g><g class=\"point\"><path d=\"M177,367V18.35H265.5V367Z\" style=\"vector-effect: none; opacity: 1; stroke-width: 0.6px; fill: rgb(128, 125, 186); fill-opacity: 1; stroke: rgb(0, 0, 0); stroke-opacity: 1;\"/></g><g class=\"point\"><path d=\"M265.5,367V155.86H354V367Z\" style=\"vector-effect: none; opacity: 1; stroke-width: 0.6px; fill: rgb(128, 125, 186); fill-opacity: 1; stroke: rgb(0, 0, 0); stroke-opacity: 1;\"/></g><g class=\"point\"><path d=\"M354,367V205.74H442.5V367Z\" style=\"vector-effect: none; opacity: 1; stroke-width: 0.6px; fill: rgb(128, 125, 186); fill-opacity: 1; stroke: rgb(0, 0, 0); stroke-opacity: 1;\"/></g><g class=\"point\"><path d=\"M442.5,367V333.97H531V367Z\" style=\"vector-effect: none; opacity: 1; stroke-width: 0.6px; fill: rgb(128, 125, 186); fill-opacity: 1; stroke: rgb(0, 0, 0); stroke-opacity: 1;\"/></g><g class=\"point\"><path d=\"M531,367V361.55H619.5V367Z\" style=\"vector-effect: none; opacity: 1; stroke-width: 0.6px; fill: rgb(128, 125, 186); fill-opacity: 1; stroke: rgb(0, 0, 0); stroke-opacity: 1;\"/></g><g class=\"point\"><path d=\"M619.5,367V366.17H708V367Z\" style=\"vector-effect: none; opacity: 1; stroke-width: 0.6px; fill: rgb(128, 125, 186); fill-opacity: 1; stroke: rgb(0, 0, 0); stroke-opacity: 1;\"/></g><g class=\"point\"><path d=\"M708,367V366.83H796.5V367Z\" style=\"vector-effect: none; opacity: 1; stroke-width: 0.6px; fill: rgb(128, 125, 186); fill-opacity: 1; stroke: rgb(0, 0, 0); stroke-opacity: 1;\"/></g><g class=\"point\"><path d=\"M796.5,367V366.94H885V367Z\" style=\"vector-effect: none; opacity: 1; stroke-width: 0.6px; fill: rgb(128, 125, 186); fill-opacity: 1; stroke: rgb(0, 0, 0); stroke-opacity: 1;\"/></g></g></g></g></g><g class=\"overplot\"/><path class=\"xlines-above crisp\" d=\"M0,0\" style=\"fill: none;\"/><path class=\"ylines-above crisp\" d=\"M0,0\" style=\"fill: none;\"/><g class=\"overlines-above\"/><g class=\"xaxislayer-above\"><g class=\"xtick\"><text text-anchor=\"middle\" x=\"0\" y=\"460\" transform=\"translate(65.44,0)\" style=\"font-family: 'Open Sans', verdana, arial, sans-serif; font-size: 12px; fill: rgb(42, 63, 95); fill-opacity: 1; white-space: pre; opacity: 1;\">0</text></g><g class=\"xtick\"><text text-anchor=\"middle\" x=\"0\" y=\"460\" style=\"font-family: 'Open Sans', verdana, arial, sans-serif; font-size: 12px; fill: rgb(42, 63, 95); fill-opacity: 1; white-space: pre; opacity: 1;\" transform=\"translate(242.44,0)\">200</text></g><g class=\"xtick\"><text text-anchor=\"middle\" x=\"0\" y=\"460\" style=\"font-family: 'Open Sans', verdana, arial, sans-serif; font-size: 12px; fill: rgb(42, 63, 95); fill-opacity: 1; white-space: pre; opacity: 1;\" transform=\"translate(419.44,0)\">400</text></g><g class=\"xtick\"><text text-anchor=\"middle\" x=\"0\" y=\"460\" style=\"font-family: 'Open Sans', verdana, arial, sans-serif; font-size: 12px; fill: rgb(42, 63, 95); fill-opacity: 1; white-space: pre; opacity: 1;\" transform=\"translate(596.44,0)\">600</text></g><g class=\"xtick\"><text text-anchor=\"middle\" x=\"0\" y=\"460\" style=\"font-family: 'Open Sans', verdana, arial, sans-serif; font-size: 12px; fill: rgb(42, 63, 95); fill-opacity: 1; white-space: pre; opacity: 1;\" transform=\"translate(773.44,0)\">800</text></g></g><g class=\"yaxislayer-above\"><g class=\"ytick\"><text text-anchor=\"end\" x=\"64\" y=\"4.199999999999999\" transform=\"translate(0,447)\" style=\"font-family: 'Open Sans', verdana, arial, sans-serif; font-size: 12px; fill: rgb(42, 63, 95); fill-opacity: 1; white-space: pre; opacity: 1;\">0</text></g><g class=\"ytick\"><text text-anchor=\"end\" x=\"64\" y=\"4.199999999999999\" style=\"font-family: 'Open Sans', verdana, arial, sans-serif; font-size: 12px; fill: rgb(42, 63, 95); fill-opacity: 1; white-space: pre; opacity: 1;\" transform=\"translate(0,391.39)\">1000</text></g><g class=\"ytick\"><text text-anchor=\"end\" x=\"64\" y=\"4.199999999999999\" style=\"font-family: 'Open Sans', verdana, arial, sans-serif; font-size: 12px; fill: rgb(42, 63, 95); fill-opacity: 1; white-space: pre; opacity: 1;\" transform=\"translate(0,335.78999999999996)\">2000</text></g><g class=\"ytick\"><text text-anchor=\"end\" x=\"64\" y=\"4.199999999999999\" style=\"font-family: 'Open Sans', verdana, arial, sans-serif; font-size: 12px; fill: rgb(42, 63, 95); fill-opacity: 1; white-space: pre; opacity: 1;\" transform=\"translate(0,280.18)\">3000</text></g><g class=\"ytick\"><text text-anchor=\"end\" x=\"64\" y=\"4.199999999999999\" style=\"font-family: 'Open Sans', verdana, arial, sans-serif; font-size: 12px; fill: rgb(42, 63, 95); fill-opacity: 1; white-space: pre; opacity: 1;\" transform=\"translate(0,224.58)\">4000</text></g><g class=\"ytick\"><text text-anchor=\"end\" x=\"64\" y=\"4.199999999999999\" style=\"font-family: 'Open Sans', verdana, arial, sans-serif; font-size: 12px; fill: rgb(42, 63, 95); fill-opacity: 1; white-space: pre; opacity: 1;\" transform=\"translate(0,168.97)\">5000</text></g><g class=\"ytick\"><text text-anchor=\"end\" x=\"64\" y=\"4.199999999999999\" style=\"font-family: 'Open Sans', verdana, arial, sans-serif; font-size: 12px; fill: rgb(42, 63, 95); fill-opacity: 1; white-space: pre; opacity: 1;\" transform=\"translate(0,113.36)\">6000</text></g></g><g class=\"overaxes-above\"/></g></g><g class=\"polarlayer\"/><g class=\"smithlayer\"/><g class=\"ternarylayer\"/><g class=\"geolayer\"/><g class=\"funnelarealayer\"/><g class=\"pielayer\"/><g class=\"iciclelayer\"/><g class=\"treemaplayer\"/><g class=\"sunburstlayer\"/><g class=\"glimages\"/><defs id=\"topdefs-f9e6b6\"><g class=\"clips\"/></defs><g class=\"layer-above\"><g class=\"imagelayer\"/><g class=\"shapelayer\"/></g><g class=\"infolayer\"><g class=\"g-gtitle\"><text class=\"gtitle\" x=\"310\" y=\"25\" text-anchor=\"middle\" dy=\"0.7em\" style=\"font-family: 'Times New Roman'; font-size: 26px; fill: rgb(0, 0, 0); opacity: 1; font-weight: normal; white-space: pre;\">Distribution of count of CD4 at baseline</text></g><g class=\"g-xtitle\"><text class=\"xtitle\" x=\"507.5\" y=\"487.3\" text-anchor=\"middle\" style=\"font-family: 'Open Sans', verdana, arial, sans-serif; font-size: 14px; fill: rgb(42, 63, 95); opacity: 1; font-weight: normal; white-space: pre;\">Count of CD4</text></g><g class=\"g-ytitle\" transform=\"translate(0.0029296875,0)\"><text class=\"ytitle\" transform=\"rotate(-90,12.996875000000003,263.5)\" x=\"12.996875000000003\" y=\"263.5\" text-anchor=\"middle\" style=\"font-family: 'Open Sans', verdana, arial, sans-serif; font-size: 14px; fill: rgb(42, 63, 95); opacity: 1; font-weight: normal; white-space: pre;\">Count of patients</text></g></g></svg>"
      ]
     },
     "metadata": {},
     "output_type": "display_data"
    }
   ],
   "source": [
    "palette = cl.scales['9']['seq']['Purples']\n",
    "\n",
    "fig = go.Figure(data=[go.Histogram(\n",
    "    x=df['cd40'],\n",
    "    marker=dict(color=palette[5], line=dict(color='#000000', width=0.6)),  # Use the second color from the palette\n",
    "    nbinsx=10\n",
    ")])\n",
    "\n",
    "# Update layout\n",
    "fig.update_layout(\n",
    "    title_text=\"Distribution of count of CD4\",\n",
    "    title_font_size=24,\n",
    "    title_font_family=\"Times New Roman\",\n",
    "    title_font_color=\"#000000\",\n",
    "    paper_bgcolor='#ffffff',\n",
    "    plot_bgcolor='#ffffff',\n",
    "    xaxis=dict(title=\"Count of CD4\"),\n",
    "    yaxis=dict(title=\"Count of patients\"),\n",
    ")\n",
    "\n",
    "# Set title properties\n",
    "fig.update_layout(\n",
    "    title={\n",
    "        'text': \"Distribution of count of CD4 at baseline\",\n",
    "        'y':0.95,\n",
    "        'x':0.31,\n",
    "        'xanchor': 'center',\n",
    "        'yanchor': 'top'},\n",
    "    title_font_size=26,\n",
    "    margin=dict(l=50, r=50, t=80, b=50)\n",
    ")\n",
    "\n",
    "# Set the width of the figure\n",
    "fig.update_layout(width=1000)\n",
    "\n",
    "# Show the histogram\n",
    "fig.show('svg')"
   ]
  },
  {
   "cell_type": "markdown",
   "id": "b22b6a2b",
   "metadata": {
    "papermill": {
     "duration": 0.05628,
     "end_time": "2024-05-30T17:03:01.620573",
     "exception": false,
     "start_time": "2024-05-30T17:03:01.564293",
     "status": "completed"
    },
    "tags": []
   },
   "source": [
    "*Slightly positively correlated. 1500 people still have a low count(close to 200) of CD4*"
   ]
  },
  {
   "cell_type": "markdown",
   "id": "9007c561",
   "metadata": {
    "papermill": {
     "duration": 0.049469,
     "end_time": "2024-05-30T17:03:01.720133",
     "exception": false,
     "start_time": "2024-05-30T17:03:01.670664",
     "status": "completed"
    },
    "tags": []
   },
   "source": [
    "----------------------------------------------------------------------------------------------------------------------------------------------------------\n"
   ]
  },
  {
   "cell_type": "markdown",
   "id": "e68a5cee",
   "metadata": {
    "papermill": {
     "duration": 0.050448,
     "end_time": "2024-05-30T17:03:01.819587",
     "exception": false,
     "start_time": "2024-05-30T17:03:01.769139",
     "status": "completed"
    },
    "tags": []
   },
   "source": [
    "## cd420: CD4 at 20+/-5 weeks\n",
    "\n",
    "The CD4 count at 20 weeks (with a margin of +/- 5 weeks) is used to monitor how the immune system is responding to antiretroviral therapy (ART) or to track the progression of the disease\n",
    "\n",
    "An increase in CD4 count suggests that the treatment is working, leading to immune recovery. Conversely, a stable or decreasing CD4 count may signal the need to reassess the treatment regimen.\n",
    "\n",
    "- *There is a shift to the right. This shows that the treatment is working*"
   ]
  },
  {
   "cell_type": "code",
   "execution_count": 50,
   "id": "78d5ff0d",
   "metadata": {
    "execution": {
     "iopub.execute_input": "2024-05-30T17:03:01.920572Z",
     "iopub.status.busy": "2024-05-30T17:03:01.920206Z",
     "iopub.status.idle": "2024-05-30T17:03:01.931508Z",
     "shell.execute_reply": "2024-05-30T17:03:01.930358Z"
    },
    "papermill": {
     "duration": 0.065614,
     "end_time": "2024-05-30T17:03:01.933819",
     "exception": false,
     "start_time": "2024-05-30T17:03:01.868205",
     "status": "completed"
    },
    "tags": []
   },
   "outputs": [
    {
     "data": {
      "text/plain": [
       "count    15000.000000\n",
       "mean       436.178600\n",
       "std        142.800481\n",
       "min        111.000000\n",
       "25%        327.000000\n",
       "50%        413.000000\n",
       "75%        527.000000\n",
       "max       1119.000000\n",
       "Name: cd420, dtype: float64"
      ]
     },
     "execution_count": 50,
     "metadata": {},
     "output_type": "execute_result"
    }
   ],
   "source": [
    "df['cd420'].describe()"
   ]
  },
  {
   "cell_type": "markdown",
   "id": "c8aad105",
   "metadata": {
    "papermill": {
     "duration": 0.053017,
     "end_time": "2024-05-30T17:03:02.035376",
     "exception": false,
     "start_time": "2024-05-30T17:03:01.982359",
     "status": "completed"
    },
    "tags": []
   },
   "source": [
    "*The CD4 count has risen to 413 for half of the population which is a clear indicator of the fact that the therapy is working for at least half of the population*"
   ]
  },
  {
   "cell_type": "code",
   "execution_count": 51,
   "id": "ffe2d6e4",
   "metadata": {
    "execution": {
     "iopub.execute_input": "2024-05-30T17:03:02.137528Z",
     "iopub.status.busy": "2024-05-30T17:03:02.136881Z",
     "iopub.status.idle": "2024-05-30T17:03:02.282530Z",
     "shell.execute_reply": "2024-05-30T17:03:02.281423Z"
    },
    "papermill": {
     "duration": 0.198179,
     "end_time": "2024-05-30T17:03:02.285113",
     "exception": false,
     "start_time": "2024-05-30T17:03:02.086934",
     "status": "completed"
    },
    "tags": []
   },
   "outputs": [
    {
     "data": {
      "image/svg+xml": [
       "<svg class=\"main-svg\" xmlns=\"http://www.w3.org/2000/svg\" xmlns:xlink=\"http://www.w3.org/1999/xlink\" width=\"1000\" height=\"500\" style=\"\" viewBox=\"0 0 1000 500\"><rect x=\"0\" y=\"0\" width=\"1000\" height=\"500\" style=\"fill: rgb(255, 255, 255); fill-opacity: 1;\"/><defs id=\"defs-4cdb5a\"><g class=\"clips\"><clipPath id=\"clip4cdb5axyplot\" class=\"plotclip\"><rect width=\"885\" height=\"367\"/></clipPath><clipPath class=\"axesclip\" id=\"clip4cdb5ax\"><rect x=\"65\" y=\"0\" width=\"885\" height=\"500\"/></clipPath><clipPath class=\"axesclip\" id=\"clip4cdb5ay\"><rect x=\"0\" y=\"80\" width=\"1000\" height=\"367\"/></clipPath><clipPath class=\"axesclip\" id=\"clip4cdb5axy\"><rect x=\"65\" y=\"80\" width=\"885\" height=\"367\"/></clipPath></g><g class=\"gradients\"/><g class=\"patterns\"/></defs><g class=\"bglayer\"/><g class=\"layer-below\"><g class=\"imagelayer\"/><g class=\"shapelayer\"/></g><g class=\"cartesianlayer\"><g class=\"subplot xy\"><g class=\"layer-subplot\"><g class=\"shapelayer\"/><g class=\"imagelayer\"/></g><g class=\"minor-gridlayer\"><g class=\"x\"/><g class=\"y\"/></g><g class=\"gridlayer\"><g class=\"x\"/><g class=\"y\"><path class=\"ygrid crisp\" transform=\"translate(0,395.78)\" d=\"M65,0h885\" style=\"stroke: rgb(255, 255, 255); stroke-opacity: 1; stroke-width: 1px;\"/><path class=\"ygrid crisp\" transform=\"translate(0,344.56)\" d=\"M65,0h885\" style=\"stroke: rgb(255, 255, 255); stroke-opacity: 1; stroke-width: 1px;\"/><path class=\"ygrid crisp\" transform=\"translate(0,293.34000000000003)\" d=\"M65,0h885\" style=\"stroke: rgb(255, 255, 255); stroke-opacity: 1; stroke-width: 1px;\"/><path class=\"ygrid crisp\" transform=\"translate(0,242.12)\" d=\"M65,0h885\" style=\"stroke: rgb(255, 255, 255); stroke-opacity: 1; stroke-width: 1px;\"/><path class=\"ygrid crisp\" transform=\"translate(0,190.9)\" d=\"M65,0h885\" style=\"stroke: rgb(255, 255, 255); stroke-opacity: 1; stroke-width: 1px;\"/><path class=\"ygrid crisp\" transform=\"translate(0,139.68)\" d=\"M65,0h885\" style=\"stroke: rgb(255, 255, 255); stroke-opacity: 1; stroke-width: 1px;\"/><path class=\"ygrid crisp\" transform=\"translate(0,88.46000000000001)\" d=\"M65,0h885\" style=\"stroke: rgb(255, 255, 255); stroke-opacity: 1; stroke-width: 1px;\"/></g></g><g class=\"zerolinelayer\"><path class=\"yzl zl crisp\" transform=\"translate(0,447)\" d=\"M65,0h885\" style=\"stroke: rgb(255, 255, 255); stroke-opacity: 1; stroke-width: 2px;\"/></g><path class=\"xlines-below\"/><path class=\"ylines-below\"/><g class=\"overlines-below\"/><g class=\"xaxislayer-below\"/><g class=\"yaxislayer-below\"/><g class=\"overaxes-below\"/><g class=\"plot\" transform=\"translate(65,80)\" clip-path=\"url(#clip4cdb5axyplot)\"><g class=\"barlayer mlayer\"><g class=\"trace bars\" shape-rendering=\"crispEdges\" style=\"opacity: 1;\"><g class=\"points\"><g class=\"point\"><path d=\"M0,367V356.96H147.5V367Z\" style=\"vector-effect: none; opacity: 1; stroke-width: 0px; fill: rgb(54, 144, 192); fill-opacity: 1;\"/></g><g class=\"point\"><path d=\"M147.5,367V18.35H295V367Z\" style=\"vector-effect: none; opacity: 1; stroke-width: 0px; fill: rgb(54, 144, 192); fill-opacity: 1;\"/></g><g class=\"point\"><path d=\"M295,367V65.37H442.5V367Z\" style=\"vector-effect: none; opacity: 1; stroke-width: 0px; fill: rgb(54, 144, 192); fill-opacity: 1;\"/></g><g class=\"point\"><path d=\"M442.5,367V269.02H590V367Z\" style=\"vector-effect: none; opacity: 1; stroke-width: 0px; fill: rgb(54, 144, 192); fill-opacity: 1;\"/></g><g class=\"point\"><path d=\"M590,367V357.63H737.5V367Z\" style=\"vector-effect: none; opacity: 1; stroke-width: 0px; fill: rgb(54, 144, 192); fill-opacity: 1;\"/></g><g class=\"point\"><path d=\"M737.5,367V366.39H885V367Z\" style=\"vector-effect: none; opacity: 1; stroke-width: 0px; fill: rgb(54, 144, 192); fill-opacity: 1;\"/></g></g></g></g></g><g class=\"overplot\"/><path class=\"xlines-above crisp\" d=\"M0,0\" style=\"fill: none;\"/><path class=\"ylines-above crisp\" d=\"M0,0\" style=\"fill: none;\"/><g class=\"overlines-above\"/><g class=\"xaxislayer-above\"><g class=\"xtick\"><text text-anchor=\"middle\" x=\"0\" y=\"460\" transform=\"translate(65.37,0)\" style=\"font-family: 'Open Sans', verdana, arial, sans-serif; font-size: 12px; fill: rgb(42, 63, 95); fill-opacity: 1; white-space: pre; opacity: 1;\">0</text></g><g class=\"xtick\"><text text-anchor=\"middle\" x=\"0\" y=\"460\" style=\"font-family: 'Open Sans', verdana, arial, sans-serif; font-size: 12px; fill: rgb(42, 63, 95); fill-opacity: 1; white-space: pre; opacity: 1;\" transform=\"translate(212.87,0)\">200</text></g><g class=\"xtick\"><text text-anchor=\"middle\" x=\"0\" y=\"460\" style=\"font-family: 'Open Sans', verdana, arial, sans-serif; font-size: 12px; fill: rgb(42, 63, 95); fill-opacity: 1; white-space: pre; opacity: 1;\" transform=\"translate(360.37,0)\">400</text></g><g class=\"xtick\"><text text-anchor=\"middle\" x=\"0\" y=\"460\" style=\"font-family: 'Open Sans', verdana, arial, sans-serif; font-size: 12px; fill: rgb(42, 63, 95); fill-opacity: 1; white-space: pre; opacity: 1;\" transform=\"translate(507.87,0)\">600</text></g><g class=\"xtick\"><text text-anchor=\"middle\" x=\"0\" y=\"460\" style=\"font-family: 'Open Sans', verdana, arial, sans-serif; font-size: 12px; fill: rgb(42, 63, 95); fill-opacity: 1; white-space: pre; opacity: 1;\" transform=\"translate(655.37,0)\">800</text></g><g class=\"xtick\"><text text-anchor=\"middle\" x=\"0\" y=\"460\" style=\"font-family: 'Open Sans', verdana, arial, sans-serif; font-size: 12px; fill: rgb(42, 63, 95); fill-opacity: 1; white-space: pre; opacity: 1;\" transform=\"translate(802.87,0)\">1000</text></g></g><g class=\"yaxislayer-above\"><g class=\"ytick\"><text text-anchor=\"end\" x=\"64\" y=\"4.199999999999999\" transform=\"translate(0,447)\" style=\"font-family: 'Open Sans', verdana, arial, sans-serif; font-size: 12px; fill: rgb(42, 63, 95); fill-opacity: 1; white-space: pre; opacity: 1;\">0</text></g><g class=\"ytick\"><text text-anchor=\"end\" x=\"64\" y=\"4.199999999999999\" style=\"font-family: 'Open Sans', verdana, arial, sans-serif; font-size: 12px; fill: rgb(42, 63, 95); fill-opacity: 1; white-space: pre; opacity: 1;\" transform=\"translate(0,395.78)\">1000</text></g><g class=\"ytick\"><text text-anchor=\"end\" x=\"64\" y=\"4.199999999999999\" style=\"font-family: 'Open Sans', verdana, arial, sans-serif; font-size: 12px; fill: rgb(42, 63, 95); fill-opacity: 1; white-space: pre; opacity: 1;\" transform=\"translate(0,344.56)\">2000</text></g><g class=\"ytick\"><text text-anchor=\"end\" x=\"64\" y=\"4.199999999999999\" style=\"font-family: 'Open Sans', verdana, arial, sans-serif; font-size: 12px; fill: rgb(42, 63, 95); fill-opacity: 1; white-space: pre; opacity: 1;\" transform=\"translate(0,293.34000000000003)\">3000</text></g><g class=\"ytick\"><text text-anchor=\"end\" x=\"64\" y=\"4.199999999999999\" style=\"font-family: 'Open Sans', verdana, arial, sans-serif; font-size: 12px; fill: rgb(42, 63, 95); fill-opacity: 1; white-space: pre; opacity: 1;\" transform=\"translate(0,242.12)\">4000</text></g><g class=\"ytick\"><text text-anchor=\"end\" x=\"64\" y=\"4.199999999999999\" style=\"font-family: 'Open Sans', verdana, arial, sans-serif; font-size: 12px; fill: rgb(42, 63, 95); fill-opacity: 1; white-space: pre; opacity: 1;\" transform=\"translate(0,190.9)\">5000</text></g><g class=\"ytick\"><text text-anchor=\"end\" x=\"64\" y=\"4.199999999999999\" style=\"font-family: 'Open Sans', verdana, arial, sans-serif; font-size: 12px; fill: rgb(42, 63, 95); fill-opacity: 1; white-space: pre; opacity: 1;\" transform=\"translate(0,139.68)\">6000</text></g><g class=\"ytick\"><text text-anchor=\"end\" x=\"64\" y=\"4.199999999999999\" style=\"font-family: 'Open Sans', verdana, arial, sans-serif; font-size: 12px; fill: rgb(42, 63, 95); fill-opacity: 1; white-space: pre; opacity: 1;\" transform=\"translate(0,88.46000000000001)\">7000</text></g></g><g class=\"overaxes-above\"/></g></g><g class=\"polarlayer\"/><g class=\"smithlayer\"/><g class=\"ternarylayer\"/><g class=\"geolayer\"/><g class=\"funnelarealayer\"/><g class=\"pielayer\"/><g class=\"iciclelayer\"/><g class=\"treemaplayer\"/><g class=\"sunburstlayer\"/><g class=\"glimages\"/><defs id=\"topdefs-4cdb5a\"><g class=\"clips\"/></defs><g class=\"layer-above\"><g class=\"imagelayer\"/><g class=\"shapelayer\"/></g><g class=\"infolayer\"><g class=\"g-gtitle\"><text class=\"gtitle\" x=\"310\" y=\"25\" text-anchor=\"middle\" dy=\"0.7em\" style=\"font-family: 'Times New Roman'; font-size: 26px; fill: rgb(0, 0, 0); opacity: 1; font-weight: normal; white-space: pre;\">Distribution of count of CD4 at 20 weeks</text></g><g class=\"g-xtitle\"><text class=\"xtitle\" x=\"507.5\" y=\"487.3\" text-anchor=\"middle\" style=\"font-family: 'Open Sans', verdana, arial, sans-serif; font-size: 14px; fill: rgb(42, 63, 95); opacity: 1; font-weight: normal; white-space: pre;\">Count of CD4 after treatment</text></g><g class=\"g-ytitle\" transform=\"translate(0.0029296875,0)\"><text class=\"ytitle\" transform=\"rotate(-90,12.996875000000003,263.5)\" x=\"12.996875000000003\" y=\"263.5\" text-anchor=\"middle\" style=\"font-family: 'Open Sans', verdana, arial, sans-serif; font-size: 14px; fill: rgb(42, 63, 95); opacity: 1; font-weight: normal; white-space: pre;\">Count of Patients</text></g></g></svg>"
      ]
     },
     "metadata": {},
     "output_type": "display_data"
    }
   ],
   "source": [
    "palette = cl.scales['9']['seq']['PuBu']\n",
    "\n",
    "fig = go.Figure(data=[go.Histogram(\n",
    "    x=df['cd420'],\n",
    "    marker=dict(color=palette[5]),  # Use the second color from the palette\n",
    "    nbinsx=10\n",
    ")])\n",
    "\n",
    "# Update layout\n",
    "fig.update_layout(\n",
    "    title_text=\"Distribution of count of CD4\",\n",
    "    title_font_size=24,\n",
    "    title_font_family=\"Times New Roman\",\n",
    "    title_font_color=\"#000000\",\n",
    "    paper_bgcolor='#ffffff',\n",
    "    plot_bgcolor='#ffffff',\n",
    "    xaxis=dict(title=\"Count of CD4 after treatment\"),\n",
    "    yaxis=dict(title=\"Count of Patients\"),\n",
    ")\n",
    "\n",
    "# Set title properties\n",
    "fig.update_layout(\n",
    "    title={\n",
    "        'text': \"Distribution of count of CD4 at 20 weeks\",\n",
    "        'y':0.95,\n",
    "        'x':0.31,\n",
    "        'xanchor': 'center',\n",
    "        'yanchor': 'top'},\n",
    "    title_font_size=26,\n",
    "    margin=dict(l=50, r=50, t=80, b=50)\n",
    ")\n",
    "\n",
    "# Set the width of the figure\n",
    "fig.update_layout(width=1000)\n",
    "\n",
    "# Show the histogram\n",
    "fig.show('svg')"
   ]
  },
  {
   "cell_type": "markdown",
   "id": "b4e46841",
   "metadata": {
    "papermill": {
     "duration": 0.058981,
     "end_time": "2024-05-30T17:03:02.408592",
     "exception": false,
     "start_time": "2024-05-30T17:03:02.349611",
     "status": "completed"
    },
    "tags": []
   },
   "source": [
    "*There is a slight shift towards the right. Now very few people have a low count of CD4*"
   ]
  },
  {
   "cell_type": "markdown",
   "id": "43d135ab",
   "metadata": {
    "papermill": {
     "duration": 0.07318,
     "end_time": "2024-05-30T17:03:02.529751",
     "exception": false,
     "start_time": "2024-05-30T17:03:02.456571",
     "status": "completed"
    },
    "tags": []
   },
   "source": [
    "----------------------------------------------------------------------------------------------------------------------------------------------------------\n"
   ]
  },
  {
   "cell_type": "markdown",
   "id": "fa9f9b5e",
   "metadata": {
    "papermill": {
     "duration": 0.063251,
     "end_time": "2024-05-30T17:03:02.642009",
     "exception": false,
     "start_time": "2024-05-30T17:03:02.578758",
     "status": "completed"
    },
    "tags": []
   },
   "source": [
    "## cd80: CD8 at baseline\n",
    "\n",
    "CD8 cells, also known as CD8+ T cells or cytotoxic T cells, are a type of white blood cell that plays a critical role in the immune system by directly killing infected cells, including those infected with viruses like HIV.\n",
    "\n",
    "The CD8 count at baseline provides a snapshot of the patient's immune response at the time of initial measurement. In HIV-infected individuals, CD8+ T cells are crucial for controlling the infection by killing HIV-infected cells.\n",
    "\n",
    "Typically, HIV infection leads to an increase in CD8+ T cells as the immune system attempts to fight the virus.\n",
    "\n",
    "`The CD4/CD8 ratio is an important metric in HIV/AIDS. Normally, the ratio is greater than 1, meaning there are more CD4 cells than CD8 cells.  In HIV infection, this ratio often decreases due to the decline in CD4 cells and the increase in CD8 cells.`\n",
    "\n",
    "\n",
    "***Conclusion***\n",
    "\n",
    "- *Half of the population has a high count of CD8 cells which means that their immune system is quite active*"
   ]
  },
  {
   "cell_type": "code",
   "execution_count": 52,
   "id": "af672ddc",
   "metadata": {
    "execution": {
     "iopub.execute_input": "2024-05-30T17:03:02.756558Z",
     "iopub.status.busy": "2024-05-30T17:03:02.755951Z",
     "iopub.status.idle": "2024-05-30T17:03:02.773339Z",
     "shell.execute_reply": "2024-05-30T17:03:02.771962Z"
    },
    "papermill": {
     "duration": 0.073636,
     "end_time": "2024-05-30T17:03:02.776599",
     "exception": false,
     "start_time": "2024-05-30T17:03:02.702963",
     "status": "completed"
    },
    "tags": []
   },
   "outputs": [
    {
     "data": {
      "text/plain": [
       "count    15000.000000\n",
       "mean      1049.644400\n",
       "std        489.881489\n",
       "min        273.000000\n",
       "25%        716.000000\n",
       "50%        887.000000\n",
       "75%       1252.250000\n",
       "max       4867.000000\n",
       "Name: cd80, dtype: float64"
      ]
     },
     "execution_count": 52,
     "metadata": {},
     "output_type": "execute_result"
    }
   ],
   "source": [
    "df['cd80'].describe()"
   ]
  },
  {
   "cell_type": "markdown",
   "id": "00e1238d",
   "metadata": {
    "papermill": {
     "duration": 0.046904,
     "end_time": "2024-05-30T17:03:02.877447",
     "exception": false,
     "start_time": "2024-05-30T17:03:02.830543",
     "status": "completed"
    },
    "tags": []
   },
   "source": [
    "*A median CD8 count of 887 suggests that many individuals in the study or clinical population have CD8 levels within or above the normal range, indicating an active immune response.*"
   ]
  },
  {
   "cell_type": "code",
   "execution_count": 53,
   "id": "16169fe8",
   "metadata": {
    "execution": {
     "iopub.execute_input": "2024-05-30T17:03:02.975772Z",
     "iopub.status.busy": "2024-05-30T17:03:02.975026Z",
     "iopub.status.idle": "2024-05-30T17:03:03.118408Z",
     "shell.execute_reply": "2024-05-30T17:03:03.117210Z"
    },
    "papermill": {
     "duration": 0.195713,
     "end_time": "2024-05-30T17:03:03.121293",
     "exception": false,
     "start_time": "2024-05-30T17:03:02.925580",
     "status": "completed"
    },
    "tags": []
   },
   "outputs": [
    {
     "data": {
      "image/svg+xml": [
       "<svg class=\"main-svg\" xmlns=\"http://www.w3.org/2000/svg\" xmlns:xlink=\"http://www.w3.org/1999/xlink\" width=\"1000\" height=\"500\" style=\"\" viewBox=\"0 0 1000 500\"><rect x=\"0\" y=\"0\" width=\"1000\" height=\"500\" style=\"fill: rgb(255, 255, 255); fill-opacity: 1;\"/><defs id=\"defs-cb2873\"><g class=\"clips\"><clipPath id=\"clipcb2873xyplot\" class=\"plotclip\"><rect width=\"885\" height=\"367\"/></clipPath><clipPath class=\"axesclip\" id=\"clipcb2873x\"><rect x=\"65\" y=\"0\" width=\"885\" height=\"500\"/></clipPath><clipPath class=\"axesclip\" id=\"clipcb2873y\"><rect x=\"0\" y=\"80\" width=\"1000\" height=\"367\"/></clipPath><clipPath class=\"axesclip\" id=\"clipcb2873xy\"><rect x=\"65\" y=\"80\" width=\"885\" height=\"367\"/></clipPath></g><g class=\"gradients\"/><g class=\"patterns\"/></defs><g class=\"bglayer\"/><g class=\"layer-below\"><g class=\"imagelayer\"/><g class=\"shapelayer\"/></g><g class=\"cartesianlayer\"><g class=\"subplot xy\"><g class=\"layer-subplot\"><g class=\"shapelayer\"/><g class=\"imagelayer\"/></g><g class=\"minor-gridlayer\"><g class=\"x\"/><g class=\"y\"/></g><g class=\"gridlayer\"><g class=\"x\"/><g class=\"y\"><path class=\"ygrid crisp\" transform=\"translate(0,406.76)\" d=\"M65,0h885\" style=\"stroke: rgb(255, 255, 255); stroke-opacity: 1; stroke-width: 1px;\"/><path class=\"ygrid crisp\" transform=\"translate(0,366.52)\" d=\"M65,0h885\" style=\"stroke: rgb(255, 255, 255); stroke-opacity: 1; stroke-width: 1px;\"/><path class=\"ygrid crisp\" transform=\"translate(0,326.28)\" d=\"M65,0h885\" style=\"stroke: rgb(255, 255, 255); stroke-opacity: 1; stroke-width: 1px;\"/><path class=\"ygrid crisp\" transform=\"translate(0,286.03999999999996)\" d=\"M65,0h885\" style=\"stroke: rgb(255, 255, 255); stroke-opacity: 1; stroke-width: 1px;\"/><path class=\"ygrid crisp\" transform=\"translate(0,245.79)\" d=\"M65,0h885\" style=\"stroke: rgb(255, 255, 255); stroke-opacity: 1; stroke-width: 1px;\"/><path class=\"ygrid crisp\" transform=\"translate(0,205.55)\" d=\"M65,0h885\" style=\"stroke: rgb(255, 255, 255); stroke-opacity: 1; stroke-width: 1px;\"/><path class=\"ygrid crisp\" transform=\"translate(0,165.31)\" d=\"M65,0h885\" style=\"stroke: rgb(255, 255, 255); stroke-opacity: 1; stroke-width: 1px;\"/><path class=\"ygrid crisp\" transform=\"translate(0,125.07)\" d=\"M65,0h885\" style=\"stroke: rgb(255, 255, 255); stroke-opacity: 1; stroke-width: 1px;\"/><path class=\"ygrid crisp\" transform=\"translate(0,84.83)\" d=\"M65,0h885\" style=\"stroke: rgb(255, 255, 255); stroke-opacity: 1; stroke-width: 1px;\"/></g></g><g class=\"zerolinelayer\"><path class=\"yzl zl crisp\" transform=\"translate(0,447)\" d=\"M65,0h885\" style=\"stroke: rgb(255, 255, 255); stroke-opacity: 1; stroke-width: 2px;\"/></g><path class=\"xlines-below\"/><path class=\"ylines-below\"/><g class=\"overlines-below\"/><g class=\"xaxislayer-below\"/><g class=\"yaxislayer-below\"/><g class=\"overaxes-below\"/><g class=\"plot\" transform=\"translate(65,80)\" clip-path=\"url(#clipcb2873xyplot)\"><g class=\"barlayer mlayer\"><g class=\"trace bars\" shape-rendering=\"crispEdges\" style=\"opacity: 1;\"><g class=\"points\"><g class=\"point\"><path d=\"M0,367V351.75H88.5V367Z\" style=\"vector-effect: none; opacity: 1; stroke-width: 0px; fill: rgb(2, 56, 88); fill-opacity: 1;\"/></g><g class=\"point\"><path d=\"M88.5,367V18.35H177V367Z\" style=\"vector-effect: none; opacity: 1; stroke-width: 0px; fill: rgb(2, 56, 88); fill-opacity: 1;\"/></g><g class=\"point\"><path d=\"M177,367V223.22H265.5V367Z\" style=\"vector-effect: none; opacity: 1; stroke-width: 0px; fill: rgb(2, 56, 88); fill-opacity: 1;\"/></g><g class=\"point\"><path d=\"M265.5,367V306.16H354V367Z\" style=\"vector-effect: none; opacity: 1; stroke-width: 0px; fill: rgb(2, 56, 88); fill-opacity: 1;\"/></g><g class=\"point\"><path d=\"M354,367V343.98H442.5V367Z\" style=\"vector-effect: none; opacity: 1; stroke-width: 0px; fill: rgb(2, 56, 88); fill-opacity: 1;\"/></g><g class=\"point\"><path d=\"M442.5,367V356.86H531V367Z\" style=\"vector-effect: none; opacity: 1; stroke-width: 0px; fill: rgb(2, 56, 88); fill-opacity: 1;\"/></g><g class=\"point\"><path d=\"M531,367V365.67H619.5V367Z\" style=\"vector-effect: none; opacity: 1; stroke-width: 0px; fill: rgb(2, 56, 88); fill-opacity: 1;\"/></g><g class=\"point\"><path d=\"M619.5,367V366.6H708V367Z\" style=\"vector-effect: none; opacity: 1; stroke-width: 0px; fill: rgb(2, 56, 88); fill-opacity: 1;\"/></g><g class=\"point\"><path d=\"M708,367V366.88H796.5V367Z\" style=\"vector-effect: none; opacity: 1; stroke-width: 0px; fill: rgb(2, 56, 88); fill-opacity: 1;\"/></g><g class=\"point\"><path d=\"M796.5,367V366.92H885V367Z\" style=\"vector-effect: none; opacity: 1; stroke-width: 0px; fill: rgb(2, 56, 88); fill-opacity: 1;\"/></g></g></g></g></g><g class=\"overplot\"/><path class=\"xlines-above crisp\" d=\"M0,0\" style=\"fill: none;\"/><path class=\"ylines-above crisp\" d=\"M0,0\" style=\"fill: none;\"/><g class=\"overlines-above\"/><g class=\"xaxislayer-above\"><g class=\"xtick\"><text text-anchor=\"middle\" x=\"0\" y=\"460\" transform=\"translate(65.09,0)\" style=\"font-family: 'Open Sans', verdana, arial, sans-serif; font-size: 12px; fill: rgb(42, 63, 95); fill-opacity: 1; white-space: pre; opacity: 1;\">0</text></g><g class=\"xtick\"><text text-anchor=\"middle\" x=\"0\" y=\"460\" style=\"font-family: 'Open Sans', verdana, arial, sans-serif; font-size: 12px; fill: rgb(42, 63, 95); fill-opacity: 1; white-space: pre; opacity: 1;\" transform=\"translate(242.09,0)\">1000</text></g><g class=\"xtick\"><text text-anchor=\"middle\" x=\"0\" y=\"460\" style=\"font-family: 'Open Sans', verdana, arial, sans-serif; font-size: 12px; fill: rgb(42, 63, 95); fill-opacity: 1; white-space: pre; opacity: 1;\" transform=\"translate(419.09,0)\">2000</text></g><g class=\"xtick\"><text text-anchor=\"middle\" x=\"0\" y=\"460\" style=\"font-family: 'Open Sans', verdana, arial, sans-serif; font-size: 12px; fill: rgb(42, 63, 95); fill-opacity: 1; white-space: pre; opacity: 1;\" transform=\"translate(596.09,0)\">3000</text></g><g class=\"xtick\"><text text-anchor=\"middle\" x=\"0\" y=\"460\" style=\"font-family: 'Open Sans', verdana, arial, sans-serif; font-size: 12px; fill: rgb(42, 63, 95); fill-opacity: 1; white-space: pre; opacity: 1;\" transform=\"translate(773.09,0)\">4000</text></g><g class=\"xtick\"><text text-anchor=\"middle\" x=\"0\" y=\"460\" style=\"font-family: 'Open Sans', verdana, arial, sans-serif; font-size: 12px; fill: rgb(42, 63, 95); fill-opacity: 1; white-space: pre; opacity: 1;\" transform=\"translate(950.09,0)\">5000</text></g></g><g class=\"yaxislayer-above\"><g class=\"ytick\"><text text-anchor=\"end\" x=\"64\" y=\"4.199999999999999\" transform=\"translate(0,447)\" style=\"font-family: 'Open Sans', verdana, arial, sans-serif; font-size: 12px; fill: rgb(42, 63, 95); fill-opacity: 1; white-space: pre; opacity: 1;\">0</text></g><g class=\"ytick\"><text text-anchor=\"end\" x=\"64\" y=\"4.199999999999999\" style=\"font-family: 'Open Sans', verdana, arial, sans-serif; font-size: 12px; fill: rgb(42, 63, 95); fill-opacity: 1; white-space: pre; opacity: 1;\" transform=\"translate(0,406.76)\">1000</text></g><g class=\"ytick\"><text text-anchor=\"end\" x=\"64\" y=\"4.199999999999999\" style=\"font-family: 'Open Sans', verdana, arial, sans-serif; font-size: 12px; fill: rgb(42, 63, 95); fill-opacity: 1; white-space: pre; opacity: 1;\" transform=\"translate(0,366.52)\">2000</text></g><g class=\"ytick\"><text text-anchor=\"end\" x=\"64\" y=\"4.199999999999999\" style=\"font-family: 'Open Sans', verdana, arial, sans-serif; font-size: 12px; fill: rgb(42, 63, 95); fill-opacity: 1; white-space: pre; opacity: 1;\" transform=\"translate(0,326.28)\">3000</text></g><g class=\"ytick\"><text text-anchor=\"end\" x=\"64\" y=\"4.199999999999999\" style=\"font-family: 'Open Sans', verdana, arial, sans-serif; font-size: 12px; fill: rgb(42, 63, 95); fill-opacity: 1; white-space: pre; opacity: 1;\" transform=\"translate(0,286.03999999999996)\">4000</text></g><g class=\"ytick\"><text text-anchor=\"end\" x=\"64\" y=\"4.199999999999999\" style=\"font-family: 'Open Sans', verdana, arial, sans-serif; font-size: 12px; fill: rgb(42, 63, 95); fill-opacity: 1; white-space: pre; opacity: 1;\" transform=\"translate(0,245.79)\">5000</text></g><g class=\"ytick\"><text text-anchor=\"end\" x=\"64\" y=\"4.199999999999999\" style=\"font-family: 'Open Sans', verdana, arial, sans-serif; font-size: 12px; fill: rgb(42, 63, 95); fill-opacity: 1; white-space: pre; opacity: 1;\" transform=\"translate(0,205.55)\">6000</text></g><g class=\"ytick\"><text text-anchor=\"end\" x=\"64\" y=\"4.199999999999999\" style=\"font-family: 'Open Sans', verdana, arial, sans-serif; font-size: 12px; fill: rgb(42, 63, 95); fill-opacity: 1; white-space: pre; opacity: 1;\" transform=\"translate(0,165.31)\">7000</text></g><g class=\"ytick\"><text text-anchor=\"end\" x=\"64\" y=\"4.199999999999999\" style=\"font-family: 'Open Sans', verdana, arial, sans-serif; font-size: 12px; fill: rgb(42, 63, 95); fill-opacity: 1; white-space: pre; opacity: 1;\" transform=\"translate(0,125.07)\">8000</text></g><g class=\"ytick\"><text text-anchor=\"end\" x=\"64\" y=\"4.199999999999999\" style=\"font-family: 'Open Sans', verdana, arial, sans-serif; font-size: 12px; fill: rgb(42, 63, 95); fill-opacity: 1; white-space: pre; opacity: 1;\" transform=\"translate(0,84.83)\">9000</text></g></g><g class=\"overaxes-above\"/></g></g><g class=\"polarlayer\"/><g class=\"smithlayer\"/><g class=\"ternarylayer\"/><g class=\"geolayer\"/><g class=\"funnelarealayer\"/><g class=\"pielayer\"/><g class=\"iciclelayer\"/><g class=\"treemaplayer\"/><g class=\"sunburstlayer\"/><g class=\"glimages\"/><defs id=\"topdefs-cb2873\"><g class=\"clips\"/></defs><g class=\"layer-above\"><g class=\"imagelayer\"/><g class=\"shapelayer\"/></g><g class=\"infolayer\"><g class=\"g-gtitle\"><text class=\"gtitle\" x=\"310\" y=\"25\" text-anchor=\"middle\" dy=\"0.7em\" style=\"font-family: 'Times New Roman'; font-size: 26px; fill: rgb(0, 0, 0); opacity: 1; font-weight: normal; white-space: pre;\">Distribution of count of CD8 at baseline</text></g><g class=\"g-xtitle\"><text class=\"xtitle\" x=\"507.5\" y=\"487.3\" text-anchor=\"middle\" style=\"font-family: 'Open Sans', verdana, arial, sans-serif; font-size: 14px; fill: rgb(42, 63, 95); opacity: 1; font-weight: normal; white-space: pre;\">Count of CD8 at baseline</text></g><g class=\"g-ytitle\" transform=\"translate(0.0029296875,0)\"><text class=\"ytitle\" transform=\"rotate(-90,12.996875000000003,263.5)\" x=\"12.996875000000003\" y=\"263.5\" text-anchor=\"middle\" style=\"font-family: 'Open Sans', verdana, arial, sans-serif; font-size: 14px; fill: rgb(42, 63, 95); opacity: 1; font-weight: normal; white-space: pre;\">Count of patients</text></g></g></svg>"
      ]
     },
     "metadata": {},
     "output_type": "display_data"
    }
   ],
   "source": [
    "palette = cl.scales['9']['seq']['PuBu']\n",
    "\n",
    "fig = go.Figure(data=[go.Histogram(\n",
    "    x=df['cd80'],\n",
    "    marker=dict(color=palette[8]),  # Use the second color from the palette\n",
    "    nbinsx=10\n",
    ")])\n",
    "\n",
    "# Update layout\n",
    "fig.update_layout(\n",
    "    title_text=\"Distribution of count of CD4\",\n",
    "    title_font_size=24,\n",
    "    title_font_family=\"Times New Roman\",\n",
    "    title_font_color=\"#000000\",\n",
    "    paper_bgcolor='#ffffff',\n",
    "    plot_bgcolor='#ffffff',\n",
    "    xaxis=dict(title=\"Count of CD8 at baseline\"),\n",
    "    yaxis=dict(title=\"Count of patients\"),\n",
    ")\n",
    "\n",
    "# Set title properties\n",
    "fig.update_layout(\n",
    "    title={\n",
    "        'text': \"Distribution of count of CD8 at baseline\",\n",
    "        'y':0.95,\n",
    "        'x':0.31,\n",
    "        'xanchor': 'center',\n",
    "        'yanchor': 'top'},\n",
    "    title_font_size=26,\n",
    "    margin=dict(l=50, r=50, t=80, b=50)\n",
    ")\n",
    "\n",
    "# Set the width of the figure\n",
    "fig.update_layout(width=1000)\n",
    "\n",
    "# Show the histogram\n",
    "fig.show('svg')"
   ]
  },
  {
   "cell_type": "markdown",
   "id": "198d444d",
   "metadata": {
    "papermill": {
     "duration": 0.049276,
     "end_time": "2024-05-30T17:03:03.218018",
     "exception": false,
     "start_time": "2024-05-30T17:03:03.168742",
     "status": "completed"
    },
    "tags": []
   },
   "source": [
    "*High positive skewness*"
   ]
  },
  {
   "cell_type": "markdown",
   "id": "6936e874",
   "metadata": {
    "papermill": {
     "duration": 0.04882,
     "end_time": "2024-05-30T17:03:03.315206",
     "exception": false,
     "start_time": "2024-05-30T17:03:03.266386",
     "status": "completed"
    },
    "tags": []
   },
   "source": [
    "----------------------------------------------------------------------------------------------------------------------------------------------------------\n"
   ]
  },
  {
   "cell_type": "markdown",
   "id": "193acc39",
   "metadata": {
    "papermill": {
     "duration": 0.050157,
     "end_time": "2024-05-30T17:03:03.415264",
     "exception": false,
     "start_time": "2024-05-30T17:03:03.365107",
     "status": "completed"
    },
    "tags": []
   },
   "source": [
    "## cd820: CD8 at 20+/-5 weeks\n",
    "\n",
    "the variable \"cd820\" represents the CD8 count measured at approximately 20 weeks (with a margin of +/- 5 weeks) after a baseline or initial measurement.\n",
    "\n",
    "The CD8 count at 20 weeks (with a margin of +/- 5 weeks) is used to monitor how the immune system is responding to antiretroviral therapy (ART) or to track the progression of the disease.\n",
    "\n",
    "Changes in the CD8 count from baseline to around 20 weeks can indicate the effectiveness of ART. An increase or stable CD8 count might suggest that the immune system is responding well to treatment, whereas a decrease could indicate potential issues with the effectiveness of the treatment.\n",
    "\n",
    "***Conclusion***\n",
    "\n",
    "- *A decrease in CD8 count can indicate effective antiretroviral therapy (ART).*"
   ]
  },
  {
   "cell_type": "code",
   "execution_count": 54,
   "id": "bfcf851b",
   "metadata": {
    "execution": {
     "iopub.execute_input": "2024-05-30T17:03:03.511834Z",
     "iopub.status.busy": "2024-05-30T17:03:03.511421Z",
     "iopub.status.idle": "2024-05-30T17:03:03.523306Z",
     "shell.execute_reply": "2024-05-30T17:03:03.522358Z"
    },
    "papermill": {
     "duration": 0.063311,
     "end_time": "2024-05-30T17:03:03.525936",
     "exception": false,
     "start_time": "2024-05-30T17:03:03.462625",
     "status": "completed"
    },
    "tags": []
   },
   "outputs": [
    {
     "data": {
      "text/plain": [
       "count    15000.000000\n",
       "mean       908.306867\n",
       "std        337.759073\n",
       "min        143.000000\n",
       "25%        652.000000\n",
       "50%        858.000000\n",
       "75%       1087.250000\n",
       "max       3253.000000\n",
       "Name: cd820, dtype: float64"
      ]
     },
     "execution_count": 54,
     "metadata": {},
     "output_type": "execute_result"
    }
   ],
   "source": [
    "df['cd820'].describe()"
   ]
  },
  {
   "cell_type": "markdown",
   "id": "7c9f6d49",
   "metadata": {
    "papermill": {
     "duration": 0.048704,
     "end_time": "2024-05-30T17:03:03.622955",
     "exception": false,
     "start_time": "2024-05-30T17:03:03.574251",
     "status": "completed"
    },
    "tags": []
   },
   "source": [
    "*There is a decrease in the median and mean count as compared to the baseline count which is a good sign*"
   ]
  },
  {
   "cell_type": "code",
   "execution_count": 55,
   "id": "be766f10",
   "metadata": {
    "execution": {
     "iopub.execute_input": "2024-05-30T17:03:03.720971Z",
     "iopub.status.busy": "2024-05-30T17:03:03.720234Z",
     "iopub.status.idle": "2024-05-30T17:03:03.851939Z",
     "shell.execute_reply": "2024-05-30T17:03:03.850962Z"
    },
    "papermill": {
     "duration": 0.184611,
     "end_time": "2024-05-30T17:03:03.855141",
     "exception": false,
     "start_time": "2024-05-30T17:03:03.670530",
     "status": "completed"
    },
    "tags": []
   },
   "outputs": [
    {
     "data": {
      "image/svg+xml": [
       "<svg class=\"main-svg\" xmlns=\"http://www.w3.org/2000/svg\" xmlns:xlink=\"http://www.w3.org/1999/xlink\" width=\"1000\" height=\"500\" style=\"\" viewBox=\"0 0 1000 500\"><rect x=\"0\" y=\"0\" width=\"1000\" height=\"500\" style=\"fill: rgb(255, 255, 255); fill-opacity: 1;\"/><defs id=\"defs-31322a\"><g class=\"clips\"><clipPath id=\"clip31322axyplot\" class=\"plotclip\"><rect width=\"885\" height=\"367\"/></clipPath><clipPath class=\"axesclip\" id=\"clip31322ax\"><rect x=\"65\" y=\"0\" width=\"885\" height=\"500\"/></clipPath><clipPath class=\"axesclip\" id=\"clip31322ay\"><rect x=\"0\" y=\"80\" width=\"1000\" height=\"367\"/></clipPath><clipPath class=\"axesclip\" id=\"clip31322axy\"><rect x=\"65\" y=\"80\" width=\"885\" height=\"367\"/></clipPath></g><g class=\"gradients\"/><g class=\"patterns\"/></defs><g class=\"bglayer\"/><g class=\"layer-below\"><g class=\"imagelayer\"/><g class=\"shapelayer\"/></g><g class=\"cartesianlayer\"><g class=\"subplot xy\"><g class=\"layer-subplot\"><g class=\"shapelayer\"/><g class=\"imagelayer\"/></g><g class=\"minor-gridlayer\"><g class=\"x\"/><g class=\"y\"/></g><g class=\"gridlayer\"><g class=\"x\"/><g class=\"y\"><path class=\"ygrid crisp\" transform=\"translate(0,407.73)\" d=\"M65,0h885\" style=\"stroke: rgb(255, 255, 255); stroke-opacity: 1; stroke-width: 1px;\"/><path class=\"ygrid crisp\" transform=\"translate(0,368.47)\" d=\"M65,0h885\" style=\"stroke: rgb(255, 255, 255); stroke-opacity: 1; stroke-width: 1px;\"/><path class=\"ygrid crisp\" transform=\"translate(0,329.2)\" d=\"M65,0h885\" style=\"stroke: rgb(255, 255, 255); stroke-opacity: 1; stroke-width: 1px;\"/><path class=\"ygrid crisp\" transform=\"translate(0,289.93)\" d=\"M65,0h885\" style=\"stroke: rgb(255, 255, 255); stroke-opacity: 1; stroke-width: 1px;\"/><path class=\"ygrid crisp\" transform=\"translate(0,250.67)\" d=\"M65,0h885\" style=\"stroke: rgb(255, 255, 255); stroke-opacity: 1; stroke-width: 1px;\"/><path class=\"ygrid crisp\" transform=\"translate(0,211.4)\" d=\"M65,0h885\" style=\"stroke: rgb(255, 255, 255); stroke-opacity: 1; stroke-width: 1px;\"/><path class=\"ygrid crisp\" transform=\"translate(0,172.13)\" d=\"M65,0h885\" style=\"stroke: rgb(255, 255, 255); stroke-opacity: 1; stroke-width: 1px;\"/><path class=\"ygrid crisp\" transform=\"translate(0,132.87)\" d=\"M65,0h885\" style=\"stroke: rgb(255, 255, 255); stroke-opacity: 1; stroke-width: 1px;\"/><path class=\"ygrid crisp\" transform=\"translate(0,93.6)\" d=\"M65,0h885\" style=\"stroke: rgb(255, 255, 255); stroke-opacity: 1; stroke-width: 1px;\"/></g></g><g class=\"zerolinelayer\"><path class=\"yzl zl crisp\" transform=\"translate(0,447)\" d=\"M65,0h885\" style=\"stroke: rgb(255, 255, 255); stroke-opacity: 1; stroke-width: 2px;\"/></g><path class=\"xlines-below\"/><path class=\"ylines-below\"/><g class=\"overlines-below\"/><g class=\"xaxislayer-below\"/><g class=\"yaxislayer-below\"/><g class=\"overaxes-below\"/><g class=\"plot\" transform=\"translate(65,80)\" clip-path=\"url(#clip31322axyplot)\"><g class=\"barlayer mlayer\"><g class=\"trace bars\" shape-rendering=\"crispEdges\" style=\"opacity: 1;\"><g class=\"points\"><g class=\"point\"><path d=\"M0,367V329.97H126.43V367Z\" style=\"vector-effect: none; opacity: 1; stroke-width: 0px; fill: rgb(2, 56, 88); fill-opacity: 1;\"/></g><g class=\"point\"><path d=\"M126.43,367V18.35H252.86V367Z\" style=\"vector-effect: none; opacity: 1; stroke-width: 0px; fill: rgb(2, 56, 88); fill-opacity: 1;\"/></g><g class=\"point\"><path d=\"M252.86,367V198.86H379.29V367Z\" style=\"vector-effect: none; opacity: 1; stroke-width: 0px; fill: rgb(2, 56, 88); fill-opacity: 1;\"/></g><g class=\"point\"><path d=\"M379.29,367V336.65H505.71V367Z\" style=\"vector-effect: none; opacity: 1; stroke-width: 0px; fill: rgb(2, 56, 88); fill-opacity: 1;\"/></g><g class=\"point\"><path d=\"M505.71,367V363.07H632.14V367Z\" style=\"vector-effect: none; opacity: 1; stroke-width: 0px; fill: rgb(2, 56, 88); fill-opacity: 1;\"/></g><g class=\"point\"><path d=\"M632.14,367V366.18H758.57V367Z\" style=\"vector-effect: none; opacity: 1; stroke-width: 0px; fill: rgb(2, 56, 88); fill-opacity: 1;\"/></g><g class=\"point\"><path d=\"M758.57,367V366.92H885V367Z\" style=\"vector-effect: none; opacity: 1; stroke-width: 0px; fill: rgb(2, 56, 88); fill-opacity: 1;\"/></g></g></g></g></g><g class=\"overplot\"/><path class=\"xlines-above crisp\" d=\"M0,0\" style=\"fill: none;\"/><path class=\"ylines-above crisp\" d=\"M0,0\" style=\"fill: none;\"/><g class=\"overlines-above\"/><g class=\"xaxislayer-above\"><g class=\"xtick\"><text text-anchor=\"middle\" x=\"0\" y=\"460\" transform=\"translate(65.13,0)\" style=\"font-family: 'Open Sans', verdana, arial, sans-serif; font-size: 12px; fill: rgb(42, 63, 95); fill-opacity: 1; white-space: pre; opacity: 1;\">0</text></g><g class=\"xtick\"><text text-anchor=\"middle\" x=\"0\" y=\"460\" style=\"font-family: 'Open Sans', verdana, arial, sans-serif; font-size: 12px; fill: rgb(42, 63, 95); fill-opacity: 1; white-space: pre; opacity: 1;\" transform=\"translate(191.56,0)\">500</text></g><g class=\"xtick\"><text text-anchor=\"middle\" x=\"0\" y=\"460\" style=\"font-family: 'Open Sans', verdana, arial, sans-serif; font-size: 12px; fill: rgb(42, 63, 95); fill-opacity: 1; white-space: pre; opacity: 1;\" transform=\"translate(317.98,0)\">1000</text></g><g class=\"xtick\"><text text-anchor=\"middle\" x=\"0\" y=\"460\" style=\"font-family: 'Open Sans', verdana, arial, sans-serif; font-size: 12px; fill: rgb(42, 63, 95); fill-opacity: 1; white-space: pre; opacity: 1;\" transform=\"translate(444.41,0)\">1500</text></g><g class=\"xtick\"><text text-anchor=\"middle\" x=\"0\" y=\"460\" style=\"font-family: 'Open Sans', verdana, arial, sans-serif; font-size: 12px; fill: rgb(42, 63, 95); fill-opacity: 1; white-space: pre; opacity: 1;\" transform=\"translate(570.8399999999999,0)\">2000</text></g><g class=\"xtick\"><text text-anchor=\"middle\" x=\"0\" y=\"460\" style=\"font-family: 'Open Sans', verdana, arial, sans-serif; font-size: 12px; fill: rgb(42, 63, 95); fill-opacity: 1; white-space: pre; opacity: 1;\" transform=\"translate(697.27,0)\">2500</text></g><g class=\"xtick\"><text text-anchor=\"middle\" x=\"0\" y=\"460\" style=\"font-family: 'Open Sans', verdana, arial, sans-serif; font-size: 12px; fill: rgb(42, 63, 95); fill-opacity: 1; white-space: pre; opacity: 1;\" transform=\"translate(823.7,0)\">3000</text></g></g><g class=\"yaxislayer-above\"><g class=\"ytick\"><text text-anchor=\"end\" x=\"64\" y=\"4.199999999999999\" transform=\"translate(0,447)\" style=\"font-family: 'Open Sans', verdana, arial, sans-serif; font-size: 12px; fill: rgb(42, 63, 95); fill-opacity: 1; white-space: pre; opacity: 1;\">0</text></g><g class=\"ytick\"><text text-anchor=\"end\" x=\"64\" y=\"4.199999999999999\" style=\"font-family: 'Open Sans', verdana, arial, sans-serif; font-size: 12px; fill: rgb(42, 63, 95); fill-opacity: 1; white-space: pre; opacity: 1;\" transform=\"translate(0,407.73)\">1000</text></g><g class=\"ytick\"><text text-anchor=\"end\" x=\"64\" y=\"4.199999999999999\" style=\"font-family: 'Open Sans', verdana, arial, sans-serif; font-size: 12px; fill: rgb(42, 63, 95); fill-opacity: 1; white-space: pre; opacity: 1;\" transform=\"translate(0,368.47)\">2000</text></g><g class=\"ytick\"><text text-anchor=\"end\" x=\"64\" y=\"4.199999999999999\" style=\"font-family: 'Open Sans', verdana, arial, sans-serif; font-size: 12px; fill: rgb(42, 63, 95); fill-opacity: 1; white-space: pre; opacity: 1;\" transform=\"translate(0,329.2)\">3000</text></g><g class=\"ytick\"><text text-anchor=\"end\" x=\"64\" y=\"4.199999999999999\" style=\"font-family: 'Open Sans', verdana, arial, sans-serif; font-size: 12px; fill: rgb(42, 63, 95); fill-opacity: 1; white-space: pre; opacity: 1;\" transform=\"translate(0,289.93)\">4000</text></g><g class=\"ytick\"><text text-anchor=\"end\" x=\"64\" y=\"4.199999999999999\" style=\"font-family: 'Open Sans', verdana, arial, sans-serif; font-size: 12px; fill: rgb(42, 63, 95); fill-opacity: 1; white-space: pre; opacity: 1;\" transform=\"translate(0,250.67)\">5000</text></g><g class=\"ytick\"><text text-anchor=\"end\" x=\"64\" y=\"4.199999999999999\" style=\"font-family: 'Open Sans', verdana, arial, sans-serif; font-size: 12px; fill: rgb(42, 63, 95); fill-opacity: 1; white-space: pre; opacity: 1;\" transform=\"translate(0,211.4)\">6000</text></g><g class=\"ytick\"><text text-anchor=\"end\" x=\"64\" y=\"4.199999999999999\" style=\"font-family: 'Open Sans', verdana, arial, sans-serif; font-size: 12px; fill: rgb(42, 63, 95); fill-opacity: 1; white-space: pre; opacity: 1;\" transform=\"translate(0,172.13)\">7000</text></g><g class=\"ytick\"><text text-anchor=\"end\" x=\"64\" y=\"4.199999999999999\" style=\"font-family: 'Open Sans', verdana, arial, sans-serif; font-size: 12px; fill: rgb(42, 63, 95); fill-opacity: 1; white-space: pre; opacity: 1;\" transform=\"translate(0,132.87)\">8000</text></g><g class=\"ytick\"><text text-anchor=\"end\" x=\"64\" y=\"4.199999999999999\" style=\"font-family: 'Open Sans', verdana, arial, sans-serif; font-size: 12px; fill: rgb(42, 63, 95); fill-opacity: 1; white-space: pre; opacity: 1;\" transform=\"translate(0,93.6)\">9000</text></g></g><g class=\"overaxes-above\"/></g></g><g class=\"polarlayer\"/><g class=\"smithlayer\"/><g class=\"ternarylayer\"/><g class=\"geolayer\"/><g class=\"funnelarealayer\"/><g class=\"pielayer\"/><g class=\"iciclelayer\"/><g class=\"treemaplayer\"/><g class=\"sunburstlayer\"/><g class=\"glimages\"/><defs id=\"topdefs-31322a\"><g class=\"clips\"/></defs><g class=\"layer-above\"><g class=\"imagelayer\"/><g class=\"shapelayer\"/></g><g class=\"infolayer\"><g class=\"g-gtitle\"><text class=\"gtitle\" x=\"310\" y=\"25\" text-anchor=\"middle\" dy=\"0.7em\" style=\"font-family: 'Times New Roman'; font-size: 26px; fill: rgb(0, 0, 0); opacity: 1; font-weight: normal; white-space: pre;\">Distribution of count of CD8 at 20 weeks</text></g><g class=\"g-xtitle\"><text class=\"xtitle\" x=\"507.5\" y=\"487.3\" text-anchor=\"middle\" style=\"font-family: 'Open Sans', verdana, arial, sans-serif; font-size: 14px; fill: rgb(42, 63, 95); opacity: 1; font-weight: normal; white-space: pre;\">Count of CD8 at 20 weeks</text></g><g class=\"g-ytitle\" transform=\"translate(0.0029296875,0)\"><text class=\"ytitle\" transform=\"rotate(-90,12.996875000000003,263.5)\" x=\"12.996875000000003\" y=\"263.5\" text-anchor=\"middle\" style=\"font-family: 'Open Sans', verdana, arial, sans-serif; font-size: 14px; fill: rgb(42, 63, 95); opacity: 1; font-weight: normal; white-space: pre;\">Count of patients</text></g></g></svg>"
      ]
     },
     "metadata": {},
     "output_type": "display_data"
    }
   ],
   "source": [
    "palette = cl.scales['9']['seq']['PuBu']\n",
    "\n",
    "fig = go.Figure(data=[go.Histogram(\n",
    "    x=df['cd820'],\n",
    "    marker=dict(color=palette[8]),  # Use the second color from the palette\n",
    "    nbinsx=10\n",
    ")])\n",
    "\n",
    "# Update layout\n",
    "fig.update_layout(\n",
    "    title_text=\"Distribution of count of CD4\",\n",
    "    title_font_size=24,\n",
    "    title_font_family=\"Times New Roman\",\n",
    "    title_font_color=\"#000000\",\n",
    "    paper_bgcolor='#ffffff',\n",
    "    plot_bgcolor='#ffffff',\n",
    "    xaxis=dict(title=\"Count of CD8 at 20 weeks\"),\n",
    "    yaxis=dict(title=\"Count of patients\"),\n",
    ")\n",
    "\n",
    "# Set title properties\n",
    "fig.update_layout(\n",
    "    title={\n",
    "        'text': \"Distribution of count of CD8 at 20 weeks\",\n",
    "        'y':0.95,\n",
    "        'x':0.31,\n",
    "        'xanchor': 'center',\n",
    "        'yanchor': 'top'},\n",
    "    title_font_size=26,\n",
    "    margin=dict(l=50, r=50, t=80, b=50)\n",
    ")\n",
    "\n",
    "# Set the width of the figure\n",
    "fig.update_layout(width=1000)\n",
    "\n",
    "# Show the histogram\n",
    "fig.show('svg')"
   ]
  },
  {
   "cell_type": "markdown",
   "id": "fc5a20f1",
   "metadata": {
    "papermill": {
     "duration": 0.048649,
     "end_time": "2024-05-30T17:03:03.955385",
     "exception": false,
     "start_time": "2024-05-30T17:03:03.906736",
     "status": "completed"
    },
    "tags": []
   },
   "source": [
    "*There is an increase in the width of the bar at 9000 patients which means that most of the patients experienced an increase in their count of CD8 cells*"
   ]
  },
  {
   "cell_type": "markdown",
   "id": "87052e4b",
   "metadata": {
    "papermill": {
     "duration": 0.051166,
     "end_time": "2024-05-30T17:03:04.056406",
     "exception": false,
     "start_time": "2024-05-30T17:03:04.005240",
     "status": "completed"
    },
    "tags": []
   },
   "source": [
    "----------------------------------------------------------------------------------------------------------------------------------------------------------"
   ]
  },
  {
   "cell_type": "markdown",
   "id": "f039ce62",
   "metadata": {
    "papermill": {
     "duration": 0.052086,
     "end_time": "2024-05-30T17:03:04.161371",
     "exception": false,
     "start_time": "2024-05-30T17:03:04.109285",
     "status": "completed"
    },
    "tags": []
   },
   "source": [
    "## <div style=\"text-align: center\"> <b>BIVARIATE ANALYSIS</b></div>"
   ]
  },
  {
   "cell_type": "code",
   "execution_count": 56,
   "id": "385c4c12",
   "metadata": {
    "execution": {
     "iopub.execute_input": "2024-05-30T17:03:04.265009Z",
     "iopub.status.busy": "2024-05-30T17:03:04.264563Z",
     "iopub.status.idle": "2024-05-30T17:03:04.291778Z",
     "shell.execute_reply": "2024-05-30T17:03:04.290491Z"
    },
    "papermill": {
     "duration": 0.081184,
     "end_time": "2024-05-30T17:03:04.294399",
     "exception": false,
     "start_time": "2024-05-30T17:03:04.213215",
     "status": "completed"
    },
    "tags": []
   },
   "outputs": [
    {
     "data": {
      "text/html": [
       "<div>\n",
       "<style scoped>\n",
       "    .dataframe tbody tr th:only-of-type {\n",
       "        vertical-align: middle;\n",
       "    }\n",
       "\n",
       "    .dataframe tbody tr th {\n",
       "        vertical-align: top;\n",
       "    }\n",
       "\n",
       "    .dataframe thead th {\n",
       "        text-align: right;\n",
       "    }\n",
       "</style>\n",
       "<table border=\"1\" class=\"dataframe\">\n",
       "  <thead>\n",
       "    <tr style=\"text-align: right;\">\n",
       "      <th></th>\n",
       "      <th>time</th>\n",
       "      <th>trt</th>\n",
       "      <th>age</th>\n",
       "      <th>wtkg</th>\n",
       "      <th>hemo</th>\n",
       "      <th>homo</th>\n",
       "      <th>drugs</th>\n",
       "      <th>karnof</th>\n",
       "      <th>oprior</th>\n",
       "      <th>z30</th>\n",
       "      <th>...</th>\n",
       "      <th>str2</th>\n",
       "      <th>strat</th>\n",
       "      <th>symptom</th>\n",
       "      <th>treat</th>\n",
       "      <th>offtrt</th>\n",
       "      <th>cd40</th>\n",
       "      <th>cd420</th>\n",
       "      <th>cd80</th>\n",
       "      <th>cd820</th>\n",
       "      <th>infected</th>\n",
       "    </tr>\n",
       "  </thead>\n",
       "  <tbody>\n",
       "    <tr>\n",
       "      <th>0</th>\n",
       "      <td>1108</td>\n",
       "      <td>1</td>\n",
       "      <td>37</td>\n",
       "      <td>88.11364</td>\n",
       "      <td>0</td>\n",
       "      <td>1</td>\n",
       "      <td>1</td>\n",
       "      <td>100</td>\n",
       "      <td>0</td>\n",
       "      <td>1</td>\n",
       "      <td>...</td>\n",
       "      <td>1</td>\n",
       "      <td>1</td>\n",
       "      <td>0</td>\n",
       "      <td>0</td>\n",
       "      <td>0</td>\n",
       "      <td>389</td>\n",
       "      <td>320</td>\n",
       "      <td>734</td>\n",
       "      <td>737</td>\n",
       "      <td>1</td>\n",
       "    </tr>\n",
       "    <tr>\n",
       "      <th>1</th>\n",
       "      <td>1079</td>\n",
       "      <td>0</td>\n",
       "      <td>43</td>\n",
       "      <td>66.77075</td>\n",
       "      <td>0</td>\n",
       "      <td>0</td>\n",
       "      <td>0</td>\n",
       "      <td>100</td>\n",
       "      <td>0</td>\n",
       "      <td>1</td>\n",
       "      <td>...</td>\n",
       "      <td>0</td>\n",
       "      <td>2</td>\n",
       "      <td>0</td>\n",
       "      <td>1</td>\n",
       "      <td>1</td>\n",
       "      <td>318</td>\n",
       "      <td>432</td>\n",
       "      <td>912</td>\n",
       "      <td>1213</td>\n",
       "      <td>0</td>\n",
       "    </tr>\n",
       "    <tr>\n",
       "      <th>2</th>\n",
       "      <td>492</td>\n",
       "      <td>1</td>\n",
       "      <td>34</td>\n",
       "      <td>82.91725</td>\n",
       "      <td>0</td>\n",
       "      <td>0</td>\n",
       "      <td>0</td>\n",
       "      <td>90</td>\n",
       "      <td>0</td>\n",
       "      <td>1</td>\n",
       "      <td>...</td>\n",
       "      <td>1</td>\n",
       "      <td>2</td>\n",
       "      <td>0</td>\n",
       "      <td>1</td>\n",
       "      <td>1</td>\n",
       "      <td>326</td>\n",
       "      <td>524</td>\n",
       "      <td>660</td>\n",
       "      <td>835</td>\n",
       "      <td>0</td>\n",
       "    </tr>\n",
       "    <tr>\n",
       "      <th>3</th>\n",
       "      <td>1191</td>\n",
       "      <td>1</td>\n",
       "      <td>41</td>\n",
       "      <td>98.91817</td>\n",
       "      <td>0</td>\n",
       "      <td>0</td>\n",
       "      <td>0</td>\n",
       "      <td>81</td>\n",
       "      <td>0</td>\n",
       "      <td>1</td>\n",
       "      <td>...</td>\n",
       "      <td>1</td>\n",
       "      <td>3</td>\n",
       "      <td>0</td>\n",
       "      <td>1</td>\n",
       "      <td>0</td>\n",
       "      <td>318</td>\n",
       "      <td>232</td>\n",
       "      <td>1131</td>\n",
       "      <td>982</td>\n",
       "      <td>1</td>\n",
       "    </tr>\n",
       "    <tr>\n",
       "      <th>4</th>\n",
       "      <td>1141</td>\n",
       "      <td>3</td>\n",
       "      <td>47</td>\n",
       "      <td>53.61717</td>\n",
       "      <td>0</td>\n",
       "      <td>1</td>\n",
       "      <td>0</td>\n",
       "      <td>100</td>\n",
       "      <td>0</td>\n",
       "      <td>0</td>\n",
       "      <td>...</td>\n",
       "      <td>0</td>\n",
       "      <td>1</td>\n",
       "      <td>0</td>\n",
       "      <td>1</td>\n",
       "      <td>0</td>\n",
       "      <td>280</td>\n",
       "      <td>337</td>\n",
       "      <td>515</td>\n",
       "      <td>679</td>\n",
       "      <td>0</td>\n",
       "    </tr>\n",
       "  </tbody>\n",
       "</table>\n",
       "<p>5 rows × 23 columns</p>\n",
       "</div>"
      ],
      "text/plain": [
       "   time  trt  age      wtkg  hemo  homo  drugs  karnof  oprior  z30  ...  \\\n",
       "0  1108    1   37  88.11364     0     1      1     100       0    1  ...   \n",
       "1  1079    0   43  66.77075     0     0      0     100       0    1  ...   \n",
       "2   492    1   34  82.91725     0     0      0      90       0    1  ...   \n",
       "3  1191    1   41  98.91817     0     0      0      81       0    1  ...   \n",
       "4  1141    3   47  53.61717     0     1      0     100       0    0  ...   \n",
       "\n",
       "   str2  strat  symptom  treat  offtrt  cd40  cd420  cd80  cd820  infected  \n",
       "0     1      1        0      0       0   389    320   734    737         1  \n",
       "1     0      2        0      1       1   318    432   912   1213         0  \n",
       "2     1      2        0      1       1   326    524   660    835         0  \n",
       "3     1      3        0      1       0   318    232  1131    982         1  \n",
       "4     0      1        0      1       0   280    337   515    679         0  \n",
       "\n",
       "[5 rows x 23 columns]"
      ]
     },
     "execution_count": 56,
     "metadata": {},
     "output_type": "execute_result"
    }
   ],
   "source": [
    "df.head()"
   ]
  },
  {
   "cell_type": "code",
   "execution_count": 57,
   "id": "a232a293",
   "metadata": {
    "execution": {
     "iopub.execute_input": "2024-05-30T17:03:04.398232Z",
     "iopub.status.busy": "2024-05-30T17:03:04.397009Z",
     "iopub.status.idle": "2024-05-30T17:03:05.240505Z",
     "shell.execute_reply": "2024-05-30T17:03:05.239100Z"
    },
    "papermill": {
     "duration": 0.900209,
     "end_time": "2024-05-30T17:03:05.243376",
     "exception": false,
     "start_time": "2024-05-30T17:03:04.343167",
     "status": "completed"
    },
    "tags": []
   },
   "outputs": [
    {
     "data": {
      "image/png": "[encoded data removed]"
     },
     "metadata": {},
     "output_type": "display_data"
    }
   ],
   "source": [
    "heatmap = go.Heatmap(\n",
    "    z=df,\n",
    "    x=df.columns,  # x-axis labels\n",
    "    y=df.columns,  # y-axis labels\n",
    "    colorscale='Viridis'      # colorscale\n",
    ")\n",
    "\n",
    "# Create the figure and add the heatmap\n",
    "fig = go.Figure(data=[heatmap])\n",
    "\n",
    "# Update layout for better visualization\n",
    "fig.update_layout(\n",
    "    title='Heatmap Example',\n",
    "    xaxis_title='X Axis',\n",
    "    yaxis_title='Y Axis'\n",
    ")\n",
    "fig.update_layout(width=1000)\n",
    "\n",
    "# Display the heatmap\n",
    "fig.show('png')"
   ]
  }
 ],
 "metadata": {
  "kaggle": {
   "accelerator": "none",
   "dataSources": [
    {
     "datasetId": 4890913,
     "sourceId": 8249624,
     "sourceType": "datasetVersion"
    }
   ],
   "dockerImageVersionId": 30698,
   "isGpuEnabled": false,
   "isInternetEnabled": true,
   "language": "python",
   "sourceType": "notebook"
  },
  "kernelspec": {
   "display_name": "Python 3",
   "language": "python",
   "name": "python3"
  },
  "language_info": {
   "codemirror_mode": {
    "name": "ipython",
    "version": 3
   },
   "file_extension": ".py",
   "mimetype": "text/x-python",
   "name": "python",
   "nbconvert_exporter": "python",
   "pygments_lexer": "ipython3",
   "version": "3.10.13"
  },
  "papermill": {
   "default_parameters": {},
   "duration": 47.981776,
   "end_time": "2024-05-30T17:03:07.917302",
   "environment_variables": {},
   "exception": null,
   "input_path": "__notebook__.ipynb",
   "output_path": "__notebook__.ipynb",
   "parameters": {},
   "start_time": "2024-05-30T17:02:19.935526",
   "version": "2.5.0"
  }
 },
 "nbformat": 4,
 "nbformat_minor": 5
}
