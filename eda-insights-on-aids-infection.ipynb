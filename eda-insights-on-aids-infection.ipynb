{
 "cells": [
  {
   "cell_type": "markdown",
   "id": "e682fa45",
   "metadata": {
    "papermill": {
     "duration": 0.030164,
     "end_time": "2024-06-02T14:37:39.260734",
     "exception": false,
     "start_time": "2024-06-02T14:37:39.230570",
     "status": "completed"
    },
    "tags": []
   },
   "source": [
    "## <div style=\"text-align: center;  font-family: Tahoma; padding: 14px; line-height: 1;font-size : 30px\"> <b> AIDS VIRUS INFECTION : EDA</b></div>"
   ]
  },
  {
   "cell_type": "markdown",
   "id": "c2384363",
   "metadata": {
    "papermill": {
     "duration": 0.028027,
     "end_time": "2024-06-02T14:37:39.316979",
     "exception": false,
     "start_time": "2024-06-02T14:37:39.288952",
     "status": "completed"
    },
    "tags": []
   },
   "source": [
    "![aids.jpg](https://media.post.rvohealth.io/wp-content/uploads/sites/3/2020/10/HIV_AIDS_GettyImages1178747427_Thumb-732x549.jpg)"
   ]
  },
  {
   "cell_type": "markdown",
   "id": "3c94437e",
   "metadata": {
    "papermill": {
     "duration": 0.028845,
     "end_time": "2024-06-02T14:37:39.374343",
     "exception": false,
     "start_time": "2024-06-02T14:37:39.345498",
     "status": "completed"
    },
    "tags": []
   },
   "source": [
    "<p style=\"font-size: 18px;\"><b>Purpose</b></p>\n",
    "\n",
    "The primary aim of performing Exploratory Data Analysis (EDA) on an AIDS virus infection dataset is to gain insights into the patterns, trends, and characteristics of the spread of the virus. EDA allows researchers, public health officials, and policymakers to understand the dynamics of AIDS virus transmission, identify high-risk populations or regions, and assess the effectiveness of prevention and treatment efforts. By exploring the data through techniques such as visualization, summary statistics, and hypothesis testing, EDA helps in uncovering important relationships between variables such as demographics, risk behaviors, and disease outcomes. Furthermore, EDA plays a critical role in detecting anomalies or outliers in the data, which may indicate areas of concern or areas requiring further investigation. Ultimately, the insights gained from EDA inform evidence-based decision-making, resource allocation, and intervention strategies aimed at mitigating the impact of AIDS virus infection on individuals and communities."
   ]
  },
  {
   "cell_type": "markdown",
   "id": "6c9d7f54",
   "metadata": {
    "papermill": {
     "duration": 0.028404,
     "end_time": "2024-06-02T14:37:39.431647",
     "exception": false,
     "start_time": "2024-06-02T14:37:39.403243",
     "status": "completed"
    },
    "tags": []
   },
   "source": [
    "### *Content* \n",
    "\n",
    "<div class=\"list-group\" id=\"list-tab\" role=\"tablist\">\n",
    "   \n",
    " [<b>1. Univariate Analysis](#1)  \n",
    " [<b>2. Statistical tests](#2)<br>\n",
    " [<b>3. Bivariate Analysis](#3)"
   ]
  },
  {
   "cell_type": "markdown",
   "id": "73b50926",
   "metadata": {
    "papermill": {
     "duration": 0.028352,
     "end_time": "2024-06-02T14:37:39.488350",
     "exception": false,
     "start_time": "2024-06-02T14:37:39.459998",
     "status": "completed"
    },
    "tags": []
   },
   "source": [
    "## Importing libraries"
   ]
  },
  {
   "cell_type": "code",
   "execution_count": 1,
   "id": "31d23efc",
   "metadata": {
    "_cell_guid": "b1076dfc-b9ad-4769-8c92-a6c4dae69d19",
    "_uuid": "8f2839f25d086af736a60e9eeb907d3b93b6e0e5",
    "execution": {
     "iopub.execute_input": "2024-06-02T14:37:39.548112Z",
     "iopub.status.busy": "2024-06-02T14:37:39.547702Z",
     "iopub.status.idle": "2024-06-02T14:37:43.769765Z",
     "shell.execute_reply": "2024-06-02T14:37:43.768748Z"
    },
    "papermill": {
     "duration": 4.254396,
     "end_time": "2024-06-02T14:37:43.772454",
     "exception": false,
     "start_time": "2024-06-02T14:37:39.518058",
     "status": "completed"
    },
    "tags": []
   },
   "outputs": [
    {
     "name": "stdout",
     "output_type": "stream",
     "text": [
      "/kaggle/input/aids-virus-infection-prediction/AIDS_Classification_15000.csv\n",
      "/kaggle/input/aids-virus-infection-prediction/AIDS_Classification_50000.csv\n",
      "/kaggle/input/aids-virus-infection-prediction/AIDS_Classification.csv\n",
      "/kaggle/input/aids-virus-infection-prediction/AIDS_Classification_5000.csv\n"
     ]
    }
   ],
   "source": [
    "# This Python 3 environment comes with many helpful analytics libraries installed\n",
    "# It is defined by the kaggle/python Docker image: https://github.com/kaggle/docker-python\n",
    "# For example, here's several helpful packages to load\n",
    "\n",
    "import numpy as np # linear algebra\n",
    "import pandas as pd # data processing, CSV file I/O (e.g. pd.read_csv)\n",
    "import plotly.graph_objects as go\n",
    "import colorlover as cl\n",
    "import seaborn as sns\n",
    "from scipy.stats import chi2_contingency\n",
    "from scipy.stats import fisher_exact\n",
    "from statsmodels.stats.outliers_influence import variance_inflation_factor\n",
    "import statsmodels.api as sm\n",
    "\n",
    "\n",
    "# Input data files are available in the read-only \"../input/\" directory\n",
    "# For example, running this (by clicking run or pressing Shift+Enter) will list all files under the input directory\n",
    "\n",
    "import os\n",
    "for dirname, _, filenames in os.walk('/kaggle/input'):\n",
    "    for filename in filenames:\n",
    "        print(os.path.join(dirname, filename))\n",
    "\n",
    "# You can write up to 20GB to the current directory (/kaggle/working/) that gets preserved as output when you create a version using \"Save & Run All\" \n",
    "# You can also write temporary files to /kaggle/temp/, but they won't be saved outside of the current session"
   ]
  },
  {
   "cell_type": "code",
   "execution_count": 2,
   "id": "745aedc0",
   "metadata": {
    "execution": {
     "iopub.execute_input": "2024-06-02T14:37:43.893950Z",
     "iopub.status.busy": "2024-06-02T14:37:43.893210Z",
     "iopub.status.idle": "2024-06-02T14:38:01.275204Z",
     "shell.execute_reply": "2024-06-02T14:38:01.274175Z"
    },
    "papermill": {
     "duration": 17.414832,
     "end_time": "2024-06-02T14:38:01.277924",
     "exception": false,
     "start_time": "2024-06-02T14:37:43.863092",
     "status": "completed"
    },
    "tags": []
   },
   "outputs": [
    {
     "name": "stdout",
     "output_type": "stream",
     "text": [
      "Collecting kaleido\r\n",
      "  Downloading kaleido-0.2.1-py2.py3-none-manylinux1_x86_64.whl.metadata (15 kB)\r\n",
      "Downloading kaleido-0.2.1-py2.py3-none-manylinux1_x86_64.whl (79.9 MB)\r\n",
      "\u001b[2K   \u001b[90m━━━━━━━━━━━━━━━━━━━━━━━━━━━━━━━━━━━━━━━━\u001b[0m \u001b[32m79.9/79.9 MB\u001b[0m \u001b[31m19.9 MB/s\u001b[0m eta \u001b[36m0:00:00\u001b[0m\r\n",
      "\u001b[?25hInstalling collected packages: kaleido\r\n",
      "Successfully installed kaleido-0.2.1\r\n"
     ]
    }
   ],
   "source": [
    "! pip install -U kaleido"
   ]
  },
  {
   "cell_type": "code",
   "execution_count": 3,
   "id": "8bf90e34",
   "metadata": {
    "execution": {
     "iopub.execute_input": "2024-06-02T14:38:01.342500Z",
     "iopub.status.busy": "2024-06-02T14:38:01.341957Z",
     "iopub.status.idle": "2024-06-02T14:38:01.415868Z",
     "shell.execute_reply": "2024-06-02T14:38:01.414727Z"
    },
    "papermill": {
     "duration": 0.109459,
     "end_time": "2024-06-02T14:38:01.418736",
     "exception": false,
     "start_time": "2024-06-02T14:38:01.309277",
     "status": "completed"
    },
    "tags": []
   },
   "outputs": [],
   "source": [
    "df = pd.read_csv(\"/kaggle/input/aids-virus-infection-prediction/AIDS_Classification_15000.csv\")"
   ]
  },
  {
   "cell_type": "code",
   "execution_count": 4,
   "id": "a5b8dff4",
   "metadata": {
    "execution": {
     "iopub.execute_input": "2024-06-02T14:38:01.483358Z",
     "iopub.status.busy": "2024-06-02T14:38:01.482575Z",
     "iopub.status.idle": "2024-06-02T14:38:01.520390Z",
     "shell.execute_reply": "2024-06-02T14:38:01.519275Z"
    },
    "papermill": {
     "duration": 0.072579,
     "end_time": "2024-06-02T14:38:01.522954",
     "exception": false,
     "start_time": "2024-06-02T14:38:01.450375",
     "status": "completed"
    },
    "tags": []
   },
   "outputs": [
    {
     "data": {
      "text/html": [
       "<div>\n",
       "<style scoped>\n",
       "    .dataframe tbody tr th:only-of-type {\n",
       "        vertical-align: middle;\n",
       "    }\n",
       "\n",
       "    .dataframe tbody tr th {\n",
       "        vertical-align: top;\n",
       "    }\n",
       "\n",
       "    .dataframe thead th {\n",
       "        text-align: right;\n",
       "    }\n",
       "</style>\n",
       "<table border=\"1\" class=\"dataframe\">\n",
       "  <thead>\n",
       "    <tr style=\"text-align: right;\">\n",
       "      <th></th>\n",
       "      <th>time</th>\n",
       "      <th>trt</th>\n",
       "      <th>age</th>\n",
       "      <th>wtkg</th>\n",
       "      <th>hemo</th>\n",
       "      <th>homo</th>\n",
       "      <th>drugs</th>\n",
       "      <th>karnof</th>\n",
       "      <th>oprior</th>\n",
       "      <th>z30</th>\n",
       "      <th>...</th>\n",
       "      <th>str2</th>\n",
       "      <th>strat</th>\n",
       "      <th>symptom</th>\n",
       "      <th>treat</th>\n",
       "      <th>offtrt</th>\n",
       "      <th>cd40</th>\n",
       "      <th>cd420</th>\n",
       "      <th>cd80</th>\n",
       "      <th>cd820</th>\n",
       "      <th>infected</th>\n",
       "    </tr>\n",
       "  </thead>\n",
       "  <tbody>\n",
       "    <tr>\n",
       "      <th>0</th>\n",
       "      <td>1108</td>\n",
       "      <td>1</td>\n",
       "      <td>37</td>\n",
       "      <td>88.11364</td>\n",
       "      <td>0</td>\n",
       "      <td>1</td>\n",
       "      <td>1</td>\n",
       "      <td>100</td>\n",
       "      <td>0</td>\n",
       "      <td>1</td>\n",
       "      <td>...</td>\n",
       "      <td>1</td>\n",
       "      <td>1</td>\n",
       "      <td>0</td>\n",
       "      <td>0</td>\n",
       "      <td>0</td>\n",
       "      <td>389</td>\n",
       "      <td>320</td>\n",
       "      <td>734</td>\n",
       "      <td>737</td>\n",
       "      <td>1</td>\n",
       "    </tr>\n",
       "    <tr>\n",
       "      <th>1</th>\n",
       "      <td>1079</td>\n",
       "      <td>0</td>\n",
       "      <td>43</td>\n",
       "      <td>66.77075</td>\n",
       "      <td>0</td>\n",
       "      <td>0</td>\n",
       "      <td>0</td>\n",
       "      <td>100</td>\n",
       "      <td>0</td>\n",
       "      <td>1</td>\n",
       "      <td>...</td>\n",
       "      <td>0</td>\n",
       "      <td>2</td>\n",
       "      <td>0</td>\n",
       "      <td>1</td>\n",
       "      <td>1</td>\n",
       "      <td>318</td>\n",
       "      <td>432</td>\n",
       "      <td>912</td>\n",
       "      <td>1213</td>\n",
       "      <td>0</td>\n",
       "    </tr>\n",
       "    <tr>\n",
       "      <th>2</th>\n",
       "      <td>492</td>\n",
       "      <td>1</td>\n",
       "      <td>34</td>\n",
       "      <td>82.91725</td>\n",
       "      <td>0</td>\n",
       "      <td>0</td>\n",
       "      <td>0</td>\n",
       "      <td>90</td>\n",
       "      <td>0</td>\n",
       "      <td>1</td>\n",
       "      <td>...</td>\n",
       "      <td>1</td>\n",
       "      <td>2</td>\n",
       "      <td>0</td>\n",
       "      <td>1</td>\n",
       "      <td>1</td>\n",
       "      <td>326</td>\n",
       "      <td>524</td>\n",
       "      <td>660</td>\n",
       "      <td>835</td>\n",
       "      <td>0</td>\n",
       "    </tr>\n",
       "    <tr>\n",
       "      <th>3</th>\n",
       "      <td>1191</td>\n",
       "      <td>1</td>\n",
       "      <td>41</td>\n",
       "      <td>98.91817</td>\n",
       "      <td>0</td>\n",
       "      <td>0</td>\n",
       "      <td>0</td>\n",
       "      <td>81</td>\n",
       "      <td>0</td>\n",
       "      <td>1</td>\n",
       "      <td>...</td>\n",
       "      <td>1</td>\n",
       "      <td>3</td>\n",
       "      <td>0</td>\n",
       "      <td>1</td>\n",
       "      <td>0</td>\n",
       "      <td>318</td>\n",
       "      <td>232</td>\n",
       "      <td>1131</td>\n",
       "      <td>982</td>\n",
       "      <td>1</td>\n",
       "    </tr>\n",
       "    <tr>\n",
       "      <th>4</th>\n",
       "      <td>1141</td>\n",
       "      <td>3</td>\n",
       "      <td>47</td>\n",
       "      <td>53.61717</td>\n",
       "      <td>0</td>\n",
       "      <td>1</td>\n",
       "      <td>0</td>\n",
       "      <td>100</td>\n",
       "      <td>0</td>\n",
       "      <td>0</td>\n",
       "      <td>...</td>\n",
       "      <td>0</td>\n",
       "      <td>1</td>\n",
       "      <td>0</td>\n",
       "      <td>1</td>\n",
       "      <td>0</td>\n",
       "      <td>280</td>\n",
       "      <td>337</td>\n",
       "      <td>515</td>\n",
       "      <td>679</td>\n",
       "      <td>0</td>\n",
       "    </tr>\n",
       "  </tbody>\n",
       "</table>\n",
       "<p>5 rows × 23 columns</p>\n",
       "</div>"
      ],
      "text/plain": [
       "   time  trt  age      wtkg  hemo  homo  drugs  karnof  oprior  z30  ...  \\\n",
       "0  1108    1   37  88.11364     0     1      1     100       0    1  ...   \n",
       "1  1079    0   43  66.77075     0     0      0     100       0    1  ...   \n",
       "2   492    1   34  82.91725     0     0      0      90       0    1  ...   \n",
       "3  1191    1   41  98.91817     0     0      0      81       0    1  ...   \n",
       "4  1141    3   47  53.61717     0     1      0     100       0    0  ...   \n",
       "\n",
       "   str2  strat  symptom  treat  offtrt  cd40  cd420  cd80  cd820  infected  \n",
       "0     1      1        0      0       0   389    320   734    737         1  \n",
       "1     0      2        0      1       1   318    432   912   1213         0  \n",
       "2     1      2        0      1       1   326    524   660    835         0  \n",
       "3     1      3        0      1       0   318    232  1131    982         1  \n",
       "4     0      1        0      1       0   280    337   515    679         0  \n",
       "\n",
       "[5 rows x 23 columns]"
      ]
     },
     "execution_count": 4,
     "metadata": {},
     "output_type": "execute_result"
    }
   ],
   "source": [
    "df.head()"
   ]
  },
  {
   "cell_type": "code",
   "execution_count": 5,
   "id": "1a4e4a6d",
   "metadata": {
    "execution": {
     "iopub.execute_input": "2024-06-02T14:38:01.591443Z",
     "iopub.status.busy": "2024-06-02T14:38:01.589891Z",
     "iopub.status.idle": "2024-06-02T14:38:01.599424Z",
     "shell.execute_reply": "2024-06-02T14:38:01.598496Z"
    },
    "papermill": {
     "duration": 0.046698,
     "end_time": "2024-06-02T14:38:01.601679",
     "exception": false,
     "start_time": "2024-06-02T14:38:01.554981",
     "status": "completed"
    },
    "tags": []
   },
   "outputs": [
    {
     "data": {
      "text/plain": [
       "time        0\n",
       "trt         0\n",
       "age         0\n",
       "wtkg        0\n",
       "hemo        0\n",
       "homo        0\n",
       "drugs       0\n",
       "karnof      0\n",
       "oprior      0\n",
       "z30         0\n",
       "preanti     0\n",
       "race        0\n",
       "gender      0\n",
       "str2        0\n",
       "strat       0\n",
       "symptom     0\n",
       "treat       0\n",
       "offtrt      0\n",
       "cd40        0\n",
       "cd420       0\n",
       "cd80        0\n",
       "cd820       0\n",
       "infected    0\n",
       "dtype: int64"
      ]
     },
     "execution_count": 5,
     "metadata": {},
     "output_type": "execute_result"
    }
   ],
   "source": [
    "df.isnull().sum()"
   ]
  },
  {
   "cell_type": "markdown",
   "id": "3bde7c72",
   "metadata": {
    "papermill": {
     "duration": 0.032799,
     "end_time": "2024-06-02T14:38:01.665770",
     "exception": false,
     "start_time": "2024-06-02T14:38:01.632971",
     "status": "completed"
    },
    "tags": []
   },
   "source": [
    "<a id = '1'></a>\n",
    "##  <div style=\"text-align: center; border:#e6e6fa; border-width:1.5px; border-style:solid; padding: 14px;line-height: 0.5;\"> <b>UNIVARIATE ANALYSIS</b></div>\n",
    "\n"
   ]
  },
  {
   "cell_type": "markdown",
   "id": "4e1a2243",
   "metadata": {
    "papermill": {
     "duration": 0.030952,
     "end_time": "2024-06-02T14:38:01.728455",
     "exception": false,
     "start_time": "2024-06-02T14:38:01.697503",
     "status": "completed"
    },
    "tags": []
   },
   "source": [
    "## trt: Treatment Indicator\n",
    "\n",
    "***About***\n",
    "<div>\n",
    "    <p>\n",
    "        The treatment indicator provides information about the type of antiretroviral treatment regimen patients in the dataset are receiving:\n",
    "    </p>\n",
    "    <ul>\n",
    "        <li>0 = ZDV only\n",
    "            <ul>\n",
    "                <li>Patients with this indicator are being treated only with Zidovudine (ZDV), also known as AZT.</li>\n",
    "            </ul>\n",
    "        </li>\n",
    "        <li>1 = ZDV + ddI\n",
    "            <ul>\n",
    "                <li>Patients with this indicator are being treated with a combination of Zidovudine (ZDV) and Didanosine (ddI). The combination therapy is often used to enhance the efficacy of treatment by using drugs with different mechanisms of action.</li>\n",
    "            </ul>\n",
    "        </li>\n",
    "        <li>2 = ZDV + Zal\n",
    "            <ul>\n",
    "                <li>Patients with this indicator are being treated with a combination of Zidovudine (ZDV) and Zalcitabine (Zal). The combination of ZDV and Zal is another strategy to improve treatment effectiveness and delay the progression of the disease.</li>\n",
    "            </ul>\n",
    "        </li>\n",
    "        <li>3 = ddI only\n",
    "            <ul>\n",
    "                <li>Patients with this indicator are being treated only with Didanosine (ddI). This might be an alternative regimen for patients who cannot tolerate ZDV or for whom ZDV is not effective.</li>\n",
    "            </ul>\n",
    "        </li>\n",
    "    </ul>\n",
    "</div>\n",
    "\n",
    "\n",
    "***Conclusions***"
   ]
  },
  {
   "cell_type": "code",
   "execution_count": 6,
   "id": "791505b1",
   "metadata": {
    "execution": {
     "iopub.execute_input": "2024-06-02T14:38:01.794000Z",
     "iopub.status.busy": "2024-06-02T14:38:01.793291Z",
     "iopub.status.idle": "2024-06-02T14:38:01.808581Z",
     "shell.execute_reply": "2024-06-02T14:38:01.807308Z"
    },
    "papermill": {
     "duration": 0.050536,
     "end_time": "2024-06-02T14:38:01.811244",
     "exception": false,
     "start_time": "2024-06-02T14:38:01.760708",
     "status": "completed"
    },
    "tags": []
   },
   "outputs": [
    {
     "data": {
      "text/plain": [
       "trt\n",
       "0    5550\n",
       "3    4149\n",
       "2    3182\n",
       "1    2119\n",
       "Name: count, dtype: int64"
      ]
     },
     "execution_count": 6,
     "metadata": {},
     "output_type": "execute_result"
    }
   ],
   "source": [
    "df['trt'].value_counts()"
   ]
  },
  {
   "cell_type": "code",
   "execution_count": 7,
   "id": "51273b2b",
   "metadata": {
    "execution": {
     "iopub.execute_input": "2024-06-02T14:38:01.876529Z",
     "iopub.status.busy": "2024-06-02T14:38:01.876103Z",
     "iopub.status.idle": "2024-06-02T14:38:04.086279Z",
     "shell.execute_reply": "2024-06-02T14:38:04.085272Z"
    },
    "papermill": {
     "duration": 2.246402,
     "end_time": "2024-06-02T14:38:04.089092",
     "exception": false,
     "start_time": "2024-06-02T14:38:01.842690",
     "status": "completed"
    },
    "tags": []
   },
   "outputs": [
    {
     "data": {
      "image/svg+xml": [
       "<svg class=\"main-svg\" xmlns=\"http://www.w3.org/2000/svg\" xmlns:xlink=\"http://www.w3.org/1999/xlink\" width=\"1000\" height=\"500\" style=\"\" viewBox=\"0 0 1000 500\"><rect x=\"0\" y=\"0\" width=\"1000\" height=\"500\" style=\"fill: rgb(255, 255, 255); fill-opacity: 1;\"/><defs id=\"defs-cf5597\"><g class=\"clips\"/><g class=\"gradients\"/><g class=\"patterns\"/></defs><g class=\"bglayer\"/><g class=\"layer-below\"><g class=\"imagelayer\"/><g class=\"shapelayer\"/></g><g class=\"cartesianlayer\"/><g class=\"polarlayer\"/><g class=\"smithlayer\"/><g class=\"ternarylayer\"/><g class=\"geolayer\"/><g class=\"funnelarealayer\"/><g class=\"pielayer\"><g class=\"trace\" stroke-linejoin=\"round\" style=\"opacity: 1;\"><g class=\"slice\"><path class=\"surface\" d=\"M471.4436784291845,315.6564858387229a74,74 0 0 0 -53.94367842918447,-124.65648583872294l0,-111a185,185 0 0 1 134.85919607296117,311.64121459680734Z\" style=\"pointer-events: none; fill: rgb(142, 1, 82); fill-opacity: 1; stroke-width: 2; stroke: rgb(0, 0, 0); stroke-opacity: 1;\"/><g class=\"slicetext\"><text data-notex=\"1\" class=\"slicetext\" transform=\"translate(536.3492240260755,209.4677856627959)\" text-anchor=\"middle\" x=\"0\" y=\"0\" style=\"font-family: 'Open Sans', verdana, arial, sans-serif; font-size: 14px; fill: rgb(0, 0, 0); fill-opacity: 1; white-space: pre;\"><tspan class=\"line\" dy=\"0em\" x=\"0\" y=\"0\">0</tspan><tspan class=\"line\" dy=\"1.3em\" x=\"0\" y=\"0\">37%</tspan></text></g></g><g class=\"slice\"><path class=\"surface\" d=\"M417.5,191a74,74 0 0 0 -72.9688696807397,86.31032320921048l-109.45330452110956,18.465484813815706a185,185 0 0 1 182.42217420184926,-215.77580802302617Z\" style=\"pointer-events: none; fill: rgb(197, 27, 125); fill-opacity: 1; stroke-width: 2; stroke: rgb(0, 0, 0); stroke-opacity: 1;\"/><g class=\"slicetext\"><text data-notex=\"1\" class=\"slicetext\" transform=\"translate(318.6059228333483,177.29095277909516)\" text-anchor=\"middle\" x=\"0\" y=\"0\" style=\"font-family: 'Open Sans', verdana, arial, sans-serif; font-size: 14px; fill: rgb(0, 0, 0); fill-opacity: 1; white-space: pre;\"><tspan class=\"line\" dy=\"0em\" x=\"0\" y=\"0\">3</tspan><tspan class=\"line\" dy=\"1.3em\" x=\"0\" y=\"0\">27.7%</tspan></text></g></g><g class=\"slice\"><path class=\"surface\" d=\"M344.5311303192603,277.3103232092105a74,74 0 0 0 67.73474284011012,61.50433601384766l-7.851190260944385,110.7219888345872a185,185 0 0 1 -169.3368571002753,-153.76084003461915Z\" style=\"pointer-events: none; fill: rgb(222, 119, 174); fill-opacity: 1; stroke-width: 2; stroke: rgb(0, 0, 0); stroke-opacity: 1;\"/><g class=\"slicetext\"><text data-notex=\"1\" class=\"slicetext\" transform=\"translate(330.4452301836427,356.77188039333225)\" text-anchor=\"middle\" x=\"0\" y=\"0\" style=\"font-family: 'Open Sans', verdana, arial, sans-serif; font-size: 14px; fill: rgb(0, 0, 0); fill-opacity: 1; white-space: pre;\"><tspan class=\"line\" dy=\"0em\" x=\"0\" y=\"0\">2</tspan><tspan class=\"line\" dy=\"1.3em\" x=\"0\" y=\"0\">21.2%</tspan></text></g></g><g class=\"slice\"><path class=\"surface\" d=\"M412.2658731593704,338.81465922305813a74,74 0 0 0 59.177805269814044,-23.158173384335175l80.91551764377668,75.98472875808443a185,185 0 0 1 -147.9445131745351,57.895433460837936Z\" style=\"pointer-events: none; fill: rgb(241, 182, 218); fill-opacity: 1; stroke-width: 2; stroke: rgb(0, 0, 0); stroke-opacity: 1;\"/><g class=\"slicetext\"><text data-notex=\"1\" class=\"slicetext\" transform=\"translate(464.69261546980795,381.4932427161404)\" text-anchor=\"middle\" x=\"0\" y=\"0\" style=\"font-family: 'Open Sans', verdana, arial, sans-serif; font-size: 14px; fill: rgb(0, 0, 0); fill-opacity: 1; white-space: pre;\"><tspan class=\"line\" dy=\"0em\" x=\"0\" y=\"0\">1</tspan><tspan class=\"line\" dy=\"1.3em\" x=\"0\" y=\"0\">14.1%</tspan></text></g></g></g></g><g class=\"iciclelayer\"/><g class=\"treemaplayer\"/><g class=\"sunburstlayer\"/><g class=\"glimages\"/><defs id=\"topdefs-cf5597\"><g class=\"clips\"/><clipPath id=\"legendcf5597\"><rect width=\"349\" height=\"33\" x=\"0.5\" y=\"0.5\"/></clipPath></defs><g class=\"layer-above\"><g class=\"imagelayer\"/><g class=\"shapelayer\"/></g><g class=\"infolayer\"><g class=\"legend\" pointer-events=\"all\" transform=\"translate(638,265)\"><rect class=\"bg\" shape-rendering=\"crispEdges\" style=\"stroke: rgb(0, 0, 0); stroke-opacity: 1; fill: rgb(255, 255, 255); fill-opacity: 1; stroke-width: 0.5px;\" width=\"349.5\" height=\"33.5\" x=\"0.25\" y=\"0.25\"/><g class=\"scrollbox\" transform=\"\" clip-path=\"url(#legendcf5597)\"><text class=\"legendtitletext\" text-anchor=\"start\" x=\"2.5\" y=\"22.6\" style=\"font-family: Arial; font-size: 17px; fill: rgb(0, 0, 0); fill-opacity: 1; white-space: pre;\">Treatment Types</text><g class=\"groups\"><g class=\"traces\" transform=\"translate(137.421875,16.1)\" style=\"opacity: 1;\"><text class=\"legendtext\" text-anchor=\"start\" x=\"40\" y=\"5.46\" style=\"font-family: Arial; font-size: 14px; fill: rgb(0, 0, 0); fill-opacity: 1; white-space: pre;\">0</text><g class=\"layers\" style=\"opacity: 1;\"><g class=\"legendfill\"/><g class=\"legendlines\"/><g class=\"legendsymbols\"><g class=\"legendpoints\"><path class=\"legendpie\" d=\"M6,6H-6V-6H6Z\" transform=\"translate(20,0)\" style=\"fill: rgb(142, 1, 82); fill-opacity: 1; stroke-width: 2; stroke: rgb(0, 0, 0); stroke-opacity: 1;\"/></g></g></g><rect class=\"legendtoggle\" x=\"0\" y=\"-10.6\" width=\"50.5\" height=\"21.2\" style=\"fill: rgb(0, 0, 0); fill-opacity: 0;\"/></g><g class=\"traces\" transform=\"translate(190.421875,16.1)\" style=\"opacity: 1;\"><text class=\"legendtext\" text-anchor=\"start\" x=\"40\" y=\"5.46\" style=\"font-family: Arial; font-size: 14px; fill: rgb(0, 0, 0); fill-opacity: 1; white-space: pre;\">3</text><g class=\"layers\" style=\"opacity: 1;\"><g class=\"legendfill\"/><g class=\"legendlines\"/><g class=\"legendsymbols\"><g class=\"legendpoints\"><path class=\"legendpie\" d=\"M6,6H-6V-6H6Z\" transform=\"translate(20,0)\" style=\"fill: rgb(197, 27, 125); fill-opacity: 1; stroke-width: 2; stroke: rgb(0, 0, 0); stroke-opacity: 1;\"/></g></g></g><rect class=\"legendtoggle\" x=\"0\" y=\"-10.6\" width=\"50.5\" height=\"21.2\" style=\"fill: rgb(0, 0, 0); fill-opacity: 0;\"/></g><g class=\"traces\" transform=\"translate(243.421875,16.1)\" style=\"opacity: 1;\"><text class=\"legendtext\" text-anchor=\"start\" x=\"40\" y=\"5.46\" style=\"font-family: Arial; font-size: 14px; fill: rgb(0, 0, 0); fill-opacity: 1; white-space: pre;\">2</text><g class=\"layers\" style=\"opacity: 1;\"><g class=\"legendfill\"/><g class=\"legendlines\"/><g class=\"legendsymbols\"><g class=\"legendpoints\"><path class=\"legendpie\" d=\"M6,6H-6V-6H6Z\" transform=\"translate(20,0)\" style=\"fill: rgb(222, 119, 174); fill-opacity: 1; stroke-width: 2; stroke: rgb(0, 0, 0); stroke-opacity: 1;\"/></g></g></g><rect class=\"legendtoggle\" x=\"0\" y=\"-10.6\" width=\"50.5\" height=\"21.2\" style=\"fill: rgb(0, 0, 0); fill-opacity: 0;\"/></g><g class=\"traces\" transform=\"translate(296.421875,16.1)\" style=\"opacity: 1;\"><text class=\"legendtext\" text-anchor=\"start\" x=\"40\" y=\"5.46\" style=\"font-family: Arial; font-size: 14px; fill: rgb(0, 0, 0); fill-opacity: 1; white-space: pre;\">1</text><g class=\"layers\" style=\"opacity: 1;\"><g class=\"legendfill\"/><g class=\"legendlines\"/><g class=\"legendsymbols\"><g class=\"legendpoints\"><path class=\"legendpie\" d=\"M6,6H-6V-6H6Z\" transform=\"translate(20,0)\" style=\"fill: rgb(241, 182, 218); fill-opacity: 1; stroke-width: 2; stroke: rgb(0, 0, 0); stroke-opacity: 1;\"/></g></g></g><rect class=\"legendtoggle\" x=\"0\" y=\"-10.6\" width=\"50.5\" height=\"21.2\" style=\"fill: rgb(0, 0, 0); fill-opacity: 0;\"/></g></g></g><rect class=\"scrollbar\" rx=\"20\" ry=\"3\" width=\"0\" height=\"0\" style=\"fill: rgb(128, 139, 164); fill-opacity: 1;\" x=\"0\" y=\"0\"/></g><g class=\"g-gtitle\"><text class=\"gtitle\" x=\"500\" y=\"25\" text-anchor=\"middle\" dy=\"0.7em\" style=\"font-family: 'Times New Roman'; font-size: 26px; fill: rgb(0, 0, 0); opacity: 1; font-weight: normal; white-space: pre;\">Distribution of Different Treatments</text></g><g class=\"annotation\" data-index=\"0\" style=\"opacity: 1;\"><g class=\"annotation-text-g\" transform=\"rotate(0,417.5,265)\"><g class=\"cursor-pointer\" transform=\"translate(370,252)\"><rect class=\"bg\" x=\"0.5\" y=\"0.5\" width=\"94\" height=\"25\" style=\"stroke-width: 1px; stroke: rgb(0, 0, 0); stroke-opacity: 0; fill: rgb(0, 0, 0); fill-opacity: 0;\"/><text class=\"annotation-text\" text-anchor=\"middle\" x=\"47.203125\" y=\"20\" style=\"font-family: 'Open Sans', verdana, arial, sans-serif; font-size: 20px; fill: rgb(0, 0, 0); fill-opacity: 1; white-space: pre;\">Treatment</text></g></g></g><g class=\"annotation\" data-index=\"1\" style=\"opacity: 1;\"><g class=\"annotation-text-g\" transform=\"rotate(0,417.5,477.00000000000006)\"><g class=\"cursor-pointer\" transform=\"translate(234,467)\"><rect class=\"bg\" x=\"0.5\" y=\"0.5\" width=\"366\" height=\"19\" style=\"stroke-width: 1px; stroke: rgb(0, 0, 0); stroke-opacity: 0; fill: rgb(0, 0, 0); fill-opacity: 0;\"/><text class=\"annotation-text\" text-anchor=\"middle\" x=\"183.5625\" y=\"15\" style=\"font-family: 'Open Sans', verdana, arial, sans-serif; font-size: 14px; fill: rgb(0, 0, 0); fill-opacity: 1; white-space: pre;\">The majority of patients are receiving ZDV only or ddI only.</text></g></g></g></g></svg>"
      ]
     },
     "metadata": {},
     "output_type": "display_data"
    }
   ],
   "source": [
    "trt = df['trt'].value_counts().reset_index()\n",
    "trt.columns = ['trt', 'count']\n",
    "\n",
    "# Choose a diverging palette\n",
    "palette = cl.scales['11']['div']['PiYG']\n",
    "\n",
    "# Create the pie chart\n",
    "fig = go.Figure(data=[go.Pie(\n",
    "    labels=trt['trt'],\n",
    "    values=trt['count'],\n",
    "    hole=.4,\n",
    "    marker=dict(colors=palette, line=dict(color='#000000', width=2)),\n",
    "    hoverinfo=\"label+percent+value\",\n",
    "    textinfo=\"label+percent\",\n",
    "    textfont=dict(size=14, color='#000000')  # Adjust text color\n",
    ")])\n",
    "\n",
    "# Update layout\n",
    "fig.update_layout(\n",
    "    title_text=\"Treatment Distribution\",\n",
    "    title_font_size=24,\n",
    "    title_font_family=\"Times New Roman\",\n",
    "    title_font_color=\"#000000\", \n",
    "    paper_bgcolor='#ffffff',  \n",
    "    plot_bgcolor='#ffffff',  \n",
    "    annotations=[dict(text='Treatment', x=0.5, y=0.5, font_size=20, showarrow=False, font=dict(color=\"#000000\"))],\n",
    "    showlegend=True,\n",
    "    legend_title_text='Treatment Types',\n",
    "    legend=dict(\n",
    "        x=0.8,\n",
    "        y=0.5,\n",
    "        traceorder='normal',\n",
    "        font=dict(\n",
    "            family=\"Arial\",\n",
    "            size=14,\n",
    "            color=\"#000000\"  \n",
    "        ),\n",
    "        bgcolor=\"#ffffff\",  \n",
    "        bordercolor=\"#000000\",  \n",
    "        borderwidth=0.5,\n",
    "        orientation=\"h\"  \n",
    "    )\n",
    ")\n",
    "\n",
    "# Increase the width of the page\n",
    "fig.update_layout(width=1000)\n",
    "\n",
    "# Adding a more vibrant title and better spacing\n",
    "fig.update_layout(\n",
    "    title={\n",
    "        'text': \"Distribution of Different Treatments\",\n",
    "        'y':0.95,\n",
    "        'x':0.5,\n",
    "        'xanchor': 'center',\n",
    "        'yanchor': 'top'},\n",
    "    title_font_size=26,\n",
    "    margin=dict(l=50, r=50, t=80, b=50)\n",
    ")\n",
    "\n",
    "# Add observation/interpretation\n",
    "fig.add_annotation(\n",
    "    text=\"The majority of patients are receiving ZDV only or ddI only.\",\n",
    "    x=0.5,\n",
    "    y=-0.1,\n",
    "    showarrow=False,\n",
    "    font=dict(color=\"#000000\", size=14)  # Adjust text color\n",
    ")\n",
    "\n",
    "# Show the pie chart\n",
    "fig.show('svg')"
   ]
  },
  {
   "cell_type": "markdown",
   "id": "906c07ab",
   "metadata": {
    "papermill": {
     "duration": 0.032382,
     "end_time": "2024-06-02T14:38:04.157440",
     "exception": false,
     "start_time": "2024-06-02T14:38:04.125058",
     "status": "completed"
    },
    "tags": []
   },
   "source": [
    "----------------------------------------------------------------------------------------------------------------------------------------------------------\n"
   ]
  },
  {
   "cell_type": "markdown",
   "id": "7efbabc3",
   "metadata": {
    "papermill": {
     "duration": 0.032767,
     "end_time": "2024-06-02T14:38:04.244253",
     "exception": false,
     "start_time": "2024-06-02T14:38:04.211486",
     "status": "completed"
    },
    "tags": []
   },
   "source": [
    "## Age\n",
    "\n",
    "\n",
    "***Conclusions***\n",
    "\n",
    "- *It can be seen that age is normally distributed*\n",
    "\n",
    "- *There are no missing values*\n",
    "\n",
    "- *Max values goes up to 68 but some outliers are present in the data*\n",
    "\n",
    "- *mean and median are about the same hence we can conclude that the outliers are not affecting the data*"
   ]
  },
  {
   "cell_type": "code",
   "execution_count": 8,
   "id": "ea33962d",
   "metadata": {
    "execution": {
     "iopub.execute_input": "2024-06-02T14:38:04.309185Z",
     "iopub.status.busy": "2024-06-02T14:38:04.308742Z",
     "iopub.status.idle": "2024-06-02T14:38:04.322580Z",
     "shell.execute_reply": "2024-06-02T14:38:04.321769Z"
    },
    "papermill": {
     "duration": 0.048855,
     "end_time": "2024-06-02T14:38:04.324697",
     "exception": false,
     "start_time": "2024-06-02T14:38:04.275842",
     "status": "completed"
    },
    "tags": []
   },
   "outputs": [
    {
     "data": {
      "text/plain": [
       "count    15000.000000\n",
       "mean        34.273800\n",
       "std          7.074134\n",
       "min         12.000000\n",
       "25%         29.000000\n",
       "50%         34.000000\n",
       "75%         39.000000\n",
       "max         68.000000\n",
       "Name: age, dtype: float64"
      ]
     },
     "execution_count": 8,
     "metadata": {},
     "output_type": "execute_result"
    }
   ],
   "source": [
    "df['age'].describe()"
   ]
  },
  {
   "cell_type": "markdown",
   "id": "3a8e4d7c",
   "metadata": {
    "papermill": {
     "duration": 0.032318,
     "end_time": "2024-06-02T14:38:04.389557",
     "exception": false,
     "start_time": "2024-06-02T14:38:04.357239",
     "status": "completed"
    },
    "tags": []
   },
   "source": [
    "*Median and mean are around the same hence it seems like the distribution is normal.*"
   ]
  },
  {
   "cell_type": "code",
   "execution_count": 9,
   "id": "e8ac0b02",
   "metadata": {
    "execution": {
     "iopub.execute_input": "2024-06-02T14:38:04.457431Z",
     "iopub.status.busy": "2024-06-02T14:38:04.456287Z",
     "iopub.status.idle": "2024-06-02T14:38:04.732978Z",
     "shell.execute_reply": "2024-06-02T14:38:04.731700Z"
    },
    "papermill": {
     "duration": 0.314102,
     "end_time": "2024-06-02T14:38:04.736086",
     "exception": false,
     "start_time": "2024-06-02T14:38:04.421984",
     "status": "completed"
    },
    "tags": []
   },
   "outputs": [
    {
     "data": {
      "image/svg+xml": [
       "<svg class=\"main-svg\" xmlns=\"http://www.w3.org/2000/svg\" xmlns:xlink=\"http://www.w3.org/1999/xlink\" width=\"1000\" height=\"500\" style=\"\" viewBox=\"0 0 1000 500\"><rect x=\"0\" y=\"0\" width=\"1000\" height=\"500\" style=\"fill: rgb(255, 255, 255); fill-opacity: 1;\"/><defs id=\"defs-685707\"><g class=\"clips\"><clipPath id=\"clip685707xyplot\" class=\"plotclip\"><rect width=\"885\" height=\"367\"/></clipPath><clipPath class=\"axesclip\" id=\"clip685707x\"><rect x=\"65\" y=\"0\" width=\"885\" height=\"500\"/></clipPath><clipPath class=\"axesclip\" id=\"clip685707y\"><rect x=\"0\" y=\"80\" width=\"1000\" height=\"367\"/></clipPath><clipPath class=\"axesclip\" id=\"clip685707xy\"><rect x=\"65\" y=\"80\" width=\"885\" height=\"367\"/></clipPath></g><g class=\"gradients\"/><g class=\"patterns\"/></defs><g class=\"bglayer\"/><g class=\"layer-below\"><g class=\"imagelayer\"/><g class=\"shapelayer\"/></g><g class=\"cartesianlayer\"><g class=\"subplot xy\"><g class=\"layer-subplot\"><g class=\"shapelayer\"/><g class=\"imagelayer\"/></g><g class=\"minor-gridlayer\"><g class=\"x\"/><g class=\"y\"/></g><g class=\"gridlayer\"><g class=\"x\"/><g class=\"y\"><path class=\"ygrid crisp\" transform=\"translate(0,401.61)\" d=\"M65,0h885\" style=\"stroke: rgb(255, 255, 255); stroke-opacity: 1; stroke-width: 1px;\"/><path class=\"ygrid crisp\" transform=\"translate(0,356.23)\" d=\"M65,0h885\" style=\"stroke: rgb(255, 255, 255); stroke-opacity: 1; stroke-width: 1px;\"/><path class=\"ygrid crisp\" transform=\"translate(0,310.84000000000003)\" d=\"M65,0h885\" style=\"stroke: rgb(255, 255, 255); stroke-opacity: 1; stroke-width: 1px;\"/><path class=\"ygrid crisp\" transform=\"translate(0,265.46000000000004)\" d=\"M65,0h885\" style=\"stroke: rgb(255, 255, 255); stroke-opacity: 1; stroke-width: 1px;\"/><path class=\"ygrid crisp\" transform=\"translate(0,220.07)\" d=\"M65,0h885\" style=\"stroke: rgb(255, 255, 255); stroke-opacity: 1; stroke-width: 1px;\"/><path class=\"ygrid crisp\" transform=\"translate(0,174.69)\" d=\"M65,0h885\" style=\"stroke: rgb(255, 255, 255); stroke-opacity: 1; stroke-width: 1px;\"/><path class=\"ygrid crisp\" transform=\"translate(0,129.3)\" d=\"M65,0h885\" style=\"stroke: rgb(255, 255, 255); stroke-opacity: 1; stroke-width: 1px;\"/><path class=\"ygrid crisp\" transform=\"translate(0,83.92)\" d=\"M65,0h885\" style=\"stroke: rgb(255, 255, 255); stroke-opacity: 1; stroke-width: 1px;\"/></g></g><g class=\"zerolinelayer\"><path class=\"yzl zl crisp\" transform=\"translate(0,447)\" d=\"M65,0h885\" style=\"stroke: rgb(255, 255, 255); stroke-opacity: 1; stroke-width: 2px;\"/></g><path class=\"xlines-below\"/><path class=\"ylines-below\"/><g class=\"overlines-below\"/><g class=\"xaxislayer-below\"/><g class=\"yaxislayer-below\"/><g class=\"overaxes-below\"/><g class=\"plot\" transform=\"translate(65,80)\" clip-path=\"url(#clip685707xyplot)\"><g class=\"barlayer mlayer\"><g class=\"trace bars\" shape-rendering=\"crispEdges\" style=\"opacity: 1;\"><g class=\"points\"><g class=\"point\"><path d=\"M0,367V356.47H147.5V367Z\" style=\"vector-effect: none; opacity: 1; stroke-width: 0px; fill: rgb(118, 42, 131); fill-opacity: 1;\"/></g><g class=\"point\"><path d=\"M147.5,367V194.76H295V367Z\" style=\"vector-effect: none; opacity: 1; stroke-width: 0px; fill: rgb(118, 42, 131); fill-opacity: 1;\"/></g><g class=\"point\"><path d=\"M295,367V18.35H442.5V367Z\" style=\"vector-effect: none; opacity: 1; stroke-width: 0px; fill: rgb(118, 42, 131); fill-opacity: 1;\"/></g><g class=\"point\"><path d=\"M442.5,367V232.98H590V367Z\" style=\"vector-effect: none; opacity: 1; stroke-width: 0px; fill: rgb(118, 42, 131); fill-opacity: 1;\"/></g><g class=\"point\"><path d=\"M590,367V352.57H737.5V367Z\" style=\"vector-effect: none; opacity: 1; stroke-width: 0px; fill: rgb(118, 42, 131); fill-opacity: 1;\"/></g><g class=\"point\"><path d=\"M737.5,367V366.09H885V367Z\" style=\"vector-effect: none; opacity: 1; stroke-width: 0px; fill: rgb(118, 42, 131); fill-opacity: 1;\"/></g></g></g></g></g><g class=\"overplot\"/><path class=\"xlines-above crisp\" d=\"M0,0\" style=\"fill: none;\"/><path class=\"ylines-above crisp\" d=\"M0,0\" style=\"fill: none;\"/><g class=\"overlines-above\"/><g class=\"xaxislayer-above\"><g class=\"xtick\"><text text-anchor=\"middle\" x=\"0\" y=\"460\" transform=\"translate(72.38,0)\" style=\"font-family: 'Open Sans', verdana, arial, sans-serif; font-size: 12px; fill: rgb(42, 63, 95); fill-opacity: 1; white-space: pre; opacity: 1;\">10</text></g><g class=\"xtick\"><text text-anchor=\"middle\" x=\"0\" y=\"460\" style=\"font-family: 'Open Sans', verdana, arial, sans-serif; font-size: 12px; fill: rgb(42, 63, 95); fill-opacity: 1; white-space: pre; opacity: 1;\" transform=\"translate(219.88,0)\">20</text></g><g class=\"xtick\"><text text-anchor=\"middle\" x=\"0\" y=\"460\" style=\"font-family: 'Open Sans', verdana, arial, sans-serif; font-size: 12px; fill: rgb(42, 63, 95); fill-opacity: 1; white-space: pre; opacity: 1;\" transform=\"translate(367.38,0)\">30</text></g><g class=\"xtick\"><text text-anchor=\"middle\" x=\"0\" y=\"460\" style=\"font-family: 'Open Sans', verdana, arial, sans-serif; font-size: 12px; fill: rgb(42, 63, 95); fill-opacity: 1; white-space: pre; opacity: 1;\" transform=\"translate(514.88,0)\">40</text></g><g class=\"xtick\"><text text-anchor=\"middle\" x=\"0\" y=\"460\" style=\"font-family: 'Open Sans', verdana, arial, sans-serif; font-size: 12px; fill: rgb(42, 63, 95); fill-opacity: 1; white-space: pre; opacity: 1;\" transform=\"translate(662.38,0)\">50</text></g><g class=\"xtick\"><text text-anchor=\"middle\" x=\"0\" y=\"460\" style=\"font-family: 'Open Sans', verdana, arial, sans-serif; font-size: 12px; fill: rgb(42, 63, 95); fill-opacity: 1; white-space: pre; opacity: 1;\" transform=\"translate(809.88,0)\">60</text></g></g><g class=\"yaxislayer-above\"><g class=\"ytick\"><text text-anchor=\"end\" x=\"64\" y=\"4.199999999999999\" transform=\"translate(0,447)\" style=\"font-family: 'Open Sans', verdana, arial, sans-serif; font-size: 12px; fill: rgb(42, 63, 95); fill-opacity: 1; white-space: pre; opacity: 1;\">0</text></g><g class=\"ytick\"><text text-anchor=\"end\" x=\"64\" y=\"4.199999999999999\" style=\"font-family: 'Open Sans', verdana, arial, sans-serif; font-size: 12px; fill: rgb(42, 63, 95); fill-opacity: 1; white-space: pre; opacity: 1;\" transform=\"translate(0,401.61)\">1000</text></g><g class=\"ytick\"><text text-anchor=\"end\" x=\"64\" y=\"4.199999999999999\" style=\"font-family: 'Open Sans', verdana, arial, sans-serif; font-size: 12px; fill: rgb(42, 63, 95); fill-opacity: 1; white-space: pre; opacity: 1;\" transform=\"translate(0,356.23)\">2000</text></g><g class=\"ytick\"><text text-anchor=\"end\" x=\"64\" y=\"4.199999999999999\" style=\"font-family: 'Open Sans', verdana, arial, sans-serif; font-size: 12px; fill: rgb(42, 63, 95); fill-opacity: 1; white-space: pre; opacity: 1;\" transform=\"translate(0,310.84000000000003)\">3000</text></g><g class=\"ytick\"><text text-anchor=\"end\" x=\"64\" y=\"4.199999999999999\" style=\"font-family: 'Open Sans', verdana, arial, sans-serif; font-size: 12px; fill: rgb(42, 63, 95); fill-opacity: 1; white-space: pre; opacity: 1;\" transform=\"translate(0,265.46000000000004)\">4000</text></g><g class=\"ytick\"><text text-anchor=\"end\" x=\"64\" y=\"4.199999999999999\" style=\"font-family: 'Open Sans', verdana, arial, sans-serif; font-size: 12px; fill: rgb(42, 63, 95); fill-opacity: 1; white-space: pre; opacity: 1;\" transform=\"translate(0,220.07)\">5000</text></g><g class=\"ytick\"><text text-anchor=\"end\" x=\"64\" y=\"4.199999999999999\" style=\"font-family: 'Open Sans', verdana, arial, sans-serif; font-size: 12px; fill: rgb(42, 63, 95); fill-opacity: 1; white-space: pre; opacity: 1;\" transform=\"translate(0,174.69)\">6000</text></g><g class=\"ytick\"><text text-anchor=\"end\" x=\"64\" y=\"4.199999999999999\" style=\"font-family: 'Open Sans', verdana, arial, sans-serif; font-size: 12px; fill: rgb(42, 63, 95); fill-opacity: 1; white-space: pre; opacity: 1;\" transform=\"translate(0,129.3)\">7000</text></g><g class=\"ytick\"><text text-anchor=\"end\" x=\"64\" y=\"4.199999999999999\" style=\"font-family: 'Open Sans', verdana, arial, sans-serif; font-size: 12px; fill: rgb(42, 63, 95); fill-opacity: 1; white-space: pre; opacity: 1;\" transform=\"translate(0,83.92)\">8000</text></g></g><g class=\"overaxes-above\"/></g></g><g class=\"polarlayer\"/><g class=\"smithlayer\"/><g class=\"ternarylayer\"/><g class=\"geolayer\"/><g class=\"funnelarealayer\"/><g class=\"pielayer\"/><g class=\"iciclelayer\"/><g class=\"treemaplayer\"/><g class=\"sunburstlayer\"/><g class=\"glimages\"/><defs id=\"topdefs-685707\"><g class=\"clips\"/></defs><g class=\"layer-above\"><g class=\"imagelayer\"/><g class=\"shapelayer\"/></g><g class=\"infolayer\"><g class=\"g-gtitle\"><text class=\"gtitle\" x=\"150\" y=\"25\" text-anchor=\"middle\" dy=\"0.7em\" style=\"font-family: 'Times New Roman'; font-size: 26px; fill: rgb(0, 0, 0); opacity: 1; font-weight: normal; white-space: pre;\">Age Distribution</text></g><g class=\"g-xtitle\"><text class=\"xtitle\" x=\"507.5\" y=\"487.3\" text-anchor=\"middle\" style=\"font-family: 'Open Sans', verdana, arial, sans-serif; font-size: 14px; fill: rgb(42, 63, 95); opacity: 1; font-weight: normal; white-space: pre;\">Age</text></g><g class=\"g-ytitle\" transform=\"translate(0.0029296875,0)\"><text class=\"ytitle\" transform=\"rotate(-90,12.996875000000003,263.5)\" x=\"12.996875000000003\" y=\"263.5\" text-anchor=\"middle\" style=\"font-family: 'Open Sans', verdana, arial, sans-serif; font-size: 14px; fill: rgb(42, 63, 95); opacity: 1; font-weight: normal; white-space: pre;\">Frequency</text></g></g></svg>"
      ]
     },
     "metadata": {},
     "output_type": "display_data"
    }
   ],
   "source": [
    "palette = cl.to_rgb(cl.scales['10']['div']['PRGn'])\n",
    "\n",
    "# Create the histogram\n",
    "fig = go.Figure(data=[go.Histogram(\n",
    "    x=df['age'],\n",
    "    marker=dict(color=palette[1]),  \n",
    "    nbinsx=10\n",
    ")])\n",
    "\n",
    "fig.update_layout(\n",
    "    title_text=\"Age Distribution\",\n",
    "    title_font_size=24,\n",
    "    title_font_family=\"Times New Roman\",\n",
    "    title_font_color=\"#000000\",  \n",
    "    paper_bgcolor='#ffffff',  \n",
    "    plot_bgcolor='#ffffff',  \n",
    "    xaxis=dict(title=\"Age\"),\n",
    "    yaxis=dict(title=\"Frequency\"),\n",
    ")\n",
    "\n",
    "fig.update_layout(\n",
    "    title={\n",
    "        'text': \"Age Distribution\",\n",
    "        'y':0.95,\n",
    "        'x':0.15,\n",
    "        'xanchor': 'center',\n",
    "        'yanchor': 'top'},\n",
    "    title_font_size=26,\n",
    "    margin=dict(l=50, r=50, t=80, b=50)\n",
    ")\n",
    "\n",
    "fig.update_layout(width=1000)\n",
    "\n",
    "# Show the pie chart\n",
    "fig.show('svg')"
   ]
  },
  {
   "cell_type": "code",
   "execution_count": 10,
   "id": "4a62a6e7",
   "metadata": {
    "execution": {
     "iopub.execute_input": "2024-06-02T14:38:04.806492Z",
     "iopub.status.busy": "2024-06-02T14:38:04.806071Z",
     "iopub.status.idle": "2024-06-02T14:38:05.010996Z",
     "shell.execute_reply": "2024-06-02T14:38:05.009543Z"
    },
    "papermill": {
     "duration": 0.242755,
     "end_time": "2024-06-02T14:38:05.013794",
     "exception": false,
     "start_time": "2024-06-02T14:38:04.771039",
     "status": "completed"
    },
    "tags": []
   },
   "outputs": [
    {
     "data": {
      "image/svg+xml": [
       "<svg class=\"main-svg\" xmlns=\"http://www.w3.org/2000/svg\" xmlns:xlink=\"http://www.w3.org/1999/xlink\" width=\"1000\" height=\"500\" style=\"\" viewBox=\"0 0 1000 500\"><rect x=\"0\" y=\"0\" width=\"1000\" height=\"500\" style=\"fill: rgb(255, 255, 255); fill-opacity: 1;\"/><defs id=\"defs-bbf5c2\"><g class=\"clips\"><clipPath id=\"clipbbf5c2xyplot\" class=\"plotclip\"><rect width=\"900\" height=\"367\"/></clipPath><clipPath class=\"axesclip\" id=\"clipbbf5c2x\"><rect x=\"50\" y=\"0\" width=\"900\" height=\"500\"/></clipPath><clipPath class=\"axesclip\" id=\"clipbbf5c2y\"><rect x=\"0\" y=\"80\" width=\"1000\" height=\"367\"/></clipPath><clipPath class=\"axesclip\" id=\"clipbbf5c2xy\"><rect x=\"50\" y=\"80\" width=\"900\" height=\"367\"/></clipPath></g><g class=\"gradients\"/><g class=\"patterns\"/></defs><g class=\"bglayer\"/><g class=\"layer-below\"><g class=\"imagelayer\"/><g class=\"shapelayer\"/></g><g class=\"cartesianlayer\"><g class=\"subplot xy\"><g class=\"layer-subplot\"><g class=\"shapelayer\"/><g class=\"imagelayer\"/></g><g class=\"minor-gridlayer\"><g class=\"x\"/><g class=\"y\"/></g><g class=\"gridlayer\"><g class=\"x\"><path class=\"xgrid crisp\" transform=\"translate(66.07,0)\" d=\"M0,80v367\" style=\"stroke: rgb(255, 255, 255); stroke-opacity: 1; stroke-width: 1px;\"/><path class=\"xgrid crisp\" transform=\"translate(210.71,0)\" d=\"M0,80v367\" style=\"stroke: rgb(255, 255, 255); stroke-opacity: 1; stroke-width: 1px;\"/><path class=\"xgrid crisp\" transform=\"translate(355.36,0)\" d=\"M0,80v367\" style=\"stroke: rgb(255, 255, 255); stroke-opacity: 1; stroke-width: 1px;\"/><path class=\"xgrid crisp\" transform=\"translate(500,0)\" d=\"M0,80v367\" style=\"stroke: rgb(255, 255, 255); stroke-opacity: 1; stroke-width: 1px;\"/><path class=\"xgrid crisp\" transform=\"translate(644.64,0)\" d=\"M0,80v367\" style=\"stroke: rgb(255, 255, 255); stroke-opacity: 1; stroke-width: 1px;\"/><path class=\"xgrid crisp\" transform=\"translate(789.29,0)\" d=\"M0,80v367\" style=\"stroke: rgb(255, 255, 255); stroke-opacity: 1; stroke-width: 1px;\"/><path class=\"xgrid crisp\" transform=\"translate(933.93,0)\" d=\"M0,80v367\" style=\"stroke: rgb(255, 255, 255); stroke-opacity: 1; stroke-width: 1px;\"/></g><g class=\"y\"/></g><g class=\"zerolinelayer\"/><path class=\"xlines-below\"/><path class=\"ylines-below\"/><g class=\"overlines-below\"/><g class=\"xaxislayer-below\"/><g class=\"yaxislayer-below\"/><g class=\"overaxes-below\"/><g class=\"plot\" transform=\"translate(50,80)\" clip-path=\"url(#clipbbf5c2xyplot)\"><g class=\"boxlayer mlayer\"><g class=\"trace boxes\" style=\"opacity: 1;\"><path class=\"box\" d=\"M363.21,273.41V93.59M290.89,273.41V93.59H435.54V273.41ZM290.89,183.5H73.93M435.54,183.5H652.5M73.93,228.46V138.54M652.5,228.46V138.54\" style=\"vector-effect: none; stroke-width: 2px; stroke: rgb(118, 42, 131); stroke-opacity: 1; fill: rgb(118, 42, 131); fill-opacity: 0.5;\"/><g class=\"points\"><path class=\"point\" transform=\"translate(45,183.5)\" d=\"M3,0A3,3 0 1,1 0,-3A3,3 0 0,1 3,0Z\" style=\"opacity: 1; stroke-width: 0px; fill: rgb(118, 42, 131); fill-opacity: 1;\"/><path class=\"point\" transform=\"translate(45,183.5)\" d=\"M3,0A3,3 0 1,1 0,-3A3,3 0 0,1 3,0Z\" style=\"opacity: 1; stroke-width: 0px; fill: rgb(118, 42, 131); fill-opacity: 1;\"/><path class=\"point\" transform=\"translate(45,183.5)\" d=\"M3,0A3,3 0 1,1 0,-3A3,3 0 0,1 3,0Z\" style=\"opacity: 1; stroke-width: 0px; fill: rgb(118, 42, 131); fill-opacity: 1;\"/><path class=\"point\" transform=\"translate(45,183.5)\" d=\"M3,0A3,3 0 1,1 0,-3A3,3 0 0,1 3,0Z\" style=\"opacity: 1; stroke-width: 0px; fill: rgb(118, 42, 131); fill-opacity: 1;\"/><path class=\"point\" transform=\"translate(45,183.5)\" d=\"M3,0A3,3 0 1,1 0,-3A3,3 0 0,1 3,0Z\" style=\"opacity: 1; stroke-width: 0px; fill: rgb(118, 42, 131); fill-opacity: 1;\"/><path class=\"point\" transform=\"translate(45,183.5)\" d=\"M3,0A3,3 0 1,1 0,-3A3,3 0 0,1 3,0Z\" style=\"opacity: 1; stroke-width: 0px; fill: rgb(118, 42, 131); fill-opacity: 1;\"/><path class=\"point\" transform=\"translate(59.46,183.5)\" d=\"M3,0A3,3 0 1,1 0,-3A3,3 0 0,1 3,0Z\" style=\"opacity: 1; stroke-width: 0px; fill: rgb(118, 42, 131); fill-opacity: 1;\"/><path class=\"point\" transform=\"translate(59.46,183.5)\" d=\"M3,0A3,3 0 1,1 0,-3A3,3 0 0,1 3,0Z\" style=\"opacity: 1; stroke-width: 0px; fill: rgb(118, 42, 131); fill-opacity: 1;\"/><path class=\"point\" transform=\"translate(59.46,183.5)\" d=\"M3,0A3,3 0 1,1 0,-3A3,3 0 0,1 3,0Z\" style=\"opacity: 1; stroke-width: 0px; fill: rgb(118, 42, 131); fill-opacity: 1;\"/><path class=\"point\" transform=\"translate(59.46,183.5)\" d=\"M3,0A3,3 0 1,1 0,-3A3,3 0 0,1 3,0Z\" style=\"opacity: 1; stroke-width: 0px; fill: rgb(118, 42, 131); fill-opacity: 1;\"/><path class=\"point\" transform=\"translate(666.96,183.5)\" d=\"M3,0A3,3 0 1,1 0,-3A3,3 0 0,1 3,0Z\" style=\"opacity: 1; stroke-width: 0px; fill: rgb(118, 42, 131); fill-opacity: 1;\"/><path class=\"point\" transform=\"translate(666.96,183.5)\" d=\"M3,0A3,3 0 1,1 0,-3A3,3 0 0,1 3,0Z\" style=\"opacity: 1; stroke-width: 0px; fill: rgb(118, 42, 131); fill-opacity: 1;\"/><path class=\"point\" transform=\"translate(666.96,183.5)\" d=\"M3,0A3,3 0 1,1 0,-3A3,3 0 0,1 3,0Z\" style=\"opacity: 1; stroke-width: 0px; fill: rgb(118, 42, 131); fill-opacity: 1;\"/><path class=\"point\" transform=\"translate(666.96,183.5)\" d=\"M3,0A3,3 0 1,1 0,-3A3,3 0 0,1 3,0Z\" style=\"opacity: 1; stroke-width: 0px; fill: rgb(118, 42, 131); fill-opacity: 1;\"/><path class=\"point\" transform=\"translate(666.96,183.5)\" d=\"M3,0A3,3 0 1,1 0,-3A3,3 0 0,1 3,0Z\" style=\"opacity: 1; stroke-width: 0px; fill: rgb(118, 42, 131); fill-opacity: 1;\"/><path class=\"point\" transform=\"translate(666.96,183.5)\" d=\"M3,0A3,3 0 1,1 0,-3A3,3 0 0,1 3,0Z\" style=\"opacity: 1; stroke-width: 0px; fill: rgb(118, 42, 131); fill-opacity: 1;\"/><path class=\"point\" transform=\"translate(666.96,183.5)\" d=\"M3,0A3,3 0 1,1 0,-3A3,3 0 0,1 3,0Z\" style=\"opacity: 1; stroke-width: 0px; fill: rgb(118, 42, 131); fill-opacity: 1;\"/><path class=\"point\" transform=\"translate(666.96,183.5)\" d=\"M3,0A3,3 0 1,1 0,-3A3,3 0 0,1 3,0Z\" style=\"opacity: 1; stroke-width: 0px; fill: rgb(118, 42, 131); fill-opacity: 1;\"/><path class=\"point\" transform=\"translate(666.96,183.5)\" d=\"M3,0A3,3 0 1,1 0,-3A3,3 0 0,1 3,0Z\" style=\"opacity: 1; stroke-width: 0px; fill: rgb(118, 42, 131); fill-opacity: 1;\"/><path class=\"point\" transform=\"translate(666.96,183.5)\" d=\"M3,0A3,3 0 1,1 0,-3A3,3 0 0,1 3,0Z\" style=\"opacity: 1; stroke-width: 0px; fill: rgb(118, 42, 131); fill-opacity: 1;\"/><path class=\"point\" transform=\"translate(666.96,183.5)\" d=\"M3,0A3,3 0 1,1 0,-3A3,3 0 0,1 3,0Z\" style=\"opacity: 1; stroke-width: 0px; fill: rgb(118, 42, 131); fill-opacity: 1;\"/><path class=\"point\" transform=\"translate(666.96,183.5)\" d=\"M3,0A3,3 0 1,1 0,-3A3,3 0 0,1 3,0Z\" style=\"opacity: 1; stroke-width: 0px; fill: rgb(118, 42, 131); fill-opacity: 1;\"/><path class=\"point\" transform=\"translate(666.96,183.5)\" d=\"M3,0A3,3 0 1,1 0,-3A3,3 0 0,1 3,0Z\" style=\"opacity: 1; stroke-width: 0px; fill: rgb(118, 42, 131); fill-opacity: 1;\"/><path class=\"point\" transform=\"translate(666.96,183.5)\" d=\"M3,0A3,3 0 1,1 0,-3A3,3 0 0,1 3,0Z\" style=\"opacity: 1; stroke-width: 0px; fill: rgb(118, 42, 131); fill-opacity: 1;\"/><path class=\"point\" transform=\"translate(666.96,183.5)\" d=\"M3,0A3,3 0 1,1 0,-3A3,3 0 0,1 3,0Z\" style=\"opacity: 1; stroke-width: 0px; fill: rgb(118, 42, 131); fill-opacity: 1;\"/><path class=\"point\" transform=\"translate(666.96,183.5)\" d=\"M3,0A3,3 0 1,1 0,-3A3,3 0 0,1 3,0Z\" style=\"opacity: 1; stroke-width: 0px; fill: rgb(118, 42, 131); fill-opacity: 1;\"/><path class=\"point\" transform=\"translate(666.96,183.5)\" d=\"M3,0A3,3 0 1,1 0,-3A3,3 0 0,1 3,0Z\" style=\"opacity: 1; stroke-width: 0px; fill: rgb(118, 42, 131); fill-opacity: 1;\"/><path class=\"point\" transform=\"translate(666.96,183.5)\" d=\"M3,0A3,3 0 1,1 0,-3A3,3 0 0,1 3,0Z\" style=\"opacity: 1; stroke-width: 0px; fill: rgb(118, 42, 131); fill-opacity: 1;\"/><path class=\"point\" transform=\"translate(666.96,183.5)\" d=\"M3,0A3,3 0 1,1 0,-3A3,3 0 0,1 3,0Z\" style=\"opacity: 1; stroke-width: 0px; fill: rgb(118, 42, 131); fill-opacity: 1;\"/><path class=\"point\" transform=\"translate(681.43,183.5)\" d=\"M3,0A3,3 0 1,1 0,-3A3,3 0 0,1 3,0Z\" style=\"opacity: 1; stroke-width: 0px; fill: rgb(118, 42, 131); fill-opacity: 1;\"/><path class=\"point\" transform=\"translate(681.43,183.5)\" d=\"M3,0A3,3 0 1,1 0,-3A3,3 0 0,1 3,0Z\" style=\"opacity: 1; stroke-width: 0px; fill: rgb(118, 42, 131); fill-opacity: 1;\"/><path class=\"point\" transform=\"translate(681.43,183.5)\" d=\"M3,0A3,3 0 1,1 0,-3A3,3 0 0,1 3,0Z\" style=\"opacity: 1; stroke-width: 0px; fill: rgb(118, 42, 131); fill-opacity: 1;\"/><path class=\"point\" transform=\"translate(681.43,183.5)\" d=\"M3,0A3,3 0 1,1 0,-3A3,3 0 0,1 3,0Z\" style=\"opacity: 1; stroke-width: 0px; fill: rgb(118, 42, 131); fill-opacity: 1;\"/><path class=\"point\" transform=\"translate(681.43,183.5)\" d=\"M3,0A3,3 0 1,1 0,-3A3,3 0 0,1 3,0Z\" style=\"opacity: 1; stroke-width: 0px; fill: rgb(118, 42, 131); fill-opacity: 1;\"/><path class=\"point\" transform=\"translate(681.43,183.5)\" d=\"M3,0A3,3 0 1,1 0,-3A3,3 0 0,1 3,0Z\" style=\"opacity: 1; stroke-width: 0px; fill: rgb(118, 42, 131); fill-opacity: 1;\"/><path class=\"point\" transform=\"translate(681.43,183.5)\" d=\"M3,0A3,3 0 1,1 0,-3A3,3 0 0,1 3,0Z\" style=\"opacity: 1; stroke-width: 0px; fill: rgb(118, 42, 131); fill-opacity: 1;\"/><path class=\"point\" transform=\"translate(681.43,183.5)\" d=\"M3,0A3,3 0 1,1 0,-3A3,3 0 0,1 3,0Z\" style=\"opacity: 1; stroke-width: 0px; fill: rgb(118, 42, 131); fill-opacity: 1;\"/><path class=\"point\" transform=\"translate(681.43,183.5)\" d=\"M3,0A3,3 0 1,1 0,-3A3,3 0 0,1 3,0Z\" style=\"opacity: 1; stroke-width: 0px; fill: rgb(118, 42, 131); fill-opacity: 1;\"/><path class=\"point\" transform=\"translate(681.43,183.5)\" d=\"M3,0A3,3 0 1,1 0,-3A3,3 0 0,1 3,0Z\" style=\"opacity: 1; stroke-width: 0px; fill: rgb(118, 42, 131); fill-opacity: 1;\"/><path class=\"point\" transform=\"translate(681.43,183.5)\" d=\"M3,0A3,3 0 1,1 0,-3A3,3 0 0,1 3,0Z\" style=\"opacity: 1; stroke-width: 0px; fill: rgb(118, 42, 131); fill-opacity: 1;\"/><path class=\"point\" transform=\"translate(681.43,183.5)\" d=\"M3,0A3,3 0 1,1 0,-3A3,3 0 0,1 3,0Z\" style=\"opacity: 1; stroke-width: 0px; fill: rgb(118, 42, 131); fill-opacity: 1;\"/><path class=\"point\" transform=\"translate(681.43,183.5)\" d=\"M3,0A3,3 0 1,1 0,-3A3,3 0 0,1 3,0Z\" style=\"opacity: 1; stroke-width: 0px; fill: rgb(118, 42, 131); fill-opacity: 1;\"/><path class=\"point\" transform=\"translate(681.43,183.5)\" d=\"M3,0A3,3 0 1,1 0,-3A3,3 0 0,1 3,0Z\" style=\"opacity: 1; stroke-width: 0px; fill: rgb(118, 42, 131); fill-opacity: 1;\"/><path class=\"point\" transform=\"translate(681.43,183.5)\" d=\"M3,0A3,3 0 1,1 0,-3A3,3 0 0,1 3,0Z\" style=\"opacity: 1; stroke-width: 0px; fill: rgb(118, 42, 131); fill-opacity: 1;\"/><path class=\"point\" transform=\"translate(681.43,183.5)\" d=\"M3,0A3,3 0 1,1 0,-3A3,3 0 0,1 3,0Z\" style=\"opacity: 1; stroke-width: 0px; fill: rgb(118, 42, 131); fill-opacity: 1;\"/><path class=\"point\" transform=\"translate(681.43,183.5)\" d=\"M3,0A3,3 0 1,1 0,-3A3,3 0 0,1 3,0Z\" style=\"opacity: 1; stroke-width: 0px; fill: rgb(118, 42, 131); fill-opacity: 1;\"/><path class=\"point\" transform=\"translate(681.43,183.5)\" d=\"M3,0A3,3 0 1,1 0,-3A3,3 0 0,1 3,0Z\" style=\"opacity: 1; stroke-width: 0px; fill: rgb(118, 42, 131); fill-opacity: 1;\"/><path class=\"point\" transform=\"translate(681.43,183.5)\" d=\"M3,0A3,3 0 1,1 0,-3A3,3 0 0,1 3,0Z\" style=\"opacity: 1; stroke-width: 0px; fill: rgb(118, 42, 131); fill-opacity: 1;\"/><path class=\"point\" transform=\"translate(681.43,183.5)\" d=\"M3,0A3,3 0 1,1 0,-3A3,3 0 0,1 3,0Z\" style=\"opacity: 1; stroke-width: 0px; fill: rgb(118, 42, 131); fill-opacity: 1;\"/><path class=\"point\" transform=\"translate(681.43,183.5)\" d=\"M3,0A3,3 0 1,1 0,-3A3,3 0 0,1 3,0Z\" style=\"opacity: 1; stroke-width: 0px; fill: rgb(118, 42, 131); fill-opacity: 1;\"/><path class=\"point\" transform=\"translate(681.43,183.5)\" d=\"M3,0A3,3 0 1,1 0,-3A3,3 0 0,1 3,0Z\" style=\"opacity: 1; stroke-width: 0px; fill: rgb(118, 42, 131); fill-opacity: 1;\"/><path class=\"point\" transform=\"translate(695.89,183.5)\" d=\"M3,0A3,3 0 1,1 0,-3A3,3 0 0,1 3,0Z\" style=\"opacity: 1; stroke-width: 0px; fill: rgb(118, 42, 131); fill-opacity: 1;\"/><path class=\"point\" transform=\"translate(695.89,183.5)\" d=\"M3,0A3,3 0 1,1 0,-3A3,3 0 0,1 3,0Z\" style=\"opacity: 1; stroke-width: 0px; fill: rgb(118, 42, 131); fill-opacity: 1;\"/><path class=\"point\" transform=\"translate(695.89,183.5)\" d=\"M3,0A3,3 0 1,1 0,-3A3,3 0 0,1 3,0Z\" style=\"opacity: 1; stroke-width: 0px; fill: rgb(118, 42, 131); fill-opacity: 1;\"/><path class=\"point\" transform=\"translate(695.89,183.5)\" d=\"M3,0A3,3 0 1,1 0,-3A3,3 0 0,1 3,0Z\" style=\"opacity: 1; stroke-width: 0px; fill: rgb(118, 42, 131); fill-opacity: 1;\"/><path class=\"point\" transform=\"translate(695.89,183.5)\" d=\"M3,0A3,3 0 1,1 0,-3A3,3 0 0,1 3,0Z\" style=\"opacity: 1; stroke-width: 0px; fill: rgb(118, 42, 131); fill-opacity: 1;\"/><path class=\"point\" transform=\"translate(695.89,183.5)\" d=\"M3,0A3,3 0 1,1 0,-3A3,3 0 0,1 3,0Z\" style=\"opacity: 1; stroke-width: 0px; fill: rgb(118, 42, 131); fill-opacity: 1;\"/><path class=\"point\" transform=\"translate(695.89,183.5)\" d=\"M3,0A3,3 0 1,1 0,-3A3,3 0 0,1 3,0Z\" style=\"opacity: 1; stroke-width: 0px; fill: rgb(118, 42, 131); fill-opacity: 1;\"/><path class=\"point\" transform=\"translate(695.89,183.5)\" d=\"M3,0A3,3 0 1,1 0,-3A3,3 0 0,1 3,0Z\" style=\"opacity: 1; stroke-width: 0px; fill: rgb(118, 42, 131); fill-opacity: 1;\"/><path class=\"point\" transform=\"translate(695.89,183.5)\" d=\"M3,0A3,3 0 1,1 0,-3A3,3 0 0,1 3,0Z\" style=\"opacity: 1; stroke-width: 0px; fill: rgb(118, 42, 131); fill-opacity: 1;\"/><path class=\"point\" transform=\"translate(695.89,183.5)\" d=\"M3,0A3,3 0 1,1 0,-3A3,3 0 0,1 3,0Z\" style=\"opacity: 1; stroke-width: 0px; fill: rgb(118, 42, 131); fill-opacity: 1;\"/><path class=\"point\" transform=\"translate(695.89,183.5)\" d=\"M3,0A3,3 0 1,1 0,-3A3,3 0 0,1 3,0Z\" style=\"opacity: 1; stroke-width: 0px; fill: rgb(118, 42, 131); fill-opacity: 1;\"/><path class=\"point\" transform=\"translate(695.89,183.5)\" d=\"M3,0A3,3 0 1,1 0,-3A3,3 0 0,1 3,0Z\" style=\"opacity: 1; stroke-width: 0px; fill: rgb(118, 42, 131); fill-opacity: 1;\"/><path class=\"point\" transform=\"translate(695.89,183.5)\" d=\"M3,0A3,3 0 1,1 0,-3A3,3 0 0,1 3,0Z\" style=\"opacity: 1; stroke-width: 0px; fill: rgb(118, 42, 131); fill-opacity: 1;\"/><path class=\"point\" transform=\"translate(695.89,183.5)\" d=\"M3,0A3,3 0 1,1 0,-3A3,3 0 0,1 3,0Z\" style=\"opacity: 1; stroke-width: 0px; fill: rgb(118, 42, 131); fill-opacity: 1;\"/><path class=\"point\" transform=\"translate(710.36,183.5)\" d=\"M3,0A3,3 0 1,1 0,-3A3,3 0 0,1 3,0Z\" style=\"opacity: 1; stroke-width: 0px; fill: rgb(118, 42, 131); fill-opacity: 1;\"/><path class=\"point\" transform=\"translate(710.36,183.5)\" d=\"M3,0A3,3 0 1,1 0,-3A3,3 0 0,1 3,0Z\" style=\"opacity: 1; stroke-width: 0px; fill: rgb(118, 42, 131); fill-opacity: 1;\"/><path class=\"point\" transform=\"translate(710.36,183.5)\" d=\"M3,0A3,3 0 1,1 0,-3A3,3 0 0,1 3,0Z\" style=\"opacity: 1; stroke-width: 0px; fill: rgb(118, 42, 131); fill-opacity: 1;\"/><path class=\"point\" transform=\"translate(710.36,183.5)\" d=\"M3,0A3,3 0 1,1 0,-3A3,3 0 0,1 3,0Z\" style=\"opacity: 1; stroke-width: 0px; fill: rgb(118, 42, 131); fill-opacity: 1;\"/><path class=\"point\" transform=\"translate(710.36,183.5)\" d=\"M3,0A3,3 0 1,1 0,-3A3,3 0 0,1 3,0Z\" style=\"opacity: 1; stroke-width: 0px; fill: rgb(118, 42, 131); fill-opacity: 1;\"/><path class=\"point\" transform=\"translate(710.36,183.5)\" d=\"M3,0A3,3 0 1,1 0,-3A3,3 0 0,1 3,0Z\" style=\"opacity: 1; stroke-width: 0px; fill: rgb(118, 42, 131); fill-opacity: 1;\"/><path class=\"point\" transform=\"translate(710.36,183.5)\" d=\"M3,0A3,3 0 1,1 0,-3A3,3 0 0,1 3,0Z\" style=\"opacity: 1; stroke-width: 0px; fill: rgb(118, 42, 131); fill-opacity: 1;\"/><path class=\"point\" transform=\"translate(710.36,183.5)\" d=\"M3,0A3,3 0 1,1 0,-3A3,3 0 0,1 3,0Z\" style=\"opacity: 1; stroke-width: 0px; fill: rgb(118, 42, 131); fill-opacity: 1;\"/><path class=\"point\" transform=\"translate(710.36,183.5)\" d=\"M3,0A3,3 0 1,1 0,-3A3,3 0 0,1 3,0Z\" style=\"opacity: 1; stroke-width: 0px; fill: rgb(118, 42, 131); fill-opacity: 1;\"/><path class=\"point\" transform=\"translate(710.36,183.5)\" d=\"M3,0A3,3 0 1,1 0,-3A3,3 0 0,1 3,0Z\" style=\"opacity: 1; stroke-width: 0px; fill: rgb(118, 42, 131); fill-opacity: 1;\"/><path class=\"point\" transform=\"translate(710.36,183.5)\" d=\"M3,0A3,3 0 1,1 0,-3A3,3 0 0,1 3,0Z\" style=\"opacity: 1; stroke-width: 0px; fill: rgb(118, 42, 131); fill-opacity: 1;\"/><path class=\"point\" transform=\"translate(710.36,183.5)\" d=\"M3,0A3,3 0 1,1 0,-3A3,3 0 0,1 3,0Z\" style=\"opacity: 1; stroke-width: 0px; fill: rgb(118, 42, 131); fill-opacity: 1;\"/><path class=\"point\" transform=\"translate(710.36,183.5)\" d=\"M3,0A3,3 0 1,1 0,-3A3,3 0 0,1 3,0Z\" style=\"opacity: 1; stroke-width: 0px; fill: rgb(118, 42, 131); fill-opacity: 1;\"/><path class=\"point\" transform=\"translate(710.36,183.5)\" d=\"M3,0A3,3 0 1,1 0,-3A3,3 0 0,1 3,0Z\" style=\"opacity: 1; stroke-width: 0px; fill: rgb(118, 42, 131); fill-opacity: 1;\"/><path class=\"point\" transform=\"translate(710.36,183.5)\" d=\"M3,0A3,3 0 1,1 0,-3A3,3 0 0,1 3,0Z\" style=\"opacity: 1; stroke-width: 0px; fill: rgb(118, 42, 131); fill-opacity: 1;\"/><path class=\"point\" transform=\"translate(710.36,183.5)\" d=\"M3,0A3,3 0 1,1 0,-3A3,3 0 0,1 3,0Z\" style=\"opacity: 1; stroke-width: 0px; fill: rgb(118, 42, 131); fill-opacity: 1;\"/><path class=\"point\" transform=\"translate(710.36,183.5)\" d=\"M3,0A3,3 0 1,1 0,-3A3,3 0 0,1 3,0Z\" style=\"opacity: 1; stroke-width: 0px; fill: rgb(118, 42, 131); fill-opacity: 1;\"/><path class=\"point\" transform=\"translate(724.82,183.5)\" d=\"M3,0A3,3 0 1,1 0,-3A3,3 0 0,1 3,0Z\" style=\"opacity: 1; stroke-width: 0px; fill: rgb(118, 42, 131); fill-opacity: 1;\"/><path class=\"point\" transform=\"translate(724.82,183.5)\" d=\"M3,0A3,3 0 1,1 0,-3A3,3 0 0,1 3,0Z\" style=\"opacity: 1; stroke-width: 0px; fill: rgb(118, 42, 131); fill-opacity: 1;\"/><path class=\"point\" transform=\"translate(724.82,183.5)\" d=\"M3,0A3,3 0 1,1 0,-3A3,3 0 0,1 3,0Z\" style=\"opacity: 1; stroke-width: 0px; fill: rgb(118, 42, 131); fill-opacity: 1;\"/><path class=\"point\" transform=\"translate(724.82,183.5)\" d=\"M3,0A3,3 0 1,1 0,-3A3,3 0 0,1 3,0Z\" style=\"opacity: 1; stroke-width: 0px; fill: rgb(118, 42, 131); fill-opacity: 1;\"/><path class=\"point\" transform=\"translate(724.82,183.5)\" d=\"M3,0A3,3 0 1,1 0,-3A3,3 0 0,1 3,0Z\" style=\"opacity: 1; stroke-width: 0px; fill: rgb(118, 42, 131); fill-opacity: 1;\"/><path class=\"point\" transform=\"translate(724.82,183.5)\" d=\"M3,0A3,3 0 1,1 0,-3A3,3 0 0,1 3,0Z\" style=\"opacity: 1; stroke-width: 0px; fill: rgb(118, 42, 131); fill-opacity: 1;\"/><path class=\"point\" transform=\"translate(724.82,183.5)\" d=\"M3,0A3,3 0 1,1 0,-3A3,3 0 0,1 3,0Z\" style=\"opacity: 1; stroke-width: 0px; fill: rgb(118, 42, 131); fill-opacity: 1;\"/><path class=\"point\" transform=\"translate(724.82,183.5)\" d=\"M3,0A3,3 0 1,1 0,-3A3,3 0 0,1 3,0Z\" style=\"opacity: 1; stroke-width: 0px; fill: rgb(118, 42, 131); fill-opacity: 1;\"/><path class=\"point\" transform=\"translate(724.82,183.5)\" d=\"M3,0A3,3 0 1,1 0,-3A3,3 0 0,1 3,0Z\" style=\"opacity: 1; stroke-width: 0px; fill: rgb(118, 42, 131); fill-opacity: 1;\"/><path class=\"point\" transform=\"translate(724.82,183.5)\" d=\"M3,0A3,3 0 1,1 0,-3A3,3 0 0,1 3,0Z\" style=\"opacity: 1; stroke-width: 0px; fill: rgb(118, 42, 131); fill-opacity: 1;\"/><path class=\"point\" transform=\"translate(724.82,183.5)\" d=\"M3,0A3,3 0 1,1 0,-3A3,3 0 0,1 3,0Z\" style=\"opacity: 1; stroke-width: 0px; fill: rgb(118, 42, 131); fill-opacity: 1;\"/><path class=\"point\" transform=\"translate(739.29,183.5)\" d=\"M3,0A3,3 0 1,1 0,-3A3,3 0 0,1 3,0Z\" style=\"opacity: 1; stroke-width: 0px; fill: rgb(118, 42, 131); fill-opacity: 1;\"/><path class=\"point\" transform=\"translate(739.29,183.5)\" d=\"M3,0A3,3 0 1,1 0,-3A3,3 0 0,1 3,0Z\" style=\"opacity: 1; stroke-width: 0px; fill: rgb(118, 42, 131); fill-opacity: 1;\"/><path class=\"point\" transform=\"translate(739.29,183.5)\" d=\"M3,0A3,3 0 1,1 0,-3A3,3 0 0,1 3,0Z\" style=\"opacity: 1; stroke-width: 0px; fill: rgb(118, 42, 131); fill-opacity: 1;\"/><path class=\"point\" transform=\"translate(739.29,183.5)\" d=\"M3,0A3,3 0 1,1 0,-3A3,3 0 0,1 3,0Z\" style=\"opacity: 1; stroke-width: 0px; fill: rgb(118, 42, 131); fill-opacity: 1;\"/><path class=\"point\" transform=\"translate(739.29,183.5)\" d=\"M3,0A3,3 0 1,1 0,-3A3,3 0 0,1 3,0Z\" style=\"opacity: 1; stroke-width: 0px; fill: rgb(118, 42, 131); fill-opacity: 1;\"/><path class=\"point\" transform=\"translate(739.29,183.5)\" d=\"M3,0A3,3 0 1,1 0,-3A3,3 0 0,1 3,0Z\" style=\"opacity: 1; stroke-width: 0px; fill: rgb(118, 42, 131); fill-opacity: 1;\"/><path class=\"point\" transform=\"translate(753.75,183.5)\" d=\"M3,0A3,3 0 1,1 0,-3A3,3 0 0,1 3,0Z\" style=\"opacity: 1; stroke-width: 0px; fill: rgb(118, 42, 131); fill-opacity: 1;\"/><path class=\"point\" transform=\"translate(753.75,183.5)\" d=\"M3,0A3,3 0 1,1 0,-3A3,3 0 0,1 3,0Z\" style=\"opacity: 1; stroke-width: 0px; fill: rgb(118, 42, 131); fill-opacity: 1;\"/><path class=\"point\" transform=\"translate(753.75,183.5)\" d=\"M3,0A3,3 0 1,1 0,-3A3,3 0 0,1 3,0Z\" style=\"opacity: 1; stroke-width: 0px; fill: rgb(118, 42, 131); fill-opacity: 1;\"/><path class=\"point\" transform=\"translate(768.21,183.5)\" d=\"M3,0A3,3 0 1,1 0,-3A3,3 0 0,1 3,0Z\" style=\"opacity: 1; stroke-width: 0px; fill: rgb(118, 42, 131); fill-opacity: 1;\"/><path class=\"point\" transform=\"translate(768.21,183.5)\" d=\"M3,0A3,3 0 1,1 0,-3A3,3 0 0,1 3,0Z\" style=\"opacity: 1; stroke-width: 0px; fill: rgb(118, 42, 131); fill-opacity: 1;\"/><path class=\"point\" transform=\"translate(768.21,183.5)\" d=\"M3,0A3,3 0 1,1 0,-3A3,3 0 0,1 3,0Z\" style=\"opacity: 1; stroke-width: 0px; fill: rgb(118, 42, 131); fill-opacity: 1;\"/><path class=\"point\" transform=\"translate(768.21,183.5)\" d=\"M3,0A3,3 0 1,1 0,-3A3,3 0 0,1 3,0Z\" style=\"opacity: 1; stroke-width: 0px; fill: rgb(118, 42, 131); fill-opacity: 1;\"/><path class=\"point\" transform=\"translate(768.21,183.5)\" d=\"M3,0A3,3 0 1,1 0,-3A3,3 0 0,1 3,0Z\" style=\"opacity: 1; stroke-width: 0px; fill: rgb(118, 42, 131); fill-opacity: 1;\"/><path class=\"point\" transform=\"translate(768.21,183.5)\" d=\"M3,0A3,3 0 1,1 0,-3A3,3 0 0,1 3,0Z\" style=\"opacity: 1; stroke-width: 0px; fill: rgb(118, 42, 131); fill-opacity: 1;\"/><path class=\"point\" transform=\"translate(782.68,183.5)\" d=\"M3,0A3,3 0 1,1 0,-3A3,3 0 0,1 3,0Z\" style=\"opacity: 1; stroke-width: 0px; fill: rgb(118, 42, 131); fill-opacity: 1;\"/><path class=\"point\" transform=\"translate(811.61,183.5)\" d=\"M3,0A3,3 0 1,1 0,-3A3,3 0 0,1 3,0Z\" style=\"opacity: 1; stroke-width: 0px; fill: rgb(118, 42, 131); fill-opacity: 1;\"/><path class=\"point\" transform=\"translate(811.61,183.5)\" d=\"M3,0A3,3 0 1,1 0,-3A3,3 0 0,1 3,0Z\" style=\"opacity: 1; stroke-width: 0px; fill: rgb(118, 42, 131); fill-opacity: 1;\"/><path class=\"point\" transform=\"translate(811.61,183.5)\" d=\"M3,0A3,3 0 1,1 0,-3A3,3 0 0,1 3,0Z\" style=\"opacity: 1; stroke-width: 0px; fill: rgb(118, 42, 131); fill-opacity: 1;\"/><path class=\"point\" transform=\"translate(855,183.5)\" d=\"M3,0A3,3 0 1,1 0,-3A3,3 0 0,1 3,0Z\" style=\"opacity: 1; stroke-width: 0px; fill: rgb(118, 42, 131); fill-opacity: 1;\"/></g></g></g></g><g class=\"overplot\"/><path class=\"xlines-above crisp\" d=\"M0,0\" style=\"fill: none;\"/><path class=\"ylines-above crisp\" d=\"M0,0\" style=\"fill: none;\"/><g class=\"overlines-above\"/><g class=\"xaxislayer-above\"><g class=\"xtick\"><text text-anchor=\"middle\" x=\"0\" y=\"460\" transform=\"translate(66.07,0)\" style=\"font-family: 'Open Sans', verdana, arial, sans-serif; font-size: 12px; fill: rgb(42, 63, 95); fill-opacity: 1; white-space: pre; opacity: 1;\">10</text></g><g class=\"xtick\"><text text-anchor=\"middle\" x=\"0\" y=\"460\" style=\"font-family: 'Open Sans', verdana, arial, sans-serif; font-size: 12px; fill: rgb(42, 63, 95); fill-opacity: 1; white-space: pre; opacity: 1;\" transform=\"translate(210.71,0)\">20</text></g><g class=\"xtick\"><text text-anchor=\"middle\" x=\"0\" y=\"460\" style=\"font-family: 'Open Sans', verdana, arial, sans-serif; font-size: 12px; fill: rgb(42, 63, 95); fill-opacity: 1; white-space: pre; opacity: 1;\" transform=\"translate(355.36,0)\">30</text></g><g class=\"xtick\"><text text-anchor=\"middle\" x=\"0\" y=\"460\" style=\"font-family: 'Open Sans', verdana, arial, sans-serif; font-size: 12px; fill: rgb(42, 63, 95); fill-opacity: 1; white-space: pre; opacity: 1;\" transform=\"translate(500,0)\">40</text></g><g class=\"xtick\"><text text-anchor=\"middle\" x=\"0\" y=\"460\" style=\"font-family: 'Open Sans', verdana, arial, sans-serif; font-size: 12px; fill: rgb(42, 63, 95); fill-opacity: 1; white-space: pre; opacity: 1;\" transform=\"translate(644.64,0)\">50</text></g><g class=\"xtick\"><text text-anchor=\"middle\" x=\"0\" y=\"460\" style=\"font-family: 'Open Sans', verdana, arial, sans-serif; font-size: 12px; fill: rgb(42, 63, 95); fill-opacity: 1; white-space: pre; opacity: 1;\" transform=\"translate(789.29,0)\">60</text></g><g class=\"xtick\"><text text-anchor=\"middle\" x=\"0\" y=\"460\" style=\"font-family: 'Open Sans', verdana, arial, sans-serif; font-size: 12px; fill: rgb(42, 63, 95); fill-opacity: 1; white-space: pre; opacity: 1;\" transform=\"translate(933.93,0)\">70</text></g></g><g class=\"yaxislayer-above\"><g class=\"ytick\"><text text-anchor=\"end\" x=\"49\" y=\"4.199999999999999\" transform=\"translate(0,263.5)\" style=\"font-family: 'Open Sans', verdana, arial, sans-serif; font-size: 12px; fill: rgb(42, 63, 95); fill-opacity: 1; white-space: pre; opacity: 1;\">trace 0</text></g></g><g class=\"overaxes-above\"/></g></g><g class=\"polarlayer\"/><g class=\"smithlayer\"/><g class=\"ternarylayer\"/><g class=\"geolayer\"/><g class=\"funnelarealayer\"/><g class=\"pielayer\"/><g class=\"iciclelayer\"/><g class=\"treemaplayer\"/><g class=\"sunburstlayer\"/><g class=\"glimages\"/><defs id=\"topdefs-bbf5c2\"><g class=\"clips\"/></defs><g class=\"layer-above\"><g class=\"imagelayer\"/><g class=\"shapelayer\"/></g><g class=\"infolayer\"><g class=\"g-gtitle\"><text class=\"gtitle\" x=\"100\" y=\"25\" text-anchor=\"middle\" dy=\"0.7em\" style=\"font-family: 'Times New Roman'; font-size: 26px; fill: rgb(0, 0, 0); opacity: 1; font-weight: normal; white-space: pre;\">Boxplot of Age</text></g><g class=\"g-xtitle\"><text class=\"xtitle\" x=\"500\" y=\"487.3\" text-anchor=\"middle\" style=\"font-family: 'Open Sans', verdana, arial, sans-serif; font-size: 14px; fill: rgb(42, 63, 95); opacity: 1; font-weight: normal; white-space: pre;\">Age</text></g><g class=\"g-ytitle\"/></g></svg>"
      ]
     },
     "metadata": {},
     "output_type": "display_data"
    }
   ],
   "source": [
    "fig = go.Figure(data=[go.Box(\n",
    "    x=df['age'],\n",
    "    marker=dict(color=palette[1])\n",
    ")])\n",
    "\n",
    "fig.update_layout(\n",
    "    title_text=\"Boxplot of Age\",\n",
    "    title_font_size=24,\n",
    "    title_font_family=\"Times New Roman\",\n",
    "    title_font_color=\"#000000\",  \n",
    "    paper_bgcolor='#ffffff',  \n",
    "    plot_bgcolor='#ffffff',  \n",
    "    xaxis=dict(title=\"Age\"),\n",
    ")\n",
    "\n",
    "fig.update_layout(\n",
    "    title={\n",
    "        'y':0.95,\n",
    "        'x':0.10,\n",
    "        'xanchor': 'center',\n",
    "        'yanchor': 'top'},\n",
    "    title_font_size=26,\n",
    "    margin=dict(l=50, r=50, t=80, b=50)\n",
    ")\n",
    "\n",
    "\n",
    "\n",
    "fig.update_layout(width=1000)\n",
    "\n",
    "fig.show('svg')"
   ]
  },
  {
   "cell_type": "markdown",
   "id": "30fd4838",
   "metadata": {
    "papermill": {
     "duration": 0.034518,
     "end_time": "2024-06-02T14:38:05.081673",
     "exception": false,
     "start_time": "2024-06-02T14:38:05.047155",
     "status": "completed"
    },
    "tags": []
   },
   "source": [
    "*Some outliers are present after 54*"
   ]
  },
  {
   "cell_type": "markdown",
   "id": "bd1843fa",
   "metadata": {
    "papermill": {
     "duration": 0.032089,
     "end_time": "2024-06-02T14:38:05.146536",
     "exception": false,
     "start_time": "2024-06-02T14:38:05.114447",
     "status": "completed"
    },
    "tags": []
   },
   "source": [
    "----------------------------------------------------------------------------------------------------------------------------------------------------------"
   ]
  },
  {
   "cell_type": "markdown",
   "id": "a340e9bb",
   "metadata": {
    "papermill": {
     "duration": 0.031881,
     "end_time": "2024-06-02T14:38:05.211432",
     "exception": false,
     "start_time": "2024-06-02T14:38:05.179551",
     "status": "completed"
    },
    "tags": []
   },
   "source": [
    "## wtkg : Weight (in Kgs)\n",
    "\n",
    "***Conclusions***\n",
    "- *Most of the outliers are present beyond the weight of 100kg*\n",
    "\n",
    "- *The distribution is slightly positively skewewd*\n",
    "\n",
    "- \"No missing values\"\n",
    "\n",
    "***Hypothesis***\n",
    "\n",
    "- *As most of the outliers in the Age column are present beyond the age of 60, hence maybe most of the people belonging to that age group are over 100 kg*"
   ]
  },
  {
   "cell_type": "code",
   "execution_count": 11,
   "id": "83a5ecc7",
   "metadata": {
    "execution": {
     "iopub.execute_input": "2024-06-02T14:38:05.277798Z",
     "iopub.status.busy": "2024-06-02T14:38:05.277400Z",
     "iopub.status.idle": "2024-06-02T14:38:05.287345Z",
     "shell.execute_reply": "2024-06-02T14:38:05.286276Z"
    },
    "papermill": {
     "duration": 0.046329,
     "end_time": "2024-06-02T14:38:05.289904",
     "exception": false,
     "start_time": "2024-06-02T14:38:05.243575",
     "status": "completed"
    },
    "tags": []
   },
   "outputs": [
    {
     "data": {
      "text/plain": [
       "count    15000.000000\n",
       "mean        76.019604\n",
       "std         12.170759\n",
       "min         42.256390\n",
       "25%         68.323125\n",
       "50%         74.114225\n",
       "75%         81.309035\n",
       "max        141.612390\n",
       "Name: wtkg, dtype: float64"
      ]
     },
     "execution_count": 11,
     "metadata": {},
     "output_type": "execute_result"
    }
   ],
   "source": [
    "df['wtkg'].describe()"
   ]
  },
  {
   "cell_type": "code",
   "execution_count": 12,
   "id": "c85001de",
   "metadata": {
    "execution": {
     "iopub.execute_input": "2024-06-02T14:38:05.358085Z",
     "iopub.status.busy": "2024-06-02T14:38:05.357712Z",
     "iopub.status.idle": "2024-06-02T14:38:05.540565Z",
     "shell.execute_reply": "2024-06-02T14:38:05.539409Z"
    },
    "papermill": {
     "duration": 0.219058,
     "end_time": "2024-06-02T14:38:05.542850",
     "exception": false,
     "start_time": "2024-06-02T14:38:05.323792",
     "status": "completed"
    },
    "tags": []
   },
   "outputs": [
    {
     "data": {
      "image/svg+xml": [
       "<svg class=\"main-svg\" xmlns=\"http://www.w3.org/2000/svg\" xmlns:xlink=\"http://www.w3.org/1999/xlink\" width=\"1000\" height=\"500\" style=\"\" viewBox=\"0 0 1000 500\"><rect x=\"0\" y=\"0\" width=\"1000\" height=\"500\" style=\"fill: rgb(255, 255, 255); fill-opacity: 1;\"/><defs id=\"defs-efa1d4\"><g class=\"clips\"><clipPath id=\"clipefa1d4xyplot\" class=\"plotclip\"><rect width=\"885\" height=\"367\"/></clipPath><clipPath class=\"axesclip\" id=\"clipefa1d4x\"><rect x=\"65\" y=\"0\" width=\"885\" height=\"500\"/></clipPath><clipPath class=\"axesclip\" id=\"clipefa1d4y\"><rect x=\"0\" y=\"80\" width=\"1000\" height=\"367\"/></clipPath><clipPath class=\"axesclip\" id=\"clipefa1d4xy\"><rect x=\"65\" y=\"80\" width=\"885\" height=\"367\"/></clipPath></g><g class=\"gradients\"/><g class=\"patterns\"/></defs><g class=\"bglayer\"/><g class=\"layer-below\"><g class=\"imagelayer\"/><g class=\"shapelayer\"/></g><g class=\"cartesianlayer\"><g class=\"subplot xy\"><g class=\"layer-subplot\"><g class=\"shapelayer\"/><g class=\"imagelayer\"/></g><g class=\"minor-gridlayer\"><g class=\"x\"/><g class=\"y\"/></g><g class=\"gridlayer\"><g class=\"x\"/><g class=\"y\"><path class=\"ygrid crisp\" transform=\"translate(0,388.57)\" d=\"M65,0h885\" style=\"stroke: rgb(255, 255, 255); stroke-opacity: 1; stroke-width: 1px;\"/><path class=\"ygrid crisp\" transform=\"translate(0,330.14)\" d=\"M65,0h885\" style=\"stroke: rgb(255, 255, 255); stroke-opacity: 1; stroke-width: 1px;\"/><path class=\"ygrid crisp\" transform=\"translate(0,271.71000000000004)\" d=\"M65,0h885\" style=\"stroke: rgb(255, 255, 255); stroke-opacity: 1; stroke-width: 1px;\"/><path class=\"ygrid crisp\" transform=\"translate(0,213.28)\" d=\"M65,0h885\" style=\"stroke: rgb(255, 255, 255); stroke-opacity: 1; stroke-width: 1px;\"/><path class=\"ygrid crisp\" transform=\"translate(0,154.85)\" d=\"M65,0h885\" style=\"stroke: rgb(255, 255, 255); stroke-opacity: 1; stroke-width: 1px;\"/><path class=\"ygrid crisp\" transform=\"translate(0,96.42)\" d=\"M65,0h885\" style=\"stroke: rgb(255, 255, 255); stroke-opacity: 1; stroke-width: 1px;\"/></g></g><g class=\"zerolinelayer\"><path class=\"yzl zl crisp\" transform=\"translate(0,447)\" d=\"M65,0h885\" style=\"stroke: rgb(255, 255, 255); stroke-opacity: 1; stroke-width: 2px;\"/></g><path class=\"xlines-below\"/><path class=\"ylines-below\"/><g class=\"overlines-below\"/><g class=\"xaxislayer-below\"/><g class=\"yaxislayer-below\"/><g class=\"overaxes-below\"/><g class=\"plot\" transform=\"translate(65,80)\" clip-path=\"url(#clipefa1d4xyplot)\"><g class=\"barlayer mlayer\"><g class=\"trace bars\" shape-rendering=\"crispEdges\" style=\"opacity: 1;\"><g class=\"points\"><g class=\"point\"><path d=\"M0,367V365.31H80.45V367Z\" style=\"vector-effect: none; opacity: 1; stroke-width: 0px; fill: rgb(214, 96, 77); fill-opacity: 1;\"/></g><g class=\"point\"><path d=\"M80.45,367V324H160.91V367Z\" style=\"vector-effect: none; opacity: 1; stroke-width: 0px; fill: rgb(214, 96, 77); fill-opacity: 1;\"/></g><g class=\"point\"><path d=\"M160.91,367V134.74H241.36V367Z\" style=\"vector-effect: none; opacity: 1; stroke-width: 0px; fill: rgb(214, 96, 77); fill-opacity: 1;\"/></g><g class=\"point\"><path d=\"M241.36,367V18.35H321.82V367Z\" style=\"vector-effect: none; opacity: 1; stroke-width: 0px; fill: rgb(214, 96, 77); fill-opacity: 1;\"/></g><g class=\"point\"><path d=\"M321.82,367V213.51H402.27V367Z\" style=\"vector-effect: none; opacity: 1; stroke-width: 0px; fill: rgb(214, 96, 77); fill-opacity: 1;\"/></g><g class=\"point\"><path d=\"M402.27,367V312.25H482.73V367Z\" style=\"vector-effect: none; opacity: 1; stroke-width: 0px; fill: rgb(214, 96, 77); fill-opacity: 1;\"/></g><g class=\"point\"><path d=\"M482.73,367V343.34H563.18V367Z\" style=\"vector-effect: none; opacity: 1; stroke-width: 0px; fill: rgb(214, 96, 77); fill-opacity: 1;\"/></g><g class=\"point\"><path d=\"M563.18,367V354.15H643.64V367Z\" style=\"vector-effect: none; opacity: 1; stroke-width: 0px; fill: rgb(214, 96, 77); fill-opacity: 1;\"/></g><g class=\"point\"><path d=\"M643.64,367V361.98H724.09V367Z\" style=\"vector-effect: none; opacity: 1; stroke-width: 0px; fill: rgb(214, 96, 77); fill-opacity: 1;\"/></g><g class=\"point\"><path d=\"M724.09,367V366.07H804.55V367Z\" style=\"vector-effect: none; opacity: 1; stroke-width: 0px; fill: rgb(214, 96, 77); fill-opacity: 1;\"/></g><g class=\"point\"><path d=\"M804.55,367V366.88H885V367Z\" style=\"vector-effect: none; opacity: 1; stroke-width: 0px; fill: rgb(214, 96, 77); fill-opacity: 1;\"/></g></g></g></g></g><g class=\"overplot\"/><path class=\"xlines-above crisp\" d=\"M0,0\" style=\"fill: none;\"/><path class=\"ylines-above crisp\" d=\"M0,0\" style=\"fill: none;\"/><g class=\"overlines-above\"/><g class=\"xaxislayer-above\"><g class=\"xtick\"><text text-anchor=\"middle\" x=\"0\" y=\"460\" transform=\"translate(65,0)\" style=\"font-family: 'Open Sans', verdana, arial, sans-serif; font-size: 12px; fill: rgb(42, 63, 95); fill-opacity: 1; white-space: pre; opacity: 1;\">40</text></g><g class=\"xtick\"><text text-anchor=\"middle\" x=\"0\" y=\"460\" style=\"font-family: 'Open Sans', verdana, arial, sans-serif; font-size: 12px; fill: rgb(42, 63, 95); fill-opacity: 1; white-space: pre; opacity: 1;\" transform=\"translate(225.91,0)\">60</text></g><g class=\"xtick\"><text text-anchor=\"middle\" x=\"0\" y=\"460\" style=\"font-family: 'Open Sans', verdana, arial, sans-serif; font-size: 12px; fill: rgb(42, 63, 95); fill-opacity: 1; white-space: pre; opacity: 1;\" transform=\"translate(386.82,0)\">80</text></g><g class=\"xtick\"><text text-anchor=\"middle\" x=\"0\" y=\"460\" style=\"font-family: 'Open Sans', verdana, arial, sans-serif; font-size: 12px; fill: rgb(42, 63, 95); fill-opacity: 1; white-space: pre; opacity: 1;\" transform=\"translate(547.73,0)\">100</text></g><g class=\"xtick\"><text text-anchor=\"middle\" x=\"0\" y=\"460\" style=\"font-family: 'Open Sans', verdana, arial, sans-serif; font-size: 12px; fill: rgb(42, 63, 95); fill-opacity: 1; white-space: pre; opacity: 1;\" transform=\"translate(708.64,0)\">120</text></g><g class=\"xtick\"><text text-anchor=\"middle\" x=\"0\" y=\"460\" style=\"font-family: 'Open Sans', verdana, arial, sans-serif; font-size: 12px; fill: rgb(42, 63, 95); fill-opacity: 1; white-space: pre; opacity: 1;\" transform=\"translate(869.55,0)\">140</text></g></g><g class=\"yaxislayer-above\"><g class=\"ytick\"><text text-anchor=\"end\" x=\"64\" y=\"4.199999999999999\" transform=\"translate(0,447)\" style=\"font-family: 'Open Sans', verdana, arial, sans-serif; font-size: 12px; fill: rgb(42, 63, 95); fill-opacity: 1; white-space: pre; opacity: 1;\">0</text></g><g class=\"ytick\"><text text-anchor=\"end\" x=\"64\" y=\"4.199999999999999\" style=\"font-family: 'Open Sans', verdana, arial, sans-serif; font-size: 12px; fill: rgb(42, 63, 95); fill-opacity: 1; white-space: pre; opacity: 1;\" transform=\"translate(0,388.57)\">1000</text></g><g class=\"ytick\"><text text-anchor=\"end\" x=\"64\" y=\"4.199999999999999\" style=\"font-family: 'Open Sans', verdana, arial, sans-serif; font-size: 12px; fill: rgb(42, 63, 95); fill-opacity: 1; white-space: pre; opacity: 1;\" transform=\"translate(0,330.14)\">2000</text></g><g class=\"ytick\"><text text-anchor=\"end\" x=\"64\" y=\"4.199999999999999\" style=\"font-family: 'Open Sans', verdana, arial, sans-serif; font-size: 12px; fill: rgb(42, 63, 95); fill-opacity: 1; white-space: pre; opacity: 1;\" transform=\"translate(0,271.71000000000004)\">3000</text></g><g class=\"ytick\"><text text-anchor=\"end\" x=\"64\" y=\"4.199999999999999\" style=\"font-family: 'Open Sans', verdana, arial, sans-serif; font-size: 12px; fill: rgb(42, 63, 95); fill-opacity: 1; white-space: pre; opacity: 1;\" transform=\"translate(0,213.28)\">4000</text></g><g class=\"ytick\"><text text-anchor=\"end\" x=\"64\" y=\"4.199999999999999\" style=\"font-family: 'Open Sans', verdana, arial, sans-serif; font-size: 12px; fill: rgb(42, 63, 95); fill-opacity: 1; white-space: pre; opacity: 1;\" transform=\"translate(0,154.85)\">5000</text></g><g class=\"ytick\"><text text-anchor=\"end\" x=\"64\" y=\"4.199999999999999\" style=\"font-family: 'Open Sans', verdana, arial, sans-serif; font-size: 12px; fill: rgb(42, 63, 95); fill-opacity: 1; white-space: pre; opacity: 1;\" transform=\"translate(0,96.42)\">6000</text></g></g><g class=\"overaxes-above\"/></g></g><g class=\"polarlayer\"/><g class=\"smithlayer\"/><g class=\"ternarylayer\"/><g class=\"geolayer\"/><g class=\"funnelarealayer\"/><g class=\"pielayer\"/><g class=\"iciclelayer\"/><g class=\"treemaplayer\"/><g class=\"sunburstlayer\"/><g class=\"glimages\"/><defs id=\"topdefs-efa1d4\"><g class=\"clips\"/></defs><g class=\"layer-above\"><g class=\"imagelayer\"/><g class=\"shapelayer\"/></g><g class=\"infolayer\"><g class=\"g-gtitle\"><text class=\"gtitle\" x=\"150\" y=\"25\" text-anchor=\"middle\" dy=\"0.7em\" style=\"font-family: 'Times New Roman'; font-size: 26px; fill: rgb(0, 0, 0); opacity: 1; font-weight: normal; white-space: pre;\">Weight Distribution</text></g><g class=\"g-xtitle\"><text class=\"xtitle\" x=\"507.5\" y=\"487.3\" text-anchor=\"middle\" style=\"font-family: 'Open Sans', verdana, arial, sans-serif; font-size: 14px; fill: rgb(42, 63, 95); opacity: 1; font-weight: normal; white-space: pre;\">Age</text></g><g class=\"g-ytitle\" transform=\"translate(0.0029296875,0)\"><text class=\"ytitle\" transform=\"rotate(-90,12.996875000000003,263.5)\" x=\"12.996875000000003\" y=\"263.5\" text-anchor=\"middle\" style=\"font-family: 'Open Sans', verdana, arial, sans-serif; font-size: 14px; fill: rgb(42, 63, 95); opacity: 1; font-weight: normal; white-space: pre;\">Frequency</text></g></g></svg>"
      ]
     },
     "metadata": {},
     "output_type": "display_data"
    }
   ],
   "source": [
    "palette = cl.to_rgb(cl.scales['10']['div']['RdGy'])\n",
    "\n",
    "# Create the histogram\n",
    "fig = go.Figure(data=[go.Histogram(\n",
    "    x=df['wtkg'],\n",
    "    marker=dict(color=palette[2]),  # Choose the first color from the palette\n",
    "    nbinsx=10\n",
    ")])\n",
    "\n",
    "# Update layout for better appearance\n",
    "fig.update_layout(\n",
    "    title_text=\"Weight Distribution\",\n",
    "    title_font_size=24,\n",
    "    title_font_family=\"Times New Roman\",\n",
    "    title_font_color=\"#000000\",  # Adjust title font color for better visibility\n",
    "    paper_bgcolor='#ffffff',  # Set the background color to a warm white shade (#faf0e6)\n",
    "    plot_bgcolor='#ffffff',  # Make sure the plot area also has a consistent background\n",
    "    xaxis=dict(title=\"Age\"),\n",
    "    yaxis=dict(title=\"Frequency\"),\n",
    ")\n",
    "\n",
    "# Adding a more vibrant title and better spacing\n",
    "fig.update_layout(\n",
    "    title={\n",
    "        'text': \"Weight Distribution\",\n",
    "        'y':0.95,\n",
    "        'x':0.15,\n",
    "        'xanchor': 'center',\n",
    "        'yanchor': 'top'},\n",
    "    title_font_size=26,\n",
    "    margin=dict(l=50, r=50, t=80, b=50)\n",
    ")\n",
    "\n",
    "fig.update_layout(width=1000)\n",
    "\n",
    "# Show the pie chart\n",
    "fig.show('svg')"
   ]
  },
  {
   "cell_type": "markdown",
   "id": "01a85608",
   "metadata": {
    "papermill": {
     "duration": 0.038464,
     "end_time": "2024-06-02T14:38:05.619821",
     "exception": false,
     "start_time": "2024-06-02T14:38:05.581357",
     "status": "completed"
    },
    "tags": []
   },
   "source": [
    "*Almost normally distributed. Slightly positively skewed*"
   ]
  },
  {
   "cell_type": "code",
   "execution_count": 13,
   "id": "d553a9ab",
   "metadata": {
    "execution": {
     "iopub.execute_input": "2024-06-02T14:38:05.689065Z",
     "iopub.status.busy": "2024-06-02T14:38:05.688677Z",
     "iopub.status.idle": "2024-06-02T14:38:05.696878Z",
     "shell.execute_reply": "2024-06-02T14:38:05.695665Z"
    },
    "papermill": {
     "duration": 0.045556,
     "end_time": "2024-06-02T14:38:05.699178",
     "exception": false,
     "start_time": "2024-06-02T14:38:05.653622",
     "status": "completed"
    },
    "tags": []
   },
   "outputs": [
    {
     "data": {
      "text/plain": [
       "1.1910895370485162"
      ]
     },
     "execution_count": 13,
     "metadata": {},
     "output_type": "execute_result"
    }
   ],
   "source": [
    "df['wtkg'].skew()"
   ]
  },
  {
   "cell_type": "markdown",
   "id": "b451caf5",
   "metadata": {
    "papermill": {
     "duration": 0.033007,
     "end_time": "2024-06-02T14:38:05.766917",
     "exception": false,
     "start_time": "2024-06-02T14:38:05.733910",
     "status": "completed"
    },
    "tags": []
   },
   "source": [
    "*Close to 1*"
   ]
  },
  {
   "cell_type": "code",
   "execution_count": 14,
   "id": "03461eff",
   "metadata": {
    "execution": {
     "iopub.execute_input": "2024-06-02T14:38:05.835250Z",
     "iopub.status.busy": "2024-06-02T14:38:05.834047Z",
     "iopub.status.idle": "2024-06-02T14:38:06.148453Z",
     "shell.execute_reply": "2024-06-02T14:38:06.146775Z"
    },
    "papermill": {
     "duration": 0.3544,
     "end_time": "2024-06-02T14:38:06.154147",
     "exception": false,
     "start_time": "2024-06-02T14:38:05.799747",
     "status": "completed"
    },
    "tags": []
   },
   "outputs": [
    {
     "data": {
      "image/svg+xml": [
       "<svg class=\"main-svg\" xmlns=\"http://www.w3.org/2000/svg\" xmlns:xlink=\"http://www.w3.org/1999/xlink\" width=\"1000\" height=\"500\" style=\"\" viewBox=\"0 0 1000 500\"><rect x=\"0\" y=\"0\" width=\"1000\" height=\"500\" style=\"fill: rgb(255, 255, 255); fill-opacity: 1;\"/><defs id=\"defs-66f950\"><g class=\"clips\"><clipPath id=\"clip66f950xyplot\" class=\"plotclip\"><rect width=\"900\" height=\"367\"/></clipPath><clipPath class=\"axesclip\" id=\"clip66f950x\"><rect x=\"50\" y=\"0\" width=\"900\" height=\"500\"/></clipPath><clipPath class=\"axesclip\" id=\"clip66f950y\"><rect x=\"0\" y=\"80\" width=\"1000\" height=\"367\"/></clipPath><clipPath class=\"axesclip\" id=\"clip66f950xy\"><rect x=\"50\" y=\"80\" width=\"900\" height=\"367\"/></clipPath></g><g class=\"gradients\"/><g class=\"patterns\"/></defs><g class=\"bglayer\"/><g class=\"layer-below\"><g class=\"imagelayer\"/><g class=\"shapelayer\"/></g><g class=\"cartesianlayer\"><g class=\"subplot xy\"><g class=\"layer-subplot\"><g class=\"shapelayer\"/><g class=\"imagelayer\"/></g><g class=\"minor-gridlayer\"><g class=\"x\"/><g class=\"y\"/></g><g class=\"gridlayer\"><g class=\"x\"><path class=\"xgrid crisp\" transform=\"translate(76.6,0)\" d=\"M0,80v367\" style=\"stroke: rgb(255, 255, 255); stroke-opacity: 1; stroke-width: 1px;\"/><path class=\"xgrid crisp\" transform=\"translate(239.65,0)\" d=\"M0,80v367\" style=\"stroke: rgb(255, 255, 255); stroke-opacity: 1; stroke-width: 1px;\"/><path class=\"xgrid crisp\" transform=\"translate(402.7,0)\" d=\"M0,80v367\" style=\"stroke: rgb(255, 255, 255); stroke-opacity: 1; stroke-width: 1px;\"/><path class=\"xgrid crisp\" transform=\"translate(565.75,0)\" d=\"M0,80v367\" style=\"stroke: rgb(255, 255, 255); stroke-opacity: 1; stroke-width: 1px;\"/><path class=\"xgrid crisp\" transform=\"translate(728.8,0)\" d=\"M0,80v367\" style=\"stroke: rgb(255, 255, 255); stroke-opacity: 1; stroke-width: 1px;\"/><path class=\"xgrid crisp\" transform=\"translate(891.85,0)\" d=\"M0,80v367\" style=\"stroke: rgb(255, 255, 255); stroke-opacity: 1; stroke-width: 1px;\"/></g><g class=\"y\"/></g><g class=\"zerolinelayer\"/><path class=\"xlines-below\"/><path class=\"ylines-below\"/><g class=\"overlines-below\"/><g class=\"xaxislayer-below\"/><g class=\"yaxislayer-below\"/><g class=\"overaxes-below\"/><g class=\"plot\" transform=\"translate(50,80)\" clip-path=\"url(#clip66f950xyplot)\"><g class=\"boxlayer mlayer\"><g class=\"trace boxes\" style=\"opacity: 1;\"><path class=\"box\" d=\"M304.72,273.41V93.59M257.5,273.41V93.59H363.38V273.41ZM257.5,183.5H98.71M363.38,183.5H522.18M98.71,228.46V138.54M522.18,228.46V138.54\" style=\"vector-effect: none; stroke-width: 2px; stroke: rgb(178, 24, 43); stroke-opacity: 1; fill: rgb(178, 24, 43); fill-opacity: 0.5;\"/><g class=\"points\"><path class=\"point\" transform=\"translate(45,183.5)\" d=\"M3,0A3,3 0 1,1 0,-3A3,3 0 0,1 3,0Z\" style=\"opacity: 1; stroke-width: 0px; fill: rgb(178, 24, 43); fill-opacity: 1;\"/><path class=\"point\" transform=\"translate(47.13,183.5)\" d=\"M3,0A3,3 0 1,1 0,-3A3,3 0 0,1 3,0Z\" style=\"opacity: 1; stroke-width: 0px; fill: rgb(178, 24, 43); fill-opacity: 1;\"/><path class=\"point\" transform=\"translate(58.94,183.5)\" d=\"M3,0A3,3 0 1,1 0,-3A3,3 0 0,1 3,0Z\" style=\"opacity: 1; stroke-width: 0px; fill: rgb(178, 24, 43); fill-opacity: 1;\"/><path class=\"point\" transform=\"translate(62.28,183.5)\" d=\"M3,0A3,3 0 1,1 0,-3A3,3 0 0,1 3,0Z\" style=\"opacity: 1; stroke-width: 0px; fill: rgb(178, 24, 43); fill-opacity: 1;\"/><path class=\"point\" transform=\"translate(63.74,183.5)\" d=\"M3,0A3,3 0 1,1 0,-3A3,3 0 0,1 3,0Z\" style=\"opacity: 1; stroke-width: 0px; fill: rgb(178, 24, 43); fill-opacity: 1;\"/><path class=\"point\" transform=\"translate(68.37,183.5)\" d=\"M3,0A3,3 0 1,1 0,-3A3,3 0 0,1 3,0Z\" style=\"opacity: 1; stroke-width: 0px; fill: rgb(178, 24, 43); fill-opacity: 1;\"/><path class=\"point\" transform=\"translate(76.27,183.5)\" d=\"M3,0A3,3 0 1,1 0,-3A3,3 0 0,1 3,0Z\" style=\"opacity: 1; stroke-width: 0px; fill: rgb(178, 24, 43); fill-opacity: 1;\"/><path class=\"point\" transform=\"translate(79.24,183.5)\" d=\"M3,0A3,3 0 1,1 0,-3A3,3 0 0,1 3,0Z\" style=\"opacity: 1; stroke-width: 0px; fill: rgb(178, 24, 43); fill-opacity: 1;\"/><path class=\"point\" transform=\"translate(82.56,183.5)\" d=\"M3,0A3,3 0 1,1 0,-3A3,3 0 0,1 3,0Z\" style=\"opacity: 1; stroke-width: 0px; fill: rgb(178, 24, 43); fill-opacity: 1;\"/><path class=\"point\" transform=\"translate(86.66,183.5)\" d=\"M3,0A3,3 0 1,1 0,-3A3,3 0 0,1 3,0Z\" style=\"opacity: 1; stroke-width: 0px; fill: rgb(178, 24, 43); fill-opacity: 1;\"/><path class=\"point\" transform=\"translate(87.32,183.5)\" d=\"M3,0A3,3 0 1,1 0,-3A3,3 0 0,1 3,0Z\" style=\"opacity: 1; stroke-width: 0px; fill: rgb(178, 24, 43); fill-opacity: 1;\"/><path class=\"point\" transform=\"translate(90,183.5)\" d=\"M3,0A3,3 0 1,1 0,-3A3,3 0 0,1 3,0Z\" style=\"opacity: 1; stroke-width: 0px; fill: rgb(178, 24, 43); fill-opacity: 1;\"/><path class=\"point\" transform=\"translate(91,183.5)\" d=\"M3,0A3,3 0 1,1 0,-3A3,3 0 0,1 3,0Z\" style=\"opacity: 1; stroke-width: 0px; fill: rgb(178, 24, 43); fill-opacity: 1;\"/><path class=\"point\" transform=\"translate(93.41,183.5)\" d=\"M3,0A3,3 0 1,1 0,-3A3,3 0 0,1 3,0Z\" style=\"opacity: 1; stroke-width: 0px; fill: rgb(178, 24, 43); fill-opacity: 1;\"/><path class=\"point\" transform=\"translate(97.33,183.5)\" d=\"M3,0A3,3 0 1,1 0,-3A3,3 0 0,1 3,0Z\" style=\"opacity: 1; stroke-width: 0px; fill: rgb(178, 24, 43); fill-opacity: 1;\"/><path class=\"point\" transform=\"translate(98.12,183.5)\" d=\"M3,0A3,3 0 1,1 0,-3A3,3 0 0,1 3,0Z\" style=\"opacity: 1; stroke-width: 0px; fill: rgb(178, 24, 43); fill-opacity: 1;\"/><path class=\"point\" transform=\"translate(98.31,183.5)\" d=\"M3,0A3,3 0 1,1 0,-3A3,3 0 0,1 3,0Z\" style=\"opacity: 1; stroke-width: 0px; fill: rgb(178, 24, 43); fill-opacity: 1;\"/><path class=\"point\" transform=\"translate(98.5,183.5)\" d=\"M3,0A3,3 0 1,1 0,-3A3,3 0 0,1 3,0Z\" style=\"opacity: 1; stroke-width: 0px; fill: rgb(178, 24, 43); fill-opacity: 1;\"/><path class=\"point\" transform=\"translate(522.3,183.5)\" d=\"M3,0A3,3 0 1,1 0,-3A3,3 0 0,1 3,0Z\" style=\"opacity: 1; stroke-width: 0px; fill: rgb(178, 24, 43); fill-opacity: 1;\"/><path class=\"point\" transform=\"translate(522.34,183.5)\" d=\"M3,0A3,3 0 1,1 0,-3A3,3 0 0,1 3,0Z\" style=\"opacity: 1; stroke-width: 0px; fill: rgb(178, 24, 43); fill-opacity: 1;\"/><path class=\"point\" transform=\"translate(522.57,183.5)\" d=\"M3,0A3,3 0 1,1 0,-3A3,3 0 0,1 3,0Z\" style=\"opacity: 1; stroke-width: 0px; fill: rgb(178, 24, 43); fill-opacity: 1;\"/><path class=\"point\" transform=\"translate(522.82,183.5)\" d=\"M3,0A3,3 0 1,1 0,-3A3,3 0 0,1 3,0Z\" style=\"opacity: 1; stroke-width: 0px; fill: rgb(178, 24, 43); fill-opacity: 1;\"/><path class=\"point\" transform=\"translate(522.87,183.5)\" d=\"M3,0A3,3 0 1,1 0,-3A3,3 0 0,1 3,0Z\" style=\"opacity: 1; stroke-width: 0px; fill: rgb(178, 24, 43); fill-opacity: 1;\"/><path class=\"point\" transform=\"translate(522.9,183.5)\" d=\"M3,0A3,3 0 1,1 0,-3A3,3 0 0,1 3,0Z\" style=\"opacity: 1; stroke-width: 0px; fill: rgb(178, 24, 43); fill-opacity: 1;\"/><path class=\"point\" transform=\"translate(522.99,183.5)\" d=\"M3,0A3,3 0 1,1 0,-3A3,3 0 0,1 3,0Z\" style=\"opacity: 1; stroke-width: 0px; fill: rgb(178, 24, 43); fill-opacity: 1;\"/><path class=\"point\" transform=\"translate(523.33,183.5)\" d=\"M3,0A3,3 0 1,1 0,-3A3,3 0 0,1 3,0Z\" style=\"opacity: 1; stroke-width: 0px; fill: rgb(178, 24, 43); fill-opacity: 1;\"/><path class=\"point\" transform=\"translate(523.65,183.5)\" d=\"M3,0A3,3 0 1,1 0,-3A3,3 0 0,1 3,0Z\" style=\"opacity: 1; stroke-width: 0px; fill: rgb(178, 24, 43); fill-opacity: 1;\"/><path class=\"point\" transform=\"translate(524.35,183.5)\" d=\"M3,0A3,3 0 1,1 0,-3A3,3 0 0,1 3,0Z\" style=\"opacity: 1; stroke-width: 0px; fill: rgb(178, 24, 43); fill-opacity: 1;\"/><path class=\"point\" transform=\"translate(524.65,183.5)\" d=\"M3,0A3,3 0 1,1 0,-3A3,3 0 0,1 3,0Z\" style=\"opacity: 1; stroke-width: 0px; fill: rgb(178, 24, 43); fill-opacity: 1;\"/><path class=\"point\" transform=\"translate(524.78,183.5)\" d=\"M3,0A3,3 0 1,1 0,-3A3,3 0 0,1 3,0Z\" style=\"opacity: 1; stroke-width: 0px; fill: rgb(178, 24, 43); fill-opacity: 1;\"/><path class=\"point\" transform=\"translate(525.28,183.5)\" d=\"M3,0A3,3 0 1,1 0,-3A3,3 0 0,1 3,0Z\" style=\"opacity: 1; stroke-width: 0px; fill: rgb(178, 24, 43); fill-opacity: 1;\"/><path class=\"point\" transform=\"translate(525.31,183.5)\" d=\"M3,0A3,3 0 1,1 0,-3A3,3 0 0,1 3,0Z\" style=\"opacity: 1; stroke-width: 0px; fill: rgb(178, 24, 43); fill-opacity: 1;\"/><path class=\"point\" transform=\"translate(525.6,183.5)\" d=\"M3,0A3,3 0 1,1 0,-3A3,3 0 0,1 3,0Z\" style=\"opacity: 1; stroke-width: 0px; fill: rgb(178, 24, 43); fill-opacity: 1;\"/><path class=\"point\" transform=\"translate(525.68,183.5)\" d=\"M3,0A3,3 0 1,1 0,-3A3,3 0 0,1 3,0Z\" style=\"opacity: 1; stroke-width: 0px; fill: rgb(178, 24, 43); fill-opacity: 1;\"/><path class=\"point\" transform=\"translate(526.41,183.5)\" d=\"M3,0A3,3 0 1,1 0,-3A3,3 0 0,1 3,0Z\" style=\"opacity: 1; stroke-width: 0px; fill: rgb(178, 24, 43); fill-opacity: 1;\"/><path class=\"point\" transform=\"translate(526.49,183.5)\" d=\"M3,0A3,3 0 1,1 0,-3A3,3 0 0,1 3,0Z\" style=\"opacity: 1; stroke-width: 0px; fill: rgb(178, 24, 43); fill-opacity: 1;\"/><path class=\"point\" transform=\"translate(526.83,183.5)\" d=\"M3,0A3,3 0 1,1 0,-3A3,3 0 0,1 3,0Z\" style=\"opacity: 1; stroke-width: 0px; fill: rgb(178, 24, 43); fill-opacity: 1;\"/><path class=\"point\" transform=\"translate(526.89,183.5)\" d=\"M3,0A3,3 0 1,1 0,-3A3,3 0 0,1 3,0Z\" style=\"opacity: 1; stroke-width: 0px; fill: rgb(178, 24, 43); fill-opacity: 1;\"/><path class=\"point\" transform=\"translate(526.92,183.5)\" d=\"M3,0A3,3 0 1,1 0,-3A3,3 0 0,1 3,0Z\" style=\"opacity: 1; stroke-width: 0px; fill: rgb(178, 24, 43); fill-opacity: 1;\"/><path class=\"point\" transform=\"translate(527.04,183.5)\" d=\"M3,0A3,3 0 1,1 0,-3A3,3 0 0,1 3,0Z\" style=\"opacity: 1; stroke-width: 0px; fill: rgb(178, 24, 43); fill-opacity: 1;\"/><path class=\"point\" transform=\"translate(527.05,183.5)\" d=\"M3,0A3,3 0 1,1 0,-3A3,3 0 0,1 3,0Z\" style=\"opacity: 1; stroke-width: 0px; fill: rgb(178, 24, 43); fill-opacity: 1;\"/><path class=\"point\" transform=\"translate(527.22,183.5)\" d=\"M3,0A3,3 0 1,1 0,-3A3,3 0 0,1 3,0Z\" style=\"opacity: 1; stroke-width: 0px; fill: rgb(178, 24, 43); fill-opacity: 1;\"/><path class=\"point\" transform=\"translate(527.41,183.5)\" d=\"M3,0A3,3 0 1,1 0,-3A3,3 0 0,1 3,0Z\" style=\"opacity: 1; stroke-width: 0px; fill: rgb(178, 24, 43); fill-opacity: 1;\"/><path class=\"point\" transform=\"translate(527.43,183.5)\" d=\"M3,0A3,3 0 1,1 0,-3A3,3 0 0,1 3,0Z\" style=\"opacity: 1; stroke-width: 0px; fill: rgb(178, 24, 43); fill-opacity: 1;\"/><path class=\"point\" transform=\"translate(527.53,183.5)\" d=\"M3,0A3,3 0 1,1 0,-3A3,3 0 0,1 3,0Z\" style=\"opacity: 1; stroke-width: 0px; fill: rgb(178, 24, 43); fill-opacity: 1;\"/><path class=\"point\" transform=\"translate(527.55,183.5)\" d=\"M3,0A3,3 0 1,1 0,-3A3,3 0 0,1 3,0Z\" style=\"opacity: 1; stroke-width: 0px; fill: rgb(178, 24, 43); fill-opacity: 1;\"/><path class=\"point\" transform=\"translate(527.57,183.5)\" d=\"M3,0A3,3 0 1,1 0,-3A3,3 0 0,1 3,0Z\" style=\"opacity: 1; stroke-width: 0px; fill: rgb(178, 24, 43); fill-opacity: 1;\"/><path class=\"point\" transform=\"translate(527.88,183.5)\" d=\"M3,0A3,3 0 1,1 0,-3A3,3 0 0,1 3,0Z\" style=\"opacity: 1; stroke-width: 0px; fill: rgb(178, 24, 43); fill-opacity: 1;\"/><path class=\"point\" transform=\"translate(527.93,183.5)\" d=\"M3,0A3,3 0 1,1 0,-3A3,3 0 0,1 3,0Z\" style=\"opacity: 1; stroke-width: 0px; fill: rgb(178, 24, 43); fill-opacity: 1;\"/><path class=\"point\" transform=\"translate(528.06,183.5)\" d=\"M3,0A3,3 0 1,1 0,-3A3,3 0 0,1 3,0Z\" style=\"opacity: 1; stroke-width: 0px; fill: rgb(178, 24, 43); fill-opacity: 1;\"/><path class=\"point\" transform=\"translate(528.15,183.5)\" d=\"M3,0A3,3 0 1,1 0,-3A3,3 0 0,1 3,0Z\" style=\"opacity: 1; stroke-width: 0px; fill: rgb(178, 24, 43); fill-opacity: 1;\"/><path class=\"point\" transform=\"translate(528.52,183.5)\" d=\"M3,0A3,3 0 1,1 0,-3A3,3 0 0,1 3,0Z\" style=\"opacity: 1; stroke-width: 0px; fill: rgb(178, 24, 43); fill-opacity: 1;\"/><path class=\"point\" transform=\"translate(528.63,183.5)\" d=\"M3,0A3,3 0 1,1 0,-3A3,3 0 0,1 3,0Z\" style=\"opacity: 1; stroke-width: 0px; fill: rgb(178, 24, 43); fill-opacity: 1;\"/><path class=\"point\" transform=\"translate(529.08,183.5)\" d=\"M3,0A3,3 0 1,1 0,-3A3,3 0 0,1 3,0Z\" style=\"opacity: 1; stroke-width: 0px; fill: rgb(178, 24, 43); fill-opacity: 1;\"/><path class=\"point\" transform=\"translate(529.24,183.5)\" d=\"M3,0A3,3 0 1,1 0,-3A3,3 0 0,1 3,0Z\" style=\"opacity: 1; stroke-width: 0px; fill: rgb(178, 24, 43); fill-opacity: 1;\"/><path class=\"point\" transform=\"translate(529.58,183.5)\" d=\"M3,0A3,3 0 1,1 0,-3A3,3 0 0,1 3,0Z\" style=\"opacity: 1; stroke-width: 0px; fill: rgb(178, 24, 43); fill-opacity: 1;\"/><path class=\"point\" transform=\"translate(529.7,183.5)\" d=\"M3,0A3,3 0 1,1 0,-3A3,3 0 0,1 3,0Z\" style=\"opacity: 1; stroke-width: 0px; fill: rgb(178, 24, 43); fill-opacity: 1;\"/><path class=\"point\" transform=\"translate(530.12,183.5)\" d=\"M3,0A3,3 0 1,1 0,-3A3,3 0 0,1 3,0Z\" style=\"opacity: 1; stroke-width: 0px; fill: rgb(178, 24, 43); fill-opacity: 1;\"/><path class=\"point\" transform=\"translate(530.14,183.5)\" d=\"M3,0A3,3 0 1,1 0,-3A3,3 0 0,1 3,0Z\" style=\"opacity: 1; stroke-width: 0px; fill: rgb(178, 24, 43); fill-opacity: 1;\"/><path class=\"point\" transform=\"translate(530.46,183.5)\" d=\"M3,0A3,3 0 1,1 0,-3A3,3 0 0,1 3,0Z\" style=\"opacity: 1; stroke-width: 0px; fill: rgb(178, 24, 43); fill-opacity: 1;\"/><path class=\"point\" transform=\"translate(530.54,183.5)\" d=\"M3,0A3,3 0 1,1 0,-3A3,3 0 0,1 3,0Z\" style=\"opacity: 1; stroke-width: 0px; fill: rgb(178, 24, 43); fill-opacity: 1;\"/><path class=\"point\" transform=\"translate(530.63,183.5)\" d=\"M3,0A3,3 0 1,1 0,-3A3,3 0 0,1 3,0Z\" style=\"opacity: 1; stroke-width: 0px; fill: rgb(178, 24, 43); fill-opacity: 1;\"/><path class=\"point\" transform=\"translate(530.81,183.5)\" d=\"M3,0A3,3 0 1,1 0,-3A3,3 0 0,1 3,0Z\" style=\"opacity: 1; stroke-width: 0px; fill: rgb(178, 24, 43); fill-opacity: 1;\"/><path class=\"point\" transform=\"translate(530.84,183.5)\" d=\"M3,0A3,3 0 1,1 0,-3A3,3 0 0,1 3,0Z\" style=\"opacity: 1; stroke-width: 0px; fill: rgb(178, 24, 43); fill-opacity: 1;\"/><path class=\"point\" transform=\"translate(530.95,183.5)\" d=\"M3,0A3,3 0 1,1 0,-3A3,3 0 0,1 3,0Z\" style=\"opacity: 1; stroke-width: 0px; fill: rgb(178, 24, 43); fill-opacity: 1;\"/><path class=\"point\" transform=\"translate(531,183.5)\" d=\"M3,0A3,3 0 1,1 0,-3A3,3 0 0,1 3,0Z\" style=\"opacity: 1; stroke-width: 0px; fill: rgb(178, 24, 43); fill-opacity: 1;\"/><path class=\"point\" transform=\"translate(531.63,183.5)\" d=\"M3,0A3,3 0 1,1 0,-3A3,3 0 0,1 3,0Z\" style=\"opacity: 1; stroke-width: 0px; fill: rgb(178, 24, 43); fill-opacity: 1;\"/><path class=\"point\" transform=\"translate(531.73,183.5)\" d=\"M3,0A3,3 0 1,1 0,-3A3,3 0 0,1 3,0Z\" style=\"opacity: 1; stroke-width: 0px; fill: rgb(178, 24, 43); fill-opacity: 1;\"/><path class=\"point\" transform=\"translate(531.73,183.5)\" d=\"M3,0A3,3 0 1,1 0,-3A3,3 0 0,1 3,0Z\" style=\"opacity: 1; stroke-width: 0px; fill: rgb(178, 24, 43); fill-opacity: 1;\"/><path class=\"point\" transform=\"translate(531.96,183.5)\" d=\"M3,0A3,3 0 1,1 0,-3A3,3 0 0,1 3,0Z\" style=\"opacity: 1; stroke-width: 0px; fill: rgb(178, 24, 43); fill-opacity: 1;\"/><path class=\"point\" transform=\"translate(531.98,183.5)\" d=\"M3,0A3,3 0 1,1 0,-3A3,3 0 0,1 3,0Z\" style=\"opacity: 1; stroke-width: 0px; fill: rgb(178, 24, 43); fill-opacity: 1;\"/><path class=\"point\" transform=\"translate(532.3,183.5)\" d=\"M3,0A3,3 0 1,1 0,-3A3,3 0 0,1 3,0Z\" style=\"opacity: 1; stroke-width: 0px; fill: rgb(178, 24, 43); fill-opacity: 1;\"/><path class=\"point\" transform=\"translate(532.34,183.5)\" d=\"M3,0A3,3 0 1,1 0,-3A3,3 0 0,1 3,0Z\" style=\"opacity: 1; stroke-width: 0px; fill: rgb(178, 24, 43); fill-opacity: 1;\"/><path class=\"point\" transform=\"translate(532.79,183.5)\" d=\"M3,0A3,3 0 1,1 0,-3A3,3 0 0,1 3,0Z\" style=\"opacity: 1; stroke-width: 0px; fill: rgb(178, 24, 43); fill-opacity: 1;\"/><path class=\"point\" transform=\"translate(532.83,183.5)\" d=\"M3,0A3,3 0 1,1 0,-3A3,3 0 0,1 3,0Z\" style=\"opacity: 1; stroke-width: 0px; fill: rgb(178, 24, 43); fill-opacity: 1;\"/><path class=\"point\" transform=\"translate(532.85,183.5)\" d=\"M3,0A3,3 0 1,1 0,-3A3,3 0 0,1 3,0Z\" style=\"opacity: 1; stroke-width: 0px; fill: rgb(178, 24, 43); fill-opacity: 1;\"/><path class=\"point\" transform=\"translate(533.08,183.5)\" d=\"M3,0A3,3 0 1,1 0,-3A3,3 0 0,1 3,0Z\" style=\"opacity: 1; stroke-width: 0px; fill: rgb(178, 24, 43); fill-opacity: 1;\"/><path class=\"point\" transform=\"translate(533.23,183.5)\" d=\"M3,0A3,3 0 1,1 0,-3A3,3 0 0,1 3,0Z\" style=\"opacity: 1; stroke-width: 0px; fill: rgb(178, 24, 43); fill-opacity: 1;\"/><path class=\"point\" transform=\"translate(533.41,183.5)\" d=\"M3,0A3,3 0 1,1 0,-3A3,3 0 0,1 3,0Z\" style=\"opacity: 1; stroke-width: 0px; fill: rgb(178, 24, 43); fill-opacity: 1;\"/><path class=\"point\" transform=\"translate(533.42,183.5)\" d=\"M3,0A3,3 0 1,1 0,-3A3,3 0 0,1 3,0Z\" style=\"opacity: 1; stroke-width: 0px; fill: rgb(178, 24, 43); fill-opacity: 1;\"/><path class=\"point\" transform=\"translate(533.67,183.5)\" d=\"M3,0A3,3 0 1,1 0,-3A3,3 0 0,1 3,0Z\" style=\"opacity: 1; stroke-width: 0px; fill: rgb(178, 24, 43); fill-opacity: 1;\"/><path class=\"point\" transform=\"translate(533.7,183.5)\" d=\"M3,0A3,3 0 1,1 0,-3A3,3 0 0,1 3,0Z\" style=\"opacity: 1; stroke-width: 0px; fill: rgb(178, 24, 43); fill-opacity: 1;\"/><path class=\"point\" transform=\"translate(533.75,183.5)\" d=\"M3,0A3,3 0 1,1 0,-3A3,3 0 0,1 3,0Z\" style=\"opacity: 1; stroke-width: 0px; fill: rgb(178, 24, 43); fill-opacity: 1;\"/><path class=\"point\" transform=\"translate(533.95,183.5)\" d=\"M3,0A3,3 0 1,1 0,-3A3,3 0 0,1 3,0Z\" style=\"opacity: 1; stroke-width: 0px; fill: rgb(178, 24, 43); fill-opacity: 1;\"/><path class=\"point\" transform=\"translate(534.24,183.5)\" d=\"M3,0A3,3 0 1,1 0,-3A3,3 0 0,1 3,0Z\" style=\"opacity: 1; stroke-width: 0px; fill: rgb(178, 24, 43); fill-opacity: 1;\"/><path class=\"point\" transform=\"translate(535.03,183.5)\" d=\"M3,0A3,3 0 1,1 0,-3A3,3 0 0,1 3,0Z\" style=\"opacity: 1; stroke-width: 0px; fill: rgb(178, 24, 43); fill-opacity: 1;\"/><path class=\"point\" transform=\"translate(535.41,183.5)\" d=\"M3,0A3,3 0 1,1 0,-3A3,3 0 0,1 3,0Z\" style=\"opacity: 1; stroke-width: 0px; fill: rgb(178, 24, 43); fill-opacity: 1;\"/><path class=\"point\" transform=\"translate(535.56,183.5)\" d=\"M3,0A3,3 0 1,1 0,-3A3,3 0 0,1 3,0Z\" style=\"opacity: 1; stroke-width: 0px; fill: rgb(178, 24, 43); fill-opacity: 1;\"/><path class=\"point\" transform=\"translate(535.84,183.5)\" d=\"M3,0A3,3 0 1,1 0,-3A3,3 0 0,1 3,0Z\" style=\"opacity: 1; stroke-width: 0px; fill: rgb(178, 24, 43); fill-opacity: 1;\"/><path class=\"point\" transform=\"translate(535.85,183.5)\" d=\"M3,0A3,3 0 1,1 0,-3A3,3 0 0,1 3,0Z\" style=\"opacity: 1; stroke-width: 0px; fill: rgb(178, 24, 43); fill-opacity: 1;\"/><path class=\"point\" transform=\"translate(535.87,183.5)\" d=\"M3,0A3,3 0 1,1 0,-3A3,3 0 0,1 3,0Z\" style=\"opacity: 1; stroke-width: 0px; fill: rgb(178, 24, 43); fill-opacity: 1;\"/><path class=\"point\" transform=\"translate(536.06,183.5)\" d=\"M3,0A3,3 0 1,1 0,-3A3,3 0 0,1 3,0Z\" style=\"opacity: 1; stroke-width: 0px; fill: rgb(178, 24, 43); fill-opacity: 1;\"/><path class=\"point\" transform=\"translate(536.38,183.5)\" d=\"M3,0A3,3 0 1,1 0,-3A3,3 0 0,1 3,0Z\" style=\"opacity: 1; stroke-width: 0px; fill: rgb(178, 24, 43); fill-opacity: 1;\"/><path class=\"point\" transform=\"translate(536.71,183.5)\" d=\"M3,0A3,3 0 1,1 0,-3A3,3 0 0,1 3,0Z\" style=\"opacity: 1; stroke-width: 0px; fill: rgb(178, 24, 43); fill-opacity: 1;\"/><path class=\"point\" transform=\"translate(536.8,183.5)\" d=\"M3,0A3,3 0 1,1 0,-3A3,3 0 0,1 3,0Z\" style=\"opacity: 1; stroke-width: 0px; fill: rgb(178, 24, 43); fill-opacity: 1;\"/><path class=\"point\" transform=\"translate(536.87,183.5)\" d=\"M3,0A3,3 0 1,1 0,-3A3,3 0 0,1 3,0Z\" style=\"opacity: 1; stroke-width: 0px; fill: rgb(178, 24, 43); fill-opacity: 1;\"/><path class=\"point\" transform=\"translate(537.2,183.5)\" d=\"M3,0A3,3 0 1,1 0,-3A3,3 0 0,1 3,0Z\" style=\"opacity: 1; stroke-width: 0px; fill: rgb(178, 24, 43); fill-opacity: 1;\"/><path class=\"point\" transform=\"translate(537.22,183.5)\" d=\"M3,0A3,3 0 1,1 0,-3A3,3 0 0,1 3,0Z\" style=\"opacity: 1; stroke-width: 0px; fill: rgb(178, 24, 43); fill-opacity: 1;\"/><path class=\"point\" transform=\"translate(537.46,183.5)\" d=\"M3,0A3,3 0 1,1 0,-3A3,3 0 0,1 3,0Z\" style=\"opacity: 1; stroke-width: 0px; fill: rgb(178, 24, 43); fill-opacity: 1;\"/><path class=\"point\" transform=\"translate(537.73,183.5)\" d=\"M3,0A3,3 0 1,1 0,-3A3,3 0 0,1 3,0Z\" style=\"opacity: 1; stroke-width: 0px; fill: rgb(178, 24, 43); fill-opacity: 1;\"/><path class=\"point\" transform=\"translate(537.92,183.5)\" d=\"M3,0A3,3 0 1,1 0,-3A3,3 0 0,1 3,0Z\" style=\"opacity: 1; stroke-width: 0px; fill: rgb(178, 24, 43); fill-opacity: 1;\"/><path class=\"point\" transform=\"translate(538.17,183.5)\" d=\"M3,0A3,3 0 1,1 0,-3A3,3 0 0,1 3,0Z\" style=\"opacity: 1; stroke-width: 0px; fill: rgb(178, 24, 43); fill-opacity: 1;\"/><path class=\"point\" transform=\"translate(538.64,183.5)\" d=\"M3,0A3,3 0 1,1 0,-3A3,3 0 0,1 3,0Z\" style=\"opacity: 1; stroke-width: 0px; fill: rgb(178, 24, 43); fill-opacity: 1;\"/><path class=\"point\" transform=\"translate(539.22,183.5)\" d=\"M3,0A3,3 0 1,1 0,-3A3,3 0 0,1 3,0Z\" style=\"opacity: 1; stroke-width: 0px; fill: rgb(178, 24, 43); fill-opacity: 1;\"/><path class=\"point\" transform=\"translate(539.25,183.5)\" d=\"M3,0A3,3 0 1,1 0,-3A3,3 0 0,1 3,0Z\" style=\"opacity: 1; stroke-width: 0px; fill: rgb(178, 24, 43); fill-opacity: 1;\"/><path class=\"point\" transform=\"translate(539.35,183.5)\" d=\"M3,0A3,3 0 1,1 0,-3A3,3 0 0,1 3,0Z\" style=\"opacity: 1; stroke-width: 0px; fill: rgb(178, 24, 43); fill-opacity: 1;\"/><path class=\"point\" transform=\"translate(539.62,183.5)\" d=\"M3,0A3,3 0 1,1 0,-3A3,3 0 0,1 3,0Z\" style=\"opacity: 1; stroke-width: 0px; fill: rgb(178, 24, 43); fill-opacity: 1;\"/><path class=\"point\" transform=\"translate(539.78,183.5)\" d=\"M3,0A3,3 0 1,1 0,-3A3,3 0 0,1 3,0Z\" style=\"opacity: 1; stroke-width: 0px; fill: rgb(178, 24, 43); fill-opacity: 1;\"/><path class=\"point\" transform=\"translate(539.79,183.5)\" d=\"M3,0A3,3 0 1,1 0,-3A3,3 0 0,1 3,0Z\" style=\"opacity: 1; stroke-width: 0px; fill: rgb(178, 24, 43); fill-opacity: 1;\"/><path class=\"point\" transform=\"translate(540.02,183.5)\" d=\"M3,0A3,3 0 1,1 0,-3A3,3 0 0,1 3,0Z\" style=\"opacity: 1; stroke-width: 0px; fill: rgb(178, 24, 43); fill-opacity: 1;\"/><path class=\"point\" transform=\"translate(540.05,183.5)\" d=\"M3,0A3,3 0 1,1 0,-3A3,3 0 0,1 3,0Z\" style=\"opacity: 1; stroke-width: 0px; fill: rgb(178, 24, 43); fill-opacity: 1;\"/><path class=\"point\" transform=\"translate(540.06,183.5)\" d=\"M3,0A3,3 0 1,1 0,-3A3,3 0 0,1 3,0Z\" style=\"opacity: 1; stroke-width: 0px; fill: rgb(178, 24, 43); fill-opacity: 1;\"/><path class=\"point\" transform=\"translate(540.9,183.5)\" d=\"M3,0A3,3 0 1,1 0,-3A3,3 0 0,1 3,0Z\" style=\"opacity: 1; stroke-width: 0px; fill: rgb(178, 24, 43); fill-opacity: 1;\"/><path class=\"point\" transform=\"translate(541.6,183.5)\" d=\"M3,0A3,3 0 1,1 0,-3A3,3 0 0,1 3,0Z\" style=\"opacity: 1; stroke-width: 0px; fill: rgb(178, 24, 43); fill-opacity: 1;\"/><path class=\"point\" transform=\"translate(542.09,183.5)\" d=\"M3,0A3,3 0 1,1 0,-3A3,3 0 0,1 3,0Z\" style=\"opacity: 1; stroke-width: 0px; fill: rgb(178, 24, 43); fill-opacity: 1;\"/><path class=\"point\" transform=\"translate(542.21,183.5)\" d=\"M3,0A3,3 0 1,1 0,-3A3,3 0 0,1 3,0Z\" style=\"opacity: 1; stroke-width: 0px; fill: rgb(178, 24, 43); fill-opacity: 1;\"/><path class=\"point\" transform=\"translate(542.22,183.5)\" d=\"M3,0A3,3 0 1,1 0,-3A3,3 0 0,1 3,0Z\" style=\"opacity: 1; stroke-width: 0px; fill: rgb(178, 24, 43); fill-opacity: 1;\"/><path class=\"point\" transform=\"translate(542.34,183.5)\" d=\"M3,0A3,3 0 1,1 0,-3A3,3 0 0,1 3,0Z\" style=\"opacity: 1; stroke-width: 0px; fill: rgb(178, 24, 43); fill-opacity: 1;\"/><path class=\"point\" transform=\"translate(542.42,183.5)\" d=\"M3,0A3,3 0 1,1 0,-3A3,3 0 0,1 3,0Z\" style=\"opacity: 1; stroke-width: 0px; fill: rgb(178, 24, 43); fill-opacity: 1;\"/><path class=\"point\" transform=\"translate(542.51,183.5)\" d=\"M3,0A3,3 0 1,1 0,-3A3,3 0 0,1 3,0Z\" style=\"opacity: 1; stroke-width: 0px; fill: rgb(178, 24, 43); fill-opacity: 1;\"/><path class=\"point\" transform=\"translate(542.58,183.5)\" d=\"M3,0A3,3 0 1,1 0,-3A3,3 0 0,1 3,0Z\" style=\"opacity: 1; stroke-width: 0px; fill: rgb(178, 24, 43); fill-opacity: 1;\"/><path class=\"point\" transform=\"translate(542.8,183.5)\" d=\"M3,0A3,3 0 1,1 0,-3A3,3 0 0,1 3,0Z\" style=\"opacity: 1; stroke-width: 0px; fill: rgb(178, 24, 43); fill-opacity: 1;\"/><path class=\"point\" transform=\"translate(543.26,183.5)\" d=\"M3,0A3,3 0 1,1 0,-3A3,3 0 0,1 3,0Z\" style=\"opacity: 1; stroke-width: 0px; fill: rgb(178, 24, 43); fill-opacity: 1;\"/><path class=\"point\" transform=\"translate(543.3,183.5)\" d=\"M3,0A3,3 0 1,1 0,-3A3,3 0 0,1 3,0Z\" style=\"opacity: 1; stroke-width: 0px; fill: rgb(178, 24, 43); fill-opacity: 1;\"/><path class=\"point\" transform=\"translate(543.48,183.5)\" d=\"M3,0A3,3 0 1,1 0,-3A3,3 0 0,1 3,0Z\" style=\"opacity: 1; stroke-width: 0px; fill: rgb(178, 24, 43); fill-opacity: 1;\"/><path class=\"point\" transform=\"translate(543.89,183.5)\" d=\"M3,0A3,3 0 1,1 0,-3A3,3 0 0,1 3,0Z\" style=\"opacity: 1; stroke-width: 0px; fill: rgb(178, 24, 43); fill-opacity: 1;\"/><path class=\"point\" transform=\"translate(543.9,183.5)\" d=\"M3,0A3,3 0 1,1 0,-3A3,3 0 0,1 3,0Z\" style=\"opacity: 1; stroke-width: 0px; fill: rgb(178, 24, 43); fill-opacity: 1;\"/><path class=\"point\" transform=\"translate(544.14,183.5)\" d=\"M3,0A3,3 0 1,1 0,-3A3,3 0 0,1 3,0Z\" style=\"opacity: 1; stroke-width: 0px; fill: rgb(178, 24, 43); fill-opacity: 1;\"/><path class=\"point\" transform=\"translate(544.16,183.5)\" d=\"M3,0A3,3 0 1,1 0,-3A3,3 0 0,1 3,0Z\" style=\"opacity: 1; stroke-width: 0px; fill: rgb(178, 24, 43); fill-opacity: 1;\"/><path class=\"point\" transform=\"translate(544.2,183.5)\" d=\"M3,0A3,3 0 1,1 0,-3A3,3 0 0,1 3,0Z\" style=\"opacity: 1; stroke-width: 0px; fill: rgb(178, 24, 43); fill-opacity: 1;\"/><path class=\"point\" transform=\"translate(544.21,183.5)\" d=\"M3,0A3,3 0 1,1 0,-3A3,3 0 0,1 3,0Z\" style=\"opacity: 1; stroke-width: 0px; fill: rgb(178, 24, 43); fill-opacity: 1;\"/><path class=\"point\" transform=\"translate(544.23,183.5)\" d=\"M3,0A3,3 0 1,1 0,-3A3,3 0 0,1 3,0Z\" style=\"opacity: 1; stroke-width: 0px; fill: rgb(178, 24, 43); fill-opacity: 1;\"/><path class=\"point\" transform=\"translate(544.33,183.5)\" d=\"M3,0A3,3 0 1,1 0,-3A3,3 0 0,1 3,0Z\" style=\"opacity: 1; stroke-width: 0px; fill: rgb(178, 24, 43); fill-opacity: 1;\"/><path class=\"point\" transform=\"translate(544.38,183.5)\" d=\"M3,0A3,3 0 1,1 0,-3A3,3 0 0,1 3,0Z\" style=\"opacity: 1; stroke-width: 0px; fill: rgb(178, 24, 43); fill-opacity: 1;\"/><path class=\"point\" transform=\"translate(544.43,183.5)\" d=\"M3,0A3,3 0 1,1 0,-3A3,3 0 0,1 3,0Z\" style=\"opacity: 1; stroke-width: 0px; fill: rgb(178, 24, 43); fill-opacity: 1;\"/><path class=\"point\" transform=\"translate(544.49,183.5)\" d=\"M3,0A3,3 0 1,1 0,-3A3,3 0 0,1 3,0Z\" style=\"opacity: 1; stroke-width: 0px; fill: rgb(178, 24, 43); fill-opacity: 1;\"/><path class=\"point\" transform=\"translate(544.6,183.5)\" d=\"M3,0A3,3 0 1,1 0,-3A3,3 0 0,1 3,0Z\" style=\"opacity: 1; stroke-width: 0px; fill: rgb(178, 24, 43); fill-opacity: 1;\"/><path class=\"point\" transform=\"translate(544.76,183.5)\" d=\"M3,0A3,3 0 1,1 0,-3A3,3 0 0,1 3,0Z\" style=\"opacity: 1; stroke-width: 0px; fill: rgb(178, 24, 43); fill-opacity: 1;\"/><path class=\"point\" transform=\"translate(545.02,183.5)\" d=\"M3,0A3,3 0 1,1 0,-3A3,3 0 0,1 3,0Z\" style=\"opacity: 1; stroke-width: 0px; fill: rgb(178, 24, 43); fill-opacity: 1;\"/><path class=\"point\" transform=\"translate(545.03,183.5)\" d=\"M3,0A3,3 0 1,1 0,-3A3,3 0 0,1 3,0Z\" style=\"opacity: 1; stroke-width: 0px; fill: rgb(178, 24, 43); fill-opacity: 1;\"/><path class=\"point\" transform=\"translate(545.23,183.5)\" d=\"M3,0A3,3 0 1,1 0,-3A3,3 0 0,1 3,0Z\" style=\"opacity: 1; stroke-width: 0px; fill: rgb(178, 24, 43); fill-opacity: 1;\"/><path class=\"point\" transform=\"translate(545.6,183.5)\" d=\"M3,0A3,3 0 1,1 0,-3A3,3 0 0,1 3,0Z\" style=\"opacity: 1; stroke-width: 0px; fill: rgb(178, 24, 43); fill-opacity: 1;\"/><path class=\"point\" transform=\"translate(545.71,183.5)\" d=\"M3,0A3,3 0 1,1 0,-3A3,3 0 0,1 3,0Z\" style=\"opacity: 1; stroke-width: 0px; fill: rgb(178, 24, 43); fill-opacity: 1;\"/><path class=\"point\" transform=\"translate(545.93,183.5)\" d=\"M3,0A3,3 0 1,1 0,-3A3,3 0 0,1 3,0Z\" style=\"opacity: 1; stroke-width: 0px; fill: rgb(178, 24, 43); fill-opacity: 1;\"/><path class=\"point\" transform=\"translate(546.07,183.5)\" d=\"M3,0A3,3 0 1,1 0,-3A3,3 0 0,1 3,0Z\" style=\"opacity: 1; stroke-width: 0px; fill: rgb(178, 24, 43); fill-opacity: 1;\"/><path class=\"point\" transform=\"translate(546.3,183.5)\" d=\"M3,0A3,3 0 1,1 0,-3A3,3 0 0,1 3,0Z\" style=\"opacity: 1; stroke-width: 0px; fill: rgb(178, 24, 43); fill-opacity: 1;\"/><path class=\"point\" transform=\"translate(546.34,183.5)\" d=\"M3,0A3,3 0 1,1 0,-3A3,3 0 0,1 3,0Z\" style=\"opacity: 1; stroke-width: 0px; fill: rgb(178, 24, 43); fill-opacity: 1;\"/><path class=\"point\" transform=\"translate(546.85,183.5)\" d=\"M3,0A3,3 0 1,1 0,-3A3,3 0 0,1 3,0Z\" style=\"opacity: 1; stroke-width: 0px; fill: rgb(178, 24, 43); fill-opacity: 1;\"/><path class=\"point\" transform=\"translate(546.88,183.5)\" d=\"M3,0A3,3 0 1,1 0,-3A3,3 0 0,1 3,0Z\" style=\"opacity: 1; stroke-width: 0px; fill: rgb(178, 24, 43); fill-opacity: 1;\"/><path class=\"point\" transform=\"translate(546.99,183.5)\" d=\"M3,0A3,3 0 1,1 0,-3A3,3 0 0,1 3,0Z\" style=\"opacity: 1; stroke-width: 0px; fill: rgb(178, 24, 43); fill-opacity: 1;\"/><path class=\"point\" transform=\"translate(547.05,183.5)\" d=\"M3,0A3,3 0 1,1 0,-3A3,3 0 0,1 3,0Z\" style=\"opacity: 1; stroke-width: 0px; fill: rgb(178, 24, 43); fill-opacity: 1;\"/><path class=\"point\" transform=\"translate(547.53,183.5)\" d=\"M3,0A3,3 0 1,1 0,-3A3,3 0 0,1 3,0Z\" style=\"opacity: 1; stroke-width: 0px; fill: rgb(178, 24, 43); fill-opacity: 1;\"/><path class=\"point\" transform=\"translate(547.54,183.5)\" d=\"M3,0A3,3 0 1,1 0,-3A3,3 0 0,1 3,0Z\" style=\"opacity: 1; stroke-width: 0px; fill: rgb(178, 24, 43); fill-opacity: 1;\"/><path class=\"point\" transform=\"translate(547.72,183.5)\" d=\"M3,0A3,3 0 1,1 0,-3A3,3 0 0,1 3,0Z\" style=\"opacity: 1; stroke-width: 0px; fill: rgb(178, 24, 43); fill-opacity: 1;\"/><path class=\"point\" transform=\"translate(547.77,183.5)\" d=\"M3,0A3,3 0 1,1 0,-3A3,3 0 0,1 3,0Z\" style=\"opacity: 1; stroke-width: 0px; fill: rgb(178, 24, 43); fill-opacity: 1;\"/><path class=\"point\" transform=\"translate(547.78,183.5)\" d=\"M3,0A3,3 0 1,1 0,-3A3,3 0 0,1 3,0Z\" style=\"opacity: 1; stroke-width: 0px; fill: rgb(178, 24, 43); fill-opacity: 1;\"/><path class=\"point\" transform=\"translate(547.89,183.5)\" d=\"M3,0A3,3 0 1,1 0,-3A3,3 0 0,1 3,0Z\" style=\"opacity: 1; stroke-width: 0px; fill: rgb(178, 24, 43); fill-opacity: 1;\"/><path class=\"point\" transform=\"translate(548.31,183.5)\" d=\"M3,0A3,3 0 1,1 0,-3A3,3 0 0,1 3,0Z\" style=\"opacity: 1; stroke-width: 0px; fill: rgb(178, 24, 43); fill-opacity: 1;\"/><path class=\"point\" transform=\"translate(548.74,183.5)\" d=\"M3,0A3,3 0 1,1 0,-3A3,3 0 0,1 3,0Z\" style=\"opacity: 1; stroke-width: 0px; fill: rgb(178, 24, 43); fill-opacity: 1;\"/><path class=\"point\" transform=\"translate(549.4,183.5)\" d=\"M3,0A3,3 0 1,1 0,-3A3,3 0 0,1 3,0Z\" style=\"opacity: 1; stroke-width: 0px; fill: rgb(178, 24, 43); fill-opacity: 1;\"/><path class=\"point\" transform=\"translate(549.65,183.5)\" d=\"M3,0A3,3 0 1,1 0,-3A3,3 0 0,1 3,0Z\" style=\"opacity: 1; stroke-width: 0px; fill: rgb(178, 24, 43); fill-opacity: 1;\"/><path class=\"point\" transform=\"translate(549.71,183.5)\" d=\"M3,0A3,3 0 1,1 0,-3A3,3 0 0,1 3,0Z\" style=\"opacity: 1; stroke-width: 0px; fill: rgb(178, 24, 43); fill-opacity: 1;\"/><path class=\"point\" transform=\"translate(550.21,183.5)\" d=\"M3,0A3,3 0 1,1 0,-3A3,3 0 0,1 3,0Z\" style=\"opacity: 1; stroke-width: 0px; fill: rgb(178, 24, 43); fill-opacity: 1;\"/><path class=\"point\" transform=\"translate(550.29,183.5)\" d=\"M3,0A3,3 0 1,1 0,-3A3,3 0 0,1 3,0Z\" style=\"opacity: 1; stroke-width: 0px; fill: rgb(178, 24, 43); fill-opacity: 1;\"/><path class=\"point\" transform=\"translate(550.37,183.5)\" d=\"M3,0A3,3 0 1,1 0,-3A3,3 0 0,1 3,0Z\" style=\"opacity: 1; stroke-width: 0px; fill: rgb(178, 24, 43); fill-opacity: 1;\"/><path class=\"point\" transform=\"translate(550.45,183.5)\" d=\"M3,0A3,3 0 1,1 0,-3A3,3 0 0,1 3,0Z\" style=\"opacity: 1; stroke-width: 0px; fill: rgb(178, 24, 43); fill-opacity: 1;\"/><path class=\"point\" transform=\"translate(550.52,183.5)\" d=\"M3,0A3,3 0 1,1 0,-3A3,3 0 0,1 3,0Z\" style=\"opacity: 1; stroke-width: 0px; fill: rgb(178, 24, 43); fill-opacity: 1;\"/><path class=\"point\" transform=\"translate(550.79,183.5)\" d=\"M3,0A3,3 0 1,1 0,-3A3,3 0 0,1 3,0Z\" style=\"opacity: 1; stroke-width: 0px; fill: rgb(178, 24, 43); fill-opacity: 1;\"/><path class=\"point\" transform=\"translate(550.8,183.5)\" d=\"M3,0A3,3 0 1,1 0,-3A3,3 0 0,1 3,0Z\" style=\"opacity: 1; stroke-width: 0px; fill: rgb(178, 24, 43); fill-opacity: 1;\"/><path class=\"point\" transform=\"translate(551.11,183.5)\" d=\"M3,0A3,3 0 1,1 0,-3A3,3 0 0,1 3,0Z\" style=\"opacity: 1; stroke-width: 0px; fill: rgb(178, 24, 43); fill-opacity: 1;\"/><path class=\"point\" transform=\"translate(551.34,183.5)\" d=\"M3,0A3,3 0 1,1 0,-3A3,3 0 0,1 3,0Z\" style=\"opacity: 1; stroke-width: 0px; fill: rgb(178, 24, 43); fill-opacity: 1;\"/><path class=\"point\" transform=\"translate(551.39,183.5)\" d=\"M3,0A3,3 0 1,1 0,-3A3,3 0 0,1 3,0Z\" style=\"opacity: 1; stroke-width: 0px; fill: rgb(178, 24, 43); fill-opacity: 1;\"/><path class=\"point\" transform=\"translate(551.62,183.5)\" d=\"M3,0A3,3 0 1,1 0,-3A3,3 0 0,1 3,0Z\" style=\"opacity: 1; stroke-width: 0px; fill: rgb(178, 24, 43); fill-opacity: 1;\"/><path class=\"point\" transform=\"translate(551.73,183.5)\" d=\"M3,0A3,3 0 1,1 0,-3A3,3 0 0,1 3,0Z\" style=\"opacity: 1; stroke-width: 0px; fill: rgb(178, 24, 43); fill-opacity: 1;\"/><path class=\"point\" transform=\"translate(551.87,183.5)\" d=\"M3,0A3,3 0 1,1 0,-3A3,3 0 0,1 3,0Z\" style=\"opacity: 1; stroke-width: 0px; fill: rgb(178, 24, 43); fill-opacity: 1;\"/><path class=\"point\" transform=\"translate(552.04,183.5)\" d=\"M3,0A3,3 0 1,1 0,-3A3,3 0 0,1 3,0Z\" style=\"opacity: 1; stroke-width: 0px; fill: rgb(178, 24, 43); fill-opacity: 1;\"/><path class=\"point\" transform=\"translate(552.16,183.5)\" d=\"M3,0A3,3 0 1,1 0,-3A3,3 0 0,1 3,0Z\" style=\"opacity: 1; stroke-width: 0px; fill: rgb(178, 24, 43); fill-opacity: 1;\"/><path class=\"point\" transform=\"translate(552.32,183.5)\" d=\"M3,0A3,3 0 1,1 0,-3A3,3 0 0,1 3,0Z\" style=\"opacity: 1; stroke-width: 0px; fill: rgb(178, 24, 43); fill-opacity: 1;\"/><path class=\"point\" transform=\"translate(552.43,183.5)\" d=\"M3,0A3,3 0 1,1 0,-3A3,3 0 0,1 3,0Z\" style=\"opacity: 1; stroke-width: 0px; fill: rgb(178, 24, 43); fill-opacity: 1;\"/><path class=\"point\" transform=\"translate(552.47,183.5)\" d=\"M3,0A3,3 0 1,1 0,-3A3,3 0 0,1 3,0Z\" style=\"opacity: 1; stroke-width: 0px; fill: rgb(178, 24, 43); fill-opacity: 1;\"/><path class=\"point\" transform=\"translate(552.53,183.5)\" d=\"M3,0A3,3 0 1,1 0,-3A3,3 0 0,1 3,0Z\" style=\"opacity: 1; stroke-width: 0px; fill: rgb(178, 24, 43); fill-opacity: 1;\"/><path class=\"point\" transform=\"translate(552.66,183.5)\" d=\"M3,0A3,3 0 1,1 0,-3A3,3 0 0,1 3,0Z\" style=\"opacity: 1; stroke-width: 0px; fill: rgb(178, 24, 43); fill-opacity: 1;\"/><path class=\"point\" transform=\"translate(552.78,183.5)\" d=\"M3,0A3,3 0 1,1 0,-3A3,3 0 0,1 3,0Z\" style=\"opacity: 1; stroke-width: 0px; fill: rgb(178, 24, 43); fill-opacity: 1;\"/><path class=\"point\" transform=\"translate(552.93,183.5)\" d=\"M3,0A3,3 0 1,1 0,-3A3,3 0 0,1 3,0Z\" style=\"opacity: 1; stroke-width: 0px; fill: rgb(178, 24, 43); fill-opacity: 1;\"/><path class=\"point\" transform=\"translate(553,183.5)\" d=\"M3,0A3,3 0 1,1 0,-3A3,3 0 0,1 3,0Z\" style=\"opacity: 1; stroke-width: 0px; fill: rgb(178, 24, 43); fill-opacity: 1;\"/><path class=\"point\" transform=\"translate(553.18,183.5)\" d=\"M3,0A3,3 0 1,1 0,-3A3,3 0 0,1 3,0Z\" style=\"opacity: 1; stroke-width: 0px; fill: rgb(178, 24, 43); fill-opacity: 1;\"/><path class=\"point\" transform=\"translate(554.33,183.5)\" d=\"M3,0A3,3 0 1,1 0,-3A3,3 0 0,1 3,0Z\" style=\"opacity: 1; stroke-width: 0px; fill: rgb(178, 24, 43); fill-opacity: 1;\"/><path class=\"point\" transform=\"translate(554.54,183.5)\" d=\"M3,0A3,3 0 1,1 0,-3A3,3 0 0,1 3,0Z\" style=\"opacity: 1; stroke-width: 0px; fill: rgb(178, 24, 43); fill-opacity: 1;\"/><path class=\"point\" transform=\"translate(554.55,183.5)\" d=\"M3,0A3,3 0 1,1 0,-3A3,3 0 0,1 3,0Z\" style=\"opacity: 1; stroke-width: 0px; fill: rgb(178, 24, 43); fill-opacity: 1;\"/><path class=\"point\" transform=\"translate(554.69,183.5)\" d=\"M3,0A3,3 0 1,1 0,-3A3,3 0 0,1 3,0Z\" style=\"opacity: 1; stroke-width: 0px; fill: rgb(178, 24, 43); fill-opacity: 1;\"/><path class=\"point\" transform=\"translate(554.85,183.5)\" d=\"M3,0A3,3 0 1,1 0,-3A3,3 0 0,1 3,0Z\" style=\"opacity: 1; stroke-width: 0px; fill: rgb(178, 24, 43); fill-opacity: 1;\"/><path class=\"point\" transform=\"translate(555.21,183.5)\" d=\"M3,0A3,3 0 1,1 0,-3A3,3 0 0,1 3,0Z\" style=\"opacity: 1; stroke-width: 0px; fill: rgb(178, 24, 43); fill-opacity: 1;\"/><path class=\"point\" transform=\"translate(555.36,183.5)\" d=\"M3,0A3,3 0 1,1 0,-3A3,3 0 0,1 3,0Z\" style=\"opacity: 1; stroke-width: 0px; fill: rgb(178, 24, 43); fill-opacity: 1;\"/><path class=\"point\" transform=\"translate(555.48,183.5)\" d=\"M3,0A3,3 0 1,1 0,-3A3,3 0 0,1 3,0Z\" style=\"opacity: 1; stroke-width: 0px; fill: rgb(178, 24, 43); fill-opacity: 1;\"/><path class=\"point\" transform=\"translate(555.8,183.5)\" d=\"M3,0A3,3 0 1,1 0,-3A3,3 0 0,1 3,0Z\" style=\"opacity: 1; stroke-width: 0px; fill: rgb(178, 24, 43); fill-opacity: 1;\"/><path class=\"point\" transform=\"translate(556.05,183.5)\" d=\"M3,0A3,3 0 1,1 0,-3A3,3 0 0,1 3,0Z\" style=\"opacity: 1; stroke-width: 0px; fill: rgb(178, 24, 43); fill-opacity: 1;\"/><path class=\"point\" transform=\"translate(556.14,183.5)\" d=\"M3,0A3,3 0 1,1 0,-3A3,3 0 0,1 3,0Z\" style=\"opacity: 1; stroke-width: 0px; fill: rgb(178, 24, 43); fill-opacity: 1;\"/><path class=\"point\" transform=\"translate(556.29,183.5)\" d=\"M3,0A3,3 0 1,1 0,-3A3,3 0 0,1 3,0Z\" style=\"opacity: 1; stroke-width: 0px; fill: rgb(178, 24, 43); fill-opacity: 1;\"/><path class=\"point\" transform=\"translate(556.87,183.5)\" d=\"M3,0A3,3 0 1,1 0,-3A3,3 0 0,1 3,0Z\" style=\"opacity: 1; stroke-width: 0px; fill: rgb(178, 24, 43); fill-opacity: 1;\"/><path class=\"point\" transform=\"translate(557.18,183.5)\" d=\"M3,0A3,3 0 1,1 0,-3A3,3 0 0,1 3,0Z\" style=\"opacity: 1; stroke-width: 0px; fill: rgb(178, 24, 43); fill-opacity: 1;\"/><path class=\"point\" transform=\"translate(557.8,183.5)\" d=\"M3,0A3,3 0 1,1 0,-3A3,3 0 0,1 3,0Z\" style=\"opacity: 1; stroke-width: 0px; fill: rgb(178, 24, 43); fill-opacity: 1;\"/><path class=\"point\" transform=\"translate(557.81,183.5)\" d=\"M3,0A3,3 0 1,1 0,-3A3,3 0 0,1 3,0Z\" style=\"opacity: 1; stroke-width: 0px; fill: rgb(178, 24, 43); fill-opacity: 1;\"/><path class=\"point\" transform=\"translate(557.9,183.5)\" d=\"M3,0A3,3 0 1,1 0,-3A3,3 0 0,1 3,0Z\" style=\"opacity: 1; stroke-width: 0px; fill: rgb(178, 24, 43); fill-opacity: 1;\"/><path class=\"point\" transform=\"translate(557.9,183.5)\" d=\"M3,0A3,3 0 1,1 0,-3A3,3 0 0,1 3,0Z\" style=\"opacity: 1; stroke-width: 0px; fill: rgb(178, 24, 43); fill-opacity: 1;\"/><path class=\"point\" transform=\"translate(558.15,183.5)\" d=\"M3,0A3,3 0 1,1 0,-3A3,3 0 0,1 3,0Z\" style=\"opacity: 1; stroke-width: 0px; fill: rgb(178, 24, 43); fill-opacity: 1;\"/><path class=\"point\" transform=\"translate(558.3,183.5)\" d=\"M3,0A3,3 0 1,1 0,-3A3,3 0 0,1 3,0Z\" style=\"opacity: 1; stroke-width: 0px; fill: rgb(178, 24, 43); fill-opacity: 1;\"/><path class=\"point\" transform=\"translate(558.39,183.5)\" d=\"M3,0A3,3 0 1,1 0,-3A3,3 0 0,1 3,0Z\" style=\"opacity: 1; stroke-width: 0px; fill: rgb(178, 24, 43); fill-opacity: 1;\"/><path class=\"point\" transform=\"translate(558.58,183.5)\" d=\"M3,0A3,3 0 1,1 0,-3A3,3 0 0,1 3,0Z\" style=\"opacity: 1; stroke-width: 0px; fill: rgb(178, 24, 43); fill-opacity: 1;\"/><path class=\"point\" transform=\"translate(558.84,183.5)\" d=\"M3,0A3,3 0 1,1 0,-3A3,3 0 0,1 3,0Z\" style=\"opacity: 1; stroke-width: 0px; fill: rgb(178, 24, 43); fill-opacity: 1;\"/><path class=\"point\" transform=\"translate(559.4,183.5)\" d=\"M3,0A3,3 0 1,1 0,-3A3,3 0 0,1 3,0Z\" style=\"opacity: 1; stroke-width: 0px; fill: rgb(178, 24, 43); fill-opacity: 1;\"/><path class=\"point\" transform=\"translate(559.96,183.5)\" d=\"M3,0A3,3 0 1,1 0,-3A3,3 0 0,1 3,0Z\" style=\"opacity: 1; stroke-width: 0px; fill: rgb(178, 24, 43); fill-opacity: 1;\"/><path class=\"point\" transform=\"translate(560.25,183.5)\" d=\"M3,0A3,3 0 1,1 0,-3A3,3 0 0,1 3,0Z\" style=\"opacity: 1; stroke-width: 0px; fill: rgb(178, 24, 43); fill-opacity: 1;\"/><path class=\"point\" transform=\"translate(560.42,183.5)\" d=\"M3,0A3,3 0 1,1 0,-3A3,3 0 0,1 3,0Z\" style=\"opacity: 1; stroke-width: 0px; fill: rgb(178, 24, 43); fill-opacity: 1;\"/><path class=\"point\" transform=\"translate(560.74,183.5)\" d=\"M3,0A3,3 0 1,1 0,-3A3,3 0 0,1 3,0Z\" style=\"opacity: 1; stroke-width: 0px; fill: rgb(178, 24, 43); fill-opacity: 1;\"/><path class=\"point\" transform=\"translate(560.86,183.5)\" d=\"M3,0A3,3 0 1,1 0,-3A3,3 0 0,1 3,0Z\" style=\"opacity: 1; stroke-width: 0px; fill: rgb(178, 24, 43); fill-opacity: 1;\"/><path class=\"point\" transform=\"translate(561.44,183.5)\" d=\"M3,0A3,3 0 1,1 0,-3A3,3 0 0,1 3,0Z\" style=\"opacity: 1; stroke-width: 0px; fill: rgb(178, 24, 43); fill-opacity: 1;\"/><path class=\"point\" transform=\"translate(561.77,183.5)\" d=\"M3,0A3,3 0 1,1 0,-3A3,3 0 0,1 3,0Z\" style=\"opacity: 1; stroke-width: 0px; fill: rgb(178, 24, 43); fill-opacity: 1;\"/><path class=\"point\" transform=\"translate(561.96,183.5)\" d=\"M3,0A3,3 0 1,1 0,-3A3,3 0 0,1 3,0Z\" style=\"opacity: 1; stroke-width: 0px; fill: rgb(178, 24, 43); fill-opacity: 1;\"/><path class=\"point\" transform=\"translate(561.97,183.5)\" d=\"M3,0A3,3 0 1,1 0,-3A3,3 0 0,1 3,0Z\" style=\"opacity: 1; stroke-width: 0px; fill: rgb(178, 24, 43); fill-opacity: 1;\"/><path class=\"point\" transform=\"translate(562.46,183.5)\" d=\"M3,0A3,3 0 1,1 0,-3A3,3 0 0,1 3,0Z\" style=\"opacity: 1; stroke-width: 0px; fill: rgb(178, 24, 43); fill-opacity: 1;\"/><path class=\"point\" transform=\"translate(562.68,183.5)\" d=\"M3,0A3,3 0 1,1 0,-3A3,3 0 0,1 3,0Z\" style=\"opacity: 1; stroke-width: 0px; fill: rgb(178, 24, 43); fill-opacity: 1;\"/><path class=\"point\" transform=\"translate(562.98,183.5)\" d=\"M3,0A3,3 0 1,1 0,-3A3,3 0 0,1 3,0Z\" style=\"opacity: 1; stroke-width: 0px; fill: rgb(178, 24, 43); fill-opacity: 1;\"/><path class=\"point\" transform=\"translate(563.14,183.5)\" d=\"M3,0A3,3 0 1,1 0,-3A3,3 0 0,1 3,0Z\" style=\"opacity: 1; stroke-width: 0px; fill: rgb(178, 24, 43); fill-opacity: 1;\"/><path class=\"point\" transform=\"translate(563.54,183.5)\" d=\"M3,0A3,3 0 1,1 0,-3A3,3 0 0,1 3,0Z\" style=\"opacity: 1; stroke-width: 0px; fill: rgb(178, 24, 43); fill-opacity: 1;\"/><path class=\"point\" transform=\"translate(564.02,183.5)\" d=\"M3,0A3,3 0 1,1 0,-3A3,3 0 0,1 3,0Z\" style=\"opacity: 1; stroke-width: 0px; fill: rgb(178, 24, 43); fill-opacity: 1;\"/><path class=\"point\" transform=\"translate(564.28,183.5)\" d=\"M3,0A3,3 0 1,1 0,-3A3,3 0 0,1 3,0Z\" style=\"opacity: 1; stroke-width: 0px; fill: rgb(178, 24, 43); fill-opacity: 1;\"/><path class=\"point\" transform=\"translate(564.39,183.5)\" d=\"M3,0A3,3 0 1,1 0,-3A3,3 0 0,1 3,0Z\" style=\"opacity: 1; stroke-width: 0px; fill: rgb(178, 24, 43); fill-opacity: 1;\"/><path class=\"point\" transform=\"translate(564.4,183.5)\" d=\"M3,0A3,3 0 1,1 0,-3A3,3 0 0,1 3,0Z\" style=\"opacity: 1; stroke-width: 0px; fill: rgb(178, 24, 43); fill-opacity: 1;\"/><path class=\"point\" transform=\"translate(564.42,183.5)\" d=\"M3,0A3,3 0 1,1 0,-3A3,3 0 0,1 3,0Z\" style=\"opacity: 1; stroke-width: 0px; fill: rgb(178, 24, 43); fill-opacity: 1;\"/><path class=\"point\" transform=\"translate(564.56,183.5)\" d=\"M3,0A3,3 0 1,1 0,-3A3,3 0 0,1 3,0Z\" style=\"opacity: 1; stroke-width: 0px; fill: rgb(178, 24, 43); fill-opacity: 1;\"/><path class=\"point\" transform=\"translate(564.75,183.5)\" d=\"M3,0A3,3 0 1,1 0,-3A3,3 0 0,1 3,0Z\" style=\"opacity: 1; stroke-width: 0px; fill: rgb(178, 24, 43); fill-opacity: 1;\"/><path class=\"point\" transform=\"translate(565.79,183.5)\" d=\"M3,0A3,3 0 1,1 0,-3A3,3 0 0,1 3,0Z\" style=\"opacity: 1; stroke-width: 0px; fill: rgb(178, 24, 43); fill-opacity: 1;\"/><path class=\"point\" transform=\"translate(566.29,183.5)\" d=\"M3,0A3,3 0 1,1 0,-3A3,3 0 0,1 3,0Z\" style=\"opacity: 1; stroke-width: 0px; fill: rgb(178, 24, 43); fill-opacity: 1;\"/><path class=\"point\" transform=\"translate(566.36,183.5)\" d=\"M3,0A3,3 0 1,1 0,-3A3,3 0 0,1 3,0Z\" style=\"opacity: 1; stroke-width: 0px; fill: rgb(178, 24, 43); fill-opacity: 1;\"/><path class=\"point\" transform=\"translate(566.4,183.5)\" d=\"M3,0A3,3 0 1,1 0,-3A3,3 0 0,1 3,0Z\" style=\"opacity: 1; stroke-width: 0px; fill: rgb(178, 24, 43); fill-opacity: 1;\"/><path class=\"point\" transform=\"translate(566.75,183.5)\" d=\"M3,0A3,3 0 1,1 0,-3A3,3 0 0,1 3,0Z\" style=\"opacity: 1; stroke-width: 0px; fill: rgb(178, 24, 43); fill-opacity: 1;\"/><path class=\"point\" transform=\"translate(567.64,183.5)\" d=\"M3,0A3,3 0 1,1 0,-3A3,3 0 0,1 3,0Z\" style=\"opacity: 1; stroke-width: 0px; fill: rgb(178, 24, 43); fill-opacity: 1;\"/><path class=\"point\" transform=\"translate(567.72,183.5)\" d=\"M3,0A3,3 0 1,1 0,-3A3,3 0 0,1 3,0Z\" style=\"opacity: 1; stroke-width: 0px; fill: rgb(178, 24, 43); fill-opacity: 1;\"/><path class=\"point\" transform=\"translate(567.75,183.5)\" d=\"M3,0A3,3 0 1,1 0,-3A3,3 0 0,1 3,0Z\" style=\"opacity: 1; stroke-width: 0px; fill: rgb(178, 24, 43); fill-opacity: 1;\"/><path class=\"point\" transform=\"translate(567.86,183.5)\" d=\"M3,0A3,3 0 1,1 0,-3A3,3 0 0,1 3,0Z\" style=\"opacity: 1; stroke-width: 0px; fill: rgb(178, 24, 43); fill-opacity: 1;\"/><path class=\"point\" transform=\"translate(567.96,183.5)\" d=\"M3,0A3,3 0 1,1 0,-3A3,3 0 0,1 3,0Z\" style=\"opacity: 1; stroke-width: 0px; fill: rgb(178, 24, 43); fill-opacity: 1;\"/><path class=\"point\" transform=\"translate(568.46,183.5)\" d=\"M3,0A3,3 0 1,1 0,-3A3,3 0 0,1 3,0Z\" style=\"opacity: 1; stroke-width: 0px; fill: rgb(178, 24, 43); fill-opacity: 1;\"/><path class=\"point\" transform=\"translate(568.71,183.5)\" d=\"M3,0A3,3 0 1,1 0,-3A3,3 0 0,1 3,0Z\" style=\"opacity: 1; stroke-width: 0px; fill: rgb(178, 24, 43); fill-opacity: 1;\"/><path class=\"point\" transform=\"translate(568.83,183.5)\" d=\"M3,0A3,3 0 1,1 0,-3A3,3 0 0,1 3,0Z\" style=\"opacity: 1; stroke-width: 0px; fill: rgb(178, 24, 43); fill-opacity: 1;\"/><path class=\"point\" transform=\"translate(569.23,183.5)\" d=\"M3,0A3,3 0 1,1 0,-3A3,3 0 0,1 3,0Z\" style=\"opacity: 1; stroke-width: 0px; fill: rgb(178, 24, 43); fill-opacity: 1;\"/><path class=\"point\" transform=\"translate(569.4,183.5)\" d=\"M3,0A3,3 0 1,1 0,-3A3,3 0 0,1 3,0Z\" style=\"opacity: 1; stroke-width: 0px; fill: rgb(178, 24, 43); fill-opacity: 1;\"/><path class=\"point\" transform=\"translate(569.43,183.5)\" d=\"M3,0A3,3 0 1,1 0,-3A3,3 0 0,1 3,0Z\" style=\"opacity: 1; stroke-width: 0px; fill: rgb(178, 24, 43); fill-opacity: 1;\"/><path class=\"point\" transform=\"translate(569.54,183.5)\" d=\"M3,0A3,3 0 1,1 0,-3A3,3 0 0,1 3,0Z\" style=\"opacity: 1; stroke-width: 0px; fill: rgb(178, 24, 43); fill-opacity: 1;\"/><path class=\"point\" transform=\"translate(570.17,183.5)\" d=\"M3,0A3,3 0 1,1 0,-3A3,3 0 0,1 3,0Z\" style=\"opacity: 1; stroke-width: 0px; fill: rgb(178, 24, 43); fill-opacity: 1;\"/><path class=\"point\" transform=\"translate(570.41,183.5)\" d=\"M3,0A3,3 0 1,1 0,-3A3,3 0 0,1 3,0Z\" style=\"opacity: 1; stroke-width: 0px; fill: rgb(178, 24, 43); fill-opacity: 1;\"/><path class=\"point\" transform=\"translate(570.42,183.5)\" d=\"M3,0A3,3 0 1,1 0,-3A3,3 0 0,1 3,0Z\" style=\"opacity: 1; stroke-width: 0px; fill: rgb(178, 24, 43); fill-opacity: 1;\"/><path class=\"point\" transform=\"translate(570.5,183.5)\" d=\"M3,0A3,3 0 1,1 0,-3A3,3 0 0,1 3,0Z\" style=\"opacity: 1; stroke-width: 0px; fill: rgb(178, 24, 43); fill-opacity: 1;\"/><path class=\"point\" transform=\"translate(571.05,183.5)\" d=\"M3,0A3,3 0 1,1 0,-3A3,3 0 0,1 3,0Z\" style=\"opacity: 1; stroke-width: 0px; fill: rgb(178, 24, 43); fill-opacity: 1;\"/><path class=\"point\" transform=\"translate(571.64,183.5)\" d=\"M3,0A3,3 0 1,1 0,-3A3,3 0 0,1 3,0Z\" style=\"opacity: 1; stroke-width: 0px; fill: rgb(178, 24, 43); fill-opacity: 1;\"/><path class=\"point\" transform=\"translate(572.19,183.5)\" d=\"M3,0A3,3 0 1,1 0,-3A3,3 0 0,1 3,0Z\" style=\"opacity: 1; stroke-width: 0px; fill: rgb(178, 24, 43); fill-opacity: 1;\"/><path class=\"point\" transform=\"translate(572.6,183.5)\" d=\"M3,0A3,3 0 1,1 0,-3A3,3 0 0,1 3,0Z\" style=\"opacity: 1; stroke-width: 0px; fill: rgb(178, 24, 43); fill-opacity: 1;\"/><path class=\"point\" transform=\"translate(573.13,183.5)\" d=\"M3,0A3,3 0 1,1 0,-3A3,3 0 0,1 3,0Z\" style=\"opacity: 1; stroke-width: 0px; fill: rgb(178, 24, 43); fill-opacity: 1;\"/><path class=\"point\" transform=\"translate(573.5,183.5)\" d=\"M3,0A3,3 0 1,1 0,-3A3,3 0 0,1 3,0Z\" style=\"opacity: 1; stroke-width: 0px; fill: rgb(178, 24, 43); fill-opacity: 1;\"/><path class=\"point\" transform=\"translate(573.79,183.5)\" d=\"M3,0A3,3 0 1,1 0,-3A3,3 0 0,1 3,0Z\" style=\"opacity: 1; stroke-width: 0px; fill: rgb(178, 24, 43); fill-opacity: 1;\"/><path class=\"point\" transform=\"translate(573.84,183.5)\" d=\"M3,0A3,3 0 1,1 0,-3A3,3 0 0,1 3,0Z\" style=\"opacity: 1; stroke-width: 0px; fill: rgb(178, 24, 43); fill-opacity: 1;\"/><path class=\"point\" transform=\"translate(573.95,183.5)\" d=\"M3,0A3,3 0 1,1 0,-3A3,3 0 0,1 3,0Z\" style=\"opacity: 1; stroke-width: 0px; fill: rgb(178, 24, 43); fill-opacity: 1;\"/><path class=\"point\" transform=\"translate(574.21,183.5)\" d=\"M3,0A3,3 0 1,1 0,-3A3,3 0 0,1 3,0Z\" style=\"opacity: 1; stroke-width: 0px; fill: rgb(178, 24, 43); fill-opacity: 1;\"/><path class=\"point\" transform=\"translate(574.45,183.5)\" d=\"M3,0A3,3 0 1,1 0,-3A3,3 0 0,1 3,0Z\" style=\"opacity: 1; stroke-width: 0px; fill: rgb(178, 24, 43); fill-opacity: 1;\"/><path class=\"point\" transform=\"translate(574.52,183.5)\" d=\"M3,0A3,3 0 1,1 0,-3A3,3 0 0,1 3,0Z\" style=\"opacity: 1; stroke-width: 0px; fill: rgb(178, 24, 43); fill-opacity: 1;\"/><path class=\"point\" transform=\"translate(574.64,183.5)\" d=\"M3,0A3,3 0 1,1 0,-3A3,3 0 0,1 3,0Z\" style=\"opacity: 1; stroke-width: 0px; fill: rgb(178, 24, 43); fill-opacity: 1;\"/><path class=\"point\" transform=\"translate(574.69,183.5)\" d=\"M3,0A3,3 0 1,1 0,-3A3,3 0 0,1 3,0Z\" style=\"opacity: 1; stroke-width: 0px; fill: rgb(178, 24, 43); fill-opacity: 1;\"/><path class=\"point\" transform=\"translate(575.06,183.5)\" d=\"M3,0A3,3 0 1,1 0,-3A3,3 0 0,1 3,0Z\" style=\"opacity: 1; stroke-width: 0px; fill: rgb(178, 24, 43); fill-opacity: 1;\"/><path class=\"point\" transform=\"translate(575.17,183.5)\" d=\"M3,0A3,3 0 1,1 0,-3A3,3 0 0,1 3,0Z\" style=\"opacity: 1; stroke-width: 0px; fill: rgb(178, 24, 43); fill-opacity: 1;\"/><path class=\"point\" transform=\"translate(575.3,183.5)\" d=\"M3,0A3,3 0 1,1 0,-3A3,3 0 0,1 3,0Z\" style=\"opacity: 1; stroke-width: 0px; fill: rgb(178, 24, 43); fill-opacity: 1;\"/><path class=\"point\" transform=\"translate(575.35,183.5)\" d=\"M3,0A3,3 0 1,1 0,-3A3,3 0 0,1 3,0Z\" style=\"opacity: 1; stroke-width: 0px; fill: rgb(178, 24, 43); fill-opacity: 1;\"/><path class=\"point\" transform=\"translate(575.45,183.5)\" d=\"M3,0A3,3 0 1,1 0,-3A3,3 0 0,1 3,0Z\" style=\"opacity: 1; stroke-width: 0px; fill: rgb(178, 24, 43); fill-opacity: 1;\"/><path class=\"point\" transform=\"translate(575.46,183.5)\" d=\"M3,0A3,3 0 1,1 0,-3A3,3 0 0,1 3,0Z\" style=\"opacity: 1; stroke-width: 0px; fill: rgb(178, 24, 43); fill-opacity: 1;\"/><path class=\"point\" transform=\"translate(575.79,183.5)\" d=\"M3,0A3,3 0 1,1 0,-3A3,3 0 0,1 3,0Z\" style=\"opacity: 1; stroke-width: 0px; fill: rgb(178, 24, 43); fill-opacity: 1;\"/><path class=\"point\" transform=\"translate(575.8,183.5)\" d=\"M3,0A3,3 0 1,1 0,-3A3,3 0 0,1 3,0Z\" style=\"opacity: 1; stroke-width: 0px; fill: rgb(178, 24, 43); fill-opacity: 1;\"/><path class=\"point\" transform=\"translate(576.74,183.5)\" d=\"M3,0A3,3 0 1,1 0,-3A3,3 0 0,1 3,0Z\" style=\"opacity: 1; stroke-width: 0px; fill: rgb(178, 24, 43); fill-opacity: 1;\"/><path class=\"point\" transform=\"translate(576.9,183.5)\" d=\"M3,0A3,3 0 1,1 0,-3A3,3 0 0,1 3,0Z\" style=\"opacity: 1; stroke-width: 0px; fill: rgb(178, 24, 43); fill-opacity: 1;\"/><path class=\"point\" transform=\"translate(577.08,183.5)\" d=\"M3,0A3,3 0 1,1 0,-3A3,3 0 0,1 3,0Z\" style=\"opacity: 1; stroke-width: 0px; fill: rgb(178, 24, 43); fill-opacity: 1;\"/><path class=\"point\" transform=\"translate(577.4,183.5)\" d=\"M3,0A3,3 0 1,1 0,-3A3,3 0 0,1 3,0Z\" style=\"opacity: 1; stroke-width: 0px; fill: rgb(178, 24, 43); fill-opacity: 1;\"/><path class=\"point\" transform=\"translate(577.59,183.5)\" d=\"M3,0A3,3 0 1,1 0,-3A3,3 0 0,1 3,0Z\" style=\"opacity: 1; stroke-width: 0px; fill: rgb(178, 24, 43); fill-opacity: 1;\"/><path class=\"point\" transform=\"translate(577.85,183.5)\" d=\"M3,0A3,3 0 1,1 0,-3A3,3 0 0,1 3,0Z\" style=\"opacity: 1; stroke-width: 0px; fill: rgb(178, 24, 43); fill-opacity: 1;\"/><path class=\"point\" transform=\"translate(578.01,183.5)\" d=\"M3,0A3,3 0 1,1 0,-3A3,3 0 0,1 3,0Z\" style=\"opacity: 1; stroke-width: 0px; fill: rgb(178, 24, 43); fill-opacity: 1;\"/><path class=\"point\" transform=\"translate(578.06,183.5)\" d=\"M3,0A3,3 0 1,1 0,-3A3,3 0 0,1 3,0Z\" style=\"opacity: 1; stroke-width: 0px; fill: rgb(178, 24, 43); fill-opacity: 1;\"/><path class=\"point\" transform=\"translate(578.3,183.5)\" d=\"M3,0A3,3 0 1,1 0,-3A3,3 0 0,1 3,0Z\" style=\"opacity: 1; stroke-width: 0px; fill: rgb(178, 24, 43); fill-opacity: 1;\"/><path class=\"point\" transform=\"translate(578.41,183.5)\" d=\"M3,0A3,3 0 1,1 0,-3A3,3 0 0,1 3,0Z\" style=\"opacity: 1; stroke-width: 0px; fill: rgb(178, 24, 43); fill-opacity: 1;\"/><path class=\"point\" transform=\"translate(578.51,183.5)\" d=\"M3,0A3,3 0 1,1 0,-3A3,3 0 0,1 3,0Z\" style=\"opacity: 1; stroke-width: 0px; fill: rgb(178, 24, 43); fill-opacity: 1;\"/><path class=\"point\" transform=\"translate(578.62,183.5)\" d=\"M3,0A3,3 0 1,1 0,-3A3,3 0 0,1 3,0Z\" style=\"opacity: 1; stroke-width: 0px; fill: rgb(178, 24, 43); fill-opacity: 1;\"/><path class=\"point\" transform=\"translate(578.65,183.5)\" d=\"M3,0A3,3 0 1,1 0,-3A3,3 0 0,1 3,0Z\" style=\"opacity: 1; stroke-width: 0px; fill: rgb(178, 24, 43); fill-opacity: 1;\"/><path class=\"point\" transform=\"translate(578.7,183.5)\" d=\"M3,0A3,3 0 1,1 0,-3A3,3 0 0,1 3,0Z\" style=\"opacity: 1; stroke-width: 0px; fill: rgb(178, 24, 43); fill-opacity: 1;\"/><path class=\"point\" transform=\"translate(578.88,183.5)\" d=\"M3,0A3,3 0 1,1 0,-3A3,3 0 0,1 3,0Z\" style=\"opacity: 1; stroke-width: 0px; fill: rgb(178, 24, 43); fill-opacity: 1;\"/><path class=\"point\" transform=\"translate(579.13,183.5)\" d=\"M3,0A3,3 0 1,1 0,-3A3,3 0 0,1 3,0Z\" style=\"opacity: 1; stroke-width: 0px; fill: rgb(178, 24, 43); fill-opacity: 1;\"/><path class=\"point\" transform=\"translate(579.5,183.5)\" d=\"M3,0A3,3 0 1,1 0,-3A3,3 0 0,1 3,0Z\" style=\"opacity: 1; stroke-width: 0px; fill: rgb(178, 24, 43); fill-opacity: 1;\"/><path class=\"point\" transform=\"translate(579.68,183.5)\" d=\"M3,0A3,3 0 1,1 0,-3A3,3 0 0,1 3,0Z\" style=\"opacity: 1; stroke-width: 0px; fill: rgb(178, 24, 43); fill-opacity: 1;\"/><path class=\"point\" transform=\"translate(580.28,183.5)\" d=\"M3,0A3,3 0 1,1 0,-3A3,3 0 0,1 3,0Z\" style=\"opacity: 1; stroke-width: 0px; fill: rgb(178, 24, 43); fill-opacity: 1;\"/><path class=\"point\" transform=\"translate(580.34,183.5)\" d=\"M3,0A3,3 0 1,1 0,-3A3,3 0 0,1 3,0Z\" style=\"opacity: 1; stroke-width: 0px; fill: rgb(178, 24, 43); fill-opacity: 1;\"/><path class=\"point\" transform=\"translate(580.57,183.5)\" d=\"M3,0A3,3 0 1,1 0,-3A3,3 0 0,1 3,0Z\" style=\"opacity: 1; stroke-width: 0px; fill: rgb(178, 24, 43); fill-opacity: 1;\"/><path class=\"point\" transform=\"translate(580.8,183.5)\" d=\"M3,0A3,3 0 1,1 0,-3A3,3 0 0,1 3,0Z\" style=\"opacity: 1; stroke-width: 0px; fill: rgb(178, 24, 43); fill-opacity: 1;\"/><path class=\"point\" transform=\"translate(580.83,183.5)\" d=\"M3,0A3,3 0 1,1 0,-3A3,3 0 0,1 3,0Z\" style=\"opacity: 1; stroke-width: 0px; fill: rgb(178, 24, 43); fill-opacity: 1;\"/><path class=\"point\" transform=\"translate(580.99,183.5)\" d=\"M3,0A3,3 0 1,1 0,-3A3,3 0 0,1 3,0Z\" style=\"opacity: 1; stroke-width: 0px; fill: rgb(178, 24, 43); fill-opacity: 1;\"/><path class=\"point\" transform=\"translate(581.17,183.5)\" d=\"M3,0A3,3 0 1,1 0,-3A3,3 0 0,1 3,0Z\" style=\"opacity: 1; stroke-width: 0px; fill: rgb(178, 24, 43); fill-opacity: 1;\"/><path class=\"point\" transform=\"translate(581.33,183.5)\" d=\"M3,0A3,3 0 1,1 0,-3A3,3 0 0,1 3,0Z\" style=\"opacity: 1; stroke-width: 0px; fill: rgb(178, 24, 43); fill-opacity: 1;\"/><path class=\"point\" transform=\"translate(581.98,183.5)\" d=\"M3,0A3,3 0 1,1 0,-3A3,3 0 0,1 3,0Z\" style=\"opacity: 1; stroke-width: 0px; fill: rgb(178, 24, 43); fill-opacity: 1;\"/><path class=\"point\" transform=\"translate(582.1,183.5)\" d=\"M3,0A3,3 0 1,1 0,-3A3,3 0 0,1 3,0Z\" style=\"opacity: 1; stroke-width: 0px; fill: rgb(178, 24, 43); fill-opacity: 1;\"/><path class=\"point\" transform=\"translate(582.46,183.5)\" d=\"M3,0A3,3 0 1,1 0,-3A3,3 0 0,1 3,0Z\" style=\"opacity: 1; stroke-width: 0px; fill: rgb(178, 24, 43); fill-opacity: 1;\"/><path class=\"point\" transform=\"translate(582.84,183.5)\" d=\"M3,0A3,3 0 1,1 0,-3A3,3 0 0,1 3,0Z\" style=\"opacity: 1; stroke-width: 0px; fill: rgb(178, 24, 43); fill-opacity: 1;\"/><path class=\"point\" transform=\"translate(583.14,183.5)\" d=\"M3,0A3,3 0 1,1 0,-3A3,3 0 0,1 3,0Z\" style=\"opacity: 1; stroke-width: 0px; fill: rgb(178, 24, 43); fill-opacity: 1;\"/><path class=\"point\" transform=\"translate(583.27,183.5)\" d=\"M3,0A3,3 0 1,1 0,-3A3,3 0 0,1 3,0Z\" style=\"opacity: 1; stroke-width: 0px; fill: rgb(178, 24, 43); fill-opacity: 1;\"/><path class=\"point\" transform=\"translate(583.63,183.5)\" d=\"M3,0A3,3 0 1,1 0,-3A3,3 0 0,1 3,0Z\" style=\"opacity: 1; stroke-width: 0px; fill: rgb(178, 24, 43); fill-opacity: 1;\"/><path class=\"point\" transform=\"translate(583.71,183.5)\" d=\"M3,0A3,3 0 1,1 0,-3A3,3 0 0,1 3,0Z\" style=\"opacity: 1; stroke-width: 0px; fill: rgb(178, 24, 43); fill-opacity: 1;\"/><path class=\"point\" transform=\"translate(583.89,183.5)\" d=\"M3,0A3,3 0 1,1 0,-3A3,3 0 0,1 3,0Z\" style=\"opacity: 1; stroke-width: 0px; fill: rgb(178, 24, 43); fill-opacity: 1;\"/><path class=\"point\" transform=\"translate(584.15,183.5)\" d=\"M3,0A3,3 0 1,1 0,-3A3,3 0 0,1 3,0Z\" style=\"opacity: 1; stroke-width: 0px; fill: rgb(178, 24, 43); fill-opacity: 1;\"/><path class=\"point\" transform=\"translate(584.3,183.5)\" d=\"M3,0A3,3 0 1,1 0,-3A3,3 0 0,1 3,0Z\" style=\"opacity: 1; stroke-width: 0px; fill: rgb(178, 24, 43); fill-opacity: 1;\"/><path class=\"point\" transform=\"translate(584.42,183.5)\" d=\"M3,0A3,3 0 1,1 0,-3A3,3 0 0,1 3,0Z\" style=\"opacity: 1; stroke-width: 0px; fill: rgb(178, 24, 43); fill-opacity: 1;\"/><path class=\"point\" transform=\"translate(584.46,183.5)\" d=\"M3,0A3,3 0 1,1 0,-3A3,3 0 0,1 3,0Z\" style=\"opacity: 1; stroke-width: 0px; fill: rgb(178, 24, 43); fill-opacity: 1;\"/><path class=\"point\" transform=\"translate(584.59,183.5)\" d=\"M3,0A3,3 0 1,1 0,-3A3,3 0 0,1 3,0Z\" style=\"opacity: 1; stroke-width: 0px; fill: rgb(178, 24, 43); fill-opacity: 1;\"/><path class=\"point\" transform=\"translate(585.26,183.5)\" d=\"M3,0A3,3 0 1,1 0,-3A3,3 0 0,1 3,0Z\" style=\"opacity: 1; stroke-width: 0px; fill: rgb(178, 24, 43); fill-opacity: 1;\"/><path class=\"point\" transform=\"translate(585.39,183.5)\" d=\"M3,0A3,3 0 1,1 0,-3A3,3 0 0,1 3,0Z\" style=\"opacity: 1; stroke-width: 0px; fill: rgb(178, 24, 43); fill-opacity: 1;\"/><path class=\"point\" transform=\"translate(585.66,183.5)\" d=\"M3,0A3,3 0 1,1 0,-3A3,3 0 0,1 3,0Z\" style=\"opacity: 1; stroke-width: 0px; fill: rgb(178, 24, 43); fill-opacity: 1;\"/><path class=\"point\" transform=\"translate(585.92,183.5)\" d=\"M3,0A3,3 0 1,1 0,-3A3,3 0 0,1 3,0Z\" style=\"opacity: 1; stroke-width: 0px; fill: rgb(178, 24, 43); fill-opacity: 1;\"/><path class=\"point\" transform=\"translate(586.85,183.5)\" d=\"M3,0A3,3 0 1,1 0,-3A3,3 0 0,1 3,0Z\" style=\"opacity: 1; stroke-width: 0px; fill: rgb(178, 24, 43); fill-opacity: 1;\"/><path class=\"point\" transform=\"translate(587.03,183.5)\" d=\"M3,0A3,3 0 1,1 0,-3A3,3 0 0,1 3,0Z\" style=\"opacity: 1; stroke-width: 0px; fill: rgb(178, 24, 43); fill-opacity: 1;\"/><path class=\"point\" transform=\"translate(587.3,183.5)\" d=\"M3,0A3,3 0 1,1 0,-3A3,3 0 0,1 3,0Z\" style=\"opacity: 1; stroke-width: 0px; fill: rgb(178, 24, 43); fill-opacity: 1;\"/><path class=\"point\" transform=\"translate(587.42,183.5)\" d=\"M3,0A3,3 0 1,1 0,-3A3,3 0 0,1 3,0Z\" style=\"opacity: 1; stroke-width: 0px; fill: rgb(178, 24, 43); fill-opacity: 1;\"/><path class=\"point\" transform=\"translate(587.55,183.5)\" d=\"M3,0A3,3 0 1,1 0,-3A3,3 0 0,1 3,0Z\" style=\"opacity: 1; stroke-width: 0px; fill: rgb(178, 24, 43); fill-opacity: 1;\"/><path class=\"point\" transform=\"translate(587.57,183.5)\" d=\"M3,0A3,3 0 1,1 0,-3A3,3 0 0,1 3,0Z\" style=\"opacity: 1; stroke-width: 0px; fill: rgb(178, 24, 43); fill-opacity: 1;\"/><path class=\"point\" transform=\"translate(588.05,183.5)\" d=\"M3,0A3,3 0 1,1 0,-3A3,3 0 0,1 3,0Z\" style=\"opacity: 1; stroke-width: 0px; fill: rgb(178, 24, 43); fill-opacity: 1;\"/><path class=\"point\" transform=\"translate(588.21,183.5)\" d=\"M3,0A3,3 0 1,1 0,-3A3,3 0 0,1 3,0Z\" style=\"opacity: 1; stroke-width: 0px; fill: rgb(178, 24, 43); fill-opacity: 1;\"/><path class=\"point\" transform=\"translate(588.57,183.5)\" d=\"M3,0A3,3 0 1,1 0,-3A3,3 0 0,1 3,0Z\" style=\"opacity: 1; stroke-width: 0px; fill: rgb(178, 24, 43); fill-opacity: 1;\"/><path class=\"point\" transform=\"translate(588.72,183.5)\" d=\"M3,0A3,3 0 1,1 0,-3A3,3 0 0,1 3,0Z\" style=\"opacity: 1; stroke-width: 0px; fill: rgb(178, 24, 43); fill-opacity: 1;\"/><path class=\"point\" transform=\"translate(589.07,183.5)\" d=\"M3,0A3,3 0 1,1 0,-3A3,3 0 0,1 3,0Z\" style=\"opacity: 1; stroke-width: 0px; fill: rgb(178, 24, 43); fill-opacity: 1;\"/><path class=\"point\" transform=\"translate(589.07,183.5)\" d=\"M3,0A3,3 0 1,1 0,-3A3,3 0 0,1 3,0Z\" style=\"opacity: 1; stroke-width: 0px; fill: rgb(178, 24, 43); fill-opacity: 1;\"/><path class=\"point\" transform=\"translate(589.32,183.5)\" d=\"M3,0A3,3 0 1,1 0,-3A3,3 0 0,1 3,0Z\" style=\"opacity: 1; stroke-width: 0px; fill: rgb(178, 24, 43); fill-opacity: 1;\"/><path class=\"point\" transform=\"translate(589.51,183.5)\" d=\"M3,0A3,3 0 1,1 0,-3A3,3 0 0,1 3,0Z\" style=\"opacity: 1; stroke-width: 0px; fill: rgb(178, 24, 43); fill-opacity: 1;\"/><path class=\"point\" transform=\"translate(589.6,183.5)\" d=\"M3,0A3,3 0 1,1 0,-3A3,3 0 0,1 3,0Z\" style=\"opacity: 1; stroke-width: 0px; fill: rgb(178, 24, 43); fill-opacity: 1;\"/><path class=\"point\" transform=\"translate(589.84,183.5)\" d=\"M3,0A3,3 0 1,1 0,-3A3,3 0 0,1 3,0Z\" style=\"opacity: 1; stroke-width: 0px; fill: rgb(178, 24, 43); fill-opacity: 1;\"/><path class=\"point\" transform=\"translate(590.34,183.5)\" d=\"M3,0A3,3 0 1,1 0,-3A3,3 0 0,1 3,0Z\" style=\"opacity: 1; stroke-width: 0px; fill: rgb(178, 24, 43); fill-opacity: 1;\"/><path class=\"point\" transform=\"translate(590.37,183.5)\" d=\"M3,0A3,3 0 1,1 0,-3A3,3 0 0,1 3,0Z\" style=\"opacity: 1; stroke-width: 0px; fill: rgb(178, 24, 43); fill-opacity: 1;\"/><path class=\"point\" transform=\"translate(590.44,183.5)\" d=\"M3,0A3,3 0 1,1 0,-3A3,3 0 0,1 3,0Z\" style=\"opacity: 1; stroke-width: 0px; fill: rgb(178, 24, 43); fill-opacity: 1;\"/><path class=\"point\" transform=\"translate(590.53,183.5)\" d=\"M3,0A3,3 0 1,1 0,-3A3,3 0 0,1 3,0Z\" style=\"opacity: 1; stroke-width: 0px; fill: rgb(178, 24, 43); fill-opacity: 1;\"/><path class=\"point\" transform=\"translate(590.99,183.5)\" d=\"M3,0A3,3 0 1,1 0,-3A3,3 0 0,1 3,0Z\" style=\"opacity: 1; stroke-width: 0px; fill: rgb(178, 24, 43); fill-opacity: 1;\"/><path class=\"point\" transform=\"translate(591.44,183.5)\" d=\"M3,0A3,3 0 1,1 0,-3A3,3 0 0,1 3,0Z\" style=\"opacity: 1; stroke-width: 0px; fill: rgb(178, 24, 43); fill-opacity: 1;\"/><path class=\"point\" transform=\"translate(591.69,183.5)\" d=\"M3,0A3,3 0 1,1 0,-3A3,3 0 0,1 3,0Z\" style=\"opacity: 1; stroke-width: 0px; fill: rgb(178, 24, 43); fill-opacity: 1;\"/><path class=\"point\" transform=\"translate(591.9,183.5)\" d=\"M3,0A3,3 0 1,1 0,-3A3,3 0 0,1 3,0Z\" style=\"opacity: 1; stroke-width: 0px; fill: rgb(178, 24, 43); fill-opacity: 1;\"/><path class=\"point\" transform=\"translate(591.91,183.5)\" d=\"M3,0A3,3 0 1,1 0,-3A3,3 0 0,1 3,0Z\" style=\"opacity: 1; stroke-width: 0px; fill: rgb(178, 24, 43); fill-opacity: 1;\"/><path class=\"point\" transform=\"translate(592.14,183.5)\" d=\"M3,0A3,3 0 1,1 0,-3A3,3 0 0,1 3,0Z\" style=\"opacity: 1; stroke-width: 0px; fill: rgb(178, 24, 43); fill-opacity: 1;\"/><path class=\"point\" transform=\"translate(592.29,183.5)\" d=\"M3,0A3,3 0 1,1 0,-3A3,3 0 0,1 3,0Z\" style=\"opacity: 1; stroke-width: 0px; fill: rgb(178, 24, 43); fill-opacity: 1;\"/><path class=\"point\" transform=\"translate(592.31,183.5)\" d=\"M3,0A3,3 0 1,1 0,-3A3,3 0 0,1 3,0Z\" style=\"opacity: 1; stroke-width: 0px; fill: rgb(178, 24, 43); fill-opacity: 1;\"/><path class=\"point\" transform=\"translate(592.91,183.5)\" d=\"M3,0A3,3 0 1,1 0,-3A3,3 0 0,1 3,0Z\" style=\"opacity: 1; stroke-width: 0px; fill: rgb(178, 24, 43); fill-opacity: 1;\"/><path class=\"point\" transform=\"translate(593.16,183.5)\" d=\"M3,0A3,3 0 1,1 0,-3A3,3 0 0,1 3,0Z\" style=\"opacity: 1; stroke-width: 0px; fill: rgb(178, 24, 43); fill-opacity: 1;\"/><path class=\"point\" transform=\"translate(593.21,183.5)\" d=\"M3,0A3,3 0 1,1 0,-3A3,3 0 0,1 3,0Z\" style=\"opacity: 1; stroke-width: 0px; fill: rgb(178, 24, 43); fill-opacity: 1;\"/><path class=\"point\" transform=\"translate(594.23,183.5)\" d=\"M3,0A3,3 0 1,1 0,-3A3,3 0 0,1 3,0Z\" style=\"opacity: 1; stroke-width: 0px; fill: rgb(178, 24, 43); fill-opacity: 1;\"/><path class=\"point\" transform=\"translate(594.59,183.5)\" d=\"M3,0A3,3 0 1,1 0,-3A3,3 0 0,1 3,0Z\" style=\"opacity: 1; stroke-width: 0px; fill: rgb(178, 24, 43); fill-opacity: 1;\"/><path class=\"point\" transform=\"translate(594.72,183.5)\" d=\"M3,0A3,3 0 1,1 0,-3A3,3 0 0,1 3,0Z\" style=\"opacity: 1; stroke-width: 0px; fill: rgb(178, 24, 43); fill-opacity: 1;\"/><path class=\"point\" transform=\"translate(595.3,183.5)\" d=\"M3,0A3,3 0 1,1 0,-3A3,3 0 0,1 3,0Z\" style=\"opacity: 1; stroke-width: 0px; fill: rgb(178, 24, 43); fill-opacity: 1;\"/><path class=\"point\" transform=\"translate(595.32,183.5)\" d=\"M3,0A3,3 0 1,1 0,-3A3,3 0 0,1 3,0Z\" style=\"opacity: 1; stroke-width: 0px; fill: rgb(178, 24, 43); fill-opacity: 1;\"/><path class=\"point\" transform=\"translate(595.53,183.5)\" d=\"M3,0A3,3 0 1,1 0,-3A3,3 0 0,1 3,0Z\" style=\"opacity: 1; stroke-width: 0px; fill: rgb(178, 24, 43); fill-opacity: 1;\"/><path class=\"point\" transform=\"translate(595.54,183.5)\" d=\"M3,0A3,3 0 1,1 0,-3A3,3 0 0,1 3,0Z\" style=\"opacity: 1; stroke-width: 0px; fill: rgb(178, 24, 43); fill-opacity: 1;\"/><path class=\"point\" transform=\"translate(595.59,183.5)\" d=\"M3,0A3,3 0 1,1 0,-3A3,3 0 0,1 3,0Z\" style=\"opacity: 1; stroke-width: 0px; fill: rgb(178, 24, 43); fill-opacity: 1;\"/><path class=\"point\" transform=\"translate(595.72,183.5)\" d=\"M3,0A3,3 0 1,1 0,-3A3,3 0 0,1 3,0Z\" style=\"opacity: 1; stroke-width: 0px; fill: rgb(178, 24, 43); fill-opacity: 1;\"/><path class=\"point\" transform=\"translate(595.77,183.5)\" d=\"M3,0A3,3 0 1,1 0,-3A3,3 0 0,1 3,0Z\" style=\"opacity: 1; stroke-width: 0px; fill: rgb(178, 24, 43); fill-opacity: 1;\"/><path class=\"point\" transform=\"translate(595.79,183.5)\" d=\"M3,0A3,3 0 1,1 0,-3A3,3 0 0,1 3,0Z\" style=\"opacity: 1; stroke-width: 0px; fill: rgb(178, 24, 43); fill-opacity: 1;\"/><path class=\"point\" transform=\"translate(595.85,183.5)\" d=\"M3,0A3,3 0 1,1 0,-3A3,3 0 0,1 3,0Z\" style=\"opacity: 1; stroke-width: 0px; fill: rgb(178, 24, 43); fill-opacity: 1;\"/><path class=\"point\" transform=\"translate(595.98,183.5)\" d=\"M3,0A3,3 0 1,1 0,-3A3,3 0 0,1 3,0Z\" style=\"opacity: 1; stroke-width: 0px; fill: rgb(178, 24, 43); fill-opacity: 1;\"/><path class=\"point\" transform=\"translate(596.33,183.5)\" d=\"M3,0A3,3 0 1,1 0,-3A3,3 0 0,1 3,0Z\" style=\"opacity: 1; stroke-width: 0px; fill: rgb(178, 24, 43); fill-opacity: 1;\"/><path class=\"point\" transform=\"translate(597.2,183.5)\" d=\"M3,0A3,3 0 1,1 0,-3A3,3 0 0,1 3,0Z\" style=\"opacity: 1; stroke-width: 0px; fill: rgb(178, 24, 43); fill-opacity: 1;\"/><path class=\"point\" transform=\"translate(597.84,183.5)\" d=\"M3,0A3,3 0 1,1 0,-3A3,3 0 0,1 3,0Z\" style=\"opacity: 1; stroke-width: 0px; fill: rgb(178, 24, 43); fill-opacity: 1;\"/><path class=\"point\" transform=\"translate(598.14,183.5)\" d=\"M3,0A3,3 0 1,1 0,-3A3,3 0 0,1 3,0Z\" style=\"opacity: 1; stroke-width: 0px; fill: rgb(178, 24, 43); fill-opacity: 1;\"/><path class=\"point\" transform=\"translate(598.17,183.5)\" d=\"M3,0A3,3 0 1,1 0,-3A3,3 0 0,1 3,0Z\" style=\"opacity: 1; stroke-width: 0px; fill: rgb(178, 24, 43); fill-opacity: 1;\"/><path class=\"point\" transform=\"translate(598.49,183.5)\" d=\"M3,0A3,3 0 1,1 0,-3A3,3 0 0,1 3,0Z\" style=\"opacity: 1; stroke-width: 0px; fill: rgb(178, 24, 43); fill-opacity: 1;\"/><path class=\"point\" transform=\"translate(598.67,183.5)\" d=\"M3,0A3,3 0 1,1 0,-3A3,3 0 0,1 3,0Z\" style=\"opacity: 1; stroke-width: 0px; fill: rgb(178, 24, 43); fill-opacity: 1;\"/><path class=\"point\" transform=\"translate(598.75,183.5)\" d=\"M3,0A3,3 0 1,1 0,-3A3,3 0 0,1 3,0Z\" style=\"opacity: 1; stroke-width: 0px; fill: rgb(178, 24, 43); fill-opacity: 1;\"/><path class=\"point\" transform=\"translate(598.88,183.5)\" d=\"M3,0A3,3 0 1,1 0,-3A3,3 0 0,1 3,0Z\" style=\"opacity: 1; stroke-width: 0px; fill: rgb(178, 24, 43); fill-opacity: 1;\"/><path class=\"point\" transform=\"translate(599.68,183.5)\" d=\"M3,0A3,3 0 1,1 0,-3A3,3 0 0,1 3,0Z\" style=\"opacity: 1; stroke-width: 0px; fill: rgb(178, 24, 43); fill-opacity: 1;\"/><path class=\"point\" transform=\"translate(599.97,183.5)\" d=\"M3,0A3,3 0 1,1 0,-3A3,3 0 0,1 3,0Z\" style=\"opacity: 1; stroke-width: 0px; fill: rgb(178, 24, 43); fill-opacity: 1;\"/><path class=\"point\" transform=\"translate(600.63,183.5)\" d=\"M3,0A3,3 0 1,1 0,-3A3,3 0 0,1 3,0Z\" style=\"opacity: 1; stroke-width: 0px; fill: rgb(178, 24, 43); fill-opacity: 1;\"/><path class=\"point\" transform=\"translate(600.84,183.5)\" d=\"M3,0A3,3 0 1,1 0,-3A3,3 0 0,1 3,0Z\" style=\"opacity: 1; stroke-width: 0px; fill: rgb(178, 24, 43); fill-opacity: 1;\"/><path class=\"point\" transform=\"translate(600.94,183.5)\" d=\"M3,0A3,3 0 1,1 0,-3A3,3 0 0,1 3,0Z\" style=\"opacity: 1; stroke-width: 0px; fill: rgb(178, 24, 43); fill-opacity: 1;\"/><path class=\"point\" transform=\"translate(601.25,183.5)\" d=\"M3,0A3,3 0 1,1 0,-3A3,3 0 0,1 3,0Z\" style=\"opacity: 1; stroke-width: 0px; fill: rgb(178, 24, 43); fill-opacity: 1;\"/><path class=\"point\" transform=\"translate(601.73,183.5)\" d=\"M3,0A3,3 0 1,1 0,-3A3,3 0 0,1 3,0Z\" style=\"opacity: 1; stroke-width: 0px; fill: rgb(178, 24, 43); fill-opacity: 1;\"/><path class=\"point\" transform=\"translate(601.78,183.5)\" d=\"M3,0A3,3 0 1,1 0,-3A3,3 0 0,1 3,0Z\" style=\"opacity: 1; stroke-width: 0px; fill: rgb(178, 24, 43); fill-opacity: 1;\"/><path class=\"point\" transform=\"translate(601.97,183.5)\" d=\"M3,0A3,3 0 1,1 0,-3A3,3 0 0,1 3,0Z\" style=\"opacity: 1; stroke-width: 0px; fill: rgb(178, 24, 43); fill-opacity: 1;\"/><path class=\"point\" transform=\"translate(602.28,183.5)\" d=\"M3,0A3,3 0 1,1 0,-3A3,3 0 0,1 3,0Z\" style=\"opacity: 1; stroke-width: 0px; fill: rgb(178, 24, 43); fill-opacity: 1;\"/><path class=\"point\" transform=\"translate(602.59,183.5)\" d=\"M3,0A3,3 0 1,1 0,-3A3,3 0 0,1 3,0Z\" style=\"opacity: 1; stroke-width: 0px; fill: rgb(178, 24, 43); fill-opacity: 1;\"/><path class=\"point\" transform=\"translate(603.48,183.5)\" d=\"M3,0A3,3 0 1,1 0,-3A3,3 0 0,1 3,0Z\" style=\"opacity: 1; stroke-width: 0px; fill: rgb(178, 24, 43); fill-opacity: 1;\"/><path class=\"point\" transform=\"translate(603.69,183.5)\" d=\"M3,0A3,3 0 1,1 0,-3A3,3 0 0,1 3,0Z\" style=\"opacity: 1; stroke-width: 0px; fill: rgb(178, 24, 43); fill-opacity: 1;\"/><path class=\"point\" transform=\"translate(604.22,183.5)\" d=\"M3,0A3,3 0 1,1 0,-3A3,3 0 0,1 3,0Z\" style=\"opacity: 1; stroke-width: 0px; fill: rgb(178, 24, 43); fill-opacity: 1;\"/><path class=\"point\" transform=\"translate(604.32,183.5)\" d=\"M3,0A3,3 0 1,1 0,-3A3,3 0 0,1 3,0Z\" style=\"opacity: 1; stroke-width: 0px; fill: rgb(178, 24, 43); fill-opacity: 1;\"/><path class=\"point\" transform=\"translate(604.73,183.5)\" d=\"M3,0A3,3 0 1,1 0,-3A3,3 0 0,1 3,0Z\" style=\"opacity: 1; stroke-width: 0px; fill: rgb(178, 24, 43); fill-opacity: 1;\"/><path class=\"point\" transform=\"translate(604.9,183.5)\" d=\"M3,0A3,3 0 1,1 0,-3A3,3 0 0,1 3,0Z\" style=\"opacity: 1; stroke-width: 0px; fill: rgb(178, 24, 43); fill-opacity: 1;\"/><path class=\"point\" transform=\"translate(605.03,183.5)\" d=\"M3,0A3,3 0 1,1 0,-3A3,3 0 0,1 3,0Z\" style=\"opacity: 1; stroke-width: 0px; fill: rgb(178, 24, 43); fill-opacity: 1;\"/><path class=\"point\" transform=\"translate(605.24,183.5)\" d=\"M3,0A3,3 0 1,1 0,-3A3,3 0 0,1 3,0Z\" style=\"opacity: 1; stroke-width: 0px; fill: rgb(178, 24, 43); fill-opacity: 1;\"/><path class=\"point\" transform=\"translate(605.26,183.5)\" d=\"M3,0A3,3 0 1,1 0,-3A3,3 0 0,1 3,0Z\" style=\"opacity: 1; stroke-width: 0px; fill: rgb(178, 24, 43); fill-opacity: 1;\"/><path class=\"point\" transform=\"translate(605.51,183.5)\" d=\"M3,0A3,3 0 1,1 0,-3A3,3 0 0,1 3,0Z\" style=\"opacity: 1; stroke-width: 0px; fill: rgb(178, 24, 43); fill-opacity: 1;\"/><path class=\"point\" transform=\"translate(605.98,183.5)\" d=\"M3,0A3,3 0 1,1 0,-3A3,3 0 0,1 3,0Z\" style=\"opacity: 1; stroke-width: 0px; fill: rgb(178, 24, 43); fill-opacity: 1;\"/><path class=\"point\" transform=\"translate(606.02,183.5)\" d=\"M3,0A3,3 0 1,1 0,-3A3,3 0 0,1 3,0Z\" style=\"opacity: 1; stroke-width: 0px; fill: rgb(178, 24, 43); fill-opacity: 1;\"/><path class=\"point\" transform=\"translate(606.63,183.5)\" d=\"M3,0A3,3 0 1,1 0,-3A3,3 0 0,1 3,0Z\" style=\"opacity: 1; stroke-width: 0px; fill: rgb(178, 24, 43); fill-opacity: 1;\"/><path class=\"point\" transform=\"translate(607.08,183.5)\" d=\"M3,0A3,3 0 1,1 0,-3A3,3 0 0,1 3,0Z\" style=\"opacity: 1; stroke-width: 0px; fill: rgb(178, 24, 43); fill-opacity: 1;\"/><path class=\"point\" transform=\"translate(607.18,183.5)\" d=\"M3,0A3,3 0 1,1 0,-3A3,3 0 0,1 3,0Z\" style=\"opacity: 1; stroke-width: 0px; fill: rgb(178, 24, 43); fill-opacity: 1;\"/><path class=\"point\" transform=\"translate(607.3,183.5)\" d=\"M3,0A3,3 0 1,1 0,-3A3,3 0 0,1 3,0Z\" style=\"opacity: 1; stroke-width: 0px; fill: rgb(178, 24, 43); fill-opacity: 1;\"/><path class=\"point\" transform=\"translate(607.45,183.5)\" d=\"M3,0A3,3 0 1,1 0,-3A3,3 0 0,1 3,0Z\" style=\"opacity: 1; stroke-width: 0px; fill: rgb(178, 24, 43); fill-opacity: 1;\"/><path class=\"point\" transform=\"translate(607.99,183.5)\" d=\"M3,0A3,3 0 1,1 0,-3A3,3 0 0,1 3,0Z\" style=\"opacity: 1; stroke-width: 0px; fill: rgb(178, 24, 43); fill-opacity: 1;\"/><path class=\"point\" transform=\"translate(608.36,183.5)\" d=\"M3,0A3,3 0 1,1 0,-3A3,3 0 0,1 3,0Z\" style=\"opacity: 1; stroke-width: 0px; fill: rgb(178, 24, 43); fill-opacity: 1;\"/><path class=\"point\" transform=\"translate(608.47,183.5)\" d=\"M3,0A3,3 0 1,1 0,-3A3,3 0 0,1 3,0Z\" style=\"opacity: 1; stroke-width: 0px; fill: rgb(178, 24, 43); fill-opacity: 1;\"/><path class=\"point\" transform=\"translate(608.54,183.5)\" d=\"M3,0A3,3 0 1,1 0,-3A3,3 0 0,1 3,0Z\" style=\"opacity: 1; stroke-width: 0px; fill: rgb(178, 24, 43); fill-opacity: 1;\"/><path class=\"point\" transform=\"translate(608.68,183.5)\" d=\"M3,0A3,3 0 1,1 0,-3A3,3 0 0,1 3,0Z\" style=\"opacity: 1; stroke-width: 0px; fill: rgb(178, 24, 43); fill-opacity: 1;\"/><path class=\"point\" transform=\"translate(608.78,183.5)\" d=\"M3,0A3,3 0 1,1 0,-3A3,3 0 0,1 3,0Z\" style=\"opacity: 1; stroke-width: 0px; fill: rgb(178, 24, 43); fill-opacity: 1;\"/><path class=\"point\" transform=\"translate(608.83,183.5)\" d=\"M3,0A3,3 0 1,1 0,-3A3,3 0 0,1 3,0Z\" style=\"opacity: 1; stroke-width: 0px; fill: rgb(178, 24, 43); fill-opacity: 1;\"/><path class=\"point\" transform=\"translate(608.96,183.5)\" d=\"M3,0A3,3 0 1,1 0,-3A3,3 0 0,1 3,0Z\" style=\"opacity: 1; stroke-width: 0px; fill: rgb(178, 24, 43); fill-opacity: 1;\"/><path class=\"point\" transform=\"translate(609.19,183.5)\" d=\"M3,0A3,3 0 1,1 0,-3A3,3 0 0,1 3,0Z\" style=\"opacity: 1; stroke-width: 0px; fill: rgb(178, 24, 43); fill-opacity: 1;\"/><path class=\"point\" transform=\"translate(609.26,183.5)\" d=\"M3,0A3,3 0 1,1 0,-3A3,3 0 0,1 3,0Z\" style=\"opacity: 1; stroke-width: 0px; fill: rgb(178, 24, 43); fill-opacity: 1;\"/><path class=\"point\" transform=\"translate(609.38,183.5)\" d=\"M3,0A3,3 0 1,1 0,-3A3,3 0 0,1 3,0Z\" style=\"opacity: 1; stroke-width: 0px; fill: rgb(178, 24, 43); fill-opacity: 1;\"/><path class=\"point\" transform=\"translate(609.51,183.5)\" d=\"M3,0A3,3 0 1,1 0,-3A3,3 0 0,1 3,0Z\" style=\"opacity: 1; stroke-width: 0px; fill: rgb(178, 24, 43); fill-opacity: 1;\"/><path class=\"point\" transform=\"translate(610.79,183.5)\" d=\"M3,0A3,3 0 1,1 0,-3A3,3 0 0,1 3,0Z\" style=\"opacity: 1; stroke-width: 0px; fill: rgb(178, 24, 43); fill-opacity: 1;\"/><path class=\"point\" transform=\"translate(611.72,183.5)\" d=\"M3,0A3,3 0 1,1 0,-3A3,3 0 0,1 3,0Z\" style=\"opacity: 1; stroke-width: 0px; fill: rgb(178, 24, 43); fill-opacity: 1;\"/><path class=\"point\" transform=\"translate(612.23,183.5)\" d=\"M3,0A3,3 0 1,1 0,-3A3,3 0 0,1 3,0Z\" style=\"opacity: 1; stroke-width: 0px; fill: rgb(178, 24, 43); fill-opacity: 1;\"/><path class=\"point\" transform=\"translate(612.8,183.5)\" d=\"M3,0A3,3 0 1,1 0,-3A3,3 0 0,1 3,0Z\" style=\"opacity: 1; stroke-width: 0px; fill: rgb(178, 24, 43); fill-opacity: 1;\"/><path class=\"point\" transform=\"translate(613.68,183.5)\" d=\"M3,0A3,3 0 1,1 0,-3A3,3 0 0,1 3,0Z\" style=\"opacity: 1; stroke-width: 0px; fill: rgb(178, 24, 43); fill-opacity: 1;\"/><path class=\"point\" transform=\"translate(614.29,183.5)\" d=\"M3,0A3,3 0 1,1 0,-3A3,3 0 0,1 3,0Z\" style=\"opacity: 1; stroke-width: 0px; fill: rgb(178, 24, 43); fill-opacity: 1;\"/><path class=\"point\" transform=\"translate(615.08,183.5)\" d=\"M3,0A3,3 0 1,1 0,-3A3,3 0 0,1 3,0Z\" style=\"opacity: 1; stroke-width: 0px; fill: rgb(178, 24, 43); fill-opacity: 1;\"/><path class=\"point\" transform=\"translate(615.23,183.5)\" d=\"M3,0A3,3 0 1,1 0,-3A3,3 0 0,1 3,0Z\" style=\"opacity: 1; stroke-width: 0px; fill: rgb(178, 24, 43); fill-opacity: 1;\"/><path class=\"point\" transform=\"translate(615.29,183.5)\" d=\"M3,0A3,3 0 1,1 0,-3A3,3 0 0,1 3,0Z\" style=\"opacity: 1; stroke-width: 0px; fill: rgb(178, 24, 43); fill-opacity: 1;\"/><path class=\"point\" transform=\"translate(615.31,183.5)\" d=\"M3,0A3,3 0 1,1 0,-3A3,3 0 0,1 3,0Z\" style=\"opacity: 1; stroke-width: 0px; fill: rgb(178, 24, 43); fill-opacity: 1;\"/><path class=\"point\" transform=\"translate(615.35,183.5)\" d=\"M3,0A3,3 0 1,1 0,-3A3,3 0 0,1 3,0Z\" style=\"opacity: 1; stroke-width: 0px; fill: rgb(178, 24, 43); fill-opacity: 1;\"/><path class=\"point\" transform=\"translate(615.47,183.5)\" d=\"M3,0A3,3 0 1,1 0,-3A3,3 0 0,1 3,0Z\" style=\"opacity: 1; stroke-width: 0px; fill: rgb(178, 24, 43); fill-opacity: 1;\"/><path class=\"point\" transform=\"translate(615.6,183.5)\" d=\"M3,0A3,3 0 1,1 0,-3A3,3 0 0,1 3,0Z\" style=\"opacity: 1; stroke-width: 0px; fill: rgb(178, 24, 43); fill-opacity: 1;\"/><path class=\"point\" transform=\"translate(616.38,183.5)\" d=\"M3,0A3,3 0 1,1 0,-3A3,3 0 0,1 3,0Z\" style=\"opacity: 1; stroke-width: 0px; fill: rgb(178, 24, 43); fill-opacity: 1;\"/><path class=\"point\" transform=\"translate(616.7,183.5)\" d=\"M3,0A3,3 0 1,1 0,-3A3,3 0 0,1 3,0Z\" style=\"opacity: 1; stroke-width: 0px; fill: rgb(178, 24, 43); fill-opacity: 1;\"/><path class=\"point\" transform=\"translate(617.08,183.5)\" d=\"M3,0A3,3 0 1,1 0,-3A3,3 0 0,1 3,0Z\" style=\"opacity: 1; stroke-width: 0px; fill: rgb(178, 24, 43); fill-opacity: 1;\"/><path class=\"point\" transform=\"translate(617.13,183.5)\" d=\"M3,0A3,3 0 1,1 0,-3A3,3 0 0,1 3,0Z\" style=\"opacity: 1; stroke-width: 0px; fill: rgb(178, 24, 43); fill-opacity: 1;\"/><path class=\"point\" transform=\"translate(617.28,183.5)\" d=\"M3,0A3,3 0 1,1 0,-3A3,3 0 0,1 3,0Z\" style=\"opacity: 1; stroke-width: 0px; fill: rgb(178, 24, 43); fill-opacity: 1;\"/><path class=\"point\" transform=\"translate(617.87,183.5)\" d=\"M3,0A3,3 0 1,1 0,-3A3,3 0 0,1 3,0Z\" style=\"opacity: 1; stroke-width: 0px; fill: rgb(178, 24, 43); fill-opacity: 1;\"/><path class=\"point\" transform=\"translate(618.21,183.5)\" d=\"M3,0A3,3 0 1,1 0,-3A3,3 0 0,1 3,0Z\" style=\"opacity: 1; stroke-width: 0px; fill: rgb(178, 24, 43); fill-opacity: 1;\"/><path class=\"point\" transform=\"translate(618.75,183.5)\" d=\"M3,0A3,3 0 1,1 0,-3A3,3 0 0,1 3,0Z\" style=\"opacity: 1; stroke-width: 0px; fill: rgb(178, 24, 43); fill-opacity: 1;\"/><path class=\"point\" transform=\"translate(619.06,183.5)\" d=\"M3,0A3,3 0 1,1 0,-3A3,3 0 0,1 3,0Z\" style=\"opacity: 1; stroke-width: 0px; fill: rgb(178, 24, 43); fill-opacity: 1;\"/><path class=\"point\" transform=\"translate(620.44,183.5)\" d=\"M3,0A3,3 0 1,1 0,-3A3,3 0 0,1 3,0Z\" style=\"opacity: 1; stroke-width: 0px; fill: rgb(178, 24, 43); fill-opacity: 1;\"/><path class=\"point\" transform=\"translate(620.47,183.5)\" d=\"M3,0A3,3 0 1,1 0,-3A3,3 0 0,1 3,0Z\" style=\"opacity: 1; stroke-width: 0px; fill: rgb(178, 24, 43); fill-opacity: 1;\"/><path class=\"point\" transform=\"translate(620.52,183.5)\" d=\"M3,0A3,3 0 1,1 0,-3A3,3 0 0,1 3,0Z\" style=\"opacity: 1; stroke-width: 0px; fill: rgb(178, 24, 43); fill-opacity: 1;\"/><path class=\"point\" transform=\"translate(620.69,183.5)\" d=\"M3,0A3,3 0 1,1 0,-3A3,3 0 0,1 3,0Z\" style=\"opacity: 1; stroke-width: 0px; fill: rgb(178, 24, 43); fill-opacity: 1;\"/><path class=\"point\" transform=\"translate(620.79,183.5)\" d=\"M3,0A3,3 0 1,1 0,-3A3,3 0 0,1 3,0Z\" style=\"opacity: 1; stroke-width: 0px; fill: rgb(178, 24, 43); fill-opacity: 1;\"/><path class=\"point\" transform=\"translate(621.19,183.5)\" d=\"M3,0A3,3 0 1,1 0,-3A3,3 0 0,1 3,0Z\" style=\"opacity: 1; stroke-width: 0px; fill: rgb(178, 24, 43); fill-opacity: 1;\"/><path class=\"point\" transform=\"translate(621.9,183.5)\" d=\"M3,0A3,3 0 1,1 0,-3A3,3 0 0,1 3,0Z\" style=\"opacity: 1; stroke-width: 0px; fill: rgb(178, 24, 43); fill-opacity: 1;\"/><path class=\"point\" transform=\"translate(622.36,183.5)\" d=\"M3,0A3,3 0 1,1 0,-3A3,3 0 0,1 3,0Z\" style=\"opacity: 1; stroke-width: 0px; fill: rgb(178, 24, 43); fill-opacity: 1;\"/><path class=\"point\" transform=\"translate(622.62,183.5)\" d=\"M3,0A3,3 0 1,1 0,-3A3,3 0 0,1 3,0Z\" style=\"opacity: 1; stroke-width: 0px; fill: rgb(178, 24, 43); fill-opacity: 1;\"/><path class=\"point\" transform=\"translate(622.66,183.5)\" d=\"M3,0A3,3 0 1,1 0,-3A3,3 0 0,1 3,0Z\" style=\"opacity: 1; stroke-width: 0px; fill: rgb(178, 24, 43); fill-opacity: 1;\"/><path class=\"point\" transform=\"translate(623.42,183.5)\" d=\"M3,0A3,3 0 1,1 0,-3A3,3 0 0,1 3,0Z\" style=\"opacity: 1; stroke-width: 0px; fill: rgb(178, 24, 43); fill-opacity: 1;\"/><path class=\"point\" transform=\"translate(623.63,183.5)\" d=\"M3,0A3,3 0 1,1 0,-3A3,3 0 0,1 3,0Z\" style=\"opacity: 1; stroke-width: 0px; fill: rgb(178, 24, 43); fill-opacity: 1;\"/><path class=\"point\" transform=\"translate(624.52,183.5)\" d=\"M3,0A3,3 0 1,1 0,-3A3,3 0 0,1 3,0Z\" style=\"opacity: 1; stroke-width: 0px; fill: rgb(178, 24, 43); fill-opacity: 1;\"/><path class=\"point\" transform=\"translate(624.54,183.5)\" d=\"M3,0A3,3 0 1,1 0,-3A3,3 0 0,1 3,0Z\" style=\"opacity: 1; stroke-width: 0px; fill: rgb(178, 24, 43); fill-opacity: 1;\"/><path class=\"point\" transform=\"translate(624.56,183.5)\" d=\"M3,0A3,3 0 1,1 0,-3A3,3 0 0,1 3,0Z\" style=\"opacity: 1; stroke-width: 0px; fill: rgb(178, 24, 43); fill-opacity: 1;\"/><path class=\"point\" transform=\"translate(624.88,183.5)\" d=\"M3,0A3,3 0 1,1 0,-3A3,3 0 0,1 3,0Z\" style=\"opacity: 1; stroke-width: 0px; fill: rgb(178, 24, 43); fill-opacity: 1;\"/><path class=\"point\" transform=\"translate(624.88,183.5)\" d=\"M3,0A3,3 0 1,1 0,-3A3,3 0 0,1 3,0Z\" style=\"opacity: 1; stroke-width: 0px; fill: rgb(178, 24, 43); fill-opacity: 1;\"/><path class=\"point\" transform=\"translate(626.23,183.5)\" d=\"M3,0A3,3 0 1,1 0,-3A3,3 0 0,1 3,0Z\" style=\"opacity: 1; stroke-width: 0px; fill: rgb(178, 24, 43); fill-opacity: 1;\"/><path class=\"point\" transform=\"translate(626.28,183.5)\" d=\"M3,0A3,3 0 1,1 0,-3A3,3 0 0,1 3,0Z\" style=\"opacity: 1; stroke-width: 0px; fill: rgb(178, 24, 43); fill-opacity: 1;\"/><path class=\"point\" transform=\"translate(626.71,183.5)\" d=\"M3,0A3,3 0 1,1 0,-3A3,3 0 0,1 3,0Z\" style=\"opacity: 1; stroke-width: 0px; fill: rgb(178, 24, 43); fill-opacity: 1;\"/><path class=\"point\" transform=\"translate(626.84,183.5)\" d=\"M3,0A3,3 0 1,1 0,-3A3,3 0 0,1 3,0Z\" style=\"opacity: 1; stroke-width: 0px; fill: rgb(178, 24, 43); fill-opacity: 1;\"/><path class=\"point\" transform=\"translate(627.65,183.5)\" d=\"M3,0A3,3 0 1,1 0,-3A3,3 0 0,1 3,0Z\" style=\"opacity: 1; stroke-width: 0px; fill: rgb(178, 24, 43); fill-opacity: 1;\"/><path class=\"point\" transform=\"translate(627.76,183.5)\" d=\"M3,0A3,3 0 1,1 0,-3A3,3 0 0,1 3,0Z\" style=\"opacity: 1; stroke-width: 0px; fill: rgb(178, 24, 43); fill-opacity: 1;\"/><path class=\"point\" transform=\"translate(627.96,183.5)\" d=\"M3,0A3,3 0 1,1 0,-3A3,3 0 0,1 3,0Z\" style=\"opacity: 1; stroke-width: 0px; fill: rgb(178, 24, 43); fill-opacity: 1;\"/><path class=\"point\" transform=\"translate(628.24,183.5)\" d=\"M3,0A3,3 0 1,1 0,-3A3,3 0 0,1 3,0Z\" style=\"opacity: 1; stroke-width: 0px; fill: rgb(178, 24, 43); fill-opacity: 1;\"/><path class=\"point\" transform=\"translate(628.71,183.5)\" d=\"M3,0A3,3 0 1,1 0,-3A3,3 0 0,1 3,0Z\" style=\"opacity: 1; stroke-width: 0px; fill: rgb(178, 24, 43); fill-opacity: 1;\"/><path class=\"point\" transform=\"translate(628.83,183.5)\" d=\"M3,0A3,3 0 1,1 0,-3A3,3 0 0,1 3,0Z\" style=\"opacity: 1; stroke-width: 0px; fill: rgb(178, 24, 43); fill-opacity: 1;\"/><path class=\"point\" transform=\"translate(629.57,183.5)\" d=\"M3,0A3,3 0 1,1 0,-3A3,3 0 0,1 3,0Z\" style=\"opacity: 1; stroke-width: 0px; fill: rgb(178, 24, 43); fill-opacity: 1;\"/><path class=\"point\" transform=\"translate(630.03,183.5)\" d=\"M3,0A3,3 0 1,1 0,-3A3,3 0 0,1 3,0Z\" style=\"opacity: 1; stroke-width: 0px; fill: rgb(178, 24, 43); fill-opacity: 1;\"/><path class=\"point\" transform=\"translate(630.09,183.5)\" d=\"M3,0A3,3 0 1,1 0,-3A3,3 0 0,1 3,0Z\" style=\"opacity: 1; stroke-width: 0px; fill: rgb(178, 24, 43); fill-opacity: 1;\"/><path class=\"point\" transform=\"translate(630.09,183.5)\" d=\"M3,0A3,3 0 1,1 0,-3A3,3 0 0,1 3,0Z\" style=\"opacity: 1; stroke-width: 0px; fill: rgb(178, 24, 43); fill-opacity: 1;\"/><path class=\"point\" transform=\"translate(630.18,183.5)\" d=\"M3,0A3,3 0 1,1 0,-3A3,3 0 0,1 3,0Z\" style=\"opacity: 1; stroke-width: 0px; fill: rgb(178, 24, 43); fill-opacity: 1;\"/><path class=\"point\" transform=\"translate(630.66,183.5)\" d=\"M3,0A3,3 0 1,1 0,-3A3,3 0 0,1 3,0Z\" style=\"opacity: 1; stroke-width: 0px; fill: rgb(178, 24, 43); fill-opacity: 1;\"/><path class=\"point\" transform=\"translate(630.74,183.5)\" d=\"M3,0A3,3 0 1,1 0,-3A3,3 0 0,1 3,0Z\" style=\"opacity: 1; stroke-width: 0px; fill: rgb(178, 24, 43); fill-opacity: 1;\"/><path class=\"point\" transform=\"translate(631.4,183.5)\" d=\"M3,0A3,3 0 1,1 0,-3A3,3 0 0,1 3,0Z\" style=\"opacity: 1; stroke-width: 0px; fill: rgb(178, 24, 43); fill-opacity: 1;\"/><path class=\"point\" transform=\"translate(631.51,183.5)\" d=\"M3,0A3,3 0 1,1 0,-3A3,3 0 0,1 3,0Z\" style=\"opacity: 1; stroke-width: 0px; fill: rgb(178, 24, 43); fill-opacity: 1;\"/><path class=\"point\" transform=\"translate(632.06,183.5)\" d=\"M3,0A3,3 0 1,1 0,-3A3,3 0 0,1 3,0Z\" style=\"opacity: 1; stroke-width: 0px; fill: rgb(178, 24, 43); fill-opacity: 1;\"/><path class=\"point\" transform=\"translate(632.57,183.5)\" d=\"M3,0A3,3 0 1,1 0,-3A3,3 0 0,1 3,0Z\" style=\"opacity: 1; stroke-width: 0px; fill: rgb(178, 24, 43); fill-opacity: 1;\"/><path class=\"point\" transform=\"translate(632.59,183.5)\" d=\"M3,0A3,3 0 1,1 0,-3A3,3 0 0,1 3,0Z\" style=\"opacity: 1; stroke-width: 0px; fill: rgb(178, 24, 43); fill-opacity: 1;\"/><path class=\"point\" transform=\"translate(632.75,183.5)\" d=\"M3,0A3,3 0 1,1 0,-3A3,3 0 0,1 3,0Z\" style=\"opacity: 1; stroke-width: 0px; fill: rgb(178, 24, 43); fill-opacity: 1;\"/><path class=\"point\" transform=\"translate(633.57,183.5)\" d=\"M3,0A3,3 0 1,1 0,-3A3,3 0 0,1 3,0Z\" style=\"opacity: 1; stroke-width: 0px; fill: rgb(178, 24, 43); fill-opacity: 1;\"/><path class=\"point\" transform=\"translate(633.71,183.5)\" d=\"M3,0A3,3 0 1,1 0,-3A3,3 0 0,1 3,0Z\" style=\"opacity: 1; stroke-width: 0px; fill: rgb(178, 24, 43); fill-opacity: 1;\"/><path class=\"point\" transform=\"translate(634.3,183.5)\" d=\"M3,0A3,3 0 1,1 0,-3A3,3 0 0,1 3,0Z\" style=\"opacity: 1; stroke-width: 0px; fill: rgb(178, 24, 43); fill-opacity: 1;\"/><path class=\"point\" transform=\"translate(634.31,183.5)\" d=\"M3,0A3,3 0 1,1 0,-3A3,3 0 0,1 3,0Z\" style=\"opacity: 1; stroke-width: 0px; fill: rgb(178, 24, 43); fill-opacity: 1;\"/><path class=\"point\" transform=\"translate(635.09,183.5)\" d=\"M3,0A3,3 0 1,1 0,-3A3,3 0 0,1 3,0Z\" style=\"opacity: 1; stroke-width: 0px; fill: rgb(178, 24, 43); fill-opacity: 1;\"/><path class=\"point\" transform=\"translate(635.43,183.5)\" d=\"M3,0A3,3 0 1,1 0,-3A3,3 0 0,1 3,0Z\" style=\"opacity: 1; stroke-width: 0px; fill: rgb(178, 24, 43); fill-opacity: 1;\"/><path class=\"point\" transform=\"translate(635.45,183.5)\" d=\"M3,0A3,3 0 1,1 0,-3A3,3 0 0,1 3,0Z\" style=\"opacity: 1; stroke-width: 0px; fill: rgb(178, 24, 43); fill-opacity: 1;\"/><path class=\"point\" transform=\"translate(635.66,183.5)\" d=\"M3,0A3,3 0 1,1 0,-3A3,3 0 0,1 3,0Z\" style=\"opacity: 1; stroke-width: 0px; fill: rgb(178, 24, 43); fill-opacity: 1;\"/><path class=\"point\" transform=\"translate(635.83,183.5)\" d=\"M3,0A3,3 0 1,1 0,-3A3,3 0 0,1 3,0Z\" style=\"opacity: 1; stroke-width: 0px; fill: rgb(178, 24, 43); fill-opacity: 1;\"/><path class=\"point\" transform=\"translate(636.11,183.5)\" d=\"M3,0A3,3 0 1,1 0,-3A3,3 0 0,1 3,0Z\" style=\"opacity: 1; stroke-width: 0px; fill: rgb(178, 24, 43); fill-opacity: 1;\"/><path class=\"point\" transform=\"translate(637.35,183.5)\" d=\"M3,0A3,3 0 1,1 0,-3A3,3 0 0,1 3,0Z\" style=\"opacity: 1; stroke-width: 0px; fill: rgb(178, 24, 43); fill-opacity: 1;\"/><path class=\"point\" transform=\"translate(637.39,183.5)\" d=\"M3,0A3,3 0 1,1 0,-3A3,3 0 0,1 3,0Z\" style=\"opacity: 1; stroke-width: 0px; fill: rgb(178, 24, 43); fill-opacity: 1;\"/><path class=\"point\" transform=\"translate(638.31,183.5)\" d=\"M3,0A3,3 0 1,1 0,-3A3,3 0 0,1 3,0Z\" style=\"opacity: 1; stroke-width: 0px; fill: rgb(178, 24, 43); fill-opacity: 1;\"/><path class=\"point\" transform=\"translate(638.33,183.5)\" d=\"M3,0A3,3 0 1,1 0,-3A3,3 0 0,1 3,0Z\" style=\"opacity: 1; stroke-width: 0px; fill: rgb(178, 24, 43); fill-opacity: 1;\"/><path class=\"point\" transform=\"translate(639.22,183.5)\" d=\"M3,0A3,3 0 1,1 0,-3A3,3 0 0,1 3,0Z\" style=\"opacity: 1; stroke-width: 0px; fill: rgb(178, 24, 43); fill-opacity: 1;\"/><path class=\"point\" transform=\"translate(639.52,183.5)\" d=\"M3,0A3,3 0 1,1 0,-3A3,3 0 0,1 3,0Z\" style=\"opacity: 1; stroke-width: 0px; fill: rgb(178, 24, 43); fill-opacity: 1;\"/><path class=\"point\" transform=\"translate(640.24,183.5)\" d=\"M3,0A3,3 0 1,1 0,-3A3,3 0 0,1 3,0Z\" style=\"opacity: 1; stroke-width: 0px; fill: rgb(178, 24, 43); fill-opacity: 1;\"/><path class=\"point\" transform=\"translate(640.43,183.5)\" d=\"M3,0A3,3 0 1,1 0,-3A3,3 0 0,1 3,0Z\" style=\"opacity: 1; stroke-width: 0px; fill: rgb(178, 24, 43); fill-opacity: 1;\"/><path class=\"point\" transform=\"translate(640.84,183.5)\" d=\"M3,0A3,3 0 1,1 0,-3A3,3 0 0,1 3,0Z\" style=\"opacity: 1; stroke-width: 0px; fill: rgb(178, 24, 43); fill-opacity: 1;\"/><path class=\"point\" transform=\"translate(641.51,183.5)\" d=\"M3,0A3,3 0 1,1 0,-3A3,3 0 0,1 3,0Z\" style=\"opacity: 1; stroke-width: 0px; fill: rgb(178, 24, 43); fill-opacity: 1;\"/><path class=\"point\" transform=\"translate(641.65,183.5)\" d=\"M3,0A3,3 0 1,1 0,-3A3,3 0 0,1 3,0Z\" style=\"opacity: 1; stroke-width: 0px; fill: rgb(178, 24, 43); fill-opacity: 1;\"/><path class=\"point\" transform=\"translate(642.86,183.5)\" d=\"M3,0A3,3 0 1,1 0,-3A3,3 0 0,1 3,0Z\" style=\"opacity: 1; stroke-width: 0px; fill: rgb(178, 24, 43); fill-opacity: 1;\"/><path class=\"point\" transform=\"translate(642.99,183.5)\" d=\"M3,0A3,3 0 1,1 0,-3A3,3 0 0,1 3,0Z\" style=\"opacity: 1; stroke-width: 0px; fill: rgb(178, 24, 43); fill-opacity: 1;\"/><path class=\"point\" transform=\"translate(643.38,183.5)\" d=\"M3,0A3,3 0 1,1 0,-3A3,3 0 0,1 3,0Z\" style=\"opacity: 1; stroke-width: 0px; fill: rgb(178, 24, 43); fill-opacity: 1;\"/><path class=\"point\" transform=\"translate(643.64,183.5)\" d=\"M3,0A3,3 0 1,1 0,-3A3,3 0 0,1 3,0Z\" style=\"opacity: 1; stroke-width: 0px; fill: rgb(178, 24, 43); fill-opacity: 1;\"/><path class=\"point\" transform=\"translate(643.82,183.5)\" d=\"M3,0A3,3 0 1,1 0,-3A3,3 0 0,1 3,0Z\" style=\"opacity: 1; stroke-width: 0px; fill: rgb(178, 24, 43); fill-opacity: 1;\"/><path class=\"point\" transform=\"translate(643.9,183.5)\" d=\"M3,0A3,3 0 1,1 0,-3A3,3 0 0,1 3,0Z\" style=\"opacity: 1; stroke-width: 0px; fill: rgb(178, 24, 43); fill-opacity: 1;\"/><path class=\"point\" transform=\"translate(645.16,183.5)\" d=\"M3,0A3,3 0 1,1 0,-3A3,3 0 0,1 3,0Z\" style=\"opacity: 1; stroke-width: 0px; fill: rgb(178, 24, 43); fill-opacity: 1;\"/><path class=\"point\" transform=\"translate(646.4,183.5)\" d=\"M3,0A3,3 0 1,1 0,-3A3,3 0 0,1 3,0Z\" style=\"opacity: 1; stroke-width: 0px; fill: rgb(178, 24, 43); fill-opacity: 1;\"/><path class=\"point\" transform=\"translate(646.52,183.5)\" d=\"M3,0A3,3 0 1,1 0,-3A3,3 0 0,1 3,0Z\" style=\"opacity: 1; stroke-width: 0px; fill: rgb(178, 24, 43); fill-opacity: 1;\"/><path class=\"point\" transform=\"translate(646.74,183.5)\" d=\"M3,0A3,3 0 1,1 0,-3A3,3 0 0,1 3,0Z\" style=\"opacity: 1; stroke-width: 0px; fill: rgb(178, 24, 43); fill-opacity: 1;\"/><path class=\"point\" transform=\"translate(647.21,183.5)\" d=\"M3,0A3,3 0 1,1 0,-3A3,3 0 0,1 3,0Z\" style=\"opacity: 1; stroke-width: 0px; fill: rgb(178, 24, 43); fill-opacity: 1;\"/><path class=\"point\" transform=\"translate(647.67,183.5)\" d=\"M3,0A3,3 0 1,1 0,-3A3,3 0 0,1 3,0Z\" style=\"opacity: 1; stroke-width: 0px; fill: rgb(178, 24, 43); fill-opacity: 1;\"/><path class=\"point\" transform=\"translate(648.06,183.5)\" d=\"M3,0A3,3 0 1,1 0,-3A3,3 0 0,1 3,0Z\" style=\"opacity: 1; stroke-width: 0px; fill: rgb(178, 24, 43); fill-opacity: 1;\"/><path class=\"point\" transform=\"translate(648.19,183.5)\" d=\"M3,0A3,3 0 1,1 0,-3A3,3 0 0,1 3,0Z\" style=\"opacity: 1; stroke-width: 0px; fill: rgb(178, 24, 43); fill-opacity: 1;\"/><path class=\"point\" transform=\"translate(648.45,183.5)\" d=\"M3,0A3,3 0 1,1 0,-3A3,3 0 0,1 3,0Z\" style=\"opacity: 1; stroke-width: 0px; fill: rgb(178, 24, 43); fill-opacity: 1;\"/><path class=\"point\" transform=\"translate(648.79,183.5)\" d=\"M3,0A3,3 0 1,1 0,-3A3,3 0 0,1 3,0Z\" style=\"opacity: 1; stroke-width: 0px; fill: rgb(178, 24, 43); fill-opacity: 1;\"/><path class=\"point\" transform=\"translate(648.97,183.5)\" d=\"M3,0A3,3 0 1,1 0,-3A3,3 0 0,1 3,0Z\" style=\"opacity: 1; stroke-width: 0px; fill: rgb(178, 24, 43); fill-opacity: 1;\"/><path class=\"point\" transform=\"translate(649.12,183.5)\" d=\"M3,0A3,3 0 1,1 0,-3A3,3 0 0,1 3,0Z\" style=\"opacity: 1; stroke-width: 0px; fill: rgb(178, 24, 43); fill-opacity: 1;\"/><path class=\"point\" transform=\"translate(649.27,183.5)\" d=\"M3,0A3,3 0 1,1 0,-3A3,3 0 0,1 3,0Z\" style=\"opacity: 1; stroke-width: 0px; fill: rgb(178, 24, 43); fill-opacity: 1;\"/><path class=\"point\" transform=\"translate(649.96,183.5)\" d=\"M3,0A3,3 0 1,1 0,-3A3,3 0 0,1 3,0Z\" style=\"opacity: 1; stroke-width: 0px; fill: rgb(178, 24, 43); fill-opacity: 1;\"/><path class=\"point\" transform=\"translate(651.93,183.5)\" d=\"M3,0A3,3 0 1,1 0,-3A3,3 0 0,1 3,0Z\" style=\"opacity: 1; stroke-width: 0px; fill: rgb(178, 24, 43); fill-opacity: 1;\"/><path class=\"point\" transform=\"translate(652.48,183.5)\" d=\"M3,0A3,3 0 1,1 0,-3A3,3 0 0,1 3,0Z\" style=\"opacity: 1; stroke-width: 0px; fill: rgb(178, 24, 43); fill-opacity: 1;\"/><path class=\"point\" transform=\"translate(652.95,183.5)\" d=\"M3,0A3,3 0 1,1 0,-3A3,3 0 0,1 3,0Z\" style=\"opacity: 1; stroke-width: 0px; fill: rgb(178, 24, 43); fill-opacity: 1;\"/><path class=\"point\" transform=\"translate(653,183.5)\" d=\"M3,0A3,3 0 1,1 0,-3A3,3 0 0,1 3,0Z\" style=\"opacity: 1; stroke-width: 0px; fill: rgb(178, 24, 43); fill-opacity: 1;\"/><path class=\"point\" transform=\"translate(653.69,183.5)\" d=\"M3,0A3,3 0 1,1 0,-3A3,3 0 0,1 3,0Z\" style=\"opacity: 1; stroke-width: 0px; fill: rgb(178, 24, 43); fill-opacity: 1;\"/><path class=\"point\" transform=\"translate(654.49,183.5)\" d=\"M3,0A3,3 0 1,1 0,-3A3,3 0 0,1 3,0Z\" style=\"opacity: 1; stroke-width: 0px; fill: rgb(178, 24, 43); fill-opacity: 1;\"/><path class=\"point\" transform=\"translate(654.51,183.5)\" d=\"M3,0A3,3 0 1,1 0,-3A3,3 0 0,1 3,0Z\" style=\"opacity: 1; stroke-width: 0px; fill: rgb(178, 24, 43); fill-opacity: 1;\"/><path class=\"point\" transform=\"translate(654.54,183.5)\" d=\"M3,0A3,3 0 1,1 0,-3A3,3 0 0,1 3,0Z\" style=\"opacity: 1; stroke-width: 0px; fill: rgb(178, 24, 43); fill-opacity: 1;\"/><path class=\"point\" transform=\"translate(654.57,183.5)\" d=\"M3,0A3,3 0 1,1 0,-3A3,3 0 0,1 3,0Z\" style=\"opacity: 1; stroke-width: 0px; fill: rgb(178, 24, 43); fill-opacity: 1;\"/><path class=\"point\" transform=\"translate(654.85,183.5)\" d=\"M3,0A3,3 0 1,1 0,-3A3,3 0 0,1 3,0Z\" style=\"opacity: 1; stroke-width: 0px; fill: rgb(178, 24, 43); fill-opacity: 1;\"/><path class=\"point\" transform=\"translate(654.95,183.5)\" d=\"M3,0A3,3 0 1,1 0,-3A3,3 0 0,1 3,0Z\" style=\"opacity: 1; stroke-width: 0px; fill: rgb(178, 24, 43); fill-opacity: 1;\"/><path class=\"point\" transform=\"translate(655.17,183.5)\" d=\"M3,0A3,3 0 1,1 0,-3A3,3 0 0,1 3,0Z\" style=\"opacity: 1; stroke-width: 0px; fill: rgb(178, 24, 43); fill-opacity: 1;\"/><path class=\"point\" transform=\"translate(655.33,183.5)\" d=\"M3,0A3,3 0 1,1 0,-3A3,3 0 0,1 3,0Z\" style=\"opacity: 1; stroke-width: 0px; fill: rgb(178, 24, 43); fill-opacity: 1;\"/><path class=\"point\" transform=\"translate(656.44,183.5)\" d=\"M3,0A3,3 0 1,1 0,-3A3,3 0 0,1 3,0Z\" style=\"opacity: 1; stroke-width: 0px; fill: rgb(178, 24, 43); fill-opacity: 1;\"/><path class=\"point\" transform=\"translate(656.92,183.5)\" d=\"M3,0A3,3 0 1,1 0,-3A3,3 0 0,1 3,0Z\" style=\"opacity: 1; stroke-width: 0px; fill: rgb(178, 24, 43); fill-opacity: 1;\"/><path class=\"point\" transform=\"translate(657.01,183.5)\" d=\"M3,0A3,3 0 1,1 0,-3A3,3 0 0,1 3,0Z\" style=\"opacity: 1; stroke-width: 0px; fill: rgb(178, 24, 43); fill-opacity: 1;\"/><path class=\"point\" transform=\"translate(657.05,183.5)\" d=\"M3,0A3,3 0 1,1 0,-3A3,3 0 0,1 3,0Z\" style=\"opacity: 1; stroke-width: 0px; fill: rgb(178, 24, 43); fill-opacity: 1;\"/><path class=\"point\" transform=\"translate(657.39,183.5)\" d=\"M3,0A3,3 0 1,1 0,-3A3,3 0 0,1 3,0Z\" style=\"opacity: 1; stroke-width: 0px; fill: rgb(178, 24, 43); fill-opacity: 1;\"/><path class=\"point\" transform=\"translate(657.42,183.5)\" d=\"M3,0A3,3 0 1,1 0,-3A3,3 0 0,1 3,0Z\" style=\"opacity: 1; stroke-width: 0px; fill: rgb(178, 24, 43); fill-opacity: 1;\"/><path class=\"point\" transform=\"translate(657.83,183.5)\" d=\"M3,0A3,3 0 1,1 0,-3A3,3 0 0,1 3,0Z\" style=\"opacity: 1; stroke-width: 0px; fill: rgb(178, 24, 43); fill-opacity: 1;\"/><path class=\"point\" transform=\"translate(658.08,183.5)\" d=\"M3,0A3,3 0 1,1 0,-3A3,3 0 0,1 3,0Z\" style=\"opacity: 1; stroke-width: 0px; fill: rgb(178, 24, 43); fill-opacity: 1;\"/><path class=\"point\" transform=\"translate(658.64,183.5)\" d=\"M3,0A3,3 0 1,1 0,-3A3,3 0 0,1 3,0Z\" style=\"opacity: 1; stroke-width: 0px; fill: rgb(178, 24, 43); fill-opacity: 1;\"/><path class=\"point\" transform=\"translate(658.9,183.5)\" d=\"M3,0A3,3 0 1,1 0,-3A3,3 0 0,1 3,0Z\" style=\"opacity: 1; stroke-width: 0px; fill: rgb(178, 24, 43); fill-opacity: 1;\"/><path class=\"point\" transform=\"translate(659.02,183.5)\" d=\"M3,0A3,3 0 1,1 0,-3A3,3 0 0,1 3,0Z\" style=\"opacity: 1; stroke-width: 0px; fill: rgb(178, 24, 43); fill-opacity: 1;\"/><path class=\"point\" transform=\"translate(659.2,183.5)\" d=\"M3,0A3,3 0 1,1 0,-3A3,3 0 0,1 3,0Z\" style=\"opacity: 1; stroke-width: 0px; fill: rgb(178, 24, 43); fill-opacity: 1;\"/><path class=\"point\" transform=\"translate(659.26,183.5)\" d=\"M3,0A3,3 0 1,1 0,-3A3,3 0 0,1 3,0Z\" style=\"opacity: 1; stroke-width: 0px; fill: rgb(178, 24, 43); fill-opacity: 1;\"/><path class=\"point\" transform=\"translate(659.29,183.5)\" d=\"M3,0A3,3 0 1,1 0,-3A3,3 0 0,1 3,0Z\" style=\"opacity: 1; stroke-width: 0px; fill: rgb(178, 24, 43); fill-opacity: 1;\"/><path class=\"point\" transform=\"translate(659.62,183.5)\" d=\"M3,0A3,3 0 1,1 0,-3A3,3 0 0,1 3,0Z\" style=\"opacity: 1; stroke-width: 0px; fill: rgb(178, 24, 43); fill-opacity: 1;\"/><path class=\"point\" transform=\"translate(659.89,183.5)\" d=\"M3,0A3,3 0 1,1 0,-3A3,3 0 0,1 3,0Z\" style=\"opacity: 1; stroke-width: 0px; fill: rgb(178, 24, 43); fill-opacity: 1;\"/><path class=\"point\" transform=\"translate(660.82,183.5)\" d=\"M3,0A3,3 0 1,1 0,-3A3,3 0 0,1 3,0Z\" style=\"opacity: 1; stroke-width: 0px; fill: rgb(178, 24, 43); fill-opacity: 1;\"/><path class=\"point\" transform=\"translate(660.89,183.5)\" d=\"M3,0A3,3 0 1,1 0,-3A3,3 0 0,1 3,0Z\" style=\"opacity: 1; stroke-width: 0px; fill: rgb(178, 24, 43); fill-opacity: 1;\"/><path class=\"point\" transform=\"translate(661.49,183.5)\" d=\"M3,0A3,3 0 1,1 0,-3A3,3 0 0,1 3,0Z\" style=\"opacity: 1; stroke-width: 0px; fill: rgb(178, 24, 43); fill-opacity: 1;\"/><path class=\"point\" transform=\"translate(661.74,183.5)\" d=\"M3,0A3,3 0 1,1 0,-3A3,3 0 0,1 3,0Z\" style=\"opacity: 1; stroke-width: 0px; fill: rgb(178, 24, 43); fill-opacity: 1;\"/><path class=\"point\" transform=\"translate(662.17,183.5)\" d=\"M3,0A3,3 0 1,1 0,-3A3,3 0 0,1 3,0Z\" style=\"opacity: 1; stroke-width: 0px; fill: rgb(178, 24, 43); fill-opacity: 1;\"/><path class=\"point\" transform=\"translate(662.46,183.5)\" d=\"M3,0A3,3 0 1,1 0,-3A3,3 0 0,1 3,0Z\" style=\"opacity: 1; stroke-width: 0px; fill: rgb(178, 24, 43); fill-opacity: 1;\"/><path class=\"point\" transform=\"translate(662.84,183.5)\" d=\"M3,0A3,3 0 1,1 0,-3A3,3 0 0,1 3,0Z\" style=\"opacity: 1; stroke-width: 0px; fill: rgb(178, 24, 43); fill-opacity: 1;\"/><path class=\"point\" transform=\"translate(663.04,183.5)\" d=\"M3,0A3,3 0 1,1 0,-3A3,3 0 0,1 3,0Z\" style=\"opacity: 1; stroke-width: 0px; fill: rgb(178, 24, 43); fill-opacity: 1;\"/><path class=\"point\" transform=\"translate(664.77,183.5)\" d=\"M3,0A3,3 0 1,1 0,-3A3,3 0 0,1 3,0Z\" style=\"opacity: 1; stroke-width: 0px; fill: rgb(178, 24, 43); fill-opacity: 1;\"/><path class=\"point\" transform=\"translate(664.77,183.5)\" d=\"M3,0A3,3 0 1,1 0,-3A3,3 0 0,1 3,0Z\" style=\"opacity: 1; stroke-width: 0px; fill: rgb(178, 24, 43); fill-opacity: 1;\"/><path class=\"point\" transform=\"translate(664.97,183.5)\" d=\"M3,0A3,3 0 1,1 0,-3A3,3 0 0,1 3,0Z\" style=\"opacity: 1; stroke-width: 0px; fill: rgb(178, 24, 43); fill-opacity: 1;\"/><path class=\"point\" transform=\"translate(665.46,183.5)\" d=\"M3,0A3,3 0 1,1 0,-3A3,3 0 0,1 3,0Z\" style=\"opacity: 1; stroke-width: 0px; fill: rgb(178, 24, 43); fill-opacity: 1;\"/><path class=\"point\" transform=\"translate(666.1,183.5)\" d=\"M3,0A3,3 0 1,1 0,-3A3,3 0 0,1 3,0Z\" style=\"opacity: 1; stroke-width: 0px; fill: rgb(178, 24, 43); fill-opacity: 1;\"/><path class=\"point\" transform=\"translate(666.5,183.5)\" d=\"M3,0A3,3 0 1,1 0,-3A3,3 0 0,1 3,0Z\" style=\"opacity: 1; stroke-width: 0px; fill: rgb(178, 24, 43); fill-opacity: 1;\"/><path class=\"point\" transform=\"translate(666.51,183.5)\" d=\"M3,0A3,3 0 1,1 0,-3A3,3 0 0,1 3,0Z\" style=\"opacity: 1; stroke-width: 0px; fill: rgb(178, 24, 43); fill-opacity: 1;\"/><path class=\"point\" transform=\"translate(667.23,183.5)\" d=\"M3,0A3,3 0 1,1 0,-3A3,3 0 0,1 3,0Z\" style=\"opacity: 1; stroke-width: 0px; fill: rgb(178, 24, 43); fill-opacity: 1;\"/><path class=\"point\" transform=\"translate(667.67,183.5)\" d=\"M3,0A3,3 0 1,1 0,-3A3,3 0 0,1 3,0Z\" style=\"opacity: 1; stroke-width: 0px; fill: rgb(178, 24, 43); fill-opacity: 1;\"/><path class=\"point\" transform=\"translate(668.06,183.5)\" d=\"M3,0A3,3 0 1,1 0,-3A3,3 0 0,1 3,0Z\" style=\"opacity: 1; stroke-width: 0px; fill: rgb(178, 24, 43); fill-opacity: 1;\"/><path class=\"point\" transform=\"translate(668.63,183.5)\" d=\"M3,0A3,3 0 1,1 0,-3A3,3 0 0,1 3,0Z\" style=\"opacity: 1; stroke-width: 0px; fill: rgb(178, 24, 43); fill-opacity: 1;\"/><path class=\"point\" transform=\"translate(668.68,183.5)\" d=\"M3,0A3,3 0 1,1 0,-3A3,3 0 0,1 3,0Z\" style=\"opacity: 1; stroke-width: 0px; fill: rgb(178, 24, 43); fill-opacity: 1;\"/><path class=\"point\" transform=\"translate(669.1,183.5)\" d=\"M3,0A3,3 0 1,1 0,-3A3,3 0 0,1 3,0Z\" style=\"opacity: 1; stroke-width: 0px; fill: rgb(178, 24, 43); fill-opacity: 1;\"/><path class=\"point\" transform=\"translate(669.61,183.5)\" d=\"M3,0A3,3 0 1,1 0,-3A3,3 0 0,1 3,0Z\" style=\"opacity: 1; stroke-width: 0px; fill: rgb(178, 24, 43); fill-opacity: 1;\"/><path class=\"point\" transform=\"translate(670.21,183.5)\" d=\"M3,0A3,3 0 1,1 0,-3A3,3 0 0,1 3,0Z\" style=\"opacity: 1; stroke-width: 0px; fill: rgb(178, 24, 43); fill-opacity: 1;\"/><path class=\"point\" transform=\"translate(670.36,183.5)\" d=\"M3,0A3,3 0 1,1 0,-3A3,3 0 0,1 3,0Z\" style=\"opacity: 1; stroke-width: 0px; fill: rgb(178, 24, 43); fill-opacity: 1;\"/><path class=\"point\" transform=\"translate(670.83,183.5)\" d=\"M3,0A3,3 0 1,1 0,-3A3,3 0 0,1 3,0Z\" style=\"opacity: 1; stroke-width: 0px; fill: rgb(178, 24, 43); fill-opacity: 1;\"/><path class=\"point\" transform=\"translate(671.2,183.5)\" d=\"M3,0A3,3 0 1,1 0,-3A3,3 0 0,1 3,0Z\" style=\"opacity: 1; stroke-width: 0px; fill: rgb(178, 24, 43); fill-opacity: 1;\"/><path class=\"point\" transform=\"translate(671.4,183.5)\" d=\"M3,0A3,3 0 1,1 0,-3A3,3 0 0,1 3,0Z\" style=\"opacity: 1; stroke-width: 0px; fill: rgb(178, 24, 43); fill-opacity: 1;\"/><path class=\"point\" transform=\"translate(671.49,183.5)\" d=\"M3,0A3,3 0 1,1 0,-3A3,3 0 0,1 3,0Z\" style=\"opacity: 1; stroke-width: 0px; fill: rgb(178, 24, 43); fill-opacity: 1;\"/><path class=\"point\" transform=\"translate(672.12,183.5)\" d=\"M3,0A3,3 0 1,1 0,-3A3,3 0 0,1 3,0Z\" style=\"opacity: 1; stroke-width: 0px; fill: rgb(178, 24, 43); fill-opacity: 1;\"/><path class=\"point\" transform=\"translate(672.87,183.5)\" d=\"M3,0A3,3 0 1,1 0,-3A3,3 0 0,1 3,0Z\" style=\"opacity: 1; stroke-width: 0px; fill: rgb(178, 24, 43); fill-opacity: 1;\"/><path class=\"point\" transform=\"translate(672.94,183.5)\" d=\"M3,0A3,3 0 1,1 0,-3A3,3 0 0,1 3,0Z\" style=\"opacity: 1; stroke-width: 0px; fill: rgb(178, 24, 43); fill-opacity: 1;\"/><path class=\"point\" transform=\"translate(673.93,183.5)\" d=\"M3,0A3,3 0 1,1 0,-3A3,3 0 0,1 3,0Z\" style=\"opacity: 1; stroke-width: 0px; fill: rgb(178, 24, 43); fill-opacity: 1;\"/><path class=\"point\" transform=\"translate(674.26,183.5)\" d=\"M3,0A3,3 0 1,1 0,-3A3,3 0 0,1 3,0Z\" style=\"opacity: 1; stroke-width: 0px; fill: rgb(178, 24, 43); fill-opacity: 1;\"/><path class=\"point\" transform=\"translate(675.47,183.5)\" d=\"M3,0A3,3 0 1,1 0,-3A3,3 0 0,1 3,0Z\" style=\"opacity: 1; stroke-width: 0px; fill: rgb(178, 24, 43); fill-opacity: 1;\"/><path class=\"point\" transform=\"translate(675.77,183.5)\" d=\"M3,0A3,3 0 1,1 0,-3A3,3 0 0,1 3,0Z\" style=\"opacity: 1; stroke-width: 0px; fill: rgb(178, 24, 43); fill-opacity: 1;\"/><path class=\"point\" transform=\"translate(675.84,183.5)\" d=\"M3,0A3,3 0 1,1 0,-3A3,3 0 0,1 3,0Z\" style=\"opacity: 1; stroke-width: 0px; fill: rgb(178, 24, 43); fill-opacity: 1;\"/><path class=\"point\" transform=\"translate(676.15,183.5)\" d=\"M3,0A3,3 0 1,1 0,-3A3,3 0 0,1 3,0Z\" style=\"opacity: 1; stroke-width: 0px; fill: rgb(178, 24, 43); fill-opacity: 1;\"/><path class=\"point\" transform=\"translate(677.18,183.5)\" d=\"M3,0A3,3 0 1,1 0,-3A3,3 0 0,1 3,0Z\" style=\"opacity: 1; stroke-width: 0px; fill: rgb(178, 24, 43); fill-opacity: 1;\"/><path class=\"point\" transform=\"translate(677.33,183.5)\" d=\"M3,0A3,3 0 1,1 0,-3A3,3 0 0,1 3,0Z\" style=\"opacity: 1; stroke-width: 0px; fill: rgb(178, 24, 43); fill-opacity: 1;\"/><path class=\"point\" transform=\"translate(678.07,183.5)\" d=\"M3,0A3,3 0 1,1 0,-3A3,3 0 0,1 3,0Z\" style=\"opacity: 1; stroke-width: 0px; fill: rgb(178, 24, 43); fill-opacity: 1;\"/><path class=\"point\" transform=\"translate(678.39,183.5)\" d=\"M3,0A3,3 0 1,1 0,-3A3,3 0 0,1 3,0Z\" style=\"opacity: 1; stroke-width: 0px; fill: rgb(178, 24, 43); fill-opacity: 1;\"/><path class=\"point\" transform=\"translate(679.14,183.5)\" d=\"M3,0A3,3 0 1,1 0,-3A3,3 0 0,1 3,0Z\" style=\"opacity: 1; stroke-width: 0px; fill: rgb(178, 24, 43); fill-opacity: 1;\"/><path class=\"point\" transform=\"translate(680.2,183.5)\" d=\"M3,0A3,3 0 1,1 0,-3A3,3 0 0,1 3,0Z\" style=\"opacity: 1; stroke-width: 0px; fill: rgb(178, 24, 43); fill-opacity: 1;\"/><path class=\"point\" transform=\"translate(680.43,183.5)\" d=\"M3,0A3,3 0 1,1 0,-3A3,3 0 0,1 3,0Z\" style=\"opacity: 1; stroke-width: 0px; fill: rgb(178, 24, 43); fill-opacity: 1;\"/><path class=\"point\" transform=\"translate(681.36,183.5)\" d=\"M3,0A3,3 0 1,1 0,-3A3,3 0 0,1 3,0Z\" style=\"opacity: 1; stroke-width: 0px; fill: rgb(178, 24, 43); fill-opacity: 1;\"/><path class=\"point\" transform=\"translate(681.95,183.5)\" d=\"M3,0A3,3 0 1,1 0,-3A3,3 0 0,1 3,0Z\" style=\"opacity: 1; stroke-width: 0px; fill: rgb(178, 24, 43); fill-opacity: 1;\"/><path class=\"point\" transform=\"translate(682.26,183.5)\" d=\"M3,0A3,3 0 1,1 0,-3A3,3 0 0,1 3,0Z\" style=\"opacity: 1; stroke-width: 0px; fill: rgb(178, 24, 43); fill-opacity: 1;\"/><path class=\"point\" transform=\"translate(682.59,183.5)\" d=\"M3,0A3,3 0 1,1 0,-3A3,3 0 0,1 3,0Z\" style=\"opacity: 1; stroke-width: 0px; fill: rgb(178, 24, 43); fill-opacity: 1;\"/><path class=\"point\" transform=\"translate(684.26,183.5)\" d=\"M3,0A3,3 0 1,1 0,-3A3,3 0 0,1 3,0Z\" style=\"opacity: 1; stroke-width: 0px; fill: rgb(178, 24, 43); fill-opacity: 1;\"/><path class=\"point\" transform=\"translate(685.93,183.5)\" d=\"M3,0A3,3 0 1,1 0,-3A3,3 0 0,1 3,0Z\" style=\"opacity: 1; stroke-width: 0px; fill: rgb(178, 24, 43); fill-opacity: 1;\"/><path class=\"point\" transform=\"translate(686.12,183.5)\" d=\"M3,0A3,3 0 1,1 0,-3A3,3 0 0,1 3,0Z\" style=\"opacity: 1; stroke-width: 0px; fill: rgb(178, 24, 43); fill-opacity: 1;\"/><path class=\"point\" transform=\"translate(686.46,183.5)\" d=\"M3,0A3,3 0 1,1 0,-3A3,3 0 0,1 3,0Z\" style=\"opacity: 1; stroke-width: 0px; fill: rgb(178, 24, 43); fill-opacity: 1;\"/><path class=\"point\" transform=\"translate(687.19,183.5)\" d=\"M3,0A3,3 0 1,1 0,-3A3,3 0 0,1 3,0Z\" style=\"opacity: 1; stroke-width: 0px; fill: rgb(178, 24, 43); fill-opacity: 1;\"/><path class=\"point\" transform=\"translate(687.37,183.5)\" d=\"M3,0A3,3 0 1,1 0,-3A3,3 0 0,1 3,0Z\" style=\"opacity: 1; stroke-width: 0px; fill: rgb(178, 24, 43); fill-opacity: 1;\"/><path class=\"point\" transform=\"translate(687.47,183.5)\" d=\"M3,0A3,3 0 1,1 0,-3A3,3 0 0,1 3,0Z\" style=\"opacity: 1; stroke-width: 0px; fill: rgb(178, 24, 43); fill-opacity: 1;\"/><path class=\"point\" transform=\"translate(687.56,183.5)\" d=\"M3,0A3,3 0 1,1 0,-3A3,3 0 0,1 3,0Z\" style=\"opacity: 1; stroke-width: 0px; fill: rgb(178, 24, 43); fill-opacity: 1;\"/><path class=\"point\" transform=\"translate(687.87,183.5)\" d=\"M3,0A3,3 0 1,1 0,-3A3,3 0 0,1 3,0Z\" style=\"opacity: 1; stroke-width: 0px; fill: rgb(178, 24, 43); fill-opacity: 1;\"/><path class=\"point\" transform=\"translate(688.01,183.5)\" d=\"M3,0A3,3 0 1,1 0,-3A3,3 0 0,1 3,0Z\" style=\"opacity: 1; stroke-width: 0px; fill: rgb(178, 24, 43); fill-opacity: 1;\"/><path class=\"point\" transform=\"translate(688.69,183.5)\" d=\"M3,0A3,3 0 1,1 0,-3A3,3 0 0,1 3,0Z\" style=\"opacity: 1; stroke-width: 0px; fill: rgb(178, 24, 43); fill-opacity: 1;\"/><path class=\"point\" transform=\"translate(689.78,183.5)\" d=\"M3,0A3,3 0 1,1 0,-3A3,3 0 0,1 3,0Z\" style=\"opacity: 1; stroke-width: 0px; fill: rgb(178, 24, 43); fill-opacity: 1;\"/><path class=\"point\" transform=\"translate(689.98,183.5)\" d=\"M3,0A3,3 0 1,1 0,-3A3,3 0 0,1 3,0Z\" style=\"opacity: 1; stroke-width: 0px; fill: rgb(178, 24, 43); fill-opacity: 1;\"/><path class=\"point\" transform=\"translate(690.06,183.5)\" d=\"M3,0A3,3 0 1,1 0,-3A3,3 0 0,1 3,0Z\" style=\"opacity: 1; stroke-width: 0px; fill: rgb(178, 24, 43); fill-opacity: 1;\"/><path class=\"point\" transform=\"translate(690.13,183.5)\" d=\"M3,0A3,3 0 1,1 0,-3A3,3 0 0,1 3,0Z\" style=\"opacity: 1; stroke-width: 0px; fill: rgb(178, 24, 43); fill-opacity: 1;\"/><path class=\"point\" transform=\"translate(690.41,183.5)\" d=\"M3,0A3,3 0 1,1 0,-3A3,3 0 0,1 3,0Z\" style=\"opacity: 1; stroke-width: 0px; fill: rgb(178, 24, 43); fill-opacity: 1;\"/><path class=\"point\" transform=\"translate(691,183.5)\" d=\"M3,0A3,3 0 1,1 0,-3A3,3 0 0,1 3,0Z\" style=\"opacity: 1; stroke-width: 0px; fill: rgb(178, 24, 43); fill-opacity: 1;\"/><path class=\"point\" transform=\"translate(691.21,183.5)\" d=\"M3,0A3,3 0 1,1 0,-3A3,3 0 0,1 3,0Z\" style=\"opacity: 1; stroke-width: 0px; fill: rgb(178, 24, 43); fill-opacity: 1;\"/><path class=\"point\" transform=\"translate(691.21,183.5)\" d=\"M3,0A3,3 0 1,1 0,-3A3,3 0 0,1 3,0Z\" style=\"opacity: 1; stroke-width: 0px; fill: rgb(178, 24, 43); fill-opacity: 1;\"/><path class=\"point\" transform=\"translate(692.56,183.5)\" d=\"M3,0A3,3 0 1,1 0,-3A3,3 0 0,1 3,0Z\" style=\"opacity: 1; stroke-width: 0px; fill: rgb(178, 24, 43); fill-opacity: 1;\"/><path class=\"point\" transform=\"translate(692.61,183.5)\" d=\"M3,0A3,3 0 1,1 0,-3A3,3 0 0,1 3,0Z\" style=\"opacity: 1; stroke-width: 0px; fill: rgb(178, 24, 43); fill-opacity: 1;\"/><path class=\"point\" transform=\"translate(692.78,183.5)\" d=\"M3,0A3,3 0 1,1 0,-3A3,3 0 0,1 3,0Z\" style=\"opacity: 1; stroke-width: 0px; fill: rgb(178, 24, 43); fill-opacity: 1;\"/><path class=\"point\" transform=\"translate(693.41,183.5)\" d=\"M3,0A3,3 0 1,1 0,-3A3,3 0 0,1 3,0Z\" style=\"opacity: 1; stroke-width: 0px; fill: rgb(178, 24, 43); fill-opacity: 1;\"/><path class=\"point\" transform=\"translate(694.45,183.5)\" d=\"M3,0A3,3 0 1,1 0,-3A3,3 0 0,1 3,0Z\" style=\"opacity: 1; stroke-width: 0px; fill: rgb(178, 24, 43); fill-opacity: 1;\"/><path class=\"point\" transform=\"translate(695.86,183.5)\" d=\"M3,0A3,3 0 1,1 0,-3A3,3 0 0,1 3,0Z\" style=\"opacity: 1; stroke-width: 0px; fill: rgb(178, 24, 43); fill-opacity: 1;\"/><path class=\"point\" transform=\"translate(695.94,183.5)\" d=\"M3,0A3,3 0 1,1 0,-3A3,3 0 0,1 3,0Z\" style=\"opacity: 1; stroke-width: 0px; fill: rgb(178, 24, 43); fill-opacity: 1;\"/><path class=\"point\" transform=\"translate(696.47,183.5)\" d=\"M3,0A3,3 0 1,1 0,-3A3,3 0 0,1 3,0Z\" style=\"opacity: 1; stroke-width: 0px; fill: rgb(178, 24, 43); fill-opacity: 1;\"/><path class=\"point\" transform=\"translate(697.21,183.5)\" d=\"M3,0A3,3 0 1,1 0,-3A3,3 0 0,1 3,0Z\" style=\"opacity: 1; stroke-width: 0px; fill: rgb(178, 24, 43); fill-opacity: 1;\"/><path class=\"point\" transform=\"translate(698.37,183.5)\" d=\"M3,0A3,3 0 1,1 0,-3A3,3 0 0,1 3,0Z\" style=\"opacity: 1; stroke-width: 0px; fill: rgb(178, 24, 43); fill-opacity: 1;\"/><path class=\"point\" transform=\"translate(698.38,183.5)\" d=\"M3,0A3,3 0 1,1 0,-3A3,3 0 0,1 3,0Z\" style=\"opacity: 1; stroke-width: 0px; fill: rgb(178, 24, 43); fill-opacity: 1;\"/><path class=\"point\" transform=\"translate(699.12,183.5)\" d=\"M3,0A3,3 0 1,1 0,-3A3,3 0 0,1 3,0Z\" style=\"opacity: 1; stroke-width: 0px; fill: rgb(178, 24, 43); fill-opacity: 1;\"/><path class=\"point\" transform=\"translate(699.71,183.5)\" d=\"M3,0A3,3 0 1,1 0,-3A3,3 0 0,1 3,0Z\" style=\"opacity: 1; stroke-width: 0px; fill: rgb(178, 24, 43); fill-opacity: 1;\"/><path class=\"point\" transform=\"translate(700.27,183.5)\" d=\"M3,0A3,3 0 1,1 0,-3A3,3 0 0,1 3,0Z\" style=\"opacity: 1; stroke-width: 0px; fill: rgb(178, 24, 43); fill-opacity: 1;\"/><path class=\"point\" transform=\"translate(701.63,183.5)\" d=\"M3,0A3,3 0 1,1 0,-3A3,3 0 0,1 3,0Z\" style=\"opacity: 1; stroke-width: 0px; fill: rgb(178, 24, 43); fill-opacity: 1;\"/><path class=\"point\" transform=\"translate(705.3,183.5)\" d=\"M3,0A3,3 0 1,1 0,-3A3,3 0 0,1 3,0Z\" style=\"opacity: 1; stroke-width: 0px; fill: rgb(178, 24, 43); fill-opacity: 1;\"/><path class=\"point\" transform=\"translate(706.42,183.5)\" d=\"M3,0A3,3 0 1,1 0,-3A3,3 0 0,1 3,0Z\" style=\"opacity: 1; stroke-width: 0px; fill: rgb(178, 24, 43); fill-opacity: 1;\"/><path class=\"point\" transform=\"translate(707.19,183.5)\" d=\"M3,0A3,3 0 1,1 0,-3A3,3 0 0,1 3,0Z\" style=\"opacity: 1; stroke-width: 0px; fill: rgb(178, 24, 43); fill-opacity: 1;\"/><path class=\"point\" transform=\"translate(707.61,183.5)\" d=\"M3,0A3,3 0 1,1 0,-3A3,3 0 0,1 3,0Z\" style=\"opacity: 1; stroke-width: 0px; fill: rgb(178, 24, 43); fill-opacity: 1;\"/><path class=\"point\" transform=\"translate(709.62,183.5)\" d=\"M3,0A3,3 0 1,1 0,-3A3,3 0 0,1 3,0Z\" style=\"opacity: 1; stroke-width: 0px; fill: rgb(178, 24, 43); fill-opacity: 1;\"/><path class=\"point\" transform=\"translate(709.71,183.5)\" d=\"M3,0A3,3 0 1,1 0,-3A3,3 0 0,1 3,0Z\" style=\"opacity: 1; stroke-width: 0px; fill: rgb(178, 24, 43); fill-opacity: 1;\"/><path class=\"point\" transform=\"translate(709.86,183.5)\" d=\"M3,0A3,3 0 1,1 0,-3A3,3 0 0,1 3,0Z\" style=\"opacity: 1; stroke-width: 0px; fill: rgb(178, 24, 43); fill-opacity: 1;\"/><path class=\"point\" transform=\"translate(709.99,183.5)\" d=\"M3,0A3,3 0 1,1 0,-3A3,3 0 0,1 3,0Z\" style=\"opacity: 1; stroke-width: 0px; fill: rgb(178, 24, 43); fill-opacity: 1;\"/><path class=\"point\" transform=\"translate(710.19,183.5)\" d=\"M3,0A3,3 0 1,1 0,-3A3,3 0 0,1 3,0Z\" style=\"opacity: 1; stroke-width: 0px; fill: rgb(178, 24, 43); fill-opacity: 1;\"/><path class=\"point\" transform=\"translate(711.22,183.5)\" d=\"M3,0A3,3 0 1,1 0,-3A3,3 0 0,1 3,0Z\" style=\"opacity: 1; stroke-width: 0px; fill: rgb(178, 24, 43); fill-opacity: 1;\"/><path class=\"point\" transform=\"translate(711.74,183.5)\" d=\"M3,0A3,3 0 1,1 0,-3A3,3 0 0,1 3,0Z\" style=\"opacity: 1; stroke-width: 0px; fill: rgb(178, 24, 43); fill-opacity: 1;\"/><path class=\"point\" transform=\"translate(712.81,183.5)\" d=\"M3,0A3,3 0 1,1 0,-3A3,3 0 0,1 3,0Z\" style=\"opacity: 1; stroke-width: 0px; fill: rgb(178, 24, 43); fill-opacity: 1;\"/><path class=\"point\" transform=\"translate(714.06,183.5)\" d=\"M3,0A3,3 0 1,1 0,-3A3,3 0 0,1 3,0Z\" style=\"opacity: 1; stroke-width: 0px; fill: rgb(178, 24, 43); fill-opacity: 1;\"/><path class=\"point\" transform=\"translate(714.61,183.5)\" d=\"M3,0A3,3 0 1,1 0,-3A3,3 0 0,1 3,0Z\" style=\"opacity: 1; stroke-width: 0px; fill: rgb(178, 24, 43); fill-opacity: 1;\"/><path class=\"point\" transform=\"translate(715.07,183.5)\" d=\"M3,0A3,3 0 1,1 0,-3A3,3 0 0,1 3,0Z\" style=\"opacity: 1; stroke-width: 0px; fill: rgb(178, 24, 43); fill-opacity: 1;\"/><path class=\"point\" transform=\"translate(715.1,183.5)\" d=\"M3,0A3,3 0 1,1 0,-3A3,3 0 0,1 3,0Z\" style=\"opacity: 1; stroke-width: 0px; fill: rgb(178, 24, 43); fill-opacity: 1;\"/><path class=\"point\" transform=\"translate(716.76,183.5)\" d=\"M3,0A3,3 0 1,1 0,-3A3,3 0 0,1 3,0Z\" style=\"opacity: 1; stroke-width: 0px; fill: rgb(178, 24, 43); fill-opacity: 1;\"/><path class=\"point\" transform=\"translate(717.89,183.5)\" d=\"M3,0A3,3 0 1,1 0,-3A3,3 0 0,1 3,0Z\" style=\"opacity: 1; stroke-width: 0px; fill: rgb(178, 24, 43); fill-opacity: 1;\"/><path class=\"point\" transform=\"translate(719.02,183.5)\" d=\"M3,0A3,3 0 1,1 0,-3A3,3 0 0,1 3,0Z\" style=\"opacity: 1; stroke-width: 0px; fill: rgb(178, 24, 43); fill-opacity: 1;\"/><path class=\"point\" transform=\"translate(719.07,183.5)\" d=\"M3,0A3,3 0 1,1 0,-3A3,3 0 0,1 3,0Z\" style=\"opacity: 1; stroke-width: 0px; fill: rgb(178, 24, 43); fill-opacity: 1;\"/><path class=\"point\" transform=\"translate(722.49,183.5)\" d=\"M3,0A3,3 0 1,1 0,-3A3,3 0 0,1 3,0Z\" style=\"opacity: 1; stroke-width: 0px; fill: rgb(178, 24, 43); fill-opacity: 1;\"/><path class=\"point\" transform=\"translate(723.3,183.5)\" d=\"M3,0A3,3 0 1,1 0,-3A3,3 0 0,1 3,0Z\" style=\"opacity: 1; stroke-width: 0px; fill: rgb(178, 24, 43); fill-opacity: 1;\"/><path class=\"point\" transform=\"translate(725.52,183.5)\" d=\"M3,0A3,3 0 1,1 0,-3A3,3 0 0,1 3,0Z\" style=\"opacity: 1; stroke-width: 0px; fill: rgb(178, 24, 43); fill-opacity: 1;\"/><path class=\"point\" transform=\"translate(725.91,183.5)\" d=\"M3,0A3,3 0 1,1 0,-3A3,3 0 0,1 3,0Z\" style=\"opacity: 1; stroke-width: 0px; fill: rgb(178, 24, 43); fill-opacity: 1;\"/><path class=\"point\" transform=\"translate(726.14,183.5)\" d=\"M3,0A3,3 0 1,1 0,-3A3,3 0 0,1 3,0Z\" style=\"opacity: 1; stroke-width: 0px; fill: rgb(178, 24, 43); fill-opacity: 1;\"/><path class=\"point\" transform=\"translate(727.69,183.5)\" d=\"M3,0A3,3 0 1,1 0,-3A3,3 0 0,1 3,0Z\" style=\"opacity: 1; stroke-width: 0px; fill: rgb(178, 24, 43); fill-opacity: 1;\"/><path class=\"point\" transform=\"translate(727.96,183.5)\" d=\"M3,0A3,3 0 1,1 0,-3A3,3 0 0,1 3,0Z\" style=\"opacity: 1; stroke-width: 0px; fill: rgb(178, 24, 43); fill-opacity: 1;\"/><path class=\"point\" transform=\"translate(728.5,183.5)\" d=\"M3,0A3,3 0 1,1 0,-3A3,3 0 0,1 3,0Z\" style=\"opacity: 1; stroke-width: 0px; fill: rgb(178, 24, 43); fill-opacity: 1;\"/><path class=\"point\" transform=\"translate(732.52,183.5)\" d=\"M3,0A3,3 0 1,1 0,-3A3,3 0 0,1 3,0Z\" style=\"opacity: 1; stroke-width: 0px; fill: rgb(178, 24, 43); fill-opacity: 1;\"/><path class=\"point\" transform=\"translate(734.25,183.5)\" d=\"M3,0A3,3 0 1,1 0,-3A3,3 0 0,1 3,0Z\" style=\"opacity: 1; stroke-width: 0px; fill: rgb(178, 24, 43); fill-opacity: 1;\"/><path class=\"point\" transform=\"translate(734.36,183.5)\" d=\"M3,0A3,3 0 1,1 0,-3A3,3 0 0,1 3,0Z\" style=\"opacity: 1; stroke-width: 0px; fill: rgb(178, 24, 43); fill-opacity: 1;\"/><path class=\"point\" transform=\"translate(736.69,183.5)\" d=\"M3,0A3,3 0 1,1 0,-3A3,3 0 0,1 3,0Z\" style=\"opacity: 1; stroke-width: 0px; fill: rgb(178, 24, 43); fill-opacity: 1;\"/><path class=\"point\" transform=\"translate(737.56,183.5)\" d=\"M3,0A3,3 0 1,1 0,-3A3,3 0 0,1 3,0Z\" style=\"opacity: 1; stroke-width: 0px; fill: rgb(178, 24, 43); fill-opacity: 1;\"/><path class=\"point\" transform=\"translate(737.77,183.5)\" d=\"M3,0A3,3 0 1,1 0,-3A3,3 0 0,1 3,0Z\" style=\"opacity: 1; stroke-width: 0px; fill: rgb(178, 24, 43); fill-opacity: 1;\"/><path class=\"point\" transform=\"translate(738.27,183.5)\" d=\"M3,0A3,3 0 1,1 0,-3A3,3 0 0,1 3,0Z\" style=\"opacity: 1; stroke-width: 0px; fill: rgb(178, 24, 43); fill-opacity: 1;\"/><path class=\"point\" transform=\"translate(739.74,183.5)\" d=\"M3,0A3,3 0 1,1 0,-3A3,3 0 0,1 3,0Z\" style=\"opacity: 1; stroke-width: 0px; fill: rgb(178, 24, 43); fill-opacity: 1;\"/><path class=\"point\" transform=\"translate(741.38,183.5)\" d=\"M3,0A3,3 0 1,1 0,-3A3,3 0 0,1 3,0Z\" style=\"opacity: 1; stroke-width: 0px; fill: rgb(178, 24, 43); fill-opacity: 1;\"/><path class=\"point\" transform=\"translate(741.7,183.5)\" d=\"M3,0A3,3 0 1,1 0,-3A3,3 0 0,1 3,0Z\" style=\"opacity: 1; stroke-width: 0px; fill: rgb(178, 24, 43); fill-opacity: 1;\"/><path class=\"point\" transform=\"translate(743.85,183.5)\" d=\"M3,0A3,3 0 1,1 0,-3A3,3 0 0,1 3,0Z\" style=\"opacity: 1; stroke-width: 0px; fill: rgb(178, 24, 43); fill-opacity: 1;\"/><path class=\"point\" transform=\"translate(750.8,183.5)\" d=\"M3,0A3,3 0 1,1 0,-3A3,3 0 0,1 3,0Z\" style=\"opacity: 1; stroke-width: 0px; fill: rgb(178, 24, 43); fill-opacity: 1;\"/><path class=\"point\" transform=\"translate(751.05,183.5)\" d=\"M3,0A3,3 0 1,1 0,-3A3,3 0 0,1 3,0Z\" style=\"opacity: 1; stroke-width: 0px; fill: rgb(178, 24, 43); fill-opacity: 1;\"/><path class=\"point\" transform=\"translate(751.99,183.5)\" d=\"M3,0A3,3 0 1,1 0,-3A3,3 0 0,1 3,0Z\" style=\"opacity: 1; stroke-width: 0px; fill: rgb(178, 24, 43); fill-opacity: 1;\"/><path class=\"point\" transform=\"translate(753.66,183.5)\" d=\"M3,0A3,3 0 1,1 0,-3A3,3 0 0,1 3,0Z\" style=\"opacity: 1; stroke-width: 0px; fill: rgb(178, 24, 43); fill-opacity: 1;\"/><path class=\"point\" transform=\"translate(753.75,183.5)\" d=\"M3,0A3,3 0 1,1 0,-3A3,3 0 0,1 3,0Z\" style=\"opacity: 1; stroke-width: 0px; fill: rgb(178, 24, 43); fill-opacity: 1;\"/><path class=\"point\" transform=\"translate(759.43,183.5)\" d=\"M3,0A3,3 0 1,1 0,-3A3,3 0 0,1 3,0Z\" style=\"opacity: 1; stroke-width: 0px; fill: rgb(178, 24, 43); fill-opacity: 1;\"/><path class=\"point\" transform=\"translate(762.79,183.5)\" d=\"M3,0A3,3 0 1,1 0,-3A3,3 0 0,1 3,0Z\" style=\"opacity: 1; stroke-width: 0px; fill: rgb(178, 24, 43); fill-opacity: 1;\"/><path class=\"point\" transform=\"translate(763.98,183.5)\" d=\"M3,0A3,3 0 1,1 0,-3A3,3 0 0,1 3,0Z\" style=\"opacity: 1; stroke-width: 0px; fill: rgb(178, 24, 43); fill-opacity: 1;\"/><path class=\"point\" transform=\"translate(764.33,183.5)\" d=\"M3,0A3,3 0 1,1 0,-3A3,3 0 0,1 3,0Z\" style=\"opacity: 1; stroke-width: 0px; fill: rgb(178, 24, 43); fill-opacity: 1;\"/><path class=\"point\" transform=\"translate(768.82,183.5)\" d=\"M3,0A3,3 0 1,1 0,-3A3,3 0 0,1 3,0Z\" style=\"opacity: 1; stroke-width: 0px; fill: rgb(178, 24, 43); fill-opacity: 1;\"/><path class=\"point\" transform=\"translate(773.22,183.5)\" d=\"M3,0A3,3 0 1,1 0,-3A3,3 0 0,1 3,0Z\" style=\"opacity: 1; stroke-width: 0px; fill: rgb(178, 24, 43); fill-opacity: 1;\"/><path class=\"point\" transform=\"translate(774.43,183.5)\" d=\"M3,0A3,3 0 1,1 0,-3A3,3 0 0,1 3,0Z\" style=\"opacity: 1; stroke-width: 0px; fill: rgb(178, 24, 43); fill-opacity: 1;\"/><path class=\"point\" transform=\"translate(788.88,183.5)\" d=\"M3,0A3,3 0 1,1 0,-3A3,3 0 0,1 3,0Z\" style=\"opacity: 1; stroke-width: 0px; fill: rgb(178, 24, 43); fill-opacity: 1;\"/><path class=\"point\" transform=\"translate(791.94,183.5)\" d=\"M3,0A3,3 0 1,1 0,-3A3,3 0 0,1 3,0Z\" style=\"opacity: 1; stroke-width: 0px; fill: rgb(178, 24, 43); fill-opacity: 1;\"/><path class=\"point\" transform=\"translate(791.97,183.5)\" d=\"M3,0A3,3 0 1,1 0,-3A3,3 0 0,1 3,0Z\" style=\"opacity: 1; stroke-width: 0px; fill: rgb(178, 24, 43); fill-opacity: 1;\"/><path class=\"point\" transform=\"translate(798.72,183.5)\" d=\"M3,0A3,3 0 1,1 0,-3A3,3 0 0,1 3,0Z\" style=\"opacity: 1; stroke-width: 0px; fill: rgb(178, 24, 43); fill-opacity: 1;\"/><path class=\"point\" transform=\"translate(800.42,183.5)\" d=\"M3,0A3,3 0 1,1 0,-3A3,3 0 0,1 3,0Z\" style=\"opacity: 1; stroke-width: 0px; fill: rgb(178, 24, 43); fill-opacity: 1;\"/><path class=\"point\" transform=\"translate(805.46,183.5)\" d=\"M3,0A3,3 0 1,1 0,-3A3,3 0 0,1 3,0Z\" style=\"opacity: 1; stroke-width: 0px; fill: rgb(178, 24, 43); fill-opacity: 1;\"/><path class=\"point\" transform=\"translate(814.57,183.5)\" d=\"M3,0A3,3 0 1,1 0,-3A3,3 0 0,1 3,0Z\" style=\"opacity: 1; stroke-width: 0px; fill: rgb(178, 24, 43); fill-opacity: 1;\"/><path class=\"point\" transform=\"translate(819.08,183.5)\" d=\"M3,0A3,3 0 1,1 0,-3A3,3 0 0,1 3,0Z\" style=\"opacity: 1; stroke-width: 0px; fill: rgb(178, 24, 43); fill-opacity: 1;\"/><path class=\"point\" transform=\"translate(819.83,183.5)\" d=\"M3,0A3,3 0 1,1 0,-3A3,3 0 0,1 3,0Z\" style=\"opacity: 1; stroke-width: 0px; fill: rgb(178, 24, 43); fill-opacity: 1;\"/><path class=\"point\" transform=\"translate(838.08,183.5)\" d=\"M3,0A3,3 0 1,1 0,-3A3,3 0 0,1 3,0Z\" style=\"opacity: 1; stroke-width: 0px; fill: rgb(178, 24, 43); fill-opacity: 1;\"/><path class=\"point\" transform=\"translate(849.88,183.5)\" d=\"M3,0A3,3 0 1,1 0,-3A3,3 0 0,1 3,0Z\" style=\"opacity: 1; stroke-width: 0px; fill: rgb(178, 24, 43); fill-opacity: 1;\"/><path class=\"point\" transform=\"translate(855,183.5)\" d=\"M3,0A3,3 0 1,1 0,-3A3,3 0 0,1 3,0Z\" style=\"opacity: 1; stroke-width: 0px; fill: rgb(178, 24, 43); fill-opacity: 1;\"/></g></g></g></g><g class=\"overplot\"/><path class=\"xlines-above crisp\" d=\"M0,0\" style=\"fill: none;\"/><path class=\"ylines-above crisp\" d=\"M0,0\" style=\"fill: none;\"/><g class=\"overlines-above\"/><g class=\"xaxislayer-above\"><g class=\"xtick\"><text text-anchor=\"middle\" x=\"0\" y=\"460\" transform=\"translate(76.6,0)\" style=\"font-family: 'Open Sans', verdana, arial, sans-serif; font-size: 12px; fill: rgb(42, 63, 95); fill-opacity: 1; white-space: pre; opacity: 1;\">40</text></g><g class=\"xtick\"><text text-anchor=\"middle\" x=\"0\" y=\"460\" style=\"font-family: 'Open Sans', verdana, arial, sans-serif; font-size: 12px; fill: rgb(42, 63, 95); fill-opacity: 1; white-space: pre; opacity: 1;\" transform=\"translate(239.65,0)\">60</text></g><g class=\"xtick\"><text text-anchor=\"middle\" x=\"0\" y=\"460\" style=\"font-family: 'Open Sans', verdana, arial, sans-serif; font-size: 12px; fill: rgb(42, 63, 95); fill-opacity: 1; white-space: pre; opacity: 1;\" transform=\"translate(402.7,0)\">80</text></g><g class=\"xtick\"><text text-anchor=\"middle\" x=\"0\" y=\"460\" style=\"font-family: 'Open Sans', verdana, arial, sans-serif; font-size: 12px; fill: rgb(42, 63, 95); fill-opacity: 1; white-space: pre; opacity: 1;\" transform=\"translate(565.75,0)\">100</text></g><g class=\"xtick\"><text text-anchor=\"middle\" x=\"0\" y=\"460\" style=\"font-family: 'Open Sans', verdana, arial, sans-serif; font-size: 12px; fill: rgb(42, 63, 95); fill-opacity: 1; white-space: pre; opacity: 1;\" transform=\"translate(728.8,0)\">120</text></g><g class=\"xtick\"><text text-anchor=\"middle\" x=\"0\" y=\"460\" style=\"font-family: 'Open Sans', verdana, arial, sans-serif; font-size: 12px; fill: rgb(42, 63, 95); fill-opacity: 1; white-space: pre; opacity: 1;\" transform=\"translate(891.85,0)\">140</text></g></g><g class=\"yaxislayer-above\"><g class=\"ytick\"><text text-anchor=\"end\" x=\"49\" y=\"4.199999999999999\" transform=\"translate(0,263.5)\" style=\"font-family: 'Open Sans', verdana, arial, sans-serif; font-size: 12px; fill: rgb(42, 63, 95); fill-opacity: 1; white-space: pre; opacity: 1;\">trace 0</text></g></g><g class=\"overaxes-above\"/></g></g><g class=\"polarlayer\"/><g class=\"smithlayer\"/><g class=\"ternarylayer\"/><g class=\"geolayer\"/><g class=\"funnelarealayer\"/><g class=\"pielayer\"/><g class=\"iciclelayer\"/><g class=\"treemaplayer\"/><g class=\"sunburstlayer\"/><g class=\"glimages\"/><defs id=\"topdefs-66f950\"><g class=\"clips\"/></defs><g class=\"layer-above\"><g class=\"imagelayer\"/><g class=\"shapelayer\"/></g><g class=\"infolayer\"><g class=\"g-gtitle\"><text class=\"gtitle\" x=\"150\" y=\"25\" text-anchor=\"middle\" dy=\"0.7em\" style=\"font-family: 'Times New Roman'; font-size: 26px; fill: rgb(0, 0, 0); opacity: 1; font-weight: normal; white-space: pre;\">Boxplot of Weight</text></g><g class=\"g-xtitle\"><text class=\"xtitle\" x=\"500\" y=\"487.3\" text-anchor=\"middle\" style=\"font-family: 'Open Sans', verdana, arial, sans-serif; font-size: 14px; fill: rgb(42, 63, 95); opacity: 1; font-weight: normal; white-space: pre;\">Age</text></g><g class=\"g-ytitle\"/></g></svg>"
      ]
     },
     "metadata": {},
     "output_type": "display_data"
    }
   ],
   "source": [
    "fig = go.Figure(data=[go.Box(\n",
    "    x=df['wtkg'],\n",
    "    marker=dict(color=palette[1])\n",
    ")])\n",
    "\n",
    "fig.update_layout(\n",
    "    title_text=\"Boxplot of Weight\",\n",
    "    title_font_size=24,\n",
    "    title_font_family=\"Times New Roman\",\n",
    "    title_font_color=\"#000000\",  \n",
    "    paper_bgcolor='#ffffff',  \n",
    "    plot_bgcolor='#ffffff',  \n",
    "    xaxis=dict(title=\"Age\"),\n",
    ")\n",
    "\n",
    "fig.update_layout(\n",
    "    title={\n",
    "        'y':0.95,\n",
    "        'x':0.15,\n",
    "        'xanchor': 'center',\n",
    "        'yanchor': 'top'},\n",
    "    title_font_size=26,\n",
    "    margin=dict(l=50, r=50, t=80, b=50)\n",
    ")\n",
    "\n",
    "\n",
    "\n",
    "fig.update_layout(width=1000)\n",
    "\n",
    "fig.show('svg')"
   ]
  },
  {
   "cell_type": "markdown",
   "id": "c9817a62",
   "metadata": {
    "papermill": {
     "duration": 0.034271,
     "end_time": "2024-06-02T14:38:06.230331",
     "exception": false,
     "start_time": "2024-06-02T14:38:06.196060",
     "status": "completed"
    },
    "tags": []
   },
   "source": [
    "*A great deal of outliers are present beyond 100*"
   ]
  },
  {
   "cell_type": "markdown",
   "id": "61f76bcb",
   "metadata": {
    "papermill": {
     "duration": 0.034673,
     "end_time": "2024-06-02T14:38:06.301445",
     "exception": false,
     "start_time": "2024-06-02T14:38:06.266772",
     "status": "completed"
    },
    "tags": []
   },
   "source": [
    "----------------------------------------------------------------------------------------------------------------------------------------------------------"
   ]
  },
  {
   "cell_type": "markdown",
   "id": "46cd1c0f",
   "metadata": {
    "papermill": {
     "duration": 0.035691,
     "end_time": "2024-06-02T14:38:06.373688",
     "exception": false,
     "start_time": "2024-06-02T14:38:06.337997",
     "status": "completed"
    },
    "tags": []
   },
   "source": [
    "## hemo : Hemophilia \n",
    "***About***\n",
    "\n",
    "<div>\n",
    "<p>\n",
    "It refers to a genetic disorder characterized by the inability of the blood to clot normally. Individuals with hemophilia lack certain proteins, known as clotting factors, that are essential for blood clotting. As a result, they are at an increased risk of excessive bleeding, both internally and externally, even from minor injuries.\n",
    "\n",
    " </p>  \n",
    "</div>\n",
    "\n",
    "\n",
    "***Conclusions***\n",
    "- *Majority of the patients do not have hemophilia*"
   ]
  },
  {
   "cell_type": "code",
   "execution_count": 15,
   "id": "b853d67f",
   "metadata": {
    "execution": {
     "iopub.execute_input": "2024-06-02T14:38:06.445832Z",
     "iopub.status.busy": "2024-06-02T14:38:06.445459Z",
     "iopub.status.idle": "2024-06-02T14:38:06.454128Z",
     "shell.execute_reply": "2024-06-02T14:38:06.453052Z"
    },
    "papermill": {
     "duration": 0.04811,
     "end_time": "2024-06-02T14:38:06.456792",
     "exception": false,
     "start_time": "2024-06-02T14:38:06.408682",
     "status": "completed"
    },
    "tags": []
   },
   "outputs": [
    {
     "data": {
      "text/plain": [
       "hemo\n",
       "0    14520\n",
       "1      480\n",
       "Name: count, dtype: int64"
      ]
     },
     "execution_count": 15,
     "metadata": {},
     "output_type": "execute_result"
    }
   ],
   "source": [
    "df['hemo'].value_counts()"
   ]
  },
  {
   "cell_type": "code",
   "execution_count": 16,
   "id": "5921e615",
   "metadata": {
    "_kg_hide-input": false,
    "execution": {
     "iopub.execute_input": "2024-06-02T14:38:06.528474Z",
     "iopub.status.busy": "2024-06-02T14:38:06.527486Z",
     "iopub.status.idle": "2024-06-02T14:38:06.664264Z",
     "shell.execute_reply": "2024-06-02T14:38:06.663284Z"
    },
    "papermill": {
     "duration": 0.175547,
     "end_time": "2024-06-02T14:38:06.666651",
     "exception": false,
     "start_time": "2024-06-02T14:38:06.491104",
     "status": "completed"
    },
    "tags": []
   },
   "outputs": [
    {
     "data": {
      "image/svg+xml": [
       "<svg class=\"main-svg\" xmlns=\"http://www.w3.org/2000/svg\" xmlns:xlink=\"http://www.w3.org/1999/xlink\" width=\"1000\" height=\"500\" style=\"\" viewBox=\"0 0 1000 500\"><rect x=\"0\" y=\"0\" width=\"1000\" height=\"500\" style=\"fill: rgb(255, 255, 255); fill-opacity: 1;\"/><defs id=\"defs-583d50\"><g class=\"clips\"/><g class=\"gradients\"/><g class=\"patterns\"/></defs><g class=\"bglayer\"/><g class=\"layer-below\"><g class=\"imagelayer\"/><g class=\"shapelayer\"/></g><g class=\"cartesianlayer\"/><g class=\"polarlayer\"/><g class=\"smithlayer\"/><g class=\"ternarylayer\"/><g class=\"geolayer\"/><g class=\"funnelarealayer\"/><g class=\"pielayer\"><g class=\"trace\" stroke-linejoin=\"round\" style=\"opacity: 1;\"><g class=\"slice\"><path class=\"surface\" d=\"M500,265l0,-185a185,185 0 1 1 -36.94634639516533,3.7268153089143254Z\" style=\"pointer-events: none; fill: rgb(197, 27, 125); fill-opacity: 1; stroke-width: 1; stroke: rgb(0, 0, 0); stroke-opacity: 1;\"/><g class=\"slicetext\"><text data-notex=\"1\" class=\"slicetext\" transform=\"translate(509.2834586237374,352.93140657077026)\" text-anchor=\"middle\" x=\"0\" y=\"0\" style=\"font-family: 'Open Sans', verdana, arial, sans-serif; font-size: 14px; fill: rgb(255, 255, 255); fill-opacity: 1; white-space: pre;\"><tspan class=\"line\" dy=\"0em\" x=\"0\" y=\"0\">0</tspan><tspan class=\"line\" dy=\"1.3em\" x=\"0\" y=\"0\">96.8%</tspan></text></g></g><g class=\"slice\"><path class=\"surface\" d=\"M500,265l-36.94634639516529,-181.27318469108567a185,185 0 0 1 36.94634639516529,-3.7268153089143254Z\" style=\"pointer-events: none; fill: rgb(222, 119, 174); fill-opacity: 1; stroke-width: 1; stroke: rgb(0, 0, 0); stroke-opacity: 1;\"/><g class=\"slicetext\"><text data-notex=\"1\" class=\"slicetext\" transform=\"translate(456.91355150252525,59.903191898814484)\" text-anchor=\"middle\" x=\"0\" y=\"0\" style=\"font-family: 'Open Sans', verdana, arial, sans-serif; font-size: 14px; fill: rgb(255, 255, 255); fill-opacity: 1; white-space: pre;\"><tspan class=\"line\" dy=\"0em\" x=\"0\" y=\"0\">1</tspan><tspan class=\"line\" dy=\"1.3em\" x=\"0\" y=\"0\">3.2%</tspan></text></g></g></g></g><g class=\"iciclelayer\"/><g class=\"treemaplayer\"/><g class=\"sunburstlayer\"/><g class=\"glimages\"/><defs id=\"topdefs-583d50\"><g class=\"clips\"/><clipPath id=\"legend583d50\"><rect width=\"144.4\" height=\"75.4\" x=\"0.3\" y=\"0.3\"/></clipPath></defs><g class=\"layer-above\"><g class=\"imagelayer\"/><g class=\"shapelayer\"/></g><g class=\"infolayer\"><g class=\"legend\" pointer-events=\"all\" transform=\"translate(704,227)\"><rect class=\"bg\" shape-rendering=\"crispEdges\" style=\"stroke: rgb(0, 0, 0); stroke-opacity: 1; fill: rgb(255, 255, 255); fill-opacity: 1; stroke-width: 0.3px;\" width=\"144.7\" height=\"75.7\" x=\"0.15\" y=\"0.15\"/><g class=\"scrollbox\" transform=\"\" clip-path=\"url(#legend583d50)\"><text class=\"legendtitletext\" text-anchor=\"start\" x=\"2.3\" y=\"22.400000000000002\" style=\"font-family: 'Times New Roman'; font-size: 17px; fill: rgb(0, 0, 0); fill-opacity: 1; white-space: pre;\">Hemophilia (no/yes)</text><g class=\"groups\"><g class=\"traces\" transform=\"translate(0.3,38)\" style=\"opacity: 1;\"><text class=\"legendtext\" text-anchor=\"start\" x=\"40\" y=\"5.46\" style=\"font-family: 'Times New Roman'; font-size: 14px; fill: rgb(0, 0, 0); fill-opacity: 1; white-space: pre;\">0</text><g class=\"layers\" style=\"opacity: 1;\"><g class=\"legendfill\"/><g class=\"legendlines\"/><g class=\"legendsymbols\"><g class=\"legendpoints\"><path class=\"legendpie\" d=\"M6,6H-6V-6H6Z\" transform=\"translate(20,0)\" style=\"fill: rgb(197, 27, 125); fill-opacity: 1; stroke-width: 1; stroke: rgb(0, 0, 0); stroke-opacity: 1;\"/></g></g></g><rect class=\"legendtoggle\" x=\"0\" y=\"-10.6\" width=\"47\" height=\"21.2\" style=\"fill: rgb(0, 0, 0); fill-opacity: 0;\"/></g><g class=\"traces\" transform=\"translate(0.3,59.2)\" style=\"opacity: 1;\"><text class=\"legendtext\" text-anchor=\"start\" x=\"40\" y=\"5.46\" style=\"font-family: 'Times New Roman'; font-size: 14px; fill: rgb(0, 0, 0); fill-opacity: 1; white-space: pre;\">1</text><g class=\"layers\" style=\"opacity: 1;\"><g class=\"legendfill\"/><g class=\"legendlines\"/><g class=\"legendsymbols\"><g class=\"legendpoints\"><path class=\"legendpie\" d=\"M6,6H-6V-6H6Z\" transform=\"translate(20,0)\" style=\"fill: rgb(222, 119, 174); fill-opacity: 1; stroke-width: 1; stroke: rgb(0, 0, 0); stroke-opacity: 1;\"/></g></g></g><rect class=\"legendtoggle\" x=\"0\" y=\"-10.6\" width=\"47\" height=\"21.2\" style=\"fill: rgb(0, 0, 0); fill-opacity: 0;\"/></g></g></g><rect class=\"scrollbar\" rx=\"20\" ry=\"3\" width=\"0\" height=\"0\" style=\"fill: rgb(128, 139, 164); fill-opacity: 1;\" x=\"0\" y=\"0\"/></g><g class=\"g-gtitle\"><text class=\"gtitle\" x=\"210\" y=\"25\" text-anchor=\"middle\" dy=\"0.7em\" style=\"font-family: 'Times New Roman'; font-size: 26px; fill: rgb(0, 0, 0); opacity: 1; font-weight: normal; white-space: pre;\">Distribution of Hemophilia</text></g><g class=\"annotation\" data-index=\"0\" style=\"opacity: 1;\"><g class=\"annotation-text-g\" transform=\"rotate(0,500,477.00000000000006)\"><g class=\"cursor-pointer\" transform=\"translate(363,467)\"><rect class=\"bg\" x=\"0.5\" y=\"0.5\" width=\"273\" height=\"19\" style=\"stroke-width: 1px; stroke: rgb(0, 0, 0); stroke-opacity: 0; fill: rgb(0, 0, 0); fill-opacity: 0;\"/><text class=\"annotation-text\" text-anchor=\"middle\" x=\"137.03125\" y=\"15\" style=\"font-family: 'Open Sans', verdana, arial, sans-serif; font-size: 14px; fill: rgb(0, 0, 0); fill-opacity: 1; white-space: pre;\">Majority of patients do not have hemophilia.</text></g></g></g></g></svg>"
      ]
     },
     "metadata": {},
     "output_type": "display_data"
    }
   ],
   "source": [
    "palette = cl.scales['9']['div']['PiYG']\n",
    "\n",
    "\n",
    "hemo = df['hemo'].value_counts().reset_index()\n",
    "hemo.columns = ['hemo', 'count']\n",
    "\n",
    "fig = go.Figure(data=[go.Pie(\n",
    "    labels=hemo['hemo'],\n",
    "    values=hemo['count'],\n",
    "    marker=dict(colors=palette, line=dict(color='#000000', width=1)),\n",
    "    textinfo=\"label+percent\",\n",
    "    textfont=dict(size=14, color='#FFFFFF')\n",
    ")])\n",
    "\n",
    "\n",
    "fig.update_layout(\n",
    "    title_text=\"Hemophilia Distribution\",\n",
    "    title_font_size=24,\n",
    "    title_font_family=\"Times New Roman\",\n",
    "    title_font_color=\"#000000\",  \n",
    "    paper_bgcolor='#ffffff',  \n",
    "    plot_bgcolor='#ffffff', \n",
    "    showlegend=True,\n",
    "    legend_title_text='Hemophilia (no/yes)',\n",
    "    legend=dict(\n",
    "        x=0.8,\n",
    "        y=0.5,\n",
    "        traceorder='normal',\n",
    "        font=dict(\n",
    "            family=\"Times New Roman\",\n",
    "            size=14,\n",
    "            color=\"#000000\"\n",
    "        ),\n",
    "        bgcolor=\"#ffffff\",  \n",
    "        bordercolor=\"#000000\", \n",
    "        borderwidth=0.3,\n",
    "        orientation=\"v\" \n",
    "    )\n",
    ")\n",
    "\n",
    "fig.update_layout(width=1000)\n",
    "\n",
    "fig.update_layout(\n",
    "    title={\n",
    "        'text': \"Distribution of Hemophilia\",\n",
    "        'y':0.95,\n",
    "        'x':0.21,\n",
    "        'xanchor': 'center',\n",
    "        'yanchor': 'top'},\n",
    "    title_font_size=26,\n",
    "    margin=dict(l=50, r=50, t=80, b=50)\n",
    ")\n",
    "\n",
    "fig.add_annotation(\n",
    "    text=\"Majority of patients do not have hemophilia.\",\n",
    "    x=0.5,\n",
    "    y=-0.10,\n",
    "    showarrow=False,\n",
    "    font=dict(color=\"#000000\", size=14) \n",
    ")\n",
    "\n",
    "# Show the pie chart\n",
    "fig.show('svg')\n"
   ]
  },
  {
   "cell_type": "markdown",
   "id": "c282cd46",
   "metadata": {
    "papermill": {
     "duration": 0.041778,
     "end_time": "2024-06-02T14:38:06.743608",
     "exception": false,
     "start_time": "2024-06-02T14:38:06.701830",
     "status": "completed"
    },
    "tags": []
   },
   "source": [
    "----------------------------------------------------------------------------------------------------------------------------------------------------------"
   ]
  },
  {
   "cell_type": "markdown",
   "id": "85f8d27c",
   "metadata": {
    "papermill": {
     "duration": 0.034891,
     "end_time": "2024-06-02T14:38:06.813154",
     "exception": false,
     "start_time": "2024-06-02T14:38:06.778263",
     "status": "completed"
    },
    "tags": []
   },
   "source": [
    "## homo : Homosexual Activity \n",
    "***About***\n",
    "\n",
    "<div>\n",
    "<p>\n",
    "Homosexual activity refers to sexual activity between individuals of the same sex, often between men. Historically, homosexual activity has been associated with a higher risk of HIV transmission due to various factor.\n",
    " </p>  \n",
    "</div>\n",
    "\n",
    "\n",
    "***Conclusions***\n",
    "- *Majority of the patients have indulged in homosexual activity*"
   ]
  },
  {
   "cell_type": "code",
   "execution_count": 17,
   "id": "8c876b78",
   "metadata": {
    "execution": {
     "iopub.execute_input": "2024-06-02T14:38:06.887265Z",
     "iopub.status.busy": "2024-06-02T14:38:06.886138Z",
     "iopub.status.idle": "2024-06-02T14:38:06.896535Z",
     "shell.execute_reply": "2024-06-02T14:38:06.895307Z"
    },
    "papermill": {
     "duration": 0.050845,
     "end_time": "2024-06-02T14:38:06.899460",
     "exception": false,
     "start_time": "2024-06-02T14:38:06.848615",
     "status": "completed"
    },
    "tags": []
   },
   "outputs": [
    {
     "data": {
      "text/plain": [
       "homo\n",
       "1    9791\n",
       "0    5209\n",
       "Name: count, dtype: int64"
      ]
     },
     "execution_count": 17,
     "metadata": {},
     "output_type": "execute_result"
    }
   ],
   "source": [
    "df['homo'].value_counts()"
   ]
  },
  {
   "cell_type": "code",
   "execution_count": 18,
   "id": "7ce9041d",
   "metadata": {
    "execution": {
     "iopub.execute_input": "2024-06-02T14:38:06.973742Z",
     "iopub.status.busy": "2024-06-02T14:38:06.972860Z",
     "iopub.status.idle": "2024-06-02T14:38:07.044100Z",
     "shell.execute_reply": "2024-06-02T14:38:07.042620Z"
    },
    "papermill": {
     "duration": 0.11129,
     "end_time": "2024-06-02T14:38:07.047084",
     "exception": false,
     "start_time": "2024-06-02T14:38:06.935794",
     "status": "completed"
    },
    "tags": []
   },
   "outputs": [
    {
     "data": {
      "image/svg+xml": [
       "<svg class=\"main-svg\" xmlns=\"http://www.w3.org/2000/svg\" xmlns:xlink=\"http://www.w3.org/1999/xlink\" width=\"1000\" height=\"500\" style=\"\" viewBox=\"0 0 1000 500\"><rect x=\"0\" y=\"0\" width=\"1000\" height=\"500\" style=\"fill: rgb(255, 255, 255); fill-opacity: 1;\"/><defs id=\"defs-aef5cb\"><g class=\"clips\"/><g class=\"gradients\"/><g class=\"patterns\"/></defs><g class=\"bglayer\"/><g class=\"layer-below\"><g class=\"imagelayer\"/><g class=\"shapelayer\"/></g><g class=\"cartesianlayer\"/><g class=\"polarlayer\"/><g class=\"smithlayer\"/><g class=\"ternarylayer\"/><g class=\"geolayer\"/><g class=\"funnelarealayer\"/><g class=\"pielayer\"><g class=\"trace\" stroke-linejoin=\"round\" style=\"opacity: 1;\"><g class=\"slice\"><path class=\"surface\" d=\"M500,265l0,-185a185,185 0 1 1 -151.51349032494048,291.1539554117234Z\" style=\"pointer-events: none; fill: rgb(215, 48, 39); fill-opacity: 1; stroke-width: 1; stroke: rgb(0, 0, 0); stroke-opacity: 1;\"/><g class=\"slicetext\"><text data-notex=\"1\" class=\"slicetext\" transform=\"translate(582.0544649540542,303.5987276758746)\" text-anchor=\"middle\" x=\"0\" y=\"0\" style=\"font-family: 'Open Sans', verdana, arial, sans-serif; font-size: 14px; fill: rgb(255, 255, 255); fill-opacity: 1; white-space: pre;\"><tspan class=\"line\" dy=\"0em\" x=\"0\" y=\"0\">1</tspan><tspan class=\"line\" dy=\"1.3em\" x=\"0\" y=\"0\">65.3%</tspan></text></g></g><g class=\"slice\"><path class=\"surface\" d=\"M500,265l-151.51349032494056,106.15395541172333a185,185 0 0 1 151.51349032494056,-291.15395541172336Z\" style=\"pointer-events: none; fill: rgb(244, 109, 67); fill-opacity: 1; stroke-width: 1; stroke: rgb(0, 0, 0); stroke-opacity: 1;\"/><g class=\"slicetext\"><text data-notex=\"1\" class=\"slicetext\" transform=\"translate(413.03530379188135,215.64291404709883)\" text-anchor=\"middle\" x=\"0\" y=\"0\" style=\"font-family: 'Open Sans', verdana, arial, sans-serif; font-size: 14px; fill: rgb(255, 255, 255); fill-opacity: 1; white-space: pre;\"><tspan class=\"line\" dy=\"0em\" x=\"0\" y=\"0\">0</tspan><tspan class=\"line\" dy=\"1.3em\" x=\"0\" y=\"0\">34.7%</tspan></text></g></g></g></g><g class=\"iciclelayer\"/><g class=\"treemaplayer\"/><g class=\"sunburstlayer\"/><g class=\"glimages\"/><defs id=\"topdefs-aef5cb\"><g class=\"clips\"/><clipPath id=\"legendaef5cb\"><rect width=\"210.6\" height=\"74.6\" x=\"0.7\" y=\"0.7\"/></clipPath></defs><g class=\"layer-above\"><g class=\"imagelayer\"/><g class=\"shapelayer\"/></g><g class=\"infolayer\"><g class=\"legend\" pointer-events=\"all\" transform=\"translate(770,227)\"><rect class=\"bg\" shape-rendering=\"crispEdges\" style=\"stroke: rgb(0, 0, 0); stroke-opacity: 1; fill: rgb(255, 255, 255); fill-opacity: 1; stroke-width: 0.7px;\" width=\"211.3\" height=\"75.3\" x=\"0.35\" y=\"0.35\"/><g class=\"scrollbox\" transform=\"\" clip-path=\"url(#legendaef5cb)\"><text class=\"legendtitletext\" text-anchor=\"start\" x=\"2.7\" y=\"22.8\" style=\"font-family: 'Times New Roman'; font-size: 17px; fill: rgb(0, 0, 0); fill-opacity: 1; white-space: pre;\">Homosexual Activity (no/yes)</text><g class=\"groups\"><g class=\"traces\" transform=\"translate(0.7,38.4)\" style=\"opacity: 1;\"><text class=\"legendtext\" text-anchor=\"start\" x=\"40\" y=\"5.46\" style=\"font-family: 'Times New Roman'; font-size: 14px; fill: rgb(0, 0, 0); fill-opacity: 1; white-space: pre;\">1</text><g class=\"layers\" style=\"opacity: 1;\"><g class=\"legendfill\"/><g class=\"legendlines\"/><g class=\"legendsymbols\"><g class=\"legendpoints\"><path class=\"legendpie\" d=\"M6,6H-6V-6H6Z\" transform=\"translate(20,0)\" style=\"fill: rgb(215, 48, 39); fill-opacity: 1; stroke-width: 1; stroke: rgb(0, 0, 0); stroke-opacity: 1;\"/></g></g></g><rect class=\"legendtoggle\" x=\"0\" y=\"-10.6\" width=\"47\" height=\"21.2\" style=\"fill: rgb(0, 0, 0); fill-opacity: 0;\"/></g><g class=\"traces\" transform=\"translate(0.7,59.6)\" style=\"opacity: 1;\"><text class=\"legendtext\" text-anchor=\"start\" x=\"40\" y=\"5.46\" style=\"font-family: 'Times New Roman'; font-size: 14px; fill: rgb(0, 0, 0); fill-opacity: 1; white-space: pre;\">0</text><g class=\"layers\" style=\"opacity: 1;\"><g class=\"legendfill\"/><g class=\"legendlines\"/><g class=\"legendsymbols\"><g class=\"legendpoints\"><path class=\"legendpie\" d=\"M6,6H-6V-6H6Z\" transform=\"translate(20,0)\" style=\"fill: rgb(244, 109, 67); fill-opacity: 1; stroke-width: 1; stroke: rgb(0, 0, 0); stroke-opacity: 1;\"/></g></g></g><rect class=\"legendtoggle\" x=\"0\" y=\"-10.6\" width=\"47\" height=\"21.2\" style=\"fill: rgb(0, 0, 0); fill-opacity: 0;\"/></g></g></g><rect class=\"scrollbar\" rx=\"20\" ry=\"3\" width=\"0\" height=\"0\" x=\"0\" y=\"0\" style=\"fill: rgb(128, 139, 164); fill-opacity: 1;\"/></g><g class=\"g-gtitle\"><text class=\"gtitle\" x=\"210\" y=\"25\" text-anchor=\"middle\" dy=\"0.7em\" style=\"font-family: 'Times New Roman'; font-size: 26px; fill: rgb(0, 0, 0); opacity: 1; font-weight: normal; white-space: pre;\">Distribution of Homosexual Activity</text></g><g class=\"annotation\" data-index=\"0\" style=\"opacity: 1;\"><g class=\"annotation-text-g\" transform=\"rotate(0,500,477.00000000000006)\"><g class=\"cursor-pointer\" transform=\"translate(322,467)\"><rect class=\"bg\" x=\"0.5\" y=\"0.5\" width=\"355\" height=\"19\" style=\"stroke-width: 1px; stroke: rgb(0, 0, 0); stroke-opacity: 0; fill: rgb(0, 0, 0); fill-opacity: 0;\"/><text class=\"annotation-text\" text-anchor=\"middle\" x=\"178.140625\" y=\"15\" style=\"font-family: 'Open Sans', verdana, arial, sans-serif; font-size: 14px; fill: rgb(0, 0, 0); fill-opacity: 1; white-space: pre;\">Majority of patients have indulged in homosexual activity.</text></g></g></g></g></svg>"
      ]
     },
     "metadata": {},
     "output_type": "display_data"
    }
   ],
   "source": [
    "palette = cl.scales['9']['div']['RdYlBu']\n",
    "\n",
    "\n",
    "homo = df['homo'].value_counts().reset_index()\n",
    "homo.columns = ['homo', 'count']\n",
    "\n",
    "fig = go.Figure(data=[go.Pie(\n",
    "    labels=homo['homo'],\n",
    "    values=homo['count'],\n",
    "    marker=dict(colors=palette, line=dict(color='#000000', width=1)),\n",
    "    textinfo=\"label+percent\",\n",
    "    textfont=dict(size=14, color='#FFFFFF')\n",
    ")])\n",
    "\n",
    "\n",
    "fig.update_layout(\n",
    "    title_text=\"Distribution of Homosexual Activity\",\n",
    "    title_font_size=24,\n",
    "    title_font_family=\"Times New Roman\",\n",
    "    title_font_color=\"#000000\",  \n",
    "    paper_bgcolor='#ffffff',  \n",
    "    plot_bgcolor='#ffffff', \n",
    "    showlegend=True,\n",
    "    legend_title_text='Homosexual Activity (no/yes)',\n",
    "    legend=dict(\n",
    "        x=0.8,\n",
    "        y=0.5,\n",
    "        traceorder='normal',\n",
    "        font=dict(\n",
    "            family=\"Times New Roman\",\n",
    "            size=14,\n",
    "            color=\"#000000\"\n",
    "        ),\n",
    "        bgcolor=\"#ffffff\",  \n",
    "        bordercolor=\"#000000\", \n",
    "        borderwidth=0.7,\n",
    "        orientation=\"v\" \n",
    "    )\n",
    ")\n",
    "\n",
    "fig.update_layout(width=1000)\n",
    "\n",
    "fig.update_layout(\n",
    "    title={\n",
    "        'text': \"Distribution of Homosexual Activity\",\n",
    "        'y':0.95,\n",
    "        'x':0.21,\n",
    "        'xanchor': 'center',\n",
    "        'yanchor': 'top'},\n",
    "    title_font_size=26,\n",
    "    margin=dict(l=50, r=50, t=80, b=50)\n",
    ")\n",
    "\n",
    "fig.add_annotation(\n",
    "    text=\"Majority of patients have indulged in homosexual activity.\",\n",
    "    x=0.5,\n",
    "    y=-0.10,\n",
    "    showarrow=False,\n",
    "    font=dict(color=\"#000000\", size=14) \n",
    ")\n",
    "\n",
    "# Show the pie chart\n",
    "fig.show('svg')\n"
   ]
  },
  {
   "cell_type": "markdown",
   "id": "add9fec6",
   "metadata": {
    "papermill": {
     "duration": 0.034935,
     "end_time": "2024-06-02T14:38:07.118018",
     "exception": false,
     "start_time": "2024-06-02T14:38:07.083083",
     "status": "completed"
    },
    "tags": []
   },
   "source": [
    "----------------------------------------------------------------------------------------------------------------------------------------------------------\n"
   ]
  },
  {
   "cell_type": "markdown",
   "id": "bf2a1deb",
   "metadata": {
    "papermill": {
     "duration": 0.038394,
     "end_time": "2024-06-02T14:38:07.191874",
     "exception": false,
     "start_time": "2024-06-02T14:38:07.153480",
     "status": "completed"
    },
    "tags": []
   },
   "source": [
    "## drugs :  history of intravenous (IV) drug use  \n",
    "\n",
    "***Conclusions***\n",
    "- *Majority of the patients do not have a history of drug use*"
   ]
  },
  {
   "cell_type": "code",
   "execution_count": 19,
   "id": "9ecdebf1",
   "metadata": {
    "execution": {
     "iopub.execute_input": "2024-06-02T14:38:07.265206Z",
     "iopub.status.busy": "2024-06-02T14:38:07.264827Z",
     "iopub.status.idle": "2024-06-02T14:38:07.272547Z",
     "shell.execute_reply": "2024-06-02T14:38:07.271574Z"
    },
    "papermill": {
     "duration": 0.047284,
     "end_time": "2024-06-02T14:38:07.274650",
     "exception": false,
     "start_time": "2024-06-02T14:38:07.227366",
     "status": "completed"
    },
    "tags": []
   },
   "outputs": [
    {
     "data": {
      "text/plain": [
       "drugs\n",
       "0    13082\n",
       "1     1918\n",
       "Name: count, dtype: int64"
      ]
     },
     "execution_count": 19,
     "metadata": {},
     "output_type": "execute_result"
    }
   ],
   "source": [
    "df['drugs'].value_counts()"
   ]
  },
  {
   "cell_type": "code",
   "execution_count": 20,
   "id": "520fb2fc",
   "metadata": {
    "execution": {
     "iopub.execute_input": "2024-06-02T14:38:07.362716Z",
     "iopub.status.busy": "2024-06-02T14:38:07.361737Z",
     "iopub.status.idle": "2024-06-02T14:38:07.431279Z",
     "shell.execute_reply": "2024-06-02T14:38:07.429959Z"
    },
    "papermill": {
     "duration": 0.112219,
     "end_time": "2024-06-02T14:38:07.434579",
     "exception": false,
     "start_time": "2024-06-02T14:38:07.322360",
     "status": "completed"
    },
    "tags": []
   },
   "outputs": [
    {
     "data": {
      "image/svg+xml": [
       "<svg class=\"main-svg\" xmlns=\"http://www.w3.org/2000/svg\" xmlns:xlink=\"http://www.w3.org/1999/xlink\" width=\"1000\" height=\"500\" style=\"\" viewBox=\"0 0 1000 500\"><rect x=\"0\" y=\"0\" width=\"1000\" height=\"500\" style=\"fill: rgb(255, 255, 255); fill-opacity: 1;\"/><defs id=\"defs-c4e2ae\"><g class=\"clips\"/><g class=\"gradients\"/><g class=\"patterns\"/></defs><g class=\"bglayer\"/><g class=\"layer-below\"><g class=\"imagelayer\"/><g class=\"shapelayer\"/></g><g class=\"cartesianlayer\"/><g class=\"polarlayer\"/><g class=\"smithlayer\"/><g class=\"ternarylayer\"/><g class=\"geolayer\"/><g class=\"funnelarealayer\"/><g class=\"pielayer\"><g class=\"trace\" stroke-linejoin=\"round\" style=\"opacity: 1;\"><g class=\"slice\"><path class=\"surface\" d=\"M500,265l0,-185a185,185 0 1 1 -133.14961683193496,56.562546204353225Z\" style=\"pointer-events: none; fill: rgb(165, 0, 38); fill-opacity: 1; stroke-width: 1; stroke: rgb(0, 0, 0); stroke-opacity: 1;\"/><g class=\"slicetext\"><text data-notex=\"1\" class=\"slicetext\" transform=\"translate(536.166405419611,346.0350401983948)\" text-anchor=\"middle\" x=\"0\" y=\"0\" style=\"font-family: 'Open Sans', verdana, arial, sans-serif; font-size: 14px; fill: rgb(255, 255, 255); fill-opacity: 1; white-space: pre;\"><tspan class=\"line\" dy=\"0em\" x=\"0\" y=\"0\">0</tspan><tspan class=\"line\" dy=\"1.3em\" x=\"0\" y=\"0\">87.2%</tspan></text></g></g><g class=\"slice\"><path class=\"surface\" d=\"M500,265l-133.14961683193494,-128.4374537956468a185,185 0 0 1 133.14961683193494,-56.5625462043532Z\" style=\"pointer-events: none; fill: rgb(215, 48, 39); fill-opacity: 1; stroke-width: 1; stroke: rgb(0, 0, 0); stroke-opacity: 1;\"/><g class=\"slicetext\"><text data-notex=\"1\" class=\"slicetext\" transform=\"translate(447.9989747066623,138.48675243086512)\" text-anchor=\"middle\" x=\"0\" y=\"0\" style=\"font-family: 'Open Sans', verdana, arial, sans-serif; font-size: 14px; fill: rgb(255, 255, 255); fill-opacity: 1; white-space: pre;\"><tspan class=\"line\" dy=\"0em\" x=\"0\" y=\"0\">1</tspan><tspan class=\"line\" dy=\"1.3em\" x=\"0\" y=\"0\">12.8%</tspan></text></g></g></g></g><g class=\"iciclelayer\"/><g class=\"treemaplayer\"/><g class=\"sunburstlayer\"/><g class=\"glimages\"/><defs id=\"topdefs-c4e2ae\"><g class=\"clips\"/><clipPath id=\"legendc4e2ae\"><rect width=\"140.6\" height=\"74.6\" x=\"0.7\" y=\"0.7\"/></clipPath></defs><g class=\"layer-above\"><g class=\"imagelayer\"/><g class=\"shapelayer\"/></g><g class=\"infolayer\"><g class=\"legend\" pointer-events=\"all\" transform=\"translate(770,227)\"><rect class=\"bg\" shape-rendering=\"crispEdges\" style=\"stroke: rgb(0, 0, 0); stroke-opacity: 1; fill: rgb(255, 255, 255); fill-opacity: 1; stroke-width: 0.7px;\" width=\"141.3\" height=\"75.3\" x=\"0.35\" y=\"0.35\"/><g class=\"scrollbox\" transform=\"\" clip-path=\"url(#legendc4e2ae)\"><text class=\"legendtitletext\" text-anchor=\"start\" x=\"2.7\" y=\"22.8\" style=\"font-family: 'Times New Roman'; font-size: 17px; fill: rgb(0, 0, 0); fill-opacity: 1; white-space: pre;\">IV drug use(no/yes)</text><g class=\"groups\"><g class=\"traces\" transform=\"translate(0.7,38.4)\" style=\"opacity: 1;\"><text class=\"legendtext\" text-anchor=\"start\" x=\"40\" y=\"5.46\" style=\"font-family: 'Times New Roman'; font-size: 14px; fill: rgb(0, 0, 0); fill-opacity: 1; white-space: pre;\">0</text><g class=\"layers\" style=\"opacity: 1;\"><g class=\"legendfill\"/><g class=\"legendlines\"/><g class=\"legendsymbols\"><g class=\"legendpoints\"><path class=\"legendpie\" d=\"M6,6H-6V-6H6Z\" transform=\"translate(20,0)\" style=\"fill: rgb(165, 0, 38); fill-opacity: 1; stroke-width: 1; stroke: rgb(0, 0, 0); stroke-opacity: 1;\"/></g></g></g><rect class=\"legendtoggle\" x=\"0\" y=\"-10.6\" width=\"47\" height=\"21.2\" style=\"fill: rgb(0, 0, 0); fill-opacity: 0;\"/></g><g class=\"traces\" transform=\"translate(0.7,59.6)\" style=\"opacity: 1;\"><text class=\"legendtext\" text-anchor=\"start\" x=\"40\" y=\"5.46\" style=\"font-family: 'Times New Roman'; font-size: 14px; fill: rgb(0, 0, 0); fill-opacity: 1; white-space: pre;\">1</text><g class=\"layers\" style=\"opacity: 1;\"><g class=\"legendfill\"/><g class=\"legendlines\"/><g class=\"legendsymbols\"><g class=\"legendpoints\"><path class=\"legendpie\" d=\"M6,6H-6V-6H6Z\" transform=\"translate(20,0)\" style=\"fill: rgb(215, 48, 39); fill-opacity: 1; stroke-width: 1; stroke: rgb(0, 0, 0); stroke-opacity: 1;\"/></g></g></g><rect class=\"legendtoggle\" x=\"0\" y=\"-10.6\" width=\"47\" height=\"21.2\" style=\"fill: rgb(0, 0, 0); fill-opacity: 0;\"/></g></g></g><rect class=\"scrollbar\" rx=\"20\" ry=\"3\" width=\"0\" height=\"0\" x=\"0\" y=\"0\" style=\"fill: rgb(128, 139, 164); fill-opacity: 1;\"/></g><g class=\"g-gtitle\"><text class=\"gtitle\" x=\"210\" y=\"25\" text-anchor=\"middle\" dy=\"0.7em\" style=\"font-family: 'Times New Roman'; font-size: 26px; fill: rgb(0, 0, 0); opacity: 1; font-weight: normal; white-space: pre;\">Distribution of Drug use</text></g><g class=\"annotation\" data-index=\"0\" style=\"opacity: 1;\"><g class=\"annotation-text-g\" transform=\"rotate(0,500,477.00000000000006)\"><g class=\"cursor-pointer\" transform=\"translate(334,467)\"><rect class=\"bg\" x=\"0.5\" y=\"0.5\" width=\"332\" height=\"19\" style=\"stroke-width: 1px; stroke: rgb(0, 0, 0); stroke-opacity: 0; fill: rgb(0, 0, 0); fill-opacity: 0;\"/><text class=\"annotation-text\" text-anchor=\"middle\" x=\"166.59375\" y=\"15\" style=\"font-family: 'Open Sans', verdana, arial, sans-serif; font-size: 14px; fill: rgb(0, 0, 0); fill-opacity: 1; white-space: pre;\">Majority of patients do not have a history of drug use.</text></g></g></g></g></svg>"
      ]
     },
     "metadata": {},
     "output_type": "display_data"
    }
   ],
   "source": [
    "palette = cl.scales['11']['div']['RdYlGn']\n",
    "\n",
    "\n",
    "drug = df['drugs'].value_counts().reset_index()\n",
    "drug.columns = ['drugs', 'count']\n",
    "\n",
    "fig = go.Figure(data=[go.Pie(\n",
    "    labels=drug['drugs'],\n",
    "    values=drug['count'],\n",
    "    marker=dict(colors=palette, line=dict(color='#000000', width=1)),\n",
    "    textinfo=\"label+percent\",\n",
    "    textfont=dict(size=14, color='#FFFFFF')\n",
    ")])\n",
    "\n",
    "\n",
    "fig.update_layout(\n",
    "    title_text=\"Distribution of Drug Use\",\n",
    "    title_font_size=24,\n",
    "    title_font_family=\"Times New Roman\",\n",
    "    title_font_color=\"#000000\",  \n",
    "    paper_bgcolor='#ffffff',  \n",
    "    plot_bgcolor='#ffffff', \n",
    "    showlegend=True,\n",
    "    legend_title_text='IV drug use(no/yes)',\n",
    "    legend=dict(\n",
    "        x=0.8,\n",
    "        y=0.5,\n",
    "        traceorder='normal',\n",
    "        font=dict(\n",
    "            family=\"Times New Roman\",\n",
    "            size=14,\n",
    "            color=\"#000000\"\n",
    "        ),\n",
    "        bgcolor=\"#ffffff\",  \n",
    "        bordercolor=\"#000000\", \n",
    "        borderwidth=0.7,\n",
    "        orientation=\"v\" \n",
    "    )\n",
    ")\n",
    "\n",
    "fig.update_layout(width=1000)\n",
    "\n",
    "fig.update_layout(\n",
    "    title={\n",
    "        'text': \"Distribution of Drug use\",\n",
    "        'y':0.95,\n",
    "        'x':0.21,\n",
    "        'xanchor': 'center',\n",
    "        'yanchor': 'top'},\n",
    "    title_font_size=26,\n",
    "    margin=dict(l=50, r=50, t=80, b=50)\n",
    ")\n",
    "\n",
    "fig.add_annotation(\n",
    "    text=\"Majority of patients do not have a history of drug use.\",\n",
    "    x=0.5,\n",
    "    y=-0.10,\n",
    "    showarrow=False,\n",
    "    font=dict(color=\"#000000\", size=14) \n",
    ")\n",
    "\n",
    "# Show the pie chart\n",
    "fig.show('svg')\n"
   ]
  },
  {
   "cell_type": "markdown",
   "id": "098bc16e",
   "metadata": {
    "papermill": {
     "duration": 0.034855,
     "end_time": "2024-06-02T14:38:07.519320",
     "exception": false,
     "start_time": "2024-06-02T14:38:07.484465",
     "status": "completed"
    },
    "tags": []
   },
   "source": [
    "----------------------------------------------------------------------------------------------------------------------------------------------------------"
   ]
  },
  {
   "cell_type": "markdown",
   "id": "5ac5be0b",
   "metadata": {
    "papermill": {
     "duration": 0.036864,
     "end_time": "2024-06-02T14:38:07.591152",
     "exception": false,
     "start_time": "2024-06-02T14:38:07.554288",
     "status": "completed"
    },
    "tags": []
   },
   "source": [
    "## karnof: Karnofsky score (on a scale of 0-100)\n",
    "\n",
    "***About***\n",
    "<div>\n",
    "    <p>\n",
    "The Karnofsky Performance Status (KPS) is a widely used measure of functional status and overall well-being in patients with various medical conditions, including AIDS  \n",
    "    In the context of AIDS, the Karnofsky score is particularly relevant for evaluating the impact of the disease on a patient's functional status and determining appropriate treatment and supportive care interventions. The score is typically assessed through a brief clinical evaluation and is based on the patient's ability to perform activities such as self-care, ambulation, and work.\n",
    "\n",
    "The Karnofsky score ranges from 0 to 100, with higher scores indicating better functional status and overall well-being. </p>\n",
    "        <ul>\n",
    "            <li>\n",
    "                100: Normal, no evidence of disease, able to carry on normal activities without any restrictions.\n",
    "            </li>\n",
    "            <li>\n",
    "                90: Able to carry on normal activities with minimal signs or symptoms of disease.\n",
    "            </li>\n",
    "            <li>\n",
    "                80: Normal activities with some signs or symptoms of disease, but generally able to care for oneself.\n",
    "            </li>\n",
    "            <li>\n",
    "                70: Cares for self but unable to carry on normal activities or to do active work.\n",
    "            </li>\n",
    "            <li>\n",
    "                60: Requires occasional assistance, but is able to care for most personal needs.\n",
    "            </li>\n",
    "            <li>\n",
    "                50: Requires considerable assistance and frequent medical care.\n",
    "            </li>\n",
    "            <li>\n",
    "                40: Disabled, requires special care and assistance.\n",
    "            </li>\n",
    "            <li>\n",
    "                30: Severely disabled, hospitalization is indicated, although death is not imminent.\n",
    "            </li>\n",
    "            <li>\n",
    "                20: Very sick, hospitalization necessary, active supportive treatment necessary.\n",
    "            </li>\n",
    "            <li>\n",
    "                10: Moribund, fatal processes progressing rapidly.\n",
    "            </li>\n",
    "            <li>\n",
    "                0: Dead.\n",
    "            </li>\n",
    "        </ul>\n",
    "</div>\n",
    "\n",
    "\n",
    "***Conclusions***\n",
    "\n",
    "- *The distribution is negatively skewed as most of the patients have karnfosky score of 100 which is a good sign*"
   ]
  },
  {
   "cell_type": "code",
   "execution_count": 21,
   "id": "aebc1653",
   "metadata": {
    "execution": {
     "iopub.execute_input": "2024-06-02T14:38:07.667793Z",
     "iopub.status.busy": "2024-06-02T14:38:07.667406Z",
     "iopub.status.idle": "2024-06-02T14:38:07.676884Z",
     "shell.execute_reply": "2024-06-02T14:38:07.675900Z"
    },
    "papermill": {
     "duration": 0.05032,
     "end_time": "2024-06-02T14:38:07.678927",
     "exception": false,
     "start_time": "2024-06-02T14:38:07.628607",
     "status": "completed"
    },
    "tags": []
   },
   "outputs": [
    {
     "data": {
      "text/plain": [
       "karnof\n",
       "100    10512\n",
       "90      4106\n",
       "80       117\n",
       "81       103\n",
       "82        60\n",
       "79        60\n",
       "83        18\n",
       "91        15\n",
       "78         8\n",
       "77         1\n",
       "Name: count, dtype: int64"
      ]
     },
     "execution_count": 21,
     "metadata": {},
     "output_type": "execute_result"
    }
   ],
   "source": [
    "df['karnof'].value_counts().sort_values(ascending = False)"
   ]
  },
  {
   "cell_type": "markdown",
   "id": "336c33b5",
   "metadata": {
    "papermill": {
     "duration": 0.037691,
     "end_time": "2024-06-02T14:38:07.751837",
     "exception": false,
     "start_time": "2024-06-02T14:38:07.714146",
     "status": "completed"
    },
    "tags": []
   },
   "source": [
    "*Most of the people have the karnofsky score of 100*"
   ]
  },
  {
   "cell_type": "code",
   "execution_count": 22,
   "id": "5d816fbf",
   "metadata": {
    "execution": {
     "iopub.execute_input": "2024-06-02T14:38:07.824460Z",
     "iopub.status.busy": "2024-06-02T14:38:07.823330Z",
     "iopub.status.idle": "2024-06-02T14:38:07.953793Z",
     "shell.execute_reply": "2024-06-02T14:38:07.952592Z"
    },
    "papermill": {
     "duration": 0.169313,
     "end_time": "2024-06-02T14:38:07.956119",
     "exception": false,
     "start_time": "2024-06-02T14:38:07.786806",
     "status": "completed"
    },
    "tags": []
   },
   "outputs": [
    {
     "data": {
      "image/svg+xml": [
       "<svg class=\"main-svg\" xmlns=\"http://www.w3.org/2000/svg\" xmlns:xlink=\"http://www.w3.org/1999/xlink\" width=\"1000\" height=\"500\" style=\"\" viewBox=\"0 0 1000 500\"><rect x=\"0\" y=\"0\" width=\"1000\" height=\"500\" style=\"fill: rgb(255, 255, 255); fill-opacity: 1;\"/><defs id=\"defs-2eba45\"><g class=\"clips\"><clipPath id=\"clip2eba45xyplot\" class=\"plotclip\"><rect width=\"893\" height=\"367\"/></clipPath><clipPath class=\"axesclip\" id=\"clip2eba45x\"><rect x=\"57\" y=\"0\" width=\"893\" height=\"500\"/></clipPath><clipPath class=\"axesclip\" id=\"clip2eba45y\"><rect x=\"0\" y=\"80\" width=\"1000\" height=\"367\"/></clipPath><clipPath class=\"axesclip\" id=\"clip2eba45xy\"><rect x=\"57\" y=\"80\" width=\"893\" height=\"367\"/></clipPath></g><g class=\"gradients\"/><g class=\"patterns\"/></defs><g class=\"bglayer\"/><g class=\"layer-below\"><g class=\"imagelayer\"/><g class=\"shapelayer\"/></g><g class=\"cartesianlayer\"><g class=\"subplot xy\"><g class=\"layer-subplot\"><g class=\"shapelayer\"/><g class=\"imagelayer\"/></g><g class=\"minor-gridlayer\"><g class=\"x\"/><g class=\"y\"/></g><g class=\"gridlayer\"><g class=\"x\"/><g class=\"y\"><path class=\"ygrid crisp\" transform=\"translate(0,380.67)\" d=\"M57,0h893\" style=\"stroke: rgb(255, 255, 255); stroke-opacity: 1; stroke-width: 1px;\"/><path class=\"ygrid crisp\" transform=\"translate(0,314.33000000000004)\" d=\"M57,0h893\" style=\"stroke: rgb(255, 255, 255); stroke-opacity: 1; stroke-width: 1px;\"/><path class=\"ygrid crisp\" transform=\"translate(0,248)\" d=\"M57,0h893\" style=\"stroke: rgb(255, 255, 255); stroke-opacity: 1; stroke-width: 1px;\"/><path class=\"ygrid crisp\" transform=\"translate(0,181.67000000000002)\" d=\"M57,0h893\" style=\"stroke: rgb(255, 255, 255); stroke-opacity: 1; stroke-width: 1px;\"/><path class=\"ygrid crisp\" transform=\"translate(0,115.33)\" d=\"M57,0h893\" style=\"stroke: rgb(255, 255, 255); stroke-opacity: 1; stroke-width: 1px;\"/></g></g><g class=\"zerolinelayer\"><path class=\"yzl zl crisp\" transform=\"translate(0,447)\" d=\"M57,0h893\" style=\"stroke: rgb(255, 255, 255); stroke-opacity: 1; stroke-width: 2px;\"/></g><path class=\"xlines-below\"/><path class=\"ylines-below\"/><g class=\"overlines-below\"/><g class=\"xaxislayer-below\"/><g class=\"yaxislayer-below\"/><g class=\"overaxes-below\"/><g class=\"plot\" transform=\"translate(57,80)\" clip-path=\"url(#clip2eba45xyplot)\"><g class=\"barlayer mlayer\"><g class=\"trace bars\" shape-rendering=\"crispEdges\" style=\"opacity: 1;\"><g class=\"points\"><g class=\"point\"><path d=\"M0,367V364.71H148.83V367Z\" style=\"vector-effect: none; opacity: 1; stroke-width: 0px; fill: rgb(215, 48, 39); fill-opacity: 1;\"/></g><g class=\"point\"><path d=\"M148.83,367V357.12H297.67V367Z\" style=\"vector-effect: none; opacity: 1; stroke-width: 0px; fill: rgb(215, 48, 39); fill-opacity: 1;\"/></g><g class=\"point\"><path d=\"M0,0Z\" style=\"vector-effect: none; opacity: 1; stroke-width: 0px; fill: rgb(215, 48, 39); fill-opacity: 1;\"/></g><g class=\"point\"><path d=\"M446.5,367V230.32H595.33V367Z\" style=\"vector-effect: none; opacity: 1; stroke-width: 0px; fill: rgb(215, 48, 39); fill-opacity: 1;\"/></g><g class=\"point\"><path d=\"M0,0Z\" style=\"vector-effect: none; opacity: 1; stroke-width: 0px; fill: rgb(215, 48, 39); fill-opacity: 1;\"/></g><g class=\"point\"><path d=\"M744.17,367V18.35H893V367Z\" style=\"vector-effect: none; opacity: 1; stroke-width: 0px; fill: rgb(215, 48, 39); fill-opacity: 1;\"/></g></g></g></g></g><g class=\"overplot\"/><path class=\"xlines-above crisp\" d=\"M0,0\" style=\"fill: none;\"/><path class=\"ylines-above crisp\" d=\"M0,0\" style=\"fill: none;\"/><g class=\"overlines-above\"/><g class=\"xaxislayer-above\"><g class=\"xtick\"><text text-anchor=\"middle\" x=\"0\" y=\"460\" transform=\"translate(71.88,0)\" style=\"font-family: 'Open Sans', verdana, arial, sans-serif; font-size: 12px; fill: rgb(42, 63, 95); fill-opacity: 1; white-space: pre; opacity: 1;\">75</text></g><g class=\"xtick\"><text text-anchor=\"middle\" x=\"0\" y=\"460\" style=\"font-family: 'Open Sans', verdana, arial, sans-serif; font-size: 12px; fill: rgb(42, 63, 95); fill-opacity: 1; white-space: pre; opacity: 1;\" transform=\"translate(220.72,0)\">80</text></g><g class=\"xtick\"><text text-anchor=\"middle\" x=\"0\" y=\"460\" style=\"font-family: 'Open Sans', verdana, arial, sans-serif; font-size: 12px; fill: rgb(42, 63, 95); fill-opacity: 1; white-space: pre; opacity: 1;\" transform=\"translate(369.55,0)\">85</text></g><g class=\"xtick\"><text text-anchor=\"middle\" x=\"0\" y=\"460\" style=\"font-family: 'Open Sans', verdana, arial, sans-serif; font-size: 12px; fill: rgb(42, 63, 95); fill-opacity: 1; white-space: pre; opacity: 1;\" transform=\"translate(518.38,0)\">90</text></g><g class=\"xtick\"><text text-anchor=\"middle\" x=\"0\" y=\"460\" style=\"font-family: 'Open Sans', verdana, arial, sans-serif; font-size: 12px; fill: rgb(42, 63, 95); fill-opacity: 1; white-space: pre; opacity: 1;\" transform=\"translate(667.22,0)\">95</text></g><g class=\"xtick\"><text text-anchor=\"middle\" x=\"0\" y=\"460\" style=\"font-family: 'Open Sans', verdana, arial, sans-serif; font-size: 12px; fill: rgb(42, 63, 95); fill-opacity: 1; white-space: pre; opacity: 1;\" transform=\"translate(816.05,0)\">100</text></g></g><g class=\"yaxislayer-above\"><g class=\"ytick\"><text text-anchor=\"end\" x=\"56\" y=\"4.199999999999999\" transform=\"translate(0,447)\" style=\"font-family: 'Open Sans', verdana, arial, sans-serif; font-size: 12px; fill: rgb(42, 63, 95); fill-opacity: 1; white-space: pre; opacity: 1;\">0</text></g><g class=\"ytick\"><text text-anchor=\"end\" x=\"56\" y=\"4.199999999999999\" style=\"font-family: 'Open Sans', verdana, arial, sans-serif; font-size: 12px; fill: rgb(42, 63, 95); fill-opacity: 1; white-space: pre; opacity: 1;\" transform=\"translate(0,380.67)\">2k</text></g><g class=\"ytick\"><text text-anchor=\"end\" x=\"56\" y=\"4.199999999999999\" style=\"font-family: 'Open Sans', verdana, arial, sans-serif; font-size: 12px; fill: rgb(42, 63, 95); fill-opacity: 1; white-space: pre; opacity: 1;\" transform=\"translate(0,314.33000000000004)\">4k</text></g><g class=\"ytick\"><text text-anchor=\"end\" x=\"56\" y=\"4.199999999999999\" style=\"font-family: 'Open Sans', verdana, arial, sans-serif; font-size: 12px; fill: rgb(42, 63, 95); fill-opacity: 1; white-space: pre; opacity: 1;\" transform=\"translate(0,248)\">6k</text></g><g class=\"ytick\"><text text-anchor=\"end\" x=\"56\" y=\"4.199999999999999\" style=\"font-family: 'Open Sans', verdana, arial, sans-serif; font-size: 12px; fill: rgb(42, 63, 95); fill-opacity: 1; white-space: pre; opacity: 1;\" transform=\"translate(0,181.67000000000002)\">8k</text></g><g class=\"ytick\"><text text-anchor=\"end\" x=\"56\" y=\"4.199999999999999\" style=\"font-family: 'Open Sans', verdana, arial, sans-serif; font-size: 12px; fill: rgb(42, 63, 95); fill-opacity: 1; white-space: pre; opacity: 1;\" transform=\"translate(0,115.33)\">10k</text></g></g><g class=\"overaxes-above\"/></g></g><g class=\"polarlayer\"/><g class=\"smithlayer\"/><g class=\"ternarylayer\"/><g class=\"geolayer\"/><g class=\"funnelarealayer\"/><g class=\"pielayer\"/><g class=\"iciclelayer\"/><g class=\"treemaplayer\"/><g class=\"sunburstlayer\"/><g class=\"glimages\"/><defs id=\"topdefs-2eba45\"><g class=\"clips\"/></defs><g class=\"layer-above\"><g class=\"imagelayer\"/><g class=\"shapelayer\"/></g><g class=\"infolayer\"><g class=\"g-gtitle\"><text class=\"gtitle\" x=\"210\" y=\"25\" text-anchor=\"middle\" dy=\"0.7em\" style=\"font-family: 'Times New Roman'; font-size: 26px; fill: rgb(0, 0, 0); opacity: 1; font-weight: normal; white-space: pre;\">Karnofsky Score Distribution</text></g><g class=\"g-xtitle\"><text class=\"xtitle\" x=\"503.5\" y=\"487.3\" text-anchor=\"middle\" style=\"font-family: 'Open Sans', verdana, arial, sans-serif; font-size: 14px; fill: rgb(42, 63, 95); opacity: 1; font-weight: normal; white-space: pre;\">Karnofsky Score</text></g><g class=\"g-ytitle\" transform=\"translate(0.6591796875,0)\"><text class=\"ytitle\" transform=\"rotate(-90,12.340625000000003,263.5)\" x=\"12.340625000000003\" y=\"263.5\" text-anchor=\"middle\" style=\"font-family: 'Open Sans', verdana, arial, sans-serif; font-size: 14px; fill: rgb(42, 63, 95); opacity: 1; font-weight: normal; white-space: pre;\">Frequency</text></g></g></svg>"
      ]
     },
     "metadata": {},
     "output_type": "display_data"
    }
   ],
   "source": [
    "fig = go.Figure(data=[go.Histogram(\n",
    "    x=df['karnof'],\n",
    "    marker=dict(color=palette[1]),  # Use the second color from the palette\n",
    "    nbinsx=10\n",
    ")])\n",
    "\n",
    "# Update layout\n",
    "fig.update_layout(\n",
    "    title_text=\"Karnofsky Score Distribution\",\n",
    "    title_font_size=24,\n",
    "    title_font_family=\"Times New Roman\",\n",
    "    title_font_color=\"#000000\",\n",
    "    paper_bgcolor='#ffffff',\n",
    "    plot_bgcolor='#ffffff',\n",
    "    xaxis=dict(title=\"Karnofsky Score\"),\n",
    "    yaxis=dict(title=\"Frequency\"),\n",
    ")\n",
    "\n",
    "# Set title properties\n",
    "fig.update_layout(\n",
    "    title={\n",
    "        'text': \"Karnofsky Score Distribution\",\n",
    "        'y':0.95,\n",
    "        'x':0.21,\n",
    "        'xanchor': 'center',\n",
    "        'yanchor': 'top'},\n",
    "    title_font_size=26,\n",
    "    margin=dict(l=50, r=50, t=80, b=50)\n",
    ")\n",
    "\n",
    "# Set the width of the figure\n",
    "fig.update_layout(width=1000)\n",
    "\n",
    "# Show the histogram\n",
    "fig.show('svg')"
   ]
  },
  {
   "cell_type": "code",
   "execution_count": 23,
   "id": "61baf4ab",
   "metadata": {
    "execution": {
     "iopub.execute_input": "2024-06-02T14:38:08.032907Z",
     "iopub.status.busy": "2024-06-02T14:38:08.031652Z",
     "iopub.status.idle": "2024-06-02T14:38:08.208655Z",
     "shell.execute_reply": "2024-06-02T14:38:08.207555Z"
    },
    "papermill": {
     "duration": 0.219226,
     "end_time": "2024-06-02T14:38:08.210984",
     "exception": false,
     "start_time": "2024-06-02T14:38:07.991758",
     "status": "completed"
    },
    "tags": []
   },
   "outputs": [
    {
     "data": {
      "image/png": "[encoded data removed]"
     },
     "metadata": {},
     "output_type": "display_data"
    }
   ],
   "source": [
    "fig = go.Figure(data=[go.Box(\n",
    "    x=df['karnof'],\n",
    "    marker=dict(color=palette[1])\n",
    ")])\n",
    "\n",
    "fig.update_layout(\n",
    "    title_text=\"Boxplot of Karnofsky Score\",\n",
    "    title_font_size=24,\n",
    "    title_font_family=\"Times New Roman\",\n",
    "    title_font_color=\"#000000\",  \n",
    "    paper_bgcolor='#ffffff',  \n",
    "    plot_bgcolor='#ffffff',  \n",
    "    xaxis=dict(title=\"Karnofsky score\"),\n",
    ")\n",
    "\n",
    "fig.update_layout(\n",
    "    title={\n",
    "        'y':0.95,\n",
    "        'x':0.15,\n",
    "        'xanchor': 'center',\n",
    "        'yanchor': 'top'},\n",
    "    title_font_size=26,\n",
    "    margin=dict(l=50, r=50, t=80, b=50)\n",
    ")\n",
    "\n",
    "\n",
    "\n",
    "fig.update_layout(width=1000)\n",
    "\n",
    "fig.show('png')"
   ]
  },
  {
   "cell_type": "code",
   "execution_count": 24,
   "id": "a48df531",
   "metadata": {
    "execution": {
     "iopub.execute_input": "2024-06-02T14:38:08.285697Z",
     "iopub.status.busy": "2024-06-02T14:38:08.285319Z",
     "iopub.status.idle": "2024-06-02T14:38:08.292035Z",
     "shell.execute_reply": "2024-06-02T14:38:08.290961Z"
    },
    "papermill": {
     "duration": 0.046173,
     "end_time": "2024-06-02T14:38:08.294341",
     "exception": false,
     "start_time": "2024-06-02T14:38:08.248168",
     "status": "completed"
    },
    "tags": []
   },
   "outputs": [
    {
     "data": {
      "text/plain": [
       "-1.243294303843015"
      ]
     },
     "execution_count": 24,
     "metadata": {},
     "output_type": "execute_result"
    }
   ],
   "source": [
    "df['karnof'].skew()"
   ]
  },
  {
   "cell_type": "markdown",
   "id": "06e2d959",
   "metadata": {
    "papermill": {
     "duration": 0.035949,
     "end_time": "2024-06-02T14:38:08.368859",
     "exception": false,
     "start_time": "2024-06-02T14:38:08.332910",
     "status": "completed"
    },
    "tags": []
   },
   "source": [
    "*negatively skewed data*"
   ]
  },
  {
   "cell_type": "markdown",
   "id": "0dbb67ad",
   "metadata": {
    "papermill": {
     "duration": 0.035497,
     "end_time": "2024-06-02T14:38:08.440418",
     "exception": false,
     "start_time": "2024-06-02T14:38:08.404921",
     "status": "completed"
    },
    "tags": []
   },
   "source": [
    "----------------------------------------------------------------------------------------------------------------------------------------------------------"
   ]
  },
  {
   "cell_type": "markdown",
   "id": "18cd1a8d",
   "metadata": {
    "papermill": {
     "duration": 0.035733,
     "end_time": "2024-06-02T14:38:08.512577",
     "exception": false,
     "start_time": "2024-06-02T14:38:08.476844",
     "status": "completed"
    },
    "tags": []
   },
   "source": [
    "## oprior: Non-ZDV antiretroviral therapy pre-175 \n",
    "\n",
    "***About***\n",
    "\n",
    "<div>\n",
    "    <p>\n",
    "        Antiretroviral therapy (ART) is a critical component of managing HIV infection, and non-ZDV therapies refer to antiretroviral medications other than Zidovudine. Monitoring the administration of such therapies in the context of AIDS infection datasets helps researchers understand the impact of different treatment regimens on disease progression, patient outcomes, and overall healthcare management strategies.\n",
    "        </p>\n",
    "    <br>\n",
    "    <p>\n",
    "        \"oprior\"  represents whether non-ZDV (Zidovudine) antiretroviral therapy was administered prior to 175 weeks (approximately 3.3 years) of observation. The values \"0\" typically indicate \"no\" or absence of the treatment, while \"1\" signifies \"yes\" or presence of the treatment.\n",
    "       </p>\n",
    "   \n",
    "   </div>\n",
    "   \n",
    "***Conclusion***\n",
    "\n",
    "- *Majority of the patients were not administered the antiretroviral therapy*"
   ]
  },
  {
   "cell_type": "code",
   "execution_count": 25,
   "id": "cf087105",
   "metadata": {
    "execution": {
     "iopub.execute_input": "2024-06-02T14:38:08.588161Z",
     "iopub.status.busy": "2024-06-02T14:38:08.587799Z",
     "iopub.status.idle": "2024-06-02T14:38:08.595573Z",
     "shell.execute_reply": "2024-06-02T14:38:08.594653Z"
    },
    "papermill": {
     "duration": 0.049369,
     "end_time": "2024-06-02T14:38:08.597753",
     "exception": false,
     "start_time": "2024-06-02T14:38:08.548384",
     "status": "completed"
    },
    "tags": []
   },
   "outputs": [
    {
     "data": {
      "text/plain": [
       "oprior\n",
       "0    14384\n",
       "1      616\n",
       "Name: count, dtype: int64"
      ]
     },
     "execution_count": 25,
     "metadata": {},
     "output_type": "execute_result"
    }
   ],
   "source": [
    "df['oprior'].value_counts()"
   ]
  },
  {
   "cell_type": "markdown",
   "id": "440d0672",
   "metadata": {
    "papermill": {
     "duration": 0.03638,
     "end_time": "2024-06-02T14:38:08.670962",
     "exception": false,
     "start_time": "2024-06-02T14:38:08.634582",
     "status": "completed"
    },
    "tags": []
   },
   "source": [
    "*antiretroviral therapy was `not` administered in majority of the patients*"
   ]
  },
  {
   "cell_type": "markdown",
   "id": "4a8f8e1d",
   "metadata": {
    "papermill": {
     "duration": 0.048117,
     "end_time": "2024-06-02T14:38:08.763775",
     "exception": false,
     "start_time": "2024-06-02T14:38:08.715658",
     "status": "completed"
    },
    "tags": []
   },
   "source": [
    "----------------------------------------------------------------------------------------------------------------------------------------------------------"
   ]
  },
  {
   "cell_type": "markdown",
   "id": "db81f7b6",
   "metadata": {
    "papermill": {
     "duration": 0.035854,
     "end_time": "2024-06-02T14:38:08.848975",
     "exception": false,
     "start_time": "2024-06-02T14:38:08.813121",
     "status": "completed"
    },
    "tags": []
   },
   "source": [
    "## z30: ZDV in the 30 days prior to 175\n",
    "\n",
    "***About***\n",
    "\n",
    "<div>\n",
    "    <p>\n",
    "       The variable \"z30\" refers to whether Zidovudine (ZDV), an antiretroviral medication, was administered in the 30 days prior to the 175-week mark of observation. \n",
    "        </p>\n",
    "    <br>\n",
    "    <p>\n",
    "        Zidovudine, also known as AZT, was one of the first drugs used to treat HIV and remains an important component of antiretroviral therapy. By examining the \"z30\" variable, researchers can assess the short-term use of ZDV leading up to the 175-week mark and its potential impact on patient outcomes. \n",
    "       </p>\n",
    "   \n",
    "   </div>\n",
    "   \n",
    "***Conclusion***\n",
    "\n",
    "- *No evident high correlation*\n",
    "- *Most of the patients were administered the drug*"
   ]
  },
  {
   "cell_type": "code",
   "execution_count": 26,
   "id": "59beb5ce",
   "metadata": {
    "execution": {
     "iopub.execute_input": "2024-06-02T14:38:08.924921Z",
     "iopub.status.busy": "2024-06-02T14:38:08.924210Z",
     "iopub.status.idle": "2024-06-02T14:38:08.931630Z",
     "shell.execute_reply": "2024-06-02T14:38:08.930534Z"
    },
    "papermill": {
     "duration": 0.048627,
     "end_time": "2024-06-02T14:38:08.933636",
     "exception": false,
     "start_time": "2024-06-02T14:38:08.885009",
     "status": "completed"
    },
    "tags": []
   },
   "outputs": [
    {
     "data": {
      "text/plain": [
       "z30\n",
       "1    9688\n",
       "0    5312\n",
       "Name: count, dtype: int64"
      ]
     },
     "execution_count": 26,
     "metadata": {},
     "output_type": "execute_result"
    }
   ],
   "source": [
    "df['z30'].value_counts()"
   ]
  },
  {
   "cell_type": "code",
   "execution_count": 27,
   "id": "957e3720",
   "metadata": {
    "execution": {
     "iopub.execute_input": "2024-06-02T14:38:09.009813Z",
     "iopub.status.busy": "2024-06-02T14:38:09.008845Z",
     "iopub.status.idle": "2024-06-02T14:38:09.044813Z",
     "shell.execute_reply": "2024-06-02T14:38:09.043855Z"
    },
    "papermill": {
     "duration": 0.077258,
     "end_time": "2024-06-02T14:38:09.047076",
     "exception": false,
     "start_time": "2024-06-02T14:38:08.969818",
     "status": "completed"
    },
    "tags": []
   },
   "outputs": [
    {
     "data": {
      "text/plain": [
       "time         -8.618930\n",
       "trt           2.173557\n",
       "age          13.073698\n",
       "wtkg         -8.469138\n",
       "hemo          6.097358\n",
       "homo          0.272864\n",
       "drugs        -3.663879\n",
       "karnof      -12.277447\n",
       "oprior        5.348880\n",
       "z30         100.000000\n",
       "preanti      42.378861\n",
       "race         -9.860449\n",
       "gender       -1.681352\n",
       "str2         60.919072\n",
       "strat        57.333837\n",
       "symptom       1.727802\n",
       "treat         3.788999\n",
       "offtrt       -0.473082\n",
       "cd40        -20.962515\n",
       "cd420       -28.923362\n",
       "cd80         -2.207320\n",
       "cd820         0.621898\n",
       "infected     23.716859\n",
       "Name: z30, dtype: float64"
      ]
     },
     "execution_count": 27,
     "metadata": {},
     "output_type": "execute_result"
    }
   ],
   "source": [
    "df.corr()['z30']*100\n"
   ]
  },
  {
   "cell_type": "markdown",
   "id": "ab31d1e1",
   "metadata": {
    "papermill": {
     "duration": 0.035955,
     "end_time": "2024-06-02T14:38:09.121201",
     "exception": false,
     "start_time": "2024-06-02T14:38:09.085246",
     "status": "completed"
    },
    "tags": []
   },
   "source": [
    "*z30 doesn't seem to have a high correlation with most of the variables. `str2 :antiretroviral history ` and z30 are slightly correlated* "
   ]
  },
  {
   "cell_type": "code",
   "execution_count": 28,
   "id": "2da62196",
   "metadata": {
    "execution": {
     "iopub.execute_input": "2024-06-02T14:38:09.196826Z",
     "iopub.status.busy": "2024-06-02T14:38:09.196124Z",
     "iopub.status.idle": "2024-06-02T14:38:09.257663Z",
     "shell.execute_reply": "2024-06-02T14:38:09.256527Z"
    },
    "papermill": {
     "duration": 0.102537,
     "end_time": "2024-06-02T14:38:09.259835",
     "exception": false,
     "start_time": "2024-06-02T14:38:09.157298",
     "status": "completed"
    },
    "tags": []
   },
   "outputs": [
    {
     "data": {
      "image/svg+xml": [
       "<svg class=\"main-svg\" xmlns=\"http://www.w3.org/2000/svg\" xmlns:xlink=\"http://www.w3.org/1999/xlink\" width=\"1000\" height=\"500\" style=\"\" viewBox=\"0 0 1000 500\"><rect x=\"0\" y=\"0\" width=\"1000\" height=\"500\" style=\"fill: rgb(255, 255, 255); fill-opacity: 1;\"/><defs id=\"defs-b9ce7e\"><g class=\"clips\"/><g class=\"gradients\"/><g class=\"patterns\"/></defs><g class=\"bglayer\"/><g class=\"layer-below\"><g class=\"imagelayer\"/><g class=\"shapelayer\"/></g><g class=\"cartesianlayer\"/><g class=\"polarlayer\"/><g class=\"smithlayer\"/><g class=\"ternarylayer\"/><g class=\"geolayer\"/><g class=\"funnelarealayer\"/><g class=\"pielayer\"><g class=\"trace\" stroke-linejoin=\"round\" style=\"opacity: 1;\"><g class=\"slice\"><path class=\"surface\" d=\"M500,265l0,-185a185,185 0 1 1 -146.79395199334738,297.5901223828042Z\" style=\"pointer-events: none; fill: rgb(165, 0, 38); fill-opacity: 1; stroke-width: 1; stroke: rgb(0, 0, 0); stroke-opacity: 1;\"/><g class=\"slicetext\"><text data-notex=\"1\" class=\"slicetext\" transform=\"translate(582.9564438732903,301.8188287481009)\" text-anchor=\"middle\" x=\"0\" y=\"0\" style=\"font-family: 'Open Sans', verdana, arial, sans-serif; font-size: 14px; fill: rgb(255, 255, 255); fill-opacity: 1; white-space: pre;\"><tspan class=\"line\" dy=\"0em\" x=\"0\" y=\"0\">1</tspan><tspan class=\"line\" dy=\"1.3em\" x=\"0\" y=\"0\">64.6%</tspan></text></g></g><g class=\"slice\"><path class=\"surface\" d=\"M500,265l-146.7939519933474,112.59012238280415a185,185 0 0 1 146.7939519933474,-297.59012238280417Z\" style=\"pointer-events: none; fill: rgb(215, 48, 39); fill-opacity: 1; stroke-width: 1; stroke: rgb(0, 0, 0); stroke-opacity: 1;\"/><g class=\"slicetext\"><text data-notex=\"1\" class=\"slicetext\" transform=\"translate(412.5313281304058,217.75227419142576)\" text-anchor=\"middle\" x=\"0\" y=\"0\" style=\"font-family: 'Open Sans', verdana, arial, sans-serif; font-size: 14px; fill: rgb(255, 255, 255); fill-opacity: 1; white-space: pre;\"><tspan class=\"line\" dy=\"0em\" x=\"0\" y=\"0\">0</tspan><tspan class=\"line\" dy=\"1.3em\" x=\"0\" y=\"0\">35.4%</tspan></text></g></g></g></g><g class=\"iciclelayer\"/><g class=\"treemaplayer\"/><g class=\"sunburstlayer\"/><g class=\"glimages\"/><defs id=\"topdefs-b9ce7e\"><g class=\"clips\"/><clipPath id=\"legendb9ce7e\"><rect width=\"156.6\" height=\"74.6\" x=\"0.7\" y=\"0.7\"/></clipPath></defs><g class=\"layer-above\"><g class=\"imagelayer\"/><g class=\"shapelayer\"/></g><g class=\"infolayer\"><g class=\"legend\" pointer-events=\"all\" transform=\"translate(770,227)\"><rect class=\"bg\" shape-rendering=\"crispEdges\" style=\"stroke: rgb(0, 0, 0); stroke-opacity: 1; fill: rgb(255, 255, 255); fill-opacity: 1; stroke-width: 0.7px;\" width=\"157.3\" height=\"75.3\" x=\"0.35\" y=\"0.35\"/><g class=\"scrollbox\" transform=\"\" clip-path=\"url(#legendb9ce7e)\"><text class=\"legendtitletext\" text-anchor=\"start\" x=\"2.7\" y=\"22.8\" style=\"font-family: 'Times New Roman'; font-size: 17px; fill: rgb(0, 0, 0); fill-opacity: 1; white-space: pre;\">Administered (no/yes)</text><g class=\"groups\"><g class=\"traces\" transform=\"translate(0.7,38.4)\" style=\"opacity: 1;\"><text class=\"legendtext\" text-anchor=\"start\" x=\"40\" y=\"5.46\" style=\"font-family: 'Times New Roman'; font-size: 14px; fill: rgb(0, 0, 0); fill-opacity: 1; white-space: pre;\">1</text><g class=\"layers\" style=\"opacity: 1;\"><g class=\"legendfill\"/><g class=\"legendlines\"/><g class=\"legendsymbols\"><g class=\"legendpoints\"><path class=\"legendpie\" d=\"M6,6H-6V-6H6Z\" transform=\"translate(20,0)\" style=\"fill: rgb(165, 0, 38); fill-opacity: 1; stroke-width: 1; stroke: rgb(0, 0, 0); stroke-opacity: 1;\"/></g></g></g><rect class=\"legendtoggle\" x=\"0\" y=\"-10.6\" width=\"47\" height=\"21.2\" style=\"fill: rgb(0, 0, 0); fill-opacity: 0;\"/></g><g class=\"traces\" transform=\"translate(0.7,59.6)\" style=\"opacity: 1;\"><text class=\"legendtext\" text-anchor=\"start\" x=\"40\" y=\"5.46\" style=\"font-family: 'Times New Roman'; font-size: 14px; fill: rgb(0, 0, 0); fill-opacity: 1; white-space: pre;\">0</text><g class=\"layers\" style=\"opacity: 1;\"><g class=\"legendfill\"/><g class=\"legendlines\"/><g class=\"legendsymbols\"><g class=\"legendpoints\"><path class=\"legendpie\" d=\"M6,6H-6V-6H6Z\" transform=\"translate(20,0)\" style=\"fill: rgb(215, 48, 39); fill-opacity: 1; stroke-width: 1; stroke: rgb(0, 0, 0); stroke-opacity: 1;\"/></g></g></g><rect class=\"legendtoggle\" x=\"0\" y=\"-10.6\" width=\"47\" height=\"21.2\" style=\"fill: rgb(0, 0, 0); fill-opacity: 0;\"/></g></g></g><rect class=\"scrollbar\" rx=\"20\" ry=\"3\" width=\"0\" height=\"0\" x=\"0\" y=\"0\" style=\"fill: rgb(128, 139, 164); fill-opacity: 1;\"/></g><g class=\"g-gtitle\"><text class=\"gtitle\" x=\"210\" y=\"25\" text-anchor=\"middle\" dy=\"0.7em\" style=\"font-family: 'Times New Roman'; font-size: 26px; fill: rgb(0, 0, 0); opacity: 1; font-weight: normal; white-space: pre;\">Distribution of administration of ZDV</text></g><g class=\"annotation\" data-index=\"0\" style=\"opacity: 1;\"><g class=\"annotation-text-g\" transform=\"rotate(0,500,477.00000000000006)\"><g class=\"cursor-pointer\" transform=\"translate(317,467)\"><rect class=\"bg\" x=\"0.5\" y=\"0.5\" width=\"366\" height=\"19\" style=\"stroke-width: 1px; stroke: rgb(0, 0, 0); stroke-opacity: 0; fill: rgb(0, 0, 0); fill-opacity: 0;\"/><text class=\"annotation-text\" text-anchor=\"middle\" x=\"183.3125\" y=\"15\" style=\"font-family: 'Open Sans', verdana, arial, sans-serif; font-size: 14px; fill: rgb(0, 0, 0); fill-opacity: 1; white-space: pre;\">Majority of patients were administered ZDV in the 30 days.</text></g></g></g></g></svg>"
      ]
     },
     "metadata": {},
     "output_type": "display_data"
    }
   ],
   "source": [
    "\n",
    "palette = cl.scales['11']['div']['RdYlGn']\n",
    "\n",
    "\n",
    "z30 = df['z30'].value_counts().reset_index()\n",
    "z30.columns = ['z30', 'count']\n",
    "\n",
    "fig = go.Figure(data=[go.Pie(\n",
    "    labels=z30['z30'],\n",
    "    values=z30['count'],\n",
    "    marker=dict(colors=palette, line=dict(color='#000000', width=1)),\n",
    "    textinfo=\"label+percent\",\n",
    "    textfont=dict(size=14, color='#FFFFFF')\n",
    ")])\n",
    "\n",
    "\n",
    "fig.update_layout(\n",
    "    title_text=\"Distribution of administration of ZDV\",\n",
    "    title_font_size=24,\n",
    "    title_font_family=\"Times New Roman\",\n",
    "    title_font_color=\"#000000\",  \n",
    "    paper_bgcolor='#ffffff',  \n",
    "    plot_bgcolor='#ffffff', \n",
    "    showlegend=True,\n",
    "    legend_title_text='Administered (no/yes)',\n",
    "    legend=dict(\n",
    "        x=0.8,\n",
    "        y=0.5,\n",
    "        traceorder='normal',\n",
    "        font=dict(\n",
    "            family=\"Times New Roman\",\n",
    "            size=14,\n",
    "            color=\"#000000\"\n",
    "        ),\n",
    "        bgcolor=\"#ffffff\",  \n",
    "        bordercolor=\"#000000\", \n",
    "        borderwidth=0.7,\n",
    "        orientation=\"v\" \n",
    "    )\n",
    ")\n",
    "\n",
    "fig.update_layout(width=1000)\n",
    "\n",
    "fig.update_layout(\n",
    "    title={\n",
    "        'text': \"Distribution of administration of ZDV\",\n",
    "        'y':0.95,\n",
    "        'x':0.21,\n",
    "        'xanchor': 'center',\n",
    "        'yanchor': 'top'},\n",
    "    title_font_size=26,\n",
    "    margin=dict(l=50, r=50, t=80, b=50)\n",
    ")\n",
    "\n",
    "fig.add_annotation(\n",
    "    text=\"Majority of patients were administered ZDV in the 30 days.\",\n",
    "    x=0.5,\n",
    "    y=-0.10,\n",
    "    showarrow=False,\n",
    "    font=dict(color=\"#000000\", size=14) \n",
    ")\n",
    "\n",
    "# Show the pie chart\n",
    "fig.show('svg')\n"
   ]
  },
  {
   "cell_type": "markdown",
   "id": "e50bd5e4",
   "metadata": {
    "papermill": {
     "duration": 0.03688,
     "end_time": "2024-06-02T14:38:09.334674",
     "exception": false,
     "start_time": "2024-06-02T14:38:09.297794",
     "status": "completed"
    },
    "tags": []
   },
   "source": [
    "----------------------------------------------------------------------------------------------------------------------------------------------------------"
   ]
  },
  {
   "cell_type": "markdown",
   "id": "8e60488f",
   "metadata": {
    "papermill": {
     "duration": 0.036152,
     "end_time": "2024-06-02T14:38:09.407401",
     "exception": false,
     "start_time": "2024-06-02T14:38:09.371249",
     "status": "completed"
    },
    "tags": []
   },
   "source": [
    "## preanti: days pre-175 anti-retroviral therapy\n",
    "\n",
    "***About***\n",
    "\n",
    "<div>\n",
    "    <p>\n",
    "preanti means the number of days or the duration (in days, weeks, or another time unit) that a patient has been on anti-retroviral therapy before reaching the 175-week mark since the start of observation or treatment.       \n",
    "    \n",
    "   </p>\n",
    " </div>\n",
    "   \n",
    "***Conclusion***\n",
    "\n",
    "- *Mean is high as compared to the meadian, there are outliers present.*\n",
    "\n",
    "- *Standard deviation is high. A standard deviation of 400 days indicates that the durations of ART among patients vary widely around the mean. This means that some patients may have had very short durations of therapy, while others had very long durations, relative to the average.*\n"
   ]
  },
  {
   "cell_type": "code",
   "execution_count": 29,
   "id": "68e920e3",
   "metadata": {
    "execution": {
     "iopub.execute_input": "2024-06-02T14:38:09.483857Z",
     "iopub.status.busy": "2024-06-02T14:38:09.483193Z",
     "iopub.status.idle": "2024-06-02T14:38:09.494027Z",
     "shell.execute_reply": "2024-06-02T14:38:09.492837Z"
    },
    "papermill": {
     "duration": 0.051804,
     "end_time": "2024-06-02T14:38:09.496164",
     "exception": false,
     "start_time": "2024-06-02T14:38:09.444360",
     "status": "completed"
    },
    "tags": []
   },
   "outputs": [
    {
     "data": {
      "text/plain": [
       "count    15000.000000\n",
       "mean       315.619067\n",
       "std        400.272034\n",
       "min          0.000000\n",
       "25%          0.000000\n",
       "50%        124.000000\n",
       "75%        495.000000\n",
       "max       2851.000000\n",
       "Name: preanti, dtype: float64"
      ]
     },
     "execution_count": 29,
     "metadata": {},
     "output_type": "execute_result"
    }
   ],
   "source": [
    "df['preanti'].describe()"
   ]
  },
  {
   "cell_type": "markdown",
   "id": "215ba97d",
   "metadata": {
    "papermill": {
     "duration": 0.036677,
     "end_time": "2024-06-02T14:38:09.569261",
     "exception": false,
     "start_time": "2024-06-02T14:38:09.532584",
     "status": "completed"
    },
    "tags": []
   },
   "source": [
    "*There is a huge distinction between the mean and median. There is possibly some amount of skewness in the data*"
   ]
  },
  {
   "cell_type": "code",
   "execution_count": 30,
   "id": "73c0386a",
   "metadata": {
    "execution": {
     "iopub.execute_input": "2024-06-02T14:38:09.647409Z",
     "iopub.status.busy": "2024-06-02T14:38:09.647021Z",
     "iopub.status.idle": "2024-06-02T14:38:09.769688Z",
     "shell.execute_reply": "2024-06-02T14:38:09.768575Z"
    },
    "papermill": {
     "duration": 0.165433,
     "end_time": "2024-06-02T14:38:09.772062",
     "exception": false,
     "start_time": "2024-06-02T14:38:09.606629",
     "status": "completed"
    },
    "tags": []
   },
   "outputs": [
    {
     "data": {
      "image/svg+xml": [
       "<svg class=\"main-svg\" xmlns=\"http://www.w3.org/2000/svg\" xmlns:xlink=\"http://www.w3.org/1999/xlink\" width=\"1000\" height=\"500\" style=\"\" viewBox=\"0 0 1000 500\"><rect x=\"0\" y=\"0\" width=\"1000\" height=\"500\" style=\"fill: rgb(255, 255, 255); fill-opacity: 1;\"/><defs id=\"defs-2cbf6d\"><g class=\"clips\"><clipPath id=\"clip2cbf6dxyplot\" class=\"plotclip\"><rect width=\"893\" height=\"367\"/></clipPath><clipPath class=\"axesclip\" id=\"clip2cbf6dx\"><rect x=\"57\" y=\"0\" width=\"893\" height=\"500\"/></clipPath><clipPath class=\"axesclip\" id=\"clip2cbf6dy\"><rect x=\"0\" y=\"80\" width=\"1000\" height=\"367\"/></clipPath><clipPath class=\"axesclip\" id=\"clip2cbf6dxy\"><rect x=\"57\" y=\"80\" width=\"893\" height=\"367\"/></clipPath></g><g class=\"gradients\"/><g class=\"patterns\"/></defs><g class=\"bglayer\"/><g class=\"layer-below\"><g class=\"imagelayer\"/><g class=\"shapelayer\"/></g><g class=\"cartesianlayer\"><g class=\"subplot xy\"><g class=\"layer-subplot\"><g class=\"shapelayer\"/><g class=\"imagelayer\"/></g><g class=\"minor-gridlayer\"><g class=\"x\"/><g class=\"y\"/></g><g class=\"gridlayer\"><g class=\"x\"/><g class=\"y\"><path class=\"ygrid crisp\" transform=\"translate(0,385.23)\" d=\"M57,0h893\" style=\"stroke: rgb(255, 255, 255); stroke-opacity: 1; stroke-width: 1px;\"/><path class=\"ygrid crisp\" transform=\"translate(0,323.45)\" d=\"M57,0h893\" style=\"stroke: rgb(255, 255, 255); stroke-opacity: 1; stroke-width: 1px;\"/><path class=\"ygrid crisp\" transform=\"translate(0,261.68)\" d=\"M57,0h893\" style=\"stroke: rgb(255, 255, 255); stroke-opacity: 1; stroke-width: 1px;\"/><path class=\"ygrid crisp\" transform=\"translate(0,199.91)\" d=\"M57,0h893\" style=\"stroke: rgb(255, 255, 255); stroke-opacity: 1; stroke-width: 1px;\"/><path class=\"ygrid crisp\" transform=\"translate(0,138.13)\" d=\"M57,0h893\" style=\"stroke: rgb(255, 255, 255); stroke-opacity: 1; stroke-width: 1px;\"/></g></g><g class=\"zerolinelayer\"><path class=\"yzl zl crisp\" transform=\"translate(0,447)\" d=\"M57,0h893\" style=\"stroke: rgb(255, 255, 255); stroke-opacity: 1; stroke-width: 2px;\"/></g><path class=\"xlines-below\"/><path class=\"ylines-below\"/><g class=\"overlines-below\"/><g class=\"xaxislayer-below\"/><g class=\"yaxislayer-below\"/><g class=\"overaxes-below\"/><g class=\"plot\" transform=\"translate(57,80)\" clip-path=\"url(#clip2cbf6dxyplot)\"><g class=\"barlayer mlayer\"><g class=\"trace bars\" shape-rendering=\"crispEdges\" style=\"opacity: 1;\"><g class=\"points\"><g class=\"point\"><path d=\"M0,367V18.35H148.83V367Z\" style=\"vector-effect: none; opacity: 1; stroke-width: 0px; fill: rgb(8, 69, 148); fill-opacity: 1;\"/></g><g class=\"point\"><path d=\"M148.83,367V283.88H297.67V367Z\" style=\"vector-effect: none; opacity: 1; stroke-width: 0px; fill: rgb(8, 69, 148); fill-opacity: 1;\"/></g><g class=\"point\"><path d=\"M297.67,367V339.76H446.5V367Z\" style=\"vector-effect: none; opacity: 1; stroke-width: 0px; fill: rgb(8, 69, 148); fill-opacity: 1;\"/></g><g class=\"point\"><path d=\"M446.5,367V363.02H595.33V367Z\" style=\"vector-effect: none; opacity: 1; stroke-width: 0px; fill: rgb(8, 69, 148); fill-opacity: 1;\"/></g><g class=\"point\"><path d=\"M595.33,367V366.78H744.17V367Z\" style=\"vector-effect: none; opacity: 1; stroke-width: 0px; fill: rgb(8, 69, 148); fill-opacity: 1;\"/></g><g class=\"point\"><path d=\"M744.17,367V366.91H893V367Z\" style=\"vector-effect: none; opacity: 1; stroke-width: 0px; fill: rgb(8, 69, 148); fill-opacity: 1;\"/></g></g></g></g></g><g class=\"overplot\"/><path class=\"xlines-above crisp\" d=\"M0,0\" style=\"fill: none;\"/><path class=\"ylines-above crisp\" d=\"M0,0\" style=\"fill: none;\"/><g class=\"overlines-above\"/><g class=\"xaxislayer-above\"><g class=\"xtick\"><text text-anchor=\"middle\" x=\"0\" y=\"460\" transform=\"translate(57.15,0)\" style=\"font-family: 'Open Sans', verdana, arial, sans-serif; font-size: 12px; fill: rgb(42, 63, 95); fill-opacity: 1; white-space: pre; opacity: 1;\">0</text></g><g class=\"xtick\"><text text-anchor=\"middle\" x=\"0\" y=\"460\" style=\"font-family: 'Open Sans', verdana, arial, sans-serif; font-size: 12px; fill: rgb(42, 63, 95); fill-opacity: 1; white-space: pre; opacity: 1;\" transform=\"translate(205.98,0)\">500</text></g><g class=\"xtick\"><text text-anchor=\"middle\" x=\"0\" y=\"460\" style=\"font-family: 'Open Sans', verdana, arial, sans-serif; font-size: 12px; fill: rgb(42, 63, 95); fill-opacity: 1; white-space: pre; opacity: 1;\" transform=\"translate(354.82,0)\">1000</text></g><g class=\"xtick\"><text text-anchor=\"middle\" x=\"0\" y=\"460\" style=\"font-family: 'Open Sans', verdana, arial, sans-serif; font-size: 12px; fill: rgb(42, 63, 95); fill-opacity: 1; white-space: pre; opacity: 1;\" transform=\"translate(503.65,0)\">1500</text></g><g class=\"xtick\"><text text-anchor=\"middle\" x=\"0\" y=\"460\" style=\"font-family: 'Open Sans', verdana, arial, sans-serif; font-size: 12px; fill: rgb(42, 63, 95); fill-opacity: 1; white-space: pre; opacity: 1;\" transform=\"translate(652.48,0)\">2000</text></g><g class=\"xtick\"><text text-anchor=\"middle\" x=\"0\" y=\"460\" style=\"font-family: 'Open Sans', verdana, arial, sans-serif; font-size: 12px; fill: rgb(42, 63, 95); fill-opacity: 1; white-space: pre; opacity: 1;\" transform=\"translate(801.32,0)\">2500</text></g></g><g class=\"yaxislayer-above\"><g class=\"ytick\"><text text-anchor=\"end\" x=\"56\" y=\"4.199999999999999\" transform=\"translate(0,447)\" style=\"font-family: 'Open Sans', verdana, arial, sans-serif; font-size: 12px; fill: rgb(42, 63, 95); fill-opacity: 1; white-space: pre; opacity: 1;\">0</text></g><g class=\"ytick\"><text text-anchor=\"end\" x=\"56\" y=\"4.199999999999999\" style=\"font-family: 'Open Sans', verdana, arial, sans-serif; font-size: 12px; fill: rgb(42, 63, 95); fill-opacity: 1; white-space: pre; opacity: 1;\" transform=\"translate(0,385.23)\">2k</text></g><g class=\"ytick\"><text text-anchor=\"end\" x=\"56\" y=\"4.199999999999999\" style=\"font-family: 'Open Sans', verdana, arial, sans-serif; font-size: 12px; fill: rgb(42, 63, 95); fill-opacity: 1; white-space: pre; opacity: 1;\" transform=\"translate(0,323.45)\">4k</text></g><g class=\"ytick\"><text text-anchor=\"end\" x=\"56\" y=\"4.199999999999999\" style=\"font-family: 'Open Sans', verdana, arial, sans-serif; font-size: 12px; fill: rgb(42, 63, 95); fill-opacity: 1; white-space: pre; opacity: 1;\" transform=\"translate(0,261.68)\">6k</text></g><g class=\"ytick\"><text text-anchor=\"end\" x=\"56\" y=\"4.199999999999999\" style=\"font-family: 'Open Sans', verdana, arial, sans-serif; font-size: 12px; fill: rgb(42, 63, 95); fill-opacity: 1; white-space: pre; opacity: 1;\" transform=\"translate(0,199.91)\">8k</text></g><g class=\"ytick\"><text text-anchor=\"end\" x=\"56\" y=\"4.199999999999999\" style=\"font-family: 'Open Sans', verdana, arial, sans-serif; font-size: 12px; fill: rgb(42, 63, 95); fill-opacity: 1; white-space: pre; opacity: 1;\" transform=\"translate(0,138.13)\">10k</text></g></g><g class=\"overaxes-above\"/></g></g><g class=\"polarlayer\"/><g class=\"smithlayer\"/><g class=\"ternarylayer\"/><g class=\"geolayer\"/><g class=\"funnelarealayer\"/><g class=\"pielayer\"/><g class=\"iciclelayer\"/><g class=\"treemaplayer\"/><g class=\"sunburstlayer\"/><g class=\"glimages\"/><defs id=\"topdefs-2cbf6d\"><g class=\"clips\"/></defs><g class=\"layer-above\"><g class=\"imagelayer\"/><g class=\"shapelayer\"/></g><g class=\"infolayer\"><g class=\"g-gtitle\"><text class=\"gtitle\" x=\"310\" y=\"25\" text-anchor=\"middle\" dy=\"0.7em\" style=\"font-family: 'Times New Roman'; font-size: 26px; fill: rgb(0, 0, 0); opacity: 1; font-weight: normal; white-space: pre;\">Distribution of days patient has been on ART</text></g><g class=\"g-xtitle\"><text class=\"xtitle\" x=\"503.5\" y=\"487.3\" text-anchor=\"middle\" style=\"font-family: 'Open Sans', verdana, arial, sans-serif; font-size: 14px; fill: rgb(42, 63, 95); opacity: 1; font-weight: normal; white-space: pre;\">Days</text></g><g class=\"g-ytitle\" transform=\"translate(0.6591796875,0)\"><text class=\"ytitle\" transform=\"rotate(-90,12.340625000000003,263.5)\" x=\"12.340625000000003\" y=\"263.5\" text-anchor=\"middle\" style=\"font-family: 'Open Sans', verdana, arial, sans-serif; font-size: 14px; fill: rgb(42, 63, 95); opacity: 1; font-weight: normal; white-space: pre;\">Frequency</text></g></g></svg>"
      ]
     },
     "metadata": {},
     "output_type": "display_data"
    }
   ],
   "source": [
    "palette = cl.scales['8']['seq']['Blues']\n",
    "\n",
    "fig = go.Figure(data=[go.Histogram(\n",
    "    x=df['preanti'],\n",
    "    marker=dict(color=palette[7]),  # Use the second color from the palette\n",
    "    nbinsx=10\n",
    ")])\n",
    "\n",
    "# Update layout\n",
    "fig.update_layout(\n",
    "    title_text=\"Distribution of days patient has been on ART\",\n",
    "    title_font_size=24,\n",
    "    title_font_family=\"Times New Roman\",\n",
    "    title_font_color=\"#000000\",\n",
    "    paper_bgcolor='#ffffff',\n",
    "    plot_bgcolor='#ffffff',\n",
    "    xaxis=dict(title=\"Days\"),\n",
    "    yaxis=dict(title=\"Frequency\"),\n",
    ")\n",
    "\n",
    "# Set title properties\n",
    "fig.update_layout(\n",
    "    title={\n",
    "        'text': \"Distribution of days patient has been on ART\",\n",
    "        'y':0.95,\n",
    "        'x':0.31,\n",
    "        'xanchor': 'center',\n",
    "        'yanchor': 'top'},\n",
    "    title_font_size=26,\n",
    "    margin=dict(l=50, r=50, t=80, b=50)\n",
    ")\n",
    "\n",
    "# Set the width of the figure\n",
    "fig.update_layout(width=1000)\n",
    "\n",
    "# Show the histogram\n",
    "fig.show('svg')"
   ]
  },
  {
   "cell_type": "markdown",
   "id": "4366eee9",
   "metadata": {
    "papermill": {
     "duration": 0.040204,
     "end_time": "2024-06-02T14:38:09.851678",
     "exception": false,
     "start_time": "2024-06-02T14:38:09.811474",
     "status": "completed"
    },
    "tags": []
   },
   "source": [
    "*highly positively skewed distribution*"
   ]
  },
  {
   "cell_type": "code",
   "execution_count": 31,
   "id": "71af0a01",
   "metadata": {
    "execution": {
     "iopub.execute_input": "2024-06-02T14:38:09.928509Z",
     "iopub.status.busy": "2024-06-02T14:38:09.928088Z",
     "iopub.status.idle": "2024-06-02T14:38:10.145605Z",
     "shell.execute_reply": "2024-06-02T14:38:10.144580Z"
    },
    "papermill": {
     "duration": 0.258087,
     "end_time": "2024-06-02T14:38:10.148093",
     "exception": false,
     "start_time": "2024-06-02T14:38:09.890006",
     "status": "completed"
    },
    "tags": []
   },
   "outputs": [
    {
     "data": {
      "image/png": "[encoded data removed]"
     },
     "metadata": {},
     "output_type": "display_data"
    }
   ],
   "source": [
    "\n",
    "palette = cl.scales['11']['div']['PuOr']\n",
    "fig = go.Figure(data=[go.Box(\n",
    "    x=df['preanti'],\n",
    "    marker=dict(color=palette[1])\n",
    ")])\n",
    "\n",
    "fig.update_layout(\n",
    "    title_text=\"Boxplot of preanti\",\n",
    "    title_font_size=24,\n",
    "    title_font_family=\"Times New Roman\",\n",
    "    title_font_color=\"#000000\",  \n",
    "    paper_bgcolor='#ffffff',  \n",
    "    plot_bgcolor='#ffffff',  \n",
    "    xaxis=dict(title=\"Karnofsky score\"),\n",
    ")\n",
    "\n",
    "fig.update_layout(\n",
    "    title={\n",
    "        'y':0.95,\n",
    "        'x':0.15,\n",
    "        'xanchor': 'center',\n",
    "        'yanchor': 'top'},\n",
    "    title_font_size=26,\n",
    "    margin=dict(l=50, r=50, t=80, b=50)\n",
    ")\n",
    "\n",
    "\n",
    "\n",
    "fig.update_layout(width=1000)\n",
    "\n",
    "fig.show('png')"
   ]
  },
  {
   "cell_type": "markdown",
   "id": "3f4a867d",
   "metadata": {
    "papermill": {
     "duration": 0.037805,
     "end_time": "2024-06-02T14:38:10.223443",
     "exception": false,
     "start_time": "2024-06-02T14:38:10.185638",
     "status": "completed"
    },
    "tags": []
   },
   "source": [
    "*Most outliers are present after 1235 days. This means some patients were administered ART for more than 1235 days before the 175 week mark*"
   ]
  },
  {
   "cell_type": "markdown",
   "id": "722e12e9",
   "metadata": {
    "papermill": {
     "duration": 0.036704,
     "end_time": "2024-06-02T14:38:10.297681",
     "exception": false,
     "start_time": "2024-06-02T14:38:10.260977",
     "status": "completed"
    },
    "tags": []
   },
   "source": [
    "----------------------------------------------------------------------------------------------------------------------------------------------------------"
   ]
  },
  {
   "cell_type": "markdown",
   "id": "ac8623c6",
   "metadata": {
    "papermill": {
     "duration": 0.037954,
     "end_time": "2024-06-02T14:38:10.374469",
     "exception": false,
     "start_time": "2024-06-02T14:38:10.336515",
     "status": "completed"
    },
    "tags": []
   },
   "source": [
    "## Race\n",
    "\n",
    "***Conclusions***\n",
    "- *Majority of the patients are white*\n",
    "\n",
    "- *There is no strong correlation of race with any other variable*"
   ]
  },
  {
   "cell_type": "code",
   "execution_count": 32,
   "id": "b25926e0",
   "metadata": {
    "execution": {
     "iopub.execute_input": "2024-06-02T14:38:10.451269Z",
     "iopub.status.busy": "2024-06-02T14:38:10.450756Z",
     "iopub.status.idle": "2024-06-02T14:38:10.459123Z",
     "shell.execute_reply": "2024-06-02T14:38:10.458022Z"
    },
    "papermill": {
     "duration": 0.049504,
     "end_time": "2024-06-02T14:38:10.461361",
     "exception": false,
     "start_time": "2024-06-02T14:38:10.411857",
     "status": "completed"
    },
    "tags": []
   },
   "outputs": [
    {
     "data": {
      "text/plain": [
       "race\n",
       "0    10486\n",
       "1     4514\n",
       "Name: count, dtype: int64"
      ]
     },
     "execution_count": 32,
     "metadata": {},
     "output_type": "execute_result"
    }
   ],
   "source": [
    "df['race'].value_counts()"
   ]
  },
  {
   "cell_type": "code",
   "execution_count": 33,
   "id": "6108b977",
   "metadata": {
    "execution": {
     "iopub.execute_input": "2024-06-02T14:38:10.540998Z",
     "iopub.status.busy": "2024-06-02T14:38:10.539748Z",
     "iopub.status.idle": "2024-06-02T14:38:10.601897Z",
     "shell.execute_reply": "2024-06-02T14:38:10.600718Z"
    },
    "papermill": {
     "duration": 0.104004,
     "end_time": "2024-06-02T14:38:10.604402",
     "exception": false,
     "start_time": "2024-06-02T14:38:10.500398",
     "status": "completed"
    },
    "tags": []
   },
   "outputs": [
    {
     "data": {
      "image/svg+xml": [
       "<svg class=\"main-svg\" xmlns=\"http://www.w3.org/2000/svg\" xmlns:xlink=\"http://www.w3.org/1999/xlink\" width=\"1000\" height=\"500\" style=\"\" viewBox=\"0 0 1000 500\"><rect x=\"0\" y=\"0\" width=\"1000\" height=\"500\" style=\"fill: rgb(255, 255, 255); fill-opacity: 1;\"/><defs id=\"defs-5df3e8\"><g class=\"clips\"/><g class=\"gradients\"/><g class=\"patterns\"/></defs><g class=\"bglayer\"/><g class=\"layer-below\"><g class=\"imagelayer\"/><g class=\"shapelayer\"/></g><g class=\"cartesianlayer\"/><g class=\"polarlayer\"/><g class=\"smithlayer\"/><g class=\"ternarylayer\"/><g class=\"geolayer\"/><g class=\"funnelarealayer\"/><g class=\"pielayer\"><g class=\"trace\" stroke-linejoin=\"round\" style=\"opacity: 1;\"><g class=\"slice\"><path class=\"surface\" d=\"M500,265l0,-185a185,185 0 1 1 -175.60718054893636,243.19895308038855Z\" style=\"pointer-events: none; fill: rgb(84, 48, 5); fill-opacity: 1; stroke-width: 1; stroke: rgb(0, 0, 0); stroke-opacity: 1;\"/><g class=\"slicetext\"><text data-notex=\"1\" class=\"slicetext\" transform=\"translate(574.9931716223816,315.0489149680336)\" text-anchor=\"middle\" x=\"0\" y=\"0\" style=\"font-family: 'Open Sans', verdana, arial, sans-serif; font-size: 14px; fill: rgb(255, 255, 255); fill-opacity: 1; white-space: pre;\"><tspan class=\"line\" dy=\"0em\" x=\"0\" y=\"0\">0</tspan><tspan class=\"line\" dy=\"1.3em\" x=\"0\" y=\"0\">69.9%</tspan></text></g></g><g class=\"slice\"><path class=\"surface\" d=\"M500,265l-175.60718054893638,58.1989530803885a185,185 0 0 1 175.60718054893638,-243.1989530803885Z\" style=\"pointer-events: none; fill: rgb(140, 81, 10); fill-opacity: 1; stroke-width: 1; stroke: rgb(0, 0, 0); stroke-opacity: 1;\"/><g class=\"slicetext\"><text data-notex=\"1\" class=\"slicetext\" transform=\"translate(417.1683441434893,201.08800920282897)\" text-anchor=\"middle\" x=\"0\" y=\"0\" style=\"font-family: 'Open Sans', verdana, arial, sans-serif; font-size: 14px; fill: rgb(255, 255, 255); fill-opacity: 1; white-space: pre;\"><tspan class=\"line\" dy=\"0em\" x=\"0\" y=\"0\">1</tspan><tspan class=\"line\" dy=\"1.3em\" x=\"0\" y=\"0\">30.1%</tspan></text></g></g></g></g><g class=\"iciclelayer\"/><g class=\"treemaplayer\"/><g class=\"sunburstlayer\"/><g class=\"glimages\"/><defs id=\"topdefs-5df3e8\"><g class=\"clips\"/><clipPath id=\"legend5df3e8\"><rect width=\"165.6\" height=\"74.6\" x=\"0.7\" y=\"0.7\"/></clipPath></defs><g class=\"layer-above\"><g class=\"imagelayer\"/><g class=\"shapelayer\"/></g><g class=\"infolayer\"><g class=\"legend\" pointer-events=\"all\" transform=\"translate(770,227)\"><rect class=\"bg\" shape-rendering=\"crispEdges\" style=\"stroke: rgb(0, 0, 0); stroke-opacity: 1; fill: rgb(255, 255, 255); fill-opacity: 1; stroke-width: 0.7px;\" width=\"166.3\" height=\"75.3\" x=\"0.35\" y=\"0.35\"/><g class=\"scrollbox\" transform=\"\" clip-path=\"url(#legend5df3e8)\"><text class=\"legendtitletext\" text-anchor=\"start\" x=\"2.7\" y=\"22.8\" style=\"font-family: 'Times New Roman'; font-size: 17px; fill: rgb(0, 0, 0); fill-opacity: 1; white-space: pre;\">Race (white/non-white)</text><g class=\"groups\"><g class=\"traces\" transform=\"translate(0.7,38.4)\" style=\"opacity: 1;\"><text class=\"legendtext\" text-anchor=\"start\" x=\"40\" y=\"5.46\" style=\"font-family: 'Times New Roman'; font-size: 14px; fill: rgb(0, 0, 0); fill-opacity: 1; white-space: pre;\">0</text><g class=\"layers\" style=\"opacity: 1;\"><g class=\"legendfill\"/><g class=\"legendlines\"/><g class=\"legendsymbols\"><g class=\"legendpoints\"><path class=\"legendpie\" d=\"M6,6H-6V-6H6Z\" transform=\"translate(20,0)\" style=\"fill: rgb(84, 48, 5); fill-opacity: 1; stroke-width: 1; stroke: rgb(0, 0, 0); stroke-opacity: 1;\"/></g></g></g><rect class=\"legendtoggle\" x=\"0\" y=\"-10.6\" width=\"47\" height=\"21.2\" style=\"fill: rgb(0, 0, 0); fill-opacity: 0;\"/></g><g class=\"traces\" transform=\"translate(0.7,59.6)\" style=\"opacity: 1;\"><text class=\"legendtext\" text-anchor=\"start\" x=\"40\" y=\"5.46\" style=\"font-family: 'Times New Roman'; font-size: 14px; fill: rgb(0, 0, 0); fill-opacity: 1; white-space: pre;\">1</text><g class=\"layers\" style=\"opacity: 1;\"><g class=\"legendfill\"/><g class=\"legendlines\"/><g class=\"legendsymbols\"><g class=\"legendpoints\"><path class=\"legendpie\" d=\"M6,6H-6V-6H6Z\" transform=\"translate(20,0)\" style=\"fill: rgb(140, 81, 10); fill-opacity: 1; stroke-width: 1; stroke: rgb(0, 0, 0); stroke-opacity: 1;\"/></g></g></g><rect class=\"legendtoggle\" x=\"0\" y=\"-10.6\" width=\"47\" height=\"21.2\" style=\"fill: rgb(0, 0, 0); fill-opacity: 0;\"/></g></g></g><rect class=\"scrollbar\" rx=\"20\" ry=\"3\" width=\"0\" height=\"0\" x=\"0\" y=\"0\" style=\"fill: rgb(128, 139, 164); fill-opacity: 1;\"/></g><g class=\"g-gtitle\"><text class=\"gtitle\" x=\"210\" y=\"25\" text-anchor=\"middle\" dy=\"0.7em\" style=\"font-family: 'Times New Roman'; font-size: 26px; fill: rgb(0, 0, 0); opacity: 1; font-weight: normal; white-space: pre;\">Distribution of race</text></g><g class=\"annotation\" data-index=\"0\" style=\"opacity: 1;\"><g class=\"annotation-text-g\" transform=\"rotate(0,500,477.00000000000006)\"><g class=\"cursor-pointer\" transform=\"translate(404,467)\"><rect class=\"bg\" x=\"0.5\" y=\"0.5\" width=\"192\" height=\"19\" style=\"stroke-width: 1px; stroke: rgb(0, 0, 0); stroke-opacity: 0; fill: rgb(0, 0, 0); fill-opacity: 0;\"/><text class=\"annotation-text\" text-anchor=\"middle\" x=\"96.15625\" y=\"15\" style=\"font-family: 'Open Sans', verdana, arial, sans-serif; font-size: 14px; fill: rgb(0, 0, 0); fill-opacity: 1; white-space: pre;\">Majority of patients were white</text></g></g></g></g></svg>"
      ]
     },
     "metadata": {},
     "output_type": "display_data"
    }
   ],
   "source": [
    "\n",
    "palette = cl.scales['10']['div']['BrBG']\n",
    "\n",
    "\n",
    "race = df['race'].value_counts().reset_index()\n",
    "race.columns = ['race', 'count']\n",
    "\n",
    "fig = go.Figure(data=[go.Pie(\n",
    "    labels=race['race'],\n",
    "    values=race['count'],\n",
    "    marker=dict(colors=palette, line=dict(color='#000000', width=1)),\n",
    "    textinfo=\"label+percent\",\n",
    "    textfont=dict(size=14, color='#FFFFFF')\n",
    ")])\n",
    "\n",
    "\n",
    "fig.update_layout(\n",
    "    title_text=\"Distribution of race\",\n",
    "    title_font_size=24,\n",
    "    title_font_family=\"Times New Roman\",\n",
    "    title_font_color=\"#000000\",  \n",
    "    paper_bgcolor='#ffffff',  \n",
    "    plot_bgcolor='#ffffff', \n",
    "    showlegend=True,\n",
    "    legend_title_text='Race (white/non-white)',\n",
    "    legend=dict(\n",
    "        x=0.8,\n",
    "        y=0.5,\n",
    "        traceorder='normal',\n",
    "        font=dict(\n",
    "            family=\"Times New Roman\",\n",
    "            size=14,\n",
    "            color=\"#000000\"\n",
    "        ),\n",
    "        bgcolor=\"#ffffff\",  \n",
    "        bordercolor=\"#000000\", \n",
    "        borderwidth=0.7,\n",
    "        orientation=\"v\" \n",
    "    )\n",
    ")\n",
    "\n",
    "fig.update_layout(width=1000)\n",
    "\n",
    "fig.update_layout(\n",
    "    title={\n",
    "        'text': \"Distribution of race\",\n",
    "        'y':0.95,\n",
    "        'x':0.21,\n",
    "        'xanchor': 'center',\n",
    "        'yanchor': 'top'},\n",
    "    title_font_size=26,\n",
    "    margin=dict(l=50, r=50, t=80, b=50)\n",
    ")\n",
    "\n",
    "fig.add_annotation(\n",
    "    text=\"Majority of patients were white\",\n",
    "    x=0.5,\n",
    "    y=-0.10,\n",
    "    showarrow=False,\n",
    "    font=dict(color=\"#000000\", size=14) \n",
    ")\n",
    "\n",
    "# Show the pie chart\n",
    "fig.show('svg')\n"
   ]
  },
  {
   "cell_type": "code",
   "execution_count": 34,
   "id": "e90cf464",
   "metadata": {
    "execution": {
     "iopub.execute_input": "2024-06-02T14:38:10.684979Z",
     "iopub.status.busy": "2024-06-02T14:38:10.684293Z",
     "iopub.status.idle": "2024-06-02T14:38:10.719033Z",
     "shell.execute_reply": "2024-06-02T14:38:10.717560Z"
    },
    "papermill": {
     "duration": 0.078113,
     "end_time": "2024-06-02T14:38:10.722609",
     "exception": false,
     "start_time": "2024-06-02T14:38:10.644496",
     "status": "completed"
    },
    "tags": []
   },
   "outputs": [
    {
     "data": {
      "text/plain": [
       "time         -3.077521\n",
       "trt          -5.806935\n",
       "age          -6.831852\n",
       "wtkg         -5.133001\n",
       "hemo          0.458512\n",
       "homo        -20.193154\n",
       "drugs         4.692483\n",
       "karnof        4.353950\n",
       "oprior       -2.810755\n",
       "z30          -9.860449\n",
       "preanti     -10.257438\n",
       "race        100.000000\n",
       "gender      -14.030872\n",
       "str2        -12.520895\n",
       "strat       -14.411401\n",
       "symptom      -0.458382\n",
       "treat        -9.108906\n",
       "offtrt        6.999763\n",
       "cd40          3.988502\n",
       "cd420         4.405390\n",
       "cd80         -2.703265\n",
       "cd820        -1.132044\n",
       "infected     -3.606357\n",
       "Name: race, dtype: float64"
      ]
     },
     "execution_count": 34,
     "metadata": {},
     "output_type": "execute_result"
    }
   ],
   "source": [
    "df.corr()['race']*100"
   ]
  },
  {
   "cell_type": "markdown",
   "id": "593da03f",
   "metadata": {
    "papermill": {
     "duration": 0.03905,
     "end_time": "2024-06-02T14:38:10.800673",
     "exception": false,
     "start_time": "2024-06-02T14:38:10.761623",
     "status": "completed"
    },
    "tags": []
   },
   "source": [
    "----------------------------------------------------------------------------------------------------------------------------------------------------------"
   ]
  },
  {
   "cell_type": "markdown",
   "id": "c0e9196d",
   "metadata": {
    "papermill": {
     "duration": 0.038555,
     "end_time": "2024-06-02T14:38:10.879351",
     "exception": false,
     "start_time": "2024-06-02T14:38:10.840796",
     "status": "completed"
    },
    "tags": []
   },
   "source": [
    "## Gender\n",
    "\n",
    "***Conclusions***\n",
    "\n",
    "- *Majority of the patients are male*\n",
    "\n",
    "- *There is no strong correlation of gender with any other variable*"
   ]
  },
  {
   "cell_type": "code",
   "execution_count": 35,
   "id": "60340761",
   "metadata": {
    "execution": {
     "iopub.execute_input": "2024-06-02T14:38:10.957240Z",
     "iopub.status.busy": "2024-06-02T14:38:10.956816Z",
     "iopub.status.idle": "2024-06-02T14:38:10.964940Z",
     "shell.execute_reply": "2024-06-02T14:38:10.963807Z"
    },
    "papermill": {
     "duration": 0.049532,
     "end_time": "2024-06-02T14:38:10.967277",
     "exception": false,
     "start_time": "2024-06-02T14:38:10.917745",
     "status": "completed"
    },
    "tags": []
   },
   "outputs": [
    {
     "data": {
      "text/plain": [
       "gender\n",
       "1    12807\n",
       "0     2193\n",
       "Name: count, dtype: int64"
      ]
     },
     "execution_count": 35,
     "metadata": {},
     "output_type": "execute_result"
    }
   ],
   "source": [
    "df['gender'].value_counts()"
   ]
  },
  {
   "cell_type": "code",
   "execution_count": 36,
   "id": "8c4e0dd4",
   "metadata": {
    "execution": {
     "iopub.execute_input": "2024-06-02T14:38:11.046827Z",
     "iopub.status.busy": "2024-06-02T14:38:11.046024Z",
     "iopub.status.idle": "2024-06-02T14:38:11.079513Z",
     "shell.execute_reply": "2024-06-02T14:38:11.078012Z"
    },
    "papermill": {
     "duration": 0.077442,
     "end_time": "2024-06-02T14:38:11.082821",
     "exception": false,
     "start_time": "2024-06-02T14:38:11.005379",
     "status": "completed"
    },
    "tags": []
   },
   "outputs": [
    {
     "data": {
      "text/plain": [
       "time          4.146380\n",
       "trt           5.685414\n",
       "age           5.749563\n",
       "wtkg          7.097579\n",
       "hemo         -2.875861\n",
       "homo         20.507894\n",
       "drugs        -3.367042\n",
       "karnof        0.841962\n",
       "oprior        0.766320\n",
       "z30          -1.681352\n",
       "preanti       0.164133\n",
       "race        -14.030872\n",
       "gender      100.000000\n",
       "str2         -0.673710\n",
       "strat         0.768461\n",
       "symptom       0.722118\n",
       "treat         5.650087\n",
       "offtrt       -8.396814\n",
       "cd40          2.395995\n",
       "cd420         1.205226\n",
       "cd80          1.975016\n",
       "cd820         1.111495\n",
       "infected     -2.121825\n",
       "Name: gender, dtype: float64"
      ]
     },
     "execution_count": 36,
     "metadata": {},
     "output_type": "execute_result"
    }
   ],
   "source": [
    "df.corr()['gender']*100"
   ]
  },
  {
   "cell_type": "code",
   "execution_count": 37,
   "id": "a27618b9",
   "metadata": {
    "execution": {
     "iopub.execute_input": "2024-06-02T14:38:11.161812Z",
     "iopub.status.busy": "2024-06-02T14:38:11.161416Z",
     "iopub.status.idle": "2024-06-02T14:38:11.224975Z",
     "shell.execute_reply": "2024-06-02T14:38:11.223887Z"
    },
    "papermill": {
     "duration": 0.105611,
     "end_time": "2024-06-02T14:38:11.227733",
     "exception": false,
     "start_time": "2024-06-02T14:38:11.122122",
     "status": "completed"
    },
    "tags": []
   },
   "outputs": [
    {
     "data": {
      "image/svg+xml": [
       "<svg class=\"main-svg\" xmlns=\"http://www.w3.org/2000/svg\" xmlns:xlink=\"http://www.w3.org/1999/xlink\" width=\"1000\" height=\"500\" style=\"\" viewBox=\"0 0 1000 500\"><rect x=\"0\" y=\"0\" width=\"1000\" height=\"500\" style=\"fill: rgb(255, 255, 255); fill-opacity: 1;\"/><defs id=\"defs-42d91f\"><g class=\"clips\"/><g class=\"gradients\"/><g class=\"patterns\"/></defs><g class=\"bglayer\"/><g class=\"layer-below\"><g class=\"imagelayer\"/><g class=\"shapelayer\"/></g><g class=\"cartesianlayer\"/><g class=\"polarlayer\"/><g class=\"smithlayer\"/><g class=\"ternarylayer\"/><g class=\"geolayer\"/><g class=\"funnelarealayer\"/><g class=\"pielayer\"><g class=\"trace\" stroke-linejoin=\"round\" style=\"opacity: 1;\"><g class=\"slice\"><path class=\"surface\" d=\"M500,265l0,-185a185,185 0 1 1 -147.02943806680318,72.71756886422484Z\" style=\"pointer-events: none; fill: rgb(64, 0, 75); fill-opacity: 1; stroke-width: 1; stroke: rgb(0, 0, 0); stroke-opacity: 1;\"/><g class=\"slicetext\"><text data-notex=\"1\" class=\"slicetext\" transform=\"translate(541.0072405799903,343.81198416165716)\" text-anchor=\"middle\" x=\"0\" y=\"0\" style=\"font-family: 'Open Sans', verdana, arial, sans-serif; font-size: 14px; fill: rgb(255, 255, 255); fill-opacity: 1; white-space: pre;\"><tspan class=\"line\" dy=\"0em\" x=\"0\" y=\"0\">1</tspan><tspan class=\"line\" dy=\"1.3em\" x=\"0\" y=\"0\">85.4%</tspan></text></g></g><g class=\"slice\"><path class=\"surface\" d=\"M500,265l-147.02943806680312,-112.2824311357752a185,185 0 0 1 147.02943806680312,-72.7175688642248Z\" style=\"pointer-events: none; fill: rgb(118, 42, 131); fill-opacity: 1; stroke-width: 1; stroke: rgb(0, 0, 0); stroke-opacity: 1;\"/><g class=\"slicetext\"><text data-notex=\"1\" class=\"slicetext\" transform=\"translate(443.17656874382874,146.00574654353997)\" text-anchor=\"middle\" x=\"0\" y=\"0\" style=\"font-family: 'Open Sans', verdana, arial, sans-serif; font-size: 14px; fill: rgb(255, 255, 255); fill-opacity: 1; white-space: pre;\"><tspan class=\"line\" dy=\"0em\" x=\"0\" y=\"0\">0</tspan><tspan class=\"line\" dy=\"1.3em\" x=\"0\" y=\"0\">14.6%</tspan></text></g></g></g></g><g class=\"iciclelayer\"/><g class=\"treemaplayer\"/><g class=\"sunburstlayer\"/><g class=\"glimages\"/><defs id=\"topdefs-42d91f\"><g class=\"clips\"/><clipPath id=\"legend42d91f\"><rect width=\"150.6\" height=\"74.6\" x=\"0.7\" y=\"0.7\"/></clipPath></defs><g class=\"layer-above\"><g class=\"imagelayer\"/><g class=\"shapelayer\"/></g><g class=\"infolayer\"><g class=\"legend\" pointer-events=\"all\" transform=\"translate(770,227)\"><rect class=\"bg\" shape-rendering=\"crispEdges\" style=\"stroke: rgb(0, 0, 0); stroke-opacity: 1; fill: rgb(255, 255, 255); fill-opacity: 1; stroke-width: 0.7px;\" width=\"151.3\" height=\"75.3\" x=\"0.35\" y=\"0.35\"/><g class=\"scrollbox\" transform=\"\" clip-path=\"url(#legend42d91f)\"><text class=\"legendtitletext\" text-anchor=\"start\" x=\"2.7\" y=\"22.8\" style=\"font-family: 'Times New Roman'; font-size: 17px; fill: rgb(0, 0, 0); fill-opacity: 1; white-space: pre;\">gender (female/male)</text><g class=\"groups\"><g class=\"traces\" transform=\"translate(0.7,38.4)\" style=\"opacity: 1;\"><text class=\"legendtext\" text-anchor=\"start\" x=\"40\" y=\"5.46\" style=\"font-family: 'Times New Roman'; font-size: 14px; fill: rgb(0, 0, 0); fill-opacity: 1; white-space: pre;\">1</text><g class=\"layers\" style=\"opacity: 1;\"><g class=\"legendfill\"/><g class=\"legendlines\"/><g class=\"legendsymbols\"><g class=\"legendpoints\"><path class=\"legendpie\" d=\"M6,6H-6V-6H6Z\" transform=\"translate(20,0)\" style=\"fill: rgb(64, 0, 75); fill-opacity: 1; stroke-width: 1; stroke: rgb(0, 0, 0); stroke-opacity: 1;\"/></g></g></g><rect class=\"legendtoggle\" x=\"0\" y=\"-10.6\" width=\"47\" height=\"21.2\" style=\"fill: rgb(0, 0, 0); fill-opacity: 0;\"/></g><g class=\"traces\" transform=\"translate(0.7,59.6)\" style=\"opacity: 1;\"><text class=\"legendtext\" text-anchor=\"start\" x=\"40\" y=\"5.46\" style=\"font-family: 'Times New Roman'; font-size: 14px; fill: rgb(0, 0, 0); fill-opacity: 1; white-space: pre;\">0</text><g class=\"layers\" style=\"opacity: 1;\"><g class=\"legendfill\"/><g class=\"legendlines\"/><g class=\"legendsymbols\"><g class=\"legendpoints\"><path class=\"legendpie\" d=\"M6,6H-6V-6H6Z\" transform=\"translate(20,0)\" style=\"fill: rgb(118, 42, 131); fill-opacity: 1; stroke-width: 1; stroke: rgb(0, 0, 0); stroke-opacity: 1;\"/></g></g></g><rect class=\"legendtoggle\" x=\"0\" y=\"-10.6\" width=\"47\" height=\"21.2\" style=\"fill: rgb(0, 0, 0); fill-opacity: 0;\"/></g></g></g><rect class=\"scrollbar\" rx=\"20\" ry=\"3\" width=\"0\" height=\"0\" x=\"0\" y=\"0\" style=\"fill: rgb(128, 139, 164); fill-opacity: 1;\"/></g><g class=\"g-gtitle\"><text class=\"gtitle\" x=\"210\" y=\"25\" text-anchor=\"middle\" dy=\"0.7em\" style=\"font-family: 'Times New Roman'; font-size: 26px; fill: rgb(0, 0, 0); opacity: 1; font-weight: normal; white-space: pre;\">Distribution of gender</text></g><g class=\"annotation\" data-index=\"0\" style=\"opacity: 1;\"><g class=\"annotation-text-g\" transform=\"rotate(0,500,477.00000000000006)\"><g class=\"cursor-pointer\" transform=\"translate(405,467)\"><rect class=\"bg\" x=\"0.5\" y=\"0.5\" width=\"189\" height=\"19\" style=\"stroke-width: 1px; stroke: rgb(0, 0, 0); stroke-opacity: 0; fill: rgb(0, 0, 0); fill-opacity: 0;\"/><text class=\"annotation-text\" text-anchor=\"middle\" x=\"94.984375\" y=\"15\" style=\"font-family: 'Open Sans', verdana, arial, sans-serif; font-size: 14px; fill: rgb(0, 0, 0); fill-opacity: 1; white-space: pre;\">Majority of patients were male</text></g></g></g></g></svg>"
      ]
     },
     "metadata": {},
     "output_type": "display_data"
    }
   ],
   "source": [
    "\n",
    "palette = cl.scales['11']['div']['PRGn']\n",
    "\n",
    "\n",
    "gen = df['gender'].value_counts().reset_index()\n",
    "gen.columns = ['gender', 'count']\n",
    "\n",
    "fig = go.Figure(data=[go.Pie(\n",
    "    labels=gen['gender'],\n",
    "    values=gen['count'],\n",
    "    marker=dict(colors=palette, line=dict(color='#000000', width=1)),\n",
    "    textinfo=\"label+percent\",\n",
    "    textfont=dict(size=14, color='#FFFFFF')\n",
    ")])\n",
    "\n",
    "\n",
    "fig.update_layout(\n",
    "    title_text=\"Distribution of gender\",\n",
    "    title_font_size=24,\n",
    "    title_font_family=\"Times New Roman\",\n",
    "    title_font_color=\"#000000\",  \n",
    "    paper_bgcolor='#ffffff',  \n",
    "    plot_bgcolor='#ffffff', \n",
    "    showlegend=True,\n",
    "    legend_title_text='gender (female/male)',\n",
    "    legend=dict(\n",
    "        x=0.8,\n",
    "        y=0.5,\n",
    "        traceorder='normal',\n",
    "        font=dict(\n",
    "            family=\"Times New Roman\",\n",
    "            size=14,\n",
    "            color=\"#000000\"\n",
    "        ),\n",
    "        bgcolor=\"#ffffff\",  \n",
    "        bordercolor=\"#000000\", \n",
    "        borderwidth=0.7,\n",
    "        orientation=\"v\" \n",
    "    )\n",
    ")\n",
    "\n",
    "fig.update_layout(width=1000)\n",
    "\n",
    "fig.update_layout(\n",
    "    title={\n",
    "        'text': \"Distribution of gender\",\n",
    "        'y':0.95,\n",
    "        'x':0.21,\n",
    "        'xanchor': 'center',\n",
    "        'yanchor': 'top'},\n",
    "    title_font_size=26,\n",
    "    margin=dict(l=50, r=50, t=80, b=50)\n",
    ")\n",
    "\n",
    "fig.add_annotation(\n",
    "    text=\"Majority of patients were male\",\n",
    "    x=0.5,\n",
    "    y=-0.10,\n",
    "    showarrow=False,\n",
    "    font=dict(color=\"#000000\", size=14) \n",
    ")\n",
    "\n",
    "# Show the pie chart\n",
    "fig.show('svg')\n"
   ]
  },
  {
   "cell_type": "markdown",
   "id": "a1c36d66",
   "metadata": {
    "papermill": {
     "duration": 0.037749,
     "end_time": "2024-06-02T14:38:11.303788",
     "exception": false,
     "start_time": "2024-06-02T14:38:11.266039",
     "status": "completed"
    },
    "tags": []
   },
   "source": [
    "----------------------------------------------------------------------------------------------------------------------------------------------------------\n"
   ]
  },
  {
   "cell_type": "markdown",
   "id": "d1d6a35d",
   "metadata": {
    "papermill": {
     "duration": 0.044662,
     "end_time": "2024-06-02T14:38:11.388007",
     "exception": false,
     "start_time": "2024-06-02T14:38:11.343345",
     "status": "completed"
    },
    "tags": []
   },
   "source": [
    "## str2: antiretroviral history (0=naive, 1=experienced)\n",
    "\n",
    "***About***\n",
    "<div>\n",
    "    <p>\n",
    "        The variable str2 represents the antiretroviral history of individuals, specifically whether they are \"naive\" or \"experienced\" with antiretroviral therapy (ART).\n",
    "    </p>\n",
    "    <ul>\n",
    "        <li>Naive (0):\n",
    "            <ul>\n",
    "                <li>Individuals categorized as \"naive\" have not previously received antiretroviral therapy. They are newly diagnosed or have not yet started treatment for HIV/AIDS. This group typically includes individuals who have recently tested positive for HIV or have delayed initiating treatment for various reasons.</li>\n",
    "            </ul>\n",
    "        </li>\n",
    "        <li>Experienced (1):\n",
    "            <ul>\n",
    "                <li>Individuals categorized as \"experienced\" have a history of receiving antiretroviral therapy. They have previously been treated for HIV/AIDS with antiretroviral medications. This group may include individuals who have undergone treatment for a certain duration, stopped treatment, and then resumed therapy, as well as those who have been consistently on ART for an extended period.</li>\n",
    "            </ul>\n",
    "        </li>\n",
    "     \n",
    "   </ul>\n",
    "</div>\n",
    "\n",
    "\n",
    "***Conclusions***\n",
    "\n",
    "- *Majority of patients were experienced and were previously treated with ART medication*"
   ]
  },
  {
   "cell_type": "code",
   "execution_count": 38,
   "id": "375b4fd9",
   "metadata": {
    "execution": {
     "iopub.execute_input": "2024-06-02T14:38:11.469587Z",
     "iopub.status.busy": "2024-06-02T14:38:11.469137Z",
     "iopub.status.idle": "2024-06-02T14:38:11.477553Z",
     "shell.execute_reply": "2024-06-02T14:38:11.476391Z"
    },
    "papermill": {
     "duration": 0.050094,
     "end_time": "2024-06-02T14:38:11.479608",
     "exception": false,
     "start_time": "2024-06-02T14:38:11.429514",
     "status": "completed"
    },
    "tags": []
   },
   "outputs": [
    {
     "data": {
      "text/plain": [
       "str2\n",
       "1    8655\n",
       "0    6345\n",
       "Name: count, dtype: int64"
      ]
     },
     "execution_count": 38,
     "metadata": {},
     "output_type": "execute_result"
    }
   ],
   "source": [
    "df['str2'].value_counts()"
   ]
  },
  {
   "cell_type": "code",
   "execution_count": 39,
   "id": "a3bb958f",
   "metadata": {
    "execution": {
     "iopub.execute_input": "2024-06-02T14:38:11.559413Z",
     "iopub.status.busy": "2024-06-02T14:38:11.558936Z",
     "iopub.status.idle": "2024-06-02T14:38:11.592410Z",
     "shell.execute_reply": "2024-06-02T14:38:11.590718Z"
    },
    "papermill": {
     "duration": 0.076252,
     "end_time": "2024-06-02T14:38:11.594955",
     "exception": false,
     "start_time": "2024-06-02T14:38:11.518703",
     "status": "completed"
    },
    "tags": []
   },
   "outputs": [
    {
     "data": {
      "text/plain": [
       "time         -7.573001\n",
       "trt           1.465054\n",
       "age          12.960868\n",
       "wtkg         -9.006936\n",
       "hemo          6.290188\n",
       "homo          3.021203\n",
       "drugs        -3.139231\n",
       "karnof      -13.153909\n",
       "oprior        6.294665\n",
       "z30          60.919072\n",
       "preanti      45.505698\n",
       "race        -12.520895\n",
       "gender       -0.673710\n",
       "str2        100.000000\n",
       "strat        61.222869\n",
       "symptom       3.570729\n",
       "treat         3.934434\n",
       "offtrt       -0.732320\n",
       "cd40        -23.915651\n",
       "cd420       -31.087622\n",
       "cd80         -2.578902\n",
       "cd820         0.989379\n",
       "infected     23.336492\n",
       "Name: str2, dtype: float64"
      ]
     },
     "execution_count": 39,
     "metadata": {},
     "output_type": "execute_result"
    }
   ],
   "source": [
    "df.corr()['str2']*100"
   ]
  },
  {
   "cell_type": "markdown",
   "id": "1eadd4b6",
   "metadata": {
    "papermill": {
     "duration": 0.038683,
     "end_time": "2024-06-02T14:38:11.673369",
     "exception": false,
     "start_time": "2024-06-02T14:38:11.634686",
     "status": "completed"
    },
    "tags": []
   },
   "source": [
    "*Moderately correlated with z30 and strat* "
   ]
  },
  {
   "cell_type": "code",
   "execution_count": 40,
   "id": "9ecc683f",
   "metadata": {
    "execution": {
     "iopub.execute_input": "2024-06-02T14:38:11.754164Z",
     "iopub.status.busy": "2024-06-02T14:38:11.753682Z",
     "iopub.status.idle": "2024-06-02T14:38:11.817467Z",
     "shell.execute_reply": "2024-06-02T14:38:11.816204Z"
    },
    "papermill": {
     "duration": 0.107423,
     "end_time": "2024-06-02T14:38:11.820852",
     "exception": false,
     "start_time": "2024-06-02T14:38:11.713429",
     "status": "completed"
    },
    "tags": []
   },
   "outputs": [
    {
     "data": {
      "image/svg+xml": [
       "<svg class=\"main-svg\" xmlns=\"http://www.w3.org/2000/svg\" xmlns:xlink=\"http://www.w3.org/1999/xlink\" width=\"1000\" height=\"500\" style=\"\" viewBox=\"0 0 1000 500\"><rect x=\"0\" y=\"0\" width=\"1000\" height=\"500\" style=\"fill: rgb(255, 255, 255); fill-opacity: 1;\"/><defs id=\"defs-642457\"><g class=\"clips\"/><g class=\"gradients\"/><g class=\"patterns\"/></defs><g class=\"bglayer\"/><g class=\"layer-below\"><g class=\"imagelayer\"/><g class=\"shapelayer\"/></g><g class=\"cartesianlayer\"/><g class=\"polarlayer\"/><g class=\"smithlayer\"/><g class=\"ternarylayer\"/><g class=\"geolayer\"/><g class=\"funnelarealayer\"/><g class=\"pielayer\"><g class=\"trace\" stroke-linejoin=\"round\" style=\"opacity: 1;\"><g class=\"slice\"><path class=\"surface\" d=\"M500,265l0,-185a185,185 0 1 1 -86.05294944432971,348.76779259650425Z\" style=\"pointer-events: none; fill: rgb(213, 62, 79); fill-opacity: 1; stroke-width: 1; stroke: rgb(0, 0, 0); stroke-opacity: 1;\"/><g class=\"slicetext\"><text data-notex=\"1\" class=\"slicetext\" transform=\"translate(589.8067659132327,283.05683988387773)\" text-anchor=\"middle\" x=\"0\" y=\"0\" style=\"font-family: 'Open Sans', verdana, arial, sans-serif; font-size: 14px; fill: rgb(255, 255, 255); fill-opacity: 1; white-space: pre;\"><tspan class=\"line\" dy=\"0em\" x=\"0\" y=\"0\">1</tspan><tspan class=\"line\" dy=\"1.3em\" x=\"0\" y=\"0\">57.7%</tspan></text></g></g><g class=\"slice\"><path class=\"surface\" d=\"M500,265l-86.05294944432983,163.7677925965042a185,185 0 0 1 86.05294944432983,-348.7677925965042Z\" style=\"pointer-events: none; fill: rgb(244, 109, 67); fill-opacity: 1; stroke-width: 1; stroke: rgb(0, 0, 0); stroke-opacity: 1;\"/><g class=\"slicetext\"><text data-notex=\"1\" class=\"slicetext\" transform=\"translate(408.86651073687824,238.41268706455855)\" text-anchor=\"middle\" x=\"0\" y=\"0\" style=\"font-family: 'Open Sans', verdana, arial, sans-serif; font-size: 14px; fill: rgb(255, 255, 255); fill-opacity: 1; white-space: pre;\"><tspan class=\"line\" dy=\"0em\" x=\"0\" y=\"0\">0</tspan><tspan class=\"line\" dy=\"1.3em\" x=\"0\" y=\"0\">42.3%</tspan></text></g></g></g></g><g class=\"iciclelayer\"/><g class=\"treemaplayer\"/><g class=\"sunburstlayer\"/><g class=\"glimages\"/><defs id=\"topdefs-642457\"><g class=\"clips\"/><clipPath id=\"legend642457\"><rect width=\"169.6\" height=\"74.6\" x=\"0.7\" y=\"0.7\"/></clipPath></defs><g class=\"layer-above\"><g class=\"imagelayer\"/><g class=\"shapelayer\"/></g><g class=\"infolayer\"><g class=\"legend\" pointer-events=\"all\" transform=\"translate(770,227)\"><rect class=\"bg\" shape-rendering=\"crispEdges\" style=\"stroke: rgb(0, 0, 0); stroke-opacity: 1; fill: rgb(255, 255, 255); fill-opacity: 1; stroke-width: 0.7px;\" width=\"170.3\" height=\"75.3\" x=\"0.35\" y=\"0.35\"/><g class=\"scrollbox\" transform=\"\" clip-path=\"url(#legend642457)\"><text class=\"legendtitletext\" text-anchor=\"start\" x=\"2.7\" y=\"22.8\" style=\"font-family: 'Times New Roman'; font-size: 17px; fill: rgb(0, 0, 0); fill-opacity: 1; white-space: pre;\">str2 (naive/experienced)</text><g class=\"groups\"><g class=\"traces\" transform=\"translate(0.7,38.4)\" style=\"opacity: 1;\"><text class=\"legendtext\" text-anchor=\"start\" x=\"40\" y=\"5.46\" style=\"font-family: 'Times New Roman'; font-size: 14px; fill: rgb(0, 0, 0); fill-opacity: 1; white-space: pre;\">1</text><g class=\"layers\" style=\"opacity: 1;\"><g class=\"legendfill\"/><g class=\"legendlines\"/><g class=\"legendsymbols\"><g class=\"legendpoints\"><path class=\"legendpie\" d=\"M6,6H-6V-6H6Z\" transform=\"translate(20,0)\" style=\"fill: rgb(213, 62, 79); fill-opacity: 1; stroke-width: 1; stroke: rgb(0, 0, 0); stroke-opacity: 1;\"/></g></g></g><rect class=\"legendtoggle\" x=\"0\" y=\"-10.6\" width=\"47\" height=\"21.2\" style=\"fill: rgb(0, 0, 0); fill-opacity: 0;\"/></g><g class=\"traces\" transform=\"translate(0.7,59.6)\" style=\"opacity: 1;\"><text class=\"legendtext\" text-anchor=\"start\" x=\"40\" y=\"5.46\" style=\"font-family: 'Times New Roman'; font-size: 14px; fill: rgb(0, 0, 0); fill-opacity: 1; white-space: pre;\">0</text><g class=\"layers\" style=\"opacity: 1;\"><g class=\"legendfill\"/><g class=\"legendlines\"/><g class=\"legendsymbols\"><g class=\"legendpoints\"><path class=\"legendpie\" d=\"M6,6H-6V-6H6Z\" transform=\"translate(20,0)\" style=\"fill: rgb(244, 109, 67); fill-opacity: 1; stroke-width: 1; stroke: rgb(0, 0, 0); stroke-opacity: 1;\"/></g></g></g><rect class=\"legendtoggle\" x=\"0\" y=\"-10.6\" width=\"47\" height=\"21.2\" style=\"fill: rgb(0, 0, 0); fill-opacity: 0;\"/></g></g></g><rect class=\"scrollbar\" rx=\"20\" ry=\"3\" width=\"0\" height=\"0\" x=\"0\" y=\"0\" style=\"fill: rgb(128, 139, 164); fill-opacity: 1;\"/></g><g class=\"g-gtitle\"><text class=\"gtitle\" x=\"210\" y=\"25\" text-anchor=\"middle\" dy=\"0.7em\" style=\"font-family: 'Times New Roman'; font-size: 26px; fill: rgb(0, 0, 0); opacity: 1; font-weight: normal; white-space: pre;\">Distribution of ART history</text></g><g class=\"annotation\" data-index=\"0\" style=\"opacity: 1;\"><g class=\"annotation-text-g\" transform=\"rotate(0,500,477.00000000000006)\"><g class=\"cursor-pointer\" transform=\"translate(382,467)\"><rect class=\"bg\" x=\"0.5\" y=\"0.5\" width=\"235\" height=\"19\" style=\"stroke-width: 1px; stroke: rgb(0, 0, 0); stroke-opacity: 0; fill: rgb(0, 0, 0); fill-opacity: 0;\"/><text class=\"annotation-text\" text-anchor=\"middle\" x=\"117.953125\" y=\"15\" style=\"font-family: 'Open Sans', verdana, arial, sans-serif; font-size: 14px; fill: rgb(0, 0, 0); fill-opacity: 1; white-space: pre;\">Majority of patients were experienced</text></g></g></g></g></svg>"
      ]
     },
     "metadata": {},
     "output_type": "display_data"
    }
   ],
   "source": [
    "\n",
    "palette = cl.scales['9']['div']['Spectral']\n",
    "\n",
    "\n",
    "str2 = df['str2'].value_counts().reset_index()\n",
    "str2.columns = ['str2', 'count']\n",
    "\n",
    "fig = go.Figure(data=[go.Pie(\n",
    "    labels=str2['str2'],\n",
    "    values=str2['count'],\n",
    "    marker=dict(colors=palette, line=dict(color='#000000', width=1)),\n",
    "    textinfo=\"label+percent\",\n",
    "    textfont=dict(size=14, color='#FFFFFF')\n",
    ")])\n",
    "\n",
    "\n",
    "fig.update_layout(\n",
    "    title_text=\"Distribution of ART history\",\n",
    "    title_font_size=24,\n",
    "    title_font_family=\"Times New Roman\",\n",
    "    title_font_color=\"#000000\",  \n",
    "    paper_bgcolor='#ffffff',  \n",
    "    plot_bgcolor='#ffffff', \n",
    "    showlegend=True,\n",
    "    legend_title_text='str2 (naive/experienced)',\n",
    "    legend=dict(\n",
    "        x=0.8,\n",
    "        y=0.5,\n",
    "        traceorder='normal',\n",
    "        font=dict(\n",
    "            family=\"Times New Roman\",\n",
    "            size=14,\n",
    "            color=\"#000000\"\n",
    "        ),\n",
    "        bgcolor=\"#ffffff\",  \n",
    "        bordercolor=\"#000000\", \n",
    "        borderwidth=0.7,\n",
    "        orientation=\"v\" \n",
    "    )\n",
    ")\n",
    "\n",
    "fig.update_layout(width=1000)\n",
    "\n",
    "fig.update_layout(\n",
    "    title={\n",
    "        'text': \"Distribution of ART history\",\n",
    "        'y':0.95,\n",
    "        'x':0.21,\n",
    "        'xanchor': 'center',\n",
    "        'yanchor': 'top'},\n",
    "    title_font_size=26,\n",
    "    margin=dict(l=50, r=50, t=80, b=50)\n",
    ")\n",
    "\n",
    "fig.add_annotation(\n",
    "    text=\"Majority of patients were experienced\",\n",
    "    x=0.5,\n",
    "    y=-0.10,\n",
    "    showarrow=False,\n",
    "    font=dict(color=\"#000000\", size=14) \n",
    ")\n",
    "\n",
    "# Show the pie chart\n",
    "fig.show('svg')\n"
   ]
  },
  {
   "cell_type": "markdown",
   "id": "330e7200",
   "metadata": {
    "papermill": {
     "duration": 0.040199,
     "end_time": "2024-06-02T14:38:11.902581",
     "exception": false,
     "start_time": "2024-06-02T14:38:11.862382",
     "status": "completed"
    },
    "tags": []
   },
   "source": [
    "----------------------------------------------------------------------------------------------------------------------------------------------------------\n"
   ]
  },
  {
   "cell_type": "markdown",
   "id": "2d23cd48",
   "metadata": {
    "papermill": {
     "duration": 0.038327,
     "end_time": "2024-06-02T14:38:11.981981",
     "exception": false,
     "start_time": "2024-06-02T14:38:11.943654",
     "status": "completed"
    },
    "tags": []
   },
   "source": [
    "## symptom: symptomatic indicator (0=asymp, 1=symp)\n",
    "\n",
    "<div>\n",
    "     <ul>\n",
    "        <li>Asymptomatic (0):\n",
    "            <ul>\n",
    "                <li>Individuals categorized as \"asymp\" (asymptomatic) have no noticeable symptoms associated with HIV/AIDS at the time of assessment. They may be carriers of the virus but have not yet developed symptoms or clinical manifestations of the disease. Asymptomatic individuals may still be infectious and capable of transmitting the virus to others.</li>\n",
    "            </ul>\n",
    "        </li>\n",
    "        <li>Symptomatic (1):\n",
    "            <ul>\n",
    "                <li>Individuals categorized as \"symp\" (symptomatic) exhibit symptoms or clinical manifestations of HIV/AIDS at the time of assessment. These symptoms may include but are not limited to fever, fatigue, weight loss, night sweats, swollen lymph nodes, opportunistic infections, and other AIDS-defining illnesses. Symptomatic individuals typically require medical evaluation, treatment, and management of HIV/AIDS-related complications.</li>\n",
    "            </ul>\n",
    "        </li>\n",
    "     \n",
    "   </ul>\n",
    "    </div>\n",
    "    \n",
    "***Conclusion***\n",
    "\n",
    "- *Most of the patients had no signs of any symptom*\n",
    "    "
   ]
  },
  {
   "cell_type": "code",
   "execution_count": 41,
   "id": "7f65ba83",
   "metadata": {
    "execution": {
     "iopub.execute_input": "2024-06-02T14:38:12.061494Z",
     "iopub.status.busy": "2024-06-02T14:38:12.061090Z",
     "iopub.status.idle": "2024-06-02T14:38:12.070150Z",
     "shell.execute_reply": "2024-06-02T14:38:12.069152Z"
    },
    "papermill": {
     "duration": 0.051845,
     "end_time": "2024-06-02T14:38:12.072409",
     "exception": false,
     "start_time": "2024-06-02T14:38:12.020564",
     "status": "completed"
    },
    "tags": []
   },
   "outputs": [
    {
     "data": {
      "text/plain": [
       "symptom\n",
       "0    13681\n",
       "1     1319\n",
       "Name: count, dtype: int64"
      ]
     },
     "execution_count": 41,
     "metadata": {},
     "output_type": "execute_result"
    }
   ],
   "source": [
    "df['symptom'].value_counts()"
   ]
  },
  {
   "cell_type": "code",
   "execution_count": 42,
   "id": "15cb768b",
   "metadata": {
    "execution": {
     "iopub.execute_input": "2024-06-02T14:38:12.151697Z",
     "iopub.status.busy": "2024-06-02T14:38:12.151327Z",
     "iopub.status.idle": "2024-06-02T14:38:12.215841Z",
     "shell.execute_reply": "2024-06-02T14:38:12.214671Z"
    },
    "papermill": {
     "duration": 0.107747,
     "end_time": "2024-06-02T14:38:12.218670",
     "exception": false,
     "start_time": "2024-06-02T14:38:12.110923",
     "status": "completed"
    },
    "tags": []
   },
   "outputs": [
    {
     "data": {
      "image/svg+xml": [
       "<svg class=\"main-svg\" xmlns=\"http://www.w3.org/2000/svg\" xmlns:xlink=\"http://www.w3.org/1999/xlink\" width=\"1000\" height=\"500\" style=\"\" viewBox=\"0 0 1000 500\"><rect x=\"0\" y=\"0\" width=\"1000\" height=\"500\" style=\"fill: rgb(255, 255, 255); fill-opacity: 1;\"/><defs id=\"defs-30be60\"><g class=\"clips\"/><g class=\"gradients\"/><g class=\"patterns\"/></defs><g class=\"bglayer\"/><g class=\"layer-below\"><g class=\"imagelayer\"/><g class=\"shapelayer\"/></g><g class=\"cartesianlayer\"/><g class=\"polarlayer\"/><g class=\"smithlayer\"/><g class=\"ternarylayer\"/><g class=\"geolayer\"/><g class=\"funnelarealayer\"/><g class=\"pielayer\"><g class=\"trace\" stroke-linejoin=\"round\" style=\"opacity: 1;\"><g class=\"slice\"><path class=\"surface\" d=\"M500,265l0,-185a185,185 0 1 1 -97.09135223020682,27.525337523429158Z\" style=\"pointer-events: none; fill: rgb(247, 252, 240); fill-opacity: 1; stroke-width: 1; stroke: rgb(0, 0, 0); stroke-opacity: 1;\"/><g class=\"slicetext\"><text data-notex=\"1\" class=\"slicetext\" transform=\"translate(525.2294159708325,349.8912831100304)\" text-anchor=\"middle\" x=\"0\" y=\"0\" style=\"font-family: 'Open Sans', verdana, arial, sans-serif; font-size: 14px; fill: rgb(0, 0, 0); fill-opacity: 1; white-space: pre;\"><tspan class=\"line\" dy=\"0em\" x=\"0\" y=\"0\">0</tspan><tspan class=\"line\" dy=\"1.3em\" x=\"0\" y=\"0\">91.2%</tspan></text></g></g><g class=\"slice\"><path class=\"surface\" d=\"M500,265l-97.09135223020672,-157.47466247657093a185,185 0 0 1 97.09135223020672,-27.525337523429073Z\" style=\"pointer-events: none; fill: rgb(224, 243, 219); fill-opacity: 1; stroke-width: 1; stroke: rgb(0, 0, 0); stroke-opacity: 1;\"/><g class=\"slicetext\"><text data-notex=\"1\" class=\"slicetext\" transform=\"translate(460.35449665561606,121.05508312597931)\" text-anchor=\"middle\" x=\"0\" y=\"0\" style=\"font-family: 'Open Sans', verdana, arial, sans-serif; font-size: 14px; fill: rgb(0, 0, 0); fill-opacity: 1; white-space: pre;\"><tspan class=\"line\" dy=\"0em\" x=\"0\" y=\"0\">1</tspan><tspan class=\"line\" dy=\"1.3em\" x=\"0\" y=\"0\">8.79%</tspan></text></g></g></g></g><g class=\"iciclelayer\"/><g class=\"treemaplayer\"/><g class=\"sunburstlayer\"/><g class=\"glimages\"/><defs id=\"topdefs-30be60\"><g class=\"clips\"/><clipPath id=\"legend30be60\"><rect width=\"67.6\" height=\"74.6\" x=\"0.7\" y=\"0.7\"/></clipPath></defs><g class=\"layer-above\"><g class=\"imagelayer\"/><g class=\"shapelayer\"/></g><g class=\"infolayer\"><g class=\"legend\" pointer-events=\"all\" transform=\"translate(770,227)\"><rect class=\"bg\" shape-rendering=\"crispEdges\" style=\"stroke: rgb(0, 0, 0); stroke-opacity: 1; fill: rgb(255, 255, 255); fill-opacity: 1; stroke-width: 0.7px;\" width=\"68.3\" height=\"75.3\" x=\"0.35\" y=\"0.35\"/><g class=\"scrollbox\" transform=\"\" clip-path=\"url(#legend30be60)\"><text class=\"legendtitletext\" text-anchor=\"start\" x=\"2.7\" y=\"22.8\" style=\"font-family: 'Times New Roman'; font-size: 17px; fill: rgb(0, 0, 0); fill-opacity: 1; white-space: pre;\">symptom</text><g class=\"groups\"><g class=\"traces\" transform=\"translate(0.7,38.4)\" style=\"opacity: 1;\"><text class=\"legendtext\" text-anchor=\"start\" x=\"40\" y=\"5.46\" style=\"font-family: 'Times New Roman'; font-size: 14px; fill: rgb(0, 0, 0); fill-opacity: 1; white-space: pre;\">0</text><g class=\"layers\" style=\"opacity: 1;\"><g class=\"legendfill\"/><g class=\"legendlines\"/><g class=\"legendsymbols\"><g class=\"legendpoints\"><path class=\"legendpie\" d=\"M6,6H-6V-6H6Z\" transform=\"translate(20,0)\" style=\"fill: rgb(247, 252, 240); fill-opacity: 1; stroke-width: 1; stroke: rgb(0, 0, 0); stroke-opacity: 1;\"/></g></g></g><rect class=\"legendtoggle\" x=\"0\" y=\"-10.6\" width=\"47\" height=\"21.2\" style=\"fill: rgb(0, 0, 0); fill-opacity: 0;\"/></g><g class=\"traces\" transform=\"translate(0.7,59.6)\" style=\"opacity: 1;\"><text class=\"legendtext\" text-anchor=\"start\" x=\"40\" y=\"5.46\" style=\"font-family: 'Times New Roman'; font-size: 14px; fill: rgb(0, 0, 0); fill-opacity: 1; white-space: pre;\">1</text><g class=\"layers\" style=\"opacity: 1;\"><g class=\"legendfill\"/><g class=\"legendlines\"/><g class=\"legendsymbols\"><g class=\"legendpoints\"><path class=\"legendpie\" d=\"M6,6H-6V-6H6Z\" transform=\"translate(20,0)\" style=\"fill: rgb(224, 243, 219); fill-opacity: 1; stroke-width: 1; stroke: rgb(0, 0, 0); stroke-opacity: 1;\"/></g></g></g><rect class=\"legendtoggle\" x=\"0\" y=\"-10.6\" width=\"47\" height=\"21.2\" style=\"fill: rgb(0, 0, 0); fill-opacity: 0;\"/></g></g></g><rect class=\"scrollbar\" rx=\"20\" ry=\"3\" width=\"0\" height=\"0\" x=\"0\" y=\"0\" style=\"fill: rgb(128, 139, 164); fill-opacity: 1;\"/></g><g class=\"g-gtitle\"><text class=\"gtitle\" x=\"210\" y=\"25\" text-anchor=\"middle\" dy=\"0.7em\" style=\"font-family: 'Times New Roman'; font-size: 26px; fill: rgb(0, 0, 0); opacity: 1; font-weight: normal; white-space: pre;\">Distribution of symptom</text></g><g class=\"annotation\" data-index=\"0\" style=\"opacity: 1;\"><g class=\"annotation-text-g\" transform=\"rotate(0,500,477.00000000000006)\"><g class=\"cursor-pointer\" transform=\"translate(377,467)\"><rect class=\"bg\" x=\"0.5\" y=\"0.5\" width=\"245\" height=\"19\" style=\"stroke-width: 1px; stroke: rgb(0, 0, 0); stroke-opacity: 0; fill: rgb(0, 0, 0); fill-opacity: 0;\"/><text class=\"annotation-text\" text-anchor=\"middle\" x=\"123\" y=\"15\" style=\"font-family: 'Open Sans', verdana, arial, sans-serif; font-size: 14px; fill: rgb(0, 0, 0); fill-opacity: 1; white-space: pre;\">Majority of patients were asymptomatic</text></g></g></g></g></svg>"
      ]
     },
     "metadata": {},
     "output_type": "display_data"
    }
   ],
   "source": [
    "\n",
    "palette = cl.scales['8']['seq']['GnBu']\n",
    "\n",
    "\n",
    "sym = df['symptom'].value_counts().reset_index()\n",
    "sym.columns = ['symptom', 'count']\n",
    "\n",
    "fig = go.Figure(data=[go.Pie(\n",
    "    labels=sym['symptom'],\n",
    "    values=sym['count'],\n",
    "    marker=dict(colors=palette, line=dict(color='#000000', width=1)),\n",
    "    textinfo=\"label+percent\",\n",
    "    textfont=dict(size=14, color='#000000')\n",
    ")])\n",
    "\n",
    "\n",
    "fig.update_layout(\n",
    "    title_text=\"Distribution of Symptom\",\n",
    "    title_font_size=24,\n",
    "    title_font_family=\"Times New Roman\",\n",
    "    title_font_color=\"#000000\",  \n",
    "    paper_bgcolor='#ffffff',  \n",
    "    plot_bgcolor='#ffffff', \n",
    "    showlegend=True,\n",
    "    legend_title_text='symptom',\n",
    "    legend=dict(\n",
    "        x=0.8,\n",
    "        y=0.5,\n",
    "        traceorder='normal',\n",
    "        font=dict(\n",
    "            family=\"Times New Roman\",\n",
    "            size=14,\n",
    "            color=\"#000000\"\n",
    "        ),\n",
    "        bgcolor=\"#ffffff\",  \n",
    "        bordercolor=\"#000000\", \n",
    "        borderwidth=0.7,\n",
    "        orientation=\"v\" \n",
    "    )\n",
    ")\n",
    "\n",
    "fig.update_layout(width=1000)\n",
    "\n",
    "fig.update_layout(\n",
    "    title={\n",
    "        'text': \"Distribution of symptom\",\n",
    "        'y':0.95,\n",
    "        'x':0.21,\n",
    "        'xanchor': 'center',\n",
    "        'yanchor': 'top'},\n",
    "    title_font_size=26,\n",
    "    margin=dict(l=50, r=50, t=80, b=50)\n",
    ")\n",
    "\n",
    "fig.add_annotation(\n",
    "    text=\"Majority of patients were asymptomatic\",\n",
    "    x=0.5,\n",
    "    y=-0.10,\n",
    "    showarrow=False,\n",
    "    font=dict(color=\"#000000\", size=14) \n",
    ")\n",
    "\n",
    "# Show the pie chart\n",
    "fig.show('svg')\n"
   ]
  },
  {
   "cell_type": "code",
   "execution_count": 43,
   "id": "eb18adae",
   "metadata": {
    "execution": {
     "iopub.execute_input": "2024-06-02T14:38:12.360087Z",
     "iopub.status.busy": "2024-06-02T14:38:12.359697Z",
     "iopub.status.idle": "2024-06-02T14:38:12.392621Z",
     "shell.execute_reply": "2024-06-02T14:38:12.391309Z"
    },
    "papermill": {
     "duration": 0.076666,
     "end_time": "2024-06-02T14:38:12.395658",
     "exception": false,
     "start_time": "2024-06-02T14:38:12.318992",
     "status": "completed"
    },
    "tags": []
   },
   "outputs": [
    {
     "data": {
      "text/plain": [
       "time         -2.156535\n",
       "trt          -2.005299\n",
       "age           0.059428\n",
       "wtkg         -0.288660\n",
       "hemo         -0.964097\n",
       "homo          1.782219\n",
       "drugs         0.447201\n",
       "karnof        0.382483\n",
       "oprior        2.945846\n",
       "z30           1.727802\n",
       "preanti       2.199479\n",
       "race         -0.458382\n",
       "gender        0.722118\n",
       "str2          3.570729\n",
       "strat         1.967243\n",
       "symptom     100.000000\n",
       "treat        -3.062186\n",
       "offtrt       -0.299683\n",
       "cd40         -2.154229\n",
       "cd420        -3.933053\n",
       "cd80          1.023918\n",
       "cd820         1.350573\n",
       "infected      3.301034\n",
       "Name: symptom, dtype: float64"
      ]
     },
     "execution_count": 43,
     "metadata": {},
     "output_type": "execute_result"
    }
   ],
   "source": [
    "df.corr()['symptom']*100"
   ]
  },
  {
   "cell_type": "markdown",
   "id": "166f762e",
   "metadata": {
    "papermill": {
     "duration": 0.03907,
     "end_time": "2024-06-02T14:38:12.475888",
     "exception": false,
     "start_time": "2024-06-02T14:38:12.436818",
     "status": "completed"
    },
    "tags": []
   },
   "source": [
    "----------------------------------------------------------------------------------------------------------------------------------------------------------\n"
   ]
  },
  {
   "cell_type": "markdown",
   "id": "fcfdb7e8",
   "metadata": {
    "papermill": {
     "duration": 0.03968,
     "end_time": "2024-06-02T14:38:12.556077",
     "exception": false,
     "start_time": "2024-06-02T14:38:12.516397",
     "status": "completed"
    },
    "tags": []
   },
   "source": [
    "## treat: treatment indicator (0=ZDV only, 1=others)\n",
    "\n",
    "***Conclusion***\n",
    "\n",
    "- *Patients opted for treatments other than just ZDV*"
   ]
  },
  {
   "cell_type": "code",
   "execution_count": 44,
   "id": "573e571e",
   "metadata": {
    "execution": {
     "iopub.execute_input": "2024-06-02T14:38:12.639887Z",
     "iopub.status.busy": "2024-06-02T14:38:12.639520Z",
     "iopub.status.idle": "2024-06-02T14:38:12.671747Z",
     "shell.execute_reply": "2024-06-02T14:38:12.670526Z"
    },
    "papermill": {
     "duration": 0.078617,
     "end_time": "2024-06-02T14:38:12.674144",
     "exception": false,
     "start_time": "2024-06-02T14:38:12.595527",
     "status": "completed"
    },
    "tags": []
   },
   "outputs": [
    {
     "data": {
      "text/plain": [
       "time          6.817768\n",
       "trt          23.178605\n",
       "age           4.570299\n",
       "wtkg         -0.093578\n",
       "hemo          0.217342\n",
       "homo          8.037881\n",
       "drugs        -2.601572\n",
       "karnof       -6.687859\n",
       "oprior       -1.419959\n",
       "z30           3.788999\n",
       "preanti       3.101474\n",
       "race         -9.108906\n",
       "gender        5.650087\n",
       "str2          3.934434\n",
       "strat         3.078169\n",
       "symptom      -3.062186\n",
       "treat       100.000000\n",
       "offtrt       -5.011457\n",
       "cd40         -1.921836\n",
       "cd420         2.107671\n",
       "cd80          0.811203\n",
       "cd820         3.362233\n",
       "infected     -3.644487\n",
       "Name: treat, dtype: float64"
      ]
     },
     "execution_count": 44,
     "metadata": {},
     "output_type": "execute_result"
    }
   ],
   "source": [
    "df.corr()['treat']*100"
   ]
  },
  {
   "cell_type": "code",
   "execution_count": 45,
   "id": "c892b151",
   "metadata": {
    "execution": {
     "iopub.execute_input": "2024-06-02T14:38:12.755992Z",
     "iopub.status.busy": "2024-06-02T14:38:12.755612Z",
     "iopub.status.idle": "2024-06-02T14:38:12.764507Z",
     "shell.execute_reply": "2024-06-02T14:38:12.763367Z"
    },
    "papermill": {
     "duration": 0.052355,
     "end_time": "2024-06-02T14:38:12.766745",
     "exception": false,
     "start_time": "2024-06-02T14:38:12.714390",
     "status": "completed"
    },
    "tags": []
   },
   "outputs": [
    {
     "data": {
      "text/plain": [
       "treat\n",
       "1    11046\n",
       "0     3954\n",
       "Name: count, dtype: int64"
      ]
     },
     "execution_count": 45,
     "metadata": {},
     "output_type": "execute_result"
    }
   ],
   "source": [
    "df['treat'].value_counts()"
   ]
  },
  {
   "cell_type": "code",
   "execution_count": 46,
   "id": "a7f9ec86",
   "metadata": {
    "execution": {
     "iopub.execute_input": "2024-06-02T14:38:12.848992Z",
     "iopub.status.busy": "2024-06-02T14:38:12.848247Z",
     "iopub.status.idle": "2024-06-02T14:38:12.908436Z",
     "shell.execute_reply": "2024-06-02T14:38:12.907308Z"
    },
    "papermill": {
     "duration": 0.10339,
     "end_time": "2024-06-02T14:38:12.910750",
     "exception": false,
     "start_time": "2024-06-02T14:38:12.807360",
     "status": "completed"
    },
    "tags": []
   },
   "outputs": [
    {
     "data": {
      "image/svg+xml": [
       "<svg class=\"main-svg\" xmlns=\"http://www.w3.org/2000/svg\" xmlns:xlink=\"http://www.w3.org/1999/xlink\" width=\"1000\" height=\"500\" style=\"\" viewBox=\"0 0 1000 500\"><rect x=\"0\" y=\"0\" width=\"1000\" height=\"500\" style=\"fill: rgb(255, 255, 255); fill-opacity: 1;\"/><defs id=\"defs-5e77b1\"><g class=\"clips\"/><g class=\"gradients\"/><g class=\"patterns\"/></defs><g class=\"bglayer\"/><g class=\"layer-below\"><g class=\"imagelayer\"/><g class=\"shapelayer\"/></g><g class=\"cartesianlayer\"/><g class=\"polarlayer\"/><g class=\"smithlayer\"/><g class=\"ternarylayer\"/><g class=\"geolayer\"/><g class=\"funnelarealayer\"/><g class=\"pielayer\"><g class=\"trace\" stroke-linejoin=\"round\" style=\"opacity: 1;\"><g class=\"slice\"><path class=\"surface\" d=\"M500,265l0,-185a185,185 0 1 1 -184.32498254297445,200.78926250754475Z\" style=\"pointer-events: none; fill: rgb(178, 223, 138); fill-opacity: 1; stroke-width: 1; stroke: rgb(0, 0, 0); stroke-opacity: 1;\"/><g class=\"slicetext\"><text data-notex=\"1\" class=\"slicetext\" transform=\"translate(568.1414095501918,323.45240063994044)\" text-anchor=\"middle\" x=\"0\" y=\"0\" style=\"font-family: 'Open Sans', verdana, arial, sans-serif; font-size: 14px; fill: rgb(0, 0, 0); fill-opacity: 1; white-space: pre;\"><tspan class=\"line\" dy=\"0em\" x=\"0\" y=\"0\">1</tspan><tspan class=\"line\" dy=\"1.3em\" x=\"0\" y=\"0\">73.6%</tspan></text></g></g><g class=\"slice\"><path class=\"surface\" d=\"M500,265l-184.32498254297448,15.789262507544668a185,185 0 0 1 184.32498254297448,-200.78926250754466Z\" style=\"pointer-events: none; fill: rgb(51, 160, 44); fill-opacity: 1; stroke-width: 1; stroke: rgb(0, 0, 0); stroke-opacity: 1;\"/><g class=\"slicetext\"><text data-notex=\"1\" class=\"slicetext\" transform=\"translate(421.52608220953925,188.8592091759158)\" text-anchor=\"middle\" x=\"0\" y=\"0\" style=\"font-family: 'Open Sans', verdana, arial, sans-serif; font-size: 14px; fill: rgb(0, 0, 0); fill-opacity: 1; white-space: pre;\"><tspan class=\"line\" dy=\"0em\" x=\"0\" y=\"0\">0</tspan><tspan class=\"line\" dy=\"1.3em\" x=\"0\" y=\"0\">26.4%</tspan></text></g></g></g></g><g class=\"iciclelayer\"/><g class=\"treemaplayer\"/><g class=\"sunburstlayer\"/><g class=\"glimages\"/><defs id=\"topdefs-5e77b1\"><g class=\"clips\"/><clipPath id=\"legend5e77b1\"><rect width=\"130.6\" height=\"74.6\" x=\"0.7\" y=\"0.7\"/></clipPath></defs><g class=\"layer-above\"><g class=\"imagelayer\"/><g class=\"shapelayer\"/></g><g class=\"infolayer\"><g class=\"legend\" pointer-events=\"all\" transform=\"translate(770,227)\"><rect class=\"bg\" shape-rendering=\"crispEdges\" style=\"stroke: rgb(0, 0, 0); stroke-opacity: 1; fill: rgb(255, 255, 255); fill-opacity: 1; stroke-width: 0.7px;\" width=\"131.3\" height=\"75.3\" x=\"0.35\" y=\"0.35\"/><g class=\"scrollbox\" transform=\"\" clip-path=\"url(#legend5e77b1)\"><text class=\"legendtitletext\" text-anchor=\"start\" x=\"2.7\" y=\"22.8\" style=\"font-family: 'Times New Roman'; font-size: 17px; fill: rgb(0, 0, 0); fill-opacity: 1; white-space: pre;\">Type of Treatment</text><g class=\"groups\"><g class=\"traces\" transform=\"translate(0.7,38.4)\" style=\"opacity: 1;\"><text class=\"legendtext\" text-anchor=\"start\" x=\"40\" y=\"5.46\" style=\"font-family: 'Times New Roman'; font-size: 14px; fill: rgb(0, 0, 0); fill-opacity: 1; white-space: pre;\">1</text><g class=\"layers\" style=\"opacity: 1;\"><g class=\"legendfill\"/><g class=\"legendlines\"/><g class=\"legendsymbols\"><g class=\"legendpoints\"><path class=\"legendpie\" d=\"M6,6H-6V-6H6Z\" transform=\"translate(20,0)\" style=\"fill: rgb(178, 223, 138); fill-opacity: 1; stroke-width: 1; stroke: rgb(0, 0, 0); stroke-opacity: 1;\"/></g></g></g><rect class=\"legendtoggle\" x=\"0\" y=\"-10.6\" width=\"47\" height=\"21.2\" style=\"fill: rgb(0, 0, 0); fill-opacity: 0;\"/></g><g class=\"traces\" transform=\"translate(0.7,59.6)\" style=\"opacity: 1;\"><text class=\"legendtext\" text-anchor=\"start\" x=\"40\" y=\"5.46\" style=\"font-family: 'Times New Roman'; font-size: 14px; fill: rgb(0, 0, 0); fill-opacity: 1; white-space: pre;\">0</text><g class=\"layers\" style=\"opacity: 1;\"><g class=\"legendfill\"/><g class=\"legendlines\"/><g class=\"legendsymbols\"><g class=\"legendpoints\"><path class=\"legendpie\" d=\"M6,6H-6V-6H6Z\" transform=\"translate(20,0)\" style=\"fill: rgb(51, 160, 44); fill-opacity: 1; stroke-width: 1; stroke: rgb(0, 0, 0); stroke-opacity: 1;\"/></g></g></g><rect class=\"legendtoggle\" x=\"0\" y=\"-10.6\" width=\"47\" height=\"21.2\" style=\"fill: rgb(0, 0, 0); fill-opacity: 0;\"/></g></g></g><rect class=\"scrollbar\" rx=\"20\" ry=\"3\" width=\"0\" height=\"0\" x=\"0\" y=\"0\" style=\"fill: rgb(128, 139, 164); fill-opacity: 1;\"/></g><g class=\"g-gtitle\"><text class=\"gtitle\" x=\"210\" y=\"25\" text-anchor=\"middle\" dy=\"0.7em\" style=\"font-family: 'Times New Roman'; font-size: 26px; fill: rgb(0, 0, 0); opacity: 1; font-weight: normal; white-space: pre;\">Distribution of type of Treatment</text></g><g class=\"annotation\" data-index=\"0\" style=\"opacity: 1;\"><g class=\"annotation-text-g\" transform=\"rotate(0,500,477.00000000000006)\"><g class=\"cursor-pointer\" transform=\"translate(307,467)\"><rect class=\"bg\" x=\"0.5\" y=\"0.5\" width=\"385\" height=\"19\" style=\"stroke-width: 1px; stroke: rgb(0, 0, 0); stroke-opacity: 0; fill: rgb(0, 0, 0); fill-opacity: 0;\"/><text class=\"annotation-text\" text-anchor=\"middle\" x=\"193.046875\" y=\"15\" style=\"font-family: 'Open Sans', verdana, arial, sans-serif; font-size: 14px; fill: rgb(0, 0, 0); fill-opacity: 1; white-space: pre;\">Majority of patients undertook treatments other than just ZDV </text></g></g></g></g></svg>"
      ]
     },
     "metadata": {},
     "output_type": "display_data"
    }
   ],
   "source": [
    "\n",
    "palette = cl.scales['7']['qual']['Paired'][2:4]\n",
    "\n",
    "\n",
    "treat = df['treat'].value_counts().reset_index()\n",
    "treat.columns = ['treat', 'count']\n",
    "\n",
    "fig = go.Figure(data=[go.Pie(\n",
    "    labels=treat['treat'],\n",
    "    values=treat['count'],\n",
    "    marker=dict(colors=palette, line=dict(color='#000000', width=1)),\n",
    "    textinfo=\"label+percent\",\n",
    "    textfont=dict(size=14, color='#000000')\n",
    ")])\n",
    "\n",
    "\n",
    "fig.update_layout(\n",
    "    title_text=\"Distribution of type of Treatments\",\n",
    "    title_font_size=24,\n",
    "    title_font_family=\"Times New Roman\",\n",
    "    title_font_color=\"#000000\",  \n",
    "    paper_bgcolor='#ffffff',  \n",
    "    plot_bgcolor='#ffffff', \n",
    "    showlegend=True,\n",
    "    legend_title_text='Type of Treatment',\n",
    "    legend=dict(\n",
    "        x=0.8,\n",
    "        y=0.5,\n",
    "        traceorder='normal',\n",
    "        font=dict(\n",
    "            family=\"Times New Roman\",\n",
    "            size=14,\n",
    "            color=\"#000000\"\n",
    "        ),\n",
    "        bgcolor=\"#ffffff\",  \n",
    "        bordercolor=\"#000000\", \n",
    "        borderwidth=0.7,\n",
    "        orientation=\"v\" \n",
    "    )\n",
    ")\n",
    "\n",
    "fig.update_layout(width=1000)\n",
    "\n",
    "fig.update_layout(\n",
    "    title={\n",
    "        'text': \"Distribution of type of Treatment\",\n",
    "        'y':0.95,\n",
    "        'x':0.21,\n",
    "        'xanchor': 'center',\n",
    "        'yanchor': 'top'},\n",
    "    title_font_size=26,\n",
    "    margin=dict(l=50, r=50, t=80, b=50)\n",
    ")\n",
    "\n",
    "fig.add_annotation(\n",
    "    text=\"Majority of patients undertook treatments other than just ZDV \",\n",
    "    x=0.5,\n",
    "    y=-0.10,\n",
    "    showarrow=False,\n",
    "    font=dict(color=\"#000000\", size=14) \n",
    ")\n",
    "\n",
    "# Show the pie chart\n",
    "fig.show('svg')\n"
   ]
  },
  {
   "cell_type": "markdown",
   "id": "4c215daa",
   "metadata": {
    "papermill": {
     "duration": 0.039445,
     "end_time": "2024-06-02T14:38:12.989584",
     "exception": false,
     "start_time": "2024-06-02T14:38:12.950139",
     "status": "completed"
    },
    "tags": []
   },
   "source": [
    "----------------------------------------------------------------------------------------------------------------------------------------------------------\n"
   ]
  },
  {
   "cell_type": "markdown",
   "id": "2f6abc03",
   "metadata": {
    "papermill": {
     "duration": 0.039713,
     "end_time": "2024-06-02T14:38:13.068828",
     "exception": false,
     "start_time": "2024-06-02T14:38:13.029115",
     "status": "completed"
    },
    "tags": []
   },
   "source": [
    "## offtrt: indicator of off-trt before 96+/-5 weeks (0=no,1=yes)\n",
    "\n",
    "\n",
    "The variable \"offtrt\"  represents an indicator of being off treatment before a specified time frame, typically 96 weeks (approximately 2 years) with a margin of 5 weeks. \n",
    "    \n",
    "- Indicator of Off-Treatment (0=no):\n",
    "   - Individuals categorized as \"0\" for \"offtrt\" are not considered to have been off treatment before the specified time frame (96+/-5 weeks). This means they either remained on treatment continuously during this period or did not have any interruption in their treatment regimen that exceeded the defined threshold.\n",
    "         \n",
    "- Indicator of Off-Treatment (1=yes):   \n",
    "  - Individuals categorized as \"1\" for \"offtrt\" are considered to have been off treatment before the specified time frame (96+/-5 weeks). This indicates that at some point during the period leading up to 96 weeks, they experienced an interruption or cessation in their treatment regimen, whether intentional or unintentional, that lasted beyond the defined threshold.\n",
    "\n",
    "\n",
    "***Conclusion***\n",
    "- *Majority of patients have successfully maintained their antiretroviral therapy without significant interruptions over the specified period.*"
   ]
  },
  {
   "cell_type": "code",
   "execution_count": 47,
   "id": "44aae9d4",
   "metadata": {
    "execution": {
     "iopub.execute_input": "2024-06-02T14:38:13.150139Z",
     "iopub.status.busy": "2024-06-02T14:38:13.149526Z",
     "iopub.status.idle": "2024-06-02T14:38:13.157516Z",
     "shell.execute_reply": "2024-06-02T14:38:13.156421Z"
    },
    "papermill": {
     "duration": 0.050985,
     "end_time": "2024-06-02T14:38:13.159539",
     "exception": false,
     "start_time": "2024-06-02T14:38:13.108554",
     "status": "completed"
    },
    "tags": []
   },
   "outputs": [
    {
     "data": {
      "text/plain": [
       "offtrt\n",
       "0    9768\n",
       "1    5232\n",
       "Name: count, dtype: int64"
      ]
     },
     "execution_count": 47,
     "metadata": {},
     "output_type": "execute_result"
    }
   ],
   "source": [
    "df['offtrt'].value_counts()"
   ]
  },
  {
   "cell_type": "markdown",
   "id": "d876a351",
   "metadata": {
    "papermill": {
     "duration": 0.039238,
     "end_time": "2024-06-02T14:38:13.238205",
     "exception": false,
     "start_time": "2024-06-02T14:38:13.198967",
     "status": "completed"
    },
    "tags": []
   },
   "source": [
    "----------------------------------------------------------------------------------------------------------------------------------------------------------\n"
   ]
  },
  {
   "cell_type": "markdown",
   "id": "edcb1778",
   "metadata": {
    "papermill": {
     "duration": 0.040905,
     "end_time": "2024-06-02T14:38:13.318799",
     "exception": false,
     "start_time": "2024-06-02T14:38:13.277894",
     "status": "completed"
    },
    "tags": []
   },
   "source": [
    "# cd40: CD4 at baseline\n",
    "\n",
    "CD4 cells, also known as CD4+ T cells, are a type of white blood cell that plays a crucial role in the immune system. They help coordinate the immune response by signaling other cells in the immune system to perform their functions.\n",
    "\n",
    "People living with HIV who have a CD4 count over 500 are usually in pretty good health. People living with HIV who have a CD4 cell count below 200 are at high risk of developing serious illnesses. HIV treatment is recommended for all people living with HIV. It is especially important for people with low CD4 counts.\n",
    "\n",
    "***Conclusion***\n",
    "- *Most of the patients have a count closer to 300 which is a bit concerning*"
   ]
  },
  {
   "cell_type": "code",
   "execution_count": 48,
   "id": "74287c82",
   "metadata": {
    "execution": {
     "iopub.execute_input": "2024-06-02T14:38:13.400648Z",
     "iopub.status.busy": "2024-06-02T14:38:13.400283Z",
     "iopub.status.idle": "2024-06-02T14:38:13.410930Z",
     "shell.execute_reply": "2024-06-02T14:38:13.409888Z"
    },
    "papermill": {
     "duration": 0.053836,
     "end_time": "2024-06-02T14:38:13.413105",
     "exception": false,
     "start_time": "2024-06-02T14:38:13.359269",
     "status": "completed"
    },
    "tags": []
   },
   "outputs": [
    {
     "data": {
      "text/plain": [
       "count    15000.000000\n",
       "mean       318.754800\n",
       "std        102.653183\n",
       "min          0.000000\n",
       "25%        235.000000\n",
       "50%        298.000000\n",
       "75%        396.000000\n",
       "max        996.000000\n",
       "Name: cd40, dtype: float64"
      ]
     },
     "execution_count": 48,
     "metadata": {},
     "output_type": "execute_result"
    }
   ],
   "source": [
    "df['cd40'].describe()"
   ]
  },
  {
   "cell_type": "markdown",
   "id": "b0972563",
   "metadata": {
    "papermill": {
     "duration": 0.044381,
     "end_time": "2024-06-02T14:38:13.497688",
     "exception": false,
     "start_time": "2024-06-02T14:38:13.453307",
     "status": "completed"
    },
    "tags": []
   },
   "source": [
    "*Median is 298. A CD4 count of 298 cells/mm³ indicates that the median immune system health of individuals in the study is moderately compromised.*"
   ]
  },
  {
   "cell_type": "code",
   "execution_count": 49,
   "id": "e5b1faef",
   "metadata": {
    "execution": {
     "iopub.execute_input": "2024-06-02T14:38:13.580736Z",
     "iopub.status.busy": "2024-06-02T14:38:13.580360Z",
     "iopub.status.idle": "2024-06-02T14:38:13.723308Z",
     "shell.execute_reply": "2024-06-02T14:38:13.721725Z"
    },
    "papermill": {
     "duration": 0.188437,
     "end_time": "2024-06-02T14:38:13.727119",
     "exception": false,
     "start_time": "2024-06-02T14:38:13.538682",
     "status": "completed"
    },
    "tags": []
   },
   "outputs": [
    {
     "data": {
      "image/svg+xml": [
       "<svg class=\"main-svg\" xmlns=\"http://www.w3.org/2000/svg\" xmlns:xlink=\"http://www.w3.org/1999/xlink\" width=\"1000\" height=\"500\" style=\"\" viewBox=\"0 0 1000 500\"><rect x=\"0\" y=\"0\" width=\"1000\" height=\"500\" style=\"fill: rgb(255, 255, 255); fill-opacity: 1;\"/><defs id=\"defs-b48855\"><g class=\"clips\"><clipPath id=\"clipb48855xyplot\" class=\"plotclip\"><rect width=\"885\" height=\"367\"/></clipPath><clipPath class=\"axesclip\" id=\"clipb48855x\"><rect x=\"65\" y=\"0\" width=\"885\" height=\"500\"/></clipPath><clipPath class=\"axesclip\" id=\"clipb48855y\"><rect x=\"0\" y=\"80\" width=\"1000\" height=\"367\"/></clipPath><clipPath class=\"axesclip\" id=\"clipb48855xy\"><rect x=\"65\" y=\"80\" width=\"885\" height=\"367\"/></clipPath></g><g class=\"gradients\"/><g class=\"patterns\"/></defs><g class=\"bglayer\"/><g class=\"layer-below\"><g class=\"imagelayer\"/><g class=\"shapelayer\"/></g><g class=\"cartesianlayer\"><g class=\"subplot xy\"><g class=\"layer-subplot\"><g class=\"shapelayer\"/><g class=\"imagelayer\"/></g><g class=\"minor-gridlayer\"><g class=\"x\"/><g class=\"y\"/></g><g class=\"gridlayer\"><g class=\"x\"/><g class=\"y\"><path class=\"ygrid crisp\" transform=\"translate(0,391.39)\" d=\"M65,0h885\" style=\"stroke: rgb(255, 255, 255); stroke-opacity: 1; stroke-width: 1px;\"/><path class=\"ygrid crisp\" transform=\"translate(0,335.78999999999996)\" d=\"M65,0h885\" style=\"stroke: rgb(255, 255, 255); stroke-opacity: 1; stroke-width: 1px;\"/><path class=\"ygrid crisp\" transform=\"translate(0,280.18)\" d=\"M65,0h885\" style=\"stroke: rgb(255, 255, 255); stroke-opacity: 1; stroke-width: 1px;\"/><path class=\"ygrid crisp\" transform=\"translate(0,224.58)\" d=\"M65,0h885\" style=\"stroke: rgb(255, 255, 255); stroke-opacity: 1; stroke-width: 1px;\"/><path class=\"ygrid crisp\" transform=\"translate(0,168.97)\" d=\"M65,0h885\" style=\"stroke: rgb(255, 255, 255); stroke-opacity: 1; stroke-width: 1px;\"/><path class=\"ygrid crisp\" transform=\"translate(0,113.36)\" d=\"M65,0h885\" style=\"stroke: rgb(255, 255, 255); stroke-opacity: 1; stroke-width: 1px;\"/></g></g><g class=\"zerolinelayer\"><path class=\"yzl zl crisp\" transform=\"translate(0,447)\" d=\"M65,0h885\" style=\"stroke: rgb(255, 255, 255); stroke-opacity: 1; stroke-width: 2px;\"/></g><path class=\"xlines-below\"/><path class=\"ylines-below\"/><g class=\"overlines-below\"/><g class=\"xaxislayer-below\"/><g class=\"yaxislayer-below\"/><g class=\"overaxes-below\"/><g class=\"plot\" transform=\"translate(65,80)\" clip-path=\"url(#clipb48855xyplot)\"><g class=\"barlayer mlayer\"><g class=\"trace bars\" style=\"opacity: 1;\"><g class=\"points\"><g class=\"point\"><path d=\"M0,367V366.39H88.5V367Z\" style=\"vector-effect: none; opacity: 1; stroke-width: 0.6px; fill: rgb(128, 125, 186); fill-opacity: 1; stroke: rgb(0, 0, 0); stroke-opacity: 1;\"/></g><g class=\"point\"><path d=\"M88.5,367V294.1H177V367Z\" style=\"vector-effect: none; opacity: 1; stroke-width: 0.6px; fill: rgb(128, 125, 186); fill-opacity: 1; stroke: rgb(0, 0, 0); stroke-opacity: 1;\"/></g><g class=\"point\"><path d=\"M177,367V18.35H265.5V367Z\" style=\"vector-effect: none; opacity: 1; stroke-width: 0.6px; fill: rgb(128, 125, 186); fill-opacity: 1; stroke: rgb(0, 0, 0); stroke-opacity: 1;\"/></g><g class=\"point\"><path d=\"M265.5,367V155.86H354V367Z\" style=\"vector-effect: none; opacity: 1; stroke-width: 0.6px; fill: rgb(128, 125, 186); fill-opacity: 1; stroke: rgb(0, 0, 0); stroke-opacity: 1;\"/></g><g class=\"point\"><path d=\"M354,367V205.74H442.5V367Z\" style=\"vector-effect: none; opacity: 1; stroke-width: 0.6px; fill: rgb(128, 125, 186); fill-opacity: 1; stroke: rgb(0, 0, 0); stroke-opacity: 1;\"/></g><g class=\"point\"><path d=\"M442.5,367V333.97H531V367Z\" style=\"vector-effect: none; opacity: 1; stroke-width: 0.6px; fill: rgb(128, 125, 186); fill-opacity: 1; stroke: rgb(0, 0, 0); stroke-opacity: 1;\"/></g><g class=\"point\"><path d=\"M531,367V361.55H619.5V367Z\" style=\"vector-effect: none; opacity: 1; stroke-width: 0.6px; fill: rgb(128, 125, 186); fill-opacity: 1; stroke: rgb(0, 0, 0); stroke-opacity: 1;\"/></g><g class=\"point\"><path d=\"M619.5,367V366.17H708V367Z\" style=\"vector-effect: none; opacity: 1; stroke-width: 0.6px; fill: rgb(128, 125, 186); fill-opacity: 1; stroke: rgb(0, 0, 0); stroke-opacity: 1;\"/></g><g class=\"point\"><path d=\"M708,367V366.83H796.5V367Z\" style=\"vector-effect: none; opacity: 1; stroke-width: 0.6px; fill: rgb(128, 125, 186); fill-opacity: 1; stroke: rgb(0, 0, 0); stroke-opacity: 1;\"/></g><g class=\"point\"><path d=\"M796.5,367V366.94H885V367Z\" style=\"vector-effect: none; opacity: 1; stroke-width: 0.6px; fill: rgb(128, 125, 186); fill-opacity: 1; stroke: rgb(0, 0, 0); stroke-opacity: 1;\"/></g></g></g></g></g><g class=\"overplot\"/><path class=\"xlines-above crisp\" d=\"M0,0\" style=\"fill: none;\"/><path class=\"ylines-above crisp\" d=\"M0,0\" style=\"fill: none;\"/><g class=\"overlines-above\"/><g class=\"xaxislayer-above\"><g class=\"xtick\"><text text-anchor=\"middle\" x=\"0\" y=\"460\" transform=\"translate(65.44,0)\" style=\"font-family: 'Open Sans', verdana, arial, sans-serif; font-size: 12px; fill: rgb(42, 63, 95); fill-opacity: 1; white-space: pre; opacity: 1;\">0</text></g><g class=\"xtick\"><text text-anchor=\"middle\" x=\"0\" y=\"460\" style=\"font-family: 'Open Sans', verdana, arial, sans-serif; font-size: 12px; fill: rgb(42, 63, 95); fill-opacity: 1; white-space: pre; opacity: 1;\" transform=\"translate(242.44,0)\">200</text></g><g class=\"xtick\"><text text-anchor=\"middle\" x=\"0\" y=\"460\" style=\"font-family: 'Open Sans', verdana, arial, sans-serif; font-size: 12px; fill: rgb(42, 63, 95); fill-opacity: 1; white-space: pre; opacity: 1;\" transform=\"translate(419.44,0)\">400</text></g><g class=\"xtick\"><text text-anchor=\"middle\" x=\"0\" y=\"460\" style=\"font-family: 'Open Sans', verdana, arial, sans-serif; font-size: 12px; fill: rgb(42, 63, 95); fill-opacity: 1; white-space: pre; opacity: 1;\" transform=\"translate(596.44,0)\">600</text></g><g class=\"xtick\"><text text-anchor=\"middle\" x=\"0\" y=\"460\" style=\"font-family: 'Open Sans', verdana, arial, sans-serif; font-size: 12px; fill: rgb(42, 63, 95); fill-opacity: 1; white-space: pre; opacity: 1;\" transform=\"translate(773.44,0)\">800</text></g></g><g class=\"yaxislayer-above\"><g class=\"ytick\"><text text-anchor=\"end\" x=\"64\" y=\"4.199999999999999\" transform=\"translate(0,447)\" style=\"font-family: 'Open Sans', verdana, arial, sans-serif; font-size: 12px; fill: rgb(42, 63, 95); fill-opacity: 1; white-space: pre; opacity: 1;\">0</text></g><g class=\"ytick\"><text text-anchor=\"end\" x=\"64\" y=\"4.199999999999999\" style=\"font-family: 'Open Sans', verdana, arial, sans-serif; font-size: 12px; fill: rgb(42, 63, 95); fill-opacity: 1; white-space: pre; opacity: 1;\" transform=\"translate(0,391.39)\">1000</text></g><g class=\"ytick\"><text text-anchor=\"end\" x=\"64\" y=\"4.199999999999999\" style=\"font-family: 'Open Sans', verdana, arial, sans-serif; font-size: 12px; fill: rgb(42, 63, 95); fill-opacity: 1; white-space: pre; opacity: 1;\" transform=\"translate(0,335.78999999999996)\">2000</text></g><g class=\"ytick\"><text text-anchor=\"end\" x=\"64\" y=\"4.199999999999999\" style=\"font-family: 'Open Sans', verdana, arial, sans-serif; font-size: 12px; fill: rgb(42, 63, 95); fill-opacity: 1; white-space: pre; opacity: 1;\" transform=\"translate(0,280.18)\">3000</text></g><g class=\"ytick\"><text text-anchor=\"end\" x=\"64\" y=\"4.199999999999999\" style=\"font-family: 'Open Sans', verdana, arial, sans-serif; font-size: 12px; fill: rgb(42, 63, 95); fill-opacity: 1; white-space: pre; opacity: 1;\" transform=\"translate(0,224.58)\">4000</text></g><g class=\"ytick\"><text text-anchor=\"end\" x=\"64\" y=\"4.199999999999999\" style=\"font-family: 'Open Sans', verdana, arial, sans-serif; font-size: 12px; fill: rgb(42, 63, 95); fill-opacity: 1; white-space: pre; opacity: 1;\" transform=\"translate(0,168.97)\">5000</text></g><g class=\"ytick\"><text text-anchor=\"end\" x=\"64\" y=\"4.199999999999999\" style=\"font-family: 'Open Sans', verdana, arial, sans-serif; font-size: 12px; fill: rgb(42, 63, 95); fill-opacity: 1; white-space: pre; opacity: 1;\" transform=\"translate(0,113.36)\">6000</text></g></g><g class=\"overaxes-above\"/></g></g><g class=\"polarlayer\"/><g class=\"smithlayer\"/><g class=\"ternarylayer\"/><g class=\"geolayer\"/><g class=\"funnelarealayer\"/><g class=\"pielayer\"/><g class=\"iciclelayer\"/><g class=\"treemaplayer\"/><g class=\"sunburstlayer\"/><g class=\"glimages\"/><defs id=\"topdefs-b48855\"><g class=\"clips\"/></defs><g class=\"layer-above\"><g class=\"imagelayer\"/><g class=\"shapelayer\"/></g><g class=\"infolayer\"><g class=\"g-gtitle\"><text class=\"gtitle\" x=\"310\" y=\"25\" text-anchor=\"middle\" dy=\"0.7em\" style=\"font-family: 'Times New Roman'; font-size: 26px; fill: rgb(0, 0, 0); opacity: 1; font-weight: normal; white-space: pre;\">Distribution of count of CD4 at baseline</text></g><g class=\"g-xtitle\"><text class=\"xtitle\" x=\"507.5\" y=\"487.3\" text-anchor=\"middle\" style=\"font-family: 'Open Sans', verdana, arial, sans-serif; font-size: 14px; fill: rgb(42, 63, 95); opacity: 1; font-weight: normal; white-space: pre;\">Count of CD4</text></g><g class=\"g-ytitle\" transform=\"translate(0.0029296875,0)\"><text class=\"ytitle\" transform=\"rotate(-90,12.996875000000003,263.5)\" x=\"12.996875000000003\" y=\"263.5\" text-anchor=\"middle\" style=\"font-family: 'Open Sans', verdana, arial, sans-serif; font-size: 14px; fill: rgb(42, 63, 95); opacity: 1; font-weight: normal; white-space: pre;\">Count of patients</text></g></g></svg>"
      ]
     },
     "metadata": {},
     "output_type": "display_data"
    }
   ],
   "source": [
    "palette = cl.scales['9']['seq']['Purples']\n",
    "\n",
    "fig = go.Figure(data=[go.Histogram(\n",
    "    x=df['cd40'],\n",
    "    marker=dict(color=palette[5], line=dict(color='#000000', width=0.6)),  # Use the second color from the palette\n",
    "    nbinsx=10\n",
    ")])\n",
    "\n",
    "# Update layout\n",
    "fig.update_layout(\n",
    "    title_text=\"Distribution of count of CD4\",\n",
    "    title_font_size=24,\n",
    "    title_font_family=\"Times New Roman\",\n",
    "    title_font_color=\"#000000\",\n",
    "    paper_bgcolor='#ffffff',\n",
    "    plot_bgcolor='#ffffff',\n",
    "    xaxis=dict(title=\"Count of CD4\"),\n",
    "    yaxis=dict(title=\"Count of patients\"),\n",
    ")\n",
    "\n",
    "# Set title properties\n",
    "fig.update_layout(\n",
    "    title={\n",
    "        'text': \"Distribution of count of CD4 at baseline\",\n",
    "        'y':0.95,\n",
    "        'x':0.31,\n",
    "        'xanchor': 'center',\n",
    "        'yanchor': 'top'},\n",
    "    title_font_size=26,\n",
    "    margin=dict(l=50, r=50, t=80, b=50)\n",
    ")\n",
    "\n",
    "# Set the width of the figure\n",
    "fig.update_layout(width=1000)\n",
    "\n",
    "# Show the histogram\n",
    "fig.show('svg')"
   ]
  },
  {
   "cell_type": "markdown",
   "id": "0884bce1",
   "metadata": {
    "papermill": {
     "duration": 0.041453,
     "end_time": "2024-06-02T14:38:13.810068",
     "exception": false,
     "start_time": "2024-06-02T14:38:13.768615",
     "status": "completed"
    },
    "tags": []
   },
   "source": [
    "*Slightly positively correlated. 1500 people still have a low count(close to 200) of CD4*"
   ]
  },
  {
   "cell_type": "markdown",
   "id": "78bd40ff",
   "metadata": {
    "papermill": {
     "duration": 0.039767,
     "end_time": "2024-06-02T14:38:13.891169",
     "exception": false,
     "start_time": "2024-06-02T14:38:13.851402",
     "status": "completed"
    },
    "tags": []
   },
   "source": [
    "----------------------------------------------------------------------------------------------------------------------------------------------------------\n"
   ]
  },
  {
   "cell_type": "markdown",
   "id": "4ddd2df3",
   "metadata": {
    "papermill": {
     "duration": 0.040445,
     "end_time": "2024-06-02T14:38:13.971531",
     "exception": false,
     "start_time": "2024-06-02T14:38:13.931086",
     "status": "completed"
    },
    "tags": []
   },
   "source": [
    "## cd420: CD4 at 20+/-5 weeks\n",
    "\n",
    "The CD4 count at 20 weeks (with a margin of +/- 5 weeks) is used to monitor how the immune system is responding to antiretroviral therapy (ART) or to track the progression of the disease\n",
    "\n",
    "An increase in CD4 count suggests that the treatment is working, leading to immune recovery. Conversely, a stable or decreasing CD4 count may signal the need to reassess the treatment regimen.\n",
    "\n",
    "- *There is a shift to the right. This shows that the treatment is working*"
   ]
  },
  {
   "cell_type": "code",
   "execution_count": 50,
   "id": "fc9f831a",
   "metadata": {
    "execution": {
     "iopub.execute_input": "2024-06-02T14:38:14.055049Z",
     "iopub.status.busy": "2024-06-02T14:38:14.054661Z",
     "iopub.status.idle": "2024-06-02T14:38:14.067241Z",
     "shell.execute_reply": "2024-06-02T14:38:14.066013Z"
    },
    "papermill": {
     "duration": 0.056936,
     "end_time": "2024-06-02T14:38:14.069449",
     "exception": false,
     "start_time": "2024-06-02T14:38:14.012513",
     "status": "completed"
    },
    "tags": []
   },
   "outputs": [
    {
     "data": {
      "text/plain": [
       "count    15000.000000\n",
       "mean       436.178600\n",
       "std        142.800481\n",
       "min        111.000000\n",
       "25%        327.000000\n",
       "50%        413.000000\n",
       "75%        527.000000\n",
       "max       1119.000000\n",
       "Name: cd420, dtype: float64"
      ]
     },
     "execution_count": 50,
     "metadata": {},
     "output_type": "execute_result"
    }
   ],
   "source": [
    "df['cd420'].describe()"
   ]
  },
  {
   "cell_type": "markdown",
   "id": "6c73f582",
   "metadata": {
    "papermill": {
     "duration": 0.040953,
     "end_time": "2024-06-02T14:38:14.151294",
     "exception": false,
     "start_time": "2024-06-02T14:38:14.110341",
     "status": "completed"
    },
    "tags": []
   },
   "source": [
    "*The CD4 count has risen to 413 for half of the population which is a clear indicator of the fact that the therapy is working for at least half of the population*"
   ]
  },
  {
   "cell_type": "code",
   "execution_count": 51,
   "id": "06af8a6f",
   "metadata": {
    "execution": {
     "iopub.execute_input": "2024-06-02T14:38:14.235265Z",
     "iopub.status.busy": "2024-06-02T14:38:14.234162Z",
     "iopub.status.idle": "2024-06-02T14:38:14.520535Z",
     "shell.execute_reply": "2024-06-02T14:38:14.518907Z"
    },
    "papermill": {
     "duration": 0.331288,
     "end_time": "2024-06-02T14:38:14.524104",
     "exception": false,
     "start_time": "2024-06-02T14:38:14.192816",
     "status": "completed"
    },
    "tags": []
   },
   "outputs": [
    {
     "data": {
      "image/svg+xml": [
       "<svg class=\"main-svg\" xmlns=\"http://www.w3.org/2000/svg\" xmlns:xlink=\"http://www.w3.org/1999/xlink\" width=\"1000\" height=\"500\" style=\"\" viewBox=\"0 0 1000 500\"><rect x=\"0\" y=\"0\" width=\"1000\" height=\"500\" style=\"fill: rgb(255, 255, 255); fill-opacity: 1;\"/><defs id=\"defs-54f12b\"><g class=\"clips\"><clipPath id=\"clip54f12bxyplot\" class=\"plotclip\"><rect width=\"885\" height=\"367\"/></clipPath><clipPath class=\"axesclip\" id=\"clip54f12bx\"><rect x=\"65\" y=\"0\" width=\"885\" height=\"500\"/></clipPath><clipPath class=\"axesclip\" id=\"clip54f12by\"><rect x=\"0\" y=\"80\" width=\"1000\" height=\"367\"/></clipPath><clipPath class=\"axesclip\" id=\"clip54f12bxy\"><rect x=\"65\" y=\"80\" width=\"885\" height=\"367\"/></clipPath></g><g class=\"gradients\"/><g class=\"patterns\"/></defs><g class=\"bglayer\"/><g class=\"layer-below\"><g class=\"imagelayer\"/><g class=\"shapelayer\"/></g><g class=\"cartesianlayer\"><g class=\"subplot xy\"><g class=\"layer-subplot\"><g class=\"shapelayer\"/><g class=\"imagelayer\"/></g><g class=\"minor-gridlayer\"><g class=\"x\"/><g class=\"y\"/></g><g class=\"gridlayer\"><g class=\"x\"/><g class=\"y\"><path class=\"ygrid crisp\" transform=\"translate(0,395.78)\" d=\"M65,0h885\" style=\"stroke: rgb(255, 255, 255); stroke-opacity: 1; stroke-width: 1px;\"/><path class=\"ygrid crisp\" transform=\"translate(0,344.56)\" d=\"M65,0h885\" style=\"stroke: rgb(255, 255, 255); stroke-opacity: 1; stroke-width: 1px;\"/><path class=\"ygrid crisp\" transform=\"translate(0,293.34000000000003)\" d=\"M65,0h885\" style=\"stroke: rgb(255, 255, 255); stroke-opacity: 1; stroke-width: 1px;\"/><path class=\"ygrid crisp\" transform=\"translate(0,242.12)\" d=\"M65,0h885\" style=\"stroke: rgb(255, 255, 255); stroke-opacity: 1; stroke-width: 1px;\"/><path class=\"ygrid crisp\" transform=\"translate(0,190.9)\" d=\"M65,0h885\" style=\"stroke: rgb(255, 255, 255); stroke-opacity: 1; stroke-width: 1px;\"/><path class=\"ygrid crisp\" transform=\"translate(0,139.68)\" d=\"M65,0h885\" style=\"stroke: rgb(255, 255, 255); stroke-opacity: 1; stroke-width: 1px;\"/><path class=\"ygrid crisp\" transform=\"translate(0,88.46000000000001)\" d=\"M65,0h885\" style=\"stroke: rgb(255, 255, 255); stroke-opacity: 1; stroke-width: 1px;\"/></g></g><g class=\"zerolinelayer\"><path class=\"yzl zl crisp\" transform=\"translate(0,447)\" d=\"M65,0h885\" style=\"stroke: rgb(255, 255, 255); stroke-opacity: 1; stroke-width: 2px;\"/></g><path class=\"xlines-below\"/><path class=\"ylines-below\"/><g class=\"overlines-below\"/><g class=\"xaxislayer-below\"/><g class=\"yaxislayer-below\"/><g class=\"overaxes-below\"/><g class=\"plot\" transform=\"translate(65,80)\" clip-path=\"url(#clip54f12bxyplot)\"><g class=\"barlayer mlayer\"><g class=\"trace bars\" shape-rendering=\"crispEdges\" style=\"opacity: 1;\"><g class=\"points\"><g class=\"point\"><path d=\"M0,367V356.96H147.5V367Z\" style=\"vector-effect: none; opacity: 1; stroke-width: 0px; fill: rgb(54, 144, 192); fill-opacity: 1;\"/></g><g class=\"point\"><path d=\"M147.5,367V18.35H295V367Z\" style=\"vector-effect: none; opacity: 1; stroke-width: 0px; fill: rgb(54, 144, 192); fill-opacity: 1;\"/></g><g class=\"point\"><path d=\"M295,367V65.37H442.5V367Z\" style=\"vector-effect: none; opacity: 1; stroke-width: 0px; fill: rgb(54, 144, 192); fill-opacity: 1;\"/></g><g class=\"point\"><path d=\"M442.5,367V269.02H590V367Z\" style=\"vector-effect: none; opacity: 1; stroke-width: 0px; fill: rgb(54, 144, 192); fill-opacity: 1;\"/></g><g class=\"point\"><path d=\"M590,367V357.63H737.5V367Z\" style=\"vector-effect: none; opacity: 1; stroke-width: 0px; fill: rgb(54, 144, 192); fill-opacity: 1;\"/></g><g class=\"point\"><path d=\"M737.5,367V366.39H885V367Z\" style=\"vector-effect: none; opacity: 1; stroke-width: 0px; fill: rgb(54, 144, 192); fill-opacity: 1;\"/></g></g></g></g></g><g class=\"overplot\"/><path class=\"xlines-above crisp\" d=\"M0,0\" style=\"fill: none;\"/><path class=\"ylines-above crisp\" d=\"M0,0\" style=\"fill: none;\"/><g class=\"overlines-above\"/><g class=\"xaxislayer-above\"><g class=\"xtick\"><text text-anchor=\"middle\" x=\"0\" y=\"460\" transform=\"translate(65.37,0)\" style=\"font-family: 'Open Sans', verdana, arial, sans-serif; font-size: 12px; fill: rgb(42, 63, 95); fill-opacity: 1; white-space: pre; opacity: 1;\">0</text></g><g class=\"xtick\"><text text-anchor=\"middle\" x=\"0\" y=\"460\" style=\"font-family: 'Open Sans', verdana, arial, sans-serif; font-size: 12px; fill: rgb(42, 63, 95); fill-opacity: 1; white-space: pre; opacity: 1;\" transform=\"translate(212.87,0)\">200</text></g><g class=\"xtick\"><text text-anchor=\"middle\" x=\"0\" y=\"460\" style=\"font-family: 'Open Sans', verdana, arial, sans-serif; font-size: 12px; fill: rgb(42, 63, 95); fill-opacity: 1; white-space: pre; opacity: 1;\" transform=\"translate(360.37,0)\">400</text></g><g class=\"xtick\"><text text-anchor=\"middle\" x=\"0\" y=\"460\" style=\"font-family: 'Open Sans', verdana, arial, sans-serif; font-size: 12px; fill: rgb(42, 63, 95); fill-opacity: 1; white-space: pre; opacity: 1;\" transform=\"translate(507.87,0)\">600</text></g><g class=\"xtick\"><text text-anchor=\"middle\" x=\"0\" y=\"460\" style=\"font-family: 'Open Sans', verdana, arial, sans-serif; font-size: 12px; fill: rgb(42, 63, 95); fill-opacity: 1; white-space: pre; opacity: 1;\" transform=\"translate(655.37,0)\">800</text></g><g class=\"xtick\"><text text-anchor=\"middle\" x=\"0\" y=\"460\" style=\"font-family: 'Open Sans', verdana, arial, sans-serif; font-size: 12px; fill: rgb(42, 63, 95); fill-opacity: 1; white-space: pre; opacity: 1;\" transform=\"translate(802.87,0)\">1000</text></g></g><g class=\"yaxislayer-above\"><g class=\"ytick\"><text text-anchor=\"end\" x=\"64\" y=\"4.199999999999999\" transform=\"translate(0,447)\" style=\"font-family: 'Open Sans', verdana, arial, sans-serif; font-size: 12px; fill: rgb(42, 63, 95); fill-opacity: 1; white-space: pre; opacity: 1;\">0</text></g><g class=\"ytick\"><text text-anchor=\"end\" x=\"64\" y=\"4.199999999999999\" style=\"font-family: 'Open Sans', verdana, arial, sans-serif; font-size: 12px; fill: rgb(42, 63, 95); fill-opacity: 1; white-space: pre; opacity: 1;\" transform=\"translate(0,395.78)\">1000</text></g><g class=\"ytick\"><text text-anchor=\"end\" x=\"64\" y=\"4.199999999999999\" style=\"font-family: 'Open Sans', verdana, arial, sans-serif; font-size: 12px; fill: rgb(42, 63, 95); fill-opacity: 1; white-space: pre; opacity: 1;\" transform=\"translate(0,344.56)\">2000</text></g><g class=\"ytick\"><text text-anchor=\"end\" x=\"64\" y=\"4.199999999999999\" style=\"font-family: 'Open Sans', verdana, arial, sans-serif; font-size: 12px; fill: rgb(42, 63, 95); fill-opacity: 1; white-space: pre; opacity: 1;\" transform=\"translate(0,293.34000000000003)\">3000</text></g><g class=\"ytick\"><text text-anchor=\"end\" x=\"64\" y=\"4.199999999999999\" style=\"font-family: 'Open Sans', verdana, arial, sans-serif; font-size: 12px; fill: rgb(42, 63, 95); fill-opacity: 1; white-space: pre; opacity: 1;\" transform=\"translate(0,242.12)\">4000</text></g><g class=\"ytick\"><text text-anchor=\"end\" x=\"64\" y=\"4.199999999999999\" style=\"font-family: 'Open Sans', verdana, arial, sans-serif; font-size: 12px; fill: rgb(42, 63, 95); fill-opacity: 1; white-space: pre; opacity: 1;\" transform=\"translate(0,190.9)\">5000</text></g><g class=\"ytick\"><text text-anchor=\"end\" x=\"64\" y=\"4.199999999999999\" style=\"font-family: 'Open Sans', verdana, arial, sans-serif; font-size: 12px; fill: rgb(42, 63, 95); fill-opacity: 1; white-space: pre; opacity: 1;\" transform=\"translate(0,139.68)\">6000</text></g><g class=\"ytick\"><text text-anchor=\"end\" x=\"64\" y=\"4.199999999999999\" style=\"font-family: 'Open Sans', verdana, arial, sans-serif; font-size: 12px; fill: rgb(42, 63, 95); fill-opacity: 1; white-space: pre; opacity: 1;\" transform=\"translate(0,88.46000000000001)\">7000</text></g></g><g class=\"overaxes-above\"/></g></g><g class=\"polarlayer\"/><g class=\"smithlayer\"/><g class=\"ternarylayer\"/><g class=\"geolayer\"/><g class=\"funnelarealayer\"/><g class=\"pielayer\"/><g class=\"iciclelayer\"/><g class=\"treemaplayer\"/><g class=\"sunburstlayer\"/><g class=\"glimages\"/><defs id=\"topdefs-54f12b\"><g class=\"clips\"/></defs><g class=\"layer-above\"><g class=\"imagelayer\"/><g class=\"shapelayer\"/></g><g class=\"infolayer\"><g class=\"g-gtitle\"><text class=\"gtitle\" x=\"310\" y=\"25\" text-anchor=\"middle\" dy=\"0.7em\" style=\"font-family: 'Times New Roman'; font-size: 26px; fill: rgb(0, 0, 0); opacity: 1; font-weight: normal; white-space: pre;\">Distribution of count of CD4 at 20 weeks</text></g><g class=\"g-xtitle\"><text class=\"xtitle\" x=\"507.5\" y=\"487.3\" text-anchor=\"middle\" style=\"font-family: 'Open Sans', verdana, arial, sans-serif; font-size: 14px; fill: rgb(42, 63, 95); opacity: 1; font-weight: normal; white-space: pre;\">Count of CD4 after treatment</text></g><g class=\"g-ytitle\" transform=\"translate(0.0029296875,0)\"><text class=\"ytitle\" transform=\"rotate(-90,12.996875000000003,263.5)\" x=\"12.996875000000003\" y=\"263.5\" text-anchor=\"middle\" style=\"font-family: 'Open Sans', verdana, arial, sans-serif; font-size: 14px; fill: rgb(42, 63, 95); opacity: 1; font-weight: normal; white-space: pre;\">Count of Patients</text></g></g></svg>"
      ]
     },
     "metadata": {},
     "output_type": "display_data"
    }
   ],
   "source": [
    "palette = cl.scales['9']['seq']['PuBu']\n",
    "\n",
    "fig = go.Figure(data=[go.Histogram(\n",
    "    x=df['cd420'],\n",
    "    marker=dict(color=palette[5]),  # Use the second color from the palette\n",
    "    nbinsx=10\n",
    ")])\n",
    "\n",
    "# Update layout\n",
    "fig.update_layout(\n",
    "    title_text=\"Distribution of count of CD4\",\n",
    "    title_font_size=24,\n",
    "    title_font_family=\"Times New Roman\",\n",
    "    title_font_color=\"#000000\",\n",
    "    paper_bgcolor='#ffffff',\n",
    "    plot_bgcolor='#ffffff',\n",
    "    xaxis=dict(title=\"Count of CD4 after treatment\"),\n",
    "    yaxis=dict(title=\"Count of Patients\"),\n",
    ")\n",
    "\n",
    "# Set title properties\n",
    "fig.update_layout(\n",
    "    title={\n",
    "        'text': \"Distribution of count of CD4 at 20 weeks\",\n",
    "        'y':0.95,\n",
    "        'x':0.31,\n",
    "        'xanchor': 'center',\n",
    "        'yanchor': 'top'},\n",
    "    title_font_size=26,\n",
    "    margin=dict(l=50, r=50, t=80, b=50)\n",
    ")\n",
    "\n",
    "# Set the width of the figure\n",
    "fig.update_layout(width=1000)\n",
    "\n",
    "# Show the histogram\n",
    "fig.show('svg')"
   ]
  },
  {
   "cell_type": "markdown",
   "id": "36e84f1a",
   "metadata": {
    "papermill": {
     "duration": 0.041642,
     "end_time": "2024-06-02T14:38:14.614550",
     "exception": false,
     "start_time": "2024-06-02T14:38:14.572908",
     "status": "completed"
    },
    "tags": []
   },
   "source": [
    "*There is a slight shift towards the right. Now very few people have a low count of CD4*"
   ]
  },
  {
   "cell_type": "markdown",
   "id": "65593a27",
   "metadata": {
    "papermill": {
     "duration": 0.041299,
     "end_time": "2024-06-02T14:38:14.706150",
     "exception": false,
     "start_time": "2024-06-02T14:38:14.664851",
     "status": "completed"
    },
    "tags": []
   },
   "source": [
    "----------------------------------------------------------------------------------------------------------------------------------------------------------\n"
   ]
  },
  {
   "cell_type": "markdown",
   "id": "0a4fe4f3",
   "metadata": {
    "papermill": {
     "duration": 0.040765,
     "end_time": "2024-06-02T14:38:14.789906",
     "exception": false,
     "start_time": "2024-06-02T14:38:14.749141",
     "status": "completed"
    },
    "tags": []
   },
   "source": [
    "## cd80: CD8 at baseline\n",
    "\n",
    "CD8 cells, also known as CD8+ T cells or cytotoxic T cells, are a type of white blood cell that plays a critical role in the immune system by directly killing infected cells, including those infected with viruses like HIV.\n",
    "\n",
    "The CD8 count at baseline provides a snapshot of the patient's immune response at the time of initial measurement. In HIV-infected individuals, CD8+ T cells are crucial for controlling the infection by killing HIV-infected cells.\n",
    "\n",
    "Typically, HIV infection leads to an increase in CD8+ T cells as the immune system attempts to fight the virus.\n",
    "\n",
    "`The CD4/CD8 ratio is an important metric in HIV/AIDS. Normally, the ratio is greater than 1, meaning there are more CD4 cells than CD8 cells.  In HIV infection, this ratio often decreases due to the decline in CD4 cells and the increase in CD8 cells.`\n",
    "\n",
    "\n",
    "***Conclusion***\n",
    "\n",
    "- *Half of the population has a high count of CD8 cells which means that their immune system is quite active*"
   ]
  },
  {
   "cell_type": "code",
   "execution_count": 52,
   "id": "98089a67",
   "metadata": {
    "execution": {
     "iopub.execute_input": "2024-06-02T14:38:14.873928Z",
     "iopub.status.busy": "2024-06-02T14:38:14.873555Z",
     "iopub.status.idle": "2024-06-02T14:38:14.884020Z",
     "shell.execute_reply": "2024-06-02T14:38:14.883253Z"
    },
    "papermill": {
     "duration": 0.055116,
     "end_time": "2024-06-02T14:38:14.886036",
     "exception": false,
     "start_time": "2024-06-02T14:38:14.830920",
     "status": "completed"
    },
    "tags": []
   },
   "outputs": [
    {
     "data": {
      "text/plain": [
       "count    15000.000000\n",
       "mean      1049.644400\n",
       "std        489.881489\n",
       "min        273.000000\n",
       "25%        716.000000\n",
       "50%        887.000000\n",
       "75%       1252.250000\n",
       "max       4867.000000\n",
       "Name: cd80, dtype: float64"
      ]
     },
     "execution_count": 52,
     "metadata": {},
     "output_type": "execute_result"
    }
   ],
   "source": [
    "df['cd80'].describe()"
   ]
  },
  {
   "cell_type": "markdown",
   "id": "74fc6fe3",
   "metadata": {
    "papermill": {
     "duration": 0.040403,
     "end_time": "2024-06-02T14:38:14.966889",
     "exception": false,
     "start_time": "2024-06-02T14:38:14.926486",
     "status": "completed"
    },
    "tags": []
   },
   "source": [
    "*A median CD8 count of 887 suggests that many individuals in the study or clinical population have CD8 levels within or above the normal range, indicating an active immune response.*"
   ]
  },
  {
   "cell_type": "code",
   "execution_count": 53,
   "id": "e5c609c7",
   "metadata": {
    "execution": {
     "iopub.execute_input": "2024-06-02T14:38:15.049597Z",
     "iopub.status.busy": "2024-06-02T14:38:15.049178Z",
     "iopub.status.idle": "2024-06-02T14:38:15.164611Z",
     "shell.execute_reply": "2024-06-02T14:38:15.163397Z"
    },
    "papermill": {
     "duration": 0.15957,
     "end_time": "2024-06-02T14:38:15.166963",
     "exception": false,
     "start_time": "2024-06-02T14:38:15.007393",
     "status": "completed"
    },
    "tags": []
   },
   "outputs": [
    {
     "data": {
      "image/svg+xml": [
       "<svg class=\"main-svg\" xmlns=\"http://www.w3.org/2000/svg\" xmlns:xlink=\"http://www.w3.org/1999/xlink\" width=\"1000\" height=\"500\" style=\"\" viewBox=\"0 0 1000 500\"><rect x=\"0\" y=\"0\" width=\"1000\" height=\"500\" style=\"fill: rgb(255, 255, 255); fill-opacity: 1;\"/><defs id=\"defs-0e744d\"><g class=\"clips\"><clipPath id=\"clip0e744dxyplot\" class=\"plotclip\"><rect width=\"885\" height=\"367\"/></clipPath><clipPath class=\"axesclip\" id=\"clip0e744dx\"><rect x=\"65\" y=\"0\" width=\"885\" height=\"500\"/></clipPath><clipPath class=\"axesclip\" id=\"clip0e744dy\"><rect x=\"0\" y=\"80\" width=\"1000\" height=\"367\"/></clipPath><clipPath class=\"axesclip\" id=\"clip0e744dxy\"><rect x=\"65\" y=\"80\" width=\"885\" height=\"367\"/></clipPath></g><g class=\"gradients\"/><g class=\"patterns\"/></defs><g class=\"bglayer\"/><g class=\"layer-below\"><g class=\"imagelayer\"/><g class=\"shapelayer\"/></g><g class=\"cartesianlayer\"><g class=\"subplot xy\"><g class=\"layer-subplot\"><g class=\"shapelayer\"/><g class=\"imagelayer\"/></g><g class=\"minor-gridlayer\"><g class=\"x\"/><g class=\"y\"/></g><g class=\"gridlayer\"><g class=\"x\"/><g class=\"y\"><path class=\"ygrid crisp\" transform=\"translate(0,406.76)\" d=\"M65,0h885\" style=\"stroke: rgb(255, 255, 255); stroke-opacity: 1; stroke-width: 1px;\"/><path class=\"ygrid crisp\" transform=\"translate(0,366.52)\" d=\"M65,0h885\" style=\"stroke: rgb(255, 255, 255); stroke-opacity: 1; stroke-width: 1px;\"/><path class=\"ygrid crisp\" transform=\"translate(0,326.28)\" d=\"M65,0h885\" style=\"stroke: rgb(255, 255, 255); stroke-opacity: 1; stroke-width: 1px;\"/><path class=\"ygrid crisp\" transform=\"translate(0,286.03999999999996)\" d=\"M65,0h885\" style=\"stroke: rgb(255, 255, 255); stroke-opacity: 1; stroke-width: 1px;\"/><path class=\"ygrid crisp\" transform=\"translate(0,245.79)\" d=\"M65,0h885\" style=\"stroke: rgb(255, 255, 255); stroke-opacity: 1; stroke-width: 1px;\"/><path class=\"ygrid crisp\" transform=\"translate(0,205.55)\" d=\"M65,0h885\" style=\"stroke: rgb(255, 255, 255); stroke-opacity: 1; stroke-width: 1px;\"/><path class=\"ygrid crisp\" transform=\"translate(0,165.31)\" d=\"M65,0h885\" style=\"stroke: rgb(255, 255, 255); stroke-opacity: 1; stroke-width: 1px;\"/><path class=\"ygrid crisp\" transform=\"translate(0,125.07)\" d=\"M65,0h885\" style=\"stroke: rgb(255, 255, 255); stroke-opacity: 1; stroke-width: 1px;\"/><path class=\"ygrid crisp\" transform=\"translate(0,84.83)\" d=\"M65,0h885\" style=\"stroke: rgb(255, 255, 255); stroke-opacity: 1; stroke-width: 1px;\"/></g></g><g class=\"zerolinelayer\"><path class=\"yzl zl crisp\" transform=\"translate(0,447)\" d=\"M65,0h885\" style=\"stroke: rgb(255, 255, 255); stroke-opacity: 1; stroke-width: 2px;\"/></g><path class=\"xlines-below\"/><path class=\"ylines-below\"/><g class=\"overlines-below\"/><g class=\"xaxislayer-below\"/><g class=\"yaxislayer-below\"/><g class=\"overaxes-below\"/><g class=\"plot\" transform=\"translate(65,80)\" clip-path=\"url(#clip0e744dxyplot)\"><g class=\"barlayer mlayer\"><g class=\"trace bars\" shape-rendering=\"crispEdges\" style=\"opacity: 1;\"><g class=\"points\"><g class=\"point\"><path d=\"M0,367V351.75H88.5V367Z\" style=\"vector-effect: none; opacity: 1; stroke-width: 0px; fill: rgb(2, 56, 88); fill-opacity: 1;\"/></g><g class=\"point\"><path d=\"M88.5,367V18.35H177V367Z\" style=\"vector-effect: none; opacity: 1; stroke-width: 0px; fill: rgb(2, 56, 88); fill-opacity: 1;\"/></g><g class=\"point\"><path d=\"M177,367V223.22H265.5V367Z\" style=\"vector-effect: none; opacity: 1; stroke-width: 0px; fill: rgb(2, 56, 88); fill-opacity: 1;\"/></g><g class=\"point\"><path d=\"M265.5,367V306.16H354V367Z\" style=\"vector-effect: none; opacity: 1; stroke-width: 0px; fill: rgb(2, 56, 88); fill-opacity: 1;\"/></g><g class=\"point\"><path d=\"M354,367V343.98H442.5V367Z\" style=\"vector-effect: none; opacity: 1; stroke-width: 0px; fill: rgb(2, 56, 88); fill-opacity: 1;\"/></g><g class=\"point\"><path d=\"M442.5,367V356.86H531V367Z\" style=\"vector-effect: none; opacity: 1; stroke-width: 0px; fill: rgb(2, 56, 88); fill-opacity: 1;\"/></g><g class=\"point\"><path d=\"M531,367V365.67H619.5V367Z\" style=\"vector-effect: none; opacity: 1; stroke-width: 0px; fill: rgb(2, 56, 88); fill-opacity: 1;\"/></g><g class=\"point\"><path d=\"M619.5,367V366.6H708V367Z\" style=\"vector-effect: none; opacity: 1; stroke-width: 0px; fill: rgb(2, 56, 88); fill-opacity: 1;\"/></g><g class=\"point\"><path d=\"M708,367V366.88H796.5V367Z\" style=\"vector-effect: none; opacity: 1; stroke-width: 0px; fill: rgb(2, 56, 88); fill-opacity: 1;\"/></g><g class=\"point\"><path d=\"M796.5,367V366.92H885V367Z\" style=\"vector-effect: none; opacity: 1; stroke-width: 0px; fill: rgb(2, 56, 88); fill-opacity: 1;\"/></g></g></g></g></g><g class=\"overplot\"/><path class=\"xlines-above crisp\" d=\"M0,0\" style=\"fill: none;\"/><path class=\"ylines-above crisp\" d=\"M0,0\" style=\"fill: none;\"/><g class=\"overlines-above\"/><g class=\"xaxislayer-above\"><g class=\"xtick\"><text text-anchor=\"middle\" x=\"0\" y=\"460\" transform=\"translate(65.09,0)\" style=\"font-family: 'Open Sans', verdana, arial, sans-serif; font-size: 12px; fill: rgb(42, 63, 95); fill-opacity: 1; white-space: pre; opacity: 1;\">0</text></g><g class=\"xtick\"><text text-anchor=\"middle\" x=\"0\" y=\"460\" style=\"font-family: 'Open Sans', verdana, arial, sans-serif; font-size: 12px; fill: rgb(42, 63, 95); fill-opacity: 1; white-space: pre; opacity: 1;\" transform=\"translate(242.09,0)\">1000</text></g><g class=\"xtick\"><text text-anchor=\"middle\" x=\"0\" y=\"460\" style=\"font-family: 'Open Sans', verdana, arial, sans-serif; font-size: 12px; fill: rgb(42, 63, 95); fill-opacity: 1; white-space: pre; opacity: 1;\" transform=\"translate(419.09,0)\">2000</text></g><g class=\"xtick\"><text text-anchor=\"middle\" x=\"0\" y=\"460\" style=\"font-family: 'Open Sans', verdana, arial, sans-serif; font-size: 12px; fill: rgb(42, 63, 95); fill-opacity: 1; white-space: pre; opacity: 1;\" transform=\"translate(596.09,0)\">3000</text></g><g class=\"xtick\"><text text-anchor=\"middle\" x=\"0\" y=\"460\" style=\"font-family: 'Open Sans', verdana, arial, sans-serif; font-size: 12px; fill: rgb(42, 63, 95); fill-opacity: 1; white-space: pre; opacity: 1;\" transform=\"translate(773.09,0)\">4000</text></g><g class=\"xtick\"><text text-anchor=\"middle\" x=\"0\" y=\"460\" style=\"font-family: 'Open Sans', verdana, arial, sans-serif; font-size: 12px; fill: rgb(42, 63, 95); fill-opacity: 1; white-space: pre; opacity: 1;\" transform=\"translate(950.09,0)\">5000</text></g></g><g class=\"yaxislayer-above\"><g class=\"ytick\"><text text-anchor=\"end\" x=\"64\" y=\"4.199999999999999\" transform=\"translate(0,447)\" style=\"font-family: 'Open Sans', verdana, arial, sans-serif; font-size: 12px; fill: rgb(42, 63, 95); fill-opacity: 1; white-space: pre; opacity: 1;\">0</text></g><g class=\"ytick\"><text text-anchor=\"end\" x=\"64\" y=\"4.199999999999999\" style=\"font-family: 'Open Sans', verdana, arial, sans-serif; font-size: 12px; fill: rgb(42, 63, 95); fill-opacity: 1; white-space: pre; opacity: 1;\" transform=\"translate(0,406.76)\">1000</text></g><g class=\"ytick\"><text text-anchor=\"end\" x=\"64\" y=\"4.199999999999999\" style=\"font-family: 'Open Sans', verdana, arial, sans-serif; font-size: 12px; fill: rgb(42, 63, 95); fill-opacity: 1; white-space: pre; opacity: 1;\" transform=\"translate(0,366.52)\">2000</text></g><g class=\"ytick\"><text text-anchor=\"end\" x=\"64\" y=\"4.199999999999999\" style=\"font-family: 'Open Sans', verdana, arial, sans-serif; font-size: 12px; fill: rgb(42, 63, 95); fill-opacity: 1; white-space: pre; opacity: 1;\" transform=\"translate(0,326.28)\">3000</text></g><g class=\"ytick\"><text text-anchor=\"end\" x=\"64\" y=\"4.199999999999999\" style=\"font-family: 'Open Sans', verdana, arial, sans-serif; font-size: 12px; fill: rgb(42, 63, 95); fill-opacity: 1; white-space: pre; opacity: 1;\" transform=\"translate(0,286.03999999999996)\">4000</text></g><g class=\"ytick\"><text text-anchor=\"end\" x=\"64\" y=\"4.199999999999999\" style=\"font-family: 'Open Sans', verdana, arial, sans-serif; font-size: 12px; fill: rgb(42, 63, 95); fill-opacity: 1; white-space: pre; opacity: 1;\" transform=\"translate(0,245.79)\">5000</text></g><g class=\"ytick\"><text text-anchor=\"end\" x=\"64\" y=\"4.199999999999999\" style=\"font-family: 'Open Sans', verdana, arial, sans-serif; font-size: 12px; fill: rgb(42, 63, 95); fill-opacity: 1; white-space: pre; opacity: 1;\" transform=\"translate(0,205.55)\">6000</text></g><g class=\"ytick\"><text text-anchor=\"end\" x=\"64\" y=\"4.199999999999999\" style=\"font-family: 'Open Sans', verdana, arial, sans-serif; font-size: 12px; fill: rgb(42, 63, 95); fill-opacity: 1; white-space: pre; opacity: 1;\" transform=\"translate(0,165.31)\">7000</text></g><g class=\"ytick\"><text text-anchor=\"end\" x=\"64\" y=\"4.199999999999999\" style=\"font-family: 'Open Sans', verdana, arial, sans-serif; font-size: 12px; fill: rgb(42, 63, 95); fill-opacity: 1; white-space: pre; opacity: 1;\" transform=\"translate(0,125.07)\">8000</text></g><g class=\"ytick\"><text text-anchor=\"end\" x=\"64\" y=\"4.199999999999999\" style=\"font-family: 'Open Sans', verdana, arial, sans-serif; font-size: 12px; fill: rgb(42, 63, 95); fill-opacity: 1; white-space: pre; opacity: 1;\" transform=\"translate(0,84.83)\">9000</text></g></g><g class=\"overaxes-above\"/></g></g><g class=\"polarlayer\"/><g class=\"smithlayer\"/><g class=\"ternarylayer\"/><g class=\"geolayer\"/><g class=\"funnelarealayer\"/><g class=\"pielayer\"/><g class=\"iciclelayer\"/><g class=\"treemaplayer\"/><g class=\"sunburstlayer\"/><g class=\"glimages\"/><defs id=\"topdefs-0e744d\"><g class=\"clips\"/></defs><g class=\"layer-above\"><g class=\"imagelayer\"/><g class=\"shapelayer\"/></g><g class=\"infolayer\"><g class=\"g-gtitle\"><text class=\"gtitle\" x=\"310\" y=\"25\" text-anchor=\"middle\" dy=\"0.7em\" style=\"font-family: 'Times New Roman'; font-size: 26px; fill: rgb(0, 0, 0); opacity: 1; font-weight: normal; white-space: pre;\">Distribution of count of CD8 at baseline</text></g><g class=\"g-xtitle\"><text class=\"xtitle\" x=\"507.5\" y=\"487.3\" text-anchor=\"middle\" style=\"font-family: 'Open Sans', verdana, arial, sans-serif; font-size: 14px; fill: rgb(42, 63, 95); opacity: 1; font-weight: normal; white-space: pre;\">Count of CD8 at baseline</text></g><g class=\"g-ytitle\" transform=\"translate(0.0029296875,0)\"><text class=\"ytitle\" transform=\"rotate(-90,12.996875000000003,263.5)\" x=\"12.996875000000003\" y=\"263.5\" text-anchor=\"middle\" style=\"font-family: 'Open Sans', verdana, arial, sans-serif; font-size: 14px; fill: rgb(42, 63, 95); opacity: 1; font-weight: normal; white-space: pre;\">Count of patients</text></g></g></svg>"
      ]
     },
     "metadata": {},
     "output_type": "display_data"
    }
   ],
   "source": [
    "palette = cl.scales['9']['seq']['PuBu']\n",
    "\n",
    "fig = go.Figure(data=[go.Histogram(\n",
    "    x=df['cd80'],\n",
    "    marker=dict(color=palette[8]),  # Use the second color from the palette\n",
    "    nbinsx=10\n",
    ")])\n",
    "\n",
    "# Update layout\n",
    "fig.update_layout(\n",
    "    title_text=\"Distribution of count of CD4\",\n",
    "    title_font_size=24,\n",
    "    title_font_family=\"Times New Roman\",\n",
    "    title_font_color=\"#000000\",\n",
    "    paper_bgcolor='#ffffff',\n",
    "    plot_bgcolor='#ffffff',\n",
    "    xaxis=dict(title=\"Count of CD8 at baseline\"),\n",
    "    yaxis=dict(title=\"Count of patients\"),\n",
    ")\n",
    "\n",
    "# Set title properties\n",
    "fig.update_layout(\n",
    "    title={\n",
    "        'text': \"Distribution of count of CD8 at baseline\",\n",
    "        'y':0.95,\n",
    "        'x':0.31,\n",
    "        'xanchor': 'center',\n",
    "        'yanchor': 'top'},\n",
    "    title_font_size=26,\n",
    "    margin=dict(l=50, r=50, t=80, b=50)\n",
    ")\n",
    "\n",
    "# Set the width of the figure\n",
    "fig.update_layout(width=1000)\n",
    "\n",
    "# Show the histogram\n",
    "fig.show('svg')"
   ]
  },
  {
   "cell_type": "markdown",
   "id": "7835ebb5",
   "metadata": {
    "papermill": {
     "duration": 0.0406,
     "end_time": "2024-06-02T14:38:15.249926",
     "exception": false,
     "start_time": "2024-06-02T14:38:15.209326",
     "status": "completed"
    },
    "tags": []
   },
   "source": [
    "*High positive skewness*"
   ]
  },
  {
   "cell_type": "markdown",
   "id": "97c4fcea",
   "metadata": {
    "papermill": {
     "duration": 0.041283,
     "end_time": "2024-06-02T14:38:15.332312",
     "exception": false,
     "start_time": "2024-06-02T14:38:15.291029",
     "status": "completed"
    },
    "tags": []
   },
   "source": [
    "----------------------------------------------------------------------------------------------------------------------------------------------------------\n"
   ]
  },
  {
   "cell_type": "markdown",
   "id": "fc0f8312",
   "metadata": {
    "papermill": {
     "duration": 0.042191,
     "end_time": "2024-06-02T14:38:15.415656",
     "exception": false,
     "start_time": "2024-06-02T14:38:15.373465",
     "status": "completed"
    },
    "tags": []
   },
   "source": [
    "## cd820: CD8 at 20+/-5 weeks\n",
    "\n",
    "the variable \"cd820\" represents the CD8 count measured at approximately 20 weeks (with a margin of +/- 5 weeks) after a baseline or initial measurement.\n",
    "\n",
    "The CD8 count at 20 weeks (with a margin of +/- 5 weeks) is used to monitor how the immune system is responding to antiretroviral therapy (ART) or to track the progression of the disease.\n",
    "\n",
    "Changes in the CD8 count from baseline to around 20 weeks can indicate the effectiveness of ART. An increase or stable CD8 count might suggest that the immune system is responding well to treatment, whereas a decrease could indicate potential issues with the effectiveness of the treatment.\n",
    "\n",
    "***Conclusion***\n",
    "\n",
    "- *A decrease in CD8 count can indicate effective antiretroviral therapy (ART).*"
   ]
  },
  {
   "cell_type": "code",
   "execution_count": 54,
   "id": "0d260491",
   "metadata": {
    "execution": {
     "iopub.execute_input": "2024-06-02T14:38:15.500479Z",
     "iopub.status.busy": "2024-06-02T14:38:15.499984Z",
     "iopub.status.idle": "2024-06-02T14:38:15.511283Z",
     "shell.execute_reply": "2024-06-02T14:38:15.510299Z"
    },
    "papermill": {
     "duration": 0.056992,
     "end_time": "2024-06-02T14:38:15.513257",
     "exception": false,
     "start_time": "2024-06-02T14:38:15.456265",
     "status": "completed"
    },
    "tags": []
   },
   "outputs": [
    {
     "data": {
      "text/plain": [
       "count    15000.000000\n",
       "mean       908.306867\n",
       "std        337.759073\n",
       "min        143.000000\n",
       "25%        652.000000\n",
       "50%        858.000000\n",
       "75%       1087.250000\n",
       "max       3253.000000\n",
       "Name: cd820, dtype: float64"
      ]
     },
     "execution_count": 54,
     "metadata": {},
     "output_type": "execute_result"
    }
   ],
   "source": [
    "df['cd820'].describe()"
   ]
  },
  {
   "cell_type": "markdown",
   "id": "81df8894",
   "metadata": {
    "papermill": {
     "duration": 0.040602,
     "end_time": "2024-06-02T14:38:15.594718",
     "exception": false,
     "start_time": "2024-06-02T14:38:15.554116",
     "status": "completed"
    },
    "tags": []
   },
   "source": [
    "*There is a decrease in the median and mean count as compared to the baseline count which is a good sign*"
   ]
  },
  {
   "cell_type": "code",
   "execution_count": 55,
   "id": "928f1aa4",
   "metadata": {
    "execution": {
     "iopub.execute_input": "2024-06-02T14:38:15.680549Z",
     "iopub.status.busy": "2024-06-02T14:38:15.679616Z",
     "iopub.status.idle": "2024-06-02T14:38:15.789732Z",
     "shell.execute_reply": "2024-06-02T14:38:15.788490Z"
    },
    "papermill": {
     "duration": 0.156235,
     "end_time": "2024-06-02T14:38:15.792239",
     "exception": false,
     "start_time": "2024-06-02T14:38:15.636004",
     "status": "completed"
    },
    "tags": []
   },
   "outputs": [
    {
     "data": {
      "image/svg+xml": [
       "<svg class=\"main-svg\" xmlns=\"http://www.w3.org/2000/svg\" xmlns:xlink=\"http://www.w3.org/1999/xlink\" width=\"1000\" height=\"500\" style=\"\" viewBox=\"0 0 1000 500\"><rect x=\"0\" y=\"0\" width=\"1000\" height=\"500\" style=\"fill: rgb(255, 255, 255); fill-opacity: 1;\"/><defs id=\"defs-21a859\"><g class=\"clips\"><clipPath id=\"clip21a859xyplot\" class=\"plotclip\"><rect width=\"885\" height=\"367\"/></clipPath><clipPath class=\"axesclip\" id=\"clip21a859x\"><rect x=\"65\" y=\"0\" width=\"885\" height=\"500\"/></clipPath><clipPath class=\"axesclip\" id=\"clip21a859y\"><rect x=\"0\" y=\"80\" width=\"1000\" height=\"367\"/></clipPath><clipPath class=\"axesclip\" id=\"clip21a859xy\"><rect x=\"65\" y=\"80\" width=\"885\" height=\"367\"/></clipPath></g><g class=\"gradients\"/><g class=\"patterns\"/></defs><g class=\"bglayer\"/><g class=\"layer-below\"><g class=\"imagelayer\"/><g class=\"shapelayer\"/></g><g class=\"cartesianlayer\"><g class=\"subplot xy\"><g class=\"layer-subplot\"><g class=\"shapelayer\"/><g class=\"imagelayer\"/></g><g class=\"minor-gridlayer\"><g class=\"x\"/><g class=\"y\"/></g><g class=\"gridlayer\"><g class=\"x\"/><g class=\"y\"><path class=\"ygrid crisp\" transform=\"translate(0,407.73)\" d=\"M65,0h885\" style=\"stroke: rgb(255, 255, 255); stroke-opacity: 1; stroke-width: 1px;\"/><path class=\"ygrid crisp\" transform=\"translate(0,368.47)\" d=\"M65,0h885\" style=\"stroke: rgb(255, 255, 255); stroke-opacity: 1; stroke-width: 1px;\"/><path class=\"ygrid crisp\" transform=\"translate(0,329.2)\" d=\"M65,0h885\" style=\"stroke: rgb(255, 255, 255); stroke-opacity: 1; stroke-width: 1px;\"/><path class=\"ygrid crisp\" transform=\"translate(0,289.93)\" d=\"M65,0h885\" style=\"stroke: rgb(255, 255, 255); stroke-opacity: 1; stroke-width: 1px;\"/><path class=\"ygrid crisp\" transform=\"translate(0,250.67)\" d=\"M65,0h885\" style=\"stroke: rgb(255, 255, 255); stroke-opacity: 1; stroke-width: 1px;\"/><path class=\"ygrid crisp\" transform=\"translate(0,211.4)\" d=\"M65,0h885\" style=\"stroke: rgb(255, 255, 255); stroke-opacity: 1; stroke-width: 1px;\"/><path class=\"ygrid crisp\" transform=\"translate(0,172.13)\" d=\"M65,0h885\" style=\"stroke: rgb(255, 255, 255); stroke-opacity: 1; stroke-width: 1px;\"/><path class=\"ygrid crisp\" transform=\"translate(0,132.87)\" d=\"M65,0h885\" style=\"stroke: rgb(255, 255, 255); stroke-opacity: 1; stroke-width: 1px;\"/><path class=\"ygrid crisp\" transform=\"translate(0,93.6)\" d=\"M65,0h885\" style=\"stroke: rgb(255, 255, 255); stroke-opacity: 1; stroke-width: 1px;\"/></g></g><g class=\"zerolinelayer\"><path class=\"yzl zl crisp\" transform=\"translate(0,447)\" d=\"M65,0h885\" style=\"stroke: rgb(255, 255, 255); stroke-opacity: 1; stroke-width: 2px;\"/></g><path class=\"xlines-below\"/><path class=\"ylines-below\"/><g class=\"overlines-below\"/><g class=\"xaxislayer-below\"/><g class=\"yaxislayer-below\"/><g class=\"overaxes-below\"/><g class=\"plot\" transform=\"translate(65,80)\" clip-path=\"url(#clip21a859xyplot)\"><g class=\"barlayer mlayer\"><g class=\"trace bars\" shape-rendering=\"crispEdges\" style=\"opacity: 1;\"><g class=\"points\"><g class=\"point\"><path d=\"M0,367V329.97H126.43V367Z\" style=\"vector-effect: none; opacity: 1; stroke-width: 0px; fill: rgb(2, 56, 88); fill-opacity: 1;\"/></g><g class=\"point\"><path d=\"M126.43,367V18.35H252.86V367Z\" style=\"vector-effect: none; opacity: 1; stroke-width: 0px; fill: rgb(2, 56, 88); fill-opacity: 1;\"/></g><g class=\"point\"><path d=\"M252.86,367V198.86H379.29V367Z\" style=\"vector-effect: none; opacity: 1; stroke-width: 0px; fill: rgb(2, 56, 88); fill-opacity: 1;\"/></g><g class=\"point\"><path d=\"M379.29,367V336.65H505.71V367Z\" style=\"vector-effect: none; opacity: 1; stroke-width: 0px; fill: rgb(2, 56, 88); fill-opacity: 1;\"/></g><g class=\"point\"><path d=\"M505.71,367V363.07H632.14V367Z\" style=\"vector-effect: none; opacity: 1; stroke-width: 0px; fill: rgb(2, 56, 88); fill-opacity: 1;\"/></g><g class=\"point\"><path d=\"M632.14,367V366.18H758.57V367Z\" style=\"vector-effect: none; opacity: 1; stroke-width: 0px; fill: rgb(2, 56, 88); fill-opacity: 1;\"/></g><g class=\"point\"><path d=\"M758.57,367V366.92H885V367Z\" style=\"vector-effect: none; opacity: 1; stroke-width: 0px; fill: rgb(2, 56, 88); fill-opacity: 1;\"/></g></g></g></g></g><g class=\"overplot\"/><path class=\"xlines-above crisp\" d=\"M0,0\" style=\"fill: none;\"/><path class=\"ylines-above crisp\" d=\"M0,0\" style=\"fill: none;\"/><g class=\"overlines-above\"/><g class=\"xaxislayer-above\"><g class=\"xtick\"><text text-anchor=\"middle\" x=\"0\" y=\"460\" transform=\"translate(65.13,0)\" style=\"font-family: 'Open Sans', verdana, arial, sans-serif; font-size: 12px; fill: rgb(42, 63, 95); fill-opacity: 1; white-space: pre; opacity: 1;\">0</text></g><g class=\"xtick\"><text text-anchor=\"middle\" x=\"0\" y=\"460\" style=\"font-family: 'Open Sans', verdana, arial, sans-serif; font-size: 12px; fill: rgb(42, 63, 95); fill-opacity: 1; white-space: pre; opacity: 1;\" transform=\"translate(191.56,0)\">500</text></g><g class=\"xtick\"><text text-anchor=\"middle\" x=\"0\" y=\"460\" style=\"font-family: 'Open Sans', verdana, arial, sans-serif; font-size: 12px; fill: rgb(42, 63, 95); fill-opacity: 1; white-space: pre; opacity: 1;\" transform=\"translate(317.98,0)\">1000</text></g><g class=\"xtick\"><text text-anchor=\"middle\" x=\"0\" y=\"460\" style=\"font-family: 'Open Sans', verdana, arial, sans-serif; font-size: 12px; fill: rgb(42, 63, 95); fill-opacity: 1; white-space: pre; opacity: 1;\" transform=\"translate(444.41,0)\">1500</text></g><g class=\"xtick\"><text text-anchor=\"middle\" x=\"0\" y=\"460\" style=\"font-family: 'Open Sans', verdana, arial, sans-serif; font-size: 12px; fill: rgb(42, 63, 95); fill-opacity: 1; white-space: pre; opacity: 1;\" transform=\"translate(570.8399999999999,0)\">2000</text></g><g class=\"xtick\"><text text-anchor=\"middle\" x=\"0\" y=\"460\" style=\"font-family: 'Open Sans', verdana, arial, sans-serif; font-size: 12px; fill: rgb(42, 63, 95); fill-opacity: 1; white-space: pre; opacity: 1;\" transform=\"translate(697.27,0)\">2500</text></g><g class=\"xtick\"><text text-anchor=\"middle\" x=\"0\" y=\"460\" style=\"font-family: 'Open Sans', verdana, arial, sans-serif; font-size: 12px; fill: rgb(42, 63, 95); fill-opacity: 1; white-space: pre; opacity: 1;\" transform=\"translate(823.7,0)\">3000</text></g></g><g class=\"yaxislayer-above\"><g class=\"ytick\"><text text-anchor=\"end\" x=\"64\" y=\"4.199999999999999\" transform=\"translate(0,447)\" style=\"font-family: 'Open Sans', verdana, arial, sans-serif; font-size: 12px; fill: rgb(42, 63, 95); fill-opacity: 1; white-space: pre; opacity: 1;\">0</text></g><g class=\"ytick\"><text text-anchor=\"end\" x=\"64\" y=\"4.199999999999999\" style=\"font-family: 'Open Sans', verdana, arial, sans-serif; font-size: 12px; fill: rgb(42, 63, 95); fill-opacity: 1; white-space: pre; opacity: 1;\" transform=\"translate(0,407.73)\">1000</text></g><g class=\"ytick\"><text text-anchor=\"end\" x=\"64\" y=\"4.199999999999999\" style=\"font-family: 'Open Sans', verdana, arial, sans-serif; font-size: 12px; fill: rgb(42, 63, 95); fill-opacity: 1; white-space: pre; opacity: 1;\" transform=\"translate(0,368.47)\">2000</text></g><g class=\"ytick\"><text text-anchor=\"end\" x=\"64\" y=\"4.199999999999999\" style=\"font-family: 'Open Sans', verdana, arial, sans-serif; font-size: 12px; fill: rgb(42, 63, 95); fill-opacity: 1; white-space: pre; opacity: 1;\" transform=\"translate(0,329.2)\">3000</text></g><g class=\"ytick\"><text text-anchor=\"end\" x=\"64\" y=\"4.199999999999999\" style=\"font-family: 'Open Sans', verdana, arial, sans-serif; font-size: 12px; fill: rgb(42, 63, 95); fill-opacity: 1; white-space: pre; opacity: 1;\" transform=\"translate(0,289.93)\">4000</text></g><g class=\"ytick\"><text text-anchor=\"end\" x=\"64\" y=\"4.199999999999999\" style=\"font-family: 'Open Sans', verdana, arial, sans-serif; font-size: 12px; fill: rgb(42, 63, 95); fill-opacity: 1; white-space: pre; opacity: 1;\" transform=\"translate(0,250.67)\">5000</text></g><g class=\"ytick\"><text text-anchor=\"end\" x=\"64\" y=\"4.199999999999999\" style=\"font-family: 'Open Sans', verdana, arial, sans-serif; font-size: 12px; fill: rgb(42, 63, 95); fill-opacity: 1; white-space: pre; opacity: 1;\" transform=\"translate(0,211.4)\">6000</text></g><g class=\"ytick\"><text text-anchor=\"end\" x=\"64\" y=\"4.199999999999999\" style=\"font-family: 'Open Sans', verdana, arial, sans-serif; font-size: 12px; fill: rgb(42, 63, 95); fill-opacity: 1; white-space: pre; opacity: 1;\" transform=\"translate(0,172.13)\">7000</text></g><g class=\"ytick\"><text text-anchor=\"end\" x=\"64\" y=\"4.199999999999999\" style=\"font-family: 'Open Sans', verdana, arial, sans-serif; font-size: 12px; fill: rgb(42, 63, 95); fill-opacity: 1; white-space: pre; opacity: 1;\" transform=\"translate(0,132.87)\">8000</text></g><g class=\"ytick\"><text text-anchor=\"end\" x=\"64\" y=\"4.199999999999999\" style=\"font-family: 'Open Sans', verdana, arial, sans-serif; font-size: 12px; fill: rgb(42, 63, 95); fill-opacity: 1; white-space: pre; opacity: 1;\" transform=\"translate(0,93.6)\">9000</text></g></g><g class=\"overaxes-above\"/></g></g><g class=\"polarlayer\"/><g class=\"smithlayer\"/><g class=\"ternarylayer\"/><g class=\"geolayer\"/><g class=\"funnelarealayer\"/><g class=\"pielayer\"/><g class=\"iciclelayer\"/><g class=\"treemaplayer\"/><g class=\"sunburstlayer\"/><g class=\"glimages\"/><defs id=\"topdefs-21a859\"><g class=\"clips\"/></defs><g class=\"layer-above\"><g class=\"imagelayer\"/><g class=\"shapelayer\"/></g><g class=\"infolayer\"><g class=\"g-gtitle\"><text class=\"gtitle\" x=\"310\" y=\"25\" text-anchor=\"middle\" dy=\"0.7em\" style=\"font-family: 'Times New Roman'; font-size: 26px; fill: rgb(0, 0, 0); opacity: 1; font-weight: normal; white-space: pre;\">Distribution of count of CD8 at 20 weeks</text></g><g class=\"g-xtitle\"><text class=\"xtitle\" x=\"507.5\" y=\"487.3\" text-anchor=\"middle\" style=\"font-family: 'Open Sans', verdana, arial, sans-serif; font-size: 14px; fill: rgb(42, 63, 95); opacity: 1; font-weight: normal; white-space: pre;\">Count of CD8 at 20 weeks</text></g><g class=\"g-ytitle\" transform=\"translate(0.0029296875,0)\"><text class=\"ytitle\" transform=\"rotate(-90,12.996875000000003,263.5)\" x=\"12.996875000000003\" y=\"263.5\" text-anchor=\"middle\" style=\"font-family: 'Open Sans', verdana, arial, sans-serif; font-size: 14px; fill: rgb(42, 63, 95); opacity: 1; font-weight: normal; white-space: pre;\">Count of patients</text></g></g></svg>"
      ]
     },
     "metadata": {},
     "output_type": "display_data"
    }
   ],
   "source": [
    "palette = cl.scales['9']['seq']['PuBu']\n",
    "\n",
    "fig = go.Figure(data=[go.Histogram(\n",
    "    x=df['cd820'],\n",
    "    marker=dict(color=palette[8]),  # Use the second color from the palette\n",
    "    nbinsx=10\n",
    ")])\n",
    "\n",
    "# Update layout\n",
    "fig.update_layout(\n",
    "    title_text=\"Distribution of count of CD4\",\n",
    "    title_font_size=24,\n",
    "    title_font_family=\"Times New Roman\",\n",
    "    title_font_color=\"#000000\",\n",
    "    paper_bgcolor='#ffffff',\n",
    "    plot_bgcolor='#ffffff',\n",
    "    xaxis=dict(title=\"Count of CD8 at 20 weeks\"),\n",
    "    yaxis=dict(title=\"Count of patients\"),\n",
    ")\n",
    "\n",
    "# Set title properties\n",
    "fig.update_layout(\n",
    "    title={\n",
    "        'text': \"Distribution of count of CD8 at 20 weeks\",\n",
    "        'y':0.95,\n",
    "        'x':0.31,\n",
    "        'xanchor': 'center',\n",
    "        'yanchor': 'top'},\n",
    "    title_font_size=26,\n",
    "    margin=dict(l=50, r=50, t=80, b=50)\n",
    ")\n",
    "\n",
    "# Set the width of the figure\n",
    "fig.update_layout(width=1000)\n",
    "\n",
    "# Show the histogram\n",
    "fig.show('svg')"
   ]
  },
  {
   "cell_type": "markdown",
   "id": "63b20cfc",
   "metadata": {
    "papermill": {
     "duration": 0.0412,
     "end_time": "2024-06-02T14:38:15.877684",
     "exception": false,
     "start_time": "2024-06-02T14:38:15.836484",
     "status": "completed"
    },
    "tags": []
   },
   "source": [
    "*There is an increase in the width of the bar at 9000 patients which means that most of the patients experienced an increase in their count of CD8 cells*"
   ]
  },
  {
   "cell_type": "markdown",
   "id": "758a7942",
   "metadata": {
    "papermill": {
     "duration": 0.043478,
     "end_time": "2024-06-02T14:38:15.962389",
     "exception": false,
     "start_time": "2024-06-02T14:38:15.918911",
     "status": "completed"
    },
    "tags": []
   },
   "source": [
    " ----------------------------------------------------------------------------------------------------------------------------------------------------------"
   ]
  },
  {
   "cell_type": "markdown",
   "id": "85642598",
   "metadata": {
    "papermill": {
     "duration": 0.042364,
     "end_time": "2024-06-02T14:38:16.047691",
     "exception": false,
     "start_time": "2024-06-02T14:38:16.005327",
     "status": "completed"
    },
    "tags": []
   },
   "source": [
    "<a id = '2'></a>\n",
    "##  <div style=\"text-align: center; border:#e6e6fa; border-width:1.5px; border-style:solid; padding: 14px;line-height: 0.5;\"> <b>STATISTICAL TESTS</b></div>\n"
   ]
  },
  {
   "cell_type": "markdown",
   "id": "2d5957df",
   "metadata": {
    "papermill": {
     "duration": 0.042154,
     "end_time": "2024-06-02T14:38:16.133409",
     "exception": false,
     "start_time": "2024-06-02T14:38:16.091255",
     "status": "completed"
    },
    "tags": []
   },
   "source": [
    "### *We need to determine the most important variable (highest impact on the target variable) in order to go ahead with the bivariate analysis*\n",
    "\n"
   ]
  },
  {
   "cell_type": "code",
   "execution_count": 56,
   "id": "196d9312",
   "metadata": {
    "execution": {
     "iopub.execute_input": "2024-06-02T14:38:16.221910Z",
     "iopub.status.busy": "2024-06-02T14:38:16.220782Z",
     "iopub.status.idle": "2024-06-02T14:38:16.228148Z",
     "shell.execute_reply": "2024-06-02T14:38:16.227070Z"
    },
    "papermill": {
     "duration": 0.054741,
     "end_time": "2024-06-02T14:38:16.230416",
     "exception": false,
     "start_time": "2024-06-02T14:38:16.175675",
     "status": "completed"
    },
    "tags": []
   },
   "outputs": [
    {
     "data": {
      "text/plain": [
       "Index(['time', 'trt', 'age', 'wtkg', 'hemo', 'homo', 'drugs', 'karnof',\n",
       "       'oprior', 'z30', 'preanti', 'race', 'gender', 'str2', 'strat',\n",
       "       'symptom', 'treat', 'offtrt', 'cd40', 'cd420', 'cd80', 'cd820',\n",
       "       'infected'],\n",
       "      dtype='object')"
      ]
     },
     "execution_count": 56,
     "metadata": {},
     "output_type": "execute_result"
    }
   ],
   "source": [
    "df.columns"
   ]
  },
  {
   "cell_type": "markdown",
   "id": "59dc0483",
   "metadata": {
    "papermill": {
     "duration": 0.042758,
     "end_time": "2024-06-02T14:38:16.316352",
     "exception": false,
     "start_time": "2024-06-02T14:38:16.273594",
     "status": "completed"
    },
    "tags": []
   },
   "source": [
    "## **Chi Square-** *are the categorical variables and target variable (infected) associated?*\n",
    "\n",
    "\n",
    "H0 : The categorical variable is not associated \n",
    "\n",
    "H1 : The cateogircal variable is associated with the target variable\n"
   ]
  },
  {
   "cell_type": "markdown",
   "id": "5dab2a0a",
   "metadata": {
    "papermill": {
     "duration": 0.042443,
     "end_time": "2024-06-02T14:38:16.401399",
     "exception": false,
     "start_time": "2024-06-02T14:38:16.358956",
     "status": "completed"
    },
    "tags": []
   },
   "source": [
    "#### Categorical Variables with more than two categories:\n",
    "\n",
    "- trt\n",
    "- strat\n"
   ]
  },
  {
   "cell_type": "code",
   "execution_count": 57,
   "id": "8062e417",
   "metadata": {
    "execution": {
     "iopub.execute_input": "2024-06-02T14:38:16.543773Z",
     "iopub.status.busy": "2024-06-02T14:38:16.542956Z",
     "iopub.status.idle": "2024-06-02T14:38:16.573924Z",
     "shell.execute_reply": "2024-06-02T14:38:16.572307Z"
    },
    "papermill": {
     "duration": 0.132568,
     "end_time": "2024-06-02T14:38:16.576811",
     "exception": false,
     "start_time": "2024-06-02T14:38:16.444243",
     "status": "completed"
    },
    "tags": []
   },
   "outputs": [
    {
     "name": "stdout",
     "output_type": "stream",
     "text": [
      "trt --- 1.9501007076821088e-11\n",
      "strat --- 1.157728555915725e-203\n"
     ]
    }
   ],
   "source": [
    "for i in ['trt','strat']:\n",
    "    chi2, pval,_,_ = chi2_contingency(pd.crosstab(df[i], df['infected']))\n",
    "    print(i, '---', pval)"
   ]
  },
  {
   "cell_type": "markdown",
   "id": "f81ba224",
   "metadata": {
    "papermill": {
     "duration": 0.045104,
     "end_time": "2024-06-02T14:38:16.667231",
     "exception": false,
     "start_time": "2024-06-02T14:38:16.622127",
     "status": "completed"
    },
    "tags": []
   },
   "source": [
    "### Conclusion\n",
    "\n",
    "*As the p-value is less than 0.05, we will `reject` the null hypothesis hence trt and strat are associated with the target variable*"
   ]
  },
  {
   "cell_type": "markdown",
   "id": "8112d840",
   "metadata": {
    "papermill": {
     "duration": 0.041151,
     "end_time": "2024-06-02T14:38:16.750234",
     "exception": false,
     "start_time": "2024-06-02T14:38:16.709083",
     "status": "completed"
    },
    "tags": []
   },
   "source": [
    " ----------------------------------------------------------------------------------------------------------------------------------------------------------"
   ]
  },
  {
   "cell_type": "markdown",
   "id": "b807467f",
   "metadata": {
    "papermill": {
     "duration": 0.041752,
     "end_time": "2024-06-02T14:38:16.834902",
     "exception": false,
     "start_time": "2024-06-02T14:38:16.793150",
     "status": "completed"
    },
    "tags": []
   },
   "source": [
    "## **Fisher's Exact Test-**\n",
    "\n",
    "H0 : The categorical variable is not associated \n",
    "\n",
    "H1 : The cateogircal variable is associated with the target variable\n"
   ]
  },
  {
   "cell_type": "markdown",
   "id": "58b495b6",
   "metadata": {
    "papermill": {
     "duration": 0.041196,
     "end_time": "2024-06-02T14:38:16.917501",
     "exception": false,
     "start_time": "2024-06-02T14:38:16.876305",
     "status": "completed"
    },
    "tags": []
   },
   "source": [
    "#### Categorical Variables with only two categories:\n",
    "\n",
    "\n",
    "- hemo\n",
    "- homo\n",
    "- drugs\n",
    "- oprio\n",
    "- z30 \n",
    "- race\n",
    "- gender\n",
    "- str2\n",
    "- symptom\n",
    "- treat\n",
    "- offtrt"
   ]
  },
  {
   "cell_type": "code",
   "execution_count": 58,
   "id": "c73a694d",
   "metadata": {
    "execution": {
     "iopub.execute_input": "2024-06-02T14:38:17.003451Z",
     "iopub.status.busy": "2024-06-02T14:38:17.003060Z",
     "iopub.status.idle": "2024-06-02T14:38:17.021800Z",
     "shell.execute_reply": "2024-06-02T14:38:17.020660Z"
    },
    "papermill": {
     "duration": 0.065207,
     "end_time": "2024-06-02T14:38:17.024119",
     "exception": false,
     "start_time": "2024-06-02T14:38:16.958912",
     "status": "completed"
    },
    "tags": []
   },
   "outputs": [
    {
     "data": {
      "text/html": [
       "<div>\n",
       "<style scoped>\n",
       "    .dataframe tbody tr th:only-of-type {\n",
       "        vertical-align: middle;\n",
       "    }\n",
       "\n",
       "    .dataframe tbody tr th {\n",
       "        vertical-align: top;\n",
       "    }\n",
       "\n",
       "    .dataframe thead th {\n",
       "        text-align: right;\n",
       "    }\n",
       "</style>\n",
       "<table border=\"1\" class=\"dataframe\">\n",
       "  <thead>\n",
       "    <tr style=\"text-align: right;\">\n",
       "      <th></th>\n",
       "      <th>time</th>\n",
       "      <th>trt</th>\n",
       "      <th>age</th>\n",
       "      <th>wtkg</th>\n",
       "      <th>hemo</th>\n",
       "      <th>homo</th>\n",
       "      <th>drugs</th>\n",
       "      <th>karnof</th>\n",
       "      <th>oprior</th>\n",
       "      <th>z30</th>\n",
       "      <th>...</th>\n",
       "      <th>str2</th>\n",
       "      <th>strat</th>\n",
       "      <th>symptom</th>\n",
       "      <th>treat</th>\n",
       "      <th>offtrt</th>\n",
       "      <th>cd40</th>\n",
       "      <th>cd420</th>\n",
       "      <th>cd80</th>\n",
       "      <th>cd820</th>\n",
       "      <th>infected</th>\n",
       "    </tr>\n",
       "  </thead>\n",
       "  <tbody>\n",
       "    <tr>\n",
       "      <th>0</th>\n",
       "      <td>1108</td>\n",
       "      <td>1</td>\n",
       "      <td>37</td>\n",
       "      <td>88.11364</td>\n",
       "      <td>0</td>\n",
       "      <td>1</td>\n",
       "      <td>1</td>\n",
       "      <td>100</td>\n",
       "      <td>0</td>\n",
       "      <td>1</td>\n",
       "      <td>...</td>\n",
       "      <td>1</td>\n",
       "      <td>1</td>\n",
       "      <td>0</td>\n",
       "      <td>0</td>\n",
       "      <td>0</td>\n",
       "      <td>389</td>\n",
       "      <td>320</td>\n",
       "      <td>734</td>\n",
       "      <td>737</td>\n",
       "      <td>1</td>\n",
       "    </tr>\n",
       "    <tr>\n",
       "      <th>1</th>\n",
       "      <td>1079</td>\n",
       "      <td>0</td>\n",
       "      <td>43</td>\n",
       "      <td>66.77075</td>\n",
       "      <td>0</td>\n",
       "      <td>0</td>\n",
       "      <td>0</td>\n",
       "      <td>100</td>\n",
       "      <td>0</td>\n",
       "      <td>1</td>\n",
       "      <td>...</td>\n",
       "      <td>0</td>\n",
       "      <td>2</td>\n",
       "      <td>0</td>\n",
       "      <td>1</td>\n",
       "      <td>1</td>\n",
       "      <td>318</td>\n",
       "      <td>432</td>\n",
       "      <td>912</td>\n",
       "      <td>1213</td>\n",
       "      <td>0</td>\n",
       "    </tr>\n",
       "    <tr>\n",
       "      <th>2</th>\n",
       "      <td>492</td>\n",
       "      <td>1</td>\n",
       "      <td>34</td>\n",
       "      <td>82.91725</td>\n",
       "      <td>0</td>\n",
       "      <td>0</td>\n",
       "      <td>0</td>\n",
       "      <td>90</td>\n",
       "      <td>0</td>\n",
       "      <td>1</td>\n",
       "      <td>...</td>\n",
       "      <td>1</td>\n",
       "      <td>2</td>\n",
       "      <td>0</td>\n",
       "      <td>1</td>\n",
       "      <td>1</td>\n",
       "      <td>326</td>\n",
       "      <td>524</td>\n",
       "      <td>660</td>\n",
       "      <td>835</td>\n",
       "      <td>0</td>\n",
       "    </tr>\n",
       "    <tr>\n",
       "      <th>3</th>\n",
       "      <td>1191</td>\n",
       "      <td>1</td>\n",
       "      <td>41</td>\n",
       "      <td>98.91817</td>\n",
       "      <td>0</td>\n",
       "      <td>0</td>\n",
       "      <td>0</td>\n",
       "      <td>81</td>\n",
       "      <td>0</td>\n",
       "      <td>1</td>\n",
       "      <td>...</td>\n",
       "      <td>1</td>\n",
       "      <td>3</td>\n",
       "      <td>0</td>\n",
       "      <td>1</td>\n",
       "      <td>0</td>\n",
       "      <td>318</td>\n",
       "      <td>232</td>\n",
       "      <td>1131</td>\n",
       "      <td>982</td>\n",
       "      <td>1</td>\n",
       "    </tr>\n",
       "    <tr>\n",
       "      <th>4</th>\n",
       "      <td>1141</td>\n",
       "      <td>3</td>\n",
       "      <td>47</td>\n",
       "      <td>53.61717</td>\n",
       "      <td>0</td>\n",
       "      <td>1</td>\n",
       "      <td>0</td>\n",
       "      <td>100</td>\n",
       "      <td>0</td>\n",
       "      <td>0</td>\n",
       "      <td>...</td>\n",
       "      <td>0</td>\n",
       "      <td>1</td>\n",
       "      <td>0</td>\n",
       "      <td>1</td>\n",
       "      <td>0</td>\n",
       "      <td>280</td>\n",
       "      <td>337</td>\n",
       "      <td>515</td>\n",
       "      <td>679</td>\n",
       "      <td>0</td>\n",
       "    </tr>\n",
       "  </tbody>\n",
       "</table>\n",
       "<p>5 rows × 23 columns</p>\n",
       "</div>"
      ],
      "text/plain": [
       "   time  trt  age      wtkg  hemo  homo  drugs  karnof  oprior  z30  ...  \\\n",
       "0  1108    1   37  88.11364     0     1      1     100       0    1  ...   \n",
       "1  1079    0   43  66.77075     0     0      0     100       0    1  ...   \n",
       "2   492    1   34  82.91725     0     0      0      90       0    1  ...   \n",
       "3  1191    1   41  98.91817     0     0      0      81       0    1  ...   \n",
       "4  1141    3   47  53.61717     0     1      0     100       0    0  ...   \n",
       "\n",
       "   str2  strat  symptom  treat  offtrt  cd40  cd420  cd80  cd820  infected  \n",
       "0     1      1        0      0       0   389    320   734    737         1  \n",
       "1     0      2        0      1       1   318    432   912   1213         0  \n",
       "2     1      2        0      1       1   326    524   660    835         0  \n",
       "3     1      3        0      1       0   318    232  1131    982         1  \n",
       "4     0      1        0      1       0   280    337   515    679         0  \n",
       "\n",
       "[5 rows x 23 columns]"
      ]
     },
     "execution_count": 58,
     "metadata": {},
     "output_type": "execute_result"
    }
   ],
   "source": [
    "df.head()"
   ]
  },
  {
   "cell_type": "code",
   "execution_count": 59,
   "id": "21cff691",
   "metadata": {
    "execution": {
     "iopub.execute_input": "2024-06-02T14:38:17.110711Z",
     "iopub.status.busy": "2024-06-02T14:38:17.110322Z",
     "iopub.status.idle": "2024-06-02T14:38:17.229684Z",
     "shell.execute_reply": "2024-06-02T14:38:17.228023Z"
    },
    "papermill": {
     "duration": 0.165941,
     "end_time": "2024-06-02T14:38:17.232599",
     "exception": false,
     "start_time": "2024-06-02T14:38:17.066658",
     "status": "completed"
    },
    "tags": []
   },
   "outputs": [
    {
     "name": "stdout",
     "output_type": "stream",
     "text": [
      "hemo\n",
      "Odds Ratio: 1.4470651843341331\n",
      "p-value: 0.0001317099806578733\n",
      " \n",
      "homo\n",
      "Odds Ratio: 1.0169606038482826\n",
      "p-value: 0.6560094548498128\n",
      " \n",
      "drugs\n",
      "Odds Ratio: 0.8387011799461902\n",
      "p-value: 0.001133159434846974\n",
      " \n",
      "oprior\n",
      "Odds Ratio: 1.4422702478101008\n",
      "p-value: 2.223815087164476e-05\n",
      " \n",
      "z30\n",
      "Odds Ratio: 3.335555866350079\n",
      "p-value: 6.264721818022926e-198\n",
      " \n",
      "race\n",
      "Odds Ratio: 0.8414442645143917\n",
      "p-value: 9.339888785330816e-06\n",
      " \n",
      "gender\n",
      "Odds Ratio: 0.8799680209250363\n",
      "p-value: 0.0099752769456843\n",
      " \n",
      "str2\n",
      "Odds Ratio: 2.992818586366539\n",
      "p-value: 1.206281254862089e-186\n",
      " \n",
      "symptom\n",
      "Odds Ratio: 1.2758447917249203\n",
      "p-value: 6.420600603471285e-05\n",
      " \n",
      "treat\n",
      "Odds Ratio: 0.8382570643445821\n",
      "p-value: 9.252858834482293e-06\n",
      " \n",
      "offtrt\n",
      "Odds Ratio: 0.882369391820803\n",
      "p-value: 0.0008437716544743223\n",
      " \n"
     ]
    }
   ],
   "source": [
    "for i in ['hemo', 'homo', 'drugs','oprior', 'z30', 'race','gender','str2','symptom','treat','offtrt']:\n",
    "\n",
    "    hemo_con = pd.crosstab(df[i], df['infected'])\n",
    "    odds_ratio, p_value = fisher_exact(hemo_con)\n",
    "\n",
    "    print(i)\n",
    "    print(\"Odds Ratio:\", odds_ratio)\n",
    "    print(\"p-value:\", p_value)\n",
    "    print(\" \") \n"
   ]
  },
  {
   "cell_type": "markdown",
   "id": "7c483722",
   "metadata": {
    "papermill": {
     "duration": 0.041238,
     "end_time": "2024-06-02T14:38:17.317137",
     "exception": false,
     "start_time": "2024-06-02T14:38:17.275899",
     "status": "completed"
    },
    "tags": []
   },
   "source": [
    "### Conclusion:\n",
    "\n",
    "1) p-value:\n",
    " - *`hemo`,`drugs`,`gender`, and `offtrt` have a p-value less than 0.05 hence we reject the null hypothesis and state that there is `an association of these variables with the target variable`*\n",
    " \n",
    "2) odds ratio: \n",
    " - *`hemo`, `homo`, `oprior`, `z30`, `str2`,and `symptom`* have an odds ratio greater than 1, hence we can conclude that odds of being \"infected\" are higher in one group (e.g., individuals with certain levels of a variable) compared to another group (e.g., individuals with different levels of that variable)."
   ]
  },
  {
   "cell_type": "markdown",
   "id": "9888cb91",
   "metadata": {
    "papermill": {
     "duration": 0.041374,
     "end_time": "2024-06-02T14:38:17.401136",
     "exception": false,
     "start_time": "2024-06-02T14:38:17.359762",
     "status": "completed"
    },
    "tags": []
   },
   "source": [
    " ----------------------------------------------------------------------------------------------------------------------------------------------------------"
   ]
  },
  {
   "cell_type": "markdown",
   "id": "c3d6fe39",
   "metadata": {
    "papermill": {
     "duration": 0.041328,
     "end_time": "2024-06-02T14:38:17.484189",
     "exception": false,
     "start_time": "2024-06-02T14:38:17.442861",
     "status": "completed"
    },
    "tags": []
   },
   "source": [
    "## **VIF-**\n",
    "\n",
    "Variance Inflation Factor (VIF) is a measure used to detect the presence and severity of multicollinearity in regression analysis. The Variance Inflation Factor (VIF) is a measure used to detect multicollinearity in regression analysis. Multicollinearity occurs when two or more predictor variables in a model are highly correlated, which can make it difficult to determine the individual effect of each predictor on the dependent variable."
   ]
  },
  {
   "cell_type": "markdown",
   "id": "030b8f02",
   "metadata": {
    "papermill": {
     "duration": 0.042603,
     "end_time": "2024-06-02T14:38:17.568857",
     "exception": false,
     "start_time": "2024-06-02T14:38:17.526254",
     "status": "completed"
    },
    "tags": []
   },
   "source": [
    "#### Numerical Variables\n",
    "\n",
    "\n",
    "- time\n",
    "- trt\n",
    "- age\n",
    "- wtkg\n",
    "- preanti \n",
    "- cd40\n",
    "- cd420\n",
    "- cd80\n",
    "- cd820"
   ]
  },
  {
   "cell_type": "code",
   "execution_count": 60,
   "id": "305b4da2",
   "metadata": {
    "execution": {
     "iopub.execute_input": "2024-06-02T14:38:17.655907Z",
     "iopub.status.busy": "2024-06-02T14:38:17.655036Z",
     "iopub.status.idle": "2024-06-02T14:38:17.820594Z",
     "shell.execute_reply": "2024-06-02T14:38:17.819183Z"
    },
    "papermill": {
     "duration": 0.213526,
     "end_time": "2024-06-02T14:38:17.824656",
     "exception": false,
     "start_time": "2024-06-02T14:38:17.611130",
     "status": "completed"
    },
    "tags": []
   },
   "outputs": [
    {
     "name": "stdout",
     "output_type": "stream",
     "text": [
      "  Variable        VIF\n",
      "0    const  98.554239\n",
      "1     time   1.012961\n",
      "2      trt   1.004925\n",
      "3      age   1.019197\n",
      "4     wtkg   1.007254\n",
      "5  preanti   1.091317\n",
      "6     cd40   1.047175\n",
      "7    cd420   1.086554\n",
      "8     cd80   1.002678\n",
      "9    cd820   1.002625\n"
     ]
    }
   ],
   "source": [
    "vif_data = df[['time', 'trt', 'age', 'wtkg', 'preanti', 'cd40', 'cd420', 'cd80', 'cd820']]\n",
    "\n",
    "# Adding a constant column for the intercept\n",
    "X = sm.add_constant(vif_data)\n",
    "\n",
    "# Calculate VIF for each feature\n",
    "vif = pd.DataFrame()\n",
    "vif[\"Variable\"] = X.columns\n",
    "vif[\"VIF\"] = [variance_inflation_factor(X.values, i) for i in range(X.shape[1])]\n",
    "\n",
    "# Display VIF values\n",
    "print(vif)"
   ]
  },
  {
   "cell_type": "markdown",
   "id": "c150629c",
   "metadata": {
    "papermill": {
     "duration": 0.054483,
     "end_time": "2024-06-02T14:38:17.956793",
     "exception": false,
     "start_time": "2024-06-02T14:38:17.902310",
     "status": "completed"
    },
    "tags": []
   },
   "source": [
    "***Conclusion:***\n",
    "\n",
    "*The numerical variables are independent of each other*"
   ]
  },
  {
   "cell_type": "markdown",
   "id": "8b69248f",
   "metadata": {
    "papermill": {
     "duration": 0.041709,
     "end_time": "2024-06-02T14:38:18.040620",
     "exception": false,
     "start_time": "2024-06-02T14:38:17.998911",
     "status": "completed"
    },
    "tags": []
   },
   "source": [
    "## **Logistic Regression-**\n"
   ]
  },
  {
   "cell_type": "code",
   "execution_count": 61,
   "id": "af4bf993",
   "metadata": {
    "execution": {
     "iopub.execute_input": "2024-06-02T14:38:18.128276Z",
     "iopub.status.busy": "2024-06-02T14:38:18.127812Z",
     "iopub.status.idle": "2024-06-02T14:38:18.312843Z",
     "shell.execute_reply": "2024-06-02T14:38:18.311552Z"
    },
    "papermill": {
     "duration": 0.232861,
     "end_time": "2024-06-02T14:38:18.317143",
     "exception": false,
     "start_time": "2024-06-02T14:38:18.084282",
     "status": "completed"
    },
    "tags": []
   },
   "outputs": [
    {
     "name": "stdout",
     "output_type": "stream",
     "text": [
      "Optimization terminated successfully.\n",
      "         Current function value: 0.580922\n",
      "         Iterations 5\n",
      "                           Logit Regression Results                           \n",
      "==============================================================================\n",
      "Dep. Variable:               infected   No. Observations:                15000\n",
      "Model:                          Logit   Df Residuals:                    14991\n",
      "Method:                           MLE   Df Model:                            8\n",
      "Date:                Sun, 02 Jun 2024   Pseudo R-squ.:                 0.06012\n",
      "Time:                        14:38:18   Log-Likelihood:                -8713.8\n",
      "converged:                       True   LL-Null:                       -9271.3\n",
      "Covariance Type:            nonrobust   LLR p-value:                2.370e-235\n",
      "==============================================================================\n",
      "                 coef    std err          z      P>|z|      [0.025      0.975]\n",
      "------------------------------------------------------------------------------\n",
      "const          1.3635      0.183      7.461      0.000       1.005       1.722\n",
      "time          -0.0006   5.86e-05    -10.469      0.000      -0.001      -0.000\n",
      "age            0.0038      0.003      1.464      0.143      -0.001       0.009\n",
      "wtkg          -0.0037      0.002     -2.402      0.016      -0.007      -0.001\n",
      "preanti        0.0007   4.55e-05     15.559      0.000       0.001       0.001\n",
      "cd40          -0.0021      0.000    -11.168      0.000      -0.003      -0.002\n",
      "cd420         -0.0023      0.000    -15.781      0.000      -0.003      -0.002\n",
      "cd80       -1.731e-05   3.78e-05     -0.458      0.647   -9.14e-05    5.68e-05\n",
      "cd820         -0.0001    5.5e-05     -1.933      0.053      -0.000     1.5e-06\n",
      "==============================================================================\n"
     ]
    }
   ],
   "source": [
    "X = sm.add_constant(df[['time', 'age', 'wtkg', 'preanti', 'cd40', 'cd420', 'cd80', 'cd820']])\n",
    "y = df['infected']\n",
    "\n",
    "# Fit logistic regression model\n",
    "model = sm.Logit(y, X).fit()\n",
    "\n",
    "# Print the summary\n",
    "print(model.summary())"
   ]
  },
  {
   "cell_type": "markdown",
   "id": "18812a7b",
   "metadata": {
    "papermill": {
     "duration": 0.055544,
     "end_time": "2024-06-02T14:38:18.451483",
     "exception": false,
     "start_time": "2024-06-02T14:38:18.395939",
     "status": "completed"
    },
    "tags": []
   },
   "source": [
    "***Conclusion***\n",
    "\n",
    "- *Several predictors (time, wtkg, preanti, cd40 and cd420) are statistically significant, indicating they have a meaningful association with the probability of being infected.*\n",
    "\n",
    "- *Other predictors (age, cd80, and cd820) are not statistically significant at the conventional 0.05 level, suggesting their individual contributions to the model may not be substantial.* \n",
    "\n",
    "- *The model itself is highly significant, suggesting that, collectively, the predictors explain a significant portion of the variability in the target variable.*"
   ]
  },
  {
   "cell_type": "markdown",
   "id": "7480b871",
   "metadata": {
    "papermill": {
     "duration": 0.042794,
     "end_time": "2024-06-02T14:38:18.536280",
     "exception": false,
     "start_time": "2024-06-02T14:38:18.493486",
     "status": "completed"
    },
    "tags": []
   },
   "source": [
    "#### *We will consider `trt`, `strat`, `hemo`, `drugs`, `gender`, `offtrt`, `time`, `wtkg`, `preanti`, `cd40` , and `cd420` for further analysis*"
   ]
  },
  {
   "cell_type": "markdown",
   "id": "97d4de63",
   "metadata": {
    "papermill": {
     "duration": 0.041797,
     "end_time": "2024-06-02T14:38:18.620358",
     "exception": false,
     "start_time": "2024-06-02T14:38:18.578561",
     "status": "completed"
    },
    "tags": []
   },
   "source": [
    " ----------------------------------------------------------------------------------------------------------------------------------------------------------"
   ]
  },
  {
   "cell_type": "markdown",
   "id": "e01f3669",
   "metadata": {
    "papermill": {
     "duration": 0.041971,
     "end_time": "2024-06-02T14:38:18.706856",
     "exception": false,
     "start_time": "2024-06-02T14:38:18.664885",
     "status": "completed"
    },
    "tags": []
   },
   "source": [
    "<a id = '3'></a>\n",
    "##  <div style=\"text-align: center; border:#e6e6fa; border-width:1.5px; border-style:solid; padding: 14px;line-height: 0.5;\"> <b>BIVARIATE ANALYSIS</b></div>\n"
   ]
  },
  {
   "cell_type": "markdown",
   "id": "c00963e3",
   "metadata": {
    "papermill": {
     "duration": 0.042662,
     "end_time": "2024-06-02T14:38:18.792472",
     "exception": false,
     "start_time": "2024-06-02T14:38:18.749810",
     "status": "completed"
    },
    "tags": []
   },
   "source": [
    "* #  trt (Treatment indicator)"
   ]
  },
  {
   "cell_type": "code",
   "execution_count": 62,
   "id": "01e59fdc",
   "metadata": {
    "execution": {
     "iopub.execute_input": "2024-06-02T14:38:18.882786Z",
     "iopub.status.busy": "2024-06-02T14:38:18.882362Z",
     "iopub.status.idle": "2024-06-02T14:38:18.889375Z",
     "shell.execute_reply": "2024-06-02T14:38:18.888261Z"
    },
    "papermill": {
     "duration": 0.054702,
     "end_time": "2024-06-02T14:38:18.891594",
     "exception": false,
     "start_time": "2024-06-02T14:38:18.836892",
     "status": "completed"
    },
    "tags": []
   },
   "outputs": [
    {
     "data": {
      "text/plain": [
       "Index(['time', 'trt', 'age', 'wtkg', 'hemo', 'homo', 'drugs', 'karnof',\n",
       "       'oprior', 'z30', 'preanti', 'race', 'gender', 'str2', 'strat',\n",
       "       'symptom', 'treat', 'offtrt', 'cd40', 'cd420', 'cd80', 'cd820',\n",
       "       'infected'],\n",
       "      dtype='object')"
      ]
     },
     "execution_count": 62,
     "metadata": {},
     "output_type": "execute_result"
    }
   ],
   "source": [
    "df.columns"
   ]
  },
  {
   "cell_type": "markdown",
   "id": "cd755550",
   "metadata": {
    "papermill": {
     "duration": 0.044151,
     "end_time": "2024-06-02T14:38:18.979771",
     "exception": false,
     "start_time": "2024-06-02T14:38:18.935620",
     "status": "completed"
    },
    "tags": []
   },
   "source": [
    "## trt vs time\n",
    "\n",
    "***Conclusion***\n",
    "\n",
    "- *Treatment 1 and 2 seems pretty effective in this regard because among all the 4 treatments, 1 and 2 have the lowest range of time to failure. The range (155- - 1231) in itself is pretty huge, but compared to the other treatments it is the lowest*"
   ]
  },
  {
   "cell_type": "code",
   "execution_count": 63,
   "id": "2f0246d5",
   "metadata": {
    "execution": {
     "iopub.execute_input": "2024-06-02T14:38:19.072377Z",
     "iopub.status.busy": "2024-06-02T14:38:19.071956Z",
     "iopub.status.idle": "2024-06-02T14:38:21.162757Z",
     "shell.execute_reply": "2024-06-02T14:38:21.161477Z"
    },
    "papermill": {
     "duration": 2.140242,
     "end_time": "2024-06-02T14:38:21.165015",
     "exception": false,
     "start_time": "2024-06-02T14:38:19.024773",
     "status": "completed"
    },
    "tags": []
   },
   "outputs": [
    {
     "data": {
      "image/png": "[encoded data removed]"
     },
     "metadata": {},
     "output_type": "display_data"
    }
   ],
   "source": [
    "scatter_trace = go.Scatter(\n",
    "    x=df['trt'],\n",
    "    y=df['time'],\n",
    "    mode='markers',\n",
    "    marker=dict(\n",
    "        color=df['trt'],\n",
    "        colorscale='Viridis',  # Optional: Choose a colorscale\n",
    "        showscale=True\n",
    "    )\n",
    ")\n",
    "''\n",
    "# Set up the layout\n",
    "layout = go.Layout(\n",
    "    width=1000,\n",
    "    height=600,\n",
    "    xaxis=dict(title='Treatment indicator'),\n",
    "    yaxis=dict(title='Time to failure '),\n",
    "    title='Scatter Plot of treatment indicator vs. Time to failure'\n",
    ")\n",
    "\n",
    "fig.update_layout(\n",
    "    title=\"Scatter Plot of Treatment Indicator vs. Time to Failure\",\n",
    "    title_font_family=\"Times New Roman\",\n",
    "    title_font_color=\"#000000\",\n",
    "    paper_bgcolor='#ffffff',\n",
    "    plot_bgcolor='#ffffff',\n",
    "    xaxis=dict(title='Treatment Indicator'),\n",
    "    yaxis=dict(title='Time to Failure')\n",
    ")\n",
    "\n",
    "\n",
    "fig.update_layout(width=1000)\n",
    "\n",
    "# Create the figure\n",
    "fig = go.Figure(data=[scatter_trace], layout=layout)\n",
    "\n",
    "# Display the figure\n",
    "fig.show('png')"
   ]
  },
  {
   "cell_type": "markdown",
   "id": "343c0874",
   "metadata": {
    "papermill": {
     "duration": 0.042799,
     "end_time": "2024-06-02T14:38:21.253098",
     "exception": false,
     "start_time": "2024-06-02T14:38:21.210299",
     "status": "completed"
    },
    "tags": []
   },
   "source": [
    "*When the patient was administered treatment 0 (ZDV only), then the time to failure varies between 205 to 1231. Sometimes, it is scattered between 68 to 165*\n",
    "*This indicates that the time until the treatment stops being effective (i.e., treatment failure) for these patients lies between 205 and 1231 units of time*"
   ]
  },
  {
   "cell_type": "markdown",
   "id": "c9bb604b",
   "metadata": {
    "papermill": {
     "duration": 0.043215,
     "end_time": "2024-06-02T14:38:21.340029",
     "exception": false,
     "start_time": "2024-06-02T14:38:21.296814",
     "status": "completed"
    },
    "tags": []
   },
   "source": [
    "## trt vs age\n",
    "\n",
    "***Conclusion***\n",
    "\n",
    "- *Treatment 2 (ZDV + zal) is administered to the the widest range of age-group i.e 12 - 68.*\n",
    "- *Treatment 0 (ZDV only) is asdministered to only the shortest range of age group i.e. 12-62*\n",
    "- *Treament 1 and 3 are administered to around the same range of age group*\n",
    "- *There seems to be some inconsistency in treatment 1*"
   ]
  },
  {
   "cell_type": "code",
   "execution_count": 64,
   "id": "1fae8e4f",
   "metadata": {
    "execution": {
     "iopub.execute_input": "2024-06-02T14:38:21.430844Z",
     "iopub.status.busy": "2024-06-02T14:38:21.429361Z",
     "iopub.status.idle": "2024-06-02T14:38:21.455261Z",
     "shell.execute_reply": "2024-06-02T14:38:21.454323Z"
    },
    "papermill": {
     "duration": 0.073934,
     "end_time": "2024-06-02T14:38:21.458031",
     "exception": false,
     "start_time": "2024-06-02T14:38:21.384097",
     "status": "completed"
    },
    "tags": []
   },
   "outputs": [
    {
     "data": {
      "text/html": [
       "        <script type=\"text/javascript\">\n",
       "        window.PlotlyConfig = {MathJaxConfig: 'local'};\n",
       "        if (window.MathJax && window.MathJax.Hub && window.MathJax.Hub.Config) {window.MathJax.Hub.Config({SVG: {font: \"STIX-Web\"}});}\n",
       "        if (typeof require !== 'undefined') {\n",
       "        require.undef(\"plotly\");\n",
       "        requirejs.config({\n",
       "            paths: {\n",
       "                'plotly': ['https://cdn.plot.ly/plotly-2.27.0.min']\n",
       "            }\n",
       "        });\n",
       "        require(['plotly'], function(Plotly) {\n",
       "            window._Plotly = Plotly;\n",
       "        });\n",
       "        }\n",
       "        </script>\n",
       "        "
      ]
     },
     "metadata": {},
     "output_type": "display_data"
    },
    {
     "data": {
      "text/html": [
       "<div>                            <div id=\"c563dab5-f771-457c-bcf9-d03479602c96\" class=\"plotly-graph-div\" style=\"height:600px; width:1000px;\"></div>            <script type=\"text/javascript\">                require([\"plotly\"], function(Plotly) {                    window.PLOTLYENV=window.PLOTLYENV || {};                                    if (document.getElementById(\"c563dab5-f771-457c-bcf9-d03479602c96\")) {                    Plotly.newPlot(                        \"c563dab5-f771-457c-bcf9-d03479602c96\",                        [{\"marker\":{\"color\":[1,0,1,1,3,2,2,2,3,3,0,1,3,0,0,3,0,2,1,3,2,1,0,0,0,3,3,3,2,1,2,1,3,0,2,0,2,3,0,0,2,0,3,0,0,2,3,2,3,1,0,3,0,1,0,2,0,2,3,0,3,0,2,3,0,2,1,3,0,3,2,2,2,2,2,3,0,0,3,1,1,1,0,2,0,0,1,0,0,0,2,3,0,3,0,0,0,2,0,0,2,1,0,3,3,2,1,2,1,0,1,1,1,0,3,3,3,2,2,3,0,0,3,1,0,1,3,2,2,3,2,0,2,0,3,0,0,0,3,0,0,2,1,1,1,2,0,2,0,1,3,1,2,0,3,3,3,3,0,0,0,0,2,1,0,0,3,2,0,0,0,3,0,3,2,0,3,1,2,2,3,0,0,2,0,0,0,3,3,0,2,1,3,3,3,0,1,2,0,1,1,1,1,0,0,0,0,0,2,2,3,3,3,0,2,3,1,0,2,0,1,3,3,0,2,0,3,0,3,0,1,0,0,3,3,1,0,2,1,0,3,0,3,0,1,0,1,0,2,2,1,0,3,0,0,2,0,1,3,3,2,3,3,0,3,0,1,2,2,3,0,2,2,3,1,1,2,2,3,3,3,0,0,3,3,2,3,2,0,0,1,0,3,2,3,0,0,1,0,0,3,3,0,0,3,0,0,0,2,3,0,0,3,1,1,2,3,1,3,0,1,3,0,0,0,3,3,0,0,0,3,3,1,0,2,3,3,0,3,3,3,1,0,0,0,0,3,0,0,3,0,2,0,0,2,0,2,3,2,0,3,0,0,3,2,0,0,2,3,1,0,0,3,2,0,1,0,3,1,0,0,2,3,0,1,3,0,0,3,0,3,3,2,3,0,0,0,1,3,0,0,0,3,0,2,2,3,0,3,2,2,1,1,3,0,3,3,2,0,3,0,3,3,3,0,2,3,2,3,2,0,0,0,3,3,0,3,1,0,3,3,0,0,0,2,2,3,1,2,0,0,3,0,3,0,0,3,1,0,3,3,1,2,0,0,1,2,0,0,3,3,3,3,0,0,3,0,1,2,0,0,3,0,1,0,2,0,2,0,3,2,3,2,2,0,0,0,2,3,1,2,3,0,0,1,2,2,1,0,3,2,0,2,0,1,2,0,3,1,2,3,3,1,3,3,3,0,0,0,3,1,3,3,0,3,3,3,2,0,2,0,3,2,0,0,0,3,0,3,1,0,0,1,3,0,1,3,1,2,1,0,0,3,3,1,0,0,0,3,0,2,1,0,3,1,3,2,0,2,1,3,3,0,0,0,0,0,2,2,3,0,1,0,1,0,2,2,0,2,1,0,3,2,2,0,0,2,0,0,1,2,3,0,3,2,0,0,0,3,2,0,0,3,3,3,3,3,3,0,2,0,0,3,1,0,2,0,0,2,2,2,0,2,3,0,1,2,3,3,2,0,3,3,3,2,3,0,3,0,1,2,0,3,1,2,3,2,3,0,2,1,3,0,3,0,1,2,2,3,0,0,2,2,0,0,2,1,0,2,3,2,0,0,3,1,3,0,0,1,2,1,2,0,0,0,3,0,0,0,0,1,2,0,1,0,3,0,3,3,0,3,0,2,2,3,3,0,3,2,0,1,2,2,2,2,2,3,3,0,1,1,3,3,1,3,3,3,0,0,3,3,2,3,0,2,1,1,3,2,0,3,0,2,0,3,2,2,3,0,1,0,3,2,0,2,3,2,2,3,0,0,3,0,3,1,1,3,0,1,0,2,0,1,2,3,3,0,3,0,3,2,0,3,2,0,1,3,2,3,0,3,3,1,2,0,3,0,1,2,0,1,1,0,2,0,2,2,3,3,3,3,3,0,0,3,3,3,2,3,1,3,3,2,3,3,0,0,2,3,3,2,2,0,3,0,2,1,2,2,0,0,2,0,2,3,3,0,3,0,3,3,3,0,1,3,0,3,0,0,1,2,1,3,0,2,0,0,2,3,3,3,2,2,0,0,2,0,0,0,0,0,1,3,0,0,2,0,3,0,3,0,1,1,0,0,0,3,3,0,3,0,3,2,3,2,0,3,2,0,1,2,1,3,3,2,1,3,3,0,0,0,0,0,3,1,2,3,3,3,0,0,2,0,3,0,0,3,3,0,2,3,1,0,0,3,0,0,3,3,2,3,0,3,0,2,2,1,0,2,1,2,0,2,3,1,3,1,0,2,3,3,0,2,0,0,2,3,2,0,0,3,3,3,0,3,0,3,3,2,2,1,2,0,0,0,1,0,3,0,3,3,0,1,0,1,2,1,0,2,3,3,3,0,0,1,0,0,2,1,2,3,0,2,0,2,0,3,0,2,0,2,2,3,1,2,2,0,0,1,2,0,3,2,0,2,0,2,1,1,0,3,3,3,0,0,2,2,2,3,1,3,0,0,3,1,0,0,0,0,3,3,2,3,3,3,0,0,2,0,0,1,1,2,0,3,2,0,2,0,3,0,3,3,1,0,3,2,0,0,0,1,2,0,1,0,1,1,3,0,3,3,2,3,2,0,2,0,2,3,3,0,0,0,0,0,3,2,3,2,3,2,0,2,3,1,3,2,2,3,1,2,2,2,2,1,3,1,0,2,0,0,0,0,2,0,2,3,1,3,3,0,0,3,0,3,1,0,0,2,1,0,3,3,1,0,0,1,0,2,2,0,1,2,0,3,1,0,0,2,0,3,0,2,2,0,0,0,3,0,0,0,3,0,2,3,3,3,2,3,2,3,0,3,0,0,0,0,3,3,3,0,0,3,3,0,2,0,3,3,3,0,0,3,0,1,2,2,2,3,2,3,0,2,3,1,3,0,0,0,3,0,3,3,0,0,2,3,3,0,2,2,2,0,2,0,0,0,3,3,3,0,2,3,2,1,0,1,1,0,1,1,1,0,3,3,3,0,2,2,1,3,2,1,3,3,3,3,3,2,2,0,2,2,2,3,0,2,3,0,1,0,3,2,2,2,0,1,0,3,3,3,3,3,3,0,0,3,3,0,3,0,3,2,0,1,0,3,3,2,1,0,3,3,3,0,0,0,1,0,0,2,0,2,0,0,1,2,1,2,2,0,0,0,2,0,3,1,2,1,2,2,2,0,3,1,1,2,0,0,3,0,3,2,3,3,3,2,0,3,1,0,2,0,0,2,0,3,3,0,0,2,2,0,0,2,0,2,3,2,3,3,0,0,2,3,3,3,1,2,0,3,0,2,1,3,0,3,0,3,0,2,0,0,3,0,0,3,0,3,1,1,2,0,0,2,0,0,0,3,0,3,2,3,0,0,3,0,2,3,2,0,0,1,3,0,0,3,1,3,0,3,0,2,2,0,0,2,2,1,3,0,0,3,0,0,2,2,1,1,3,3,0,0,3,1,0,2,2,0,3,1,3,3,2,0,0,3,1,3,0,3,0,0,0,2,3,0,2,3,2,2,2,0,3,0,2,0,2,3,0,3,2,1,0,2,3,0,2,3,3,3,3,1,3,0,3,3,0,1,3,3,0,0,1,2,3,3,2,0,2,0,1,3,2,0,0,0,0,0,0,3,1,2,3,0,3,0,3,1,1,0,3,0,0,0,0,0,0,3,2,1,1,2,0,3,0,3,0,0,1,3,2,0,0,3,3,0,0,2,2,0,0,0,3,3,3,3,2,0,2,3,0,2,0,3,0,0,0,3,0,1,3,0,3,0,0,0,3,0,0,1,3,2,2,3,2,1,2,0,0,2,2,3,3,3,2,1,3,3,0,0,2,3,0,0,0,3,3,0,2,1,2,0,1,0,1,2,0,3,1,0,2,3,0,0,0,0,0,3,3,2,0,2,0,0,3,2,1,3,3,2,2,3,0,1,3,2,2,3,2,0,1,0,0,3,3,1,2,0,0,2,3,0,3,2,0,0,1,1,3,3,0,1,0,3,3,2,3,1,2,2,2,0,2,0,2,0,3,1,3,2,0,0,0,0,2,1,3,0,2,0,1,3,0,0,0,0,2,3,2,3,3,0,1,2,0,2,2,1,2,0,1,2,0,2,1,3,1,0,3,0,3,0,1,2,0,1,2,0,0,2,0,2,2,0,2,0,1,1,0,3,0,1,0,1,3,2,1,0,3,3,3,0,1,0,0,1,0,2,0,0,2,3,0,0,0,0,0,2,0,3,3,0,1,0,3,2,2,2,0,2,2,3,0,2,0,0,1,1,2,0,2,3,0,0,0,0,2,0,1,0,1,0,2,3,1,0,2,2,0,3,3,3,3,1,3,3,0,2,0,3,2,3,0,2,3,3,3,1,0,2,2,2,2,1,0,3,3,1,3,0,3,0,0,2,2,0,0,3,0,3,3,0,1,0,0,0,1,3,0,1,2,3,0,0,3,0,1,1,3,2,0,3,0,0,0,3,0,3,1,2,0,2,0,3,1,3,2,2,0,2,2,3,3,2,0,0,0,3,3,3,3,2,0,0,0,3,3,3,0,0,0,0,2,1,0,3,3,0,0,3,0,2,3,2,0,3,0,0,0,0,3,0,0,3,3,0,3,3,3,3,3,2,0,2,0,3,0,3,3,0,2,0,1,0,3,0,0,0,3,2,0,2,1,0,2,3,3,1,1,3,0,0,1,3,0,2,0,3,1,2,1,2,2,1,3,3,0,2,2,3,3,2,3,2,1,0,3,2,3,1,2,3,1,2,2,1,0,0,2,1,0,1,3,0,3,2,1,3,1,0,1,0,0,0,0,1,3,3,0,0,0,3,3,2,3,0,3,0,3,2,2,3,0,0,2,0,0,2,0,3,0,0,2,3,3,0,3,3,0,0,2,0,1,1,2,3,0,2,3,3,0,3,2,0,3,0,0,0,1,1,3,0,3,0,0,0,0,3,1,3,3,0,1,1,3,3,0,2,3,2,2,0,1,0,0,2,0,3,0,0,1,1,3,0,1,2,1,2,0,0,0,3,0,1,2,3,0,3,0,0,2,0,1,2,2,0,2,0,3,0,2,0,2,2,0,0,0,3,3,0,0,0,0,2,3,0,3,0,0,0,3,3,0,2,0,2,2,3,3,0,2,2,0,0,0,0,0,2,3,3,3,0,3,3,3,3,2,3,0,0,0,3,3,3,0,1,0,0,2,0,2,2,0,0,0,0,3,3,0,3,1,3,1,2,0,1,0,3,0,3,1,0,1,1,2,2,3,2,1,3,0,2,1,0,0,1,0,0,3,2,3,0,0,0,0,0,3,1,3,2,2,3,1,1,2,0,0,3,3,0,0,3,3,3,0,1,0,0,2,1,0,1,3,0,3,3,0,3,0,0,1,0,0,0,2,3,0,0,3,1,0,3,0,0,1,1,1,2,0,2,0,2,3,3,0,1,1,3,0,0,1,2,2,0,3,1,3,2,3,1,3,2,0,2,0,3,0,3,2,2,0,0,0,0,0,1,0,2,0,3,3,3,2,3,3,3,3,3,0,3,0,1,3,1,0,0,2,0,0,3,3,3,0,0,0,3,3,3,2,3,0,2,0,2,0,1,1,0,1,3,1,2,0,1,1,2,0,0,2,0,2,0,0,2,0,0,2,2,2,3,2,2,3,2,0,3,2,2,0,3,3,0,2,2,0,3,3,3,0,2,0,2,0,0,0,2,0,1,1,3,0,0,3,0,1,2,0,0,2,1,3,0,3,1,1,0,1,2,1,3,3,3,1,0,2,0,0,2,2,0,2,3,3,0,0,0,1,3,2,0,1,1,3,3,2,0,0,1,3,3,3,0,3,0,0,2,0,3,2,3,0,3,3,2,2,0,1,1,3,0,0,3,3,0,0,1,3,0,3,0,2,3,3,0,3,0,0,0,0,3,3,3,0,0,1,0,3,2,1,2,0,2,2,3,0,2,0,2,0,0,0,0,0,2,3,3,1,3,3,3,0,1,3,1,3,1,2,2,3,0,2,3,0,3,2,3,0,2,0,0,3,0,0,1,1,0,3,3,0,0,3,2,0,1,0,2,3,1,0,2,3,3,1,2,3,3,0,1,2,2,2,1,3,3,1,3,0,3,0,0,3,0,3,2,2,3,3,0,2,0,0,3,1,3,0,3,2,0,0,3,0,1,0,3,0,0,3,0,2,3,0,0,0,2,2,0,3,0,0,0,0,3,0,0,1,2,3,0,2,0,1,0,0,1,0,0,3,0,3,0,2,2,2,0,2,2,2,0,0,2,0,2,0,2,3,0,1,3,3,0,3,0,3,0,3,0,2,0,3,1,1,2,1,0,3,3,0,0,3,3,1,1,1,0,3,0,0,3,1,2,3,1,3,2,3,1,3,0,1,3,3,3,1,0,2,3,0,0,0,3,2,2,2,2,0,2,0,3,0,1,0,2,0,1,0,1,3,0,0,0,3,2,0,0,0,3,0,3,3,1,3,2,3,3,2,0,0,0,3,3,2,3,0,1,0,2,2,2,1,2,1,3,3,0,0,0,0,2,1,1,3,0,1,1,1,2,3,2,1,3,2,2,3,3,2,2,3,3,2,2,3,3,2,1,2,0,3,0,3,3,3,3,2,3,2,2,0,3,3,3,2,3,3,2,0,1,1,2,3,3,0,0,2,0,0,0,1,0,1,0,3,1,2,1,3,0,3,0,0,1,3,2,0,0,0,0,0,2,3,2,0,0,0,0,0,3,0,0,2,3,0,1,3,2,3,0,2,2,3,2,0,1,1,0,0,0,1,2,0,3,0,2,2,1,1,0,2,1,1,3,0,2,0,2,3,0,1,3,1,0,1,0,3,3,0,0,1,0,3,2,3,2,3,0,0,3,0,2,0,1,0,3,1,1,1,3,0,1,0,0,0,3,0,2,0,2,1,2,0,3,0,1,0,1,0,2,2,2,0,0,3,2,1,3,1,0,0,3,2,2,2,0,0,2,3,2,1,1,2,2,0,2,2,2,0,0,2,0,0,3,0,0,3,1,1,3,0,3,1,3,0,0,0,1,2,3,2,0,2,1,1,0,0,2,0,0,0,3,3,0,0,0,1,0,3,3,1,3,1,3,3,1,3,3,0,0,3,0,0,1,2,1,2,2,0,2,3,0,3,2,2,1,0,1,0,0,0,0,2,0,0,2,3,3,3,0,2,3,3,2,3,3,0,3,2,3,0,0,3,2,1,1,1,0,3,0,1,3,0,3,3,3,1,0,2,0,3,0,3,3,0,2,2,2,0,3,1,1,3,1,0,3,2,3,1,0,3,2,2,2,0,0,0,0,0,3,2,0,2,3,0,0,3,1,1,3,0,1,3,2,0,3,3,3,2,2,0,0,2,0,3,0,2,3,2,3,0,2,0,2,2,1,0,0,3,3,1,3,0,3,1,0,3,0,1,3,3,0,2,0,3,1,2,2,1,0,0,0,2,0,0,0,0,0,0,2,2,1,0,3,0,0,1,3,1,3,3,0,0,3,2,3,0,0,2,3,3,0,2,0,0,0,3,2,2,3,2,0,2,0,3,3,3,0,0,1,3,0,1,2,0,3,0,0,1,3,3,0,0,0,3,3,3,0,2,3,0,3,2,0,3,3,2,2,2,3,0,0,1,0,1,0,0,1,1,1,0,0,3,2,1,3,2,2,3,1,3,2,3,2,3,1,2,2,0,3,0,2,3,2,3,0,3,3,3,1,0,3,1,3,2,2,0,0,3,1,2,3,3,3,3,3,0,2,3,2,2,3,0,2,2,0,3,0,2,3,2,0,3,2,2,3,0,0,1,3,1,1,0,2,2,2,2,3,0,0,0,1,2,0,3,3,1,2,3,0,2,2,1,1,3,3,3,3,1,3,3,0,0,2,0,0,3,3,3,3,0,1,2,0,3,0,0,1,2,0,0,3,1,0,2,2,3,3,0,0,3,2,0,2,0,0,2,0,3,2,0,0,1,3,0,2,0,0,3,0,2,0,0,0,2,2,1,3,0,3,3,0,3,2,1,3,1,1,2,0,0,1,2,3,0,3,2,0,0,0,0,3,0,0,0,2,0,2,2,0,3,0,2,2,1,2,2,3,3,3,3,1,2,1,2,0,0,0,3,2,3,0,3,3,3,3,2,3,0,0,3,1,0,0,2,3,3,3,2,3,3,0,3,3,0,1,2,0,0,2,1,0,2,0,3,1,0,0,0,0,2,0,0,0,0,0,0,2,0,0,3,2,1,0,3,3,0,0,0,0,1,1,0,0,1,3,0,3,2,0,0,2,0,0,0,2,3,1,3,0,1,3,0,0,0,1,3,3,3,0,0,2,3,0,1,3,1,3,3,1,2,0,2,3,0,0,0,0,1,3,0,0,0,0,0,3,0,0,2,3,3,1,3,1,0,0,3,0,1,1,0,3,3,1,3,2,1,2,0,0,2,1,0,3,0,1,2,1,0,0,0,2,0,0,0,1,2,2,0,2,3,0,3,3,1,3,0,3,3,3,3,2,0,2,2,2,0,3,0,1,0,0,2,0,0,2,0,2,2,3,1,0,3,0,3,0,3,0,2,0,3,0,0,0,3,3,1,3,0,0,0,0,2,2,2,0,3,0,0,0,2,2,0,3,0,0,2,0,3,0,2,0,3,2,0,3,3,3,0,1,3,0,3,2,2,3,1,0,3,0,3,0,0,3,2,0,1,0,2,1,0,1,2,2,3,0,1,3,3,1,0,3,0,0,1,0,3,0,3,0,2,0,3,0,0,1,0,2,0,3,1,1,0,0,0,0,0,0,3,0,3,0,0,1,2,2,1,0,3,2,3,1,1,0,0,3,3,2,0,0,2,1,3,0,2,0,1,2,0,2,1,0,0,0,3,1,0,3,3,0,0,0,0,3,0,0,0,0,3,0,0,3,0,3,0,1,3,1,0,1,1,2,0,0,0,0,1,0,0,2,3,0,0,0,0,2,0,0,0,3,1,3,3,1,2,3,2,2,3,0,0,0,1,2,3,1,0,1,2,2,2,0,0,0,0,0,3,0,1,2,1,2,3,1,2,1,2,0,2,3,3,3,0,3,3,1,0,3,0,0,3,1,0,3,0,0,0,3,0,1,2,3,3,3,0,1,3,0,3,0,1,2,0,2,0,2,3,1,3,3,3,0,3,3,3,3,0,2,3,2,0,0,3,0,2,0,3,0,2,3,0,0,0,2,3,2,0,0,3,0,0,3,2,0,0,1,2,0,3,0,3,3,0,0,1,0,2,2,0,3,3,0,3,2,0,0,3,3,0,0,0,1,3,2,0,3,0,0,0,0,0,0,0,3,1,3,3,0,1,0,2,1,0,3,2,0,3,1,2,2,2,0,3,0,0,0,0,1,1,2,0,1,2,0,3,0,0,2,1,1,0,3,3,1,0,3,0,1,0,2,1,3,0,3,3,3,0,3,2,3,2,2,0,3,0,2,0,3,0,2,0,3,0,3,0,0,3,3,0,3,3,1,0,1,3,3,2,0,0,2,0,1,2,0,0,0,0,1,0,3,1,3,0,0,0,1,2,0,1,0,0,0,1,2,2,3,3,3,0,1,0,0,0,0,3,1,0,0,0,0,0,3,3,3,2,2,0,0,0,1,3,1,0,0,0,0,3,3,3,1,2,2,2,3,3,3,0,1,0,3,1,3,3,1,0,1,0,2,3,1,2,3,0,0,0,0,0,0,2,1,3,3,0,1,1,0,3,0,3,0,0,2,3,3,3,3,0,2,1,2,2,2,2,3,2,3,2,0,2,0,0,0,0,3,3,3,0,3,2,0,3,3,3,1,3,2,0,0,3,2,3,0,1,1,2,3,1,2,2,0,2,2,3,0,0,2,2,1,3,1,3,2,0,3,0,0,0,0,0,1,0,2,1,2,3,0,1,3,2,1,0,3,0,3,3,0,3,2,0,1,3,3,0,0,2,0,0,0,0,2,1,2,0,0,3,2,0,3,0,2,0,0,0,2,2,1,0,3,1,0,2,3,0,2,0,3,1,0,3,2,0,2,0,0,0,2,1,0,3,2,1,1,3,2,3,0,0,3,2,0,2,0,3,0,3,0,3,1,1,3,1,3,0,3,0,2,0,0,3,0,3,3,0,0,1,0,3,2,2,2,0,0,3,2,2,0,0,0,0,2,1,2,2,2,3,3,0,2,1,0,3,1,3,0,0,0,2,1,3,2,3,0,2,0,3,3,2,0,2,0,0,1,3,2,0,2,0,2,2,3,2,0,1,0,1,2,3,3,0,2,2,2,2,0,3,0,0,2,0,0,3,2,2,2,0,3,2,3,2,0,0,2,3,3,0,1,0,1,1,3,0,3,3,0,2,3,3,0,1,2,0,2,2,2,0,0,1,0,0,3,3,0,3,0,0,0,2,3,3,0,0,1,1,3,3,0,0,0,3,0,3,0,0,0,0,0,3,0,0,0,2,0,0,0,1,1,0,0,3,1,1,3,3,3,0,0,0,2,3,1,0,2,3,3,0,2,0,2,0,0,1,0,0,2,2,2,1,0,3,3,0,3,2,2,2,3,1,3,3,0,3,0,1,0,3,3,0,3,0,0,3,0,0,2,3,2,1,0,0,0,3,3,2,3,2,3,3,2,0,3,0,0,0,0,0,1,0,0,0,0,2,0,1,2,3,2,2,0,0,0,1,2,0,1,0,2,0,2,0,3,0,2,2,2,0,1,3,1,0,1,0,0,2,0,0,3,0,2,0,1,3,0,3,0,0,2,0,0,0,0,0,2,0,3,3,0,2,0,0,3,3,2,0,3,3,1,2,0,2,2,1,0,0,3,1,0,2,3,0,0,0,1,3,0,0,2,2,0,0,0,3,1,3,0,0,1,3,0,2,0,1,2,1,2,0,3,0,3,0,0,0,1,2,0,2,0,2,3,0,0,1,2,1,2,0,2,0,0,1,3,3,2,0,1,3,0,3,2,3,3,0,0,2,2,0,3,2,3,2,3,2,3,1,0,0,0,2,0,3,0,0,3,0,0,2,2,0,0,1,2,3,3,3,2,0,2,2,1,0,3,0,2,3,0,2,3,1,0,2,2,0,2,0,2,3,3,2,0,2,3,0,2,1,3,0,2,1,0,3,3,2,2,1,1,0,2,0,1,1,2,2,3,3,0,2,3,0,3,3,3,0,3,1,0,2,3,2,3,3,3,2,3,2,1,1,0,2,1,3,0,0,1,0,3,0,1,2,3,0,3,3,3,3,2,1,2,0,0,3,3,3,3,1,2,0,2,3,3,0,3,3,3,2,3,2,3,2,0,3,0,3,3,1,0,2,2,1,3,1,2,2,2,2,2,0,2,2,2,0,0,0,2,0,3,0,1,1,2,1,1,3,0,0,2,0,3,0,3,3,3,2,3,3,2,0,0,2,0,1,3,2,2,3,0,3,2,0,0,0,0,3,3,0,2,0,0,2,2,3,2,2,0,0,0,3,2,2,3,1,0,0,0,3,3,3,3,3,3,0,1,3,0,0,0,3,2,0,3,0,2,1,0,2,2,0,2,1,0,0,3,0,2,1,1,0,1,0,2,3,3,0,0,3,1,3,3,3,3,2,0,0,0,0,3,1,0,0,3,3,2,1,3,1,3,0,0,2,0,3,0,0,3,1,2,0,1,2,0,0,1,3,2,3,0,3,0,3,0,2,2,0,3,3,1,0,3,3,0,1,0,1,0,2,2,3,0,0,2,3,0,1,1,3,0,3,3,3,2,3,3,0,1,2,2,2,0,3,0,2,2,0,2,1,2,1,0,2,0,2,1,3,3,3,3,3,0,1,3,3,0,2,0,0,1,1,2,0,0,0,0,0,1,3,2,3,1,2,0,0,3,2,2,2,3,0,3,3,3,0,0,1,3,1,0,3,0,3,1,3,0,3,3,1,1,1,2,0,2,0,2,1,3,3,0,0,3,1,3,2,3,0,1,1,3,0,1,3,1,2,1,0,2,2,3,1,2,3,0,3,0,3,3,2,3,0,0,0,3,0,3,0,2,3,2,0,3,0,0,0,3,0,3,2,0,0,2,2,0,0,0,0,2,1,0,0,2,3,2,0,2,3,0,0,1,0,1,0,3,0,2,0,1,2,2,1,0,0,2,3,3,0,2,3,0,3,2,2,2,0,2,1,3,3,0,0,0,2,3,0,3,2,0,2,2,2,2,0,0,2,3,3,1,3,0,0,2,0,0,0,3,2,2,0,0,0,3,1,2,3,2,0,0,0,0,1,2,2,0,3,1,2,0,0,3,3,3,0,3,1,3,2,3,3,0,2,3,1,3,0,0,0,2,2,0,3,2,1,2,0,3,2,3,2,3,0,0,2,0,0,0,1,3,3,1,2,3,2,0,0,3,0,3,0,0,3,0,0,2,0,3,1,3,0,0,0,2,3,2,3,0,0,3,2,0,3,2,2,2,0,2,1,2,2,3,0,0,0,1,0,0,3,0,3,3,2,0,0,3,1,3,3,2,1,1,3,0,1,0,0,1,1,0,1,0,3,0,2,0,0,1,3,0,0,0,0,3,0,2,1,3,3,0,1,3,0,3,1,2,2,2,1,3,3,3,1,1,0,3,1,2,2,3,0,1,0,3,2,2,2,1,0,0,0,1,0,3,2,0,0,1,1,0,0,2,0,2,3,1,0,2,3,2,2,0,3,0,0,2,2,3,1,2,1,0,0,2,1,0,3,1,1,0,0,3,0,1,3,0,0,3,0,2,0,3,3,3,0,0,0,3,0,3,0,0,1,0,3,3,1,2,2,1,1,3,0,3,2,0,3,0,3,2,3,0,0,0,2,0,3,2,3,3,0,2,3,2,0,3,3,0,0,0,0,1,0,2,3,2,1,3,0,3,2,3,1,0,1,3,0,1,3,0,0,2,0,0,0,3,1,1,0,0,1,1,2,2,2,3,0,0,0,1,0,2,1,3,3,2,0,0,0,3,3,3,3,0,0,0,0,0,0,2,1,3,0,0,0,3,2,1,1,3,1,3,2,0,0,0,3,3,3,2,2,3,0,1,0,0,2,0,0,0,1,3,0,0,2,3,1,2,0,1,0,0,0,0,1,3,2,0,0,0,2,3,0,2,3,3,0,0,3,0,3,0,3,0,2,0,1,3,0,0,1,2,1,0,0,0,3,2,0,1,0,0,3,2,0,1,2,2,0,3,0,0,0,3,2,1,2,1,2,1,3,1,1,0,0,2,2,2,1,2,1,2,0,3,2,0,0,2,3,1,2,3,1,1,2,2,3,2,2,0,3,1,2,2,3,3,0,2,2,0,3,3,1,3,1,3,2,1,2,0,1,0,3,3,2,0,3,0,0,1,3,3,2,0,0,2,2,1,0,0,0,0,0,0,3,1,3,2,0,0,3,1,3,3,3,0,0,2,2,0,0,0,0,3,2,0,0,2,3,0,3,2,2,0,1,2,3,0,2,0,2,3,3,2,3,0,0,2,0,0,0,2,0,0,0,0,0,0,2,3,1,1,2,3,3,1,1,2,0,0,0,1,3,0,2,3,2,0,0,1,0,2,0,1,3,1,3,1,0,2,3,1,3,2,3,2,2,0,3,1,1,1,0,1,2,0,3,2,1,1,3,2,0,2,2,0,3,2,3,1,0,3,3,3,1,1,1,1,0,3,2,3,1,3,0,2,0,2,0,0,2,0,1,2,0,0,3,3,3,0,2,0,3,3,3,0,3,3,2,0,3,2,1,0,0,3,0,3,2,3,0,1,0,3,0,0,3,0,2,2,1,3,0,0,0,3,3,2,0,2,2,2,3,3,3,1,2,2,0,2,3,0,3,1,3,1,0,3,1,2,3,1,0,1,0,3,1,2,3,3,2,0,2,0,2,3,0,3,0,0,0,1,0,2,0,1,0,1,1,0,3,2,0,2,2,0,3,1,3,2,0,1,3,1,0,0,3,0,0,2,3,3,0,2,2,0,0,3,1,3,0,0,0,2,2,0,0,3,0,2,2,0,0,0,1,3,0,1,0,1,3,2,2,3,3,2,3,0,2,0,0,2,3,1,0,0,1,1,3,0,1,1,3,0,3,3,3,2,3,1,0,3,0,3,0,0,0,2,2,1,0,0,0,2,3,1,0,0,3,3,3,3,0,1,3,2,0,3,2,1,1,0,0,2,3,3,2,2,1,3,1,0,0,0,0,3,1,3,0,0,2,1,0,3,2,2,3,2,0,0,0,0,0,1,1,1,0,0,1,3,0,0,0,1,0,0,3,3,0,0,1,1,2,0,1,1,3,1,0,1,0,1,0,3,2,2,0,3,0,3,2,0,3,3,1,0,2,3,2,1,3,1,3,0,1,1,1,3,1,3,3,1,2,2,1,3,0,0,2,3,0,2,0,2,0,0,2,3,1,2,0,0,3,3,3,1,3,3,2,2,1,3,2,0,2,0,0,0,0,0,0,0,1,0,0,2,1,1,3,0,0,3,0,1,2,3,3,0,2,0,2,2,3,3,2,2,1,0,0,0,2,3,2,1,0,0,1,3,3,2,2,0,2,1,2,2,1,3,3,2,1,2,3,3,0,3,3,2,2,3,0,1,0,1,2,1,3,3,0,2,1,2,2,0,2,0,3,0,1,0,3,2,1,3,3,3,3,0,0,1,1,3,0,2,3,3,3,0,3,1,3,0,0,2,1,0,1,0,3,0,1,3,3,3,0,0,0,0,0,2,2,3,2,2,2,3,0,0,0,0,0,1,2,3,0,2,2,3,0,3,0,1,3,0,0,2,3,1,2,3,0,0,0,0,3,3,0,3,0,0,0,2,3,0,1,2,0,2,3,3,2,0,2,0,3,1,2,2,0,0,0,0,2,0,0,0,0,1,2,2,3,3,0,0,3,0,0,0,2,3,3,1,0,1,3,3,0,3,1,0,0,3,3,2,3,1,0,3,1,1,3,3,2,0,2,0,0,3,0,0,1,0,3,3,2,2,0,2,0,3,0,3,0,0,3,0,3,3,2,3,0,3,0,0,1,0,1,2,3,0,0,1,0,2,3,0,0,1,0,0,0,3,3,3,0,3,2,1,2,0,3,2,3,0,0,1,2,3,3,0,0,3,3,2,0,0,1,2,3,2,0,1,3,3,3,3,0,0,0,1,2,3,3,2,1,3,3,3,3,0,0,2,3,1,3,3,0,0,0,2,0,1,2,3,0,3,0,0,0,3,0,0,0,1,3,0,3,0,0,0,3,3,0,3,0,0,3,0,3,2,2,0,0,2,1,2,3,3,0,0,2,0,0,3,0,1,3,0,0,1,1,3,2,3,3,2,2,3,0,2,0,1,2,1,0,0,1,2,2,3,3,3,0,0,0,0,0,2,3,1,1,2,2,1,0,0,0,0,0,0,2,2,1,3,0,0,3,2,3,2,2,0,0,2,0,3,0,0,0,3,0,2,0,0,3,1,3,2,0,2,1,3,0,2,3,0,3,0,0,0,2,1,2,2,2,0,1,3,3,2,0,0,0,1,3,3,2,0,0,2,0,0,2,3,0,0,3,3,0,2,3,3,3,3,1,2,2,2,0,1,0,0,3,0,3,2,3,0,0,0,0,1,3,3,3,3,3,1,0,2,0,0,3,2,3,3,0,0,2,1,0,3,0,3,1,1,3,2,2,2,1,1,0,0,2,0,0,0,1,2,0,0,3,1,3,3,0,2,3,0,3,3,0,3,2,0,3,1,3,0,2,0,0,3,2,3,3,2,3,2,2,2,2,3,0,1,2,3,3,0,1,0,3,2,3,1,3,3,1,2,3,3,0,0,0,0,1,2,3,0,2,0,2,0,0,0,2,2,3,0,0,1,0,1,2,0,2,2,0,3,2,0,3,1,3,0,2,2,0,1,2,3,3,3,0,2,3,2,3,0,1,3,0,3,2,1,2,1,0,1,0,0,2,0,0,0,2,2,2,0,3,2,0,0,3,0,0,2,3,0,3,0,0,1,0,2,2,3,3,2,0,3,0,1,0,0,0,1,1,0,0,3,1,0,1,0,3,1,0,2,2,0,2,3,1,1,1,3,1,3,2,2,2,0,0,3,1,3,2,2,2,0,2,1,2,2,0,3,3,3,3,0,0,2,1,0,3,0,1,2,0,0,3,3,3,0,3,2,3,3,0,2,1,2,2,2,3,0,0,2,0,0,0,0,3,1,2,0,0,3,0,0,2,0,2,0,0,0,2,0,0,1,2,2,3,0,3,0,3,1,0,2,3,3,2,2,2,1,3,3,2,1,3,2,3,0,3,3,1,0,0,1,2,3,2,3,3,2,3,2,0,3,3,3,0,0,3,0,3,3,2,2,2,1,0,2,0,3,0,2,3,3,0,2,3,2,2,3,3,3,2,3,0,1,0,2,2,2,3,3,2,0,0,3,0,0,3,1,3,2,2,2,3,2,0,1,0,1,0,0,3,2,3,0,3,1,3,0,3,0,1,0,3,0,2,1,3,3,0,3,3,1,0,1,3,0,0,0,0,0,3,0,0,3,1,3,3,0,0,3,3,0,2,3,0,3,0,0,3,1,3,3,0,0,1,0,3,3,1,3,0,0,0,0,0,0,2,2,3,0,3,2,1,2,1,2,0,3,3,3,0,2,0,1,2,2,1,2,0,2,0,0,0,3,0,2,0,1,2,3,2,0,0,0,1,2,2,2,3,0,1,0,3,0,0,2,1,0,3,1,3,3,1,2,0,3,0,3,3,2,0,3,1,0,3,3,0,1,3,1,0,0,1,0,2,0,3,3,3,2,2,3,1,0,2,1,2,1,0,0,3,3,3,3,0,3,2,1,2,2,2,3,3,3,1,0,3,0,0,3,2,1,3,0,3,0,2,2,0,1,0,2,3,3,3,2,0,2,2,3,1,3,1,3,3,2,0,2,3,3,0,3,3,0,0,3,0,0,0,2,0,2,3,2,0,0,3,2,2,0,2,1,3,0,2,0,0,2,0,1,3,3,0,0,2,1,0,0,0,0,3,0,0,0,1,0,0,0,2,0,0,1,2,3,3,0,0,0,3,0,3,3,0,0,3,3,3,0,3,0,2,0,2,0,0,2,0,0,3,1,2,2,0,0,3,2,2,3,3,0,3,1,1,0,0,3,3,3,0,0,0,3,2,0,1,2,3,2,3,2,3,3,1,0,0,0,3,3,0,0,0,0,2,0,3,0,0,3,0,0,0,0,3,1,0,0,3,0,2,0,0,0,1,3,0,2,2,3,0,3,3,0,3,3,0,2,0,0,3,0,3,2,0,3,0,0,3,3,0,2,3,1,0,0,0,0,0,3,0,3,0,0,0,0,0,0,1,3,2,3,0,0,0,3,1,2,0,0,2,0,3,0,3,3,2,0,2,0,3,3,0,3,0,1,2,3,0,3,0,2,2,1,2,0,2,0,1,0,0,2,1,3,2,0,1,0,3,2,0,2,0,3,1,0,2,2,0,3,3,2,0,0,2,3,1,0,2,3,3,3,0,2,3,1,0,0,3,0,3,3,1,0,1,0,0,2,2,0,0,3,3,0,2,1,2,2,3,0,1,0,2,0,2,3,0,2,3,0,1,0,0,2,3,3,1,0,0,3,2,0,2,0,0,2,2,3,0,3,3,3,1,2,0,3,0,1,0,0,3,3,3,0,0,0,0,0,3,1,0,0,2,0,3,2,1,1,3,3,3,3,0,3,0,0,2,0,0,0,2,3,0,0,3,3,2,3,0,0,3,2,3,0,0,0,0,3,3,3,0,0,0,0,1,3,3,0,2,2,0,3,0,2,0,0,0,3,0,3,0,3,3,0,3,0,3,2,0,0,3,3,2,1,0,0,0,3,2,1,0,2,3,1,2,0,0,1,0,0,3,2,2,3,1,2,0,2,3,0,0,1,0,2,0,1,1,3,0,0,2,3,3,0,2,1,1,1,3,3,0,1,1,0,0,3,0,2,2,3,3,1,1,2,0,2,0,3,1,0,2,0,2,0,2,2,1,0,3,0,0,0,0,0,2,0,3,1,2,0,3,1,3,0,1,0,0,0,0,3,3,0,1,2,0,0,3,0,2,1,0,2,3,0,3,1,3,0,0,1,0,0,2,2,2,3,3,0,2,2,1,0,1,0,1,2,1,0,0,0,3,3,2,1,0,0,3,3,3,2,3,3,3,3,0,1,3,0,2,3,0,0,0,1,1,3,0,2,0,3,3,0,0,0,3,3,2,0,3,3,1,0,0,3,0,0,1,0,3,3,1,3,1,0,0,1,0,2,0,3,3,3,0,0,0,3,0,2,3,0,3,3,3,1,2,0,3,1,2,3,1,2,2,3,3,3,3,0,0,3,1,2,0,0,3,1,2,2,0,1,2,1,3,0,3,0,2,2,3,2,0,0,3,3,0,1,2,0,1,0,3,3,3,2,3,1,0,3,3,0,1,3,0,1,2,0,0,3,3,1,3,1,2,1,2,2,3,2,2,0,3,1,3,0,3,0,3,0,3,2,0,0,3,2,0,3,1,2,3,3,2,0,2,0,3,2,3,2,1,0,2,0,0,2,2,0,1,3,1,0,2,0,0,2,0,0,0,1,0,0,0,3,2,2,3,0,0,3,2,2,3,2,1,0,2,2,3,3,0,1,1,0,2,3,0,0,2,0,0,0,1,0,0,1,2,0,0,2,2,0,0,1,3,2,2,0,3,1,3,1,1,0,1,2,3,3,3,0,1,3,3,3,3,1,0,0,3,0,0,0,3,0,1,0,2,3,2,2,2,3,2,2,1,2,2,3,0,0,3,3,3,3,3,3,1,0,1,0,0,2,0,0,3,2,2,2,3,3,0,0,3,3,3,2,0,2,0,2,1,2,2,3,3,3,3,0,1,3,3,1,0,0,1,1,0,0,1,0,0,2,0,3,3,2,3,1,2,1,0,0,3,1,3,2,0,3,0,0,0,0,0,1,0,1,0,0,2,1,2,1,0,2,1,2,2,0,3,3,3,2,0,3,0,0,2,1,1,1,0,0,2,2,3,3,1,1,3,0,2,0,0,0,3,2,0,0,0,0,0,0,1,0,3,0,3,2,0,0,0,0,2,0,1,1,3,2,2,0,0,3,0,1,0,1,3,0,2,0,0,2,0,2,0,0,3,3,2,3,2,2,3,0,0,3,2,3,0,0,0,3,2,0,0,1,0,3,0,3,0,2,0,0,2,2,0,3,2,3,3,1,3,2,0,2,0,2,1,3,3,2,0,1,1,3,0,3,0,3,2,2,1,0,0,2,3,3,1,1,2,0,2,2,2,3,2,2,3,0,0,2,2,0,0,0,3,0,1,2,0,2,3,2,3,3,2,2,1,3,0,2,3,2,1,0,1,0,3,2,2,3,1,0,2,0,0,1,0,0,1,3,0,3,2,3,2,0,0,0,0,2,2,2,0,3,2,0,0,2,2,0,0,0,2,3,0,2,1,2,0,2,2,3,0,2,2,1,2,3,3,2,0,3,2,3,2,1,3,1,3,3,0,1,3,0,3,2,1,0,1,2,3,0,3,2,0,1,3,3,1,1,1,0,0,3,0,0,0,3,0,0,1,3,3,0,2,0,3,2,2,0,3,2,0,3,1,2,0,3,3,0,1,0,0,0,0,0,1,2,3,3,2,2,0,0,2,0,3,3,3,1,2,2,3,2,1,2,3,1,3,3,2,1,0,0,1,0,0,3,0,0,1,3,3,2,3,0,0,0,0,0,0,3,0,1,0,3,3,3,0,0,3,1,2,0,0,0,0,2,2,1,0,2,0,0,3,1,2,2,0,0,0,0,2,1,3,3,0,0,2,0,2,2,1,3,3,1,3,2,1,3,3,3,3,0,1,3,3,0,3,0,0,2,3,2,0,0,0,0,3,3,2,1,3,1,3,0,0,0,3,2,3,2,0,3,2,0,2,3,0,1,0,0,3,0,0,2,3,0,0,2,0,3,3,0,1,1,2,0,0,0,2,0,3,3,0,3,2,1,1,0,3,3,2,2,1,3,0,2,3,2,3,1,0,1,3,1,2,0,0,2,3,1,0,3,3,0,1,1,2,1,3,2,0,2,1,2,0,3,1,3,3,0,2,1,0,0,0,3,1,0,1,3,1,1,3,0,3,1,0,3,0,0,0,0,3,0,3,3,1,2,3,1,1,0,3,3,2,0,0,0,1,0,3,2,0,1,2,2,3,0,1,0,1,3,3,0,0,3,2,0,0,2,0,3,0,3,0,1,1,3,0,2,0,0,3,1,3,3,0,0,0,3,2,1,2,3,2,1,2,3,3,0,2,3,1,2,0,0,0,0,0,2,3,1,2,2,2,2,2,1,3,3,3,0,2,0,0,2,0,2,0,2,3,2,1,1,0,0,1,0,0,0,2,3,3,0,3,3,1,2,0,3,3,2,3,2,2,2,0,2,0,3,0,3,3,3,3,2,2,2,3,0,2,3,1,0,3,0,3,1,3,3,1,0,0,1,3,0,2,3,1,0,0,2,2,2,0,3,2,2,0,3,0,3,0,3,0,0,3,3,1,0,3,0,0,2,2,2,2,3,3,3,3,3,2,1,3,0,0,1,1,0,0,0,3,2,0,0,2,1,1,0,0,0,0,2,3,3,1,3,1,3,2,1,0,0,3,2,3,1,2,0,0,0,0,0,2,0,3,2,0,0,1,2,3,2,0,2,0,1,2,0,0,0,0,0,3,1,0,3,2,1,0,3,3,1,0,0,3,3,0,3,3,2,0,2,1,1,0,2,0,0,3,0,3,0,2,0,1,3,1,3,0,0,1,0,2,2,2,0,3,0,1,0,1,3,3,1,0,3,0,0,3,2,2,0,2,0,0,2,3,3,2,0,2,0,0,2,2,1,0,0,2,0,3,3,3,1,0,0,0,1,0,1,3,0,2,2,0,0,2,0,0,2,0,1,0,3,1,0,1,0,3,0,3,2,0,0,0,3,2,2,0,0,3,3,0,3,3,2,3,2,1,2,3,1,1,0,0,1,0,0,2,1,2,3,0,3,0,3,0,0,1,3,2,0,3,3,2,1,3,2,3,3,0,1,2,2,3,3,2,2,0,0,3,3,3,0,0,1,0,3,3,0,1,2,0,3,0,2,2,2,2,0,0,0,2,3,0,3,0,2,2,1,1,2,1,1,1,0,3,0,2,2,0,2,2,0,3,2,0,2,0,0,0,2,3,0,0,1,0,0,0,2,0,0,1,0,0,2,3,0,0,3,2,3,0,0,0,0,1,3,3,2,2,0,2,3,0,2,2,0,0,2,0,1,0,3,3,2,0,0,2,2,3,0,2,3,0,2,0,0,2,3,1,0,3,0,3,3,1,2,0,0,2,0,2,2,3,0,0,3,0,3,0,0,0,0,3,0,3,1,0,0,0,2,2,0,0,2,3,0,0,0,2,3,3,0,3,1,0,3,1,2,0,0,0,3,2,3,2,0,0,1,0,2,3,2,2,0,0,0,3,2,3,3,3,3,2,0,0,0,0,0,0,3,0,3,2,1,0,0,3,0,3,3,3,1,0,1,0,3,3,2,0,0,3,0,3,0,0,2,3,2,0,1,0,0,1,3,0,3,1,3,0,2,0,1,3,3,2,0,0,0,2,0,3,0,0,2,1,3,0,0,1,0,2,0,3,2,1,0,2,2,0,0,0,0,1,0,3,3,0,2,3,2,0,3,1,3,3,3,1,3,1,3,2,3,2,0,3,2,0,0,0,3,1,0,0,2,0,0,2,2,0,3,2,0,3,3,0,3,1,3,0,0,3,0,2,2,2,1,3,0,2,1,3,3,0,0,0,3,3,3,0,0,1,3,3,1,3,2,2,1,3,3,1,3,2,3,0,0,3,3,2,3,0,2,0,0,0,0,2,2,2,0,3,2,3,0,0,0,3,1,0,3,0,0,1,0,3,2,1,0,0,2,1,3,0,0,0,2,3,0,2,3,3,0,0,3,2,0,3,0,3,0,0,3,3,1,3,3,2,2,0,2,2,1,0,1,0,3,1,3,3,0,3,0,0,0,3,0,2,0,0,3,0,0,1,2,1,3,0,0,1,0,3,3,0,1,0,1,0,0,1,0,2,3,0,0,0,3,1,1,0,0,0,0,1,2,3,3,0,1,3,2,0,2,3,1,2,1,3,0,0,2,0,2,0,3,3,0,2,3,0,0,0,3,1,3,0,0,3,2,0,1,2,0,2,2,2,3,3,1,3,3,3,1,3,0,0,0,1,2,2,3,2,3,3,2,0,3,0,0,1,1,1,2,0,3,3,0,1,3,0,3,3,2,3,3,1,3,2,2,0,1,3,3,3,1,2,2,0,0,3,3,3,3,0,0,1,0,2,2,1,3,0,3,0,3,3,0,3,2,3,0,0,0,2,2,0,3,0,2,0,1,2,3,0,2,0,3,3,2,1,2,2,0,0,0,0,0,0,2,0,1,2,3,3,3,1,1,1,3,0,0,1,3,0,2,0,0,3,0,3,0,1,3,0,3,0,3,0,0,3,3,3,0,3,3,0,2,2,0,2,2,3,3,0,2,3,0,3,0,0,2,3,1,0,3,0,1,1,0,0,0,0,0,0,0,3,0,3,3,3,2,1,0,0,3,1,0,0,0,2,3,3,0,2,0,1,0,3,2,1,0,0,1,1,3,1,2,2,3,0,0,3,0,3,1,0,0,0,3,2,2,0,0,2,1,3,2,2,3,0,1,3,3,2,3,0,0,0,1,2,0,0,3,2,0,3,0,2,0,2,3,3,2,2,2,3,0,2,2,0,2,3,3,3,2,0,1,2,2,0,3,3,2,2,0,0,0,3,2,0,0,3,2,3,2,0,2,0,3,3,3,3,2,1,3,0,3,3,3,2,2,2,0,2,1,2,2,2,2,0,2,3,1,0,0,3,0,0,2,3,0,1,0,1,2,2,0,2,2,3,0,0,0,3,1,2,3,0,2,2,3,3,2,3,0,3,2,3,2,3,0,2,3,0,0,0,1,0,1,0,0,1,1,1,3,2,0,3,0,0,0,0,0,1,3,0,2,2,3,0,2,1,0,0,2,1,3,0,3,3,1,0,0,1,3,1,3,0,3,0,1,0,3,0,1,0,2,2,3,0,0,2,1,0,1,0,1,3,2,1,0,0,1,0,0,0,1,1,2,3,0,2,2,2,0,3,3,0,0,0,3,2,3,0,2,0,0,3,3,0,2,0,1,0,0,0,0,3,1,3,3,3,2,3,0,2,0,3,2,2,3,2,0,2,2,3,0,2,2,0,0,2,3,1,1,3,3,2,0,0,2,3,0,0,3,3,0,1,0,0,3,0,1,2,3,2,3,0,0,1,2,0,1,0,3,2,2,1,3,0,3,3,0,1,0,3,1,0,3,1,2,2,2,2,3,1,2,3,0,1,0,1,3,0,0,0,0,0,3,3,0,2,3,1,0,0,3,2,0,0,1,2,3,3,0,2,0,3,3,1,3,1,1,0,0,0,2,0,0,1,1,1,0,3,3,0,2,0,0,0,3,0,3,3,0,3,3,3,0,0,3,0,1,2,0,0,1,2,0,0,0,3,1,0,2,0,0,3,3,2,0,0,0,1,0,0,1,2,2,0,0,2,1,1,2,0,2,0,3,3,3,3,2,3,2,3,3,2,2,1,3,1,0,3,2,3,1,3,2,2,0,3,1,1,3,0,0,1,3,1,2,2,1,0,1,1,2,0,1,3,0,2,2,3,3,3,3,0,0,0,2,1,0,3,0,0,1,0,2,0,3,2,0,0,3,3,3,3,3,0,3,1,3,3,3,2,0,0,0,3,3,0,2,3,3,2,2,3,3,0,3,3,0,0,2,1,2,2,0,0,2,0,2,1,0,3,1,2,0,3,0,0,3,0,0,3,3,2,2,2,2,0,3,0,2,3,0,3,3,3,1,2,0,0,0,1,0,0,2,1,0,3,0,2,3,1,0,2,2,2,3,2,3,2,1,3,0,3,0,0,0,3,3,0,3,1,0,0,0,0,3,1,3,0,0,0,2,0,2,1,0,3,0,3,3,3,0,0,0,0,3,0,3,3,0,3,1,2,0,3,2,3,2,3,3,3,0,3,1,0,1,1,1,0,3,0,3,2,2,3,3,3,3,2,1,3,1,2,2,0,2,0,1,0,3,0,3,3,3,0,0,1,0,0,1,3,0,3,0,1,3,2,1,0,1,1,3,0,0,3,0,0,0,0,3,3,1,1,2,2,3,0,2,0,0,2,3,0,2,0,2,3,3,0,1,0,3,2,3,0,0,1,2,3,0,0,3,0,0,3,0,3,2,0,3,0,3,0,3,1,0,0,0,3,2,3,0,0,3,0,2,3,3,0,3,3,2,0,0,3,1,1,0,0,0,1,0,0,3,3,0,0,0,1,3,0,0,0,3,2,0,0,2,0,3,2,2,3,3,0,0,0,0,3,3,1,2,2,0,2,2,3,2,0,2,3,0,0,3,3,3,1,0,2,3,0,1,3,2,3,0,2,3,2,1,2,1,0,2,2,3,0,3,0,1,2,3,2,0,0,1,2,0,0,0,2,2,3,1,0,0,0,2,2,3,0,3,1,2,3,0,0,3,1,0,3,0,0,0,0,2,0,0,3,0,3,0,3,1,2,2,1,0,3,2,0,3,0,2,0,3,3,3,1,3,2,0,0,0,3,3,3,3,3,3,3,0,3,0,0,0,3,1,1,2,0,1,0,2,1,3,3,3,2,3,0,2,1,3,2,3,1,2,0,3,2,3,0,2,3,2,3,0,0,0,0,2,0,0,3,3,0,0,3,2,0,2,1,1,2,3,2,0,3,2,2,3,0,3,0,0,2,0,0,0,2,1,3,3,0,3,0,3,2,1,2,0,3,1,1,2,3,2,0,0,0,1,1,2,2,3,2,0,0,3,3,0,0,2,2,0,2,2,3,3,1,2,0,3,3,3,0,3,3,3,2,3,2,3,0,2,2,3,0,2,2,3,3,3,0,2,2,1,0,0,0,1,3,3,1,0,0,0,3,3,3,2,2,0,2,3,2,2,3,2,3,3,0,2,3,0,2,0,3,3,2,0,2,3,1,3,1,0,2,0,0,3,3,0,0,3,0,1,2,2,3,2,0,3,0,0,2,3,3,2,2,0,3,3,1,0,0,2,0,1,3,2,2,1,3,3,2,3,3,1,2,1,0,0,3,0,0,0,3,2,2,3,2,0,3,0,3,2,1,1,3,0,0,1,1,2,2,0,2,0,0,3,0,2,0,0,0,1,0,1,2,0,0,3,2,0,0,3,0,0,0,1,0,2,3,3,0,3,2,2,0,0,2,0,2,2,0,0,0,2,1,3,0,0,0,3,3,0,1,0,0,0,0,1,0,3,0,3,0,2,3,3,0,3,0,2,0,3,2,0,1,0,0,2,2,1,3,2,2,2,3,0,0,0,2,0,3,3,2,0,3,1,3,2,0,3,3,1,1,3,2,0,3,2,1,0,0,0,2,0,3,0,2,0,3,0,2,1,2,2,3,2,0,1,1,0,0,1,2,2,2,2,2,0,1,2,1,0,0,1,3,2,3,0,3,3,3,3,2,1,3,3,0,1,0,0,2,2,0,2,0,0,2,3,0,0,2,1,3,0,3,0,0,0,3,1,3,3,3,1,0,1,3,3,1,0,1,0,3,2,3,3,0,2,1,0,1,0,2,3,2,0,0,3,2,2,3,3,1,0,1,2,0,1,1,0,1,3,0,0,1,3,3,0,3,1,3,3,1,2,0,2,3,3,3,1,1,3,0,3,0,0,0,3,2,2,0,0,0,0,2,3,2,2,3,3,1,2,2,0,3,3,0,2,3,3,1,2,3,3,3,1,3,3,1,1,0,3,3,0,0,3,2,0,3,2,0,2,1,3,0,1,1,0,3,1,0,0,3,3,0,0,0,3,2,1,0,3,1,3,1,2,1,2,3,3,0,0,2,3,0,2,1,3,0,3,3,2,2,3,2,0,1,3,0,0,2,2,2,1,0,0,0,1,3,3,0,0,2,0,2,3,3,1,3,2,2,2,0,0,0,0,0,1,0,2,3,0,1,2,3,1,0,3,0,0,0,3,0,1,0,0,0,1,0,2,3,0,3,3,2,0,1,2,0,0,0,3,3,0,3,0,0,3,3,2,0,0,2,0,2,0,0,1,3,3,1,3,3,3,2,1,0,0,2,3,0,3,0,2,1,0,2,3,1,1,0,0,3,0,0,0,0,3,0,0,2,2,2,0,0,3,3,2,0,1,2,3,3,0,3,0,2,3,0,3,3,3,1,0,1,0,3,1,0,0,0,0,0,2,3,0,2,2,3,1,0,3,0,3,1,0,1,3,1,0,1,0,0,1,3,3,2,3,3,0,2,0,3,3,1,3,0,0,0,2,2,1,0,2,3,2,3,3,3,3,2,0,3,3,3,2,0,2,0,0,2,1,2,3,1,0,3,0,3,3,3,2,3,3,3,3,3,0,0,2,2,0,0,1,1,2,2,0,0,0,1,0,2,0,0,1,0,3,3,3,2,2,2,0,3,2,0,2,3,1,2,3,3,3,2,2,0,1,2,0,0,0,2,0,3,2,0,3,2,3,0,2,3,2,2,2,0,0,0,0,0,0,0,3,1,3,2,3,3,3,2,3,2,0,2,0,2,3,0,2,0,0,2,1,1,2,2,2,0,0,3,0,0,0,2,0,1,0,2,1,0,3,2,0,2,0,3,0,0,2,1,0,3,3,2,2,2,2,0,0,2,0,2,2,3,0,0,0,2,2,2,3,0,0,0,0,0,3,1,3,1,0,1,0,2,0,0,3,3,3,2,2,0,0,2,1,0,2,3,1,1,0,3,3,0,0,2,3,2,2,0,0,2,3,0,0,2,3,0,1,2,3,3,1,3,1,2,1,3,0,0,3,0,2,1,0,0,1,3,1,2,0,3,0,1,2,3,2,2,0,0,1,2,2,3,2,2,0,2,0,0,3,3,0,2,2,0,0,3,0,3,3,0,0,3,0,3,0,3,0,0,3,3,2,3,2,0,3,3,3,3,3,3,2,3,1,3,0,0,2,3,0,1,0,2,2,0,1,3,0,3,1,3,1,0,2,0,2,0,3,0,0,2,3,3,1,0,0,3,0,3,2,1,0,0,3,3,1,3,3,0,0,2,3,3,1,0,2,0,2,2,1,0,3,3,1,2,0,0,0,0,2,3,3,2,0,0,3,0,1,3,0,3,1,1,0,0,1,1,3,2,0,2,2,1,1,2,1,0,0,0,3,0,2,3,3,1,3,3,2,3,3,0,0,0,3,0,0,0,0,0,2,2,2,0,0,3,3,1,2,1,0,0,0,0,0,0,3,3,3,0,0,0,2,3,3,1,1,3,0,3,1,1,2,2,3,2,0,3,0,3,3,0,0,0,3,0,2,0,2,2,0,0,1,0,3,2,3,3,0,2,3,0,3,2,0,0,0,2,0,2,0,3,0,3,3,0,0,0,2,1,1,2,2,0,3,3,3,3,0,1,0,3,2,3,3,0,2,2,2,3,0,2,1,0,2,2,2,0,1,0,3,1,0,3,3,0,0,0,0,3,3,2,3,3,0,3,0,0,2,0,3,2,3,0,0,1,3,0,1,0,0,0,0,0,2,0,2,1,0,2,0,3,3,3,0,0,1,3,3,1,3,1,1,3,2,2,0,2,3,0,3,0,0,3,0,3,3,3,0,2,3,2,1,3,3,3,3,2,0,1,2,3,2,2,2,3,3,2,1,0,0,0,3,0,0,0,2,3,0,0,0,0,2,3,0,3,0,0,0,3,3,0,0,2,0,2,0,3,0,3,2,0,3,3,0,2,0,2,0,3,3,3,1,0,2,0,3,0,2,0,1,2,0,2,1,1,0,1,0,1,2,0,1,3,2,2,0,1,1,0,0,1,0,3,2,0,0,3,0,0,0,1,2,0,2,2,0,0,2,0,2,3,0,0,3,3,1,0,3,3,1,3,3,0,1,3,1,0,0,3,0,0,1,3,2,3,0,0,0,1,1,2,0,1,3,3,1,2,0,2,0,3,0,0,2,0,0,2,0,3,0,2,2,2,3,1,3,3,2,2,0,2,3,3,3,0,0,3,0,2,0,0,3,2,1,1,3,0,3,0,1,2,0,3,1,2,0,3,3,3,3,3,0,2,3,2,2,3,0,2,0,3,3,3,3,1,0,2,3,2,0,3,1,3,0,2,0,0,3,0,0,0,2,0,2,0,1,0,1,3,2,3,1,0,1,3,3,1,3,3,3,1,2,2,0,0,0,0,3,0,0,2,0,2,3,2,0,3,1,2,3,3,0,2,2,0,0,1,1,3,1,1,3,2,0,0,0,0,1,2,3,3,3,3,0,0,0,3,1,0,0,0,0,0,0,3,3,0,2,1,0,0,1,2,0,3,1,2,1,3,3,0,0,1,0,1,0,0,2,2,3,0,3,0,0,3,1,3,3,0,3,3,0,0,2,1,0,0,0,0,0,2,3,0,0,3,3,1,0,3,0,2,1,1,3,0,3,0,3,0,2,0,3,0,1,3,2,2,3,3,2,1,3,3,0,1,3,2,0,2,3,3,1,3,2,0,0,2,0,2,1,2,0,0,0,1,1,2,0,1,0,3,2,0,1,0,0,3,0,0,3,1,1,3,1,1,0,1,1,1,2,2,0,1,3,0,0,1,1,0,1,1,0,2,0,3,3,2,0,3,0,1,2,1,1,3,3,0,3,3,3,1,0,3,3,0,0,0,1,0,0,3,2,0,3,0,3,3,3,3,2,1,3,1,0,1,0,2,0,0,0,0,0,0,0,2,0,1,0,2,2,1,2,2,1,0,1,3,3,1,3,0,0,3,3,0,3,3,1,2,3,3,2,2,3,3,3,1,1,3,0,0,1,2,0,0,0,2,0,3,1,0,1,0,0,2,2,2,0,3,3,0,2,3,0,3,2,0,0,3,1,0,2,0,2,0,2,2,1,1,1,2,0,0,3,2,0,3,3,0,3,1,0,0,0,0,0,0,0,3,0,1,0,0,3,2,1,2,0,0,2,2,2,0,1,3,2,0,3,0,3,0,0,1,2,3,3,0,1,3,3,3,0,2,0,3,3,3,1,2,3,0,0,1,1,3,2,2,3,2,2,3,1,0,3,3,1,1,3,0,1,3,0,3,0,0,2,3,0,1,1,1,2,3,2,2,0,1,0,2,1,3,0,2,0,3,3,0,0,0,0,0,0,0,0,0,0,0,0,0,1,0,2,0,0,3,3,3,3,0,0,0,0,1,3,3,0,1,1,2,0,3,0,2,0,3,3,2,0,0,3,0,0,0,0,2,2,2,2,2,3,3,0,0,0,0,0,2,0,0,2,0,3,0,3,0,0,0,3,3,3,2,2,3,0,0,0,0,1,0,1,1,3,0,2,0,0,3,0,1,0,3,2,0,3,0,3,0,2,1,0,0,0,0,1,2,3,3,3,2,0,0,2,0,3,2,0,0,2,2,2,0,2,2,0,0,1,2,3,1,0,1,0,3,1,0,0,0,0,3,0,2,2,0,0,1,1,2,3,1,0,0,0,2,0,2,0,0,3,3,0,2,0,1,3,0,2,2,2,1,1,3,0,0,0,3,2,1,3,2,3,2,0,3,1,3,0,3,0,3,0,0,3,0,0,2,1,2,1,2,0,2,0,2,0,3,0,0,1,0,1,2,0,0,3,2,1,0,3,2,2,0,3,3,2,1,3,1,2,3,1,1,0,3,0,0,0,2,2,0,1,0,3,3,2,0,3,3,0,0,1,2,3,1,2,3,0,0,0,2,1,0,0,0,0,3,1,0,2,2,2,0,1,3,3,3,3,0,3,1,0,3,3,0,2,0,0,1,3,2,0,3,0,2,3,2,1,0,3,2,2,3,0,3,2,0,3,3,2,0,3,1,3,1,0,3,0,1,0,0,0,0,1,0,0,0,2,2,3,0,2,3,1,0,3,2,3,2,3,1,1,2,2,0,0,2,3,0,0,1,0,0,2,0,2,3,2,2,0,2,1,0,2,0,1,0,0,1,2,1,0,3,0,0,2,2,3,3,0,0,1,0,0,2,3,2,3,3,2,3,2,0,2,3,2,0,0,2,0,2,2,0,0,2,3,1,2,3,2,1,1,0,3,3,0,2,0,1,1,3,0,2,2,1,2,2,3,3,0,3,2,1,2,0,3,0,1,0,0,0,0,0,1,2,2,2,1,1,2,3,3,1,3,2,0,0,0,2,2,3,0,3,0,0,0,2,3,3,3,0,1,0,0,3,0,0,0,0,0,0,0,0,0,0,2,0,0,3,0,3,0,2,2,3,0,1,2,0,0,3,3,2,2,0,0,2,3,1,3,0,0,3,1,3,2,1,3,0,3,0,0,1,3,2,0,3,3,0,1,2,0,3,3,2,0,0,1,1,2,3,2,0,2,3,0,2,3,2,2,1,3,1,0,3,0,0,3,0,3,0,0,0,1,0,3,0,0,1,3,3,0,3,3,0,1,0,0,2,1,1,0,0,1,3,0,0,0,0,0,3,0,0,2,1,1,2,0,3,2,0,3,3,0,2,0,2,0,0,0,0,0,0,3,3,1,1,1,0,2,2,2,0,0,1,0,3,0,2,0,0,0,3,3,1,0,2,1,0,0,3,1,2,3,0,0,0,2,1,3,0,3,0,0,2,2,2,3,3,1,3,3,2,1,3,0,0,3,0,0,0,3,2,0,0,3,3,3,3,0,3,3,0,0,3,0,3,1,0,2,2,3,1,0,0,3,3,1,3,0,3,2,0,3,1,0,2,0,1,0,2,0,2,0,3,3,3,2,0,0,3,3,3,0,3,0,2,1,3,3,0,0,3,0,2,1,0,1,2,3,0,2,2,2,0,2,0,2,3,0,0,0,3,3,1,1,0,2,0,3,2,1,0,3,0,0,0,0,0,3,0,0,3,0,0,1,2,0,3,3,2,0,2,0,0,3,2,1,3,3,0,0,3,3,2,0,0,3,2,0,0,3,3,3,3,0,3,1,3,3,3,1,2,0,0,0,2,3,1,1,3,0,0,0,0,3,3,3,0,0,3,2,3,0,1,0,3,2,0,2,2,3,2,0,3,1,0,2,2,3,3,0,2,3,1,2,0,3,0,0,3,1,0,0,3,3,0,3,2,3,3,3,3,0,2,0,3,3,0,0,0,0,3,2,1,3,3,0,3,0,1,1,0,0,3,3,0,0,3,0,0,0,3,0,1,1,1,0,0,3,1,3,0,0,1,0,3,0,3,0,2,1,1,0,3,3,1,0,0,1,1,0,3,0,0,0,2,0,1,2,2,2,3,0,0,1,2,0,1,0,3,0,1,3,2,1,3,3,0,2,2,2,0,2,0,2,0,2,3,0,3,2,3,0,3,0,0,0,3,2,0,1,1,3,2,1,3,0,0,2,2,0,0,1,1,2,2,2,2,3,2,2,3,3,1,3,0,1,1,1,1,3,2,0,3,2,1,1,0,1,3,1,2,0,1,3,0,1,0,2,0,3,3,2,2,0,2,0,0,0,1,1,0,0,0,0,0,1,3,3,2,0,1,0,1,2,3,0,1,3,0,0,1,0,0,0,3,0,2,3,1,3,1,3,0,3,2,0,0,3,2,2,2,3,3,2,3,2,3,0,0,1,3,1,2,2,3,2,0,0,3,1,3,3,0,0,3,0,2,1,3,3,3,2,1,2,3,3,2,0,2,0,1,0,2,0,0,3,2,0,0,1,3,3,0,2,0,3,0,0,2,1,0,3,1,0,3,3,3,0,0,0,0,1,2,0,3,0,0,1,3,0,2,1,2,0,0,3,1,3,0,1,2,0,2,1,2,0,1,1,3,0,0,2,2,0,3,0,2,0,2,2,0,2,1,0,0,0,3,2,0,1,1,0,0,1,0,3,0,0,1,3,1,3,0,3,1,2,1,2,0,3,2,3,0,0,0,0,0,3,1,0,0,0,0,1,2,2,0,3,0,0,3,0,0,2,0,2,3,3,0,0,3,0,3,3,1,1,0,0,0,0,3,2,0,0,1,0,2,1,2,2,0,1,3,3,0,3,0,0,0,3,2,0,1,3,3,0,0,3,0,1,3,3,0,0,3,0,2,1,1,2,1,0,3,0,3,1,3,0,0,0,2,2,0,1,2,3,2,2,2,3,2,0,3,0,0,3,3,3,3,1,0,0,0,0,3,1,0,3,3,2,0,1,3,3,2,3,3,3,0,0,0,2,1,2,0,2,2,0,3,2,0,2,2,2,0,2,1,0,2,2,3,0,1,2,2,0,0,3,1,2,3,3,3,0,3,1,2,2,3,3,2,0,1,3,3,2,1,0,1,1,0,0,2,0,0,3,2,0,3,3,0,2,3,3,0,0,3,0,0,3,1,0,0,3,2,2,3,3,0,0,0,0,2,2,1,2,0,1,0,3,1,0,0,3,2,3,2,3,0,0,2,3,0,3,3,2,0,2,3,1,2,0,3,2,0,1,2,3,3,0,0,3,0,0,3,0,0,3,1,3,0,2,0,2,0,3,3,1,0,0,2,0,2,3,0,0,3,0,2,0,2,0,2,0,0,3,0,2,0,2,0,0,3,0,0,1,0,3,0,2,2,3,3,1,0,2,3,3,0,1,3,3,2,0,3,0,0,2,0,1,3,2,1,0,0,0,2,0,2,2,0,0,3,0,3,0,3,3,0,2,0,2,3,0,0,2,3,3,0,0,0,0,2,1,0,0,3,0,2,0,3,0,3,2,3,2,0,0,0,0,3,0,1,1,1,0,1,0,0,3,0,3,1,2,3,3,0,0,2,3,1,3,0,1,3,0,0,2,0,0,2,3,3,1,3,1,3,0,3,1,3,2,1,1,0,3,3,3,2,0,3,0,0,3,2,1,0,0,3,3,1,3,0,1,0,1,0,1,0,1,3,2,0,2,0,3,0,1,2,1,1,2,0,1,3,3,3,0,2,3,0,1,2,2,1,2,2,3,0,0,2,0,2,2,0,0,2,3,3,0,0,0,3,0,1,0,1,3,1,2,1,2,3,0,3,0,0,1,0,0,0,3,2,0,0,3,2,0,1,0,2,1,2,0,2,0,0,3,0,3,2,1,0,0,3,3,3,1,2,3,2,1,2,2,0,3,2,2,2,0,1,1,1,3,3,0,2,0,1,2,3,2,0,0,3,3,0,0,3,1,0,3,0,0,2,0,2,3,0,2,3,0,0,0,2,0,0,0,0,0,1,1,2,2,0,1,0,1,2,1,0,2,2,1,2,0,0,1,0,0,3,0,2,3,3,0,1,0,0,2,3,1,3,3,3,2,3,3,2,3,3,2,3,3,3,2,0,2,2,0,0,0,0,1,0,0,3,2,0,0,0,2,2,1,2,3,0,0,3,2,1,3,2,3,1,0,0,0,2,2,2,0,1,3,2,2,2,0,0,2,2,1,1,2,3,1,3,3,1,2,0,0,3,0,0,0,0,3,3,1,1,2,3,1,0,1,0,1,3,1,2,3,3,3,0,2,0,1,1,3,0,3,1,3,3,3,3,1,0,3,3,3,0,0,3,0,0,0,2,0,2,3,2,0,2,2,3,1,3,2,3,0,3,2,3],\"colorscale\":[[0.0,\"#440154\"],[0.1111111111111111,\"#482878\"],[0.2222222222222222,\"#3e4989\"],[0.3333333333333333,\"#31688e\"],[0.4444444444444444,\"#26828e\"],[0.5555555555555556,\"#1f9e89\"],[0.6666666666666666,\"#35b779\"],[0.7777777777777778,\"#6ece58\"],[0.8888888888888888,\"#b5de2b\"],[1.0,\"#fde725\"]],\"showscale\":true},\"mode\":\"markers\",\"x\":[1,0,1,1,3,2,2,2,3,3,0,1,3,0,0,3,0,2,1,3,2,1,0,0,0,3,3,3,2,1,2,1,3,0,2,0,2,3,0,0,2,0,3,0,0,2,3,2,3,1,0,3,0,1,0,2,0,2,3,0,3,0,2,3,0,2,1,3,0,3,2,2,2,2,2,3,0,0,3,1,1,1,0,2,0,0,1,0,0,0,2,3,0,3,0,0,0,2,0,0,2,1,0,3,3,2,1,2,1,0,1,1,1,0,3,3,3,2,2,3,0,0,3,1,0,1,3,2,2,3,2,0,2,0,3,0,0,0,3,0,0,2,1,1,1,2,0,2,0,1,3,1,2,0,3,3,3,3,0,0,0,0,2,1,0,0,3,2,0,0,0,3,0,3,2,0,3,1,2,2,3,0,0,2,0,0,0,3,3,0,2,1,3,3,3,0,1,2,0,1,1,1,1,0,0,0,0,0,2,2,3,3,3,0,2,3,1,0,2,0,1,3,3,0,2,0,3,0,3,0,1,0,0,3,3,1,0,2,1,0,3,0,3,0,1,0,1,0,2,2,1,0,3,0,0,2,0,1,3,3,2,3,3,0,3,0,1,2,2,3,0,2,2,3,1,1,2,2,3,3,3,0,0,3,3,2,3,2,0,0,1,0,3,2,3,0,0,1,0,0,3,3,0,0,3,0,0,0,2,3,0,0,3,1,1,2,3,1,3,0,1,3,0,0,0,3,3,0,0,0,3,3,1,0,2,3,3,0,3,3,3,1,0,0,0,0,3,0,0,3,0,2,0,0,2,0,2,3,2,0,3,0,0,3,2,0,0,2,3,1,0,0,3,2,0,1,0,3,1,0,0,2,3,0,1,3,0,0,3,0,3,3,2,3,0,0,0,1,3,0,0,0,3,0,2,2,3,0,3,2,2,1,1,3,0,3,3,2,0,3,0,3,3,3,0,2,3,2,3,2,0,0,0,3,3,0,3,1,0,3,3,0,0,0,2,2,3,1,2,0,0,3,0,3,0,0,3,1,0,3,3,1,2,0,0,1,2,0,0,3,3,3,3,0,0,3,0,1,2,0,0,3,0,1,0,2,0,2,0,3,2,3,2,2,0,0,0,2,3,1,2,3,0,0,1,2,2,1,0,3,2,0,2,0,1,2,0,3,1,2,3,3,1,3,3,3,0,0,0,3,1,3,3,0,3,3,3,2,0,2,0,3,2,0,0,0,3,0,3,1,0,0,1,3,0,1,3,1,2,1,0,0,3,3,1,0,0,0,3,0,2,1,0,3,1,3,2,0,2,1,3,3,0,0,0,0,0,2,2,3,0,1,0,1,0,2,2,0,2,1,0,3,2,2,0,0,2,0,0,1,2,3,0,3,2,0,0,0,3,2,0,0,3,3,3,3,3,3,0,2,0,0,3,1,0,2,0,0,2,2,2,0,2,3,0,1,2,3,3,2,0,3,3,3,2,3,0,3,0,1,2,0,3,1,2,3,2,3,0,2,1,3,0,3,0,1,2,2,3,0,0,2,2,0,0,2,1,0,2,3,2,0,0,3,1,3,0,0,1,2,1,2,0,0,0,3,0,0,0,0,1,2,0,1,0,3,0,3,3,0,3,0,2,2,3,3,0,3,2,0,1,2,2,2,2,2,3,3,0,1,1,3,3,1,3,3,3,0,0,3,3,2,3,0,2,1,1,3,2,0,3,0,2,0,3,2,2,3,0,1,0,3,2,0,2,3,2,2,3,0,0,3,0,3,1,1,3,0,1,0,2,0,1,2,3,3,0,3,0,3,2,0,3,2,0,1,3,2,3,0,3,3,1,2,0,3,0,1,2,0,1,1,0,2,0,2,2,3,3,3,3,3,0,0,3,3,3,2,3,1,3,3,2,3,3,0,0,2,3,3,2,2,0,3,0,2,1,2,2,0,0,2,0,2,3,3,0,3,0,3,3,3,0,1,3,0,3,0,0,1,2,1,3,0,2,0,0,2,3,3,3,2,2,0,0,2,0,0,0,0,0,1,3,0,0,2,0,3,0,3,0,1,1,0,0,0,3,3,0,3,0,3,2,3,2,0,3,2,0,1,2,1,3,3,2,1,3,3,0,0,0,0,0,3,1,2,3,3,3,0,0,2,0,3,0,0,3,3,0,2,3,1,0,0,3,0,0,3,3,2,3,0,3,0,2,2,1,0,2,1,2,0,2,3,1,3,1,0,2,3,3,0,2,0,0,2,3,2,0,0,3,3,3,0,3,0,3,3,2,2,1,2,0,0,0,1,0,3,0,3,3,0,1,0,1,2,1,0,2,3,3,3,0,0,1,0,0,2,1,2,3,0,2,0,2,0,3,0,2,0,2,2,3,1,2,2,0,0,1,2,0,3,2,0,2,0,2,1,1,0,3,3,3,0,0,2,2,2,3,1,3,0,0,3,1,0,0,0,0,3,3,2,3,3,3,0,0,2,0,0,1,1,2,0,3,2,0,2,0,3,0,3,3,1,0,3,2,0,0,0,1,2,0,1,0,1,1,3,0,3,3,2,3,2,0,2,0,2,3,3,0,0,0,0,0,3,2,3,2,3,2,0,2,3,1,3,2,2,3,1,2,2,2,2,1,3,1,0,2,0,0,0,0,2,0,2,3,1,3,3,0,0,3,0,3,1,0,0,2,1,0,3,3,1,0,0,1,0,2,2,0,1,2,0,3,1,0,0,2,0,3,0,2,2,0,0,0,3,0,0,0,3,0,2,3,3,3,2,3,2,3,0,3,0,0,0,0,3,3,3,0,0,3,3,0,2,0,3,3,3,0,0,3,0,1,2,2,2,3,2,3,0,2,3,1,3,0,0,0,3,0,3,3,0,0,2,3,3,0,2,2,2,0,2,0,0,0,3,3,3,0,2,3,2,1,0,1,1,0,1,1,1,0,3,3,3,0,2,2,1,3,2,1,3,3,3,3,3,2,2,0,2,2,2,3,0,2,3,0,1,0,3,2,2,2,0,1,0,3,3,3,3,3,3,0,0,3,3,0,3,0,3,2,0,1,0,3,3,2,1,0,3,3,3,0,0,0,1,0,0,2,0,2,0,0,1,2,1,2,2,0,0,0,2,0,3,1,2,1,2,2,2,0,3,1,1,2,0,0,3,0,3,2,3,3,3,2,0,3,1,0,2,0,0,2,0,3,3,0,0,2,2,0,0,2,0,2,3,2,3,3,0,0,2,3,3,3,1,2,0,3,0,2,1,3,0,3,0,3,0,2,0,0,3,0,0,3,0,3,1,1,2,0,0,2,0,0,0,3,0,3,2,3,0,0,3,0,2,3,2,0,0,1,3,0,0,3,1,3,0,3,0,2,2,0,0,2,2,1,3,0,0,3,0,0,2,2,1,1,3,3,0,0,3,1,0,2,2,0,3,1,3,3,2,0,0,3,1,3,0,3,0,0,0,2,3,0,2,3,2,2,2,0,3,0,2,0,2,3,0,3,2,1,0,2,3,0,2,3,3,3,3,1,3,0,3,3,0,1,3,3,0,0,1,2,3,3,2,0,2,0,1,3,2,0,0,0,0,0,0,3,1,2,3,0,3,0,3,1,1,0,3,0,0,0,0,0,0,3,2,1,1,2,0,3,0,3,0,0,1,3,2,0,0,3,3,0,0,2,2,0,0,0,3,3,3,3,2,0,2,3,0,2,0,3,0,0,0,3,0,1,3,0,3,0,0,0,3,0,0,1,3,2,2,3,2,1,2,0,0,2,2,3,3,3,2,1,3,3,0,0,2,3,0,0,0,3,3,0,2,1,2,0,1,0,1,2,0,3,1,0,2,3,0,0,0,0,0,3,3,2,0,2,0,0,3,2,1,3,3,2,2,3,0,1,3,2,2,3,2,0,1,0,0,3,3,1,2,0,0,2,3,0,3,2,0,0,1,1,3,3,0,1,0,3,3,2,3,1,2,2,2,0,2,0,2,0,3,1,3,2,0,0,0,0,2,1,3,0,2,0,1,3,0,0,0,0,2,3,2,3,3,0,1,2,0,2,2,1,2,0,1,2,0,2,1,3,1,0,3,0,3,0,1,2,0,1,2,0,0,2,0,2,2,0,2,0,1,1,0,3,0,1,0,1,3,2,1,0,3,3,3,0,1,0,0,1,0,2,0,0,2,3,0,0,0,0,0,2,0,3,3,0,1,0,3,2,2,2,0,2,2,3,0,2,0,0,1,1,2,0,2,3,0,0,0,0,2,0,1,0,1,0,2,3,1,0,2,2,0,3,3,3,3,1,3,3,0,2,0,3,2,3,0,2,3,3,3,1,0,2,2,2,2,1,0,3,3,1,3,0,3,0,0,2,2,0,0,3,0,3,3,0,1,0,0,0,1,3,0,1,2,3,0,0,3,0,1,1,3,2,0,3,0,0,0,3,0,3,1,2,0,2,0,3,1,3,2,2,0,2,2,3,3,2,0,0,0,3,3,3,3,2,0,0,0,3,3,3,0,0,0,0,2,1,0,3,3,0,0,3,0,2,3,2,0,3,0,0,0,0,3,0,0,3,3,0,3,3,3,3,3,2,0,2,0,3,0,3,3,0,2,0,1,0,3,0,0,0,3,2,0,2,1,0,2,3,3,1,1,3,0,0,1,3,0,2,0,3,1,2,1,2,2,1,3,3,0,2,2,3,3,2,3,2,1,0,3,2,3,1,2,3,1,2,2,1,0,0,2,1,0,1,3,0,3,2,1,3,1,0,1,0,0,0,0,1,3,3,0,0,0,3,3,2,3,0,3,0,3,2,2,3,0,0,2,0,0,2,0,3,0,0,2,3,3,0,3,3,0,0,2,0,1,1,2,3,0,2,3,3,0,3,2,0,3,0,0,0,1,1,3,0,3,0,0,0,0,3,1,3,3,0,1,1,3,3,0,2,3,2,2,0,1,0,0,2,0,3,0,0,1,1,3,0,1,2,1,2,0,0,0,3,0,1,2,3,0,3,0,0,2,0,1,2,2,0,2,0,3,0,2,0,2,2,0,0,0,3,3,0,0,0,0,2,3,0,3,0,0,0,3,3,0,2,0,2,2,3,3,0,2,2,0,0,0,0,0,2,3,3,3,0,3,3,3,3,2,3,0,0,0,3,3,3,0,1,0,0,2,0,2,2,0,0,0,0,3,3,0,3,1,3,1,2,0,1,0,3,0,3,1,0,1,1,2,2,3,2,1,3,0,2,1,0,0,1,0,0,3,2,3,0,0,0,0,0,3,1,3,2,2,3,1,1,2,0,0,3,3,0,0,3,3,3,0,1,0,0,2,1,0,1,3,0,3,3,0,3,0,0,1,0,0,0,2,3,0,0,3,1,0,3,0,0,1,1,1,2,0,2,0,2,3,3,0,1,1,3,0,0,1,2,2,0,3,1,3,2,3,1,3,2,0,2,0,3,0,3,2,2,0,0,0,0,0,1,0,2,0,3,3,3,2,3,3,3,3,3,0,3,0,1,3,1,0,0,2,0,0,3,3,3,0,0,0,3,3,3,2,3,0,2,0,2,0,1,1,0,1,3,1,2,0,1,1,2,0,0,2,0,2,0,0,2,0,0,2,2,2,3,2,2,3,2,0,3,2,2,0,3,3,0,2,2,0,3,3,3,0,2,0,2,0,0,0,2,0,1,1,3,0,0,3,0,1,2,0,0,2,1,3,0,3,1,1,0,1,2,1,3,3,3,1,0,2,0,0,2,2,0,2,3,3,0,0,0,1,3,2,0,1,1,3,3,2,0,0,1,3,3,3,0,3,0,0,2,0,3,2,3,0,3,3,2,2,0,1,1,3,0,0,3,3,0,0,1,3,0,3,0,2,3,3,0,3,0,0,0,0,3,3,3,0,0,1,0,3,2,1,2,0,2,2,3,0,2,0,2,0,0,0,0,0,2,3,3,1,3,3,3,0,1,3,1,3,1,2,2,3,0,2,3,0,3,2,3,0,2,0,0,3,0,0,1,1,0,3,3,0,0,3,2,0,1,0,2,3,1,0,2,3,3,1,2,3,3,0,1,2,2,2,1,3,3,1,3,0,3,0,0,3,0,3,2,2,3,3,0,2,0,0,3,1,3,0,3,2,0,0,3,0,1,0,3,0,0,3,0,2,3,0,0,0,2,2,0,3,0,0,0,0,3,0,0,1,2,3,0,2,0,1,0,0,1,0,0,3,0,3,0,2,2,2,0,2,2,2,0,0,2,0,2,0,2,3,0,1,3,3,0,3,0,3,0,3,0,2,0,3,1,1,2,1,0,3,3,0,0,3,3,1,1,1,0,3,0,0,3,1,2,3,1,3,2,3,1,3,0,1,3,3,3,1,0,2,3,0,0,0,3,2,2,2,2,0,2,0,3,0,1,0,2,0,1,0,1,3,0,0,0,3,2,0,0,0,3,0,3,3,1,3,2,3,3,2,0,0,0,3,3,2,3,0,1,0,2,2,2,1,2,1,3,3,0,0,0,0,2,1,1,3,0,1,1,1,2,3,2,1,3,2,2,3,3,2,2,3,3,2,2,3,3,2,1,2,0,3,0,3,3,3,3,2,3,2,2,0,3,3,3,2,3,3,2,0,1,1,2,3,3,0,0,2,0,0,0,1,0,1,0,3,1,2,1,3,0,3,0,0,1,3,2,0,0,0,0,0,2,3,2,0,0,0,0,0,3,0,0,2,3,0,1,3,2,3,0,2,2,3,2,0,1,1,0,0,0,1,2,0,3,0,2,2,1,1,0,2,1,1,3,0,2,0,2,3,0,1,3,1,0,1,0,3,3,0,0,1,0,3,2,3,2,3,0,0,3,0,2,0,1,0,3,1,1,1,3,0,1,0,0,0,3,0,2,0,2,1,2,0,3,0,1,0,1,0,2,2,2,0,0,3,2,1,3,1,0,0,3,2,2,2,0,0,2,3,2,1,1,2,2,0,2,2,2,0,0,2,0,0,3,0,0,3,1,1,3,0,3,1,3,0,0,0,1,2,3,2,0,2,1,1,0,0,2,0,0,0,3,3,0,0,0,1,0,3,3,1,3,1,3,3,1,3,3,0,0,3,0,0,1,2,1,2,2,0,2,3,0,3,2,2,1,0,1,0,0,0,0,2,0,0,2,3,3,3,0,2,3,3,2,3,3,0,3,2,3,0,0,3,2,1,1,1,0,3,0,1,3,0,3,3,3,1,0,2,0,3,0,3,3,0,2,2,2,0,3,1,1,3,1,0,3,2,3,1,0,3,2,2,2,0,0,0,0,0,3,2,0,2,3,0,0,3,1,1,3,0,1,3,2,0,3,3,3,2,2,0,0,2,0,3,0,2,3,2,3,0,2,0,2,2,1,0,0,3,3,1,3,0,3,1,0,3,0,1,3,3,0,2,0,3,1,2,2,1,0,0,0,2,0,0,0,0,0,0,2,2,1,0,3,0,0,1,3,1,3,3,0,0,3,2,3,0,0,2,3,3,0,2,0,0,0,3,2,2,3,2,0,2,0,3,3,3,0,0,1,3,0,1,2,0,3,0,0,1,3,3,0,0,0,3,3,3,0,2,3,0,3,2,0,3,3,2,2,2,3,0,0,1,0,1,0,0,1,1,1,0,0,3,2,1,3,2,2,3,1,3,2,3,2,3,1,2,2,0,3,0,2,3,2,3,0,3,3,3,1,0,3,1,3,2,2,0,0,3,1,2,3,3,3,3,3,0,2,3,2,2,3,0,2,2,0,3,0,2,3,2,0,3,2,2,3,0,0,1,3,1,1,0,2,2,2,2,3,0,0,0,1,2,0,3,3,1,2,3,0,2,2,1,1,3,3,3,3,1,3,3,0,0,2,0,0,3,3,3,3,0,1,2,0,3,0,0,1,2,0,0,3,1,0,2,2,3,3,0,0,3,2,0,2,0,0,2,0,3,2,0,0,1,3,0,2,0,0,3,0,2,0,0,0,2,2,1,3,0,3,3,0,3,2,1,3,1,1,2,0,0,1,2,3,0,3,2,0,0,0,0,3,0,0,0,2,0,2,2,0,3,0,2,2,1,2,2,3,3,3,3,1,2,1,2,0,0,0,3,2,3,0,3,3,3,3,2,3,0,0,3,1,0,0,2,3,3,3,2,3,3,0,3,3,0,1,2,0,0,2,1,0,2,0,3,1,0,0,0,0,2,0,0,0,0,0,0,2,0,0,3,2,1,0,3,3,0,0,0,0,1,1,0,0,1,3,0,3,2,0,0,2,0,0,0,2,3,1,3,0,1,3,0,0,0,1,3,3,3,0,0,2,3,0,1,3,1,3,3,1,2,0,2,3,0,0,0,0,1,3,0,0,0,0,0,3,0,0,2,3,3,1,3,1,0,0,3,0,1,1,0,3,3,1,3,2,1,2,0,0,2,1,0,3,0,1,2,1,0,0,0,2,0,0,0,1,2,2,0,2,3,0,3,3,1,3,0,3,3,3,3,2,0,2,2,2,0,3,0,1,0,0,2,0,0,2,0,2,2,3,1,0,3,0,3,0,3,0,2,0,3,0,0,0,3,3,1,3,0,0,0,0,2,2,2,0,3,0,0,0,2,2,0,3,0,0,2,0,3,0,2,0,3,2,0,3,3,3,0,1,3,0,3,2,2,3,1,0,3,0,3,0,0,3,2,0,1,0,2,1,0,1,2,2,3,0,1,3,3,1,0,3,0,0,1,0,3,0,3,0,2,0,3,0,0,1,0,2,0,3,1,1,0,0,0,0,0,0,3,0,3,0,0,1,2,2,1,0,3,2,3,1,1,0,0,3,3,2,0,0,2,1,3,0,2,0,1,2,0,2,1,0,0,0,3,1,0,3,3,0,0,0,0,3,0,0,0,0,3,0,0,3,0,3,0,1,3,1,0,1,1,2,0,0,0,0,1,0,0,2,3,0,0,0,0,2,0,0,0,3,1,3,3,1,2,3,2,2,3,0,0,0,1,2,3,1,0,1,2,2,2,0,0,0,0,0,3,0,1,2,1,2,3,1,2,1,2,0,2,3,3,3,0,3,3,1,0,3,0,0,3,1,0,3,0,0,0,3,0,1,2,3,3,3,0,1,3,0,3,0,1,2,0,2,0,2,3,1,3,3,3,0,3,3,3,3,0,2,3,2,0,0,3,0,2,0,3,0,2,3,0,0,0,2,3,2,0,0,3,0,0,3,2,0,0,1,2,0,3,0,3,3,0,0,1,0,2,2,0,3,3,0,3,2,0,0,3,3,0,0,0,1,3,2,0,3,0,0,0,0,0,0,0,3,1,3,3,0,1,0,2,1,0,3,2,0,3,1,2,2,2,0,3,0,0,0,0,1,1,2,0,1,2,0,3,0,0,2,1,1,0,3,3,1,0,3,0,1,0,2,1,3,0,3,3,3,0,3,2,3,2,2,0,3,0,2,0,3,0,2,0,3,0,3,0,0,3,3,0,3,3,1,0,1,3,3,2,0,0,2,0,1,2,0,0,0,0,1,0,3,1,3,0,0,0,1,2,0,1,0,0,0,1,2,2,3,3,3,0,1,0,0,0,0,3,1,0,0,0,0,0,3,3,3,2,2,0,0,0,1,3,1,0,0,0,0,3,3,3,1,2,2,2,3,3,3,0,1,0,3,1,3,3,1,0,1,0,2,3,1,2,3,0,0,0,0,0,0,2,1,3,3,0,1,1,0,3,0,3,0,0,2,3,3,3,3,0,2,1,2,2,2,2,3,2,3,2,0,2,0,0,0,0,3,3,3,0,3,2,0,3,3,3,1,3,2,0,0,3,2,3,0,1,1,2,3,1,2,2,0,2,2,3,0,0,2,2,1,3,1,3,2,0,3,0,0,0,0,0,1,0,2,1,2,3,0,1,3,2,1,0,3,0,3,3,0,3,2,0,1,3,3,0,0,2,0,0,0,0,2,1,2,0,0,3,2,0,3,0,2,0,0,0,2,2,1,0,3,1,0,2,3,0,2,0,3,1,0,3,2,0,2,0,0,0,2,1,0,3,2,1,1,3,2,3,0,0,3,2,0,2,0,3,0,3,0,3,1,1,3,1,3,0,3,0,2,0,0,3,0,3,3,0,0,1,0,3,2,2,2,0,0,3,2,2,0,0,0,0,2,1,2,2,2,3,3,0,2,1,0,3,1,3,0,0,0,2,1,3,2,3,0,2,0,3,3,2,0,2,0,0,1,3,2,0,2,0,2,2,3,2,0,1,0,1,2,3,3,0,2,2,2,2,0,3,0,0,2,0,0,3,2,2,2,0,3,2,3,2,0,0,2,3,3,0,1,0,1,1,3,0,3,3,0,2,3,3,0,1,2,0,2,2,2,0,0,1,0,0,3,3,0,3,0,0,0,2,3,3,0,0,1,1,3,3,0,0,0,3,0,3,0,0,0,0,0,3,0,0,0,2,0,0,0,1,1,0,0,3,1,1,3,3,3,0,0,0,2,3,1,0,2,3,3,0,2,0,2,0,0,1,0,0,2,2,2,1,0,3,3,0,3,2,2,2,3,1,3,3,0,3,0,1,0,3,3,0,3,0,0,3,0,0,2,3,2,1,0,0,0,3,3,2,3,2,3,3,2,0,3,0,0,0,0,0,1,0,0,0,0,2,0,1,2,3,2,2,0,0,0,1,2,0,1,0,2,0,2,0,3,0,2,2,2,0,1,3,1,0,1,0,0,2,0,0,3,0,2,0,1,3,0,3,0,0,2,0,0,0,0,0,2,0,3,3,0,2,0,0,3,3,2,0,3,3,1,2,0,2,2,1,0,0,3,1,0,2,3,0,0,0,1,3,0,0,2,2,0,0,0,3,1,3,0,0,1,3,0,2,0,1,2,1,2,0,3,0,3,0,0,0,1,2,0,2,0,2,3,0,0,1,2,1,2,0,2,0,0,1,3,3,2,0,1,3,0,3,2,3,3,0,0,2,2,0,3,2,3,2,3,2,3,1,0,0,0,2,0,3,0,0,3,0,0,2,2,0,0,1,2,3,3,3,2,0,2,2,1,0,3,0,2,3,0,2,3,1,0,2,2,0,2,0,2,3,3,2,0,2,3,0,2,1,3,0,2,1,0,3,3,2,2,1,1,0,2,0,1,1,2,2,3,3,0,2,3,0,3,3,3,0,3,1,0,2,3,2,3,3,3,2,3,2,1,1,0,2,1,3,0,0,1,0,3,0,1,2,3,0,3,3,3,3,2,1,2,0,0,3,3,3,3,1,2,0,2,3,3,0,3,3,3,2,3,2,3,2,0,3,0,3,3,1,0,2,2,1,3,1,2,2,2,2,2,0,2,2,2,0,0,0,2,0,3,0,1,1,2,1,1,3,0,0,2,0,3,0,3,3,3,2,3,3,2,0,0,2,0,1,3,2,2,3,0,3,2,0,0,0,0,3,3,0,2,0,0,2,2,3,2,2,0,0,0,3,2,2,3,1,0,0,0,3,3,3,3,3,3,0,1,3,0,0,0,3,2,0,3,0,2,1,0,2,2,0,2,1,0,0,3,0,2,1,1,0,1,0,2,3,3,0,0,3,1,3,3,3,3,2,0,0,0,0,3,1,0,0,3,3,2,1,3,1,3,0,0,2,0,3,0,0,3,1,2,0,1,2,0,0,1,3,2,3,0,3,0,3,0,2,2,0,3,3,1,0,3,3,0,1,0,1,0,2,2,3,0,0,2,3,0,1,1,3,0,3,3,3,2,3,3,0,1,2,2,2,0,3,0,2,2,0,2,1,2,1,0,2,0,2,1,3,3,3,3,3,0,1,3,3,0,2,0,0,1,1,2,0,0,0,0,0,1,3,2,3,1,2,0,0,3,2,2,2,3,0,3,3,3,0,0,1,3,1,0,3,0,3,1,3,0,3,3,1,1,1,2,0,2,0,2,1,3,3,0,0,3,1,3,2,3,0,1,1,3,0,1,3,1,2,1,0,2,2,3,1,2,3,0,3,0,3,3,2,3,0,0,0,3,0,3,0,2,3,2,0,3,0,0,0,3,0,3,2,0,0,2,2,0,0,0,0,2,1,0,0,2,3,2,0,2,3,0,0,1,0,1,0,3,0,2,0,1,2,2,1,0,0,2,3,3,0,2,3,0,3,2,2,2,0,2,1,3,3,0,0,0,2,3,0,3,2,0,2,2,2,2,0,0,2,3,3,1,3,0,0,2,0,0,0,3,2,2,0,0,0,3,1,2,3,2,0,0,0,0,1,2,2,0,3,1,2,0,0,3,3,3,0,3,1,3,2,3,3,0,2,3,1,3,0,0,0,2,2,0,3,2,1,2,0,3,2,3,2,3,0,0,2,0,0,0,1,3,3,1,2,3,2,0,0,3,0,3,0,0,3,0,0,2,0,3,1,3,0,0,0,2,3,2,3,0,0,3,2,0,3,2,2,2,0,2,1,2,2,3,0,0,0,1,0,0,3,0,3,3,2,0,0,3,1,3,3,2,1,1,3,0,1,0,0,1,1,0,1,0,3,0,2,0,0,1,3,0,0,0,0,3,0,2,1,3,3,0,1,3,0,3,1,2,2,2,1,3,3,3,1,1,0,3,1,2,2,3,0,1,0,3,2,2,2,1,0,0,0,1,0,3,2,0,0,1,1,0,0,2,0,2,3,1,0,2,3,2,2,0,3,0,0,2,2,3,1,2,1,0,0,2,1,0,3,1,1,0,0,3,0,1,3,0,0,3,0,2,0,3,3,3,0,0,0,3,0,3,0,0,1,0,3,3,1,2,2,1,1,3,0,3,2,0,3,0,3,2,3,0,0,0,2,0,3,2,3,3,0,2,3,2,0,3,3,0,0,0,0,1,0,2,3,2,1,3,0,3,2,3,1,0,1,3,0,1,3,0,0,2,0,0,0,3,1,1,0,0,1,1,2,2,2,3,0,0,0,1,0,2,1,3,3,2,0,0,0,3,3,3,3,0,0,0,0,0,0,2,1,3,0,0,0,3,2,1,1,3,1,3,2,0,0,0,3,3,3,2,2,3,0,1,0,0,2,0,0,0,1,3,0,0,2,3,1,2,0,1,0,0,0,0,1,3,2,0,0,0,2,3,0,2,3,3,0,0,3,0,3,0,3,0,2,0,1,3,0,0,1,2,1,0,0,0,3,2,0,1,0,0,3,2,0,1,2,2,0,3,0,0,0,3,2,1,2,1,2,1,3,1,1,0,0,2,2,2,1,2,1,2,0,3,2,0,0,2,3,1,2,3,1,1,2,2,3,2,2,0,3,1,2,2,3,3,0,2,2,0,3,3,1,3,1,3,2,1,2,0,1,0,3,3,2,0,3,0,0,1,3,3,2,0,0,2,2,1,0,0,0,0,0,0,3,1,3,2,0,0,3,1,3,3,3,0,0,2,2,0,0,0,0,3,2,0,0,2,3,0,3,2,2,0,1,2,3,0,2,0,2,3,3,2,3,0,0,2,0,0,0,2,0,0,0,0,0,0,2,3,1,1,2,3,3,1,1,2,0,0,0,1,3,0,2,3,2,0,0,1,0,2,0,1,3,1,3,1,0,2,3,1,3,2,3,2,2,0,3,1,1,1,0,1,2,0,3,2,1,1,3,2,0,2,2,0,3,2,3,1,0,3,3,3,1,1,1,1,0,3,2,3,1,3,0,2,0,2,0,0,2,0,1,2,0,0,3,3,3,0,2,0,3,3,3,0,3,3,2,0,3,2,1,0,0,3,0,3,2,3,0,1,0,3,0,0,3,0,2,2,1,3,0,0,0,3,3,2,0,2,2,2,3,3,3,1,2,2,0,2,3,0,3,1,3,1,0,3,1,2,3,1,0,1,0,3,1,2,3,3,2,0,2,0,2,3,0,3,0,0,0,1,0,2,0,1,0,1,1,0,3,2,0,2,2,0,3,1,3,2,0,1,3,1,0,0,3,0,0,2,3,3,0,2,2,0,0,3,1,3,0,0,0,2,2,0,0,3,0,2,2,0,0,0,1,3,0,1,0,1,3,2,2,3,3,2,3,0,2,0,0,2,3,1,0,0,1,1,3,0,1,1,3,0,3,3,3,2,3,1,0,3,0,3,0,0,0,2,2,1,0,0,0,2,3,1,0,0,3,3,3,3,0,1,3,2,0,3,2,1,1,0,0,2,3,3,2,2,1,3,1,0,0,0,0,3,1,3,0,0,2,1,0,3,2,2,3,2,0,0,0,0,0,1,1,1,0,0,1,3,0,0,0,1,0,0,3,3,0,0,1,1,2,0,1,1,3,1,0,1,0,1,0,3,2,2,0,3,0,3,2,0,3,3,1,0,2,3,2,1,3,1,3,0,1,1,1,3,1,3,3,1,2,2,1,3,0,0,2,3,0,2,0,2,0,0,2,3,1,2,0,0,3,3,3,1,3,3,2,2,1,3,2,0,2,0,0,0,0,0,0,0,1,0,0,2,1,1,3,0,0,3,0,1,2,3,3,0,2,0,2,2,3,3,2,2,1,0,0,0,2,3,2,1,0,0,1,3,3,2,2,0,2,1,2,2,1,3,3,2,1,2,3,3,0,3,3,2,2,3,0,1,0,1,2,1,3,3,0,2,1,2,2,0,2,0,3,0,1,0,3,2,1,3,3,3,3,0,0,1,1,3,0,2,3,3,3,0,3,1,3,0,0,2,1,0,1,0,3,0,1,3,3,3,0,0,0,0,0,2,2,3,2,2,2,3,0,0,0,0,0,1,2,3,0,2,2,3,0,3,0,1,3,0,0,2,3,1,2,3,0,0,0,0,3,3,0,3,0,0,0,2,3,0,1,2,0,2,3,3,2,0,2,0,3,1,2,2,0,0,0,0,2,0,0,0,0,1,2,2,3,3,0,0,3,0,0,0,2,3,3,1,0,1,3,3,0,3,1,0,0,3,3,2,3,1,0,3,1,1,3,3,2,0,2,0,0,3,0,0,1,0,3,3,2,2,0,2,0,3,0,3,0,0,3,0,3,3,2,3,0,3,0,0,1,0,1,2,3,0,0,1,0,2,3,0,0,1,0,0,0,3,3,3,0,3,2,1,2,0,3,2,3,0,0,1,2,3,3,0,0,3,3,2,0,0,1,2,3,2,0,1,3,3,3,3,0,0,0,1,2,3,3,2,1,3,3,3,3,0,0,2,3,1,3,3,0,0,0,2,0,1,2,3,0,3,0,0,0,3,0,0,0,1,3,0,3,0,0,0,3,3,0,3,0,0,3,0,3,2,2,0,0,2,1,2,3,3,0,0,2,0,0,3,0,1,3,0,0,1,1,3,2,3,3,2,2,3,0,2,0,1,2,1,0,0,1,2,2,3,3,3,0,0,0,0,0,2,3,1,1,2,2,1,0,0,0,0,0,0,2,2,1,3,0,0,3,2,3,2,2,0,0,2,0,3,0,0,0,3,0,2,0,0,3,1,3,2,0,2,1,3,0,2,3,0,3,0,0,0,2,1,2,2,2,0,1,3,3,2,0,0,0,1,3,3,2,0,0,2,0,0,2,3,0,0,3,3,0,2,3,3,3,3,1,2,2,2,0,1,0,0,3,0,3,2,3,0,0,0,0,1,3,3,3,3,3,1,0,2,0,0,3,2,3,3,0,0,2,1,0,3,0,3,1,1,3,2,2,2,1,1,0,0,2,0,0,0,1,2,0,0,3,1,3,3,0,2,3,0,3,3,0,3,2,0,3,1,3,0,2,0,0,3,2,3,3,2,3,2,2,2,2,3,0,1,2,3,3,0,1,0,3,2,3,1,3,3,1,2,3,3,0,0,0,0,1,2,3,0,2,0,2,0,0,0,2,2,3,0,0,1,0,1,2,0,2,2,0,3,2,0,3,1,3,0,2,2,0,1,2,3,3,3,0,2,3,2,3,0,1,3,0,3,2,1,2,1,0,1,0,0,2,0,0,0,2,2,2,0,3,2,0,0,3,0,0,2,3,0,3,0,0,1,0,2,2,3,3,2,0,3,0,1,0,0,0,1,1,0,0,3,1,0,1,0,3,1,0,2,2,0,2,3,1,1,1,3,1,3,2,2,2,0,0,3,1,3,2,2,2,0,2,1,2,2,0,3,3,3,3,0,0,2,1,0,3,0,1,2,0,0,3,3,3,0,3,2,3,3,0,2,1,2,2,2,3,0,0,2,0,0,0,0,3,1,2,0,0,3,0,0,2,0,2,0,0,0,2,0,0,1,2,2,3,0,3,0,3,1,0,2,3,3,2,2,2,1,3,3,2,1,3,2,3,0,3,3,1,0,0,1,2,3,2,3,3,2,3,2,0,3,3,3,0,0,3,0,3,3,2,2,2,1,0,2,0,3,0,2,3,3,0,2,3,2,2,3,3,3,2,3,0,1,0,2,2,2,3,3,2,0,0,3,0,0,3,1,3,2,2,2,3,2,0,1,0,1,0,0,3,2,3,0,3,1,3,0,3,0,1,0,3,0,2,1,3,3,0,3,3,1,0,1,3,0,0,0,0,0,3,0,0,3,1,3,3,0,0,3,3,0,2,3,0,3,0,0,3,1,3,3,0,0,1,0,3,3,1,3,0,0,0,0,0,0,2,2,3,0,3,2,1,2,1,2,0,3,3,3,0,2,0,1,2,2,1,2,0,2,0,0,0,3,0,2,0,1,2,3,2,0,0,0,1,2,2,2,3,0,1,0,3,0,0,2,1,0,3,1,3,3,1,2,0,3,0,3,3,2,0,3,1,0,3,3,0,1,3,1,0,0,1,0,2,0,3,3,3,2,2,3,1,0,2,1,2,1,0,0,3,3,3,3,0,3,2,1,2,2,2,3,3,3,1,0,3,0,0,3,2,1,3,0,3,0,2,2,0,1,0,2,3,3,3,2,0,2,2,3,1,3,1,3,3,2,0,2,3,3,0,3,3,0,0,3,0,0,0,2,0,2,3,2,0,0,3,2,2,0,2,1,3,0,2,0,0,2,0,1,3,3,0,0,2,1,0,0,0,0,3,0,0,0,1,0,0,0,2,0,0,1,2,3,3,0,0,0,3,0,3,3,0,0,3,3,3,0,3,0,2,0,2,0,0,2,0,0,3,1,2,2,0,0,3,2,2,3,3,0,3,1,1,0,0,3,3,3,0,0,0,3,2,0,1,2,3,2,3,2,3,3,1,0,0,0,3,3,0,0,0,0,2,0,3,0,0,3,0,0,0,0,3,1,0,0,3,0,2,0,0,0,1,3,0,2,2,3,0,3,3,0,3,3,0,2,0,0,3,0,3,2,0,3,0,0,3,3,0,2,3,1,0,0,0,0,0,3,0,3,0,0,0,0,0,0,1,3,2,3,0,0,0,3,1,2,0,0,2,0,3,0,3,3,2,0,2,0,3,3,0,3,0,1,2,3,0,3,0,2,2,1,2,0,2,0,1,0,0,2,1,3,2,0,1,0,3,2,0,2,0,3,1,0,2,2,0,3,3,2,0,0,2,3,1,0,2,3,3,3,0,2,3,1,0,0,3,0,3,3,1,0,1,0,0,2,2,0,0,3,3,0,2,1,2,2,3,0,1,0,2,0,2,3,0,2,3,0,1,0,0,2,3,3,1,0,0,3,2,0,2,0,0,2,2,3,0,3,3,3,1,2,0,3,0,1,0,0,3,3,3,0,0,0,0,0,3,1,0,0,2,0,3,2,1,1,3,3,3,3,0,3,0,0,2,0,0,0,2,3,0,0,3,3,2,3,0,0,3,2,3,0,0,0,0,3,3,3,0,0,0,0,1,3,3,0,2,2,0,3,0,2,0,0,0,3,0,3,0,3,3,0,3,0,3,2,0,0,3,3,2,1,0,0,0,3,2,1,0,2,3,1,2,0,0,1,0,0,3,2,2,3,1,2,0,2,3,0,0,1,0,2,0,1,1,3,0,0,2,3,3,0,2,1,1,1,3,3,0,1,1,0,0,3,0,2,2,3,3,1,1,2,0,2,0,3,1,0,2,0,2,0,2,2,1,0,3,0,0,0,0,0,2,0,3,1,2,0,3,1,3,0,1,0,0,0,0,3,3,0,1,2,0,0,3,0,2,1,0,2,3,0,3,1,3,0,0,1,0,0,2,2,2,3,3,0,2,2,1,0,1,0,1,2,1,0,0,0,3,3,2,1,0,0,3,3,3,2,3,3,3,3,0,1,3,0,2,3,0,0,0,1,1,3,0,2,0,3,3,0,0,0,3,3,2,0,3,3,1,0,0,3,0,0,1,0,3,3,1,3,1,0,0,1,0,2,0,3,3,3,0,0,0,3,0,2,3,0,3,3,3,1,2,0,3,1,2,3,1,2,2,3,3,3,3,0,0,3,1,2,0,0,3,1,2,2,0,1,2,1,3,0,3,0,2,2,3,2,0,0,3,3,0,1,2,0,1,0,3,3,3,2,3,1,0,3,3,0,1,3,0,1,2,0,0,3,3,1,3,1,2,1,2,2,3,2,2,0,3,1,3,0,3,0,3,0,3,2,0,0,3,2,0,3,1,2,3,3,2,0,2,0,3,2,3,2,1,0,2,0,0,2,2,0,1,3,1,0,2,0,0,2,0,0,0,1,0,0,0,3,2,2,3,0,0,3,2,2,3,2,1,0,2,2,3,3,0,1,1,0,2,3,0,0,2,0,0,0,1,0,0,1,2,0,0,2,2,0,0,1,3,2,2,0,3,1,3,1,1,0,1,2,3,3,3,0,1,3,3,3,3,1,0,0,3,0,0,0,3,0,1,0,2,3,2,2,2,3,2,2,1,2,2,3,0,0,3,3,3,3,3,3,1,0,1,0,0,2,0,0,3,2,2,2,3,3,0,0,3,3,3,2,0,2,0,2,1,2,2,3,3,3,3,0,1,3,3,1,0,0,1,1,0,0,1,0,0,2,0,3,3,2,3,1,2,1,0,0,3,1,3,2,0,3,0,0,0,0,0,1,0,1,0,0,2,1,2,1,0,2,1,2,2,0,3,3,3,2,0,3,0,0,2,1,1,1,0,0,2,2,3,3,1,1,3,0,2,0,0,0,3,2,0,0,0,0,0,0,1,0,3,0,3,2,0,0,0,0,2,0,1,1,3,2,2,0,0,3,0,1,0,1,3,0,2,0,0,2,0,2,0,0,3,3,2,3,2,2,3,0,0,3,2,3,0,0,0,3,2,0,0,1,0,3,0,3,0,2,0,0,2,2,0,3,2,3,3,1,3,2,0,2,0,2,1,3,3,2,0,1,1,3,0,3,0,3,2,2,1,0,0,2,3,3,1,1,2,0,2,2,2,3,2,2,3,0,0,2,2,0,0,0,3,0,1,2,0,2,3,2,3,3,2,2,1,3,0,2,3,2,1,0,1,0,3,2,2,3,1,0,2,0,0,1,0,0,1,3,0,3,2,3,2,0,0,0,0,2,2,2,0,3,2,0,0,2,2,0,0,0,2,3,0,2,1,2,0,2,2,3,0,2,2,1,2,3,3,2,0,3,2,3,2,1,3,1,3,3,0,1,3,0,3,2,1,0,1,2,3,0,3,2,0,1,3,3,1,1,1,0,0,3,0,0,0,3,0,0,1,3,3,0,2,0,3,2,2,0,3,2,0,3,1,2,0,3,3,0,1,0,0,0,0,0,1,2,3,3,2,2,0,0,2,0,3,3,3,1,2,2,3,2,1,2,3,1,3,3,2,1,0,0,1,0,0,3,0,0,1,3,3,2,3,0,0,0,0,0,0,3,0,1,0,3,3,3,0,0,3,1,2,0,0,0,0,2,2,1,0,2,0,0,3,1,2,2,0,0,0,0,2,1,3,3,0,0,2,0,2,2,1,3,3,1,3,2,1,3,3,3,3,0,1,3,3,0,3,0,0,2,3,2,0,0,0,0,3,3,2,1,3,1,3,0,0,0,3,2,3,2,0,3,2,0,2,3,0,1,0,0,3,0,0,2,3,0,0,2,0,3,3,0,1,1,2,0,0,0,2,0,3,3,0,3,2,1,1,0,3,3,2,2,1,3,0,2,3,2,3,1,0,1,3,1,2,0,0,2,3,1,0,3,3,0,1,1,2,1,3,2,0,2,1,2,0,3,1,3,3,0,2,1,0,0,0,3,1,0,1,3,1,1,3,0,3,1,0,3,0,0,0,0,3,0,3,3,1,2,3,1,1,0,3,3,2,0,0,0,1,0,3,2,0,1,2,2,3,0,1,0,1,3,3,0,0,3,2,0,0,2,0,3,0,3,0,1,1,3,0,2,0,0,3,1,3,3,0,0,0,3,2,1,2,3,2,1,2,3,3,0,2,3,1,2,0,0,0,0,0,2,3,1,2,2,2,2,2,1,3,3,3,0,2,0,0,2,0,2,0,2,3,2,1,1,0,0,1,0,0,0,2,3,3,0,3,3,1,2,0,3,3,2,3,2,2,2,0,2,0,3,0,3,3,3,3,2,2,2,3,0,2,3,1,0,3,0,3,1,3,3,1,0,0,1,3,0,2,3,1,0,0,2,2,2,0,3,2,2,0,3,0,3,0,3,0,0,3,3,1,0,3,0,0,2,2,2,2,3,3,3,3,3,2,1,3,0,0,1,1,0,0,0,3,2,0,0,2,1,1,0,0,0,0,2,3,3,1,3,1,3,2,1,0,0,3,2,3,1,2,0,0,0,0,0,2,0,3,2,0,0,1,2,3,2,0,2,0,1,2,0,0,0,0,0,3,1,0,3,2,1,0,3,3,1,0,0,3,3,0,3,3,2,0,2,1,1,0,2,0,0,3,0,3,0,2,0,1,3,1,3,0,0,1,0,2,2,2,0,3,0,1,0,1,3,3,1,0,3,0,0,3,2,2,0,2,0,0,2,3,3,2,0,2,0,0,2,2,1,0,0,2,0,3,3,3,1,0,0,0,1,0,1,3,0,2,2,0,0,2,0,0,2,0,1,0,3,1,0,1,0,3,0,3,2,0,0,0,3,2,2,0,0,3,3,0,3,3,2,3,2,1,2,3,1,1,0,0,1,0,0,2,1,2,3,0,3,0,3,0,0,1,3,2,0,3,3,2,1,3,2,3,3,0,1,2,2,3,3,2,2,0,0,3,3,3,0,0,1,0,3,3,0,1,2,0,3,0,2,2,2,2,0,0,0,2,3,0,3,0,2,2,1,1,2,1,1,1,0,3,0,2,2,0,2,2,0,3,2,0,2,0,0,0,2,3,0,0,1,0,0,0,2,0,0,1,0,0,2,3,0,0,3,2,3,0,0,0,0,1,3,3,2,2,0,2,3,0,2,2,0,0,2,0,1,0,3,3,2,0,0,2,2,3,0,2,3,0,2,0,0,2,3,1,0,3,0,3,3,1,2,0,0,2,0,2,2,3,0,0,3,0,3,0,0,0,0,3,0,3,1,0,0,0,2,2,0,0,2,3,0,0,0,2,3,3,0,3,1,0,3,1,2,0,0,0,3,2,3,2,0,0,1,0,2,3,2,2,0,0,0,3,2,3,3,3,3,2,0,0,0,0,0,0,3,0,3,2,1,0,0,3,0,3,3,3,1,0,1,0,3,3,2,0,0,3,0,3,0,0,2,3,2,0,1,0,0,1,3,0,3,1,3,0,2,0,1,3,3,2,0,0,0,2,0,3,0,0,2,1,3,0,0,1,0,2,0,3,2,1,0,2,2,0,0,0,0,1,0,3,3,0,2,3,2,0,3,1,3,3,3,1,3,1,3,2,3,2,0,3,2,0,0,0,3,1,0,0,2,0,0,2,2,0,3,2,0,3,3,0,3,1,3,0,0,3,0,2,2,2,1,3,0,2,1,3,3,0,0,0,3,3,3,0,0,1,3,3,1,3,2,2,1,3,3,1,3,2,3,0,0,3,3,2,3,0,2,0,0,0,0,2,2,2,0,3,2,3,0,0,0,3,1,0,3,0,0,1,0,3,2,1,0,0,2,1,3,0,0,0,2,3,0,2,3,3,0,0,3,2,0,3,0,3,0,0,3,3,1,3,3,2,2,0,2,2,1,0,1,0,3,1,3,3,0,3,0,0,0,3,0,2,0,0,3,0,0,1,2,1,3,0,0,1,0,3,3,0,1,0,1,0,0,1,0,2,3,0,0,0,3,1,1,0,0,0,0,1,2,3,3,0,1,3,2,0,2,3,1,2,1,3,0,0,2,0,2,0,3,3,0,2,3,0,0,0,3,1,3,0,0,3,2,0,1,2,0,2,2,2,3,3,1,3,3,3,1,3,0,0,0,1,2,2,3,2,3,3,2,0,3,0,0,1,1,1,2,0,3,3,0,1,3,0,3,3,2,3,3,1,3,2,2,0,1,3,3,3,1,2,2,0,0,3,3,3,3,0,0,1,0,2,2,1,3,0,3,0,3,3,0,3,2,3,0,0,0,2,2,0,3,0,2,0,1,2,3,0,2,0,3,3,2,1,2,2,0,0,0,0,0,0,2,0,1,2,3,3,3,1,1,1,3,0,0,1,3,0,2,0,0,3,0,3,0,1,3,0,3,0,3,0,0,3,3,3,0,3,3,0,2,2,0,2,2,3,3,0,2,3,0,3,0,0,2,3,1,0,3,0,1,1,0,0,0,0,0,0,0,3,0,3,3,3,2,1,0,0,3,1,0,0,0,2,3,3,0,2,0,1,0,3,2,1,0,0,1,1,3,1,2,2,3,0,0,3,0,3,1,0,0,0,3,2,2,0,0,2,1,3,2,2,3,0,1,3,3,2,3,0,0,0,1,2,0,0,3,2,0,3,0,2,0,2,3,3,2,2,2,3,0,2,2,0,2,3,3,3,2,0,1,2,2,0,3,3,2,2,0,0,0,3,2,0,0,3,2,3,2,0,2,0,3,3,3,3,2,1,3,0,3,3,3,2,2,2,0,2,1,2,2,2,2,0,2,3,1,0,0,3,0,0,2,3,0,1,0,1,2,2,0,2,2,3,0,0,0,3,1,2,3,0,2,2,3,3,2,3,0,3,2,3,2,3,0,2,3,0,0,0,1,0,1,0,0,1,1,1,3,2,0,3,0,0,0,0,0,1,3,0,2,2,3,0,2,1,0,0,2,1,3,0,3,3,1,0,0,1,3,1,3,0,3,0,1,0,3,0,1,0,2,2,3,0,0,2,1,0,1,0,1,3,2,1,0,0,1,0,0,0,1,1,2,3,0,2,2,2,0,3,3,0,0,0,3,2,3,0,2,0,0,3,3,0,2,0,1,0,0,0,0,3,1,3,3,3,2,3,0,2,0,3,2,2,3,2,0,2,2,3,0,2,2,0,0,2,3,1,1,3,3,2,0,0,2,3,0,0,3,3,0,1,0,0,3,0,1,2,3,2,3,0,0,1,2,0,1,0,3,2,2,1,3,0,3,3,0,1,0,3,1,0,3,1,2,2,2,2,3,1,2,3,0,1,0,1,3,0,0,0,0,0,3,3,0,2,3,1,0,0,3,2,0,0,1,2,3,3,0,2,0,3,3,1,3,1,1,0,0,0,2,0,0,1,1,1,0,3,3,0,2,0,0,0,3,0,3,3,0,3,3,3,0,0,3,0,1,2,0,0,1,2,0,0,0,3,1,0,2,0,0,3,3,2,0,0,0,1,0,0,1,2,2,0,0,2,1,1,2,0,2,0,3,3,3,3,2,3,2,3,3,2,2,1,3,1,0,3,2,3,1,3,2,2,0,3,1,1,3,0,0,1,3,1,2,2,1,0,1,1,2,0,1,3,0,2,2,3,3,3,3,0,0,0,2,1,0,3,0,0,1,0,2,0,3,2,0,0,3,3,3,3,3,0,3,1,3,3,3,2,0,0,0,3,3,0,2,3,3,2,2,3,3,0,3,3,0,0,2,1,2,2,0,0,2,0,2,1,0,3,1,2,0,3,0,0,3,0,0,3,3,2,2,2,2,0,3,0,2,3,0,3,3,3,1,2,0,0,0,1,0,0,2,1,0,3,0,2,3,1,0,2,2,2,3,2,3,2,1,3,0,3,0,0,0,3,3,0,3,1,0,0,0,0,3,1,3,0,0,0,2,0,2,1,0,3,0,3,3,3,0,0,0,0,3,0,3,3,0,3,1,2,0,3,2,3,2,3,3,3,0,3,1,0,1,1,1,0,3,0,3,2,2,3,3,3,3,2,1,3,1,2,2,0,2,0,1,0,3,0,3,3,3,0,0,1,0,0,1,3,0,3,0,1,3,2,1,0,1,1,3,0,0,3,0,0,0,0,3,3,1,1,2,2,3,0,2,0,0,2,3,0,2,0,2,3,3,0,1,0,3,2,3,0,0,1,2,3,0,0,3,0,0,3,0,3,2,0,3,0,3,0,3,1,0,0,0,3,2,3,0,0,3,0,2,3,3,0,3,3,2,0,0,3,1,1,0,0,0,1,0,0,3,3,0,0,0,1,3,0,0,0,3,2,0,0,2,0,3,2,2,3,3,0,0,0,0,3,3,1,2,2,0,2,2,3,2,0,2,3,0,0,3,3,3,1,0,2,3,0,1,3,2,3,0,2,3,2,1,2,1,0,2,2,3,0,3,0,1,2,3,2,0,0,1,2,0,0,0,2,2,3,1,0,0,0,2,2,3,0,3,1,2,3,0,0,3,1,0,3,0,0,0,0,2,0,0,3,0,3,0,3,1,2,2,1,0,3,2,0,3,0,2,0,3,3,3,1,3,2,0,0,0,3,3,3,3,3,3,3,0,3,0,0,0,3,1,1,2,0,1,0,2,1,3,3,3,2,3,0,2,1,3,2,3,1,2,0,3,2,3,0,2,3,2,3,0,0,0,0,2,0,0,3,3,0,0,3,2,0,2,1,1,2,3,2,0,3,2,2,3,0,3,0,0,2,0,0,0,2,1,3,3,0,3,0,3,2,1,2,0,3,1,1,2,3,2,0,0,0,1,1,2,2,3,2,0,0,3,3,0,0,2,2,0,2,2,3,3,1,2,0,3,3,3,0,3,3,3,2,3,2,3,0,2,2,3,0,2,2,3,3,3,0,2,2,1,0,0,0,1,3,3,1,0,0,0,3,3,3,2,2,0,2,3,2,2,3,2,3,3,0,2,3,0,2,0,3,3,2,0,2,3,1,3,1,0,2,0,0,3,3,0,0,3,0,1,2,2,3,2,0,3,0,0,2,3,3,2,2,0,3,3,1,0,0,2,0,1,3,2,2,1,3,3,2,3,3,1,2,1,0,0,3,0,0,0,3,2,2,3,2,0,3,0,3,2,1,1,3,0,0,1,1,2,2,0,2,0,0,3,0,2,0,0,0,1,0,1,2,0,0,3,2,0,0,3,0,0,0,1,0,2,3,3,0,3,2,2,0,0,2,0,2,2,0,0,0,2,1,3,0,0,0,3,3,0,1,0,0,0,0,1,0,3,0,3,0,2,3,3,0,3,0,2,0,3,2,0,1,0,0,2,2,1,3,2,2,2,3,0,0,0,2,0,3,3,2,0,3,1,3,2,0,3,3,1,1,3,2,0,3,2,1,0,0,0,2,0,3,0,2,0,3,0,2,1,2,2,3,2,0,1,1,0,0,1,2,2,2,2,2,0,1,2,1,0,0,1,3,2,3,0,3,3,3,3,2,1,3,3,0,1,0,0,2,2,0,2,0,0,2,3,0,0,2,1,3,0,3,0,0,0,3,1,3,3,3,1,0,1,3,3,1,0,1,0,3,2,3,3,0,2,1,0,1,0,2,3,2,0,0,3,2,2,3,3,1,0,1,2,0,1,1,0,1,3,0,0,1,3,3,0,3,1,3,3,1,2,0,2,3,3,3,1,1,3,0,3,0,0,0,3,2,2,0,0,0,0,2,3,2,2,3,3,1,2,2,0,3,3,0,2,3,3,1,2,3,3,3,1,3,3,1,1,0,3,3,0,0,3,2,0,3,2,0,2,1,3,0,1,1,0,3,1,0,0,3,3,0,0,0,3,2,1,0,3,1,3,1,2,1,2,3,3,0,0,2,3,0,2,1,3,0,3,3,2,2,3,2,0,1,3,0,0,2,2,2,1,0,0,0,1,3,3,0,0,2,0,2,3,3,1,3,2,2,2,0,0,0,0,0,1,0,2,3,0,1,2,3,1,0,3,0,0,0,3,0,1,0,0,0,1,0,2,3,0,3,3,2,0,1,2,0,0,0,3,3,0,3,0,0,3,3,2,0,0,2,0,2,0,0,1,3,3,1,3,3,3,2,1,0,0,2,3,0,3,0,2,1,0,2,3,1,1,0,0,3,0,0,0,0,3,0,0,2,2,2,0,0,3,3,2,0,1,2,3,3,0,3,0,2,3,0,3,3,3,1,0,1,0,3,1,0,0,0,0,0,2,3,0,2,2,3,1,0,3,0,3,1,0,1,3,1,0,1,0,0,1,3,3,2,3,3,0,2,0,3,3,1,3,0,0,0,2,2,1,0,2,3,2,3,3,3,3,2,0,3,3,3,2,0,2,0,0,2,1,2,3,1,0,3,0,3,3,3,2,3,3,3,3,3,0,0,2,2,0,0,1,1,2,2,0,0,0,1,0,2,0,0,1,0,3,3,3,2,2,2,0,3,2,0,2,3,1,2,3,3,3,2,2,0,1,2,0,0,0,2,0,3,2,0,3,2,3,0,2,3,2,2,2,0,0,0,0,0,0,0,3,1,3,2,3,3,3,2,3,2,0,2,0,2,3,0,2,0,0,2,1,1,2,2,2,0,0,3,0,0,0,2,0,1,0,2,1,0,3,2,0,2,0,3,0,0,2,1,0,3,3,2,2,2,2,0,0,2,0,2,2,3,0,0,0,2,2,2,3,0,0,0,0,0,3,1,3,1,0,1,0,2,0,0,3,3,3,2,2,0,0,2,1,0,2,3,1,1,0,3,3,0,0,2,3,2,2,0,0,2,3,0,0,2,3,0,1,2,3,3,1,3,1,2,1,3,0,0,3,0,2,1,0,0,1,3,1,2,0,3,0,1,2,3,2,2,0,0,1,2,2,3,2,2,0,2,0,0,3,3,0,2,2,0,0,3,0,3,3,0,0,3,0,3,0,3,0,0,3,3,2,3,2,0,3,3,3,3,3,3,2,3,1,3,0,0,2,3,0,1,0,2,2,0,1,3,0,3,1,3,1,0,2,0,2,0,3,0,0,2,3,3,1,0,0,3,0,3,2,1,0,0,3,3,1,3,3,0,0,2,3,3,1,0,2,0,2,2,1,0,3,3,1,2,0,0,0,0,2,3,3,2,0,0,3,0,1,3,0,3,1,1,0,0,1,1,3,2,0,2,2,1,1,2,1,0,0,0,3,0,2,3,3,1,3,3,2,3,3,0,0,0,3,0,0,0,0,0,2,2,2,0,0,3,3,1,2,1,0,0,0,0,0,0,3,3,3,0,0,0,2,3,3,1,1,3,0,3,1,1,2,2,3,2,0,3,0,3,3,0,0,0,3,0,2,0,2,2,0,0,1,0,3,2,3,3,0,2,3,0,3,2,0,0,0,2,0,2,0,3,0,3,3,0,0,0,2,1,1,2,2,0,3,3,3,3,0,1,0,3,2,3,3,0,2,2,2,3,0,2,1,0,2,2,2,0,1,0,3,1,0,3,3,0,0,0,0,3,3,2,3,3,0,3,0,0,2,0,3,2,3,0,0,1,3,0,1,0,0,0,0,0,2,0,2,1,0,2,0,3,3,3,0,0,1,3,3,1,3,1,1,3,2,2,0,2,3,0,3,0,0,3,0,3,3,3,0,2,3,2,1,3,3,3,3,2,0,1,2,3,2,2,2,3,3,2,1,0,0,0,3,0,0,0,2,3,0,0,0,0,2,3,0,3,0,0,0,3,3,0,0,2,0,2,0,3,0,3,2,0,3,3,0,2,0,2,0,3,3,3,1,0,2,0,3,0,2,0,1,2,0,2,1,1,0,1,0,1,2,0,1,3,2,2,0,1,1,0,0,1,0,3,2,0,0,3,0,0,0,1,2,0,2,2,0,0,2,0,2,3,0,0,3,3,1,0,3,3,1,3,3,0,1,3,1,0,0,3,0,0,1,3,2,3,0,0,0,1,1,2,0,1,3,3,1,2,0,2,0,3,0,0,2,0,0,2,0,3,0,2,2,2,3,1,3,3,2,2,0,2,3,3,3,0,0,3,0,2,0,0,3,2,1,1,3,0,3,0,1,2,0,3,1,2,0,3,3,3,3,3,0,2,3,2,2,3,0,2,0,3,3,3,3,1,0,2,3,2,0,3,1,3,0,2,0,0,3,0,0,0,2,0,2,0,1,0,1,3,2,3,1,0,1,3,3,1,3,3,3,1,2,2,0,0,0,0,3,0,0,2,0,2,3,2,0,3,1,2,3,3,0,2,2,0,0,1,1,3,1,1,3,2,0,0,0,0,1,2,3,3,3,3,0,0,0,3,1,0,0,0,0,0,0,3,3,0,2,1,0,0,1,2,0,3,1,2,1,3,3,0,0,1,0,1,0,0,2,2,3,0,3,0,0,3,1,3,3,0,3,3,0,0,2,1,0,0,0,0,0,2,3,0,0,3,3,1,0,3,0,2,1,1,3,0,3,0,3,0,2,0,3,0,1,3,2,2,3,3,2,1,3,3,0,1,3,2,0,2,3,3,1,3,2,0,0,2,0,2,1,2,0,0,0,1,1,2,0,1,0,3,2,0,1,0,0,3,0,0,3,1,1,3,1,1,0,1,1,1,2,2,0,1,3,0,0,1,1,0,1,1,0,2,0,3,3,2,0,3,0,1,2,1,1,3,3,0,3,3,3,1,0,3,3,0,0,0,1,0,0,3,2,0,3,0,3,3,3,3,2,1,3,1,0,1,0,2,0,0,0,0,0,0,0,2,0,1,0,2,2,1,2,2,1,0,1,3,3,1,3,0,0,3,3,0,3,3,1,2,3,3,2,2,3,3,3,1,1,3,0,0,1,2,0,0,0,2,0,3,1,0,1,0,0,2,2,2,0,3,3,0,2,3,0,3,2,0,0,3,1,0,2,0,2,0,2,2,1,1,1,2,0,0,3,2,0,3,3,0,3,1,0,0,0,0,0,0,0,3,0,1,0,0,3,2,1,2,0,0,2,2,2,0,1,3,2,0,3,0,3,0,0,1,2,3,3,0,1,3,3,3,0,2,0,3,3,3,1,2,3,0,0,1,1,3,2,2,3,2,2,3,1,0,3,3,1,1,3,0,1,3,0,3,0,0,2,3,0,1,1,1,2,3,2,2,0,1,0,2,1,3,0,2,0,3,3,0,0,0,0,0,0,0,0,0,0,0,0,0,1,0,2,0,0,3,3,3,3,0,0,0,0,1,3,3,0,1,1,2,0,3,0,2,0,3,3,2,0,0,3,0,0,0,0,2,2,2,2,2,3,3,0,0,0,0,0,2,0,0,2,0,3,0,3,0,0,0,3,3,3,2,2,3,0,0,0,0,1,0,1,1,3,0,2,0,0,3,0,1,0,3,2,0,3,0,3,0,2,1,0,0,0,0,1,2,3,3,3,2,0,0,2,0,3,2,0,0,2,2,2,0,2,2,0,0,1,2,3,1,0,1,0,3,1,0,0,0,0,3,0,2,2,0,0,1,1,2,3,1,0,0,0,2,0,2,0,0,3,3,0,2,0,1,3,0,2,2,2,1,1,3,0,0,0,3,2,1,3,2,3,2,0,3,1,3,0,3,0,3,0,0,3,0,0,2,1,2,1,2,0,2,0,2,0,3,0,0,1,0,1,2,0,0,3,2,1,0,3,2,2,0,3,3,2,1,3,1,2,3,1,1,0,3,0,0,0,2,2,0,1,0,3,3,2,0,3,3,0,0,1,2,3,1,2,3,0,0,0,2,1,0,0,0,0,3,1,0,2,2,2,0,1,3,3,3,3,0,3,1,0,3,3,0,2,0,0,1,3,2,0,3,0,2,3,2,1,0,3,2,2,3,0,3,2,0,3,3,2,0,3,1,3,1,0,3,0,1,0,0,0,0,1,0,0,0,2,2,3,0,2,3,1,0,3,2,3,2,3,1,1,2,2,0,0,2,3,0,0,1,0,0,2,0,2,3,2,2,0,2,1,0,2,0,1,0,0,1,2,1,0,3,0,0,2,2,3,3,0,0,1,0,0,2,3,2,3,3,2,3,2,0,2,3,2,0,0,2,0,2,2,0,0,2,3,1,2,3,2,1,1,0,3,3,0,2,0,1,1,3,0,2,2,1,2,2,3,3,0,3,2,1,2,0,3,0,1,0,0,0,0,0,1,2,2,2,1,1,2,3,3,1,3,2,0,0,0,2,2,3,0,3,0,0,0,2,3,3,3,0,1,0,0,3,0,0,0,0,0,0,0,0,0,0,2,0,0,3,0,3,0,2,2,3,0,1,2,0,0,3,3,2,2,0,0,2,3,1,3,0,0,3,1,3,2,1,3,0,3,0,0,1,3,2,0,3,3,0,1,2,0,3,3,2,0,0,1,1,2,3,2,0,2,3,0,2,3,2,2,1,3,1,0,3,0,0,3,0,3,0,0,0,1,0,3,0,0,1,3,3,0,3,3,0,1,0,0,2,1,1,0,0,1,3,0,0,0,0,0,3,0,0,2,1,1,2,0,3,2,0,3,3,0,2,0,2,0,0,0,0,0,0,3,3,1,1,1,0,2,2,2,0,0,1,0,3,0,2,0,0,0,3,3,1,0,2,1,0,0,3,1,2,3,0,0,0,2,1,3,0,3,0,0,2,2,2,3,3,1,3,3,2,1,3,0,0,3,0,0,0,3,2,0,0,3,3,3,3,0,3,3,0,0,3,0,3,1,0,2,2,3,1,0,0,3,3,1,3,0,3,2,0,3,1,0,2,0,1,0,2,0,2,0,3,3,3,2,0,0,3,3,3,0,3,0,2,1,3,3,0,0,3,0,2,1,0,1,2,3,0,2,2,2,0,2,0,2,3,0,0,0,3,3,1,1,0,2,0,3,2,1,0,3,0,0,0,0,0,3,0,0,3,0,0,1,2,0,3,3,2,0,2,0,0,3,2,1,3,3,0,0,3,3,2,0,0,3,2,0,0,3,3,3,3,0,3,1,3,3,3,1,2,0,0,0,2,3,1,1,3,0,0,0,0,3,3,3,0,0,3,2,3,0,1,0,3,2,0,2,2,3,2,0,3,1,0,2,2,3,3,0,2,3,1,2,0,3,0,0,3,1,0,0,3,3,0,3,2,3,3,3,3,0,2,0,3,3,0,0,0,0,3,2,1,3,3,0,3,0,1,1,0,0,3,3,0,0,3,0,0,0,3,0,1,1,1,0,0,3,1,3,0,0,1,0,3,0,3,0,2,1,1,0,3,3,1,0,0,1,1,0,3,0,0,0,2,0,1,2,2,2,3,0,0,1,2,0,1,0,3,0,1,3,2,1,3,3,0,2,2,2,0,2,0,2,0,2,3,0,3,2,3,0,3,0,0,0,3,2,0,1,1,3,2,1,3,0,0,2,2,0,0,1,1,2,2,2,2,3,2,2,3,3,1,3,0,1,1,1,1,3,2,0,3,2,1,1,0,1,3,1,2,0,1,3,0,1,0,2,0,3,3,2,2,0,2,0,0,0,1,1,0,0,0,0,0,1,3,3,2,0,1,0,1,2,3,0,1,3,0,0,1,0,0,0,3,0,2,3,1,3,1,3,0,3,2,0,0,3,2,2,2,3,3,2,3,2,3,0,0,1,3,1,2,2,3,2,0,0,3,1,3,3,0,0,3,0,2,1,3,3,3,2,1,2,3,3,2,0,2,0,1,0,2,0,0,3,2,0,0,1,3,3,0,2,0,3,0,0,2,1,0,3,1,0,3,3,3,0,0,0,0,1,2,0,3,0,0,1,3,0,2,1,2,0,0,3,1,3,0,1,2,0,2,1,2,0,1,1,3,0,0,2,2,0,3,0,2,0,2,2,0,2,1,0,0,0,3,2,0,1,1,0,0,1,0,3,0,0,1,3,1,3,0,3,1,2,1,2,0,3,2,3,0,0,0,0,0,3,1,0,0,0,0,1,2,2,0,3,0,0,3,0,0,2,0,2,3,3,0,0,3,0,3,3,1,1,0,0,0,0,3,2,0,0,1,0,2,1,2,2,0,1,3,3,0,3,0,0,0,3,2,0,1,3,3,0,0,3,0,1,3,3,0,0,3,0,2,1,1,2,1,0,3,0,3,1,3,0,0,0,2,2,0,1,2,3,2,2,2,3,2,0,3,0,0,3,3,3,3,1,0,0,0,0,3,1,0,3,3,2,0,1,3,3,2,3,3,3,0,0,0,2,1,2,0,2,2,0,3,2,0,2,2,2,0,2,1,0,2,2,3,0,1,2,2,0,0,3,1,2,3,3,3,0,3,1,2,2,3,3,2,0,1,3,3,2,1,0,1,1,0,0,2,0,0,3,2,0,3,3,0,2,3,3,0,0,3,0,0,3,1,0,0,3,2,2,3,3,0,0,0,0,2,2,1,2,0,1,0,3,1,0,0,3,2,3,2,3,0,0,2,3,0,3,3,2,0,2,3,1,2,0,3,2,0,1,2,3,3,0,0,3,0,0,3,0,0,3,1,3,0,2,0,2,0,3,3,1,0,0,2,0,2,3,0,0,3,0,2,0,2,0,2,0,0,3,0,2,0,2,0,0,3,0,0,1,0,3,0,2,2,3,3,1,0,2,3,3,0,1,3,3,2,0,3,0,0,2,0,1,3,2,1,0,0,0,2,0,2,2,0,0,3,0,3,0,3,3,0,2,0,2,3,0,0,2,3,3,0,0,0,0,2,1,0,0,3,0,2,0,3,0,3,2,3,2,0,0,0,0,3,0,1,1,1,0,1,0,0,3,0,3,1,2,3,3,0,0,2,3,1,3,0,1,3,0,0,2,0,0,2,3,3,1,3,1,3,0,3,1,3,2,1,1,0,3,3,3,2,0,3,0,0,3,2,1,0,0,3,3,1,3,0,1,0,1,0,1,0,1,3,2,0,2,0,3,0,1,2,1,1,2,0,1,3,3,3,0,2,3,0,1,2,2,1,2,2,3,0,0,2,0,2,2,0,0,2,3,3,0,0,0,3,0,1,0,1,3,1,2,1,2,3,0,3,0,0,1,0,0,0,3,2,0,0,3,2,0,1,0,2,1,2,0,2,0,0,3,0,3,2,1,0,0,3,3,3,1,2,3,2,1,2,2,0,3,2,2,2,0,1,1,1,3,3,0,2,0,1,2,3,2,0,0,3,3,0,0,3,1,0,3,0,0,2,0,2,3,0,2,3,0,0,0,2,0,0,0,0,0,1,1,2,2,0,1,0,1,2,1,0,2,2,1,2,0,0,1,0,0,3,0,2,3,3,0,1,0,0,2,3,1,3,3,3,2,3,3,2,3,3,2,3,3,3,2,0,2,2,0,0,0,0,1,0,0,3,2,0,0,0,2,2,1,2,3,0,0,3,2,1,3,2,3,1,0,0,0,2,2,2,0,1,3,2,2,2,0,0,2,2,1,1,2,3,1,3,3,1,2,0,0,3,0,0,0,0,3,3,1,1,2,3,1,0,1,0,1,3,1,2,3,3,3,0,2,0,1,1,3,0,3,1,3,3,3,3,1,0,3,3,3,0,0,3,0,0,0,2,0,2,3,2,0,2,2,3,1,3,2,3,0,3,2,3],\"y\":[37,43,34,41,47,20,25,30,30,40,26,36,34,29,27,33,47,29,34,42,46,29,35,33,45,23,31,39,42,33,42,33,30,30,41,26,37,38,29,36,35,21,31,43,36,38,38,51,26,35,34,31,32,35,33,42,38,33,31,28,35,45,39,36,34,28,32,28,27,34,47,36,32,31,42,33,34,29,39,38,40,28,26,31,36,36,38,32,33,26,32,26,25,30,25,37,37,27,35,30,38,33,39,30,38,29,36,33,28,30,44,24,42,32,21,39,42,37,39,30,36,36,32,43,15,44,29,36,39,25,26,26,28,38,28,34,30,23,15,32,29,22,38,36,28,30,37,28,26,37,28,31,26,33,27,28,39,47,38,37,39,37,32,26,40,38,38,44,33,62,23,29,40,31,37,29,27,42,19,34,45,37,41,28,34,36,40,32,36,36,16,39,31,36,50,38,25,30,29,30,35,32,41,29,29,34,21,27,34,41,41,38,44,29,39,37,34,28,35,40,39,50,36,37,40,30,41,31,30,39,33,39,29,40,35,29,42,30,31,38,26,43,27,36,40,35,32,30,34,30,35,34,33,37,38,35,32,50,36,23,44,33,34,35,37,29,41,34,34,31,37,22,28,48,36,28,29,47,33,42,36,31,29,26,31,40,29,44,45,37,44,33,33,35,30,29,39,33,18,36,38,32,38,45,27,29,38,20,36,53,28,24,53,34,25,29,33,26,25,35,39,26,29,32,34,41,18,41,32,30,37,38,40,32,38,28,32,29,29,28,24,40,41,27,35,41,42,27,38,24,41,33,25,31,26,43,46,35,45,33,43,28,33,36,41,30,23,27,38,30,35,36,39,32,31,39,38,29,22,33,29,39,30,40,40,28,27,35,27,37,36,27,37,32,40,20,37,41,34,33,34,50,19,35,45,40,43,41,38,29,36,31,52,41,37,42,30,35,42,41,40,32,37,29,28,35,29,25,37,37,28,41,40,19,34,28,20,31,29,43,36,37,36,37,39,34,38,40,35,39,21,28,29,33,24,36,17,36,25,31,25,41,40,28,34,37,15,22,27,22,37,35,31,39,34,39,29,38,38,42,33,57,37,29,40,42,32,37,25,19,31,38,32,33,34,34,45,32,28,34,30,27,44,36,31,26,23,24,54,60,35,43,24,42,37,31,28,35,27,28,48,30,49,44,40,30,31,31,38,19,41,40,24,46,31,24,24,26,30,36,30,26,42,23,43,36,27,34,42,21,59,36,26,39,37,16,24,38,30,46,36,34,32,31,37,34,33,40,33,40,31,30,36,45,27,20,36,28,26,30,38,43,58,30,31,30,39,43,38,36,36,55,27,41,32,48,36,43,29,31,24,32,41,26,39,36,30,39,49,53,34,30,27,40,39,30,27,42,36,52,24,30,28,41,33,37,37,34,40,45,35,31,38,25,27,37,36,39,28,37,23,33,31,37,31,40,39,22,35,36,29,31,34,38,27,23,40,39,26,28,39,39,41,20,26,35,40,25,35,33,29,44,40,25,28,24,26,37,29,28,30,39,42,26,26,33,34,42,38,32,35,40,56,41,41,32,41,36,34,17,22,44,32,31,39,37,43,38,35,26,27,23,29,36,34,38,29,39,43,37,34,28,31,40,26,27,36,52,42,24,25,44,37,23,25,44,38,35,28,38,27,27,35,35,22,43,34,29,42,22,29,34,27,34,27,40,37,40,42,42,35,21,34,42,43,38,33,33,41,34,35,30,39,43,38,19,28,26,19,20,23,39,40,28,29,22,38,34,26,28,39,42,36,22,46,38,26,38,45,42,24,24,37,43,41,28,30,47,40,36,40,37,49,34,27,37,46,44,32,35,41,34,34,39,28,34,38,40,40,40,44,42,26,36,44,31,39,22,38,41,28,44,38,31,35,32,41,35,23,26,31,31,18,22,40,36,35,38,38,29,29,23,36,37,25,42,36,30,27,43,35,40,22,25,26,44,29,43,32,33,32,37,42,38,39,37,12,25,49,25,25,41,35,33,24,19,38,36,34,40,35,30,36,35,32,28,32,55,24,35,36,31,28,36,33,43,43,53,26,40,33,50,41,31,35,23,22,45,35,33,28,28,40,30,31,35,25,27,45,39,32,41,36,41,35,26,28,30,44,28,32,37,36,25,36,35,27,35,32,39,35,26,37,35,31,35,34,34,37,41,35,34,34,27,37,31,33,36,18,35,37,38,39,28,37,15,36,30,43,39,30,41,40,29,25,44,30,28,31,34,28,34,38,32,26,29,38,33,38,32,20,29,35,33,26,26,19,42,36,36,30,40,29,33,30,29,24,38,34,27,40,28,37,31,26,31,35,28,38,37,37,44,38,37,36,43,38,25,35,44,31,43,27,34,44,37,29,44,32,33,21,29,28,42,40,36,31,32,28,37,32,31,43,33,36,24,35,28,41,28,36,29,35,40,31,27,35,39,39,28,34,30,33,17,36,33,25,23,31,29,39,34,45,37,41,31,34,36,16,32,44,26,47,36,32,30,39,38,38,43,32,45,40,36,31,27,29,33,37,24,36,28,29,48,43,22,28,29,37,21,37,42,40,41,30,26,33,32,35,34,45,28,25,40,41,34,33,37,34,22,36,40,38,23,19,35,36,32,54,33,43,31,27,43,35,37,45,32,43,24,34,31,38,27,49,30,45,27,36,29,33,42,26,37,42,31,47,33,20,32,44,37,37,39,35,38,38,37,31,31,26,32,13,33,28,29,45,33,28,35,44,30,29,43,28,38,48,39,37,33,36,26,29,23,42,29,38,36,33,33,30,38,54,41,25,23,31,30,24,39,23,24,41,37,27,33,31,39,38,32,32,40,35,37,35,29,40,28,32,30,31,26,35,27,20,37,43,25,32,44,57,32,37,36,35,50,42,39,28,40,37,37,40,27,33,35,40,58,28,35,41,35,32,34,41,28,37,45,31,34,24,31,55,25,38,53,38,36,36,40,35,31,34,28,28,29,43,46,38,34,26,34,41,24,17,26,39,25,38,33,35,34,41,35,25,27,24,30,26,28,24,37,45,36,37,44,34,33,32,39,34,45,28,34,25,42,30,35,34,30,42,36,49,37,42,27,34,52,28,35,34,34,48,35,35,36,36,37,31,39,32,30,25,37,36,33,40,37,45,38,36,38,38,26,39,42,29,27,36,43,35,20,41,35,43,28,26,42,28,31,38,33,31,42,36,43,38,30,36,41,26,24,32,36,27,42,40,35,45,34,28,38,18,35,27,35,27,35,40,23,38,40,33,26,41,45,35,36,41,40,31,48,31,32,38,29,20,41,50,42,46,36,38,37,26,34,38,33,31,39,34,33,34,29,26,35,30,25,39,44,27,32,31,51,41,34,34,27,30,26,43,31,32,40,27,38,44,42,38,50,35,35,33,32,28,37,36,41,33,34,27,52,30,39,45,33,26,34,40,35,24,19,28,38,39,35,36,29,41,38,40,41,24,28,39,28,37,27,22,32,39,22,37,35,25,33,38,42,35,40,31,36,36,41,26,33,38,31,39,16,37,26,36,32,20,33,32,43,39,36,38,51,26,40,43,42,23,34,26,20,40,32,28,38,30,30,36,32,28,27,31,32,28,41,33,33,26,35,35,24,33,42,36,32,39,38,41,42,22,29,42,30,32,31,29,32,25,26,26,27,27,32,39,30,36,47,37,30,33,26,39,28,32,27,36,16,38,42,48,38,34,29,33,33,27,41,40,25,35,32,32,21,37,28,41,36,26,51,45,35,27,28,35,27,36,39,24,40,38,34,30,27,43,33,38,36,36,33,42,30,28,44,25,33,27,33,36,39,41,30,41,39,38,33,35,32,37,29,20,28,40,43,31,29,38,19,26,39,34,32,40,32,46,27,25,33,32,24,30,18,39,35,29,35,36,37,29,38,34,39,25,30,35,34,28,42,25,28,32,27,31,38,37,37,27,38,29,27,47,45,28,32,24,36,37,43,27,33,28,13,50,40,23,26,26,28,35,40,26,44,34,37,26,30,40,37,30,29,24,38,43,38,48,30,47,41,39,29,41,34,34,27,24,35,40,37,40,40,35,39,22,34,29,25,41,40,26,26,39,25,34,33,38,36,33,40,34,32,28,30,25,37,41,32,35,26,36,30,33,40,50,28,29,27,42,38,40,28,34,27,27,34,46,30,27,39,35,32,39,29,31,50,29,37,29,41,40,31,28,41,40,34,37,32,35,49,36,30,35,38,44,28,27,23,47,36,34,46,30,40,43,46,42,37,23,33,34,40,37,35,34,37,41,27,40,36,32,35,52,38,26,24,28,38,47,24,40,27,35,37,36,49,31,30,28,39,31,36,39,37,47,47,28,33,29,41,44,46,34,31,27,36,33,31,39,39,37,24,42,41,28,26,38,25,37,37,38,40,59,37,35,28,47,40,28,43,36,51,16,30,18,33,30,31,36,31,33,43,24,32,34,42,41,46,41,39,32,42,38,58,36,45,27,31,37,26,38,33,25,23,29,24,38,34,40,38,30,28,38,38,24,30,42,45,40,35,35,34,38,29,35,26,42,38,40,39,35,38,26,21,37,38,22,31,33,26,38,24,15,42,33,37,19,27,28,27,37,31,29,39,30,38,37,27,35,61,19,34,41,30,37,33,24,32,32,26,31,40,38,38,32,40,57,46,29,14,36,36,35,25,48,34,29,26,36,32,44,28,37,29,43,45,20,38,38,41,47,28,39,15,26,30,35,40,28,34,31,29,25,23,28,33,37,40,42,28,43,16,37,34,36,30,35,36,29,28,30,35,39,31,36,39,27,41,26,27,35,39,40,38,42,30,42,22,41,39,25,38,33,27,29,27,25,33,25,29,26,32,39,27,33,30,30,41,35,42,26,28,43,31,40,25,41,36,34,14,37,30,36,28,39,34,31,40,44,38,40,31,42,18,32,35,20,28,31,34,37,42,42,32,35,28,26,34,35,42,39,30,38,42,36,43,33,35,29,30,38,24,31,40,30,39,38,23,40,24,35,54,27,43,36,31,30,35,38,31,34,37,31,32,39,42,26,37,29,27,38,31,25,34,37,27,42,40,38,37,21,38,35,35,41,41,38,28,47,29,30,34,31,36,29,43,33,35,31,31,33,29,50,43,40,30,29,35,26,37,18,34,21,39,32,27,37,24,33,36,34,27,45,24,28,47,33,28,36,27,32,26,39,35,46,30,33,21,39,37,43,35,38,37,25,22,27,35,38,38,30,52,43,41,27,17,31,38,42,44,27,50,33,27,37,38,23,31,37,29,16,28,37,26,38,38,42,28,54,29,43,23,26,27,27,40,44,48,39,28,38,18,44,30,41,52,22,34,27,53,38,36,21,38,29,22,38,34,41,40,26,23,40,41,34,24,26,40,36,38,45,43,24,27,31,33,35,32,32,30,31,30,34,56,34,24,50,32,34,31,37,39,43,29,32,33,37,38,58,25,30,32,41,27,30,35,37,44,56,39,35,43,27,36,37,25,28,32,34,38,40,33,28,31,31,30,50,42,36,48,32,33,26,34,38,39,25,30,33,35,45,33,25,30,40,35,31,40,29,40,28,27,32,34,43,28,30,31,31,47,35,30,43,34,37,37,40,36,40,30,39,38,30,32,30,36,34,38,29,27,42,39,39,28,29,42,33,34,37,47,31,34,38,42,29,25,24,35,27,42,35,33,37,21,24,32,31,20,26,25,42,22,29,26,42,36,35,31,35,38,31,48,28,39,26,34,22,26,38,29,25,35,34,25,27,38,25,44,28,37,28,38,42,34,32,29,43,45,40,28,36,24,35,34,34,44,29,24,44,34,26,38,28,23,37,50,32,34,31,33,27,35,35,48,40,29,25,29,31,38,30,42,45,35,33,21,39,36,27,34,37,39,46,37,37,32,35,25,37,35,44,31,52,34,27,41,28,38,30,28,38,28,39,37,25,37,31,33,30,35,38,29,25,34,23,29,36,33,39,41,28,28,29,32,34,35,34,26,44,29,26,36,23,36,24,30,28,32,36,44,23,28,39,42,31,29,44,28,29,36,45,32,53,38,39,24,27,41,34,35,34,26,46,29,38,24,33,33,37,30,22,28,37,41,37,26,37,28,30,35,28,40,30,25,43,36,32,31,34,40,37,33,29,32,44,42,34,27,38,28,27,28,37,22,30,31,29,25,36,36,35,25,25,36,23,36,41,25,26,43,33,38,36,36,34,36,43,42,36,28,31,44,41,36,30,32,29,43,43,40,33,38,35,30,38,42,38,58,47,45,28,21,40,29,38,46,31,22,24,24,44,41,33,43,26,34,34,43,35,32,38,32,27,28,34,23,38,22,27,27,42,29,38,33,36,41,37,39,33,39,32,37,35,42,32,37,35,36,39,38,43,43,31,50,45,27,32,28,21,29,30,28,39,40,26,29,25,25,38,30,45,26,45,41,34,43,44,30,40,36,27,36,29,28,12,23,29,27,46,29,38,33,29,30,35,29,40,32,38,37,33,35,36,29,40,38,29,24,29,25,45,29,35,44,37,32,38,29,29,28,50,38,32,25,33,26,34,35,36,44,27,27,26,38,45,39,35,42,22,41,37,48,40,48,42,26,41,39,42,21,25,35,27,35,39,27,34,33,22,28,36,34,27,30,25,36,28,27,36,39,42,18,28,40,32,38,44,33,32,32,42,33,36,36,42,29,35,45,34,28,36,26,41,31,34,58,40,39,40,23,46,38,40,25,38,37,30,34,35,39,29,27,36,33,38,28,39,31,29,32,37,35,33,30,32,37,35,31,27,26,49,30,49,47,18,34,24,35,34,34,43,25,29,27,35,44,45,40,30,25,38,25,40,29,37,37,33,36,31,37,38,33,26,39,31,48,29,25,35,41,15,31,41,39,37,21,39,32,42,29,33,47,35,39,38,30,42,28,34,31,34,36,52,32,34,28,32,43,30,22,36,20,38,40,28,41,31,40,42,30,24,39,46,28,29,49,29,16,34,48,43,24,44,27,44,27,30,35,51,32,31,36,33,28,38,57,24,38,28,29,38,30,42,41,28,35,31,35,26,25,34,22,43,21,35,36,40,36,26,34,37,29,36,22,31,25,27,23,42,40,28,28,45,36,34,28,44,20,37,41,41,35,36,26,37,29,42,27,43,23,32,35,31,24,40,36,34,29,37,36,27,27,36,31,32,35,26,43,30,32,40,40,59,27,34,29,23,24,34,21,41,31,31,31,35,35,37,43,24,32,42,45,26,34,26,34,53,35,33,38,36,37,48,45,40,49,27,21,35,32,32,35,23,28,36,25,38,39,33,29,38,33,34,39,37,48,30,28,54,26,43,36,37,38,37,33,40,42,42,45,23,40,40,36,40,40,43,38,41,35,26,36,35,29,25,43,38,33,38,41,30,48,50,33,39,38,35,32,43,36,34,39,33,29,36,34,29,25,28,27,35,40,49,35,42,48,26,29,25,28,39,41,25,24,35,41,43,42,21,32,37,27,26,35,30,39,39,38,39,32,43,32,42,24,39,26,37,23,30,32,52,29,34,50,49,37,35,34,41,26,38,45,31,48,39,29,41,31,23,28,39,43,48,35,25,35,37,40,34,43,37,31,28,39,35,29,24,26,28,39,25,17,36,30,33,39,38,41,36,27,25,44,38,37,27,26,34,43,37,41,32,41,34,37,37,41,34,19,29,31,31,39,31,45,30,39,33,33,16,45,21,41,44,24,25,41,24,49,26,31,43,34,39,32,28,37,36,34,27,31,44,28,30,36,27,43,32,27,37,26,35,21,30,26,33,39,46,33,28,30,33,33,32,40,24,36,38,40,27,34,42,35,48,33,25,39,45,38,37,31,32,34,35,38,40,29,27,37,33,40,34,38,37,40,26,41,24,41,35,36,39,32,42,18,42,33,31,38,35,39,24,23,33,39,29,36,38,46,33,48,36,30,37,28,35,34,38,25,26,34,40,37,32,35,42,14,41,28,22,62,37,26,34,37,37,43,36,24,32,29,38,41,39,27,34,24,31,30,32,29,38,30,28,30,33,30,36,41,30,29,41,40,42,68,26,43,40,41,25,25,36,52,42,56,30,39,34,29,32,36,42,37,36,24,38,39,38,27,27,24,51,31,39,29,34,30,35,38,17,34,26,40,36,26,40,38,32,37,25,29,28,36,32,33,17,43,31,27,33,21,47,24,44,36,26,25,34,32,38,36,34,44,41,36,28,28,28,41,28,23,36,26,44,36,46,45,28,37,38,21,36,31,28,30,27,33,28,48,37,29,32,21,52,32,31,36,28,37,35,39,31,39,25,37,30,39,46,35,41,41,33,46,24,41,41,36,39,36,40,16,19,38,29,32,25,25,28,28,29,33,43,34,27,30,27,40,18,35,28,36,37,38,28,39,30,47,29,42,35,36,21,44,23,33,26,43,19,23,23,35,18,28,40,31,29,39,33,40,21,31,38,37,25,41,35,33,33,25,38,29,37,39,38,28,32,24,40,31,30,36,28,39,21,32,38,33,27,32,31,30,37,34,35,36,43,44,16,30,15,42,36,28,35,43,35,25,29,27,27,29,37,27,38,39,35,50,36,49,29,40,40,31,26,36,39,25,35,36,26,33,39,34,35,36,25,33,44,36,31,28,31,34,37,33,43,28,25,25,36,42,29,33,31,34,36,36,34,27,37,41,32,46,21,29,36,41,33,34,30,29,44,26,45,25,41,40,36,37,43,28,35,34,27,40,34,37,28,46,47,35,32,31,45,40,56,28,26,28,29,31,35,38,29,29,39,44,24,31,36,42,18,37,29,31,39,27,27,37,25,40,55,34,33,28,29,16,46,31,26,33,36,33,27,33,57,42,34,42,55,28,31,21,34,38,25,33,41,38,38,27,50,40,27,23,39,43,32,30,26,23,38,48,44,29,26,33,32,30,27,28,31,42,33,41,30,43,40,37,33,30,41,36,40,28,43,41,38,37,25,38,31,39,42,25,46,37,31,40,28,36,39,35,39,31,46,24,31,32,30,28,38,56,32,35,35,28,60,23,37,41,37,35,38,31,25,26,36,36,30,31,34,40,33,31,37,26,26,37,35,32,43,39,26,22,27,31,38,34,22,39,23,37,34,29,36,27,39,31,29,17,32,51,40,42,35,23,36,40,37,33,45,33,25,53,32,33,35,37,38,27,34,26,38,30,28,48,29,35,42,39,27,32,33,34,23,19,43,37,27,39,39,25,32,38,25,45,52,39,38,44,19,36,34,38,40,18,51,30,36,23,26,37,37,31,39,31,40,38,28,47,31,49,41,18,29,18,26,38,24,40,31,37,38,27,40,38,37,35,30,40,34,28,28,32,33,33,37,40,18,29,36,15,33,38,33,34,29,34,27,29,29,35,29,39,32,28,33,29,35,32,27,41,40,22,47,38,25,52,38,36,45,26,27,31,35,46,33,44,44,25,31,27,28,27,45,50,39,27,36,33,35,32,24,38,36,33,29,39,35,42,28,37,25,40,47,31,33,44,24,40,26,35,42,50,34,23,42,21,44,32,30,37,44,29,36,33,30,44,29,35,30,38,30,31,33,36,28,39,42,24,36,23,26,39,31,33,25,35,37,34,39,29,31,27,33,22,31,45,40,36,32,26,34,36,27,17,30,34,28,35,37,24,47,57,41,46,30,37,30,33,24,20,16,56,27,37,34,45,32,29,33,31,25,39,38,34,37,41,40,51,32,35,42,33,39,30,35,38,39,28,35,40,29,28,36,35,37,28,34,50,31,39,27,32,28,42,36,39,47,44,25,29,31,30,27,25,35,26,43,27,36,39,33,39,38,26,32,40,33,34,36,43,32,43,26,28,37,41,44,35,43,41,40,43,31,38,20,44,36,39,27,17,34,40,28,30,27,29,35,27,30,34,43,39,30,42,32,29,39,28,33,37,37,36,23,45,37,37,25,35,43,28,30,35,42,37,17,41,34,29,29,43,38,35,24,29,37,30,36,30,41,28,23,38,40,20,27,34,39,31,46,37,33,36,39,32,28,33,59,40,35,33,37,29,32,36,36,44,27,45,33,31,28,31,43,28,30,44,37,34,29,26,29,26,33,34,33,28,25,30,29,49,32,42,32,24,25,23,32,38,39,35,38,39,37,36,28,40,31,38,26,25,39,38,27,23,28,48,31,33,36,34,31,32,34,36,30,42,39,26,31,28,31,36,32,39,29,39,47,39,50,36,40,34,41,30,38,38,34,34,44,33,24,34,35,41,42,23,38,33,33,50,45,29,34,25,33,32,37,36,36,23,29,37,34,34,34,32,36,37,58,33,32,36,31,26,28,32,27,18,40,34,26,22,41,29,43,37,29,32,39,36,20,38,24,35,42,46,32,27,28,46,36,23,33,37,37,24,28,35,32,28,27,31,24,35,24,36,21,28,31,36,29,29,35,20,36,37,34,35,40,24,24,44,45,41,40,36,34,38,40,30,26,29,27,37,30,40,38,47,36,39,35,27,24,34,41,32,47,36,36,37,34,22,27,40,36,30,33,37,27,55,39,52,42,43,36,25,32,36,27,43,36,30,38,27,29,35,38,26,46,26,33,32,45,38,23,33,32,40,42,40,37,62,39,34,25,34,34,37,32,38,44,41,48,60,28,16,37,35,36,41,29,23,41,31,34,44,39,37,33,25,39,35,35,39,38,34,35,39,42,47,34,43,38,35,23,43,32,29,45,27,49,17,29,27,28,33,36,37,44,39,44,31,28,36,27,47,41,25,31,26,30,38,49,37,45,30,34,30,33,38,47,21,21,36,29,29,33,38,22,34,22,31,28,36,32,27,35,26,24,35,35,35,38,35,33,37,28,41,36,35,25,42,34,33,29,33,26,21,39,27,33,30,24,55,42,26,46,30,25,37,37,25,38,39,33,43,40,27,32,22,29,31,27,20,37,30,35,32,48,28,40,39,28,26,43,40,25,37,52,30,22,41,30,28,18,40,43,45,27,37,21,32,28,34,41,34,25,37,41,38,35,40,51,37,36,31,47,27,22,34,45,36,41,30,33,33,27,37,29,24,30,28,36,36,39,49,28,31,14,25,32,37,37,36,39,41,26,35,25,38,45,35,26,27,31,37,25,32,34,37,25,30,28,38,29,34,28,39,35,27,26,36,17,21,36,43,40,36,36,32,46,36,35,31,28,51,37,27,29,50,30,28,28,45,46,39,36,51,30,29,53,32,49,34,40,34,16,35,53,30,31,43,39,37,38,37,29,31,25,37,32,27,43,36,24,30,38,32,37,26,34,37,35,38,33,36,43,47,37,39,27,45,40,41,29,38,35,36,37,31,53,32,32,21,46,32,39,38,36,25,38,38,48,27,38,54,37,50,27,25,30,29,46,26,28,40,30,32,41,41,41,49,25,26,32,27,30,32,43,34,29,32,31,36,35,43,33,23,43,34,34,32,33,31,42,36,25,41,29,43,26,31,36,27,45,45,43,27,38,26,38,45,43,29,35,43,38,27,25,27,22,27,36,25,31,38,23,19,31,34,39,31,32,40,37,29,26,14,33,32,29,25,30,33,26,37,47,31,40,27,26,28,26,38,26,44,27,28,29,31,37,26,41,31,42,29,22,34,40,38,36,38,33,36,45,35,41,45,52,34,40,28,36,37,33,45,45,26,29,39,34,35,34,28,39,32,38,37,41,30,38,30,24,33,30,28,36,31,29,28,56,29,32,41,26,44,34,35,27,31,37,26,32,38,49,31,34,30,43,35,32,27,38,40,36,53,37,40,42,30,43,32,47,50,38,39,35,37,42,30,23,36,28,29,28,35,20,41,30,31,33,43,32,33,30,55,35,18,26,23,28,35,42,21,29,19,23,40,29,41,40,33,36,31,31,28,27,26,35,36,28,31,35,48,31,23,41,37,27,30,36,38,37,24,32,40,39,32,37,32,38,40,41,29,43,36,45,39,40,21,52,35,33,27,33,34,37,33,40,36,39,31,37,40,39,39,27,31,38,42,29,30,39,29,38,28,49,45,60,42,35,29,33,42,34,31,43,28,62,29,29,40,37,37,52,36,37,40,40,38,31,41,33,35,46,29,38,38,38,36,36,28,38,37,30,27,45,32,29,33,33,45,32,19,28,47,38,23,37,32,28,41,49,35,46,36,42,29,24,29,34,37,28,27,41,22,36,23,37,41,38,15,32,43,28,42,35,29,26,46,29,39,29,38,33,36,36,24,37,37,28,40,39,34,50,25,43,34,46,37,36,31,34,37,30,32,30,56,40,41,45,20,42,39,28,41,36,45,26,47,34,38,41,29,38,29,47,39,23,36,36,36,40,36,45,40,36,38,32,41,46,39,42,49,47,44,32,37,40,35,30,26,29,27,25,28,25,33,28,42,32,29,38,35,29,31,27,36,28,33,37,23,36,39,34,34,26,48,44,40,39,28,32,26,34,31,38,38,47,39,37,35,37,38,34,26,38,53,35,28,28,30,25,31,40,34,47,30,30,36,33,24,50,43,28,32,27,42,35,38,33,31,42,63,45,31,35,36,32,26,27,30,16,33,30,41,54,46,28,37,36,35,29,36,25,34,40,22,38,27,45,29,35,32,40,39,29,32,25,45,36,29,40,32,26,44,43,34,37,26,25,30,34,51,24,43,48,25,38,33,28,26,30,14,58,43,30,40,35,40,22,39,25,36,39,26,38,24,40,27,30,31,23,34,19,36,32,31,39,33,29,40,34,26,31,32,39,32,36,35,47,35,34,32,31,35,44,38,41,41,35,34,35,36,17,39,36,36,52,49,29,22,27,39,35,31,34,35,37,35,22,23,26,24,40,20,38,34,34,39,37,41,47,31,38,32,33,37,33,31,31,38,29,35,30,28,23,35,32,25,39,21,16,38,28,40,35,40,41,17,30,36,25,30,39,20,30,40,36,34,26,25,19,40,35,46,43,30,26,29,33,27,32,26,26,38,41,45,31,31,26,37,37,41,23,26,40,22,39,30,37,34,33,33,32,43,32,32,26,43,35,30,40,33,30,38,48,38,28,40,32,18,35,28,28,37,25,45,34,29,35,25,27,32,26,32,31,41,22,39,35,33,33,32,16,24,37,49,34,44,25,42,29,20,50,30,32,42,24,40,30,40,36,41,32,28,34,37,27,42,24,30,26,37,35,43,33,27,34,44,34,42,37,40,40,35,27,15,36,41,36,17,27,29,33,31,36,43,31,37,39,38,33,36,41,26,30,31,27,42,22,37,31,33,35,30,31,35,29,33,25,32,38,31,28,38,38,46,42,34,37,43,44,15,33,35,42,50,37,39,31,42,21,41,36,27,46,27,30,46,38,36,43,32,35,21,33,35,27,30,35,37,41,27,40,30,39,38,39,37,31,31,33,36,33,35,38,38,40,40,28,23,23,36,38,52,35,38,29,37,28,29,33,23,35,29,38,44,39,22,44,38,42,34,37,41,16,28,45,43,24,36,31,26,33,36,41,39,25,43,35,22,25,33,32,36,32,37,40,31,48,32,38,38,40,31,38,31,43,37,39,38,31,33,32,40,34,56,35,32,40,43,30,38,36,29,28,28,27,41,29,41,27,32,25,32,28,25,32,43,37,37,50,31,36,44,33,24,28,33,36,33,41,32,38,41,35,25,24,38,32,28,29,27,29,40,32,37,29,40,29,30,40,33,41,26,29,40,32,34,48,34,19,42,52,23,46,26,47,26,38,39,34,31,23,36,30,31,38,34,29,40,32,36,27,33,23,38,34,32,36,33,39,34,26,20,38,39,31,35,33,37,29,27,36,39,42,38,38,24,35,24,33,28,41,34,23,41,31,25,38,41,31,32,33,37,36,45,34,47,30,28,24,31,41,37,32,39,34,36,24,24,27,22,31,29,46,33,26,29,24,40,23,36,23,37,36,45,25,34,31,43,35,35,27,29,27,37,36,27,28,40,26,42,35,40,38,43,35,28,22,45,34,36,35,42,32,12,42,38,37,38,29,27,35,25,40,28,43,29,39,37,30,32,32,34,44,42,40,28,39,35,46,36,37,32,38,41,36,46,33,34,26,38,40,32,29,40,41,51,45,38,28,39,39,35,44,34,30,47,38,35,37,33,51,30,60,28,33,36,23,27,40,36,28,30,36,33,38,36,36,21,40,29,39,38,48,23,42,28,24,34,34,33,31,26,39,34,26,31,43,34,32,34,40,42,34,30,37,26,26,38,38,31,42,30,36,37,28,36,41,38,34,40,34,39,27,40,36,37,41,37,26,31,27,21,35,40,30,41,26,26,36,55,40,39,27,17,38,26,15,36,28,32,35,38,35,35,39,38,27,41,35,34,25,43,37,40,38,38,44,37,47,25,40,46,29,36,47,42,38,34,40,33,30,34,40,49,38,38,40,24,36,32,38,41,37,37,29,29,39,38,39,41,43,25,34,21,27,29,50,36,34,36,41,30,35,49,40,40,29,34,48,39,28,33,28,27,49,22,17,42,27,28,33,38,39,39,27,31,42,34,33,42,35,37,38,39,27,26,33,38,19,43,40,35,31,37,29,32,27,42,36,31,35,31,38,39,29,29,19,32,40,39,48,42,31,30,40,35,38,21,50,33,29,32,28,27,43,36,35,26,31,33,42,32,36,27,31,38,29,28,30,32,38,38,34,40,32,37,31,28,32,25,35,32,28,35,43,17,32,33,33,22,32,34,29,39,41,38,34,39,26,22,42,30,16,36,29,34,38,42,34,40,29,39,35,30,43,35,30,33,40,38,33,32,41,42,37,24,38,30,33,35,35,41,37,41,26,36,27,34,32,38,30,34,41,22,37,36,40,36,36,25,38,38,34,24,28,26,35,37,26,33,35,23,30,39,40,31,31,41,36,37,34,44,28,40,33,31,25,30,34,27,30,41,32,43,34,49,23,45,34,44,25,56,38,24,26,30,40,40,30,23,24,29,34,33,38,37,33,26,23,37,33,29,33,47,25,33,26,26,35,44,44,40,23,25,34,27,45,34,46,25,23,37,33,25,50,39,35,22,28,30,32,35,34,27,33,37,44,31,20,28,47,42,22,40,40,37,32,28,44,25,34,30,31,27,27,29,52,45,24,28,55,31,30,30,31,30,25,30,43,39,42,41,35,31,39,45,31,32,29,30,26,35,38,31,29,31,44,39,37,26,28,33,30,26,34,26,20,29,27,36,48,40,26,32,25,38,44,39,39,44,35,28,37,25,44,35,41,38,47,16,34,24,39,38,47,35,25,35,27,29,29,38,29,30,18,34,20,36,43,35,32,31,34,31,39,28,31,32,22,27,29,31,56,35,23,30,49,25,38,26,36,39,36,38,28,34,29,46,35,45,33,35,27,26,36,31,29,37,43,25,43,25,41,38,41,53,34,30,38,34,34,42,28,39,25,38,29,39,42,27,30,36,34,50,29,35,30,37,32,29,41,39,17,30,35,49,26,35,43,40,37,28,34,36,43,21,34,37,41,33,33,28,40,54,39,34,24,32,36,40,39,36,35,17,35,45,36,36,30,30,47,31,28,19,32,26,41,37,27,33,38,26,42,26,45,32,33,38,25,36,42,29,37,40,39,31,25,35,36,45,31,38,36,23,38,28,31,29,38,46,37,28,40,19,28,45,35,38,27,44,43,29,44,38,42,35,36,39,38,43,40,42,38,41,39,37,22,30,42,39,29,53,31,31,35,25,38,31,29,41,39,36,31,36,40,37,39,38,40,41,35,28,29,39,43,39,52,38,40,34,40,41,43,37,42,38,27,33,30,27,38,35,39,25,29,35,31,35,36,44,31,58,26,25,46,33,31,27,32,37,26,37,29,25,30,31,19,27,32,40,30,31,35,29,31,36,42,35,35,34,33,39,31,40,41,39,27,37,36,33,22,31,28,36,37,32,33,44,32,28,39,27,42,28,25,38,38,36,40,35,34,33,29,33,27,28,39,27,30,33,41,34,25,41,30,39,32,46,43,32,50,35,29,41,39,44,36,26,27,35,42,37,36,32,40,36,31,34,26,29,25,24,22,39,47,42,27,39,30,38,46,35,35,42,22,17,36,24,37,41,35,25,40,34,48,38,34,22,38,33,28,36,27,30,43,30,38,34,38,38,36,27,33,27,38,22,65,32,34,39,35,23,34,32,32,38,30,39,32,33,33,37,38,48,41,35,28,32,37,37,44,35,28,39,34,29,37,43,39,30,35,34,42,38,29,25,30,25,49,30,41,30,31,36,29,41,37,30,37,24,23,15,31,28,17,33,28,31,44,34,36,37,31,29,24,26,31,36,26,44,42,30,28,25,31,36,40,30,42,28,39,42,44,43,36,43,48,40,39,20,39,25,36,40,35,47,30,38,34,36,34,37,42,40,19,33,48,35,28,33,39,34,35,37,42,33,27,35,23,47,29,41,34,32,32,20,26,37,25,36,44,51,41,28,37,33,31,38,35,32,28,41,23,23,38,33,37,30,33,31,35,45,30,48,36,38,35,40,51,29,29,36,31,33,38,42,29,31,39,40,29,24,36,33,30,34,36,33,27,37,30,31,31,35,45,31,44,40,34,44,41,48,38,27,36,21,28,37,26,54,28,41,35,43,35,32,35,37,34,37,35,38,35,36,23,43,35,25,37,25,19,39,26,25,42,18,33,44,34,30,39,36,36,36,42,30,32,22,34,28,31,35,43,25,31,30,37,22,31,25,35,45,46,48,43,26,31,30,25,40,38,42,39,22,35,42,43,28,37,29,34,26,31,39,44,34,34,42,36,36,34,20,31,36,34,39,33,28,27,33,37,38,40,41,38,39,39,31,49,35,26,32,36,35,39,39,26,27,36,27,25,37,35,39,31,38,39,39,49,32,31,40,40,28,32,35,39,29,25,26,34,58,24,35,42,32,30,42,30,32,41,38,37,26,25,43,51,39,42,27,28,28,36,34,42,32,36,42,34,38,26,46,48,30,39,28,42,39,28,33,28,33,37,53,34,25,40,35,53,29,43,34,26,32,39,28,34,37,24,37,15,33,37,42,35,37,29,30,37,48,41,38,37,34,35,36,42,35,30,34,35,35,45,40,25,29,33,43,35,33,20,38,30,27,43,36,42,44,25,41,36,34,29,32,29,23,33,36,39,42,30,35,42,40,28,30,29,34,40,31,45,34,35,35,38,16,28,25,40,35,31,32,25,39,33,32,37,35,26,30,33,29,25,35,34,30,42,51,33,35,37,36,38,33,41,31,31,39,26,38,27,49,45,40,28,40,40,52,23,38,31,37,26,39,29,42,36,30,31,35,35,32,28,37,34,31,38,40,39,36,43,33,27,29,29,27,32,43,37,35,47,33,41,32,42,29,33,31,34,34,34,38,26,18,21,28,38,31,25,36,37,28,34,36,25,38,25,24,49,34,23,33,33,35,42,30,28,27,37,36,27,32,30,27,28,33,47,24,31,31,28,29,27,27,25,41,36,27,28,40,41,35,44,36,39,43,33,35,27,39,40,31,54,33,31,34,35,36,32,27,27,33,28,28,41,27,43,31,45,43,41,39,29,20,36,41,32,24,35,24,35,41,35,34,28,45,31,39,37,34,43,38,39,34,21,41,35,38,39,46,26,16,31,24,28,29,28,31,38,52,31,26,32,25,41,35,27,31,42,41,54,29,27,39,39,34,39,24,21,35,34,26,30,46,29,41,34,43,30,29,23,38,32,29,39,28,28,28,40,52,35,47,42,35,32,26,41,48,33,35,33,38,40,36,59,37,28,41,27,41,42,44,24,39,28,21,26,29,38,33,37,34,34,32,40,28,39,31,28,29,35,31,43,33,44,38,31,37,34,20,34,39,29,48,50,34,62,34,28,32,34,42,42,42,30,41,46,35,41,37,29,29,37,26,45,40,28,28,34,30,34,31,46,28,47,42,31,29,47,37,26,41,35,37,35,37,44,26,33,31,27,38,33,37,29,29,26,24,29,43,31,42,31,29,35,24,52,29,38,34,36,23,24,45,21,24,36,30,36,36,35,40,28,28,38,33,38,37,33,44,35,31,29,29,28,25,27,36,31,50,45,38,28,33,32,38,24,44,34,35,32,35,40,38,36,25,50,32,27,30,23,28,40,28,30,24,47,37,39,27,41,35,25,24,39,37,33,34,34,36,33,32,39,27,52,36,28,34,30,30,39,27,30,30,40,36,32,29,31,38,40,36,44,30,35,34,43,42,28,40,32,26,31,23,24,32,40,37,44,35,25,29,23,35,36,39,41,28,43,27,35,42,33,42,29,32,34,45,31,32,41,35,36,30,46,20,29,39,29,35,38,40,37,24,50,38,30,33,25,40,42,38,51,32,46,40,47,40,30,42,23,43,30,37,26,40,37,34,26,28,30,27,27,33,39,32,40,35,39,27,28,42,32,56,27,37,25,27,44,28,32,33,29,42,26,33,33,45,38,34,29,39,27,35,40,29,36,38,48,35,33,26,44,31,34,33,35,26,29,42,32,36,26,32,28,29,42,26,49,27,40,31,31,41,28,36,43,36,37,31,37,28,39,37,34,40,33,27,41,34,34,24,29,36,20,30,24,37,22,33,34,32,32,33,32,30,39,33,28,39,36,33,37,24,38,19,24,31,31,28,35,42,35,25,38,29,43,36,36,31,41,39,18,39,44,29,49,37,43,43,34,36,31,39,41,44,16,23,24,33,40,33,37,51,39,30,28,28,32,44,53,43,29,40,43,21,39,31,41,38,35,41,24,30,25,37,34,31,42,35,38,41,32,24,36,45,34,42,23,33,39,26,26,24,35,34,48,40,38,38,29,34,33,27,37,48,36,31,38,33,41,33,31,34,37,33,36,41,20,31,39,35,35,27,39,31,30,38,30,34,28,44,27,27,30,42,23,38,45,31,28,22,42,39,37,33,44,46,25,36,58,19,36,45,27,38,41,46,28,30,20,41,28,41,26,34,25,32,20,37,22,31,41,24,34,35,34,46,26,37,35,26,31,39,33,45,37,28,43,43,32,61,40,37,33,43,43,39,34,41,29,50,24,33,15,34,32,30,28,38,30,26,39,39,28,27,38,28,28,43,26,29,41,40,37,23,17,26,40,27,29,39,36,40,38,32,38,28,36,25,44,33,27,27,34,43,30,33,42,31,33,20,41,34,40,25,28,21,37,38,33,41,40,34,42,25,41,22,34,32,26,33,43,37,40,28,42,29,33,28,28,27,30,43,34,40,53,24,37,30,38,34,40,35,30,24,38,35,26,31,35,38,16,27,28,38,24,52,45,46,36,41,51,27,33,37,35,36,40,34,23,37,35,39,30,44,27,40,25,50,35,59,47,33,26,34,29,35,38,20,45,36,43,36,38,35,41,34,44,47,53,29,36,28,35,37,40,35,40,34,43,38,45,34,29,47,26,24,43,20,34,30,41,34,40,28,30,35,31,35,32,28,34,29,45,33,31,41,25,33,44,43,24,25,24,29,36,40,35,47,32,32,41,27,44,50,33,30,23,36,36,45,36,33,24,27,34,37,31,25,51,35,22,32,38,40,35,24,42,27,37,30,35,38,28,26,32,35,33,47,30,26,36,34,29,45,24,25,42,50,39,37,32,31,43,34,37,37,33,40,28,21,30,33,30,43,33,37,31,30,48,33,37,29,36,35,39,44,29,40,36,43,31,29,24,32,31,43,36,41,21,28,48,37,34,29,33,34,51,39,33,36,43,26,33,33,34,22,38,46,35,25,40,37,47,28,30,36,26,32,56,25,35,40,33,31,37,39,35,50,38,23,41,27,40,26,41,37,25,22,30,39,46,37,31,44,37,36,36,33,44,40,27,39,42,32,37,26,24,25,32,33,38,27,40,25,34,30,40,29,36,35,27,32,23,44,40,35,45,26,43,46,28,48,35,36,25,33,41,39,31,41,36,35,40,31,34,28,37,43,48,40,30,45,41,27,30,31,38,42,26,35,35,26,37,36,39,57,33,25,31,31,44,32,24,42,32,45,35,47,33,31,35,33,36,26,39,34,38,35,46,20,37,40,33,33,23,35,41,31,42,40,27,43,30,47,42,20,33,32,40,29,30,36,46,38,39,38,45,38,32,50,33,30,26,35,28,27,26,39,31,37,34,29,28,37,19,45,25,37,29,33,37,26,34,15,31,39,27,42,33,37,48,31,24,19,30,32,32,29,29,47,33,37,36,24,41,28,29,32,27,42,26,41,32,39,21,29,40,25,41,27,28,27,39,41,34,38,50,32,29,27,29,27,38,36,32,36,51,24,29,34,35,39,39,38,46,29,27,43,49,29,35,27,38,43,41,35,29,33,41,33,27,35,27,24,20,33,27,42,28,39,34,30,38,22,34,33,39,26,25,38,26,26,29,39,40,40,28,28,28,22,27,33,32,45,35,36,40,41,34,32,25,36,29,42,24,33,29,26,35,46,41,27,40,29,29,29,43,30,27,42,46,33,38,25,30,32,36,31,34,32,42,27,15,33,26,34,48,43,53,27,35,33,20,27,31,33,34,33,33,42,56,41,30,30,35,38,30,45,34,42,33,41,18,43,29,33,38,34,41,36,22,39,35,24,28,36,50,36,36,35,25,34,40,28,55,36,38,30,40,44,28,26,39,30,29,48,24,39,45,48,28,23,32,58,29,34,27,41,33,20,53,26,39,28,32,24,35,38,37,32,31,30,27,23,34,38,33,36,33,24,26,33,35,41,42,36,32,35,28,40,40,39,27,36,41,32,35,23,37,38,34,35,27,37,31,51,30,25,29,26,29,29,42,28,34,33,42,34,40,25,40,40,33,31,24,36,25,40,25,33,39,39,27,29,29,35,40,42,36,40,38,35,48,30,33,29,33,48,33,55,37,42,40,29,39,34,33,45,39,36,37,25,43,33,24,37,30,37,37,40,28,26,42,33,30,39,49,43,44,39,30,29,33,27,36,51,39,40,28,41,36,36,30,31,27,30,36,22,32,30,34,34,44,49,29,23,27,42,40,34,37,40,34,32,22,33,30,30,38,21,16,36,35,40,39,41,35,47,37,24,39,29,35,19,44,47,38,40,46,32,28,35,27,33,39,44,33,42,37,40,40,35,36,27,32,43,44,36,37,25,27,35,38,42,22,31,35,35,33,24,34,30,38,47,27,32,32,35,29,43,39,22,43,30,39,40,32,36,26,26,41,40,28,32,36,29,28,40,32,32,34,37,43,15,49,30,37,33,29,44,50,36,41,37,37,24,39,38,40,28,45,29,41,25,28,31,33,44,38,39,24,35,29,35,39,34,34,41,35,38,34,25,22,44,27,34,46,25,50,30,35,34,22,26,19,34,17,28,48,28,27,36,41,33,24,32,31,36,34,38,33,29,39,38,25,33,26,39,29,43,37,33,42,42,34,36,42,37,39,44,31,40,37,46,34,24,27,41,40,44,43,42,32,40,35,35,37,38,32,45,46,39,33,31,35,40,28,37,33,36,39,32,36,27,27,32,37,31,28,30,31,37,39,37,26,33,30,35,29,52,36,27,31,26,35,33,18,36,35,35,43,32,30,38,32,22,41,37,34,32,32,39,39,43,29,34,34,28,43,39,32,42,36,33,36,36,31,34,25,41,28,41,30,33,34,29,27,26,27,35,38,32,30,31,39,17,37,32,27,32,35,33,45,28,31,26,34,35,30,37,30,41,39,39,35,32,27,35,39,30,39,30,27,37,42,32,27,35,37,30,36,28,36,23,36,27,37,28,28,34,35,40,26,29,29,46,35,33,37,30,35,65,23,40,38,24,26,28,27,40,35,37,34,26,45,39,15,40,38,28,27,26,35,31,42,43,25,25,32,32,34,33,27,32,34,29,42,39,31,36,44,41,39,34,23,48,34,22,41,33,32,27,26,31,35,35,32,36,34,47,32,22,41,28,16,38,42,44,29,38,29,29,24,32,33,30,26,37,40,35,25,26,25,33,34,35,42,33,27,25,39,46,34,38,32,34,34,29,29,28,28,28,40,41,32,43,34,38,35,30,34,21,42,26,31,30,36,36,26,42,40,37,30,31,35,28,27,40,20,34,36,39,35,30,34,39,42,30,30,44,39,36,37,47,31,36,25,38,38,47,37,34,31,26,27,23,43,26,30,27,40,38,33,35,34,26,37,28,26,24,37,37,35,46,28,36,27,47,26,41,30,28,28,41,30,31,35,32,27,24,36,38,33,27,45,38,37,31,57,26,29,40,33,32,40,32,34,22,44,27,37,32,36,41,34,17,30,29,35,37,35,52,29,32,56,43,57,37,39,34,38,30,38,44,32,34,30,41,31,29,22,34,37,26,35,29,33,30,42,31,36,36,25,34,43,38,42,46,40,25,41,25,32,33,39,37,52,35,26,31,39,31,41,43,33,17,38,36,36,32,29,30,43,32,36,35,52,23,32,32,46,49,34,43,28,20,32,39,33,33,33,48,36,41,28,49,44,29,21,37,20,37,39,35,44,22,36,34,25,39,38,30,26,25,26,37,28,42,34,35,29,32,25,37,26,26,46,33,31,36,24,34,42,26,40,42,33,38,25,20,38,33,17,27,33,24,44,33,46,25,23,40,36,34,27,55,19,26,25,22,28,27,36,45,30,29,38,32,36,32,46,35,27,39,28,29,32,43,22,30,39,34,28,43,35,43,42,36,37,39,42,41,32,35,38,36,25,27,35,40,31,49,47,24,43,33,31,29,30,38,28,32,22,39,25,43,39,27,27,36,31,33,42,34,30,30,29,41,39,37,28,38,27,42,39,23,33,28,41,37,40,41,29,45,31,47,30,58,31,36,32,40,30,35,34,38,41,40,33,36,34,34,41,40,20,26,31,27,36,46,37,26,37,34,34,26,46,42,34,22,39,43,42,53,24,31,35,27,40,38,41,38,27,38,46,33,35,42,38,38,26,30,30,36,30,25,37,24,34,32,34,40,36,44,40,24,32,23,26,37,37,34,34,31,37,40,30,36,35,31,37,40,33,40,42,30,37,37,30,36,37,37,25,37,43,34,22,23,30,25,24,29,39,34,37,26,34,28,35,36,34,22,38,38,39,43,26,27,44,42,35,39,35,26,40,35,31,31,38,35,27,36,39,41,38,44,39,35,41,36,31,45,27,43,35,46,30,25,28,36,45,33,37,44,35,35,57,35,32,23,43,38,26,24,54,29,34,30,18,32,35,37,47,16,28,24,41,41,39,30,24,39,37,34,32,32,33,27,37,22,40,35,43,37,35,32,34,32,33,28,38,26,40,49,52,40,34,37,36,21,24,30,19,42,43,31,26,18,31,36,26,28,32,26,26,37,30,27,34,37,34,44,41,38,48,36,31,41,23,38,34,32,30,38,38,34,40,43,37,32,47,39,34,32,50,36,36,38,40,32,35,31,38,26,26,32,50,33,35,28,48,42,32,34,30,40,42,33,44,30,39,38,30,32,32,36,36,31,26,37,32,29,36,37,32,39,39,36,34,50,27,35,23,27,42,36,26,36,33,28,37,52,28,24,28,40,30,34,33,44,46,31,24,33,38,26,38,35,33,35,42,35,28,28,36,36,50,48,37,31,40,29,26,35,41,36,42,25,44,28,36,36,21,25,38,28,50,38,26,27,33,22,28,27,34,28,40,35,40,24,47,45,41,39,43,24,27,38,36,21,44,35,37,25,27,39,31,34,40,36,35,47,40,30,39,37,23,40,40,40,43,31,37,31,32,28,27,16,35,36,20,38,38,36,31,40,30,28,38,36,32,29,41,29,32,37,41,24,16,39,39,35,20,29,32,36,24,23,40,28,29,25,32,26,46,42,26,45,31,37,52,36,37,35,38,35,35,31,25,42,24,31,36,49,36,26,35,33,25,23,43,36,35,32,32,39,30,33,31,29,35,32,33,17,34,41,35,30,36,35,36,31,35,37,36,29,47,38,44,44,25,40,31,27,43,30,34,35,29,35,31,36,37,40,48,33,23,31,33,27,37,40,34,27,32,31,37,37,26,30,26,30,28,17,39,29,37,29,38,31,31,22,33,34,41,40,20,49,30,34,39,43,38,47,29,46,39,49,42,41,37,26,27,24,34,41,39,25,42,28,55,34,42,35,24,46,35,41,35,34,30,33,26,32,34,28,28,47,29,47,42,36,30,42,35,49,36,42,24,43,23,37,28,36,34,30,29,45,41,38,43,34,33,23,37,36,30,37,38,29,22,43,38,44,39,32,41,41,33,36,42,31,21,43,33,41,43,13,34,16,39,40,28,32,39,34,27,40,28,36,42,28,25,45,36,36,33,39,23,46,38,26,28,36,35,32,29,27,38,34,33,25,44,21,35,30,32,26,38,24,35,37,42,30,40,39,20,23,33,36,24,38,28,38,31,36,51,54,36,36,35,28,43,39,31,35,40,37,37,42,47,33,29,34,34,38,26,47,31,33,42,38,38,42,41,34,39,23,36,32,35,35,53,40,38,46,36,27,34,39,19,45,30,40,30,33,43,37,24,30,27,50,28,30,34,32,27,25,37,36,35,36,34,42,34,42,38,31,26,32,34,34,40,27,39,42,32,33,32,48,35,37,37,38,32,21,42,29,35,28,34,32,29,33,36,39,29,38,33,36,46,38,32,43,27,24,34,23,27,41,27,31,27,29,40,31,31,19,27,49,30,34,45,28,50,24,33,50,37,36,37,36,40,41,42,43,45,44,39,38,38,25,34,36,24,28,58,30,42,35,36,30,29,36,30,41,25,35,22,28,41,47,37,33,23,36,40,35,25,33,32,45,28,37,34,41,34,44,31,31,26,37,40,35,29,41,37,26,36,41,27,35,31,36,47,39,44,37,39,33,29,28,39,31,33,39,36,38,27,37,32,42,38,34,36,29,30,27,25,24,35,29,30,51,32,45,36,26,39,28,32,39,40,35,33,37,36,31,41,45,29,38,33,29,28,29,43,24,36,31,28,40,36,37,35,42,27,23,42,53,50,24,27,39,35,34,23,44,37,27,36,32,32,41,34,25,41,39,28,37,32,39,25,33,27,28,23,41,31,37,41,34,39,28,22,37,30,34,39,36,31,30,40,30,39,30,27,25,28,39,47,42,33,35,40,46,36,16,24,36,34,37,53,28,26,32,23,30,27,28,29,59,25,39,45,31,42,33,40,30,29,40,30,44,42,32,33,38,36,28,35,34,35,35,28,24,42,40,28,36,38,38,32,33,36,32,36,40,30,41,33,41,52,27,52,41,26,27,36,37,34,39,30,25,39,39,24,39,20,35,41,33,27,42,32,33,38,24,28,32,22,30,36,24,28,34,30,36,29,25,29,21,42,38,31,31,33,35,19,39,40,38,36,42,35,39,39,38,37,35,25,47,42,27,35,37,34,32,39,41,29,37,38,26,36,30,32,35,26,38,41,33,28,32,28,26,35,21,38,36,30,42,29,36,43,35,37,27,40,38,44,30,36,30,31,34,43,39,37,31,24,40,45,21,38,37,37,38,42,28,29,30,24,38,36,28,31,35,41,22,26,33,37,36,39,25,36,33,50,28,37,42,18,35,28,24,35,33,34,38,39,37,26,37,20,41,34,46,38,41,36,30,41,32,24,42,35,38,49,31,37,57,30,44,38,37,28,41,35,25,29,30,34,32,39,46,36,39,40,36,25,30,35,36,33,27,30,41,26,40,34,34,32,34,26,36,32,40,32,31,28,36,34,36,51,33,34,28,30,39,36,36,38,26,39,40,23,26,21,38,36,43,37,35,35,41,42,29,37,35,43,48,27,32,31,31,38,39,42,34,38,32,24,41,27,20,38,54,46,40,32,27,40,31,39,35,37,41,37,33,37,35,30,37,43,33,39,39,44,34,38,27,37,31,33,35,39,27,39,21,40,28,34,35,25,29,41,33,37,30,40,40,42,35,39,39,33,37,32,37,37,29,29,37,34,41,38,31,26,43,41,27,17,35,35,26,31,34,34,46,40,27,49,35,40,34,45,30,37,27,40,32,39,43,37,39,25,33,33,35,65,27,35,39,36,56,33,33,37,34,38,48,35,30,32,32,42,52,28,42,38,32,37,38,45,24,21,32,36,28,25,27,42,42,29,33,27,40,26,36,26,28,37,37,37,34,37,26,40,43,37,31,39,33,32,32,38,42,36,40,39,29,28,40,37,39,29,27,40,29,36,31,26,26,42,29,27,30,29,48,24,36,23,32,39,38,37,34,44,38,22,30,37,27,41,38,26,22,45,26,35,37,21,30,38,28,28,36,38,35,35,26,30,22,25,33,28,38,39,40,25,41,36,16,44,27,29,31,43,40,47,28,29,26,26,29,17,44,34,38,41,40,26,26,36,25,27,39,27,52,35,25,26,28,30,39,40,34,39,31,41,42,25,36,33,25,39,41,37,26,36,40,29,31,35,44,32,39,33,39,25,26,38,29,42,44,41,30,28,19,41,32,29,42,25,35,26,37,31,19,43,26,41,35,29,29,44,35,32,36,22,38,40,30,35,34,26,44,25,36,44,26,35,36,36,31,30,33,26,37,27,25,35,31,42,38,46,33,40,33,34,33,39,52,39,37,42,31,35,36,37,27,45,50,36,36,35,34,36,39,30,18,19,28,21,35,34,35,32,39,41,26,22,30,38,26,14,34,38,32,24,60,38,30,39,40,31,40,48,28,44,40,21,19,27,39,30,42,42,29,31,24,42,39,33,29,37,30,32,39,29,40,31,38,27,30,39,34,36,25,37,24,33,31,32,29,38,31,30,19,23,29,29,38,41,44,33,30,57,38,38,37,34,36,30,34,35,34,47,36,37,42,47,39,26,30,44,56,39,40,37,29,25,36,32,31,29,39,37,26,27,27,38,40,25,31,22,38,33,39,32,34,42,51,41,27,32,31,37,30,49,38,39,32,48,27,35,40,24,33,33,38,35,27,34,34,51,36,39,25,27,29,30,43,26,36,33,36,28,47,35,26,46,25,41,37,40,34,37,30,35,50,35,34,35,28,36,40,29,35,18,32,28,32,36,31,45,28,43,28,42,46,44,27,43,40,42,31,40,34,34,53,38,33,29,22,43,27,25,36,30,34,33,30,36,38,32,24,39,32,24,31,32,34,34,29,36,27,42,38,25,30,29,30,39,46,29,24,27,36,39,26,30,32,25,27,32,39,27,44,24,27,44,33,33,29,41,36,35,35,27,44,34,32,39,36,27,34,35,24,42,25,29,35,34,46,28,24,29,35,44,38,30,20,37,34,34,29,43,34,45,30,37,33,43,19,39,34,24,39,23,33,41,28,31,25,27,40,28,27,35,29,37,37,40,37,46,34,26,27,44,34,30,40,42,32,39,38,35,40,41,27,43,14,39,38,21,22,35,35,38,41,38,32,37,34,18,38,25,40,56,39,37,19,51,22,34,20,35,42,26,15,40,28,40,27,39,41,24,29,36,42,39,28,37,29,32,34,25,35,37,23,42,38,24,45,40,26,29,41,51,40,34,41,25,40,34,54,26,34,35,30,41,43,38,50,29,15,32,37,38,37,43,38,29,29,26,36,36,37,44,27,33,31,20,32,44,44,30,35,35,30,38,29,39,29,35,59,38,47,37,25,36,36,23,36,32,35,37,28,25,16,34,33,34,34,31,32,31,41,21,30,30,36,38,28,38,53,38,27,42,44,30,29,35,51,40,14,38,45,36,42,52,43,34,43,28,50,35,38,24,43,27,27,33,38,38,22,26,44,38,41,37,39,38,35,22,38,27,38,32,45,37,40,49,35,35,32,35,36,29,26,24,37,33,37,37,42,32,27,25,41,43,38,27,38,19,33,30,25,25,42,36,39,30,33,40,38,23,38,36,36,33,35,28,46,38,26,32,37,38,28,29,34,35,34,29,39,39,30,33,37,42,30,26,22,27,28,21,33,32,43,41,33,34,35,36,29,24,30,43,33,36,36,29,37,36,32,41,38,27,35,53,26,52,41,18,28,30,23,33,31,32,25,37,41,21,34,46,31,38,34,45,36,44,38,31,38,39,39,31,35,38,37,28,32,39,35,27,36,31,30,36,37,32,31,25,37,45,50,56,40,37,33,31,41,40,36,31,26,44,37,33,34,49,37,39,40,32,21,34,42,36,35,44,33,38,33,30,28,42,25,25,37,15,45,36,28,32,29,36,42,37,49,34,33,31,31,45,32,35,40,43,43,34,44,41,40,37,30,17,49,36,26,39,12,41,33,34,32,43,35,34,36,36,43,31,41,37,45,37,37,40,24,54,36,31,44,42,36,35,25,27,29,32,36,39,36,27,25,27,33,51,20,43,56,26,39,45,31,35,42,29,38,26,37,49,43,30,36,35,42,16,30,45,43,35,42,41,42,43,25,42,46,35,44,41,35,26,33,32,40,29,31,34,36,38,43,32,28,39,30,57,43,39,22,26,33,35,39,34,24,42,28,37,38,40,26,38,42,29,48,34,28,40,31,29,25,33,54,38,39,32,28,35,39,25,37,33,39,51,39,29,35,29,35,38,37,25,37,39,31,37,38,30,40,40,35,36,36,25,40,33,25,37,22,37,27,30,33,24,33,34,34,37,28,34,28,43,41,41,42,35,39,41,33,32,41,45,43,30,26,27,30,25,39,40,33,34,35,28,33,32,41,43,40,46,28,36,38,28,36,37,38,36,30,32,35,39,39,33,35,38,28,37,40,33,28,35,38,28,31,32,27,26,35,31,31,25,36,35,35,32,34,26,27,27,29,40,26,37,26,44,44,40,36,27,30,36,29,34,43,20,33,41,26,36,25,37,35,31,35,34,43,37,36,37,33,49,33,36,36,40,39,21,41,41,28,30,30,42,27,21,32,39,32,29,30,35,39,29,45,37,53,29,27,26,34,30,38,30,38,27,23,44,35,31,29,35,44,44,23,33,42,43,45,44,26,30,38,40,38,35,33,35,31,35,33,37,32,46,32,32,38,27,41,27,29,34,37,29,36,27,36,38,46,42,24,34,29,44,44,35,31,24,42,40,52,41,28,34,34,27,32,45,26,43,29,25,25,31,42,44,27,40,39,24,25,39,35,28,59,28,39,34,40,37,41,35,49,23,45,32,26,35,28,25,37,40,26,44,28,40,24,33,44,40,35,37,43,39,44,38,37,35,38,43,30,26,39,33,27,27,36,36,40,25,34,36,26,40,32,37,35,34,46,35,42,28,34,27,30,28,36,37,45,34,29,43,28,30,40,31,24,18,28,24,33,30,26,30,34,40,38,26,15,41,39,32,33,40,29,28,27,25,38,36,22,39,23,35,39,28,40,29,39,39,40,49,48,40,32,55,38,44,30,44,30,38,24,39,39,36,34,34,39,28,37,19,36,33,42,39,33,26,24,45,35,44,41,31,37,32,26,28,39,36,35,37,36,21,27,38,33,30,21,39,42,43,38,28,38,48,24,29,40,46,39,27,30,29,27,37,36,41,37,44,32,32,40,33,36,33,37,29,34,47,33,45,27,34,27,19,32,33,21,27,36,32,33,36,28,39,37,29,30,36,28,30,34,44,36,42,27,26,35,44,33,42,51,19,34,32,27,34,28,38,37,49,47,37,26,35,30,40,19,34,40,34,35,23,35,41,34,29,37,41,32,35,33,36,39,40,35,30,28,34,26,24,37,34,42,41,24,29,36,36,25,47,34,30,31,19,28,24,39,32,35,38,37,28,41,28,38,33,47,36,38,30,44,41,44,46,38,31,17,48,36,36,41,33,45,27,34,38,38,43,37,23,52,27,38,36,30,28,37,41,43,38,25,27,36,30,36,42,29,38,35,46,46,26,36,28,43,25,31,22,24,29,35,34,38,41,33,38,27,32,45,33,38,36,35,40,28,35,37,29,23,33,37,12,44,34,39,33,27,41,41,38,40,34,27,34,25,32,46,36,32,40,14,27,27,35,34,35,35,42,27,23,43,35,31,44,39,25,38,43,25,38,30,29,35,30,28,47,39,36,32,41,45,31,41,57,37,42,33,32,37,26,27,35,42,35,29,45,29,26,18,33,31,30,38,39,29,40,25,26,42,33,37,27,38,32,40,27,28,27,40,49,26,45,29,36,27,30,19,43,40,29,29,41,24,35,24,38,31,28,34,40,35,25,47,32,39,37,30,44,34,34,37,32,29,21,37,28,32,27,39,29,22,34,44,38,24,27,58,15,25,19,38,51,43,26,38,25,41,29,29,40,24,23,41,29,31,50,50,27,27,29,39,33,28,37,39,35,29,42,39,29,38,36,32,42,48,33,26,45,40,26,41,36,21,30,41,42,34,31,35,18,38,34,38,23,28,28,30,44,41,38,30,39,27,40,41,24,37,34,39,34,41,36,37,43,30,29,25,42,37,30,41,35,41,30,27,29,44,33,54,43,28,40,30,50,40,21,38,46,36,38,21,27,35,37,27,29,33,39,48,29,37,27,41,51,36,41,22,33,33,30,41,23,30,38,41,34,51,32,28,27,28,32,32,49,40,40,32,43,39,32,53,27,41,28,44,42,33,32,35,24,34,41,36,40,26,27,52,25,37,32,41,36,37,32,36,28,40,38,37,34,33,41,34,31,28,37,22,40,31,35,36,38,29,38,32,28,36,43,23,43,29,36,34,28,47,31,39,29,40,34,29,38,36,36,36,38,40,31,33,30,36,29,33,39,31,46,27,33,30,27,30,34,28,45,38,28,42,34,31,38,42,27,22,41,29,36,35,36,28,31,36,35,27,42,37,30,40,24,39,43,28,41,34,33,43,44,22,36,30,29,44,28,33,27,39,36,45,46,28,22,41,28,29,28,44,26,41,34,34,28,40,31,36,32,34,29,40,23,26,46,41,38,40,33,32,44,31,30,44,40,39,27,41,36,38,22,37,42,37,17,27,37,40,29,33,27,29,43,38,29,32,40,49,28,30,26,33,16,28,40,26,37,34,34,31,23,37,31,43,33,49,20,36,40,37,37,36,30,29,40,30,43,35,35,38,47,39,43,38,38,18,36,53,25,29,35,48,36,30,32,37,30,51,44,28,35,26,36,37,46,33,33,37,28,24,38,36,24,37,37,32,27,34,24,34,34,30,40,31,35,24,33,28,38,42,31,39,40,35,29,41,36,32,37,35,31,34,34,45,33,36,36,42,28,33,17,34,42,30,34,35,38,51,27,34,35,29,27,40,21,37,40,33,43,43,38,40,44,41,39,35,37,34,27,39,41,30,41,36,46,40,32,30,35,34,37,35,39,31,26,34,27,36,35,40,40,42,30,36,28,26,33,36,39,34,42,34,38,24,48,35,33,29,44,37,37,26,35,58,37,31,35,48,31,28,43,39,36,25,38,34,33,35,26,37,34,28,44,24,32,33,42,46,38,36,22,41,33,34,27,42,28,40,38,44,31,33,43,28,29,32,36,29,36,28,38,36,32,33,34,28,35,40,41,31,27,35,46,36,43,27,38,28,38,22,24,30,27,28,36,27,26,44,30,33,32,37,52,40,35,28,31,32,24,39,28,24,38,36,36,40,33,27,37,35,32,35,39,59,42,40,29,36,43,51,27,50,32,37,30,29,36,37,34,27,34,29,24,40,38,32,29,50,39,30,30,20,40,23,37,28,43,23,32,25,33,26,25,38,28,39,40,30,26,30,38,35,24,30,16,45,30,47,44,42,33,41,44,36,31,31,41,42,36,27,36,38,43,35,40,36,32,34,42,31,35,42,34,29,34,30,27,31,36,36,35,39,35,33,38,40,36,27,33,35,39,30,29,47,33,27,24,34,48,27,37,41,35,20,37,39,40,28,20,28,22,42,51,43,33,23,41,35,38,34,26,46,41,33,27,37,44,29,28,42,38,38,41,34,28,34,26,39,31,34,33,56,29,30,35,33,24,45,28,34,31,29,18,28,32,31,26,25,47,42,28,27,25,24,37,36,33,28,36,26,36,52,35,37,25,34,33,26,39,42,33,24,38,43,41,41,34,34,34,36,39,34,42,22,27,33,25,36,34,43,32,36,24,35,29,27,39,24,45,39,38,33,38,32,40,55,19,43,30,45,42,32,24,35,31,27,38,34,26,39,29,32,32,13,23,38,23,39,29,32,38,23,33,38,42,27,40,39,25,26,30,36,37,33,33,45,42,34,21,42,25,33,36,29,33,41,41,36,40,41,33,38,43,32,41,31,27,26,34,35,34,47,31,24,32,39,30,31,39,23,40,25,31,36,39,34,27,43,32,30,32,34,33,38,41,43,50,31,37,45,36,38,38,37,36,24,23,36,40,42,12,33,44,37,35,46,40,38,33,25,15,44,27,41,32,36,42,45,36,31,29,46,34,28,27,34,38,30,37,39,37,36,40,35,35,19,29,26,31,45,36,39,34,27,33,44,26,35,37,36,37,37,38,37,29,28,34,35,54,36,52,38,38,35,36,39,30,30,29,41,36,30,33,30,33,34,30,31,48,38,28,37,33,34,37,37,38,35,35,39,33,47,20,39,46,51,32,41,42,29,40,36,35,35,31,33,52,37,36,47,44,48,37,36,47,61,38,49,19,28,46,38,39,37,39,28,37,26,37,34,34,40,38,36,27,31,30,41,41,29,46,34,32,43,28,34,26,26,38,45,26,35,24,27,30,28,25,28,31,31,28,38,48,36,38,31,41,32,32,26,40,31,26,38,37,25,39,37,26,24,28,35,37,28,41,49,38,47,43,22,29,41,24,49,29,39,31,33,32,31,22,25,34,39,24,26,32,31,34,35,39,35,40,39,28,39,21,37,30,34,39,28,24,34,43,42,25,36,41,42,36,55,36,33,24,36,47,33,39,31,42,40,32,35,38,53,34,50,39,50,24,36,23,29,33,33,45,30,26,35,37,35,40,29,38,27,45,27,40,37,34,38,40,26,47,29,37,21,48,27,36,31,27,42,31,41,42,37,33,27,44,30,38,21,40,30,34,18,45,39,41,36,28,41,41,30,33,26,34,38,27,43,34,25,24,16,28,38,27,27,30,35,28,33,36,22,45,27,34,43,37,29,25,40,32,32,27,24,47,45,30,21,38,29,41,28,33,33,29,25,41,28,33,26,26,26,45,28,19,28,27,30,34,45,27,28,45,26,30,41,27,22,31,38,37,42,42,18,41,27,35,37,27,30,32,37,33,34,37,25,33,37,34,35,34,49,35,34,31,39,47,58,50,29,24,37,37,26,34,38,33,42,40,31,40,38,52,24,24,37,34,35,41,27,37,37,36,33,40,32,36,34,26,31,27,41,35,27,37,26,22,47,40,38,37,22,29,45,38,30,34,38,39,30,36,38,37,28,38,41,41,36,20,23,34,34,28,25,34,40,26,42,43,43,35,43,37,39,27,43,33,26,31,22,38,34,36,34,40,27,28,23,33,36,45,35,34,32,55,29,26,36,30,35,39,43,29,37,24,26,37,37,39,42,22,24,46,38,30,32,41,22,26,31,30,26,43,33,28,25,32,46,40,37,32,27,28,36,35,53,38,32,28,34,46,28,31,32,30,24,35,55,31,43,43,38,38,34,38,41,40,28,27,40,38,29,35,39,40,59,24,26,28,28,41,42,33,39,42,40,34,30,36,26,27,37,38,39,27,44,29,26,37,32,41,36,31,37,22,40,27,33,52,27,26,48,54,32,34,30,39,32,27,40,37,29,40,41,17,38,40,40,39,31,34,30,31,41,32,38,33,37,38,27,37,36,37,25,28,36,36,31,38,38,38,25,27,32,29,34,29,36,39,35,41,40,30,36,26,30,37,38,43,26,39,25,28,62,40,34,36,19,43,16,41,36,32,38,44,46,24,44,33,38,36,32,31,36,27,40,40,31],\"type\":\"scatter\"}],                        {\"height\":600,\"title\":{\"text\":\"Scatter Plot of treatment indicator vs. Age\"},\"width\":1000,\"xaxis\":{\"title\":{\"text\":\"Treatment indicator\"}},\"yaxis\":{\"title\":{\"text\":\"Age of the patient\"}},\"template\":{\"data\":{\"histogram2dcontour\":[{\"type\":\"histogram2dcontour\",\"colorbar\":{\"outlinewidth\":0,\"ticks\":\"\"},\"colorscale\":[[0.0,\"#0d0887\"],[0.1111111111111111,\"#46039f\"],[0.2222222222222222,\"#7201a8\"],[0.3333333333333333,\"#9c179e\"],[0.4444444444444444,\"#bd3786\"],[0.5555555555555556,\"#d8576b\"],[0.6666666666666666,\"#ed7953\"],[0.7777777777777778,\"#fb9f3a\"],[0.8888888888888888,\"#fdca26\"],[1.0,\"#f0f921\"]]}],\"choropleth\":[{\"type\":\"choropleth\",\"colorbar\":{\"outlinewidth\":0,\"ticks\":\"\"}}],\"histogram2d\":[{\"type\":\"histogram2d\",\"colorbar\":{\"outlinewidth\":0,\"ticks\":\"\"},\"colorscale\":[[0.0,\"#0d0887\"],[0.1111111111111111,\"#46039f\"],[0.2222222222222222,\"#7201a8\"],[0.3333333333333333,\"#9c179e\"],[0.4444444444444444,\"#bd3786\"],[0.5555555555555556,\"#d8576b\"],[0.6666666666666666,\"#ed7953\"],[0.7777777777777778,\"#fb9f3a\"],[0.8888888888888888,\"#fdca26\"],[1.0,\"#f0f921\"]]}],\"heatmap\":[{\"type\":\"heatmap\",\"colorbar\":{\"outlinewidth\":0,\"ticks\":\"\"},\"colorscale\":[[0.0,\"#0d0887\"],[0.1111111111111111,\"#46039f\"],[0.2222222222222222,\"#7201a8\"],[0.3333333333333333,\"#9c179e\"],[0.4444444444444444,\"#bd3786\"],[0.5555555555555556,\"#d8576b\"],[0.6666666666666666,\"#ed7953\"],[0.7777777777777778,\"#fb9f3a\"],[0.8888888888888888,\"#fdca26\"],[1.0,\"#f0f921\"]]}],\"heatmapgl\":[{\"type\":\"heatmapgl\",\"colorbar\":{\"outlinewidth\":0,\"ticks\":\"\"},\"colorscale\":[[0.0,\"#0d0887\"],[0.1111111111111111,\"#46039f\"],[0.2222222222222222,\"#7201a8\"],[0.3333333333333333,\"#9c179e\"],[0.4444444444444444,\"#bd3786\"],[0.5555555555555556,\"#d8576b\"],[0.6666666666666666,\"#ed7953\"],[0.7777777777777778,\"#fb9f3a\"],[0.8888888888888888,\"#fdca26\"],[1.0,\"#f0f921\"]]}],\"contourcarpet\":[{\"type\":\"contourcarpet\",\"colorbar\":{\"outlinewidth\":0,\"ticks\":\"\"}}],\"contour\":[{\"type\":\"contour\",\"colorbar\":{\"outlinewidth\":0,\"ticks\":\"\"},\"colorscale\":[[0.0,\"#0d0887\"],[0.1111111111111111,\"#46039f\"],[0.2222222222222222,\"#7201a8\"],[0.3333333333333333,\"#9c179e\"],[0.4444444444444444,\"#bd3786\"],[0.5555555555555556,\"#d8576b\"],[0.6666666666666666,\"#ed7953\"],[0.7777777777777778,\"#fb9f3a\"],[0.8888888888888888,\"#fdca26\"],[1.0,\"#f0f921\"]]}],\"surface\":[{\"type\":\"surface\",\"colorbar\":{\"outlinewidth\":0,\"ticks\":\"\"},\"colorscale\":[[0.0,\"#0d0887\"],[0.1111111111111111,\"#46039f\"],[0.2222222222222222,\"#7201a8\"],[0.3333333333333333,\"#9c179e\"],[0.4444444444444444,\"#bd3786\"],[0.5555555555555556,\"#d8576b\"],[0.6666666666666666,\"#ed7953\"],[0.7777777777777778,\"#fb9f3a\"],[0.8888888888888888,\"#fdca26\"],[1.0,\"#f0f921\"]]}],\"mesh3d\":[{\"type\":\"mesh3d\",\"colorbar\":{\"outlinewidth\":0,\"ticks\":\"\"}}],\"scatter\":[{\"fillpattern\":{\"fillmode\":\"overlay\",\"size\":10,\"solidity\":0.2},\"type\":\"scatter\"}],\"parcoords\":[{\"type\":\"parcoords\",\"line\":{\"colorbar\":{\"outlinewidth\":0,\"ticks\":\"\"}}}],\"scatterpolargl\":[{\"type\":\"scatterpolargl\",\"marker\":{\"colorbar\":{\"outlinewidth\":0,\"ticks\":\"\"}}}],\"bar\":[{\"error_x\":{\"color\":\"#2a3f5f\"},\"error_y\":{\"color\":\"#2a3f5f\"},\"marker\":{\"line\":{\"color\":\"#E5ECF6\",\"width\":0.5},\"pattern\":{\"fillmode\":\"overlay\",\"size\":10,\"solidity\":0.2}},\"type\":\"bar\"}],\"scattergeo\":[{\"type\":\"scattergeo\",\"marker\":{\"colorbar\":{\"outlinewidth\":0,\"ticks\":\"\"}}}],\"scatterpolar\":[{\"type\":\"scatterpolar\",\"marker\":{\"colorbar\":{\"outlinewidth\":0,\"ticks\":\"\"}}}],\"histogram\":[{\"marker\":{\"pattern\":{\"fillmode\":\"overlay\",\"size\":10,\"solidity\":0.2}},\"type\":\"histogram\"}],\"scattergl\":[{\"type\":\"scattergl\",\"marker\":{\"colorbar\":{\"outlinewidth\":0,\"ticks\":\"\"}}}],\"scatter3d\":[{\"type\":\"scatter3d\",\"line\":{\"colorbar\":{\"outlinewidth\":0,\"ticks\":\"\"}},\"marker\":{\"colorbar\":{\"outlinewidth\":0,\"ticks\":\"\"}}}],\"scattermapbox\":[{\"type\":\"scattermapbox\",\"marker\":{\"colorbar\":{\"outlinewidth\":0,\"ticks\":\"\"}}}],\"scatterternary\":[{\"type\":\"scatterternary\",\"marker\":{\"colorbar\":{\"outlinewidth\":0,\"ticks\":\"\"}}}],\"scattercarpet\":[{\"type\":\"scattercarpet\",\"marker\":{\"colorbar\":{\"outlinewidth\":0,\"ticks\":\"\"}}}],\"carpet\":[{\"aaxis\":{\"endlinecolor\":\"#2a3f5f\",\"gridcolor\":\"white\",\"linecolor\":\"white\",\"minorgridcolor\":\"white\",\"startlinecolor\":\"#2a3f5f\"},\"baxis\":{\"endlinecolor\":\"#2a3f5f\",\"gridcolor\":\"white\",\"linecolor\":\"white\",\"minorgridcolor\":\"white\",\"startlinecolor\":\"#2a3f5f\"},\"type\":\"carpet\"}],\"table\":[{\"cells\":{\"fill\":{\"color\":\"#EBF0F8\"},\"line\":{\"color\":\"white\"}},\"header\":{\"fill\":{\"color\":\"#C8D4E3\"},\"line\":{\"color\":\"white\"}},\"type\":\"table\"}],\"barpolar\":[{\"marker\":{\"line\":{\"color\":\"#E5ECF6\",\"width\":0.5},\"pattern\":{\"fillmode\":\"overlay\",\"size\":10,\"solidity\":0.2}},\"type\":\"barpolar\"}],\"pie\":[{\"automargin\":true,\"type\":\"pie\"}]},\"layout\":{\"autotypenumbers\":\"strict\",\"colorway\":[\"#636efa\",\"#EF553B\",\"#00cc96\",\"#ab63fa\",\"#FFA15A\",\"#19d3f3\",\"#FF6692\",\"#B6E880\",\"#FF97FF\",\"#FECB52\"],\"font\":{\"color\":\"#2a3f5f\"},\"hovermode\":\"closest\",\"hoverlabel\":{\"align\":\"left\"},\"paper_bgcolor\":\"white\",\"plot_bgcolor\":\"#E5ECF6\",\"polar\":{\"bgcolor\":\"#E5ECF6\",\"angularaxis\":{\"gridcolor\":\"white\",\"linecolor\":\"white\",\"ticks\":\"\"},\"radialaxis\":{\"gridcolor\":\"white\",\"linecolor\":\"white\",\"ticks\":\"\"}},\"ternary\":{\"bgcolor\":\"#E5ECF6\",\"aaxis\":{\"gridcolor\":\"white\",\"linecolor\":\"white\",\"ticks\":\"\"},\"baxis\":{\"gridcolor\":\"white\",\"linecolor\":\"white\",\"ticks\":\"\"},\"caxis\":{\"gridcolor\":\"white\",\"linecolor\":\"white\",\"ticks\":\"\"}},\"coloraxis\":{\"colorbar\":{\"outlinewidth\":0,\"ticks\":\"\"}},\"colorscale\":{\"sequential\":[[0.0,\"#0d0887\"],[0.1111111111111111,\"#46039f\"],[0.2222222222222222,\"#7201a8\"],[0.3333333333333333,\"#9c179e\"],[0.4444444444444444,\"#bd3786\"],[0.5555555555555556,\"#d8576b\"],[0.6666666666666666,\"#ed7953\"],[0.7777777777777778,\"#fb9f3a\"],[0.8888888888888888,\"#fdca26\"],[1.0,\"#f0f921\"]],\"sequentialminus\":[[0.0,\"#0d0887\"],[0.1111111111111111,\"#46039f\"],[0.2222222222222222,\"#7201a8\"],[0.3333333333333333,\"#9c179e\"],[0.4444444444444444,\"#bd3786\"],[0.5555555555555556,\"#d8576b\"],[0.6666666666666666,\"#ed7953\"],[0.7777777777777778,\"#fb9f3a\"],[0.8888888888888888,\"#fdca26\"],[1.0,\"#f0f921\"]],\"diverging\":[[0,\"#8e0152\"],[0.1,\"#c51b7d\"],[0.2,\"#de77ae\"],[0.3,\"#f1b6da\"],[0.4,\"#fde0ef\"],[0.5,\"#f7f7f7\"],[0.6,\"#e6f5d0\"],[0.7,\"#b8e186\"],[0.8,\"#7fbc41\"],[0.9,\"#4d9221\"],[1,\"#276419\"]]},\"xaxis\":{\"gridcolor\":\"white\",\"linecolor\":\"white\",\"ticks\":\"\",\"title\":{\"standoff\":15},\"zerolinecolor\":\"white\",\"automargin\":true,\"zerolinewidth\":2},\"yaxis\":{\"gridcolor\":\"white\",\"linecolor\":\"white\",\"ticks\":\"\",\"title\":{\"standoff\":15},\"zerolinecolor\":\"white\",\"automargin\":true,\"zerolinewidth\":2},\"scene\":{\"xaxis\":{\"backgroundcolor\":\"#E5ECF6\",\"gridcolor\":\"white\",\"linecolor\":\"white\",\"showbackground\":true,\"ticks\":\"\",\"zerolinecolor\":\"white\",\"gridwidth\":2},\"yaxis\":{\"backgroundcolor\":\"#E5ECF6\",\"gridcolor\":\"white\",\"linecolor\":\"white\",\"showbackground\":true,\"ticks\":\"\",\"zerolinecolor\":\"white\",\"gridwidth\":2},\"zaxis\":{\"backgroundcolor\":\"#E5ECF6\",\"gridcolor\":\"white\",\"linecolor\":\"white\",\"showbackground\":true,\"ticks\":\"\",\"zerolinecolor\":\"white\",\"gridwidth\":2}},\"shapedefaults\":{\"line\":{\"color\":\"#2a3f5f\"}},\"annotationdefaults\":{\"arrowcolor\":\"#2a3f5f\",\"arrowhead\":0,\"arrowwidth\":1},\"geo\":{\"bgcolor\":\"white\",\"landcolor\":\"#E5ECF6\",\"subunitcolor\":\"white\",\"showland\":true,\"showlakes\":true,\"lakecolor\":\"white\"},\"title\":{\"x\":0.05},\"mapbox\":{\"style\":\"light\"}}}},                        {\"responsive\": true}                    ).then(function(){\n",
       "                            \n",
       "var gd = document.getElementById('c563dab5-f771-457c-bcf9-d03479602c96');\n",
       "var x = new MutationObserver(function (mutations, observer) {{\n",
       "        var display = window.getComputedStyle(gd).display;\n",
       "        if (!display || display === 'none') {{\n",
       "            console.log([gd, 'removed!']);\n",
       "            Plotly.purge(gd);\n",
       "            observer.disconnect();\n",
       "        }}\n",
       "}});\n",
       "\n",
       "// Listen for the removal of the full notebook cells\n",
       "var notebookContainer = gd.closest('#notebook-container');\n",
       "if (notebookContainer) {{\n",
       "    x.observe(notebookContainer, {childList: true});\n",
       "}}\n",
       "\n",
       "// Listen for the clearing of the current output cell\n",
       "var outputEl = gd.closest('.output');\n",
       "if (outputEl) {{\n",
       "    x.observe(outputEl, {childList: true});\n",
       "}}\n",
       "\n",
       "                        })                };                });            </script>        </div>"
      ]
     },
     "metadata": {},
     "output_type": "display_data"
    }
   ],
   "source": [
    "scatter_trace = go.Scatter(\n",
    "    x=df['trt'],\n",
    "    y=df['age'],\n",
    "    mode='markers',\n",
    "    marker=dict(\n",
    "        color=df['trt'],\n",
    "        colorscale='Viridis',  # Optional: Choose a colorscale\n",
    "        showscale=True\n",
    "    )\n",
    ")\n",
    "''\n",
    "# Set up the layout\n",
    "layout = go.Layout(\n",
    "    width=1000,\n",
    "    height=600,\n",
    "    xaxis=dict(title='Treatment indicator'),\n",
    "    yaxis=dict(title='Age of the patient'),\n",
    "    title='Scatter Plot of treatment indicator vs. Age'\n",
    ")\n",
    "\n",
    "fig.update_layout(\n",
    "    title=\"Scatter Plot of Treatment Indicator vs. Age\",\n",
    "    title_font_family=\"Times New Roman\",\n",
    "    title_font_color=\"#000000\",\n",
    "    paper_bgcolor='#ffffff',\n",
    "    plot_bgcolor='#ffffff',\n",
    "    xaxis=dict(title='Treatment Indicator'),\n",
    "    yaxis=dict(title='Age')\n",
    ")\n",
    "\n",
    "\n",
    "fig.update_layout(width=1000)\n",
    "\n",
    "# Create the figure\n",
    "fig = go.Figure(data=[scatter_trace], layout=layout)\n",
    "\n",
    "# Display the figure\n",
    "fig.show()"
   ]
  },
  {
   "cell_type": "markdown",
   "id": "d29113e5",
   "metadata": {
    "papermill": {
     "duration": 0.047083,
     "end_time": "2024-06-02T14:38:21.550360",
     "exception": false,
     "start_time": "2024-06-02T14:38:21.503277",
     "status": "completed"
    },
    "tags": []
   },
   "source": [
    "## trt vs wtkg\n",
    "\n",
    "***Conclusion***\n",
    "\n",
    "- *Treamtent 0 and 3 are given to the patients with the widest range of weight from 42- 141 kg*"
   ]
  },
  {
   "cell_type": "code",
   "execution_count": 65,
   "id": "857725da",
   "metadata": {
    "execution": {
     "iopub.execute_input": "2024-06-02T14:38:21.642563Z",
     "iopub.status.busy": "2024-06-02T14:38:21.641762Z",
     "iopub.status.idle": "2024-06-02T14:38:21.668904Z",
     "shell.execute_reply": "2024-06-02T14:38:21.667728Z"
    },
    "papermill": {
     "duration": 0.07892,
     "end_time": "2024-06-02T14:38:21.674244",
     "exception": false,
     "start_time": "2024-06-02T14:38:21.595324",
     "status": "completed"
    },
    "tags": []
   },
   "outputs": [
    {
     "data": {
      "text/html": [
       "<div>                            <div id=\"739049b0-41b7-44a1-8080-56e4b0c3bd34\" class=\"plotly-graph-div\" style=\"height:600px; width:1000px;\"></div>            <script type=\"text/javascript\">                require([\"plotly\"], function(Plotly) {                    window.PLOTLYENV=window.PLOTLYENV || {};                                    if (document.getElementById(\"739049b0-41b7-44a1-8080-56e4b0c3bd34\")) {                    Plotly.newPlot(                        \"739049b0-41b7-44a1-8080-56e4b0c3bd34\",                        [{\"marker\":{\"color\":[1,0,1,1,3,2,2,2,3,3,0,1,3,0,0,3,0,2,1,3,2,1,0,0,0,3,3,3,2,1,2,1,3,0,2,0,2,3,0,0,2,0,3,0,0,2,3,2,3,1,0,3,0,1,0,2,0,2,3,0,3,0,2,3,0,2,1,3,0,3,2,2,2,2,2,3,0,0,3,1,1,1,0,2,0,0,1,0,0,0,2,3,0,3,0,0,0,2,0,0,2,1,0,3,3,2,1,2,1,0,1,1,1,0,3,3,3,2,2,3,0,0,3,1,0,1,3,2,2,3,2,0,2,0,3,0,0,0,3,0,0,2,1,1,1,2,0,2,0,1,3,1,2,0,3,3,3,3,0,0,0,0,2,1,0,0,3,2,0,0,0,3,0,3,2,0,3,1,2,2,3,0,0,2,0,0,0,3,3,0,2,1,3,3,3,0,1,2,0,1,1,1,1,0,0,0,0,0,2,2,3,3,3,0,2,3,1,0,2,0,1,3,3,0,2,0,3,0,3,0,1,0,0,3,3,1,0,2,1,0,3,0,3,0,1,0,1,0,2,2,1,0,3,0,0,2,0,1,3,3,2,3,3,0,3,0,1,2,2,3,0,2,2,3,1,1,2,2,3,3,3,0,0,3,3,2,3,2,0,0,1,0,3,2,3,0,0,1,0,0,3,3,0,0,3,0,0,0,2,3,0,0,3,1,1,2,3,1,3,0,1,3,0,0,0,3,3,0,0,0,3,3,1,0,2,3,3,0,3,3,3,1,0,0,0,0,3,0,0,3,0,2,0,0,2,0,2,3,2,0,3,0,0,3,2,0,0,2,3,1,0,0,3,2,0,1,0,3,1,0,0,2,3,0,1,3,0,0,3,0,3,3,2,3,0,0,0,1,3,0,0,0,3,0,2,2,3,0,3,2,2,1,1,3,0,3,3,2,0,3,0,3,3,3,0,2,3,2,3,2,0,0,0,3,3,0,3,1,0,3,3,0,0,0,2,2,3,1,2,0,0,3,0,3,0,0,3,1,0,3,3,1,2,0,0,1,2,0,0,3,3,3,3,0,0,3,0,1,2,0,0,3,0,1,0,2,0,2,0,3,2,3,2,2,0,0,0,2,3,1,2,3,0,0,1,2,2,1,0,3,2,0,2,0,1,2,0,3,1,2,3,3,1,3,3,3,0,0,0,3,1,3,3,0,3,3,3,2,0,2,0,3,2,0,0,0,3,0,3,1,0,0,1,3,0,1,3,1,2,1,0,0,3,3,1,0,0,0,3,0,2,1,0,3,1,3,2,0,2,1,3,3,0,0,0,0,0,2,2,3,0,1,0,1,0,2,2,0,2,1,0,3,2,2,0,0,2,0,0,1,2,3,0,3,2,0,0,0,3,2,0,0,3,3,3,3,3,3,0,2,0,0,3,1,0,2,0,0,2,2,2,0,2,3,0,1,2,3,3,2,0,3,3,3,2,3,0,3,0,1,2,0,3,1,2,3,2,3,0,2,1,3,0,3,0,1,2,2,3,0,0,2,2,0,0,2,1,0,2,3,2,0,0,3,1,3,0,0,1,2,1,2,0,0,0,3,0,0,0,0,1,2,0,1,0,3,0,3,3,0,3,0,2,2,3,3,0,3,2,0,1,2,2,2,2,2,3,3,0,1,1,3,3,1,3,3,3,0,0,3,3,2,3,0,2,1,1,3,2,0,3,0,2,0,3,2,2,3,0,1,0,3,2,0,2,3,2,2,3,0,0,3,0,3,1,1,3,0,1,0,2,0,1,2,3,3,0,3,0,3,2,0,3,2,0,1,3,2,3,0,3,3,1,2,0,3,0,1,2,0,1,1,0,2,0,2,2,3,3,3,3,3,0,0,3,3,3,2,3,1,3,3,2,3,3,0,0,2,3,3,2,2,0,3,0,2,1,2,2,0,0,2,0,2,3,3,0,3,0,3,3,3,0,1,3,0,3,0,0,1,2,1,3,0,2,0,0,2,3,3,3,2,2,0,0,2,0,0,0,0,0,1,3,0,0,2,0,3,0,3,0,1,1,0,0,0,3,3,0,3,0,3,2,3,2,0,3,2,0,1,2,1,3,3,2,1,3,3,0,0,0,0,0,3,1,2,3,3,3,0,0,2,0,3,0,0,3,3,0,2,3,1,0,0,3,0,0,3,3,2,3,0,3,0,2,2,1,0,2,1,2,0,2,3,1,3,1,0,2,3,3,0,2,0,0,2,3,2,0,0,3,3,3,0,3,0,3,3,2,2,1,2,0,0,0,1,0,3,0,3,3,0,1,0,1,2,1,0,2,3,3,3,0,0,1,0,0,2,1,2,3,0,2,0,2,0,3,0,2,0,2,2,3,1,2,2,0,0,1,2,0,3,2,0,2,0,2,1,1,0,3,3,3,0,0,2,2,2,3,1,3,0,0,3,1,0,0,0,0,3,3,2,3,3,3,0,0,2,0,0,1,1,2,0,3,2,0,2,0,3,0,3,3,1,0,3,2,0,0,0,1,2,0,1,0,1,1,3,0,3,3,2,3,2,0,2,0,2,3,3,0,0,0,0,0,3,2,3,2,3,2,0,2,3,1,3,2,2,3,1,2,2,2,2,1,3,1,0,2,0,0,0,0,2,0,2,3,1,3,3,0,0,3,0,3,1,0,0,2,1,0,3,3,1,0,0,1,0,2,2,0,1,2,0,3,1,0,0,2,0,3,0,2,2,0,0,0,3,0,0,0,3,0,2,3,3,3,2,3,2,3,0,3,0,0,0,0,3,3,3,0,0,3,3,0,2,0,3,3,3,0,0,3,0,1,2,2,2,3,2,3,0,2,3,1,3,0,0,0,3,0,3,3,0,0,2,3,3,0,2,2,2,0,2,0,0,0,3,3,3,0,2,3,2,1,0,1,1,0,1,1,1,0,3,3,3,0,2,2,1,3,2,1,3,3,3,3,3,2,2,0,2,2,2,3,0,2,3,0,1,0,3,2,2,2,0,1,0,3,3,3,3,3,3,0,0,3,3,0,3,0,3,2,0,1,0,3,3,2,1,0,3,3,3,0,0,0,1,0,0,2,0,2,0,0,1,2,1,2,2,0,0,0,2,0,3,1,2,1,2,2,2,0,3,1,1,2,0,0,3,0,3,2,3,3,3,2,0,3,1,0,2,0,0,2,0,3,3,0,0,2,2,0,0,2,0,2,3,2,3,3,0,0,2,3,3,3,1,2,0,3,0,2,1,3,0,3,0,3,0,2,0,0,3,0,0,3,0,3,1,1,2,0,0,2,0,0,0,3,0,3,2,3,0,0,3,0,2,3,2,0,0,1,3,0,0,3,1,3,0,3,0,2,2,0,0,2,2,1,3,0,0,3,0,0,2,2,1,1,3,3,0,0,3,1,0,2,2,0,3,1,3,3,2,0,0,3,1,3,0,3,0,0,0,2,3,0,2,3,2,2,2,0,3,0,2,0,2,3,0,3,2,1,0,2,3,0,2,3,3,3,3,1,3,0,3,3,0,1,3,3,0,0,1,2,3,3,2,0,2,0,1,3,2,0,0,0,0,0,0,3,1,2,3,0,3,0,3,1,1,0,3,0,0,0,0,0,0,3,2,1,1,2,0,3,0,3,0,0,1,3,2,0,0,3,3,0,0,2,2,0,0,0,3,3,3,3,2,0,2,3,0,2,0,3,0,0,0,3,0,1,3,0,3,0,0,0,3,0,0,1,3,2,2,3,2,1,2,0,0,2,2,3,3,3,2,1,3,3,0,0,2,3,0,0,0,3,3,0,2,1,2,0,1,0,1,2,0,3,1,0,2,3,0,0,0,0,0,3,3,2,0,2,0,0,3,2,1,3,3,2,2,3,0,1,3,2,2,3,2,0,1,0,0,3,3,1,2,0,0,2,3,0,3,2,0,0,1,1,3,3,0,1,0,3,3,2,3,1,2,2,2,0,2,0,2,0,3,1,3,2,0,0,0,0,2,1,3,0,2,0,1,3,0,0,0,0,2,3,2,3,3,0,1,2,0,2,2,1,2,0,1,2,0,2,1,3,1,0,3,0,3,0,1,2,0,1,2,0,0,2,0,2,2,0,2,0,1,1,0,3,0,1,0,1,3,2,1,0,3,3,3,0,1,0,0,1,0,2,0,0,2,3,0,0,0,0,0,2,0,3,3,0,1,0,3,2,2,2,0,2,2,3,0,2,0,0,1,1,2,0,2,3,0,0,0,0,2,0,1,0,1,0,2,3,1,0,2,2,0,3,3,3,3,1,3,3,0,2,0,3,2,3,0,2,3,3,3,1,0,2,2,2,2,1,0,3,3,1,3,0,3,0,0,2,2,0,0,3,0,3,3,0,1,0,0,0,1,3,0,1,2,3,0,0,3,0,1,1,3,2,0,3,0,0,0,3,0,3,1,2,0,2,0,3,1,3,2,2,0,2,2,3,3,2,0,0,0,3,3,3,3,2,0,0,0,3,3,3,0,0,0,0,2,1,0,3,3,0,0,3,0,2,3,2,0,3,0,0,0,0,3,0,0,3,3,0,3,3,3,3,3,2,0,2,0,3,0,3,3,0,2,0,1,0,3,0,0,0,3,2,0,2,1,0,2,3,3,1,1,3,0,0,1,3,0,2,0,3,1,2,1,2,2,1,3,3,0,2,2,3,3,2,3,2,1,0,3,2,3,1,2,3,1,2,2,1,0,0,2,1,0,1,3,0,3,2,1,3,1,0,1,0,0,0,0,1,3,3,0,0,0,3,3,2,3,0,3,0,3,2,2,3,0,0,2,0,0,2,0,3,0,0,2,3,3,0,3,3,0,0,2,0,1,1,2,3,0,2,3,3,0,3,2,0,3,0,0,0,1,1,3,0,3,0,0,0,0,3,1,3,3,0,1,1,3,3,0,2,3,2,2,0,1,0,0,2,0,3,0,0,1,1,3,0,1,2,1,2,0,0,0,3,0,1,2,3,0,3,0,0,2,0,1,2,2,0,2,0,3,0,2,0,2,2,0,0,0,3,3,0,0,0,0,2,3,0,3,0,0,0,3,3,0,2,0,2,2,3,3,0,2,2,0,0,0,0,0,2,3,3,3,0,3,3,3,3,2,3,0,0,0,3,3,3,0,1,0,0,2,0,2,2,0,0,0,0,3,3,0,3,1,3,1,2,0,1,0,3,0,3,1,0,1,1,2,2,3,2,1,3,0,2,1,0,0,1,0,0,3,2,3,0,0,0,0,0,3,1,3,2,2,3,1,1,2,0,0,3,3,0,0,3,3,3,0,1,0,0,2,1,0,1,3,0,3,3,0,3,0,0,1,0,0,0,2,3,0,0,3,1,0,3,0,0,1,1,1,2,0,2,0,2,3,3,0,1,1,3,0,0,1,2,2,0,3,1,3,2,3,1,3,2,0,2,0,3,0,3,2,2,0,0,0,0,0,1,0,2,0,3,3,3,2,3,3,3,3,3,0,3,0,1,3,1,0,0,2,0,0,3,3,3,0,0,0,3,3,3,2,3,0,2,0,2,0,1,1,0,1,3,1,2,0,1,1,2,0,0,2,0,2,0,0,2,0,0,2,2,2,3,2,2,3,2,0,3,2,2,0,3,3,0,2,2,0,3,3,3,0,2,0,2,0,0,0,2,0,1,1,3,0,0,3,0,1,2,0,0,2,1,3,0,3,1,1,0,1,2,1,3,3,3,1,0,2,0,0,2,2,0,2,3,3,0,0,0,1,3,2,0,1,1,3,3,2,0,0,1,3,3,3,0,3,0,0,2,0,3,2,3,0,3,3,2,2,0,1,1,3,0,0,3,3,0,0,1,3,0,3,0,2,3,3,0,3,0,0,0,0,3,3,3,0,0,1,0,3,2,1,2,0,2,2,3,0,2,0,2,0,0,0,0,0,2,3,3,1,3,3,3,0,1,3,1,3,1,2,2,3,0,2,3,0,3,2,3,0,2,0,0,3,0,0,1,1,0,3,3,0,0,3,2,0,1,0,2,3,1,0,2,3,3,1,2,3,3,0,1,2,2,2,1,3,3,1,3,0,3,0,0,3,0,3,2,2,3,3,0,2,0,0,3,1,3,0,3,2,0,0,3,0,1,0,3,0,0,3,0,2,3,0,0,0,2,2,0,3,0,0,0,0,3,0,0,1,2,3,0,2,0,1,0,0,1,0,0,3,0,3,0,2,2,2,0,2,2,2,0,0,2,0,2,0,2,3,0,1,3,3,0,3,0,3,0,3,0,2,0,3,1,1,2,1,0,3,3,0,0,3,3,1,1,1,0,3,0,0,3,1,2,3,1,3,2,3,1,3,0,1,3,3,3,1,0,2,3,0,0,0,3,2,2,2,2,0,2,0,3,0,1,0,2,0,1,0,1,3,0,0,0,3,2,0,0,0,3,0,3,3,1,3,2,3,3,2,0,0,0,3,3,2,3,0,1,0,2,2,2,1,2,1,3,3,0,0,0,0,2,1,1,3,0,1,1,1,2,3,2,1,3,2,2,3,3,2,2,3,3,2,2,3,3,2,1,2,0,3,0,3,3,3,3,2,3,2,2,0,3,3,3,2,3,3,2,0,1,1,2,3,3,0,0,2,0,0,0,1,0,1,0,3,1,2,1,3,0,3,0,0,1,3,2,0,0,0,0,0,2,3,2,0,0,0,0,0,3,0,0,2,3,0,1,3,2,3,0,2,2,3,2,0,1,1,0,0,0,1,2,0,3,0,2,2,1,1,0,2,1,1,3,0,2,0,2,3,0,1,3,1,0,1,0,3,3,0,0,1,0,3,2,3,2,3,0,0,3,0,2,0,1,0,3,1,1,1,3,0,1,0,0,0,3,0,2,0,2,1,2,0,3,0,1,0,1,0,2,2,2,0,0,3,2,1,3,1,0,0,3,2,2,2,0,0,2,3,2,1,1,2,2,0,2,2,2,0,0,2,0,0,3,0,0,3,1,1,3,0,3,1,3,0,0,0,1,2,3,2,0,2,1,1,0,0,2,0,0,0,3,3,0,0,0,1,0,3,3,1,3,1,3,3,1,3,3,0,0,3,0,0,1,2,1,2,2,0,2,3,0,3,2,2,1,0,1,0,0,0,0,2,0,0,2,3,3,3,0,2,3,3,2,3,3,0,3,2,3,0,0,3,2,1,1,1,0,3,0,1,3,0,3,3,3,1,0,2,0,3,0,3,3,0,2,2,2,0,3,1,1,3,1,0,3,2,3,1,0,3,2,2,2,0,0,0,0,0,3,2,0,2,3,0,0,3,1,1,3,0,1,3,2,0,3,3,3,2,2,0,0,2,0,3,0,2,3,2,3,0,2,0,2,2,1,0,0,3,3,1,3,0,3,1,0,3,0,1,3,3,0,2,0,3,1,2,2,1,0,0,0,2,0,0,0,0,0,0,2,2,1,0,3,0,0,1,3,1,3,3,0,0,3,2,3,0,0,2,3,3,0,2,0,0,0,3,2,2,3,2,0,2,0,3,3,3,0,0,1,3,0,1,2,0,3,0,0,1,3,3,0,0,0,3,3,3,0,2,3,0,3,2,0,3,3,2,2,2,3,0,0,1,0,1,0,0,1,1,1,0,0,3,2,1,3,2,2,3,1,3,2,3,2,3,1,2,2,0,3,0,2,3,2,3,0,3,3,3,1,0,3,1,3,2,2,0,0,3,1,2,3,3,3,3,3,0,2,3,2,2,3,0,2,2,0,3,0,2,3,2,0,3,2,2,3,0,0,1,3,1,1,0,2,2,2,2,3,0,0,0,1,2,0,3,3,1,2,3,0,2,2,1,1,3,3,3,3,1,3,3,0,0,2,0,0,3,3,3,3,0,1,2,0,3,0,0,1,2,0,0,3,1,0,2,2,3,3,0,0,3,2,0,2,0,0,2,0,3,2,0,0,1,3,0,2,0,0,3,0,2,0,0,0,2,2,1,3,0,3,3,0,3,2,1,3,1,1,2,0,0,1,2,3,0,3,2,0,0,0,0,3,0,0,0,2,0,2,2,0,3,0,2,2,1,2,2,3,3,3,3,1,2,1,2,0,0,0,3,2,3,0,3,3,3,3,2,3,0,0,3,1,0,0,2,3,3,3,2,3,3,0,3,3,0,1,2,0,0,2,1,0,2,0,3,1,0,0,0,0,2,0,0,0,0,0,0,2,0,0,3,2,1,0,3,3,0,0,0,0,1,1,0,0,1,3,0,3,2,0,0,2,0,0,0,2,3,1,3,0,1,3,0,0,0,1,3,3,3,0,0,2,3,0,1,3,1,3,3,1,2,0,2,3,0,0,0,0,1,3,0,0,0,0,0,3,0,0,2,3,3,1,3,1,0,0,3,0,1,1,0,3,3,1,3,2,1,2,0,0,2,1,0,3,0,1,2,1,0,0,0,2,0,0,0,1,2,2,0,2,3,0,3,3,1,3,0,3,3,3,3,2,0,2,2,2,0,3,0,1,0,0,2,0,0,2,0,2,2,3,1,0,3,0,3,0,3,0,2,0,3,0,0,0,3,3,1,3,0,0,0,0,2,2,2,0,3,0,0,0,2,2,0,3,0,0,2,0,3,0,2,0,3,2,0,3,3,3,0,1,3,0,3,2,2,3,1,0,3,0,3,0,0,3,2,0,1,0,2,1,0,1,2,2,3,0,1,3,3,1,0,3,0,0,1,0,3,0,3,0,2,0,3,0,0,1,0,2,0,3,1,1,0,0,0,0,0,0,3,0,3,0,0,1,2,2,1,0,3,2,3,1,1,0,0,3,3,2,0,0,2,1,3,0,2,0,1,2,0,2,1,0,0,0,3,1,0,3,3,0,0,0,0,3,0,0,0,0,3,0,0,3,0,3,0,1,3,1,0,1,1,2,0,0,0,0,1,0,0,2,3,0,0,0,0,2,0,0,0,3,1,3,3,1,2,3,2,2,3,0,0,0,1,2,3,1,0,1,2,2,2,0,0,0,0,0,3,0,1,2,1,2,3,1,2,1,2,0,2,3,3,3,0,3,3,1,0,3,0,0,3,1,0,3,0,0,0,3,0,1,2,3,3,3,0,1,3,0,3,0,1,2,0,2,0,2,3,1,3,3,3,0,3,3,3,3,0,2,3,2,0,0,3,0,2,0,3,0,2,3,0,0,0,2,3,2,0,0,3,0,0,3,2,0,0,1,2,0,3,0,3,3,0,0,1,0,2,2,0,3,3,0,3,2,0,0,3,3,0,0,0,1,3,2,0,3,0,0,0,0,0,0,0,3,1,3,3,0,1,0,2,1,0,3,2,0,3,1,2,2,2,0,3,0,0,0,0,1,1,2,0,1,2,0,3,0,0,2,1,1,0,3,3,1,0,3,0,1,0,2,1,3,0,3,3,3,0,3,2,3,2,2,0,3,0,2,0,3,0,2,0,3,0,3,0,0,3,3,0,3,3,1,0,1,3,3,2,0,0,2,0,1,2,0,0,0,0,1,0,3,1,3,0,0,0,1,2,0,1,0,0,0,1,2,2,3,3,3,0,1,0,0,0,0,3,1,0,0,0,0,0,3,3,3,2,2,0,0,0,1,3,1,0,0,0,0,3,3,3,1,2,2,2,3,3,3,0,1,0,3,1,3,3,1,0,1,0,2,3,1,2,3,0,0,0,0,0,0,2,1,3,3,0,1,1,0,3,0,3,0,0,2,3,3,3,3,0,2,1,2,2,2,2,3,2,3,2,0,2,0,0,0,0,3,3,3,0,3,2,0,3,3,3,1,3,2,0,0,3,2,3,0,1,1,2,3,1,2,2,0,2,2,3,0,0,2,2,1,3,1,3,2,0,3,0,0,0,0,0,1,0,2,1,2,3,0,1,3,2,1,0,3,0,3,3,0,3,2,0,1,3,3,0,0,2,0,0,0,0,2,1,2,0,0,3,2,0,3,0,2,0,0,0,2,2,1,0,3,1,0,2,3,0,2,0,3,1,0,3,2,0,2,0,0,0,2,1,0,3,2,1,1,3,2,3,0,0,3,2,0,2,0,3,0,3,0,3,1,1,3,1,3,0,3,0,2,0,0,3,0,3,3,0,0,1,0,3,2,2,2,0,0,3,2,2,0,0,0,0,2,1,2,2,2,3,3,0,2,1,0,3,1,3,0,0,0,2,1,3,2,3,0,2,0,3,3,2,0,2,0,0,1,3,2,0,2,0,2,2,3,2,0,1,0,1,2,3,3,0,2,2,2,2,0,3,0,0,2,0,0,3,2,2,2,0,3,2,3,2,0,0,2,3,3,0,1,0,1,1,3,0,3,3,0,2,3,3,0,1,2,0,2,2,2,0,0,1,0,0,3,3,0,3,0,0,0,2,3,3,0,0,1,1,3,3,0,0,0,3,0,3,0,0,0,0,0,3,0,0,0,2,0,0,0,1,1,0,0,3,1,1,3,3,3,0,0,0,2,3,1,0,2,3,3,0,2,0,2,0,0,1,0,0,2,2,2,1,0,3,3,0,3,2,2,2,3,1,3,3,0,3,0,1,0,3,3,0,3,0,0,3,0,0,2,3,2,1,0,0,0,3,3,2,3,2,3,3,2,0,3,0,0,0,0,0,1,0,0,0,0,2,0,1,2,3,2,2,0,0,0,1,2,0,1,0,2,0,2,0,3,0,2,2,2,0,1,3,1,0,1,0,0,2,0,0,3,0,2,0,1,3,0,3,0,0,2,0,0,0,0,0,2,0,3,3,0,2,0,0,3,3,2,0,3,3,1,2,0,2,2,1,0,0,3,1,0,2,3,0,0,0,1,3,0,0,2,2,0,0,0,3,1,3,0,0,1,3,0,2,0,1,2,1,2,0,3,0,3,0,0,0,1,2,0,2,0,2,3,0,0,1,2,1,2,0,2,0,0,1,3,3,2,0,1,3,0,3,2,3,3,0,0,2,2,0,3,2,3,2,3,2,3,1,0,0,0,2,0,3,0,0,3,0,0,2,2,0,0,1,2,3,3,3,2,0,2,2,1,0,3,0,2,3,0,2,3,1,0,2,2,0,2,0,2,3,3,2,0,2,3,0,2,1,3,0,2,1,0,3,3,2,2,1,1,0,2,0,1,1,2,2,3,3,0,2,3,0,3,3,3,0,3,1,0,2,3,2,3,3,3,2,3,2,1,1,0,2,1,3,0,0,1,0,3,0,1,2,3,0,3,3,3,3,2,1,2,0,0,3,3,3,3,1,2,0,2,3,3,0,3,3,3,2,3,2,3,2,0,3,0,3,3,1,0,2,2,1,3,1,2,2,2,2,2,0,2,2,2,0,0,0,2,0,3,0,1,1,2,1,1,3,0,0,2,0,3,0,3,3,3,2,3,3,2,0,0,2,0,1,3,2,2,3,0,3,2,0,0,0,0,3,3,0,2,0,0,2,2,3,2,2,0,0,0,3,2,2,3,1,0,0,0,3,3,3,3,3,3,0,1,3,0,0,0,3,2,0,3,0,2,1,0,2,2,0,2,1,0,0,3,0,2,1,1,0,1,0,2,3,3,0,0,3,1,3,3,3,3,2,0,0,0,0,3,1,0,0,3,3,2,1,3,1,3,0,0,2,0,3,0,0,3,1,2,0,1,2,0,0,1,3,2,3,0,3,0,3,0,2,2,0,3,3,1,0,3,3,0,1,0,1,0,2,2,3,0,0,2,3,0,1,1,3,0,3,3,3,2,3,3,0,1,2,2,2,0,3,0,2,2,0,2,1,2,1,0,2,0,2,1,3,3,3,3,3,0,1,3,3,0,2,0,0,1,1,2,0,0,0,0,0,1,3,2,3,1,2,0,0,3,2,2,2,3,0,3,3,3,0,0,1,3,1,0,3,0,3,1,3,0,3,3,1,1,1,2,0,2,0,2,1,3,3,0,0,3,1,3,2,3,0,1,1,3,0,1,3,1,2,1,0,2,2,3,1,2,3,0,3,0,3,3,2,3,0,0,0,3,0,3,0,2,3,2,0,3,0,0,0,3,0,3,2,0,0,2,2,0,0,0,0,2,1,0,0,2,3,2,0,2,3,0,0,1,0,1,0,3,0,2,0,1,2,2,1,0,0,2,3,3,0,2,3,0,3,2,2,2,0,2,1,3,3,0,0,0,2,3,0,3,2,0,2,2,2,2,0,0,2,3,3,1,3,0,0,2,0,0,0,3,2,2,0,0,0,3,1,2,3,2,0,0,0,0,1,2,2,0,3,1,2,0,0,3,3,3,0,3,1,3,2,3,3,0,2,3,1,3,0,0,0,2,2,0,3,2,1,2,0,3,2,3,2,3,0,0,2,0,0,0,1,3,3,1,2,3,2,0,0,3,0,3,0,0,3,0,0,2,0,3,1,3,0,0,0,2,3,2,3,0,0,3,2,0,3,2,2,2,0,2,1,2,2,3,0,0,0,1,0,0,3,0,3,3,2,0,0,3,1,3,3,2,1,1,3,0,1,0,0,1,1,0,1,0,3,0,2,0,0,1,3,0,0,0,0,3,0,2,1,3,3,0,1,3,0,3,1,2,2,2,1,3,3,3,1,1,0,3,1,2,2,3,0,1,0,3,2,2,2,1,0,0,0,1,0,3,2,0,0,1,1,0,0,2,0,2,3,1,0,2,3,2,2,0,3,0,0,2,2,3,1,2,1,0,0,2,1,0,3,1,1,0,0,3,0,1,3,0,0,3,0,2,0,3,3,3,0,0,0,3,0,3,0,0,1,0,3,3,1,2,2,1,1,3,0,3,2,0,3,0,3,2,3,0,0,0,2,0,3,2,3,3,0,2,3,2,0,3,3,0,0,0,0,1,0,2,3,2,1,3,0,3,2,3,1,0,1,3,0,1,3,0,0,2,0,0,0,3,1,1,0,0,1,1,2,2,2,3,0,0,0,1,0,2,1,3,3,2,0,0,0,3,3,3,3,0,0,0,0,0,0,2,1,3,0,0,0,3,2,1,1,3,1,3,2,0,0,0,3,3,3,2,2,3,0,1,0,0,2,0,0,0,1,3,0,0,2,3,1,2,0,1,0,0,0,0,1,3,2,0,0,0,2,3,0,2,3,3,0,0,3,0,3,0,3,0,2,0,1,3,0,0,1,2,1,0,0,0,3,2,0,1,0,0,3,2,0,1,2,2,0,3,0,0,0,3,2,1,2,1,2,1,3,1,1,0,0,2,2,2,1,2,1,2,0,3,2,0,0,2,3,1,2,3,1,1,2,2,3,2,2,0,3,1,2,2,3,3,0,2,2,0,3,3,1,3,1,3,2,1,2,0,1,0,3,3,2,0,3,0,0,1,3,3,2,0,0,2,2,1,0,0,0,0,0,0,3,1,3,2,0,0,3,1,3,3,3,0,0,2,2,0,0,0,0,3,2,0,0,2,3,0,3,2,2,0,1,2,3,0,2,0,2,3,3,2,3,0,0,2,0,0,0,2,0,0,0,0,0,0,2,3,1,1,2,3,3,1,1,2,0,0,0,1,3,0,2,3,2,0,0,1,0,2,0,1,3,1,3,1,0,2,3,1,3,2,3,2,2,0,3,1,1,1,0,1,2,0,3,2,1,1,3,2,0,2,2,0,3,2,3,1,0,3,3,3,1,1,1,1,0,3,2,3,1,3,0,2,0,2,0,0,2,0,1,2,0,0,3,3,3,0,2,0,3,3,3,0,3,3,2,0,3,2,1,0,0,3,0,3,2,3,0,1,0,3,0,0,3,0,2,2,1,3,0,0,0,3,3,2,0,2,2,2,3,3,3,1,2,2,0,2,3,0,3,1,3,1,0,3,1,2,3,1,0,1,0,3,1,2,3,3,2,0,2,0,2,3,0,3,0,0,0,1,0,2,0,1,0,1,1,0,3,2,0,2,2,0,3,1,3,2,0,1,3,1,0,0,3,0,0,2,3,3,0,2,2,0,0,3,1,3,0,0,0,2,2,0,0,3,0,2,2,0,0,0,1,3,0,1,0,1,3,2,2,3,3,2,3,0,2,0,0,2,3,1,0,0,1,1,3,0,1,1,3,0,3,3,3,2,3,1,0,3,0,3,0,0,0,2,2,1,0,0,0,2,3,1,0,0,3,3,3,3,0,1,3,2,0,3,2,1,1,0,0,2,3,3,2,2,1,3,1,0,0,0,0,3,1,3,0,0,2,1,0,3,2,2,3,2,0,0,0,0,0,1,1,1,0,0,1,3,0,0,0,1,0,0,3,3,0,0,1,1,2,0,1,1,3,1,0,1,0,1,0,3,2,2,0,3,0,3,2,0,3,3,1,0,2,3,2,1,3,1,3,0,1,1,1,3,1,3,3,1,2,2,1,3,0,0,2,3,0,2,0,2,0,0,2,3,1,2,0,0,3,3,3,1,3,3,2,2,1,3,2,0,2,0,0,0,0,0,0,0,1,0,0,2,1,1,3,0,0,3,0,1,2,3,3,0,2,0,2,2,3,3,2,2,1,0,0,0,2,3,2,1,0,0,1,3,3,2,2,0,2,1,2,2,1,3,3,2,1,2,3,3,0,3,3,2,2,3,0,1,0,1,2,1,3,3,0,2,1,2,2,0,2,0,3,0,1,0,3,2,1,3,3,3,3,0,0,1,1,3,0,2,3,3,3,0,3,1,3,0,0,2,1,0,1,0,3,0,1,3,3,3,0,0,0,0,0,2,2,3,2,2,2,3,0,0,0,0,0,1,2,3,0,2,2,3,0,3,0,1,3,0,0,2,3,1,2,3,0,0,0,0,3,3,0,3,0,0,0,2,3,0,1,2,0,2,3,3,2,0,2,0,3,1,2,2,0,0,0,0,2,0,0,0,0,1,2,2,3,3,0,0,3,0,0,0,2,3,3,1,0,1,3,3,0,3,1,0,0,3,3,2,3,1,0,3,1,1,3,3,2,0,2,0,0,3,0,0,1,0,3,3,2,2,0,2,0,3,0,3,0,0,3,0,3,3,2,3,0,3,0,0,1,0,1,2,3,0,0,1,0,2,3,0,0,1,0,0,0,3,3,3,0,3,2,1,2,0,3,2,3,0,0,1,2,3,3,0,0,3,3,2,0,0,1,2,3,2,0,1,3,3,3,3,0,0,0,1,2,3,3,2,1,3,3,3,3,0,0,2,3,1,3,3,0,0,0,2,0,1,2,3,0,3,0,0,0,3,0,0,0,1,3,0,3,0,0,0,3,3,0,3,0,0,3,0,3,2,2,0,0,2,1,2,3,3,0,0,2,0,0,3,0,1,3,0,0,1,1,3,2,3,3,2,2,3,0,2,0,1,2,1,0,0,1,2,2,3,3,3,0,0,0,0,0,2,3,1,1,2,2,1,0,0,0,0,0,0,2,2,1,3,0,0,3,2,3,2,2,0,0,2,0,3,0,0,0,3,0,2,0,0,3,1,3,2,0,2,1,3,0,2,3,0,3,0,0,0,2,1,2,2,2,0,1,3,3,2,0,0,0,1,3,3,2,0,0,2,0,0,2,3,0,0,3,3,0,2,3,3,3,3,1,2,2,2,0,1,0,0,3,0,3,2,3,0,0,0,0,1,3,3,3,3,3,1,0,2,0,0,3,2,3,3,0,0,2,1,0,3,0,3,1,1,3,2,2,2,1,1,0,0,2,0,0,0,1,2,0,0,3,1,3,3,0,2,3,0,3,3,0,3,2,0,3,1,3,0,2,0,0,3,2,3,3,2,3,2,2,2,2,3,0,1,2,3,3,0,1,0,3,2,3,1,3,3,1,2,3,3,0,0,0,0,1,2,3,0,2,0,2,0,0,0,2,2,3,0,0,1,0,1,2,0,2,2,0,3,2,0,3,1,3,0,2,2,0,1,2,3,3,3,0,2,3,2,3,0,1,3,0,3,2,1,2,1,0,1,0,0,2,0,0,0,2,2,2,0,3,2,0,0,3,0,0,2,3,0,3,0,0,1,0,2,2,3,3,2,0,3,0,1,0,0,0,1,1,0,0,3,1,0,1,0,3,1,0,2,2,0,2,3,1,1,1,3,1,3,2,2,2,0,0,3,1,3,2,2,2,0,2,1,2,2,0,3,3,3,3,0,0,2,1,0,3,0,1,2,0,0,3,3,3,0,3,2,3,3,0,2,1,2,2,2,3,0,0,2,0,0,0,0,3,1,2,0,0,3,0,0,2,0,2,0,0,0,2,0,0,1,2,2,3,0,3,0,3,1,0,2,3,3,2,2,2,1,3,3,2,1,3,2,3,0,3,3,1,0,0,1,2,3,2,3,3,2,3,2,0,3,3,3,0,0,3,0,3,3,2,2,2,1,0,2,0,3,0,2,3,3,0,2,3,2,2,3,3,3,2,3,0,1,0,2,2,2,3,3,2,0,0,3,0,0,3,1,3,2,2,2,3,2,0,1,0,1,0,0,3,2,3,0,3,1,3,0,3,0,1,0,3,0,2,1,3,3,0,3,3,1,0,1,3,0,0,0,0,0,3,0,0,3,1,3,3,0,0,3,3,0,2,3,0,3,0,0,3,1,3,3,0,0,1,0,3,3,1,3,0,0,0,0,0,0,2,2,3,0,3,2,1,2,1,2,0,3,3,3,0,2,0,1,2,2,1,2,0,2,0,0,0,3,0,2,0,1,2,3,2,0,0,0,1,2,2,2,3,0,1,0,3,0,0,2,1,0,3,1,3,3,1,2,0,3,0,3,3,2,0,3,1,0,3,3,0,1,3,1,0,0,1,0,2,0,3,3,3,2,2,3,1,0,2,1,2,1,0,0,3,3,3,3,0,3,2,1,2,2,2,3,3,3,1,0,3,0,0,3,2,1,3,0,3,0,2,2,0,1,0,2,3,3,3,2,0,2,2,3,1,3,1,3,3,2,0,2,3,3,0,3,3,0,0,3,0,0,0,2,0,2,3,2,0,0,3,2,2,0,2,1,3,0,2,0,0,2,0,1,3,3,0,0,2,1,0,0,0,0,3,0,0,0,1,0,0,0,2,0,0,1,2,3,3,0,0,0,3,0,3,3,0,0,3,3,3,0,3,0,2,0,2,0,0,2,0,0,3,1,2,2,0,0,3,2,2,3,3,0,3,1,1,0,0,3,3,3,0,0,0,3,2,0,1,2,3,2,3,2,3,3,1,0,0,0,3,3,0,0,0,0,2,0,3,0,0,3,0,0,0,0,3,1,0,0,3,0,2,0,0,0,1,3,0,2,2,3,0,3,3,0,3,3,0,2,0,0,3,0,3,2,0,3,0,0,3,3,0,2,3,1,0,0,0,0,0,3,0,3,0,0,0,0,0,0,1,3,2,3,0,0,0,3,1,2,0,0,2,0,3,0,3,3,2,0,2,0,3,3,0,3,0,1,2,3,0,3,0,2,2,1,2,0,2,0,1,0,0,2,1,3,2,0,1,0,3,2,0,2,0,3,1,0,2,2,0,3,3,2,0,0,2,3,1,0,2,3,3,3,0,2,3,1,0,0,3,0,3,3,1,0,1,0,0,2,2,0,0,3,3,0,2,1,2,2,3,0,1,0,2,0,2,3,0,2,3,0,1,0,0,2,3,3,1,0,0,3,2,0,2,0,0,2,2,3,0,3,3,3,1,2,0,3,0,1,0,0,3,3,3,0,0,0,0,0,3,1,0,0,2,0,3,2,1,1,3,3,3,3,0,3,0,0,2,0,0,0,2,3,0,0,3,3,2,3,0,0,3,2,3,0,0,0,0,3,3,3,0,0,0,0,1,3,3,0,2,2,0,3,0,2,0,0,0,3,0,3,0,3,3,0,3,0,3,2,0,0,3,3,2,1,0,0,0,3,2,1,0,2,3,1,2,0,0,1,0,0,3,2,2,3,1,2,0,2,3,0,0,1,0,2,0,1,1,3,0,0,2,3,3,0,2,1,1,1,3,3,0,1,1,0,0,3,0,2,2,3,3,1,1,2,0,2,0,3,1,0,2,0,2,0,2,2,1,0,3,0,0,0,0,0,2,0,3,1,2,0,3,1,3,0,1,0,0,0,0,3,3,0,1,2,0,0,3,0,2,1,0,2,3,0,3,1,3,0,0,1,0,0,2,2,2,3,3,0,2,2,1,0,1,0,1,2,1,0,0,0,3,3,2,1,0,0,3,3,3,2,3,3,3,3,0,1,3,0,2,3,0,0,0,1,1,3,0,2,0,3,3,0,0,0,3,3,2,0,3,3,1,0,0,3,0,0,1,0,3,3,1,3,1,0,0,1,0,2,0,3,3,3,0,0,0,3,0,2,3,0,3,3,3,1,2,0,3,1,2,3,1,2,2,3,3,3,3,0,0,3,1,2,0,0,3,1,2,2,0,1,2,1,3,0,3,0,2,2,3,2,0,0,3,3,0,1,2,0,1,0,3,3,3,2,3,1,0,3,3,0,1,3,0,1,2,0,0,3,3,1,3,1,2,1,2,2,3,2,2,0,3,1,3,0,3,0,3,0,3,2,0,0,3,2,0,3,1,2,3,3,2,0,2,0,3,2,3,2,1,0,2,0,0,2,2,0,1,3,1,0,2,0,0,2,0,0,0,1,0,0,0,3,2,2,3,0,0,3,2,2,3,2,1,0,2,2,3,3,0,1,1,0,2,3,0,0,2,0,0,0,1,0,0,1,2,0,0,2,2,0,0,1,3,2,2,0,3,1,3,1,1,0,1,2,3,3,3,0,1,3,3,3,3,1,0,0,3,0,0,0,3,0,1,0,2,3,2,2,2,3,2,2,1,2,2,3,0,0,3,3,3,3,3,3,1,0,1,0,0,2,0,0,3,2,2,2,3,3,0,0,3,3,3,2,0,2,0,2,1,2,2,3,3,3,3,0,1,3,3,1,0,0,1,1,0,0,1,0,0,2,0,3,3,2,3,1,2,1,0,0,3,1,3,2,0,3,0,0,0,0,0,1,0,1,0,0,2,1,2,1,0,2,1,2,2,0,3,3,3,2,0,3,0,0,2,1,1,1,0,0,2,2,3,3,1,1,3,0,2,0,0,0,3,2,0,0,0,0,0,0,1,0,3,0,3,2,0,0,0,0,2,0,1,1,3,2,2,0,0,3,0,1,0,1,3,0,2,0,0,2,0,2,0,0,3,3,2,3,2,2,3,0,0,3,2,3,0,0,0,3,2,0,0,1,0,3,0,3,0,2,0,0,2,2,0,3,2,3,3,1,3,2,0,2,0,2,1,3,3,2,0,1,1,3,0,3,0,3,2,2,1,0,0,2,3,3,1,1,2,0,2,2,2,3,2,2,3,0,0,2,2,0,0,0,3,0,1,2,0,2,3,2,3,3,2,2,1,3,0,2,3,2,1,0,1,0,3,2,2,3,1,0,2,0,0,1,0,0,1,3,0,3,2,3,2,0,0,0,0,2,2,2,0,3,2,0,0,2,2,0,0,0,2,3,0,2,1,2,0,2,2,3,0,2,2,1,2,3,3,2,0,3,2,3,2,1,3,1,3,3,0,1,3,0,3,2,1,0,1,2,3,0,3,2,0,1,3,3,1,1,1,0,0,3,0,0,0,3,0,0,1,3,3,0,2,0,3,2,2,0,3,2,0,3,1,2,0,3,3,0,1,0,0,0,0,0,1,2,3,3,2,2,0,0,2,0,3,3,3,1,2,2,3,2,1,2,3,1,3,3,2,1,0,0,1,0,0,3,0,0,1,3,3,2,3,0,0,0,0,0,0,3,0,1,0,3,3,3,0,0,3,1,2,0,0,0,0,2,2,1,0,2,0,0,3,1,2,2,0,0,0,0,2,1,3,3,0,0,2,0,2,2,1,3,3,1,3,2,1,3,3,3,3,0,1,3,3,0,3,0,0,2,3,2,0,0,0,0,3,3,2,1,3,1,3,0,0,0,3,2,3,2,0,3,2,0,2,3,0,1,0,0,3,0,0,2,3,0,0,2,0,3,3,0,1,1,2,0,0,0,2,0,3,3,0,3,2,1,1,0,3,3,2,2,1,3,0,2,3,2,3,1,0,1,3,1,2,0,0,2,3,1,0,3,3,0,1,1,2,1,3,2,0,2,1,2,0,3,1,3,3,0,2,1,0,0,0,3,1,0,1,3,1,1,3,0,3,1,0,3,0,0,0,0,3,0,3,3,1,2,3,1,1,0,3,3,2,0,0,0,1,0,3,2,0,1,2,2,3,0,1,0,1,3,3,0,0,3,2,0,0,2,0,3,0,3,0,1,1,3,0,2,0,0,3,1,3,3,0,0,0,3,2,1,2,3,2,1,2,3,3,0,2,3,1,2,0,0,0,0,0,2,3,1,2,2,2,2,2,1,3,3,3,0,2,0,0,2,0,2,0,2,3,2,1,1,0,0,1,0,0,0,2,3,3,0,3,3,1,2,0,3,3,2,3,2,2,2,0,2,0,3,0,3,3,3,3,2,2,2,3,0,2,3,1,0,3,0,3,1,3,3,1,0,0,1,3,0,2,3,1,0,0,2,2,2,0,3,2,2,0,3,0,3,0,3,0,0,3,3,1,0,3,0,0,2,2,2,2,3,3,3,3,3,2,1,3,0,0,1,1,0,0,0,3,2,0,0,2,1,1,0,0,0,0,2,3,3,1,3,1,3,2,1,0,0,3,2,3,1,2,0,0,0,0,0,2,0,3,2,0,0,1,2,3,2,0,2,0,1,2,0,0,0,0,0,3,1,0,3,2,1,0,3,3,1,0,0,3,3,0,3,3,2,0,2,1,1,0,2,0,0,3,0,3,0,2,0,1,3,1,3,0,0,1,0,2,2,2,0,3,0,1,0,1,3,3,1,0,3,0,0,3,2,2,0,2,0,0,2,3,3,2,0,2,0,0,2,2,1,0,0,2,0,3,3,3,1,0,0,0,1,0,1,3,0,2,2,0,0,2,0,0,2,0,1,0,3,1,0,1,0,3,0,3,2,0,0,0,3,2,2,0,0,3,3,0,3,3,2,3,2,1,2,3,1,1,0,0,1,0,0,2,1,2,3,0,3,0,3,0,0,1,3,2,0,3,3,2,1,3,2,3,3,0,1,2,2,3,3,2,2,0,0,3,3,3,0,0,1,0,3,3,0,1,2,0,3,0,2,2,2,2,0,0,0,2,3,0,3,0,2,2,1,1,2,1,1,1,0,3,0,2,2,0,2,2,0,3,2,0,2,0,0,0,2,3,0,0,1,0,0,0,2,0,0,1,0,0,2,3,0,0,3,2,3,0,0,0,0,1,3,3,2,2,0,2,3,0,2,2,0,0,2,0,1,0,3,3,2,0,0,2,2,3,0,2,3,0,2,0,0,2,3,1,0,3,0,3,3,1,2,0,0,2,0,2,2,3,0,0,3,0,3,0,0,0,0,3,0,3,1,0,0,0,2,2,0,0,2,3,0,0,0,2,3,3,0,3,1,0,3,1,2,0,0,0,3,2,3,2,0,0,1,0,2,3,2,2,0,0,0,3,2,3,3,3,3,2,0,0,0,0,0,0,3,0,3,2,1,0,0,3,0,3,3,3,1,0,1,0,3,3,2,0,0,3,0,3,0,0,2,3,2,0,1,0,0,1,3,0,3,1,3,0,2,0,1,3,3,2,0,0,0,2,0,3,0,0,2,1,3,0,0,1,0,2,0,3,2,1,0,2,2,0,0,0,0,1,0,3,3,0,2,3,2,0,3,1,3,3,3,1,3,1,3,2,3,2,0,3,2,0,0,0,3,1,0,0,2,0,0,2,2,0,3,2,0,3,3,0,3,1,3,0,0,3,0,2,2,2,1,3,0,2,1,3,3,0,0,0,3,3,3,0,0,1,3,3,1,3,2,2,1,3,3,1,3,2,3,0,0,3,3,2,3,0,2,0,0,0,0,2,2,2,0,3,2,3,0,0,0,3,1,0,3,0,0,1,0,3,2,1,0,0,2,1,3,0,0,0,2,3,0,2,3,3,0,0,3,2,0,3,0,3,0,0,3,3,1,3,3,2,2,0,2,2,1,0,1,0,3,1,3,3,0,3,0,0,0,3,0,2,0,0,3,0,0,1,2,1,3,0,0,1,0,3,3,0,1,0,1,0,0,1,0,2,3,0,0,0,3,1,1,0,0,0,0,1,2,3,3,0,1,3,2,0,2,3,1,2,1,3,0,0,2,0,2,0,3,3,0,2,3,0,0,0,3,1,3,0,0,3,2,0,1,2,0,2,2,2,3,3,1,3,3,3,1,3,0,0,0,1,2,2,3,2,3,3,2,0,3,0,0,1,1,1,2,0,3,3,0,1,3,0,3,3,2,3,3,1,3,2,2,0,1,3,3,3,1,2,2,0,0,3,3,3,3,0,0,1,0,2,2,1,3,0,3,0,3,3,0,3,2,3,0,0,0,2,2,0,3,0,2,0,1,2,3,0,2,0,3,3,2,1,2,2,0,0,0,0,0,0,2,0,1,2,3,3,3,1,1,1,3,0,0,1,3,0,2,0,0,3,0,3,0,1,3,0,3,0,3,0,0,3,3,3,0,3,3,0,2,2,0,2,2,3,3,0,2,3,0,3,0,0,2,3,1,0,3,0,1,1,0,0,0,0,0,0,0,3,0,3,3,3,2,1,0,0,3,1,0,0,0,2,3,3,0,2,0,1,0,3,2,1,0,0,1,1,3,1,2,2,3,0,0,3,0,3,1,0,0,0,3,2,2,0,0,2,1,3,2,2,3,0,1,3,3,2,3,0,0,0,1,2,0,0,3,2,0,3,0,2,0,2,3,3,2,2,2,3,0,2,2,0,2,3,3,3,2,0,1,2,2,0,3,3,2,2,0,0,0,3,2,0,0,3,2,3,2,0,2,0,3,3,3,3,2,1,3,0,3,3,3,2,2,2,0,2,1,2,2,2,2,0,2,3,1,0,0,3,0,0,2,3,0,1,0,1,2,2,0,2,2,3,0,0,0,3,1,2,3,0,2,2,3,3,2,3,0,3,2,3,2,3,0,2,3,0,0,0,1,0,1,0,0,1,1,1,3,2,0,3,0,0,0,0,0,1,3,0,2,2,3,0,2,1,0,0,2,1,3,0,3,3,1,0,0,1,3,1,3,0,3,0,1,0,3,0,1,0,2,2,3,0,0,2,1,0,1,0,1,3,2,1,0,0,1,0,0,0,1,1,2,3,0,2,2,2,0,3,3,0,0,0,3,2,3,0,2,0,0,3,3,0,2,0,1,0,0,0,0,3,1,3,3,3,2,3,0,2,0,3,2,2,3,2,0,2,2,3,0,2,2,0,0,2,3,1,1,3,3,2,0,0,2,3,0,0,3,3,0,1,0,0,3,0,1,2,3,2,3,0,0,1,2,0,1,0,3,2,2,1,3,0,3,3,0,1,0,3,1,0,3,1,2,2,2,2,3,1,2,3,0,1,0,1,3,0,0,0,0,0,3,3,0,2,3,1,0,0,3,2,0,0,1,2,3,3,0,2,0,3,3,1,3,1,1,0,0,0,2,0,0,1,1,1,0,3,3,0,2,0,0,0,3,0,3,3,0,3,3,3,0,0,3,0,1,2,0,0,1,2,0,0,0,3,1,0,2,0,0,3,3,2,0,0,0,1,0,0,1,2,2,0,0,2,1,1,2,0,2,0,3,3,3,3,2,3,2,3,3,2,2,1,3,1,0,3,2,3,1,3,2,2,0,3,1,1,3,0,0,1,3,1,2,2,1,0,1,1,2,0,1,3,0,2,2,3,3,3,3,0,0,0,2,1,0,3,0,0,1,0,2,0,3,2,0,0,3,3,3,3,3,0,3,1,3,3,3,2,0,0,0,3,3,0,2,3,3,2,2,3,3,0,3,3,0,0,2,1,2,2,0,0,2,0,2,1,0,3,1,2,0,3,0,0,3,0,0,3,3,2,2,2,2,0,3,0,2,3,0,3,3,3,1,2,0,0,0,1,0,0,2,1,0,3,0,2,3,1,0,2,2,2,3,2,3,2,1,3,0,3,0,0,0,3,3,0,3,1,0,0,0,0,3,1,3,0,0,0,2,0,2,1,0,3,0,3,3,3,0,0,0,0,3,0,3,3,0,3,1,2,0,3,2,3,2,3,3,3,0,3,1,0,1,1,1,0,3,0,3,2,2,3,3,3,3,2,1,3,1,2,2,0,2,0,1,0,3,0,3,3,3,0,0,1,0,0,1,3,0,3,0,1,3,2,1,0,1,1,3,0,0,3,0,0,0,0,3,3,1,1,2,2,3,0,2,0,0,2,3,0,2,0,2,3,3,0,1,0,3,2,3,0,0,1,2,3,0,0,3,0,0,3,0,3,2,0,3,0,3,0,3,1,0,0,0,3,2,3,0,0,3,0,2,3,3,0,3,3,2,0,0,3,1,1,0,0,0,1,0,0,3,3,0,0,0,1,3,0,0,0,3,2,0,0,2,0,3,2,2,3,3,0,0,0,0,3,3,1,2,2,0,2,2,3,2,0,2,3,0,0,3,3,3,1,0,2,3,0,1,3,2,3,0,2,3,2,1,2,1,0,2,2,3,0,3,0,1,2,3,2,0,0,1,2,0,0,0,2,2,3,1,0,0,0,2,2,3,0,3,1,2,3,0,0,3,1,0,3,0,0,0,0,2,0,0,3,0,3,0,3,1,2,2,1,0,3,2,0,3,0,2,0,3,3,3,1,3,2,0,0,0,3,3,3,3,3,3,3,0,3,0,0,0,3,1,1,2,0,1,0,2,1,3,3,3,2,3,0,2,1,3,2,3,1,2,0,3,2,3,0,2,3,2,3,0,0,0,0,2,0,0,3,3,0,0,3,2,0,2,1,1,2,3,2,0,3,2,2,3,0,3,0,0,2,0,0,0,2,1,3,3,0,3,0,3,2,1,2,0,3,1,1,2,3,2,0,0,0,1,1,2,2,3,2,0,0,3,3,0,0,2,2,0,2,2,3,3,1,2,0,3,3,3,0,3,3,3,2,3,2,3,0,2,2,3,0,2,2,3,3,3,0,2,2,1,0,0,0,1,3,3,1,0,0,0,3,3,3,2,2,0,2,3,2,2,3,2,3,3,0,2,3,0,2,0,3,3,2,0,2,3,1,3,1,0,2,0,0,3,3,0,0,3,0,1,2,2,3,2,0,3,0,0,2,3,3,2,2,0,3,3,1,0,0,2,0,1,3,2,2,1,3,3,2,3,3,1,2,1,0,0,3,0,0,0,3,2,2,3,2,0,3,0,3,2,1,1,3,0,0,1,1,2,2,0,2,0,0,3,0,2,0,0,0,1,0,1,2,0,0,3,2,0,0,3,0,0,0,1,0,2,3,3,0,3,2,2,0,0,2,0,2,2,0,0,0,2,1,3,0,0,0,3,3,0,1,0,0,0,0,1,0,3,0,3,0,2,3,3,0,3,0,2,0,3,2,0,1,0,0,2,2,1,3,2,2,2,3,0,0,0,2,0,3,3,2,0,3,1,3,2,0,3,3,1,1,3,2,0,3,2,1,0,0,0,2,0,3,0,2,0,3,0,2,1,2,2,3,2,0,1,1,0,0,1,2,2,2,2,2,0,1,2,1,0,0,1,3,2,3,0,3,3,3,3,2,1,3,3,0,1,0,0,2,2,0,2,0,0,2,3,0,0,2,1,3,0,3,0,0,0,3,1,3,3,3,1,0,1,3,3,1,0,1,0,3,2,3,3,0,2,1,0,1,0,2,3,2,0,0,3,2,2,3,3,1,0,1,2,0,1,1,0,1,3,0,0,1,3,3,0,3,1,3,3,1,2,0,2,3,3,3,1,1,3,0,3,0,0,0,3,2,2,0,0,0,0,2,3,2,2,3,3,1,2,2,0,3,3,0,2,3,3,1,2,3,3,3,1,3,3,1,1,0,3,3,0,0,3,2,0,3,2,0,2,1,3,0,1,1,0,3,1,0,0,3,3,0,0,0,3,2,1,0,3,1,3,1,2,1,2,3,3,0,0,2,3,0,2,1,3,0,3,3,2,2,3,2,0,1,3,0,0,2,2,2,1,0,0,0,1,3,3,0,0,2,0,2,3,3,1,3,2,2,2,0,0,0,0,0,1,0,2,3,0,1,2,3,1,0,3,0,0,0,3,0,1,0,0,0,1,0,2,3,0,3,3,2,0,1,2,0,0,0,3,3,0,3,0,0,3,3,2,0,0,2,0,2,0,0,1,3,3,1,3,3,3,2,1,0,0,2,3,0,3,0,2,1,0,2,3,1,1,0,0,3,0,0,0,0,3,0,0,2,2,2,0,0,3,3,2,0,1,2,3,3,0,3,0,2,3,0,3,3,3,1,0,1,0,3,1,0,0,0,0,0,2,3,0,2,2,3,1,0,3,0,3,1,0,1,3,1,0,1,0,0,1,3,3,2,3,3,0,2,0,3,3,1,3,0,0,0,2,2,1,0,2,3,2,3,3,3,3,2,0,3,3,3,2,0,2,0,0,2,1,2,3,1,0,3,0,3,3,3,2,3,3,3,3,3,0,0,2,2,0,0,1,1,2,2,0,0,0,1,0,2,0,0,1,0,3,3,3,2,2,2,0,3,2,0,2,3,1,2,3,3,3,2,2,0,1,2,0,0,0,2,0,3,2,0,3,2,3,0,2,3,2,2,2,0,0,0,0,0,0,0,3,1,3,2,3,3,3,2,3,2,0,2,0,2,3,0,2,0,0,2,1,1,2,2,2,0,0,3,0,0,0,2,0,1,0,2,1,0,3,2,0,2,0,3,0,0,2,1,0,3,3,2,2,2,2,0,0,2,0,2,2,3,0,0,0,2,2,2,3,0,0,0,0,0,3,1,3,1,0,1,0,2,0,0,3,3,3,2,2,0,0,2,1,0,2,3,1,1,0,3,3,0,0,2,3,2,2,0,0,2,3,0,0,2,3,0,1,2,3,3,1,3,1,2,1,3,0,0,3,0,2,1,0,0,1,3,1,2,0,3,0,1,2,3,2,2,0,0,1,2,2,3,2,2,0,2,0,0,3,3,0,2,2,0,0,3,0,3,3,0,0,3,0,3,0,3,0,0,3,3,2,3,2,0,3,3,3,3,3,3,2,3,1,3,0,0,2,3,0,1,0,2,2,0,1,3,0,3,1,3,1,0,2,0,2,0,3,0,0,2,3,3,1,0,0,3,0,3,2,1,0,0,3,3,1,3,3,0,0,2,3,3,1,0,2,0,2,2,1,0,3,3,1,2,0,0,0,0,2,3,3,2,0,0,3,0,1,3,0,3,1,1,0,0,1,1,3,2,0,2,2,1,1,2,1,0,0,0,3,0,2,3,3,1,3,3,2,3,3,0,0,0,3,0,0,0,0,0,2,2,2,0,0,3,3,1,2,1,0,0,0,0,0,0,3,3,3,0,0,0,2,3,3,1,1,3,0,3,1,1,2,2,3,2,0,3,0,3,3,0,0,0,3,0,2,0,2,2,0,0,1,0,3,2,3,3,0,2,3,0,3,2,0,0,0,2,0,2,0,3,0,3,3,0,0,0,2,1,1,2,2,0,3,3,3,3,0,1,0,3,2,3,3,0,2,2,2,3,0,2,1,0,2,2,2,0,1,0,3,1,0,3,3,0,0,0,0,3,3,2,3,3,0,3,0,0,2,0,3,2,3,0,0,1,3,0,1,0,0,0,0,0,2,0,2,1,0,2,0,3,3,3,0,0,1,3,3,1,3,1,1,3,2,2,0,2,3,0,3,0,0,3,0,3,3,3,0,2,3,2,1,3,3,3,3,2,0,1,2,3,2,2,2,3,3,2,1,0,0,0,3,0,0,0,2,3,0,0,0,0,2,3,0,3,0,0,0,3,3,0,0,2,0,2,0,3,0,3,2,0,3,3,0,2,0,2,0,3,3,3,1,0,2,0,3,0,2,0,1,2,0,2,1,1,0,1,0,1,2,0,1,3,2,2,0,1,1,0,0,1,0,3,2,0,0,3,0,0,0,1,2,0,2,2,0,0,2,0,2,3,0,0,3,3,1,0,3,3,1,3,3,0,1,3,1,0,0,3,0,0,1,3,2,3,0,0,0,1,1,2,0,1,3,3,1,2,0,2,0,3,0,0,2,0,0,2,0,3,0,2,2,2,3,1,3,3,2,2,0,2,3,3,3,0,0,3,0,2,0,0,3,2,1,1,3,0,3,0,1,2,0,3,1,2,0,3,3,3,3,3,0,2,3,2,2,3,0,2,0,3,3,3,3,1,0,2,3,2,0,3,1,3,0,2,0,0,3,0,0,0,2,0,2,0,1,0,1,3,2,3,1,0,1,3,3,1,3,3,3,1,2,2,0,0,0,0,3,0,0,2,0,2,3,2,0,3,1,2,3,3,0,2,2,0,0,1,1,3,1,1,3,2,0,0,0,0,1,2,3,3,3,3,0,0,0,3,1,0,0,0,0,0,0,3,3,0,2,1,0,0,1,2,0,3,1,2,1,3,3,0,0,1,0,1,0,0,2,2,3,0,3,0,0,3,1,3,3,0,3,3,0,0,2,1,0,0,0,0,0,2,3,0,0,3,3,1,0,3,0,2,1,1,3,0,3,0,3,0,2,0,3,0,1,3,2,2,3,3,2,1,3,3,0,1,3,2,0,2,3,3,1,3,2,0,0,2,0,2,1,2,0,0,0,1,1,2,0,1,0,3,2,0,1,0,0,3,0,0,3,1,1,3,1,1,0,1,1,1,2,2,0,1,3,0,0,1,1,0,1,1,0,2,0,3,3,2,0,3,0,1,2,1,1,3,3,0,3,3,3,1,0,3,3,0,0,0,1,0,0,3,2,0,3,0,3,3,3,3,2,1,3,1,0,1,0,2,0,0,0,0,0,0,0,2,0,1,0,2,2,1,2,2,1,0,1,3,3,1,3,0,0,3,3,0,3,3,1,2,3,3,2,2,3,3,3,1,1,3,0,0,1,2,0,0,0,2,0,3,1,0,1,0,0,2,2,2,0,3,3,0,2,3,0,3,2,0,0,3,1,0,2,0,2,0,2,2,1,1,1,2,0,0,3,2,0,3,3,0,3,1,0,0,0,0,0,0,0,3,0,1,0,0,3,2,1,2,0,0,2,2,2,0,1,3,2,0,3,0,3,0,0,1,2,3,3,0,1,3,3,3,0,2,0,3,3,3,1,2,3,0,0,1,1,3,2,2,3,2,2,3,1,0,3,3,1,1,3,0,1,3,0,3,0,0,2,3,0,1,1,1,2,3,2,2,0,1,0,2,1,3,0,2,0,3,3,0,0,0,0,0,0,0,0,0,0,0,0,0,1,0,2,0,0,3,3,3,3,0,0,0,0,1,3,3,0,1,1,2,0,3,0,2,0,3,3,2,0,0,3,0,0,0,0,2,2,2,2,2,3,3,0,0,0,0,0,2,0,0,2,0,3,0,3,0,0,0,3,3,3,2,2,3,0,0,0,0,1,0,1,1,3,0,2,0,0,3,0,1,0,3,2,0,3,0,3,0,2,1,0,0,0,0,1,2,3,3,3,2,0,0,2,0,3,2,0,0,2,2,2,0,2,2,0,0,1,2,3,1,0,1,0,3,1,0,0,0,0,3,0,2,2,0,0,1,1,2,3,1,0,0,0,2,0,2,0,0,3,3,0,2,0,1,3,0,2,2,2,1,1,3,0,0,0,3,2,1,3,2,3,2,0,3,1,3,0,3,0,3,0,0,3,0,0,2,1,2,1,2,0,2,0,2,0,3,0,0,1,0,1,2,0,0,3,2,1,0,3,2,2,0,3,3,2,1,3,1,2,3,1,1,0,3,0,0,0,2,2,0,1,0,3,3,2,0,3,3,0,0,1,2,3,1,2,3,0,0,0,2,1,0,0,0,0,3,1,0,2,2,2,0,1,3,3,3,3,0,3,1,0,3,3,0,2,0,0,1,3,2,0,3,0,2,3,2,1,0,3,2,2,3,0,3,2,0,3,3,2,0,3,1,3,1,0,3,0,1,0,0,0,0,1,0,0,0,2,2,3,0,2,3,1,0,3,2,3,2,3,1,1,2,2,0,0,2,3,0,0,1,0,0,2,0,2,3,2,2,0,2,1,0,2,0,1,0,0,1,2,1,0,3,0,0,2,2,3,3,0,0,1,0,0,2,3,2,3,3,2,3,2,0,2,3,2,0,0,2,0,2,2,0,0,2,3,1,2,3,2,1,1,0,3,3,0,2,0,1,1,3,0,2,2,1,2,2,3,3,0,3,2,1,2,0,3,0,1,0,0,0,0,0,1,2,2,2,1,1,2,3,3,1,3,2,0,0,0,2,2,3,0,3,0,0,0,2,3,3,3,0,1,0,0,3,0,0,0,0,0,0,0,0,0,0,2,0,0,3,0,3,0,2,2,3,0,1,2,0,0,3,3,2,2,0,0,2,3,1,3,0,0,3,1,3,2,1,3,0,3,0,0,1,3,2,0,3,3,0,1,2,0,3,3,2,0,0,1,1,2,3,2,0,2,3,0,2,3,2,2,1,3,1,0,3,0,0,3,0,3,0,0,0,1,0,3,0,0,1,3,3,0,3,3,0,1,0,0,2,1,1,0,0,1,3,0,0,0,0,0,3,0,0,2,1,1,2,0,3,2,0,3,3,0,2,0,2,0,0,0,0,0,0,3,3,1,1,1,0,2,2,2,0,0,1,0,3,0,2,0,0,0,3,3,1,0,2,1,0,0,3,1,2,3,0,0,0,2,1,3,0,3,0,0,2,2,2,3,3,1,3,3,2,1,3,0,0,3,0,0,0,3,2,0,0,3,3,3,3,0,3,3,0,0,3,0,3,1,0,2,2,3,1,0,0,3,3,1,3,0,3,2,0,3,1,0,2,0,1,0,2,0,2,0,3,3,3,2,0,0,3,3,3,0,3,0,2,1,3,3,0,0,3,0,2,1,0,1,2,3,0,2,2,2,0,2,0,2,3,0,0,0,3,3,1,1,0,2,0,3,2,1,0,3,0,0,0,0,0,3,0,0,3,0,0,1,2,0,3,3,2,0,2,0,0,3,2,1,3,3,0,0,3,3,2,0,0,3,2,0,0,3,3,3,3,0,3,1,3,3,3,1,2,0,0,0,2,3,1,1,3,0,0,0,0,3,3,3,0,0,3,2,3,0,1,0,3,2,0,2,2,3,2,0,3,1,0,2,2,3,3,0,2,3,1,2,0,3,0,0,3,1,0,0,3,3,0,3,2,3,3,3,3,0,2,0,3,3,0,0,0,0,3,2,1,3,3,0,3,0,1,1,0,0,3,3,0,0,3,0,0,0,3,0,1,1,1,0,0,3,1,3,0,0,1,0,3,0,3,0,2,1,1,0,3,3,1,0,0,1,1,0,3,0,0,0,2,0,1,2,2,2,3,0,0,1,2,0,1,0,3,0,1,3,2,1,3,3,0,2,2,2,0,2,0,2,0,2,3,0,3,2,3,0,3,0,0,0,3,2,0,1,1,3,2,1,3,0,0,2,2,0,0,1,1,2,2,2,2,3,2,2,3,3,1,3,0,1,1,1,1,3,2,0,3,2,1,1,0,1,3,1,2,0,1,3,0,1,0,2,0,3,3,2,2,0,2,0,0,0,1,1,0,0,0,0,0,1,3,3,2,0,1,0,1,2,3,0,1,3,0,0,1,0,0,0,3,0,2,3,1,3,1,3,0,3,2,0,0,3,2,2,2,3,3,2,3,2,3,0,0,1,3,1,2,2,3,2,0,0,3,1,3,3,0,0,3,0,2,1,3,3,3,2,1,2,3,3,2,0,2,0,1,0,2,0,0,3,2,0,0,1,3,3,0,2,0,3,0,0,2,1,0,3,1,0,3,3,3,0,0,0,0,1,2,0,3,0,0,1,3,0,2,1,2,0,0,3,1,3,0,1,2,0,2,1,2,0,1,1,3,0,0,2,2,0,3,0,2,0,2,2,0,2,1,0,0,0,3,2,0,1,1,0,0,1,0,3,0,0,1,3,1,3,0,3,1,2,1,2,0,3,2,3,0,0,0,0,0,3,1,0,0,0,0,1,2,2,0,3,0,0,3,0,0,2,0,2,3,3,0,0,3,0,3,3,1,1,0,0,0,0,3,2,0,0,1,0,2,1,2,2,0,1,3,3,0,3,0,0,0,3,2,0,1,3,3,0,0,3,0,1,3,3,0,0,3,0,2,1,1,2,1,0,3,0,3,1,3,0,0,0,2,2,0,1,2,3,2,2,2,3,2,0,3,0,0,3,3,3,3,1,0,0,0,0,3,1,0,3,3,2,0,1,3,3,2,3,3,3,0,0,0,2,1,2,0,2,2,0,3,2,0,2,2,2,0,2,1,0,2,2,3,0,1,2,2,0,0,3,1,2,3,3,3,0,3,1,2,2,3,3,2,0,1,3,3,2,1,0,1,1,0,0,2,0,0,3,2,0,3,3,0,2,3,3,0,0,3,0,0,3,1,0,0,3,2,2,3,3,0,0,0,0,2,2,1,2,0,1,0,3,1,0,0,3,2,3,2,3,0,0,2,3,0,3,3,2,0,2,3,1,2,0,3,2,0,1,2,3,3,0,0,3,0,0,3,0,0,3,1,3,0,2,0,2,0,3,3,1,0,0,2,0,2,3,0,0,3,0,2,0,2,0,2,0,0,3,0,2,0,2,0,0,3,0,0,1,0,3,0,2,2,3,3,1,0,2,3,3,0,1,3,3,2,0,3,0,0,2,0,1,3,2,1,0,0,0,2,0,2,2,0,0,3,0,3,0,3,3,0,2,0,2,3,0,0,2,3,3,0,0,0,0,2,1,0,0,3,0,2,0,3,0,3,2,3,2,0,0,0,0,3,0,1,1,1,0,1,0,0,3,0,3,1,2,3,3,0,0,2,3,1,3,0,1,3,0,0,2,0,0,2,3,3,1,3,1,3,0,3,1,3,2,1,1,0,3,3,3,2,0,3,0,0,3,2,1,0,0,3,3,1,3,0,1,0,1,0,1,0,1,3,2,0,2,0,3,0,1,2,1,1,2,0,1,3,3,3,0,2,3,0,1,2,2,1,2,2,3,0,0,2,0,2,2,0,0,2,3,3,0,0,0,3,0,1,0,1,3,1,2,1,2,3,0,3,0,0,1,0,0,0,3,2,0,0,3,2,0,1,0,2,1,2,0,2,0,0,3,0,3,2,1,0,0,3,3,3,1,2,3,2,1,2,2,0,3,2,2,2,0,1,1,1,3,3,0,2,0,1,2,3,2,0,0,3,3,0,0,3,1,0,3,0,0,2,0,2,3,0,2,3,0,0,0,2,0,0,0,0,0,1,1,2,2,0,1,0,1,2,1,0,2,2,1,2,0,0,1,0,0,3,0,2,3,3,0,1,0,0,2,3,1,3,3,3,2,3,3,2,3,3,2,3,3,3,2,0,2,2,0,0,0,0,1,0,0,3,2,0,0,0,2,2,1,2,3,0,0,3,2,1,3,2,3,1,0,0,0,2,2,2,0,1,3,2,2,2,0,0,2,2,1,1,2,3,1,3,3,1,2,0,0,3,0,0,0,0,3,3,1,1,2,3,1,0,1,0,1,3,1,2,3,3,3,0,2,0,1,1,3,0,3,1,3,3,3,3,1,0,3,3,3,0,0,3,0,0,0,2,0,2,3,2,0,2,2,3,1,3,2,3,0,3,2,3],\"colorscale\":[[0.0,\"#440154\"],[0.1111111111111111,\"#482878\"],[0.2222222222222222,\"#3e4989\"],[0.3333333333333333,\"#31688e\"],[0.4444444444444444,\"#26828e\"],[0.5555555555555556,\"#1f9e89\"],[0.6666666666666666,\"#35b779\"],[0.7777777777777778,\"#6ece58\"],[0.8888888888888888,\"#b5de2b\"],[1.0,\"#fde725\"]],\"showscale\":true},\"mode\":\"markers\",\"x\":[1,0,1,1,3,2,2,2,3,3,0,1,3,0,0,3,0,2,1,3,2,1,0,0,0,3,3,3,2,1,2,1,3,0,2,0,2,3,0,0,2,0,3,0,0,2,3,2,3,1,0,3,0,1,0,2,0,2,3,0,3,0,2,3,0,2,1,3,0,3,2,2,2,2,2,3,0,0,3,1,1,1,0,2,0,0,1,0,0,0,2,3,0,3,0,0,0,2,0,0,2,1,0,3,3,2,1,2,1,0,1,1,1,0,3,3,3,2,2,3,0,0,3,1,0,1,3,2,2,3,2,0,2,0,3,0,0,0,3,0,0,2,1,1,1,2,0,2,0,1,3,1,2,0,3,3,3,3,0,0,0,0,2,1,0,0,3,2,0,0,0,3,0,3,2,0,3,1,2,2,3,0,0,2,0,0,0,3,3,0,2,1,3,3,3,0,1,2,0,1,1,1,1,0,0,0,0,0,2,2,3,3,3,0,2,3,1,0,2,0,1,3,3,0,2,0,3,0,3,0,1,0,0,3,3,1,0,2,1,0,3,0,3,0,1,0,1,0,2,2,1,0,3,0,0,2,0,1,3,3,2,3,3,0,3,0,1,2,2,3,0,2,2,3,1,1,2,2,3,3,3,0,0,3,3,2,3,2,0,0,1,0,3,2,3,0,0,1,0,0,3,3,0,0,3,0,0,0,2,3,0,0,3,1,1,2,3,1,3,0,1,3,0,0,0,3,3,0,0,0,3,3,1,0,2,3,3,0,3,3,3,1,0,0,0,0,3,0,0,3,0,2,0,0,2,0,2,3,2,0,3,0,0,3,2,0,0,2,3,1,0,0,3,2,0,1,0,3,1,0,0,2,3,0,1,3,0,0,3,0,3,3,2,3,0,0,0,1,3,0,0,0,3,0,2,2,3,0,3,2,2,1,1,3,0,3,3,2,0,3,0,3,3,3,0,2,3,2,3,2,0,0,0,3,3,0,3,1,0,3,3,0,0,0,2,2,3,1,2,0,0,3,0,3,0,0,3,1,0,3,3,1,2,0,0,1,2,0,0,3,3,3,3,0,0,3,0,1,2,0,0,3,0,1,0,2,0,2,0,3,2,3,2,2,0,0,0,2,3,1,2,3,0,0,1,2,2,1,0,3,2,0,2,0,1,2,0,3,1,2,3,3,1,3,3,3,0,0,0,3,1,3,3,0,3,3,3,2,0,2,0,3,2,0,0,0,3,0,3,1,0,0,1,3,0,1,3,1,2,1,0,0,3,3,1,0,0,0,3,0,2,1,0,3,1,3,2,0,2,1,3,3,0,0,0,0,0,2,2,3,0,1,0,1,0,2,2,0,2,1,0,3,2,2,0,0,2,0,0,1,2,3,0,3,2,0,0,0,3,2,0,0,3,3,3,3,3,3,0,2,0,0,3,1,0,2,0,0,2,2,2,0,2,3,0,1,2,3,3,2,0,3,3,3,2,3,0,3,0,1,2,0,3,1,2,3,2,3,0,2,1,3,0,3,0,1,2,2,3,0,0,2,2,0,0,2,1,0,2,3,2,0,0,3,1,3,0,0,1,2,1,2,0,0,0,3,0,0,0,0,1,2,0,1,0,3,0,3,3,0,3,0,2,2,3,3,0,3,2,0,1,2,2,2,2,2,3,3,0,1,1,3,3,1,3,3,3,0,0,3,3,2,3,0,2,1,1,3,2,0,3,0,2,0,3,2,2,3,0,1,0,3,2,0,2,3,2,2,3,0,0,3,0,3,1,1,3,0,1,0,2,0,1,2,3,3,0,3,0,3,2,0,3,2,0,1,3,2,3,0,3,3,1,2,0,3,0,1,2,0,1,1,0,2,0,2,2,3,3,3,3,3,0,0,3,3,3,2,3,1,3,3,2,3,3,0,0,2,3,3,2,2,0,3,0,2,1,2,2,0,0,2,0,2,3,3,0,3,0,3,3,3,0,1,3,0,3,0,0,1,2,1,3,0,2,0,0,2,3,3,3,2,2,0,0,2,0,0,0,0,0,1,3,0,0,2,0,3,0,3,0,1,1,0,0,0,3,3,0,3,0,3,2,3,2,0,3,2,0,1,2,1,3,3,2,1,3,3,0,0,0,0,0,3,1,2,3,3,3,0,0,2,0,3,0,0,3,3,0,2,3,1,0,0,3,0,0,3,3,2,3,0,3,0,2,2,1,0,2,1,2,0,2,3,1,3,1,0,2,3,3,0,2,0,0,2,3,2,0,0,3,3,3,0,3,0,3,3,2,2,1,2,0,0,0,1,0,3,0,3,3,0,1,0,1,2,1,0,2,3,3,3,0,0,1,0,0,2,1,2,3,0,2,0,2,0,3,0,2,0,2,2,3,1,2,2,0,0,1,2,0,3,2,0,2,0,2,1,1,0,3,3,3,0,0,2,2,2,3,1,3,0,0,3,1,0,0,0,0,3,3,2,3,3,3,0,0,2,0,0,1,1,2,0,3,2,0,2,0,3,0,3,3,1,0,3,2,0,0,0,1,2,0,1,0,1,1,3,0,3,3,2,3,2,0,2,0,2,3,3,0,0,0,0,0,3,2,3,2,3,2,0,2,3,1,3,2,2,3,1,2,2,2,2,1,3,1,0,2,0,0,0,0,2,0,2,3,1,3,3,0,0,3,0,3,1,0,0,2,1,0,3,3,1,0,0,1,0,2,2,0,1,2,0,3,1,0,0,2,0,3,0,2,2,0,0,0,3,0,0,0,3,0,2,3,3,3,2,3,2,3,0,3,0,0,0,0,3,3,3,0,0,3,3,0,2,0,3,3,3,0,0,3,0,1,2,2,2,3,2,3,0,2,3,1,3,0,0,0,3,0,3,3,0,0,2,3,3,0,2,2,2,0,2,0,0,0,3,3,3,0,2,3,2,1,0,1,1,0,1,1,1,0,3,3,3,0,2,2,1,3,2,1,3,3,3,3,3,2,2,0,2,2,2,3,0,2,3,0,1,0,3,2,2,2,0,1,0,3,3,3,3,3,3,0,0,3,3,0,3,0,3,2,0,1,0,3,3,2,1,0,3,3,3,0,0,0,1,0,0,2,0,2,0,0,1,2,1,2,2,0,0,0,2,0,3,1,2,1,2,2,2,0,3,1,1,2,0,0,3,0,3,2,3,3,3,2,0,3,1,0,2,0,0,2,0,3,3,0,0,2,2,0,0,2,0,2,3,2,3,3,0,0,2,3,3,3,1,2,0,3,0,2,1,3,0,3,0,3,0,2,0,0,3,0,0,3,0,3,1,1,2,0,0,2,0,0,0,3,0,3,2,3,0,0,3,0,2,3,2,0,0,1,3,0,0,3,1,3,0,3,0,2,2,0,0,2,2,1,3,0,0,3,0,0,2,2,1,1,3,3,0,0,3,1,0,2,2,0,3,1,3,3,2,0,0,3,1,3,0,3,0,0,0,2,3,0,2,3,2,2,2,0,3,0,2,0,2,3,0,3,2,1,0,2,3,0,2,3,3,3,3,1,3,0,3,3,0,1,3,3,0,0,1,2,3,3,2,0,2,0,1,3,2,0,0,0,0,0,0,3,1,2,3,0,3,0,3,1,1,0,3,0,0,0,0,0,0,3,2,1,1,2,0,3,0,3,0,0,1,3,2,0,0,3,3,0,0,2,2,0,0,0,3,3,3,3,2,0,2,3,0,2,0,3,0,0,0,3,0,1,3,0,3,0,0,0,3,0,0,1,3,2,2,3,2,1,2,0,0,2,2,3,3,3,2,1,3,3,0,0,2,3,0,0,0,3,3,0,2,1,2,0,1,0,1,2,0,3,1,0,2,3,0,0,0,0,0,3,3,2,0,2,0,0,3,2,1,3,3,2,2,3,0,1,3,2,2,3,2,0,1,0,0,3,3,1,2,0,0,2,3,0,3,2,0,0,1,1,3,3,0,1,0,3,3,2,3,1,2,2,2,0,2,0,2,0,3,1,3,2,0,0,0,0,2,1,3,0,2,0,1,3,0,0,0,0,2,3,2,3,3,0,1,2,0,2,2,1,2,0,1,2,0,2,1,3,1,0,3,0,3,0,1,2,0,1,2,0,0,2,0,2,2,0,2,0,1,1,0,3,0,1,0,1,3,2,1,0,3,3,3,0,1,0,0,1,0,2,0,0,2,3,0,0,0,0,0,2,0,3,3,0,1,0,3,2,2,2,0,2,2,3,0,2,0,0,1,1,2,0,2,3,0,0,0,0,2,0,1,0,1,0,2,3,1,0,2,2,0,3,3,3,3,1,3,3,0,2,0,3,2,3,0,2,3,3,3,1,0,2,2,2,2,1,0,3,3,1,3,0,3,0,0,2,2,0,0,3,0,3,3,0,1,0,0,0,1,3,0,1,2,3,0,0,3,0,1,1,3,2,0,3,0,0,0,3,0,3,1,2,0,2,0,3,1,3,2,2,0,2,2,3,3,2,0,0,0,3,3,3,3,2,0,0,0,3,3,3,0,0,0,0,2,1,0,3,3,0,0,3,0,2,3,2,0,3,0,0,0,0,3,0,0,3,3,0,3,3,3,3,3,2,0,2,0,3,0,3,3,0,2,0,1,0,3,0,0,0,3,2,0,2,1,0,2,3,3,1,1,3,0,0,1,3,0,2,0,3,1,2,1,2,2,1,3,3,0,2,2,3,3,2,3,2,1,0,3,2,3,1,2,3,1,2,2,1,0,0,2,1,0,1,3,0,3,2,1,3,1,0,1,0,0,0,0,1,3,3,0,0,0,3,3,2,3,0,3,0,3,2,2,3,0,0,2,0,0,2,0,3,0,0,2,3,3,0,3,3,0,0,2,0,1,1,2,3,0,2,3,3,0,3,2,0,3,0,0,0,1,1,3,0,3,0,0,0,0,3,1,3,3,0,1,1,3,3,0,2,3,2,2,0,1,0,0,2,0,3,0,0,1,1,3,0,1,2,1,2,0,0,0,3,0,1,2,3,0,3,0,0,2,0,1,2,2,0,2,0,3,0,2,0,2,2,0,0,0,3,3,0,0,0,0,2,3,0,3,0,0,0,3,3,0,2,0,2,2,3,3,0,2,2,0,0,0,0,0,2,3,3,3,0,3,3,3,3,2,3,0,0,0,3,3,3,0,1,0,0,2,0,2,2,0,0,0,0,3,3,0,3,1,3,1,2,0,1,0,3,0,3,1,0,1,1,2,2,3,2,1,3,0,2,1,0,0,1,0,0,3,2,3,0,0,0,0,0,3,1,3,2,2,3,1,1,2,0,0,3,3,0,0,3,3,3,0,1,0,0,2,1,0,1,3,0,3,3,0,3,0,0,1,0,0,0,2,3,0,0,3,1,0,3,0,0,1,1,1,2,0,2,0,2,3,3,0,1,1,3,0,0,1,2,2,0,3,1,3,2,3,1,3,2,0,2,0,3,0,3,2,2,0,0,0,0,0,1,0,2,0,3,3,3,2,3,3,3,3,3,0,3,0,1,3,1,0,0,2,0,0,3,3,3,0,0,0,3,3,3,2,3,0,2,0,2,0,1,1,0,1,3,1,2,0,1,1,2,0,0,2,0,2,0,0,2,0,0,2,2,2,3,2,2,3,2,0,3,2,2,0,3,3,0,2,2,0,3,3,3,0,2,0,2,0,0,0,2,0,1,1,3,0,0,3,0,1,2,0,0,2,1,3,0,3,1,1,0,1,2,1,3,3,3,1,0,2,0,0,2,2,0,2,3,3,0,0,0,1,3,2,0,1,1,3,3,2,0,0,1,3,3,3,0,3,0,0,2,0,3,2,3,0,3,3,2,2,0,1,1,3,0,0,3,3,0,0,1,3,0,3,0,2,3,3,0,3,0,0,0,0,3,3,3,0,0,1,0,3,2,1,2,0,2,2,3,0,2,0,2,0,0,0,0,0,2,3,3,1,3,3,3,0,1,3,1,3,1,2,2,3,0,2,3,0,3,2,3,0,2,0,0,3,0,0,1,1,0,3,3,0,0,3,2,0,1,0,2,3,1,0,2,3,3,1,2,3,3,0,1,2,2,2,1,3,3,1,3,0,3,0,0,3,0,3,2,2,3,3,0,2,0,0,3,1,3,0,3,2,0,0,3,0,1,0,3,0,0,3,0,2,3,0,0,0,2,2,0,3,0,0,0,0,3,0,0,1,2,3,0,2,0,1,0,0,1,0,0,3,0,3,0,2,2,2,0,2,2,2,0,0,2,0,2,0,2,3,0,1,3,3,0,3,0,3,0,3,0,2,0,3,1,1,2,1,0,3,3,0,0,3,3,1,1,1,0,3,0,0,3,1,2,3,1,3,2,3,1,3,0,1,3,3,3,1,0,2,3,0,0,0,3,2,2,2,2,0,2,0,3,0,1,0,2,0,1,0,1,3,0,0,0,3,2,0,0,0,3,0,3,3,1,3,2,3,3,2,0,0,0,3,3,2,3,0,1,0,2,2,2,1,2,1,3,3,0,0,0,0,2,1,1,3,0,1,1,1,2,3,2,1,3,2,2,3,3,2,2,3,3,2,2,3,3,2,1,2,0,3,0,3,3,3,3,2,3,2,2,0,3,3,3,2,3,3,2,0,1,1,2,3,3,0,0,2,0,0,0,1,0,1,0,3,1,2,1,3,0,3,0,0,1,3,2,0,0,0,0,0,2,3,2,0,0,0,0,0,3,0,0,2,3,0,1,3,2,3,0,2,2,3,2,0,1,1,0,0,0,1,2,0,3,0,2,2,1,1,0,2,1,1,3,0,2,0,2,3,0,1,3,1,0,1,0,3,3,0,0,1,0,3,2,3,2,3,0,0,3,0,2,0,1,0,3,1,1,1,3,0,1,0,0,0,3,0,2,0,2,1,2,0,3,0,1,0,1,0,2,2,2,0,0,3,2,1,3,1,0,0,3,2,2,2,0,0,2,3,2,1,1,2,2,0,2,2,2,0,0,2,0,0,3,0,0,3,1,1,3,0,3,1,3,0,0,0,1,2,3,2,0,2,1,1,0,0,2,0,0,0,3,3,0,0,0,1,0,3,3,1,3,1,3,3,1,3,3,0,0,3,0,0,1,2,1,2,2,0,2,3,0,3,2,2,1,0,1,0,0,0,0,2,0,0,2,3,3,3,0,2,3,3,2,3,3,0,3,2,3,0,0,3,2,1,1,1,0,3,0,1,3,0,3,3,3,1,0,2,0,3,0,3,3,0,2,2,2,0,3,1,1,3,1,0,3,2,3,1,0,3,2,2,2,0,0,0,0,0,3,2,0,2,3,0,0,3,1,1,3,0,1,3,2,0,3,3,3,2,2,0,0,2,0,3,0,2,3,2,3,0,2,0,2,2,1,0,0,3,3,1,3,0,3,1,0,3,0,1,3,3,0,2,0,3,1,2,2,1,0,0,0,2,0,0,0,0,0,0,2,2,1,0,3,0,0,1,3,1,3,3,0,0,3,2,3,0,0,2,3,3,0,2,0,0,0,3,2,2,3,2,0,2,0,3,3,3,0,0,1,3,0,1,2,0,3,0,0,1,3,3,0,0,0,3,3,3,0,2,3,0,3,2,0,3,3,2,2,2,3,0,0,1,0,1,0,0,1,1,1,0,0,3,2,1,3,2,2,3,1,3,2,3,2,3,1,2,2,0,3,0,2,3,2,3,0,3,3,3,1,0,3,1,3,2,2,0,0,3,1,2,3,3,3,3,3,0,2,3,2,2,3,0,2,2,0,3,0,2,3,2,0,3,2,2,3,0,0,1,3,1,1,0,2,2,2,2,3,0,0,0,1,2,0,3,3,1,2,3,0,2,2,1,1,3,3,3,3,1,3,3,0,0,2,0,0,3,3,3,3,0,1,2,0,3,0,0,1,2,0,0,3,1,0,2,2,3,3,0,0,3,2,0,2,0,0,2,0,3,2,0,0,1,3,0,2,0,0,3,0,2,0,0,0,2,2,1,3,0,3,3,0,3,2,1,3,1,1,2,0,0,1,2,3,0,3,2,0,0,0,0,3,0,0,0,2,0,2,2,0,3,0,2,2,1,2,2,3,3,3,3,1,2,1,2,0,0,0,3,2,3,0,3,3,3,3,2,3,0,0,3,1,0,0,2,3,3,3,2,3,3,0,3,3,0,1,2,0,0,2,1,0,2,0,3,1,0,0,0,0,2,0,0,0,0,0,0,2,0,0,3,2,1,0,3,3,0,0,0,0,1,1,0,0,1,3,0,3,2,0,0,2,0,0,0,2,3,1,3,0,1,3,0,0,0,1,3,3,3,0,0,2,3,0,1,3,1,3,3,1,2,0,2,3,0,0,0,0,1,3,0,0,0,0,0,3,0,0,2,3,3,1,3,1,0,0,3,0,1,1,0,3,3,1,3,2,1,2,0,0,2,1,0,3,0,1,2,1,0,0,0,2,0,0,0,1,2,2,0,2,3,0,3,3,1,3,0,3,3,3,3,2,0,2,2,2,0,3,0,1,0,0,2,0,0,2,0,2,2,3,1,0,3,0,3,0,3,0,2,0,3,0,0,0,3,3,1,3,0,0,0,0,2,2,2,0,3,0,0,0,2,2,0,3,0,0,2,0,3,0,2,0,3,2,0,3,3,3,0,1,3,0,3,2,2,3,1,0,3,0,3,0,0,3,2,0,1,0,2,1,0,1,2,2,3,0,1,3,3,1,0,3,0,0,1,0,3,0,3,0,2,0,3,0,0,1,0,2,0,3,1,1,0,0,0,0,0,0,3,0,3,0,0,1,2,2,1,0,3,2,3,1,1,0,0,3,3,2,0,0,2,1,3,0,2,0,1,2,0,2,1,0,0,0,3,1,0,3,3,0,0,0,0,3,0,0,0,0,3,0,0,3,0,3,0,1,3,1,0,1,1,2,0,0,0,0,1,0,0,2,3,0,0,0,0,2,0,0,0,3,1,3,3,1,2,3,2,2,3,0,0,0,1,2,3,1,0,1,2,2,2,0,0,0,0,0,3,0,1,2,1,2,3,1,2,1,2,0,2,3,3,3,0,3,3,1,0,3,0,0,3,1,0,3,0,0,0,3,0,1,2,3,3,3,0,1,3,0,3,0,1,2,0,2,0,2,3,1,3,3,3,0,3,3,3,3,0,2,3,2,0,0,3,0,2,0,3,0,2,3,0,0,0,2,3,2,0,0,3,0,0,3,2,0,0,1,2,0,3,0,3,3,0,0,1,0,2,2,0,3,3,0,3,2,0,0,3,3,0,0,0,1,3,2,0,3,0,0,0,0,0,0,0,3,1,3,3,0,1,0,2,1,0,3,2,0,3,1,2,2,2,0,3,0,0,0,0,1,1,2,0,1,2,0,3,0,0,2,1,1,0,3,3,1,0,3,0,1,0,2,1,3,0,3,3,3,0,3,2,3,2,2,0,3,0,2,0,3,0,2,0,3,0,3,0,0,3,3,0,3,3,1,0,1,3,3,2,0,0,2,0,1,2,0,0,0,0,1,0,3,1,3,0,0,0,1,2,0,1,0,0,0,1,2,2,3,3,3,0,1,0,0,0,0,3,1,0,0,0,0,0,3,3,3,2,2,0,0,0,1,3,1,0,0,0,0,3,3,3,1,2,2,2,3,3,3,0,1,0,3,1,3,3,1,0,1,0,2,3,1,2,3,0,0,0,0,0,0,2,1,3,3,0,1,1,0,3,0,3,0,0,2,3,3,3,3,0,2,1,2,2,2,2,3,2,3,2,0,2,0,0,0,0,3,3,3,0,3,2,0,3,3,3,1,3,2,0,0,3,2,3,0,1,1,2,3,1,2,2,0,2,2,3,0,0,2,2,1,3,1,3,2,0,3,0,0,0,0,0,1,0,2,1,2,3,0,1,3,2,1,0,3,0,3,3,0,3,2,0,1,3,3,0,0,2,0,0,0,0,2,1,2,0,0,3,2,0,3,0,2,0,0,0,2,2,1,0,3,1,0,2,3,0,2,0,3,1,0,3,2,0,2,0,0,0,2,1,0,3,2,1,1,3,2,3,0,0,3,2,0,2,0,3,0,3,0,3,1,1,3,1,3,0,3,0,2,0,0,3,0,3,3,0,0,1,0,3,2,2,2,0,0,3,2,2,0,0,0,0,2,1,2,2,2,3,3,0,2,1,0,3,1,3,0,0,0,2,1,3,2,3,0,2,0,3,3,2,0,2,0,0,1,3,2,0,2,0,2,2,3,2,0,1,0,1,2,3,3,0,2,2,2,2,0,3,0,0,2,0,0,3,2,2,2,0,3,2,3,2,0,0,2,3,3,0,1,0,1,1,3,0,3,3,0,2,3,3,0,1,2,0,2,2,2,0,0,1,0,0,3,3,0,3,0,0,0,2,3,3,0,0,1,1,3,3,0,0,0,3,0,3,0,0,0,0,0,3,0,0,0,2,0,0,0,1,1,0,0,3,1,1,3,3,3,0,0,0,2,3,1,0,2,3,3,0,2,0,2,0,0,1,0,0,2,2,2,1,0,3,3,0,3,2,2,2,3,1,3,3,0,3,0,1,0,3,3,0,3,0,0,3,0,0,2,3,2,1,0,0,0,3,3,2,3,2,3,3,2,0,3,0,0,0,0,0,1,0,0,0,0,2,0,1,2,3,2,2,0,0,0,1,2,0,1,0,2,0,2,0,3,0,2,2,2,0,1,3,1,0,1,0,0,2,0,0,3,0,2,0,1,3,0,3,0,0,2,0,0,0,0,0,2,0,3,3,0,2,0,0,3,3,2,0,3,3,1,2,0,2,2,1,0,0,3,1,0,2,3,0,0,0,1,3,0,0,2,2,0,0,0,3,1,3,0,0,1,3,0,2,0,1,2,1,2,0,3,0,3,0,0,0,1,2,0,2,0,2,3,0,0,1,2,1,2,0,2,0,0,1,3,3,2,0,1,3,0,3,2,3,3,0,0,2,2,0,3,2,3,2,3,2,3,1,0,0,0,2,0,3,0,0,3,0,0,2,2,0,0,1,2,3,3,3,2,0,2,2,1,0,3,0,2,3,0,2,3,1,0,2,2,0,2,0,2,3,3,2,0,2,3,0,2,1,3,0,2,1,0,3,3,2,2,1,1,0,2,0,1,1,2,2,3,3,0,2,3,0,3,3,3,0,3,1,0,2,3,2,3,3,3,2,3,2,1,1,0,2,1,3,0,0,1,0,3,0,1,2,3,0,3,3,3,3,2,1,2,0,0,3,3,3,3,1,2,0,2,3,3,0,3,3,3,2,3,2,3,2,0,3,0,3,3,1,0,2,2,1,3,1,2,2,2,2,2,0,2,2,2,0,0,0,2,0,3,0,1,1,2,1,1,3,0,0,2,0,3,0,3,3,3,2,3,3,2,0,0,2,0,1,3,2,2,3,0,3,2,0,0,0,0,3,3,0,2,0,0,2,2,3,2,2,0,0,0,3,2,2,3,1,0,0,0,3,3,3,3,3,3,0,1,3,0,0,0,3,2,0,3,0,2,1,0,2,2,0,2,1,0,0,3,0,2,1,1,0,1,0,2,3,3,0,0,3,1,3,3,3,3,2,0,0,0,0,3,1,0,0,3,3,2,1,3,1,3,0,0,2,0,3,0,0,3,1,2,0,1,2,0,0,1,3,2,3,0,3,0,3,0,2,2,0,3,3,1,0,3,3,0,1,0,1,0,2,2,3,0,0,2,3,0,1,1,3,0,3,3,3,2,3,3,0,1,2,2,2,0,3,0,2,2,0,2,1,2,1,0,2,0,2,1,3,3,3,3,3,0,1,3,3,0,2,0,0,1,1,2,0,0,0,0,0,1,3,2,3,1,2,0,0,3,2,2,2,3,0,3,3,3,0,0,1,3,1,0,3,0,3,1,3,0,3,3,1,1,1,2,0,2,0,2,1,3,3,0,0,3,1,3,2,3,0,1,1,3,0,1,3,1,2,1,0,2,2,3,1,2,3,0,3,0,3,3,2,3,0,0,0,3,0,3,0,2,3,2,0,3,0,0,0,3,0,3,2,0,0,2,2,0,0,0,0,2,1,0,0,2,3,2,0,2,3,0,0,1,0,1,0,3,0,2,0,1,2,2,1,0,0,2,3,3,0,2,3,0,3,2,2,2,0,2,1,3,3,0,0,0,2,3,0,3,2,0,2,2,2,2,0,0,2,3,3,1,3,0,0,2,0,0,0,3,2,2,0,0,0,3,1,2,3,2,0,0,0,0,1,2,2,0,3,1,2,0,0,3,3,3,0,3,1,3,2,3,3,0,2,3,1,3,0,0,0,2,2,0,3,2,1,2,0,3,2,3,2,3,0,0,2,0,0,0,1,3,3,1,2,3,2,0,0,3,0,3,0,0,3,0,0,2,0,3,1,3,0,0,0,2,3,2,3,0,0,3,2,0,3,2,2,2,0,2,1,2,2,3,0,0,0,1,0,0,3,0,3,3,2,0,0,3,1,3,3,2,1,1,3,0,1,0,0,1,1,0,1,0,3,0,2,0,0,1,3,0,0,0,0,3,0,2,1,3,3,0,1,3,0,3,1,2,2,2,1,3,3,3,1,1,0,3,1,2,2,3,0,1,0,3,2,2,2,1,0,0,0,1,0,3,2,0,0,1,1,0,0,2,0,2,3,1,0,2,3,2,2,0,3,0,0,2,2,3,1,2,1,0,0,2,1,0,3,1,1,0,0,3,0,1,3,0,0,3,0,2,0,3,3,3,0,0,0,3,0,3,0,0,1,0,3,3,1,2,2,1,1,3,0,3,2,0,3,0,3,2,3,0,0,0,2,0,3,2,3,3,0,2,3,2,0,3,3,0,0,0,0,1,0,2,3,2,1,3,0,3,2,3,1,0,1,3,0,1,3,0,0,2,0,0,0,3,1,1,0,0,1,1,2,2,2,3,0,0,0,1,0,2,1,3,3,2,0,0,0,3,3,3,3,0,0,0,0,0,0,2,1,3,0,0,0,3,2,1,1,3,1,3,2,0,0,0,3,3,3,2,2,3,0,1,0,0,2,0,0,0,1,3,0,0,2,3,1,2,0,1,0,0,0,0,1,3,2,0,0,0,2,3,0,2,3,3,0,0,3,0,3,0,3,0,2,0,1,3,0,0,1,2,1,0,0,0,3,2,0,1,0,0,3,2,0,1,2,2,0,3,0,0,0,3,2,1,2,1,2,1,3,1,1,0,0,2,2,2,1,2,1,2,0,3,2,0,0,2,3,1,2,3,1,1,2,2,3,2,2,0,3,1,2,2,3,3,0,2,2,0,3,3,1,3,1,3,2,1,2,0,1,0,3,3,2,0,3,0,0,1,3,3,2,0,0,2,2,1,0,0,0,0,0,0,3,1,3,2,0,0,3,1,3,3,3,0,0,2,2,0,0,0,0,3,2,0,0,2,3,0,3,2,2,0,1,2,3,0,2,0,2,3,3,2,3,0,0,2,0,0,0,2,0,0,0,0,0,0,2,3,1,1,2,3,3,1,1,2,0,0,0,1,3,0,2,3,2,0,0,1,0,2,0,1,3,1,3,1,0,2,3,1,3,2,3,2,2,0,3,1,1,1,0,1,2,0,3,2,1,1,3,2,0,2,2,0,3,2,3,1,0,3,3,3,1,1,1,1,0,3,2,3,1,3,0,2,0,2,0,0,2,0,1,2,0,0,3,3,3,0,2,0,3,3,3,0,3,3,2,0,3,2,1,0,0,3,0,3,2,3,0,1,0,3,0,0,3,0,2,2,1,3,0,0,0,3,3,2,0,2,2,2,3,3,3,1,2,2,0,2,3,0,3,1,3,1,0,3,1,2,3,1,0,1,0,3,1,2,3,3,2,0,2,0,2,3,0,3,0,0,0,1,0,2,0,1,0,1,1,0,3,2,0,2,2,0,3,1,3,2,0,1,3,1,0,0,3,0,0,2,3,3,0,2,2,0,0,3,1,3,0,0,0,2,2,0,0,3,0,2,2,0,0,0,1,3,0,1,0,1,3,2,2,3,3,2,3,0,2,0,0,2,3,1,0,0,1,1,3,0,1,1,3,0,3,3,3,2,3,1,0,3,0,3,0,0,0,2,2,1,0,0,0,2,3,1,0,0,3,3,3,3,0,1,3,2,0,3,2,1,1,0,0,2,3,3,2,2,1,3,1,0,0,0,0,3,1,3,0,0,2,1,0,3,2,2,3,2,0,0,0,0,0,1,1,1,0,0,1,3,0,0,0,1,0,0,3,3,0,0,1,1,2,0,1,1,3,1,0,1,0,1,0,3,2,2,0,3,0,3,2,0,3,3,1,0,2,3,2,1,3,1,3,0,1,1,1,3,1,3,3,1,2,2,1,3,0,0,2,3,0,2,0,2,0,0,2,3,1,2,0,0,3,3,3,1,3,3,2,2,1,3,2,0,2,0,0,0,0,0,0,0,1,0,0,2,1,1,3,0,0,3,0,1,2,3,3,0,2,0,2,2,3,3,2,2,1,0,0,0,2,3,2,1,0,0,1,3,3,2,2,0,2,1,2,2,1,3,3,2,1,2,3,3,0,3,3,2,2,3,0,1,0,1,2,1,3,3,0,2,1,2,2,0,2,0,3,0,1,0,3,2,1,3,3,3,3,0,0,1,1,3,0,2,3,3,3,0,3,1,3,0,0,2,1,0,1,0,3,0,1,3,3,3,0,0,0,0,0,2,2,3,2,2,2,3,0,0,0,0,0,1,2,3,0,2,2,3,0,3,0,1,3,0,0,2,3,1,2,3,0,0,0,0,3,3,0,3,0,0,0,2,3,0,1,2,0,2,3,3,2,0,2,0,3,1,2,2,0,0,0,0,2,0,0,0,0,1,2,2,3,3,0,0,3,0,0,0,2,3,3,1,0,1,3,3,0,3,1,0,0,3,3,2,3,1,0,3,1,1,3,3,2,0,2,0,0,3,0,0,1,0,3,3,2,2,0,2,0,3,0,3,0,0,3,0,3,3,2,3,0,3,0,0,1,0,1,2,3,0,0,1,0,2,3,0,0,1,0,0,0,3,3,3,0,3,2,1,2,0,3,2,3,0,0,1,2,3,3,0,0,3,3,2,0,0,1,2,3,2,0,1,3,3,3,3,0,0,0,1,2,3,3,2,1,3,3,3,3,0,0,2,3,1,3,3,0,0,0,2,0,1,2,3,0,3,0,0,0,3,0,0,0,1,3,0,3,0,0,0,3,3,0,3,0,0,3,0,3,2,2,0,0,2,1,2,3,3,0,0,2,0,0,3,0,1,3,0,0,1,1,3,2,3,3,2,2,3,0,2,0,1,2,1,0,0,1,2,2,3,3,3,0,0,0,0,0,2,3,1,1,2,2,1,0,0,0,0,0,0,2,2,1,3,0,0,3,2,3,2,2,0,0,2,0,3,0,0,0,3,0,2,0,0,3,1,3,2,0,2,1,3,0,2,3,0,3,0,0,0,2,1,2,2,2,0,1,3,3,2,0,0,0,1,3,3,2,0,0,2,0,0,2,3,0,0,3,3,0,2,3,3,3,3,1,2,2,2,0,1,0,0,3,0,3,2,3,0,0,0,0,1,3,3,3,3,3,1,0,2,0,0,3,2,3,3,0,0,2,1,0,3,0,3,1,1,3,2,2,2,1,1,0,0,2,0,0,0,1,2,0,0,3,1,3,3,0,2,3,0,3,3,0,3,2,0,3,1,3,0,2,0,0,3,2,3,3,2,3,2,2,2,2,3,0,1,2,3,3,0,1,0,3,2,3,1,3,3,1,2,3,3,0,0,0,0,1,2,3,0,2,0,2,0,0,0,2,2,3,0,0,1,0,1,2,0,2,2,0,3,2,0,3,1,3,0,2,2,0,1,2,3,3,3,0,2,3,2,3,0,1,3,0,3,2,1,2,1,0,1,0,0,2,0,0,0,2,2,2,0,3,2,0,0,3,0,0,2,3,0,3,0,0,1,0,2,2,3,3,2,0,3,0,1,0,0,0,1,1,0,0,3,1,0,1,0,3,1,0,2,2,0,2,3,1,1,1,3,1,3,2,2,2,0,0,3,1,3,2,2,2,0,2,1,2,2,0,3,3,3,3,0,0,2,1,0,3,0,1,2,0,0,3,3,3,0,3,2,3,3,0,2,1,2,2,2,3,0,0,2,0,0,0,0,3,1,2,0,0,3,0,0,2,0,2,0,0,0,2,0,0,1,2,2,3,0,3,0,3,1,0,2,3,3,2,2,2,1,3,3,2,1,3,2,3,0,3,3,1,0,0,1,2,3,2,3,3,2,3,2,0,3,3,3,0,0,3,0,3,3,2,2,2,1,0,2,0,3,0,2,3,3,0,2,3,2,2,3,3,3,2,3,0,1,0,2,2,2,3,3,2,0,0,3,0,0,3,1,3,2,2,2,3,2,0,1,0,1,0,0,3,2,3,0,3,1,3,0,3,0,1,0,3,0,2,1,3,3,0,3,3,1,0,1,3,0,0,0,0,0,3,0,0,3,1,3,3,0,0,3,3,0,2,3,0,3,0,0,3,1,3,3,0,0,1,0,3,3,1,3,0,0,0,0,0,0,2,2,3,0,3,2,1,2,1,2,0,3,3,3,0,2,0,1,2,2,1,2,0,2,0,0,0,3,0,2,0,1,2,3,2,0,0,0,1,2,2,2,3,0,1,0,3,0,0,2,1,0,3,1,3,3,1,2,0,3,0,3,3,2,0,3,1,0,3,3,0,1,3,1,0,0,1,0,2,0,3,3,3,2,2,3,1,0,2,1,2,1,0,0,3,3,3,3,0,3,2,1,2,2,2,3,3,3,1,0,3,0,0,3,2,1,3,0,3,0,2,2,0,1,0,2,3,3,3,2,0,2,2,3,1,3,1,3,3,2,0,2,3,3,0,3,3,0,0,3,0,0,0,2,0,2,3,2,0,0,3,2,2,0,2,1,3,0,2,0,0,2,0,1,3,3,0,0,2,1,0,0,0,0,3,0,0,0,1,0,0,0,2,0,0,1,2,3,3,0,0,0,3,0,3,3,0,0,3,3,3,0,3,0,2,0,2,0,0,2,0,0,3,1,2,2,0,0,3,2,2,3,3,0,3,1,1,0,0,3,3,3,0,0,0,3,2,0,1,2,3,2,3,2,3,3,1,0,0,0,3,3,0,0,0,0,2,0,3,0,0,3,0,0,0,0,3,1,0,0,3,0,2,0,0,0,1,3,0,2,2,3,0,3,3,0,3,3,0,2,0,0,3,0,3,2,0,3,0,0,3,3,0,2,3,1,0,0,0,0,0,3,0,3,0,0,0,0,0,0,1,3,2,3,0,0,0,3,1,2,0,0,2,0,3,0,3,3,2,0,2,0,3,3,0,3,0,1,2,3,0,3,0,2,2,1,2,0,2,0,1,0,0,2,1,3,2,0,1,0,3,2,0,2,0,3,1,0,2,2,0,3,3,2,0,0,2,3,1,0,2,3,3,3,0,2,3,1,0,0,3,0,3,3,1,0,1,0,0,2,2,0,0,3,3,0,2,1,2,2,3,0,1,0,2,0,2,3,0,2,3,0,1,0,0,2,3,3,1,0,0,3,2,0,2,0,0,2,2,3,0,3,3,3,1,2,0,3,0,1,0,0,3,3,3,0,0,0,0,0,3,1,0,0,2,0,3,2,1,1,3,3,3,3,0,3,0,0,2,0,0,0,2,3,0,0,3,3,2,3,0,0,3,2,3,0,0,0,0,3,3,3,0,0,0,0,1,3,3,0,2,2,0,3,0,2,0,0,0,3,0,3,0,3,3,0,3,0,3,2,0,0,3,3,2,1,0,0,0,3,2,1,0,2,3,1,2,0,0,1,0,0,3,2,2,3,1,2,0,2,3,0,0,1,0,2,0,1,1,3,0,0,2,3,3,0,2,1,1,1,3,3,0,1,1,0,0,3,0,2,2,3,3,1,1,2,0,2,0,3,1,0,2,0,2,0,2,2,1,0,3,0,0,0,0,0,2,0,3,1,2,0,3,1,3,0,1,0,0,0,0,3,3,0,1,2,0,0,3,0,2,1,0,2,3,0,3,1,3,0,0,1,0,0,2,2,2,3,3,0,2,2,1,0,1,0,1,2,1,0,0,0,3,3,2,1,0,0,3,3,3,2,3,3,3,3,0,1,3,0,2,3,0,0,0,1,1,3,0,2,0,3,3,0,0,0,3,3,2,0,3,3,1,0,0,3,0,0,1,0,3,3,1,3,1,0,0,1,0,2,0,3,3,3,0,0,0,3,0,2,3,0,3,3,3,1,2,0,3,1,2,3,1,2,2,3,3,3,3,0,0,3,1,2,0,0,3,1,2,2,0,1,2,1,3,0,3,0,2,2,3,2,0,0,3,3,0,1,2,0,1,0,3,3,3,2,3,1,0,3,3,0,1,3,0,1,2,0,0,3,3,1,3,1,2,1,2,2,3,2,2,0,3,1,3,0,3,0,3,0,3,2,0,0,3,2,0,3,1,2,3,3,2,0,2,0,3,2,3,2,1,0,2,0,0,2,2,0,1,3,1,0,2,0,0,2,0,0,0,1,0,0,0,3,2,2,3,0,0,3,2,2,3,2,1,0,2,2,3,3,0,1,1,0,2,3,0,0,2,0,0,0,1,0,0,1,2,0,0,2,2,0,0,1,3,2,2,0,3,1,3,1,1,0,1,2,3,3,3,0,1,3,3,3,3,1,0,0,3,0,0,0,3,0,1,0,2,3,2,2,2,3,2,2,1,2,2,3,0,0,3,3,3,3,3,3,1,0,1,0,0,2,0,0,3,2,2,2,3,3,0,0,3,3,3,2,0,2,0,2,1,2,2,3,3,3,3,0,1,3,3,1,0,0,1,1,0,0,1,0,0,2,0,3,3,2,3,1,2,1,0,0,3,1,3,2,0,3,0,0,0,0,0,1,0,1,0,0,2,1,2,1,0,2,1,2,2,0,3,3,3,2,0,3,0,0,2,1,1,1,0,0,2,2,3,3,1,1,3,0,2,0,0,0,3,2,0,0,0,0,0,0,1,0,3,0,3,2,0,0,0,0,2,0,1,1,3,2,2,0,0,3,0,1,0,1,3,0,2,0,0,2,0,2,0,0,3,3,2,3,2,2,3,0,0,3,2,3,0,0,0,3,2,0,0,1,0,3,0,3,0,2,0,0,2,2,0,3,2,3,3,1,3,2,0,2,0,2,1,3,3,2,0,1,1,3,0,3,0,3,2,2,1,0,0,2,3,3,1,1,2,0,2,2,2,3,2,2,3,0,0,2,2,0,0,0,3,0,1,2,0,2,3,2,3,3,2,2,1,3,0,2,3,2,1,0,1,0,3,2,2,3,1,0,2,0,0,1,0,0,1,3,0,3,2,3,2,0,0,0,0,2,2,2,0,3,2,0,0,2,2,0,0,0,2,3,0,2,1,2,0,2,2,3,0,2,2,1,2,3,3,2,0,3,2,3,2,1,3,1,3,3,0,1,3,0,3,2,1,0,1,2,3,0,3,2,0,1,3,3,1,1,1,0,0,3,0,0,0,3,0,0,1,3,3,0,2,0,3,2,2,0,3,2,0,3,1,2,0,3,3,0,1,0,0,0,0,0,1,2,3,3,2,2,0,0,2,0,3,3,3,1,2,2,3,2,1,2,3,1,3,3,2,1,0,0,1,0,0,3,0,0,1,3,3,2,3,0,0,0,0,0,0,3,0,1,0,3,3,3,0,0,3,1,2,0,0,0,0,2,2,1,0,2,0,0,3,1,2,2,0,0,0,0,2,1,3,3,0,0,2,0,2,2,1,3,3,1,3,2,1,3,3,3,3,0,1,3,3,0,3,0,0,2,3,2,0,0,0,0,3,3,2,1,3,1,3,0,0,0,3,2,3,2,0,3,2,0,2,3,0,1,0,0,3,0,0,2,3,0,0,2,0,3,3,0,1,1,2,0,0,0,2,0,3,3,0,3,2,1,1,0,3,3,2,2,1,3,0,2,3,2,3,1,0,1,3,1,2,0,0,2,3,1,0,3,3,0,1,1,2,1,3,2,0,2,1,2,0,3,1,3,3,0,2,1,0,0,0,3,1,0,1,3,1,1,3,0,3,1,0,3,0,0,0,0,3,0,3,3,1,2,3,1,1,0,3,3,2,0,0,0,1,0,3,2,0,1,2,2,3,0,1,0,1,3,3,0,0,3,2,0,0,2,0,3,0,3,0,1,1,3,0,2,0,0,3,1,3,3,0,0,0,3,2,1,2,3,2,1,2,3,3,0,2,3,1,2,0,0,0,0,0,2,3,1,2,2,2,2,2,1,3,3,3,0,2,0,0,2,0,2,0,2,3,2,1,1,0,0,1,0,0,0,2,3,3,0,3,3,1,2,0,3,3,2,3,2,2,2,0,2,0,3,0,3,3,3,3,2,2,2,3,0,2,3,1,0,3,0,3,1,3,3,1,0,0,1,3,0,2,3,1,0,0,2,2,2,0,3,2,2,0,3,0,3,0,3,0,0,3,3,1,0,3,0,0,2,2,2,2,3,3,3,3,3,2,1,3,0,0,1,1,0,0,0,3,2,0,0,2,1,1,0,0,0,0,2,3,3,1,3,1,3,2,1,0,0,3,2,3,1,2,0,0,0,0,0,2,0,3,2,0,0,1,2,3,2,0,2,0,1,2,0,0,0,0,0,3,1,0,3,2,1,0,3,3,1,0,0,3,3,0,3,3,2,0,2,1,1,0,2,0,0,3,0,3,0,2,0,1,3,1,3,0,0,1,0,2,2,2,0,3,0,1,0,1,3,3,1,0,3,0,0,3,2,2,0,2,0,0,2,3,3,2,0,2,0,0,2,2,1,0,0,2,0,3,3,3,1,0,0,0,1,0,1,3,0,2,2,0,0,2,0,0,2,0,1,0,3,1,0,1,0,3,0,3,2,0,0,0,3,2,2,0,0,3,3,0,3,3,2,3,2,1,2,3,1,1,0,0,1,0,0,2,1,2,3,0,3,0,3,0,0,1,3,2,0,3,3,2,1,3,2,3,3,0,1,2,2,3,3,2,2,0,0,3,3,3,0,0,1,0,3,3,0,1,2,0,3,0,2,2,2,2,0,0,0,2,3,0,3,0,2,2,1,1,2,1,1,1,0,3,0,2,2,0,2,2,0,3,2,0,2,0,0,0,2,3,0,0,1,0,0,0,2,0,0,1,0,0,2,3,0,0,3,2,3,0,0,0,0,1,3,3,2,2,0,2,3,0,2,2,0,0,2,0,1,0,3,3,2,0,0,2,2,3,0,2,3,0,2,0,0,2,3,1,0,3,0,3,3,1,2,0,0,2,0,2,2,3,0,0,3,0,3,0,0,0,0,3,0,3,1,0,0,0,2,2,0,0,2,3,0,0,0,2,3,3,0,3,1,0,3,1,2,0,0,0,3,2,3,2,0,0,1,0,2,3,2,2,0,0,0,3,2,3,3,3,3,2,0,0,0,0,0,0,3,0,3,2,1,0,0,3,0,3,3,3,1,0,1,0,3,3,2,0,0,3,0,3,0,0,2,3,2,0,1,0,0,1,3,0,3,1,3,0,2,0,1,3,3,2,0,0,0,2,0,3,0,0,2,1,3,0,0,1,0,2,0,3,2,1,0,2,2,0,0,0,0,1,0,3,3,0,2,3,2,0,3,1,3,3,3,1,3,1,3,2,3,2,0,3,2,0,0,0,3,1,0,0,2,0,0,2,2,0,3,2,0,3,3,0,3,1,3,0,0,3,0,2,2,2,1,3,0,2,1,3,3,0,0,0,3,3,3,0,0,1,3,3,1,3,2,2,1,3,3,1,3,2,3,0,0,3,3,2,3,0,2,0,0,0,0,2,2,2,0,3,2,3,0,0,0,3,1,0,3,0,0,1,0,3,2,1,0,0,2,1,3,0,0,0,2,3,0,2,3,3,0,0,3,2,0,3,0,3,0,0,3,3,1,3,3,2,2,0,2,2,1,0,1,0,3,1,3,3,0,3,0,0,0,3,0,2,0,0,3,0,0,1,2,1,3,0,0,1,0,3,3,0,1,0,1,0,0,1,0,2,3,0,0,0,3,1,1,0,0,0,0,1,2,3,3,0,1,3,2,0,2,3,1,2,1,3,0,0,2,0,2,0,3,3,0,2,3,0,0,0,3,1,3,0,0,3,2,0,1,2,0,2,2,2,3,3,1,3,3,3,1,3,0,0,0,1,2,2,3,2,3,3,2,0,3,0,0,1,1,1,2,0,3,3,0,1,3,0,3,3,2,3,3,1,3,2,2,0,1,3,3,3,1,2,2,0,0,3,3,3,3,0,0,1,0,2,2,1,3,0,3,0,3,3,0,3,2,3,0,0,0,2,2,0,3,0,2,0,1,2,3,0,2,0,3,3,2,1,2,2,0,0,0,0,0,0,2,0,1,2,3,3,3,1,1,1,3,0,0,1,3,0,2,0,0,3,0,3,0,1,3,0,3,0,3,0,0,3,3,3,0,3,3,0,2,2,0,2,2,3,3,0,2,3,0,3,0,0,2,3,1,0,3,0,1,1,0,0,0,0,0,0,0,3,0,3,3,3,2,1,0,0,3,1,0,0,0,2,3,3,0,2,0,1,0,3,2,1,0,0,1,1,3,1,2,2,3,0,0,3,0,3,1,0,0,0,3,2,2,0,0,2,1,3,2,2,3,0,1,3,3,2,3,0,0,0,1,2,0,0,3,2,0,3,0,2,0,2,3,3,2,2,2,3,0,2,2,0,2,3,3,3,2,0,1,2,2,0,3,3,2,2,0,0,0,3,2,0,0,3,2,3,2,0,2,0,3,3,3,3,2,1,3,0,3,3,3,2,2,2,0,2,1,2,2,2,2,0,2,3,1,0,0,3,0,0,2,3,0,1,0,1,2,2,0,2,2,3,0,0,0,3,1,2,3,0,2,2,3,3,2,3,0,3,2,3,2,3,0,2,3,0,0,0,1,0,1,0,0,1,1,1,3,2,0,3,0,0,0,0,0,1,3,0,2,2,3,0,2,1,0,0,2,1,3,0,3,3,1,0,0,1,3,1,3,0,3,0,1,0,3,0,1,0,2,2,3,0,0,2,1,0,1,0,1,3,2,1,0,0,1,0,0,0,1,1,2,3,0,2,2,2,0,3,3,0,0,0,3,2,3,0,2,0,0,3,3,0,2,0,1,0,0,0,0,3,1,3,3,3,2,3,0,2,0,3,2,2,3,2,0,2,2,3,0,2,2,0,0,2,3,1,1,3,3,2,0,0,2,3,0,0,3,3,0,1,0,0,3,0,1,2,3,2,3,0,0,1,2,0,1,0,3,2,2,1,3,0,3,3,0,1,0,3,1,0,3,1,2,2,2,2,3,1,2,3,0,1,0,1,3,0,0,0,0,0,3,3,0,2,3,1,0,0,3,2,0,0,1,2,3,3,0,2,0,3,3,1,3,1,1,0,0,0,2,0,0,1,1,1,0,3,3,0,2,0,0,0,3,0,3,3,0,3,3,3,0,0,3,0,1,2,0,0,1,2,0,0,0,3,1,0,2,0,0,3,3,2,0,0,0,1,0,0,1,2,2,0,0,2,1,1,2,0,2,0,3,3,3,3,2,3,2,3,3,2,2,1,3,1,0,3,2,3,1,3,2,2,0,3,1,1,3,0,0,1,3,1,2,2,1,0,1,1,2,0,1,3,0,2,2,3,3,3,3,0,0,0,2,1,0,3,0,0,1,0,2,0,3,2,0,0,3,3,3,3,3,0,3,1,3,3,3,2,0,0,0,3,3,0,2,3,3,2,2,3,3,0,3,3,0,0,2,1,2,2,0,0,2,0,2,1,0,3,1,2,0,3,0,0,3,0,0,3,3,2,2,2,2,0,3,0,2,3,0,3,3,3,1,2,0,0,0,1,0,0,2,1,0,3,0,2,3,1,0,2,2,2,3,2,3,2,1,3,0,3,0,0,0,3,3,0,3,1,0,0,0,0,3,1,3,0,0,0,2,0,2,1,0,3,0,3,3,3,0,0,0,0,3,0,3,3,0,3,1,2,0,3,2,3,2,3,3,3,0,3,1,0,1,1,1,0,3,0,3,2,2,3,3,3,3,2,1,3,1,2,2,0,2,0,1,0,3,0,3,3,3,0,0,1,0,0,1,3,0,3,0,1,3,2,1,0,1,1,3,0,0,3,0,0,0,0,3,3,1,1,2,2,3,0,2,0,0,2,3,0,2,0,2,3,3,0,1,0,3,2,3,0,0,1,2,3,0,0,3,0,0,3,0,3,2,0,3,0,3,0,3,1,0,0,0,3,2,3,0,0,3,0,2,3,3,0,3,3,2,0,0,3,1,1,0,0,0,1,0,0,3,3,0,0,0,1,3,0,0,0,3,2,0,0,2,0,3,2,2,3,3,0,0,0,0,3,3,1,2,2,0,2,2,3,2,0,2,3,0,0,3,3,3,1,0,2,3,0,1,3,2,3,0,2,3,2,1,2,1,0,2,2,3,0,3,0,1,2,3,2,0,0,1,2,0,0,0,2,2,3,1,0,0,0,2,2,3,0,3,1,2,3,0,0,3,1,0,3,0,0,0,0,2,0,0,3,0,3,0,3,1,2,2,1,0,3,2,0,3,0,2,0,3,3,3,1,3,2,0,0,0,3,3,3,3,3,3,3,0,3,0,0,0,3,1,1,2,0,1,0,2,1,3,3,3,2,3,0,2,1,3,2,3,1,2,0,3,2,3,0,2,3,2,3,0,0,0,0,2,0,0,3,3,0,0,3,2,0,2,1,1,2,3,2,0,3,2,2,3,0,3,0,0,2,0,0,0,2,1,3,3,0,3,0,3,2,1,2,0,3,1,1,2,3,2,0,0,0,1,1,2,2,3,2,0,0,3,3,0,0,2,2,0,2,2,3,3,1,2,0,3,3,3,0,3,3,3,2,3,2,3,0,2,2,3,0,2,2,3,3,3,0,2,2,1,0,0,0,1,3,3,1,0,0,0,3,3,3,2,2,0,2,3,2,2,3,2,3,3,0,2,3,0,2,0,3,3,2,0,2,3,1,3,1,0,2,0,0,3,3,0,0,3,0,1,2,2,3,2,0,3,0,0,2,3,3,2,2,0,3,3,1,0,0,2,0,1,3,2,2,1,3,3,2,3,3,1,2,1,0,0,3,0,0,0,3,2,2,3,2,0,3,0,3,2,1,1,3,0,0,1,1,2,2,0,2,0,0,3,0,2,0,0,0,1,0,1,2,0,0,3,2,0,0,3,0,0,0,1,0,2,3,3,0,3,2,2,0,0,2,0,2,2,0,0,0,2,1,3,0,0,0,3,3,0,1,0,0,0,0,1,0,3,0,3,0,2,3,3,0,3,0,2,0,3,2,0,1,0,0,2,2,1,3,2,2,2,3,0,0,0,2,0,3,3,2,0,3,1,3,2,0,3,3,1,1,3,2,0,3,2,1,0,0,0,2,0,3,0,2,0,3,0,2,1,2,2,3,2,0,1,1,0,0,1,2,2,2,2,2,0,1,2,1,0,0,1,3,2,3,0,3,3,3,3,2,1,3,3,0,1,0,0,2,2,0,2,0,0,2,3,0,0,2,1,3,0,3,0,0,0,3,1,3,3,3,1,0,1,3,3,1,0,1,0,3,2,3,3,0,2,1,0,1,0,2,3,2,0,0,3,2,2,3,3,1,0,1,2,0,1,1,0,1,3,0,0,1,3,3,0,3,1,3,3,1,2,0,2,3,3,3,1,1,3,0,3,0,0,0,3,2,2,0,0,0,0,2,3,2,2,3,3,1,2,2,0,3,3,0,2,3,3,1,2,3,3,3,1,3,3,1,1,0,3,3,0,0,3,2,0,3,2,0,2,1,3,0,1,1,0,3,1,0,0,3,3,0,0,0,3,2,1,0,3,1,3,1,2,1,2,3,3,0,0,2,3,0,2,1,3,0,3,3,2,2,3,2,0,1,3,0,0,2,2,2,1,0,0,0,1,3,3,0,0,2,0,2,3,3,1,3,2,2,2,0,0,0,0,0,1,0,2,3,0,1,2,3,1,0,3,0,0,0,3,0,1,0,0,0,1,0,2,3,0,3,3,2,0,1,2,0,0,0,3,3,0,3,0,0,3,3,2,0,0,2,0,2,0,0,1,3,3,1,3,3,3,2,1,0,0,2,3,0,3,0,2,1,0,2,3,1,1,0,0,3,0,0,0,0,3,0,0,2,2,2,0,0,3,3,2,0,1,2,3,3,0,3,0,2,3,0,3,3,3,1,0,1,0,3,1,0,0,0,0,0,2,3,0,2,2,3,1,0,3,0,3,1,0,1,3,1,0,1,0,0,1,3,3,2,3,3,0,2,0,3,3,1,3,0,0,0,2,2,1,0,2,3,2,3,3,3,3,2,0,3,3,3,2,0,2,0,0,2,1,2,3,1,0,3,0,3,3,3,2,3,3,3,3,3,0,0,2,2,0,0,1,1,2,2,0,0,0,1,0,2,0,0,1,0,3,3,3,2,2,2,0,3,2,0,2,3,1,2,3,3,3,2,2,0,1,2,0,0,0,2,0,3,2,0,3,2,3,0,2,3,2,2,2,0,0,0,0,0,0,0,3,1,3,2,3,3,3,2,3,2,0,2,0,2,3,0,2,0,0,2,1,1,2,2,2,0,0,3,0,0,0,2,0,1,0,2,1,0,3,2,0,2,0,3,0,0,2,1,0,3,3,2,2,2,2,0,0,2,0,2,2,3,0,0,0,2,2,2,3,0,0,0,0,0,3,1,3,1,0,1,0,2,0,0,3,3,3,2,2,0,0,2,1,0,2,3,1,1,0,3,3,0,0,2,3,2,2,0,0,2,3,0,0,2,3,0,1,2,3,3,1,3,1,2,1,3,0,0,3,0,2,1,0,0,1,3,1,2,0,3,0,1,2,3,2,2,0,0,1,2,2,3,2,2,0,2,0,0,3,3,0,2,2,0,0,3,0,3,3,0,0,3,0,3,0,3,0,0,3,3,2,3,2,0,3,3,3,3,3,3,2,3,1,3,0,0,2,3,0,1,0,2,2,0,1,3,0,3,1,3,1,0,2,0,2,0,3,0,0,2,3,3,1,0,0,3,0,3,2,1,0,0,3,3,1,3,3,0,0,2,3,3,1,0,2,0,2,2,1,0,3,3,1,2,0,0,0,0,2,3,3,2,0,0,3,0,1,3,0,3,1,1,0,0,1,1,3,2,0,2,2,1,1,2,1,0,0,0,3,0,2,3,3,1,3,3,2,3,3,0,0,0,3,0,0,0,0,0,2,2,2,0,0,3,3,1,2,1,0,0,0,0,0,0,3,3,3,0,0,0,2,3,3,1,1,3,0,3,1,1,2,2,3,2,0,3,0,3,3,0,0,0,3,0,2,0,2,2,0,0,1,0,3,2,3,3,0,2,3,0,3,2,0,0,0,2,0,2,0,3,0,3,3,0,0,0,2,1,1,2,2,0,3,3,3,3,0,1,0,3,2,3,3,0,2,2,2,3,0,2,1,0,2,2,2,0,1,0,3,1,0,3,3,0,0,0,0,3,3,2,3,3,0,3,0,0,2,0,3,2,3,0,0,1,3,0,1,0,0,0,0,0,2,0,2,1,0,2,0,3,3,3,0,0,1,3,3,1,3,1,1,3,2,2,0,2,3,0,3,0,0,3,0,3,3,3,0,2,3,2,1,3,3,3,3,2,0,1,2,3,2,2,2,3,3,2,1,0,0,0,3,0,0,0,2,3,0,0,0,0,2,3,0,3,0,0,0,3,3,0,0,2,0,2,0,3,0,3,2,0,3,3,0,2,0,2,0,3,3,3,1,0,2,0,3,0,2,0,1,2,0,2,1,1,0,1,0,1,2,0,1,3,2,2,0,1,1,0,0,1,0,3,2,0,0,3,0,0,0,1,2,0,2,2,0,0,2,0,2,3,0,0,3,3,1,0,3,3,1,3,3,0,1,3,1,0,0,3,0,0,1,3,2,3,0,0,0,1,1,2,0,1,3,3,1,2,0,2,0,3,0,0,2,0,0,2,0,3,0,2,2,2,3,1,3,3,2,2,0,2,3,3,3,0,0,3,0,2,0,0,3,2,1,1,3,0,3,0,1,2,0,3,1,2,0,3,3,3,3,3,0,2,3,2,2,3,0,2,0,3,3,3,3,1,0,2,3,2,0,3,1,3,0,2,0,0,3,0,0,0,2,0,2,0,1,0,1,3,2,3,1,0,1,3,3,1,3,3,3,1,2,2,0,0,0,0,3,0,0,2,0,2,3,2,0,3,1,2,3,3,0,2,2,0,0,1,1,3,1,1,3,2,0,0,0,0,1,2,3,3,3,3,0,0,0,3,1,0,0,0,0,0,0,3,3,0,2,1,0,0,1,2,0,3,1,2,1,3,3,0,0,1,0,1,0,0,2,2,3,0,3,0,0,3,1,3,3,0,3,3,0,0,2,1,0,0,0,0,0,2,3,0,0,3,3,1,0,3,0,2,1,1,3,0,3,0,3,0,2,0,3,0,1,3,2,2,3,3,2,1,3,3,0,1,3,2,0,2,3,3,1,3,2,0,0,2,0,2,1,2,0,0,0,1,1,2,0,1,0,3,2,0,1,0,0,3,0,0,3,1,1,3,1,1,0,1,1,1,2,2,0,1,3,0,0,1,1,0,1,1,0,2,0,3,3,2,0,3,0,1,2,1,1,3,3,0,3,3,3,1,0,3,3,0,0,0,1,0,0,3,2,0,3,0,3,3,3,3,2,1,3,1,0,1,0,2,0,0,0,0,0,0,0,2,0,1,0,2,2,1,2,2,1,0,1,3,3,1,3,0,0,3,3,0,3,3,1,2,3,3,2,2,3,3,3,1,1,3,0,0,1,2,0,0,0,2,0,3,1,0,1,0,0,2,2,2,0,3,3,0,2,3,0,3,2,0,0,3,1,0,2,0,2,0,2,2,1,1,1,2,0,0,3,2,0,3,3,0,3,1,0,0,0,0,0,0,0,3,0,1,0,0,3,2,1,2,0,0,2,2,2,0,1,3,2,0,3,0,3,0,0,1,2,3,3,0,1,3,3,3,0,2,0,3,3,3,1,2,3,0,0,1,1,3,2,2,3,2,2,3,1,0,3,3,1,1,3,0,1,3,0,3,0,0,2,3,0,1,1,1,2,3,2,2,0,1,0,2,1,3,0,2,0,3,3,0,0,0,0,0,0,0,0,0,0,0,0,0,1,0,2,0,0,3,3,3,3,0,0,0,0,1,3,3,0,1,1,2,0,3,0,2,0,3,3,2,0,0,3,0,0,0,0,2,2,2,2,2,3,3,0,0,0,0,0,2,0,0,2,0,3,0,3,0,0,0,3,3,3,2,2,3,0,0,0,0,1,0,1,1,3,0,2,0,0,3,0,1,0,3,2,0,3,0,3,0,2,1,0,0,0,0,1,2,3,3,3,2,0,0,2,0,3,2,0,0,2,2,2,0,2,2,0,0,1,2,3,1,0,1,0,3,1,0,0,0,0,3,0,2,2,0,0,1,1,2,3,1,0,0,0,2,0,2,0,0,3,3,0,2,0,1,3,0,2,2,2,1,1,3,0,0,0,3,2,1,3,2,3,2,0,3,1,3,0,3,0,3,0,0,3,0,0,2,1,2,1,2,0,2,0,2,0,3,0,0,1,0,1,2,0,0,3,2,1,0,3,2,2,0,3,3,2,1,3,1,2,3,1,1,0,3,0,0,0,2,2,0,1,0,3,3,2,0,3,3,0,0,1,2,3,1,2,3,0,0,0,2,1,0,0,0,0,3,1,0,2,2,2,0,1,3,3,3,3,0,3,1,0,3,3,0,2,0,0,1,3,2,0,3,0,2,3,2,1,0,3,2,2,3,0,3,2,0,3,3,2,0,3,1,3,1,0,3,0,1,0,0,0,0,1,0,0,0,2,2,3,0,2,3,1,0,3,2,3,2,3,1,1,2,2,0,0,2,3,0,0,1,0,0,2,0,2,3,2,2,0,2,1,0,2,0,1,0,0,1,2,1,0,3,0,0,2,2,3,3,0,0,1,0,0,2,3,2,3,3,2,3,2,0,2,3,2,0,0,2,0,2,2,0,0,2,3,1,2,3,2,1,1,0,3,3,0,2,0,1,1,3,0,2,2,1,2,2,3,3,0,3,2,1,2,0,3,0,1,0,0,0,0,0,1,2,2,2,1,1,2,3,3,1,3,2,0,0,0,2,2,3,0,3,0,0,0,2,3,3,3,0,1,0,0,3,0,0,0,0,0,0,0,0,0,0,2,0,0,3,0,3,0,2,2,3,0,1,2,0,0,3,3,2,2,0,0,2,3,1,3,0,0,3,1,3,2,1,3,0,3,0,0,1,3,2,0,3,3,0,1,2,0,3,3,2,0,0,1,1,2,3,2,0,2,3,0,2,3,2,2,1,3,1,0,3,0,0,3,0,3,0,0,0,1,0,3,0,0,1,3,3,0,3,3,0,1,0,0,2,1,1,0,0,1,3,0,0,0,0,0,3,0,0,2,1,1,2,0,3,2,0,3,3,0,2,0,2,0,0,0,0,0,0,3,3,1,1,1,0,2,2,2,0,0,1,0,3,0,2,0,0,0,3,3,1,0,2,1,0,0,3,1,2,3,0,0,0,2,1,3,0,3,0,0,2,2,2,3,3,1,3,3,2,1,3,0,0,3,0,0,0,3,2,0,0,3,3,3,3,0,3,3,0,0,3,0,3,1,0,2,2,3,1,0,0,3,3,1,3,0,3,2,0,3,1,0,2,0,1,0,2,0,2,0,3,3,3,2,0,0,3,3,3,0,3,0,2,1,3,3,0,0,3,0,2,1,0,1,2,3,0,2,2,2,0,2,0,2,3,0,0,0,3,3,1,1,0,2,0,3,2,1,0,3,0,0,0,0,0,3,0,0,3,0,0,1,2,0,3,3,2,0,2,0,0,3,2,1,3,3,0,0,3,3,2,0,0,3,2,0,0,3,3,3,3,0,3,1,3,3,3,1,2,0,0,0,2,3,1,1,3,0,0,0,0,3,3,3,0,0,3,2,3,0,1,0,3,2,0,2,2,3,2,0,3,1,0,2,2,3,3,0,2,3,1,2,0,3,0,0,3,1,0,0,3,3,0,3,2,3,3,3,3,0,2,0,3,3,0,0,0,0,3,2,1,3,3,0,3,0,1,1,0,0,3,3,0,0,3,0,0,0,3,0,1,1,1,0,0,3,1,3,0,0,1,0,3,0,3,0,2,1,1,0,3,3,1,0,0,1,1,0,3,0,0,0,2,0,1,2,2,2,3,0,0,1,2,0,1,0,3,0,1,3,2,1,3,3,0,2,2,2,0,2,0,2,0,2,3,0,3,2,3,0,3,0,0,0,3,2,0,1,1,3,2,1,3,0,0,2,2,0,0,1,1,2,2,2,2,3,2,2,3,3,1,3,0,1,1,1,1,3,2,0,3,2,1,1,0,1,3,1,2,0,1,3,0,1,0,2,0,3,3,2,2,0,2,0,0,0,1,1,0,0,0,0,0,1,3,3,2,0,1,0,1,2,3,0,1,3,0,0,1,0,0,0,3,0,2,3,1,3,1,3,0,3,2,0,0,3,2,2,2,3,3,2,3,2,3,0,0,1,3,1,2,2,3,2,0,0,3,1,3,3,0,0,3,0,2,1,3,3,3,2,1,2,3,3,2,0,2,0,1,0,2,0,0,3,2,0,0,1,3,3,0,2,0,3,0,0,2,1,0,3,1,0,3,3,3,0,0,0,0,1,2,0,3,0,0,1,3,0,2,1,2,0,0,3,1,3,0,1,2,0,2,1,2,0,1,1,3,0,0,2,2,0,3,0,2,0,2,2,0,2,1,0,0,0,3,2,0,1,1,0,0,1,0,3,0,0,1,3,1,3,0,3,1,2,1,2,0,3,2,3,0,0,0,0,0,3,1,0,0,0,0,1,2,2,0,3,0,0,3,0,0,2,0,2,3,3,0,0,3,0,3,3,1,1,0,0,0,0,3,2,0,0,1,0,2,1,2,2,0,1,3,3,0,3,0,0,0,3,2,0,1,3,3,0,0,3,0,1,3,3,0,0,3,0,2,1,1,2,1,0,3,0,3,1,3,0,0,0,2,2,0,1,2,3,2,2,2,3,2,0,3,0,0,3,3,3,3,1,0,0,0,0,3,1,0,3,3,2,0,1,3,3,2,3,3,3,0,0,0,2,1,2,0,2,2,0,3,2,0,2,2,2,0,2,1,0,2,2,3,0,1,2,2,0,0,3,1,2,3,3,3,0,3,1,2,2,3,3,2,0,1,3,3,2,1,0,1,1,0,0,2,0,0,3,2,0,3,3,0,2,3,3,0,0,3,0,0,3,1,0,0,3,2,2,3,3,0,0,0,0,2,2,1,2,0,1,0,3,1,0,0,3,2,3,2,3,0,0,2,3,0,3,3,2,0,2,3,1,2,0,3,2,0,1,2,3,3,0,0,3,0,0,3,0,0,3,1,3,0,2,0,2,0,3,3,1,0,0,2,0,2,3,0,0,3,0,2,0,2,0,2,0,0,3,0,2,0,2,0,0,3,0,0,1,0,3,0,2,2,3,3,1,0,2,3,3,0,1,3,3,2,0,3,0,0,2,0,1,3,2,1,0,0,0,2,0,2,2,0,0,3,0,3,0,3,3,0,2,0,2,3,0,0,2,3,3,0,0,0,0,2,1,0,0,3,0,2,0,3,0,3,2,3,2,0,0,0,0,3,0,1,1,1,0,1,0,0,3,0,3,1,2,3,3,0,0,2,3,1,3,0,1,3,0,0,2,0,0,2,3,3,1,3,1,3,0,3,1,3,2,1,1,0,3,3,3,2,0,3,0,0,3,2,1,0,0,3,3,1,3,0,1,0,1,0,1,0,1,3,2,0,2,0,3,0,1,2,1,1,2,0,1,3,3,3,0,2,3,0,1,2,2,1,2,2,3,0,0,2,0,2,2,0,0,2,3,3,0,0,0,3,0,1,0,1,3,1,2,1,2,3,0,3,0,0,1,0,0,0,3,2,0,0,3,2,0,1,0,2,1,2,0,2,0,0,3,0,3,2,1,0,0,3,3,3,1,2,3,2,1,2,2,0,3,2,2,2,0,1,1,1,3,3,0,2,0,1,2,3,2,0,0,3,3,0,0,3,1,0,3,0,0,2,0,2,3,0,2,3,0,0,0,2,0,0,0,0,0,1,1,2,2,0,1,0,1,2,1,0,2,2,1,2,0,0,1,0,0,3,0,2,3,3,0,1,0,0,2,3,1,3,3,3,2,3,3,2,3,3,2,3,3,3,2,0,2,2,0,0,0,0,1,0,0,3,2,0,0,0,2,2,1,2,3,0,0,3,2,1,3,2,3,1,0,0,0,2,2,2,0,1,3,2,2,2,0,0,2,2,1,1,2,3,1,3,3,1,2,0,0,3,0,0,0,0,3,3,1,1,2,3,1,0,1,0,1,3,1,2,3,3,3,0,2,0,1,1,3,0,3,1,3,3,3,3,1,0,3,3,3,0,0,3,0,0,0,2,0,2,3,2,0,2,2,3,1,3,2,3,0,3,2,3],\"y\":[88.11364,66.77075,82.91725,98.91817,53.61717,62.11097,63.8817,75.7562,89.61961,79.16276,103.29022,59.72029,95.52883,83.78999,86.52589,85.44977,67.43588,81.25844,85.41241,92.41593,73.68461,72.15169,79.99706,64.55049,70.77242,69.57535,75.33223,69.90289,70.27584,81.93435,76.88625,66.72566,56.67503,108.8677,87.33087,76.05866,78.83807,72.59761,73.95089,72.16642,83.65632,83.73207,68.36387,77.83962,81.90832,78.04226,72.01349,75.01655,85.48962,65.76448,93.01422,64.45938,52.02781,70.83472,71.20214,75.41692,78.93381,93.64798,72.04216,67.13581,67.6202,77.57758,73.33411,95.46576,71.58055,82.5677,84.45743,79.63103,85.29571,72.93922,85.0318,79.74413,100.4901,64.95135,88.53708,76.56484,118.68193,69.83942,76.45696,62.79742,72.75548,75.17287,66.1304,91.8996,66.35259,77.65134,69.39774,71.91839,76.19929,59.1306,61.21881,66.07206,57.71858,103.49297,71.08923,62.24624,75.0847,69.75935,65.86191,68.57385,73.81916,65.34868,71.15857,69.75125,69.89302,69.71027,74.37824,74.15026,78.347,72.5274,71.23165,85.02605,73.3799,70.69215,110.14785,73.59915,73.64166,83.00115,69.67841,72.32082,100.06127,94.93732,87.3907,82.27295,72.92818,71.19148,81.77897,78.3271,66.51223,75.05691,69.79533,65.22607,69.50036,66.72886,73.7437,77.3475,63.1836,73.20242,66.60729,71.66054,78.60132,70.67577,75.57158,68.37282,116.27645,88.82389,80.73043,88.98885,75.30696,67.19996,66.9603,78.00232,64.4174,80.27239,131.72989,87.32086,63.1792,63.86557,79.98721,91.25876,62.96862,76.26581,78.63544,68.67528,76.21184,83.79799,77.76784,72.81539,71.31016,86.24208,70.68638,70.20528,68.67473,53.50343,70.08942,70.89149,75.56391,70.6131,68.08819,48.19474,85.57402,66.30404,67.19874,95.36662,75.13173,66.68575,67.82867,76.34416,71.22296,74.60543,64.1969,76.94543,65.51767,95.95201,74.94792,70.38237,83.21523,65.14956,62.90666,67.40081,74.3481,88.2401,63.94207,73.06712,96.1012,79.45576,62.94435,79.67179,72.51985,67.98404,67.16022,81.43479,72.44298,70.7423,83.69705,96.02654,58.67891,76.89907,72.1344,88.30965,76.9469,92.89573,80.21056,74.10484,104.73114,77.17555,71.24296,70.30181,95.07447,84.57699,78.05018,91.79888,78.36849,88.66536,68.89513,72.86119,75.42132,76.91464,81.40911,74.24815,76.32316,67.58058,77.65531,66.41957,72.91173,69.80638,71.33587,80.63174,105.75536,66.26349,68.94748,76.88178,75.73394,70.45335,67.70904,84.96159,107.979,67.61956,80.61057,81.73712,77.79311,68.44529,67.15884,75.24379,69.83192,65.53415,111.83387,70.29756,83.90235,69.98574,88.26968,71.95544,59.74763,72.3818,73.43087,82.8354,74.2849,95.13509,76.78295,76.80773,83.11295,96.33724,77.14497,88.13656,64.00297,78.21212,74.27479,73.79032,103.3176,88.01514,66.84413,64.9999,73.78521,73.38478,87.63305,71.37596,68.19647,73.4353,80.17874,81.64281,77.17408,82.47957,83.54429,72.98799,87.45174,63.26026,63.73212,83.11863,89.81706,85.73445,79.9315,81.03644,55.12438,87.2666,73.77575,59.90527,69.59008,60.88403,121.11185,61.3515,80.98144,71.41791,65.52092,81.40174,77.90371,71.74462,70.53825,65.22013,81.08938,64.34153,64.77656,81.03718,72.86622,77.16444,74.18113,65.99472,76.10016,74.12144,64.0255,68.49081,90.63039,81.50155,65.60423,68.01852,71.67746,83.18328,112.42872,69.2318,62.04405,80.64581,75.03307,78.84675,77.10847,62.37659,66.39641,70.777,78.38952,76.06862,65.86789,72.45591,63.6807,65.97163,69.25833,71.94473,66.81187,77.87416,114.5423,70.17399,87.01263,68.22243,68.27046,60.19453,59.70553,75.46597,63.82621,74.80501,73.97705,71.72943,76.60538,74.78526,77.6203,118.04182,55.12339,70.98814,93.64679,69.01112,71.46384,77.63927,73.47611,66.4273,83.40258,44.37609,84.89936,73.80932,62.70854,58.15317,82.10446,96.15336,74.55962,75.25995,75.15969,91.40259,71.88028,85.84059,77.90649,67.33673,85.95747,77.53678,74.39634,58.26627,83.55214,81.55229,80.72133,68.13468,69.30162,80.11655,70.52956,72.2215,73.31768,58.28115,70.0442,108.35817,77.50938,76.67393,105.42199,88.04053,66.43277,101.56617,66.32412,80.47932,75.54169,114.729,87.72876,73.20874,78.97199,55.87721,65.92737,76.7276,73.29307,105.66922,55.73725,67.18881,53.83436,75.98948,63.79727,78.05863,77.4024,73.39422,69.29514,67.3326,69.95537,71.19721,72.01747,62.74167,70.91945,66.43939,100.39082,69.75453,94.13675,78.05296,68.48586,89.32622,73.13796,67.21552,86.67119,75.90956,69.69931,88.28933,110.29469,69.66951,78.32073,79.9644,87.31653,74.15396,76.28401,80.49403,65.79475,85.14562,57.75679,55.55237,76.01331,66.25749,77.73883,71.26755,80.36949,101.6955,51.66858,84.84254,63.17194,85.31257,73.96982,73.98435,79.39631,70.436,76.49422,75.93297,81.71331,73.46576,79.59214,92.02234,76.7551,58.00277,74.13129,72.30344,80.96982,55.921,53.02805,66.9721,65.09757,68.38424,68.74481,88.36359,69.26866,73.02812,69.25296,73.25942,71.85691,73.25595,74.07277,85.24282,84.84067,71.66142,87.18959,71.1084,74.31668,82.42429,65.21505,65.51384,64.29965,91.21655,66.86958,75.82044,73.53567,79.36334,84.03894,65.69314,78.42714,79.85023,99.26015,88.689,57.31229,90.54103,54.54559,64.84059,80.0788,79.92602,80.0933,73.56208,65.7658,74.83139,74.0747,89.08665,87.40497,85.54222,68.97793,74.50017,73.30759,62.25006,75.63841,80.44405,57.84942,80.84483,70.71988,75.96911,85.85255,55.36359,80.45878,72.91582,52.03546,77.12938,88.13953,102.58171,60.70283,94.84395,83.7941,88.39809,75.02347,71.1451,84.19448,81.16385,75.08017,64.13034,50.32833,77.72803,71.5761,72.97734,94.52013,46.45592,74.07894,71.03163,61.56064,63.10807,76.79601,67.74633,74.37489,74.9778,76.05804,71.75734,75.23913,65.61168,89.85376,60.79884,63.16415,77.51096,92.89163,76.82432,73.86332,72.57117,73.69468,64.35462,69.3005,74.35126,72.99128,80.7338,64.7436,79.70478,81.21063,82.96683,82.29696,70.59423,98.78571,85.00754,82.05061,82.86759,70.63118,86.53218,79.65011,76.26782,88.82375,83.30971,74.09344,76.05352,69.26876,72.02916,77.04181,71.34,71.00634,69.57632,72.889,79.51961,81.97149,66.21946,65.15569,53.75242,118.06573,69.12359,103.83841,82.13962,71.28938,60.70699,69.14351,76.50908,80.41871,82.8101,64.42149,80.40013,79.67261,67.04097,58.11935,75.10349,76.52615,62.03194,81.44409,81.66311,67.79432,63.83157,46.86296,51.28257,67.99825,79.58658,74.19287,69.19488,81.04224,61.90994,63.41247,77.13773,69.87768,76.44059,80.58397,73.502,71.8537,72.91332,80.42808,66.41711,63.71295,82.06465,65.30451,75.15485,73.59931,88.72254,74.49921,63.96217,64.82147,76.49999,65.52768,62.48615,68.97847,92.2223,81.06216,62.00564,70.02408,63.60491,83.20473,70.4789,66.95765,72.12638,71.60514,109.62614,81.74153,66.4396,76.57243,78.25802,84.75476,86.92343,71.60188,82.78476,81.91724,98.18593,114.32833,67.62353,80.81057,70.82736,74.88933,64.83173,70.65388,72.33701,66.92318,70.02814,71.7251,74.48506,73.73331,72.60291,68.86771,72.43631,63.84867,75.99232,67.78772,67.01085,76.0565,74.36758,75.84942,67.53112,84.76833,67.43152,121.06346,54.31878,58.4198,82.12459,90.86143,71.16192,70.65628,84.21144,83.44313,70.48701,73.04512,101.43237,80.43114,62.13439,127.23216,77.96204,91.58516,73.83475,61.10406,60.67676,84.35262,55.48982,70.02296,64.02804,89.11143,76.30141,75.93521,78.33368,90.50389,88.18748,84.11117,79.36629,56.26064,108.12387,63.95502,76.30821,61.73614,73.55714,65.02342,70.46671,59.05939,65.43332,80.98568,73.58506,80.64007,90.2902,82.11118,78.98151,72.8778,64.37464,83.30784,113.34128,75.82945,85.25199,105.66795,90.33793,76.09374,48.77201,66.76928,73.56003,77.8816,56.29044,79.3699,74.3669,78.62073,68.21019,76.42791,90.05706,71.10516,61.02752,74.16742,57.85023,71.86956,80.11235,70.99695,59.17345,77.75133,85.57155,79.01034,64.55787,66.01211,71.71376,68.19107,73.71934,73.85162,78.48211,73.63648,72.54905,100.46489,59.99362,79.9398,107.52226,77.5432,64.95608,85.17423,58.54021,73.24402,75.90076,62.0642,84.14836,71.04287,70.05621,73.41026,96.19287,63.90832,93.06437,74.36389,67.44967,75.14714,86.02661,82.437,90.90353,79.47017,61.36617,100.75969,86.62528,90.2639,74.63692,70.38653,71.05609,94.58064,79.12462,68.21683,73.89959,69.48221,86.54995,71.53774,70.17335,87.03848,66.10594,73.65794,70.90049,68.16299,77.1974,76.35634,80.93928,90.00575,74.41313,74.10527,89.91627,75.21097,69.75296,72.8485,77.53956,60.79314,74.48482,65.41232,84.08229,62.78593,63.83212,76.2296,72.04947,65.89707,64.81276,70.32534,86.50709,82.95638,65.82166,67.0947,62.24085,74.50478,71.99773,72.36276,82.68932,69.09749,73.25016,64.70878,60.84011,69.64399,66.91128,76.7193,71.88134,82.47027,60.70894,80.9637,55.85147,74.60596,71.90873,114.1853,70.79626,65.63302,61.25642,83.82987,79.75584,65.77699,68.26443,69.05056,84.5122,67.46525,87.06185,72.07778,61.37593,73.62828,60.94691,79.04371,88.43739,73.39046,88.46053,85.06849,94.7387,75.20957,82.84089,83.49806,61.24323,126.58936,75.64298,83.11094,82.90327,60.19435,81.28414,67.73943,62.01253,76.2467,66.85618,75.71069,68.65714,79.03491,76.74524,65.60108,62.60311,74.85264,63.92529,76.59201,114.70749,75.93632,75.81191,76.72877,77.51978,70.6172,88.42351,77.15494,72.30765,82.00441,82.4502,59.18025,75.06174,51.56653,75.99212,96.72523,64.32718,94.98715,67.47736,67.77455,76.35855,77.39718,60.55157,90.96992,72.6161,116.12407,66.45321,75.44745,80.35865,90.99565,99.35272,66.88345,72.13336,69.70259,75.44697,124.44784,87.55254,102.36427,65.01558,93.21316,81.81805,59.73432,76.84687,79.51449,88.97711,83.82236,70.04641,62.35024,75.62284,71.65643,93.19648,74.41017,84.08231,94.23008,76.2455,71.15234,70.96624,64.85798,74.1706,84.49629,74.17055,66.49966,70.16698,56.0424,66.32659,72.81399,79.61284,71.16798,76.52135,87.3947,73.47283,77.58925,80.31604,76.82749,114.03542,68.23665,74.2366,96.68433,62.43746,59.61796,74.47214,60.57809,74.01596,59.83176,85.63483,88.12822,85.76951,71.28072,79.08334,71.51481,64.05209,62.26013,62.97001,75.39533,90.70075,70.65334,80.60325,71.4074,92.70258,75.25973,81.691,71.47063,76.31383,74.12937,68.70287,67.36212,80.68911,77.3934,72.26573,52.25044,100.59119,77.05248,75.13691,68.98529,59.45342,74.23618,55.66502,86.21101,71.12245,66.99917,69.92615,65.44691,87.04725,82.27038,71.27194,75.47665,67.41436,66.02187,65.84066,66.1771,76.83327,86.93224,53.8439,76.36012,78.54767,89.85894,55.50709,91.48386,71.60686,69.04795,75.58801,56.35026,92.46763,70.97603,70.37391,64.86906,54.91927,78.18962,73.5715,80.15018,60.91848,67.59316,85.54,69.54978,64.48385,90.11281,76.1947,64.02178,66.48138,83.31557,72.08805,76.72613,64.83711,81.53961,87.07377,65.23655,77.87187,59.8551,85.91684,67.3319,50.69647,83.24977,67.37651,67.13335,87.71064,65.44603,75.91562,59.04126,71.48341,76.35625,116.31881,62.68324,69.41201,73.38383,57.12544,50.04312,66.87003,73.13445,59.96466,68.34955,82.46753,54.27901,71.07739,73.02186,60.00256,68.52855,67.42086,70.074,73.18437,75.99722,71.77962,64.91928,59.02299,79.57151,70.06423,78.85057,79.10164,66.46529,69.242,68.35614,77.85205,84.35519,113.34416,52.85436,102.094,83.75619,64.2222,63.27014,53.85033,62.42083,78.77635,106.01036,64.34305,76.35953,71.81886,74.07565,61.90413,71.9523,85.80879,74.60472,73.95863,72.79723,70.85399,73.97503,78.23367,68.59571,79.97722,71.06214,80.42532,75.32281,86.80614,74.23521,77.6252,75.30833,62.85956,94.99039,77.69331,90.72897,55.35425,83.56833,70.58413,95.676,64.73682,90.19181,65.46856,84.68658,79.96064,80.95345,62.33453,57.65771,73.5351,56.95116,112.3815,69.15024,67.76157,98.11661,75.42814,77.85108,66.97542,71.02932,61.31676,77.20288,99.75988,74.35277,69.83128,91.84402,74.03013,81.62478,65.37148,77.42392,69.92218,77.43805,61.9356,74.65062,72.67865,65.31856,69.3708,61.8736,66.37894,92.28289,67.6537,62.2273,71.57023,81.9745,83.67146,81.10177,56.6218,71.51605,63.5056,99.50064,66.90787,82.72369,72.31488,93.84779,99.60891,100.52118,118.2781,77.92119,68.68613,87.58272,96.68837,72.13197,81.5953,73.41755,120.19977,88.76388,65.33442,66.9029,68.68872,75.47195,83.21152,76.68545,87.81749,75.1253,73.0336,71.13328,81.35758,77.11652,60.49004,82.61333,73.18926,70.35507,82.62355,95.44626,66.10488,77.24175,77.65521,72.70756,71.34361,66.91669,80.29026,76.16007,71.74473,66.7694,117.02359,76.10971,118.36331,75.72808,70.22344,99.97514,99.61646,74.92188,71.86181,77.61,73.38082,62.87502,81.86486,65.74418,68.39029,70.92943,87.87466,71.71876,63.82028,60.79062,68.00993,59.29905,62.85999,69.70313,68.77095,77.57318,72.67725,87.96017,68.74691,95.67849,59.65564,73.45161,72.70399,85.55174,80.98304,74.98413,81.30595,63.78246,65.27238,65.96896,61.79049,78.36595,74.02559,72.64699,71.07669,69.04276,86.57538,97.59678,89.4504,76.55249,89.27997,86.21215,54.25709,81.51441,72.61676,68.59077,59.01195,78.50025,70.88974,73.85385,59.46522,63.27665,101.76197,71.37369,60.14126,111.2139,65.436,60.02636,64.4081,72.59767,62.66805,79.70505,89.74293,56.72819,79.28697,95.41918,78.09113,84.39601,101.38549,66.81826,64.10431,77.43159,83.54834,90.31688,78.16494,74.62142,70.45718,63.50357,117.64722,63.76748,94.16217,72.0006,84.67446,91.6144,89.36257,63.37021,77.70661,65.14166,68.40794,71.29313,72.66132,92.02275,68.05098,78.24115,83.35601,77.60322,89.99518,77.61979,72.75214,73.82154,68.53926,82.20711,122.16684,69.88708,68.15112,60.64193,81.66312,71.23205,81.02724,106.55906,68.02989,59.68401,82.99908,73.57793,76.13939,71.0478,75.60023,66.55416,54.88616,84.43649,62.05723,84.30108,93.29891,82.21703,66.99653,75.84574,76.04794,73.29101,70.11596,70.44548,62.67825,70.81581,62.44056,62.76652,76.00648,78.75855,68.53803,75.43631,109.79289,77.97853,66.60443,81.90421,71.24792,77.60436,69.27675,70.36705,66.96928,66.47128,69.83246,74.98137,71.38881,73.78617,66.63091,87.86097,82.12572,70.08197,89.05315,94.24422,74.06927,72.75026,83.06623,85.01474,79.24854,75.56738,85.47889,77.64088,96.32113,66.30898,63.54595,69.66752,73.95403,76.77099,80.18521,89.69738,84.61436,88.24403,67.06543,58.69587,68.69749,67.03414,73.45475,76.59159,72.68699,66.39251,88.50664,62.53969,64.68812,64.21697,60.38911,78.23102,76.92574,94.92194,60.4336,72.14303,65.05514,84.09363,74.63087,69.88012,72.69232,68.85406,79.29217,68.79585,71.17448,66.38372,110.61306,106.58342,62.96159,68.00472,65.22329,91.79847,81.07254,61.77063,62.38314,73.94701,79.44733,71.30338,87.63459,68.28443,64.05684,81.42753,83.26806,96.09119,83.41948,92.61282,64.49753,83.3429,83.14748,73.92317,56.97817,70.85823,78.24231,68.51414,68.99495,70.61565,62.97031,112.93231,83.47538,68.69804,79.37171,81.61527,68.11231,114.01671,75.50869,67.08013,81.19981,83.52348,64.9899,81.02819,60.40839,62.1136,86.44108,74.11474,79.03989,70.83837,64.98076,92.35919,77.8528,87.39982,69.88126,72.83036,86.58223,62.26866,82.18992,62.21501,68.22485,75.78605,101.44452,77.60042,74.22207,88.87856,81.02948,75.66075,60.83298,60.21389,68.3565,58.1272,80.18783,66.96606,76.95745,74.42961,99.41131,69.29625,62.53441,77.84126,73.61669,66.633,86.05439,66.08051,77.83749,72.71203,71.82444,70.32289,78.84283,72.09371,67.92505,67.86886,72.68751,62.22065,73.05206,79.44967,110.7861,72.81687,72.55513,71.33923,59.57716,76.43858,85.03967,66.53355,71.39007,91.8701,67.40824,61.95167,74.18713,66.56882,75.73213,85.41641,87.39923,65.53826,81.57209,73.82891,68.68757,65.54484,80.20191,61.48832,80.83862,78.37483,77.2566,90.47467,64.98902,83.56045,70.86466,78.06083,70.29679,84.19259,98.85667,103.61528,66.56405,79.63047,83.14917,74.85238,100.69167,67.40772,67.8954,120.3137,75.8596,80.71853,77.50236,78.29261,63.81653,77.58623,51.35988,67.96464,75.73644,72.44259,73.15251,61.30604,100.61473,85.65732,81.53061,92.72207,74.58136,61.8898,62.10164,63.65035,54.32736,77.82217,69.47735,74.57375,73.58427,71.945,70.26129,62.17113,102.98045,62.6728,71.17331,75.94019,69.0179,90.45123,92.09144,68.951,65.10051,69.92189,62.7938,84.37425,70.86739,76.01211,95.25675,61.38194,100.25915,85.57135,83.31014,57.57628,56.54214,72.61923,121.38105,63.38602,96.79906,81.87988,68.17957,79.13596,77.76107,71.68412,65.07872,72.89896,76.88853,72.66119,67.06204,67.17734,79.76194,66.07166,108.99239,102.12494,70.58228,72.60614,90.08021,97.63246,78.42672,77.90329,76.41565,83.16632,74.88727,72.20063,78.94678,78.26412,90.83475,65.022,118.96355,70.46334,81.22134,68.46434,69.87251,54.12932,91.80037,76.29626,88.43571,80.12042,74.70305,63.73626,91.53248,74.9213,79.39438,70.84699,75.77559,69.52781,85.09185,139.53692,84.21978,89.00136,102.09694,86.57758,69.42539,83.42952,57.10031,66.45297,76.71219,94.10592,73.0871,72.76841,72.48724,82.38873,78.00109,85.99349,62.87681,57.31854,71.34329,110.65102,61.98176,65.22044,70.15355,57.5977,66.46655,78.20414,72.04366,60.92805,72.52167,69.6454,70.8383,60.90862,65.54688,65.20199,80.18673,76.73969,69.90913,67.37853,61.58377,69.06862,78.78089,76.82326,63.02471,75.11078,81.37313,64.41921,66.63425,85.24702,75.68103,73.11125,69.76432,78.74103,62.69732,83.9478,75.40299,75.24783,76.89938,76.55726,84.08632,66.56258,84.87675,79.91992,79.97013,76.01882,99.25434,68.39898,76.66558,87.58345,64.51544,75.03163,93.03307,55.28314,79.16491,80.53206,69.78568,69.57555,64.33722,76.94633,73.86831,76.73378,67.36191,77.18961,82.91173,76.66536,69.50533,76.72122,72.53647,69.43571,87.79065,76.90476,70.19571,66.33713,73.28603,82.42136,68.65557,68.30713,80.11917,60.95337,80.52914,75.94836,94.51495,115.65417,64.93364,82.97562,68.70536,72.18765,69.5537,66.53637,75.07295,76.95416,89.49832,72.40839,74.94822,65.74077,85.6482,71.37227,65.08935,74.99105,73.82057,77.51294,62.88292,61.08185,78.63759,80.48421,75.69748,74.88085,69.2958,100.67823,78.25016,76.94917,114.02415,91.92327,70.92883,73.69049,67.55627,105.92057,66.75399,67.71936,61.70325,91.73616,67.88412,74.73677,59.94279,68.00991,67.87113,67.17534,75.35734,85.1075,70.5367,67.49475,72.20634,73.08075,76.17715,82.94554,131.58163,70.50001,70.07589,72.10987,85.38124,77.23189,93.22992,73.49143,66.2232,74.7698,76.44941,74.26381,80.53027,72.05058,62.63122,69.29328,72.80198,101.95928,74.27193,77.85951,65.42812,69.8073,66.87625,75.32053,68.81704,77.8092,85.54279,94.10957,74.896,70.35689,82.46897,73.86705,102.23145,55.70639,65.49255,70.98971,79.72037,73.08203,76.79965,64.37577,80.30249,80.12227,76.17843,67.24953,78.62586,67.39455,72.55955,64.77391,93.27008,104.77631,83.35252,77.66406,67.28815,68.44671,66.80249,68.12022,59.89298,79.08672,82.43646,106.39183,71.33394,74.35942,73.54635,95.68868,72.7843,63.93548,90.95283,87.23303,87.06965,67.12906,60.07308,62.15477,80.85461,62.63115,64.36401,75.45339,75.34676,77.06778,63.77868,66.52615,77.4017,72.12023,73.57393,95.58543,72.73208,75.71675,54.25032,75.27532,70.71161,83.42121,72.56968,66.02716,59.5236,65.51678,60.53052,67.2167,69.02042,65.87352,87.51148,77.52147,72.71386,61.33845,73.24093,73.70986,72.98183,71.76728,71.77015,75.00078,69.29851,84.19295,68.73061,65.54334,65.34647,89.58949,76.04948,67.04442,68.84918,79.64247,82.56908,73.26347,66.16635,62.26138,56.40281,58.52271,78.01751,91.37427,77.60008,88.31332,65.95683,65.40436,79.79694,98.41304,78.00732,70.69581,84.17004,78.80723,57.49582,72.44518,83.04416,72.67755,130.49043,96.14163,67.59291,83.20351,124.93883,69.52177,63.8606,88.12745,63.99212,80.20912,77.22087,80.65036,84.35736,83.65813,69.48996,68.45317,78.21151,68.82798,65.22826,81.66748,93.51053,83.90189,73.98672,87.18047,61.53146,70.615,77.05191,70.21056,75.81462,61.05213,72.31538,78.81769,88.51644,72.39024,62.26386,72.36757,70.97537,70.63973,56.25656,84.1833,68.74298,111.00973,80.87402,78.96379,123.48153,61.94128,80.95991,72.90567,76.88306,67.95941,76.42455,70.401,86.82734,71.21813,75.32354,77.36681,64.34175,78.56503,64.59416,72.75508,80.88682,70.23677,82.14685,69.48795,83.56048,69.40161,78.73313,80.06474,95.48063,60.92179,79.38825,112.43445,68.22714,62.67546,74.0424,70.91849,63.77053,69.64611,98.44872,71.30599,75.71763,85.53916,72.09586,60.7654,69.70781,66.36384,82.74799,78.9871,67.05996,72.06206,63.90549,82.24311,77.63058,64.19057,71.22403,68.22698,57.85542,86.35125,74.51806,82.1645,73.18077,73.37195,72.12776,88.98983,69.98991,83.45229,61.03431,82.36838,73.09378,90.66909,71.95427,86.71476,71.24825,69.61074,73.34227,66.94498,77.81608,78.36674,79.33027,68.1514,56.61267,66.33713,72.93849,71.52684,77.45299,69.74337,73.36858,105.96582,72.22158,72.24373,62.2556,76.70217,59.18918,75.03283,71.08851,78.46517,68.40424,71.66595,72.20354,74.85903,64.28642,75.64881,49.26898,65.39586,54.3718,65.63074,64.90423,91.4983,68.51996,83.55567,63.40742,98.2,84.09201,79.74189,64.55497,72.63967,66.85027,101.99029,72.79739,72.49561,110.41121,85.32813,98.23502,61.77952,61.82623,69.90786,60.95106,75.14495,80.2768,70.7892,71.46609,70.87049,83.38061,71.45811,68.01942,65.1913,72.97461,78.05645,66.59326,71.68114,73.93951,74.92353,67.42365,70.04808,92.02409,66.22139,78.48262,78.04623,73.33364,62.88894,67.1039,71.80134,61.24229,65.77231,87.76318,76.25063,79.09851,66.95327,70.16845,81.19994,82.72329,83.04021,70.36832,71.50709,78.85665,85.56687,61.36414,79.59843,70.7401,78.45286,95.88997,66.06019,81.81064,100.3529,65.88621,65.18403,60.49878,93.8683,110.91338,71.93476,81.62795,97.93604,87.7147,83.57142,82.81232,101.10747,84.29745,73.2232,65.0164,69.28789,72.18578,65.04269,66.76376,67.1506,87.98522,83.61751,73.86354,74.33418,70.14929,68.33281,77.44727,57.1907,77.5264,66.43074,63.26655,71.45857,63.42362,68.72702,76.74663,73.26045,94.04996,65.17273,66.55582,72.82845,75.40275,106.20746,72.2923,59.00087,89.33166,76.8139,75.04739,52.00818,71.43343,65.71985,67.77653,85.13264,73.54964,78.02468,60.96755,80.99755,79.29184,73.4244,73.24915,121.52128,74.28867,75.00884,76.96063,104.59099,73.41504,89.62387,94.20365,59.95049,83.86132,63.57954,73.7468,67.82083,70.03862,91.76357,60.52854,71.70539,63.77006,70.28842,70.42749,59.35195,76.57477,59.4642,50.47582,64.31235,99.76703,71.33484,68.56087,67.76734,80.76072,72.27358,80.67161,87.73617,51.63146,72.69916,61.9806,79.22721,74.61724,124.17146,83.31677,98.0027,74.4864,112.45327,71.27161,76.47041,77.09294,80.22094,68.18178,80.91914,90.0905,63.50881,66.93547,72.47973,92.9715,70.92532,70.51889,70.36616,82.00518,82.76796,67.35839,75.4569,74.38206,73.89109,104.42998,72.84111,78.63262,64.12714,75.61524,71.93241,82.04803,73.25291,77.27854,73.30737,91.53243,98.2481,90.67645,62.81851,80.51578,85.01801,66.32001,68.37694,70.53555,74.99266,103.71908,76.15749,68.91362,74.79297,85.23963,76.83251,76.37124,81.21659,84.52171,124.65521,80.11472,71.90892,63.92927,76.26098,61.7131,62.83003,79.77326,91.57556,91.15414,72.03653,64.09545,82.0408,77.54093,60.65872,78.37177,70.4333,75.62789,78.05423,70.58419,86.97948,62.19185,67.87596,88.08196,87.39693,75.66111,80.03869,78.95329,88.16822,70.18395,61.85961,76.33725,67.00591,70.78465,70.76359,58.17511,81.12386,87.57762,78.35487,76.87041,91.51675,62.82808,63.83509,83.74914,73.67304,100.92915,70.14417,72.89724,60.56921,115.29335,74.76376,72.38118,59.75086,67.84223,73.66536,69.99917,70.07872,80.4205,87.41274,87.20233,80.27979,76.54501,89.9269,66.89952,91.5079,47.77561,60.07739,74.6676,77.21788,73.21337,67.20855,67.44424,68.68375,74.46532,82.21066,71.46845,79.14819,96.30788,69.14672,71.13977,73.87104,87.27293,100.87655,95.28931,88.53446,54.26571,73.4755,77.56394,107.67135,63.36178,60.93906,107.72116,80.85354,76.90815,82.68126,70.31522,64.27267,78.69024,75.93409,67.65002,68.18753,67.68845,56.04484,70.91009,42.25639,69.04758,95.02264,74.95677,74.08645,97.96804,75.01259,75.8685,68.51823,84.05107,76.81307,73.23634,75.79761,70.48955,62.21592,53.10144,77.32531,77.72923,71.87671,87.56506,64.33905,70.29998,96.49868,66.05667,63.30748,71.38489,76.80736,71.83506,71.82273,84.53596,69.06575,87.12402,71.76329,80.34414,67.68379,64.94938,72.73351,97.73141,73.91889,113.2058,100.57455,65.57356,105.98678,73.49588,72.77385,75.69475,74.11823,63.66889,67.75604,67.41118,72.04875,85.4852,60.98904,66.48045,75.8908,89.63893,64.03793,82.60855,60.56813,76.82363,70.19359,59.3027,77.52757,88.90217,113.61038,68.93886,84.99194,59.36323,76.51285,72.75717,72.58533,72.88804,102.97615,87.4188,87.36095,71.27516,71.24619,75.3729,72.05159,68.87014,114.67999,83.37925,63.90031,74.96896,76.36387,69.94216,86.93657,93.91619,74.73891,72.26812,74.58694,69.66597,80.33405,68.64159,94.22184,73.94392,72.82526,60.3637,71.27374,63.51788,118.63381,75.83533,77.4625,79.80283,73.99334,78.69418,86.50768,80.35633,61.14285,77.3532,81.11285,97.05039,73.62791,70.214,78.41193,93.4514,72.20619,65.11081,62.00252,64.98269,89.86586,89.38908,83.55865,72.9067,119.0916,82.8158,71.07717,70.34565,72.75948,80.27917,72.93826,115.87289,80.16123,81.99456,69.29526,64.45528,76.48962,47.89839,76.13104,87.89609,70.52516,75.16404,75.26654,61.75825,67.65008,65.30297,62.45468,68.00409,76.90963,98.7905,82.03619,65.73481,66.08308,93.06125,75.94886,86.04804,71.99019,77.67824,111.48435,69.19074,70.53398,60.84362,85.72035,117.01987,97.3618,73.49859,67.8969,74.71363,77.5196,62.09574,66.66501,73.6992,83.03204,74.30192,52.94923,81.07984,73.44208,60.04725,67.81621,75.9568,73.35734,77.03755,88.95733,89.05098,77.52474,61.60168,78.47079,82.90458,74.33186,73.76228,72.97316,78.76962,94.03571,76.8192,65.90385,82.33997,68.48248,69.69353,69.06251,92.67294,82.41837,81.68652,103.08391,65.13601,66.51341,77.05672,68.93862,69.80743,74.5148,48.67512,72.03789,76.38521,69.56709,87.59538,70.2202,77.29298,79.33324,114.46813,82.01663,82.05589,66.20495,74.22062,71.3286,84.29477,54.08543,68.52226,80.72659,75.73528,85.03927,70.75256,118.30343,84.47934,85.76132,84.96826,79.65949,68.6554,80.04698,74.4637,74.82568,91.93246,109.36902,80.88807,90.78554,71.41238,68.76475,70.75127,67.86774,82.87938,81.23281,69.59215,90.03064,65.84258,72.11686,79.28067,66.47724,71.59047,65.30078,71.17787,93.8468,75.59153,83.97876,60.27211,81.1433,78.98122,62.8396,66.38121,66.587,67.76124,73.70998,63.50865,61.02485,73.7951,77.93445,69.99254,82.55563,99.06344,62.27193,93.35,75.20674,85.31808,67.03182,81.92123,60.81532,72.3636,61.29706,69.59647,70.29219,78.58591,70.21173,74.94814,67.21876,87.53592,77.70376,78.47589,65.82601,66.69772,81.64674,71.18811,82.25883,82.15747,79.75893,65.44427,110.1055,73.13835,77.21985,88.14873,62.43598,76.70549,68.51479,79.3998,85.82265,79.60561,68.50217,76.70894,75.9904,74.06599,77.17945,76.11341,69.00198,71.82553,71.25024,74.34786,70.5702,73.31591,98.61599,65.18895,61.71517,79.28721,85.79039,60.32714,76.91913,78.05936,79.7859,108.93138,56.67564,67.09907,72.88932,70.35091,68.52584,68.22907,92.82835,109.75684,73.54791,98.33864,69.32123,71.89992,70.39639,69.47894,63.72652,77.32104,92.88817,69.92935,81.09071,137.2981,79.22051,99.41789,53.57805,78.19152,81.81415,66.87389,78.99431,74.94015,67.25973,70.77272,71.41738,74.48473,76.08903,78.51955,67.3713,100.25765,79.9263,78.20746,73.0601,60.70392,68.3211,71.28302,85.77179,95.38696,72.35789,64.09192,65.17451,122.56447,79.83552,120.17069,70.39668,75.24927,73.28757,71.01025,53.82936,77.9339,78.50466,78.85656,83.85668,81.01893,78.25726,86.17605,66.62333,71.98921,70.99649,65.67674,50.9887,81.91297,91.58462,80.57603,66.20008,82.91186,75.71511,79.93653,56.8952,76.92434,72.7141,87.31768,92.51457,65.1695,68.14462,70.48639,91.43755,72.68349,77.37348,71.87432,70.15757,89.06466,69.64219,69.67432,79.70016,72.49796,98.88679,70.52999,79.69459,62.95046,69.85806,70.59707,61.10864,77.28137,70.24658,90.17924,75.25399,66.7123,60.65341,69.47811,68.04514,77.35594,76.61265,62.67731,74.3565,59.41004,72.79211,103.927,75.78911,58.94114,96.1496,73.6992,70.09657,80.38046,80.07996,74.35571,79.31882,86.39074,62.18323,66.17634,70.98336,59.46182,81.92128,99.11563,64.54146,62.31,71.7519,57.73772,69.68669,82.39779,82.85714,75.84092,81.18531,60.95847,73.49945,69.61347,64.87877,78.77539,84.19677,82.53766,75.84235,72.3692,55.78162,80.53713,79.24573,78.60066,80.7791,82.53869,95.70377,76.67452,78.04659,87.79634,66.32958,72.1197,68.21601,88.03004,72.0204,94.86179,79.258,70.46982,79.48035,97.81148,60.8583,87.08005,78.64664,70.57611,73.4937,65.6719,86.93418,71.05878,75.51281,71.88983,74.0202,81.31515,110.06887,71.82376,92.10662,78.39835,64.80355,89.746,70.95669,70.90138,75.6387,76.48917,82.09301,71.74638,61.79715,77.87459,62.88323,93.71032,93.76267,75.14954,65.93663,78.23296,69.05871,76.23647,69.6544,68.28664,84.0321,68.45381,79.12056,81.67762,70.24687,83.72361,59.69072,113.7254,103.374,68.28484,69.10272,74.03615,71.40679,67.64077,83.67581,74.87621,87.6517,76.1029,97.36735,70.51895,68.94622,79.08824,81.96386,64.95273,63.17683,65.59516,85.14373,62.28542,65.76645,59.27033,76.8333,67.6203,76.18679,67.3268,87.44342,102.46716,73.30134,85.26158,80.93777,63.37667,79.12116,76.06485,67.66087,78.33724,73.48467,70.67432,69.49621,75.73889,85.41668,69.97159,64.95708,58.95104,65.70474,84.49827,72.04723,73.89882,60.56168,81.10287,68.38378,50.01094,75.13408,69.93933,81.03089,121.42361,74.30411,71.01336,75.17702,72.02723,71.40179,70.35584,77.52795,90.1648,80.30332,68.61264,59.18099,71.86697,64.62976,88.01824,69.15874,77.25781,76.2545,74.76012,68.81029,75.73193,63.63867,60.47176,57.50168,62.0573,69.28976,61.55367,95.88269,67.43526,73.38428,64.8882,83.65771,71.06849,78.19272,73.34605,71.31265,76.30654,69.61847,73.67165,99.65114,69.55339,78.14066,64.53516,83.79244,60.21577,93.24819,96.72268,77.91076,111.49962,66.59767,66.72203,73.7747,104.504,72.1786,73.00909,118.27842,79.07559,79.4499,89.51541,75.60604,82.85878,74.92166,99.46239,86.98129,74.98423,105.72947,81.38,71.98575,97.12448,81.11374,78.29096,83.61035,69.71135,73.78758,70.36372,74.78178,75.41307,81.12977,68.96475,64.24629,80.86416,59.08832,105.95195,79.31082,75.55504,81.77201,56.92,75.5856,95.08232,81.08239,65.67031,80.76905,76.41132,60.75722,73.09252,92.3511,59.12599,71.91449,71.44427,90.82554,67.80958,80.41597,74.93282,108.7906,107.2084,66.52817,57.87479,60.02787,87.08873,74.78036,68.12682,74.95264,68.57222,62.56103,71.74178,73.45052,76.23414,75.75397,71.90829,95.55933,87.40972,81.67524,80.27187,76.44137,71.58684,87.12732,61.21787,78.37338,67.68781,81.12077,71.47062,58.65316,78.51169,61.6877,61.09232,62.99429,72.87019,65.84158,74.26178,67.2651,68.69427,56.67817,71.56712,72.49811,64.14043,81.624,65.9425,77.20397,62.28251,68.72989,70.53604,75.4328,76.7935,74.67776,78.94519,73.18846,56.92966,89.24526,72.37485,62.79495,74.56252,85.25273,86.9264,74.11371,65.67003,75.01079,65.79285,70.18007,101.76453,72.54931,77.89766,78.99041,72.62941,96.66431,80.96705,67.52782,70.35882,62.68538,71.62765,103.51729,65.93242,82.61599,70.0577,93.42065,75.72263,69.56676,68.57287,96.57302,55.84131,68.22422,80.11564,66.49926,70.48762,66.00828,71.27806,68.69579,52.56186,84.47125,78.80619,79.59033,76.75906,71.59278,78.4137,67.31393,133.50247,55.89783,67.99941,72.60343,102.42896,81.91871,84.13791,93.85338,70.29842,64.24574,78.06954,115.68673,76.06436,61.10447,80.89208,68.50242,106.13794,69.69656,62.65113,78.86263,78.11283,75.72824,78.42181,69.56266,74.82305,103.50503,65.96027,64.82636,58.43582,73.4441,79.04029,66.60605,79.91103,121.21219,89.22153,78.26535,69.90772,79.10863,67.26911,82.87216,84.38704,75.72315,78.64356,76.41265,95.67806,75.26347,64.5322,58.2634,57.9419,72.45992,96.3832,73.73972,77.75909,75.89846,83.57949,111.65677,65.57022,69.07099,70.72079,91.71496,77.74481,79.68543,72.02073,74.17253,71.64768,72.76892,95.97748,71.12594,77.18489,67.03736,76.66648,77.01094,70.44608,60.51071,67.18258,72.93493,83.78549,77.47707,83.76886,76.46652,99.69726,75.08071,73.68345,68.61998,91.54321,79.77009,51.81837,72.06829,67.8455,84.94729,80.72289,120.38571,84.18089,60.28817,73.59324,72.71406,77.98278,77.22094,105.15879,61.49188,66.92628,87.55612,70.08191,81.87409,69.88202,68.06081,84.79115,65.45474,88.78448,64.21068,82.11698,65.5973,76.42085,74.77406,75.07689,86.06476,91.07912,70.82276,77.30906,73.09134,82.60298,70.54403,58.7269,65.51926,62.01137,70.48038,77.40864,79.65265,74.34426,81.60528,69.4221,73.43325,77.32546,66.93603,72.51485,76.53473,116.03932,74.21152,77.73098,81.36313,90.27882,64.92818,75.80683,74.17407,74.12183,75.05752,61.76643,77.56425,61.26385,55.6047,61.69628,64.65085,71.33659,69.35295,93.89359,77.42582,92.38286,66.71631,70.59383,72.79454,107.36352,66.94988,60.67009,58.38859,75.16435,67.12298,82.76551,91.09491,87.10738,81.56779,57.7184,81.81493,109.88377,67.2144,79.86835,80.30917,74.78927,84.60406,94.43298,58.69679,81.83146,72.69962,86.25389,73.82253,80.42193,93.96758,75.21245,97.16802,58.35186,63.45213,69.01823,88.55769,67.65892,78.5189,86.13707,72.72874,78.81074,76.14467,51.837,69.35905,76.22491,74.87653,64.09975,80.305,126.80155,62.16684,78.70132,73.65687,95.00397,66.02368,72.70517,102.66254,70.80675,80.57157,81.71775,71.03377,99.59012,75.70639,101.05368,70.3126,66.57214,83.376,82.12679,72.22657,76.07146,73.50081,72.92814,78.22246,57.64125,72.02036,65.07886,77.6732,69.05758,62.01893,79.27429,78.40975,91.31399,71.24034,85.34805,69.82614,76.30523,66.26182,66.34051,61.21691,75.53171,65.53684,55.2489,79.52718,79.35425,73.86986,87.4314,76.71781,70.96026,68.25876,61.11818,72.9838,101.16821,66.67095,72.59834,76.53154,67.65609,73.23685,86.38521,72.39595,72.9501,63.60649,83.6372,82.60906,78.13983,84.76405,71.02379,108.52591,65.94348,72.91345,94.49777,108.77564,70.35544,73.16915,64.2006,74.76675,74.16732,95.74953,66.5048,78.58193,121.69339,66.80384,83.06054,70.13284,71.63227,80.1218,81.0709,81.33083,77.5688,86.1804,71.69409,73.54601,84.10618,76.89769,80.19263,80.13062,99.09647,75.06437,66.96901,81.1378,73.0481,85.71259,78.39442,66.91654,73.38536,73.49332,100.45373,74.24042,68.99914,62.09655,61.94564,84.9936,68.06827,103.26101,80.47208,74.03186,60.50099,66.05269,68.49805,66.6301,76.52613,72.7452,65.46773,78.21418,64.77633,92.53431,75.41886,75.40493,65.71764,81.077,79.76952,98.67331,63.56559,55.20844,75.25543,72.18975,80.45073,98.96585,61.03675,66.55623,77.4317,101.94779,50.89956,66.47794,87.99919,64.7544,62.68176,96.05758,67.87401,85.75662,74.20336,75.71058,74.55585,99.42294,70.66345,72.25173,95.10671,88.81145,63.82503,70.97308,77.34948,76.85597,77.18148,74.37085,75.0339,83.29176,75.61289,85.34118,66.90067,94.38848,81.23515,74.22729,99.05639,76.5053,66.55731,80.13735,56.74514,76.9695,65.3218,67.71319,80.99848,65.23638,66.45767,63.38041,93.68808,87.86886,76.13987,69.5444,103.24654,73.70803,89.29633,75.01263,83.09485,62.94644,79.32359,66.86273,64.50671,115.4256,72.7101,78.68559,63.81699,88.0288,79.01676,88.65531,53.45301,69.70871,80.14059,70.64583,68.03002,69.05235,82.76424,82.5141,89.0072,74.50775,59.291,78.92151,65.91301,94.37756,116.06675,102.7193,107.48095,65.40002,70.83357,63.3076,91.8335,73.63173,66.82028,84.20509,75.33291,66.28438,73.02085,73.83204,66.63154,71.40316,65.93354,68.87826,75.1326,69.45321,76.63441,56.48376,72.77891,92.6538,79.06787,65.6492,68.96342,66.63337,66.71138,66.08635,57.29016,82.30497,97.27123,73.75128,96.9452,77.64711,69.13628,62.35521,68.71729,65.98956,66.82928,88.27167,87.03709,72.03845,86.82794,72.06164,71.97904,71.44257,79.1333,81.72793,70.27579,80.8327,68.57251,74.7849,79.79674,72.71373,69.2144,82.22158,75.01706,92.76694,78.19443,67.7618,85.93575,70.00322,72.77628,66.6974,75.87416,68.73056,57.30995,86.10076,80.96694,67.50299,68.16942,72.46576,79.54508,87.5623,70.66494,76.38538,92.03167,71.02268,72.86554,88.42763,63.91323,71.51177,60.98939,76.59501,68.43015,64.20444,80.90388,85.3371,76.41292,74.92921,69.96007,76.55625,78.92344,64.15642,70.50909,98.44537,69.881,74.74003,76.61341,72.71716,71.14923,67.37977,69.61727,77.64597,65.08415,78.3078,75.40505,69.17932,63.67776,85.49447,75.66271,75.067,79.78427,93.5479,90.09877,83.58845,73.13661,75.08017,73.69644,79.65622,56.9782,67.74949,63.46967,79.30224,68.88308,90.82789,68.08114,71.6388,57.31416,75.22571,125.99616,99.53987,69.13529,71.65689,66.84006,76.49362,65.47172,87.65339,81.13081,78.70076,73.92719,72.93392,78.88702,72.43799,77.46881,108.8874,64.59057,65.24817,71.75517,77.90528,86.80347,57.37652,59.25618,90.07255,62.74218,65.73813,110.57539,81.80385,67.63936,81.34824,65.44432,75.01134,79.83061,72.9505,80.3358,61.25587,81.5188,74.86295,66.33808,55.48274,77.66381,43.9658,84.73931,68.67453,79.13896,104.29739,91.63196,64.22203,67.67836,84.14836,78.74917,103.92837,73.45801,80.5064,84.81035,71.34243,76.24407,81.28303,61.34565,77.38787,69.80608,101.82434,66.41308,100.72321,71.58409,82.40036,63.77837,68.79491,65.81191,73.09896,79.55885,112.56762,93.80537,69.54442,61.5266,71.89799,68.70406,73.34608,73.12014,81.80927,87.35037,86.31152,83.91609,75.87877,62.47217,71.27614,68.10778,72.56375,71.1649,86.74955,55.17302,52.90596,63.37779,78.55106,74.60137,92.60923,78.12858,74.00853,72.44455,92.16022,66.82525,64.32841,69.31531,77.33897,75.67075,81.97798,93.08637,80.91484,62.29485,67.12888,74.13686,88.63331,82.52327,92.48704,59.75869,74.26498,90.23662,70.33096,74.73265,83.75087,70.73845,63.49278,96.16214,61.37653,82.40264,82.11893,113.07639,78.35279,64.25407,63.82478,62.47103,83.56843,68.71715,75.76761,67.38676,68.54809,82.05473,81.54792,97.51541,66.67465,53.59524,68.8517,80.09909,72.98497,70.99312,75.1902,65.67145,75.67424,63.96993,73.15094,74.14355,82.47311,62.65077,59.89031,71.76927,65.54689,77.53115,80.51478,93.61768,65.7522,96.95612,64.92194,83.52447,77.6616,85.32173,65.71017,73.31736,71.41504,73.46503,95.5496,78.71013,68.46769,67.95839,69.90001,76.96902,84.55041,63.27629,65.64395,73.92251,82.2939,86.02664,65.7556,73.61862,76.42791,69.66745,77.77604,66.72468,79.23622,66.2195,90.62955,73.80129,87.01982,81.75176,69.61461,80.22245,80.35781,66.93865,65.90093,67.62611,72.77936,69.08613,55.8685,75.81826,83.7563,93.44008,91.41814,73.68674,75.00391,70.29831,72.40212,74.69824,94.74514,119.28017,81.50511,88.56704,58.02552,76.96197,72.05502,75.64632,68.18043,70.49676,70.23111,74.28013,79.87823,69.03197,73.34875,68.19174,71.43774,80.84271,70.13785,80.41742,56.1282,76.3484,76.68316,69.99598,81.79307,94.57761,76.95155,74.50222,74.45934,67.57498,67.43239,85.1699,69.36876,76.74027,76.83441,84.93439,125.45756,70.16293,68.76088,67.68234,66.70671,80.36113,105.60433,74.4638,67.79145,73.10967,65.38766,78.65102,72.40069,66.62744,64.36698,72.78766,70.35407,85.31818,78.89279,77.10049,88.84045,70.03874,81.13822,86.26594,77.98687,73.14725,62.63334,71.23286,51.23961,56.41656,72.964,68.19741,65.06806,92.54512,65.40555,87.27693,77.81973,65.26633,71.05283,64.77636,80.67027,70.33634,89.23823,80.36759,76.03106,72.02725,66.26863,73.91995,103.53837,72.62321,92.53757,64.60084,78.49555,74.22091,65.46188,82.88845,66.11182,77.49328,84.20457,66.46744,74.92259,73.34864,81.40661,67.15718,71.55629,73.86948,76.11952,73.59767,72.04832,70.8893,66.16635,70.45151,68.83013,70.62717,60.39584,67.61283,82.45056,74.99664,78.09168,74.6035,101.84634,76.70475,117.8758,79.92634,108.28105,62.86077,72.00908,71.79338,72.19031,112.34278,100.23961,67.01692,72.52749,87.21273,83.95365,70.16339,67.77564,67.01106,75.41635,84.40626,63.07862,66.86787,74.27466,70.30658,91.34799,74.1404,76.32618,82.25656,88.61693,56.07861,70.20121,72.26198,75.14735,59.50298,64.28635,69.20055,67.44339,83.23475,112.23063,60.15646,64.84354,85.23985,80.53135,102.20099,66.89211,75.57934,66.86396,72.47746,82.5289,108.18186,73.42411,64.89798,71.16777,136.65348,65.19719,95.26426,82.84912,63.05324,135.53521,75.95745,74.94096,87.79587,72.89136,117.79417,57.40502,85.02516,71.42752,85.39066,76.59115,83.98681,74.42463,63.67315,70.98325,63.85303,69.27045,79.72666,86.6345,90.03768,81.87417,67.90518,102.4912,81.95789,68.62233,87.62247,84.05383,76.52326,73.94929,70.19393,79.24785,66.90497,101.86952,84.85173,79.52378,94.8428,95.0572,97.9987,93.06871,73.08182,65.53811,70.89792,61.97508,98.78855,80.84868,66.53439,77.44991,74.53111,80.47891,67.78061,67.80242,80.41322,84.54511,86.02087,94.37896,117.06136,65.22479,86.99937,83.66016,78.04858,87.71496,79.61964,77.84314,68.23404,117.3314,73.68656,82.23454,74.17321,96.96618,73.03643,70.83171,70.19091,82.33745,75.20881,72.73743,60.26652,81.6927,70.5083,66.37294,78.61845,79.98638,74.07544,75.66069,78.37178,74.89025,88.7543,81.72531,76.89286,84.16059,67.23846,84.9718,54.80117,68.52309,81.08085,77.14295,70.99661,67.36645,59.92449,80.62248,74.18034,87.36769,79.98772,63.7788,66.2185,91.82394,69.19615,68.56631,87.2441,75.56493,79.34998,72.52026,65.96942,61.27313,71.78654,77.09517,66.16868,72.65394,69.02551,88.04269,69.74699,66.7976,69.26928,56.93855,77.13659,60.0769,74.69182,68.83856,82.48161,65.80052,70.53649,76.55905,93.73575,66.91278,60.7036,78.76031,110.18036,78.99483,70.47896,67.9724,57.45738,85.30041,80.23516,59.74002,73.89613,64.36169,64.76496,69.46462,75.70773,63.03435,75.85259,78.28498,88.19242,82.07164,76.90519,68.62028,93.69623,74.04228,65.56803,97.23301,63.02548,80.01087,105.79262,76.26389,93.97391,71.71078,77.3867,76.65322,92.85216,79.46313,66.99597,67.22041,76.74327,67.04342,62.45097,78.57467,69.49514,80.63155,74.09948,98.09648,79.85205,76.23301,74.95385,71.49185,70.09499,70.71407,74.13393,90.48424,85.1242,72.21293,65.53763,77.88337,65.76746,78.88726,73.75577,69.34629,107.94987,81.74147,71.11836,76.48674,74.78723,80.5057,100.96887,72.35036,67.63703,60.66528,66.1915,102.41093,75.19985,65.05252,86.84197,63.52236,73.32556,88.24518,71.98378,65.631,73.22506,67.89419,71.0962,71.73842,82.25564,69.8375,80.12022,71.65017,75.15414,74.77868,71.51615,73.25203,99.61613,80.5226,73.0239,83.05662,65.05855,81.10647,86.13501,76.03315,82.9856,83.09081,74.36645,93.62262,71.15366,90.14205,70.92817,79.03095,72.83548,67.17492,69.75251,81.049,75.82234,70.48462,63.19708,83.96875,71.68739,65.39156,76.48569,49.92795,68.7388,98.28648,69.0533,80.74534,79.22461,92.63053,68.32456,73.94259,68.76272,70.06243,74.33452,90.85059,71.20825,108.40842,74.09192,68.82914,67.58629,65.35598,88.87283,69.22868,81.31595,55.03338,80.60271,83.97523,63.01713,61.91354,86.97998,58.64148,70.49159,78.53842,49.54921,74.66255,104.12724,79.18001,69.21468,75.33903,89.76521,78.69753,82.02407,82.27441,74.24142,64.95623,71.74911,66.02761,57.83297,78.91193,73.04973,89.78719,70.14939,90.9525,69.981,56.59433,65.19847,83.93879,77.02134,71.94111,68.51405,66.11494,56.1493,70.78515,80.77876,76.17017,103.67386,75.73087,93.32926,77.88954,87.76251,72.69673,64.16249,59.90934,74.5111,66.8672,74.80878,91.88267,90.60896,62.41627,63.48771,96.51062,62.34308,72.1519,73.57941,74.27303,67.74983,68.56848,73.83366,73.41975,68.57828,95.26463,86.59846,65.82836,75.65468,67.02874,85.39708,80.95174,72.20838,78.57592,83.98433,64.42225,75.58839,73.51338,61.79317,78.04536,65.12161,65.09689,83.80445,74.00742,65.51291,63.43485,82.81166,70.98123,78.76562,82.88133,66.70445,75.01546,79.86799,71.50018,68.01723,76.67861,64.98592,75.28628,83.72752,78.01788,88.32966,65.44081,67.18967,61.12657,83.40977,67.0517,74.72073,106.19816,78.49961,72.61836,81.5147,66.54916,74.69584,64.61901,78.67755,74.80516,90.08427,79.78559,67.4861,84.3501,67.04094,80.23582,72.01228,72.41547,80.78734,67.00351,99.47125,68.75451,84.96404,66.91826,69.65588,83.3928,80.87714,80.46466,94.821,76.63911,73.41578,62.80218,62.24479,71.67102,74.68504,65.15058,66.50114,60.84667,88.96467,77.71341,75.74765,68.27643,127.978,69.98413,84.54162,80.96252,76.77499,83.10243,67.53222,75.13231,77.55152,74.43067,61.64041,72.92414,67.88509,87.07161,72.94151,68.28683,86.88095,75.71567,84.34973,75.84905,67.62812,72.60993,68.07623,64.20518,69.55546,71.26465,61.00236,87.44038,68.9601,86.26707,73.02346,85.11292,87.43351,70.91772,61.52615,70.24903,89.49969,83.70272,76.73737,75.23453,56.33485,66.64836,66.29334,69.85568,70.57317,68.81878,63.66003,76.1454,110.55188,68.13795,73.68309,69.47304,78.78806,80.60524,67.43121,61.19083,79.09758,101.80376,67.4186,99.58934,75.65055,68.32983,90.58022,71.59984,68.98958,78.02243,79.71746,85.63757,70.42912,78.4416,83.06419,82.9769,61.2146,80.10254,68.60416,76.70214,77.44495,63.25744,81.65516,72.7328,70.13737,63.42301,64.3043,68.73413,83.81997,66.99308,87.9781,59.31973,105.53225,72.94666,63.40312,67.79801,65.92869,75.2227,72.37639,82.58354,65.14028,78.35157,74.45408,84.94737,72.44013,66.70748,75.68576,78.84904,69.76272,66.19618,82.66887,70.31202,96.57766,65.11163,81.44256,82.57949,70.84365,69.34412,74.42237,51.42593,58.9539,72.49848,84.07371,69.22162,68.84165,65.3896,56.51246,71.73488,64.94553,74.69663,85.13765,84.64235,69.41175,76.37479,76.31284,80.89841,90.77557,85.70205,63.3253,74.26753,85.04015,85.67179,69.85798,77.72345,86.09209,70.86492,67.91671,70.14279,71.97502,74.27983,83.86591,68.5401,88.29559,66.46038,116.37718,81.13178,77.2581,74.44727,74.44574,68.03043,76.63857,88.01199,65.08966,61.90779,71.42027,75.76439,74.73185,88.5002,85.97746,72.09052,69.44386,62.28824,83.41689,67.18085,75.79383,63.63564,73.36939,73.00447,72.35411,80.11591,69.90183,104.39913,99.30832,75.60887,92.16553,75.05894,75.27647,85.00481,83.83889,92.23979,119.10255,69.65482,74.75554,52.0538,76.87636,86.09618,93.46057,84.0049,84.89984,63.04838,63.32106,85.81911,90.9414,68.6851,72.9171,82.29733,62.4473,58.79097,72.72156,90.24402,123.97549,94.93137,62.16125,68.05271,65.0511,75.68899,67.10636,60.8652,85.71278,59.79633,80.63349,74.03443,73.7844,59.11147,107.71079,61.48897,69.25622,90.26703,95.50441,81.7069,69.13725,72.83578,87.15854,72.65933,79.7912,81.33031,82.31431,61.46658,71.69608,78.91416,75.63287,71.24073,63.34036,55.33226,69.47774,72.17051,80.00182,71.05396,67.69382,56.04874,80.71854,72.21128,75.9732,65.27235,85.50896,67.56232,70.79327,88.35013,86.50889,141.61239,68.08367,64.00368,80.72937,79.14705,56.64966,80.17595,76.72728,78.56895,65.45083,89.92862,107.16965,69.13751,55.60081,75.52021,85.83185,67.21301,91.92513,69.65674,66.43722,79.975,84.52104,75.5134,79.62898,71.08775,80.47202,97.29456,72.70794,69.46168,72.63366,66.96754,70.18275,69.13625,73.16359,73.48622,65.17789,63.18508,75.62557,86.8152,86.76555,72.17927,70.87024,85.38846,68.736,73.33985,81.8491,69.43428,82.27029,83.95855,78.67213,69.87401,62.90082,69.51021,76.69861,75.11266,98.86616,75.07885,79.03699,70.85103,53.8867,74.50876,69.79571,117.6067,73.95875,90.99504,75.95117,77.36883,71.45474,81.49093,81.4992,63.95004,65.94589,79.93616,65.79666,65.71383,62.27296,64.21675,80.23444,65.58704,71.41362,57.70491,69.56106,77.24265,94.30883,69.8164,68.57791,53.3856,83.58895,78.59026,60.66693,89.41711,96.56797,71.0001,68.77221,140.98437,56.70374,62.64375,73.30257,86.8989,83.0434,83.22051,78.03437,67.91161,69.68247,70.43059,62.18568,75.79716,95.57576,110.19643,82.65442,77.58314,72.3211,88.09499,59.50976,72.01063,60.14254,80.79099,68.64056,72.64474,67.6758,85.58373,92.35658,67.00107,59.76549,78.22407,92.60863,85.1973,71.04422,90.46112,66.01018,64.94561,97.94224,82.24753,74.80249,62.93477,74.49221,67.87081,96.39842,85.58372,55.35228,73.42731,95.97471,86.97251,73.92899,67.01196,69.05156,110.4873,69.42386,71.15049,79.48005,75.61839,76.88079,67.50963,76.88258,70.97033,79.97063,70.87117,66.12983,89.6123,77.96836,87.94323,50.72357,92.48076,86.32277,85.76124,61.32494,56.43169,72.85817,100.69629,76.29399,65.98784,75.44919,65.57144,79.96968,66.99214,70.68064,59.52574,64.19039,75.24005,67.7742,77.71251,67.74799,69.01525,69.27428,61.76977,75.07526,99.41783,71.38037,85.28062,60.15404,83.30367,75.74105,78.48268,75.75166,73.87687,69.53823,71.23708,63.15653,68.82237,71.273,76.36257,70.86141,82.36577,65.22306,73.86848,55.74413,97.09203,96.96607,72.31813,87.0942,73.61791,70.14811,87.3981,73.34971,119.80031,78.35567,81.06441,68.84571,100.14052,91.88648,79.01855,71.35178,68.3315,64.678,74.93932,72.66341,62.64115,122.10186,67.54314,70.94449,81.45126,70.64212,85.05274,78.63915,73.0244,119.63633,83.94051,74.04856,69.82491,71.20762,84.21714,64.91313,73.15534,77.13718,70.96439,97.82957,75.15554,70.85299,71.95362,96.8791,89.06318,87.46827,72.86904,78.38695,61.5234,83.26538,77.03274,68.32149,83.22171,70.98761,66.58422,78.12588,122.49205,67.47809,77.79159,56.98698,70.24104,61.93763,69.26409,87.83271,81.94832,73.51959,59.63444,59.00393,84.93468,69.40404,67.38775,74.32205,100.78868,74.45354,65.46995,117.42664,73.39812,81.93375,105.3539,66.3925,80.41162,79.32858,70.12423,98.61644,79.79596,67.44602,92.25699,66.25246,63.53467,71.72492,79.67882,77.22128,78.18085,57.84837,64.57196,82.35381,56.33112,69.27795,68.91949,71.0688,79.81406,74.39836,73.44211,66.21124,81.43847,80.18183,74.61402,76.58016,78.22437,77.18312,74.92365,60.51441,75.79234,71.33082,85.45266,117.55821,78.04838,79.87604,85.9625,68.39549,72.90753,76.51115,74.48809,73.68148,109.46445,84.36899,107.2001,72.11195,59.45414,100.5646,69.58905,91.73278,68.44273,67.02866,87.46549,63.00828,67.59839,80.26059,68.43925,72.5345,62.00521,85.9809,70.62279,81.70638,87.29972,71.03419,63.00249,83.16119,87.5136,62.04733,69.18624,84.68453,57.57325,68.27896,109.3399,71.13678,77.023,55.42154,69.92707,88.06532,58.54628,70.56622,76.7987,92.91857,96.16878,62.83109,84.05276,65.22959,77.19163,74.28906,78.33465,73.81565,77.97483,83.57459,93.91139,61.36121,72.38991,70.442,69.3481,67.65288,61.63376,67.68433,74.93332,72.59226,57.23624,66.86111,69.67356,77.04217,68.60075,67.96231,69.79713,76.57135,73.96589,72.03109,83.40738,96.49708,62.10728,63.95687,53.4138,64.2419,98.7017,74.79174,66.44899,89.91642,70.70271,93.01082,76.96449,70.18484,73.40306,80.38521,71.34397,81.08246,65.74401,72.43397,90.0693,96.7442,86.57677,94.88141,76.94491,60.01958,97.68154,75.83305,66.1267,72.04436,62.9917,65.06414,88.20126,66.73111,63.93433,68.43143,69.9034,75.48086,68.38012,114.63818,82.41209,63.56164,74.67808,70.87813,76.25064,83.21593,85.34554,70.71529,71.84443,72.44208,91.16958,50.79292,92.10634,76.91388,75.94588,97.95099,60.83109,66.38952,70.55126,97.62323,61.20688,73.32095,111.77147,70.9877,78.82202,86.27325,68.61654,62.19797,88.08878,80.50034,77.78929,73.90649,72.07548,78.89525,50.3786,73.66451,78.12492,63.14413,101.81395,71.49751,79.40362,56.08082,87.25661,67.65605,65.30578,66.9235,69.12893,70.15375,123.80946,127.47441,73.74706,81.68261,84.66599,64.72391,57.97001,75.43213,93.28919,79.95101,108.04316,95.10531,66.01253,68.63792,64.39393,81.0858,75.06039,86.12168,96.32921,68.55553,67.88697,73.19724,80.48269,74.47047,88.33039,71.01601,74.83648,68.67184,67.47469,86.46464,84.15165,68.22793,80.1015,82.33961,59.78859,86.87621,84.10027,69.48227,79.10417,72.18862,80.66086,59.37462,82.03571,76.59694,77.47323,90.54978,68.04699,70.95076,71.1894,77.23288,65.12554,74.9076,66.31446,72.50687,79.75228,63.79059,80.6605,56.38167,77.14033,77.81399,77.30191,87.85118,69.2457,59.94466,64.80444,77.53966,71.98128,68.68244,73.98121,79.40729,76.21673,64.81084,117.99514,89.5632,60.05966,64.43608,58.42045,64.31806,78.21197,70.22087,67.03787,60.07143,78.25846,80.69186,77.91921,67.08367,67.90247,78.48693,63.83186,74.50187,88.5153,105.28542,68.03965,68.09826,94.15711,65.19585,64.73484,71.39873,78.66149,68.44853,81.04988,55.98658,73.15243,65.46912,71.50279,84.95312,67.46341,90.9332,81.88757,73.57368,70.62895,66.95364,81.48604,89.49196,82.52961,72.85977,62.07191,77.1965,78.38354,79.67416,70.19604,63.9481,72.10602,71.93298,67.73304,88.15936,65.25847,63.47953,57.48014,83.532,68.06796,59.37634,71.71412,83.92176,65.75268,118.58006,77.4681,76.07459,127.29421,89.20173,73.20711,80.38327,93.4917,85.82049,69.79658,55.10467,65.95974,96.11497,90.23942,63.0123,77.79028,86.86145,84.42893,72.71881,87.64986,84.48961,68.9864,64.31684,79.38719,71.0116,97.81618,112.87156,50.50511,69.11081,65.91632,89.68273,67.9658,62.35201,66.89413,81.82708,82.332,92.2741,74.33367,77.32716,61.36836,63.02929,72.63649,87.05104,60.1135,57.0163,72.20411,82.62382,91.63598,83.92834,109.14924,76.07163,83.65998,70.28815,52.66617,77.44229,82.75406,57.8797,79.28336,75.90034,78.19877,111.41048,82.79744,72.25723,73.96193,79.52113,79.0871,74.08595,73.75564,76.57752,78.48662,75.89868,72.43319,80.98039,81.92369,70.81977,75.86884,74.11859,74.09734,60.63568,80.91065,66.20699,68.01,85.977,91.79022,71.82688,100.12629,78.20639,71.83503,86.27289,70.5321,108.72114,74.41776,76.92032,53.63845,77.76407,70.11355,72.74585,87.04478,70.45856,71.36272,68.00046,81.35154,67.29944,69.36196,104.3362,56.19955,50.19895,75.91011,62.25686,75.87041,71.62548,59.52454,73.65846,95.85167,72.47042,99.82191,75.48625,68.81996,72.63576,59.03269,71.62676,62.5693,81.01692,71.06073,83.42698,74.61214,76.22468,73.50195,55.46637,67.82936,59.28469,71.91754,72.5925,68.56695,123.82477,59.2765,75.76884,68.12178,60.11288,77.25666,61.93864,76.58443,70.23572,73.66254,76.32588,62.95358,77.2693,82.32186,97.87242,63.06775,97.30918,66.39465,75.03404,71.36696,87.35949,86.92765,80.4487,76.1132,57.92964,93.70247,79.96849,78.42616,68.84553,68.00426,96.4635,70.02916,76.02835,83.70218,64.44537,59.00547,62.18721,68.50231,79.86871,60.80219,70.2027,109.0236,82.49211,100.67174,97.14501,76.10203,76.36165,77.75322,72.75773,75.34569,59.73641,74.19001,71.11581,70.76807,66.91643,65.27849,64.66995,99.2245,67.83484,69.03473,85.69614,88.97505,71.20721,81.28537,69.74467,88.23349,62.14215,81.96581,47.36615,75.58265,69.26234,67.04379,61.63592,69.76782,90.23187,55.36097,62.84802,86.95583,76.4939,69.37743,82.5439,68.29543,116.46155,64.69887,62.33425,76.01144,63.10708,72.00508,63.98849,76.94291,77.31046,71.60032,86.27499,65.99999,63.47418,57.30645,110.93482,69.01645,68.66271,65.81901,63.31825,71.56316,64.03854,82.51767,64.39753,71.90469,83.26732,71.79922,70.94862,97.78822,76.22083,70.63026,88.15975,76.89491,67.49002,91.01119,82.08875,77.39452,71.08248,64.94445,75.86296,65.10911,79.58773,74.4068,74.58082,65.68966,103.28148,103.55764,74.29213,76.84903,81.14056,64.87176,68.54912,77.39859,74.25125,80.62855,60.41243,71.59445,83.3602,68.6125,97.54917,73.88715,97.14305,78.50625,83.75677,68.36707,77.95177,68.35126,80.84313,91.18229,65.61084,72.18473,61.0009,94.54092,75.26928,59.79306,81.55583,90.57878,73.26641,69.16524,98.21886,91.19347,71.45741,90.89053,79.44497,71.90524,73.99127,72.83265,69.60231,66.15326,73.20116,61.45713,77.79186,114.26648,83.41833,63.39242,76.30212,74.3398,91.5374,73.59519,58.03781,82.17995,63.03352,70.89736,91.87878,56.44878,76.92561,79.35855,77.03869,67.46849,62.40512,76.73951,101.71011,83.78985,72.32361,73.9399,88.62312,81.81795,71.7089,73.48441,59.38979,64.6218,68.28744,100.31614,64.66539,64.68197,60.82966,61.46006,71.69183,65.32594,109.82406,81.35487,80.53485,65.81807,57.86661,76.53518,63.62639,73.95983,80.56905,91.66881,72.74711,74.53751,90.74285,73.22429,73.72067,70.85028,91.52937,70.76688,78.86553,70.27693,73.37873,74.14497,66.49726,74.8436,81.65008,68.2399,121.38919,73.74958,54.79692,80.99319,84.08231,70.95377,77.77647,82.22931,80.41566,71.43109,60.22599,73.89979,62.82194,59.93016,88.67864,66.34211,63.58135,71.35607,80.93919,55.90322,85.53374,90.57139,95.22886,60.63233,75.58685,73.28597,69.89597,78.60892,60.46801,54.98698,73.75034,77.03086,74.52399,78.16258,72.96686,107.71527,73.8365,66.2262,72.73165,48.79577,76.27992,86.38016,58.5641,76.65928,68.54751,75.59118,100.00965,61.97133,71.32008,79.96168,69.29428,76.59533,73.36711,70.71056,82.14288,75.29018,112.85019,83.99109,71.11627,98.61889,84.3116,86.97099,63.81176,70.55435,76.55444,81.64564,81.09001,60.97871,88.71478,62.85334,92.67704,90.63348,88.50653,62.26128,70.5203,75.85959,59.0167,72.00249,62.05556,79.64551,76.13941,63.7517,76.56783,85.20666,74.31654,83.27405,75.67839,113.55762,69.79263,63.59017,70.12031,81.21624,72.59189,62.14451,63.67124,71.3639,54.12123,74.14873,70.11239,71.92616,77.01785,73.05169,83.98829,78.29191,70.33838,87.6388,73.90107,68.5281,61.14067,73.31392,77.9574,86.0954,114.10478,90.3388,116.83453,74.79177,75.68045,57.98882,76.79343,78.21675,66.61959,93.02866,88.94247,75.86656,64.03388,90.93952,70.01698,50.7853,71.90902,79.78793,73.38722,75.69376,68.71933,59.01679,80.71023,74.70574,80.60762,79.80656,73.78014,92.81045,71.02216,69.65131,91.47206,58.67602,75.47231,79.31317,81.06014,72.31098,86.91693,73.56232,122.63264,61.55824,100.35456,75.54753,101.86404,70.43923,61.81247,62.73203,82.91576,87.45162,58.71615,71.72299,64.37756,91.258,89.14605,73.46586,71.77267,71.17728,64.75637,65.66708,75.2385,94.63173,72.48807,72.34232,79.88092,85.00277,75.11931,75.81527,71.21096,71.95669,73.30697,73.57528,65.94999,70.89968,69.48684,79.3885,79.94832,75.69758,90.67601,69.93833,53.22008,73.91378,108.33516,63.19518,63.072,61.7414,72.85317,72.1622,78.78521,64.84622,65.12137,73.91554,84.71806,67.17988,71.41802,76.84545,60.72658,80.46403,90.77162,89.41292,97.03835,65.40063,68.41512,111.37258,75.00237,81.1256,88.56439,70.29696,66.7442,65.97042,64.51877,94.32609,62.12936,69.25695,79.15019,58.66131,77.70281,64.33561,100.6228,72.3248,73.90106,69.66491,74.12359,68.33244,67.18807,102.1655,88.36432,83.50715,80.94479,75.22316,64.31751,82.10133,70.26401,78.40878,79.56899,79.79052,74.12886,81.70912,82.41408,78.5247,64.90176,62.9914,64.0773,76.7437,70.54162,65.93257,73.44994,64.7427,72.27147,78.53363,73.17869,71.96342,59.04113,70.71664,100.73195,71.92871,100.26217,68.62597,82.626,89.18969,67.45065,59.98565,78.73381,82.88721,49.45494,72.69441,56.76708,85.34838,76.48062,67.09192,71.37498,73.26993,68.59975,58.72951,60.14212,75.57182,101.42992,74.66854,73.53513,60.53881,73.53301,79.31158,79.45236,71.6805,77.57637,74.62027,71.19952,96.70799,78.53438,73.65161,62.64013,71.57323,82.44484,67.03822,70.11154,70.16654,80.08871,89.38212,71.58076,79.52804,54.62047,82.8168,72.74479,75.19696,63.8712,74.97141,77.3656,69.60565,97.40074,96.13915,91.98468,83.80438,74.20707,79.27523,59.6365,63.4779,74.34377,60.23668,63.77678,67.12832,80.92806,80.15708,79.05901,98.78592,61.26253,88.3107,60.28841,80.03525,81.06539,70.63717,62.84409,88.54327,79.16011,77.67147,60.98031,78.74743,79.24759,72.11373,98.87176,61.66149,66.61354,67.70524,76.63243,76.91052,69.02151,65.65179,75.61056,93.11733,74.3214,70.20622,69.70505,58.33469,89.65694,58.43244,88.8648,72.66088,69.65528,84.65647,82.51202,84.93007,69.81691,71.2824,90.68017,75.60139,79.53402,75.88662,91.72708,62.08507,70.60268,77.92415,70.43226,104.24563,55.33684,76.67408,73.37992,76.75156,83.29492,68.817,85.93123,74.75739,69.63379,86.05649,67.43361,88.89599,66.64369,82.69177,67.64247,74.48816,74.08809,91.14761,63.39016,76.22737,69.47971,81.63342,89.80686,76.63065,73.54646,81.09054,87.51327,74.41416,89.73346,134.91737,72.39012,68.49505,71.85313,66.5179,60.16837,65.04311,58.66595,71.11433,71.77793,65.37784,58.52755,62.33482,69.67351,67.66577,71.99427,79.90363,77.89848,60.24967,81.14172,68.967,78.95437,79.22065,76.67582,73.62988,67.77702,114.91544,67.15481,66.16822,63.44034,75.26114,64.7155,80.53539,52.78258,66.8878,67.83009,83.06184,71.71142,73.15841,88.60782,76.93481,95.4742,86.41245,107.77418,70.36921,90.30643,79.1151,69.86635,62.9649,80.78946,74.25719,83.13089,81.68662,101.09139,64.6401,69.06319,66.01961,77.90197,68.66662,66.16078,75.94252,65.00504,72.78611,52.80639,87.54803,88.33332,74.83139,100.50875,82.33843,77.82395,71.97732,72.45207,70.55044,65.6951,77.95171,107.03756,78.18414,81.95968,63.11178,71.36785,70.0321,69.72289,86.74377,74.37962,75.20602,66.32899,71.72504,55.21631,84.61591,74.43228,79.23318,72.64834,113.55133,63.09046,112.52607,119.17975,75.88593,65.64509,78.40452,75.31346,71.38313,98.83045,69.93001,66.25492,63.83193,83.06682,75.22768,86.32818,83.76637,111.31325,88.82068,62.11167,63.21168,60.11898,65.70856,68.10588,77.35362,79.70792,110.97677,70.334,74.25184,83.27352,65.23296,69.82299,76.99805,73.80743,71.86279,77.05641,83.07369,90.24004,69.62638,76.8101,70.31237,68.38272,75.52645,83.76768,73.89677,82.55761,80.40487,85.91472,81.75555,75.27631,66.88799,65.72971,68.12459,62.00824,66.19812,63.05463,70.78349,75.3131,93.81037,76.57738,71.8556,74.64987,53.70049,63.80018,77.86275,118.44193,85.60106,79.75811,82.33781,78.95984,72.14486,62.26075,60.78553,66.32174,68.178,71.09557,59.44124,74.78403,65.99336,70.96429,62.82963,78.09155,77.60875,74.10778,80.77497,91.4129,75.92596,76.13057,61.22393,67.95294,94.09541,66.0222,90.05989,68.82173,104.55958,70.35499,67.50439,87.60168,60.53036,67.10112,64.01504,103.94165,71.37727,72.77913,56.37974,71.32841,87.65723,78.16155,94.34023,102.94868,78.91196,80.20138,67.73165,78.69512,107.84095,70.80132,82.86178,78.36269,109.22887,82.83288,68.41753,103.5253,75.38808,82.30899,84.30383,69.058,87.10126,78.8562,66.1442,72.43886,66.69142,80.94385,69.75474,69.28862,77.36016,62.26362,82.61451,70.09576,117.80286,77.84041,79.58194,70.20475,86.07545,64.24264,89.33325,65.11759,68.81033,51.17732,80.66685,64.63379,61.90876,64.62697,78.98646,73.88991,75.95271,71.32825,65.72131,59.74665,73.97444,83.87736,73.44645,67.91182,63.71286,66.84985,54.10956,80.39445,76.6451,81.27934,75.5765,86.48285,66.06093,73.81474,68.28302,79.16528,84.4121,70.48717,76.61809,71.47888,73.20907,67.45083,83.48312,73.2196,76.10908,78.86631,67.89786,88.54185,75.0162,90.48457,85.35955,72.85403,74.12826,76.81976,61.67277,58.19377,70.8233,120.04156,77.53934,66.92912,68.76423,66.48857,82.99249,103.81431,80.84992,65.54502,65.88864,71.93173,87.74839,67.23897,55.77658,61.19811,76.03149,77.17939,69.88287,75.79596,62.42341,87.54592,76.60454,72.58034,78.00341,71.78982,67.65796,68.56349,73.76823,62.88962,79.15553,78.13928,81.10739,90.20076,104.795,66.76623,68.71093,60.15878,81.81636,73.67871,85.45943,65.45829,66.18295,64.68105,66.95636,75.58633,69.93736,74.16077,60.13861,75.73974,68.89688,63.83282,56.99785,66.04296,113.96044,72.29742,67.16917,82.39557,66.03982,67.65482,77.73442,73.0342,71.01663,64.56773,68.98262,57.24834,83.6053,74.189,68.5892,102.46387,74.17593,93.91183,74.9291,83.41773,66.12751,71.67054,68.07025,104.54178,81.42216,74.70218,85.91269,62.278,68.55093,85.51601,94.65655,80.44479,74.09912,75.01219,72.40702,99.35604,89.68751,62.16517,70.52435,68.11288,105.25333,86.97018,82.41361,77.33277,68.37086,67.75166,64.45384,106.71557,82.31711,73.70549,63.82069,72.15421,68.54948,81.93576,72.86176,60.15805,70.49848,80.81939,74.62872,76.04562,82.41096,50.12257,60.60555,67.84041,73.90302,69.33817,66.41462,69.72596,71.78568,71.77362,79.79213,80.76491,76.55361,85.62454,71.21615,62.96985,68.86403,77.11421,70.97185,51.46809,72.49628,67.69052,77.26872,94.7906,64.8039,72.61309,62.75415,97.43756,62.99295,58.3725,70.34915,80.11101,61.89716,109.68576,76.29626,76.49448,74.02988,77.75999,60.93894,64.56098,76.26346,75.07019,70.06,67.06271,70.84835,58.36113,73.27639,86.65913,86.84758,72.94656,68.66235,74.1134,70.44677,74.0412,73.86672,80.01464,72.29788,79.01346,59.22156,63.5722,58.01205,77.36679,81.66504,73.97843,82.74129,83.84527,66.39536,61.21727,75.68845,74.97421,66.62493,72.00464,64.49314,69.92749,74.55593,73.16322,74.68075,70.33901,64.579,68.90849,78.42821,81.71453,85.68099,82.82328,75.5414,82.98468,98.82872,69.30036,76.45517,71.48046,80.74125,61.57052,87.65177,55.13225,74.34733,73.34901,73.01759,78.78597,71.58847,63.58318,72.9502,61.86615,68.49744,104.25541,69.09024,80.39971,80.71058,67.85628,61.70931,60.87967,64.80732,72.4353,63.82978,106.92225,86.08077,77.96646,74.29907,90.30759,79.11407,70.22772,72.68905,106.59697,76.43759,70.81751,86.36874,109.05739,82.30118,66.25517,97.23762,80.86294,68.19369,121.7914,75.37582,75.06413,72.27886,68.97809,58.86403,93.30479,87.12259,72.21383,84.98077,91.47181,86.4657,67.39357,117.02685,74.19674,75.49186,71.30256,94.04926,78.54987,85.3233,76.08017,85.60155,81.7062,77.08853,98.66193,69.84142,52.22558,69.0557,62.13311,71.7555,77.05013,77.52516,83.40022,69.50273,69.33424,69.8823,66.68099,61.88822,74.51585,82.04481,83.94635,64.6878,104.26443,68.19558,89.92028,92.64776,60.06554,66.41488,80.76942,77.35081,75.83819,92.78479,70.49338,78.70725,54.93942,102.92705,79.30688,84.88963,93.32106,75.00163,71.30776,79.70801,72.02347,66.02602,63.96307,76.42056,76.81174,82.36288,99.01727,71.59468,70.44698,63.8119,89.90825,58.26989,64.3854,65.16948,74.28117,107.58485,60.89688,69.25556,78.48174,59.61365,73.5525,68.53173,99.53176,72.302,104.23591,66.96521,73.84825,72.37157,56.57575,62.50491,88.57429,75.54233,71.45777,83.10082,76.45804,91.95367,69.68027,65.69454,78.49951,63.48181,74.10369,72.45695,85.37067,60.08254,74.99061,71.6676,78.04433,59.78917,66.05711,83.65929,57.96047,80.46469,75.60068,68.11048,78.86076,56.93978,83.21882,75.49461,71.80788,78.53397,69.50912,88.53647,83.62519,106.70516,84.08935,99.42586,85.20125,93.32836,64.04521,70.88841,84.97122,69.50921,77.75698,59.46615,100.25121,70.04879,74.14299,112.21593,70.15184,86.04492,72.89863,67.52211,68.96396,76.1774,81.24452,79.46443,117.25631,81.61612,56.35852,63.59951,72.47077,94.77133,78.35508,75.50997,92.50414,83.91092,74.33149,79.79624,75.01455,76.47558,74.9065,74.38828,85.81436,74.77774,68.64437,59.98302,87.69123,74.70234,92.36786,70.50973,73.76077,101.20743,76.04788,82.29061,74.32959,117.95943,74.57274,73.30294,64.71148,68.89199,73.36462,78.53111,76.35718,94.22128,76.40357,90.13547,90.22865,77.02377,70.78053,71.56975,90.39867,116.1812,59.07509,75.78817,76.7886,89.48009,73.87139,64.72766,68.42884,84.41174,71.33078,76.68093,63.33824,70.51247,76.02939,64.51256,74.29634,75.55993,81.35894,84.04139,68.23965,58.89826,76.01348,72.28098,109.49491,56.38956,71.48268,78.51132,67.97032,76.81337,77.73217,86.83399,77.79592,80.98346,79.11251,70.24573,65.69654,69.7861,67.2614,79.03236,59.88825,70.52567,76.53815,92.49308,58.12707,66.98748,73.7467,81.76326,68.12207,82.81663,72.30247,58.79916,63.11089,69.32422,62.31858,68.68418,79.08596,82.13734,76.20334,103.45237,125.35854,68.66519,72.50829,79.81581,94.38993,59.52964,69.21898,76.3481,75.67722,99.85006,68.87743,76.28494,77.87907,77.0682,69.75724,76.19423,81.72707,93.48178,72.41534,55.48129,71.65165,66.55671,76.03092,67.48351,73.43215,88.69917,57.26835,74.30538,82.52251,103.24564,69.92473,80.21953,67.6277,74.70457,53.7068,89.0189,63.38194,78.0958,75.80736,78.3906,91.44232,76.92739,82.25407,76.36015,58.50097,69.64464,95.09274,75.4731,88.8479,71.11371,68.62757,78.89475,68.40406,73.57222,73.10501,54.42165,69.36794,100.14633,83.53501,80.90623,69.42411,78.9978,76.31661,75.5972,82.05608,77.32335,60.76301,75.13576,71.3239,76.39476,77.54617,83.35662,68.51062,79.81978,62.37123,63.47249,121.91926,81.2197,73.54331,66.22363,78.76505,76.41999,65.22312,62.9449,79.76567,90.89152,93.21092,65.33679,78.4469,77.26326,57.29313,58.30666,67.47118,65.10319,68.66053,71.05248,75.29516,63.57847,73.1499,67.70733,71.66101,80.08921,74.10626,77.4383,64.97089,71.65786,66.43427,58.21304,68.87166,72.12241,59.05173,74.11943,77.82732,75.63812,77.35275,74.54963,68.47735,74.72674,60.45538,101.44916,54.23373,72.60008,72.3603,58.16571,80.15876,79.45775,62.73575,77.59236,76.60278,79.71732,84.49696,72.11123,75.95916,80.69092,85.50247,79.15901,66.13461,74.03661,80.82316,74.34466,51.30425,77.00792,79.6372,84.94983,70.30908,64.1628,73.34645,88.95379,60.86289,83.7103,68.84275,80.40532,83.13751,78.9049,70.42239,66.13287,76.26822,69.72535,71.55801,69.3307,71.38976,78.56718,72.70563,67.42617,82.93274,83.31691,68.85083,67.99054,73.31829,82.19957,76.18392,74.2226,97.87091,96.65411,74.88789,66.92592,65.59639,74.41407,72.04361,58.65515,55.54556,64.3961,73.63255,72.79681,86.88094,116.22886,76.17593,68.4075,78.6365,73.45405,75.33175,77.72675,68.92741,79.50709,64.97659,68.58413,73.7564,69.70489,49.79589,56.60372,66.93998,92.66332,99.11237,68.69611,72.31774,84.58981,59.75089,73.33192,81.59179,81.30084,82.55328,59.63326,74.04922,72.95206,59.55765,71.4153,57.87394,66.46916,67.27592,81.67484,67.88447,76.50715,77.42674,60.27591,79.042,71.13933,64.0754,84.34764,82.62011,56.31522,67.78485,65.17894,78.95416,70.894,71.60759,60.02599,120.66942,125.72985,120.93877,83.49327,71.63363,59.21831,70.48116,67.80274,77.90319,68.60876,75.28561,76.87005,74.96688,58.08524,74.33056,64.07769,128.97722,70.01989,75.86688,82.28419,72.84816,73.16032,73.95731,73.08447,63.82681,73.26407,74.97202,78.09813,84.02503,65.69781,79.27727,96.18855,79.61305,69.40178,63.27112,67.56901,70.34222,74.03583,65.37695,119.59055,60.76743,57.91209,69.6946,61.0615,62.94745,73.1469,75.45614,116.24477,63.33031,80.1437,84.99119,77.04225,57.59937,92.12839,82.47788,82.07575,69.23978,73.14287,75.17451,82.68138,75.41489,83.14341,76.28884,83.64493,85.83605,78.52776,71.5617,92.41279,68.64478,77.08636,85.144,81.52729,96.11274,70.10125,87.22689,72.255,58.77256,82.1575,73.14398,82.94678,73.95919,75.28011,71.92337,77.04463,74.32757,83.66926,73.22797,77.23507,77.23064,73.81046,84.61069,72.17782,102.20773,72.94707,69.68112,74.1516,56.40214,67.62148,86.74279,68.9519,70.2572,76.69023,91.55636,79.74279,63.75724,89.18745,96.61066,79.25428,69.28932,65.97094,90.0579,75.51223,75.42329,97.11179,70.76609,75.45043,75.59655,66.74083,59.71887,76.68038,87.11737,55.95509,85.2383,76.78686,68.89926,67.26937,74.98371,92.90309,92.15334,91.44003,70.83538,64.68166,72.06534,69.98434,78.6034,67.55994,78.59652,66.1555,76.74113,75.88262,63.74243,75.44934,87.7465,84.8921,68.81017,75.76174,72.36579,74.29503,63.08698,78.46224,102.87801,79.91791,80.05823,76.80826,49.86074,79.8576,79.59324,73.09715,71.63722,99.45222,86.33046,84.98915,78.01926,70.19824,76.25859,88.63531,64.68124,92.61609,77.83161,74.28331,72.65508,71.75214,84.29063,109.31379,116.82809,57.41017,55.91468,84.3736,98.82995,69.99786,72.96325,75.19794,61.74097,78.50669,68.31578,73.98197,73.09924,57.65352,71.49544,74.64833,94.82677,65.99511,66.37753,71.03078,110.54531,110.76104,72.07983,75.9206,72.33449,91.46589,75.523,67.93373,66.80102,71.01556,81.77415,83.87574,75.01289,88.26999,106.67475,77.51427,76.00594,76.34749,82.78845,65.76982,58.65487,66.75189,73.17094,60.42657,81.61062,73.77578,52.35092,74.09515,70.98559,65.34141,73.13095,85.84555,60.96561,70.62715,76.67513,69.16534,81.14944,61.79279,81.23742,81.87572,69.84733,71.26619,62.46321,67.72604,83.35614,79.93161,76.70175,66.46175,76.47376,78.84429,119.62774,76.74649,73.72671,73.11609,83.46639,67.89894,71.11068,78.3081,86.87492,82.03169,76.04981,78.91473,72.32168,72.06952,76.25841,114.0246,59.16874,100.06656,55.67891,72.93733,92.52859,86.51554,65.96739,71.58994,80.57581,84.06026,77.31684,78.44892,75.2351,62.74009,74.47816,62.59407,73.57646,80.23402,65.98474,58.51682,98.81965,78.53875,83.68355,80.66017,72.67244,80.92597,80.71582,60.29495,70.04095,75.80692,78.32544,59.79329,62.7799,61.10327,80.76469,69.1194,94.09096,78.35824,61.85419,77.39228,68.30487,96.06897,78.21476,80.18375,67.09111,67.12815,95.94393,109.16043,69.70429,83.91819,71.56395,93.41927,60.64182,71.2208,99.63332,121.07333,84.43931,74.24097,85.77692,72.80315,63.4637,63.34472,79.46851,101.50889,93.0496,72.1816,93.40414,80.27878,73.93645,69.97476,66.06652,71.93575,69.0053,66.82719,76.42236,70.48184,77.57489,72.83856,77.75099,81.43311,97.72275,82.49398,54.40128,76.95647,75.83005,76.3588,74.53672,74.07656,66.89419,74.88575,104.04551,71.49058,68.76337,75.21265,78.03221,65.14647,84.07525,106.57978,67.95776,59.71831,117.32693,65.61071,72.39196,76.22479,73.68942,80.54654,66.40378,81.88251,107.64186,114.19818,70.46291,73.42527,86.01549,68.01579,68.97987,76.66913,127.20733,77.01737,111.35857,95.81246,71.63441,103.89711,75.3926,57.22223,66.83481,70.17282,117.31543,84.11636,88.82144,64.919,78.02034,73.03616,59.06084,78.80644,80.63576,81.30368,83.53068,85.99164,74.13901,81.70661,92.40436,72.58303,71.73092,68.77563,58.85518,58.10937,85.85412,88.62248,62.70556,78.26133,52.23455,73.06237,100.11891,73.809,66.80855,85.9268,89.11857,58.38371,80.69379,80.72918,73.2732,64.81458,118.75747,80.26362,97.21016,62.61905,70.22774,67.6019,64.88401,77.59084,80.44101,79.25904,73.48601,62.52899,75.37253,80.36451,64.94306,72.56555,80.91195,84.01436,80.19714,70.47835,73.42207,75.7722,76.17975,63.84944,62.99629,81.65962,70.33912,57.27698,65.769,75.94161,68.02315,76.06149,69.54626,60.57261,69.20917,117.57343,87.55669,75.89261,75.10495,67.04253,67.74495,67.64248,82.31839,81.86665,67.74934,67.7535,90.06598,64.23454,85.72736,61.50191,79.49753,76.30474,72.1133,78.44876,65.46809,68.58189,77.19029,85.4997,66.86565,81.55608,103.40132,85.37863,54.97567,57.89085,101.65452,62.41813,66.69634,51.72293,73.47311,86.92255,71.89114,96.66887,71.55304,57.71184,78.5274,78.35675,58.02508,77.47813,80.11404,83.92871,62.98157,63.67252,71.74404,84.93714,76.20828,71.04797,74.79145,74.17786,76.08045,75.63537,77.53247,78.32369,76.53045,99.20842,76.59459,73.27247,95.9888,71.92346,90.73978,91.41224,82.41095,68.61197,79.0226,58.26611,80.95709,76.69535,72.06108,74.20317,79.72158,68.71863,63.1474,67.96476,67.97323,74.3238,64.27977,68.93241,73.91022,85.76872,89.84772,74.05658,88.79796,70.14625,78.67906,76.24829,82.81053,81.81958,100.80722,62.48728,68.27395,78.25663,59.28858,72.02446,72.47133,75.7541,76.78934,72.29163,71.91631,67.30908,80.38459,79.26476,62.53239,77.71351,77.90982,71.96662,74.7827,75.26176,80.01288,70.00646,83.39181,70.22019,74.24758,77.95666,80.41545,100.18464,70.73034,103.89929,70.50404,66.10486,75.42304,86.41508,68.36844,110.8518,76.36704,75.28564,69.61643,120.874,123.77956,77.06159,103.6607,79.74318,58.27634,74.07232,86.6356,92.11418,68.62347,74.25846,57.3623,60.26211,76.42217,81.93788,76.79684,78.75953,71.1222,73.55295,66.4324,75.56821,64.95462,68.83194,72.02745,87.85835,109.84048,74.36858,72.90134,91.98398,71.91109,67.20231,71.96634,82.84266,64.67286,62.88915,68.4156,71.58872,78.66197,63.57382,70.54705,65.3914,88.62216,97.40724,72.1678,68.25131,77.81106,72.14858,61.69907,69.51808,83.7694,63.29534,79.67417,82.42478,79.70708,69.06192,65.94449,74.26169,90.63378,113.85505,54.18148,57.69577,74.06762,74.38534,63.99682,77.10019,55.73576,72.7854,81.2509,65.41841,73.39949,62.39819,71.17027,63.2822,79.40416,79.07527,79.57141,91.11305,85.87701,80.71194,71.01377,75.46803,73.47837,111.20212,71.0972,74.81862,66.62738,80.39154,82.07817,77.12543,83.23819,79.73233,80.58681,75.44642,77.99247,79.77221,84.55923,71.59532,68.12332,71.86129,76.46289,80.7915,70.28301,87.04073,106.85491,80.0259,70.85784,74.45197,67.72495,71.07387,72.748,73.2084,68.92906,73.24939,60.88668,74.6598,61.43669,84.07939,73.6996,54.21431,73.19939,66.64524,81.18619,67.8686,77.22106,84.94845,74.96697,88.25338,75.42198,75.59033,69.03788,68.65795,65.56215,69.26295,84.74473,59.10018,65.11336,67.53127,68.80277,89.77087,74.11531,78.99024,57.04636,89.41994,61.55377,76.34067,58.22038,97.25096,71.772,70.59804,66.75761,79.79246,76.47223,70.46304,81.08028,90.54138,98.18249,80.53273,110.43725,88.18037,58.78999,44.55507,67.29815,82.44498,81.26333,70.76653,69.36024,76.01935,63.92419,57.06991,84.54431,82.32988,80.22118,68.6783,79.52782,69.56649,75.31523,77.39156,90.20229,77.25319,108.22888,79.08602,102.19802,64.24351,63.15679,76.06721,65.021,67.5495,72.17105,68.60029,67.29401,103.49001,76.55712,69.44983,91.79265,85.82911,76.83799,61.21551,85.08809,76.45767,84.14922,66.21183,69.33702,71.67756,82.2852,72.33168,75.59779,100.09088,80.7028,80.05545,52.90383,71.86762,81.19065,63.78814,71.64887,73.29808,69.47608,74.37043,72.41466,71.97103,72.03102,62.44234,78.71424,65.39472,66.08359,64.85595,71.37168,89.45351,66.00738,76.10321,76.65543,75.25361,73.87179,69.61418,76.50162,71.85658,85.99988,73.74047,99.30498,105.16927,64.02405,81.37643,96.34818,78.65458,92.32119,86.13277,72.85718,87.45744,68.7378,63.0334,68.7704,83.52981,71.40021,77.61761,83.57678,82.23087,58.91048,76.47058,63.47612,55.12061,77.23924,70.07121,111.07161,76.32333,75.09426,67.54311,108.57445,65.90464,72.61958,69.07561,77.47095,62.25684,78.81963,63.73063,72.12075,92.0933,57.23385,67.8871,74.87777,72.25904,69.72265,92.94689,76.01602,65.28735,80.81119,76.58821,90.12057,71.97521,70.68266,86.64838,83.79923,68.32852,100.33829,67.63641,69.63985,74.54341,87.06549,66.86913,70.88124,65.7412,74.1901,96.53759,66.14531,74.54495,64.67305,79.22516,56.073,75.19348,70.12274,71.48379,75.8099,72.83073,73.76951,74.20904,81.87727,121.68728,76.58337,80.68615,84.02271,78.69005,66.57095,69.53222,53.22246,74.35304,71.8765,68.59542,77.15994,63.6115,71.70234,87.51124,82.18537,67.33549,65.5257,88.6288,60.10013,85.40661,94.14224,89.82749,78.85025,83.03272,73.87899,63.49787,70.1937,78.72685,78.28673,100.38904,79.50389,67.92758,70.98174,97.79793,82.48388,83.63445,82.33693,74.42559,94.87196,85.48854,83.06816,103.70183,64.06448,96.25457,76.35575,71.97884,70.16238,66.64458,77.0813,77.47739,71.16384,72.02911,80.06477,93.88425,85.06721,113.23248,78.47931,67.90618,77.82728,90.95422,71.18417,67.66127,69.66693,77.91908,93.44397,67.54193,62.68972,74.50061,85.48941,61.08983,66.32962,78.03768,71.23586,98.75399,67.06494,101.95975,65.35968,80.08296,62.45613,98.19362,70.86979,81.53042,84.07861,75.40102,76.08855,71.07872,57.75887,63.56368,72.12517,83.85235,61.05488,68.54481,77.31513,68.45715,73.85802,74.15984,86.35612,66.18633,66.81012,66.15838,72.73283,67.59167,120.89762,72.09259,59.78568,53.36338,65.88535,75.57072,78.44202,81.98194,56.49097,92.39905,81.70012,79.38003,69.56,91.63651,76.36578,65.77604,102.63249,86.4804,67.9951,67.69175,66.32127,75.47931,83.41494,73.16209,75.86945,69.79178,68.07655,78.48949,64.09656,68.50871,77.64957,66.4745,74.37999,72.32364,64.60845,60.36774,94.66437,81.79066,75.01828,83.83902,95.65153,78.74425,54.63351,103.45134,79.01407,66.37273,83.45298,60.63394,65.29888,77.7228,84.41845,84.52285,72.12783,78.89177,65.7101,80.86557,77.45403,72.62311,84.81655,62.45155,94.75911,65.84912,115.60748,58.02271,64.50691,76.58093,66.50095,85.35514,56.82348,80.50369,71.00996,79.93584,46.09247,65.34256,82.39569,53.93405,69.84742,92.01868,68.43235,81.70725,77.85147,86.33339,64.36367,72.31182,58.25867,80.31926,65.50399,83.0882,58.6275,76.80054,69.9394,83.72865,90.48315,75.73582,74.10704,72.87915,63.09019,72.60255,82.21946,82.22212,60.63353,69.95681,74.31139,74.72256,82.16472,64.05017,88.79777,58.64686,80.8561,76.50013,83.15693,64.50834,86.96855,73.94473,61.50184,79.78593,65.76592,86.21114,73.40365,63.32076,77.66143,82.13667,74.17804,76.86774,73.62895,74.21389,90.48569,75.00381,74.47872,73.07588,67.44758,116.35864,76.52242,103.16995,74.03584,78.53286,77.88633,60.30713,81.91494,63.81632,73.42553,73.02966,84.48943,77.15137,80.74739,69.10625,79.11911,79.58538,75.75405,73.73199,61.48889,89.71234,82.16798,77.37675,73.42127,61.15089,58.8217,73.87498,82.68042,79.78612,69.63286,73.89479,123.5333,74.03554,68.92376,78.80568,102.63097,77.51581,61.36426,72.25809,72.46177,76.06895,96.93893,69.30109,68.08926,70.48397,73.84291,79.06545,61.894,59.46015,73.56801,78.75793,85.51672,69.30064,60.07709,75.15015,59.75511,77.02473,85.51806,58.17201,76.25574,68.76018,83.67722,69.04852,69.80498,72.19712,72.41475,64.50106,69.23335,70.71941,71.59273,72.57034,64.51097,82.31717,72.58482,86.41872,76.53819,59.94205,69.97409,73.4853,75.89028,72.68789,50.61922,76.11781,75.32353,63.51083,74.24989,74.55703,90.99053,66.56875,73.17812,79.17727,73.29314,90.04739,83.86669,78.13508,85.42036,78.61477,68.45598,69.34185,79.75232,68.35999,76.0996,74.894,78.8148,85.60911,84.75953,114.54107,91.01014,76.41439,66.3629,65.99913,64.19464,53.10645,60.79151,86.98882,83.49837,79.5997,78.57921,73.96442,60.01542,86.74295,91.57239,82.58394,102.26762,85.5032,56.58864,78.22828,67.33483,74.04369,66.79476,83.19519,77.09293,82.71689,73.26934,64.53594,73.57033,64.6824,69.30215,74.32642,64.54033,79.3541,88.85726,66.28007,79.41596,70.9046,88.62466,73.41411,65.34173,83.12153,71.29155,77.50649,64.35194,67.77852,66.57417,87.53887,75.79232,85.82089,75.86779,68.11111,85.3765,121.37065,71.97968,83.86112,83.57113,61.01481,74.85431,85.17043,83.69195,84.077,76.6751,71.43601,87.24353,72.83415,75.39825,65.68409,55.16829,57.38017,87.70328,74.54559,81.03148,74.24681,78.00799,67.07458,69.51901,69.84332,67.75393,81.31664,72.69526,70.61019,87.49462,74.11494,70.52485,82.81141,71.05724,73.77448,76.47621,70.64219,118.81013,72.34019,73.08504,73.71055,63.29754,68.45134,80.75617,72.95264,71.0883,67.22152,72.47608,89.15387,72.84253,76.24149,63.88388,112.21218,63.77474,68.22687,61.05839,65.49779,62.42211,94.21335,69.11156,70.13466,80.81184,81.17157,69.23697,89.83824,129.18149,76.01371,66.37402,73.88294,74.88513,85.88685,62.72049,72.01466,71.36934,69.90652,94.08581,94.77935,73.78809,72.99901,59.93488,88.44456,60.68777,77.13855,92.75749,79.66747,64.65559,63.34834,87.9797,84.7603,52.4164,80.33091,70.55657,84.96859,67.70474,124.03991,70.62754,70.22998,88.14648,84.20387,69.68989,73.41211,84.89157,80.6457,100.75408,78.34283,127.71484,72.99808,72.67417,91.14556,49.30676,72.84425,77.65947,90.85292,74.19347,85.16642,70.62388,90.12665,76.98077,130.44814,74.61511,61.79805,69.24287,91.80337,64.36744,74.52559,75.00798,86.77546,94.73387,79.69173,70.55277,78.70536,82.72768,73.11254,96.39884,93.10985,83.13015,59.82946,67.70405,76.69561,82.11928,73.03019,79.70295,86.77202,71.94966,82.06108,65.97142,87.28032,48.81903,58.36057,70.69175,76.40666,59.29636,80.29858,77.78908,70.32589,62.76426,87.59841,68.81845,67.6821,83.24435,78.42955,67.11119,83.8832,68.66075,67.33751,62.41758,75.61355,56.88998,71.62009,91.339,80.97967,52.04763,75.95751,72.77675,66.32999,68.2829,66.77454,55.8517,75.178,69.90088,65.01485,59.03826,64.40286,75.73702,84.0436,53.92893,75.79704,71.39707,97.84235,90.52612,64.91054,75.88446,68.45748,62.60829,91.95891,66.7783,83.58486,85.41731,66.83142,69.00128,69.38241,77.09069,62.46792,63.93481,55.59913,84.55236,65.95327,78.31906,71.57354,89.14807,68.12069,69.8375,83.42411,67.07764,58.00056,88.10193,88.2179,74.32744,67.68362,64.15395,63.20459,77.34341,61.96593,86.33968,93.228,84.58915,86.10649,86.35287,62.86509,80.57145,62.57139,74.89834,68.24359,71.23863,107.68554,68.26986,83.02693,85.60022,69.61813,68.73098,71.2094,75.00762,65.31895,67.94232,67.54655,78.61368,79.97446,83.97931,106.3644,124.45204,73.59088,67.04268,82.06622,62.70158,64.42072,66.43554,91.69904,91.31726,55.246,95.21839,72.85656,66.81521,69.61225,68.52004,91.13055,72.98281,72.67975,66.00746,72.507,98.33165,73.23834,76.10031,112.18371,65.49508,65.24267,74.12202,67.16518,83.03948,82.49709,73.59081,76.21553,73.38612,69.29737,73.0586,74.15652,62.35344,67.76218,83.84828,80.6191,80.30999,70.1027,72.91138,82.2819,75.30432,81.9747,77.48513,58.94317,78.55127,73.2216,70.80111,76.34511,87.40357,63.67348,83.57686,72.00576,72.89182,73.90294,88.40141,93.30125,65.1633,69.27745,67.43668,73.24194,91.043,74.18741,72.90243,75.08207,65.28516,86.98046,85.57894,85.38396,92.38457,93.79141,72.44041,82.12909,61.34943,83.13808,82.91929,75.92062,71.06391,68.65868,74.40081,78.09886,131.04114,66.12463,62.94839,102.88245,80.44507,59.7504,78.01711,79.81428,70.42761,79.71801,63.42669,64.82541,71.01057,107.81916,60.91299,77.59681,93.79055,76.32343,88.87005,74.15863,71.79454,78.62604,76.93897,94.77036,74.4944,60.77225,68.68656,64.00301,70.36477,70.24454,54.56492,133.87729,84.12646,76.01149,67.25398,122.79954,74.32472,89.28197,74.17469,71.0119,66.08579,71.03864,73.7134,68.34882,77.05701,60.46354,79.72814,80.44861,74.58701,64.9618,86.35707,78.35017,69.2192,89.89732,70.96782,68.1313,108.38926,68.92568,75.66343,70.23766,77.45338,74.37656,86.59289,81.02053,60.24028,83.39189,76.19955,68.97761,68.01132,87.78058,61.59055,67.06602,66.68665,83.2771,63.80976,70.37219,74.89842,76.33676,103.23041,63.55641,72.78246,68.34267,75.04007,86.81759,77.03302,71.65458,61.25041,68.50253,74.51493,51.68488,65.13682,69.38999,55.28176,65.1055,81.73837,83.79312,70.59954,76.15619,73.09371,77.87931,80.19045,67.33642,64.98888,79.36137,76.20901,82.2068,85.69414,71.86183,73.39039,77.15049,79.78075,73.86617,70.52062,82.95592,71.36792,91.6642,82.74027,70.14778,76.75966,69.6898,83.73606,79.03037,68.74621,96.0767,82.24612,72.78637,74.00316,122.40079,81.00977,75.43215,74.73108,76.96335,78.26616,86.68286,69.23884,78.60623,67.40104,70.29116,65.02353,52.69725,69.34835,80.10459,75.30149,67.97476,67.71638,92.86253,70.15779,115.18069,70.61262,79.9125,74.36762,77.44596,75.04062,70.4487,69.61355,74.1543,74.16869,64.45753,69.80302,76.97648,67.22804,69.00583,71.78801,81.33851,74.58091,67.77896,104.75735,91.95061,63.24572,70.42928,62.86353,91.06542,72.18346,77.01985,67.05347,66.58366,86.40733,57.42083,76.68048,67.4549,60.0239,74.67203,56.94185,62.73696,72.19461,69.7504,53.2438,71.96229,74.19708,51.59708,72.77542,73.94201,71.36378,81.15996,76.43581,74.86111,77.94634,90.67789,74.27923,67.22424,70.05737,63.6084,71.39012,56.08434,74.84068,65.94711,78.24329,100.19239,80.08793,81.41701,87.56357,59.78252,75.1356,94.035,68.20774,85.3504,84.36004,73.93629,67.29796,83.98592,112.24705,61.25026,61.92579,64.77011,74.70047,66.11271,83.01186,71.49512,84.46638,76.05937,68.85503,74.25314,68.70354,73.83538,61.52619,98.68377,69.05027,68.42151,76.09033,85.19741,77.46862,63.41895,77.2154,77.70378,71.33381,70.25,93.0528,62.85766,75.95465,96.45139,119.40186,90.85634,71.92258,84.16221,89.8815,71.70693,71.31341,56.72693,71.20718,75.29179,86.26053,63.21681,59.84844,68.79904,84.1752,96.62619,70.03088,66.45704,68.71149,62.13849,107.32358,51.75152,107.12477,109.08739,81.72135,83.07633,67.08352,75.38975,66.24682,72.75419,74.05896,95.2499,70.34585,71.90364,87.08294,84.04625,90.41661,71.16888,71.79802,119.8196,68.23651,59.61423,67.10275,70.69646,93.03602,73.65606,62.8091,65.94945,93.96315,73.64696,62.96739,73.49873,76.72406,77.37534,66.72689,88.31032,66.07431,87.15751,66.53753,77.36123,82.71016,66.76012,64.46902,71.809,71.70806,85.20107,84.22298,67.83786,61.73914,80.51366,101.85079,64.47415,65.28095,68.30036,75.6455,80.83728,86.85956,62.84118,76.4567,81.3258,81.16531,74.73053,67.56961,83.00637,69.49468,69.23978,68.19532,86.23304,70.20057,116.0248,84.66102,80.80017,79.13026,92.96027,67.78306,67.12491,79.9083,125.80615,79.55911,92.72703,79.38946,76.05741,66.71109,69.50282,74.01287,80.16799,80.73219,72.24591,84.23859,83.98855,97.72327,68.41187,64.34156,70.05017,53.73375,66.65014,72.72909,70.04912,80.14559,63.35986,65.60603,90.83759,66.02161,78.47147,65.69608,76.5054,104.56846,70.48259,73.10979,77.11218,105.5174,91.72644,72.84498,84.49642,86.41494,69.90569,65.0099,67.15817,79.1397,72.7929,81.36115,70.67788,106.49543,63.43288,64.82535,70.78467,56.54409,86.9054,80.29776,99.03626,73.93455,67.24261,66.71531,75.18039,71.39925,72.08857,76.30513,112.88361,71.45791,74.22604,73.05222,71.45627,83.49313,70.48312,81.90008,79.02652,75.76546,63.35016,104.75896,63.78082,71.59985,98.5003,69.39036,63.27772,98.60216,69.79392,74.16304,68.59375,79.40201,68.43365,93.63231,74.25021,80.72928,67.27859,96.33986,78.1774,77.93504,75.9218,89.70086,90.62414,69.71356,66.8501,71.68983,66.93713,76.09357,115.03551,75.96153,66.65404,59.61722,71.89928,69.58492,82.6132,68.43465,69.29544,87.2988,71.6787,87.52968,79.33511,71.03033,93.9856,100.44266,60.78164,74.05555,75.95394,63.09934,66.20478,68.83097,65.6083,60.70278,72.42513,73.14366,75.5821,65.83134,67.41074,82.8123,67.55128,86.3179,66.13173,67.44257,88.65932,75.02726,69.27289,59.93127,71.58693,70.2756,77.08249,76.84,79.50687,98.18907,75.71537,63.29252,92.43961,79.31368,72.45567,89.98388,88.73733,63.2839,68.49626,74.35354,82.59617,88.87861,82.0547,72.3296,59.29223,67.17819,75.66013,63.46729,65.27388,109.78566,68.41798,56.91656,75.44127,111.43291,83.58592,75.59375,73.4698,74.68051,66.75871,77.00087,75.90662,68.2084,67.02387,69.781,69.54941,67.76724,67.10575,73.18114,70.53507,75.291,75.57957,65.65679,72.41015,80.78644,74.01433,71.85121,59.27781,52.86925,73.72112,74.92463,63.10589,83.02029,88.78222,76.07256,86.76863,75.04439,73.64718,67.35192,72.97501,61.88643,79.42982,73.53659,80.07381,70.26025,69.82821,81.8207,82.56356,62.77412,66.83598,75.85686,96.6265,84.09578,72.39623,73.43176,63.28587,69.34734,101.17198,57.08416,63.22944,72.1871,67.59006,68.13221,91.53838,121.12867,85.43899,70.59183,69.32345,76.44918,60.02164,87.46273,83.66791,108.60699,71.25977,66.29882,88.50361,75.30392,105.22952,73.17359,109.75936,73.43207,109.80887,80.93554,85.43886,73.52003,93.933,95.80909,74.9954,84.43185,75.81968,77.00758,80.05736,119.90951,97.05291,83.22282,80.24582,65.92083,73.34229,85.2248,80.96405,73.02448,76.97474,69.08145,69.8335,67.44281,74.39128,75.19234,69.80254,82.067,67.11049,76.04191,70.9356,71.79805,80.95641,66.91767,64.2877,67.28958,77.15914,61.32956,61.56282,73.86577,70.60921,61.04414,78.24639,64.41222,54.18594,97.88309,59.2663,104.29831,65.74833,75.4793,63.47187,73.17651,74.08593,94.82049,75.9532,96.27007,74.12574,76.89012,82.20227,103.48228,63.99693,86.53986,77.90054,77.48639,76.33312,59.80909,61.53586,117.5264,88.45432,56.94681,77.59638,66.38164,86.35915,82.39767,64.51953,62.68617,112.08631,80.37701,80.03503,76.9471,71.96807,67.21339,77.00239,76.28533,74.01266,80.09496,74.75454,78.11102,77.19874,66.73649,80.91959,67.45629,77.88872,86.47429,81.21517,67.21733,63.4477,54.8397,67.29642,82.41108,70.40992,67.98232,72.7569,84.42789,56.91749,70.37275,77.05078,76.20947,83.2981,72.72773,72.93085,72.99996,67.74725,68.30106,75.44943,62.13355,59.69122,77.96333,77.24971,86.03414,71.29707,60.96445,62.46591,74.89586,60.5507,115.26897,60.65138,99.29058,87.04148,75.74233,65.59714,67.2453,82.55107,71.66974,54.80069,73.49703,69.7518,74.28306,78.61533,78.20927,70.83384,92.89244,97.24846,76.13402,96.22429,53.43804,99.76852,57.69614,69.42771,75.78828,58.48104,76.14882,76.1726,76.18631,88.69508,60.34934,73.20649,74.13694,94.1627,77.238,72.65117,79.19788,93.85815,75.15398,73.87197,77.9621,77.04731,76.666,77.96142,70.29649,95.71234,73.85018,99.34083,104.97161,109.9908,65.36039,75.48157,91.63437,85.33406,80.5633,76.76618,71.57904,67.8011,84.62467,101.40638,63.90347,76.33623,108.80921,80.13075,82.90646,71.86922,68.54358,60.87257,77.82531,94.73635,85.48381,72.63532,62.86895,73.5003,73.49168,85.39108,67.61483,79.06946,70.40937,76.91368,79.83581,98.02632,100.7744,72.67058,70.70426,61.76836,62.36411,72.07301,70.68583,79.57055,74.84028,66.66849,68.93975,62.33772,73.51428,74.93016,63.56948,103.99333,71.60039,63.62269,84.64693,81.229,74.79841,74.26932,65.91673,58.30578,70.55939,73.29435,69.49114,69.61741,67.59078,77.89416,89.43538,71.38227,75.82284,61.25964,59.73784,67.31357,87.0595,80.06546,70.48811,63.48309,74.75001,65.47049,73.86669,85.1484,76.68872,75.69949,66.1065,96.06205,116.70391,70.5625,88.87642,70.65913,70.80182,72.65973,106.21179,70.62897,53.11357,107.30346,73.19008,80.70739,66.11817,88.01297,68.23851,79.09696,83.18959,70.75288,84.40509,71.64545,78.62549,74.61027,80.77343,74.41247,85.12507,87.17316,76.69661,79.60803,75.15116,75.18832,59.19242,74.39989,68.18912,67.36633,73.19949,75.89262,70.99264,87.9479,79.33356,78.26507,71.22775,63.66157,71.07336,68.45039,74.49376,66.49891,89.36779,70.03081,78.65511,81.20487,90.60694,72.72225,70.14506,78.66546,78.35014,113.34636,64.35843,67.69217,73.49105,83.29523,72.95937,77.52854,80.92176,96.88543,70.4429,80.24686,68.64169,72.14477,78.98715,72.1814,70.91145,65.59118,74.11874,62.14218,80.01393,83.81197,90.61309,63.7166,72.94994,69.28993,71.3248,65.41713,75.75673,70.94022,71.44492,70.84629,67.57563,87.25823,76.69325,85.58068,69.84111,66.19687,66.89836,77.80203,69.87626,72.75866,72.01303,65.77768,77.93894,71.94626,72.05058,71.65622,63.23567,71.81088,77.67463,71.65128,96.27652,75.52498,99.2912,86.8915,72.52233,61.06221,70.8897,63.95403,70.10193,55.88767,66.60789,74.97443,80.62341,75.50519,67.543,60.14296,88.59368,67.38803,74.71983,68.72161,64.99915,68.17734,75.11702,73.7245,63.99742,76.97803,73.64931,76.24285,93.98116,82.85347,70.75879,75.56746,78.11169,71.52899,55.54873,58.20143,71.06964,93.74697,81.8581,94.89625,63.75313,68.85503,77.18569,74.23263,78.15692,75.50852,73.88993,85.30208,71.27553,71.17998,61.72103,70.72526,65.13135,69.94199,70.28908,68.10119,71.54958,53.85355,70.64273,75.39728,58.19196,91.8313,71.85994,92.35524,62.75677,85.66005,75.74236,77.15196,69.81309,76.6813,66.17837,66.82988,69.8488,70.64753,78.27024,80.52145,107.92236,61.94602,73.68314,68.71768,47.44706,69.82073,73.76121,82.13429,59.72692,67.39306,79.48249,73.84022,80.48234,67.72029,70.03141,72.42941,76.43177,89.16982,64.61655,85.79939,69.79381,73.22109,70.65133,92.21127,62.394,90.86601,92.03717,70.7218,69.00068,86.08097,59.81891,79.87262,85.30262,78.48564,71.29827,74.70277,70.31246,98.36071,63.51171,58.38143,73.52629,95.73063,72.38588,97.90367,71.38243,64.2382,79.00647,75.72688,65.74317,77.74558,65.4456,83.99828,85.29484,56.60155,56.08442,72.82492,68.66413,65.38232,72.18142,95.40943,80.28646,60.91925,79.65048,70.57229,69.92334,64.94716,69.59579,80.01672,83.11576,70.04412,71.84001,84.44124,58.27567,87.64188,84.80401,96.11976,74.01805,69.99887,82.27293,87.14637,91.63641,86.72905,88.18101,66.69687,74.44991,70.9077,64.88238,81.90212,62.0242,81.71041,73.6756,69.09444,61.24899,80.31228,63.16664,77.02941,73.22096,97.17628,80.51908,68.96151,71.61641,75.10396,79.65916,75.94587,54.84934,81.15282,61.20759,70.81904,72.53827,72.16188,82.74747,84.80213,83.50372,88.77387,70.0635,70.82653,76.25276,59.36495,122.39957,65.10272,69.44133,121.52188,66.24572,75.05731,83.24883,56.16894,77.20523,66.0051,74.10605,94.76429,84.29704,85.01375,78.31483,64.36684,78.61168,74.76331,79.05241,79.36302,79.75884,71.41113,91.30529,81.58011,65.63849,67.98631,68.31636,75.61698,67.78647,75.96085,80.90475,124.93295,80.3252,72.5094,114.68151,89.10169,75.99219,94.49404,74.37504,81.71537,84.2216,89.03921,65.59979,69.64437,67.28887,79.38319,73.01022,100.31452,80.25682,63.30014,62.90781,75.16999,67.06162,78.23968,80.09823,87.09074,92.18164,64.25193,75.04311,78.41352,60.1016,78.98279,66.99108,74.45889,77.10114,69.05204,70.86915,64.06922,56.15532,73.53735,66.29563,70.07186,70.96486,78.26598,71.80494,69.35909,70.8805,68.32851,74.46418,75.73643,64.85349,89.94255,80.29717,67.80103,75.32533,82.03263,73.35238,91.62454,71.61915,73.61439,73.97219,73.53261,77.38007,74.07852,68.79572,78.71474,71.0399,82.31967,74.47159,70.65702,70.26743,79.76685,70.15192,87.1418,75.36016,76.26042,89.30599,63.70953,65.7513,63.91539,85.15606,74.17548,58.56744,87.31954,57.5263,108.94985,73.27693,82.52496,85.72745,100.17117,61.17485,63.74748,61.45062,66.8375,66.81499,65.27187,66.73412,85.28321,83.52252,61.23152,77.37084,81.01388,64.55883,64.05616,61.67446,77.00633,93.31401,70.73696,110.44906,72.29571,70.49986,78.17281,75.69117,107.30954,62.12681,66.70247,68.33505,73.27647,88.85784,69.44323,137.20615,67.83671,82.4538,79.86184,66.99434,71.52032,73.03366,79.52542,55.47384,114.4517,68.23713,75.94197,71.9882,81.32797,58.91268,79.51439,79.44541,70.45113,71.66319,75.33542,78.59949,64.23358,67.31704,71.59207,73.76518,78.90327,63.35641,69.47061,76.92473,69.52241,61.03531,65.99465,68.88361,78.51381,96.70073,97.86771,77.84069,73.53798,72.53402,62.52504,87.75358,82.02572,63.91256,62.9304,81.94968,78.24296,74.47647,72.65975,70.41577,94.67821,78.41917,71.14332,73.16484,66.30043,80.68927,78.55227,78.80302,97.25013,66.4675,78.26678,86.04917,79.2862,69.04422,51.25897,81.18381,68.65376,72.04406,98.52543,68.96042,74.81749,69.48176,73.56744,71.57251,95.50247,62.39838,77.29611,104.22615,109.39013,80.92838,77.39599,71.59936,60.25959,104.48456,64.78831,90.49291,78.21789,71.18875,75.79329,74.7363,80.16277,66.69261,111.14645,88.04472,67.20353,75.00761,69.95626,74.40571,66.78292,69.99906,63.66873,72.52847,74.99998,69.80652,65.18237,79.41899,80.715,97.52919,107.49983,78.98626,70.33084,50.63309,71.61179,79.44272,79.47161,68.32903,74.00423,76.58696,76.99122,72.79336,55.23347,79.25618,78.03761,62.34833,79.6597,83.12446,88.32356,89.6376,80.49887,84.86013,70.40929,64.63881,79.66159,112.84094,78.29859,66.10189,84.84132,64.98331,70.72892,69.04355,71.5506,70.69259,57.86202,90.10115,64.96838,100.66286,71.35791,69.3989,73.3448,64.88804,64.51255,50.10748,77.23821,67.06373,79.37913,69.07846,72.04972,88.28819,85.08078,66.54461,68.50618,94.04103,82.11183,80.47578,70.11051,72.94035,75.7151,86.03584,86.14371,58.85552,77.29856,82.3217,62.73518,66.87737,74.7553,80.30625,72.95544,103.48431,118.49025,71.38309,113.62631,98.90246,86.73276,58.48266,83.57043,74.91425,69.34527,75.22788,64.92235,99.54171,72.35109,73.79011,111.38057,74.11993,93.92765,62.74397,105.45826,73.85123,70.40907,67.42786,70.35305,75.11459,80.94358,101.44693,83.51155,77.51872,67.05102,69.54495,77.01652,78.56182,59.01058,60.60289,67.19313,94.98306,76.03185,65.56342,97.65607,76.2958,85.25615,70.33911,66.79396,76.34086,72.01145,71.50796,76.84371,86.62826,70.21298,105.86182,68.67908,66.40513,78.4797,73.45481,70.44758,67.42696,66.34835,102.46517,90.98933,61.11755,75.28639,86.42026,72.79866,58.28015,70.80914,61.91446,65.5918,64.59571,81.83132,72.45476,70.40051,94.06469,88.0378,83.60121,60.59532,78.61425,69.56148,74.59493,69.87715,77.71501,72.742,66.38088,62.34124,56.05163,64.84287,71.05309,97.7901,76.91551,57.53326,73.28101,61.82283,69.46321,70.06573,78.3467,72.97721,65.51876,89.41574,128.86171,93.96021,71.02088,74.08753,65.79886,76.28602,92.31528,73.29054,97.68426,74.3965,85.78235,72.49771,86.41929,71.60586,76.88988,70.06024,69.13812,73.95757,64.49609,80.79659,75.58175,77.23956,84.9073,82.16884,87.22637,83.72025,87.47031,72.12971,67.71463,84.51262,58.49011,72.23363,77.84949,88.61975,62.32305,78.62471,58.48678,70.03054,78.69949,82.48419,80.96809,72.78536,107.2885,71.44782,86.6949,63.56807,67.75768,80.17823,71.66932,75.55766,70.91286,67.92332,81.17867,79.80558,81.6551,84.80719,59.67977,71.6029,69.40714,67.21557,54.27032,64.81886,79.29691,79.84726,67.68014,78.55123,77.70913,75.28666,111.46896,78.60977,69.41364,74.50334,76.49587,95.3323,99.90765,75.33413,82.41413,73.58043,78.53977,84.84393,97.58258,98.99492,71.95342,60.39971,80.14337,75.01623,75.22582,72.31477,82.4295,89.52894,68.21131,58.1469,82.20292,53.50961,63.31068,90.87381,65.16411,63.54941,66.91061,58.35838,73.62805,72.83835,63.32142,74.03104,59.43315,83.02364,85.87183,99.20411,52.05687,71.73991,74.04337,79.77666,72.41506,66.63065,72.91383,62.01022,77.31759,56.90686,68.09745,85.78553,74.53345,76.54171,108.02355,71.76652,61.44786,70.31244,80.5618,56.8248,71.25821,74.37002,60.12196,58.75393,59.85421,66.59602,77.18765,76.15966,72.31233,60.10416,81.78759,61.03731,79.94675,88.28143,74.89503,72.94536,54.36593,65.97297,60.06227,57.80177,65.58403,121.71422,79.64011,62.24034,89.04218,89.86053,80.46096,61.35593,73.60343,88.82765,68.7176,65.98485,83.43948,80.16215,70.65929,72.40548,74.46522,69.27586,75.91736,72.18517,68.05695,77.6443,73.54521,59.24847,69.55307,66.03575,67.17737,74.2136,71.83438,83.14459,75.9185,67.3975,54.79735,117.07379,58.15228,98.40233,64.45494,72.01458,85.70106,56.50508,75.01852,71.08841,72.99369,65.28183,68.33358,73.71325,86.5994,73.76683,66.16751,61.1245,72.1681,59.60266,77.18191,70.73297,79.30705,83.15956,81.01879,83.34194,75.80676,62.23168,61.89435,89.71767,74.53866,61.47344,59.32838,69.35158,96.83339,77.89274,75.44404,60.72229,69.10576,73.75259,77.7153,75.03368,127.6754,76.70122,67.99641,76.00901,89.92159,73.50171,54.72704,76.25385,78.13698,70.40993,68.28522,59.70211,72.07921,79.08105,80.9185,65.55391,73.16627,74.71161,73.10779,63.24297,73.41042,95.4514,96.90036,83.77326,77.81691,90.69652,81.06763,73.10147,84.33956,65.65292,75.14075,85.39496,64.75663,59.93107,70.43115,80.73294,61.06237,68.10935,76.96166,77.55115,68.86657,61.69269,68.99614,67.98215,65.40019,71.28362,71.52798,91.49555,98.36706,70.50769,71.64021,93.78244,67.67069,76.74508,55.55071,68.0758,66.80957,83.1088,71.42809,72.7601,73.64714,62.139,85.3881,65.28643,54.16797,69.77056,71.65102,73.74772,57.17216,65.64126,80.97828,81.35769,104.52725,77.98592,70.43096,80.09227,77.24481,65.87819,71.43134,100.60376,79.27324,63.86566,71.54972,57.45439,54.08532,68.55481,74.86938,69.88285,73.95408,90.70269,62.91129,65.23622,91.94574,75.97876,67.4783,78.57714,71.6693,86.39846,77.92838,60.65553,72.83727,65.79911,93.36585,73.36779,76.8131,91.48991,81.11213,78.59468,90.34007,81.59592,69.00207,82.80495,71.46337,70.67737,89.97787,84.91422,68.17507,60.26169,67.18997,89.30474,89.9196,74.83566,73.80722,64.92378,67.11963,62.12833,68.1741,67.70632,71.4298,72.30786,66.34255,69.15213,61.49881,71.76217,65.63466,61.01855,74.81642,69.21768,68.07055,77.80816,70.1012,72.20361,70.12631,85.17609,73.31787,87.00037,75.72093,77.7624,81.32605,96.01615,83.291,71.89209,90.87884,78.92191,77.57557,68.03837,75.44857,70.57068,78.49413,65.48379,60.12617,70.16722,68.8005,62.99125,82.00024,73.15674,81.41203,90.2746,107.63676,64.35882,73.36682,83.50437,83.14159,76.70617,69.42957,109.3409,89.5281,80.80172,116.34057,76.16066,59.40717,73.25162,61.56337,67.81165,62.93567,75.87514,78.20074,67.11346,69.33606,56.82433,69.12884,76.22331,81.3081,68.03708,68.63803,54.66359,64.90031,75.89125,65.55293,86.83014,66.4677,66.57007,78.0969,81.69336,84.894,97.03293,62.38543,87.97345,52.96047,64.58827,64.31518,68.19166,69.63194,70.81265,96.30722,86.32949,75.92897,75.59641,73.39115,97.83907,80.72451,78.23645,91.86009,56.1858,61.89898,107.22293,85.45583,92.81157,78.31363,88.92177,77.40954,60.85331,54.64268,56.3546,103.59103,79.04316,65.6967,77.14807,86.22064,119.9487,70.56541,81.97154,63.99586,65.40756,64.63036,59.05706,88.2117,86.80815,91.06111,87.87567,83.79374,86.4629,59.5666,66.33509,73.78622,74.22766,75.86478,84.30809,71.58904,87.79558,56.73722,70.25896,63.68812,67.08755,74.39877,73.39494,61.70925,57.35576,68.82911,74.76529,68.43641,72.98159,107.36492,73.10178,60.81647,69.72177,91.3138,68.66342,64.0995,82.89724,72.57805,76.46562,70.56965,88.9942,71.33026,74.17457,71.23695,86.72688,79.94725,69.08714,70.02618,72.65117,65.49544,81.67183,69.31122,65.79302,63.02555,98.98208,62.43382,86.87969,83.74573,73.77951,69.71477,113.76387,66.00297,93.39171,95.18802,105.4783,96.1078,89.03203,61.35159,77.84248,66.24785,77.51731,81.78975,86.11092,85.28676,76.86414,67.35998,82.26997,73.2576,88.76085,67.80022,63.61439,98.67924,87.95197,77.90624,95.39537,66.25515,82.2257,66.31583,82.70202,68.26837,74.58263,121.02844,64.41816,84.90281,64.27655,69.1903,72.22455,115.34282,64.15479,87.49557,75.13676,85.88547,70.74076,78.8376,87.81805,63.32518,76.76727,73.64827,64.1021,76.4943,68.68171,80.98501,68.57436,75.40581,87.70023,61.68581,83.95717,90.9284,67.54567,89.09448,100.83604,66.63817,74.03001,71.19013,68.92744,114.0941,59.36341,71.5611,76.48355,74.18678,66.41039,83.75866,68.32599,72.11247,68.58685,63.70902,77.69094,68.65205,65.94071,88.07004,94.6411,70.83795,95.07345,85.12242,80.10798,72.65073,67.83677,76.28092,73.96594,68.73435,62.72848,81.03477,62.43588,69.88219,86.70187,75.17935,56.20592,85.63297,70.52648,70.9198,62.08698,80.91497,91.44292,100.7639,79.28807,84.1156,66.28486,83.11224,66.19238,82.20617,77.22524,64.9337,82.7596,87.27563,76.17493,86.04022,59.33574,87.27865,67.72021,70.26045,62.00971,90.2551,75.98237,75.00479,71.2732,78.033,72.54012,70.4006,74.47051,98.41435,78.54238,84.07143,73.24674,75.3581,70.2509,78.34052,80.7689,83.33644,75.69607,54.79842,76.91449,69.97514,54.99214,74.87407,73.74604,76.60717,97.42942,72.36481,90.031,87.62235,78.23625,80.12415,83.1863,76.87421,84.68542,74.62171,70.40011,76.62323,76.29072,92.49559,77.31119,74.99057,72.94969,65.6855,71.04684,74.43751,76.04418,63.58745,64.77694,73.46605,69.65958,84.5405,69.76003,90.91516,70.40151,97.44721,69.99298,88.57198,83.78594,57.80949,97.13942,67.55934,60.56058,62.96861,98.75352,89.91377,78.64569,87.88468,74.24032,73.61374,66.87225,71.69395,63.62551,83.51064,88.70451,81.30889,107.56136,73.58132,92.94132,51.92232,75.28814,72.87355,71.07421,74.43873,77.74688,70.05899,78.66419,63.7661,60.99042,61.18508,67.32406,74.14052,69.60587,57.86976,76.55096,105.96687,75.06765,82.09617,80.99732,79.82453,67.95626,55.18593,66.36475,75.95527,66.26417,69.62641,63.10322,66.40727,63.51336,76.15306,80.58349,59.19316,78.48998,71.33564,71.6342,67.24386,87.08104,68.23452,57.77921,61.08413,113.11353,68.95162,76.14836,70.1084,56.11757,63.56294,88.57132,61.85973,84.36326,73.18317,83.68089,63.80681,84.32767,71.46343,56.16128,78.06571,72.22959,69.70027,68.58264,63.86361,77.4823,66.12093,72.24914,70.81711,84.00045,68.43549,66.92619,74.86176,61.63923,51.51007,66.97943,81.38336,69.0152,72.5432,74.15875,80.84035,76.06362,54.40582,97.07411,93.2268,61.80446,69.79329,83.17201,100.52484,76.95696,74.08713,68.73344,69.83958,79.50604,69.97716,77.42143,96.78788,70.64613,81.37084,81.79389,60.57932,77.27734,75.5718,67.91571,89.36244,69.8802,93.99301,72.19652,110.97932,76.68594,63.20981,70.75862,59.33087,81.67761,85.06024,68.32773,66.93905,57.30927,79.28532,77.05412,67.96716,73.02426,69.39081,66.89058,93.7623,81.8038,79.48222,77.87443,72.72397,71.25214,80.38104,101.35802,133.88087,67.75719,74.43799,92.65399,59.59047,79.68511,77.07804,55.80513,67.97747,80.90359,68.43898,63.45974,78.6497,74.89057,66.27139,68.46585,78.83695,68.18223,77.10753,81.20797,73.21529,77.29639,66.61944,85.20098,81.56894,113.73864,57.22228,59.40221,96.9629,62.32761,72.72099,72.85029,68.11428,75.0075,80.12513,81.10437,74.60171,79.05909,77.61709,84.93498,68.23188,66.14641,86.68502,70.03918,83.94875,74.18053,57.2721,64.09437,75.86644,75.52471,92.72241,76.17552,67.18014,62.91272,63.87671,61.99176,64.27097,98.87088,62.86959,69.05015,80.34416,78.76416,75.93329,73.31806,66.74046,69.43316,82.07834,67.74946,67.62276,86.09997,78.80888,66.69556,70.94171,64.11459,73.78807,67.79438,75.09556,76.57544,74.84242,65.60598,90.22137,111.22865,68.06338,68.92969,64.90848,72.41815,63.64697,78.47964,60.70047,67.38276,59.91174,80.00185,72.24357,92.09144,85.74365,68.71361,83.01355,65.48005,75.40661,112.20176,54.37942,71.43245,59.59708,85.2175,68.64253,93.13866,58.58912,87.79082,87.73428,79.92411,82.34908,78.44318,88.07311,70.56398,71.29733,81.67463,106.78301,81.16006,76.67985,66.88751,68.07716,73.46964,56.1524,75.89416,84.23165,74.90116,80.64989,129.88904,74.00382,85.20213,83.86133,76.07764,68.87303,68.6135,109.81495,76.11599,55.87754,63.79437,68.19695,76.63289,115.03325,95.89968,101.63442,70.05899,71.68844,73.22326,107.22963,94.3367,57.21084,74.69707,66.55838,98.05384,84.57704,59.19017,81.01011,62.1233,113.38578,64.75299,82.23615,91.51766,75.42433,78.63689,82.85688,66.02757,73.65496,78.6932,76.67464,94.88354,75.32811,76.90282,72.35179,42.51733,70.19659,74.53193,71.77426,81.53801,64.64232,65.81474,68.06212,73.84091,98.37516,77.45272,61.59812,75.14159,73.72035,72.11456,75.23644,79.38651,118.4924,82.82823,93.67897,79.63761,79.13047,72.32077,81.21607,63.96422,80.07898,76.24788,85.43689,78.08665,90.39991,66.97361,99.36379,110.1097,68.24718,73.71703,66.63099,100.11381,72.31723,122.09161,65.80615,64.62055,70.99651,79.87406,77.193,66.2445,89.00021,73.56789,90.69616,65.23738,77.9674,69.61202,63.81881,71.46452,100.33287,87.35434,69.55484,111.46047,69.11908,60.51222,74.95749,71.63083,76.05907,69.55584,59.63947,68.42318,72.25005,63.02299,68.161,76.42926,74.88146,70.85345,68.71869,68.89888,74.5862,72.60476,87.89235,64.26424,69.09947,99.73558,74.66082,64.42142,68.81592,89.09465,102.08994,78.01376,73.32535,68.42964,73.14377,86.5029,65.68937,84.4599,75.46883,74.95779,81.41157,112.01203,74.81566,89.3318,50.6533,78.42852,77.21194,66.75657,71.54999,72.9056,56.35793,76.97126,75.01168,68.99289,86.89757,88.65075,78.51277,70.20359,71.43339,70.44186,67.04314,82.53833,82.22222,73.05366,81.01951,81.13118,61.47581,62.0147,91.41214,84.70283,68.32367,73.27855,72.90484,102.89461,75.55601,84.73592,71.17846,87.2982,90.36687,72.39188,58.45477,61.88233,80.56014,124.39136,66.44962,66.41395,73.57443,59.03652,95.00856,92.03154,67.74362,62.87566,59.84296,66.07656,72.63161,69.96202,78.11514,63.34229,62.12807,75.37905,80.34224,68.62565,74.56768,76.26784,64.15992,53.73749,88.07817,95.81969,68.22162,84.83894,67.09665,77.43696,71.47345,94.60328,67.39694,85.06852,57.52318,89.80247,74.07194,80.28617,68.37418,74.54078,69.39098,82.09244,67.86703,72.58074,94.33649,79.16637,62.76813,88.04894,67.73458,71.05953,63.95354,71.71985,73.77481,81.04514,74.32479,87.70503,73.88814,97.60724,78.7886,62.42879,75.78572,68.55967,81.15282,76.27193,126.0297,54.88205,79.50973,57.12682,75.83912,73.42916,85.89776,72.74066,67.91443,92.26632,93.16327,65.57608,60.84827,71.72185,74.8271,77.47654,74.25362,71.64611,63.29617,78.61163,77.76298,80.82577,121.34649,75.83227,86.52522,61.34835,75.42318,82.48879,69.07679,77.5055,73.6638,69.24123,78.11967,74.60567,81.42159,73.12813,69.08457,74.29908,68.01641,67.58772,68.32643,71.71864,76.87666,94.28995,59.76912,85.45725,114.35045,96.44975,111.90343,81.51751,87.53377,85.32229,118.8716,77.19394,93.52202,92.25779,58.73987,75.89128,66.15042,88.20072,73.82153,84.30759,73.79749,87.95801,85.11068,76.91696,74.73009,75.36207,75.33117,90.85825,66.26629,83.6277,70.88702,88.96278,98.26899,84.63895,69.77306,77.10502,70.19917,76.60425,63.73228,72.71009,81.34546,72.36616,69.74551,71.85283,93.81753,81.75897,94.46465,73.12017,72.69414,69.50481,72.43406,71.36991,61.87246,86.95097,71.26474,73.03295,79.10447,122.25751,77.53979,74.84635,53.16853,79.37034,71.71667,76.42174,73.16426,66.93236,72.94033,70.35876,70.18407,81.25881,82.70314,76.84634,73.40533,80.09207,69.98786,66.25618,67.93721,71.45888,74.24616,68.26399,73.5567,76.30687,71.21262,114.3317,59.26104,100.8023,74.83864,68.29482,75.1903,67.40793,70.85319,68.79163,65.1833,68.53009,86.33392,107.74321,69.57127,68.35523,75.68867,62.49844,101.48675,72.65366,102.74953,65.71484,79.51922,87.00655,63.5851,83.92864,105.21906,83.77581,76.06379,87.9758,53.60499,67.2858,66.73393,81.32454,90.18161,62.3508,71.0476,72.05239,82.92623,119.02186,81.74705,69.95643,62.56989,64.6276,59.56194,69.19277,87.73698,94.73305,58.18616,80.40203,77.39207,67.05939,69.81732,79.12956,69.46989,85.1995,71.9066,66.53209,69.05793,84.268,67.78583,78.24124,73.11625,67.02293,64.54494,79.13933,72.90612,70.31231,68.6974,75.4858,60.31768,76.84068,82.67052,100.27416,65.16173,62.60292,73.32041,87.30593,80.38498,87.91269,98.73363,69.94477,70.99618,78.53602,74.58139,72.7923,77.24473,84.5748,73.52662,69.02964,64.43671,75.53253,67.08562,71.14437,71.6916,74.54965,63.44427,85.51626,79.30659,73.26875,64.84073,73.89477,65.11585,81.33614,100.78589,76.93905,85.30637,86.47439,77.41549,63.48863,72.48552,83.76756,83.6258,70.99309,83.85849,72.45924,68.17221,118.94527,73.51331,74.18829,71.2497,80.49503,73.95728,66.94855,91.00017,52.10221,70.69342,64.88287,77.14,68.88988,74.2581,62.29342,60.74036,117.67975,68.93176,60.9008,85.05713,79.87937,71.84925,82.38308,81.55041,83.15515,59.97559,86.28024,75.22475,67.16356,75.37298,77.37911,73.89912,64.69805,79.65402,109.28383,77.4821,69.57323,69.67509,71.17022,71.30604,91.15418,89.24154,73.80351,75.78287,78.34612,86.93751,65.32932,73.91926,96.48003,71.02392,65.95477,87.95916,69.48894,82.04336,74.97489,70.07475,113.10845,78.82592,85.14259,62.58625,71.77116,72.78152,81.30947,82.65411,78.99479,75.14702,77.43864,68.54655,76.23449,78.16272,71.70043,71.36553,80.50187,66.43529,67.7041,63.10371,77.394,52.34055,74.63642,65.86223,70.44072,69.88659,65.82324,71.20858,65.5928,65.23118,72.62889,72.85717,92.01731,72.83164,77.5807,81.30232,63.36727,74.40335,79.35545,83.16504,91.70827,92.64463,82.86189,74.7039,81.56573,85.5003,65.36595,66.20435,68.98532,74.23488,111.06694,68.33249,90.69508,75.97145,77.11386,92.70525,92.9797,79.39407,82.14333,64.79883,72.66948,64.20771,60.42857,82.21167,80.92879,66.27603,74.54756,70.50799,72.74242,64.76333,76.98689,77.86081,84.55544,73.52808,85.39655,83.33353,67.09306,76.17985,79.34742,74.96948,68.74455,68.7869,63.4296,73.95993,103.58976,101.52016,58.95934,70.68198,70.35928,99.35373,76.29467,64.99618,76.86931,63.72893,107.32264,70.48658,53.5999,80.40163,76.02349,80.6774,78.69955,68.86197,56.59092,66.21452,73.8381,73.08055,68.73869,69.55662,78.11165,68.14931,72.56827,63.77405,51.07347,85.43446,68.78577,67.92359,71.24747,77.99262,79.35598,79.36844,93.331,96.22126,81.35283,66.03858,71.48787,69.04796,85.72603,95.87768,72.87847,109.66959,61.68558,63.41724,72.78813,69.35169,77.44968,70.18065,72.34993,68.73344,76.82202,68.88844,76.5429,70.62542,73.08737,85.54206,61.55968,58.73002,77.70466,77.26257,73.0387,68.9104,52.64304,51.63217,96.31091,79.45213,67.59396,59.06531,86.31144,78.64316,93.2189,65.39656,69.46984,66.87565,66.13002,60.18707,96.11802,82.8613,93.42224,79.1235,89.3588,72.76773,65.29402,63.52408,73.62033,79.11918,65.34954,55.30646,127.10033,79.70329,79.96528,80.298,82.0966,91.99391,71.46451,84.96082,83.62651,76.25135,85.52262,74.70217,82.08464,83.5962,72.30181,87.36038,77.2338,100.29945,68.58802,73.72674,89.34773,58.23234,74.84373,72.96747,86.87864,81.90982,95.67505,82.8007,72.42607,71.5629,82.76497,87.38456,63.57159,63.18618,83.9018,73.50115,81.15397,71.60992,81.10472,71.05424,82.22076,78.45864,76.86909,74.29586,84.03901,58.26369,54.82413,98.82736,60.74355,69.63824,69.35079,85.12845,88.62546,72.44045,71.611,96.6265,76.15607,64.63096,93.53414,84.86731,72.96107,81.23417,87.88129,80.12272,58.64878,64.93258,64.56467,77.95246,84.42702,72.59183,82.67135,75.19409,62.68025,88.18872,63.0356,66.87392,78.35869,82.16753,72.26451,76.75265,71.04232,70.89969,104.91233,75.26721,65.36958,116.77057,66.11075,78.48938,75.55642,68.16889,64.31444,68.8129,80.24013,65.59133,50.1775,79.94819,75.72299,70.3046,59.10529,78.55377,93.17436,84.59426,82.48169,70.94412,106.97225,71.08588,72.90825,76.18854,64.2177,68.68068,68.55005,89.95099,64.13647,94.49318,79.85351,73.07087,63.27421,75.58791,71.01117,68.6271,60.13208,70.41564,81.5069,67.92826,73.40498,89.58073,72.89065,82.71391,84.45692,70.5213,73.41862,90.70784,70.02683,78.4342,78.12885,80.65939,84.35056,95.84435,72.48773,78.545,77.90314,71.54553,57.52634,77.18604,71.15713,65.18378,73.80271,73.96411,73.35812,98.73475,73.70392,64.43611,83.81212,71.13475,96.36223,76.89173,68.26094,80.25451,84.18441,117.45766,75.94605,73.59441,88.85849,78.32731,92.01693,119.27236,66.10285,72.64826,81.46085,77.01519,86.91772,55.55551,68.13823,72.78297,58.22402,75.67647,84.91091,84.34341,61.78746,76.597,61.49546,89.61296,103.75176,80.45382,90.18216,61.8314,55.58174,69.66604,73.98383,78.99167,85.47153,92.71811,84.86222,77.95619,63.06192,73.1222,69.92713,85.52711,82.5618,61.76378,114.76318,63.86305,69.4392,58.96369,78.55177,76.76348,69.37022,79.33003,77.72886,70.96169,73.87705,104.49894,69.11154,79.20085,70.76733,108.26543,77.86316,73.72964,88.35313,69.84635,73.58395,78.51999,81.07292,62.64021,75.4002,97.38156,64.92932,71.80876,67.65755,72.16291,63.16641,64.70677,67.49814,71.94212,80.19676,67.1378,81.35737,60.95301,57.9178,52.03407,69.73751,60.1843,70.13103,92.02001,64.8082,71.13673,84.41523,70.48916,70.75525,63.18718,80.7014,61.56425,73.4913,84.36605,67.82371,68.14315,76.53181,84.44437,76.77172,108.0017,75.84109,66.29406,72.24405,68.60179,74.16481,82.43239,56.13001,113.38514,78.24168,67.25769,62.71477,123.38728,99.65782,71.93253,78.03634,78.5136,78.33613,105.16965,72.73414,76.58483,81.89456,74.40776,84.61194,91.5058,72.54372,100.87274,67.51027,75.55988,72.91056,60.69731,69.92216,78.87027,63.13535,70.96296,78.1821,86.10414,57.84819,69.83169,79.93796,69.10812,86.96987,75.62905,66.45516,92.89747,98.03838,73.59591,97.26134,72.36242,70.49535,58.94428,72.62923,73.00159,76.32843,92.98997,81.58702,66.66717,79.24942,104.16462,72.30044,69.47889,75.10632,79.01671,82.23124,75.98996,69.61162,79.29378,71.83573,79.52554,63.92705,84.07927,69.9478,65.07127,73.46112,96.69493,68.15866,77.56123,63.07289,71.99641,60.88939,85.57015,100.54637,65.56302,75.86036,77.10599,68.19028,81.11641,79.00038,72.35203,71.62148,66.88262,68.90537,79.81173,69.06881,76.10713,65.40576,89.27189,56.13546,54.73596,79.43037,69.5958,67.586,69.56033,59.9357,81.05084,62.40767,80.56782,70.30888,66.73996,61.82813,81.30556,70.92168,70.33891,85.25348,77.69988,77.8336,62.14856,66.86962,73.83981,81.04824,95.46075,68.64806,66.43665,67.28844,70.53355,86.305,72.72246,84.09604,74.81545,88.30998,78.90794,68.54527,77.90579,60.80088,70.04021,67.29294,72.77964,81.27341,64.48784,76.35616,77.21806,72.36961,79.10843,63.68279,75.17016,79.19255,68.98129,58.04911,82.3612,75.07514,68.63273,79.04699,74.43073,108.54202,76.62034,97.11451,100.16488,67.35461,89.24873,60.80344,67.97865,76.8622,73.19252,63.88215,68.87222,81.26654,73.40342,72.57583,60.43814,65.99938,70.76274,74.0731,67.51533,79.72558,86.75177,70.6038,66.03644,66.15621,75.16975,60.41677,77.00862,78.11695,69.3512,66.53884,69.64962,81.4987,73.68304,91.98777,70.9825,70.2411,61.90318,73.90796,61.79881,78.40532,68.6535,73.38633,76.62194,81.95273,76.55593,71.07088,75.86545,76.06782,75.59879,90.02872,71.74774,89.47121,65.61035,76.18328,77.52114,71.23146,61.84693,83.56321,88.50172,62.50493,72.0052,75.01247,74.72111,75.89598,78.67065,74.76589,84.84934,93.05309,70.53991,71.60206,67.97773,79.29728,115.59088,67.68946,68.91535,106.50973,58.57796,72.56847,68.70397,85.30328,89.11573,81.35441,109.15188,88.1798,84.61699,53.92033,76.09546,76.60792,80.4319,69.40105,72.19056,67.13319,73.75417,85.9896,102.57068,74.72972,88.2097,75.26748,93.41111,79.1567,83.66634,69.41817,65.62701,64.98285,67.29547,82.16647,79.48642,73.27015,87.55782,80.81258,102.5902,66.94832,104.87298,69.58717,66.29313,62.17859,67.29336,68.6001,78.33557,68.74881,64.38207,69.82862,82.7071,79.2453,87.62429,70.30054,70.62573,82.98737,83.35334,82.73422,80.35343,85.50272,74.66258,64.26188,90.85419,77.48743,66.24419,101.36611,74.11348,86.05087,106.37406,56.95972,84.87063,71.75196,67.44799,72.739,85.11044,99.14244,79.90009,93.05388,71.06018,73.43691,79.99288,105.64483,78.24219,70.90422,66.60278,70.58754,98.13694,89.81962,89.50353,77.92133,67.22994,73.52006,59.31511,71.22805,76.16407,79.37957,68.91143,56.79044,95.58869,76.62275,65.43807,76.83765,75.7596,83.57552,69.14719,77.71691,78.4109,103.81834,79.27372,89.5471,91.42848,75.09694,90.73527,83.45828,82.86257,78.92707,73.50538,69.23023,80.92249,71.00845,72.75036,87.89029,60.67236,68.0971,64.80282,64.34,70.61138,69.7305,72.18014,70.38504,67.2329,68.06624,86.05081,65.13003,67.68766,75.27211,76.37714,96.95717,67.04274,74.60926,85.74636,66.95071,63.86681,69.31681,63.30905,73.85544,59.76753,87.84824,70.17146,80.06308,71.59179,75.19782,74.81118,93.53155,67.72463,78.50773,83.33776,56.32857,108.42226,68.07775,64.28756,74.1845,59.62625,69.6227,65.26776,71.96831,97.64315,87.22,74.31286,89.44116,102.1438,66.09774,70.94571,62.8473,74.60877,75.11549,71.65739,71.28975,69.12569,87.95916,76.59046,81.229,69.0576,63.59028,72.03079,67.52317,68.54214,110.95058,84.00102,64.95678,90.44298,69.34956,89.4697,92.67763,84.22352,64.99659,61.04239,110.17029,61.825,84.2331,68.10934,89.11162,78.24806,71.23803,80.30122,65.72606,65.29153,71.55762,69.33509,69.60421,79.62408,80.68478,103.83078,70.26547,86.00319,74.89903,77.18487,60.71252,60.28575,91.67003,81.39182,75.07243,63.46944,74.77821,71.28396,99.25735,75.17536,87.49112,61.8324,59.69341,87.06789,86.62703,69.9944,69.19939,67.00896,72.83187,60.68791,75.69374,88.58744,87.8964,76.35043,68.24439,78.70299,69.33044,74.82202,85.29009,77.64443,121.05009,71.83362,103.37871,71.57636,75.55038,63.63125,104.46598,118.75192,93.11827,76.50898,74.77383,97.22889,72.81313,72.45815,79.94841,75.04157,75.87185,66.43554,45.12335,82.41165,83.34904,78.41317,53.59246,50.44138,71.2801,90.99542,76.92234,82.11594,101.21755,93.96166,67.2955,72.10074,72.43343,70.57541,70.50707,71.84845,76.07836,55.24337,81.32568,69.35271,75.22733,79.14295,73.18692,62.06294,90.80696,117.10108,72.2944,72.99414,75.84454,73.7375,75.10894,71.23353,72.15037,101.38442,78.49212,82.61525,75.96023,84.12226,71.45493,80.39764,71.89952,85.68041,86.91389,71.14139,75.95053,84.44209,73.72228,67.46477,97.91742,83.99271,77.13436,70.13897,75.56724,64.58825,72.87953,78.28279,88.48226,95.32375,78.04632,74.50024,78.6607,72.79652,64.1129,82.94457,76.31121,93.44813,79.88005,79.6297,68.11,112.67182,75.65286,75.38827,57.4895,74.97162,69.58386,82.66589,96.63944,81.66119,71.08066,83.2232,73.56402,75.90528,61.02324,71.67615,76.06945,67.81783,90.78684,85.02924,63.22351,74.9108,81.72361,75.89692,74.42238,60.96125,95.37292,71.94092,70.58869,61.58188,102.52997,67.64184,72.11858,102.80723,76.71961,83.10715,72.59213,121.49577,78.73502,63.8679,62.65263,76.68554,84.47616,93.62301,70.577,110.33038,74.53859,71.16695,71.00505,85.4195,81.8378,91.4392,52.12842,58.85797,74.52075,74.1345,83.65617,78.67573,73.55235,78.35731,74.74367,72.14184,117.37292,110.86399,86.61372,73.50979,83.06171,81.13771,79.30325,67.09072,65.36591,84.79428,71.6367,74.74606,68.31193,100.8869,64.80594,71.61251,82.92188,93.08892,70.3914,63.75909,101.98799,69.18028,96.26709,75.60553,71.22157,87.58948,93.87588,64.29924,80.07745,76.31281,90.51516,77.36546,75.22747,63.37527,59.33759,77.23667,102.16658,58.06461,74.39121,70.77659,74.82597,66.50049,61.42052,63.68188,80.27305,67.61653,58.34829,112.20945,83.5635,68.22524,65.62222,72.064,62.42847,80.02844,95.12536,85.31507,73.00243,91.66564,68.76683,99.25553,82.90929,67.8593,60.17649,64.74516,113.01944,84.93311,68.27008,73.49076,73.04625,73.72108,73.77844,51.93859,94.85186,76.63981,70.95854,94.17262,87.90263,60.56719,65.81817,58.55697,80.61473,70.20489,70.58185,66.11738,71.47914,74.56905,69.03834,79.25976,64.74037,76.12761,73.83289,60.91355,62.34401,73.93669,74.72063,69.01737,64.38257,68.49628,71.80406,78.80602,72.917,80.80683,88.27703,85.98118,68.40073,58.77282,72.59644,63.49615,68.5212,75.78924,70.59795,86.72797,70.92267,76.37789,74.96784,74.20111,70.82022,72.03169,86.63269,73.07433,61.34223,91.54324,64.83658,84.10642,71.19209,90.87406,74.6275,86.08595,70.18506,96.2715,75.15544,92.67985,71.89869,106.37748,55.03235,75.81055,68.96985,58.28981,71.07373,69.16808,89.96947,64.50007,85.11255,84.34443,72.58171,62.02689,83.5528,85.03732,57.29953,89.27919,68.66719,68.19603,69.42176,82.17154,95.44296,97.63691,87.89835,119.06686,74.68759,76.5698,68.98223,67.84066,109.04651,74.18192,71.51302,76.40058,59.83381,79.88205,66.31715,67.58789,84.52101,78.83729,71.25108,72.7759,71.48944,61.83158,71.39963,76.4281,76.7327,62.70223,68.3207,69.84587,77.05581,65.47979,72.05087,79.83223,77.42519,61.19897,67.46192,72.7736,89.66127,65.69039,75.76617,59.93748,82.35425,64.77698,76.0569,77.64936,78.57475,75.78459,89.31928,74.74217,82.87055,72.20151,75.71862,76.42454,62.89196,65.9623,74.04422,72.45839,75.4961,64.57889,71.79176,77.80014,76.99403,77.26722,92.74975,66.94057,82.85305,70.10926,65.26887,63.07541,85.98256,84.32515,72.47446,66.01602,57.20856,70.34065,77.40742,73.95993,68.81403,71.61535,59.56235,69.31808,67.70603,72.31455,75.92776,79.8108,75.38232,74.72225,114.91947,78.10954,58.79686,69.46006,71.53898,75.22042,76.02549,73.84723,82.43687,68.37428,103.51081,86.06188,56.12766,74.55943,86.04951,65.35379,65.14586,82.37043,76.03544,88.11408,70.91236,94.41601,85.77487,90.26489,109.78665,66.73556,73.28797,67.08543,103.74617,124.32429,58.5033,51.3099,69.45805,72.02943,83.31372,70.50923,71.84854,63.57532,72.28312,79.18271,80.07768,130.30186,76.87773,107.08345,76.29543,57.83829,69.27105,76.51672,78.06595,81.29328,71.73014,68.86041,63.5881,62.09857,90.82798,76.16641,87.02448,109.38792,82.16611,78.57807,89.49659,84.23063,66.28834,92.87046,54.0263,79.00583,75.16653,57.54632,62.59054,74.48607,71.39039,79.15271,63.11877,73.83154,68.61203,104.84016,63.44159,69.21107,93.25575,67.21969,65.79363,72.29027,75.81239,58.36947,75.69359,74.90482,81.59765,80.9701,84.57738,71.93037,69.50218,68.306,84.50147,69.03746,79.49233,69.71882,80.48959,71.48198,77.81644,81.74817,87.88812,71.65033,91.89454,72.77826,70.67214,107.11848,87.99104,67.94108,56.0038,67.03516,65.13166,69.3981,51.37298,82.28687,64.32684,69.95328,69.02182,65.9793,72.97471,78.58802,61.64236,60.30652,74.7201,72.24586,51.98788,76.58858,71.83264,62.057,69.88855,65.74434,76.88731,93.27303,78.84744,83.62688,64.95296,72.13833,93.55215,89.97871,77.28784,81.81486,73.13563,63.26636,66.86987,79.14807,86.85036,76.67031,55.99171,89.25592,65.11904,83.48748,77.85215,61.83289,76.61163,69.13997,78.16117,71.48285,85.65053,66.77125,70.28812,54.7776,91.39023,67.47019,68.3639,88.36743,81.95069,71.80614,67.23196,73.14819,59.90361,61.5752,106.70451,66.34555,76.0925,75.64599,94.27198,93.92438,76.37246,68.2405,105.04361,80.1565,75.3197,71.04843,92.1196,51.88046,85.04085,69.67305,77.04858,72.7348,62.27215,112.63359,71.76656,101.30703,82.23368,73.52715,67.895,95.56546,72.01895,76.68844,73.55795,56.39044,69.0443,120.4234,113.86946,71.61254,71.7759,60.29292,67.04125,79.00288,76.31758,71.33192,72.69263,67.79425,76.02437,71.94049,71.33496,78.92379,70.21634,74.6106,86.90844,70.1014,94.66512,75.14222,59.67337,54.08277,65.06958,66.44207,85.50425,68.30829,55.44691,75.12557,78.68949,73.18044,78.40386,62.32475,59.77827,63.89899,73.85738,100.39383,75.59847,88.44459,82.07499,73.63379,70.89324,64.61416,74.79363,63.91597,72.58342,85.76486,53.92361,57.39848,93.2093,77.92842,77.53945,67.86316,88.10847,70.19918,76.61276,70.49327,72.36561,93.74331,78.6595,67.2925,78.03324,72.04439,86.00333,64.04409,68.66222,69.76866,68.24178,101.57978,71.03301,72.15772,80.39204,63.48872,77.32214,75.68193,56.52608,87.39851,60.39418,79.66403,76.14554,83.91245,78.53029,56.12439,88.2888,76.59226,54.20141,69.35906,71.9337,77.76534,80.29477,90.72675,71.68052,69.48436,71.19357,70.92749,75.6562,67.90798,80.33704,91.91979,95.03436,73.64672,72.53148,70.07209,75.06645,83.8017,84.86633,75.53241,77.11169,57.96657,65.11014,70.82687,86.1355,60.59986,95.20561,66.80479,77.92676,69.64352,126.81446,74.60134,71.7491,107.98254,80.89837,71.2077,74.96775,77.47567,71.98802,61.82443,73.47823,68.41507,69.64746,69.65769,83.6153,68.3459,91.99715,93.9156,72.56838,77.03186,76.7164,86.88518,79.0995,85.87559,79.80371,72.09671,68.15983,74.9181,74.41072,74.39772,76.7058,57.67079,81.69855,76.93836,111.24737,108.42724,68.63153,65.62149,71.99463,69.01822,91.02281,71.04507,63.63168,92.79649,74.50411,83.78218,66.80044,58.01339,61.19528,77.17684,74.52114,63.69005,73.10274,76.25759,78.78348,51.938,97.77871,68.53949,84.4663,74.01754,76.33292,85.94902,81.13075,74.9612,74.90269,65.47241,67.89184,79.764,74.75314,73.89478,91.07945,104.95423,90.89574,68.11661,74.06572,61.57564,64.62473,62.29599,71.35652,74.81723,67.02006,75.9852,65.89848,81.66437,84.12159,69.85398,64.92743,85.16714,69.13624,95.24689,82.93241,85.94169,65.19844,58.24626,79.2595,78.55541,58.12494,70.58549,126.09525,75.36747,77.08266,82.21423,90.13388,69.37658,68.85974,74.05179,76.38455,78.05732,91.62093,74.94251,82.89176,68.5788,75.62529,84.96342,64.09588,73.39741,87.59737,86.36654,80.69668,80.24162,77.30104,64.71548,65.83932,81.30359,70.62922,109.17193,70.49032,71.90375,72.8343,72.36833,71.6071,69.21494,71.99933,77.89127,87.60003,74.78741,57.639,70.57253,73.50723,79.96781,76.79509,108.9926,80.23843,73.00724,71.67494,75.69877,70.10266,86.5866,77.28554,87.6688,64.15145,74.57781,62.86828,76.22257,72.15282,106.25552,89.99844,73.95681,64.1519,76.52874,81.09266,67.45499,62.438,66.34383,76.33541,76.46798,73.87572,100.13438,65.42843,76.91949,85.20987,73.57315,71.92829,62.7796,77.58322,66.49468,70.60173,66.22209,77.61329,73.37693,59.10131,69.04295,90.80184,70.68316,78.58816,63.96612,60.03801,63.61146,86.31301,86.99976,84.94568,71.50252,62.45492,92.54577,76.44958,79.53839,74.11371,109.5003,79.76027,79.58743,70.3339,83.19029,75.84911,66.7221,90.21667,89.90972,63.06102,78.5635,83.92056,80.43141,73.76897,77.50434,54.53986,107.91454,81.45778,123.79064,65.21953,79.6149,70.78412,104.94225,66.11641,61.13202,113.79792,74.50708,96.15517,74.04296,72.36772,80.30709,81.44075,72.62816,78.8803,89.44004,87.34755,77.56487,83.16757,69.14592,82.27723,71.36614,58.0008,77.22253,86.35958,72.26425,79.46256,62.61411,51.70849,79.90368,74.09766,76.24653,70.58552,75.60019,65.09098,87.75838,53.96721,77.67139,86.37596,72.60241,70.07418,54.98528,74.84862,93.86324,77.49232,91.52659,86.93308,77.28802,69.5207,74.47339,68.96323,72.13658,69.33523,61.44525,74.07622,74.5798,65.4442,79.43753,79.82744,74.36456,66.79059,85.46151,59.77883,117.3768,79.40094,57.88068,78.01268,66.62538,70.83488,67.84247,78.75841,78.33289,73.94316,75.67037,117.59474,85.26763,76.57163,55.11212,66.26204,68.90797,87.73515,90.95052,68.85531,87.6705,77.54633,82.03616,90.92829,68.70999,65.16715,71.87272,100.86624,71.03673,69.58087,69.43649,72.01766,67.93275,67.32874,94.04801,67.97726,70.71487,82.20528,68.18454,72.39704,81.04275,81.88908,72.86283,68.81833,78.4092,87.9962,62.31547,75.17191,87.14606,94.76507,86.30271,70.67207,60.99893,61.61784,64.40089,77.84363,68.65234,76.62319,77.47056,65.23951,62.42951,62.22923,80.67056,69.02248,87.20493,75.36115,79.7545,72.658,62.28802,97.95669,75.02557,65.68356,71.50741,76.35414,76.05813,72.20766,63.51831,79.42711,69.94794,69.1542,67.6402,105.20001,100.49609,73.72713,75.67894,77.77755,80.48947,63.78026,107.27406,69.05052,93.58871,77.27447,67.90978,88.43514,64.90019,78.54436,77.07004,62.26466,76.60552,83.50467,72.8661,84.09222,76.39247,128.83157,84.99525,93.11577,69.79423,67.57307,80.98115,76.4667,65.60322,77.00575,117.01716,74.45022,85.55474,66.18109,65.94442,70.72344,98.29195,68.33226,71.93901,81.22146,77.86327,63.22669,69.51744,58.72853,88.8738,48.84443,68.06214,58.51438,69.74471,73.59422,86.89147,70.30354,75.92359,70.40529,58.77897,70.58568,63.60437,64.45458,65.70017,61.95143,66.86066,69.37614,73.69824,74.7311,76.85078,72.30679,66.34484,64.15161,71.99344,75.67323,70.57419,60.0308,60.11099,61.94726,72.45898,79.55745,76.57053,74.33046,81.71037,72.7938,77.21663,87.16382,88.78687,116.91917,75.73246,83.23441,73.51462,93.83458,80.04363,79.66658,67.54055,93.19878,85.33728,71.58332,67.85614,89.21888,71.9917,69.91338,75.61511,70.10864,74.18108,72.36685,77.2742,79.21925,93.83874,73.316,73.03631,72.5723,89.95027,81.7137,88.81656,92.43019,84.08194,72.7662,71.05315,71.24951,73.47807,51.49136,71.48879,102.0298,68.38035,78.90061,95.38084,80.1589,71.87199,73.88296,79.15914,68.66387,72.53389,109.81694,75.02061,69.90578,80.94241,97.26217,124.79419,63.08981,72.16792,73.57479,66.55375,81.49737,62.8044,79.11828,67.26385,70.00224,82.98634,79.02567,71.65239,66.65986,59.62651,73.66407,83.66094,70.6674,62.4823,62.21352,87.67022,96.65666,65.13644,76.47871,72.27078,70.44335,68.64864,76.59079,94.59595,125.7775,70.78779,84.13459,74.53095,107.61702,78.99753,78.58249,76.12888,97.98083,77.1314,76.65184,63.8729,75.7899,76.49318,76.93977,70.89268,95.49969,68.91157,73.47856,92.19757,62.08787,66.93325,75.92828,84.53891,69.99931,77.58836,67.14017,55.21897,72.01943,59.76267,83.46544,71.93696,74.0894,69.09172,94.45916,123.24992,52.34789,70.68074,82.5313,73.9551,66.70741,105.15706,57.44794,61.10381,82.85997,71.40941,97.81609,75.152,79.66395,84.77666,61.59199,102.03418,80.72448,65.19657,73.29997,78.2665,119.44245,74.38527,78.83337,82.33541,89.05174,79.67302,68.75712,65.26075,94.2681,71.34761,62.07676,81.03644,62.87284,59.312,88.68559,49.47245,60.48919,54.0888,73.15277,79.04658,71.71589,71.73664,104.45135,80.75477,77.32695,74.53669,70.56014,97.19486,70.99457,64.48986,108.13776,75.02254,82.21111,91.32501,93.64999,83.79027,68.069,63.06251,68.86386,62.75736,71.25633,69.87036,77.03499,70.8996,76.30851,120.46442,72.2844,72.54493,72.36077,75.76437,90.45095,82.33152,64.30946,86.8021,71.6851,71.36657,68.50674,69.0542,64.42706,123.84941,72.15184,75.0715,84.30533,61.94687,80.41837,80.36288,64.97865,97.97794,68.36845,72.57507,63.50124,68.69519,77.95833,80.74132,75.64362,83.67961,63.77876,92.26486,76.12239,65.35306,74.79187,63.24595,77.89068,117.12081,57.48828,71.99595,90.0732,71.80431,108.7428,71.88056,70.48555,81.88245,65.12186,71.06924,70.2772,87.00816,75.36976,84.00084,83.5951,66.84373,101.36915,73.03403,71.85114,65.57267,77.38981,66.44546,59.45464,89.49953,76.85014,86.57637,76.99826,80.90946,82.55505,67.33791,87.12547,82.86064,69.93955,65.48714,83.01119,61.80844,82.05241,70.90857,81.60086,76.44277,86.93368,59.22546,81.25617,92.81987,80.96228,75.77784,54.05975,103.92075,64.41497,74.28911,75.627,78.65137,65.27206,72.14348,61.92966,64.2545,54.19377,84.36016,78.62437,73.60727,81.23003,70.20924,64.57919,75.47764,99.88541,75.13206,69.12554,74.55955,72.54156,82.1918,58.22603,72.68784,69.2167,80.17257,71.67258,78.22013,76.04217,66.88513,104.15783,55.63112,81.39001,80.78434,111.3989,68.18296,73.28258,63.2554,72.55837,62.51029,75.69813,64.36609,72.084,60.58024,92.21558,100.3219,73.04111,63.54336,75.14286,74.9492,77.46265,68.15425,64.8061,76.71093,85.72819,72.62775,71.48563,73.11197,93.79314,70.21586,101.31689,80.96523,76.52917,97.54304,74.49004,64.44412,71.67196,57.47945,63.28068,81.40287,76.06382,95.07832,79.6121,89.09202,73.97655,71.1581,91.25062,70.23455,49.44999,73.24238,61.45689,72.4916,69.05299,70.99671,64.47071,82.10964,75.9571,64.68105,89.81376,72.07545,71.8368,67.176,55.90673,78.35869,73.14323,76.57904,73.17421,78.28359,74.25069,75.32666,72.41964,60.13209,75.22222,59.48705,67.88907,72.91421,74.78639,55.72178,80.84604,72.66594,75.1039,70.4778,78.70615,74.20011,67.25145,72.60429,79.74383,68.25625,74.49373,65.849,69.17805,75.00403,72.5837,72.49381,77.28256,115.70831,73.84022,106.40405,87.28432,79.88586,73.83021,66.3642,73.30464,77.77288,71.19251,65.80547,61.05244,94.32842,77.29109,60.46303,104.85804,129.19235,58.78726,68.59819,61.72048,93.04756,60.24651,69.2803,65.99244,60.11943,74.46048,77.45022,64.08555,70.72768,69.7328,82.99909,82.43497,74.01125,71.61713,60.9728,68.62319,66.44883,104.37067,77.68874,82.06682,78.44576,71.57054,60.87173,72.16633,80.62798,84.53596,68.59628,75.64149,88.9438,78.20672,66.48456,73.45689,74.35159,67.16197,69.54494,72.01503,67.23126,89.30307,85.93044,62.2055,69.85381,70.57485,74.22614,78.73269,78.58454,71.89353,81.4464,72.64695,102.94645,71.01952,61.85563,83.74645,76.3647,57.01952,69.78236,90.29092,77.357,73.74285,76.91783,74.71154,57.24676,83.19688,78.0159,70.55944,81.92933,67.93129,52.55591,98.04009,105.96922,70.64877,68.67843,72.31802,63.06489,85.41795,55.16263,65.32708,65.11216,70.47185,78.01859,67.37601,81.58194,70.21343,77.41038,83.73086,62.57685,69.03563,73.31915,90.15929,71.95274,84.47291,73.80585,68.12952,71.43511,98.1838,60.09393,83.46563,60.75573,68.68209,89.6134,76.57642,65.81123,66.56992,78.4133,73.03111,72.15891,70.12385,73.83938,75.32882,69.43643,54.61016,68.04996,77.53626,87.88487,64.11703,63.27786,105.08118,65.26231,64.34516,78.13475,69.14839,72.37225,71.61892,63.06641,79.46741,76.60947,69.5405,81.51165,76.59236,62.56528,68.05852,82.56396,72.69624,64.6024,67.50007,94.92781,72.41335,117.60269,75.30732,67.01763,67.35277,69.36683,58.43732,81.20145,79.77189,70.19304,65.98316,71.01812,68.46297,108.8067,74.68915,72.1808,95.52195,64.1568,68.97045,93.85668,66.33567,70.33884,89.78997,74.9637,64.83754,62.37605,82.38763,87.15864,68.86896,72.77937,66.8003,57.5377,55.66984,70.06055,68.01091,79.5657,74.67837,72.21803,78.84833,68.46572,94.23068,75.59044,77.89244,77.43863,74.77942,75.07308,75.41774,117.9069,75.73765,81.63937,111.41726,83.4715,71.08747,88.50995,56.90041,61.79207,64.26582,73.64323,79.57519,60.98692,71.47683,67.90929,67.81738,90.48086,86.07313,64.7254,70.35944,74.80945,60.27035,73.92355,60.59175,76.00771,85.32669,104.51082,134.70939,80.87383,78.48702,65.44148,75.37208,90.22697,69.96917,84.3328,78.86843,55.81966,70.69345,62.44899,68.69497,76.33017,73.27924,104.41235,90.34572,79.66668,66.87611,72.08525,68.36129,75.67102,95.91262,85.66666,81.18564,76.42574,67.41498,66.25477,75.23859,74.45305,115.14502,81.67838,79.19065,92.26897,70.15658,72.48703,53.94429,76.11007,66.77672,77.81837,81.32425,70.94195,72.1823,60.33517,77.33129,70.16142,72.33514,97.17258,82.82819,69.58037,61.76822,58.56671,115.71805,71.41283,99.45277,64.93326,106.46449,72.75849,77.93699,73.50859,74.33009,93.23194,87.52049,107.69775,66.16551,115.44308,73.39004,89.27693,80.78231,69.61575,80.36786,94.64768,101.49304,75.02624,65.84757,74.43549,70.38079,73.9911,83.02401,80.30467,80.50988,71.88966,61.15926,64.18694,91.49975,64.96676,65.80029,85.98838,83.42585,65.13841,69.78826,80.32442,104.36454,82.72068,71.23724,59.16546,81.60436,56.82734,73.00423,62.71384,74.88493,66.46437,72.26885,65.15725,70.53383,67.80807,86.91946,77.17977,86.34111,77.29287,77.31681,74.48319,69.30223,103.27077,70.43038,74.45989,72.69028,77.21444,92.90427,68.57974,70.59969,102.98092,81.1684,75.01647,75.43884,78.78389,70.94523,74.70729,65.47571,65.95836,67.0361,88.05225,82.29272,62.57318,87.67141,105.81244,49.58067,76.25053,81.57129,81.33797,67.30583,80.23557,80.29917,59.95156,71.45686,77.38354,78.0492,61.50336,74.49599,75.43784,67.73246,82.75487,77.03776,70.09622,63.53313,54.83601,108.44335,94.74902,73.18697,68.70683,63.56775,72.7229,74.21992,62.35265,79.21319,81.22271,119.67457,73.86677,107.13852,66.40609,75.21544,70.20025,83.61167,74.90615,67.71072,72.60987,70.40919,65.03726,98.40577,53.77252,103.48868,82.70977,60.48646,95.69469,79.80981,73.90243,66.0906,79.01997,108.32605,67.26419,68.20542,96.0688,71.79667,88.2532,74.70535,72.41524,76.49575,62.49542,94.32428,112.84495,78.16949,73.04806,91.64079,66.42651,76.18911,75.71227,63.91556,72.06142,89.23556,87.15545,60.80943,66.14534,87.43066,68.09809,67.20235,79.62922,81.78469,79.97999,83.75366,77.83044,69.16634,59.63057,102.69575,79.07121,80.51779,65.35591],\"type\":\"scatter\"}],                        {\"height\":600,\"title\":{\"text\":\"Scatter Plot of treatment indicator vs. Weight\"},\"width\":1000,\"xaxis\":{\"title\":{\"text\":\"Treatment indicator\"}},\"yaxis\":{\"title\":{\"text\":\"Weight of the patient\"}},\"template\":{\"data\":{\"histogram2dcontour\":[{\"type\":\"histogram2dcontour\",\"colorbar\":{\"outlinewidth\":0,\"ticks\":\"\"},\"colorscale\":[[0.0,\"#0d0887\"],[0.1111111111111111,\"#46039f\"],[0.2222222222222222,\"#7201a8\"],[0.3333333333333333,\"#9c179e\"],[0.4444444444444444,\"#bd3786\"],[0.5555555555555556,\"#d8576b\"],[0.6666666666666666,\"#ed7953\"],[0.7777777777777778,\"#fb9f3a\"],[0.8888888888888888,\"#fdca26\"],[1.0,\"#f0f921\"]]}],\"choropleth\":[{\"type\":\"choropleth\",\"colorbar\":{\"outlinewidth\":0,\"ticks\":\"\"}}],\"histogram2d\":[{\"type\":\"histogram2d\",\"colorbar\":{\"outlinewidth\":0,\"ticks\":\"\"},\"colorscale\":[[0.0,\"#0d0887\"],[0.1111111111111111,\"#46039f\"],[0.2222222222222222,\"#7201a8\"],[0.3333333333333333,\"#9c179e\"],[0.4444444444444444,\"#bd3786\"],[0.5555555555555556,\"#d8576b\"],[0.6666666666666666,\"#ed7953\"],[0.7777777777777778,\"#fb9f3a\"],[0.8888888888888888,\"#fdca26\"],[1.0,\"#f0f921\"]]}],\"heatmap\":[{\"type\":\"heatmap\",\"colorbar\":{\"outlinewidth\":0,\"ticks\":\"\"},\"colorscale\":[[0.0,\"#0d0887\"],[0.1111111111111111,\"#46039f\"],[0.2222222222222222,\"#7201a8\"],[0.3333333333333333,\"#9c179e\"],[0.4444444444444444,\"#bd3786\"],[0.5555555555555556,\"#d8576b\"],[0.6666666666666666,\"#ed7953\"],[0.7777777777777778,\"#fb9f3a\"],[0.8888888888888888,\"#fdca26\"],[1.0,\"#f0f921\"]]}],\"heatmapgl\":[{\"type\":\"heatmapgl\",\"colorbar\":{\"outlinewidth\":0,\"ticks\":\"\"},\"colorscale\":[[0.0,\"#0d0887\"],[0.1111111111111111,\"#46039f\"],[0.2222222222222222,\"#7201a8\"],[0.3333333333333333,\"#9c179e\"],[0.4444444444444444,\"#bd3786\"],[0.5555555555555556,\"#d8576b\"],[0.6666666666666666,\"#ed7953\"],[0.7777777777777778,\"#fb9f3a\"],[0.8888888888888888,\"#fdca26\"],[1.0,\"#f0f921\"]]}],\"contourcarpet\":[{\"type\":\"contourcarpet\",\"colorbar\":{\"outlinewidth\":0,\"ticks\":\"\"}}],\"contour\":[{\"type\":\"contour\",\"colorbar\":{\"outlinewidth\":0,\"ticks\":\"\"},\"colorscale\":[[0.0,\"#0d0887\"],[0.1111111111111111,\"#46039f\"],[0.2222222222222222,\"#7201a8\"],[0.3333333333333333,\"#9c179e\"],[0.4444444444444444,\"#bd3786\"],[0.5555555555555556,\"#d8576b\"],[0.6666666666666666,\"#ed7953\"],[0.7777777777777778,\"#fb9f3a\"],[0.8888888888888888,\"#fdca26\"],[1.0,\"#f0f921\"]]}],\"surface\":[{\"type\":\"surface\",\"colorbar\":{\"outlinewidth\":0,\"ticks\":\"\"},\"colorscale\":[[0.0,\"#0d0887\"],[0.1111111111111111,\"#46039f\"],[0.2222222222222222,\"#7201a8\"],[0.3333333333333333,\"#9c179e\"],[0.4444444444444444,\"#bd3786\"],[0.5555555555555556,\"#d8576b\"],[0.6666666666666666,\"#ed7953\"],[0.7777777777777778,\"#fb9f3a\"],[0.8888888888888888,\"#fdca26\"],[1.0,\"#f0f921\"]]}],\"mesh3d\":[{\"type\":\"mesh3d\",\"colorbar\":{\"outlinewidth\":0,\"ticks\":\"\"}}],\"scatter\":[{\"fillpattern\":{\"fillmode\":\"overlay\",\"size\":10,\"solidity\":0.2},\"type\":\"scatter\"}],\"parcoords\":[{\"type\":\"parcoords\",\"line\":{\"colorbar\":{\"outlinewidth\":0,\"ticks\":\"\"}}}],\"scatterpolargl\":[{\"type\":\"scatterpolargl\",\"marker\":{\"colorbar\":{\"outlinewidth\":0,\"ticks\":\"\"}}}],\"bar\":[{\"error_x\":{\"color\":\"#2a3f5f\"},\"error_y\":{\"color\":\"#2a3f5f\"},\"marker\":{\"line\":{\"color\":\"#E5ECF6\",\"width\":0.5},\"pattern\":{\"fillmode\":\"overlay\",\"size\":10,\"solidity\":0.2}},\"type\":\"bar\"}],\"scattergeo\":[{\"type\":\"scattergeo\",\"marker\":{\"colorbar\":{\"outlinewidth\":0,\"ticks\":\"\"}}}],\"scatterpolar\":[{\"type\":\"scatterpolar\",\"marker\":{\"colorbar\":{\"outlinewidth\":0,\"ticks\":\"\"}}}],\"histogram\":[{\"marker\":{\"pattern\":{\"fillmode\":\"overlay\",\"size\":10,\"solidity\":0.2}},\"type\":\"histogram\"}],\"scattergl\":[{\"type\":\"scattergl\",\"marker\":{\"colorbar\":{\"outlinewidth\":0,\"ticks\":\"\"}}}],\"scatter3d\":[{\"type\":\"scatter3d\",\"line\":{\"colorbar\":{\"outlinewidth\":0,\"ticks\":\"\"}},\"marker\":{\"colorbar\":{\"outlinewidth\":0,\"ticks\":\"\"}}}],\"scattermapbox\":[{\"type\":\"scattermapbox\",\"marker\":{\"colorbar\":{\"outlinewidth\":0,\"ticks\":\"\"}}}],\"scatterternary\":[{\"type\":\"scatterternary\",\"marker\":{\"colorbar\":{\"outlinewidth\":0,\"ticks\":\"\"}}}],\"scattercarpet\":[{\"type\":\"scattercarpet\",\"marker\":{\"colorbar\":{\"outlinewidth\":0,\"ticks\":\"\"}}}],\"carpet\":[{\"aaxis\":{\"endlinecolor\":\"#2a3f5f\",\"gridcolor\":\"white\",\"linecolor\":\"white\",\"minorgridcolor\":\"white\",\"startlinecolor\":\"#2a3f5f\"},\"baxis\":{\"endlinecolor\":\"#2a3f5f\",\"gridcolor\":\"white\",\"linecolor\":\"white\",\"minorgridcolor\":\"white\",\"startlinecolor\":\"#2a3f5f\"},\"type\":\"carpet\"}],\"table\":[{\"cells\":{\"fill\":{\"color\":\"#EBF0F8\"},\"line\":{\"color\":\"white\"}},\"header\":{\"fill\":{\"color\":\"#C8D4E3\"},\"line\":{\"color\":\"white\"}},\"type\":\"table\"}],\"barpolar\":[{\"marker\":{\"line\":{\"color\":\"#E5ECF6\",\"width\":0.5},\"pattern\":{\"fillmode\":\"overlay\",\"size\":10,\"solidity\":0.2}},\"type\":\"barpolar\"}],\"pie\":[{\"automargin\":true,\"type\":\"pie\"}]},\"layout\":{\"autotypenumbers\":\"strict\",\"colorway\":[\"#636efa\",\"#EF553B\",\"#00cc96\",\"#ab63fa\",\"#FFA15A\",\"#19d3f3\",\"#FF6692\",\"#B6E880\",\"#FF97FF\",\"#FECB52\"],\"font\":{\"color\":\"#2a3f5f\"},\"hovermode\":\"closest\",\"hoverlabel\":{\"align\":\"left\"},\"paper_bgcolor\":\"white\",\"plot_bgcolor\":\"#E5ECF6\",\"polar\":{\"bgcolor\":\"#E5ECF6\",\"angularaxis\":{\"gridcolor\":\"white\",\"linecolor\":\"white\",\"ticks\":\"\"},\"radialaxis\":{\"gridcolor\":\"white\",\"linecolor\":\"white\",\"ticks\":\"\"}},\"ternary\":{\"bgcolor\":\"#E5ECF6\",\"aaxis\":{\"gridcolor\":\"white\",\"linecolor\":\"white\",\"ticks\":\"\"},\"baxis\":{\"gridcolor\":\"white\",\"linecolor\":\"white\",\"ticks\":\"\"},\"caxis\":{\"gridcolor\":\"white\",\"linecolor\":\"white\",\"ticks\":\"\"}},\"coloraxis\":{\"colorbar\":{\"outlinewidth\":0,\"ticks\":\"\"}},\"colorscale\":{\"sequential\":[[0.0,\"#0d0887\"],[0.1111111111111111,\"#46039f\"],[0.2222222222222222,\"#7201a8\"],[0.3333333333333333,\"#9c179e\"],[0.4444444444444444,\"#bd3786\"],[0.5555555555555556,\"#d8576b\"],[0.6666666666666666,\"#ed7953\"],[0.7777777777777778,\"#fb9f3a\"],[0.8888888888888888,\"#fdca26\"],[1.0,\"#f0f921\"]],\"sequentialminus\":[[0.0,\"#0d0887\"],[0.1111111111111111,\"#46039f\"],[0.2222222222222222,\"#7201a8\"],[0.3333333333333333,\"#9c179e\"],[0.4444444444444444,\"#bd3786\"],[0.5555555555555556,\"#d8576b\"],[0.6666666666666666,\"#ed7953\"],[0.7777777777777778,\"#fb9f3a\"],[0.8888888888888888,\"#fdca26\"],[1.0,\"#f0f921\"]],\"diverging\":[[0,\"#8e0152\"],[0.1,\"#c51b7d\"],[0.2,\"#de77ae\"],[0.3,\"#f1b6da\"],[0.4,\"#fde0ef\"],[0.5,\"#f7f7f7\"],[0.6,\"#e6f5d0\"],[0.7,\"#b8e186\"],[0.8,\"#7fbc41\"],[0.9,\"#4d9221\"],[1,\"#276419\"]]},\"xaxis\":{\"gridcolor\":\"white\",\"linecolor\":\"white\",\"ticks\":\"\",\"title\":{\"standoff\":15},\"zerolinecolor\":\"white\",\"automargin\":true,\"zerolinewidth\":2},\"yaxis\":{\"gridcolor\":\"white\",\"linecolor\":\"white\",\"ticks\":\"\",\"title\":{\"standoff\":15},\"zerolinecolor\":\"white\",\"automargin\":true,\"zerolinewidth\":2},\"scene\":{\"xaxis\":{\"backgroundcolor\":\"#E5ECF6\",\"gridcolor\":\"white\",\"linecolor\":\"white\",\"showbackground\":true,\"ticks\":\"\",\"zerolinecolor\":\"white\",\"gridwidth\":2},\"yaxis\":{\"backgroundcolor\":\"#E5ECF6\",\"gridcolor\":\"white\",\"linecolor\":\"white\",\"showbackground\":true,\"ticks\":\"\",\"zerolinecolor\":\"white\",\"gridwidth\":2},\"zaxis\":{\"backgroundcolor\":\"#E5ECF6\",\"gridcolor\":\"white\",\"linecolor\":\"white\",\"showbackground\":true,\"ticks\":\"\",\"zerolinecolor\":\"white\",\"gridwidth\":2}},\"shapedefaults\":{\"line\":{\"color\":\"#2a3f5f\"}},\"annotationdefaults\":{\"arrowcolor\":\"#2a3f5f\",\"arrowhead\":0,\"arrowwidth\":1},\"geo\":{\"bgcolor\":\"white\",\"landcolor\":\"#E5ECF6\",\"subunitcolor\":\"white\",\"showland\":true,\"showlakes\":true,\"lakecolor\":\"white\"},\"title\":{\"x\":0.05},\"mapbox\":{\"style\":\"light\"}}}},                        {\"responsive\": true}                    ).then(function(){\n",
       "                            \n",
       "var gd = document.getElementById('739049b0-41b7-44a1-8080-56e4b0c3bd34');\n",
       "var x = new MutationObserver(function (mutations, observer) {{\n",
       "        var display = window.getComputedStyle(gd).display;\n",
       "        if (!display || display === 'none') {{\n",
       "            console.log([gd, 'removed!']);\n",
       "            Plotly.purge(gd);\n",
       "            observer.disconnect();\n",
       "        }}\n",
       "}});\n",
       "\n",
       "// Listen for the removal of the full notebook cells\n",
       "var notebookContainer = gd.closest('#notebook-container');\n",
       "if (notebookContainer) {{\n",
       "    x.observe(notebookContainer, {childList: true});\n",
       "}}\n",
       "\n",
       "// Listen for the clearing of the current output cell\n",
       "var outputEl = gd.closest('.output');\n",
       "if (outputEl) {{\n",
       "    x.observe(outputEl, {childList: true});\n",
       "}}\n",
       "\n",
       "                        })                };                });            </script>        </div>"
      ]
     },
     "metadata": {},
     "output_type": "display_data"
    }
   ],
   "source": [
    "scatter_trace = go.Scatter(\n",
    "    x=df['trt'],\n",
    "    y=df['wtkg'],\n",
    "    mode='markers',\n",
    "    marker=dict(\n",
    "        color=df['trt'],\n",
    "        colorscale='Viridis',  # Optional: Choose a colorscale\n",
    "        showscale=True\n",
    "    )\n",
    ")\n",
    "''\n",
    "# Set up the layout\n",
    "layout = go.Layout(\n",
    "    width=1000,\n",
    "    height=600,\n",
    "    xaxis=dict(title='Treatment indicator'),\n",
    "    yaxis=dict(title='Weight of the patient'),\n",
    "    title='Scatter Plot of treatment indicator vs. Weight'\n",
    ")\n",
    "\n",
    "fig.update_layout(\n",
    "    title=\"Scatter Plot of Treatment Indicator vs. Weight\",\n",
    "    title_font_family=\"Times New Roman\",\n",
    "    title_font_color=\"#000000\",\n",
    "    paper_bgcolor='#ffffff',\n",
    "    plot_bgcolor='#ffffff',\n",
    "    xaxis=dict(title='Treatment Indicator'),\n",
    "    yaxis=dict(title='Weight')\n",
    ")\n",
    "\n",
    "\n",
    "fig.update_layout(width=1000)\n",
    "\n",
    "# Create the figure\n",
    "fig = go.Figure(data=[scatter_trace], layout=layout)\n",
    "\n",
    "# Display the figure\n",
    "fig.show()"
   ]
  },
  {
   "cell_type": "markdown",
   "id": "91bca716",
   "metadata": {
    "papermill": {
     "duration": 0.04752,
     "end_time": "2024-06-02T14:38:21.769660",
     "exception": false,
     "start_time": "2024-06-02T14:38:21.722140",
     "status": "completed"
    },
    "tags": []
   },
   "source": [
    "## trt vs hemo \n",
    "\n",
    "***Conclusion***\n",
    "\n",
    "- *There is no association between the two*"
   ]
  },
  {
   "cell_type": "code",
   "execution_count": 66,
   "id": "c7b4c3bb",
   "metadata": {
    "execution": {
     "iopub.execute_input": "2024-06-02T14:38:21.867879Z",
     "iopub.status.busy": "2024-06-02T14:38:21.867472Z",
     "iopub.status.idle": "2024-06-02T14:38:21.919664Z",
     "shell.execute_reply": "2024-06-02T14:38:21.918370Z"
    },
    "papermill": {
     "duration": 0.105053,
     "end_time": "2024-06-02T14:38:21.922432",
     "exception": false,
     "start_time": "2024-06-02T14:38:21.817379",
     "status": "completed"
    },
    "tags": []
   },
   "outputs": [
    {
     "data": {
      "text/html": [
       "<div>                            <div id=\"34d2921a-c2a1-4a2f-aedb-a0e0c8ef1693\" class=\"plotly-graph-div\" style=\"height:525px; width:1000px;\"></div>            <script type=\"text/javascript\">                require([\"plotly\"], function(Plotly) {                    window.PLOTLYENV=window.PLOTLYENV || {};                                    if (document.getElementById(\"34d2921a-c2a1-4a2f-aedb-a0e0c8ef1693\")) {                    Plotly.newPlot(                        \"34d2921a-c2a1-4a2f-aedb-a0e0c8ef1693\",                        [{\"colorscale\":[[0.0,\"#440154\"],[0.1111111111111111,\"#482878\"],[0.2222222222222222,\"#3e4989\"],[0.3333333333333333,\"#31688e\"],[0.4444444444444444,\"#26828e\"],[0.5555555555555556,\"#1f9e89\"],[0.6666666666666666,\"#35b779\"],[0.7777777777777778,\"#6ece58\"],[0.8888888888888888,\"#b5de2b\"],[1.0,\"#fde725\"]],\"x\":[0,1],\"y\":[0,1,2,3],\"z\":[[5364,186],[2057,62],[3071,111],[4028,121]],\"type\":\"heatmap\"}],                        {\"title\":{\"text\":\"Heatmap of Treatment indicator vs Hemophilia\",\"font\":{\"family\":\"Times New Roman\",\"color\":\"#000000\"}},\"xaxis\":{\"title\":{\"text\":\"Hemophilia\"}},\"yaxis\":{\"title\":{\"text\":\"Treatment Indicator\"}},\"template\":{\"data\":{\"histogram2dcontour\":[{\"type\":\"histogram2dcontour\",\"colorbar\":{\"outlinewidth\":0,\"ticks\":\"\"},\"colorscale\":[[0.0,\"#0d0887\"],[0.1111111111111111,\"#46039f\"],[0.2222222222222222,\"#7201a8\"],[0.3333333333333333,\"#9c179e\"],[0.4444444444444444,\"#bd3786\"],[0.5555555555555556,\"#d8576b\"],[0.6666666666666666,\"#ed7953\"],[0.7777777777777778,\"#fb9f3a\"],[0.8888888888888888,\"#fdca26\"],[1.0,\"#f0f921\"]]}],\"choropleth\":[{\"type\":\"choropleth\",\"colorbar\":{\"outlinewidth\":0,\"ticks\":\"\"}}],\"histogram2d\":[{\"type\":\"histogram2d\",\"colorbar\":{\"outlinewidth\":0,\"ticks\":\"\"},\"colorscale\":[[0.0,\"#0d0887\"],[0.1111111111111111,\"#46039f\"],[0.2222222222222222,\"#7201a8\"],[0.3333333333333333,\"#9c179e\"],[0.4444444444444444,\"#bd3786\"],[0.5555555555555556,\"#d8576b\"],[0.6666666666666666,\"#ed7953\"],[0.7777777777777778,\"#fb9f3a\"],[0.8888888888888888,\"#fdca26\"],[1.0,\"#f0f921\"]]}],\"heatmap\":[{\"type\":\"heatmap\",\"colorbar\":{\"outlinewidth\":0,\"ticks\":\"\"},\"colorscale\":[[0.0,\"#0d0887\"],[0.1111111111111111,\"#46039f\"],[0.2222222222222222,\"#7201a8\"],[0.3333333333333333,\"#9c179e\"],[0.4444444444444444,\"#bd3786\"],[0.5555555555555556,\"#d8576b\"],[0.6666666666666666,\"#ed7953\"],[0.7777777777777778,\"#fb9f3a\"],[0.8888888888888888,\"#fdca26\"],[1.0,\"#f0f921\"]]}],\"heatmapgl\":[{\"type\":\"heatmapgl\",\"colorbar\":{\"outlinewidth\":0,\"ticks\":\"\"},\"colorscale\":[[0.0,\"#0d0887\"],[0.1111111111111111,\"#46039f\"],[0.2222222222222222,\"#7201a8\"],[0.3333333333333333,\"#9c179e\"],[0.4444444444444444,\"#bd3786\"],[0.5555555555555556,\"#d8576b\"],[0.6666666666666666,\"#ed7953\"],[0.7777777777777778,\"#fb9f3a\"],[0.8888888888888888,\"#fdca26\"],[1.0,\"#f0f921\"]]}],\"contourcarpet\":[{\"type\":\"contourcarpet\",\"colorbar\":{\"outlinewidth\":0,\"ticks\":\"\"}}],\"contour\":[{\"type\":\"contour\",\"colorbar\":{\"outlinewidth\":0,\"ticks\":\"\"},\"colorscale\":[[0.0,\"#0d0887\"],[0.1111111111111111,\"#46039f\"],[0.2222222222222222,\"#7201a8\"],[0.3333333333333333,\"#9c179e\"],[0.4444444444444444,\"#bd3786\"],[0.5555555555555556,\"#d8576b\"],[0.6666666666666666,\"#ed7953\"],[0.7777777777777778,\"#fb9f3a\"],[0.8888888888888888,\"#fdca26\"],[1.0,\"#f0f921\"]]}],\"surface\":[{\"type\":\"surface\",\"colorbar\":{\"outlinewidth\":0,\"ticks\":\"\"},\"colorscale\":[[0.0,\"#0d0887\"],[0.1111111111111111,\"#46039f\"],[0.2222222222222222,\"#7201a8\"],[0.3333333333333333,\"#9c179e\"],[0.4444444444444444,\"#bd3786\"],[0.5555555555555556,\"#d8576b\"],[0.6666666666666666,\"#ed7953\"],[0.7777777777777778,\"#fb9f3a\"],[0.8888888888888888,\"#fdca26\"],[1.0,\"#f0f921\"]]}],\"mesh3d\":[{\"type\":\"mesh3d\",\"colorbar\":{\"outlinewidth\":0,\"ticks\":\"\"}}],\"scatter\":[{\"fillpattern\":{\"fillmode\":\"overlay\",\"size\":10,\"solidity\":0.2},\"type\":\"scatter\"}],\"parcoords\":[{\"type\":\"parcoords\",\"line\":{\"colorbar\":{\"outlinewidth\":0,\"ticks\":\"\"}}}],\"scatterpolargl\":[{\"type\":\"scatterpolargl\",\"marker\":{\"colorbar\":{\"outlinewidth\":0,\"ticks\":\"\"}}}],\"bar\":[{\"error_x\":{\"color\":\"#2a3f5f\"},\"error_y\":{\"color\":\"#2a3f5f\"},\"marker\":{\"line\":{\"color\":\"#E5ECF6\",\"width\":0.5},\"pattern\":{\"fillmode\":\"overlay\",\"size\":10,\"solidity\":0.2}},\"type\":\"bar\"}],\"scattergeo\":[{\"type\":\"scattergeo\",\"marker\":{\"colorbar\":{\"outlinewidth\":0,\"ticks\":\"\"}}}],\"scatterpolar\":[{\"type\":\"scatterpolar\",\"marker\":{\"colorbar\":{\"outlinewidth\":0,\"ticks\":\"\"}}}],\"histogram\":[{\"marker\":{\"pattern\":{\"fillmode\":\"overlay\",\"size\":10,\"solidity\":0.2}},\"type\":\"histogram\"}],\"scattergl\":[{\"type\":\"scattergl\",\"marker\":{\"colorbar\":{\"outlinewidth\":0,\"ticks\":\"\"}}}],\"scatter3d\":[{\"type\":\"scatter3d\",\"line\":{\"colorbar\":{\"outlinewidth\":0,\"ticks\":\"\"}},\"marker\":{\"colorbar\":{\"outlinewidth\":0,\"ticks\":\"\"}}}],\"scattermapbox\":[{\"type\":\"scattermapbox\",\"marker\":{\"colorbar\":{\"outlinewidth\":0,\"ticks\":\"\"}}}],\"scatterternary\":[{\"type\":\"scatterternary\",\"marker\":{\"colorbar\":{\"outlinewidth\":0,\"ticks\":\"\"}}}],\"scattercarpet\":[{\"type\":\"scattercarpet\",\"marker\":{\"colorbar\":{\"outlinewidth\":0,\"ticks\":\"\"}}}],\"carpet\":[{\"aaxis\":{\"endlinecolor\":\"#2a3f5f\",\"gridcolor\":\"white\",\"linecolor\":\"white\",\"minorgridcolor\":\"white\",\"startlinecolor\":\"#2a3f5f\"},\"baxis\":{\"endlinecolor\":\"#2a3f5f\",\"gridcolor\":\"white\",\"linecolor\":\"white\",\"minorgridcolor\":\"white\",\"startlinecolor\":\"#2a3f5f\"},\"type\":\"carpet\"}],\"table\":[{\"cells\":{\"fill\":{\"color\":\"#EBF0F8\"},\"line\":{\"color\":\"white\"}},\"header\":{\"fill\":{\"color\":\"#C8D4E3\"},\"line\":{\"color\":\"white\"}},\"type\":\"table\"}],\"barpolar\":[{\"marker\":{\"line\":{\"color\":\"#E5ECF6\",\"width\":0.5},\"pattern\":{\"fillmode\":\"overlay\",\"size\":10,\"solidity\":0.2}},\"type\":\"barpolar\"}],\"pie\":[{\"automargin\":true,\"type\":\"pie\"}]},\"layout\":{\"autotypenumbers\":\"strict\",\"colorway\":[\"#636efa\",\"#EF553B\",\"#00cc96\",\"#ab63fa\",\"#FFA15A\",\"#19d3f3\",\"#FF6692\",\"#B6E880\",\"#FF97FF\",\"#FECB52\"],\"font\":{\"color\":\"#2a3f5f\"},\"hovermode\":\"closest\",\"hoverlabel\":{\"align\":\"left\"},\"paper_bgcolor\":\"white\",\"plot_bgcolor\":\"#E5ECF6\",\"polar\":{\"bgcolor\":\"#E5ECF6\",\"angularaxis\":{\"gridcolor\":\"white\",\"linecolor\":\"white\",\"ticks\":\"\"},\"radialaxis\":{\"gridcolor\":\"white\",\"linecolor\":\"white\",\"ticks\":\"\"}},\"ternary\":{\"bgcolor\":\"#E5ECF6\",\"aaxis\":{\"gridcolor\":\"white\",\"linecolor\":\"white\",\"ticks\":\"\"},\"baxis\":{\"gridcolor\":\"white\",\"linecolor\":\"white\",\"ticks\":\"\"},\"caxis\":{\"gridcolor\":\"white\",\"linecolor\":\"white\",\"ticks\":\"\"}},\"coloraxis\":{\"colorbar\":{\"outlinewidth\":0,\"ticks\":\"\"}},\"colorscale\":{\"sequential\":[[0.0,\"#0d0887\"],[0.1111111111111111,\"#46039f\"],[0.2222222222222222,\"#7201a8\"],[0.3333333333333333,\"#9c179e\"],[0.4444444444444444,\"#bd3786\"],[0.5555555555555556,\"#d8576b\"],[0.6666666666666666,\"#ed7953\"],[0.7777777777777778,\"#fb9f3a\"],[0.8888888888888888,\"#fdca26\"],[1.0,\"#f0f921\"]],\"sequentialminus\":[[0.0,\"#0d0887\"],[0.1111111111111111,\"#46039f\"],[0.2222222222222222,\"#7201a8\"],[0.3333333333333333,\"#9c179e\"],[0.4444444444444444,\"#bd3786\"],[0.5555555555555556,\"#d8576b\"],[0.6666666666666666,\"#ed7953\"],[0.7777777777777778,\"#fb9f3a\"],[0.8888888888888888,\"#fdca26\"],[1.0,\"#f0f921\"]],\"diverging\":[[0,\"#8e0152\"],[0.1,\"#c51b7d\"],[0.2,\"#de77ae\"],[0.3,\"#f1b6da\"],[0.4,\"#fde0ef\"],[0.5,\"#f7f7f7\"],[0.6,\"#e6f5d0\"],[0.7,\"#b8e186\"],[0.8,\"#7fbc41\"],[0.9,\"#4d9221\"],[1,\"#276419\"]]},\"xaxis\":{\"gridcolor\":\"white\",\"linecolor\":\"white\",\"ticks\":\"\",\"title\":{\"standoff\":15},\"zerolinecolor\":\"white\",\"automargin\":true,\"zerolinewidth\":2},\"yaxis\":{\"gridcolor\":\"white\",\"linecolor\":\"white\",\"ticks\":\"\",\"title\":{\"standoff\":15},\"zerolinecolor\":\"white\",\"automargin\":true,\"zerolinewidth\":2},\"scene\":{\"xaxis\":{\"backgroundcolor\":\"#E5ECF6\",\"gridcolor\":\"white\",\"linecolor\":\"white\",\"showbackground\":true,\"ticks\":\"\",\"zerolinecolor\":\"white\",\"gridwidth\":2},\"yaxis\":{\"backgroundcolor\":\"#E5ECF6\",\"gridcolor\":\"white\",\"linecolor\":\"white\",\"showbackground\":true,\"ticks\":\"\",\"zerolinecolor\":\"white\",\"gridwidth\":2},\"zaxis\":{\"backgroundcolor\":\"#E5ECF6\",\"gridcolor\":\"white\",\"linecolor\":\"white\",\"showbackground\":true,\"ticks\":\"\",\"zerolinecolor\":\"white\",\"gridwidth\":2}},\"shapedefaults\":{\"line\":{\"color\":\"#2a3f5f\"}},\"annotationdefaults\":{\"arrowcolor\":\"#2a3f5f\",\"arrowhead\":0,\"arrowwidth\":1},\"geo\":{\"bgcolor\":\"white\",\"landcolor\":\"#E5ECF6\",\"subunitcolor\":\"white\",\"showland\":true,\"showlakes\":true,\"lakecolor\":\"white\"},\"title\":{\"x\":0.05},\"mapbox\":{\"style\":\"light\"}}},\"paper_bgcolor\":\"#ffffff\",\"plot_bgcolor\":\"#ffffff\",\"width\":1000},                        {\"responsive\": true}                    ).then(function(){\n",
       "                            \n",
       "var gd = document.getElementById('34d2921a-c2a1-4a2f-aedb-a0e0c8ef1693');\n",
       "var x = new MutationObserver(function (mutations, observer) {{\n",
       "        var display = window.getComputedStyle(gd).display;\n",
       "        if (!display || display === 'none') {{\n",
       "            console.log([gd, 'removed!']);\n",
       "            Plotly.purge(gd);\n",
       "            observer.disconnect();\n",
       "        }}\n",
       "}});\n",
       "\n",
       "// Listen for the removal of the full notebook cells\n",
       "var notebookContainer = gd.closest('#notebook-container');\n",
       "if (notebookContainer) {{\n",
       "    x.observe(notebookContainer, {childList: true});\n",
       "}}\n",
       "\n",
       "// Listen for the clearing of the current output cell\n",
       "var outputEl = gd.closest('.output');\n",
       "if (outputEl) {{\n",
       "    x.observe(outputEl, {childList: true});\n",
       "}}\n",
       "\n",
       "                        })                };                });            </script>        </div>"
      ]
     },
     "metadata": {},
     "output_type": "display_data"
    }
   ],
   "source": [
    "crosstab = pd.crosstab(df['trt'], df['hemo'])\n",
    "\n",
    "heatmap_trace = go.Heatmap(\n",
    "    z=crosstab.values,\n",
    "    x=crosstab.columns.tolist(),\n",
    "    y=crosstab.index.tolist(),\n",
    "    colorscale='Viridis'\n",
    ")\n",
    "\n",
    "layout = go.Layout(\n",
    "    title=\"Heatmap of Treatment indicator vs Hemophilia\",\n",
    "    xaxis=dict(title='Hemophilia'),\n",
    "    yaxis=dict(title='Treatment Indicator')\n",
    ")\n",
    "\n",
    "fig = go.Figure(data=[heatmap_trace], layout=layout)\n",
    "\n",
    "# Update layout with additional settings\n",
    "fig.update_layout(\n",
    "    title_font_family=\"Times New Roman\",\n",
    "    title_font_color=\"#000000\",\n",
    "    paper_bgcolor='#ffffff',\n",
    "    plot_bgcolor='#ffffff'\n",
    ")\n",
    "\n",
    "fig.update_layout(width=1000)\n",
    "\n",
    "# Display the figure\n",
    "fig.show()"
   ]
  },
  {
   "cell_type": "markdown",
   "id": "83e8ec54",
   "metadata": {
    "papermill": {
     "duration": 0.047782,
     "end_time": "2024-06-02T14:38:22.018912",
     "exception": false,
     "start_time": "2024-06-02T14:38:21.971130",
     "status": "completed"
    },
    "tags": []
   },
   "source": [
    "*Evidently, most of the patients who have hemophilia were administered treatment 0 (ZDV only) but it's hard to say if there is any associatione between the two by just a graph. We can perform statistical tests to understand their association better*"
   ]
  },
  {
   "cell_type": "code",
   "execution_count": 67,
   "id": "6f631ec0",
   "metadata": {
    "execution": {
     "iopub.execute_input": "2024-06-02T14:38:22.121047Z",
     "iopub.status.busy": "2024-06-02T14:38:22.120184Z",
     "iopub.status.idle": "2024-06-02T14:38:22.135637Z",
     "shell.execute_reply": "2024-06-02T14:38:22.134319Z"
    },
    "papermill": {
     "duration": 0.069079,
     "end_time": "2024-06-02T14:38:22.138002",
     "exception": false,
     "start_time": "2024-06-02T14:38:22.068923",
     "status": "completed"
    },
    "tags": []
   },
   "outputs": [
    {
     "name": "stdout",
     "output_type": "stream",
     "text": [
      "hemo --- 0.41434092439863457\n"
     ]
    }
   ],
   "source": [
    "#ch square test\n",
    "for i in ['hemo']:\n",
    "    chi2, pval,_,_ = chi2_contingency(pd.crosstab(df[i], df['trt']))\n",
    "    print(i, '---', pval)"
   ]
  },
  {
   "cell_type": "markdown",
   "id": "b0811de4",
   "metadata": {
    "papermill": {
     "duration": 0.047374,
     "end_time": "2024-06-02T14:38:22.233200",
     "exception": false,
     "start_time": "2024-06-02T14:38:22.185826",
     "status": "completed"
    },
    "tags": []
   },
   "source": [
    "*Since, P-value is greater than 0.05, we fail to reject the null hypothesis hence we can conclude that there is no association between the two*"
   ]
  },
  {
   "cell_type": "markdown",
   "id": "e96295fa",
   "metadata": {
    "papermill": {
     "duration": 0.047751,
     "end_time": "2024-06-02T14:38:22.328639",
     "exception": false,
     "start_time": "2024-06-02T14:38:22.280888",
     "status": "completed"
    },
    "tags": []
   },
   "source": [
    "## trt vs homosexual\n",
    "\n",
    "***Conclusion***\n",
    "\n",
    "- *Most of the homosexual patients are administered treatment 0*\n",
    "\n",
    "- *Among the patients who are not homosexual, mostly treatment 0 was administered*"
   ]
  },
  {
   "cell_type": "code",
   "execution_count": 68,
   "id": "92c48a29",
   "metadata": {
    "execution": {
     "iopub.execute_input": "2024-06-02T14:38:22.431678Z",
     "iopub.status.busy": "2024-06-02T14:38:22.430985Z",
     "iopub.status.idle": "2024-06-02T14:38:22.449300Z",
     "shell.execute_reply": "2024-06-02T14:38:22.447751Z"
    },
    "papermill": {
     "duration": 0.074727,
     "end_time": "2024-06-02T14:38:22.452084",
     "exception": false,
     "start_time": "2024-06-02T14:38:22.377357",
     "status": "completed"
    },
    "tags": []
   },
   "outputs": [
    {
     "data": {
      "text/html": [
       "<div>\n",
       "<style scoped>\n",
       "    .dataframe tbody tr th:only-of-type {\n",
       "        vertical-align: middle;\n",
       "    }\n",
       "\n",
       "    .dataframe tbody tr th {\n",
       "        vertical-align: top;\n",
       "    }\n",
       "\n",
       "    .dataframe thead th {\n",
       "        text-align: right;\n",
       "    }\n",
       "</style>\n",
       "<table border=\"1\" class=\"dataframe\">\n",
       "  <thead>\n",
       "    <tr style=\"text-align: right;\">\n",
       "      <th>homo</th>\n",
       "      <th>0</th>\n",
       "      <th>1</th>\n",
       "    </tr>\n",
       "    <tr>\n",
       "      <th>trt</th>\n",
       "      <th></th>\n",
       "      <th></th>\n",
       "    </tr>\n",
       "  </thead>\n",
       "  <tbody>\n",
       "    <tr>\n",
       "      <th>0</th>\n",
       "      <td>2179</td>\n",
       "      <td>3371</td>\n",
       "    </tr>\n",
       "    <tr>\n",
       "      <th>1</th>\n",
       "      <td>701</td>\n",
       "      <td>1418</td>\n",
       "    </tr>\n",
       "    <tr>\n",
       "      <th>2</th>\n",
       "      <td>1123</td>\n",
       "      <td>2059</td>\n",
       "    </tr>\n",
       "    <tr>\n",
       "      <th>3</th>\n",
       "      <td>1206</td>\n",
       "      <td>2943</td>\n",
       "    </tr>\n",
       "  </tbody>\n",
       "</table>\n",
       "</div>"
      ],
      "text/plain": [
       "homo     0     1\n",
       "trt             \n",
       "0     2179  3371\n",
       "1      701  1418\n",
       "2     1123  2059\n",
       "3     1206  2943"
      ]
     },
     "execution_count": 68,
     "metadata": {},
     "output_type": "execute_result"
    }
   ],
   "source": [
    "pd.crosstab(df['trt'], df['homo'])"
   ]
  },
  {
   "cell_type": "code",
   "execution_count": 69,
   "id": "c9e475a4",
   "metadata": {
    "execution": {
     "iopub.execute_input": "2024-06-02T14:38:22.554021Z",
     "iopub.status.busy": "2024-06-02T14:38:22.553630Z",
     "iopub.status.idle": "2024-06-02T14:38:22.582380Z",
     "shell.execute_reply": "2024-06-02T14:38:22.581520Z"
    },
    "papermill": {
     "duration": 0.081959,
     "end_time": "2024-06-02T14:38:22.584488",
     "exception": false,
     "start_time": "2024-06-02T14:38:22.502529",
     "status": "completed"
    },
    "tags": []
   },
   "outputs": [
    {
     "data": {
      "text/html": [
       "<div>                            <div id=\"16f962c0-7ea8-48fa-93d8-d77120f0a51d\" class=\"plotly-graph-div\" style=\"height:525px; width:1000px;\"></div>            <script type=\"text/javascript\">                require([\"plotly\"], function(Plotly) {                    window.PLOTLYENV=window.PLOTLYENV || {};                                    if (document.getElementById(\"16f962c0-7ea8-48fa-93d8-d77120f0a51d\")) {                    Plotly.newPlot(                        \"16f962c0-7ea8-48fa-93d8-d77120f0a51d\",                        [{\"colorscale\":[[0.0,\"#440154\"],[0.1111111111111111,\"#482878\"],[0.2222222222222222,\"#3e4989\"],[0.3333333333333333,\"#31688e\"],[0.4444444444444444,\"#26828e\"],[0.5555555555555556,\"#1f9e89\"],[0.6666666666666666,\"#35b779\"],[0.7777777777777778,\"#6ece58\"],[0.8888888888888888,\"#b5de2b\"],[1.0,\"#fde725\"]],\"x\":[0,1],\"y\":[0,1,2,3],\"z\":[[2179,3371],[701,1418],[1123,2059],[1206,2943]],\"type\":\"heatmap\"}],                        {\"title\":{\"text\":\"Heatmap of Treatment indicator vs Homosexual\",\"font\":{\"family\":\"Times New Roman\",\"color\":\"#000000\"}},\"xaxis\":{\"title\":{\"text\":\"Homosexual\"}},\"yaxis\":{\"title\":{\"text\":\"Treatment Indicator\"}},\"template\":{\"data\":{\"histogram2dcontour\":[{\"type\":\"histogram2dcontour\",\"colorbar\":{\"outlinewidth\":0,\"ticks\":\"\"},\"colorscale\":[[0.0,\"#0d0887\"],[0.1111111111111111,\"#46039f\"],[0.2222222222222222,\"#7201a8\"],[0.3333333333333333,\"#9c179e\"],[0.4444444444444444,\"#bd3786\"],[0.5555555555555556,\"#d8576b\"],[0.6666666666666666,\"#ed7953\"],[0.7777777777777778,\"#fb9f3a\"],[0.8888888888888888,\"#fdca26\"],[1.0,\"#f0f921\"]]}],\"choropleth\":[{\"type\":\"choropleth\",\"colorbar\":{\"outlinewidth\":0,\"ticks\":\"\"}}],\"histogram2d\":[{\"type\":\"histogram2d\",\"colorbar\":{\"outlinewidth\":0,\"ticks\":\"\"},\"colorscale\":[[0.0,\"#0d0887\"],[0.1111111111111111,\"#46039f\"],[0.2222222222222222,\"#7201a8\"],[0.3333333333333333,\"#9c179e\"],[0.4444444444444444,\"#bd3786\"],[0.5555555555555556,\"#d8576b\"],[0.6666666666666666,\"#ed7953\"],[0.7777777777777778,\"#fb9f3a\"],[0.8888888888888888,\"#fdca26\"],[1.0,\"#f0f921\"]]}],\"heatmap\":[{\"type\":\"heatmap\",\"colorbar\":{\"outlinewidth\":0,\"ticks\":\"\"},\"colorscale\":[[0.0,\"#0d0887\"],[0.1111111111111111,\"#46039f\"],[0.2222222222222222,\"#7201a8\"],[0.3333333333333333,\"#9c179e\"],[0.4444444444444444,\"#bd3786\"],[0.5555555555555556,\"#d8576b\"],[0.6666666666666666,\"#ed7953\"],[0.7777777777777778,\"#fb9f3a\"],[0.8888888888888888,\"#fdca26\"],[1.0,\"#f0f921\"]]}],\"heatmapgl\":[{\"type\":\"heatmapgl\",\"colorbar\":{\"outlinewidth\":0,\"ticks\":\"\"},\"colorscale\":[[0.0,\"#0d0887\"],[0.1111111111111111,\"#46039f\"],[0.2222222222222222,\"#7201a8\"],[0.3333333333333333,\"#9c179e\"],[0.4444444444444444,\"#bd3786\"],[0.5555555555555556,\"#d8576b\"],[0.6666666666666666,\"#ed7953\"],[0.7777777777777778,\"#fb9f3a\"],[0.8888888888888888,\"#fdca26\"],[1.0,\"#f0f921\"]]}],\"contourcarpet\":[{\"type\":\"contourcarpet\",\"colorbar\":{\"outlinewidth\":0,\"ticks\":\"\"}}],\"contour\":[{\"type\":\"contour\",\"colorbar\":{\"outlinewidth\":0,\"ticks\":\"\"},\"colorscale\":[[0.0,\"#0d0887\"],[0.1111111111111111,\"#46039f\"],[0.2222222222222222,\"#7201a8\"],[0.3333333333333333,\"#9c179e\"],[0.4444444444444444,\"#bd3786\"],[0.5555555555555556,\"#d8576b\"],[0.6666666666666666,\"#ed7953\"],[0.7777777777777778,\"#fb9f3a\"],[0.8888888888888888,\"#fdca26\"],[1.0,\"#f0f921\"]]}],\"surface\":[{\"type\":\"surface\",\"colorbar\":{\"outlinewidth\":0,\"ticks\":\"\"},\"colorscale\":[[0.0,\"#0d0887\"],[0.1111111111111111,\"#46039f\"],[0.2222222222222222,\"#7201a8\"],[0.3333333333333333,\"#9c179e\"],[0.4444444444444444,\"#bd3786\"],[0.5555555555555556,\"#d8576b\"],[0.6666666666666666,\"#ed7953\"],[0.7777777777777778,\"#fb9f3a\"],[0.8888888888888888,\"#fdca26\"],[1.0,\"#f0f921\"]]}],\"mesh3d\":[{\"type\":\"mesh3d\",\"colorbar\":{\"outlinewidth\":0,\"ticks\":\"\"}}],\"scatter\":[{\"fillpattern\":{\"fillmode\":\"overlay\",\"size\":10,\"solidity\":0.2},\"type\":\"scatter\"}],\"parcoords\":[{\"type\":\"parcoords\",\"line\":{\"colorbar\":{\"outlinewidth\":0,\"ticks\":\"\"}}}],\"scatterpolargl\":[{\"type\":\"scatterpolargl\",\"marker\":{\"colorbar\":{\"outlinewidth\":0,\"ticks\":\"\"}}}],\"bar\":[{\"error_x\":{\"color\":\"#2a3f5f\"},\"error_y\":{\"color\":\"#2a3f5f\"},\"marker\":{\"line\":{\"color\":\"#E5ECF6\",\"width\":0.5},\"pattern\":{\"fillmode\":\"overlay\",\"size\":10,\"solidity\":0.2}},\"type\":\"bar\"}],\"scattergeo\":[{\"type\":\"scattergeo\",\"marker\":{\"colorbar\":{\"outlinewidth\":0,\"ticks\":\"\"}}}],\"scatterpolar\":[{\"type\":\"scatterpolar\",\"marker\":{\"colorbar\":{\"outlinewidth\":0,\"ticks\":\"\"}}}],\"histogram\":[{\"marker\":{\"pattern\":{\"fillmode\":\"overlay\",\"size\":10,\"solidity\":0.2}},\"type\":\"histogram\"}],\"scattergl\":[{\"type\":\"scattergl\",\"marker\":{\"colorbar\":{\"outlinewidth\":0,\"ticks\":\"\"}}}],\"scatter3d\":[{\"type\":\"scatter3d\",\"line\":{\"colorbar\":{\"outlinewidth\":0,\"ticks\":\"\"}},\"marker\":{\"colorbar\":{\"outlinewidth\":0,\"ticks\":\"\"}}}],\"scattermapbox\":[{\"type\":\"scattermapbox\",\"marker\":{\"colorbar\":{\"outlinewidth\":0,\"ticks\":\"\"}}}],\"scatterternary\":[{\"type\":\"scatterternary\",\"marker\":{\"colorbar\":{\"outlinewidth\":0,\"ticks\":\"\"}}}],\"scattercarpet\":[{\"type\":\"scattercarpet\",\"marker\":{\"colorbar\":{\"outlinewidth\":0,\"ticks\":\"\"}}}],\"carpet\":[{\"aaxis\":{\"endlinecolor\":\"#2a3f5f\",\"gridcolor\":\"white\",\"linecolor\":\"white\",\"minorgridcolor\":\"white\",\"startlinecolor\":\"#2a3f5f\"},\"baxis\":{\"endlinecolor\":\"#2a3f5f\",\"gridcolor\":\"white\",\"linecolor\":\"white\",\"minorgridcolor\":\"white\",\"startlinecolor\":\"#2a3f5f\"},\"type\":\"carpet\"}],\"table\":[{\"cells\":{\"fill\":{\"color\":\"#EBF0F8\"},\"line\":{\"color\":\"white\"}},\"header\":{\"fill\":{\"color\":\"#C8D4E3\"},\"line\":{\"color\":\"white\"}},\"type\":\"table\"}],\"barpolar\":[{\"marker\":{\"line\":{\"color\":\"#E5ECF6\",\"width\":0.5},\"pattern\":{\"fillmode\":\"overlay\",\"size\":10,\"solidity\":0.2}},\"type\":\"barpolar\"}],\"pie\":[{\"automargin\":true,\"type\":\"pie\"}]},\"layout\":{\"autotypenumbers\":\"strict\",\"colorway\":[\"#636efa\",\"#EF553B\",\"#00cc96\",\"#ab63fa\",\"#FFA15A\",\"#19d3f3\",\"#FF6692\",\"#B6E880\",\"#FF97FF\",\"#FECB52\"],\"font\":{\"color\":\"#2a3f5f\"},\"hovermode\":\"closest\",\"hoverlabel\":{\"align\":\"left\"},\"paper_bgcolor\":\"white\",\"plot_bgcolor\":\"#E5ECF6\",\"polar\":{\"bgcolor\":\"#E5ECF6\",\"angularaxis\":{\"gridcolor\":\"white\",\"linecolor\":\"white\",\"ticks\":\"\"},\"radialaxis\":{\"gridcolor\":\"white\",\"linecolor\":\"white\",\"ticks\":\"\"}},\"ternary\":{\"bgcolor\":\"#E5ECF6\",\"aaxis\":{\"gridcolor\":\"white\",\"linecolor\":\"white\",\"ticks\":\"\"},\"baxis\":{\"gridcolor\":\"white\",\"linecolor\":\"white\",\"ticks\":\"\"},\"caxis\":{\"gridcolor\":\"white\",\"linecolor\":\"white\",\"ticks\":\"\"}},\"coloraxis\":{\"colorbar\":{\"outlinewidth\":0,\"ticks\":\"\"}},\"colorscale\":{\"sequential\":[[0.0,\"#0d0887\"],[0.1111111111111111,\"#46039f\"],[0.2222222222222222,\"#7201a8\"],[0.3333333333333333,\"#9c179e\"],[0.4444444444444444,\"#bd3786\"],[0.5555555555555556,\"#d8576b\"],[0.6666666666666666,\"#ed7953\"],[0.7777777777777778,\"#fb9f3a\"],[0.8888888888888888,\"#fdca26\"],[1.0,\"#f0f921\"]],\"sequentialminus\":[[0.0,\"#0d0887\"],[0.1111111111111111,\"#46039f\"],[0.2222222222222222,\"#7201a8\"],[0.3333333333333333,\"#9c179e\"],[0.4444444444444444,\"#bd3786\"],[0.5555555555555556,\"#d8576b\"],[0.6666666666666666,\"#ed7953\"],[0.7777777777777778,\"#fb9f3a\"],[0.8888888888888888,\"#fdca26\"],[1.0,\"#f0f921\"]],\"diverging\":[[0,\"#8e0152\"],[0.1,\"#c51b7d\"],[0.2,\"#de77ae\"],[0.3,\"#f1b6da\"],[0.4,\"#fde0ef\"],[0.5,\"#f7f7f7\"],[0.6,\"#e6f5d0\"],[0.7,\"#b8e186\"],[0.8,\"#7fbc41\"],[0.9,\"#4d9221\"],[1,\"#276419\"]]},\"xaxis\":{\"gridcolor\":\"white\",\"linecolor\":\"white\",\"ticks\":\"\",\"title\":{\"standoff\":15},\"zerolinecolor\":\"white\",\"automargin\":true,\"zerolinewidth\":2},\"yaxis\":{\"gridcolor\":\"white\",\"linecolor\":\"white\",\"ticks\":\"\",\"title\":{\"standoff\":15},\"zerolinecolor\":\"white\",\"automargin\":true,\"zerolinewidth\":2},\"scene\":{\"xaxis\":{\"backgroundcolor\":\"#E5ECF6\",\"gridcolor\":\"white\",\"linecolor\":\"white\",\"showbackground\":true,\"ticks\":\"\",\"zerolinecolor\":\"white\",\"gridwidth\":2},\"yaxis\":{\"backgroundcolor\":\"#E5ECF6\",\"gridcolor\":\"white\",\"linecolor\":\"white\",\"showbackground\":true,\"ticks\":\"\",\"zerolinecolor\":\"white\",\"gridwidth\":2},\"zaxis\":{\"backgroundcolor\":\"#E5ECF6\",\"gridcolor\":\"white\",\"linecolor\":\"white\",\"showbackground\":true,\"ticks\":\"\",\"zerolinecolor\":\"white\",\"gridwidth\":2}},\"shapedefaults\":{\"line\":{\"color\":\"#2a3f5f\"}},\"annotationdefaults\":{\"arrowcolor\":\"#2a3f5f\",\"arrowhead\":0,\"arrowwidth\":1},\"geo\":{\"bgcolor\":\"white\",\"landcolor\":\"#E5ECF6\",\"subunitcolor\":\"white\",\"showland\":true,\"showlakes\":true,\"lakecolor\":\"white\"},\"title\":{\"x\":0.05},\"mapbox\":{\"style\":\"light\"}}},\"paper_bgcolor\":\"#ffffff\",\"plot_bgcolor\":\"#ffffff\",\"width\":1000},                        {\"responsive\": true}                    ).then(function(){\n",
       "                            \n",
       "var gd = document.getElementById('16f962c0-7ea8-48fa-93d8-d77120f0a51d');\n",
       "var x = new MutationObserver(function (mutations, observer) {{\n",
       "        var display = window.getComputedStyle(gd).display;\n",
       "        if (!display || display === 'none') {{\n",
       "            console.log([gd, 'removed!']);\n",
       "            Plotly.purge(gd);\n",
       "            observer.disconnect();\n",
       "        }}\n",
       "}});\n",
       "\n",
       "// Listen for the removal of the full notebook cells\n",
       "var notebookContainer = gd.closest('#notebook-container');\n",
       "if (notebookContainer) {{\n",
       "    x.observe(notebookContainer, {childList: true});\n",
       "}}\n",
       "\n",
       "// Listen for the clearing of the current output cell\n",
       "var outputEl = gd.closest('.output');\n",
       "if (outputEl) {{\n",
       "    x.observe(outputEl, {childList: true});\n",
       "}}\n",
       "\n",
       "                        })                };                });            </script>        </div>"
      ]
     },
     "metadata": {},
     "output_type": "display_data"
    }
   ],
   "source": [
    "crosstab = pd.crosstab(df['trt'], df['homo'])\n",
    "\n",
    "heatmap_trace = go.Heatmap(\n",
    "    z=crosstab.values,\n",
    "    x=crosstab.columns.tolist(),\n",
    "    y=crosstab.index.tolist(),\n",
    "    colorscale='Viridis'\n",
    ")\n",
    "\n",
    "layout = go.Layout(\n",
    "    title=\"Heatmap of Treatment indicator vs Homosexual\",\n",
    "    xaxis=dict(title='Homosexual'),\n",
    "    yaxis=dict(title='Treatment Indicator')\n",
    ")\n",
    "\n",
    "fig = go.Figure(data=[heatmap_trace], layout=layout)\n",
    "\n",
    "# Update layout with additional settings\n",
    "fig.update_layout(\n",
    "    title_font_family=\"Times New Roman\",\n",
    "    title_font_color=\"#000000\",\n",
    "    paper_bgcolor='#ffffff',\n",
    "    plot_bgcolor='#ffffff'\n",
    ")\n",
    "\n",
    "fig.update_layout(width=1000)\n",
    "\n",
    "# Display the figure\n",
    "fig.show()"
   ]
  },
  {
   "cell_type": "markdown",
   "id": "ee7ec6c7",
   "metadata": {
    "papermill": {
     "duration": 0.050088,
     "end_time": "2024-06-02T14:38:22.683748",
     "exception": false,
     "start_time": "2024-06-02T14:38:22.633660",
     "status": "completed"
    },
    "tags": []
   },
   "source": [
    "*In general, it can be seen that most of the treatments are administered to homosexual patients. This can be due to the fact that most of the patients are homosexual*"
   ]
  },
  {
   "cell_type": "code",
   "execution_count": 70,
   "id": "00b9ad1e",
   "metadata": {
    "execution": {
     "iopub.execute_input": "2024-06-02T14:38:22.785238Z",
     "iopub.status.busy": "2024-06-02T14:38:22.784807Z",
     "iopub.status.idle": "2024-06-02T14:38:22.800253Z",
     "shell.execute_reply": "2024-06-02T14:38:22.798818Z"
    },
    "papermill": {
     "duration": 0.071005,
     "end_time": "2024-06-02T14:38:22.803426",
     "exception": false,
     "start_time": "2024-06-02T14:38:22.732421",
     "status": "completed"
    },
    "tags": []
   },
   "outputs": [
    {
     "name": "stdout",
     "output_type": "stream",
     "text": [
      "homo --- 4.172207682152761e-24\n"
     ]
    }
   ],
   "source": [
    "#ch square test\n",
    "for i in ['homo']:\n",
    "    chi2, pval,_,_ = chi2_contingency(pd.crosstab(df[i], df['trt']))\n",
    "    print(i, '---', pval)"
   ]
  },
  {
   "cell_type": "markdown",
   "id": "b0a68d3e",
   "metadata": {
    "papermill": {
     "duration": 0.052511,
     "end_time": "2024-06-02T14:38:22.906659",
     "exception": false,
     "start_time": "2024-06-02T14:38:22.854148",
     "status": "completed"
    },
    "tags": []
   },
   "source": [
    "*As the p-value is less than 0.05, hence we can reject the null hypothesis to conclude that there is an association between the two variables*"
   ]
  },
  {
   "cell_type": "code",
   "execution_count": null,
   "id": "62e70466",
   "metadata": {
    "papermill": {
     "duration": 0.04823,
     "end_time": "2024-06-02T14:38:23.003140",
     "exception": false,
     "start_time": "2024-06-02T14:38:22.954910",
     "status": "completed"
    },
    "tags": []
   },
   "outputs": [],
   "source": []
  }
 ],
 "metadata": {
  "kaggle": {
   "accelerator": "none",
   "dataSources": [
    {
     "datasetId": 4890913,
     "sourceId": 8249624,
     "sourceType": "datasetVersion"
    }
   ],
   "dockerImageVersionId": 30698,
   "isGpuEnabled": false,
   "isInternetEnabled": true,
   "language": "python",
   "sourceType": "notebook"
  },
  "kernelspec": {
   "display_name": "Python 3",
   "language": "python",
   "name": "python3"
  },
  "language_info": {
   "codemirror_mode": {
    "name": "ipython",
    "version": 3
   },
   "file_extension": ".py",
   "mimetype": "text/x-python",
   "name": "python",
   "nbconvert_exporter": "python",
   "pygments_lexer": "ipython3",
   "version": "3.10.13"
  },
  "papermill": {
   "default_parameters": {},
   "duration": 49.436169,
   "end_time": "2024-06-02T14:38:25.673133",
   "environment_variables": {},
   "exception": null,
   "input_path": "__notebook__.ipynb",
   "output_path": "__notebook__.ipynb",
   "parameters": {},
   "start_time": "2024-06-02T14:37:36.236964",
   "version": "2.5.0"
  }
 },
 "nbformat": 4,
 "nbformat_minor": 5
}
