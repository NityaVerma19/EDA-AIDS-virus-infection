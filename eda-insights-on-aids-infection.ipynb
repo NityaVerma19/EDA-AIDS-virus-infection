{
 "cells": [
  {
   "cell_type": "code",
   "execution_count": 1,
   "id": "418891cf",
   "metadata": {
    "_cell_guid": "b1076dfc-b9ad-4769-8c92-a6c4dae69d19",
    "_uuid": "8f2839f25d086af736a60e9eeb907d3b93b6e0e5",
    "execution": {
     "iopub.execute_input": "2024-05-28T07:07:03.390028Z",
     "iopub.status.busy": "2024-05-28T07:07:03.389571Z",
     "iopub.status.idle": "2024-05-28T07:07:04.352155Z",
     "shell.execute_reply": "2024-05-28T07:07:04.350461Z"
    },
    "papermill": {
     "duration": 0.977209,
     "end_time": "2024-05-28T07:07:04.354725",
     "exception": false,
     "start_time": "2024-05-28T07:07:03.377516",
     "status": "completed"
    },
    "tags": []
   },
   "outputs": [
    {
     "name": "stdout",
     "output_type": "stream",
     "text": [
      "/kaggle/input/aids-virus-infection-prediction/AIDS_Classification_15000.csv\n",
      "/kaggle/input/aids-virus-infection-prediction/AIDS_Classification_50000.csv\n",
      "/kaggle/input/aids-virus-infection-prediction/AIDS_Classification.csv\n",
      "/kaggle/input/aids-virus-infection-prediction/AIDS_Classification_5000.csv\n"
     ]
    }
   ],
   "source": [
    "# This Python 3 environment comes with many helpful analytics libraries installed\n",
    "# It is defined by the kaggle/python Docker image: https://github.com/kaggle/docker-python\n",
    "# For example, here's several helpful packages to load\n",
    "\n",
    "import numpy as np # linear algebra\n",
    "import pandas as pd # data processing, CSV file I/O (e.g. pd.read_csv)\n",
    "import plotly.graph_objects as go\n",
    "import colorlover as cl\n",
    "# Input data files are available in the read-only \"../input/\" directory\n",
    "# For example, running this (by clicking run or pressing Shift+Enter) will list all files under the input directory\n",
    "\n",
    "import os\n",
    "for dirname, _, filenames in os.walk('/kaggle/input'):\n",
    "    for filename in filenames:\n",
    "        print(os.path.join(dirname, filename))\n",
    "\n",
    "# You can write up to 20GB to the current directory (/kaggle/working/) that gets preserved as output when you create a version using \"Save & Run All\" \n",
    "# You can also write temporary files to /kaggle/temp/, but they won't be saved outside of the current session"
   ]
  },
  {
   "cell_type": "code",
   "execution_count": 2,
   "id": "965dd0cf",
   "metadata": {
    "execution": {
     "iopub.execute_input": "2024-05-28T07:07:04.375532Z",
     "iopub.status.busy": "2024-05-28T07:07:04.375058Z",
     "iopub.status.idle": "2024-05-28T07:07:21.321211Z",
     "shell.execute_reply": "2024-05-28T07:07:21.319809Z"
    },
    "papermill": {
     "duration": 16.959605,
     "end_time": "2024-05-28T07:07:21.324055",
     "exception": false,
     "start_time": "2024-05-28T07:07:04.364450",
     "status": "completed"
    },
    "tags": []
   },
   "outputs": [
    {
     "name": "stdout",
     "output_type": "stream",
     "text": [
      "Collecting kaleido\r\n",
      "  Downloading kaleido-0.2.1-py2.py3-none-manylinux1_x86_64.whl.metadata (15 kB)\r\n",
      "Downloading kaleido-0.2.1-py2.py3-none-manylinux1_x86_64.whl (79.9 MB)\r\n",
      "\u001b[2K   \u001b[90m━━━━━━━━━━━━━━━━━━━━━━━━━━━━━━━━━━━━━━━━\u001b[0m \u001b[32m79.9/79.9 MB\u001b[0m \u001b[31m17.9 MB/s\u001b[0m eta \u001b[36m0:00:00\u001b[0m\r\n",
      "\u001b[?25hInstalling collected packages: kaleido\r\n",
      "Successfully installed kaleido-0.2.1\r\n"
     ]
    }
   ],
   "source": [
    "! pip install -U kaleido"
   ]
  },
  {
   "cell_type": "code",
   "execution_count": 3,
   "id": "da5bb3d2",
   "metadata": {
    "execution": {
     "iopub.execute_input": "2024-05-28T07:07:21.348658Z",
     "iopub.status.busy": "2024-05-28T07:07:21.348238Z",
     "iopub.status.idle": "2024-05-28T07:07:21.421474Z",
     "shell.execute_reply": "2024-05-28T07:07:21.420441Z"
    },
    "papermill": {
     "duration": 0.088782,
     "end_time": "2024-05-28T07:07:21.424166",
     "exception": false,
     "start_time": "2024-05-28T07:07:21.335384",
     "status": "completed"
    },
    "tags": []
   },
   "outputs": [],
   "source": [
    "df = pd.read_csv(\"/kaggle/input/aids-virus-infection-prediction/AIDS_Classification_15000.csv\")"
   ]
  },
  {
   "cell_type": "code",
   "execution_count": 4,
   "id": "a22a6765",
   "metadata": {
    "execution": {
     "iopub.execute_input": "2024-05-28T07:07:21.449282Z",
     "iopub.status.busy": "2024-05-28T07:07:21.448906Z",
     "iopub.status.idle": "2024-05-28T07:07:21.487390Z",
     "shell.execute_reply": "2024-05-28T07:07:21.486168Z"
    },
    "papermill": {
     "duration": 0.054561,
     "end_time": "2024-05-28T07:07:21.490037",
     "exception": false,
     "start_time": "2024-05-28T07:07:21.435476",
     "status": "completed"
    },
    "tags": []
   },
   "outputs": [
    {
     "data": {
      "text/html": [
       "<div>\n",
       "<style scoped>\n",
       "    .dataframe tbody tr th:only-of-type {\n",
       "        vertical-align: middle;\n",
       "    }\n",
       "\n",
       "    .dataframe tbody tr th {\n",
       "        vertical-align: top;\n",
       "    }\n",
       "\n",
       "    .dataframe thead th {\n",
       "        text-align: right;\n",
       "    }\n",
       "</style>\n",
       "<table border=\"1\" class=\"dataframe\">\n",
       "  <thead>\n",
       "    <tr style=\"text-align: right;\">\n",
       "      <th></th>\n",
       "      <th>time</th>\n",
       "      <th>trt</th>\n",
       "      <th>age</th>\n",
       "      <th>wtkg</th>\n",
       "      <th>hemo</th>\n",
       "      <th>homo</th>\n",
       "      <th>drugs</th>\n",
       "      <th>karnof</th>\n",
       "      <th>oprior</th>\n",
       "      <th>z30</th>\n",
       "      <th>...</th>\n",
       "      <th>str2</th>\n",
       "      <th>strat</th>\n",
       "      <th>symptom</th>\n",
       "      <th>treat</th>\n",
       "      <th>offtrt</th>\n",
       "      <th>cd40</th>\n",
       "      <th>cd420</th>\n",
       "      <th>cd80</th>\n",
       "      <th>cd820</th>\n",
       "      <th>infected</th>\n",
       "    </tr>\n",
       "  </thead>\n",
       "  <tbody>\n",
       "    <tr>\n",
       "      <th>0</th>\n",
       "      <td>1108</td>\n",
       "      <td>1</td>\n",
       "      <td>37</td>\n",
       "      <td>88.11364</td>\n",
       "      <td>0</td>\n",
       "      <td>1</td>\n",
       "      <td>1</td>\n",
       "      <td>100</td>\n",
       "      <td>0</td>\n",
       "      <td>1</td>\n",
       "      <td>...</td>\n",
       "      <td>1</td>\n",
       "      <td>1</td>\n",
       "      <td>0</td>\n",
       "      <td>0</td>\n",
       "      <td>0</td>\n",
       "      <td>389</td>\n",
       "      <td>320</td>\n",
       "      <td>734</td>\n",
       "      <td>737</td>\n",
       "      <td>1</td>\n",
       "    </tr>\n",
       "    <tr>\n",
       "      <th>1</th>\n",
       "      <td>1079</td>\n",
       "      <td>0</td>\n",
       "      <td>43</td>\n",
       "      <td>66.77075</td>\n",
       "      <td>0</td>\n",
       "      <td>0</td>\n",
       "      <td>0</td>\n",
       "      <td>100</td>\n",
       "      <td>0</td>\n",
       "      <td>1</td>\n",
       "      <td>...</td>\n",
       "      <td>0</td>\n",
       "      <td>2</td>\n",
       "      <td>0</td>\n",
       "      <td>1</td>\n",
       "      <td>1</td>\n",
       "      <td>318</td>\n",
       "      <td>432</td>\n",
       "      <td>912</td>\n",
       "      <td>1213</td>\n",
       "      <td>0</td>\n",
       "    </tr>\n",
       "    <tr>\n",
       "      <th>2</th>\n",
       "      <td>492</td>\n",
       "      <td>1</td>\n",
       "      <td>34</td>\n",
       "      <td>82.91725</td>\n",
       "      <td>0</td>\n",
       "      <td>0</td>\n",
       "      <td>0</td>\n",
       "      <td>90</td>\n",
       "      <td>0</td>\n",
       "      <td>1</td>\n",
       "      <td>...</td>\n",
       "      <td>1</td>\n",
       "      <td>2</td>\n",
       "      <td>0</td>\n",
       "      <td>1</td>\n",
       "      <td>1</td>\n",
       "      <td>326</td>\n",
       "      <td>524</td>\n",
       "      <td>660</td>\n",
       "      <td>835</td>\n",
       "      <td>0</td>\n",
       "    </tr>\n",
       "    <tr>\n",
       "      <th>3</th>\n",
       "      <td>1191</td>\n",
       "      <td>1</td>\n",
       "      <td>41</td>\n",
       "      <td>98.91817</td>\n",
       "      <td>0</td>\n",
       "      <td>0</td>\n",
       "      <td>0</td>\n",
       "      <td>81</td>\n",
       "      <td>0</td>\n",
       "      <td>1</td>\n",
       "      <td>...</td>\n",
       "      <td>1</td>\n",
       "      <td>3</td>\n",
       "      <td>0</td>\n",
       "      <td>1</td>\n",
       "      <td>0</td>\n",
       "      <td>318</td>\n",
       "      <td>232</td>\n",
       "      <td>1131</td>\n",
       "      <td>982</td>\n",
       "      <td>1</td>\n",
       "    </tr>\n",
       "    <tr>\n",
       "      <th>4</th>\n",
       "      <td>1141</td>\n",
       "      <td>3</td>\n",
       "      <td>47</td>\n",
       "      <td>53.61717</td>\n",
       "      <td>0</td>\n",
       "      <td>1</td>\n",
       "      <td>0</td>\n",
       "      <td>100</td>\n",
       "      <td>0</td>\n",
       "      <td>0</td>\n",
       "      <td>...</td>\n",
       "      <td>0</td>\n",
       "      <td>1</td>\n",
       "      <td>0</td>\n",
       "      <td>1</td>\n",
       "      <td>0</td>\n",
       "      <td>280</td>\n",
       "      <td>337</td>\n",
       "      <td>515</td>\n",
       "      <td>679</td>\n",
       "      <td>0</td>\n",
       "    </tr>\n",
       "  </tbody>\n",
       "</table>\n",
       "<p>5 rows × 23 columns</p>\n",
       "</div>"
      ],
      "text/plain": [
       "   time  trt  age      wtkg  hemo  homo  drugs  karnof  oprior  z30  ...  \\\n",
       "0  1108    1   37  88.11364     0     1      1     100       0    1  ...   \n",
       "1  1079    0   43  66.77075     0     0      0     100       0    1  ...   \n",
       "2   492    1   34  82.91725     0     0      0      90       0    1  ...   \n",
       "3  1191    1   41  98.91817     0     0      0      81       0    1  ...   \n",
       "4  1141    3   47  53.61717     0     1      0     100       0    0  ...   \n",
       "\n",
       "   str2  strat  symptom  treat  offtrt  cd40  cd420  cd80  cd820  infected  \n",
       "0     1      1        0      0       0   389    320   734    737         1  \n",
       "1     0      2        0      1       1   318    432   912   1213         0  \n",
       "2     1      2        0      1       1   326    524   660    835         0  \n",
       "3     1      3        0      1       0   318    232  1131    982         1  \n",
       "4     0      1        0      1       0   280    337   515    679         0  \n",
       "\n",
       "[5 rows x 23 columns]"
      ]
     },
     "execution_count": 4,
     "metadata": {},
     "output_type": "execute_result"
    }
   ],
   "source": [
    "df.head()"
   ]
  },
  {
   "cell_type": "code",
   "execution_count": 5,
   "id": "aded77b0",
   "metadata": {
    "execution": {
     "iopub.execute_input": "2024-05-28T07:07:21.515933Z",
     "iopub.status.busy": "2024-05-28T07:07:21.515464Z",
     "iopub.status.idle": "2024-05-28T07:07:21.525469Z",
     "shell.execute_reply": "2024-05-28T07:07:21.524461Z"
    },
    "papermill": {
     "duration": 0.025632,
     "end_time": "2024-05-28T07:07:21.527916",
     "exception": false,
     "start_time": "2024-05-28T07:07:21.502284",
     "status": "completed"
    },
    "tags": []
   },
   "outputs": [
    {
     "data": {
      "text/plain": [
       "time        0\n",
       "trt         0\n",
       "age         0\n",
       "wtkg        0\n",
       "hemo        0\n",
       "homo        0\n",
       "drugs       0\n",
       "karnof      0\n",
       "oprior      0\n",
       "z30         0\n",
       "preanti     0\n",
       "race        0\n",
       "gender      0\n",
       "str2        0\n",
       "strat       0\n",
       "symptom     0\n",
       "treat       0\n",
       "offtrt      0\n",
       "cd40        0\n",
       "cd420       0\n",
       "cd80        0\n",
       "cd820       0\n",
       "infected    0\n",
       "dtype: int64"
      ]
     },
     "execution_count": 5,
     "metadata": {},
     "output_type": "execute_result"
    }
   ],
   "source": [
    "df.isnull().sum()"
   ]
  },
  {
   "cell_type": "markdown",
   "id": "cf6e96e3",
   "metadata": {
    "papermill": {
     "duration": 0.011472,
     "end_time": "2024-05-28T07:07:21.551811",
     "exception": false,
     "start_time": "2024-05-28T07:07:21.540339",
     "status": "completed"
    },
    "tags": []
   },
   "source": [
    "## <div style=\"text-align: center\"> <b>UNIVARIATE ANALYSIS</b></div>"
   ]
  },
  {
   "cell_type": "markdown",
   "id": "fed02618",
   "metadata": {
    "papermill": {
     "duration": 0.011409,
     "end_time": "2024-05-28T07:07:21.574999",
     "exception": false,
     "start_time": "2024-05-28T07:07:21.563590",
     "status": "completed"
    },
    "tags": []
   },
   "source": [
    "## trt: Treatment Indicator\n",
    "\n",
    "***About***\n",
    "<div>\n",
    "    <p>\n",
    "        The treatment indicator provides information about the type of antiretroviral treatment regimen patients in the dataset are receiving:\n",
    "    </p>\n",
    "    <ul>\n",
    "        <li>0 = ZDV only\n",
    "            <ul>\n",
    "                <li>Patients with this indicator are being treated only with Zidovudine (ZDV), also known as AZT.</li>\n",
    "            </ul>\n",
    "        </li>\n",
    "        <li>1 = ZDV + ddI\n",
    "            <ul>\n",
    "                <li>Patients with this indicator are being treated with a combination of Zidovudine (ZDV) and Didanosine (ddI). The combination therapy is often used to enhance the efficacy of treatment by using drugs with different mechanisms of action.</li>\n",
    "            </ul>\n",
    "        </li>\n",
    "        <li>2 = ZDV + Zal\n",
    "            <ul>\n",
    "                <li>Patients with this indicator are being treated with a combination of Zidovudine (ZDV) and Zalcitabine (Zal). The combination of ZDV and Zal is another strategy to improve treatment effectiveness and delay the progression of the disease.</li>\n",
    "            </ul>\n",
    "        </li>\n",
    "        <li>3 = ddI only\n",
    "            <ul>\n",
    "                <li>Patients with this indicator are being treated only with Didanosine (ddI). This might be an alternative regimen for patients who cannot tolerate ZDV or for whom ZDV is not effective.</li>\n",
    "            </ul>\n",
    "        </li>\n",
    "    </ul>\n",
    "</div>\n",
    "\n",
    "\n",
    "***Conclusions***"
   ]
  },
  {
   "cell_type": "code",
   "execution_count": 6,
   "id": "052ffe59",
   "metadata": {
    "execution": {
     "iopub.execute_input": "2024-05-28T07:07:21.601320Z",
     "iopub.status.busy": "2024-05-28T07:07:21.600950Z",
     "iopub.status.idle": "2024-05-28T07:07:21.614457Z",
     "shell.execute_reply": "2024-05-28T07:07:21.613372Z"
    },
    "papermill": {
     "duration": 0.030064,
     "end_time": "2024-05-28T07:07:21.616750",
     "exception": false,
     "start_time": "2024-05-28T07:07:21.586686",
     "status": "completed"
    },
    "tags": []
   },
   "outputs": [
    {
     "data": {
      "text/plain": [
       "trt\n",
       "0    5550\n",
       "3    4149\n",
       "2    3182\n",
       "1    2119\n",
       "Name: count, dtype: int64"
      ]
     },
     "execution_count": 6,
     "metadata": {},
     "output_type": "execute_result"
    }
   ],
   "source": [
    "df['trt'].value_counts()"
   ]
  },
  {
   "cell_type": "code",
   "execution_count": 7,
   "id": "f981fef8",
   "metadata": {
    "execution": {
     "iopub.execute_input": "2024-05-28T07:07:21.642634Z",
     "iopub.status.busy": "2024-05-28T07:07:21.642207Z",
     "iopub.status.idle": "2024-05-28T07:07:23.553007Z",
     "shell.execute_reply": "2024-05-28T07:07:23.551920Z"
    },
    "papermill": {
     "duration": 1.926374,
     "end_time": "2024-05-28T07:07:23.555333",
     "exception": false,
     "start_time": "2024-05-28T07:07:21.628959",
     "status": "completed"
    },
    "tags": []
   },
   "outputs": [
    {
     "data": {
      "image/svg+xml": [
       "<svg class=\"main-svg\" xmlns=\"http://www.w3.org/2000/svg\" xmlns:xlink=\"http://www.w3.org/1999/xlink\" width=\"1000\" height=\"500\" style=\"\" viewBox=\"0 0 1000 500\"><rect x=\"0\" y=\"0\" width=\"1000\" height=\"500\" style=\"fill: rgb(255, 255, 255); fill-opacity: 1;\"/><defs id=\"defs-b845a8\"><g class=\"clips\"/><g class=\"gradients\"/><g class=\"patterns\"/></defs><g class=\"bglayer\"/><g class=\"layer-below\"><g class=\"imagelayer\"/><g class=\"shapelayer\"/></g><g class=\"cartesianlayer\"/><g class=\"polarlayer\"/><g class=\"smithlayer\"/><g class=\"ternarylayer\"/><g class=\"geolayer\"/><g class=\"funnelarealayer\"/><g class=\"pielayer\"><g class=\"trace\" stroke-linejoin=\"round\" style=\"opacity: 1;\"><g class=\"slice\"><path class=\"surface\" d=\"M471.4436784291845,315.6564858387229a74,74 0 0 0 -53.94367842918447,-124.65648583872294l0,-111a185,185 0 0 1 134.85919607296117,311.64121459680734Z\" style=\"pointer-events: none; fill: rgb(142, 1, 82); fill-opacity: 1; stroke-width: 2; stroke: rgb(0, 0, 0); stroke-opacity: 1;\"/><g class=\"slicetext\"><text data-notex=\"1\" class=\"slicetext\" transform=\"translate(536.3492240260755,209.4677856627959)\" text-anchor=\"middle\" x=\"0\" y=\"0\" style=\"font-family: 'Open Sans', verdana, arial, sans-serif; font-size: 14px; fill: rgb(0, 0, 0); fill-opacity: 1; white-space: pre;\"><tspan class=\"line\" dy=\"0em\" x=\"0\" y=\"0\">0</tspan><tspan class=\"line\" dy=\"1.3em\" x=\"0\" y=\"0\">37%</tspan></text></g></g><g class=\"slice\"><path class=\"surface\" d=\"M417.5,191a74,74 0 0 0 -72.9688696807397,86.31032320921048l-109.45330452110956,18.465484813815706a185,185 0 0 1 182.42217420184926,-215.77580802302617Z\" style=\"pointer-events: none; fill: rgb(197, 27, 125); fill-opacity: 1; stroke-width: 2; stroke: rgb(0, 0, 0); stroke-opacity: 1;\"/><g class=\"slicetext\"><text data-notex=\"1\" class=\"slicetext\" transform=\"translate(318.6059228333483,177.29095277909516)\" text-anchor=\"middle\" x=\"0\" y=\"0\" style=\"font-family: 'Open Sans', verdana, arial, sans-serif; font-size: 14px; fill: rgb(0, 0, 0); fill-opacity: 1; white-space: pre;\"><tspan class=\"line\" dy=\"0em\" x=\"0\" y=\"0\">3</tspan><tspan class=\"line\" dy=\"1.3em\" x=\"0\" y=\"0\">27.7%</tspan></text></g></g><g class=\"slice\"><path class=\"surface\" d=\"M344.5311303192603,277.3103232092105a74,74 0 0 0 67.73474284011012,61.50433601384766l-7.851190260944385,110.7219888345872a185,185 0 0 1 -169.3368571002753,-153.76084003461915Z\" style=\"pointer-events: none; fill: rgb(222, 119, 174); fill-opacity: 1; stroke-width: 2; stroke: rgb(0, 0, 0); stroke-opacity: 1;\"/><g class=\"slicetext\"><text data-notex=\"1\" class=\"slicetext\" transform=\"translate(330.4452301836427,356.77188039333225)\" text-anchor=\"middle\" x=\"0\" y=\"0\" style=\"font-family: 'Open Sans', verdana, arial, sans-serif; font-size: 14px; fill: rgb(0, 0, 0); fill-opacity: 1; white-space: pre;\"><tspan class=\"line\" dy=\"0em\" x=\"0\" y=\"0\">2</tspan><tspan class=\"line\" dy=\"1.3em\" x=\"0\" y=\"0\">21.2%</tspan></text></g></g><g class=\"slice\"><path class=\"surface\" d=\"M412.2658731593704,338.81465922305813a74,74 0 0 0 59.177805269814044,-23.158173384335175l80.91551764377668,75.98472875808443a185,185 0 0 1 -147.9445131745351,57.895433460837936Z\" style=\"pointer-events: none; fill: rgb(241, 182, 218); fill-opacity: 1; stroke-width: 2; stroke: rgb(0, 0, 0); stroke-opacity: 1;\"/><g class=\"slicetext\"><text data-notex=\"1\" class=\"slicetext\" transform=\"translate(464.69261546980795,381.4932427161404)\" text-anchor=\"middle\" x=\"0\" y=\"0\" style=\"font-family: 'Open Sans', verdana, arial, sans-serif; font-size: 14px; fill: rgb(0, 0, 0); fill-opacity: 1; white-space: pre;\"><tspan class=\"line\" dy=\"0em\" x=\"0\" y=\"0\">1</tspan><tspan class=\"line\" dy=\"1.3em\" x=\"0\" y=\"0\">14.1%</tspan></text></g></g></g></g><g class=\"iciclelayer\"/><g class=\"treemaplayer\"/><g class=\"sunburstlayer\"/><g class=\"glimages\"/><defs id=\"topdefs-b845a8\"><g class=\"clips\"/><clipPath id=\"legendb845a8\"><rect width=\"349\" height=\"33\" x=\"0.5\" y=\"0.5\"/></clipPath></defs><g class=\"layer-above\"><g class=\"imagelayer\"/><g class=\"shapelayer\"/></g><g class=\"infolayer\"><g class=\"legend\" pointer-events=\"all\" transform=\"translate(638,265)\"><rect class=\"bg\" shape-rendering=\"crispEdges\" style=\"stroke: rgb(0, 0, 0); stroke-opacity: 1; fill: rgb(255, 255, 255); fill-opacity: 1; stroke-width: 0.5px;\" width=\"349.5\" height=\"33.5\" x=\"0.25\" y=\"0.25\"/><g class=\"scrollbox\" transform=\"\" clip-path=\"url(#legendb845a8)\"><text class=\"legendtitletext\" text-anchor=\"start\" x=\"2.5\" y=\"22.6\" style=\"font-family: Arial; font-size: 17px; fill: rgb(0, 0, 0); fill-opacity: 1; white-space: pre;\">Treatment Types</text><g class=\"groups\"><g class=\"traces\" transform=\"translate(137.421875,16.1)\" style=\"opacity: 1;\"><text class=\"legendtext\" text-anchor=\"start\" x=\"40\" y=\"5.46\" style=\"font-family: Arial; font-size: 14px; fill: rgb(0, 0, 0); fill-opacity: 1; white-space: pre;\">0</text><g class=\"layers\" style=\"opacity: 1;\"><g class=\"legendfill\"/><g class=\"legendlines\"/><g class=\"legendsymbols\"><g class=\"legendpoints\"><path class=\"legendpie\" d=\"M6,6H-6V-6H6Z\" transform=\"translate(20,0)\" style=\"fill: rgb(142, 1, 82); fill-opacity: 1; stroke-width: 2; stroke: rgb(0, 0, 0); stroke-opacity: 1;\"/></g></g></g><rect class=\"legendtoggle\" x=\"0\" y=\"-10.6\" width=\"50.5\" height=\"21.2\" style=\"fill: rgb(0, 0, 0); fill-opacity: 0;\"/></g><g class=\"traces\" transform=\"translate(190.421875,16.1)\" style=\"opacity: 1;\"><text class=\"legendtext\" text-anchor=\"start\" x=\"40\" y=\"5.46\" style=\"font-family: Arial; font-size: 14px; fill: rgb(0, 0, 0); fill-opacity: 1; white-space: pre;\">3</text><g class=\"layers\" style=\"opacity: 1;\"><g class=\"legendfill\"/><g class=\"legendlines\"/><g class=\"legendsymbols\"><g class=\"legendpoints\"><path class=\"legendpie\" d=\"M6,6H-6V-6H6Z\" transform=\"translate(20,0)\" style=\"fill: rgb(197, 27, 125); fill-opacity: 1; stroke-width: 2; stroke: rgb(0, 0, 0); stroke-opacity: 1;\"/></g></g></g><rect class=\"legendtoggle\" x=\"0\" y=\"-10.6\" width=\"50.5\" height=\"21.2\" style=\"fill: rgb(0, 0, 0); fill-opacity: 0;\"/></g><g class=\"traces\" transform=\"translate(243.421875,16.1)\" style=\"opacity: 1;\"><text class=\"legendtext\" text-anchor=\"start\" x=\"40\" y=\"5.46\" style=\"font-family: Arial; font-size: 14px; fill: rgb(0, 0, 0); fill-opacity: 1; white-space: pre;\">2</text><g class=\"layers\" style=\"opacity: 1;\"><g class=\"legendfill\"/><g class=\"legendlines\"/><g class=\"legendsymbols\"><g class=\"legendpoints\"><path class=\"legendpie\" d=\"M6,6H-6V-6H6Z\" transform=\"translate(20,0)\" style=\"fill: rgb(222, 119, 174); fill-opacity: 1; stroke-width: 2; stroke: rgb(0, 0, 0); stroke-opacity: 1;\"/></g></g></g><rect class=\"legendtoggle\" x=\"0\" y=\"-10.6\" width=\"50.5\" height=\"21.2\" style=\"fill: rgb(0, 0, 0); fill-opacity: 0;\"/></g><g class=\"traces\" transform=\"translate(296.421875,16.1)\" style=\"opacity: 1;\"><text class=\"legendtext\" text-anchor=\"start\" x=\"40\" y=\"5.46\" style=\"font-family: Arial; font-size: 14px; fill: rgb(0, 0, 0); fill-opacity: 1; white-space: pre;\">1</text><g class=\"layers\" style=\"opacity: 1;\"><g class=\"legendfill\"/><g class=\"legendlines\"/><g class=\"legendsymbols\"><g class=\"legendpoints\"><path class=\"legendpie\" d=\"M6,6H-6V-6H6Z\" transform=\"translate(20,0)\" style=\"fill: rgb(241, 182, 218); fill-opacity: 1; stroke-width: 2; stroke: rgb(0, 0, 0); stroke-opacity: 1;\"/></g></g></g><rect class=\"legendtoggle\" x=\"0\" y=\"-10.6\" width=\"50.5\" height=\"21.2\" style=\"fill: rgb(0, 0, 0); fill-opacity: 0;\"/></g></g></g><rect class=\"scrollbar\" rx=\"20\" ry=\"3\" width=\"0\" height=\"0\" style=\"fill: rgb(128, 139, 164); fill-opacity: 1;\" x=\"0\" y=\"0\"/></g><g class=\"g-gtitle\"><text class=\"gtitle\" x=\"500\" y=\"25\" text-anchor=\"middle\" dy=\"0.7em\" style=\"font-family: 'Times New Roman'; font-size: 26px; fill: rgb(0, 0, 0); opacity: 1; font-weight: normal; white-space: pre;\">Distribution of Different Treatments</text></g><g class=\"annotation\" data-index=\"0\" style=\"opacity: 1;\"><g class=\"annotation-text-g\" transform=\"rotate(0,417.5,265)\"><g class=\"cursor-pointer\" transform=\"translate(370,252)\"><rect class=\"bg\" x=\"0.5\" y=\"0.5\" width=\"94\" height=\"25\" style=\"stroke-width: 1px; stroke: rgb(0, 0, 0); stroke-opacity: 0; fill: rgb(0, 0, 0); fill-opacity: 0;\"/><text class=\"annotation-text\" text-anchor=\"middle\" x=\"47.203125\" y=\"20\" style=\"font-family: 'Open Sans', verdana, arial, sans-serif; font-size: 20px; fill: rgb(0, 0, 0); fill-opacity: 1; white-space: pre;\">Treatment</text></g></g></g><g class=\"annotation\" data-index=\"1\" style=\"opacity: 1;\"><g class=\"annotation-text-g\" transform=\"rotate(0,417.5,477.00000000000006)\"><g class=\"cursor-pointer\" transform=\"translate(234,467)\"><rect class=\"bg\" x=\"0.5\" y=\"0.5\" width=\"366\" height=\"19\" style=\"stroke-width: 1px; stroke: rgb(0, 0, 0); stroke-opacity: 0; fill: rgb(0, 0, 0); fill-opacity: 0;\"/><text class=\"annotation-text\" text-anchor=\"middle\" x=\"183.5625\" y=\"15\" style=\"font-family: 'Open Sans', verdana, arial, sans-serif; font-size: 14px; fill: rgb(0, 0, 0); fill-opacity: 1; white-space: pre;\">The majority of patients are receiving ZDV only or ddI only.</text></g></g></g></g></svg>"
      ]
     },
     "metadata": {},
     "output_type": "display_data"
    }
   ],
   "source": [
    "trt = df['trt'].value_counts().reset_index()\n",
    "trt.columns = ['trt', 'count']\n",
    "\n",
    "# Choose a diverging palette\n",
    "palette = cl.scales['11']['div']['PiYG']\n",
    "\n",
    "# Create the pie chart\n",
    "fig = go.Figure(data=[go.Pie(\n",
    "    labels=trt['trt'],\n",
    "    values=trt['count'],\n",
    "    hole=.4,\n",
    "    marker=dict(colors=palette, line=dict(color='#000000', width=2)),\n",
    "    hoverinfo=\"label+percent+value\",\n",
    "    textinfo=\"label+percent\",\n",
    "    textfont=dict(size=14, color='#000000')  # Adjust text color\n",
    ")])\n",
    "\n",
    "# Update layout\n",
    "fig.update_layout(\n",
    "    title_text=\"Treatment Distribution\",\n",
    "    title_font_size=24,\n",
    "    title_font_family=\"Times New Roman\",\n",
    "    title_font_color=\"#000000\", \n",
    "    paper_bgcolor='#ffffff',  \n",
    "    plot_bgcolor='#ffffff',  \n",
    "    annotations=[dict(text='Treatment', x=0.5, y=0.5, font_size=20, showarrow=False, font=dict(color=\"#000000\"))],\n",
    "    showlegend=True,\n",
    "    legend_title_text='Treatment Types',\n",
    "    legend=dict(\n",
    "        x=0.8,\n",
    "        y=0.5,\n",
    "        traceorder='normal',\n",
    "        font=dict(\n",
    "            family=\"Arial\",\n",
    "            size=14,\n",
    "            color=\"#000000\"  \n",
    "        ),\n",
    "        bgcolor=\"#ffffff\",  \n",
    "        bordercolor=\"#000000\",  \n",
    "        borderwidth=0.5,\n",
    "        orientation=\"h\"  \n",
    "    )\n",
    ")\n",
    "\n",
    "# Increase the width of the page\n",
    "fig.update_layout(width=1000)\n",
    "\n",
    "# Adding a more vibrant title and better spacing\n",
    "fig.update_layout(\n",
    "    title={\n",
    "        'text': \"Distribution of Different Treatments\",\n",
    "        'y':0.95,\n",
    "        'x':0.5,\n",
    "        'xanchor': 'center',\n",
    "        'yanchor': 'top'},\n",
    "    title_font_size=26,\n",
    "    margin=dict(l=50, r=50, t=80, b=50)\n",
    ")\n",
    "\n",
    "# Add observation/interpretation\n",
    "fig.add_annotation(\n",
    "    text=\"The majority of patients are receiving ZDV only or ddI only.\",\n",
    "    x=0.5,\n",
    "    y=-0.1,\n",
    "    showarrow=False,\n",
    "    font=dict(color=\"#000000\", size=14)  # Adjust text color\n",
    ")\n",
    "\n",
    "# Show the pie chart\n",
    "fig.show('svg')"
   ]
  },
  {
   "cell_type": "markdown",
   "id": "d6fa9d12",
   "metadata": {
    "papermill": {
     "duration": 0.01186,
     "end_time": "2024-05-28T07:07:23.580149",
     "exception": false,
     "start_time": "2024-05-28T07:07:23.568289",
     "status": "completed"
    },
    "tags": []
   },
   "source": [
    "----------------------------------------------------------------------------------------------------------------------------------------------------------\n"
   ]
  },
  {
   "cell_type": "markdown",
   "id": "13317a2e",
   "metadata": {
    "papermill": {
     "duration": 0.013461,
     "end_time": "2024-05-28T07:07:23.606367",
     "exception": false,
     "start_time": "2024-05-28T07:07:23.592906",
     "status": "completed"
    },
    "tags": []
   },
   "source": [
    "## Age\n",
    "\n",
    "\n",
    "***Conclusions***\n",
    "\n",
    "- *It can be seen that age is normally distributed*\n",
    "\n",
    "- *There are no missing values*\n",
    "\n",
    "- *Max values goes up to 68 but some outliers are present in the data*\n",
    "\n",
    "- *mean and median are about the same hence we can conclude that the outliers are not affecting the data*"
   ]
  },
  {
   "cell_type": "code",
   "execution_count": 8,
   "id": "501c1306",
   "metadata": {
    "execution": {
     "iopub.execute_input": "2024-05-28T07:07:23.632930Z",
     "iopub.status.busy": "2024-05-28T07:07:23.632511Z",
     "iopub.status.idle": "2024-05-28T07:07:23.648412Z",
     "shell.execute_reply": "2024-05-28T07:07:23.647220Z"
    },
    "papermill": {
     "duration": 0.032357,
     "end_time": "2024-05-28T07:07:23.651075",
     "exception": false,
     "start_time": "2024-05-28T07:07:23.618718",
     "status": "completed"
    },
    "tags": []
   },
   "outputs": [
    {
     "data": {
      "text/plain": [
       "count    15000.000000\n",
       "mean        34.273800\n",
       "std          7.074134\n",
       "min         12.000000\n",
       "25%         29.000000\n",
       "50%         34.000000\n",
       "75%         39.000000\n",
       "max         68.000000\n",
       "Name: age, dtype: float64"
      ]
     },
     "execution_count": 8,
     "metadata": {},
     "output_type": "execute_result"
    }
   ],
   "source": [
    "df['age'].describe()"
   ]
  },
  {
   "cell_type": "markdown",
   "id": "58570109",
   "metadata": {
    "papermill": {
     "duration": 0.011904,
     "end_time": "2024-05-28T07:07:23.675157",
     "exception": false,
     "start_time": "2024-05-28T07:07:23.663253",
     "status": "completed"
    },
    "tags": []
   },
   "source": [
    "*Median and mean are around the same hence it seems like the distribution is normal.*"
   ]
  },
  {
   "cell_type": "code",
   "execution_count": 9,
   "id": "2bbfe144",
   "metadata": {
    "execution": {
     "iopub.execute_input": "2024-05-28T07:07:23.701264Z",
     "iopub.status.busy": "2024-05-28T07:07:23.700865Z",
     "iopub.status.idle": "2024-05-28T07:07:23.975889Z",
     "shell.execute_reply": "2024-05-28T07:07:23.974872Z"
    },
    "papermill": {
     "duration": 0.291293,
     "end_time": "2024-05-28T07:07:23.978632",
     "exception": false,
     "start_time": "2024-05-28T07:07:23.687339",
     "status": "completed"
    },
    "tags": []
   },
   "outputs": [
    {
     "data": {
      "image/svg+xml": [
       "<svg class=\"main-svg\" xmlns=\"http://www.w3.org/2000/svg\" xmlns:xlink=\"http://www.w3.org/1999/xlink\" width=\"1000\" height=\"500\" style=\"\" viewBox=\"0 0 1000 500\"><rect x=\"0\" y=\"0\" width=\"1000\" height=\"500\" style=\"fill: rgb(255, 255, 255); fill-opacity: 1;\"/><defs id=\"defs-8f6099\"><g class=\"clips\"><clipPath id=\"clip8f6099xyplot\" class=\"plotclip\"><rect width=\"885\" height=\"367\"/></clipPath><clipPath class=\"axesclip\" id=\"clip8f6099x\"><rect x=\"65\" y=\"0\" width=\"885\" height=\"500\"/></clipPath><clipPath class=\"axesclip\" id=\"clip8f6099y\"><rect x=\"0\" y=\"80\" width=\"1000\" height=\"367\"/></clipPath><clipPath class=\"axesclip\" id=\"clip8f6099xy\"><rect x=\"65\" y=\"80\" width=\"885\" height=\"367\"/></clipPath></g><g class=\"gradients\"/><g class=\"patterns\"/></defs><g class=\"bglayer\"/><g class=\"layer-below\"><g class=\"imagelayer\"/><g class=\"shapelayer\"/></g><g class=\"cartesianlayer\"><g class=\"subplot xy\"><g class=\"layer-subplot\"><g class=\"shapelayer\"/><g class=\"imagelayer\"/></g><g class=\"minor-gridlayer\"><g class=\"x\"/><g class=\"y\"/></g><g class=\"gridlayer\"><g class=\"x\"/><g class=\"y\"><path class=\"ygrid crisp\" transform=\"translate(0,401.61)\" d=\"M65,0h885\" style=\"stroke: rgb(255, 255, 255); stroke-opacity: 1; stroke-width: 1px;\"/><path class=\"ygrid crisp\" transform=\"translate(0,356.23)\" d=\"M65,0h885\" style=\"stroke: rgb(255, 255, 255); stroke-opacity: 1; stroke-width: 1px;\"/><path class=\"ygrid crisp\" transform=\"translate(0,310.84000000000003)\" d=\"M65,0h885\" style=\"stroke: rgb(255, 255, 255); stroke-opacity: 1; stroke-width: 1px;\"/><path class=\"ygrid crisp\" transform=\"translate(0,265.46000000000004)\" d=\"M65,0h885\" style=\"stroke: rgb(255, 255, 255); stroke-opacity: 1; stroke-width: 1px;\"/><path class=\"ygrid crisp\" transform=\"translate(0,220.07)\" d=\"M65,0h885\" style=\"stroke: rgb(255, 255, 255); stroke-opacity: 1; stroke-width: 1px;\"/><path class=\"ygrid crisp\" transform=\"translate(0,174.69)\" d=\"M65,0h885\" style=\"stroke: rgb(255, 255, 255); stroke-opacity: 1; stroke-width: 1px;\"/><path class=\"ygrid crisp\" transform=\"translate(0,129.3)\" d=\"M65,0h885\" style=\"stroke: rgb(255, 255, 255); stroke-opacity: 1; stroke-width: 1px;\"/><path class=\"ygrid crisp\" transform=\"translate(0,83.92)\" d=\"M65,0h885\" style=\"stroke: rgb(255, 255, 255); stroke-opacity: 1; stroke-width: 1px;\"/></g></g><g class=\"zerolinelayer\"><path class=\"yzl zl crisp\" transform=\"translate(0,447)\" d=\"M65,0h885\" style=\"stroke: rgb(255, 255, 255); stroke-opacity: 1; stroke-width: 2px;\"/></g><path class=\"xlines-below\"/><path class=\"ylines-below\"/><g class=\"overlines-below\"/><g class=\"xaxislayer-below\"/><g class=\"yaxislayer-below\"/><g class=\"overaxes-below\"/><g class=\"plot\" transform=\"translate(65,80)\" clip-path=\"url(#clip8f6099xyplot)\"><g class=\"barlayer mlayer\"><g class=\"trace bars\" shape-rendering=\"crispEdges\" style=\"opacity: 1;\"><g class=\"points\"><g class=\"point\"><path d=\"M0,367V356.47H147.5V367Z\" style=\"vector-effect: none; opacity: 1; stroke-width: 0px; fill: rgb(118, 42, 131); fill-opacity: 1;\"/></g><g class=\"point\"><path d=\"M147.5,367V194.76H295V367Z\" style=\"vector-effect: none; opacity: 1; stroke-width: 0px; fill: rgb(118, 42, 131); fill-opacity: 1;\"/></g><g class=\"point\"><path d=\"M295,367V18.35H442.5V367Z\" style=\"vector-effect: none; opacity: 1; stroke-width: 0px; fill: rgb(118, 42, 131); fill-opacity: 1;\"/></g><g class=\"point\"><path d=\"M442.5,367V232.98H590V367Z\" style=\"vector-effect: none; opacity: 1; stroke-width: 0px; fill: rgb(118, 42, 131); fill-opacity: 1;\"/></g><g class=\"point\"><path d=\"M590,367V352.57H737.5V367Z\" style=\"vector-effect: none; opacity: 1; stroke-width: 0px; fill: rgb(118, 42, 131); fill-opacity: 1;\"/></g><g class=\"point\"><path d=\"M737.5,367V366.09H885V367Z\" style=\"vector-effect: none; opacity: 1; stroke-width: 0px; fill: rgb(118, 42, 131); fill-opacity: 1;\"/></g></g></g></g></g><g class=\"overplot\"/><path class=\"xlines-above crisp\" d=\"M0,0\" style=\"fill: none;\"/><path class=\"ylines-above crisp\" d=\"M0,0\" style=\"fill: none;\"/><g class=\"overlines-above\"/><g class=\"xaxislayer-above\"><g class=\"xtick\"><text text-anchor=\"middle\" x=\"0\" y=\"460\" transform=\"translate(72.38,0)\" style=\"font-family: 'Open Sans', verdana, arial, sans-serif; font-size: 12px; fill: rgb(42, 63, 95); fill-opacity: 1; white-space: pre; opacity: 1;\">10</text></g><g class=\"xtick\"><text text-anchor=\"middle\" x=\"0\" y=\"460\" style=\"font-family: 'Open Sans', verdana, arial, sans-serif; font-size: 12px; fill: rgb(42, 63, 95); fill-opacity: 1; white-space: pre; opacity: 1;\" transform=\"translate(219.88,0)\">20</text></g><g class=\"xtick\"><text text-anchor=\"middle\" x=\"0\" y=\"460\" style=\"font-family: 'Open Sans', verdana, arial, sans-serif; font-size: 12px; fill: rgb(42, 63, 95); fill-opacity: 1; white-space: pre; opacity: 1;\" transform=\"translate(367.38,0)\">30</text></g><g class=\"xtick\"><text text-anchor=\"middle\" x=\"0\" y=\"460\" style=\"font-family: 'Open Sans', verdana, arial, sans-serif; font-size: 12px; fill: rgb(42, 63, 95); fill-opacity: 1; white-space: pre; opacity: 1;\" transform=\"translate(514.88,0)\">40</text></g><g class=\"xtick\"><text text-anchor=\"middle\" x=\"0\" y=\"460\" style=\"font-family: 'Open Sans', verdana, arial, sans-serif; font-size: 12px; fill: rgb(42, 63, 95); fill-opacity: 1; white-space: pre; opacity: 1;\" transform=\"translate(662.38,0)\">50</text></g><g class=\"xtick\"><text text-anchor=\"middle\" x=\"0\" y=\"460\" style=\"font-family: 'Open Sans', verdana, arial, sans-serif; font-size: 12px; fill: rgb(42, 63, 95); fill-opacity: 1; white-space: pre; opacity: 1;\" transform=\"translate(809.88,0)\">60</text></g></g><g class=\"yaxislayer-above\"><g class=\"ytick\"><text text-anchor=\"end\" x=\"64\" y=\"4.199999999999999\" transform=\"translate(0,447)\" style=\"font-family: 'Open Sans', verdana, arial, sans-serif; font-size: 12px; fill: rgb(42, 63, 95); fill-opacity: 1; white-space: pre; opacity: 1;\">0</text></g><g class=\"ytick\"><text text-anchor=\"end\" x=\"64\" y=\"4.199999999999999\" style=\"font-family: 'Open Sans', verdana, arial, sans-serif; font-size: 12px; fill: rgb(42, 63, 95); fill-opacity: 1; white-space: pre; opacity: 1;\" transform=\"translate(0,401.61)\">1000</text></g><g class=\"ytick\"><text text-anchor=\"end\" x=\"64\" y=\"4.199999999999999\" style=\"font-family: 'Open Sans', verdana, arial, sans-serif; font-size: 12px; fill: rgb(42, 63, 95); fill-opacity: 1; white-space: pre; opacity: 1;\" transform=\"translate(0,356.23)\">2000</text></g><g class=\"ytick\"><text text-anchor=\"end\" x=\"64\" y=\"4.199999999999999\" style=\"font-family: 'Open Sans', verdana, arial, sans-serif; font-size: 12px; fill: rgb(42, 63, 95); fill-opacity: 1; white-space: pre; opacity: 1;\" transform=\"translate(0,310.84000000000003)\">3000</text></g><g class=\"ytick\"><text text-anchor=\"end\" x=\"64\" y=\"4.199999999999999\" style=\"font-family: 'Open Sans', verdana, arial, sans-serif; font-size: 12px; fill: rgb(42, 63, 95); fill-opacity: 1; white-space: pre; opacity: 1;\" transform=\"translate(0,265.46000000000004)\">4000</text></g><g class=\"ytick\"><text text-anchor=\"end\" x=\"64\" y=\"4.199999999999999\" style=\"font-family: 'Open Sans', verdana, arial, sans-serif; font-size: 12px; fill: rgb(42, 63, 95); fill-opacity: 1; white-space: pre; opacity: 1;\" transform=\"translate(0,220.07)\">5000</text></g><g class=\"ytick\"><text text-anchor=\"end\" x=\"64\" y=\"4.199999999999999\" style=\"font-family: 'Open Sans', verdana, arial, sans-serif; font-size: 12px; fill: rgb(42, 63, 95); fill-opacity: 1; white-space: pre; opacity: 1;\" transform=\"translate(0,174.69)\">6000</text></g><g class=\"ytick\"><text text-anchor=\"end\" x=\"64\" y=\"4.199999999999999\" style=\"font-family: 'Open Sans', verdana, arial, sans-serif; font-size: 12px; fill: rgb(42, 63, 95); fill-opacity: 1; white-space: pre; opacity: 1;\" transform=\"translate(0,129.3)\">7000</text></g><g class=\"ytick\"><text text-anchor=\"end\" x=\"64\" y=\"4.199999999999999\" style=\"font-family: 'Open Sans', verdana, arial, sans-serif; font-size: 12px; fill: rgb(42, 63, 95); fill-opacity: 1; white-space: pre; opacity: 1;\" transform=\"translate(0,83.92)\">8000</text></g></g><g class=\"overaxes-above\"/></g></g><g class=\"polarlayer\"/><g class=\"smithlayer\"/><g class=\"ternarylayer\"/><g class=\"geolayer\"/><g class=\"funnelarealayer\"/><g class=\"pielayer\"/><g class=\"iciclelayer\"/><g class=\"treemaplayer\"/><g class=\"sunburstlayer\"/><g class=\"glimages\"/><defs id=\"topdefs-8f6099\"><g class=\"clips\"/></defs><g class=\"layer-above\"><g class=\"imagelayer\"/><g class=\"shapelayer\"/></g><g class=\"infolayer\"><g class=\"g-gtitle\"><text class=\"gtitle\" x=\"150\" y=\"25\" text-anchor=\"middle\" dy=\"0.7em\" style=\"font-family: 'Times New Roman'; font-size: 26px; fill: rgb(0, 0, 0); opacity: 1; font-weight: normal; white-space: pre;\">Age Distribution</text></g><g class=\"g-xtitle\"><text class=\"xtitle\" x=\"507.5\" y=\"487.3\" text-anchor=\"middle\" style=\"font-family: 'Open Sans', verdana, arial, sans-serif; font-size: 14px; fill: rgb(42, 63, 95); opacity: 1; font-weight: normal; white-space: pre;\">Age</text></g><g class=\"g-ytitle\" transform=\"translate(0.0029296875,0)\"><text class=\"ytitle\" transform=\"rotate(-90,12.996875000000003,263.5)\" x=\"12.996875000000003\" y=\"263.5\" text-anchor=\"middle\" style=\"font-family: 'Open Sans', verdana, arial, sans-serif; font-size: 14px; fill: rgb(42, 63, 95); opacity: 1; font-weight: normal; white-space: pre;\">Frequency</text></g></g></svg>"
      ]
     },
     "metadata": {},
     "output_type": "display_data"
    }
   ],
   "source": [
    "palette = cl.to_rgb(cl.scales['10']['div']['PRGn'])\n",
    "\n",
    "# Create the histogram\n",
    "fig = go.Figure(data=[go.Histogram(\n",
    "    x=df['age'],\n",
    "    marker=dict(color=palette[1]),  \n",
    "    nbinsx=10\n",
    ")])\n",
    "\n",
    "fig.update_layout(\n",
    "    title_text=\"Age Distribution\",\n",
    "    title_font_size=24,\n",
    "    title_font_family=\"Times New Roman\",\n",
    "    title_font_color=\"#000000\",  \n",
    "    paper_bgcolor='#ffffff',  \n",
    "    plot_bgcolor='#ffffff',  \n",
    "    xaxis=dict(title=\"Age\"),\n",
    "    yaxis=dict(title=\"Frequency\"),\n",
    ")\n",
    "\n",
    "fig.update_layout(\n",
    "    title={\n",
    "        'text': \"Age Distribution\",\n",
    "        'y':0.95,\n",
    "        'x':0.15,\n",
    "        'xanchor': 'center',\n",
    "        'yanchor': 'top'},\n",
    "    title_font_size=26,\n",
    "    margin=dict(l=50, r=50, t=80, b=50)\n",
    ")\n",
    "\n",
    "fig.update_layout(width=1000)\n",
    "\n",
    "# Show the pie chart\n",
    "fig.show('svg')"
   ]
  },
  {
   "cell_type": "code",
   "execution_count": 10,
   "id": "785c9888",
   "metadata": {
    "execution": {
     "iopub.execute_input": "2024-05-28T07:07:24.006132Z",
     "iopub.status.busy": "2024-05-28T07:07:24.005741Z",
     "iopub.status.idle": "2024-05-28T07:07:24.204802Z",
     "shell.execute_reply": "2024-05-28T07:07:24.203599Z"
    },
    "papermill": {
     "duration": 0.21526,
     "end_time": "2024-05-28T07:07:24.207243",
     "exception": false,
     "start_time": "2024-05-28T07:07:23.991983",
     "status": "completed"
    },
    "tags": []
   },
   "outputs": [
    {
     "data": {
      "image/svg+xml": [
       "<svg class=\"main-svg\" xmlns=\"http://www.w3.org/2000/svg\" xmlns:xlink=\"http://www.w3.org/1999/xlink\" width=\"1000\" height=\"500\" style=\"\" viewBox=\"0 0 1000 500\"><rect x=\"0\" y=\"0\" width=\"1000\" height=\"500\" style=\"fill: rgb(255, 255, 255); fill-opacity: 1;\"/><defs id=\"defs-4d8fd3\"><g class=\"clips\"><clipPath id=\"clip4d8fd3xyplot\" class=\"plotclip\"><rect width=\"900\" height=\"367\"/></clipPath><clipPath class=\"axesclip\" id=\"clip4d8fd3x\"><rect x=\"50\" y=\"0\" width=\"900\" height=\"500\"/></clipPath><clipPath class=\"axesclip\" id=\"clip4d8fd3y\"><rect x=\"0\" y=\"80\" width=\"1000\" height=\"367\"/></clipPath><clipPath class=\"axesclip\" id=\"clip4d8fd3xy\"><rect x=\"50\" y=\"80\" width=\"900\" height=\"367\"/></clipPath></g><g class=\"gradients\"/><g class=\"patterns\"/></defs><g class=\"bglayer\"/><g class=\"layer-below\"><g class=\"imagelayer\"/><g class=\"shapelayer\"/></g><g class=\"cartesianlayer\"><g class=\"subplot xy\"><g class=\"layer-subplot\"><g class=\"shapelayer\"/><g class=\"imagelayer\"/></g><g class=\"minor-gridlayer\"><g class=\"x\"/><g class=\"y\"/></g><g class=\"gridlayer\"><g class=\"x\"><path class=\"xgrid crisp\" transform=\"translate(66.07,0)\" d=\"M0,80v367\" style=\"stroke: rgb(255, 255, 255); stroke-opacity: 1; stroke-width: 1px;\"/><path class=\"xgrid crisp\" transform=\"translate(210.71,0)\" d=\"M0,80v367\" style=\"stroke: rgb(255, 255, 255); stroke-opacity: 1; stroke-width: 1px;\"/><path class=\"xgrid crisp\" transform=\"translate(355.36,0)\" d=\"M0,80v367\" style=\"stroke: rgb(255, 255, 255); stroke-opacity: 1; stroke-width: 1px;\"/><path class=\"xgrid crisp\" transform=\"translate(500,0)\" d=\"M0,80v367\" style=\"stroke: rgb(255, 255, 255); stroke-opacity: 1; stroke-width: 1px;\"/><path class=\"xgrid crisp\" transform=\"translate(644.64,0)\" d=\"M0,80v367\" style=\"stroke: rgb(255, 255, 255); stroke-opacity: 1; stroke-width: 1px;\"/><path class=\"xgrid crisp\" transform=\"translate(789.29,0)\" d=\"M0,80v367\" style=\"stroke: rgb(255, 255, 255); stroke-opacity: 1; stroke-width: 1px;\"/><path class=\"xgrid crisp\" transform=\"translate(933.93,0)\" d=\"M0,80v367\" style=\"stroke: rgb(255, 255, 255); stroke-opacity: 1; stroke-width: 1px;\"/></g><g class=\"y\"/></g><g class=\"zerolinelayer\"/><path class=\"xlines-below\"/><path class=\"ylines-below\"/><g class=\"overlines-below\"/><g class=\"xaxislayer-below\"/><g class=\"yaxislayer-below\"/><g class=\"overaxes-below\"/><g class=\"plot\" transform=\"translate(50,80)\" clip-path=\"url(#clip4d8fd3xyplot)\"><g class=\"boxlayer mlayer\"><g class=\"trace boxes\" style=\"opacity: 1;\"><path class=\"box\" d=\"M363.21,273.41V93.59M290.89,273.41V93.59H435.54V273.41ZM290.89,183.5H73.93M435.54,183.5H652.5M73.93,228.46V138.54M652.5,228.46V138.54\" style=\"vector-effect: none; stroke-width: 2px; stroke: rgb(118, 42, 131); stroke-opacity: 1; fill: rgb(118, 42, 131); fill-opacity: 0.5;\"/><g class=\"points\"><path class=\"point\" transform=\"translate(45,183.5)\" d=\"M3,0A3,3 0 1,1 0,-3A3,3 0 0,1 3,0Z\" style=\"opacity: 1; stroke-width: 0px; fill: rgb(118, 42, 131); fill-opacity: 1;\"/><path class=\"point\" transform=\"translate(45,183.5)\" d=\"M3,0A3,3 0 1,1 0,-3A3,3 0 0,1 3,0Z\" style=\"opacity: 1; stroke-width: 0px; fill: rgb(118, 42, 131); fill-opacity: 1;\"/><path class=\"point\" transform=\"translate(45,183.5)\" d=\"M3,0A3,3 0 1,1 0,-3A3,3 0 0,1 3,0Z\" style=\"opacity: 1; stroke-width: 0px; fill: rgb(118, 42, 131); fill-opacity: 1;\"/><path class=\"point\" transform=\"translate(45,183.5)\" d=\"M3,0A3,3 0 1,1 0,-3A3,3 0 0,1 3,0Z\" style=\"opacity: 1; stroke-width: 0px; fill: rgb(118, 42, 131); fill-opacity: 1;\"/><path class=\"point\" transform=\"translate(45,183.5)\" d=\"M3,0A3,3 0 1,1 0,-3A3,3 0 0,1 3,0Z\" style=\"opacity: 1; stroke-width: 0px; fill: rgb(118, 42, 131); fill-opacity: 1;\"/><path class=\"point\" transform=\"translate(45,183.5)\" d=\"M3,0A3,3 0 1,1 0,-3A3,3 0 0,1 3,0Z\" style=\"opacity: 1; stroke-width: 0px; fill: rgb(118, 42, 131); fill-opacity: 1;\"/><path class=\"point\" transform=\"translate(59.46,183.5)\" d=\"M3,0A3,3 0 1,1 0,-3A3,3 0 0,1 3,0Z\" style=\"opacity: 1; stroke-width: 0px; fill: rgb(118, 42, 131); fill-opacity: 1;\"/><path class=\"point\" transform=\"translate(59.46,183.5)\" d=\"M3,0A3,3 0 1,1 0,-3A3,3 0 0,1 3,0Z\" style=\"opacity: 1; stroke-width: 0px; fill: rgb(118, 42, 131); fill-opacity: 1;\"/><path class=\"point\" transform=\"translate(59.46,183.5)\" d=\"M3,0A3,3 0 1,1 0,-3A3,3 0 0,1 3,0Z\" style=\"opacity: 1; stroke-width: 0px; fill: rgb(118, 42, 131); fill-opacity: 1;\"/><path class=\"point\" transform=\"translate(59.46,183.5)\" d=\"M3,0A3,3 0 1,1 0,-3A3,3 0 0,1 3,0Z\" style=\"opacity: 1; stroke-width: 0px; fill: rgb(118, 42, 131); fill-opacity: 1;\"/><path class=\"point\" transform=\"translate(666.96,183.5)\" d=\"M3,0A3,3 0 1,1 0,-3A3,3 0 0,1 3,0Z\" style=\"opacity: 1; stroke-width: 0px; fill: rgb(118, 42, 131); fill-opacity: 1;\"/><path class=\"point\" transform=\"translate(666.96,183.5)\" d=\"M3,0A3,3 0 1,1 0,-3A3,3 0 0,1 3,0Z\" style=\"opacity: 1; stroke-width: 0px; fill: rgb(118, 42, 131); fill-opacity: 1;\"/><path class=\"point\" transform=\"translate(666.96,183.5)\" d=\"M3,0A3,3 0 1,1 0,-3A3,3 0 0,1 3,0Z\" style=\"opacity: 1; stroke-width: 0px; fill: rgb(118, 42, 131); fill-opacity: 1;\"/><path class=\"point\" transform=\"translate(666.96,183.5)\" d=\"M3,0A3,3 0 1,1 0,-3A3,3 0 0,1 3,0Z\" style=\"opacity: 1; stroke-width: 0px; fill: rgb(118, 42, 131); fill-opacity: 1;\"/><path class=\"point\" transform=\"translate(666.96,183.5)\" d=\"M3,0A3,3 0 1,1 0,-3A3,3 0 0,1 3,0Z\" style=\"opacity: 1; stroke-width: 0px; fill: rgb(118, 42, 131); fill-opacity: 1;\"/><path class=\"point\" transform=\"translate(666.96,183.5)\" d=\"M3,0A3,3 0 1,1 0,-3A3,3 0 0,1 3,0Z\" style=\"opacity: 1; stroke-width: 0px; fill: rgb(118, 42, 131); fill-opacity: 1;\"/><path class=\"point\" transform=\"translate(666.96,183.5)\" d=\"M3,0A3,3 0 1,1 0,-3A3,3 0 0,1 3,0Z\" style=\"opacity: 1; stroke-width: 0px; fill: rgb(118, 42, 131); fill-opacity: 1;\"/><path class=\"point\" transform=\"translate(666.96,183.5)\" d=\"M3,0A3,3 0 1,1 0,-3A3,3 0 0,1 3,0Z\" style=\"opacity: 1; stroke-width: 0px; fill: rgb(118, 42, 131); fill-opacity: 1;\"/><path class=\"point\" transform=\"translate(666.96,183.5)\" d=\"M3,0A3,3 0 1,1 0,-3A3,3 0 0,1 3,0Z\" style=\"opacity: 1; stroke-width: 0px; fill: rgb(118, 42, 131); fill-opacity: 1;\"/><path class=\"point\" transform=\"translate(666.96,183.5)\" d=\"M3,0A3,3 0 1,1 0,-3A3,3 0 0,1 3,0Z\" style=\"opacity: 1; stroke-width: 0px; fill: rgb(118, 42, 131); fill-opacity: 1;\"/><path class=\"point\" transform=\"translate(666.96,183.5)\" d=\"M3,0A3,3 0 1,1 0,-3A3,3 0 0,1 3,0Z\" style=\"opacity: 1; stroke-width: 0px; fill: rgb(118, 42, 131); fill-opacity: 1;\"/><path class=\"point\" transform=\"translate(666.96,183.5)\" d=\"M3,0A3,3 0 1,1 0,-3A3,3 0 0,1 3,0Z\" style=\"opacity: 1; stroke-width: 0px; fill: rgb(118, 42, 131); fill-opacity: 1;\"/><path class=\"point\" transform=\"translate(666.96,183.5)\" d=\"M3,0A3,3 0 1,1 0,-3A3,3 0 0,1 3,0Z\" style=\"opacity: 1; stroke-width: 0px; fill: rgb(118, 42, 131); fill-opacity: 1;\"/><path class=\"point\" transform=\"translate(666.96,183.5)\" d=\"M3,0A3,3 0 1,1 0,-3A3,3 0 0,1 3,0Z\" style=\"opacity: 1; stroke-width: 0px; fill: rgb(118, 42, 131); fill-opacity: 1;\"/><path class=\"point\" transform=\"translate(666.96,183.5)\" d=\"M3,0A3,3 0 1,1 0,-3A3,3 0 0,1 3,0Z\" style=\"opacity: 1; stroke-width: 0px; fill: rgb(118, 42, 131); fill-opacity: 1;\"/><path class=\"point\" transform=\"translate(666.96,183.5)\" d=\"M3,0A3,3 0 1,1 0,-3A3,3 0 0,1 3,0Z\" style=\"opacity: 1; stroke-width: 0px; fill: rgb(118, 42, 131); fill-opacity: 1;\"/><path class=\"point\" transform=\"translate(666.96,183.5)\" d=\"M3,0A3,3 0 1,1 0,-3A3,3 0 0,1 3,0Z\" style=\"opacity: 1; stroke-width: 0px; fill: rgb(118, 42, 131); fill-opacity: 1;\"/><path class=\"point\" transform=\"translate(666.96,183.5)\" d=\"M3,0A3,3 0 1,1 0,-3A3,3 0 0,1 3,0Z\" style=\"opacity: 1; stroke-width: 0px; fill: rgb(118, 42, 131); fill-opacity: 1;\"/><path class=\"point\" transform=\"translate(666.96,183.5)\" d=\"M3,0A3,3 0 1,1 0,-3A3,3 0 0,1 3,0Z\" style=\"opacity: 1; stroke-width: 0px; fill: rgb(118, 42, 131); fill-opacity: 1;\"/><path class=\"point\" transform=\"translate(681.43,183.5)\" d=\"M3,0A3,3 0 1,1 0,-3A3,3 0 0,1 3,0Z\" style=\"opacity: 1; stroke-width: 0px; fill: rgb(118, 42, 131); fill-opacity: 1;\"/><path class=\"point\" transform=\"translate(681.43,183.5)\" d=\"M3,0A3,3 0 1,1 0,-3A3,3 0 0,1 3,0Z\" style=\"opacity: 1; stroke-width: 0px; fill: rgb(118, 42, 131); fill-opacity: 1;\"/><path class=\"point\" transform=\"translate(681.43,183.5)\" d=\"M3,0A3,3 0 1,1 0,-3A3,3 0 0,1 3,0Z\" style=\"opacity: 1; stroke-width: 0px; fill: rgb(118, 42, 131); fill-opacity: 1;\"/><path class=\"point\" transform=\"translate(681.43,183.5)\" d=\"M3,0A3,3 0 1,1 0,-3A3,3 0 0,1 3,0Z\" style=\"opacity: 1; stroke-width: 0px; fill: rgb(118, 42, 131); fill-opacity: 1;\"/><path class=\"point\" transform=\"translate(681.43,183.5)\" d=\"M3,0A3,3 0 1,1 0,-3A3,3 0 0,1 3,0Z\" style=\"opacity: 1; stroke-width: 0px; fill: rgb(118, 42, 131); fill-opacity: 1;\"/><path class=\"point\" transform=\"translate(681.43,183.5)\" d=\"M3,0A3,3 0 1,1 0,-3A3,3 0 0,1 3,0Z\" style=\"opacity: 1; stroke-width: 0px; fill: rgb(118, 42, 131); fill-opacity: 1;\"/><path class=\"point\" transform=\"translate(681.43,183.5)\" d=\"M3,0A3,3 0 1,1 0,-3A3,3 0 0,1 3,0Z\" style=\"opacity: 1; stroke-width: 0px; fill: rgb(118, 42, 131); fill-opacity: 1;\"/><path class=\"point\" transform=\"translate(681.43,183.5)\" d=\"M3,0A3,3 0 1,1 0,-3A3,3 0 0,1 3,0Z\" style=\"opacity: 1; stroke-width: 0px; fill: rgb(118, 42, 131); fill-opacity: 1;\"/><path class=\"point\" transform=\"translate(681.43,183.5)\" d=\"M3,0A3,3 0 1,1 0,-3A3,3 0 0,1 3,0Z\" style=\"opacity: 1; stroke-width: 0px; fill: rgb(118, 42, 131); fill-opacity: 1;\"/><path class=\"point\" transform=\"translate(681.43,183.5)\" d=\"M3,0A3,3 0 1,1 0,-3A3,3 0 0,1 3,0Z\" style=\"opacity: 1; stroke-width: 0px; fill: rgb(118, 42, 131); fill-opacity: 1;\"/><path class=\"point\" transform=\"translate(681.43,183.5)\" d=\"M3,0A3,3 0 1,1 0,-3A3,3 0 0,1 3,0Z\" style=\"opacity: 1; stroke-width: 0px; fill: rgb(118, 42, 131); fill-opacity: 1;\"/><path class=\"point\" transform=\"translate(681.43,183.5)\" d=\"M3,0A3,3 0 1,1 0,-3A3,3 0 0,1 3,0Z\" style=\"opacity: 1; stroke-width: 0px; fill: rgb(118, 42, 131); fill-opacity: 1;\"/><path class=\"point\" transform=\"translate(681.43,183.5)\" d=\"M3,0A3,3 0 1,1 0,-3A3,3 0 0,1 3,0Z\" style=\"opacity: 1; stroke-width: 0px; fill: rgb(118, 42, 131); fill-opacity: 1;\"/><path class=\"point\" transform=\"translate(681.43,183.5)\" d=\"M3,0A3,3 0 1,1 0,-3A3,3 0 0,1 3,0Z\" style=\"opacity: 1; stroke-width: 0px; fill: rgb(118, 42, 131); fill-opacity: 1;\"/><path class=\"point\" transform=\"translate(681.43,183.5)\" d=\"M3,0A3,3 0 1,1 0,-3A3,3 0 0,1 3,0Z\" style=\"opacity: 1; stroke-width: 0px; fill: rgb(118, 42, 131); fill-opacity: 1;\"/><path class=\"point\" transform=\"translate(681.43,183.5)\" d=\"M3,0A3,3 0 1,1 0,-3A3,3 0 0,1 3,0Z\" style=\"opacity: 1; stroke-width: 0px; fill: rgb(118, 42, 131); fill-opacity: 1;\"/><path class=\"point\" transform=\"translate(681.43,183.5)\" d=\"M3,0A3,3 0 1,1 0,-3A3,3 0 0,1 3,0Z\" style=\"opacity: 1; stroke-width: 0px; fill: rgb(118, 42, 131); fill-opacity: 1;\"/><path class=\"point\" transform=\"translate(681.43,183.5)\" d=\"M3,0A3,3 0 1,1 0,-3A3,3 0 0,1 3,0Z\" style=\"opacity: 1; stroke-width: 0px; fill: rgb(118, 42, 131); fill-opacity: 1;\"/><path class=\"point\" transform=\"translate(681.43,183.5)\" d=\"M3,0A3,3 0 1,1 0,-3A3,3 0 0,1 3,0Z\" style=\"opacity: 1; stroke-width: 0px; fill: rgb(118, 42, 131); fill-opacity: 1;\"/><path class=\"point\" transform=\"translate(681.43,183.5)\" d=\"M3,0A3,3 0 1,1 0,-3A3,3 0 0,1 3,0Z\" style=\"opacity: 1; stroke-width: 0px; fill: rgb(118, 42, 131); fill-opacity: 1;\"/><path class=\"point\" transform=\"translate(681.43,183.5)\" d=\"M3,0A3,3 0 1,1 0,-3A3,3 0 0,1 3,0Z\" style=\"opacity: 1; stroke-width: 0px; fill: rgb(118, 42, 131); fill-opacity: 1;\"/><path class=\"point\" transform=\"translate(681.43,183.5)\" d=\"M3,0A3,3 0 1,1 0,-3A3,3 0 0,1 3,0Z\" style=\"opacity: 1; stroke-width: 0px; fill: rgb(118, 42, 131); fill-opacity: 1;\"/><path class=\"point\" transform=\"translate(695.89,183.5)\" d=\"M3,0A3,3 0 1,1 0,-3A3,3 0 0,1 3,0Z\" style=\"opacity: 1; stroke-width: 0px; fill: rgb(118, 42, 131); fill-opacity: 1;\"/><path class=\"point\" transform=\"translate(695.89,183.5)\" d=\"M3,0A3,3 0 1,1 0,-3A3,3 0 0,1 3,0Z\" style=\"opacity: 1; stroke-width: 0px; fill: rgb(118, 42, 131); fill-opacity: 1;\"/><path class=\"point\" transform=\"translate(695.89,183.5)\" d=\"M3,0A3,3 0 1,1 0,-3A3,3 0 0,1 3,0Z\" style=\"opacity: 1; stroke-width: 0px; fill: rgb(118, 42, 131); fill-opacity: 1;\"/><path class=\"point\" transform=\"translate(695.89,183.5)\" d=\"M3,0A3,3 0 1,1 0,-3A3,3 0 0,1 3,0Z\" style=\"opacity: 1; stroke-width: 0px; fill: rgb(118, 42, 131); fill-opacity: 1;\"/><path class=\"point\" transform=\"translate(695.89,183.5)\" d=\"M3,0A3,3 0 1,1 0,-3A3,3 0 0,1 3,0Z\" style=\"opacity: 1; stroke-width: 0px; fill: rgb(118, 42, 131); fill-opacity: 1;\"/><path class=\"point\" transform=\"translate(695.89,183.5)\" d=\"M3,0A3,3 0 1,1 0,-3A3,3 0 0,1 3,0Z\" style=\"opacity: 1; stroke-width: 0px; fill: rgb(118, 42, 131); fill-opacity: 1;\"/><path class=\"point\" transform=\"translate(695.89,183.5)\" d=\"M3,0A3,3 0 1,1 0,-3A3,3 0 0,1 3,0Z\" style=\"opacity: 1; stroke-width: 0px; fill: rgb(118, 42, 131); fill-opacity: 1;\"/><path class=\"point\" transform=\"translate(695.89,183.5)\" d=\"M3,0A3,3 0 1,1 0,-3A3,3 0 0,1 3,0Z\" style=\"opacity: 1; stroke-width: 0px; fill: rgb(118, 42, 131); fill-opacity: 1;\"/><path class=\"point\" transform=\"translate(695.89,183.5)\" d=\"M3,0A3,3 0 1,1 0,-3A3,3 0 0,1 3,0Z\" style=\"opacity: 1; stroke-width: 0px; fill: rgb(118, 42, 131); fill-opacity: 1;\"/><path class=\"point\" transform=\"translate(695.89,183.5)\" d=\"M3,0A3,3 0 1,1 0,-3A3,3 0 0,1 3,0Z\" style=\"opacity: 1; stroke-width: 0px; fill: rgb(118, 42, 131); fill-opacity: 1;\"/><path class=\"point\" transform=\"translate(695.89,183.5)\" d=\"M3,0A3,3 0 1,1 0,-3A3,3 0 0,1 3,0Z\" style=\"opacity: 1; stroke-width: 0px; fill: rgb(118, 42, 131); fill-opacity: 1;\"/><path class=\"point\" transform=\"translate(695.89,183.5)\" d=\"M3,0A3,3 0 1,1 0,-3A3,3 0 0,1 3,0Z\" style=\"opacity: 1; stroke-width: 0px; fill: rgb(118, 42, 131); fill-opacity: 1;\"/><path class=\"point\" transform=\"translate(695.89,183.5)\" d=\"M3,0A3,3 0 1,1 0,-3A3,3 0 0,1 3,0Z\" style=\"opacity: 1; stroke-width: 0px; fill: rgb(118, 42, 131); fill-opacity: 1;\"/><path class=\"point\" transform=\"translate(695.89,183.5)\" d=\"M3,0A3,3 0 1,1 0,-3A3,3 0 0,1 3,0Z\" style=\"opacity: 1; stroke-width: 0px; fill: rgb(118, 42, 131); fill-opacity: 1;\"/><path class=\"point\" transform=\"translate(710.36,183.5)\" d=\"M3,0A3,3 0 1,1 0,-3A3,3 0 0,1 3,0Z\" style=\"opacity: 1; stroke-width: 0px; fill: rgb(118, 42, 131); fill-opacity: 1;\"/><path class=\"point\" transform=\"translate(710.36,183.5)\" d=\"M3,0A3,3 0 1,1 0,-3A3,3 0 0,1 3,0Z\" style=\"opacity: 1; stroke-width: 0px; fill: rgb(118, 42, 131); fill-opacity: 1;\"/><path class=\"point\" transform=\"translate(710.36,183.5)\" d=\"M3,0A3,3 0 1,1 0,-3A3,3 0 0,1 3,0Z\" style=\"opacity: 1; stroke-width: 0px; fill: rgb(118, 42, 131); fill-opacity: 1;\"/><path class=\"point\" transform=\"translate(710.36,183.5)\" d=\"M3,0A3,3 0 1,1 0,-3A3,3 0 0,1 3,0Z\" style=\"opacity: 1; stroke-width: 0px; fill: rgb(118, 42, 131); fill-opacity: 1;\"/><path class=\"point\" transform=\"translate(710.36,183.5)\" d=\"M3,0A3,3 0 1,1 0,-3A3,3 0 0,1 3,0Z\" style=\"opacity: 1; stroke-width: 0px; fill: rgb(118, 42, 131); fill-opacity: 1;\"/><path class=\"point\" transform=\"translate(710.36,183.5)\" d=\"M3,0A3,3 0 1,1 0,-3A3,3 0 0,1 3,0Z\" style=\"opacity: 1; stroke-width: 0px; fill: rgb(118, 42, 131); fill-opacity: 1;\"/><path class=\"point\" transform=\"translate(710.36,183.5)\" d=\"M3,0A3,3 0 1,1 0,-3A3,3 0 0,1 3,0Z\" style=\"opacity: 1; stroke-width: 0px; fill: rgb(118, 42, 131); fill-opacity: 1;\"/><path class=\"point\" transform=\"translate(710.36,183.5)\" d=\"M3,0A3,3 0 1,1 0,-3A3,3 0 0,1 3,0Z\" style=\"opacity: 1; stroke-width: 0px; fill: rgb(118, 42, 131); fill-opacity: 1;\"/><path class=\"point\" transform=\"translate(710.36,183.5)\" d=\"M3,0A3,3 0 1,1 0,-3A3,3 0 0,1 3,0Z\" style=\"opacity: 1; stroke-width: 0px; fill: rgb(118, 42, 131); fill-opacity: 1;\"/><path class=\"point\" transform=\"translate(710.36,183.5)\" d=\"M3,0A3,3 0 1,1 0,-3A3,3 0 0,1 3,0Z\" style=\"opacity: 1; stroke-width: 0px; fill: rgb(118, 42, 131); fill-opacity: 1;\"/><path class=\"point\" transform=\"translate(710.36,183.5)\" d=\"M3,0A3,3 0 1,1 0,-3A3,3 0 0,1 3,0Z\" style=\"opacity: 1; stroke-width: 0px; fill: rgb(118, 42, 131); fill-opacity: 1;\"/><path class=\"point\" transform=\"translate(710.36,183.5)\" d=\"M3,0A3,3 0 1,1 0,-3A3,3 0 0,1 3,0Z\" style=\"opacity: 1; stroke-width: 0px; fill: rgb(118, 42, 131); fill-opacity: 1;\"/><path class=\"point\" transform=\"translate(710.36,183.5)\" d=\"M3,0A3,3 0 1,1 0,-3A3,3 0 0,1 3,0Z\" style=\"opacity: 1; stroke-width: 0px; fill: rgb(118, 42, 131); fill-opacity: 1;\"/><path class=\"point\" transform=\"translate(710.36,183.5)\" d=\"M3,0A3,3 0 1,1 0,-3A3,3 0 0,1 3,0Z\" style=\"opacity: 1; stroke-width: 0px; fill: rgb(118, 42, 131); fill-opacity: 1;\"/><path class=\"point\" transform=\"translate(710.36,183.5)\" d=\"M3,0A3,3 0 1,1 0,-3A3,3 0 0,1 3,0Z\" style=\"opacity: 1; stroke-width: 0px; fill: rgb(118, 42, 131); fill-opacity: 1;\"/><path class=\"point\" transform=\"translate(710.36,183.5)\" d=\"M3,0A3,3 0 1,1 0,-3A3,3 0 0,1 3,0Z\" style=\"opacity: 1; stroke-width: 0px; fill: rgb(118, 42, 131); fill-opacity: 1;\"/><path class=\"point\" transform=\"translate(710.36,183.5)\" d=\"M3,0A3,3 0 1,1 0,-3A3,3 0 0,1 3,0Z\" style=\"opacity: 1; stroke-width: 0px; fill: rgb(118, 42, 131); fill-opacity: 1;\"/><path class=\"point\" transform=\"translate(724.82,183.5)\" d=\"M3,0A3,3 0 1,1 0,-3A3,3 0 0,1 3,0Z\" style=\"opacity: 1; stroke-width: 0px; fill: rgb(118, 42, 131); fill-opacity: 1;\"/><path class=\"point\" transform=\"translate(724.82,183.5)\" d=\"M3,0A3,3 0 1,1 0,-3A3,3 0 0,1 3,0Z\" style=\"opacity: 1; stroke-width: 0px; fill: rgb(118, 42, 131); fill-opacity: 1;\"/><path class=\"point\" transform=\"translate(724.82,183.5)\" d=\"M3,0A3,3 0 1,1 0,-3A3,3 0 0,1 3,0Z\" style=\"opacity: 1; stroke-width: 0px; fill: rgb(118, 42, 131); fill-opacity: 1;\"/><path class=\"point\" transform=\"translate(724.82,183.5)\" d=\"M3,0A3,3 0 1,1 0,-3A3,3 0 0,1 3,0Z\" style=\"opacity: 1; stroke-width: 0px; fill: rgb(118, 42, 131); fill-opacity: 1;\"/><path class=\"point\" transform=\"translate(724.82,183.5)\" d=\"M3,0A3,3 0 1,1 0,-3A3,3 0 0,1 3,0Z\" style=\"opacity: 1; stroke-width: 0px; fill: rgb(118, 42, 131); fill-opacity: 1;\"/><path class=\"point\" transform=\"translate(724.82,183.5)\" d=\"M3,0A3,3 0 1,1 0,-3A3,3 0 0,1 3,0Z\" style=\"opacity: 1; stroke-width: 0px; fill: rgb(118, 42, 131); fill-opacity: 1;\"/><path class=\"point\" transform=\"translate(724.82,183.5)\" d=\"M3,0A3,3 0 1,1 0,-3A3,3 0 0,1 3,0Z\" style=\"opacity: 1; stroke-width: 0px; fill: rgb(118, 42, 131); fill-opacity: 1;\"/><path class=\"point\" transform=\"translate(724.82,183.5)\" d=\"M3,0A3,3 0 1,1 0,-3A3,3 0 0,1 3,0Z\" style=\"opacity: 1; stroke-width: 0px; fill: rgb(118, 42, 131); fill-opacity: 1;\"/><path class=\"point\" transform=\"translate(724.82,183.5)\" d=\"M3,0A3,3 0 1,1 0,-3A3,3 0 0,1 3,0Z\" style=\"opacity: 1; stroke-width: 0px; fill: rgb(118, 42, 131); fill-opacity: 1;\"/><path class=\"point\" transform=\"translate(724.82,183.5)\" d=\"M3,0A3,3 0 1,1 0,-3A3,3 0 0,1 3,0Z\" style=\"opacity: 1; stroke-width: 0px; fill: rgb(118, 42, 131); fill-opacity: 1;\"/><path class=\"point\" transform=\"translate(724.82,183.5)\" d=\"M3,0A3,3 0 1,1 0,-3A3,3 0 0,1 3,0Z\" style=\"opacity: 1; stroke-width: 0px; fill: rgb(118, 42, 131); fill-opacity: 1;\"/><path class=\"point\" transform=\"translate(739.29,183.5)\" d=\"M3,0A3,3 0 1,1 0,-3A3,3 0 0,1 3,0Z\" style=\"opacity: 1; stroke-width: 0px; fill: rgb(118, 42, 131); fill-opacity: 1;\"/><path class=\"point\" transform=\"translate(739.29,183.5)\" d=\"M3,0A3,3 0 1,1 0,-3A3,3 0 0,1 3,0Z\" style=\"opacity: 1; stroke-width: 0px; fill: rgb(118, 42, 131); fill-opacity: 1;\"/><path class=\"point\" transform=\"translate(739.29,183.5)\" d=\"M3,0A3,3 0 1,1 0,-3A3,3 0 0,1 3,0Z\" style=\"opacity: 1; stroke-width: 0px; fill: rgb(118, 42, 131); fill-opacity: 1;\"/><path class=\"point\" transform=\"translate(739.29,183.5)\" d=\"M3,0A3,3 0 1,1 0,-3A3,3 0 0,1 3,0Z\" style=\"opacity: 1; stroke-width: 0px; fill: rgb(118, 42, 131); fill-opacity: 1;\"/><path class=\"point\" transform=\"translate(739.29,183.5)\" d=\"M3,0A3,3 0 1,1 0,-3A3,3 0 0,1 3,0Z\" style=\"opacity: 1; stroke-width: 0px; fill: rgb(118, 42, 131); fill-opacity: 1;\"/><path class=\"point\" transform=\"translate(739.29,183.5)\" d=\"M3,0A3,3 0 1,1 0,-3A3,3 0 0,1 3,0Z\" style=\"opacity: 1; stroke-width: 0px; fill: rgb(118, 42, 131); fill-opacity: 1;\"/><path class=\"point\" transform=\"translate(753.75,183.5)\" d=\"M3,0A3,3 0 1,1 0,-3A3,3 0 0,1 3,0Z\" style=\"opacity: 1; stroke-width: 0px; fill: rgb(118, 42, 131); fill-opacity: 1;\"/><path class=\"point\" transform=\"translate(753.75,183.5)\" d=\"M3,0A3,3 0 1,1 0,-3A3,3 0 0,1 3,0Z\" style=\"opacity: 1; stroke-width: 0px; fill: rgb(118, 42, 131); fill-opacity: 1;\"/><path class=\"point\" transform=\"translate(753.75,183.5)\" d=\"M3,0A3,3 0 1,1 0,-3A3,3 0 0,1 3,0Z\" style=\"opacity: 1; stroke-width: 0px; fill: rgb(118, 42, 131); fill-opacity: 1;\"/><path class=\"point\" transform=\"translate(768.21,183.5)\" d=\"M3,0A3,3 0 1,1 0,-3A3,3 0 0,1 3,0Z\" style=\"opacity: 1; stroke-width: 0px; fill: rgb(118, 42, 131); fill-opacity: 1;\"/><path class=\"point\" transform=\"translate(768.21,183.5)\" d=\"M3,0A3,3 0 1,1 0,-3A3,3 0 0,1 3,0Z\" style=\"opacity: 1; stroke-width: 0px; fill: rgb(118, 42, 131); fill-opacity: 1;\"/><path class=\"point\" transform=\"translate(768.21,183.5)\" d=\"M3,0A3,3 0 1,1 0,-3A3,3 0 0,1 3,0Z\" style=\"opacity: 1; stroke-width: 0px; fill: rgb(118, 42, 131); fill-opacity: 1;\"/><path class=\"point\" transform=\"translate(768.21,183.5)\" d=\"M3,0A3,3 0 1,1 0,-3A3,3 0 0,1 3,0Z\" style=\"opacity: 1; stroke-width: 0px; fill: rgb(118, 42, 131); fill-opacity: 1;\"/><path class=\"point\" transform=\"translate(768.21,183.5)\" d=\"M3,0A3,3 0 1,1 0,-3A3,3 0 0,1 3,0Z\" style=\"opacity: 1; stroke-width: 0px; fill: rgb(118, 42, 131); fill-opacity: 1;\"/><path class=\"point\" transform=\"translate(768.21,183.5)\" d=\"M3,0A3,3 0 1,1 0,-3A3,3 0 0,1 3,0Z\" style=\"opacity: 1; stroke-width: 0px; fill: rgb(118, 42, 131); fill-opacity: 1;\"/><path class=\"point\" transform=\"translate(782.68,183.5)\" d=\"M3,0A3,3 0 1,1 0,-3A3,3 0 0,1 3,0Z\" style=\"opacity: 1; stroke-width: 0px; fill: rgb(118, 42, 131); fill-opacity: 1;\"/><path class=\"point\" transform=\"translate(811.61,183.5)\" d=\"M3,0A3,3 0 1,1 0,-3A3,3 0 0,1 3,0Z\" style=\"opacity: 1; stroke-width: 0px; fill: rgb(118, 42, 131); fill-opacity: 1;\"/><path class=\"point\" transform=\"translate(811.61,183.5)\" d=\"M3,0A3,3 0 1,1 0,-3A3,3 0 0,1 3,0Z\" style=\"opacity: 1; stroke-width: 0px; fill: rgb(118, 42, 131); fill-opacity: 1;\"/><path class=\"point\" transform=\"translate(811.61,183.5)\" d=\"M3,0A3,3 0 1,1 0,-3A3,3 0 0,1 3,0Z\" style=\"opacity: 1; stroke-width: 0px; fill: rgb(118, 42, 131); fill-opacity: 1;\"/><path class=\"point\" transform=\"translate(855,183.5)\" d=\"M3,0A3,3 0 1,1 0,-3A3,3 0 0,1 3,0Z\" style=\"opacity: 1; stroke-width: 0px; fill: rgb(118, 42, 131); fill-opacity: 1;\"/></g></g></g></g><g class=\"overplot\"/><path class=\"xlines-above crisp\" d=\"M0,0\" style=\"fill: none;\"/><path class=\"ylines-above crisp\" d=\"M0,0\" style=\"fill: none;\"/><g class=\"overlines-above\"/><g class=\"xaxislayer-above\"><g class=\"xtick\"><text text-anchor=\"middle\" x=\"0\" y=\"460\" transform=\"translate(66.07,0)\" style=\"font-family: 'Open Sans', verdana, arial, sans-serif; font-size: 12px; fill: rgb(42, 63, 95); fill-opacity: 1; white-space: pre; opacity: 1;\">10</text></g><g class=\"xtick\"><text text-anchor=\"middle\" x=\"0\" y=\"460\" style=\"font-family: 'Open Sans', verdana, arial, sans-serif; font-size: 12px; fill: rgb(42, 63, 95); fill-opacity: 1; white-space: pre; opacity: 1;\" transform=\"translate(210.71,0)\">20</text></g><g class=\"xtick\"><text text-anchor=\"middle\" x=\"0\" y=\"460\" style=\"font-family: 'Open Sans', verdana, arial, sans-serif; font-size: 12px; fill: rgb(42, 63, 95); fill-opacity: 1; white-space: pre; opacity: 1;\" transform=\"translate(355.36,0)\">30</text></g><g class=\"xtick\"><text text-anchor=\"middle\" x=\"0\" y=\"460\" style=\"font-family: 'Open Sans', verdana, arial, sans-serif; font-size: 12px; fill: rgb(42, 63, 95); fill-opacity: 1; white-space: pre; opacity: 1;\" transform=\"translate(500,0)\">40</text></g><g class=\"xtick\"><text text-anchor=\"middle\" x=\"0\" y=\"460\" style=\"font-family: 'Open Sans', verdana, arial, sans-serif; font-size: 12px; fill: rgb(42, 63, 95); fill-opacity: 1; white-space: pre; opacity: 1;\" transform=\"translate(644.64,0)\">50</text></g><g class=\"xtick\"><text text-anchor=\"middle\" x=\"0\" y=\"460\" style=\"font-family: 'Open Sans', verdana, arial, sans-serif; font-size: 12px; fill: rgb(42, 63, 95); fill-opacity: 1; white-space: pre; opacity: 1;\" transform=\"translate(789.29,0)\">60</text></g><g class=\"xtick\"><text text-anchor=\"middle\" x=\"0\" y=\"460\" style=\"font-family: 'Open Sans', verdana, arial, sans-serif; font-size: 12px; fill: rgb(42, 63, 95); fill-opacity: 1; white-space: pre; opacity: 1;\" transform=\"translate(933.93,0)\">70</text></g></g><g class=\"yaxislayer-above\"><g class=\"ytick\"><text text-anchor=\"end\" x=\"49\" y=\"4.199999999999999\" transform=\"translate(0,263.5)\" style=\"font-family: 'Open Sans', verdana, arial, sans-serif; font-size: 12px; fill: rgb(42, 63, 95); fill-opacity: 1; white-space: pre; opacity: 1;\">trace 0</text></g></g><g class=\"overaxes-above\"/></g></g><g class=\"polarlayer\"/><g class=\"smithlayer\"/><g class=\"ternarylayer\"/><g class=\"geolayer\"/><g class=\"funnelarealayer\"/><g class=\"pielayer\"/><g class=\"iciclelayer\"/><g class=\"treemaplayer\"/><g class=\"sunburstlayer\"/><g class=\"glimages\"/><defs id=\"topdefs-4d8fd3\"><g class=\"clips\"/></defs><g class=\"layer-above\"><g class=\"imagelayer\"/><g class=\"shapelayer\"/></g><g class=\"infolayer\"><g class=\"g-gtitle\"><text class=\"gtitle\" x=\"100\" y=\"25\" text-anchor=\"middle\" dy=\"0.7em\" style=\"font-family: 'Times New Roman'; font-size: 26px; fill: rgb(0, 0, 0); opacity: 1; font-weight: normal; white-space: pre;\">Boxplot of Age</text></g><g class=\"g-xtitle\"><text class=\"xtitle\" x=\"500\" y=\"487.3\" text-anchor=\"middle\" style=\"font-family: 'Open Sans', verdana, arial, sans-serif; font-size: 14px; fill: rgb(42, 63, 95); opacity: 1; font-weight: normal; white-space: pre;\">Age</text></g><g class=\"g-ytitle\"/></g></svg>"
      ]
     },
     "metadata": {},
     "output_type": "display_data"
    }
   ],
   "source": [
    "fig = go.Figure(data=[go.Box(\n",
    "    x=df['age'],\n",
    "    marker=dict(color=palette[1])\n",
    ")])\n",
    "\n",
    "fig.update_layout(\n",
    "    title_text=\"Boxplot of Age\",\n",
    "    title_font_size=24,\n",
    "    title_font_family=\"Times New Roman\",\n",
    "    title_font_color=\"#000000\",  \n",
    "    paper_bgcolor='#ffffff',  \n",
    "    plot_bgcolor='#ffffff',  \n",
    "    xaxis=dict(title=\"Age\"),\n",
    ")\n",
    "\n",
    "fig.update_layout(\n",
    "    title={\n",
    "        'y':0.95,\n",
    "        'x':0.10,\n",
    "        'xanchor': 'center',\n",
    "        'yanchor': 'top'},\n",
    "    title_font_size=26,\n",
    "    margin=dict(l=50, r=50, t=80, b=50)\n",
    ")\n",
    "\n",
    "\n",
    "\n",
    "fig.update_layout(width=1000)\n",
    "\n",
    "fig.show('svg')"
   ]
  },
  {
   "cell_type": "markdown",
   "id": "2f647d7a",
   "metadata": {
    "papermill": {
     "duration": 0.012755,
     "end_time": "2024-05-28T07:07:24.233162",
     "exception": false,
     "start_time": "2024-05-28T07:07:24.220407",
     "status": "completed"
    },
    "tags": []
   },
   "source": [
    "*Some outliers are present after 54*"
   ]
  },
  {
   "cell_type": "markdown",
   "id": "65a9a0ef",
   "metadata": {
    "papermill": {
     "duration": 0.013752,
     "end_time": "2024-05-28T07:07:24.259879",
     "exception": false,
     "start_time": "2024-05-28T07:07:24.246127",
     "status": "completed"
    },
    "tags": []
   },
   "source": [
    "----------------------------------------------------------------------------------------------------------------------------------------------------------"
   ]
  },
  {
   "cell_type": "markdown",
   "id": "a0971fc2",
   "metadata": {
    "papermill": {
     "duration": 0.012647,
     "end_time": "2024-05-28T07:07:24.285735",
     "exception": false,
     "start_time": "2024-05-28T07:07:24.273088",
     "status": "completed"
    },
    "tags": []
   },
   "source": [
    "## wtkg : Weight (in Kgs)\n",
    "\n",
    "***Conclusions***\n",
    "- *Most of the outliers are present beyond the weight of 100kg*\n",
    "\n",
    "- *The distribution is slightly positively skewewd*\n",
    "\n",
    "- \"No missing values\"\n",
    "\n",
    "***Hypothesis***\n",
    "\n",
    "- *As most of the outliers in the Age column are present beyond the age of 60, hence maybe most of the people belonging to that age group are over 100 kg*"
   ]
  },
  {
   "cell_type": "code",
   "execution_count": 11,
   "id": "0b063cd4",
   "metadata": {
    "execution": {
     "iopub.execute_input": "2024-05-28T07:07:24.313026Z",
     "iopub.status.busy": "2024-05-28T07:07:24.312643Z",
     "iopub.status.idle": "2024-05-28T07:07:24.324092Z",
     "shell.execute_reply": "2024-05-28T07:07:24.322912Z"
    },
    "papermill": {
     "duration": 0.028009,
     "end_time": "2024-05-28T07:07:24.326533",
     "exception": false,
     "start_time": "2024-05-28T07:07:24.298524",
     "status": "completed"
    },
    "tags": []
   },
   "outputs": [
    {
     "data": {
      "text/plain": [
       "count    15000.000000\n",
       "mean        76.019604\n",
       "std         12.170759\n",
       "min         42.256390\n",
       "25%         68.323125\n",
       "50%         74.114225\n",
       "75%         81.309035\n",
       "max        141.612390\n",
       "Name: wtkg, dtype: float64"
      ]
     },
     "execution_count": 11,
     "metadata": {},
     "output_type": "execute_result"
    }
   ],
   "source": [
    "df['wtkg'].describe()"
   ]
  },
  {
   "cell_type": "code",
   "execution_count": 12,
   "id": "77788014",
   "metadata": {
    "execution": {
     "iopub.execute_input": "2024-05-28T07:07:24.354566Z",
     "iopub.status.busy": "2024-05-28T07:07:24.354193Z",
     "iopub.status.idle": "2024-05-28T07:07:24.524530Z",
     "shell.execute_reply": "2024-05-28T07:07:24.523348Z"
    },
    "papermill": {
     "duration": 0.187063,
     "end_time": "2024-05-28T07:07:24.526997",
     "exception": false,
     "start_time": "2024-05-28T07:07:24.339934",
     "status": "completed"
    },
    "tags": []
   },
   "outputs": [
    {
     "data": {
      "image/svg+xml": [
       "<svg class=\"main-svg\" xmlns=\"http://www.w3.org/2000/svg\" xmlns:xlink=\"http://www.w3.org/1999/xlink\" width=\"1000\" height=\"500\" style=\"\" viewBox=\"0 0 1000 500\"><rect x=\"0\" y=\"0\" width=\"1000\" height=\"500\" style=\"fill: rgb(255, 255, 255); fill-opacity: 1;\"/><defs id=\"defs-3df1df\"><g class=\"clips\"><clipPath id=\"clip3df1dfxyplot\" class=\"plotclip\"><rect width=\"885\" height=\"367\"/></clipPath><clipPath class=\"axesclip\" id=\"clip3df1dfx\"><rect x=\"65\" y=\"0\" width=\"885\" height=\"500\"/></clipPath><clipPath class=\"axesclip\" id=\"clip3df1dfy\"><rect x=\"0\" y=\"80\" width=\"1000\" height=\"367\"/></clipPath><clipPath class=\"axesclip\" id=\"clip3df1dfxy\"><rect x=\"65\" y=\"80\" width=\"885\" height=\"367\"/></clipPath></g><g class=\"gradients\"/><g class=\"patterns\"/></defs><g class=\"bglayer\"/><g class=\"layer-below\"><g class=\"imagelayer\"/><g class=\"shapelayer\"/></g><g class=\"cartesianlayer\"><g class=\"subplot xy\"><g class=\"layer-subplot\"><g class=\"shapelayer\"/><g class=\"imagelayer\"/></g><g class=\"minor-gridlayer\"><g class=\"x\"/><g class=\"y\"/></g><g class=\"gridlayer\"><g class=\"x\"/><g class=\"y\"><path class=\"ygrid crisp\" transform=\"translate(0,388.57)\" d=\"M65,0h885\" style=\"stroke: rgb(255, 255, 255); stroke-opacity: 1; stroke-width: 1px;\"/><path class=\"ygrid crisp\" transform=\"translate(0,330.14)\" d=\"M65,0h885\" style=\"stroke: rgb(255, 255, 255); stroke-opacity: 1; stroke-width: 1px;\"/><path class=\"ygrid crisp\" transform=\"translate(0,271.71000000000004)\" d=\"M65,0h885\" style=\"stroke: rgb(255, 255, 255); stroke-opacity: 1; stroke-width: 1px;\"/><path class=\"ygrid crisp\" transform=\"translate(0,213.28)\" d=\"M65,0h885\" style=\"stroke: rgb(255, 255, 255); stroke-opacity: 1; stroke-width: 1px;\"/><path class=\"ygrid crisp\" transform=\"translate(0,154.85)\" d=\"M65,0h885\" style=\"stroke: rgb(255, 255, 255); stroke-opacity: 1; stroke-width: 1px;\"/><path class=\"ygrid crisp\" transform=\"translate(0,96.42)\" d=\"M65,0h885\" style=\"stroke: rgb(255, 255, 255); stroke-opacity: 1; stroke-width: 1px;\"/></g></g><g class=\"zerolinelayer\"><path class=\"yzl zl crisp\" transform=\"translate(0,447)\" d=\"M65,0h885\" style=\"stroke: rgb(255, 255, 255); stroke-opacity: 1; stroke-width: 2px;\"/></g><path class=\"xlines-below\"/><path class=\"ylines-below\"/><g class=\"overlines-below\"/><g class=\"xaxislayer-below\"/><g class=\"yaxislayer-below\"/><g class=\"overaxes-below\"/><g class=\"plot\" transform=\"translate(65,80)\" clip-path=\"url(#clip3df1dfxyplot)\"><g class=\"barlayer mlayer\"><g class=\"trace bars\" shape-rendering=\"crispEdges\" style=\"opacity: 1;\"><g class=\"points\"><g class=\"point\"><path d=\"M0,367V365.31H80.45V367Z\" style=\"vector-effect: none; opacity: 1; stroke-width: 0px; fill: rgb(214, 96, 77); fill-opacity: 1;\"/></g><g class=\"point\"><path d=\"M80.45,367V324H160.91V367Z\" style=\"vector-effect: none; opacity: 1; stroke-width: 0px; fill: rgb(214, 96, 77); fill-opacity: 1;\"/></g><g class=\"point\"><path d=\"M160.91,367V134.74H241.36V367Z\" style=\"vector-effect: none; opacity: 1; stroke-width: 0px; fill: rgb(214, 96, 77); fill-opacity: 1;\"/></g><g class=\"point\"><path d=\"M241.36,367V18.35H321.82V367Z\" style=\"vector-effect: none; opacity: 1; stroke-width: 0px; fill: rgb(214, 96, 77); fill-opacity: 1;\"/></g><g class=\"point\"><path d=\"M321.82,367V213.51H402.27V367Z\" style=\"vector-effect: none; opacity: 1; stroke-width: 0px; fill: rgb(214, 96, 77); fill-opacity: 1;\"/></g><g class=\"point\"><path d=\"M402.27,367V312.25H482.73V367Z\" style=\"vector-effect: none; opacity: 1; stroke-width: 0px; fill: rgb(214, 96, 77); fill-opacity: 1;\"/></g><g class=\"point\"><path d=\"M482.73,367V343.34H563.18V367Z\" style=\"vector-effect: none; opacity: 1; stroke-width: 0px; fill: rgb(214, 96, 77); fill-opacity: 1;\"/></g><g class=\"point\"><path d=\"M563.18,367V354.15H643.64V367Z\" style=\"vector-effect: none; opacity: 1; stroke-width: 0px; fill: rgb(214, 96, 77); fill-opacity: 1;\"/></g><g class=\"point\"><path d=\"M643.64,367V361.98H724.09V367Z\" style=\"vector-effect: none; opacity: 1; stroke-width: 0px; fill: rgb(214, 96, 77); fill-opacity: 1;\"/></g><g class=\"point\"><path d=\"M724.09,367V366.07H804.55V367Z\" style=\"vector-effect: none; opacity: 1; stroke-width: 0px; fill: rgb(214, 96, 77); fill-opacity: 1;\"/></g><g class=\"point\"><path d=\"M804.55,367V366.88H885V367Z\" style=\"vector-effect: none; opacity: 1; stroke-width: 0px; fill: rgb(214, 96, 77); fill-opacity: 1;\"/></g></g></g></g></g><g class=\"overplot\"/><path class=\"xlines-above crisp\" d=\"M0,0\" style=\"fill: none;\"/><path class=\"ylines-above crisp\" d=\"M0,0\" style=\"fill: none;\"/><g class=\"overlines-above\"/><g class=\"xaxislayer-above\"><g class=\"xtick\"><text text-anchor=\"middle\" x=\"0\" y=\"460\" transform=\"translate(65,0)\" style=\"font-family: 'Open Sans', verdana, arial, sans-serif; font-size: 12px; fill: rgb(42, 63, 95); fill-opacity: 1; white-space: pre; opacity: 1;\">40</text></g><g class=\"xtick\"><text text-anchor=\"middle\" x=\"0\" y=\"460\" style=\"font-family: 'Open Sans', verdana, arial, sans-serif; font-size: 12px; fill: rgb(42, 63, 95); fill-opacity: 1; white-space: pre; opacity: 1;\" transform=\"translate(225.91,0)\">60</text></g><g class=\"xtick\"><text text-anchor=\"middle\" x=\"0\" y=\"460\" style=\"font-family: 'Open Sans', verdana, arial, sans-serif; font-size: 12px; fill: rgb(42, 63, 95); fill-opacity: 1; white-space: pre; opacity: 1;\" transform=\"translate(386.82,0)\">80</text></g><g class=\"xtick\"><text text-anchor=\"middle\" x=\"0\" y=\"460\" style=\"font-family: 'Open Sans', verdana, arial, sans-serif; font-size: 12px; fill: rgb(42, 63, 95); fill-opacity: 1; white-space: pre; opacity: 1;\" transform=\"translate(547.73,0)\">100</text></g><g class=\"xtick\"><text text-anchor=\"middle\" x=\"0\" y=\"460\" style=\"font-family: 'Open Sans', verdana, arial, sans-serif; font-size: 12px; fill: rgb(42, 63, 95); fill-opacity: 1; white-space: pre; opacity: 1;\" transform=\"translate(708.64,0)\">120</text></g><g class=\"xtick\"><text text-anchor=\"middle\" x=\"0\" y=\"460\" style=\"font-family: 'Open Sans', verdana, arial, sans-serif; font-size: 12px; fill: rgb(42, 63, 95); fill-opacity: 1; white-space: pre; opacity: 1;\" transform=\"translate(869.55,0)\">140</text></g></g><g class=\"yaxislayer-above\"><g class=\"ytick\"><text text-anchor=\"end\" x=\"64\" y=\"4.199999999999999\" transform=\"translate(0,447)\" style=\"font-family: 'Open Sans', verdana, arial, sans-serif; font-size: 12px; fill: rgb(42, 63, 95); fill-opacity: 1; white-space: pre; opacity: 1;\">0</text></g><g class=\"ytick\"><text text-anchor=\"end\" x=\"64\" y=\"4.199999999999999\" style=\"font-family: 'Open Sans', verdana, arial, sans-serif; font-size: 12px; fill: rgb(42, 63, 95); fill-opacity: 1; white-space: pre; opacity: 1;\" transform=\"translate(0,388.57)\">1000</text></g><g class=\"ytick\"><text text-anchor=\"end\" x=\"64\" y=\"4.199999999999999\" style=\"font-family: 'Open Sans', verdana, arial, sans-serif; font-size: 12px; fill: rgb(42, 63, 95); fill-opacity: 1; white-space: pre; opacity: 1;\" transform=\"translate(0,330.14)\">2000</text></g><g class=\"ytick\"><text text-anchor=\"end\" x=\"64\" y=\"4.199999999999999\" style=\"font-family: 'Open Sans', verdana, arial, sans-serif; font-size: 12px; fill: rgb(42, 63, 95); fill-opacity: 1; white-space: pre; opacity: 1;\" transform=\"translate(0,271.71000000000004)\">3000</text></g><g class=\"ytick\"><text text-anchor=\"end\" x=\"64\" y=\"4.199999999999999\" style=\"font-family: 'Open Sans', verdana, arial, sans-serif; font-size: 12px; fill: rgb(42, 63, 95); fill-opacity: 1; white-space: pre; opacity: 1;\" transform=\"translate(0,213.28)\">4000</text></g><g class=\"ytick\"><text text-anchor=\"end\" x=\"64\" y=\"4.199999999999999\" style=\"font-family: 'Open Sans', verdana, arial, sans-serif; font-size: 12px; fill: rgb(42, 63, 95); fill-opacity: 1; white-space: pre; opacity: 1;\" transform=\"translate(0,154.85)\">5000</text></g><g class=\"ytick\"><text text-anchor=\"end\" x=\"64\" y=\"4.199999999999999\" style=\"font-family: 'Open Sans', verdana, arial, sans-serif; font-size: 12px; fill: rgb(42, 63, 95); fill-opacity: 1; white-space: pre; opacity: 1;\" transform=\"translate(0,96.42)\">6000</text></g></g><g class=\"overaxes-above\"/></g></g><g class=\"polarlayer\"/><g class=\"smithlayer\"/><g class=\"ternarylayer\"/><g class=\"geolayer\"/><g class=\"funnelarealayer\"/><g class=\"pielayer\"/><g class=\"iciclelayer\"/><g class=\"treemaplayer\"/><g class=\"sunburstlayer\"/><g class=\"glimages\"/><defs id=\"topdefs-3df1df\"><g class=\"clips\"/></defs><g class=\"layer-above\"><g class=\"imagelayer\"/><g class=\"shapelayer\"/></g><g class=\"infolayer\"><g class=\"g-gtitle\"><text class=\"gtitle\" x=\"150\" y=\"25\" text-anchor=\"middle\" dy=\"0.7em\" style=\"font-family: 'Times New Roman'; font-size: 26px; fill: rgb(0, 0, 0); opacity: 1; font-weight: normal; white-space: pre;\">Weight Distribution</text></g><g class=\"g-xtitle\"><text class=\"xtitle\" x=\"507.5\" y=\"487.3\" text-anchor=\"middle\" style=\"font-family: 'Open Sans', verdana, arial, sans-serif; font-size: 14px; fill: rgb(42, 63, 95); opacity: 1; font-weight: normal; white-space: pre;\">Age</text></g><g class=\"g-ytitle\" transform=\"translate(0.0029296875,0)\"><text class=\"ytitle\" transform=\"rotate(-90,12.996875000000003,263.5)\" x=\"12.996875000000003\" y=\"263.5\" text-anchor=\"middle\" style=\"font-family: 'Open Sans', verdana, arial, sans-serif; font-size: 14px; fill: rgb(42, 63, 95); opacity: 1; font-weight: normal; white-space: pre;\">Frequency</text></g></g></svg>"
      ]
     },
     "metadata": {},
     "output_type": "display_data"
    }
   ],
   "source": [
    "palette = cl.to_rgb(cl.scales['10']['div']['RdGy'])\n",
    "\n",
    "# Create the histogram\n",
    "fig = go.Figure(data=[go.Histogram(\n",
    "    x=df['wtkg'],\n",
    "    marker=dict(color=palette[2]),  # Choose the first color from the palette\n",
    "    nbinsx=10\n",
    ")])\n",
    "\n",
    "# Update layout for better appearance\n",
    "fig.update_layout(\n",
    "    title_text=\"Weight Distribution\",\n",
    "    title_font_size=24,\n",
    "    title_font_family=\"Times New Roman\",\n",
    "    title_font_color=\"#000000\",  # Adjust title font color for better visibility\n",
    "    paper_bgcolor='#ffffff',  # Set the background color to a warm white shade (#faf0e6)\n",
    "    plot_bgcolor='#ffffff',  # Make sure the plot area also has a consistent background\n",
    "    xaxis=dict(title=\"Age\"),\n",
    "    yaxis=dict(title=\"Frequency\"),\n",
    ")\n",
    "\n",
    "# Adding a more vibrant title and better spacing\n",
    "fig.update_layout(\n",
    "    title={\n",
    "        'text': \"Weight Distribution\",\n",
    "        'y':0.95,\n",
    "        'x':0.15,\n",
    "        'xanchor': 'center',\n",
    "        'yanchor': 'top'},\n",
    "    title_font_size=26,\n",
    "    margin=dict(l=50, r=50, t=80, b=50)\n",
    ")\n",
    "\n",
    "fig.update_layout(width=1000)\n",
    "\n",
    "# Show the pie chart\n",
    "fig.show('svg')"
   ]
  },
  {
   "cell_type": "markdown",
   "id": "b8ba17e5",
   "metadata": {
    "papermill": {
     "duration": 0.01306,
     "end_time": "2024-05-28T07:07:24.553592",
     "exception": false,
     "start_time": "2024-05-28T07:07:24.540532",
     "status": "completed"
    },
    "tags": []
   },
   "source": [
    "*Almost normally distributed. Slightly positively skewed*"
   ]
  },
  {
   "cell_type": "code",
   "execution_count": 13,
   "id": "9323233a",
   "metadata": {
    "execution": {
     "iopub.execute_input": "2024-05-28T07:07:24.581616Z",
     "iopub.status.busy": "2024-05-28T07:07:24.581217Z",
     "iopub.status.idle": "2024-05-28T07:07:24.589542Z",
     "shell.execute_reply": "2024-05-28T07:07:24.588348Z"
    },
    "papermill": {
     "duration": 0.025583,
     "end_time": "2024-05-28T07:07:24.592197",
     "exception": false,
     "start_time": "2024-05-28T07:07:24.566614",
     "status": "completed"
    },
    "tags": []
   },
   "outputs": [
    {
     "data": {
      "text/plain": [
       "1.1910895370485162"
      ]
     },
     "execution_count": 13,
     "metadata": {},
     "output_type": "execute_result"
    }
   ],
   "source": [
    "df['wtkg'].skew()"
   ]
  },
  {
   "cell_type": "markdown",
   "id": "c76b5991",
   "metadata": {
    "papermill": {
     "duration": 0.013142,
     "end_time": "2024-05-28T07:07:24.681676",
     "exception": false,
     "start_time": "2024-05-28T07:07:24.668534",
     "status": "completed"
    },
    "tags": []
   },
   "source": [
    "*Close to 1*"
   ]
  },
  {
   "cell_type": "code",
   "execution_count": 14,
   "id": "f08208c5",
   "metadata": {
    "execution": {
     "iopub.execute_input": "2024-05-28T07:07:24.710417Z",
     "iopub.status.busy": "2024-05-28T07:07:24.709682Z",
     "iopub.status.idle": "2024-05-28T07:07:24.989264Z",
     "shell.execute_reply": "2024-05-28T07:07:24.987909Z"
    },
    "papermill": {
     "duration": 0.298079,
     "end_time": "2024-05-28T07:07:24.992864",
     "exception": false,
     "start_time": "2024-05-28T07:07:24.694785",
     "status": "completed"
    },
    "tags": []
   },
   "outputs": [
    {
     "data": {
      "image/svg+xml": [
       "<svg class=\"main-svg\" xmlns=\"http://www.w3.org/2000/svg\" xmlns:xlink=\"http://www.w3.org/1999/xlink\" width=\"1000\" height=\"500\" style=\"\" viewBox=\"0 0 1000 500\"><rect x=\"0\" y=\"0\" width=\"1000\" height=\"500\" style=\"fill: rgb(255, 255, 255); fill-opacity: 1;\"/><defs id=\"defs-3fac8b\"><g class=\"clips\"><clipPath id=\"clip3fac8bxyplot\" class=\"plotclip\"><rect width=\"900\" height=\"367\"/></clipPath><clipPath class=\"axesclip\" id=\"clip3fac8bx\"><rect x=\"50\" y=\"0\" width=\"900\" height=\"500\"/></clipPath><clipPath class=\"axesclip\" id=\"clip3fac8by\"><rect x=\"0\" y=\"80\" width=\"1000\" height=\"367\"/></clipPath><clipPath class=\"axesclip\" id=\"clip3fac8bxy\"><rect x=\"50\" y=\"80\" width=\"900\" height=\"367\"/></clipPath></g><g class=\"gradients\"/><g class=\"patterns\"/></defs><g class=\"bglayer\"/><g class=\"layer-below\"><g class=\"imagelayer\"/><g class=\"shapelayer\"/></g><g class=\"cartesianlayer\"><g class=\"subplot xy\"><g class=\"layer-subplot\"><g class=\"shapelayer\"/><g class=\"imagelayer\"/></g><g class=\"minor-gridlayer\"><g class=\"x\"/><g class=\"y\"/></g><g class=\"gridlayer\"><g class=\"x\"><path class=\"xgrid crisp\" transform=\"translate(76.6,0)\" d=\"M0,80v367\" style=\"stroke: rgb(255, 255, 255); stroke-opacity: 1; stroke-width: 1px;\"/><path class=\"xgrid crisp\" transform=\"translate(239.65,0)\" d=\"M0,80v367\" style=\"stroke: rgb(255, 255, 255); stroke-opacity: 1; stroke-width: 1px;\"/><path class=\"xgrid crisp\" transform=\"translate(402.7,0)\" d=\"M0,80v367\" style=\"stroke: rgb(255, 255, 255); stroke-opacity: 1; stroke-width: 1px;\"/><path class=\"xgrid crisp\" transform=\"translate(565.75,0)\" d=\"M0,80v367\" style=\"stroke: rgb(255, 255, 255); stroke-opacity: 1; stroke-width: 1px;\"/><path class=\"xgrid crisp\" transform=\"translate(728.8,0)\" d=\"M0,80v367\" style=\"stroke: rgb(255, 255, 255); stroke-opacity: 1; stroke-width: 1px;\"/><path class=\"xgrid crisp\" transform=\"translate(891.85,0)\" d=\"M0,80v367\" style=\"stroke: rgb(255, 255, 255); stroke-opacity: 1; stroke-width: 1px;\"/></g><g class=\"y\"/></g><g class=\"zerolinelayer\"/><path class=\"xlines-below\"/><path class=\"ylines-below\"/><g class=\"overlines-below\"/><g class=\"xaxislayer-below\"/><g class=\"yaxislayer-below\"/><g class=\"overaxes-below\"/><g class=\"plot\" transform=\"translate(50,80)\" clip-path=\"url(#clip3fac8bxyplot)\"><g class=\"boxlayer mlayer\"><g class=\"trace boxes\" style=\"opacity: 1;\"><path class=\"box\" d=\"M304.72,273.41V93.59M257.5,273.41V93.59H363.38V273.41ZM257.5,183.5H98.71M363.38,183.5H522.18M98.71,228.46V138.54M522.18,228.46V138.54\" style=\"vector-effect: none; stroke-width: 2px; stroke: rgb(178, 24, 43); stroke-opacity: 1; fill: rgb(178, 24, 43); fill-opacity: 0.5;\"/><g class=\"points\"><path class=\"point\" transform=\"translate(45,183.5)\" d=\"M3,0A3,3 0 1,1 0,-3A3,3 0 0,1 3,0Z\" style=\"opacity: 1; stroke-width: 0px; fill: rgb(178, 24, 43); fill-opacity: 1;\"/><path class=\"point\" transform=\"translate(47.13,183.5)\" d=\"M3,0A3,3 0 1,1 0,-3A3,3 0 0,1 3,0Z\" style=\"opacity: 1; stroke-width: 0px; fill: rgb(178, 24, 43); fill-opacity: 1;\"/><path class=\"point\" transform=\"translate(58.94,183.5)\" d=\"M3,0A3,3 0 1,1 0,-3A3,3 0 0,1 3,0Z\" style=\"opacity: 1; stroke-width: 0px; fill: rgb(178, 24, 43); fill-opacity: 1;\"/><path class=\"point\" transform=\"translate(62.28,183.5)\" d=\"M3,0A3,3 0 1,1 0,-3A3,3 0 0,1 3,0Z\" style=\"opacity: 1; stroke-width: 0px; fill: rgb(178, 24, 43); fill-opacity: 1;\"/><path class=\"point\" transform=\"translate(63.74,183.5)\" d=\"M3,0A3,3 0 1,1 0,-3A3,3 0 0,1 3,0Z\" style=\"opacity: 1; stroke-width: 0px; fill: rgb(178, 24, 43); fill-opacity: 1;\"/><path class=\"point\" transform=\"translate(68.37,183.5)\" d=\"M3,0A3,3 0 1,1 0,-3A3,3 0 0,1 3,0Z\" style=\"opacity: 1; stroke-width: 0px; fill: rgb(178, 24, 43); fill-opacity: 1;\"/><path class=\"point\" transform=\"translate(76.27,183.5)\" d=\"M3,0A3,3 0 1,1 0,-3A3,3 0 0,1 3,0Z\" style=\"opacity: 1; stroke-width: 0px; fill: rgb(178, 24, 43); fill-opacity: 1;\"/><path class=\"point\" transform=\"translate(79.24,183.5)\" d=\"M3,0A3,3 0 1,1 0,-3A3,3 0 0,1 3,0Z\" style=\"opacity: 1; stroke-width: 0px; fill: rgb(178, 24, 43); fill-opacity: 1;\"/><path class=\"point\" transform=\"translate(82.56,183.5)\" d=\"M3,0A3,3 0 1,1 0,-3A3,3 0 0,1 3,0Z\" style=\"opacity: 1; stroke-width: 0px; fill: rgb(178, 24, 43); fill-opacity: 1;\"/><path class=\"point\" transform=\"translate(86.66,183.5)\" d=\"M3,0A3,3 0 1,1 0,-3A3,3 0 0,1 3,0Z\" style=\"opacity: 1; stroke-width: 0px; fill: rgb(178, 24, 43); fill-opacity: 1;\"/><path class=\"point\" transform=\"translate(87.32,183.5)\" d=\"M3,0A3,3 0 1,1 0,-3A3,3 0 0,1 3,0Z\" style=\"opacity: 1; stroke-width: 0px; fill: rgb(178, 24, 43); fill-opacity: 1;\"/><path class=\"point\" transform=\"translate(90,183.5)\" d=\"M3,0A3,3 0 1,1 0,-3A3,3 0 0,1 3,0Z\" style=\"opacity: 1; stroke-width: 0px; fill: rgb(178, 24, 43); fill-opacity: 1;\"/><path class=\"point\" transform=\"translate(91,183.5)\" d=\"M3,0A3,3 0 1,1 0,-3A3,3 0 0,1 3,0Z\" style=\"opacity: 1; stroke-width: 0px; fill: rgb(178, 24, 43); fill-opacity: 1;\"/><path class=\"point\" transform=\"translate(93.41,183.5)\" d=\"M3,0A3,3 0 1,1 0,-3A3,3 0 0,1 3,0Z\" style=\"opacity: 1; stroke-width: 0px; fill: rgb(178, 24, 43); fill-opacity: 1;\"/><path class=\"point\" transform=\"translate(97.33,183.5)\" d=\"M3,0A3,3 0 1,1 0,-3A3,3 0 0,1 3,0Z\" style=\"opacity: 1; stroke-width: 0px; fill: rgb(178, 24, 43); fill-opacity: 1;\"/><path class=\"point\" transform=\"translate(98.12,183.5)\" d=\"M3,0A3,3 0 1,1 0,-3A3,3 0 0,1 3,0Z\" style=\"opacity: 1; stroke-width: 0px; fill: rgb(178, 24, 43); fill-opacity: 1;\"/><path class=\"point\" transform=\"translate(98.31,183.5)\" d=\"M3,0A3,3 0 1,1 0,-3A3,3 0 0,1 3,0Z\" style=\"opacity: 1; stroke-width: 0px; fill: rgb(178, 24, 43); fill-opacity: 1;\"/><path class=\"point\" transform=\"translate(98.5,183.5)\" d=\"M3,0A3,3 0 1,1 0,-3A3,3 0 0,1 3,0Z\" style=\"opacity: 1; stroke-width: 0px; fill: rgb(178, 24, 43); fill-opacity: 1;\"/><path class=\"point\" transform=\"translate(522.3,183.5)\" d=\"M3,0A3,3 0 1,1 0,-3A3,3 0 0,1 3,0Z\" style=\"opacity: 1; stroke-width: 0px; fill: rgb(178, 24, 43); fill-opacity: 1;\"/><path class=\"point\" transform=\"translate(522.34,183.5)\" d=\"M3,0A3,3 0 1,1 0,-3A3,3 0 0,1 3,0Z\" style=\"opacity: 1; stroke-width: 0px; fill: rgb(178, 24, 43); fill-opacity: 1;\"/><path class=\"point\" transform=\"translate(522.57,183.5)\" d=\"M3,0A3,3 0 1,1 0,-3A3,3 0 0,1 3,0Z\" style=\"opacity: 1; stroke-width: 0px; fill: rgb(178, 24, 43); fill-opacity: 1;\"/><path class=\"point\" transform=\"translate(522.82,183.5)\" d=\"M3,0A3,3 0 1,1 0,-3A3,3 0 0,1 3,0Z\" style=\"opacity: 1; stroke-width: 0px; fill: rgb(178, 24, 43); fill-opacity: 1;\"/><path class=\"point\" transform=\"translate(522.87,183.5)\" d=\"M3,0A3,3 0 1,1 0,-3A3,3 0 0,1 3,0Z\" style=\"opacity: 1; stroke-width: 0px; fill: rgb(178, 24, 43); fill-opacity: 1;\"/><path class=\"point\" transform=\"translate(522.9,183.5)\" d=\"M3,0A3,3 0 1,1 0,-3A3,3 0 0,1 3,0Z\" style=\"opacity: 1; stroke-width: 0px; fill: rgb(178, 24, 43); fill-opacity: 1;\"/><path class=\"point\" transform=\"translate(522.99,183.5)\" d=\"M3,0A3,3 0 1,1 0,-3A3,3 0 0,1 3,0Z\" style=\"opacity: 1; stroke-width: 0px; fill: rgb(178, 24, 43); fill-opacity: 1;\"/><path class=\"point\" transform=\"translate(523.33,183.5)\" d=\"M3,0A3,3 0 1,1 0,-3A3,3 0 0,1 3,0Z\" style=\"opacity: 1; stroke-width: 0px; fill: rgb(178, 24, 43); fill-opacity: 1;\"/><path class=\"point\" transform=\"translate(523.65,183.5)\" d=\"M3,0A3,3 0 1,1 0,-3A3,3 0 0,1 3,0Z\" style=\"opacity: 1; stroke-width: 0px; fill: rgb(178, 24, 43); fill-opacity: 1;\"/><path class=\"point\" transform=\"translate(524.35,183.5)\" d=\"M3,0A3,3 0 1,1 0,-3A3,3 0 0,1 3,0Z\" style=\"opacity: 1; stroke-width: 0px; fill: rgb(178, 24, 43); fill-opacity: 1;\"/><path class=\"point\" transform=\"translate(524.65,183.5)\" d=\"M3,0A3,3 0 1,1 0,-3A3,3 0 0,1 3,0Z\" style=\"opacity: 1; stroke-width: 0px; fill: rgb(178, 24, 43); fill-opacity: 1;\"/><path class=\"point\" transform=\"translate(524.78,183.5)\" d=\"M3,0A3,3 0 1,1 0,-3A3,3 0 0,1 3,0Z\" style=\"opacity: 1; stroke-width: 0px; fill: rgb(178, 24, 43); fill-opacity: 1;\"/><path class=\"point\" transform=\"translate(525.28,183.5)\" d=\"M3,0A3,3 0 1,1 0,-3A3,3 0 0,1 3,0Z\" style=\"opacity: 1; stroke-width: 0px; fill: rgb(178, 24, 43); fill-opacity: 1;\"/><path class=\"point\" transform=\"translate(525.31,183.5)\" d=\"M3,0A3,3 0 1,1 0,-3A3,3 0 0,1 3,0Z\" style=\"opacity: 1; stroke-width: 0px; fill: rgb(178, 24, 43); fill-opacity: 1;\"/><path class=\"point\" transform=\"translate(525.6,183.5)\" d=\"M3,0A3,3 0 1,1 0,-3A3,3 0 0,1 3,0Z\" style=\"opacity: 1; stroke-width: 0px; fill: rgb(178, 24, 43); fill-opacity: 1;\"/><path class=\"point\" transform=\"translate(525.68,183.5)\" d=\"M3,0A3,3 0 1,1 0,-3A3,3 0 0,1 3,0Z\" style=\"opacity: 1; stroke-width: 0px; fill: rgb(178, 24, 43); fill-opacity: 1;\"/><path class=\"point\" transform=\"translate(526.41,183.5)\" d=\"M3,0A3,3 0 1,1 0,-3A3,3 0 0,1 3,0Z\" style=\"opacity: 1; stroke-width: 0px; fill: rgb(178, 24, 43); fill-opacity: 1;\"/><path class=\"point\" transform=\"translate(526.49,183.5)\" d=\"M3,0A3,3 0 1,1 0,-3A3,3 0 0,1 3,0Z\" style=\"opacity: 1; stroke-width: 0px; fill: rgb(178, 24, 43); fill-opacity: 1;\"/><path class=\"point\" transform=\"translate(526.83,183.5)\" d=\"M3,0A3,3 0 1,1 0,-3A3,3 0 0,1 3,0Z\" style=\"opacity: 1; stroke-width: 0px; fill: rgb(178, 24, 43); fill-opacity: 1;\"/><path class=\"point\" transform=\"translate(526.89,183.5)\" d=\"M3,0A3,3 0 1,1 0,-3A3,3 0 0,1 3,0Z\" style=\"opacity: 1; stroke-width: 0px; fill: rgb(178, 24, 43); fill-opacity: 1;\"/><path class=\"point\" transform=\"translate(526.92,183.5)\" d=\"M3,0A3,3 0 1,1 0,-3A3,3 0 0,1 3,0Z\" style=\"opacity: 1; stroke-width: 0px; fill: rgb(178, 24, 43); fill-opacity: 1;\"/><path class=\"point\" transform=\"translate(527.04,183.5)\" d=\"M3,0A3,3 0 1,1 0,-3A3,3 0 0,1 3,0Z\" style=\"opacity: 1; stroke-width: 0px; fill: rgb(178, 24, 43); fill-opacity: 1;\"/><path class=\"point\" transform=\"translate(527.05,183.5)\" d=\"M3,0A3,3 0 1,1 0,-3A3,3 0 0,1 3,0Z\" style=\"opacity: 1; stroke-width: 0px; fill: rgb(178, 24, 43); fill-opacity: 1;\"/><path class=\"point\" transform=\"translate(527.22,183.5)\" d=\"M3,0A3,3 0 1,1 0,-3A3,3 0 0,1 3,0Z\" style=\"opacity: 1; stroke-width: 0px; fill: rgb(178, 24, 43); fill-opacity: 1;\"/><path class=\"point\" transform=\"translate(527.41,183.5)\" d=\"M3,0A3,3 0 1,1 0,-3A3,3 0 0,1 3,0Z\" style=\"opacity: 1; stroke-width: 0px; fill: rgb(178, 24, 43); fill-opacity: 1;\"/><path class=\"point\" transform=\"translate(527.43,183.5)\" d=\"M3,0A3,3 0 1,1 0,-3A3,3 0 0,1 3,0Z\" style=\"opacity: 1; stroke-width: 0px; fill: rgb(178, 24, 43); fill-opacity: 1;\"/><path class=\"point\" transform=\"translate(527.53,183.5)\" d=\"M3,0A3,3 0 1,1 0,-3A3,3 0 0,1 3,0Z\" style=\"opacity: 1; stroke-width: 0px; fill: rgb(178, 24, 43); fill-opacity: 1;\"/><path class=\"point\" transform=\"translate(527.55,183.5)\" d=\"M3,0A3,3 0 1,1 0,-3A3,3 0 0,1 3,0Z\" style=\"opacity: 1; stroke-width: 0px; fill: rgb(178, 24, 43); fill-opacity: 1;\"/><path class=\"point\" transform=\"translate(527.57,183.5)\" d=\"M3,0A3,3 0 1,1 0,-3A3,3 0 0,1 3,0Z\" style=\"opacity: 1; stroke-width: 0px; fill: rgb(178, 24, 43); fill-opacity: 1;\"/><path class=\"point\" transform=\"translate(527.88,183.5)\" d=\"M3,0A3,3 0 1,1 0,-3A3,3 0 0,1 3,0Z\" style=\"opacity: 1; stroke-width: 0px; fill: rgb(178, 24, 43); fill-opacity: 1;\"/><path class=\"point\" transform=\"translate(527.93,183.5)\" d=\"M3,0A3,3 0 1,1 0,-3A3,3 0 0,1 3,0Z\" style=\"opacity: 1; stroke-width: 0px; fill: rgb(178, 24, 43); fill-opacity: 1;\"/><path class=\"point\" transform=\"translate(528.06,183.5)\" d=\"M3,0A3,3 0 1,1 0,-3A3,3 0 0,1 3,0Z\" style=\"opacity: 1; stroke-width: 0px; fill: rgb(178, 24, 43); fill-opacity: 1;\"/><path class=\"point\" transform=\"translate(528.15,183.5)\" d=\"M3,0A3,3 0 1,1 0,-3A3,3 0 0,1 3,0Z\" style=\"opacity: 1; stroke-width: 0px; fill: rgb(178, 24, 43); fill-opacity: 1;\"/><path class=\"point\" transform=\"translate(528.52,183.5)\" d=\"M3,0A3,3 0 1,1 0,-3A3,3 0 0,1 3,0Z\" style=\"opacity: 1; stroke-width: 0px; fill: rgb(178, 24, 43); fill-opacity: 1;\"/><path class=\"point\" transform=\"translate(528.63,183.5)\" d=\"M3,0A3,3 0 1,1 0,-3A3,3 0 0,1 3,0Z\" style=\"opacity: 1; stroke-width: 0px; fill: rgb(178, 24, 43); fill-opacity: 1;\"/><path class=\"point\" transform=\"translate(529.08,183.5)\" d=\"M3,0A3,3 0 1,1 0,-3A3,3 0 0,1 3,0Z\" style=\"opacity: 1; stroke-width: 0px; fill: rgb(178, 24, 43); fill-opacity: 1;\"/><path class=\"point\" transform=\"translate(529.24,183.5)\" d=\"M3,0A3,3 0 1,1 0,-3A3,3 0 0,1 3,0Z\" style=\"opacity: 1; stroke-width: 0px; fill: rgb(178, 24, 43); fill-opacity: 1;\"/><path class=\"point\" transform=\"translate(529.58,183.5)\" d=\"M3,0A3,3 0 1,1 0,-3A3,3 0 0,1 3,0Z\" style=\"opacity: 1; stroke-width: 0px; fill: rgb(178, 24, 43); fill-opacity: 1;\"/><path class=\"point\" transform=\"translate(529.7,183.5)\" d=\"M3,0A3,3 0 1,1 0,-3A3,3 0 0,1 3,0Z\" style=\"opacity: 1; stroke-width: 0px; fill: rgb(178, 24, 43); fill-opacity: 1;\"/><path class=\"point\" transform=\"translate(530.12,183.5)\" d=\"M3,0A3,3 0 1,1 0,-3A3,3 0 0,1 3,0Z\" style=\"opacity: 1; stroke-width: 0px; fill: rgb(178, 24, 43); fill-opacity: 1;\"/><path class=\"point\" transform=\"translate(530.14,183.5)\" d=\"M3,0A3,3 0 1,1 0,-3A3,3 0 0,1 3,0Z\" style=\"opacity: 1; stroke-width: 0px; fill: rgb(178, 24, 43); fill-opacity: 1;\"/><path class=\"point\" transform=\"translate(530.46,183.5)\" d=\"M3,0A3,3 0 1,1 0,-3A3,3 0 0,1 3,0Z\" style=\"opacity: 1; stroke-width: 0px; fill: rgb(178, 24, 43); fill-opacity: 1;\"/><path class=\"point\" transform=\"translate(530.54,183.5)\" d=\"M3,0A3,3 0 1,1 0,-3A3,3 0 0,1 3,0Z\" style=\"opacity: 1; stroke-width: 0px; fill: rgb(178, 24, 43); fill-opacity: 1;\"/><path class=\"point\" transform=\"translate(530.63,183.5)\" d=\"M3,0A3,3 0 1,1 0,-3A3,3 0 0,1 3,0Z\" style=\"opacity: 1; stroke-width: 0px; fill: rgb(178, 24, 43); fill-opacity: 1;\"/><path class=\"point\" transform=\"translate(530.81,183.5)\" d=\"M3,0A3,3 0 1,1 0,-3A3,3 0 0,1 3,0Z\" style=\"opacity: 1; stroke-width: 0px; fill: rgb(178, 24, 43); fill-opacity: 1;\"/><path class=\"point\" transform=\"translate(530.84,183.5)\" d=\"M3,0A3,3 0 1,1 0,-3A3,3 0 0,1 3,0Z\" style=\"opacity: 1; stroke-width: 0px; fill: rgb(178, 24, 43); fill-opacity: 1;\"/><path class=\"point\" transform=\"translate(530.95,183.5)\" d=\"M3,0A3,3 0 1,1 0,-3A3,3 0 0,1 3,0Z\" style=\"opacity: 1; stroke-width: 0px; fill: rgb(178, 24, 43); fill-opacity: 1;\"/><path class=\"point\" transform=\"translate(531,183.5)\" d=\"M3,0A3,3 0 1,1 0,-3A3,3 0 0,1 3,0Z\" style=\"opacity: 1; stroke-width: 0px; fill: rgb(178, 24, 43); fill-opacity: 1;\"/><path class=\"point\" transform=\"translate(531.63,183.5)\" d=\"M3,0A3,3 0 1,1 0,-3A3,3 0 0,1 3,0Z\" style=\"opacity: 1; stroke-width: 0px; fill: rgb(178, 24, 43); fill-opacity: 1;\"/><path class=\"point\" transform=\"translate(531.73,183.5)\" d=\"M3,0A3,3 0 1,1 0,-3A3,3 0 0,1 3,0Z\" style=\"opacity: 1; stroke-width: 0px; fill: rgb(178, 24, 43); fill-opacity: 1;\"/><path class=\"point\" transform=\"translate(531.73,183.5)\" d=\"M3,0A3,3 0 1,1 0,-3A3,3 0 0,1 3,0Z\" style=\"opacity: 1; stroke-width: 0px; fill: rgb(178, 24, 43); fill-opacity: 1;\"/><path class=\"point\" transform=\"translate(531.96,183.5)\" d=\"M3,0A3,3 0 1,1 0,-3A3,3 0 0,1 3,0Z\" style=\"opacity: 1; stroke-width: 0px; fill: rgb(178, 24, 43); fill-opacity: 1;\"/><path class=\"point\" transform=\"translate(531.98,183.5)\" d=\"M3,0A3,3 0 1,1 0,-3A3,3 0 0,1 3,0Z\" style=\"opacity: 1; stroke-width: 0px; fill: rgb(178, 24, 43); fill-opacity: 1;\"/><path class=\"point\" transform=\"translate(532.3,183.5)\" d=\"M3,0A3,3 0 1,1 0,-3A3,3 0 0,1 3,0Z\" style=\"opacity: 1; stroke-width: 0px; fill: rgb(178, 24, 43); fill-opacity: 1;\"/><path class=\"point\" transform=\"translate(532.34,183.5)\" d=\"M3,0A3,3 0 1,1 0,-3A3,3 0 0,1 3,0Z\" style=\"opacity: 1; stroke-width: 0px; fill: rgb(178, 24, 43); fill-opacity: 1;\"/><path class=\"point\" transform=\"translate(532.79,183.5)\" d=\"M3,0A3,3 0 1,1 0,-3A3,3 0 0,1 3,0Z\" style=\"opacity: 1; stroke-width: 0px; fill: rgb(178, 24, 43); fill-opacity: 1;\"/><path class=\"point\" transform=\"translate(532.83,183.5)\" d=\"M3,0A3,3 0 1,1 0,-3A3,3 0 0,1 3,0Z\" style=\"opacity: 1; stroke-width: 0px; fill: rgb(178, 24, 43); fill-opacity: 1;\"/><path class=\"point\" transform=\"translate(532.85,183.5)\" d=\"M3,0A3,3 0 1,1 0,-3A3,3 0 0,1 3,0Z\" style=\"opacity: 1; stroke-width: 0px; fill: rgb(178, 24, 43); fill-opacity: 1;\"/><path class=\"point\" transform=\"translate(533.08,183.5)\" d=\"M3,0A3,3 0 1,1 0,-3A3,3 0 0,1 3,0Z\" style=\"opacity: 1; stroke-width: 0px; fill: rgb(178, 24, 43); fill-opacity: 1;\"/><path class=\"point\" transform=\"translate(533.23,183.5)\" d=\"M3,0A3,3 0 1,1 0,-3A3,3 0 0,1 3,0Z\" style=\"opacity: 1; stroke-width: 0px; fill: rgb(178, 24, 43); fill-opacity: 1;\"/><path class=\"point\" transform=\"translate(533.41,183.5)\" d=\"M3,0A3,3 0 1,1 0,-3A3,3 0 0,1 3,0Z\" style=\"opacity: 1; stroke-width: 0px; fill: rgb(178, 24, 43); fill-opacity: 1;\"/><path class=\"point\" transform=\"translate(533.42,183.5)\" d=\"M3,0A3,3 0 1,1 0,-3A3,3 0 0,1 3,0Z\" style=\"opacity: 1; stroke-width: 0px; fill: rgb(178, 24, 43); fill-opacity: 1;\"/><path class=\"point\" transform=\"translate(533.67,183.5)\" d=\"M3,0A3,3 0 1,1 0,-3A3,3 0 0,1 3,0Z\" style=\"opacity: 1; stroke-width: 0px; fill: rgb(178, 24, 43); fill-opacity: 1;\"/><path class=\"point\" transform=\"translate(533.7,183.5)\" d=\"M3,0A3,3 0 1,1 0,-3A3,3 0 0,1 3,0Z\" style=\"opacity: 1; stroke-width: 0px; fill: rgb(178, 24, 43); fill-opacity: 1;\"/><path class=\"point\" transform=\"translate(533.75,183.5)\" d=\"M3,0A3,3 0 1,1 0,-3A3,3 0 0,1 3,0Z\" style=\"opacity: 1; stroke-width: 0px; fill: rgb(178, 24, 43); fill-opacity: 1;\"/><path class=\"point\" transform=\"translate(533.95,183.5)\" d=\"M3,0A3,3 0 1,1 0,-3A3,3 0 0,1 3,0Z\" style=\"opacity: 1; stroke-width: 0px; fill: rgb(178, 24, 43); fill-opacity: 1;\"/><path class=\"point\" transform=\"translate(534.24,183.5)\" d=\"M3,0A3,3 0 1,1 0,-3A3,3 0 0,1 3,0Z\" style=\"opacity: 1; stroke-width: 0px; fill: rgb(178, 24, 43); fill-opacity: 1;\"/><path class=\"point\" transform=\"translate(535.03,183.5)\" d=\"M3,0A3,3 0 1,1 0,-3A3,3 0 0,1 3,0Z\" style=\"opacity: 1; stroke-width: 0px; fill: rgb(178, 24, 43); fill-opacity: 1;\"/><path class=\"point\" transform=\"translate(535.41,183.5)\" d=\"M3,0A3,3 0 1,1 0,-3A3,3 0 0,1 3,0Z\" style=\"opacity: 1; stroke-width: 0px; fill: rgb(178, 24, 43); fill-opacity: 1;\"/><path class=\"point\" transform=\"translate(535.56,183.5)\" d=\"M3,0A3,3 0 1,1 0,-3A3,3 0 0,1 3,0Z\" style=\"opacity: 1; stroke-width: 0px; fill: rgb(178, 24, 43); fill-opacity: 1;\"/><path class=\"point\" transform=\"translate(535.84,183.5)\" d=\"M3,0A3,3 0 1,1 0,-3A3,3 0 0,1 3,0Z\" style=\"opacity: 1; stroke-width: 0px; fill: rgb(178, 24, 43); fill-opacity: 1;\"/><path class=\"point\" transform=\"translate(535.85,183.5)\" d=\"M3,0A3,3 0 1,1 0,-3A3,3 0 0,1 3,0Z\" style=\"opacity: 1; stroke-width: 0px; fill: rgb(178, 24, 43); fill-opacity: 1;\"/><path class=\"point\" transform=\"translate(535.87,183.5)\" d=\"M3,0A3,3 0 1,1 0,-3A3,3 0 0,1 3,0Z\" style=\"opacity: 1; stroke-width: 0px; fill: rgb(178, 24, 43); fill-opacity: 1;\"/><path class=\"point\" transform=\"translate(536.06,183.5)\" d=\"M3,0A3,3 0 1,1 0,-3A3,3 0 0,1 3,0Z\" style=\"opacity: 1; stroke-width: 0px; fill: rgb(178, 24, 43); fill-opacity: 1;\"/><path class=\"point\" transform=\"translate(536.38,183.5)\" d=\"M3,0A3,3 0 1,1 0,-3A3,3 0 0,1 3,0Z\" style=\"opacity: 1; stroke-width: 0px; fill: rgb(178, 24, 43); fill-opacity: 1;\"/><path class=\"point\" transform=\"translate(536.71,183.5)\" d=\"M3,0A3,3 0 1,1 0,-3A3,3 0 0,1 3,0Z\" style=\"opacity: 1; stroke-width: 0px; fill: rgb(178, 24, 43); fill-opacity: 1;\"/><path class=\"point\" transform=\"translate(536.8,183.5)\" d=\"M3,0A3,3 0 1,1 0,-3A3,3 0 0,1 3,0Z\" style=\"opacity: 1; stroke-width: 0px; fill: rgb(178, 24, 43); fill-opacity: 1;\"/><path class=\"point\" transform=\"translate(536.87,183.5)\" d=\"M3,0A3,3 0 1,1 0,-3A3,3 0 0,1 3,0Z\" style=\"opacity: 1; stroke-width: 0px; fill: rgb(178, 24, 43); fill-opacity: 1;\"/><path class=\"point\" transform=\"translate(537.2,183.5)\" d=\"M3,0A3,3 0 1,1 0,-3A3,3 0 0,1 3,0Z\" style=\"opacity: 1; stroke-width: 0px; fill: rgb(178, 24, 43); fill-opacity: 1;\"/><path class=\"point\" transform=\"translate(537.22,183.5)\" d=\"M3,0A3,3 0 1,1 0,-3A3,3 0 0,1 3,0Z\" style=\"opacity: 1; stroke-width: 0px; fill: rgb(178, 24, 43); fill-opacity: 1;\"/><path class=\"point\" transform=\"translate(537.46,183.5)\" d=\"M3,0A3,3 0 1,1 0,-3A3,3 0 0,1 3,0Z\" style=\"opacity: 1; stroke-width: 0px; fill: rgb(178, 24, 43); fill-opacity: 1;\"/><path class=\"point\" transform=\"translate(537.73,183.5)\" d=\"M3,0A3,3 0 1,1 0,-3A3,3 0 0,1 3,0Z\" style=\"opacity: 1; stroke-width: 0px; fill: rgb(178, 24, 43); fill-opacity: 1;\"/><path class=\"point\" transform=\"translate(537.92,183.5)\" d=\"M3,0A3,3 0 1,1 0,-3A3,3 0 0,1 3,0Z\" style=\"opacity: 1; stroke-width: 0px; fill: rgb(178, 24, 43); fill-opacity: 1;\"/><path class=\"point\" transform=\"translate(538.17,183.5)\" d=\"M3,0A3,3 0 1,1 0,-3A3,3 0 0,1 3,0Z\" style=\"opacity: 1; stroke-width: 0px; fill: rgb(178, 24, 43); fill-opacity: 1;\"/><path class=\"point\" transform=\"translate(538.64,183.5)\" d=\"M3,0A3,3 0 1,1 0,-3A3,3 0 0,1 3,0Z\" style=\"opacity: 1; stroke-width: 0px; fill: rgb(178, 24, 43); fill-opacity: 1;\"/><path class=\"point\" transform=\"translate(539.22,183.5)\" d=\"M3,0A3,3 0 1,1 0,-3A3,3 0 0,1 3,0Z\" style=\"opacity: 1; stroke-width: 0px; fill: rgb(178, 24, 43); fill-opacity: 1;\"/><path class=\"point\" transform=\"translate(539.25,183.5)\" d=\"M3,0A3,3 0 1,1 0,-3A3,3 0 0,1 3,0Z\" style=\"opacity: 1; stroke-width: 0px; fill: rgb(178, 24, 43); fill-opacity: 1;\"/><path class=\"point\" transform=\"translate(539.35,183.5)\" d=\"M3,0A3,3 0 1,1 0,-3A3,3 0 0,1 3,0Z\" style=\"opacity: 1; stroke-width: 0px; fill: rgb(178, 24, 43); fill-opacity: 1;\"/><path class=\"point\" transform=\"translate(539.62,183.5)\" d=\"M3,0A3,3 0 1,1 0,-3A3,3 0 0,1 3,0Z\" style=\"opacity: 1; stroke-width: 0px; fill: rgb(178, 24, 43); fill-opacity: 1;\"/><path class=\"point\" transform=\"translate(539.78,183.5)\" d=\"M3,0A3,3 0 1,1 0,-3A3,3 0 0,1 3,0Z\" style=\"opacity: 1; stroke-width: 0px; fill: rgb(178, 24, 43); fill-opacity: 1;\"/><path class=\"point\" transform=\"translate(539.79,183.5)\" d=\"M3,0A3,3 0 1,1 0,-3A3,3 0 0,1 3,0Z\" style=\"opacity: 1; stroke-width: 0px; fill: rgb(178, 24, 43); fill-opacity: 1;\"/><path class=\"point\" transform=\"translate(540.02,183.5)\" d=\"M3,0A3,3 0 1,1 0,-3A3,3 0 0,1 3,0Z\" style=\"opacity: 1; stroke-width: 0px; fill: rgb(178, 24, 43); fill-opacity: 1;\"/><path class=\"point\" transform=\"translate(540.05,183.5)\" d=\"M3,0A3,3 0 1,1 0,-3A3,3 0 0,1 3,0Z\" style=\"opacity: 1; stroke-width: 0px; fill: rgb(178, 24, 43); fill-opacity: 1;\"/><path class=\"point\" transform=\"translate(540.06,183.5)\" d=\"M3,0A3,3 0 1,1 0,-3A3,3 0 0,1 3,0Z\" style=\"opacity: 1; stroke-width: 0px; fill: rgb(178, 24, 43); fill-opacity: 1;\"/><path class=\"point\" transform=\"translate(540.9,183.5)\" d=\"M3,0A3,3 0 1,1 0,-3A3,3 0 0,1 3,0Z\" style=\"opacity: 1; stroke-width: 0px; fill: rgb(178, 24, 43); fill-opacity: 1;\"/><path class=\"point\" transform=\"translate(541.6,183.5)\" d=\"M3,0A3,3 0 1,1 0,-3A3,3 0 0,1 3,0Z\" style=\"opacity: 1; stroke-width: 0px; fill: rgb(178, 24, 43); fill-opacity: 1;\"/><path class=\"point\" transform=\"translate(542.09,183.5)\" d=\"M3,0A3,3 0 1,1 0,-3A3,3 0 0,1 3,0Z\" style=\"opacity: 1; stroke-width: 0px; fill: rgb(178, 24, 43); fill-opacity: 1;\"/><path class=\"point\" transform=\"translate(542.21,183.5)\" d=\"M3,0A3,3 0 1,1 0,-3A3,3 0 0,1 3,0Z\" style=\"opacity: 1; stroke-width: 0px; fill: rgb(178, 24, 43); fill-opacity: 1;\"/><path class=\"point\" transform=\"translate(542.22,183.5)\" d=\"M3,0A3,3 0 1,1 0,-3A3,3 0 0,1 3,0Z\" style=\"opacity: 1; stroke-width: 0px; fill: rgb(178, 24, 43); fill-opacity: 1;\"/><path class=\"point\" transform=\"translate(542.34,183.5)\" d=\"M3,0A3,3 0 1,1 0,-3A3,3 0 0,1 3,0Z\" style=\"opacity: 1; stroke-width: 0px; fill: rgb(178, 24, 43); fill-opacity: 1;\"/><path class=\"point\" transform=\"translate(542.42,183.5)\" d=\"M3,0A3,3 0 1,1 0,-3A3,3 0 0,1 3,0Z\" style=\"opacity: 1; stroke-width: 0px; fill: rgb(178, 24, 43); fill-opacity: 1;\"/><path class=\"point\" transform=\"translate(542.51,183.5)\" d=\"M3,0A3,3 0 1,1 0,-3A3,3 0 0,1 3,0Z\" style=\"opacity: 1; stroke-width: 0px; fill: rgb(178, 24, 43); fill-opacity: 1;\"/><path class=\"point\" transform=\"translate(542.58,183.5)\" d=\"M3,0A3,3 0 1,1 0,-3A3,3 0 0,1 3,0Z\" style=\"opacity: 1; stroke-width: 0px; fill: rgb(178, 24, 43); fill-opacity: 1;\"/><path class=\"point\" transform=\"translate(542.8,183.5)\" d=\"M3,0A3,3 0 1,1 0,-3A3,3 0 0,1 3,0Z\" style=\"opacity: 1; stroke-width: 0px; fill: rgb(178, 24, 43); fill-opacity: 1;\"/><path class=\"point\" transform=\"translate(543.26,183.5)\" d=\"M3,0A3,3 0 1,1 0,-3A3,3 0 0,1 3,0Z\" style=\"opacity: 1; stroke-width: 0px; fill: rgb(178, 24, 43); fill-opacity: 1;\"/><path class=\"point\" transform=\"translate(543.3,183.5)\" d=\"M3,0A3,3 0 1,1 0,-3A3,3 0 0,1 3,0Z\" style=\"opacity: 1; stroke-width: 0px; fill: rgb(178, 24, 43); fill-opacity: 1;\"/><path class=\"point\" transform=\"translate(543.48,183.5)\" d=\"M3,0A3,3 0 1,1 0,-3A3,3 0 0,1 3,0Z\" style=\"opacity: 1; stroke-width: 0px; fill: rgb(178, 24, 43); fill-opacity: 1;\"/><path class=\"point\" transform=\"translate(543.89,183.5)\" d=\"M3,0A3,3 0 1,1 0,-3A3,3 0 0,1 3,0Z\" style=\"opacity: 1; stroke-width: 0px; fill: rgb(178, 24, 43); fill-opacity: 1;\"/><path class=\"point\" transform=\"translate(543.9,183.5)\" d=\"M3,0A3,3 0 1,1 0,-3A3,3 0 0,1 3,0Z\" style=\"opacity: 1; stroke-width: 0px; fill: rgb(178, 24, 43); fill-opacity: 1;\"/><path class=\"point\" transform=\"translate(544.14,183.5)\" d=\"M3,0A3,3 0 1,1 0,-3A3,3 0 0,1 3,0Z\" style=\"opacity: 1; stroke-width: 0px; fill: rgb(178, 24, 43); fill-opacity: 1;\"/><path class=\"point\" transform=\"translate(544.16,183.5)\" d=\"M3,0A3,3 0 1,1 0,-3A3,3 0 0,1 3,0Z\" style=\"opacity: 1; stroke-width: 0px; fill: rgb(178, 24, 43); fill-opacity: 1;\"/><path class=\"point\" transform=\"translate(544.2,183.5)\" d=\"M3,0A3,3 0 1,1 0,-3A3,3 0 0,1 3,0Z\" style=\"opacity: 1; stroke-width: 0px; fill: rgb(178, 24, 43); fill-opacity: 1;\"/><path class=\"point\" transform=\"translate(544.21,183.5)\" d=\"M3,0A3,3 0 1,1 0,-3A3,3 0 0,1 3,0Z\" style=\"opacity: 1; stroke-width: 0px; fill: rgb(178, 24, 43); fill-opacity: 1;\"/><path class=\"point\" transform=\"translate(544.23,183.5)\" d=\"M3,0A3,3 0 1,1 0,-3A3,3 0 0,1 3,0Z\" style=\"opacity: 1; stroke-width: 0px; fill: rgb(178, 24, 43); fill-opacity: 1;\"/><path class=\"point\" transform=\"translate(544.33,183.5)\" d=\"M3,0A3,3 0 1,1 0,-3A3,3 0 0,1 3,0Z\" style=\"opacity: 1; stroke-width: 0px; fill: rgb(178, 24, 43); fill-opacity: 1;\"/><path class=\"point\" transform=\"translate(544.38,183.5)\" d=\"M3,0A3,3 0 1,1 0,-3A3,3 0 0,1 3,0Z\" style=\"opacity: 1; stroke-width: 0px; fill: rgb(178, 24, 43); fill-opacity: 1;\"/><path class=\"point\" transform=\"translate(544.43,183.5)\" d=\"M3,0A3,3 0 1,1 0,-3A3,3 0 0,1 3,0Z\" style=\"opacity: 1; stroke-width: 0px; fill: rgb(178, 24, 43); fill-opacity: 1;\"/><path class=\"point\" transform=\"translate(544.49,183.5)\" d=\"M3,0A3,3 0 1,1 0,-3A3,3 0 0,1 3,0Z\" style=\"opacity: 1; stroke-width: 0px; fill: rgb(178, 24, 43); fill-opacity: 1;\"/><path class=\"point\" transform=\"translate(544.6,183.5)\" d=\"M3,0A3,3 0 1,1 0,-3A3,3 0 0,1 3,0Z\" style=\"opacity: 1; stroke-width: 0px; fill: rgb(178, 24, 43); fill-opacity: 1;\"/><path class=\"point\" transform=\"translate(544.76,183.5)\" d=\"M3,0A3,3 0 1,1 0,-3A3,3 0 0,1 3,0Z\" style=\"opacity: 1; stroke-width: 0px; fill: rgb(178, 24, 43); fill-opacity: 1;\"/><path class=\"point\" transform=\"translate(545.02,183.5)\" d=\"M3,0A3,3 0 1,1 0,-3A3,3 0 0,1 3,0Z\" style=\"opacity: 1; stroke-width: 0px; fill: rgb(178, 24, 43); fill-opacity: 1;\"/><path class=\"point\" transform=\"translate(545.03,183.5)\" d=\"M3,0A3,3 0 1,1 0,-3A3,3 0 0,1 3,0Z\" style=\"opacity: 1; stroke-width: 0px; fill: rgb(178, 24, 43); fill-opacity: 1;\"/><path class=\"point\" transform=\"translate(545.23,183.5)\" d=\"M3,0A3,3 0 1,1 0,-3A3,3 0 0,1 3,0Z\" style=\"opacity: 1; stroke-width: 0px; fill: rgb(178, 24, 43); fill-opacity: 1;\"/><path class=\"point\" transform=\"translate(545.6,183.5)\" d=\"M3,0A3,3 0 1,1 0,-3A3,3 0 0,1 3,0Z\" style=\"opacity: 1; stroke-width: 0px; fill: rgb(178, 24, 43); fill-opacity: 1;\"/><path class=\"point\" transform=\"translate(545.71,183.5)\" d=\"M3,0A3,3 0 1,1 0,-3A3,3 0 0,1 3,0Z\" style=\"opacity: 1; stroke-width: 0px; fill: rgb(178, 24, 43); fill-opacity: 1;\"/><path class=\"point\" transform=\"translate(545.93,183.5)\" d=\"M3,0A3,3 0 1,1 0,-3A3,3 0 0,1 3,0Z\" style=\"opacity: 1; stroke-width: 0px; fill: rgb(178, 24, 43); fill-opacity: 1;\"/><path class=\"point\" transform=\"translate(546.07,183.5)\" d=\"M3,0A3,3 0 1,1 0,-3A3,3 0 0,1 3,0Z\" style=\"opacity: 1; stroke-width: 0px; fill: rgb(178, 24, 43); fill-opacity: 1;\"/><path class=\"point\" transform=\"translate(546.3,183.5)\" d=\"M3,0A3,3 0 1,1 0,-3A3,3 0 0,1 3,0Z\" style=\"opacity: 1; stroke-width: 0px; fill: rgb(178, 24, 43); fill-opacity: 1;\"/><path class=\"point\" transform=\"translate(546.34,183.5)\" d=\"M3,0A3,3 0 1,1 0,-3A3,3 0 0,1 3,0Z\" style=\"opacity: 1; stroke-width: 0px; fill: rgb(178, 24, 43); fill-opacity: 1;\"/><path class=\"point\" transform=\"translate(546.85,183.5)\" d=\"M3,0A3,3 0 1,1 0,-3A3,3 0 0,1 3,0Z\" style=\"opacity: 1; stroke-width: 0px; fill: rgb(178, 24, 43); fill-opacity: 1;\"/><path class=\"point\" transform=\"translate(546.88,183.5)\" d=\"M3,0A3,3 0 1,1 0,-3A3,3 0 0,1 3,0Z\" style=\"opacity: 1; stroke-width: 0px; fill: rgb(178, 24, 43); fill-opacity: 1;\"/><path class=\"point\" transform=\"translate(546.99,183.5)\" d=\"M3,0A3,3 0 1,1 0,-3A3,3 0 0,1 3,0Z\" style=\"opacity: 1; stroke-width: 0px; fill: rgb(178, 24, 43); fill-opacity: 1;\"/><path class=\"point\" transform=\"translate(547.05,183.5)\" d=\"M3,0A3,3 0 1,1 0,-3A3,3 0 0,1 3,0Z\" style=\"opacity: 1; stroke-width: 0px; fill: rgb(178, 24, 43); fill-opacity: 1;\"/><path class=\"point\" transform=\"translate(547.53,183.5)\" d=\"M3,0A3,3 0 1,1 0,-3A3,3 0 0,1 3,0Z\" style=\"opacity: 1; stroke-width: 0px; fill: rgb(178, 24, 43); fill-opacity: 1;\"/><path class=\"point\" transform=\"translate(547.54,183.5)\" d=\"M3,0A3,3 0 1,1 0,-3A3,3 0 0,1 3,0Z\" style=\"opacity: 1; stroke-width: 0px; fill: rgb(178, 24, 43); fill-opacity: 1;\"/><path class=\"point\" transform=\"translate(547.72,183.5)\" d=\"M3,0A3,3 0 1,1 0,-3A3,3 0 0,1 3,0Z\" style=\"opacity: 1; stroke-width: 0px; fill: rgb(178, 24, 43); fill-opacity: 1;\"/><path class=\"point\" transform=\"translate(547.77,183.5)\" d=\"M3,0A3,3 0 1,1 0,-3A3,3 0 0,1 3,0Z\" style=\"opacity: 1; stroke-width: 0px; fill: rgb(178, 24, 43); fill-opacity: 1;\"/><path class=\"point\" transform=\"translate(547.78,183.5)\" d=\"M3,0A3,3 0 1,1 0,-3A3,3 0 0,1 3,0Z\" style=\"opacity: 1; stroke-width: 0px; fill: rgb(178, 24, 43); fill-opacity: 1;\"/><path class=\"point\" transform=\"translate(547.89,183.5)\" d=\"M3,0A3,3 0 1,1 0,-3A3,3 0 0,1 3,0Z\" style=\"opacity: 1; stroke-width: 0px; fill: rgb(178, 24, 43); fill-opacity: 1;\"/><path class=\"point\" transform=\"translate(548.31,183.5)\" d=\"M3,0A3,3 0 1,1 0,-3A3,3 0 0,1 3,0Z\" style=\"opacity: 1; stroke-width: 0px; fill: rgb(178, 24, 43); fill-opacity: 1;\"/><path class=\"point\" transform=\"translate(548.74,183.5)\" d=\"M3,0A3,3 0 1,1 0,-3A3,3 0 0,1 3,0Z\" style=\"opacity: 1; stroke-width: 0px; fill: rgb(178, 24, 43); fill-opacity: 1;\"/><path class=\"point\" transform=\"translate(549.4,183.5)\" d=\"M3,0A3,3 0 1,1 0,-3A3,3 0 0,1 3,0Z\" style=\"opacity: 1; stroke-width: 0px; fill: rgb(178, 24, 43); fill-opacity: 1;\"/><path class=\"point\" transform=\"translate(549.65,183.5)\" d=\"M3,0A3,3 0 1,1 0,-3A3,3 0 0,1 3,0Z\" style=\"opacity: 1; stroke-width: 0px; fill: rgb(178, 24, 43); fill-opacity: 1;\"/><path class=\"point\" transform=\"translate(549.71,183.5)\" d=\"M3,0A3,3 0 1,1 0,-3A3,3 0 0,1 3,0Z\" style=\"opacity: 1; stroke-width: 0px; fill: rgb(178, 24, 43); fill-opacity: 1;\"/><path class=\"point\" transform=\"translate(550.21,183.5)\" d=\"M3,0A3,3 0 1,1 0,-3A3,3 0 0,1 3,0Z\" style=\"opacity: 1; stroke-width: 0px; fill: rgb(178, 24, 43); fill-opacity: 1;\"/><path class=\"point\" transform=\"translate(550.29,183.5)\" d=\"M3,0A3,3 0 1,1 0,-3A3,3 0 0,1 3,0Z\" style=\"opacity: 1; stroke-width: 0px; fill: rgb(178, 24, 43); fill-opacity: 1;\"/><path class=\"point\" transform=\"translate(550.37,183.5)\" d=\"M3,0A3,3 0 1,1 0,-3A3,3 0 0,1 3,0Z\" style=\"opacity: 1; stroke-width: 0px; fill: rgb(178, 24, 43); fill-opacity: 1;\"/><path class=\"point\" transform=\"translate(550.45,183.5)\" d=\"M3,0A3,3 0 1,1 0,-3A3,3 0 0,1 3,0Z\" style=\"opacity: 1; stroke-width: 0px; fill: rgb(178, 24, 43); fill-opacity: 1;\"/><path class=\"point\" transform=\"translate(550.52,183.5)\" d=\"M3,0A3,3 0 1,1 0,-3A3,3 0 0,1 3,0Z\" style=\"opacity: 1; stroke-width: 0px; fill: rgb(178, 24, 43); fill-opacity: 1;\"/><path class=\"point\" transform=\"translate(550.79,183.5)\" d=\"M3,0A3,3 0 1,1 0,-3A3,3 0 0,1 3,0Z\" style=\"opacity: 1; stroke-width: 0px; fill: rgb(178, 24, 43); fill-opacity: 1;\"/><path class=\"point\" transform=\"translate(550.8,183.5)\" d=\"M3,0A3,3 0 1,1 0,-3A3,3 0 0,1 3,0Z\" style=\"opacity: 1; stroke-width: 0px; fill: rgb(178, 24, 43); fill-opacity: 1;\"/><path class=\"point\" transform=\"translate(551.11,183.5)\" d=\"M3,0A3,3 0 1,1 0,-3A3,3 0 0,1 3,0Z\" style=\"opacity: 1; stroke-width: 0px; fill: rgb(178, 24, 43); fill-opacity: 1;\"/><path class=\"point\" transform=\"translate(551.34,183.5)\" d=\"M3,0A3,3 0 1,1 0,-3A3,3 0 0,1 3,0Z\" style=\"opacity: 1; stroke-width: 0px; fill: rgb(178, 24, 43); fill-opacity: 1;\"/><path class=\"point\" transform=\"translate(551.39,183.5)\" d=\"M3,0A3,3 0 1,1 0,-3A3,3 0 0,1 3,0Z\" style=\"opacity: 1; stroke-width: 0px; fill: rgb(178, 24, 43); fill-opacity: 1;\"/><path class=\"point\" transform=\"translate(551.62,183.5)\" d=\"M3,0A3,3 0 1,1 0,-3A3,3 0 0,1 3,0Z\" style=\"opacity: 1; stroke-width: 0px; fill: rgb(178, 24, 43); fill-opacity: 1;\"/><path class=\"point\" transform=\"translate(551.73,183.5)\" d=\"M3,0A3,3 0 1,1 0,-3A3,3 0 0,1 3,0Z\" style=\"opacity: 1; stroke-width: 0px; fill: rgb(178, 24, 43); fill-opacity: 1;\"/><path class=\"point\" transform=\"translate(551.87,183.5)\" d=\"M3,0A3,3 0 1,1 0,-3A3,3 0 0,1 3,0Z\" style=\"opacity: 1; stroke-width: 0px; fill: rgb(178, 24, 43); fill-opacity: 1;\"/><path class=\"point\" transform=\"translate(552.04,183.5)\" d=\"M3,0A3,3 0 1,1 0,-3A3,3 0 0,1 3,0Z\" style=\"opacity: 1; stroke-width: 0px; fill: rgb(178, 24, 43); fill-opacity: 1;\"/><path class=\"point\" transform=\"translate(552.16,183.5)\" d=\"M3,0A3,3 0 1,1 0,-3A3,3 0 0,1 3,0Z\" style=\"opacity: 1; stroke-width: 0px; fill: rgb(178, 24, 43); fill-opacity: 1;\"/><path class=\"point\" transform=\"translate(552.32,183.5)\" d=\"M3,0A3,3 0 1,1 0,-3A3,3 0 0,1 3,0Z\" style=\"opacity: 1; stroke-width: 0px; fill: rgb(178, 24, 43); fill-opacity: 1;\"/><path class=\"point\" transform=\"translate(552.43,183.5)\" d=\"M3,0A3,3 0 1,1 0,-3A3,3 0 0,1 3,0Z\" style=\"opacity: 1; stroke-width: 0px; fill: rgb(178, 24, 43); fill-opacity: 1;\"/><path class=\"point\" transform=\"translate(552.47,183.5)\" d=\"M3,0A3,3 0 1,1 0,-3A3,3 0 0,1 3,0Z\" style=\"opacity: 1; stroke-width: 0px; fill: rgb(178, 24, 43); fill-opacity: 1;\"/><path class=\"point\" transform=\"translate(552.53,183.5)\" d=\"M3,0A3,3 0 1,1 0,-3A3,3 0 0,1 3,0Z\" style=\"opacity: 1; stroke-width: 0px; fill: rgb(178, 24, 43); fill-opacity: 1;\"/><path class=\"point\" transform=\"translate(552.66,183.5)\" d=\"M3,0A3,3 0 1,1 0,-3A3,3 0 0,1 3,0Z\" style=\"opacity: 1; stroke-width: 0px; fill: rgb(178, 24, 43); fill-opacity: 1;\"/><path class=\"point\" transform=\"translate(552.78,183.5)\" d=\"M3,0A3,3 0 1,1 0,-3A3,3 0 0,1 3,0Z\" style=\"opacity: 1; stroke-width: 0px; fill: rgb(178, 24, 43); fill-opacity: 1;\"/><path class=\"point\" transform=\"translate(552.93,183.5)\" d=\"M3,0A3,3 0 1,1 0,-3A3,3 0 0,1 3,0Z\" style=\"opacity: 1; stroke-width: 0px; fill: rgb(178, 24, 43); fill-opacity: 1;\"/><path class=\"point\" transform=\"translate(553,183.5)\" d=\"M3,0A3,3 0 1,1 0,-3A3,3 0 0,1 3,0Z\" style=\"opacity: 1; stroke-width: 0px; fill: rgb(178, 24, 43); fill-opacity: 1;\"/><path class=\"point\" transform=\"translate(553.18,183.5)\" d=\"M3,0A3,3 0 1,1 0,-3A3,3 0 0,1 3,0Z\" style=\"opacity: 1; stroke-width: 0px; fill: rgb(178, 24, 43); fill-opacity: 1;\"/><path class=\"point\" transform=\"translate(554.33,183.5)\" d=\"M3,0A3,3 0 1,1 0,-3A3,3 0 0,1 3,0Z\" style=\"opacity: 1; stroke-width: 0px; fill: rgb(178, 24, 43); fill-opacity: 1;\"/><path class=\"point\" transform=\"translate(554.54,183.5)\" d=\"M3,0A3,3 0 1,1 0,-3A3,3 0 0,1 3,0Z\" style=\"opacity: 1; stroke-width: 0px; fill: rgb(178, 24, 43); fill-opacity: 1;\"/><path class=\"point\" transform=\"translate(554.55,183.5)\" d=\"M3,0A3,3 0 1,1 0,-3A3,3 0 0,1 3,0Z\" style=\"opacity: 1; stroke-width: 0px; fill: rgb(178, 24, 43); fill-opacity: 1;\"/><path class=\"point\" transform=\"translate(554.69,183.5)\" d=\"M3,0A3,3 0 1,1 0,-3A3,3 0 0,1 3,0Z\" style=\"opacity: 1; stroke-width: 0px; fill: rgb(178, 24, 43); fill-opacity: 1;\"/><path class=\"point\" transform=\"translate(554.85,183.5)\" d=\"M3,0A3,3 0 1,1 0,-3A3,3 0 0,1 3,0Z\" style=\"opacity: 1; stroke-width: 0px; fill: rgb(178, 24, 43); fill-opacity: 1;\"/><path class=\"point\" transform=\"translate(555.21,183.5)\" d=\"M3,0A3,3 0 1,1 0,-3A3,3 0 0,1 3,0Z\" style=\"opacity: 1; stroke-width: 0px; fill: rgb(178, 24, 43); fill-opacity: 1;\"/><path class=\"point\" transform=\"translate(555.36,183.5)\" d=\"M3,0A3,3 0 1,1 0,-3A3,3 0 0,1 3,0Z\" style=\"opacity: 1; stroke-width: 0px; fill: rgb(178, 24, 43); fill-opacity: 1;\"/><path class=\"point\" transform=\"translate(555.48,183.5)\" d=\"M3,0A3,3 0 1,1 0,-3A3,3 0 0,1 3,0Z\" style=\"opacity: 1; stroke-width: 0px; fill: rgb(178, 24, 43); fill-opacity: 1;\"/><path class=\"point\" transform=\"translate(555.8,183.5)\" d=\"M3,0A3,3 0 1,1 0,-3A3,3 0 0,1 3,0Z\" style=\"opacity: 1; stroke-width: 0px; fill: rgb(178, 24, 43); fill-opacity: 1;\"/><path class=\"point\" transform=\"translate(556.05,183.5)\" d=\"M3,0A3,3 0 1,1 0,-3A3,3 0 0,1 3,0Z\" style=\"opacity: 1; stroke-width: 0px; fill: rgb(178, 24, 43); fill-opacity: 1;\"/><path class=\"point\" transform=\"translate(556.14,183.5)\" d=\"M3,0A3,3 0 1,1 0,-3A3,3 0 0,1 3,0Z\" style=\"opacity: 1; stroke-width: 0px; fill: rgb(178, 24, 43); fill-opacity: 1;\"/><path class=\"point\" transform=\"translate(556.29,183.5)\" d=\"M3,0A3,3 0 1,1 0,-3A3,3 0 0,1 3,0Z\" style=\"opacity: 1; stroke-width: 0px; fill: rgb(178, 24, 43); fill-opacity: 1;\"/><path class=\"point\" transform=\"translate(556.87,183.5)\" d=\"M3,0A3,3 0 1,1 0,-3A3,3 0 0,1 3,0Z\" style=\"opacity: 1; stroke-width: 0px; fill: rgb(178, 24, 43); fill-opacity: 1;\"/><path class=\"point\" transform=\"translate(557.18,183.5)\" d=\"M3,0A3,3 0 1,1 0,-3A3,3 0 0,1 3,0Z\" style=\"opacity: 1; stroke-width: 0px; fill: rgb(178, 24, 43); fill-opacity: 1;\"/><path class=\"point\" transform=\"translate(557.8,183.5)\" d=\"M3,0A3,3 0 1,1 0,-3A3,3 0 0,1 3,0Z\" style=\"opacity: 1; stroke-width: 0px; fill: rgb(178, 24, 43); fill-opacity: 1;\"/><path class=\"point\" transform=\"translate(557.81,183.5)\" d=\"M3,0A3,3 0 1,1 0,-3A3,3 0 0,1 3,0Z\" style=\"opacity: 1; stroke-width: 0px; fill: rgb(178, 24, 43); fill-opacity: 1;\"/><path class=\"point\" transform=\"translate(557.9,183.5)\" d=\"M3,0A3,3 0 1,1 0,-3A3,3 0 0,1 3,0Z\" style=\"opacity: 1; stroke-width: 0px; fill: rgb(178, 24, 43); fill-opacity: 1;\"/><path class=\"point\" transform=\"translate(557.9,183.5)\" d=\"M3,0A3,3 0 1,1 0,-3A3,3 0 0,1 3,0Z\" style=\"opacity: 1; stroke-width: 0px; fill: rgb(178, 24, 43); fill-opacity: 1;\"/><path class=\"point\" transform=\"translate(558.15,183.5)\" d=\"M3,0A3,3 0 1,1 0,-3A3,3 0 0,1 3,0Z\" style=\"opacity: 1; stroke-width: 0px; fill: rgb(178, 24, 43); fill-opacity: 1;\"/><path class=\"point\" transform=\"translate(558.3,183.5)\" d=\"M3,0A3,3 0 1,1 0,-3A3,3 0 0,1 3,0Z\" style=\"opacity: 1; stroke-width: 0px; fill: rgb(178, 24, 43); fill-opacity: 1;\"/><path class=\"point\" transform=\"translate(558.39,183.5)\" d=\"M3,0A3,3 0 1,1 0,-3A3,3 0 0,1 3,0Z\" style=\"opacity: 1; stroke-width: 0px; fill: rgb(178, 24, 43); fill-opacity: 1;\"/><path class=\"point\" transform=\"translate(558.58,183.5)\" d=\"M3,0A3,3 0 1,1 0,-3A3,3 0 0,1 3,0Z\" style=\"opacity: 1; stroke-width: 0px; fill: rgb(178, 24, 43); fill-opacity: 1;\"/><path class=\"point\" transform=\"translate(558.84,183.5)\" d=\"M3,0A3,3 0 1,1 0,-3A3,3 0 0,1 3,0Z\" style=\"opacity: 1; stroke-width: 0px; fill: rgb(178, 24, 43); fill-opacity: 1;\"/><path class=\"point\" transform=\"translate(559.4,183.5)\" d=\"M3,0A3,3 0 1,1 0,-3A3,3 0 0,1 3,0Z\" style=\"opacity: 1; stroke-width: 0px; fill: rgb(178, 24, 43); fill-opacity: 1;\"/><path class=\"point\" transform=\"translate(559.96,183.5)\" d=\"M3,0A3,3 0 1,1 0,-3A3,3 0 0,1 3,0Z\" style=\"opacity: 1; stroke-width: 0px; fill: rgb(178, 24, 43); fill-opacity: 1;\"/><path class=\"point\" transform=\"translate(560.25,183.5)\" d=\"M3,0A3,3 0 1,1 0,-3A3,3 0 0,1 3,0Z\" style=\"opacity: 1; stroke-width: 0px; fill: rgb(178, 24, 43); fill-opacity: 1;\"/><path class=\"point\" transform=\"translate(560.42,183.5)\" d=\"M3,0A3,3 0 1,1 0,-3A3,3 0 0,1 3,0Z\" style=\"opacity: 1; stroke-width: 0px; fill: rgb(178, 24, 43); fill-opacity: 1;\"/><path class=\"point\" transform=\"translate(560.74,183.5)\" d=\"M3,0A3,3 0 1,1 0,-3A3,3 0 0,1 3,0Z\" style=\"opacity: 1; stroke-width: 0px; fill: rgb(178, 24, 43); fill-opacity: 1;\"/><path class=\"point\" transform=\"translate(560.86,183.5)\" d=\"M3,0A3,3 0 1,1 0,-3A3,3 0 0,1 3,0Z\" style=\"opacity: 1; stroke-width: 0px; fill: rgb(178, 24, 43); fill-opacity: 1;\"/><path class=\"point\" transform=\"translate(561.44,183.5)\" d=\"M3,0A3,3 0 1,1 0,-3A3,3 0 0,1 3,0Z\" style=\"opacity: 1; stroke-width: 0px; fill: rgb(178, 24, 43); fill-opacity: 1;\"/><path class=\"point\" transform=\"translate(561.77,183.5)\" d=\"M3,0A3,3 0 1,1 0,-3A3,3 0 0,1 3,0Z\" style=\"opacity: 1; stroke-width: 0px; fill: rgb(178, 24, 43); fill-opacity: 1;\"/><path class=\"point\" transform=\"translate(561.96,183.5)\" d=\"M3,0A3,3 0 1,1 0,-3A3,3 0 0,1 3,0Z\" style=\"opacity: 1; stroke-width: 0px; fill: rgb(178, 24, 43); fill-opacity: 1;\"/><path class=\"point\" transform=\"translate(561.97,183.5)\" d=\"M3,0A3,3 0 1,1 0,-3A3,3 0 0,1 3,0Z\" style=\"opacity: 1; stroke-width: 0px; fill: rgb(178, 24, 43); fill-opacity: 1;\"/><path class=\"point\" transform=\"translate(562.46,183.5)\" d=\"M3,0A3,3 0 1,1 0,-3A3,3 0 0,1 3,0Z\" style=\"opacity: 1; stroke-width: 0px; fill: rgb(178, 24, 43); fill-opacity: 1;\"/><path class=\"point\" transform=\"translate(562.68,183.5)\" d=\"M3,0A3,3 0 1,1 0,-3A3,3 0 0,1 3,0Z\" style=\"opacity: 1; stroke-width: 0px; fill: rgb(178, 24, 43); fill-opacity: 1;\"/><path class=\"point\" transform=\"translate(562.98,183.5)\" d=\"M3,0A3,3 0 1,1 0,-3A3,3 0 0,1 3,0Z\" style=\"opacity: 1; stroke-width: 0px; fill: rgb(178, 24, 43); fill-opacity: 1;\"/><path class=\"point\" transform=\"translate(563.14,183.5)\" d=\"M3,0A3,3 0 1,1 0,-3A3,3 0 0,1 3,0Z\" style=\"opacity: 1; stroke-width: 0px; fill: rgb(178, 24, 43); fill-opacity: 1;\"/><path class=\"point\" transform=\"translate(563.54,183.5)\" d=\"M3,0A3,3 0 1,1 0,-3A3,3 0 0,1 3,0Z\" style=\"opacity: 1; stroke-width: 0px; fill: rgb(178, 24, 43); fill-opacity: 1;\"/><path class=\"point\" transform=\"translate(564.02,183.5)\" d=\"M3,0A3,3 0 1,1 0,-3A3,3 0 0,1 3,0Z\" style=\"opacity: 1; stroke-width: 0px; fill: rgb(178, 24, 43); fill-opacity: 1;\"/><path class=\"point\" transform=\"translate(564.28,183.5)\" d=\"M3,0A3,3 0 1,1 0,-3A3,3 0 0,1 3,0Z\" style=\"opacity: 1; stroke-width: 0px; fill: rgb(178, 24, 43); fill-opacity: 1;\"/><path class=\"point\" transform=\"translate(564.39,183.5)\" d=\"M3,0A3,3 0 1,1 0,-3A3,3 0 0,1 3,0Z\" style=\"opacity: 1; stroke-width: 0px; fill: rgb(178, 24, 43); fill-opacity: 1;\"/><path class=\"point\" transform=\"translate(564.4,183.5)\" d=\"M3,0A3,3 0 1,1 0,-3A3,3 0 0,1 3,0Z\" style=\"opacity: 1; stroke-width: 0px; fill: rgb(178, 24, 43); fill-opacity: 1;\"/><path class=\"point\" transform=\"translate(564.42,183.5)\" d=\"M3,0A3,3 0 1,1 0,-3A3,3 0 0,1 3,0Z\" style=\"opacity: 1; stroke-width: 0px; fill: rgb(178, 24, 43); fill-opacity: 1;\"/><path class=\"point\" transform=\"translate(564.56,183.5)\" d=\"M3,0A3,3 0 1,1 0,-3A3,3 0 0,1 3,0Z\" style=\"opacity: 1; stroke-width: 0px; fill: rgb(178, 24, 43); fill-opacity: 1;\"/><path class=\"point\" transform=\"translate(564.75,183.5)\" d=\"M3,0A3,3 0 1,1 0,-3A3,3 0 0,1 3,0Z\" style=\"opacity: 1; stroke-width: 0px; fill: rgb(178, 24, 43); fill-opacity: 1;\"/><path class=\"point\" transform=\"translate(565.79,183.5)\" d=\"M3,0A3,3 0 1,1 0,-3A3,3 0 0,1 3,0Z\" style=\"opacity: 1; stroke-width: 0px; fill: rgb(178, 24, 43); fill-opacity: 1;\"/><path class=\"point\" transform=\"translate(566.29,183.5)\" d=\"M3,0A3,3 0 1,1 0,-3A3,3 0 0,1 3,0Z\" style=\"opacity: 1; stroke-width: 0px; fill: rgb(178, 24, 43); fill-opacity: 1;\"/><path class=\"point\" transform=\"translate(566.36,183.5)\" d=\"M3,0A3,3 0 1,1 0,-3A3,3 0 0,1 3,0Z\" style=\"opacity: 1; stroke-width: 0px; fill: rgb(178, 24, 43); fill-opacity: 1;\"/><path class=\"point\" transform=\"translate(566.4,183.5)\" d=\"M3,0A3,3 0 1,1 0,-3A3,3 0 0,1 3,0Z\" style=\"opacity: 1; stroke-width: 0px; fill: rgb(178, 24, 43); fill-opacity: 1;\"/><path class=\"point\" transform=\"translate(566.75,183.5)\" d=\"M3,0A3,3 0 1,1 0,-3A3,3 0 0,1 3,0Z\" style=\"opacity: 1; stroke-width: 0px; fill: rgb(178, 24, 43); fill-opacity: 1;\"/><path class=\"point\" transform=\"translate(567.64,183.5)\" d=\"M3,0A3,3 0 1,1 0,-3A3,3 0 0,1 3,0Z\" style=\"opacity: 1; stroke-width: 0px; fill: rgb(178, 24, 43); fill-opacity: 1;\"/><path class=\"point\" transform=\"translate(567.72,183.5)\" d=\"M3,0A3,3 0 1,1 0,-3A3,3 0 0,1 3,0Z\" style=\"opacity: 1; stroke-width: 0px; fill: rgb(178, 24, 43); fill-opacity: 1;\"/><path class=\"point\" transform=\"translate(567.75,183.5)\" d=\"M3,0A3,3 0 1,1 0,-3A3,3 0 0,1 3,0Z\" style=\"opacity: 1; stroke-width: 0px; fill: rgb(178, 24, 43); fill-opacity: 1;\"/><path class=\"point\" transform=\"translate(567.86,183.5)\" d=\"M3,0A3,3 0 1,1 0,-3A3,3 0 0,1 3,0Z\" style=\"opacity: 1; stroke-width: 0px; fill: rgb(178, 24, 43); fill-opacity: 1;\"/><path class=\"point\" transform=\"translate(567.96,183.5)\" d=\"M3,0A3,3 0 1,1 0,-3A3,3 0 0,1 3,0Z\" style=\"opacity: 1; stroke-width: 0px; fill: rgb(178, 24, 43); fill-opacity: 1;\"/><path class=\"point\" transform=\"translate(568.46,183.5)\" d=\"M3,0A3,3 0 1,1 0,-3A3,3 0 0,1 3,0Z\" style=\"opacity: 1; stroke-width: 0px; fill: rgb(178, 24, 43); fill-opacity: 1;\"/><path class=\"point\" transform=\"translate(568.71,183.5)\" d=\"M3,0A3,3 0 1,1 0,-3A3,3 0 0,1 3,0Z\" style=\"opacity: 1; stroke-width: 0px; fill: rgb(178, 24, 43); fill-opacity: 1;\"/><path class=\"point\" transform=\"translate(568.83,183.5)\" d=\"M3,0A3,3 0 1,1 0,-3A3,3 0 0,1 3,0Z\" style=\"opacity: 1; stroke-width: 0px; fill: rgb(178, 24, 43); fill-opacity: 1;\"/><path class=\"point\" transform=\"translate(569.23,183.5)\" d=\"M3,0A3,3 0 1,1 0,-3A3,3 0 0,1 3,0Z\" style=\"opacity: 1; stroke-width: 0px; fill: rgb(178, 24, 43); fill-opacity: 1;\"/><path class=\"point\" transform=\"translate(569.4,183.5)\" d=\"M3,0A3,3 0 1,1 0,-3A3,3 0 0,1 3,0Z\" style=\"opacity: 1; stroke-width: 0px; fill: rgb(178, 24, 43); fill-opacity: 1;\"/><path class=\"point\" transform=\"translate(569.43,183.5)\" d=\"M3,0A3,3 0 1,1 0,-3A3,3 0 0,1 3,0Z\" style=\"opacity: 1; stroke-width: 0px; fill: rgb(178, 24, 43); fill-opacity: 1;\"/><path class=\"point\" transform=\"translate(569.54,183.5)\" d=\"M3,0A3,3 0 1,1 0,-3A3,3 0 0,1 3,0Z\" style=\"opacity: 1; stroke-width: 0px; fill: rgb(178, 24, 43); fill-opacity: 1;\"/><path class=\"point\" transform=\"translate(570.17,183.5)\" d=\"M3,0A3,3 0 1,1 0,-3A3,3 0 0,1 3,0Z\" style=\"opacity: 1; stroke-width: 0px; fill: rgb(178, 24, 43); fill-opacity: 1;\"/><path class=\"point\" transform=\"translate(570.41,183.5)\" d=\"M3,0A3,3 0 1,1 0,-3A3,3 0 0,1 3,0Z\" style=\"opacity: 1; stroke-width: 0px; fill: rgb(178, 24, 43); fill-opacity: 1;\"/><path class=\"point\" transform=\"translate(570.42,183.5)\" d=\"M3,0A3,3 0 1,1 0,-3A3,3 0 0,1 3,0Z\" style=\"opacity: 1; stroke-width: 0px; fill: rgb(178, 24, 43); fill-opacity: 1;\"/><path class=\"point\" transform=\"translate(570.5,183.5)\" d=\"M3,0A3,3 0 1,1 0,-3A3,3 0 0,1 3,0Z\" style=\"opacity: 1; stroke-width: 0px; fill: rgb(178, 24, 43); fill-opacity: 1;\"/><path class=\"point\" transform=\"translate(571.05,183.5)\" d=\"M3,0A3,3 0 1,1 0,-3A3,3 0 0,1 3,0Z\" style=\"opacity: 1; stroke-width: 0px; fill: rgb(178, 24, 43); fill-opacity: 1;\"/><path class=\"point\" transform=\"translate(571.64,183.5)\" d=\"M3,0A3,3 0 1,1 0,-3A3,3 0 0,1 3,0Z\" style=\"opacity: 1; stroke-width: 0px; fill: rgb(178, 24, 43); fill-opacity: 1;\"/><path class=\"point\" transform=\"translate(572.19,183.5)\" d=\"M3,0A3,3 0 1,1 0,-3A3,3 0 0,1 3,0Z\" style=\"opacity: 1; stroke-width: 0px; fill: rgb(178, 24, 43); fill-opacity: 1;\"/><path class=\"point\" transform=\"translate(572.6,183.5)\" d=\"M3,0A3,3 0 1,1 0,-3A3,3 0 0,1 3,0Z\" style=\"opacity: 1; stroke-width: 0px; fill: rgb(178, 24, 43); fill-opacity: 1;\"/><path class=\"point\" transform=\"translate(573.13,183.5)\" d=\"M3,0A3,3 0 1,1 0,-3A3,3 0 0,1 3,0Z\" style=\"opacity: 1; stroke-width: 0px; fill: rgb(178, 24, 43); fill-opacity: 1;\"/><path class=\"point\" transform=\"translate(573.5,183.5)\" d=\"M3,0A3,3 0 1,1 0,-3A3,3 0 0,1 3,0Z\" style=\"opacity: 1; stroke-width: 0px; fill: rgb(178, 24, 43); fill-opacity: 1;\"/><path class=\"point\" transform=\"translate(573.79,183.5)\" d=\"M3,0A3,3 0 1,1 0,-3A3,3 0 0,1 3,0Z\" style=\"opacity: 1; stroke-width: 0px; fill: rgb(178, 24, 43); fill-opacity: 1;\"/><path class=\"point\" transform=\"translate(573.84,183.5)\" d=\"M3,0A3,3 0 1,1 0,-3A3,3 0 0,1 3,0Z\" style=\"opacity: 1; stroke-width: 0px; fill: rgb(178, 24, 43); fill-opacity: 1;\"/><path class=\"point\" transform=\"translate(573.95,183.5)\" d=\"M3,0A3,3 0 1,1 0,-3A3,3 0 0,1 3,0Z\" style=\"opacity: 1; stroke-width: 0px; fill: rgb(178, 24, 43); fill-opacity: 1;\"/><path class=\"point\" transform=\"translate(574.21,183.5)\" d=\"M3,0A3,3 0 1,1 0,-3A3,3 0 0,1 3,0Z\" style=\"opacity: 1; stroke-width: 0px; fill: rgb(178, 24, 43); fill-opacity: 1;\"/><path class=\"point\" transform=\"translate(574.45,183.5)\" d=\"M3,0A3,3 0 1,1 0,-3A3,3 0 0,1 3,0Z\" style=\"opacity: 1; stroke-width: 0px; fill: rgb(178, 24, 43); fill-opacity: 1;\"/><path class=\"point\" transform=\"translate(574.52,183.5)\" d=\"M3,0A3,3 0 1,1 0,-3A3,3 0 0,1 3,0Z\" style=\"opacity: 1; stroke-width: 0px; fill: rgb(178, 24, 43); fill-opacity: 1;\"/><path class=\"point\" transform=\"translate(574.64,183.5)\" d=\"M3,0A3,3 0 1,1 0,-3A3,3 0 0,1 3,0Z\" style=\"opacity: 1; stroke-width: 0px; fill: rgb(178, 24, 43); fill-opacity: 1;\"/><path class=\"point\" transform=\"translate(574.69,183.5)\" d=\"M3,0A3,3 0 1,1 0,-3A3,3 0 0,1 3,0Z\" style=\"opacity: 1; stroke-width: 0px; fill: rgb(178, 24, 43); fill-opacity: 1;\"/><path class=\"point\" transform=\"translate(575.06,183.5)\" d=\"M3,0A3,3 0 1,1 0,-3A3,3 0 0,1 3,0Z\" style=\"opacity: 1; stroke-width: 0px; fill: rgb(178, 24, 43); fill-opacity: 1;\"/><path class=\"point\" transform=\"translate(575.17,183.5)\" d=\"M3,0A3,3 0 1,1 0,-3A3,3 0 0,1 3,0Z\" style=\"opacity: 1; stroke-width: 0px; fill: rgb(178, 24, 43); fill-opacity: 1;\"/><path class=\"point\" transform=\"translate(575.3,183.5)\" d=\"M3,0A3,3 0 1,1 0,-3A3,3 0 0,1 3,0Z\" style=\"opacity: 1; stroke-width: 0px; fill: rgb(178, 24, 43); fill-opacity: 1;\"/><path class=\"point\" transform=\"translate(575.35,183.5)\" d=\"M3,0A3,3 0 1,1 0,-3A3,3 0 0,1 3,0Z\" style=\"opacity: 1; stroke-width: 0px; fill: rgb(178, 24, 43); fill-opacity: 1;\"/><path class=\"point\" transform=\"translate(575.45,183.5)\" d=\"M3,0A3,3 0 1,1 0,-3A3,3 0 0,1 3,0Z\" style=\"opacity: 1; stroke-width: 0px; fill: rgb(178, 24, 43); fill-opacity: 1;\"/><path class=\"point\" transform=\"translate(575.46,183.5)\" d=\"M3,0A3,3 0 1,1 0,-3A3,3 0 0,1 3,0Z\" style=\"opacity: 1; stroke-width: 0px; fill: rgb(178, 24, 43); fill-opacity: 1;\"/><path class=\"point\" transform=\"translate(575.79,183.5)\" d=\"M3,0A3,3 0 1,1 0,-3A3,3 0 0,1 3,0Z\" style=\"opacity: 1; stroke-width: 0px; fill: rgb(178, 24, 43); fill-opacity: 1;\"/><path class=\"point\" transform=\"translate(575.8,183.5)\" d=\"M3,0A3,3 0 1,1 0,-3A3,3 0 0,1 3,0Z\" style=\"opacity: 1; stroke-width: 0px; fill: rgb(178, 24, 43); fill-opacity: 1;\"/><path class=\"point\" transform=\"translate(576.74,183.5)\" d=\"M3,0A3,3 0 1,1 0,-3A3,3 0 0,1 3,0Z\" style=\"opacity: 1; stroke-width: 0px; fill: rgb(178, 24, 43); fill-opacity: 1;\"/><path class=\"point\" transform=\"translate(576.9,183.5)\" d=\"M3,0A3,3 0 1,1 0,-3A3,3 0 0,1 3,0Z\" style=\"opacity: 1; stroke-width: 0px; fill: rgb(178, 24, 43); fill-opacity: 1;\"/><path class=\"point\" transform=\"translate(577.08,183.5)\" d=\"M3,0A3,3 0 1,1 0,-3A3,3 0 0,1 3,0Z\" style=\"opacity: 1; stroke-width: 0px; fill: rgb(178, 24, 43); fill-opacity: 1;\"/><path class=\"point\" transform=\"translate(577.4,183.5)\" d=\"M3,0A3,3 0 1,1 0,-3A3,3 0 0,1 3,0Z\" style=\"opacity: 1; stroke-width: 0px; fill: rgb(178, 24, 43); fill-opacity: 1;\"/><path class=\"point\" transform=\"translate(577.59,183.5)\" d=\"M3,0A3,3 0 1,1 0,-3A3,3 0 0,1 3,0Z\" style=\"opacity: 1; stroke-width: 0px; fill: rgb(178, 24, 43); fill-opacity: 1;\"/><path class=\"point\" transform=\"translate(577.85,183.5)\" d=\"M3,0A3,3 0 1,1 0,-3A3,3 0 0,1 3,0Z\" style=\"opacity: 1; stroke-width: 0px; fill: rgb(178, 24, 43); fill-opacity: 1;\"/><path class=\"point\" transform=\"translate(578.01,183.5)\" d=\"M3,0A3,3 0 1,1 0,-3A3,3 0 0,1 3,0Z\" style=\"opacity: 1; stroke-width: 0px; fill: rgb(178, 24, 43); fill-opacity: 1;\"/><path class=\"point\" transform=\"translate(578.06,183.5)\" d=\"M3,0A3,3 0 1,1 0,-3A3,3 0 0,1 3,0Z\" style=\"opacity: 1; stroke-width: 0px; fill: rgb(178, 24, 43); fill-opacity: 1;\"/><path class=\"point\" transform=\"translate(578.3,183.5)\" d=\"M3,0A3,3 0 1,1 0,-3A3,3 0 0,1 3,0Z\" style=\"opacity: 1; stroke-width: 0px; fill: rgb(178, 24, 43); fill-opacity: 1;\"/><path class=\"point\" transform=\"translate(578.41,183.5)\" d=\"M3,0A3,3 0 1,1 0,-3A3,3 0 0,1 3,0Z\" style=\"opacity: 1; stroke-width: 0px; fill: rgb(178, 24, 43); fill-opacity: 1;\"/><path class=\"point\" transform=\"translate(578.51,183.5)\" d=\"M3,0A3,3 0 1,1 0,-3A3,3 0 0,1 3,0Z\" style=\"opacity: 1; stroke-width: 0px; fill: rgb(178, 24, 43); fill-opacity: 1;\"/><path class=\"point\" transform=\"translate(578.62,183.5)\" d=\"M3,0A3,3 0 1,1 0,-3A3,3 0 0,1 3,0Z\" style=\"opacity: 1; stroke-width: 0px; fill: rgb(178, 24, 43); fill-opacity: 1;\"/><path class=\"point\" transform=\"translate(578.65,183.5)\" d=\"M3,0A3,3 0 1,1 0,-3A3,3 0 0,1 3,0Z\" style=\"opacity: 1; stroke-width: 0px; fill: rgb(178, 24, 43); fill-opacity: 1;\"/><path class=\"point\" transform=\"translate(578.7,183.5)\" d=\"M3,0A3,3 0 1,1 0,-3A3,3 0 0,1 3,0Z\" style=\"opacity: 1; stroke-width: 0px; fill: rgb(178, 24, 43); fill-opacity: 1;\"/><path class=\"point\" transform=\"translate(578.88,183.5)\" d=\"M3,0A3,3 0 1,1 0,-3A3,3 0 0,1 3,0Z\" style=\"opacity: 1; stroke-width: 0px; fill: rgb(178, 24, 43); fill-opacity: 1;\"/><path class=\"point\" transform=\"translate(579.13,183.5)\" d=\"M3,0A3,3 0 1,1 0,-3A3,3 0 0,1 3,0Z\" style=\"opacity: 1; stroke-width: 0px; fill: rgb(178, 24, 43); fill-opacity: 1;\"/><path class=\"point\" transform=\"translate(579.5,183.5)\" d=\"M3,0A3,3 0 1,1 0,-3A3,3 0 0,1 3,0Z\" style=\"opacity: 1; stroke-width: 0px; fill: rgb(178, 24, 43); fill-opacity: 1;\"/><path class=\"point\" transform=\"translate(579.68,183.5)\" d=\"M3,0A3,3 0 1,1 0,-3A3,3 0 0,1 3,0Z\" style=\"opacity: 1; stroke-width: 0px; fill: rgb(178, 24, 43); fill-opacity: 1;\"/><path class=\"point\" transform=\"translate(580.28,183.5)\" d=\"M3,0A3,3 0 1,1 0,-3A3,3 0 0,1 3,0Z\" style=\"opacity: 1; stroke-width: 0px; fill: rgb(178, 24, 43); fill-opacity: 1;\"/><path class=\"point\" transform=\"translate(580.34,183.5)\" d=\"M3,0A3,3 0 1,1 0,-3A3,3 0 0,1 3,0Z\" style=\"opacity: 1; stroke-width: 0px; fill: rgb(178, 24, 43); fill-opacity: 1;\"/><path class=\"point\" transform=\"translate(580.57,183.5)\" d=\"M3,0A3,3 0 1,1 0,-3A3,3 0 0,1 3,0Z\" style=\"opacity: 1; stroke-width: 0px; fill: rgb(178, 24, 43); fill-opacity: 1;\"/><path class=\"point\" transform=\"translate(580.8,183.5)\" d=\"M3,0A3,3 0 1,1 0,-3A3,3 0 0,1 3,0Z\" style=\"opacity: 1; stroke-width: 0px; fill: rgb(178, 24, 43); fill-opacity: 1;\"/><path class=\"point\" transform=\"translate(580.83,183.5)\" d=\"M3,0A3,3 0 1,1 0,-3A3,3 0 0,1 3,0Z\" style=\"opacity: 1; stroke-width: 0px; fill: rgb(178, 24, 43); fill-opacity: 1;\"/><path class=\"point\" transform=\"translate(580.99,183.5)\" d=\"M3,0A3,3 0 1,1 0,-3A3,3 0 0,1 3,0Z\" style=\"opacity: 1; stroke-width: 0px; fill: rgb(178, 24, 43); fill-opacity: 1;\"/><path class=\"point\" transform=\"translate(581.17,183.5)\" d=\"M3,0A3,3 0 1,1 0,-3A3,3 0 0,1 3,0Z\" style=\"opacity: 1; stroke-width: 0px; fill: rgb(178, 24, 43); fill-opacity: 1;\"/><path class=\"point\" transform=\"translate(581.33,183.5)\" d=\"M3,0A3,3 0 1,1 0,-3A3,3 0 0,1 3,0Z\" style=\"opacity: 1; stroke-width: 0px; fill: rgb(178, 24, 43); fill-opacity: 1;\"/><path class=\"point\" transform=\"translate(581.98,183.5)\" d=\"M3,0A3,3 0 1,1 0,-3A3,3 0 0,1 3,0Z\" style=\"opacity: 1; stroke-width: 0px; fill: rgb(178, 24, 43); fill-opacity: 1;\"/><path class=\"point\" transform=\"translate(582.1,183.5)\" d=\"M3,0A3,3 0 1,1 0,-3A3,3 0 0,1 3,0Z\" style=\"opacity: 1; stroke-width: 0px; fill: rgb(178, 24, 43); fill-opacity: 1;\"/><path class=\"point\" transform=\"translate(582.46,183.5)\" d=\"M3,0A3,3 0 1,1 0,-3A3,3 0 0,1 3,0Z\" style=\"opacity: 1; stroke-width: 0px; fill: rgb(178, 24, 43); fill-opacity: 1;\"/><path class=\"point\" transform=\"translate(582.84,183.5)\" d=\"M3,0A3,3 0 1,1 0,-3A3,3 0 0,1 3,0Z\" style=\"opacity: 1; stroke-width: 0px; fill: rgb(178, 24, 43); fill-opacity: 1;\"/><path class=\"point\" transform=\"translate(583.14,183.5)\" d=\"M3,0A3,3 0 1,1 0,-3A3,3 0 0,1 3,0Z\" style=\"opacity: 1; stroke-width: 0px; fill: rgb(178, 24, 43); fill-opacity: 1;\"/><path class=\"point\" transform=\"translate(583.27,183.5)\" d=\"M3,0A3,3 0 1,1 0,-3A3,3 0 0,1 3,0Z\" style=\"opacity: 1; stroke-width: 0px; fill: rgb(178, 24, 43); fill-opacity: 1;\"/><path class=\"point\" transform=\"translate(583.63,183.5)\" d=\"M3,0A3,3 0 1,1 0,-3A3,3 0 0,1 3,0Z\" style=\"opacity: 1; stroke-width: 0px; fill: rgb(178, 24, 43); fill-opacity: 1;\"/><path class=\"point\" transform=\"translate(583.71,183.5)\" d=\"M3,0A3,3 0 1,1 0,-3A3,3 0 0,1 3,0Z\" style=\"opacity: 1; stroke-width: 0px; fill: rgb(178, 24, 43); fill-opacity: 1;\"/><path class=\"point\" transform=\"translate(583.89,183.5)\" d=\"M3,0A3,3 0 1,1 0,-3A3,3 0 0,1 3,0Z\" style=\"opacity: 1; stroke-width: 0px; fill: rgb(178, 24, 43); fill-opacity: 1;\"/><path class=\"point\" transform=\"translate(584.15,183.5)\" d=\"M3,0A3,3 0 1,1 0,-3A3,3 0 0,1 3,0Z\" style=\"opacity: 1; stroke-width: 0px; fill: rgb(178, 24, 43); fill-opacity: 1;\"/><path class=\"point\" transform=\"translate(584.3,183.5)\" d=\"M3,0A3,3 0 1,1 0,-3A3,3 0 0,1 3,0Z\" style=\"opacity: 1; stroke-width: 0px; fill: rgb(178, 24, 43); fill-opacity: 1;\"/><path class=\"point\" transform=\"translate(584.42,183.5)\" d=\"M3,0A3,3 0 1,1 0,-3A3,3 0 0,1 3,0Z\" style=\"opacity: 1; stroke-width: 0px; fill: rgb(178, 24, 43); fill-opacity: 1;\"/><path class=\"point\" transform=\"translate(584.46,183.5)\" d=\"M3,0A3,3 0 1,1 0,-3A3,3 0 0,1 3,0Z\" style=\"opacity: 1; stroke-width: 0px; fill: rgb(178, 24, 43); fill-opacity: 1;\"/><path class=\"point\" transform=\"translate(584.59,183.5)\" d=\"M3,0A3,3 0 1,1 0,-3A3,3 0 0,1 3,0Z\" style=\"opacity: 1; stroke-width: 0px; fill: rgb(178, 24, 43); fill-opacity: 1;\"/><path class=\"point\" transform=\"translate(585.26,183.5)\" d=\"M3,0A3,3 0 1,1 0,-3A3,3 0 0,1 3,0Z\" style=\"opacity: 1; stroke-width: 0px; fill: rgb(178, 24, 43); fill-opacity: 1;\"/><path class=\"point\" transform=\"translate(585.39,183.5)\" d=\"M3,0A3,3 0 1,1 0,-3A3,3 0 0,1 3,0Z\" style=\"opacity: 1; stroke-width: 0px; fill: rgb(178, 24, 43); fill-opacity: 1;\"/><path class=\"point\" transform=\"translate(585.66,183.5)\" d=\"M3,0A3,3 0 1,1 0,-3A3,3 0 0,1 3,0Z\" style=\"opacity: 1; stroke-width: 0px; fill: rgb(178, 24, 43); fill-opacity: 1;\"/><path class=\"point\" transform=\"translate(585.92,183.5)\" d=\"M3,0A3,3 0 1,1 0,-3A3,3 0 0,1 3,0Z\" style=\"opacity: 1; stroke-width: 0px; fill: rgb(178, 24, 43); fill-opacity: 1;\"/><path class=\"point\" transform=\"translate(586.85,183.5)\" d=\"M3,0A3,3 0 1,1 0,-3A3,3 0 0,1 3,0Z\" style=\"opacity: 1; stroke-width: 0px; fill: rgb(178, 24, 43); fill-opacity: 1;\"/><path class=\"point\" transform=\"translate(587.03,183.5)\" d=\"M3,0A3,3 0 1,1 0,-3A3,3 0 0,1 3,0Z\" style=\"opacity: 1; stroke-width: 0px; fill: rgb(178, 24, 43); fill-opacity: 1;\"/><path class=\"point\" transform=\"translate(587.3,183.5)\" d=\"M3,0A3,3 0 1,1 0,-3A3,3 0 0,1 3,0Z\" style=\"opacity: 1; stroke-width: 0px; fill: rgb(178, 24, 43); fill-opacity: 1;\"/><path class=\"point\" transform=\"translate(587.42,183.5)\" d=\"M3,0A3,3 0 1,1 0,-3A3,3 0 0,1 3,0Z\" style=\"opacity: 1; stroke-width: 0px; fill: rgb(178, 24, 43); fill-opacity: 1;\"/><path class=\"point\" transform=\"translate(587.55,183.5)\" d=\"M3,0A3,3 0 1,1 0,-3A3,3 0 0,1 3,0Z\" style=\"opacity: 1; stroke-width: 0px; fill: rgb(178, 24, 43); fill-opacity: 1;\"/><path class=\"point\" transform=\"translate(587.57,183.5)\" d=\"M3,0A3,3 0 1,1 0,-3A3,3 0 0,1 3,0Z\" style=\"opacity: 1; stroke-width: 0px; fill: rgb(178, 24, 43); fill-opacity: 1;\"/><path class=\"point\" transform=\"translate(588.05,183.5)\" d=\"M3,0A3,3 0 1,1 0,-3A3,3 0 0,1 3,0Z\" style=\"opacity: 1; stroke-width: 0px; fill: rgb(178, 24, 43); fill-opacity: 1;\"/><path class=\"point\" transform=\"translate(588.21,183.5)\" d=\"M3,0A3,3 0 1,1 0,-3A3,3 0 0,1 3,0Z\" style=\"opacity: 1; stroke-width: 0px; fill: rgb(178, 24, 43); fill-opacity: 1;\"/><path class=\"point\" transform=\"translate(588.57,183.5)\" d=\"M3,0A3,3 0 1,1 0,-3A3,3 0 0,1 3,0Z\" style=\"opacity: 1; stroke-width: 0px; fill: rgb(178, 24, 43); fill-opacity: 1;\"/><path class=\"point\" transform=\"translate(588.72,183.5)\" d=\"M3,0A3,3 0 1,1 0,-3A3,3 0 0,1 3,0Z\" style=\"opacity: 1; stroke-width: 0px; fill: rgb(178, 24, 43); fill-opacity: 1;\"/><path class=\"point\" transform=\"translate(589.07,183.5)\" d=\"M3,0A3,3 0 1,1 0,-3A3,3 0 0,1 3,0Z\" style=\"opacity: 1; stroke-width: 0px; fill: rgb(178, 24, 43); fill-opacity: 1;\"/><path class=\"point\" transform=\"translate(589.07,183.5)\" d=\"M3,0A3,3 0 1,1 0,-3A3,3 0 0,1 3,0Z\" style=\"opacity: 1; stroke-width: 0px; fill: rgb(178, 24, 43); fill-opacity: 1;\"/><path class=\"point\" transform=\"translate(589.32,183.5)\" d=\"M3,0A3,3 0 1,1 0,-3A3,3 0 0,1 3,0Z\" style=\"opacity: 1; stroke-width: 0px; fill: rgb(178, 24, 43); fill-opacity: 1;\"/><path class=\"point\" transform=\"translate(589.51,183.5)\" d=\"M3,0A3,3 0 1,1 0,-3A3,3 0 0,1 3,0Z\" style=\"opacity: 1; stroke-width: 0px; fill: rgb(178, 24, 43); fill-opacity: 1;\"/><path class=\"point\" transform=\"translate(589.6,183.5)\" d=\"M3,0A3,3 0 1,1 0,-3A3,3 0 0,1 3,0Z\" style=\"opacity: 1; stroke-width: 0px; fill: rgb(178, 24, 43); fill-opacity: 1;\"/><path class=\"point\" transform=\"translate(589.84,183.5)\" d=\"M3,0A3,3 0 1,1 0,-3A3,3 0 0,1 3,0Z\" style=\"opacity: 1; stroke-width: 0px; fill: rgb(178, 24, 43); fill-opacity: 1;\"/><path class=\"point\" transform=\"translate(590.34,183.5)\" d=\"M3,0A3,3 0 1,1 0,-3A3,3 0 0,1 3,0Z\" style=\"opacity: 1; stroke-width: 0px; fill: rgb(178, 24, 43); fill-opacity: 1;\"/><path class=\"point\" transform=\"translate(590.37,183.5)\" d=\"M3,0A3,3 0 1,1 0,-3A3,3 0 0,1 3,0Z\" style=\"opacity: 1; stroke-width: 0px; fill: rgb(178, 24, 43); fill-opacity: 1;\"/><path class=\"point\" transform=\"translate(590.44,183.5)\" d=\"M3,0A3,3 0 1,1 0,-3A3,3 0 0,1 3,0Z\" style=\"opacity: 1; stroke-width: 0px; fill: rgb(178, 24, 43); fill-opacity: 1;\"/><path class=\"point\" transform=\"translate(590.53,183.5)\" d=\"M3,0A3,3 0 1,1 0,-3A3,3 0 0,1 3,0Z\" style=\"opacity: 1; stroke-width: 0px; fill: rgb(178, 24, 43); fill-opacity: 1;\"/><path class=\"point\" transform=\"translate(590.99,183.5)\" d=\"M3,0A3,3 0 1,1 0,-3A3,3 0 0,1 3,0Z\" style=\"opacity: 1; stroke-width: 0px; fill: rgb(178, 24, 43); fill-opacity: 1;\"/><path class=\"point\" transform=\"translate(591.44,183.5)\" d=\"M3,0A3,3 0 1,1 0,-3A3,3 0 0,1 3,0Z\" style=\"opacity: 1; stroke-width: 0px; fill: rgb(178, 24, 43); fill-opacity: 1;\"/><path class=\"point\" transform=\"translate(591.69,183.5)\" d=\"M3,0A3,3 0 1,1 0,-3A3,3 0 0,1 3,0Z\" style=\"opacity: 1; stroke-width: 0px; fill: rgb(178, 24, 43); fill-opacity: 1;\"/><path class=\"point\" transform=\"translate(591.9,183.5)\" d=\"M3,0A3,3 0 1,1 0,-3A3,3 0 0,1 3,0Z\" style=\"opacity: 1; stroke-width: 0px; fill: rgb(178, 24, 43); fill-opacity: 1;\"/><path class=\"point\" transform=\"translate(591.91,183.5)\" d=\"M3,0A3,3 0 1,1 0,-3A3,3 0 0,1 3,0Z\" style=\"opacity: 1; stroke-width: 0px; fill: rgb(178, 24, 43); fill-opacity: 1;\"/><path class=\"point\" transform=\"translate(592.14,183.5)\" d=\"M3,0A3,3 0 1,1 0,-3A3,3 0 0,1 3,0Z\" style=\"opacity: 1; stroke-width: 0px; fill: rgb(178, 24, 43); fill-opacity: 1;\"/><path class=\"point\" transform=\"translate(592.29,183.5)\" d=\"M3,0A3,3 0 1,1 0,-3A3,3 0 0,1 3,0Z\" style=\"opacity: 1; stroke-width: 0px; fill: rgb(178, 24, 43); fill-opacity: 1;\"/><path class=\"point\" transform=\"translate(592.31,183.5)\" d=\"M3,0A3,3 0 1,1 0,-3A3,3 0 0,1 3,0Z\" style=\"opacity: 1; stroke-width: 0px; fill: rgb(178, 24, 43); fill-opacity: 1;\"/><path class=\"point\" transform=\"translate(592.91,183.5)\" d=\"M3,0A3,3 0 1,1 0,-3A3,3 0 0,1 3,0Z\" style=\"opacity: 1; stroke-width: 0px; fill: rgb(178, 24, 43); fill-opacity: 1;\"/><path class=\"point\" transform=\"translate(593.16,183.5)\" d=\"M3,0A3,3 0 1,1 0,-3A3,3 0 0,1 3,0Z\" style=\"opacity: 1; stroke-width: 0px; fill: rgb(178, 24, 43); fill-opacity: 1;\"/><path class=\"point\" transform=\"translate(593.21,183.5)\" d=\"M3,0A3,3 0 1,1 0,-3A3,3 0 0,1 3,0Z\" style=\"opacity: 1; stroke-width: 0px; fill: rgb(178, 24, 43); fill-opacity: 1;\"/><path class=\"point\" transform=\"translate(594.23,183.5)\" d=\"M3,0A3,3 0 1,1 0,-3A3,3 0 0,1 3,0Z\" style=\"opacity: 1; stroke-width: 0px; fill: rgb(178, 24, 43); fill-opacity: 1;\"/><path class=\"point\" transform=\"translate(594.59,183.5)\" d=\"M3,0A3,3 0 1,1 0,-3A3,3 0 0,1 3,0Z\" style=\"opacity: 1; stroke-width: 0px; fill: rgb(178, 24, 43); fill-opacity: 1;\"/><path class=\"point\" transform=\"translate(594.72,183.5)\" d=\"M3,0A3,3 0 1,1 0,-3A3,3 0 0,1 3,0Z\" style=\"opacity: 1; stroke-width: 0px; fill: rgb(178, 24, 43); fill-opacity: 1;\"/><path class=\"point\" transform=\"translate(595.3,183.5)\" d=\"M3,0A3,3 0 1,1 0,-3A3,3 0 0,1 3,0Z\" style=\"opacity: 1; stroke-width: 0px; fill: rgb(178, 24, 43); fill-opacity: 1;\"/><path class=\"point\" transform=\"translate(595.32,183.5)\" d=\"M3,0A3,3 0 1,1 0,-3A3,3 0 0,1 3,0Z\" style=\"opacity: 1; stroke-width: 0px; fill: rgb(178, 24, 43); fill-opacity: 1;\"/><path class=\"point\" transform=\"translate(595.53,183.5)\" d=\"M3,0A3,3 0 1,1 0,-3A3,3 0 0,1 3,0Z\" style=\"opacity: 1; stroke-width: 0px; fill: rgb(178, 24, 43); fill-opacity: 1;\"/><path class=\"point\" transform=\"translate(595.54,183.5)\" d=\"M3,0A3,3 0 1,1 0,-3A3,3 0 0,1 3,0Z\" style=\"opacity: 1; stroke-width: 0px; fill: rgb(178, 24, 43); fill-opacity: 1;\"/><path class=\"point\" transform=\"translate(595.59,183.5)\" d=\"M3,0A3,3 0 1,1 0,-3A3,3 0 0,1 3,0Z\" style=\"opacity: 1; stroke-width: 0px; fill: rgb(178, 24, 43); fill-opacity: 1;\"/><path class=\"point\" transform=\"translate(595.72,183.5)\" d=\"M3,0A3,3 0 1,1 0,-3A3,3 0 0,1 3,0Z\" style=\"opacity: 1; stroke-width: 0px; fill: rgb(178, 24, 43); fill-opacity: 1;\"/><path class=\"point\" transform=\"translate(595.77,183.5)\" d=\"M3,0A3,3 0 1,1 0,-3A3,3 0 0,1 3,0Z\" style=\"opacity: 1; stroke-width: 0px; fill: rgb(178, 24, 43); fill-opacity: 1;\"/><path class=\"point\" transform=\"translate(595.79,183.5)\" d=\"M3,0A3,3 0 1,1 0,-3A3,3 0 0,1 3,0Z\" style=\"opacity: 1; stroke-width: 0px; fill: rgb(178, 24, 43); fill-opacity: 1;\"/><path class=\"point\" transform=\"translate(595.85,183.5)\" d=\"M3,0A3,3 0 1,1 0,-3A3,3 0 0,1 3,0Z\" style=\"opacity: 1; stroke-width: 0px; fill: rgb(178, 24, 43); fill-opacity: 1;\"/><path class=\"point\" transform=\"translate(595.98,183.5)\" d=\"M3,0A3,3 0 1,1 0,-3A3,3 0 0,1 3,0Z\" style=\"opacity: 1; stroke-width: 0px; fill: rgb(178, 24, 43); fill-opacity: 1;\"/><path class=\"point\" transform=\"translate(596.33,183.5)\" d=\"M3,0A3,3 0 1,1 0,-3A3,3 0 0,1 3,0Z\" style=\"opacity: 1; stroke-width: 0px; fill: rgb(178, 24, 43); fill-opacity: 1;\"/><path class=\"point\" transform=\"translate(597.2,183.5)\" d=\"M3,0A3,3 0 1,1 0,-3A3,3 0 0,1 3,0Z\" style=\"opacity: 1; stroke-width: 0px; fill: rgb(178, 24, 43); fill-opacity: 1;\"/><path class=\"point\" transform=\"translate(597.84,183.5)\" d=\"M3,0A3,3 0 1,1 0,-3A3,3 0 0,1 3,0Z\" style=\"opacity: 1; stroke-width: 0px; fill: rgb(178, 24, 43); fill-opacity: 1;\"/><path class=\"point\" transform=\"translate(598.14,183.5)\" d=\"M3,0A3,3 0 1,1 0,-3A3,3 0 0,1 3,0Z\" style=\"opacity: 1; stroke-width: 0px; fill: rgb(178, 24, 43); fill-opacity: 1;\"/><path class=\"point\" transform=\"translate(598.17,183.5)\" d=\"M3,0A3,3 0 1,1 0,-3A3,3 0 0,1 3,0Z\" style=\"opacity: 1; stroke-width: 0px; fill: rgb(178, 24, 43); fill-opacity: 1;\"/><path class=\"point\" transform=\"translate(598.49,183.5)\" d=\"M3,0A3,3 0 1,1 0,-3A3,3 0 0,1 3,0Z\" style=\"opacity: 1; stroke-width: 0px; fill: rgb(178, 24, 43); fill-opacity: 1;\"/><path class=\"point\" transform=\"translate(598.67,183.5)\" d=\"M3,0A3,3 0 1,1 0,-3A3,3 0 0,1 3,0Z\" style=\"opacity: 1; stroke-width: 0px; fill: rgb(178, 24, 43); fill-opacity: 1;\"/><path class=\"point\" transform=\"translate(598.75,183.5)\" d=\"M3,0A3,3 0 1,1 0,-3A3,3 0 0,1 3,0Z\" style=\"opacity: 1; stroke-width: 0px; fill: rgb(178, 24, 43); fill-opacity: 1;\"/><path class=\"point\" transform=\"translate(598.88,183.5)\" d=\"M3,0A3,3 0 1,1 0,-3A3,3 0 0,1 3,0Z\" style=\"opacity: 1; stroke-width: 0px; fill: rgb(178, 24, 43); fill-opacity: 1;\"/><path class=\"point\" transform=\"translate(599.68,183.5)\" d=\"M3,0A3,3 0 1,1 0,-3A3,3 0 0,1 3,0Z\" style=\"opacity: 1; stroke-width: 0px; fill: rgb(178, 24, 43); fill-opacity: 1;\"/><path class=\"point\" transform=\"translate(599.97,183.5)\" d=\"M3,0A3,3 0 1,1 0,-3A3,3 0 0,1 3,0Z\" style=\"opacity: 1; stroke-width: 0px; fill: rgb(178, 24, 43); fill-opacity: 1;\"/><path class=\"point\" transform=\"translate(600.63,183.5)\" d=\"M3,0A3,3 0 1,1 0,-3A3,3 0 0,1 3,0Z\" style=\"opacity: 1; stroke-width: 0px; fill: rgb(178, 24, 43); fill-opacity: 1;\"/><path class=\"point\" transform=\"translate(600.84,183.5)\" d=\"M3,0A3,3 0 1,1 0,-3A3,3 0 0,1 3,0Z\" style=\"opacity: 1; stroke-width: 0px; fill: rgb(178, 24, 43); fill-opacity: 1;\"/><path class=\"point\" transform=\"translate(600.94,183.5)\" d=\"M3,0A3,3 0 1,1 0,-3A3,3 0 0,1 3,0Z\" style=\"opacity: 1; stroke-width: 0px; fill: rgb(178, 24, 43); fill-opacity: 1;\"/><path class=\"point\" transform=\"translate(601.25,183.5)\" d=\"M3,0A3,3 0 1,1 0,-3A3,3 0 0,1 3,0Z\" style=\"opacity: 1; stroke-width: 0px; fill: rgb(178, 24, 43); fill-opacity: 1;\"/><path class=\"point\" transform=\"translate(601.73,183.5)\" d=\"M3,0A3,3 0 1,1 0,-3A3,3 0 0,1 3,0Z\" style=\"opacity: 1; stroke-width: 0px; fill: rgb(178, 24, 43); fill-opacity: 1;\"/><path class=\"point\" transform=\"translate(601.78,183.5)\" d=\"M3,0A3,3 0 1,1 0,-3A3,3 0 0,1 3,0Z\" style=\"opacity: 1; stroke-width: 0px; fill: rgb(178, 24, 43); fill-opacity: 1;\"/><path class=\"point\" transform=\"translate(601.97,183.5)\" d=\"M3,0A3,3 0 1,1 0,-3A3,3 0 0,1 3,0Z\" style=\"opacity: 1; stroke-width: 0px; fill: rgb(178, 24, 43); fill-opacity: 1;\"/><path class=\"point\" transform=\"translate(602.28,183.5)\" d=\"M3,0A3,3 0 1,1 0,-3A3,3 0 0,1 3,0Z\" style=\"opacity: 1; stroke-width: 0px; fill: rgb(178, 24, 43); fill-opacity: 1;\"/><path class=\"point\" transform=\"translate(602.59,183.5)\" d=\"M3,0A3,3 0 1,1 0,-3A3,3 0 0,1 3,0Z\" style=\"opacity: 1; stroke-width: 0px; fill: rgb(178, 24, 43); fill-opacity: 1;\"/><path class=\"point\" transform=\"translate(603.48,183.5)\" d=\"M3,0A3,3 0 1,1 0,-3A3,3 0 0,1 3,0Z\" style=\"opacity: 1; stroke-width: 0px; fill: rgb(178, 24, 43); fill-opacity: 1;\"/><path class=\"point\" transform=\"translate(603.69,183.5)\" d=\"M3,0A3,3 0 1,1 0,-3A3,3 0 0,1 3,0Z\" style=\"opacity: 1; stroke-width: 0px; fill: rgb(178, 24, 43); fill-opacity: 1;\"/><path class=\"point\" transform=\"translate(604.22,183.5)\" d=\"M3,0A3,3 0 1,1 0,-3A3,3 0 0,1 3,0Z\" style=\"opacity: 1; stroke-width: 0px; fill: rgb(178, 24, 43); fill-opacity: 1;\"/><path class=\"point\" transform=\"translate(604.32,183.5)\" d=\"M3,0A3,3 0 1,1 0,-3A3,3 0 0,1 3,0Z\" style=\"opacity: 1; stroke-width: 0px; fill: rgb(178, 24, 43); fill-opacity: 1;\"/><path class=\"point\" transform=\"translate(604.73,183.5)\" d=\"M3,0A3,3 0 1,1 0,-3A3,3 0 0,1 3,0Z\" style=\"opacity: 1; stroke-width: 0px; fill: rgb(178, 24, 43); fill-opacity: 1;\"/><path class=\"point\" transform=\"translate(604.9,183.5)\" d=\"M3,0A3,3 0 1,1 0,-3A3,3 0 0,1 3,0Z\" style=\"opacity: 1; stroke-width: 0px; fill: rgb(178, 24, 43); fill-opacity: 1;\"/><path class=\"point\" transform=\"translate(605.03,183.5)\" d=\"M3,0A3,3 0 1,1 0,-3A3,3 0 0,1 3,0Z\" style=\"opacity: 1; stroke-width: 0px; fill: rgb(178, 24, 43); fill-opacity: 1;\"/><path class=\"point\" transform=\"translate(605.24,183.5)\" d=\"M3,0A3,3 0 1,1 0,-3A3,3 0 0,1 3,0Z\" style=\"opacity: 1; stroke-width: 0px; fill: rgb(178, 24, 43); fill-opacity: 1;\"/><path class=\"point\" transform=\"translate(605.26,183.5)\" d=\"M3,0A3,3 0 1,1 0,-3A3,3 0 0,1 3,0Z\" style=\"opacity: 1; stroke-width: 0px; fill: rgb(178, 24, 43); fill-opacity: 1;\"/><path class=\"point\" transform=\"translate(605.51,183.5)\" d=\"M3,0A3,3 0 1,1 0,-3A3,3 0 0,1 3,0Z\" style=\"opacity: 1; stroke-width: 0px; fill: rgb(178, 24, 43); fill-opacity: 1;\"/><path class=\"point\" transform=\"translate(605.98,183.5)\" d=\"M3,0A3,3 0 1,1 0,-3A3,3 0 0,1 3,0Z\" style=\"opacity: 1; stroke-width: 0px; fill: rgb(178, 24, 43); fill-opacity: 1;\"/><path class=\"point\" transform=\"translate(606.02,183.5)\" d=\"M3,0A3,3 0 1,1 0,-3A3,3 0 0,1 3,0Z\" style=\"opacity: 1; stroke-width: 0px; fill: rgb(178, 24, 43); fill-opacity: 1;\"/><path class=\"point\" transform=\"translate(606.63,183.5)\" d=\"M3,0A3,3 0 1,1 0,-3A3,3 0 0,1 3,0Z\" style=\"opacity: 1; stroke-width: 0px; fill: rgb(178, 24, 43); fill-opacity: 1;\"/><path class=\"point\" transform=\"translate(607.08,183.5)\" d=\"M3,0A3,3 0 1,1 0,-3A3,3 0 0,1 3,0Z\" style=\"opacity: 1; stroke-width: 0px; fill: rgb(178, 24, 43); fill-opacity: 1;\"/><path class=\"point\" transform=\"translate(607.18,183.5)\" d=\"M3,0A3,3 0 1,1 0,-3A3,3 0 0,1 3,0Z\" style=\"opacity: 1; stroke-width: 0px; fill: rgb(178, 24, 43); fill-opacity: 1;\"/><path class=\"point\" transform=\"translate(607.3,183.5)\" d=\"M3,0A3,3 0 1,1 0,-3A3,3 0 0,1 3,0Z\" style=\"opacity: 1; stroke-width: 0px; fill: rgb(178, 24, 43); fill-opacity: 1;\"/><path class=\"point\" transform=\"translate(607.45,183.5)\" d=\"M3,0A3,3 0 1,1 0,-3A3,3 0 0,1 3,0Z\" style=\"opacity: 1; stroke-width: 0px; fill: rgb(178, 24, 43); fill-opacity: 1;\"/><path class=\"point\" transform=\"translate(607.99,183.5)\" d=\"M3,0A3,3 0 1,1 0,-3A3,3 0 0,1 3,0Z\" style=\"opacity: 1; stroke-width: 0px; fill: rgb(178, 24, 43); fill-opacity: 1;\"/><path class=\"point\" transform=\"translate(608.36,183.5)\" d=\"M3,0A3,3 0 1,1 0,-3A3,3 0 0,1 3,0Z\" style=\"opacity: 1; stroke-width: 0px; fill: rgb(178, 24, 43); fill-opacity: 1;\"/><path class=\"point\" transform=\"translate(608.47,183.5)\" d=\"M3,0A3,3 0 1,1 0,-3A3,3 0 0,1 3,0Z\" style=\"opacity: 1; stroke-width: 0px; fill: rgb(178, 24, 43); fill-opacity: 1;\"/><path class=\"point\" transform=\"translate(608.54,183.5)\" d=\"M3,0A3,3 0 1,1 0,-3A3,3 0 0,1 3,0Z\" style=\"opacity: 1; stroke-width: 0px; fill: rgb(178, 24, 43); fill-opacity: 1;\"/><path class=\"point\" transform=\"translate(608.68,183.5)\" d=\"M3,0A3,3 0 1,1 0,-3A3,3 0 0,1 3,0Z\" style=\"opacity: 1; stroke-width: 0px; fill: rgb(178, 24, 43); fill-opacity: 1;\"/><path class=\"point\" transform=\"translate(608.78,183.5)\" d=\"M3,0A3,3 0 1,1 0,-3A3,3 0 0,1 3,0Z\" style=\"opacity: 1; stroke-width: 0px; fill: rgb(178, 24, 43); fill-opacity: 1;\"/><path class=\"point\" transform=\"translate(608.83,183.5)\" d=\"M3,0A3,3 0 1,1 0,-3A3,3 0 0,1 3,0Z\" style=\"opacity: 1; stroke-width: 0px; fill: rgb(178, 24, 43); fill-opacity: 1;\"/><path class=\"point\" transform=\"translate(608.96,183.5)\" d=\"M3,0A3,3 0 1,1 0,-3A3,3 0 0,1 3,0Z\" style=\"opacity: 1; stroke-width: 0px; fill: rgb(178, 24, 43); fill-opacity: 1;\"/><path class=\"point\" transform=\"translate(609.19,183.5)\" d=\"M3,0A3,3 0 1,1 0,-3A3,3 0 0,1 3,0Z\" style=\"opacity: 1; stroke-width: 0px; fill: rgb(178, 24, 43); fill-opacity: 1;\"/><path class=\"point\" transform=\"translate(609.26,183.5)\" d=\"M3,0A3,3 0 1,1 0,-3A3,3 0 0,1 3,0Z\" style=\"opacity: 1; stroke-width: 0px; fill: rgb(178, 24, 43); fill-opacity: 1;\"/><path class=\"point\" transform=\"translate(609.38,183.5)\" d=\"M3,0A3,3 0 1,1 0,-3A3,3 0 0,1 3,0Z\" style=\"opacity: 1; stroke-width: 0px; fill: rgb(178, 24, 43); fill-opacity: 1;\"/><path class=\"point\" transform=\"translate(609.51,183.5)\" d=\"M3,0A3,3 0 1,1 0,-3A3,3 0 0,1 3,0Z\" style=\"opacity: 1; stroke-width: 0px; fill: rgb(178, 24, 43); fill-opacity: 1;\"/><path class=\"point\" transform=\"translate(610.79,183.5)\" d=\"M3,0A3,3 0 1,1 0,-3A3,3 0 0,1 3,0Z\" style=\"opacity: 1; stroke-width: 0px; fill: rgb(178, 24, 43); fill-opacity: 1;\"/><path class=\"point\" transform=\"translate(611.72,183.5)\" d=\"M3,0A3,3 0 1,1 0,-3A3,3 0 0,1 3,0Z\" style=\"opacity: 1; stroke-width: 0px; fill: rgb(178, 24, 43); fill-opacity: 1;\"/><path class=\"point\" transform=\"translate(612.23,183.5)\" d=\"M3,0A3,3 0 1,1 0,-3A3,3 0 0,1 3,0Z\" style=\"opacity: 1; stroke-width: 0px; fill: rgb(178, 24, 43); fill-opacity: 1;\"/><path class=\"point\" transform=\"translate(612.8,183.5)\" d=\"M3,0A3,3 0 1,1 0,-3A3,3 0 0,1 3,0Z\" style=\"opacity: 1; stroke-width: 0px; fill: rgb(178, 24, 43); fill-opacity: 1;\"/><path class=\"point\" transform=\"translate(613.68,183.5)\" d=\"M3,0A3,3 0 1,1 0,-3A3,3 0 0,1 3,0Z\" style=\"opacity: 1; stroke-width: 0px; fill: rgb(178, 24, 43); fill-opacity: 1;\"/><path class=\"point\" transform=\"translate(614.29,183.5)\" d=\"M3,0A3,3 0 1,1 0,-3A3,3 0 0,1 3,0Z\" style=\"opacity: 1; stroke-width: 0px; fill: rgb(178, 24, 43); fill-opacity: 1;\"/><path class=\"point\" transform=\"translate(615.08,183.5)\" d=\"M3,0A3,3 0 1,1 0,-3A3,3 0 0,1 3,0Z\" style=\"opacity: 1; stroke-width: 0px; fill: rgb(178, 24, 43); fill-opacity: 1;\"/><path class=\"point\" transform=\"translate(615.23,183.5)\" d=\"M3,0A3,3 0 1,1 0,-3A3,3 0 0,1 3,0Z\" style=\"opacity: 1; stroke-width: 0px; fill: rgb(178, 24, 43); fill-opacity: 1;\"/><path class=\"point\" transform=\"translate(615.29,183.5)\" d=\"M3,0A3,3 0 1,1 0,-3A3,3 0 0,1 3,0Z\" style=\"opacity: 1; stroke-width: 0px; fill: rgb(178, 24, 43); fill-opacity: 1;\"/><path class=\"point\" transform=\"translate(615.31,183.5)\" d=\"M3,0A3,3 0 1,1 0,-3A3,3 0 0,1 3,0Z\" style=\"opacity: 1; stroke-width: 0px; fill: rgb(178, 24, 43); fill-opacity: 1;\"/><path class=\"point\" transform=\"translate(615.35,183.5)\" d=\"M3,0A3,3 0 1,1 0,-3A3,3 0 0,1 3,0Z\" style=\"opacity: 1; stroke-width: 0px; fill: rgb(178, 24, 43); fill-opacity: 1;\"/><path class=\"point\" transform=\"translate(615.47,183.5)\" d=\"M3,0A3,3 0 1,1 0,-3A3,3 0 0,1 3,0Z\" style=\"opacity: 1; stroke-width: 0px; fill: rgb(178, 24, 43); fill-opacity: 1;\"/><path class=\"point\" transform=\"translate(615.6,183.5)\" d=\"M3,0A3,3 0 1,1 0,-3A3,3 0 0,1 3,0Z\" style=\"opacity: 1; stroke-width: 0px; fill: rgb(178, 24, 43); fill-opacity: 1;\"/><path class=\"point\" transform=\"translate(616.38,183.5)\" d=\"M3,0A3,3 0 1,1 0,-3A3,3 0 0,1 3,0Z\" style=\"opacity: 1; stroke-width: 0px; fill: rgb(178, 24, 43); fill-opacity: 1;\"/><path class=\"point\" transform=\"translate(616.7,183.5)\" d=\"M3,0A3,3 0 1,1 0,-3A3,3 0 0,1 3,0Z\" style=\"opacity: 1; stroke-width: 0px; fill: rgb(178, 24, 43); fill-opacity: 1;\"/><path class=\"point\" transform=\"translate(617.08,183.5)\" d=\"M3,0A3,3 0 1,1 0,-3A3,3 0 0,1 3,0Z\" style=\"opacity: 1; stroke-width: 0px; fill: rgb(178, 24, 43); fill-opacity: 1;\"/><path class=\"point\" transform=\"translate(617.13,183.5)\" d=\"M3,0A3,3 0 1,1 0,-3A3,3 0 0,1 3,0Z\" style=\"opacity: 1; stroke-width: 0px; fill: rgb(178, 24, 43); fill-opacity: 1;\"/><path class=\"point\" transform=\"translate(617.28,183.5)\" d=\"M3,0A3,3 0 1,1 0,-3A3,3 0 0,1 3,0Z\" style=\"opacity: 1; stroke-width: 0px; fill: rgb(178, 24, 43); fill-opacity: 1;\"/><path class=\"point\" transform=\"translate(617.87,183.5)\" d=\"M3,0A3,3 0 1,1 0,-3A3,3 0 0,1 3,0Z\" style=\"opacity: 1; stroke-width: 0px; fill: rgb(178, 24, 43); fill-opacity: 1;\"/><path class=\"point\" transform=\"translate(618.21,183.5)\" d=\"M3,0A3,3 0 1,1 0,-3A3,3 0 0,1 3,0Z\" style=\"opacity: 1; stroke-width: 0px; fill: rgb(178, 24, 43); fill-opacity: 1;\"/><path class=\"point\" transform=\"translate(618.75,183.5)\" d=\"M3,0A3,3 0 1,1 0,-3A3,3 0 0,1 3,0Z\" style=\"opacity: 1; stroke-width: 0px; fill: rgb(178, 24, 43); fill-opacity: 1;\"/><path class=\"point\" transform=\"translate(619.06,183.5)\" d=\"M3,0A3,3 0 1,1 0,-3A3,3 0 0,1 3,0Z\" style=\"opacity: 1; stroke-width: 0px; fill: rgb(178, 24, 43); fill-opacity: 1;\"/><path class=\"point\" transform=\"translate(620.44,183.5)\" d=\"M3,0A3,3 0 1,1 0,-3A3,3 0 0,1 3,0Z\" style=\"opacity: 1; stroke-width: 0px; fill: rgb(178, 24, 43); fill-opacity: 1;\"/><path class=\"point\" transform=\"translate(620.47,183.5)\" d=\"M3,0A3,3 0 1,1 0,-3A3,3 0 0,1 3,0Z\" style=\"opacity: 1; stroke-width: 0px; fill: rgb(178, 24, 43); fill-opacity: 1;\"/><path class=\"point\" transform=\"translate(620.52,183.5)\" d=\"M3,0A3,3 0 1,1 0,-3A3,3 0 0,1 3,0Z\" style=\"opacity: 1; stroke-width: 0px; fill: rgb(178, 24, 43); fill-opacity: 1;\"/><path class=\"point\" transform=\"translate(620.69,183.5)\" d=\"M3,0A3,3 0 1,1 0,-3A3,3 0 0,1 3,0Z\" style=\"opacity: 1; stroke-width: 0px; fill: rgb(178, 24, 43); fill-opacity: 1;\"/><path class=\"point\" transform=\"translate(620.79,183.5)\" d=\"M3,0A3,3 0 1,1 0,-3A3,3 0 0,1 3,0Z\" style=\"opacity: 1; stroke-width: 0px; fill: rgb(178, 24, 43); fill-opacity: 1;\"/><path class=\"point\" transform=\"translate(621.19,183.5)\" d=\"M3,0A3,3 0 1,1 0,-3A3,3 0 0,1 3,0Z\" style=\"opacity: 1; stroke-width: 0px; fill: rgb(178, 24, 43); fill-opacity: 1;\"/><path class=\"point\" transform=\"translate(621.9,183.5)\" d=\"M3,0A3,3 0 1,1 0,-3A3,3 0 0,1 3,0Z\" style=\"opacity: 1; stroke-width: 0px; fill: rgb(178, 24, 43); fill-opacity: 1;\"/><path class=\"point\" transform=\"translate(622.36,183.5)\" d=\"M3,0A3,3 0 1,1 0,-3A3,3 0 0,1 3,0Z\" style=\"opacity: 1; stroke-width: 0px; fill: rgb(178, 24, 43); fill-opacity: 1;\"/><path class=\"point\" transform=\"translate(622.62,183.5)\" d=\"M3,0A3,3 0 1,1 0,-3A3,3 0 0,1 3,0Z\" style=\"opacity: 1; stroke-width: 0px; fill: rgb(178, 24, 43); fill-opacity: 1;\"/><path class=\"point\" transform=\"translate(622.66,183.5)\" d=\"M3,0A3,3 0 1,1 0,-3A3,3 0 0,1 3,0Z\" style=\"opacity: 1; stroke-width: 0px; fill: rgb(178, 24, 43); fill-opacity: 1;\"/><path class=\"point\" transform=\"translate(623.42,183.5)\" d=\"M3,0A3,3 0 1,1 0,-3A3,3 0 0,1 3,0Z\" style=\"opacity: 1; stroke-width: 0px; fill: rgb(178, 24, 43); fill-opacity: 1;\"/><path class=\"point\" transform=\"translate(623.63,183.5)\" d=\"M3,0A3,3 0 1,1 0,-3A3,3 0 0,1 3,0Z\" style=\"opacity: 1; stroke-width: 0px; fill: rgb(178, 24, 43); fill-opacity: 1;\"/><path class=\"point\" transform=\"translate(624.52,183.5)\" d=\"M3,0A3,3 0 1,1 0,-3A3,3 0 0,1 3,0Z\" style=\"opacity: 1; stroke-width: 0px; fill: rgb(178, 24, 43); fill-opacity: 1;\"/><path class=\"point\" transform=\"translate(624.54,183.5)\" d=\"M3,0A3,3 0 1,1 0,-3A3,3 0 0,1 3,0Z\" style=\"opacity: 1; stroke-width: 0px; fill: rgb(178, 24, 43); fill-opacity: 1;\"/><path class=\"point\" transform=\"translate(624.56,183.5)\" d=\"M3,0A3,3 0 1,1 0,-3A3,3 0 0,1 3,0Z\" style=\"opacity: 1; stroke-width: 0px; fill: rgb(178, 24, 43); fill-opacity: 1;\"/><path class=\"point\" transform=\"translate(624.88,183.5)\" d=\"M3,0A3,3 0 1,1 0,-3A3,3 0 0,1 3,0Z\" style=\"opacity: 1; stroke-width: 0px; fill: rgb(178, 24, 43); fill-opacity: 1;\"/><path class=\"point\" transform=\"translate(624.88,183.5)\" d=\"M3,0A3,3 0 1,1 0,-3A3,3 0 0,1 3,0Z\" style=\"opacity: 1; stroke-width: 0px; fill: rgb(178, 24, 43); fill-opacity: 1;\"/><path class=\"point\" transform=\"translate(626.23,183.5)\" d=\"M3,0A3,3 0 1,1 0,-3A3,3 0 0,1 3,0Z\" style=\"opacity: 1; stroke-width: 0px; fill: rgb(178, 24, 43); fill-opacity: 1;\"/><path class=\"point\" transform=\"translate(626.28,183.5)\" d=\"M3,0A3,3 0 1,1 0,-3A3,3 0 0,1 3,0Z\" style=\"opacity: 1; stroke-width: 0px; fill: rgb(178, 24, 43); fill-opacity: 1;\"/><path class=\"point\" transform=\"translate(626.71,183.5)\" d=\"M3,0A3,3 0 1,1 0,-3A3,3 0 0,1 3,0Z\" style=\"opacity: 1; stroke-width: 0px; fill: rgb(178, 24, 43); fill-opacity: 1;\"/><path class=\"point\" transform=\"translate(626.84,183.5)\" d=\"M3,0A3,3 0 1,1 0,-3A3,3 0 0,1 3,0Z\" style=\"opacity: 1; stroke-width: 0px; fill: rgb(178, 24, 43); fill-opacity: 1;\"/><path class=\"point\" transform=\"translate(627.65,183.5)\" d=\"M3,0A3,3 0 1,1 0,-3A3,3 0 0,1 3,0Z\" style=\"opacity: 1; stroke-width: 0px; fill: rgb(178, 24, 43); fill-opacity: 1;\"/><path class=\"point\" transform=\"translate(627.76,183.5)\" d=\"M3,0A3,3 0 1,1 0,-3A3,3 0 0,1 3,0Z\" style=\"opacity: 1; stroke-width: 0px; fill: rgb(178, 24, 43); fill-opacity: 1;\"/><path class=\"point\" transform=\"translate(627.96,183.5)\" d=\"M3,0A3,3 0 1,1 0,-3A3,3 0 0,1 3,0Z\" style=\"opacity: 1; stroke-width: 0px; fill: rgb(178, 24, 43); fill-opacity: 1;\"/><path class=\"point\" transform=\"translate(628.24,183.5)\" d=\"M3,0A3,3 0 1,1 0,-3A3,3 0 0,1 3,0Z\" style=\"opacity: 1; stroke-width: 0px; fill: rgb(178, 24, 43); fill-opacity: 1;\"/><path class=\"point\" transform=\"translate(628.71,183.5)\" d=\"M3,0A3,3 0 1,1 0,-3A3,3 0 0,1 3,0Z\" style=\"opacity: 1; stroke-width: 0px; fill: rgb(178, 24, 43); fill-opacity: 1;\"/><path class=\"point\" transform=\"translate(628.83,183.5)\" d=\"M3,0A3,3 0 1,1 0,-3A3,3 0 0,1 3,0Z\" style=\"opacity: 1; stroke-width: 0px; fill: rgb(178, 24, 43); fill-opacity: 1;\"/><path class=\"point\" transform=\"translate(629.57,183.5)\" d=\"M3,0A3,3 0 1,1 0,-3A3,3 0 0,1 3,0Z\" style=\"opacity: 1; stroke-width: 0px; fill: rgb(178, 24, 43); fill-opacity: 1;\"/><path class=\"point\" transform=\"translate(630.03,183.5)\" d=\"M3,0A3,3 0 1,1 0,-3A3,3 0 0,1 3,0Z\" style=\"opacity: 1; stroke-width: 0px; fill: rgb(178, 24, 43); fill-opacity: 1;\"/><path class=\"point\" transform=\"translate(630.09,183.5)\" d=\"M3,0A3,3 0 1,1 0,-3A3,3 0 0,1 3,0Z\" style=\"opacity: 1; stroke-width: 0px; fill: rgb(178, 24, 43); fill-opacity: 1;\"/><path class=\"point\" transform=\"translate(630.09,183.5)\" d=\"M3,0A3,3 0 1,1 0,-3A3,3 0 0,1 3,0Z\" style=\"opacity: 1; stroke-width: 0px; fill: rgb(178, 24, 43); fill-opacity: 1;\"/><path class=\"point\" transform=\"translate(630.18,183.5)\" d=\"M3,0A3,3 0 1,1 0,-3A3,3 0 0,1 3,0Z\" style=\"opacity: 1; stroke-width: 0px; fill: rgb(178, 24, 43); fill-opacity: 1;\"/><path class=\"point\" transform=\"translate(630.66,183.5)\" d=\"M3,0A3,3 0 1,1 0,-3A3,3 0 0,1 3,0Z\" style=\"opacity: 1; stroke-width: 0px; fill: rgb(178, 24, 43); fill-opacity: 1;\"/><path class=\"point\" transform=\"translate(630.74,183.5)\" d=\"M3,0A3,3 0 1,1 0,-3A3,3 0 0,1 3,0Z\" style=\"opacity: 1; stroke-width: 0px; fill: rgb(178, 24, 43); fill-opacity: 1;\"/><path class=\"point\" transform=\"translate(631.4,183.5)\" d=\"M3,0A3,3 0 1,1 0,-3A3,3 0 0,1 3,0Z\" style=\"opacity: 1; stroke-width: 0px; fill: rgb(178, 24, 43); fill-opacity: 1;\"/><path class=\"point\" transform=\"translate(631.51,183.5)\" d=\"M3,0A3,3 0 1,1 0,-3A3,3 0 0,1 3,0Z\" style=\"opacity: 1; stroke-width: 0px; fill: rgb(178, 24, 43); fill-opacity: 1;\"/><path class=\"point\" transform=\"translate(632.06,183.5)\" d=\"M3,0A3,3 0 1,1 0,-3A3,3 0 0,1 3,0Z\" style=\"opacity: 1; stroke-width: 0px; fill: rgb(178, 24, 43); fill-opacity: 1;\"/><path class=\"point\" transform=\"translate(632.57,183.5)\" d=\"M3,0A3,3 0 1,1 0,-3A3,3 0 0,1 3,0Z\" style=\"opacity: 1; stroke-width: 0px; fill: rgb(178, 24, 43); fill-opacity: 1;\"/><path class=\"point\" transform=\"translate(632.59,183.5)\" d=\"M3,0A3,3 0 1,1 0,-3A3,3 0 0,1 3,0Z\" style=\"opacity: 1; stroke-width: 0px; fill: rgb(178, 24, 43); fill-opacity: 1;\"/><path class=\"point\" transform=\"translate(632.75,183.5)\" d=\"M3,0A3,3 0 1,1 0,-3A3,3 0 0,1 3,0Z\" style=\"opacity: 1; stroke-width: 0px; fill: rgb(178, 24, 43); fill-opacity: 1;\"/><path class=\"point\" transform=\"translate(633.57,183.5)\" d=\"M3,0A3,3 0 1,1 0,-3A3,3 0 0,1 3,0Z\" style=\"opacity: 1; stroke-width: 0px; fill: rgb(178, 24, 43); fill-opacity: 1;\"/><path class=\"point\" transform=\"translate(633.71,183.5)\" d=\"M3,0A3,3 0 1,1 0,-3A3,3 0 0,1 3,0Z\" style=\"opacity: 1; stroke-width: 0px; fill: rgb(178, 24, 43); fill-opacity: 1;\"/><path class=\"point\" transform=\"translate(634.3,183.5)\" d=\"M3,0A3,3 0 1,1 0,-3A3,3 0 0,1 3,0Z\" style=\"opacity: 1; stroke-width: 0px; fill: rgb(178, 24, 43); fill-opacity: 1;\"/><path class=\"point\" transform=\"translate(634.31,183.5)\" d=\"M3,0A3,3 0 1,1 0,-3A3,3 0 0,1 3,0Z\" style=\"opacity: 1; stroke-width: 0px; fill: rgb(178, 24, 43); fill-opacity: 1;\"/><path class=\"point\" transform=\"translate(635.09,183.5)\" d=\"M3,0A3,3 0 1,1 0,-3A3,3 0 0,1 3,0Z\" style=\"opacity: 1; stroke-width: 0px; fill: rgb(178, 24, 43); fill-opacity: 1;\"/><path class=\"point\" transform=\"translate(635.43,183.5)\" d=\"M3,0A3,3 0 1,1 0,-3A3,3 0 0,1 3,0Z\" style=\"opacity: 1; stroke-width: 0px; fill: rgb(178, 24, 43); fill-opacity: 1;\"/><path class=\"point\" transform=\"translate(635.45,183.5)\" d=\"M3,0A3,3 0 1,1 0,-3A3,3 0 0,1 3,0Z\" style=\"opacity: 1; stroke-width: 0px; fill: rgb(178, 24, 43); fill-opacity: 1;\"/><path class=\"point\" transform=\"translate(635.66,183.5)\" d=\"M3,0A3,3 0 1,1 0,-3A3,3 0 0,1 3,0Z\" style=\"opacity: 1; stroke-width: 0px; fill: rgb(178, 24, 43); fill-opacity: 1;\"/><path class=\"point\" transform=\"translate(635.83,183.5)\" d=\"M3,0A3,3 0 1,1 0,-3A3,3 0 0,1 3,0Z\" style=\"opacity: 1; stroke-width: 0px; fill: rgb(178, 24, 43); fill-opacity: 1;\"/><path class=\"point\" transform=\"translate(636.11,183.5)\" d=\"M3,0A3,3 0 1,1 0,-3A3,3 0 0,1 3,0Z\" style=\"opacity: 1; stroke-width: 0px; fill: rgb(178, 24, 43); fill-opacity: 1;\"/><path class=\"point\" transform=\"translate(637.35,183.5)\" d=\"M3,0A3,3 0 1,1 0,-3A3,3 0 0,1 3,0Z\" style=\"opacity: 1; stroke-width: 0px; fill: rgb(178, 24, 43); fill-opacity: 1;\"/><path class=\"point\" transform=\"translate(637.39,183.5)\" d=\"M3,0A3,3 0 1,1 0,-3A3,3 0 0,1 3,0Z\" style=\"opacity: 1; stroke-width: 0px; fill: rgb(178, 24, 43); fill-opacity: 1;\"/><path class=\"point\" transform=\"translate(638.31,183.5)\" d=\"M3,0A3,3 0 1,1 0,-3A3,3 0 0,1 3,0Z\" style=\"opacity: 1; stroke-width: 0px; fill: rgb(178, 24, 43); fill-opacity: 1;\"/><path class=\"point\" transform=\"translate(638.33,183.5)\" d=\"M3,0A3,3 0 1,1 0,-3A3,3 0 0,1 3,0Z\" style=\"opacity: 1; stroke-width: 0px; fill: rgb(178, 24, 43); fill-opacity: 1;\"/><path class=\"point\" transform=\"translate(639.22,183.5)\" d=\"M3,0A3,3 0 1,1 0,-3A3,3 0 0,1 3,0Z\" style=\"opacity: 1; stroke-width: 0px; fill: rgb(178, 24, 43); fill-opacity: 1;\"/><path class=\"point\" transform=\"translate(639.52,183.5)\" d=\"M3,0A3,3 0 1,1 0,-3A3,3 0 0,1 3,0Z\" style=\"opacity: 1; stroke-width: 0px; fill: rgb(178, 24, 43); fill-opacity: 1;\"/><path class=\"point\" transform=\"translate(640.24,183.5)\" d=\"M3,0A3,3 0 1,1 0,-3A3,3 0 0,1 3,0Z\" style=\"opacity: 1; stroke-width: 0px; fill: rgb(178, 24, 43); fill-opacity: 1;\"/><path class=\"point\" transform=\"translate(640.43,183.5)\" d=\"M3,0A3,3 0 1,1 0,-3A3,3 0 0,1 3,0Z\" style=\"opacity: 1; stroke-width: 0px; fill: rgb(178, 24, 43); fill-opacity: 1;\"/><path class=\"point\" transform=\"translate(640.84,183.5)\" d=\"M3,0A3,3 0 1,1 0,-3A3,3 0 0,1 3,0Z\" style=\"opacity: 1; stroke-width: 0px; fill: rgb(178, 24, 43); fill-opacity: 1;\"/><path class=\"point\" transform=\"translate(641.51,183.5)\" d=\"M3,0A3,3 0 1,1 0,-3A3,3 0 0,1 3,0Z\" style=\"opacity: 1; stroke-width: 0px; fill: rgb(178, 24, 43); fill-opacity: 1;\"/><path class=\"point\" transform=\"translate(641.65,183.5)\" d=\"M3,0A3,3 0 1,1 0,-3A3,3 0 0,1 3,0Z\" style=\"opacity: 1; stroke-width: 0px; fill: rgb(178, 24, 43); fill-opacity: 1;\"/><path class=\"point\" transform=\"translate(642.86,183.5)\" d=\"M3,0A3,3 0 1,1 0,-3A3,3 0 0,1 3,0Z\" style=\"opacity: 1; stroke-width: 0px; fill: rgb(178, 24, 43); fill-opacity: 1;\"/><path class=\"point\" transform=\"translate(642.99,183.5)\" d=\"M3,0A3,3 0 1,1 0,-3A3,3 0 0,1 3,0Z\" style=\"opacity: 1; stroke-width: 0px; fill: rgb(178, 24, 43); fill-opacity: 1;\"/><path class=\"point\" transform=\"translate(643.38,183.5)\" d=\"M3,0A3,3 0 1,1 0,-3A3,3 0 0,1 3,0Z\" style=\"opacity: 1; stroke-width: 0px; fill: rgb(178, 24, 43); fill-opacity: 1;\"/><path class=\"point\" transform=\"translate(643.64,183.5)\" d=\"M3,0A3,3 0 1,1 0,-3A3,3 0 0,1 3,0Z\" style=\"opacity: 1; stroke-width: 0px; fill: rgb(178, 24, 43); fill-opacity: 1;\"/><path class=\"point\" transform=\"translate(643.82,183.5)\" d=\"M3,0A3,3 0 1,1 0,-3A3,3 0 0,1 3,0Z\" style=\"opacity: 1; stroke-width: 0px; fill: rgb(178, 24, 43); fill-opacity: 1;\"/><path class=\"point\" transform=\"translate(643.9,183.5)\" d=\"M3,0A3,3 0 1,1 0,-3A3,3 0 0,1 3,0Z\" style=\"opacity: 1; stroke-width: 0px; fill: rgb(178, 24, 43); fill-opacity: 1;\"/><path class=\"point\" transform=\"translate(645.16,183.5)\" d=\"M3,0A3,3 0 1,1 0,-3A3,3 0 0,1 3,0Z\" style=\"opacity: 1; stroke-width: 0px; fill: rgb(178, 24, 43); fill-opacity: 1;\"/><path class=\"point\" transform=\"translate(646.4,183.5)\" d=\"M3,0A3,3 0 1,1 0,-3A3,3 0 0,1 3,0Z\" style=\"opacity: 1; stroke-width: 0px; fill: rgb(178, 24, 43); fill-opacity: 1;\"/><path class=\"point\" transform=\"translate(646.52,183.5)\" d=\"M3,0A3,3 0 1,1 0,-3A3,3 0 0,1 3,0Z\" style=\"opacity: 1; stroke-width: 0px; fill: rgb(178, 24, 43); fill-opacity: 1;\"/><path class=\"point\" transform=\"translate(646.74,183.5)\" d=\"M3,0A3,3 0 1,1 0,-3A3,3 0 0,1 3,0Z\" style=\"opacity: 1; stroke-width: 0px; fill: rgb(178, 24, 43); fill-opacity: 1;\"/><path class=\"point\" transform=\"translate(647.21,183.5)\" d=\"M3,0A3,3 0 1,1 0,-3A3,3 0 0,1 3,0Z\" style=\"opacity: 1; stroke-width: 0px; fill: rgb(178, 24, 43); fill-opacity: 1;\"/><path class=\"point\" transform=\"translate(647.67,183.5)\" d=\"M3,0A3,3 0 1,1 0,-3A3,3 0 0,1 3,0Z\" style=\"opacity: 1; stroke-width: 0px; fill: rgb(178, 24, 43); fill-opacity: 1;\"/><path class=\"point\" transform=\"translate(648.06,183.5)\" d=\"M3,0A3,3 0 1,1 0,-3A3,3 0 0,1 3,0Z\" style=\"opacity: 1; stroke-width: 0px; fill: rgb(178, 24, 43); fill-opacity: 1;\"/><path class=\"point\" transform=\"translate(648.19,183.5)\" d=\"M3,0A3,3 0 1,1 0,-3A3,3 0 0,1 3,0Z\" style=\"opacity: 1; stroke-width: 0px; fill: rgb(178, 24, 43); fill-opacity: 1;\"/><path class=\"point\" transform=\"translate(648.45,183.5)\" d=\"M3,0A3,3 0 1,1 0,-3A3,3 0 0,1 3,0Z\" style=\"opacity: 1; stroke-width: 0px; fill: rgb(178, 24, 43); fill-opacity: 1;\"/><path class=\"point\" transform=\"translate(648.79,183.5)\" d=\"M3,0A3,3 0 1,1 0,-3A3,3 0 0,1 3,0Z\" style=\"opacity: 1; stroke-width: 0px; fill: rgb(178, 24, 43); fill-opacity: 1;\"/><path class=\"point\" transform=\"translate(648.97,183.5)\" d=\"M3,0A3,3 0 1,1 0,-3A3,3 0 0,1 3,0Z\" style=\"opacity: 1; stroke-width: 0px; fill: rgb(178, 24, 43); fill-opacity: 1;\"/><path class=\"point\" transform=\"translate(649.12,183.5)\" d=\"M3,0A3,3 0 1,1 0,-3A3,3 0 0,1 3,0Z\" style=\"opacity: 1; stroke-width: 0px; fill: rgb(178, 24, 43); fill-opacity: 1;\"/><path class=\"point\" transform=\"translate(649.27,183.5)\" d=\"M3,0A3,3 0 1,1 0,-3A3,3 0 0,1 3,0Z\" style=\"opacity: 1; stroke-width: 0px; fill: rgb(178, 24, 43); fill-opacity: 1;\"/><path class=\"point\" transform=\"translate(649.96,183.5)\" d=\"M3,0A3,3 0 1,1 0,-3A3,3 0 0,1 3,0Z\" style=\"opacity: 1; stroke-width: 0px; fill: rgb(178, 24, 43); fill-opacity: 1;\"/><path class=\"point\" transform=\"translate(651.93,183.5)\" d=\"M3,0A3,3 0 1,1 0,-3A3,3 0 0,1 3,0Z\" style=\"opacity: 1; stroke-width: 0px; fill: rgb(178, 24, 43); fill-opacity: 1;\"/><path class=\"point\" transform=\"translate(652.48,183.5)\" d=\"M3,0A3,3 0 1,1 0,-3A3,3 0 0,1 3,0Z\" style=\"opacity: 1; stroke-width: 0px; fill: rgb(178, 24, 43); fill-opacity: 1;\"/><path class=\"point\" transform=\"translate(652.95,183.5)\" d=\"M3,0A3,3 0 1,1 0,-3A3,3 0 0,1 3,0Z\" style=\"opacity: 1; stroke-width: 0px; fill: rgb(178, 24, 43); fill-opacity: 1;\"/><path class=\"point\" transform=\"translate(653,183.5)\" d=\"M3,0A3,3 0 1,1 0,-3A3,3 0 0,1 3,0Z\" style=\"opacity: 1; stroke-width: 0px; fill: rgb(178, 24, 43); fill-opacity: 1;\"/><path class=\"point\" transform=\"translate(653.69,183.5)\" d=\"M3,0A3,3 0 1,1 0,-3A3,3 0 0,1 3,0Z\" style=\"opacity: 1; stroke-width: 0px; fill: rgb(178, 24, 43); fill-opacity: 1;\"/><path class=\"point\" transform=\"translate(654.49,183.5)\" d=\"M3,0A3,3 0 1,1 0,-3A3,3 0 0,1 3,0Z\" style=\"opacity: 1; stroke-width: 0px; fill: rgb(178, 24, 43); fill-opacity: 1;\"/><path class=\"point\" transform=\"translate(654.51,183.5)\" d=\"M3,0A3,3 0 1,1 0,-3A3,3 0 0,1 3,0Z\" style=\"opacity: 1; stroke-width: 0px; fill: rgb(178, 24, 43); fill-opacity: 1;\"/><path class=\"point\" transform=\"translate(654.54,183.5)\" d=\"M3,0A3,3 0 1,1 0,-3A3,3 0 0,1 3,0Z\" style=\"opacity: 1; stroke-width: 0px; fill: rgb(178, 24, 43); fill-opacity: 1;\"/><path class=\"point\" transform=\"translate(654.57,183.5)\" d=\"M3,0A3,3 0 1,1 0,-3A3,3 0 0,1 3,0Z\" style=\"opacity: 1; stroke-width: 0px; fill: rgb(178, 24, 43); fill-opacity: 1;\"/><path class=\"point\" transform=\"translate(654.85,183.5)\" d=\"M3,0A3,3 0 1,1 0,-3A3,3 0 0,1 3,0Z\" style=\"opacity: 1; stroke-width: 0px; fill: rgb(178, 24, 43); fill-opacity: 1;\"/><path class=\"point\" transform=\"translate(654.95,183.5)\" d=\"M3,0A3,3 0 1,1 0,-3A3,3 0 0,1 3,0Z\" style=\"opacity: 1; stroke-width: 0px; fill: rgb(178, 24, 43); fill-opacity: 1;\"/><path class=\"point\" transform=\"translate(655.17,183.5)\" d=\"M3,0A3,3 0 1,1 0,-3A3,3 0 0,1 3,0Z\" style=\"opacity: 1; stroke-width: 0px; fill: rgb(178, 24, 43); fill-opacity: 1;\"/><path class=\"point\" transform=\"translate(655.33,183.5)\" d=\"M3,0A3,3 0 1,1 0,-3A3,3 0 0,1 3,0Z\" style=\"opacity: 1; stroke-width: 0px; fill: rgb(178, 24, 43); fill-opacity: 1;\"/><path class=\"point\" transform=\"translate(656.44,183.5)\" d=\"M3,0A3,3 0 1,1 0,-3A3,3 0 0,1 3,0Z\" style=\"opacity: 1; stroke-width: 0px; fill: rgb(178, 24, 43); fill-opacity: 1;\"/><path class=\"point\" transform=\"translate(656.92,183.5)\" d=\"M3,0A3,3 0 1,1 0,-3A3,3 0 0,1 3,0Z\" style=\"opacity: 1; stroke-width: 0px; fill: rgb(178, 24, 43); fill-opacity: 1;\"/><path class=\"point\" transform=\"translate(657.01,183.5)\" d=\"M3,0A3,3 0 1,1 0,-3A3,3 0 0,1 3,0Z\" style=\"opacity: 1; stroke-width: 0px; fill: rgb(178, 24, 43); fill-opacity: 1;\"/><path class=\"point\" transform=\"translate(657.05,183.5)\" d=\"M3,0A3,3 0 1,1 0,-3A3,3 0 0,1 3,0Z\" style=\"opacity: 1; stroke-width: 0px; fill: rgb(178, 24, 43); fill-opacity: 1;\"/><path class=\"point\" transform=\"translate(657.39,183.5)\" d=\"M3,0A3,3 0 1,1 0,-3A3,3 0 0,1 3,0Z\" style=\"opacity: 1; stroke-width: 0px; fill: rgb(178, 24, 43); fill-opacity: 1;\"/><path class=\"point\" transform=\"translate(657.42,183.5)\" d=\"M3,0A3,3 0 1,1 0,-3A3,3 0 0,1 3,0Z\" style=\"opacity: 1; stroke-width: 0px; fill: rgb(178, 24, 43); fill-opacity: 1;\"/><path class=\"point\" transform=\"translate(657.83,183.5)\" d=\"M3,0A3,3 0 1,1 0,-3A3,3 0 0,1 3,0Z\" style=\"opacity: 1; stroke-width: 0px; fill: rgb(178, 24, 43); fill-opacity: 1;\"/><path class=\"point\" transform=\"translate(658.08,183.5)\" d=\"M3,0A3,3 0 1,1 0,-3A3,3 0 0,1 3,0Z\" style=\"opacity: 1; stroke-width: 0px; fill: rgb(178, 24, 43); fill-opacity: 1;\"/><path class=\"point\" transform=\"translate(658.64,183.5)\" d=\"M3,0A3,3 0 1,1 0,-3A3,3 0 0,1 3,0Z\" style=\"opacity: 1; stroke-width: 0px; fill: rgb(178, 24, 43); fill-opacity: 1;\"/><path class=\"point\" transform=\"translate(658.9,183.5)\" d=\"M3,0A3,3 0 1,1 0,-3A3,3 0 0,1 3,0Z\" style=\"opacity: 1; stroke-width: 0px; fill: rgb(178, 24, 43); fill-opacity: 1;\"/><path class=\"point\" transform=\"translate(659.02,183.5)\" d=\"M3,0A3,3 0 1,1 0,-3A3,3 0 0,1 3,0Z\" style=\"opacity: 1; stroke-width: 0px; fill: rgb(178, 24, 43); fill-opacity: 1;\"/><path class=\"point\" transform=\"translate(659.2,183.5)\" d=\"M3,0A3,3 0 1,1 0,-3A3,3 0 0,1 3,0Z\" style=\"opacity: 1; stroke-width: 0px; fill: rgb(178, 24, 43); fill-opacity: 1;\"/><path class=\"point\" transform=\"translate(659.26,183.5)\" d=\"M3,0A3,3 0 1,1 0,-3A3,3 0 0,1 3,0Z\" style=\"opacity: 1; stroke-width: 0px; fill: rgb(178, 24, 43); fill-opacity: 1;\"/><path class=\"point\" transform=\"translate(659.29,183.5)\" d=\"M3,0A3,3 0 1,1 0,-3A3,3 0 0,1 3,0Z\" style=\"opacity: 1; stroke-width: 0px; fill: rgb(178, 24, 43); fill-opacity: 1;\"/><path class=\"point\" transform=\"translate(659.62,183.5)\" d=\"M3,0A3,3 0 1,1 0,-3A3,3 0 0,1 3,0Z\" style=\"opacity: 1; stroke-width: 0px; fill: rgb(178, 24, 43); fill-opacity: 1;\"/><path class=\"point\" transform=\"translate(659.89,183.5)\" d=\"M3,0A3,3 0 1,1 0,-3A3,3 0 0,1 3,0Z\" style=\"opacity: 1; stroke-width: 0px; fill: rgb(178, 24, 43); fill-opacity: 1;\"/><path class=\"point\" transform=\"translate(660.82,183.5)\" d=\"M3,0A3,3 0 1,1 0,-3A3,3 0 0,1 3,0Z\" style=\"opacity: 1; stroke-width: 0px; fill: rgb(178, 24, 43); fill-opacity: 1;\"/><path class=\"point\" transform=\"translate(660.89,183.5)\" d=\"M3,0A3,3 0 1,1 0,-3A3,3 0 0,1 3,0Z\" style=\"opacity: 1; stroke-width: 0px; fill: rgb(178, 24, 43); fill-opacity: 1;\"/><path class=\"point\" transform=\"translate(661.49,183.5)\" d=\"M3,0A3,3 0 1,1 0,-3A3,3 0 0,1 3,0Z\" style=\"opacity: 1; stroke-width: 0px; fill: rgb(178, 24, 43); fill-opacity: 1;\"/><path class=\"point\" transform=\"translate(661.74,183.5)\" d=\"M3,0A3,3 0 1,1 0,-3A3,3 0 0,1 3,0Z\" style=\"opacity: 1; stroke-width: 0px; fill: rgb(178, 24, 43); fill-opacity: 1;\"/><path class=\"point\" transform=\"translate(662.17,183.5)\" d=\"M3,0A3,3 0 1,1 0,-3A3,3 0 0,1 3,0Z\" style=\"opacity: 1; stroke-width: 0px; fill: rgb(178, 24, 43); fill-opacity: 1;\"/><path class=\"point\" transform=\"translate(662.46,183.5)\" d=\"M3,0A3,3 0 1,1 0,-3A3,3 0 0,1 3,0Z\" style=\"opacity: 1; stroke-width: 0px; fill: rgb(178, 24, 43); fill-opacity: 1;\"/><path class=\"point\" transform=\"translate(662.84,183.5)\" d=\"M3,0A3,3 0 1,1 0,-3A3,3 0 0,1 3,0Z\" style=\"opacity: 1; stroke-width: 0px; fill: rgb(178, 24, 43); fill-opacity: 1;\"/><path class=\"point\" transform=\"translate(663.04,183.5)\" d=\"M3,0A3,3 0 1,1 0,-3A3,3 0 0,1 3,0Z\" style=\"opacity: 1; stroke-width: 0px; fill: rgb(178, 24, 43); fill-opacity: 1;\"/><path class=\"point\" transform=\"translate(664.77,183.5)\" d=\"M3,0A3,3 0 1,1 0,-3A3,3 0 0,1 3,0Z\" style=\"opacity: 1; stroke-width: 0px; fill: rgb(178, 24, 43); fill-opacity: 1;\"/><path class=\"point\" transform=\"translate(664.77,183.5)\" d=\"M3,0A3,3 0 1,1 0,-3A3,3 0 0,1 3,0Z\" style=\"opacity: 1; stroke-width: 0px; fill: rgb(178, 24, 43); fill-opacity: 1;\"/><path class=\"point\" transform=\"translate(664.97,183.5)\" d=\"M3,0A3,3 0 1,1 0,-3A3,3 0 0,1 3,0Z\" style=\"opacity: 1; stroke-width: 0px; fill: rgb(178, 24, 43); fill-opacity: 1;\"/><path class=\"point\" transform=\"translate(665.46,183.5)\" d=\"M3,0A3,3 0 1,1 0,-3A3,3 0 0,1 3,0Z\" style=\"opacity: 1; stroke-width: 0px; fill: rgb(178, 24, 43); fill-opacity: 1;\"/><path class=\"point\" transform=\"translate(666.1,183.5)\" d=\"M3,0A3,3 0 1,1 0,-3A3,3 0 0,1 3,0Z\" style=\"opacity: 1; stroke-width: 0px; fill: rgb(178, 24, 43); fill-opacity: 1;\"/><path class=\"point\" transform=\"translate(666.5,183.5)\" d=\"M3,0A3,3 0 1,1 0,-3A3,3 0 0,1 3,0Z\" style=\"opacity: 1; stroke-width: 0px; fill: rgb(178, 24, 43); fill-opacity: 1;\"/><path class=\"point\" transform=\"translate(666.51,183.5)\" d=\"M3,0A3,3 0 1,1 0,-3A3,3 0 0,1 3,0Z\" style=\"opacity: 1; stroke-width: 0px; fill: rgb(178, 24, 43); fill-opacity: 1;\"/><path class=\"point\" transform=\"translate(667.23,183.5)\" d=\"M3,0A3,3 0 1,1 0,-3A3,3 0 0,1 3,0Z\" style=\"opacity: 1; stroke-width: 0px; fill: rgb(178, 24, 43); fill-opacity: 1;\"/><path class=\"point\" transform=\"translate(667.67,183.5)\" d=\"M3,0A3,3 0 1,1 0,-3A3,3 0 0,1 3,0Z\" style=\"opacity: 1; stroke-width: 0px; fill: rgb(178, 24, 43); fill-opacity: 1;\"/><path class=\"point\" transform=\"translate(668.06,183.5)\" d=\"M3,0A3,3 0 1,1 0,-3A3,3 0 0,1 3,0Z\" style=\"opacity: 1; stroke-width: 0px; fill: rgb(178, 24, 43); fill-opacity: 1;\"/><path class=\"point\" transform=\"translate(668.63,183.5)\" d=\"M3,0A3,3 0 1,1 0,-3A3,3 0 0,1 3,0Z\" style=\"opacity: 1; stroke-width: 0px; fill: rgb(178, 24, 43); fill-opacity: 1;\"/><path class=\"point\" transform=\"translate(668.68,183.5)\" d=\"M3,0A3,3 0 1,1 0,-3A3,3 0 0,1 3,0Z\" style=\"opacity: 1; stroke-width: 0px; fill: rgb(178, 24, 43); fill-opacity: 1;\"/><path class=\"point\" transform=\"translate(669.1,183.5)\" d=\"M3,0A3,3 0 1,1 0,-3A3,3 0 0,1 3,0Z\" style=\"opacity: 1; stroke-width: 0px; fill: rgb(178, 24, 43); fill-opacity: 1;\"/><path class=\"point\" transform=\"translate(669.61,183.5)\" d=\"M3,0A3,3 0 1,1 0,-3A3,3 0 0,1 3,0Z\" style=\"opacity: 1; stroke-width: 0px; fill: rgb(178, 24, 43); fill-opacity: 1;\"/><path class=\"point\" transform=\"translate(670.21,183.5)\" d=\"M3,0A3,3 0 1,1 0,-3A3,3 0 0,1 3,0Z\" style=\"opacity: 1; stroke-width: 0px; fill: rgb(178, 24, 43); fill-opacity: 1;\"/><path class=\"point\" transform=\"translate(670.36,183.5)\" d=\"M3,0A3,3 0 1,1 0,-3A3,3 0 0,1 3,0Z\" style=\"opacity: 1; stroke-width: 0px; fill: rgb(178, 24, 43); fill-opacity: 1;\"/><path class=\"point\" transform=\"translate(670.83,183.5)\" d=\"M3,0A3,3 0 1,1 0,-3A3,3 0 0,1 3,0Z\" style=\"opacity: 1; stroke-width: 0px; fill: rgb(178, 24, 43); fill-opacity: 1;\"/><path class=\"point\" transform=\"translate(671.2,183.5)\" d=\"M3,0A3,3 0 1,1 0,-3A3,3 0 0,1 3,0Z\" style=\"opacity: 1; stroke-width: 0px; fill: rgb(178, 24, 43); fill-opacity: 1;\"/><path class=\"point\" transform=\"translate(671.4,183.5)\" d=\"M3,0A3,3 0 1,1 0,-3A3,3 0 0,1 3,0Z\" style=\"opacity: 1; stroke-width: 0px; fill: rgb(178, 24, 43); fill-opacity: 1;\"/><path class=\"point\" transform=\"translate(671.49,183.5)\" d=\"M3,0A3,3 0 1,1 0,-3A3,3 0 0,1 3,0Z\" style=\"opacity: 1; stroke-width: 0px; fill: rgb(178, 24, 43); fill-opacity: 1;\"/><path class=\"point\" transform=\"translate(672.12,183.5)\" d=\"M3,0A3,3 0 1,1 0,-3A3,3 0 0,1 3,0Z\" style=\"opacity: 1; stroke-width: 0px; fill: rgb(178, 24, 43); fill-opacity: 1;\"/><path class=\"point\" transform=\"translate(672.87,183.5)\" d=\"M3,0A3,3 0 1,1 0,-3A3,3 0 0,1 3,0Z\" style=\"opacity: 1; stroke-width: 0px; fill: rgb(178, 24, 43); fill-opacity: 1;\"/><path class=\"point\" transform=\"translate(672.94,183.5)\" d=\"M3,0A3,3 0 1,1 0,-3A3,3 0 0,1 3,0Z\" style=\"opacity: 1; stroke-width: 0px; fill: rgb(178, 24, 43); fill-opacity: 1;\"/><path class=\"point\" transform=\"translate(673.93,183.5)\" d=\"M3,0A3,3 0 1,1 0,-3A3,3 0 0,1 3,0Z\" style=\"opacity: 1; stroke-width: 0px; fill: rgb(178, 24, 43); fill-opacity: 1;\"/><path class=\"point\" transform=\"translate(674.26,183.5)\" d=\"M3,0A3,3 0 1,1 0,-3A3,3 0 0,1 3,0Z\" style=\"opacity: 1; stroke-width: 0px; fill: rgb(178, 24, 43); fill-opacity: 1;\"/><path class=\"point\" transform=\"translate(675.47,183.5)\" d=\"M3,0A3,3 0 1,1 0,-3A3,3 0 0,1 3,0Z\" style=\"opacity: 1; stroke-width: 0px; fill: rgb(178, 24, 43); fill-opacity: 1;\"/><path class=\"point\" transform=\"translate(675.77,183.5)\" d=\"M3,0A3,3 0 1,1 0,-3A3,3 0 0,1 3,0Z\" style=\"opacity: 1; stroke-width: 0px; fill: rgb(178, 24, 43); fill-opacity: 1;\"/><path class=\"point\" transform=\"translate(675.84,183.5)\" d=\"M3,0A3,3 0 1,1 0,-3A3,3 0 0,1 3,0Z\" style=\"opacity: 1; stroke-width: 0px; fill: rgb(178, 24, 43); fill-opacity: 1;\"/><path class=\"point\" transform=\"translate(676.15,183.5)\" d=\"M3,0A3,3 0 1,1 0,-3A3,3 0 0,1 3,0Z\" style=\"opacity: 1; stroke-width: 0px; fill: rgb(178, 24, 43); fill-opacity: 1;\"/><path class=\"point\" transform=\"translate(677.18,183.5)\" d=\"M3,0A3,3 0 1,1 0,-3A3,3 0 0,1 3,0Z\" style=\"opacity: 1; stroke-width: 0px; fill: rgb(178, 24, 43); fill-opacity: 1;\"/><path class=\"point\" transform=\"translate(677.33,183.5)\" d=\"M3,0A3,3 0 1,1 0,-3A3,3 0 0,1 3,0Z\" style=\"opacity: 1; stroke-width: 0px; fill: rgb(178, 24, 43); fill-opacity: 1;\"/><path class=\"point\" transform=\"translate(678.07,183.5)\" d=\"M3,0A3,3 0 1,1 0,-3A3,3 0 0,1 3,0Z\" style=\"opacity: 1; stroke-width: 0px; fill: rgb(178, 24, 43); fill-opacity: 1;\"/><path class=\"point\" transform=\"translate(678.39,183.5)\" d=\"M3,0A3,3 0 1,1 0,-3A3,3 0 0,1 3,0Z\" style=\"opacity: 1; stroke-width: 0px; fill: rgb(178, 24, 43); fill-opacity: 1;\"/><path class=\"point\" transform=\"translate(679.14,183.5)\" d=\"M3,0A3,3 0 1,1 0,-3A3,3 0 0,1 3,0Z\" style=\"opacity: 1; stroke-width: 0px; fill: rgb(178, 24, 43); fill-opacity: 1;\"/><path class=\"point\" transform=\"translate(680.2,183.5)\" d=\"M3,0A3,3 0 1,1 0,-3A3,3 0 0,1 3,0Z\" style=\"opacity: 1; stroke-width: 0px; fill: rgb(178, 24, 43); fill-opacity: 1;\"/><path class=\"point\" transform=\"translate(680.43,183.5)\" d=\"M3,0A3,3 0 1,1 0,-3A3,3 0 0,1 3,0Z\" style=\"opacity: 1; stroke-width: 0px; fill: rgb(178, 24, 43); fill-opacity: 1;\"/><path class=\"point\" transform=\"translate(681.36,183.5)\" d=\"M3,0A3,3 0 1,1 0,-3A3,3 0 0,1 3,0Z\" style=\"opacity: 1; stroke-width: 0px; fill: rgb(178, 24, 43); fill-opacity: 1;\"/><path class=\"point\" transform=\"translate(681.95,183.5)\" d=\"M3,0A3,3 0 1,1 0,-3A3,3 0 0,1 3,0Z\" style=\"opacity: 1; stroke-width: 0px; fill: rgb(178, 24, 43); fill-opacity: 1;\"/><path class=\"point\" transform=\"translate(682.26,183.5)\" d=\"M3,0A3,3 0 1,1 0,-3A3,3 0 0,1 3,0Z\" style=\"opacity: 1; stroke-width: 0px; fill: rgb(178, 24, 43); fill-opacity: 1;\"/><path class=\"point\" transform=\"translate(682.59,183.5)\" d=\"M3,0A3,3 0 1,1 0,-3A3,3 0 0,1 3,0Z\" style=\"opacity: 1; stroke-width: 0px; fill: rgb(178, 24, 43); fill-opacity: 1;\"/><path class=\"point\" transform=\"translate(684.26,183.5)\" d=\"M3,0A3,3 0 1,1 0,-3A3,3 0 0,1 3,0Z\" style=\"opacity: 1; stroke-width: 0px; fill: rgb(178, 24, 43); fill-opacity: 1;\"/><path class=\"point\" transform=\"translate(685.93,183.5)\" d=\"M3,0A3,3 0 1,1 0,-3A3,3 0 0,1 3,0Z\" style=\"opacity: 1; stroke-width: 0px; fill: rgb(178, 24, 43); fill-opacity: 1;\"/><path class=\"point\" transform=\"translate(686.12,183.5)\" d=\"M3,0A3,3 0 1,1 0,-3A3,3 0 0,1 3,0Z\" style=\"opacity: 1; stroke-width: 0px; fill: rgb(178, 24, 43); fill-opacity: 1;\"/><path class=\"point\" transform=\"translate(686.46,183.5)\" d=\"M3,0A3,3 0 1,1 0,-3A3,3 0 0,1 3,0Z\" style=\"opacity: 1; stroke-width: 0px; fill: rgb(178, 24, 43); fill-opacity: 1;\"/><path class=\"point\" transform=\"translate(687.19,183.5)\" d=\"M3,0A3,3 0 1,1 0,-3A3,3 0 0,1 3,0Z\" style=\"opacity: 1; stroke-width: 0px; fill: rgb(178, 24, 43); fill-opacity: 1;\"/><path class=\"point\" transform=\"translate(687.37,183.5)\" d=\"M3,0A3,3 0 1,1 0,-3A3,3 0 0,1 3,0Z\" style=\"opacity: 1; stroke-width: 0px; fill: rgb(178, 24, 43); fill-opacity: 1;\"/><path class=\"point\" transform=\"translate(687.47,183.5)\" d=\"M3,0A3,3 0 1,1 0,-3A3,3 0 0,1 3,0Z\" style=\"opacity: 1; stroke-width: 0px; fill: rgb(178, 24, 43); fill-opacity: 1;\"/><path class=\"point\" transform=\"translate(687.56,183.5)\" d=\"M3,0A3,3 0 1,1 0,-3A3,3 0 0,1 3,0Z\" style=\"opacity: 1; stroke-width: 0px; fill: rgb(178, 24, 43); fill-opacity: 1;\"/><path class=\"point\" transform=\"translate(687.87,183.5)\" d=\"M3,0A3,3 0 1,1 0,-3A3,3 0 0,1 3,0Z\" style=\"opacity: 1; stroke-width: 0px; fill: rgb(178, 24, 43); fill-opacity: 1;\"/><path class=\"point\" transform=\"translate(688.01,183.5)\" d=\"M3,0A3,3 0 1,1 0,-3A3,3 0 0,1 3,0Z\" style=\"opacity: 1; stroke-width: 0px; fill: rgb(178, 24, 43); fill-opacity: 1;\"/><path class=\"point\" transform=\"translate(688.69,183.5)\" d=\"M3,0A3,3 0 1,1 0,-3A3,3 0 0,1 3,0Z\" style=\"opacity: 1; stroke-width: 0px; fill: rgb(178, 24, 43); fill-opacity: 1;\"/><path class=\"point\" transform=\"translate(689.78,183.5)\" d=\"M3,0A3,3 0 1,1 0,-3A3,3 0 0,1 3,0Z\" style=\"opacity: 1; stroke-width: 0px; fill: rgb(178, 24, 43); fill-opacity: 1;\"/><path class=\"point\" transform=\"translate(689.98,183.5)\" d=\"M3,0A3,3 0 1,1 0,-3A3,3 0 0,1 3,0Z\" style=\"opacity: 1; stroke-width: 0px; fill: rgb(178, 24, 43); fill-opacity: 1;\"/><path class=\"point\" transform=\"translate(690.06,183.5)\" d=\"M3,0A3,3 0 1,1 0,-3A3,3 0 0,1 3,0Z\" style=\"opacity: 1; stroke-width: 0px; fill: rgb(178, 24, 43); fill-opacity: 1;\"/><path class=\"point\" transform=\"translate(690.13,183.5)\" d=\"M3,0A3,3 0 1,1 0,-3A3,3 0 0,1 3,0Z\" style=\"opacity: 1; stroke-width: 0px; fill: rgb(178, 24, 43); fill-opacity: 1;\"/><path class=\"point\" transform=\"translate(690.41,183.5)\" d=\"M3,0A3,3 0 1,1 0,-3A3,3 0 0,1 3,0Z\" style=\"opacity: 1; stroke-width: 0px; fill: rgb(178, 24, 43); fill-opacity: 1;\"/><path class=\"point\" transform=\"translate(691,183.5)\" d=\"M3,0A3,3 0 1,1 0,-3A3,3 0 0,1 3,0Z\" style=\"opacity: 1; stroke-width: 0px; fill: rgb(178, 24, 43); fill-opacity: 1;\"/><path class=\"point\" transform=\"translate(691.21,183.5)\" d=\"M3,0A3,3 0 1,1 0,-3A3,3 0 0,1 3,0Z\" style=\"opacity: 1; stroke-width: 0px; fill: rgb(178, 24, 43); fill-opacity: 1;\"/><path class=\"point\" transform=\"translate(691.21,183.5)\" d=\"M3,0A3,3 0 1,1 0,-3A3,3 0 0,1 3,0Z\" style=\"opacity: 1; stroke-width: 0px; fill: rgb(178, 24, 43); fill-opacity: 1;\"/><path class=\"point\" transform=\"translate(692.56,183.5)\" d=\"M3,0A3,3 0 1,1 0,-3A3,3 0 0,1 3,0Z\" style=\"opacity: 1; stroke-width: 0px; fill: rgb(178, 24, 43); fill-opacity: 1;\"/><path class=\"point\" transform=\"translate(692.61,183.5)\" d=\"M3,0A3,3 0 1,1 0,-3A3,3 0 0,1 3,0Z\" style=\"opacity: 1; stroke-width: 0px; fill: rgb(178, 24, 43); fill-opacity: 1;\"/><path class=\"point\" transform=\"translate(692.78,183.5)\" d=\"M3,0A3,3 0 1,1 0,-3A3,3 0 0,1 3,0Z\" style=\"opacity: 1; stroke-width: 0px; fill: rgb(178, 24, 43); fill-opacity: 1;\"/><path class=\"point\" transform=\"translate(693.41,183.5)\" d=\"M3,0A3,3 0 1,1 0,-3A3,3 0 0,1 3,0Z\" style=\"opacity: 1; stroke-width: 0px; fill: rgb(178, 24, 43); fill-opacity: 1;\"/><path class=\"point\" transform=\"translate(694.45,183.5)\" d=\"M3,0A3,3 0 1,1 0,-3A3,3 0 0,1 3,0Z\" style=\"opacity: 1; stroke-width: 0px; fill: rgb(178, 24, 43); fill-opacity: 1;\"/><path class=\"point\" transform=\"translate(695.86,183.5)\" d=\"M3,0A3,3 0 1,1 0,-3A3,3 0 0,1 3,0Z\" style=\"opacity: 1; stroke-width: 0px; fill: rgb(178, 24, 43); fill-opacity: 1;\"/><path class=\"point\" transform=\"translate(695.94,183.5)\" d=\"M3,0A3,3 0 1,1 0,-3A3,3 0 0,1 3,0Z\" style=\"opacity: 1; stroke-width: 0px; fill: rgb(178, 24, 43); fill-opacity: 1;\"/><path class=\"point\" transform=\"translate(696.47,183.5)\" d=\"M3,0A3,3 0 1,1 0,-3A3,3 0 0,1 3,0Z\" style=\"opacity: 1; stroke-width: 0px; fill: rgb(178, 24, 43); fill-opacity: 1;\"/><path class=\"point\" transform=\"translate(697.21,183.5)\" d=\"M3,0A3,3 0 1,1 0,-3A3,3 0 0,1 3,0Z\" style=\"opacity: 1; stroke-width: 0px; fill: rgb(178, 24, 43); fill-opacity: 1;\"/><path class=\"point\" transform=\"translate(698.37,183.5)\" d=\"M3,0A3,3 0 1,1 0,-3A3,3 0 0,1 3,0Z\" style=\"opacity: 1; stroke-width: 0px; fill: rgb(178, 24, 43); fill-opacity: 1;\"/><path class=\"point\" transform=\"translate(698.38,183.5)\" d=\"M3,0A3,3 0 1,1 0,-3A3,3 0 0,1 3,0Z\" style=\"opacity: 1; stroke-width: 0px; fill: rgb(178, 24, 43); fill-opacity: 1;\"/><path class=\"point\" transform=\"translate(699.12,183.5)\" d=\"M3,0A3,3 0 1,1 0,-3A3,3 0 0,1 3,0Z\" style=\"opacity: 1; stroke-width: 0px; fill: rgb(178, 24, 43); fill-opacity: 1;\"/><path class=\"point\" transform=\"translate(699.71,183.5)\" d=\"M3,0A3,3 0 1,1 0,-3A3,3 0 0,1 3,0Z\" style=\"opacity: 1; stroke-width: 0px; fill: rgb(178, 24, 43); fill-opacity: 1;\"/><path class=\"point\" transform=\"translate(700.27,183.5)\" d=\"M3,0A3,3 0 1,1 0,-3A3,3 0 0,1 3,0Z\" style=\"opacity: 1; stroke-width: 0px; fill: rgb(178, 24, 43); fill-opacity: 1;\"/><path class=\"point\" transform=\"translate(701.63,183.5)\" d=\"M3,0A3,3 0 1,1 0,-3A3,3 0 0,1 3,0Z\" style=\"opacity: 1; stroke-width: 0px; fill: rgb(178, 24, 43); fill-opacity: 1;\"/><path class=\"point\" transform=\"translate(705.3,183.5)\" d=\"M3,0A3,3 0 1,1 0,-3A3,3 0 0,1 3,0Z\" style=\"opacity: 1; stroke-width: 0px; fill: rgb(178, 24, 43); fill-opacity: 1;\"/><path class=\"point\" transform=\"translate(706.42,183.5)\" d=\"M3,0A3,3 0 1,1 0,-3A3,3 0 0,1 3,0Z\" style=\"opacity: 1; stroke-width: 0px; fill: rgb(178, 24, 43); fill-opacity: 1;\"/><path class=\"point\" transform=\"translate(707.19,183.5)\" d=\"M3,0A3,3 0 1,1 0,-3A3,3 0 0,1 3,0Z\" style=\"opacity: 1; stroke-width: 0px; fill: rgb(178, 24, 43); fill-opacity: 1;\"/><path class=\"point\" transform=\"translate(707.61,183.5)\" d=\"M3,0A3,3 0 1,1 0,-3A3,3 0 0,1 3,0Z\" style=\"opacity: 1; stroke-width: 0px; fill: rgb(178, 24, 43); fill-opacity: 1;\"/><path class=\"point\" transform=\"translate(709.62,183.5)\" d=\"M3,0A3,3 0 1,1 0,-3A3,3 0 0,1 3,0Z\" style=\"opacity: 1; stroke-width: 0px; fill: rgb(178, 24, 43); fill-opacity: 1;\"/><path class=\"point\" transform=\"translate(709.71,183.5)\" d=\"M3,0A3,3 0 1,1 0,-3A3,3 0 0,1 3,0Z\" style=\"opacity: 1; stroke-width: 0px; fill: rgb(178, 24, 43); fill-opacity: 1;\"/><path class=\"point\" transform=\"translate(709.86,183.5)\" d=\"M3,0A3,3 0 1,1 0,-3A3,3 0 0,1 3,0Z\" style=\"opacity: 1; stroke-width: 0px; fill: rgb(178, 24, 43); fill-opacity: 1;\"/><path class=\"point\" transform=\"translate(709.99,183.5)\" d=\"M3,0A3,3 0 1,1 0,-3A3,3 0 0,1 3,0Z\" style=\"opacity: 1; stroke-width: 0px; fill: rgb(178, 24, 43); fill-opacity: 1;\"/><path class=\"point\" transform=\"translate(710.19,183.5)\" d=\"M3,0A3,3 0 1,1 0,-3A3,3 0 0,1 3,0Z\" style=\"opacity: 1; stroke-width: 0px; fill: rgb(178, 24, 43); fill-opacity: 1;\"/><path class=\"point\" transform=\"translate(711.22,183.5)\" d=\"M3,0A3,3 0 1,1 0,-3A3,3 0 0,1 3,0Z\" style=\"opacity: 1; stroke-width: 0px; fill: rgb(178, 24, 43); fill-opacity: 1;\"/><path class=\"point\" transform=\"translate(711.74,183.5)\" d=\"M3,0A3,3 0 1,1 0,-3A3,3 0 0,1 3,0Z\" style=\"opacity: 1; stroke-width: 0px; fill: rgb(178, 24, 43); fill-opacity: 1;\"/><path class=\"point\" transform=\"translate(712.81,183.5)\" d=\"M3,0A3,3 0 1,1 0,-3A3,3 0 0,1 3,0Z\" style=\"opacity: 1; stroke-width: 0px; fill: rgb(178, 24, 43); fill-opacity: 1;\"/><path class=\"point\" transform=\"translate(714.06,183.5)\" d=\"M3,0A3,3 0 1,1 0,-3A3,3 0 0,1 3,0Z\" style=\"opacity: 1; stroke-width: 0px; fill: rgb(178, 24, 43); fill-opacity: 1;\"/><path class=\"point\" transform=\"translate(714.61,183.5)\" d=\"M3,0A3,3 0 1,1 0,-3A3,3 0 0,1 3,0Z\" style=\"opacity: 1; stroke-width: 0px; fill: rgb(178, 24, 43); fill-opacity: 1;\"/><path class=\"point\" transform=\"translate(715.07,183.5)\" d=\"M3,0A3,3 0 1,1 0,-3A3,3 0 0,1 3,0Z\" style=\"opacity: 1; stroke-width: 0px; fill: rgb(178, 24, 43); fill-opacity: 1;\"/><path class=\"point\" transform=\"translate(715.1,183.5)\" d=\"M3,0A3,3 0 1,1 0,-3A3,3 0 0,1 3,0Z\" style=\"opacity: 1; stroke-width: 0px; fill: rgb(178, 24, 43); fill-opacity: 1;\"/><path class=\"point\" transform=\"translate(716.76,183.5)\" d=\"M3,0A3,3 0 1,1 0,-3A3,3 0 0,1 3,0Z\" style=\"opacity: 1; stroke-width: 0px; fill: rgb(178, 24, 43); fill-opacity: 1;\"/><path class=\"point\" transform=\"translate(717.89,183.5)\" d=\"M3,0A3,3 0 1,1 0,-3A3,3 0 0,1 3,0Z\" style=\"opacity: 1; stroke-width: 0px; fill: rgb(178, 24, 43); fill-opacity: 1;\"/><path class=\"point\" transform=\"translate(719.02,183.5)\" d=\"M3,0A3,3 0 1,1 0,-3A3,3 0 0,1 3,0Z\" style=\"opacity: 1; stroke-width: 0px; fill: rgb(178, 24, 43); fill-opacity: 1;\"/><path class=\"point\" transform=\"translate(719.07,183.5)\" d=\"M3,0A3,3 0 1,1 0,-3A3,3 0 0,1 3,0Z\" style=\"opacity: 1; stroke-width: 0px; fill: rgb(178, 24, 43); fill-opacity: 1;\"/><path class=\"point\" transform=\"translate(722.49,183.5)\" d=\"M3,0A3,3 0 1,1 0,-3A3,3 0 0,1 3,0Z\" style=\"opacity: 1; stroke-width: 0px; fill: rgb(178, 24, 43); fill-opacity: 1;\"/><path class=\"point\" transform=\"translate(723.3,183.5)\" d=\"M3,0A3,3 0 1,1 0,-3A3,3 0 0,1 3,0Z\" style=\"opacity: 1; stroke-width: 0px; fill: rgb(178, 24, 43); fill-opacity: 1;\"/><path class=\"point\" transform=\"translate(725.52,183.5)\" d=\"M3,0A3,3 0 1,1 0,-3A3,3 0 0,1 3,0Z\" style=\"opacity: 1; stroke-width: 0px; fill: rgb(178, 24, 43); fill-opacity: 1;\"/><path class=\"point\" transform=\"translate(725.91,183.5)\" d=\"M3,0A3,3 0 1,1 0,-3A3,3 0 0,1 3,0Z\" style=\"opacity: 1; stroke-width: 0px; fill: rgb(178, 24, 43); fill-opacity: 1;\"/><path class=\"point\" transform=\"translate(726.14,183.5)\" d=\"M3,0A3,3 0 1,1 0,-3A3,3 0 0,1 3,0Z\" style=\"opacity: 1; stroke-width: 0px; fill: rgb(178, 24, 43); fill-opacity: 1;\"/><path class=\"point\" transform=\"translate(727.69,183.5)\" d=\"M3,0A3,3 0 1,1 0,-3A3,3 0 0,1 3,0Z\" style=\"opacity: 1; stroke-width: 0px; fill: rgb(178, 24, 43); fill-opacity: 1;\"/><path class=\"point\" transform=\"translate(727.96,183.5)\" d=\"M3,0A3,3 0 1,1 0,-3A3,3 0 0,1 3,0Z\" style=\"opacity: 1; stroke-width: 0px; fill: rgb(178, 24, 43); fill-opacity: 1;\"/><path class=\"point\" transform=\"translate(728.5,183.5)\" d=\"M3,0A3,3 0 1,1 0,-3A3,3 0 0,1 3,0Z\" style=\"opacity: 1; stroke-width: 0px; fill: rgb(178, 24, 43); fill-opacity: 1;\"/><path class=\"point\" transform=\"translate(732.52,183.5)\" d=\"M3,0A3,3 0 1,1 0,-3A3,3 0 0,1 3,0Z\" style=\"opacity: 1; stroke-width: 0px; fill: rgb(178, 24, 43); fill-opacity: 1;\"/><path class=\"point\" transform=\"translate(734.25,183.5)\" d=\"M3,0A3,3 0 1,1 0,-3A3,3 0 0,1 3,0Z\" style=\"opacity: 1; stroke-width: 0px; fill: rgb(178, 24, 43); fill-opacity: 1;\"/><path class=\"point\" transform=\"translate(734.36,183.5)\" d=\"M3,0A3,3 0 1,1 0,-3A3,3 0 0,1 3,0Z\" style=\"opacity: 1; stroke-width: 0px; fill: rgb(178, 24, 43); fill-opacity: 1;\"/><path class=\"point\" transform=\"translate(736.69,183.5)\" d=\"M3,0A3,3 0 1,1 0,-3A3,3 0 0,1 3,0Z\" style=\"opacity: 1; stroke-width: 0px; fill: rgb(178, 24, 43); fill-opacity: 1;\"/><path class=\"point\" transform=\"translate(737.56,183.5)\" d=\"M3,0A3,3 0 1,1 0,-3A3,3 0 0,1 3,0Z\" style=\"opacity: 1; stroke-width: 0px; fill: rgb(178, 24, 43); fill-opacity: 1;\"/><path class=\"point\" transform=\"translate(737.77,183.5)\" d=\"M3,0A3,3 0 1,1 0,-3A3,3 0 0,1 3,0Z\" style=\"opacity: 1; stroke-width: 0px; fill: rgb(178, 24, 43); fill-opacity: 1;\"/><path class=\"point\" transform=\"translate(738.27,183.5)\" d=\"M3,0A3,3 0 1,1 0,-3A3,3 0 0,1 3,0Z\" style=\"opacity: 1; stroke-width: 0px; fill: rgb(178, 24, 43); fill-opacity: 1;\"/><path class=\"point\" transform=\"translate(739.74,183.5)\" d=\"M3,0A3,3 0 1,1 0,-3A3,3 0 0,1 3,0Z\" style=\"opacity: 1; stroke-width: 0px; fill: rgb(178, 24, 43); fill-opacity: 1;\"/><path class=\"point\" transform=\"translate(741.38,183.5)\" d=\"M3,0A3,3 0 1,1 0,-3A3,3 0 0,1 3,0Z\" style=\"opacity: 1; stroke-width: 0px; fill: rgb(178, 24, 43); fill-opacity: 1;\"/><path class=\"point\" transform=\"translate(741.7,183.5)\" d=\"M3,0A3,3 0 1,1 0,-3A3,3 0 0,1 3,0Z\" style=\"opacity: 1; stroke-width: 0px; fill: rgb(178, 24, 43); fill-opacity: 1;\"/><path class=\"point\" transform=\"translate(743.85,183.5)\" d=\"M3,0A3,3 0 1,1 0,-3A3,3 0 0,1 3,0Z\" style=\"opacity: 1; stroke-width: 0px; fill: rgb(178, 24, 43); fill-opacity: 1;\"/><path class=\"point\" transform=\"translate(750.8,183.5)\" d=\"M3,0A3,3 0 1,1 0,-3A3,3 0 0,1 3,0Z\" style=\"opacity: 1; stroke-width: 0px; fill: rgb(178, 24, 43); fill-opacity: 1;\"/><path class=\"point\" transform=\"translate(751.05,183.5)\" d=\"M3,0A3,3 0 1,1 0,-3A3,3 0 0,1 3,0Z\" style=\"opacity: 1; stroke-width: 0px; fill: rgb(178, 24, 43); fill-opacity: 1;\"/><path class=\"point\" transform=\"translate(751.99,183.5)\" d=\"M3,0A3,3 0 1,1 0,-3A3,3 0 0,1 3,0Z\" style=\"opacity: 1; stroke-width: 0px; fill: rgb(178, 24, 43); fill-opacity: 1;\"/><path class=\"point\" transform=\"translate(753.66,183.5)\" d=\"M3,0A3,3 0 1,1 0,-3A3,3 0 0,1 3,0Z\" style=\"opacity: 1; stroke-width: 0px; fill: rgb(178, 24, 43); fill-opacity: 1;\"/><path class=\"point\" transform=\"translate(753.75,183.5)\" d=\"M3,0A3,3 0 1,1 0,-3A3,3 0 0,1 3,0Z\" style=\"opacity: 1; stroke-width: 0px; fill: rgb(178, 24, 43); fill-opacity: 1;\"/><path class=\"point\" transform=\"translate(759.43,183.5)\" d=\"M3,0A3,3 0 1,1 0,-3A3,3 0 0,1 3,0Z\" style=\"opacity: 1; stroke-width: 0px; fill: rgb(178, 24, 43); fill-opacity: 1;\"/><path class=\"point\" transform=\"translate(762.79,183.5)\" d=\"M3,0A3,3 0 1,1 0,-3A3,3 0 0,1 3,0Z\" style=\"opacity: 1; stroke-width: 0px; fill: rgb(178, 24, 43); fill-opacity: 1;\"/><path class=\"point\" transform=\"translate(763.98,183.5)\" d=\"M3,0A3,3 0 1,1 0,-3A3,3 0 0,1 3,0Z\" style=\"opacity: 1; stroke-width: 0px; fill: rgb(178, 24, 43); fill-opacity: 1;\"/><path class=\"point\" transform=\"translate(764.33,183.5)\" d=\"M3,0A3,3 0 1,1 0,-3A3,3 0 0,1 3,0Z\" style=\"opacity: 1; stroke-width: 0px; fill: rgb(178, 24, 43); fill-opacity: 1;\"/><path class=\"point\" transform=\"translate(768.82,183.5)\" d=\"M3,0A3,3 0 1,1 0,-3A3,3 0 0,1 3,0Z\" style=\"opacity: 1; stroke-width: 0px; fill: rgb(178, 24, 43); fill-opacity: 1;\"/><path class=\"point\" transform=\"translate(773.22,183.5)\" d=\"M3,0A3,3 0 1,1 0,-3A3,3 0 0,1 3,0Z\" style=\"opacity: 1; stroke-width: 0px; fill: rgb(178, 24, 43); fill-opacity: 1;\"/><path class=\"point\" transform=\"translate(774.43,183.5)\" d=\"M3,0A3,3 0 1,1 0,-3A3,3 0 0,1 3,0Z\" style=\"opacity: 1; stroke-width: 0px; fill: rgb(178, 24, 43); fill-opacity: 1;\"/><path class=\"point\" transform=\"translate(788.88,183.5)\" d=\"M3,0A3,3 0 1,1 0,-3A3,3 0 0,1 3,0Z\" style=\"opacity: 1; stroke-width: 0px; fill: rgb(178, 24, 43); fill-opacity: 1;\"/><path class=\"point\" transform=\"translate(791.94,183.5)\" d=\"M3,0A3,3 0 1,1 0,-3A3,3 0 0,1 3,0Z\" style=\"opacity: 1; stroke-width: 0px; fill: rgb(178, 24, 43); fill-opacity: 1;\"/><path class=\"point\" transform=\"translate(791.97,183.5)\" d=\"M3,0A3,3 0 1,1 0,-3A3,3 0 0,1 3,0Z\" style=\"opacity: 1; stroke-width: 0px; fill: rgb(178, 24, 43); fill-opacity: 1;\"/><path class=\"point\" transform=\"translate(798.72,183.5)\" d=\"M3,0A3,3 0 1,1 0,-3A3,3 0 0,1 3,0Z\" style=\"opacity: 1; stroke-width: 0px; fill: rgb(178, 24, 43); fill-opacity: 1;\"/><path class=\"point\" transform=\"translate(800.42,183.5)\" d=\"M3,0A3,3 0 1,1 0,-3A3,3 0 0,1 3,0Z\" style=\"opacity: 1; stroke-width: 0px; fill: rgb(178, 24, 43); fill-opacity: 1;\"/><path class=\"point\" transform=\"translate(805.46,183.5)\" d=\"M3,0A3,3 0 1,1 0,-3A3,3 0 0,1 3,0Z\" style=\"opacity: 1; stroke-width: 0px; fill: rgb(178, 24, 43); fill-opacity: 1;\"/><path class=\"point\" transform=\"translate(814.57,183.5)\" d=\"M3,0A3,3 0 1,1 0,-3A3,3 0 0,1 3,0Z\" style=\"opacity: 1; stroke-width: 0px; fill: rgb(178, 24, 43); fill-opacity: 1;\"/><path class=\"point\" transform=\"translate(819.08,183.5)\" d=\"M3,0A3,3 0 1,1 0,-3A3,3 0 0,1 3,0Z\" style=\"opacity: 1; stroke-width: 0px; fill: rgb(178, 24, 43); fill-opacity: 1;\"/><path class=\"point\" transform=\"translate(819.83,183.5)\" d=\"M3,0A3,3 0 1,1 0,-3A3,3 0 0,1 3,0Z\" style=\"opacity: 1; stroke-width: 0px; fill: rgb(178, 24, 43); fill-opacity: 1;\"/><path class=\"point\" transform=\"translate(838.08,183.5)\" d=\"M3,0A3,3 0 1,1 0,-3A3,3 0 0,1 3,0Z\" style=\"opacity: 1; stroke-width: 0px; fill: rgb(178, 24, 43); fill-opacity: 1;\"/><path class=\"point\" transform=\"translate(849.88,183.5)\" d=\"M3,0A3,3 0 1,1 0,-3A3,3 0 0,1 3,0Z\" style=\"opacity: 1; stroke-width: 0px; fill: rgb(178, 24, 43); fill-opacity: 1;\"/><path class=\"point\" transform=\"translate(855,183.5)\" d=\"M3,0A3,3 0 1,1 0,-3A3,3 0 0,1 3,0Z\" style=\"opacity: 1; stroke-width: 0px; fill: rgb(178, 24, 43); fill-opacity: 1;\"/></g></g></g></g><g class=\"overplot\"/><path class=\"xlines-above crisp\" d=\"M0,0\" style=\"fill: none;\"/><path class=\"ylines-above crisp\" d=\"M0,0\" style=\"fill: none;\"/><g class=\"overlines-above\"/><g class=\"xaxislayer-above\"><g class=\"xtick\"><text text-anchor=\"middle\" x=\"0\" y=\"460\" transform=\"translate(76.6,0)\" style=\"font-family: 'Open Sans', verdana, arial, sans-serif; font-size: 12px; fill: rgb(42, 63, 95); fill-opacity: 1; white-space: pre; opacity: 1;\">40</text></g><g class=\"xtick\"><text text-anchor=\"middle\" x=\"0\" y=\"460\" style=\"font-family: 'Open Sans', verdana, arial, sans-serif; font-size: 12px; fill: rgb(42, 63, 95); fill-opacity: 1; white-space: pre; opacity: 1;\" transform=\"translate(239.65,0)\">60</text></g><g class=\"xtick\"><text text-anchor=\"middle\" x=\"0\" y=\"460\" style=\"font-family: 'Open Sans', verdana, arial, sans-serif; font-size: 12px; fill: rgb(42, 63, 95); fill-opacity: 1; white-space: pre; opacity: 1;\" transform=\"translate(402.7,0)\">80</text></g><g class=\"xtick\"><text text-anchor=\"middle\" x=\"0\" y=\"460\" style=\"font-family: 'Open Sans', verdana, arial, sans-serif; font-size: 12px; fill: rgb(42, 63, 95); fill-opacity: 1; white-space: pre; opacity: 1;\" transform=\"translate(565.75,0)\">100</text></g><g class=\"xtick\"><text text-anchor=\"middle\" x=\"0\" y=\"460\" style=\"font-family: 'Open Sans', verdana, arial, sans-serif; font-size: 12px; fill: rgb(42, 63, 95); fill-opacity: 1; white-space: pre; opacity: 1;\" transform=\"translate(728.8,0)\">120</text></g><g class=\"xtick\"><text text-anchor=\"middle\" x=\"0\" y=\"460\" style=\"font-family: 'Open Sans', verdana, arial, sans-serif; font-size: 12px; fill: rgb(42, 63, 95); fill-opacity: 1; white-space: pre; opacity: 1;\" transform=\"translate(891.85,0)\">140</text></g></g><g class=\"yaxislayer-above\"><g class=\"ytick\"><text text-anchor=\"end\" x=\"49\" y=\"4.199999999999999\" transform=\"translate(0,263.5)\" style=\"font-family: 'Open Sans', verdana, arial, sans-serif; font-size: 12px; fill: rgb(42, 63, 95); fill-opacity: 1; white-space: pre; opacity: 1;\">trace 0</text></g></g><g class=\"overaxes-above\"/></g></g><g class=\"polarlayer\"/><g class=\"smithlayer\"/><g class=\"ternarylayer\"/><g class=\"geolayer\"/><g class=\"funnelarealayer\"/><g class=\"pielayer\"/><g class=\"iciclelayer\"/><g class=\"treemaplayer\"/><g class=\"sunburstlayer\"/><g class=\"glimages\"/><defs id=\"topdefs-3fac8b\"><g class=\"clips\"/></defs><g class=\"layer-above\"><g class=\"imagelayer\"/><g class=\"shapelayer\"/></g><g class=\"infolayer\"><g class=\"g-gtitle\"><text class=\"gtitle\" x=\"150\" y=\"25\" text-anchor=\"middle\" dy=\"0.7em\" style=\"font-family: 'Times New Roman'; font-size: 26px; fill: rgb(0, 0, 0); opacity: 1; font-weight: normal; white-space: pre;\">Boxplot of Weight</text></g><g class=\"g-xtitle\"><text class=\"xtitle\" x=\"500\" y=\"487.3\" text-anchor=\"middle\" style=\"font-family: 'Open Sans', verdana, arial, sans-serif; font-size: 14px; fill: rgb(42, 63, 95); opacity: 1; font-weight: normal; white-space: pre;\">Age</text></g><g class=\"g-ytitle\"/></g></svg>"
      ]
     },
     "metadata": {},
     "output_type": "display_data"
    }
   ],
   "source": [
    "fig = go.Figure(data=[go.Box(\n",
    "    x=df['wtkg'],\n",
    "    marker=dict(color=palette[1])\n",
    ")])\n",
    "\n",
    "fig.update_layout(\n",
    "    title_text=\"Boxplot of Weight\",\n",
    "    title_font_size=24,\n",
    "    title_font_family=\"Times New Roman\",\n",
    "    title_font_color=\"#000000\",  \n",
    "    paper_bgcolor='#ffffff',  \n",
    "    plot_bgcolor='#ffffff',  \n",
    "    xaxis=dict(title=\"Age\"),\n",
    ")\n",
    "\n",
    "fig.update_layout(\n",
    "    title={\n",
    "        'y':0.95,\n",
    "        'x':0.15,\n",
    "        'xanchor': 'center',\n",
    "        'yanchor': 'top'},\n",
    "    title_font_size=26,\n",
    "    margin=dict(l=50, r=50, t=80, b=50)\n",
    ")\n",
    "\n",
    "\n",
    "\n",
    "fig.update_layout(width=1000)\n",
    "\n",
    "fig.show('svg')"
   ]
  },
  {
   "cell_type": "markdown",
   "id": "6352fa67",
   "metadata": {
    "papermill": {
     "duration": 0.014412,
     "end_time": "2024-05-28T07:07:25.022339",
     "exception": false,
     "start_time": "2024-05-28T07:07:25.007927",
     "status": "completed"
    },
    "tags": []
   },
   "source": [
    "*A great deal of outliers are present beyond 100*"
   ]
  },
  {
   "cell_type": "markdown",
   "id": "189198d5",
   "metadata": {
    "papermill": {
     "duration": 0.014243,
     "end_time": "2024-05-28T07:07:25.051266",
     "exception": false,
     "start_time": "2024-05-28T07:07:25.037023",
     "status": "completed"
    },
    "tags": []
   },
   "source": [
    "----------------------------------------------------------------------------------------------------------------------------------------------------------"
   ]
  },
  {
   "cell_type": "markdown",
   "id": "a416caff",
   "metadata": {
    "papermill": {
     "duration": 0.014428,
     "end_time": "2024-05-28T07:07:25.080369",
     "exception": false,
     "start_time": "2024-05-28T07:07:25.065941",
     "status": "completed"
    },
    "tags": []
   },
   "source": [
    "## hemo : Hemophilia \n",
    "***About***\n",
    "\n",
    "<div>\n",
    "<p>\n",
    "It refers to a genetic disorder characterized by the inability of the blood to clot normally. Individuals with hemophilia lack certain proteins, known as clotting factors, that are essential for blood clotting. As a result, they are at an increased risk of excessive bleeding, both internally and externally, even from minor injuries.\n",
    "\n",
    " </p>  \n",
    "</div>\n",
    "\n",
    "\n",
    "***Conclusions***\n",
    "- *Majority of the patients do not have hemophilia*"
   ]
  },
  {
   "cell_type": "code",
   "execution_count": 15,
   "id": "f99f6574",
   "metadata": {
    "execution": {
     "iopub.execute_input": "2024-05-28T07:07:25.112222Z",
     "iopub.status.busy": "2024-05-28T07:07:25.111371Z",
     "iopub.status.idle": "2024-05-28T07:07:25.120038Z",
     "shell.execute_reply": "2024-05-28T07:07:25.119002Z"
    },
    "papermill": {
     "duration": 0.026942,
     "end_time": "2024-05-28T07:07:25.122369",
     "exception": false,
     "start_time": "2024-05-28T07:07:25.095427",
     "status": "completed"
    },
    "tags": []
   },
   "outputs": [
    {
     "data": {
      "text/plain": [
       "hemo\n",
       "0    14520\n",
       "1      480\n",
       "Name: count, dtype: int64"
      ]
     },
     "execution_count": 15,
     "metadata": {},
     "output_type": "execute_result"
    }
   ],
   "source": [
    "df['hemo'].value_counts()"
   ]
  },
  {
   "cell_type": "code",
   "execution_count": 16,
   "id": "2161234c",
   "metadata": {
    "_kg_hide-input": false,
    "execution": {
     "iopub.execute_input": "2024-05-28T07:07:25.153764Z",
     "iopub.status.busy": "2024-05-28T07:07:25.153381Z",
     "iopub.status.idle": "2024-05-28T07:07:25.285260Z",
     "shell.execute_reply": "2024-05-28T07:07:25.283757Z"
    },
    "papermill": {
     "duration": 0.150569,
     "end_time": "2024-05-28T07:07:25.287888",
     "exception": false,
     "start_time": "2024-05-28T07:07:25.137319",
     "status": "completed"
    },
    "tags": []
   },
   "outputs": [
    {
     "data": {
      "image/svg+xml": [
       "<svg class=\"main-svg\" xmlns=\"http://www.w3.org/2000/svg\" xmlns:xlink=\"http://www.w3.org/1999/xlink\" width=\"1000\" height=\"500\" style=\"\" viewBox=\"0 0 1000 500\"><rect x=\"0\" y=\"0\" width=\"1000\" height=\"500\" style=\"fill: rgb(255, 255, 255); fill-opacity: 1;\"/><defs id=\"defs-5ad406\"><g class=\"clips\"/><g class=\"gradients\"/><g class=\"patterns\"/></defs><g class=\"bglayer\"/><g class=\"layer-below\"><g class=\"imagelayer\"/><g class=\"shapelayer\"/></g><g class=\"cartesianlayer\"/><g class=\"polarlayer\"/><g class=\"smithlayer\"/><g class=\"ternarylayer\"/><g class=\"geolayer\"/><g class=\"funnelarealayer\"/><g class=\"pielayer\"><g class=\"trace\" stroke-linejoin=\"round\" style=\"opacity: 1;\"><g class=\"slice\"><path class=\"surface\" d=\"M500,265l0,-185a185,185 0 1 1 -36.94634639516533,3.7268153089143254Z\" style=\"pointer-events: none; fill: rgb(197, 27, 125); fill-opacity: 1; stroke-width: 1; stroke: rgb(0, 0, 0); stroke-opacity: 1;\"/><g class=\"slicetext\"><text data-notex=\"1\" class=\"slicetext\" transform=\"translate(509.2834586237374,352.93140657077026)\" text-anchor=\"middle\" x=\"0\" y=\"0\" style=\"font-family: 'Open Sans', verdana, arial, sans-serif; font-size: 14px; fill: rgb(255, 255, 255); fill-opacity: 1; white-space: pre;\"><tspan class=\"line\" dy=\"0em\" x=\"0\" y=\"0\">0</tspan><tspan class=\"line\" dy=\"1.3em\" x=\"0\" y=\"0\">96.8%</tspan></text></g></g><g class=\"slice\"><path class=\"surface\" d=\"M500,265l-36.94634639516529,-181.27318469108567a185,185 0 0 1 36.94634639516529,-3.7268153089143254Z\" style=\"pointer-events: none; fill: rgb(222, 119, 174); fill-opacity: 1; stroke-width: 1; stroke: rgb(0, 0, 0); stroke-opacity: 1;\"/><g class=\"slicetext\"><text data-notex=\"1\" class=\"slicetext\" transform=\"translate(456.91355150252525,59.903191898814484)\" text-anchor=\"middle\" x=\"0\" y=\"0\" style=\"font-family: 'Open Sans', verdana, arial, sans-serif; font-size: 14px; fill: rgb(255, 255, 255); fill-opacity: 1; white-space: pre;\"><tspan class=\"line\" dy=\"0em\" x=\"0\" y=\"0\">1</tspan><tspan class=\"line\" dy=\"1.3em\" x=\"0\" y=\"0\">3.2%</tspan></text></g></g></g></g><g class=\"iciclelayer\"/><g class=\"treemaplayer\"/><g class=\"sunburstlayer\"/><g class=\"glimages\"/><defs id=\"topdefs-5ad406\"><g class=\"clips\"/><clipPath id=\"legend5ad406\"><rect width=\"144.4\" height=\"75.4\" x=\"0.3\" y=\"0.3\"/></clipPath></defs><g class=\"layer-above\"><g class=\"imagelayer\"/><g class=\"shapelayer\"/></g><g class=\"infolayer\"><g class=\"legend\" pointer-events=\"all\" transform=\"translate(704,227)\"><rect class=\"bg\" shape-rendering=\"crispEdges\" style=\"stroke: rgb(0, 0, 0); stroke-opacity: 1; fill: rgb(255, 255, 255); fill-opacity: 1; stroke-width: 0.3px;\" width=\"144.7\" height=\"75.7\" x=\"0.15\" y=\"0.15\"/><g class=\"scrollbox\" transform=\"\" clip-path=\"url(#legend5ad406)\"><text class=\"legendtitletext\" text-anchor=\"start\" x=\"2.3\" y=\"22.400000000000002\" style=\"font-family: 'Times New Roman'; font-size: 17px; fill: rgb(0, 0, 0); fill-opacity: 1; white-space: pre;\">Hemophilia (no/yes)</text><g class=\"groups\"><g class=\"traces\" transform=\"translate(0.3,38)\" style=\"opacity: 1;\"><text class=\"legendtext\" text-anchor=\"start\" x=\"40\" y=\"5.46\" style=\"font-family: 'Times New Roman'; font-size: 14px; fill: rgb(0, 0, 0); fill-opacity: 1; white-space: pre;\">0</text><g class=\"layers\" style=\"opacity: 1;\"><g class=\"legendfill\"/><g class=\"legendlines\"/><g class=\"legendsymbols\"><g class=\"legendpoints\"><path class=\"legendpie\" d=\"M6,6H-6V-6H6Z\" transform=\"translate(20,0)\" style=\"fill: rgb(197, 27, 125); fill-opacity: 1; stroke-width: 1; stroke: rgb(0, 0, 0); stroke-opacity: 1;\"/></g></g></g><rect class=\"legendtoggle\" x=\"0\" y=\"-10.6\" width=\"47\" height=\"21.2\" style=\"fill: rgb(0, 0, 0); fill-opacity: 0;\"/></g><g class=\"traces\" transform=\"translate(0.3,59.2)\" style=\"opacity: 1;\"><text class=\"legendtext\" text-anchor=\"start\" x=\"40\" y=\"5.46\" style=\"font-family: 'Times New Roman'; font-size: 14px; fill: rgb(0, 0, 0); fill-opacity: 1; white-space: pre;\">1</text><g class=\"layers\" style=\"opacity: 1;\"><g class=\"legendfill\"/><g class=\"legendlines\"/><g class=\"legendsymbols\"><g class=\"legendpoints\"><path class=\"legendpie\" d=\"M6,6H-6V-6H6Z\" transform=\"translate(20,0)\" style=\"fill: rgb(222, 119, 174); fill-opacity: 1; stroke-width: 1; stroke: rgb(0, 0, 0); stroke-opacity: 1;\"/></g></g></g><rect class=\"legendtoggle\" x=\"0\" y=\"-10.6\" width=\"47\" height=\"21.2\" style=\"fill: rgb(0, 0, 0); fill-opacity: 0;\"/></g></g></g><rect class=\"scrollbar\" rx=\"20\" ry=\"3\" width=\"0\" height=\"0\" style=\"fill: rgb(128, 139, 164); fill-opacity: 1;\" x=\"0\" y=\"0\"/></g><g class=\"g-gtitle\"><text class=\"gtitle\" x=\"210\" y=\"25\" text-anchor=\"middle\" dy=\"0.7em\" style=\"font-family: 'Times New Roman'; font-size: 26px; fill: rgb(0, 0, 0); opacity: 1; font-weight: normal; white-space: pre;\">Distribution of Hemophilia</text></g><g class=\"annotation\" data-index=\"0\" style=\"opacity: 1;\"><g class=\"annotation-text-g\" transform=\"rotate(0,500,477.00000000000006)\"><g class=\"cursor-pointer\" transform=\"translate(363,467)\"><rect class=\"bg\" x=\"0.5\" y=\"0.5\" width=\"273\" height=\"19\" style=\"stroke-width: 1px; stroke: rgb(0, 0, 0); stroke-opacity: 0; fill: rgb(0, 0, 0); fill-opacity: 0;\"/><text class=\"annotation-text\" text-anchor=\"middle\" x=\"137.03125\" y=\"15\" style=\"font-family: 'Open Sans', verdana, arial, sans-serif; font-size: 14px; fill: rgb(0, 0, 0); fill-opacity: 1; white-space: pre;\">Majority of patients do not have hemophilia.</text></g></g></g></g></svg>"
      ]
     },
     "metadata": {},
     "output_type": "display_data"
    }
   ],
   "source": [
    "palette = cl.scales['9']['div']['PiYG']\n",
    "\n",
    "\n",
    "hemo = df['hemo'].value_counts().reset_index()\n",
    "hemo.columns = ['hemo', 'count']\n",
    "\n",
    "fig = go.Figure(data=[go.Pie(\n",
    "    labels=hemo['hemo'],\n",
    "    values=hemo['count'],\n",
    "    marker=dict(colors=palette, line=dict(color='#000000', width=1)),\n",
    "    textinfo=\"label+percent\",\n",
    "    textfont=dict(size=14, color='#FFFFFF')\n",
    ")])\n",
    "\n",
    "\n",
    "fig.update_layout(\n",
    "    title_text=\"Hemophilia Distribution\",\n",
    "    title_font_size=24,\n",
    "    title_font_family=\"Times New Roman\",\n",
    "    title_font_color=\"#000000\",  \n",
    "    paper_bgcolor='#ffffff',  \n",
    "    plot_bgcolor='#ffffff', \n",
    "    showlegend=True,\n",
    "    legend_title_text='Hemophilia (no/yes)',\n",
    "    legend=dict(\n",
    "        x=0.8,\n",
    "        y=0.5,\n",
    "        traceorder='normal',\n",
    "        font=dict(\n",
    "            family=\"Times New Roman\",\n",
    "            size=14,\n",
    "            color=\"#000000\"\n",
    "        ),\n",
    "        bgcolor=\"#ffffff\",  \n",
    "        bordercolor=\"#000000\", \n",
    "        borderwidth=0.3,\n",
    "        orientation=\"v\" \n",
    "    )\n",
    ")\n",
    "\n",
    "fig.update_layout(width=1000)\n",
    "\n",
    "fig.update_layout(\n",
    "    title={\n",
    "        'text': \"Distribution of Hemophilia\",\n",
    "        'y':0.95,\n",
    "        'x':0.21,\n",
    "        'xanchor': 'center',\n",
    "        'yanchor': 'top'},\n",
    "    title_font_size=26,\n",
    "    margin=dict(l=50, r=50, t=80, b=50)\n",
    ")\n",
    "\n",
    "fig.add_annotation(\n",
    "    text=\"Majority of patients do not have hemophilia.\",\n",
    "    x=0.5,\n",
    "    y=-0.10,\n",
    "    showarrow=False,\n",
    "    font=dict(color=\"#000000\", size=14) \n",
    ")\n",
    "\n",
    "# Show the pie chart\n",
    "fig.show('svg')\n"
   ]
  },
  {
   "cell_type": "markdown",
   "id": "c609b84c",
   "metadata": {
    "papermill": {
     "duration": 0.014764,
     "end_time": "2024-05-28T07:07:25.317967",
     "exception": false,
     "start_time": "2024-05-28T07:07:25.303203",
     "status": "completed"
    },
    "tags": []
   },
   "source": [
    "----------------------------------------------------------------------------------------------------------------------------------------------------------"
   ]
  },
  {
   "cell_type": "markdown",
   "id": "d915b690",
   "metadata": {
    "papermill": {
     "duration": 0.01455,
     "end_time": "2024-05-28T07:07:25.347893",
     "exception": false,
     "start_time": "2024-05-28T07:07:25.333343",
     "status": "completed"
    },
    "tags": []
   },
   "source": [
    "## homo : Homosexual Activity \n",
    "***About***\n",
    "\n",
    "<div>\n",
    "<p>\n",
    "Homosexual activity refers to sexual activity between individuals of the same sex, often between men. Historically, homosexual activity has been associated with a higher risk of HIV transmission due to various factor.\n",
    " </p>  \n",
    "</div>\n",
    "\n",
    "\n",
    "***Conclusions***\n",
    "- *Majority of the patients have indulged in homosexual activity*"
   ]
  },
  {
   "cell_type": "code",
   "execution_count": 17,
   "id": "07825e92",
   "metadata": {
    "execution": {
     "iopub.execute_input": "2024-05-28T07:07:25.379567Z",
     "iopub.status.busy": "2024-05-28T07:07:25.379186Z",
     "iopub.status.idle": "2024-05-28T07:07:25.388390Z",
     "shell.execute_reply": "2024-05-28T07:07:25.387072Z"
    },
    "papermill": {
     "duration": 0.028185,
     "end_time": "2024-05-28T07:07:25.390901",
     "exception": false,
     "start_time": "2024-05-28T07:07:25.362716",
     "status": "completed"
    },
    "tags": []
   },
   "outputs": [
    {
     "data": {
      "text/plain": [
       "homo\n",
       "1    9791\n",
       "0    5209\n",
       "Name: count, dtype: int64"
      ]
     },
     "execution_count": 17,
     "metadata": {},
     "output_type": "execute_result"
    }
   ],
   "source": [
    "df['homo'].value_counts()"
   ]
  },
  {
   "cell_type": "code",
   "execution_count": 18,
   "id": "428275ef",
   "metadata": {
    "execution": {
     "iopub.execute_input": "2024-05-28T07:07:25.424271Z",
     "iopub.status.busy": "2024-05-28T07:07:25.423906Z",
     "iopub.status.idle": "2024-05-28T07:07:25.487096Z",
     "shell.execute_reply": "2024-05-28T07:07:25.485954Z"
    },
    "papermill": {
     "duration": 0.083082,
     "end_time": "2024-05-28T07:07:25.489621",
     "exception": false,
     "start_time": "2024-05-28T07:07:25.406539",
     "status": "completed"
    },
    "tags": []
   },
   "outputs": [
    {
     "data": {
      "image/svg+xml": [
       "<svg class=\"main-svg\" xmlns=\"http://www.w3.org/2000/svg\" xmlns:xlink=\"http://www.w3.org/1999/xlink\" width=\"1000\" height=\"500\" style=\"\" viewBox=\"0 0 1000 500\"><rect x=\"0\" y=\"0\" width=\"1000\" height=\"500\" style=\"fill: rgb(255, 255, 255); fill-opacity: 1;\"/><defs id=\"defs-ff8c1b\"><g class=\"clips\"/><g class=\"gradients\"/><g class=\"patterns\"/></defs><g class=\"bglayer\"/><g class=\"layer-below\"><g class=\"imagelayer\"/><g class=\"shapelayer\"/></g><g class=\"cartesianlayer\"/><g class=\"polarlayer\"/><g class=\"smithlayer\"/><g class=\"ternarylayer\"/><g class=\"geolayer\"/><g class=\"funnelarealayer\"/><g class=\"pielayer\"><g class=\"trace\" stroke-linejoin=\"round\" style=\"opacity: 1;\"><g class=\"slice\"><path class=\"surface\" d=\"M500,265l0,-185a185,185 0 1 1 -151.51349032494048,291.1539554117234Z\" style=\"pointer-events: none; fill: rgb(215, 48, 39); fill-opacity: 1; stroke-width: 1; stroke: rgb(0, 0, 0); stroke-opacity: 1;\"/><g class=\"slicetext\"><text data-notex=\"1\" class=\"slicetext\" transform=\"translate(582.0544649540542,303.5987276758746)\" text-anchor=\"middle\" x=\"0\" y=\"0\" style=\"font-family: 'Open Sans', verdana, arial, sans-serif; font-size: 14px; fill: rgb(255, 255, 255); fill-opacity: 1; white-space: pre;\"><tspan class=\"line\" dy=\"0em\" x=\"0\" y=\"0\">1</tspan><tspan class=\"line\" dy=\"1.3em\" x=\"0\" y=\"0\">65.3%</tspan></text></g></g><g class=\"slice\"><path class=\"surface\" d=\"M500,265l-151.51349032494056,106.15395541172333a185,185 0 0 1 151.51349032494056,-291.15395541172336Z\" style=\"pointer-events: none; fill: rgb(244, 109, 67); fill-opacity: 1; stroke-width: 1; stroke: rgb(0, 0, 0); stroke-opacity: 1;\"/><g class=\"slicetext\"><text data-notex=\"1\" class=\"slicetext\" transform=\"translate(413.03530379188135,215.64291404709883)\" text-anchor=\"middle\" x=\"0\" y=\"0\" style=\"font-family: 'Open Sans', verdana, arial, sans-serif; font-size: 14px; fill: rgb(255, 255, 255); fill-opacity: 1; white-space: pre;\"><tspan class=\"line\" dy=\"0em\" x=\"0\" y=\"0\">0</tspan><tspan class=\"line\" dy=\"1.3em\" x=\"0\" y=\"0\">34.7%</tspan></text></g></g></g></g><g class=\"iciclelayer\"/><g class=\"treemaplayer\"/><g class=\"sunburstlayer\"/><g class=\"glimages\"/><defs id=\"topdefs-ff8c1b\"><g class=\"clips\"/><clipPath id=\"legendff8c1b\"><rect width=\"210.6\" height=\"74.6\" x=\"0.7\" y=\"0.7\"/></clipPath></defs><g class=\"layer-above\"><g class=\"imagelayer\"/><g class=\"shapelayer\"/></g><g class=\"infolayer\"><g class=\"legend\" pointer-events=\"all\" transform=\"translate(770,227)\"><rect class=\"bg\" shape-rendering=\"crispEdges\" style=\"stroke: rgb(0, 0, 0); stroke-opacity: 1; fill: rgb(255, 255, 255); fill-opacity: 1; stroke-width: 0.7px;\" width=\"211.3\" height=\"75.3\" x=\"0.35\" y=\"0.35\"/><g class=\"scrollbox\" transform=\"\" clip-path=\"url(#legendff8c1b)\"><text class=\"legendtitletext\" text-anchor=\"start\" x=\"2.7\" y=\"22.8\" style=\"font-family: 'Times New Roman'; font-size: 17px; fill: rgb(0, 0, 0); fill-opacity: 1; white-space: pre;\">Homosexual Activity (no/yes)</text><g class=\"groups\"><g class=\"traces\" transform=\"translate(0.7,38.4)\" style=\"opacity: 1;\"><text class=\"legendtext\" text-anchor=\"start\" x=\"40\" y=\"5.46\" style=\"font-family: 'Times New Roman'; font-size: 14px; fill: rgb(0, 0, 0); fill-opacity: 1; white-space: pre;\">1</text><g class=\"layers\" style=\"opacity: 1;\"><g class=\"legendfill\"/><g class=\"legendlines\"/><g class=\"legendsymbols\"><g class=\"legendpoints\"><path class=\"legendpie\" d=\"M6,6H-6V-6H6Z\" transform=\"translate(20,0)\" style=\"fill: rgb(215, 48, 39); fill-opacity: 1; stroke-width: 1; stroke: rgb(0, 0, 0); stroke-opacity: 1;\"/></g></g></g><rect class=\"legendtoggle\" x=\"0\" y=\"-10.6\" width=\"47\" height=\"21.2\" style=\"fill: rgb(0, 0, 0); fill-opacity: 0;\"/></g><g class=\"traces\" transform=\"translate(0.7,59.6)\" style=\"opacity: 1;\"><text class=\"legendtext\" text-anchor=\"start\" x=\"40\" y=\"5.46\" style=\"font-family: 'Times New Roman'; font-size: 14px; fill: rgb(0, 0, 0); fill-opacity: 1; white-space: pre;\">0</text><g class=\"layers\" style=\"opacity: 1;\"><g class=\"legendfill\"/><g class=\"legendlines\"/><g class=\"legendsymbols\"><g class=\"legendpoints\"><path class=\"legendpie\" d=\"M6,6H-6V-6H6Z\" transform=\"translate(20,0)\" style=\"fill: rgb(244, 109, 67); fill-opacity: 1; stroke-width: 1; stroke: rgb(0, 0, 0); stroke-opacity: 1;\"/></g></g></g><rect class=\"legendtoggle\" x=\"0\" y=\"-10.6\" width=\"47\" height=\"21.2\" style=\"fill: rgb(0, 0, 0); fill-opacity: 0;\"/></g></g></g><rect class=\"scrollbar\" rx=\"20\" ry=\"3\" width=\"0\" height=\"0\" x=\"0\" y=\"0\" style=\"fill: rgb(128, 139, 164); fill-opacity: 1;\"/></g><g class=\"g-gtitle\"><text class=\"gtitle\" x=\"210\" y=\"25\" text-anchor=\"middle\" dy=\"0.7em\" style=\"font-family: 'Times New Roman'; font-size: 26px; fill: rgb(0, 0, 0); opacity: 1; font-weight: normal; white-space: pre;\">Distribution of Homosexual Activity</text></g><g class=\"annotation\" data-index=\"0\" style=\"opacity: 1;\"><g class=\"annotation-text-g\" transform=\"rotate(0,500,477.00000000000006)\"><g class=\"cursor-pointer\" transform=\"translate(322,467)\"><rect class=\"bg\" x=\"0.5\" y=\"0.5\" width=\"355\" height=\"19\" style=\"stroke-width: 1px; stroke: rgb(0, 0, 0); stroke-opacity: 0; fill: rgb(0, 0, 0); fill-opacity: 0;\"/><text class=\"annotation-text\" text-anchor=\"middle\" x=\"178.140625\" y=\"15\" style=\"font-family: 'Open Sans', verdana, arial, sans-serif; font-size: 14px; fill: rgb(0, 0, 0); fill-opacity: 1; white-space: pre;\">Majority of patients have indulged in homosexual activity.</text></g></g></g></g></svg>"
      ]
     },
     "metadata": {},
     "output_type": "display_data"
    }
   ],
   "source": [
    "palette = cl.scales['9']['div']['RdYlBu']\n",
    "\n",
    "\n",
    "homo = df['homo'].value_counts().reset_index()\n",
    "homo.columns = ['homo', 'count']\n",
    "\n",
    "fig = go.Figure(data=[go.Pie(\n",
    "    labels=homo['homo'],\n",
    "    values=homo['count'],\n",
    "    marker=dict(colors=palette, line=dict(color='#000000', width=1)),\n",
    "    textinfo=\"label+percent\",\n",
    "    textfont=dict(size=14, color='#FFFFFF')\n",
    ")])\n",
    "\n",
    "\n",
    "fig.update_layout(\n",
    "    title_text=\"Distribution of Homosexual Activity\",\n",
    "    title_font_size=24,\n",
    "    title_font_family=\"Times New Roman\",\n",
    "    title_font_color=\"#000000\",  \n",
    "    paper_bgcolor='#ffffff',  \n",
    "    plot_bgcolor='#ffffff', \n",
    "    showlegend=True,\n",
    "    legend_title_text='Homosexual Activity (no/yes)',\n",
    "    legend=dict(\n",
    "        x=0.8,\n",
    "        y=0.5,\n",
    "        traceorder='normal',\n",
    "        font=dict(\n",
    "            family=\"Times New Roman\",\n",
    "            size=14,\n",
    "            color=\"#000000\"\n",
    "        ),\n",
    "        bgcolor=\"#ffffff\",  \n",
    "        bordercolor=\"#000000\", \n",
    "        borderwidth=0.7,\n",
    "        orientation=\"v\" \n",
    "    )\n",
    ")\n",
    "\n",
    "fig.update_layout(width=1000)\n",
    "\n",
    "fig.update_layout(\n",
    "    title={\n",
    "        'text': \"Distribution of Homosexual Activity\",\n",
    "        'y':0.95,\n",
    "        'x':0.21,\n",
    "        'xanchor': 'center',\n",
    "        'yanchor': 'top'},\n",
    "    title_font_size=26,\n",
    "    margin=dict(l=50, r=50, t=80, b=50)\n",
    ")\n",
    "\n",
    "fig.add_annotation(\n",
    "    text=\"Majority of patients have indulged in homosexual activity.\",\n",
    "    x=0.5,\n",
    "    y=-0.10,\n",
    "    showarrow=False,\n",
    "    font=dict(color=\"#000000\", size=14) \n",
    ")\n",
    "\n",
    "# Show the pie chart\n",
    "fig.show('svg')\n"
   ]
  },
  {
   "cell_type": "markdown",
   "id": "47367cc0",
   "metadata": {
    "papermill": {
     "duration": 0.015204,
     "end_time": "2024-05-28T07:07:25.520979",
     "exception": false,
     "start_time": "2024-05-28T07:07:25.505775",
     "status": "completed"
    },
    "tags": []
   },
   "source": [
    "----------------------------------------------------------------------------------------------------------------------------------------------------------\n"
   ]
  },
  {
   "cell_type": "markdown",
   "id": "5b209a6c",
   "metadata": {
    "papermill": {
     "duration": 0.015129,
     "end_time": "2024-05-28T07:07:25.551622",
     "exception": false,
     "start_time": "2024-05-28T07:07:25.536493",
     "status": "completed"
    },
    "tags": []
   },
   "source": [
    "## drugs :  history of intravenous (IV) drug use  \n",
    "\n",
    "***Conclusions***\n",
    "- *Majority of the patients do not have a history of drug use*"
   ]
  },
  {
   "cell_type": "code",
   "execution_count": 19,
   "id": "29b3ed66",
   "metadata": {
    "execution": {
     "iopub.execute_input": "2024-05-28T07:07:25.584472Z",
     "iopub.status.busy": "2024-05-28T07:07:25.584102Z",
     "iopub.status.idle": "2024-05-28T07:07:25.593014Z",
     "shell.execute_reply": "2024-05-28T07:07:25.591764Z"
    },
    "papermill": {
     "duration": 0.028007,
     "end_time": "2024-05-28T07:07:25.595272",
     "exception": false,
     "start_time": "2024-05-28T07:07:25.567265",
     "status": "completed"
    },
    "tags": []
   },
   "outputs": [
    {
     "data": {
      "text/plain": [
       "drugs\n",
       "0    13082\n",
       "1     1918\n",
       "Name: count, dtype: int64"
      ]
     },
     "execution_count": 19,
     "metadata": {},
     "output_type": "execute_result"
    }
   ],
   "source": [
    "df['drugs'].value_counts()"
   ]
  },
  {
   "cell_type": "code",
   "execution_count": 20,
   "id": "74bf648e",
   "metadata": {
    "execution": {
     "iopub.execute_input": "2024-05-28T07:07:25.627935Z",
     "iopub.status.busy": "2024-05-28T07:07:25.627507Z",
     "iopub.status.idle": "2024-05-28T07:07:25.696857Z",
     "shell.execute_reply": "2024-05-28T07:07:25.695781Z"
    },
    "papermill": {
     "duration": 0.088761,
     "end_time": "2024-05-28T07:07:25.699480",
     "exception": false,
     "start_time": "2024-05-28T07:07:25.610719",
     "status": "completed"
    },
    "tags": []
   },
   "outputs": [
    {
     "data": {
      "image/svg+xml": [
       "<svg class=\"main-svg\" xmlns=\"http://www.w3.org/2000/svg\" xmlns:xlink=\"http://www.w3.org/1999/xlink\" width=\"1000\" height=\"500\" style=\"\" viewBox=\"0 0 1000 500\"><rect x=\"0\" y=\"0\" width=\"1000\" height=\"500\" style=\"fill: rgb(255, 255, 255); fill-opacity: 1;\"/><defs id=\"defs-09011f\"><g class=\"clips\"/><g class=\"gradients\"/><g class=\"patterns\"/></defs><g class=\"bglayer\"/><g class=\"layer-below\"><g class=\"imagelayer\"/><g class=\"shapelayer\"/></g><g class=\"cartesianlayer\"/><g class=\"polarlayer\"/><g class=\"smithlayer\"/><g class=\"ternarylayer\"/><g class=\"geolayer\"/><g class=\"funnelarealayer\"/><g class=\"pielayer\"><g class=\"trace\" stroke-linejoin=\"round\" style=\"opacity: 1;\"><g class=\"slice\"><path class=\"surface\" d=\"M500,265l0,-185a185,185 0 1 1 -133.14961683193496,56.562546204353225Z\" style=\"pointer-events: none; fill: rgb(165, 0, 38); fill-opacity: 1; stroke-width: 1; stroke: rgb(0, 0, 0); stroke-opacity: 1;\"/><g class=\"slicetext\"><text data-notex=\"1\" class=\"slicetext\" transform=\"translate(536.166405419611,346.0350401983948)\" text-anchor=\"middle\" x=\"0\" y=\"0\" style=\"font-family: 'Open Sans', verdana, arial, sans-serif; font-size: 14px; fill: rgb(255, 255, 255); fill-opacity: 1; white-space: pre;\"><tspan class=\"line\" dy=\"0em\" x=\"0\" y=\"0\">0</tspan><tspan class=\"line\" dy=\"1.3em\" x=\"0\" y=\"0\">87.2%</tspan></text></g></g><g class=\"slice\"><path class=\"surface\" d=\"M500,265l-133.14961683193494,-128.4374537956468a185,185 0 0 1 133.14961683193494,-56.5625462043532Z\" style=\"pointer-events: none; fill: rgb(215, 48, 39); fill-opacity: 1; stroke-width: 1; stroke: rgb(0, 0, 0); stroke-opacity: 1;\"/><g class=\"slicetext\"><text data-notex=\"1\" class=\"slicetext\" transform=\"translate(447.9989747066623,138.48675243086512)\" text-anchor=\"middle\" x=\"0\" y=\"0\" style=\"font-family: 'Open Sans', verdana, arial, sans-serif; font-size: 14px; fill: rgb(255, 255, 255); fill-opacity: 1; white-space: pre;\"><tspan class=\"line\" dy=\"0em\" x=\"0\" y=\"0\">1</tspan><tspan class=\"line\" dy=\"1.3em\" x=\"0\" y=\"0\">12.8%</tspan></text></g></g></g></g><g class=\"iciclelayer\"/><g class=\"treemaplayer\"/><g class=\"sunburstlayer\"/><g class=\"glimages\"/><defs id=\"topdefs-09011f\"><g class=\"clips\"/><clipPath id=\"legend09011f\"><rect width=\"140.6\" height=\"74.6\" x=\"0.7\" y=\"0.7\"/></clipPath></defs><g class=\"layer-above\"><g class=\"imagelayer\"/><g class=\"shapelayer\"/></g><g class=\"infolayer\"><g class=\"legend\" pointer-events=\"all\" transform=\"translate(770,227)\"><rect class=\"bg\" shape-rendering=\"crispEdges\" style=\"stroke: rgb(0, 0, 0); stroke-opacity: 1; fill: rgb(255, 255, 255); fill-opacity: 1; stroke-width: 0.7px;\" width=\"141.3\" height=\"75.3\" x=\"0.35\" y=\"0.35\"/><g class=\"scrollbox\" transform=\"\" clip-path=\"url(#legend09011f)\"><text class=\"legendtitletext\" text-anchor=\"start\" x=\"2.7\" y=\"22.8\" style=\"font-family: 'Times New Roman'; font-size: 17px; fill: rgb(0, 0, 0); fill-opacity: 1; white-space: pre;\">IV drug use(no/yes)</text><g class=\"groups\"><g class=\"traces\" transform=\"translate(0.7,38.4)\" style=\"opacity: 1;\"><text class=\"legendtext\" text-anchor=\"start\" x=\"40\" y=\"5.46\" style=\"font-family: 'Times New Roman'; font-size: 14px; fill: rgb(0, 0, 0); fill-opacity: 1; white-space: pre;\">0</text><g class=\"layers\" style=\"opacity: 1;\"><g class=\"legendfill\"/><g class=\"legendlines\"/><g class=\"legendsymbols\"><g class=\"legendpoints\"><path class=\"legendpie\" d=\"M6,6H-6V-6H6Z\" transform=\"translate(20,0)\" style=\"fill: rgb(165, 0, 38); fill-opacity: 1; stroke-width: 1; stroke: rgb(0, 0, 0); stroke-opacity: 1;\"/></g></g></g><rect class=\"legendtoggle\" x=\"0\" y=\"-10.6\" width=\"47\" height=\"21.2\" style=\"fill: rgb(0, 0, 0); fill-opacity: 0;\"/></g><g class=\"traces\" transform=\"translate(0.7,59.6)\" style=\"opacity: 1;\"><text class=\"legendtext\" text-anchor=\"start\" x=\"40\" y=\"5.46\" style=\"font-family: 'Times New Roman'; font-size: 14px; fill: rgb(0, 0, 0); fill-opacity: 1; white-space: pre;\">1</text><g class=\"layers\" style=\"opacity: 1;\"><g class=\"legendfill\"/><g class=\"legendlines\"/><g class=\"legendsymbols\"><g class=\"legendpoints\"><path class=\"legendpie\" d=\"M6,6H-6V-6H6Z\" transform=\"translate(20,0)\" style=\"fill: rgb(215, 48, 39); fill-opacity: 1; stroke-width: 1; stroke: rgb(0, 0, 0); stroke-opacity: 1;\"/></g></g></g><rect class=\"legendtoggle\" x=\"0\" y=\"-10.6\" width=\"47\" height=\"21.2\" style=\"fill: rgb(0, 0, 0); fill-opacity: 0;\"/></g></g></g><rect class=\"scrollbar\" rx=\"20\" ry=\"3\" width=\"0\" height=\"0\" x=\"0\" y=\"0\" style=\"fill: rgb(128, 139, 164); fill-opacity: 1;\"/></g><g class=\"g-gtitle\"><text class=\"gtitle\" x=\"210\" y=\"25\" text-anchor=\"middle\" dy=\"0.7em\" style=\"font-family: 'Times New Roman'; font-size: 26px; fill: rgb(0, 0, 0); opacity: 1; font-weight: normal; white-space: pre;\">Distribution of Drug use</text></g><g class=\"annotation\" data-index=\"0\" style=\"opacity: 1;\"><g class=\"annotation-text-g\" transform=\"rotate(0,500,477.00000000000006)\"><g class=\"cursor-pointer\" transform=\"translate(334,467)\"><rect class=\"bg\" x=\"0.5\" y=\"0.5\" width=\"332\" height=\"19\" style=\"stroke-width: 1px; stroke: rgb(0, 0, 0); stroke-opacity: 0; fill: rgb(0, 0, 0); fill-opacity: 0;\"/><text class=\"annotation-text\" text-anchor=\"middle\" x=\"166.59375\" y=\"15\" style=\"font-family: 'Open Sans', verdana, arial, sans-serif; font-size: 14px; fill: rgb(0, 0, 0); fill-opacity: 1; white-space: pre;\">Majority of patients do not have a history of drug use.</text></g></g></g></g></svg>"
      ]
     },
     "metadata": {},
     "output_type": "display_data"
    }
   ],
   "source": [
    "palette = cl.scales['11']['div']['RdYlGn']\n",
    "\n",
    "\n",
    "drug = df['drugs'].value_counts().reset_index()\n",
    "drug.columns = ['drugs', 'count']\n",
    "\n",
    "fig = go.Figure(data=[go.Pie(\n",
    "    labels=drug['drugs'],\n",
    "    values=drug['count'],\n",
    "    marker=dict(colors=palette, line=dict(color='#000000', width=1)),\n",
    "    textinfo=\"label+percent\",\n",
    "    textfont=dict(size=14, color='#FFFFFF')\n",
    ")])\n",
    "\n",
    "\n",
    "fig.update_layout(\n",
    "    title_text=\"Distribution of Drug Use\",\n",
    "    title_font_size=24,\n",
    "    title_font_family=\"Times New Roman\",\n",
    "    title_font_color=\"#000000\",  \n",
    "    paper_bgcolor='#ffffff',  \n",
    "    plot_bgcolor='#ffffff', \n",
    "    showlegend=True,\n",
    "    legend_title_text='IV drug use(no/yes)',\n",
    "    legend=dict(\n",
    "        x=0.8,\n",
    "        y=0.5,\n",
    "        traceorder='normal',\n",
    "        font=dict(\n",
    "            family=\"Times New Roman\",\n",
    "            size=14,\n",
    "            color=\"#000000\"\n",
    "        ),\n",
    "        bgcolor=\"#ffffff\",  \n",
    "        bordercolor=\"#000000\", \n",
    "        borderwidth=0.7,\n",
    "        orientation=\"v\" \n",
    "    )\n",
    ")\n",
    "\n",
    "fig.update_layout(width=1000)\n",
    "\n",
    "fig.update_layout(\n",
    "    title={\n",
    "        'text': \"Distribution of Drug use\",\n",
    "        'y':0.95,\n",
    "        'x':0.21,\n",
    "        'xanchor': 'center',\n",
    "        'yanchor': 'top'},\n",
    "    title_font_size=26,\n",
    "    margin=dict(l=50, r=50, t=80, b=50)\n",
    ")\n",
    "\n",
    "fig.add_annotation(\n",
    "    text=\"Majority of patients do not have a history of drug use.\",\n",
    "    x=0.5,\n",
    "    y=-0.10,\n",
    "    showarrow=False,\n",
    "    font=dict(color=\"#000000\", size=14) \n",
    ")\n",
    "\n",
    "# Show the pie chart\n",
    "fig.show('svg')\n"
   ]
  },
  {
   "cell_type": "markdown",
   "id": "891b2168",
   "metadata": {
    "papermill": {
     "duration": 0.015348,
     "end_time": "2024-05-28T07:07:25.730857",
     "exception": false,
     "start_time": "2024-05-28T07:07:25.715509",
     "status": "completed"
    },
    "tags": []
   },
   "source": [
    "----------------------------------------------------------------------------------------------------------------------------------------------------------"
   ]
  },
  {
   "cell_type": "markdown",
   "id": "1074f371",
   "metadata": {
    "papermill": {
     "duration": 0.015303,
     "end_time": "2024-05-28T07:07:25.763480",
     "exception": false,
     "start_time": "2024-05-28T07:07:25.748177",
     "status": "completed"
    },
    "tags": []
   },
   "source": [
    "## karnof: Karnofsky score (on a scale of 0-100)\n",
    "\n",
    "***About***\n",
    "<div>\n",
    "    <p>\n",
    "The Karnofsky Performance Status (KPS) is a widely used measure of functional status and overall well-being in patients with various medical conditions, including AIDS  \n",
    "    In the context of AIDS, the Karnofsky score is particularly relevant for evaluating the impact of the disease on a patient's functional status and determining appropriate treatment and supportive care interventions. The score is typically assessed through a brief clinical evaluation and is based on the patient's ability to perform activities such as self-care, ambulation, and work.\n",
    "\n",
    "The Karnofsky score ranges from 0 to 100, with higher scores indicating better functional status and overall well-being. </p>\n",
    "        <ul>\n",
    "            <li>\n",
    "                100: Normal, no evidence of disease, able to carry on normal activities without any restrictions.\n",
    "            </li>\n",
    "            <li>\n",
    "                90: Able to carry on normal activities with minimal signs or symptoms of disease.\n",
    "            </li>\n",
    "            <li>\n",
    "                80: Normal activities with some signs or symptoms of disease, but generally able to care for oneself.\n",
    "            </li>\n",
    "            <li>\n",
    "                70: Cares for self but unable to carry on normal activities or to do active work.\n",
    "            </li>\n",
    "            <li>\n",
    "                60: Requires occasional assistance, but is able to care for most personal needs.\n",
    "            </li>\n",
    "            <li>\n",
    "                50: Requires considerable assistance and frequent medical care.\n",
    "            </li>\n",
    "            <li>\n",
    "                40: Disabled, requires special care and assistance.\n",
    "            </li>\n",
    "            <li>\n",
    "                30: Severely disabled, hospitalization is indicated, although death is not imminent.\n",
    "            </li>\n",
    "            <li>\n",
    "                20: Very sick, hospitalization necessary, active supportive treatment necessary.\n",
    "            </li>\n",
    "            <li>\n",
    "                10: Moribund, fatal processes progressing rapidly.\n",
    "            </li>\n",
    "            <li>\n",
    "                0: Dead.\n",
    "            </li>\n",
    "        </ul>\n",
    "</div>\n",
    "\n",
    "\n",
    "***Conclusions***\n",
    "\n",
    "- *The distribution is negatively skewed as most of the patients have karnfosky score of 100 which is a good sign*"
   ]
  },
  {
   "cell_type": "code",
   "execution_count": 21,
   "id": "73bfd0c0",
   "metadata": {
    "execution": {
     "iopub.execute_input": "2024-05-28T07:07:25.796537Z",
     "iopub.status.busy": "2024-05-28T07:07:25.795722Z",
     "iopub.status.idle": "2024-05-28T07:07:25.805404Z",
     "shell.execute_reply": "2024-05-28T07:07:25.804372Z"
    },
    "papermill": {
     "duration": 0.028799,
     "end_time": "2024-05-28T07:07:25.807723",
     "exception": false,
     "start_time": "2024-05-28T07:07:25.778924",
     "status": "completed"
    },
    "tags": []
   },
   "outputs": [
    {
     "data": {
      "text/plain": [
       "karnof\n",
       "100    10512\n",
       "90      4106\n",
       "80       117\n",
       "81       103\n",
       "82        60\n",
       "79        60\n",
       "83        18\n",
       "91        15\n",
       "78         8\n",
       "77         1\n",
       "Name: count, dtype: int64"
      ]
     },
     "execution_count": 21,
     "metadata": {},
     "output_type": "execute_result"
    }
   ],
   "source": [
    "df['karnof'].value_counts().sort_values(ascending = False)"
   ]
  },
  {
   "cell_type": "markdown",
   "id": "851417d4",
   "metadata": {
    "papermill": {
     "duration": 0.015479,
     "end_time": "2024-05-28T07:07:25.838894",
     "exception": false,
     "start_time": "2024-05-28T07:07:25.823415",
     "status": "completed"
    },
    "tags": []
   },
   "source": [
    "*Most of the people have the karnofsky score of 100*"
   ]
  },
  {
   "cell_type": "code",
   "execution_count": 22,
   "id": "ca2ee68d",
   "metadata": {
    "execution": {
     "iopub.execute_input": "2024-05-28T07:07:25.872274Z",
     "iopub.status.busy": "2024-05-28T07:07:25.871904Z",
     "iopub.status.idle": "2024-05-28T07:07:25.996831Z",
     "shell.execute_reply": "2024-05-28T07:07:25.995883Z"
    },
    "papermill": {
     "duration": 0.144667,
     "end_time": "2024-05-28T07:07:25.999197",
     "exception": false,
     "start_time": "2024-05-28T07:07:25.854530",
     "status": "completed"
    },
    "tags": []
   },
   "outputs": [
    {
     "data": {
      "image/svg+xml": [
       "<svg class=\"main-svg\" xmlns=\"http://www.w3.org/2000/svg\" xmlns:xlink=\"http://www.w3.org/1999/xlink\" width=\"1000\" height=\"500\" style=\"\" viewBox=\"0 0 1000 500\"><rect x=\"0\" y=\"0\" width=\"1000\" height=\"500\" style=\"fill: rgb(255, 255, 255); fill-opacity: 1;\"/><defs id=\"defs-051d86\"><g class=\"clips\"><clipPath id=\"clip051d86xyplot\" class=\"plotclip\"><rect width=\"893\" height=\"367\"/></clipPath><clipPath class=\"axesclip\" id=\"clip051d86x\"><rect x=\"57\" y=\"0\" width=\"893\" height=\"500\"/></clipPath><clipPath class=\"axesclip\" id=\"clip051d86y\"><rect x=\"0\" y=\"80\" width=\"1000\" height=\"367\"/></clipPath><clipPath class=\"axesclip\" id=\"clip051d86xy\"><rect x=\"57\" y=\"80\" width=\"893\" height=\"367\"/></clipPath></g><g class=\"gradients\"/><g class=\"patterns\"/></defs><g class=\"bglayer\"/><g class=\"layer-below\"><g class=\"imagelayer\"/><g class=\"shapelayer\"/></g><g class=\"cartesianlayer\"><g class=\"subplot xy\"><g class=\"layer-subplot\"><g class=\"shapelayer\"/><g class=\"imagelayer\"/></g><g class=\"minor-gridlayer\"><g class=\"x\"/><g class=\"y\"/></g><g class=\"gridlayer\"><g class=\"x\"/><g class=\"y\"><path class=\"ygrid crisp\" transform=\"translate(0,380.67)\" d=\"M57,0h893\" style=\"stroke: rgb(255, 255, 255); stroke-opacity: 1; stroke-width: 1px;\"/><path class=\"ygrid crisp\" transform=\"translate(0,314.33000000000004)\" d=\"M57,0h893\" style=\"stroke: rgb(255, 255, 255); stroke-opacity: 1; stroke-width: 1px;\"/><path class=\"ygrid crisp\" transform=\"translate(0,248)\" d=\"M57,0h893\" style=\"stroke: rgb(255, 255, 255); stroke-opacity: 1; stroke-width: 1px;\"/><path class=\"ygrid crisp\" transform=\"translate(0,181.67000000000002)\" d=\"M57,0h893\" style=\"stroke: rgb(255, 255, 255); stroke-opacity: 1; stroke-width: 1px;\"/><path class=\"ygrid crisp\" transform=\"translate(0,115.33)\" d=\"M57,0h893\" style=\"stroke: rgb(255, 255, 255); stroke-opacity: 1; stroke-width: 1px;\"/></g></g><g class=\"zerolinelayer\"><path class=\"yzl zl crisp\" transform=\"translate(0,447)\" d=\"M57,0h893\" style=\"stroke: rgb(255, 255, 255); stroke-opacity: 1; stroke-width: 2px;\"/></g><path class=\"xlines-below\"/><path class=\"ylines-below\"/><g class=\"overlines-below\"/><g class=\"xaxislayer-below\"/><g class=\"yaxislayer-below\"/><g class=\"overaxes-below\"/><g class=\"plot\" transform=\"translate(57,80)\" clip-path=\"url(#clip051d86xyplot)\"><g class=\"barlayer mlayer\"><g class=\"trace bars\" shape-rendering=\"crispEdges\" style=\"opacity: 1;\"><g class=\"points\"><g class=\"point\"><path d=\"M0,367V364.71H148.83V367Z\" style=\"vector-effect: none; opacity: 1; stroke-width: 0px; fill: rgb(215, 48, 39); fill-opacity: 1;\"/></g><g class=\"point\"><path d=\"M148.83,367V357.12H297.67V367Z\" style=\"vector-effect: none; opacity: 1; stroke-width: 0px; fill: rgb(215, 48, 39); fill-opacity: 1;\"/></g><g class=\"point\"><path d=\"M0,0Z\" style=\"vector-effect: none; opacity: 1; stroke-width: 0px; fill: rgb(215, 48, 39); fill-opacity: 1;\"/></g><g class=\"point\"><path d=\"M446.5,367V230.32H595.33V367Z\" style=\"vector-effect: none; opacity: 1; stroke-width: 0px; fill: rgb(215, 48, 39); fill-opacity: 1;\"/></g><g class=\"point\"><path d=\"M0,0Z\" style=\"vector-effect: none; opacity: 1; stroke-width: 0px; fill: rgb(215, 48, 39); fill-opacity: 1;\"/></g><g class=\"point\"><path d=\"M744.17,367V18.35H893V367Z\" style=\"vector-effect: none; opacity: 1; stroke-width: 0px; fill: rgb(215, 48, 39); fill-opacity: 1;\"/></g></g></g></g></g><g class=\"overplot\"/><path class=\"xlines-above crisp\" d=\"M0,0\" style=\"fill: none;\"/><path class=\"ylines-above crisp\" d=\"M0,0\" style=\"fill: none;\"/><g class=\"overlines-above\"/><g class=\"xaxislayer-above\"><g class=\"xtick\"><text text-anchor=\"middle\" x=\"0\" y=\"460\" transform=\"translate(71.88,0)\" style=\"font-family: 'Open Sans', verdana, arial, sans-serif; font-size: 12px; fill: rgb(42, 63, 95); fill-opacity: 1; white-space: pre; opacity: 1;\">75</text></g><g class=\"xtick\"><text text-anchor=\"middle\" x=\"0\" y=\"460\" style=\"font-family: 'Open Sans', verdana, arial, sans-serif; font-size: 12px; fill: rgb(42, 63, 95); fill-opacity: 1; white-space: pre; opacity: 1;\" transform=\"translate(220.72,0)\">80</text></g><g class=\"xtick\"><text text-anchor=\"middle\" x=\"0\" y=\"460\" style=\"font-family: 'Open Sans', verdana, arial, sans-serif; font-size: 12px; fill: rgb(42, 63, 95); fill-opacity: 1; white-space: pre; opacity: 1;\" transform=\"translate(369.55,0)\">85</text></g><g class=\"xtick\"><text text-anchor=\"middle\" x=\"0\" y=\"460\" style=\"font-family: 'Open Sans', verdana, arial, sans-serif; font-size: 12px; fill: rgb(42, 63, 95); fill-opacity: 1; white-space: pre; opacity: 1;\" transform=\"translate(518.38,0)\">90</text></g><g class=\"xtick\"><text text-anchor=\"middle\" x=\"0\" y=\"460\" style=\"font-family: 'Open Sans', verdana, arial, sans-serif; font-size: 12px; fill: rgb(42, 63, 95); fill-opacity: 1; white-space: pre; opacity: 1;\" transform=\"translate(667.22,0)\">95</text></g><g class=\"xtick\"><text text-anchor=\"middle\" x=\"0\" y=\"460\" style=\"font-family: 'Open Sans', verdana, arial, sans-serif; font-size: 12px; fill: rgb(42, 63, 95); fill-opacity: 1; white-space: pre; opacity: 1;\" transform=\"translate(816.05,0)\">100</text></g></g><g class=\"yaxislayer-above\"><g class=\"ytick\"><text text-anchor=\"end\" x=\"56\" y=\"4.199999999999999\" transform=\"translate(0,447)\" style=\"font-family: 'Open Sans', verdana, arial, sans-serif; font-size: 12px; fill: rgb(42, 63, 95); fill-opacity: 1; white-space: pre; opacity: 1;\">0</text></g><g class=\"ytick\"><text text-anchor=\"end\" x=\"56\" y=\"4.199999999999999\" style=\"font-family: 'Open Sans', verdana, arial, sans-serif; font-size: 12px; fill: rgb(42, 63, 95); fill-opacity: 1; white-space: pre; opacity: 1;\" transform=\"translate(0,380.67)\">2k</text></g><g class=\"ytick\"><text text-anchor=\"end\" x=\"56\" y=\"4.199999999999999\" style=\"font-family: 'Open Sans', verdana, arial, sans-serif; font-size: 12px; fill: rgb(42, 63, 95); fill-opacity: 1; white-space: pre; opacity: 1;\" transform=\"translate(0,314.33000000000004)\">4k</text></g><g class=\"ytick\"><text text-anchor=\"end\" x=\"56\" y=\"4.199999999999999\" style=\"font-family: 'Open Sans', verdana, arial, sans-serif; font-size: 12px; fill: rgb(42, 63, 95); fill-opacity: 1; white-space: pre; opacity: 1;\" transform=\"translate(0,248)\">6k</text></g><g class=\"ytick\"><text text-anchor=\"end\" x=\"56\" y=\"4.199999999999999\" style=\"font-family: 'Open Sans', verdana, arial, sans-serif; font-size: 12px; fill: rgb(42, 63, 95); fill-opacity: 1; white-space: pre; opacity: 1;\" transform=\"translate(0,181.67000000000002)\">8k</text></g><g class=\"ytick\"><text text-anchor=\"end\" x=\"56\" y=\"4.199999999999999\" style=\"font-family: 'Open Sans', verdana, arial, sans-serif; font-size: 12px; fill: rgb(42, 63, 95); fill-opacity: 1; white-space: pre; opacity: 1;\" transform=\"translate(0,115.33)\">10k</text></g></g><g class=\"overaxes-above\"/></g></g><g class=\"polarlayer\"/><g class=\"smithlayer\"/><g class=\"ternarylayer\"/><g class=\"geolayer\"/><g class=\"funnelarealayer\"/><g class=\"pielayer\"/><g class=\"iciclelayer\"/><g class=\"treemaplayer\"/><g class=\"sunburstlayer\"/><g class=\"glimages\"/><defs id=\"topdefs-051d86\"><g class=\"clips\"/></defs><g class=\"layer-above\"><g class=\"imagelayer\"/><g class=\"shapelayer\"/></g><g class=\"infolayer\"><g class=\"g-gtitle\"><text class=\"gtitle\" x=\"210\" y=\"25\" text-anchor=\"middle\" dy=\"0.7em\" style=\"font-family: 'Times New Roman'; font-size: 26px; fill: rgb(0, 0, 0); opacity: 1; font-weight: normal; white-space: pre;\">Karnofsky Score Distribution</text></g><g class=\"g-xtitle\"><text class=\"xtitle\" x=\"503.5\" y=\"487.3\" text-anchor=\"middle\" style=\"font-family: 'Open Sans', verdana, arial, sans-serif; font-size: 14px; fill: rgb(42, 63, 95); opacity: 1; font-weight: normal; white-space: pre;\">Karnofsky Score</text></g><g class=\"g-ytitle\" transform=\"translate(0.6591796875,0)\"><text class=\"ytitle\" transform=\"rotate(-90,12.340625000000003,263.5)\" x=\"12.340625000000003\" y=\"263.5\" text-anchor=\"middle\" style=\"font-family: 'Open Sans', verdana, arial, sans-serif; font-size: 14px; fill: rgb(42, 63, 95); opacity: 1; font-weight: normal; white-space: pre;\">Frequency</text></g></g></svg>"
      ]
     },
     "metadata": {},
     "output_type": "display_data"
    }
   ],
   "source": [
    "fig = go.Figure(data=[go.Histogram(\n",
    "    x=df['karnof'],\n",
    "    marker=dict(color=palette[1]),  # Use the second color from the palette\n",
    "    nbinsx=10\n",
    ")])\n",
    "\n",
    "# Update layout\n",
    "fig.update_layout(\n",
    "    title_text=\"Karnofsky Score Distribution\",\n",
    "    title_font_size=24,\n",
    "    title_font_family=\"Times New Roman\",\n",
    "    title_font_color=\"#000000\",\n",
    "    paper_bgcolor='#ffffff',\n",
    "    plot_bgcolor='#ffffff',\n",
    "    xaxis=dict(title=\"Karnofsky Score\"),\n",
    "    yaxis=dict(title=\"Frequency\"),\n",
    ")\n",
    "\n",
    "# Set title properties\n",
    "fig.update_layout(\n",
    "    title={\n",
    "        'text': \"Karnofsky Score Distribution\",\n",
    "        'y':0.95,\n",
    "        'x':0.21,\n",
    "        'xanchor': 'center',\n",
    "        'yanchor': 'top'},\n",
    "    title_font_size=26,\n",
    "    margin=dict(l=50, r=50, t=80, b=50)\n",
    ")\n",
    "\n",
    "# Set the width of the figure\n",
    "fig.update_layout(width=1000)\n",
    "\n",
    "# Show the histogram\n",
    "fig.show('svg')"
   ]
  },
  {
   "cell_type": "code",
   "execution_count": 23,
   "id": "4c2b60c1",
   "metadata": {
    "execution": {
     "iopub.execute_input": "2024-05-28T07:07:26.034025Z",
     "iopub.status.busy": "2024-05-28T07:07:26.033025Z",
     "iopub.status.idle": "2024-05-28T07:07:26.066094Z",
     "shell.execute_reply": "2024-05-28T07:07:26.064786Z"
    },
    "papermill": {
     "duration": 0.052924,
     "end_time": "2024-05-28T07:07:26.068666",
     "exception": false,
     "start_time": "2024-05-28T07:07:26.015742",
     "status": "completed"
    },
    "tags": []
   },
   "outputs": [
    {
     "data": {
      "text/html": [
       "        <script type=\"text/javascript\">\n",
       "        window.PlotlyConfig = {MathJaxConfig: 'local'};\n",
       "        if (window.MathJax && window.MathJax.Hub && window.MathJax.Hub.Config) {window.MathJax.Hub.Config({SVG: {font: \"STIX-Web\"}});}\n",
       "        if (typeof require !== 'undefined') {\n",
       "        require.undef(\"plotly\");\n",
       "        requirejs.config({\n",
       "            paths: {\n",
       "                'plotly': ['https://cdn.plot.ly/plotly-2.27.0.min']\n",
       "            }\n",
       "        });\n",
       "        require(['plotly'], function(Plotly) {\n",
       "            window._Plotly = Plotly;\n",
       "        });\n",
       "        }\n",
       "        </script>\n",
       "        "
      ]
     },
     "metadata": {},
     "output_type": "display_data"
    },
    {
     "data": {
      "text/html": [
       "<div>                            <div id=\"752bd3b2-8598-46cf-b1e1-f7791658d3b7\" class=\"plotly-graph-div\" style=\"height:525px; width:1000px;\"></div>            <script type=\"text/javascript\">                require([\"plotly\"], function(Plotly) {                    window.PLOTLYENV=window.PLOTLYENV || {};                                    if (document.getElementById(\"752bd3b2-8598-46cf-b1e1-f7791658d3b7\")) {                    Plotly.newPlot(                        \"752bd3b2-8598-46cf-b1e1-f7791658d3b7\",                        [{\"marker\":{\"color\":\"rgb(215,48,39)\"},\"x\":[100,100,90,81,100,82,100,90,100,100,100,90,90,100,100,100,100,90,100,100,100,100,100,100,100,100,100,100,100,100,90,90,100,100,100,100,100,80,90,100,90,90,90,90,90,100,90,100,100,90,100,100,100,100,90,100,100,100,90,100,100,100,100,90,100,90,90,100,100,100,100,100,100,100,100,100,100,79,100,90,90,90,100,90,100,100,90,90,100,100,100,100,100,100,90,90,100,100,90,100,90,100,90,100,100,100,100,100,100,100,90,100,90,90,100,100,100,100,90,90,100,100,100,100,100,90,100,100,90,100,100,100,100,100,90,100,100,100,100,90,100,100,90,100,100,100,90,90,90,90,100,100,90,79,100,90,90,100,100,100,90,90,90,90,100,100,90,100,100,100,100,100,100,100,100,100,90,81,100,90,100,90,90,100,90,100,100,100,100,90,100,100,100,82,100,100,100,100,100,100,100,90,100,100,100,90,100,100,100,90,100,100,100,100,100,90,90,100,100,100,100,100,100,100,100,100,100,100,90,100,100,100,100,100,90,100,100,90,100,100,100,100,90,90,90,100,100,100,90,100,100,100,90,90,100,90,100,100,90,100,100,100,100,90,100,100,100,100,100,100,100,100,90,100,100,90,100,100,100,100,100,100,100,100,90,90,100,100,100,100,100,90,100,90,100,90,90,100,100,90,100,100,100,100,100,100,100,90,90,100,100,100,90,90,100,100,90,100,90,90,100,100,100,100,100,100,82,100,100,90,82,100,90,100,90,90,100,90,90,100,100,90,100,100,90,100,90,100,90,100,100,100,100,100,100,90,100,100,100,100,100,100,90,100,90,90,100,100,100,100,100,90,100,90,90,100,100,100,100,100,100,90,100,90,100,100,100,100,90,100,100,100,100,90,100,100,100,100,100,100,100,100,100,90,100,100,100,100,100,100,100,100,100,100,90,100,100,100,100,100,100,100,90,90,100,100,100,100,100,100,90,100,81,100,90,100,90,90,100,90,100,100,100,100,100,100,100,90,100,100,100,90,90,100,100,100,100,100,100,100,100,100,90,90,100,100,100,100,90,100,90,100,100,100,100,100,90,100,100,100,100,100,100,90,90,100,100,100,100,90,100,100,100,100,90,100,100,100,100,100,100,90,100,100,100,100,90,90,100,90,100,100,100,100,90,90,100,100,100,100,100,100,100,100,100,100,100,100,100,100,90,100,100,100,100,100,90,100,100,100,100,100,90,100,100,90,90,100,90,100,100,100,100,100,100,100,100,100,90,100,90,100,100,90,100,100,100,100,100,100,100,100,90,100,100,100,90,100,100,100,100,100,100,100,100,90,100,100,80,100,90,100,90,90,100,100,90,100,100,90,100,100,90,100,100,100,100,100,100,100,100,90,100,100,90,100,100,100,90,100,100,100,90,100,100,90,100,100,100,100,100,100,100,100,90,100,90,100,100,100,100,100,90,100,81,100,100,100,100,90,90,100,100,100,100,100,100,100,100,100,100,100,100,100,100,80,90,100,100,90,90,90,100,100,100,100,100,100,100,100,90,90,100,100,100,100,100,100,100,100,100,100,100,90,90,100,100,100,90,90,90,100,100,100,100,100,100,90,90,100,90,90,90,90,100,100,100,100,100,100,100,100,90,90,90,90,100,90,100,100,100,90,100,90,90,100,100,100,100,90,100,100,100,90,100,100,100,100,100,90,90,100,100,100,100,90,90,81,100,100,100,90,100,100,100,100,100,100,100,90,100,100,100,90,100,100,100,100,90,100,100,100,100,90,100,100,90,81,90,100,100,90,100,100,90,100,90,90,100,90,100,100,100,100,100,90,100,100,100,90,100,90,90,100,100,90,90,100,100,90,100,100,100,100,100,100,100,100,79,100,100,100,100,100,100,100,90,100,100,100,100,100,100,90,90,100,100,90,100,100,100,100,100,100,100,90,90,90,100,100,100,100,90,100,100,90,90,90,100,90,90,100,100,100,100,100,100,90,90,90,100,90,100,100,90,90,100,100,100,100,100,100,100,100,100,90,100,100,100,90,100,90,100,100,100,100,90,100,90,100,100,100,80,90,100,100,90,90,100,100,90,100,100,100,100,100,100,100,100,100,100,100,90,90,90,100,100,100,100,100,90,90,90,100,90,100,100,100,100,100,90,100,90,90,100,90,100,90,100,100,100,100,100,90,90,100,100,100,100,100,100,100,100,100,81,100,90,100,100,90,100,100,100,100,100,100,100,90,100,100,90,100,100,90,100,90,81,100,100,100,100,90,100,81,90,90,100,100,100,81,100,100,100,100,100,100,90,100,90,100,100,100,90,90,100,90,100,100,100,100,90,100,100,100,90,100,100,100,90,100,90,100,100,100,90,100,100,100,100,90,100,100,100,90,81,100,90,100,100,100,100,90,90,90,90,100,100,90,100,100,100,90,100,100,90,100,100,90,100,100,100,90,90,100,100,90,100,100,100,100,100,100,90,100,100,100,100,90,90,100,100,100,100,100,100,100,100,100,100,100,100,100,100,100,90,100,100,100,100,100,90,100,90,90,90,100,90,90,100,100,100,90,100,90,90,90,100,100,100,90,90,100,100,100,100,79,100,90,100,100,100,80,90,90,100,100,100,100,90,100,90,90,100,100,100,90,100,90,100,90,100,100,100,80,100,90,100,100,90,100,100,100,100,78,100,100,100,100,90,100,100,90,100,90,90,100,90,100,100,100,82,100,100,90,100,100,100,100,80,100,100,100,100,90,100,100,100,90,90,100,100,100,100,100,90,100,100,90,100,100,100,90,100,100,100,100,90,90,100,90,100,90,100,100,100,100,100,100,100,100,100,100,90,100,100,100,100,100,100,90,100,100,100,100,90,90,90,100,81,100,100,100,100,100,90,100,100,100,100,100,90,90,100,100,100,100,90,90,100,100,100,90,100,100,90,100,90,90,100,100,90,90,100,100,100,100,100,100,90,100,90,90,90,90,100,100,90,100,100,90,90,100,90,100,90,90,100,100,90,100,100,100,90,100,90,100,90,100,100,90,100,100,100,100,100,100,100,100,100,100,100,100,100,90,100,100,100,90,90,100,100,100,90,100,100,90,90,100,100,90,90,90,90,90,100,100,83,90,100,100,90,90,100,100,90,100,100,100,100,100,90,90,100,100,100,100,100,81,100,100,100,100,100,100,100,90,100,100,100,100,100,100,100,100,90,100,100,90,100,100,100,90,90,90,100,100,100,90,90,90,100,100,81,100,100,100,100,100,90,90,100,100,100,100,100,100,100,100,100,100,100,100,100,90,100,100,100,90,100,100,100,90,80,100,90,90,100,100,100,100,90,100,100,90,90,90,100,100,100,90,90,100,90,90,100,90,90,100,100,100,100,100,90,90,100,100,90,100,90,90,90,100,90,100,80,90,100,100,100,100,100,100,100,81,100,100,90,90,100,90,90,100,80,100,100,100,90,100,90,90,100,90,100,90,100,80,100,90,100,100,100,100,100,100,90,90,100,90,100,90,100,90,100,100,90,100,100,90,90,100,100,90,100,90,100,100,100,100,90,90,90,100,100,100,90,90,90,100,100,90,90,90,100,90,100,100,100,100,90,100,100,100,100,100,100,100,100,90,100,90,100,100,100,100,90,90,90,100,100,100,100,100,100,100,90,100,90,100,100,100,90,90,100,100,90,100,100,100,100,90,100,90,100,100,100,100,100,90,100,100,100,90,100,100,100,90,90,100,100,100,90,100,100,100,100,100,100,100,100,90,90,90,100,91,100,100,90,100,100,90,100,100,90,100,90,100,100,100,100,100,100,100,90,100,100,100,100,100,100,100,100,100,100,100,90,100,90,100,90,100,90,100,100,100,100,100,100,100,100,100,90,100,100,100,100,100,100,90,100,90,100,90,80,90,100,100,100,100,100,90,90,100,80,100,100,100,100,100,100,90,100,100,100,100,90,90,100,90,100,81,100,90,100,100,90,100,100,90,100,90,100,100,100,90,100,77,100,90,100,100,100,100,100,100,90,90,100,100,100,90,100,100,100,100,100,90,100,100,100,100,100,100,100,90,100,90,90,79,90,90,100,100,90,100,100,90,100,90,100,90,100,90,100,90,100,100,100,100,90,100,100,100,100,100,100,100,100,79,90,100,90,90,100,83,90,100,100,90,100,90,100,90,90,90,100,90,90,90,100,90,100,100,100,100,100,100,100,100,100,100,90,79,100,100,100,100,90,100,100,100,100,90,100,90,90,100,100,80,100,100,90,100,90,100,100,100,100,100,100,90,90,100,100,100,100,90,100,90,100,100,100,100,100,100,100,100,90,100,90,100,90,90,90,90,100,100,90,100,90,90,80,100,100,90,90,100,100,100,100,100,100,90,100,100,100,100,100,90,100,90,100,100,100,100,100,100,90,100,90,90,100,100,100,100,90,90,100,100,90,90,90,100,100,100,100,100,90,100,90,100,100,100,100,90,81,100,100,100,100,90,100,90,90,100,100,90,90,100,100,100,100,100,100,90,100,90,100,100,100,100,100,90,100,90,81,100,100,100,100,100,100,100,100,100,100,100,90,90,100,100,90,100,100,100,100,100,100,100,100,90,100,90,100,100,90,100,90,100,100,100,90,100,100,100,90,100,100,90,100,100,90,90,90,100,100,100,100,79,100,100,90,100,100,100,90,100,100,100,100,100,90,100,90,100,100,100,100,100,100,100,90,90,90,100,100,100,100,100,100,90,90,90,90,100,90,100,90,90,90,100,90,100,100,100,100,90,100,100,100,90,100,100,100,90,90,90,100,100,100,100,100,100,90,100,100,100,90,100,90,100,100,90,100,100,100,90,100,90,100,90,100,100,100,100,90,100,80,100,100,100,100,90,100,100,90,90,100,90,100,100,100,100,90,100,100,100,100,90,100,90,90,90,90,90,100,100,100,100,100,100,100,100,100,100,100,100,100,100,100,100,90,100,100,100,100,100,100,90,100,100,100,100,100,100,100,100,100,100,90,90,100,100,100,90,100,90,100,100,100,90,100,90,100,100,90,100,81,100,90,100,90,100,100,100,100,100,100,100,90,100,90,100,100,90,100,100,100,100,100,100,100,100,90,100,90,90,100,100,100,100,82,90,90,100,100,100,90,90,90,90,100,100,100,100,90,100,100,100,100,90,90,100,100,90,90,100,100,100,90,90,100,100,90,100,100,100,90,90,100,100,90,100,100,100,100,100,100,90,100,100,100,100,90,79,100,90,90,100,82,100,100,100,90,90,100,100,100,90,100,90,100,100,100,100,100,100,100,100,100,100,100,100,100,90,90,100,100,100,90,100,100,100,100,90,100,90,90,90,100,100,100,100,90,100,80,90,100,100,100,90,90,100,100,90,100,90,100,90,100,90,100,90,100,100,100,100,100,100,100,100,90,100,100,90,100,90,90,90,100,100,100,100,90,90,100,100,90,100,100,90,100,100,100,100,100,90,100,100,100,100,100,100,100,100,100,90,100,90,100,100,100,90,90,100,100,100,100,100,90,100,100,90,100,100,100,100,100,100,100,100,100,90,100,100,100,90,100,100,100,90,90,100,100,100,100,90,90,100,100,100,100,100,90,90,100,100,100,100,100,90,100,90,100,90,100,90,100,90,80,90,100,90,100,100,90,100,100,100,90,100,100,90,90,90,100,90,100,100,100,90,90,90,90,100,100,90,90,100,90,90,90,100,100,100,100,100,90,100,100,90,100,90,100,100,90,100,90,100,100,100,100,100,100,100,100,100,100,100,100,100,100,100,100,100,100,100,100,100,100,100,100,100,100,90,90,100,100,100,90,100,100,100,100,100,100,100,90,100,90,100,100,100,90,100,90,100,90,100,100,100,100,100,90,90,82,100,79,100,100,100,100,100,100,100,90,90,100,100,100,100,100,100,100,100,100,90,100,90,90,90,100,100,100,100,100,90,100,100,90,100,90,100,100,81,100,100,90,90,100,90,100,100,100,100,90,90,100,90,100,100,100,90,100,100,90,100,100,100,100,100,100,90,90,100,100,100,100,100,100,100,100,100,90,100,100,100,100,100,90,100,100,100,100,100,79,90,90,100,100,100,100,100,100,100,100,90,90,100,100,100,100,100,90,100,100,90,100,100,90,90,100,100,90,100,90,90,90,100,100,90,100,100,90,100,90,100,100,100,100,90,90,100,100,100,90,90,100,100,90,100,100,100,100,100,100,90,100,100,100,90,90,100,100,100,100,100,91,90,79,100,100,100,100,100,100,100,100,100,100,90,100,100,100,90,100,90,100,100,100,90,100,100,100,90,100,100,100,100,100,90,100,100,100,90,90,100,100,100,100,90,100,90,100,90,90,100,100,100,100,90,90,100,82,100,90,100,100,100,100,100,90,100,90,100,100,90,100,100,100,100,100,90,100,100,90,90,100,90,81,80,90,90,100,90,90,100,100,100,83,100,100,100,90,100,100,100,100,100,90,82,100,100,90,90,90,100,100,100,100,100,100,100,100,100,100,100,90,100,100,90,90,90,90,100,100,100,100,90,100,100,90,100,100,100,100,100,90,90,100,100,90,90,90,100,100,90,90,100,100,100,90,100,90,100,100,90,90,100,100,100,100,90,100,100,100,100,82,100,90,100,90,100,100,100,90,100,100,100,100,100,100,100,90,100,100,100,100,100,100,100,100,90,81,100,100,100,100,100,100,100,90,80,100,100,90,90,100,100,100,100,100,100,90,82,100,100,100,100,100,90,100,100,100,90,78,100,100,79,100,100,100,90,90,100,100,90,100,100,100,100,100,100,90,100,100,90,100,90,100,90,100,100,100,100,100,90,100,100,100,100,100,100,100,90,100,100,100,100,100,100,100,100,90,100,90,90,79,100,90,100,90,90,100,90,100,100,100,100,100,100,90,100,100,100,100,100,100,90,90,100,90,100,90,90,100,100,90,90,100,100,100,90,91,91,100,100,100,100,100,100,90,100,100,100,100,100,100,100,80,100,90,100,100,100,90,90,100,90,90,90,90,100,100,100,90,100,100,90,100,90,90,100,90,100,100,90,90,100,100,100,100,100,100,100,100,100,100,100,100,100,100,90,90,100,100,100,100,100,100,100,100,90,81,90,100,90,100,100,100,100,100,100,100,100,90,90,90,90,100,90,100,100,82,90,100,100,90,100,100,100,100,100,100,80,100,100,100,100,100,100,90,100,90,100,90,100,100,100,90,100,100,90,100,100,100,100,100,100,100,100,90,100,100,100,100,90,100,100,90,90,90,100,100,100,90,100,100,100,100,90,100,100,100,100,100,90,90,100,90,100,90,100,100,100,100,90,90,90,100,90,100,90,90,100,100,100,100,100,90,100,90,100,90,100,100,90,90,100,100,90,100,100,100,90,100,100,90,100,90,100,90,100,100,100,100,90,100,100,100,100,90,90,100,90,100,90,100,90,100,100,90,100,100,100,100,100,100,100,100,100,100,90,90,100,100,100,100,100,100,100,90,81,100,100,100,100,100,100,100,100,100,100,100,100,100,100,100,100,90,100,100,90,100,100,100,100,100,100,90,100,100,100,100,100,100,90,100,100,100,100,100,100,100,90,100,90,90,100,100,100,100,100,90,100,100,100,100,100,90,100,100,100,100,100,100,100,100,100,90,100,100,100,100,100,90,100,90,100,100,90,100,100,100,90,90,100,100,100,81,90,90,90,100,100,100,100,100,100,100,100,90,100,90,100,90,100,100,100,100,90,100,100,100,100,100,100,100,90,100,90,100,100,90,100,100,90,100,90,100,90,90,100,90,100,100,100,100,100,90,100,100,100,100,100,100,100,100,100,100,100,100,100,90,90,90,100,100,100,100,80,100,90,100,100,100,90,100,90,100,100,100,90,100,100,90,100,100,100,90,100,100,100,100,100,100,90,90,90,100,90,100,100,100,100,100,100,100,100,90,90,90,90,90,100,100,100,100,100,100,100,100,100,100,100,90,90,100,90,100,100,90,100,100,90,100,90,100,100,90,100,90,90,100,90,100,100,90,100,90,81,100,100,100,100,100,100,100,90,100,100,100,100,80,100,100,100,100,100,100,100,100,90,100,100,100,100,100,80,100,100,100,100,100,90,100,100,100,100,100,100,90,100,100,100,90,100,100,90,90,100,90,100,90,100,100,100,90,90,100,100,100,100,100,90,100,100,100,90,100,90,90,90,100,100,90,100,100,100,100,90,100,90,100,90,100,100,100,100,100,100,90,100,90,90,80,100,100,90,100,100,100,100,100,100,100,100,90,100,90,100,100,90,100,100,100,90,100,100,100,100,90,100,90,100,100,100,90,100,81,78,100,100,100,100,90,100,100,100,90,100,100,100,90,100,100,100,100,100,100,100,90,100,100,90,100,100,100,100,100,90,100,100,100,100,100,100,90,100,90,90,100,90,100,90,100,100,100,100,100,100,90,90,90,90,100,80,90,100,90,100,100,90,100,90,90,100,100,100,100,100,100,100,80,100,100,100,100,100,100,90,100,100,90,100,100,100,100,100,100,100,100,90,100,100,100,100,100,90,100,100,90,90,100,100,90,90,90,90,100,100,100,100,100,100,100,90,100,90,100,90,90,90,100,100,100,100,100,90,100,100,100,100,100,90,90,100,90,100,90,90,90,100,100,100,90,90,100,90,100,90,100,100,90,100,100,100,100,100,90,100,100,100,90,100,100,100,100,100,100,100,100,100,100,90,100,100,81,100,100,100,80,100,100,100,90,100,100,100,90,100,100,90,90,100,90,100,100,100,100,100,90,100,90,90,100,100,90,100,100,90,100,90,100,100,100,90,100,100,90,100,100,90,100,90,90,100,100,100,100,90,100,90,100,100,100,100,90,100,100,100,90,90,100,100,90,90,100,100,100,90,100,90,100,100,100,100,100,100,90,100,100,100,100,100,100,100,100,90,100,100,90,100,100,90,90,100,90,90,100,90,100,90,100,79,100,100,90,100,100,100,100,100,90,100,100,100,100,80,100,100,100,100,81,100,100,79,100,100,90,100,90,100,100,100,100,100,90,100,90,100,100,100,100,100,100,100,90,100,100,100,100,90,100,90,90,100,100,81,100,100,100,90,90,90,100,90,100,100,100,100,100,100,100,100,100,100,100,100,90,100,100,100,100,100,100,90,100,100,100,100,90,90,100,100,100,100,100,100,100,90,100,90,100,90,90,100,100,100,100,100,90,90,100,100,100,100,90,100,90,100,100,100,90,90,100,100,100,100,100,90,100,100,90,100,100,90,100,100,100,100,100,100,90,90,90,90,90,100,100,90,90,100,100,100,90,100,90,100,90,100,100,90,90,90,90,100,100,100,100,100,100,100,90,90,90,90,100,100,100,100,100,90,100,100,100,100,100,90,100,100,90,100,100,100,100,100,100,100,100,100,90,100,90,100,100,100,100,100,90,90,90,90,100,90,90,100,100,100,100,90,100,100,100,100,90,100,100,100,100,100,100,90,100,100,100,100,100,100,100,100,100,100,90,100,100,100,100,100,90,100,100,100,100,100,100,90,100,100,100,90,100,100,100,100,100,100,100,100,100,90,90,100,100,100,100,100,100,100,100,100,90,90,100,100,100,100,100,100,90,90,90,100,100,90,100,100,100,100,100,100,100,100,90,100,100,100,90,90,90,100,100,100,100,90,100,80,100,100,100,100,100,100,100,100,100,100,100,90,90,100,90,100,90,100,100,80,90,100,90,100,100,90,100,100,100,100,100,100,100,100,100,100,100,100,90,90,100,100,100,100,100,100,100,90,79,100,90,100,100,100,90,100,100,100,100,100,100,90,100,100,90,100,90,100,90,90,100,100,100,100,100,90,100,100,100,100,100,100,100,100,100,100,90,100,100,90,100,90,81,100,90,100,100,100,100,100,100,100,100,100,100,90,90,100,90,90,90,100,90,90,90,100,90,100,90,90,100,90,100,100,100,100,100,90,100,100,100,100,100,100,90,100,100,100,100,90,81,100,100,90,100,90,100,100,100,100,90,100,100,100,90,90,90,100,100,90,100,90,100,100,100,100,100,100,90,100,90,100,90,100,100,90,100,100,100,90,90,90,100,100,100,90,90,100,100,90,100,100,100,79,100,100,80,100,100,90,100,90,100,100,100,100,100,100,90,90,100,90,100,100,100,100,100,90,100,100,81,100,100,100,90,100,100,100,100,100,90,100,90,100,80,100,100,90,100,100,100,90,100,100,100,100,100,100,100,100,100,100,83,90,100,100,90,90,100,100,100,100,100,100,100,100,90,90,100,100,100,90,100,90,100,90,90,100,100,100,90,100,100,100,100,100,90,100,100,100,100,100,100,90,100,100,100,90,100,100,100,100,100,100,100,100,100,90,100,100,100,100,90,100,90,82,80,100,100,90,100,100,100,100,100,90,100,100,100,90,100,90,100,100,100,100,100,90,90,100,100,100,100,90,100,100,90,100,100,100,100,100,100,100,90,100,90,90,100,100,100,100,100,100,100,90,100,100,100,100,100,90,90,100,100,100,100,100,100,100,100,100,100,100,100,100,90,100,100,100,100,100,100,100,80,90,100,100,90,100,100,100,100,90,100,100,100,100,100,100,100,100,100,100,90,90,100,100,100,100,100,90,100,100,81,100,90,100,100,100,100,90,100,90,90,90,90,100,100,100,100,90,100,100,90,100,100,90,90,90,100,100,100,100,100,90,90,100,100,100,100,100,90,100,90,90,100,90,100,90,100,90,90,100,90,90,100,79,90,100,100,100,100,100,100,100,100,100,100,90,100,100,100,100,100,100,100,100,100,100,90,90,100,90,100,90,90,100,100,100,90,100,90,100,90,100,100,100,100,90,100,100,100,100,100,100,100,100,100,100,100,100,100,100,100,100,100,90,100,100,100,100,100,100,90,100,100,100,100,90,100,100,100,90,100,100,100,100,100,100,90,100,100,100,100,100,100,90,82,100,100,100,100,100,100,100,100,100,100,90,100,100,100,100,90,80,100,100,100,100,100,100,90,100,100,100,90,90,90,100,100,80,90,100,100,100,100,100,100,100,100,90,100,90,100,100,100,100,100,100,100,100,90,90,100,100,90,100,100,100,100,100,100,100,90,90,100,90,100,100,100,90,100,90,100,100,90,100,100,90,91,90,100,100,100,100,100,100,100,90,100,90,100,100,100,90,100,100,100,100,100,90,100,90,100,100,90,100,90,83,90,90,90,100,90,100,90,100,100,100,90,90,100,100,90,90,100,100,100,100,100,90,100,90,100,90,90,90,100,100,100,100,100,90,90,90,90,100,100,100,100,100,100,90,90,80,100,100,100,100,100,100,100,90,100,100,90,90,90,100,90,90,90,90,90,100,100,100,100,100,100,100,90,90,100,100,90,90,100,100,90,100,100,100,100,100,100,100,100,100,100,90,100,100,100,100,100,100,100,100,100,90,100,100,100,100,90,90,100,100,90,100,90,90,100,100,90,100,100,100,100,100,100,82,81,100,100,100,90,100,90,90,90,100,90,100,100,100,100,90,100,100,90,100,100,100,100,100,100,100,90,90,100,100,100,100,90,100,100,90,90,100,100,90,100,100,100,100,100,90,90,100,81,100,100,81,100,90,100,100,100,100,90,100,100,90,100,90,100,100,100,100,100,100,100,100,100,100,100,100,100,100,100,90,100,100,82,100,100,90,100,100,100,100,100,100,90,90,90,100,100,100,100,81,100,100,100,100,100,100,100,100,90,100,100,100,100,100,100,100,100,100,90,100,100,90,100,100,100,100,100,100,90,100,100,90,100,90,100,100,100,100,100,100,90,81,100,90,100,90,100,100,90,90,100,100,100,79,100,100,90,100,100,100,90,100,100,100,100,90,90,100,100,100,100,90,90,100,90,90,90,100,90,90,100,100,100,100,100,100,100,100,100,90,100,90,90,90,90,100,90,100,100,100,100,100,100,100,100,82,90,100,100,100,100,100,90,100,100,90,100,90,100,90,100,100,100,100,100,100,100,100,90,100,100,90,100,100,90,100,100,100,90,91,90,90,100,100,100,100,100,100,90,90,79,100,100,100,90,100,90,100,90,90,90,100,90,100,100,100,90,100,100,100,100,100,100,90,100,90,90,100,90,100,100,90,100,90,100,100,90,100,90,100,100,100,100,100,100,100,100,100,100,100,100,100,100,100,90,100,100,100,100,90,100,100,100,90,100,100,90,100,100,100,100,100,100,100,100,100,100,90,100,100,90,100,90,100,100,80,100,90,100,100,100,90,100,100,100,100,100,100,100,100,100,100,100,100,100,100,80,100,100,100,90,100,90,100,90,90,100,100,100,100,100,90,90,100,90,90,100,100,100,90,100,100,100,100,100,90,100,100,90,100,100,90,100,100,90,100,90,100,100,90,100,90,100,100,100,100,90,100,100,100,100,90,100,100,100,100,100,100,90,100,90,100,90,90,100,90,100,100,90,100,100,100,90,100,100,100,100,100,100,90,100,100,100,100,100,100,80,100,80,100,90,100,100,100,100,100,100,90,100,90,90,100,90,90,100,90,90,90,100,100,90,100,90,100,90,90,100,90,90,100,100,90,100,100,100,100,90,100,100,100,100,90,90,100,100,90,80,100,100,90,100,100,100,100,100,100,100,100,100,100,100,100,81,100,100,90,100,90,100,100,90,90,100,100,100,90,100,100,100,100,100,100,90,90,100,100,100,90,100,90,90,100,90,100,100,100,90,90,90,100,100,90,100,100,90,100,100,100,100,90,83,100,100,90,100,100,100,100,90,100,100,100,100,100,100,90,90,100,100,100,100,100,100,100,100,90,90,80,100,100,90,100,90,90,90,100,90,90,100,100,100,81,100,100,100,100,100,100,100,100,90,100,100,100,100,90,100,100,100,100,100,100,100,90,100,100,90,100,100,90,90,100,90,90,100,90,90,90,100,100,100,90,100,100,81,90,100,100,100,90,100,100,90,100,90,90,100,90,90,90,90,100,100,100,90,100,100,90,90,100,90,90,100,100,100,100,90,90,100,100,90,100,90,90,100,100,90,100,90,81,100,100,100,100,100,100,100,90,90,90,100,100,100,100,100,100,100,90,100,100,100,100,100,100,100,100,100,100,100,100,90,100,90,100,100,100,90,100,100,100,100,90,100,90,100,90,100,90,100,90,100,100,82,100,100,100,100,83,100,90,90,90,100,100,100,90,90,90,100,100,100,100,100,79,100,100,100,90,90,90,100,90,100,100,100,90,90,90,100,100,100,100,100,90,90,100,100,100,100,100,100,100,100,100,90,100,100,100,100,100,100,100,100,90,100,100,100,100,90,100,90,90,100,100,90,100,100,100,100,100,90,100,79,100,80,100,90,90,100,100,100,90,100,90,100,90,100,90,100,100,100,100,100,100,100,90,100,100,100,100,81,100,100,100,100,90,100,90,90,100,100,100,100,100,100,100,100,100,100,90,100,90,90,90,90,100,100,90,100,100,100,90,100,100,90,100,100,100,100,100,100,100,100,100,100,100,100,100,100,90,90,100,100,100,90,81,90,90,90,100,100,100,90,90,90,81,90,100,100,100,100,90,79,100,90,100,90,100,90,90,90,90,90,90,100,90,100,100,100,100,90,100,100,100,100,100,90,100,100,100,90,90,90,100,100,100,100,100,100,100,100,100,90,90,100,100,90,100,100,100,100,90,100,100,100,100,90,90,80,100,81,100,90,100,100,90,100,100,100,90,90,100,100,100,90,100,100,100,100,100,90,100,100,100,100,90,90,100,91,100,90,90,100,100,90,100,90,100,90,100,90,100,100,100,100,82,100,90,100,90,100,100,100,90,100,90,100,90,100,100,100,100,100,100,100,100,90,100,90,100,100,90,100,100,100,100,100,90,90,100,90,90,100,100,90,100,90,90,100,100,100,100,100,90,100,100,100,90,100,100,90,90,90,100,90,100,100,90,100,100,100,100,100,90,100,100,100,100,100,100,100,100,100,100,100,100,100,100,100,100,80,90,90,100,90,100,100,100,100,90,90,90,100,100,90,100,90,100,90,100,100,90,90,100,90,100,100,100,100,90,100,100,100,100,100,100,100,100,100,90,100,81,90,100,100,100,90,79,100,100,90,100,90,100,90,100,90,100,90,100,100,90,90,100,100,100,90,90,100,100,90,100,90,90,100,100,100,90,100,90,90,100,100,100,90,100,100,90,100,90,100,100,100,100,100,100,100,100,100,81,100,100,100,100,90,100,100,100,100,100,100,90,100,100,90,100,100,100,100,90,100,90,100,100,100,90,100,100,90,100,100,100,82,100,90,90,90,100,100,90,100,100,100,100,100,90,90,100,100,90,90,90,100,100,100,100,100,100,90,80,100,90,90,100,100,100,100,100,90,90,100,100,90,90,100,100,90,100,100,100,100,90,80,100,100,90,80,90,100,100,90,100,100,100,100,90,90,90,100,100,100,90,100,100,100,100,100,82,90,100,100,100,100,100,90,100,100,90,90,100,100,100,100,100,100,100,100,100,100,100,90,90,100,90,100,90,100,100,90,90,100,100,100,90,100,81,90,90,100,90,100,100,90,90,90,100,100,100,100,100,100,90,100,90,100,82,100,100,90,100,80,100,100,100,100,100,100,90,100,100,100,100,100,100,100,100,100,90,90,100,100,100,90,100,100,90,100,100,90,90,100,90,100,100,100,90,100,100,90,100,90,100,90,100,90,90,100,100,100,100,100,100,90,90,100,100,90,90,100,100,100,100,100,100,90,100,100,100,79,100,100,90,100,100,100,100,100,90,100,100,100,90,90,100,90,100,90,100,90,100,90,100,90,100,100,100,100,100,100,100,90,90,100,100,90,100,100,90,100,90,90,90,100,100,100,100,100,100,100,100,100,100,90,100,100,100,100,100,100,100,100,100,100,100,100,100,100,90,100,100,100,100,100,100,100,90,90,90,100,90,90,100,100,100,100,100,100,100,100,100,100,100,100,90,100,100,100,90,100,100,100,100,90,100,100,90,90,100,100,79,100,100,90,100,100,100,100,100,90,100,100,90,100,100,100,100,100,100,90,100,90,100,90,100,90,100,100,90,90,100,100,100,90,80,90,100,100,90,100,100,100,100,100,100,100,90,100,90,100,90,100,100,100,100,100,90,100,100,100,90,90,100,90,100,90,90,100,100,100,100,100,100,90,100,100,90,100,90,100,100,100,100,100,90,100,100,100,100,100,100,90,90,100,100,100,100,100,90,100,100,100,90,100,90,100,90,100,90,90,100,100,90,90,100,100,100,100,100,100,100,100,100,90,100,100,100,100,100,100,100,100,100,100,100,100,90,90,100,90,100,100,83,100,100,78,90,100,100,90,100,100,90,100,90,100,90,90,100,100,100,100,100,90,90,90,90,100,100,100,100,90,90,90,100,100,100,100,100,100,100,100,100,100,100,100,100,90,100,100,100,90,90,100,100,100,100,100,100,100,90,100,100,100,100,100,100,100,100,100,100,100,100,100,90,79,100,100,100,100,100,90,100,100,100,100,100,90,90,90,100,90,90,90,90,100,100,100,100,100,100,100,90,90,90,100,90,100,90,80,100,100,100,90,90,100,100,100,100,100,100,100,100,90,100,100,100,90,100,100,100,90,100,100,90,100,100,100,90,100,100,100,100,81,90,100,90,100,100,90,100,80,100,100,100,100,100,100,90,90,81,100,90,90,100,100,100,90,100,100,100,90,90,100,80,90,100,90,90,100,90,90,100,100,100,100,100,100,90,100,100,100,100,81,100,100,100,100,100,100,100,100,90,100,100,90,100,100,100,100,90,100,100,90,100,90,90,100,100,100,100,100,100,100,100,100,90,100,100,100,100,100,80,100,90,100,100,90,90,100,100,100,100,100,100,100,100,100,100,100,100,100,100,100,90,100,90,100,90,100,100,100,100,90,100,90,90,100,100,100,100,100,100,90,100,100,90,100,90,100,100,100,100,100,90,100,90,90,100,100,90,100,100,100,100,100,100,100,90,100,100,100,90,100,100,100,100,100,100,90,90,90,100,100,100,90,100,100,100,90,100,100,100,90,100,100,100,100,100,100,100,100,100,100,100,100,100,90,100,90,100,90,100,90,100,100,100,100,90,100,90,100,100,100,100,100,100,100,80,100,90,82,100,100,90,100,90,90,81,90,100,100,90,100,90,90,100,100,100,100,100,100,100,90,100,100,100,100,100,100,90,100,100,100,100,100,100,90,100,100,100,100,100,90,100,90,100,100,80,80,100,90,100,100,90,90,90,100,100,90,100,100,100,100,79,90,100,100,90,100,90,100,90,100,100,100,100,100,90,100,100,90,100,90,100,82,90,90,90,100,90,100,90,90,90,90,90,90,100,90,100,100,90,100,100,100,100,100,90,100,90,100,100,100,100,90,90,100,100,90,100,100,100,100,100,90,100,100,100,100,81,100,100,100,100,90,100,100,100,100,90,100,100,90,100,90,100,100,100,100,100,100,100,100,100,100,100,100,100,100,90,90,100,100,90,100,100,81,90,100,100,100,100,90,100,90,90,90,100,100,81,90,100,90,90,100,90,100,90,100,90,100,100,100,100,100,100,100,90,100,100,90,100,100,100,90,90,100,100,100,100,100,90,100,100,100,100,100,100,100,100,100,100,90,100,100,90,100,100,100,90,90,100,90,100,100,80,100,100,100,100,90,90,100,100,100,100,100,100,90,90,78,100,100,100,100,100,90,100,90,100,100,90,90,100,100,100,90,100,100,90,100,100,100,90,100,90,100,82,100,100,100,100,100,100,100,100,90,100,90,100,100,100,100,100,100,82,100,100,100,100,100,100,100,100,100,100,100,100,100,100,100,100,100,100,100,100,100,90,100,100,90,90,90,90,100,100,100,100,100,90,100,100,100,100,100,90,90,100,100,100,90,100,100,100,90,100,100,100,100,100,100,100,100,100,100,100,100,100,90,100,100,100,100,90,100,100,100,100,100,100,90,100,90,90,100,100,100,100,90,100,100,100,100,100,100,100,100,100,100,90,100,100,100,100,90,100,100,100,100,100,100,100,100,100,100,100,90,100,100,90,100,90,100,100,100,100,100,100,90,100,100,100,90,100,100,90,100,100,100,100,100,100,90,100,100,100,100,100,100,90,90,100,100,100,90,100,100,90,90,90,100,90,100,100,100,90,100,80,100,90,90,100,100,100,90,100,100,100,100,100,100,100,90,100,100,90,100,100,90,90,100,100,100,90,100,90,90,90,90,100,100,90,90,100,90,100,90,90,90,100,100,100,100,90,100,100,100,100,100,100,100,90,100,90,100,100,100,100,100,90,100,100,100,100,100,100,90,100,100,100,100,100,100,90,100,100,100,100,90,100,90,100,100,90,100,100,100,100,100,90,100,100,90,100,100,90,100,100,100,100,100,100,100,100,90,90,100,90,100,90,100,100,100,100,81,90,100,100,90,100,100,80,100,90,100,90,100,100,100,90,90,100,83,100,100,100,100,100,100,90,90,100,100,100,100,100,100,100,90,100,100,100,90,90,100,100,100,90,90,100,90,90,100,100,90,100,90,90,100,90,100,100,100,90,100,90,100,90,90,90,100,100,100,100,90,100,100,100,90,100,90,100,100,100,100,100,100,100,100,100,100,100,100,90,100,90,100,100,100,100,100,90,100,90,90,100,100,90,100,100,90,100,90,100,100,100,90,90,100,90,100,100,100,100,90,100,90,100,100,90,82,100,100,100,100,100,100,90,100,100,100,100,100,81,90,100,100,100,100,81,100,100,100,79,100,90,100,100,100,100,100,100,100,90,90,90,100,90,100,100,90,100,100,90,100,100,100,100,79,100,100,100,100,100,100,100,100,100,100,100,100,100,100,90,100,90,100,100,100,100,100,100,90,90,100,100,100,90,100,100,100,90,100,100,100,100,90,90,100,100,100,100,90,100,100,100,90,100,100,90,100,100,100,90,100,90,90,100,100,100,90,100,100,90,90,90,90,100,100,90,90,100,100,90,90,100,100,100,90,100,100,90,90,100,100,100,100,100,90,100,90,90,90,100,100,90,100,90,100,100,100,100,100,90,100,90,90,100,100,100,100,90,100,100,90,100,100,100,100,100,90,90,90,90,90,90,90,100,100,90,100,90,100,100,90,100,100,100,100,100,100,100,100,100,100,90,90,100,100,100,100,100,100,100,90,90,90,100,100,100,90,100,100,100,100,100,90,100,100,90,100,100,90,100,100,100,100,100,100,100,100,100,100,100,100,100,100,100,100,100,100,90,90,100,90,90,100,100,90,100,100,100,79,90,90,90,100,100,100,90,100,100,90,90,100,100,90,100,100,90,100,100,100,90,90,90,100,90,100,100,100,100,90,100,90,100,100,100,100,90,100,100,100,100,100,90,100,100,90,100,90,90,90,90,100,90,100,100,100,100,100,100,100,90,100,90,90,100,100,100,90,90,100,100,90,100,100,82,100,100,81,100,100,100,100,100,100,100,100,100,100,100,90,100,100,100,100,100,100,100,100,90,100,90,90,90,100,100,81,100,100,90,100,100,100,100,100,100,100,100,90,100,100,90,100,100,100,100,100,100,90,90,90,90,100,100,100,90,100,100,100,100,100,90,90,90,100,90,100,100,100,100,100,100,90,100,90,100,100,100,90,90,100,100,100,90,100,100,90,100,100,100,100,100,100,100,90,100,90,90,90,100,100,100,90,100,100,100,100,100,90,100,100,100,90,100,100,100,90,100,100,100,100,90,90,90,90,100,100,100,100,100,81,100,100,81,100,100,100,100,100,90,100,90,100,100,100,100,90,100,100,100,100,100,100,90,100,90,90,100,100,100,90,100,100,100,90,100,100,100,100,90,100,100,100,90,100,100,100,100,100,82,100,100,100,100,100,100,100,100,100,100,90,90,100,100,100,100,100,100,100,90,90,100,100,90,100,100,90,100,100,90,80,100,100,90,100,100,100,100,100,100,100,100,100,90,100,100,100,100,90,100,90,100,100,100,100,90,90,81,100,100,100,100,90,90,100,90,100,100,90,100,100,90,79,90,100,100,100,100,90,100,90,100,90,100,82,100,90,100,100,90,100,90,100,90,100,90,100,90,90,100,100,100,100,100,81,100,90,100,90,90,100,100,100,100,100,100,100,90,100,100,100,100,100,90,100,100,100,90,100,90,90,100,90,90,90,90,100,100,100,100,100,90,100,100,100,100,90,100,90,100,100,100,90,100,100,90,100,100,100,90,100,100,100,90,100,90,90,100,90,100,90,100,100,100,100,100,90,100,100,90,90,100,100,100,100,100,90,100,90,90,100,80,100,100,100,100,100,90,100,100,90,100,100,90,100,100,90,100,81,100,90,100,100,79,100,90,100,100,100,100,100,100,100,100,90,100,100,90,90,90,100,90,100,90,100,90,100,100,100,100,100,100,100,90,100,100,90,90,100,100,100,90,90,100,79,90,90,100,100,100,100,100,100,100,100,100,100,100,100,100,90,90,100,100,90,100,100,90,100,90,90,90,100,100,100,100,90,90,100,100,100,90,100,100,100,100,100,100,79,100,90,100,90,82,100,80,100,100,100,100,100,100,100,90,100,100,90,90,81,100,90,90,90,90,100,100,100,100,100,100,100,90,100,90,100,90,90,100,90,100,100,100,100,90,100,100,100,100,100,100,100,100,100,100,100,90,100,100,100,100,100,100,90,100,100,100,100,100,100,90,100,100,100,100,100,100,100,100,100,100,100,100,90,100,100,100,90,100,90,90,100,90,100,100,100,90,100,100,100,100,100,100,90,100,90,100,100,78,100,90,100,100,100,100,100,100,100,90,90,100,100,100,100,100,100,100,100,90,100,100,100,100,100,100,100,90,100,100,100,100,100,100,90,100,100,100,90,100,100,100,100,100,100,100,100,79,90,90,90,100,100,90,100,100,90,100,100,100,100,100,100,100,100,100,90,100,100,90,90,100,90,90,90,100,90,100,90,100,90,100,100,100,100,90,100,100,100,100,90,100,90,100,100,100,100,90,90,100,100,90,100,100,100,90,100,100,100,100,100,100,100,100,100,100,100,90,100,100,100,100,100,100,100,100,90,100,100,90,100,100,100,90,100,90,100,90,100,100,90,90,100,82,100,100,100,90,90,100,90,100,100,100,100,90,90,100,90,100,100,100,100,100,90,100,100,100,100,100,100,90,100,100,100,90,90,90,100,100,100,100,100,90,100,100,90,100,100,100,90,100,100,100,90,100,100,90,100,100,90,100,100,100,100,90,100,100,100,100,100,100,100,100,90,100,90,100,90,100,100,100,90,90,100,100,100,80,90,100,100,100,100,90,100,100,100,100,100,90,100,90,100,90,90,90,90,100,90,90,100,100,90,100,100,90,90,100,100,90,100,90,100,100,100,100,100,100,90,90,100,90,100,100,100,100,100,100,90,100,100,100,100,100,90,100,90,100,100,100,90,90,90,100,90,100,90,100,100,100,90,100,90,100,100,100,100,100,100,100,90,100,80,100,100,100,90,100,100,90,100,100,100,90,90,100,100,100,100,100,100,100,100,100,90,90,100,100,100,90,90,100,100,100,100,100,100,100,100,90,100,90,100,100,100,90,90,90,100,100,100,90,100,90,100,100,100,100,100,90,90,90,100,100,90,90,100,90,100,100,100,100,100,90,100,100,100,90,100,100,100,100,100,100,100,100,100,100,100,83,100,100,100,100,90,100,100,100,90,100,90,100,90,100,100,90,100,100,100,100,100,90,100,100,100,100,100,100,100,90,90,100,100,90,100,90,100,100,90,90,100,100,100,90,90,100,100,90,100,90,100,100,100,100,100,100,100,100,90,100,90,90,90,100,100,90,81,100,100,100,100,100,100,90,90,100,100,100,100,100,100,90,100,100,100,100,100,90,100,100,100,100,90,100,100,90,100,100,100,100,100,100,100,90,100,100,100,100,100,90,90,100,100,100,90,100,100,100,100,100,100,100,100,100,100,100,100,100,100,90,100,90,100,100,100,90,90,100,100,90,90,90,100,100,90,100,90,100,100,100,90,100,100,100,100,100,100,100,100,100,100,100,100,100,100,100,100,81,100,100,100,90,90,100,90,100,100,100,100,100,100,100,90,90,100,100,100,90,100,90,100,100,90,100,100,100,100,100,100,100,90,90,90,100,90,100,100,100,90,100,100,90,100,100,82,100,90,100,100,100,90,100,100,90,100,80,100,90,90,100,100,90,100,100,100,100,100,90,90,100,100,100,100,100,100,100,100,100,100,100,100,90,100,90,90,100,100,100,100,100,100,100,90,90,90,100,100,100,100,100,100,100,100,100,100,100,90,79,90,100,90,100,100,100,100,100,100,90,100,90,100,100,100,100,100,79,100,100,100,90,90,100,90,100,100,100,100,90,90,100,100,100,100,90,100,100,90,100,100,100,100,100,100,80,100,100,100,90,100,90,100,100,100,90,100,90,100,100,100,100,100,90,100,100,100,80,100,100,100,90,100,100,100,90,100,90,100,100,100,90,100,100,90,90,100,100,100,80,100,100,90,90,100,100,100,100,100,90,90,100,100,100,100,100,100,90,90,90,100,90,100,100,100,100,100,100,100,100,100,100,100,90,100,100,100,90,100,100,79,90,100,100,100,100,90,100,90,90,90,82,100,90,100,100,100,100,100,90,100,100,100,90,100,100,100,100,100,90,100,100,100,100,100,100,100,100,100,100,90,100,100,90,100,100,100,100,100,80,100,100,100,100,100,100,100,90,90,90,100,100,100,100,100,90,90,100,100,100,100,100,90,100,90,90,100,90,90,100,100,100,90,100,100,100,100,100,90,100,100,100,100,90,100,100,100,100,100,90,100,90,100,90,100,90,100,100,100,100,90,90,100,100,90,90,90,100,90,90,100,90,90,90,100,90,100,90,100,100,100,100,90,90,90,100,100,90,90,100,90,100,100,90,90,90,100,90,90,100,100,90,100,100,100,90,100,100,90,100,90,100,100,90,100,100,100,100,100,100,100,100,90,90,100,100,90,100,100,90,100,90,100,90,100,100,100,100,100,100,100,100,100,90,100,100,100,100,90,100,100,100,100,100,100,100,90,90,100,100,90,100,90,90,100,100,100,100,90,100,100,100,100,90,100,100,100,100,100,90,90,100,100,100,100,100,100,100,90,90,100,100,90,100,90,100,90,90,90,100,80,100,90,100,100,100,100,100,100,81,90,100,100,100,100,100,90,90,90,100,100,90,90,100,100,100,100,90,90,100,90,100,90,100,100,90,90,100,100,100,100,90,90,100,90,100,90,100,100,100,100,100,100,100,100,100,90,90,90,90,90,90,100,100,90,90,90,100,100,90,100,90,100,100,100,100,90,100,100,100,100,100,100,90,100,90,100,100,100,100,100,100,90,100,100,100,90,100,90,90,90,80,100,100,100,90,100,90,100,90,90,100,100,100,90,100,90,100,90,100,100,100,100,100,90,100,90,100,100,100,90,100,100,90,100,100,100,100,100,90,100,90,90,90,100,100,100,80,90,100,90,100,90,100,100,90,100,100,90,100,90,100,100,100,90,100,100,90,100,100,80,100,100,100,100,90,90,100,90,100,90,90,100,100,100,90,100,100,100,90,100,100,100,100,100,90,90,100,100,100,100,90,90,100,90,81,100,100,82,100,90,100,100,100,90,100,100,100,90,90,90,90,100,100,100,100,100,90,90,100,90,100,100,100,90,100,90,100,100,100,90,100,100,100,90,100,100,100,100,100,100,100,100,90,100,100,100,100,100,90,90,100,100,100,100,100,90,100,100,100,100,100,100,90,100,100,91,100,100,100,100,100,100,100,90,100,100,100,100,100,100,100,100,100,100,100,90,100,100,100,100,100,90,100,100,100,100,100,100,100,100,90,100,100,100,90,100,100,100,100,100,100,90,90,100,100,100,90,90,100,100,90,90,100,100,100,90,100,100,81,100,100,100,100,100,100,90,90,90,90,90,100,100,100,90,90,90,100,90,100,90,100,100,100,100,90,100,81,90,90,90,90,100,100,100,100,90,100,100,90,90,100,100,90,100,100,81,100,100,100,90,100,100,100,100,100,100,100,100,90,100,100,90,100,100,100,100,100,100,100,100,100,90,100,100,100,100,90,90,100,100,100,100,100,100,100,100,100,100,100,100,100,90,100,90,90,100,100,100,100,100,100,90,90,90,100,100,100,90,100,100,100,100,90,90,90,100,100,100,100,90,100,100,100,100,81,100,100,100,100,90,100,90,100,100,100,100,81,90,90,90,90,90,100,100,100,90,100,100,100,90,100,90,100,100,100,100,100,100,100,100,100,90,100,90,100,90,90,100,82,100,100,100,100,90,100,90,100,100,90,100,100,100,100,100,100,100,100,100,100,100,100,100,90,100,100,100,80,100,90,100,100,100,100,100,90,100,100,90,100,81,100,100,100,100,100,82,100,90,100,100,100,100,90,90,90,90,90,100,100,100,100,90,100,100,100,100,100,100,90,100,100,100,100,100,100,100,100,100,90,100,90,100,100,100,100,90,100,100,100,100,90,100,100,90,100,90,100,100,100,100,100,100,100,90,100,90,90,100,100,100,100,100,100,100,90,100,100,100,100,100,100,100,100,79,100,100,100,100,80,100,100,100,90,90,100,100,83,100,100,100,100,100,90,80,100,100,100,100,100,100,100,100,100,100,100,100,100,100,100,100,90,100,81,90,100,79,100,100,90,100,100,100,100,100,100,90,90,90,100,100,100,100,90,90,100,100,90,79,100,100,100,100,90,100,100,100,100,90,90,100,90,100,100,100,90,100,100,100,100,100,100,90,90,100,90,90,90,100,100,90,100,100,90,100,100,80,100,100,80,90,100,100,100,100,100,100,90,100,100,100,100,100,100,100,100,90,100,100,100,100,100,100,100,100,100,100,100,100,90,90,100,100,90,90,100,100,100,100,100,100,100,100,90,100,100,100,100,100,100,100,90,100,90,100,100,100,100,100,100,90,90,90,100,90,90,90,90,90,100,90,90,90,100,90,100,100,100,100,100,90,90,100,100,90,100,90,100,90,100,100,100,100,90,100,100,100,100,100,90,100,100,90,100,100,90,90,90,90,90,100,100,80,90,100,100,90,100,90,100,100,100,100,100,90,90,100,100,100,90,100,90,90,100,100,80,100,100,100,100,80,100,100,100,100,100,100,100,90,90,100,100,100,90,90,100,100,100,100,100,100,100,100,100,100,100,100,100,100,100,90,90,90,100,100,100,100,100,100,100,100,90,100,100,100,90,100,100,100,90,100,90,100,100,90,100,100,100,100,100,100,100,90,90,82,90,90,90,100,90,100,100,100,100,100,100,100,100,100,90,90,79,100,100,100,100,100,90,90,100,100,100,100,100,100,100,100,90,100,100,100,100,100,90,100,100,100,90,100,100,100,90,100,100,100,100,78,100,100,100,100,90,80,100,91,100,100,100,100,100,100,80,100,100,100,100,100,100,100,90,90,100,100,100,100,100,81,100,90,90,100,100,100,100,100,100,100,100,100,100,100,100,100,100,100,90,100,90,81,100,90,90,90,100,100,90,100,100,90,90,100,90,90,90,100,100,90,100,100,100,100,90,90,100,90,100,100,100,100,90,100,100,100,100,90,100,90,100,100,100,100,90,100,90,100,100,90,100,100,90,100,81,91,100,90,100,100,100,90,81,90,90,100,90,100,100,100,100,100,100,90,100,100,90,90,100,90,100,90,100,90,100,100,100,100,90,90,100,100,90,100,100,100,100,90,100,90,100,100,100,100,100,90,100,100,100,90,90,100,100,82,90,90,100,100,90,90,100,100,90,100,90,100,82,100,90,100,90,100,100,100,100,100,90,100,90,90,100,100,100,100,100,100,90,100,90,90,100,100,100,100,100,100,100,90,100,100,100,100,90,100,100,100,100,90,100,100,90,100,90,90,100,100,100,90,100,100,90,90,100,100,90,100,100,100,90,79,100,90,100,100,100,100,100,100,90,100,100,90,100,90,90,90,100,90,90,90,100,100,100,100,100,100,90,90,100,100,100,81,100,100,100,100,100,100,100,90,100,100,100,100,100,100,100,100,100,90,90,90,100,100,90,100,90,100,100,100,100,100,100,90,90,100,100,100,100,90,90,90,100,100,100,100,90,100,100,100,100,100,100,90,100,100,100,100,100,90,100,100,100,100,100,100,100,100,100,100,100,100,100,100,100,100,100,100,100,90,100,100,90,100,100,100,100,90,100,100,100,100,100,100,100,90,100,90,100,80,90,82,90,79,100,100,90,100,100,100,90,90,100,90,100,100,100,100,100,90,100,100,100,90,90,90,100,100,90,100,90,100,100,100,100,90,90,100,90,90,100,100,100,90,100,100,82,100,90,100,100,100,100,100,100,100,100,100,100,100,100,90,100,100,90,90,100,90,100,100,100,90,90,100,100,100,90,100,100,90,100,100,82,100,90,100,100,100,90,100,90,90,100,90,100,90,90,100,100,100,100,90,100,100,100,90,100,100,100,100,90,100,100,90,100,100,100,100,100,100,100,100,100,90,100,100,100,100,90,100,100,100,100,90,100,90,100,100,100,90,100,100,90,100,100,100,100,100,100,90,90,90,100,100,100,100,100,100,90,90,100,100,100,100,90,100,100,90,100,90,100,100,100,100,90,100,100,100,100,90,100,100,100,100,100,100,90,100,80,100,80,90,100,100,90,90,100,100,100,100,100,100,100,100,100,100,100,100,90,100,100,90,100,100,100,90,100,100,100,100,100,100,100,100,90,100,100,90,90,100,100,100,100,100,90,100,100,100,100,90,90,100,100,90,100,100,90,90,100,100,100,90,100,100,90,90,100,90,90,100,90,100,100,100,100,81,100,90,100,100,100,100,100,100,90,100,90,100,90,90,100,100,100,100,100,100,100,79,100,90,100,100,100,100,90,100,100,100,100,90,100,90,100,100,90,100,100,100,100,100,100,100,90,100,100,90,100,90,100,100,100,100,100,90,90,100,100,100,100,100,100,90,100,100,90,100,100,100,90,100,100,100,100,100,90,90,100,100,90,90,100,100,100,100,100,90,100,100,100,100,100,100,90,100,100,100,90,100,100,100,90,90,100,100,90,90,100,100,100,90,100,100,90,82,100,100,100,100,90,100,100,100,100,100,100,90,90,100,100,100,100,90,90,100,100,100,90,100,100,90,100,90,100,100,90,100,100,100,100,90,100,100,90,100,100,100,100,100,100,100,90,100,90,90,100,100,90,100,100,100,100,100,100,100,100,100,100,100,100,90,100,90,100,100,100,90,100,100,100,100,100,90,100,100,90,100,100,90,100,100,100,100,90,100,100,100,100,100,100,100,100,100,100,100,100,100,100,90,100,100,90,100,90,100,100,90,100,90,100,100,100,100,90,100,100,90,90,90,100,90,100,100,90,100,90,100,90,100,100,90,100,90,100,100,100,90,100,90,100,90,90,100,100,100,100,90,100,100,100,100,90,100,100,100,100,100,90,100,100,90,100,100,100,100,90,100,100,100,100,100,100,90,100,100,100,100,100,100,100,100,100,100,100,90,100,100,100,90,90,100,90,100,100,90,79,100,100,100,90,90,100,100,100,100,100,100,100,90,100,90,100,100,100,90,100,100,100,100,90,90,100,100,100,100,90,100,90,100,90,100,100,90,100,100,100,90,100,90,90,100,90,100,100,100,100,90,90,100,90,100,100,100,80,90,100,90,100,100,100,90,100,100,100,100,100,90,100,100,100,100,100,100,100,90,100,100,80,90,90,100,100,90,100,100,90,90,90,100,100,100,100,90,100,90,90,100,100,90,100,100,90,90,100,100,100,100,100,100,100,100,90,100,100,90,100,100,100,100,100,100,90,90,100,100,100,100,100,90,100,100,90,100,80,100,100,90,100,90,100,100,100,100,100,100,100,100,90,100,100,100,100,100,100,100,100,90,90,100,90,100,100,100,79,100,90,90,100,100,100,100,100,90,100,100,90,100,90,100,90,100,100,100,90,100,100,90,100,100,100,90,100,90,90,100,100,100,90,90,100,100,100,100,100,100,100,100,100,100,100,100,100,100,100,100,90,90,90,100,90,100,90,100,100,80,100,90,100,90,100,90,90,100,100,90,90,90,100,100,90,100,90,100,100,100,90,90,90,90,90,90,100,100,100,100,100,100,100,90,100,100,100,90,90,100,100,100,100,80,100,100,100,100,90,90,100,100,100,100,100,100,90,100,100,100,100,100,100,100,90,90,100,100,100,90,100,90,100,100,91,100,100,100,100,90,100,100,90,100,90,100,100,90,100,100,100,100,100,83,100,100,100,90,90,100,100,100,90,100,100,100,90,100,90,100,100,100,100,100,90,90,100,79,100,90,100,90,100,90,100,100,100,100,100,100,90,90,100,100,100,100,100,100,100,100,100,100,100,100,100,100,100,90,100,90,100,100,100,90,81,100,100,90,90,90,100,90,90,100,100,100,100,100,90,100,100,100,100,100,100,100,100,100,100,100,81,100,100,90,100,100,100,100,90,100,100,100,100,100,100,100,100,90,100,100,90,100,90,100,81,100,100,100,100,100,100,100,100,100,90,100,100,90,100,100,100,100,100,100,100,100,100,90,100,90,100,100,90,100,90,100,100,100,90,100,100,100,100,100,100,100,90,90,100,100,100,100,100,100,100,100,100,90,100,90,100,100,100,100,90,100,100,90,100,90,100,100,100,90,100,100,100,100,100,100,90,90,100,100,100,100,90,100,100,100,100,100,100,100,100,90,100,100,100,90,100,100,100,100,100,100,90,100,90,100,100,100,100,90,100,100,100,100,100,100,100,100,100,100,90,100,100,90,90,100,100,100,100,100,100,100,90,100,100,100,100,90,100,100,90,100,90,100,100,100,100,90,100,90,100,100,90,100,100,90,100,90,100,90,100,100,90,90,90,100,100,100,100,100,90,90,100,90,100,80,100,90,100,100,100,100,100,100,100,100,90,100,100,100,90,100,90,100,100,100,100,100,80,100,100,90,90,90,90,100,90,90,100,100,100,90,100,100,100,100,90,100,100,90,100,100,100,90,100,100,90,100,100,100,100,100,100,90,100,100,90,90,80,90,100,100,90,100,100,100,100,100,100,100,100,100,100,90,100,90,100,100,100,90,100,100,81,100,100,90,90,90,100,90,100,100,100,100,90,100,90,90,100,90,100,100,90,80,100,100,100,100,90,100,100,100,100,100,90,100,100,100,100,90,100,90,100,100,90,100,100,100,90,100,100,90,90,82,90,100,100,100,100,100,100,100,100,100,100,100,100,100,90,100,100,90,100,90,90,100,100,100,100,100,100,90,100,100,100,90,100,90,100,90,100,100,100,100,100,80,90,100,100,100,90,100,90,100,100,100,100,90,90,90,100,100,100,100,100,90,100,83,100,90,100,100,90,90,100,100,100,100,100,90,100,100,100,100,100,100,90,100,100,90,90,100,100,100,100,100,100,90,100,90,100,100,90,100,90,100,90,100,90,100,100,100,100,100,100,90,100,90,100,90,100,90,90,100,100,100,100,100,100,100,100,100,90,100,100,100,100,100,90,80,100,100,100,79,90,100,90,100,100,90,81,100,100,100,90,90,100,90,100,100,90,90,90,90,90,100,100,100,100,100,90,100,100,100,100,100,100,100,100,100,100,90,100,100,100,100,100,100,100,100,90,100,100,100,90,90,90,100,90,100,100,100,82,80,90,90,100,100,100,90,90,100,100,100,100,100,100,90,100,100,100,90,100,90,100,100,100,100,90,100,100,100,100,100,100,90,100,100,100,100,90,90,100,100,100,100,90,100,90,90,100,100,100,100,100,90,90,90,90,100,100,100,100,100,100,100,100,90,90,100,100,100,100,100,100,100,100,100,100,90,100,100,100,100,90,100,90,90,90,100,90,90,100,90,90,100,90,90,100,100,100,100,100,100,100,100,100,100,100,100,100,100,100,100,100,100,90,90,100,90,100,90,100,100,100,100,90,90,100,100,100,90,100,90,100,100,90,100,90,100,100,90,100,100,100,100,100,90,100,100,82,100,90,100,100,100,100,100,100,100,100,100,100,90,100,100,100,100,100,100,100,90,100,90,100,81,100,100,100,100,100,100,100,100,100,90,100,100,100,100,100,79,100,90,100,100,100,81,90,100,82,100,100,100,100,90,100,100,100,100,100,100,90,100,90,90,100,90,90,100,90,90,100,90,100,100,100,100,100,100,100,100,100,100,100,100,100,100,100,100,100,100,90,100,100,90,100,100,100,100,100,100,100,100,100,100,100,100,100,90,100,100,100,100,100,90,100,100,100,100,100,100,80,100,100,100,100,100,100,90,100,100,100,90,100,100,100,100,90,90,90,100,100,100,100,100,100,90,100,100,100,100,80,100,100,100,100,100,100,90,100,100,100,100,100,100,100,100,100,100,100,100,100,90,100,100,100,100,100,81,100,100,100,100,100,100,100,100,100,100,100,100,100,90,90,100,90,100,90,100,90,100,100,90,90,100,90,90,100,100,100,82,100,100,100,100,90,90,100,100,90,100,100,90,100,100,100,90,100,90,100,90,100,100,100,100,100,90,100,100,100,100,90,90,100,100,80,100,100,100,100,100,100,100,100,90,90,90,100,100,100,100,100,80,100,90,100,100,100,100,100,90,100,90,90,80,100,100,100,100,80,90,100,100,100,100,100,100,100,100,100,100,100,100,100,100,100,100,100,90,90,90,90,90,100,100,100,100,90,100,100,100,81,90,100,100,100,100,90,100,81,100,100,90,100,100,90,100,100,100,100,100,100,90,100,90,90,100,90,100,100,100,100,100,100,100,100,100,100,100,100,100,100,100,100,100,100,100,100,100,100,90,100,90,100,90,100,90,90,100,100,90,90,100,100,90,90,90,90,100,100,90,90,100,90,100,90,100,100,100,100,90,100,90,90,100,90,100,100,82,100,100,100,100,90,100,100,100,90,100,100,100,100,90,100,100,90,100,90,90,100,90,90,100,100,100,100,100,100,100,100,100,100,100,100,100,100,100,90,100,100,100,100,100,100,90,90,100,100,100,100,90,90,90,100,100,90,100,100,100,100,83,100,90,100,90,90,100,100,100,90,90,90,100,100,100,100,100,80,100,90,100,100,100,90,90,100,100,100,100,100,100,100,90,100,90,100,100,100,100,100,100,90,100,100,100,91,100,100,100,100,100,100,100,100,100,100,100,100,90,90,100,90,81,100,100,100,100,90,100,100,90,100,90,100,90,90,100,100,100,100,100,100,100,90,90,100,90,100,100,90,100,100,100,90,100,100,90,100,100,100,100,90,100,100,90,90,90,100,100,100,90,90,90,100,100,100,100,100,100,100,90,100,100,100,100,100,100,90,100,100,100,90,100,100,100,100,90,100,100,100,100,90,100,100,100,100,90,100,100,100,100,100,90,100,100,90,90,90,90,100,100,100,100,100,100,90,90,100,100,90,100,100,100,100,100,90,100,100,100,100,100,100,90,100,90,100,100,100,100,100,100,100,100,100,100,100,100,100,100,90,100,100,100,90,100,100,100,90,100,100,100,100,90,100,90,100,100,100,100,90,90,79,100,100,90,100,90,90,78,100,100,100,90,100,100,100,90,90,100,100,100,90,90,100,100,100,90,100,100,90,100,100,90,90,100,100,100,90,100,90,100,100,100,100,100,90,90,100,100,100,100,90,90,100,100,100,90,100,100,90,100,100,90,90,100,100,100,100,100,100,100,100,100,90,100,100,90,83,90,90,100,90,100,100,90,100,80,90,100,90,90,90,100,100,100,90,90,90,100,100,100,90,90,100,100,100,90,100,100,90,90,100,100,90,100,100,90,100,100,100,100,100,100,90,100,91,100,100,100,90,100,100,100,90,90,90,90,100,100,100,100,100,90,100,90,90,100,90,100,100,100,90,100,90,100,90,100,100,100,90,100,100,100,100,100,100,90,90,90,100,100,100,100,100,90,90,100,90,100,100,90,100,100,100,100,90,90,100,90,100,100,90,90,100,100,100,100,100,100,100,100,100,90,100,100,100,100,100,90,100,90,100,100,100,90,100,100,100,100,100,100,100,100,100,90,100,90,79,100,100,100,100,90,100,100,90,100,100,100,90,100,100,100,100,90,90,100,100,90,100,100,100,90,100,100,100,100,100,100,100,100,100,90,100,90,100,100,90,100,100,100,79,100,90,100,100,100,100,90,100,100,100,90,100,100,100,100,90,100,90,100,100,100,100,90,100,90,100,100,100,100,90,100,100,100,90,90,100,100,90,90,100,90,82,90,90,100,90,90,100,100,100,100,100,100,100,100,90,100,90,100,100,100,100,100,100,100,90,90,90,100,90,90,100,100,81,90,90,100,100,100,100,100,100,100,100,100,100,100,100,90,100,100,100,100,100,100,90,100,100,90,100,100,90,100,90,100,100,100,100,100,100,90,90,100,90,100,100,100,100,100,100,100,100,90,90,100,100,100,100,100,100,100,90,100,90,100,90,100,90,90,100,90,100,90,100,100,100,80,100,90,100,100,100,90,100,100,100,100,90,100,100,100,80,100,100,100,100,100,90,100,100,100,100,90,100,100,100,100,100,90,90,100,100,100,100,90,100,100,100,100,100,100,90,100,100,100,100,100,100,100,100,90,100,100,100,100,100,90,100,90,90,100,100,100,90,100,90,81,100,90,100,100,100,90,100,80,100,100,90,90,91,100,100,90,100,100,90,90,100,100,100,100,90,81,90,100,100,100,100,100,100,100,90,90,100,100,90,100,100,100,100,100,90,100,100,90,90,100,100,100,90,100,100,90,90,100,100,100,82,100,90,100,100,100,90,100,100,100,100,90,100,100,100,100,90,100,100,100,100,82,100,90,100,100,90,100,100,100,100,100,100,100,100,100,100,90,100,100,100,100,100,100,100,100,100,100,100,100,81,100,100,100,90,100,100,100,100,100,100,100,90,90,80,100,90,100,100,90,100,100,100,90,100,90,100,100,100,100,100,100,100,100,100,100,100,100,90,80,100,90,100,90,82,100,100,100,100,100,100,90,100,100,79,100,100,100,100,100,100,100,90,100,90,100,90,90,100,100,90,100,80,100,100,100,100,100,100,100,100,100,100,100,100,100,100,100,100,100,100,100,100,100,100,100,90,100,82,100,100,100,100,100,100,90,90,100,100,90,100,100,90,100,90,100,90,100,90,79,90,100,100,90,100,90,100,90,100,90,100,100,90,90,90,100,90,100,100,100,100,100,100,90,100,100,100,100,90,90,100,100,90,90,90,100,100,100,100,100,90,100,100,100,100,100,100,100,100,90,82,100,100,100,100,90,90,90,100,100,100,100,100,90,100,90,100,100,100,90,100,90,90,100,100,100,100,90,90,100,90,100,100,90,100,100,90,90,100,100,100,100,100,100,90,90,100,100,100,100,90,100,100,100,100,100,100,90,100,100,100,100,100,100,100,100,100,90,100,90,100,100,100,90,100,100,100,100,100,100,100,100,90,100,90,100,100,100,100,100,100,100,82,90,100,100,100,100,100,100,90,90,100,100,100,100,100,100,100,100,90,100,100,100,100,100,100,100,90,100,90,100,100,100,100,90,90,100,90,100,90,100,90,100,100,100,90,100,90,100,100,90,100,100,100,100,100,100,100,90,100,100,100,100,90,100,90,90,90,100,100,90,100,100,100,100,100,100,100,90,100,90,100,90,90,100,100,90,100,82,100,90,90,100,90,100,100,100,100,100,100,100,100,100,100,100,90,90,100,90,100,100,90,90,100,100,100,80,90,100,90,100,100,100,90,100,100,100,90,100,100,100,100,100,90,100,100,100,90,100,100,100,90,91,100,100,100,100,100,90,100,100,90,100,90,100,100,100,90,90,90,100,100,100,90,90,100,100,100,100,100,100,100,90,100,100,100,100,100,100,100,100,100,90,100,100,100,90,100,90,100,100,100,100,100,90,100,100,100,90,90,90,90,100,100,100,90,100,100,90,100,100,100,90,100,100,100,100,100,100,100,100,100,100,100,100,100,100,100,90,100,81,100,90,100,100,81,100,90,90,100,100,90,100,100,100,90,100,90,90,100,100,100,100,100,83,100,100,90,100,100,90,100,100,100,100,100,100,100,100,100,100,79,100,100,100,100,100,100,79,100,90,100,100,100,100,100,90,100,90,100,90,100,100,100,90,100,90,100,100,100,90,100,90,90,100,90,100,100,100,100,100,100,100,100,100,100,100,90,90,100,83,90,100,90,100,100,100,100,100,100,100,100,100,90,100,100,100,100,100,79,90,100,100,100,100,81,100,90,90,100,100,100,90,100,100,100,100,100,100,100,100,100,90,100,90,100,100,100,100,100,100,90,100,100,100,100,100,90,90,100,100,100,100,100,90,100,100,100,90,90,100,90,100,100,100,100,90,90,100,100,90,100,100,100,100,90,100,90,90,100,100,100,90,100,100,90,100,100,100,90,90,100,90,90,90,100,100,90,100,100,90,100,100,100,100,100,90,100,100,100,100,90,100,90,90,100,100,100,100,100,90,100,100,100,100,100,100,100,100,100,83,90,100,100,90,100,100,100,100,100,100,100,90,100,100,90,100,100,100,90,90,100,100,100,90,90,100,100,100,82,100,100,90,90,100,100,100,100,90,100,100,90,90,100,100,90,100,100,100,100,100,100,90,90,100,100,100,100,100,100,90,90,100,100,100,100,100,100,90,90,100,100,100,100,100,100,100,100,100,100,100,100,100,100,100,100,100,100,90,100,100,100,90,100,100,100,90,100,100,90,100,100,100,100,100,100,90,100,90,90,100,100,100,100,100,100,100,100,90,100,90,100,100,100,90,100,90,90,100,90,100,100,90,90,90,90],\"type\":\"box\"}],                        {\"template\":{\"data\":{\"histogram2dcontour\":[{\"type\":\"histogram2dcontour\",\"colorbar\":{\"outlinewidth\":0,\"ticks\":\"\"},\"colorscale\":[[0.0,\"#0d0887\"],[0.1111111111111111,\"#46039f\"],[0.2222222222222222,\"#7201a8\"],[0.3333333333333333,\"#9c179e\"],[0.4444444444444444,\"#bd3786\"],[0.5555555555555556,\"#d8576b\"],[0.6666666666666666,\"#ed7953\"],[0.7777777777777778,\"#fb9f3a\"],[0.8888888888888888,\"#fdca26\"],[1.0,\"#f0f921\"]]}],\"choropleth\":[{\"type\":\"choropleth\",\"colorbar\":{\"outlinewidth\":0,\"ticks\":\"\"}}],\"histogram2d\":[{\"type\":\"histogram2d\",\"colorbar\":{\"outlinewidth\":0,\"ticks\":\"\"},\"colorscale\":[[0.0,\"#0d0887\"],[0.1111111111111111,\"#46039f\"],[0.2222222222222222,\"#7201a8\"],[0.3333333333333333,\"#9c179e\"],[0.4444444444444444,\"#bd3786\"],[0.5555555555555556,\"#d8576b\"],[0.6666666666666666,\"#ed7953\"],[0.7777777777777778,\"#fb9f3a\"],[0.8888888888888888,\"#fdca26\"],[1.0,\"#f0f921\"]]}],\"heatmap\":[{\"type\":\"heatmap\",\"colorbar\":{\"outlinewidth\":0,\"ticks\":\"\"},\"colorscale\":[[0.0,\"#0d0887\"],[0.1111111111111111,\"#46039f\"],[0.2222222222222222,\"#7201a8\"],[0.3333333333333333,\"#9c179e\"],[0.4444444444444444,\"#bd3786\"],[0.5555555555555556,\"#d8576b\"],[0.6666666666666666,\"#ed7953\"],[0.7777777777777778,\"#fb9f3a\"],[0.8888888888888888,\"#fdca26\"],[1.0,\"#f0f921\"]]}],\"heatmapgl\":[{\"type\":\"heatmapgl\",\"colorbar\":{\"outlinewidth\":0,\"ticks\":\"\"},\"colorscale\":[[0.0,\"#0d0887\"],[0.1111111111111111,\"#46039f\"],[0.2222222222222222,\"#7201a8\"],[0.3333333333333333,\"#9c179e\"],[0.4444444444444444,\"#bd3786\"],[0.5555555555555556,\"#d8576b\"],[0.6666666666666666,\"#ed7953\"],[0.7777777777777778,\"#fb9f3a\"],[0.8888888888888888,\"#fdca26\"],[1.0,\"#f0f921\"]]}],\"contourcarpet\":[{\"type\":\"contourcarpet\",\"colorbar\":{\"outlinewidth\":0,\"ticks\":\"\"}}],\"contour\":[{\"type\":\"contour\",\"colorbar\":{\"outlinewidth\":0,\"ticks\":\"\"},\"colorscale\":[[0.0,\"#0d0887\"],[0.1111111111111111,\"#46039f\"],[0.2222222222222222,\"#7201a8\"],[0.3333333333333333,\"#9c179e\"],[0.4444444444444444,\"#bd3786\"],[0.5555555555555556,\"#d8576b\"],[0.6666666666666666,\"#ed7953\"],[0.7777777777777778,\"#fb9f3a\"],[0.8888888888888888,\"#fdca26\"],[1.0,\"#f0f921\"]]}],\"surface\":[{\"type\":\"surface\",\"colorbar\":{\"outlinewidth\":0,\"ticks\":\"\"},\"colorscale\":[[0.0,\"#0d0887\"],[0.1111111111111111,\"#46039f\"],[0.2222222222222222,\"#7201a8\"],[0.3333333333333333,\"#9c179e\"],[0.4444444444444444,\"#bd3786\"],[0.5555555555555556,\"#d8576b\"],[0.6666666666666666,\"#ed7953\"],[0.7777777777777778,\"#fb9f3a\"],[0.8888888888888888,\"#fdca26\"],[1.0,\"#f0f921\"]]}],\"mesh3d\":[{\"type\":\"mesh3d\",\"colorbar\":{\"outlinewidth\":0,\"ticks\":\"\"}}],\"scatter\":[{\"fillpattern\":{\"fillmode\":\"overlay\",\"size\":10,\"solidity\":0.2},\"type\":\"scatter\"}],\"parcoords\":[{\"type\":\"parcoords\",\"line\":{\"colorbar\":{\"outlinewidth\":0,\"ticks\":\"\"}}}],\"scatterpolargl\":[{\"type\":\"scatterpolargl\",\"marker\":{\"colorbar\":{\"outlinewidth\":0,\"ticks\":\"\"}}}],\"bar\":[{\"error_x\":{\"color\":\"#2a3f5f\"},\"error_y\":{\"color\":\"#2a3f5f\"},\"marker\":{\"line\":{\"color\":\"#E5ECF6\",\"width\":0.5},\"pattern\":{\"fillmode\":\"overlay\",\"size\":10,\"solidity\":0.2}},\"type\":\"bar\"}],\"scattergeo\":[{\"type\":\"scattergeo\",\"marker\":{\"colorbar\":{\"outlinewidth\":0,\"ticks\":\"\"}}}],\"scatterpolar\":[{\"type\":\"scatterpolar\",\"marker\":{\"colorbar\":{\"outlinewidth\":0,\"ticks\":\"\"}}}],\"histogram\":[{\"marker\":{\"pattern\":{\"fillmode\":\"overlay\",\"size\":10,\"solidity\":0.2}},\"type\":\"histogram\"}],\"scattergl\":[{\"type\":\"scattergl\",\"marker\":{\"colorbar\":{\"outlinewidth\":0,\"ticks\":\"\"}}}],\"scatter3d\":[{\"type\":\"scatter3d\",\"line\":{\"colorbar\":{\"outlinewidth\":0,\"ticks\":\"\"}},\"marker\":{\"colorbar\":{\"outlinewidth\":0,\"ticks\":\"\"}}}],\"scattermapbox\":[{\"type\":\"scattermapbox\",\"marker\":{\"colorbar\":{\"outlinewidth\":0,\"ticks\":\"\"}}}],\"scatterternary\":[{\"type\":\"scatterternary\",\"marker\":{\"colorbar\":{\"outlinewidth\":0,\"ticks\":\"\"}}}],\"scattercarpet\":[{\"type\":\"scattercarpet\",\"marker\":{\"colorbar\":{\"outlinewidth\":0,\"ticks\":\"\"}}}],\"carpet\":[{\"aaxis\":{\"endlinecolor\":\"#2a3f5f\",\"gridcolor\":\"white\",\"linecolor\":\"white\",\"minorgridcolor\":\"white\",\"startlinecolor\":\"#2a3f5f\"},\"baxis\":{\"endlinecolor\":\"#2a3f5f\",\"gridcolor\":\"white\",\"linecolor\":\"white\",\"minorgridcolor\":\"white\",\"startlinecolor\":\"#2a3f5f\"},\"type\":\"carpet\"}],\"table\":[{\"cells\":{\"fill\":{\"color\":\"#EBF0F8\"},\"line\":{\"color\":\"white\"}},\"header\":{\"fill\":{\"color\":\"#C8D4E3\"},\"line\":{\"color\":\"white\"}},\"type\":\"table\"}],\"barpolar\":[{\"marker\":{\"line\":{\"color\":\"#E5ECF6\",\"width\":0.5},\"pattern\":{\"fillmode\":\"overlay\",\"size\":10,\"solidity\":0.2}},\"type\":\"barpolar\"}],\"pie\":[{\"automargin\":true,\"type\":\"pie\"}]},\"layout\":{\"autotypenumbers\":\"strict\",\"colorway\":[\"#636efa\",\"#EF553B\",\"#00cc96\",\"#ab63fa\",\"#FFA15A\",\"#19d3f3\",\"#FF6692\",\"#B6E880\",\"#FF97FF\",\"#FECB52\"],\"font\":{\"color\":\"#2a3f5f\"},\"hovermode\":\"closest\",\"hoverlabel\":{\"align\":\"left\"},\"paper_bgcolor\":\"white\",\"plot_bgcolor\":\"#E5ECF6\",\"polar\":{\"bgcolor\":\"#E5ECF6\",\"angularaxis\":{\"gridcolor\":\"white\",\"linecolor\":\"white\",\"ticks\":\"\"},\"radialaxis\":{\"gridcolor\":\"white\",\"linecolor\":\"white\",\"ticks\":\"\"}},\"ternary\":{\"bgcolor\":\"#E5ECF6\",\"aaxis\":{\"gridcolor\":\"white\",\"linecolor\":\"white\",\"ticks\":\"\"},\"baxis\":{\"gridcolor\":\"white\",\"linecolor\":\"white\",\"ticks\":\"\"},\"caxis\":{\"gridcolor\":\"white\",\"linecolor\":\"white\",\"ticks\":\"\"}},\"coloraxis\":{\"colorbar\":{\"outlinewidth\":0,\"ticks\":\"\"}},\"colorscale\":{\"sequential\":[[0.0,\"#0d0887\"],[0.1111111111111111,\"#46039f\"],[0.2222222222222222,\"#7201a8\"],[0.3333333333333333,\"#9c179e\"],[0.4444444444444444,\"#bd3786\"],[0.5555555555555556,\"#d8576b\"],[0.6666666666666666,\"#ed7953\"],[0.7777777777777778,\"#fb9f3a\"],[0.8888888888888888,\"#fdca26\"],[1.0,\"#f0f921\"]],\"sequentialminus\":[[0.0,\"#0d0887\"],[0.1111111111111111,\"#46039f\"],[0.2222222222222222,\"#7201a8\"],[0.3333333333333333,\"#9c179e\"],[0.4444444444444444,\"#bd3786\"],[0.5555555555555556,\"#d8576b\"],[0.6666666666666666,\"#ed7953\"],[0.7777777777777778,\"#fb9f3a\"],[0.8888888888888888,\"#fdca26\"],[1.0,\"#f0f921\"]],\"diverging\":[[0,\"#8e0152\"],[0.1,\"#c51b7d\"],[0.2,\"#de77ae\"],[0.3,\"#f1b6da\"],[0.4,\"#fde0ef\"],[0.5,\"#f7f7f7\"],[0.6,\"#e6f5d0\"],[0.7,\"#b8e186\"],[0.8,\"#7fbc41\"],[0.9,\"#4d9221\"],[1,\"#276419\"]]},\"xaxis\":{\"gridcolor\":\"white\",\"linecolor\":\"white\",\"ticks\":\"\",\"title\":{\"standoff\":15},\"zerolinecolor\":\"white\",\"automargin\":true,\"zerolinewidth\":2},\"yaxis\":{\"gridcolor\":\"white\",\"linecolor\":\"white\",\"ticks\":\"\",\"title\":{\"standoff\":15},\"zerolinecolor\":\"white\",\"automargin\":true,\"zerolinewidth\":2},\"scene\":{\"xaxis\":{\"backgroundcolor\":\"#E5ECF6\",\"gridcolor\":\"white\",\"linecolor\":\"white\",\"showbackground\":true,\"ticks\":\"\",\"zerolinecolor\":\"white\",\"gridwidth\":2},\"yaxis\":{\"backgroundcolor\":\"#E5ECF6\",\"gridcolor\":\"white\",\"linecolor\":\"white\",\"showbackground\":true,\"ticks\":\"\",\"zerolinecolor\":\"white\",\"gridwidth\":2},\"zaxis\":{\"backgroundcolor\":\"#E5ECF6\",\"gridcolor\":\"white\",\"linecolor\":\"white\",\"showbackground\":true,\"ticks\":\"\",\"zerolinecolor\":\"white\",\"gridwidth\":2}},\"shapedefaults\":{\"line\":{\"color\":\"#2a3f5f\"}},\"annotationdefaults\":{\"arrowcolor\":\"#2a3f5f\",\"arrowhead\":0,\"arrowwidth\":1},\"geo\":{\"bgcolor\":\"white\",\"landcolor\":\"#E5ECF6\",\"subunitcolor\":\"white\",\"showland\":true,\"showlakes\":true,\"lakecolor\":\"white\"},\"title\":{\"x\":0.05},\"mapbox\":{\"style\":\"light\"}}},\"title\":{\"font\":{\"size\":26,\"family\":\"Times New Roman\",\"color\":\"#000000\"},\"text\":\"Boxplot of Karnofsky Score\",\"y\":0.95,\"x\":0.15,\"xanchor\":\"center\",\"yanchor\":\"top\"},\"paper_bgcolor\":\"#ffffff\",\"plot_bgcolor\":\"#ffffff\",\"xaxis\":{\"title\":{\"text\":\"Karnofsky score\"}},\"margin\":{\"l\":50,\"r\":50,\"t\":80,\"b\":50},\"width\":1000},                        {\"responsive\": true}                    ).then(function(){\n",
       "                            \n",
       "var gd = document.getElementById('752bd3b2-8598-46cf-b1e1-f7791658d3b7');\n",
       "var x = new MutationObserver(function (mutations, observer) {{\n",
       "        var display = window.getComputedStyle(gd).display;\n",
       "        if (!display || display === 'none') {{\n",
       "            console.log([gd, 'removed!']);\n",
       "            Plotly.purge(gd);\n",
       "            observer.disconnect();\n",
       "        }}\n",
       "}});\n",
       "\n",
       "// Listen for the removal of the full notebook cells\n",
       "var notebookContainer = gd.closest('#notebook-container');\n",
       "if (notebookContainer) {{\n",
       "    x.observe(notebookContainer, {childList: true});\n",
       "}}\n",
       "\n",
       "// Listen for the clearing of the current output cell\n",
       "var outputEl = gd.closest('.output');\n",
       "if (outputEl) {{\n",
       "    x.observe(outputEl, {childList: true});\n",
       "}}\n",
       "\n",
       "                        })                };                });            </script>        </div>"
      ]
     },
     "metadata": {},
     "output_type": "display_data"
    }
   ],
   "source": [
    "fig = go.Figure(data=[go.Box(\n",
    "    x=df['karnof'],\n",
    "    marker=dict(color=palette[1])\n",
    ")])\n",
    "\n",
    "fig.update_layout(\n",
    "    title_text=\"Boxplot of Karnofsky Score\",\n",
    "    title_font_size=24,\n",
    "    title_font_family=\"Times New Roman\",\n",
    "    title_font_color=\"#000000\",  \n",
    "    paper_bgcolor='#ffffff',  \n",
    "    plot_bgcolor='#ffffff',  \n",
    "    xaxis=dict(title=\"Karnofsky score\"),\n",
    ")\n",
    "\n",
    "fig.update_layout(\n",
    "    title={\n",
    "        'y':0.95,\n",
    "        'x':0.15,\n",
    "        'xanchor': 'center',\n",
    "        'yanchor': 'top'},\n",
    "    title_font_size=26,\n",
    "    margin=dict(l=50, r=50, t=80, b=50)\n",
    ")\n",
    "\n",
    "\n",
    "\n",
    "fig.update_layout(width=1000)\n",
    "\n",
    "fig.show()"
   ]
  },
  {
   "cell_type": "code",
   "execution_count": 24,
   "id": "82573acd",
   "metadata": {
    "execution": {
     "iopub.execute_input": "2024-05-28T07:07:26.104677Z",
     "iopub.status.busy": "2024-05-28T07:07:26.103923Z",
     "iopub.status.idle": "2024-05-28T07:07:26.111390Z",
     "shell.execute_reply": "2024-05-28T07:07:26.110363Z"
    },
    "papermill": {
     "duration": 0.028054,
     "end_time": "2024-05-28T07:07:26.113524",
     "exception": false,
     "start_time": "2024-05-28T07:07:26.085470",
     "status": "completed"
    },
    "tags": []
   },
   "outputs": [
    {
     "data": {
      "text/plain": [
       "-1.243294303843015"
      ]
     },
     "execution_count": 24,
     "metadata": {},
     "output_type": "execute_result"
    }
   ],
   "source": [
    "df['karnof'].skew()"
   ]
  },
  {
   "cell_type": "markdown",
   "id": "e7addd80",
   "metadata": {
    "papermill": {
     "duration": 0.016928,
     "end_time": "2024-05-28T07:07:26.148211",
     "exception": false,
     "start_time": "2024-05-28T07:07:26.131283",
     "status": "completed"
    },
    "tags": []
   },
   "source": [
    "*negatively skewed data*"
   ]
  },
  {
   "cell_type": "markdown",
   "id": "9df1a9ba",
   "metadata": {
    "papermill": {
     "duration": 0.017207,
     "end_time": "2024-05-28T07:07:26.182471",
     "exception": false,
     "start_time": "2024-05-28T07:07:26.165264",
     "status": "completed"
    },
    "tags": []
   },
   "source": [
    "----------------------------------------------------------------------------------------------------------------------------------------------------------"
   ]
  }
 ],
 "metadata": {
  "kaggle": {
   "accelerator": "none",
   "dataSources": [
    {
     "datasetId": 4890913,
     "sourceId": 8249624,
     "sourceType": "datasetVersion"
    }
   ],
   "dockerImageVersionId": 30698,
   "isGpuEnabled": false,
   "isInternetEnabled": true,
   "language": "python",
   "sourceType": "notebook"
  },
  "kernelspec": {
   "display_name": "Python 3",
   "language": "python",
   "name": "python3"
  },
  "language_info": {
   "codemirror_mode": {
    "name": "ipython",
    "version": 3
   },
   "file_extension": ".py",
   "mimetype": "text/x-python",
   "name": "python",
   "nbconvert_exporter": "python",
   "pygments_lexer": "ipython3",
   "version": "3.10.13"
  },
  "papermill": {
   "default_parameters": {},
   "duration": 28.345525,
   "end_time": "2024-05-28T07:07:28.820993",
   "environment_variables": {},
   "exception": null,
   "input_path": "__notebook__.ipynb",
   "output_path": "__notebook__.ipynb",
   "parameters": {},
   "start_time": "2024-05-28T07:07:00.475468",
   "version": "2.5.0"
  }
 },
 "nbformat": 4,
 "nbformat_minor": 5
}
